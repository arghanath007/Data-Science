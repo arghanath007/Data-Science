{
  "nbformat": 4,
  "nbformat_minor": 0,
  "metadata": {
    "colab": {
      "name": "BERT.ipynb",
      "provenance": [],
      "collapsed_sections": []
    },
    "kernelspec": {
      "name": "python3",
      "display_name": "Python 3"
    },
    "language_info": {
      "name": "python"
    },
    "accelerator": "GPU"
  },
  "cells": [
    {
      "cell_type": "markdown",
      "source": [
        "# BERT Example\n",
        "\n",
        "\n",
        "* Here is the page that has list of all available bert models on tensorflow hub that one can download and make use of.\n",
        "\n",
        "    https://tfhub.dev/google/collections/bert/1\n",
        "\n",
        "* Here is the information on basic uncased BERT model,\n",
        "\n",
        "    https://tfhub.dev/tensorflow/bert_en_uncased_L-12_H-768_A-12/4\n",
        "\n",
        "* It uses L=12 hidden layers (i.e., Transformer blocks), a hidden size of H=768, and A=12 attention heads. This model has been pre-trained for English on the Wikipedia and BooksCorpus.\n"
      ],
      "metadata": {
        "id": "lLOQ3HPCi6RN"
      }
    },
    {
      "cell_type": "code",
      "source": [
        "!pip3 install tensorflow_text"
      ],
      "metadata": {
        "colab": {
          "base_uri": "https://localhost:8080/",
          "height": 1000
        },
        "id": "oUY67JLzi3Wi",
        "outputId": "eb43f5d8-0b13-4d66-ac9f-da2930bcf34b"
      },
      "execution_count": 2,
      "outputs": [
        {
          "output_type": "stream",
          "name": "stdout",
          "text": [
            "Collecting tensorflow_text\n",
            "  Downloading tensorflow_text-2.8.1-cp37-cp37m-manylinux_2_12_x86_64.manylinux2010_x86_64.whl (4.9 MB)\n",
            "\u001b[K     |████████████████████████████████| 4.9 MB 5.1 MB/s \n",
            "\u001b[?25hRequirement already satisfied: tensorflow-hub>=0.8.0 in /usr/local/lib/python3.7/dist-packages (from tensorflow_text) (0.12.0)\n",
            "Collecting tensorflow<2.9,>=2.8.0\n",
            "  Downloading tensorflow-2.8.0-cp37-cp37m-manylinux2010_x86_64.whl (497.5 MB)\n",
            "\u001b[K     |████████████████████████████████| 497.5 MB 26 kB/s \n",
            "\u001b[?25hCollecting tensorboard<2.9,>=2.8\n",
            "  Downloading tensorboard-2.8.0-py3-none-any.whl (5.8 MB)\n",
            "\u001b[K     |████████████████████████████████| 5.8 MB 33.1 MB/s \n",
            "\u001b[?25hRequirement already satisfied: tensorflow-io-gcs-filesystem>=0.23.1 in /usr/local/lib/python3.7/dist-packages (from tensorflow<2.9,>=2.8.0->tensorflow_text) (0.24.0)\n",
            "Collecting tf-estimator-nightly==2.8.0.dev2021122109\n",
            "  Downloading tf_estimator_nightly-2.8.0.dev2021122109-py2.py3-none-any.whl (462 kB)\n",
            "\u001b[K     |████████████████████████████████| 462 kB 44.2 MB/s \n",
            "\u001b[?25hRequirement already satisfied: gast>=0.2.1 in /usr/local/lib/python3.7/dist-packages (from tensorflow<2.9,>=2.8.0->tensorflow_text) (0.4.0)\n",
            "Collecting keras<2.9,>=2.8.0rc0\n",
            "  Downloading keras-2.8.0-py2.py3-none-any.whl (1.4 MB)\n",
            "\u001b[K     |████████████████████████████████| 1.4 MB 42.2 MB/s \n",
            "\u001b[?25hRequirement already satisfied: typing-extensions>=3.6.6 in /usr/local/lib/python3.7/dist-packages (from tensorflow<2.9,>=2.8.0->tensorflow_text) (3.10.0.2)\n",
            "Requirement already satisfied: grpcio<2.0,>=1.24.3 in /usr/local/lib/python3.7/dist-packages (from tensorflow<2.9,>=2.8.0->tensorflow_text) (1.43.0)\n",
            "Requirement already satisfied: flatbuffers>=1.12 in /usr/local/lib/python3.7/dist-packages (from tensorflow<2.9,>=2.8.0->tensorflow_text) (2.0)\n",
            "Requirement already satisfied: h5py>=2.9.0 in /usr/local/lib/python3.7/dist-packages (from tensorflow<2.9,>=2.8.0->tensorflow_text) (3.1.0)\n",
            "Requirement already satisfied: absl-py>=0.4.0 in /usr/local/lib/python3.7/dist-packages (from tensorflow<2.9,>=2.8.0->tensorflow_text) (1.0.0)\n",
            "Requirement already satisfied: wrapt>=1.11.0 in /usr/local/lib/python3.7/dist-packages (from tensorflow<2.9,>=2.8.0->tensorflow_text) (1.13.3)\n",
            "Collecting numpy>=1.20\n",
            "  Downloading numpy-1.21.5-cp37-cp37m-manylinux_2_12_x86_64.manylinux2010_x86_64.whl (15.7 MB)\n",
            "\u001b[K     |████████████████████████████████| 15.7 MB 34.3 MB/s \n",
            "\u001b[?25hRequirement already satisfied: six>=1.12.0 in /usr/local/lib/python3.7/dist-packages (from tensorflow<2.9,>=2.8.0->tensorflow_text) (1.15.0)\n",
            "Requirement already satisfied: termcolor>=1.1.0 in /usr/local/lib/python3.7/dist-packages (from tensorflow<2.9,>=2.8.0->tensorflow_text) (1.1.0)\n",
            "Requirement already satisfied: libclang>=9.0.1 in /usr/local/lib/python3.7/dist-packages (from tensorflow<2.9,>=2.8.0->tensorflow_text) (13.0.0)\n",
            "Requirement already satisfied: setuptools in /usr/local/lib/python3.7/dist-packages (from tensorflow<2.9,>=2.8.0->tensorflow_text) (57.4.0)\n",
            "Requirement already satisfied: keras-preprocessing>=1.1.1 in /usr/local/lib/python3.7/dist-packages (from tensorflow<2.9,>=2.8.0->tensorflow_text) (1.1.2)\n",
            "Requirement already satisfied: opt-einsum>=2.3.2 in /usr/local/lib/python3.7/dist-packages (from tensorflow<2.9,>=2.8.0->tensorflow_text) (3.3.0)\n",
            "Requirement already satisfied: google-pasta>=0.1.1 in /usr/local/lib/python3.7/dist-packages (from tensorflow<2.9,>=2.8.0->tensorflow_text) (0.2.0)\n",
            "Requirement already satisfied: protobuf>=3.9.2 in /usr/local/lib/python3.7/dist-packages (from tensorflow<2.9,>=2.8.0->tensorflow_text) (3.17.3)\n",
            "Requirement already satisfied: astunparse>=1.6.0 in /usr/local/lib/python3.7/dist-packages (from tensorflow<2.9,>=2.8.0->tensorflow_text) (1.6.3)\n",
            "Requirement already satisfied: wheel<1.0,>=0.23.0 in /usr/local/lib/python3.7/dist-packages (from astunparse>=1.6.0->tensorflow<2.9,>=2.8.0->tensorflow_text) (0.37.1)\n",
            "Requirement already satisfied: cached-property in /usr/local/lib/python3.7/dist-packages (from h5py>=2.9.0->tensorflow<2.9,>=2.8.0->tensorflow_text) (1.5.2)\n",
            "Requirement already satisfied: tensorboard-plugin-wit>=1.6.0 in /usr/local/lib/python3.7/dist-packages (from tensorboard<2.9,>=2.8->tensorflow<2.9,>=2.8.0->tensorflow_text) (1.8.1)\n",
            "Requirement already satisfied: tensorboard-data-server<0.7.0,>=0.6.0 in /usr/local/lib/python3.7/dist-packages (from tensorboard<2.9,>=2.8->tensorflow<2.9,>=2.8.0->tensorflow_text) (0.6.1)\n",
            "Requirement already satisfied: google-auth-oauthlib<0.5,>=0.4.1 in /usr/local/lib/python3.7/dist-packages (from tensorboard<2.9,>=2.8->tensorflow<2.9,>=2.8.0->tensorflow_text) (0.4.6)\n",
            "Requirement already satisfied: google-auth<3,>=1.6.3 in /usr/local/lib/python3.7/dist-packages (from tensorboard<2.9,>=2.8->tensorflow<2.9,>=2.8.0->tensorflow_text) (1.35.0)\n",
            "Requirement already satisfied: requests<3,>=2.21.0 in /usr/local/lib/python3.7/dist-packages (from tensorboard<2.9,>=2.8->tensorflow<2.9,>=2.8.0->tensorflow_text) (2.23.0)\n",
            "Requirement already satisfied: markdown>=2.6.8 in /usr/local/lib/python3.7/dist-packages (from tensorboard<2.9,>=2.8->tensorflow<2.9,>=2.8.0->tensorflow_text) (3.3.6)\n",
            "Requirement already satisfied: werkzeug>=0.11.15 in /usr/local/lib/python3.7/dist-packages (from tensorboard<2.9,>=2.8->tensorflow<2.9,>=2.8.0->tensorflow_text) (1.0.1)\n",
            "Requirement already satisfied: pyasn1-modules>=0.2.1 in /usr/local/lib/python3.7/dist-packages (from google-auth<3,>=1.6.3->tensorboard<2.9,>=2.8->tensorflow<2.9,>=2.8.0->tensorflow_text) (0.2.8)\n",
            "Requirement already satisfied: rsa<5,>=3.1.4 in /usr/local/lib/python3.7/dist-packages (from google-auth<3,>=1.6.3->tensorboard<2.9,>=2.8->tensorflow<2.9,>=2.8.0->tensorflow_text) (4.8)\n",
            "Requirement already satisfied: cachetools<5.0,>=2.0.0 in /usr/local/lib/python3.7/dist-packages (from google-auth<3,>=1.6.3->tensorboard<2.9,>=2.8->tensorflow<2.9,>=2.8.0->tensorflow_text) (4.2.4)\n",
            "Requirement already satisfied: requests-oauthlib>=0.7.0 in /usr/local/lib/python3.7/dist-packages (from google-auth-oauthlib<0.5,>=0.4.1->tensorboard<2.9,>=2.8->tensorflow<2.9,>=2.8.0->tensorflow_text) (1.3.1)\n",
            "Requirement already satisfied: importlib-metadata>=4.4 in /usr/local/lib/python3.7/dist-packages (from markdown>=2.6.8->tensorboard<2.9,>=2.8->tensorflow<2.9,>=2.8.0->tensorflow_text) (4.10.1)\n",
            "Requirement already satisfied: zipp>=0.5 in /usr/local/lib/python3.7/dist-packages (from importlib-metadata>=4.4->markdown>=2.6.8->tensorboard<2.9,>=2.8->tensorflow<2.9,>=2.8.0->tensorflow_text) (3.7.0)\n",
            "Requirement already satisfied: pyasn1<0.5.0,>=0.4.6 in /usr/local/lib/python3.7/dist-packages (from pyasn1-modules>=0.2.1->google-auth<3,>=1.6.3->tensorboard<2.9,>=2.8->tensorflow<2.9,>=2.8.0->tensorflow_text) (0.4.8)\n",
            "Requirement already satisfied: idna<3,>=2.5 in /usr/local/lib/python3.7/dist-packages (from requests<3,>=2.21.0->tensorboard<2.9,>=2.8->tensorflow<2.9,>=2.8.0->tensorflow_text) (2.10)\n",
            "Requirement already satisfied: urllib3!=1.25.0,!=1.25.1,<1.26,>=1.21.1 in /usr/local/lib/python3.7/dist-packages (from requests<3,>=2.21.0->tensorboard<2.9,>=2.8->tensorflow<2.9,>=2.8.0->tensorflow_text) (1.24.3)\n",
            "Requirement already satisfied: certifi>=2017.4.17 in /usr/local/lib/python3.7/dist-packages (from requests<3,>=2.21.0->tensorboard<2.9,>=2.8->tensorflow<2.9,>=2.8.0->tensorflow_text) (2021.10.8)\n",
            "Requirement already satisfied: chardet<4,>=3.0.2 in /usr/local/lib/python3.7/dist-packages (from requests<3,>=2.21.0->tensorboard<2.9,>=2.8->tensorflow<2.9,>=2.8.0->tensorflow_text) (3.0.4)\n",
            "Requirement already satisfied: oauthlib>=3.0.0 in /usr/local/lib/python3.7/dist-packages (from requests-oauthlib>=0.7.0->google-auth-oauthlib<0.5,>=0.4.1->tensorboard<2.9,>=2.8->tensorflow<2.9,>=2.8.0->tensorflow_text) (3.2.0)\n",
            "Installing collected packages: numpy, tf-estimator-nightly, tensorboard, keras, tensorflow, tensorflow-text\n",
            "  Attempting uninstall: numpy\n",
            "    Found existing installation: numpy 1.19.5\n",
            "    Uninstalling numpy-1.19.5:\n",
            "      Successfully uninstalled numpy-1.19.5\n",
            "  Attempting uninstall: tensorboard\n",
            "    Found existing installation: tensorboard 2.7.0\n",
            "    Uninstalling tensorboard-2.7.0:\n",
            "      Successfully uninstalled tensorboard-2.7.0\n",
            "  Attempting uninstall: keras\n",
            "    Found existing installation: keras 2.7.0\n",
            "    Uninstalling keras-2.7.0:\n",
            "      Successfully uninstalled keras-2.7.0\n",
            "  Attempting uninstall: tensorflow\n",
            "    Found existing installation: tensorflow 2.7.0\n",
            "    Uninstalling tensorflow-2.7.0:\n",
            "      Successfully uninstalled tensorflow-2.7.0\n",
            "\u001b[31mERROR: pip's dependency resolver does not currently take into account all the packages that are installed. This behaviour is the source of the following dependency conflicts.\n",
            "yellowbrick 1.3.post1 requires numpy<1.20,>=1.16.0, but you have numpy 1.21.5 which is incompatible.\n",
            "datascience 0.10.6 requires folium==0.2.1, but you have folium 0.8.3 which is incompatible.\n",
            "albumentations 0.1.12 requires imgaug<0.2.7,>=0.2.5, but you have imgaug 0.2.9 which is incompatible.\u001b[0m\n",
            "Successfully installed keras-2.8.0 numpy-1.21.5 tensorboard-2.8.0 tensorflow-2.8.0 tensorflow-text-2.8.1 tf-estimator-nightly-2.8.0.dev2021122109\n"
          ]
        },
        {
          "output_type": "display_data",
          "data": {
            "application/vnd.colab-display-data+json": {
              "pip_warning": {
                "packages": [
                  "keras",
                  "numpy",
                  "tensorboard",
                  "tensorflow",
                  "tensorflow_estimator"
                ]
              }
            }
          },
          "metadata": {}
        }
      ]
    },
    {
      "cell_type": "code",
      "execution_count": 1,
      "metadata": {
        "id": "E1gWQ5_diYl8"
      },
      "outputs": [],
      "source": [
        "import tensorflow_hub as hub\n",
        "import tensorflow_text as text"
      ]
    },
    {
      "cell_type": "markdown",
      "source": [
        "## Importing BERT model \n",
        "\n",
        "> Importing the BERT model from tensorflow hub"
      ],
      "metadata": {
        "id": "7SI86fpSimpR"
      }
    },
    {
      "cell_type": "code",
      "source": [
        "preprocess_url = \"https://tfhub.dev/tensorflow/bert_en_uncased_preprocess/3\"\n",
        "encoder_url = \"https://tfhub.dev/tensorflow/bert_en_uncased_L-12_H-768_A-12/4\""
      ],
      "metadata": {
        "id": "iDJ1NrZwj4PS"
      },
      "execution_count": 2,
      "outputs": []
    },
    {
      "cell_type": "markdown",
      "source": [
        "## Preprocessing"
      ],
      "metadata": {
        "id": "8T7x3yeQmsKW"
      }
    },
    {
      "cell_type": "code",
      "source": [
        "bert_preprocess_model=hub.KerasLayer(preprocess_url) # Layer 1"
      ],
      "metadata": {
        "id": "c2CxrFLBj5el"
      },
      "execution_count": 4,
      "outputs": []
    },
    {
      "cell_type": "code",
      "source": [
        "text_test=['nice movie indeed','I love python programming']\n",
        "text_preprocessed= bert_preprocess_model(text_test)\n",
        "text_preprocessed.keys()"
      ],
      "metadata": {
        "colab": {
          "base_uri": "https://localhost:8080/"
        },
        "id": "T_yixTOFkQpk",
        "outputId": "06507e9c-1c9a-44a0-b093-c37cfbd828fd"
      },
      "execution_count": 6,
      "outputs": [
        {
          "output_type": "execute_result",
          "data": {
            "text/plain": [
              "dict_keys(['input_word_ids', 'input_mask', 'input_type_ids'])"
            ]
          },
          "metadata": {},
          "execution_count": 6
        }
      ]
    },
    {
      "cell_type": "code",
      "source": [
        "text_preprocessed"
      ],
      "metadata": {
        "colab": {
          "base_uri": "https://localhost:8080/"
        },
        "id": "X8KFgg2Kk6pg",
        "outputId": "afd0186c-4df7-4edf-df3f-7ed7bc42ed69"
      },
      "execution_count": 7,
      "outputs": [
        {
          "output_type": "execute_result",
          "data": {
            "text/plain": [
              "{'input_mask': <tf.Tensor: shape=(2, 128), dtype=int32, numpy=\n",
              " array([[1, 1, 1, 1, 1, 0, 0, 0, 0, 0, 0, 0, 0, 0, 0, 0, 0, 0, 0, 0, 0, 0,\n",
              "         0, 0, 0, 0, 0, 0, 0, 0, 0, 0, 0, 0, 0, 0, 0, 0, 0, 0, 0, 0, 0, 0,\n",
              "         0, 0, 0, 0, 0, 0, 0, 0, 0, 0, 0, 0, 0, 0, 0, 0, 0, 0, 0, 0, 0, 0,\n",
              "         0, 0, 0, 0, 0, 0, 0, 0, 0, 0, 0, 0, 0, 0, 0, 0, 0, 0, 0, 0, 0, 0,\n",
              "         0, 0, 0, 0, 0, 0, 0, 0, 0, 0, 0, 0, 0, 0, 0, 0, 0, 0, 0, 0, 0, 0,\n",
              "         0, 0, 0, 0, 0, 0, 0, 0, 0, 0, 0, 0, 0, 0, 0, 0, 0, 0],\n",
              "        [1, 1, 1, 1, 1, 1, 0, 0, 0, 0, 0, 0, 0, 0, 0, 0, 0, 0, 0, 0, 0, 0,\n",
              "         0, 0, 0, 0, 0, 0, 0, 0, 0, 0, 0, 0, 0, 0, 0, 0, 0, 0, 0, 0, 0, 0,\n",
              "         0, 0, 0, 0, 0, 0, 0, 0, 0, 0, 0, 0, 0, 0, 0, 0, 0, 0, 0, 0, 0, 0,\n",
              "         0, 0, 0, 0, 0, 0, 0, 0, 0, 0, 0, 0, 0, 0, 0, 0, 0, 0, 0, 0, 0, 0,\n",
              "         0, 0, 0, 0, 0, 0, 0, 0, 0, 0, 0, 0, 0, 0, 0, 0, 0, 0, 0, 0, 0, 0,\n",
              "         0, 0, 0, 0, 0, 0, 0, 0, 0, 0, 0, 0, 0, 0, 0, 0, 0, 0]],\n",
              "       dtype=int32)>,\n",
              " 'input_type_ids': <tf.Tensor: shape=(2, 128), dtype=int32, numpy=\n",
              " array([[0, 0, 0, 0, 0, 0, 0, 0, 0, 0, 0, 0, 0, 0, 0, 0, 0, 0, 0, 0, 0, 0,\n",
              "         0, 0, 0, 0, 0, 0, 0, 0, 0, 0, 0, 0, 0, 0, 0, 0, 0, 0, 0, 0, 0, 0,\n",
              "         0, 0, 0, 0, 0, 0, 0, 0, 0, 0, 0, 0, 0, 0, 0, 0, 0, 0, 0, 0, 0, 0,\n",
              "         0, 0, 0, 0, 0, 0, 0, 0, 0, 0, 0, 0, 0, 0, 0, 0, 0, 0, 0, 0, 0, 0,\n",
              "         0, 0, 0, 0, 0, 0, 0, 0, 0, 0, 0, 0, 0, 0, 0, 0, 0, 0, 0, 0, 0, 0,\n",
              "         0, 0, 0, 0, 0, 0, 0, 0, 0, 0, 0, 0, 0, 0, 0, 0, 0, 0],\n",
              "        [0, 0, 0, 0, 0, 0, 0, 0, 0, 0, 0, 0, 0, 0, 0, 0, 0, 0, 0, 0, 0, 0,\n",
              "         0, 0, 0, 0, 0, 0, 0, 0, 0, 0, 0, 0, 0, 0, 0, 0, 0, 0, 0, 0, 0, 0,\n",
              "         0, 0, 0, 0, 0, 0, 0, 0, 0, 0, 0, 0, 0, 0, 0, 0, 0, 0, 0, 0, 0, 0,\n",
              "         0, 0, 0, 0, 0, 0, 0, 0, 0, 0, 0, 0, 0, 0, 0, 0, 0, 0, 0, 0, 0, 0,\n",
              "         0, 0, 0, 0, 0, 0, 0, 0, 0, 0, 0, 0, 0, 0, 0, 0, 0, 0, 0, 0, 0, 0,\n",
              "         0, 0, 0, 0, 0, 0, 0, 0, 0, 0, 0, 0, 0, 0, 0, 0, 0, 0]],\n",
              "       dtype=int32)>,\n",
              " 'input_word_ids': <tf.Tensor: shape=(2, 128), dtype=int32, numpy=\n",
              " array([[  101,  3835,  3185,  5262,   102,     0,     0,     0,     0,\n",
              "             0,     0,     0,     0,     0,     0,     0,     0,     0,\n",
              "             0,     0,     0,     0,     0,     0,     0,     0,     0,\n",
              "             0,     0,     0,     0,     0,     0,     0,     0,     0,\n",
              "             0,     0,     0,     0,     0,     0,     0,     0,     0,\n",
              "             0,     0,     0,     0,     0,     0,     0,     0,     0,\n",
              "             0,     0,     0,     0,     0,     0,     0,     0,     0,\n",
              "             0,     0,     0,     0,     0,     0,     0,     0,     0,\n",
              "             0,     0,     0,     0,     0,     0,     0,     0,     0,\n",
              "             0,     0,     0,     0,     0,     0,     0,     0,     0,\n",
              "             0,     0,     0,     0,     0,     0,     0,     0,     0,\n",
              "             0,     0,     0,     0,     0,     0,     0,     0,     0,\n",
              "             0,     0,     0,     0,     0,     0,     0,     0,     0,\n",
              "             0,     0,     0,     0,     0,     0,     0,     0,     0,\n",
              "             0,     0],\n",
              "        [  101,  1045,  2293, 18750,  4730,   102,     0,     0,     0,\n",
              "             0,     0,     0,     0,     0,     0,     0,     0,     0,\n",
              "             0,     0,     0,     0,     0,     0,     0,     0,     0,\n",
              "             0,     0,     0,     0,     0,     0,     0,     0,     0,\n",
              "             0,     0,     0,     0,     0,     0,     0,     0,     0,\n",
              "             0,     0,     0,     0,     0,     0,     0,     0,     0,\n",
              "             0,     0,     0,     0,     0,     0,     0,     0,     0,\n",
              "             0,     0,     0,     0,     0,     0,     0,     0,     0,\n",
              "             0,     0,     0,     0,     0,     0,     0,     0,     0,\n",
              "             0,     0,     0,     0,     0,     0,     0,     0,     0,\n",
              "             0,     0,     0,     0,     0,     0,     0,     0,     0,\n",
              "             0,     0,     0,     0,     0,     0,     0,     0,     0,\n",
              "             0,     0,     0,     0,     0,     0,     0,     0,     0,\n",
              "             0,     0,     0,     0,     0,     0,     0,     0,     0,\n",
              "             0,     0]], dtype=int32)>}"
            ]
          },
          "metadata": {},
          "execution_count": 7
        }
      ]
    },
    {
      "cell_type": "code",
      "source": [
        "text_preprocessed['input_mask'][0]"
      ],
      "metadata": {
        "colab": {
          "base_uri": "https://localhost:8080/"
        },
        "id": "IbolTPH9k9vO",
        "outputId": "54c79bbc-d671-41c1-ea04-c500ce667931"
      },
      "execution_count": 9,
      "outputs": [
        {
          "output_type": "execute_result",
          "data": {
            "text/plain": [
              "<tf.Tensor: shape=(128,), dtype=int32, numpy=\n",
              "array([1, 1, 1, 1, 1, 0, 0, 0, 0, 0, 0, 0, 0, 0, 0, 0, 0, 0, 0, 0, 0, 0,\n",
              "       0, 0, 0, 0, 0, 0, 0, 0, 0, 0, 0, 0, 0, 0, 0, 0, 0, 0, 0, 0, 0, 0,\n",
              "       0, 0, 0, 0, 0, 0, 0, 0, 0, 0, 0, 0, 0, 0, 0, 0, 0, 0, 0, 0, 0, 0,\n",
              "       0, 0, 0, 0, 0, 0, 0, 0, 0, 0, 0, 0, 0, 0, 0, 0, 0, 0, 0, 0, 0, 0,\n",
              "       0, 0, 0, 0, 0, 0, 0, 0, 0, 0, 0, 0, 0, 0, 0, 0, 0, 0, 0, 0, 0, 0,\n",
              "       0, 0, 0, 0, 0, 0, 0, 0, 0, 0, 0, 0, 0, 0, 0, 0, 0, 0], dtype=int32)>"
            ]
          },
          "metadata": {},
          "execution_count": 9
        }
      ]
    },
    {
      "cell_type": "code",
      "source": [
        "text_preprocessed['input_type_ids']"
      ],
      "metadata": {
        "colab": {
          "base_uri": "https://localhost:8080/"
        },
        "id": "bGHyl_qIlG9X",
        "outputId": "38f7c3a8-8871-4c00-c159-5d119d0fd640"
      },
      "execution_count": 10,
      "outputs": [
        {
          "output_type": "execute_result",
          "data": {
            "text/plain": [
              "<tf.Tensor: shape=(2, 128), dtype=int32, numpy=\n",
              "array([[0, 0, 0, 0, 0, 0, 0, 0, 0, 0, 0, 0, 0, 0, 0, 0, 0, 0, 0, 0, 0, 0,\n",
              "        0, 0, 0, 0, 0, 0, 0, 0, 0, 0, 0, 0, 0, 0, 0, 0, 0, 0, 0, 0, 0, 0,\n",
              "        0, 0, 0, 0, 0, 0, 0, 0, 0, 0, 0, 0, 0, 0, 0, 0, 0, 0, 0, 0, 0, 0,\n",
              "        0, 0, 0, 0, 0, 0, 0, 0, 0, 0, 0, 0, 0, 0, 0, 0, 0, 0, 0, 0, 0, 0,\n",
              "        0, 0, 0, 0, 0, 0, 0, 0, 0, 0, 0, 0, 0, 0, 0, 0, 0, 0, 0, 0, 0, 0,\n",
              "        0, 0, 0, 0, 0, 0, 0, 0, 0, 0, 0, 0, 0, 0, 0, 0, 0, 0],\n",
              "       [0, 0, 0, 0, 0, 0, 0, 0, 0, 0, 0, 0, 0, 0, 0, 0, 0, 0, 0, 0, 0, 0,\n",
              "        0, 0, 0, 0, 0, 0, 0, 0, 0, 0, 0, 0, 0, 0, 0, 0, 0, 0, 0, 0, 0, 0,\n",
              "        0, 0, 0, 0, 0, 0, 0, 0, 0, 0, 0, 0, 0, 0, 0, 0, 0, 0, 0, 0, 0, 0,\n",
              "        0, 0, 0, 0, 0, 0, 0, 0, 0, 0, 0, 0, 0, 0, 0, 0, 0, 0, 0, 0, 0, 0,\n",
              "        0, 0, 0, 0, 0, 0, 0, 0, 0, 0, 0, 0, 0, 0, 0, 0, 0, 0, 0, 0, 0, 0,\n",
              "        0, 0, 0, 0, 0, 0, 0, 0, 0, 0, 0, 0, 0, 0, 0, 0, 0, 0]],\n",
              "      dtype=int32)>"
            ]
          },
          "metadata": {},
          "execution_count": 10
        }
      ]
    },
    {
      "cell_type": "code",
      "source": [
        "text_preprocessed['input_word_ids']  # These are the individual unique ids for these words. It could be the ids from a vocabulary."
      ],
      "metadata": {
        "colab": {
          "base_uri": "https://localhost:8080/"
        },
        "id": "Xj2UkjVwmU_R",
        "outputId": "831e1f0f-73bb-4d10-949b-90506e6ca123"
      },
      "execution_count": 11,
      "outputs": [
        {
          "output_type": "execute_result",
          "data": {
            "text/plain": [
              "<tf.Tensor: shape=(2, 128), dtype=int32, numpy=\n",
              "array([[  101,  3835,  3185,  5262,   102,     0,     0,     0,     0,\n",
              "            0,     0,     0,     0,     0,     0,     0,     0,     0,\n",
              "            0,     0,     0,     0,     0,     0,     0,     0,     0,\n",
              "            0,     0,     0,     0,     0,     0,     0,     0,     0,\n",
              "            0,     0,     0,     0,     0,     0,     0,     0,     0,\n",
              "            0,     0,     0,     0,     0,     0,     0,     0,     0,\n",
              "            0,     0,     0,     0,     0,     0,     0,     0,     0,\n",
              "            0,     0,     0,     0,     0,     0,     0,     0,     0,\n",
              "            0,     0,     0,     0,     0,     0,     0,     0,     0,\n",
              "            0,     0,     0,     0,     0,     0,     0,     0,     0,\n",
              "            0,     0,     0,     0,     0,     0,     0,     0,     0,\n",
              "            0,     0,     0,     0,     0,     0,     0,     0,     0,\n",
              "            0,     0,     0,     0,     0,     0,     0,     0,     0,\n",
              "            0,     0,     0,     0,     0,     0,     0,     0,     0,\n",
              "            0,     0],\n",
              "       [  101,  1045,  2293, 18750,  4730,   102,     0,     0,     0,\n",
              "            0,     0,     0,     0,     0,     0,     0,     0,     0,\n",
              "            0,     0,     0,     0,     0,     0,     0,     0,     0,\n",
              "            0,     0,     0,     0,     0,     0,     0,     0,     0,\n",
              "            0,     0,     0,     0,     0,     0,     0,     0,     0,\n",
              "            0,     0,     0,     0,     0,     0,     0,     0,     0,\n",
              "            0,     0,     0,     0,     0,     0,     0,     0,     0,\n",
              "            0,     0,     0,     0,     0,     0,     0,     0,     0,\n",
              "            0,     0,     0,     0,     0,     0,     0,     0,     0,\n",
              "            0,     0,     0,     0,     0,     0,     0,     0,     0,\n",
              "            0,     0,     0,     0,     0,     0,     0,     0,     0,\n",
              "            0,     0,     0,     0,     0,     0,     0,     0,     0,\n",
              "            0,     0,     0,     0,     0,     0,     0,     0,     0,\n",
              "            0,     0,     0,     0,     0,     0,     0,     0,     0,\n",
              "            0,     0]], dtype=int32)>"
            ]
          },
          "metadata": {},
          "execution_count": 11
        }
      ]
    },
    {
      "cell_type": "markdown",
      "source": [
        "## Word Embeddings"
      ],
      "metadata": {
        "id": "EfyqJ0qpmXVg"
      }
    },
    {
      "cell_type": "code",
      "source": [
        "bert_model=hub.KerasLayer(encoder_url) # Layer 2\n",
        "\n",
        "bert_results=bert_model(text_preprocessed)\n",
        "bert_results.keys()"
      ],
      "metadata": {
        "colab": {
          "base_uri": "https://localhost:8080/"
        },
        "id": "YgOk62brnN7L",
        "outputId": "eebe08e8-e4e7-4cd0-8ed4-14208a812f7d"
      },
      "execution_count": 12,
      "outputs": [
        {
          "output_type": "execute_result",
          "data": {
            "text/plain": [
              "dict_keys(['sequence_output', 'pooled_output', 'default', 'encoder_outputs'])"
            ]
          },
          "metadata": {},
          "execution_count": 12
        }
      ]
    },
    {
      "cell_type": "code",
      "source": [
        "# Embedding for the entire sentence or Embedding vectors\n",
        "\n",
        "bert_results['pooled_output']"
      ],
      "metadata": {
        "colab": {
          "base_uri": "https://localhost:8080/"
        },
        "id": "uqfzQZ7HneaF",
        "outputId": "d41d918b-ad77-429c-808e-165f79f104d9"
      },
      "execution_count": 14,
      "outputs": [
        {
          "output_type": "execute_result",
          "data": {
            "text/plain": [
              "<tf.Tensor: shape=(2, 768), dtype=float32, numpy=\n",
              "array([[-0.79177463, -0.21411951,  0.49769327, ...,  0.24465072,\n",
              "        -0.47334516,  0.81758744],\n",
              "       [-0.91712326, -0.4793521 , -0.78657013, ..., -0.617518  ,\n",
              "        -0.71026915,  0.92184293]], dtype=float32)>"
            ]
          },
          "metadata": {},
          "execution_count": 14
        }
      ]
    },
    {
      "cell_type": "code",
      "source": [
        "bert_results['sequence_output']"
      ],
      "metadata": {
        "colab": {
          "base_uri": "https://localhost:8080/"
        },
        "id": "mdDFG8FhoEem",
        "outputId": "de6eecf6-a2d7-4e3c-f2f8-b644f450b4bf"
      },
      "execution_count": 15,
      "outputs": [
        {
          "output_type": "execute_result",
          "data": {
            "text/plain": [
              "<tf.Tensor: shape=(2, 128, 768), dtype=float32, numpy=\n",
              "array([[[ 0.07292038,  0.08567842,  0.14476822, ..., -0.09677143,\n",
              "          0.08722145,  0.07711081],\n",
              "        [ 0.17839344, -0.19006258,  0.5034949 , ..., -0.0586981 ,\n",
              "          0.32717144, -0.15578583],\n",
              "        [ 0.18701449, -0.43388814, -0.48875296, ..., -0.15502766,\n",
              "          0.00145172, -0.2447103 ],\n",
              "        ...,\n",
              "        [ 0.12083013,  0.12884311,  0.4645362 , ...,  0.07375546,\n",
              "          0.17441897,  0.16522236],\n",
              "        [ 0.07967884, -0.01190644,  0.5022541 , ...,  0.13777748,\n",
              "          0.210022  ,  0.00624548],\n",
              "        [-0.07212698, -0.28303394,  0.5903344 , ...,  0.4755187 ,\n",
              "          0.1666846 , -0.08920381]],\n",
              "\n",
              "       [[-0.07900536,  0.36335137, -0.21101594, ..., -0.171837  ,\n",
              "          0.16299717,  0.6724262 ],\n",
              "        [ 0.27883533,  0.43716228, -0.35764885, ..., -0.04463524,\n",
              "          0.38315073,  0.58879745],\n",
              "        [ 1.2037673 ,  1.072702  ,  0.48408717, ...,  0.24921033,\n",
              "          0.4073103 ,  0.4048179 ],\n",
              "        ...,\n",
              "        [ 0.08630094,  0.19353813,  0.47540012, ...,  0.18880174,\n",
              "         -0.06474142,  0.31318557],\n",
              "        [ 0.1588704 ,  0.2857267 ,  0.37340763, ...,  0.09309127,\n",
              "         -0.0496955 ,  0.387611  ],\n",
              "        [-0.08079785, -0.09572835,  0.26809838, ...,  0.13979656,\n",
              "         -0.06315874,  0.272883  ]]], dtype=float32)>"
            ]
          },
          "metadata": {},
          "execution_count": 15
        }
      ]
    },
    {
      "cell_type": "code",
      "source": [
        "bert_results['encoder_outputs']"
      ],
      "metadata": {
        "colab": {
          "base_uri": "https://localhost:8080/"
        },
        "id": "VuNa-HnOoXhe",
        "outputId": "b6ec2ca2-e062-4fd4-92ec-b543ead0d0bf"
      },
      "execution_count": 16,
      "outputs": [
        {
          "output_type": "execute_result",
          "data": {
            "text/plain": [
              "[<tf.Tensor: shape=(2, 128, 768), dtype=float32, numpy=\n",
              " array([[[ 0.12901425,  0.00644732, -0.03614959, ...,  0.04999626,\n",
              "           0.06149194, -0.02657545],\n",
              "         [ 1.1753378 ,  1.2140784 ,  1.1569978 , ...,  0.11634377,\n",
              "          -0.3585534 , -0.4049019 ],\n",
              "         [ 0.03859021,  0.5386997 , -0.21089756, ...,  0.21858235,\n",
              "           0.7260173 , -1.1158612 ],\n",
              "         ...,\n",
              "         [-0.07587024, -0.25421894,  0.7075514 , ...,  0.505419  ,\n",
              "          -0.1887869 ,  0.15028353],\n",
              "         [-0.1606659 , -0.28089708,  0.5759705 , ...,  0.5275857 ,\n",
              "          -0.11141351,  0.02887536],\n",
              "         [-0.04428169, -0.2027955 ,  0.5909354 , ...,  0.8133834 ,\n",
              "          -0.3907574 , -0.02601734]],\n",
              " \n",
              "        [[ 0.18903583,  0.02752563, -0.06513733, ..., -0.006202  ,\n",
              "           0.15053886,  0.03165463],\n",
              "         [ 0.59161484,  0.7589136 , -0.07240709, ...,  0.6190397 ,\n",
              "           0.8292891 ,  0.16161957],\n",
              "         [ 1.446081  ,  0.4460263 ,  0.40990278, ...,  0.48255885,\n",
              "           0.6269118 ,  0.13463339],\n",
              "         ...,\n",
              "         [ 0.15147895, -0.21573825,  0.70329106, ..., -0.12537268,\n",
              "          -0.13787241,  0.27722076],\n",
              "         [ 0.05143777, -0.24052705,  0.5356912 , ..., -0.07915041,\n",
              "          -0.03307881,  0.17380932],\n",
              "         [ 0.20934743, -0.15645264,  0.6039548 , ...,  0.32903543,\n",
              "          -0.35827157,  0.08100449]]], dtype=float32)>,\n",
              " <tf.Tensor: shape=(2, 128, 768), dtype=float32, numpy=\n",
              " array([[[ 0.01418148, -0.22088279, -0.15028149, ...,  0.11415625,\n",
              "           0.12618083,  0.04843431],\n",
              "         [ 1.2033898 ,  1.3469869 ,  1.7064534 , ...,  0.3061056 ,\n",
              "          -0.5074259 , -0.55147505],\n",
              "         [ 0.42169118,  0.8110244 , -0.25631547, ..., -0.07722446,\n",
              "           0.89372385, -1.4472061 ],\n",
              "         ...,\n",
              "         [-0.19047463, -0.23860845,  0.81412035, ...,  0.9749353 ,\n",
              "          -0.34774125, -0.08733528],\n",
              "         [-0.27150977, -0.31985044,  0.7659381 , ...,  0.9676161 ,\n",
              "          -0.29511896, -0.15731779],\n",
              "         [-0.21302739, -0.19229713,  0.733878  , ...,  1.1040448 ,\n",
              "          -0.45102832, -0.20683065]],\n",
              " \n",
              "        [[ 0.08973328, -0.18419683, -0.16645087, ...,  0.02761344,\n",
              "           0.11187725,  0.08041716],\n",
              "         [ 0.5831132 ,  0.59570265,  0.3601955 , ...,  0.41270047,\n",
              "           0.2680923 ,  0.28400597],\n",
              "         [ 2.116666  ,  0.5176933 ,  0.8637748 , ...,  0.7178724 ,\n",
              "           0.32405114,  0.09739935],\n",
              "         ...,\n",
              "         [ 0.243729  , -0.05775531,  0.68428797, ...,  0.43483603,\n",
              "          -0.57660925, -0.11131094],\n",
              "         [ 0.168039  , -0.03091832,  0.5863848 , ...,  0.49625763,\n",
              "          -0.5056795 , -0.20782225],\n",
              "         [ 0.24831763,  0.00315458,  0.5159256 , ...,  0.805025  ,\n",
              "          -0.69899607, -0.24186406]]], dtype=float32)>,\n",
              " <tf.Tensor: shape=(2, 128, 768), dtype=float32, numpy=\n",
              " array([[[ 0.02275401, -0.2798025 ,  0.02345767, ...,  0.2786702 ,\n",
              "           0.11714831,  0.18175139],\n",
              "         [ 1.2574832 ,  0.8725084 ,  1.6266019 , ...,  0.45210847,\n",
              "          -0.80902505, -0.5448982 ],\n",
              "         [ 0.7521989 ,  0.63573647, -0.20566116, ..., -0.3238181 ,\n",
              "           0.7574956 , -1.458793  ],\n",
              "         ...,\n",
              "         [-0.15107462, -0.21129096,  0.9689458 , ...,  1.1261963 ,\n",
              "          -0.03213999, -0.22340184],\n",
              "         [-0.2812562 , -0.31140092,  0.8432885 , ...,  1.1342661 ,\n",
              "          -0.08336665, -0.25161245],\n",
              "         [-0.24449062, -0.21537906,  0.94809824, ...,  1.2419425 ,\n",
              "          -0.1987347 , -0.337526  ]],\n",
              " \n",
              "        [[ 0.10617056, -0.27990752, -0.01731824, ...,  0.20060425,\n",
              "           0.08148412,  0.21859075],\n",
              "         [ 0.6892585 ,  0.31591448,  0.5558663 , ...,  0.69039494,\n",
              "          -0.07141581,  0.41407207],\n",
              "         [ 2.5758872 ,  0.6252091 ,  1.2503712 , ...,  0.4395771 ,\n",
              "          -0.18525556, -0.05004877],\n",
              "         ...,\n",
              "         [ 0.20464368, -0.01561991,  0.8343146 , ...,  0.80149627,\n",
              "          -0.12853858, -0.35842094],\n",
              "         [-0.02875579,  0.05097765,  0.68159264, ...,  0.9003143 ,\n",
              "          -0.12434834, -0.422564  ],\n",
              "         [ 0.13327721,  0.02257268,  0.77221787, ...,  1.02112   ,\n",
              "          -0.30834654, -0.45623216]]], dtype=float32)>,\n",
              " <tf.Tensor: shape=(2, 128, 768), dtype=float32, numpy=\n",
              " array([[[ 0.11484937, -0.644411  , -0.14245167, ...,  0.25474164,\n",
              "           0.00378416,  0.6110518 ],\n",
              "         [ 1.3035421 ,  0.7706053 ,  1.3185002 , ...,  0.35822457,\n",
              "          -0.6412151 , -0.32795352],\n",
              "         [ 1.1896739 ,  0.6279436 , -0.67501634, ..., -0.2887067 ,\n",
              "           0.477919  , -1.2806    ],\n",
              "         ...,\n",
              "         [-0.22614805, -0.6276298 ,  1.0227481 , ...,  0.8292316 ,\n",
              "          -0.4031468 ,  0.04389334],\n",
              "         [-0.3990142 , -0.7561915 ,  0.74893796, ...,  0.74922633,\n",
              "          -0.45077705, -0.00367966],\n",
              "         [-0.377288  , -0.78310424,  0.9057244 , ...,  0.97362375,\n",
              "          -0.4828575 , -0.07389852]],\n",
              " \n",
              "        [[ 0.15151429, -0.70752287, -0.27520522, ...,  0.44345927,\n",
              "          -0.20920432,  0.4986015 ],\n",
              "         [ 0.8864792 , -0.24838233,  0.73537445, ...,  0.74179375,\n",
              "          -0.13177197,  0.10158528],\n",
              "         [ 2.586579  ,  0.61882836,  0.52798784, ...,  0.8487308 ,\n",
              "          -0.59150237,  0.02349831],\n",
              "         ...,\n",
              "         [-0.05526839, -0.43394697,  1.1783323 , ...,  0.9179174 ,\n",
              "          -0.45718148, -0.25014672],\n",
              "         [-0.2932865 , -0.23091191,  0.9938014 , ...,  1.035379  ,\n",
              "          -0.42435807, -0.3494765 ],\n",
              "         [-0.1589919 , -0.50098217,  0.9814226 , ...,  1.1373087 ,\n",
              "          -0.6188833 , -0.4445779 ]]], dtype=float32)>,\n",
              " <tf.Tensor: shape=(2, 128, 768), dtype=float32, numpy=\n",
              " array([[[-0.22174826, -0.42225322, -0.04923964, ..., -0.26284194,\n",
              "           0.06099954,  0.63794935],\n",
              "         [ 1.1627895 ,  0.67705363,  1.3072392 , ...,  0.2279467 ,\n",
              "          -0.5432943 , -0.27383232],\n",
              "         [ 1.5308232 ,  0.7222545 , -0.43608692, ...,  0.27435794,\n",
              "           0.24980266, -0.98753816],\n",
              "         ...,\n",
              "         [-0.17669755, -0.31260547,  1.0875318 , ...,  0.5924224 ,\n",
              "           0.01275297, -0.2817189 ],\n",
              "         [-0.34473747, -0.42430085,  0.8798024 , ...,  0.54826254,\n",
              "          -0.08151975, -0.34001443],\n",
              "         [-0.48139897, -0.3132427 ,  1.1702346 , ...,  0.87309945,\n",
              "          -0.07970236, -0.45325547]],\n",
              " \n",
              "        [[-0.2160809 , -0.89864206, -0.44991598, ..., -0.0828618 ,\n",
              "          -0.17226869,  0.66199845],\n",
              "         [ 0.6661444 , -0.54916966,  0.46460494, ...,  0.17649361,\n",
              "           0.22822502,  0.34962225],\n",
              "         [ 2.0629604 ,  0.6991985 ,  0.35604417, ...,  0.5295332 ,\n",
              "          -0.34809312,  0.00831309],\n",
              "         ...,\n",
              "         [-0.11593978, -0.17149237,  0.89943886, ...,  0.62990063,\n",
              "          -0.3399028 , -0.20049314],\n",
              "         [-0.13007517, -0.02739064,  0.707998  , ...,  0.80594665,\n",
              "          -0.30724108, -0.19956402],\n",
              "         [-0.26314935, -0.26137075,  0.6338576 , ...,  0.8150184 ,\n",
              "          -0.45400354, -0.35120744]]], dtype=float32)>,\n",
              " <tf.Tensor: shape=(2, 128, 768), dtype=float32, numpy=\n",
              " array([[[-0.03392683, -0.39431527,  0.04223846, ..., -0.07905666,\n",
              "           0.01993925,  0.769207  ],\n",
              "         [ 1.4294347 , -0.08699033,  1.5299493 , ...,  0.22512224,\n",
              "          -1.0060066 , -0.23702168],\n",
              "         [ 1.5031744 ,  0.6725792 , -0.52590245, ...,  0.10907   ,\n",
              "           0.27042478, -1.2567503 ],\n",
              "         ...,\n",
              "         [-0.30033624, -0.02261891,  1.3187411 , ...,  0.69288874,\n",
              "          -0.09798466, -0.17419647],\n",
              "         [-0.43754137, -0.21149233,  1.1094575 , ...,  0.5006614 ,\n",
              "          -0.17692411, -0.18529154],\n",
              "         [-0.65920544, -0.1960787 ,  1.313407  , ...,  0.73200756,\n",
              "          -0.19967389, -0.32469243]],\n",
              " \n",
              "        [[-0.27334625, -0.9526852 , -0.7869666 , ..., -0.12205292,\n",
              "          -0.08783812,  0.7581167 ],\n",
              "         [ 0.46756923, -0.16237596, -0.01155945, ...,  0.18781257,\n",
              "           0.621647  ,  0.03009869],\n",
              "         [ 1.7947384 ,  0.9051076 ,  0.08580819, ...,  0.770935  ,\n",
              "          -0.66827905, -0.06755565],\n",
              "         ...,\n",
              "         [-0.183374  , -0.15806575,  1.1826935 , ...,  0.83047473,\n",
              "          -0.39406458, -0.23047769],\n",
              "         [-0.2227014 ,  0.00975987,  0.9340852 , ...,  1.128667  ,\n",
              "          -0.3488432 , -0.19491515],\n",
              "         [-0.30386168, -0.29683107,  0.8247176 , ...,  1.0090827 ,\n",
              "          -0.4640767 , -0.31465662]]], dtype=float32)>,\n",
              " <tf.Tensor: shape=(2, 128, 768), dtype=float32, numpy=\n",
              " array([[[-0.23803413, -0.6655419 ,  0.29917315, ...,  0.03415106,\n",
              "           0.29362833,  0.96536314],\n",
              "         [ 1.5040746 ,  0.00695028,  1.431414  , ...,  0.24628787,\n",
              "          -0.552195  , -0.3221539 ],\n",
              "         [ 1.362903  ,  0.47741812, -0.61530006, ...,  0.08587036,\n",
              "           0.43922645, -1.5594156 ],\n",
              "         ...,\n",
              "         [-0.16864091,  0.00209662,  1.3201765 , ...,  0.94280505,\n",
              "          -0.04737359,  0.21490599],\n",
              "         [-0.26666397, -0.24881291,  1.2213265 , ...,  0.63527995,\n",
              "          -0.04442494,  0.04466207],\n",
              "         [-0.53366214, -0.35796016,  1.3447878 , ...,  0.6038441 ,\n",
              "          -0.08427206, -0.15712216]],\n",
              " \n",
              "        [[-0.05967448, -0.84482193, -0.8939019 , ..., -0.10863814,\n",
              "           0.40932396,  0.7940859 ],\n",
              "         [ 0.54404944, -0.31963053, -0.45491642, ...,  0.48068696,\n",
              "           0.77862555,  0.22774284],\n",
              "         [ 1.4479859 ,  1.1230608 ,  0.09567894, ...,  1.3554286 ,\n",
              "           0.06143568, -0.00836943],\n",
              "         ...,\n",
              "         [ 0.2565244 , -0.14106567,  1.1854345 , ...,  0.9568362 ,\n",
              "          -0.2160396 , -0.06946445],\n",
              "         [ 0.25819036,  0.07949173,  0.9851656 , ...,  1.0518227 ,\n",
              "          -0.07890863, -0.12841561],\n",
              "         [-0.05268846, -0.33431333,  0.9637354 , ...,  0.896072  ,\n",
              "          -0.10082386, -0.28129652]]], dtype=float32)>,\n",
              " <tf.Tensor: shape=(2, 128, 768), dtype=float32, numpy=\n",
              " array([[[-7.0827395e-02, -2.5689998e-01, -3.5961755e-02, ...,\n",
              "          -3.5881269e-01,  1.3524771e-01,  1.0136120e+00],\n",
              "         [ 9.7471809e-01, -1.9712919e-01,  1.4318084e+00, ...,\n",
              "          -1.4052075e-01, -5.0431244e-02, -2.7141249e-02],\n",
              "         [ 1.1273397e+00,  2.7122766e-01, -2.8623030e-01, ...,\n",
              "           9.3385607e-02,  2.9908359e-01, -1.3764443e+00],\n",
              "         ...,\n",
              "         [-9.5787764e-02,  2.9180863e-01,  1.5879146e+00, ...,\n",
              "           8.5004276e-01, -5.1285334e-02,  2.0340258e-01],\n",
              "         [-2.2268820e-01, -8.3895914e-02,  1.7256007e+00, ...,\n",
              "           6.1222184e-01,  1.0976507e-01,  7.0046134e-02],\n",
              "         [-5.7830131e-01, -3.5915640e-01,  1.6035967e+00, ...,\n",
              "           3.4189832e-01,  5.2879758e-02, -1.5401094e-01]],\n",
              " \n",
              "        [[ 6.1017573e-02, -3.5161620e-01, -8.4891450e-01, ...,\n",
              "          -4.8554951e-01,  4.2703050e-01,  6.3828987e-01],\n",
              "         [ 6.6376424e-01,  1.8235948e-04, -7.9079014e-01, ...,\n",
              "           3.0687013e-01,  7.5843704e-01,  7.3240072e-01],\n",
              "         [ 1.4494693e+00,  1.1265039e+00,  1.7709133e-01, ...,\n",
              "           2.3471422e-01,  3.4929475e-01,  4.3709761e-01],\n",
              "         ...,\n",
              "         [ 3.2339686e-01,  1.7575872e-01,  8.7672389e-01, ...,\n",
              "           9.8904020e-01, -2.7050883e-01, -3.0809492e-01],\n",
              "         [ 4.0404183e-01,  5.1364976e-01,  7.2748232e-01, ...,\n",
              "           9.4942135e-01, -1.0214945e-02, -3.4644333e-01],\n",
              "         [-9.1295522e-03, -8.7016240e-02,  7.3032010e-01, ...,\n",
              "           8.5439926e-01, -1.3661274e-01, -4.7493592e-01]]], dtype=float32)>,\n",
              " <tf.Tensor: shape=(2, 128, 768), dtype=float32, numpy=\n",
              " array([[[-0.09403478, -0.0598767 , -0.0117164 , ..., -0.22167523,\n",
              "          -0.07650171,  0.5765818 ],\n",
              "         [ 0.7748054 ,  0.15188155,  1.0920016 , ..., -0.1956233 ,\n",
              "           0.15173191, -0.01071334],\n",
              "         [ 0.8519132 ,  0.25842696, -0.77035624, ...,  0.03356654,\n",
              "           0.34010494, -1.3918686 ],\n",
              "         ...,\n",
              "         [-0.19780524,  0.5281987 ,  0.90235156, ...,  0.27919728,\n",
              "          -0.28764293,  0.75109774],\n",
              "         [-0.3506738 ,  0.09291989,  1.338333  , ...,  0.22619557,\n",
              "          -0.03589104,  0.27343875],\n",
              "         [-0.9044524 , -0.20991148,  1.1977339 , ...,  0.35118508,\n",
              "          -0.21743806,  0.01482184]],\n",
              " \n",
              "        [[-0.07011101, -0.02392474, -0.6192439 , ..., -0.14541942,\n",
              "           0.34049332,  0.41224715],\n",
              "         [ 0.59261554,  0.19015925, -0.3739971 , ...,  0.37239558,\n",
              "           0.39152873,  0.42580396],\n",
              "         [ 1.1394775 ,  0.8439855 ,  0.38893914, ...,  0.20898223,\n",
              "           0.25176358,  0.26399997],\n",
              "         ...,\n",
              "         [ 0.43306106,  0.42012167,  1.09651   , ...,  1.1872357 ,\n",
              "          -0.16672137,  0.00856114],\n",
              "         [ 0.5754235 ,  0.86609405,  1.1184691 , ...,  1.0475057 ,\n",
              "           0.04264351, -0.01540327],\n",
              "         [-0.05487824, -0.07306813,  0.9012236 , ...,  0.80045545,\n",
              "          -0.16820705, -0.355074  ]]], dtype=float32)>,\n",
              " <tf.Tensor: shape=(2, 128, 768), dtype=float32, numpy=\n",
              " array([[[-0.2267131 ,  0.03110847,  0.32186082, ..., -0.2809027 ,\n",
              "          -0.75050944,  0.44557944],\n",
              "         [ 0.7712543 ,  0.11217789,  0.6603325 , ..., -0.09223761,\n",
              "           0.34821185, -0.36905104],\n",
              "         [ 0.5122407 , -0.1992902 , -0.84775066, ..., -0.28812107,\n",
              "           0.22383772, -1.2124615 ],\n",
              "         ...,\n",
              "         [ 0.12500508,  0.66634166,  0.98522055, ..., -0.0870944 ,\n",
              "          -0.5805489 ,  0.61272764],\n",
              "         [ 0.01400359,  0.10471296,  1.2684798 , ..., -0.01833243,\n",
              "          -0.35933298,  0.15463144],\n",
              "         [-0.8093852 , -0.36067948,  1.3501273 , ...,  0.58935946,\n",
              "          -0.5093249 , -0.0976696 ]],\n",
              " \n",
              "        [[-0.2153497 , -0.23962256, -0.30932444, ..., -0.25964868,\n",
              "           0.0969523 ,  0.4182661 ],\n",
              "         [ 0.5070063 , -0.01544864, -0.1051984 , ...,  0.3867535 ,\n",
              "           0.22041124, -0.10293312],\n",
              "         [ 1.0366054 ,  0.9171311 ,  0.2616411 , ...,  0.3318207 ,\n",
              "           0.45596996,  0.12697828],\n",
              "         ...,\n",
              "         [ 0.16190721,  0.7627005 ,  1.2737675 , ...,  0.5726    ,\n",
              "          -0.05929621,  0.26224014],\n",
              "         [ 0.46124572,  1.1673867 ,  0.95947796, ...,  0.46033108,\n",
              "           0.13521367,  0.45136034],\n",
              "         [-0.24183902,  0.1735291 ,  0.8415674 , ...,  0.24766989,\n",
              "          -0.14810228,  0.06557376]]], dtype=float32)>,\n",
              " <tf.Tensor: shape=(2, 128, 768), dtype=float32, numpy=\n",
              " array([[[-2.1952044e-02,  2.1303616e-01,  3.1135860e-01, ...,\n",
              "          -2.3918019e-01, -2.7870917e-01,  2.0408386e-01],\n",
              "         [ 8.3098286e-01,  1.9077928e-01,  7.1134639e-01, ...,\n",
              "          -3.0024433e-01,  3.1152454e-01, -2.5934041e-01],\n",
              "         [ 3.7308949e-01, -4.2212632e-01, -6.6690969e-01, ...,\n",
              "          -4.5297667e-01,  3.2045212e-01, -2.9988658e-01],\n",
              "         ...,\n",
              "         [ 3.3166340e-01,  7.1835935e-01,  8.9961201e-01, ...,\n",
              "          -3.4914562e-01, -2.9987144e-01,  5.2389169e-01],\n",
              "         [ 2.3853272e-01,  2.0484495e-01,  1.1306416e+00, ...,\n",
              "          -1.5113099e-01, -1.3781200e-01,  7.6998755e-02],\n",
              "         [-3.8412222e-01, -3.8158569e-01,  1.3397293e+00, ...,\n",
              "           5.7755393e-01, -1.5540051e-01, -2.9294592e-01]],\n",
              " \n",
              "        [[ 1.4363067e-01,  1.6980152e-01,  4.5118902e-02, ...,\n",
              "          -6.2166743e-02, -1.5753271e-02,  2.8787002e-01],\n",
              "         [ 5.8475977e-01,  2.6993260e-01, -2.8520894e-01, ...,\n",
              "           3.3893263e-01,  1.1777163e-01,  3.6985792e-02],\n",
              "         [ 1.2525787e+00,  1.2556443e+00,  3.8754299e-01, ...,\n",
              "           1.7275742e-01,  4.9666232e-01,  6.1378098e-01],\n",
              "         ...,\n",
              "         [ 1.9548725e-01,  4.4081888e-01,  1.0389358e+00, ...,\n",
              "           1.4527056e-01, -2.7744001e-01,  1.9032106e-01],\n",
              "         [ 4.4816497e-01,  7.6447695e-01,  6.9800556e-01, ...,\n",
              "          -8.3524175e-04, -7.9644620e-02,  4.9335849e-01],\n",
              "         [-2.3397961e-01, -2.0333531e-01,  3.4824908e-01, ...,\n",
              "          -6.4341120e-02, -3.2087523e-01,  2.2334352e-02]]], dtype=float32)>,\n",
              " <tf.Tensor: shape=(2, 128, 768), dtype=float32, numpy=\n",
              " array([[[ 0.07292038,  0.08567842,  0.14476822, ..., -0.09677143,\n",
              "           0.08722145,  0.07711081],\n",
              "         [ 0.17839344, -0.19006258,  0.5034949 , ..., -0.0586981 ,\n",
              "           0.32717144, -0.15578583],\n",
              "         [ 0.18701449, -0.43388814, -0.48875296, ..., -0.15502766,\n",
              "           0.00145172, -0.2447103 ],\n",
              "         ...,\n",
              "         [ 0.12083013,  0.12884311,  0.4645362 , ...,  0.07375546,\n",
              "           0.17441897,  0.16522236],\n",
              "         [ 0.07967884, -0.01190644,  0.5022541 , ...,  0.13777748,\n",
              "           0.210022  ,  0.00624548],\n",
              "         [-0.07212698, -0.28303394,  0.5903344 , ...,  0.4755187 ,\n",
              "           0.1666846 , -0.08920381]],\n",
              " \n",
              "        [[-0.07900536,  0.36335137, -0.21101594, ..., -0.171837  ,\n",
              "           0.16299717,  0.6724262 ],\n",
              "         [ 0.27883533,  0.43716228, -0.35764885, ..., -0.04463524,\n",
              "           0.38315073,  0.58879745],\n",
              "         [ 1.2037673 ,  1.072702  ,  0.48408717, ...,  0.24921033,\n",
              "           0.4073103 ,  0.4048179 ],\n",
              "         ...,\n",
              "         [ 0.08630094,  0.19353813,  0.47540012, ...,  0.18880174,\n",
              "          -0.06474142,  0.31318557],\n",
              "         [ 0.1588704 ,  0.2857267 ,  0.37340763, ...,  0.09309127,\n",
              "          -0.0496955 ,  0.387611  ],\n",
              "         [-0.08079785, -0.09572835,  0.26809838, ...,  0.13979656,\n",
              "          -0.06315874,  0.272883  ]]], dtype=float32)>]"
            ]
          },
          "metadata": {},
          "execution_count": 16
        }
      ]
    },
    {
      "cell_type": "code",
      "source": [
        "len(bert_results['encoder_outputs']) # Since we are using the 'BERT base' model and it has '12' encoder layers"
      ],
      "metadata": {
        "colab": {
          "base_uri": "https://localhost:8080/"
        },
        "id": "pim8cNUyosyg",
        "outputId": "e00bc9ec-1ed6-4266-e51a-dbafb2f0e9dc"
      },
      "execution_count": 18,
      "outputs": [
        {
          "output_type": "execute_result",
          "data": {
            "text/plain": [
              "12"
            ]
          },
          "metadata": {},
          "execution_count": 18
        }
      ]
    },
    {
      "cell_type": "code",
      "source": [
        "bert_results['encoder_outputs'][0] # '128' since it has 128 words including the padding and for each word there is a '768' size embedding vector."
      ],
      "metadata": {
        "colab": {
          "base_uri": "https://localhost:8080/"
        },
        "id": "78e74Jw9ou5y",
        "outputId": "a8a84ad6-63e7-4e92-972a-fb92f37718f7"
      },
      "execution_count": 19,
      "outputs": [
        {
          "output_type": "execute_result",
          "data": {
            "text/plain": [
              "<tf.Tensor: shape=(2, 128, 768), dtype=float32, numpy=\n",
              "array([[[ 0.12901425,  0.00644732, -0.03614959, ...,  0.04999626,\n",
              "          0.06149194, -0.02657545],\n",
              "        [ 1.1753378 ,  1.2140784 ,  1.1569978 , ...,  0.11634377,\n",
              "         -0.3585534 , -0.4049019 ],\n",
              "        [ 0.03859021,  0.5386997 , -0.21089756, ...,  0.21858235,\n",
              "          0.7260173 , -1.1158612 ],\n",
              "        ...,\n",
              "        [-0.07587024, -0.25421894,  0.7075514 , ...,  0.505419  ,\n",
              "         -0.1887869 ,  0.15028353],\n",
              "        [-0.1606659 , -0.28089708,  0.5759705 , ...,  0.5275857 ,\n",
              "         -0.11141351,  0.02887536],\n",
              "        [-0.04428169, -0.2027955 ,  0.5909354 , ...,  0.8133834 ,\n",
              "         -0.3907574 , -0.02601734]],\n",
              "\n",
              "       [[ 0.18903583,  0.02752563, -0.06513733, ..., -0.006202  ,\n",
              "          0.15053886,  0.03165463],\n",
              "        [ 0.59161484,  0.7589136 , -0.07240709, ...,  0.6190397 ,\n",
              "          0.8292891 ,  0.16161957],\n",
              "        [ 1.446081  ,  0.4460263 ,  0.40990278, ...,  0.48255885,\n",
              "          0.6269118 ,  0.13463339],\n",
              "        ...,\n",
              "        [ 0.15147895, -0.21573825,  0.70329106, ..., -0.12537268,\n",
              "         -0.13787241,  0.27722076],\n",
              "        [ 0.05143777, -0.24052705,  0.5356912 , ..., -0.07915041,\n",
              "         -0.03307881,  0.17380932],\n",
              "        [ 0.20934743, -0.15645264,  0.6039548 , ...,  0.32903543,\n",
              "         -0.35827157,  0.08100449]]], dtype=float32)>"
            ]
          },
          "metadata": {},
          "execution_count": 19
        }
      ]
    },
    {
      "cell_type": "code",
      "source": [
        "bert_results['encoder_outputs'][-1] == bert_results['sequence_output']"
      ],
      "metadata": {
        "colab": {
          "base_uri": "https://localhost:8080/"
        },
        "id": "2VJbPPimpCeI",
        "outputId": "3ab54c0c-8b3d-4c69-d6a8-abf4f2302311"
      },
      "execution_count": 20,
      "outputs": [
        {
          "output_type": "execute_result",
          "data": {
            "text/plain": [
              "<tf.Tensor: shape=(2, 128, 768), dtype=bool, numpy=\n",
              "array([[[ True,  True,  True, ...,  True,  True,  True],\n",
              "        [ True,  True,  True, ...,  True,  True,  True],\n",
              "        [ True,  True,  True, ...,  True,  True,  True],\n",
              "        ...,\n",
              "        [ True,  True,  True, ...,  True,  True,  True],\n",
              "        [ True,  True,  True, ...,  True,  True,  True],\n",
              "        [ True,  True,  True, ...,  True,  True,  True]],\n",
              "\n",
              "       [[ True,  True,  True, ...,  True,  True,  True],\n",
              "        [ True,  True,  True, ...,  True,  True,  True],\n",
              "        [ True,  True,  True, ...,  True,  True,  True],\n",
              "        ...,\n",
              "        [ True,  True,  True, ...,  True,  True,  True],\n",
              "        [ True,  True,  True, ...,  True,  True,  True],\n",
              "        [ True,  True,  True, ...,  True,  True,  True]]])>"
            ]
          },
          "metadata": {},
          "execution_count": 20
        }
      ]
    },
    {
      "cell_type": "code",
      "source": [
        ""
      ],
      "metadata": {
        "id": "qEGlxXBdpfU9"
      },
      "execution_count": null,
      "outputs": []
    }
  ]
}