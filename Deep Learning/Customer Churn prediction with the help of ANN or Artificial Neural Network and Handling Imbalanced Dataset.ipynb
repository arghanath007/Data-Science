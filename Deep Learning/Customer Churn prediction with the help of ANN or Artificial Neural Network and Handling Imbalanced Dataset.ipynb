{
 "cells": [
  {
   "cell_type": "code",
   "execution_count": 2,
   "id": "10341858",
   "metadata": {},
   "outputs": [],
   "source": [
    "import pandas as pd\n",
    "import matplotlib.pyplot as plt\n",
    "import numpy as np\n",
    "%matplotlib inline"
   ]
  },
  {
   "cell_type": "code",
   "execution_count": 3,
   "id": "c0258b22",
   "metadata": {},
   "outputs": [
    {
     "data": {
      "text/html": [
       "<div>\n",
       "<style scoped>\n",
       "    .dataframe tbody tr th:only-of-type {\n",
       "        vertical-align: middle;\n",
       "    }\n",
       "\n",
       "    .dataframe tbody tr th {\n",
       "        vertical-align: top;\n",
       "    }\n",
       "\n",
       "    .dataframe thead th {\n",
       "        text-align: right;\n",
       "    }\n",
       "</style>\n",
       "<table border=\"1\" class=\"dataframe\">\n",
       "  <thead>\n",
       "    <tr style=\"text-align: right;\">\n",
       "      <th></th>\n",
       "      <th>customerID</th>\n",
       "      <th>gender</th>\n",
       "      <th>SeniorCitizen</th>\n",
       "      <th>Partner</th>\n",
       "      <th>Dependents</th>\n",
       "      <th>tenure</th>\n",
       "      <th>PhoneService</th>\n",
       "      <th>MultipleLines</th>\n",
       "      <th>InternetService</th>\n",
       "      <th>OnlineSecurity</th>\n",
       "      <th>...</th>\n",
       "      <th>DeviceProtection</th>\n",
       "      <th>TechSupport</th>\n",
       "      <th>StreamingTV</th>\n",
       "      <th>StreamingMovies</th>\n",
       "      <th>Contract</th>\n",
       "      <th>PaperlessBilling</th>\n",
       "      <th>PaymentMethod</th>\n",
       "      <th>MonthlyCharges</th>\n",
       "      <th>TotalCharges</th>\n",
       "      <th>Churn</th>\n",
       "    </tr>\n",
       "  </thead>\n",
       "  <tbody>\n",
       "    <tr>\n",
       "      <th>0</th>\n",
       "      <td>7590-VHVEG</td>\n",
       "      <td>Female</td>\n",
       "      <td>0</td>\n",
       "      <td>Yes</td>\n",
       "      <td>No</td>\n",
       "      <td>1</td>\n",
       "      <td>No</td>\n",
       "      <td>No phone service</td>\n",
       "      <td>DSL</td>\n",
       "      <td>No</td>\n",
       "      <td>...</td>\n",
       "      <td>No</td>\n",
       "      <td>No</td>\n",
       "      <td>No</td>\n",
       "      <td>No</td>\n",
       "      <td>Month-to-month</td>\n",
       "      <td>Yes</td>\n",
       "      <td>Electronic check</td>\n",
       "      <td>29.85</td>\n",
       "      <td>29.85</td>\n",
       "      <td>No</td>\n",
       "    </tr>\n",
       "    <tr>\n",
       "      <th>1</th>\n",
       "      <td>5575-GNVDE</td>\n",
       "      <td>Male</td>\n",
       "      <td>0</td>\n",
       "      <td>No</td>\n",
       "      <td>No</td>\n",
       "      <td>34</td>\n",
       "      <td>Yes</td>\n",
       "      <td>No</td>\n",
       "      <td>DSL</td>\n",
       "      <td>Yes</td>\n",
       "      <td>...</td>\n",
       "      <td>Yes</td>\n",
       "      <td>No</td>\n",
       "      <td>No</td>\n",
       "      <td>No</td>\n",
       "      <td>One year</td>\n",
       "      <td>No</td>\n",
       "      <td>Mailed check</td>\n",
       "      <td>56.95</td>\n",
       "      <td>1889.5</td>\n",
       "      <td>No</td>\n",
       "    </tr>\n",
       "    <tr>\n",
       "      <th>2</th>\n",
       "      <td>3668-QPYBK</td>\n",
       "      <td>Male</td>\n",
       "      <td>0</td>\n",
       "      <td>No</td>\n",
       "      <td>No</td>\n",
       "      <td>2</td>\n",
       "      <td>Yes</td>\n",
       "      <td>No</td>\n",
       "      <td>DSL</td>\n",
       "      <td>Yes</td>\n",
       "      <td>...</td>\n",
       "      <td>No</td>\n",
       "      <td>No</td>\n",
       "      <td>No</td>\n",
       "      <td>No</td>\n",
       "      <td>Month-to-month</td>\n",
       "      <td>Yes</td>\n",
       "      <td>Mailed check</td>\n",
       "      <td>53.85</td>\n",
       "      <td>108.15</td>\n",
       "      <td>Yes</td>\n",
       "    </tr>\n",
       "    <tr>\n",
       "      <th>3</th>\n",
       "      <td>7795-CFOCW</td>\n",
       "      <td>Male</td>\n",
       "      <td>0</td>\n",
       "      <td>No</td>\n",
       "      <td>No</td>\n",
       "      <td>45</td>\n",
       "      <td>No</td>\n",
       "      <td>No phone service</td>\n",
       "      <td>DSL</td>\n",
       "      <td>Yes</td>\n",
       "      <td>...</td>\n",
       "      <td>Yes</td>\n",
       "      <td>Yes</td>\n",
       "      <td>No</td>\n",
       "      <td>No</td>\n",
       "      <td>One year</td>\n",
       "      <td>No</td>\n",
       "      <td>Bank transfer (automatic)</td>\n",
       "      <td>42.30</td>\n",
       "      <td>1840.75</td>\n",
       "      <td>No</td>\n",
       "    </tr>\n",
       "    <tr>\n",
       "      <th>4</th>\n",
       "      <td>9237-HQITU</td>\n",
       "      <td>Female</td>\n",
       "      <td>0</td>\n",
       "      <td>No</td>\n",
       "      <td>No</td>\n",
       "      <td>2</td>\n",
       "      <td>Yes</td>\n",
       "      <td>No</td>\n",
       "      <td>Fiber optic</td>\n",
       "      <td>No</td>\n",
       "      <td>...</td>\n",
       "      <td>No</td>\n",
       "      <td>No</td>\n",
       "      <td>No</td>\n",
       "      <td>No</td>\n",
       "      <td>Month-to-month</td>\n",
       "      <td>Yes</td>\n",
       "      <td>Electronic check</td>\n",
       "      <td>70.70</td>\n",
       "      <td>151.65</td>\n",
       "      <td>Yes</td>\n",
       "    </tr>\n",
       "  </tbody>\n",
       "</table>\n",
       "<p>5 rows × 21 columns</p>\n",
       "</div>"
      ],
      "text/plain": [
       "   customerID  gender  SeniorCitizen Partner Dependents  tenure PhoneService  \\\n",
       "0  7590-VHVEG  Female              0     Yes         No       1           No   \n",
       "1  5575-GNVDE    Male              0      No         No      34          Yes   \n",
       "2  3668-QPYBK    Male              0      No         No       2          Yes   \n",
       "3  7795-CFOCW    Male              0      No         No      45           No   \n",
       "4  9237-HQITU  Female              0      No         No       2          Yes   \n",
       "\n",
       "      MultipleLines InternetService OnlineSecurity  ... DeviceProtection  \\\n",
       "0  No phone service             DSL             No  ...               No   \n",
       "1                No             DSL            Yes  ...              Yes   \n",
       "2                No             DSL            Yes  ...               No   \n",
       "3  No phone service             DSL            Yes  ...              Yes   \n",
       "4                No     Fiber optic             No  ...               No   \n",
       "\n",
       "  TechSupport StreamingTV StreamingMovies        Contract PaperlessBilling  \\\n",
       "0          No          No              No  Month-to-month              Yes   \n",
       "1          No          No              No        One year               No   \n",
       "2          No          No              No  Month-to-month              Yes   \n",
       "3         Yes          No              No        One year               No   \n",
       "4          No          No              No  Month-to-month              Yes   \n",
       "\n",
       "               PaymentMethod MonthlyCharges  TotalCharges Churn  \n",
       "0           Electronic check          29.85         29.85    No  \n",
       "1               Mailed check          56.95        1889.5    No  \n",
       "2               Mailed check          53.85        108.15   Yes  \n",
       "3  Bank transfer (automatic)          42.30       1840.75    No  \n",
       "4           Electronic check          70.70        151.65   Yes  \n",
       "\n",
       "[5 rows x 21 columns]"
      ]
     },
     "execution_count": 3,
     "metadata": {},
     "output_type": "execute_result"
    }
   ],
   "source": [
    "df=pd.read_csv('customer_churn.csv')\n",
    "df.head()"
   ]
  },
  {
   "cell_type": "code",
   "execution_count": 4,
   "id": "ad7645c8",
   "metadata": {},
   "outputs": [
    {
     "data": {
      "text/html": [
       "<div>\n",
       "<style scoped>\n",
       "    .dataframe tbody tr th:only-of-type {\n",
       "        vertical-align: middle;\n",
       "    }\n",
       "\n",
       "    .dataframe tbody tr th {\n",
       "        vertical-align: top;\n",
       "    }\n",
       "\n",
       "    .dataframe thead th {\n",
       "        text-align: right;\n",
       "    }\n",
       "</style>\n",
       "<table border=\"1\" class=\"dataframe\">\n",
       "  <thead>\n",
       "    <tr style=\"text-align: right;\">\n",
       "      <th></th>\n",
       "      <th>customerID</th>\n",
       "      <th>gender</th>\n",
       "      <th>SeniorCitizen</th>\n",
       "      <th>Partner</th>\n",
       "      <th>Dependents</th>\n",
       "      <th>tenure</th>\n",
       "      <th>PhoneService</th>\n",
       "      <th>MultipleLines</th>\n",
       "      <th>InternetService</th>\n",
       "      <th>OnlineSecurity</th>\n",
       "      <th>...</th>\n",
       "      <th>DeviceProtection</th>\n",
       "      <th>TechSupport</th>\n",
       "      <th>StreamingTV</th>\n",
       "      <th>StreamingMovies</th>\n",
       "      <th>Contract</th>\n",
       "      <th>PaperlessBilling</th>\n",
       "      <th>PaymentMethod</th>\n",
       "      <th>MonthlyCharges</th>\n",
       "      <th>TotalCharges</th>\n",
       "      <th>Churn</th>\n",
       "    </tr>\n",
       "  </thead>\n",
       "  <tbody>\n",
       "    <tr>\n",
       "      <th>4856</th>\n",
       "      <td>8714-EUHJO</td>\n",
       "      <td>Female</td>\n",
       "      <td>0</td>\n",
       "      <td>Yes</td>\n",
       "      <td>Yes</td>\n",
       "      <td>31</td>\n",
       "      <td>Yes</td>\n",
       "      <td>Yes</td>\n",
       "      <td>Fiber optic</td>\n",
       "      <td>No</td>\n",
       "      <td>...</td>\n",
       "      <td>No</td>\n",
       "      <td>No</td>\n",
       "      <td>No</td>\n",
       "      <td>Yes</td>\n",
       "      <td>Month-to-month</td>\n",
       "      <td>Yes</td>\n",
       "      <td>Electronic check</td>\n",
       "      <td>91.15</td>\n",
       "      <td>2995.45</td>\n",
       "      <td>Yes</td>\n",
       "    </tr>\n",
       "    <tr>\n",
       "      <th>1451</th>\n",
       "      <td>6890-PFRQX</td>\n",
       "      <td>Male</td>\n",
       "      <td>0</td>\n",
       "      <td>No</td>\n",
       "      <td>No</td>\n",
       "      <td>18</td>\n",
       "      <td>Yes</td>\n",
       "      <td>Yes</td>\n",
       "      <td>DSL</td>\n",
       "      <td>Yes</td>\n",
       "      <td>...</td>\n",
       "      <td>Yes</td>\n",
       "      <td>No</td>\n",
       "      <td>Yes</td>\n",
       "      <td>No</td>\n",
       "      <td>Month-to-month</td>\n",
       "      <td>No</td>\n",
       "      <td>Mailed check</td>\n",
       "      <td>69.50</td>\n",
       "      <td>1199.4</td>\n",
       "      <td>No</td>\n",
       "    </tr>\n",
       "    <tr>\n",
       "      <th>2054</th>\n",
       "      <td>9734-UYXQI</td>\n",
       "      <td>Female</td>\n",
       "      <td>0</td>\n",
       "      <td>No</td>\n",
       "      <td>No</td>\n",
       "      <td>2</td>\n",
       "      <td>Yes</td>\n",
       "      <td>Yes</td>\n",
       "      <td>DSL</td>\n",
       "      <td>No</td>\n",
       "      <td>...</td>\n",
       "      <td>No</td>\n",
       "      <td>No</td>\n",
       "      <td>No</td>\n",
       "      <td>No</td>\n",
       "      <td>Month-to-month</td>\n",
       "      <td>Yes</td>\n",
       "      <td>Electronic check</td>\n",
       "      <td>49.40</td>\n",
       "      <td>106.55</td>\n",
       "      <td>Yes</td>\n",
       "    </tr>\n",
       "    <tr>\n",
       "      <th>1415</th>\n",
       "      <td>5223-UZAVK</td>\n",
       "      <td>Male</td>\n",
       "      <td>0</td>\n",
       "      <td>No</td>\n",
       "      <td>No</td>\n",
       "      <td>64</td>\n",
       "      <td>Yes</td>\n",
       "      <td>No</td>\n",
       "      <td>Fiber optic</td>\n",
       "      <td>Yes</td>\n",
       "      <td>...</td>\n",
       "      <td>No</td>\n",
       "      <td>No</td>\n",
       "      <td>Yes</td>\n",
       "      <td>Yes</td>\n",
       "      <td>One year</td>\n",
       "      <td>Yes</td>\n",
       "      <td>Credit card (automatic)</td>\n",
       "      <td>100.30</td>\n",
       "      <td>6603.8</td>\n",
       "      <td>No</td>\n",
       "    </tr>\n",
       "    <tr>\n",
       "      <th>4389</th>\n",
       "      <td>1482-OXZSY</td>\n",
       "      <td>Male</td>\n",
       "      <td>0</td>\n",
       "      <td>No</td>\n",
       "      <td>No</td>\n",
       "      <td>30</td>\n",
       "      <td>Yes</td>\n",
       "      <td>Yes</td>\n",
       "      <td>Fiber optic</td>\n",
       "      <td>Yes</td>\n",
       "      <td>...</td>\n",
       "      <td>No</td>\n",
       "      <td>No</td>\n",
       "      <td>Yes</td>\n",
       "      <td>Yes</td>\n",
       "      <td>Month-to-month</td>\n",
       "      <td>Yes</td>\n",
       "      <td>Bank transfer (automatic)</td>\n",
       "      <td>100.40</td>\n",
       "      <td>2936.25</td>\n",
       "      <td>No</td>\n",
       "    </tr>\n",
       "  </tbody>\n",
       "</table>\n",
       "<p>5 rows × 21 columns</p>\n",
       "</div>"
      ],
      "text/plain": [
       "      customerID  gender  SeniorCitizen Partner Dependents  tenure  \\\n",
       "4856  8714-EUHJO  Female              0     Yes        Yes      31   \n",
       "1451  6890-PFRQX    Male              0      No         No      18   \n",
       "2054  9734-UYXQI  Female              0      No         No       2   \n",
       "1415  5223-UZAVK    Male              0      No         No      64   \n",
       "4389  1482-OXZSY    Male              0      No         No      30   \n",
       "\n",
       "     PhoneService MultipleLines InternetService OnlineSecurity  ...  \\\n",
       "4856          Yes           Yes     Fiber optic             No  ...   \n",
       "1451          Yes           Yes             DSL            Yes  ...   \n",
       "2054          Yes           Yes             DSL             No  ...   \n",
       "1415          Yes            No     Fiber optic            Yes  ...   \n",
       "4389          Yes           Yes     Fiber optic            Yes  ...   \n",
       "\n",
       "     DeviceProtection TechSupport StreamingTV StreamingMovies        Contract  \\\n",
       "4856               No          No          No             Yes  Month-to-month   \n",
       "1451              Yes          No         Yes              No  Month-to-month   \n",
       "2054               No          No          No              No  Month-to-month   \n",
       "1415               No          No         Yes             Yes        One year   \n",
       "4389               No          No         Yes             Yes  Month-to-month   \n",
       "\n",
       "     PaperlessBilling              PaymentMethod MonthlyCharges  TotalCharges  \\\n",
       "4856              Yes           Electronic check          91.15       2995.45   \n",
       "1451               No               Mailed check          69.50        1199.4   \n",
       "2054              Yes           Electronic check          49.40        106.55   \n",
       "1415              Yes    Credit card (automatic)         100.30        6603.8   \n",
       "4389              Yes  Bank transfer (automatic)         100.40       2936.25   \n",
       "\n",
       "     Churn  \n",
       "4856   Yes  \n",
       "1451    No  \n",
       "2054   Yes  \n",
       "1415    No  \n",
       "4389    No  \n",
       "\n",
       "[5 rows x 21 columns]"
      ]
     },
     "execution_count": 4,
     "metadata": {},
     "output_type": "execute_result"
    }
   ],
   "source": [
    "df.sample(5)"
   ]
  },
  {
   "cell_type": "code",
   "execution_count": 5,
   "id": "63a64b8c",
   "metadata": {},
   "outputs": [],
   "source": [
    "df.drop('customerID', axis='columns', inplace=True)"
   ]
  },
  {
   "cell_type": "code",
   "execution_count": 6,
   "id": "3fd1d76b",
   "metadata": {},
   "outputs": [
    {
     "data": {
      "text/html": [
       "<div>\n",
       "<style scoped>\n",
       "    .dataframe tbody tr th:only-of-type {\n",
       "        vertical-align: middle;\n",
       "    }\n",
       "\n",
       "    .dataframe tbody tr th {\n",
       "        vertical-align: top;\n",
       "    }\n",
       "\n",
       "    .dataframe thead th {\n",
       "        text-align: right;\n",
       "    }\n",
       "</style>\n",
       "<table border=\"1\" class=\"dataframe\">\n",
       "  <thead>\n",
       "    <tr style=\"text-align: right;\">\n",
       "      <th></th>\n",
       "      <th>gender</th>\n",
       "      <th>SeniorCitizen</th>\n",
       "      <th>Partner</th>\n",
       "      <th>Dependents</th>\n",
       "      <th>tenure</th>\n",
       "      <th>PhoneService</th>\n",
       "      <th>MultipleLines</th>\n",
       "      <th>InternetService</th>\n",
       "      <th>OnlineSecurity</th>\n",
       "      <th>OnlineBackup</th>\n",
       "      <th>DeviceProtection</th>\n",
       "      <th>TechSupport</th>\n",
       "      <th>StreamingTV</th>\n",
       "      <th>StreamingMovies</th>\n",
       "      <th>Contract</th>\n",
       "      <th>PaperlessBilling</th>\n",
       "      <th>PaymentMethod</th>\n",
       "      <th>MonthlyCharges</th>\n",
       "      <th>TotalCharges</th>\n",
       "      <th>Churn</th>\n",
       "    </tr>\n",
       "  </thead>\n",
       "  <tbody>\n",
       "    <tr>\n",
       "      <th>0</th>\n",
       "      <td>Female</td>\n",
       "      <td>0</td>\n",
       "      <td>Yes</td>\n",
       "      <td>No</td>\n",
       "      <td>1</td>\n",
       "      <td>No</td>\n",
       "      <td>No phone service</td>\n",
       "      <td>DSL</td>\n",
       "      <td>No</td>\n",
       "      <td>Yes</td>\n",
       "      <td>No</td>\n",
       "      <td>No</td>\n",
       "      <td>No</td>\n",
       "      <td>No</td>\n",
       "      <td>Month-to-month</td>\n",
       "      <td>Yes</td>\n",
       "      <td>Electronic check</td>\n",
       "      <td>29.85</td>\n",
       "      <td>29.85</td>\n",
       "      <td>No</td>\n",
       "    </tr>\n",
       "    <tr>\n",
       "      <th>1</th>\n",
       "      <td>Male</td>\n",
       "      <td>0</td>\n",
       "      <td>No</td>\n",
       "      <td>No</td>\n",
       "      <td>34</td>\n",
       "      <td>Yes</td>\n",
       "      <td>No</td>\n",
       "      <td>DSL</td>\n",
       "      <td>Yes</td>\n",
       "      <td>No</td>\n",
       "      <td>Yes</td>\n",
       "      <td>No</td>\n",
       "      <td>No</td>\n",
       "      <td>No</td>\n",
       "      <td>One year</td>\n",
       "      <td>No</td>\n",
       "      <td>Mailed check</td>\n",
       "      <td>56.95</td>\n",
       "      <td>1889.5</td>\n",
       "      <td>No</td>\n",
       "    </tr>\n",
       "    <tr>\n",
       "      <th>2</th>\n",
       "      <td>Male</td>\n",
       "      <td>0</td>\n",
       "      <td>No</td>\n",
       "      <td>No</td>\n",
       "      <td>2</td>\n",
       "      <td>Yes</td>\n",
       "      <td>No</td>\n",
       "      <td>DSL</td>\n",
       "      <td>Yes</td>\n",
       "      <td>Yes</td>\n",
       "      <td>No</td>\n",
       "      <td>No</td>\n",
       "      <td>No</td>\n",
       "      <td>No</td>\n",
       "      <td>Month-to-month</td>\n",
       "      <td>Yes</td>\n",
       "      <td>Mailed check</td>\n",
       "      <td>53.85</td>\n",
       "      <td>108.15</td>\n",
       "      <td>Yes</td>\n",
       "    </tr>\n",
       "    <tr>\n",
       "      <th>3</th>\n",
       "      <td>Male</td>\n",
       "      <td>0</td>\n",
       "      <td>No</td>\n",
       "      <td>No</td>\n",
       "      <td>45</td>\n",
       "      <td>No</td>\n",
       "      <td>No phone service</td>\n",
       "      <td>DSL</td>\n",
       "      <td>Yes</td>\n",
       "      <td>No</td>\n",
       "      <td>Yes</td>\n",
       "      <td>Yes</td>\n",
       "      <td>No</td>\n",
       "      <td>No</td>\n",
       "      <td>One year</td>\n",
       "      <td>No</td>\n",
       "      <td>Bank transfer (automatic)</td>\n",
       "      <td>42.30</td>\n",
       "      <td>1840.75</td>\n",
       "      <td>No</td>\n",
       "    </tr>\n",
       "    <tr>\n",
       "      <th>4</th>\n",
       "      <td>Female</td>\n",
       "      <td>0</td>\n",
       "      <td>No</td>\n",
       "      <td>No</td>\n",
       "      <td>2</td>\n",
       "      <td>Yes</td>\n",
       "      <td>No</td>\n",
       "      <td>Fiber optic</td>\n",
       "      <td>No</td>\n",
       "      <td>No</td>\n",
       "      <td>No</td>\n",
       "      <td>No</td>\n",
       "      <td>No</td>\n",
       "      <td>No</td>\n",
       "      <td>Month-to-month</td>\n",
       "      <td>Yes</td>\n",
       "      <td>Electronic check</td>\n",
       "      <td>70.70</td>\n",
       "      <td>151.65</td>\n",
       "      <td>Yes</td>\n",
       "    </tr>\n",
       "  </tbody>\n",
       "</table>\n",
       "</div>"
      ],
      "text/plain": [
       "   gender  SeniorCitizen Partner Dependents  tenure PhoneService  \\\n",
       "0  Female              0     Yes         No       1           No   \n",
       "1    Male              0      No         No      34          Yes   \n",
       "2    Male              0      No         No       2          Yes   \n",
       "3    Male              0      No         No      45           No   \n",
       "4  Female              0      No         No       2          Yes   \n",
       "\n",
       "      MultipleLines InternetService OnlineSecurity OnlineBackup  \\\n",
       "0  No phone service             DSL             No          Yes   \n",
       "1                No             DSL            Yes           No   \n",
       "2                No             DSL            Yes          Yes   \n",
       "3  No phone service             DSL            Yes           No   \n",
       "4                No     Fiber optic             No           No   \n",
       "\n",
       "  DeviceProtection TechSupport StreamingTV StreamingMovies        Contract  \\\n",
       "0               No          No          No              No  Month-to-month   \n",
       "1              Yes          No          No              No        One year   \n",
       "2               No          No          No              No  Month-to-month   \n",
       "3              Yes         Yes          No              No        One year   \n",
       "4               No          No          No              No  Month-to-month   \n",
       "\n",
       "  PaperlessBilling              PaymentMethod  MonthlyCharges TotalCharges  \\\n",
       "0              Yes           Electronic check           29.85        29.85   \n",
       "1               No               Mailed check           56.95       1889.5   \n",
       "2              Yes               Mailed check           53.85       108.15   \n",
       "3               No  Bank transfer (automatic)           42.30      1840.75   \n",
       "4              Yes           Electronic check           70.70       151.65   \n",
       "\n",
       "  Churn  \n",
       "0    No  \n",
       "1    No  \n",
       "2   Yes  \n",
       "3    No  \n",
       "4   Yes  "
      ]
     },
     "execution_count": 6,
     "metadata": {},
     "output_type": "execute_result"
    }
   ],
   "source": [
    "df.head()"
   ]
  },
  {
   "cell_type": "code",
   "execution_count": 7,
   "id": "d4a60271",
   "metadata": {},
   "outputs": [
    {
     "data": {
      "text/plain": [
       "gender               object\n",
       "SeniorCitizen         int64\n",
       "Partner              object\n",
       "Dependents           object\n",
       "tenure                int64\n",
       "PhoneService         object\n",
       "MultipleLines        object\n",
       "InternetService      object\n",
       "OnlineSecurity       object\n",
       "OnlineBackup         object\n",
       "DeviceProtection     object\n",
       "TechSupport          object\n",
       "StreamingTV          object\n",
       "StreamingMovies      object\n",
       "Contract             object\n",
       "PaperlessBilling     object\n",
       "PaymentMethod        object\n",
       "MonthlyCharges      float64\n",
       "TotalCharges         object\n",
       "Churn                object\n",
       "dtype: object"
      ]
     },
     "execution_count": 7,
     "metadata": {},
     "output_type": "execute_result"
    }
   ],
   "source": [
    "df.dtypes"
   ]
  },
  {
   "cell_type": "code",
   "execution_count": 8,
   "id": "dec0518b",
   "metadata": {},
   "outputs": [
    {
     "data": {
      "text/plain": [
       "array(['29.85', '1889.5', '108.15', ..., '346.45', '306.6', '6844.5'],\n",
       "      dtype=object)"
      ]
     },
     "execution_count": 8,
     "metadata": {},
     "output_type": "execute_result"
    }
   ],
   "source": [
    "df.TotalCharges.values"
   ]
  },
  {
   "cell_type": "code",
   "execution_count": 9,
   "id": "b246aca3",
   "metadata": {},
   "outputs": [
    {
     "data": {
      "text/plain": [
       "array([ 29.85,  56.95,  53.85, ...,  29.6 ,  74.4 , 105.65])"
      ]
     },
     "execution_count": 9,
     "metadata": {},
     "output_type": "execute_result"
    }
   ],
   "source": [
    "df.MonthlyCharges.values"
   ]
  },
  {
   "cell_type": "code",
   "execution_count": 10,
   "id": "730d739c",
   "metadata": {},
   "outputs": [
    {
     "data": {
      "text/plain": [
       "0         29.85\n",
       "1       1889.50\n",
       "2        108.15\n",
       "3       1840.75\n",
       "4        151.65\n",
       "         ...   \n",
       "7038    1990.50\n",
       "7039    7362.90\n",
       "7040     346.45\n",
       "7041     306.60\n",
       "7042    6844.50\n",
       "Name: TotalCharges, Length: 7043, dtype: float64"
      ]
     },
     "execution_count": 10,
     "metadata": {},
     "output_type": "execute_result"
    }
   ],
   "source": [
    "pd.to_numeric(df.TotalCharges, errors='coerce')  # errors='coerce' means the to_numeric function will ignore the errors and change the other values to numeric."
   ]
  },
  {
   "cell_type": "code",
   "execution_count": 11,
   "id": "bf21ee5d",
   "metadata": {},
   "outputs": [
    {
     "data": {
      "text/plain": [
       "0       False\n",
       "1       False\n",
       "2       False\n",
       "3       False\n",
       "4       False\n",
       "        ...  \n",
       "7038    False\n",
       "7039    False\n",
       "7040    False\n",
       "7041    False\n",
       "7042    False\n",
       "Name: TotalCharges, Length: 7043, dtype: bool"
      ]
     },
     "execution_count": 11,
     "metadata": {},
     "output_type": "execute_result"
    }
   ],
   "source": [
    "pd.to_numeric(df.TotalCharges, errors='coerce').isnull() # isnull will tell you of the row is null or not."
   ]
  },
  {
   "cell_type": "code",
   "execution_count": 12,
   "id": "a4f65784",
   "metadata": {},
   "outputs": [
    {
     "data": {
      "text/html": [
       "<div>\n",
       "<style scoped>\n",
       "    .dataframe tbody tr th:only-of-type {\n",
       "        vertical-align: middle;\n",
       "    }\n",
       "\n",
       "    .dataframe tbody tr th {\n",
       "        vertical-align: top;\n",
       "    }\n",
       "\n",
       "    .dataframe thead th {\n",
       "        text-align: right;\n",
       "    }\n",
       "</style>\n",
       "<table border=\"1\" class=\"dataframe\">\n",
       "  <thead>\n",
       "    <tr style=\"text-align: right;\">\n",
       "      <th></th>\n",
       "      <th>gender</th>\n",
       "      <th>SeniorCitizen</th>\n",
       "      <th>Partner</th>\n",
       "      <th>Dependents</th>\n",
       "      <th>tenure</th>\n",
       "      <th>PhoneService</th>\n",
       "      <th>MultipleLines</th>\n",
       "      <th>InternetService</th>\n",
       "      <th>OnlineSecurity</th>\n",
       "      <th>OnlineBackup</th>\n",
       "      <th>DeviceProtection</th>\n",
       "      <th>TechSupport</th>\n",
       "      <th>StreamingTV</th>\n",
       "      <th>StreamingMovies</th>\n",
       "      <th>Contract</th>\n",
       "      <th>PaperlessBilling</th>\n",
       "      <th>PaymentMethod</th>\n",
       "      <th>MonthlyCharges</th>\n",
       "      <th>TotalCharges</th>\n",
       "      <th>Churn</th>\n",
       "    </tr>\n",
       "  </thead>\n",
       "  <tbody>\n",
       "    <tr>\n",
       "      <th>488</th>\n",
       "      <td>Female</td>\n",
       "      <td>0</td>\n",
       "      <td>Yes</td>\n",
       "      <td>Yes</td>\n",
       "      <td>0</td>\n",
       "      <td>No</td>\n",
       "      <td>No phone service</td>\n",
       "      <td>DSL</td>\n",
       "      <td>Yes</td>\n",
       "      <td>No</td>\n",
       "      <td>Yes</td>\n",
       "      <td>Yes</td>\n",
       "      <td>Yes</td>\n",
       "      <td>No</td>\n",
       "      <td>Two year</td>\n",
       "      <td>Yes</td>\n",
       "      <td>Bank transfer (automatic)</td>\n",
       "      <td>52.55</td>\n",
       "      <td></td>\n",
       "      <td>No</td>\n",
       "    </tr>\n",
       "    <tr>\n",
       "      <th>753</th>\n",
       "      <td>Male</td>\n",
       "      <td>0</td>\n",
       "      <td>No</td>\n",
       "      <td>Yes</td>\n",
       "      <td>0</td>\n",
       "      <td>Yes</td>\n",
       "      <td>No</td>\n",
       "      <td>No</td>\n",
       "      <td>No internet service</td>\n",
       "      <td>No internet service</td>\n",
       "      <td>No internet service</td>\n",
       "      <td>No internet service</td>\n",
       "      <td>No internet service</td>\n",
       "      <td>No internet service</td>\n",
       "      <td>Two year</td>\n",
       "      <td>No</td>\n",
       "      <td>Mailed check</td>\n",
       "      <td>20.25</td>\n",
       "      <td></td>\n",
       "      <td>No</td>\n",
       "    </tr>\n",
       "    <tr>\n",
       "      <th>936</th>\n",
       "      <td>Female</td>\n",
       "      <td>0</td>\n",
       "      <td>Yes</td>\n",
       "      <td>Yes</td>\n",
       "      <td>0</td>\n",
       "      <td>Yes</td>\n",
       "      <td>No</td>\n",
       "      <td>DSL</td>\n",
       "      <td>Yes</td>\n",
       "      <td>Yes</td>\n",
       "      <td>Yes</td>\n",
       "      <td>No</td>\n",
       "      <td>Yes</td>\n",
       "      <td>Yes</td>\n",
       "      <td>Two year</td>\n",
       "      <td>No</td>\n",
       "      <td>Mailed check</td>\n",
       "      <td>80.85</td>\n",
       "      <td></td>\n",
       "      <td>No</td>\n",
       "    </tr>\n",
       "    <tr>\n",
       "      <th>1082</th>\n",
       "      <td>Male</td>\n",
       "      <td>0</td>\n",
       "      <td>Yes</td>\n",
       "      <td>Yes</td>\n",
       "      <td>0</td>\n",
       "      <td>Yes</td>\n",
       "      <td>Yes</td>\n",
       "      <td>No</td>\n",
       "      <td>No internet service</td>\n",
       "      <td>No internet service</td>\n",
       "      <td>No internet service</td>\n",
       "      <td>No internet service</td>\n",
       "      <td>No internet service</td>\n",
       "      <td>No internet service</td>\n",
       "      <td>Two year</td>\n",
       "      <td>No</td>\n",
       "      <td>Mailed check</td>\n",
       "      <td>25.75</td>\n",
       "      <td></td>\n",
       "      <td>No</td>\n",
       "    </tr>\n",
       "    <tr>\n",
       "      <th>1340</th>\n",
       "      <td>Female</td>\n",
       "      <td>0</td>\n",
       "      <td>Yes</td>\n",
       "      <td>Yes</td>\n",
       "      <td>0</td>\n",
       "      <td>No</td>\n",
       "      <td>No phone service</td>\n",
       "      <td>DSL</td>\n",
       "      <td>Yes</td>\n",
       "      <td>Yes</td>\n",
       "      <td>Yes</td>\n",
       "      <td>Yes</td>\n",
       "      <td>Yes</td>\n",
       "      <td>No</td>\n",
       "      <td>Two year</td>\n",
       "      <td>No</td>\n",
       "      <td>Credit card (automatic)</td>\n",
       "      <td>56.05</td>\n",
       "      <td></td>\n",
       "      <td>No</td>\n",
       "    </tr>\n",
       "    <tr>\n",
       "      <th>3331</th>\n",
       "      <td>Male</td>\n",
       "      <td>0</td>\n",
       "      <td>Yes</td>\n",
       "      <td>Yes</td>\n",
       "      <td>0</td>\n",
       "      <td>Yes</td>\n",
       "      <td>No</td>\n",
       "      <td>No</td>\n",
       "      <td>No internet service</td>\n",
       "      <td>No internet service</td>\n",
       "      <td>No internet service</td>\n",
       "      <td>No internet service</td>\n",
       "      <td>No internet service</td>\n",
       "      <td>No internet service</td>\n",
       "      <td>Two year</td>\n",
       "      <td>No</td>\n",
       "      <td>Mailed check</td>\n",
       "      <td>19.85</td>\n",
       "      <td></td>\n",
       "      <td>No</td>\n",
       "    </tr>\n",
       "    <tr>\n",
       "      <th>3826</th>\n",
       "      <td>Male</td>\n",
       "      <td>0</td>\n",
       "      <td>Yes</td>\n",
       "      <td>Yes</td>\n",
       "      <td>0</td>\n",
       "      <td>Yes</td>\n",
       "      <td>Yes</td>\n",
       "      <td>No</td>\n",
       "      <td>No internet service</td>\n",
       "      <td>No internet service</td>\n",
       "      <td>No internet service</td>\n",
       "      <td>No internet service</td>\n",
       "      <td>No internet service</td>\n",
       "      <td>No internet service</td>\n",
       "      <td>Two year</td>\n",
       "      <td>No</td>\n",
       "      <td>Mailed check</td>\n",
       "      <td>25.35</td>\n",
       "      <td></td>\n",
       "      <td>No</td>\n",
       "    </tr>\n",
       "    <tr>\n",
       "      <th>4380</th>\n",
       "      <td>Female</td>\n",
       "      <td>0</td>\n",
       "      <td>Yes</td>\n",
       "      <td>Yes</td>\n",
       "      <td>0</td>\n",
       "      <td>Yes</td>\n",
       "      <td>No</td>\n",
       "      <td>No</td>\n",
       "      <td>No internet service</td>\n",
       "      <td>No internet service</td>\n",
       "      <td>No internet service</td>\n",
       "      <td>No internet service</td>\n",
       "      <td>No internet service</td>\n",
       "      <td>No internet service</td>\n",
       "      <td>Two year</td>\n",
       "      <td>No</td>\n",
       "      <td>Mailed check</td>\n",
       "      <td>20.00</td>\n",
       "      <td></td>\n",
       "      <td>No</td>\n",
       "    </tr>\n",
       "    <tr>\n",
       "      <th>5218</th>\n",
       "      <td>Male</td>\n",
       "      <td>0</td>\n",
       "      <td>Yes</td>\n",
       "      <td>Yes</td>\n",
       "      <td>0</td>\n",
       "      <td>Yes</td>\n",
       "      <td>No</td>\n",
       "      <td>No</td>\n",
       "      <td>No internet service</td>\n",
       "      <td>No internet service</td>\n",
       "      <td>No internet service</td>\n",
       "      <td>No internet service</td>\n",
       "      <td>No internet service</td>\n",
       "      <td>No internet service</td>\n",
       "      <td>One year</td>\n",
       "      <td>Yes</td>\n",
       "      <td>Mailed check</td>\n",
       "      <td>19.70</td>\n",
       "      <td></td>\n",
       "      <td>No</td>\n",
       "    </tr>\n",
       "    <tr>\n",
       "      <th>6670</th>\n",
       "      <td>Female</td>\n",
       "      <td>0</td>\n",
       "      <td>Yes</td>\n",
       "      <td>Yes</td>\n",
       "      <td>0</td>\n",
       "      <td>Yes</td>\n",
       "      <td>Yes</td>\n",
       "      <td>DSL</td>\n",
       "      <td>No</td>\n",
       "      <td>Yes</td>\n",
       "      <td>Yes</td>\n",
       "      <td>Yes</td>\n",
       "      <td>Yes</td>\n",
       "      <td>No</td>\n",
       "      <td>Two year</td>\n",
       "      <td>No</td>\n",
       "      <td>Mailed check</td>\n",
       "      <td>73.35</td>\n",
       "      <td></td>\n",
       "      <td>No</td>\n",
       "    </tr>\n",
       "    <tr>\n",
       "      <th>6754</th>\n",
       "      <td>Male</td>\n",
       "      <td>0</td>\n",
       "      <td>No</td>\n",
       "      <td>Yes</td>\n",
       "      <td>0</td>\n",
       "      <td>Yes</td>\n",
       "      <td>Yes</td>\n",
       "      <td>DSL</td>\n",
       "      <td>Yes</td>\n",
       "      <td>Yes</td>\n",
       "      <td>No</td>\n",
       "      <td>Yes</td>\n",
       "      <td>No</td>\n",
       "      <td>No</td>\n",
       "      <td>Two year</td>\n",
       "      <td>Yes</td>\n",
       "      <td>Bank transfer (automatic)</td>\n",
       "      <td>61.90</td>\n",
       "      <td></td>\n",
       "      <td>No</td>\n",
       "    </tr>\n",
       "  </tbody>\n",
       "</table>\n",
       "</div>"
      ],
      "text/plain": [
       "      gender  SeniorCitizen Partner Dependents  tenure PhoneService  \\\n",
       "488   Female              0     Yes        Yes       0           No   \n",
       "753     Male              0      No        Yes       0          Yes   \n",
       "936   Female              0     Yes        Yes       0          Yes   \n",
       "1082    Male              0     Yes        Yes       0          Yes   \n",
       "1340  Female              0     Yes        Yes       0           No   \n",
       "3331    Male              0     Yes        Yes       0          Yes   \n",
       "3826    Male              0     Yes        Yes       0          Yes   \n",
       "4380  Female              0     Yes        Yes       0          Yes   \n",
       "5218    Male              0     Yes        Yes       0          Yes   \n",
       "6670  Female              0     Yes        Yes       0          Yes   \n",
       "6754    Male              0      No        Yes       0          Yes   \n",
       "\n",
       "         MultipleLines InternetService       OnlineSecurity  \\\n",
       "488   No phone service             DSL                  Yes   \n",
       "753                 No              No  No internet service   \n",
       "936                 No             DSL                  Yes   \n",
       "1082               Yes              No  No internet service   \n",
       "1340  No phone service             DSL                  Yes   \n",
       "3331                No              No  No internet service   \n",
       "3826               Yes              No  No internet service   \n",
       "4380                No              No  No internet service   \n",
       "5218                No              No  No internet service   \n",
       "6670               Yes             DSL                   No   \n",
       "6754               Yes             DSL                  Yes   \n",
       "\n",
       "             OnlineBackup     DeviceProtection          TechSupport  \\\n",
       "488                    No                  Yes                  Yes   \n",
       "753   No internet service  No internet service  No internet service   \n",
       "936                   Yes                  Yes                   No   \n",
       "1082  No internet service  No internet service  No internet service   \n",
       "1340                  Yes                  Yes                  Yes   \n",
       "3331  No internet service  No internet service  No internet service   \n",
       "3826  No internet service  No internet service  No internet service   \n",
       "4380  No internet service  No internet service  No internet service   \n",
       "5218  No internet service  No internet service  No internet service   \n",
       "6670                  Yes                  Yes                  Yes   \n",
       "6754                  Yes                   No                  Yes   \n",
       "\n",
       "              StreamingTV      StreamingMovies  Contract PaperlessBilling  \\\n",
       "488                   Yes                   No  Two year              Yes   \n",
       "753   No internet service  No internet service  Two year               No   \n",
       "936                   Yes                  Yes  Two year               No   \n",
       "1082  No internet service  No internet service  Two year               No   \n",
       "1340                  Yes                   No  Two year               No   \n",
       "3331  No internet service  No internet service  Two year               No   \n",
       "3826  No internet service  No internet service  Two year               No   \n",
       "4380  No internet service  No internet service  Two year               No   \n",
       "5218  No internet service  No internet service  One year              Yes   \n",
       "6670                  Yes                   No  Two year               No   \n",
       "6754                   No                   No  Two year              Yes   \n",
       "\n",
       "                  PaymentMethod  MonthlyCharges TotalCharges Churn  \n",
       "488   Bank transfer (automatic)           52.55                 No  \n",
       "753                Mailed check           20.25                 No  \n",
       "936                Mailed check           80.85                 No  \n",
       "1082               Mailed check           25.75                 No  \n",
       "1340    Credit card (automatic)           56.05                 No  \n",
       "3331               Mailed check           19.85                 No  \n",
       "3826               Mailed check           25.35                 No  \n",
       "4380               Mailed check           20.00                 No  \n",
       "5218               Mailed check           19.70                 No  \n",
       "6670               Mailed check           73.35                 No  \n",
       "6754  Bank transfer (automatic)           61.90                 No  "
      ]
     },
     "execution_count": 12,
     "metadata": {},
     "output_type": "execute_result"
    }
   ],
   "source": [
    "df[pd.to_numeric(df.TotalCharges, errors='coerce').isnull()]"
   ]
  },
  {
   "cell_type": "code",
   "execution_count": 13,
   "id": "211b15d8",
   "metadata": {},
   "outputs": [
    {
     "data": {
      "text/plain": [
       "(11, 20)"
      ]
     },
     "execution_count": 13,
     "metadata": {},
     "output_type": "execute_result"
    }
   ],
   "source": [
    "df[pd.to_numeric(df.TotalCharges, errors='coerce').isnull()].shape"
   ]
  },
  {
   "cell_type": "code",
   "execution_count": 14,
   "id": "be018bb5",
   "metadata": {},
   "outputs": [
    {
     "data": {
      "text/plain": [
       "(7043, 20)"
      ]
     },
     "execution_count": 14,
     "metadata": {},
     "output_type": "execute_result"
    }
   ],
   "source": [
    "df.shape"
   ]
  },
  {
   "cell_type": "code",
   "execution_count": 15,
   "id": "9b97dd14",
   "metadata": {},
   "outputs": [
    {
     "data": {
      "text/plain": [
       "gender                                 Female\n",
       "SeniorCitizen                               0\n",
       "Partner                                   Yes\n",
       "Dependents                                Yes\n",
       "tenure                                      0\n",
       "PhoneService                               No\n",
       "MultipleLines                No phone service\n",
       "InternetService                           DSL\n",
       "OnlineSecurity                            Yes\n",
       "OnlineBackup                               No\n",
       "DeviceProtection                          Yes\n",
       "TechSupport                               Yes\n",
       "StreamingTV                               Yes\n",
       "StreamingMovies                            No\n",
       "Contract                             Two year\n",
       "PaperlessBilling                          Yes\n",
       "PaymentMethod       Bank transfer (automatic)\n",
       "MonthlyCharges                          52.55\n",
       "TotalCharges                                 \n",
       "Churn                                      No\n",
       "Name: 488, dtype: object"
      ]
     },
     "execution_count": 15,
     "metadata": {},
     "output_type": "execute_result"
    }
   ],
   "source": [
    "df.iloc[488] # Similar to Array Indexing"
   ]
  },
  {
   "cell_type": "code",
   "execution_count": 16,
   "id": "306daf6a",
   "metadata": {},
   "outputs": [
    {
     "data": {
      "text/plain": [
       "' '"
      ]
     },
     "execution_count": 16,
     "metadata": {},
     "output_type": "execute_result"
    }
   ],
   "source": [
    "df.iloc[488]['TotalCharges']"
   ]
  },
  {
   "cell_type": "code",
   "execution_count": 17,
   "id": "04697cc5",
   "metadata": {},
   "outputs": [
    {
     "data": {
      "text/plain": [
       "'Yes'"
      ]
     },
     "execution_count": 17,
     "metadata": {},
     "output_type": "execute_result"
    }
   ],
   "source": [
    "df.iloc[488]['PaperlessBilling']"
   ]
  },
  {
   "cell_type": "code",
   "execution_count": 18,
   "id": "2ffff39d",
   "metadata": {},
   "outputs": [
    {
     "data": {
      "text/plain": [
       "(7032, 20)"
      ]
     },
     "execution_count": 18,
     "metadata": {},
     "output_type": "execute_result"
    }
   ],
   "source": [
    "dfNew=df[df['TotalCharges']!=' ']\n",
    "dfNew.shape"
   ]
  },
  {
   "cell_type": "code",
   "execution_count": 19,
   "id": "60e99be3",
   "metadata": {},
   "outputs": [
    {
     "data": {
      "text/plain": [
       "gender               object\n",
       "SeniorCitizen         int64\n",
       "Partner              object\n",
       "Dependents           object\n",
       "tenure                int64\n",
       "PhoneService         object\n",
       "MultipleLines        object\n",
       "InternetService      object\n",
       "OnlineSecurity       object\n",
       "OnlineBackup         object\n",
       "DeviceProtection     object\n",
       "TechSupport          object\n",
       "StreamingTV          object\n",
       "StreamingMovies      object\n",
       "Contract             object\n",
       "PaperlessBilling     object\n",
       "PaymentMethod        object\n",
       "MonthlyCharges      float64\n",
       "TotalCharges         object\n",
       "Churn                object\n",
       "dtype: object"
      ]
     },
     "execution_count": 19,
     "metadata": {},
     "output_type": "execute_result"
    }
   ],
   "source": [
    "dfNew.dtypes"
   ]
  },
  {
   "cell_type": "code",
   "execution_count": 20,
   "id": "efc79258",
   "metadata": {},
   "outputs": [
    {
     "name": "stderr",
     "output_type": "stream",
     "text": [
      "<ipython-input-20-8d7d4ed7835d>:1: SettingWithCopyWarning: \n",
      "A value is trying to be set on a copy of a slice from a DataFrame.\n",
      "Try using .loc[row_indexer,col_indexer] = value instead\n",
      "\n",
      "See the caveats in the documentation: https://pandas.pydata.org/pandas-docs/stable/user_guide/indexing.html#returning-a-view-versus-a-copy\n",
      "  dfNew['TotalCharges']=pd.to_numeric(dfNew['TotalCharges'])\n"
     ]
    }
   ],
   "source": [
    "dfNew['TotalCharges']=pd.to_numeric(dfNew['TotalCharges'])"
   ]
  },
  {
   "cell_type": "code",
   "execution_count": 21,
   "id": "5d87e249",
   "metadata": {},
   "outputs": [
    {
     "data": {
      "text/plain": [
       "0         29.85\n",
       "1       1889.50\n",
       "2        108.15\n",
       "3       1840.75\n",
       "4        151.65\n",
       "         ...   \n",
       "7038    1990.50\n",
       "7039    7362.90\n",
       "7040     346.45\n",
       "7041     306.60\n",
       "7042    6844.50\n",
       "Name: TotalCharges, Length: 7032, dtype: float64"
      ]
     },
     "execution_count": 21,
     "metadata": {},
     "output_type": "execute_result"
    }
   ],
   "source": [
    "dfNew['TotalCharges']"
   ]
  },
  {
   "cell_type": "code",
   "execution_count": 22,
   "id": "6a2e9354",
   "metadata": {},
   "outputs": [
    {
     "data": {
      "text/plain": [
       "gender               object\n",
       "SeniorCitizen         int64\n",
       "Partner              object\n",
       "Dependents           object\n",
       "tenure                int64\n",
       "PhoneService         object\n",
       "MultipleLines        object\n",
       "InternetService      object\n",
       "OnlineSecurity       object\n",
       "OnlineBackup         object\n",
       "DeviceProtection     object\n",
       "TechSupport          object\n",
       "StreamingTV          object\n",
       "StreamingMovies      object\n",
       "Contract             object\n",
       "PaperlessBilling     object\n",
       "PaymentMethod        object\n",
       "MonthlyCharges      float64\n",
       "TotalCharges        float64\n",
       "Churn                object\n",
       "dtype: object"
      ]
     },
     "execution_count": 22,
     "metadata": {},
     "output_type": "execute_result"
    }
   ],
   "source": [
    "dfNew.dtypes"
   ]
  },
  {
   "cell_type": "code",
   "execution_count": 23,
   "id": "9f80b13e",
   "metadata": {},
   "outputs": [
    {
     "data": {
      "text/html": [
       "<div>\n",
       "<style scoped>\n",
       "    .dataframe tbody tr th:only-of-type {\n",
       "        vertical-align: middle;\n",
       "    }\n",
       "\n",
       "    .dataframe tbody tr th {\n",
       "        vertical-align: top;\n",
       "    }\n",
       "\n",
       "    .dataframe thead th {\n",
       "        text-align: right;\n",
       "    }\n",
       "</style>\n",
       "<table border=\"1\" class=\"dataframe\">\n",
       "  <thead>\n",
       "    <tr style=\"text-align: right;\">\n",
       "      <th></th>\n",
       "      <th>gender</th>\n",
       "      <th>SeniorCitizen</th>\n",
       "      <th>Partner</th>\n",
       "      <th>Dependents</th>\n",
       "      <th>tenure</th>\n",
       "      <th>PhoneService</th>\n",
       "      <th>MultipleLines</th>\n",
       "      <th>InternetService</th>\n",
       "      <th>OnlineSecurity</th>\n",
       "      <th>OnlineBackup</th>\n",
       "      <th>DeviceProtection</th>\n",
       "      <th>TechSupport</th>\n",
       "      <th>StreamingTV</th>\n",
       "      <th>StreamingMovies</th>\n",
       "      <th>Contract</th>\n",
       "      <th>PaperlessBilling</th>\n",
       "      <th>PaymentMethod</th>\n",
       "      <th>MonthlyCharges</th>\n",
       "      <th>TotalCharges</th>\n",
       "      <th>Churn</th>\n",
       "    </tr>\n",
       "  </thead>\n",
       "  <tbody>\n",
       "    <tr>\n",
       "      <th>0</th>\n",
       "      <td>Female</td>\n",
       "      <td>0</td>\n",
       "      <td>Yes</td>\n",
       "      <td>No</td>\n",
       "      <td>1</td>\n",
       "      <td>No</td>\n",
       "      <td>No phone service</td>\n",
       "      <td>DSL</td>\n",
       "      <td>No</td>\n",
       "      <td>Yes</td>\n",
       "      <td>No</td>\n",
       "      <td>No</td>\n",
       "      <td>No</td>\n",
       "      <td>No</td>\n",
       "      <td>Month-to-month</td>\n",
       "      <td>Yes</td>\n",
       "      <td>Electronic check</td>\n",
       "      <td>29.85</td>\n",
       "      <td>29.85</td>\n",
       "      <td>No</td>\n",
       "    </tr>\n",
       "    <tr>\n",
       "      <th>1</th>\n",
       "      <td>Male</td>\n",
       "      <td>0</td>\n",
       "      <td>No</td>\n",
       "      <td>No</td>\n",
       "      <td>34</td>\n",
       "      <td>Yes</td>\n",
       "      <td>No</td>\n",
       "      <td>DSL</td>\n",
       "      <td>Yes</td>\n",
       "      <td>No</td>\n",
       "      <td>Yes</td>\n",
       "      <td>No</td>\n",
       "      <td>No</td>\n",
       "      <td>No</td>\n",
       "      <td>One year</td>\n",
       "      <td>No</td>\n",
       "      <td>Mailed check</td>\n",
       "      <td>56.95</td>\n",
       "      <td>1889.50</td>\n",
       "      <td>No</td>\n",
       "    </tr>\n",
       "    <tr>\n",
       "      <th>3</th>\n",
       "      <td>Male</td>\n",
       "      <td>0</td>\n",
       "      <td>No</td>\n",
       "      <td>No</td>\n",
       "      <td>45</td>\n",
       "      <td>No</td>\n",
       "      <td>No phone service</td>\n",
       "      <td>DSL</td>\n",
       "      <td>Yes</td>\n",
       "      <td>No</td>\n",
       "      <td>Yes</td>\n",
       "      <td>Yes</td>\n",
       "      <td>No</td>\n",
       "      <td>No</td>\n",
       "      <td>One year</td>\n",
       "      <td>No</td>\n",
       "      <td>Bank transfer (automatic)</td>\n",
       "      <td>42.30</td>\n",
       "      <td>1840.75</td>\n",
       "      <td>No</td>\n",
       "    </tr>\n",
       "    <tr>\n",
       "      <th>6</th>\n",
       "      <td>Male</td>\n",
       "      <td>0</td>\n",
       "      <td>No</td>\n",
       "      <td>Yes</td>\n",
       "      <td>22</td>\n",
       "      <td>Yes</td>\n",
       "      <td>Yes</td>\n",
       "      <td>Fiber optic</td>\n",
       "      <td>No</td>\n",
       "      <td>Yes</td>\n",
       "      <td>No</td>\n",
       "      <td>No</td>\n",
       "      <td>Yes</td>\n",
       "      <td>No</td>\n",
       "      <td>Month-to-month</td>\n",
       "      <td>Yes</td>\n",
       "      <td>Credit card (automatic)</td>\n",
       "      <td>89.10</td>\n",
       "      <td>1949.40</td>\n",
       "      <td>No</td>\n",
       "    </tr>\n",
       "    <tr>\n",
       "      <th>7</th>\n",
       "      <td>Female</td>\n",
       "      <td>0</td>\n",
       "      <td>No</td>\n",
       "      <td>No</td>\n",
       "      <td>10</td>\n",
       "      <td>No</td>\n",
       "      <td>No phone service</td>\n",
       "      <td>DSL</td>\n",
       "      <td>Yes</td>\n",
       "      <td>No</td>\n",
       "      <td>No</td>\n",
       "      <td>No</td>\n",
       "      <td>No</td>\n",
       "      <td>No</td>\n",
       "      <td>Month-to-month</td>\n",
       "      <td>No</td>\n",
       "      <td>Mailed check</td>\n",
       "      <td>29.75</td>\n",
       "      <td>301.90</td>\n",
       "      <td>No</td>\n",
       "    </tr>\n",
       "    <tr>\n",
       "      <th>...</th>\n",
       "      <td>...</td>\n",
       "      <td>...</td>\n",
       "      <td>...</td>\n",
       "      <td>...</td>\n",
       "      <td>...</td>\n",
       "      <td>...</td>\n",
       "      <td>...</td>\n",
       "      <td>...</td>\n",
       "      <td>...</td>\n",
       "      <td>...</td>\n",
       "      <td>...</td>\n",
       "      <td>...</td>\n",
       "      <td>...</td>\n",
       "      <td>...</td>\n",
       "      <td>...</td>\n",
       "      <td>...</td>\n",
       "      <td>...</td>\n",
       "      <td>...</td>\n",
       "      <td>...</td>\n",
       "      <td>...</td>\n",
       "    </tr>\n",
       "    <tr>\n",
       "      <th>7037</th>\n",
       "      <td>Female</td>\n",
       "      <td>0</td>\n",
       "      <td>No</td>\n",
       "      <td>No</td>\n",
       "      <td>72</td>\n",
       "      <td>Yes</td>\n",
       "      <td>No</td>\n",
       "      <td>No</td>\n",
       "      <td>No internet service</td>\n",
       "      <td>No internet service</td>\n",
       "      <td>No internet service</td>\n",
       "      <td>No internet service</td>\n",
       "      <td>No internet service</td>\n",
       "      <td>No internet service</td>\n",
       "      <td>Two year</td>\n",
       "      <td>Yes</td>\n",
       "      <td>Bank transfer (automatic)</td>\n",
       "      <td>21.15</td>\n",
       "      <td>1419.40</td>\n",
       "      <td>No</td>\n",
       "    </tr>\n",
       "    <tr>\n",
       "      <th>7038</th>\n",
       "      <td>Male</td>\n",
       "      <td>0</td>\n",
       "      <td>Yes</td>\n",
       "      <td>Yes</td>\n",
       "      <td>24</td>\n",
       "      <td>Yes</td>\n",
       "      <td>Yes</td>\n",
       "      <td>DSL</td>\n",
       "      <td>Yes</td>\n",
       "      <td>No</td>\n",
       "      <td>Yes</td>\n",
       "      <td>Yes</td>\n",
       "      <td>Yes</td>\n",
       "      <td>Yes</td>\n",
       "      <td>One year</td>\n",
       "      <td>Yes</td>\n",
       "      <td>Mailed check</td>\n",
       "      <td>84.80</td>\n",
       "      <td>1990.50</td>\n",
       "      <td>No</td>\n",
       "    </tr>\n",
       "    <tr>\n",
       "      <th>7039</th>\n",
       "      <td>Female</td>\n",
       "      <td>0</td>\n",
       "      <td>Yes</td>\n",
       "      <td>Yes</td>\n",
       "      <td>72</td>\n",
       "      <td>Yes</td>\n",
       "      <td>Yes</td>\n",
       "      <td>Fiber optic</td>\n",
       "      <td>No</td>\n",
       "      <td>Yes</td>\n",
       "      <td>Yes</td>\n",
       "      <td>No</td>\n",
       "      <td>Yes</td>\n",
       "      <td>Yes</td>\n",
       "      <td>One year</td>\n",
       "      <td>Yes</td>\n",
       "      <td>Credit card (automatic)</td>\n",
       "      <td>103.20</td>\n",
       "      <td>7362.90</td>\n",
       "      <td>No</td>\n",
       "    </tr>\n",
       "    <tr>\n",
       "      <th>7040</th>\n",
       "      <td>Female</td>\n",
       "      <td>0</td>\n",
       "      <td>Yes</td>\n",
       "      <td>Yes</td>\n",
       "      <td>11</td>\n",
       "      <td>No</td>\n",
       "      <td>No phone service</td>\n",
       "      <td>DSL</td>\n",
       "      <td>Yes</td>\n",
       "      <td>No</td>\n",
       "      <td>No</td>\n",
       "      <td>No</td>\n",
       "      <td>No</td>\n",
       "      <td>No</td>\n",
       "      <td>Month-to-month</td>\n",
       "      <td>Yes</td>\n",
       "      <td>Electronic check</td>\n",
       "      <td>29.60</td>\n",
       "      <td>346.45</td>\n",
       "      <td>No</td>\n",
       "    </tr>\n",
       "    <tr>\n",
       "      <th>7042</th>\n",
       "      <td>Male</td>\n",
       "      <td>0</td>\n",
       "      <td>No</td>\n",
       "      <td>No</td>\n",
       "      <td>66</td>\n",
       "      <td>Yes</td>\n",
       "      <td>No</td>\n",
       "      <td>Fiber optic</td>\n",
       "      <td>Yes</td>\n",
       "      <td>No</td>\n",
       "      <td>Yes</td>\n",
       "      <td>Yes</td>\n",
       "      <td>Yes</td>\n",
       "      <td>Yes</td>\n",
       "      <td>Two year</td>\n",
       "      <td>Yes</td>\n",
       "      <td>Bank transfer (automatic)</td>\n",
       "      <td>105.65</td>\n",
       "      <td>6844.50</td>\n",
       "      <td>No</td>\n",
       "    </tr>\n",
       "  </tbody>\n",
       "</table>\n",
       "<p>5163 rows × 20 columns</p>\n",
       "</div>"
      ],
      "text/plain": [
       "      gender  SeniorCitizen Partner Dependents  tenure PhoneService  \\\n",
       "0     Female              0     Yes         No       1           No   \n",
       "1       Male              0      No         No      34          Yes   \n",
       "3       Male              0      No         No      45           No   \n",
       "6       Male              0      No        Yes      22          Yes   \n",
       "7     Female              0      No         No      10           No   \n",
       "...      ...            ...     ...        ...     ...          ...   \n",
       "7037  Female              0      No         No      72          Yes   \n",
       "7038    Male              0     Yes        Yes      24          Yes   \n",
       "7039  Female              0     Yes        Yes      72          Yes   \n",
       "7040  Female              0     Yes        Yes      11           No   \n",
       "7042    Male              0      No         No      66          Yes   \n",
       "\n",
       "         MultipleLines InternetService       OnlineSecurity  \\\n",
       "0     No phone service             DSL                   No   \n",
       "1                   No             DSL                  Yes   \n",
       "3     No phone service             DSL                  Yes   \n",
       "6                  Yes     Fiber optic                   No   \n",
       "7     No phone service             DSL                  Yes   \n",
       "...                ...             ...                  ...   \n",
       "7037                No              No  No internet service   \n",
       "7038               Yes             DSL                  Yes   \n",
       "7039               Yes     Fiber optic                   No   \n",
       "7040  No phone service             DSL                  Yes   \n",
       "7042                No     Fiber optic                  Yes   \n",
       "\n",
       "             OnlineBackup     DeviceProtection          TechSupport  \\\n",
       "0                     Yes                   No                   No   \n",
       "1                      No                  Yes                   No   \n",
       "3                      No                  Yes                  Yes   \n",
       "6                     Yes                   No                   No   \n",
       "7                      No                   No                   No   \n",
       "...                   ...                  ...                  ...   \n",
       "7037  No internet service  No internet service  No internet service   \n",
       "7038                   No                  Yes                  Yes   \n",
       "7039                  Yes                  Yes                   No   \n",
       "7040                   No                   No                   No   \n",
       "7042                   No                  Yes                  Yes   \n",
       "\n",
       "              StreamingTV      StreamingMovies        Contract  \\\n",
       "0                      No                   No  Month-to-month   \n",
       "1                      No                   No        One year   \n",
       "3                      No                   No        One year   \n",
       "6                     Yes                   No  Month-to-month   \n",
       "7                      No                   No  Month-to-month   \n",
       "...                   ...                  ...             ...   \n",
       "7037  No internet service  No internet service        Two year   \n",
       "7038                  Yes                  Yes        One year   \n",
       "7039                  Yes                  Yes        One year   \n",
       "7040                   No                   No  Month-to-month   \n",
       "7042                  Yes                  Yes        Two year   \n",
       "\n",
       "     PaperlessBilling              PaymentMethod  MonthlyCharges  \\\n",
       "0                 Yes           Electronic check           29.85   \n",
       "1                  No               Mailed check           56.95   \n",
       "3                  No  Bank transfer (automatic)           42.30   \n",
       "6                 Yes    Credit card (automatic)           89.10   \n",
       "7                  No               Mailed check           29.75   \n",
       "...               ...                        ...             ...   \n",
       "7037              Yes  Bank transfer (automatic)           21.15   \n",
       "7038              Yes               Mailed check           84.80   \n",
       "7039              Yes    Credit card (automatic)          103.20   \n",
       "7040              Yes           Electronic check           29.60   \n",
       "7042              Yes  Bank transfer (automatic)          105.65   \n",
       "\n",
       "      TotalCharges Churn  \n",
       "0            29.85    No  \n",
       "1          1889.50    No  \n",
       "3          1840.75    No  \n",
       "6          1949.40    No  \n",
       "7           301.90    No  \n",
       "...            ...   ...  \n",
       "7037       1419.40    No  \n",
       "7038       1990.50    No  \n",
       "7039       7362.90    No  \n",
       "7040        346.45    No  \n",
       "7042       6844.50    No  \n",
       "\n",
       "[5163 rows x 20 columns]"
      ]
     },
     "execution_count": 23,
     "metadata": {},
     "output_type": "execute_result"
    }
   ],
   "source": [
    "dfNew[dfNew['Churn'] == 'No']"
   ]
  },
  {
   "cell_type": "code",
   "execution_count": 24,
   "id": "e8f08314",
   "metadata": {},
   "outputs": [
    {
     "data": {
      "text/plain": [
       "0        1\n",
       "1       34\n",
       "3       45\n",
       "6       22\n",
       "7       10\n",
       "        ..\n",
       "7037    72\n",
       "7038    24\n",
       "7039    72\n",
       "7040    11\n",
       "7042    66\n",
       "Name: tenure, Length: 5163, dtype: int64"
      ]
     },
     "execution_count": 24,
     "metadata": {},
     "output_type": "execute_result"
    }
   ],
   "source": [
    "dfNew[dfNew['Churn'] == 'No'].tenure"
   ]
  },
  {
   "cell_type": "code",
   "execution_count": 25,
   "id": "44556fee",
   "metadata": {},
   "outputs": [
    {
     "data": {
      "text/plain": [
       "<matplotlib.legend.Legend at 0x1c049bdefa0>"
      ]
     },
     "execution_count": 25,
     "metadata": {},
     "output_type": "execute_result"
    },
    {
     "data": {
      "image/png": "[encoded data removed]",
      "text/plain": [
       "<Figure size 432x288 with 1 Axes>"
      ]
     },
     "metadata": {
      "needs_background": "light"
     },
     "output_type": "display_data"
    }
   ],
   "source": [
    "tenure_churn_no=dfNew[dfNew['Churn']== 'No'].tenure\n",
    "tenure_churn_yes=dfNew[dfNew['Churn']== 'Yes'].tenure\n",
    "\n",
    "plt.xlabel('tenure')\n",
    "plt.ylabel('Number Of Customers')\n",
    "plt.title('Visualizing the prediction of the Customer Churn Dataset')\n",
    "\n",
    "plt.hist([tenure_churn_yes, tenure_churn_no], color=['green','red'], label=['Churn=Yes', 'Churn=No'])\n",
    "plt.legend()"
   ]
  },
  {
   "cell_type": "code",
   "execution_count": 26,
   "id": "9043822f",
   "metadata": {},
   "outputs": [
    {
     "name": "stdout",
     "output_type": "stream",
     "text": [
      "gender : ['Female' 'Male'] \n",
      "SeniorCitizen : [0 1] \n",
      "Partner : ['Yes' 'No'] \n",
      "Dependents : ['No' 'Yes'] \n",
      "tenure : [ 1 34  2 45  8 22 10 28 62 13 16 58 49 25 69 52 71 21 12 30 47 72 17 27\n",
      "  5 46 11 70 63 43 15 60 18 66  9  3 31 50 64 56  7 42 35 48 29 65 38 68\n",
      " 32 55 37 36 41  6  4 33 67 23 57 61 14 20 53 40 59 24 44 19 54 51 26  0\n",
      " 39] \n",
      "PhoneService : ['No' 'Yes'] \n",
      "MultipleLines : ['No phone service' 'No' 'Yes'] \n",
      "InternetService : ['DSL' 'Fiber optic' 'No'] \n",
      "OnlineSecurity : ['No' 'Yes' 'No internet service'] \n",
      "OnlineBackup : ['Yes' 'No' 'No internet service'] \n",
      "DeviceProtection : ['No' 'Yes' 'No internet service'] \n",
      "TechSupport : ['No' 'Yes' 'No internet service'] \n",
      "StreamingTV : ['No' 'Yes' 'No internet service'] \n",
      "StreamingMovies : ['No' 'Yes' 'No internet service'] \n",
      "Contract : ['Month-to-month' 'One year' 'Two year'] \n",
      "PaperlessBilling : ['Yes' 'No'] \n",
      "PaymentMethod : ['Electronic check' 'Mailed check' 'Bank transfer (automatic)'\n",
      " 'Credit card (automatic)'] \n",
      "MonthlyCharges : [29.85 56.95 53.85 ... 63.1  44.2  78.7 ] \n",
      "TotalCharges : ['29.85' '1889.5' '108.15' ... '346.45' '306.6' '6844.5'] \n",
      "Churn : ['No' 'Yes'] \n"
     ]
    }
   ],
   "source": [
    "for column in df:\n",
    "    print(f'{column} : {df[column].unique()} ')"
   ]
  },
  {
   "cell_type": "code",
   "execution_count": 27,
   "id": "325bf9ca",
   "metadata": {},
   "outputs": [],
   "source": [
    "def print_unique_col_values(df):\n",
    "    for column in df:\n",
    "        if df[column].dtypes=='object':\n",
    "             print(f'{column} : {df[column].unique()} ')"
   ]
  },
  {
   "cell_type": "code",
   "execution_count": 28,
   "id": "74612252",
   "metadata": {},
   "outputs": [
    {
     "name": "stdout",
     "output_type": "stream",
     "text": [
      "gender : ['Female' 'Male'] \n",
      "Partner : ['Yes' 'No'] \n",
      "Dependents : ['No' 'Yes'] \n",
      "PhoneService : ['No' 'Yes'] \n",
      "MultipleLines : ['No phone service' 'No' 'Yes'] \n",
      "InternetService : ['DSL' 'Fiber optic' 'No'] \n",
      "OnlineSecurity : ['No' 'Yes' 'No internet service'] \n",
      "OnlineBackup : ['Yes' 'No' 'No internet service'] \n",
      "DeviceProtection : ['No' 'Yes' 'No internet service'] \n",
      "TechSupport : ['No' 'Yes' 'No internet service'] \n",
      "StreamingTV : ['No' 'Yes' 'No internet service'] \n",
      "StreamingMovies : ['No' 'Yes' 'No internet service'] \n",
      "Contract : ['Month-to-month' 'One year' 'Two year'] \n",
      "PaperlessBilling : ['Yes' 'No'] \n",
      "PaymentMethod : ['Electronic check' 'Mailed check' 'Bank transfer (automatic)'\n",
      " 'Credit card (automatic)'] \n",
      "Churn : ['No' 'Yes'] \n"
     ]
    }
   ],
   "source": [
    "print_unique_col_values(dfNew)"
   ]
  },
  {
   "cell_type": "code",
   "execution_count": 29,
   "id": "be391aa8",
   "metadata": {},
   "outputs": [
    {
     "name": "stderr",
     "output_type": "stream",
     "text": [
      "C:\\Users\\argha\\anaconda3\\lib\\site-packages\\pandas\\core\\frame.py:4524: SettingWithCopyWarning: \n",
      "A value is trying to be set on a copy of a slice from a DataFrame\n",
      "\n",
      "See the caveats in the documentation: https://pandas.pydata.org/pandas-docs/stable/user_guide/indexing.html#returning-a-view-versus-a-copy\n",
      "  return super().replace(\n"
     ]
    }
   ],
   "source": [
    "dfNew.replace('No phone service', 'No', inplace=True)\n",
    "dfNew.replace('No internet service', 'No', inplace=True)"
   ]
  },
  {
   "cell_type": "code",
   "execution_count": 30,
   "id": "fd244760",
   "metadata": {},
   "outputs": [
    {
     "name": "stdout",
     "output_type": "stream",
     "text": [
      "gender : ['Female' 'Male'] \n",
      "Partner : ['Yes' 'No'] \n",
      "Dependents : ['No' 'Yes'] \n",
      "PhoneService : ['No' 'Yes'] \n",
      "MultipleLines : ['No' 'Yes'] \n",
      "InternetService : ['DSL' 'Fiber optic' 'No'] \n",
      "OnlineSecurity : ['No' 'Yes'] \n",
      "OnlineBackup : ['Yes' 'No'] \n",
      "DeviceProtection : ['No' 'Yes'] \n",
      "TechSupport : ['No' 'Yes'] \n",
      "StreamingTV : ['No' 'Yes'] \n",
      "StreamingMovies : ['No' 'Yes'] \n",
      "Contract : ['Month-to-month' 'One year' 'Two year'] \n",
      "PaperlessBilling : ['Yes' 'No'] \n",
      "PaymentMethod : ['Electronic check' 'Mailed check' 'Bank transfer (automatic)'\n",
      " 'Credit card (automatic)'] \n",
      "Churn : ['No' 'Yes'] \n"
     ]
    }
   ],
   "source": [
    "print_unique_col_values(dfNew)"
   ]
  },
  {
   "cell_type": "code",
   "execution_count": 31,
   "id": "83d00c39",
   "metadata": {},
   "outputs": [
    {
     "name": "stderr",
     "output_type": "stream",
     "text": [
      "C:\\Users\\argha\\anaconda3\\lib\\site-packages\\pandas\\core\\series.py:4509: SettingWithCopyWarning: \n",
      "A value is trying to be set on a copy of a slice from a DataFrame\n",
      "\n",
      "See the caveats in the documentation: https://pandas.pydata.org/pandas-docs/stable/user_guide/indexing.html#returning-a-view-versus-a-copy\n",
      "  return super().replace(\n"
     ]
    }
   ],
   "source": [
    "yes_no_columns = ['Partner','Dependents','PhoneService','MultipleLines','OnlineSecurity','OnlineBackup',\n",
    "                  'DeviceProtection','TechSupport','StreamingTV','StreamingMovies','PaperlessBilling','Churn']\n",
    "for col in yes_no_columns:\n",
    "    dfNew[col].replace({'Yes': 1,'No': 0},inplace=True) #We can pass a dictionary to the 'replace' function as well."
   ]
  },
  {
   "cell_type": "code",
   "execution_count": 32,
   "id": "c194fb6b",
   "metadata": {},
   "outputs": [
    {
     "name": "stdout",
     "output_type": "stream",
     "text": [
      "gender : ['Female' 'Male']\n",
      "SeniorCitizen : [0 1]\n",
      "Partner : [1 0]\n",
      "Dependents : [0 1]\n",
      "tenure : [ 1 34  2 45  8 22 10 28 62 13 16 58 49 25 69 52 71 21 12 30 47 72 17 27\n",
      "  5 46 11 70 63 43 15 60 18 66  9  3 31 50 64 56  7 42 35 48 29 65 38 68\n",
      " 32 55 37 36 41  6  4 33 67 23 57 61 14 20 53 40 59 24 44 19 54 51 26 39]\n",
      "PhoneService : [0 1]\n",
      "MultipleLines : [0 1]\n",
      "InternetService : ['DSL' 'Fiber optic' 'No']\n",
      "OnlineSecurity : [0 1]\n",
      "OnlineBackup : [1 0]\n",
      "DeviceProtection : [0 1]\n",
      "TechSupport : [0 1]\n",
      "StreamingTV : [0 1]\n",
      "StreamingMovies : [0 1]\n",
      "Contract : ['Month-to-month' 'One year' 'Two year']\n",
      "PaperlessBilling : [1 0]\n",
      "PaymentMethod : ['Electronic check' 'Mailed check' 'Bank transfer (automatic)'\n",
      " 'Credit card (automatic)']\n",
      "MonthlyCharges : [29.85 56.95 53.85 ... 63.1  44.2  78.7 ]\n",
      "TotalCharges : [  29.85 1889.5   108.15 ...  346.45  306.6  6844.5 ]\n",
      "Churn : [0 1]\n"
     ]
    }
   ],
   "source": [
    "for col in dfNew:\n",
    "    print(f'{col} : {dfNew[col].unique()}')"
   ]
  },
  {
   "cell_type": "code",
   "execution_count": 33,
   "id": "73ea820f",
   "metadata": {},
   "outputs": [],
   "source": [
    " dfNew['gender'].replace({'Female': 1,'Male': 0},inplace=True)"
   ]
  },
  {
   "cell_type": "code",
   "execution_count": 34,
   "id": "63511c13",
   "metadata": {},
   "outputs": [
    {
     "data": {
      "text/plain": [
       "array([1, 0], dtype=int64)"
      ]
     },
     "execution_count": 34,
     "metadata": {},
     "output_type": "execute_result"
    }
   ],
   "source": [
    "dfNew['gender'].unique()"
   ]
  },
  {
   "cell_type": "code",
   "execution_count": 35,
   "id": "5d34ee4e",
   "metadata": {},
   "outputs": [
    {
     "data": {
      "text/plain": [
       "Index(['gender', 'SeniorCitizen', 'Partner', 'Dependents', 'tenure',\n",
       "       'PhoneService', 'MultipleLines', 'OnlineSecurity', 'OnlineBackup',\n",
       "       'DeviceProtection', 'TechSupport', 'StreamingTV', 'StreamingMovies',\n",
       "       'PaperlessBilling', 'MonthlyCharges', 'TotalCharges', 'Churn',\n",
       "       'InternetService_DSL', 'InternetService_Fiber optic',\n",
       "       'InternetService_No', 'Contract_Month-to-month', 'Contract_One year',\n",
       "       'Contract_Two year', 'PaymentMethod_Bank transfer (automatic)',\n",
       "       'PaymentMethod_Credit card (automatic)',\n",
       "       'PaymentMethod_Electronic check', 'PaymentMethod_Mailed check'],\n",
       "      dtype='object')"
      ]
     },
     "execution_count": 35,
     "metadata": {},
     "output_type": "execute_result"
    }
   ],
   "source": [
    "dfNew2=pd.get_dummies(data=dfNew, columns=['InternetService','Contract','PaymentMethod'])\n",
    "dfNew2.columns"
   ]
  },
  {
   "cell_type": "code",
   "execution_count": 36,
   "id": "50737d22",
   "metadata": {},
   "outputs": [
    {
     "data": {
      "text/html": [
       "<div>\n",
       "<style scoped>\n",
       "    .dataframe tbody tr th:only-of-type {\n",
       "        vertical-align: middle;\n",
       "    }\n",
       "\n",
       "    .dataframe tbody tr th {\n",
       "        vertical-align: top;\n",
       "    }\n",
       "\n",
       "    .dataframe thead th {\n",
       "        text-align: right;\n",
       "    }\n",
       "</style>\n",
       "<table border=\"1\" class=\"dataframe\">\n",
       "  <thead>\n",
       "    <tr style=\"text-align: right;\">\n",
       "      <th></th>\n",
       "      <th>gender</th>\n",
       "      <th>SeniorCitizen</th>\n",
       "      <th>Partner</th>\n",
       "      <th>Dependents</th>\n",
       "      <th>tenure</th>\n",
       "      <th>PhoneService</th>\n",
       "      <th>MultipleLines</th>\n",
       "      <th>OnlineSecurity</th>\n",
       "      <th>OnlineBackup</th>\n",
       "      <th>DeviceProtection</th>\n",
       "      <th>...</th>\n",
       "      <th>InternetService_DSL</th>\n",
       "      <th>InternetService_Fiber optic</th>\n",
       "      <th>InternetService_No</th>\n",
       "      <th>Contract_Month-to-month</th>\n",
       "      <th>Contract_One year</th>\n",
       "      <th>Contract_Two year</th>\n",
       "      <th>PaymentMethod_Bank transfer (automatic)</th>\n",
       "      <th>PaymentMethod_Credit card (automatic)</th>\n",
       "      <th>PaymentMethod_Electronic check</th>\n",
       "      <th>PaymentMethod_Mailed check</th>\n",
       "    </tr>\n",
       "  </thead>\n",
       "  <tbody>\n",
       "    <tr>\n",
       "      <th>0</th>\n",
       "      <td>1</td>\n",
       "      <td>0</td>\n",
       "      <td>1</td>\n",
       "      <td>0</td>\n",
       "      <td>1</td>\n",
       "      <td>0</td>\n",
       "      <td>0</td>\n",
       "      <td>0</td>\n",
       "      <td>1</td>\n",
       "      <td>0</td>\n",
       "      <td>...</td>\n",
       "      <td>1</td>\n",
       "      <td>0</td>\n",
       "      <td>0</td>\n",
       "      <td>1</td>\n",
       "      <td>0</td>\n",
       "      <td>0</td>\n",
       "      <td>0</td>\n",
       "      <td>0</td>\n",
       "      <td>1</td>\n",
       "      <td>0</td>\n",
       "    </tr>\n",
       "    <tr>\n",
       "      <th>1</th>\n",
       "      <td>0</td>\n",
       "      <td>0</td>\n",
       "      <td>0</td>\n",
       "      <td>0</td>\n",
       "      <td>34</td>\n",
       "      <td>1</td>\n",
       "      <td>0</td>\n",
       "      <td>1</td>\n",
       "      <td>0</td>\n",
       "      <td>1</td>\n",
       "      <td>...</td>\n",
       "      <td>1</td>\n",
       "      <td>0</td>\n",
       "      <td>0</td>\n",
       "      <td>0</td>\n",
       "      <td>1</td>\n",
       "      <td>0</td>\n",
       "      <td>0</td>\n",
       "      <td>0</td>\n",
       "      <td>0</td>\n",
       "      <td>1</td>\n",
       "    </tr>\n",
       "    <tr>\n",
       "      <th>2</th>\n",
       "      <td>0</td>\n",
       "      <td>0</td>\n",
       "      <td>0</td>\n",
       "      <td>0</td>\n",
       "      <td>2</td>\n",
       "      <td>1</td>\n",
       "      <td>0</td>\n",
       "      <td>1</td>\n",
       "      <td>1</td>\n",
       "      <td>0</td>\n",
       "      <td>...</td>\n",
       "      <td>1</td>\n",
       "      <td>0</td>\n",
       "      <td>0</td>\n",
       "      <td>1</td>\n",
       "      <td>0</td>\n",
       "      <td>0</td>\n",
       "      <td>0</td>\n",
       "      <td>0</td>\n",
       "      <td>0</td>\n",
       "      <td>1</td>\n",
       "    </tr>\n",
       "    <tr>\n",
       "      <th>3</th>\n",
       "      <td>0</td>\n",
       "      <td>0</td>\n",
       "      <td>0</td>\n",
       "      <td>0</td>\n",
       "      <td>45</td>\n",
       "      <td>0</td>\n",
       "      <td>0</td>\n",
       "      <td>1</td>\n",
       "      <td>0</td>\n",
       "      <td>1</td>\n",
       "      <td>...</td>\n",
       "      <td>1</td>\n",
       "      <td>0</td>\n",
       "      <td>0</td>\n",
       "      <td>0</td>\n",
       "      <td>1</td>\n",
       "      <td>0</td>\n",
       "      <td>1</td>\n",
       "      <td>0</td>\n",
       "      <td>0</td>\n",
       "      <td>0</td>\n",
       "    </tr>\n",
       "    <tr>\n",
       "      <th>4</th>\n",
       "      <td>1</td>\n",
       "      <td>0</td>\n",
       "      <td>0</td>\n",
       "      <td>0</td>\n",
       "      <td>2</td>\n",
       "      <td>1</td>\n",
       "      <td>0</td>\n",
       "      <td>0</td>\n",
       "      <td>0</td>\n",
       "      <td>0</td>\n",
       "      <td>...</td>\n",
       "      <td>0</td>\n",
       "      <td>1</td>\n",
       "      <td>0</td>\n",
       "      <td>1</td>\n",
       "      <td>0</td>\n",
       "      <td>0</td>\n",
       "      <td>0</td>\n",
       "      <td>0</td>\n",
       "      <td>1</td>\n",
       "      <td>0</td>\n",
       "    </tr>\n",
       "  </tbody>\n",
       "</table>\n",
       "<p>5 rows × 27 columns</p>\n",
       "</div>"
      ],
      "text/plain": [
       "   gender  SeniorCitizen  Partner  Dependents  tenure  PhoneService  \\\n",
       "0       1              0        1           0       1             0   \n",
       "1       0              0        0           0      34             1   \n",
       "2       0              0        0           0       2             1   \n",
       "3       0              0        0           0      45             0   \n",
       "4       1              0        0           0       2             1   \n",
       "\n",
       "   MultipleLines  OnlineSecurity  OnlineBackup  DeviceProtection  ...  \\\n",
       "0              0               0             1                 0  ...   \n",
       "1              0               1             0                 1  ...   \n",
       "2              0               1             1                 0  ...   \n",
       "3              0               1             0                 1  ...   \n",
       "4              0               0             0                 0  ...   \n",
       "\n",
       "   InternetService_DSL  InternetService_Fiber optic  InternetService_No  \\\n",
       "0                    1                            0                   0   \n",
       "1                    1                            0                   0   \n",
       "2                    1                            0                   0   \n",
       "3                    1                            0                   0   \n",
       "4                    0                            1                   0   \n",
       "\n",
       "   Contract_Month-to-month  Contract_One year  Contract_Two year  \\\n",
       "0                        1                  0                  0   \n",
       "1                        0                  1                  0   \n",
       "2                        1                  0                  0   \n",
       "3                        0                  1                  0   \n",
       "4                        1                  0                  0   \n",
       "\n",
       "   PaymentMethod_Bank transfer (automatic)  \\\n",
       "0                                        0   \n",
       "1                                        0   \n",
       "2                                        0   \n",
       "3                                        1   \n",
       "4                                        0   \n",
       "\n",
       "   PaymentMethod_Credit card (automatic)  PaymentMethod_Electronic check  \\\n",
       "0                                      0                               1   \n",
       "1                                      0                               0   \n",
       "2                                      0                               0   \n",
       "3                                      0                               0   \n",
       "4                                      0                               1   \n",
       "\n",
       "   PaymentMethod_Mailed check  \n",
       "0                           0  \n",
       "1                           1  \n",
       "2                           1  \n",
       "3                           0  \n",
       "4                           0  \n",
       "\n",
       "[5 rows x 27 columns]"
      ]
     },
     "execution_count": 36,
     "metadata": {},
     "output_type": "execute_result"
    }
   ],
   "source": [
    "dfNew2.head()"
   ]
  },
  {
   "cell_type": "code",
   "execution_count": 37,
   "id": "d0fdebcc",
   "metadata": {},
   "outputs": [
    {
     "data": {
      "text/plain": [
       "(7032, 27)"
      ]
     },
     "execution_count": 37,
     "metadata": {},
     "output_type": "execute_result"
    }
   ],
   "source": [
    "dfNew2.shape"
   ]
  },
  {
   "cell_type": "code",
   "execution_count": 38,
   "id": "307bd280",
   "metadata": {},
   "outputs": [
    {
     "data": {
      "text/plain": [
       "gender                                       int64\n",
       "SeniorCitizen                                int64\n",
       "Partner                                      int64\n",
       "Dependents                                   int64\n",
       "tenure                                       int64\n",
       "PhoneService                                 int64\n",
       "MultipleLines                                int64\n",
       "OnlineSecurity                               int64\n",
       "OnlineBackup                                 int64\n",
       "DeviceProtection                             int64\n",
       "TechSupport                                  int64\n",
       "StreamingTV                                  int64\n",
       "StreamingMovies                              int64\n",
       "PaperlessBilling                             int64\n",
       "MonthlyCharges                             float64\n",
       "TotalCharges                               float64\n",
       "Churn                                        int64\n",
       "InternetService_DSL                          uint8\n",
       "InternetService_Fiber optic                  uint8\n",
       "InternetService_No                           uint8\n",
       "Contract_Month-to-month                      uint8\n",
       "Contract_One year                            uint8\n",
       "Contract_Two year                            uint8\n",
       "PaymentMethod_Bank transfer (automatic)      uint8\n",
       "PaymentMethod_Credit card (automatic)        uint8\n",
       "PaymentMethod_Electronic check               uint8\n",
       "PaymentMethod_Mailed check                   uint8\n",
       "dtype: object"
      ]
     },
     "execution_count": 38,
     "metadata": {},
     "output_type": "execute_result"
    }
   ],
   "source": [
    "dfNew2.dtypes"
   ]
  },
  {
   "cell_type": "code",
   "execution_count": 39,
   "id": "f5cc2f60",
   "metadata": {},
   "outputs": [],
   "source": [
    "cols_to_scale=['tenure','MonthlyCharges','TotalCharges']\n",
    "\n",
    "from sklearn.preprocessing import MinMaxScaler\n",
    "scaler=MinMaxScaler()\n",
    "\n",
    "dfNew2[cols_to_scale]=scaler.fit_transform(dfNew2[cols_to_scale])"
   ]
  },
  {
   "cell_type": "code",
   "execution_count": 40,
   "id": "93b4080a",
   "metadata": {
    "scrolled": true
   },
   "outputs": [
    {
     "data": {
      "text/html": [
       "<div>\n",
       "<style scoped>\n",
       "    .dataframe tbody tr th:only-of-type {\n",
       "        vertical-align: middle;\n",
       "    }\n",
       "\n",
       "    .dataframe tbody tr th {\n",
       "        vertical-align: top;\n",
       "    }\n",
       "\n",
       "    .dataframe thead th {\n",
       "        text-align: right;\n",
       "    }\n",
       "</style>\n",
       "<table border=\"1\" class=\"dataframe\">\n",
       "  <thead>\n",
       "    <tr style=\"text-align: right;\">\n",
       "      <th></th>\n",
       "      <th>gender</th>\n",
       "      <th>SeniorCitizen</th>\n",
       "      <th>Partner</th>\n",
       "      <th>Dependents</th>\n",
       "      <th>tenure</th>\n",
       "      <th>PhoneService</th>\n",
       "      <th>MultipleLines</th>\n",
       "      <th>OnlineSecurity</th>\n",
       "      <th>OnlineBackup</th>\n",
       "      <th>DeviceProtection</th>\n",
       "      <th>...</th>\n",
       "      <th>InternetService_DSL</th>\n",
       "      <th>InternetService_Fiber optic</th>\n",
       "      <th>InternetService_No</th>\n",
       "      <th>Contract_Month-to-month</th>\n",
       "      <th>Contract_One year</th>\n",
       "      <th>Contract_Two year</th>\n",
       "      <th>PaymentMethod_Bank transfer (automatic)</th>\n",
       "      <th>PaymentMethod_Credit card (automatic)</th>\n",
       "      <th>PaymentMethod_Electronic check</th>\n",
       "      <th>PaymentMethod_Mailed check</th>\n",
       "    </tr>\n",
       "  </thead>\n",
       "  <tbody>\n",
       "    <tr>\n",
       "      <th>0</th>\n",
       "      <td>1</td>\n",
       "      <td>0</td>\n",
       "      <td>1</td>\n",
       "      <td>0</td>\n",
       "      <td>0.000000</td>\n",
       "      <td>0</td>\n",
       "      <td>0</td>\n",
       "      <td>0</td>\n",
       "      <td>1</td>\n",
       "      <td>0</td>\n",
       "      <td>...</td>\n",
       "      <td>1</td>\n",
       "      <td>0</td>\n",
       "      <td>0</td>\n",
       "      <td>1</td>\n",
       "      <td>0</td>\n",
       "      <td>0</td>\n",
       "      <td>0</td>\n",
       "      <td>0</td>\n",
       "      <td>1</td>\n",
       "      <td>0</td>\n",
       "    </tr>\n",
       "    <tr>\n",
       "      <th>1</th>\n",
       "      <td>0</td>\n",
       "      <td>0</td>\n",
       "      <td>0</td>\n",
       "      <td>0</td>\n",
       "      <td>0.464789</td>\n",
       "      <td>1</td>\n",
       "      <td>0</td>\n",
       "      <td>1</td>\n",
       "      <td>0</td>\n",
       "      <td>1</td>\n",
       "      <td>...</td>\n",
       "      <td>1</td>\n",
       "      <td>0</td>\n",
       "      <td>0</td>\n",
       "      <td>0</td>\n",
       "      <td>1</td>\n",
       "      <td>0</td>\n",
       "      <td>0</td>\n",
       "      <td>0</td>\n",
       "      <td>0</td>\n",
       "      <td>1</td>\n",
       "    </tr>\n",
       "    <tr>\n",
       "      <th>2</th>\n",
       "      <td>0</td>\n",
       "      <td>0</td>\n",
       "      <td>0</td>\n",
       "      <td>0</td>\n",
       "      <td>0.014085</td>\n",
       "      <td>1</td>\n",
       "      <td>0</td>\n",
       "      <td>1</td>\n",
       "      <td>1</td>\n",
       "      <td>0</td>\n",
       "      <td>...</td>\n",
       "      <td>1</td>\n",
       "      <td>0</td>\n",
       "      <td>0</td>\n",
       "      <td>1</td>\n",
       "      <td>0</td>\n",
       "      <td>0</td>\n",
       "      <td>0</td>\n",
       "      <td>0</td>\n",
       "      <td>0</td>\n",
       "      <td>1</td>\n",
       "    </tr>\n",
       "    <tr>\n",
       "      <th>3</th>\n",
       "      <td>0</td>\n",
       "      <td>0</td>\n",
       "      <td>0</td>\n",
       "      <td>0</td>\n",
       "      <td>0.619718</td>\n",
       "      <td>0</td>\n",
       "      <td>0</td>\n",
       "      <td>1</td>\n",
       "      <td>0</td>\n",
       "      <td>1</td>\n",
       "      <td>...</td>\n",
       "      <td>1</td>\n",
       "      <td>0</td>\n",
       "      <td>0</td>\n",
       "      <td>0</td>\n",
       "      <td>1</td>\n",
       "      <td>0</td>\n",
       "      <td>1</td>\n",
       "      <td>0</td>\n",
       "      <td>0</td>\n",
       "      <td>0</td>\n",
       "    </tr>\n",
       "    <tr>\n",
       "      <th>4</th>\n",
       "      <td>1</td>\n",
       "      <td>0</td>\n",
       "      <td>0</td>\n",
       "      <td>0</td>\n",
       "      <td>0.014085</td>\n",
       "      <td>1</td>\n",
       "      <td>0</td>\n",
       "      <td>0</td>\n",
       "      <td>0</td>\n",
       "      <td>0</td>\n",
       "      <td>...</td>\n",
       "      <td>0</td>\n",
       "      <td>1</td>\n",
       "      <td>0</td>\n",
       "      <td>1</td>\n",
       "      <td>0</td>\n",
       "      <td>0</td>\n",
       "      <td>0</td>\n",
       "      <td>0</td>\n",
       "      <td>1</td>\n",
       "      <td>0</td>\n",
       "    </tr>\n",
       "  </tbody>\n",
       "</table>\n",
       "<p>5 rows × 27 columns</p>\n",
       "</div>"
      ],
      "text/plain": [
       "   gender  SeniorCitizen  Partner  Dependents    tenure  PhoneService  \\\n",
       "0       1              0        1           0  0.000000             0   \n",
       "1       0              0        0           0  0.464789             1   \n",
       "2       0              0        0           0  0.014085             1   \n",
       "3       0              0        0           0  0.619718             0   \n",
       "4       1              0        0           0  0.014085             1   \n",
       "\n",
       "   MultipleLines  OnlineSecurity  OnlineBackup  DeviceProtection  ...  \\\n",
       "0              0               0             1                 0  ...   \n",
       "1              0               1             0                 1  ...   \n",
       "2              0               1             1                 0  ...   \n",
       "3              0               1             0                 1  ...   \n",
       "4              0               0             0                 0  ...   \n",
       "\n",
       "   InternetService_DSL  InternetService_Fiber optic  InternetService_No  \\\n",
       "0                    1                            0                   0   \n",
       "1                    1                            0                   0   \n",
       "2                    1                            0                   0   \n",
       "3                    1                            0                   0   \n",
       "4                    0                            1                   0   \n",
       "\n",
       "   Contract_Month-to-month  Contract_One year  Contract_Two year  \\\n",
       "0                        1                  0                  0   \n",
       "1                        0                  1                  0   \n",
       "2                        1                  0                  0   \n",
       "3                        0                  1                  0   \n",
       "4                        1                  0                  0   \n",
       "\n",
       "   PaymentMethod_Bank transfer (automatic)  \\\n",
       "0                                        0   \n",
       "1                                        0   \n",
       "2                                        0   \n",
       "3                                        1   \n",
       "4                                        0   \n",
       "\n",
       "   PaymentMethod_Credit card (automatic)  PaymentMethod_Electronic check  \\\n",
       "0                                      0                               1   \n",
       "1                                      0                               0   \n",
       "2                                      0                               0   \n",
       "3                                      0                               0   \n",
       "4                                      0                               1   \n",
       "\n",
       "   PaymentMethod_Mailed check  \n",
       "0                           0  \n",
       "1                           1  \n",
       "2                           1  \n",
       "3                           0  \n",
       "4                           0  \n",
       "\n",
       "[5 rows x 27 columns]"
      ]
     },
     "execution_count": 40,
     "metadata": {},
     "output_type": "execute_result"
    }
   ],
   "source": [
    "dfNew2.head()"
   ]
  },
  {
   "cell_type": "code",
   "execution_count": 41,
   "id": "b108d301",
   "metadata": {},
   "outputs": [
    {
     "name": "stdout",
     "output_type": "stream",
     "text": [
      "gender : [1 0]\n",
      "SeniorCitizen : [0 1]\n",
      "Partner : [1 0]\n",
      "Dependents : [0 1]\n",
      "tenure : [0.         0.46478873 0.01408451 0.61971831 0.09859155 0.29577465\n",
      " 0.12676056 0.38028169 0.85915493 0.16901408 0.21126761 0.8028169\n",
      " 0.67605634 0.33802817 0.95774648 0.71830986 0.98591549 0.28169014\n",
      " 0.15492958 0.4084507  0.64788732 1.         0.22535211 0.36619718\n",
      " 0.05633803 0.63380282 0.14084507 0.97183099 0.87323944 0.5915493\n",
      " 0.1971831  0.83098592 0.23943662 0.91549296 0.11267606 0.02816901\n",
      " 0.42253521 0.69014085 0.88732394 0.77464789 0.08450704 0.57746479\n",
      " 0.47887324 0.66197183 0.3943662  0.90140845 0.52112676 0.94366197\n",
      " 0.43661972 0.76056338 0.50704225 0.49295775 0.56338028 0.07042254\n",
      " 0.04225352 0.45070423 0.92957746 0.30985915 0.78873239 0.84507042\n",
      " 0.18309859 0.26760563 0.73239437 0.54929577 0.81690141 0.32394366\n",
      " 0.6056338  0.25352113 0.74647887 0.70422535 0.35211268 0.53521127]\n",
      "PhoneService : [0 1]\n",
      "MultipleLines : [0 1]\n",
      "OnlineSecurity : [0 1]\n",
      "OnlineBackup : [1 0]\n",
      "DeviceProtection : [0 1]\n",
      "TechSupport : [0 1]\n",
      "StreamingTV : [0 1]\n",
      "StreamingMovies : [0 1]\n",
      "PaperlessBilling : [1 0]\n",
      "MonthlyCharges : [0.11542289 0.38507463 0.35422886 ... 0.44626866 0.25820896 0.60149254]\n",
      "TotalCharges : [0.0012751  0.21586661 0.01031041 ... 0.03780868 0.03321025 0.78764136]\n",
      "Churn : [0 1]\n",
      "InternetService_DSL : [1 0]\n",
      "InternetService_Fiber optic : [0 1]\n",
      "InternetService_No : [0 1]\n",
      "Contract_Month-to-month : [1 0]\n",
      "Contract_One year : [0 1]\n",
      "Contract_Two year : [0 1]\n",
      "PaymentMethod_Bank transfer (automatic) : [0 1]\n",
      "PaymentMethod_Credit card (automatic) : [0 1]\n",
      "PaymentMethod_Electronic check : [1 0]\n",
      "PaymentMethod_Mailed check : [0 1]\n"
     ]
    }
   ],
   "source": [
    "for col in dfNew2:\n",
    "    print(f'{col} : {dfNew2[col].unique()}')\n",
    "    "
   ]
  },
  {
   "cell_type": "code",
   "execution_count": 42,
   "id": "4ed82d38",
   "metadata": {},
   "outputs": [],
   "source": [
    "X=dfNew2.drop('Churn', axis='columns')\n",
    "y=dfNew2['Churn']"
   ]
  },
  {
   "cell_type": "code",
   "execution_count": 43,
   "id": "e894db9c",
   "metadata": {},
   "outputs": [
    {
     "data": {
      "text/plain": [
       "(7032, 26)"
      ]
     },
     "execution_count": 43,
     "metadata": {},
     "output_type": "execute_result"
    }
   ],
   "source": [
    "X.shape"
   ]
  },
  {
   "cell_type": "code",
   "execution_count": 44,
   "id": "802e96be",
   "metadata": {},
   "outputs": [
    {
     "data": {
      "text/plain": [
       "(7032,)"
      ]
     },
     "execution_count": 44,
     "metadata": {},
     "output_type": "execute_result"
    }
   ],
   "source": [
    "y.shape"
   ]
  },
  {
   "cell_type": "code",
   "execution_count": 45,
   "id": "d9a536a8",
   "metadata": {},
   "outputs": [],
   "source": [
    "from sklearn.model_selection import train_test_split"
   ]
  },
  {
   "cell_type": "code",
   "execution_count": 46,
   "id": "e3486915",
   "metadata": {},
   "outputs": [],
   "source": [
    "X_train, X_test, y_train, y_test= train_test_split(X,y,test_size=0.3, random_state=5)"
   ]
  },
  {
   "cell_type": "code",
   "execution_count": 47,
   "id": "d27dddc2",
   "metadata": {},
   "outputs": [
    {
     "data": {
      "text/plain": [
       "(4922, 26)"
      ]
     },
     "execution_count": 47,
     "metadata": {},
     "output_type": "execute_result"
    }
   ],
   "source": [
    "X_train.shape"
   ]
  },
  {
   "cell_type": "code",
   "execution_count": 48,
   "id": "7c839e36",
   "metadata": {},
   "outputs": [
    {
     "data": {
      "text/plain": [
       "(4922,)"
      ]
     },
     "execution_count": 48,
     "metadata": {},
     "output_type": "execute_result"
    }
   ],
   "source": [
    "y_train.shape"
   ]
  },
  {
   "cell_type": "code",
   "execution_count": 49,
   "id": "e711a825",
   "metadata": {},
   "outputs": [
    {
     "data": {
      "text/plain": [
       "26"
      ]
     },
     "execution_count": 49,
     "metadata": {},
     "output_type": "execute_result"
    }
   ],
   "source": [
    "len(X_train.columns)"
   ]
  },
  {
   "cell_type": "code",
   "execution_count": 50,
   "id": "f6381322",
   "metadata": {},
   "outputs": [
    {
     "name": "stderr",
     "output_type": "stream",
     "text": [
      "<frozen importlib._bootstrap>:219: RuntimeWarning: numpy.ndarray size changed, may indicate binary incompatibility. Expected 80 from C header, got 88 from PyObject\n"
     ]
    },
    {
     "name": "stdout",
     "output_type": "stream",
     "text": [
      "Epoch 1/50\n",
      "154/154 [==============================] - 12s 8ms/step - loss: 0.4900 - accuracy: 0.7562\n",
      "Epoch 2/50\n",
      "154/154 [==============================] - 1s 6ms/step - loss: 0.4270 - accuracy: 0.7918\n",
      "Epoch 3/50\n",
      "154/154 [==============================] - 1s 6ms/step - loss: 0.4176 - accuracy: 0.8005\n",
      "Epoch 4/50\n",
      "154/154 [==============================] - 1s 6ms/step - loss: 0.4131 - accuracy: 0.8025\n",
      "Epoch 5/50\n",
      "154/154 [==============================] - 1s 6ms/step - loss: 0.4111 - accuracy: 0.8046\n",
      "Epoch 6/50\n",
      "154/154 [==============================] - 1s 6ms/step - loss: 0.4073 - accuracy: 0.8096\n",
      "Epoch 7/50\n",
      "154/154 [==============================] - 1s 6ms/step - loss: 0.4054 - accuracy: 0.8104\n",
      "Epoch 8/50\n",
      "154/154 [==============================] - 1s 6ms/step - loss: 0.4043 - accuracy: 0.8080\n",
      "Epoch 9/50\n",
      "154/154 [==============================] - 1s 6ms/step - loss: 0.4022 - accuracy: 0.8129\n",
      "Epoch 10/50\n",
      "154/154 [==============================] - 1s 6ms/step - loss: 0.4005 - accuracy: 0.8129\n",
      "Epoch 11/50\n",
      "154/154 [==============================] - 1s 6ms/step - loss: 0.3983 - accuracy: 0.8139\n",
      "Epoch 12/50\n",
      "154/154 [==============================] - 1s 6ms/step - loss: 0.3973 - accuracy: 0.8171\n",
      "Epoch 13/50\n",
      "154/154 [==============================] - 1s 6ms/step - loss: 0.3950 - accuracy: 0.8163\n",
      "Epoch 14/50\n",
      "154/154 [==============================] - 1s 7ms/step - loss: 0.3952 - accuracy: 0.8165\n",
      "Epoch 15/50\n",
      "154/154 [==============================] - 2s 11ms/step - loss: 0.3926 - accuracy: 0.8176\n",
      "Epoch 16/50\n",
      "154/154 [==============================] - 2s 11ms/step - loss: 0.3922 - accuracy: 0.8192\n",
      "Epoch 17/50\n",
      "154/154 [==============================] - 2s 11ms/step - loss: 0.3906 - accuracy: 0.8188\n",
      "Epoch 18/50\n",
      "154/154 [==============================] - 2s 11ms/step - loss: 0.3886 - accuracy: 0.8167\n",
      "Epoch 19/50\n",
      "154/154 [==============================] - 2s 11ms/step - loss: 0.3870 - accuracy: 0.8214\n",
      "Epoch 20/50\n",
      "154/154 [==============================] - 2s 11ms/step - loss: 0.3860 - accuracy: 0.8204\n",
      "Epoch 21/50\n",
      "154/154 [==============================] - 2s 10ms/step - loss: 0.3849 - accuracy: 0.8192\n",
      "Epoch 22/50\n",
      "154/154 [==============================] - 2s 10ms/step - loss: 0.3845 - accuracy: 0.8216\n",
      "Epoch 23/50\n",
      "154/154 [==============================] - 2s 10ms/step - loss: 0.3824 - accuracy: 0.8228\n",
      "Epoch 24/50\n",
      "154/154 [==============================] - 2s 11ms/step - loss: 0.3810 - accuracy: 0.8239\n",
      "Epoch 25/50\n",
      "154/154 [==============================] - 2s 10ms/step - loss: 0.3810 - accuracy: 0.8186\n",
      "Epoch 26/50\n",
      "154/154 [==============================] - 2s 10ms/step - loss: 0.3791 - accuracy: 0.8239\n",
      "Epoch 27/50\n",
      "154/154 [==============================] - 2s 11ms/step - loss: 0.3786 - accuracy: 0.8239\n",
      "Epoch 28/50\n",
      "154/154 [==============================] - 2s 10ms/step - loss: 0.3761 - accuracy: 0.8216\n",
      "Epoch 29/50\n",
      "154/154 [==============================] - 2s 11ms/step - loss: 0.3765 - accuracy: 0.8232\n",
      "Epoch 30/50\n",
      "154/154 [==============================] - 2s 10ms/step - loss: 0.3735 - accuracy: 0.8267\n",
      "Epoch 31/50\n",
      "154/154 [==============================] - 2s 10ms/step - loss: 0.3743 - accuracy: 0.8236\n",
      "Epoch 32/50\n",
      "154/154 [==============================] - 2s 10ms/step - loss: 0.3716 - accuracy: 0.8255\n",
      "Epoch 33/50\n",
      "154/154 [==============================] - 1s 7ms/step - loss: 0.3702 - accuracy: 0.8253\n",
      "Epoch 34/50\n",
      "154/154 [==============================] - 1s 6ms/step - loss: 0.3705 - accuracy: 0.8230\n",
      "Epoch 35/50\n",
      "154/154 [==============================] - 1s 6ms/step - loss: 0.3691 - accuracy: 0.8263\n",
      "Epoch 36/50\n",
      "154/154 [==============================] - 1s 6ms/step - loss: 0.3675 - accuracy: 0.8283\n",
      "Epoch 37/50\n",
      "154/154 [==============================] - 1s 6ms/step - loss: 0.3656 - accuracy: 0.8283\n",
      "Epoch 38/50\n",
      "154/154 [==============================] - 1s 6ms/step - loss: 0.3655 - accuracy: 0.8212\n",
      "Epoch 39/50\n",
      "154/154 [==============================] - 1s 6ms/step - loss: 0.3644 - accuracy: 0.8253\n",
      "Epoch 40/50\n",
      "154/154 [==============================] - 1s 6ms/step - loss: 0.3637 - accuracy: 0.8299\n",
      "Epoch 41/50\n",
      "154/154 [==============================] - 1s 6ms/step - loss: 0.3618 - accuracy: 0.8283\n",
      "Epoch 42/50\n",
      "154/154 [==============================] - ETA: 0s - loss: 0.3624 - accuracy: 0.82 - 1s 6ms/step - loss: 0.3610 - accuracy: 0.8287\n",
      "Epoch 43/50\n",
      "154/154 [==============================] - 1s 9ms/step - loss: 0.3607 - accuracy: 0.8297\n",
      "Epoch 44/50\n",
      "154/154 [==============================] - 2s 10ms/step - loss: 0.3594 - accuracy: 0.8275\n",
      "Epoch 45/50\n",
      "154/154 [==============================] - 2s 10ms/step - loss: 0.3603 - accuracy: 0.8308\n",
      "Epoch 46/50\n",
      "154/154 [==============================] - 2s 10ms/step - loss: 0.3580 - accuracy: 0.8283\n",
      "Epoch 47/50\n",
      "154/154 [==============================] - 2s 10ms/step - loss: 0.3570 - accuracy: 0.8312\n",
      "Epoch 48/50\n",
      "154/154 [==============================] - 2s 11ms/step - loss: 0.3548 - accuracy: 0.8295\n",
      "Epoch 49/50\n",
      "154/154 [==============================] - 2s 11ms/step - loss: 0.3545 - accuracy: 0.8320\n",
      "Epoch 50/50\n",
      "154/154 [==============================] - 2s 11ms/step - loss: 0.3545 - accuracy: 0.8312\n"
     ]
    },
    {
     "data": {
      "text/plain": [
       "<keras.callbacks.History at 0x1c052dbfc40>"
      ]
     },
     "execution_count": 50,
     "metadata": {},
     "output_type": "execute_result"
    }
   ],
   "source": [
    "import tensorflow as tf\n",
    "from tensorflow import keras\n",
    "\n",
    "model=keras.Sequential([\n",
    "    keras.layers.Dense(26, input_shape=(26,), activation='relu'),\n",
    "    keras.layers.Dense(20, activation='relu'),\n",
    "    keras.layers.Dense(1, activation='sigmoid')\n",
    "])\n",
    "\n",
    "model.compile(optimizer='adam', loss='binary_crossentropy', metrics=['accuracy'])\n",
    "\n",
    "model.fit(X_train,y_train,epochs=50)"
   ]
  },
  {
   "cell_type": "code",
   "execution_count": 51,
   "id": "809be7ff",
   "metadata": {},
   "outputs": [
    {
     "name": "stdout",
     "output_type": "stream",
     "text": [
      "66/66 [==============================] - 1s 7ms/step - loss: 0.4797 - accuracy: 0.7739\n"
     ]
    },
    {
     "data": {
      "text/plain": [
       "[0.4797382056713104, 0.7739336490631104]"
      ]
     },
     "execution_count": 51,
     "metadata": {},
     "output_type": "execute_result"
    }
   ],
   "source": [
    "model.evaluate(X_test,y_test)"
   ]
  },
  {
   "cell_type": "code",
   "execution_count": 52,
   "id": "e22bb441",
   "metadata": {},
   "outputs": [],
   "source": [
    "yp=model.predict(X_test)"
   ]
  },
  {
   "cell_type": "code",
   "execution_count": 53,
   "id": "fb8489ad",
   "metadata": {},
   "outputs": [
    {
     "data": {
      "text/plain": [
       "array([0.44006807], dtype=float32)"
      ]
     },
     "execution_count": 53,
     "metadata": {},
     "output_type": "execute_result"
    }
   ],
   "source": [
    "yp[:5][0]"
   ]
  },
  {
   "cell_type": "code",
   "execution_count": 54,
   "id": "b7f0b977",
   "metadata": {},
   "outputs": [
    {
     "data": {
      "text/plain": [
       "2660    0\n",
       "744     0\n",
       "5579    1\n",
       "64      1\n",
       "3287    1\n",
       "       ..\n",
       "1042    0\n",
       "3913    0\n",
       "3397    0\n",
       "3292    0\n",
       "4605    0\n",
       "Name: Churn, Length: 2110, dtype: int64"
      ]
     },
     "execution_count": 54,
     "metadata": {},
     "output_type": "execute_result"
    }
   ],
   "source": [
    "y_test"
   ]
  },
  {
   "cell_type": "code",
   "execution_count": 55,
   "id": "699d1fcb",
   "metadata": {},
   "outputs": [],
   "source": [
    "y_pred=[]\n",
    "for element in yp:\n",
    "    if element > 0.5:\n",
    "        y_pred.append(1)\n",
    "    else:\n",
    "        y_pred.append(0)"
   ]
  },
  {
   "cell_type": "code",
   "execution_count": 56,
   "id": "968bdf04",
   "metadata": {},
   "outputs": [
    {
     "data": {
      "text/plain": [
       "[0, 1, 0, 1, 1]"
      ]
     },
     "execution_count": 56,
     "metadata": {},
     "output_type": "execute_result"
    }
   ],
   "source": [
    "y_pred[:5]"
   ]
  },
  {
   "cell_type": "code",
   "execution_count": 57,
   "id": "787975e7",
   "metadata": {},
   "outputs": [
    {
     "data": {
      "text/plain": [
       "array([[0.44006807],\n",
       "       [0.57528305],\n",
       "       [0.00367938],\n",
       "       [0.70451856],\n",
       "       [0.5486034 ]], dtype=float32)"
      ]
     },
     "execution_count": 57,
     "metadata": {},
     "output_type": "execute_result"
    }
   ],
   "source": [
    "yp[:5]"
   ]
  },
  {
   "cell_type": "code",
   "execution_count": 58,
   "id": "565eb075",
   "metadata": {},
   "outputs": [
    {
     "data": {
      "text/plain": [
       "2660    0\n",
       "744     0\n",
       "5579    1\n",
       "64      1\n",
       "3287    1\n",
       "Name: Churn, dtype: int64"
      ]
     },
     "execution_count": 58,
     "metadata": {},
     "output_type": "execute_result"
    }
   ],
   "source": [
    "y_test[:5]"
   ]
  },
  {
   "cell_type": "code",
   "execution_count": 59,
   "id": "3de937a4",
   "metadata": {},
   "outputs": [
    {
     "name": "stdout",
     "output_type": "stream",
     "text": [
      "              precision    recall  f1-score   support\n",
      "\n",
      "           0       0.81      0.89      0.85      1511\n",
      "           1       0.64      0.47      0.54       599\n",
      "\n",
      "    accuracy                           0.77      2110\n",
      "   macro avg       0.72      0.68      0.70      2110\n",
      "weighted avg       0.76      0.77      0.76      2110\n",
      "\n"
     ]
    }
   ],
   "source": [
    "from sklearn.metrics import confusion_matrix , classification_report\n",
    "\n",
    "print(classification_report(y_test,y_pred))"
   ]
  },
  {
   "cell_type": "code",
   "execution_count": 60,
   "id": "8c73dab0",
   "metadata": {
    "scrolled": true
   },
   "outputs": [
    {
     "data": {
      "text/plain": [
       "Text(69.0, 0.5, 'Truth')"
      ]
     },
     "execution_count": 60,
     "metadata": {},
     "output_type": "execute_result"
    },
    {
     "data": {
      "image/png": "[encoded data removed]",
      "text/plain": [
       "<Figure size 720x504 with 2 Axes>"
      ]
     },
     "metadata": {
      "needs_background": "light"
     },
     "output_type": "display_data"
    }
   ],
   "source": [
    "import seaborn as sn\n",
    "cm = tf.math.confusion_matrix(labels=y_test,predictions=y_pred)\n",
    "\n",
    "plt.figure(figsize = (10,7))\n",
    "sn.heatmap(cm, annot=True, fmt='d')\n",
    "plt.xlabel('Predicted')\n",
    "plt.ylabel('Truth')"
   ]
  },
  {
   "cell_type": "markdown",
   "id": "53117780",
   "metadata": {},
   "source": [
    "## Accuracy"
   ]
  },
  {
   "cell_type": "code",
   "execution_count": 61,
   "id": "def42809",
   "metadata": {},
   "outputs": [
    {
     "data": {
      "text/plain": [
       "0.78"
      ]
     },
     "execution_count": 61,
     "metadata": {},
     "output_type": "execute_result"
    }
   ],
   "source": [
    "round((1334+305)/(1334+177+294+305),2)"
   ]
  },
  {
   "cell_type": "markdown",
   "id": "f004248c",
   "metadata": {},
   "source": [
    "## Precision For 0 class i.e Precision for customers who did not churn"
   ]
  },
  {
   "cell_type": "code",
   "execution_count": 62,
   "id": "52c44152",
   "metadata": {},
   "outputs": [
    {
     "data": {
      "text/plain": [
       "0.82"
      ]
     },
     "execution_count": 62,
     "metadata": {},
     "output_type": "execute_result"
    }
   ],
   "source": [
    "round(1334/(1334+294),2)"
   ]
  },
  {
   "cell_type": "markdown",
   "id": "8ca42425",
   "metadata": {},
   "source": [
    "## Precision For 1 class i.e Precision for customers who actually churned"
   ]
  },
  {
   "cell_type": "code",
   "execution_count": 63,
   "id": "ce78e023",
   "metadata": {},
   "outputs": [
    {
     "data": {
      "text/plain": [
       "0.63"
      ]
     },
     "execution_count": 63,
     "metadata": {},
     "output_type": "execute_result"
    }
   ],
   "source": [
    "round(305/(305+177),2)"
   ]
  },
  {
   "cell_type": "markdown",
   "id": "a8d117db",
   "metadata": {},
   "source": [
    "## Recall for 0 class. Recall is your total Truth"
   ]
  },
  {
   "cell_type": "code",
   "execution_count": 64,
   "id": "952a92bc",
   "metadata": {},
   "outputs": [
    {
     "data": {
      "text/plain": [
       "0.88"
      ]
     },
     "execution_count": 64,
     "metadata": {},
     "output_type": "execute_result"
    }
   ],
   "source": [
    " round(1334/(1334+177),2)"
   ]
  },
  {
   "cell_type": "code",
   "execution_count": 65,
   "id": "22d893fa",
   "metadata": {},
   "outputs": [
    {
     "data": {
      "text/plain": [
       "0.63"
      ]
     },
     "execution_count": 65,
     "metadata": {},
     "output_type": "execute_result"
    }
   ],
   "source": [
    "round(305/(305+177),2)"
   ]
  },
  {
   "cell_type": "markdown",
   "id": "e3e77146",
   "metadata": {},
   "source": [
    "# Handling Imbalanced Dataset\n",
    "\n",
    "## 1) Undersampling"
   ]
  },
  {
   "cell_type": "code",
   "execution_count": 66,
   "id": "901c9bf0",
   "metadata": {},
   "outputs": [],
   "source": [
    "def ANN(X_train,y_train,X_test,y_test,loss,weights):\n",
    "    model=keras.Sequential([\n",
    "        keras.layers.Dense(26, input_shape=(26,), activation='relu'),   # This creates the input layer as well as a hidden layer as we are not using the 'keras flatten' functionality.\n",
    "        keras.layers.Dense(15,activation='relu'),\n",
    "        keras.layers.Dense(1, activation='sigmoid'),\n",
    "        \n",
    "    ])\n",
    "    \n",
    "    model.compile(loss=loss, optimizer='adam', metrics=['accuracy'])\n",
    "    \n",
    "    if weights == -1:\n",
    "        model.fit(X_train,y_train,epochs=100)\n",
    "    else:\n",
    "        model.fit(X_train,y_train,epochs=100, class_weight=weights)\n",
    "        \n",
    "    print(model.evaluate(X_test,y_test))\n",
    "    \n",
    "    y_preds=model.predict(X_test)\n",
    "    y_preds=np.round(y_preds)\n",
    "    \n",
    "    print('Classification Report\\n', classification_report(y_test,y_preds))\n",
    "    \n",
    "    return y_preds"
   ]
  },
  {
   "cell_type": "code",
   "execution_count": 67,
   "id": "2fceb681",
   "metadata": {},
   "outputs": [
    {
     "name": "stdout",
     "output_type": "stream",
     "text": [
      "Epoch 1/100\n",
      "154/154 [==============================] - 3s 11ms/step - loss: 0.4843 - accuracy: 0.7668\n",
      "Epoch 2/100\n",
      "154/154 [==============================] - 2s 11ms/step - loss: 0.4256 - accuracy: 0.7976\n",
      "Epoch 3/100\n",
      "154/154 [==============================] - 2s 10ms/step - loss: 0.4177 - accuracy: 0.8043\n",
      "Epoch 4/100\n",
      "154/154 [==============================] - 2s 10ms/step - loss: 0.4148 - accuracy: 0.8086\n",
      "Epoch 5/100\n",
      "154/154 [==============================] - 2s 11ms/step - loss: 0.4108 - accuracy: 0.8098\n",
      "Epoch 6/100\n",
      "154/154 [==============================] - 2s 10ms/step - loss: 0.4092 - accuracy: 0.8104\n",
      "Epoch 7/100\n",
      "154/154 [==============================] - 2s 11ms/step - loss: 0.4072 - accuracy: 0.8094\n",
      "Epoch 8/100\n",
      "154/154 [==============================] - 2s 11ms/step - loss: 0.4048 - accuracy: 0.8100\n",
      "Epoch 9/100\n",
      "154/154 [==============================] - 2s 11ms/step - loss: 0.4045 - accuracy: 0.8100\n",
      "Epoch 10/100\n",
      "154/154 [==============================] - 2s 10ms/step - loss: 0.4026 - accuracy: 0.8119\n",
      "Epoch 11/100\n",
      "154/154 [==============================] - 2s 10ms/step - loss: 0.4015 - accuracy: 0.8076\n",
      "Epoch 12/100\n",
      "154/154 [==============================] - 2s 10ms/step - loss: 0.3999 - accuracy: 0.8121\n",
      "Epoch 13/100\n",
      "154/154 [==============================] - 2s 11ms/step - loss: 0.3983 - accuracy: 0.8143\n",
      "Epoch 14/100\n",
      "154/154 [==============================] - 2s 10ms/step - loss: 0.3967 - accuracy: 0.8135\n",
      "Epoch 15/100\n",
      "154/154 [==============================] - 2s 11ms/step - loss: 0.3950 - accuracy: 0.8143\n",
      "Epoch 16/100\n",
      "154/154 [==============================] - 2s 10ms/step - loss: 0.3943 - accuracy: 0.8163\n",
      "Epoch 17/100\n",
      "154/154 [==============================] - 1s 6ms/step - loss: 0.3927 - accuracy: 0.8167\n",
      "Epoch 18/100\n",
      "154/154 [==============================] - 1s 6ms/step - loss: 0.3930 - accuracy: 0.8143\n",
      "Epoch 19/100\n",
      "154/154 [==============================] - 1s 6ms/step - loss: 0.3920 - accuracy: 0.8147\n",
      "Epoch 20/100\n",
      "154/154 [==============================] - 1s 6ms/step - loss: 0.3921 - accuracy: 0.8155\n",
      "Epoch 21/100\n",
      "154/154 [==============================] - 1s 6ms/step - loss: 0.3890 - accuracy: 0.8178\n",
      "Epoch 22/100\n",
      "154/154 [==============================] - 1s 6ms/step - loss: 0.3881 - accuracy: 0.8147\n",
      "Epoch 23/100\n",
      "154/154 [==============================] - 1s 6ms/step - loss: 0.3873 - accuracy: 0.8171\n",
      "Epoch 24/100\n",
      "154/154 [==============================] - 1s 6ms/step - loss: 0.3865 - accuracy: 0.8169\n",
      "Epoch 25/100\n",
      "154/154 [==============================] - 1s 6ms/step - loss: 0.3860 - accuracy: 0.8184\n",
      "Epoch 26/100\n",
      "154/154 [==============================] - 1s 6ms/step - loss: 0.3852 - accuracy: 0.8184\n",
      "Epoch 27/100\n",
      "154/154 [==============================] - 2s 10ms/step - loss: 0.3840 - accuracy: 0.8171\n",
      "Epoch 28/100\n",
      "154/154 [==============================] - 2s 11ms/step - loss: 0.3831 - accuracy: 0.8222\n",
      "Epoch 29/100\n",
      "154/154 [==============================] - 2s 10ms/step - loss: 0.3816 - accuracy: 0.8216\n",
      "Epoch 30/100\n",
      "154/154 [==============================] - 2s 10ms/step - loss: 0.3818 - accuracy: 0.8216\n",
      "Epoch 31/100\n",
      "154/154 [==============================] - 2s 11ms/step - loss: 0.3801 - accuracy: 0.8228\n",
      "Epoch 32/100\n",
      "154/154 [==============================] - 2s 11ms/step - loss: 0.3795 - accuracy: 0.8243\n",
      "Epoch 33/100\n",
      "154/154 [==============================] - 2s 11ms/step - loss: 0.3797 - accuracy: 0.8192\n",
      "Epoch 34/100\n",
      "154/154 [==============================] - 2s 10ms/step - loss: 0.3781 - accuracy: 0.8226\n",
      "Epoch 35/100\n",
      "154/154 [==============================] - 2s 11ms/step - loss: 0.3761 - accuracy: 0.8261\n",
      "Epoch 36/100\n",
      "154/154 [==============================] - 2s 10ms/step - loss: 0.3764 - accuracy: 0.8257\n",
      "Epoch 37/100\n",
      "154/154 [==============================] - 2s 10ms/step - loss: 0.3764 - accuracy: 0.8222\n",
      "Epoch 38/100\n",
      "154/154 [==============================] - 2s 10ms/step - loss: 0.3743 - accuracy: 0.8269\n",
      "Epoch 39/100\n",
      "154/154 [==============================] - 2s 11ms/step - loss: 0.3731 - accuracy: 0.8257\n",
      "Epoch 40/100\n",
      "154/154 [==============================] - 2s 10ms/step - loss: 0.3723 - accuracy: 0.8261\n",
      "Epoch 41/100\n",
      "154/154 [==============================] - 2s 11ms/step - loss: 0.3725 - accuracy: 0.8251\n",
      "Epoch 42/100\n",
      "154/154 [==============================] - 2s 10ms/step - loss: 0.3710 - accuracy: 0.8263\n",
      "Epoch 43/100\n",
      "154/154 [==============================] - 2s 11ms/step - loss: 0.3709 - accuracy: 0.8306\n",
      "Epoch 44/100\n",
      "154/154 [==============================] - 2s 11ms/step - loss: 0.3706 - accuracy: 0.8279\n",
      "Epoch 45/100\n",
      "154/154 [==============================] - 2s 10ms/step - loss: 0.3695 - accuracy: 0.8285\n",
      "Epoch 46/100\n",
      "154/154 [==============================] - 2s 12ms/step - loss: 0.3691 - accuracy: 0.8304\n",
      "Epoch 47/100\n",
      "154/154 [==============================] - 2s 11ms/step - loss: 0.3680 - accuracy: 0.8259\n",
      "Epoch 48/100\n",
      "154/154 [==============================] - 2s 11ms/step - loss: 0.3673 - accuracy: 0.8318\n",
      "Epoch 49/100\n",
      "154/154 [==============================] - 2s 11ms/step - loss: 0.3658 - accuracy: 0.8310\n",
      "Epoch 50/100\n",
      "154/154 [==============================] - 2s 11ms/step - loss: 0.3657 - accuracy: 0.8295\n",
      "Epoch 51/100\n",
      "154/154 [==============================] - 2s 11ms/step - loss: 0.3665 - accuracy: 0.8299\n",
      "Epoch 52/100\n",
      "154/154 [==============================] - 2s 10ms/step - loss: 0.3632 - accuracy: 0.8314\n",
      "Epoch 53/100\n",
      "154/154 [==============================] - 2s 11ms/step - loss: 0.3640 - accuracy: 0.8293\n",
      "Epoch 54/100\n",
      "154/154 [==============================] - 2s 11ms/step - loss: 0.3633 - accuracy: 0.8318\n",
      "Epoch 55/100\n",
      "154/154 [==============================] - 2s 11ms/step - loss: 0.3635 - accuracy: 0.8281\n",
      "Epoch 56/100\n",
      "154/154 [==============================] - 2s 10ms/step - loss: 0.3621 - accuracy: 0.8328\n",
      "Epoch 57/100\n",
      "154/154 [==============================] - 2s 10ms/step - loss: 0.3605 - accuracy: 0.8340\n",
      "Epoch 58/100\n",
      "154/154 [==============================] - 2s 10ms/step - loss: 0.3595 - accuracy: 0.8356\n",
      "Epoch 59/100\n",
      "154/154 [==============================] - 2s 11ms/step - loss: 0.3592 - accuracy: 0.8330\n",
      "Epoch 60/100\n",
      "154/154 [==============================] - 2s 11ms/step - loss: 0.3591 - accuracy: 0.8312\n",
      "Epoch 61/100\n",
      "154/154 [==============================] - 2s 11ms/step - loss: 0.3592 - accuracy: 0.8314\n",
      "Epoch 62/100\n",
      "154/154 [==============================] - 2s 11ms/step - loss: 0.3577 - accuracy: 0.8360\n",
      "Epoch 63/100\n",
      "154/154 [==============================] - 2s 11ms/step - loss: 0.3576 - accuracy: 0.8344\n",
      "Epoch 64/100\n",
      "154/154 [==============================] - 2s 12ms/step - loss: 0.3561 - accuracy: 0.8348\n",
      "Epoch 65/100\n",
      "154/154 [==============================] - 2s 12ms/step - loss: 0.3563 - accuracy: 0.8364\n",
      "Epoch 66/100\n",
      "154/154 [==============================] - 2s 12ms/step - loss: 0.3558 - accuracy: 0.8334\n",
      "Epoch 67/100\n",
      "154/154 [==============================] - 2s 12ms/step - loss: 0.3555 - accuracy: 0.8334\n",
      "Epoch 68/100\n",
      "154/154 [==============================] - 2s 11ms/step - loss: 0.3541 - accuracy: 0.8387\n",
      "Epoch 69/100\n",
      "154/154 [==============================] - 2s 11ms/step - loss: 0.3543 - accuracy: 0.8346\n",
      "Epoch 70/100\n",
      "154/154 [==============================] - 2s 11ms/step - loss: 0.3539 - accuracy: 0.8375\n",
      "Epoch 71/100\n",
      "154/154 [==============================] - 2s 11ms/step - loss: 0.3523 - accuracy: 0.8389\n",
      "Epoch 72/100\n",
      "154/154 [==============================] - 2s 12ms/step - loss: 0.3520 - accuracy: 0.8362\n",
      "Epoch 73/100\n",
      "154/154 [==============================] - 2s 11ms/step - loss: 0.3540 - accuracy: 0.8352\n",
      "Epoch 74/100\n",
      "154/154 [==============================] - 2s 11ms/step - loss: 0.3506 - accuracy: 0.8373\n",
      "Epoch 75/100\n",
      "154/154 [==============================] - 2s 11ms/step - loss: 0.3500 - accuracy: 0.8413\n",
      "Epoch 76/100\n",
      "154/154 [==============================] - 2s 10ms/step - loss: 0.3493 - accuracy: 0.8377\n",
      "Epoch 77/100\n",
      "154/154 [==============================] - 2s 11ms/step - loss: 0.3492 - accuracy: 0.8383\n",
      "Epoch 78/100\n",
      "154/154 [==============================] - 2s 10ms/step - loss: 0.3491 - accuracy: 0.8419\n",
      "Epoch 79/100\n",
      "154/154 [==============================] - 2s 11ms/step - loss: 0.3474 - accuracy: 0.8432\n",
      "Epoch 80/100\n"
     ]
    },
    {
     "name": "stdout",
     "output_type": "stream",
     "text": [
      "154/154 [==============================] - 2s 11ms/step - loss: 0.3484 - accuracy: 0.8377\n",
      "Epoch 81/100\n",
      "154/154 [==============================] - 2s 11ms/step - loss: 0.3461 - accuracy: 0.8407\n",
      "Epoch 82/100\n",
      "154/154 [==============================] - 2s 11ms/step - loss: 0.3463 - accuracy: 0.8440\n",
      "Epoch 83/100\n",
      "154/154 [==============================] - 2s 11ms/step - loss: 0.3459 - accuracy: 0.8395\n",
      "Epoch 84/100\n",
      "154/154 [==============================] - 2s 11ms/step - loss: 0.3446 - accuracy: 0.8444\n",
      "Epoch 85/100\n",
      "154/154 [==============================] - 2s 10ms/step - loss: 0.3446 - accuracy: 0.8407\n",
      "Epoch 86/100\n",
      "154/154 [==============================] - 2s 10ms/step - loss: 0.3451 - accuracy: 0.8436\n",
      "Epoch 87/100\n",
      "154/154 [==============================] - 2s 10ms/step - loss: 0.3434 - accuracy: 0.8407\n",
      "Epoch 88/100\n",
      "154/154 [==============================] - 2s 11ms/step - loss: 0.3430 - accuracy: 0.8417\n",
      "Epoch 89/100\n",
      "154/154 [==============================] - 2s 11ms/step - loss: 0.3428 - accuracy: 0.8411\n",
      "Epoch 90/100\n",
      "154/154 [==============================] - 2s 11ms/step - loss: 0.3413 - accuracy: 0.8432\n",
      "Epoch 91/100\n",
      "154/154 [==============================] - 2s 10ms/step - loss: 0.3417 - accuracy: 0.8399\n",
      "Epoch 92/100\n",
      "154/154 [==============================] - 2s 10ms/step - loss: 0.3406 - accuracy: 0.8423\n",
      "Epoch 93/100\n",
      "154/154 [==============================] - 1s 9ms/step - loss: 0.3398 - accuracy: 0.8464\n",
      "Epoch 94/100\n",
      "154/154 [==============================] - 1s 6ms/step - loss: 0.3410 - accuracy: 0.8432\n",
      "Epoch 95/100\n",
      "154/154 [==============================] - 1s 6ms/step - loss: 0.3392 - accuracy: 0.8454\n",
      "Epoch 96/100\n",
      "154/154 [==============================] - 1s 6ms/step - loss: 0.3410 - accuracy: 0.8466: 0s - loss: 0.3463 - accura\n",
      "Epoch 97/100\n",
      "154/154 [==============================] - ETA: 0s - loss: 0.3384 - accuracy: 0.84 - 1s 6ms/step - loss: 0.3383 - accuracy: 0.8456\n",
      "Epoch 98/100\n",
      "154/154 [==============================] - 1s 6ms/step - loss: 0.3382 - accuracy: 0.8482: 0s - loss: 0.341\n",
      "Epoch 99/100\n",
      "154/154 [==============================] - 1s 6ms/step - loss: 0.3363 - accuracy: 0.8488\n",
      "Epoch 100/100\n",
      "154/154 [==============================] - 1s 6ms/step - loss: 0.3383 - accuracy: 0.8468\n",
      "66/66 [==============================] - 0s 4ms/step - loss: 0.5137 - accuracy: 0.7597\n",
      "[0.5136693120002747, 0.7597156167030334]\n",
      "Classification Report\n",
      "               precision    recall  f1-score   support\n",
      "\n",
      "           0       0.82      0.85      0.83      1511\n",
      "           1       0.58      0.54      0.56       599\n",
      "\n",
      "    accuracy                           0.76      2110\n",
      "   macro avg       0.70      0.69      0.70      2110\n",
      "weighted avg       0.75      0.76      0.76      2110\n",
      "\n"
     ]
    }
   ],
   "source": [
    "y_preds=ANN(X_train,y_train,X_test,y_test,'binary_crossentropy',-1)"
   ]
  },
  {
   "cell_type": "code",
   "execution_count": 68,
   "id": "38c2bcfd",
   "metadata": {},
   "outputs": [],
   "source": [
    "#Count of the Classes\n",
    "count_class0, count_class1=dfNew2.Churn.value_counts()"
   ]
  },
  {
   "cell_type": "code",
   "execution_count": 69,
   "id": "c04eb7b8",
   "metadata": {},
   "outputs": [
    {
     "data": {
      "text/plain": [
       "(5163, 1869)"
      ]
     },
     "execution_count": 69,
     "metadata": {},
     "output_type": "execute_result"
    }
   ],
   "source": [
    "count_class0, count_class1"
   ]
  },
  {
   "cell_type": "code",
   "execution_count": 70,
   "id": "f4fd7f4c",
   "metadata": {},
   "outputs": [],
   "source": [
    "df_class0=dfNew2[dfNew2['Churn'] == 0]\n",
    "df_class1=dfNew2[dfNew2['Churn'] == 1]"
   ]
  },
  {
   "cell_type": "code",
   "execution_count": 71,
   "id": "2f0fdff3",
   "metadata": {},
   "outputs": [
    {
     "data": {
      "text/plain": [
       "(7032, 27)"
      ]
     },
     "execution_count": 71,
     "metadata": {},
     "output_type": "execute_result"
    }
   ],
   "source": [
    "dfNew2.shape"
   ]
  },
  {
   "cell_type": "code",
   "execution_count": 72,
   "id": "8ecab50f",
   "metadata": {},
   "outputs": [
    {
     "data": {
      "text/plain": [
       "(5163, 27)"
      ]
     },
     "execution_count": 72,
     "metadata": {},
     "output_type": "execute_result"
    }
   ],
   "source": [
    "df_class0.shape"
   ]
  },
  {
   "cell_type": "code",
   "execution_count": 73,
   "id": "03287118",
   "metadata": {},
   "outputs": [
    {
     "data": {
      "text/plain": [
       "(7043, 20)"
      ]
     },
     "execution_count": 73,
     "metadata": {},
     "output_type": "execute_result"
    }
   ],
   "source": [
    "df.shape"
   ]
  },
  {
   "cell_type": "code",
   "execution_count": 74,
   "id": "7d3d993c",
   "metadata": {},
   "outputs": [
    {
     "data": {
      "text/plain": [
       "(1869, 27)"
      ]
     },
     "execution_count": 74,
     "metadata": {},
     "output_type": "execute_result"
    }
   ],
   "source": [
    "df_class1.shape"
   ]
  },
  {
   "cell_type": "code",
   "execution_count": 75,
   "id": "5141c9cb",
   "metadata": {},
   "outputs": [
    {
     "data": {
      "text/html": [
       "<div>\n",
       "<style scoped>\n",
       "    .dataframe tbody tr th:only-of-type {\n",
       "        vertical-align: middle;\n",
       "    }\n",
       "\n",
       "    .dataframe tbody tr th {\n",
       "        vertical-align: top;\n",
       "    }\n",
       "\n",
       "    .dataframe thead th {\n",
       "        text-align: right;\n",
       "    }\n",
       "</style>\n",
       "<table border=\"1\" class=\"dataframe\">\n",
       "  <thead>\n",
       "    <tr style=\"text-align: right;\">\n",
       "      <th></th>\n",
       "      <th>gender</th>\n",
       "      <th>SeniorCitizen</th>\n",
       "      <th>Partner</th>\n",
       "      <th>Dependents</th>\n",
       "      <th>tenure</th>\n",
       "      <th>PhoneService</th>\n",
       "      <th>MultipleLines</th>\n",
       "      <th>OnlineSecurity</th>\n",
       "      <th>OnlineBackup</th>\n",
       "      <th>DeviceProtection</th>\n",
       "      <th>...</th>\n",
       "      <th>InternetService_DSL</th>\n",
       "      <th>InternetService_Fiber optic</th>\n",
       "      <th>InternetService_No</th>\n",
       "      <th>Contract_Month-to-month</th>\n",
       "      <th>Contract_One year</th>\n",
       "      <th>Contract_Two year</th>\n",
       "      <th>PaymentMethod_Bank transfer (automatic)</th>\n",
       "      <th>PaymentMethod_Credit card (automatic)</th>\n",
       "      <th>PaymentMethod_Electronic check</th>\n",
       "      <th>PaymentMethod_Mailed check</th>\n",
       "    </tr>\n",
       "  </thead>\n",
       "  <tbody>\n",
       "    <tr>\n",
       "      <th>5620</th>\n",
       "      <td>0</td>\n",
       "      <td>0</td>\n",
       "      <td>1</td>\n",
       "      <td>0</td>\n",
       "      <td>1.000000</td>\n",
       "      <td>1</td>\n",
       "      <td>1</td>\n",
       "      <td>0</td>\n",
       "      <td>1</td>\n",
       "      <td>1</td>\n",
       "      <td>...</td>\n",
       "      <td>0</td>\n",
       "      <td>1</td>\n",
       "      <td>0</td>\n",
       "      <td>0</td>\n",
       "      <td>0</td>\n",
       "      <td>1</td>\n",
       "      <td>1</td>\n",
       "      <td>0</td>\n",
       "      <td>0</td>\n",
       "      <td>0</td>\n",
       "    </tr>\n",
       "    <tr>\n",
       "      <th>951</th>\n",
       "      <td>1</td>\n",
       "      <td>0</td>\n",
       "      <td>0</td>\n",
       "      <td>0</td>\n",
       "      <td>0.098592</td>\n",
       "      <td>1</td>\n",
       "      <td>0</td>\n",
       "      <td>0</td>\n",
       "      <td>1</td>\n",
       "      <td>0</td>\n",
       "      <td>...</td>\n",
       "      <td>0</td>\n",
       "      <td>1</td>\n",
       "      <td>0</td>\n",
       "      <td>1</td>\n",
       "      <td>0</td>\n",
       "      <td>0</td>\n",
       "      <td>0</td>\n",
       "      <td>0</td>\n",
       "      <td>1</td>\n",
       "      <td>0</td>\n",
       "    </tr>\n",
       "    <tr>\n",
       "      <th>6673</th>\n",
       "      <td>1</td>\n",
       "      <td>1</td>\n",
       "      <td>0</td>\n",
       "      <td>0</td>\n",
       "      <td>0.014085</td>\n",
       "      <td>1</td>\n",
       "      <td>0</td>\n",
       "      <td>0</td>\n",
       "      <td>0</td>\n",
       "      <td>0</td>\n",
       "      <td>...</td>\n",
       "      <td>1</td>\n",
       "      <td>0</td>\n",
       "      <td>0</td>\n",
       "      <td>1</td>\n",
       "      <td>0</td>\n",
       "      <td>0</td>\n",
       "      <td>0</td>\n",
       "      <td>0</td>\n",
       "      <td>1</td>\n",
       "      <td>0</td>\n",
       "    </tr>\n",
       "    <tr>\n",
       "      <th>77</th>\n",
       "      <td>1</td>\n",
       "      <td>0</td>\n",
       "      <td>1</td>\n",
       "      <td>1</td>\n",
       "      <td>0.098592</td>\n",
       "      <td>1</td>\n",
       "      <td>0</td>\n",
       "      <td>1</td>\n",
       "      <td>1</td>\n",
       "      <td>0</td>\n",
       "      <td>...</td>\n",
       "      <td>1</td>\n",
       "      <td>0</td>\n",
       "      <td>0</td>\n",
       "      <td>1</td>\n",
       "      <td>0</td>\n",
       "      <td>0</td>\n",
       "      <td>0</td>\n",
       "      <td>0</td>\n",
       "      <td>0</td>\n",
       "      <td>1</td>\n",
       "    </tr>\n",
       "    <tr>\n",
       "      <th>3398</th>\n",
       "      <td>1</td>\n",
       "      <td>0</td>\n",
       "      <td>1</td>\n",
       "      <td>1</td>\n",
       "      <td>0.845070</td>\n",
       "      <td>1</td>\n",
       "      <td>1</td>\n",
       "      <td>1</td>\n",
       "      <td>1</td>\n",
       "      <td>1</td>\n",
       "      <td>...</td>\n",
       "      <td>0</td>\n",
       "      <td>1</td>\n",
       "      <td>0</td>\n",
       "      <td>0</td>\n",
       "      <td>1</td>\n",
       "      <td>0</td>\n",
       "      <td>0</td>\n",
       "      <td>1</td>\n",
       "      <td>0</td>\n",
       "      <td>0</td>\n",
       "    </tr>\n",
       "  </tbody>\n",
       "</table>\n",
       "<p>5 rows × 27 columns</p>\n",
       "</div>"
      ],
      "text/plain": [
       "      gender  SeniorCitizen  Partner  Dependents    tenure  PhoneService  \\\n",
       "5620       0              0        1           0  1.000000             1   \n",
       "951        1              0        0           0  0.098592             1   \n",
       "6673       1              1        0           0  0.014085             1   \n",
       "77         1              0        1           1  0.098592             1   \n",
       "3398       1              0        1           1  0.845070             1   \n",
       "\n",
       "      MultipleLines  OnlineSecurity  OnlineBackup  DeviceProtection  ...  \\\n",
       "5620              1               0             1                 1  ...   \n",
       "951               0               0             1                 0  ...   \n",
       "6673              0               0             0                 0  ...   \n",
       "77                0               1             1                 0  ...   \n",
       "3398              1               1             1                 1  ...   \n",
       "\n",
       "      InternetService_DSL  InternetService_Fiber optic  InternetService_No  \\\n",
       "5620                    0                            1                   0   \n",
       "951                     0                            1                   0   \n",
       "6673                    1                            0                   0   \n",
       "77                      1                            0                   0   \n",
       "3398                    0                            1                   0   \n",
       "\n",
       "      Contract_Month-to-month  Contract_One year  Contract_Two year  \\\n",
       "5620                        0                  0                  1   \n",
       "951                         1                  0                  0   \n",
       "6673                        1                  0                  0   \n",
       "77                          1                  0                  0   \n",
       "3398                        0                  1                  0   \n",
       "\n",
       "      PaymentMethod_Bank transfer (automatic)  \\\n",
       "5620                                        1   \n",
       "951                                         0   \n",
       "6673                                        0   \n",
       "77                                          0   \n",
       "3398                                        0   \n",
       "\n",
       "      PaymentMethod_Credit card (automatic)  PaymentMethod_Electronic check  \\\n",
       "5620                                      0                               0   \n",
       "951                                       0                               1   \n",
       "6673                                      0                               1   \n",
       "77                                        0                               0   \n",
       "3398                                      1                               0   \n",
       "\n",
       "      PaymentMethod_Mailed check  \n",
       "5620                           0  \n",
       "951                            0  \n",
       "6673                           0  \n",
       "77                             1  \n",
       "3398                           0  \n",
       "\n",
       "[5 rows x 27 columns]"
      ]
     },
     "execution_count": 75,
     "metadata": {},
     "output_type": "execute_result"
    }
   ],
   "source": [
    "df_class0.sample(5)"
   ]
  },
  {
   "cell_type": "code",
   "execution_count": 76,
   "id": "ee40d17b",
   "metadata": {},
   "outputs": [
    {
     "data": {
      "text/html": [
       "<div>\n",
       "<style scoped>\n",
       "    .dataframe tbody tr th:only-of-type {\n",
       "        vertical-align: middle;\n",
       "    }\n",
       "\n",
       "    .dataframe tbody tr th {\n",
       "        vertical-align: top;\n",
       "    }\n",
       "\n",
       "    .dataframe thead th {\n",
       "        text-align: right;\n",
       "    }\n",
       "</style>\n",
       "<table border=\"1\" class=\"dataframe\">\n",
       "  <thead>\n",
       "    <tr style=\"text-align: right;\">\n",
       "      <th></th>\n",
       "      <th>gender</th>\n",
       "      <th>SeniorCitizen</th>\n",
       "      <th>Partner</th>\n",
       "      <th>Dependents</th>\n",
       "      <th>tenure</th>\n",
       "      <th>PhoneService</th>\n",
       "      <th>MultipleLines</th>\n",
       "      <th>OnlineSecurity</th>\n",
       "      <th>OnlineBackup</th>\n",
       "      <th>DeviceProtection</th>\n",
       "      <th>...</th>\n",
       "      <th>InternetService_DSL</th>\n",
       "      <th>InternetService_Fiber optic</th>\n",
       "      <th>InternetService_No</th>\n",
       "      <th>Contract_Month-to-month</th>\n",
       "      <th>Contract_One year</th>\n",
       "      <th>Contract_Two year</th>\n",
       "      <th>PaymentMethod_Bank transfer (automatic)</th>\n",
       "      <th>PaymentMethod_Credit card (automatic)</th>\n",
       "      <th>PaymentMethod_Electronic check</th>\n",
       "      <th>PaymentMethod_Mailed check</th>\n",
       "    </tr>\n",
       "  </thead>\n",
       "  <tbody>\n",
       "    <tr>\n",
       "      <th>1575</th>\n",
       "      <td>0</td>\n",
       "      <td>0</td>\n",
       "      <td>0</td>\n",
       "      <td>0</td>\n",
       "      <td>0.915493</td>\n",
       "      <td>1</td>\n",
       "      <td>0</td>\n",
       "      <td>0</td>\n",
       "      <td>1</td>\n",
       "      <td>1</td>\n",
       "      <td>...</td>\n",
       "      <td>0</td>\n",
       "      <td>1</td>\n",
       "      <td>0</td>\n",
       "      <td>1</td>\n",
       "      <td>0</td>\n",
       "      <td>0</td>\n",
       "      <td>0</td>\n",
       "      <td>0</td>\n",
       "      <td>1</td>\n",
       "      <td>0</td>\n",
       "    </tr>\n",
       "    <tr>\n",
       "      <th>2415</th>\n",
       "      <td>1</td>\n",
       "      <td>1</td>\n",
       "      <td>1</td>\n",
       "      <td>1</td>\n",
       "      <td>0.549296</td>\n",
       "      <td>1</td>\n",
       "      <td>1</td>\n",
       "      <td>0</td>\n",
       "      <td>0</td>\n",
       "      <td>0</td>\n",
       "      <td>...</td>\n",
       "      <td>0</td>\n",
       "      <td>1</td>\n",
       "      <td>0</td>\n",
       "      <td>1</td>\n",
       "      <td>0</td>\n",
       "      <td>0</td>\n",
       "      <td>0</td>\n",
       "      <td>1</td>\n",
       "      <td>0</td>\n",
       "      <td>0</td>\n",
       "    </tr>\n",
       "    <tr>\n",
       "      <th>3357</th>\n",
       "      <td>1</td>\n",
       "      <td>0</td>\n",
       "      <td>0</td>\n",
       "      <td>1</td>\n",
       "      <td>0.000000</td>\n",
       "      <td>1</td>\n",
       "      <td>0</td>\n",
       "      <td>0</td>\n",
       "      <td>0</td>\n",
       "      <td>1</td>\n",
       "      <td>...</td>\n",
       "      <td>1</td>\n",
       "      <td>0</td>\n",
       "      <td>0</td>\n",
       "      <td>1</td>\n",
       "      <td>0</td>\n",
       "      <td>0</td>\n",
       "      <td>0</td>\n",
       "      <td>0</td>\n",
       "      <td>1</td>\n",
       "      <td>0</td>\n",
       "    </tr>\n",
       "    <tr>\n",
       "      <th>687</th>\n",
       "      <td>0</td>\n",
       "      <td>1</td>\n",
       "      <td>0</td>\n",
       "      <td>0</td>\n",
       "      <td>0.014085</td>\n",
       "      <td>1</td>\n",
       "      <td>0</td>\n",
       "      <td>1</td>\n",
       "      <td>0</td>\n",
       "      <td>0</td>\n",
       "      <td>...</td>\n",
       "      <td>1</td>\n",
       "      <td>0</td>\n",
       "      <td>0</td>\n",
       "      <td>1</td>\n",
       "      <td>0</td>\n",
       "      <td>0</td>\n",
       "      <td>0</td>\n",
       "      <td>0</td>\n",
       "      <td>1</td>\n",
       "      <td>0</td>\n",
       "    </tr>\n",
       "    <tr>\n",
       "      <th>1670</th>\n",
       "      <td>0</td>\n",
       "      <td>1</td>\n",
       "      <td>0</td>\n",
       "      <td>1</td>\n",
       "      <td>0.000000</td>\n",
       "      <td>1</td>\n",
       "      <td>0</td>\n",
       "      <td>0</td>\n",
       "      <td>0</td>\n",
       "      <td>1</td>\n",
       "      <td>...</td>\n",
       "      <td>1</td>\n",
       "      <td>0</td>\n",
       "      <td>0</td>\n",
       "      <td>1</td>\n",
       "      <td>0</td>\n",
       "      <td>0</td>\n",
       "      <td>0</td>\n",
       "      <td>0</td>\n",
       "      <td>0</td>\n",
       "      <td>1</td>\n",
       "    </tr>\n",
       "  </tbody>\n",
       "</table>\n",
       "<p>5 rows × 27 columns</p>\n",
       "</div>"
      ],
      "text/plain": [
       "      gender  SeniorCitizen  Partner  Dependents    tenure  PhoneService  \\\n",
       "1575       0              0        0           0  0.915493             1   \n",
       "2415       1              1        1           1  0.549296             1   \n",
       "3357       1              0        0           1  0.000000             1   \n",
       "687        0              1        0           0  0.014085             1   \n",
       "1670       0              1        0           1  0.000000             1   \n",
       "\n",
       "      MultipleLines  OnlineSecurity  OnlineBackup  DeviceProtection  ...  \\\n",
       "1575              0               0             1                 1  ...   \n",
       "2415              1               0             0                 0  ...   \n",
       "3357              0               0             0                 1  ...   \n",
       "687               0               1             0                 0  ...   \n",
       "1670              0               0             0                 1  ...   \n",
       "\n",
       "      InternetService_DSL  InternetService_Fiber optic  InternetService_No  \\\n",
       "1575                    0                            1                   0   \n",
       "2415                    0                            1                   0   \n",
       "3357                    1                            0                   0   \n",
       "687                     1                            0                   0   \n",
       "1670                    1                            0                   0   \n",
       "\n",
       "      Contract_Month-to-month  Contract_One year  Contract_Two year  \\\n",
       "1575                        1                  0                  0   \n",
       "2415                        1                  0                  0   \n",
       "3357                        1                  0                  0   \n",
       "687                         1                  0                  0   \n",
       "1670                        1                  0                  0   \n",
       "\n",
       "      PaymentMethod_Bank transfer (automatic)  \\\n",
       "1575                                        0   \n",
       "2415                                        0   \n",
       "3357                                        0   \n",
       "687                                         0   \n",
       "1670                                        0   \n",
       "\n",
       "      PaymentMethod_Credit card (automatic)  PaymentMethod_Electronic check  \\\n",
       "1575                                      0                               1   \n",
       "2415                                      1                               0   \n",
       "3357                                      0                               1   \n",
       "687                                       0                               1   \n",
       "1670                                      0                               0   \n",
       "\n",
       "      PaymentMethod_Mailed check  \n",
       "1575                           0  \n",
       "2415                           0  \n",
       "3357                           0  \n",
       "687                            0  \n",
       "1670                           1  \n",
       "\n",
       "[5 rows x 27 columns]"
      ]
     },
     "execution_count": 76,
     "metadata": {},
     "output_type": "execute_result"
    }
   ],
   "source": [
    "df_class1.sample(5)"
   ]
  },
  {
   "cell_type": "code",
   "execution_count": 77,
   "id": "746df321",
   "metadata": {},
   "outputs": [
    {
     "data": {
      "text/plain": [
       "(5163, 27)"
      ]
     },
     "execution_count": 77,
     "metadata": {},
     "output_type": "execute_result"
    }
   ],
   "source": [
    "df_class0.shape"
   ]
  },
  {
   "cell_type": "code",
   "execution_count": 78,
   "id": "bfe7517f",
   "metadata": {},
   "outputs": [
    {
     "data": {
      "text/plain": [
       "(1869, 27)"
      ]
     },
     "execution_count": 78,
     "metadata": {},
     "output_type": "execute_result"
    }
   ],
   "source": [
    "df_class1.shape"
   ]
  },
  {
   "cell_type": "code",
   "execution_count": 79,
   "id": "d499f2c6",
   "metadata": {},
   "outputs": [
    {
     "data": {
      "text/plain": [
       "(1869, 27)"
      ]
     },
     "execution_count": 79,
     "metadata": {},
     "output_type": "execute_result"
    }
   ],
   "source": [
    "df_class0.sample(count_class1).shape"
   ]
  },
  {
   "cell_type": "code",
   "execution_count": 80,
   "id": "83b247a7",
   "metadata": {},
   "outputs": [
    {
     "data": {
      "text/plain": [
       "(3738, 27)"
      ]
     },
     "execution_count": 80,
     "metadata": {},
     "output_type": "execute_result"
    }
   ],
   "source": [
    "df_class0_under=df_class0.sample(count_class1)\n",
    "\n",
    "df_test_under=pd.concat([df_class0_under,df_class1], axis=0)\n",
    "df_test_under.shape"
   ]
  },
  {
   "cell_type": "code",
   "execution_count": 81,
   "id": "b12bedeb",
   "metadata": {},
   "outputs": [
    {
     "name": "stdout",
     "output_type": "stream",
     "text": [
      "0    1869\n",
      "1    1869\n",
      "Name: Churn, dtype: int64\n"
     ]
    }
   ],
   "source": [
    "print(df_test_under.Churn.value_counts())"
   ]
  },
  {
   "cell_type": "code",
   "execution_count": 82,
   "id": "79683e60",
   "metadata": {},
   "outputs": [],
   "source": [
    "X=df_test_under.drop('Churn', axis='columns')\n",
    "y=df_test_under['Churn']\n",
    "\n",
    "from sklearn.model_selection import train_test_split\n",
    "X_train, X_test, y_train, y_test= train_test_split(X,y,test_size=0.3, random_state=15, stratify=y) # 'stratify' will make sure that it has balanced samples as it as class0 values and class1 values. It makes sure that same amount of values are present from both the class in the training and the test samples for balanced training of the model."
   ]
  },
  {
   "cell_type": "code",
   "execution_count": 83,
   "id": "595f9505",
   "metadata": {},
   "outputs": [
    {
     "data": {
      "text/plain": [
       "0    1308\n",
       "1    1308\n",
       "Name: Churn, dtype: int64"
      ]
     },
     "execution_count": 83,
     "metadata": {},
     "output_type": "execute_result"
    }
   ],
   "source": [
    "y_train.value_counts()"
   ]
  },
  {
   "cell_type": "code",
   "execution_count": 84,
   "id": "c1e605f5",
   "metadata": {},
   "outputs": [
    {
     "data": {
      "text/plain": [
       "0    561\n",
       "1    561\n",
       "Name: Churn, dtype: int64"
      ]
     },
     "execution_count": 84,
     "metadata": {},
     "output_type": "execute_result"
    }
   ],
   "source": [
    "y_test.value_counts()"
   ]
  },
  {
   "cell_type": "code",
   "execution_count": 85,
   "id": "552872be",
   "metadata": {},
   "outputs": [
    {
     "name": "stdout",
     "output_type": "stream",
     "text": [
      "Epoch 1/100\n",
      "82/82 [==============================] - 1s 9ms/step - loss: 0.6534 - accuracy: 0.6269\n",
      "Epoch 2/100\n",
      "82/82 [==============================] - 0s 6ms/step - loss: 0.5317 - accuracy: 0.7424\n",
      "Epoch 3/100\n",
      "82/82 [==============================] - 0s 6ms/step - loss: 0.5043 - accuracy: 0.7584\n",
      "Epoch 4/100\n",
      "82/82 [==============================] - 0s 6ms/step - loss: 0.4960 - accuracy: 0.7645\n",
      "Epoch 5/100\n",
      "82/82 [==============================] - 0s 6ms/step - loss: 0.4903 - accuracy: 0.7676\n",
      "Epoch 6/100\n",
      "82/82 [==============================] - 0s 6ms/step - loss: 0.4890 - accuracy: 0.7695\n",
      "Epoch 7/100\n",
      "82/82 [==============================] - 0s 6ms/step - loss: 0.4861 - accuracy: 0.7699\n",
      "Epoch 8/100\n",
      "82/82 [==============================] - 0s 6ms/step - loss: 0.4849 - accuracy: 0.7699\n",
      "Epoch 9/100\n",
      "82/82 [==============================] - 1s 9ms/step - loss: 0.4820 - accuracy: 0.7676\n",
      "Epoch 10/100\n",
      "82/82 [==============================] - 1s 10ms/step - loss: 0.4819 - accuracy: 0.7687\n",
      "Epoch 11/100\n",
      "82/82 [==============================] - 1s 10ms/step - loss: 0.4796 - accuracy: 0.7733\n",
      "Epoch 12/100\n",
      "82/82 [==============================] - 1s 10ms/step - loss: 0.4790 - accuracy: 0.7683\n",
      "Epoch 13/100\n",
      "82/82 [==============================] - 1s 10ms/step - loss: 0.4776 - accuracy: 0.7768\n",
      "Epoch 14/100\n",
      "82/82 [==============================] - 1s 10ms/step - loss: 0.4752 - accuracy: 0.7737\n",
      "Epoch 15/100\n",
      "82/82 [==============================] - 1s 10ms/step - loss: 0.4741 - accuracy: 0.7764\n",
      "Epoch 16/100\n",
      "82/82 [==============================] - 1s 10ms/step - loss: 0.4723 - accuracy: 0.7752\n",
      "Epoch 17/100\n",
      "82/82 [==============================] - 1s 10ms/step - loss: 0.4723 - accuracy: 0.7813\n",
      "Epoch 18/100\n",
      "82/82 [==============================] - 1s 10ms/step - loss: 0.4700 - accuracy: 0.7825\n",
      "Epoch 19/100\n",
      "82/82 [==============================] - 1s 10ms/step - loss: 0.4687 - accuracy: 0.7806\n",
      "Epoch 20/100\n",
      "82/82 [==============================] - 1s 10ms/step - loss: 0.4677 - accuracy: 0.7836\n",
      "Epoch 21/100\n",
      "82/82 [==============================] - 1s 10ms/step - loss: 0.4680 - accuracy: 0.7802\n",
      "Epoch 22/100\n",
      "82/82 [==============================] - 1s 10ms/step - loss: 0.4656 - accuracy: 0.7840\n",
      "Epoch 23/100\n",
      "82/82 [==============================] - 1s 10ms/step - loss: 0.4648 - accuracy: 0.7852\n",
      "Epoch 24/100\n",
      "82/82 [==============================] - 1s 10ms/step - loss: 0.4635 - accuracy: 0.7794\n",
      "Epoch 25/100\n",
      "82/82 [==============================] - 1s 10ms/step - loss: 0.4616 - accuracy: 0.7901\n",
      "Epoch 26/100\n",
      "82/82 [==============================] - 1s 10ms/step - loss: 0.4623 - accuracy: 0.7821\n",
      "Epoch 27/100\n",
      "82/82 [==============================] - 1s 10ms/step - loss: 0.4583 - accuracy: 0.7875\n",
      "Epoch 28/100\n",
      "82/82 [==============================] - 1s 10ms/step - loss: 0.4568 - accuracy: 0.7909\n",
      "Epoch 29/100\n",
      "82/82 [==============================] - 1s 10ms/step - loss: 0.4559 - accuracy: 0.7909\n",
      "Epoch 30/100\n",
      "82/82 [==============================] - 1s 10ms/step - loss: 0.4545 - accuracy: 0.7875\n",
      "Epoch 31/100\n",
      "82/82 [==============================] - 1s 10ms/step - loss: 0.4528 - accuracy: 0.7909\n",
      "Epoch 32/100\n",
      "82/82 [==============================] - 1s 10ms/step - loss: 0.4529 - accuracy: 0.7913\n",
      "Epoch 33/100\n",
      "82/82 [==============================] - 1s 10ms/step - loss: 0.4518 - accuracy: 0.7894\n",
      "Epoch 34/100\n",
      "82/82 [==============================] - 1s 10ms/step - loss: 0.4490 - accuracy: 0.7928\n",
      "Epoch 35/100\n",
      "82/82 [==============================] - 1s 10ms/step - loss: 0.4462 - accuracy: 0.7932\n",
      "Epoch 36/100\n",
      "82/82 [==============================] - 1s 10ms/step - loss: 0.4466 - accuracy: 0.7940\n",
      "Epoch 37/100\n",
      "82/82 [==============================] - 1s 10ms/step - loss: 0.4459 - accuracy: 0.7909\n",
      "Epoch 38/100\n",
      "82/82 [==============================] - 1s 10ms/step - loss: 0.4445 - accuracy: 0.7943\n",
      "Epoch 39/100\n",
      "82/82 [==============================] - 1s 10ms/step - loss: 0.4437 - accuracy: 0.7963\n",
      "Epoch 40/100\n",
      "82/82 [==============================] - 1s 11ms/step - loss: 0.4414 - accuracy: 0.7982\n",
      "Epoch 41/100\n",
      "82/82 [==============================] - 1s 11ms/step - loss: 0.4405 - accuracy: 0.7959\n",
      "Epoch 42/100\n",
      "82/82 [==============================] - 1s 11ms/step - loss: 0.4392 - accuracy: 0.7955\n",
      "Epoch 43/100\n",
      "82/82 [==============================] - 1s 10ms/step - loss: 0.4374 - accuracy: 0.8001\n",
      "Epoch 44/100\n",
      "82/82 [==============================] - 1s 10ms/step - loss: 0.4392 - accuracy: 0.8008\n",
      "Epoch 45/100\n",
      "82/82 [==============================] - 1s 10ms/step - loss: 0.4360 - accuracy: 0.7993\n",
      "Epoch 46/100\n",
      "82/82 [==============================] - 1s 10ms/step - loss: 0.4361 - accuracy: 0.8005\n",
      "Epoch 47/100\n",
      "82/82 [==============================] - 1s 11ms/step - loss: 0.4366 - accuracy: 0.7982\n",
      "Epoch 48/100\n",
      "82/82 [==============================] - 1s 11ms/step - loss: 0.4336 - accuracy: 0.7997\n",
      "Epoch 49/100\n",
      "82/82 [==============================] - 1s 10ms/step - loss: 0.4320 - accuracy: 0.7966\n",
      "Epoch 50/100\n",
      "82/82 [==============================] - 1s 10ms/step - loss: 0.4322 - accuracy: 0.8020\n",
      "Epoch 51/100\n",
      "82/82 [==============================] - 1s 11ms/step - loss: 0.4305 - accuracy: 0.8016\n",
      "Epoch 52/100\n",
      "82/82 [==============================] - 1s 10ms/step - loss: 0.4306 - accuracy: 0.7970\n",
      "Epoch 53/100\n",
      "82/82 [==============================] - 1s 10ms/step - loss: 0.4280 - accuracy: 0.8024\n",
      "Epoch 54/100\n",
      "82/82 [==============================] - 1s 10ms/step - loss: 0.4289 - accuracy: 0.8028\n",
      "Epoch 55/100\n",
      "82/82 [==============================] - 1s 11ms/step - loss: 0.4263 - accuracy: 0.8039\n",
      "Epoch 56/100\n",
      "82/82 [==============================] - 1s 10ms/step - loss: 0.4269 - accuracy: 0.8058\n",
      "Epoch 57/100\n",
      "82/82 [==============================] - 1s 10ms/step - loss: 0.4256 - accuracy: 0.8031\n",
      "Epoch 58/100\n",
      "82/82 [==============================] - 1s 10ms/step - loss: 0.4245 - accuracy: 0.8024\n",
      "Epoch 59/100\n",
      "82/82 [==============================] - ETA: 0s - loss: 0.4255 - accuracy: 0.80 - 1s 10ms/step - loss: 0.4230 - accuracy: 0.8039\n",
      "Epoch 60/100\n",
      "82/82 [==============================] - 1s 10ms/step - loss: 0.4222 - accuracy: 0.8073\n",
      "Epoch 61/100\n",
      "82/82 [==============================] - 1s 10ms/step - loss: 0.4223 - accuracy: 0.8073\n",
      "Epoch 62/100\n",
      "82/82 [==============================] - 1s 10ms/step - loss: 0.4197 - accuracy: 0.8047\n",
      "Epoch 63/100\n",
      "82/82 [==============================] - 1s 10ms/step - loss: 0.4193 - accuracy: 0.8070\n",
      "Epoch 64/100\n",
      "82/82 [==============================] - 1s 10ms/step - loss: 0.4195 - accuracy: 0.8050\n",
      "Epoch 65/100\n",
      "82/82 [==============================] - 1s 10ms/step - loss: 0.4174 - accuracy: 0.8054\n",
      "Epoch 66/100\n",
      "82/82 [==============================] - 1s 10ms/step - loss: 0.4182 - accuracy: 0.8066\n",
      "Epoch 67/100\n",
      "82/82 [==============================] - 1s 10ms/step - loss: 0.4163 - accuracy: 0.8081\n",
      "Epoch 68/100\n",
      "82/82 [==============================] - 1s 10ms/step - loss: 0.4144 - accuracy: 0.8081\n",
      "Epoch 69/100\n",
      "82/82 [==============================] - 1s 10ms/step - loss: 0.4137 - accuracy: 0.8112\n",
      "Epoch 70/100\n",
      "82/82 [==============================] - 1s 10ms/step - loss: 0.4118 - accuracy: 0.8115\n",
      "Epoch 71/100\n",
      "82/82 [==============================] - 1s 10ms/step - loss: 0.4134 - accuracy: 0.8070\n",
      "Epoch 72/100\n",
      "82/82 [==============================] - 1s 10ms/step - loss: 0.4098 - accuracy: 0.8135\n",
      "Epoch 73/100\n",
      "82/82 [==============================] - 1s 10ms/step - loss: 0.4110 - accuracy: 0.8100\n",
      "Epoch 74/100\n",
      "82/82 [==============================] - 1s 11ms/step - loss: 0.4093 - accuracy: 0.8150\n",
      "Epoch 75/100\n",
      "82/82 [==============================] - 1s 10ms/step - loss: 0.4077 - accuracy: 0.8108\n",
      "Epoch 76/100\n",
      "82/82 [==============================] - 1s 12ms/step - loss: 0.4084 - accuracy: 0.8142\n",
      "Epoch 77/100\n",
      "82/82 [==============================] - 1s 12ms/step - loss: 0.4077 - accuracy: 0.8127\n",
      "Epoch 78/100\n",
      "82/82 [==============================] - 1s 12ms/step - loss: 0.4051 - accuracy: 0.8138 0s - loss: 0.4037 - accuracy: 0.\n",
      "Epoch 79/100\n",
      "82/82 [==============================] - 1s 10ms/step - loss: 0.4066 - accuracy: 0.8115\n",
      "Epoch 80/100\n",
      "82/82 [==============================] - 1s 10ms/step - loss: 0.4041 - accuracy: 0.8142\n",
      "Epoch 81/100\n"
     ]
    },
    {
     "name": "stdout",
     "output_type": "stream",
     "text": [
      "82/82 [==============================] - 1s 12ms/step - loss: 0.4030 - accuracy: 0.8146\n",
      "Epoch 82/100\n",
      "82/82 [==============================] - 1s 10ms/step - loss: 0.4022 - accuracy: 0.8188\n",
      "Epoch 83/100\n",
      "82/82 [==============================] - 1s 11ms/step - loss: 0.4007 - accuracy: 0.8150\n",
      "Epoch 84/100\n",
      "82/82 [==============================] - 1s 10ms/step - loss: 0.4009 - accuracy: 0.8169\n",
      "Epoch 85/100\n",
      "82/82 [==============================] - 1s 10ms/step - loss: 0.4026 - accuracy: 0.8188\n",
      "Epoch 86/100\n",
      "82/82 [==============================] - 1s 10ms/step - loss: 0.3995 - accuracy: 0.8142\n",
      "Epoch 87/100\n",
      "82/82 [==============================] - 1s 10ms/step - loss: 0.3985 - accuracy: 0.8184\n",
      "Epoch 88/100\n",
      "82/82 [==============================] - 1s 10ms/step - loss: 0.3988 - accuracy: 0.8165\n",
      "Epoch 89/100\n",
      "82/82 [==============================] - 1s 10ms/step - loss: 0.3969 - accuracy: 0.8200\n",
      "Epoch 90/100\n",
      "82/82 [==============================] - 1s 10ms/step - loss: 0.3949 - accuracy: 0.8226\n",
      "Epoch 91/100\n",
      "82/82 [==============================] - 1s 11ms/step - loss: 0.3973 - accuracy: 0.8169\n",
      "Epoch 92/100\n",
      "82/82 [==============================] - 1s 11ms/step - loss: 0.3962 - accuracy: 0.8177\n",
      "Epoch 93/100\n",
      "82/82 [==============================] - 1s 10ms/step - loss: 0.3922 - accuracy: 0.8226\n",
      "Epoch 94/100\n",
      "82/82 [==============================] - 1s 10ms/step - loss: 0.3921 - accuracy: 0.8245\n",
      "Epoch 95/100\n",
      "82/82 [==============================] - 1s 10ms/step - loss: 0.3928 - accuracy: 0.8203\n",
      "Epoch 96/100\n",
      "82/82 [==============================] - 1s 10ms/step - loss: 0.3946 - accuracy: 0.8192\n",
      "Epoch 97/100\n",
      "82/82 [==============================] - 1s 11ms/step - loss: 0.3918 - accuracy: 0.8173\n",
      "Epoch 98/100\n",
      "82/82 [==============================] - 1s 12ms/step - loss: 0.3895 - accuracy: 0.8261\n",
      "Epoch 99/100\n",
      "82/82 [==============================] - 1s 10ms/step - loss: 0.3933 - accuracy: 0.8192\n",
      "Epoch 100/100\n",
      "82/82 [==============================] - 1s 11ms/step - loss: 0.3897 - accuracy: 0.8257\n",
      "36/36 [==============================] - 1s 9ms/step - loss: 0.5401 - accuracy: 0.7558\n",
      "[0.5400609374046326, 0.7557932138442993]\n",
      "Classification Report\n",
      "               precision    recall  f1-score   support\n",
      "\n",
      "           0       0.76      0.74      0.75       561\n",
      "           1       0.75      0.77      0.76       561\n",
      "\n",
      "    accuracy                           0.76      1122\n",
      "   macro avg       0.76      0.76      0.76      1122\n",
      "weighted avg       0.76      0.76      0.76      1122\n",
      "\n"
     ]
    }
   ],
   "source": [
    "y_preds=ANN(X_train,y_train,X_test,y_test,'binary_crossentropy',-1)"
   ]
  },
  {
   "cell_type": "markdown",
   "id": "ce808007",
   "metadata": {},
   "source": [
    "## 2) Oversampling"
   ]
  },
  {
   "cell_type": "code",
   "execution_count": 86,
   "id": "3c2b8836",
   "metadata": {},
   "outputs": [
    {
     "data": {
      "text/plain": [
       "(5163, 1869)"
      ]
     },
     "execution_count": 86,
     "metadata": {},
     "output_type": "execute_result"
    }
   ],
   "source": [
    "count_class0, count_class1"
   ]
  },
  {
   "cell_type": "code",
   "execution_count": 87,
   "id": "d446da78",
   "metadata": {},
   "outputs": [
    {
     "data": {
      "text/plain": [
       "(5163, 1869)"
      ]
     },
     "execution_count": 87,
     "metadata": {},
     "output_type": "execute_result"
    }
   ],
   "source": [
    "count_class0, count_class1"
   ]
  },
  {
   "cell_type": "code",
   "execution_count": 88,
   "id": "a4bea10a",
   "metadata": {},
   "outputs": [
    {
     "data": {
      "text/plain": [
       "(5163, 27)"
      ]
     },
     "execution_count": 88,
     "metadata": {},
     "output_type": "execute_result"
    }
   ],
   "source": [
    "df_class1_over=df_class1.sample(count_class0, replace=True)\n",
    "df_class1_over.shape"
   ]
  },
  {
   "cell_type": "code",
   "execution_count": 89,
   "id": "12039133",
   "metadata": {},
   "outputs": [
    {
     "data": {
      "text/plain": [
       "0    5163\n",
       "1    5163\n",
       "Name: Churn, dtype: int64"
      ]
     },
     "execution_count": 89,
     "metadata": {},
     "output_type": "execute_result"
    }
   ],
   "source": [
    "df_test_over=pd.concat([df_class1_over,df_class0], axis=0)\n",
    "\n",
    "df_test_over['Churn'].value_counts()"
   ]
  },
  {
   "cell_type": "code",
   "execution_count": 90,
   "id": "a7e7c552",
   "metadata": {},
   "outputs": [],
   "source": [
    "X=df_test_under.drop('Churn', axis='columns')\n",
    "y=df_test_under['Churn']\n",
    "\n",
    "from sklearn.model_selection import train_test_split\n",
    "X_train, X_test, y_train, y_test= train_test_split(X,y,test_size=0.3, random_state=15, stratify=y)"
   ]
  },
  {
   "cell_type": "code",
   "execution_count": 91,
   "id": "60215ddf",
   "metadata": {},
   "outputs": [
    {
     "data": {
      "text/plain": [
       "0    1308\n",
       "1    1308\n",
       "Name: Churn, dtype: int64"
      ]
     },
     "execution_count": 91,
     "metadata": {},
     "output_type": "execute_result"
    }
   ],
   "source": [
    "y_train.value_counts()"
   ]
  },
  {
   "cell_type": "code",
   "execution_count": 92,
   "id": "4542d374",
   "metadata": {},
   "outputs": [
    {
     "name": "stdout",
     "output_type": "stream",
     "text": [
      "Epoch 1/100\n",
      "82/82 [==============================] - 2s 11ms/step - loss: 0.6240 - accuracy: 0.6709\n",
      "Epoch 2/100\n",
      "82/82 [==============================] - 1s 10ms/step - loss: 0.5294 - accuracy: 0.7557\n",
      "Epoch 3/100\n",
      "82/82 [==============================] - 1s 10ms/step - loss: 0.5039 - accuracy: 0.7649\n",
      "Epoch 4/100\n",
      "82/82 [==============================] - 1s 10ms/step - loss: 0.4946 - accuracy: 0.7661\n",
      "Epoch 5/100\n",
      "82/82 [==============================] - 1s 11ms/step - loss: 0.4907 - accuracy: 0.7699\n",
      "Epoch 6/100\n",
      "82/82 [==============================] - 1s 10ms/step - loss: 0.4850 - accuracy: 0.7672\n",
      "Epoch 7/100\n",
      "82/82 [==============================] - 1s 10ms/step - loss: 0.4823 - accuracy: 0.7664\n",
      "Epoch 8/100\n",
      "82/82 [==============================] - 1s 10ms/step - loss: 0.4791 - accuracy: 0.7752\n",
      "Epoch 9/100\n",
      "82/82 [==============================] - 1s 10ms/step - loss: 0.4744 - accuracy: 0.7779\n",
      "Epoch 10/100\n",
      "82/82 [==============================] - 1s 10ms/step - loss: 0.4712 - accuracy: 0.7775\n",
      "Epoch 11/100\n",
      "82/82 [==============================] - 1s 10ms/step - loss: 0.4689 - accuracy: 0.7791\n",
      "Epoch 12/100\n",
      "82/82 [==============================] - 1s 11ms/step - loss: 0.4669 - accuracy: 0.7806\n",
      "Epoch 13/100\n",
      "82/82 [==============================] - 1s 11ms/step - loss: 0.4646 - accuracy: 0.7791\n",
      "Epoch 14/100\n",
      "82/82 [==============================] - 1s 11ms/step - loss: 0.4627 - accuracy: 0.7802\n",
      "Epoch 15/100\n",
      "82/82 [==============================] - 1s 10ms/step - loss: 0.4600 - accuracy: 0.7844\n",
      "Epoch 16/100\n",
      "82/82 [==============================] - 1s 11ms/step - loss: 0.4593 - accuracy: 0.7802\n",
      "Epoch 17/100\n",
      "82/82 [==============================] - 1s 12ms/step - loss: 0.4575 - accuracy: 0.7898\n",
      "Epoch 18/100\n",
      "82/82 [==============================] - 1s 10ms/step - loss: 0.4557 - accuracy: 0.7856\n",
      "Epoch 19/100\n",
      "82/82 [==============================] - 1s 11ms/step - loss: 0.4524 - accuracy: 0.7875\n",
      "Epoch 20/100\n",
      "82/82 [==============================] - 1s 12ms/step - loss: 0.4514 - accuracy: 0.7856\n",
      "Epoch 21/100\n",
      "82/82 [==============================] - 1s 10ms/step - loss: 0.4501 - accuracy: 0.7840\n",
      "Epoch 22/100\n",
      "82/82 [==============================] - 1s 10ms/step - loss: 0.4503 - accuracy: 0.7844\n",
      "Epoch 23/100\n",
      "82/82 [==============================] - 1s 11ms/step - loss: 0.4485 - accuracy: 0.7871\n",
      "Epoch 24/100\n",
      "82/82 [==============================] - 1s 10ms/step - loss: 0.4469 - accuracy: 0.7878\n",
      "Epoch 25/100\n",
      "82/82 [==============================] - 1s 11ms/step - loss: 0.4454 - accuracy: 0.7867\n",
      "Epoch 26/100\n",
      "82/82 [==============================] - 1s 11ms/step - loss: 0.4436 - accuracy: 0.7859\n",
      "Epoch 27/100\n",
      "82/82 [==============================] - 1s 10ms/step - loss: 0.4426 - accuracy: 0.7852\n",
      "Epoch 28/100\n",
      "82/82 [==============================] - 1s 11ms/step - loss: 0.4397 - accuracy: 0.7917\n",
      "Epoch 29/100\n",
      "82/82 [==============================] - 1s 11ms/step - loss: 0.4384 - accuracy: 0.7959\n",
      "Epoch 30/100\n",
      "82/82 [==============================] - 1s 11ms/step - loss: 0.4377 - accuracy: 0.7940\n",
      "Epoch 31/100\n",
      "82/82 [==============================] - 1s 10ms/step - loss: 0.4379 - accuracy: 0.7875\n",
      "Epoch 32/100\n",
      "82/82 [==============================] - 1s 11ms/step - loss: 0.4366 - accuracy: 0.7890\n",
      "Epoch 33/100\n",
      "82/82 [==============================] - 1s 10ms/step - loss: 0.4336 - accuracy: 0.7932\n",
      "Epoch 34/100\n",
      "82/82 [==============================] - 1s 11ms/step - loss: 0.4318 - accuracy: 0.7943\n",
      "Epoch 35/100\n",
      "82/82 [==============================] - 1s 10ms/step - loss: 0.4328 - accuracy: 0.7913\n",
      "Epoch 36/100\n",
      "82/82 [==============================] - 1s 11ms/step - loss: 0.4309 - accuracy: 0.7955\n",
      "Epoch 37/100\n",
      "82/82 [==============================] - 1s 11ms/step - loss: 0.4305 - accuracy: 0.7997\n",
      "Epoch 38/100\n",
      "82/82 [==============================] - 1s 11ms/step - loss: 0.4289 - accuracy: 0.7985\n",
      "Epoch 39/100\n",
      "82/82 [==============================] - 1s 11ms/step - loss: 0.4283 - accuracy: 0.7985\n",
      "Epoch 40/100\n",
      "82/82 [==============================] - 1s 10ms/step - loss: 0.4263 - accuracy: 0.7974\n",
      "Epoch 41/100\n",
      "82/82 [==============================] - 1s 11ms/step - loss: 0.4237 - accuracy: 0.8054\n",
      "Epoch 42/100\n",
      "82/82 [==============================] - 1s 11ms/step - loss: 0.4253 - accuracy: 0.8016\n",
      "Epoch 43/100\n",
      "82/82 [==============================] - 1s 11ms/step - loss: 0.4231 - accuracy: 0.8001\n",
      "Epoch 44/100\n",
      "82/82 [==============================] - 1s 11ms/step - loss: 0.4232 - accuracy: 0.7993\n",
      "Epoch 45/100\n",
      "82/82 [==============================] - 1s 10ms/step - loss: 0.4222 - accuracy: 0.8001\n",
      "Epoch 46/100\n",
      "82/82 [==============================] - 1s 10ms/step - loss: 0.4203 - accuracy: 0.8058\n",
      "Epoch 47/100\n",
      "82/82 [==============================] - 1s 10ms/step - loss: 0.4197 - accuracy: 0.8039\n",
      "Epoch 48/100\n",
      "82/82 [==============================] - 1s 11ms/step - loss: 0.4206 - accuracy: 0.8031\n",
      "Epoch 49/100\n",
      "82/82 [==============================] - 1s 18ms/step - loss: 0.4179 - accuracy: 0.8035\n",
      "Epoch 50/100\n",
      "82/82 [==============================] - 1s 16ms/step - loss: 0.4176 - accuracy: 0.8031\n",
      "Epoch 51/100\n",
      "82/82 [==============================] - 1s 14ms/step - loss: 0.4181 - accuracy: 0.8062 \n",
      "Epoch 52/100\n",
      "82/82 [==============================] - 1s 12ms/step - loss: 0.4152 - accuracy: 0.8058\n",
      "Epoch 53/100\n",
      "82/82 [==============================] - 1s 11ms/step - loss: 0.4137 - accuracy: 0.8081\n",
      "Epoch 54/100\n",
      "82/82 [==============================] - 1s 11ms/step - loss: 0.4134 - accuracy: 0.8115\n",
      "Epoch 55/100\n",
      "82/82 [==============================] - 1s 11ms/step - loss: 0.4139 - accuracy: 0.8081\n",
      "Epoch 56/100\n",
      "82/82 [==============================] - 1s 10ms/step - loss: 0.4121 - accuracy: 0.8085\n",
      "Epoch 57/100\n",
      "82/82 [==============================] - 1s 10ms/step - loss: 0.4118 - accuracy: 0.8093\n",
      "Epoch 58/100\n",
      "82/82 [==============================] - 1s 11ms/step - loss: 0.4109 - accuracy: 0.8119\n",
      "Epoch 59/100\n",
      "82/82 [==============================] - 1s 10ms/step - loss: 0.4076 - accuracy: 0.8089\n",
      "Epoch 60/100\n",
      "82/82 [==============================] - 1s 11ms/step - loss: 0.4094 - accuracy: 0.8093\n",
      "Epoch 61/100\n",
      "82/82 [==============================] - 1s 11ms/step - loss: 0.4062 - accuracy: 0.8115\n",
      "Epoch 62/100\n",
      "82/82 [==============================] - 1s 11ms/step - loss: 0.4078 - accuracy: 0.8093\n",
      "Epoch 63/100\n",
      "82/82 [==============================] - 1s 10ms/step - loss: 0.4083 - accuracy: 0.8100\n",
      "Epoch 64/100\n",
      "82/82 [==============================] - 1s 12ms/step - loss: 0.4050 - accuracy: 0.8138\n",
      "Epoch 65/100\n",
      "82/82 [==============================] - 1s 11ms/step - loss: 0.4043 - accuracy: 0.8173\n",
      "Epoch 66/100\n",
      "82/82 [==============================] - 1s 11ms/step - loss: 0.4027 - accuracy: 0.8154\n",
      "Epoch 67/100\n",
      "82/82 [==============================] - 1s 11ms/step - loss: 0.4022 - accuracy: 0.8173\n",
      "Epoch 68/100\n",
      "82/82 [==============================] - 1s 11ms/step - loss: 0.4017 - accuracy: 0.8165\n",
      "Epoch 69/100\n",
      "82/82 [==============================] - 1s 11ms/step - loss: 0.3994 - accuracy: 0.8104\n",
      "Epoch 70/100\n",
      "82/82 [==============================] - 1s 11ms/step - loss: 0.3999 - accuracy: 0.8226\n",
      "Epoch 71/100\n",
      "82/82 [==============================] - 1s 10ms/step - loss: 0.4003 - accuracy: 0.8138\n",
      "Epoch 72/100\n",
      "82/82 [==============================] - 1s 11ms/step - loss: 0.4000 - accuracy: 0.8135\n",
      "Epoch 73/100\n",
      "82/82 [==============================] - 1s 13ms/step - loss: 0.3988 - accuracy: 0.8089\n",
      "Epoch 74/100\n",
      "82/82 [==============================] - 1s 11ms/step - loss: 0.3981 - accuracy: 0.8203\n",
      "Epoch 75/100\n",
      "82/82 [==============================] - 1s 11ms/step - loss: 0.3968 - accuracy: 0.8119\n",
      "Epoch 76/100\n",
      "82/82 [==============================] - 1s 12ms/step - loss: 0.3971 - accuracy: 0.8161\n",
      "Epoch 77/100\n",
      "82/82 [==============================] - 1s 11ms/step - loss: 0.3945 - accuracy: 0.8173\n",
      "Epoch 78/100\n",
      "82/82 [==============================] - 1s 11ms/step - loss: 0.3952 - accuracy: 0.8188\n",
      "Epoch 79/100\n",
      "82/82 [==============================] - 1s 11ms/step - loss: 0.3952 - accuracy: 0.8161\n",
      "Epoch 80/100\n",
      "82/82 [==============================] - 1s 11ms/step - loss: 0.3915 - accuracy: 0.8226\n",
      "Epoch 81/100\n",
      "82/82 [==============================] - 1s 12ms/step - loss: 0.3921 - accuracy: 0.8138\n",
      "Epoch 82/100\n"
     ]
    },
    {
     "name": "stdout",
     "output_type": "stream",
     "text": [
      "82/82 [==============================] - 1s 13ms/step - loss: 0.3924 - accuracy: 0.8219\n",
      "Epoch 83/100\n",
      "82/82 [==============================] - 1s 10ms/step - loss: 0.3924 - accuracy: 0.8192\n",
      "Epoch 84/100\n",
      "82/82 [==============================] - 1s 11ms/step - loss: 0.3892 - accuracy: 0.8177\n",
      "Epoch 85/100\n",
      "82/82 [==============================] - 1s 11ms/step - loss: 0.3885 - accuracy: 0.8207\n",
      "Epoch 86/100\n",
      "82/82 [==============================] - 1s 11ms/step - loss: 0.3889 - accuracy: 0.8215\n",
      "Epoch 87/100\n",
      "82/82 [==============================] - 1s 11ms/step - loss: 0.3899 - accuracy: 0.8238\n",
      "Epoch 88/100\n",
      "82/82 [==============================] - 1s 11ms/step - loss: 0.3869 - accuracy: 0.8200\n",
      "Epoch 89/100\n",
      "82/82 [==============================] - 1s 10ms/step - loss: 0.3894 - accuracy: 0.8173\n",
      "Epoch 90/100\n",
      "82/82 [==============================] - 1s 10ms/step - loss: 0.3868 - accuracy: 0.8192\n",
      "Epoch 91/100\n",
      "82/82 [==============================] - 1s 10ms/step - loss: 0.3844 - accuracy: 0.8257\n",
      "Epoch 92/100\n",
      "82/82 [==============================] - 1s 11ms/step - loss: 0.3845 - accuracy: 0.8219\n",
      "Epoch 93/100\n",
      "82/82 [==============================] - 1s 11ms/step - loss: 0.3855 - accuracy: 0.8219\n",
      "Epoch 94/100\n",
      "82/82 [==============================] - 1s 11ms/step - loss: 0.3822 - accuracy: 0.8291\n",
      "Epoch 95/100\n",
      "82/82 [==============================] - 1s 12ms/step - loss: 0.3817 - accuracy: 0.8242\n",
      "Epoch 96/100\n",
      "82/82 [==============================] - 1s 11ms/step - loss: 0.3826 - accuracy: 0.8215\n",
      "Epoch 97/100\n",
      "82/82 [==============================] - 1s 11ms/step - loss: 0.3807 - accuracy: 0.8226\n",
      "Epoch 98/100\n",
      "82/82 [==============================] - 1s 11ms/step - loss: 0.3816 - accuracy: 0.8265\n",
      "Epoch 99/100\n",
      "82/82 [==============================] - 1s 11ms/step - loss: 0.3790 - accuracy: 0.8249\n",
      "Epoch 100/100\n",
      "82/82 [==============================] - 1s 11ms/step - loss: 0.3792 - accuracy: 0.8253\n",
      "36/36 [==============================] - 1s 8ms/step - loss: 0.5454 - accuracy: 0.7398\n",
      "[0.5453867316246033, 0.7397504448890686]\n",
      "Classification Report\n",
      "               precision    recall  f1-score   support\n",
      "\n",
      "           0       0.74      0.73      0.74       561\n",
      "           1       0.74      0.75      0.74       561\n",
      "\n",
      "    accuracy                           0.74      1122\n",
      "   macro avg       0.74      0.74      0.74      1122\n",
      "weighted avg       0.74      0.74      0.74      1122\n",
      "\n"
     ]
    }
   ],
   "source": [
    "y_preds_over=ANN(X_train,y_train,X_test,y_test, 'binary_crossentropy',-1)"
   ]
  },
  {
   "cell_type": "markdown",
   "id": "75178c25",
   "metadata": {},
   "source": [
    "## 3) Smote"
   ]
  },
  {
   "cell_type": "code",
   "execution_count": 93,
   "id": "04f17a23",
   "metadata": {},
   "outputs": [],
   "source": [
    "X=dfNew2.drop('Churn', axis='columns')\n",
    "y=dfNew2['Churn']"
   ]
  },
  {
   "cell_type": "code",
   "execution_count": 94,
   "id": "84fcb6a2",
   "metadata": {},
   "outputs": [],
   "source": [
    "# pip install imbalanced-Learn\n",
    "from imblearn.over_sampling import SMOTE"
   ]
  },
  {
   "cell_type": "code",
   "execution_count": 95,
   "id": "475af252",
   "metadata": {
    "scrolled": true
   },
   "outputs": [
    {
     "data": {
      "text/plain": [
       "0    5163\n",
       "1    5163\n",
       "Name: Churn, dtype: int64"
      ]
     },
     "execution_count": 95,
     "metadata": {},
     "output_type": "execute_result"
    }
   ],
   "source": [
    "smote=SMOTE(sampling_strategy='minority')\n",
    "X_sm, y_sm=smote.fit_resample(X,y)\n",
    "\n",
    "y_sm.value_counts()"
   ]
  },
  {
   "cell_type": "code",
   "execution_count": 96,
   "id": "8dc10040",
   "metadata": {},
   "outputs": [],
   "source": [
    "from sklearn.model_selection import train_test_split\n",
    "X_train, X_test, y_train, y_test= train_test_split(X_sm,y_sm,test_size=0.3, random_state=15, stratify=y_sm)"
   ]
  },
  {
   "cell_type": "code",
   "execution_count": 97,
   "id": "631d2a81",
   "metadata": {},
   "outputs": [
    {
     "data": {
      "text/plain": [
       "0    3614\n",
       "1    3614\n",
       "Name: Churn, dtype: int64"
      ]
     },
     "execution_count": 97,
     "metadata": {},
     "output_type": "execute_result"
    }
   ],
   "source": [
    "y_train.value_counts()"
   ]
  },
  {
   "cell_type": "code",
   "execution_count": 98,
   "id": "78314a35",
   "metadata": {},
   "outputs": [
    {
     "name": "stdout",
     "output_type": "stream",
     "text": [
      "Epoch 1/100\n",
      "226/226 [==============================] - 2s 6ms/step - loss: 0.5330 - accuracy: 0.7464\n",
      "Epoch 2/100\n",
      "226/226 [==============================] - 1s 6ms/step - loss: 0.4719 - accuracy: 0.7753\n",
      "Epoch 3/100\n",
      "226/226 [==============================] - 1s 6ms/step - loss: 0.4627 - accuracy: 0.7796\n",
      "Epoch 4/100\n",
      "226/226 [==============================] - 1s 6ms/step - loss: 0.4571 - accuracy: 0.7818\n",
      "Epoch 5/100\n",
      "226/226 [==============================] - 1s 6ms/step - loss: 0.4545 - accuracy: 0.7828\n",
      "Epoch 6/100\n",
      "226/226 [==============================] - 1s 6ms/step - loss: 0.4504 - accuracy: 0.7892\n",
      "Epoch 7/100\n",
      "226/226 [==============================] - 2s 7ms/step - loss: 0.4460 - accuracy: 0.7885\n",
      "Epoch 8/100\n",
      "226/226 [==============================] - 2s 10ms/step - loss: 0.4416 - accuracy: 0.7947\n",
      "Epoch 9/100\n",
      "226/226 [==============================] - 2s 10ms/step - loss: 0.4375 - accuracy: 0.7937\n",
      "Epoch 10/100\n",
      "226/226 [==============================] - 2s 10ms/step - loss: 0.4360 - accuracy: 0.7976\n",
      "Epoch 11/100\n",
      "226/226 [==============================] - 2s 11ms/step - loss: 0.4316 - accuracy: 0.7983\n",
      "Epoch 12/100\n",
      "226/226 [==============================] - 2s 10ms/step - loss: 0.4282 - accuracy: 0.8015\n",
      "Epoch 13/100\n",
      "226/226 [==============================] - 2s 10ms/step - loss: 0.4258 - accuracy: 0.8017\n",
      "Epoch 14/100\n",
      "226/226 [==============================] - 3s 11ms/step - loss: 0.4214 - accuracy: 0.8020\n",
      "Epoch 15/100\n",
      "226/226 [==============================] - 3s 11ms/step - loss: 0.4202 - accuracy: 0.8031\n",
      "Epoch 16/100\n",
      "226/226 [==============================] - 3s 11ms/step - loss: 0.4168 - accuracy: 0.8089\n",
      "Epoch 17/100\n",
      "226/226 [==============================] - 2s 11ms/step - loss: 0.4157 - accuracy: 0.8081\n",
      "Epoch 18/100\n",
      "226/226 [==============================] - 2s 11ms/step - loss: 0.4137 - accuracy: 0.8112\n",
      "Epoch 19/100\n",
      "226/226 [==============================] - 2s 10ms/step - loss: 0.4110 - accuracy: 0.8076\n",
      "Epoch 20/100\n",
      "226/226 [==============================] - 3s 11ms/step - loss: 0.4076 - accuracy: 0.8160\n",
      "Epoch 21/100\n",
      "226/226 [==============================] - 2s 10ms/step - loss: 0.4054 - accuracy: 0.8218\n",
      "Epoch 22/100\n",
      "226/226 [==============================] - 2s 10ms/step - loss: 0.4024 - accuracy: 0.8214\n",
      "Epoch 23/100\n",
      "226/226 [==============================] - 3s 11ms/step - loss: 0.4017 - accuracy: 0.8190\n",
      "Epoch 24/100\n",
      "226/226 [==============================] - 2s 11ms/step - loss: 0.3994 - accuracy: 0.8230\n",
      "Epoch 25/100\n",
      "226/226 [==============================] - 3s 11ms/step - loss: 0.3953 - accuracy: 0.8226\n",
      "Epoch 26/100\n",
      "226/226 [==============================] - 3s 12ms/step - loss: 0.3952 - accuracy: 0.8221\n",
      "Epoch 27/100\n",
      "226/226 [==============================] - 3s 11ms/step - loss: 0.3924 - accuracy: 0.8260\n",
      "Epoch 28/100\n",
      "226/226 [==============================] - 2s 11ms/step - loss: 0.3908 - accuracy: 0.8255\n",
      "Epoch 29/100\n",
      "226/226 [==============================] - 3s 11ms/step - loss: 0.3904 - accuracy: 0.8251\n",
      "Epoch 30/100\n",
      "226/226 [==============================] - 3s 12ms/step - loss: 0.3872 - accuracy: 0.8268\n",
      "Epoch 31/100\n",
      "226/226 [==============================] - 2s 11ms/step - loss: 0.3842 - accuracy: 0.8272\n",
      "Epoch 32/100\n",
      "226/226 [==============================] - 2s 11ms/step - loss: 0.3834 - accuracy: 0.8269\n",
      "Epoch 33/100\n",
      "226/226 [==============================] - 2s 10ms/step - loss: 0.3826 - accuracy: 0.8300\n",
      "Epoch 34/100\n",
      "226/226 [==============================] - 2s 10ms/step - loss: 0.3789 - accuracy: 0.8308\n",
      "Epoch 35/100\n",
      "226/226 [==============================] - 2s 10ms/step - loss: 0.3789 - accuracy: 0.8286\n",
      "Epoch 36/100\n",
      "226/226 [==============================] - 2s 10ms/step - loss: 0.3788 - accuracy: 0.8304\n",
      "Epoch 37/100\n",
      "226/226 [==============================] - 2s 10ms/step - loss: 0.3755 - accuracy: 0.8337 0s - loss: 0.3761 - \n",
      "Epoch 38/100\n",
      "226/226 [==============================] - 2s 11ms/step - loss: 0.3755 - accuracy: 0.8337\n",
      "Epoch 39/100\n",
      "226/226 [==============================] - 3s 11ms/step - loss: 0.3722 - accuracy: 0.8351\n",
      "Epoch 40/100\n",
      "226/226 [==============================] - 2s 11ms/step - loss: 0.3718 - accuracy: 0.8384\n",
      "Epoch 41/100\n",
      "226/226 [==============================] - 2s 11ms/step - loss: 0.3714 - accuracy: 0.8349\n",
      "Epoch 42/100\n",
      "226/226 [==============================] - 2s 11ms/step - loss: 0.3683 - accuracy: 0.8349\n",
      "Epoch 43/100\n",
      "226/226 [==============================] - 2s 10ms/step - loss: 0.3692 - accuracy: 0.8333\n",
      "Epoch 44/100\n",
      "226/226 [==============================] - 2s 11ms/step - loss: 0.3675 - accuracy: 0.8367\n",
      "Epoch 45/100\n",
      "226/226 [==============================] - 2s 10ms/step - loss: 0.3669 - accuracy: 0.8394\n",
      "Epoch 46/100\n",
      "226/226 [==============================] - 2s 10ms/step - loss: 0.3656 - accuracy: 0.8367\n",
      "Epoch 47/100\n",
      "226/226 [==============================] - 2s 10ms/step - loss: 0.3633 - accuracy: 0.8420\n",
      "Epoch 48/100\n",
      "226/226 [==============================] - 2s 10ms/step - loss: 0.3642 - accuracy: 0.8384\n",
      "Epoch 49/100\n",
      "226/226 [==============================] - 2s 10ms/step - loss: 0.3621 - accuracy: 0.8405\n",
      "Epoch 50/100\n",
      "226/226 [==============================] - 2s 10ms/step - loss: 0.3636 - accuracy: 0.8401\n",
      "Epoch 51/100\n",
      "226/226 [==============================] - 2s 10ms/step - loss: 0.3609 - accuracy: 0.8414\n",
      "Epoch 52/100\n",
      "226/226 [==============================] - 2s 11ms/step - loss: 0.3582 - accuracy: 0.8413\n",
      "Epoch 53/100\n",
      "226/226 [==============================] - 2s 11ms/step - loss: 0.3575 - accuracy: 0.8427\n",
      "Epoch 54/100\n",
      "226/226 [==============================] - 2s 10ms/step - loss: 0.3553 - accuracy: 0.8445\n",
      "Epoch 55/100\n",
      "226/226 [==============================] - 2s 11ms/step - loss: 0.3551 - accuracy: 0.8444\n",
      "Epoch 56/100\n",
      "226/226 [==============================] - 2s 11ms/step - loss: 0.3551 - accuracy: 0.8413\n",
      "Epoch 57/100\n",
      "226/226 [==============================] - ETA: 0s - loss: 0.3541 - accuracy: 0.84 - 2s 8ms/step - loss: 0.3545 - accuracy: 0.8462\n",
      "Epoch 58/100\n",
      "226/226 [==============================] - 1s 6ms/step - loss: 0.3526 - accuracy: 0.8455\n",
      "Epoch 59/100\n",
      "226/226 [==============================] - 1s 6ms/step - loss: 0.3528 - accuracy: 0.8464: 0s - loss: 0.359\n",
      "Epoch 60/100\n",
      "226/226 [==============================] - 1s 6ms/step - loss: 0.3511 - accuracy: 0.8427\n",
      "Epoch 61/100\n",
      "226/226 [==============================] - 1s 6ms/step - loss: 0.3514 - accuracy: 0.8453\n",
      "Epoch 62/100\n",
      "226/226 [==============================] - 1s 6ms/step - loss: 0.3498 - accuracy: 0.8455\n",
      "Epoch 63/100\n",
      "226/226 [==============================] - 1s 7ms/step - loss: 0.3480 - accuracy: 0.8460\n",
      "Epoch 64/100\n",
      "226/226 [==============================] - 3s 11ms/step - loss: 0.3491 - accuracy: 0.8442\n",
      "Epoch 65/100\n",
      "226/226 [==============================] - 3s 11ms/step - loss: 0.3488 - accuracy: 0.8459\n",
      "Epoch 66/100\n",
      "226/226 [==============================] - 3s 11ms/step - loss: 0.3474 - accuracy: 0.8449\n",
      "Epoch 67/100\n",
      "226/226 [==============================] - 2s 11ms/step - loss: 0.3473 - accuracy: 0.8486\n",
      "Epoch 68/100\n",
      "226/226 [==============================] - 2s 11ms/step - loss: 0.3465 - accuracy: 0.8477\n",
      "Epoch 69/100\n",
      "226/226 [==============================] - 2s 11ms/step - loss: 0.3452 - accuracy: 0.8470\n",
      "Epoch 70/100\n",
      "226/226 [==============================] - 3s 12ms/step - loss: 0.3453 - accuracy: 0.8475\n",
      "Epoch 71/100\n",
      "226/226 [==============================] - 3s 11ms/step - loss: 0.3473 - accuracy: 0.8446\n",
      "Epoch 72/100\n",
      "226/226 [==============================] - 3s 11ms/step - loss: 0.3424 - accuracy: 0.8492\n",
      "Epoch 73/100\n",
      "226/226 [==============================] - 3s 12ms/step - loss: 0.3418 - accuracy: 0.8500\n",
      "Epoch 74/100\n",
      "226/226 [==============================] - 3s 12ms/step - loss: 0.3443 - accuracy: 0.8485\n",
      "Epoch 75/100\n",
      "226/226 [==============================] - 2s 11ms/step - loss: 0.3418 - accuracy: 0.8506\n",
      "Epoch 76/100\n",
      "226/226 [==============================] - 3s 12ms/step - loss: 0.3397 - accuracy: 0.8498\n",
      "Epoch 77/100\n",
      "226/226 [==============================] - 3s 12ms/step - loss: 0.3402 - accuracy: 0.8506\n",
      "Epoch 78/100\n",
      "226/226 [==============================] - 3s 11ms/step - loss: 0.3407 - accuracy: 0.8492\n",
      "Epoch 79/100\n",
      "226/226 [==============================] - 2s 11ms/step - loss: 0.3382 - accuracy: 0.8521\n"
     ]
    },
    {
     "name": "stdout",
     "output_type": "stream",
     "text": [
      "Epoch 80/100\n",
      "226/226 [==============================] - 2s 11ms/step - loss: 0.3381 - accuracy: 0.8531\n",
      "Epoch 81/100\n",
      "226/226 [==============================] - 2s 11ms/step - loss: 0.3382 - accuracy: 0.8506\n",
      "Epoch 82/100\n",
      "226/226 [==============================] - 2s 11ms/step - loss: 0.3383 - accuracy: 0.8527\n",
      "Epoch 83/100\n",
      "226/226 [==============================] - 3s 11ms/step - loss: 0.3398 - accuracy: 0.8522\n",
      "Epoch 84/100\n",
      "226/226 [==============================] - 2s 11ms/step - loss: 0.3383 - accuracy: 0.8502\n",
      "Epoch 85/100\n",
      "226/226 [==============================] - 3s 11ms/step - loss: 0.3376 - accuracy: 0.8480\n",
      "Epoch 86/100\n",
      "226/226 [==============================] - 2s 11ms/step - loss: 0.3354 - accuracy: 0.8511\n",
      "Epoch 87/100\n",
      "226/226 [==============================] - 2s 11ms/step - loss: 0.3356 - accuracy: 0.8499\n",
      "Epoch 88/100\n",
      "226/226 [==============================] - 3s 11ms/step - loss: 0.3349 - accuracy: 0.8578\n",
      "Epoch 89/100\n",
      "226/226 [==============================] - 3s 12ms/step - loss: 0.3347 - accuracy: 0.8535\n",
      "Epoch 90/100\n",
      "226/226 [==============================] - 3s 15ms/step - loss: 0.3375 - accuracy: 0.8518\n",
      "Epoch 91/100\n",
      "226/226 [==============================] - 3s 12ms/step - loss: 0.3343 - accuracy: 0.8554\n",
      "Epoch 92/100\n",
      "226/226 [==============================] - 3s 13ms/step - loss: 0.3315 - accuracy: 0.8567\n",
      "Epoch 93/100\n",
      "226/226 [==============================] - 3s 12ms/step - loss: 0.3331 - accuracy: 0.8558\n",
      "Epoch 94/100\n",
      "226/226 [==============================] - 2s 11ms/step - loss: 0.3302 - accuracy: 0.8546\n",
      "Epoch 95/100\n",
      "226/226 [==============================] - 3s 11ms/step - loss: 0.3319 - accuracy: 0.8525\n",
      "Epoch 96/100\n",
      "226/226 [==============================] - 3s 11ms/step - loss: 0.3334 - accuracy: 0.8557\n",
      "Epoch 97/100\n",
      "226/226 [==============================] - 3s 11ms/step - loss: 0.3305 - accuracy: 0.8551\n",
      "Epoch 98/100\n",
      "226/226 [==============================] - 3s 11ms/step - loss: 0.3306 - accuracy: 0.8581\n",
      "Epoch 99/100\n",
      "226/226 [==============================] - 3s 12ms/step - loss: 0.3277 - accuracy: 0.8568\n",
      "Epoch 100/100\n",
      "226/226 [==============================] - 4s 16ms/step - loss: 0.3281 - accuracy: 0.8572\n",
      "97/97 [==============================] - 1s 10ms/step - loss: 0.4477 - accuracy: 0.8112\n",
      "[0.4476552903652191, 0.8111684918403625]\n",
      "Classification Report\n",
      "               precision    recall  f1-score   support\n",
      "\n",
      "           0       0.86      0.74      0.80      1549\n",
      "           1       0.77      0.88      0.82      1549\n",
      "\n",
      "    accuracy                           0.81      3098\n",
      "   macro avg       0.82      0.81      0.81      3098\n",
      "weighted avg       0.82      0.81      0.81      3098\n",
      "\n"
     ]
    }
   ],
   "source": [
    "y_preds_smote=ANN(X_train,y_train,X_test,y_test, 'binary_crossentropy',-1)"
   ]
  },
  {
   "cell_type": "markdown",
   "id": "3dc88a70",
   "metadata": {},
   "source": [
    "## 4)Use of Ensemble with undersampling"
   ]
  },
  {
   "cell_type": "code",
   "execution_count": 99,
   "id": "f66c4c96",
   "metadata": {},
   "outputs": [
    {
     "data": {
      "text/plain": [
       "0    5163\n",
       "1    1869\n",
       "Name: Churn, dtype: int64"
      ]
     },
     "execution_count": 99,
     "metadata": {},
     "output_type": "execute_result"
    }
   ],
   "source": [
    "dfNew2.Churn.value_counts()"
   ]
  },
  {
   "cell_type": "code",
   "execution_count": 100,
   "id": "5ac2ca69",
   "metadata": {},
   "outputs": [],
   "source": [
    "X=dfNew2.drop('Churn', axis='columns')\n",
    "y=dfNew2['Churn']"
   ]
  },
  {
   "cell_type": "code",
   "execution_count": 101,
   "id": "4789314f",
   "metadata": {},
   "outputs": [
    {
     "data": {
      "text/plain": [
       "(7032, 26)"
      ]
     },
     "execution_count": 101,
     "metadata": {},
     "output_type": "execute_result"
    }
   ],
   "source": [
    "X.shape"
   ]
  },
  {
   "cell_type": "code",
   "execution_count": 102,
   "id": "2bd1b137",
   "metadata": {},
   "outputs": [
    {
     "data": {
      "text/plain": [
       "0    5163\n",
       "1    1869\n",
       "Name: Churn, dtype: int64"
      ]
     },
     "execution_count": 102,
     "metadata": {},
     "output_type": "execute_result"
    }
   ],
   "source": [
    "y.value_counts()"
   ]
  },
  {
   "cell_type": "code",
   "execution_count": 103,
   "id": "fa66af63",
   "metadata": {},
   "outputs": [],
   "source": [
    "X_train, X_test, y_train, y_test= train_test_split(X,y,test_size=0.3, random_state=15, stratify=y)"
   ]
  },
  {
   "cell_type": "code",
   "execution_count": 104,
   "id": "a421d6f5",
   "metadata": {},
   "outputs": [
    {
     "data": {
      "text/plain": [
       "0    3614\n",
       "1    1308\n",
       "Name: Churn, dtype: int64"
      ]
     },
     "execution_count": 104,
     "metadata": {},
     "output_type": "execute_result"
    }
   ],
   "source": [
    "y_train.value_counts()"
   ]
  },
  {
   "cell_type": "code",
   "execution_count": 105,
   "id": "552f3642",
   "metadata": {},
   "outputs": [],
   "source": [
    "df3=X_train.copy()\n",
    "df3['Churn']=y_train"
   ]
  },
  {
   "cell_type": "code",
   "execution_count": 106,
   "id": "cc181867",
   "metadata": {},
   "outputs": [],
   "source": [
    "df3_class0=df3[df3.Churn ==0]\n",
    "df3_class1=df3[df3.Churn ==1]"
   ]
  },
  {
   "cell_type": "code",
   "execution_count": 107,
   "id": "1caa091c",
   "metadata": {},
   "outputs": [
    {
     "data": {
      "text/plain": [
       "((3614, 27), (1308, 27))"
      ]
     },
     "execution_count": 107,
     "metadata": {},
     "output_type": "execute_result"
    }
   ],
   "source": [
    "df3_class0.shape, df3_class1.shape"
   ]
  },
  {
   "cell_type": "code",
   "execution_count": 108,
   "id": "792051e6",
   "metadata": {},
   "outputs": [],
   "source": [
    "def get_train_batch(df_majority, df_minority, start,end):\n",
    "    df_train=pd.concat([df_majority[start:end], df_minority], axis=0)\n",
    "    \n",
    "    X_train=df_train.drop('Churn', axis='columns')\n",
    "    y_train=df_train.Churn\n",
    "    \n",
    "    return X_train,y_train"
   ]
  },
  {
   "cell_type": "code",
   "execution_count": 109,
   "id": "682b9b3f",
   "metadata": {},
   "outputs": [],
   "source": [
    "X_train,y_train=get_train_batch(df3_class0,df3_class1,0,1308) #'1308' since it the minority count and were are divinding the majority count with this number."
   ]
  },
  {
   "cell_type": "code",
   "execution_count": 110,
   "id": "d0d7aaf1",
   "metadata": {},
   "outputs": [
    {
     "data": {
      "text/plain": [
       "((2616, 26), (2616,))"
      ]
     },
     "execution_count": 110,
     "metadata": {},
     "output_type": "execute_result"
    }
   ],
   "source": [
    "X_train.shape,y_train.shape"
   ]
  },
  {
   "cell_type": "code",
   "execution_count": 111,
   "id": "4eb9daba",
   "metadata": {},
   "outputs": [
    {
     "name": "stdout",
     "output_type": "stream",
     "text": [
      "Epoch 1/100\n",
      "82/82 [==============================] - 2s 14ms/step - loss: 0.6183 - accuracy: 0.6789\n",
      "Epoch 2/100\n",
      "82/82 [==============================] - 1s 14ms/step - loss: 0.5296 - accuracy: 0.7519\n",
      "Epoch 3/100\n",
      "82/82 [==============================] - 1s 15ms/step - loss: 0.5084 - accuracy: 0.7603\n",
      "Epoch 4/100\n",
      "82/82 [==============================] - 1s 13ms/step - loss: 0.4996 - accuracy: 0.7588\n",
      "Epoch 5/100\n",
      "82/82 [==============================] - 1s 13ms/step - loss: 0.4935 - accuracy: 0.7565\n",
      "Epoch 6/100\n",
      "82/82 [==============================] - 1s 12ms/step - loss: 0.4894 - accuracy: 0.7569\n",
      "Epoch 7/100\n",
      "82/82 [==============================] - 1s 13ms/step - loss: 0.4859 - accuracy: 0.7672\n",
      "Epoch 8/100\n",
      "82/82 [==============================] - 1s 12ms/step - loss: 0.4828 - accuracy: 0.7638\n",
      "Epoch 9/100\n",
      "82/82 [==============================] - 1s 14ms/step - loss: 0.4794 - accuracy: 0.7634\n",
      "Epoch 10/100\n",
      "82/82 [==============================] - 1s 11ms/step - loss: 0.4774 - accuracy: 0.7672\n",
      "Epoch 11/100\n",
      "82/82 [==============================] - 1s 12ms/step - loss: 0.4769 - accuracy: 0.7687\n",
      "Epoch 12/100\n",
      "82/82 [==============================] - 1s 13ms/step - loss: 0.4732 - accuracy: 0.7680\n",
      "Epoch 13/100\n",
      "82/82 [==============================] - 1s 12ms/step - loss: 0.4724 - accuracy: 0.7676\n",
      "Epoch 14/100\n",
      "82/82 [==============================] - 1s 12ms/step - loss: 0.4688 - accuracy: 0.7706\n",
      "Epoch 15/100\n",
      "82/82 [==============================] - 1s 14ms/step - loss: 0.4680 - accuracy: 0.7714\n",
      "Epoch 16/100\n",
      "82/82 [==============================] - 1s 12ms/step - loss: 0.4666 - accuracy: 0.7737\n",
      "Epoch 17/100\n",
      "82/82 [==============================] - 1s 12ms/step - loss: 0.4666 - accuracy: 0.7691\n",
      "Epoch 18/100\n",
      "82/82 [==============================] - 1s 13ms/step - loss: 0.4627 - accuracy: 0.7752\n",
      "Epoch 19/100\n",
      "82/82 [==============================] - 1s 12ms/step - loss: 0.4611 - accuracy: 0.7745\n",
      "Epoch 20/100\n",
      "82/82 [==============================] - 1s 12ms/step - loss: 0.4623 - accuracy: 0.7760\n",
      "Epoch 21/100\n",
      "82/82 [==============================] - 1s 13ms/step - loss: 0.4589 - accuracy: 0.7791\n",
      "Epoch 22/100\n",
      "82/82 [==============================] - 1s 12ms/step - loss: 0.4579 - accuracy: 0.7710\n",
      "Epoch 23/100\n",
      "82/82 [==============================] - 1s 12ms/step - loss: 0.4572 - accuracy: 0.7760\n",
      "Epoch 24/100\n",
      "82/82 [==============================] - 1s 13ms/step - loss: 0.4547 - accuracy: 0.7813\n",
      "Epoch 25/100\n",
      "82/82 [==============================] - 1s 12ms/step - loss: 0.4553 - accuracy: 0.7810\n",
      "Epoch 26/100\n",
      "82/82 [==============================] - 1s 12ms/step - loss: 0.4526 - accuracy: 0.7771\n",
      "Epoch 27/100\n",
      "82/82 [==============================] - 1s 13ms/step - loss: 0.4527 - accuracy: 0.7867\n",
      "Epoch 28/100\n",
      "82/82 [==============================] - 1s 14ms/step - loss: 0.4507 - accuracy: 0.7859\n",
      "Epoch 29/100\n",
      "82/82 [==============================] - 1s 13ms/step - loss: 0.4490 - accuracy: 0.7852\n",
      "Epoch 30/100\n",
      "82/82 [==============================] - 1s 17ms/step - loss: 0.4484 - accuracy: 0.7856\n",
      "Epoch 31/100\n",
      "82/82 [==============================] - 1s 13ms/step - loss: 0.4461 - accuracy: 0.7833\n",
      "Epoch 32/100\n",
      "82/82 [==============================] - 1s 13ms/step - loss: 0.4465 - accuracy: 0.7871\n",
      "Epoch 33/100\n",
      "82/82 [==============================] - 1s 17ms/step - loss: 0.4458 - accuracy: 0.7856\n",
      "Epoch 34/100\n",
      "82/82 [==============================] - 1s 15ms/step - loss: 0.4439 - accuracy: 0.7863\n",
      "Epoch 35/100\n",
      "82/82 [==============================] - 1s 15ms/step - loss: 0.4430 - accuracy: 0.7886\n",
      "Epoch 36/100\n",
      "82/82 [==============================] - 1s 15ms/step - loss: 0.4424 - accuracy: 0.7913\n",
      "Epoch 37/100\n",
      "82/82 [==============================] - 1s 15ms/step - loss: 0.4409 - accuracy: 0.7848\n",
      "Epoch 38/100\n",
      "82/82 [==============================] - 1s 12ms/step - loss: 0.4398 - accuracy: 0.7909\n",
      "Epoch 39/100\n",
      "82/82 [==============================] - 1s 15ms/step - loss: 0.4382 - accuracy: 0.7875\n",
      "Epoch 40/100\n",
      "82/82 [==============================] - 1s 13ms/step - loss: 0.4378 - accuracy: 0.7878\n",
      "Epoch 41/100\n",
      "82/82 [==============================] - 1s 12ms/step - loss: 0.4372 - accuracy: 0.7871\n",
      "Epoch 42/100\n",
      "82/82 [==============================] - 1s 14ms/step - loss: 0.4361 - accuracy: 0.7901\n",
      "Epoch 43/100\n",
      "82/82 [==============================] - 1s 14ms/step - loss: 0.4338 - accuracy: 0.7882\n",
      "Epoch 44/100\n",
      "82/82 [==============================] - 1s 13ms/step - loss: 0.4315 - accuracy: 0.7936\n",
      "Epoch 45/100\n",
      "82/82 [==============================] - 1s 12ms/step - loss: 0.4344 - accuracy: 0.7875\n",
      "Epoch 46/100\n",
      "82/82 [==============================] - 1s 13ms/step - loss: 0.4313 - accuracy: 0.7917\n",
      "Epoch 47/100\n",
      "82/82 [==============================] - 1s 12ms/step - loss: 0.4311 - accuracy: 0.7947\n",
      "Epoch 48/100\n",
      "82/82 [==============================] - 1s 12ms/step - loss: 0.4283 - accuracy: 0.7905\n",
      "Epoch 49/100\n",
      "82/82 [==============================] - 1s 16ms/step - loss: 0.4281 - accuracy: 0.7917\n",
      "Epoch 50/100\n",
      "82/82 [==============================] - 1s 13ms/step - loss: 0.4281 - accuracy: 0.7963\n",
      "Epoch 51/100\n",
      "82/82 [==============================] - 1s 12ms/step - loss: 0.4252 - accuracy: 0.7947\n",
      "Epoch 52/100\n",
      "82/82 [==============================] - 1s 13ms/step - loss: 0.4251 - accuracy: 0.7936\n",
      "Epoch 53/100\n",
      "82/82 [==============================] - 1s 12ms/step - loss: 0.4234 - accuracy: 0.7966\n",
      "Epoch 54/100\n",
      "82/82 [==============================] - 1s 12ms/step - loss: 0.4223 - accuracy: 0.7978\n",
      "Epoch 55/100\n",
      "82/82 [==============================] - 1s 11ms/step - loss: 0.4221 - accuracy: 0.7982\n",
      "Epoch 56/100\n",
      "82/82 [==============================] - 1s 11ms/step - loss: 0.4206 - accuracy: 0.8001\n",
      "Epoch 57/100\n",
      "82/82 [==============================] - 1s 11ms/step - loss: 0.4196 - accuracy: 0.8016\n",
      "Epoch 58/100\n",
      "82/82 [==============================] - 1s 12ms/step - loss: 0.4194 - accuracy: 0.7974\n",
      "Epoch 59/100\n",
      "82/82 [==============================] - 1s 12ms/step - loss: 0.4212 - accuracy: 0.8031\n",
      "Epoch 60/100\n",
      "82/82 [==============================] - 1s 11ms/step - loss: 0.4168 - accuracy: 0.8016\n",
      "Epoch 61/100\n",
      "82/82 [==============================] - 1s 12ms/step - loss: 0.4151 - accuracy: 0.8039\n",
      "Epoch 62/100\n",
      "82/82 [==============================] - 1s 13ms/step - loss: 0.4171 - accuracy: 0.7970\n",
      "Epoch 63/100\n",
      "82/82 [==============================] - 1s 12ms/step - loss: 0.4138 - accuracy: 0.8039\n",
      "Epoch 64/100\n",
      "82/82 [==============================] - 1s 13ms/step - loss: 0.4141 - accuracy: 0.8001\n",
      "Epoch 65/100\n",
      "82/82 [==============================] - 1s 12ms/step - loss: 0.4126 - accuracy: 0.8058\n",
      "Epoch 66/100\n",
      "82/82 [==============================] - 1s 12ms/step - loss: 0.4134 - accuracy: 0.7997\n",
      "Epoch 67/100\n",
      "82/82 [==============================] - 1s 11ms/step - loss: 0.4101 - accuracy: 0.8058\n",
      "Epoch 68/100\n",
      "82/82 [==============================] - 1s 11ms/step - loss: 0.4093 - accuracy: 0.8054\n",
      "Epoch 69/100\n",
      "82/82 [==============================] - 1s 11ms/step - loss: 0.4080 - accuracy: 0.8073\n",
      "Epoch 70/100\n",
      "82/82 [==============================] - 1s 12ms/step - loss: 0.4085 - accuracy: 0.8066\n",
      "Epoch 71/100\n",
      "82/82 [==============================] - 1s 14ms/step - loss: 0.4073 - accuracy: 0.8058 \n",
      "Epoch 72/100\n",
      "82/82 [==============================] - 1s 13ms/step - loss: 0.4051 - accuracy: 0.8070\n",
      "Epoch 73/100\n",
      "82/82 [==============================] - 1s 13ms/step - loss: 0.4057 - accuracy: 0.8054\n",
      "Epoch 74/100\n",
      "82/82 [==============================] - 1s 14ms/step - loss: 0.4043 - accuracy: 0.8089\n",
      "Epoch 75/100\n",
      "82/82 [==============================] - 1s 13ms/step - loss: 0.4032 - accuracy: 0.8081\n",
      "Epoch 76/100\n",
      "82/82 [==============================] - 1s 11ms/step - loss: 0.4021 - accuracy: 0.8119\n",
      "Epoch 77/100\n",
      "82/82 [==============================] - 1s 11ms/step - loss: 0.4017 - accuracy: 0.8104\n",
      "Epoch 78/100\n",
      "82/82 [==============================] - 1s 12ms/step - loss: 0.4044 - accuracy: 0.8089\n",
      "Epoch 79/100\n",
      "82/82 [==============================] - 1s 12ms/step - loss: 0.3999 - accuracy: 0.8119\n",
      "Epoch 80/100\n",
      "82/82 [==============================] - 1s 11ms/step - loss: 0.3987 - accuracy: 0.8131\n",
      "Epoch 81/100\n",
      "82/82 [==============================] - 1s 11ms/step - loss: 0.3969 - accuracy: 0.8131\n",
      "Epoch 82/100\n"
     ]
    },
    {
     "name": "stdout",
     "output_type": "stream",
     "text": [
      "82/82 [==============================] - 1s 11ms/step - loss: 0.3977 - accuracy: 0.8093\n",
      "Epoch 83/100\n",
      "82/82 [==============================] - 1s 13ms/step - loss: 0.3982 - accuracy: 0.8115\n",
      "Epoch 84/100\n",
      "82/82 [==============================] - 1s 13ms/step - loss: 0.3978 - accuracy: 0.8112\n",
      "Epoch 85/100\n",
      "82/82 [==============================] - 1s 13ms/step - loss: 0.3953 - accuracy: 0.8169\n",
      "Epoch 86/100\n",
      "82/82 [==============================] - 1s 12ms/step - loss: 0.3950 - accuracy: 0.8169\n",
      "Epoch 87/100\n",
      "82/82 [==============================] - 1s 13ms/step - loss: 0.3935 - accuracy: 0.8219\n",
      "Epoch 88/100\n",
      "82/82 [==============================] - 1s 12ms/step - loss: 0.3933 - accuracy: 0.8165\n",
      "Epoch 89/100\n",
      "82/82 [==============================] - 1s 12ms/step - loss: 0.3928 - accuracy: 0.8180\n",
      "Epoch 90/100\n",
      "82/82 [==============================] - 1s 12ms/step - loss: 0.3890 - accuracy: 0.8154\n",
      "Epoch 91/100\n",
      "82/82 [==============================] - 1s 11ms/step - loss: 0.3908 - accuracy: 0.8161\n",
      "Epoch 92/100\n",
      "82/82 [==============================] - 1s 11ms/step - loss: 0.3913 - accuracy: 0.8173\n",
      "Epoch 93/100\n",
      "82/82 [==============================] - 1s 11ms/step - loss: 0.3883 - accuracy: 0.8196\n",
      "Epoch 94/100\n",
      "82/82 [==============================] - 1s 12ms/step - loss: 0.3917 - accuracy: 0.8150\n",
      "Epoch 95/100\n",
      "82/82 [==============================] - 1s 12ms/step - loss: 0.3895 - accuracy: 0.8184\n",
      "Epoch 96/100\n",
      "82/82 [==============================] - ETA: 0s - loss: 0.3868 - accuracy: 0.81 - 1s 11ms/step - loss: 0.3870 - accuracy: 0.8169\n",
      "Epoch 97/100\n",
      "82/82 [==============================] - 1s 11ms/step - loss: 0.3882 - accuracy: 0.8135\n",
      "Epoch 98/100\n",
      "82/82 [==============================] - 1s 13ms/step - loss: 0.3859 - accuracy: 0.8219\n",
      "Epoch 99/100\n",
      "82/82 [==============================] - 1s 12ms/step - loss: 0.3845 - accuracy: 0.8219\n",
      "Epoch 100/100\n",
      "82/82 [==============================] - 1s 12ms/step - loss: 0.3843 - accuracy: 0.8230\n",
      "66/66 [==============================] - 1s 8ms/step - loss: 0.5628 - accuracy: 0.7190\n",
      "[0.5628296136856079, 0.7189573645591736]\n",
      "Classification Report\n",
      "               precision    recall  f1-score   support\n",
      "\n",
      "           0       0.88      0.71      0.79      1549\n",
      "           1       0.48      0.74      0.58       561\n",
      "\n",
      "    accuracy                           0.72      2110\n",
      "   macro avg       0.68      0.73      0.69      2110\n",
      "weighted avg       0.78      0.72      0.73      2110\n",
      "\n"
     ]
    }
   ],
   "source": [
    "y_pred1=ANN(X_train,y_train,X_test,y_test,'binary_crossentropy',-1)"
   ]
  },
  {
   "cell_type": "code",
   "execution_count": 112,
   "id": "3a953d7f",
   "metadata": {},
   "outputs": [
    {
     "name": "stdout",
     "output_type": "stream",
     "text": [
      "Epoch 1/100\n",
      "82/82 [==============================] - 2s 13ms/step - loss: 0.5910 - accuracy: 0.7018\n",
      "Epoch 2/100\n",
      "82/82 [==============================] - 1s 13ms/step - loss: 0.5052 - accuracy: 0.7699\n",
      "Epoch 3/100\n",
      "82/82 [==============================] - 1s 13ms/step - loss: 0.4931 - accuracy: 0.7691\n",
      "Epoch 4/100\n",
      "82/82 [==============================] - 1s 13ms/step - loss: 0.4879 - accuracy: 0.7680\n",
      "Epoch 5/100\n",
      "82/82 [==============================] - 1s 12ms/step - loss: 0.4815 - accuracy: 0.7729\n",
      "Epoch 6/100\n",
      "82/82 [==============================] - 1s 12ms/step - loss: 0.4780 - accuracy: 0.7756\n",
      "Epoch 7/100\n",
      "82/82 [==============================] - 1s 12ms/step - loss: 0.4765 - accuracy: 0.7745\n",
      "Epoch 8/100\n",
      "82/82 [==============================] - 1s 12ms/step - loss: 0.4721 - accuracy: 0.7729\n",
      "Epoch 9/100\n",
      "82/82 [==============================] - 1s 13ms/step - loss: 0.4691 - accuracy: 0.7756\n",
      "Epoch 10/100\n",
      "82/82 [==============================] - 1s 12ms/step - loss: 0.4689 - accuracy: 0.7756\n",
      "Epoch 11/100\n",
      "82/82 [==============================] - 1s 12ms/step - loss: 0.4650 - accuracy: 0.7752\n",
      "Epoch 12/100\n",
      "82/82 [==============================] - 1s 12ms/step - loss: 0.4632 - accuracy: 0.7836\n",
      "Epoch 13/100\n",
      "82/82 [==============================] - 1s 12ms/step - loss: 0.4617 - accuracy: 0.7791\n",
      "Epoch 14/100\n",
      "82/82 [==============================] - 1s 12ms/step - loss: 0.4583 - accuracy: 0.7791\n",
      "Epoch 15/100\n",
      "82/82 [==============================] - 1s 11ms/step - loss: 0.4573 - accuracy: 0.7806\n",
      "Epoch 16/100\n",
      "82/82 [==============================] - 1s 11ms/step - loss: 0.4547 - accuracy: 0.7810\n",
      "Epoch 17/100\n",
      "82/82 [==============================] - 1s 13ms/step - loss: 0.4541 - accuracy: 0.7836\n",
      "Epoch 18/100\n",
      "82/82 [==============================] - 1s 14ms/step - loss: 0.4519 - accuracy: 0.7890\n",
      "Epoch 19/100\n",
      "82/82 [==============================] - 1s 15ms/step - loss: 0.4501 - accuracy: 0.7852\n",
      "Epoch 20/100\n",
      "82/82 [==============================] - 1s 15ms/step - loss: 0.4483 - accuracy: 0.7836\n",
      "Epoch 21/100\n",
      "82/82 [==============================] - 1s 13ms/step - loss: 0.4473 - accuracy: 0.7894\n",
      "Epoch 22/100\n",
      "82/82 [==============================] - 1s 12ms/step - loss: 0.4444 - accuracy: 0.7898\n",
      "Epoch 23/100\n",
      "82/82 [==============================] - 1s 11ms/step - loss: 0.4439 - accuracy: 0.7886\n",
      "Epoch 24/100\n",
      "82/82 [==============================] - 1s 14ms/step - loss: 0.4437 - accuracy: 0.7901\n",
      "Epoch 25/100\n",
      "82/82 [==============================] - 1s 16ms/step - loss: 0.4396 - accuracy: 0.7909\n",
      "Epoch 26/100\n",
      "82/82 [==============================] - 1s 15ms/step - loss: 0.4405 - accuracy: 0.7894\n",
      "Epoch 27/100\n",
      "82/82 [==============================] - 1s 14ms/step - loss: 0.4388 - accuracy: 0.7963\n",
      "Epoch 28/100\n",
      "82/82 [==============================] - 1s 14ms/step - loss: 0.4377 - accuracy: 0.7898\n",
      "Epoch 29/100\n",
      "82/82 [==============================] - 1s 16ms/step - loss: 0.4340 - accuracy: 0.7970\n",
      "Epoch 30/100\n",
      "82/82 [==============================] - 1s 12ms/step - loss: 0.4328 - accuracy: 0.7982\n",
      "Epoch 31/100\n",
      "82/82 [==============================] - 1s 14ms/step - loss: 0.4319 - accuracy: 0.7936\n",
      "Epoch 32/100\n",
      "82/82 [==============================] - 1s 14ms/step - loss: 0.4306 - accuracy: 0.7997\n",
      "Epoch 33/100\n",
      "82/82 [==============================] - 1s 12ms/step - loss: 0.4289 - accuracy: 0.7997\n",
      "Epoch 34/100\n",
      "82/82 [==============================] - 1s 13ms/step - loss: 0.4288 - accuracy: 0.8028\n",
      "Epoch 35/100\n",
      "82/82 [==============================] - 1s 13ms/step - loss: 0.4260 - accuracy: 0.8001\n",
      "Epoch 36/100\n",
      "82/82 [==============================] - 1s 12ms/step - loss: 0.4249 - accuracy: 0.7959\n",
      "Epoch 37/100\n",
      "82/82 [==============================] - 1s 13ms/step - loss: 0.4257 - accuracy: 0.8054\n",
      "Epoch 38/100\n",
      "82/82 [==============================] - 1s 13ms/step - loss: 0.4231 - accuracy: 0.7989\n",
      "Epoch 39/100\n",
      "82/82 [==============================] - 1s 13ms/step - loss: 0.4220 - accuracy: 0.8077\n",
      "Epoch 40/100\n",
      "82/82 [==============================] - 1s 13ms/step - loss: 0.4203 - accuracy: 0.8035\n",
      "Epoch 41/100\n",
      "82/82 [==============================] - 1s 11ms/step - loss: 0.4193 - accuracy: 0.8077\n",
      "Epoch 42/100\n",
      "82/82 [==============================] - 1s 12ms/step - loss: 0.4174 - accuracy: 0.8077\n",
      "Epoch 43/100\n",
      "82/82 [==============================] - 1s 12ms/step - loss: 0.4164 - accuracy: 0.8115\n",
      "Epoch 44/100\n",
      "82/82 [==============================] - 1s 12ms/step - loss: 0.4173 - accuracy: 0.8070\n",
      "Epoch 45/100\n",
      "82/82 [==============================] - 1s 12ms/step - loss: 0.4147 - accuracy: 0.8127\n",
      "Epoch 46/100\n",
      "82/82 [==============================] - 1s 12ms/step - loss: 0.4121 - accuracy: 0.8154\n",
      "Epoch 47/100\n",
      "82/82 [==============================] - 1s 12ms/step - loss: 0.4124 - accuracy: 0.8093\n",
      "Epoch 48/100\n",
      "82/82 [==============================] - 1s 12ms/step - loss: 0.4123 - accuracy: 0.8161\n",
      "Epoch 49/100\n",
      "82/82 [==============================] - 1s 12ms/step - loss: 0.4111 - accuracy: 0.8131\n",
      "Epoch 50/100\n",
      "82/82 [==============================] - 1s 12ms/step - loss: 0.4088 - accuracy: 0.8180\n",
      "Epoch 51/100\n",
      "82/82 [==============================] - 1s 12ms/step - loss: 0.4072 - accuracy: 0.8169\n",
      "Epoch 52/100\n",
      "82/82 [==============================] - 1s 11ms/step - loss: 0.4074 - accuracy: 0.8219\n",
      "Epoch 53/100\n",
      "82/82 [==============================] - 1s 12ms/step - loss: 0.4054 - accuracy: 0.8211\n",
      "Epoch 54/100\n",
      "82/82 [==============================] - 1s 11ms/step - loss: 0.4061 - accuracy: 0.8188\n",
      "Epoch 55/100\n",
      "82/82 [==============================] - 1s 12ms/step - loss: 0.4042 - accuracy: 0.8177\n",
      "Epoch 56/100\n",
      "82/82 [==============================] - 1s 12ms/step - loss: 0.4036 - accuracy: 0.8157\n",
      "Epoch 57/100\n",
      "82/82 [==============================] - 1s 13ms/step - loss: 0.4008 - accuracy: 0.8196\n",
      "Epoch 58/100\n",
      "82/82 [==============================] - 1s 13ms/step - loss: 0.4011 - accuracy: 0.8230\n",
      "Epoch 59/100\n",
      "82/82 [==============================] - 1s 13ms/step - loss: 0.4006 - accuracy: 0.8234\n",
      "Epoch 60/100\n",
      "82/82 [==============================] - 1s 13ms/step - loss: 0.4002 - accuracy: 0.8211\n",
      "Epoch 61/100\n",
      "82/82 [==============================] - 1s 13ms/step - loss: 0.3979 - accuracy: 0.8238\n",
      "Epoch 62/100\n",
      "82/82 [==============================] - 1s 13ms/step - loss: 0.3985 - accuracy: 0.8207\n",
      "Epoch 63/100\n",
      "82/82 [==============================] - 1s 11ms/step - loss: 0.3970 - accuracy: 0.8245\n",
      "Epoch 64/100\n",
      "82/82 [==============================] - 1s 12ms/step - loss: 0.3968 - accuracy: 0.8192\n",
      "Epoch 65/100\n",
      "82/82 [==============================] - 1s 12ms/step - loss: 0.3946 - accuracy: 0.8203\n",
      "Epoch 66/100\n",
      "82/82 [==============================] - 1s 12ms/step - loss: 0.3949 - accuracy: 0.8219\n",
      "Epoch 67/100\n",
      "82/82 [==============================] - 1s 12ms/step - loss: 0.3921 - accuracy: 0.8268\n",
      "Epoch 68/100\n",
      "82/82 [==============================] - 1s 12ms/step - loss: 0.3921 - accuracy: 0.8196\n",
      "Epoch 69/100\n",
      "82/82 [==============================] - 1s 12ms/step - loss: 0.3904 - accuracy: 0.8200\n",
      "Epoch 70/100\n",
      "82/82 [==============================] - 1s 12ms/step - loss: 0.3889 - accuracy: 0.8268\n",
      "Epoch 71/100\n",
      "82/82 [==============================] - 1s 12ms/step - loss: 0.3910 - accuracy: 0.8287\n",
      "Epoch 72/100\n",
      "82/82 [==============================] - 1s 11ms/step - loss: 0.3872 - accuracy: 0.8249\n",
      "Epoch 73/100\n",
      "82/82 [==============================] - 1s 12ms/step - loss: 0.3882 - accuracy: 0.8257\n",
      "Epoch 74/100\n",
      "82/82 [==============================] - 1s 12ms/step - loss: 0.3857 - accuracy: 0.8253\n",
      "Epoch 75/100\n",
      "82/82 [==============================] - 1s 11ms/step - loss: 0.3875 - accuracy: 0.8299\n",
      "Epoch 76/100\n",
      "82/82 [==============================] - 1s 12ms/step - loss: 0.3845 - accuracy: 0.8310\n",
      "Epoch 77/100\n",
      "82/82 [==============================] - 1s 11ms/step - loss: 0.3834 - accuracy: 0.8287\n",
      "Epoch 78/100\n",
      "82/82 [==============================] - 1s 12ms/step - loss: 0.3825 - accuracy: 0.8295\n",
      "Epoch 79/100\n",
      "82/82 [==============================] - 1s 12ms/step - loss: 0.3810 - accuracy: 0.8295\n",
      "Epoch 80/100\n",
      "82/82 [==============================] - 1s 11ms/step - loss: 0.3812 - accuracy: 0.8276\n",
      "Epoch 81/100\n",
      "82/82 [==============================] - 1s 12ms/step - loss: 0.3800 - accuracy: 0.8245\n",
      "Epoch 82/100\n"
     ]
    },
    {
     "name": "stdout",
     "output_type": "stream",
     "text": [
      "82/82 [==============================] - 1s 12ms/step - loss: 0.3792 - accuracy: 0.8352\n",
      "Epoch 83/100\n",
      "82/82 [==============================] - 1s 12ms/step - loss: 0.3797 - accuracy: 0.8276\n",
      "Epoch 84/100\n",
      "82/82 [==============================] - 1s 14ms/step - loss: 0.3762 - accuracy: 0.8280\n",
      "Epoch 85/100\n",
      "82/82 [==============================] - 1s 12ms/step - loss: 0.3768 - accuracy: 0.8345\n",
      "Epoch 86/100\n",
      "82/82 [==============================] - 1s 12ms/step - loss: 0.3749 - accuracy: 0.8310\n",
      "Epoch 87/100\n",
      "82/82 [==============================] - 1s 12ms/step - loss: 0.3749 - accuracy: 0.8341\n",
      "Epoch 88/100\n",
      "82/82 [==============================] - 1s 11ms/step - loss: 0.3746 - accuracy: 0.8330\n",
      "Epoch 89/100\n",
      "82/82 [==============================] - 1s 12ms/step - loss: 0.3727 - accuracy: 0.8379\n",
      "Epoch 90/100\n",
      "82/82 [==============================] - 1s 13ms/step - loss: 0.3790 - accuracy: 0.8238\n",
      "Epoch 91/100\n",
      "82/82 [==============================] - 1s 12ms/step - loss: 0.3732 - accuracy: 0.8303\n",
      "Epoch 92/100\n",
      "82/82 [==============================] - 1s 13ms/step - loss: 0.3706 - accuracy: 0.8387\n",
      "Epoch 93/100\n",
      "82/82 [==============================] - 1s 13ms/step - loss: 0.3728 - accuracy: 0.8287\n",
      "Epoch 94/100\n",
      "82/82 [==============================] - 1s 11ms/step - loss: 0.3709 - accuracy: 0.8349\n",
      "Epoch 95/100\n",
      "82/82 [==============================] - 1s 12ms/step - loss: 0.3672 - accuracy: 0.8383\n",
      "Epoch 96/100\n",
      "82/82 [==============================] - 1s 12ms/step - loss: 0.3681 - accuracy: 0.8314\n",
      "Epoch 97/100\n",
      "82/82 [==============================] - 1s 14ms/step - loss: 0.3672 - accuracy: 0.8387\n",
      "Epoch 98/100\n",
      "82/82 [==============================] - 1s 12ms/step - loss: 0.3667 - accuracy: 0.8356\n",
      "Epoch 99/100\n",
      "82/82 [==============================] - 1s 12ms/step - loss: 0.3688 - accuracy: 0.8356\n",
      "Epoch 100/100\n",
      "82/82 [==============================] - 1s 13ms/step - loss: 0.3633 - accuracy: 0.8379\n",
      "66/66 [==============================] - 1s 8ms/step - loss: 0.6448 - accuracy: 0.6896\n",
      "[0.6448394656181335, 0.6895734667778015]\n",
      "Classification Report\n",
      "               precision    recall  f1-score   support\n",
      "\n",
      "           0       0.90      0.65      0.75      1549\n",
      "           1       0.45      0.80      0.58       561\n",
      "\n",
      "    accuracy                           0.69      2110\n",
      "   macro avg       0.68      0.72      0.67      2110\n",
      "weighted avg       0.78      0.69      0.71      2110\n",
      "\n"
     ]
    }
   ],
   "source": [
    "X_train,y_train=get_train_batch(df3_class0,df3_class1,1308,2616)\n",
    "y_pred2=ANN(X_train,y_train,X_test,y_test,'binary_crossentropy',-1)"
   ]
  },
  {
   "cell_type": "code",
   "execution_count": 113,
   "id": "3acd51cb",
   "metadata": {},
   "outputs": [
    {
     "name": "stdout",
     "output_type": "stream",
     "text": [
      "Epoch 1/100\n",
      "73/73 [==============================] - 2s 12ms/step - loss: 0.7097 - accuracy: 0.5100\n",
      "Epoch 2/100\n",
      "73/73 [==============================] - 1s 12ms/step - loss: 0.6329 - accuracy: 0.6930\n",
      "Epoch 3/100\n",
      "73/73 [==============================] - 1s 11ms/step - loss: 0.5832 - accuracy: 0.7550\n",
      "Epoch 4/100\n",
      "73/73 [==============================] - 1s 12ms/step - loss: 0.5320 - accuracy: 0.7628\n",
      "Epoch 5/100\n",
      "73/73 [==============================] - 1s 12ms/step - loss: 0.5019 - accuracy: 0.7559\n",
      "Epoch 6/100\n",
      "73/73 [==============================] - 1s 12ms/step - loss: 0.4876 - accuracy: 0.7658\n",
      "Epoch 7/100\n",
      "73/73 [==============================] - 1s 12ms/step - loss: 0.4831 - accuracy: 0.7719\n",
      "Epoch 8/100\n",
      "73/73 [==============================] - 1s 12ms/step - loss: 0.4806 - accuracy: 0.7758\n",
      "Epoch 9/100\n",
      "73/73 [==============================] - 1s 13ms/step - loss: 0.4787 - accuracy: 0.7689\n",
      "Epoch 10/100\n",
      "73/73 [==============================] - 1s 12ms/step - loss: 0.4751 - accuracy: 0.7784\n",
      "Epoch 11/100\n",
      "73/73 [==============================] - 1s 12ms/step - loss: 0.4750 - accuracy: 0.7749\n",
      "Epoch 12/100\n",
      "73/73 [==============================] - 1s 12ms/step - loss: 0.4720 - accuracy: 0.7827\n",
      "Epoch 13/100\n",
      "73/73 [==============================] - 1s 12ms/step - loss: 0.4721 - accuracy: 0.7775\n",
      "Epoch 14/100\n",
      "73/73 [==============================] - 1s 12ms/step - loss: 0.4712 - accuracy: 0.7784\n",
      "Epoch 15/100\n",
      "73/73 [==============================] - 1s 12ms/step - loss: 0.4695 - accuracy: 0.7762\n",
      "Epoch 16/100\n",
      "73/73 [==============================] - 1s 12ms/step - loss: 0.4696 - accuracy: 0.7788\n",
      "Epoch 17/100\n",
      "73/73 [==============================] - 1s 11ms/step - loss: 0.4676 - accuracy: 0.7823\n",
      "Epoch 18/100\n",
      "73/73 [==============================] - 1s 12ms/step - loss: 0.4648 - accuracy: 0.7832\n",
      "Epoch 19/100\n",
      "73/73 [==============================] - 1s 12ms/step - loss: 0.4644 - accuracy: 0.7853\n",
      "Epoch 20/100\n",
      "73/73 [==============================] - 1s 12ms/step - loss: 0.4635 - accuracy: 0.7862\n",
      "Epoch 21/100\n",
      "73/73 [==============================] - 1s 11ms/step - loss: 0.4626 - accuracy: 0.7871\n",
      "Epoch 22/100\n",
      "73/73 [==============================] - 1s 12ms/step - loss: 0.4611 - accuracy: 0.7849\n",
      "Epoch 23/100\n",
      "73/73 [==============================] - 1s 12ms/step - loss: 0.4603 - accuracy: 0.7827\n",
      "Epoch 24/100\n",
      "73/73 [==============================] - 1s 13ms/step - loss: 0.4599 - accuracy: 0.7862\n",
      "Epoch 25/100\n",
      "73/73 [==============================] - 1s 13ms/step - loss: 0.4583 - accuracy: 0.7871\n",
      "Epoch 26/100\n",
      "73/73 [==============================] - 1s 13ms/step - loss: 0.4581 - accuracy: 0.7801\n",
      "Epoch 27/100\n",
      "73/73 [==============================] - 1s 13ms/step - loss: 0.4564 - accuracy: 0.7901\n",
      "Epoch 28/100\n",
      "73/73 [==============================] - 1s 13ms/step - loss: 0.4545 - accuracy: 0.7892\n",
      "Epoch 29/100\n",
      "73/73 [==============================] - 1s 12ms/step - loss: 0.4529 - accuracy: 0.7910\n",
      "Epoch 30/100\n",
      "73/73 [==============================] - 1s 12ms/step - loss: 0.4547 - accuracy: 0.7931\n",
      "Epoch 31/100\n",
      "73/73 [==============================] - 1s 11ms/step - loss: 0.4503 - accuracy: 0.7875\n",
      "Epoch 32/100\n",
      "73/73 [==============================] - 1s 12ms/step - loss: 0.4502 - accuracy: 0.7944\n",
      "Epoch 33/100\n",
      "73/73 [==============================] - 1s 12ms/step - loss: 0.4518 - accuracy: 0.7927\n",
      "Epoch 34/100\n",
      "73/73 [==============================] - 1s 12ms/step - loss: 0.4474 - accuracy: 0.7944\n",
      "Epoch 35/100\n",
      "73/73 [==============================] - 1s 12ms/step - loss: 0.4468 - accuracy: 0.7958\n",
      "Epoch 36/100\n",
      "73/73 [==============================] - 1s 12ms/step - loss: 0.4480 - accuracy: 0.7953\n",
      "Epoch 37/100\n",
      "73/73 [==============================] - 1s 11ms/step - loss: 0.4455 - accuracy: 0.7931\n",
      "Epoch 38/100\n",
      "73/73 [==============================] - 1s 12ms/step - loss: 0.4440 - accuracy: 0.7966\n",
      "Epoch 39/100\n",
      "73/73 [==============================] - 1s 11ms/step - loss: 0.4426 - accuracy: 0.7979\n",
      "Epoch 40/100\n",
      "73/73 [==============================] - 1s 12ms/step - loss: 0.4396 - accuracy: 0.7992\n",
      "Epoch 41/100\n",
      "73/73 [==============================] - 1s 11ms/step - loss: 0.4423 - accuracy: 0.7979\n",
      "Epoch 42/100\n",
      "73/73 [==============================] - 1s 11ms/step - loss: 0.4404 - accuracy: 0.7984\n",
      "Epoch 43/100\n",
      "73/73 [==============================] - 1s 12ms/step - loss: 0.4393 - accuracy: 0.7984\n",
      "Epoch 44/100\n",
      "73/73 [==============================] - 1s 11ms/step - loss: 0.4382 - accuracy: 0.7975\n",
      "Epoch 45/100\n",
      "73/73 [==============================] - 1s 12ms/step - loss: 0.4386 - accuracy: 0.7988\n",
      "Epoch 46/100\n",
      "73/73 [==============================] - 1s 12ms/step - loss: 0.4352 - accuracy: 0.8001\n",
      "Epoch 47/100\n",
      "73/73 [==============================] - 1s 12ms/step - loss: 0.4356 - accuracy: 0.8005\n",
      "Epoch 48/100\n",
      "73/73 [==============================] - 1s 11ms/step - loss: 0.4342 - accuracy: 0.8040\n",
      "Epoch 49/100\n",
      "73/73 [==============================] - 1s 12ms/step - loss: 0.4327 - accuracy: 0.8010\n",
      "Epoch 50/100\n",
      "73/73 [==============================] - 1s 12ms/step - loss: 0.4327 - accuracy: 0.8031\n",
      "Epoch 51/100\n",
      "73/73 [==============================] - 1s 11ms/step - loss: 0.4302 - accuracy: 0.8044\n",
      "Epoch 52/100\n",
      "73/73 [==============================] - 1s 12ms/step - loss: 0.4323 - accuracy: 0.8014\n",
      "Epoch 53/100\n",
      "73/73 [==============================] - 1s 13ms/step - loss: 0.4292 - accuracy: 0.8031\n",
      "Epoch 54/100\n",
      "73/73 [==============================] - 1s 12ms/step - loss: 0.4273 - accuracy: 0.8057\n",
      "Epoch 55/100\n",
      "73/73 [==============================] - 1s 11ms/step - loss: 0.4266 - accuracy: 0.8066\n",
      "Epoch 56/100\n",
      "73/73 [==============================] - 1s 14ms/step - loss: 0.4259 - accuracy: 0.8083\n",
      "Epoch 57/100\n",
      "73/73 [==============================] - 1s 12ms/step - loss: 0.4243 - accuracy: 0.8070\n",
      "Epoch 58/100\n",
      "73/73 [==============================] - 1s 15ms/step - loss: 0.4236 - accuracy: 0.8057\n",
      "Epoch 59/100\n",
      "73/73 [==============================] - 1s 13ms/step - loss: 0.4220 - accuracy: 0.8114\n",
      "Epoch 60/100\n",
      "73/73 [==============================] - 1s 13ms/step - loss: 0.4212 - accuracy: 0.8131\n",
      "Epoch 61/100\n",
      "73/73 [==============================] - 1s 12ms/step - loss: 0.4191 - accuracy: 0.8096\n",
      "Epoch 62/100\n",
      "73/73 [==============================] - 1s 11ms/step - loss: 0.4203 - accuracy: 0.8105\n",
      "Epoch 63/100\n",
      "73/73 [==============================] - 1s 12ms/step - loss: 0.4172 - accuracy: 0.8157\n",
      "Epoch 64/100\n",
      "73/73 [==============================] - 1s 11ms/step - loss: 0.4179 - accuracy: 0.8118\n",
      "Epoch 65/100\n",
      "73/73 [==============================] - 1s 12ms/step - loss: 0.4162 - accuracy: 0.8179\n",
      "Epoch 66/100\n",
      "73/73 [==============================] - 1s 12ms/step - loss: 0.4174 - accuracy: 0.8135\n",
      "Epoch 67/100\n",
      "73/73 [==============================] - 1s 12ms/step - loss: 0.4156 - accuracy: 0.8187\n",
      "Epoch 68/100\n",
      "73/73 [==============================] - 1s 11ms/step - loss: 0.4144 - accuracy: 0.8174\n",
      "Epoch 69/100\n",
      "73/73 [==============================] - 1s 13ms/step - loss: 0.4131 - accuracy: 0.8148\n",
      "Epoch 70/100\n",
      "73/73 [==============================] - 1s 15ms/step - loss: 0.4167 - accuracy: 0.8096\n",
      "Epoch 71/100\n",
      "73/73 [==============================] - 1s 13ms/step - loss: 0.4122 - accuracy: 0.8161\n",
      "Epoch 72/100\n",
      "73/73 [==============================] - 1s 13ms/step - loss: 0.4123 - accuracy: 0.8192\n",
      "Epoch 73/100\n",
      "73/73 [==============================] - 1s 13ms/step - loss: 0.4120 - accuracy: 0.8148\n",
      "Epoch 74/100\n",
      "73/73 [==============================] - 1s 13ms/step - loss: 0.4082 - accuracy: 0.8192\n",
      "Epoch 75/100\n",
      "73/73 [==============================] - 1s 11ms/step - loss: 0.4076 - accuracy: 0.8170\n",
      "Epoch 76/100\n",
      "73/73 [==============================] - 1s 12ms/step - loss: 0.4078 - accuracy: 0.8161\n",
      "Epoch 77/100\n",
      "73/73 [==============================] - 1s 11ms/step - loss: 0.4075 - accuracy: 0.8187\n",
      "Epoch 78/100\n",
      "73/73 [==============================] - 1s 13ms/step - loss: 0.4057 - accuracy: 0.8148\n",
      "Epoch 79/100\n",
      "73/73 [==============================] - 1s 11ms/step - loss: 0.4109 - accuracy: 0.8183\n",
      "Epoch 80/100\n",
      "73/73 [==============================] - 1s 11ms/step - loss: 0.4054 - accuracy: 0.8144\n",
      "Epoch 81/100\n",
      "73/73 [==============================] - 1s 12ms/step - loss: 0.4042 - accuracy: 0.8153\n",
      "Epoch 82/100\n"
     ]
    },
    {
     "name": "stdout",
     "output_type": "stream",
     "text": [
      "73/73 [==============================] - 1s 11ms/step - loss: 0.4033 - accuracy: 0.8153\n",
      "Epoch 83/100\n",
      "73/73 [==============================] - 1s 12ms/step - loss: 0.4011 - accuracy: 0.8231\n",
      "Epoch 84/100\n",
      "73/73 [==============================] - 1s 11ms/step - loss: 0.4044 - accuracy: 0.8174\n",
      "Epoch 85/100\n",
      "73/73 [==============================] - 1s 12ms/step - loss: 0.3998 - accuracy: 0.8239\n",
      "Epoch 86/100\n",
      "73/73 [==============================] - 1s 11ms/step - loss: 0.4010 - accuracy: 0.8231\n",
      "Epoch 87/100\n",
      "73/73 [==============================] - 1s 13ms/step - loss: 0.3989 - accuracy: 0.8248\n",
      "Epoch 88/100\n",
      "73/73 [==============================] - 1s 13ms/step - loss: 0.4002 - accuracy: 0.8226\n",
      "Epoch 89/100\n",
      "73/73 [==============================] - 1s 11ms/step - loss: 0.3977 - accuracy: 0.8192\n",
      "Epoch 90/100\n",
      "73/73 [==============================] - 1s 11ms/step - loss: 0.3938 - accuracy: 0.8287\n",
      "Epoch 91/100\n",
      "73/73 [==============================] - 1s 12ms/step - loss: 0.3989 - accuracy: 0.8153\n",
      "Epoch 92/100\n",
      "73/73 [==============================] - 1s 13ms/step - loss: 0.3948 - accuracy: 0.8239\n",
      "Epoch 93/100\n",
      "73/73 [==============================] - 1s 13ms/step - loss: 0.3929 - accuracy: 0.8261\n",
      "Epoch 94/100\n",
      "73/73 [==============================] - 1s 13ms/step - loss: 0.3954 - accuracy: 0.8274\n",
      "Epoch 95/100\n",
      "73/73 [==============================] - 1s 12ms/step - loss: 0.3918 - accuracy: 0.8244\n",
      "Epoch 96/100\n",
      "73/73 [==============================] - 1s 12ms/step - loss: 0.3944 - accuracy: 0.8252\n",
      "Epoch 97/100\n",
      "73/73 [==============================] - 1s 12ms/step - loss: 0.3932 - accuracy: 0.8239\n",
      "Epoch 98/100\n",
      "73/73 [==============================] - 1s 12ms/step - loss: 0.3914 - accuracy: 0.8270\n",
      "Epoch 99/100\n",
      "73/73 [==============================] - 1s 12ms/step - loss: 0.3885 - accuracy: 0.8265\n",
      "Epoch 100/100\n",
      "73/73 [==============================] - 1s 11ms/step - loss: 0.3885 - accuracy: 0.8291\n",
      "66/66 [==============================] - 1s 9ms/step - loss: 0.6313 - accuracy: 0.6730\n",
      "[0.6312968134880066, 0.6729857921600342]\n",
      "Classification Report\n",
      "               precision    recall  f1-score   support\n",
      "\n",
      "           0       0.93      0.60      0.73      1549\n",
      "           1       0.44      0.87      0.59       561\n",
      "\n",
      "    accuracy                           0.67      2110\n",
      "   macro avg       0.68      0.74      0.66      2110\n",
      "weighted avg       0.80      0.67      0.69      2110\n",
      "\n"
     ]
    }
   ],
   "source": [
    "X_train,y_train=get_train_batch(df3_class0,df3_class1,2616,3614)\n",
    "y_pred3=ANN(X_train,y_train,X_test,y_test,'binary_crossentropy',-1)"
   ]
  },
  {
   "cell_type": "markdown",
   "id": "1729f673",
   "metadata": {},
   "source": [
    "## If total vote is more then 1 then the output/vote is for class 1 otherwise it is for class 0."
   ]
  },
  {
   "cell_type": "code",
   "execution_count": 114,
   "id": "3d01fabe",
   "metadata": {},
   "outputs": [
    {
     "data": {
      "text/plain": [
       "2110"
      ]
     },
     "execution_count": 114,
     "metadata": {},
     "output_type": "execute_result"
    }
   ],
   "source": [
    "len(y_pred1)"
   ]
  },
  {
   "cell_type": "code",
   "execution_count": 115,
   "id": "d13e0db0",
   "metadata": {},
   "outputs": [
    {
     "data": {
      "text/plain": [
       "2110"
      ]
     },
     "execution_count": 115,
     "metadata": {},
     "output_type": "execute_result"
    }
   ],
   "source": [
    "len(y_pred2)"
   ]
  },
  {
   "cell_type": "code",
   "execution_count": 116,
   "id": "d45a936e",
   "metadata": {},
   "outputs": [],
   "source": [
    "y_pred_final=y_pred1.copy()\n",
    "\n",
    "for i in range(len(y_pred1)):\n",
    "    n_ones=y_pred1[i] + y_pred2[i] + y_pred3[i]\n",
    "    \n",
    "    if n_ones>1:\n",
    "        y_pred_final[i]=1\n",
    "    else:\n",
    "        y_pred_final[i]=0"
   ]
  },
  {
   "cell_type": "code",
   "execution_count": 117,
   "id": "d54fe98c",
   "metadata": {},
   "outputs": [
    {
     "name": "stdout",
     "output_type": "stream",
     "text": [
      "              precision    recall  f1-score   support\n",
      "\n",
      "           0       0.91      0.66      0.76      1549\n",
      "           1       0.47      0.83      0.60       561\n",
      "\n",
      "    accuracy                           0.70      2110\n",
      "   macro avg       0.69      0.74      0.68      2110\n",
      "weighted avg       0.79      0.70      0.72      2110\n",
      "\n"
     ]
    }
   ],
   "source": [
    "print(classification_report(y_test,y_pred_final))"
   ]
  },
  {
   "cell_type": "markdown",
   "id": "48b141b9",
   "metadata": {},
   "source": [
    "# Exercise\n",
    "## Handling Imbalanced Dataset with Sklearn Logistic regression"
   ]
  },
  {
   "cell_type": "code",
   "execution_count": 159,
   "id": "b511b466",
   "metadata": {},
   "outputs": [],
   "source": [
    "from sklearn.linear_model import LogisticRegression"
   ]
  },
  {
   "cell_type": "code",
   "execution_count": 160,
   "id": "80adddce",
   "metadata": {},
   "outputs": [],
   "source": [
    "def reg(X_train,y_train,X_test,y_test,loss):\n",
    "    model=LogisticRegression()\n",
    "    \n",
    "    model.fit(X_train,y_train)\n",
    "    \n",
    "    print(model.score(X_test,y_test))\n",
    "    \n",
    "    y_preds=model.predict(X_test)\n",
    "    y_preds=np.round(y_preds)\n",
    "    \n",
    "    print('Classification Report\\n', classification_report(y_test,y_preds))\n",
    "    \n",
    "    return y_preds"
   ]
  },
  {
   "cell_type": "code",
   "execution_count": 161,
   "id": "8590bdf5",
   "metadata": {},
   "outputs": [
    {
     "data": {
      "text/html": [
       "<div>\n",
       "<style scoped>\n",
       "    .dataframe tbody tr th:only-of-type {\n",
       "        vertical-align: middle;\n",
       "    }\n",
       "\n",
       "    .dataframe tbody tr th {\n",
       "        vertical-align: top;\n",
       "    }\n",
       "\n",
       "    .dataframe thead th {\n",
       "        text-align: right;\n",
       "    }\n",
       "</style>\n",
       "<table border=\"1\" class=\"dataframe\">\n",
       "  <thead>\n",
       "    <tr style=\"text-align: right;\">\n",
       "      <th></th>\n",
       "      <th>gender</th>\n",
       "      <th>SeniorCitizen</th>\n",
       "      <th>Partner</th>\n",
       "      <th>Dependents</th>\n",
       "      <th>tenure</th>\n",
       "      <th>PhoneService</th>\n",
       "      <th>MultipleLines</th>\n",
       "      <th>OnlineSecurity</th>\n",
       "      <th>OnlineBackup</th>\n",
       "      <th>DeviceProtection</th>\n",
       "      <th>...</th>\n",
       "      <th>InternetService_DSL</th>\n",
       "      <th>InternetService_Fiber optic</th>\n",
       "      <th>InternetService_No</th>\n",
       "      <th>Contract_Month-to-month</th>\n",
       "      <th>Contract_One year</th>\n",
       "      <th>Contract_Two year</th>\n",
       "      <th>PaymentMethod_Bank transfer (automatic)</th>\n",
       "      <th>PaymentMethod_Credit card (automatic)</th>\n",
       "      <th>PaymentMethod_Electronic check</th>\n",
       "      <th>PaymentMethod_Mailed check</th>\n",
       "    </tr>\n",
       "  </thead>\n",
       "  <tbody>\n",
       "    <tr>\n",
       "      <th>0</th>\n",
       "      <td>1</td>\n",
       "      <td>0</td>\n",
       "      <td>1</td>\n",
       "      <td>0</td>\n",
       "      <td>0.000000</td>\n",
       "      <td>0</td>\n",
       "      <td>0</td>\n",
       "      <td>0</td>\n",
       "      <td>1</td>\n",
       "      <td>0</td>\n",
       "      <td>...</td>\n",
       "      <td>1</td>\n",
       "      <td>0</td>\n",
       "      <td>0</td>\n",
       "      <td>1</td>\n",
       "      <td>0</td>\n",
       "      <td>0</td>\n",
       "      <td>0</td>\n",
       "      <td>0</td>\n",
       "      <td>1</td>\n",
       "      <td>0</td>\n",
       "    </tr>\n",
       "    <tr>\n",
       "      <th>1</th>\n",
       "      <td>0</td>\n",
       "      <td>0</td>\n",
       "      <td>0</td>\n",
       "      <td>0</td>\n",
       "      <td>0.464789</td>\n",
       "      <td>1</td>\n",
       "      <td>0</td>\n",
       "      <td>1</td>\n",
       "      <td>0</td>\n",
       "      <td>1</td>\n",
       "      <td>...</td>\n",
       "      <td>1</td>\n",
       "      <td>0</td>\n",
       "      <td>0</td>\n",
       "      <td>0</td>\n",
       "      <td>1</td>\n",
       "      <td>0</td>\n",
       "      <td>0</td>\n",
       "      <td>0</td>\n",
       "      <td>0</td>\n",
       "      <td>1</td>\n",
       "    </tr>\n",
       "    <tr>\n",
       "      <th>2</th>\n",
       "      <td>0</td>\n",
       "      <td>0</td>\n",
       "      <td>0</td>\n",
       "      <td>0</td>\n",
       "      <td>0.014085</td>\n",
       "      <td>1</td>\n",
       "      <td>0</td>\n",
       "      <td>1</td>\n",
       "      <td>1</td>\n",
       "      <td>0</td>\n",
       "      <td>...</td>\n",
       "      <td>1</td>\n",
       "      <td>0</td>\n",
       "      <td>0</td>\n",
       "      <td>1</td>\n",
       "      <td>0</td>\n",
       "      <td>0</td>\n",
       "      <td>0</td>\n",
       "      <td>0</td>\n",
       "      <td>0</td>\n",
       "      <td>1</td>\n",
       "    </tr>\n",
       "    <tr>\n",
       "      <th>3</th>\n",
       "      <td>0</td>\n",
       "      <td>0</td>\n",
       "      <td>0</td>\n",
       "      <td>0</td>\n",
       "      <td>0.619718</td>\n",
       "      <td>0</td>\n",
       "      <td>0</td>\n",
       "      <td>1</td>\n",
       "      <td>0</td>\n",
       "      <td>1</td>\n",
       "      <td>...</td>\n",
       "      <td>1</td>\n",
       "      <td>0</td>\n",
       "      <td>0</td>\n",
       "      <td>0</td>\n",
       "      <td>1</td>\n",
       "      <td>0</td>\n",
       "      <td>1</td>\n",
       "      <td>0</td>\n",
       "      <td>0</td>\n",
       "      <td>0</td>\n",
       "    </tr>\n",
       "    <tr>\n",
       "      <th>4</th>\n",
       "      <td>1</td>\n",
       "      <td>0</td>\n",
       "      <td>0</td>\n",
       "      <td>0</td>\n",
       "      <td>0.014085</td>\n",
       "      <td>1</td>\n",
       "      <td>0</td>\n",
       "      <td>0</td>\n",
       "      <td>0</td>\n",
       "      <td>0</td>\n",
       "      <td>...</td>\n",
       "      <td>0</td>\n",
       "      <td>1</td>\n",
       "      <td>0</td>\n",
       "      <td>1</td>\n",
       "      <td>0</td>\n",
       "      <td>0</td>\n",
       "      <td>0</td>\n",
       "      <td>0</td>\n",
       "      <td>1</td>\n",
       "      <td>0</td>\n",
       "    </tr>\n",
       "  </tbody>\n",
       "</table>\n",
       "<p>5 rows × 27 columns</p>\n",
       "</div>"
      ],
      "text/plain": [
       "   gender  SeniorCitizen  Partner  Dependents    tenure  PhoneService  \\\n",
       "0       1              0        1           0  0.000000             0   \n",
       "1       0              0        0           0  0.464789             1   \n",
       "2       0              0        0           0  0.014085             1   \n",
       "3       0              0        0           0  0.619718             0   \n",
       "4       1              0        0           0  0.014085             1   \n",
       "\n",
       "   MultipleLines  OnlineSecurity  OnlineBackup  DeviceProtection  ...  \\\n",
       "0              0               0             1                 0  ...   \n",
       "1              0               1             0                 1  ...   \n",
       "2              0               1             1                 0  ...   \n",
       "3              0               1             0                 1  ...   \n",
       "4              0               0             0                 0  ...   \n",
       "\n",
       "   InternetService_DSL  InternetService_Fiber optic  InternetService_No  \\\n",
       "0                    1                            0                   0   \n",
       "1                    1                            0                   0   \n",
       "2                    1                            0                   0   \n",
       "3                    1                            0                   0   \n",
       "4                    0                            1                   0   \n",
       "\n",
       "   Contract_Month-to-month  Contract_One year  Contract_Two year  \\\n",
       "0                        1                  0                  0   \n",
       "1                        0                  1                  0   \n",
       "2                        1                  0                  0   \n",
       "3                        0                  1                  0   \n",
       "4                        1                  0                  0   \n",
       "\n",
       "   PaymentMethod_Bank transfer (automatic)  \\\n",
       "0                                        0   \n",
       "1                                        0   \n",
       "2                                        0   \n",
       "3                                        1   \n",
       "4                                        0   \n",
       "\n",
       "   PaymentMethod_Credit card (automatic)  PaymentMethod_Electronic check  \\\n",
       "0                                      0                               1   \n",
       "1                                      0                               0   \n",
       "2                                      0                               0   \n",
       "3                                      0                               0   \n",
       "4                                      0                               1   \n",
       "\n",
       "   PaymentMethod_Mailed check  \n",
       "0                           0  \n",
       "1                           1  \n",
       "2                           1  \n",
       "3                           0  \n",
       "4                           0  \n",
       "\n",
       "[5 rows x 27 columns]"
      ]
     },
     "execution_count": 161,
     "metadata": {},
     "output_type": "execute_result"
    }
   ],
   "source": [
    "dfNew2.head()"
   ]
  },
  {
   "cell_type": "code",
   "execution_count": 162,
   "id": "1eead338",
   "metadata": {},
   "outputs": [],
   "source": [
    "X=dfNew2.drop('Churn', axis='columns')\n",
    "y=dfNew2['Churn']\n",
    "\n",
    "from sklearn.model_selection import train_test_split\n",
    "X_train, X_test, y_train, y_test= train_test_split(X,y,test_size=0.3, random_state=15, stratify=y)"
   ]
  },
  {
   "cell_type": "code",
   "execution_count": 163,
   "id": "d909d739",
   "metadata": {},
   "outputs": [
    {
     "data": {
      "text/plain": [
       "(7032, 26)"
      ]
     },
     "execution_count": 163,
     "metadata": {},
     "output_type": "execute_result"
    }
   ],
   "source": [
    "X.shape"
   ]
  },
  {
   "cell_type": "code",
   "execution_count": 164,
   "id": "b17464bd",
   "metadata": {},
   "outputs": [
    {
     "data": {
      "text/plain": [
       "(4922, 26)"
      ]
     },
     "execution_count": 164,
     "metadata": {},
     "output_type": "execute_result"
    }
   ],
   "source": [
    "X_train.shape"
   ]
  },
  {
   "cell_type": "code",
   "execution_count": 165,
   "id": "24e47cfc",
   "metadata": {},
   "outputs": [
    {
     "data": {
      "text/plain": [
       "(4922,)"
      ]
     },
     "execution_count": 165,
     "metadata": {},
     "output_type": "execute_result"
    }
   ],
   "source": [
    "y_train.shape"
   ]
  },
  {
   "cell_type": "code",
   "execution_count": 166,
   "id": "80b8b236",
   "metadata": {},
   "outputs": [
    {
     "data": {
      "text/plain": [
       "0    3614\n",
       "1    1308\n",
       "Name: Churn, dtype: int64"
      ]
     },
     "execution_count": 166,
     "metadata": {},
     "output_type": "execute_result"
    }
   ],
   "source": [
    "y_train.value_counts()"
   ]
  },
  {
   "cell_type": "code",
   "execution_count": 167,
   "id": "3d62f10a",
   "metadata": {
    "scrolled": true
   },
   "outputs": [
    {
     "name": "stdout",
     "output_type": "stream",
     "text": [
      "0.7985781990521327\n",
      "Classification Report\n",
      "               precision    recall  f1-score   support\n",
      "\n",
      "           0       0.84      0.90      0.87      1549\n",
      "           1       0.65      0.53      0.58       561\n",
      "\n",
      "    accuracy                           0.80      2110\n",
      "   macro avg       0.74      0.71      0.73      2110\n",
      "weighted avg       0.79      0.80      0.79      2110\n",
      "\n"
     ]
    }
   ],
   "source": [
    "y_pred_log=reg(X_train,y_train,X_test,y_test,'binary_crossentropy')"
   ]
  },
  {
   "cell_type": "markdown",
   "id": "5f7e4628",
   "metadata": {},
   "source": [
    "## 1)Undersampling with Logistic Regression"
   ]
  },
  {
   "cell_type": "code",
   "execution_count": 168,
   "id": "efb517f6",
   "metadata": {},
   "outputs": [],
   "source": [
    "count_class0, count_class1=dfNew2.Churn.value_counts()"
   ]
  },
  {
   "cell_type": "code",
   "execution_count": 169,
   "id": "3e5ce23e",
   "metadata": {},
   "outputs": [
    {
     "data": {
      "text/plain": [
       "(5163, 1869)"
      ]
     },
     "execution_count": 169,
     "metadata": {},
     "output_type": "execute_result"
    }
   ],
   "source": [
    "count_class0, count_class1"
   ]
  },
  {
   "cell_type": "code",
   "execution_count": 170,
   "id": "31580142",
   "metadata": {},
   "outputs": [],
   "source": [
    "df_class0=dfNew2[dfNew2['Churn'] ==0]\n",
    "df_class1=dfNew2[dfNew2['Churn'] ==1]"
   ]
  },
  {
   "cell_type": "code",
   "execution_count": 171,
   "id": "d470c339",
   "metadata": {},
   "outputs": [
    {
     "data": {
      "text/plain": [
       "((5163, 27), (1869, 27))"
      ]
     },
     "execution_count": 171,
     "metadata": {},
     "output_type": "execute_result"
    }
   ],
   "source": [
    "df_class0.shape, df_class1.shape"
   ]
  },
  {
   "cell_type": "code",
   "execution_count": 172,
   "id": "12b8fff2",
   "metadata": {},
   "outputs": [
    {
     "data": {
      "text/plain": [
       "(1869, 27)"
      ]
     },
     "execution_count": 172,
     "metadata": {},
     "output_type": "execute_result"
    }
   ],
   "source": [
    "df_class0.sample(count_class1).shape"
   ]
  },
  {
   "cell_type": "code",
   "execution_count": 173,
   "id": "fc135a8a",
   "metadata": {},
   "outputs": [],
   "source": [
    "df_class0_under=df_class0.sample(count_class1)\n",
    "df_under=pd.concat([df_class0_under, df_class1])"
   ]
  },
  {
   "cell_type": "code",
   "execution_count": 174,
   "id": "f20bf1ad",
   "metadata": {},
   "outputs": [
    {
     "data": {
      "text/plain": [
       "(1869, 27)"
      ]
     },
     "execution_count": 174,
     "metadata": {},
     "output_type": "execute_result"
    }
   ],
   "source": [
    "df_class0_under.shape"
   ]
  },
  {
   "cell_type": "code",
   "execution_count": 175,
   "id": "6bc5aa2c",
   "metadata": {},
   "outputs": [
    {
     "data": {
      "text/plain": [
       "(3738, 27)"
      ]
     },
     "execution_count": 175,
     "metadata": {},
     "output_type": "execute_result"
    }
   ],
   "source": [
    "df_under.shape"
   ]
  },
  {
   "cell_type": "code",
   "execution_count": 176,
   "id": "6f571d3d",
   "metadata": {},
   "outputs": [],
   "source": [
    "X=df_under.drop('Churn', axis='columns')\n",
    "y=df_under['Churn']\n",
    "\n",
    "from sklearn.model_selection import train_test_split\n",
    "X_train, X_test, y_train, y_test= train_test_split(X,y,test_size=0.3, random_state=15, stratify=y)"
   ]
  },
  {
   "cell_type": "code",
   "execution_count": 177,
   "id": "ab3fc975",
   "metadata": {},
   "outputs": [
    {
     "data": {
      "text/plain": [
       "(2616, 26)"
      ]
     },
     "execution_count": 177,
     "metadata": {},
     "output_type": "execute_result"
    }
   ],
   "source": [
    "X_train.shape"
   ]
  },
  {
   "cell_type": "code",
   "execution_count": 178,
   "id": "7a296b46",
   "metadata": {},
   "outputs": [
    {
     "data": {
      "text/plain": [
       "(2616,)"
      ]
     },
     "execution_count": 178,
     "metadata": {},
     "output_type": "execute_result"
    }
   ],
   "source": [
    "y_train.shape"
   ]
  },
  {
   "cell_type": "code",
   "execution_count": 179,
   "id": "7c2eea9e",
   "metadata": {},
   "outputs": [
    {
     "data": {
      "text/plain": [
       "0    1308\n",
       "1    1308\n",
       "Name: Churn, dtype: int64"
      ]
     },
     "execution_count": 179,
     "metadata": {},
     "output_type": "execute_result"
    }
   ],
   "source": [
    "y_train.value_counts()"
   ]
  },
  {
   "cell_type": "code",
   "execution_count": 180,
   "id": "3a0de97b",
   "metadata": {},
   "outputs": [
    {
     "name": "stdout",
     "output_type": "stream",
     "text": [
      "0.7468805704099821\n",
      "Classification Report\n",
      "               precision    recall  f1-score   support\n",
      "\n",
      "           0       0.77      0.70      0.73       561\n",
      "           1       0.73      0.80      0.76       561\n",
      "\n",
      "    accuracy                           0.75      1122\n",
      "   macro avg       0.75      0.75      0.75      1122\n",
      "weighted avg       0.75      0.75      0.75      1122\n",
      "\n"
     ]
    }
   ],
   "source": [
    "y_pred_log_under=reg(X_train,y_train,X_test,y_test,'binary_crossentropy')"
   ]
  },
  {
   "cell_type": "markdown",
   "id": "9c0dfbf8",
   "metadata": {},
   "source": [
    "## 2)Oversampling with Logistic Regression"
   ]
  },
  {
   "cell_type": "code",
   "execution_count": 192,
   "id": "6c43315d",
   "metadata": {},
   "outputs": [
    {
     "data": {
      "text/plain": [
       "(5163, 1869)"
      ]
     },
     "execution_count": 192,
     "metadata": {},
     "output_type": "execute_result"
    }
   ],
   "source": [
    "count_class0, count_class1"
   ]
  },
  {
   "cell_type": "code",
   "execution_count": 193,
   "id": "f9991e54",
   "metadata": {},
   "outputs": [],
   "source": [
    "df_class0=dfNew2[dfNew2['Churn'] ==0]\n",
    "df_class1=dfNew2[dfNew2['Churn'] ==1]"
   ]
  },
  {
   "cell_type": "code",
   "execution_count": 194,
   "id": "d3178bc6",
   "metadata": {},
   "outputs": [
    {
     "data": {
      "text/plain": [
       "((5163, 27), (1869, 27))"
      ]
     },
     "execution_count": 194,
     "metadata": {},
     "output_type": "execute_result"
    }
   ],
   "source": [
    "df_class0.shape, df_class1.shape"
   ]
  },
  {
   "cell_type": "code",
   "execution_count": 195,
   "id": "f46082cd",
   "metadata": {},
   "outputs": [
    {
     "data": {
      "text/plain": [
       "(5163, 27)"
      ]
     },
     "execution_count": 195,
     "metadata": {},
     "output_type": "execute_result"
    }
   ],
   "source": [
    "df_class1.sample(count_class0, replace=True).shape"
   ]
  },
  {
   "cell_type": "code",
   "execution_count": 197,
   "id": "f00ae9ab",
   "metadata": {},
   "outputs": [],
   "source": [
    "df_class1_over=df_class1.sample(count_class0, replace=True)\n",
    "df_over=pd.concat([df_class1_over, df_class0], axis=0)"
   ]
  },
  {
   "cell_type": "code",
   "execution_count": 199,
   "id": "c07ac41d",
   "metadata": {},
   "outputs": [
    {
     "data": {
      "text/plain": [
       "(10326, 27)"
      ]
     },
     "execution_count": 199,
     "metadata": {},
     "output_type": "execute_result"
    }
   ],
   "source": [
    "df_over.shape"
   ]
  },
  {
   "cell_type": "code",
   "execution_count": 200,
   "id": "f7be64d1",
   "metadata": {},
   "outputs": [],
   "source": [
    "X=df_over.drop('Churn', axis='columns')\n",
    "y=df_over['Churn']\n",
    "\n",
    "from sklearn.model_selection import train_test_split\n",
    "X_train, X_test, y_train, y_test= train_test_split(X,y,test_size=0.3, random_state=15, stratify=y)"
   ]
  },
  {
   "cell_type": "code",
   "execution_count": 201,
   "id": "014d7da6",
   "metadata": {},
   "outputs": [
    {
     "data": {
      "text/plain": [
       "(7228, 26)"
      ]
     },
     "execution_count": 201,
     "metadata": {},
     "output_type": "execute_result"
    }
   ],
   "source": [
    "X_train.shape"
   ]
  },
  {
   "cell_type": "code",
   "execution_count": 202,
   "id": "2dcc8d15",
   "metadata": {},
   "outputs": [
    {
     "data": {
      "text/plain": [
       "(7228,)"
      ]
     },
     "execution_count": 202,
     "metadata": {},
     "output_type": "execute_result"
    }
   ],
   "source": [
    "y_train.shape"
   ]
  },
  {
   "cell_type": "code",
   "execution_count": 203,
   "id": "70d9ada0",
   "metadata": {},
   "outputs": [
    {
     "data": {
      "text/plain": [
       "0    3614\n",
       "1    3614\n",
       "Name: Churn, dtype: int64"
      ]
     },
     "execution_count": 203,
     "metadata": {},
     "output_type": "execute_result"
    }
   ],
   "source": [
    "y_train.value_counts()"
   ]
  },
  {
   "cell_type": "code",
   "execution_count": 204,
   "id": "62801f31",
   "metadata": {},
   "outputs": [
    {
     "name": "stdout",
     "output_type": "stream",
     "text": [
      "0.7811491284699806\n",
      "Classification Report\n",
      "               precision    recall  f1-score   support\n",
      "\n",
      "           0       0.81      0.74      0.77      1549\n",
      "           1       0.76      0.83      0.79      1549\n",
      "\n",
      "    accuracy                           0.78      3098\n",
      "   macro avg       0.78      0.78      0.78      3098\n",
      "weighted avg       0.78      0.78      0.78      3098\n",
      "\n"
     ]
    }
   ],
   "source": [
    "y_pred_log_over=reg(X_train,y_train,X_test,y_test,'binary_crossentropy')"
   ]
  },
  {
   "cell_type": "markdown",
   "id": "5058b881",
   "metadata": {},
   "source": [
    "## 3) Oversampling using SMOTE with Logistic Regression"
   ]
  },
  {
   "cell_type": "code",
   "execution_count": 205,
   "id": "bc1f6e42",
   "metadata": {},
   "outputs": [
    {
     "data": {
      "text/plain": [
       "(5163, 1869)"
      ]
     },
     "execution_count": 205,
     "metadata": {},
     "output_type": "execute_result"
    }
   ],
   "source": [
    "count_class0, count_class1"
   ]
  },
  {
   "cell_type": "code",
   "execution_count": 206,
   "id": "d06089a6",
   "metadata": {},
   "outputs": [],
   "source": [
    "df_class0=dfNew2[dfNew2['Churn'] ==0]\n",
    "df_class1=dfNew2[dfNew2['Churn'] ==1]"
   ]
  },
  {
   "cell_type": "code",
   "execution_count": 207,
   "id": "b9e0dc69",
   "metadata": {},
   "outputs": [
    {
     "data": {
      "text/plain": [
       "((5163, 27), (1869, 27))"
      ]
     },
     "execution_count": 207,
     "metadata": {},
     "output_type": "execute_result"
    }
   ],
   "source": [
    "df_class0.shape, df_class1.shape"
   ]
  },
  {
   "cell_type": "code",
   "execution_count": 208,
   "id": "fa2b522e",
   "metadata": {},
   "outputs": [],
   "source": [
    "X=dfNew2.drop('Churn', axis='columns')\n",
    "y=dfNew2['Churn']"
   ]
  },
  {
   "cell_type": "code",
   "execution_count": 209,
   "id": "137bab46",
   "metadata": {},
   "outputs": [],
   "source": [
    "from imblearn.over_sampling import SMOTE"
   ]
  },
  {
   "cell_type": "code",
   "execution_count": 210,
   "id": "c0b67afd",
   "metadata": {},
   "outputs": [
    {
     "data": {
      "text/plain": [
       "0    5163\n",
       "1    5163\n",
       "Name: Churn, dtype: int64"
      ]
     },
     "execution_count": 210,
     "metadata": {},
     "output_type": "execute_result"
    }
   ],
   "source": [
    "smote=SMOTE(sampling_strategy='minority')\n",
    "X_sm, y_sm=smote.fit_resample(X,y)\n",
    "\n",
    "y_sm.value_counts()"
   ]
  },
  {
   "cell_type": "code",
   "execution_count": 211,
   "id": "23929410",
   "metadata": {},
   "outputs": [],
   "source": [
    "from sklearn.model_selection import train_test_split\n",
    "X_train, X_test, y_train, y_test= train_test_split(X_sm,y_sm,test_size=0.3, random_state=15, stratify=y_sm)"
   ]
  },
  {
   "cell_type": "code",
   "execution_count": 212,
   "id": "8520fff9",
   "metadata": {},
   "outputs": [
    {
     "data": {
      "text/plain": [
       "0    3614\n",
       "1    3614\n",
       "Name: Churn, dtype: int64"
      ]
     },
     "execution_count": 212,
     "metadata": {},
     "output_type": "execute_result"
    }
   ],
   "source": [
    "y_train.value_counts()"
   ]
  },
  {
   "cell_type": "code",
   "execution_count": 213,
   "id": "41164c55",
   "metadata": {
    "scrolled": true
   },
   "outputs": [
    {
     "name": "stdout",
     "output_type": "stream",
     "text": [
      "0.8018076178179471\n",
      "Classification Report\n",
      "               precision    recall  f1-score   support\n",
      "\n",
      "           0       0.82      0.77      0.80      1549\n",
      "           1       0.79      0.83      0.81      1549\n",
      "\n",
      "    accuracy                           0.80      3098\n",
      "   macro avg       0.80      0.80      0.80      3098\n",
      "weighted avg       0.80      0.80      0.80      3098\n",
      "\n"
     ]
    }
   ],
   "source": [
    "y_pred_log_smote=reg(X_train,y_train,X_test,y_test,'binary_crossentropy')"
   ]
  },
  {
   "cell_type": "markdown",
   "id": "10e3df3a",
   "metadata": {},
   "source": [
    "## 4) Ensemble with Logistic Regression"
   ]
  },
  {
   "cell_type": "code",
   "execution_count": 214,
   "id": "0c03c5d6",
   "metadata": {},
   "outputs": [
    {
     "data": {
      "text/plain": [
       "0    5163\n",
       "1    1869\n",
       "Name: Churn, dtype: int64"
      ]
     },
     "execution_count": 214,
     "metadata": {},
     "output_type": "execute_result"
    }
   ],
   "source": [
    "dfNew2.Churn.value_counts()"
   ]
  },
  {
   "cell_type": "code",
   "execution_count": 216,
   "id": "20defcff",
   "metadata": {},
   "outputs": [],
   "source": [
    "X = dfNew2.drop('Churn',axis='columns')\n",
    "y = dfNew2['Churn']"
   ]
  },
  {
   "cell_type": "code",
   "execution_count": 217,
   "id": "3520cbcd",
   "metadata": {},
   "outputs": [],
   "source": [
    "from sklearn.model_selection import train_test_split\n",
    "X_train, X_test, y_train, y_test = train_test_split(X, y, test_size=0.3, random_state=15, stratify=y)"
   ]
  },
  {
   "cell_type": "code",
   "execution_count": 218,
   "id": "27c5ebae",
   "metadata": {},
   "outputs": [
    {
     "data": {
      "text/plain": [
       "0    3614\n",
       "1    1308\n",
       "Name: Churn, dtype: int64"
      ]
     },
     "execution_count": 218,
     "metadata": {},
     "output_type": "execute_result"
    }
   ],
   "source": [
    "y_train.value_counts()"
   ]
  },
  {
   "cell_type": "code",
   "execution_count": 219,
   "id": "71a7e4d7",
   "metadata": {},
   "outputs": [],
   "source": [
    "model = LogisticRegression()\n",
    "\n",
    "df3 = X_train.copy()\n",
    "df3['Churn'] = y_train"
   ]
  },
  {
   "cell_type": "code",
   "execution_count": 220,
   "id": "c0e12795",
   "metadata": {},
   "outputs": [
    {
     "data": {
      "text/html": [
       "<div>\n",
       "<style scoped>\n",
       "    .dataframe tbody tr th:only-of-type {\n",
       "        vertical-align: middle;\n",
       "    }\n",
       "\n",
       "    .dataframe tbody tr th {\n",
       "        vertical-align: top;\n",
       "    }\n",
       "\n",
       "    .dataframe thead th {\n",
       "        text-align: right;\n",
       "    }\n",
       "</style>\n",
       "<table border=\"1\" class=\"dataframe\">\n",
       "  <thead>\n",
       "    <tr style=\"text-align: right;\">\n",
       "      <th></th>\n",
       "      <th>gender</th>\n",
       "      <th>SeniorCitizen</th>\n",
       "      <th>Partner</th>\n",
       "      <th>Dependents</th>\n",
       "      <th>tenure</th>\n",
       "      <th>PhoneService</th>\n",
       "      <th>MultipleLines</th>\n",
       "      <th>OnlineSecurity</th>\n",
       "      <th>OnlineBackup</th>\n",
       "      <th>DeviceProtection</th>\n",
       "      <th>...</th>\n",
       "      <th>InternetService_Fiber optic</th>\n",
       "      <th>InternetService_No</th>\n",
       "      <th>Contract_Month-to-month</th>\n",
       "      <th>Contract_One year</th>\n",
       "      <th>Contract_Two year</th>\n",
       "      <th>PaymentMethod_Bank transfer (automatic)</th>\n",
       "      <th>PaymentMethod_Credit card (automatic)</th>\n",
       "      <th>PaymentMethod_Electronic check</th>\n",
       "      <th>PaymentMethod_Mailed check</th>\n",
       "      <th>Churn</th>\n",
       "    </tr>\n",
       "  </thead>\n",
       "  <tbody>\n",
       "    <tr>\n",
       "      <th>66</th>\n",
       "      <td>0</td>\n",
       "      <td>0</td>\n",
       "      <td>1</td>\n",
       "      <td>0</td>\n",
       "      <td>0.647887</td>\n",
       "      <td>1</td>\n",
       "      <td>1</td>\n",
       "      <td>0</td>\n",
       "      <td>1</td>\n",
       "      <td>0</td>\n",
       "      <td>...</td>\n",
       "      <td>1</td>\n",
       "      <td>0</td>\n",
       "      <td>0</td>\n",
       "      <td>1</td>\n",
       "      <td>0</td>\n",
       "      <td>0</td>\n",
       "      <td>0</td>\n",
       "      <td>1</td>\n",
       "      <td>0</td>\n",
       "      <td>0</td>\n",
       "    </tr>\n",
       "    <tr>\n",
       "      <th>5641</th>\n",
       "      <td>0</td>\n",
       "      <td>0</td>\n",
       "      <td>0</td>\n",
       "      <td>1</td>\n",
       "      <td>0.535211</td>\n",
       "      <td>1</td>\n",
       "      <td>1</td>\n",
       "      <td>0</td>\n",
       "      <td>0</td>\n",
       "      <td>0</td>\n",
       "      <td>...</td>\n",
       "      <td>0</td>\n",
       "      <td>1</td>\n",
       "      <td>0</td>\n",
       "      <td>1</td>\n",
       "      <td>0</td>\n",
       "      <td>1</td>\n",
       "      <td>0</td>\n",
       "      <td>0</td>\n",
       "      <td>0</td>\n",
       "      <td>0</td>\n",
       "    </tr>\n",
       "    <tr>\n",
       "      <th>3453</th>\n",
       "      <td>1</td>\n",
       "      <td>0</td>\n",
       "      <td>1</td>\n",
       "      <td>0</td>\n",
       "      <td>0.971831</td>\n",
       "      <td>1</td>\n",
       "      <td>1</td>\n",
       "      <td>0</td>\n",
       "      <td>0</td>\n",
       "      <td>1</td>\n",
       "      <td>...</td>\n",
       "      <td>1</td>\n",
       "      <td>0</td>\n",
       "      <td>0</td>\n",
       "      <td>1</td>\n",
       "      <td>0</td>\n",
       "      <td>0</td>\n",
       "      <td>0</td>\n",
       "      <td>1</td>\n",
       "      <td>0</td>\n",
       "      <td>0</td>\n",
       "    </tr>\n",
       "    <tr>\n",
       "      <th>2121</th>\n",
       "      <td>0</td>\n",
       "      <td>0</td>\n",
       "      <td>0</td>\n",
       "      <td>0</td>\n",
       "      <td>0.000000</td>\n",
       "      <td>1</td>\n",
       "      <td>0</td>\n",
       "      <td>0</td>\n",
       "      <td>0</td>\n",
       "      <td>0</td>\n",
       "      <td>...</td>\n",
       "      <td>0</td>\n",
       "      <td>1</td>\n",
       "      <td>1</td>\n",
       "      <td>0</td>\n",
       "      <td>0</td>\n",
       "      <td>0</td>\n",
       "      <td>0</td>\n",
       "      <td>0</td>\n",
       "      <td>1</td>\n",
       "      <td>0</td>\n",
       "    </tr>\n",
       "    <tr>\n",
       "      <th>6283</th>\n",
       "      <td>1</td>\n",
       "      <td>0</td>\n",
       "      <td>0</td>\n",
       "      <td>0</td>\n",
       "      <td>0.028169</td>\n",
       "      <td>1</td>\n",
       "      <td>0</td>\n",
       "      <td>1</td>\n",
       "      <td>0</td>\n",
       "      <td>1</td>\n",
       "      <td>...</td>\n",
       "      <td>1</td>\n",
       "      <td>0</td>\n",
       "      <td>1</td>\n",
       "      <td>0</td>\n",
       "      <td>0</td>\n",
       "      <td>0</td>\n",
       "      <td>1</td>\n",
       "      <td>0</td>\n",
       "      <td>0</td>\n",
       "      <td>1</td>\n",
       "    </tr>\n",
       "  </tbody>\n",
       "</table>\n",
       "<p>5 rows × 27 columns</p>\n",
       "</div>"
      ],
      "text/plain": [
       "      gender  SeniorCitizen  Partner  Dependents    tenure  PhoneService  \\\n",
       "66         0              0        1           0  0.647887             1   \n",
       "5641       0              0        0           1  0.535211             1   \n",
       "3453       1              0        1           0  0.971831             1   \n",
       "2121       0              0        0           0  0.000000             1   \n",
       "6283       1              0        0           0  0.028169             1   \n",
       "\n",
       "      MultipleLines  OnlineSecurity  OnlineBackup  DeviceProtection  ...  \\\n",
       "66                1               0             1                 0  ...   \n",
       "5641              1               0             0                 0  ...   \n",
       "3453              1               0             0                 1  ...   \n",
       "2121              0               0             0                 0  ...   \n",
       "6283              0               1             0                 1  ...   \n",
       "\n",
       "      InternetService_Fiber optic  InternetService_No  \\\n",
       "66                              1                   0   \n",
       "5641                            0                   1   \n",
       "3453                            1                   0   \n",
       "2121                            0                   1   \n",
       "6283                            1                   0   \n",
       "\n",
       "      Contract_Month-to-month  Contract_One year  Contract_Two year  \\\n",
       "66                          0                  1                  0   \n",
       "5641                        0                  1                  0   \n",
       "3453                        0                  1                  0   \n",
       "2121                        1                  0                  0   \n",
       "6283                        1                  0                  0   \n",
       "\n",
       "      PaymentMethod_Bank transfer (automatic)  \\\n",
       "66                                          0   \n",
       "5641                                        1   \n",
       "3453                                        0   \n",
       "2121                                        0   \n",
       "6283                                        0   \n",
       "\n",
       "      PaymentMethod_Credit card (automatic)  PaymentMethod_Electronic check  \\\n",
       "66                                        0                               1   \n",
       "5641                                      0                               0   \n",
       "3453                                      0                               1   \n",
       "2121                                      0                               0   \n",
       "6283                                      1                               0   \n",
       "\n",
       "      PaymentMethod_Mailed check  Churn  \n",
       "66                             0      0  \n",
       "5641                           0      0  \n",
       "3453                           0      0  \n",
       "2121                           1      0  \n",
       "6283                           0      1  \n",
       "\n",
       "[5 rows x 27 columns]"
      ]
     },
     "execution_count": 220,
     "metadata": {},
     "output_type": "execute_result"
    }
   ],
   "source": [
    "df3.head()"
   ]
  },
  {
   "cell_type": "code",
   "execution_count": 221,
   "id": "43e8a647",
   "metadata": {},
   "outputs": [],
   "source": [
    "df3_class0 = df3[df3.Churn==0]\n",
    "df3_class1 = df3[df3.Churn==1]"
   ]
  },
  {
   "cell_type": "code",
   "execution_count": 223,
   "id": "bdb9e066",
   "metadata": {},
   "outputs": [
    {
     "data": {
      "text/plain": [
       "((3614, 27), (1308, 27))"
      ]
     },
     "execution_count": 223,
     "metadata": {},
     "output_type": "execute_result"
    }
   ],
   "source": [
    "df3_class0.shape, df3_class1.shape"
   ]
  },
  {
   "cell_type": "code",
   "execution_count": 224,
   "id": "e34172ff",
   "metadata": {},
   "outputs": [],
   "source": [
    "def ensemble_batch_reg(df_majority, df_minority, start,end):\n",
    "    df_train=pd.concat([df_majority[start: end], df_minority], axis=0)\n",
    "    X_train= df_train.drop('Churn', axis='columns')\n",
    "    y_train=df_train['Churn']\n",
    "    \n",
    "    return X_train, y_train"
   ]
  },
  {
   "cell_type": "code",
   "execution_count": 225,
   "id": "fec2c46b",
   "metadata": {},
   "outputs": [],
   "source": [
    "X_train, y_train= ensemble_batch_reg(df3_class0, df3_class1, 0,1308)\n",
    "\n",
    "model1= LogisticRegression()\n",
    "model1.fit(X_train, y_train)\n",
    "y_pred1=model1.predict(X_test)"
   ]
  },
  {
   "cell_type": "code",
   "execution_count": 226,
   "id": "fb1052a1",
   "metadata": {},
   "outputs": [],
   "source": [
    "X_train, y_train= ensemble_batch_reg(df3_class0, df3_class1, 1308,2616)\n",
    "\n",
    "model2= LogisticRegression()\n",
    "model2.fit(X_train, y_train)\n",
    "y_pred2=model2.predict(X_test)"
   ]
  },
  {
   "cell_type": "code",
   "execution_count": 227,
   "id": "d02af5d7",
   "metadata": {},
   "outputs": [],
   "source": [
    "X_train, y_train= ensemble_batch_reg(df3_class0, df3_class1, 2616,3614)\n",
    "\n",
    "model3= LogisticRegression()\n",
    "model3.fit(X_train, y_train)\n",
    "y_pred3=model3.predict(X_test)"
   ]
  },
  {
   "cell_type": "code",
   "execution_count": 228,
   "id": "6d23831b",
   "metadata": {},
   "outputs": [
    {
     "data": {
      "text/plain": [
       "2110"
      ]
     },
     "execution_count": 228,
     "metadata": {},
     "output_type": "execute_result"
    }
   ],
   "source": [
    "len(y_pred1)"
   ]
  },
  {
   "cell_type": "code",
   "execution_count": 229,
   "id": "b3e1ab8c",
   "metadata": {},
   "outputs": [
    {
     "data": {
      "text/plain": [
       "2110"
      ]
     },
     "execution_count": 229,
     "metadata": {},
     "output_type": "execute_result"
    }
   ],
   "source": [
    "len(y_pred2)"
   ]
  },
  {
   "cell_type": "code",
   "execution_count": 230,
   "id": "b740bb00",
   "metadata": {},
   "outputs": [
    {
     "data": {
      "text/plain": [
       "2110"
      ]
     },
     "execution_count": 230,
     "metadata": {},
     "output_type": "execute_result"
    }
   ],
   "source": [
    "len(y_pred3)"
   ]
  },
  {
   "cell_type": "code",
   "execution_count": 231,
   "id": "193bf6cf",
   "metadata": {},
   "outputs": [],
   "source": [
    "y_pred_final = y_pred1.copy()\n",
    "for i in range(len(y_pred1)):\n",
    "    n_ones = y_pred1[i] + y_pred2[i] + y_pred3[i]\n",
    "    if n_ones>1:\n",
    "        y_pred_final[i] = 1\n",
    "    else:\n",
    "        y_pred_final[i] = 0"
   ]
  },
  {
   "cell_type": "code",
   "execution_count": 232,
   "id": "c8098aa4",
   "metadata": {},
   "outputs": [
    {
     "name": "stdout",
     "output_type": "stream",
     "text": [
      "              precision    recall  f1-score   support\n",
      "\n",
      "           0       0.91      0.73      0.81      1549\n",
      "           1       0.52      0.80      0.63       561\n",
      "\n",
      "    accuracy                           0.75      2110\n",
      "   macro avg       0.71      0.77      0.72      2110\n",
      "weighted avg       0.81      0.75      0.76      2110\n",
      "\n"
     ]
    }
   ],
   "source": [
    "print(classification_report(y_test, y_pred_final))"
   ]
  },
  {
   "cell_type": "code",
   "execution_count": null,
   "id": "41bd2f24",
   "metadata": {},
   "outputs": [],
   "source": []
  }
 ],
 "metadata": {
  "kernelspec": {
   "display_name": "Python 3",
   "language": "python",
   "name": "python3"
  },
  "language_info": {
   "codemirror_mode": {
    "name": "ipython",
    "version": 3
   },
   "file_extension": ".py",
   "mimetype": "text/x-python",
   "name": "python",
   "nbconvert_exporter": "python",
   "pygments_lexer": "ipython3",
   "version": "3.8.8"
  }
 },
 "nbformat": 4,
 "nbformat_minor": 5
}
