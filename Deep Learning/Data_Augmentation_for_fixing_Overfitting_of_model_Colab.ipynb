{
  "nbformat": 4,
  "nbformat_minor": 0,
  "metadata": {
    "colab": {
      "name": "Data_Augmentation_for_fixing_Overfitting_of_model.ipynb",
      "provenance": [],
      "collapsed_sections": [],
      "toc_visible": true
    },
    "kernelspec": {
      "name": "python3",
      "display_name": "Python 3"
    },
    "language_info": {
      "name": "python"
    },
    "accelerator": "GPU"
  },
  "cells": [
    {
      "cell_type": "markdown",
      "source": [
        "# Data Augmentation for fixing the problem of Overfitting the model\n",
        "\n",
        "> In this notebook we will build a CNN to classify flower images. We will also see how our model overfits and how overfitting can be addressed using data augmentation. \n",
        "\n",
        "> Data augmentation is a process of generating new training samples from current training dataset using transformations such as zoom, rotations, change in contrast etc"
      ],
      "metadata": {
        "id": "OPQ4vMuINi4L"
      }
    },
    {
      "cell_type": "code",
      "source": [
        "import matplotlib.pyplot as plt\n",
        "import numpy as np\n",
        "import cv2\n",
        "import os\n",
        "import PIL\n",
        "import tensorflow as tf\n",
        "\n",
        "from tensorflow import keras\n",
        "from tensorflow.keras import layers\n",
        "from tensorflow.keras.models import Sequential"
      ],
      "metadata": {
        "id": "CuTLJ4hdN6_X"
      },
      "execution_count": 1,
      "outputs": []
    },
    {
      "cell_type": "code",
      "source": [
        "dataset_url = \"https://storage.googleapis.com/download.tensorflow.org/example_images/flower_photos.tgz\"\n",
        "data_dir = tf.keras.utils.get_file('flower_photos', origin=dataset_url,  cache_dir='.', untar=True)\n",
        "# cache_dir indicates where to download data. I specified . which means current directory\n",
        "# untar true will unzip it"
      ],
      "metadata": {
        "colab": {
          "base_uri": "https://localhost:8080/"
        },
        "id": "5nH-sc5UN_dn",
        "outputId": "d2f62cc2-001d-4f60-acec-f4109589b69a"
      },
      "execution_count": 2,
      "outputs": [
        {
          "output_type": "stream",
          "name": "stdout",
          "text": [
            "Downloading data from https://storage.googleapis.com/download.tensorflow.org/example_images/flower_photos.tgz\n",
            "228818944/228813984 [==============================] - 3s 0us/step\n",
            "228827136/228813984 [==============================] - 3s 0us/step\n"
          ]
        }
      ]
    },
    {
      "cell_type": "code",
      "source": [
        "data_dir"
      ],
      "metadata": {
        "colab": {
          "base_uri": "https://localhost:8080/",
          "height": 37
        },
        "id": "OvBjK24BOlCq",
        "outputId": "73cddff5-d16c-4400-e812-3ec04937356b"
      },
      "execution_count": 3,
      "outputs": [
        {
          "output_type": "execute_result",
          "data": {
            "application/vnd.google.colaboratory.intrinsic+json": {
              "type": "string"
            },
            "text/plain": [
              "'./datasets/flower_photos'"
            ]
          },
          "metadata": {},
          "execution_count": 3
        }
      ]
    },
    {
      "cell_type": "code",
      "source": [
        "import pathlib\n",
        "data_dir=pathlib.Path(data_dir)\n",
        "data_dir"
      ],
      "metadata": {
        "colab": {
          "base_uri": "https://localhost:8080/"
        },
        "id": "Z3Z5xNLhOt1e",
        "outputId": "e1f16b5c-1f07-46cc-818d-3cacc04ff355"
      },
      "execution_count": 4,
      "outputs": [
        {
          "output_type": "execute_result",
          "data": {
            "text/plain": [
              "PosixPath('datasets/flower_photos')"
            ]
          },
          "metadata": {},
          "execution_count": 4
        }
      ]
    },
    {
      "cell_type": "code",
      "source": [
        "list(data_dir.glob('*/*.jpg'))"
      ],
      "metadata": {
        "colab": {
          "base_uri": "https://localhost:8080/"
        },
        "id": "Z_PrZRxGTq4K",
        "outputId": "95acbe27-d2a0-45d9-bd62-b88828f46baf"
      },
      "execution_count": 5,
      "outputs": [
        {
          "output_type": "execute_result",
          "data": {
            "text/plain": [
              "[PosixPath('datasets/flower_photos/sunflowers/200557981_f800fa1af9.jpg'),\n",
              " PosixPath('datasets/flower_photos/sunflowers/4821232343_7e0bcfbfdf_n.jpg'),\n",
              " PosixPath('datasets/flower_photos/sunflowers/3568925290_faf7aec3a0.jpg'),\n",
              " PosixPath('datasets/flower_photos/sunflowers/14646283472_50a3ae1395.jpg'),\n",
              " PosixPath('datasets/flower_photos/sunflowers/4805544785_a63241f6d0_n.jpg'),\n",
              " PosixPath('datasets/flower_photos/sunflowers/8543642705_b841b0e5f6.jpg'),\n",
              " PosixPath('datasets/flower_photos/sunflowers/7510262868_cf7d6f6f25_n.jpg'),\n",
              " PosixPath('datasets/flower_photos/sunflowers/22478719251_276cb094f9_n.jpg'),\n",
              " PosixPath('datasets/flower_photos/sunflowers/5917253022_4e3142d48b_n.jpg'),\n",
              " PosixPath('datasets/flower_photos/sunflowers/9216286162_6ceefdd1b4_m.jpg'),\n",
              " PosixPath('datasets/flower_photos/sunflowers/3912497870_a2f91c3a65_n.jpg'),\n",
              " PosixPath('datasets/flower_photos/sunflowers/2894191705_a1d2d80c80.jpg'),\n",
              " PosixPath('datasets/flower_photos/sunflowers/5437996076_cf7e2ac32e_n.jpg'),\n",
              " PosixPath('datasets/flower_photos/sunflowers/2588453601_66f2a03cca_n.jpg'),\n",
              " PosixPath('datasets/flower_photos/sunflowers/184682652_c927a49226_m.jpg'),\n",
              " PosixPath('datasets/flower_photos/sunflowers/16656015339_2ccb7cd18d.jpg'),\n",
              " PosixPath('datasets/flower_photos/sunflowers/14901528533_ac1ce09063.jpg'),\n",
              " PosixPath('datasets/flower_photos/sunflowers/8021568040_f891223c44_n.jpg'),\n",
              " PosixPath('datasets/flower_photos/sunflowers/4895719476_bd3b6bd6fd_n.jpg'),\n",
              " PosixPath('datasets/flower_photos/sunflowers/5139977579_ea2dd6a322_m.jpg'),\n",
              " PosixPath('datasets/flower_photos/sunflowers/2895404754_6d9f9416d7_n.jpg'),\n",
              " PosixPath('datasets/flower_photos/sunflowers/20905163782_312e2c3bda_n.jpg'),\n",
              " PosixPath('datasets/flower_photos/sunflowers/7820626738_3be6a52e4e_n.jpg'),\n",
              " PosixPath('datasets/flower_photos/sunflowers/14266917699_91b207888e.jpg'),\n",
              " PosixPath('datasets/flower_photos/sunflowers/17433282043_441b0a07f4_n.jpg'),\n",
              " PosixPath('datasets/flower_photos/sunflowers/8071460469_a7c2c34b97_n.jpg'),\n",
              " PosixPath('datasets/flower_photos/sunflowers/2940221732_3507f3e927_n.jpg'),\n",
              " PosixPath('datasets/flower_photos/sunflowers/9431896325_23bf6e8761.jpg'),\n",
              " PosixPath('datasets/flower_photos/sunflowers/4932143849_018486cbf7.jpg'),\n",
              " PosixPath('datasets/flower_photos/sunflowers/15118397087_bfb7ea70d5_n.jpg'),\n",
              " PosixPath('datasets/flower_photos/sunflowers/15026703621_e15e9d55f0_n.jpg'),\n",
              " PosixPath('datasets/flower_photos/sunflowers/2767658405_1e2043f44c_n.jpg'),\n",
              " PosixPath('datasets/flower_photos/sunflowers/3893436870_034b79d118_n.jpg'),\n",
              " PosixPath('datasets/flower_photos/sunflowers/1379256773_bb2eb0d95b_n.jpg'),\n",
              " PosixPath('datasets/flower_photos/sunflowers/2425164088_4a5d2cdf21_n.jpg'),\n",
              " PosixPath('datasets/flower_photos/sunflowers/3514340206_efb8198a80_n.jpg'),\n",
              " PosixPath('datasets/flower_photos/sunflowers/4933822272_79af205b94.jpg'),\n",
              " PosixPath('datasets/flower_photos/sunflowers/15054750690_198b6ab0f2_n.jpg'),\n",
              " PosixPath('datasets/flower_photos/sunflowers/2767688889_b176b0c3fb.jpg'),\n",
              " PosixPath('datasets/flower_photos/sunflowers/20621698991_dcb323911d.jpg'),\n",
              " PosixPath('datasets/flower_photos/sunflowers/7721658400_0dec46d225.jpg'),\n",
              " PosixPath('datasets/flower_photos/sunflowers/235651658_a7b3e7cbdd.jpg'),\n",
              " PosixPath('datasets/flower_photos/sunflowers/13117907313_86c99c6441.jpg'),\n",
              " PosixPath('datasets/flower_photos/sunflowers/4673984698_6ec14d5b79.jpg'),\n",
              " PosixPath('datasets/flower_photos/sunflowers/14741813110_94964c39e2_n.jpg'),\n",
              " PosixPath('datasets/flower_photos/sunflowers/4746638094_f5336788a0_n.jpg'),\n",
              " PosixPath('datasets/flower_photos/sunflowers/310380634_60e6c79989.jpg'),\n",
              " PosixPath('datasets/flower_photos/sunflowers/3154932290_4bf43bd34f_n.jpg'),\n",
              " PosixPath('datasets/flower_photos/sunflowers/5995136822_8e1eed76f5_n.jpg'),\n",
              " PosixPath('datasets/flower_photos/sunflowers/184682320_73ccf74710.jpg'),\n",
              " PosixPath('datasets/flower_photos/sunflowers/1788133737_b1133d1aa7.jpg'),\n",
              " PosixPath('datasets/flower_photos/sunflowers/15054864508_0334b892be_m.jpg'),\n",
              " PosixPath('datasets/flower_photos/sunflowers/3840761441_7c648abf4d_n.jpg'),\n",
              " PosixPath('datasets/flower_photos/sunflowers/265450085_6e9f276e2e.jpg'),\n",
              " PosixPath('datasets/flower_photos/sunflowers/5896354497_6a19162741.jpg'),\n",
              " PosixPath('datasets/flower_photos/sunflowers/6866250080_ae80df0cd5_m.jpg'),\n",
              " PosixPath('datasets/flower_photos/sunflowers/2706304885_4916102704_n.jpg'),\n",
              " PosixPath('datasets/flower_photos/sunflowers/7581713708_8eae6794f2.jpg'),\n",
              " PosixPath('datasets/flower_photos/sunflowers/5994569021_749d5e2da3_n.jpg'),\n",
              " PosixPath('datasets/flower_photos/sunflowers/8234846550_fdaf326dbe.jpg'),\n",
              " PosixPath('datasets/flower_photos/sunflowers/5979669004_d9736206c9_n.jpg'),\n",
              " PosixPath('datasets/flower_photos/sunflowers/6606813305_c992231d29_m.jpg'),\n",
              " PosixPath('datasets/flower_photos/sunflowers/24459750_eb49f6e4cb_m.jpg'),\n",
              " PosixPath('datasets/flower_photos/sunflowers/10386525005_fd0b7d6c55_n.jpg'),\n",
              " PosixPath('datasets/flower_photos/sunflowers/4746668678_0e2693b1b9_n.jpg'),\n",
              " PosixPath('datasets/flower_photos/sunflowers/4980406384_791774d953.jpg'),\n",
              " PosixPath('datasets/flower_photos/sunflowers/678714585_addc9aaaef.jpg'),\n",
              " PosixPath('datasets/flower_photos/sunflowers/5970301989_fe3a68aac8_m.jpg'),\n",
              " PosixPath('datasets/flower_photos/sunflowers/15973657966_d6f6005539_n.jpg'),\n",
              " PosixPath('datasets/flower_photos/sunflowers/4933823194_33f6e32c5a.jpg'),\n",
              " PosixPath('datasets/flower_photos/sunflowers/215798357_3f4bfa27b7.jpg'),\n",
              " PosixPath('datasets/flower_photos/sunflowers/5223643767_d8beb7e410.jpg'),\n",
              " PosixPath('datasets/flower_photos/sunflowers/45045003_30bbd0a142_m.jpg'),\n",
              " PosixPath('datasets/flower_photos/sunflowers/184683023_737fec5b18.jpg'),\n",
              " PosixPath('datasets/flower_photos/sunflowers/2443921986_d4582c123a.jpg'),\n",
              " PosixPath('datasets/flower_photos/sunflowers/9558632814_e78a780f4f.jpg'),\n",
              " PosixPath('datasets/flower_photos/sunflowers/4398771472_44f2a0c162_n.jpg'),\n",
              " PosixPath('datasets/flower_photos/sunflowers/3846907701_e13b66aa87.jpg'),\n",
              " PosixPath('datasets/flower_photos/sunflowers/14244410747_22691ece4a_n.jpg'),\n",
              " PosixPath('datasets/flower_photos/sunflowers/4755705724_976621a1e7.jpg'),\n",
              " PosixPath('datasets/flower_photos/sunflowers/14814264272_4b39a102f9_n.jpg'),\n",
              " PosixPath('datasets/flower_photos/sunflowers/3334350831_f8755a2095_n.jpg'),\n",
              " PosixPath('datasets/flower_photos/sunflowers/7270375648_79f0caef42_n.jpg'),\n",
              " PosixPath('datasets/flower_photos/sunflowers/12471290635_1f9e3aae16_n.jpg'),\n",
              " PosixPath('datasets/flower_photos/sunflowers/5955500463_6c08cb199e.jpg'),\n",
              " PosixPath('datasets/flower_photos/sunflowers/14741907467_fab96f3b2b_n.jpg'),\n",
              " PosixPath('datasets/flower_photos/sunflowers/5231868667_f0baa71feb_n.jpg'),\n",
              " PosixPath('datasets/flower_photos/sunflowers/23286304156_3635f7de05.jpg'),\n",
              " PosixPath('datasets/flower_photos/sunflowers/6112510436_9fe06e695a_n.jpg'),\n",
              " PosixPath('datasets/flower_photos/sunflowers/7654774598_6b715a8d3e.jpg'),\n",
              " PosixPath('datasets/flower_photos/sunflowers/4895718876_0246882882_n.jpg'),\n",
              " PosixPath('datasets/flower_photos/sunflowers/8563099326_8be9177101.jpg'),\n",
              " PosixPath('datasets/flower_photos/sunflowers/10386702973_e74a34c806_n.jpg'),\n",
              " PosixPath('datasets/flower_photos/sunflowers/2588234269_c4bfd0d8b9_n.jpg'),\n",
              " PosixPath('datasets/flower_photos/sunflowers/22755811033_cd17b109e0.jpg'),\n",
              " PosixPath('datasets/flower_photos/sunflowers/22203670478_9ec5c2700b_n.jpg'),\n",
              " PosixPath('datasets/flower_photos/sunflowers/5139969871_c9046bdaa7_n.jpg'),\n",
              " PosixPath('datasets/flower_photos/sunflowers/3865206264_5d81584bba.jpg'),\n",
              " PosixPath('datasets/flower_photos/sunflowers/50987813_7484bfbcdf.jpg'),\n",
              " PosixPath('datasets/flower_photos/sunflowers/9461693602_710f20904f.jpg'),\n",
              " PosixPath('datasets/flower_photos/sunflowers/21349789961_18ba1af5b7_n.jpg'),\n",
              " PosixPath('datasets/flower_photos/sunflowers/20972866151_e6a928b00a.jpg'),\n",
              " PosixPath('datasets/flower_photos/sunflowers/22183529245_ce13557515_m.jpg'),\n",
              " PosixPath('datasets/flower_photos/sunflowers/2883115609_5a69357b5d_m.jpg'),\n",
              " PosixPath('datasets/flower_photos/sunflowers/8081530919_c882d46bb0_n.jpg'),\n",
              " PosixPath('datasets/flower_photos/sunflowers/1022552002_2b93faf9e7_n.jpg'),\n",
              " PosixPath('datasets/flower_photos/sunflowers/14932787983_d6e05f2434_m.jpg'),\n",
              " PosixPath('datasets/flower_photos/sunflowers/9558627290_353a14ba0b_m.jpg'),\n",
              " PosixPath('datasets/flower_photos/sunflowers/9483429732_5ae73eb672_n.jpg'),\n",
              " PosixPath('datasets/flower_photos/sunflowers/201809908_0ef84bb351.jpg'),\n",
              " PosixPath('datasets/flower_photos/sunflowers/18097401209_910a46fae1_n.jpg'),\n",
              " PosixPath('datasets/flower_photos/sunflowers/19710076021_f5bb162540.jpg'),\n",
              " PosixPath('datasets/flower_photos/sunflowers/35477171_13cb52115c_n.jpg'),\n",
              " PosixPath('datasets/flower_photos/sunflowers/4414084638_03d2db38ae.jpg'),\n",
              " PosixPath('datasets/flower_photos/sunflowers/3681233294_4f06cd8903.jpg'),\n",
              " PosixPath('datasets/flower_photos/sunflowers/20410533613_56da1cce7c.jpg'),\n",
              " PosixPath('datasets/flower_photos/sunflowers/20481273479_d459834a3e_n.jpg'),\n",
              " PosixPath('datasets/flower_photos/sunflowers/5339004958_a0a6f385fd_m.jpg'),\n",
              " PosixPath('datasets/flower_photos/sunflowers/5492906452_80943bfd04.jpg'),\n",
              " PosixPath('datasets/flower_photos/sunflowers/4933230247_a0432f01da.jpg'),\n",
              " PosixPath('datasets/flower_photos/sunflowers/19504937128_a4ae90fcbd_m.jpg'),\n",
              " PosixPath('datasets/flower_photos/sunflowers/2721638730_34a9b7a78b.jpg'),\n",
              " PosixPath('datasets/flower_photos/sunflowers/5028817729_f04d32bac8_n.jpg'),\n",
              " PosixPath('datasets/flower_photos/sunflowers/40411100_7fbe10ec0f_n.jpg'),\n",
              " PosixPath('datasets/flower_photos/sunflowers/4933822422_4f54fc7cc8.jpg'),\n",
              " PosixPath('datasets/flower_photos/sunflowers/7176729812_7c053921fb_m.jpg'),\n",
              " PosixPath('datasets/flower_photos/sunflowers/20658775992_1619cd0a9b_n.jpg'),\n",
              " PosixPath('datasets/flower_photos/sunflowers/4989952542_35f2cdd5e2_n.jpg'),\n",
              " PosixPath('datasets/flower_photos/sunflowers/15054753070_4f6ae0e763_m.jpg'),\n",
              " PosixPath('datasets/flower_photos/sunflowers/2823659190_afdabee45c.jpg'),\n",
              " PosixPath('datasets/flower_photos/sunflowers/2927020075_54c9186797_n.jpg'),\n",
              " PosixPath('datasets/flower_photos/sunflowers/9482209981_bf7bf6022b_m.jpg'),\n",
              " PosixPath('datasets/flower_photos/sunflowers/3196753837_411b03682d_n.jpg'),\n",
              " PosixPath('datasets/flower_photos/sunflowers/16975010069_7afd290657_m.jpg'),\n",
              " PosixPath('datasets/flower_photos/sunflowers/5979111025_3bcae48ae6_n.jpg'),\n",
              " PosixPath('datasets/flower_photos/sunflowers/3766264038_ea701c7131_n.jpg'),\n",
              " PosixPath('datasets/flower_photos/sunflowers/4816636411_0135bfe2c9_n.jpg'),\n",
              " PosixPath('datasets/flower_photos/sunflowers/2067882323_8de6623ffd.jpg'),\n",
              " PosixPath('datasets/flower_photos/sunflowers/7791014076_07a897cb85_n.jpg'),\n",
              " PosixPath('datasets/flower_photos/sunflowers/7510285306_ba8f80c382_n.jpg'),\n",
              " PosixPath('datasets/flower_photos/sunflowers/15072973261_73e2912ef2_n.jpg'),\n",
              " PosixPath('datasets/flower_photos/sunflowers/4019748730_ee09b39a43.jpg'),\n",
              " PosixPath('datasets/flower_photos/sunflowers/6050020905_881295ac72_n.jpg'),\n",
              " PosixPath('datasets/flower_photos/sunflowers/5973935729_2868f2db1f_n.jpg'),\n",
              " PosixPath('datasets/flower_photos/sunflowers/19915160340_ec904edbdf_n.jpg'),\n",
              " PosixPath('datasets/flower_photos/sunflowers/4933230547_394f618009_m.jpg'),\n",
              " PosixPath('datasets/flower_photos/sunflowers/6606749757_b98a4ba403.jpg'),\n",
              " PosixPath('datasets/flower_photos/sunflowers/6908789145_814d448bb1_n.jpg'),\n",
              " PosixPath('datasets/flower_photos/sunflowers/15118243470_7e0a7f159c_n.jpg'),\n",
              " PosixPath('datasets/flower_photos/sunflowers/14144522269_bc20029375_m.jpg'),\n",
              " PosixPath('datasets/flower_photos/sunflowers/2944298800_1984bd4f8a_m.jpg'),\n",
              " PosixPath('datasets/flower_photos/sunflowers/2720698862_486d3ec079_m.jpg'),\n",
              " PosixPath('datasets/flower_photos/sunflowers/6198569587_23c3693328_m.jpg'),\n",
              " PosixPath('datasets/flower_photos/sunflowers/5923085891_27617463fe.jpg'),\n",
              " PosixPath('datasets/flower_photos/sunflowers/4745980581_a0b7585258_n.jpg'),\n",
              " PosixPath('datasets/flower_photos/sunflowers/4932736308_827012cff2.jpg'),\n",
              " PosixPath('datasets/flower_photos/sunflowers/4933821940_38064522a8.jpg'),\n",
              " PosixPath('datasets/flower_photos/sunflowers/13648603305_1268eda8b7_n.jpg'),\n",
              " PosixPath('datasets/flower_photos/sunflowers/4414083164_3f285f8ac5.jpg'),\n",
              " PosixPath('datasets/flower_photos/sunflowers/20344366953_44fb51051b.jpg'),\n",
              " PosixPath('datasets/flower_photos/sunflowers/13354458753_7b586f7c95_n.jpg'),\n",
              " PosixPath('datasets/flower_photos/sunflowers/2980154410_bffd7a3452_n.jpg'),\n",
              " PosixPath('datasets/flower_photos/sunflowers/20342824594_9740b7b160.jpg'),\n",
              " PosixPath('datasets/flower_photos/sunflowers/1240624822_4111dde542.jpg'),\n",
              " PosixPath('datasets/flower_photos/sunflowers/26254755_1bfc494ef1_n.jpg'),\n",
              " PosixPath('datasets/flower_photos/sunflowers/9497774249_7f5ae70927_m.jpg'),\n",
              " PosixPath('datasets/flower_photos/sunflowers/9484354480_07ff2ef0a6.jpg'),\n",
              " PosixPath('datasets/flower_photos/sunflowers/2706736074_b0fba20b3e.jpg'),\n",
              " PosixPath('datasets/flower_photos/sunflowers/14646282112_447cc7d1f9.jpg'),\n",
              " PosixPath('datasets/flower_photos/sunflowers/4080112931_cb20b3d51a_n.jpg'),\n",
              " PosixPath('datasets/flower_photos/sunflowers/4664737020_b4c61aacd3_n.jpg'),\n",
              " PosixPath('datasets/flower_photos/sunflowers/3838274225_36010c6254_n.jpg'),\n",
              " PosixPath('datasets/flower_photos/sunflowers/3683873444_be4a609c46.jpg'),\n",
              " PosixPath('datasets/flower_photos/sunflowers/15054865217_e398d0dc9f_n.jpg'),\n",
              " PosixPath('datasets/flower_photos/sunflowers/8928658373_fdca5ff1b8.jpg'),\n",
              " PosixPath('datasets/flower_photos/sunflowers/5927432662_3ffd2461c2_n.jpg'),\n",
              " PosixPath('datasets/flower_photos/sunflowers/4932736136_0115955987.jpg'),\n",
              " PosixPath('datasets/flower_photos/sunflowers/6140808687_88df0fd733.jpg'),\n",
              " PosixPath('datasets/flower_photos/sunflowers/15495579081_661cb260d1_n.jpg'),\n",
              " PosixPath('datasets/flower_photos/sunflowers/20148493928_9f75a99783.jpg'),\n",
              " PosixPath('datasets/flower_photos/sunflowers/15495578821_92c6d14252_n.jpg'),\n",
              " PosixPath('datasets/flower_photos/sunflowers/2883115621_4837267ea1_m.jpg'),\n",
              " PosixPath('datasets/flower_photos/sunflowers/14741812319_e1d32ffb84_n.jpg'),\n",
              " PosixPath('datasets/flower_photos/sunflowers/2950505226_529e013bf7_m.jpg'),\n",
              " PosixPath('datasets/flower_photos/sunflowers/7530313068_ddd2dc1f44_m.jpg'),\n",
              " PosixPath('datasets/flower_photos/sunflowers/8202034834_ee0ee91e04_n.jpg'),\n",
              " PosixPath('datasets/flower_photos/sunflowers/164670176_9f5b9c7965.jpg'),\n",
              " PosixPath('datasets/flower_photos/sunflowers/5966729883_67f4fede93.jpg'),\n",
              " PosixPath('datasets/flower_photos/sunflowers/2949654221_909b0c86a1_n.jpg'),\n",
              " PosixPath('datasets/flower_photos/sunflowers/821368661_4ab4343f5a.jpg'),\n",
              " PosixPath('datasets/flower_photos/sunflowers/5970868068_fe1c8b282e_n.jpg'),\n",
              " PosixPath('datasets/flower_photos/sunflowers/4895122831_83db2ba2d0_n.jpg'),\n",
              " PosixPath('datasets/flower_photos/sunflowers/2694860538_b95d60122c_m.jpg'),\n",
              " PosixPath('datasets/flower_photos/sunflowers/15243175532_ac28c48e14_m.jpg'),\n",
              " PosixPath('datasets/flower_photos/sunflowers/5979111199_495884b578_n.jpg'),\n",
              " PosixPath('datasets/flower_photos/sunflowers/22429146402_332fa2fc72_m.jpg'),\n",
              " PosixPath('datasets/flower_photos/sunflowers/9681915384_b3b646dc92_m.jpg'),\n",
              " PosixPath('datasets/flower_photos/sunflowers/4933822052_2dfef02517.jpg'),\n",
              " PosixPath('datasets/flower_photos/sunflowers/9432335346_e298e47713_n.jpg'),\n",
              " PosixPath('datasets/flower_photos/sunflowers/14397276020_49f9423614.jpg'),\n",
              " PosixPath('datasets/flower_photos/sunflowers/7012364067_5ffc7654c9_m.jpg'),\n",
              " PosixPath('datasets/flower_photos/sunflowers/22992257000_76dbc599e7_m.jpg'),\n",
              " PosixPath('datasets/flower_photos/sunflowers/265422922_bbbde781d2_m.jpg'),\n",
              " PosixPath('datasets/flower_photos/sunflowers/215798354_429de28c2d.jpg'),\n",
              " PosixPath('datasets/flower_photos/sunflowers/5979668702_fdaec9e164_n.jpg'),\n",
              " PosixPath('datasets/flower_photos/sunflowers/4893660821_eb7f02bef3_n.jpg'),\n",
              " PosixPath('datasets/flower_photos/sunflowers/164668737_aeab0cb55e_n.jpg'),\n",
              " PosixPath('datasets/flower_photos/sunflowers/9339697826_88c9c4dc50.jpg'),\n",
              " PosixPath('datasets/flower_photos/sunflowers/417251603_69f0ee57a9_m.jpg'),\n",
              " PosixPath('datasets/flower_photos/sunflowers/2575272111_f04d79b9af_n.jpg'),\n",
              " PosixPath('datasets/flower_photos/sunflowers/4745991955_6804568ae0_n.jpg'),\n",
              " PosixPath('datasets/flower_photos/sunflowers/1022552036_67d33d5bd8_n.jpg'),\n",
              " PosixPath('datasets/flower_photos/sunflowers/18828277053_1493158b28.jpg'),\n",
              " PosixPath('datasets/flower_photos/sunflowers/5998488415_a6bacd9f83.jpg'),\n",
              " PosixPath('datasets/flower_photos/sunflowers/4895721242_89014e723c_n.jpg'),\n",
              " PosixPath('datasets/flower_photos/sunflowers/4489516263_e49fe82637_n.jpg'),\n",
              " PosixPath('datasets/flower_photos/sunflowers/6140892289_92805cc590.jpg'),\n",
              " PosixPath('datasets/flower_photos/sunflowers/16616096711_12375a0260_n.jpg'),\n",
              " PosixPath('datasets/flower_photos/sunflowers/15493195788_60530f2398_m.jpg'),\n",
              " PosixPath('datasets/flower_photos/sunflowers/4942258704_c4146b710a_n.jpg'),\n",
              " PosixPath('datasets/flower_photos/sunflowers/15043962658_dcf9dff5e9_n.jpg'),\n",
              " PosixPath('datasets/flower_photos/sunflowers/4933823922_911ac40b0d.jpg'),\n",
              " PosixPath('datasets/flower_photos/sunflowers/2443095419_17b920d155_m.jpg'),\n",
              " PosixPath('datasets/flower_photos/sunflowers/9497774935_a7daec5433_n.jpg'),\n",
              " PosixPath('datasets/flower_photos/sunflowers/5999024446_5721493894.jpg'),\n",
              " PosixPath('datasets/flower_photos/sunflowers/4846786944_2832c5c8b8.jpg'),\n",
              " PosixPath('datasets/flower_photos/sunflowers/4746648726_e37a2de16d_n.jpg'),\n",
              " PosixPath('datasets/flower_photos/sunflowers/5951665793_8ae4807cbd_n.jpg'),\n",
              " PosixPath('datasets/flower_photos/sunflowers/6042014768_b57f0bfc79_n.jpg'),\n",
              " PosixPath('datasets/flower_photos/sunflowers/22255608949_172d7c8d22_m.jpg'),\n",
              " PosixPath('datasets/flower_photos/sunflowers/20258015499_93b9951800_m.jpg'),\n",
              " PosixPath('datasets/flower_photos/sunflowers/9555827829_74e6f60f1d_m.jpg'),\n",
              " PosixPath('datasets/flower_photos/sunflowers/19784656639_cd7f0a4a26_m.jpg'),\n",
              " PosixPath('datasets/flower_photos/sunflowers/857698097_8068a2c135_n.jpg'),\n",
              " PosixPath('datasets/flower_photos/sunflowers/7820523050_76c8caa025.jpg'),\n",
              " PosixPath('datasets/flower_photos/sunflowers/14925397351_c7f209d804_n.jpg'),\n",
              " PosixPath('datasets/flower_photos/sunflowers/5067864967_19928ca94c_m.jpg'),\n",
              " PosixPath('datasets/flower_photos/sunflowers/244074259_47ce6d3ef9.jpg'),\n",
              " PosixPath('datasets/flower_photos/sunflowers/9610374042_bb16cded3d.jpg'),\n",
              " PosixPath('datasets/flower_photos/sunflowers/4933823300_39fd4420b6.jpg'),\n",
              " PosixPath('datasets/flower_photos/sunflowers/23645265812_24352ff6bf.jpg'),\n",
              " PosixPath('datasets/flower_photos/sunflowers/151898652_b5f1c70b98_n.jpg'),\n",
              " PosixPath('datasets/flower_photos/sunflowers/4977385375_e271e282f9.jpg'),\n",
              " PosixPath('datasets/flower_photos/sunflowers/9111896677_ff0b6fa6f6_n.jpg'),\n",
              " PosixPath('datasets/flower_photos/sunflowers/8174972548_0051c2d431.jpg'),\n",
              " PosixPath('datasets/flower_photos/sunflowers/193874852_fb633d8d00_n.jpg'),\n",
              " PosixPath('datasets/flower_photos/sunflowers/1044296388_912143e1d4.jpg'),\n",
              " PosixPath('datasets/flower_photos/sunflowers/5923085671_f81dd1cf6f.jpg'),\n",
              " PosixPath('datasets/flower_photos/sunflowers/274846229_990e976683_n.jpg'),\n",
              " PosixPath('datasets/flower_photos/sunflowers/4341530649_c17bbc5d01.jpg'),\n",
              " PosixPath('datasets/flower_photos/sunflowers/4933229357_1c5cc03f65_m.jpg'),\n",
              " PosixPath('datasets/flower_photos/sunflowers/210076535_80951bc5d5.jpg'),\n",
              " PosixPath('datasets/flower_photos/sunflowers/3897174387_07aac6bf5f_n.jpg'),\n",
              " PosixPath('datasets/flower_photos/sunflowers/6199086734_b7ddc65816_m.jpg'),\n",
              " PosixPath('datasets/flower_photos/sunflowers/6482016439_b0d06dac04.jpg'),\n",
              " PosixPath('datasets/flower_photos/sunflowers/274848710_5185cf33b1_n.jpg'),\n",
              " PosixPath('datasets/flower_photos/sunflowers/3798841385_38142ea3c6_n.jpg'),\n",
              " PosixPath('datasets/flower_photos/sunflowers/9359374034_21fb12d613_n.jpg'),\n",
              " PosixPath('datasets/flower_photos/sunflowers/8368015811_2893411cf7_n.jpg'),\n",
              " PosixPath('datasets/flower_photos/sunflowers/9699724719_a8439cc0fd_n.jpg'),\n",
              " PosixPath('datasets/flower_photos/sunflowers/19442589512_e733cfea0f.jpg'),\n",
              " PosixPath('datasets/flower_photos/sunflowers/14678298676_6db8831ee6_m.jpg'),\n",
              " PosixPath('datasets/flower_photos/sunflowers/5037790727_57c527494f.jpg'),\n",
              " PosixPath('datasets/flower_photos/sunflowers/1240625276_fb3bd0c7b1.jpg'),\n",
              " PosixPath('datasets/flower_photos/sunflowers/7652532108_01ef94c476.jpg'),\n",
              " PosixPath('datasets/flower_photos/sunflowers/4933229095_f7e4218b28.jpg'),\n",
              " PosixPath('datasets/flower_photos/sunflowers/200011914_93f57ed68b.jpg'),\n",
              " PosixPath('datasets/flower_photos/sunflowers/16832961488_5f7e70eb5e_n.jpg'),\n",
              " PosixPath('datasets/flower_photos/sunflowers/4933229197_ff75a40d55.jpg'),\n",
              " PosixPath('datasets/flower_photos/sunflowers/5139977283_530c508603_n.jpg'),\n",
              " PosixPath('datasets/flower_photos/sunflowers/19508264965_d1dfb565ea_n.jpg'),\n",
              " PosixPath('datasets/flower_photos/sunflowers/2307673262_e1e1aefd29.jpg'),\n",
              " PosixPath('datasets/flower_photos/sunflowers/6074427492_1b5bab7848_n.jpg'),\n",
              " PosixPath('datasets/flower_photos/sunflowers/27466794_57e4fe5656.jpg'),\n",
              " PosixPath('datasets/flower_photos/sunflowers/19710925313_31682fa22b_m.jpg'),\n",
              " PosixPath('datasets/flower_photos/sunflowers/4414081772_8a0e8a1327.jpg'),\n",
              " PosixPath('datasets/flower_photos/sunflowers/19595718862_c68896370c_m.jpg'),\n",
              " PosixPath('datasets/flower_photos/sunflowers/5020805135_1219d7523d.jpg'),\n",
              " PosixPath('datasets/flower_photos/sunflowers/23894449029_bf0f34d35d_n.jpg'),\n",
              " PosixPath('datasets/flower_photos/sunflowers/6141199476_9b6d383fd9.jpg'),\n",
              " PosixPath('datasets/flower_photos/sunflowers/6606820461_952c450f90_n.jpg'),\n",
              " PosixPath('datasets/flower_photos/sunflowers/3848405800_8eea982c40.jpg'),\n",
              " PosixPath('datasets/flower_photos/sunflowers/7857605684_fc86440c23.jpg'),\n",
              " PosixPath('datasets/flower_photos/sunflowers/20156280765_a6baea3176.jpg'),\n",
              " PosixPath('datasets/flower_photos/sunflowers/2816503473_580306e772.jpg'),\n",
              " PosixPath('datasets/flower_photos/sunflowers/1419608016_707b887337_n.jpg'),\n",
              " PosixPath('datasets/flower_photos/sunflowers/8481979626_98c9f88848_n.jpg'),\n",
              " PosixPath('datasets/flower_photos/sunflowers/10386503264_e05387e1f7_m.jpg'),\n",
              " PosixPath('datasets/flower_photos/sunflowers/3951246342_930138610b_n.jpg'),\n",
              " PosixPath('datasets/flower_photos/sunflowers/9309473873_9d62b9082e.jpg'),\n",
              " PosixPath('datasets/flower_photos/sunflowers/4877195645_791c3a83b9_m.jpg'),\n",
              " PosixPath('datasets/flower_photos/sunflowers/3832945398_96509d192b.jpg'),\n",
              " PosixPath('datasets/flower_photos/sunflowers/147804446_ef9244c8ce_m.jpg'),\n",
              " PosixPath('datasets/flower_photos/sunflowers/14121915990_4b76718077_m.jpg'),\n",
              " PosixPath('datasets/flower_photos/sunflowers/15380755137_a2e67839ab_m.jpg'),\n",
              " PosixPath('datasets/flower_photos/sunflowers/5069564563_ae03792c3c_m.jpg'),\n",
              " PosixPath('datasets/flower_photos/sunflowers/4933229479_c1708bd503.jpg'),\n",
              " PosixPath('datasets/flower_photos/sunflowers/9381481549_5a5d503e42_n.jpg'),\n",
              " PosixPath('datasets/flower_photos/sunflowers/6080086410_17a02dcfb8.jpg'),\n",
              " PosixPath('datasets/flower_photos/sunflowers/6104713425_8a3277e34a.jpg'),\n",
              " PosixPath('datasets/flower_photos/sunflowers/22405887122_75eda1872f_m.jpg'),\n",
              " PosixPath('datasets/flower_photos/sunflowers/4235259239_21f2eb4f2e.jpg'),\n",
              " PosixPath('datasets/flower_photos/sunflowers/184682506_8a9b8c662d.jpg'),\n",
              " PosixPath('datasets/flower_photos/sunflowers/8014735546_3db46bb1fe_n.jpg'),\n",
              " PosixPath('datasets/flower_photos/sunflowers/3784815653_5df39aa9c2_m.jpg'),\n",
              " PosixPath('datasets/flower_photos/sunflowers/9783416751_b2a03920f7_n.jpg'),\n",
              " PosixPath('datasets/flower_photos/sunflowers/215798352_184d8040d1.jpg'),\n",
              " PosixPath('datasets/flower_photos/sunflowers/13096076565_72c2c60875_n.jpg'),\n",
              " PosixPath('datasets/flower_photos/sunflowers/5139971615_434ff8ed8b_n.jpg'),\n",
              " PosixPath('datasets/flower_photos/sunflowers/16988605969_570329ff20_n.jpg'),\n",
              " PosixPath('datasets/flower_photos/sunflowers/2733109082_1351f6738a_n.jpg'),\n",
              " PosixPath('datasets/flower_photos/sunflowers/8929274876_17efc1774a_n.jpg'),\n",
              " PosixPath('datasets/flower_photos/sunflowers/9231555352_d2dd8f8e68_m.jpg'),\n",
              " PosixPath('datasets/flower_photos/sunflowers/4664767140_fe01231322_n.jpg'),\n",
              " PosixPath('datasets/flower_photos/sunflowers/4878447831_e904c60cf8_n.jpg'),\n",
              " PosixPath('datasets/flower_photos/sunflowers/3596902268_049e33a2cb_n.jpg'),\n",
              " PosixPath('datasets/flower_photos/sunflowers/6606746467_a668c8d417.jpg'),\n",
              " PosixPath('datasets/flower_photos/sunflowers/22183521655_56221bf2a4_n.jpg'),\n",
              " PosixPath('datasets/flower_photos/sunflowers/3594967811_697184b026_n.jpg'),\n",
              " PosixPath('datasets/flower_photos/sunflowers/18766965343_9f42d4bedc_m.jpg'),\n",
              " PosixPath('datasets/flower_photos/sunflowers/14955545254_324cd4ee75.jpg'),\n",
              " PosixPath('datasets/flower_photos/sunflowers/9651392844_77f90589ba_n.jpg'),\n",
              " PosixPath('datasets/flower_photos/sunflowers/5043409092_5b12cc985a_m.jpg'),\n",
              " PosixPath('datasets/flower_photos/sunflowers/14646279002_9cdf97be97_n.jpg'),\n",
              " PosixPath('datasets/flower_photos/sunflowers/22686342422_c0b9e2f38e.jpg'),\n",
              " PosixPath('datasets/flower_photos/sunflowers/5025805406_033cb03475_n.jpg'),\n",
              " PosixPath('datasets/flower_photos/sunflowers/4414080766_5116e8084e.jpg'),\n",
              " PosixPath('datasets/flower_photos/sunflowers/5526324308_b333da0e57_n.jpg'),\n",
              " PosixPath('datasets/flower_photos/sunflowers/1244774242_25a20d99a9.jpg'),\n",
              " PosixPath('datasets/flower_photos/sunflowers/200288046_0032f322ff_n.jpg'),\n",
              " PosixPath('datasets/flower_photos/sunflowers/5139977423_d413b23fde_m.jpg'),\n",
              " PosixPath('datasets/flower_photos/sunflowers/22419079265_8902cddb7d_n.jpg'),\n",
              " PosixPath('datasets/flower_photos/sunflowers/253586685_ee5b5f5232.jpg'),\n",
              " PosixPath('datasets/flower_photos/sunflowers/15241431045_65201cf15a_n.jpg'),\n",
              " PosixPath('datasets/flower_photos/sunflowers/5994572653_ea98afa3af_n.jpg'),\n",
              " PosixPath('datasets/flower_photos/sunflowers/8041242566_752def876e_n.jpg'),\n",
              " PosixPath('datasets/flower_photos/sunflowers/11881770944_22b4f2f8f6_n.jpg'),\n",
              " PosixPath('datasets/flower_photos/sunflowers/9448615838_04078d09bf_n.jpg'),\n",
              " PosixPath('datasets/flower_photos/sunflowers/21728822928_9f6817325a_n.jpg'),\n",
              " PosixPath('datasets/flower_photos/sunflowers/20407896403_a50fef58ac_n.jpg'),\n",
              " PosixPath('datasets/flower_photos/sunflowers/39271782_b4335d09ae_n.jpg'),\n",
              " PosixPath('datasets/flower_photos/sunflowers/14646281372_5f13794b47.jpg'),\n",
              " PosixPath('datasets/flower_photos/sunflowers/4689061249_6498da5013.jpg'),\n",
              " PosixPath('datasets/flower_photos/sunflowers/14969295739_c132a08663_n.jpg'),\n",
              " PosixPath('datasets/flower_photos/sunflowers/5015462205_440898fe41_n.jpg'),\n",
              " PosixPath('datasets/flower_photos/sunflowers/8928614683_6c168edcfc.jpg'),\n",
              " PosixPath('datasets/flower_photos/sunflowers/9445830851_e9a126fd1d_n.jpg'),\n",
              " PosixPath('datasets/flower_photos/sunflowers/21796333524_38fc8e0ab5_n.jpg'),\n",
              " PosixPath('datasets/flower_photos/sunflowers/2328600790_90e2942557_n.jpg'),\n",
              " PosixPath('datasets/flower_photos/sunflowers/10386522775_4f8c616999_m.jpg'),\n",
              " PosixPath('datasets/flower_photos/sunflowers/14244273988_a7484f18b7_m.jpg'),\n",
              " PosixPath('datasets/flower_photos/sunflowers/5970300143_36b42437de_n.jpg'),\n",
              " PosixPath('datasets/flower_photos/sunflowers/3001531316_efae24d37d_n.jpg'),\n",
              " PosixPath('datasets/flower_photos/sunflowers/4890268276_563f40a193.jpg'),\n",
              " PosixPath('datasets/flower_photos/sunflowers/14741866338_bdc8bfc8d5_n.jpg'),\n",
              " PosixPath('datasets/flower_photos/sunflowers/22429946721_e17a12cb39_n.jpg'),\n",
              " PosixPath('datasets/flower_photos/sunflowers/3894586562_5dbbdc4354_n.jpg'),\n",
              " PosixPath('datasets/flower_photos/sunflowers/13095941995_9a66faa713_n.jpg'),\n",
              " PosixPath('datasets/flower_photos/sunflowers/15472217046_2699b25584.jpg'),\n",
              " PosixPath('datasets/flower_photos/sunflowers/4927658421_7eed83bc95_m.jpg'),\n",
              " PosixPath('datasets/flower_photos/sunflowers/1715303025_e7065327e2.jpg'),\n",
              " PosixPath('datasets/flower_photos/sunflowers/15839183375_49bf4f75e8_m.jpg'),\n",
              " PosixPath('datasets/flower_photos/sunflowers/1297092593_e573c0a3d6.jpg'),\n",
              " PosixPath('datasets/flower_photos/sunflowers/1008566138_6927679c8a.jpg'),\n",
              " PosixPath('datasets/flower_photos/sunflowers/6495559397_61d01c0c57.jpg'),\n",
              " PosixPath('datasets/flower_photos/sunflowers/1267876087_a1b3c63dc9.jpg'),\n",
              " PosixPath('datasets/flower_photos/sunflowers/6606823367_e89dc52a95_n.jpg'),\n",
              " PosixPath('datasets/flower_photos/sunflowers/14925398441_107f3e0304_n.jpg'),\n",
              " PosixPath('datasets/flower_photos/sunflowers/5979111555_61b400c070_n.jpg'),\n",
              " PosixPath('datasets/flower_photos/sunflowers/15218871222_c104032ca1.jpg'),\n",
              " PosixPath('datasets/flower_photos/sunflowers/10386540106_1431e73086_m.jpg'),\n",
              " PosixPath('datasets/flower_photos/sunflowers/19519101829_46af0b4547_m.jpg'),\n",
              " PosixPath('datasets/flower_photos/sunflowers/3950020811_dab89bebc0_n.jpg'),\n",
              " PosixPath('datasets/flower_photos/sunflowers/6133988570_9dc778e622_m.jpg'),\n",
              " PosixPath('datasets/flower_photos/sunflowers/40410963_3ac280f23a_n.jpg'),\n",
              " PosixPath('datasets/flower_photos/sunflowers/4814106562_7c3564d2d9_n.jpg'),\n",
              " PosixPath('datasets/flower_photos/sunflowers/16143151468_4f3c033e33.jpg'),\n",
              " PosixPath('datasets/flower_photos/sunflowers/2807106374_f422b5f00c.jpg'),\n",
              " PosixPath('datasets/flower_photos/sunflowers/7603036176_9e8967cd21.jpg'),\n",
              " PosixPath('datasets/flower_photos/sunflowers/12282924083_fb80aa17d4_n.jpg'),\n",
              " PosixPath('datasets/flower_photos/sunflowers/6145005439_ef6e07f9c6_n.jpg'),\n",
              " PosixPath('datasets/flower_photos/sunflowers/6198569425_e953b9e6cc_m.jpg'),\n",
              " PosixPath('datasets/flower_photos/sunflowers/184682920_97ae41ce60_m.jpg'),\n",
              " PosixPath('datasets/flower_photos/sunflowers/5139969631_743880e01d_n.jpg'),\n",
              " PosixPath('datasets/flower_photos/sunflowers/3466923719_b4b6df7f8b_n.jpg'),\n",
              " PosixPath('datasets/flower_photos/sunflowers/21518663809_3d69f5b995_n.jpg'),\n",
              " PosixPath('datasets/flower_photos/sunflowers/24459548_27a783feda.jpg'),\n",
              " PosixPath('datasets/flower_photos/sunflowers/4813483281_f3707a71e7_n.jpg'),\n",
              " PosixPath('datasets/flower_photos/sunflowers/2689228449_e0be72cf00_n.jpg'),\n",
              " PosixPath('datasets/flower_photos/sunflowers/8014734302_65c6e83bb4_m.jpg'),\n",
              " PosixPath('datasets/flower_photos/sunflowers/4110787181_f73f12d107_m.jpg'),\n",
              " PosixPath('datasets/flower_photos/sunflowers/14858674096_ed0fc1a130.jpg'),\n",
              " PosixPath('datasets/flower_photos/sunflowers/5830614551_e460a1215c.jpg'),\n",
              " PosixPath('datasets/flower_photos/sunflowers/8174941335_56389b53e9_n.jpg'),\n",
              " PosixPath('datasets/flower_photos/sunflowers/5037531593_e2daf4c7f1.jpg'),\n",
              " PosixPath('datasets/flower_photos/sunflowers/4818994715_9d90527d18_n.jpg'),\n",
              " PosixPath('datasets/flower_photos/sunflowers/200557977_bf24d9550b.jpg'),\n",
              " PosixPath('datasets/flower_photos/sunflowers/15683877266_42e0fe3782_n.jpg'),\n",
              " PosixPath('datasets/flower_photos/sunflowers/29972905_4cc537ff4b_n.jpg'),\n",
              " PosixPath('datasets/flower_photos/sunflowers/4933229889_c5d9e36392.jpg'),\n",
              " PosixPath('datasets/flower_photos/sunflowers/15207507116_8b7f894508_m.jpg'),\n",
              " PosixPath('datasets/flower_photos/sunflowers/8174970894_7f9a26be7e.jpg'),\n",
              " PosixPath('datasets/flower_photos/sunflowers/9564240106_0577e919da_n.jpg'),\n",
              " PosixPath('datasets/flower_photos/sunflowers/15191613243_82ee8e0fe8.jpg'),\n",
              " PosixPath('datasets/flower_photos/sunflowers/3749090865_b90f28a585_n.jpg'),\n",
              " PosixPath('datasets/flower_photos/sunflowers/4755075329_1fccc69d4e.jpg'),\n",
              " PosixPath('datasets/flower_photos/sunflowers/164670455_29d8e02bbd_n.jpg'),\n",
              " PosixPath('datasets/flower_photos/sunflowers/20667988875_6e73ac2879_n.jpg'),\n",
              " PosixPath('datasets/flower_photos/sunflowers/5955501969_e42f038a6f_n.jpg'),\n",
              " PosixPath('datasets/flower_photos/sunflowers/9825716455_f12bcc8d4e_n.jpg'),\n",
              " PosixPath('datasets/flower_photos/sunflowers/15122871130_6a7d0b4372_n.jpg'),\n",
              " PosixPath('datasets/flower_photos/sunflowers/7176723954_e41618edc1_n.jpg'),\n",
              " PosixPath('datasets/flower_photos/sunflowers/1217254584_4b3028b93d.jpg'),\n",
              " PosixPath('datasets/flower_photos/sunflowers/5330608174_b49f7a4c48_m.jpg'),\n",
              " PosixPath('datasets/flower_photos/sunflowers/5007598545_90e08e81c1_n.jpg'),\n",
              " PosixPath('datasets/flower_photos/sunflowers/8249000137_eddfffa380_n.jpg'),\n",
              " PosixPath('datasets/flower_photos/sunflowers/3815322974_52c12dbde3.jpg'),\n",
              " PosixPath('datasets/flower_photos/sunflowers/15745084272_36402f5ee6_n.jpg'),\n",
              " PosixPath('datasets/flower_photos/sunflowers/9240129413_f240ce7866_n.jpg'),\n",
              " PosixPath('datasets/flower_photos/sunflowers/6061177447_d8ce96aee0.jpg'),\n",
              " PosixPath('datasets/flower_photos/sunflowers/8265023280_713f2c69d0_m.jpg'),\n",
              " PosixPath('datasets/flower_photos/sunflowers/8038712786_5bdeed3c7f_m.jpg'),\n",
              " PosixPath('datasets/flower_photos/sunflowers/14925398301_55a180f919_n.jpg'),\n",
              " PosixPath('datasets/flower_photos/sunflowers/4872284527_ff52128b97.jpg'),\n",
              " PosixPath('datasets/flower_photos/sunflowers/40411019_526f3fc8d9_m.jpg'),\n",
              " PosixPath('datasets/flower_photos/sunflowers/4933824012_8cbfe606f6.jpg'),\n",
              " PosixPath('datasets/flower_photos/sunflowers/9610371852_179e7781ce.jpg'),\n",
              " PosixPath('datasets/flower_photos/sunflowers/19359539074_d7e32e6616_n.jpg'),\n",
              " PosixPath('datasets/flower_photos/sunflowers/18828283553_e46504ae38.jpg'),\n",
              " PosixPath('datasets/flower_photos/sunflowers/23204123212_ef32fbafbe.jpg'),\n",
              " PosixPath('datasets/flower_photos/sunflowers/4847062576_bae870479c_n.jpg'),\n",
              " PosixPath('datasets/flower_photos/sunflowers/14646280372_dd50be16e4_n.jpg'),\n",
              " PosixPath('datasets/flower_photos/sunflowers/20171662239_f69b6c12bd_n.jpg'),\n",
              " PosixPath('datasets/flower_photos/sunflowers/9655029591_7a77f87500.jpg'),\n",
              " PosixPath('datasets/flower_photos/sunflowers/9431890901_cd11bda584_n.jpg'),\n",
              " PosixPath('datasets/flower_photos/sunflowers/15054866658_c1a6223403_m.jpg'),\n",
              " PosixPath('datasets/flower_photos/sunflowers/5955475577_3d923874d9_n.jpg'),\n",
              " PosixPath('datasets/flower_photos/sunflowers/6953297_8576bf4ea3.jpg'),\n",
              " PosixPath('datasets/flower_photos/sunflowers/20753711039_0b11d24b50_n.jpg'),\n",
              " PosixPath('datasets/flower_photos/sunflowers/9481563239_01b585b41d_n.jpg'),\n",
              " PosixPath('datasets/flower_photos/sunflowers/9558630626_52a1b7d702_m.jpg'),\n",
              " PosixPath('datasets/flower_photos/sunflowers/14925397651_97dcddc383_n.jpg'),\n",
              " PosixPath('datasets/flower_photos/sunflowers/15122112402_cafa41934f.jpg'),\n",
              " PosixPath('datasets/flower_photos/sunflowers/9904127656_f76a5a4811_m.jpg'),\n",
              " PosixPath('datasets/flower_photos/sunflowers/7804213238_1d92ae5edb_m.jpg'),\n",
              " PosixPath('datasets/flower_photos/sunflowers/20777358950_c63ea569a1.jpg'),\n",
              " PosixPath('datasets/flower_photos/sunflowers/9460336948_6ae968be93.jpg'),\n",
              " PosixPath('datasets/flower_photos/sunflowers/14741813010_5d44e33088_n.jpg'),\n",
              " PosixPath('datasets/flower_photos/sunflowers/4868595281_1e58083785.jpg'),\n",
              " PosixPath('datasets/flower_photos/sunflowers/6250692311_cb60c85ee9_n.jpg'),\n",
              " PosixPath('datasets/flower_photos/sunflowers/6239758929_50e5e5a476_m.jpg'),\n",
              " PosixPath('datasets/flower_photos/sunflowers/5020805619_6c710793f7.jpg'),\n",
              " PosixPath('datasets/flower_photos/sunflowers/15054865768_2cc87ac9d4_m.jpg'),\n",
              " PosixPath('datasets/flower_photos/sunflowers/5923649444_a823e534e9.jpg'),\n",
              " PosixPath('datasets/flower_photos/sunflowers/9427945592_07a2676945_n.jpg'),\n",
              " PosixPath('datasets/flower_photos/sunflowers/21995435890_e5672244a4_m.jpg'),\n",
              " PosixPath('datasets/flower_photos/sunflowers/9375675309_987d32f99e_n.jpg'),\n",
              " PosixPath('datasets/flower_photos/sunflowers/2759796022_55bd47bfa2_n.jpg'),\n",
              " PosixPath('datasets/flower_photos/sunflowers/10862313945_e8ed9202d9_m.jpg'),\n",
              " PosixPath('datasets/flower_photos/sunflowers/7820305664_82148f3bfb_n.jpg'),\n",
              " PosixPath('datasets/flower_photos/sunflowers/9213511121_836a458021_m.jpg'),\n",
              " PosixPath('datasets/flower_photos/sunflowers/2996573407_5e473b9359.jpg'),\n",
              " PosixPath('datasets/flower_photos/sunflowers/20183028616_beb937e75c_m.jpg'),\n",
              " PosixPath('datasets/flower_photos/sunflowers/14472246629_72373111e6_m.jpg'),\n",
              " PosixPath('datasets/flower_photos/sunflowers/14698136411_23bdcff7bf_n.jpg'),\n",
              " PosixPath('datasets/flower_photos/sunflowers/1314584013_fe935fdeb1_n.jpg'),\n",
              " PosixPath('datasets/flower_photos/sunflowers/4940287066_385afd9c18_m.jpg'),\n",
              " PosixPath('datasets/flower_photos/sunflowers/7176736574_14446539cb_n.jpg'),\n",
              " PosixPath('datasets/flower_photos/sunflowers/23247483352_0defc7a6dc_n.jpg'),\n",
              " PosixPath('datasets/flower_photos/sunflowers/200557983_10a88672fc.jpg'),\n",
              " PosixPath('datasets/flower_photos/sunflowers/4933228903_9ae82d0b9d.jpg'),\n",
              " PosixPath('datasets/flower_photos/sunflowers/2723995667_31f32294b4.jpg'),\n",
              " PosixPath('datasets/flower_photos/sunflowers/4804434999_bf2187e96a_n.jpg'),\n",
              " PosixPath('datasets/flower_photos/sunflowers/4160805260_cf758daeae_n.jpg'),\n",
              " PosixPath('datasets/flower_photos/sunflowers/175638423_058c07afb9.jpg'),\n",
              " PosixPath('datasets/flower_photos/sunflowers/6053739964_a1d9ab3ed1_n.jpg'),\n",
              " PosixPath('datasets/flower_photos/sunflowers/3883895985_bd20198371.jpg'),\n",
              " PosixPath('datasets/flower_photos/sunflowers/5043409856_395300dbe5_m.jpg'),\n",
              " PosixPath('datasets/flower_photos/sunflowers/200557979_a16112aac1_n.jpg'),\n",
              " PosixPath('datasets/flower_photos/sunflowers/23356825566_f5885875f2.jpg'),\n",
              " PosixPath('datasets/flower_photos/sunflowers/5018120483_cc0421b176_m.jpg'),\n",
              " PosixPath('datasets/flower_photos/sunflowers/19756232959_17cde3b9f0_m.jpg'),\n",
              " PosixPath('datasets/flower_photos/sunflowers/10386540696_0a95ee53a8_n.jpg'),\n",
              " PosixPath('datasets/flower_photos/sunflowers/5032376020_2ed312306c.jpg'),\n",
              " PosixPath('datasets/flower_photos/sunflowers/6125761554_4e72819ce4_m.jpg'),\n",
              " PosixPath('datasets/flower_photos/sunflowers/4933230991_d50c0f7c66.jpg'),\n",
              " PosixPath('datasets/flower_photos/sunflowers/19453165201_2aa747e0bf.jpg'),\n",
              " PosixPath('datasets/flower_photos/sunflowers/2960610406_b61930727f_n.jpg'),\n",
              " PosixPath('datasets/flower_photos/sunflowers/5357144886_b78f4782eb.jpg'),\n",
              " PosixPath('datasets/flower_photos/sunflowers/20344282483_05abb0b837.jpg'),\n",
              " PosixPath('datasets/flower_photos/sunflowers/15241052342_466b38b68d.jpg'),\n",
              " PosixPath('datasets/flower_photos/sunflowers/7728953426_abd179ab63.jpg'),\n",
              " PosixPath('datasets/flower_photos/sunflowers/1596293240_2d5b53495a_m.jpg'),\n",
              " PosixPath('datasets/flower_photos/sunflowers/4914793782_d0ea760791.jpg'),\n",
              " PosixPath('datasets/flower_photos/sunflowers/4869189730_f47c124cda_n.jpg'),\n",
              " PosixPath('datasets/flower_photos/sunflowers/20965412955_2c640b13bd.jpg'),\n",
              " PosixPath('datasets/flower_photos/sunflowers/7586498522_4dcab1c8d2_m.jpg'),\n",
              " PosixPath('datasets/flower_photos/sunflowers/40410686_272bc66faf_m.jpg'),\n",
              " PosixPath('datasets/flower_photos/sunflowers/969913643_9d5cd2fe45_m.jpg'),\n",
              " PosixPath('datasets/flower_photos/sunflowers/45045005_57354ee844.jpg'),\n",
              " PosixPath('datasets/flower_photos/sunflowers/22416421196_caf131c9fa_m.jpg'),\n",
              " PosixPath('datasets/flower_photos/sunflowers/15054866898_60ee50ec6b_n.jpg'),\n",
              " PosixPath('datasets/flower_photos/sunflowers/20406385204_469f6749e2_n.jpg'),\n",
              " PosixPath('datasets/flower_photos/sunflowers/5970869550_d7d9fabebd_n.jpg'),\n",
              " PosixPath('datasets/flower_photos/sunflowers/4932735362_6e1017140f.jpg'),\n",
              " PosixPath('datasets/flower_photos/sunflowers/145303599_2627e23815_n.jpg'),\n",
              " PosixPath('datasets/flower_photos/sunflowers/15266715291_dfa3f1d49f_n.jpg'),\n",
              " PosixPath('datasets/flower_photos/sunflowers/5952223760_85972671d6_n.jpg'),\n",
              " PosixPath('datasets/flower_photos/sunflowers/3001533700_1c62fb8b4a_n.jpg'),\n",
              " PosixPath('datasets/flower_photos/sunflowers/9599534035_ae4df582b6.jpg'),\n",
              " PosixPath('datasets/flower_photos/sunflowers/9206376642_8348ba5c7a.jpg'),\n",
              " PosixPath('datasets/flower_photos/sunflowers/15240466871_ec45b65554_m.jpg'),\n",
              " PosixPath('datasets/flower_photos/sunflowers/20022771089_3cc7e5086d_m.jpg'),\n",
              " PosixPath('datasets/flower_photos/sunflowers/14928117202_139d2142cc_n.jpg'),\n",
              " PosixPath('datasets/flower_photos/sunflowers/9535500195_543d0b729b.jpg'),\n",
              " PosixPath('datasets/flower_photos/sunflowers/6606806621_5267acdd38.jpg'),\n",
              " PosixPath('datasets/flower_photos/sunflowers/3749091071_c146b33c74_n.jpg'),\n",
              " PosixPath('datasets/flower_photos/sunflowers/20078409301_aa8061bd0b_n.jpg'),\n",
              " PosixPath('datasets/flower_photos/sunflowers/4831577091_f56157a5d5_n.jpg'),\n",
              " PosixPath('datasets/flower_photos/sunflowers/14889392928_9742aed45b_m.jpg'),\n",
              " PosixPath('datasets/flower_photos/sunflowers/14921668662_3ffc5b9db3_n.jpg'),\n",
              " PosixPath('datasets/flower_photos/sunflowers/4042816698_578a1d599e.jpg'),\n",
              " PosixPath('datasets/flower_photos/sunflowers/4746643626_02b2d056a2_n.jpg'),\n",
              " PosixPath('datasets/flower_photos/sunflowers/1485456230_58d8e45e88.jpg'),\n",
              " PosixPath('datasets/flower_photos/sunflowers/15054864058_2edca122a9_n.jpg'),\n",
              " PosixPath('datasets/flower_photos/sunflowers/8929288228_6795bcb1fe.jpg'),\n",
              " PosixPath('datasets/flower_photos/sunflowers/4271193206_666ef60aa0_m.jpg'),\n",
              " PosixPath('datasets/flower_photos/sunflowers/4806174512_e04475b766_n.jpg'),\n",
              " PosixPath('datasets/flower_photos/sunflowers/44079668_34dfee3da1_n.jpg'),\n",
              " PosixPath('datasets/flower_photos/sunflowers/193878348_43571127b9_n.jpg'),\n",
              " PosixPath('datasets/flower_photos/sunflowers/12471791574_bb1be83df4.jpg'),\n",
              " PosixPath('datasets/flower_photos/sunflowers/7820398908_4316bbba45.jpg'),\n",
              " PosixPath('datasets/flower_photos/sunflowers/5967284308_85714d8cf7_m.jpg'),\n",
              " PosixPath('datasets/flower_photos/sunflowers/6606817351_10f6e43a09.jpg'),\n",
              " PosixPath('datasets/flower_photos/sunflowers/3922005347_7b6fb82fcd.jpg'),\n",
              " PosixPath('datasets/flower_photos/sunflowers/20410697750_c43973d1eb.jpg'),\n",
              " PosixPath('datasets/flower_photos/sunflowers/18237156988_9ceb46a8de_n.jpg'),\n",
              " PosixPath('datasets/flower_photos/sunflowers/4625255191_26e17a28c9_n.jpg'),\n",
              " PosixPath('datasets/flower_photos/sunflowers/20871601265_daa4be4291_n.jpg'),\n",
              " PosixPath('datasets/flower_photos/sunflowers/9610098411_f1613c8e14.jpg'),\n",
              " PosixPath('datasets/flower_photos/sunflowers/19697910486_0086d893a2.jpg'),\n",
              " PosixPath('datasets/flower_photos/sunflowers/9538283930_0faea083bb_n.jpg'),\n",
              " PosixPath('datasets/flower_photos/sunflowers/5027895361_ace3b731e5_n.jpg'),\n",
              " PosixPath('datasets/flower_photos/sunflowers/9302733302_2cb92cf275.jpg'),\n",
              " PosixPath('datasets/flower_photos/sunflowers/2678588376_6ca64a4a54_n.jpg'),\n",
              " PosixPath('datasets/flower_photos/sunflowers/22405882322_d4561f8469_n.jpg'),\n",
              " PosixPath('datasets/flower_photos/sunflowers/9610373158_5250bce6ac_n.jpg'),\n",
              " PosixPath('datasets/flower_photos/sunflowers/4933229561_881d4673e7_m.jpg'),\n",
              " PosixPath('datasets/flower_photos/sunflowers/21821266773_7113d34c35_m.jpg'),\n",
              " PosixPath('datasets/flower_photos/sunflowers/8266310743_02095e782d_m.jpg'),\n",
              " PosixPath('datasets/flower_photos/sunflowers/27465811_9477c9d044.jpg'),\n",
              " PosixPath('datasets/flower_photos/sunflowers/1043442695_4556c4c13d_n.jpg'),\n",
              " PosixPath('datasets/flower_photos/sunflowers/21984860006_20dfacea1c_m.jpg'),\n",
              " PosixPath('datasets/flower_photos/sunflowers/6265084065_7a8b30cc6e_n.jpg'),\n",
              " PosixPath('datasets/flower_photos/sunflowers/2619000556_6634478e64_n.jpg'),\n",
              " PosixPath('datasets/flower_photos/sunflowers/8174935717_d19367d502.jpg'),\n",
              " PosixPath('datasets/flower_photos/sunflowers/6482016425_d8fab362f6.jpg'),\n",
              " PosixPath('datasets/flower_photos/sunflowers/184682095_46f8607278.jpg'),\n",
              " PosixPath('datasets/flower_photos/sunflowers/5043404000_9bc16cb7e5_m.jpg'),\n",
              " PosixPath('datasets/flower_photos/sunflowers/15123604714_dd034a4a3b_n.jpg'),\n",
              " PosixPath('datasets/flower_photos/sunflowers/3734999477_7f454081aa_n.jpg'),\n",
              " PosixPath('datasets/flower_photos/sunflowers/15054751430_5af76f6096_n.jpg'),\n",
              " PosixPath('datasets/flower_photos/sunflowers/18237215308_a158d49f28_n.jpg'),\n",
              " PosixPath('datasets/flower_photos/sunflowers/2979297519_17a08b37f6_m.jpg'),\n",
              " PosixPath('datasets/flower_photos/sunflowers/6166888942_7058198713_m.jpg'),\n",
              " PosixPath('datasets/flower_photos/sunflowers/14925397761_46ecfa24e0.jpg'),\n",
              " PosixPath('datasets/flower_photos/sunflowers/864957037_c75373d1c5.jpg'),\n",
              " PosixPath('datasets/flower_photos/sunflowers/4933824130_b99839a80d.jpg'),\n",
              " PosixPath('datasets/flower_photos/sunflowers/6116210027_61923f4b64.jpg'),\n",
              " PosixPath('datasets/flower_photos/sunflowers/17148843706_df148301ac_n.jpg'),\n",
              " PosixPath('datasets/flower_photos/sunflowers/14881304632_54a9dfb8be.jpg'),\n",
              " PosixPath('datasets/flower_photos/sunflowers/9555824387_32b151e9b0_m.jpg'),\n",
              " PosixPath('datasets/flower_photos/sunflowers/8705462313_4458d64cd4.jpg'),\n",
              " PosixPath('datasets/flower_photos/sunflowers/3146795631_d062f233c1.jpg'),\n",
              " PosixPath('datasets/flower_photos/sunflowers/15108515192_f686dce398_n.jpg'),\n",
              " PosixPath('datasets/flower_photos/sunflowers/8929213942_5544191250_n.jpg'),\n",
              " PosixPath('datasets/flower_photos/sunflowers/14623720226_aeeac66e0a_n.jpg'),\n",
              " PosixPath('datasets/flower_photos/sunflowers/2729206569_9dd2b5a3ed.jpg'),\n",
              " PosixPath('datasets/flower_photos/sunflowers/15066430311_fb57fa92b0_m.jpg'),\n",
              " PosixPath('datasets/flower_photos/sunflowers/4932735566_2327bf319a.jpg'),\n",
              " PosixPath('datasets/flower_photos/sunflowers/3311874685_7b9ef10f7e_m.jpg'),\n",
              " PosixPath('datasets/flower_photos/sunflowers/3731075939_6c92d7fe68_m.jpg'),\n",
              " PosixPath('datasets/flower_photos/sunflowers/2598973480_07de93e91d_n.jpg'),\n",
              " PosixPath('datasets/flower_photos/sunflowers/18972803569_1a0634f398_m.jpg'),\n",
              " PosixPath('datasets/flower_photos/sunflowers/15218421476_9d5f38e732_m.jpg'),\n",
              " PosixPath('datasets/flower_photos/sunflowers/5004121118_e9393e60d0_n.jpg'),\n",
              " PosixPath('datasets/flower_photos/sunflowers/7012366081_019c8a17a4_m.jpg'),\n",
              " PosixPath('datasets/flower_photos/sunflowers/9485002920_59af6f4cac.jpg'),\n",
              " PosixPath('datasets/flower_photos/sunflowers/3568114325_d6b1363497.jpg'),\n",
              " PosixPath('datasets/flower_photos/sunflowers/21134000558_d7d6c9b1fe_n.jpg'),\n",
              " PosixPath('datasets/flower_photos/sunflowers/18843967474_9cb552716b.jpg'),\n",
              " PosixPath('datasets/flower_photos/sunflowers/6958724008_12259943a7.jpg'),\n",
              " PosixPath('datasets/flower_photos/sunflowers/6606741847_f0198d83ff.jpg'),\n",
              " PosixPath('datasets/flower_photos/sunflowers/877083343_e3338c4125.jpg'),\n",
              " PosixPath('datasets/flower_photos/sunflowers/15042911059_b6153d94e7_n.jpg'),\n",
              " PosixPath('datasets/flower_photos/sunflowers/9588522189_db6166f67f.jpg'),\n",
              " PosixPath('datasets/flower_photos/sunflowers/197011740_21825de2bf.jpg'),\n",
              " PosixPath('datasets/flower_photos/sunflowers/4933230395_7930697335_m.jpg'),\n",
              " PosixPath('datasets/flower_photos/sunflowers/9384867134_83af458a19_n.jpg'),\n",
              " PosixPath('datasets/flower_photos/sunflowers/6140661443_bb48344226.jpg'),\n",
              " PosixPath('datasets/flower_photos/sunflowers/3062794421_295f8c2c4e.jpg'),\n",
              " PosixPath('datasets/flower_photos/sunflowers/5042785753_392cc4e74d_n.jpg'),\n",
              " PosixPath('datasets/flower_photos/sunflowers/9246304620_768d1f54d7_n.jpg'),\n",
              " PosixPath('datasets/flower_photos/sunflowers/4895720722_8247f2015b_n.jpg'),\n",
              " PosixPath('datasets/flower_photos/sunflowers/12471441503_d188b5f31a_m.jpg'),\n",
              " PosixPath('datasets/flower_photos/sunflowers/9056495873_66e351b17c_n.jpg'),\n",
              " PosixPath('datasets/flower_photos/sunflowers/4626721387_88f89d5cc9_n.jpg'),\n",
              " PosixPath('datasets/flower_photos/sunflowers/20704967595_a9c9b8d431.jpg'),\n",
              " PosixPath('datasets/flower_photos/sunflowers/14460081668_eda8795693_m.jpg'),\n",
              " PosixPath('datasets/flower_photos/sunflowers/4191299785_a4faca9b74_n.jpg'),\n",
              " PosixPath('datasets/flower_photos/sunflowers/6141150299_b46a64e4de.jpg'),\n",
              " PosixPath('datasets/flower_photos/sunflowers/58636535_bc53ef0a21_m.jpg'),\n",
              " PosixPath('datasets/flower_photos/sunflowers/8480886751_71d88bfdc0_n.jpg'),\n",
              " PosixPath('datasets/flower_photos/sunflowers/14460075029_5cd715bb72_m.jpg'),\n",
              " PosixPath('datasets/flower_photos/sunflowers/287233531_74d4605814_m.jpg'),\n",
              " PosixPath('datasets/flower_photos/sunflowers/9240005603_6a9b71dcea_n.jpg'),\n",
              " PosixPath('datasets/flower_photos/sunflowers/8192234807_fed4a46f1a_n.jpg'),\n",
              " PosixPath('datasets/flower_photos/sunflowers/14623719696_1bb7970208_n.jpg'),\n",
              " PosixPath('datasets/flower_photos/sunflowers/2979133707_84aab35b5d.jpg'),\n",
              " PosixPath('datasets/flower_photos/sunflowers/10386525695_2c38fea555_n.jpg'),\n",
              " PosixPath('datasets/flower_photos/sunflowers/20777375650_ef854bf645.jpg'),\n",
              " PosixPath('datasets/flower_photos/sunflowers/15054752730_fcf54d475e_m.jpg'),\n",
              " PosixPath('datasets/flower_photos/sunflowers/5957007921_62333981d2_n.jpg'),\n",
              " PosixPath('datasets/flower_photos/sunflowers/3575811488_a31714472a.jpg'),\n",
              " PosixPath('datasets/flower_photos/sunflowers/9558628596_722c29ec60_m.jpg'),\n",
              " PosixPath('datasets/flower_photos/sunflowers/6204049536_1ac4f09232_n.jpg'),\n",
              " PosixPath('datasets/flower_photos/sunflowers/1484598527_579a272f53.jpg'),\n",
              " PosixPath('datasets/flower_photos/sunflowers/7510240282_87554c7418_n.jpg'),\n",
              " PosixPath('datasets/flower_photos/sunflowers/18250039435_7654bc11be_n.jpg'),\n",
              " PosixPath('datasets/flower_photos/sunflowers/164672339_f2b5b164f6.jpg'),\n",
              " PosixPath('datasets/flower_photos/sunflowers/6061175433_95fdb12f32_n.jpg'),\n",
              " PosixPath('datasets/flower_photos/sunflowers/19349582128_68a662075e_n.jpg'),\n",
              " PosixPath('datasets/flower_photos/sunflowers/21374127408_5ffbe87bb2.jpg'),\n",
              " PosixPath('datasets/flower_photos/sunflowers/4871455214_8b5fb87ab6_n.jpg'),\n",
              " PosixPath('datasets/flower_photos/sunflowers/7369484298_332f69bd88_n.jpg'),\n",
              " PosixPath('datasets/flower_photos/sunflowers/8174935013_b16626b49b.jpg'),\n",
              " PosixPath('datasets/flower_photos/sunflowers/15069459615_7e0fd61914_n.jpg'),\n",
              " PosixPath('datasets/flower_photos/sunflowers/14348961225_09bd803317_n.jpg'),\n",
              " PosixPath('datasets/flower_photos/sunflowers/9216286876_289a4779f7.jpg'),\n",
              " PosixPath('datasets/flower_photos/sunflowers/4895721788_f10208ab77_n.jpg'),\n",
              " PosixPath('datasets/flower_photos/sunflowers/4528959364_fa544b0f4e_m.jpg'),\n",
              " PosixPath('datasets/flower_photos/sunflowers/2816256710_a2d3616fae.jpg'),\n",
              " PosixPath('datasets/flower_photos/sunflowers/6606743797_c90c669757.jpg'),\n",
              " PosixPath('datasets/flower_photos/sunflowers/15081164641_45a7b92b3a_m.jpg'),\n",
              " PosixPath('datasets/flower_photos/sunflowers/13959937305_2f5c532886_n.jpg'),\n",
              " PosixPath('datasets/flower_photos/sunflowers/6606753075_72ee32aa30_m.jpg'),\n",
              " PosixPath('datasets/flower_photos/sunflowers/4848279231_c4960e28b2_n.jpg'),\n",
              " PosixPath('datasets/flower_photos/sunflowers/6495554833_86eb8faa8e_n.jpg'),\n",
              " PosixPath('datasets/flower_photos/sunflowers/15030133005_9728102622_z.jpg'),\n",
              " PosixPath('datasets/flower_photos/sunflowers/3665455426_9cd1c3af4a_n.jpg'),\n",
              " PosixPath('datasets/flower_photos/sunflowers/3154932076_eff5c38231_n.jpg'),\n",
              " PosixPath('datasets/flower_photos/sunflowers/40410814_fba3837226_n.jpg'),\n",
              " PosixPath('datasets/flower_photos/sunflowers/3001536784_3bfd101b23_n.jpg'),\n",
              " PosixPath('datasets/flower_photos/sunflowers/15460162172_014bcce403.jpg'),\n",
              " PosixPath('datasets/flower_photos/sunflowers/20972862281_5367f4af88.jpg'),\n",
              " PosixPath('datasets/flower_photos/sunflowers/6140693467_211a135b6d.jpg'),\n",
              " PosixPath('datasets/flower_photos/sunflowers/16967372357_15b1b9a812_n.jpg'),\n",
              " PosixPath('datasets/flower_photos/sunflowers/5556633113_0a04f5ed8a_n.jpg'),\n",
              " PosixPath('datasets/flower_photos/sunflowers/2442985637_8748180f69.jpg'),\n",
              " PosixPath('datasets/flower_photos/sunflowers/9610373748_b9cb67bd55.jpg'),\n",
              " PosixPath('datasets/flower_photos/sunflowers/1064662314_c5a7891b9f_m.jpg'),\n",
              " PosixPath('datasets/flower_photos/sunflowers/127192624_afa3d9cb84.jpg'),\n",
              " PosixPath('datasets/flower_photos/sunflowers/3858508462_db2b9692d1.jpg'),\n",
              " PosixPath('datasets/flower_photos/sunflowers/4745985619_249078cafa_n.jpg'),\n",
              " PosixPath('datasets/flower_photos/sunflowers/20183071136_c297e74fcc_m.jpg'),\n",
              " PosixPath('datasets/flower_photos/sunflowers/5738580862_e128192f75.jpg'),\n",
              " PosixPath('datasets/flower_photos/sunflowers/9511172241_8aee411e2e.jpg'),\n",
              " PosixPath('datasets/flower_photos/sunflowers/15238348741_c2fb12ecf2_m.jpg'),\n",
              " PosixPath('datasets/flower_photos/sunflowers/9399711558_7cb9547cd3_n.jpg'),\n",
              " PosixPath('datasets/flower_photos/sunflowers/8292914969_4a76608250_m.jpg'),\n",
              " PosixPath('datasets/flower_photos/sunflowers/6606815161_3c4372760f.jpg'),\n",
              " PosixPath('datasets/flower_photos/sunflowers/3912497888_e7a5905bc3_n.jpg'),\n",
              " PosixPath('datasets/flower_photos/sunflowers/7176729016_d73ff2211e.jpg'),\n",
              " PosixPath('datasets/flower_photos/sunflowers/1880606744_23e3dc4f6b_n.jpg'),\n",
              " PosixPath('datasets/flower_photos/sunflowers/5076821914_c21b58fd4c_m.jpg'),\n",
              " PosixPath('datasets/flower_photos/sunflowers/4872892690_52dc25b0b4.jpg'),\n",
              " PosixPath('datasets/flower_photos/sunflowers/6122711533_2c219f0392_n.jpg'),\n",
              " PosixPath('datasets/flower_photos/sunflowers/3846717708_ea11383ed8.jpg'),\n",
              " PosixPath('datasets/flower_photos/sunflowers/5293283002_9b17f085f7_m.jpg'),\n",
              " PosixPath('datasets/flower_photos/sunflowers/4623843480_23e3fb8dcc_n.jpg'),\n",
              " PosixPath('datasets/flower_photos/sunflowers/6627521877_6e43fb3c49_m.jpg'),\n",
              " PosixPath('datasets/flower_photos/sunflowers/4895124535_11a2bb704c_m.jpg'),\n",
              " PosixPath('datasets/flower_photos/sunflowers/9491955955_d0b2c83834.jpg'),\n",
              " PosixPath('datasets/flower_photos/sunflowers/4932144003_cbffc89bf0.jpg'),\n",
              " PosixPath('datasets/flower_photos/sunflowers/2697194548_ec8f8de97c_n.jpg'),\n",
              " PosixPath('datasets/flower_photos/sunflowers/4933230161_12f3ee7587.jpg'),\n",
              " PosixPath('datasets/flower_photos/sunflowers/6606809995_edee55b770_m.jpg'),\n",
              " PosixPath('datasets/flower_photos/sunflowers/5967283168_90dd4daf28_n.jpg'),\n",
              " PosixPath('datasets/flower_photos/sunflowers/1240626292_52cd5d7fb1_m.jpg'),\n",
              " PosixPath('datasets/flower_photos/sunflowers/14889779907_3d401bbac7_m.jpg'),\n",
              " PosixPath('datasets/flower_photos/sunflowers/4186808407_06688641e2_n.jpg'),\n",
              " PosixPath('datasets/flower_photos/sunflowers/7935826214_9b57628203_m.jpg'),\n",
              " PosixPath('datasets/flower_photos/sunflowers/5994586159_1dd99d66b4_n.jpg'),\n",
              " PosixPath('datasets/flower_photos/sunflowers/2803725948_5fd1f2fc99_n.jpg'),\n",
              " PosixPath('datasets/flower_photos/sunflowers/8478248531_1a16e232b5.jpg'),\n",
              " PosixPath('datasets/flower_photos/sunflowers/164671753_ab36d9cbb7_n.jpg'),\n",
              " PosixPath('datasets/flower_photos/sunflowers/418056361_1dfac1c151_n.jpg'),\n",
              " PosixPath('datasets/flower_photos/sunflowers/12471443383_b71e7a7480_m.jpg'),\n",
              " PosixPath('datasets/flower_photos/sunflowers/9410186154_465642ed35.jpg'),\n",
              " PosixPath('datasets/flower_photos/dandelion/7196409186_a59957ce0b_m.jpg'),\n",
              " PosixPath('datasets/flower_photos/dandelion/16375088191_2bf2916b53.jpg'),\n",
              " PosixPath('datasets/flower_photos/dandelion/18304194360_2a4a0be631_m.jpg'),\n",
              " PosixPath('datasets/flower_photos/dandelion/4696437766_85952d0196.jpg'),\n",
              " PosixPath('datasets/flower_photos/dandelion/18204150090_fb418bbddb.jpg'),\n",
              " PosixPath('datasets/flower_photos/dandelion/5654859907_c2be3b0f1e_n.jpg'),\n",
              " PosixPath('datasets/flower_photos/dandelion/14457225751_645a3784fd_n.jpg'),\n",
              " PosixPath('datasets/flower_photos/dandelion/2039797043_d5b709f275_n.jpg'),\n",
              " PosixPath('datasets/flower_photos/dandelion/3418355347_2bdcca592a.jpg'),\n",
              " PosixPath('datasets/flower_photos/dandelion/4574447682_40dce530f1.jpg'),\n",
              " PosixPath('datasets/flower_photos/dandelion/18970601002_d70bc883a9.jpg'),\n",
              " PosixPath('datasets/flower_photos/dandelion/6953830582_8525e0423c_n.jpg'),\n",
              " PosixPath('datasets/flower_photos/dandelion/3446018470_0c40e73ed6_m.jpg'),\n",
              " PosixPath('datasets/flower_photos/dandelion/5749815755_12f9214649_n.jpg'),\n",
              " PosixPath('datasets/flower_photos/dandelion/3499837275_5f24d2f8bf_n.jpg'),\n",
              " PosixPath('datasets/flower_photos/dandelion/645330051_06b192b7e1.jpg'),\n",
              " PosixPath('datasets/flower_photos/dandelion/3372748508_e5a4eacfcb_n.jpg'),\n",
              " PosixPath('datasets/flower_photos/dandelion/5140791232_52f2c5b41d_n.jpg'),\n",
              " PosixPath('datasets/flower_photos/dandelion/4634716478_1cbcbee7ca.jpg'),\n",
              " PosixPath('datasets/flower_photos/dandelion/3539077354_c67aa7168d_m.jpg'),\n",
              " PosixPath('datasets/flower_photos/dandelion/494108764_e00178af6e.jpg'),\n",
              " PosixPath('datasets/flower_photos/dandelion/3483575184_cb8d16a083_n.jpg'),\n",
              " PosixPath('datasets/flower_photos/dandelion/7062171343_db61c92737_n.jpg'),\n",
              " PosixPath('datasets/flower_photos/dandelion/8831808134_315aedb37b.jpg'),\n",
              " PosixPath('datasets/flower_photos/dandelion/8270191872_61e47ae3b8_m.jpg'),\n",
              " PosixPath('datasets/flower_photos/dandelion/14376454225_a1de336c5b.jpg'),\n",
              " PosixPath('datasets/flower_photos/dandelion/3857059749_fe8ca621a9.jpg'),\n",
              " PosixPath('datasets/flower_photos/dandelion/4510350093_3700064215.jpg'),\n",
              " PosixPath('datasets/flower_photos/dandelion/160456948_38c3817c6a_m.jpg'),\n",
              " PosixPath('datasets/flower_photos/dandelion/14202166370_e989588332.jpg'),\n",
              " PosixPath('datasets/flower_photos/dandelion/2294126841_e478564e77_n.jpg'),\n",
              " PosixPath('datasets/flower_photos/dandelion/2330339852_fbbdeb7306_n.jpg'),\n",
              " PosixPath('datasets/flower_photos/dandelion/2512148749_261fa9d156.jpg'),\n",
              " PosixPath('datasets/flower_photos/dandelion/5797606814_ccac615312_m.jpg'),\n",
              " PosixPath('datasets/flower_photos/dandelion/20456824132_b1c8fbfa41_m.jpg'),\n",
              " PosixPath('datasets/flower_photos/dandelion/6985099958_5249a4688b.jpg'),\n",
              " PosixPath('datasets/flower_photos/dandelion/7950892504_33142110c2.jpg'),\n",
              " PosixPath('datasets/flower_photos/dandelion/2635422362_a1bf641547_m.jpg'),\n",
              " PosixPath('datasets/flower_photos/dandelion/8475758_4c861ab268_m.jpg'),\n",
              " PosixPath('datasets/flower_photos/dandelion/19440910519_cb1162470e.jpg'),\n",
              " PosixPath('datasets/flower_photos/dandelion/22274701614_901606ee34_n.jpg'),\n",
              " PosixPath('datasets/flower_photos/dandelion/4572738670_4787a11058_n.jpg'),\n",
              " PosixPath('datasets/flower_photos/dandelion/19599413676_fc9ee2640e.jpg'),\n",
              " PosixPath('datasets/flower_photos/dandelion/6900157914_c3387c11d8.jpg'),\n",
              " PosixPath('datasets/flower_photos/dandelion/6897671808_57230e04c5_n.jpg'),\n",
              " PosixPath('datasets/flower_photos/dandelion/2503034372_db7867de51_m.jpg'),\n",
              " PosixPath('datasets/flower_photos/dandelion/16949657389_ac0ee80fd1_m.jpg'),\n",
              " PosixPath('datasets/flower_photos/dandelion/4552571121_2677bcdec3.jpg'),\n",
              " PosixPath('datasets/flower_photos/dandelion/18215579866_94b1732f24.jpg'),\n",
              " PosixPath('datasets/flower_photos/dandelion/3393060921_2328b752f4.jpg'),\n",
              " PosixPath('datasets/flower_photos/dandelion/4573886520_09c984ecd8_m.jpg'),\n",
              " PosixPath('datasets/flower_photos/dandelion/19617643201_9922eec796.jpg'),\n",
              " PosixPath('datasets/flower_photos/dandelion/16970837587_4a9d8500d7.jpg'),\n",
              " PosixPath('datasets/flower_photos/dandelion/8083321316_f62ea76f72_n.jpg'),\n",
              " PosixPath('datasets/flower_photos/dandelion/13910677675_4900fa3dbf_n.jpg'),\n",
              " PosixPath('datasets/flower_photos/dandelion/14375349004_68d893254a_n.jpg'),\n",
              " PosixPath('datasets/flower_photos/dandelion/5628515159_6b437ff1e5_n.jpg'),\n",
              " PosixPath('datasets/flower_photos/dandelion/17047385027_8fd510e164_n.jpg'),\n",
              " PosixPath('datasets/flower_photos/dandelion/18271576032_d7e2296de4_n.jpg'),\n",
              " PosixPath('datasets/flower_photos/dandelion/8969938579_4c2032dd96_n.jpg'),\n",
              " PosixPath('datasets/flower_photos/dandelion/7425858848_d04dab08dd_n.jpg'),\n",
              " PosixPath('datasets/flower_photos/dandelion/4622115595_a0de9f2013_n.jpg'),\n",
              " PosixPath('datasets/flower_photos/dandelion/2608937632_cfd93bc7cd.jpg'),\n",
              " PosixPath('datasets/flower_photos/dandelion/1798082733_b8080b1173_m.jpg'),\n",
              " PosixPath('datasets/flower_photos/dandelion/138166590_47c6cb9dd0.jpg'),\n",
              " PosixPath('datasets/flower_photos/dandelion/4571681134_b605a61547_n.jpg'),\n",
              " PosixPath('datasets/flower_photos/dandelion/7465850028_cdfaae235a_n.jpg'),\n",
              " PosixPath('datasets/flower_photos/dandelion/5716633491_55e6f02645_n.jpg'),\n",
              " PosixPath('datasets/flower_photos/dandelion/4164845062_1fd9b3f3b4.jpg'),\n",
              " PosixPath('datasets/flower_photos/dandelion/4552591312_02fe1dcc04_n.jpg'),\n",
              " PosixPath('datasets/flower_photos/dandelion/3419166382_a5e4b8fe6d_m.jpg'),\n",
              " PosixPath('datasets/flower_photos/dandelion/3465599902_14729e2b1b_n.jpg'),\n",
              " PosixPath('datasets/flower_photos/dandelion/2542908888_25a1c78ff0.jpg'),\n",
              " PosixPath('datasets/flower_photos/dandelion/6250363717_17732e992e_n.jpg'),\n",
              " PosixPath('datasets/flower_photos/dandelion/2326334426_2dc74fceb1.jpg'),\n",
              " PosixPath('datasets/flower_photos/dandelion/17420983523_2e32d70359.jpg'),\n",
              " PosixPath('datasets/flower_photos/dandelion/3612582808_4503fa1f8b_m.jpg'),\n",
              " PosixPath('datasets/flower_photos/dandelion/14884028290_a1344eb446.jpg'),\n",
              " PosixPath('datasets/flower_photos/dandelion/570127230_ce409f90f8_n.jpg'),\n",
              " PosixPath('datasets/flower_photos/dandelion/5705695593_d79286ac0d.jpg'),\n",
              " PosixPath('datasets/flower_photos/dandelion/10617162044_8740d4dd9f_n.jpg'),\n",
              " PosixPath('datasets/flower_photos/dandelion/4571923094_b9cefa9438_n.jpg'),\n",
              " PosixPath('datasets/flower_photos/dandelion/3005677730_2662753d3f_m.jpg'),\n",
              " PosixPath('datasets/flower_photos/dandelion/1776290427_9d8d5be6ac.jpg'),\n",
              " PosixPath('datasets/flower_photos/dandelion/12094442595_297494dba4_m.jpg'),\n",
              " PosixPath('datasets/flower_photos/dandelion/19691175559_ef12b8b354_n.jpg'),\n",
              " PosixPath('datasets/flower_photos/dandelion/4632235020_d00ce1e497.jpg'),\n",
              " PosixPath('datasets/flower_photos/dandelion/3584415133_a4122ab7b9.jpg'),\n",
              " PosixPath('datasets/flower_photos/dandelion/4716316039_044e4d2d1a.jpg'),\n",
              " PosixPath('datasets/flower_photos/dandelion/8691437509_9ac8441db7_n.jpg'),\n",
              " PosixPath('datasets/flower_photos/dandelion/16713229021_bea2533981_n.jpg'),\n",
              " PosixPath('datasets/flower_photos/dandelion/15139657325_74031c44fc.jpg'),\n",
              " PosixPath('datasets/flower_photos/dandelion/3761310831_41b5eba622_n.jpg'),\n",
              " PosixPath('datasets/flower_photos/dandelion/9029756865_db8891807a_n.jpg'),\n",
              " PosixPath('datasets/flower_photos/dandelion/14048849371_ec9dbafaeb_m.jpg'),\n",
              " PosixPath('datasets/flower_photos/dandelion/3581252194_8c976d333a_n.jpg'),\n",
              " PosixPath('datasets/flower_photos/dandelion/5607983792_f8b8766ff7.jpg'),\n",
              " PosixPath('datasets/flower_photos/dandelion/10777398353_5a20bb218c.jpg'),\n",
              " PosixPath('datasets/flower_photos/dandelion/2780702427_312333ef33.jpg'),\n",
              " PosixPath('datasets/flower_photos/dandelion/19397467530_1e8131a7cf.jpg'),\n",
              " PosixPath('datasets/flower_photos/dandelion/4624036600_11a4744254_n.jpg'),\n",
              " PosixPath('datasets/flower_photos/dandelion/2538797744_deb53ac253.jpg'),\n",
              " PosixPath('datasets/flower_photos/dandelion/493696003_f93ffb3abd_n.jpg'),\n",
              " PosixPath('datasets/flower_photos/dandelion/7040710179_7f86a17a3c_n.jpg'),\n",
              " PosixPath('datasets/flower_photos/dandelion/10437652486_aa86c14985.jpg'),\n",
              " PosixPath('datasets/flower_photos/dandelion/8735646181_fa9787d4e0.jpg'),\n",
              " PosixPath('datasets/flower_photos/dandelion/5605502523_05acb00ae7_n.jpg'),\n",
              " PosixPath('datasets/flower_photos/dandelion/8717157979_05cbc10cc1.jpg'),\n",
              " PosixPath('datasets/flower_photos/dandelion/8980164828_04fbf64f79_n.jpg'),\n",
              " PosixPath('datasets/flower_photos/dandelion/19617501581_606be5f716_n.jpg'),\n",
              " PosixPath('datasets/flower_photos/dandelion/7295618968_c08a326cc1_m.jpg'),\n",
              " PosixPath('datasets/flower_photos/dandelion/9472854850_fc9e1db673.jpg'),\n",
              " PosixPath('datasets/flower_photos/dandelion/7448453384_fb9caaa9af_n.jpg'),\n",
              " PosixPath('datasets/flower_photos/dandelion/14002252932_64d5cbdac7.jpg'),\n",
              " PosixPath('datasets/flower_photos/dandelion/2465573725_d78caca9d4_n.jpg'),\n",
              " PosixPath('datasets/flower_photos/dandelion/4573204385_9b71e96b35_m.jpg'),\n",
              " PosixPath('datasets/flower_photos/dandelion/17344936845_fec4d626b7.jpg'),\n",
              " PosixPath('datasets/flower_photos/dandelion/19004688463_12a8423109.jpg'),\n",
              " PosixPath('datasets/flower_photos/dandelion/144686365_d7e96941ee_n.jpg'),\n",
              " PosixPath('datasets/flower_photos/dandelion/2330343016_23acc484ee.jpg'),\n",
              " PosixPath('datasets/flower_photos/dandelion/14886963928_d4856f1eb6_n.jpg'),\n",
              " PosixPath('datasets/flower_photos/dandelion/284497233_c19801752c.jpg'),\n",
              " PosixPath('datasets/flower_photos/dandelion/16716172029_2166d8717f_m.jpg'),\n",
              " PosixPath('datasets/flower_photos/dandelion/479115838_0771a6cdff.jpg'),\n",
              " PosixPath('datasets/flower_photos/dandelion/16495282564_d8c34d6a2e_m.jpg'),\n",
              " PosixPath('datasets/flower_photos/dandelion/17135145776_4c2ec21b05_m.jpg'),\n",
              " PosixPath('datasets/flower_photos/dandelion/5643666851_dc3f42399d_m.jpg'),\n",
              " PosixPath('datasets/flower_photos/dandelion/5572197407_a0047238a6.jpg'),\n",
              " PosixPath('datasets/flower_photos/dandelion/4278757393_bca8415ed4_n.jpg'),\n",
              " PosixPath('datasets/flower_photos/dandelion/6968202872_cfcb5b77fb.jpg'),\n",
              " PosixPath('datasets/flower_photos/dandelion/23891393761_155af6402c.jpg'),\n",
              " PosixPath('datasets/flower_photos/dandelion/19586799286_beb9d684b5.jpg'),\n",
              " PosixPath('datasets/flower_photos/dandelion/19602790836_912d38aaa8.jpg'),\n",
              " PosixPath('datasets/flower_photos/dandelion/461632542_0387557eff.jpg'),\n",
              " PosixPath('datasets/flower_photos/dandelion/3458770076_17ed3a1225.jpg'),\n",
              " PosixPath('datasets/flower_photos/dandelion/4574736702_b15ecf97d0_m.jpg'),\n",
              " PosixPath('datasets/flower_photos/dandelion/8724252904_db9a5104df_m.jpg'),\n",
              " PosixPath('datasets/flower_photos/dandelion/14614655810_9910e6dbd6_n.jpg'),\n",
              " PosixPath('datasets/flower_photos/dandelion/176284193_8fa1710431_m.jpg'),\n",
              " PosixPath('datasets/flower_photos/dandelion/2457473644_5242844e52_m.jpg'),\n",
              " PosixPath('datasets/flower_photos/dandelion/2512977446_ac498955ee.jpg'),\n",
              " PosixPath('datasets/flower_photos/dandelion/4155914848_3d57f50fc7.jpg'),\n",
              " PosixPath('datasets/flower_photos/dandelion/9646730031_f3d5014416_n.jpg'),\n",
              " PosixPath('datasets/flower_photos/dandelion/5109496141_8dcf673d43_n.jpg'),\n",
              " PosixPath('datasets/flower_photos/dandelion/13386618495_3df1f1330d.jpg'),\n",
              " PosixPath('datasets/flower_photos/dandelion/3954167682_128398bf79_m.jpg'),\n",
              " PosixPath('datasets/flower_photos/dandelion/9152356642_06ae73113f.jpg'),\n",
              " PosixPath('datasets/flower_photos/dandelion/17457028309_95514c8d02_n.jpg'),\n",
              " PosixPath('datasets/flower_photos/dandelion/13920113_f03e867ea7_m.jpg'),\n",
              " PosixPath('datasets/flower_photos/dandelion/62293290_2c463891ff_m.jpg'),\n",
              " PosixPath('datasets/flower_photos/dandelion/14728922673_99086a3818_n.jpg'),\n",
              " PosixPath('datasets/flower_photos/dandelion/14292205986_da230467ef.jpg'),\n",
              " PosixPath('datasets/flower_photos/dandelion/4575406391_7a62c5f90f_n.jpg'),\n",
              " PosixPath('datasets/flower_photos/dandelion/163702807_e508544acd_n.jpg'),\n",
              " PosixPath('datasets/flower_photos/dandelion/5863928177_8ae1425e76_n.jpg'),\n",
              " PosixPath('datasets/flower_photos/dandelion/16699732794_5bfd639cf8_n.jpg'),\n",
              " PosixPath('datasets/flower_photos/dandelion/14740350060_a489d9fa06.jpg'),\n",
              " PosixPath('datasets/flower_photos/dandelion/5996421299_b9bf488c1a_n.jpg'),\n",
              " PosixPath('datasets/flower_photos/dandelion/5024965767_230f140d60_n.jpg'),\n",
              " PosixPath('datasets/flower_photos/dandelion/6132275522_ce46b33c33_m.jpg'),\n",
              " PosixPath('datasets/flower_photos/dandelion/13942846777_5571a6b0a1_n.jpg'),\n",
              " PosixPath('datasets/flower_photos/dandelion/463736819_f779800165.jpg'),\n",
              " PosixPath('datasets/flower_photos/dandelion/8327657321_2cbceec396_n.jpg'),\n",
              " PosixPath('datasets/flower_photos/dandelion/5875763050_82f32f2eed_m.jpg'),\n",
              " PosixPath('datasets/flower_photos/dandelion/4226758402_a1b75ce3ac_n.jpg'),\n",
              " PosixPath('datasets/flower_photos/dandelion/23414449869_ee849a80d4.jpg'),\n",
              " PosixPath('datasets/flower_photos/dandelion/4645101643_9c9d9df13e.jpg'),\n",
              " PosixPath('datasets/flower_photos/dandelion/8791577794_7573712cb4_n.jpg'),\n",
              " PosixPath('datasets/flower_photos/dandelion/9595369280_dd88b61814.jpg'),\n",
              " PosixPath('datasets/flower_photos/dandelion/17029965300_8e755c2214_n.jpg'),\n",
              " PosixPath('datasets/flower_photos/dandelion/6146107825_45f708ecd7_n.jpg'),\n",
              " PosixPath('datasets/flower_photos/dandelion/8747223572_dcd9601e99.jpg'),\n",
              " PosixPath('datasets/flower_photos/dandelion/3398195641_456872b48b_n.jpg'),\n",
              " PosixPath('datasets/flower_photos/dandelion/130733200_fbe28eea19.jpg'),\n",
              " PosixPath('datasets/flower_photos/dandelion/4574451859_432c856b6e_n.jpg'),\n",
              " PosixPath('datasets/flower_photos/dandelion/14093789753_f0f1acdb57.jpg'),\n",
              " PosixPath('datasets/flower_photos/dandelion/808239968_318722e4db.jpg'),\n",
              " PosixPath('datasets/flower_photos/dandelion/4560663938_3557a1f831.jpg'),\n",
              " PosixPath('datasets/flower_photos/dandelion/14200639491_2a4611916d_n.jpg'),\n",
              " PosixPath('datasets/flower_photos/dandelion/2697283969_c1f9cbb936.jpg'),\n",
              " PosixPath('datasets/flower_photos/dandelion/6019234426_d25ea1230a_m.jpg'),\n",
              " PosixPath('datasets/flower_photos/dandelion/8681388520_c697dee897_n.jpg'),\n",
              " PosixPath('datasets/flower_photos/dandelion/23659122395_3467d88c02_n.jpg'),\n",
              " PosixPath('datasets/flower_photos/dandelion/7184780734_3baab127c2_m.jpg'),\n",
              " PosixPath('datasets/flower_photos/dandelion/6994931380_a7588c1192_m.jpg'),\n",
              " PosixPath('datasets/flower_photos/dandelion/8723679596_391a724d4f_m.jpg'),\n",
              " PosixPath('datasets/flower_photos/dandelion/8719032054_9a3ce4f0ff.jpg'),\n",
              " PosixPath('datasets/flower_photos/dandelion/5600240736_4a90c10579_n.jpg'),\n",
              " PosixPath('datasets/flower_photos/dandelion/14368895004_c486a29c1e_n.jpg'),\n",
              " PosixPath('datasets/flower_photos/dandelion/5740633858_8fd54c23c9_n.jpg'),\n",
              " PosixPath('datasets/flower_photos/dandelion/4633792226_80f89c89ec_m.jpg'),\n",
              " PosixPath('datasets/flower_photos/dandelion/8220011556_28e0cab67f.jpg'),\n",
              " PosixPath('datasets/flower_photos/dandelion/2019520447_48b2354a20_m.jpg'),\n",
              " PosixPath('datasets/flower_photos/dandelion/4858372040_52216eb0bd.jpg'),\n",
              " PosixPath('datasets/flower_photos/dandelion/14060367700_fe87e99b6a_m.jpg'),\n",
              " PosixPath('datasets/flower_photos/dandelion/459633569_5ddf6bc116_m.jpg'),\n",
              " PosixPath('datasets/flower_photos/dandelion/18889216716_cd67aec890_n.jpg'),\n",
              " PosixPath('datasets/flower_photos/dandelion/4510938552_6f7bae172a_n.jpg'),\n",
              " PosixPath('datasets/flower_photos/dandelion/7132677385_bcbdcc6001.jpg'),\n",
              " PosixPath('datasets/flower_photos/dandelion/5745882709_fb6fc8f02a_n.jpg'),\n",
              " PosixPath('datasets/flower_photos/dandelion/7267547016_c8903920bf.jpg'),\n",
              " PosixPath('datasets/flower_photos/dandelion/17276354745_2e312a72b5_n.jpg'),\n",
              " PosixPath('datasets/flower_photos/dandelion/7247192002_39b79998f0_n.jpg'),\n",
              " PosixPath('datasets/flower_photos/dandelion/17574213074_f5416afd84.jpg'),\n",
              " PosixPath('datasets/flower_photos/dandelion/2395009660_295c8ffd67_m.jpg'),\n",
              " PosixPath('datasets/flower_photos/dandelion/18995294384_77543e96b6_n.jpg'),\n",
              " PosixPath('datasets/flower_photos/dandelion/16744522344_8d21b1530d_n.jpg'),\n",
              " PosixPath('datasets/flower_photos/dandelion/3513200808_390f1d63a7_m.jpg'),\n",
              " PosixPath('datasets/flower_photos/dandelion/18276105805_d31d3f7e71.jpg'),\n",
              " PosixPath('datasets/flower_photos/dandelion/7222962522_36952a67b6_n.jpg'),\n",
              " PosixPath('datasets/flower_photos/dandelion/5673112305_02fe19297b_n.jpg'),\n",
              " PosixPath('datasets/flower_photos/dandelion/5217892384_3edce91761_m.jpg'),\n",
              " PosixPath('datasets/flower_photos/dandelion/2489438981_4eb60ef98f_m.jpg'),\n",
              " PosixPath('datasets/flower_photos/dandelion/1413979148_b40d63db90_m.jpg'),\n",
              " PosixPath('datasets/flower_photos/dandelion/14053397367_75cba846eb_n.jpg'),\n",
              " PosixPath('datasets/flower_photos/dandelion/751941983_58e1ae3957_m.jpg'),\n",
              " PosixPath('datasets/flower_photos/dandelion/6994931102_4667c0352e.jpg'),\n",
              " PosixPath('datasets/flower_photos/dandelion/9617087594_ec2a9b16f6.jpg'),\n",
              " PosixPath('datasets/flower_photos/dandelion/2133943140_9fc7bcc9aa.jpg'),\n",
              " PosixPath('datasets/flower_photos/dandelion/10683189_bd6e371b97.jpg'),\n",
              " PosixPath('datasets/flower_photos/dandelion/3021333497_b927cd8596.jpg'),\n",
              " PosixPath('datasets/flower_photos/dandelion/8209318399_ae72aefdb5.jpg'),\n",
              " PosixPath('datasets/flower_photos/dandelion/3662701865_3ff283a33a_n.jpg'),\n",
              " PosixPath('datasets/flower_photos/dandelion/4523862714_b41b459c88.jpg'),\n",
              " PosixPath('datasets/flower_photos/dandelion/8168031302_6e36f39d87.jpg'),\n",
              " PosixPath('datasets/flower_photos/dandelion/16041975_2f6c1596e5.jpg'),\n",
              " PosixPath('datasets/flower_photos/dandelion/5110104894_a52c685516_n.jpg'),\n",
              " PosixPath('datasets/flower_photos/dandelion/478851599_25bfd70605_n.jpg'),\n",
              " PosixPath('datasets/flower_photos/dandelion/4258272073_f616d1e575_m.jpg'),\n",
              " PosixPath('datasets/flower_photos/dandelion/8684925862_d736e153bf_n.jpg'),\n",
              " PosixPath('datasets/flower_photos/dandelion/14126515096_1134fae695.jpg'),\n",
              " PosixPath('datasets/flower_photos/dandelion/6104442744_ee2bcd32e7_n.jpg'),\n",
              " PosixPath('datasets/flower_photos/dandelion/4657801292_73bef15031.jpg'),\n",
              " PosixPath('datasets/flower_photos/dandelion/8739657154_6db14796c9.jpg'),\n",
              " PosixPath('datasets/flower_photos/dandelion/14306875733_61d71c64c0_n.jpg'),\n",
              " PosixPath('datasets/flower_photos/dandelion/4574102507_70039c8b28.jpg'),\n",
              " PosixPath('datasets/flower_photos/dandelion/18996965033_1d92e5c99e.jpg'),\n",
              " PosixPath('datasets/flower_photos/dandelion/4607183665_3472643bc8.jpg'),\n",
              " PosixPath('datasets/flower_photos/dandelion/2522454811_f87af57d8b.jpg'),\n",
              " PosixPath('datasets/flower_photos/dandelion/126012913_edf771c564_n.jpg'),\n",
              " PosixPath('datasets/flower_photos/dandelion/19438516548_bbaf350664.jpg'),\n",
              " PosixPath('datasets/flower_photos/dandelion/2637883118_cf6ce37be4_n.jpg'),\n",
              " PosixPath('datasets/flower_photos/dandelion/5598591979_ed9af1b3e9_n.jpg'),\n",
              " PosixPath('datasets/flower_photos/dandelion/9111669902_9471c3a49c_n.jpg'),\n",
              " PosixPath('datasets/flower_photos/dandelion/2938040169_eb38581359.jpg'),\n",
              " PosixPath('datasets/flower_photos/dandelion/4669815582_0a994fb4fd_m.jpg'),\n",
              " PosixPath('datasets/flower_photos/dandelion/7843447416_847e6ba7f4_m.jpg'),\n",
              " PosixPath('datasets/flower_photos/dandelion/4893356345_24d67eff9f_m.jpg'),\n",
              " PosixPath('datasets/flower_photos/dandelion/9262004825_710346cde9_n.jpg'),\n",
              " PosixPath('datasets/flower_photos/dandelion/8632704230_ccafc5f7e2.jpg'),\n",
              " PosixPath('datasets/flower_photos/dandelion/2598486434_bf349854f2_m.jpg'),\n",
              " PosixPath('datasets/flower_photos/dandelion/7162551630_3647eb9254.jpg'),\n",
              " PosixPath('datasets/flower_photos/dandelion/16817037661_2980d823e1_n.jpg'),\n",
              " PosixPath('datasets/flower_photos/dandelion/8980460785_b5e6842e59_n.jpg'),\n",
              " PosixPath('datasets/flower_photos/dandelion/14211880544_5d1f9d5aa8_n.jpg'),\n",
              " PosixPath('datasets/flower_photos/dandelion/20165867412_fc45d31698_m.jpg'),\n",
              " PosixPath('datasets/flower_photos/dandelion/17322195031_c2680809dc_m.jpg'),\n",
              " PosixPath('datasets/flower_photos/dandelion/3419176626_512811d3ff.jpg'),\n",
              " PosixPath('datasets/flower_photos/dandelion/13471273823_4800ca8eec.jpg'),\n",
              " PosixPath('datasets/flower_photos/dandelion/8613502159_d9ea67ba63.jpg'),\n",
              " PosixPath('datasets/flower_photos/dandelion/17649230811_9bdbbacb8c.jpg'),\n",
              " PosixPath('datasets/flower_photos/dandelion/8744249948_36cb1969f8_m.jpg'),\n",
              " PosixPath('datasets/flower_photos/dandelion/5623855601_ecaebdb8fe.jpg'),\n",
              " PosixPath('datasets/flower_photos/dandelion/5613466853_e476bb080e.jpg'),\n",
              " PosixPath('datasets/flower_photos/dandelion/3585220976_5acac92d1c.jpg'),\n",
              " PosixPath('datasets/flower_photos/dandelion/8079778274_f2a400f749_n.jpg'),\n",
              " PosixPath('datasets/flower_photos/dandelion/17747738311_5014b1f77f.jpg'),\n",
              " PosixPath('datasets/flower_photos/dandelion/7116950607_49b19102ba_n.jpg'),\n",
              " PosixPath('datasets/flower_photos/dandelion/14278605962_d3cce5522f.jpg'),\n",
              " PosixPath('datasets/flower_photos/dandelion/13651218133_b6eb8e7ed2_m.jpg'),\n",
              " PosixPath('datasets/flower_photos/dandelion/8980266062_8387f6cc89.jpg'),\n",
              " PosixPath('datasets/flower_photos/dandelion/7148085703_b9e8bcd6ca_n.jpg'),\n",
              " PosixPath('datasets/flower_photos/dandelion/3454102259_957ecd0a9b.jpg'),\n",
              " PosixPath('datasets/flower_photos/dandelion/4336536446_e635f48f2e.jpg'),\n",
              " PosixPath('datasets/flower_photos/dandelion/2634666217_d5ef87c9f7_m.jpg'),\n",
              " PosixPath('datasets/flower_photos/dandelion/19443674130_08db1d9578_m.jpg'),\n",
              " PosixPath('datasets/flower_photos/dandelion/22190242684_8c3300d4e6.jpg'),\n",
              " PosixPath('datasets/flower_photos/dandelion/14012247974_69ac128799.jpg'),\n",
              " PosixPath('datasets/flower_photos/dandelion/14335561523_f847f2f4f1.jpg'),\n",
              " PosixPath('datasets/flower_photos/dandelion/2569516382_9fd7097b9b.jpg'),\n",
              " PosixPath('datasets/flower_photos/dandelion/2495749544_679dc7ccef.jpg'),\n",
              " PosixPath('datasets/flower_photos/dandelion/18876985840_7531dc8e6a.jpg'),\n",
              " PosixPath('datasets/flower_photos/dandelion/2661585172_94707236be_m.jpg'),\n",
              " PosixPath('datasets/flower_photos/dandelion/7132482331_01769e36e9_n.jpg'),\n",
              " PosixPath('datasets/flower_photos/dandelion/4500964841_b1142b50fb_n.jpg'),\n",
              " PosixPath('datasets/flower_photos/dandelion/14019781123_ea0f8722d4_n.jpg'),\n",
              " PosixPath('datasets/flower_photos/dandelion/148180650_19a4b410db.jpg'),\n",
              " PosixPath('datasets/flower_photos/dandelion/3730618647_5725c692c3_m.jpg'),\n",
              " PosixPath('datasets/flower_photos/dandelion/17020815734_81e8db8008_m.jpg'),\n",
              " PosixPath('datasets/flower_photos/dandelion/344318990_7be3fb0a7d.jpg'),\n",
              " PosixPath('datasets/flower_photos/dandelion/18010259565_d6aae33ca7_n.jpg'),\n",
              " PosixPath('datasets/flower_photos/dandelion/11768468623_9399b5111b_n.jpg'),\n",
              " PosixPath('datasets/flower_photos/dandelion/17280886635_e384d91300_n.jpg'),\n",
              " PosixPath('datasets/flower_photos/dandelion/510677438_73e4b91c95_m.jpg'),\n",
              " PosixPath('datasets/flower_photos/dandelion/4632757134_40156d7d5b.jpg'),\n",
              " PosixPath('datasets/flower_photos/dandelion/5674707921_1ffd141bab_n.jpg'),\n",
              " PosixPath('datasets/flower_photos/dandelion/19443726008_8c9c68efa7_m.jpg'),\n",
              " PosixPath('datasets/flower_photos/dandelion/158988663_6fe055fcb4.jpg'),\n",
              " PosixPath('datasets/flower_photos/dandelion/6983113346_21551e1b52_n.jpg'),\n",
              " PosixPath('datasets/flower_photos/dandelion/19435491090_7af558e17e.jpg'),\n",
              " PosixPath('datasets/flower_photos/dandelion/22679060358_561ec823ae_m.jpg'),\n",
              " ...]"
            ]
          },
          "metadata": {},
          "execution_count": 5
        }
      ]
    },
    {
      "cell_type": "code",
      "source": [
        "len(list(data_dir.glob('*/*.jpg')))"
      ],
      "metadata": {
        "colab": {
          "base_uri": "https://localhost:8080/"
        },
        "id": "IqPmt6toTvZT",
        "outputId": "312a66b5-56cb-4eef-c7d4-bcb0569a11c7"
      },
      "execution_count": 7,
      "outputs": [
        {
          "output_type": "execute_result",
          "data": {
            "text/plain": [
              "3670"
            ]
          },
          "metadata": {},
          "execution_count": 7
        }
      ]
    },
    {
      "cell_type": "code",
      "source": [
        "flowers_images_dict = {\n",
        "    'roses': list(data_dir.glob('roses/*')),\n",
        "    'daisy': list(data_dir.glob('daisy/*')),\n",
        "    'dandelion': list(data_dir.glob('dandelion/*')),\n",
        "    'sunflowers': list(data_dir.glob('sunflowers/*')),\n",
        "    'tulips': list(data_dir.glob('tulips/*')),\n",
        "}"
      ],
      "metadata": {
        "id": "2YTqpYvfUJRI"
      },
      "execution_count": 10,
      "outputs": []
    },
    {
      "cell_type": "code",
      "source": [
        "len(flowers_images_dict)"
      ],
      "metadata": {
        "colab": {
          "base_uri": "https://localhost:8080/"
        },
        "id": "cogBwodeZVCJ",
        "outputId": "1916ff92-68b2-4936-e852-b5172406c574"
      },
      "execution_count": 13,
      "outputs": [
        {
          "output_type": "execute_result",
          "data": {
            "text/plain": [
              "5"
            ]
          },
          "metadata": {},
          "execution_count": 13
        }
      ]
    },
    {
      "cell_type": "code",
      "source": [
        "len(flowers_images_dict['roses'])"
      ],
      "metadata": {
        "colab": {
          "base_uri": "https://localhost:8080/"
        },
        "id": "KChDHAeNZXJZ",
        "outputId": "c7903a63-0512-4f5a-e70a-16ffccd39645"
      },
      "execution_count": 14,
      "outputs": [
        {
          "output_type": "execute_result",
          "data": {
            "text/plain": [
              "641"
            ]
          },
          "metadata": {},
          "execution_count": 14
        }
      ]
    },
    {
      "cell_type": "code",
      "source": [
        "flowers_labels_dict = {\n",
        "    'roses': 0,\n",
        "    'daisy': 1,\n",
        "    'dandelion': 2,\n",
        "    'sunflowers': 3,\n",
        "    'tulips': 4,\n",
        "}"
      ],
      "metadata": {
        "id": "CFtWkbg_ZgiW"
      },
      "execution_count": 15,
      "outputs": []
    },
    {
      "cell_type": "code",
      "source": [
        "cv2.imread(str(flowers_images_dict['roses'][0]))"
      ],
      "metadata": {
        "colab": {
          "base_uri": "https://localhost:8080/"
        },
        "id": "QBOLnFlNZ-Kt",
        "outputId": "6a595d1e-4190-483e-cca9-2fccbf403143"
      },
      "execution_count": 19,
      "outputs": [
        {
          "output_type": "execute_result",
          "data": {
            "text/plain": [
              "array([[[235, 215, 174],\n",
              "        [235, 216, 173],\n",
              "        [234, 215, 170],\n",
              "        ...,\n",
              "        [173, 160, 134],\n",
              "        [164, 153, 133],\n",
              "        [152, 145, 126]],\n",
              "\n",
              "       [[238, 214, 172],\n",
              "        [236, 215, 170],\n",
              "        [236, 216, 169],\n",
              "        ...,\n",
              "        [177, 160, 134],\n",
              "        [166, 152, 130],\n",
              "        [154, 142, 124]],\n",
              "\n",
              "       [[239, 214, 170],\n",
              "        [238, 215, 169],\n",
              "        [239, 217, 169],\n",
              "        ...,\n",
              "        [173, 160, 134],\n",
              "        [160, 152, 129],\n",
              "        [149, 142, 122]],\n",
              "\n",
              "       ...,\n",
              "\n",
              "       [[ 45,  66,  58],\n",
              "        [ 42,  65,  57],\n",
              "        [ 42,  65,  57],\n",
              "        ...,\n",
              "        [ 21,  21,  21],\n",
              "        [ 20,  20,  20],\n",
              "        [ 17,  17,  17]],\n",
              "\n",
              "       [[ 40,  62,  57],\n",
              "        [ 40,  63,  55],\n",
              "        [ 40,  63,  55],\n",
              "        ...,\n",
              "        [ 28,  26,  25],\n",
              "        [ 25,  23,  22],\n",
              "        [ 21,  19,  19]],\n",
              "\n",
              "       [[ 38,  60,  55],\n",
              "        [ 38,  61,  53],\n",
              "        [ 38,  62,  54],\n",
              "        ...,\n",
              "        [ 45,  42,  37],\n",
              "        [ 41,  38,  34],\n",
              "        [ 36,  32,  31]]], dtype=uint8)"
            ]
          },
          "metadata": {},
          "execution_count": 19
        }
      ]
    },
    {
      "cell_type": "code",
      "source": [
        "img=cv2.imread(str(flowers_images_dict['roses'][0]))"
      ],
      "metadata": {
        "id": "21MwQG1yZk9z"
      },
      "execution_count": 18,
      "outputs": []
    },
    {
      "cell_type": "code",
      "source": [
        "img.shape"
      ],
      "metadata": {
        "colab": {
          "base_uri": "https://localhost:8080/"
        },
        "id": "aP0ndnq0Zu-K",
        "outputId": "1409ea55-ab04-42dc-a766-1a07a589e1f6"
      },
      "execution_count": 20,
      "outputs": [
        {
          "output_type": "execute_result",
          "data": {
            "text/plain": [
              "(333, 500, 3)"
            ]
          },
          "metadata": {},
          "execution_count": 20
        }
      ]
    },
    {
      "cell_type": "code",
      "source": [
        "cv2.resize(img,(180,180)).shape"
      ],
      "metadata": {
        "colab": {
          "base_uri": "https://localhost:8080/"
        },
        "id": "WoC1ykgJaAhi",
        "outputId": "663486eb-1fbb-42b9-b4ef-f618ce0351ca"
      },
      "execution_count": 21,
      "outputs": [
        {
          "output_type": "execute_result",
          "data": {
            "text/plain": [
              "(180, 180, 3)"
            ]
          },
          "metadata": {},
          "execution_count": 21
        }
      ]
    },
    {
      "cell_type": "code",
      "source": [
        "X, y = [], []\n",
        "\n",
        "for flower_name, images in flowers_images_dict.items():\n",
        "    for image in images:\n",
        "        img = cv2.imread(str(image))\n",
        "        resized_img = cv2.resize(img,(180,180))\n",
        "        X.append(resized_img)\n",
        "        y.append(flowers_labels_dict[flower_name])"
      ],
      "metadata": {
        "id": "Th7ZZuktaORv"
      },
      "execution_count": 22,
      "outputs": []
    },
    {
      "cell_type": "code",
      "source": [
        "flowers_labels_dict['roses']"
      ],
      "metadata": {
        "colab": {
          "base_uri": "https://localhost:8080/"
        },
        "id": "1O5qv9_ia1B5",
        "outputId": "3a67de0f-da7e-4f2c-9b25-1ff0d22f19d2"
      },
      "execution_count": 23,
      "outputs": [
        {
          "output_type": "execute_result",
          "data": {
            "text/plain": [
              "0"
            ]
          },
          "metadata": {},
          "execution_count": 23
        }
      ]
    },
    {
      "cell_type": "code",
      "source": [
        "X=np.array(X)\n",
        "y=np.array(y)"
      ],
      "metadata": {
        "id": "x3rhg6Haa5Bm"
      },
      "execution_count": 24,
      "outputs": []
    },
    {
      "cell_type": "code",
      "source": [
        "from sklearn.model_selection import train_test_split\n",
        "X_train, X_test, y_train, y_test = train_test_split(X, y, test_size=0.2, random_state=0)"
      ],
      "metadata": {
        "id": "yWJ3cnGaa8kj"
      },
      "execution_count": 25,
      "outputs": []
    },
    {
      "cell_type": "code",
      "source": [
        "len(X_train)"
      ],
      "metadata": {
        "colab": {
          "base_uri": "https://localhost:8080/"
        },
        "id": "Qecok1OMbKCM",
        "outputId": "504e623e-0a94-4cbf-d2ed-2626be02e9a8"
      },
      "execution_count": 26,
      "outputs": [
        {
          "output_type": "execute_result",
          "data": {
            "text/plain": [
              "2936"
            ]
          },
          "metadata": {},
          "execution_count": 26
        }
      ]
    },
    {
      "cell_type": "code",
      "source": [
        "len(X_test)"
      ],
      "metadata": {
        "colab": {
          "base_uri": "https://localhost:8080/"
        },
        "id": "TV-dmS6KbMa2",
        "outputId": "96935f1f-4001-4ffb-c0eb-5d170ddb892d"
      },
      "execution_count": 27,
      "outputs": [
        {
          "output_type": "execute_result",
          "data": {
            "text/plain": [
              "734"
            ]
          },
          "metadata": {},
          "execution_count": 27
        }
      ]
    },
    {
      "cell_type": "code",
      "source": [
        "X_train[:2]"
      ],
      "metadata": {
        "colab": {
          "base_uri": "https://localhost:8080/"
        },
        "id": "7-zDBKrPbNXt",
        "outputId": "603101ed-7fe1-4698-d6e2-744a7dec32de"
      },
      "execution_count": 28,
      "outputs": [
        {
          "output_type": "execute_result",
          "data": {
            "text/plain": [
              "array([[[[245, 236, 232],\n",
              "         [244, 235, 232],\n",
              "         [243, 235, 235],\n",
              "         ...,\n",
              "         [205, 200, 202],\n",
              "         [203, 198, 200],\n",
              "         [207, 200, 203]],\n",
              "\n",
              "        [[245, 236, 232],\n",
              "         [244, 236, 233],\n",
              "         [243, 235, 235],\n",
              "         ...,\n",
              "         [207, 202, 204],\n",
              "         [206, 201, 203],\n",
              "         [209, 202, 205]],\n",
              "\n",
              "        [[245, 238, 233],\n",
              "         [243, 236, 234],\n",
              "         [243, 235, 235],\n",
              "         ...,\n",
              "         [210, 205, 207],\n",
              "         [211, 204, 207],\n",
              "         [213, 206, 209]],\n",
              "\n",
              "        ...,\n",
              "\n",
              "        [[193, 195, 195],\n",
              "         [195, 195, 195],\n",
              "         [195, 195, 195],\n",
              "         ...,\n",
              "         [  0,   0,   0],\n",
              "         [  0,   0,   0],\n",
              "         [  0,   0,   0]],\n",
              "\n",
              "        [[195, 198, 197],\n",
              "         [197, 198, 197],\n",
              "         [199, 197, 197],\n",
              "         ...,\n",
              "         [  0,   0,   0],\n",
              "         [  0,   0,   0],\n",
              "         [  0,   0,   0]],\n",
              "\n",
              "        [[196, 200, 198],\n",
              "         [199, 200, 198],\n",
              "         [201, 199, 198],\n",
              "         ...,\n",
              "         [  0,   0,   0],\n",
              "         [  0,   0,   0],\n",
              "         [  0,   0,   0]]],\n",
              "\n",
              "\n",
              "       [[[ 10,  17,   4],\n",
              "         [  8,  23,   3],\n",
              "         [  1,  17,   4],\n",
              "         ...,\n",
              "         [  6,  10,   5],\n",
              "         [  0,   5,   0],\n",
              "         [  6,  21,  11]],\n",
              "\n",
              "        [[  5,  15,   0],\n",
              "         [  9,  23,   2],\n",
              "         [  7,  18,   6],\n",
              "         ...,\n",
              "         [ 13,  14,   9],\n",
              "         [  3,  11,   4],\n",
              "         [  3,  18,   7]],\n",
              "\n",
              "        [[  6,  16,   4],\n",
              "         [ 11,  20,   0],\n",
              "         [ 13,  17,   4],\n",
              "         ...,\n",
              "         [ 26,  27,  19],\n",
              "         [ 11,  20,   9],\n",
              "         [  4,  20,   8]],\n",
              "\n",
              "        ...,\n",
              "\n",
              "        [[  1,  20,   1],\n",
              "         [  0,  19,   0],\n",
              "         [  2,  16,   8],\n",
              "         ...,\n",
              "         [ 52,   0, 110],\n",
              "         [ 82,   4, 138],\n",
              "         [124,  99, 167]],\n",
              "\n",
              "        [[  2,  26,   1],\n",
              "         [  1,  24,   1],\n",
              "         [  5,  20,  12],\n",
              "         ...,\n",
              "         [ 43,   0,  86],\n",
              "         [ 87,   5, 152],\n",
              "         [125, 139, 157]],\n",
              "\n",
              "        [[  1,  32,   1],\n",
              "         [  0,  26,   2],\n",
              "         [  7,  23,  15],\n",
              "         ...,\n",
              "         [ 37,   1,  75],\n",
              "         [ 94,   8, 163],\n",
              "         [123, 165, 151]]]], dtype=uint8)"
            ]
          },
          "metadata": {},
          "execution_count": 28
        }
      ]
    },
    {
      "cell_type": "code",
      "source": [
        "X_train_scaled=X_train/255\n",
        "X_test_scaled=X_test/255"
      ],
      "metadata": {
        "id": "5BBvyIxcbSZg"
      },
      "execution_count": 29,
      "outputs": []
    },
    {
      "cell_type": "code",
      "source": [
        "X_train_scaled[:2]"
      ],
      "metadata": {
        "colab": {
          "base_uri": "https://localhost:8080/"
        },
        "id": "-ckkXJWObs5G",
        "outputId": "0637404c-31f6-4444-9d0b-caa8071ad364"
      },
      "execution_count": 30,
      "outputs": [
        {
          "output_type": "execute_result",
          "data": {
            "text/plain": [
              "array([[[[0.96078431, 0.9254902 , 0.90980392],\n",
              "         [0.95686275, 0.92156863, 0.90980392],\n",
              "         [0.95294118, 0.92156863, 0.92156863],\n",
              "         ...,\n",
              "         [0.80392157, 0.78431373, 0.79215686],\n",
              "         [0.79607843, 0.77647059, 0.78431373],\n",
              "         [0.81176471, 0.78431373, 0.79607843]],\n",
              "\n",
              "        [[0.96078431, 0.9254902 , 0.90980392],\n",
              "         [0.95686275, 0.9254902 , 0.91372549],\n",
              "         [0.95294118, 0.92156863, 0.92156863],\n",
              "         ...,\n",
              "         [0.81176471, 0.79215686, 0.8       ],\n",
              "         [0.80784314, 0.78823529, 0.79607843],\n",
              "         [0.81960784, 0.79215686, 0.80392157]],\n",
              "\n",
              "        [[0.96078431, 0.93333333, 0.91372549],\n",
              "         [0.95294118, 0.9254902 , 0.91764706],\n",
              "         [0.95294118, 0.92156863, 0.92156863],\n",
              "         ...,\n",
              "         [0.82352941, 0.80392157, 0.81176471],\n",
              "         [0.82745098, 0.8       , 0.81176471],\n",
              "         [0.83529412, 0.80784314, 0.81960784]],\n",
              "\n",
              "        ...,\n",
              "\n",
              "        [[0.75686275, 0.76470588, 0.76470588],\n",
              "         [0.76470588, 0.76470588, 0.76470588],\n",
              "         [0.76470588, 0.76470588, 0.76470588],\n",
              "         ...,\n",
              "         [0.        , 0.        , 0.        ],\n",
              "         [0.        , 0.        , 0.        ],\n",
              "         [0.        , 0.        , 0.        ]],\n",
              "\n",
              "        [[0.76470588, 0.77647059, 0.77254902],\n",
              "         [0.77254902, 0.77647059, 0.77254902],\n",
              "         [0.78039216, 0.77254902, 0.77254902],\n",
              "         ...,\n",
              "         [0.        , 0.        , 0.        ],\n",
              "         [0.        , 0.        , 0.        ],\n",
              "         [0.        , 0.        , 0.        ]],\n",
              "\n",
              "        [[0.76862745, 0.78431373, 0.77647059],\n",
              "         [0.78039216, 0.78431373, 0.77647059],\n",
              "         [0.78823529, 0.78039216, 0.77647059],\n",
              "         ...,\n",
              "         [0.        , 0.        , 0.        ],\n",
              "         [0.        , 0.        , 0.        ],\n",
              "         [0.        , 0.        , 0.        ]]],\n",
              "\n",
              "\n",
              "       [[[0.03921569, 0.06666667, 0.01568627],\n",
              "         [0.03137255, 0.09019608, 0.01176471],\n",
              "         [0.00392157, 0.06666667, 0.01568627],\n",
              "         ...,\n",
              "         [0.02352941, 0.03921569, 0.01960784],\n",
              "         [0.        , 0.01960784, 0.        ],\n",
              "         [0.02352941, 0.08235294, 0.04313725]],\n",
              "\n",
              "        [[0.01960784, 0.05882353, 0.        ],\n",
              "         [0.03529412, 0.09019608, 0.00784314],\n",
              "         [0.02745098, 0.07058824, 0.02352941],\n",
              "         ...,\n",
              "         [0.05098039, 0.05490196, 0.03529412],\n",
              "         [0.01176471, 0.04313725, 0.01568627],\n",
              "         [0.01176471, 0.07058824, 0.02745098]],\n",
              "\n",
              "        [[0.02352941, 0.0627451 , 0.01568627],\n",
              "         [0.04313725, 0.07843137, 0.        ],\n",
              "         [0.05098039, 0.06666667, 0.01568627],\n",
              "         ...,\n",
              "         [0.10196078, 0.10588235, 0.0745098 ],\n",
              "         [0.04313725, 0.07843137, 0.03529412],\n",
              "         [0.01568627, 0.07843137, 0.03137255]],\n",
              "\n",
              "        ...,\n",
              "\n",
              "        [[0.00392157, 0.07843137, 0.00392157],\n",
              "         [0.        , 0.0745098 , 0.        ],\n",
              "         [0.00784314, 0.0627451 , 0.03137255],\n",
              "         ...,\n",
              "         [0.20392157, 0.        , 0.43137255],\n",
              "         [0.32156863, 0.01568627, 0.54117647],\n",
              "         [0.48627451, 0.38823529, 0.65490196]],\n",
              "\n",
              "        [[0.00784314, 0.10196078, 0.00392157],\n",
              "         [0.00392157, 0.09411765, 0.00392157],\n",
              "         [0.01960784, 0.07843137, 0.04705882],\n",
              "         ...,\n",
              "         [0.16862745, 0.        , 0.3372549 ],\n",
              "         [0.34117647, 0.01960784, 0.59607843],\n",
              "         [0.49019608, 0.54509804, 0.61568627]],\n",
              "\n",
              "        [[0.00392157, 0.1254902 , 0.00392157],\n",
              "         [0.        , 0.10196078, 0.00784314],\n",
              "         [0.02745098, 0.09019608, 0.05882353],\n",
              "         ...,\n",
              "         [0.14509804, 0.00392157, 0.29411765],\n",
              "         [0.36862745, 0.03137255, 0.63921569],\n",
              "         [0.48235294, 0.64705882, 0.59215686]]]])"
            ]
          },
          "metadata": {},
          "execution_count": 30
        }
      ]
    },
    {
      "cell_type": "markdown",
      "source": [
        "# Training the model using CNN"
      ],
      "metadata": {
        "id": "DQuQec_hbt-D"
      }
    },
    {
      "cell_type": "code",
      "source": [
        "num_classes=5\n",
        "cnn= Sequential([\n",
        "                 layers.Conv2D(16,3,padding='same', activation='relu'),\n",
        "                 layers.MaxPooling2D(),\n",
        "                 layers.Conv2D(32,3, padding='same', activation='relu'),\n",
        "                 layers.MaxPooling2D(),\n",
        "                 layers.Conv2D(64,3,padding='same',activation='relu'),\n",
        "                 layers.MaxPooling2D(),\n",
        "\n",
        "                 layers.Flatten(),\n",
        "                 layers.Dense(128, activation='relu'),\n",
        "                 layers.Dense(num_classes)\n",
        "])\n",
        "\n",
        "cnn.compile(optimizer='adam', loss=tf.keras.losses.SparseCategoricalCrossentropy(from_logits=True), metrics=['accuracy'])"
      ],
      "metadata": {
        "id": "UPdJCoeIb4L_"
      },
      "execution_count": 37,
      "outputs": []
    },
    {
      "cell_type": "code",
      "source": [
        "cnn.fit(X_train_scaled,y_train,epochs=5)"
      ],
      "metadata": {
        "colab": {
          "base_uri": "https://localhost:8080/"
        },
        "id": "mSsghywRdFsQ",
        "outputId": "ae4e89ba-ac91-4d07-980e-a9a13630ad7c"
      },
      "execution_count": 38,
      "outputs": [
        {
          "output_type": "stream",
          "name": "stdout",
          "text": [
            "Epoch 1/5\n",
            "92/92 [==============================] - 5s 46ms/step - loss: 1.3577 - accuracy: 0.4145\n",
            "Epoch 2/5\n",
            "92/92 [==============================] - 4s 45ms/step - loss: 1.0264 - accuracy: 0.5995\n",
            "Epoch 3/5\n",
            "92/92 [==============================] - 4s 46ms/step - loss: 0.8169 - accuracy: 0.6839\n",
            "Epoch 4/5\n",
            "92/92 [==============================] - 4s 47ms/step - loss: 0.6375 - accuracy: 0.7568\n",
            "Epoch 5/5\n",
            "92/92 [==============================] - 4s 48ms/step - loss: 0.4346 - accuracy: 0.8409\n"
          ]
        },
        {
          "output_type": "execute_result",
          "data": {
            "text/plain": [
              "<keras.callbacks.History at 0x7f38103cf350>"
            ]
          },
          "metadata": {},
          "execution_count": 38
        }
      ]
    },
    {
      "cell_type": "code",
      "source": [
        "cnn.evaluate(X_test_scaled,y_test)"
      ],
      "metadata": {
        "colab": {
          "base_uri": "https://localhost:8080/"
        },
        "id": "bGKeprDgdLxO",
        "outputId": "f88b7d1c-2c4e-403a-9ee8-c6d28afc4cec"
      },
      "execution_count": 39,
      "outputs": [
        {
          "output_type": "stream",
          "name": "stdout",
          "text": [
            "23/23 [==============================] - 1s 17ms/step - loss: 0.9455 - accuracy: 0.6458\n"
          ]
        },
        {
          "output_type": "execute_result",
          "data": {
            "text/plain": [
              "[0.9455143809318542, 0.6457765698432922]"
            ]
          },
          "metadata": {},
          "execution_count": 39
        }
      ]
    },
    {
      "cell_type": "code",
      "source": [
        "predictions=cnn.predict(X_test_scaled)"
      ],
      "metadata": {
        "id": "FL8om-Jzddw-"
      },
      "execution_count": 41,
      "outputs": []
    },
    {
      "cell_type": "code",
      "source": [
        "predictions"
      ],
      "metadata": {
        "colab": {
          "base_uri": "https://localhost:8080/"
        },
        "id": "kONkSIIEd1tr",
        "outputId": "5d4ec30c-d462-4f81-fb51-6fcad50fc9e8"
      },
      "execution_count": 42,
      "outputs": [
        {
          "output_type": "execute_result",
          "data": {
            "text/plain": [
              "array([[-0.12969632,  0.8424153 ,  3.902874  , -1.4062488 ,  1.9552941 ],\n",
              "       [ 8.620602  , -1.8787518 , -5.5569186 , -3.6326866 ,  5.545794  ],\n",
              "       [-0.28404972,  2.7293873 ,  8.184557  , -4.0392084 ,  1.4131677 ],\n",
              "       ...,\n",
              "       [ 1.4712942 , -0.10070462, -0.5958167 ,  0.2648753 ,  3.803593  ],\n",
              "       [-1.7362819 , -0.6667512 ,  2.636825  ,  0.31220308, -0.19403559],\n",
              "       [ 0.44144887,  0.4917045 , -0.5271903 ,  0.89175993,  1.4350162 ]],\n",
              "      dtype=float32)"
            ]
          },
          "metadata": {},
          "execution_count": 42
        }
      ]
    },
    {
      "cell_type": "code",
      "source": [
        "score=tf.nn.softmax(predictions[0])\n",
        "score"
      ],
      "metadata": {
        "colab": {
          "base_uri": "https://localhost:8080/"
        },
        "id": "bsADLKUmd2w_",
        "outputId": "3a37afe1-ade3-496a-e2bb-a36f3a504021"
      },
      "execution_count": 43,
      "outputs": [
        {
          "output_type": "execute_result",
          "data": {
            "text/plain": [
              "<tf.Tensor: shape=(5,), dtype=float32, numpy=\n",
              "array([0.01462571, 0.03866338, 0.8249737 , 0.00408054, 0.11765676],\n",
              "      dtype=float32)>"
            ]
          },
          "metadata": {},
          "execution_count": 43
        }
      ]
    },
    {
      "cell_type": "code",
      "source": [
        "np.argmax(score) # Predictions"
      ],
      "metadata": {
        "colab": {
          "base_uri": "https://localhost:8080/"
        },
        "id": "tw-NBDWEeB-f",
        "outputId": "b5541e39-c95b-47fd-818a-33baff390835"
      },
      "execution_count": 45,
      "outputs": [
        {
          "output_type": "execute_result",
          "data": {
            "text/plain": [
              "2"
            ]
          },
          "metadata": {},
          "execution_count": 45
        }
      ]
    },
    {
      "cell_type": "code",
      "source": [
        "y_test[0] # Actual  "
      ],
      "metadata": {
        "colab": {
          "base_uri": "https://localhost:8080/"
        },
        "id": "Kv-Q6uKleFD2",
        "outputId": "482e2d31-93f4-459c-b31d-aa0cd239615b"
      },
      "execution_count": 46,
      "outputs": [
        {
          "output_type": "execute_result",
          "data": {
            "text/plain": [
              "1"
            ]
          },
          "metadata": {},
          "execution_count": 46
        }
      ]
    },
    {
      "cell_type": "code",
      "source": [
        "data_augmentation = keras.Sequential(\n",
        "  [\n",
        "    layers.RandomFlip(\"horizontal\"),\n",
        "    layers.RandomRotation(0.1),\n",
        "    layers.RandomZoom(0.1),\n",
        "  ]\n",
        ")"
      ],
      "metadata": {
        "id": "LVJTxsqmeS9A"
      },
      "execution_count": 47,
      "outputs": []
    },
    {
      "cell_type": "code",
      "source": [
        "num_classes=5\n",
        "cnn_data_augmented= Sequential([\n",
        "                 data_augmentation,\n",
        "                 layers.Conv2D(16,3,padding='same', activation='relu'),\n",
        "                 layers.MaxPooling2D(),\n",
        "                 layers.Conv2D(32,3, padding='same', activation='relu'),\n",
        "                 layers.MaxPooling2D(),\n",
        "                 layers.Conv2D(64,3,padding='same',activation='relu'),\n",
        "                 layers.MaxPooling2D(),\n",
        "                 layers.Dropout(0.2),\n",
        "\n",
        "                 layers.Flatten(),\n",
        "                 layers.Dense(128, activation='relu'),\n",
        "                 layers.Dense(num_classes)\n",
        "])\n",
        "\n",
        "cnn_data_augmented.compile(optimizer='adam', loss=tf.keras.losses.SparseCategoricalCrossentropy(from_logits=True), metrics=['accuracy'])\n",
        "cnn_data_augmented.fit(X_train_scaled,y_train,epochs=10)"
      ],
      "metadata": {
        "colab": {
          "base_uri": "https://localhost:8080/"
        },
        "id": "hkobPW_CgF8B",
        "outputId": "f7e8245e-dca9-42e2-d2b8-78c5992b832c"
      },
      "execution_count": 49,
      "outputs": [
        {
          "output_type": "stream",
          "name": "stdout",
          "text": [
            "Epoch 1/10\n",
            "92/92 [==============================] - 8s 59ms/step - loss: 1.2657 - accuracy: 0.4584\n",
            "Epoch 2/10\n",
            "92/92 [==============================] - 5s 54ms/step - loss: 1.0230 - accuracy: 0.6025\n",
            "Epoch 3/10\n",
            "92/92 [==============================] - 5s 56ms/step - loss: 0.9298 - accuracy: 0.6308\n",
            "Epoch 4/10\n",
            "92/92 [==============================] - 5s 55ms/step - loss: 0.8748 - accuracy: 0.6614\n",
            "Epoch 5/10\n",
            "92/92 [==============================] - 5s 54ms/step - loss: 0.7965 - accuracy: 0.7016\n",
            "Epoch 6/10\n",
            "92/92 [==============================] - 5s 57ms/step - loss: 0.7420 - accuracy: 0.7197\n",
            "Epoch 7/10\n",
            "92/92 [==============================] - 5s 57ms/step - loss: 0.6978 - accuracy: 0.7337\n",
            "Epoch 8/10\n",
            "92/92 [==============================] - 5s 55ms/step - loss: 0.6888 - accuracy: 0.7428\n",
            "Epoch 9/10\n",
            "92/92 [==============================] - 5s 54ms/step - loss: 0.6447 - accuracy: 0.7534\n",
            "Epoch 10/10\n",
            "92/92 [==============================] - 5s 57ms/step - loss: 0.5977 - accuracy: 0.7694\n"
          ]
        },
        {
          "output_type": "execute_result",
          "data": {
            "text/plain": [
              "<keras.callbacks.History at 0x7f381003c950>"
            ]
          },
          "metadata": {},
          "execution_count": 49
        }
      ]
    },
    {
      "cell_type": "code",
      "source": [
        "cnn_data_augmented.evaluate(X_test_scaled,y_test)"
      ],
      "metadata": {
        "colab": {
          "base_uri": "https://localhost:8080/"
        },
        "id": "okHx3Ijmggvn",
        "outputId": "dcdbcc2a-27a3-4032-d85a-453391352ef6"
      },
      "execution_count": 50,
      "outputs": [
        {
          "output_type": "stream",
          "name": "stdout",
          "text": [
            "23/23 [==============================] - 1s 24ms/step - loss: 0.7798 - accuracy: 0.7248\n"
          ]
        },
        {
          "output_type": "execute_result",
          "data": {
            "text/plain": [
              "[0.7797755002975464, 0.7247956395149231]"
            ]
          },
          "metadata": {},
          "execution_count": 50
        }
      ]
    },
    {
      "cell_type": "code",
      "source": [
        ""
      ],
      "metadata": {
        "id": "hZsDHYTsgw9r"
      },
      "execution_count": null,
      "outputs": []
    }
  ]
}