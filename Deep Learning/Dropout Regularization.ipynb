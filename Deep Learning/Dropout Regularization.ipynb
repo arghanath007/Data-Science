{
 "cells": [
  {
   "cell_type": "code",
   "execution_count": 1,
   "id": "ea0f24ed",
   "metadata": {},
   "outputs": [],
   "source": [
    "import pandas as pd\n",
    "import numpy as np\n",
    "import matplotlib.pyplot as plt\n",
    "import seaborn as snb"
   ]
  },
  {
   "cell_type": "code",
   "execution_count": 11,
   "id": "e2045ddd",
   "metadata": {},
   "outputs": [
    {
     "data": {
      "text/html": [
       "<div>\n",
       "<style scoped>\n",
       "    .dataframe tbody tr th:only-of-type {\n",
       "        vertical-align: middle;\n",
       "    }\n",
       "\n",
       "    .dataframe tbody tr th {\n",
       "        vertical-align: top;\n",
       "    }\n",
       "\n",
       "    .dataframe thead th {\n",
       "        text-align: right;\n",
       "    }\n",
       "</style>\n",
       "<table border=\"1\" class=\"dataframe\">\n",
       "  <thead>\n",
       "    <tr style=\"text-align: right;\">\n",
       "      <th></th>\n",
       "      <th>0</th>\n",
       "      <th>1</th>\n",
       "      <th>2</th>\n",
       "      <th>3</th>\n",
       "      <th>4</th>\n",
       "      <th>5</th>\n",
       "      <th>6</th>\n",
       "      <th>7</th>\n",
       "      <th>8</th>\n",
       "      <th>9</th>\n",
       "      <th>...</th>\n",
       "      <th>51</th>\n",
       "      <th>52</th>\n",
       "      <th>53</th>\n",
       "      <th>54</th>\n",
       "      <th>55</th>\n",
       "      <th>56</th>\n",
       "      <th>57</th>\n",
       "      <th>58</th>\n",
       "      <th>59</th>\n",
       "      <th>60</th>\n",
       "    </tr>\n",
       "  </thead>\n",
       "  <tbody>\n",
       "    <tr>\n",
       "      <th>0</th>\n",
       "      <td>0.0200</td>\n",
       "      <td>0.0371</td>\n",
       "      <td>0.0428</td>\n",
       "      <td>0.0207</td>\n",
       "      <td>0.0954</td>\n",
       "      <td>0.0986</td>\n",
       "      <td>0.1539</td>\n",
       "      <td>0.1601</td>\n",
       "      <td>0.3109</td>\n",
       "      <td>0.2111</td>\n",
       "      <td>...</td>\n",
       "      <td>0.0027</td>\n",
       "      <td>0.0065</td>\n",
       "      <td>0.0159</td>\n",
       "      <td>0.0072</td>\n",
       "      <td>0.0167</td>\n",
       "      <td>0.0180</td>\n",
       "      <td>0.0084</td>\n",
       "      <td>0.0090</td>\n",
       "      <td>0.0032</td>\n",
       "      <td>R</td>\n",
       "    </tr>\n",
       "    <tr>\n",
       "      <th>1</th>\n",
       "      <td>0.0453</td>\n",
       "      <td>0.0523</td>\n",
       "      <td>0.0843</td>\n",
       "      <td>0.0689</td>\n",
       "      <td>0.1183</td>\n",
       "      <td>0.2583</td>\n",
       "      <td>0.2156</td>\n",
       "      <td>0.3481</td>\n",
       "      <td>0.3337</td>\n",
       "      <td>0.2872</td>\n",
       "      <td>...</td>\n",
       "      <td>0.0084</td>\n",
       "      <td>0.0089</td>\n",
       "      <td>0.0048</td>\n",
       "      <td>0.0094</td>\n",
       "      <td>0.0191</td>\n",
       "      <td>0.0140</td>\n",
       "      <td>0.0049</td>\n",
       "      <td>0.0052</td>\n",
       "      <td>0.0044</td>\n",
       "      <td>R</td>\n",
       "    </tr>\n",
       "    <tr>\n",
       "      <th>2</th>\n",
       "      <td>0.0262</td>\n",
       "      <td>0.0582</td>\n",
       "      <td>0.1099</td>\n",
       "      <td>0.1083</td>\n",
       "      <td>0.0974</td>\n",
       "      <td>0.2280</td>\n",
       "      <td>0.2431</td>\n",
       "      <td>0.3771</td>\n",
       "      <td>0.5598</td>\n",
       "      <td>0.6194</td>\n",
       "      <td>...</td>\n",
       "      <td>0.0232</td>\n",
       "      <td>0.0166</td>\n",
       "      <td>0.0095</td>\n",
       "      <td>0.0180</td>\n",
       "      <td>0.0244</td>\n",
       "      <td>0.0316</td>\n",
       "      <td>0.0164</td>\n",
       "      <td>0.0095</td>\n",
       "      <td>0.0078</td>\n",
       "      <td>R</td>\n",
       "    </tr>\n",
       "    <tr>\n",
       "      <th>3</th>\n",
       "      <td>0.0100</td>\n",
       "      <td>0.0171</td>\n",
       "      <td>0.0623</td>\n",
       "      <td>0.0205</td>\n",
       "      <td>0.0205</td>\n",
       "      <td>0.0368</td>\n",
       "      <td>0.1098</td>\n",
       "      <td>0.1276</td>\n",
       "      <td>0.0598</td>\n",
       "      <td>0.1264</td>\n",
       "      <td>...</td>\n",
       "      <td>0.0121</td>\n",
       "      <td>0.0036</td>\n",
       "      <td>0.0150</td>\n",
       "      <td>0.0085</td>\n",
       "      <td>0.0073</td>\n",
       "      <td>0.0050</td>\n",
       "      <td>0.0044</td>\n",
       "      <td>0.0040</td>\n",
       "      <td>0.0117</td>\n",
       "      <td>R</td>\n",
       "    </tr>\n",
       "    <tr>\n",
       "      <th>4</th>\n",
       "      <td>0.0762</td>\n",
       "      <td>0.0666</td>\n",
       "      <td>0.0481</td>\n",
       "      <td>0.0394</td>\n",
       "      <td>0.0590</td>\n",
       "      <td>0.0649</td>\n",
       "      <td>0.1209</td>\n",
       "      <td>0.2467</td>\n",
       "      <td>0.3564</td>\n",
       "      <td>0.4459</td>\n",
       "      <td>...</td>\n",
       "      <td>0.0031</td>\n",
       "      <td>0.0054</td>\n",
       "      <td>0.0105</td>\n",
       "      <td>0.0110</td>\n",
       "      <td>0.0015</td>\n",
       "      <td>0.0072</td>\n",
       "      <td>0.0048</td>\n",
       "      <td>0.0107</td>\n",
       "      <td>0.0094</td>\n",
       "      <td>R</td>\n",
       "    </tr>\n",
       "  </tbody>\n",
       "</table>\n",
       "<p>5 rows × 61 columns</p>\n",
       "</div>"
      ],
      "text/plain": [
       "       0       1       2       3       4       5       6       7       8   \\\n",
       "0  0.0200  0.0371  0.0428  0.0207  0.0954  0.0986  0.1539  0.1601  0.3109   \n",
       "1  0.0453  0.0523  0.0843  0.0689  0.1183  0.2583  0.2156  0.3481  0.3337   \n",
       "2  0.0262  0.0582  0.1099  0.1083  0.0974  0.2280  0.2431  0.3771  0.5598   \n",
       "3  0.0100  0.0171  0.0623  0.0205  0.0205  0.0368  0.1098  0.1276  0.0598   \n",
       "4  0.0762  0.0666  0.0481  0.0394  0.0590  0.0649  0.1209  0.2467  0.3564   \n",
       "\n",
       "       9   ...      51      52      53      54      55      56      57  \\\n",
       "0  0.2111  ...  0.0027  0.0065  0.0159  0.0072  0.0167  0.0180  0.0084   \n",
       "1  0.2872  ...  0.0084  0.0089  0.0048  0.0094  0.0191  0.0140  0.0049   \n",
       "2  0.6194  ...  0.0232  0.0166  0.0095  0.0180  0.0244  0.0316  0.0164   \n",
       "3  0.1264  ...  0.0121  0.0036  0.0150  0.0085  0.0073  0.0050  0.0044   \n",
       "4  0.4459  ...  0.0031  0.0054  0.0105  0.0110  0.0015  0.0072  0.0048   \n",
       "\n",
       "       58      59  60  \n",
       "0  0.0090  0.0032   R  \n",
       "1  0.0052  0.0044   R  \n",
       "2  0.0095  0.0078   R  \n",
       "3  0.0040  0.0117   R  \n",
       "4  0.0107  0.0094   R  \n",
       "\n",
       "[5 rows x 61 columns]"
      ]
     },
     "execution_count": 11,
     "metadata": {},
     "output_type": "execute_result"
    }
   ],
   "source": [
    "# import warnings\n",
    "# warnings.filterwarnings('ignore')\n",
    "\n",
    "df=pd.read_csv('./sonar_dataset.csv', header=None)\n",
    "df.head()"
   ]
  },
  {
   "cell_type": "code",
   "execution_count": 12,
   "id": "384c32ea",
   "metadata": {},
   "outputs": [
    {
     "data": {
      "text/plain": [
       "(208, 61)"
      ]
     },
     "execution_count": 12,
     "metadata": {},
     "output_type": "execute_result"
    }
   ],
   "source": [
    "df.shape"
   ]
  },
  {
   "cell_type": "code",
   "execution_count": 14,
   "id": "9fe2f83b",
   "metadata": {},
   "outputs": [
    {
     "data": {
      "text/plain": [
       "0     0\n",
       "1     0\n",
       "2     0\n",
       "3     0\n",
       "4     0\n",
       "     ..\n",
       "56    0\n",
       "57    0\n",
       "58    0\n",
       "59    0\n",
       "60    0\n",
       "Length: 61, dtype: int64"
      ]
     },
     "execution_count": 14,
     "metadata": {},
     "output_type": "execute_result"
    }
   ],
   "source": [
    "df.isna().sum()"
   ]
  },
  {
   "cell_type": "code",
   "execution_count": 15,
   "id": "c0a2d03f",
   "metadata": {},
   "outputs": [
    {
     "data": {
      "text/plain": [
       "Int64Index([ 0,  1,  2,  3,  4,  5,  6,  7,  8,  9, 10, 11, 12, 13, 14, 15, 16,\n",
       "            17, 18, 19, 20, 21, 22, 23, 24, 25, 26, 27, 28, 29, 30, 31, 32, 33,\n",
       "            34, 35, 36, 37, 38, 39, 40, 41, 42, 43, 44, 45, 46, 47, 48, 49, 50,\n",
       "            51, 52, 53, 54, 55, 56, 57, 58, 59, 60],\n",
       "           dtype='int64')"
      ]
     },
     "execution_count": 15,
     "metadata": {},
     "output_type": "execute_result"
    }
   ],
   "source": [
    "df.columns"
   ]
  },
  {
   "cell_type": "code",
   "execution_count": 16,
   "id": "d7f196ab",
   "metadata": {},
   "outputs": [
    {
     "data": {
      "text/plain": [
       "M    111\n",
       "R     97\n",
       "Name: 60, dtype: int64"
      ]
     },
     "execution_count": 16,
     "metadata": {},
     "output_type": "execute_result"
    }
   ],
   "source": [
    "df[60].value_counts()"
   ]
  },
  {
   "cell_type": "code",
   "execution_count": 18,
   "id": "3bed55d9",
   "metadata": {},
   "outputs": [],
   "source": [
    "X=df.drop(60, axis='columns')\n",
    "y=df[60]"
   ]
  },
  {
   "cell_type": "code",
   "execution_count": 19,
   "id": "07687e6e",
   "metadata": {},
   "outputs": [
    {
     "data": {
      "text/plain": [
       "(208, 60)"
      ]
     },
     "execution_count": 19,
     "metadata": {},
     "output_type": "execute_result"
    }
   ],
   "source": [
    "X.shape"
   ]
  },
  {
   "cell_type": "code",
   "execution_count": 20,
   "id": "6e5dd90c",
   "metadata": {},
   "outputs": [
    {
     "data": {
      "text/plain": [
       "(208,)"
      ]
     },
     "execution_count": 20,
     "metadata": {},
     "output_type": "execute_result"
    }
   ],
   "source": [
    "y.shape"
   ]
  },
  {
   "cell_type": "code",
   "execution_count": 21,
   "id": "3a2df525",
   "metadata": {},
   "outputs": [
    {
     "data": {
      "text/html": [
       "<div>\n",
       "<style scoped>\n",
       "    .dataframe tbody tr th:only-of-type {\n",
       "        vertical-align: middle;\n",
       "    }\n",
       "\n",
       "    .dataframe tbody tr th {\n",
       "        vertical-align: top;\n",
       "    }\n",
       "\n",
       "    .dataframe thead th {\n",
       "        text-align: right;\n",
       "    }\n",
       "</style>\n",
       "<table border=\"1\" class=\"dataframe\">\n",
       "  <thead>\n",
       "    <tr style=\"text-align: right;\">\n",
       "      <th></th>\n",
       "      <th>R</th>\n",
       "    </tr>\n",
       "  </thead>\n",
       "  <tbody>\n",
       "    <tr>\n",
       "      <th>4</th>\n",
       "      <td>1</td>\n",
       "    </tr>\n",
       "    <tr>\n",
       "      <th>37</th>\n",
       "      <td>1</td>\n",
       "    </tr>\n",
       "    <tr>\n",
       "      <th>161</th>\n",
       "      <td>0</td>\n",
       "    </tr>\n",
       "    <tr>\n",
       "      <th>95</th>\n",
       "      <td>1</td>\n",
       "    </tr>\n",
       "    <tr>\n",
       "      <th>15</th>\n",
       "      <td>1</td>\n",
       "    </tr>\n",
       "  </tbody>\n",
       "</table>\n",
       "</div>"
      ],
      "text/plain": [
       "     R\n",
       "4    1\n",
       "37   1\n",
       "161  0\n",
       "95   1\n",
       "15   1"
      ]
     },
     "execution_count": 21,
     "metadata": {},
     "output_type": "execute_result"
    }
   ],
   "source": [
    "y=pd.get_dummies(y,drop_first=True)\n",
    "y.sample(5) #R -> 1, M-> 0"
   ]
  },
  {
   "cell_type": "code",
   "execution_count": 22,
   "id": "55aa97a6",
   "metadata": {},
   "outputs": [
    {
     "data": {
      "text/plain": [
       "R\n",
       "0    111\n",
       "1     97\n",
       "dtype: int64"
      ]
     },
     "execution_count": 22,
     "metadata": {},
     "output_type": "execute_result"
    }
   ],
   "source": [
    "y.value_counts()"
   ]
  },
  {
   "cell_type": "code",
   "execution_count": 28,
   "id": "8fddacb6",
   "metadata": {},
   "outputs": [],
   "source": [
    "from sklearn.model_selection import train_test_split\n",
    "X_train, X_test,y_train,y_test=train_test_split(X,y, test_size=0.3)"
   ]
  },
  {
   "cell_type": "code",
   "execution_count": 29,
   "id": "137471f7",
   "metadata": {},
   "outputs": [
    {
     "data": {
      "text/plain": [
       "(145, 60)"
      ]
     },
     "execution_count": 29,
     "metadata": {},
     "output_type": "execute_result"
    }
   ],
   "source": [
    "X_train.shape"
   ]
  },
  {
   "cell_type": "code",
   "execution_count": 30,
   "id": "cb9afe71",
   "metadata": {},
   "outputs": [
    {
     "data": {
      "text/plain": [
       "(63, 60)"
      ]
     },
     "execution_count": 30,
     "metadata": {},
     "output_type": "execute_result"
    }
   ],
   "source": [
    "X_test.shape"
   ]
  },
  {
   "cell_type": "code",
   "execution_count": 31,
   "id": "ce1a6311",
   "metadata": {},
   "outputs": [
    {
     "data": {
      "text/plain": [
       "145"
      ]
     },
     "execution_count": 31,
     "metadata": {},
     "output_type": "execute_result"
    }
   ],
   "source": [
    "len(X_train)"
   ]
  },
  {
   "cell_type": "code",
   "execution_count": 32,
   "id": "6f0c5c1d",
   "metadata": {},
   "outputs": [
    {
     "data": {
      "text/plain": [
       "63"
      ]
     },
     "execution_count": 32,
     "metadata": {},
     "output_type": "execute_result"
    }
   ],
   "source": [
    "len(X_test)"
   ]
  },
  {
   "cell_type": "code",
   "execution_count": 33,
   "id": "21059909",
   "metadata": {},
   "outputs": [],
   "source": [
    "import tensorflow as tf\n",
    "from tensorflow import keras"
   ]
  },
  {
   "cell_type": "code",
   "execution_count": 49,
   "id": "feab12c8",
   "metadata": {},
   "outputs": [
    {
     "name": "stdout",
     "output_type": "stream",
     "text": [
      "Epoch 1/100\n",
      "19/19 [==============================] - 1s 13ms/step - loss: 0.6864 - accuracy: 0.5241\n",
      "Epoch 2/100\n",
      "19/19 [==============================] - 0s 12ms/step - loss: 0.6749 - accuracy: 0.6069\n",
      "Epoch 3/100\n",
      "19/19 [==============================] - ETA: 0s - loss: 0.6570 - accuracy: 0.61 - 0s 11ms/step - loss: 0.6573 - accuracy: 0.6207\n",
      "Epoch 4/100\n",
      "19/19 [==============================] - 0s 10ms/step - loss: 0.6331 - accuracy: 0.7172\n",
      "Epoch 5/100\n",
      "19/19 [==============================] - 0s 12ms/step - loss: 0.5883 - accuracy: 0.8000\n",
      "Epoch 6/100\n",
      "19/19 [==============================] - 0s 12ms/step - loss: 0.5453 - accuracy: 0.7586\n",
      "Epoch 7/100\n",
      "19/19 [==============================] - 0s 11ms/step - loss: 0.5112 - accuracy: 0.8069\n",
      "Epoch 8/100\n",
      "19/19 [==============================] - 0s 11ms/step - loss: 0.5001 - accuracy: 0.7379\n",
      "Epoch 9/100\n",
      "19/19 [==============================] - 0s 12ms/step - loss: 0.4681 - accuracy: 0.7379\n",
      "Epoch 10/100\n",
      "19/19 [==============================] - 0s 12ms/step - loss: 0.4650 - accuracy: 0.7517\n",
      "Epoch 11/100\n",
      "19/19 [==============================] - 0s 11ms/step - loss: 0.4198 - accuracy: 0.8138\n",
      "Epoch 12/100\n",
      "19/19 [==============================] - 0s 12ms/step - loss: 0.4712 - accuracy: 0.7310\n",
      "Epoch 13/100\n",
      "19/19 [==============================] - 0s 11ms/step - loss: 0.3916 - accuracy: 0.8276\n",
      "Epoch 14/100\n",
      "19/19 [==============================] - 0s 11ms/step - loss: 0.3891 - accuracy: 0.8276\n",
      "Epoch 15/100\n",
      "19/19 [==============================] - 0s 11ms/step - loss: 0.3864 - accuracy: 0.8483\n",
      "Epoch 16/100\n",
      "19/19 [==============================] - 0s 12ms/step - loss: 0.3878 - accuracy: 0.8000\n",
      "Epoch 17/100\n",
      "19/19 [==============================] - 0s 11ms/step - loss: 0.3942 - accuracy: 0.8069\n",
      "Epoch 18/100\n",
      "19/19 [==============================] - 0s 12ms/step - loss: 0.3814 - accuracy: 0.8414\n",
      "Epoch 19/100\n",
      "19/19 [==============================] - 0s 12ms/step - loss: 0.3654 - accuracy: 0.8483\n",
      "Epoch 20/100\n",
      "19/19 [==============================] - 0s 11ms/step - loss: 0.3586 - accuracy: 0.8345\n",
      "Epoch 21/100\n",
      "19/19 [==============================] - 0s 12ms/step - loss: 0.3629 - accuracy: 0.8069\n",
      "Epoch 22/100\n",
      "19/19 [==============================] - 0s 12ms/step - loss: 0.3423 - accuracy: 0.8483\n",
      "Epoch 23/100\n",
      "19/19 [==============================] - 0s 13ms/step - loss: 0.3295 - accuracy: 0.8552\n",
      "Epoch 24/100\n",
      "19/19 [==============================] - 0s 10ms/step - loss: 0.3332 - accuracy: 0.8483\n",
      "Epoch 25/100\n",
      "19/19 [==============================] - 0s 11ms/step - loss: 0.3800 - accuracy: 0.8138\n",
      "Epoch 26/100\n",
      "19/19 [==============================] - 0s 12ms/step - loss: 0.3158 - accuracy: 0.8759\n",
      "Epoch 27/100\n",
      "19/19 [==============================] - 0s 11ms/step - loss: 0.3476 - accuracy: 0.8276\n",
      "Epoch 28/100\n",
      "19/19 [==============================] - 0s 11ms/step - loss: 0.3432 - accuracy: 0.8207\n",
      "Epoch 29/100\n",
      "19/19 [==============================] - 0s 11ms/step - loss: 0.3103 - accuracy: 0.8552\n",
      "Epoch 30/100\n",
      "19/19 [==============================] - 0s 11ms/step - loss: 0.2944 - accuracy: 0.8828\n",
      "Epoch 31/100\n",
      "19/19 [==============================] - 0s 13ms/step - loss: 0.2968 - accuracy: 0.8621\n",
      "Epoch 32/100\n",
      "19/19 [==============================] - 0s 13ms/step - loss: 0.2817 - accuracy: 0.8759\n",
      "Epoch 33/100\n",
      "19/19 [==============================] - 0s 12ms/step - loss: 0.2627 - accuracy: 0.8966\n",
      "Epoch 34/100\n",
      "19/19 [==============================] - 0s 12ms/step - loss: 0.3305 - accuracy: 0.8276\n",
      "Epoch 35/100\n",
      "19/19 [==============================] - 0s 12ms/step - loss: 0.2784 - accuracy: 0.8759\n",
      "Epoch 36/100\n",
      "19/19 [==============================] - 0s 12ms/step - loss: 0.3232 - accuracy: 0.8414\n",
      "Epoch 37/100\n",
      "19/19 [==============================] - 0s 11ms/step - loss: 0.2960 - accuracy: 0.8621\n",
      "Epoch 38/100\n",
      "19/19 [==============================] - 0s 7ms/step - loss: 0.2430 - accuracy: 0.9103\n",
      "Epoch 39/100\n",
      "19/19 [==============================] - 0s 7ms/step - loss: 0.2340 - accuracy: 0.8897\n",
      "Epoch 40/100\n",
      "19/19 [==============================] - 0s 6ms/step - loss: 0.2503 - accuracy: 0.8966\n",
      "Epoch 41/100\n",
      "19/19 [==============================] - 0s 8ms/step - loss: 0.2680 - accuracy: 0.8759\n",
      "Epoch 42/100\n",
      "19/19 [==============================] - 0s 7ms/step - loss: 0.2028 - accuracy: 0.9034\n",
      "Epoch 43/100\n",
      "19/19 [==============================] - 0s 7ms/step - loss: 0.1928 - accuracy: 0.8966\n",
      "Epoch 44/100\n",
      "19/19 [==============================] - 0s 6ms/step - loss: 0.2001 - accuracy: 0.9034\n",
      "Epoch 45/100\n",
      "19/19 [==============================] - 0s 7ms/step - loss: 0.2128 - accuracy: 0.9172\n",
      "Epoch 46/100\n",
      "19/19 [==============================] - 0s 7ms/step - loss: 0.2070 - accuracy: 0.9172\n",
      "Epoch 47/100\n",
      "19/19 [==============================] - 0s 7ms/step - loss: 0.1722 - accuracy: 0.9517\n",
      "Epoch 48/100\n",
      "19/19 [==============================] - 0s 7ms/step - loss: 0.2473 - accuracy: 0.8759\n",
      "Epoch 49/100\n",
      "19/19 [==============================] - 0s 8ms/step - loss: 0.1768 - accuracy: 0.9034\n",
      "Epoch 50/100\n",
      "19/19 [==============================] - 0s 7ms/step - loss: 0.1905 - accuracy: 0.9172\n",
      "Epoch 51/100\n",
      "19/19 [==============================] - 0s 7ms/step - loss: 0.1542 - accuracy: 0.9379\n",
      "Epoch 52/100\n",
      "19/19 [==============================] - 0s 7ms/step - loss: 0.1354 - accuracy: 0.9517\n",
      "Epoch 53/100\n",
      "19/19 [==============================] - 0s 6ms/step - loss: 0.1285 - accuracy: 0.9586\n",
      "Epoch 54/100\n",
      "19/19 [==============================] - 0s 8ms/step - loss: 0.1394 - accuracy: 0.9586\n",
      "Epoch 55/100\n",
      "19/19 [==============================] - 0s 7ms/step - loss: 0.1858 - accuracy: 0.9172\n",
      "Epoch 56/100\n",
      "19/19 [==============================] - 0s 6ms/step - loss: 0.1719 - accuracy: 0.9448\n",
      "Epoch 57/100\n",
      "19/19 [==============================] - 0s 7ms/step - loss: 0.1367 - accuracy: 0.9517\n",
      "Epoch 58/100\n",
      "19/19 [==============================] - 0s 7ms/step - loss: 0.1105 - accuracy: 0.9724\n",
      "Epoch 59/100\n",
      "19/19 [==============================] - 0s 7ms/step - loss: 0.0960 - accuracy: 0.9793\n",
      "Epoch 60/100\n",
      "19/19 [==============================] - 0s 6ms/step - loss: 0.1234 - accuracy: 0.9517\n",
      "Epoch 61/100\n",
      "19/19 [==============================] - 0s 7ms/step - loss: 0.1060 - accuracy: 0.9517\n",
      "Epoch 62/100\n",
      "19/19 [==============================] - 0s 7ms/step - loss: 0.0921 - accuracy: 0.9724\n",
      "Epoch 63/100\n",
      "19/19 [==============================] - 0s 6ms/step - loss: 0.0913 - accuracy: 0.9724\n",
      "Epoch 64/100\n",
      "19/19 [==============================] - 0s 7ms/step - loss: 0.0689 - accuracy: 0.9931\n",
      "Epoch 65/100\n",
      "19/19 [==============================] - 0s 7ms/step - loss: 0.0748 - accuracy: 0.9931\n",
      "Epoch 66/100\n",
      "19/19 [==============================] - 0s 7ms/step - loss: 0.0655 - accuracy: 0.9931\n",
      "Epoch 67/100\n",
      "19/19 [==============================] - 0s 7ms/step - loss: 0.0651 - accuracy: 0.9931\n",
      "Epoch 68/100\n",
      "19/19 [==============================] - 0s 6ms/step - loss: 0.0571 - accuracy: 0.9931\n",
      "Epoch 69/100\n",
      "19/19 [==============================] - 0s 8ms/step - loss: 0.0738 - accuracy: 0.9724\n",
      "Epoch 70/100\n",
      "19/19 [==============================] - 0s 8ms/step - loss: 0.0929 - accuracy: 0.9586\n",
      "Epoch 71/100\n",
      "19/19 [==============================] - 0s 7ms/step - loss: 0.0853 - accuracy: 0.9655\n",
      "Epoch 72/100\n",
      "19/19 [==============================] - 0s 6ms/step - loss: 0.0852 - accuracy: 0.9655\n",
      "Epoch 73/100\n",
      "19/19 [==============================] - 0s 6ms/step - loss: 0.0405 - accuracy: 1.0000\n",
      "Epoch 74/100\n",
      "19/19 [==============================] - 0s 8ms/step - loss: 0.0645 - accuracy: 0.9793\n",
      "Epoch 75/100\n",
      "19/19 [==============================] - 0s 8ms/step - loss: 0.0832 - accuracy: 0.9586\n",
      "Epoch 76/100\n",
      "19/19 [==============================] - 0s 8ms/step - loss: 0.0517 - accuracy: 0.9862\n",
      "Epoch 77/100\n",
      "19/19 [==============================] - 0s 7ms/step - loss: 0.0363 - accuracy: 1.0000\n",
      "Epoch 78/100\n",
      "19/19 [==============================] - 0s 7ms/step - loss: 0.0364 - accuracy: 0.9931\n",
      "Epoch 79/100\n",
      "19/19 [==============================] - 0s 7ms/step - loss: 0.0409 - accuracy: 0.9931\n",
      "Epoch 80/100\n",
      "19/19 [==============================] - 0s 7ms/step - loss: 0.0455 - accuracy: 0.9862\n",
      "Epoch 81/100\n",
      "19/19 [==============================] - 0s 7ms/step - loss: 0.0565 - accuracy: 0.9862\n",
      "Epoch 82/100\n"
     ]
    },
    {
     "name": "stdout",
     "output_type": "stream",
     "text": [
      "19/19 [==============================] - 0s 7ms/step - loss: 0.0531 - accuracy: 0.9862\n",
      "Epoch 83/100\n",
      "19/19 [==============================] - 0s 7ms/step - loss: 0.0579 - accuracy: 0.9793\n",
      "Epoch 84/100\n",
      "19/19 [==============================] - 0s 6ms/step - loss: 0.0244 - accuracy: 0.9931\n",
      "Epoch 85/100\n",
      "19/19 [==============================] - 0s 7ms/step - loss: 0.0224 - accuracy: 1.0000\n",
      "Epoch 86/100\n",
      "19/19 [==============================] - 0s 7ms/step - loss: 0.0195 - accuracy: 1.0000\n",
      "Epoch 87/100\n",
      "19/19 [==============================] - 0s 6ms/step - loss: 0.0242 - accuracy: 1.0000\n",
      "Epoch 88/100\n",
      "19/19 [==============================] - 0s 6ms/step - loss: 0.0186 - accuracy: 1.0000\n",
      "Epoch 89/100\n",
      "19/19 [==============================] - 0s 7ms/step - loss: 0.0191 - accuracy: 1.0000\n",
      "Epoch 90/100\n",
      "19/19 [==============================] - 0s 6ms/step - loss: 0.0217 - accuracy: 1.0000\n",
      "Epoch 91/100\n",
      "19/19 [==============================] - 0s 7ms/step - loss: 0.0194 - accuracy: 1.0000\n",
      "Epoch 92/100\n",
      "19/19 [==============================] - 0s 7ms/step - loss: 0.0149 - accuracy: 1.0000\n",
      "Epoch 93/100\n",
      "19/19 [==============================] - 0s 6ms/step - loss: 0.0164 - accuracy: 1.0000\n",
      "Epoch 94/100\n",
      "19/19 [==============================] - 0s 6ms/step - loss: 0.0136 - accuracy: 1.0000\n",
      "Epoch 95/100\n",
      "19/19 [==============================] - 0s 7ms/step - loss: 0.0146 - accuracy: 1.0000\n",
      "Epoch 96/100\n",
      "19/19 [==============================] - 0s 7ms/step - loss: 0.0158 - accuracy: 1.0000\n",
      "Epoch 97/100\n",
      "19/19 [==============================] - 0s 7ms/step - loss: 0.0176 - accuracy: 1.0000\n",
      "Epoch 98/100\n",
      "19/19 [==============================] - 0s 7ms/step - loss: 0.0113 - accuracy: 1.0000\n",
      "Epoch 99/100\n",
      "19/19 [==============================] - 0s 7ms/step - loss: 0.0122 - accuracy: 1.0000\n",
      "Epoch 100/100\n",
      "19/19 [==============================] - 0s 7ms/step - loss: 0.0094 - accuracy: 1.0000\n"
     ]
    },
    {
     "data": {
      "text/plain": [
       "<keras.callbacks.History at 0x1a0a6efe490>"
      ]
     },
     "execution_count": 49,
     "metadata": {},
     "output_type": "execute_result"
    }
   ],
   "source": [
    "model=keras.Sequential([\n",
    "    keras.layers.Dense(60,input_shape=(60,)),\n",
    "    keras.layers.Dense(30,activation='relu'),\n",
    "    keras.layers.Dense(15,activation='relu'),\n",
    "    keras.layers.Dense(7,activation='relu'),\n",
    "    keras.layers.Dense(1,activation='sigmoid'),\n",
    "])\n",
    "\n",
    "model.compile(loss='binary_crossentropy', metrics=['accuracy'], optimizer='adam')\n",
    "\n",
    "model.fit(X_train,y_train,epochs=100,batch_size=8)"
   ]
  },
  {
   "cell_type": "code",
   "execution_count": 50,
   "id": "a6736aea",
   "metadata": {},
   "outputs": [
    {
     "name": "stdout",
     "output_type": "stream",
     "text": [
      "2/2 [==============================] - 0s 0s/step - loss: 0.7442 - accuracy: 0.8413\n"
     ]
    },
    {
     "data": {
      "text/plain": [
       "[0.744150698184967, 0.841269850730896]"
      ]
     },
     "execution_count": 50,
     "metadata": {},
     "output_type": "execute_result"
    }
   ],
   "source": [
    "model.evaluate(X_test,y_test)"
   ]
  },
  {
   "cell_type": "code",
   "execution_count": 51,
   "id": "957e0de0",
   "metadata": {},
   "outputs": [
    {
     "name": "stdout",
     "output_type": "stream",
     "text": [
      "[4.0478678e-03 1.7217433e-02 1.5354358e-02 2.5623950e-01 9.9964237e-01\n",
      " 1.0873694e-03 9.9957687e-01 5.0775585e-04 9.9345374e-01 9.0104541e-06]\n",
      "[0. 0. 0. 0. 1. 0. 1. 0. 1. 0.]\n"
     ]
    }
   ],
   "source": [
    "y_pred=model.predict(X_test).reshape(-1)\n",
    "print(y_pred[:10])\n",
    "\n",
    "y_pred=np.round(y_pred)\n",
    "print(y_pred[:10])"
   ]
  },
  {
   "cell_type": "code",
   "execution_count": 52,
   "id": "bf92277a",
   "metadata": {},
   "outputs": [
    {
     "name": "stdout",
     "output_type": "stream",
     "text": [
      "              precision    recall  f1-score   support\n",
      "\n",
      "           0       0.85      0.90      0.88        39\n",
      "           1       0.82      0.75      0.78        24\n",
      "\n",
      "    accuracy                           0.84        63\n",
      "   macro avg       0.84      0.82      0.83        63\n",
      "weighted avg       0.84      0.84      0.84        63\n",
      "\n"
     ]
    }
   ],
   "source": [
    "from sklearn.metrics import confusion_matrix, classification_report\n",
    "\n",
    "print(classification_report(y_test,y_pred))"
   ]
  },
  {
   "cell_type": "code",
   "execution_count": 53,
   "id": "aab69a7a",
   "metadata": {},
   "outputs": [
    {
     "name": "stdout",
     "output_type": "stream",
     "text": [
      "Epoch 1/100\n",
      "19/19 [==============================] - 1s 9ms/step - loss: 0.7301 - accuracy: 0.4552\n",
      "Epoch 2/100\n",
      "19/19 [==============================] - 0s 9ms/step - loss: 0.6998 - accuracy: 0.5379\n",
      "Epoch 3/100\n",
      "19/19 [==============================] - 0s 8ms/step - loss: 0.6819 - accuracy: 0.5655\n",
      "Epoch 4/100\n",
      "19/19 [==============================] - 0s 8ms/step - loss: 0.6917 - accuracy: 0.5172\n",
      "Epoch 5/100\n",
      "19/19 [==============================] - 0s 8ms/step - loss: 0.6932 - accuracy: 0.4897\n",
      "Epoch 6/100\n",
      "19/19 [==============================] - 0s 8ms/step - loss: 0.6888 - accuracy: 0.5034\n",
      "Epoch 7/100\n",
      "19/19 [==============================] - 0s 8ms/step - loss: 0.6731 - accuracy: 0.5379\n",
      "Epoch 8/100\n",
      "19/19 [==============================] - 0s 8ms/step - loss: 0.6723 - accuracy: 0.5241\n",
      "Epoch 9/100\n",
      "19/19 [==============================] - 0s 8ms/step - loss: 0.6833 - accuracy: 0.5793\n",
      "Epoch 10/100\n",
      "19/19 [==============================] - 0s 8ms/step - loss: 0.6890 - accuracy: 0.5655\n",
      "Epoch 11/100\n",
      "19/19 [==============================] - 0s 8ms/step - loss: 0.6504 - accuracy: 0.6000\n",
      "Epoch 12/100\n",
      "19/19 [==============================] - 0s 9ms/step - loss: 0.6648 - accuracy: 0.5862\n",
      "Epoch 13/100\n",
      "19/19 [==============================] - 0s 8ms/step - loss: 0.6707 - accuracy: 0.6000\n",
      "Epoch 14/100\n",
      "19/19 [==============================] - 0s 8ms/step - loss: 0.6779 - accuracy: 0.5586\n",
      "Epoch 15/100\n",
      "19/19 [==============================] - 0s 8ms/step - loss: 0.6444 - accuracy: 0.6138\n",
      "Epoch 16/100\n",
      "19/19 [==============================] - 0s 8ms/step - loss: 0.6826 - accuracy: 0.5793\n",
      "Epoch 17/100\n",
      "19/19 [==============================] - 0s 8ms/step - loss: 0.6248 - accuracy: 0.6207\n",
      "Epoch 18/100\n",
      "19/19 [==============================] - 0s 8ms/step - loss: 0.6604 - accuracy: 0.6207\n",
      "Epoch 19/100\n",
      "19/19 [==============================] - 0s 7ms/step - loss: 0.6365 - accuracy: 0.6138\n",
      "Epoch 20/100\n",
      "19/19 [==============================] - 0s 8ms/step - loss: 0.6322 - accuracy: 0.6483\n",
      "Epoch 21/100\n",
      "19/19 [==============================] - 0s 8ms/step - loss: 0.6524 - accuracy: 0.6552\n",
      "Epoch 22/100\n",
      "19/19 [==============================] - 0s 8ms/step - loss: 0.6539 - accuracy: 0.6621\n",
      "Epoch 23/100\n",
      "19/19 [==============================] - 0s 8ms/step - loss: 0.6324 - accuracy: 0.7034\n",
      "Epoch 24/100\n",
      "19/19 [==============================] - 0s 8ms/step - loss: 0.6240 - accuracy: 0.7034\n",
      "Epoch 25/100\n",
      "19/19 [==============================] - 0s 8ms/step - loss: 0.6061 - accuracy: 0.7034\n",
      "Epoch 26/100\n",
      "19/19 [==============================] - 0s 8ms/step - loss: 0.6134 - accuracy: 0.6759\n",
      "Epoch 27/100\n",
      "19/19 [==============================] - 0s 9ms/step - loss: 0.6568 - accuracy: 0.6759\n",
      "Epoch 28/100\n",
      "19/19 [==============================] - 0s 8ms/step - loss: 0.6604 - accuracy: 0.5793\n",
      "Epoch 29/100\n",
      "19/19 [==============================] - 0s 8ms/step - loss: 0.6315 - accuracy: 0.6690\n",
      "Epoch 30/100\n",
      "19/19 [==============================] - 0s 8ms/step - loss: 0.5864 - accuracy: 0.6621\n",
      "Epoch 31/100\n",
      "19/19 [==============================] - 0s 9ms/step - loss: 0.6316 - accuracy: 0.6897\n",
      "Epoch 32/100\n",
      "19/19 [==============================] - 0s 8ms/step - loss: 0.6148 - accuracy: 0.7241\n",
      "Epoch 33/100\n",
      "19/19 [==============================] - 0s 9ms/step - loss: 0.5916 - accuracy: 0.7241\n",
      "Epoch 34/100\n",
      "19/19 [==============================] - 0s 9ms/step - loss: 0.5950 - accuracy: 0.7310\n",
      "Epoch 35/100\n",
      "19/19 [==============================] - 0s 8ms/step - loss: 0.6048 - accuracy: 0.7241\n",
      "Epoch 36/100\n",
      "19/19 [==============================] - 0s 8ms/step - loss: 0.5927 - accuracy: 0.6690\n",
      "Epoch 37/100\n",
      "19/19 [==============================] - 0s 7ms/step - loss: 0.5999 - accuracy: 0.7379\n",
      "Epoch 38/100\n",
      "19/19 [==============================] - 0s 8ms/step - loss: 0.5749 - accuracy: 0.7655\n",
      "Epoch 39/100\n",
      "19/19 [==============================] - 0s 8ms/step - loss: 0.5745 - accuracy: 0.7172\n",
      "Epoch 40/100\n",
      "19/19 [==============================] - 0s 8ms/step - loss: 0.5581 - accuracy: 0.7862\n",
      "Epoch 41/100\n",
      "19/19 [==============================] - 0s 8ms/step - loss: 0.5504 - accuracy: 0.7517\n",
      "Epoch 42/100\n",
      "19/19 [==============================] - 0s 8ms/step - loss: 0.5772 - accuracy: 0.6759\n",
      "Epoch 43/100\n",
      "19/19 [==============================] - 0s 8ms/step - loss: 0.5426 - accuracy: 0.7793\n",
      "Epoch 44/100\n",
      "19/19 [==============================] - 0s 8ms/step - loss: 0.5715 - accuracy: 0.7241\n",
      "Epoch 45/100\n",
      "19/19 [==============================] - 0s 8ms/step - loss: 0.5136 - accuracy: 0.7862\n",
      "Epoch 46/100\n",
      "19/19 [==============================] - 0s 8ms/step - loss: 0.5740 - accuracy: 0.7517\n",
      "Epoch 47/100\n",
      "19/19 [==============================] - 0s 8ms/step - loss: 0.5364 - accuracy: 0.7655\n",
      "Epoch 48/100\n",
      "19/19 [==============================] - 0s 8ms/step - loss: 0.5237 - accuracy: 0.7724\n",
      "Epoch 49/100\n",
      "19/19 [==============================] - 0s 8ms/step - loss: 0.5867 - accuracy: 0.6897\n",
      "Epoch 50/100\n",
      "19/19 [==============================] - 0s 8ms/step - loss: 0.5256 - accuracy: 0.7724\n",
      "Epoch 51/100\n",
      "19/19 [==============================] - 0s 8ms/step - loss: 0.5171 - accuracy: 0.7724\n",
      "Epoch 52/100\n",
      "19/19 [==============================] - 0s 8ms/step - loss: 0.5137 - accuracy: 0.8207\n",
      "Epoch 53/100\n",
      "19/19 [==============================] - 0s 8ms/step - loss: 0.4953 - accuracy: 0.8000\n",
      "Epoch 54/100\n",
      "19/19 [==============================] - ETA: 0s - loss: 0.4852 - accuracy: 0.78 - 0s 8ms/step - loss: 0.4884 - accuracy: 0.7862\n",
      "Epoch 55/100\n",
      "19/19 [==============================] - 0s 12ms/step - loss: 0.5354 - accuracy: 0.7862\n",
      "Epoch 56/100\n",
      "19/19 [==============================] - 0s 12ms/step - loss: 0.4705 - accuracy: 0.8138\n",
      "Epoch 57/100\n",
      "19/19 [==============================] - 0s 12ms/step - loss: 0.4789 - accuracy: 0.8138\n",
      "Epoch 58/100\n",
      "19/19 [==============================] - 0s 14ms/step - loss: 0.5103 - accuracy: 0.7586\n",
      "Epoch 59/100\n",
      "19/19 [==============================] - 0s 13ms/step - loss: 0.4652 - accuracy: 0.7931\n",
      "Epoch 60/100\n",
      "19/19 [==============================] - 0s 12ms/step - loss: 0.4560 - accuracy: 0.8207\n",
      "Epoch 61/100\n",
      "19/19 [==============================] - 0s 13ms/step - loss: 0.5110 - accuracy: 0.7586\n",
      "Epoch 62/100\n",
      "19/19 [==============================] - 0s 13ms/step - loss: 0.4655 - accuracy: 0.8207\n",
      "Epoch 63/100\n",
      "19/19 [==============================] - 0s 12ms/step - loss: 0.4460 - accuracy: 0.8483\n",
      "Epoch 64/100\n",
      "19/19 [==============================] - 0s 13ms/step - loss: 0.4798 - accuracy: 0.7793\n",
      "Epoch 65/100\n",
      "19/19 [==============================] - 0s 12ms/step - loss: 0.4345 - accuracy: 0.8345\n",
      "Epoch 66/100\n",
      "19/19 [==============================] - 0s 12ms/step - loss: 0.4223 - accuracy: 0.8345\n",
      "Epoch 67/100\n",
      "19/19 [==============================] - 0s 14ms/step - loss: 0.4602 - accuracy: 0.8207\n",
      "Epoch 68/100\n",
      "19/19 [==============================] - 0s 13ms/step - loss: 0.4529 - accuracy: 0.8276\n",
      "Epoch 69/100\n",
      "19/19 [==============================] - 0s 13ms/step - loss: 0.4618 - accuracy: 0.8483\n",
      "Epoch 70/100\n",
      "19/19 [==============================] - 0s 12ms/step - loss: 0.5058 - accuracy: 0.8138\n",
      "Epoch 71/100\n",
      "19/19 [==============================] - 0s 13ms/step - loss: 0.4370 - accuracy: 0.8069\n",
      "Epoch 72/100\n",
      "19/19 [==============================] - 0s 12ms/step - loss: 0.4059 - accuracy: 0.8552\n",
      "Epoch 73/100\n",
      "19/19 [==============================] - 0s 12ms/step - loss: 0.4169 - accuracy: 0.8483\n",
      "Epoch 74/100\n",
      "19/19 [==============================] - 0s 12ms/step - loss: 0.4147 - accuracy: 0.8483\n",
      "Epoch 75/100\n",
      "19/19 [==============================] - 0s 12ms/step - loss: 0.4394 - accuracy: 0.8414\n",
      "Epoch 76/100\n",
      "19/19 [==============================] - 0s 12ms/step - loss: 0.4791 - accuracy: 0.7724\n",
      "Epoch 77/100\n",
      "19/19 [==============================] - 0s 11ms/step - loss: 0.4565 - accuracy: 0.8276\n",
      "Epoch 78/100\n",
      "19/19 [==============================] - 0s 12ms/step - loss: 0.3975 - accuracy: 0.8621\n",
      "Epoch 79/100\n",
      "19/19 [==============================] - 0s 13ms/step - loss: 0.4920 - accuracy: 0.7793\n",
      "Epoch 80/100\n",
      "19/19 [==============================] - ETA: 0s - loss: 0.4649 - accuracy: 0.77 - 0s 13ms/step - loss: 0.4663 - accuracy: 0.7793\n",
      "Epoch 81/100\n"
     ]
    },
    {
     "name": "stdout",
     "output_type": "stream",
     "text": [
      "19/19 [==============================] - 0s 12ms/step - loss: 0.4188 - accuracy: 0.8207\n",
      "Epoch 82/100\n",
      "19/19 [==============================] - 0s 12ms/step - loss: 0.4436 - accuracy: 0.8138\n",
      "Epoch 83/100\n",
      "19/19 [==============================] - 0s 12ms/step - loss: 0.4096 - accuracy: 0.8690\n",
      "Epoch 84/100\n",
      "19/19 [==============================] - 0s 12ms/step - loss: 0.4177 - accuracy: 0.8345\n",
      "Epoch 85/100\n",
      "19/19 [==============================] - 0s 12ms/step - loss: 0.3558 - accuracy: 0.8759\n",
      "Epoch 86/100\n",
      "19/19 [==============================] - 0s 13ms/step - loss: 0.3983 - accuracy: 0.8276\n",
      "Epoch 87/100\n",
      "19/19 [==============================] - 0s 12ms/step - loss: 0.4469 - accuracy: 0.8276\n",
      "Epoch 88/100\n",
      "19/19 [==============================] - 0s 13ms/step - loss: 0.3839 - accuracy: 0.8690\n",
      "Epoch 89/100\n",
      "19/19 [==============================] - 0s 13ms/step - loss: 0.4013 - accuracy: 0.8414\n",
      "Epoch 90/100\n",
      "19/19 [==============================] - 0s 13ms/step - loss: 0.4001 - accuracy: 0.8207\n",
      "Epoch 91/100\n",
      "19/19 [==============================] - 0s 13ms/step - loss: 0.4244 - accuracy: 0.8414\n",
      "Epoch 92/100\n",
      "19/19 [==============================] - 0s 13ms/step - loss: 0.4534 - accuracy: 0.8276\n",
      "Epoch 93/100\n",
      "19/19 [==============================] - 0s 14ms/step - loss: 0.4562 - accuracy: 0.8345\n",
      "Epoch 94/100\n",
      "19/19 [==============================] - 0s 13ms/step - loss: 0.4180 - accuracy: 0.8000\n",
      "Epoch 95/100\n",
      "19/19 [==============================] - 0s 13ms/step - loss: 0.4059 - accuracy: 0.8069\n",
      "Epoch 96/100\n",
      "19/19 [==============================] - 0s 12ms/step - loss: 0.3550 - accuracy: 0.8759\n",
      "Epoch 97/100\n",
      "19/19 [==============================] - 0s 12ms/step - loss: 0.3537 - accuracy: 0.8966\n",
      "Epoch 98/100\n",
      "19/19 [==============================] - 0s 13ms/step - loss: 0.3312 - accuracy: 0.9034\n",
      "Epoch 99/100\n",
      "19/19 [==============================] - 0s 12ms/step - loss: 0.3458 - accuracy: 0.8759\n",
      "Epoch 100/100\n",
      "19/19 [==============================] - 0s 12ms/step - loss: 0.3887 - accuracy: 0.8345\n"
     ]
    },
    {
     "data": {
      "text/plain": [
       "<keras.callbacks.History at 0x1a0a90b54f0>"
      ]
     },
     "execution_count": 53,
     "metadata": {},
     "output_type": "execute_result"
    }
   ],
   "source": [
    "model_drop=keras.Sequential([\n",
    "    keras.layers.Dense(60,input_shape=(60,)),\n",
    "    keras.layers.Dense(30,activation='relu'),\n",
    "    keras.layers.Dropout(0.5),\n",
    "    keras.layers.Dense(15,activation='relu'),\n",
    "    keras.layers.Dropout(0.5),\n",
    "    keras.layers.Dense(7,activation='relu'),\n",
    "    keras.layers.Dropout(0.5),\n",
    "    keras.layers.Dense(1,activation='sigmoid'),\n",
    "])\n",
    "\n",
    "model_drop.compile(loss='binary_crossentropy', metrics=['accuracy'], optimizer='adam')\n",
    "\n",
    "model_drop.fit(X_train,y_train,epochs=100,batch_size=8)"
   ]
  },
  {
   "cell_type": "code",
   "execution_count": 55,
   "id": "4cf69ed9",
   "metadata": {},
   "outputs": [
    {
     "name": "stdout",
     "output_type": "stream",
     "text": [
      "2/2 [==============================] - 0s 16ms/step - loss: 0.4355 - accuracy: 0.8730\n"
     ]
    },
    {
     "data": {
      "text/plain": [
       "[0.4354858100414276, 0.8730158805847168]"
      ]
     },
     "execution_count": 55,
     "metadata": {},
     "output_type": "execute_result"
    }
   ],
   "source": [
    "model_drop.evaluate(X_test,y_test)"
   ]
  },
  {
   "cell_type": "code",
   "execution_count": 58,
   "id": "cbf87db3",
   "metadata": {},
   "outputs": [
    {
     "name": "stdout",
     "output_type": "stream",
     "text": [
      "[0.99617356 0.29881752 0.27640706 0.28640017 0.99192375 0.2908378\n",
      " 0.9999844  0.2865995  0.90268445 0.28820017]\n",
      "[1. 0. 0. 0. 1. 0. 1. 0. 1. 0.]\n"
     ]
    }
   ],
   "source": [
    "y_pred_drop=model_drop.predict(X_test).reshape(-1)\n",
    "print(y_pred_drop[:10])\n",
    "\n",
    "y_pred_drop=np.round(y_pred_drop)\n",
    "print(y_pred_drop[:10])"
   ]
  },
  {
   "cell_type": "code",
   "execution_count": 59,
   "id": "e034dd47",
   "metadata": {},
   "outputs": [
    {
     "name": "stdout",
     "output_type": "stream",
     "text": [
      "              precision    recall  f1-score   support\n",
      "\n",
      "           0       0.88      0.92      0.90        39\n",
      "           1       0.86      0.79      0.83        24\n",
      "\n",
      "    accuracy                           0.87        63\n",
      "   macro avg       0.87      0.86      0.86        63\n",
      "weighted avg       0.87      0.87      0.87        63\n",
      "\n"
     ]
    }
   ],
   "source": [
    "print(classification_report(y_test,y_pred_drop))"
   ]
  },
  {
   "cell_type": "code",
   "execution_count": null,
   "id": "3999b058",
   "metadata": {},
   "outputs": [],
   "source": []
  }
 ],
 "metadata": {
  "kernelspec": {
   "display_name": "Python 3",
   "language": "python",
   "name": "python3"
  },
  "language_info": {
   "codemirror_mode": {
    "name": "ipython",
    "version": 3
   },
   "file_extension": ".py",
   "mimetype": "text/x-python",
   "name": "python",
   "nbconvert_exporter": "python",
   "pygments_lexer": "ipython3",
   "version": "3.8.8"
  }
 },
 "nbformat": 4,
 "nbformat_minor": 5
}
