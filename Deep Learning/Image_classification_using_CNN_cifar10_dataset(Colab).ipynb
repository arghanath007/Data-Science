{
  "nbformat": 4,
  "nbformat_minor": 0,
  "metadata": {
    "colab": {
      "name": "Image_classification_using_CNN_cifar10_dataset.ipynb",
      "provenance": [],
      "collapsed_sections": []
    },
    "kernelspec": {
      "name": "python3",
      "display_name": "Python 3"
    },
    "language_info": {
      "name": "python"
    },
    "accelerator": "GPU"
  },
  "cells": [
    {
      "cell_type": "markdown",
      "source": [
        "# Image Classification Using CNN with the use of the Cifar10 dataset.(Google Colab)"
      ],
      "metadata": {
        "id": "zZJICeLiyZoZ"
      }
    },
    {
      "cell_type": "code",
      "execution_count": 56,
      "metadata": {
        "id": "hDhBAWgowTOe"
      },
      "outputs": [],
      "source": [
        "import tensorflow as tf\n",
        "from tensorflow.keras import datasets, layers, models\n",
        "import matplotlib.pyplot as plt \n",
        "import numpy as np"
      ]
    },
    {
      "cell_type": "code",
      "source": [
        "datasets.cifar10.load_data()"
      ],
      "metadata": {
        "colab": {
          "base_uri": "https://localhost:8080/"
        },
        "id": "ArKMBdhGwrQ4",
        "outputId": "c1300b70-c021-44ee-d73d-ade0c0c61f40"
      },
      "execution_count": 57,
      "outputs": [
        {
          "output_type": "execute_result",
          "data": {
            "text/plain": [
              "((array([[[[ 59,  62,  63],\n",
              "           [ 43,  46,  45],\n",
              "           [ 50,  48,  43],\n",
              "           ...,\n",
              "           [158, 132, 108],\n",
              "           [152, 125, 102],\n",
              "           [148, 124, 103]],\n",
              "  \n",
              "          [[ 16,  20,  20],\n",
              "           [  0,   0,   0],\n",
              "           [ 18,   8,   0],\n",
              "           ...,\n",
              "           [123,  88,  55],\n",
              "           [119,  83,  50],\n",
              "           [122,  87,  57]],\n",
              "  \n",
              "          [[ 25,  24,  21],\n",
              "           [ 16,   7,   0],\n",
              "           [ 49,  27,   8],\n",
              "           ...,\n",
              "           [118,  84,  50],\n",
              "           [120,  84,  50],\n",
              "           [109,  73,  42]],\n",
              "  \n",
              "          ...,\n",
              "  \n",
              "          [[208, 170,  96],\n",
              "           [201, 153,  34],\n",
              "           [198, 161,  26],\n",
              "           ...,\n",
              "           [160, 133,  70],\n",
              "           [ 56,  31,   7],\n",
              "           [ 53,  34,  20]],\n",
              "  \n",
              "          [[180, 139,  96],\n",
              "           [173, 123,  42],\n",
              "           [186, 144,  30],\n",
              "           ...,\n",
              "           [184, 148,  94],\n",
              "           [ 97,  62,  34],\n",
              "           [ 83,  53,  34]],\n",
              "  \n",
              "          [[177, 144, 116],\n",
              "           [168, 129,  94],\n",
              "           [179, 142,  87],\n",
              "           ...,\n",
              "           [216, 184, 140],\n",
              "           [151, 118,  84],\n",
              "           [123,  92,  72]]],\n",
              "  \n",
              "  \n",
              "         [[[154, 177, 187],\n",
              "           [126, 137, 136],\n",
              "           [105, 104,  95],\n",
              "           ...,\n",
              "           [ 91,  95,  71],\n",
              "           [ 87,  90,  71],\n",
              "           [ 79,  81,  70]],\n",
              "  \n",
              "          [[140, 160, 169],\n",
              "           [145, 153, 154],\n",
              "           [125, 125, 118],\n",
              "           ...,\n",
              "           [ 96,  99,  78],\n",
              "           [ 77,  80,  62],\n",
              "           [ 71,  73,  61]],\n",
              "  \n",
              "          [[140, 155, 164],\n",
              "           [139, 146, 149],\n",
              "           [115, 115, 112],\n",
              "           ...,\n",
              "           [ 79,  82,  64],\n",
              "           [ 68,  70,  55],\n",
              "           [ 67,  69,  55]],\n",
              "  \n",
              "          ...,\n",
              "  \n",
              "          [[175, 167, 166],\n",
              "           [156, 154, 160],\n",
              "           [154, 160, 170],\n",
              "           ...,\n",
              "           [ 42,  34,  36],\n",
              "           [ 61,  53,  57],\n",
              "           [ 93,  83,  91]],\n",
              "  \n",
              "          [[165, 154, 128],\n",
              "           [156, 152, 130],\n",
              "           [159, 161, 142],\n",
              "           ...,\n",
              "           [103,  93,  96],\n",
              "           [123, 114, 120],\n",
              "           [131, 121, 131]],\n",
              "  \n",
              "          [[163, 148, 120],\n",
              "           [158, 148, 122],\n",
              "           [163, 156, 133],\n",
              "           ...,\n",
              "           [143, 133, 139],\n",
              "           [143, 134, 142],\n",
              "           [143, 133, 144]]],\n",
              "  \n",
              "  \n",
              "         [[[255, 255, 255],\n",
              "           [253, 253, 253],\n",
              "           [253, 253, 253],\n",
              "           ...,\n",
              "           [253, 253, 253],\n",
              "           [253, 253, 253],\n",
              "           [253, 253, 253]],\n",
              "  \n",
              "          [[255, 255, 255],\n",
              "           [255, 255, 255],\n",
              "           [255, 255, 255],\n",
              "           ...,\n",
              "           [255, 255, 255],\n",
              "           [255, 255, 255],\n",
              "           [255, 255, 255]],\n",
              "  \n",
              "          [[255, 255, 255],\n",
              "           [254, 254, 254],\n",
              "           [254, 254, 254],\n",
              "           ...,\n",
              "           [254, 254, 254],\n",
              "           [254, 254, 254],\n",
              "           [254, 254, 254]],\n",
              "  \n",
              "          ...,\n",
              "  \n",
              "          [[113, 120, 112],\n",
              "           [111, 118, 111],\n",
              "           [105, 112, 106],\n",
              "           ...,\n",
              "           [ 72,  81,  80],\n",
              "           [ 72,  80,  79],\n",
              "           [ 72,  80,  79]],\n",
              "  \n",
              "          [[111, 118, 110],\n",
              "           [104, 111, 104],\n",
              "           [ 99, 106,  98],\n",
              "           ...,\n",
              "           [ 68,  75,  73],\n",
              "           [ 70,  76,  75],\n",
              "           [ 78,  84,  82]],\n",
              "  \n",
              "          [[106, 113, 105],\n",
              "           [ 99, 106,  98],\n",
              "           [ 95, 102,  94],\n",
              "           ...,\n",
              "           [ 78,  85,  83],\n",
              "           [ 79,  85,  83],\n",
              "           [ 80,  86,  84]]],\n",
              "  \n",
              "  \n",
              "         ...,\n",
              "  \n",
              "  \n",
              "         [[[ 35, 178, 235],\n",
              "           [ 40, 176, 239],\n",
              "           [ 42, 176, 241],\n",
              "           ...,\n",
              "           [ 99, 177, 219],\n",
              "           [ 79, 147, 197],\n",
              "           [ 89, 148, 189]],\n",
              "  \n",
              "          [[ 57, 182, 234],\n",
              "           [ 44, 184, 250],\n",
              "           [ 50, 183, 240],\n",
              "           ...,\n",
              "           [156, 182, 200],\n",
              "           [141, 177, 206],\n",
              "           [116, 149, 175]],\n",
              "  \n",
              "          [[ 98, 197, 237],\n",
              "           [ 64, 189, 252],\n",
              "           [ 69, 192, 245],\n",
              "           ...,\n",
              "           [188, 195, 206],\n",
              "           [119, 135, 147],\n",
              "           [ 61,  79,  90]],\n",
              "  \n",
              "          ...,\n",
              "  \n",
              "          [[ 73,  79,  77],\n",
              "           [ 53,  63,  68],\n",
              "           [ 54,  68,  80],\n",
              "           ...,\n",
              "           [ 17,  40,  64],\n",
              "           [ 21,  36,  51],\n",
              "           [ 33,  48,  49]],\n",
              "  \n",
              "          [[ 61,  68,  75],\n",
              "           [ 55,  70,  86],\n",
              "           [ 57,  79, 103],\n",
              "           ...,\n",
              "           [ 24,  48,  72],\n",
              "           [ 17,  35,  53],\n",
              "           [  7,  23,  32]],\n",
              "  \n",
              "          [[ 44,  56,  73],\n",
              "           [ 46,  66,  88],\n",
              "           [ 49,  77, 105],\n",
              "           ...,\n",
              "           [ 27,  52,  77],\n",
              "           [ 21,  43,  66],\n",
              "           [ 12,  31,  50]]],\n",
              "  \n",
              "  \n",
              "         [[[189, 211, 240],\n",
              "           [186, 208, 236],\n",
              "           [185, 207, 235],\n",
              "           ...,\n",
              "           [175, 195, 224],\n",
              "           [172, 194, 222],\n",
              "           [169, 194, 220]],\n",
              "  \n",
              "          [[194, 210, 239],\n",
              "           [191, 207, 236],\n",
              "           [190, 206, 235],\n",
              "           ...,\n",
              "           [173, 192, 220],\n",
              "           [171, 191, 218],\n",
              "           [167, 190, 216]],\n",
              "  \n",
              "          [[208, 219, 244],\n",
              "           [205, 216, 240],\n",
              "           [204, 215, 239],\n",
              "           ...,\n",
              "           [175, 191, 217],\n",
              "           [172, 190, 216],\n",
              "           [169, 191, 215]],\n",
              "  \n",
              "          ...,\n",
              "  \n",
              "          [[207, 199, 181],\n",
              "           [203, 195, 175],\n",
              "           [203, 196, 173],\n",
              "           ...,\n",
              "           [135, 132, 127],\n",
              "           [162, 158, 150],\n",
              "           [168, 163, 151]],\n",
              "  \n",
              "          [[198, 190, 170],\n",
              "           [189, 181, 159],\n",
              "           [180, 172, 147],\n",
              "           ...,\n",
              "           [178, 171, 160],\n",
              "           [175, 169, 156],\n",
              "           [175, 169, 154]],\n",
              "  \n",
              "          [[198, 189, 173],\n",
              "           [189, 181, 162],\n",
              "           [178, 170, 149],\n",
              "           ...,\n",
              "           [195, 184, 169],\n",
              "           [196, 189, 171],\n",
              "           [195, 190, 171]]],\n",
              "  \n",
              "  \n",
              "         [[[229, 229, 239],\n",
              "           [236, 237, 247],\n",
              "           [234, 236, 247],\n",
              "           ...,\n",
              "           [217, 219, 233],\n",
              "           [221, 223, 234],\n",
              "           [222, 223, 233]],\n",
              "  \n",
              "          [[222, 221, 229],\n",
              "           [239, 239, 249],\n",
              "           [233, 234, 246],\n",
              "           ...,\n",
              "           [223, 223, 236],\n",
              "           [227, 228, 238],\n",
              "           [210, 211, 220]],\n",
              "  \n",
              "          [[213, 206, 211],\n",
              "           [234, 232, 239],\n",
              "           [231, 233, 244],\n",
              "           ...,\n",
              "           [220, 220, 232],\n",
              "           [220, 219, 232],\n",
              "           [202, 203, 215]],\n",
              "  \n",
              "          ...,\n",
              "  \n",
              "          [[150, 143, 135],\n",
              "           [140, 135, 127],\n",
              "           [132, 127, 120],\n",
              "           ...,\n",
              "           [224, 222, 218],\n",
              "           [230, 228, 225],\n",
              "           [241, 241, 238]],\n",
              "  \n",
              "          [[137, 132, 126],\n",
              "           [130, 127, 120],\n",
              "           [125, 121, 115],\n",
              "           ...,\n",
              "           [181, 180, 178],\n",
              "           [202, 201, 198],\n",
              "           [212, 211, 207]],\n",
              "  \n",
              "          [[122, 119, 114],\n",
              "           [118, 116, 110],\n",
              "           [120, 116, 111],\n",
              "           ...,\n",
              "           [179, 177, 173],\n",
              "           [164, 164, 162],\n",
              "           [163, 163, 161]]]], dtype=uint8), array([[6],\n",
              "         [9],\n",
              "         [9],\n",
              "         ...,\n",
              "         [9],\n",
              "         [1],\n",
              "         [1]], dtype=uint8)), (array([[[[158, 112,  49],\n",
              "           [159, 111,  47],\n",
              "           [165, 116,  51],\n",
              "           ...,\n",
              "           [137,  95,  36],\n",
              "           [126,  91,  36],\n",
              "           [116,  85,  33]],\n",
              "  \n",
              "          [[152, 112,  51],\n",
              "           [151, 110,  40],\n",
              "           [159, 114,  45],\n",
              "           ...,\n",
              "           [136,  95,  31],\n",
              "           [125,  91,  32],\n",
              "           [119,  88,  34]],\n",
              "  \n",
              "          [[151, 110,  47],\n",
              "           [151, 109,  33],\n",
              "           [158, 111,  36],\n",
              "           ...,\n",
              "           [139,  98,  34],\n",
              "           [130,  95,  34],\n",
              "           [120,  89,  33]],\n",
              "  \n",
              "          ...,\n",
              "  \n",
              "          [[ 68, 124, 177],\n",
              "           [ 42, 100, 148],\n",
              "           [ 31,  88, 137],\n",
              "           ...,\n",
              "           [ 38,  97, 146],\n",
              "           [ 13,  64, 108],\n",
              "           [ 40,  85, 127]],\n",
              "  \n",
              "          [[ 61, 116, 168],\n",
              "           [ 49, 102, 148],\n",
              "           [ 35,  85, 132],\n",
              "           ...,\n",
              "           [ 26,  82, 130],\n",
              "           [ 29,  82, 126],\n",
              "           [ 20,  64, 107]],\n",
              "  \n",
              "          [[ 54, 107, 160],\n",
              "           [ 56, 105, 149],\n",
              "           [ 45,  89, 132],\n",
              "           ...,\n",
              "           [ 24,  77, 124],\n",
              "           [ 34,  84, 129],\n",
              "           [ 21,  67, 110]]],\n",
              "  \n",
              "  \n",
              "         [[[235, 235, 235],\n",
              "           [231, 231, 231],\n",
              "           [232, 232, 232],\n",
              "           ...,\n",
              "           [233, 233, 233],\n",
              "           [233, 233, 233],\n",
              "           [232, 232, 232]],\n",
              "  \n",
              "          [[238, 238, 238],\n",
              "           [235, 235, 235],\n",
              "           [235, 235, 235],\n",
              "           ...,\n",
              "           [236, 236, 236],\n",
              "           [236, 236, 236],\n",
              "           [235, 235, 235]],\n",
              "  \n",
              "          [[237, 237, 237],\n",
              "           [234, 234, 234],\n",
              "           [234, 234, 234],\n",
              "           ...,\n",
              "           [235, 235, 235],\n",
              "           [235, 235, 235],\n",
              "           [234, 234, 234]],\n",
              "  \n",
              "          ...,\n",
              "  \n",
              "          [[ 87,  99,  89],\n",
              "           [ 43,  51,  37],\n",
              "           [ 19,  23,  11],\n",
              "           ...,\n",
              "           [169, 184, 179],\n",
              "           [182, 197, 193],\n",
              "           [188, 202, 201]],\n",
              "  \n",
              "          [[ 82,  96,  82],\n",
              "           [ 46,  57,  36],\n",
              "           [ 36,  44,  22],\n",
              "           ...,\n",
              "           [174, 189, 183],\n",
              "           [185, 200, 196],\n",
              "           [187, 202, 200]],\n",
              "  \n",
              "          [[ 85, 101,  83],\n",
              "           [ 62,  75,  48],\n",
              "           [ 58,  67,  38],\n",
              "           ...,\n",
              "           [168, 183, 178],\n",
              "           [180, 195, 191],\n",
              "           [186, 200, 199]]],\n",
              "  \n",
              "  \n",
              "         [[[158, 190, 222],\n",
              "           [158, 187, 218],\n",
              "           [139, 166, 194],\n",
              "           ...,\n",
              "           [228, 231, 234],\n",
              "           [237, 239, 243],\n",
              "           [238, 241, 246]],\n",
              "  \n",
              "          [[170, 200, 229],\n",
              "           [172, 199, 226],\n",
              "           [151, 176, 201],\n",
              "           ...,\n",
              "           [232, 232, 236],\n",
              "           [246, 246, 250],\n",
              "           [246, 247, 251]],\n",
              "  \n",
              "          [[174, 201, 225],\n",
              "           [176, 200, 222],\n",
              "           [157, 179, 199],\n",
              "           ...,\n",
              "           [230, 229, 232],\n",
              "           [250, 249, 251],\n",
              "           [245, 244, 247]],\n",
              "  \n",
              "          ...,\n",
              "  \n",
              "          [[ 31,  40,  45],\n",
              "           [ 30,  39,  44],\n",
              "           [ 26,  35,  40],\n",
              "           ...,\n",
              "           [ 37,  40,  46],\n",
              "           [  9,  13,  14],\n",
              "           [  4,   7,   5]],\n",
              "  \n",
              "          [[ 23,  34,  39],\n",
              "           [ 27,  38,  43],\n",
              "           [ 25,  36,  41],\n",
              "           ...,\n",
              "           [ 19,  20,  24],\n",
              "           [  4,   6,   3],\n",
              "           [  5,   7,   3]],\n",
              "  \n",
              "          [[ 28,  41,  47],\n",
              "           [ 30,  43,  50],\n",
              "           [ 32,  45,  52],\n",
              "           ...,\n",
              "           [  5,   6,   8],\n",
              "           [  4,   5,   3],\n",
              "           [  7,   8,   7]]],\n",
              "  \n",
              "  \n",
              "         ...,\n",
              "  \n",
              "  \n",
              "         [[[ 20,  15,  12],\n",
              "           [ 19,  14,  11],\n",
              "           [ 15,  14,  11],\n",
              "           ...,\n",
              "           [ 10,   9,   7],\n",
              "           [ 12,  11,   9],\n",
              "           [ 13,  12,  10]],\n",
              "  \n",
              "          [[ 21,  16,  13],\n",
              "           [ 20,  16,  13],\n",
              "           [ 18,  17,  12],\n",
              "           ...,\n",
              "           [ 10,   9,   7],\n",
              "           [ 10,   9,   7],\n",
              "           [ 12,  11,   9]],\n",
              "  \n",
              "          [[ 21,  16,  13],\n",
              "           [ 21,  17,  12],\n",
              "           [ 20,  18,  11],\n",
              "           ...,\n",
              "           [ 12,  11,   9],\n",
              "           [ 12,  11,   9],\n",
              "           [ 13,  12,  10]],\n",
              "  \n",
              "          ...,\n",
              "  \n",
              "          [[ 33,  25,  13],\n",
              "           [ 34,  26,  15],\n",
              "           [ 34,  26,  15],\n",
              "           ...,\n",
              "           [ 28,  25,  52],\n",
              "           [ 29,  25,  58],\n",
              "           [ 23,  20,  42]],\n",
              "  \n",
              "          [[ 33,  25,  14],\n",
              "           [ 34,  26,  15],\n",
              "           [ 34,  26,  15],\n",
              "           ...,\n",
              "           [ 27,  24,  52],\n",
              "           [ 27,  24,  56],\n",
              "           [ 25,  22,  47]],\n",
              "  \n",
              "          [[ 31,  23,  12],\n",
              "           [ 32,  24,  13],\n",
              "           [ 33,  25,  14],\n",
              "           ...,\n",
              "           [ 24,  23,  50],\n",
              "           [ 26,  23,  53],\n",
              "           [ 25,  20,  47]]],\n",
              "  \n",
              "  \n",
              "         [[[ 25,  40,  12],\n",
              "           [ 15,  36,   3],\n",
              "           [ 23,  41,  18],\n",
              "           ...,\n",
              "           [ 61,  82,  78],\n",
              "           [ 92, 113, 112],\n",
              "           [ 75,  89,  92]],\n",
              "  \n",
              "          [[ 12,  25,   6],\n",
              "           [ 20,  37,   7],\n",
              "           [ 24,  36,  15],\n",
              "           ...,\n",
              "           [115, 134, 138],\n",
              "           [149, 168, 177],\n",
              "           [104, 117, 131]],\n",
              "  \n",
              "          [[ 12,  25,  11],\n",
              "           [ 15,  29,   6],\n",
              "           [ 34,  40,  24],\n",
              "           ...,\n",
              "           [154, 172, 182],\n",
              "           [157, 175, 192],\n",
              "           [116, 129, 151]],\n",
              "  \n",
              "          ...,\n",
              "  \n",
              "          [[100, 129,  81],\n",
              "           [103, 132,  84],\n",
              "           [104, 134,  86],\n",
              "           ...,\n",
              "           [ 97, 128,  84],\n",
              "           [ 98, 126,  84],\n",
              "           [ 91, 121,  79]],\n",
              "  \n",
              "          [[103, 132,  83],\n",
              "           [104, 131,  83],\n",
              "           [107, 135,  87],\n",
              "           ...,\n",
              "           [101, 132,  87],\n",
              "           [ 99, 127,  84],\n",
              "           [ 92, 121,  79]],\n",
              "  \n",
              "          [[ 95, 126,  78],\n",
              "           [ 95, 123,  76],\n",
              "           [101, 128,  81],\n",
              "           ...,\n",
              "           [ 93, 124,  80],\n",
              "           [ 95, 123,  81],\n",
              "           [ 92, 120,  80]]],\n",
              "  \n",
              "  \n",
              "         [[[ 73,  78,  75],\n",
              "           [ 98, 103, 113],\n",
              "           [ 99, 106, 114],\n",
              "           ...,\n",
              "           [135, 150, 152],\n",
              "           [135, 149, 154],\n",
              "           [203, 215, 223]],\n",
              "  \n",
              "          [[ 69,  73,  70],\n",
              "           [ 84,  89,  97],\n",
              "           [ 68,  75,  81],\n",
              "           ...,\n",
              "           [ 85,  95,  89],\n",
              "           [ 71,  82,  80],\n",
              "           [120, 133, 135]],\n",
              "  \n",
              "          [[ 69,  73,  70],\n",
              "           [ 90,  95, 100],\n",
              "           [ 62,  71,  74],\n",
              "           ...,\n",
              "           [ 74,  81,  70],\n",
              "           [ 53,  62,  54],\n",
              "           [ 62,  74,  69]],\n",
              "  \n",
              "          ...,\n",
              "  \n",
              "          [[123, 128,  96],\n",
              "           [132, 132, 102],\n",
              "           [129, 128, 100],\n",
              "           ...,\n",
              "           [108, 107,  88],\n",
              "           [ 62,  60,  55],\n",
              "           [ 27,  27,  28]],\n",
              "  \n",
              "          [[115, 121,  91],\n",
              "           [123, 124,  95],\n",
              "           [129, 126,  99],\n",
              "           ...,\n",
              "           [115, 116,  94],\n",
              "           [ 66,  65,  59],\n",
              "           [ 27,  27,  27]],\n",
              "  \n",
              "          [[116, 120,  90],\n",
              "           [121, 122,  94],\n",
              "           [129, 128, 101],\n",
              "           ...,\n",
              "           [116, 115,  94],\n",
              "           [ 68,  65,  58],\n",
              "           [ 27,  26,  26]]]], dtype=uint8), array([[3],\n",
              "         [8],\n",
              "         [8],\n",
              "         ...,\n",
              "         [5],\n",
              "         [1],\n",
              "         [7]], dtype=uint8)))"
            ]
          },
          "metadata": {},
          "execution_count": 57
        }
      ]
    },
    {
      "cell_type": "code",
      "source": [
        "(X_train,y_train), (X_test,y_test)=datasets.cifar10.load_data()\n",
        "X_train.shape"
      ],
      "metadata": {
        "colab": {
          "base_uri": "https://localhost:8080/"
        },
        "id": "5OSLxyG-xLYX",
        "outputId": "3fde97c8-7902-4bde-b2c2-9e5d24aa582e"
      },
      "execution_count": 58,
      "outputs": [
        {
          "output_type": "execute_result",
          "data": {
            "text/plain": [
              "(50000, 32, 32, 3)"
            ]
          },
          "metadata": {},
          "execution_count": 58
        }
      ]
    },
    {
      "cell_type": "code",
      "source": [
        "X_test.shape"
      ],
      "metadata": {
        "colab": {
          "base_uri": "https://localhost:8080/"
        },
        "id": "U6VHBkfAxVgv",
        "outputId": "bc8141d4-a5bb-4bfb-9946-35eda7f081a1"
      },
      "execution_count": 59,
      "outputs": [
        {
          "output_type": "execute_result",
          "data": {
            "text/plain": [
              "(10000, 32, 32, 3)"
            ]
          },
          "metadata": {},
          "execution_count": 59
        }
      ]
    },
    {
      "cell_type": "code",
      "source": [
        "plt.figure(figsize=(5,2))\n",
        "plt.imshow(X_train[0])"
      ],
      "metadata": {
        "colab": {
          "base_uri": "https://localhost:8080/",
          "height": 179
        },
        "id": "iphYxgswxYii",
        "outputId": "ca8223ff-bc90-4511-ad64-29c4e11ea2ec"
      },
      "execution_count": 60,
      "outputs": [
        {
          "output_type": "execute_result",
          "data": {
            "text/plain": [
              "<matplotlib.image.AxesImage at 0x7f2e2582de10>"
            ]
          },
          "metadata": {},
          "execution_count": 60
        },
        {
          "output_type": "display_data",
          "data": {
            "image/png": "[encoded data removed]",
            "text/plain": [
              "<Figure size 360x144 with 1 Axes>"
            ]
          },
          "metadata": {
            "needs_background": "light"
          }
        }
      ]
    },
    {
      "cell_type": "markdown",
      "source": [
        "# The labels of the dataset"
      ],
      "metadata": {
        "id": "S-tBWtWkyTAW"
      }
    },
    {
      "cell_type": "code",
      "source": [
        "classes = [\"airplane\",\"automobile\",\"bird\",\"cat\",\"deer\",\"dog\",\"frog\",\"horse\",\"ship\",\"truck\"]"
      ],
      "metadata": {
        "id": "PfD_tnv1xmPY"
      },
      "execution_count": 61,
      "outputs": []
    },
    {
      "cell_type": "code",
      "source": [
        "classes[0]"
      ],
      "metadata": {
        "colab": {
          "base_uri": "https://localhost:8080/",
          "height": 37
        },
        "id": "h-B4rcwvyntp",
        "outputId": "c71bd945-3cb0-4fb6-f8aa-0235587f7615"
      },
      "execution_count": 62,
      "outputs": [
        {
          "output_type": "execute_result",
          "data": {
            "application/vnd.google.colaboratory.intrinsic+json": {
              "type": "string"
            },
            "text/plain": [
              "'airplane'"
            ]
          },
          "metadata": {},
          "execution_count": 62
        }
      ]
    },
    {
      "cell_type": "code",
      "source": [
        "y_train.shape"
      ],
      "metadata": {
        "colab": {
          "base_uri": "https://localhost:8080/"
        },
        "id": "kVPimFvjyprN",
        "outputId": "7e63764b-6c88-457d-e7a6-157e0d127c8b"
      },
      "execution_count": 63,
      "outputs": [
        {
          "output_type": "execute_result",
          "data": {
            "text/plain": [
              "(50000, 1)"
            ]
          },
          "metadata": {},
          "execution_count": 63
        }
      ]
    },
    {
      "cell_type": "code",
      "source": [
        "y_train[:5]"
      ],
      "metadata": {
        "colab": {
          "base_uri": "https://localhost:8080/"
        },
        "id": "u0V62UoPyr0L",
        "outputId": "73a5833f-0cbf-4b46-815b-033e23655a62"
      },
      "execution_count": 64,
      "outputs": [
        {
          "output_type": "execute_result",
          "data": {
            "text/plain": [
              "array([[6],\n",
              "       [9],\n",
              "       [9],\n",
              "       [4],\n",
              "       [1]], dtype=uint8)"
            ]
          },
          "metadata": {},
          "execution_count": 64
        }
      ]
    },
    {
      "cell_type": "code",
      "source": [
        "plt.imshow(X_train[0]) # 6 -> Frog"
      ],
      "metadata": {
        "colab": {
          "base_uri": "https://localhost:8080/",
          "height": 286
        },
        "id": "DAQeDEPoytf_",
        "outputId": "f2202410-f907-4639-bf14-ecf36bf13a31"
      },
      "execution_count": 65,
      "outputs": [
        {
          "output_type": "execute_result",
          "data": {
            "text/plain": [
              "<matplotlib.image.AxesImage at 0x7f2e257960d0>"
            ]
          },
          "metadata": {},
          "execution_count": 65
        },
        {
          "output_type": "display_data",
          "data": {
            "image/png": "[encoded data removed]",
            "text/plain": [
              "<Figure size 432x288 with 1 Axes>"
            ]
          },
          "metadata": {
            "needs_background": "light"
          }
        }
      ]
    },
    {
      "cell_type": "code",
      "source": [
        "y_train.shape"
      ],
      "metadata": {
        "colab": {
          "base_uri": "https://localhost:8080/"
        },
        "id": "xNlgv09ay4ce",
        "outputId": "ae3c1707-8a18-45eb-d585-09d867f83c97"
      },
      "execution_count": 66,
      "outputs": [
        {
          "output_type": "execute_result",
          "data": {
            "text/plain": [
              "(50000, 1)"
            ]
          },
          "metadata": {},
          "execution_count": 66
        }
      ]
    },
    {
      "cell_type": "code",
      "source": [
        "y_train=y_train.reshape(-1,) # Reshaped the 2D array into 1D array. '-1' means we dont want to change that dimension\n",
        "y_train.shape"
      ],
      "metadata": {
        "colab": {
          "base_uri": "https://localhost:8080/"
        },
        "id": "BWKzgDWyzKOC",
        "outputId": "04801928-01d5-419c-804b-0c59e713d957"
      },
      "execution_count": 67,
      "outputs": [
        {
          "output_type": "execute_result",
          "data": {
            "text/plain": [
              "(50000,)"
            ]
          },
          "metadata": {},
          "execution_count": 67
        }
      ]
    },
    {
      "cell_type": "code",
      "source": [
        "y_train[:5]"
      ],
      "metadata": {
        "colab": {
          "base_uri": "https://localhost:8080/"
        },
        "id": "ckXS28EJzWby",
        "outputId": "fb467db3-8859-4f1c-c77b-3c6db7031637"
      },
      "execution_count": 68,
      "outputs": [
        {
          "output_type": "execute_result",
          "data": {
            "text/plain": [
              "array([6, 9, 9, 4, 1], dtype=uint8)"
            ]
          },
          "metadata": {},
          "execution_count": 68
        }
      ]
    },
    {
      "cell_type": "code",
      "source": [
        "classes"
      ],
      "metadata": {
        "colab": {
          "base_uri": "https://localhost:8080/"
        },
        "id": "HrS-4PzLzZEK",
        "outputId": "9f243e74-8311-45f1-d82f-2ff8b4f4b0d9"
      },
      "execution_count": 69,
      "outputs": [
        {
          "output_type": "execute_result",
          "data": {
            "text/plain": [
              "['airplane',\n",
              " 'automobile',\n",
              " 'bird',\n",
              " 'cat',\n",
              " 'deer',\n",
              " 'dog',\n",
              " 'frog',\n",
              " 'horse',\n",
              " 'ship',\n",
              " 'truck']"
            ]
          },
          "metadata": {},
          "execution_count": 69
        }
      ]
    },
    {
      "cell_type": "code",
      "source": [
        "classes[9]"
      ],
      "metadata": {
        "colab": {
          "base_uri": "https://localhost:8080/",
          "height": 37
        },
        "id": "E2U7TGz7zqyi",
        "outputId": "2d7ab9a6-9bdf-46fd-ef04-9ea84d34dd22"
      },
      "execution_count": 70,
      "outputs": [
        {
          "output_type": "execute_result",
          "data": {
            "application/vnd.google.colaboratory.intrinsic+json": {
              "type": "string"
            },
            "text/plain": [
              "'truck'"
            ]
          },
          "metadata": {},
          "execution_count": 70
        }
      ]
    },
    {
      "cell_type": "markdown",
      "source": [
        "## Creating a plotting/visualizing function to see the images"
      ],
      "metadata": {
        "id": "EFZkvfJuz1BP"
      }
    },
    {
      "cell_type": "code",
      "source": [
        "def plot_samples(X,y, index):\n",
        "  plt.figure(figsize=(15,2))\n",
        "  plt.imshow(X[index])\n",
        "  plt.xlabel(classes[y[index]])"
      ],
      "metadata": {
        "id": "JU8IROgdz-a5"
      },
      "execution_count": 71,
      "outputs": []
    },
    {
      "cell_type": "code",
      "source": [
        "plot_samples(X_train,y_train,0)"
      ],
      "metadata": {
        "colab": {
          "base_uri": "https://localhost:8080/",
          "height": 173
        },
        "id": "o9BAVHQS0Kl_",
        "outputId": "e10751e4-aefb-4d4d-8220-5b2f0885560e"
      },
      "execution_count": 72,
      "outputs": [
        {
          "output_type": "display_data",
          "data": {
            "image/png": "[encoded data removed]",
            "text/plain": [
              "<Figure size 1080x144 with 1 Axes>"
            ]
          },
          "metadata": {
            "needs_background": "light"
          }
        }
      ]
    },
    {
      "cell_type": "code",
      "source": [
        "plot_samples(X_train,y_train,1)"
      ],
      "metadata": {
        "colab": {
          "base_uri": "https://localhost:8080/",
          "height": 173
        },
        "id": "Ddxj2vmW0RTd",
        "outputId": "d9b5a431-7b83-4638-e5af-343502002e98"
      },
      "execution_count": 73,
      "outputs": [
        {
          "output_type": "display_data",
          "data": {
            "image/png": "[encoded data removed]",
            "text/plain": [
              "<Figure size 1080x144 with 1 Axes>"
            ]
          },
          "metadata": {
            "needs_background": "light"
          }
        }
      ]
    },
    {
      "cell_type": "code",
      "source": [
        "plot_samples(X_train,y_train,2)"
      ],
      "metadata": {
        "colab": {
          "base_uri": "https://localhost:8080/",
          "height": 173
        },
        "id": "b1VS1GKB0XYN",
        "outputId": "eb4deffa-b1bd-46bb-f110-439d83543491"
      },
      "execution_count": 74,
      "outputs": [
        {
          "output_type": "display_data",
          "data": {
            "image/png": "[encoded data removed]",
            "text/plain": [
              "<Figure size 1080x144 with 1 Axes>"
            ]
          },
          "metadata": {
            "needs_background": "light"
          }
        }
      ]
    },
    {
      "cell_type": "code",
      "source": [
        "X_train[0]"
      ],
      "metadata": {
        "colab": {
          "base_uri": "https://localhost:8080/"
        },
        "id": "oeJ8Ncvx0ZGR",
        "outputId": "714e9d12-565f-43f9-f76e-15a1b9d28317"
      },
      "execution_count": 75,
      "outputs": [
        {
          "output_type": "execute_result",
          "data": {
            "text/plain": [
              "array([[[ 59,  62,  63],\n",
              "        [ 43,  46,  45],\n",
              "        [ 50,  48,  43],\n",
              "        ...,\n",
              "        [158, 132, 108],\n",
              "        [152, 125, 102],\n",
              "        [148, 124, 103]],\n",
              "\n",
              "       [[ 16,  20,  20],\n",
              "        [  0,   0,   0],\n",
              "        [ 18,   8,   0],\n",
              "        ...,\n",
              "        [123,  88,  55],\n",
              "        [119,  83,  50],\n",
              "        [122,  87,  57]],\n",
              "\n",
              "       [[ 25,  24,  21],\n",
              "        [ 16,   7,   0],\n",
              "        [ 49,  27,   8],\n",
              "        ...,\n",
              "        [118,  84,  50],\n",
              "        [120,  84,  50],\n",
              "        [109,  73,  42]],\n",
              "\n",
              "       ...,\n",
              "\n",
              "       [[208, 170,  96],\n",
              "        [201, 153,  34],\n",
              "        [198, 161,  26],\n",
              "        ...,\n",
              "        [160, 133,  70],\n",
              "        [ 56,  31,   7],\n",
              "        [ 53,  34,  20]],\n",
              "\n",
              "       [[180, 139,  96],\n",
              "        [173, 123,  42],\n",
              "        [186, 144,  30],\n",
              "        ...,\n",
              "        [184, 148,  94],\n",
              "        [ 97,  62,  34],\n",
              "        [ 83,  53,  34]],\n",
              "\n",
              "       [[177, 144, 116],\n",
              "        [168, 129,  94],\n",
              "        [179, 142,  87],\n",
              "        ...,\n",
              "        [216, 184, 140],\n",
              "        [151, 118,  84],\n",
              "        [123,  92,  72]]], dtype=uint8)"
            ]
          },
          "metadata": {},
          "execution_count": 75
        }
      ]
    },
    {
      "cell_type": "code",
      "source": [
        "X_train[0]/255"
      ],
      "metadata": {
        "colab": {
          "base_uri": "https://localhost:8080/"
        },
        "id": "OmRVJHWw0i36",
        "outputId": "aaaf13e3-ce14-4c30-e4fc-97a01ffea4e4"
      },
      "execution_count": 76,
      "outputs": [
        {
          "output_type": "execute_result",
          "data": {
            "text/plain": [
              "array([[[0.23137255, 0.24313725, 0.24705882],\n",
              "        [0.16862745, 0.18039216, 0.17647059],\n",
              "        [0.19607843, 0.18823529, 0.16862745],\n",
              "        ...,\n",
              "        [0.61960784, 0.51764706, 0.42352941],\n",
              "        [0.59607843, 0.49019608, 0.4       ],\n",
              "        [0.58039216, 0.48627451, 0.40392157]],\n",
              "\n",
              "       [[0.0627451 , 0.07843137, 0.07843137],\n",
              "        [0.        , 0.        , 0.        ],\n",
              "        [0.07058824, 0.03137255, 0.        ],\n",
              "        ...,\n",
              "        [0.48235294, 0.34509804, 0.21568627],\n",
              "        [0.46666667, 0.3254902 , 0.19607843],\n",
              "        [0.47843137, 0.34117647, 0.22352941]],\n",
              "\n",
              "       [[0.09803922, 0.09411765, 0.08235294],\n",
              "        [0.0627451 , 0.02745098, 0.        ],\n",
              "        [0.19215686, 0.10588235, 0.03137255],\n",
              "        ...,\n",
              "        [0.4627451 , 0.32941176, 0.19607843],\n",
              "        [0.47058824, 0.32941176, 0.19607843],\n",
              "        [0.42745098, 0.28627451, 0.16470588]],\n",
              "\n",
              "       ...,\n",
              "\n",
              "       [[0.81568627, 0.66666667, 0.37647059],\n",
              "        [0.78823529, 0.6       , 0.13333333],\n",
              "        [0.77647059, 0.63137255, 0.10196078],\n",
              "        ...,\n",
              "        [0.62745098, 0.52156863, 0.2745098 ],\n",
              "        [0.21960784, 0.12156863, 0.02745098],\n",
              "        [0.20784314, 0.13333333, 0.07843137]],\n",
              "\n",
              "       [[0.70588235, 0.54509804, 0.37647059],\n",
              "        [0.67843137, 0.48235294, 0.16470588],\n",
              "        [0.72941176, 0.56470588, 0.11764706],\n",
              "        ...,\n",
              "        [0.72156863, 0.58039216, 0.36862745],\n",
              "        [0.38039216, 0.24313725, 0.13333333],\n",
              "        [0.3254902 , 0.20784314, 0.13333333]],\n",
              "\n",
              "       [[0.69411765, 0.56470588, 0.45490196],\n",
              "        [0.65882353, 0.50588235, 0.36862745],\n",
              "        [0.70196078, 0.55686275, 0.34117647],\n",
              "        ...,\n",
              "        [0.84705882, 0.72156863, 0.54901961],\n",
              "        [0.59215686, 0.4627451 , 0.32941176],\n",
              "        [0.48235294, 0.36078431, 0.28235294]]])"
            ]
          },
          "metadata": {},
          "execution_count": 76
        }
      ]
    },
    {
      "cell_type": "code",
      "source": [
        "X_train=X_train/255\n",
        "X_test=X_test/255"
      ],
      "metadata": {
        "id": "wtR64LBF0lu1"
      },
      "execution_count": 77,
      "outputs": []
    },
    {
      "cell_type": "markdown",
      "source": [
        "# Testing the dataset on ANN(Artifical Neural Network)"
      ],
      "metadata": {
        "id": "ye9on_Uc01Ht"
      }
    },
    {
      "cell_type": "code",
      "source": [
        "ann = models.Sequential([\n",
        "        layers.Flatten(input_shape=(32,32,3)),\n",
        "        layers.Dense(3000, activation='relu'),\n",
        "        layers.Dense(1000, activation='relu'),\n",
        "        layers.Dense(10, activation='softmax')    \n",
        "    ])\n",
        "\n",
        "ann.compile(optimizer='SGD',\n",
        "              loss='sparse_categorical_crossentropy',\n",
        "              metrics=['accuracy'])\n",
        "\n",
        "ann.fit(X_train, y_train, epochs=10)"
      ],
      "metadata": {
        "colab": {
          "base_uri": "https://localhost:8080/"
        },
        "id": "rbzJb0Z61Cqs",
        "outputId": "454deca5-f445-4b50-a38c-54b59023ea8c"
      },
      "execution_count": 78,
      "outputs": [
        {
          "output_type": "stream",
          "name": "stdout",
          "text": [
            "Epoch 1/10\n",
            "1563/1563 [==============================] - 18s 11ms/step - loss: 1.8072 - accuracy: 0.3561\n",
            "Epoch 2/10\n",
            "1563/1563 [==============================] - 17s 11ms/step - loss: 1.6211 - accuracy: 0.4260\n",
            "Epoch 3/10\n",
            "1563/1563 [==============================] - 10s 6ms/step - loss: 1.5381 - accuracy: 0.4571\n",
            "Epoch 4/10\n",
            "1563/1563 [==============================] - 10s 6ms/step - loss: 1.4817 - accuracy: 0.4801\n",
            "Epoch 5/10\n",
            "1563/1563 [==============================] - 10s 6ms/step - loss: 1.4329 - accuracy: 0.4955\n",
            "Epoch 6/10\n",
            "1563/1563 [==============================] - 10s 6ms/step - loss: 1.3876 - accuracy: 0.5116\n",
            "Epoch 7/10\n",
            "1563/1563 [==============================] - 10s 6ms/step - loss: 1.3492 - accuracy: 0.5264\n",
            "Epoch 8/10\n",
            "1563/1563 [==============================] - 10s 6ms/step - loss: 1.3143 - accuracy: 0.5368\n",
            "Epoch 9/10\n",
            "1563/1563 [==============================] - 10s 6ms/step - loss: 1.2807 - accuracy: 0.5495\n",
            "Epoch 10/10\n",
            "1563/1563 [==============================] - 10s 6ms/step - loss: 1.2509 - accuracy: 0.5627\n"
          ]
        },
        {
          "output_type": "execute_result",
          "data": {
            "text/plain": [
              "<keras.callbacks.History at 0x7f2e25606dd0>"
            ]
          },
          "metadata": {},
          "execution_count": 78
        }
      ]
    },
    {
      "cell_type": "code",
      "source": [
        "ann.evaluate(X_test,y_test)"
      ],
      "metadata": {
        "colab": {
          "base_uri": "https://localhost:8080/"
        },
        "id": "xU0ksPGU1O0O",
        "outputId": "cfa0e7ea-bd6a-4004-fc23-6c4fa244c85a"
      },
      "execution_count": 79,
      "outputs": [
        {
          "output_type": "stream",
          "name": "stdout",
          "text": [
            "313/313 [==============================] - 2s 5ms/step - loss: 1.3886 - accuracy: 0.5071\n"
          ]
        },
        {
          "output_type": "execute_result",
          "data": {
            "text/plain": [
              "[1.388640284538269, 0.507099986076355]"
            ]
          },
          "metadata": {},
          "execution_count": 79
        }
      ]
    },
    {
      "cell_type": "code",
      "source": [
        "from sklearn.metrics import confusion_matrix , classification_report\n",
        "y_pred = ann.predict(X_test)\n",
        "y_pred_classes = [np.argmax(element) for element in y_pred]\n",
        "\n",
        "print(\"Classification Report: \\n\", classification_report(y_test, y_pred_classes))"
      ],
      "metadata": {
        "colab": {
          "base_uri": "https://localhost:8080/"
        },
        "id": "QbpnZejt3BqB",
        "outputId": "9c76f00a-93cc-4643-cdf5-b26a323df9da"
      },
      "execution_count": 80,
      "outputs": [
        {
          "output_type": "stream",
          "name": "stdout",
          "text": [
            "Classification Report: \n",
            "               precision    recall  f1-score   support\n",
            "\n",
            "           0       0.43      0.78      0.55      1000\n",
            "           1       0.73      0.54      0.62      1000\n",
            "           2       0.43      0.40      0.41      1000\n",
            "           3       0.43      0.19      0.27      1000\n",
            "           4       0.52      0.35      0.42      1000\n",
            "           5       0.40      0.50      0.44      1000\n",
            "           6       0.63      0.48      0.55      1000\n",
            "           7       0.46      0.70      0.56      1000\n",
            "           8       0.68      0.53      0.59      1000\n",
            "           9       0.56      0.59      0.58      1000\n",
            "\n",
            "    accuracy                           0.51     10000\n",
            "   macro avg       0.53      0.51      0.50     10000\n",
            "weighted avg       0.53      0.51      0.50     10000\n",
            "\n"
          ]
        }
      ]
    },
    {
      "cell_type": "markdown",
      "source": [
        "# Testing the dataset on CNN(Convolutional Neural Network)"
      ],
      "metadata": {
        "id": "lqzKn5TG3I80"
      }
    },
    {
      "cell_type": "code",
      "source": [
        "cnn = models.Sequential([\n",
        "    layers.Conv2D(filters=32, kernel_size=(3, 3), activation='relu', input_shape=(32, 32, 3)),\n",
        "    layers.MaxPooling2D((2, 2)),\n",
        "    \n",
        "    layers.Conv2D(filters=64, kernel_size=(3, 3), activation='relu'),\n",
        "    layers.MaxPooling2D((2, 2)),\n",
        "    \n",
        "    layers.Flatten(),\n",
        "    layers.Dense(64, activation='relu'),\n",
        "    layers.Dense(10, activation='softmax')\n",
        "])\n",
        "\n",
        "\n",
        "cnn.compile(optimizer='adam',\n",
        "              loss='sparse_categorical_crossentropy',\n",
        "              metrics=['accuracy'])\n",
        "\n",
        "cnn.fit(X_train, y_train, epochs=10)\n",
        "\n"
      ],
      "metadata": {
        "colab": {
          "base_uri": "https://localhost:8080/"
        },
        "id": "JSK4kqqL54Yh",
        "outputId": "ab5cc1af-49fd-4d0c-e60d-83293d08f01b"
      },
      "execution_count": 81,
      "outputs": [
        {
          "output_type": "stream",
          "name": "stdout",
          "text": [
            "Epoch 1/10\n",
            "1563/1563 [==============================] - 9s 6ms/step - loss: 1.4497 - accuracy: 0.4800\n",
            "Epoch 2/10\n",
            "1563/1563 [==============================] - 10s 6ms/step - loss: 1.0971 - accuracy: 0.6175\n",
            "Epoch 3/10\n",
            "1563/1563 [==============================] - 10s 6ms/step - loss: 0.9650 - accuracy: 0.6639\n",
            "Epoch 4/10\n",
            "1563/1563 [==============================] - 10s 6ms/step - loss: 0.8815 - accuracy: 0.6947\n",
            "Epoch 5/10\n",
            "1563/1563 [==============================] - 10s 6ms/step - loss: 0.8141 - accuracy: 0.7177\n",
            "Epoch 6/10\n",
            "1563/1563 [==============================] - 10s 6ms/step - loss: 0.7639 - accuracy: 0.7332\n",
            "Epoch 7/10\n",
            "1563/1563 [==============================] - 9s 6ms/step - loss: 0.7125 - accuracy: 0.7517\n",
            "Epoch 8/10\n",
            "1563/1563 [==============================] - 9s 6ms/step - loss: 0.6713 - accuracy: 0.7653\n",
            "Epoch 9/10\n",
            "1563/1563 [==============================] - 9s 6ms/step - loss: 0.6318 - accuracy: 0.7785\n",
            "Epoch 10/10\n",
            "1563/1563 [==============================] - 9s 6ms/step - loss: 0.5971 - accuracy: 0.7905\n"
          ]
        },
        {
          "output_type": "execute_result",
          "data": {
            "text/plain": [
              "<keras.callbacks.History at 0x7f2e276d4350>"
            ]
          },
          "metadata": {},
          "execution_count": 81
        }
      ]
    },
    {
      "cell_type": "code",
      "source": [
        "cnn.evaluate(X_test,y_test)"
      ],
      "metadata": {
        "colab": {
          "base_uri": "https://localhost:8080/"
        },
        "id": "oqIIyy506F3R",
        "outputId": "7fac175a-4fe4-464a-f412-ae52fffc764f"
      },
      "execution_count": 82,
      "outputs": [
        {
          "output_type": "stream",
          "name": "stdout",
          "text": [
            "313/313 [==============================] - 1s 4ms/step - loss: 0.9555 - accuracy: 0.6934\n"
          ]
        },
        {
          "output_type": "execute_result",
          "data": {
            "text/plain": [
              "[0.9555220007896423, 0.6934000253677368]"
            ]
          },
          "metadata": {},
          "execution_count": 82
        }
      ]
    },
    {
      "cell_type": "code",
      "source": [
        "y_test=y_test.reshape(-1,)\n",
        "y_test[:5]"
      ],
      "metadata": {
        "colab": {
          "base_uri": "https://localhost:8080/"
        },
        "id": "TJMcweid6lLK",
        "outputId": "061c3037-9da5-4123-e48d-94695752984b"
      },
      "execution_count": 83,
      "outputs": [
        {
          "output_type": "execute_result",
          "data": {
            "text/plain": [
              "array([3, 8, 8, 0, 6], dtype=uint8)"
            ]
          },
          "metadata": {},
          "execution_count": 83
        }
      ]
    },
    {
      "cell_type": "code",
      "source": [
        "plot_sample(X_test,y_test,1)"
      ],
      "metadata": {
        "colab": {
          "base_uri": "https://localhost:8080/",
          "height": 173
        },
        "id": "0h4MverQ6oyN",
        "outputId": "6d12a2fd-6522-4d0c-9df6-9ef98874ec0e"
      },
      "execution_count": 84,
      "outputs": [
        {
          "output_type": "display_data",
          "data": {
            "image/png": "[encoded data removed]",
            "text/plain": [
              "<Figure size 1080x144 with 1 Axes>"
            ]
          },
          "metadata": {
            "needs_background": "light"
          }
        }
      ]
    },
    {
      "cell_type": "code",
      "source": [
        "y_pred=cnn.predict(X_test)\n",
        "y_pred[:5] # Probability distribution"
      ],
      "metadata": {
        "colab": {
          "base_uri": "https://localhost:8080/"
        },
        "id": "KbSu2wv-6wGv",
        "outputId": "d5c89b61-e0ba-4000-a7bc-037705e41464"
      },
      "execution_count": 85,
      "outputs": [
        {
          "output_type": "execute_result",
          "data": {
            "text/plain": [
              "array([[1.1781682e-03, 4.4343169e-06, 6.6268083e-04, 3.4669963e-01,\n",
              "        2.8716706e-04, 4.7849495e-02, 6.6328904e-04, 1.5193874e-05,\n",
              "        6.0260522e-01, 3.4701035e-05],\n",
              "       [1.2874456e-06, 5.7873052e-01, 2.3020610e-09, 9.8233208e-09,\n",
              "        2.0395869e-13, 4.7327295e-13, 3.5864308e-11, 6.7289361e-14,\n",
              "        4.2126760e-01, 6.0108636e-07],\n",
              "       [1.8344881e-02, 7.0661402e-01, 8.7035442e-05, 1.2427052e-03,\n",
              "        5.5888700e-05, 9.4401505e-05, 3.3664321e-05, 7.6189848e-05,\n",
              "        2.5957730e-01, 1.3873986e-02],\n",
              "       [6.0487455e-01, 7.2174715e-03, 3.2041315e-04, 1.6382216e-03,\n",
              "        6.5602289e-05, 3.0203428e-06, 6.0989505e-06, 6.1143951e-06,\n",
              "        3.8534996e-01, 5.1861675e-04],\n",
              "       [3.8058363e-07, 5.5273317e-06, 1.0819169e-02, 2.7990781e-02,\n",
              "        5.7464451e-01, 2.5297934e-03, 3.8399723e-01, 1.6420709e-06,\n",
              "        1.0940684e-05, 9.4788611e-08]], dtype=float32)"
            ]
          },
          "metadata": {},
          "execution_count": 85
        }
      ]
    },
    {
      "cell_type": "code",
      "source": [
        "np.argmax(y_pred[0])"
      ],
      "metadata": {
        "colab": {
          "base_uri": "https://localhost:8080/"
        },
        "id": "vM6LWhpD6-M6",
        "outputId": "1d8beb5b-e7b9-4c4e-fe71-c0ed308a317e"
      },
      "execution_count": 86,
      "outputs": [
        {
          "output_type": "execute_result",
          "data": {
            "text/plain": [
              "8"
            ]
          },
          "metadata": {},
          "execution_count": 86
        }
      ]
    },
    {
      "cell_type": "code",
      "source": [
        "y_classes=[np.argmax(element) for element in y_pred]\n",
        "y_classes[:5]"
      ],
      "metadata": {
        "colab": {
          "base_uri": "https://localhost:8080/"
        },
        "id": "qGJfICTM7Fi3",
        "outputId": "95cc9e00-7edc-4d7d-91e0-57ce4378d3da"
      },
      "execution_count": 87,
      "outputs": [
        {
          "output_type": "execute_result",
          "data": {
            "text/plain": [
              "[8, 1, 1, 0, 4]"
            ]
          },
          "metadata": {},
          "execution_count": 87
        }
      ]
    },
    {
      "cell_type": "code",
      "source": [
        "y_test[:5]"
      ],
      "metadata": {
        "colab": {
          "base_uri": "https://localhost:8080/"
        },
        "id": "M2OfbqJ07T9u",
        "outputId": "08c849de-6aae-42eb-f3cc-ed01a60d309e"
      },
      "execution_count": 88,
      "outputs": [
        {
          "output_type": "execute_result",
          "data": {
            "text/plain": [
              "array([3, 8, 8, 0, 6], dtype=uint8)"
            ]
          },
          "metadata": {},
          "execution_count": 88
        }
      ]
    },
    {
      "cell_type": "code",
      "source": [
        "plot_sample(X_test,y_test,1) # Actual Value"
      ],
      "metadata": {
        "colab": {
          "base_uri": "https://localhost:8080/",
          "height": 173
        },
        "id": "tKAlNQEX7VZM",
        "outputId": "b5931591-1971-414a-9594-a860d2aa5c26"
      },
      "execution_count": 89,
      "outputs": [
        {
          "output_type": "display_data",
          "data": {
            "image/png": "[encoded data removed]",
            "text/plain": [
              "<Figure size 1080x144 with 1 Axes>"
            ]
          },
          "metadata": {
            "needs_background": "light"
          }
        }
      ]
    },
    {
      "cell_type": "code",
      "source": [
        "classes"
      ],
      "metadata": {
        "colab": {
          "base_uri": "https://localhost:8080/"
        },
        "id": "C-HUNv1L7sBA",
        "outputId": "ea29cc15-1429-4df0-bf99-0be31738c365"
      },
      "execution_count": 90,
      "outputs": [
        {
          "output_type": "execute_result",
          "data": {
            "text/plain": [
              "['airplane',\n",
              " 'automobile',\n",
              " 'bird',\n",
              " 'cat',\n",
              " 'deer',\n",
              " 'dog',\n",
              " 'frog',\n",
              " 'horse',\n",
              " 'ship',\n",
              " 'truck']"
            ]
          },
          "metadata": {},
          "execution_count": 90
        }
      ]
    },
    {
      "cell_type": "code",
      "source": [
        "classes[y_classes[1]] # Predicted Value"
      ],
      "metadata": {
        "colab": {
          "base_uri": "https://localhost:8080/",
          "height": 37
        },
        "id": "tF9hMDUC7gEi",
        "outputId": "1fa9baa4-0b59-474c-b84e-2a929abd96de"
      },
      "execution_count": 91,
      "outputs": [
        {
          "output_type": "execute_result",
          "data": {
            "application/vnd.google.colaboratory.intrinsic+json": {
              "type": "string"
            },
            "text/plain": [
              "'automobile'"
            ]
          },
          "metadata": {},
          "execution_count": 91
        }
      ]
    },
    {
      "cell_type": "code",
      "source": [
        "plot_sample(X_test,y_test,0)"
      ],
      "metadata": {
        "colab": {
          "base_uri": "https://localhost:8080/",
          "height": 173
        },
        "id": "0u4hjlG77kJN",
        "outputId": "5457c18e-323b-4ef2-8734-60e4b7d78f80"
      },
      "execution_count": 92,
      "outputs": [
        {
          "output_type": "display_data",
          "data": {
            "image/png": "[encoded data removed]",
            "text/plain": [
              "<Figure size 1080x144 with 1 Axes>"
            ]
          },
          "metadata": {
            "needs_background": "light"
          }
        }
      ]
    },
    {
      "cell_type": "code",
      "source": [
        "classes[y_classes[0]]"
      ],
      "metadata": {
        "colab": {
          "base_uri": "https://localhost:8080/",
          "height": 37
        },
        "id": "51mnDvO87yAQ",
        "outputId": "3cd758f4-f0af-4e4f-8555-508102b0b9ed"
      },
      "execution_count": 93,
      "outputs": [
        {
          "output_type": "execute_result",
          "data": {
            "application/vnd.google.colaboratory.intrinsic+json": {
              "type": "string"
            },
            "text/plain": [
              "'ship'"
            ]
          },
          "metadata": {},
          "execution_count": 93
        }
      ]
    },
    {
      "cell_type": "code",
      "source": [
        "plot_sample(X_test,y_test,69)"
      ],
      "metadata": {
        "colab": {
          "base_uri": "https://localhost:8080/",
          "height": 173
        },
        "id": "yifTLz427zhB",
        "outputId": "2bc6f330-f1da-48e2-95d4-9ada89e2ec7b"
      },
      "execution_count": 94,
      "outputs": [
        {
          "output_type": "display_data",
          "data": {
            "image/png": "[encoded data removed]",
            "text/plain": [
              "<Figure size 1080x144 with 1 Axes>"
            ]
          },
          "metadata": {
            "needs_background": "light"
          }
        }
      ]
    },
    {
      "cell_type": "code",
      "source": [
        "classes[y_classes[69]]"
      ],
      "metadata": {
        "colab": {
          "base_uri": "https://localhost:8080/",
          "height": 37
        },
        "id": "0o7uTJhq72WJ",
        "outputId": "16ca510f-b53e-4374-fea7-9f10e18f4ef7"
      },
      "execution_count": 95,
      "outputs": [
        {
          "output_type": "execute_result",
          "data": {
            "application/vnd.google.colaboratory.intrinsic+json": {
              "type": "string"
            },
            "text/plain": [
              "'deer'"
            ]
          },
          "metadata": {},
          "execution_count": 95
        }
      ]
    },
    {
      "cell_type": "code",
      "source": [
        "y_classes # Predicted Values"
      ],
      "metadata": {
        "colab": {
          "base_uri": "https://localhost:8080/"
        },
        "id": "k_7oX6Zz8EO3",
        "outputId": "0796b666-6059-4536-8975-f164e4ef5327"
      },
      "execution_count": 96,
      "outputs": [
        {
          "output_type": "execute_result",
          "data": {
            "text/plain": [
              "[8,\n",
              " 1,\n",
              " 1,\n",
              " 0,\n",
              " 4,\n",
              " 6,\n",
              " 1,\n",
              " 6,\n",
              " 3,\n",
              " 1,\n",
              " 5,\n",
              " 9,\n",
              " 5,\n",
              " 7,\n",
              " 9,\n",
              " 8,\n",
              " 5,\n",
              " 7,\n",
              " 8,\n",
              " 6,\n",
              " 7,\n",
              " 2,\n",
              " 4,\n",
              " 9,\n",
              " 4,\n",
              " 2,\n",
              " 4,\n",
              " 0,\n",
              " 9,\n",
              " 6,\n",
              " 6,\n",
              " 5,\n",
              " 4,\n",
              " 3,\n",
              " 9,\n",
              " 1,\n",
              " 7,\n",
              " 1,\n",
              " 9,\n",
              " 5,\n",
              " 8,\n",
              " 6,\n",
              " 3,\n",
              " 6,\n",
              " 0,\n",
              " 9,\n",
              " 2,\n",
              " 7,\n",
              " 7,\n",
              " 2,\n",
              " 9,\n",
              " 8,\n",
              " 6,\n",
              " 3,\n",
              " 8,\n",
              " 8,\n",
              " 7,\n",
              " 2,\n",
              " 5,\n",
              " 6,\n",
              " 7,\n",
              " 5,\n",
              " 6,\n",
              " 3,\n",
              " 6,\n",
              " 2,\n",
              " 1,\n",
              " 2,\n",
              " 5,\n",
              " 4,\n",
              " 2,\n",
              " 3,\n",
              " 8,\n",
              " 8,\n",
              " 0,\n",
              " 2,\n",
              " 0,\n",
              " 3,\n",
              " 3,\n",
              " 8,\n",
              " 8,\n",
              " 1,\n",
              " 1,\n",
              " 7,\n",
              " 2,\n",
              " 7,\n",
              " 4,\n",
              " 0,\n",
              " 8,\n",
              " 9,\n",
              " 0,\n",
              " 2,\n",
              " 8,\n",
              " 6,\n",
              " 4,\n",
              " 6,\n",
              " 6,\n",
              " 0,\n",
              " 0,\n",
              " 7,\n",
              " 4,\n",
              " 2,\n",
              " 6,\n",
              " 3,\n",
              " 1,\n",
              " 1,\n",
              " 3,\n",
              " 6,\n",
              " 8,\n",
              " 5,\n",
              " 7,\n",
              " 0,\n",
              " 2,\n",
              " 2,\n",
              " 1,\n",
              " 4,\n",
              " 0,\n",
              " 4,\n",
              " 6,\n",
              " 1,\n",
              " 8,\n",
              " 3,\n",
              " 1,\n",
              " 2,\n",
              " 8,\n",
              " 0,\n",
              " 8,\n",
              " 3,\n",
              " 3,\n",
              " 0,\n",
              " 4,\n",
              " 1,\n",
              " 8,\n",
              " 9,\n",
              " 1,\n",
              " 2,\n",
              " 7,\n",
              " 7,\n",
              " 2,\n",
              " 8,\n",
              " 3,\n",
              " 5,\n",
              " 6,\n",
              " 5,\n",
              " 8,\n",
              " 9,\n",
              " 3,\n",
              " 6,\n",
              " 6,\n",
              " 2,\n",
              " 8,\n",
              " 9,\n",
              " 6,\n",
              " 0,\n",
              " 0,\n",
              " 5,\n",
              " 6,\n",
              " 9,\n",
              " 3,\n",
              " 4,\n",
              " 2,\n",
              " 1,\n",
              " 6,\n",
              " 6,\n",
              " 8,\n",
              " 0,\n",
              " 8,\n",
              " 4,\n",
              " 5,\n",
              " 0,\n",
              " 9,\n",
              " 9,\n",
              " 1,\n",
              " 8,\n",
              " 9,\n",
              " 9,\n",
              " 3,\n",
              " 7,\n",
              " 5,\n",
              " 0,\n",
              " 0,\n",
              " 5,\n",
              " 2,\n",
              " 8,\n",
              " 5,\n",
              " 8,\n",
              " 2,\n",
              " 3,\n",
              " 2,\n",
              " 8,\n",
              " 5,\n",
              " 8,\n",
              " 3,\n",
              " 1,\n",
              " 7,\n",
              " 2,\n",
              " 8,\n",
              " 8,\n",
              " 7,\n",
              " 8,\n",
              " 5,\n",
              " 8,\n",
              " 8,\n",
              " 7,\n",
              " 1,\n",
              " 3,\n",
              " 8,\n",
              " 5,\n",
              " 7,\n",
              " 9,\n",
              " 6,\n",
              " 9,\n",
              " 5,\n",
              " 7,\n",
              " 8,\n",
              " 0,\n",
              " 7,\n",
              " 9,\n",
              " 8,\n",
              " 7,\n",
              " 5,\n",
              " 7,\n",
              " 9,\n",
              " 5,\n",
              " 3,\n",
              " 9,\n",
              " 3,\n",
              " 2,\n",
              " 3,\n",
              " 6,\n",
              " 3,\n",
              " 1,\n",
              " 3,\n",
              " 8,\n",
              " 8,\n",
              " 0,\n",
              " 4,\n",
              " 0,\n",
              " 5,\n",
              " 2,\n",
              " 1,\n",
              " 1,\n",
              " 8,\n",
              " 9,\n",
              " 0,\n",
              " 8,\n",
              " 1,\n",
              " 8,\n",
              " 2,\n",
              " 0,\n",
              " 3,\n",
              " 3,\n",
              " 9,\n",
              " 0,\n",
              " 2,\n",
              " 0,\n",
              " 3,\n",
              " 0,\n",
              " 8,\n",
              " 9,\n",
              " 8,\n",
              " 1,\n",
              " 5,\n",
              " 3,\n",
              " 2,\n",
              " 8,\n",
              " 2,\n",
              " 4,\n",
              " 7,\n",
              " 0,\n",
              " 2,\n",
              " 3,\n",
              " 6,\n",
              " 3,\n",
              " 8,\n",
              " 2,\n",
              " 0,\n",
              " 1,\n",
              " 7,\n",
              " 7,\n",
              " 9,\n",
              " 0,\n",
              " 6,\n",
              " 1,\n",
              " 9,\n",
              " 9,\n",
              " 1,\n",
              " 8,\n",
              " 7,\n",
              " 9,\n",
              " 1,\n",
              " 2,\n",
              " 6,\n",
              " 1,\n",
              " 3,\n",
              " 2,\n",
              " 6,\n",
              " 0,\n",
              " 0,\n",
              " 6,\n",
              " 6,\n",
              " 6,\n",
              " 5,\n",
              " 2,\n",
              " 2,\n",
              " 1,\n",
              " 8,\n",
              " 2,\n",
              " 1,\n",
              " 2,\n",
              " 8,\n",
              " 6,\n",
              " 8,\n",
              " 6,\n",
              " 3,\n",
              " 5,\n",
              " 7,\n",
              " 7,\n",
              " 5,\n",
              " 3,\n",
              " 3,\n",
              " 5,\n",
              " 2,\n",
              " 2,\n",
              " 3,\n",
              " 1,\n",
              " 7,\n",
              " 7,\n",
              " 4,\n",
              " 6,\n",
              " 1,\n",
              " 9,\n",
              " 6,\n",
              " 6,\n",
              " 6,\n",
              " 1,\n",
              " 3,\n",
              " 8,\n",
              " 0,\n",
              " 7,\n",
              " 2,\n",
              " 6,\n",
              " 2,\n",
              " 1,\n",
              " 8,\n",
              " 5,\n",
              " 7,\n",
              " 6,\n",
              " 8,\n",
              " 9,\n",
              " 9,\n",
              " 1,\n",
              " 8,\n",
              " 2,\n",
              " 6,\n",
              " 4,\n",
              " 5,\n",
              " 2,\n",
              " 1,\n",
              " 0,\n",
              " 7,\n",
              " 5,\n",
              " 8,\n",
              " 8,\n",
              " 9,\n",
              " 4,\n",
              " 0,\n",
              " 1,\n",
              " 2,\n",
              " 1,\n",
              " 2,\n",
              " 7,\n",
              " 9,\n",
              " 0,\n",
              " 2,\n",
              " 7,\n",
              " 0,\n",
              " 7,\n",
              " 8,\n",
              " 6,\n",
              " 6,\n",
              " 8,\n",
              " 0,\n",
              " 1,\n",
              " 5,\n",
              " 2,\n",
              " 7,\n",
              " 2,\n",
              " 5,\n",
              " 5,\n",
              " 1,\n",
              " 2,\n",
              " 6,\n",
              " 6,\n",
              " 9,\n",
              " 6,\n",
              " 2,\n",
              " 5,\n",
              " 0,\n",
              " 1,\n",
              " 9,\n",
              " 8,\n",
              " 7,\n",
              " 8,\n",
              " 8,\n",
              " 6,\n",
              " 0,\n",
              " 8,\n",
              " 8,\n",
              " 2,\n",
              " 7,\n",
              " 0,\n",
              " 5,\n",
              " 6,\n",
              " 9,\n",
              " 9,\n",
              " 5,\n",
              " 7,\n",
              " 2,\n",
              " 7,\n",
              " 4,\n",
              " 5,\n",
              " 8,\n",
              " 0,\n",
              " 2,\n",
              " 9,\n",
              " 3,\n",
              " 4,\n",
              " 9,\n",
              " 6,\n",
              " 2,\n",
              " 3,\n",
              " 3,\n",
              " 3,\n",
              " 7,\n",
              " 7,\n",
              " 6,\n",
              " 5,\n",
              " 3,\n",
              " 1,\n",
              " 1,\n",
              " 2,\n",
              " 9,\n",
              " 8,\n",
              " 5,\n",
              " 7,\n",
              " 5,\n",
              " 0,\n",
              " 2,\n",
              " 2,\n",
              " 4,\n",
              " 1,\n",
              " 7,\n",
              " 3,\n",
              " 9,\n",
              " 2,\n",
              " 4,\n",
              " 3,\n",
              " 4,\n",
              " 8,\n",
              " 3,\n",
              " 6,\n",
              " 1,\n",
              " 4,\n",
              " 4,\n",
              " 4,\n",
              " 4,\n",
              " 3,\n",
              " 5,\n",
              " 8,\n",
              " 3,\n",
              " 7,\n",
              " 8,\n",
              " 0,\n",
              " 5,\n",
              " 7,\n",
              " 6,\n",
              " 8,\n",
              " 5,\n",
              " 6,\n",
              " 8,\n",
              " 6,\n",
              " 8,\n",
              " 7,\n",
              " 5,\n",
              " 9,\n",
              " 9,\n",
              " 9,\n",
              " 4,\n",
              " 0,\n",
              " 1,\n",
              " 0,\n",
              " 8,\n",
              " 1,\n",
              " 8,\n",
              " 8,\n",
              " 0,\n",
              " 2,\n",
              " 2,\n",
              " 2,\n",
              " 6,\n",
              " 6,\n",
              " 5,\n",
              " 2,\n",
              " 9,\n",
              " 4,\n",
              " 7,\n",
              " 9,\n",
              " 9,\n",
              " 4,\n",
              " 5,\n",
              " 6,\n",
              " 6,\n",
              " 1,\n",
              " 5,\n",
              " 3,\n",
              " 8,\n",
              " 9,\n",
              " 5,\n",
              " 8,\n",
              " 7,\n",
              " 7,\n",
              " 0,\n",
              " 7,\n",
              " 1,\n",
              " 8,\n",
              " 0,\n",
              " 0,\n",
              " 4,\n",
              " 6,\n",
              " 8,\n",
              " 0,\n",
              " 9,\n",
              " 5,\n",
              " 6,\n",
              " 6,\n",
              " 6,\n",
              " 2,\n",
              " 8,\n",
              " 0,\n",
              " 1,\n",
              " 7,\n",
              " 6,\n",
              " 7,\n",
              " 5,\n",
              " 9,\n",
              " 1,\n",
              " 2,\n",
              " 2,\n",
              " 3,\n",
              " 5,\n",
              " 5,\n",
              " 8,\n",
              " 3,\n",
              " 9,\n",
              " 4,\n",
              " 6,\n",
              " 4,\n",
              " 3,\n",
              " 2,\n",
              " 0,\n",
              " 7,\n",
              " 6,\n",
              " 2,\n",
              " 2,\n",
              " 5,\n",
              " 9,\n",
              " 4,\n",
              " 9,\n",
              " 2,\n",
              " 2,\n",
              " 7,\n",
              " 1,\n",
              " 8,\n",
              " 6,\n",
              " 6,\n",
              " 8,\n",
              " 9,\n",
              " 7,\n",
              " 5,\n",
              " 4,\n",
              " 8,\n",
              " 8,\n",
              " 2,\n",
              " 0,\n",
              " 9,\n",
              " 3,\n",
              " 8,\n",
              " 8,\n",
              " 9,\n",
              " 6,\n",
              " 1,\n",
              " 2,\n",
              " 6,\n",
              " 1,\n",
              " 0,\n",
              " 7,\n",
              " 3,\n",
              " 5,\n",
              " 3,\n",
              " 8,\n",
              " 5,\n",
              " 1,\n",
              " 2,\n",
              " 1,\n",
              " 6,\n",
              " 8,\n",
              " 5,\n",
              " 3,\n",
              " 9,\n",
              " 6,\n",
              " 1,\n",
              " 8,\n",
              " 8,\n",
              " 5,\n",
              " 8,\n",
              " 6,\n",
              " 6,\n",
              " 7,\n",
              " 1,\n",
              " 7,\n",
              " 0,\n",
              " 1,\n",
              " 4,\n",
              " 7,\n",
              " 9,\n",
              " 9,\n",
              " 4,\n",
              " 7,\n",
              " 8,\n",
              " 8,\n",
              " 5,\n",
              " 6,\n",
              " 8,\n",
              " 4,\n",
              " 6,\n",
              " 8,\n",
              " 3,\n",
              " 0,\n",
              " 2,\n",
              " 5,\n",
              " 3,\n",
              " 0,\n",
              " 7,\n",
              " 9,\n",
              " 1,\n",
              " 3,\n",
              " 4,\n",
              " 4,\n",
              " 5,\n",
              " 3,\n",
              " 8,\n",
              " 3,\n",
              " 1,\n",
              " 9,\n",
              " 0,\n",
              " 1,\n",
              " 1,\n",
              " 4,\n",
              " 1,\n",
              " 9,\n",
              " 7,\n",
              " 7,\n",
              " 2,\n",
              " 3,\n",
              " 0,\n",
              " 9,\n",
              " 0,\n",
              " 1,\n",
              " 2,\n",
              " 6,\n",
              " 7,\n",
              " 4,\n",
              " 3,\n",
              " 2,\n",
              " 8,\n",
              " 4,\n",
              " 1,\n",
              " 0,\n",
              " 3,\n",
              " 8,\n",
              " 6,\n",
              " 2,\n",
              " 0,\n",
              " 3,\n",
              " 2,\n",
              " 9,\n",
              " 6,\n",
              " 6,\n",
              " 0,\n",
              " 4,\n",
              " 2,\n",
              " 2,\n",
              " 7,\n",
              " 8,\n",
              " 3,\n",
              " 8,\n",
              " 2,\n",
              " 7,\n",
              " 5,\n",
              " 7,\n",
              " 2,\n",
              " 6,\n",
              " 8,\n",
              " 7,\n",
              " 6,\n",
              " 2,\n",
              " 3,\n",
              " 8,\n",
              " 8,\n",
              " 3,\n",
              " 8,\n",
              " 8,\n",
              " 7,\n",
              " 4,\n",
              " 9,\n",
              " 3,\n",
              " 1,\n",
              " 4,\n",
              " 9,\n",
              " 7,\n",
              " 8,\n",
              " 8,\n",
              " 1,\n",
              " 8,\n",
              " 8,\n",
              " 1,\n",
              " 5,\n",
              " 6,\n",
              " 5,\n",
              " 3,\n",
              " 2,\n",
              " 7,\n",
              " 9,\n",
              " 1,\n",
              " 4,\n",
              " 1,\n",
              " 0,\n",
              " 1,\n",
              " 7,\n",
              " 5,\n",
              " 7,\n",
              " 0,\n",
              " 7,\n",
              " 2,\n",
              " 7,\n",
              " 2,\n",
              " 6,\n",
              " 2,\n",
              " 3,\n",
              " 9,\n",
              " 0,\n",
              " 9,\n",
              " 1,\n",
              " 2,\n",
              " 2,\n",
              " 6,\n",
              " 8,\n",
              " 2,\n",
              " 1,\n",
              " 7,\n",
              " 7,\n",
              " 6,\n",
              " 0,\n",
              " 1,\n",
              " 2,\n",
              " 4,\n",
              " 9,\n",
              " 5,\n",
              " 4,\n",
              " 1,\n",
              " 9,\n",
              " 6,\n",
              " 3,\n",
              " 2,\n",
              " 2,\n",
              " 3,\n",
              " 6,\n",
              " 0,\n",
              " 6,\n",
              " 9,\n",
              " 1,\n",
              " 7,\n",
              " 6,\n",
              " 7,\n",
              " 0,\n",
              " 3,\n",
              " 9,\n",
              " 6,\n",
              " 8,\n",
              " 0,\n",
              " 0,\n",
              " 5,\n",
              " 5,\n",
              " 7,\n",
              " 7,\n",
              " 4,\n",
              " 4,\n",
              " 7,\n",
              " 5,\n",
              " 7,\n",
              " 1,\n",
              " 2,\n",
              " 7,\n",
              " 2,\n",
              " 2,\n",
              " 0,\n",
              " 4,\n",
              " 7,\n",
              " 0,\n",
              " 2,\n",
              " 2,\n",
              " 7,\n",
              " 2,\n",
              " 0,\n",
              " 8,\n",
              " 9,\n",
              " 3,\n",
              " 8,\n",
              " 5,\n",
              " 6,\n",
              " 2,\n",
              " 0,\n",
              " 8,\n",
              " 7,\n",
              " 4,\n",
              " 7,\n",
              " 1,\n",
              " 4,\n",
              " 3,\n",
              " 0,\n",
              " 6,\n",
              " 2,\n",
              " 5,\n",
              " 5,\n",
              " 5,\n",
              " 1,\n",
              " 2,\n",
              " 9,\n",
              " 2,\n",
              " 7,\n",
              " 0,\n",
              " 7,\n",
              " 2,\n",
              " 1,\n",
              " 2,\n",
              " 6,\n",
              " 0,\n",
              " 2,\n",
              " 4,\n",
              " 2,\n",
              " 9,\n",
              " 8,\n",
              " 1,\n",
              " 0,\n",
              " 7,\n",
              " 7,\n",
              " 0,\n",
              " 7,\n",
              " 2,\n",
              " 4,\n",
              " 6,\n",
              " 6,\n",
              " 3,\n",
              " 0,\n",
              " 1,\n",
              " 6,\n",
              " 7,\n",
              " 0,\n",
              " 1,\n",
              " 3,\n",
              " 1,\n",
              " 4,\n",
              " 0,\n",
              " 3,\n",
              " 8,\n",
              " 2,\n",
              " 5,\n",
              " 4,\n",
              " 7,\n",
              " 8,\n",
              " 3,\n",
              " 1,\n",
              " 0,\n",
              " 8,\n",
              " 0,\n",
              " 0,\n",
              " 1,\n",
              " 8,\n",
              " 4,\n",
              " 5,\n",
              " 6,\n",
              " 7,\n",
              " 3,\n",
              " 1,\n",
              " 1,\n",
              " 3,\n",
              " 7,\n",
              " 7,\n",
              " 5,\n",
              " 2,\n",
              " 6,\n",
              " 6,\n",
              " 3,\n",
              " 8,\n",
              " 7,\n",
              " 1,\n",
              " 6,\n",
              " 8,\n",
              " 8,\n",
              " 7,\n",
              " 3,\n",
              " 3,\n",
              " 4,\n",
              " 0,\n",
              " 1,\n",
              " 4,\n",
              " 8,\n",
              " 8,\n",
              " 0,\n",
              " 6,\n",
              " 9,\n",
              " 0,\n",
              " 9,\n",
              " 5,\n",
              " 3,\n",
              " 6,\n",
              " 3,\n",
              " 0,\n",
              " 8,\n",
              " 4,\n",
              " 2,\n",
              " 3,\n",
              " 2,\n",
              " 7,\n",
              " 2,\n",
              " 2,\n",
              " 5,\n",
              " 1,\n",
              " 8,\n",
              " 1,\n",
              " 3,\n",
              " 7,\n",
              " 4,\n",
              " 0,\n",
              " 3,\n",
              " 0,\n",
              " 1,\n",
              " 4,\n",
              " 8,\n",
              " 3,\n",
              " 9,\n",
              " 2,\n",
              " 0,\n",
              " 4,\n",
              " 7,\n",
              " 0,\n",
              " 6,\n",
              " 7,\n",
              " 8,\n",
              " 9,\n",
              " 1,\n",
              " 1,\n",
              " 6,\n",
              " 6,\n",
              " 3,\n",
              " 6,\n",
              " 9,\n",
              " 1,\n",
              " 9,\n",
              " 9,\n",
              " 4,\n",
              " 4,\n",
              " 1,\n",
              " 5,\n",
              " 0,\n",
              " 6,\n",
              " 8,\n",
              " 8,\n",
              " 9,\n",
              " 6,\n",
              " 1,\n",
              " 2,\n",
              " 4,\n",
              " 7,\n",
              " 8,\n",
              " 3,\n",
              " 1,\n",
              " 2,\n",
              " 0,\n",
              " 1,\n",
              " 6,\n",
              " 8,\n",
              " 4,\n",
              " 6,\n",
              " 5,\n",
              " 8,\n",
              " 1,\n",
              " 3,\n",
              " 8,\n",
              " ...]"
            ]
          },
          "metadata": {},
          "execution_count": 96
        }
      ]
    },
    {
      "cell_type": "code",
      "source": [
        "print('Classification Report: \\n', classification_report(y_test,y_classes))"
      ],
      "metadata": {
        "colab": {
          "base_uri": "https://localhost:8080/"
        },
        "id": "WWqNHwfW74aA",
        "outputId": "a87755e9-be87-469b-9828-b87694ec129a"
      },
      "execution_count": 97,
      "outputs": [
        {
          "output_type": "stream",
          "name": "stdout",
          "text": [
            "Classification Report: \n",
            "               precision    recall  f1-score   support\n",
            "\n",
            "           0       0.72      0.75      0.73      1000\n",
            "           1       0.75      0.86      0.80      1000\n",
            "           2       0.56      0.65      0.60      1000\n",
            "           3       0.53      0.49      0.51      1000\n",
            "           4       0.70      0.56      0.62      1000\n",
            "           5       0.63      0.55      0.59      1000\n",
            "           6       0.75      0.75      0.75      1000\n",
            "           7       0.73      0.73      0.73      1000\n",
            "           8       0.72      0.87      0.79      1000\n",
            "           9       0.84      0.72      0.78      1000\n",
            "\n",
            "    accuracy                           0.69     10000\n",
            "   macro avg       0.69      0.69      0.69     10000\n",
            "weighted avg       0.69      0.69      0.69     10000\n",
            "\n"
          ]
        }
      ]
    },
    {
      "cell_type": "code",
      "source": [
        ""
      ],
      "metadata": {
        "id": "CVcTdPHf8DL8"
      },
      "execution_count": 97,
      "outputs": []
    }
  ]
}