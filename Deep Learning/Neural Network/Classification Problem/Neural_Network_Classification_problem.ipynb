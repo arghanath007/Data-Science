{
  "nbformat": 4,
  "nbformat_minor": 0,
  "metadata": {
    "colab": {
      "name": "Neural_Network_Classification_problem.ipynb",
      "provenance": [],
      "collapsed_sections": []
    },
    "kernelspec": {
      "name": "python3",
      "display_name": "Python 3"
    },
    "language_info": {
      "name": "python"
    }
  },
  "cells": [
    {
      "cell_type": "markdown",
      "source": [
        "# Neural Network Classification Problems\n",
        "\n",
        "* Binary Classification\n",
        "* Multiclass Classification\n",
        "* Multilabel Classification"
      ],
      "metadata": {
        "id": "wjvkRY2roraH"
      }
    },
    {
      "cell_type": "markdown",
      "source": [
        "## Binary Class Classification"
      ],
      "metadata": {
        "id": "jgPgz7-Pp1If"
      }
    },
    {
      "cell_type": "code",
      "source": [
        "import numpy as np\n",
        "import pandas as pd\n",
        "import tensorflow as tf\n",
        "import matplotlib.pyplot as plt\n",
        "from sklearn.datasets import make_circles\n",
        "\n",
        "n_samples=10000\n",
        "\n",
        "X,y= make_circles(n_samples,noise=0.03, random_state=42)"
      ],
      "metadata": {
        "id": "0vAmO06Lo8Gy"
      },
      "execution_count": 53,
      "outputs": []
    },
    {
      "cell_type": "code",
      "source": [
        "X[:5]"
      ],
      "metadata": {
        "colab": {
          "base_uri": "https://localhost:8080/"
        },
        "id": "kLHDoW9MpTn_",
        "outputId": "4f77e4de-292a-4d9e-f87c-41581de254d0"
      },
      "execution_count": 54,
      "outputs": [
        {
          "output_type": "execute_result",
          "data": {
            "text/plain": [
              "array([[ 0.0464692 ,  0.82477834],\n",
              "       [ 1.00506323, -0.43335153],\n",
              "       [-0.58348442,  0.79452834],\n",
              "       [ 0.98478298, -0.32517879],\n",
              "       [ 0.82993028, -0.54722305]])"
            ]
          },
          "metadata": {},
          "execution_count": 54
        }
      ]
    },
    {
      "cell_type": "code",
      "source": [
        "y[:5]"
      ],
      "metadata": {
        "colab": {
          "base_uri": "https://localhost:8080/"
        },
        "id": "Kn0EHSXcpV_-",
        "outputId": "ed42d9aa-d403-42e2-b339-0e9a51c9a632"
      },
      "execution_count": 55,
      "outputs": [
        {
          "output_type": "execute_result",
          "data": {
            "text/plain": [
              "array([1, 0, 0, 0, 0])"
            ]
          },
          "metadata": {},
          "execution_count": 55
        }
      ]
    },
    {
      "cell_type": "markdown",
      "source": [
        "### Visualizing the data"
      ],
      "metadata": {
        "id": "QQIFI0XcpeeD"
      }
    },
    {
      "cell_type": "code",
      "source": [
        "circles=pd.DataFrame({\"X_0\": X[:,0], \"X_1\": X[:,1], \"label\":y})\n",
        "circles[:5]"
      ],
      "metadata": {
        "colab": {
          "base_uri": "https://localhost:8080/",
          "height": 221
        },
        "id": "fD-olcdCqBxU",
        "outputId": "fe937f66-f892-427f-ec3d-31514c1e318e"
      },
      "execution_count": 56,
      "outputs": [
        {
          "output_type": "execute_result",
          "data": {
            "text/plain": [
              "        X_0       X_1  label\n",
              "0  0.046469  0.824778      1\n",
              "1  1.005063 -0.433352      0\n",
              "2 -0.583484  0.794528      0\n",
              "3  0.984783 -0.325179      0\n",
              "4  0.829930 -0.547223      0"
            ],
            "text/html": [
              "\n",
              "  <div id=\"df-6116390e-a747-4d0a-ba35-5797d5a0e91e\">\n",
              "    <div class=\"colab-df-container\">\n",
              "      <div>\n",
              "<style scoped>\n",
              "    .dataframe tbody tr th:only-of-type {\n",
              "        vertical-align: middle;\n",
              "    }\n",
              "\n",
              "    .dataframe tbody tr th {\n",
              "        vertical-align: top;\n",
              "    }\n",
              "\n",
              "    .dataframe thead th {\n",
              "        text-align: right;\n",
              "    }\n",
              "</style>\n",
              "<table border=\"1\" class=\"dataframe\">\n",
              "  <thead>\n",
              "    <tr style=\"text-align: right;\">\n",
              "      <th></th>\n",
              "      <th>X_0</th>\n",
              "      <th>X_1</th>\n",
              "      <th>label</th>\n",
              "    </tr>\n",
              "  </thead>\n",
              "  <tbody>\n",
              "    <tr>\n",
              "      <th>0</th>\n",
              "      <td>0.046469</td>\n",
              "      <td>0.824778</td>\n",
              "      <td>1</td>\n",
              "    </tr>\n",
              "    <tr>\n",
              "      <th>1</th>\n",
              "      <td>1.005063</td>\n",
              "      <td>-0.433352</td>\n",
              "      <td>0</td>\n",
              "    </tr>\n",
              "    <tr>\n",
              "      <th>2</th>\n",
              "      <td>-0.583484</td>\n",
              "      <td>0.794528</td>\n",
              "      <td>0</td>\n",
              "    </tr>\n",
              "    <tr>\n",
              "      <th>3</th>\n",
              "      <td>0.984783</td>\n",
              "      <td>-0.325179</td>\n",
              "      <td>0</td>\n",
              "    </tr>\n",
              "    <tr>\n",
              "      <th>4</th>\n",
              "      <td>0.829930</td>\n",
              "      <td>-0.547223</td>\n",
              "      <td>0</td>\n",
              "    </tr>\n",
              "  </tbody>\n",
              "</table>\n",
              "</div>\n",
              "      <button class=\"colab-df-convert\" onclick=\"convertToInteractive('df-6116390e-a747-4d0a-ba35-5797d5a0e91e')\"\n",
              "              title=\"Convert this dataframe to an interactive table.\"\n",
              "              style=\"display:none;\">\n",
              "        \n",
              "  <svg xmlns=\"http://www.w3.org/2000/svg\" height=\"24px\"viewBox=\"0 0 24 24\"\n",
              "       width=\"24px\">\n",
              "    <path d=\"M0 0h24v24H0V0z\" fill=\"none\"/>\n",
              "    <path d=\"M18.56 5.44l.94 2.06.94-2.06 2.06-.94-2.06-.94-.94-2.06-.94 2.06-2.06.94zm-11 1L8.5 8.5l.94-2.06 2.06-.94-2.06-.94L8.5 2.5l-.94 2.06-2.06.94zm10 10l.94 2.06.94-2.06 2.06-.94-2.06-.94-.94-2.06-.94 2.06-2.06.94z\"/><path d=\"M17.41 7.96l-1.37-1.37c-.4-.4-.92-.59-1.43-.59-.52 0-1.04.2-1.43.59L10.3 9.45l-7.72 7.72c-.78.78-.78 2.05 0 2.83L4 21.41c.39.39.9.59 1.41.59.51 0 1.02-.2 1.41-.59l7.78-7.78 2.81-2.81c.8-.78.8-2.07 0-2.86zM5.41 20L4 18.59l7.72-7.72 1.47 1.35L5.41 20z\"/>\n",
              "  </svg>\n",
              "      </button>\n",
              "      \n",
              "  <style>\n",
              "    .colab-df-container {\n",
              "      display:flex;\n",
              "      flex-wrap:wrap;\n",
              "      gap: 12px;\n",
              "    }\n",
              "\n",
              "    .colab-df-convert {\n",
              "      background-color: #E8F0FE;\n",
              "      border: none;\n",
              "      border-radius: 50%;\n",
              "      cursor: pointer;\n",
              "      display: none;\n",
              "      fill: #1967D2;\n",
              "      height: 32px;\n",
              "      padding: 0 0 0 0;\n",
              "      width: 32px;\n",
              "    }\n",
              "\n",
              "    .colab-df-convert:hover {\n",
              "      background-color: #E2EBFA;\n",
              "      box-shadow: 0px 1px 2px rgba(60, 64, 67, 0.3), 0px 1px 3px 1px rgba(60, 64, 67, 0.15);\n",
              "      fill: #174EA6;\n",
              "    }\n",
              "\n",
              "    [theme=dark] .colab-df-convert {\n",
              "      background-color: #3B4455;\n",
              "      fill: #D2E3FC;\n",
              "    }\n",
              "\n",
              "    [theme=dark] .colab-df-convert:hover {\n",
              "      background-color: #434B5C;\n",
              "      box-shadow: 0px 1px 3px 1px rgba(0, 0, 0, 0.15);\n",
              "      filter: drop-shadow(0px 1px 2px rgba(0, 0, 0, 0.3));\n",
              "      fill: #FFFFFF;\n",
              "    }\n",
              "  </style>\n",
              "\n",
              "      <script>\n",
              "        const buttonEl =\n",
              "          document.querySelector('#df-6116390e-a747-4d0a-ba35-5797d5a0e91e button.colab-df-convert');\n",
              "        buttonEl.style.display =\n",
              "          google.colab.kernel.accessAllowed ? 'block' : 'none';\n",
              "\n",
              "        async function convertToInteractive(key) {\n",
              "          const element = document.querySelector('#df-6116390e-a747-4d0a-ba35-5797d5a0e91e');\n",
              "          const dataTable =\n",
              "            await google.colab.kernel.invokeFunction('convertToInteractive',\n",
              "                                                     [key], {});\n",
              "          if (!dataTable) return;\n",
              "\n",
              "          const docLinkHtml = 'Like what you see? Visit the ' +\n",
              "            '<a target=\"_blank\" href=https://colab.research.google.com/notebooks/data_table.ipynb>data table notebook</a>'\n",
              "            + ' to learn more about interactive tables.';\n",
              "          element.innerHTML = '';\n",
              "          dataTable['output_type'] = 'display_data';\n",
              "          await google.colab.output.renderOutput(dataTable, element);\n",
              "          const docLink = document.createElement('div');\n",
              "          docLink.innerHTML = docLinkHtml;\n",
              "          element.appendChild(docLink);\n",
              "        }\n",
              "      </script>\n",
              "    </div>\n",
              "  </div>\n",
              "  "
            ]
          },
          "metadata": {},
          "execution_count": 56
        }
      ]
    },
    {
      "cell_type": "code",
      "source": [
        "plt.scatter(X[:,0],X[:,1], c=y, cmap=plt.cm.RdYlBu)"
      ],
      "metadata": {
        "colab": {
          "base_uri": "https://localhost:8080/",
          "height": 285
        },
        "id": "nJ9puL00qNkS",
        "outputId": "429409d1-a1c5-4daa-8df1-46f1a773468c"
      },
      "execution_count": 57,
      "outputs": [
        {
          "output_type": "execute_result",
          "data": {
            "text/plain": [
              "<matplotlib.collections.PathCollection at 0x7f6447ca2850>"
            ]
          },
          "metadata": {},
          "execution_count": 57
        },
        {
          "output_type": "display_data",
          "data": {
            "text/plain": [
              "<Figure size 432x288 with 1 Axes>"
            ],
            "image/png": "[encoded data removed]"
          },
          "metadata": {
            "needs_background": "light"
          }
        }
      ]
    },
    {
      "cell_type": "code",
      "source": [
        "X.shape, y.shape"
      ],
      "metadata": {
        "colab": {
          "base_uri": "https://localhost:8080/"
        },
        "id": "VINVKSOiqn6q",
        "outputId": "cb139db0-1887-444a-9439-f4416ce93f50"
      },
      "execution_count": 58,
      "outputs": [
        {
          "output_type": "execute_result",
          "data": {
            "text/plain": [
              "((10000, 2), (10000,))"
            ]
          },
          "metadata": {},
          "execution_count": 58
        }
      ]
    },
    {
      "cell_type": "code",
      "source": [
        "len(X), len(y)"
      ],
      "metadata": {
        "colab": {
          "base_uri": "https://localhost:8080/"
        },
        "id": "6Uc5Owo4vFJk",
        "outputId": "33ab6b4f-e571-48f1-afdf-6410d19ac6e8"
      },
      "execution_count": 59,
      "outputs": [
        {
          "output_type": "execute_result",
          "data": {
            "text/plain": [
              "(10000, 10000)"
            ]
          },
          "metadata": {},
          "execution_count": 59
        }
      ]
    },
    {
      "cell_type": "code",
      "source": [
        "X[:5]"
      ],
      "metadata": {
        "colab": {
          "base_uri": "https://localhost:8080/"
        },
        "id": "rm1HzpeQvHcA",
        "outputId": "c1128cdd-2318-471c-cccf-3e6f87fa6402"
      },
      "execution_count": 60,
      "outputs": [
        {
          "output_type": "execute_result",
          "data": {
            "text/plain": [
              "array([[ 0.0464692 ,  0.82477834],\n",
              "       [ 1.00506323, -0.43335153],\n",
              "       [-0.58348442,  0.79452834],\n",
              "       [ 0.98478298, -0.32517879],\n",
              "       [ 0.82993028, -0.54722305]])"
            ]
          },
          "metadata": {},
          "execution_count": 60
        }
      ]
    },
    {
      "cell_type": "code",
      "source": [
        "y[:5]"
      ],
      "metadata": {
        "colab": {
          "base_uri": "https://localhost:8080/"
        },
        "id": "AmVVZtguvLMx",
        "outputId": "4a7d3f84-5cab-43d1-9bec-f70027eb7bd2"
      },
      "execution_count": 61,
      "outputs": [
        {
          "output_type": "execute_result",
          "data": {
            "text/plain": [
              "array([1, 0, 0, 0, 0])"
            ]
          },
          "metadata": {},
          "execution_count": 61
        }
      ]
    },
    {
      "cell_type": "code",
      "source": [
        "X[0], y[0]"
      ],
      "metadata": {
        "colab": {
          "base_uri": "https://localhost:8080/"
        },
        "id": "U3_oqBCBvLzJ",
        "outputId": "70c00461-70f2-42bd-91f3-8b2e629d7aa7"
      },
      "execution_count": 62,
      "outputs": [
        {
          "output_type": "execute_result",
          "data": {
            "text/plain": [
              "(array([0.0464692 , 0.82477834]), 1)"
            ]
          },
          "metadata": {},
          "execution_count": 62
        }
      ]
    },
    {
      "cell_type": "code",
      "source": [
        "X[1], y[1]"
      ],
      "metadata": {
        "colab": {
          "base_uri": "https://localhost:8080/"
        },
        "id": "VSqCx73xvNkI",
        "outputId": "b17b28d3-ac50-4188-db99-dc4576f462d2"
      },
      "execution_count": 63,
      "outputs": [
        {
          "output_type": "execute_result",
          "data": {
            "text/plain": [
              "(array([ 1.00506323, -0.43335153]), 0)"
            ]
          },
          "metadata": {},
          "execution_count": 63
        }
      ]
    },
    {
      "cell_type": "code",
      "source": [
        "X[2], y[2]"
      ],
      "metadata": {
        "colab": {
          "base_uri": "https://localhost:8080/"
        },
        "id": "j1WBdJVjvS_7",
        "outputId": "d09068ea-7eff-4005-8f13-26d4744deaed"
      },
      "execution_count": 64,
      "outputs": [
        {
          "output_type": "execute_result",
          "data": {
            "text/plain": [
              "(array([-0.58348442,  0.79452834]), 0)"
            ]
          },
          "metadata": {},
          "execution_count": 64
        }
      ]
    },
    {
      "cell_type": "code",
      "source": [
        "from sklearn.model_selection import train_test_split\n",
        "\n",
        "X_train,X_test, y_train, y_test= train_test_split(X,y,test_size=0.3, random_state=42)\n",
        "X_train.shape,X_test.shape, y_train.shape, y_test.shape"
      ],
      "metadata": {
        "colab": {
          "base_uri": "https://localhost:8080/"
        },
        "id": "0vDIQUkdvYrP",
        "outputId": "23b944b1-8614-460e-95c5-de3e45198f7e"
      },
      "execution_count": 65,
      "outputs": [
        {
          "output_type": "execute_result",
          "data": {
            "text/plain": [
              "((7000, 2), (3000, 2), (7000,), (3000,))"
            ]
          },
          "metadata": {},
          "execution_count": 65
        }
      ]
    },
    {
      "cell_type": "code",
      "source": [
        "model= tf.keras.Sequential([\n",
        "          tf.keras.Input(shape=(2,)),\n",
        "          tf.keras.layers.Dense(100, activation=\"relu\"),\n",
        "          tf.keras.layers.Dense(1, activation=\"sigmoid\")\n",
        "])\n",
        "\n",
        "model.compile(loss=tf.keras.losses.BinaryCrossentropy(), optimizer=tf.keras.optimizers.Adam(), metrics=[\"accuracy\"])\n",
        "\n",
        "\n",
        "history=model.fit(X_train,y_train, epochs=10)"
      ],
      "metadata": {
        "colab": {
          "base_uri": "https://localhost:8080/"
        },
        "id": "pejWQQCCv4ap",
        "outputId": "cec3ff32-dc4b-4c03-bf7a-28cf3045333a"
      },
      "execution_count": 66,
      "outputs": [
        {
          "output_type": "stream",
          "name": "stdout",
          "text": [
            "Epoch 1/10\n",
            "219/219 [==============================] - 1s 2ms/step - loss: 0.6829 - accuracy: 0.5626\n",
            "Epoch 2/10\n",
            "219/219 [==============================] - 0s 2ms/step - loss: 0.6532 - accuracy: 0.7344\n",
            "Epoch 3/10\n",
            "219/219 [==============================] - 0s 2ms/step - loss: 0.6092 - accuracy: 0.9441\n",
            "Epoch 4/10\n",
            "219/219 [==============================] - 0s 2ms/step - loss: 0.5529 - accuracy: 0.9874\n",
            "Epoch 5/10\n",
            "219/219 [==============================] - 0s 2ms/step - loss: 0.4883 - accuracy: 0.9943\n",
            "Epoch 6/10\n",
            "219/219 [==============================] - 0s 2ms/step - loss: 0.4243 - accuracy: 0.9953\n",
            "Epoch 7/10\n",
            "219/219 [==============================] - 1s 2ms/step - loss: 0.3642 - accuracy: 0.9979\n",
            "Epoch 8/10\n",
            "219/219 [==============================] - 0s 2ms/step - loss: 0.3096 - accuracy: 0.9997\n",
            "Epoch 9/10\n",
            "219/219 [==============================] - 0s 2ms/step - loss: 0.2636 - accuracy: 0.9997\n",
            "Epoch 10/10\n",
            "219/219 [==============================] - 0s 2ms/step - loss: 0.2243 - accuracy: 0.9990\n"
          ]
        }
      ]
    },
    {
      "cell_type": "code",
      "source": [
        "model.evaluate(X_test,y_test)"
      ],
      "metadata": {
        "colab": {
          "base_uri": "https://localhost:8080/"
        },
        "id": "FEiQvw_Ywvz3",
        "outputId": "64022802-ce44-4e94-f0a7-0bcdd518fac2"
      },
      "execution_count": 67,
      "outputs": [
        {
          "output_type": "stream",
          "name": "stdout",
          "text": [
            "94/94 [==============================] - 0s 2ms/step - loss: 0.2101 - accuracy: 1.0000\n"
          ]
        },
        {
          "output_type": "execute_result",
          "data": {
            "text/plain": [
              "[0.2100987583398819, 1.0]"
            ]
          },
          "metadata": {},
          "execution_count": 67
        }
      ]
    },
    {
      "cell_type": "markdown",
      "source": [
        "### Non_linear Activation Function\n",
        "\n",
        "> All of the activation fuctions except the *linear* function are non-linear activation functions."
      ],
      "metadata": {
        "id": "pAcAuYEjw4JM"
      }
    },
    {
      "cell_type": "code",
      "source": [
        "model_linear= tf.keras.Sequential([\n",
        "          tf.keras.layers.Dense(1, activation=\"linear\"),\n",
        "])\n",
        "\n",
        "model_linear.compile(loss=tf.keras.losses.BinaryCrossentropy(), optimizer=tf.keras.optimizers.Adam(), metrics=[\"accuracy\"])\n",
        "\n",
        "\n",
        "history=model_linear.fit(X_train,y_train, epochs=10)"
      ],
      "metadata": {
        "colab": {
          "base_uri": "https://localhost:8080/"
        },
        "id": "kbqZEVHi0kjy",
        "outputId": "6fe720b1-f8f5-4466-ebce-afdd3c8d590c"
      },
      "execution_count": 68,
      "outputs": [
        {
          "output_type": "stream",
          "name": "stdout",
          "text": [
            "Epoch 1/10\n",
            "219/219 [==============================] - 1s 1ms/step - loss: 6.5547 - accuracy: 0.4864\n",
            "Epoch 2/10\n",
            "219/219 [==============================] - 0s 1ms/step - loss: 6.5441 - accuracy: 0.4883\n",
            "Epoch 3/10\n",
            "219/219 [==============================] - 0s 1ms/step - loss: 6.5312 - accuracy: 0.4886\n",
            "Epoch 4/10\n",
            "219/219 [==============================] - 0s 1ms/step - loss: 6.5192 - accuracy: 0.4879\n",
            "Epoch 5/10\n",
            "219/219 [==============================] - 0s 1ms/step - loss: 6.5226 - accuracy: 0.4870\n",
            "Epoch 6/10\n",
            "219/219 [==============================] - 0s 2ms/step - loss: 6.5064 - accuracy: 0.4861\n",
            "Epoch 7/10\n",
            "219/219 [==============================] - 0s 2ms/step - loss: 6.4965 - accuracy: 0.4863\n",
            "Epoch 8/10\n",
            "219/219 [==============================] - 0s 2ms/step - loss: 6.4879 - accuracy: 0.4859\n",
            "Epoch 9/10\n",
            "219/219 [==============================] - 0s 2ms/step - loss: 6.4803 - accuracy: 0.4851\n",
            "Epoch 10/10\n",
            "219/219 [==============================] - 0s 2ms/step - loss: 6.4708 - accuracy: 0.4853\n"
          ]
        }
      ]
    },
    {
      "cell_type": "code",
      "source": [
        "model_linear.evaluate(X_test,y_test)"
      ],
      "metadata": {
        "colab": {
          "base_uri": "https://localhost:8080/"
        },
        "id": "cw22-ri_1Eh9",
        "outputId": "ec3ad77e-239d-44bf-a6a4-81365f007589"
      },
      "execution_count": 69,
      "outputs": [
        {
          "output_type": "stream",
          "name": "stdout",
          "text": [
            "94/94 [==============================] - 0s 1ms/step - loss: 6.2966 - accuracy: 0.4967\n"
          ]
        },
        {
          "output_type": "execute_result",
          "data": {
            "text/plain": [
              "[6.296576976776123, 0.49666666984558105]"
            ]
          },
          "metadata": {},
          "execution_count": 69
        }
      ]
    },
    {
      "cell_type": "code",
      "source": [
        "model_1= tf.keras.Sequential([\n",
        "          tf.keras.layers.Dense(4, activation=\"relu\"),\n",
        "          tf.keras.layers.Dense(4, activation=\"relu\"),\n",
        "          tf.keras.layers.Dense(1, activation=\"sigmoid\")\n",
        "])\n",
        "\n",
        "model_1.compile(loss=tf.keras.losses.BinaryCrossentropy(), optimizer=tf.keras.optimizers.Adam(), metrics=[\"accuracy\"])\n",
        "\n",
        "\n",
        "history=model_1.fit(X_train,y_train, epochs=100)"
      ],
      "metadata": {
        "colab": {
          "base_uri": "https://localhost:8080/"
        },
        "id": "GMcuH_xC1W9p",
        "outputId": "cd71c9ea-2a96-4609-8ae6-3e4ab8ad91c8"
      },
      "execution_count": 70,
      "outputs": [
        {
          "output_type": "stream",
          "name": "stdout",
          "text": [
            "Epoch 1/100\n",
            "219/219 [==============================] - 1s 2ms/step - loss: 0.6959 - accuracy: 0.4801\n",
            "Epoch 2/100\n",
            "219/219 [==============================] - 0s 2ms/step - loss: 0.6915 - accuracy: 0.4986\n",
            "Epoch 3/100\n",
            "219/219 [==============================] - 0s 1ms/step - loss: 0.6885 - accuracy: 0.5161\n",
            "Epoch 4/100\n",
            "219/219 [==============================] - 0s 2ms/step - loss: 0.6850 - accuracy: 0.5234\n",
            "Epoch 5/100\n",
            "219/219 [==============================] - 0s 1ms/step - loss: 0.6799 - accuracy: 0.5364\n",
            "Epoch 6/100\n",
            "219/219 [==============================] - 0s 2ms/step - loss: 0.6707 - accuracy: 0.5771\n",
            "Epoch 7/100\n",
            "219/219 [==============================] - 0s 2ms/step - loss: 0.6568 - accuracy: 0.6307\n",
            "Epoch 8/100\n",
            "219/219 [==============================] - 0s 2ms/step - loss: 0.6357 - accuracy: 0.6800\n",
            "Epoch 9/100\n",
            "219/219 [==============================] - 0s 2ms/step - loss: 0.6055 - accuracy: 0.7413\n",
            "Epoch 10/100\n",
            "219/219 [==============================] - 0s 2ms/step - loss: 0.5579 - accuracy: 0.8987\n",
            "Epoch 11/100\n",
            "219/219 [==============================] - 0s 2ms/step - loss: 0.4996 - accuracy: 0.9646\n",
            "Epoch 12/100\n",
            "219/219 [==============================] - 0s 2ms/step - loss: 0.4323 - accuracy: 0.9876\n",
            "Epoch 13/100\n",
            "219/219 [==============================] - 0s 2ms/step - loss: 0.3641 - accuracy: 0.9934\n",
            "Epoch 14/100\n",
            "219/219 [==============================] - 0s 2ms/step - loss: 0.3020 - accuracy: 0.9951\n",
            "Epoch 15/100\n",
            "219/219 [==============================] - 0s 2ms/step - loss: 0.2462 - accuracy: 0.9959\n",
            "Epoch 16/100\n",
            "219/219 [==============================] - 0s 2ms/step - loss: 0.2030 - accuracy: 0.9956\n",
            "Epoch 17/100\n",
            "219/219 [==============================] - 0s 2ms/step - loss: 0.1696 - accuracy: 0.9959\n",
            "Epoch 18/100\n",
            "219/219 [==============================] - 0s 2ms/step - loss: 0.1433 - accuracy: 0.9960\n",
            "Epoch 19/100\n",
            "219/219 [==============================] - 0s 2ms/step - loss: 0.1229 - accuracy: 0.9959\n",
            "Epoch 20/100\n",
            "219/219 [==============================] - 0s 2ms/step - loss: 0.1066 - accuracy: 0.9959\n",
            "Epoch 21/100\n",
            "219/219 [==============================] - 0s 2ms/step - loss: 0.0933 - accuracy: 0.9956\n",
            "Epoch 22/100\n",
            "219/219 [==============================] - 0s 2ms/step - loss: 0.0827 - accuracy: 0.9961\n",
            "Epoch 23/100\n",
            "219/219 [==============================] - 0s 2ms/step - loss: 0.0736 - accuracy: 0.9966\n",
            "Epoch 24/100\n",
            "219/219 [==============================] - 0s 2ms/step - loss: 0.0662 - accuracy: 0.9961\n",
            "Epoch 25/100\n",
            "219/219 [==============================] - 0s 2ms/step - loss: 0.0599 - accuracy: 0.9956\n",
            "Epoch 26/100\n",
            "219/219 [==============================] - 0s 2ms/step - loss: 0.0546 - accuracy: 0.9960\n",
            "Epoch 27/100\n",
            "219/219 [==============================] - 0s 2ms/step - loss: 0.0501 - accuracy: 0.9951\n",
            "Epoch 28/100\n",
            "219/219 [==============================] - 0s 2ms/step - loss: 0.0461 - accuracy: 0.9957\n",
            "Epoch 29/100\n",
            "219/219 [==============================] - 0s 2ms/step - loss: 0.0425 - accuracy: 0.9964\n",
            "Epoch 30/100\n",
            "219/219 [==============================] - 0s 2ms/step - loss: 0.0399 - accuracy: 0.9956\n",
            "Epoch 31/100\n",
            "219/219 [==============================] - 0s 2ms/step - loss: 0.0373 - accuracy: 0.9960\n",
            "Epoch 32/100\n",
            "219/219 [==============================] - 0s 2ms/step - loss: 0.0347 - accuracy: 0.9956\n",
            "Epoch 33/100\n",
            "219/219 [==============================] - 0s 2ms/step - loss: 0.0327 - accuracy: 0.9964\n",
            "Epoch 34/100\n",
            "219/219 [==============================] - 0s 2ms/step - loss: 0.0307 - accuracy: 0.9963\n",
            "Epoch 35/100\n",
            "219/219 [==============================] - 0s 2ms/step - loss: 0.0293 - accuracy: 0.9961\n",
            "Epoch 36/100\n",
            "219/219 [==============================] - 0s 1ms/step - loss: 0.0278 - accuracy: 0.9957\n",
            "Epoch 37/100\n",
            "219/219 [==============================] - 0s 1ms/step - loss: 0.0263 - accuracy: 0.9963\n",
            "Epoch 38/100\n",
            "219/219 [==============================] - 0s 2ms/step - loss: 0.0249 - accuracy: 0.9961\n",
            "Epoch 39/100\n",
            "219/219 [==============================] - 0s 1ms/step - loss: 0.0241 - accuracy: 0.9960\n",
            "Epoch 40/100\n",
            "219/219 [==============================] - 0s 1ms/step - loss: 0.0228 - accuracy: 0.9959\n",
            "Epoch 41/100\n",
            "219/219 [==============================] - 0s 2ms/step - loss: 0.0221 - accuracy: 0.9960\n",
            "Epoch 42/100\n",
            "219/219 [==============================] - 0s 2ms/step - loss: 0.0214 - accuracy: 0.9960\n",
            "Epoch 43/100\n",
            "219/219 [==============================] - 0s 2ms/step - loss: 0.0207 - accuracy: 0.9964\n",
            "Epoch 44/100\n",
            "219/219 [==============================] - 0s 2ms/step - loss: 0.0198 - accuracy: 0.9963\n",
            "Epoch 45/100\n",
            "219/219 [==============================] - 0s 1ms/step - loss: 0.0192 - accuracy: 0.9964\n",
            "Epoch 46/100\n",
            "219/219 [==============================] - 0s 2ms/step - loss: 0.0186 - accuracy: 0.9960\n",
            "Epoch 47/100\n",
            "219/219 [==============================] - 0s 2ms/step - loss: 0.0184 - accuracy: 0.9957\n",
            "Epoch 48/100\n",
            "219/219 [==============================] - 0s 2ms/step - loss: 0.0178 - accuracy: 0.9963\n",
            "Epoch 49/100\n",
            "219/219 [==============================] - 0s 2ms/step - loss: 0.0173 - accuracy: 0.9959\n",
            "Epoch 50/100\n",
            "219/219 [==============================] - 0s 2ms/step - loss: 0.0168 - accuracy: 0.9961\n",
            "Epoch 51/100\n",
            "219/219 [==============================] - 0s 2ms/step - loss: 0.0166 - accuracy: 0.9964\n",
            "Epoch 52/100\n",
            "219/219 [==============================] - 0s 2ms/step - loss: 0.0161 - accuracy: 0.9966\n",
            "Epoch 53/100\n",
            "219/219 [==============================] - 0s 1ms/step - loss: 0.0158 - accuracy: 0.9967\n",
            "Epoch 54/100\n",
            "219/219 [==============================] - 0s 1ms/step - loss: 0.0156 - accuracy: 0.9963\n",
            "Epoch 55/100\n",
            "219/219 [==============================] - 0s 2ms/step - loss: 0.0152 - accuracy: 0.9966\n",
            "Epoch 56/100\n",
            "219/219 [==============================] - 0s 1ms/step - loss: 0.0146 - accuracy: 0.9971\n",
            "Epoch 57/100\n",
            "219/219 [==============================] - 0s 2ms/step - loss: 0.0144 - accuracy: 0.9964\n",
            "Epoch 58/100\n",
            "219/219 [==============================] - 0s 2ms/step - loss: 0.0145 - accuracy: 0.9969\n",
            "Epoch 59/100\n",
            "219/219 [==============================] - 0s 2ms/step - loss: 0.0139 - accuracy: 0.9969\n",
            "Epoch 60/100\n",
            "219/219 [==============================] - 0s 2ms/step - loss: 0.0141 - accuracy: 0.9964\n",
            "Epoch 61/100\n",
            "219/219 [==============================] - 0s 2ms/step - loss: 0.0136 - accuracy: 0.9964\n",
            "Epoch 62/100\n",
            "219/219 [==============================] - 0s 2ms/step - loss: 0.0135 - accuracy: 0.9967\n",
            "Epoch 63/100\n",
            "219/219 [==============================] - 0s 2ms/step - loss: 0.0132 - accuracy: 0.9963\n",
            "Epoch 64/100\n",
            "219/219 [==============================] - 0s 2ms/step - loss: 0.0131 - accuracy: 0.9966\n",
            "Epoch 65/100\n",
            "219/219 [==============================] - 0s 2ms/step - loss: 0.0132 - accuracy: 0.9966\n",
            "Epoch 66/100\n",
            "219/219 [==============================] - 0s 2ms/step - loss: 0.0129 - accuracy: 0.9967\n",
            "Epoch 67/100\n",
            "219/219 [==============================] - 0s 2ms/step - loss: 0.0130 - accuracy: 0.9961\n",
            "Epoch 68/100\n",
            "219/219 [==============================] - 0s 2ms/step - loss: 0.0128 - accuracy: 0.9960\n",
            "Epoch 69/100\n",
            "219/219 [==============================] - 0s 2ms/step - loss: 0.0125 - accuracy: 0.9964\n",
            "Epoch 70/100\n",
            "219/219 [==============================] - 0s 2ms/step - loss: 0.0125 - accuracy: 0.9964\n",
            "Epoch 71/100\n",
            "219/219 [==============================] - 0s 2ms/step - loss: 0.0121 - accuracy: 0.9966\n",
            "Epoch 72/100\n",
            "219/219 [==============================] - 0s 2ms/step - loss: 0.0121 - accuracy: 0.9964\n",
            "Epoch 73/100\n",
            "219/219 [==============================] - 0s 2ms/step - loss: 0.0120 - accuracy: 0.9969\n",
            "Epoch 74/100\n",
            "219/219 [==============================] - 0s 2ms/step - loss: 0.0119 - accuracy: 0.9964\n",
            "Epoch 75/100\n",
            "219/219 [==============================] - 0s 2ms/step - loss: 0.0119 - accuracy: 0.9961\n",
            "Epoch 76/100\n",
            "219/219 [==============================] - 0s 2ms/step - loss: 0.0116 - accuracy: 0.9966\n",
            "Epoch 77/100\n",
            "219/219 [==============================] - 0s 2ms/step - loss: 0.0114 - accuracy: 0.9969\n",
            "Epoch 78/100\n",
            "219/219 [==============================] - 0s 2ms/step - loss: 0.0114 - accuracy: 0.9961\n",
            "Epoch 79/100\n",
            "219/219 [==============================] - 0s 1ms/step - loss: 0.0113 - accuracy: 0.9961\n",
            "Epoch 80/100\n",
            "219/219 [==============================] - 0s 2ms/step - loss: 0.0114 - accuracy: 0.9961\n",
            "Epoch 81/100\n",
            "219/219 [==============================] - 0s 2ms/step - loss: 0.0114 - accuracy: 0.9967\n",
            "Epoch 82/100\n",
            "219/219 [==============================] - 0s 2ms/step - loss: 0.0112 - accuracy: 0.9963\n",
            "Epoch 83/100\n",
            "219/219 [==============================] - 0s 2ms/step - loss: 0.0111 - accuracy: 0.9963\n",
            "Epoch 84/100\n",
            "219/219 [==============================] - 0s 2ms/step - loss: 0.0112 - accuracy: 0.9970\n",
            "Epoch 85/100\n",
            "219/219 [==============================] - 0s 2ms/step - loss: 0.0108 - accuracy: 0.9964\n",
            "Epoch 86/100\n",
            "219/219 [==============================] - 0s 2ms/step - loss: 0.0108 - accuracy: 0.9970\n",
            "Epoch 87/100\n",
            "219/219 [==============================] - 0s 2ms/step - loss: 0.0105 - accuracy: 0.9969\n",
            "Epoch 88/100\n",
            "219/219 [==============================] - 0s 2ms/step - loss: 0.0111 - accuracy: 0.9964\n",
            "Epoch 89/100\n",
            "219/219 [==============================] - 0s 2ms/step - loss: 0.0108 - accuracy: 0.9964\n",
            "Epoch 90/100\n",
            "219/219 [==============================] - 0s 2ms/step - loss: 0.0105 - accuracy: 0.9964\n",
            "Epoch 91/100\n",
            "219/219 [==============================] - 0s 2ms/step - loss: 0.0103 - accuracy: 0.9967\n",
            "Epoch 92/100\n",
            "219/219 [==============================] - 0s 2ms/step - loss: 0.0107 - accuracy: 0.9964\n",
            "Epoch 93/100\n",
            "219/219 [==============================] - 0s 2ms/step - loss: 0.0103 - accuracy: 0.9970\n",
            "Epoch 94/100\n",
            "219/219 [==============================] - 0s 2ms/step - loss: 0.0102 - accuracy: 0.9970\n",
            "Epoch 95/100\n",
            "219/219 [==============================] - 0s 2ms/step - loss: 0.0101 - accuracy: 0.9970\n",
            "Epoch 96/100\n",
            "219/219 [==============================] - 0s 2ms/step - loss: 0.0102 - accuracy: 0.9964\n",
            "Epoch 97/100\n",
            "219/219 [==============================] - 0s 2ms/step - loss: 0.0103 - accuracy: 0.9964\n",
            "Epoch 98/100\n",
            "219/219 [==============================] - 0s 2ms/step - loss: 0.0102 - accuracy: 0.9966\n",
            "Epoch 99/100\n",
            "219/219 [==============================] - 0s 2ms/step - loss: 0.0104 - accuracy: 0.9969\n",
            "Epoch 100/100\n",
            "219/219 [==============================] - 0s 2ms/step - loss: 0.0097 - accuracy: 0.9970\n"
          ]
        }
      ]
    },
    {
      "cell_type": "code",
      "source": [
        "model_1.evaluate(X_test,y_test)"
      ],
      "metadata": {
        "colab": {
          "base_uri": "https://localhost:8080/"
        },
        "id": "uZzuYvZl5B_8",
        "outputId": "49d34d2e-cbeb-40fc-c6cc-59715119aed7"
      },
      "execution_count": 71,
      "outputs": [
        {
          "output_type": "stream",
          "name": "stdout",
          "text": [
            "94/94 [==============================] - 0s 1ms/step - loss: 0.0107 - accuracy: 0.9977\n"
          ]
        },
        {
          "output_type": "execute_result",
          "data": {
            "text/plain": [
              "[0.010701262392103672, 0.9976666569709778]"
            ]
          },
          "metadata": {},
          "execution_count": 71
        }
      ]
    },
    {
      "cell_type": "markdown",
      "source": [
        "### Improving the model"
      ],
      "metadata": {
        "id": "JZpmTWT_5YKF"
      }
    },
    {
      "cell_type": "code",
      "source": [
        "model_2= tf.keras.Sequential([\n",
        "          tf.keras.layers.Dense(4, activation=\"relu\"),\n",
        "          tf.keras.layers.Dense(4, activation=\"relu\"),\n",
        "          tf.keras.layers.Dense(1, activation=\"sigmoid\")\n",
        "])\n",
        "\n",
        "model_2.compile(loss=tf.keras.losses.BinaryCrossentropy(), optimizer=tf.keras.optimizers.Adam(learning_rate=0.01), metrics=[\"accuracy\"])\n",
        "\n",
        "\n",
        "history=model_2.fit(X_train,y_train, epochs=25)"
      ],
      "metadata": {
        "colab": {
          "base_uri": "https://localhost:8080/"
        },
        "id": "wMKX3YUjAenk",
        "outputId": "ed1cf177-4c63-4cf7-e259-7c99297d1443"
      },
      "execution_count": 72,
      "outputs": [
        {
          "output_type": "stream",
          "name": "stdout",
          "text": [
            "Epoch 1/25\n",
            "219/219 [==============================] - 1s 2ms/step - loss: 0.6846 - accuracy: 0.5406\n",
            "Epoch 2/25\n",
            "219/219 [==============================] - 0s 2ms/step - loss: 0.5408 - accuracy: 0.7494\n",
            "Epoch 3/25\n",
            "219/219 [==============================] - 0s 2ms/step - loss: 0.2798 - accuracy: 0.9499\n",
            "Epoch 4/25\n",
            "219/219 [==============================] - 0s 2ms/step - loss: 0.1020 - accuracy: 0.9951\n",
            "Epoch 5/25\n",
            "219/219 [==============================] - 0s 2ms/step - loss: 0.0580 - accuracy: 0.9961\n",
            "Epoch 6/25\n",
            "219/219 [==============================] - 0s 2ms/step - loss: 0.0415 - accuracy: 0.9963\n",
            "Epoch 7/25\n",
            "219/219 [==============================] - 0s 2ms/step - loss: 0.0308 - accuracy: 0.9944\n",
            "Epoch 8/25\n",
            "219/219 [==============================] - 0s 2ms/step - loss: 0.0259 - accuracy: 0.9954\n",
            "Epoch 9/25\n",
            "219/219 [==============================] - 0s 2ms/step - loss: 0.0257 - accuracy: 0.9940\n",
            "Epoch 10/25\n",
            "219/219 [==============================] - 0s 2ms/step - loss: 0.0223 - accuracy: 0.9943\n",
            "Epoch 11/25\n",
            "219/219 [==============================] - 0s 2ms/step - loss: 0.0205 - accuracy: 0.9943\n",
            "Epoch 12/25\n",
            "219/219 [==============================] - 0s 2ms/step - loss: 0.0181 - accuracy: 0.9946\n",
            "Epoch 13/25\n",
            "219/219 [==============================] - 0s 2ms/step - loss: 0.0224 - accuracy: 0.9929\n",
            "Epoch 14/25\n",
            "219/219 [==============================] - 0s 2ms/step - loss: 0.0187 - accuracy: 0.9937\n",
            "Epoch 15/25\n",
            "219/219 [==============================] - 0s 2ms/step - loss: 0.0187 - accuracy: 0.9939\n",
            "Epoch 16/25\n",
            "219/219 [==============================] - 0s 2ms/step - loss: 0.0185 - accuracy: 0.9934\n",
            "Epoch 17/25\n",
            "219/219 [==============================] - 0s 2ms/step - loss: 0.0158 - accuracy: 0.9947\n",
            "Epoch 18/25\n",
            "219/219 [==============================] - 0s 2ms/step - loss: 0.0159 - accuracy: 0.9947\n",
            "Epoch 19/25\n",
            "219/219 [==============================] - 0s 2ms/step - loss: 0.0168 - accuracy: 0.9944\n",
            "Epoch 20/25\n",
            "219/219 [==============================] - 0s 2ms/step - loss: 0.0161 - accuracy: 0.9940\n",
            "Epoch 21/25\n",
            "219/219 [==============================] - 0s 1ms/step - loss: 0.0176 - accuracy: 0.9931\n",
            "Epoch 22/25\n",
            "219/219 [==============================] - 0s 2ms/step - loss: 0.0196 - accuracy: 0.9924\n",
            "Epoch 23/25\n",
            "219/219 [==============================] - 0s 2ms/step - loss: 0.0173 - accuracy: 0.9936\n",
            "Epoch 24/25\n",
            "219/219 [==============================] - 0s 2ms/step - loss: 0.0145 - accuracy: 0.9953\n",
            "Epoch 25/25\n",
            "219/219 [==============================] - 0s 2ms/step - loss: 0.0171 - accuracy: 0.9936\n"
          ]
        }
      ]
    },
    {
      "cell_type": "code",
      "source": [
        "model_2.evaluate(X_test,y_test)"
      ],
      "metadata": {
        "colab": {
          "base_uri": "https://localhost:8080/"
        },
        "id": "RVz7PmWXAwcO",
        "outputId": "f130a163-6103-41cd-d2e3-6b29e954992e"
      },
      "execution_count": 73,
      "outputs": [
        {
          "output_type": "stream",
          "name": "stdout",
          "text": [
            "94/94 [==============================] - 0s 2ms/step - loss: 0.0146 - accuracy: 0.9950\n"
          ]
        },
        {
          "output_type": "execute_result",
          "data": {
            "text/plain": [
              "[0.014598418958485126, 0.9950000047683716]"
            ]
          },
          "metadata": {},
          "execution_count": 73
        }
      ]
    },
    {
      "cell_type": "markdown",
      "source": [
        "### Plot the loss or training curves"
      ],
      "metadata": {
        "id": "MgqNkPzQA7RK"
      }
    },
    {
      "cell_type": "code",
      "source": [
        "history.history"
      ],
      "metadata": {
        "colab": {
          "base_uri": "https://localhost:8080/"
        },
        "id": "VLvilY_HDSas",
        "outputId": "7d0c9fcd-c0b9-4b72-c5c8-6fe2f3ad54cb"
      },
      "execution_count": 74,
      "outputs": [
        {
          "output_type": "execute_result",
          "data": {
            "text/plain": [
              "{'accuracy': [0.5405714511871338,\n",
              "  0.7494285702705383,\n",
              "  0.9498571157455444,\n",
              "  0.9951428771018982,\n",
              "  0.9961428642272949,\n",
              "  0.9962857365608215,\n",
              "  0.9944285750389099,\n",
              "  0.9954285621643066,\n",
              "  0.9940000176429749,\n",
              "  0.9942857027053833,\n",
              "  0.9942857027053833,\n",
              "  0.9945714473724365,\n",
              "  0.9928571581840515,\n",
              "  0.9937142729759216,\n",
              "  0.9938571453094482,\n",
              "  0.9934285879135132,\n",
              "  0.9947142601013184,\n",
              "  0.9947142601013184,\n",
              "  0.9944285750389099,\n",
              "  0.9940000176429749,\n",
              "  0.99314284324646,\n",
              "  0.9924286007881165,\n",
              "  0.993571400642395,\n",
              "  0.99528568983078,\n",
              "  0.993571400642395],\n",
              " 'loss': [0.6846480965614319,\n",
              "  0.5407828092575073,\n",
              "  0.2797698974609375,\n",
              "  0.10196612030267715,\n",
              "  0.058028411120176315,\n",
              "  0.04145830497145653,\n",
              "  0.03084878996014595,\n",
              "  0.025933988392353058,\n",
              "  0.02566511370241642,\n",
              "  0.02226138301193714,\n",
              "  0.02053166925907135,\n",
              "  0.01809973269701004,\n",
              "  0.02236124314367771,\n",
              "  0.018686823546886444,\n",
              "  0.018734270706772804,\n",
              "  0.018523214384913445,\n",
              "  0.01578819379210472,\n",
              "  0.01585187390446663,\n",
              "  0.016838980838656425,\n",
              "  0.016054170206189156,\n",
              "  0.017595265060663223,\n",
              "  0.01957559585571289,\n",
              "  0.01730848103761673,\n",
              "  0.014499115757644176,\n",
              "  0.0170604195445776]}"
            ]
          },
          "metadata": {},
          "execution_count": 74
        }
      ]
    },
    {
      "cell_type": "code",
      "source": [
        "pd.DataFrame(history.history)"
      ],
      "metadata": {
        "colab": {
          "base_uri": "https://localhost:8080/",
          "height": 898
        },
        "id": "UVyckjloDUDq",
        "outputId": "8f844a35-7598-4fa1-8f1d-7477ff8d3866"
      },
      "execution_count": 75,
      "outputs": [
        {
          "output_type": "execute_result",
          "data": {
            "text/plain": [
              "        loss  accuracy\n",
              "0   0.684648  0.540571\n",
              "1   0.540783  0.749429\n",
              "2   0.279770  0.949857\n",
              "3   0.101966  0.995143\n",
              "4   0.058028  0.996143\n",
              "5   0.041458  0.996286\n",
              "6   0.030849  0.994429\n",
              "7   0.025934  0.995429\n",
              "8   0.025665  0.994000\n",
              "9   0.022261  0.994286\n",
              "10  0.020532  0.994286\n",
              "11  0.018100  0.994571\n",
              "12  0.022361  0.992857\n",
              "13  0.018687  0.993714\n",
              "14  0.018734  0.993857\n",
              "15  0.018523  0.993429\n",
              "16  0.015788  0.994714\n",
              "17  0.015852  0.994714\n",
              "18  0.016839  0.994429\n",
              "19  0.016054  0.994000\n",
              "20  0.017595  0.993143\n",
              "21  0.019576  0.992429\n",
              "22  0.017308  0.993571\n",
              "23  0.014499  0.995286\n",
              "24  0.017060  0.993571"
            ],
            "text/html": [
              "\n",
              "  <div id=\"df-2b796268-4d0f-4724-a7f0-8a5b26b353ba\">\n",
              "    <div class=\"colab-df-container\">\n",
              "      <div>\n",
              "<style scoped>\n",
              "    .dataframe tbody tr th:only-of-type {\n",
              "        vertical-align: middle;\n",
              "    }\n",
              "\n",
              "    .dataframe tbody tr th {\n",
              "        vertical-align: top;\n",
              "    }\n",
              "\n",
              "    .dataframe thead th {\n",
              "        text-align: right;\n",
              "    }\n",
              "</style>\n",
              "<table border=\"1\" class=\"dataframe\">\n",
              "  <thead>\n",
              "    <tr style=\"text-align: right;\">\n",
              "      <th></th>\n",
              "      <th>loss</th>\n",
              "      <th>accuracy</th>\n",
              "    </tr>\n",
              "  </thead>\n",
              "  <tbody>\n",
              "    <tr>\n",
              "      <th>0</th>\n",
              "      <td>0.684648</td>\n",
              "      <td>0.540571</td>\n",
              "    </tr>\n",
              "    <tr>\n",
              "      <th>1</th>\n",
              "      <td>0.540783</td>\n",
              "      <td>0.749429</td>\n",
              "    </tr>\n",
              "    <tr>\n",
              "      <th>2</th>\n",
              "      <td>0.279770</td>\n",
              "      <td>0.949857</td>\n",
              "    </tr>\n",
              "    <tr>\n",
              "      <th>3</th>\n",
              "      <td>0.101966</td>\n",
              "      <td>0.995143</td>\n",
              "    </tr>\n",
              "    <tr>\n",
              "      <th>4</th>\n",
              "      <td>0.058028</td>\n",
              "      <td>0.996143</td>\n",
              "    </tr>\n",
              "    <tr>\n",
              "      <th>5</th>\n",
              "      <td>0.041458</td>\n",
              "      <td>0.996286</td>\n",
              "    </tr>\n",
              "    <tr>\n",
              "      <th>6</th>\n",
              "      <td>0.030849</td>\n",
              "      <td>0.994429</td>\n",
              "    </tr>\n",
              "    <tr>\n",
              "      <th>7</th>\n",
              "      <td>0.025934</td>\n",
              "      <td>0.995429</td>\n",
              "    </tr>\n",
              "    <tr>\n",
              "      <th>8</th>\n",
              "      <td>0.025665</td>\n",
              "      <td>0.994000</td>\n",
              "    </tr>\n",
              "    <tr>\n",
              "      <th>9</th>\n",
              "      <td>0.022261</td>\n",
              "      <td>0.994286</td>\n",
              "    </tr>\n",
              "    <tr>\n",
              "      <th>10</th>\n",
              "      <td>0.020532</td>\n",
              "      <td>0.994286</td>\n",
              "    </tr>\n",
              "    <tr>\n",
              "      <th>11</th>\n",
              "      <td>0.018100</td>\n",
              "      <td>0.994571</td>\n",
              "    </tr>\n",
              "    <tr>\n",
              "      <th>12</th>\n",
              "      <td>0.022361</td>\n",
              "      <td>0.992857</td>\n",
              "    </tr>\n",
              "    <tr>\n",
              "      <th>13</th>\n",
              "      <td>0.018687</td>\n",
              "      <td>0.993714</td>\n",
              "    </tr>\n",
              "    <tr>\n",
              "      <th>14</th>\n",
              "      <td>0.018734</td>\n",
              "      <td>0.993857</td>\n",
              "    </tr>\n",
              "    <tr>\n",
              "      <th>15</th>\n",
              "      <td>0.018523</td>\n",
              "      <td>0.993429</td>\n",
              "    </tr>\n",
              "    <tr>\n",
              "      <th>16</th>\n",
              "      <td>0.015788</td>\n",
              "      <td>0.994714</td>\n",
              "    </tr>\n",
              "    <tr>\n",
              "      <th>17</th>\n",
              "      <td>0.015852</td>\n",
              "      <td>0.994714</td>\n",
              "    </tr>\n",
              "    <tr>\n",
              "      <th>18</th>\n",
              "      <td>0.016839</td>\n",
              "      <td>0.994429</td>\n",
              "    </tr>\n",
              "    <tr>\n",
              "      <th>19</th>\n",
              "      <td>0.016054</td>\n",
              "      <td>0.994000</td>\n",
              "    </tr>\n",
              "    <tr>\n",
              "      <th>20</th>\n",
              "      <td>0.017595</td>\n",
              "      <td>0.993143</td>\n",
              "    </tr>\n",
              "    <tr>\n",
              "      <th>21</th>\n",
              "      <td>0.019576</td>\n",
              "      <td>0.992429</td>\n",
              "    </tr>\n",
              "    <tr>\n",
              "      <th>22</th>\n",
              "      <td>0.017308</td>\n",
              "      <td>0.993571</td>\n",
              "    </tr>\n",
              "    <tr>\n",
              "      <th>23</th>\n",
              "      <td>0.014499</td>\n",
              "      <td>0.995286</td>\n",
              "    </tr>\n",
              "    <tr>\n",
              "      <th>24</th>\n",
              "      <td>0.017060</td>\n",
              "      <td>0.993571</td>\n",
              "    </tr>\n",
              "  </tbody>\n",
              "</table>\n",
              "</div>\n",
              "      <button class=\"colab-df-convert\" onclick=\"convertToInteractive('df-2b796268-4d0f-4724-a7f0-8a5b26b353ba')\"\n",
              "              title=\"Convert this dataframe to an interactive table.\"\n",
              "              style=\"display:none;\">\n",
              "        \n",
              "  <svg xmlns=\"http://www.w3.org/2000/svg\" height=\"24px\"viewBox=\"0 0 24 24\"\n",
              "       width=\"24px\">\n",
              "    <path d=\"M0 0h24v24H0V0z\" fill=\"none\"/>\n",
              "    <path d=\"M18.56 5.44l.94 2.06.94-2.06 2.06-.94-2.06-.94-.94-2.06-.94 2.06-2.06.94zm-11 1L8.5 8.5l.94-2.06 2.06-.94-2.06-.94L8.5 2.5l-.94 2.06-2.06.94zm10 10l.94 2.06.94-2.06 2.06-.94-2.06-.94-.94-2.06-.94 2.06-2.06.94z\"/><path d=\"M17.41 7.96l-1.37-1.37c-.4-.4-.92-.59-1.43-.59-.52 0-1.04.2-1.43.59L10.3 9.45l-7.72 7.72c-.78.78-.78 2.05 0 2.83L4 21.41c.39.39.9.59 1.41.59.51 0 1.02-.2 1.41-.59l7.78-7.78 2.81-2.81c.8-.78.8-2.07 0-2.86zM5.41 20L4 18.59l7.72-7.72 1.47 1.35L5.41 20z\"/>\n",
              "  </svg>\n",
              "      </button>\n",
              "      \n",
              "  <style>\n",
              "    .colab-df-container {\n",
              "      display:flex;\n",
              "      flex-wrap:wrap;\n",
              "      gap: 12px;\n",
              "    }\n",
              "\n",
              "    .colab-df-convert {\n",
              "      background-color: #E8F0FE;\n",
              "      border: none;\n",
              "      border-radius: 50%;\n",
              "      cursor: pointer;\n",
              "      display: none;\n",
              "      fill: #1967D2;\n",
              "      height: 32px;\n",
              "      padding: 0 0 0 0;\n",
              "      width: 32px;\n",
              "    }\n",
              "\n",
              "    .colab-df-convert:hover {\n",
              "      background-color: #E2EBFA;\n",
              "      box-shadow: 0px 1px 2px rgba(60, 64, 67, 0.3), 0px 1px 3px 1px rgba(60, 64, 67, 0.15);\n",
              "      fill: #174EA6;\n",
              "    }\n",
              "\n",
              "    [theme=dark] .colab-df-convert {\n",
              "      background-color: #3B4455;\n",
              "      fill: #D2E3FC;\n",
              "    }\n",
              "\n",
              "    [theme=dark] .colab-df-convert:hover {\n",
              "      background-color: #434B5C;\n",
              "      box-shadow: 0px 1px 3px 1px rgba(0, 0, 0, 0.15);\n",
              "      filter: drop-shadow(0px 1px 2px rgba(0, 0, 0, 0.3));\n",
              "      fill: #FFFFFF;\n",
              "    }\n",
              "  </style>\n",
              "\n",
              "      <script>\n",
              "        const buttonEl =\n",
              "          document.querySelector('#df-2b796268-4d0f-4724-a7f0-8a5b26b353ba button.colab-df-convert');\n",
              "        buttonEl.style.display =\n",
              "          google.colab.kernel.accessAllowed ? 'block' : 'none';\n",
              "\n",
              "        async function convertToInteractive(key) {\n",
              "          const element = document.querySelector('#df-2b796268-4d0f-4724-a7f0-8a5b26b353ba');\n",
              "          const dataTable =\n",
              "            await google.colab.kernel.invokeFunction('convertToInteractive',\n",
              "                                                     [key], {});\n",
              "          if (!dataTable) return;\n",
              "\n",
              "          const docLinkHtml = 'Like what you see? Visit the ' +\n",
              "            '<a target=\"_blank\" href=https://colab.research.google.com/notebooks/data_table.ipynb>data table notebook</a>'\n",
              "            + ' to learn more about interactive tables.';\n",
              "          element.innerHTML = '';\n",
              "          dataTable['output_type'] = 'display_data';\n",
              "          await google.colab.output.renderOutput(dataTable, element);\n",
              "          const docLink = document.createElement('div');\n",
              "          docLink.innerHTML = docLinkHtml;\n",
              "          element.appendChild(docLink);\n",
              "        }\n",
              "      </script>\n",
              "    </div>\n",
              "  </div>\n",
              "  "
            ]
          },
          "metadata": {},
          "execution_count": 75
        }
      ]
    },
    {
      "cell_type": "code",
      "source": [
        "pd.DataFrame(history.history).plot()\n",
        "plt.title(\"Model_2 Loss Curve\")"
      ],
      "metadata": {
        "colab": {
          "base_uri": "https://localhost:8080/",
          "height": 301
        },
        "id": "_mimUeCVDZnn",
        "outputId": "05ff2931-7c35-44ef-8b9a-b65706ab0e58"
      },
      "execution_count": 76,
      "outputs": [
        {
          "output_type": "execute_result",
          "data": {
            "text/plain": [
              "Text(0.5, 1.0, 'Model_2 Loss Curve')"
            ]
          },
          "metadata": {},
          "execution_count": 76
        },
        {
          "output_type": "display_data",
          "data": {
            "text/plain": [
              "<Figure size 432x288 with 1 Axes>"
            ],
            "image/png": "[encoded data removed]"
          },
          "metadata": {
            "needs_background": "light"
          }
        }
      ]
    },
    {
      "cell_type": "markdown",
      "source": [
        "### Find the ideal/best learning rate\n",
        "\n",
        "**Steps**\n",
        "\n",
        "* Learning rate **callback** is an extra piece of functionality, which we can add *while* the model is training.\n",
        "\n",
        "* Build another model\n",
        "\n",
        "* Modified lost curve plot"
      ],
      "metadata": {
        "id": "nVWQKEFhDzql"
      }
    },
    {
      "cell_type": "code",
      "source": [
        "tf.random.set_seed(42)\n",
        "\n",
        "model_3=tf.keras.Sequential([\n",
        "            tf.keras.layers.Dense(4, activation=\"relu\"),\n",
        "            tf.keras.layers.Dense(4, activation=\"relu\"),\n",
        "            tf.keras.layers.Dense(1, activation=\"sigmoid\"),\n",
        "])\n",
        "\n",
        "model_3.compile(loss=\"binary_crossentropy\", optimizer=\"Adam\", metrics=[\"accuracy\"])\n",
        "\n",
        "lr_callback=tf.keras.callbacks.LearningRateScheduler(lambda epoch: 1e-4 * 10**(epoch/20))\n",
        "\n",
        "history_3=model_3.fit(X_train,y_train, epochs=100, callbacks=[lr_callback])"
      ],
      "metadata": {
        "colab": {
          "base_uri": "https://localhost:8080/"
        },
        "id": "8gGd8fmLEw9K",
        "outputId": "8cfe8dac-9cdb-49ed-fd70-c155eb8ac6f5"
      },
      "execution_count": 77,
      "outputs": [
        {
          "output_type": "stream",
          "name": "stdout",
          "text": [
            "Epoch 1/100\n",
            "219/219 [==============================] - 1s 2ms/step - loss: 0.6913 - accuracy: 0.4989 - lr: 1.0000e-04\n",
            "Epoch 2/100\n",
            "219/219 [==============================] - 0s 2ms/step - loss: 0.6871 - accuracy: 0.5046 - lr: 1.1220e-04\n",
            "Epoch 3/100\n",
            "219/219 [==============================] - 0s 2ms/step - loss: 0.6843 - accuracy: 0.5221 - lr: 1.2589e-04\n",
            "Epoch 4/100\n",
            "219/219 [==============================] - 0s 2ms/step - loss: 0.6824 - accuracy: 0.5264 - lr: 1.4125e-04\n",
            "Epoch 5/100\n",
            "219/219 [==============================] - 0s 2ms/step - loss: 0.6811 - accuracy: 0.5334 - lr: 1.5849e-04\n",
            "Epoch 6/100\n",
            "219/219 [==============================] - 0s 2ms/step - loss: 0.6801 - accuracy: 0.5361 - lr: 1.7783e-04\n",
            "Epoch 7/100\n",
            "219/219 [==============================] - 0s 2ms/step - loss: 0.6791 - accuracy: 0.5449 - lr: 1.9953e-04\n",
            "Epoch 8/100\n",
            "219/219 [==============================] - 0s 2ms/step - loss: 0.6781 - accuracy: 0.5494 - lr: 2.2387e-04\n",
            "Epoch 9/100\n",
            "219/219 [==============================] - 0s 2ms/step - loss: 0.6771 - accuracy: 0.5521 - lr: 2.5119e-04\n",
            "Epoch 10/100\n",
            "219/219 [==============================] - 0s 2ms/step - loss: 0.6759 - accuracy: 0.5536 - lr: 2.8184e-04\n",
            "Epoch 11/100\n",
            "219/219 [==============================] - 0s 2ms/step - loss: 0.6746 - accuracy: 0.5546 - lr: 3.1623e-04\n",
            "Epoch 12/100\n",
            "219/219 [==============================] - 0s 2ms/step - loss: 0.6731 - accuracy: 0.5579 - lr: 3.5481e-04\n",
            "Epoch 13/100\n",
            "219/219 [==============================] - 0s 1ms/step - loss: 0.6714 - accuracy: 0.5587 - lr: 3.9811e-04\n",
            "Epoch 14/100\n",
            "219/219 [==============================] - 0s 2ms/step - loss: 0.6696 - accuracy: 0.5604 - lr: 4.4668e-04\n",
            "Epoch 15/100\n",
            "219/219 [==============================] - 0s 2ms/step - loss: 0.6674 - accuracy: 0.5653 - lr: 5.0119e-04\n",
            "Epoch 16/100\n",
            "219/219 [==============================] - 0s 2ms/step - loss: 0.6651 - accuracy: 0.5653 - lr: 5.6234e-04\n",
            "Epoch 17/100\n",
            "219/219 [==============================] - 0s 2ms/step - loss: 0.6623 - accuracy: 0.5709 - lr: 6.3096e-04\n",
            "Epoch 18/100\n",
            "219/219 [==============================] - 0s 2ms/step - loss: 0.6589 - accuracy: 0.5791 - lr: 7.0795e-04\n",
            "Epoch 19/100\n",
            "219/219 [==============================] - 0s 2ms/step - loss: 0.6539 - accuracy: 0.5866 - lr: 7.9433e-04\n",
            "Epoch 20/100\n",
            "219/219 [==============================] - 0s 2ms/step - loss: 0.6438 - accuracy: 0.6060 - lr: 8.9125e-04\n",
            "Epoch 21/100\n",
            "219/219 [==============================] - 0s 1ms/step - loss: 0.6279 - accuracy: 0.6654 - lr: 0.0010\n",
            "Epoch 22/100\n",
            "219/219 [==============================] - 0s 2ms/step - loss: 0.6017 - accuracy: 0.7313 - lr: 0.0011\n",
            "Epoch 23/100\n",
            "219/219 [==============================] - 0s 2ms/step - loss: 0.5510 - accuracy: 0.7783 - lr: 0.0013\n",
            "Epoch 24/100\n",
            "219/219 [==============================] - 0s 1ms/step - loss: 0.4770 - accuracy: 0.8870 - lr: 0.0014\n",
            "Epoch 25/100\n",
            "219/219 [==============================] - 0s 2ms/step - loss: 0.3745 - accuracy: 0.9690 - lr: 0.0016\n",
            "Epoch 26/100\n",
            "219/219 [==============================] - 0s 2ms/step - loss: 0.2847 - accuracy: 0.9860 - lr: 0.0018\n",
            "Epoch 27/100\n",
            "219/219 [==============================] - 0s 2ms/step - loss: 0.2121 - accuracy: 0.9901 - lr: 0.0020\n",
            "Epoch 28/100\n",
            "219/219 [==============================] - 0s 2ms/step - loss: 0.1598 - accuracy: 0.9913 - lr: 0.0022\n",
            "Epoch 29/100\n",
            "219/219 [==============================] - 0s 2ms/step - loss: 0.1222 - accuracy: 0.9914 - lr: 0.0025\n",
            "Epoch 30/100\n",
            "219/219 [==============================] - 0s 2ms/step - loss: 0.0965 - accuracy: 0.9926 - lr: 0.0028\n",
            "Epoch 31/100\n",
            "219/219 [==============================] - 0s 2ms/step - loss: 0.0782 - accuracy: 0.9914 - lr: 0.0032\n",
            "Epoch 32/100\n",
            "219/219 [==============================] - 0s 2ms/step - loss: 0.0633 - accuracy: 0.9936 - lr: 0.0035\n",
            "Epoch 33/100\n",
            "219/219 [==============================] - 0s 2ms/step - loss: 0.0536 - accuracy: 0.9930 - lr: 0.0040\n",
            "Epoch 34/100\n",
            "219/219 [==============================] - 0s 2ms/step - loss: 0.0461 - accuracy: 0.9930 - lr: 0.0045\n",
            "Epoch 35/100\n",
            "219/219 [==============================] - 0s 2ms/step - loss: 0.0408 - accuracy: 0.9920 - lr: 0.0050\n",
            "Epoch 36/100\n",
            "219/219 [==============================] - 0s 1ms/step - loss: 0.0364 - accuracy: 0.9917 - lr: 0.0056\n",
            "Epoch 37/100\n",
            "219/219 [==============================] - 0s 2ms/step - loss: 0.0349 - accuracy: 0.9910 - lr: 0.0063\n",
            "Epoch 38/100\n",
            "219/219 [==============================] - 0s 2ms/step - loss: 0.0337 - accuracy: 0.9910 - lr: 0.0071\n",
            "Epoch 39/100\n",
            "219/219 [==============================] - 0s 2ms/step - loss: 0.0302 - accuracy: 0.9919 - lr: 0.0079\n",
            "Epoch 40/100\n",
            "219/219 [==============================] - 0s 2ms/step - loss: 0.0328 - accuracy: 0.9907 - lr: 0.0089\n",
            "Epoch 41/100\n",
            "219/219 [==============================] - 0s 2ms/step - loss: 0.0268 - accuracy: 0.9917 - lr: 0.0100\n",
            "Epoch 42/100\n",
            "219/219 [==============================] - 0s 2ms/step - loss: 0.0373 - accuracy: 0.9871 - lr: 0.0112\n",
            "Epoch 43/100\n",
            "219/219 [==============================] - 0s 2ms/step - loss: 0.0363 - accuracy: 0.9869 - lr: 0.0126\n",
            "Epoch 44/100\n",
            "219/219 [==============================] - 0s 2ms/step - loss: 0.0344 - accuracy: 0.9876 - lr: 0.0141\n",
            "Epoch 45/100\n",
            "219/219 [==============================] - 0s 2ms/step - loss: 0.0431 - accuracy: 0.9839 - lr: 0.0158\n",
            "Epoch 46/100\n",
            "219/219 [==============================] - 0s 2ms/step - loss: 0.0500 - accuracy: 0.9806 - lr: 0.0178\n",
            "Epoch 47/100\n",
            "219/219 [==============================] - 0s 2ms/step - loss: 0.0424 - accuracy: 0.9864 - lr: 0.0200\n",
            "Epoch 48/100\n",
            "219/219 [==============================] - 0s 2ms/step - loss: 0.0414 - accuracy: 0.9846 - lr: 0.0224\n",
            "Epoch 49/100\n",
            "219/219 [==============================] - 0s 2ms/step - loss: 0.0366 - accuracy: 0.9867 - lr: 0.0251\n",
            "Epoch 50/100\n",
            "219/219 [==============================] - 0s 2ms/step - loss: 0.0546 - accuracy: 0.9789 - lr: 0.0282\n",
            "Epoch 51/100\n",
            "219/219 [==============================] - 0s 2ms/step - loss: 0.0537 - accuracy: 0.9800 - lr: 0.0316\n",
            "Epoch 52/100\n",
            "219/219 [==============================] - 0s 2ms/step - loss: 0.0763 - accuracy: 0.9714 - lr: 0.0355\n",
            "Epoch 53/100\n",
            "219/219 [==============================] - 0s 2ms/step - loss: 0.0480 - accuracy: 0.9833 - lr: 0.0398\n",
            "Epoch 54/100\n",
            "219/219 [==============================] - 0s 2ms/step - loss: 0.0597 - accuracy: 0.9793 - lr: 0.0447\n",
            "Epoch 55/100\n",
            "219/219 [==============================] - 0s 2ms/step - loss: 0.0699 - accuracy: 0.9721 - lr: 0.0501\n",
            "Epoch 56/100\n",
            "219/219 [==============================] - 0s 2ms/step - loss: 0.0605 - accuracy: 0.9796 - lr: 0.0562\n",
            "Epoch 57/100\n",
            "219/219 [==============================] - 0s 2ms/step - loss: 0.0325 - accuracy: 0.9880 - lr: 0.0631\n",
            "Epoch 58/100\n",
            "219/219 [==============================] - 0s 2ms/step - loss: 0.0465 - accuracy: 0.9830 - lr: 0.0708\n",
            "Epoch 59/100\n",
            "219/219 [==============================] - 0s 2ms/step - loss: 0.0494 - accuracy: 0.9820 - lr: 0.0794\n",
            "Epoch 60/100\n",
            "219/219 [==============================] - 0s 2ms/step - loss: 0.0347 - accuracy: 0.9870 - lr: 0.0891\n",
            "Epoch 61/100\n",
            "219/219 [==============================] - 0s 2ms/step - loss: 0.0336 - accuracy: 0.9879 - lr: 0.1000\n",
            "Epoch 62/100\n",
            "219/219 [==============================] - 0s 2ms/step - loss: 0.1074 - accuracy: 0.9630 - lr: 0.1122\n",
            "Epoch 63/100\n",
            "219/219 [==============================] - 0s 2ms/step - loss: 0.0455 - accuracy: 0.9853 - lr: 0.1259\n",
            "Epoch 64/100\n",
            "219/219 [==============================] - 0s 2ms/step - loss: 0.0522 - accuracy: 0.9819 - lr: 0.1413\n",
            "Epoch 65/100\n",
            "219/219 [==============================] - 0s 2ms/step - loss: 0.0749 - accuracy: 0.9729 - lr: 0.1585\n",
            "Epoch 66/100\n",
            "219/219 [==============================] - 0s 2ms/step - loss: 0.0851 - accuracy: 0.9671 - lr: 0.1778\n",
            "Epoch 67/100\n",
            "219/219 [==============================] - 0s 2ms/step - loss: 0.0561 - accuracy: 0.9793 - lr: 0.1995\n",
            "Epoch 68/100\n",
            "219/219 [==============================] - 0s 2ms/step - loss: 0.0541 - accuracy: 0.9789 - lr: 0.2239\n",
            "Epoch 69/100\n",
            "219/219 [==============================] - 0s 2ms/step - loss: 0.0839 - accuracy: 0.9694 - lr: 0.2512\n",
            "Epoch 70/100\n",
            "219/219 [==============================] - 0s 2ms/step - loss: 0.0583 - accuracy: 0.9767 - lr: 0.2818\n",
            "Epoch 71/100\n",
            "219/219 [==============================] - 0s 2ms/step - loss: 0.1416 - accuracy: 0.9534 - lr: 0.3162\n",
            "Epoch 72/100\n",
            "219/219 [==============================] - 0s 2ms/step - loss: 0.1082 - accuracy: 0.9640 - lr: 0.3548\n",
            "Epoch 73/100\n",
            "219/219 [==============================] - 0s 2ms/step - loss: 0.2591 - accuracy: 0.8897 - lr: 0.3981\n",
            "Epoch 74/100\n",
            "219/219 [==============================] - 0s 2ms/step - loss: 0.0971 - accuracy: 0.9657 - lr: 0.4467\n",
            "Epoch 75/100\n",
            "219/219 [==============================] - 0s 1ms/step - loss: 0.1589 - accuracy: 0.9447 - lr: 0.5012\n",
            "Epoch 76/100\n",
            "219/219 [==============================] - 0s 2ms/step - loss: 0.3061 - accuracy: 0.8837 - lr: 0.5623\n",
            "Epoch 77/100\n",
            "219/219 [==============================] - 0s 2ms/step - loss: 0.2425 - accuracy: 0.9109 - lr: 0.6310\n",
            "Epoch 78/100\n",
            "219/219 [==============================] - 0s 2ms/step - loss: 0.6400 - accuracy: 0.6451 - lr: 0.7079\n",
            "Epoch 79/100\n",
            "219/219 [==============================] - 0s 2ms/step - loss: 0.7116 - accuracy: 0.5004 - lr: 0.7943\n",
            "Epoch 80/100\n",
            "219/219 [==============================] - 0s 2ms/step - loss: 0.7049 - accuracy: 0.5081 - lr: 0.8913\n",
            "Epoch 81/100\n",
            "219/219 [==============================] - 0s 2ms/step - loss: 0.7113 - accuracy: 0.5087 - lr: 1.0000\n",
            "Epoch 82/100\n",
            "219/219 [==============================] - 0s 2ms/step - loss: 0.7157 - accuracy: 0.4981 - lr: 1.1220\n",
            "Epoch 83/100\n",
            "219/219 [==============================] - 0s 2ms/step - loss: 0.7121 - accuracy: 0.5047 - lr: 1.2589\n",
            "Epoch 84/100\n",
            "219/219 [==============================] - 0s 2ms/step - loss: 0.7249 - accuracy: 0.5019 - lr: 1.4125\n",
            "Epoch 85/100\n",
            "219/219 [==============================] - 0s 2ms/step - loss: 0.7259 - accuracy: 0.4996 - lr: 1.5849\n",
            "Epoch 86/100\n",
            "219/219 [==============================] - 0s 2ms/step - loss: 0.7333 - accuracy: 0.5030 - lr: 1.7783\n",
            "Epoch 87/100\n",
            "219/219 [==============================] - 0s 2ms/step - loss: 0.7169 - accuracy: 0.5056 - lr: 1.9953\n",
            "Epoch 88/100\n",
            "219/219 [==============================] - 0s 2ms/step - loss: 0.7273 - accuracy: 0.5036 - lr: 2.2387\n",
            "Epoch 89/100\n",
            "219/219 [==============================] - 0s 2ms/step - loss: 0.7458 - accuracy: 0.5019 - lr: 2.5119\n",
            "Epoch 90/100\n",
            "219/219 [==============================] - 0s 2ms/step - loss: 0.7527 - accuracy: 0.4953 - lr: 2.8184\n",
            "Epoch 91/100\n",
            "219/219 [==============================] - 0s 2ms/step - loss: 0.7312 - accuracy: 0.5013 - lr: 3.1623\n",
            "Epoch 92/100\n",
            "219/219 [==============================] - 0s 2ms/step - loss: 0.7153 - accuracy: 0.5070 - lr: 3.5481\n",
            "Epoch 93/100\n",
            "219/219 [==============================] - 0s 2ms/step - loss: 0.7506 - accuracy: 0.5024 - lr: 3.9811\n",
            "Epoch 94/100\n",
            "219/219 [==============================] - 0s 2ms/step - loss: 0.7577 - accuracy: 0.4953 - lr: 4.4668\n",
            "Epoch 95/100\n",
            "219/219 [==============================] - 0s 2ms/step - loss: 0.7804 - accuracy: 0.5016 - lr: 5.0119\n",
            "Epoch 96/100\n",
            "219/219 [==============================] - 0s 1ms/step - loss: 0.7579 - accuracy: 0.5141 - lr: 5.6234\n",
            "Epoch 97/100\n",
            "219/219 [==============================] - 0s 2ms/step - loss: 0.7838 - accuracy: 0.5013 - lr: 6.3096\n",
            "Epoch 98/100\n",
            "219/219 [==============================] - 0s 2ms/step - loss: 0.8133 - accuracy: 0.4904 - lr: 7.0795\n",
            "Epoch 99/100\n",
            "219/219 [==============================] - 0s 2ms/step - loss: 0.8147 - accuracy: 0.4999 - lr: 7.9433\n",
            "Epoch 100/100\n",
            "219/219 [==============================] - 0s 2ms/step - loss: 0.7958 - accuracy: 0.5064 - lr: 8.9125\n"
          ]
        }
      ]
    },
    {
      "cell_type": "code",
      "source": [
        "model_3.evaluate(X_test,y_test)"
      ],
      "metadata": {
        "colab": {
          "base_uri": "https://localhost:8080/"
        },
        "id": "nD1R-UjgGdIT",
        "outputId": "3c08f232-ad85-4171-e026-cf8b9daaa123"
      },
      "execution_count": 78,
      "outputs": [
        {
          "output_type": "stream",
          "name": "stdout",
          "text": [
            "94/94 [==============================] - 0s 1ms/step - loss: 1.0935 - accuracy: 0.4870\n"
          ]
        },
        {
          "output_type": "execute_result",
          "data": {
            "text/plain": [
              "[1.0934902429580688, 0.4869999885559082]"
            ]
          },
          "metadata": {},
          "execution_count": 78
        }
      ]
    },
    {
      "cell_type": "code",
      "source": [
        "pd.DataFrame(history_3.history).plot(figsize=(10,7), xlabel=\"epochs\")"
      ],
      "metadata": {
        "colab": {
          "base_uri": "https://localhost:8080/",
          "height": 462
        },
        "id": "dyBEWTbBGmY5",
        "outputId": "13c6cd42-05b0-4b9b-9726-368f5c2d2353"
      },
      "execution_count": 79,
      "outputs": [
        {
          "output_type": "execute_result",
          "data": {
            "text/plain": [
              "<matplotlib.axes._subplots.AxesSubplot at 0x7f6447159a50>"
            ]
          },
          "metadata": {},
          "execution_count": 79
        },
        {
          "output_type": "display_data",
          "data": {
            "text/plain": [
              "<Figure size 720x504 with 1 Axes>"
            ],
            "image/png": "[encoded data removed]"
          },
          "metadata": {
            "needs_background": "light"
          }
        }
      ]
    },
    {
      "cell_type": "markdown",
      "source": [
        "### Learning rate VS Loss"
      ],
      "metadata": {
        "id": "i3RQ8iSgGyqd"
      }
    },
    {
      "cell_type": "code",
      "source": [
        "lrs=  1e-4 *(10** (tf.range(100)/20))\n",
        "lrs"
      ],
      "metadata": {
        "colab": {
          "base_uri": "https://localhost:8080/"
        },
        "id": "ysAtrLtfUPIG",
        "outputId": "85b2a86c-67e6-416f-a39d-f83b2f5810a3"
      },
      "execution_count": 80,
      "outputs": [
        {
          "output_type": "execute_result",
          "data": {
            "text/plain": [
              "<tf.Tensor: shape=(100,), dtype=float64, numpy=\n",
              "array([1.00000000e-04, 1.12201845e-04, 1.25892541e-04, 1.41253754e-04,\n",
              "       1.58489319e-04, 1.77827941e-04, 1.99526231e-04, 2.23872114e-04,\n",
              "       2.51188643e-04, 2.81838293e-04, 3.16227766e-04, 3.54813389e-04,\n",
              "       3.98107171e-04, 4.46683592e-04, 5.01187234e-04, 5.62341325e-04,\n",
              "       6.30957344e-04, 7.07945784e-04, 7.94328235e-04, 8.91250938e-04,\n",
              "       1.00000000e-03, 1.12201845e-03, 1.25892541e-03, 1.41253754e-03,\n",
              "       1.58489319e-03, 1.77827941e-03, 1.99526231e-03, 2.23872114e-03,\n",
              "       2.51188643e-03, 2.81838293e-03, 3.16227766e-03, 3.54813389e-03,\n",
              "       3.98107171e-03, 4.46683592e-03, 5.01187234e-03, 5.62341325e-03,\n",
              "       6.30957344e-03, 7.07945784e-03, 7.94328235e-03, 8.91250938e-03,\n",
              "       1.00000000e-02, 1.12201845e-02, 1.25892541e-02, 1.41253754e-02,\n",
              "       1.58489319e-02, 1.77827941e-02, 1.99526231e-02, 2.23872114e-02,\n",
              "       2.51188643e-02, 2.81838293e-02, 3.16227766e-02, 3.54813389e-02,\n",
              "       3.98107171e-02, 4.46683592e-02, 5.01187234e-02, 5.62341325e-02,\n",
              "       6.30957344e-02, 7.07945784e-02, 7.94328235e-02, 8.91250938e-02,\n",
              "       1.00000000e-01, 1.12201845e-01, 1.25892541e-01, 1.41253754e-01,\n",
              "       1.58489319e-01, 1.77827941e-01, 1.99526231e-01, 2.23872114e-01,\n",
              "       2.51188643e-01, 2.81838293e-01, 3.16227766e-01, 3.54813389e-01,\n",
              "       3.98107171e-01, 4.46683592e-01, 5.01187234e-01, 5.62341325e-01,\n",
              "       6.30957344e-01, 7.07945784e-01, 7.94328235e-01, 8.91250938e-01,\n",
              "       1.00000000e+00, 1.12201845e+00, 1.25892541e+00, 1.41253754e+00,\n",
              "       1.58489319e+00, 1.77827941e+00, 1.99526231e+00, 2.23872114e+00,\n",
              "       2.51188643e+00, 2.81838293e+00, 3.16227766e+00, 3.54813389e+00,\n",
              "       3.98107171e+00, 4.46683592e+00, 5.01187234e+00, 5.62341325e+00,\n",
              "       6.30957344e+00, 7.07945784e+00, 7.94328235e+00, 8.91250938e+00])>"
            ]
          },
          "metadata": {},
          "execution_count": 80
        }
      ]
    },
    {
      "cell_type": "code",
      "source": [
        "len(lrs)"
      ],
      "metadata": {
        "colab": {
          "base_uri": "https://localhost:8080/"
        },
        "id": "GEOloDzvUUTB",
        "outputId": "65b6902d-ec40-4db2-801a-83b33459d79f"
      },
      "execution_count": 81,
      "outputs": [
        {
          "output_type": "execute_result",
          "data": {
            "text/plain": [
              "100"
            ]
          },
          "metadata": {},
          "execution_count": 81
        }
      ]
    },
    {
      "cell_type": "code",
      "source": [
        "plt.figure(figsize=(10,7))\n",
        "plt.semilogx(lrs, history_3.history[\"loss\"])\n",
        "plt.xlabel(\"Learning rate\")\n",
        "plt.ylabel(\"Loss\")\n",
        "plt.title(\"Learning rate VS Loss\")"
      ],
      "metadata": {
        "colab": {
          "base_uri": "https://localhost:8080/",
          "height": 482
        },
        "id": "cNMNKDD4UWaE",
        "outputId": "90b13d06-a88f-477d-fadb-34fc199cfb40"
      },
      "execution_count": 82,
      "outputs": [
        {
          "output_type": "execute_result",
          "data": {
            "text/plain": [
              "Text(0.5, 1.0, 'Learning rate VS Loss')"
            ]
          },
          "metadata": {},
          "execution_count": 82
        },
        {
          "output_type": "display_data",
          "data": {
            "text/plain": [
              "<Figure size 720x504 with 1 Axes>"
            ],
            "image/png": "[encoded data removed]"
          },
          "metadata": {
            "needs_background": "light"
          }
        }
      ]
    },
    {
      "cell_type": "markdown",
      "source": [
        "### Examples of some usual learning rate"
      ],
      "metadata": {
        "id": "hWTFYY3JUvBS"
      }
    },
    {
      "cell_type": "code",
      "source": [
        "10**0, 10**-1, 10**-2,10**-3,10**-4, 1e-4 "
      ],
      "metadata": {
        "colab": {
          "base_uri": "https://localhost:8080/"
        },
        "id": "2quv79cPVtbu",
        "outputId": "300d0ced-cc17-4d22-b123-a8fbd57558e4"
      },
      "execution_count": 83,
      "outputs": [
        {
          "output_type": "execute_result",
          "data": {
            "text/plain": [
              "(1, 0.1, 0.01, 0.001, 0.0001, 0.0001)"
            ]
          },
          "metadata": {},
          "execution_count": 83
        }
      ]
    },
    {
      "cell_type": "code",
      "source": [
        "tf.random.set_seed(42)\n",
        "\n",
        "model_4=tf.keras.Sequential([\n",
        "            tf.keras.layers.Dense(4, activation=\"relu\"),\n",
        "            tf.keras.layers.Dense(4, activation=\"relu\"),\n",
        "            tf.keras.layers.Dense(1, activation=\"sigmoid\"),\n",
        "])\n",
        "\n",
        "model_4.compile(loss=\"binary_crossentropy\", optimizer=tf.keras.optimizers.Adam(learning_rate=0.05), metrics=[\"accuracy\"])\n",
        "\n",
        "history_4=model_4.fit(X_train,y_train, epochs=25)"
      ],
      "metadata": {
        "id": "CLwy47x2V10H",
        "colab": {
          "base_uri": "https://localhost:8080/"
        },
        "outputId": "6f1c7e1c-b674-4587-f781-683378c33cde"
      },
      "execution_count": 84,
      "outputs": [
        {
          "output_type": "stream",
          "name": "stdout",
          "text": [
            "Epoch 1/25\n",
            "219/219 [==============================] - 1s 2ms/step - loss: 0.3861 - accuracy: 0.8141\n",
            "Epoch 2/25\n",
            "219/219 [==============================] - 0s 2ms/step - loss: 0.0668 - accuracy: 0.9790\n",
            "Epoch 3/25\n",
            "219/219 [==============================] - 0s 2ms/step - loss: 0.0459 - accuracy: 0.9859\n",
            "Epoch 4/25\n",
            "219/219 [==============================] - 0s 2ms/step - loss: 0.0461 - accuracy: 0.9821\n",
            "Epoch 5/25\n",
            "219/219 [==============================] - 0s 2ms/step - loss: 0.0520 - accuracy: 0.9809\n",
            "Epoch 6/25\n",
            "219/219 [==============================] - 0s 2ms/step - loss: 0.0299 - accuracy: 0.9890\n",
            "Epoch 7/25\n",
            "219/219 [==============================] - 0s 2ms/step - loss: 0.0403 - accuracy: 0.9847\n",
            "Epoch 8/25\n",
            "219/219 [==============================] - 0s 2ms/step - loss: 0.0342 - accuracy: 0.9876\n",
            "Epoch 9/25\n",
            "219/219 [==============================] - 0s 2ms/step - loss: 0.0301 - accuracy: 0.9899\n",
            "Epoch 10/25\n",
            "219/219 [==============================] - 0s 2ms/step - loss: 0.0409 - accuracy: 0.9866\n",
            "Epoch 11/25\n",
            "219/219 [==============================] - 0s 2ms/step - loss: 0.0321 - accuracy: 0.9894\n",
            "Epoch 12/25\n",
            "219/219 [==============================] - 0s 2ms/step - loss: 0.0355 - accuracy: 0.9869\n",
            "Epoch 13/25\n",
            "219/219 [==============================] - 0s 2ms/step - loss: 0.0270 - accuracy: 0.9901\n",
            "Epoch 14/25\n",
            "219/219 [==============================] - 0s 2ms/step - loss: 0.0276 - accuracy: 0.9897\n",
            "Epoch 15/25\n",
            "219/219 [==============================] - 0s 1ms/step - loss: 0.0285 - accuracy: 0.9881\n",
            "Epoch 16/25\n",
            "219/219 [==============================] - 0s 2ms/step - loss: 0.0226 - accuracy: 0.9917\n",
            "Epoch 17/25\n",
            "219/219 [==============================] - 0s 2ms/step - loss: 0.0214 - accuracy: 0.9914\n",
            "Epoch 18/25\n",
            "219/219 [==============================] - 0s 1ms/step - loss: 0.0400 - accuracy: 0.9856\n",
            "Epoch 19/25\n",
            "219/219 [==============================] - 0s 2ms/step - loss: 0.0267 - accuracy: 0.9891\n",
            "Epoch 20/25\n",
            "219/219 [==============================] - 0s 2ms/step - loss: 0.0313 - accuracy: 0.9873\n",
            "Epoch 21/25\n",
            "219/219 [==============================] - 0s 2ms/step - loss: 0.0239 - accuracy: 0.9914\n",
            "Epoch 22/25\n",
            "219/219 [==============================] - 0s 2ms/step - loss: 0.0283 - accuracy: 0.9896\n",
            "Epoch 23/25\n",
            "219/219 [==============================] - 0s 2ms/step - loss: 0.0270 - accuracy: 0.9907\n",
            "Epoch 24/25\n",
            "219/219 [==============================] - 0s 2ms/step - loss: 0.0304 - accuracy: 0.9874\n",
            "Epoch 25/25\n",
            "219/219 [==============================] - 0s 2ms/step - loss: 0.0365 - accuracy: 0.9874\n"
          ]
        }
      ]
    },
    {
      "cell_type": "code",
      "source": [
        "model_4.evaluate(X_test,y_test)"
      ],
      "metadata": {
        "colab": {
          "base_uri": "https://localhost:8080/"
        },
        "id": "Wrauu1nnpqGt",
        "outputId": "dfbb322b-cee2-472b-c0aa-df70434b1ce7"
      },
      "execution_count": 85,
      "outputs": [
        {
          "output_type": "stream",
          "name": "stdout",
          "text": [
            "94/94 [==============================] - 0s 2ms/step - loss: 0.0724 - accuracy: 0.9733\n"
          ]
        },
        {
          "output_type": "execute_result",
          "data": {
            "text/plain": [
              "[0.07235588133335114, 0.9733333587646484]"
            ]
          },
          "metadata": {},
          "execution_count": 85
        }
      ]
    },
    {
      "cell_type": "markdown",
      "source": [
        "### Confusion Matrix"
      ],
      "metadata": {
        "id": "0m354XPcpt1p"
      }
    },
    {
      "cell_type": "code",
      "source": [
        "y_preds= model_4.predict(X_test)\n",
        "y_preds"
      ],
      "metadata": {
        "colab": {
          "base_uri": "https://localhost:8080/"
        },
        "id": "goEfbIln7az-",
        "outputId": "aae46e8a-68f2-4dca-b0df-c4dbefd6d6f8"
      },
      "execution_count": 86,
      "outputs": [
        {
          "output_type": "execute_result",
          "data": {
            "text/plain": [
              "array([[9.9988073e-01],\n",
              "       [9.9988073e-01],\n",
              "       [1.4587890e-07],\n",
              "       ...,\n",
              "       [8.4691346e-03],\n",
              "       [9.9987620e-01],\n",
              "       [9.9988073e-01]], dtype=float32)"
            ]
          },
          "metadata": {},
          "execution_count": 86
        }
      ]
    },
    {
      "cell_type": "markdown",
      "source": [
        "#### Probability Predictions\n",
        "\n",
        "> Looks like the *y_preds* are in the form of *prediction_probability*, we need to change it in the shape of *y_test*. THis is the standard output from the *sigmoid* or *softmax* activation function."
      ],
      "metadata": {
        "id": "GgxZqAlh89qQ"
      }
    },
    {
      "cell_type": "code",
      "source": [
        "y_preds_standard= np.round(y_preds)\n",
        "y_preds_standard[:5]"
      ],
      "metadata": {
        "colab": {
          "base_uri": "https://localhost:8080/"
        },
        "id": "i9_L1kX19qig",
        "outputId": "fa86f1aa-c99d-44f4-d0ee-efb07e4dcb81"
      },
      "execution_count": 87,
      "outputs": [
        {
          "output_type": "execute_result",
          "data": {
            "text/plain": [
              "array([[1.],\n",
              "       [1.],\n",
              "       [0.],\n",
              "       [1.],\n",
              "       [0.]], dtype=float32)"
            ]
          },
          "metadata": {},
          "execution_count": 87
        }
      ]
    },
    {
      "cell_type": "code",
      "source": [
        "y_preds_tf= tf.round(y_preds)\n",
        "y_preds_tf[:5]"
      ],
      "metadata": {
        "colab": {
          "base_uri": "https://localhost:8080/"
        },
        "id": "apjFpBAk951j",
        "outputId": "af10cbca-b628-4e96-faa3-481074fec274"
      },
      "execution_count": 88,
      "outputs": [
        {
          "output_type": "execute_result",
          "data": {
            "text/plain": [
              "<tf.Tensor: shape=(5, 1), dtype=float32, numpy=\n",
              "array([[1.],\n",
              "       [1.],\n",
              "       [0.],\n",
              "       [1.],\n",
              "       [0.]], dtype=float32)>"
            ]
          },
          "metadata": {},
          "execution_count": 88
        }
      ]
    },
    {
      "cell_type": "code",
      "source": [
        "y_test.shape, y_preds.shape,y_preds_tf.shape"
      ],
      "metadata": {
        "colab": {
          "base_uri": "https://localhost:8080/"
        },
        "id": "StnhSsgI7tEE",
        "outputId": "04a76507-0abf-4f5c-fd58-5b801ffad255"
      },
      "execution_count": 89,
      "outputs": [
        {
          "output_type": "execute_result",
          "data": {
            "text/plain": [
              "((3000,), (3000, 1), TensorShape([3000, 1]))"
            ]
          },
          "metadata": {},
          "execution_count": 89
        }
      ]
    },
    {
      "cell_type": "code",
      "source": [
        "y_test[:5]"
      ],
      "metadata": {
        "colab": {
          "base_uri": "https://localhost:8080/"
        },
        "id": "glSepD6Y8AFs",
        "outputId": "751ba853-147b-4986-9bda-39809d43b32e"
      },
      "execution_count": 90,
      "outputs": [
        {
          "output_type": "execute_result",
          "data": {
            "text/plain": [
              "array([1, 1, 0, 1, 0])"
            ]
          },
          "metadata": {},
          "execution_count": 90
        }
      ]
    },
    {
      "cell_type": "code",
      "source": [
        "from sklearn.metrics import confusion_matrix\n",
        "\n",
        "cm= confusion_matrix(y_test, y_preds_tf)\n",
        "cm"
      ],
      "metadata": {
        "colab": {
          "base_uri": "https://localhost:8080/"
        },
        "id": "uz2S-aZd7Ece",
        "outputId": "ea212b23-6178-432f-ce80-4ffbf1bc523a"
      },
      "execution_count": 91,
      "outputs": [
        {
          "output_type": "execute_result",
          "data": {
            "text/plain": [
              "array([[1467,   72],\n",
              "       [   8, 1453]])"
            ]
          },
          "metadata": {},
          "execution_count": 91
        }
      ]
    },
    {
      "cell_type": "markdown",
      "source": [
        "### Using Seaborn Library"
      ],
      "metadata": {
        "id": "ypsF63mM7kBY"
      }
    },
    {
      "cell_type": "code",
      "source": [
        "import seaborn as sns\n",
        "sns.heatmap(cm, annot=True, fmt=\"d\", cmap=\"YlGnBu\")"
      ],
      "metadata": {
        "colab": {
          "base_uri": "https://localhost:8080/",
          "height": 285
        },
        "id": "3XGWUc_L-9Qf",
        "outputId": "cbf782d5-9c8b-4242-8100-441ca0c80eb8"
      },
      "execution_count": 92,
      "outputs": [
        {
          "output_type": "execute_result",
          "data": {
            "text/plain": [
              "<matplotlib.axes._subplots.AxesSubplot at 0x7f644708c750>"
            ]
          },
          "metadata": {},
          "execution_count": 92
        },
        {
          "output_type": "display_data",
          "data": {
            "text/plain": [
              "<Figure size 432x288 with 2 Axes>"
            ],
            "image/png": "[encoded data removed]"
          },
          "metadata": {
            "needs_background": "light"
          }
        }
      ]
    },
    {
      "cell_type": "code",
      "source": [
        "sns.heatmap(cm, annot=True, cmap=\"YlGnBu\")"
      ],
      "metadata": {
        "colab": {
          "base_uri": "https://localhost:8080/",
          "height": 285
        },
        "id": "RHNSwFrk-_zg",
        "outputId": "4c90b75f-0c95-4038-ae2b-58d505517a7c"
      },
      "execution_count": 93,
      "outputs": [
        {
          "output_type": "execute_result",
          "data": {
            "text/plain": [
              "<matplotlib.axes._subplots.AxesSubplot at 0x7f644700e910>"
            ]
          },
          "metadata": {},
          "execution_count": 93
        },
        {
          "output_type": "display_data",
          "data": {
            "text/plain": [
              "<Figure size 432x288 with 2 Axes>"
            ],
            "image/png": "[encoded data removed]"
          },
          "metadata": {
            "needs_background": "light"
          }
        }
      ]
    },
    {
      "cell_type": "markdown",
      "source": [
        "## Multi-class Classification\n",
        "\n",
        "> When there are more than two classes."
      ],
      "metadata": {
        "id": "Buy3TCJH_g1O"
      }
    },
    {
      "cell_type": "code",
      "source": [
        "import tensorflow as tf\n",
        "from tensorflow.keras.datasets import fashion_mnist\n",
        "\n",
        "import PIL\n",
        "import PIL.Image\n",
        "\n",
        "import matplotlib.pyplot as plt"
      ],
      "metadata": {
        "id": "rSjMB7JKaIKF"
      },
      "execution_count": 94,
      "outputs": []
    },
    {
      "cell_type": "markdown",
      "source": [
        "### Getting data ready"
      ],
      "metadata": {
        "id": "r1DRSWB0Y3Am"
      }
    },
    {
      "cell_type": "code",
      "source": [
        "(X_train,y_train), (X_test,y_test)=fashion_mnist.load_data()"
      ],
      "metadata": {
        "id": "thPbt-JTZxPr"
      },
      "execution_count": 138,
      "outputs": []
    },
    {
      "cell_type": "code",
      "source": [
        "X_train.shape,X_test.shape, y_train.shape,y_test.shape"
      ],
      "metadata": {
        "colab": {
          "base_uri": "https://localhost:8080/"
        },
        "id": "dhIG3pGiaZvW",
        "outputId": "3da3b537-0391-4877-acb0-5c11815c4df8"
      },
      "execution_count": 142,
      "outputs": [
        {
          "output_type": "execute_result",
          "data": {
            "text/plain": [
              "((60000, 28, 28), (10000, 28, 28), (60000,), (10000,))"
            ]
          },
          "metadata": {},
          "execution_count": 142
        }
      ]
    },
    {
      "cell_type": "code",
      "source": [
        "X_train[0]"
      ],
      "metadata": {
        "colab": {
          "base_uri": "https://localhost:8080/"
        },
        "id": "GmwZzZAlahfi",
        "outputId": "1ba28786-62ac-42b3-e87e-6a376ec7ab46"
      },
      "execution_count": 143,
      "outputs": [
        {
          "output_type": "execute_result",
          "data": {
            "text/plain": [
              "array([[  0,   0,   0,   0,   0,   0,   0,   0,   0,   0,   0,   0,   0,\n",
              "          0,   0,   0,   0,   0,   0,   0,   0,   0,   0,   0,   0,   0,\n",
              "          0,   0],\n",
              "       [  0,   0,   0,   0,   0,   0,   0,   0,   0,   0,   0,   0,   0,\n",
              "          0,   0,   0,   0,   0,   0,   0,   0,   0,   0,   0,   0,   0,\n",
              "          0,   0],\n",
              "       [  0,   0,   0,   0,   0,   0,   0,   0,   0,   0,   0,   0,   0,\n",
              "          0,   0,   0,   0,   0,   0,   0,   0,   0,   0,   0,   0,   0,\n",
              "          0,   0],\n",
              "       [  0,   0,   0,   0,   0,   0,   0,   0,   0,   0,   0,   0,   1,\n",
              "          0,   0,  13,  73,   0,   0,   1,   4,   0,   0,   0,   0,   1,\n",
              "          1,   0],\n",
              "       [  0,   0,   0,   0,   0,   0,   0,   0,   0,   0,   0,   0,   3,\n",
              "          0,  36, 136, 127,  62,  54,   0,   0,   0,   1,   3,   4,   0,\n",
              "          0,   3],\n",
              "       [  0,   0,   0,   0,   0,   0,   0,   0,   0,   0,   0,   0,   6,\n",
              "          0, 102, 204, 176, 134, 144, 123,  23,   0,   0,   0,   0,  12,\n",
              "         10,   0],\n",
              "       [  0,   0,   0,   0,   0,   0,   0,   0,   0,   0,   0,   0,   0,\n",
              "          0, 155, 236, 207, 178, 107, 156, 161, 109,  64,  23,  77, 130,\n",
              "         72,  15],\n",
              "       [  0,   0,   0,   0,   0,   0,   0,   0,   0,   0,   0,   1,   0,\n",
              "         69, 207, 223, 218, 216, 216, 163, 127, 121, 122, 146, 141,  88,\n",
              "        172,  66],\n",
              "       [  0,   0,   0,   0,   0,   0,   0,   0,   0,   1,   1,   1,   0,\n",
              "        200, 232, 232, 233, 229, 223, 223, 215, 213, 164, 127, 123, 196,\n",
              "        229,   0],\n",
              "       [  0,   0,   0,   0,   0,   0,   0,   0,   0,   0,   0,   0,   0,\n",
              "        183, 225, 216, 223, 228, 235, 227, 224, 222, 224, 221, 223, 245,\n",
              "        173,   0],\n",
              "       [  0,   0,   0,   0,   0,   0,   0,   0,   0,   0,   0,   0,   0,\n",
              "        193, 228, 218, 213, 198, 180, 212, 210, 211, 213, 223, 220, 243,\n",
              "        202,   0],\n",
              "       [  0,   0,   0,   0,   0,   0,   0,   0,   0,   1,   3,   0,  12,\n",
              "        219, 220, 212, 218, 192, 169, 227, 208, 218, 224, 212, 226, 197,\n",
              "        209,  52],\n",
              "       [  0,   0,   0,   0,   0,   0,   0,   0,   0,   0,   6,   0,  99,\n",
              "        244, 222, 220, 218, 203, 198, 221, 215, 213, 222, 220, 245, 119,\n",
              "        167,  56],\n",
              "       [  0,   0,   0,   0,   0,   0,   0,   0,   0,   4,   0,   0,  55,\n",
              "        236, 228, 230, 228, 240, 232, 213, 218, 223, 234, 217, 217, 209,\n",
              "         92,   0],\n",
              "       [  0,   0,   1,   4,   6,   7,   2,   0,   0,   0,   0,   0, 237,\n",
              "        226, 217, 223, 222, 219, 222, 221, 216, 223, 229, 215, 218, 255,\n",
              "         77,   0],\n",
              "       [  0,   3,   0,   0,   0,   0,   0,   0,   0,  62, 145, 204, 228,\n",
              "        207, 213, 221, 218, 208, 211, 218, 224, 223, 219, 215, 224, 244,\n",
              "        159,   0],\n",
              "       [  0,   0,   0,   0,  18,  44,  82, 107, 189, 228, 220, 222, 217,\n",
              "        226, 200, 205, 211, 230, 224, 234, 176, 188, 250, 248, 233, 238,\n",
              "        215,   0],\n",
              "       [  0,  57, 187, 208, 224, 221, 224, 208, 204, 214, 208, 209, 200,\n",
              "        159, 245, 193, 206, 223, 255, 255, 221, 234, 221, 211, 220, 232,\n",
              "        246,   0],\n",
              "       [  3, 202, 228, 224, 221, 211, 211, 214, 205, 205, 205, 220, 240,\n",
              "         80, 150, 255, 229, 221, 188, 154, 191, 210, 204, 209, 222, 228,\n",
              "        225,   0],\n",
              "       [ 98, 233, 198, 210, 222, 229, 229, 234, 249, 220, 194, 215, 217,\n",
              "        241,  65,  73, 106, 117, 168, 219, 221, 215, 217, 223, 223, 224,\n",
              "        229,  29],\n",
              "       [ 75, 204, 212, 204, 193, 205, 211, 225, 216, 185, 197, 206, 198,\n",
              "        213, 240, 195, 227, 245, 239, 223, 218, 212, 209, 222, 220, 221,\n",
              "        230,  67],\n",
              "       [ 48, 203, 183, 194, 213, 197, 185, 190, 194, 192, 202, 214, 219,\n",
              "        221, 220, 236, 225, 216, 199, 206, 186, 181, 177, 172, 181, 205,\n",
              "        206, 115],\n",
              "       [  0, 122, 219, 193, 179, 171, 183, 196, 204, 210, 213, 207, 211,\n",
              "        210, 200, 196, 194, 191, 195, 191, 198, 192, 176, 156, 167, 177,\n",
              "        210,  92],\n",
              "       [  0,   0,  74, 189, 212, 191, 175, 172, 175, 181, 185, 188, 189,\n",
              "        188, 193, 198, 204, 209, 210, 210, 211, 188, 188, 194, 192, 216,\n",
              "        170,   0],\n",
              "       [  2,   0,   0,   0,  66, 200, 222, 237, 239, 242, 246, 243, 244,\n",
              "        221, 220, 193, 191, 179, 182, 182, 181, 176, 166, 168,  99,  58,\n",
              "          0,   0],\n",
              "       [  0,   0,   0,   0,   0,   0,   0,  40,  61,  44,  72,  41,  35,\n",
              "          0,   0,   0,   0,   0,   0,   0,   0,   0,   0,   0,   0,   0,\n",
              "          0,   0],\n",
              "       [  0,   0,   0,   0,   0,   0,   0,   0,   0,   0,   0,   0,   0,\n",
              "          0,   0,   0,   0,   0,   0,   0,   0,   0,   0,   0,   0,   0,\n",
              "          0,   0],\n",
              "       [  0,   0,   0,   0,   0,   0,   0,   0,   0,   0,   0,   0,   0,\n",
              "          0,   0,   0,   0,   0,   0,   0,   0,   0,   0,   0,   0,   0,\n",
              "          0,   0]], dtype=uint8)"
            ]
          },
          "metadata": {},
          "execution_count": 143
        }
      ]
    },
    {
      "cell_type": "code",
      "source": [
        "X_train[0].shape"
      ],
      "metadata": {
        "colab": {
          "base_uri": "https://localhost:8080/"
        },
        "id": "22y1AEg4ajtt",
        "outputId": "62b4fee8-b04b-460d-b77d-270239afdb63"
      },
      "execution_count": 144,
      "outputs": [
        {
          "output_type": "execute_result",
          "data": {
            "text/plain": [
              "(28, 28)"
            ]
          },
          "metadata": {},
          "execution_count": 144
        }
      ]
    },
    {
      "cell_type": "code",
      "source": [
        "X_test[0]"
      ],
      "metadata": {
        "colab": {
          "base_uri": "https://localhost:8080/"
        },
        "id": "35bv_OpPanWX",
        "outputId": "adccca6d-98c3-4fc1-b630-81c8dfe0ffa2"
      },
      "execution_count": 145,
      "outputs": [
        {
          "output_type": "execute_result",
          "data": {
            "text/plain": [
              "array([[  0,   0,   0,   0,   0,   0,   0,   0,   0,   0,   0,   0,   0,\n",
              "          0,   0,   0,   0,   0,   0,   0,   0,   0,   0,   0,   0,   0,\n",
              "          0,   0],\n",
              "       [  0,   0,   0,   0,   0,   0,   0,   0,   0,   0,   0,   0,   0,\n",
              "          0,   0,   0,   0,   0,   0,   0,   0,   0,   0,   0,   0,   0,\n",
              "          0,   0],\n",
              "       [  0,   0,   0,   0,   0,   0,   0,   0,   0,   0,   0,   0,   0,\n",
              "          0,   0,   0,   0,   0,   0,   0,   0,   0,   0,   0,   0,   0,\n",
              "          0,   0],\n",
              "       [  0,   0,   0,   0,   0,   0,   0,   0,   0,   0,   0,   0,   0,\n",
              "          0,   0,   0,   0,   0,   0,   0,   0,   0,   0,   0,   0,   0,\n",
              "          0,   0],\n",
              "       [  0,   0,   0,   0,   0,   0,   0,   0,   0,   0,   0,   0,   0,\n",
              "          0,   0,   0,   0,   0,   0,   0,   0,   0,   0,   0,   0,   0,\n",
              "          0,   0],\n",
              "       [  0,   0,   0,   0,   0,   0,   0,   0,   0,   0,   0,   0,   0,\n",
              "          0,   0,   0,   0,   0,   0,   0,   0,   0,   0,   0,   0,   0,\n",
              "          0,   0],\n",
              "       [  0,   0,   0,   0,   0,   0,   0,   0,   0,   0,   0,   0,   0,\n",
              "          0,   0,   0,   0,   0,   0,   0,   0,   0,   0,   0,   0,   0,\n",
              "          0,   0],\n",
              "       [  0,   0,   0,   0,   0,   0,   0,   0,   0,   0,   0,   0,   0,\n",
              "          0,   0,   0,   0,   0,   0,   3,   1,   0,   0,   7,   0,  37,\n",
              "          0,   0],\n",
              "       [  0,   0,   0,   0,   0,   0,   0,   0,   0,   0,   0,   0,   0,\n",
              "          1,   2,   0,  27,  84,  11,   0,   0,   0,   0,   0,   0, 119,\n",
              "          0,   0],\n",
              "       [  0,   0,   0,   0,   0,   0,   0,   0,   0,   0,   0,   0,   0,\n",
              "          1,   0,   0,  88, 143, 110,   0,   0,   0,   0,  22,  93, 106,\n",
              "          0,   0],\n",
              "       [  0,   0,   0,   0,   0,   0,   0,   0,   0,   0,   0,   0,   0,\n",
              "          4,   0,  53, 129, 120, 147, 175, 157, 166, 135, 154, 168, 140,\n",
              "          0,   0],\n",
              "       [  0,   0,   0,   0,   0,   0,   0,   0,   0,   0,   0,   0,   2,\n",
              "          0,  11, 137, 130, 128, 160, 176, 159, 167, 178, 149, 151, 144,\n",
              "          0,   0],\n",
              "       [  0,   0,   0,   0,   0,   0,   1,   0,   2,   1,   0,   3,   0,\n",
              "          0, 115, 114, 106, 137, 168, 153, 156, 165, 167, 143, 157, 158,\n",
              "         11,   0],\n",
              "       [  0,   0,   0,   0,   1,   0,   0,   0,   0,   0,   3,   0,   0,\n",
              "         89, 139,  90,  94, 153, 149, 131, 151, 169, 172, 143, 159, 169,\n",
              "         48,   0],\n",
              "       [  0,   0,   0,   0,   0,   0,   2,   4,   1,   0,   0,   0,  98,\n",
              "        136, 110, 109, 110, 162, 135, 144, 149, 159, 167, 144, 158, 169,\n",
              "        119,   0],\n",
              "       [  0,   0,   2,   2,   1,   2,   0,   0,   0,   0,  26, 108, 117,\n",
              "         99, 111, 117, 136, 156, 134, 154, 154, 156, 160, 141, 147, 156,\n",
              "        178,   0],\n",
              "       [  3,   0,   0,   0,   0,   0,   0,  21,  53,  92, 117, 111, 103,\n",
              "        115, 129, 134, 143, 154, 165, 170, 154, 151, 154, 143, 138, 150,\n",
              "        165,  43],\n",
              "       [  0,   0,  23,  54,  65,  76,  85, 118, 128, 123, 111, 113, 118,\n",
              "        127, 125, 139, 133, 136, 160, 140, 155, 161, 144, 155, 172, 161,\n",
              "        189,  62],\n",
              "       [  0,  68,  94,  90, 111, 114, 111, 114, 115, 127, 135, 136, 143,\n",
              "        126, 127, 151, 154, 143, 148, 125, 162, 162, 144, 138, 153, 162,\n",
              "        196,  58],\n",
              "       [ 70, 169, 129, 104,  98, 100,  94,  97,  98, 102, 108, 106, 119,\n",
              "        120, 129, 149, 156, 167, 190, 190, 196, 198, 198, 187, 197, 189,\n",
              "        184,  36],\n",
              "       [ 16, 126, 171, 188, 188, 184, 171, 153, 135, 120, 126, 127, 146,\n",
              "        185, 195, 209, 208, 255, 209, 177, 245, 252, 251, 251, 247, 220,\n",
              "        206,  49],\n",
              "       [  0,   0,   0,  12,  67, 106, 164, 185, 199, 210, 211, 210, 208,\n",
              "        190, 150,  82,   8,   0,   0,   0, 178, 208, 188, 175, 162, 158,\n",
              "        151,  11],\n",
              "       [  0,   0,   0,   0,   0,   0,   0,   0,   0,   0,   0,   0,   0,\n",
              "          0,   0,   0,   0,   0,   0,   0,   0,   0,   0,   0,   0,   0,\n",
              "          0,   0],\n",
              "       [  0,   0,   0,   0,   0,   0,   0,   0,   0,   0,   0,   0,   0,\n",
              "          0,   0,   0,   0,   0,   0,   0,   0,   0,   0,   0,   0,   0,\n",
              "          0,   0],\n",
              "       [  0,   0,   0,   0,   0,   0,   0,   0,   0,   0,   0,   0,   0,\n",
              "          0,   0,   0,   0,   0,   0,   0,   0,   0,   0,   0,   0,   0,\n",
              "          0,   0],\n",
              "       [  0,   0,   0,   0,   0,   0,   0,   0,   0,   0,   0,   0,   0,\n",
              "          0,   0,   0,   0,   0,   0,   0,   0,   0,   0,   0,   0,   0,\n",
              "          0,   0],\n",
              "       [  0,   0,   0,   0,   0,   0,   0,   0,   0,   0,   0,   0,   0,\n",
              "          0,   0,   0,   0,   0,   0,   0,   0,   0,   0,   0,   0,   0,\n",
              "          0,   0],\n",
              "       [  0,   0,   0,   0,   0,   0,   0,   0,   0,   0,   0,   0,   0,\n",
              "          0,   0,   0,   0,   0,   0,   0,   0,   0,   0,   0,   0,   0,\n",
              "          0,   0]], dtype=uint8)"
            ]
          },
          "metadata": {},
          "execution_count": 145
        }
      ]
    },
    {
      "cell_type": "markdown",
      "source": [
        "#### Visualizing an image"
      ],
      "metadata": {
        "id": "jDqfL76Da2jW"
      }
    },
    {
      "cell_type": "code",
      "source": [
        "plt.imshow(X_train[0])"
      ],
      "metadata": {
        "colab": {
          "base_uri": "https://localhost:8080/",
          "height": 285
        },
        "id": "bLURqNIRbbfN",
        "outputId": "17fb4f21-cc5b-45fb-cc46-644fbcf134bc"
      },
      "execution_count": 146,
      "outputs": [
        {
          "output_type": "execute_result",
          "data": {
            "text/plain": [
              "<matplotlib.image.AxesImage at 0x7f644741d290>"
            ]
          },
          "metadata": {},
          "execution_count": 146
        },
        {
          "output_type": "display_data",
          "data": {
            "text/plain": [
              "<Figure size 432x288 with 1 Axes>"
            ],
            "image/png": "[encoded data removed]"
          },
          "metadata": {
            "needs_background": "light"
          }
        }
      ]
    },
    {
      "cell_type": "code",
      "source": [
        "plt.imshow(X_train[69])"
      ],
      "metadata": {
        "colab": {
          "base_uri": "https://localhost:8080/",
          "height": 285
        },
        "id": "oQFE8PaxbsVR",
        "outputId": "f88a033e-bc75-4716-97a4-ecb3fd094061"
      },
      "execution_count": 147,
      "outputs": [
        {
          "output_type": "execute_result",
          "data": {
            "text/plain": [
              "<matplotlib.image.AxesImage at 0x7f6447373250>"
            ]
          },
          "metadata": {},
          "execution_count": 147
        },
        {
          "output_type": "display_data",
          "data": {
            "text/plain": [
              "<Figure size 432x288 with 1 Axes>"
            ],
            "image/png": "[encoded data removed]"
          },
          "metadata": {
            "needs_background": "light"
          }
        }
      ]
    },
    {
      "cell_type": "code",
      "source": [
        "X_test[69]"
      ],
      "metadata": {
        "colab": {
          "base_uri": "https://localhost:8080/"
        },
        "id": "BGU8x2khcF_Q",
        "outputId": "b91eedc6-13b8-45bc-86df-4366a34decaa"
      },
      "execution_count": 148,
      "outputs": [
        {
          "output_type": "execute_result",
          "data": {
            "text/plain": [
              "array([[  0,   0,   0,   0,   0,   0,   0,   0,   0,   0,   0,   0,   0,\n",
              "          0,   0,   0,   0,   0,   0,   0,   0,   0,   0,   0,   0,   0,\n",
              "          0,   0],\n",
              "       [  0,   0,   0,   0,   0,   0,   0,   0,   0,   0,   3,   0,  54,\n",
              "        162, 186, 189, 138,   0,   0,   4,   0,   0,   0,   0,   0,   0,\n",
              "          0,   0],\n",
              "       [  0,   0,   0,   0,   0,   0,   0,   0,   0,   2,   0, 135, 227,\n",
              "         44,   0,   0,  94, 239,  47,   0,   4,   0,   0,   0,   0,   0,\n",
              "          0,   0],\n",
              "       [  0,   0,   0,   1,   1,   0,   0,   0,   2,   0,  69, 184,   0,\n",
              "          0,   0,   0,   0,  21, 162,  25,   0,   1,   0,   1,   0,   0,\n",
              "          1,   0],\n",
              "       [  0,   0,   0,   0,   0,   0,   0,   2,   0,   1, 126,  40,   0,\n",
              "          3,   1,   0,   0,   0,  83, 147,   0,   0,   1,   0,   0,   1,\n",
              "          2,   0],\n",
              "       [  2,   1,   0,   0,   0,   0,   0,   5,   0,  85, 173,   0,   0,\n",
              "          2,   1,   0,   3,   0,   0, 136,  20,   0,   2,   0,   0,   1,\n",
              "          0,   0],\n",
              "       [  1,   1,   0,   0,   0,   0,   1,   0,   0, 137, 184,   0,   0,\n",
              "          1,   1,   1,   1,   0,   0, 148, 101,   0,   0,   0,   0,   0,\n",
              "          0,   0],\n",
              "       [  1,   0,   0,   2,   2,   2,   2,   0,   0, 156, 182,   0,   0,\n",
              "          2,   1,   1,   0,   2,   0, 131, 178,   0,   0,   0,   1,   1,\n",
              "          0,   2],\n",
              "       [  1,   1,   0,   0,   0,   1,   0,   0,   0, 184, 182,   0,   1,\n",
              "          3,   2,   1,   2,   1,   0, 109, 201,   0,   0,   1,   2,   2,\n",
              "          0,   1],\n",
              "       [  0,   0,   0,   1,   0,   0,   0,   0,   0, 186, 176,   0,   0,\n",
              "          0,   0,   0,   0,   0,   0,  53, 230,   0,   0,   0,   0,   0,\n",
              "          0,   0],\n",
              "       [  2,   0,  44, 185, 167, 196, 196, 198, 179, 145, 177, 168, 164,\n",
              "        162, 161, 159, 160, 160, 159, 147, 151, 119, 181, 176, 174, 173,\n",
              "        174,  92],\n",
              "       [  2,   0,  61, 219, 189, 193, 191, 201, 221, 241, 186, 204, 198,\n",
              "        192, 196, 197, 191, 190, 211, 192, 223, 219, 209, 208, 207, 206,\n",
              "        204, 130],\n",
              "       [  2,   0,  33, 209, 183, 185, 186, 199, 119, 141, 224, 171, 169,\n",
              "        184, 155, 152, 184, 175, 174, 203, 188, 189, 215, 184, 196, 191,\n",
              "        196,  95],\n",
              "       [  0,   0,  48, 220, 182, 191, 189, 197, 153, 171, 215, 173, 193,\n",
              "        173, 113, 103, 171, 193, 181, 212, 114, 125, 227, 191, 199, 191,\n",
              "        199, 108],\n",
              "       [  1,   0, 183, 209, 177, 192, 191, 204, 209, 249, 197, 177, 184,\n",
              "        173, 118, 137, 179, 188, 183, 208, 235, 239, 219, 193, 200, 191,\n",
              "        200, 102],\n",
              "       [  0,  27, 166, 198, 185, 190, 192, 200, 189, 226, 193, 191, 194,\n",
              "        194, 197, 196, 196, 197, 192, 201, 199, 204, 216, 194, 204, 198,\n",
              "        205,  95],\n",
              "       [  0,  91,  41, 229, 191, 185, 189, 198, 198, 230, 189, 197, 194,\n",
              "        198, 198, 191, 196, 196, 194, 203, 207, 215, 220, 192, 204, 196,\n",
              "        213,  85],\n",
              "       [  0,  95,   3, 248, 183, 182, 190, 196, 203, 222, 186, 199, 193,\n",
              "        193, 196, 198, 198, 199, 197, 199, 208, 208, 214, 196, 203, 194,\n",
              "        218,  57],\n",
              "       [ 38,  86,   0, 251, 181, 188, 188, 186, 208, 211, 191, 198, 197,\n",
              "        197, 197, 198, 199, 200, 203, 200, 203, 206, 206, 198, 203, 199,\n",
              "        219,  40],\n",
              "       [ 73,  84,   0, 246, 193, 185, 189, 198, 226, 194, 192, 196, 196,\n",
              "        196, 197, 197, 198, 197, 197, 197, 209, 229, 207, 194, 199, 200,\n",
              "        219,  29],\n",
              "       [ 81,  75,   0, 230, 197, 179, 190, 191, 198, 185, 192, 193, 194,\n",
              "        194, 196, 196, 197, 196, 198, 194, 204, 221, 199, 196, 196, 198,\n",
              "        218,  18],\n",
              "       [ 66,  95,   0, 213, 209, 177, 194, 193, 193, 192, 194, 196, 191,\n",
              "        192, 196, 197, 197, 198, 198, 198, 196, 196, 194, 198, 196, 200,\n",
              "        216,   0],\n",
              "       [  8, 123,   0, 205, 209, 176, 194, 196, 198, 198, 198, 198, 194,\n",
              "        197, 199, 198, 199, 199, 198, 197, 197, 199, 194, 186, 194, 199,\n",
              "        208,   0],\n",
              "       [  0, 113,   1, 144, 211, 178, 198, 197, 200, 205, 203, 198, 197,\n",
              "        197, 197, 197, 196, 196, 198, 197, 197, 198, 194, 196, 197, 205,\n",
              "        190,   0],\n",
              "       [  0,  24, 150, 150, 214, 203, 216, 213, 212, 209, 206, 198, 200,\n",
              "        199, 197, 197, 196, 196, 199, 199, 199, 198, 203, 205, 205, 220,\n",
              "        131,   0],\n",
              "       [  3,   0,  13, 207, 212, 209, 215, 224, 230, 230, 229, 215, 200,\n",
              "        199, 197, 196, 193, 192, 196, 196, 196, 196, 199, 201, 201, 221,\n",
              "         43,   0],\n",
              "       [  0,   0,   0, 166, 230, 213, 205, 196, 201, 196, 208, 237, 254,\n",
              "        245, 244, 243, 241, 241, 242, 242, 244, 243, 249, 246, 215, 245,\n",
              "          9,   0],\n",
              "       [  0,   1,   0,  40, 123, 136, 160, 182, 203, 214, 185,  27,  11,\n",
              "         26,  19,  20,  20,  20,  20,  19,  20,  19,  20,  24,  36,  32,\n",
              "          0,   0]], dtype=uint8)"
            ]
          },
          "metadata": {},
          "execution_count": 148
        }
      ]
    },
    {
      "cell_type": "code",
      "source": [
        "class_names=['T-shirt/top','Trouser','Pullover','Dress','Coat','Sandal','Shirt','Sneaker','Bag','Ankle boot']\n",
        "class_names,len(class_names)"
      ],
      "metadata": {
        "colab": {
          "base_uri": "https://localhost:8080/"
        },
        "id": "lySNAKyGcKF7",
        "outputId": "416d24ae-ed69-4872-e8c3-f9006b17a2d4"
      },
      "execution_count": 149,
      "outputs": [
        {
          "output_type": "execute_result",
          "data": {
            "text/plain": [
              "(['T-shirt/top',\n",
              "  'Trouser',\n",
              "  'Pullover',\n",
              "  'Dress',\n",
              "  'Coat',\n",
              "  'Sandal',\n",
              "  'Shirt',\n",
              "  'Sneaker',\n",
              "  'Bag',\n",
              "  'Ankle boot'],\n",
              " 10)"
            ]
          },
          "metadata": {},
          "execution_count": 149
        }
      ]
    },
    {
      "cell_type": "code",
      "source": [
        "index=25\n",
        "plt.imshow(X_train[index], cmap=plt.cm.binary)\n",
        "plt.title(class_names[X_test[index]])"
      ],
      "metadata": {
        "colab": {
          "base_uri": "https://localhost:8080/",
          "height": 475
        },
        "id": "b5dxb9HqiWkM",
        "outputId": "57648709-7b22-4cd7-d79d-8fc285942a01"
      },
      "execution_count": 150,
      "outputs": [
        {
          "output_type": "error",
          "ename": "TypeError",
          "evalue": "ignored",
          "traceback": [
            "\u001b[0;31m---------------------------------------------------------------------------\u001b[0m",
            "\u001b[0;31mTypeError\u001b[0m                                 Traceback (most recent call last)",
            "\u001b[0;32m<ipython-input-150-3eab36118dd6>\u001b[0m in \u001b[0;36m<module>\u001b[0;34m()\u001b[0m\n\u001b[1;32m      1\u001b[0m \u001b[0mindex\u001b[0m\u001b[0;34m=\u001b[0m\u001b[0;36m25\u001b[0m\u001b[0;34m\u001b[0m\u001b[0;34m\u001b[0m\u001b[0m\n\u001b[1;32m      2\u001b[0m \u001b[0mplt\u001b[0m\u001b[0;34m.\u001b[0m\u001b[0mimshow\u001b[0m\u001b[0;34m(\u001b[0m\u001b[0mX_train\u001b[0m\u001b[0;34m[\u001b[0m\u001b[0mindex\u001b[0m\u001b[0;34m]\u001b[0m\u001b[0;34m,\u001b[0m \u001b[0mcmap\u001b[0m\u001b[0;34m=\u001b[0m\u001b[0mplt\u001b[0m\u001b[0;34m.\u001b[0m\u001b[0mcm\u001b[0m\u001b[0;34m.\u001b[0m\u001b[0mbinary\u001b[0m\u001b[0;34m)\u001b[0m\u001b[0;34m\u001b[0m\u001b[0;34m\u001b[0m\u001b[0m\n\u001b[0;32m----> 3\u001b[0;31m \u001b[0mplt\u001b[0m\u001b[0;34m.\u001b[0m\u001b[0mtitle\u001b[0m\u001b[0;34m(\u001b[0m\u001b[0mclass_names\u001b[0m\u001b[0;34m[\u001b[0m\u001b[0mX_test\u001b[0m\u001b[0;34m[\u001b[0m\u001b[0mindex\u001b[0m\u001b[0;34m]\u001b[0m\u001b[0;34m]\u001b[0m\u001b[0;34m)\u001b[0m\u001b[0;34m\u001b[0m\u001b[0;34m\u001b[0m\u001b[0m\n\u001b[0m",
            "\u001b[0;31mTypeError\u001b[0m: only integer scalar arrays can be converted to a scalar index"
          ]
        },
        {
          "output_type": "display_data",
          "data": {
            "text/plain": [
              "<Figure size 432x288 with 1 Axes>"
            ],
            "image/png": "[encoded data removed]"
          },
          "metadata": {
            "needs_background": "light"
          }
        }
      ]
    },
    {
      "cell_type": "markdown",
      "source": [
        "### Building\n",
        "\n",
        "* Input Shape = (28,28)\n",
        "* Output Shape= (10)\n",
        "* Loss Function = \"CategoricalCrossentropy\"\n",
        "* Output Activation Function = \"Softmax\""
      ],
      "metadata": {
        "id": "tLzwU54xixlV"
      }
    },
    {
      "cell_type": "code",
      "source": [
        "X_train[0].shape, X_train.shape"
      ],
      "metadata": {
        "colab": {
          "base_uri": "https://localhost:8080/"
        },
        "id": "V4aaydy1GH4g",
        "outputId": "ceab3d30-88e5-47d8-bb1f-993e1f28c2cb"
      },
      "execution_count": 151,
      "outputs": [
        {
          "output_type": "execute_result",
          "data": {
            "text/plain": [
              "((28, 28), (60000, 28, 28))"
            ]
          },
          "metadata": {},
          "execution_count": 151
        }
      ]
    },
    {
      "cell_type": "code",
      "source": [
        "class_names, len(class_names)"
      ],
      "metadata": {
        "colab": {
          "base_uri": "https://localhost:8080/"
        },
        "id": "573xiqlBGLc-",
        "outputId": "fe0adf0a-64a4-4fc1-c483-be2cc9e5985b"
      },
      "execution_count": 152,
      "outputs": [
        {
          "output_type": "execute_result",
          "data": {
            "text/plain": [
              "(['T-shirt/top',\n",
              "  'Trouser',\n",
              "  'Pullover',\n",
              "  'Dress',\n",
              "  'Coat',\n",
              "  'Sandal',\n",
              "  'Shirt',\n",
              "  'Sneaker',\n",
              "  'Bag',\n",
              "  'Ankle boot'],\n",
              " 10)"
            ]
          },
          "metadata": {},
          "execution_count": 152
        }
      ]
    },
    {
      "cell_type": "code",
      "source": [
        "y_train[:10]"
      ],
      "metadata": {
        "colab": {
          "base_uri": "https://localhost:8080/"
        },
        "id": "QgVKpVHCLcJL",
        "outputId": "f1b2024e-7d64-49a2-bb43-0e4f06b92f7b"
      },
      "execution_count": 157,
      "outputs": [
        {
          "output_type": "execute_result",
          "data": {
            "text/plain": [
              "array([9, 0, 0, 3, 0, 2, 7, 2, 5, 5], dtype=uint8)"
            ]
          },
          "metadata": {},
          "execution_count": 157
        }
      ]
    },
    {
      "cell_type": "code",
      "source": [
        "tf.one_hot(y_train[:10])"
      ],
      "metadata": {
        "colab": {
          "base_uri": "https://localhost:8080/",
          "height": 187
        },
        "id": "m0F8rOmhM4E2",
        "outputId": "8bc9d3ff-0a78-4f75-8918-e671e627699f"
      },
      "execution_count": 161,
      "outputs": [
        {
          "output_type": "error",
          "ename": "AttributeError",
          "evalue": "ignored",
          "traceback": [
            "\u001b[0;31m---------------------------------------------------------------------------\u001b[0m",
            "\u001b[0;31mAttributeError\u001b[0m                            Traceback (most recent call last)",
            "\u001b[0;32m<ipython-input-161-dfeee98a3ff1>\u001b[0m in \u001b[0;36m<module>\u001b[0;34m()\u001b[0m\n\u001b[0;32m----> 1\u001b[0;31m \u001b[0mtf\u001b[0m\u001b[0;34m.\u001b[0m\u001b[0mone\u001b[0m\u001b[0;34m-\u001b[0m\u001b[0mhot\u001b[0m\u001b[0;34m(\u001b[0m\u001b[0my_train\u001b[0m\u001b[0;34m[\u001b[0m\u001b[0;34m:\u001b[0m\u001b[0;36m10\u001b[0m\u001b[0;34m]\u001b[0m\u001b[0;34m)\u001b[0m\u001b[0;34m\u001b[0m\u001b[0;34m\u001b[0m\u001b[0m\n\u001b[0m",
            "\u001b[0;31mAttributeError\u001b[0m: module 'tensorflow' has no attribute 'one'"
          ]
        }
      ]
    },
    {
      "cell_type": "markdown",
      "source": [
        "### Building the model\n",
        "\n",
        "> We have to use *SparseCategoricalCrossentropy()* as the loss function instead of *CategoricalCrossentropy* because the labels(y values) are in *integer* format and not *one-hot-encoded*. \n",
        "\n",
        "> If the labels were *one-hot-encoded* then we could have used the *CategoricalCrossentropy* as the loss function here."
      ],
      "metadata": {
        "id": "NuuEVNJoGWbB"
      }
    },
    {
      "cell_type": "code",
      "source": [
        "tf.random.set_seed(42)\n",
        "\n",
        "model_5= tf.keras.Sequential([\n",
        "            tf.keras.layers.Flatten(input_shape=(28,28)),\n",
        "            tf.keras.layers.Dense(4, activation=\"relu\"),\n",
        "            tf.keras.layers.Dense(4, activation=\"relu\"),\n",
        "            tf.keras.layers.Dense(10, activation=tf.keras.activations.softmax),\n",
        "])\n",
        "\n",
        "model_5.compile(loss=tf.keras.losses.SparseCategoricalCrossentropy(), optimizer=tf.keras.optimizers.Adam(), metrics=[\"accuracy\"])\n",
        "\n",
        "history_5= model_5.fit(X_train,y_train,epochs=100,validation_data=(X_test,y_test))"
      ],
      "metadata": {
        "colab": {
          "base_uri": "https://localhost:8080/"
        },
        "id": "ALxsGe12HDqd",
        "outputId": "1c533471-f173-425c-8532-cc0a849236d3"
      },
      "execution_count": 160,
      "outputs": [
        {
          "output_type": "stream",
          "name": "stdout",
          "text": [
            "Epoch 1/100\n",
            "1875/1875 [==============================] - 4s 2ms/step - loss: 2.1671 - accuracy: 0.1606 - val_loss: 1.7959 - val_accuracy: 0.2046\n",
            "Epoch 2/100\n",
            "1875/1875 [==============================] - 4s 2ms/step - loss: 1.7066 - accuracy: 0.2509 - val_loss: 1.6567 - val_accuracy: 0.2805\n",
            "Epoch 3/100\n",
            "1875/1875 [==============================] - 4s 2ms/step - loss: 1.6321 - accuracy: 0.2806 - val_loss: 1.6094 - val_accuracy: 0.2857\n",
            "Epoch 4/100\n",
            "1875/1875 [==============================] - 4s 2ms/step - loss: 1.6052 - accuracy: 0.2833 - val_loss: 1.6041 - val_accuracy: 0.2859\n",
            "Epoch 5/100\n",
            "1875/1875 [==============================] - 4s 2ms/step - loss: 1.5975 - accuracy: 0.2862 - val_loss: 1.6064 - val_accuracy: 0.2756\n",
            "Epoch 6/100\n",
            "1875/1875 [==============================] - 4s 2ms/step - loss: 1.5950 - accuracy: 0.2920 - val_loss: 1.5747 - val_accuracy: 0.2994\n",
            "Epoch 7/100\n",
            "1875/1875 [==============================] - 4s 2ms/step - loss: 1.5775 - accuracy: 0.3040 - val_loss: 1.6030 - val_accuracy: 0.3000\n",
            "Epoch 8/100\n",
            "1875/1875 [==============================] - 4s 2ms/step - loss: 1.5708 - accuracy: 0.3175 - val_loss: 1.5635 - val_accuracy: 0.3315\n",
            "Epoch 9/100\n",
            "1875/1875 [==============================] - 4s 2ms/step - loss: 1.5638 - accuracy: 0.3280 - val_loss: 1.5534 - val_accuracy: 0.3334\n",
            "Epoch 10/100\n",
            "1875/1875 [==============================] - 5s 3ms/step - loss: 1.5432 - accuracy: 0.3346 - val_loss: 1.5390 - val_accuracy: 0.3549\n",
            "Epoch 11/100\n",
            "1875/1875 [==============================] - 4s 2ms/step - loss: 1.5160 - accuracy: 0.3519 - val_loss: 1.5051 - val_accuracy: 0.3582\n",
            "Epoch 12/100\n",
            "1875/1875 [==============================] - 4s 2ms/step - loss: 1.4441 - accuracy: 0.3972 - val_loss: 1.3549 - val_accuracy: 0.4347\n",
            "Epoch 13/100\n",
            "1875/1875 [==============================] - 5s 2ms/step - loss: 1.3136 - accuracy: 0.4450 - val_loss: 1.2910 - val_accuracy: 0.4549\n",
            "Epoch 14/100\n",
            "1875/1875 [==============================] - 4s 2ms/step - loss: 1.2738 - accuracy: 0.4535 - val_loss: 1.2582 - val_accuracy: 0.4671\n",
            "Epoch 15/100\n",
            "1875/1875 [==============================] - 4s 2ms/step - loss: 1.2006 - accuracy: 0.4963 - val_loss: 1.1155 - val_accuracy: 0.5431\n",
            "Epoch 16/100\n",
            "1875/1875 [==============================] - 4s 2ms/step - loss: 1.0833 - accuracy: 0.5409 - val_loss: 1.0602 - val_accuracy: 0.5692\n",
            "Epoch 17/100\n",
            "1875/1875 [==============================] - 4s 2ms/step - loss: 1.0464 - accuracy: 0.5583 - val_loss: 1.0282 - val_accuracy: 0.5811\n",
            "Epoch 18/100\n",
            "1875/1875 [==============================] - 4s 2ms/step - loss: 1.0204 - accuracy: 0.5760 - val_loss: 1.0104 - val_accuracy: 0.6027\n",
            "Epoch 19/100\n",
            "1875/1875 [==============================] - 4s 2ms/step - loss: 1.0062 - accuracy: 0.5877 - val_loss: 1.0446 - val_accuracy: 0.5659\n",
            "Epoch 20/100\n",
            "1875/1875 [==============================] - 4s 2ms/step - loss: 0.9883 - accuracy: 0.5966 - val_loss: 0.9933 - val_accuracy: 0.5974\n",
            "Epoch 21/100\n",
            "1875/1875 [==============================] - 4s 2ms/step - loss: 0.9831 - accuracy: 0.6044 - val_loss: 1.0685 - val_accuracy: 0.5993\n",
            "Epoch 22/100\n",
            "1875/1875 [==============================] - 4s 2ms/step - loss: 0.9778 - accuracy: 0.6063 - val_loss: 0.9915 - val_accuracy: 0.6056\n",
            "Epoch 23/100\n",
            "1875/1875 [==============================] - 4s 2ms/step - loss: 0.9667 - accuracy: 0.6121 - val_loss: 1.0079 - val_accuracy: 0.6028\n",
            "Epoch 24/100\n",
            "1875/1875 [==============================] - 4s 2ms/step - loss: 0.9722 - accuracy: 0.6091 - val_loss: 0.9880 - val_accuracy: 0.6106\n",
            "Epoch 25/100\n",
            "1875/1875 [==============================] - 4s 2ms/step - loss: 0.9708 - accuracy: 0.6096 - val_loss: 0.9791 - val_accuracy: 0.6259\n",
            "Epoch 26/100\n",
            "1875/1875 [==============================] - 4s 2ms/step - loss: 0.9618 - accuracy: 0.6109 - val_loss: 1.0434 - val_accuracy: 0.5818\n",
            "Epoch 27/100\n",
            "1875/1875 [==============================] - 4s 2ms/step - loss: 0.9576 - accuracy: 0.6120 - val_loss: 1.0031 - val_accuracy: 0.5990\n",
            "Epoch 28/100\n",
            "1875/1875 [==============================] - 4s 2ms/step - loss: 0.9686 - accuracy: 0.6094 - val_loss: 1.0075 - val_accuracy: 0.6062\n",
            "Epoch 29/100\n",
            "1875/1875 [==============================] - 5s 2ms/step - loss: 0.9561 - accuracy: 0.6140 - val_loss: 0.9564 - val_accuracy: 0.6240\n",
            "Epoch 30/100\n",
            "1875/1875 [==============================] - 5s 2ms/step - loss: 0.9544 - accuracy: 0.6167 - val_loss: 1.0325 - val_accuracy: 0.6025\n",
            "Epoch 31/100\n",
            "1875/1875 [==============================] - 5s 2ms/step - loss: 0.9599 - accuracy: 0.6112 - val_loss: 1.0079 - val_accuracy: 0.6050\n",
            "Epoch 32/100\n",
            "1875/1875 [==============================] - 4s 2ms/step - loss: 0.9619 - accuracy: 0.6093 - val_loss: 0.9654 - val_accuracy: 0.6233\n",
            "Epoch 33/100\n",
            "1875/1875 [==============================] - 4s 2ms/step - loss: 0.9558 - accuracy: 0.6126 - val_loss: 0.9640 - val_accuracy: 0.6299\n",
            "Epoch 34/100\n",
            "1875/1875 [==============================] - 4s 2ms/step - loss: 0.9627 - accuracy: 0.6116 - val_loss: 0.9858 - val_accuracy: 0.6153\n",
            "Epoch 35/100\n",
            "1875/1875 [==============================] - 5s 2ms/step - loss: 0.9466 - accuracy: 0.6156 - val_loss: 0.9484 - val_accuracy: 0.6239\n",
            "Epoch 36/100\n",
            "1875/1875 [==============================] - 4s 2ms/step - loss: 0.9382 - accuracy: 0.6174 - val_loss: 0.9445 - val_accuracy: 0.6440\n",
            "Epoch 37/100\n",
            "1875/1875 [==============================] - 4s 2ms/step - loss: 0.9268 - accuracy: 0.6222 - val_loss: 0.9584 - val_accuracy: 0.5905\n",
            "Epoch 38/100\n",
            "1875/1875 [==============================] - 4s 2ms/step - loss: 0.9162 - accuracy: 0.6299 - val_loss: 0.9152 - val_accuracy: 0.6396\n",
            "Epoch 39/100\n",
            "1875/1875 [==============================] - 4s 2ms/step - loss: 0.8965 - accuracy: 0.6344 - val_loss: 0.9109 - val_accuracy: 0.6455\n",
            "Epoch 40/100\n",
            "1875/1875 [==============================] - 4s 2ms/step - loss: 0.8778 - accuracy: 0.6392 - val_loss: 0.9510 - val_accuracy: 0.6033\n",
            "Epoch 41/100\n",
            "1875/1875 [==============================] - 4s 2ms/step - loss: 0.8717 - accuracy: 0.6427 - val_loss: 0.9161 - val_accuracy: 0.6445\n",
            "Epoch 42/100\n",
            "1875/1875 [==============================] - 4s 2ms/step - loss: 0.8633 - accuracy: 0.6455 - val_loss: 0.8835 - val_accuracy: 0.6574\n",
            "Epoch 43/100\n",
            "1875/1875 [==============================] - 4s 2ms/step - loss: 0.8563 - accuracy: 0.6472 - val_loss: 0.8757 - val_accuracy: 0.6558\n",
            "Epoch 44/100\n",
            "1875/1875 [==============================] - 4s 2ms/step - loss: 0.8534 - accuracy: 0.6487 - val_loss: 0.9068 - val_accuracy: 0.6414\n",
            "Epoch 45/100\n",
            "1875/1875 [==============================] - 4s 2ms/step - loss: 0.8475 - accuracy: 0.6491 - val_loss: 0.8668 - val_accuracy: 0.6563\n",
            "Epoch 46/100\n",
            "1875/1875 [==============================] - 4s 2ms/step - loss: 0.8490 - accuracy: 0.6493 - val_loss: 0.8808 - val_accuracy: 0.6490\n",
            "Epoch 47/100\n",
            "1875/1875 [==============================] - 5s 3ms/step - loss: 0.8458 - accuracy: 0.6501 - val_loss: 0.8780 - val_accuracy: 0.6573\n",
            "Epoch 48/100\n",
            "1875/1875 [==============================] - 4s 2ms/step - loss: 0.8462 - accuracy: 0.6502 - val_loss: 0.8608 - val_accuracy: 0.6613\n",
            "Epoch 49/100\n",
            "1875/1875 [==============================] - 4s 2ms/step - loss: 0.8410 - accuracy: 0.6529 - val_loss: 0.8755 - val_accuracy: 0.6542\n",
            "Epoch 50/100\n",
            "1875/1875 [==============================] - 4s 2ms/step - loss: 0.8390 - accuracy: 0.6568 - val_loss: 0.8687 - val_accuracy: 0.6569\n",
            "Epoch 51/100\n",
            "1875/1875 [==============================] - 4s 2ms/step - loss: 0.8399 - accuracy: 0.6534 - val_loss: 0.8674 - val_accuracy: 0.6378\n",
            "Epoch 52/100\n",
            "1875/1875 [==============================] - 5s 3ms/step - loss: 0.8357 - accuracy: 0.6518 - val_loss: 0.8588 - val_accuracy: 0.6365\n",
            "Epoch 53/100\n",
            "1875/1875 [==============================] - 4s 2ms/step - loss: 0.8357 - accuracy: 0.6549 - val_loss: 0.8509 - val_accuracy: 0.6639\n",
            "Epoch 54/100\n",
            "1875/1875 [==============================] - 5s 2ms/step - loss: 0.8348 - accuracy: 0.6547 - val_loss: 0.8705 - val_accuracy: 0.6482\n",
            "Epoch 55/100\n",
            "1875/1875 [==============================] - 4s 2ms/step - loss: 0.8320 - accuracy: 0.6563 - val_loss: 0.8554 - val_accuracy: 0.6701\n",
            "Epoch 56/100\n",
            "1875/1875 [==============================] - 5s 2ms/step - loss: 0.8310 - accuracy: 0.6550 - val_loss: 0.8635 - val_accuracy: 0.6515\n",
            "Epoch 57/100\n",
            "1875/1875 [==============================] - 4s 2ms/step - loss: 0.8304 - accuracy: 0.6554 - val_loss: 0.8682 - val_accuracy: 0.6642\n",
            "Epoch 58/100\n",
            "1875/1875 [==============================] - 4s 2ms/step - loss: 0.8287 - accuracy: 0.6582 - val_loss: 0.8758 - val_accuracy: 0.6380\n",
            "Epoch 59/100\n",
            "1875/1875 [==============================] - 4s 2ms/step - loss: 0.8279 - accuracy: 0.6578 - val_loss: 0.8558 - val_accuracy: 0.6612\n",
            "Epoch 60/100\n",
            "1875/1875 [==============================] - 4s 2ms/step - loss: 0.8273 - accuracy: 0.6570 - val_loss: 0.8610 - val_accuracy: 0.6610\n",
            "Epoch 61/100\n",
            "1875/1875 [==============================] - 4s 2ms/step - loss: 0.8153 - accuracy: 0.6817 - val_loss: 0.8253 - val_accuracy: 0.6981\n",
            "Epoch 62/100\n",
            "1875/1875 [==============================] - 5s 3ms/step - loss: 0.7958 - accuracy: 0.7061 - val_loss: 0.7945 - val_accuracy: 0.7166\n",
            "Epoch 63/100\n",
            "1875/1875 [==============================] - 4s 2ms/step - loss: 0.7695 - accuracy: 0.7189 - val_loss: 0.7787 - val_accuracy: 0.7214\n",
            "Epoch 64/100\n",
            "1875/1875 [==============================] - 4s 2ms/step - loss: 0.7571 - accuracy: 0.7243 - val_loss: 0.7817 - val_accuracy: 0.7175\n",
            "Epoch 65/100\n",
            "1875/1875 [==============================] - 4s 2ms/step - loss: 0.7488 - accuracy: 0.7304 - val_loss: 0.7839 - val_accuracy: 0.7250\n",
            "Epoch 66/100\n",
            "1875/1875 [==============================] - 4s 2ms/step - loss: 0.7454 - accuracy: 0.7298 - val_loss: 0.8141 - val_accuracy: 0.7001\n",
            "Epoch 67/100\n",
            "1875/1875 [==============================] - 4s 2ms/step - loss: 0.7449 - accuracy: 0.7315 - val_loss: 0.7927 - val_accuracy: 0.7166\n",
            "Epoch 68/100\n",
            "1875/1875 [==============================] - 4s 2ms/step - loss: 0.7391 - accuracy: 0.7323 - val_loss: 0.7503 - val_accuracy: 0.7343\n",
            "Epoch 69/100\n",
            "1875/1875 [==============================] - 4s 2ms/step - loss: 0.7347 - accuracy: 0.7329 - val_loss: 0.7633 - val_accuracy: 0.7335\n",
            "Epoch 70/100\n",
            "1875/1875 [==============================] - 4s 2ms/step - loss: 0.7354 - accuracy: 0.7365 - val_loss: 0.7699 - val_accuracy: 0.7325\n",
            "Epoch 71/100\n",
            "1875/1875 [==============================] - 4s 2ms/step - loss: 0.7384 - accuracy: 0.7345 - val_loss: 0.7893 - val_accuracy: 0.7230\n",
            "Epoch 72/100\n",
            "1875/1875 [==============================] - 4s 2ms/step - loss: 0.7334 - accuracy: 0.7359 - val_loss: 0.7815 - val_accuracy: 0.7315\n",
            "Epoch 73/100\n",
            "1875/1875 [==============================] - 4s 2ms/step - loss: 0.7361 - accuracy: 0.7340 - val_loss: 0.7720 - val_accuracy: 0.7276\n",
            "Epoch 74/100\n",
            "1875/1875 [==============================] - 4s 2ms/step - loss: 0.7296 - accuracy: 0.7376 - val_loss: 0.7686 - val_accuracy: 0.7298\n",
            "Epoch 75/100\n",
            "1875/1875 [==============================] - 4s 2ms/step - loss: 0.7269 - accuracy: 0.7390 - val_loss: 0.7733 - val_accuracy: 0.7277\n",
            "Epoch 76/100\n",
            "1875/1875 [==============================] - 4s 2ms/step - loss: 0.7259 - accuracy: 0.7372 - val_loss: 0.7746 - val_accuracy: 0.7289\n",
            "Epoch 77/100\n",
            "1875/1875 [==============================] - 4s 2ms/step - loss: 0.7271 - accuracy: 0.7371 - val_loss: 0.7594 - val_accuracy: 0.7311\n",
            "Epoch 78/100\n",
            "1875/1875 [==============================] - 4s 2ms/step - loss: 0.7287 - accuracy: 0.7359 - val_loss: 0.7701 - val_accuracy: 0.7284\n",
            "Epoch 79/100\n",
            "1875/1875 [==============================] - 4s 2ms/step - loss: 0.7218 - accuracy: 0.7390 - val_loss: 0.8005 - val_accuracy: 0.7175\n",
            "Epoch 80/100\n",
            "1875/1875 [==============================] - 4s 2ms/step - loss: 0.7219 - accuracy: 0.7404 - val_loss: 0.7944 - val_accuracy: 0.7222\n",
            "Epoch 81/100\n",
            "1875/1875 [==============================] - 4s 2ms/step - loss: 0.7238 - accuracy: 0.7385 - val_loss: 0.7637 - val_accuracy: 0.7299\n",
            "Epoch 82/100\n",
            "1875/1875 [==============================] - 4s 2ms/step - loss: 0.7220 - accuracy: 0.7398 - val_loss: 0.7934 - val_accuracy: 0.7077\n",
            "Epoch 83/100\n",
            "1875/1875 [==============================] - 4s 2ms/step - loss: 0.7237 - accuracy: 0.7374 - val_loss: 0.8092 - val_accuracy: 0.7106\n",
            "Epoch 84/100\n",
            "1875/1875 [==============================] - 5s 3ms/step - loss: 0.7224 - accuracy: 0.7390 - val_loss: 0.7771 - val_accuracy: 0.7252\n",
            "Epoch 85/100\n",
            "1875/1875 [==============================] - 4s 2ms/step - loss: 0.7195 - accuracy: 0.7382 - val_loss: 0.7638 - val_accuracy: 0.7372\n",
            "Epoch 86/100\n",
            "1875/1875 [==============================] - 5s 2ms/step - loss: 0.7229 - accuracy: 0.7385 - val_loss: 0.7731 - val_accuracy: 0.7296\n",
            "Epoch 87/100\n",
            "1875/1875 [==============================] - 4s 2ms/step - loss: 0.7176 - accuracy: 0.7402 - val_loss: 0.7638 - val_accuracy: 0.7331\n",
            "Epoch 88/100\n",
            "1875/1875 [==============================] - 4s 2ms/step - loss: 0.7238 - accuracy: 0.7387 - val_loss: 0.7839 - val_accuracy: 0.7182\n",
            "Epoch 89/100\n",
            "1875/1875 [==============================] - 4s 2ms/step - loss: 0.7202 - accuracy: 0.7388 - val_loss: 0.7483 - val_accuracy: 0.7265\n",
            "Epoch 90/100\n",
            "1875/1875 [==============================] - 4s 2ms/step - loss: 0.7176 - accuracy: 0.7401 - val_loss: 0.7758 - val_accuracy: 0.7241\n",
            "Epoch 91/100\n",
            "1875/1875 [==============================] - 4s 2ms/step - loss: 0.7210 - accuracy: 0.7397 - val_loss: 0.7713 - val_accuracy: 0.7331\n",
            "Epoch 92/100\n",
            "1875/1875 [==============================] - 4s 2ms/step - loss: 0.7187 - accuracy: 0.7396 - val_loss: 0.7516 - val_accuracy: 0.7399\n",
            "Epoch 93/100\n",
            "1875/1875 [==============================] - 4s 2ms/step - loss: 0.7172 - accuracy: 0.7389 - val_loss: 0.7755 - val_accuracy: 0.7276\n",
            "Epoch 94/100\n",
            "1875/1875 [==============================] - 4s 2ms/step - loss: 0.7191 - accuracy: 0.7409 - val_loss: 0.7726 - val_accuracy: 0.7337\n",
            "Epoch 95/100\n",
            "1875/1875 [==============================] - 5s 2ms/step - loss: 0.7197 - accuracy: 0.7404 - val_loss: 0.7708 - val_accuracy: 0.7294\n",
            "Epoch 96/100\n",
            "1875/1875 [==============================] - 4s 2ms/step - loss: 0.7195 - accuracy: 0.7402 - val_loss: 0.7583 - val_accuracy: 0.7370\n",
            "Epoch 97/100\n",
            "1875/1875 [==============================] - 4s 2ms/step - loss: 0.7177 - accuracy: 0.7394 - val_loss: 0.7628 - val_accuracy: 0.7275\n",
            "Epoch 98/100\n",
            "1875/1875 [==============================] - 5s 2ms/step - loss: 0.7175 - accuracy: 0.7404 - val_loss: 0.7667 - val_accuracy: 0.7354\n",
            "Epoch 99/100\n",
            "1875/1875 [==============================] - 4s 2ms/step - loss: 0.7168 - accuracy: 0.7402 - val_loss: 0.7518 - val_accuracy: 0.7313\n",
            "Epoch 100/100\n",
            "1875/1875 [==============================] - 4s 2ms/step - loss: 0.7207 - accuracy: 0.7386 - val_loss: 0.7482 - val_accuracy: 0.7396\n"
          ]
        }
      ]
    },
    {
      "cell_type": "code",
      "source": [
        "model_5.summary()"
      ],
      "metadata": {
        "colab": {
          "base_uri": "https://localhost:8080/"
        },
        "id": "8UOtUjh_H_LL",
        "outputId": "06bd9cab-07f8-4f50-b8b9-749aa274e3f5"
      },
      "execution_count": 162,
      "outputs": [
        {
          "output_type": "stream",
          "name": "stdout",
          "text": [
            "Model: \"sequential_28\"\n",
            "_________________________________________________________________\n",
            " Layer (type)                Output Shape              Param #   \n",
            "=================================================================\n",
            " flatten_5 (Flatten)         (None, 784)               0         \n",
            "                                                                 \n",
            " dense_78 (Dense)            (None, 4)                 3140      \n",
            "                                                                 \n",
            " dense_79 (Dense)            (None, 4)                 20        \n",
            "                                                                 \n",
            " dense_80 (Dense)            (None, 10)                50        \n",
            "                                                                 \n",
            "=================================================================\n",
            "Total params: 3,210\n",
            "Trainable params: 3,210\n",
            "Non-trainable params: 0\n",
            "_________________________________________________________________\n"
          ]
        }
      ]
    },
    {
      "cell_type": "code",
      "source": [
        "X_train.min(), X_train.max()"
      ],
      "metadata": {
        "colab": {
          "base_uri": "https://localhost:8080/"
        },
        "id": "LsdvfowuN6aO",
        "outputId": "c444c285-26bb-4388-d143-cc97532d33f0"
      },
      "execution_count": 163,
      "outputs": [
        {
          "output_type": "execute_result",
          "data": {
            "text/plain": [
              "(0, 255)"
            ]
          },
          "metadata": {},
          "execution_count": 163
        }
      ]
    },
    {
      "cell_type": "markdown",
      "source": [
        "### Scalling/Normalizing the data"
      ],
      "metadata": {
        "id": "tQqqLZnPOqSr"
      }
    },
    {
      "cell_type": "code",
      "source": [
        "X_train/255"
      ],
      "metadata": {
        "colab": {
          "base_uri": "https://localhost:8080/"
        },
        "id": "YXM-41xWOkDB",
        "outputId": "5d7b1c85-8f72-4873-a096-893073aa66cc"
      },
      "execution_count": 166,
      "outputs": [
        {
          "output_type": "execute_result",
          "data": {
            "text/plain": [
              "array([[[0., 0., 0., ..., 0., 0., 0.],\n",
              "        [0., 0., 0., ..., 0., 0., 0.],\n",
              "        [0., 0., 0., ..., 0., 0., 0.],\n",
              "        ...,\n",
              "        [0., 0., 0., ..., 0., 0., 0.],\n",
              "        [0., 0., 0., ..., 0., 0., 0.],\n",
              "        [0., 0., 0., ..., 0., 0., 0.]],\n",
              "\n",
              "       [[0., 0., 0., ..., 0., 0., 0.],\n",
              "        [0., 0., 0., ..., 0., 0., 0.],\n",
              "        [0., 0., 0., ..., 0., 0., 0.],\n",
              "        ...,\n",
              "        [0., 0., 0., ..., 0., 0., 0.],\n",
              "        [0., 0., 0., ..., 0., 0., 0.],\n",
              "        [0., 0., 0., ..., 0., 0., 0.]],\n",
              "\n",
              "       [[0., 0., 0., ..., 0., 0., 0.],\n",
              "        [0., 0., 0., ..., 0., 0., 0.],\n",
              "        [0., 0., 0., ..., 0., 0., 0.],\n",
              "        ...,\n",
              "        [0., 0., 0., ..., 0., 0., 0.],\n",
              "        [0., 0., 0., ..., 0., 0., 0.],\n",
              "        [0., 0., 0., ..., 0., 0., 0.]],\n",
              "\n",
              "       ...,\n",
              "\n",
              "       [[0., 0., 0., ..., 0., 0., 0.],\n",
              "        [0., 0., 0., ..., 0., 0., 0.],\n",
              "        [0., 0., 0., ..., 0., 0., 0.],\n",
              "        ...,\n",
              "        [0., 0., 0., ..., 0., 0., 0.],\n",
              "        [0., 0., 0., ..., 0., 0., 0.],\n",
              "        [0., 0., 0., ..., 0., 0., 0.]],\n",
              "\n",
              "       [[0., 0., 0., ..., 0., 0., 0.],\n",
              "        [0., 0., 0., ..., 0., 0., 0.],\n",
              "        [0., 0., 0., ..., 0., 0., 0.],\n",
              "        ...,\n",
              "        [0., 0., 0., ..., 0., 0., 0.],\n",
              "        [0., 0., 0., ..., 0., 0., 0.],\n",
              "        [0., 0., 0., ..., 0., 0., 0.]],\n",
              "\n",
              "       [[0., 0., 0., ..., 0., 0., 0.],\n",
              "        [0., 0., 0., ..., 0., 0., 0.],\n",
              "        [0., 0., 0., ..., 0., 0., 0.],\n",
              "        ...,\n",
              "        [0., 0., 0., ..., 0., 0., 0.],\n",
              "        [0., 0., 0., ..., 0., 0., 0.],\n",
              "        [0., 0., 0., ..., 0., 0., 0.]]])"
            ]
          },
          "metadata": {},
          "execution_count": 166
        }
      ]
    },
    {
      "cell_type": "code",
      "source": [
        "X_train_scaled=X_train/255.0\n",
        "X_test_scaled= X_test/255.0"
      ],
      "metadata": {
        "id": "TrZi3NBDOf8c"
      },
      "execution_count": 169,
      "outputs": []
    },
    {
      "cell_type": "code",
      "source": [
        "X_train_scaled.min(), X_train_scaled.max(), X_test_scaled.min(), X_test_scaled.max()"
      ],
      "metadata": {
        "colab": {
          "base_uri": "https://localhost:8080/"
        },
        "id": "ExJbdBwMOzhk",
        "outputId": "b3b52c5b-e13e-4848-9688-0984cd74dba4"
      },
      "execution_count": 171,
      "outputs": [
        {
          "output_type": "execute_result",
          "data": {
            "text/plain": [
              "(0.0, 1.0, 0.0, 1.0)"
            ]
          },
          "metadata": {},
          "execution_count": 171
        }
      ]
    },
    {
      "cell_type": "code",
      "source": [
        "tf.random.set_seed(42)\n",
        "\n",
        "model_5_scaled= tf.keras.Sequential([\n",
        "            tf.keras.layers.Flatten(input_shape=(28,28)),\n",
        "            tf.keras.layers.Dense(4, activation=\"relu\"),\n",
        "            tf.keras.layers.Dense(4, activation=\"relu\"),\n",
        "            tf.keras.layers.Dense(10, activation=tf.keras.activations.softmax),\n",
        "])\n",
        "\n",
        "model_5_scaled.compile(loss=tf.keras.losses.SparseCategoricalCrossentropy(), optimizer=tf.keras.optimizers.Adam(), metrics=[\"accuracy\"])\n",
        "\n",
        "history_5_scaled= model_5_scaled.fit(X_train_scaled,y_train,epochs=100,validation_data=(X_test_scaled,y_test))"
      ],
      "metadata": {
        "colab": {
          "base_uri": "https://localhost:8080/"
        },
        "id": "-TIv0XqsO5Dk",
        "outputId": "5d8ec2a7-a293-4fb2-90d2-160220935d48"
      },
      "execution_count": 174,
      "outputs": [
        {
          "output_type": "stream",
          "name": "stdout",
          "text": [
            "Epoch 1/100\n",
            "1875/1875 [==============================] - 4s 2ms/step - loss: 1.0348 - accuracy: 0.6474 - val_loss: 0.6937 - val_accuracy: 0.7617\n",
            "Epoch 2/100\n",
            "1875/1875 [==============================] - 4s 2ms/step - loss: 0.6376 - accuracy: 0.7757 - val_loss: 0.6400 - val_accuracy: 0.7820\n",
            "Epoch 3/100\n",
            "1875/1875 [==============================] - 4s 2ms/step - loss: 0.5942 - accuracy: 0.7914 - val_loss: 0.6247 - val_accuracy: 0.7783\n",
            "Epoch 4/100\n",
            "1875/1875 [==============================] - 4s 2ms/step - loss: 0.5750 - accuracy: 0.7979 - val_loss: 0.6078 - val_accuracy: 0.7881\n",
            "Epoch 5/100\n",
            "1875/1875 [==============================] - 5s 2ms/step - loss: 0.5641 - accuracy: 0.8006 - val_loss: 0.6169 - val_accuracy: 0.7881\n",
            "Epoch 6/100\n",
            "1875/1875 [==============================] - 4s 2ms/step - loss: 0.5544 - accuracy: 0.8043 - val_loss: 0.5855 - val_accuracy: 0.7951\n",
            "Epoch 7/100\n",
            "1875/1875 [==============================] - 4s 2ms/step - loss: 0.5488 - accuracy: 0.8063 - val_loss: 0.6097 - val_accuracy: 0.7836\n",
            "Epoch 8/100\n",
            "1875/1875 [==============================] - 4s 2ms/step - loss: 0.5428 - accuracy: 0.8077 - val_loss: 0.5787 - val_accuracy: 0.7971\n",
            "Epoch 9/100\n",
            "1875/1875 [==============================] - 4s 2ms/step - loss: 0.5373 - accuracy: 0.8097 - val_loss: 0.5698 - val_accuracy: 0.7977\n",
            "Epoch 10/100\n",
            "1875/1875 [==============================] - 4s 2ms/step - loss: 0.5360 - accuracy: 0.8124 - val_loss: 0.5658 - val_accuracy: 0.8014\n",
            "Epoch 11/100\n",
            "1875/1875 [==============================] - 4s 2ms/step - loss: 0.5311 - accuracy: 0.8130 - val_loss: 0.5714 - val_accuracy: 0.8002\n",
            "Epoch 12/100\n",
            "1875/1875 [==============================] - 4s 2ms/step - loss: 0.5284 - accuracy: 0.8132 - val_loss: 0.5626 - val_accuracy: 0.8027\n",
            "Epoch 13/100\n",
            "1875/1875 [==============================] - 4s 2ms/step - loss: 0.5271 - accuracy: 0.8138 - val_loss: 0.5619 - val_accuracy: 0.8041\n",
            "Epoch 14/100\n",
            "1875/1875 [==============================] - 4s 2ms/step - loss: 0.5249 - accuracy: 0.8143 - val_loss: 0.5718 - val_accuracy: 0.7991\n",
            "Epoch 15/100\n",
            "1875/1875 [==============================] - 4s 2ms/step - loss: 0.5231 - accuracy: 0.8148 - val_loss: 0.5706 - val_accuracy: 0.8024\n",
            "Epoch 16/100\n",
            "1875/1875 [==============================] - 4s 2ms/step - loss: 0.5203 - accuracy: 0.8162 - val_loss: 0.5731 - val_accuracy: 0.8023\n",
            "Epoch 17/100\n",
            "1875/1875 [==============================] - 4s 2ms/step - loss: 0.5191 - accuracy: 0.8176 - val_loss: 0.5594 - val_accuracy: 0.8030\n",
            "Epoch 18/100\n",
            "1875/1875 [==============================] - 4s 2ms/step - loss: 0.5176 - accuracy: 0.8157 - val_loss: 0.5582 - val_accuracy: 0.8053\n",
            "Epoch 19/100\n",
            "1875/1875 [==============================] - 4s 2ms/step - loss: 0.5156 - accuracy: 0.8169 - val_loss: 0.5644 - val_accuracy: 0.8007\n",
            "Epoch 20/100\n",
            "1875/1875 [==============================] - 4s 2ms/step - loss: 0.5146 - accuracy: 0.8177 - val_loss: 0.5660 - val_accuracy: 0.8075\n",
            "Epoch 21/100\n",
            "1875/1875 [==============================] - 4s 2ms/step - loss: 0.5125 - accuracy: 0.8197 - val_loss: 0.5684 - val_accuracy: 0.8004\n",
            "Epoch 22/100\n",
            "1875/1875 [==============================] - 4s 2ms/step - loss: 0.5112 - accuracy: 0.8180 - val_loss: 0.5666 - val_accuracy: 0.8029\n",
            "Epoch 23/100\n",
            "1875/1875 [==============================] - 4s 2ms/step - loss: 0.5105 - accuracy: 0.8195 - val_loss: 0.5570 - val_accuracy: 0.8068\n",
            "Epoch 24/100\n",
            "1875/1875 [==============================] - 4s 2ms/step - loss: 0.5101 - accuracy: 0.8177 - val_loss: 0.5565 - val_accuracy: 0.8076\n",
            "Epoch 25/100\n",
            "1875/1875 [==============================] - 4s 2ms/step - loss: 0.5075 - accuracy: 0.8196 - val_loss: 0.5572 - val_accuracy: 0.8048\n",
            "Epoch 26/100\n",
            "1875/1875 [==============================] - 5s 3ms/step - loss: 0.5081 - accuracy: 0.8192 - val_loss: 0.5659 - val_accuracy: 0.8065\n",
            "Epoch 27/100\n",
            "1875/1875 [==============================] - 4s 2ms/step - loss: 0.5058 - accuracy: 0.8206 - val_loss: 0.5587 - val_accuracy: 0.8045\n",
            "Epoch 28/100\n",
            "1875/1875 [==============================] - 4s 2ms/step - loss: 0.5052 - accuracy: 0.8206 - val_loss: 0.5561 - val_accuracy: 0.8077\n",
            "Epoch 29/100\n",
            "1875/1875 [==============================] - 4s 2ms/step - loss: 0.5050 - accuracy: 0.8205 - val_loss: 0.5664 - val_accuracy: 0.8054\n",
            "Epoch 30/100\n",
            "1875/1875 [==============================] - 4s 2ms/step - loss: 0.5024 - accuracy: 0.8213 - val_loss: 0.5575 - val_accuracy: 0.8051\n",
            "Epoch 31/100\n",
            "1875/1875 [==============================] - 5s 3ms/step - loss: 0.5029 - accuracy: 0.8215 - val_loss: 0.5627 - val_accuracy: 0.8033\n",
            "Epoch 32/100\n",
            "1875/1875 [==============================] - 4s 2ms/step - loss: 0.5012 - accuracy: 0.8204 - val_loss: 0.5574 - val_accuracy: 0.8097\n",
            "Epoch 33/100\n",
            "1875/1875 [==============================] - 4s 2ms/step - loss: 0.4998 - accuracy: 0.8219 - val_loss: 0.5774 - val_accuracy: 0.8007\n",
            "Epoch 34/100\n",
            "1875/1875 [==============================] - 4s 2ms/step - loss: 0.4996 - accuracy: 0.8222 - val_loss: 0.5596 - val_accuracy: 0.8073\n",
            "Epoch 35/100\n",
            "1875/1875 [==============================] - 4s 2ms/step - loss: 0.4980 - accuracy: 0.8237 - val_loss: 0.5507 - val_accuracy: 0.8095\n",
            "Epoch 36/100\n",
            "1875/1875 [==============================] - 4s 2ms/step - loss: 0.4959 - accuracy: 0.8245 - val_loss: 0.5515 - val_accuracy: 0.8066\n",
            "Epoch 37/100\n",
            "1875/1875 [==============================] - 5s 2ms/step - loss: 0.4961 - accuracy: 0.8236 - val_loss: 0.5614 - val_accuracy: 0.8000\n",
            "Epoch 38/100\n",
            "1875/1875 [==============================] - 4s 2ms/step - loss: 0.4948 - accuracy: 0.8248 - val_loss: 0.5453 - val_accuracy: 0.8111\n",
            "Epoch 39/100\n",
            "1875/1875 [==============================] - 4s 2ms/step - loss: 0.4942 - accuracy: 0.8242 - val_loss: 0.5580 - val_accuracy: 0.8044\n",
            "Epoch 40/100\n",
            "1875/1875 [==============================] - 4s 2ms/step - loss: 0.4926 - accuracy: 0.8248 - val_loss: 0.5527 - val_accuracy: 0.8057\n",
            "Epoch 41/100\n",
            "1875/1875 [==============================] - 4s 2ms/step - loss: 0.4923 - accuracy: 0.8246 - val_loss: 0.5585 - val_accuracy: 0.8025\n",
            "Epoch 42/100\n",
            "1875/1875 [==============================] - 5s 2ms/step - loss: 0.4920 - accuracy: 0.8244 - val_loss: 0.5437 - val_accuracy: 0.8104\n",
            "Epoch 43/100\n",
            "1875/1875 [==============================] - 5s 2ms/step - loss: 0.4912 - accuracy: 0.8250 - val_loss: 0.5520 - val_accuracy: 0.8081\n",
            "Epoch 44/100\n",
            "1875/1875 [==============================] - 4s 2ms/step - loss: 0.4905 - accuracy: 0.8268 - val_loss: 0.5465 - val_accuracy: 0.8090\n",
            "Epoch 45/100\n",
            "1875/1875 [==============================] - 4s 2ms/step - loss: 0.4899 - accuracy: 0.8261 - val_loss: 0.5440 - val_accuracy: 0.8113\n",
            "Epoch 46/100\n",
            "1875/1875 [==============================] - 4s 2ms/step - loss: 0.4887 - accuracy: 0.8257 - val_loss: 0.5522 - val_accuracy: 0.8076\n",
            "Epoch 47/100\n",
            "1875/1875 [==============================] - 4s 2ms/step - loss: 0.4874 - accuracy: 0.8263 - val_loss: 0.5491 - val_accuracy: 0.8100\n",
            "Epoch 48/100\n",
            "1875/1875 [==============================] - 4s 2ms/step - loss: 0.4874 - accuracy: 0.8267 - val_loss: 0.5517 - val_accuracy: 0.8092\n",
            "Epoch 49/100\n",
            "1875/1875 [==============================] - 4s 2ms/step - loss: 0.4873 - accuracy: 0.8260 - val_loss: 0.5568 - val_accuracy: 0.8102\n",
            "Epoch 50/100\n",
            "1875/1875 [==============================] - 4s 2ms/step - loss: 0.4865 - accuracy: 0.8274 - val_loss: 0.5441 - val_accuracy: 0.8130\n",
            "Epoch 51/100\n",
            "1875/1875 [==============================] - 5s 2ms/step - loss: 0.4852 - accuracy: 0.8279 - val_loss: 0.5471 - val_accuracy: 0.8084\n",
            "Epoch 52/100\n",
            "1875/1875 [==============================] - 4s 2ms/step - loss: 0.4850 - accuracy: 0.8284 - val_loss: 0.5508 - val_accuracy: 0.8066\n",
            "Epoch 53/100\n",
            "1875/1875 [==============================] - 4s 2ms/step - loss: 0.4847 - accuracy: 0.8276 - val_loss: 0.5539 - val_accuracy: 0.8047\n",
            "Epoch 54/100\n",
            "1875/1875 [==============================] - 5s 2ms/step - loss: 0.4844 - accuracy: 0.8299 - val_loss: 0.5495 - val_accuracy: 0.8084\n",
            "Epoch 55/100\n",
            "1875/1875 [==============================] - 4s 2ms/step - loss: 0.4837 - accuracy: 0.8293 - val_loss: 0.5449 - val_accuracy: 0.8104\n",
            "Epoch 56/100\n",
            "1875/1875 [==============================] - 5s 3ms/step - loss: 0.4830 - accuracy: 0.8279 - val_loss: 0.5404 - val_accuracy: 0.8123\n",
            "Epoch 57/100\n",
            "1875/1875 [==============================] - 4s 2ms/step - loss: 0.4823 - accuracy: 0.8267 - val_loss: 0.5537 - val_accuracy: 0.8109\n",
            "Epoch 58/100\n",
            "1875/1875 [==============================] - 4s 2ms/step - loss: 0.4832 - accuracy: 0.8279 - val_loss: 0.5476 - val_accuracy: 0.8041\n",
            "Epoch 59/100\n",
            "1875/1875 [==============================] - 4s 2ms/step - loss: 0.4806 - accuracy: 0.8290 - val_loss: 0.5538 - val_accuracy: 0.8134\n",
            "Epoch 60/100\n",
            "1875/1875 [==============================] - 4s 2ms/step - loss: 0.4815 - accuracy: 0.8283 - val_loss: 0.5438 - val_accuracy: 0.8099\n",
            "Epoch 61/100\n",
            "1875/1875 [==============================] - 4s 2ms/step - loss: 0.4812 - accuracy: 0.8299 - val_loss: 0.5496 - val_accuracy: 0.8088\n",
            "Epoch 62/100\n",
            "1875/1875 [==============================] - 4s 2ms/step - loss: 0.4811 - accuracy: 0.8293 - val_loss: 0.5415 - val_accuracy: 0.8125\n",
            "Epoch 63/100\n",
            "1875/1875 [==============================] - 5s 3ms/step - loss: 0.4808 - accuracy: 0.8286 - val_loss: 0.5489 - val_accuracy: 0.8052\n",
            "Epoch 64/100\n",
            "1875/1875 [==============================] - 4s 2ms/step - loss: 0.4793 - accuracy: 0.8285 - val_loss: 0.5441 - val_accuracy: 0.8097\n",
            "Epoch 65/100\n",
            "1875/1875 [==============================] - 4s 2ms/step - loss: 0.4780 - accuracy: 0.8303 - val_loss: 0.5423 - val_accuracy: 0.8124\n",
            "Epoch 66/100\n",
            "1875/1875 [==============================] - 4s 2ms/step - loss: 0.4796 - accuracy: 0.8294 - val_loss: 0.5530 - val_accuracy: 0.8116\n",
            "Epoch 67/100\n",
            "1875/1875 [==============================] - 4s 2ms/step - loss: 0.4790 - accuracy: 0.8302 - val_loss: 0.5444 - val_accuracy: 0.8130\n",
            "Epoch 68/100\n",
            "1875/1875 [==============================] - 5s 2ms/step - loss: 0.4778 - accuracy: 0.8296 - val_loss: 0.5525 - val_accuracy: 0.8087\n",
            "Epoch 69/100\n",
            "1875/1875 [==============================] - 5s 2ms/step - loss: 0.4773 - accuracy: 0.8290 - val_loss: 0.5455 - val_accuracy: 0.8123\n",
            "Epoch 70/100\n",
            "1875/1875 [==============================] - 4s 2ms/step - loss: 0.4783 - accuracy: 0.8289 - val_loss: 0.5469 - val_accuracy: 0.8125\n",
            "Epoch 71/100\n",
            "1875/1875 [==============================] - 4s 2ms/step - loss: 0.4773 - accuracy: 0.8305 - val_loss: 0.5439 - val_accuracy: 0.8101\n",
            "Epoch 72/100\n",
            "1875/1875 [==============================] - 4s 2ms/step - loss: 0.4764 - accuracy: 0.8303 - val_loss: 0.5568 - val_accuracy: 0.8095\n",
            "Epoch 73/100\n",
            "1875/1875 [==============================] - 5s 2ms/step - loss: 0.4761 - accuracy: 0.8305 - val_loss: 0.5454 - val_accuracy: 0.8102\n",
            "Epoch 74/100\n",
            "1875/1875 [==============================] - 4s 2ms/step - loss: 0.4763 - accuracy: 0.8311 - val_loss: 0.5557 - val_accuracy: 0.8127\n",
            "Epoch 75/100\n",
            "1875/1875 [==============================] - 4s 2ms/step - loss: 0.4759 - accuracy: 0.8307 - val_loss: 0.5420 - val_accuracy: 0.8097\n",
            "Epoch 76/100\n",
            "1875/1875 [==============================] - 4s 2ms/step - loss: 0.4756 - accuracy: 0.8302 - val_loss: 0.5595 - val_accuracy: 0.8087\n",
            "Epoch 77/100\n",
            "1875/1875 [==============================] - 4s 2ms/step - loss: 0.4774 - accuracy: 0.8294 - val_loss: 0.5425 - val_accuracy: 0.8094\n",
            "Epoch 78/100\n",
            "1875/1875 [==============================] - 4s 2ms/step - loss: 0.4753 - accuracy: 0.8305 - val_loss: 0.5428 - val_accuracy: 0.8146\n",
            "Epoch 79/100\n",
            "1875/1875 [==============================] - 4s 2ms/step - loss: 0.4747 - accuracy: 0.8317 - val_loss: 0.5503 - val_accuracy: 0.8053\n",
            "Epoch 80/100\n",
            "1875/1875 [==============================] - 5s 3ms/step - loss: 0.4744 - accuracy: 0.8306 - val_loss: 0.5485 - val_accuracy: 0.8092\n",
            "Epoch 81/100\n",
            "1875/1875 [==============================] - 4s 2ms/step - loss: 0.4743 - accuracy: 0.8321 - val_loss: 0.5485 - val_accuracy: 0.8072\n",
            "Epoch 82/100\n",
            "1875/1875 [==============================] - 5s 2ms/step - loss: 0.4746 - accuracy: 0.8310 - val_loss: 0.5487 - val_accuracy: 0.8112\n",
            "Epoch 83/100\n",
            "1875/1875 [==============================] - 4s 2ms/step - loss: 0.4740 - accuracy: 0.8322 - val_loss: 0.5715 - val_accuracy: 0.7983\n",
            "Epoch 84/100\n",
            "1875/1875 [==============================] - 4s 2ms/step - loss: 0.4739 - accuracy: 0.8320 - val_loss: 0.5462 - val_accuracy: 0.8087\n",
            "Epoch 85/100\n",
            "1875/1875 [==============================] - 4s 2ms/step - loss: 0.4743 - accuracy: 0.8311 - val_loss: 0.5503 - val_accuracy: 0.8097\n",
            "Epoch 86/100\n",
            "1875/1875 [==============================] - 4s 2ms/step - loss: 0.4737 - accuracy: 0.8320 - val_loss: 0.5442 - val_accuracy: 0.8118\n",
            "Epoch 87/100\n",
            "1875/1875 [==============================] - 4s 2ms/step - loss: 0.4735 - accuracy: 0.8317 - val_loss: 0.5402 - val_accuracy: 0.8112\n",
            "Epoch 88/100\n",
            "1875/1875 [==============================] - 4s 2ms/step - loss: 0.4731 - accuracy: 0.8322 - val_loss: 0.5470 - val_accuracy: 0.8118\n",
            "Epoch 89/100\n",
            "1875/1875 [==============================] - 5s 2ms/step - loss: 0.4730 - accuracy: 0.8313 - val_loss: 0.5477 - val_accuracy: 0.8067\n",
            "Epoch 90/100\n",
            "1875/1875 [==============================] - 4s 2ms/step - loss: 0.4718 - accuracy: 0.8326 - val_loss: 0.5480 - val_accuracy: 0.8102\n",
            "Epoch 91/100\n",
            "1875/1875 [==============================] - 5s 2ms/step - loss: 0.4726 - accuracy: 0.8322 - val_loss: 0.5447 - val_accuracy: 0.8150\n",
            "Epoch 92/100\n",
            "1875/1875 [==============================] - 4s 2ms/step - loss: 0.4720 - accuracy: 0.8332 - val_loss: 0.5412 - val_accuracy: 0.8159\n",
            "Epoch 93/100\n",
            "1875/1875 [==============================] - 4s 2ms/step - loss: 0.4719 - accuracy: 0.8313 - val_loss: 0.5514 - val_accuracy: 0.8104\n",
            "Epoch 94/100\n",
            "1875/1875 [==============================] - 4s 2ms/step - loss: 0.4710 - accuracy: 0.8325 - val_loss: 0.5477 - val_accuracy: 0.8138\n",
            "Epoch 95/100\n",
            "1875/1875 [==============================] - 4s 2ms/step - loss: 0.4703 - accuracy: 0.8330 - val_loss: 0.5402 - val_accuracy: 0.8161\n",
            "Epoch 96/100\n",
            "1875/1875 [==============================] - 4s 2ms/step - loss: 0.4704 - accuracy: 0.8335 - val_loss: 0.5434 - val_accuracy: 0.8122\n",
            "Epoch 97/100\n",
            "1875/1875 [==============================] - 4s 2ms/step - loss: 0.4702 - accuracy: 0.8336 - val_loss: 0.5411 - val_accuracy: 0.8173\n",
            "Epoch 98/100\n",
            "1875/1875 [==============================] - 4s 2ms/step - loss: 0.4701 - accuracy: 0.8338 - val_loss: 0.5477 - val_accuracy: 0.8108\n",
            "Epoch 99/100\n",
            "1875/1875 [==============================] - 4s 2ms/step - loss: 0.4702 - accuracy: 0.8333 - val_loss: 0.5457 - val_accuracy: 0.8119\n",
            "Epoch 100/100\n",
            "1875/1875 [==============================] - 4s 2ms/step - loss: 0.4692 - accuracy: 0.8341 - val_loss: 0.5425 - val_accuracy: 0.8143\n"
          ]
        }
      ]
    },
    {
      "cell_type": "code",
      "source": [
        ""
      ],
      "metadata": {
        "id": "g8BrRrHUPXAC"
      },
      "execution_count": null,
      "outputs": []
    }
  ]
}