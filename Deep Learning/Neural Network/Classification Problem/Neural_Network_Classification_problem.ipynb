{
  "nbformat": 4,
  "nbformat_minor": 0,
  "metadata": {
    "colab": {
      "name": "Neural_Network_Classification_problem.ipynb",
      "provenance": [],
      "collapsed_sections": []
    },
    "kernelspec": {
      "name": "python3",
      "display_name": "Python 3"
    },
    "language_info": {
      "name": "python"
    }
  },
  "cells": [
    {
      "cell_type": "markdown",
      "source": [
        "# Neural Network Classification Problems\n",
        "\n",
        "* Binary Classification\n",
        "* Multiclass Classification\n",
        "* Multilabel Classification"
      ],
      "metadata": {
        "id": "wjvkRY2roraH"
      }
    },
    {
      "cell_type": "markdown",
      "source": [
        "## Binary Class Classification"
      ],
      "metadata": {
        "id": "jgPgz7-Pp1If"
      }
    },
    {
      "cell_type": "code",
      "source": [
        "import numpy as np\n",
        "import pandas as pd\n",
        "import tensorflow as tf\n",
        "import matplotlib.pyplot as plt\n",
        "from sklearn.datasets import make_circles\n",
        "\n",
        "n_samples=10000\n",
        "\n",
        "X,y= make_circles(n_samples,noise=0.03, random_state=42)"
      ],
      "metadata": {
        "id": "0vAmO06Lo8Gy"
      },
      "execution_count": 1,
      "outputs": []
    },
    {
      "cell_type": "code",
      "source": [
        "X[:5]"
      ],
      "metadata": {
        "colab": {
          "base_uri": "https://localhost:8080/"
        },
        "id": "kLHDoW9MpTn_",
        "outputId": "e30c52cb-7e48-4a66-b2cd-86fe1f39c473"
      },
      "execution_count": 2,
      "outputs": [
        {
          "output_type": "execute_result",
          "data": {
            "text/plain": [
              "array([[ 0.0464692 ,  0.82477834],\n",
              "       [ 1.00506323, -0.43335153],\n",
              "       [-0.58348442,  0.79452834],\n",
              "       [ 0.98478298, -0.32517879],\n",
              "       [ 0.82993028, -0.54722305]])"
            ]
          },
          "metadata": {},
          "execution_count": 2
        }
      ]
    },
    {
      "cell_type": "code",
      "source": [
        "y[:5]"
      ],
      "metadata": {
        "colab": {
          "base_uri": "https://localhost:8080/"
        },
        "id": "Kn0EHSXcpV_-",
        "outputId": "d6e31fd9-4a95-4bbb-ebc5-ab5132179c00"
      },
      "execution_count": 3,
      "outputs": [
        {
          "output_type": "execute_result",
          "data": {
            "text/plain": [
              "array([1, 0, 0, 0, 0])"
            ]
          },
          "metadata": {},
          "execution_count": 3
        }
      ]
    },
    {
      "cell_type": "markdown",
      "source": [
        "### Visualizing the data"
      ],
      "metadata": {
        "id": "QQIFI0XcpeeD"
      }
    },
    {
      "cell_type": "code",
      "source": [
        "circles=pd.DataFrame({\"X_0\": X[:,0], \"X_1\": X[:,1], \"label\":y})\n",
        "circles[:5]"
      ],
      "metadata": {
        "colab": {
          "base_uri": "https://localhost:8080/",
          "height": 221
        },
        "id": "fD-olcdCqBxU",
        "outputId": "8a05bdc3-6868-46dd-85ac-b1814556b81d"
      },
      "execution_count": 4,
      "outputs": [
        {
          "output_type": "execute_result",
          "data": {
            "text/plain": [
              "        X_0       X_1  label\n",
              "0  0.046469  0.824778      1\n",
              "1  1.005063 -0.433352      0\n",
              "2 -0.583484  0.794528      0\n",
              "3  0.984783 -0.325179      0\n",
              "4  0.829930 -0.547223      0"
            ],
            "text/html": [
              "\n",
              "  <div id=\"df-7802cbad-efe4-4f95-9a98-884d89749b7f\">\n",
              "    <div class=\"colab-df-container\">\n",
              "      <div>\n",
              "<style scoped>\n",
              "    .dataframe tbody tr th:only-of-type {\n",
              "        vertical-align: middle;\n",
              "    }\n",
              "\n",
              "    .dataframe tbody tr th {\n",
              "        vertical-align: top;\n",
              "    }\n",
              "\n",
              "    .dataframe thead th {\n",
              "        text-align: right;\n",
              "    }\n",
              "</style>\n",
              "<table border=\"1\" class=\"dataframe\">\n",
              "  <thead>\n",
              "    <tr style=\"text-align: right;\">\n",
              "      <th></th>\n",
              "      <th>X_0</th>\n",
              "      <th>X_1</th>\n",
              "      <th>label</th>\n",
              "    </tr>\n",
              "  </thead>\n",
              "  <tbody>\n",
              "    <tr>\n",
              "      <th>0</th>\n",
              "      <td>0.046469</td>\n",
              "      <td>0.824778</td>\n",
              "      <td>1</td>\n",
              "    </tr>\n",
              "    <tr>\n",
              "      <th>1</th>\n",
              "      <td>1.005063</td>\n",
              "      <td>-0.433352</td>\n",
              "      <td>0</td>\n",
              "    </tr>\n",
              "    <tr>\n",
              "      <th>2</th>\n",
              "      <td>-0.583484</td>\n",
              "      <td>0.794528</td>\n",
              "      <td>0</td>\n",
              "    </tr>\n",
              "    <tr>\n",
              "      <th>3</th>\n",
              "      <td>0.984783</td>\n",
              "      <td>-0.325179</td>\n",
              "      <td>0</td>\n",
              "    </tr>\n",
              "    <tr>\n",
              "      <th>4</th>\n",
              "      <td>0.829930</td>\n",
              "      <td>-0.547223</td>\n",
              "      <td>0</td>\n",
              "    </tr>\n",
              "  </tbody>\n",
              "</table>\n",
              "</div>\n",
              "      <button class=\"colab-df-convert\" onclick=\"convertToInteractive('df-7802cbad-efe4-4f95-9a98-884d89749b7f')\"\n",
              "              title=\"Convert this dataframe to an interactive table.\"\n",
              "              style=\"display:none;\">\n",
              "        \n",
              "  <svg xmlns=\"http://www.w3.org/2000/svg\" height=\"24px\"viewBox=\"0 0 24 24\"\n",
              "       width=\"24px\">\n",
              "    <path d=\"M0 0h24v24H0V0z\" fill=\"none\"/>\n",
              "    <path d=\"M18.56 5.44l.94 2.06.94-2.06 2.06-.94-2.06-.94-.94-2.06-.94 2.06-2.06.94zm-11 1L8.5 8.5l.94-2.06 2.06-.94-2.06-.94L8.5 2.5l-.94 2.06-2.06.94zm10 10l.94 2.06.94-2.06 2.06-.94-2.06-.94-.94-2.06-.94 2.06-2.06.94z\"/><path d=\"M17.41 7.96l-1.37-1.37c-.4-.4-.92-.59-1.43-.59-.52 0-1.04.2-1.43.59L10.3 9.45l-7.72 7.72c-.78.78-.78 2.05 0 2.83L4 21.41c.39.39.9.59 1.41.59.51 0 1.02-.2 1.41-.59l7.78-7.78 2.81-2.81c.8-.78.8-2.07 0-2.86zM5.41 20L4 18.59l7.72-7.72 1.47 1.35L5.41 20z\"/>\n",
              "  </svg>\n",
              "      </button>\n",
              "      \n",
              "  <style>\n",
              "    .colab-df-container {\n",
              "      display:flex;\n",
              "      flex-wrap:wrap;\n",
              "      gap: 12px;\n",
              "    }\n",
              "\n",
              "    .colab-df-convert {\n",
              "      background-color: #E8F0FE;\n",
              "      border: none;\n",
              "      border-radius: 50%;\n",
              "      cursor: pointer;\n",
              "      display: none;\n",
              "      fill: #1967D2;\n",
              "      height: 32px;\n",
              "      padding: 0 0 0 0;\n",
              "      width: 32px;\n",
              "    }\n",
              "\n",
              "    .colab-df-convert:hover {\n",
              "      background-color: #E2EBFA;\n",
              "      box-shadow: 0px 1px 2px rgba(60, 64, 67, 0.3), 0px 1px 3px 1px rgba(60, 64, 67, 0.15);\n",
              "      fill: #174EA6;\n",
              "    }\n",
              "\n",
              "    [theme=dark] .colab-df-convert {\n",
              "      background-color: #3B4455;\n",
              "      fill: #D2E3FC;\n",
              "    }\n",
              "\n",
              "    [theme=dark] .colab-df-convert:hover {\n",
              "      background-color: #434B5C;\n",
              "      box-shadow: 0px 1px 3px 1px rgba(0, 0, 0, 0.15);\n",
              "      filter: drop-shadow(0px 1px 2px rgba(0, 0, 0, 0.3));\n",
              "      fill: #FFFFFF;\n",
              "    }\n",
              "  </style>\n",
              "\n",
              "      <script>\n",
              "        const buttonEl =\n",
              "          document.querySelector('#df-7802cbad-efe4-4f95-9a98-884d89749b7f button.colab-df-convert');\n",
              "        buttonEl.style.display =\n",
              "          google.colab.kernel.accessAllowed ? 'block' : 'none';\n",
              "\n",
              "        async function convertToInteractive(key) {\n",
              "          const element = document.querySelector('#df-7802cbad-efe4-4f95-9a98-884d89749b7f');\n",
              "          const dataTable =\n",
              "            await google.colab.kernel.invokeFunction('convertToInteractive',\n",
              "                                                     [key], {});\n",
              "          if (!dataTable) return;\n",
              "\n",
              "          const docLinkHtml = 'Like what you see? Visit the ' +\n",
              "            '<a target=\"_blank\" href=https://colab.research.google.com/notebooks/data_table.ipynb>data table notebook</a>'\n",
              "            + ' to learn more about interactive tables.';\n",
              "          element.innerHTML = '';\n",
              "          dataTable['output_type'] = 'display_data';\n",
              "          await google.colab.output.renderOutput(dataTable, element);\n",
              "          const docLink = document.createElement('div');\n",
              "          docLink.innerHTML = docLinkHtml;\n",
              "          element.appendChild(docLink);\n",
              "        }\n",
              "      </script>\n",
              "    </div>\n",
              "  </div>\n",
              "  "
            ]
          },
          "metadata": {},
          "execution_count": 4
        }
      ]
    },
    {
      "cell_type": "code",
      "source": [
        "plt.scatter(X[:,0],X[:,1], c=y, cmap=plt.cm.RdYlBu)"
      ],
      "metadata": {
        "colab": {
          "base_uri": "https://localhost:8080/",
          "height": 285
        },
        "id": "nJ9puL00qNkS",
        "outputId": "3f19e6c4-2e56-4724-afe0-c214b9aea7bb"
      },
      "execution_count": 5,
      "outputs": [
        {
          "output_type": "execute_result",
          "data": {
            "text/plain": [
              "<matplotlib.collections.PathCollection at 0x7ff64e1b6990>"
            ]
          },
          "metadata": {},
          "execution_count": 5
        },
        {
          "output_type": "display_data",
          "data": {
            "text/plain": [
              "<Figure size 432x288 with 1 Axes>"
            ],
            "image/png": "[encoded data removed]"
          },
          "metadata": {
            "needs_background": "light"
          }
        }
      ]
    },
    {
      "cell_type": "code",
      "source": [
        "X.shape, y.shape"
      ],
      "metadata": {
        "colab": {
          "base_uri": "https://localhost:8080/"
        },
        "id": "VINVKSOiqn6q",
        "outputId": "ad1f878e-31ef-4e63-a091-a20045c4bf22"
      },
      "execution_count": 6,
      "outputs": [
        {
          "output_type": "execute_result",
          "data": {
            "text/plain": [
              "((10000, 2), (10000,))"
            ]
          },
          "metadata": {},
          "execution_count": 6
        }
      ]
    },
    {
      "cell_type": "code",
      "source": [
        "len(X), len(y)"
      ],
      "metadata": {
        "colab": {
          "base_uri": "https://localhost:8080/"
        },
        "id": "6Uc5Owo4vFJk",
        "outputId": "2396c9d4-a3cb-42cd-e854-a7b68026b53e"
      },
      "execution_count": 7,
      "outputs": [
        {
          "output_type": "execute_result",
          "data": {
            "text/plain": [
              "(10000, 10000)"
            ]
          },
          "metadata": {},
          "execution_count": 7
        }
      ]
    },
    {
      "cell_type": "code",
      "source": [
        "X[:5]"
      ],
      "metadata": {
        "colab": {
          "base_uri": "https://localhost:8080/"
        },
        "id": "rm1HzpeQvHcA",
        "outputId": "a8c71833-2939-4fcc-954c-a543d3ea58bc"
      },
      "execution_count": 8,
      "outputs": [
        {
          "output_type": "execute_result",
          "data": {
            "text/plain": [
              "array([[ 0.0464692 ,  0.82477834],\n",
              "       [ 1.00506323, -0.43335153],\n",
              "       [-0.58348442,  0.79452834],\n",
              "       [ 0.98478298, -0.32517879],\n",
              "       [ 0.82993028, -0.54722305]])"
            ]
          },
          "metadata": {},
          "execution_count": 8
        }
      ]
    },
    {
      "cell_type": "code",
      "source": [
        "y[:5]"
      ],
      "metadata": {
        "colab": {
          "base_uri": "https://localhost:8080/"
        },
        "id": "AmVVZtguvLMx",
        "outputId": "eeca7467-01a5-4c5d-df23-53f3655c553f"
      },
      "execution_count": 9,
      "outputs": [
        {
          "output_type": "execute_result",
          "data": {
            "text/plain": [
              "array([1, 0, 0, 0, 0])"
            ]
          },
          "metadata": {},
          "execution_count": 9
        }
      ]
    },
    {
      "cell_type": "code",
      "source": [
        "X[0], y[0]"
      ],
      "metadata": {
        "colab": {
          "base_uri": "https://localhost:8080/"
        },
        "id": "U3_oqBCBvLzJ",
        "outputId": "b7eb7130-7bf0-4b1b-eafc-234ee6cdd67a"
      },
      "execution_count": 10,
      "outputs": [
        {
          "output_type": "execute_result",
          "data": {
            "text/plain": [
              "(array([0.0464692 , 0.82477834]), 1)"
            ]
          },
          "metadata": {},
          "execution_count": 10
        }
      ]
    },
    {
      "cell_type": "code",
      "source": [
        "X[1], y[1]"
      ],
      "metadata": {
        "colab": {
          "base_uri": "https://localhost:8080/"
        },
        "id": "VSqCx73xvNkI",
        "outputId": "b051cd02-75f9-4256-cca0-dd73dd47b310"
      },
      "execution_count": 11,
      "outputs": [
        {
          "output_type": "execute_result",
          "data": {
            "text/plain": [
              "(array([ 1.00506323, -0.43335153]), 0)"
            ]
          },
          "metadata": {},
          "execution_count": 11
        }
      ]
    },
    {
      "cell_type": "code",
      "source": [
        "X[2], y[2]"
      ],
      "metadata": {
        "colab": {
          "base_uri": "https://localhost:8080/"
        },
        "id": "j1WBdJVjvS_7",
        "outputId": "8f6c6297-d7da-4e59-90dc-f570e3b37c04"
      },
      "execution_count": 12,
      "outputs": [
        {
          "output_type": "execute_result",
          "data": {
            "text/plain": [
              "(array([-0.58348442,  0.79452834]), 0)"
            ]
          },
          "metadata": {},
          "execution_count": 12
        }
      ]
    },
    {
      "cell_type": "code",
      "source": [
        "from sklearn.model_selection import train_test_split\n",
        "\n",
        "X_train,X_test, y_train, y_test= train_test_split(X,y,test_size=0.3, random_state=42)\n",
        "X_train.shape,X_test.shape, y_train.shape, y_test.shape"
      ],
      "metadata": {
        "colab": {
          "base_uri": "https://localhost:8080/"
        },
        "id": "0vDIQUkdvYrP",
        "outputId": "4ffd0cda-4bd7-492b-88c5-ad4889cf185b"
      },
      "execution_count": 13,
      "outputs": [
        {
          "output_type": "execute_result",
          "data": {
            "text/plain": [
              "((7000, 2), (3000, 2), (7000,), (3000,))"
            ]
          },
          "metadata": {},
          "execution_count": 13
        }
      ]
    },
    {
      "cell_type": "code",
      "source": [
        "model= tf.keras.Sequential([\n",
        "          tf.keras.Input(shape=(2,)),\n",
        "          tf.keras.layers.Dense(100, activation=\"relu\"),\n",
        "          tf.keras.layers.Dense(1, activation=\"sigmoid\")\n",
        "])\n",
        "\n",
        "model.compile(loss=tf.keras.losses.BinaryCrossentropy(), optimizer=tf.keras.optimizers.Adam(), metrics=[\"accuracy\"])\n",
        "\n",
        "\n",
        "history=model.fit(X_train,y_train, epochs=10)"
      ],
      "metadata": {
        "colab": {
          "base_uri": "https://localhost:8080/"
        },
        "id": "pejWQQCCv4ap",
        "outputId": "a2bbf796-00d6-4270-d72e-62d24f094f47"
      },
      "execution_count": 28,
      "outputs": [
        {
          "output_type": "stream",
          "name": "stdout",
          "text": [
            "Epoch 1/10\n",
            "219/219 [==============================] - 1s 2ms/step - loss: 0.6822 - accuracy: 0.5489\n",
            "Epoch 2/10\n",
            "219/219 [==============================] - 0s 2ms/step - loss: 0.6514 - accuracy: 0.7346\n",
            "Epoch 3/10\n",
            "219/219 [==============================] - 0s 2ms/step - loss: 0.6091 - accuracy: 0.9266\n",
            "Epoch 4/10\n",
            "219/219 [==============================] - 0s 2ms/step - loss: 0.5555 - accuracy: 0.9706\n",
            "Epoch 5/10\n",
            "219/219 [==============================] - 0s 2ms/step - loss: 0.4943 - accuracy: 0.9896\n",
            "Epoch 6/10\n",
            "219/219 [==============================] - 0s 2ms/step - loss: 0.4305 - accuracy: 0.9960\n",
            "Epoch 7/10\n",
            "219/219 [==============================] - 0s 2ms/step - loss: 0.3680 - accuracy: 0.9984\n",
            "Epoch 8/10\n",
            "219/219 [==============================] - 0s 2ms/step - loss: 0.3123 - accuracy: 0.9989\n",
            "Epoch 9/10\n",
            "219/219 [==============================] - 0s 2ms/step - loss: 0.2638 - accuracy: 0.9996\n",
            "Epoch 10/10\n",
            "219/219 [==============================] - 0s 2ms/step - loss: 0.2230 - accuracy: 0.9996\n"
          ]
        }
      ]
    },
    {
      "cell_type": "code",
      "source": [
        "model.evaluate(X_test,y_test)"
      ],
      "metadata": {
        "colab": {
          "base_uri": "https://localhost:8080/"
        },
        "id": "FEiQvw_Ywvz3",
        "outputId": "8b63bf6c-d032-4261-a8e9-fa09016eb24d"
      },
      "execution_count": 15,
      "outputs": [
        {
          "output_type": "stream",
          "name": "stdout",
          "text": [
            "94/94 [==============================] - 0s 1ms/step - loss: 0.2038 - accuracy: 0.9993\n"
          ]
        },
        {
          "output_type": "execute_result",
          "data": {
            "text/plain": [
              "[0.20384356379508972, 0.9993333220481873]"
            ]
          },
          "metadata": {},
          "execution_count": 15
        }
      ]
    },
    {
      "cell_type": "markdown",
      "source": [
        "### Non_linear Activation Function\n",
        "\n",
        "> All of the activation fuctions except the *linear* function are non-linear activation functions."
      ],
      "metadata": {
        "id": "pAcAuYEjw4JM"
      }
    },
    {
      "cell_type": "code",
      "source": [
        "model_linear= tf.keras.Sequential([\n",
        "          tf.keras.layers.Dense(1, activation=\"linear\"),\n",
        "])\n",
        "\n",
        "model_linear.compile(loss=tf.keras.losses.BinaryCrossentropy(), optimizer=tf.keras.optimizers.Adam(), metrics=[\"accuracy\"])\n",
        "\n",
        "\n",
        "history=model_linear.fit(X_train,y_train, epochs=10)"
      ],
      "metadata": {
        "colab": {
          "base_uri": "https://localhost:8080/"
        },
        "id": "kbqZEVHi0kjy",
        "outputId": "3ebc1078-19a9-4cc4-c8d2-bbac387857e2"
      },
      "execution_count": 29,
      "outputs": [
        {
          "output_type": "stream",
          "name": "stdout",
          "text": [
            "Epoch 1/10\n",
            "219/219 [==============================] - 1s 2ms/step - loss: 6.0172 - accuracy: 0.4869\n",
            "Epoch 2/10\n",
            "219/219 [==============================] - 0s 2ms/step - loss: 5.9463 - accuracy: 0.4877\n",
            "Epoch 3/10\n",
            "219/219 [==============================] - 0s 2ms/step - loss: 5.8291 - accuracy: 0.4851\n",
            "Epoch 4/10\n",
            "219/219 [==============================] - 0s 2ms/step - loss: 5.7269 - accuracy: 0.4857\n",
            "Epoch 5/10\n",
            "219/219 [==============================] - 0s 2ms/step - loss: 5.6528 - accuracy: 0.4843\n",
            "Epoch 6/10\n",
            "219/219 [==============================] - 0s 2ms/step - loss: 5.5494 - accuracy: 0.4827\n",
            "Epoch 7/10\n",
            "219/219 [==============================] - 0s 2ms/step - loss: 5.3478 - accuracy: 0.4814\n",
            "Epoch 8/10\n",
            "219/219 [==============================] - 0s 2ms/step - loss: 4.9599 - accuracy: 0.4774\n",
            "Epoch 9/10\n",
            "219/219 [==============================] - 0s 2ms/step - loss: 4.5944 - accuracy: 0.4720\n",
            "Epoch 10/10\n",
            "219/219 [==============================] - 0s 2ms/step - loss: 4.5418 - accuracy: 0.4717\n"
          ]
        }
      ]
    },
    {
      "cell_type": "code",
      "source": [
        "model_linear.evaluate(X_test,y_test)"
      ],
      "metadata": {
        "colab": {
          "base_uri": "https://localhost:8080/"
        },
        "id": "cw22-ri_1Eh9",
        "outputId": "1b5b3251-95d3-4924-cc9b-c617e58438e2"
      },
      "execution_count": 22,
      "outputs": [
        {
          "output_type": "stream",
          "name": "stdout",
          "text": [
            "94/94 [==============================] - 0s 1ms/step - loss: 0.6940 - accuracy: 0.5047\n"
          ]
        },
        {
          "output_type": "execute_result",
          "data": {
            "text/plain": [
              "[0.6940203309059143, 0.5046666860580444]"
            ]
          },
          "metadata": {},
          "execution_count": 22
        }
      ]
    },
    {
      "cell_type": "code",
      "source": [
        "model_1= tf.keras.Sequential([\n",
        "          tf.keras.layers.Dense(4, activation=\"relu\"),\n",
        "          tf.keras.layers.Dense(4, activation=\"relu\"),\n",
        "          tf.keras.layers.Dense(1, activation=\"sigmoid\")\n",
        "])\n",
        "\n",
        "model_1.compile(loss=tf.keras.losses.BinaryCrossentropy(), optimizer=tf.keras.optimizers.Adam(), metrics=[\"accuracy\"])\n",
        "\n",
        "\n",
        "history=model_1.fit(X_train,y_train, epochs=100)"
      ],
      "metadata": {
        "colab": {
          "base_uri": "https://localhost:8080/"
        },
        "id": "GMcuH_xC1W9p",
        "outputId": "11c2477c-6a09-4838-8c64-6a364f3260aa"
      },
      "execution_count": 30,
      "outputs": [
        {
          "output_type": "stream",
          "name": "stdout",
          "text": [
            "Epoch 1/100\n",
            "219/219 [==============================] - 1s 2ms/step - loss: 0.7028 - accuracy: 0.4884\n",
            "Epoch 2/100\n",
            "219/219 [==============================] - 0s 2ms/step - loss: 0.6938 - accuracy: 0.4590\n",
            "Epoch 3/100\n",
            "219/219 [==============================] - 0s 2ms/step - loss: 0.6845 - accuracy: 0.6051\n",
            "Epoch 4/100\n",
            "219/219 [==============================] - 0s 2ms/step - loss: 0.6662 - accuracy: 0.7107\n",
            "Epoch 5/100\n",
            "219/219 [==============================] - 0s 2ms/step - loss: 0.6341 - accuracy: 0.7566\n",
            "Epoch 6/100\n",
            "219/219 [==============================] - 0s 2ms/step - loss: 0.5896 - accuracy: 0.8173\n",
            "Epoch 7/100\n",
            "219/219 [==============================] - 0s 2ms/step - loss: 0.5417 - accuracy: 0.8304\n",
            "Epoch 8/100\n",
            "219/219 [==============================] - 0s 2ms/step - loss: 0.4935 - accuracy: 0.8619\n",
            "Epoch 9/100\n",
            "219/219 [==============================] - 0s 2ms/step - loss: 0.4466 - accuracy: 0.8904\n",
            "Epoch 10/100\n",
            "219/219 [==============================] - 0s 2ms/step - loss: 0.4032 - accuracy: 0.9124\n",
            "Epoch 11/100\n",
            "219/219 [==============================] - 0s 2ms/step - loss: 0.3627 - accuracy: 0.9296\n",
            "Epoch 12/100\n",
            "219/219 [==============================] - 0s 2ms/step - loss: 0.3269 - accuracy: 0.9420\n",
            "Epoch 13/100\n",
            "219/219 [==============================] - 0s 2ms/step - loss: 0.2940 - accuracy: 0.9531\n",
            "Epoch 14/100\n",
            "219/219 [==============================] - 0s 2ms/step - loss: 0.2650 - accuracy: 0.9570\n",
            "Epoch 15/100\n",
            "219/219 [==============================] - 0s 2ms/step - loss: 0.2392 - accuracy: 0.9649\n",
            "Epoch 16/100\n",
            "219/219 [==============================] - 0s 2ms/step - loss: 0.2172 - accuracy: 0.9667\n",
            "Epoch 17/100\n",
            "219/219 [==============================] - 0s 2ms/step - loss: 0.1981 - accuracy: 0.9681\n",
            "Epoch 18/100\n",
            "219/219 [==============================] - 0s 2ms/step - loss: 0.1814 - accuracy: 0.9740\n",
            "Epoch 19/100\n",
            "219/219 [==============================] - 0s 2ms/step - loss: 0.1672 - accuracy: 0.9743\n",
            "Epoch 20/100\n",
            "219/219 [==============================] - 0s 2ms/step - loss: 0.1549 - accuracy: 0.9761\n",
            "Epoch 21/100\n",
            "219/219 [==============================] - 0s 2ms/step - loss: 0.1436 - accuracy: 0.9773\n",
            "Epoch 22/100\n",
            "219/219 [==============================] - 0s 2ms/step - loss: 0.1345 - accuracy: 0.9783\n",
            "Epoch 23/100\n",
            "219/219 [==============================] - 0s 2ms/step - loss: 0.1258 - accuracy: 0.9806\n",
            "Epoch 24/100\n",
            "219/219 [==============================] - 0s 2ms/step - loss: 0.1187 - accuracy: 0.9807\n",
            "Epoch 25/100\n",
            "219/219 [==============================] - 0s 2ms/step - loss: 0.1122 - accuracy: 0.9814\n",
            "Epoch 26/100\n",
            "219/219 [==============================] - 0s 2ms/step - loss: 0.1069 - accuracy: 0.9814\n",
            "Epoch 27/100\n",
            "219/219 [==============================] - 0s 2ms/step - loss: 0.1021 - accuracy: 0.9814\n",
            "Epoch 28/100\n",
            "219/219 [==============================] - 0s 2ms/step - loss: 0.0980 - accuracy: 0.9819\n",
            "Epoch 29/100\n",
            "219/219 [==============================] - 0s 2ms/step - loss: 0.0936 - accuracy: 0.9830\n",
            "Epoch 30/100\n",
            "219/219 [==============================] - 1s 3ms/step - loss: 0.0905 - accuracy: 0.9824\n",
            "Epoch 31/100\n",
            "219/219 [==============================] - 0s 2ms/step - loss: 0.0863 - accuracy: 0.9820\n",
            "Epoch 32/100\n",
            "219/219 [==============================] - 0s 2ms/step - loss: 0.0844 - accuracy: 0.9826\n",
            "Epoch 33/100\n",
            "219/219 [==============================] - 0s 2ms/step - loss: 0.0805 - accuracy: 0.9829\n",
            "Epoch 34/100\n",
            "219/219 [==============================] - 0s 2ms/step - loss: 0.0783 - accuracy: 0.9823\n",
            "Epoch 35/100\n",
            "219/219 [==============================] - 0s 2ms/step - loss: 0.0759 - accuracy: 0.9824\n",
            "Epoch 36/100\n",
            "219/219 [==============================] - 0s 2ms/step - loss: 0.0739 - accuracy: 0.9829\n",
            "Epoch 37/100\n",
            "219/219 [==============================] - 0s 2ms/step - loss: 0.0720 - accuracy: 0.9830\n",
            "Epoch 38/100\n",
            "219/219 [==============================] - 0s 2ms/step - loss: 0.0700 - accuracy: 0.9830\n",
            "Epoch 39/100\n",
            "219/219 [==============================] - 0s 2ms/step - loss: 0.0686 - accuracy: 0.9837\n",
            "Epoch 40/100\n",
            "219/219 [==============================] - 0s 2ms/step - loss: 0.0669 - accuracy: 0.9839\n",
            "Epoch 41/100\n",
            "219/219 [==============================] - 0s 2ms/step - loss: 0.0661 - accuracy: 0.9823\n",
            "Epoch 42/100\n",
            "219/219 [==============================] - 0s 2ms/step - loss: 0.0646 - accuracy: 0.9833\n",
            "Epoch 43/100\n",
            "219/219 [==============================] - 0s 2ms/step - loss: 0.0636 - accuracy: 0.9819\n",
            "Epoch 44/100\n",
            "219/219 [==============================] - 0s 2ms/step - loss: 0.0621 - accuracy: 0.9837\n",
            "Epoch 45/100\n",
            "219/219 [==============================] - 0s 2ms/step - loss: 0.0612 - accuracy: 0.9827\n",
            "Epoch 46/100\n",
            "219/219 [==============================] - 0s 2ms/step - loss: 0.0607 - accuracy: 0.9836\n",
            "Epoch 47/100\n",
            "219/219 [==============================] - 0s 2ms/step - loss: 0.0600 - accuracy: 0.9834\n",
            "Epoch 48/100\n",
            "219/219 [==============================] - 0s 2ms/step - loss: 0.0588 - accuracy: 0.9817\n",
            "Epoch 49/100\n",
            "219/219 [==============================] - 0s 2ms/step - loss: 0.0581 - accuracy: 0.9830\n",
            "Epoch 50/100\n",
            "219/219 [==============================] - 0s 2ms/step - loss: 0.0570 - accuracy: 0.9824\n",
            "Epoch 51/100\n",
            "219/219 [==============================] - 0s 2ms/step - loss: 0.0564 - accuracy: 0.9830\n",
            "Epoch 52/100\n",
            "219/219 [==============================] - 0s 2ms/step - loss: 0.0557 - accuracy: 0.9833\n",
            "Epoch 53/100\n",
            "219/219 [==============================] - 0s 2ms/step - loss: 0.0550 - accuracy: 0.9839\n",
            "Epoch 54/100\n",
            "219/219 [==============================] - 0s 2ms/step - loss: 0.0545 - accuracy: 0.9839\n",
            "Epoch 55/100\n",
            "219/219 [==============================] - 0s 2ms/step - loss: 0.0541 - accuracy: 0.9847\n",
            "Epoch 56/100\n",
            "219/219 [==============================] - 0s 2ms/step - loss: 0.0532 - accuracy: 0.9834\n",
            "Epoch 57/100\n",
            "219/219 [==============================] - 0s 2ms/step - loss: 0.0527 - accuracy: 0.9841\n",
            "Epoch 58/100\n",
            "219/219 [==============================] - 0s 2ms/step - loss: 0.0528 - accuracy: 0.9836\n",
            "Epoch 59/100\n",
            "219/219 [==============================] - 0s 2ms/step - loss: 0.0522 - accuracy: 0.9827\n",
            "Epoch 60/100\n",
            "219/219 [==============================] - 0s 2ms/step - loss: 0.0514 - accuracy: 0.9827\n",
            "Epoch 61/100\n",
            "219/219 [==============================] - 0s 2ms/step - loss: 0.0513 - accuracy: 0.9844\n",
            "Epoch 62/100\n",
            "219/219 [==============================] - 0s 2ms/step - loss: 0.0509 - accuracy: 0.9839\n",
            "Epoch 63/100\n",
            "219/219 [==============================] - 0s 2ms/step - loss: 0.0503 - accuracy: 0.9839\n",
            "Epoch 64/100\n",
            "219/219 [==============================] - 0s 2ms/step - loss: 0.0499 - accuracy: 0.9837\n",
            "Epoch 65/100\n",
            "219/219 [==============================] - 0s 2ms/step - loss: 0.0495 - accuracy: 0.9839\n",
            "Epoch 66/100\n",
            "219/219 [==============================] - 0s 2ms/step - loss: 0.0491 - accuracy: 0.9840\n",
            "Epoch 67/100\n",
            "219/219 [==============================] - 0s 2ms/step - loss: 0.0492 - accuracy: 0.9836\n",
            "Epoch 68/100\n",
            "219/219 [==============================] - 0s 2ms/step - loss: 0.0489 - accuracy: 0.9839\n",
            "Epoch 69/100\n",
            "219/219 [==============================] - 0s 2ms/step - loss: 0.0477 - accuracy: 0.9843\n",
            "Epoch 70/100\n",
            "219/219 [==============================] - 0s 2ms/step - loss: 0.0484 - accuracy: 0.9830\n",
            "Epoch 71/100\n",
            "219/219 [==============================] - 0s 2ms/step - loss: 0.0479 - accuracy: 0.9834\n",
            "Epoch 72/100\n",
            "219/219 [==============================] - 0s 2ms/step - loss: 0.0478 - accuracy: 0.9837\n",
            "Epoch 73/100\n",
            "219/219 [==============================] - 0s 2ms/step - loss: 0.0470 - accuracy: 0.9836\n",
            "Epoch 74/100\n",
            "219/219 [==============================] - 0s 2ms/step - loss: 0.0473 - accuracy: 0.9834\n",
            "Epoch 75/100\n",
            "219/219 [==============================] - 0s 2ms/step - loss: 0.0466 - accuracy: 0.9840\n",
            "Epoch 76/100\n",
            "219/219 [==============================] - 0s 2ms/step - loss: 0.0463 - accuracy: 0.9841\n",
            "Epoch 77/100\n",
            "219/219 [==============================] - 0s 2ms/step - loss: 0.0467 - accuracy: 0.9837\n",
            "Epoch 78/100\n",
            "219/219 [==============================] - 0s 2ms/step - loss: 0.0457 - accuracy: 0.9849\n",
            "Epoch 79/100\n",
            "219/219 [==============================] - 0s 2ms/step - loss: 0.0462 - accuracy: 0.9833\n",
            "Epoch 80/100\n",
            "219/219 [==============================] - 0s 2ms/step - loss: 0.0457 - accuracy: 0.9836\n",
            "Epoch 81/100\n",
            "219/219 [==============================] - 0s 2ms/step - loss: 0.0457 - accuracy: 0.9843\n",
            "Epoch 82/100\n",
            "219/219 [==============================] - 0s 2ms/step - loss: 0.0456 - accuracy: 0.9839\n",
            "Epoch 83/100\n",
            "219/219 [==============================] - 0s 2ms/step - loss: 0.0451 - accuracy: 0.9844\n",
            "Epoch 84/100\n",
            "219/219 [==============================] - 0s 2ms/step - loss: 0.0450 - accuracy: 0.9843\n",
            "Epoch 85/100\n",
            "219/219 [==============================] - 0s 2ms/step - loss: 0.0449 - accuracy: 0.9844\n",
            "Epoch 86/100\n",
            "219/219 [==============================] - 0s 2ms/step - loss: 0.0446 - accuracy: 0.9839\n",
            "Epoch 87/100\n",
            "219/219 [==============================] - 0s 2ms/step - loss: 0.0450 - accuracy: 0.9844\n",
            "Epoch 88/100\n",
            "219/219 [==============================] - 0s 2ms/step - loss: 0.0448 - accuracy: 0.9837\n",
            "Epoch 89/100\n",
            "219/219 [==============================] - 0s 2ms/step - loss: 0.0450 - accuracy: 0.9846\n",
            "Epoch 90/100\n",
            "219/219 [==============================] - 0s 2ms/step - loss: 0.0440 - accuracy: 0.9841\n",
            "Epoch 91/100\n",
            "219/219 [==============================] - 0s 2ms/step - loss: 0.0440 - accuracy: 0.9846\n",
            "Epoch 92/100\n",
            "219/219 [==============================] - 0s 2ms/step - loss: 0.0439 - accuracy: 0.9843\n",
            "Epoch 93/100\n",
            "219/219 [==============================] - 0s 2ms/step - loss: 0.0439 - accuracy: 0.9843\n",
            "Epoch 94/100\n",
            "219/219 [==============================] - 0s 2ms/step - loss: 0.0441 - accuracy: 0.9836\n",
            "Epoch 95/100\n",
            "219/219 [==============================] - 0s 2ms/step - loss: 0.0439 - accuracy: 0.9841\n",
            "Epoch 96/100\n",
            "219/219 [==============================] - 0s 2ms/step - loss: 0.0432 - accuracy: 0.9836\n",
            "Epoch 97/100\n",
            "219/219 [==============================] - 0s 2ms/step - loss: 0.0433 - accuracy: 0.9840\n",
            "Epoch 98/100\n",
            "219/219 [==============================] - 0s 2ms/step - loss: 0.0433 - accuracy: 0.9849\n",
            "Epoch 99/100\n",
            "219/219 [==============================] - 0s 2ms/step - loss: 0.0438 - accuracy: 0.9831\n",
            "Epoch 100/100\n",
            "219/219 [==============================] - 0s 2ms/step - loss: 0.0428 - accuracy: 0.9837\n"
          ]
        }
      ]
    },
    {
      "cell_type": "code",
      "source": [
        "model_1.evaluate(X_test,y_test)"
      ],
      "metadata": {
        "colab": {
          "base_uri": "https://localhost:8080/"
        },
        "id": "uZzuYvZl5B_8",
        "outputId": "883ee967-5462-46d9-8c1b-3365c0b7d22a"
      },
      "execution_count": 24,
      "outputs": [
        {
          "output_type": "stream",
          "name": "stdout",
          "text": [
            "94/94 [==============================] - 0s 1ms/step - loss: 0.0140 - accuracy: 0.9960\n"
          ]
        },
        {
          "output_type": "execute_result",
          "data": {
            "text/plain": [
              "[0.01403262559324503, 0.9959999918937683]"
            ]
          },
          "metadata": {},
          "execution_count": 24
        }
      ]
    },
    {
      "cell_type": "markdown",
      "source": [
        "### Improving the model"
      ],
      "metadata": {
        "id": "JZpmTWT_5YKF"
      }
    },
    {
      "cell_type": "code",
      "source": [
        "model_2= tf.keras.Sequential([\n",
        "          tf.keras.layers.Dense(4, activation=\"relu\"),\n",
        "          tf.keras.layers.Dense(4, activation=\"relu\"),\n",
        "          tf.keras.layers.Dense(1, activation=\"sigmoid\")\n",
        "])\n",
        "\n",
        "model_2.compile(loss=tf.keras.losses.BinaryCrossentropy(), optimizer=tf.keras.optimizers.Adam(learning_rate=0.01), metrics=[\"accuracy\"])\n",
        "\n",
        "\n",
        "history=model_2.fit(X_train,y_train, epochs=25)"
      ],
      "metadata": {
        "colab": {
          "base_uri": "https://localhost:8080/"
        },
        "id": "wMKX3YUjAenk",
        "outputId": "efa2ebcc-2219-4243-af4a-74b168357702"
      },
      "execution_count": 36,
      "outputs": [
        {
          "output_type": "stream",
          "name": "stdout",
          "text": [
            "Epoch 1/25\n",
            "219/219 [==============================] - 1s 2ms/step - loss: 0.6882 - accuracy: 0.5230\n",
            "Epoch 2/25\n",
            "219/219 [==============================] - 0s 2ms/step - loss: 0.6465 - accuracy: 0.6069\n",
            "Epoch 3/25\n",
            "219/219 [==============================] - 0s 2ms/step - loss: 0.5953 - accuracy: 0.6539\n",
            "Epoch 4/25\n",
            "219/219 [==============================] - 0s 2ms/step - loss: 0.5760 - accuracy: 0.6693\n",
            "Epoch 5/25\n",
            "219/219 [==============================] - 0s 2ms/step - loss: 0.5648 - accuracy: 0.6804\n",
            "Epoch 6/25\n",
            "219/219 [==============================] - 0s 2ms/step - loss: 0.5499 - accuracy: 0.6983\n",
            "Epoch 7/25\n",
            "219/219 [==============================] - 0s 2ms/step - loss: 0.4704 - accuracy: 0.7733\n",
            "Epoch 8/25\n",
            "219/219 [==============================] - 0s 2ms/step - loss: 0.4129 - accuracy: 0.8186\n",
            "Epoch 9/25\n",
            "219/219 [==============================] - 0s 2ms/step - loss: 0.3631 - accuracy: 0.8486\n",
            "Epoch 10/25\n",
            "219/219 [==============================] - 0s 2ms/step - loss: 0.3172 - accuracy: 0.8769\n",
            "Epoch 11/25\n",
            "219/219 [==============================] - 0s 2ms/step - loss: 0.2950 - accuracy: 0.8846\n",
            "Epoch 12/25\n",
            "219/219 [==============================] - 0s 2ms/step - loss: 0.2560 - accuracy: 0.9071\n",
            "Epoch 13/25\n",
            "219/219 [==============================] - 0s 2ms/step - loss: 0.2258 - accuracy: 0.9226\n",
            "Epoch 14/25\n",
            "219/219 [==============================] - 0s 2ms/step - loss: 0.2174 - accuracy: 0.9183\n",
            "Epoch 15/25\n",
            "219/219 [==============================] - 0s 2ms/step - loss: 0.2089 - accuracy: 0.9207\n",
            "Epoch 16/25\n",
            "219/219 [==============================] - 0s 2ms/step - loss: 0.1883 - accuracy: 0.9274\n",
            "Epoch 17/25\n",
            "219/219 [==============================] - 0s 2ms/step - loss: 0.1618 - accuracy: 0.9400\n",
            "Epoch 18/25\n",
            "219/219 [==============================] - 0s 2ms/step - loss: 0.1459 - accuracy: 0.9481\n",
            "Epoch 19/25\n",
            "219/219 [==============================] - 0s 2ms/step - loss: 0.1409 - accuracy: 0.9503\n",
            "Epoch 20/25\n",
            "219/219 [==============================] - 1s 2ms/step - loss: 0.1436 - accuracy: 0.9459\n",
            "Epoch 21/25\n",
            "219/219 [==============================] - 0s 2ms/step - loss: 0.1363 - accuracy: 0.9490\n",
            "Epoch 22/25\n",
            "219/219 [==============================] - 0s 2ms/step - loss: 0.1227 - accuracy: 0.9600\n",
            "Epoch 23/25\n",
            "219/219 [==============================] - 0s 2ms/step - loss: 0.1239 - accuracy: 0.9556\n",
            "Epoch 24/25\n",
            "219/219 [==============================] - 0s 2ms/step - loss: 0.1103 - accuracy: 0.9627\n",
            "Epoch 25/25\n",
            "219/219 [==============================] - 0s 2ms/step - loss: 0.1116 - accuracy: 0.9626\n"
          ]
        }
      ]
    },
    {
      "cell_type": "code",
      "source": [
        "model_2.evaluate(X_test,y_test)"
      ],
      "metadata": {
        "colab": {
          "base_uri": "https://localhost:8080/"
        },
        "id": "RVz7PmWXAwcO",
        "outputId": "acde5664-2bf5-4107-fc42-ccc683b16418"
      },
      "execution_count": 37,
      "outputs": [
        {
          "output_type": "stream",
          "name": "stdout",
          "text": [
            "94/94 [==============================] - 0s 1ms/step - loss: 0.1234 - accuracy: 0.9533\n"
          ]
        },
        {
          "output_type": "execute_result",
          "data": {
            "text/plain": [
              "[0.12336252629756927, 0.95333331823349]"
            ]
          },
          "metadata": {},
          "execution_count": 37
        }
      ]
    },
    {
      "cell_type": "markdown",
      "source": [
        "### Plot the loss or training curves"
      ],
      "metadata": {
        "id": "MgqNkPzQA7RK"
      }
    },
    {
      "cell_type": "code",
      "source": [
        "history.history"
      ],
      "metadata": {
        "colab": {
          "base_uri": "https://localhost:8080/"
        },
        "id": "VLvilY_HDSas",
        "outputId": "a4c4e690-5f4a-40ea-f4f9-0ad7325afa54"
      },
      "execution_count": 38,
      "outputs": [
        {
          "output_type": "execute_result",
          "data": {
            "text/plain": [
              "{'accuracy': [0.5230000019073486,\n",
              "  0.6068571209907532,\n",
              "  0.6538571715354919,\n",
              "  0.6692857146263123,\n",
              "  0.6804285645484924,\n",
              "  0.698285698890686,\n",
              "  0.7732856869697571,\n",
              "  0.8185714483261108,\n",
              "  0.8485714197158813,\n",
              "  0.8768571615219116,\n",
              "  0.8845714330673218,\n",
              "  0.9071428775787354,\n",
              "  0.9225714206695557,\n",
              "  0.9182857275009155,\n",
              "  0.920714259147644,\n",
              "  0.9274285435676575,\n",
              "  0.9399999976158142,\n",
              "  0.9481428861618042,\n",
              "  0.9502857327461243,\n",
              "  0.9458571672439575,\n",
              "  0.9490000009536743,\n",
              "  0.9599999785423279,\n",
              "  0.9555714130401611,\n",
              "  0.9627143144607544,\n",
              "  0.9625714421272278],\n",
              " 'loss': [0.6882358193397522,\n",
              "  0.6465449333190918,\n",
              "  0.5952511429786682,\n",
              "  0.5760034918785095,\n",
              "  0.5648202896118164,\n",
              "  0.5499386787414551,\n",
              "  0.47044873237609863,\n",
              "  0.4128561019897461,\n",
              "  0.3630664348602295,\n",
              "  0.3172115087509155,\n",
              "  0.295015811920166,\n",
              "  0.2560456395149231,\n",
              "  0.22576020658016205,\n",
              "  0.21737957000732422,\n",
              "  0.2088690549135208,\n",
              "  0.18827880918979645,\n",
              "  0.16179117560386658,\n",
              "  0.14586563408374786,\n",
              "  0.14089450240135193,\n",
              "  0.14357076585292816,\n",
              "  0.13628458976745605,\n",
              "  0.12266042083501816,\n",
              "  0.12392467260360718,\n",
              "  0.11031123250722885,\n",
              "  0.11163703352212906]}"
            ]
          },
          "metadata": {},
          "execution_count": 38
        }
      ]
    },
    {
      "cell_type": "code",
      "source": [
        "pd.DataFrame(history.history)"
      ],
      "metadata": {
        "colab": {
          "base_uri": "https://localhost:8080/",
          "height": 898
        },
        "id": "UVyckjloDUDq",
        "outputId": "5e39baaf-c3fb-48fb-c5e4-09b3d5a39848"
      },
      "execution_count": 39,
      "outputs": [
        {
          "output_type": "execute_result",
          "data": {
            "text/plain": [
              "        loss  accuracy\n",
              "0   0.688236  0.523000\n",
              "1   0.646545  0.606857\n",
              "2   0.595251  0.653857\n",
              "3   0.576003  0.669286\n",
              "4   0.564820  0.680429\n",
              "5   0.549939  0.698286\n",
              "6   0.470449  0.773286\n",
              "7   0.412856  0.818571\n",
              "8   0.363066  0.848571\n",
              "9   0.317212  0.876857\n",
              "10  0.295016  0.884571\n",
              "11  0.256046  0.907143\n",
              "12  0.225760  0.922571\n",
              "13  0.217380  0.918286\n",
              "14  0.208869  0.920714\n",
              "15  0.188279  0.927429\n",
              "16  0.161791  0.940000\n",
              "17  0.145866  0.948143\n",
              "18  0.140895  0.950286\n",
              "19  0.143571  0.945857\n",
              "20  0.136285  0.949000\n",
              "21  0.122660  0.960000\n",
              "22  0.123925  0.955571\n",
              "23  0.110311  0.962714\n",
              "24  0.111637  0.962571"
            ],
            "text/html": [
              "\n",
              "  <div id=\"df-329c031e-99c9-48f4-b187-ee8124e157fa\">\n",
              "    <div class=\"colab-df-container\">\n",
              "      <div>\n",
              "<style scoped>\n",
              "    .dataframe tbody tr th:only-of-type {\n",
              "        vertical-align: middle;\n",
              "    }\n",
              "\n",
              "    .dataframe tbody tr th {\n",
              "        vertical-align: top;\n",
              "    }\n",
              "\n",
              "    .dataframe thead th {\n",
              "        text-align: right;\n",
              "    }\n",
              "</style>\n",
              "<table border=\"1\" class=\"dataframe\">\n",
              "  <thead>\n",
              "    <tr style=\"text-align: right;\">\n",
              "      <th></th>\n",
              "      <th>loss</th>\n",
              "      <th>accuracy</th>\n",
              "    </tr>\n",
              "  </thead>\n",
              "  <tbody>\n",
              "    <tr>\n",
              "      <th>0</th>\n",
              "      <td>0.688236</td>\n",
              "      <td>0.523000</td>\n",
              "    </tr>\n",
              "    <tr>\n",
              "      <th>1</th>\n",
              "      <td>0.646545</td>\n",
              "      <td>0.606857</td>\n",
              "    </tr>\n",
              "    <tr>\n",
              "      <th>2</th>\n",
              "      <td>0.595251</td>\n",
              "      <td>0.653857</td>\n",
              "    </tr>\n",
              "    <tr>\n",
              "      <th>3</th>\n",
              "      <td>0.576003</td>\n",
              "      <td>0.669286</td>\n",
              "    </tr>\n",
              "    <tr>\n",
              "      <th>4</th>\n",
              "      <td>0.564820</td>\n",
              "      <td>0.680429</td>\n",
              "    </tr>\n",
              "    <tr>\n",
              "      <th>5</th>\n",
              "      <td>0.549939</td>\n",
              "      <td>0.698286</td>\n",
              "    </tr>\n",
              "    <tr>\n",
              "      <th>6</th>\n",
              "      <td>0.470449</td>\n",
              "      <td>0.773286</td>\n",
              "    </tr>\n",
              "    <tr>\n",
              "      <th>7</th>\n",
              "      <td>0.412856</td>\n",
              "      <td>0.818571</td>\n",
              "    </tr>\n",
              "    <tr>\n",
              "      <th>8</th>\n",
              "      <td>0.363066</td>\n",
              "      <td>0.848571</td>\n",
              "    </tr>\n",
              "    <tr>\n",
              "      <th>9</th>\n",
              "      <td>0.317212</td>\n",
              "      <td>0.876857</td>\n",
              "    </tr>\n",
              "    <tr>\n",
              "      <th>10</th>\n",
              "      <td>0.295016</td>\n",
              "      <td>0.884571</td>\n",
              "    </tr>\n",
              "    <tr>\n",
              "      <th>11</th>\n",
              "      <td>0.256046</td>\n",
              "      <td>0.907143</td>\n",
              "    </tr>\n",
              "    <tr>\n",
              "      <th>12</th>\n",
              "      <td>0.225760</td>\n",
              "      <td>0.922571</td>\n",
              "    </tr>\n",
              "    <tr>\n",
              "      <th>13</th>\n",
              "      <td>0.217380</td>\n",
              "      <td>0.918286</td>\n",
              "    </tr>\n",
              "    <tr>\n",
              "      <th>14</th>\n",
              "      <td>0.208869</td>\n",
              "      <td>0.920714</td>\n",
              "    </tr>\n",
              "    <tr>\n",
              "      <th>15</th>\n",
              "      <td>0.188279</td>\n",
              "      <td>0.927429</td>\n",
              "    </tr>\n",
              "    <tr>\n",
              "      <th>16</th>\n",
              "      <td>0.161791</td>\n",
              "      <td>0.940000</td>\n",
              "    </tr>\n",
              "    <tr>\n",
              "      <th>17</th>\n",
              "      <td>0.145866</td>\n",
              "      <td>0.948143</td>\n",
              "    </tr>\n",
              "    <tr>\n",
              "      <th>18</th>\n",
              "      <td>0.140895</td>\n",
              "      <td>0.950286</td>\n",
              "    </tr>\n",
              "    <tr>\n",
              "      <th>19</th>\n",
              "      <td>0.143571</td>\n",
              "      <td>0.945857</td>\n",
              "    </tr>\n",
              "    <tr>\n",
              "      <th>20</th>\n",
              "      <td>0.136285</td>\n",
              "      <td>0.949000</td>\n",
              "    </tr>\n",
              "    <tr>\n",
              "      <th>21</th>\n",
              "      <td>0.122660</td>\n",
              "      <td>0.960000</td>\n",
              "    </tr>\n",
              "    <tr>\n",
              "      <th>22</th>\n",
              "      <td>0.123925</td>\n",
              "      <td>0.955571</td>\n",
              "    </tr>\n",
              "    <tr>\n",
              "      <th>23</th>\n",
              "      <td>0.110311</td>\n",
              "      <td>0.962714</td>\n",
              "    </tr>\n",
              "    <tr>\n",
              "      <th>24</th>\n",
              "      <td>0.111637</td>\n",
              "      <td>0.962571</td>\n",
              "    </tr>\n",
              "  </tbody>\n",
              "</table>\n",
              "</div>\n",
              "      <button class=\"colab-df-convert\" onclick=\"convertToInteractive('df-329c031e-99c9-48f4-b187-ee8124e157fa')\"\n",
              "              title=\"Convert this dataframe to an interactive table.\"\n",
              "              style=\"display:none;\">\n",
              "        \n",
              "  <svg xmlns=\"http://www.w3.org/2000/svg\" height=\"24px\"viewBox=\"0 0 24 24\"\n",
              "       width=\"24px\">\n",
              "    <path d=\"M0 0h24v24H0V0z\" fill=\"none\"/>\n",
              "    <path d=\"M18.56 5.44l.94 2.06.94-2.06 2.06-.94-2.06-.94-.94-2.06-.94 2.06-2.06.94zm-11 1L8.5 8.5l.94-2.06 2.06-.94-2.06-.94L8.5 2.5l-.94 2.06-2.06.94zm10 10l.94 2.06.94-2.06 2.06-.94-2.06-.94-.94-2.06-.94 2.06-2.06.94z\"/><path d=\"M17.41 7.96l-1.37-1.37c-.4-.4-.92-.59-1.43-.59-.52 0-1.04.2-1.43.59L10.3 9.45l-7.72 7.72c-.78.78-.78 2.05 0 2.83L4 21.41c.39.39.9.59 1.41.59.51 0 1.02-.2 1.41-.59l7.78-7.78 2.81-2.81c.8-.78.8-2.07 0-2.86zM5.41 20L4 18.59l7.72-7.72 1.47 1.35L5.41 20z\"/>\n",
              "  </svg>\n",
              "      </button>\n",
              "      \n",
              "  <style>\n",
              "    .colab-df-container {\n",
              "      display:flex;\n",
              "      flex-wrap:wrap;\n",
              "      gap: 12px;\n",
              "    }\n",
              "\n",
              "    .colab-df-convert {\n",
              "      background-color: #E8F0FE;\n",
              "      border: none;\n",
              "      border-radius: 50%;\n",
              "      cursor: pointer;\n",
              "      display: none;\n",
              "      fill: #1967D2;\n",
              "      height: 32px;\n",
              "      padding: 0 0 0 0;\n",
              "      width: 32px;\n",
              "    }\n",
              "\n",
              "    .colab-df-convert:hover {\n",
              "      background-color: #E2EBFA;\n",
              "      box-shadow: 0px 1px 2px rgba(60, 64, 67, 0.3), 0px 1px 3px 1px rgba(60, 64, 67, 0.15);\n",
              "      fill: #174EA6;\n",
              "    }\n",
              "\n",
              "    [theme=dark] .colab-df-convert {\n",
              "      background-color: #3B4455;\n",
              "      fill: #D2E3FC;\n",
              "    }\n",
              "\n",
              "    [theme=dark] .colab-df-convert:hover {\n",
              "      background-color: #434B5C;\n",
              "      box-shadow: 0px 1px 3px 1px rgba(0, 0, 0, 0.15);\n",
              "      filter: drop-shadow(0px 1px 2px rgba(0, 0, 0, 0.3));\n",
              "      fill: #FFFFFF;\n",
              "    }\n",
              "  </style>\n",
              "\n",
              "      <script>\n",
              "        const buttonEl =\n",
              "          document.querySelector('#df-329c031e-99c9-48f4-b187-ee8124e157fa button.colab-df-convert');\n",
              "        buttonEl.style.display =\n",
              "          google.colab.kernel.accessAllowed ? 'block' : 'none';\n",
              "\n",
              "        async function convertToInteractive(key) {\n",
              "          const element = document.querySelector('#df-329c031e-99c9-48f4-b187-ee8124e157fa');\n",
              "          const dataTable =\n",
              "            await google.colab.kernel.invokeFunction('convertToInteractive',\n",
              "                                                     [key], {});\n",
              "          if (!dataTable) return;\n",
              "\n",
              "          const docLinkHtml = 'Like what you see? Visit the ' +\n",
              "            '<a target=\"_blank\" href=https://colab.research.google.com/notebooks/data_table.ipynb>data table notebook</a>'\n",
              "            + ' to learn more about interactive tables.';\n",
              "          element.innerHTML = '';\n",
              "          dataTable['output_type'] = 'display_data';\n",
              "          await google.colab.output.renderOutput(dataTable, element);\n",
              "          const docLink = document.createElement('div');\n",
              "          docLink.innerHTML = docLinkHtml;\n",
              "          element.appendChild(docLink);\n",
              "        }\n",
              "      </script>\n",
              "    </div>\n",
              "  </div>\n",
              "  "
            ]
          },
          "metadata": {},
          "execution_count": 39
        }
      ]
    },
    {
      "cell_type": "code",
      "source": [
        "pd.DataFrame(history.history).plot()\n",
        "plt.title(\"Model_2 Loss Curve\")"
      ],
      "metadata": {
        "colab": {
          "base_uri": "https://localhost:8080/",
          "height": 301
        },
        "id": "_mimUeCVDZnn",
        "outputId": "a93d5f92-4642-4f97-b1c1-e927debbba6d"
      },
      "execution_count": 41,
      "outputs": [
        {
          "output_type": "execute_result",
          "data": {
            "text/plain": [
              "Text(0.5, 1.0, 'Model_2 Loss Curve')"
            ]
          },
          "metadata": {},
          "execution_count": 41
        },
        {
          "output_type": "display_data",
          "data": {
            "text/plain": [
              "<Figure size 432x288 with 1 Axes>"
            ],
            "image/png": "[encoded data removed]"
          },
          "metadata": {
            "needs_background": "light"
          }
        }
      ]
    },
    {
      "cell_type": "markdown",
      "source": [
        "### Find the ideal/best learning rate\n",
        "\n",
        "**Steps**\n",
        "\n",
        "* Learning rate **callback** is an extra piece of functionality, which we can add *while* the model is training.\n",
        "\n",
        "* Build another model\n",
        "\n",
        "* Modified lost curve plot"
      ],
      "metadata": {
        "id": "nVWQKEFhDzql"
      }
    },
    {
      "cell_type": "code",
      "source": [
        "tf.random.set_seed(42)\n",
        "\n",
        "model_3=tf.keras.Sequential([\n",
        "            tf.keras.layers.Dense(4, activation=\"relu\"),\n",
        "            tf.keras.layers.Dense(4, activation=\"relu\"),\n",
        "            tf.keras.layers.Dense(1, activation=\"sigmoid\"),\n",
        "])\n",
        "\n",
        "model_3.compile(loss=\"binary_crossentropy\", optimizer=\"Adam\", metrics=[\"accuracy\"])\n",
        "\n",
        "lr_callback=tf.keras.callbacks.LearningRateScheduler(lambda epoch: 1e-4 * 10**(epoch/20))\n",
        "\n",
        "history_3=model_3.fit(X_train,y_train, epochs=100, callbacks=[lr_callback])"
      ],
      "metadata": {
        "colab": {
          "base_uri": "https://localhost:8080/"
        },
        "id": "8gGd8fmLEw9K",
        "outputId": "13b02ade-0fb9-43c5-ba58-27e2ba745112"
      },
      "execution_count": 49,
      "outputs": [
        {
          "output_type": "stream",
          "name": "stdout",
          "text": [
            "Epoch 1/100\n",
            "219/219 [==============================] - 1s 2ms/step - loss: 0.6913 - accuracy: 0.4989 - lr: 1.0000e-04\n",
            "Epoch 2/100\n",
            "219/219 [==============================] - 0s 2ms/step - loss: 0.6871 - accuracy: 0.5046 - lr: 1.1220e-04\n",
            "Epoch 3/100\n",
            "219/219 [==============================] - 0s 2ms/step - loss: 0.6843 - accuracy: 0.5221 - lr: 1.2589e-04\n",
            "Epoch 4/100\n",
            "219/219 [==============================] - 0s 2ms/step - loss: 0.6824 - accuracy: 0.5264 - lr: 1.4125e-04\n",
            "Epoch 5/100\n",
            "219/219 [==============================] - 0s 2ms/step - loss: 0.6811 - accuracy: 0.5334 - lr: 1.5849e-04\n",
            "Epoch 6/100\n",
            "219/219 [==============================] - 0s 2ms/step - loss: 0.6801 - accuracy: 0.5361 - lr: 1.7783e-04\n",
            "Epoch 7/100\n",
            "219/219 [==============================] - 0s 2ms/step - loss: 0.6791 - accuracy: 0.5449 - lr: 1.9953e-04\n",
            "Epoch 8/100\n",
            "219/219 [==============================] - 0s 2ms/step - loss: 0.6781 - accuracy: 0.5494 - lr: 2.2387e-04\n",
            "Epoch 9/100\n",
            "219/219 [==============================] - 0s 2ms/step - loss: 0.6771 - accuracy: 0.5521 - lr: 2.5119e-04\n",
            "Epoch 10/100\n",
            "219/219 [==============================] - 0s 2ms/step - loss: 0.6759 - accuracy: 0.5536 - lr: 2.8184e-04\n",
            "Epoch 11/100\n",
            "219/219 [==============================] - 0s 2ms/step - loss: 0.6746 - accuracy: 0.5546 - lr: 3.1623e-04\n",
            "Epoch 12/100\n",
            "219/219 [==============================] - 0s 2ms/step - loss: 0.6731 - accuracy: 0.5579 - lr: 3.5481e-04\n",
            "Epoch 13/100\n",
            "219/219 [==============================] - 0s 2ms/step - loss: 0.6714 - accuracy: 0.5587 - lr: 3.9811e-04\n",
            "Epoch 14/100\n",
            "219/219 [==============================] - 0s 2ms/step - loss: 0.6696 - accuracy: 0.5604 - lr: 4.4668e-04\n",
            "Epoch 15/100\n",
            "219/219 [==============================] - 0s 2ms/step - loss: 0.6674 - accuracy: 0.5653 - lr: 5.0119e-04\n",
            "Epoch 16/100\n",
            "219/219 [==============================] - 0s 2ms/step - loss: 0.6651 - accuracy: 0.5653 - lr: 5.6234e-04\n",
            "Epoch 17/100\n",
            "219/219 [==============================] - 0s 2ms/step - loss: 0.6623 - accuracy: 0.5709 - lr: 6.3096e-04\n",
            "Epoch 18/100\n",
            "219/219 [==============================] - 0s 2ms/step - loss: 0.6589 - accuracy: 0.5791 - lr: 7.0795e-04\n",
            "Epoch 19/100\n",
            "219/219 [==============================] - 0s 2ms/step - loss: 0.6539 - accuracy: 0.5866 - lr: 7.9433e-04\n",
            "Epoch 20/100\n",
            "219/219 [==============================] - 0s 2ms/step - loss: 0.6438 - accuracy: 0.6060 - lr: 8.9125e-04\n",
            "Epoch 21/100\n",
            "219/219 [==============================] - 0s 2ms/step - loss: 0.6279 - accuracy: 0.6654 - lr: 0.0010\n",
            "Epoch 22/100\n",
            "219/219 [==============================] - 0s 2ms/step - loss: 0.6017 - accuracy: 0.7313 - lr: 0.0011\n",
            "Epoch 23/100\n",
            "219/219 [==============================] - 0s 2ms/step - loss: 0.5510 - accuracy: 0.7783 - lr: 0.0013\n",
            "Epoch 24/100\n",
            "219/219 [==============================] - 0s 2ms/step - loss: 0.4770 - accuracy: 0.8870 - lr: 0.0014\n",
            "Epoch 25/100\n",
            "219/219 [==============================] - 0s 2ms/step - loss: 0.3745 - accuracy: 0.9690 - lr: 0.0016\n",
            "Epoch 26/100\n",
            "219/219 [==============================] - 0s 2ms/step - loss: 0.2847 - accuracy: 0.9860 - lr: 0.0018\n",
            "Epoch 27/100\n",
            "219/219 [==============================] - 0s 2ms/step - loss: 0.2121 - accuracy: 0.9901 - lr: 0.0020\n",
            "Epoch 28/100\n",
            "219/219 [==============================] - 0s 2ms/step - loss: 0.1598 - accuracy: 0.9913 - lr: 0.0022\n",
            "Epoch 29/100\n",
            "219/219 [==============================] - 0s 2ms/step - loss: 0.1222 - accuracy: 0.9914 - lr: 0.0025\n",
            "Epoch 30/100\n",
            "219/219 [==============================] - 0s 2ms/step - loss: 0.0965 - accuracy: 0.9926 - lr: 0.0028\n",
            "Epoch 31/100\n",
            "219/219 [==============================] - 0s 2ms/step - loss: 0.0782 - accuracy: 0.9914 - lr: 0.0032\n",
            "Epoch 32/100\n",
            "219/219 [==============================] - 0s 2ms/step - loss: 0.0633 - accuracy: 0.9936 - lr: 0.0035\n",
            "Epoch 33/100\n",
            "219/219 [==============================] - 0s 2ms/step - loss: 0.0536 - accuracy: 0.9930 - lr: 0.0040\n",
            "Epoch 34/100\n",
            "219/219 [==============================] - 0s 2ms/step - loss: 0.0461 - accuracy: 0.9930 - lr: 0.0045\n",
            "Epoch 35/100\n",
            "219/219 [==============================] - 0s 2ms/step - loss: 0.0408 - accuracy: 0.9920 - lr: 0.0050\n",
            "Epoch 36/100\n",
            "219/219 [==============================] - 0s 2ms/step - loss: 0.0364 - accuracy: 0.9917 - lr: 0.0056\n",
            "Epoch 37/100\n",
            "219/219 [==============================] - 0s 2ms/step - loss: 0.0349 - accuracy: 0.9910 - lr: 0.0063\n",
            "Epoch 38/100\n",
            "219/219 [==============================] - 0s 2ms/step - loss: 0.0337 - accuracy: 0.9910 - lr: 0.0071\n",
            "Epoch 39/100\n",
            "219/219 [==============================] - 0s 2ms/step - loss: 0.0302 - accuracy: 0.9919 - lr: 0.0079\n",
            "Epoch 40/100\n",
            "219/219 [==============================] - 0s 2ms/step - loss: 0.0328 - accuracy: 0.9907 - lr: 0.0089\n",
            "Epoch 41/100\n",
            "219/219 [==============================] - 0s 2ms/step - loss: 0.0268 - accuracy: 0.9917 - lr: 0.0100\n",
            "Epoch 42/100\n",
            "219/219 [==============================] - 0s 2ms/step - loss: 0.0373 - accuracy: 0.9871 - lr: 0.0112\n",
            "Epoch 43/100\n",
            "219/219 [==============================] - 0s 2ms/step - loss: 0.0363 - accuracy: 0.9869 - lr: 0.0126\n",
            "Epoch 44/100\n",
            "219/219 [==============================] - 0s 2ms/step - loss: 0.0344 - accuracy: 0.9876 - lr: 0.0141\n",
            "Epoch 45/100\n",
            "219/219 [==============================] - 0s 2ms/step - loss: 0.0431 - accuracy: 0.9839 - lr: 0.0158\n",
            "Epoch 46/100\n",
            "219/219 [==============================] - 0s 2ms/step - loss: 0.0500 - accuracy: 0.9806 - lr: 0.0178\n",
            "Epoch 47/100\n",
            "219/219 [==============================] - 0s 2ms/step - loss: 0.0424 - accuracy: 0.9864 - lr: 0.0200\n",
            "Epoch 48/100\n",
            "219/219 [==============================] - 0s 2ms/step - loss: 0.0414 - accuracy: 0.9846 - lr: 0.0224\n",
            "Epoch 49/100\n",
            "219/219 [==============================] - 0s 2ms/step - loss: 0.0366 - accuracy: 0.9867 - lr: 0.0251\n",
            "Epoch 50/100\n",
            "219/219 [==============================] - 0s 2ms/step - loss: 0.0546 - accuracy: 0.9789 - lr: 0.0282\n",
            "Epoch 51/100\n",
            "219/219 [==============================] - 0s 2ms/step - loss: 0.0537 - accuracy: 0.9800 - lr: 0.0316\n",
            "Epoch 52/100\n",
            "219/219 [==============================] - 0s 2ms/step - loss: 0.0763 - accuracy: 0.9714 - lr: 0.0355\n",
            "Epoch 53/100\n",
            "219/219 [==============================] - 0s 2ms/step - loss: 0.0480 - accuracy: 0.9833 - lr: 0.0398\n",
            "Epoch 54/100\n",
            "219/219 [==============================] - 0s 2ms/step - loss: 0.0597 - accuracy: 0.9793 - lr: 0.0447\n",
            "Epoch 55/100\n",
            "219/219 [==============================] - 0s 2ms/step - loss: 0.0699 - accuracy: 0.9721 - lr: 0.0501\n",
            "Epoch 56/100\n",
            "219/219 [==============================] - 0s 2ms/step - loss: 0.0605 - accuracy: 0.9796 - lr: 0.0562\n",
            "Epoch 57/100\n",
            "219/219 [==============================] - 0s 2ms/step - loss: 0.0325 - accuracy: 0.9880 - lr: 0.0631\n",
            "Epoch 58/100\n",
            "219/219 [==============================] - 0s 2ms/step - loss: 0.0465 - accuracy: 0.9830 - lr: 0.0708\n",
            "Epoch 59/100\n",
            "219/219 [==============================] - 0s 2ms/step - loss: 0.0494 - accuracy: 0.9820 - lr: 0.0794\n",
            "Epoch 60/100\n",
            "219/219 [==============================] - 0s 2ms/step - loss: 0.0347 - accuracy: 0.9870 - lr: 0.0891\n",
            "Epoch 61/100\n",
            "219/219 [==============================] - 0s 2ms/step - loss: 0.0336 - accuracy: 0.9879 - lr: 0.1000\n",
            "Epoch 62/100\n",
            "219/219 [==============================] - 0s 2ms/step - loss: 0.1074 - accuracy: 0.9630 - lr: 0.1122\n",
            "Epoch 63/100\n",
            "219/219 [==============================] - 0s 2ms/step - loss: 0.0455 - accuracy: 0.9853 - lr: 0.1259\n",
            "Epoch 64/100\n",
            "219/219 [==============================] - 0s 2ms/step - loss: 0.0522 - accuracy: 0.9819 - lr: 0.1413\n",
            "Epoch 65/100\n",
            "219/219 [==============================] - 0s 2ms/step - loss: 0.0749 - accuracy: 0.9729 - lr: 0.1585\n",
            "Epoch 66/100\n",
            "219/219 [==============================] - 0s 2ms/step - loss: 0.0851 - accuracy: 0.9671 - lr: 0.1778\n",
            "Epoch 67/100\n",
            "219/219 [==============================] - 0s 2ms/step - loss: 0.0561 - accuracy: 0.9793 - lr: 0.1995\n",
            "Epoch 68/100\n",
            "219/219 [==============================] - 0s 2ms/step - loss: 0.0541 - accuracy: 0.9789 - lr: 0.2239\n",
            "Epoch 69/100\n",
            "219/219 [==============================] - 0s 2ms/step - loss: 0.0839 - accuracy: 0.9694 - lr: 0.2512\n",
            "Epoch 70/100\n",
            "219/219 [==============================] - 0s 2ms/step - loss: 0.0583 - accuracy: 0.9767 - lr: 0.2818\n",
            "Epoch 71/100\n",
            "219/219 [==============================] - 0s 2ms/step - loss: 0.1416 - accuracy: 0.9534 - lr: 0.3162\n",
            "Epoch 72/100\n",
            "219/219 [==============================] - 0s 2ms/step - loss: 0.1082 - accuracy: 0.9640 - lr: 0.3548\n",
            "Epoch 73/100\n",
            "219/219 [==============================] - 0s 2ms/step - loss: 0.2591 - accuracy: 0.8897 - lr: 0.3981\n",
            "Epoch 74/100\n",
            "219/219 [==============================] - 0s 2ms/step - loss: 0.0971 - accuracy: 0.9657 - lr: 0.4467\n",
            "Epoch 75/100\n",
            "219/219 [==============================] - 0s 2ms/step - loss: 0.1589 - accuracy: 0.9447 - lr: 0.5012\n",
            "Epoch 76/100\n",
            "219/219 [==============================] - 0s 2ms/step - loss: 0.3061 - accuracy: 0.8837 - lr: 0.5623\n",
            "Epoch 77/100\n",
            "219/219 [==============================] - 0s 2ms/step - loss: 0.2425 - accuracy: 0.9109 - lr: 0.6310\n",
            "Epoch 78/100\n",
            "219/219 [==============================] - 0s 2ms/step - loss: 0.6400 - accuracy: 0.6451 - lr: 0.7079\n",
            "Epoch 79/100\n",
            "219/219 [==============================] - 0s 2ms/step - loss: 0.7116 - accuracy: 0.5004 - lr: 0.7943\n",
            "Epoch 80/100\n",
            "219/219 [==============================] - 0s 2ms/step - loss: 0.7049 - accuracy: 0.5081 - lr: 0.8913\n",
            "Epoch 81/100\n",
            "219/219 [==============================] - 0s 2ms/step - loss: 0.7113 - accuracy: 0.5087 - lr: 1.0000\n",
            "Epoch 82/100\n",
            "219/219 [==============================] - 0s 2ms/step - loss: 0.7157 - accuracy: 0.4981 - lr: 1.1220\n",
            "Epoch 83/100\n",
            "219/219 [==============================] - 0s 2ms/step - loss: 0.7121 - accuracy: 0.5047 - lr: 1.2589\n",
            "Epoch 84/100\n",
            "219/219 [==============================] - 0s 2ms/step - loss: 0.7249 - accuracy: 0.5019 - lr: 1.4125\n",
            "Epoch 85/100\n",
            "219/219 [==============================] - 0s 2ms/step - loss: 0.7259 - accuracy: 0.4996 - lr: 1.5849\n",
            "Epoch 86/100\n",
            "219/219 [==============================] - 0s 2ms/step - loss: 0.7333 - accuracy: 0.5030 - lr: 1.7783\n",
            "Epoch 87/100\n",
            "219/219 [==============================] - 0s 2ms/step - loss: 0.7169 - accuracy: 0.5056 - lr: 1.9953\n",
            "Epoch 88/100\n",
            "219/219 [==============================] - 0s 2ms/step - loss: 0.7273 - accuracy: 0.5036 - lr: 2.2387\n",
            "Epoch 89/100\n",
            "219/219 [==============================] - 0s 2ms/step - loss: 0.7458 - accuracy: 0.5019 - lr: 2.5119\n",
            "Epoch 90/100\n",
            "219/219 [==============================] - 0s 2ms/step - loss: 0.7527 - accuracy: 0.4953 - lr: 2.8184\n",
            "Epoch 91/100\n",
            "219/219 [==============================] - 0s 2ms/step - loss: 0.7312 - accuracy: 0.5013 - lr: 3.1623\n",
            "Epoch 92/100\n",
            "219/219 [==============================] - 0s 2ms/step - loss: 0.7153 - accuracy: 0.5070 - lr: 3.5481\n",
            "Epoch 93/100\n",
            "219/219 [==============================] - 0s 2ms/step - loss: 0.7506 - accuracy: 0.5024 - lr: 3.9811\n",
            "Epoch 94/100\n",
            "219/219 [==============================] - 0s 2ms/step - loss: 0.7577 - accuracy: 0.4953 - lr: 4.4668\n",
            "Epoch 95/100\n",
            "219/219 [==============================] - 0s 2ms/step - loss: 0.7804 - accuracy: 0.5016 - lr: 5.0119\n",
            "Epoch 96/100\n",
            "219/219 [==============================] - 0s 2ms/step - loss: 0.7579 - accuracy: 0.5141 - lr: 5.6234\n",
            "Epoch 97/100\n",
            "219/219 [==============================] - 0s 2ms/step - loss: 0.7838 - accuracy: 0.5013 - lr: 6.3096\n",
            "Epoch 98/100\n",
            "219/219 [==============================] - 0s 2ms/step - loss: 0.8133 - accuracy: 0.4904 - lr: 7.0795\n",
            "Epoch 99/100\n",
            "219/219 [==============================] - 0s 2ms/step - loss: 0.8147 - accuracy: 0.4999 - lr: 7.9433\n",
            "Epoch 100/100\n",
            "219/219 [==============================] - 0s 2ms/step - loss: 0.7958 - accuracy: 0.5064 - lr: 8.9125\n"
          ]
        }
      ]
    },
    {
      "cell_type": "code",
      "source": [
        "model_3.evaluate(X_test,y_test)"
      ],
      "metadata": {
        "colab": {
          "base_uri": "https://localhost:8080/"
        },
        "id": "nD1R-UjgGdIT",
        "outputId": "d106fb47-37ec-4c7a-bf4a-31448aef24e0"
      },
      "execution_count": 50,
      "outputs": [
        {
          "output_type": "stream",
          "name": "stdout",
          "text": [
            "94/94 [==============================] - 0s 1ms/step - loss: 1.0935 - accuracy: 0.4870\n"
          ]
        },
        {
          "output_type": "execute_result",
          "data": {
            "text/plain": [
              "[1.0934902429580688, 0.4869999885559082]"
            ]
          },
          "metadata": {},
          "execution_count": 50
        }
      ]
    },
    {
      "cell_type": "code",
      "source": [
        "pd.DataFrame(history_3.history).plot(figsize=(10,7), xlabel=\"epochs\")"
      ],
      "metadata": {
        "colab": {
          "base_uri": "https://localhost:8080/",
          "height": 462
        },
        "id": "dyBEWTbBGmY5",
        "outputId": "be369a2c-8784-4f3c-b738-56dcc0453938"
      },
      "execution_count": 51,
      "outputs": [
        {
          "output_type": "execute_result",
          "data": {
            "text/plain": [
              "<matplotlib.axes._subplots.AxesSubplot at 0x7ff64060b650>"
            ]
          },
          "metadata": {},
          "execution_count": 51
        },
        {
          "output_type": "display_data",
          "data": {
            "text/plain": [
              "<Figure size 720x504 with 1 Axes>"
            ],
            "image/png": "[encoded data removed]"
          },
          "metadata": {
            "needs_background": "light"
          }
        }
      ]
    },
    {
      "cell_type": "markdown",
      "source": [
        "### Learning rate VS Loss"
      ],
      "metadata": {
        "id": "i3RQ8iSgGyqd"
      }
    },
    {
      "cell_type": "code",
      "source": [
        "lrs=  1e-4 *(10** (tf.range(100)/20))\n",
        "lrs"
      ],
      "metadata": {
        "colab": {
          "base_uri": "https://localhost:8080/"
        },
        "id": "ysAtrLtfUPIG",
        "outputId": "2af78347-fccb-4664-e73b-a401202e83f4"
      },
      "execution_count": 53,
      "outputs": [
        {
          "output_type": "execute_result",
          "data": {
            "text/plain": [
              "<tf.Tensor: shape=(100,), dtype=float64, numpy=\n",
              "array([1.00000000e-04, 1.12201845e-04, 1.25892541e-04, 1.41253754e-04,\n",
              "       1.58489319e-04, 1.77827941e-04, 1.99526231e-04, 2.23872114e-04,\n",
              "       2.51188643e-04, 2.81838293e-04, 3.16227766e-04, 3.54813389e-04,\n",
              "       3.98107171e-04, 4.46683592e-04, 5.01187234e-04, 5.62341325e-04,\n",
              "       6.30957344e-04, 7.07945784e-04, 7.94328235e-04, 8.91250938e-04,\n",
              "       1.00000000e-03, 1.12201845e-03, 1.25892541e-03, 1.41253754e-03,\n",
              "       1.58489319e-03, 1.77827941e-03, 1.99526231e-03, 2.23872114e-03,\n",
              "       2.51188643e-03, 2.81838293e-03, 3.16227766e-03, 3.54813389e-03,\n",
              "       3.98107171e-03, 4.46683592e-03, 5.01187234e-03, 5.62341325e-03,\n",
              "       6.30957344e-03, 7.07945784e-03, 7.94328235e-03, 8.91250938e-03,\n",
              "       1.00000000e-02, 1.12201845e-02, 1.25892541e-02, 1.41253754e-02,\n",
              "       1.58489319e-02, 1.77827941e-02, 1.99526231e-02, 2.23872114e-02,\n",
              "       2.51188643e-02, 2.81838293e-02, 3.16227766e-02, 3.54813389e-02,\n",
              "       3.98107171e-02, 4.46683592e-02, 5.01187234e-02, 5.62341325e-02,\n",
              "       6.30957344e-02, 7.07945784e-02, 7.94328235e-02, 8.91250938e-02,\n",
              "       1.00000000e-01, 1.12201845e-01, 1.25892541e-01, 1.41253754e-01,\n",
              "       1.58489319e-01, 1.77827941e-01, 1.99526231e-01, 2.23872114e-01,\n",
              "       2.51188643e-01, 2.81838293e-01, 3.16227766e-01, 3.54813389e-01,\n",
              "       3.98107171e-01, 4.46683592e-01, 5.01187234e-01, 5.62341325e-01,\n",
              "       6.30957344e-01, 7.07945784e-01, 7.94328235e-01, 8.91250938e-01,\n",
              "       1.00000000e+00, 1.12201845e+00, 1.25892541e+00, 1.41253754e+00,\n",
              "       1.58489319e+00, 1.77827941e+00, 1.99526231e+00, 2.23872114e+00,\n",
              "       2.51188643e+00, 2.81838293e+00, 3.16227766e+00, 3.54813389e+00,\n",
              "       3.98107171e+00, 4.46683592e+00, 5.01187234e+00, 5.62341325e+00,\n",
              "       6.30957344e+00, 7.07945784e+00, 7.94328235e+00, 8.91250938e+00])>"
            ]
          },
          "metadata": {},
          "execution_count": 53
        }
      ]
    },
    {
      "cell_type": "code",
      "source": [
        "len(lrs)"
      ],
      "metadata": {
        "colab": {
          "base_uri": "https://localhost:8080/"
        },
        "id": "GEOloDzvUUTB",
        "outputId": "a26052f5-1037-4091-ad76-3e841a30d5ea"
      },
      "execution_count": 54,
      "outputs": [
        {
          "output_type": "execute_result",
          "data": {
            "text/plain": [
              "100"
            ]
          },
          "metadata": {},
          "execution_count": 54
        }
      ]
    },
    {
      "cell_type": "code",
      "source": [
        "plt.figure(figsize=(10,7))\n",
        "plt.semilogx(lrs, history_3.history[\"loss\"])\n",
        "plt.xlabel(\"Learning rate\")\n",
        "plt.ylabel(\"Loss\")\n",
        "plt.title(\"Learning rate VS Loss\")"
      ],
      "metadata": {
        "colab": {
          "base_uri": "https://localhost:8080/",
          "height": 482
        },
        "id": "cNMNKDD4UWaE",
        "outputId": "0700ae73-23a8-4bf9-a961-c61538db3f4b"
      },
      "execution_count": 56,
      "outputs": [
        {
          "output_type": "execute_result",
          "data": {
            "text/plain": [
              "Text(0.5, 1.0, 'Learning rate VS Loss')"
            ]
          },
          "metadata": {},
          "execution_count": 56
        },
        {
          "output_type": "display_data",
          "data": {
            "text/plain": [
              "<Figure size 720x504 with 1 Axes>"
            ],
            "image/png": "[encoded data removed]"
          },
          "metadata": {
            "needs_background": "light"
          }
        }
      ]
    },
    {
      "cell_type": "markdown",
      "source": [
        "### Examples of some usual learning rate"
      ],
      "metadata": {
        "id": "hWTFYY3JUvBS"
      }
    },
    {
      "cell_type": "code",
      "source": [
        "10**0, 10**-1, 10**-2,10**-3,10**-4, 1e-4 "
      ],
      "metadata": {
        "colab": {
          "base_uri": "https://localhost:8080/"
        },
        "id": "2quv79cPVtbu",
        "outputId": "b901da45-3645-4dbd-d480-2deeb2b33c15"
      },
      "execution_count": 57,
      "outputs": [
        {
          "output_type": "execute_result",
          "data": {
            "text/plain": [
              "(1, 0.1, 0.01, 0.001, 0.0001, 0.0001)"
            ]
          },
          "metadata": {},
          "execution_count": 57
        }
      ]
    },
    {
      "cell_type": "code",
      "source": [
        ""
      ],
      "metadata": {
        "id": "CLwy47x2V10H"
      },
      "execution_count": null,
      "outputs": []
    }
  ]
}