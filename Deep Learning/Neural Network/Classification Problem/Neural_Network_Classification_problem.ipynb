{
  "cells": [
    {
      "cell_type": "markdown",
      "metadata": {
        "id": "wjvkRY2roraH"
      },
      "source": [
        "# Neural Network Classification Problems\n",
        "\n",
        "* Binary Classification\n",
        "* Multiclass Classification\n",
        "* Multilabel Classification"
      ]
    },
    {
      "cell_type": "markdown",
      "metadata": {
        "id": "jgPgz7-Pp1If"
      },
      "source": [
        "## Binary Class Classification"
      ]
    },
    {
      "cell_type": "code",
      "execution_count": 1,
      "metadata": {
        "id": "0vAmO06Lo8Gy"
      },
      "outputs": [],
      "source": [
        "import numpy as np\n",
        "import pandas as pd\n",
        "import tensorflow as tf\n",
        "import matplotlib.pyplot as plt\n",
        "from sklearn.datasets import make_circles\n",
        "\n",
        "n_samples=10000\n",
        "\n",
        "X,y= make_circles(n_samples,noise=0.03, random_state=42)"
      ]
    },
    {
      "cell_type": "code",
      "execution_count": 2,
      "metadata": {
        "colab": {
          "base_uri": "https://localhost:8080/"
        },
        "id": "kLHDoW9MpTn_",
        "outputId": "c64e7eb1-7686-4366-e340-d7c0b3f3fd3d"
      },
      "outputs": [
        {
          "data": {
            "text/plain": [
              "array([[ 0.0464692 ,  0.82477834],\n",
              "       [ 1.00506323, -0.43335153],\n",
              "       [-0.58348442,  0.79452834],\n",
              "       [ 0.98478298, -0.32517879],\n",
              "       [ 0.82993028, -0.54722305]])"
            ]
          },
          "execution_count": 2,
          "metadata": {},
          "output_type": "execute_result"
        }
      ],
      "source": [
        "X[:5]"
      ]
    },
    {
      "cell_type": "code",
      "execution_count": 3,
      "metadata": {
        "colab": {
          "base_uri": "https://localhost:8080/"
        },
        "id": "Kn0EHSXcpV_-",
        "outputId": "fb5d5656-fbb0-453d-d4a5-b2efb911ee95"
      },
      "outputs": [
        {
          "data": {
            "text/plain": [
              "array([1, 0, 0, 0, 0])"
            ]
          },
          "execution_count": 3,
          "metadata": {},
          "output_type": "execute_result"
        }
      ],
      "source": [
        "y[:5]"
      ]
    },
    {
      "cell_type": "markdown",
      "metadata": {
        "id": "QQIFI0XcpeeD"
      },
      "source": [
        "### Visualizing the data"
      ]
    },
    {
      "cell_type": "code",
      "execution_count": 4,
      "metadata": {
        "colab": {
          "base_uri": "https://localhost:8080/",
          "height": 221
        },
        "id": "fD-olcdCqBxU",
        "outputId": "c4e90f87-d3ca-4637-b6eb-56adc96f686f"
      },
      "outputs": [
        {
          "data": {
            "text/html": [
              "\n",
              "  <div id=\"df-b6637b60-62dc-4587-bb02-c10d63d023b0\">\n",
              "    <div class=\"colab-df-container\">\n",
              "      <div>\n",
              "<style scoped>\n",
              "    .dataframe tbody tr th:only-of-type {\n",
              "        vertical-align: middle;\n",
              "    }\n",
              "\n",
              "    .dataframe tbody tr th {\n",
              "        vertical-align: top;\n",
              "    }\n",
              "\n",
              "    .dataframe thead th {\n",
              "        text-align: right;\n",
              "    }\n",
              "</style>\n",
              "<table border=\"1\" class=\"dataframe\">\n",
              "  <thead>\n",
              "    <tr style=\"text-align: right;\">\n",
              "      <th></th>\n",
              "      <th>X_0</th>\n",
              "      <th>X_1</th>\n",
              "      <th>label</th>\n",
              "    </tr>\n",
              "  </thead>\n",
              "  <tbody>\n",
              "    <tr>\n",
              "      <th>0</th>\n",
              "      <td>0.046469</td>\n",
              "      <td>0.824778</td>\n",
              "      <td>1</td>\n",
              "    </tr>\n",
              "    <tr>\n",
              "      <th>1</th>\n",
              "      <td>1.005063</td>\n",
              "      <td>-0.433352</td>\n",
              "      <td>0</td>\n",
              "    </tr>\n",
              "    <tr>\n",
              "      <th>2</th>\n",
              "      <td>-0.583484</td>\n",
              "      <td>0.794528</td>\n",
              "      <td>0</td>\n",
              "    </tr>\n",
              "    <tr>\n",
              "      <th>3</th>\n",
              "      <td>0.984783</td>\n",
              "      <td>-0.325179</td>\n",
              "      <td>0</td>\n",
              "    </tr>\n",
              "    <tr>\n",
              "      <th>4</th>\n",
              "      <td>0.829930</td>\n",
              "      <td>-0.547223</td>\n",
              "      <td>0</td>\n",
              "    </tr>\n",
              "  </tbody>\n",
              "</table>\n",
              "</div>\n",
              "      <button class=\"colab-df-convert\" onclick=\"convertToInteractive('df-b6637b60-62dc-4587-bb02-c10d63d023b0')\"\n",
              "              title=\"Convert this dataframe to an interactive table.\"\n",
              "              style=\"display:none;\">\n",
              "        \n",
              "  <svg xmlns=\"http://www.w3.org/2000/svg\" height=\"24px\"viewBox=\"0 0 24 24\"\n",
              "       width=\"24px\">\n",
              "    <path d=\"M0 0h24v24H0V0z\" fill=\"none\"/>\n",
              "    <path d=\"M18.56 5.44l.94 2.06.94-2.06 2.06-.94-2.06-.94-.94-2.06-.94 2.06-2.06.94zm-11 1L8.5 8.5l.94-2.06 2.06-.94-2.06-.94L8.5 2.5l-.94 2.06-2.06.94zm10 10l.94 2.06.94-2.06 2.06-.94-2.06-.94-.94-2.06-.94 2.06-2.06.94z\"/><path d=\"M17.41 7.96l-1.37-1.37c-.4-.4-.92-.59-1.43-.59-.52 0-1.04.2-1.43.59L10.3 9.45l-7.72 7.72c-.78.78-.78 2.05 0 2.83L4 21.41c.39.39.9.59 1.41.59.51 0 1.02-.2 1.41-.59l7.78-7.78 2.81-2.81c.8-.78.8-2.07 0-2.86zM5.41 20L4 18.59l7.72-7.72 1.47 1.35L5.41 20z\"/>\n",
              "  </svg>\n",
              "      </button>\n",
              "      \n",
              "  <style>\n",
              "    .colab-df-container {\n",
              "      display:flex;\n",
              "      flex-wrap:wrap;\n",
              "      gap: 12px;\n",
              "    }\n",
              "\n",
              "    .colab-df-convert {\n",
              "      background-color: #E8F0FE;\n",
              "      border: none;\n",
              "      border-radius: 50%;\n",
              "      cursor: pointer;\n",
              "      display: none;\n",
              "      fill: #1967D2;\n",
              "      height: 32px;\n",
              "      padding: 0 0 0 0;\n",
              "      width: 32px;\n",
              "    }\n",
              "\n",
              "    .colab-df-convert:hover {\n",
              "      background-color: #E2EBFA;\n",
              "      box-shadow: 0px 1px 2px rgba(60, 64, 67, 0.3), 0px 1px 3px 1px rgba(60, 64, 67, 0.15);\n",
              "      fill: #174EA6;\n",
              "    }\n",
              "\n",
              "    [theme=dark] .colab-df-convert {\n",
              "      background-color: #3B4455;\n",
              "      fill: #D2E3FC;\n",
              "    }\n",
              "\n",
              "    [theme=dark] .colab-df-convert:hover {\n",
              "      background-color: #434B5C;\n",
              "      box-shadow: 0px 1px 3px 1px rgba(0, 0, 0, 0.15);\n",
              "      filter: drop-shadow(0px 1px 2px rgba(0, 0, 0, 0.3));\n",
              "      fill: #FFFFFF;\n",
              "    }\n",
              "  </style>\n",
              "\n",
              "      <script>\n",
              "        const buttonEl =\n",
              "          document.querySelector('#df-b6637b60-62dc-4587-bb02-c10d63d023b0 button.colab-df-convert');\n",
              "        buttonEl.style.display =\n",
              "          google.colab.kernel.accessAllowed ? 'block' : 'none';\n",
              "\n",
              "        async function convertToInteractive(key) {\n",
              "          const element = document.querySelector('#df-b6637b60-62dc-4587-bb02-c10d63d023b0');\n",
              "          const dataTable =\n",
              "            await google.colab.kernel.invokeFunction('convertToInteractive',\n",
              "                                                     [key], {});\n",
              "          if (!dataTable) return;\n",
              "\n",
              "          const docLinkHtml = 'Like what you see? Visit the ' +\n",
              "            '<a target=\"_blank\" href=https://colab.research.google.com/notebooks/data_table.ipynb>data table notebook</a>'\n",
              "            + ' to learn more about interactive tables.';\n",
              "          element.innerHTML = '';\n",
              "          dataTable['output_type'] = 'display_data';\n",
              "          await google.colab.output.renderOutput(dataTable, element);\n",
              "          const docLink = document.createElement('div');\n",
              "          docLink.innerHTML = docLinkHtml;\n",
              "          element.appendChild(docLink);\n",
              "        }\n",
              "      </script>\n",
              "    </div>\n",
              "  </div>\n",
              "  "
            ],
            "text/plain": [
              "        X_0       X_1  label\n",
              "0  0.046469  0.824778      1\n",
              "1  1.005063 -0.433352      0\n",
              "2 -0.583484  0.794528      0\n",
              "3  0.984783 -0.325179      0\n",
              "4  0.829930 -0.547223      0"
            ]
          },
          "execution_count": 4,
          "metadata": {},
          "output_type": "execute_result"
        }
      ],
      "source": [
        "circles=pd.DataFrame({\"X_0\": X[:,0], \"X_1\": X[:,1], \"label\":y})\n",
        "circles[:5]"
      ]
    },
    {
      "cell_type": "code",
      "execution_count": 5,
      "metadata": {
        "colab": {
          "base_uri": "https://localhost:8080/",
          "height": 285
        },
        "id": "nJ9puL00qNkS",
        "outputId": "13ef8922-7344-4fa6-c3ca-075285ebf724"
      },
      "outputs": [
        {
          "data": {
            "text/plain": [
              "<matplotlib.collections.PathCollection at 0x7fa72ba61a90>"
            ]
          },
          "execution_count": 5,
          "metadata": {},
          "output_type": "execute_result"
        },
        {
          "data": {
            "image/png": "[encoded data removed]",
            "text/plain": [
              "<Figure size 432x288 with 1 Axes>"
            ]
          },
          "metadata": {
            "needs_background": "light"
          },
          "output_type": "display_data"
        }
      ],
      "source": [
        "plt.scatter(X[:,0],X[:,1], c=y, cmap=plt.cm.RdYlBu)"
      ]
    },
    {
      "cell_type": "code",
      "execution_count": 6,
      "metadata": {
        "colab": {
          "base_uri": "https://localhost:8080/"
        },
        "id": "VINVKSOiqn6q",
        "outputId": "016b79c5-bd3b-4bb6-8ed4-ba38caeb3d96"
      },
      "outputs": [
        {
          "data": {
            "text/plain": [
              "((10000, 2), (10000,))"
            ]
          },
          "execution_count": 6,
          "metadata": {},
          "output_type": "execute_result"
        }
      ],
      "source": [
        "X.shape, y.shape"
      ]
    },
    {
      "cell_type": "code",
      "execution_count": 7,
      "metadata": {
        "colab": {
          "base_uri": "https://localhost:8080/"
        },
        "id": "6Uc5Owo4vFJk",
        "outputId": "46f2776c-7535-480e-daad-85d5e14cd9db"
      },
      "outputs": [
        {
          "data": {
            "text/plain": [
              "(10000, 10000)"
            ]
          },
          "execution_count": 7,
          "metadata": {},
          "output_type": "execute_result"
        }
      ],
      "source": [
        "len(X), len(y)"
      ]
    },
    {
      "cell_type": "code",
      "execution_count": 8,
      "metadata": {
        "colab": {
          "base_uri": "https://localhost:8080/"
        },
        "id": "rm1HzpeQvHcA",
        "outputId": "6904cfe1-2000-4622-b8ed-61f983b9f3d9"
      },
      "outputs": [
        {
          "data": {
            "text/plain": [
              "array([[ 0.0464692 ,  0.82477834],\n",
              "       [ 1.00506323, -0.43335153],\n",
              "       [-0.58348442,  0.79452834],\n",
              "       [ 0.98478298, -0.32517879],\n",
              "       [ 0.82993028, -0.54722305]])"
            ]
          },
          "execution_count": 8,
          "metadata": {},
          "output_type": "execute_result"
        }
      ],
      "source": [
        "X[:5]"
      ]
    },
    {
      "cell_type": "code",
      "execution_count": 9,
      "metadata": {
        "colab": {
          "base_uri": "https://localhost:8080/"
        },
        "id": "AmVVZtguvLMx",
        "outputId": "4534f7d6-6176-4d12-a297-98f5e79cf44f"
      },
      "outputs": [
        {
          "data": {
            "text/plain": [
              "array([1, 0, 0, 0, 0])"
            ]
          },
          "execution_count": 9,
          "metadata": {},
          "output_type": "execute_result"
        }
      ],
      "source": [
        "y[:5]"
      ]
    },
    {
      "cell_type": "code",
      "execution_count": 10,
      "metadata": {
        "colab": {
          "base_uri": "https://localhost:8080/"
        },
        "id": "U3_oqBCBvLzJ",
        "outputId": "7853b74f-4028-40d9-ce4a-4da50a15395d"
      },
      "outputs": [
        {
          "data": {
            "text/plain": [
              "(array([0.0464692 , 0.82477834]), 1)"
            ]
          },
          "execution_count": 10,
          "metadata": {},
          "output_type": "execute_result"
        }
      ],
      "source": [
        "X[0], y[0]"
      ]
    },
    {
      "cell_type": "code",
      "execution_count": 11,
      "metadata": {
        "colab": {
          "base_uri": "https://localhost:8080/"
        },
        "id": "VSqCx73xvNkI",
        "outputId": "fa31518d-bdf1-4250-fb0d-20a6568a4722"
      },
      "outputs": [
        {
          "data": {
            "text/plain": [
              "(array([ 1.00506323, -0.43335153]), 0)"
            ]
          },
          "execution_count": 11,
          "metadata": {},
          "output_type": "execute_result"
        }
      ],
      "source": [
        "X[1], y[1]"
      ]
    },
    {
      "cell_type": "code",
      "execution_count": 12,
      "metadata": {
        "colab": {
          "base_uri": "https://localhost:8080/"
        },
        "id": "j1WBdJVjvS_7",
        "outputId": "3dd184b2-a5ea-4629-9f0a-7809bc7809df"
      },
      "outputs": [
        {
          "data": {
            "text/plain": [
              "(array([-0.58348442,  0.79452834]), 0)"
            ]
          },
          "execution_count": 12,
          "metadata": {},
          "output_type": "execute_result"
        }
      ],
      "source": [
        "X[2], y[2]"
      ]
    },
    {
      "cell_type": "code",
      "execution_count": 13,
      "metadata": {
        "colab": {
          "base_uri": "https://localhost:8080/"
        },
        "id": "0vDIQUkdvYrP",
        "outputId": "ad0ccb9f-b5ea-4760-f085-f8e083a010fb"
      },
      "outputs": [
        {
          "data": {
            "text/plain": [
              "((7000, 2), (3000, 2), (7000,), (3000,))"
            ]
          },
          "execution_count": 13,
          "metadata": {},
          "output_type": "execute_result"
        }
      ],
      "source": [
        "from sklearn.model_selection import train_test_split\n",
        "\n",
        "X_train,X_test, y_train, y_test= train_test_split(X,y,test_size=0.3, random_state=42)\n",
        "X_train.shape,X_test.shape, y_train.shape, y_test.shape"
      ]
    },
    {
      "cell_type": "code",
      "execution_count": 14,
      "metadata": {
        "colab": {
          "base_uri": "https://localhost:8080/"
        },
        "id": "pejWQQCCv4ap",
        "outputId": "b297213f-1b4c-4156-9bce-f3fbc7779c1c"
      },
      "outputs": [
        {
          "name": "stdout",
          "output_type": "stream",
          "text": [
            "Epoch 1/10\n",
            "219/219 [==============================] - 1s 2ms/step - loss: 0.6842 - accuracy: 0.5133\n",
            "Epoch 2/10\n",
            "219/219 [==============================] - 0s 2ms/step - loss: 0.6573 - accuracy: 0.7651\n",
            "Epoch 3/10\n",
            "219/219 [==============================] - 0s 2ms/step - loss: 0.6177 - accuracy: 0.9230\n",
            "Epoch 4/10\n",
            "219/219 [==============================] - 0s 2ms/step - loss: 0.5658 - accuracy: 0.9780\n",
            "Epoch 5/10\n",
            "219/219 [==============================] - 0s 2ms/step - loss: 0.5064 - accuracy: 0.9907\n",
            "Epoch 6/10\n",
            "219/219 [==============================] - 0s 2ms/step - loss: 0.4447 - accuracy: 0.9967\n",
            "Epoch 7/10\n",
            "219/219 [==============================] - 0s 2ms/step - loss: 0.3859 - accuracy: 0.9984\n",
            "Epoch 8/10\n",
            "219/219 [==============================] - 0s 2ms/step - loss: 0.3305 - accuracy: 0.9986\n",
            "Epoch 9/10\n",
            "219/219 [==============================] - 0s 2ms/step - loss: 0.2825 - accuracy: 0.9984\n",
            "Epoch 10/10\n",
            "219/219 [==============================] - 0s 2ms/step - loss: 0.2422 - accuracy: 0.9997\n"
          ]
        }
      ],
      "source": [
        "model= tf.keras.Sequential([\n",
        "          tf.keras.Input(shape=(2,)),\n",
        "          tf.keras.layers.Dense(100, activation=\"relu\"),\n",
        "          tf.keras.layers.Dense(1, activation=\"sigmoid\")\n",
        "])\n",
        "\n",
        "model.compile(loss=tf.keras.losses.BinaryCrossentropy(), optimizer=tf.keras.optimizers.Adam(), metrics=[\"accuracy\"])\n",
        "\n",
        "\n",
        "history=model.fit(X_train,y_train, epochs=10)"
      ]
    },
    {
      "cell_type": "code",
      "execution_count": 15,
      "metadata": {
        "colab": {
          "base_uri": "https://localhost:8080/"
        },
        "id": "FEiQvw_Ywvz3",
        "outputId": "e7bf9502-e2da-4f37-9d8c-314b0513bb53"
      },
      "outputs": [
        {
          "name": "stdout",
          "output_type": "stream",
          "text": [
            "94/94 [==============================] - 0s 1ms/step - loss: 0.2254 - accuracy: 1.0000\n"
          ]
        },
        {
          "data": {
            "text/plain": [
              "[0.22541342675685883, 1.0]"
            ]
          },
          "execution_count": 15,
          "metadata": {},
          "output_type": "execute_result"
        }
      ],
      "source": [
        "model.evaluate(X_test,y_test)"
      ]
    },
    {
      "cell_type": "markdown",
      "metadata": {
        "id": "pAcAuYEjw4JM"
      },
      "source": [
        "### Non_linear Activation Function\n",
        "\n",
        "> All of the activation fuctions except the *linear* function are non-linear activation functions."
      ]
    },
    {
      "cell_type": "code",
      "execution_count": 16,
      "metadata": {
        "colab": {
          "base_uri": "https://localhost:8080/"
        },
        "id": "kbqZEVHi0kjy",
        "outputId": "bf8b1892-f31e-4059-f6c4-713a4c1eae5e"
      },
      "outputs": [
        {
          "name": "stdout",
          "output_type": "stream",
          "text": [
            "Epoch 1/10\n",
            "219/219 [==============================] - 1s 2ms/step - loss: 5.4336 - accuracy: 0.4803\n",
            "Epoch 2/10\n",
            "219/219 [==============================] - 0s 2ms/step - loss: 5.1842 - accuracy: 0.4771\n",
            "Epoch 3/10\n",
            "219/219 [==============================] - 0s 2ms/step - loss: 5.0014 - accuracy: 0.4770\n",
            "Epoch 4/10\n",
            "219/219 [==============================] - 0s 2ms/step - loss: 4.9537 - accuracy: 0.4770\n",
            "Epoch 5/10\n",
            "219/219 [==============================] - 0s 2ms/step - loss: 4.7664 - accuracy: 0.4733\n",
            "Epoch 6/10\n",
            "219/219 [==============================] - 0s 2ms/step - loss: 4.7391 - accuracy: 0.4731\n",
            "Epoch 7/10\n",
            "219/219 [==============================] - 0s 2ms/step - loss: 4.7091 - accuracy: 0.4719\n",
            "Epoch 8/10\n",
            "219/219 [==============================] - 0s 1ms/step - loss: 4.6848 - accuracy: 0.4710\n",
            "Epoch 9/10\n",
            "219/219 [==============================] - 0s 1ms/step - loss: 4.6779 - accuracy: 0.4711\n",
            "Epoch 10/10\n",
            "219/219 [==============================] - 0s 1ms/step - loss: 4.6730 - accuracy: 0.4713\n"
          ]
        }
      ],
      "source": [
        "model_linear= tf.keras.Sequential([\n",
        "          tf.keras.layers.Dense(1, activation=\"linear\"),\n",
        "])\n",
        "\n",
        "model_linear.compile(loss=tf.keras.losses.BinaryCrossentropy(), optimizer=tf.keras.optimizers.Adam(), metrics=[\"accuracy\"])\n",
        "\n",
        "\n",
        "history=model_linear.fit(X_train,y_train, epochs=10)"
      ]
    },
    {
      "cell_type": "code",
      "execution_count": 17,
      "metadata": {
        "colab": {
          "base_uri": "https://localhost:8080/"
        },
        "id": "cw22-ri_1Eh9",
        "outputId": "13c6660b-6079-4931-e1d1-3418af1d4ff5"
      },
      "outputs": [
        {
          "name": "stdout",
          "output_type": "stream",
          "text": [
            "94/94 [==============================] - 0s 1ms/step - loss: 4.5500 - accuracy: 0.4700\n"
          ]
        },
        {
          "data": {
            "text/plain": [
              "[4.549979209899902, 0.4699999988079071]"
            ]
          },
          "execution_count": 17,
          "metadata": {},
          "output_type": "execute_result"
        }
      ],
      "source": [
        "model_linear.evaluate(X_test,y_test)"
      ]
    },
    {
      "cell_type": "code",
      "execution_count": 18,
      "metadata": {
        "colab": {
          "base_uri": "https://localhost:8080/"
        },
        "id": "GMcuH_xC1W9p",
        "outputId": "fc55d3e3-d9b6-412e-f7f8-b20afed60c6b"
      },
      "outputs": [
        {
          "name": "stdout",
          "output_type": "stream",
          "text": [
            "Epoch 1/100\n",
            "219/219 [==============================] - 1s 2ms/step - loss: 0.6933 - accuracy: 0.5049\n",
            "Epoch 2/100\n",
            "219/219 [==============================] - 0s 2ms/step - loss: 0.6851 - accuracy: 0.5264\n",
            "Epoch 3/100\n",
            "219/219 [==============================] - 0s 2ms/step - loss: 0.6815 - accuracy: 0.5437\n",
            "Epoch 4/100\n",
            "219/219 [==============================] - 0s 2ms/step - loss: 0.6751 - accuracy: 0.5393\n",
            "Epoch 5/100\n",
            "219/219 [==============================] - 0s 2ms/step - loss: 0.6655 - accuracy: 0.5620\n",
            "Epoch 6/100\n",
            "219/219 [==============================] - 0s 2ms/step - loss: 0.6488 - accuracy: 0.6753\n",
            "Epoch 7/100\n",
            "219/219 [==============================] - 0s 2ms/step - loss: 0.6183 - accuracy: 0.7511\n",
            "Epoch 8/100\n",
            "219/219 [==============================] - 0s 2ms/step - loss: 0.5862 - accuracy: 0.7836\n",
            "Epoch 9/100\n",
            "219/219 [==============================] - 1s 3ms/step - loss: 0.5551 - accuracy: 0.7924\n",
            "Epoch 10/100\n",
            "219/219 [==============================] - 1s 2ms/step - loss: 0.5249 - accuracy: 0.8029\n",
            "Epoch 11/100\n",
            "219/219 [==============================] - 1s 2ms/step - loss: 0.4942 - accuracy: 0.8031\n",
            "Epoch 12/100\n",
            "219/219 [==============================] - 0s 2ms/step - loss: 0.4545 - accuracy: 0.8321\n",
            "Epoch 13/100\n",
            "219/219 [==============================] - 0s 2ms/step - loss: 0.4188 - accuracy: 0.8794\n",
            "Epoch 14/100\n",
            "219/219 [==============================] - 0s 2ms/step - loss: 0.3863 - accuracy: 0.9069\n",
            "Epoch 15/100\n",
            "219/219 [==============================] - 0s 2ms/step - loss: 0.3548 - accuracy: 0.9254\n",
            "Epoch 16/100\n",
            "219/219 [==============================] - 0s 2ms/step - loss: 0.3257 - accuracy: 0.9354\n",
            "Epoch 17/100\n",
            "219/219 [==============================] - 0s 2ms/step - loss: 0.2965 - accuracy: 0.9504\n",
            "Epoch 18/100\n",
            "219/219 [==============================] - 0s 2ms/step - loss: 0.2684 - accuracy: 0.9609\n",
            "Epoch 19/100\n",
            "219/219 [==============================] - 0s 2ms/step - loss: 0.2449 - accuracy: 0.9671\n",
            "Epoch 20/100\n",
            "219/219 [==============================] - 0s 2ms/step - loss: 0.2231 - accuracy: 0.9709\n",
            "Epoch 21/100\n",
            "219/219 [==============================] - 0s 2ms/step - loss: 0.2045 - accuracy: 0.9747\n",
            "Epoch 22/100\n",
            "219/219 [==============================] - 0s 2ms/step - loss: 0.1884 - accuracy: 0.9754\n",
            "Epoch 23/100\n",
            "219/219 [==============================] - 0s 2ms/step - loss: 0.1744 - accuracy: 0.9776\n",
            "Epoch 24/100\n",
            "219/219 [==============================] - 0s 2ms/step - loss: 0.1621 - accuracy: 0.9769\n",
            "Epoch 25/100\n",
            "219/219 [==============================] - 0s 2ms/step - loss: 0.1516 - accuracy: 0.9791\n",
            "Epoch 26/100\n",
            "219/219 [==============================] - 0s 2ms/step - loss: 0.1427 - accuracy: 0.9773\n",
            "Epoch 27/100\n",
            "219/219 [==============================] - 0s 2ms/step - loss: 0.1343 - accuracy: 0.9780\n",
            "Epoch 28/100\n",
            "219/219 [==============================] - 0s 2ms/step - loss: 0.1266 - accuracy: 0.9794\n",
            "Epoch 29/100\n",
            "219/219 [==============================] - 0s 2ms/step - loss: 0.1205 - accuracy: 0.9804\n",
            "Epoch 30/100\n",
            "219/219 [==============================] - 0s 2ms/step - loss: 0.1148 - accuracy: 0.9791\n",
            "Epoch 31/100\n",
            "219/219 [==============================] - 0s 2ms/step - loss: 0.1096 - accuracy: 0.9801\n",
            "Epoch 32/100\n",
            "219/219 [==============================] - 0s 2ms/step - loss: 0.1053 - accuracy: 0.9794\n",
            "Epoch 33/100\n",
            "219/219 [==============================] - 0s 2ms/step - loss: 0.1005 - accuracy: 0.9806\n",
            "Epoch 34/100\n",
            "219/219 [==============================] - 0s 2ms/step - loss: 0.0970 - accuracy: 0.9821\n",
            "Epoch 35/100\n",
            "219/219 [==============================] - 0s 2ms/step - loss: 0.0939 - accuracy: 0.9790\n",
            "Epoch 36/100\n",
            "219/219 [==============================] - 0s 2ms/step - loss: 0.0908 - accuracy: 0.9813\n",
            "Epoch 37/100\n",
            "219/219 [==============================] - 0s 2ms/step - loss: 0.0882 - accuracy: 0.9814\n",
            "Epoch 38/100\n",
            "219/219 [==============================] - 0s 2ms/step - loss: 0.0857 - accuracy: 0.9790\n",
            "Epoch 39/100\n",
            "219/219 [==============================] - 0s 2ms/step - loss: 0.0829 - accuracy: 0.9817\n",
            "Epoch 40/100\n",
            "219/219 [==============================] - 0s 2ms/step - loss: 0.0806 - accuracy: 0.9814\n",
            "Epoch 41/100\n",
            "219/219 [==============================] - 0s 2ms/step - loss: 0.0788 - accuracy: 0.9810\n",
            "Epoch 42/100\n",
            "219/219 [==============================] - 0s 2ms/step - loss: 0.0773 - accuracy: 0.9819\n",
            "Epoch 43/100\n",
            "219/219 [==============================] - 0s 2ms/step - loss: 0.0761 - accuracy: 0.9803\n",
            "Epoch 44/100\n",
            "219/219 [==============================] - 0s 2ms/step - loss: 0.0743 - accuracy: 0.9810\n",
            "Epoch 45/100\n",
            "219/219 [==============================] - 0s 2ms/step - loss: 0.0724 - accuracy: 0.9823\n",
            "Epoch 46/100\n",
            "219/219 [==============================] - 0s 2ms/step - loss: 0.0713 - accuracy: 0.9817\n",
            "Epoch 47/100\n",
            "219/219 [==============================] - 0s 2ms/step - loss: 0.0707 - accuracy: 0.9814\n",
            "Epoch 48/100\n",
            "219/219 [==============================] - 0s 2ms/step - loss: 0.0692 - accuracy: 0.9829\n",
            "Epoch 49/100\n",
            "219/219 [==============================] - 0s 2ms/step - loss: 0.0677 - accuracy: 0.9827\n",
            "Epoch 50/100\n",
            "219/219 [==============================] - 0s 2ms/step - loss: 0.0673 - accuracy: 0.9829\n",
            "Epoch 51/100\n",
            "219/219 [==============================] - 0s 2ms/step - loss: 0.0658 - accuracy: 0.9823\n",
            "Epoch 52/100\n",
            "219/219 [==============================] - 0s 2ms/step - loss: 0.0650 - accuracy: 0.9817\n",
            "Epoch 53/100\n",
            "219/219 [==============================] - 0s 2ms/step - loss: 0.0640 - accuracy: 0.9829\n",
            "Epoch 54/100\n",
            "219/219 [==============================] - 0s 2ms/step - loss: 0.0631 - accuracy: 0.9849\n",
            "Epoch 55/100\n",
            "219/219 [==============================] - 0s 2ms/step - loss: 0.0618 - accuracy: 0.9831\n",
            "Epoch 56/100\n",
            "219/219 [==============================] - 0s 2ms/step - loss: 0.0614 - accuracy: 0.9840\n",
            "Epoch 57/100\n",
            "219/219 [==============================] - 0s 2ms/step - loss: 0.0603 - accuracy: 0.9840\n",
            "Epoch 58/100\n",
            "219/219 [==============================] - 0s 2ms/step - loss: 0.0593 - accuracy: 0.9849\n",
            "Epoch 59/100\n",
            "219/219 [==============================] - 0s 2ms/step - loss: 0.0591 - accuracy: 0.9839\n",
            "Epoch 60/100\n",
            "219/219 [==============================] - 0s 2ms/step - loss: 0.0585 - accuracy: 0.9846\n",
            "Epoch 61/100\n",
            "219/219 [==============================] - 0s 2ms/step - loss: 0.0586 - accuracy: 0.9830\n",
            "Epoch 62/100\n",
            "219/219 [==============================] - 0s 2ms/step - loss: 0.0577 - accuracy: 0.9829\n",
            "Epoch 63/100\n",
            "219/219 [==============================] - 0s 2ms/step - loss: 0.0570 - accuracy: 0.9833\n",
            "Epoch 64/100\n",
            "219/219 [==============================] - 0s 2ms/step - loss: 0.0570 - accuracy: 0.9836\n",
            "Epoch 65/100\n",
            "219/219 [==============================] - 0s 2ms/step - loss: 0.0562 - accuracy: 0.9841\n",
            "Epoch 66/100\n",
            "219/219 [==============================] - 0s 2ms/step - loss: 0.0555 - accuracy: 0.9834\n",
            "Epoch 67/100\n",
            "219/219 [==============================] - 0s 2ms/step - loss: 0.0544 - accuracy: 0.9846\n",
            "Epoch 68/100\n",
            "219/219 [==============================] - 0s 2ms/step - loss: 0.0542 - accuracy: 0.9840\n",
            "Epoch 69/100\n",
            "219/219 [==============================] - 0s 2ms/step - loss: 0.0540 - accuracy: 0.9846\n",
            "Epoch 70/100\n",
            "219/219 [==============================] - 0s 2ms/step - loss: 0.0534 - accuracy: 0.9846\n",
            "Epoch 71/100\n",
            "219/219 [==============================] - 0s 2ms/step - loss: 0.0528 - accuracy: 0.9840\n",
            "Epoch 72/100\n",
            "219/219 [==============================] - 0s 2ms/step - loss: 0.0528 - accuracy: 0.9847\n",
            "Epoch 73/100\n",
            "219/219 [==============================] - 0s 2ms/step - loss: 0.0526 - accuracy: 0.9841\n",
            "Epoch 74/100\n",
            "219/219 [==============================] - 0s 2ms/step - loss: 0.0516 - accuracy: 0.9860\n",
            "Epoch 75/100\n",
            "219/219 [==============================] - 0s 2ms/step - loss: 0.0516 - accuracy: 0.9853\n",
            "Epoch 76/100\n",
            "219/219 [==============================] - 0s 2ms/step - loss: 0.0511 - accuracy: 0.9850\n",
            "Epoch 77/100\n",
            "219/219 [==============================] - 0s 2ms/step - loss: 0.0512 - accuracy: 0.9854\n",
            "Epoch 78/100\n",
            "219/219 [==============================] - 1s 3ms/step - loss: 0.0508 - accuracy: 0.9846\n",
            "Epoch 79/100\n",
            "219/219 [==============================] - 1s 3ms/step - loss: 0.0504 - accuracy: 0.9837\n",
            "Epoch 80/100\n",
            "219/219 [==============================] - 0s 2ms/step - loss: 0.0504 - accuracy: 0.9850\n",
            "Epoch 81/100\n",
            "219/219 [==============================] - 0s 2ms/step - loss: 0.0497 - accuracy: 0.9851\n",
            "Epoch 82/100\n",
            "219/219 [==============================] - 0s 2ms/step - loss: 0.0497 - accuracy: 0.9843\n",
            "Epoch 83/100\n",
            "219/219 [==============================] - 0s 2ms/step - loss: 0.0493 - accuracy: 0.9856\n",
            "Epoch 84/100\n",
            "219/219 [==============================] - 0s 2ms/step - loss: 0.0492 - accuracy: 0.9836\n",
            "Epoch 85/100\n",
            "219/219 [==============================] - 0s 2ms/step - loss: 0.0490 - accuracy: 0.9846\n",
            "Epoch 86/100\n",
            "219/219 [==============================] - 0s 2ms/step - loss: 0.0484 - accuracy: 0.9840\n",
            "Epoch 87/100\n",
            "219/219 [==============================] - 0s 2ms/step - loss: 0.0486 - accuracy: 0.9849\n",
            "Epoch 88/100\n",
            "219/219 [==============================] - 0s 2ms/step - loss: 0.0487 - accuracy: 0.9854\n",
            "Epoch 89/100\n",
            "219/219 [==============================] - 0s 2ms/step - loss: 0.0479 - accuracy: 0.9850\n",
            "Epoch 90/100\n",
            "219/219 [==============================] - 0s 2ms/step - loss: 0.0485 - accuracy: 0.9844\n",
            "Epoch 91/100\n",
            "219/219 [==============================] - 0s 2ms/step - loss: 0.0479 - accuracy: 0.9854\n",
            "Epoch 92/100\n",
            "219/219 [==============================] - 0s 2ms/step - loss: 0.0483 - accuracy: 0.9843\n",
            "Epoch 93/100\n",
            "219/219 [==============================] - 0s 2ms/step - loss: 0.0482 - accuracy: 0.9847\n",
            "Epoch 94/100\n",
            "219/219 [==============================] - 0s 2ms/step - loss: 0.0474 - accuracy: 0.9843\n",
            "Epoch 95/100\n",
            "219/219 [==============================] - 0s 2ms/step - loss: 0.0468 - accuracy: 0.9850\n",
            "Epoch 96/100\n",
            "219/219 [==============================] - 0s 2ms/step - loss: 0.0470 - accuracy: 0.9839\n",
            "Epoch 97/100\n",
            "219/219 [==============================] - 0s 2ms/step - loss: 0.0468 - accuracy: 0.9850\n",
            "Epoch 98/100\n",
            "219/219 [==============================] - 0s 2ms/step - loss: 0.0469 - accuracy: 0.9851\n",
            "Epoch 99/100\n",
            "219/219 [==============================] - 0s 2ms/step - loss: 0.0473 - accuracy: 0.9841\n",
            "Epoch 100/100\n",
            "219/219 [==============================] - 0s 2ms/step - loss: 0.0468 - accuracy: 0.9839\n"
          ]
        }
      ],
      "source": [
        "model_1= tf.keras.Sequential([\n",
        "          tf.keras.layers.Dense(4, activation=\"relu\"),\n",
        "          tf.keras.layers.Dense(4, activation=\"relu\"),\n",
        "          tf.keras.layers.Dense(1, activation=\"sigmoid\")\n",
        "])\n",
        "\n",
        "model_1.compile(loss=tf.keras.losses.BinaryCrossentropy(), optimizer=tf.keras.optimizers.Adam(), metrics=[\"accuracy\"])\n",
        "\n",
        "\n",
        "history=model_1.fit(X_train,y_train, epochs=100)"
      ]
    },
    {
      "cell_type": "code",
      "execution_count": 19,
      "metadata": {
        "colab": {
          "base_uri": "https://localhost:8080/"
        },
        "id": "uZzuYvZl5B_8",
        "outputId": "4dce7b1f-9b19-474d-db87-f0ac678cb126"
      },
      "outputs": [
        {
          "name": "stdout",
          "output_type": "stream",
          "text": [
            "94/94 [==============================] - 0s 1ms/step - loss: 0.0554 - accuracy: 0.9800\n"
          ]
        },
        {
          "data": {
            "text/plain": [
              "[0.05539841577410698, 0.9800000190734863]"
            ]
          },
          "execution_count": 19,
          "metadata": {},
          "output_type": "execute_result"
        }
      ],
      "source": [
        "model_1.evaluate(X_test,y_test)"
      ]
    },
    {
      "cell_type": "markdown",
      "metadata": {
        "id": "JZpmTWT_5YKF"
      },
      "source": [
        "### Improving the model"
      ]
    },
    {
      "cell_type": "code",
      "execution_count": 20,
      "metadata": {
        "colab": {
          "base_uri": "https://localhost:8080/"
        },
        "id": "wMKX3YUjAenk",
        "outputId": "c1ab25fa-f9e4-4ba4-c428-e8874e00dc55"
      },
      "outputs": [
        {
          "name": "stdout",
          "output_type": "stream",
          "text": [
            "Epoch 1/25\n",
            "219/219 [==============================] - 1s 2ms/step - loss: 0.6851 - accuracy: 0.5333\n",
            "Epoch 2/25\n",
            "219/219 [==============================] - 0s 2ms/step - loss: 0.6532 - accuracy: 0.5929\n",
            "Epoch 3/25\n",
            "219/219 [==============================] - 0s 2ms/step - loss: 0.6137 - accuracy: 0.6376\n",
            "Epoch 4/25\n",
            "219/219 [==============================] - 0s 2ms/step - loss: 0.5481 - accuracy: 0.7097\n",
            "Epoch 5/25\n",
            "219/219 [==============================] - 0s 2ms/step - loss: 0.4679 - accuracy: 0.7794\n",
            "Epoch 6/25\n",
            "219/219 [==============================] - 0s 2ms/step - loss: 0.4490 - accuracy: 0.7901\n",
            "Epoch 7/25\n",
            "219/219 [==============================] - 0s 2ms/step - loss: 0.4313 - accuracy: 0.8006\n",
            "Epoch 8/25\n",
            "219/219 [==============================] - 0s 2ms/step - loss: 0.4210 - accuracy: 0.8054\n",
            "Epoch 9/25\n",
            "219/219 [==============================] - 0s 2ms/step - loss: 0.4154 - accuracy: 0.8110\n",
            "Epoch 10/25\n",
            "219/219 [==============================] - 0s 2ms/step - loss: 0.4080 - accuracy: 0.8141\n",
            "Epoch 11/25\n",
            "219/219 [==============================] - 0s 2ms/step - loss: 0.4027 - accuracy: 0.8153\n",
            "Epoch 12/25\n",
            "219/219 [==============================] - 0s 2ms/step - loss: 0.3986 - accuracy: 0.8194\n",
            "Epoch 13/25\n",
            "219/219 [==============================] - 0s 2ms/step - loss: 0.3956 - accuracy: 0.8226\n",
            "Epoch 14/25\n",
            "219/219 [==============================] - 0s 2ms/step - loss: 0.3901 - accuracy: 0.8254\n",
            "Epoch 15/25\n",
            "219/219 [==============================] - 0s 2ms/step - loss: 0.3532 - accuracy: 0.8449\n",
            "Epoch 16/25\n",
            "219/219 [==============================] - 0s 2ms/step - loss: 0.3127 - accuracy: 0.8519\n",
            "Epoch 17/25\n",
            "219/219 [==============================] - 0s 2ms/step - loss: 0.2815 - accuracy: 0.8684\n",
            "Epoch 18/25\n",
            "219/219 [==============================] - 0s 2ms/step - loss: 0.2677 - accuracy: 0.8736\n",
            "Epoch 19/25\n",
            "219/219 [==============================] - 0s 2ms/step - loss: 0.2633 - accuracy: 0.8786\n",
            "Epoch 20/25\n",
            "219/219 [==============================] - 0s 2ms/step - loss: 0.2487 - accuracy: 0.8849\n",
            "Epoch 21/25\n",
            "219/219 [==============================] - 0s 2ms/step - loss: 0.2412 - accuracy: 0.8914\n",
            "Epoch 22/25\n",
            "219/219 [==============================] - 0s 2ms/step - loss: 0.2425 - accuracy: 0.8897\n",
            "Epoch 23/25\n",
            "219/219 [==============================] - 0s 2ms/step - loss: 0.2282 - accuracy: 0.8979\n",
            "Epoch 24/25\n",
            "219/219 [==============================] - 0s 2ms/step - loss: 0.1113 - accuracy: 0.9633\n",
            "Epoch 25/25\n",
            "219/219 [==============================] - 0s 2ms/step - loss: 0.0712 - accuracy: 0.9810\n"
          ]
        }
      ],
      "source": [
        "model_2= tf.keras.Sequential([\n",
        "          tf.keras.layers.Dense(4, activation=\"relu\"),\n",
        "          tf.keras.layers.Dense(4, activation=\"relu\"),\n",
        "          tf.keras.layers.Dense(1, activation=\"sigmoid\")\n",
        "])\n",
        "\n",
        "model_2.compile(loss=tf.keras.losses.BinaryCrossentropy(), optimizer=tf.keras.optimizers.Adam(learning_rate=0.01), metrics=[\"accuracy\"])\n",
        "\n",
        "\n",
        "history=model_2.fit(X_train,y_train, epochs=25)"
      ]
    },
    {
      "cell_type": "code",
      "execution_count": 21,
      "metadata": {
        "colab": {
          "base_uri": "https://localhost:8080/"
        },
        "id": "RVz7PmWXAwcO",
        "outputId": "2f2ff16f-58d7-4038-e706-0a2c2c6221c6"
      },
      "outputs": [
        {
          "name": "stdout",
          "output_type": "stream",
          "text": [
            "94/94 [==============================] - 0s 1ms/step - loss: 0.0957 - accuracy: 0.9727\n"
          ]
        },
        {
          "data": {
            "text/plain": [
              "[0.09570568054914474, 0.9726666808128357]"
            ]
          },
          "execution_count": 21,
          "metadata": {},
          "output_type": "execute_result"
        }
      ],
      "source": [
        "model_2.evaluate(X_test,y_test)"
      ]
    },
    {
      "cell_type": "markdown",
      "metadata": {
        "id": "MgqNkPzQA7RK"
      },
      "source": [
        "### Plot the loss or training curves"
      ]
    },
    {
      "cell_type": "code",
      "execution_count": 22,
      "metadata": {
        "colab": {
          "base_uri": "https://localhost:8080/"
        },
        "id": "VLvilY_HDSas",
        "outputId": "5ac75069-81a7-4af1-e386-cfd01c0c8ee9"
      },
      "outputs": [
        {
          "data": {
            "text/plain": [
              "{'accuracy': [0.5332857370376587,\n",
              "  0.5928571224212646,\n",
              "  0.6375714540481567,\n",
              "  0.7097142934799194,\n",
              "  0.7794285416603088,\n",
              "  0.790142834186554,\n",
              "  0.8005714416503906,\n",
              "  0.8054285645484924,\n",
              "  0.8109999895095825,\n",
              "  0.8141428828239441,\n",
              "  0.8152857422828674,\n",
              "  0.819428563117981,\n",
              "  0.8225714564323425,\n",
              "  0.8254285454750061,\n",
              "  0.8448571562767029,\n",
              "  0.8518571257591248,\n",
              "  0.8684285879135132,\n",
              "  0.8735714554786682,\n",
              "  0.8785714507102966,\n",
              "  0.8848571181297302,\n",
              "  0.8914285898208618,\n",
              "  0.8897143006324768,\n",
              "  0.897857129573822,\n",
              "  0.9632856845855713,\n",
              "  0.9810000061988831],\n",
              " 'loss': [0.6851195096969604,\n",
              "  0.6531911492347717,\n",
              "  0.6136822700500488,\n",
              "  0.5481196045875549,\n",
              "  0.46789446473121643,\n",
              "  0.4489942193031311,\n",
              "  0.43126794695854187,\n",
              "  0.4210314154624939,\n",
              "  0.41536059975624084,\n",
              "  0.40797457098960876,\n",
              "  0.40267413854599,\n",
              "  0.39859044551849365,\n",
              "  0.39555975794792175,\n",
              "  0.39009860157966614,\n",
              "  0.3531987965106964,\n",
              "  0.3126855492591858,\n",
              "  0.28146469593048096,\n",
              "  0.2676689028739929,\n",
              "  0.26329466700553894,\n",
              "  0.24873565137386322,\n",
              "  0.24119003117084503,\n",
              "  0.24246849119663239,\n",
              "  0.22815492749214172,\n",
              "  0.11126529425382614,\n",
              "  0.07120576500892639]}"
            ]
          },
          "execution_count": 22,
          "metadata": {},
          "output_type": "execute_result"
        }
      ],
      "source": [
        "history.history"
      ]
    },
    {
      "cell_type": "code",
      "execution_count": 23,
      "metadata": {
        "colab": {
          "base_uri": "https://localhost:8080/",
          "height": 898
        },
        "id": "UVyckjloDUDq",
        "outputId": "c180ebf4-99cb-4761-bd9b-8f0dda96fd59"
      },
      "outputs": [
        {
          "data": {
            "text/html": [
              "\n",
              "  <div id=\"df-f5443bd0-e62a-4ee8-8746-780ae4597224\">\n",
              "    <div class=\"colab-df-container\">\n",
              "      <div>\n",
              "<style scoped>\n",
              "    .dataframe tbody tr th:only-of-type {\n",
              "        vertical-align: middle;\n",
              "    }\n",
              "\n",
              "    .dataframe tbody tr th {\n",
              "        vertical-align: top;\n",
              "    }\n",
              "\n",
              "    .dataframe thead th {\n",
              "        text-align: right;\n",
              "    }\n",
              "</style>\n",
              "<table border=\"1\" class=\"dataframe\">\n",
              "  <thead>\n",
              "    <tr style=\"text-align: right;\">\n",
              "      <th></th>\n",
              "      <th>loss</th>\n",
              "      <th>accuracy</th>\n",
              "    </tr>\n",
              "  </thead>\n",
              "  <tbody>\n",
              "    <tr>\n",
              "      <th>0</th>\n",
              "      <td>0.685120</td>\n",
              "      <td>0.533286</td>\n",
              "    </tr>\n",
              "    <tr>\n",
              "      <th>1</th>\n",
              "      <td>0.653191</td>\n",
              "      <td>0.592857</td>\n",
              "    </tr>\n",
              "    <tr>\n",
              "      <th>2</th>\n",
              "      <td>0.613682</td>\n",
              "      <td>0.637571</td>\n",
              "    </tr>\n",
              "    <tr>\n",
              "      <th>3</th>\n",
              "      <td>0.548120</td>\n",
              "      <td>0.709714</td>\n",
              "    </tr>\n",
              "    <tr>\n",
              "      <th>4</th>\n",
              "      <td>0.467894</td>\n",
              "      <td>0.779429</td>\n",
              "    </tr>\n",
              "    <tr>\n",
              "      <th>5</th>\n",
              "      <td>0.448994</td>\n",
              "      <td>0.790143</td>\n",
              "    </tr>\n",
              "    <tr>\n",
              "      <th>6</th>\n",
              "      <td>0.431268</td>\n",
              "      <td>0.800571</td>\n",
              "    </tr>\n",
              "    <tr>\n",
              "      <th>7</th>\n",
              "      <td>0.421031</td>\n",
              "      <td>0.805429</td>\n",
              "    </tr>\n",
              "    <tr>\n",
              "      <th>8</th>\n",
              "      <td>0.415361</td>\n",
              "      <td>0.811000</td>\n",
              "    </tr>\n",
              "    <tr>\n",
              "      <th>9</th>\n",
              "      <td>0.407975</td>\n",
              "      <td>0.814143</td>\n",
              "    </tr>\n",
              "    <tr>\n",
              "      <th>10</th>\n",
              "      <td>0.402674</td>\n",
              "      <td>0.815286</td>\n",
              "    </tr>\n",
              "    <tr>\n",
              "      <th>11</th>\n",
              "      <td>0.398590</td>\n",
              "      <td>0.819429</td>\n",
              "    </tr>\n",
              "    <tr>\n",
              "      <th>12</th>\n",
              "      <td>0.395560</td>\n",
              "      <td>0.822571</td>\n",
              "    </tr>\n",
              "    <tr>\n",
              "      <th>13</th>\n",
              "      <td>0.390099</td>\n",
              "      <td>0.825429</td>\n",
              "    </tr>\n",
              "    <tr>\n",
              "      <th>14</th>\n",
              "      <td>0.353199</td>\n",
              "      <td>0.844857</td>\n",
              "    </tr>\n",
              "    <tr>\n",
              "      <th>15</th>\n",
              "      <td>0.312686</td>\n",
              "      <td>0.851857</td>\n",
              "    </tr>\n",
              "    <tr>\n",
              "      <th>16</th>\n",
              "      <td>0.281465</td>\n",
              "      <td>0.868429</td>\n",
              "    </tr>\n",
              "    <tr>\n",
              "      <th>17</th>\n",
              "      <td>0.267669</td>\n",
              "      <td>0.873571</td>\n",
              "    </tr>\n",
              "    <tr>\n",
              "      <th>18</th>\n",
              "      <td>0.263295</td>\n",
              "      <td>0.878571</td>\n",
              "    </tr>\n",
              "    <tr>\n",
              "      <th>19</th>\n",
              "      <td>0.248736</td>\n",
              "      <td>0.884857</td>\n",
              "    </tr>\n",
              "    <tr>\n",
              "      <th>20</th>\n",
              "      <td>0.241190</td>\n",
              "      <td>0.891429</td>\n",
              "    </tr>\n",
              "    <tr>\n",
              "      <th>21</th>\n",
              "      <td>0.242468</td>\n",
              "      <td>0.889714</td>\n",
              "    </tr>\n",
              "    <tr>\n",
              "      <th>22</th>\n",
              "      <td>0.228155</td>\n",
              "      <td>0.897857</td>\n",
              "    </tr>\n",
              "    <tr>\n",
              "      <th>23</th>\n",
              "      <td>0.111265</td>\n",
              "      <td>0.963286</td>\n",
              "    </tr>\n",
              "    <tr>\n",
              "      <th>24</th>\n",
              "      <td>0.071206</td>\n",
              "      <td>0.981000</td>\n",
              "    </tr>\n",
              "  </tbody>\n",
              "</table>\n",
              "</div>\n",
              "      <button class=\"colab-df-convert\" onclick=\"convertToInteractive('df-f5443bd0-e62a-4ee8-8746-780ae4597224')\"\n",
              "              title=\"Convert this dataframe to an interactive table.\"\n",
              "              style=\"display:none;\">\n",
              "        \n",
              "  <svg xmlns=\"http://www.w3.org/2000/svg\" height=\"24px\"viewBox=\"0 0 24 24\"\n",
              "       width=\"24px\">\n",
              "    <path d=\"M0 0h24v24H0V0z\" fill=\"none\"/>\n",
              "    <path d=\"M18.56 5.44l.94 2.06.94-2.06 2.06-.94-2.06-.94-.94-2.06-.94 2.06-2.06.94zm-11 1L8.5 8.5l.94-2.06 2.06-.94-2.06-.94L8.5 2.5l-.94 2.06-2.06.94zm10 10l.94 2.06.94-2.06 2.06-.94-2.06-.94-.94-2.06-.94 2.06-2.06.94z\"/><path d=\"M17.41 7.96l-1.37-1.37c-.4-.4-.92-.59-1.43-.59-.52 0-1.04.2-1.43.59L10.3 9.45l-7.72 7.72c-.78.78-.78 2.05 0 2.83L4 21.41c.39.39.9.59 1.41.59.51 0 1.02-.2 1.41-.59l7.78-7.78 2.81-2.81c.8-.78.8-2.07 0-2.86zM5.41 20L4 18.59l7.72-7.72 1.47 1.35L5.41 20z\"/>\n",
              "  </svg>\n",
              "      </button>\n",
              "      \n",
              "  <style>\n",
              "    .colab-df-container {\n",
              "      display:flex;\n",
              "      flex-wrap:wrap;\n",
              "      gap: 12px;\n",
              "    }\n",
              "\n",
              "    .colab-df-convert {\n",
              "      background-color: #E8F0FE;\n",
              "      border: none;\n",
              "      border-radius: 50%;\n",
              "      cursor: pointer;\n",
              "      display: none;\n",
              "      fill: #1967D2;\n",
              "      height: 32px;\n",
              "      padding: 0 0 0 0;\n",
              "      width: 32px;\n",
              "    }\n",
              "\n",
              "    .colab-df-convert:hover {\n",
              "      background-color: #E2EBFA;\n",
              "      box-shadow: 0px 1px 2px rgba(60, 64, 67, 0.3), 0px 1px 3px 1px rgba(60, 64, 67, 0.15);\n",
              "      fill: #174EA6;\n",
              "    }\n",
              "\n",
              "    [theme=dark] .colab-df-convert {\n",
              "      background-color: #3B4455;\n",
              "      fill: #D2E3FC;\n",
              "    }\n",
              "\n",
              "    [theme=dark] .colab-df-convert:hover {\n",
              "      background-color: #434B5C;\n",
              "      box-shadow: 0px 1px 3px 1px rgba(0, 0, 0, 0.15);\n",
              "      filter: drop-shadow(0px 1px 2px rgba(0, 0, 0, 0.3));\n",
              "      fill: #FFFFFF;\n",
              "    }\n",
              "  </style>\n",
              "\n",
              "      <script>\n",
              "        const buttonEl =\n",
              "          document.querySelector('#df-f5443bd0-e62a-4ee8-8746-780ae4597224 button.colab-df-convert');\n",
              "        buttonEl.style.display =\n",
              "          google.colab.kernel.accessAllowed ? 'block' : 'none';\n",
              "\n",
              "        async function convertToInteractive(key) {\n",
              "          const element = document.querySelector('#df-f5443bd0-e62a-4ee8-8746-780ae4597224');\n",
              "          const dataTable =\n",
              "            await google.colab.kernel.invokeFunction('convertToInteractive',\n",
              "                                                     [key], {});\n",
              "          if (!dataTable) return;\n",
              "\n",
              "          const docLinkHtml = 'Like what you see? Visit the ' +\n",
              "            '<a target=\"_blank\" href=https://colab.research.google.com/notebooks/data_table.ipynb>data table notebook</a>'\n",
              "            + ' to learn more about interactive tables.';\n",
              "          element.innerHTML = '';\n",
              "          dataTable['output_type'] = 'display_data';\n",
              "          await google.colab.output.renderOutput(dataTable, element);\n",
              "          const docLink = document.createElement('div');\n",
              "          docLink.innerHTML = docLinkHtml;\n",
              "          element.appendChild(docLink);\n",
              "        }\n",
              "      </script>\n",
              "    </div>\n",
              "  </div>\n",
              "  "
            ],
            "text/plain": [
              "        loss  accuracy\n",
              "0   0.685120  0.533286\n",
              "1   0.653191  0.592857\n",
              "2   0.613682  0.637571\n",
              "3   0.548120  0.709714\n",
              "4   0.467894  0.779429\n",
              "5   0.448994  0.790143\n",
              "6   0.431268  0.800571\n",
              "7   0.421031  0.805429\n",
              "8   0.415361  0.811000\n",
              "9   0.407975  0.814143\n",
              "10  0.402674  0.815286\n",
              "11  0.398590  0.819429\n",
              "12  0.395560  0.822571\n",
              "13  0.390099  0.825429\n",
              "14  0.353199  0.844857\n",
              "15  0.312686  0.851857\n",
              "16  0.281465  0.868429\n",
              "17  0.267669  0.873571\n",
              "18  0.263295  0.878571\n",
              "19  0.248736  0.884857\n",
              "20  0.241190  0.891429\n",
              "21  0.242468  0.889714\n",
              "22  0.228155  0.897857\n",
              "23  0.111265  0.963286\n",
              "24  0.071206  0.981000"
            ]
          },
          "execution_count": 23,
          "metadata": {},
          "output_type": "execute_result"
        }
      ],
      "source": [
        "pd.DataFrame(history.history)"
      ]
    },
    {
      "cell_type": "code",
      "execution_count": 24,
      "metadata": {
        "colab": {
          "base_uri": "https://localhost:8080/",
          "height": 301
        },
        "id": "_mimUeCVDZnn",
        "outputId": "c516e1c5-e58c-4ff4-9767-f2f60bd7af53"
      },
      "outputs": [
        {
          "data": {
            "text/plain": [
              "Text(0.5, 1.0, 'Model_2 Loss Curve')"
            ]
          },
          "execution_count": 24,
          "metadata": {},
          "output_type": "execute_result"
        },
        {
          "data": {
            "image/png": "[encoded data removed]",
            "text/plain": [
              "<Figure size 432x288 with 1 Axes>"
            ]
          },
          "metadata": {
            "needs_background": "light"
          },
          "output_type": "display_data"
        }
      ],
      "source": [
        "pd.DataFrame(history.history).plot()\n",
        "plt.title(\"Model_2 Loss Curve\")"
      ]
    },
    {
      "cell_type": "markdown",
      "metadata": {
        "id": "nVWQKEFhDzql"
      },
      "source": [
        "### Find the ideal/best learning rate\n",
        "\n",
        "**Steps**\n",
        "\n",
        "* Learning rate **callback** is an extra piece of functionality, which we can add *while* the model is training.\n",
        "\n",
        "* Build another model\n",
        "\n",
        "* Modified lost curve plot"
      ]
    },
    {
      "cell_type": "code",
      "execution_count": 25,
      "metadata": {
        "colab": {
          "base_uri": "https://localhost:8080/"
        },
        "id": "8gGd8fmLEw9K",
        "outputId": "a3a35489-b6cb-45a2-d521-073a1944db55"
      },
      "outputs": [
        {
          "name": "stdout",
          "output_type": "stream",
          "text": [
            "Epoch 1/100\n",
            "219/219 [==============================] - 1s 2ms/step - loss: 0.6913 - accuracy: 0.4989 - lr: 1.0000e-04\n",
            "Epoch 2/100\n",
            "219/219 [==============================] - 0s 2ms/step - loss: 0.6871 - accuracy: 0.5046 - lr: 1.1220e-04\n",
            "Epoch 3/100\n",
            "219/219 [==============================] - 0s 2ms/step - loss: 0.6843 - accuracy: 0.5221 - lr: 1.2589e-04\n",
            "Epoch 4/100\n",
            "219/219 [==============================] - 0s 2ms/step - loss: 0.6824 - accuracy: 0.5264 - lr: 1.4125e-04\n",
            "Epoch 5/100\n",
            "219/219 [==============================] - 0s 2ms/step - loss: 0.6811 - accuracy: 0.5334 - lr: 1.5849e-04\n",
            "Epoch 6/100\n",
            "219/219 [==============================] - 0s 2ms/step - loss: 0.6801 - accuracy: 0.5361 - lr: 1.7783e-04\n",
            "Epoch 7/100\n",
            "219/219 [==============================] - 0s 2ms/step - loss: 0.6791 - accuracy: 0.5449 - lr: 1.9953e-04\n",
            "Epoch 8/100\n",
            "219/219 [==============================] - 0s 2ms/step - loss: 0.6781 - accuracy: 0.5494 - lr: 2.2387e-04\n",
            "Epoch 9/100\n",
            "219/219 [==============================] - 0s 2ms/step - loss: 0.6771 - accuracy: 0.5521 - lr: 2.5119e-04\n",
            "Epoch 10/100\n",
            "219/219 [==============================] - 0s 2ms/step - loss: 0.6759 - accuracy: 0.5536 - lr: 2.8184e-04\n",
            "Epoch 11/100\n",
            "219/219 [==============================] - 0s 2ms/step - loss: 0.6746 - accuracy: 0.5546 - lr: 3.1623e-04\n",
            "Epoch 12/100\n",
            "219/219 [==============================] - 0s 2ms/step - loss: 0.6731 - accuracy: 0.5579 - lr: 3.5481e-04\n",
            "Epoch 13/100\n",
            "219/219 [==============================] - 0s 2ms/step - loss: 0.6714 - accuracy: 0.5587 - lr: 3.9811e-04\n",
            "Epoch 14/100\n",
            "219/219 [==============================] - 0s 2ms/step - loss: 0.6696 - accuracy: 0.5604 - lr: 4.4668e-04\n",
            "Epoch 15/100\n",
            "219/219 [==============================] - 0s 2ms/step - loss: 0.6674 - accuracy: 0.5653 - lr: 5.0119e-04\n",
            "Epoch 16/100\n",
            "219/219 [==============================] - 0s 2ms/step - loss: 0.6651 - accuracy: 0.5653 - lr: 5.6234e-04\n",
            "Epoch 17/100\n",
            "219/219 [==============================] - 0s 2ms/step - loss: 0.6623 - accuracy: 0.5709 - lr: 6.3096e-04\n",
            "Epoch 18/100\n",
            "219/219 [==============================] - 0s 2ms/step - loss: 0.6589 - accuracy: 0.5791 - lr: 7.0795e-04\n",
            "Epoch 19/100\n",
            "219/219 [==============================] - 0s 2ms/step - loss: 0.6539 - accuracy: 0.5866 - lr: 7.9433e-04\n",
            "Epoch 20/100\n",
            "219/219 [==============================] - 0s 2ms/step - loss: 0.6438 - accuracy: 0.6060 - lr: 8.9125e-04\n",
            "Epoch 21/100\n",
            "219/219 [==============================] - 0s 2ms/step - loss: 0.6279 - accuracy: 0.6654 - lr: 0.0010\n",
            "Epoch 22/100\n",
            "219/219 [==============================] - 0s 2ms/step - loss: 0.6017 - accuracy: 0.7313 - lr: 0.0011\n",
            "Epoch 23/100\n",
            "219/219 [==============================] - 0s 2ms/step - loss: 0.5510 - accuracy: 0.7783 - lr: 0.0013\n",
            "Epoch 24/100\n",
            "219/219 [==============================] - 0s 2ms/step - loss: 0.4770 - accuracy: 0.8870 - lr: 0.0014\n",
            "Epoch 25/100\n",
            "219/219 [==============================] - 0s 2ms/step - loss: 0.3745 - accuracy: 0.9690 - lr: 0.0016\n",
            "Epoch 26/100\n",
            "219/219 [==============================] - 0s 2ms/step - loss: 0.2847 - accuracy: 0.9860 - lr: 0.0018\n",
            "Epoch 27/100\n",
            "219/219 [==============================] - 0s 2ms/step - loss: 0.2121 - accuracy: 0.9901 - lr: 0.0020\n",
            "Epoch 28/100\n",
            "219/219 [==============================] - 0s 2ms/step - loss: 0.1598 - accuracy: 0.9913 - lr: 0.0022\n",
            "Epoch 29/100\n",
            "219/219 [==============================] - 0s 2ms/step - loss: 0.1222 - accuracy: 0.9914 - lr: 0.0025\n",
            "Epoch 30/100\n",
            "219/219 [==============================] - 0s 2ms/step - loss: 0.0965 - accuracy: 0.9926 - lr: 0.0028\n",
            "Epoch 31/100\n",
            "219/219 [==============================] - 0s 2ms/step - loss: 0.0782 - accuracy: 0.9914 - lr: 0.0032\n",
            "Epoch 32/100\n",
            "219/219 [==============================] - 0s 2ms/step - loss: 0.0633 - accuracy: 0.9936 - lr: 0.0035\n",
            "Epoch 33/100\n",
            "219/219 [==============================] - 0s 2ms/step - loss: 0.0536 - accuracy: 0.9930 - lr: 0.0040\n",
            "Epoch 34/100\n",
            "219/219 [==============================] - 0s 2ms/step - loss: 0.0461 - accuracy: 0.9930 - lr: 0.0045\n",
            "Epoch 35/100\n",
            "219/219 [==============================] - 0s 2ms/step - loss: 0.0408 - accuracy: 0.9920 - lr: 0.0050\n",
            "Epoch 36/100\n",
            "219/219 [==============================] - 0s 2ms/step - loss: 0.0364 - accuracy: 0.9917 - lr: 0.0056\n",
            "Epoch 37/100\n",
            "219/219 [==============================] - 0s 2ms/step - loss: 0.0349 - accuracy: 0.9910 - lr: 0.0063\n",
            "Epoch 38/100\n",
            "219/219 [==============================] - 0s 2ms/step - loss: 0.0337 - accuracy: 0.9910 - lr: 0.0071\n",
            "Epoch 39/100\n",
            "219/219 [==============================] - 0s 2ms/step - loss: 0.0302 - accuracy: 0.9919 - lr: 0.0079\n",
            "Epoch 40/100\n",
            "219/219 [==============================] - 0s 2ms/step - loss: 0.0328 - accuracy: 0.9907 - lr: 0.0089\n",
            "Epoch 41/100\n",
            "219/219 [==============================] - 0s 2ms/step - loss: 0.0268 - accuracy: 0.9917 - lr: 0.0100\n",
            "Epoch 42/100\n",
            "219/219 [==============================] - 0s 2ms/step - loss: 0.0373 - accuracy: 0.9871 - lr: 0.0112\n",
            "Epoch 43/100\n",
            "219/219 [==============================] - 0s 2ms/step - loss: 0.0363 - accuracy: 0.9869 - lr: 0.0126\n",
            "Epoch 44/100\n",
            "219/219 [==============================] - 0s 2ms/step - loss: 0.0344 - accuracy: 0.9876 - lr: 0.0141\n",
            "Epoch 45/100\n",
            "219/219 [==============================] - 0s 2ms/step - loss: 0.0431 - accuracy: 0.9839 - lr: 0.0158\n",
            "Epoch 46/100\n",
            "219/219 [==============================] - 0s 2ms/step - loss: 0.0500 - accuracy: 0.9806 - lr: 0.0178\n",
            "Epoch 47/100\n",
            "219/219 [==============================] - 0s 2ms/step - loss: 0.0424 - accuracy: 0.9864 - lr: 0.0200\n",
            "Epoch 48/100\n",
            "219/219 [==============================] - 0s 2ms/step - loss: 0.0414 - accuracy: 0.9846 - lr: 0.0224\n",
            "Epoch 49/100\n",
            "219/219 [==============================] - 0s 2ms/step - loss: 0.0366 - accuracy: 0.9867 - lr: 0.0251\n",
            "Epoch 50/100\n",
            "219/219 [==============================] - 0s 2ms/step - loss: 0.0546 - accuracy: 0.9789 - lr: 0.0282\n",
            "Epoch 51/100\n",
            "219/219 [==============================] - 0s 2ms/step - loss: 0.0537 - accuracy: 0.9800 - lr: 0.0316\n",
            "Epoch 52/100\n",
            "219/219 [==============================] - 0s 2ms/step - loss: 0.0763 - accuracy: 0.9714 - lr: 0.0355\n",
            "Epoch 53/100\n",
            "219/219 [==============================] - 0s 2ms/step - loss: 0.0480 - accuracy: 0.9833 - lr: 0.0398\n",
            "Epoch 54/100\n",
            "219/219 [==============================] - 0s 2ms/step - loss: 0.0597 - accuracy: 0.9793 - lr: 0.0447\n",
            "Epoch 55/100\n",
            "219/219 [==============================] - 0s 2ms/step - loss: 0.0699 - accuracy: 0.9721 - lr: 0.0501\n",
            "Epoch 56/100\n",
            "219/219 [==============================] - 0s 2ms/step - loss: 0.0605 - accuracy: 0.9796 - lr: 0.0562\n",
            "Epoch 57/100\n",
            "219/219 [==============================] - 0s 2ms/step - loss: 0.0325 - accuracy: 0.9880 - lr: 0.0631\n",
            "Epoch 58/100\n",
            "219/219 [==============================] - 0s 2ms/step - loss: 0.0465 - accuracy: 0.9830 - lr: 0.0708\n",
            "Epoch 59/100\n",
            "219/219 [==============================] - 0s 2ms/step - loss: 0.0494 - accuracy: 0.9820 - lr: 0.0794\n",
            "Epoch 60/100\n",
            "219/219 [==============================] - 0s 2ms/step - loss: 0.0347 - accuracy: 0.9870 - lr: 0.0891\n",
            "Epoch 61/100\n",
            "219/219 [==============================] - 0s 2ms/step - loss: 0.0336 - accuracy: 0.9879 - lr: 0.1000\n",
            "Epoch 62/100\n",
            "219/219 [==============================] - 0s 2ms/step - loss: 0.1074 - accuracy: 0.9630 - lr: 0.1122\n",
            "Epoch 63/100\n",
            "219/219 [==============================] - 0s 2ms/step - loss: 0.0455 - accuracy: 0.9853 - lr: 0.1259\n",
            "Epoch 64/100\n",
            "219/219 [==============================] - 0s 2ms/step - loss: 0.0522 - accuracy: 0.9819 - lr: 0.1413\n",
            "Epoch 65/100\n",
            "219/219 [==============================] - 0s 2ms/step - loss: 0.0749 - accuracy: 0.9729 - lr: 0.1585\n",
            "Epoch 66/100\n",
            "219/219 [==============================] - 0s 2ms/step - loss: 0.0851 - accuracy: 0.9671 - lr: 0.1778\n",
            "Epoch 67/100\n",
            "219/219 [==============================] - 0s 2ms/step - loss: 0.0561 - accuracy: 0.9793 - lr: 0.1995\n",
            "Epoch 68/100\n",
            "219/219 [==============================] - 0s 2ms/step - loss: 0.0541 - accuracy: 0.9789 - lr: 0.2239\n",
            "Epoch 69/100\n",
            "219/219 [==============================] - 0s 2ms/step - loss: 0.0839 - accuracy: 0.9694 - lr: 0.2512\n",
            "Epoch 70/100\n",
            "219/219 [==============================] - 0s 2ms/step - loss: 0.0583 - accuracy: 0.9767 - lr: 0.2818\n",
            "Epoch 71/100\n",
            "219/219 [==============================] - 0s 2ms/step - loss: 0.1416 - accuracy: 0.9534 - lr: 0.3162\n",
            "Epoch 72/100\n",
            "219/219 [==============================] - 0s 2ms/step - loss: 0.1082 - accuracy: 0.9640 - lr: 0.3548\n",
            "Epoch 73/100\n",
            "219/219 [==============================] - 0s 2ms/step - loss: 0.2591 - accuracy: 0.8897 - lr: 0.3981\n",
            "Epoch 74/100\n",
            "219/219 [==============================] - 0s 2ms/step - loss: 0.0971 - accuracy: 0.9657 - lr: 0.4467\n",
            "Epoch 75/100\n",
            "219/219 [==============================] - 0s 2ms/step - loss: 0.1589 - accuracy: 0.9447 - lr: 0.5012\n",
            "Epoch 76/100\n",
            "219/219 [==============================] - 0s 2ms/step - loss: 0.3061 - accuracy: 0.8837 - lr: 0.5623\n",
            "Epoch 77/100\n",
            "219/219 [==============================] - 0s 2ms/step - loss: 0.2425 - accuracy: 0.9109 - lr: 0.6310\n",
            "Epoch 78/100\n",
            "219/219 [==============================] - 0s 2ms/step - loss: 0.6400 - accuracy: 0.6451 - lr: 0.7079\n",
            "Epoch 79/100\n",
            "219/219 [==============================] - 0s 2ms/step - loss: 0.7116 - accuracy: 0.5004 - lr: 0.7943\n",
            "Epoch 80/100\n",
            "219/219 [==============================] - 0s 2ms/step - loss: 0.7049 - accuracy: 0.5081 - lr: 0.8913\n",
            "Epoch 81/100\n",
            "219/219 [==============================] - 0s 2ms/step - loss: 0.7113 - accuracy: 0.5087 - lr: 1.0000\n",
            "Epoch 82/100\n",
            "219/219 [==============================] - 0s 2ms/step - loss: 0.7157 - accuracy: 0.4981 - lr: 1.1220\n",
            "Epoch 83/100\n",
            "219/219 [==============================] - 0s 2ms/step - loss: 0.7121 - accuracy: 0.5047 - lr: 1.2589\n",
            "Epoch 84/100\n",
            "219/219 [==============================] - 0s 2ms/step - loss: 0.7249 - accuracy: 0.5019 - lr: 1.4125\n",
            "Epoch 85/100\n",
            "219/219 [==============================] - 0s 2ms/step - loss: 0.7259 - accuracy: 0.4996 - lr: 1.5849\n",
            "Epoch 86/100\n",
            "219/219 [==============================] - 0s 2ms/step - loss: 0.7333 - accuracy: 0.5030 - lr: 1.7783\n",
            "Epoch 87/100\n",
            "219/219 [==============================] - 0s 2ms/step - loss: 0.7169 - accuracy: 0.5056 - lr: 1.9953\n",
            "Epoch 88/100\n",
            "219/219 [==============================] - 0s 2ms/step - loss: 0.7273 - accuracy: 0.5036 - lr: 2.2387\n",
            "Epoch 89/100\n",
            "219/219 [==============================] - 0s 2ms/step - loss: 0.7458 - accuracy: 0.5019 - lr: 2.5119\n",
            "Epoch 90/100\n",
            "219/219 [==============================] - 0s 2ms/step - loss: 0.7527 - accuracy: 0.4953 - lr: 2.8184\n",
            "Epoch 91/100\n",
            "219/219 [==============================] - 0s 2ms/step - loss: 0.7312 - accuracy: 0.5013 - lr: 3.1623\n",
            "Epoch 92/100\n",
            "219/219 [==============================] - 0s 2ms/step - loss: 0.7153 - accuracy: 0.5070 - lr: 3.5481\n",
            "Epoch 93/100\n",
            "219/219 [==============================] - 0s 2ms/step - loss: 0.7506 - accuracy: 0.5024 - lr: 3.9811\n",
            "Epoch 94/100\n",
            "219/219 [==============================] - 0s 2ms/step - loss: 0.7577 - accuracy: 0.4953 - lr: 4.4668\n",
            "Epoch 95/100\n",
            "219/219 [==============================] - 0s 2ms/step - loss: 0.7804 - accuracy: 0.5016 - lr: 5.0119\n",
            "Epoch 96/100\n",
            "219/219 [==============================] - 0s 2ms/step - loss: 0.7579 - accuracy: 0.5141 - lr: 5.6234\n",
            "Epoch 97/100\n",
            "219/219 [==============================] - 0s 2ms/step - loss: 0.7838 - accuracy: 0.5013 - lr: 6.3096\n",
            "Epoch 98/100\n",
            "219/219 [==============================] - 0s 2ms/step - loss: 0.8133 - accuracy: 0.4904 - lr: 7.0795\n",
            "Epoch 99/100\n",
            "219/219 [==============================] - 0s 2ms/step - loss: 0.8147 - accuracy: 0.4999 - lr: 7.9433\n",
            "Epoch 100/100\n",
            "219/219 [==============================] - 0s 2ms/step - loss: 0.7958 - accuracy: 0.5064 - lr: 8.9125\n"
          ]
        }
      ],
      "source": [
        "tf.random.set_seed(42)\n",
        "\n",
        "model_3=tf.keras.Sequential([\n",
        "            tf.keras.layers.Dense(4, activation=\"relu\"),\n",
        "            tf.keras.layers.Dense(4, activation=\"relu\"),\n",
        "            tf.keras.layers.Dense(1, activation=\"sigmoid\"),\n",
        "])\n",
        "\n",
        "model_3.compile(loss=\"binary_crossentropy\", optimizer=\"Adam\", metrics=[\"accuracy\"])\n",
        "\n",
        "lr_callback=tf.keras.callbacks.LearningRateScheduler(lambda epoch: 1e-4 * 10**(epoch/20))\n",
        "\n",
        "history_3=model_3.fit(X_train,y_train, epochs=100, callbacks=[lr_callback])"
      ]
    },
    {
      "cell_type": "code",
      "execution_count": 26,
      "metadata": {
        "colab": {
          "base_uri": "https://localhost:8080/"
        },
        "id": "nD1R-UjgGdIT",
        "outputId": "70da888c-5957-43fd-debf-7f85171ee503"
      },
      "outputs": [
        {
          "name": "stdout",
          "output_type": "stream",
          "text": [
            "94/94 [==============================] - 0s 2ms/step - loss: 1.0935 - accuracy: 0.4870\n"
          ]
        },
        {
          "data": {
            "text/plain": [
              "[1.0934902429580688, 0.4869999885559082]"
            ]
          },
          "execution_count": 26,
          "metadata": {},
          "output_type": "execute_result"
        }
      ],
      "source": [
        "model_3.evaluate(X_test,y_test)"
      ]
    },
    {
      "cell_type": "code",
      "execution_count": 27,
      "metadata": {
        "colab": {
          "base_uri": "https://localhost:8080/",
          "height": 462
        },
        "id": "dyBEWTbBGmY5",
        "outputId": "4c7d35c2-c401-4854-bb8a-13793c3f11d5"
      },
      "outputs": [
        {
          "data": {
            "text/plain": [
              "<matplotlib.axes._subplots.AxesSubplot at 0x7fa7265f4e50>"
            ]
          },
          "execution_count": 27,
          "metadata": {},
          "output_type": "execute_result"
        },
        {
          "data": {
            "image/png": "[encoded data removed]",
            "text/plain": [
              "<Figure size 720x504 with 1 Axes>"
            ]
          },
          "metadata": {
            "needs_background": "light"
          },
          "output_type": "display_data"
        }
      ],
      "source": [
        "pd.DataFrame(history_3.history).plot(figsize=(10,7), xlabel=\"epochs\")"
      ]
    },
    {
      "cell_type": "markdown",
      "metadata": {
        "id": "i3RQ8iSgGyqd"
      },
      "source": [
        "### Learning rate VS Loss"
      ]
    },
    {
      "cell_type": "code",
      "execution_count": 28,
      "metadata": {
        "colab": {
          "base_uri": "https://localhost:8080/"
        },
        "id": "ysAtrLtfUPIG",
        "outputId": "3cb5ac3f-7f68-40fb-ea7b-90309f2135a1"
      },
      "outputs": [
        {
          "data": {
            "text/plain": [
              "<tf.Tensor: shape=(100,), dtype=float64, numpy=\n",
              "array([1.00000000e-04, 1.12201845e-04, 1.25892541e-04, 1.41253754e-04,\n",
              "       1.58489319e-04, 1.77827941e-04, 1.99526231e-04, 2.23872114e-04,\n",
              "       2.51188643e-04, 2.81838293e-04, 3.16227766e-04, 3.54813389e-04,\n",
              "       3.98107171e-04, 4.46683592e-04, 5.01187234e-04, 5.62341325e-04,\n",
              "       6.30957344e-04, 7.07945784e-04, 7.94328235e-04, 8.91250938e-04,\n",
              "       1.00000000e-03, 1.12201845e-03, 1.25892541e-03, 1.41253754e-03,\n",
              "       1.58489319e-03, 1.77827941e-03, 1.99526231e-03, 2.23872114e-03,\n",
              "       2.51188643e-03, 2.81838293e-03, 3.16227766e-03, 3.54813389e-03,\n",
              "       3.98107171e-03, 4.46683592e-03, 5.01187234e-03, 5.62341325e-03,\n",
              "       6.30957344e-03, 7.07945784e-03, 7.94328235e-03, 8.91250938e-03,\n",
              "       1.00000000e-02, 1.12201845e-02, 1.25892541e-02, 1.41253754e-02,\n",
              "       1.58489319e-02, 1.77827941e-02, 1.99526231e-02, 2.23872114e-02,\n",
              "       2.51188643e-02, 2.81838293e-02, 3.16227766e-02, 3.54813389e-02,\n",
              "       3.98107171e-02, 4.46683592e-02, 5.01187234e-02, 5.62341325e-02,\n",
              "       6.30957344e-02, 7.07945784e-02, 7.94328235e-02, 8.91250938e-02,\n",
              "       1.00000000e-01, 1.12201845e-01, 1.25892541e-01, 1.41253754e-01,\n",
              "       1.58489319e-01, 1.77827941e-01, 1.99526231e-01, 2.23872114e-01,\n",
              "       2.51188643e-01, 2.81838293e-01, 3.16227766e-01, 3.54813389e-01,\n",
              "       3.98107171e-01, 4.46683592e-01, 5.01187234e-01, 5.62341325e-01,\n",
              "       6.30957344e-01, 7.07945784e-01, 7.94328235e-01, 8.91250938e-01,\n",
              "       1.00000000e+00, 1.12201845e+00, 1.25892541e+00, 1.41253754e+00,\n",
              "       1.58489319e+00, 1.77827941e+00, 1.99526231e+00, 2.23872114e+00,\n",
              "       2.51188643e+00, 2.81838293e+00, 3.16227766e+00, 3.54813389e+00,\n",
              "       3.98107171e+00, 4.46683592e+00, 5.01187234e+00, 5.62341325e+00,\n",
              "       6.30957344e+00, 7.07945784e+00, 7.94328235e+00, 8.91250938e+00])>"
            ]
          },
          "execution_count": 28,
          "metadata": {},
          "output_type": "execute_result"
        }
      ],
      "source": [
        "lrs=  1e-4 *(10** (tf.range(100)/20))\n",
        "lrs"
      ]
    },
    {
      "cell_type": "code",
      "execution_count": 29,
      "metadata": {
        "colab": {
          "base_uri": "https://localhost:8080/"
        },
        "id": "GEOloDzvUUTB",
        "outputId": "a97b6dc2-d3eb-4fa2-bbc6-4cce1a020352"
      },
      "outputs": [
        {
          "data": {
            "text/plain": [
              "100"
            ]
          },
          "execution_count": 29,
          "metadata": {},
          "output_type": "execute_result"
        }
      ],
      "source": [
        "len(lrs)"
      ]
    },
    {
      "cell_type": "code",
      "execution_count": 30,
      "metadata": {
        "colab": {
          "base_uri": "https://localhost:8080/",
          "height": 482
        },
        "id": "cNMNKDD4UWaE",
        "outputId": "79458c05-aa33-4582-fdbc-d03704d9f43f"
      },
      "outputs": [
        {
          "data": {
            "text/plain": [
              "Text(0.5, 1.0, 'Learning rate VS Loss')"
            ]
          },
          "execution_count": 30,
          "metadata": {},
          "output_type": "execute_result"
        },
        {
          "data": {
            "image/png": "[encoded data removed]",
            "text/plain": [
              "<Figure size 720x504 with 1 Axes>"
            ]
          },
          "metadata": {
            "needs_background": "light"
          },
          "output_type": "display_data"
        }
      ],
      "source": [
        "plt.figure(figsize=(10,7))\n",
        "plt.semilogx(lrs, history_3.history[\"loss\"])\n",
        "plt.xlabel(\"Learning rate\")\n",
        "plt.ylabel(\"Loss\")\n",
        "plt.title(\"Learning rate VS Loss\")"
      ]
    },
    {
      "cell_type": "markdown",
      "metadata": {
        "id": "hWTFYY3JUvBS"
      },
      "source": [
        "### Examples of some usual learning rate"
      ]
    },
    {
      "cell_type": "code",
      "execution_count": 31,
      "metadata": {
        "colab": {
          "base_uri": "https://localhost:8080/"
        },
        "id": "2quv79cPVtbu",
        "outputId": "941b1da4-d8c2-43fa-f403-1f11778bc849"
      },
      "outputs": [
        {
          "data": {
            "text/plain": [
              "(1, 0.1, 0.01, 0.001, 0.0001, 0.0001)"
            ]
          },
          "execution_count": 31,
          "metadata": {},
          "output_type": "execute_result"
        }
      ],
      "source": [
        "10**0, 10**-1, 10**-2,10**-3,10**-4, 1e-4 "
      ]
    },
    {
      "cell_type": "code",
      "execution_count": 32,
      "metadata": {
        "colab": {
          "base_uri": "https://localhost:8080/"
        },
        "id": "CLwy47x2V10H",
        "outputId": "9c3d81a5-c891-4758-a1f0-544e33bb9647"
      },
      "outputs": [
        {
          "name": "stdout",
          "output_type": "stream",
          "text": [
            "Epoch 1/25\n",
            "219/219 [==============================] - 1s 2ms/step - loss: 0.3861 - accuracy: 0.8141\n",
            "Epoch 2/25\n",
            "219/219 [==============================] - 0s 2ms/step - loss: 0.0668 - accuracy: 0.9790\n",
            "Epoch 3/25\n",
            "219/219 [==============================] - 0s 2ms/step - loss: 0.0459 - accuracy: 0.9859\n",
            "Epoch 4/25\n",
            "219/219 [==============================] - 0s 2ms/step - loss: 0.0461 - accuracy: 0.9821\n",
            "Epoch 5/25\n",
            "219/219 [==============================] - 0s 2ms/step - loss: 0.0520 - accuracy: 0.9809\n",
            "Epoch 6/25\n",
            "219/219 [==============================] - 0s 2ms/step - loss: 0.0299 - accuracy: 0.9890\n",
            "Epoch 7/25\n",
            "219/219 [==============================] - 0s 2ms/step - loss: 0.0403 - accuracy: 0.9847\n",
            "Epoch 8/25\n",
            "219/219 [==============================] - 0s 2ms/step - loss: 0.0342 - accuracy: 0.9876\n",
            "Epoch 9/25\n",
            "219/219 [==============================] - 0s 2ms/step - loss: 0.0301 - accuracy: 0.9899\n",
            "Epoch 10/25\n",
            "219/219 [==============================] - 0s 2ms/step - loss: 0.0409 - accuracy: 0.9866\n",
            "Epoch 11/25\n",
            "219/219 [==============================] - 0s 2ms/step - loss: 0.0321 - accuracy: 0.9894\n",
            "Epoch 12/25\n",
            "219/219 [==============================] - 0s 2ms/step - loss: 0.0355 - accuracy: 0.9869\n",
            "Epoch 13/25\n",
            "219/219 [==============================] - 0s 2ms/step - loss: 0.0270 - accuracy: 0.9901\n",
            "Epoch 14/25\n",
            "219/219 [==============================] - 0s 2ms/step - loss: 0.0276 - accuracy: 0.9897\n",
            "Epoch 15/25\n",
            "219/219 [==============================] - 0s 2ms/step - loss: 0.0285 - accuracy: 0.9881\n",
            "Epoch 16/25\n",
            "219/219 [==============================] - 0s 2ms/step - loss: 0.0226 - accuracy: 0.9917\n",
            "Epoch 17/25\n",
            "219/219 [==============================] - 0s 2ms/step - loss: 0.0214 - accuracy: 0.9914\n",
            "Epoch 18/25\n",
            "219/219 [==============================] - 0s 2ms/step - loss: 0.0400 - accuracy: 0.9856\n",
            "Epoch 19/25\n",
            "219/219 [==============================] - 0s 2ms/step - loss: 0.0267 - accuracy: 0.9891\n",
            "Epoch 20/25\n",
            "219/219 [==============================] - 0s 2ms/step - loss: 0.0313 - accuracy: 0.9873\n",
            "Epoch 21/25\n",
            "219/219 [==============================] - 0s 2ms/step - loss: 0.0239 - accuracy: 0.9914\n",
            "Epoch 22/25\n",
            "219/219 [==============================] - 0s 2ms/step - loss: 0.0283 - accuracy: 0.9896\n",
            "Epoch 23/25\n",
            "219/219 [==============================] - 0s 2ms/step - loss: 0.0270 - accuracy: 0.9907\n",
            "Epoch 24/25\n",
            "219/219 [==============================] - 0s 2ms/step - loss: 0.0304 - accuracy: 0.9874\n",
            "Epoch 25/25\n",
            "219/219 [==============================] - 1s 3ms/step - loss: 0.0365 - accuracy: 0.9874\n"
          ]
        }
      ],
      "source": [
        "tf.random.set_seed(42)\n",
        "\n",
        "model_4=tf.keras.Sequential([\n",
        "            tf.keras.layers.Dense(4, activation=\"relu\"),\n",
        "            tf.keras.layers.Dense(4, activation=\"relu\"),\n",
        "            tf.keras.layers.Dense(1, activation=\"sigmoid\"),\n",
        "])\n",
        "\n",
        "model_4.compile(loss=\"binary_crossentropy\", optimizer=tf.keras.optimizers.Adam(learning_rate=0.05), metrics=[\"accuracy\"])\n",
        "\n",
        "history_4=model_4.fit(X_train,y_train, epochs=25)"
      ]
    },
    {
      "cell_type": "code",
      "execution_count": 33,
      "metadata": {
        "colab": {
          "base_uri": "https://localhost:8080/"
        },
        "id": "Wrauu1nnpqGt",
        "outputId": "18ffdb3b-2474-4634-e074-3c00e0aae682"
      },
      "outputs": [
        {
          "name": "stdout",
          "output_type": "stream",
          "text": [
            "94/94 [==============================] - 0s 2ms/step - loss: 0.0724 - accuracy: 0.9733\n"
          ]
        },
        {
          "data": {
            "text/plain": [
              "[0.07235588133335114, 0.9733333587646484]"
            ]
          },
          "execution_count": 33,
          "metadata": {},
          "output_type": "execute_result"
        }
      ],
      "source": [
        "model_4.evaluate(X_test,y_test)"
      ]
    },
    {
      "cell_type": "markdown",
      "metadata": {
        "id": "0m354XPcpt1p"
      },
      "source": [
        "### Confusion Matrix"
      ]
    },
    {
      "cell_type": "code",
      "execution_count": 34,
      "metadata": {
        "colab": {
          "base_uri": "https://localhost:8080/"
        },
        "id": "goEfbIln7az-",
        "outputId": "09303926-d5e4-48ba-b0fa-6ae6ef7e5d24"
      },
      "outputs": [
        {
          "data": {
            "text/plain": [
              "array([[9.9988073e-01],\n",
              "       [9.9988073e-01],\n",
              "       [1.4587890e-07],\n",
              "       ...,\n",
              "       [8.4691346e-03],\n",
              "       [9.9987620e-01],\n",
              "       [9.9988073e-01]], dtype=float32)"
            ]
          },
          "execution_count": 34,
          "metadata": {},
          "output_type": "execute_result"
        }
      ],
      "source": [
        "y_preds= model_4.predict(X_test)\n",
        "y_preds"
      ]
    },
    {
      "cell_type": "markdown",
      "metadata": {
        "id": "GgxZqAlh89qQ"
      },
      "source": [
        "#### Probability Predictions\n",
        "\n",
        "> Looks like the *y_preds* are in the form of *prediction_probability*, we need to change it in the shape of *y_test*. THis is the standard output from the *sigmoid* or *softmax* activation function."
      ]
    },
    {
      "cell_type": "code",
      "execution_count": 35,
      "metadata": {
        "colab": {
          "base_uri": "https://localhost:8080/"
        },
        "id": "i9_L1kX19qig",
        "outputId": "217d1011-d408-4495-e4f4-23b2076dc928"
      },
      "outputs": [
        {
          "data": {
            "text/plain": [
              "array([[1.],\n",
              "       [1.],\n",
              "       [0.],\n",
              "       [1.],\n",
              "       [0.]], dtype=float32)"
            ]
          },
          "execution_count": 35,
          "metadata": {},
          "output_type": "execute_result"
        }
      ],
      "source": [
        "y_preds_standard= np.round(y_preds)\n",
        "y_preds_standard[:5]"
      ]
    },
    {
      "cell_type": "code",
      "execution_count": 36,
      "metadata": {
        "colab": {
          "base_uri": "https://localhost:8080/"
        },
        "id": "apjFpBAk951j",
        "outputId": "de2f8082-6312-4e22-9712-0678a771e7fd"
      },
      "outputs": [
        {
          "data": {
            "text/plain": [
              "<tf.Tensor: shape=(5, 1), dtype=float32, numpy=\n",
              "array([[1.],\n",
              "       [1.],\n",
              "       [0.],\n",
              "       [1.],\n",
              "       [0.]], dtype=float32)>"
            ]
          },
          "execution_count": 36,
          "metadata": {},
          "output_type": "execute_result"
        }
      ],
      "source": [
        "y_preds_tf= tf.round(y_preds)\n",
        "y_preds_tf[:5]"
      ]
    },
    {
      "cell_type": "code",
      "execution_count": 37,
      "metadata": {
        "colab": {
          "base_uri": "https://localhost:8080/"
        },
        "id": "StnhSsgI7tEE",
        "outputId": "98c898bc-164b-4df0-ee04-5e1bdbd8dde1"
      },
      "outputs": [
        {
          "data": {
            "text/plain": [
              "((3000,), (3000, 1), TensorShape([3000, 1]))"
            ]
          },
          "execution_count": 37,
          "metadata": {},
          "output_type": "execute_result"
        }
      ],
      "source": [
        "y_test.shape, y_preds.shape,y_preds_tf.shape"
      ]
    },
    {
      "cell_type": "code",
      "execution_count": 38,
      "metadata": {
        "colab": {
          "base_uri": "https://localhost:8080/"
        },
        "id": "glSepD6Y8AFs",
        "outputId": "d01d9368-03bd-428e-926e-5eb33a3e5f30"
      },
      "outputs": [
        {
          "data": {
            "text/plain": [
              "array([1, 1, 0, 1, 0])"
            ]
          },
          "execution_count": 38,
          "metadata": {},
          "output_type": "execute_result"
        }
      ],
      "source": [
        "y_test[:5]"
      ]
    },
    {
      "cell_type": "code",
      "execution_count": 39,
      "metadata": {
        "colab": {
          "base_uri": "https://localhost:8080/"
        },
        "id": "uz2S-aZd7Ece",
        "outputId": "1eb50fa1-9d28-4f48-a0a1-b1465c4fc178"
      },
      "outputs": [
        {
          "data": {
            "text/plain": [
              "array([[1467,   72],\n",
              "       [   8, 1453]])"
            ]
          },
          "execution_count": 39,
          "metadata": {},
          "output_type": "execute_result"
        }
      ],
      "source": [
        "from sklearn.metrics import confusion_matrix\n",
        "\n",
        "cm= confusion_matrix(y_test, y_preds_tf)\n",
        "cm"
      ]
    },
    {
      "cell_type": "markdown",
      "metadata": {
        "id": "ypsF63mM7kBY"
      },
      "source": [
        "### Using Seaborn Library"
      ]
    },
    {
      "cell_type": "code",
      "execution_count": 40,
      "metadata": {
        "colab": {
          "base_uri": "https://localhost:8080/",
          "height": 285
        },
        "id": "3XGWUc_L-9Qf",
        "outputId": "c820a679-1317-4e87-dcda-d54c819ef526"
      },
      "outputs": [
        {
          "data": {
            "text/plain": [
              "<matplotlib.axes._subplots.AxesSubplot at 0x7fa726d270d0>"
            ]
          },
          "execution_count": 40,
          "metadata": {},
          "output_type": "execute_result"
        },
        {
          "data": {
            "image/png": "[encoded data removed]",
            "text/plain": [
              "<Figure size 432x288 with 2 Axes>"
            ]
          },
          "metadata": {
            "needs_background": "light"
          },
          "output_type": "display_data"
        }
      ],
      "source": [
        "import seaborn as sns\n",
        "sns.heatmap(cm, annot=True, fmt=\"d\", cmap=\"YlGnBu\")"
      ]
    },
    {
      "cell_type": "code",
      "execution_count": 41,
      "metadata": {
        "colab": {
          "base_uri": "https://localhost:8080/",
          "height": 285
        },
        "id": "RHNSwFrk-_zg",
        "outputId": "b1a6bc50-6303-406d-a391-fd9bbc838be2"
      },
      "outputs": [
        {
          "data": {
            "text/plain": [
              "<matplotlib.axes._subplots.AxesSubplot at 0x7fa726b65850>"
            ]
          },
          "execution_count": 41,
          "metadata": {},
          "output_type": "execute_result"
        },
        {
          "data": {
            "image/png": "[encoded data removed]",
            "text/plain": [
              "<Figure size 432x288 with 2 Axes>"
            ]
          },
          "metadata": {
            "needs_background": "light"
          },
          "output_type": "display_data"
        }
      ],
      "source": [
        "sns.heatmap(cm, annot=True, cmap=\"YlGnBu\")"
      ]
    },
    {
      "cell_type": "markdown",
      "metadata": {
        "id": "Buy3TCJH_g1O"
      },
      "source": [
        "## Multi-class Classification\n",
        "\n",
        "> When there are more than two classes."
      ]
    },
    {
      "cell_type": "code",
      "execution_count": 42,
      "metadata": {
        "id": "rSjMB7JKaIKF"
      },
      "outputs": [],
      "source": [
        "import tensorflow as tf\n",
        "from tensorflow.keras.datasets import fashion_mnist\n",
        "\n",
        "import PIL\n",
        "import PIL.Image\n",
        "\n",
        "import matplotlib.pyplot as plt"
      ]
    },
    {
      "cell_type": "markdown",
      "metadata": {
        "id": "r1DRSWB0Y3Am"
      },
      "source": [
        "### Getting data ready"
      ]
    },
    {
      "cell_type": "code",
      "execution_count": 43,
      "metadata": {
        "id": "thPbt-JTZxPr"
      },
      "outputs": [],
      "source": [
        "(X_train,y_train), (X_test,y_test)=fashion_mnist.load_data()"
      ]
    },
    {
      "cell_type": "code",
      "execution_count": 44,
      "metadata": {
        "colab": {
          "base_uri": "https://localhost:8080/"
        },
        "id": "dhIG3pGiaZvW",
        "outputId": "ec32dc46-913f-465e-cef0-1210d86d0c47"
      },
      "outputs": [
        {
          "data": {
            "text/plain": [
              "((60000, 28, 28), (10000, 28, 28), (60000,), (10000,))"
            ]
          },
          "execution_count": 44,
          "metadata": {},
          "output_type": "execute_result"
        }
      ],
      "source": [
        "X_train.shape,X_test.shape, y_train.shape,y_test.shape"
      ]
    },
    {
      "cell_type": "code",
      "execution_count": 45,
      "metadata": {
        "colab": {
          "base_uri": "https://localhost:8080/"
        },
        "id": "GmwZzZAlahfi",
        "outputId": "462c89b4-730b-44b7-ba14-a9f2e16cd56c"
      },
      "outputs": [
        {
          "data": {
            "text/plain": [
              "array([[  0,   0,   0,   0,   0,   0,   0,   0,   0,   0,   0,   0,   0,\n",
              "          0,   0,   0,   0,   0,   0,   0,   0,   0,   0,   0,   0,   0,\n",
              "          0,   0],\n",
              "       [  0,   0,   0,   0,   0,   0,   0,   0,   0,   0,   0,   0,   0,\n",
              "          0,   0,   0,   0,   0,   0,   0,   0,   0,   0,   0,   0,   0,\n",
              "          0,   0],\n",
              "       [  0,   0,   0,   0,   0,   0,   0,   0,   0,   0,   0,   0,   0,\n",
              "          0,   0,   0,   0,   0,   0,   0,   0,   0,   0,   0,   0,   0,\n",
              "          0,   0],\n",
              "       [  0,   0,   0,   0,   0,   0,   0,   0,   0,   0,   0,   0,   1,\n",
              "          0,   0,  13,  73,   0,   0,   1,   4,   0,   0,   0,   0,   1,\n",
              "          1,   0],\n",
              "       [  0,   0,   0,   0,   0,   0,   0,   0,   0,   0,   0,   0,   3,\n",
              "          0,  36, 136, 127,  62,  54,   0,   0,   0,   1,   3,   4,   0,\n",
              "          0,   3],\n",
              "       [  0,   0,   0,   0,   0,   0,   0,   0,   0,   0,   0,   0,   6,\n",
              "          0, 102, 204, 176, 134, 144, 123,  23,   0,   0,   0,   0,  12,\n",
              "         10,   0],\n",
              "       [  0,   0,   0,   0,   0,   0,   0,   0,   0,   0,   0,   0,   0,\n",
              "          0, 155, 236, 207, 178, 107, 156, 161, 109,  64,  23,  77, 130,\n",
              "         72,  15],\n",
              "       [  0,   0,   0,   0,   0,   0,   0,   0,   0,   0,   0,   1,   0,\n",
              "         69, 207, 223, 218, 216, 216, 163, 127, 121, 122, 146, 141,  88,\n",
              "        172,  66],\n",
              "       [  0,   0,   0,   0,   0,   0,   0,   0,   0,   1,   1,   1,   0,\n",
              "        200, 232, 232, 233, 229, 223, 223, 215, 213, 164, 127, 123, 196,\n",
              "        229,   0],\n",
              "       [  0,   0,   0,   0,   0,   0,   0,   0,   0,   0,   0,   0,   0,\n",
              "        183, 225, 216, 223, 228, 235, 227, 224, 222, 224, 221, 223, 245,\n",
              "        173,   0],\n",
              "       [  0,   0,   0,   0,   0,   0,   0,   0,   0,   0,   0,   0,   0,\n",
              "        193, 228, 218, 213, 198, 180, 212, 210, 211, 213, 223, 220, 243,\n",
              "        202,   0],\n",
              "       [  0,   0,   0,   0,   0,   0,   0,   0,   0,   1,   3,   0,  12,\n",
              "        219, 220, 212, 218, 192, 169, 227, 208, 218, 224, 212, 226, 197,\n",
              "        209,  52],\n",
              "       [  0,   0,   0,   0,   0,   0,   0,   0,   0,   0,   6,   0,  99,\n",
              "        244, 222, 220, 218, 203, 198, 221, 215, 213, 222, 220, 245, 119,\n",
              "        167,  56],\n",
              "       [  0,   0,   0,   0,   0,   0,   0,   0,   0,   4,   0,   0,  55,\n",
              "        236, 228, 230, 228, 240, 232, 213, 218, 223, 234, 217, 217, 209,\n",
              "         92,   0],\n",
              "       [  0,   0,   1,   4,   6,   7,   2,   0,   0,   0,   0,   0, 237,\n",
              "        226, 217, 223, 222, 219, 222, 221, 216, 223, 229, 215, 218, 255,\n",
              "         77,   0],\n",
              "       [  0,   3,   0,   0,   0,   0,   0,   0,   0,  62, 145, 204, 228,\n",
              "        207, 213, 221, 218, 208, 211, 218, 224, 223, 219, 215, 224, 244,\n",
              "        159,   0],\n",
              "       [  0,   0,   0,   0,  18,  44,  82, 107, 189, 228, 220, 222, 217,\n",
              "        226, 200, 205, 211, 230, 224, 234, 176, 188, 250, 248, 233, 238,\n",
              "        215,   0],\n",
              "       [  0,  57, 187, 208, 224, 221, 224, 208, 204, 214, 208, 209, 200,\n",
              "        159, 245, 193, 206, 223, 255, 255, 221, 234, 221, 211, 220, 232,\n",
              "        246,   0],\n",
              "       [  3, 202, 228, 224, 221, 211, 211, 214, 205, 205, 205, 220, 240,\n",
              "         80, 150, 255, 229, 221, 188, 154, 191, 210, 204, 209, 222, 228,\n",
              "        225,   0],\n",
              "       [ 98, 233, 198, 210, 222, 229, 229, 234, 249, 220, 194, 215, 217,\n",
              "        241,  65,  73, 106, 117, 168, 219, 221, 215, 217, 223, 223, 224,\n",
              "        229,  29],\n",
              "       [ 75, 204, 212, 204, 193, 205, 211, 225, 216, 185, 197, 206, 198,\n",
              "        213, 240, 195, 227, 245, 239, 223, 218, 212, 209, 222, 220, 221,\n",
              "        230,  67],\n",
              "       [ 48, 203, 183, 194, 213, 197, 185, 190, 194, 192, 202, 214, 219,\n",
              "        221, 220, 236, 225, 216, 199, 206, 186, 181, 177, 172, 181, 205,\n",
              "        206, 115],\n",
              "       [  0, 122, 219, 193, 179, 171, 183, 196, 204, 210, 213, 207, 211,\n",
              "        210, 200, 196, 194, 191, 195, 191, 198, 192, 176, 156, 167, 177,\n",
              "        210,  92],\n",
              "       [  0,   0,  74, 189, 212, 191, 175, 172, 175, 181, 185, 188, 189,\n",
              "        188, 193, 198, 204, 209, 210, 210, 211, 188, 188, 194, 192, 216,\n",
              "        170,   0],\n",
              "       [  2,   0,   0,   0,  66, 200, 222, 237, 239, 242, 246, 243, 244,\n",
              "        221, 220, 193, 191, 179, 182, 182, 181, 176, 166, 168,  99,  58,\n",
              "          0,   0],\n",
              "       [  0,   0,   0,   0,   0,   0,   0,  40,  61,  44,  72,  41,  35,\n",
              "          0,   0,   0,   0,   0,   0,   0,   0,   0,   0,   0,   0,   0,\n",
              "          0,   0],\n",
              "       [  0,   0,   0,   0,   0,   0,   0,   0,   0,   0,   0,   0,   0,\n",
              "          0,   0,   0,   0,   0,   0,   0,   0,   0,   0,   0,   0,   0,\n",
              "          0,   0],\n",
              "       [  0,   0,   0,   0,   0,   0,   0,   0,   0,   0,   0,   0,   0,\n",
              "          0,   0,   0,   0,   0,   0,   0,   0,   0,   0,   0,   0,   0,\n",
              "          0,   0]], dtype=uint8)"
            ]
          },
          "execution_count": 45,
          "metadata": {},
          "output_type": "execute_result"
        }
      ],
      "source": [
        "X_train[0]"
      ]
    },
    {
      "cell_type": "code",
      "execution_count": 46,
      "metadata": {
        "colab": {
          "base_uri": "https://localhost:8080/"
        },
        "id": "22y1AEg4ajtt",
        "outputId": "a47c6cf5-2a4b-4bb7-f0f9-fc6d4e442a82"
      },
      "outputs": [
        {
          "data": {
            "text/plain": [
              "(28, 28)"
            ]
          },
          "execution_count": 46,
          "metadata": {},
          "output_type": "execute_result"
        }
      ],
      "source": [
        "X_train[0].shape"
      ]
    },
    {
      "cell_type": "code",
      "execution_count": 47,
      "metadata": {
        "colab": {
          "base_uri": "https://localhost:8080/"
        },
        "id": "35bv_OpPanWX",
        "outputId": "99a92164-efaf-40e5-96d7-b2b1fc6ddec1"
      },
      "outputs": [
        {
          "data": {
            "text/plain": [
              "array([[  0,   0,   0,   0,   0,   0,   0,   0,   0,   0,   0,   0,   0,\n",
              "          0,   0,   0,   0,   0,   0,   0,   0,   0,   0,   0,   0,   0,\n",
              "          0,   0],\n",
              "       [  0,   0,   0,   0,   0,   0,   0,   0,   0,   0,   0,   0,   0,\n",
              "          0,   0,   0,   0,   0,   0,   0,   0,   0,   0,   0,   0,   0,\n",
              "          0,   0],\n",
              "       [  0,   0,   0,   0,   0,   0,   0,   0,   0,   0,   0,   0,   0,\n",
              "          0,   0,   0,   0,   0,   0,   0,   0,   0,   0,   0,   0,   0,\n",
              "          0,   0],\n",
              "       [  0,   0,   0,   0,   0,   0,   0,   0,   0,   0,   0,   0,   0,\n",
              "          0,   0,   0,   0,   0,   0,   0,   0,   0,   0,   0,   0,   0,\n",
              "          0,   0],\n",
              "       [  0,   0,   0,   0,   0,   0,   0,   0,   0,   0,   0,   0,   0,\n",
              "          0,   0,   0,   0,   0,   0,   0,   0,   0,   0,   0,   0,   0,\n",
              "          0,   0],\n",
              "       [  0,   0,   0,   0,   0,   0,   0,   0,   0,   0,   0,   0,   0,\n",
              "          0,   0,   0,   0,   0,   0,   0,   0,   0,   0,   0,   0,   0,\n",
              "          0,   0],\n",
              "       [  0,   0,   0,   0,   0,   0,   0,   0,   0,   0,   0,   0,   0,\n",
              "          0,   0,   0,   0,   0,   0,   0,   0,   0,   0,   0,   0,   0,\n",
              "          0,   0],\n",
              "       [  0,   0,   0,   0,   0,   0,   0,   0,   0,   0,   0,   0,   0,\n",
              "          0,   0,   0,   0,   0,   0,   3,   1,   0,   0,   7,   0,  37,\n",
              "          0,   0],\n",
              "       [  0,   0,   0,   0,   0,   0,   0,   0,   0,   0,   0,   0,   0,\n",
              "          1,   2,   0,  27,  84,  11,   0,   0,   0,   0,   0,   0, 119,\n",
              "          0,   0],\n",
              "       [  0,   0,   0,   0,   0,   0,   0,   0,   0,   0,   0,   0,   0,\n",
              "          1,   0,   0,  88, 143, 110,   0,   0,   0,   0,  22,  93, 106,\n",
              "          0,   0],\n",
              "       [  0,   0,   0,   0,   0,   0,   0,   0,   0,   0,   0,   0,   0,\n",
              "          4,   0,  53, 129, 120, 147, 175, 157, 166, 135, 154, 168, 140,\n",
              "          0,   0],\n",
              "       [  0,   0,   0,   0,   0,   0,   0,   0,   0,   0,   0,   0,   2,\n",
              "          0,  11, 137, 130, 128, 160, 176, 159, 167, 178, 149, 151, 144,\n",
              "          0,   0],\n",
              "       [  0,   0,   0,   0,   0,   0,   1,   0,   2,   1,   0,   3,   0,\n",
              "          0, 115, 114, 106, 137, 168, 153, 156, 165, 167, 143, 157, 158,\n",
              "         11,   0],\n",
              "       [  0,   0,   0,   0,   1,   0,   0,   0,   0,   0,   3,   0,   0,\n",
              "         89, 139,  90,  94, 153, 149, 131, 151, 169, 172, 143, 159, 169,\n",
              "         48,   0],\n",
              "       [  0,   0,   0,   0,   0,   0,   2,   4,   1,   0,   0,   0,  98,\n",
              "        136, 110, 109, 110, 162, 135, 144, 149, 159, 167, 144, 158, 169,\n",
              "        119,   0],\n",
              "       [  0,   0,   2,   2,   1,   2,   0,   0,   0,   0,  26, 108, 117,\n",
              "         99, 111, 117, 136, 156, 134, 154, 154, 156, 160, 141, 147, 156,\n",
              "        178,   0],\n",
              "       [  3,   0,   0,   0,   0,   0,   0,  21,  53,  92, 117, 111, 103,\n",
              "        115, 129, 134, 143, 154, 165, 170, 154, 151, 154, 143, 138, 150,\n",
              "        165,  43],\n",
              "       [  0,   0,  23,  54,  65,  76,  85, 118, 128, 123, 111, 113, 118,\n",
              "        127, 125, 139, 133, 136, 160, 140, 155, 161, 144, 155, 172, 161,\n",
              "        189,  62],\n",
              "       [  0,  68,  94,  90, 111, 114, 111, 114, 115, 127, 135, 136, 143,\n",
              "        126, 127, 151, 154, 143, 148, 125, 162, 162, 144, 138, 153, 162,\n",
              "        196,  58],\n",
              "       [ 70, 169, 129, 104,  98, 100,  94,  97,  98, 102, 108, 106, 119,\n",
              "        120, 129, 149, 156, 167, 190, 190, 196, 198, 198, 187, 197, 189,\n",
              "        184,  36],\n",
              "       [ 16, 126, 171, 188, 188, 184, 171, 153, 135, 120, 126, 127, 146,\n",
              "        185, 195, 209, 208, 255, 209, 177, 245, 252, 251, 251, 247, 220,\n",
              "        206,  49],\n",
              "       [  0,   0,   0,  12,  67, 106, 164, 185, 199, 210, 211, 210, 208,\n",
              "        190, 150,  82,   8,   0,   0,   0, 178, 208, 188, 175, 162, 158,\n",
              "        151,  11],\n",
              "       [  0,   0,   0,   0,   0,   0,   0,   0,   0,   0,   0,   0,   0,\n",
              "          0,   0,   0,   0,   0,   0,   0,   0,   0,   0,   0,   0,   0,\n",
              "          0,   0],\n",
              "       [  0,   0,   0,   0,   0,   0,   0,   0,   0,   0,   0,   0,   0,\n",
              "          0,   0,   0,   0,   0,   0,   0,   0,   0,   0,   0,   0,   0,\n",
              "          0,   0],\n",
              "       [  0,   0,   0,   0,   0,   0,   0,   0,   0,   0,   0,   0,   0,\n",
              "          0,   0,   0,   0,   0,   0,   0,   0,   0,   0,   0,   0,   0,\n",
              "          0,   0],\n",
              "       [  0,   0,   0,   0,   0,   0,   0,   0,   0,   0,   0,   0,   0,\n",
              "          0,   0,   0,   0,   0,   0,   0,   0,   0,   0,   0,   0,   0,\n",
              "          0,   0],\n",
              "       [  0,   0,   0,   0,   0,   0,   0,   0,   0,   0,   0,   0,   0,\n",
              "          0,   0,   0,   0,   0,   0,   0,   0,   0,   0,   0,   0,   0,\n",
              "          0,   0],\n",
              "       [  0,   0,   0,   0,   0,   0,   0,   0,   0,   0,   0,   0,   0,\n",
              "          0,   0,   0,   0,   0,   0,   0,   0,   0,   0,   0,   0,   0,\n",
              "          0,   0]], dtype=uint8)"
            ]
          },
          "execution_count": 47,
          "metadata": {},
          "output_type": "execute_result"
        }
      ],
      "source": [
        "X_test[0]"
      ]
    },
    {
      "cell_type": "markdown",
      "metadata": {
        "id": "jDqfL76Da2jW"
      },
      "source": [
        "#### Visualizing an image"
      ]
    },
    {
      "cell_type": "code",
      "execution_count": 48,
      "metadata": {
        "colab": {
          "base_uri": "https://localhost:8080/",
          "height": 285
        },
        "id": "bLURqNIRbbfN",
        "outputId": "80f908ee-551c-4f75-a8e5-8df111069a6d"
      },
      "outputs": [
        {
          "data": {
            "text/plain": [
              "<matplotlib.image.AxesImage at 0x7fa726a3d810>"
            ]
          },
          "execution_count": 48,
          "metadata": {},
          "output_type": "execute_result"
        },
        {
          "data": {
            "image/png": "[encoded data removed]",
            "text/plain": [
              "<Figure size 432x288 with 1 Axes>"
            ]
          },
          "metadata": {
            "needs_background": "light"
          },
          "output_type": "display_data"
        }
      ],
      "source": [
        "plt.imshow(X_train[0])"
      ]
    },
    {
      "cell_type": "code",
      "execution_count": 49,
      "metadata": {
        "colab": {
          "base_uri": "https://localhost:8080/",
          "height": 285
        },
        "id": "oQFE8PaxbsVR",
        "outputId": "4da00382-2033-4c67-8d6f-682b7c53a87c"
      },
      "outputs": [
        {
          "data": {
            "text/plain": [
              "<matplotlib.image.AxesImage at 0x7fa7269af2d0>"
            ]
          },
          "execution_count": 49,
          "metadata": {},
          "output_type": "execute_result"
        },
        {
          "data": {
            "image/png": "[encoded data removed]",
            "text/plain": [
              "<Figure size 432x288 with 1 Axes>"
            ]
          },
          "metadata": {
            "needs_background": "light"
          },
          "output_type": "display_data"
        }
      ],
      "source": [
        "plt.imshow(X_train[69])"
      ]
    },
    {
      "cell_type": "code",
      "execution_count": 50,
      "metadata": {
        "colab": {
          "base_uri": "https://localhost:8080/"
        },
        "id": "BGU8x2khcF_Q",
        "outputId": "898931d3-bb0f-41e9-a8e1-b9f770310cc9"
      },
      "outputs": [
        {
          "data": {
            "text/plain": [
              "array([[  0,   0,   0,   0,   0,   0,   0,   0,   0,   0,   0,   0,   0,\n",
              "          0,   0,   0,   0,   0,   0,   0,   0,   0,   0,   0,   0,   0,\n",
              "          0,   0],\n",
              "       [  0,   0,   0,   0,   0,   0,   0,   0,   0,   0,   3,   0,  54,\n",
              "        162, 186, 189, 138,   0,   0,   4,   0,   0,   0,   0,   0,   0,\n",
              "          0,   0],\n",
              "       [  0,   0,   0,   0,   0,   0,   0,   0,   0,   2,   0, 135, 227,\n",
              "         44,   0,   0,  94, 239,  47,   0,   4,   0,   0,   0,   0,   0,\n",
              "          0,   0],\n",
              "       [  0,   0,   0,   1,   1,   0,   0,   0,   2,   0,  69, 184,   0,\n",
              "          0,   0,   0,   0,  21, 162,  25,   0,   1,   0,   1,   0,   0,\n",
              "          1,   0],\n",
              "       [  0,   0,   0,   0,   0,   0,   0,   2,   0,   1, 126,  40,   0,\n",
              "          3,   1,   0,   0,   0,  83, 147,   0,   0,   1,   0,   0,   1,\n",
              "          2,   0],\n",
              "       [  2,   1,   0,   0,   0,   0,   0,   5,   0,  85, 173,   0,   0,\n",
              "          2,   1,   0,   3,   0,   0, 136,  20,   0,   2,   0,   0,   1,\n",
              "          0,   0],\n",
              "       [  1,   1,   0,   0,   0,   0,   1,   0,   0, 137, 184,   0,   0,\n",
              "          1,   1,   1,   1,   0,   0, 148, 101,   0,   0,   0,   0,   0,\n",
              "          0,   0],\n",
              "       [  1,   0,   0,   2,   2,   2,   2,   0,   0, 156, 182,   0,   0,\n",
              "          2,   1,   1,   0,   2,   0, 131, 178,   0,   0,   0,   1,   1,\n",
              "          0,   2],\n",
              "       [  1,   1,   0,   0,   0,   1,   0,   0,   0, 184, 182,   0,   1,\n",
              "          3,   2,   1,   2,   1,   0, 109, 201,   0,   0,   1,   2,   2,\n",
              "          0,   1],\n",
              "       [  0,   0,   0,   1,   0,   0,   0,   0,   0, 186, 176,   0,   0,\n",
              "          0,   0,   0,   0,   0,   0,  53, 230,   0,   0,   0,   0,   0,\n",
              "          0,   0],\n",
              "       [  2,   0,  44, 185, 167, 196, 196, 198, 179, 145, 177, 168, 164,\n",
              "        162, 161, 159, 160, 160, 159, 147, 151, 119, 181, 176, 174, 173,\n",
              "        174,  92],\n",
              "       [  2,   0,  61, 219, 189, 193, 191, 201, 221, 241, 186, 204, 198,\n",
              "        192, 196, 197, 191, 190, 211, 192, 223, 219, 209, 208, 207, 206,\n",
              "        204, 130],\n",
              "       [  2,   0,  33, 209, 183, 185, 186, 199, 119, 141, 224, 171, 169,\n",
              "        184, 155, 152, 184, 175, 174, 203, 188, 189, 215, 184, 196, 191,\n",
              "        196,  95],\n",
              "       [  0,   0,  48, 220, 182, 191, 189, 197, 153, 171, 215, 173, 193,\n",
              "        173, 113, 103, 171, 193, 181, 212, 114, 125, 227, 191, 199, 191,\n",
              "        199, 108],\n",
              "       [  1,   0, 183, 209, 177, 192, 191, 204, 209, 249, 197, 177, 184,\n",
              "        173, 118, 137, 179, 188, 183, 208, 235, 239, 219, 193, 200, 191,\n",
              "        200, 102],\n",
              "       [  0,  27, 166, 198, 185, 190, 192, 200, 189, 226, 193, 191, 194,\n",
              "        194, 197, 196, 196, 197, 192, 201, 199, 204, 216, 194, 204, 198,\n",
              "        205,  95],\n",
              "       [  0,  91,  41, 229, 191, 185, 189, 198, 198, 230, 189, 197, 194,\n",
              "        198, 198, 191, 196, 196, 194, 203, 207, 215, 220, 192, 204, 196,\n",
              "        213,  85],\n",
              "       [  0,  95,   3, 248, 183, 182, 190, 196, 203, 222, 186, 199, 193,\n",
              "        193, 196, 198, 198, 199, 197, 199, 208, 208, 214, 196, 203, 194,\n",
              "        218,  57],\n",
              "       [ 38,  86,   0, 251, 181, 188, 188, 186, 208, 211, 191, 198, 197,\n",
              "        197, 197, 198, 199, 200, 203, 200, 203, 206, 206, 198, 203, 199,\n",
              "        219,  40],\n",
              "       [ 73,  84,   0, 246, 193, 185, 189, 198, 226, 194, 192, 196, 196,\n",
              "        196, 197, 197, 198, 197, 197, 197, 209, 229, 207, 194, 199, 200,\n",
              "        219,  29],\n",
              "       [ 81,  75,   0, 230, 197, 179, 190, 191, 198, 185, 192, 193, 194,\n",
              "        194, 196, 196, 197, 196, 198, 194, 204, 221, 199, 196, 196, 198,\n",
              "        218,  18],\n",
              "       [ 66,  95,   0, 213, 209, 177, 194, 193, 193, 192, 194, 196, 191,\n",
              "        192, 196, 197, 197, 198, 198, 198, 196, 196, 194, 198, 196, 200,\n",
              "        216,   0],\n",
              "       [  8, 123,   0, 205, 209, 176, 194, 196, 198, 198, 198, 198, 194,\n",
              "        197, 199, 198, 199, 199, 198, 197, 197, 199, 194, 186, 194, 199,\n",
              "        208,   0],\n",
              "       [  0, 113,   1, 144, 211, 178, 198, 197, 200, 205, 203, 198, 197,\n",
              "        197, 197, 197, 196, 196, 198, 197, 197, 198, 194, 196, 197, 205,\n",
              "        190,   0],\n",
              "       [  0,  24, 150, 150, 214, 203, 216, 213, 212, 209, 206, 198, 200,\n",
              "        199, 197, 197, 196, 196, 199, 199, 199, 198, 203, 205, 205, 220,\n",
              "        131,   0],\n",
              "       [  3,   0,  13, 207, 212, 209, 215, 224, 230, 230, 229, 215, 200,\n",
              "        199, 197, 196, 193, 192, 196, 196, 196, 196, 199, 201, 201, 221,\n",
              "         43,   0],\n",
              "       [  0,   0,   0, 166, 230, 213, 205, 196, 201, 196, 208, 237, 254,\n",
              "        245, 244, 243, 241, 241, 242, 242, 244, 243, 249, 246, 215, 245,\n",
              "          9,   0],\n",
              "       [  0,   1,   0,  40, 123, 136, 160, 182, 203, 214, 185,  27,  11,\n",
              "         26,  19,  20,  20,  20,  20,  19,  20,  19,  20,  24,  36,  32,\n",
              "          0,   0]], dtype=uint8)"
            ]
          },
          "execution_count": 50,
          "metadata": {},
          "output_type": "execute_result"
        }
      ],
      "source": [
        "X_test[69]"
      ]
    },
    {
      "cell_type": "code",
      "execution_count": 51,
      "metadata": {
        "colab": {
          "base_uri": "https://localhost:8080/"
        },
        "id": "lySNAKyGcKF7",
        "outputId": "b21952c4-aa6e-4f9b-d91a-0080a7377c9f"
      },
      "outputs": [
        {
          "data": {
            "text/plain": [
              "(['T-shirt/top',\n",
              "  'Trouser',\n",
              "  'Pullover',\n",
              "  'Dress',\n",
              "  'Coat',\n",
              "  'Sandal',\n",
              "  'Shirt',\n",
              "  'Sneaker',\n",
              "  'Bag',\n",
              "  'Ankle boot'],\n",
              " 10)"
            ]
          },
          "execution_count": 51,
          "metadata": {},
          "output_type": "execute_result"
        }
      ],
      "source": [
        "class_names=['T-shirt/top','Trouser','Pullover','Dress','Coat','Sandal','Shirt','Sneaker','Bag','Ankle boot']\n",
        "class_names,len(class_names)"
      ]
    },
    {
      "cell_type": "code",
      "execution_count": 52,
      "metadata": {
        "colab": {
          "base_uri": "https://localhost:8080/",
          "height": 301
        },
        "id": "b5dxb9HqiWkM",
        "outputId": "327d485a-944b-46f7-d270-eb280a390915"
      },
      "outputs": [
        {
          "data": {
            "text/plain": [
              "Text(0.5, 1.0, 'Dress')"
            ]
          },
          "execution_count": 52,
          "metadata": {},
          "output_type": "execute_result"
        },
        {
          "data": {
            "image/png": "[encoded data removed]",
            "text/plain": [
              "<Figure size 432x288 with 1 Axes>"
            ]
          },
          "metadata": {
            "needs_background": "light"
          },
          "output_type": "display_data"
        }
      ],
      "source": [
        "index=25\n",
        "plt.imshow(X_train[index], cmap=plt.cm.binary)\n",
        "plt.title(class_names[y_train[index]])"
      ]
    },
    {
      "cell_type": "markdown",
      "metadata": {
        "id": "tLzwU54xixlV"
      },
      "source": [
        "### Building\n",
        "\n",
        "* Input Shape = (28,28)\n",
        "* Output Shape= (10)\n",
        "* Loss Function = \"CategoricalCrossentropy\"\n",
        "* Output Activation Function = \"Softmax\""
      ]
    },
    {
      "cell_type": "code",
      "execution_count": 53,
      "metadata": {
        "colab": {
          "base_uri": "https://localhost:8080/"
        },
        "id": "V4aaydy1GH4g",
        "outputId": "5fdc7cbe-fd42-4cef-a956-d3ee48289049"
      },
      "outputs": [
        {
          "data": {
            "text/plain": [
              "((28, 28), (60000, 28, 28))"
            ]
          },
          "execution_count": 53,
          "metadata": {},
          "output_type": "execute_result"
        }
      ],
      "source": [
        "X_train[0].shape, X_train.shape"
      ]
    },
    {
      "cell_type": "code",
      "execution_count": 54,
      "metadata": {
        "colab": {
          "base_uri": "https://localhost:8080/"
        },
        "id": "573xiqlBGLc-",
        "outputId": "c132eb40-f392-4c13-85ed-40689b8c81c9"
      },
      "outputs": [
        {
          "data": {
            "text/plain": [
              "(['T-shirt/top',\n",
              "  'Trouser',\n",
              "  'Pullover',\n",
              "  'Dress',\n",
              "  'Coat',\n",
              "  'Sandal',\n",
              "  'Shirt',\n",
              "  'Sneaker',\n",
              "  'Bag',\n",
              "  'Ankle boot'],\n",
              " 10)"
            ]
          },
          "execution_count": 54,
          "metadata": {},
          "output_type": "execute_result"
        }
      ],
      "source": [
        "class_names, len(class_names)"
      ]
    },
    {
      "cell_type": "code",
      "execution_count": 55,
      "metadata": {
        "colab": {
          "base_uri": "https://localhost:8080/"
        },
        "id": "QgVKpVHCLcJL",
        "outputId": "2b7ebc32-c2f3-4007-9905-3b724672e8df"
      },
      "outputs": [
        {
          "data": {
            "text/plain": [
              "array([9, 0, 0, 3, 0, 2, 7, 2, 5, 5], dtype=uint8)"
            ]
          },
          "execution_count": 55,
          "metadata": {},
          "output_type": "execute_result"
        }
      ],
      "source": [
        "y_train[:10]"
      ]
    },
    {
      "cell_type": "code",
      "execution_count": 56,
      "metadata": {
        "colab": {
          "base_uri": "https://localhost:8080/"
        },
        "id": "m0F8rOmhM4E2",
        "outputId": "649a0f50-31ab-49f0-a3c1-e5d733f80722"
      },
      "outputs": [
        {
          "data": {
            "text/plain": [
              "<tf.Tensor: shape=(10, 28, 28, 10), dtype=float32, numpy=\n",
              "array([[[[1., 0., 0., ..., 0., 0., 0.],\n",
              "         [1., 0., 0., ..., 0., 0., 0.],\n",
              "         [1., 0., 0., ..., 0., 0., 0.],\n",
              "         ...,\n",
              "         [1., 0., 0., ..., 0., 0., 0.],\n",
              "         [1., 0., 0., ..., 0., 0., 0.],\n",
              "         [1., 0., 0., ..., 0., 0., 0.]],\n",
              "\n",
              "        [[1., 0., 0., ..., 0., 0., 0.],\n",
              "         [1., 0., 0., ..., 0., 0., 0.],\n",
              "         [1., 0., 0., ..., 0., 0., 0.],\n",
              "         ...,\n",
              "         [1., 0., 0., ..., 0., 0., 0.],\n",
              "         [1., 0., 0., ..., 0., 0., 0.],\n",
              "         [1., 0., 0., ..., 0., 0., 0.]],\n",
              "\n",
              "        [[1., 0., 0., ..., 0., 0., 0.],\n",
              "         [1., 0., 0., ..., 0., 0., 0.],\n",
              "         [1., 0., 0., ..., 0., 0., 0.],\n",
              "         ...,\n",
              "         [1., 0., 0., ..., 0., 0., 0.],\n",
              "         [1., 0., 0., ..., 0., 0., 0.],\n",
              "         [1., 0., 0., ..., 0., 0., 0.]],\n",
              "\n",
              "        ...,\n",
              "\n",
              "        [[1., 0., 0., ..., 0., 0., 0.],\n",
              "         [1., 0., 0., ..., 0., 0., 0.],\n",
              "         [1., 0., 0., ..., 0., 0., 0.],\n",
              "         ...,\n",
              "         [1., 0., 0., ..., 0., 0., 0.],\n",
              "         [1., 0., 0., ..., 0., 0., 0.],\n",
              "         [1., 0., 0., ..., 0., 0., 0.]],\n",
              "\n",
              "        [[1., 0., 0., ..., 0., 0., 0.],\n",
              "         [1., 0., 0., ..., 0., 0., 0.],\n",
              "         [1., 0., 0., ..., 0., 0., 0.],\n",
              "         ...,\n",
              "         [1., 0., 0., ..., 0., 0., 0.],\n",
              "         [1., 0., 0., ..., 0., 0., 0.],\n",
              "         [1., 0., 0., ..., 0., 0., 0.]],\n",
              "\n",
              "        [[1., 0., 0., ..., 0., 0., 0.],\n",
              "         [1., 0., 0., ..., 0., 0., 0.],\n",
              "         [1., 0., 0., ..., 0., 0., 0.],\n",
              "         ...,\n",
              "         [1., 0., 0., ..., 0., 0., 0.],\n",
              "         [1., 0., 0., ..., 0., 0., 0.],\n",
              "         [1., 0., 0., ..., 0., 0., 0.]]],\n",
              "\n",
              "\n",
              "       [[[1., 0., 0., ..., 0., 0., 0.],\n",
              "         [1., 0., 0., ..., 0., 0., 0.],\n",
              "         [1., 0., 0., ..., 0., 0., 0.],\n",
              "         ...,\n",
              "         [1., 0., 0., ..., 0., 0., 0.],\n",
              "         [1., 0., 0., ..., 0., 0., 0.],\n",
              "         [1., 0., 0., ..., 0., 0., 0.]],\n",
              "\n",
              "        [[1., 0., 0., ..., 0., 0., 0.],\n",
              "         [1., 0., 0., ..., 0., 0., 0.],\n",
              "         [1., 0., 0., ..., 0., 0., 0.],\n",
              "         ...,\n",
              "         [1., 0., 0., ..., 0., 0., 0.],\n",
              "         [1., 0., 0., ..., 0., 0., 0.],\n",
              "         [1., 0., 0., ..., 0., 0., 0.]],\n",
              "\n",
              "        [[1., 0., 0., ..., 0., 0., 0.],\n",
              "         [1., 0., 0., ..., 0., 0., 0.],\n",
              "         [1., 0., 0., ..., 0., 0., 0.],\n",
              "         ...,\n",
              "         [1., 0., 0., ..., 0., 0., 0.],\n",
              "         [1., 0., 0., ..., 0., 0., 0.],\n",
              "         [1., 0., 0., ..., 0., 0., 0.]],\n",
              "\n",
              "        ...,\n",
              "\n",
              "        [[1., 0., 0., ..., 0., 0., 0.],\n",
              "         [1., 0., 0., ..., 0., 0., 0.],\n",
              "         [1., 0., 0., ..., 0., 0., 0.],\n",
              "         ...,\n",
              "         [1., 0., 0., ..., 0., 0., 0.],\n",
              "         [1., 0., 0., ..., 0., 0., 0.],\n",
              "         [1., 0., 0., ..., 0., 0., 0.]],\n",
              "\n",
              "        [[1., 0., 0., ..., 0., 0., 0.],\n",
              "         [1., 0., 0., ..., 0., 0., 0.],\n",
              "         [1., 0., 0., ..., 0., 0., 0.],\n",
              "         ...,\n",
              "         [1., 0., 0., ..., 0., 0., 0.],\n",
              "         [1., 0., 0., ..., 0., 0., 0.],\n",
              "         [1., 0., 0., ..., 0., 0., 0.]],\n",
              "\n",
              "        [[1., 0., 0., ..., 0., 0., 0.],\n",
              "         [1., 0., 0., ..., 0., 0., 0.],\n",
              "         [1., 0., 0., ..., 0., 0., 0.],\n",
              "         ...,\n",
              "         [1., 0., 0., ..., 0., 0., 0.],\n",
              "         [1., 0., 0., ..., 0., 0., 0.],\n",
              "         [1., 0., 0., ..., 0., 0., 0.]]],\n",
              "\n",
              "\n",
              "       [[[1., 0., 0., ..., 0., 0., 0.],\n",
              "         [1., 0., 0., ..., 0., 0., 0.],\n",
              "         [1., 0., 0., ..., 0., 0., 0.],\n",
              "         ...,\n",
              "         [1., 0., 0., ..., 0., 0., 0.],\n",
              "         [1., 0., 0., ..., 0., 0., 0.],\n",
              "         [1., 0., 0., ..., 0., 0., 0.]],\n",
              "\n",
              "        [[1., 0., 0., ..., 0., 0., 0.],\n",
              "         [1., 0., 0., ..., 0., 0., 0.],\n",
              "         [1., 0., 0., ..., 0., 0., 0.],\n",
              "         ...,\n",
              "         [1., 0., 0., ..., 0., 0., 0.],\n",
              "         [1., 0., 0., ..., 0., 0., 0.],\n",
              "         [1., 0., 0., ..., 0., 0., 0.]],\n",
              "\n",
              "        [[1., 0., 0., ..., 0., 0., 0.],\n",
              "         [1., 0., 0., ..., 0., 0., 0.],\n",
              "         [1., 0., 0., ..., 0., 0., 0.],\n",
              "         ...,\n",
              "         [1., 0., 0., ..., 0., 0., 0.],\n",
              "         [1., 0., 0., ..., 0., 0., 0.],\n",
              "         [1., 0., 0., ..., 0., 0., 0.]],\n",
              "\n",
              "        ...,\n",
              "\n",
              "        [[1., 0., 0., ..., 0., 0., 0.],\n",
              "         [1., 0., 0., ..., 0., 0., 0.],\n",
              "         [1., 0., 0., ..., 0., 0., 0.],\n",
              "         ...,\n",
              "         [1., 0., 0., ..., 0., 0., 0.],\n",
              "         [1., 0., 0., ..., 0., 0., 0.],\n",
              "         [1., 0., 0., ..., 0., 0., 0.]],\n",
              "\n",
              "        [[1., 0., 0., ..., 0., 0., 0.],\n",
              "         [1., 0., 0., ..., 0., 0., 0.],\n",
              "         [1., 0., 0., ..., 0., 0., 0.],\n",
              "         ...,\n",
              "         [1., 0., 0., ..., 0., 0., 0.],\n",
              "         [1., 0., 0., ..., 0., 0., 0.],\n",
              "         [1., 0., 0., ..., 0., 0., 0.]],\n",
              "\n",
              "        [[1., 0., 0., ..., 0., 0., 0.],\n",
              "         [1., 0., 0., ..., 0., 0., 0.],\n",
              "         [1., 0., 0., ..., 0., 0., 0.],\n",
              "         ...,\n",
              "         [1., 0., 0., ..., 0., 0., 0.],\n",
              "         [1., 0., 0., ..., 0., 0., 0.],\n",
              "         [1., 0., 0., ..., 0., 0., 0.]]],\n",
              "\n",
              "\n",
              "       ...,\n",
              "\n",
              "\n",
              "       [[[1., 0., 0., ..., 0., 0., 0.],\n",
              "         [1., 0., 0., ..., 0., 0., 0.],\n",
              "         [1., 0., 0., ..., 0., 0., 0.],\n",
              "         ...,\n",
              "         [1., 0., 0., ..., 0., 0., 0.],\n",
              "         [1., 0., 0., ..., 0., 0., 0.],\n",
              "         [1., 0., 0., ..., 0., 0., 0.]],\n",
              "\n",
              "        [[1., 0., 0., ..., 0., 0., 0.],\n",
              "         [1., 0., 0., ..., 0., 0., 0.],\n",
              "         [1., 0., 0., ..., 0., 0., 0.],\n",
              "         ...,\n",
              "         [1., 0., 0., ..., 0., 0., 0.],\n",
              "         [1., 0., 0., ..., 0., 0., 0.],\n",
              "         [1., 0., 0., ..., 0., 0., 0.]],\n",
              "\n",
              "        [[1., 0., 0., ..., 0., 0., 0.],\n",
              "         [1., 0., 0., ..., 0., 0., 0.],\n",
              "         [1., 0., 0., ..., 0., 0., 0.],\n",
              "         ...,\n",
              "         [1., 0., 0., ..., 0., 0., 0.],\n",
              "         [1., 0., 0., ..., 0., 0., 0.],\n",
              "         [1., 0., 0., ..., 0., 0., 0.]],\n",
              "\n",
              "        ...,\n",
              "\n",
              "        [[1., 0., 0., ..., 0., 0., 0.],\n",
              "         [1., 0., 0., ..., 0., 0., 0.],\n",
              "         [1., 0., 0., ..., 0., 0., 0.],\n",
              "         ...,\n",
              "         [0., 0., 0., ..., 0., 0., 0.],\n",
              "         [1., 0., 0., ..., 0., 0., 0.],\n",
              "         [1., 0., 0., ..., 0., 0., 0.]],\n",
              "\n",
              "        [[1., 0., 0., ..., 0., 0., 0.],\n",
              "         [1., 0., 0., ..., 0., 0., 0.],\n",
              "         [1., 0., 0., ..., 0., 0., 0.],\n",
              "         ...,\n",
              "         [0., 0., 0., ..., 0., 0., 0.],\n",
              "         [1., 0., 0., ..., 0., 0., 0.],\n",
              "         [1., 0., 0., ..., 0., 0., 0.]],\n",
              "\n",
              "        [[1., 0., 0., ..., 0., 0., 0.],\n",
              "         [1., 0., 0., ..., 0., 0., 0.],\n",
              "         [1., 0., 0., ..., 0., 0., 0.],\n",
              "         ...,\n",
              "         [0., 0., 0., ..., 0., 0., 0.],\n",
              "         [1., 0., 0., ..., 0., 0., 0.],\n",
              "         [1., 0., 0., ..., 0., 0., 0.]]],\n",
              "\n",
              "\n",
              "       [[[1., 0., 0., ..., 0., 0., 0.],\n",
              "         [1., 0., 0., ..., 0., 0., 0.],\n",
              "         [1., 0., 0., ..., 0., 0., 0.],\n",
              "         ...,\n",
              "         [1., 0., 0., ..., 0., 0., 0.],\n",
              "         [1., 0., 0., ..., 0., 0., 0.],\n",
              "         [1., 0., 0., ..., 0., 0., 0.]],\n",
              "\n",
              "        [[1., 0., 0., ..., 0., 0., 0.],\n",
              "         [1., 0., 0., ..., 0., 0., 0.],\n",
              "         [1., 0., 0., ..., 0., 0., 0.],\n",
              "         ...,\n",
              "         [1., 0., 0., ..., 0., 0., 0.],\n",
              "         [1., 0., 0., ..., 0., 0., 0.],\n",
              "         [1., 0., 0., ..., 0., 0., 0.]],\n",
              "\n",
              "        [[1., 0., 0., ..., 0., 0., 0.],\n",
              "         [1., 0., 0., ..., 0., 0., 0.],\n",
              "         [1., 0., 0., ..., 0., 0., 0.],\n",
              "         ...,\n",
              "         [0., 0., 0., ..., 0., 0., 0.],\n",
              "         [0., 1., 0., ..., 0., 0., 0.],\n",
              "         [1., 0., 0., ..., 0., 0., 0.]],\n",
              "\n",
              "        ...,\n",
              "\n",
              "        [[1., 0., 0., ..., 0., 0., 0.],\n",
              "         [1., 0., 0., ..., 0., 0., 0.],\n",
              "         [1., 0., 0., ..., 0., 0., 0.],\n",
              "         ...,\n",
              "         [0., 0., 0., ..., 0., 0., 0.],\n",
              "         [1., 0., 0., ..., 0., 0., 0.],\n",
              "         [1., 0., 0., ..., 0., 0., 0.]],\n",
              "\n",
              "        [[1., 0., 0., ..., 0., 0., 0.],\n",
              "         [1., 0., 0., ..., 0., 0., 0.],\n",
              "         [1., 0., 0., ..., 0., 0., 0.],\n",
              "         ...,\n",
              "         [0., 0., 0., ..., 0., 0., 0.],\n",
              "         [1., 0., 0., ..., 0., 0., 0.],\n",
              "         [1., 0., 0., ..., 0., 0., 0.]],\n",
              "\n",
              "        [[1., 0., 0., ..., 0., 0., 0.],\n",
              "         [1., 0., 0., ..., 0., 0., 0.],\n",
              "         [1., 0., 0., ..., 0., 0., 0.],\n",
              "         ...,\n",
              "         [1., 0., 0., ..., 0., 0., 0.],\n",
              "         [1., 0., 0., ..., 0., 0., 0.],\n",
              "         [1., 0., 0., ..., 0., 0., 0.]]],\n",
              "\n",
              "\n",
              "       [[[1., 0., 0., ..., 0., 0., 0.],\n",
              "         [1., 0., 0., ..., 0., 0., 0.],\n",
              "         [1., 0., 0., ..., 0., 0., 0.],\n",
              "         ...,\n",
              "         [1., 0., 0., ..., 0., 0., 0.],\n",
              "         [1., 0., 0., ..., 0., 0., 0.],\n",
              "         [1., 0., 0., ..., 0., 0., 0.]],\n",
              "\n",
              "        [[1., 0., 0., ..., 0., 0., 0.],\n",
              "         [1., 0., 0., ..., 0., 0., 0.],\n",
              "         [1., 0., 0., ..., 0., 0., 0.],\n",
              "         ...,\n",
              "         [1., 0., 0., ..., 0., 0., 0.],\n",
              "         [1., 0., 0., ..., 0., 0., 0.],\n",
              "         [1., 0., 0., ..., 0., 0., 0.]],\n",
              "\n",
              "        [[1., 0., 0., ..., 0., 0., 0.],\n",
              "         [1., 0., 0., ..., 0., 0., 0.],\n",
              "         [1., 0., 0., ..., 0., 0., 0.],\n",
              "         ...,\n",
              "         [0., 0., 0., ..., 1., 0., 0.],\n",
              "         [1., 0., 0., ..., 0., 0., 0.],\n",
              "         [1., 0., 0., ..., 0., 0., 0.]],\n",
              "\n",
              "        ...,\n",
              "\n",
              "        [[1., 0., 0., ..., 0., 0., 0.],\n",
              "         [1., 0., 0., ..., 0., 0., 0.],\n",
              "         [1., 0., 0., ..., 0., 0., 0.],\n",
              "         ...,\n",
              "         [1., 0., 0., ..., 0., 0., 0.],\n",
              "         [0., 0., 0., ..., 0., 0., 1.],\n",
              "         [1., 0., 0., ..., 0., 0., 0.]],\n",
              "\n",
              "        [[1., 0., 0., ..., 0., 0., 0.],\n",
              "         [1., 0., 0., ..., 0., 0., 0.],\n",
              "         [1., 0., 0., ..., 0., 0., 0.],\n",
              "         ...,\n",
              "         [1., 0., 0., ..., 0., 0., 0.],\n",
              "         [0., 0., 0., ..., 0., 0., 0.],\n",
              "         [1., 0., 0., ..., 0., 0., 0.]],\n",
              "\n",
              "        [[1., 0., 0., ..., 0., 0., 0.],\n",
              "         [1., 0., 0., ..., 0., 0., 0.],\n",
              "         [1., 0., 0., ..., 0., 0., 0.],\n",
              "         ...,\n",
              "         [1., 0., 0., ..., 0., 0., 0.],\n",
              "         [1., 0., 0., ..., 0., 0., 0.],\n",
              "         [1., 0., 0., ..., 0., 0., 0.]]]], dtype=float32)>"
            ]
          },
          "execution_count": 56,
          "metadata": {},
          "output_type": "execute_result"
        }
      ],
      "source": [
        "tf.one_hot(X_train[:10], depth=10)"
      ]
    },
    {
      "cell_type": "markdown",
      "metadata": {
        "id": "NuuEVNJoGWbB"
      },
      "source": [
        "### Building the model\n",
        "\n",
        "> We have to use *SparseCategoricalCrossentropy()* as the loss function instead of *CategoricalCrossentropy* because the labels(y values) are in *integer* format and not *one-hot-encoded*. \n",
        "\n",
        "> If the labels were *one-hot-encoded* then we could have used the *CategoricalCrossentropy* as the loss function here."
      ]
    },
    {
      "cell_type": "code",
      "execution_count": 57,
      "metadata": {
        "colab": {
          "base_uri": "https://localhost:8080/"
        },
        "id": "ALxsGe12HDqd",
        "outputId": "97e4585d-774c-46d2-834a-f697a6f78cfd"
      },
      "outputs": [
        {
          "name": "stdout",
          "output_type": "stream",
          "text": [
            "Epoch 1/100\n",
            "1875/1875 [==============================] - 5s 2ms/step - loss: 2.1671 - accuracy: 0.1606 - val_loss: 1.7959 - val_accuracy: 0.2046\n",
            "Epoch 2/100\n",
            "1875/1875 [==============================] - 4s 2ms/step - loss: 1.7066 - accuracy: 0.2509 - val_loss: 1.6567 - val_accuracy: 0.2805\n",
            "Epoch 3/100\n",
            "1875/1875 [==============================] - 4s 2ms/step - loss: 1.6321 - accuracy: 0.2806 - val_loss: 1.6094 - val_accuracy: 0.2857\n",
            "Epoch 4/100\n",
            "1875/1875 [==============================] - 4s 2ms/step - loss: 1.6052 - accuracy: 0.2833 - val_loss: 1.6041 - val_accuracy: 0.2859\n",
            "Epoch 5/100\n",
            "1875/1875 [==============================] - 4s 2ms/step - loss: 1.5975 - accuracy: 0.2862 - val_loss: 1.6064 - val_accuracy: 0.2756\n",
            "Epoch 6/100\n",
            "1875/1875 [==============================] - 4s 2ms/step - loss: 1.5950 - accuracy: 0.2920 - val_loss: 1.5747 - val_accuracy: 0.2994\n",
            "Epoch 7/100\n",
            "1875/1875 [==============================] - 4s 2ms/step - loss: 1.5775 - accuracy: 0.3040 - val_loss: 1.6030 - val_accuracy: 0.3000\n",
            "Epoch 8/100\n",
            "1875/1875 [==============================] - 4s 2ms/step - loss: 1.5708 - accuracy: 0.3175 - val_loss: 1.5635 - val_accuracy: 0.3315\n",
            "Epoch 9/100\n",
            "1875/1875 [==============================] - 4s 2ms/step - loss: 1.5638 - accuracy: 0.3280 - val_loss: 1.5534 - val_accuracy: 0.3334\n",
            "Epoch 10/100\n",
            "1875/1875 [==============================] - 4s 2ms/step - loss: 1.5432 - accuracy: 0.3346 - val_loss: 1.5390 - val_accuracy: 0.3549\n",
            "Epoch 11/100\n",
            "1875/1875 [==============================] - 4s 2ms/step - loss: 1.5160 - accuracy: 0.3519 - val_loss: 1.5051 - val_accuracy: 0.3582\n",
            "Epoch 12/100\n",
            "1875/1875 [==============================] - 4s 2ms/step - loss: 1.4441 - accuracy: 0.3972 - val_loss: 1.3549 - val_accuracy: 0.4347\n",
            "Epoch 13/100\n",
            "1875/1875 [==============================] - 4s 2ms/step - loss: 1.3136 - accuracy: 0.4450 - val_loss: 1.2910 - val_accuracy: 0.4549\n",
            "Epoch 14/100\n",
            "1875/1875 [==============================] - 4s 2ms/step - loss: 1.2738 - accuracy: 0.4535 - val_loss: 1.2582 - val_accuracy: 0.4671\n",
            "Epoch 15/100\n",
            "1875/1875 [==============================] - 4s 2ms/step - loss: 1.2006 - accuracy: 0.4963 - val_loss: 1.1155 - val_accuracy: 0.5431\n",
            "Epoch 16/100\n",
            "1875/1875 [==============================] - 4s 2ms/step - loss: 1.0833 - accuracy: 0.5409 - val_loss: 1.0602 - val_accuracy: 0.5692\n",
            "Epoch 17/100\n",
            "1875/1875 [==============================] - 4s 2ms/step - loss: 1.0464 - accuracy: 0.5583 - val_loss: 1.0282 - val_accuracy: 0.5811\n",
            "Epoch 18/100\n",
            "1875/1875 [==============================] - 4s 2ms/step - loss: 1.0204 - accuracy: 0.5760 - val_loss: 1.0104 - val_accuracy: 0.6027\n",
            "Epoch 19/100\n",
            "1875/1875 [==============================] - 4s 2ms/step - loss: 1.0062 - accuracy: 0.5877 - val_loss: 1.0446 - val_accuracy: 0.5659\n",
            "Epoch 20/100\n",
            "1875/1875 [==============================] - 4s 2ms/step - loss: 0.9883 - accuracy: 0.5966 - val_loss: 0.9933 - val_accuracy: 0.5974\n",
            "Epoch 21/100\n",
            "1875/1875 [==============================] - 4s 2ms/step - loss: 0.9831 - accuracy: 0.6044 - val_loss: 1.0685 - val_accuracy: 0.5993\n",
            "Epoch 22/100\n",
            "1875/1875 [==============================] - 4s 2ms/step - loss: 0.9778 - accuracy: 0.6063 - val_loss: 0.9915 - val_accuracy: 0.6056\n",
            "Epoch 23/100\n",
            "1875/1875 [==============================] - 4s 2ms/step - loss: 0.9667 - accuracy: 0.6121 - val_loss: 1.0079 - val_accuracy: 0.6028\n",
            "Epoch 24/100\n",
            "1875/1875 [==============================] - 4s 2ms/step - loss: 0.9722 - accuracy: 0.6091 - val_loss: 0.9880 - val_accuracy: 0.6106\n",
            "Epoch 25/100\n",
            "1875/1875 [==============================] - 4s 2ms/step - loss: 0.9708 - accuracy: 0.6096 - val_loss: 0.9791 - val_accuracy: 0.6259\n",
            "Epoch 26/100\n",
            "1875/1875 [==============================] - 4s 2ms/step - loss: 0.9618 - accuracy: 0.6109 - val_loss: 1.0434 - val_accuracy: 0.5818\n",
            "Epoch 27/100\n",
            "1875/1875 [==============================] - 5s 3ms/step - loss: 0.9576 - accuracy: 0.6120 - val_loss: 1.0031 - val_accuracy: 0.5990\n",
            "Epoch 28/100\n",
            "1875/1875 [==============================] - 5s 2ms/step - loss: 0.9686 - accuracy: 0.6094 - val_loss: 1.0075 - val_accuracy: 0.6062\n",
            "Epoch 29/100\n",
            "1875/1875 [==============================] - 4s 2ms/step - loss: 0.9561 - accuracy: 0.6140 - val_loss: 0.9564 - val_accuracy: 0.6240\n",
            "Epoch 30/100\n",
            "1875/1875 [==============================] - 4s 2ms/step - loss: 0.9544 - accuracy: 0.6167 - val_loss: 1.0325 - val_accuracy: 0.6025\n",
            "Epoch 31/100\n",
            "1875/1875 [==============================] - 4s 2ms/step - loss: 0.9599 - accuracy: 0.6112 - val_loss: 1.0079 - val_accuracy: 0.6050\n",
            "Epoch 32/100\n",
            "1875/1875 [==============================] - 5s 2ms/step - loss: 0.9619 - accuracy: 0.6093 - val_loss: 0.9654 - val_accuracy: 0.6233\n",
            "Epoch 33/100\n",
            "1875/1875 [==============================] - 4s 2ms/step - loss: 0.9558 - accuracy: 0.6126 - val_loss: 0.9640 - val_accuracy: 0.6299\n",
            "Epoch 34/100\n",
            "1875/1875 [==============================] - 4s 2ms/step - loss: 0.9627 - accuracy: 0.6116 - val_loss: 0.9858 - val_accuracy: 0.6153\n",
            "Epoch 35/100\n",
            "1875/1875 [==============================] - 4s 2ms/step - loss: 0.9466 - accuracy: 0.6156 - val_loss: 0.9484 - val_accuracy: 0.6239\n",
            "Epoch 36/100\n",
            "1875/1875 [==============================] - 4s 2ms/step - loss: 0.9382 - accuracy: 0.6174 - val_loss: 0.9445 - val_accuracy: 0.6440\n",
            "Epoch 37/100\n",
            "1875/1875 [==============================] - 4s 2ms/step - loss: 0.9268 - accuracy: 0.6222 - val_loss: 0.9584 - val_accuracy: 0.5905\n",
            "Epoch 38/100\n",
            "1875/1875 [==============================] - 4s 2ms/step - loss: 0.9162 - accuracy: 0.6299 - val_loss: 0.9152 - val_accuracy: 0.6396\n",
            "Epoch 39/100\n",
            "1875/1875 [==============================] - 4s 2ms/step - loss: 0.8965 - accuracy: 0.6344 - val_loss: 0.9109 - val_accuracy: 0.6455\n",
            "Epoch 40/100\n",
            "1875/1875 [==============================] - 4s 2ms/step - loss: 0.8778 - accuracy: 0.6392 - val_loss: 0.9510 - val_accuracy: 0.6033\n",
            "Epoch 41/100\n",
            "1875/1875 [==============================] - 4s 2ms/step - loss: 0.8717 - accuracy: 0.6427 - val_loss: 0.9161 - val_accuracy: 0.6445\n",
            "Epoch 42/100\n",
            "1875/1875 [==============================] - 4s 2ms/step - loss: 0.8633 - accuracy: 0.6455 - val_loss: 0.8835 - val_accuracy: 0.6574\n",
            "Epoch 43/100\n",
            "1875/1875 [==============================] - 4s 2ms/step - loss: 0.8563 - accuracy: 0.6472 - val_loss: 0.8757 - val_accuracy: 0.6558\n",
            "Epoch 44/100\n",
            "1875/1875 [==============================] - 4s 2ms/step - loss: 0.8534 - accuracy: 0.6487 - val_loss: 0.9068 - val_accuracy: 0.6414\n",
            "Epoch 45/100\n",
            "1875/1875 [==============================] - 4s 2ms/step - loss: 0.8475 - accuracy: 0.6491 - val_loss: 0.8668 - val_accuracy: 0.6563\n",
            "Epoch 46/100\n",
            "1875/1875 [==============================] - 4s 2ms/step - loss: 0.8490 - accuracy: 0.6493 - val_loss: 0.8808 - val_accuracy: 0.6490\n",
            "Epoch 47/100\n",
            "1875/1875 [==============================] - 4s 2ms/step - loss: 0.8458 - accuracy: 0.6501 - val_loss: 0.8780 - val_accuracy: 0.6573\n",
            "Epoch 48/100\n",
            "1875/1875 [==============================] - 4s 2ms/step - loss: 0.8462 - accuracy: 0.6502 - val_loss: 0.8608 - val_accuracy: 0.6613\n",
            "Epoch 49/100\n",
            "1875/1875 [==============================] - 4s 2ms/step - loss: 0.8410 - accuracy: 0.6529 - val_loss: 0.8755 - val_accuracy: 0.6542\n",
            "Epoch 50/100\n",
            "1875/1875 [==============================] - 4s 2ms/step - loss: 0.8390 - accuracy: 0.6568 - val_loss: 0.8687 - val_accuracy: 0.6569\n",
            "Epoch 51/100\n",
            "1875/1875 [==============================] - 5s 2ms/step - loss: 0.8399 - accuracy: 0.6534 - val_loss: 0.8674 - val_accuracy: 0.6378\n",
            "Epoch 52/100\n",
            "1875/1875 [==============================] - 4s 2ms/step - loss: 0.8357 - accuracy: 0.6518 - val_loss: 0.8588 - val_accuracy: 0.6365\n",
            "Epoch 53/100\n",
            "1875/1875 [==============================] - 5s 3ms/step - loss: 0.8357 - accuracy: 0.6549 - val_loss: 0.8509 - val_accuracy: 0.6639\n",
            "Epoch 54/100\n",
            "1875/1875 [==============================] - 5s 2ms/step - loss: 0.8348 - accuracy: 0.6547 - val_loss: 0.8705 - val_accuracy: 0.6482\n",
            "Epoch 55/100\n",
            "1875/1875 [==============================] - 5s 2ms/step - loss: 0.8320 - accuracy: 0.6563 - val_loss: 0.8554 - val_accuracy: 0.6701\n",
            "Epoch 56/100\n",
            "1875/1875 [==============================] - 4s 2ms/step - loss: 0.8310 - accuracy: 0.6550 - val_loss: 0.8635 - val_accuracy: 0.6515\n",
            "Epoch 57/100\n",
            "1875/1875 [==============================] - 4s 2ms/step - loss: 0.8304 - accuracy: 0.6554 - val_loss: 0.8682 - val_accuracy: 0.6642\n",
            "Epoch 58/100\n",
            "1875/1875 [==============================] - 4s 2ms/step - loss: 0.8287 - accuracy: 0.6582 - val_loss: 0.8758 - val_accuracy: 0.6380\n",
            "Epoch 59/100\n",
            "1875/1875 [==============================] - 4s 2ms/step - loss: 0.8279 - accuracy: 0.6578 - val_loss: 0.8558 - val_accuracy: 0.6612\n",
            "Epoch 60/100\n",
            "1875/1875 [==============================] - 4s 2ms/step - loss: 0.8273 - accuracy: 0.6570 - val_loss: 0.8610 - val_accuracy: 0.6610\n",
            "Epoch 61/100\n",
            "1875/1875 [==============================] - 4s 2ms/step - loss: 0.8153 - accuracy: 0.6817 - val_loss: 0.8253 - val_accuracy: 0.6981\n",
            "Epoch 62/100\n",
            "1875/1875 [==============================] - 4s 2ms/step - loss: 0.7958 - accuracy: 0.7061 - val_loss: 0.7945 - val_accuracy: 0.7166\n",
            "Epoch 63/100\n",
            "1875/1875 [==============================] - 4s 2ms/step - loss: 0.7695 - accuracy: 0.7189 - val_loss: 0.7787 - val_accuracy: 0.7214\n",
            "Epoch 64/100\n",
            "1875/1875 [==============================] - 4s 2ms/step - loss: 0.7571 - accuracy: 0.7243 - val_loss: 0.7817 - val_accuracy: 0.7175\n",
            "Epoch 65/100\n",
            "1875/1875 [==============================] - 4s 2ms/step - loss: 0.7488 - accuracy: 0.7304 - val_loss: 0.7839 - val_accuracy: 0.7250\n",
            "Epoch 66/100\n",
            "1875/1875 [==============================] - 4s 2ms/step - loss: 0.7454 - accuracy: 0.7298 - val_loss: 0.8141 - val_accuracy: 0.7001\n",
            "Epoch 67/100\n",
            "1875/1875 [==============================] - 4s 2ms/step - loss: 0.7449 - accuracy: 0.7315 - val_loss: 0.7927 - val_accuracy: 0.7166\n",
            "Epoch 68/100\n",
            "1875/1875 [==============================] - 4s 2ms/step - loss: 0.7391 - accuracy: 0.7323 - val_loss: 0.7503 - val_accuracy: 0.7343\n",
            "Epoch 69/100\n",
            "1875/1875 [==============================] - 4s 2ms/step - loss: 0.7347 - accuracy: 0.7329 - val_loss: 0.7633 - val_accuracy: 0.7335\n",
            "Epoch 70/100\n",
            "1875/1875 [==============================] - 4s 2ms/step - loss: 0.7354 - accuracy: 0.7365 - val_loss: 0.7699 - val_accuracy: 0.7325\n",
            "Epoch 71/100\n",
            "1875/1875 [==============================] - 4s 2ms/step - loss: 0.7384 - accuracy: 0.7345 - val_loss: 0.7893 - val_accuracy: 0.7230\n",
            "Epoch 72/100\n",
            "1875/1875 [==============================] - 4s 2ms/step - loss: 0.7334 - accuracy: 0.7359 - val_loss: 0.7815 - val_accuracy: 0.7315\n",
            "Epoch 73/100\n",
            "1875/1875 [==============================] - 4s 2ms/step - loss: 0.7361 - accuracy: 0.7340 - val_loss: 0.7720 - val_accuracy: 0.7276\n",
            "Epoch 74/100\n",
            "1875/1875 [==============================] - 4s 2ms/step - loss: 0.7296 - accuracy: 0.7376 - val_loss: 0.7686 - val_accuracy: 0.7298\n",
            "Epoch 75/100\n",
            "1875/1875 [==============================] - 4s 2ms/step - loss: 0.7269 - accuracy: 0.7390 - val_loss: 0.7733 - val_accuracy: 0.7277\n",
            "Epoch 76/100\n",
            "1875/1875 [==============================] - 4s 2ms/step - loss: 0.7259 - accuracy: 0.7372 - val_loss: 0.7746 - val_accuracy: 0.7289\n",
            "Epoch 77/100\n",
            "1875/1875 [==============================] - 4s 2ms/step - loss: 0.7271 - accuracy: 0.7371 - val_loss: 0.7594 - val_accuracy: 0.7311\n",
            "Epoch 78/100\n",
            "1875/1875 [==============================] - 4s 2ms/step - loss: 0.7287 - accuracy: 0.7359 - val_loss: 0.7701 - val_accuracy: 0.7284\n",
            "Epoch 79/100\n",
            "1875/1875 [==============================] - 5s 2ms/step - loss: 0.7218 - accuracy: 0.7390 - val_loss: 0.8005 - val_accuracy: 0.7175\n",
            "Epoch 80/100\n",
            "1875/1875 [==============================] - 5s 2ms/step - loss: 0.7219 - accuracy: 0.7404 - val_loss: 0.7944 - val_accuracy: 0.7222\n",
            "Epoch 81/100\n",
            "1875/1875 [==============================] - 4s 2ms/step - loss: 0.7238 - accuracy: 0.7385 - val_loss: 0.7637 - val_accuracy: 0.7299\n",
            "Epoch 82/100\n",
            "1875/1875 [==============================] - 4s 2ms/step - loss: 0.7220 - accuracy: 0.7398 - val_loss: 0.7934 - val_accuracy: 0.7077\n",
            "Epoch 83/100\n",
            "1875/1875 [==============================] - 4s 2ms/step - loss: 0.7237 - accuracy: 0.7374 - val_loss: 0.8092 - val_accuracy: 0.7106\n",
            "Epoch 84/100\n",
            "1875/1875 [==============================] - 4s 2ms/step - loss: 0.7224 - accuracy: 0.7390 - val_loss: 0.7771 - val_accuracy: 0.7252\n",
            "Epoch 85/100\n",
            "1875/1875 [==============================] - 4s 2ms/step - loss: 0.7195 - accuracy: 0.7382 - val_loss: 0.7638 - val_accuracy: 0.7372\n",
            "Epoch 86/100\n",
            "1875/1875 [==============================] - 4s 2ms/step - loss: 0.7229 - accuracy: 0.7385 - val_loss: 0.7731 - val_accuracy: 0.7296\n",
            "Epoch 87/100\n",
            "1875/1875 [==============================] - 4s 2ms/step - loss: 0.7176 - accuracy: 0.7402 - val_loss: 0.7638 - val_accuracy: 0.7331\n",
            "Epoch 88/100\n",
            "1875/1875 [==============================] - 4s 2ms/step - loss: 0.7238 - accuracy: 0.7387 - val_loss: 0.7839 - val_accuracy: 0.7182\n",
            "Epoch 89/100\n",
            "1875/1875 [==============================] - 4s 2ms/step - loss: 0.7202 - accuracy: 0.7388 - val_loss: 0.7483 - val_accuracy: 0.7265\n",
            "Epoch 90/100\n",
            "1875/1875 [==============================] - 4s 2ms/step - loss: 0.7176 - accuracy: 0.7401 - val_loss: 0.7758 - val_accuracy: 0.7241\n",
            "Epoch 91/100\n",
            "1875/1875 [==============================] - 4s 2ms/step - loss: 0.7210 - accuracy: 0.7397 - val_loss: 0.7713 - val_accuracy: 0.7331\n",
            "Epoch 92/100\n",
            "1875/1875 [==============================] - 4s 2ms/step - loss: 0.7187 - accuracy: 0.7396 - val_loss: 0.7516 - val_accuracy: 0.7399\n",
            "Epoch 93/100\n",
            "1875/1875 [==============================] - 5s 2ms/step - loss: 0.7172 - accuracy: 0.7389 - val_loss: 0.7755 - val_accuracy: 0.7276\n",
            "Epoch 94/100\n",
            "1875/1875 [==============================] - 4s 2ms/step - loss: 0.7191 - accuracy: 0.7409 - val_loss: 0.7726 - val_accuracy: 0.7337\n",
            "Epoch 95/100\n",
            "1875/1875 [==============================] - 4s 2ms/step - loss: 0.7197 - accuracy: 0.7404 - val_loss: 0.7708 - val_accuracy: 0.7294\n",
            "Epoch 96/100\n",
            "1875/1875 [==============================] - 4s 2ms/step - loss: 0.7195 - accuracy: 0.7402 - val_loss: 0.7583 - val_accuracy: 0.7370\n",
            "Epoch 97/100\n",
            "1875/1875 [==============================] - 4s 2ms/step - loss: 0.7177 - accuracy: 0.7394 - val_loss: 0.7628 - val_accuracy: 0.7275\n",
            "Epoch 98/100\n",
            "1875/1875 [==============================] - 4s 2ms/step - loss: 0.7175 - accuracy: 0.7404 - val_loss: 0.7667 - val_accuracy: 0.7354\n",
            "Epoch 99/100\n",
            "1875/1875 [==============================] - 4s 2ms/step - loss: 0.7168 - accuracy: 0.7402 - val_loss: 0.7518 - val_accuracy: 0.7313\n",
            "Epoch 100/100\n",
            "1875/1875 [==============================] - 4s 2ms/step - loss: 0.7207 - accuracy: 0.7386 - val_loss: 0.7482 - val_accuracy: 0.7396\n"
          ]
        }
      ],
      "source": [
        "tf.random.set_seed(42)\n",
        "\n",
        "model_5= tf.keras.Sequential([\n",
        "            tf.keras.layers.Flatten(input_shape=(28,28)),\n",
        "            tf.keras.layers.Dense(4, activation=\"relu\"),\n",
        "            tf.keras.layers.Dense(4, activation=\"relu\"),\n",
        "            tf.keras.layers.Dense(10, activation=tf.keras.activations.softmax),\n",
        "])\n",
        "\n",
        "model_5.compile(loss=tf.keras.losses.SparseCategoricalCrossentropy(), optimizer=tf.keras.optimizers.Adam(), metrics=[\"accuracy\"])\n",
        "\n",
        "history_5= model_5.fit(X_train,y_train,epochs=100,validation_data=(X_test,y_test))"
      ]
    },
    {
      "cell_type": "code",
      "execution_count": 58,
      "metadata": {
        "colab": {
          "base_uri": "https://localhost:8080/"
        },
        "id": "8UOtUjh_H_LL",
        "outputId": "1f277e5b-b593-4882-c4d5-663bcea8867b"
      },
      "outputs": [
        {
          "name": "stdout",
          "output_type": "stream",
          "text": [
            "Model: \"sequential_6\"\n",
            "_________________________________________________________________\n",
            " Layer (type)                Output Shape              Param #   \n",
            "=================================================================\n",
            " flatten (Flatten)           (None, 784)               0         \n",
            "                                                                 \n",
            " dense_15 (Dense)            (None, 4)                 3140      \n",
            "                                                                 \n",
            " dense_16 (Dense)            (None, 4)                 20        \n",
            "                                                                 \n",
            " dense_17 (Dense)            (None, 10)                50        \n",
            "                                                                 \n",
            "=================================================================\n",
            "Total params: 3,210\n",
            "Trainable params: 3,210\n",
            "Non-trainable params: 0\n",
            "_________________________________________________________________\n"
          ]
        }
      ],
      "source": [
        "model_5.summary()"
      ]
    },
    {
      "cell_type": "code",
      "execution_count": 59,
      "metadata": {
        "colab": {
          "base_uri": "https://localhost:8080/"
        },
        "id": "LsdvfowuN6aO",
        "outputId": "927510a8-2b17-4c9d-eecd-79e200857bdc"
      },
      "outputs": [
        {
          "data": {
            "text/plain": [
              "(0, 255)"
            ]
          },
          "execution_count": 59,
          "metadata": {},
          "output_type": "execute_result"
        }
      ],
      "source": [
        "X_train.min(), X_train.max()"
      ]
    },
    {
      "cell_type": "markdown",
      "metadata": {
        "id": "tQqqLZnPOqSr"
      },
      "source": [
        "### Scalling/Normalizing the data\n",
        "\n",
        "> Neural Networks tend to prefer data in numerical form as well as scaled/normalized(numbers between 0 & 1).\n"
      ]
    },
    {
      "cell_type": "code",
      "execution_count": 60,
      "metadata": {
        "colab": {
          "base_uri": "https://localhost:8080/"
        },
        "id": "YXM-41xWOkDB",
        "outputId": "a6af9793-04d8-4ace-d083-afd59cb7073d"
      },
      "outputs": [
        {
          "data": {
            "text/plain": [
              "array([[[0., 0., 0., ..., 0., 0., 0.],\n",
              "        [0., 0., 0., ..., 0., 0., 0.],\n",
              "        [0., 0., 0., ..., 0., 0., 0.],\n",
              "        ...,\n",
              "        [0., 0., 0., ..., 0., 0., 0.],\n",
              "        [0., 0., 0., ..., 0., 0., 0.],\n",
              "        [0., 0., 0., ..., 0., 0., 0.]],\n",
              "\n",
              "       [[0., 0., 0., ..., 0., 0., 0.],\n",
              "        [0., 0., 0., ..., 0., 0., 0.],\n",
              "        [0., 0., 0., ..., 0., 0., 0.],\n",
              "        ...,\n",
              "        [0., 0., 0., ..., 0., 0., 0.],\n",
              "        [0., 0., 0., ..., 0., 0., 0.],\n",
              "        [0., 0., 0., ..., 0., 0., 0.]],\n",
              "\n",
              "       [[0., 0., 0., ..., 0., 0., 0.],\n",
              "        [0., 0., 0., ..., 0., 0., 0.],\n",
              "        [0., 0., 0., ..., 0., 0., 0.],\n",
              "        ...,\n",
              "        [0., 0., 0., ..., 0., 0., 0.],\n",
              "        [0., 0., 0., ..., 0., 0., 0.],\n",
              "        [0., 0., 0., ..., 0., 0., 0.]],\n",
              "\n",
              "       ...,\n",
              "\n",
              "       [[0., 0., 0., ..., 0., 0., 0.],\n",
              "        [0., 0., 0., ..., 0., 0., 0.],\n",
              "        [0., 0., 0., ..., 0., 0., 0.],\n",
              "        ...,\n",
              "        [0., 0., 0., ..., 0., 0., 0.],\n",
              "        [0., 0., 0., ..., 0., 0., 0.],\n",
              "        [0., 0., 0., ..., 0., 0., 0.]],\n",
              "\n",
              "       [[0., 0., 0., ..., 0., 0., 0.],\n",
              "        [0., 0., 0., ..., 0., 0., 0.],\n",
              "        [0., 0., 0., ..., 0., 0., 0.],\n",
              "        ...,\n",
              "        [0., 0., 0., ..., 0., 0., 0.],\n",
              "        [0., 0., 0., ..., 0., 0., 0.],\n",
              "        [0., 0., 0., ..., 0., 0., 0.]],\n",
              "\n",
              "       [[0., 0., 0., ..., 0., 0., 0.],\n",
              "        [0., 0., 0., ..., 0., 0., 0.],\n",
              "        [0., 0., 0., ..., 0., 0., 0.],\n",
              "        ...,\n",
              "        [0., 0., 0., ..., 0., 0., 0.],\n",
              "        [0., 0., 0., ..., 0., 0., 0.],\n",
              "        [0., 0., 0., ..., 0., 0., 0.]]])"
            ]
          },
          "execution_count": 60,
          "metadata": {},
          "output_type": "execute_result"
        }
      ],
      "source": [
        "X_train/255"
      ]
    },
    {
      "cell_type": "code",
      "execution_count": 61,
      "metadata": {
        "id": "TrZi3NBDOf8c"
      },
      "outputs": [],
      "source": [
        "X_train_scaled=X_train/255.0\n",
        "X_test_scaled= X_test/255.0"
      ]
    },
    {
      "cell_type": "code",
      "execution_count": 62,
      "metadata": {
        "colab": {
          "base_uri": "https://localhost:8080/"
        },
        "id": "ExJbdBwMOzhk",
        "outputId": "3603a14d-bc0a-4537-9afd-79a684b13f84"
      },
      "outputs": [
        {
          "data": {
            "text/plain": [
              "(0.0, 1.0, 0.0, 1.0)"
            ]
          },
          "execution_count": 62,
          "metadata": {},
          "output_type": "execute_result"
        }
      ],
      "source": [
        "X_train_scaled.min(), X_train_scaled.max(), X_test_scaled.min(), X_test_scaled.max()"
      ]
    },
    {
      "cell_type": "code",
      "execution_count": 63,
      "metadata": {
        "colab": {
          "base_uri": "https://localhost:8080/"
        },
        "id": "-TIv0XqsO5Dk",
        "outputId": "5a00be49-45fe-4714-f515-728058b39e2f"
      },
      "outputs": [
        {
          "name": "stdout",
          "output_type": "stream",
          "text": [
            "Epoch 1/100\n",
            "1875/1875 [==============================] - 5s 2ms/step - loss: 1.0348 - accuracy: 0.6474 - val_loss: 0.6937 - val_accuracy: 0.7617\n",
            "Epoch 2/100\n",
            "1875/1875 [==============================] - 6s 3ms/step - loss: 0.6376 - accuracy: 0.7757 - val_loss: 0.6400 - val_accuracy: 0.7820\n",
            "Epoch 3/100\n",
            "1875/1875 [==============================] - 5s 3ms/step - loss: 0.5942 - accuracy: 0.7914 - val_loss: 0.6247 - val_accuracy: 0.7783\n",
            "Epoch 4/100\n",
            "1875/1875 [==============================] - 5s 2ms/step - loss: 0.5750 - accuracy: 0.7979 - val_loss: 0.6078 - val_accuracy: 0.7881\n",
            "Epoch 5/100\n",
            "1875/1875 [==============================] - 6s 3ms/step - loss: 0.5641 - accuracy: 0.8006 - val_loss: 0.6169 - val_accuracy: 0.7881\n",
            "Epoch 6/100\n",
            "1875/1875 [==============================] - 5s 3ms/step - loss: 0.5544 - accuracy: 0.8043 - val_loss: 0.5855 - val_accuracy: 0.7951\n",
            "Epoch 7/100\n",
            "1875/1875 [==============================] - 4s 2ms/step - loss: 0.5488 - accuracy: 0.8063 - val_loss: 0.6097 - val_accuracy: 0.7836\n",
            "Epoch 8/100\n",
            "1875/1875 [==============================] - 5s 2ms/step - loss: 0.5428 - accuracy: 0.8077 - val_loss: 0.5787 - val_accuracy: 0.7971\n",
            "Epoch 9/100\n",
            "1875/1875 [==============================] - 4s 2ms/step - loss: 0.5373 - accuracy: 0.8097 - val_loss: 0.5698 - val_accuracy: 0.7977\n",
            "Epoch 10/100\n",
            "1875/1875 [==============================] - 4s 2ms/step - loss: 0.5360 - accuracy: 0.8124 - val_loss: 0.5658 - val_accuracy: 0.8014\n",
            "Epoch 11/100\n",
            "1875/1875 [==============================] - 4s 2ms/step - loss: 0.5311 - accuracy: 0.8130 - val_loss: 0.5714 - val_accuracy: 0.8002\n",
            "Epoch 12/100\n",
            "1875/1875 [==============================] - 4s 2ms/step - loss: 0.5284 - accuracy: 0.8132 - val_loss: 0.5626 - val_accuracy: 0.8027\n",
            "Epoch 13/100\n",
            "1875/1875 [==============================] - 4s 2ms/step - loss: 0.5271 - accuracy: 0.8138 - val_loss: 0.5619 - val_accuracy: 0.8041\n",
            "Epoch 14/100\n",
            "1875/1875 [==============================] - 4s 2ms/step - loss: 0.5249 - accuracy: 0.8143 - val_loss: 0.5718 - val_accuracy: 0.7991\n",
            "Epoch 15/100\n",
            "1875/1875 [==============================] - 4s 2ms/step - loss: 0.5231 - accuracy: 0.8148 - val_loss: 0.5706 - val_accuracy: 0.8024\n",
            "Epoch 16/100\n",
            "1875/1875 [==============================] - 4s 2ms/step - loss: 0.5203 - accuracy: 0.8162 - val_loss: 0.5731 - val_accuracy: 0.8023\n",
            "Epoch 17/100\n",
            "1875/1875 [==============================] - 4s 2ms/step - loss: 0.5191 - accuracy: 0.8176 - val_loss: 0.5594 - val_accuracy: 0.8030\n",
            "Epoch 18/100\n",
            "1875/1875 [==============================] - 4s 2ms/step - loss: 0.5176 - accuracy: 0.8157 - val_loss: 0.5582 - val_accuracy: 0.8053\n",
            "Epoch 19/100\n",
            "1875/1875 [==============================] - 5s 2ms/step - loss: 0.5156 - accuracy: 0.8169 - val_loss: 0.5644 - val_accuracy: 0.8007\n",
            "Epoch 20/100\n",
            "1875/1875 [==============================] - 4s 2ms/step - loss: 0.5146 - accuracy: 0.8177 - val_loss: 0.5660 - val_accuracy: 0.8075\n",
            "Epoch 21/100\n",
            "1875/1875 [==============================] - 4s 2ms/step - loss: 0.5125 - accuracy: 0.8197 - val_loss: 0.5684 - val_accuracy: 0.8004\n",
            "Epoch 22/100\n",
            "1875/1875 [==============================] - 4s 2ms/step - loss: 0.5112 - accuracy: 0.8180 - val_loss: 0.5666 - val_accuracy: 0.8029\n",
            "Epoch 23/100\n",
            "1875/1875 [==============================] - 4s 2ms/step - loss: 0.5105 - accuracy: 0.8195 - val_loss: 0.5570 - val_accuracy: 0.8068\n",
            "Epoch 24/100\n",
            "1875/1875 [==============================] - 4s 2ms/step - loss: 0.5101 - accuracy: 0.8177 - val_loss: 0.5565 - val_accuracy: 0.8076\n",
            "Epoch 25/100\n",
            "1875/1875 [==============================] - 4s 2ms/step - loss: 0.5075 - accuracy: 0.8196 - val_loss: 0.5572 - val_accuracy: 0.8048\n",
            "Epoch 26/100\n",
            "1875/1875 [==============================] - 4s 2ms/step - loss: 0.5081 - accuracy: 0.8192 - val_loss: 0.5659 - val_accuracy: 0.8065\n",
            "Epoch 27/100\n",
            "1875/1875 [==============================] - 4s 2ms/step - loss: 0.5058 - accuracy: 0.8206 - val_loss: 0.5587 - val_accuracy: 0.8045\n",
            "Epoch 28/100\n",
            "1875/1875 [==============================] - 4s 2ms/step - loss: 0.5052 - accuracy: 0.8206 - val_loss: 0.5561 - val_accuracy: 0.8077\n",
            "Epoch 29/100\n",
            "1875/1875 [==============================] - 4s 2ms/step - loss: 0.5050 - accuracy: 0.8205 - val_loss: 0.5664 - val_accuracy: 0.8054\n",
            "Epoch 30/100\n",
            "1875/1875 [==============================] - 4s 2ms/step - loss: 0.5024 - accuracy: 0.8213 - val_loss: 0.5575 - val_accuracy: 0.8051\n",
            "Epoch 31/100\n",
            "1875/1875 [==============================] - 4s 2ms/step - loss: 0.5029 - accuracy: 0.8215 - val_loss: 0.5627 - val_accuracy: 0.8033\n",
            "Epoch 32/100\n",
            "1875/1875 [==============================] - 5s 3ms/step - loss: 0.5012 - accuracy: 0.8204 - val_loss: 0.5574 - val_accuracy: 0.8097\n",
            "Epoch 33/100\n",
            "1875/1875 [==============================] - 4s 2ms/step - loss: 0.4998 - accuracy: 0.8219 - val_loss: 0.5774 - val_accuracy: 0.8007\n",
            "Epoch 34/100\n",
            "1875/1875 [==============================] - 4s 2ms/step - loss: 0.4996 - accuracy: 0.8222 - val_loss: 0.5596 - val_accuracy: 0.8073\n",
            "Epoch 35/100\n",
            "1875/1875 [==============================] - 4s 2ms/step - loss: 0.4980 - accuracy: 0.8237 - val_loss: 0.5507 - val_accuracy: 0.8095\n",
            "Epoch 36/100\n",
            "1875/1875 [==============================] - 4s 2ms/step - loss: 0.4959 - accuracy: 0.8245 - val_loss: 0.5515 - val_accuracy: 0.8066\n",
            "Epoch 37/100\n",
            "1875/1875 [==============================] - 4s 2ms/step - loss: 0.4961 - accuracy: 0.8236 - val_loss: 0.5614 - val_accuracy: 0.8000\n",
            "Epoch 38/100\n",
            "1875/1875 [==============================] - 4s 2ms/step - loss: 0.4948 - accuracy: 0.8248 - val_loss: 0.5453 - val_accuracy: 0.8111\n",
            "Epoch 39/100\n",
            "1875/1875 [==============================] - 4s 2ms/step - loss: 0.4942 - accuracy: 0.8242 - val_loss: 0.5580 - val_accuracy: 0.8044\n",
            "Epoch 40/100\n",
            "1875/1875 [==============================] - 4s 2ms/step - loss: 0.4926 - accuracy: 0.8248 - val_loss: 0.5527 - val_accuracy: 0.8057\n",
            "Epoch 41/100\n",
            "1875/1875 [==============================] - 4s 2ms/step - loss: 0.4923 - accuracy: 0.8246 - val_loss: 0.5585 - val_accuracy: 0.8025\n",
            "Epoch 42/100\n",
            "1875/1875 [==============================] - 4s 2ms/step - loss: 0.4920 - accuracy: 0.8244 - val_loss: 0.5437 - val_accuracy: 0.8104\n",
            "Epoch 43/100\n",
            "1875/1875 [==============================] - 4s 2ms/step - loss: 0.4912 - accuracy: 0.8250 - val_loss: 0.5520 - val_accuracy: 0.8081\n",
            "Epoch 44/100\n",
            "1875/1875 [==============================] - 4s 2ms/step - loss: 0.4905 - accuracy: 0.8268 - val_loss: 0.5465 - val_accuracy: 0.8090\n",
            "Epoch 45/100\n",
            "1875/1875 [==============================] - 4s 2ms/step - loss: 0.4899 - accuracy: 0.8261 - val_loss: 0.5440 - val_accuracy: 0.8113\n",
            "Epoch 46/100\n",
            "1875/1875 [==============================] - 4s 2ms/step - loss: 0.4887 - accuracy: 0.8257 - val_loss: 0.5522 - val_accuracy: 0.8076\n",
            "Epoch 47/100\n",
            "1875/1875 [==============================] - 4s 2ms/step - loss: 0.4874 - accuracy: 0.8263 - val_loss: 0.5491 - val_accuracy: 0.8100\n",
            "Epoch 48/100\n",
            "1875/1875 [==============================] - 4s 2ms/step - loss: 0.4874 - accuracy: 0.8267 - val_loss: 0.5517 - val_accuracy: 0.8092\n",
            "Epoch 49/100\n",
            "1875/1875 [==============================] - 4s 2ms/step - loss: 0.4873 - accuracy: 0.8260 - val_loss: 0.5568 - val_accuracy: 0.8102\n",
            "Epoch 50/100\n",
            "1875/1875 [==============================] - 4s 2ms/step - loss: 0.4865 - accuracy: 0.8274 - val_loss: 0.5441 - val_accuracy: 0.8130\n",
            "Epoch 51/100\n",
            "1875/1875 [==============================] - 4s 2ms/step - loss: 0.4852 - accuracy: 0.8279 - val_loss: 0.5471 - val_accuracy: 0.8084\n",
            "Epoch 52/100\n",
            "1875/1875 [==============================] - 4s 2ms/step - loss: 0.4850 - accuracy: 0.8284 - val_loss: 0.5508 - val_accuracy: 0.8066\n",
            "Epoch 53/100\n",
            "1875/1875 [==============================] - 4s 2ms/step - loss: 0.4847 - accuracy: 0.8276 - val_loss: 0.5539 - val_accuracy: 0.8047\n",
            "Epoch 54/100\n",
            "1875/1875 [==============================] - 4s 2ms/step - loss: 0.4844 - accuracy: 0.8299 - val_loss: 0.5495 - val_accuracy: 0.8084\n",
            "Epoch 55/100\n",
            "1875/1875 [==============================] - 4s 2ms/step - loss: 0.4837 - accuracy: 0.8293 - val_loss: 0.5449 - val_accuracy: 0.8104\n",
            "Epoch 56/100\n",
            "1875/1875 [==============================] - 4s 2ms/step - loss: 0.4830 - accuracy: 0.8279 - val_loss: 0.5404 - val_accuracy: 0.8123\n",
            "Epoch 57/100\n",
            "1875/1875 [==============================] - 4s 2ms/step - loss: 0.4823 - accuracy: 0.8267 - val_loss: 0.5537 - val_accuracy: 0.8109\n",
            "Epoch 58/100\n",
            "1875/1875 [==============================] - 4s 2ms/step - loss: 0.4832 - accuracy: 0.8279 - val_loss: 0.5476 - val_accuracy: 0.8041\n",
            "Epoch 59/100\n",
            "1875/1875 [==============================] - 5s 2ms/step - loss: 0.4806 - accuracy: 0.8290 - val_loss: 0.5538 - val_accuracy: 0.8134\n",
            "Epoch 60/100\n",
            "1875/1875 [==============================] - 4s 2ms/step - loss: 0.4815 - accuracy: 0.8283 - val_loss: 0.5438 - val_accuracy: 0.8099\n",
            "Epoch 61/100\n",
            "1875/1875 [==============================] - 4s 2ms/step - loss: 0.4812 - accuracy: 0.8299 - val_loss: 0.5496 - val_accuracy: 0.8088\n",
            "Epoch 62/100\n",
            "1875/1875 [==============================] - 4s 2ms/step - loss: 0.4811 - accuracy: 0.8293 - val_loss: 0.5415 - val_accuracy: 0.8125\n",
            "Epoch 63/100\n",
            "1875/1875 [==============================] - 4s 2ms/step - loss: 0.4808 - accuracy: 0.8286 - val_loss: 0.5489 - val_accuracy: 0.8052\n",
            "Epoch 64/100\n",
            "1875/1875 [==============================] - 4s 2ms/step - loss: 0.4793 - accuracy: 0.8285 - val_loss: 0.5441 - val_accuracy: 0.8097\n",
            "Epoch 65/100\n",
            "1875/1875 [==============================] - 4s 2ms/step - loss: 0.4780 - accuracy: 0.8303 - val_loss: 0.5423 - val_accuracy: 0.8124\n",
            "Epoch 66/100\n",
            "1875/1875 [==============================] - 4s 2ms/step - loss: 0.4796 - accuracy: 0.8294 - val_loss: 0.5530 - val_accuracy: 0.8116\n",
            "Epoch 67/100\n",
            "1875/1875 [==============================] - 4s 2ms/step - loss: 0.4790 - accuracy: 0.8302 - val_loss: 0.5444 - val_accuracy: 0.8130\n",
            "Epoch 68/100\n",
            "1875/1875 [==============================] - 4s 2ms/step - loss: 0.4778 - accuracy: 0.8296 - val_loss: 0.5525 - val_accuracy: 0.8087\n",
            "Epoch 69/100\n",
            "1875/1875 [==============================] - 4s 2ms/step - loss: 0.4773 - accuracy: 0.8290 - val_loss: 0.5455 - val_accuracy: 0.8123\n",
            "Epoch 70/100\n",
            "1875/1875 [==============================] - 4s 2ms/step - loss: 0.4783 - accuracy: 0.8289 - val_loss: 0.5469 - val_accuracy: 0.8125\n",
            "Epoch 71/100\n",
            "1875/1875 [==============================] - 4s 2ms/step - loss: 0.4773 - accuracy: 0.8305 - val_loss: 0.5439 - val_accuracy: 0.8101\n",
            "Epoch 72/100\n",
            "1875/1875 [==============================] - 4s 2ms/step - loss: 0.4764 - accuracy: 0.8303 - val_loss: 0.5568 - val_accuracy: 0.8095\n",
            "Epoch 73/100\n",
            "1875/1875 [==============================] - 4s 2ms/step - loss: 0.4761 - accuracy: 0.8305 - val_loss: 0.5454 - val_accuracy: 0.8102\n",
            "Epoch 74/100\n",
            "1875/1875 [==============================] - 4s 2ms/step - loss: 0.4763 - accuracy: 0.8311 - val_loss: 0.5557 - val_accuracy: 0.8127\n",
            "Epoch 75/100\n",
            "1875/1875 [==============================] - 4s 2ms/step - loss: 0.4759 - accuracy: 0.8307 - val_loss: 0.5420 - val_accuracy: 0.8097\n",
            "Epoch 76/100\n",
            "1875/1875 [==============================] - 4s 2ms/step - loss: 0.4756 - accuracy: 0.8302 - val_loss: 0.5595 - val_accuracy: 0.8087\n",
            "Epoch 77/100\n",
            "1875/1875 [==============================] - 4s 2ms/step - loss: 0.4774 - accuracy: 0.8294 - val_loss: 0.5425 - val_accuracy: 0.8094\n",
            "Epoch 78/100\n",
            "1875/1875 [==============================] - 4s 2ms/step - loss: 0.4753 - accuracy: 0.8305 - val_loss: 0.5428 - val_accuracy: 0.8146\n",
            "Epoch 79/100\n",
            "1875/1875 [==============================] - 4s 2ms/step - loss: 0.4747 - accuracy: 0.8317 - val_loss: 0.5503 - val_accuracy: 0.8053\n",
            "Epoch 80/100\n",
            "1875/1875 [==============================] - 4s 2ms/step - loss: 0.4744 - accuracy: 0.8306 - val_loss: 0.5485 - val_accuracy: 0.8092\n",
            "Epoch 81/100\n",
            "1875/1875 [==============================] - 4s 2ms/step - loss: 0.4743 - accuracy: 0.8321 - val_loss: 0.5485 - val_accuracy: 0.8072\n",
            "Epoch 82/100\n",
            "1875/1875 [==============================] - 4s 2ms/step - loss: 0.4746 - accuracy: 0.8310 - val_loss: 0.5487 - val_accuracy: 0.8112\n",
            "Epoch 83/100\n",
            "1875/1875 [==============================] - 5s 2ms/step - loss: 0.4740 - accuracy: 0.8322 - val_loss: 0.5715 - val_accuracy: 0.7983\n",
            "Epoch 84/100\n",
            "1875/1875 [==============================] - 4s 2ms/step - loss: 0.4739 - accuracy: 0.8320 - val_loss: 0.5462 - val_accuracy: 0.8087\n",
            "Epoch 85/100\n",
            "1875/1875 [==============================] - 4s 2ms/step - loss: 0.4743 - accuracy: 0.8311 - val_loss: 0.5503 - val_accuracy: 0.8097\n",
            "Epoch 86/100\n",
            "1875/1875 [==============================] - 5s 3ms/step - loss: 0.4737 - accuracy: 0.8320 - val_loss: 0.5442 - val_accuracy: 0.8118\n",
            "Epoch 87/100\n",
            "1875/1875 [==============================] - 4s 2ms/step - loss: 0.4735 - accuracy: 0.8317 - val_loss: 0.5402 - val_accuracy: 0.8112\n",
            "Epoch 88/100\n",
            "1875/1875 [==============================] - 4s 2ms/step - loss: 0.4731 - accuracy: 0.8322 - val_loss: 0.5470 - val_accuracy: 0.8118\n",
            "Epoch 89/100\n",
            "1875/1875 [==============================] - 5s 2ms/step - loss: 0.4730 - accuracy: 0.8313 - val_loss: 0.5477 - val_accuracy: 0.8067\n",
            "Epoch 90/100\n",
            "1875/1875 [==============================] - 5s 2ms/step - loss: 0.4718 - accuracy: 0.8326 - val_loss: 0.5480 - val_accuracy: 0.8102\n",
            "Epoch 91/100\n",
            "1875/1875 [==============================] - 4s 2ms/step - loss: 0.4726 - accuracy: 0.8322 - val_loss: 0.5447 - val_accuracy: 0.8150\n",
            "Epoch 92/100\n",
            "1875/1875 [==============================] - 4s 2ms/step - loss: 0.4720 - accuracy: 0.8332 - val_loss: 0.5412 - val_accuracy: 0.8159\n",
            "Epoch 93/100\n",
            "1875/1875 [==============================] - 4s 2ms/step - loss: 0.4719 - accuracy: 0.8313 - val_loss: 0.5514 - val_accuracy: 0.8104\n",
            "Epoch 94/100\n",
            "1875/1875 [==============================] - 4s 2ms/step - loss: 0.4710 - accuracy: 0.8325 - val_loss: 0.5477 - val_accuracy: 0.8138\n",
            "Epoch 95/100\n",
            "1875/1875 [==============================] - 4s 2ms/step - loss: 0.4703 - accuracy: 0.8330 - val_loss: 0.5402 - val_accuracy: 0.8161\n",
            "Epoch 96/100\n",
            "1875/1875 [==============================] - 5s 2ms/step - loss: 0.4704 - accuracy: 0.8335 - val_loss: 0.5434 - val_accuracy: 0.8122\n",
            "Epoch 97/100\n",
            "1875/1875 [==============================] - 4s 2ms/step - loss: 0.4702 - accuracy: 0.8336 - val_loss: 0.5411 - val_accuracy: 0.8173\n",
            "Epoch 98/100\n",
            "1875/1875 [==============================] - 4s 2ms/step - loss: 0.4701 - accuracy: 0.8338 - val_loss: 0.5477 - val_accuracy: 0.8108\n",
            "Epoch 99/100\n",
            "1875/1875 [==============================] - 4s 2ms/step - loss: 0.4702 - accuracy: 0.8333 - val_loss: 0.5457 - val_accuracy: 0.8119\n",
            "Epoch 100/100\n",
            "1875/1875 [==============================] - 4s 2ms/step - loss: 0.4692 - accuracy: 0.8341 - val_loss: 0.5425 - val_accuracy: 0.8143\n"
          ]
        }
      ],
      "source": [
        "tf.random.set_seed(42)\n",
        "\n",
        "model_5_scaled= tf.keras.Sequential([\n",
        "            tf.keras.layers.Flatten(input_shape=(28,28)),\n",
        "            tf.keras.layers.Dense(4, activation=\"relu\"),\n",
        "            tf.keras.layers.Dense(4, activation=\"relu\"),\n",
        "            tf.keras.layers.Dense(10, activation=tf.keras.activations.softmax),\n",
        "])\n",
        "\n",
        "model_5_scaled.compile(loss=tf.keras.losses.SparseCategoricalCrossentropy(), optimizer=tf.keras.optimizers.Adam(), metrics=[\"accuracy\"])\n",
        "\n",
        "history_5_scaled= model_5_scaled.fit(X_train_scaled,y_train,epochs=100,validation_data=(X_test_scaled,y_test))"
      ]
    },
    {
      "cell_type": "markdown",
      "metadata": {
        "id": "xMvu7gqgSB2D"
      },
      "source": [
        "### Plotting Loss curves of None Normalized data VS Normalized data"
      ]
    },
    {
      "cell_type": "code",
      "execution_count": 64,
      "metadata": {
        "colab": {
          "base_uri": "https://localhost:8080/",
          "height": 565
        },
        "id": "g8BrRrHUPXAC",
        "outputId": "91830378-bfcb-4733-b7d4-7355f7f3401a"
      },
      "outputs": [
        {
          "data": {
            "text/plain": [
              "<matplotlib.axes._subplots.AxesSubplot at 0x7fa7266852d0>"
            ]
          },
          "execution_count": 64,
          "metadata": {},
          "output_type": "execute_result"
        },
        {
          "data": {
            "image/png": "[encoded data removed]",
            "text/plain": [
              "<Figure size 432x288 with 1 Axes>"
            ]
          },
          "metadata": {
            "needs_background": "light"
          },
          "output_type": "display_data"
        },
        {
          "data": {
            "image/png": "[encoded data removed]",
            "text/plain": [
              "<Figure size 432x288 with 1 Axes>"
            ]
          },
          "metadata": {
            "needs_background": "light"
          },
          "output_type": "display_data"
        }
      ],
      "source": [
        "# None Normalized data\n",
        "pd.DataFrame(history_5.history).plot(title=\"Non-normalized data\")\n",
        "# Normalized data\n",
        "pd.DataFrame(history_5_scaled.history).plot(title=\"Normalized data\")"
      ]
    },
    {
      "cell_type": "markdown",
      "metadata": {
        "id": "hknCKE9gSVhX"
      },
      "source": [
        "### Finding ideal learning rate"
      ]
    },
    {
      "cell_type": "code",
      "execution_count": 65,
      "metadata": {
        "colab": {
          "base_uri": "https://localhost:8080/"
        },
        "id": "6fbLhcEcTgXY",
        "outputId": "e9dd14f5-2bc6-4682-95eb-9dd99d2bcdba"
      },
      "outputs": [
        {
          "name": "stdout",
          "output_type": "stream",
          "text": [
            "Epoch 1/25\n",
            "1875/1875 [==============================] - 5s 3ms/step - loss: 2.1671 - accuracy: 0.1606 - val_loss: 2.3423 - val_accuracy: 0.0999 - lr: 0.0010\n",
            "Epoch 2/25\n",
            "1875/1875 [==============================] - 4s 2ms/step - loss: 1.7058 - accuracy: 0.2488 - val_loss: 2.8304 - val_accuracy: 0.1001 - lr: 0.0011\n",
            "Epoch 3/25\n",
            "1875/1875 [==============================] - 4s 2ms/step - loss: 1.6401 - accuracy: 0.2788 - val_loss: 3.0426 - val_accuracy: 0.1007 - lr: 0.0013\n",
            "Epoch 4/25\n",
            "1875/1875 [==============================] - 4s 2ms/step - loss: 1.6185 - accuracy: 0.2823 - val_loss: 3.0643 - val_accuracy: 0.1000 - lr: 0.0014\n",
            "Epoch 5/25\n",
            "1875/1875 [==============================] - 4s 2ms/step - loss: 1.6065 - accuracy: 0.2955 - val_loss: 2.9663 - val_accuracy: 0.1009 - lr: 0.0016\n",
            "Epoch 6/25\n",
            "1875/1875 [==============================] - 4s 2ms/step - loss: 1.5908 - accuracy: 0.3097 - val_loss: 2.5877 - val_accuracy: 0.1352 - lr: 0.0018\n",
            "Epoch 7/25\n",
            "1875/1875 [==============================] - 5s 3ms/step - loss: 1.5806 - accuracy: 0.3249 - val_loss: 2.5962 - val_accuracy: 0.1509 - lr: 0.0020\n",
            "Epoch 8/25\n",
            "1875/1875 [==============================] - 4s 2ms/step - loss: 1.5558 - accuracy: 0.3341 - val_loss: 2.6025 - val_accuracy: 0.1488 - lr: 0.0022\n",
            "Epoch 9/25\n",
            "1875/1875 [==============================] - 4s 2ms/step - loss: 1.5766 - accuracy: 0.3332 - val_loss: 2.5562 - val_accuracy: 0.1939 - lr: 0.0025\n",
            "Epoch 10/25\n",
            "1875/1875 [==============================] - 4s 2ms/step - loss: 1.5699 - accuracy: 0.3302 - val_loss: 2.5856 - val_accuracy: 0.1929 - lr: 0.0028\n",
            "Epoch 11/25\n",
            "1875/1875 [==============================] - 4s 2ms/step - loss: 1.5444 - accuracy: 0.3375 - val_loss: 2.5928 - val_accuracy: 0.1817 - lr: 0.0032\n",
            "Epoch 12/25\n",
            "1875/1875 [==============================] - 5s 3ms/step - loss: 1.5402 - accuracy: 0.3398 - val_loss: 2.5674 - val_accuracy: 0.1989 - lr: 0.0035\n",
            "Epoch 13/25\n",
            "1875/1875 [==============================] - 4s 2ms/step - loss: 1.5240 - accuracy: 0.3489 - val_loss: 2.6127 - val_accuracy: 0.1880 - lr: 0.0040\n",
            "Epoch 14/25\n",
            "1875/1875 [==============================] - 4s 2ms/step - loss: 1.5295 - accuracy: 0.3455 - val_loss: 2.7251 - val_accuracy: 0.1653 - lr: 0.0045\n",
            "Epoch 15/25\n",
            "1875/1875 [==============================] - 4s 2ms/step - loss: 1.5784 - accuracy: 0.3120 - val_loss: 2.8283 - val_accuracy: 0.1065 - lr: 0.0050\n",
            "Epoch 16/25\n",
            "1875/1875 [==============================] - 4s 2ms/step - loss: 1.5976 - accuracy: 0.3004 - val_loss: 2.8600 - val_accuracy: 0.1501 - lr: 0.0056\n",
            "Epoch 17/25\n",
            "1875/1875 [==============================] - 4s 2ms/step - loss: 1.6092 - accuracy: 0.2946 - val_loss: 2.8763 - val_accuracy: 0.1150 - lr: 0.0063\n",
            "Epoch 18/25\n",
            "1875/1875 [==============================] - 4s 2ms/step - loss: 1.6040 - accuracy: 0.2978 - val_loss: 2.7893 - val_accuracy: 0.1966 - lr: 0.0071\n",
            "Epoch 19/25\n",
            "1875/1875 [==============================] - 4s 2ms/step - loss: 1.6032 - accuracy: 0.3173 - val_loss: 2.7771 - val_accuracy: 0.1972 - lr: 0.0079\n",
            "Epoch 20/25\n",
            "1875/1875 [==============================] - 4s 2ms/step - loss: 1.8233 - accuracy: 0.2466 - val_loss: 1.7511 - val_accuracy: 0.2002 - lr: 0.0089\n",
            "Epoch 21/25\n",
            "1875/1875 [==============================] - 4s 2ms/step - loss: 1.7602 - accuracy: 0.1984 - val_loss: 1.7521 - val_accuracy: 0.2010 - lr: 0.0100\n",
            "Epoch 22/25\n",
            "1875/1875 [==============================] - 4s 2ms/step - loss: 2.0306 - accuracy: 0.1756 - val_loss: 1.8445 - val_accuracy: 0.2011 - lr: 0.0112\n",
            "Epoch 23/25\n",
            "1875/1875 [==============================] - 4s 2ms/step - loss: 1.8465 - accuracy: 0.1974 - val_loss: 1.8321 - val_accuracy: 0.2014 - lr: 0.0126\n",
            "Epoch 24/25\n",
            "1875/1875 [==============================] - 4s 2ms/step - loss: 1.8434 - accuracy: 0.1994 - val_loss: 1.8326 - val_accuracy: 0.2015 - lr: 0.0141\n",
            "Epoch 25/25\n",
            "1875/1875 [==============================] - 5s 2ms/step - loss: 1.8425 - accuracy: 0.1994 - val_loss: 1.8318 - val_accuracy: 0.1894 - lr: 0.0158\n"
          ]
        }
      ],
      "source": [
        "tf.random.set_seed(42)\n",
        "\n",
        "model_6= tf.keras.Sequential([\n",
        "            tf.keras.layers.Flatten(input_shape=(28,28)),\n",
        "            tf.keras.layers.Dense(4, activation='relu'),\n",
        "            tf.keras.layers.Dense(4, activation='relu'),\n",
        "            tf.keras.layers.Dense(10, activation='softmax')\n",
        "])\n",
        "\n",
        "model_6.compile(loss=tf.keras.losses.SparseCategoricalCrossentropy(), optimizer=tf.keras.optimizers.Adam(), metrics=[\"accuracy\"])\n",
        "\n",
        "lr_callback= tf.keras.callbacks.LearningRateScheduler(lambda epoch:1e-3 * 10**(epoch/20))\n",
        "\n",
        "history_6_lr=model_6.fit(X_train,y_train, epochs=25, validation_data=(X_test_scaled,y_test), callbacks=[lr_callback])"
      ]
    },
    {
      "cell_type": "code",
      "execution_count": 66,
      "metadata": {
        "colab": {
          "base_uri": "https://localhost:8080/",
          "height": 319
        },
        "id": "P5FlTs4rUgma",
        "outputId": "d5fd01f1-8770-4938-ec16-7eaf4c778919"
      },
      "outputs": [
        {
          "data": {
            "text/plain": [
              "Text(0.5, 1.0, 'Finding the ideal learning rate')"
            ]
          },
          "execution_count": 66,
          "metadata": {},
          "output_type": "execute_result"
        },
        {
          "data": {
            "image/png": "[encoded data removed]",
            "text/plain": [
              "<Figure size 432x288 with 1 Axes>"
            ]
          },
          "metadata": {
            "needs_background": "light"
          },
          "output_type": "display_data"
        }
      ],
      "source": [
        "lrs=1e-3 *(10**(tf.range(25)/20))\n",
        "plt.semilogx(lrs, history_6_lr.history[\"loss\"])\n",
        "plt.xlabel(\"learning rate\")\n",
        "plt.ylabel(\"loss\")\n",
        "plt.title(\"Finding the ideal learning rate\")"
      ]
    },
    {
      "cell_type": "code",
      "execution_count": 67,
      "metadata": {
        "colab": {
          "base_uri": "https://localhost:8080/"
        },
        "id": "3UP3D2ePVsdz",
        "outputId": "33e66400-49fd-40bf-a76f-d9a835928ac2"
      },
      "outputs": [
        {
          "data": {
            "text/plain": [
              "0.001"
            ]
          },
          "execution_count": 67,
          "metadata": {},
          "output_type": "execute_result"
        }
      ],
      "source": [
        "1e-3"
      ]
    },
    {
      "cell_type": "markdown",
      "metadata": {
        "id": "jmyF2zElWddp"
      },
      "source": [
        "### Rebuilding with ideal learning rate"
      ]
    },
    {
      "cell_type": "code",
      "execution_count": 68,
      "metadata": {
        "colab": {
          "base_uri": "https://localhost:8080/"
        },
        "id": "gGt_IXcqWmF8",
        "outputId": "fe7bd6bd-5042-4503-84e6-d0dafdf79405"
      },
      "outputs": [
        {
          "name": "stdout",
          "output_type": "stream",
          "text": [
            "Epoch 1/100\n",
            "1875/1875 [==============================] - 5s 2ms/step - loss: 1.0348 - accuracy: 0.6474 - val_loss: 0.6937 - val_accuracy: 0.7617\n",
            "Epoch 2/100\n",
            "1875/1875 [==============================] - 4s 2ms/step - loss: 0.6376 - accuracy: 0.7757 - val_loss: 0.6400 - val_accuracy: 0.7820\n",
            "Epoch 3/100\n",
            "1875/1875 [==============================] - 4s 2ms/step - loss: 0.5942 - accuracy: 0.7914 - val_loss: 0.6247 - val_accuracy: 0.7783\n",
            "Epoch 4/100\n",
            "1875/1875 [==============================] - 4s 2ms/step - loss: 0.5750 - accuracy: 0.7979 - val_loss: 0.6078 - val_accuracy: 0.7881\n",
            "Epoch 5/100\n",
            "1875/1875 [==============================] - 4s 2ms/step - loss: 0.5641 - accuracy: 0.8006 - val_loss: 0.6169 - val_accuracy: 0.7881\n",
            "Epoch 6/100\n",
            "1875/1875 [==============================] - 4s 2ms/step - loss: 0.5544 - accuracy: 0.8043 - val_loss: 0.5855 - val_accuracy: 0.7951\n",
            "Epoch 7/100\n",
            "1875/1875 [==============================] - 5s 3ms/step - loss: 0.5488 - accuracy: 0.8063 - val_loss: 0.6097 - val_accuracy: 0.7836\n",
            "Epoch 8/100\n",
            "1875/1875 [==============================] - 4s 2ms/step - loss: 0.5428 - accuracy: 0.8077 - val_loss: 0.5787 - val_accuracy: 0.7971\n",
            "Epoch 9/100\n",
            "1875/1875 [==============================] - 4s 2ms/step - loss: 0.5373 - accuracy: 0.8097 - val_loss: 0.5698 - val_accuracy: 0.7977\n",
            "Epoch 10/100\n",
            "1875/1875 [==============================] - 4s 2ms/step - loss: 0.5360 - accuracy: 0.8124 - val_loss: 0.5658 - val_accuracy: 0.8014\n",
            "Epoch 11/100\n",
            "1875/1875 [==============================] - 5s 2ms/step - loss: 0.5311 - accuracy: 0.8130 - val_loss: 0.5714 - val_accuracy: 0.8002\n",
            "Epoch 12/100\n",
            "1875/1875 [==============================] - 4s 2ms/step - loss: 0.5284 - accuracy: 0.8132 - val_loss: 0.5626 - val_accuracy: 0.8027\n",
            "Epoch 13/100\n",
            "1875/1875 [==============================] - 4s 2ms/step - loss: 0.5271 - accuracy: 0.8138 - val_loss: 0.5619 - val_accuracy: 0.8041\n",
            "Epoch 14/100\n",
            "1875/1875 [==============================] - 4s 2ms/step - loss: 0.5249 - accuracy: 0.8143 - val_loss: 0.5718 - val_accuracy: 0.7991\n",
            "Epoch 15/100\n",
            "1875/1875 [==============================] - 4s 2ms/step - loss: 0.5231 - accuracy: 0.8148 - val_loss: 0.5706 - val_accuracy: 0.8024\n",
            "Epoch 16/100\n",
            "1875/1875 [==============================] - 5s 2ms/step - loss: 0.5203 - accuracy: 0.8162 - val_loss: 0.5731 - val_accuracy: 0.8023\n",
            "Epoch 17/100\n",
            "1875/1875 [==============================] - 4s 2ms/step - loss: 0.5191 - accuracy: 0.8176 - val_loss: 0.5594 - val_accuracy: 0.8030\n",
            "Epoch 18/100\n",
            "1875/1875 [==============================] - 4s 2ms/step - loss: 0.5176 - accuracy: 0.8157 - val_loss: 0.5582 - val_accuracy: 0.8053\n",
            "Epoch 19/100\n",
            "1875/1875 [==============================] - 4s 2ms/step - loss: 0.5156 - accuracy: 0.8169 - val_loss: 0.5644 - val_accuracy: 0.8007\n",
            "Epoch 20/100\n",
            "1875/1875 [==============================] - 4s 2ms/step - loss: 0.5146 - accuracy: 0.8177 - val_loss: 0.5660 - val_accuracy: 0.8075\n",
            "Epoch 21/100\n",
            "1875/1875 [==============================] - 4s 2ms/step - loss: 0.5125 - accuracy: 0.8197 - val_loss: 0.5684 - val_accuracy: 0.8004\n",
            "Epoch 22/100\n",
            "1875/1875 [==============================] - 4s 2ms/step - loss: 0.5112 - accuracy: 0.8180 - val_loss: 0.5666 - val_accuracy: 0.8029\n",
            "Epoch 23/100\n",
            "1875/1875 [==============================] - 4s 2ms/step - loss: 0.5105 - accuracy: 0.8195 - val_loss: 0.5570 - val_accuracy: 0.8068\n",
            "Epoch 24/100\n",
            "1875/1875 [==============================] - 4s 2ms/step - loss: 0.5101 - accuracy: 0.8177 - val_loss: 0.5565 - val_accuracy: 0.8076\n",
            "Epoch 25/100\n",
            "1875/1875 [==============================] - 5s 2ms/step - loss: 0.5075 - accuracy: 0.8196 - val_loss: 0.5572 - val_accuracy: 0.8048\n",
            "Epoch 26/100\n",
            "1875/1875 [==============================] - 4s 2ms/step - loss: 0.5081 - accuracy: 0.8192 - val_loss: 0.5659 - val_accuracy: 0.8065\n",
            "Epoch 27/100\n",
            "1875/1875 [==============================] - 4s 2ms/step - loss: 0.5058 - accuracy: 0.8206 - val_loss: 0.5587 - val_accuracy: 0.8045\n",
            "Epoch 28/100\n",
            "1875/1875 [==============================] - 4s 2ms/step - loss: 0.5052 - accuracy: 0.8206 - val_loss: 0.5561 - val_accuracy: 0.8077\n",
            "Epoch 29/100\n",
            "1875/1875 [==============================] - 4s 2ms/step - loss: 0.5050 - accuracy: 0.8205 - val_loss: 0.5664 - val_accuracy: 0.8054\n",
            "Epoch 30/100\n",
            "1875/1875 [==============================] - 4s 2ms/step - loss: 0.5024 - accuracy: 0.8213 - val_loss: 0.5575 - val_accuracy: 0.8051\n",
            "Epoch 31/100\n",
            "1875/1875 [==============================] - 4s 2ms/step - loss: 0.5029 - accuracy: 0.8215 - val_loss: 0.5627 - val_accuracy: 0.8033\n",
            "Epoch 32/100\n",
            "1875/1875 [==============================] - 4s 2ms/step - loss: 0.5012 - accuracy: 0.8204 - val_loss: 0.5574 - val_accuracy: 0.8097\n",
            "Epoch 33/100\n",
            "1875/1875 [==============================] - 4s 2ms/step - loss: 0.4998 - accuracy: 0.8219 - val_loss: 0.5774 - val_accuracy: 0.8007\n",
            "Epoch 34/100\n",
            "1875/1875 [==============================] - 5s 3ms/step - loss: 0.4996 - accuracy: 0.8222 - val_loss: 0.5596 - val_accuracy: 0.8073\n",
            "Epoch 35/100\n",
            "1875/1875 [==============================] - 4s 2ms/step - loss: 0.4980 - accuracy: 0.8237 - val_loss: 0.5507 - val_accuracy: 0.8095\n",
            "Epoch 36/100\n",
            "1875/1875 [==============================] - 4s 2ms/step - loss: 0.4959 - accuracy: 0.8245 - val_loss: 0.5515 - val_accuracy: 0.8066\n",
            "Epoch 37/100\n",
            "1875/1875 [==============================] - 4s 2ms/step - loss: 0.4961 - accuracy: 0.8236 - val_loss: 0.5614 - val_accuracy: 0.8000\n",
            "Epoch 38/100\n",
            "1875/1875 [==============================] - 4s 2ms/step - loss: 0.4948 - accuracy: 0.8248 - val_loss: 0.5453 - val_accuracy: 0.8111\n",
            "Epoch 39/100\n",
            "1875/1875 [==============================] - 4s 2ms/step - loss: 0.4942 - accuracy: 0.8242 - val_loss: 0.5580 - val_accuracy: 0.8044\n",
            "Epoch 40/100\n",
            "1875/1875 [==============================] - 4s 2ms/step - loss: 0.4926 - accuracy: 0.8248 - val_loss: 0.5527 - val_accuracy: 0.8057\n",
            "Epoch 41/100\n",
            "1875/1875 [==============================] - 4s 2ms/step - loss: 0.4923 - accuracy: 0.8246 - val_loss: 0.5585 - val_accuracy: 0.8025\n",
            "Epoch 42/100\n",
            "1875/1875 [==============================] - 4s 2ms/step - loss: 0.4920 - accuracy: 0.8244 - val_loss: 0.5437 - val_accuracy: 0.8104\n",
            "Epoch 43/100\n",
            "1875/1875 [==============================] - 4s 2ms/step - loss: 0.4912 - accuracy: 0.8250 - val_loss: 0.5520 - val_accuracy: 0.8081\n",
            "Epoch 44/100\n",
            "1875/1875 [==============================] - 4s 2ms/step - loss: 0.4905 - accuracy: 0.8268 - val_loss: 0.5465 - val_accuracy: 0.8090\n",
            "Epoch 45/100\n",
            "1875/1875 [==============================] - 4s 2ms/step - loss: 0.4899 - accuracy: 0.8261 - val_loss: 0.5440 - val_accuracy: 0.8113\n",
            "Epoch 46/100\n",
            "1875/1875 [==============================] - 4s 2ms/step - loss: 0.4887 - accuracy: 0.8257 - val_loss: 0.5522 - val_accuracy: 0.8076\n",
            "Epoch 47/100\n",
            "1875/1875 [==============================] - 4s 2ms/step - loss: 0.4874 - accuracy: 0.8263 - val_loss: 0.5491 - val_accuracy: 0.8100\n",
            "Epoch 48/100\n",
            "1875/1875 [==============================] - 4s 2ms/step - loss: 0.4874 - accuracy: 0.8267 - val_loss: 0.5517 - val_accuracy: 0.8092\n",
            "Epoch 49/100\n",
            "1875/1875 [==============================] - 4s 2ms/step - loss: 0.4873 - accuracy: 0.8260 - val_loss: 0.5568 - val_accuracy: 0.8102\n",
            "Epoch 50/100\n",
            "1875/1875 [==============================] - 4s 2ms/step - loss: 0.4865 - accuracy: 0.8274 - val_loss: 0.5441 - val_accuracy: 0.8130\n",
            "Epoch 51/100\n",
            "1875/1875 [==============================] - 5s 2ms/step - loss: 0.4852 - accuracy: 0.8279 - val_loss: 0.5471 - val_accuracy: 0.8084\n",
            "Epoch 52/100\n",
            "1875/1875 [==============================] - 4s 2ms/step - loss: 0.4850 - accuracy: 0.8284 - val_loss: 0.5508 - val_accuracy: 0.8066\n",
            "Epoch 53/100\n",
            "1875/1875 [==============================] - 4s 2ms/step - loss: 0.4847 - accuracy: 0.8276 - val_loss: 0.5539 - val_accuracy: 0.8047\n",
            "Epoch 54/100\n",
            "1875/1875 [==============================] - 4s 2ms/step - loss: 0.4844 - accuracy: 0.8299 - val_loss: 0.5495 - val_accuracy: 0.8084\n",
            "Epoch 55/100\n",
            "1875/1875 [==============================] - 4s 2ms/step - loss: 0.4837 - accuracy: 0.8293 - val_loss: 0.5449 - val_accuracy: 0.8104\n",
            "Epoch 56/100\n",
            "1875/1875 [==============================] - 4s 2ms/step - loss: 0.4830 - accuracy: 0.8279 - val_loss: 0.5404 - val_accuracy: 0.8123\n",
            "Epoch 57/100\n",
            "1875/1875 [==============================] - 4s 2ms/step - loss: 0.4823 - accuracy: 0.8267 - val_loss: 0.5537 - val_accuracy: 0.8109\n",
            "Epoch 58/100\n",
            "1875/1875 [==============================] - 4s 2ms/step - loss: 0.4832 - accuracy: 0.8279 - val_loss: 0.5476 - val_accuracy: 0.8041\n",
            "Epoch 59/100\n",
            "1875/1875 [==============================] - 4s 2ms/step - loss: 0.4806 - accuracy: 0.8290 - val_loss: 0.5538 - val_accuracy: 0.8134\n",
            "Epoch 60/100\n",
            "1875/1875 [==============================] - 4s 2ms/step - loss: 0.4815 - accuracy: 0.8283 - val_loss: 0.5438 - val_accuracy: 0.8099\n",
            "Epoch 61/100\n",
            "1875/1875 [==============================] - 4s 2ms/step - loss: 0.4812 - accuracy: 0.8299 - val_loss: 0.5496 - val_accuracy: 0.8088\n",
            "Epoch 62/100\n",
            "1875/1875 [==============================] - 4s 2ms/step - loss: 0.4811 - accuracy: 0.8293 - val_loss: 0.5415 - val_accuracy: 0.8125\n",
            "Epoch 63/100\n",
            "1875/1875 [==============================] - 4s 2ms/step - loss: 0.4808 - accuracy: 0.8286 - val_loss: 0.5489 - val_accuracy: 0.8052\n",
            "Epoch 64/100\n",
            "1875/1875 [==============================] - 4s 2ms/step - loss: 0.4793 - accuracy: 0.8285 - val_loss: 0.5441 - val_accuracy: 0.8097\n",
            "Epoch 65/100\n",
            "1875/1875 [==============================] - 4s 2ms/step - loss: 0.4780 - accuracy: 0.8303 - val_loss: 0.5423 - val_accuracy: 0.8124\n",
            "Epoch 66/100\n",
            "1875/1875 [==============================] - 4s 2ms/step - loss: 0.4796 - accuracy: 0.8294 - val_loss: 0.5530 - val_accuracy: 0.8116\n",
            "Epoch 67/100\n",
            "1875/1875 [==============================] - 4s 2ms/step - loss: 0.4790 - accuracy: 0.8302 - val_loss: 0.5444 - val_accuracy: 0.8130\n",
            "Epoch 68/100\n",
            "1875/1875 [==============================] - 4s 2ms/step - loss: 0.4778 - accuracy: 0.8296 - val_loss: 0.5525 - val_accuracy: 0.8087\n",
            "Epoch 69/100\n",
            "1875/1875 [==============================] - 4s 2ms/step - loss: 0.4773 - accuracy: 0.8290 - val_loss: 0.5455 - val_accuracy: 0.8123\n",
            "Epoch 70/100\n",
            "1875/1875 [==============================] - 4s 2ms/step - loss: 0.4783 - accuracy: 0.8289 - val_loss: 0.5469 - val_accuracy: 0.8125\n",
            "Epoch 71/100\n",
            "1875/1875 [==============================] - 4s 2ms/step - loss: 0.4773 - accuracy: 0.8305 - val_loss: 0.5439 - val_accuracy: 0.8101\n",
            "Epoch 72/100\n",
            "1875/1875 [==============================] - 4s 2ms/step - loss: 0.4764 - accuracy: 0.8303 - val_loss: 0.5568 - val_accuracy: 0.8095\n",
            "Epoch 73/100\n",
            "1875/1875 [==============================] - 4s 2ms/step - loss: 0.4761 - accuracy: 0.8305 - val_loss: 0.5454 - val_accuracy: 0.8102\n",
            "Epoch 74/100\n",
            "1875/1875 [==============================] - 4s 2ms/step - loss: 0.4763 - accuracy: 0.8311 - val_loss: 0.5557 - val_accuracy: 0.8127\n",
            "Epoch 75/100\n",
            "1875/1875 [==============================] - 4s 2ms/step - loss: 0.4759 - accuracy: 0.8307 - val_loss: 0.5420 - val_accuracy: 0.8097\n",
            "Epoch 76/100\n",
            "1875/1875 [==============================] - 4s 2ms/step - loss: 0.4756 - accuracy: 0.8302 - val_loss: 0.5595 - val_accuracy: 0.8087\n",
            "Epoch 77/100\n",
            "1875/1875 [==============================] - 4s 2ms/step - loss: 0.4774 - accuracy: 0.8294 - val_loss: 0.5425 - val_accuracy: 0.8094\n",
            "Epoch 78/100\n",
            "1875/1875 [==============================] - 4s 2ms/step - loss: 0.4753 - accuracy: 0.8305 - val_loss: 0.5428 - val_accuracy: 0.8146\n",
            "Epoch 79/100\n",
            "1875/1875 [==============================] - 4s 2ms/step - loss: 0.4747 - accuracy: 0.8317 - val_loss: 0.5503 - val_accuracy: 0.8053\n",
            "Epoch 80/100\n",
            "1875/1875 [==============================] - 4s 2ms/step - loss: 0.4744 - accuracy: 0.8306 - val_loss: 0.5485 - val_accuracy: 0.8092\n",
            "Epoch 81/100\n",
            "1875/1875 [==============================] - 5s 3ms/step - loss: 0.4743 - accuracy: 0.8321 - val_loss: 0.5485 - val_accuracy: 0.8072\n",
            "Epoch 82/100\n",
            "1875/1875 [==============================] - 4s 2ms/step - loss: 0.4746 - accuracy: 0.8310 - val_loss: 0.5487 - val_accuracy: 0.8112\n",
            "Epoch 83/100\n",
            "1875/1875 [==============================] - 4s 2ms/step - loss: 0.4740 - accuracy: 0.8322 - val_loss: 0.5715 - val_accuracy: 0.7983\n",
            "Epoch 84/100\n",
            "1875/1875 [==============================] - 4s 2ms/step - loss: 0.4739 - accuracy: 0.8320 - val_loss: 0.5462 - val_accuracy: 0.8087\n",
            "Epoch 85/100\n",
            "1875/1875 [==============================] - 4s 2ms/step - loss: 0.4743 - accuracy: 0.8311 - val_loss: 0.5503 - val_accuracy: 0.8097\n",
            "Epoch 86/100\n",
            "1875/1875 [==============================] - 4s 2ms/step - loss: 0.4737 - accuracy: 0.8320 - val_loss: 0.5442 - val_accuracy: 0.8118\n",
            "Epoch 87/100\n",
            "1875/1875 [==============================] - 4s 2ms/step - loss: 0.4735 - accuracy: 0.8317 - val_loss: 0.5402 - val_accuracy: 0.8112\n",
            "Epoch 88/100\n",
            "1875/1875 [==============================] - 4s 2ms/step - loss: 0.4731 - accuracy: 0.8322 - val_loss: 0.5470 - val_accuracy: 0.8118\n",
            "Epoch 89/100\n",
            "1875/1875 [==============================] - 5s 3ms/step - loss: 0.4730 - accuracy: 0.8313 - val_loss: 0.5477 - val_accuracy: 0.8067\n",
            "Epoch 90/100\n",
            "1875/1875 [==============================] - 4s 2ms/step - loss: 0.4718 - accuracy: 0.8326 - val_loss: 0.5480 - val_accuracy: 0.8102\n",
            "Epoch 91/100\n",
            "1875/1875 [==============================] - 4s 2ms/step - loss: 0.4726 - accuracy: 0.8322 - val_loss: 0.5447 - val_accuracy: 0.8150\n",
            "Epoch 92/100\n",
            "1875/1875 [==============================] - 4s 2ms/step - loss: 0.4720 - accuracy: 0.8332 - val_loss: 0.5412 - val_accuracy: 0.8159\n",
            "Epoch 93/100\n",
            "1875/1875 [==============================] - 4s 2ms/step - loss: 0.4719 - accuracy: 0.8313 - val_loss: 0.5514 - val_accuracy: 0.8104\n",
            "Epoch 94/100\n",
            "1875/1875 [==============================] - 4s 2ms/step - loss: 0.4710 - accuracy: 0.8325 - val_loss: 0.5477 - val_accuracy: 0.8138\n",
            "Epoch 95/100\n",
            "1875/1875 [==============================] - 4s 2ms/step - loss: 0.4703 - accuracy: 0.8330 - val_loss: 0.5402 - val_accuracy: 0.8161\n",
            "Epoch 96/100\n",
            "1875/1875 [==============================] - 4s 2ms/step - loss: 0.4704 - accuracy: 0.8335 - val_loss: 0.5434 - val_accuracy: 0.8122\n",
            "Epoch 97/100\n",
            "1875/1875 [==============================] - 5s 2ms/step - loss: 0.4702 - accuracy: 0.8336 - val_loss: 0.5411 - val_accuracy: 0.8173\n",
            "Epoch 98/100\n",
            "1875/1875 [==============================] - 5s 3ms/step - loss: 0.4701 - accuracy: 0.8338 - val_loss: 0.5477 - val_accuracy: 0.8108\n",
            "Epoch 99/100\n",
            "1875/1875 [==============================] - 5s 3ms/step - loss: 0.4702 - accuracy: 0.8333 - val_loss: 0.5457 - val_accuracy: 0.8119\n",
            "Epoch 100/100\n",
            "1875/1875 [==============================] - 5s 2ms/step - loss: 0.4692 - accuracy: 0.8341 - val_loss: 0.5425 - val_accuracy: 0.8143\n"
          ]
        }
      ],
      "source": [
        "tf.random.set_seed(42)\n",
        "\n",
        "model_7_scaled= tf.keras.Sequential([\n",
        "            tf.keras.layers.Flatten(input_shape=(28,28)),\n",
        "            tf.keras.layers.Dense(4, activation=\"relu\"),\n",
        "            tf.keras.layers.Dense(4, activation=\"relu\"),\n",
        "            tf.keras.layers.Dense(10, activation=tf.keras.activations.softmax),\n",
        "])\n",
        "\n",
        "model_7_scaled.compile(loss=tf.keras.losses.SparseCategoricalCrossentropy(), optimizer=tf.keras.optimizers.Adam(learning_rate=0.001), metrics=[\"accuracy\"])\n",
        "\n",
        "history_7_scaled= model_7_scaled.fit(X_train_scaled,y_train,epochs=100,validation_data=(X_test_scaled,y_test))"
      ]
    },
    {
      "cell_type": "code",
      "execution_count": 69,
      "metadata": {
        "colab": {
          "base_uri": "https://localhost:8080/"
        },
        "id": "3hsz8w2xWtzo",
        "outputId": "342c1b61-fe73-4411-bd64-da7c55b2f76d"
      },
      "outputs": [
        {
          "name": "stdout",
          "output_type": "stream",
          "text": [
            "Model: \"sequential_9\"\n",
            "_________________________________________________________________\n",
            " Layer (type)                Output Shape              Param #   \n",
            "=================================================================\n",
            " flatten_3 (Flatten)         (None, 784)               0         \n",
            "                                                                 \n",
            " dense_24 (Dense)            (None, 4)                 3140      \n",
            "                                                                 \n",
            " dense_25 (Dense)            (None, 4)                 20        \n",
            "                                                                 \n",
            " dense_26 (Dense)            (None, 10)                50        \n",
            "                                                                 \n",
            "=================================================================\n",
            "Total params: 3,210\n",
            "Trainable params: 3,210\n",
            "Non-trainable params: 0\n",
            "_________________________________________________________________\n"
          ]
        }
      ],
      "source": [
        "model_7_scaled.summary()"
      ]
    },
    {
      "cell_type": "markdown",
      "metadata": {
        "id": "0x8pi7qUWv8U"
      },
      "source": [
        "### Evaluating the Mult-class Model\n",
        "\n",
        "* Confusion Matrix\n",
        "* Visualizations\n",
        "* Train for longer or change the architecture\n",
        "* Save and load the model"
      ]
    },
    {
      "cell_type": "markdown",
      "metadata": {
        "id": "PhfdFmR9X81P"
      },
      "source": [
        "#### Confusion Matrix"
      ]
    },
    {
      "cell_type": "code",
      "execution_count": 70,
      "metadata": {
        "colab": {
          "base_uri": "https://localhost:8080/"
        },
        "id": "Ayb_CwtRYNgY",
        "outputId": "55b2b97a-c32e-4bfc-fe3b-53506de2db2b"
      },
      "outputs": [
        {
          "data": {
            "text/plain": [
              "array([[8.6003418e-12, 1.1714989e-10, 1.2804016e-07, ..., 8.7388672e-02,\n",
              "        2.1373227e-04, 7.0409548e-01],\n",
              "       [3.1615696e-06, 2.7094215e-16, 9.5101708e-01, ..., 0.0000000e+00,\n",
              "        6.0240491e-03, 7.1262292e-34],\n",
              "       [3.0739619e-05, 9.9892789e-01, 1.7527806e-07, ..., 7.1533272e-16,\n",
              "        2.4089463e-08, 4.9142688e-08],\n",
              "       ...,\n",
              "       [4.6293318e-02, 3.7274140e-06, 6.5823250e-02, ..., 5.9385952e-35,\n",
              "        6.8045408e-02, 1.9350215e-22],\n",
              "       [6.7914079e-06, 9.9758101e-01, 1.4090655e-07, ..., 2.0348440e-15,\n",
              "        1.1948688e-07, 1.6663913e-06],\n",
              "       [8.7683489e-08, 2.5365271e-08, 2.1092774e-05, ..., 1.2754097e-03,\n",
              "        3.3031104e-04, 3.2001964e-04]], dtype=float32)"
            ]
          },
          "execution_count": 70,
          "metadata": {},
          "output_type": "execute_result"
        }
      ],
      "source": [
        "y_preds= model_7_scaled.predict(X_test_scaled)\n",
        "y_preds"
      ]
    },
    {
      "cell_type": "code",
      "execution_count": 71,
      "metadata": {
        "colab": {
          "base_uri": "https://localhost:8080/"
        },
        "id": "fpjS-ypKaR3m",
        "outputId": "82c6e4c8-7ee2-4eb7-9df9-9f0c8d416079"
      },
      "outputs": [
        {
          "data": {
            "text/plain": [
              "array([8.60034179e-12, 1.17149887e-10, 1.28040156e-07, 1.09151735e-07,\n",
              "       9.10305928e-08, 2.08301783e-01, 2.20868532e-10, 8.73886719e-02,\n",
              "       2.13732274e-04, 7.04095483e-01], dtype=float32)"
            ]
          },
          "execution_count": 71,
          "metadata": {},
          "output_type": "execute_result"
        }
      ],
      "source": [
        "y_preds[0]"
      ]
    },
    {
      "cell_type": "code",
      "execution_count": 72,
      "metadata": {
        "colab": {
          "base_uri": "https://localhost:8080/"
        },
        "id": "TUYI0aMyaWhZ",
        "outputId": "1f2e204d-5c88-4147-8fb4-86fc6bb6ee36"
      },
      "outputs": [
        {
          "data": {
            "text/plain": [
              "<tf.Tensor: shape=(), dtype=int64, numpy=9>"
            ]
          },
          "execution_count": 72,
          "metadata": {},
          "output_type": "execute_result"
        }
      ],
      "source": [
        "tf.argmax(y_preds[0])"
      ]
    },
    {
      "cell_type": "code",
      "execution_count": 73,
      "metadata": {
        "colab": {
          "base_uri": "https://localhost:8080/",
          "height": 37
        },
        "id": "TijJ3llhagrW",
        "outputId": "19673236-d541-4bd1-b1fb-a8a24a1d9afd"
      },
      "outputs": [
        {
          "data": {
            "application/vnd.google.colaboratory.intrinsic+json": {
              "type": "string"
            },
            "text/plain": [
              "'Ankle boot'"
            ]
          },
          "execution_count": 73,
          "metadata": {},
          "output_type": "execute_result"
        }
      ],
      "source": [
        "class_names[tf.argmax(y_preds[0])]"
      ]
    },
    {
      "cell_type": "code",
      "execution_count": 74,
      "metadata": {
        "colab": {
          "base_uri": "https://localhost:8080/"
        },
        "id": "jFjunDCYalcq",
        "outputId": "0421877e-d9d5-4be1-c850-8baaa73ab268"
      },
      "outputs": [
        {
          "data": {
            "text/plain": [
              "['T-shirt/top',\n",
              " 'Trouser',\n",
              " 'Pullover',\n",
              " 'Dress',\n",
              " 'Coat',\n",
              " 'Sandal',\n",
              " 'Shirt',\n",
              " 'Sneaker',\n",
              " 'Bag',\n",
              " 'Ankle boot']"
            ]
          },
          "execution_count": 74,
          "metadata": {},
          "output_type": "execute_result"
        }
      ],
      "source": [
        "class_names"
      ]
    },
    {
      "cell_type": "code",
      "execution_count": 75,
      "metadata": {
        "colab": {
          "base_uri": "https://localhost:8080/"
        },
        "id": "o0h26EzuZVhB",
        "outputId": "265f5e22-af73-42a9-bd86-d6f75cf43f57"
      },
      "outputs": [
        {
          "data": {
            "text/plain": [
              "array([9, 2, 1, 1, 6], dtype=uint8)"
            ]
          },
          "execution_count": 75,
          "metadata": {},
          "output_type": "execute_result"
        }
      ],
      "source": [
        "y_test[:5]"
      ]
    },
    {
      "cell_type": "markdown",
      "metadata": {
        "id": "Oe9R-Gp1atSW"
      },
      "source": [
        "#### Convert the prediction probabilities into integers"
      ]
    },
    {
      "cell_type": "code",
      "execution_count": 76,
      "metadata": {
        "colab": {
          "base_uri": "https://localhost:8080/"
        },
        "id": "5-XNkoZ-azWI",
        "outputId": "90bac0bb-8ce5-4eeb-a3d1-1cd7de16b0f4"
      },
      "outputs": [
        {
          "data": {
            "text/plain": [
              "array([9, 2, 1, 1, 6, 1, 4, 6, 5, 7])"
            ]
          },
          "execution_count": 76,
          "metadata": {},
          "output_type": "execute_result"
        }
      ],
      "source": [
        "y_preds=y_preds.argmax(axis=1)\n",
        "y_preds[:10]"
      ]
    },
    {
      "cell_type": "code",
      "execution_count": 77,
      "metadata": {
        "colab": {
          "base_uri": "https://localhost:8080/",
          "height": 329
        },
        "id": "Df7k_WmoXwaI",
        "outputId": "2ae6c8dc-e625-467e-eec2-e63f18668796"
      },
      "outputs": [
        {
          "data": {
            "text/plain": [
              "<matplotlib.axes._subplots.AxesSubplot at 0x7fa7262b2e10>"
            ]
          },
          "execution_count": 77,
          "metadata": {},
          "output_type": "execute_result"
        },
        {
          "data": {
            "image/png": "[encoded data removed]",
            "text/plain": [
              "<Figure size 432x288 with 2 Axes>"
            ]
          },
          "metadata": {
            "needs_background": "light"
          },
          "output_type": "display_data"
        }
      ],
      "source": [
        "cm= confusion_matrix(y_test, y_preds)\n",
        "sns.heatmap(cm, annot=True, fmt=\"d\", cmap=\"YlGnBu\", xticklabels=class_names, yticklabels=class_names)"
      ]
    },
    {
      "cell_type": "markdown",
      "metadata": {
        "id": "bIFOTme8YkV2"
      },
      "source": [
        "#### Visualize the images randomly"
      ]
    },
    {
      "cell_type": "code",
      "execution_count": 78,
      "metadata": {
        "id": "jNvssomYfofl"
      },
      "outputs": [],
      "source": [
        "import random\n",
        "\n",
        "# Create a function for plotting a random image along with its prediction\n",
        "def plot_random_image(model, images, true_labels, classes):\n",
        "  \"\"\"Picks a random image, plots it and labels it with a predicted and truth label.\n",
        "\n",
        "  Args:\n",
        "    model: a trained model (trained on data similar to what's in images).\n",
        "    images: a set of random images (in tensor form).\n",
        "    true_labels: array of ground truth labels for images.\n",
        "    classes: array of class names for images.\n",
        "  \n",
        "  Returns:\n",
        "    A plot of a random image from `images` with a predicted class label from `model`\n",
        "    as well as the truth class label from `true_labels`.\n",
        "  \"\"\" \n",
        "  # Setup random integer\n",
        "  i = random.randint(0, len(images))\n",
        "  \n",
        "  # Create predictions and targets\n",
        "  target_image = images[i]\n",
        "  pred_probs = model.predict(target_image.reshape(1, 28, 28)) # have to reshape to get into right size for model\n",
        "  pred_label = classes[pred_probs.argmax()]\n",
        "  true_label = classes[true_labels[i]]\n",
        "\n",
        "  # Plot the target image\n",
        "  plt.imshow(target_image, cmap=plt.cm.binary)\n",
        "\n",
        "  # Change the color of the titles depending on if the prediction is right or wrong\n",
        "  if pred_label == true_label:\n",
        "    color = \"green\"\n",
        "  else:\n",
        "    color = \"red\"\n",
        "\n",
        "  # Add xlabel information (prediction/true label)\n",
        "  plt.xlabel(\"Pred: {} {:2.0f}% (True: {})\".format(pred_label,\n",
        "                                                   100*tf.reduce_max(pred_probs),\n",
        "                                                   true_label),\n",
        "             color=color) # set the color to green or red"
      ]
    },
    {
      "cell_type": "code",
      "execution_count": 79,
      "metadata": {
        "colab": {
          "base_uri": "https://localhost:8080/",
          "height": 279
        },
        "id": "cDjLqIjJfqC7",
        "outputId": "1dac71c5-793a-401b-c348-4357da007586"
      },
      "outputs": [
        {
          "data": {
            "image/png": "[encoded data removed]",
            "text/plain": [
              "<Figure size 432x288 with 1 Axes>"
            ]
          },
          "metadata": {
            "needs_background": "light"
          },
          "output_type": "display_data"
        }
      ],
      "source": [
        "# Check out a random image as well as its prediction\n",
        "plot_random_image(model=model_7_scaled, \n",
        "                  images=X_test_scaled, \n",
        "                  true_labels=y_test, \n",
        "                  classes=class_names)"
      ]
    },
    {
      "cell_type": "markdown",
      "metadata": {
        "id": "9IH86oZRf2_x"
      },
      "source": [
        "### Finding patterns in model"
      ]
    },
    {
      "cell_type": "code",
      "execution_count": 80,
      "metadata": {
        "colab": {
          "base_uri": "https://localhost:8080/"
        },
        "id": "jib9-8qhhcEp",
        "outputId": "18f068a3-c11c-40cd-b65c-a67a9e1e536e"
      },
      "outputs": [
        {
          "data": {
            "text/plain": [
              "[<keras.layers.core.flatten.Flatten at 0x7fa7270004d0>,\n",
              " <keras.layers.core.dense.Dense at 0x7fa727000b50>,\n",
              " <keras.layers.core.dense.Dense at 0x7fa727000d10>,\n",
              " <keras.layers.core.dense.Dense at 0x7fa7270e46d0>]"
            ]
          },
          "execution_count": 80,
          "metadata": {},
          "output_type": "execute_result"
        }
      ],
      "source": [
        "model_7_scaled.layers"
      ]
    },
    {
      "cell_type": "markdown",
      "metadata": {
        "id": "y6kJ5y8xhwDO"
      },
      "source": [
        "#### Getting a particular layer"
      ]
    },
    {
      "cell_type": "code",
      "execution_count": 81,
      "metadata": {
        "colab": {
          "base_uri": "https://localhost:8080/"
        },
        "id": "K-s0eq9PheE6",
        "outputId": "caa6c567-c392-4b6b-d575-05745284a657"
      },
      "outputs": [
        {
          "data": {
            "text/plain": [
              "<keras.layers.core.dense.Dense at 0x7fa727000b50>"
            ]
          },
          "execution_count": 81,
          "metadata": {},
          "output_type": "execute_result"
        }
      ],
      "source": [
        "model_7_scaled.layers[1]"
      ]
    },
    {
      "cell_type": "markdown",
      "metadata": {
        "id": "I1iDcZn5huWn"
      },
      "source": [
        "##### Patterns of a layer"
      ]
    },
    {
      "cell_type": "code",
      "execution_count": 82,
      "metadata": {
        "colab": {
          "base_uri": "https://localhost:8080/"
        },
        "id": "HFQAMKVIh15h",
        "outputId": "97f63fa9-f7ab-46fe-d922-b81c03532ddf"
      },
      "outputs": [
        {
          "data": {
            "text/plain": [
              "(array([[ 4.241446  , -3.012067  ,  0.49002635, -4.509878  ],\n",
              "        [ 1.2100893 , -2.3324292 ,  0.0488535 , -1.0483685 ],\n",
              "        [ 3.082372  , -2.068619  , -2.7418673 , -2.7358427 ],\n",
              "        ...,\n",
              "        [ 0.12459692,  0.6507043 ,  0.6821672 ,  0.8475341 ],\n",
              "        [ 0.04273512,  1.816914  ,  1.4870257 , -1.1314937 ],\n",
              "        [ 1.1600168 , -0.71845585,  0.52522826,  0.04715785]],\n",
              "       dtype=float32), (784, 4))"
            ]
          },
          "execution_count": 82,
          "metadata": {},
          "output_type": "execute_result"
        }
      ],
      "source": [
        "weights, biases = model_7_scaled.layers[1].get_weights()\n",
        "weights, weights.shape"
      ]
    },
    {
      "cell_type": "code",
      "execution_count": 83,
      "metadata": {
        "colab": {
          "base_uri": "https://localhost:8080/"
        },
        "id": "GH6h5AOGh6Ne",
        "outputId": "64e0f827-a3ac-44e6-cd43-f65440581386"
      },
      "outputs": [
        {
          "name": "stdout",
          "output_type": "stream",
          "text": [
            "Model: \"sequential_9\"\n",
            "_________________________________________________________________\n",
            " Layer (type)                Output Shape              Param #   \n",
            "=================================================================\n",
            " flatten_3 (Flatten)         (None, 784)               0         \n",
            "                                                                 \n",
            " dense_24 (Dense)            (None, 4)                 3140      \n",
            "                                                                 \n",
            " dense_25 (Dense)            (None, 4)                 20        \n",
            "                                                                 \n",
            " dense_26 (Dense)            (None, 10)                50        \n",
            "                                                                 \n",
            "=================================================================\n",
            "Total params: 3,210\n",
            "Trainable params: 3,210\n",
            "Non-trainable params: 0\n",
            "_________________________________________________________________\n"
          ]
        }
      ],
      "source": [
        "model_7_scaled.summary()"
      ]
    },
    {
      "cell_type": "code",
      "execution_count": 84,
      "metadata": {
        "colab": {
          "base_uri": "https://localhost:8080/"
        },
        "id": "kWJG_N8EiOAT",
        "outputId": "9f8c86b9-ec40-413a-b6de-93b717685b76"
      },
      "outputs": [
        {
          "data": {
            "text/plain": [
              "(array([ 0.42805952,  0.01240419, -0.12528071,  2.2919421 ], dtype=float32),\n",
              " (4,))"
            ]
          },
          "execution_count": 84,
          "metadata": {},
          "output_type": "execute_result"
        }
      ],
      "source": [
        "biases, biases.shape"
      ]
    },
    {
      "cell_type": "markdown",
      "metadata": {
        "id": "KMTIlaIUjJ7b"
      },
      "source": [
        "### Inputs and Outputs"
      ]
    },
    {
      "cell_type": "code",
      "execution_count": 85,
      "metadata": {
        "id": "cNHnDyLwkvg4"
      },
      "outputs": [],
      "source": [
        "from tensorflow.keras.utils import plot_model"
      ]
    },
    {
      "cell_type": "code",
      "execution_count": 86,
      "metadata": {
        "colab": {
          "base_uri": "https://localhost:8080/",
          "height": 533
        },
        "id": "Pk8nCRTOk0k4",
        "outputId": "fd7525f2-32e0-49be-a71d-b46f394fe011"
      },
      "outputs": [
        {
          "data": {
            "image/png": "[encoded data removed]",
            "text/plain": [
              "<IPython.core.display.Image object>"
            ]
          },
          "execution_count": 86,
          "metadata": {},
          "output_type": "execute_result"
        }
      ],
      "source": [
        "plot_model(model_7_scaled, show_shapes=True) # 'None' is batch_size"
      ]
    },
    {
      "cell_type": "code",
      "execution_count": 86,
      "metadata": {
        "id": "2D647kn4zdZ4"
      },
      "outputs": [],
      "source": []
    }
  ],
  "metadata": {
    "colab": {
      "collapsed_sections": [],
      "name": "Neural_Network_Classification_problem.ipynb",
      "provenance": []
    },
    "kernelspec": {
      "display_name": "Python 3.8.12 ('bulldozer_price')",
      "language": "python",
      "name": "python3"
    },
    "language_info": {
      "name": "python",
      "version": "3.8.12"
    },
    "vscode": {
      "interpreter": {
        "hash": "4ddec75d6677614c245463d8740167bc169c0e076a027e265c5bab420f00a42a"
      }
    }
  },
  "nbformat": 4,
  "nbformat_minor": 0
}
