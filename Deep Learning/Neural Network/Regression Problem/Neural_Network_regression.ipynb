{
  "nbformat": 4,
  "nbformat_minor": 0,
  "metadata": {
    "colab": {
      "name": "Neural_Network_regression.ipynb",
      "provenance": []
    },
    "kernelspec": {
      "name": "python3",
      "display_name": "Python 3"
    },
    "language_info": {
      "name": "python"
    },
    "accelerator": "GPU",
    "gpuClass": "standard"
  },
  "cells": [
    {
      "cell_type": "markdown",
      "source": [
        "# Regression Problems in Neural Network\n",
        "\n",
        "> Predicting a numerical variable based on some other combination of variables. \n",
        "\n",
        "* One Liner:\n",
        "\n",
        "> Predicting a Number"
      ],
      "metadata": {
        "id": "k73NfvbWhhHb"
      }
    },
    {
      "cell_type": "code",
      "source": [
        "import tensorflow as tf\n",
        "import numpy as np\n",
        "import matplotlib.pyplot as plt\n",
        "tf.__version__"
      ],
      "metadata": {
        "colab": {
          "base_uri": "https://localhost:8080/",
          "height": 37
        },
        "id": "UhI43GqMiLSO",
        "outputId": "bf6b5793-6fa8-4a3e-d91d-6d8f0e3c54de"
      },
      "execution_count": 1,
      "outputs": [
        {
          "output_type": "execute_result",
          "data": {
            "text/plain": [
              "'2.8.2'"
            ],
            "application/vnd.google.colaboratory.intrinsic+json": {
              "type": "string"
            }
          },
          "metadata": {},
          "execution_count": 1
        }
      ]
    },
    {
      "cell_type": "code",
      "source": [
        "import numpy as np\n",
        "import matplotlib.pyplot as plt\n",
        "\n",
        "# Create features\n",
        "X = np.array([-7.0, -4.0, -1.0, 2.0, 5.0, 8.0, 11.0, 14.0])\n",
        "\n",
        "# Create labels\n",
        "y = np.array([3.0, 6.0, 9.0, 12.0, 15.0, 18.0, 21.0, 24.0])\n",
        "\n",
        "# Visualize it\n",
        "plt.scatter(X, y);"
      ],
      "metadata": {
        "colab": {
          "base_uri": "https://localhost:8080/",
          "height": 269
        },
        "id": "g7tz8Y5PieCD",
        "outputId": "44181a09-ebab-47ae-8d36-1d23d06fd360"
      },
      "execution_count": 2,
      "outputs": [
        {
          "output_type": "display_data",
          "data": {
            "text/plain": [
              "<Figure size 432x288 with 1 Axes>"
            ],
            "image/png": "[encoded data removed]"
          },
          "metadata": {
            "needs_background": "light"
          }
        }
      ]
    },
    {
      "cell_type": "markdown",
      "source": [
        "## Input and Output shapes\n"
      ],
      "metadata": {
        "id": "tbjcRZB8jtI0"
      }
    },
    {
      "cell_type": "code",
      "source": [
        "house_info = tf.constant([\"bedroom\", \"bathroom\", \"garage\"])\n",
        "house_price = tf.constant([939700])\n",
        "house_info, house_price"
      ],
      "metadata": {
        "id": "LOvOHNxskpRz",
        "outputId": "54459a4b-9315-4e2c-adda-6d78907e98fa",
        "colab": {
          "base_uri": "https://localhost:8080/"
        }
      },
      "execution_count": 3,
      "outputs": [
        {
          "output_type": "execute_result",
          "data": {
            "text/plain": [
              "(<tf.Tensor: shape=(3,), dtype=string, numpy=array([b'bedroom', b'bathroom', b'garage'], dtype=object)>,\n",
              " <tf.Tensor: shape=(1,), dtype=int32, numpy=array([939700], dtype=int32)>)"
            ]
          },
          "metadata": {},
          "execution_count": 3
        }
      ]
    },
    {
      "cell_type": "markdown",
      "source": [
        "### Turn Numpy arrays into Tensors"
      ],
      "metadata": {
        "id": "IINfhqS0kqFG"
      }
    },
    {
      "cell_type": "code",
      "source": [
        "X,y"
      ],
      "metadata": {
        "colab": {
          "base_uri": "https://localhost:8080/"
        },
        "id": "kOPqtx85wlAh",
        "outputId": "8e3546cc-3c58-41a3-ed28-4d569b128f84"
      },
      "execution_count": 4,
      "outputs": [
        {
          "output_type": "execute_result",
          "data": {
            "text/plain": [
              "(array([-7., -4., -1.,  2.,  5.,  8., 11., 14.]),\n",
              " array([ 3.,  6.,  9., 12., 15., 18., 21., 24.]))"
            ]
          },
          "metadata": {},
          "execution_count": 4
        }
      ]
    },
    {
      "cell_type": "code",
      "source": [
        "X= tf.constant(X)\n",
        "y=tf.constant(y)\n",
        "\n",
        "X,y"
      ],
      "metadata": {
        "colab": {
          "base_uri": "https://localhost:8080/"
        },
        "id": "Nv0ck0IbwqBY",
        "outputId": "74c75245-5afc-482b-c921-25560ae508e5"
      },
      "execution_count": 5,
      "outputs": [
        {
          "output_type": "execute_result",
          "data": {
            "text/plain": [
              "(<tf.Tensor: shape=(8,), dtype=float64, numpy=array([-7., -4., -1.,  2.,  5.,  8., 11., 14.])>,\n",
              " <tf.Tensor: shape=(8,), dtype=float64, numpy=array([ 3.,  6.,  9., 12., 15., 18., 21., 24.])>)"
            ]
          },
          "metadata": {},
          "execution_count": 5
        }
      ]
    },
    {
      "cell_type": "code",
      "source": [
        "X[0], y[0]"
      ],
      "metadata": {
        "colab": {
          "base_uri": "https://localhost:8080/"
        },
        "id": "R9oOOm2I2pje",
        "outputId": "9e9691ea-4089-46f4-bbf9-6f143728bbab"
      },
      "execution_count": 6,
      "outputs": [
        {
          "output_type": "execute_result",
          "data": {
            "text/plain": [
              "(<tf.Tensor: shape=(), dtype=float64, numpy=-7.0>,\n",
              " <tf.Tensor: shape=(), dtype=float64, numpy=3.0>)"
            ]
          },
          "metadata": {},
          "execution_count": 6
        }
      ]
    },
    {
      "cell_type": "code",
      "source": [
        "X[0].shape, y[0].shape, X.shape, y.shape"
      ],
      "metadata": {
        "colab": {
          "base_uri": "https://localhost:8080/"
        },
        "id": "VT6iKZpfwwmj",
        "outputId": "c48bff2f-1603-4181-d4ce-513abdf71f46"
      },
      "execution_count": 7,
      "outputs": [
        {
          "output_type": "execute_result",
          "data": {
            "text/plain": [
              "(TensorShape([]), TensorShape([]), TensorShape([8]), TensorShape([8]))"
            ]
          },
          "metadata": {},
          "execution_count": 7
        }
      ]
    },
    {
      "cell_type": "code",
      "source": [
        "plt.scatter(X,y)"
      ],
      "metadata": {
        "colab": {
          "base_uri": "https://localhost:8080/",
          "height": 289
        },
        "id": "hQq_dXMDw1xe",
        "outputId": "4d63888d-fa59-46b3-d715-c14ba4424d15"
      },
      "execution_count": 8,
      "outputs": [
        {
          "output_type": "execute_result",
          "data": {
            "text/plain": [
              "<matplotlib.collections.PathCollection at 0x7fc413a59c50>"
            ]
          },
          "metadata": {},
          "execution_count": 8
        },
        {
          "output_type": "display_data",
          "data": {
            "text/plain": [
              "<Figure size 432x288 with 1 Axes>"
            ],
            "image/png": "[encoded data removed]"
          },
          "metadata": {
            "needs_background": "light"
          }
        }
      ]
    },
    {
      "cell_type": "markdown",
      "source": [
        "### Modelling with tensorflow\n",
        "\n",
        "* **Creating a model** - piece together the layers of a neural network yourself (using the Functional or Sequential API) or import a previously built model (known as transfer learning).\n",
        "* **Compiling a model** - defining how a models performance should be measured (loss/metrics) as well as defining how it should improve (optimizer).\n",
        "* **Fitting a model** - letting the model try to find patterns in the data (how does X get to y).\n"
      ],
      "metadata": {
        "id": "r6r-jjkNxDMS"
      }
    },
    {
      "cell_type": "code",
      "source": [
        "X,y"
      ],
      "metadata": {
        "colab": {
          "base_uri": "https://localhost:8080/"
        },
        "id": "bAcJsS5w2_So",
        "outputId": "46766202-0a2f-4a80-bf19-a41613bb02b0"
      },
      "execution_count": 9,
      "outputs": [
        {
          "output_type": "execute_result",
          "data": {
            "text/plain": [
              "(<tf.Tensor: shape=(8,), dtype=float64, numpy=array([-7., -4., -1.,  2.,  5.,  8., 11., 14.])>,\n",
              " <tf.Tensor: shape=(8,), dtype=float64, numpy=array([ 3.,  6.,  9., 12., 15., 18., 21., 24.])>)"
            ]
          },
          "metadata": {},
          "execution_count": 9
        }
      ]
    },
    {
      "cell_type": "code",
      "source": [
        "tf.random.set_seed(42)\n",
        "\n",
        "model= tf.keras.Sequential([\n",
        "    tf.keras.layers.Dense(1)\n",
        "])\n",
        "\n",
        "\n",
        "model.compile(loss=tf.keras.losses.mae, optimizer=tf.keras.optimizers.SGD(), metrics=[\"mae\"])\n",
        "\n",
        "model.fit(tf.expand_dims(X,axis=-1),y, epochs=100)\n"
      ],
      "metadata": {
        "colab": {
          "base_uri": "https://localhost:8080/"
        },
        "id": "1T2Js6xmxiHl",
        "outputId": "efbe2a09-85a5-4865-ca44-235a41047172"
      },
      "execution_count": 10,
      "outputs": [
        {
          "output_type": "stream",
          "name": "stdout",
          "text": [
            "Epoch 1/100\n",
            "1/1 [==============================] - 3s 3s/step - loss: 11.5048 - mae: 11.5048\n",
            "Epoch 2/100\n",
            "1/1 [==============================] - 0s 10ms/step - loss: 11.3723 - mae: 11.3723\n",
            "Epoch 3/100\n",
            "1/1 [==============================] - 0s 9ms/step - loss: 11.2398 - mae: 11.2398\n",
            "Epoch 4/100\n",
            "1/1 [==============================] - 0s 8ms/step - loss: 11.1073 - mae: 11.1073\n",
            "Epoch 5/100\n",
            "1/1 [==============================] - 0s 11ms/step - loss: 10.9748 - mae: 10.9748\n",
            "Epoch 6/100\n",
            "1/1 [==============================] - 0s 7ms/step - loss: 10.8423 - mae: 10.8423\n",
            "Epoch 7/100\n",
            "1/1 [==============================] - 0s 8ms/step - loss: 10.7098 - mae: 10.7098\n",
            "Epoch 8/100\n",
            "1/1 [==============================] - 0s 11ms/step - loss: 10.5773 - mae: 10.5773\n",
            "Epoch 9/100\n",
            "1/1 [==============================] - 0s 10ms/step - loss: 10.4448 - mae: 10.4448\n",
            "Epoch 10/100\n",
            "1/1 [==============================] - 0s 9ms/step - loss: 10.3123 - mae: 10.3123\n",
            "Epoch 11/100\n",
            "1/1 [==============================] - 0s 10ms/step - loss: 10.1798 - mae: 10.1798\n",
            "Epoch 12/100\n",
            "1/1 [==============================] - 0s 9ms/step - loss: 10.0473 - mae: 10.0473\n",
            "Epoch 13/100\n",
            "1/1 [==============================] - 0s 8ms/step - loss: 9.9148 - mae: 9.9148\n",
            "Epoch 14/100\n",
            "1/1 [==============================] - 0s 9ms/step - loss: 9.7823 - mae: 9.7823\n",
            "Epoch 15/100\n",
            "1/1 [==============================] - 0s 7ms/step - loss: 9.6498 - mae: 9.6498\n",
            "Epoch 16/100\n",
            "1/1 [==============================] - 0s 10ms/step - loss: 9.5173 - mae: 9.5173\n",
            "Epoch 17/100\n",
            "1/1 [==============================] - 0s 8ms/step - loss: 9.3848 - mae: 9.3848\n",
            "Epoch 18/100\n",
            "1/1 [==============================] - 0s 12ms/step - loss: 9.2523 - mae: 9.2523\n",
            "Epoch 19/100\n",
            "1/1 [==============================] - 0s 7ms/step - loss: 9.1198 - mae: 9.1198\n",
            "Epoch 20/100\n",
            "1/1 [==============================] - 0s 8ms/step - loss: 8.9873 - mae: 8.9873\n",
            "Epoch 21/100\n",
            "1/1 [==============================] - 0s 9ms/step - loss: 8.8548 - mae: 8.8548\n",
            "Epoch 22/100\n",
            "1/1 [==============================] - 0s 11ms/step - loss: 8.7223 - mae: 8.7223\n",
            "Epoch 23/100\n",
            "1/1 [==============================] - 0s 9ms/step - loss: 8.5898 - mae: 8.5898\n",
            "Epoch 24/100\n",
            "1/1 [==============================] - 0s 11ms/step - loss: 8.4573 - mae: 8.4573\n",
            "Epoch 25/100\n",
            "1/1 [==============================] - 0s 15ms/step - loss: 8.3248 - mae: 8.3248\n",
            "Epoch 26/100\n",
            "1/1 [==============================] - 0s 11ms/step - loss: 8.1923 - mae: 8.1923\n",
            "Epoch 27/100\n",
            "1/1 [==============================] - 0s 7ms/step - loss: 8.0598 - mae: 8.0598\n",
            "Epoch 28/100\n",
            "1/1 [==============================] - 0s 7ms/step - loss: 7.9273 - mae: 7.9273\n",
            "Epoch 29/100\n",
            "1/1 [==============================] - 0s 6ms/step - loss: 7.7948 - mae: 7.7948\n",
            "Epoch 30/100\n",
            "1/1 [==============================] - 0s 6ms/step - loss: 7.6623 - mae: 7.6623\n",
            "Epoch 31/100\n",
            "1/1 [==============================] - 0s 6ms/step - loss: 7.5298 - mae: 7.5298\n",
            "Epoch 32/100\n",
            "1/1 [==============================] - 0s 6ms/step - loss: 7.3973 - mae: 7.3973\n",
            "Epoch 33/100\n",
            "1/1 [==============================] - 0s 7ms/step - loss: 7.2648 - mae: 7.2648\n",
            "Epoch 34/100\n",
            "1/1 [==============================] - 0s 7ms/step - loss: 7.2525 - mae: 7.2525\n",
            "Epoch 35/100\n",
            "1/1 [==============================] - 0s 12ms/step - loss: 7.2469 - mae: 7.2469\n",
            "Epoch 36/100\n",
            "1/1 [==============================] - 0s 10ms/step - loss: 7.2413 - mae: 7.2413\n",
            "Epoch 37/100\n",
            "1/1 [==============================] - 0s 9ms/step - loss: 7.2356 - mae: 7.2356\n",
            "Epoch 38/100\n",
            "1/1 [==============================] - 0s 9ms/step - loss: 7.2300 - mae: 7.2300\n",
            "Epoch 39/100\n",
            "1/1 [==============================] - 0s 11ms/step - loss: 7.2244 - mae: 7.2244\n",
            "Epoch 40/100\n",
            "1/1 [==============================] - 0s 12ms/step - loss: 7.2188 - mae: 7.2188\n",
            "Epoch 41/100\n",
            "1/1 [==============================] - 0s 15ms/step - loss: 7.2131 - mae: 7.2131\n",
            "Epoch 42/100\n",
            "1/1 [==============================] - 0s 10ms/step - loss: 7.2075 - mae: 7.2075\n",
            "Epoch 43/100\n",
            "1/1 [==============================] - 0s 8ms/step - loss: 7.2019 - mae: 7.2019\n",
            "Epoch 44/100\n",
            "1/1 [==============================] - 0s 10ms/step - loss: 7.1962 - mae: 7.1962\n",
            "Epoch 45/100\n",
            "1/1 [==============================] - 0s 10ms/step - loss: 7.1906 - mae: 7.1906\n",
            "Epoch 46/100\n",
            "1/1 [==============================] - 0s 9ms/step - loss: 7.1850 - mae: 7.1850\n",
            "Epoch 47/100\n",
            "1/1 [==============================] - 0s 9ms/step - loss: 7.1794 - mae: 7.1794\n",
            "Epoch 48/100\n",
            "1/1 [==============================] - 0s 8ms/step - loss: 7.1738 - mae: 7.1738\n",
            "Epoch 49/100\n",
            "1/1 [==============================] - 0s 12ms/step - loss: 7.1681 - mae: 7.1681\n",
            "Epoch 50/100\n",
            "1/1 [==============================] - 0s 14ms/step - loss: 7.1625 - mae: 7.1625\n",
            "Epoch 51/100\n",
            "1/1 [==============================] - 0s 11ms/step - loss: 7.1569 - mae: 7.1569\n",
            "Epoch 52/100\n",
            "1/1 [==============================] - 0s 9ms/step - loss: 7.1512 - mae: 7.1512\n",
            "Epoch 53/100\n",
            "1/1 [==============================] - 0s 8ms/step - loss: 7.1456 - mae: 7.1456\n",
            "Epoch 54/100\n",
            "1/1 [==============================] - 0s 6ms/step - loss: 7.1400 - mae: 7.1400\n",
            "Epoch 55/100\n",
            "1/1 [==============================] - 0s 14ms/step - loss: 7.1344 - mae: 7.1344\n",
            "Epoch 56/100\n",
            "1/1 [==============================] - 0s 10ms/step - loss: 7.1287 - mae: 7.1287\n",
            "Epoch 57/100\n",
            "1/1 [==============================] - 0s 13ms/step - loss: 7.1231 - mae: 7.1231\n",
            "Epoch 58/100\n",
            "1/1 [==============================] - 0s 9ms/step - loss: 7.1175 - mae: 7.1175\n",
            "Epoch 59/100\n",
            "1/1 [==============================] - 0s 6ms/step - loss: 7.1119 - mae: 7.1119\n",
            "Epoch 60/100\n",
            "1/1 [==============================] - 0s 6ms/step - loss: 7.1063 - mae: 7.1063\n",
            "Epoch 61/100\n",
            "1/1 [==============================] - 0s 7ms/step - loss: 7.1006 - mae: 7.1006\n",
            "Epoch 62/100\n",
            "1/1 [==============================] - 0s 6ms/step - loss: 7.0950 - mae: 7.0950\n",
            "Epoch 63/100\n",
            "1/1 [==============================] - 0s 7ms/step - loss: 7.0894 - mae: 7.0894\n",
            "Epoch 64/100\n",
            "1/1 [==============================] - 0s 7ms/step - loss: 7.0838 - mae: 7.0838\n",
            "Epoch 65/100\n",
            "1/1 [==============================] - 0s 17ms/step - loss: 7.0781 - mae: 7.0781\n",
            "Epoch 66/100\n",
            "1/1 [==============================] - 0s 19ms/step - loss: 7.0725 - mae: 7.0725\n",
            "Epoch 67/100\n",
            "1/1 [==============================] - 0s 16ms/step - loss: 7.0669 - mae: 7.0669\n",
            "Epoch 68/100\n",
            "1/1 [==============================] - 0s 10ms/step - loss: 7.0613 - mae: 7.0613\n",
            "Epoch 69/100\n",
            "1/1 [==============================] - 0s 12ms/step - loss: 7.0556 - mae: 7.0556\n",
            "Epoch 70/100\n",
            "1/1 [==============================] - 0s 8ms/step - loss: 7.0500 - mae: 7.0500\n",
            "Epoch 71/100\n",
            "1/1 [==============================] - 0s 9ms/step - loss: 7.0444 - mae: 7.0444\n",
            "Epoch 72/100\n",
            "1/1 [==============================] - 0s 12ms/step - loss: 7.0388 - mae: 7.0388\n",
            "Epoch 73/100\n",
            "1/1 [==============================] - 0s 10ms/step - loss: 7.0331 - mae: 7.0331\n",
            "Epoch 74/100\n",
            "1/1 [==============================] - 0s 9ms/step - loss: 7.0275 - mae: 7.0275\n",
            "Epoch 75/100\n",
            "1/1 [==============================] - 0s 9ms/step - loss: 7.0219 - mae: 7.0219\n",
            "Epoch 76/100\n",
            "1/1 [==============================] - 0s 12ms/step - loss: 7.0163 - mae: 7.0163\n",
            "Epoch 77/100\n",
            "1/1 [==============================] - 0s 7ms/step - loss: 7.0106 - mae: 7.0106\n",
            "Epoch 78/100\n",
            "1/1 [==============================] - 0s 7ms/step - loss: 7.0050 - mae: 7.0050\n",
            "Epoch 79/100\n",
            "1/1 [==============================] - 0s 8ms/step - loss: 6.9994 - mae: 6.9994\n",
            "Epoch 80/100\n",
            "1/1 [==============================] - 0s 7ms/step - loss: 6.9938 - mae: 6.9938\n",
            "Epoch 81/100\n",
            "1/1 [==============================] - 0s 7ms/step - loss: 6.9881 - mae: 6.9881\n",
            "Epoch 82/100\n",
            "1/1 [==============================] - 0s 8ms/step - loss: 6.9825 - mae: 6.9825\n",
            "Epoch 83/100\n",
            "1/1 [==============================] - 0s 11ms/step - loss: 6.9769 - mae: 6.9769\n",
            "Epoch 84/100\n",
            "1/1 [==============================] - 0s 8ms/step - loss: 6.9713 - mae: 6.9713\n",
            "Epoch 85/100\n",
            "1/1 [==============================] - 0s 10ms/step - loss: 6.9656 - mae: 6.9656\n",
            "Epoch 86/100\n",
            "1/1 [==============================] - 0s 9ms/step - loss: 6.9600 - mae: 6.9600\n",
            "Epoch 87/100\n",
            "1/1 [==============================] - 0s 9ms/step - loss: 6.9544 - mae: 6.9544\n",
            "Epoch 88/100\n",
            "1/1 [==============================] - 0s 9ms/step - loss: 6.9488 - mae: 6.9488\n",
            "Epoch 89/100\n",
            "1/1 [==============================] - 0s 7ms/step - loss: 6.9431 - mae: 6.9431\n",
            "Epoch 90/100\n",
            "1/1 [==============================] - 0s 7ms/step - loss: 6.9375 - mae: 6.9375\n",
            "Epoch 91/100\n",
            "1/1 [==============================] - 0s 13ms/step - loss: 6.9319 - mae: 6.9319\n",
            "Epoch 92/100\n",
            "1/1 [==============================] - 0s 11ms/step - loss: 6.9263 - mae: 6.9263\n",
            "Epoch 93/100\n",
            "1/1 [==============================] - 0s 12ms/step - loss: 6.9206 - mae: 6.9206\n",
            "Epoch 94/100\n",
            "1/1 [==============================] - 0s 7ms/step - loss: 6.9150 - mae: 6.9150\n",
            "Epoch 95/100\n",
            "1/1 [==============================] - 0s 8ms/step - loss: 6.9094 - mae: 6.9094\n",
            "Epoch 96/100\n",
            "1/1 [==============================] - 0s 8ms/step - loss: 6.9038 - mae: 6.9038\n",
            "Epoch 97/100\n",
            "1/1 [==============================] - 0s 7ms/step - loss: 6.8981 - mae: 6.8981\n",
            "Epoch 98/100\n",
            "1/1 [==============================] - 0s 7ms/step - loss: 6.8925 - mae: 6.8925\n",
            "Epoch 99/100\n",
            "1/1 [==============================] - 0s 7ms/step - loss: 6.8869 - mae: 6.8869\n",
            "Epoch 100/100\n",
            "1/1 [==============================] - 0s 7ms/step - loss: 6.8813 - mae: 6.8813\n"
          ]
        },
        {
          "output_type": "execute_result",
          "data": {
            "text/plain": [
              "<keras.callbacks.History at 0x7fc40044f310>"
            ]
          },
          "metadata": {},
          "execution_count": 10
        }
      ]
    },
    {
      "cell_type": "code",
      "source": [
        "X,y"
      ],
      "metadata": {
        "colab": {
          "base_uri": "https://localhost:8080/"
        },
        "id": "bovZ7Nna00Tz",
        "outputId": "3311e6fe-a9b3-4f5c-f0b1-e2883adf181f"
      },
      "execution_count": 11,
      "outputs": [
        {
          "output_type": "execute_result",
          "data": {
            "text/plain": [
              "(<tf.Tensor: shape=(8,), dtype=float64, numpy=array([-7., -4., -1.,  2.,  5.,  8., 11., 14.])>,\n",
              " <tf.Tensor: shape=(8,), dtype=float64, numpy=array([ 3.,  6.,  9., 12., 15., 18., 21., 24.])>)"
            ]
          },
          "metadata": {},
          "execution_count": 11
        }
      ]
    },
    {
      "cell_type": "code",
      "source": [
        "model.predict(y)"
      ],
      "metadata": {
        "colab": {
          "base_uri": "https://localhost:8080/"
        },
        "id": "w1u_YJU94Cnf",
        "outputId": "8493d418-ff94-48e8-e4ca-dcceb756b6d2"
      },
      "execution_count": 12,
      "outputs": [
        {
          "output_type": "execute_result",
          "data": {
            "text/plain": [
              "array([[ 6.007678],\n",
              "       [11.182857],\n",
              "       [16.358036],\n",
              "       [21.533215],\n",
              "       [26.708393],\n",
              "       [31.883572],\n",
              "       [37.05875 ],\n",
              "       [42.23393 ]], dtype=float32)"
            ]
          },
          "metadata": {},
          "execution_count": 12
        }
      ]
    },
    {
      "cell_type": "code",
      "source": [
        "model.predict([69])"
      ],
      "metadata": {
        "colab": {
          "base_uri": "https://localhost:8080/"
        },
        "id": "ormd-G304Fr-",
        "outputId": "f11c8a00-87ab-49b6-b949-ef35400170fc"
      },
      "execution_count": 13,
      "outputs": [
        {
          "output_type": "execute_result",
          "data": {
            "text/plain": [
              "array([[119.8616]], dtype=float32)"
            ]
          },
          "metadata": {},
          "execution_count": 13
        }
      ]
    },
    {
      "cell_type": "code",
      "source": [
        "model.predict([17]) # Output should be 27"
      ],
      "metadata": {
        "colab": {
          "base_uri": "https://localhost:8080/"
        },
        "id": "Ag4pKTwM4KHF",
        "outputId": "47a3dcb0-a518-48d2-f989-610b90d013ba"
      },
      "execution_count": 20,
      "outputs": [
        {
          "output_type": "execute_result",
          "data": {
            "text/plain": [
              "array([[30.158512]], dtype=float32)"
            ]
          },
          "metadata": {},
          "execution_count": 20
        }
      ]
    },
    {
      "cell_type": "markdown",
      "source": [
        "### Improving the model\n",
        "\n",
        "* Creating a model - here you might want to add more layers, increase the number of hidden units (also called neurons) within each layer, change the activation functions of each layer.\n",
        "\n",
        "* Compiling a model - you might want to choose optimization function or perhaps change the learning rate of the optimization function.\n",
        "\n",
        "* Fitting a model - perhaps you could fit a model for **more epochs** (leave it training for longer) or on more data (give the model more examples to learn from)"
      ],
      "metadata": {
        "id": "8-bRtYuT4OBI"
      }
    },
    {
      "cell_type": "markdown",
      "source": [
        "#### Changed the optimzer to **Adam**"
      ],
      "metadata": {
        "id": "R6R2JGBzIH-_"
      }
    },
    {
      "cell_type": "code",
      "source": [
        "tf.random.set_seed(42)\n",
        "\n",
        "improvedModel_1= tf.keras.Sequential([\n",
        "    tf.keras.layers.Dense(1)\n",
        "])\n",
        "\n",
        "\n",
        "improvedModel_1.compile(loss=tf.keras.losses.mae, optimizer=tf.keras.optimizers.Adam(learning_rate=0.001), metrics=[\"mae\"])\n",
        "\n",
        "improvedModel_1.fit(tf.expand_dims(X,axis=-1),y, epochs=100)\n"
      ],
      "metadata": {
        "colab": {
          "base_uri": "https://localhost:8080/"
        },
        "id": "tP5fwGcjHwy0",
        "outputId": "7879dcdf-5657-4402-98ce-e81a2b35161e"
      },
      "execution_count": 33,
      "outputs": [
        {
          "output_type": "stream",
          "name": "stdout",
          "text": [
            "Epoch 1/100\n",
            "1/1 [==============================] - 0s 437ms/step - loss: 11.5048 - mae: 11.5048\n",
            "Epoch 2/100\n",
            "1/1 [==============================] - 0s 12ms/step - loss: 11.5003 - mae: 11.5003\n",
            "Epoch 3/100\n",
            "1/1 [==============================] - 0s 9ms/step - loss: 11.4958 - mae: 11.4958\n",
            "Epoch 4/100\n",
            "1/1 [==============================] - 0s 9ms/step - loss: 11.4913 - mae: 11.4913\n",
            "Epoch 5/100\n",
            "1/1 [==============================] - 0s 7ms/step - loss: 11.4868 - mae: 11.4868\n",
            "Epoch 6/100\n",
            "1/1 [==============================] - 0s 8ms/step - loss: 11.4823 - mae: 11.4823\n",
            "Epoch 7/100\n",
            "1/1 [==============================] - 0s 8ms/step - loss: 11.4778 - mae: 11.4778\n",
            "Epoch 8/100\n",
            "1/1 [==============================] - 0s 7ms/step - loss: 11.4733 - mae: 11.4733\n",
            "Epoch 9/100\n",
            "1/1 [==============================] - 0s 7ms/step - loss: 11.4688 - mae: 11.4688\n",
            "Epoch 10/100\n",
            "1/1 [==============================] - 0s 9ms/step - loss: 11.4643 - mae: 11.4643\n",
            "Epoch 11/100\n",
            "1/1 [==============================] - 0s 12ms/step - loss: 11.4598 - mae: 11.4598\n",
            "Epoch 12/100\n",
            "1/1 [==============================] - 0s 8ms/step - loss: 11.4553 - mae: 11.4553\n",
            "Epoch 13/100\n",
            "1/1 [==============================] - 0s 7ms/step - loss: 11.4508 - mae: 11.4508\n",
            "Epoch 14/100\n",
            "1/1 [==============================] - 0s 11ms/step - loss: 11.4463 - mae: 11.4463\n",
            "Epoch 15/100\n",
            "1/1 [==============================] - 0s 9ms/step - loss: 11.4418 - mae: 11.4418\n",
            "Epoch 16/100\n",
            "1/1 [==============================] - 0s 6ms/step - loss: 11.4373 - mae: 11.4373\n",
            "Epoch 17/100\n",
            "1/1 [==============================] - 0s 11ms/step - loss: 11.4328 - mae: 11.4328\n",
            "Epoch 18/100\n",
            "1/1 [==============================] - 0s 12ms/step - loss: 11.4283 - mae: 11.4283\n",
            "Epoch 19/100\n",
            "1/1 [==============================] - 0s 7ms/step - loss: 11.4238 - mae: 11.4238\n",
            "Epoch 20/100\n",
            "1/1 [==============================] - 0s 8ms/step - loss: 11.4193 - mae: 11.4193\n",
            "Epoch 21/100\n",
            "1/1 [==============================] - 0s 9ms/step - loss: 11.4148 - mae: 11.4148\n",
            "Epoch 22/100\n",
            "1/1 [==============================] - 0s 8ms/step - loss: 11.4103 - mae: 11.4103\n",
            "Epoch 23/100\n",
            "1/1 [==============================] - 0s 9ms/step - loss: 11.4058 - mae: 11.4058\n",
            "Epoch 24/100\n",
            "1/1 [==============================] - 0s 10ms/step - loss: 11.4013 - mae: 11.4013\n",
            "Epoch 25/100\n",
            "1/1 [==============================] - 0s 8ms/step - loss: 11.3968 - mae: 11.3968\n",
            "Epoch 26/100\n",
            "1/1 [==============================] - 0s 9ms/step - loss: 11.3923 - mae: 11.3923\n",
            "Epoch 27/100\n",
            "1/1 [==============================] - 0s 7ms/step - loss: 11.3878 - mae: 11.3878\n",
            "Epoch 28/100\n",
            "1/1 [==============================] - 0s 8ms/step - loss: 11.3833 - mae: 11.3833\n",
            "Epoch 29/100\n",
            "1/1 [==============================] - 0s 9ms/step - loss: 11.3788 - mae: 11.3788\n",
            "Epoch 30/100\n",
            "1/1 [==============================] - 0s 8ms/step - loss: 11.3743 - mae: 11.3743\n",
            "Epoch 31/100\n",
            "1/1 [==============================] - 0s 8ms/step - loss: 11.3698 - mae: 11.3698\n",
            "Epoch 32/100\n",
            "1/1 [==============================] - 0s 8ms/step - loss: 11.3653 - mae: 11.3653\n",
            "Epoch 33/100\n",
            "1/1 [==============================] - 0s 12ms/step - loss: 11.3608 - mae: 11.3608\n",
            "Epoch 34/100\n",
            "1/1 [==============================] - 0s 7ms/step - loss: 11.3563 - mae: 11.3563\n",
            "Epoch 35/100\n",
            "1/1 [==============================] - 0s 9ms/step - loss: 11.3518 - mae: 11.3518\n",
            "Epoch 36/100\n",
            "1/1 [==============================] - 0s 8ms/step - loss: 11.3473 - mae: 11.3473\n",
            "Epoch 37/100\n",
            "1/1 [==============================] - 0s 7ms/step - loss: 11.3428 - mae: 11.3428\n",
            "Epoch 38/100\n",
            "1/1 [==============================] - 0s 8ms/step - loss: 11.3383 - mae: 11.3383\n",
            "Epoch 39/100\n",
            "1/1 [==============================] - 0s 10ms/step - loss: 11.3338 - mae: 11.3338\n",
            "Epoch 40/100\n",
            "1/1 [==============================] - 0s 10ms/step - loss: 11.3293 - mae: 11.3293\n",
            "Epoch 41/100\n",
            "1/1 [==============================] - 0s 12ms/step - loss: 11.3248 - mae: 11.3248\n",
            "Epoch 42/100\n",
            "1/1 [==============================] - 0s 10ms/step - loss: 11.3203 - mae: 11.3203\n",
            "Epoch 43/100\n",
            "1/1 [==============================] - 0s 9ms/step - loss: 11.3158 - mae: 11.3158\n",
            "Epoch 44/100\n",
            "1/1 [==============================] - 0s 12ms/step - loss: 11.3113 - mae: 11.3113\n",
            "Epoch 45/100\n",
            "1/1 [==============================] - 0s 11ms/step - loss: 11.3068 - mae: 11.3068\n",
            "Epoch 46/100\n",
            "1/1 [==============================] - 0s 9ms/step - loss: 11.3023 - mae: 11.3023\n",
            "Epoch 47/100\n",
            "1/1 [==============================] - 0s 8ms/step - loss: 11.2978 - mae: 11.2978\n",
            "Epoch 48/100\n",
            "1/1 [==============================] - 0s 10ms/step - loss: 11.2933 - mae: 11.2933\n",
            "Epoch 49/100\n",
            "1/1 [==============================] - 0s 12ms/step - loss: 11.2888 - mae: 11.2888\n",
            "Epoch 50/100\n",
            "1/1 [==============================] - 0s 8ms/step - loss: 11.2843 - mae: 11.2843\n",
            "Epoch 51/100\n",
            "1/1 [==============================] - 0s 12ms/step - loss: 11.2798 - mae: 11.2798\n",
            "Epoch 52/100\n",
            "1/1 [==============================] - 0s 11ms/step - loss: 11.2753 - mae: 11.2753\n",
            "Epoch 53/100\n",
            "1/1 [==============================] - 0s 11ms/step - loss: 11.2708 - mae: 11.2708\n",
            "Epoch 54/100\n",
            "1/1 [==============================] - 0s 10ms/step - loss: 11.2663 - mae: 11.2663\n",
            "Epoch 55/100\n",
            "1/1 [==============================] - 0s 10ms/step - loss: 11.2618 - mae: 11.2618\n",
            "Epoch 56/100\n",
            "1/1 [==============================] - 0s 8ms/step - loss: 11.2573 - mae: 11.2573\n",
            "Epoch 57/100\n",
            "1/1 [==============================] - 0s 7ms/step - loss: 11.2528 - mae: 11.2528\n",
            "Epoch 58/100\n",
            "1/1 [==============================] - 0s 8ms/step - loss: 11.2483 - mae: 11.2483\n",
            "Epoch 59/100\n",
            "1/1 [==============================] - 0s 7ms/step - loss: 11.2438 - mae: 11.2438\n",
            "Epoch 60/100\n",
            "1/1 [==============================] - 0s 9ms/step - loss: 11.2393 - mae: 11.2393\n",
            "Epoch 61/100\n",
            "1/1 [==============================] - 0s 10ms/step - loss: 11.2348 - mae: 11.2348\n",
            "Epoch 62/100\n",
            "1/1 [==============================] - 0s 7ms/step - loss: 11.2303 - mae: 11.2303\n",
            "Epoch 63/100\n",
            "1/1 [==============================] - 0s 11ms/step - loss: 11.2258 - mae: 11.2258\n",
            "Epoch 64/100\n",
            "1/1 [==============================] - 0s 15ms/step - loss: 11.2213 - mae: 11.2213\n",
            "Epoch 65/100\n",
            "1/1 [==============================] - 0s 10ms/step - loss: 11.2168 - mae: 11.2168\n",
            "Epoch 66/100\n",
            "1/1 [==============================] - 0s 8ms/step - loss: 11.2123 - mae: 11.2123\n",
            "Epoch 67/100\n",
            "1/1 [==============================] - 0s 7ms/step - loss: 11.2078 - mae: 11.2078\n",
            "Epoch 68/100\n",
            "1/1 [==============================] - 0s 8ms/step - loss: 11.2033 - mae: 11.2033\n",
            "Epoch 69/100\n",
            "1/1 [==============================] - 0s 12ms/step - loss: 11.1988 - mae: 11.1988\n",
            "Epoch 70/100\n",
            "1/1 [==============================] - 0s 7ms/step - loss: 11.1943 - mae: 11.1943\n",
            "Epoch 71/100\n",
            "1/1 [==============================] - 0s 15ms/step - loss: 11.1898 - mae: 11.1898\n",
            "Epoch 72/100\n",
            "1/1 [==============================] - 0s 11ms/step - loss: 11.1853 - mae: 11.1853\n",
            "Epoch 73/100\n",
            "1/1 [==============================] - 0s 9ms/step - loss: 11.1808 - mae: 11.1808\n",
            "Epoch 74/100\n",
            "1/1 [==============================] - 0s 8ms/step - loss: 11.1763 - mae: 11.1763\n",
            "Epoch 75/100\n",
            "1/1 [==============================] - 0s 11ms/step - loss: 11.1718 - mae: 11.1718\n",
            "Epoch 76/100\n",
            "1/1 [==============================] - 0s 13ms/step - loss: 11.1673 - mae: 11.1673\n",
            "Epoch 77/100\n",
            "1/1 [==============================] - 0s 8ms/step - loss: 11.1628 - mae: 11.1628\n",
            "Epoch 78/100\n",
            "1/1 [==============================] - 0s 10ms/step - loss: 11.1583 - mae: 11.1583\n",
            "Epoch 79/100\n",
            "1/1 [==============================] - 0s 7ms/step - loss: 11.1538 - mae: 11.1538\n",
            "Epoch 80/100\n",
            "1/1 [==============================] - 0s 9ms/step - loss: 11.1493 - mae: 11.1493\n",
            "Epoch 81/100\n",
            "1/1 [==============================] - 0s 8ms/step - loss: 11.1448 - mae: 11.1448\n",
            "Epoch 82/100\n",
            "1/1 [==============================] - 0s 12ms/step - loss: 11.1403 - mae: 11.1403\n",
            "Epoch 83/100\n",
            "1/1 [==============================] - 0s 7ms/step - loss: 11.1358 - mae: 11.1358\n",
            "Epoch 84/100\n",
            "1/1 [==============================] - 0s 8ms/step - loss: 11.1313 - mae: 11.1313\n",
            "Epoch 85/100\n",
            "1/1 [==============================] - 0s 12ms/step - loss: 11.1268 - mae: 11.1268\n",
            "Epoch 86/100\n",
            "1/1 [==============================] - 0s 9ms/step - loss: 11.1223 - mae: 11.1223\n",
            "Epoch 87/100\n",
            "1/1 [==============================] - 0s 7ms/step - loss: 11.1178 - mae: 11.1178\n",
            "Epoch 88/100\n",
            "1/1 [==============================] - 0s 8ms/step - loss: 11.1133 - mae: 11.1133\n",
            "Epoch 89/100\n",
            "1/1 [==============================] - 0s 10ms/step - loss: 11.1088 - mae: 11.1088\n",
            "Epoch 90/100\n",
            "1/1 [==============================] - 0s 7ms/step - loss: 11.1043 - mae: 11.1043\n",
            "Epoch 91/100\n",
            "1/1 [==============================] - 0s 9ms/step - loss: 11.0998 - mae: 11.0998\n",
            "Epoch 92/100\n",
            "1/1 [==============================] - 0s 8ms/step - loss: 11.0953 - mae: 11.0953\n",
            "Epoch 93/100\n",
            "1/1 [==============================] - 0s 10ms/step - loss: 11.0908 - mae: 11.0908\n",
            "Epoch 94/100\n",
            "1/1 [==============================] - 0s 13ms/step - loss: 11.0863 - mae: 11.0863\n",
            "Epoch 95/100\n",
            "1/1 [==============================] - 0s 9ms/step - loss: 11.0818 - mae: 11.0818\n",
            "Epoch 96/100\n",
            "1/1 [==============================] - 0s 7ms/step - loss: 11.0773 - mae: 11.0773\n",
            "Epoch 97/100\n",
            "1/1 [==============================] - 0s 8ms/step - loss: 11.0728 - mae: 11.0728\n",
            "Epoch 98/100\n",
            "1/1 [==============================] - 0s 9ms/step - loss: 11.0683 - mae: 11.0683\n",
            "Epoch 99/100\n",
            "1/1 [==============================] - 0s 11ms/step - loss: 11.0638 - mae: 11.0638\n",
            "Epoch 100/100\n",
            "1/1 [==============================] - 0s 8ms/step - loss: 11.0593 - mae: 11.0593\n"
          ]
        },
        {
          "output_type": "execute_result",
          "data": {
            "text/plain": [
              "<keras.callbacks.History at 0x7fc39602aa50>"
            ]
          },
          "metadata": {},
          "execution_count": 33
        }
      ]
    },
    {
      "cell_type": "code",
      "source": [
        "improvedModel_1.predict([17.0])"
      ],
      "metadata": {
        "colab": {
          "base_uri": "https://localhost:8080/"
        },
        "id": "MNjPd5HuHwu1",
        "outputId": "c9d29898-aa70-45b5-efcc-e6cc6fea30bf"
      },
      "execution_count": 34,
      "outputs": [
        {
          "output_type": "execute_result",
          "data": {
            "text/plain": [
              "array([[11.490997]], dtype=float32)"
            ]
          },
          "metadata": {},
          "execution_count": 34
        }
      ]
    },
    {
      "cell_type": "code",
      "source": [
        "tf.random.set_seed(42)\n",
        "\n",
        "improvedModel_2= tf.keras.Sequential([\n",
        "    tf.keras.layers.Dense(100, activation=\"relu\"),\n",
        "    tf.keras.layers.Dense(1)\n",
        "])\n",
        "\n",
        "\n",
        "improvedModel_2.compile(loss=tf.keras.losses.mae, optimizer=tf.keras.optimizers.Adam(learning_rate=0.001), metrics=[\"mae\"])\n",
        "\n",
        "improvedModel_2.fit(tf.expand_dims(X,axis=-1),y, epochs=100)\n"
      ],
      "metadata": {
        "colab": {
          "base_uri": "https://localhost:8080/"
        },
        "id": "T0ow7WqUHwr8",
        "outputId": "3d1807a8-e952-4585-c3d2-27ceeaeb8f51"
      },
      "execution_count": 36,
      "outputs": [
        {
          "output_type": "stream",
          "name": "stdout",
          "text": [
            "Epoch 1/100\n",
            "1/1 [==============================] - 0s 330ms/step - loss: 12.3185 - mae: 12.3185\n",
            "Epoch 2/100\n",
            "1/1 [==============================] - 0s 9ms/step - loss: 12.2313 - mae: 12.2313\n",
            "Epoch 3/100\n",
            "1/1 [==============================] - 0s 11ms/step - loss: 12.1440 - mae: 12.1440\n",
            "Epoch 4/100\n",
            "1/1 [==============================] - 0s 8ms/step - loss: 12.0564 - mae: 12.0564\n",
            "Epoch 5/100\n",
            "1/1 [==============================] - 0s 9ms/step - loss: 11.9685 - mae: 11.9685\n",
            "Epoch 6/100\n",
            "1/1 [==============================] - 0s 12ms/step - loss: 11.8805 - mae: 11.8805\n",
            "Epoch 7/100\n",
            "1/1 [==============================] - 0s 10ms/step - loss: 11.7922 - mae: 11.7922\n",
            "Epoch 8/100\n",
            "1/1 [==============================] - 0s 9ms/step - loss: 11.7036 - mae: 11.7036\n",
            "Epoch 9/100\n",
            "1/1 [==============================] - 0s 12ms/step - loss: 11.6149 - mae: 11.6149\n",
            "Epoch 10/100\n",
            "1/1 [==============================] - 0s 10ms/step - loss: 11.5260 - mae: 11.5260\n",
            "Epoch 11/100\n",
            "1/1 [==============================] - 0s 6ms/step - loss: 11.4372 - mae: 11.4372\n",
            "Epoch 12/100\n",
            "1/1 [==============================] - 0s 9ms/step - loss: 11.3485 - mae: 11.3485\n",
            "Epoch 13/100\n",
            "1/1 [==============================] - 0s 10ms/step - loss: 11.2595 - mae: 11.2595\n",
            "Epoch 14/100\n",
            "1/1 [==============================] - 0s 9ms/step - loss: 11.1702 - mae: 11.1702\n",
            "Epoch 15/100\n",
            "1/1 [==============================] - 0s 7ms/step - loss: 11.0807 - mae: 11.0807\n",
            "Epoch 16/100\n",
            "1/1 [==============================] - 0s 9ms/step - loss: 10.9909 - mae: 10.9909\n",
            "Epoch 17/100\n",
            "1/1 [==============================] - 0s 10ms/step - loss: 10.9011 - mae: 10.9011\n",
            "Epoch 18/100\n",
            "1/1 [==============================] - 0s 7ms/step - loss: 10.8110 - mae: 10.8110\n",
            "Epoch 19/100\n",
            "1/1 [==============================] - 0s 8ms/step - loss: 10.7205 - mae: 10.7205\n",
            "Epoch 20/100\n",
            "1/1 [==============================] - 0s 10ms/step - loss: 10.6296 - mae: 10.6296\n",
            "Epoch 21/100\n",
            "1/1 [==============================] - 0s 8ms/step - loss: 10.5386 - mae: 10.5386\n",
            "Epoch 22/100\n",
            "1/1 [==============================] - 0s 9ms/step - loss: 10.4475 - mae: 10.4475\n",
            "Epoch 23/100\n",
            "1/1 [==============================] - 0s 9ms/step - loss: 10.3561 - mae: 10.3561\n",
            "Epoch 24/100\n",
            "1/1 [==============================] - 0s 10ms/step - loss: 10.2641 - mae: 10.2641\n",
            "Epoch 25/100\n",
            "1/1 [==============================] - 0s 7ms/step - loss: 10.1717 - mae: 10.1717\n",
            "Epoch 26/100\n",
            "1/1 [==============================] - 0s 7ms/step - loss: 10.0790 - mae: 10.0790\n",
            "Epoch 27/100\n",
            "1/1 [==============================] - 0s 11ms/step - loss: 9.9858 - mae: 9.9858\n",
            "Epoch 28/100\n",
            "1/1 [==============================] - 0s 11ms/step - loss: 9.9033 - mae: 9.9033\n",
            "Epoch 29/100\n",
            "1/1 [==============================] - 0s 7ms/step - loss: 9.8326 - mae: 9.8326\n",
            "Epoch 30/100\n",
            "1/1 [==============================] - 0s 7ms/step - loss: 9.7612 - mae: 9.7612\n",
            "Epoch 31/100\n",
            "1/1 [==============================] - 0s 11ms/step - loss: 9.6892 - mae: 9.6892\n",
            "Epoch 32/100\n",
            "1/1 [==============================] - 0s 7ms/step - loss: 9.6165 - mae: 9.6165\n",
            "Epoch 33/100\n",
            "1/1 [==============================] - 0s 8ms/step - loss: 9.5432 - mae: 9.5432\n",
            "Epoch 34/100\n",
            "1/1 [==============================] - 0s 14ms/step - loss: 9.4692 - mae: 9.4692\n",
            "Epoch 35/100\n",
            "1/1 [==============================] - 0s 8ms/step - loss: 9.3947 - mae: 9.3947\n",
            "Epoch 36/100\n",
            "1/1 [==============================] - 0s 10ms/step - loss: 9.3195 - mae: 9.3195\n",
            "Epoch 37/100\n",
            "1/1 [==============================] - 0s 9ms/step - loss: 9.2437 - mae: 9.2437\n",
            "Epoch 38/100\n",
            "1/1 [==============================] - 0s 11ms/step - loss: 9.1674 - mae: 9.1674\n",
            "Epoch 39/100\n",
            "1/1 [==============================] - 0s 9ms/step - loss: 9.0904 - mae: 9.0904\n",
            "Epoch 40/100\n",
            "1/1 [==============================] - 0s 11ms/step - loss: 9.0129 - mae: 9.0129\n",
            "Epoch 41/100\n",
            "1/1 [==============================] - 0s 8ms/step - loss: 8.9347 - mae: 8.9347\n",
            "Epoch 42/100\n",
            "1/1 [==============================] - 0s 7ms/step - loss: 8.8560 - mae: 8.8560\n",
            "Epoch 43/100\n",
            "1/1 [==============================] - 0s 7ms/step - loss: 8.7767 - mae: 8.7767\n",
            "Epoch 44/100\n",
            "1/1 [==============================] - 0s 8ms/step - loss: 8.6967 - mae: 8.6967\n",
            "Epoch 45/100\n",
            "1/1 [==============================] - 0s 7ms/step - loss: 8.6162 - mae: 8.6162\n",
            "Epoch 46/100\n",
            "1/1 [==============================] - 0s 7ms/step - loss: 8.5350 - mae: 8.5350\n",
            "Epoch 47/100\n",
            "1/1 [==============================] - 0s 9ms/step - loss: 8.4533 - mae: 8.4533\n",
            "Epoch 48/100\n",
            "1/1 [==============================] - 0s 9ms/step - loss: 8.3710 - mae: 8.3710\n",
            "Epoch 49/100\n",
            "1/1 [==============================] - 0s 8ms/step - loss: 8.2880 - mae: 8.2880\n",
            "Epoch 50/100\n",
            "1/1 [==============================] - 0s 14ms/step - loss: 8.2045 - mae: 8.2045\n",
            "Epoch 51/100\n",
            "1/1 [==============================] - 0s 11ms/step - loss: 8.1204 - mae: 8.1204\n",
            "Epoch 52/100\n",
            "1/1 [==============================] - 0s 11ms/step - loss: 8.0357 - mae: 8.0357\n",
            "Epoch 53/100\n",
            "1/1 [==============================] - 0s 8ms/step - loss: 7.9504 - mae: 7.9504\n",
            "Epoch 54/100\n",
            "1/1 [==============================] - 0s 11ms/step - loss: 7.8647 - mae: 7.8647\n",
            "Epoch 55/100\n",
            "1/1 [==============================] - 0s 7ms/step - loss: 7.7783 - mae: 7.7783\n",
            "Epoch 56/100\n",
            "1/1 [==============================] - 0s 13ms/step - loss: 7.6913 - mae: 7.6913\n",
            "Epoch 57/100\n",
            "1/1 [==============================] - 0s 10ms/step - loss: 7.6036 - mae: 7.6036\n",
            "Epoch 58/100\n",
            "1/1 [==============================] - 0s 8ms/step - loss: 7.5153 - mae: 7.5153\n",
            "Epoch 59/100\n",
            "1/1 [==============================] - 0s 8ms/step - loss: 7.4264 - mae: 7.4264\n",
            "Epoch 60/100\n",
            "1/1 [==============================] - 0s 9ms/step - loss: 7.3368 - mae: 7.3368\n",
            "Epoch 61/100\n",
            "1/1 [==============================] - 0s 10ms/step - loss: 7.2467 - mae: 7.2467\n",
            "Epoch 62/100\n",
            "1/1 [==============================] - 0s 7ms/step - loss: 7.1559 - mae: 7.1559\n",
            "Epoch 63/100\n",
            "1/1 [==============================] - 0s 11ms/step - loss: 7.0644 - mae: 7.0644\n",
            "Epoch 64/100\n",
            "1/1 [==============================] - 0s 8ms/step - loss: 6.9722 - mae: 6.9722\n",
            "Epoch 65/100\n",
            "1/1 [==============================] - 0s 8ms/step - loss: 6.8793 - mae: 6.8793\n",
            "Epoch 66/100\n",
            "1/1 [==============================] - 0s 9ms/step - loss: 6.7856 - mae: 6.7856\n",
            "Epoch 67/100\n",
            "1/1 [==============================] - 0s 7ms/step - loss: 6.6912 - mae: 6.6912\n",
            "Epoch 68/100\n",
            "1/1 [==============================] - 0s 9ms/step - loss: 6.5960 - mae: 6.5960\n",
            "Epoch 69/100\n",
            "1/1 [==============================] - 0s 10ms/step - loss: 6.5001 - mae: 6.5001\n",
            "Epoch 70/100\n",
            "1/1 [==============================] - 0s 10ms/step - loss: 6.4035 - mae: 6.4035\n",
            "Epoch 71/100\n",
            "1/1 [==============================] - 0s 12ms/step - loss: 6.3061 - mae: 6.3061\n",
            "Epoch 72/100\n",
            "1/1 [==============================] - 0s 15ms/step - loss: 6.2080 - mae: 6.2080\n",
            "Epoch 73/100\n",
            "1/1 [==============================] - 0s 10ms/step - loss: 6.1091 - mae: 6.1091\n",
            "Epoch 74/100\n",
            "1/1 [==============================] - 0s 11ms/step - loss: 6.0094 - mae: 6.0094\n",
            "Epoch 75/100\n",
            "1/1 [==============================] - 0s 11ms/step - loss: 5.9089 - mae: 5.9089\n",
            "Epoch 76/100\n",
            "1/1 [==============================] - 0s 9ms/step - loss: 5.8077 - mae: 5.8077\n",
            "Epoch 77/100\n",
            "1/1 [==============================] - 0s 10ms/step - loss: 5.7058 - mae: 5.7058\n",
            "Epoch 78/100\n",
            "1/1 [==============================] - 0s 8ms/step - loss: 5.6031 - mae: 5.6031\n",
            "Epoch 79/100\n",
            "1/1 [==============================] - 0s 10ms/step - loss: 5.4996 - mae: 5.4996\n",
            "Epoch 80/100\n",
            "1/1 [==============================] - 0s 8ms/step - loss: 5.3955 - mae: 5.3955\n",
            "Epoch 81/100\n",
            "1/1 [==============================] - 0s 13ms/step - loss: 5.2906 - mae: 5.2906\n",
            "Epoch 82/100\n",
            "1/1 [==============================] - 0s 8ms/step - loss: 5.1848 - mae: 5.1848\n",
            "Epoch 83/100\n",
            "1/1 [==============================] - 0s 8ms/step - loss: 5.0783 - mae: 5.0783\n",
            "Epoch 84/100\n",
            "1/1 [==============================] - 0s 9ms/step - loss: 4.9708 - mae: 4.9708\n",
            "Epoch 85/100\n",
            "1/1 [==============================] - 0s 10ms/step - loss: 4.8625 - mae: 4.8625\n",
            "Epoch 86/100\n",
            "1/1 [==============================] - 0s 7ms/step - loss: 4.7533 - mae: 4.7533\n",
            "Epoch 87/100\n",
            "1/1 [==============================] - 0s 13ms/step - loss: 4.6433 - mae: 4.6433\n",
            "Epoch 88/100\n",
            "1/1 [==============================] - 0s 7ms/step - loss: 4.5323 - mae: 4.5323\n",
            "Epoch 89/100\n",
            "1/1 [==============================] - 0s 8ms/step - loss: 4.4205 - mae: 4.4205\n",
            "Epoch 90/100\n",
            "1/1 [==============================] - 0s 8ms/step - loss: 4.3077 - mae: 4.3077\n",
            "Epoch 91/100\n",
            "1/1 [==============================] - 0s 8ms/step - loss: 4.1951 - mae: 4.1951\n",
            "Epoch 92/100\n",
            "1/1 [==============================] - 0s 9ms/step - loss: 4.0814 - mae: 4.0814\n",
            "Epoch 93/100\n",
            "1/1 [==============================] - 0s 8ms/step - loss: 3.9653 - mae: 3.9653\n",
            "Epoch 94/100\n",
            "1/1 [==============================] - 0s 8ms/step - loss: 3.9200 - mae: 3.9200\n",
            "Epoch 95/100\n",
            "1/1 [==============================] - 0s 11ms/step - loss: 3.8839 - mae: 3.8839\n",
            "Epoch 96/100\n",
            "1/1 [==============================] - 0s 8ms/step - loss: 3.8494 - mae: 3.8494\n",
            "Epoch 97/100\n",
            "1/1 [==============================] - 0s 7ms/step - loss: 3.8166 - mae: 3.8166\n",
            "Epoch 98/100\n",
            "1/1 [==============================] - 0s 8ms/step - loss: 3.7851 - mae: 3.7851\n",
            "Epoch 99/100\n",
            "1/1 [==============================] - 0s 9ms/step - loss: 3.7549 - mae: 3.7549\n",
            "Epoch 100/100\n",
            "1/1 [==============================] - 0s 6ms/step - loss: 3.7258 - mae: 3.7258\n"
          ]
        },
        {
          "output_type": "execute_result",
          "data": {
            "text/plain": [
              "<keras.callbacks.History at 0x7fc380f1e210>"
            ]
          },
          "metadata": {},
          "execution_count": 36
        }
      ]
    },
    {
      "cell_type": "code",
      "source": [
        "# Overfitting of the model\n",
        "improvedModel_2.predict([17.0]) # 27"
      ],
      "metadata": {
        "colab": {
          "base_uri": "https://localhost:8080/"
        },
        "id": "YvIhYfCxHwon",
        "outputId": "28cec7f4-f91c-496e-ce40-c59a553b8141"
      },
      "execution_count": 37,
      "outputs": [
        {
          "output_type": "execute_result",
          "data": {
            "text/plain": [
              "array([[31.40394]], dtype=float32)"
            ]
          },
          "metadata": {},
          "execution_count": 37
        }
      ]
    },
    {
      "cell_type": "code",
      "source": [
        "tf.random.set_seed(42)\n",
        "\n",
        "improvedModel_3= tf.keras.Sequential([\n",
        "    tf.keras.layers.Dense(100),\n",
        "    tf.keras.layers.Dense(1)\n",
        "])\n",
        "\n",
        "\n",
        "improvedModel_3.compile(loss=tf.keras.losses.mae, optimizer=tf.keras.optimizers.Adam(learning_rate=0.001), metrics=[\"mae\"])\n",
        "\n",
        "improvedModel_3.fit(tf.expand_dims(X,axis=-1),y, epochs=100)\n"
      ],
      "metadata": {
        "colab": {
          "base_uri": "https://localhost:8080/"
        },
        "id": "l2FCXCZaHwkQ",
        "outputId": "2ab460f6-6ffe-4408-ddf5-8958589be8a4"
      },
      "execution_count": 38,
      "outputs": [
        {
          "output_type": "stream",
          "name": "stdout",
          "text": [
            "Epoch 1/100\n",
            "1/1 [==============================] - 0s 324ms/step - loss: 13.0472 - mae: 13.0472\n",
            "Epoch 2/100\n",
            "1/1 [==============================] - 0s 10ms/step - loss: 12.9489 - mae: 12.9489\n",
            "Epoch 3/100\n",
            "1/1 [==============================] - 0s 8ms/step - loss: 12.8506 - mae: 12.8506\n",
            "Epoch 4/100\n",
            "1/1 [==============================] - 0s 7ms/step - loss: 12.7522 - mae: 12.7522\n",
            "Epoch 5/100\n",
            "1/1 [==============================] - 0s 10ms/step - loss: 12.6538 - mae: 12.6538\n",
            "Epoch 6/100\n",
            "1/1 [==============================] - 0s 9ms/step - loss: 12.5551 - mae: 12.5551\n",
            "Epoch 7/100\n",
            "1/1 [==============================] - 0s 9ms/step - loss: 12.4564 - mae: 12.4564\n",
            "Epoch 8/100\n",
            "1/1 [==============================] - 0s 11ms/step - loss: 12.3575 - mae: 12.3575\n",
            "Epoch 9/100\n",
            "1/1 [==============================] - 0s 11ms/step - loss: 12.2585 - mae: 12.2585\n",
            "Epoch 10/100\n",
            "1/1 [==============================] - 0s 7ms/step - loss: 12.1593 - mae: 12.1593\n",
            "Epoch 11/100\n",
            "1/1 [==============================] - 0s 12ms/step - loss: 12.0600 - mae: 12.0600\n",
            "Epoch 12/100\n",
            "1/1 [==============================] - 0s 7ms/step - loss: 11.9604 - mae: 11.9604\n",
            "Epoch 13/100\n",
            "1/1 [==============================] - 0s 8ms/step - loss: 11.8607 - mae: 11.8607\n",
            "Epoch 14/100\n",
            "1/1 [==============================] - 0s 8ms/step - loss: 11.7608 - mae: 11.7608\n",
            "Epoch 15/100\n",
            "1/1 [==============================] - 0s 10ms/step - loss: 11.6607 - mae: 11.6607\n",
            "Epoch 16/100\n",
            "1/1 [==============================] - 0s 10ms/step - loss: 11.5603 - mae: 11.5603\n",
            "Epoch 17/100\n",
            "1/1 [==============================] - 0s 11ms/step - loss: 11.4598 - mae: 11.4598\n",
            "Epoch 18/100\n",
            "1/1 [==============================] - 0s 8ms/step - loss: 11.3589 - mae: 11.3589\n",
            "Epoch 19/100\n",
            "1/1 [==============================] - 0s 10ms/step - loss: 11.2578 - mae: 11.2578\n",
            "Epoch 20/100\n",
            "1/1 [==============================] - 0s 8ms/step - loss: 11.1564 - mae: 11.1564\n",
            "Epoch 21/100\n",
            "1/1 [==============================] - 0s 10ms/step - loss: 11.0547 - mae: 11.0547\n",
            "Epoch 22/100\n",
            "1/1 [==============================] - 0s 7ms/step - loss: 10.9526 - mae: 10.9526\n",
            "Epoch 23/100\n",
            "1/1 [==============================] - 0s 7ms/step - loss: 10.8503 - mae: 10.8503\n",
            "Epoch 24/100\n",
            "1/1 [==============================] - 0s 11ms/step - loss: 10.7476 - mae: 10.7476\n",
            "Epoch 25/100\n",
            "1/1 [==============================] - 0s 8ms/step - loss: 10.6445 - mae: 10.6445\n",
            "Epoch 26/100\n",
            "1/1 [==============================] - 0s 8ms/step - loss: 10.5410 - mae: 10.5410\n",
            "Epoch 27/100\n",
            "1/1 [==============================] - 0s 9ms/step - loss: 10.4371 - mae: 10.4371\n",
            "Epoch 28/100\n",
            "1/1 [==============================] - 0s 9ms/step - loss: 10.3327 - mae: 10.3327\n",
            "Epoch 29/100\n",
            "1/1 [==============================] - 0s 10ms/step - loss: 10.2280 - mae: 10.2280\n",
            "Epoch 30/100\n",
            "1/1 [==============================] - 0s 10ms/step - loss: 10.1227 - mae: 10.1227\n",
            "Epoch 31/100\n",
            "1/1 [==============================] - 0s 10ms/step - loss: 10.0170 - mae: 10.0170\n",
            "Epoch 32/100\n",
            "1/1 [==============================] - 0s 8ms/step - loss: 9.9107 - mae: 9.9107\n",
            "Epoch 33/100\n",
            "1/1 [==============================] - 0s 8ms/step - loss: 9.8039 - mae: 9.8039\n",
            "Epoch 34/100\n",
            "1/1 [==============================] - 0s 7ms/step - loss: 9.6966 - mae: 9.6966\n",
            "Epoch 35/100\n",
            "1/1 [==============================] - 0s 8ms/step - loss: 9.5887 - mae: 9.5887\n",
            "Epoch 36/100\n",
            "1/1 [==============================] - 0s 8ms/step - loss: 9.4802 - mae: 9.4802\n",
            "Epoch 37/100\n",
            "1/1 [==============================] - 0s 12ms/step - loss: 9.3711 - mae: 9.3711\n",
            "Epoch 38/100\n",
            "1/1 [==============================] - 0s 7ms/step - loss: 9.2614 - mae: 9.2614\n",
            "Epoch 39/100\n",
            "1/1 [==============================] - 0s 9ms/step - loss: 9.1511 - mae: 9.1511\n",
            "Epoch 40/100\n",
            "1/1 [==============================] - 0s 11ms/step - loss: 9.0401 - mae: 9.0401\n",
            "Epoch 41/100\n",
            "1/1 [==============================] - 0s 9ms/step - loss: 8.9284 - mae: 8.9284\n",
            "Epoch 42/100\n",
            "1/1 [==============================] - 0s 7ms/step - loss: 8.8160 - mae: 8.8160\n",
            "Epoch 43/100\n",
            "1/1 [==============================] - 0s 9ms/step - loss: 8.7029 - mae: 8.7029\n",
            "Epoch 44/100\n",
            "1/1 [==============================] - 0s 8ms/step - loss: 8.5891 - mae: 8.5891\n",
            "Epoch 45/100\n",
            "1/1 [==============================] - 0s 11ms/step - loss: 8.4745 - mae: 8.4745\n",
            "Epoch 46/100\n",
            "1/1 [==============================] - 0s 7ms/step - loss: 8.3592 - mae: 8.3592\n",
            "Epoch 47/100\n",
            "1/1 [==============================] - 0s 11ms/step - loss: 8.2431 - mae: 8.2431\n",
            "Epoch 48/100\n",
            "1/1 [==============================] - 0s 8ms/step - loss: 8.1262 - mae: 8.1262\n",
            "Epoch 49/100\n",
            "1/1 [==============================] - 0s 11ms/step - loss: 8.0085 - mae: 8.0085\n",
            "Epoch 50/100\n",
            "1/1 [==============================] - 0s 8ms/step - loss: 7.8899 - mae: 7.8899\n",
            "Epoch 51/100\n",
            "1/1 [==============================] - 0s 8ms/step - loss: 7.7706 - mae: 7.7706\n",
            "Epoch 52/100\n",
            "1/1 [==============================] - 0s 11ms/step - loss: 7.6503 - mae: 7.6503\n",
            "Epoch 53/100\n",
            "1/1 [==============================] - 0s 13ms/step - loss: 7.5292 - mae: 7.5292\n",
            "Epoch 54/100\n",
            "1/1 [==============================] - 0s 10ms/step - loss: 7.4072 - mae: 7.4072\n",
            "Epoch 55/100\n",
            "1/1 [==============================] - 0s 12ms/step - loss: 7.2843 - mae: 7.2843\n",
            "Epoch 56/100\n",
            "1/1 [==============================] - 0s 8ms/step - loss: 7.1604 - mae: 7.1604\n",
            "Epoch 57/100\n",
            "1/1 [==============================] - 0s 8ms/step - loss: 7.0356 - mae: 7.0356\n",
            "Epoch 58/100\n",
            "1/1 [==============================] - 0s 13ms/step - loss: 6.9099 - mae: 6.9099\n",
            "Epoch 59/100\n",
            "1/1 [==============================] - 0s 11ms/step - loss: 6.8133 - mae: 6.8133\n",
            "Epoch 60/100\n",
            "1/1 [==============================] - 0s 10ms/step - loss: 6.7985 - mae: 6.7985\n",
            "Epoch 61/100\n",
            "1/1 [==============================] - 0s 9ms/step - loss: 6.7840 - mae: 6.7840\n",
            "Epoch 62/100\n",
            "1/1 [==============================] - 0s 9ms/step - loss: 6.7697 - mae: 6.7697\n",
            "Epoch 63/100\n",
            "1/1 [==============================] - 0s 8ms/step - loss: 6.7557 - mae: 6.7557\n",
            "Epoch 64/100\n",
            "1/1 [==============================] - 0s 7ms/step - loss: 6.7418 - mae: 6.7418\n",
            "Epoch 65/100\n",
            "1/1 [==============================] - 0s 7ms/step - loss: 6.7281 - mae: 6.7281\n",
            "Epoch 66/100\n",
            "1/1 [==============================] - 0s 9ms/step - loss: 6.7146 - mae: 6.7146\n",
            "Epoch 67/100\n",
            "1/1 [==============================] - 0s 8ms/step - loss: 6.7331 - mae: 6.7331\n",
            "Epoch 68/100\n",
            "1/1 [==============================] - 0s 9ms/step - loss: 6.7542 - mae: 6.7542\n",
            "Epoch 69/100\n",
            "1/1 [==============================] - 0s 7ms/step - loss: 6.7653 - mae: 6.7653\n",
            "Epoch 70/100\n",
            "1/1 [==============================] - 0s 10ms/step - loss: 6.7673 - mae: 6.7673\n",
            "Epoch 71/100\n",
            "1/1 [==============================] - 0s 9ms/step - loss: 6.7612 - mae: 6.7612\n",
            "Epoch 72/100\n",
            "1/1 [==============================] - 0s 9ms/step - loss: 6.7478 - mae: 6.7478\n",
            "Epoch 73/100\n",
            "1/1 [==============================] - 0s 11ms/step - loss: 6.7278 - mae: 6.7278\n",
            "Epoch 74/100\n",
            "1/1 [==============================] - 0s 8ms/step - loss: 6.7019 - mae: 6.7019\n",
            "Epoch 75/100\n",
            "1/1 [==============================] - 0s 10ms/step - loss: 6.6708 - mae: 6.6708\n",
            "Epoch 76/100\n",
            "1/1 [==============================] - 0s 7ms/step - loss: 6.6349 - mae: 6.6349\n",
            "Epoch 77/100\n",
            "1/1 [==============================] - 0s 9ms/step - loss: 6.5994 - mae: 6.5994\n",
            "Epoch 78/100\n",
            "1/1 [==============================] - 0s 10ms/step - loss: 6.5908 - mae: 6.5908\n",
            "Epoch 79/100\n",
            "1/1 [==============================] - 0s 11ms/step - loss: 6.5819 - mae: 6.5819\n",
            "Epoch 80/100\n",
            "1/1 [==============================] - 0s 8ms/step - loss: 6.5727 - mae: 6.5727\n",
            "Epoch 81/100\n",
            "1/1 [==============================] - 0s 8ms/step - loss: 6.5632 - mae: 6.5632\n",
            "Epoch 82/100\n",
            "1/1 [==============================] - 0s 11ms/step - loss: 6.5534 - mae: 6.5534\n",
            "Epoch 83/100\n",
            "1/1 [==============================] - 0s 7ms/step - loss: 6.5434 - mae: 6.5434\n",
            "Epoch 84/100\n",
            "1/1 [==============================] - 0s 7ms/step - loss: 6.5332 - mae: 6.5332\n",
            "Epoch 85/100\n",
            "1/1 [==============================] - 0s 7ms/step - loss: 6.5227 - mae: 6.5227\n",
            "Epoch 86/100\n",
            "1/1 [==============================] - 0s 10ms/step - loss: 6.5121 - mae: 6.5121\n",
            "Epoch 87/100\n",
            "1/1 [==============================] - 0s 8ms/step - loss: 6.5012 - mae: 6.5012\n",
            "Epoch 88/100\n",
            "1/1 [==============================] - 0s 9ms/step - loss: 6.4902 - mae: 6.4902\n",
            "Epoch 89/100\n",
            "1/1 [==============================] - 0s 11ms/step - loss: 6.4790 - mae: 6.4790\n",
            "Epoch 90/100\n",
            "1/1 [==============================] - 0s 11ms/step - loss: 6.4677 - mae: 6.4677\n",
            "Epoch 91/100\n",
            "1/1 [==============================] - 0s 11ms/step - loss: 6.4562 - mae: 6.4562\n",
            "Epoch 92/100\n",
            "1/1 [==============================] - 0s 6ms/step - loss: 6.4446 - mae: 6.4446\n",
            "Epoch 93/100\n",
            "1/1 [==============================] - 0s 7ms/step - loss: 6.4329 - mae: 6.4329\n",
            "Epoch 94/100\n",
            "1/1 [==============================] - 0s 7ms/step - loss: 6.4210 - mae: 6.4210\n",
            "Epoch 95/100\n",
            "1/1 [==============================] - 0s 10ms/step - loss: 6.4090 - mae: 6.4090\n",
            "Epoch 96/100\n",
            "1/1 [==============================] - 0s 9ms/step - loss: 6.3969 - mae: 6.3969\n",
            "Epoch 97/100\n",
            "1/1 [==============================] - 0s 9ms/step - loss: 6.3846 - mae: 6.3846\n",
            "Epoch 98/100\n",
            "1/1 [==============================] - 0s 9ms/step - loss: 6.3723 - mae: 6.3723\n",
            "Epoch 99/100\n",
            "1/1 [==============================] - 0s 9ms/step - loss: 6.3598 - mae: 6.3598\n",
            "Epoch 100/100\n",
            "1/1 [==============================] - 0s 11ms/step - loss: 6.3473 - mae: 6.3473\n"
          ]
        },
        {
          "output_type": "execute_result",
          "data": {
            "text/plain": [
              "<keras.callbacks.History at 0x7fc380e34bd0>"
            ]
          },
          "metadata": {},
          "execution_count": 38
        }
      ]
    },
    {
      "cell_type": "code",
      "source": [
        "improvedModel_3.predict([17.0])"
      ],
      "metadata": {
        "colab": {
          "base_uri": "https://localhost:8080/"
        },
        "id": "eSAXJRCIJ94I",
        "outputId": "046f4ce6-9aca-4ce1-870d-926725cd2f54"
      },
      "execution_count": 39,
      "outputs": [
        {
          "output_type": "execute_result",
          "data": {
            "text/plain": [
              "array([[30.62407]], dtype=float32)"
            ]
          },
          "metadata": {},
          "execution_count": 39
        }
      ]
    },
    {
      "cell_type": "code",
      "source": [
        "tf.random.set_seed(42)\n",
        "\n",
        "improvedModel_4= tf.keras.Sequential([\n",
        "    tf.keras.layers.Dense(100),\n",
        "    tf.keras.layers.Dense(1)\n",
        "])\n",
        "\n",
        "\n",
        "improvedModel_4.compile(loss=tf.keras.losses.mae, optimizer=tf.keras.optimizers.Adam(learning_rate=0.01), metrics=[\"mae\"])\n",
        "\n",
        "improvedModel_4.fit(tf.expand_dims(X,axis=-1),y, epochs=100)\n"
      ],
      "metadata": {
        "colab": {
          "base_uri": "https://localhost:8080/"
        },
        "id": "HbuTTTF4J91H",
        "outputId": "b7075477-da6a-44b6-bbcd-7866df546e31"
      },
      "execution_count": 40,
      "outputs": [
        {
          "output_type": "stream",
          "name": "stdout",
          "text": [
            "Epoch 1/100\n",
            "1/1 [==============================] - 0s 309ms/step - loss: 13.0472 - mae: 13.0472\n",
            "Epoch 2/100\n",
            "1/1 [==============================] - 0s 9ms/step - loss: 12.0616 - mae: 12.0616\n",
            "Epoch 3/100\n",
            "1/1 [==============================] - 0s 8ms/step - loss: 11.0659 - mae: 11.0659\n",
            "Epoch 4/100\n",
            "1/1 [==============================] - 0s 7ms/step - loss: 10.0558 - mae: 10.0558\n",
            "Epoch 5/100\n",
            "1/1 [==============================] - 0s 12ms/step - loss: 9.0255 - mae: 9.0255\n",
            "Epoch 6/100\n",
            "1/1 [==============================] - 0s 8ms/step - loss: 7.9690 - mae: 7.9690\n",
            "Epoch 7/100\n",
            "1/1 [==============================] - 0s 8ms/step - loss: 6.8800 - mae: 6.8800\n",
            "Epoch 8/100\n",
            "1/1 [==============================] - 0s 8ms/step - loss: 6.9895 - mae: 6.9895\n",
            "Epoch 9/100\n",
            "1/1 [==============================] - 0s 10ms/step - loss: 7.4368 - mae: 7.4368\n",
            "Epoch 10/100\n",
            "1/1 [==============================] - 0s 8ms/step - loss: 7.7723 - mae: 7.7723\n",
            "Epoch 11/100\n",
            "1/1 [==============================] - 0s 7ms/step - loss: 7.7480 - mae: 7.7480\n",
            "Epoch 12/100\n",
            "1/1 [==============================] - 0s 8ms/step - loss: 7.4703 - mae: 7.4703\n",
            "Epoch 13/100\n",
            "1/1 [==============================] - 0s 10ms/step - loss: 7.0160 - mae: 7.0160\n",
            "Epoch 14/100\n",
            "1/1 [==============================] - 0s 9ms/step - loss: 6.6851 - mae: 6.6851\n",
            "Epoch 15/100\n",
            "1/1 [==============================] - 0s 8ms/step - loss: 6.3299 - mae: 6.3299\n",
            "Epoch 16/100\n",
            "1/1 [==============================] - 0s 9ms/step - loss: 6.0519 - mae: 6.0519\n",
            "Epoch 17/100\n",
            "1/1 [==============================] - 0s 11ms/step - loss: 5.9863 - mae: 5.9863\n",
            "Epoch 18/100\n",
            "1/1 [==============================] - 0s 7ms/step - loss: 6.1243 - mae: 6.1243\n",
            "Epoch 19/100\n",
            "1/1 [==============================] - 0s 9ms/step - loss: 6.1821 - mae: 6.1821\n",
            "Epoch 20/100\n",
            "1/1 [==============================] - 0s 13ms/step - loss: 6.0999 - mae: 6.0999\n",
            "Epoch 21/100\n",
            "1/1 [==============================] - 0s 10ms/step - loss: 5.8951 - mae: 5.8951\n",
            "Epoch 22/100\n",
            "1/1 [==============================] - 0s 6ms/step - loss: 5.5795 - mae: 5.5795\n",
            "Epoch 23/100\n",
            "1/1 [==============================] - 0s 6ms/step - loss: 5.3184 - mae: 5.3184\n",
            "Epoch 24/100\n",
            "1/1 [==============================] - 0s 6ms/step - loss: 5.1621 - mae: 5.1621\n",
            "Epoch 25/100\n",
            "1/1 [==============================] - 0s 6ms/step - loss: 5.1738 - mae: 5.1738\n",
            "Epoch 26/100\n",
            "1/1 [==============================] - 0s 6ms/step - loss: 5.1578 - mae: 5.1578\n",
            "Epoch 27/100\n",
            "1/1 [==============================] - 0s 6ms/step - loss: 5.0796 - mae: 5.0796\n",
            "Epoch 28/100\n",
            "1/1 [==============================] - 0s 6ms/step - loss: 4.9433 - mae: 4.9433\n",
            "Epoch 29/100\n",
            "1/1 [==============================] - 0s 6ms/step - loss: 4.7532 - mae: 4.7532\n",
            "Epoch 30/100\n",
            "1/1 [==============================] - 0s 7ms/step - loss: 4.5132 - mae: 4.5132\n",
            "Epoch 31/100\n",
            "1/1 [==============================] - 0s 7ms/step - loss: 4.2267 - mae: 4.2267\n",
            "Epoch 32/100\n",
            "1/1 [==============================] - 0s 7ms/step - loss: 3.9726 - mae: 3.9726\n",
            "Epoch 33/100\n",
            "1/1 [==============================] - 0s 7ms/step - loss: 3.8184 - mae: 3.8184\n",
            "Epoch 34/100\n",
            "1/1 [==============================] - 0s 10ms/step - loss: 3.7919 - mae: 3.7919\n",
            "Epoch 35/100\n",
            "1/1 [==============================] - 0s 6ms/step - loss: 3.6264 - mae: 3.6264\n",
            "Epoch 36/100\n",
            "1/1 [==============================] - 0s 6ms/step - loss: 3.2910 - mae: 3.2910\n",
            "Epoch 37/100\n",
            "1/1 [==============================] - 0s 7ms/step - loss: 2.9581 - mae: 2.9581\n",
            "Epoch 38/100\n",
            "1/1 [==============================] - 0s 7ms/step - loss: 2.8095 - mae: 2.8095\n",
            "Epoch 39/100\n",
            "1/1 [==============================] - 0s 7ms/step - loss: 2.6613 - mae: 2.6613\n",
            "Epoch 40/100\n",
            "1/1 [==============================] - 0s 7ms/step - loss: 2.4517 - mae: 2.4517\n",
            "Epoch 41/100\n",
            "1/1 [==============================] - 0s 7ms/step - loss: 2.0799 - mae: 2.0799\n",
            "Epoch 42/100\n",
            "1/1 [==============================] - 0s 6ms/step - loss: 1.6572 - mae: 1.6572\n",
            "Epoch 43/100\n",
            "1/1 [==============================] - 0s 7ms/step - loss: 1.4899 - mae: 1.4899\n",
            "Epoch 44/100\n",
            "1/1 [==============================] - 0s 7ms/step - loss: 1.3036 - mae: 1.3036\n",
            "Epoch 45/100\n",
            "1/1 [==============================] - 0s 7ms/step - loss: 0.8954 - mae: 0.8954\n",
            "Epoch 46/100\n",
            "1/1 [==============================] - 0s 6ms/step - loss: 0.3535 - mae: 0.3535\n",
            "Epoch 47/100\n",
            "1/1 [==============================] - 0s 9ms/step - loss: 0.3003 - mae: 0.3003\n",
            "Epoch 48/100\n",
            "1/1 [==============================] - 0s 8ms/step - loss: 0.3602 - mae: 0.3602\n",
            "Epoch 49/100\n",
            "1/1 [==============================] - 0s 7ms/step - loss: 0.7635 - mae: 0.7635\n",
            "Epoch 50/100\n",
            "1/1 [==============================] - 0s 9ms/step - loss: 0.8678 - mae: 0.8678\n",
            "Epoch 51/100\n",
            "1/1 [==============================] - 0s 13ms/step - loss: 0.9511 - mae: 0.9511\n",
            "Epoch 52/100\n",
            "1/1 [==============================] - 0s 8ms/step - loss: 1.0215 - mae: 1.0215\n",
            "Epoch 53/100\n",
            "1/1 [==============================] - 0s 6ms/step - loss: 0.9460 - mae: 0.9460\n",
            "Epoch 54/100\n",
            "1/1 [==============================] - 0s 7ms/step - loss: 0.9140 - mae: 0.9140\n",
            "Epoch 55/100\n",
            "1/1 [==============================] - 0s 8ms/step - loss: 0.7729 - mae: 0.7729\n",
            "Epoch 56/100\n",
            "1/1 [==============================] - 0s 6ms/step - loss: 0.7011 - mae: 0.7011\n",
            "Epoch 57/100\n",
            "1/1 [==============================] - 0s 6ms/step - loss: 0.4808 - mae: 0.4808\n",
            "Epoch 58/100\n",
            "1/1 [==============================] - 0s 6ms/step - loss: 0.4121 - mae: 0.4121\n",
            "Epoch 59/100\n",
            "1/1 [==============================] - 0s 6ms/step - loss: 0.2276 - mae: 0.2276\n",
            "Epoch 60/100\n",
            "1/1 [==============================] - 0s 6ms/step - loss: 0.3318 - mae: 0.3318\n",
            "Epoch 61/100\n",
            "1/1 [==============================] - 0s 6ms/step - loss: 0.4661 - mae: 0.4661\n",
            "Epoch 62/100\n",
            "1/1 [==============================] - 0s 6ms/step - loss: 0.4225 - mae: 0.4225\n",
            "Epoch 63/100\n",
            "1/1 [==============================] - 0s 6ms/step - loss: 0.6198 - mae: 0.6198\n",
            "Epoch 64/100\n",
            "1/1 [==============================] - 0s 8ms/step - loss: 0.6028 - mae: 0.6028\n",
            "Epoch 65/100\n",
            "1/1 [==============================] - 0s 6ms/step - loss: 0.4581 - mae: 0.4581\n",
            "Epoch 66/100\n",
            "1/1 [==============================] - 0s 6ms/step - loss: 0.4561 - mae: 0.4561\n",
            "Epoch 67/100\n",
            "1/1 [==============================] - 0s 6ms/step - loss: 0.2972 - mae: 0.2972\n",
            "Epoch 68/100\n",
            "1/1 [==============================] - 0s 6ms/step - loss: 0.2876 - mae: 0.2876\n",
            "Epoch 69/100\n",
            "1/1 [==============================] - 0s 6ms/step - loss: 0.1802 - mae: 0.1802\n",
            "Epoch 70/100\n",
            "1/1 [==============================] - 0s 6ms/step - loss: 0.2769 - mae: 0.2769\n",
            "Epoch 71/100\n",
            "1/1 [==============================] - 0s 6ms/step - loss: 0.4281 - mae: 0.4281\n",
            "Epoch 72/100\n",
            "1/1 [==============================] - 0s 6ms/step - loss: 0.3509 - mae: 0.3509\n",
            "Epoch 73/100\n",
            "1/1 [==============================] - 0s 7ms/step - loss: 0.3655 - mae: 0.3655\n",
            "Epoch 74/100\n",
            "1/1 [==============================] - 0s 6ms/step - loss: 0.3539 - mae: 0.3539\n",
            "Epoch 75/100\n",
            "1/1 [==============================] - 0s 9ms/step - loss: 0.1713 - mae: 0.1713\n",
            "Epoch 76/100\n",
            "1/1 [==============================] - 0s 6ms/step - loss: 0.1073 - mae: 0.1073\n",
            "Epoch 77/100\n",
            "1/1 [==============================] - 0s 6ms/step - loss: 0.1955 - mae: 0.1955\n",
            "Epoch 78/100\n",
            "1/1 [==============================] - 0s 6ms/step - loss: 0.2256 - mae: 0.2256\n",
            "Epoch 79/100\n",
            "1/1 [==============================] - 0s 6ms/step - loss: 0.2566 - mae: 0.2566\n",
            "Epoch 80/100\n",
            "1/1 [==============================] - 0s 6ms/step - loss: 0.2706 - mae: 0.2706\n",
            "Epoch 81/100\n",
            "1/1 [==============================] - 0s 6ms/step - loss: 0.2084 - mae: 0.2084\n",
            "Epoch 82/100\n",
            "1/1 [==============================] - 0s 6ms/step - loss: 0.1657 - mae: 0.1657\n",
            "Epoch 83/100\n",
            "1/1 [==============================] - 0s 6ms/step - loss: 0.0633 - mae: 0.0633\n",
            "Epoch 84/100\n",
            "1/1 [==============================] - 0s 6ms/step - loss: 0.1290 - mae: 0.1290\n",
            "Epoch 85/100\n",
            "1/1 [==============================] - 0s 6ms/step - loss: 0.1521 - mae: 0.1521\n",
            "Epoch 86/100\n",
            "1/1 [==============================] - 0s 6ms/step - loss: 0.1478 - mae: 0.1478\n",
            "Epoch 87/100\n",
            "1/1 [==============================] - 0s 8ms/step - loss: 0.0901 - mae: 0.0901\n",
            "Epoch 88/100\n",
            "1/1 [==============================] - 0s 6ms/step - loss: 0.0814 - mae: 0.0814\n",
            "Epoch 89/100\n",
            "1/1 [==============================] - 0s 5ms/step - loss: 0.1892 - mae: 0.1892\n",
            "Epoch 90/100\n",
            "1/1 [==============================] - 0s 6ms/step - loss: 0.1441 - mae: 0.1441\n",
            "Epoch 91/100\n",
            "1/1 [==============================] - 0s 6ms/step - loss: 0.2937 - mae: 0.2937\n",
            "Epoch 92/100\n",
            "1/1 [==============================] - 0s 7ms/step - loss: 0.3153 - mae: 0.3153\n",
            "Epoch 93/100\n",
            "1/1 [==============================] - 0s 9ms/step - loss: 0.0877 - mae: 0.0877\n",
            "Epoch 94/100\n",
            "1/1 [==============================] - 0s 6ms/step - loss: 0.3804 - mae: 0.3804\n",
            "Epoch 95/100\n",
            "1/1 [==============================] - 0s 8ms/step - loss: 0.4432 - mae: 0.4432\n",
            "Epoch 96/100\n",
            "1/1 [==============================] - 0s 6ms/step - loss: 0.2755 - mae: 0.2755\n",
            "Epoch 97/100\n",
            "1/1 [==============================] - 0s 8ms/step - loss: 0.4025 - mae: 0.4025\n",
            "Epoch 98/100\n",
            "1/1 [==============================] - 0s 7ms/step - loss: 0.5116 - mae: 0.5116\n",
            "Epoch 99/100\n",
            "1/1 [==============================] - 0s 10ms/step - loss: 0.3330 - mae: 0.3330\n",
            "Epoch 100/100\n",
            "1/1 [==============================] - 0s 7ms/step - loss: 0.2051 - mae: 0.2051\n"
          ]
        },
        {
          "output_type": "execute_result",
          "data": {
            "text/plain": [
              "<keras.callbacks.History at 0x7fc38179b850>"
            ]
          },
          "metadata": {},
          "execution_count": 40
        }
      ]
    },
    {
      "cell_type": "code",
      "source": [
        "improvedModel_4.predict([17.0]) # Should be 27"
      ],
      "metadata": {
        "colab": {
          "base_uri": "https://localhost:8080/"
        },
        "id": "sq0B62V-J9w0",
        "outputId": "94e73157-c622-4f81-ea26-ab47e5308bfc"
      },
      "execution_count": 41,
      "outputs": [
        {
          "output_type": "execute_result",
          "data": {
            "text/plain": [
              "array([[27.953737]], dtype=float32)"
            ]
          },
          "metadata": {},
          "execution_count": 41
        }
      ]
    },
    {
      "cell_type": "code",
      "source": [
        "tf.random.set_seed(42)\n",
        "\n",
        "improvedModel= tf.keras.Sequential([\n",
        "    tf.keras.layers.Dense(100, activation=\"relu\"),\n",
        "    tf.keras.layers.Dense(100, activation=\"relu\"),\n",
        "    tf.keras.layers.Dense(100, activation=\"relu\"),\n",
        "    tf.keras.layers.Dense(1)\n",
        "])\n",
        "\n",
        "\n",
        "improvedModel.compile(loss=tf.keras.losses.mae, optimizer=tf.keras.optimizers.Adam(learning_rate=0.01), metrics=[\"mae\"])\n",
        "\n",
        "improvedModel.fit(tf.expand_dims(X,axis=-1),y, epochs=100)\n"
      ],
      "metadata": {
        "colab": {
          "base_uri": "https://localhost:8080/"
        },
        "id": "e6TKBZLv4nXO",
        "outputId": "7e7c49b4-6d53-4b36-cf24-8b24a58bd1e1"
      },
      "execution_count": 31,
      "outputs": [
        {
          "output_type": "stream",
          "name": "stdout",
          "text": [
            "Epoch 1/100\n",
            "1/1 [==============================] - 0s 398ms/step - loss: 13.3031 - mae: 13.3031\n",
            "Epoch 2/100\n",
            "1/1 [==============================] - 0s 7ms/step - loss: 10.4021 - mae: 10.4021\n",
            "Epoch 3/100\n",
            "1/1 [==============================] - 0s 7ms/step - loss: 7.5497 - mae: 7.5497\n",
            "Epoch 4/100\n",
            "1/1 [==============================] - 0s 10ms/step - loss: 3.9338 - mae: 3.9338\n",
            "Epoch 5/100\n",
            "1/1 [==============================] - 0s 10ms/step - loss: 6.9997 - mae: 6.9997\n",
            "Epoch 6/100\n",
            "1/1 [==============================] - 0s 7ms/step - loss: 6.8829 - mae: 6.8829\n",
            "Epoch 7/100\n",
            "1/1 [==============================] - 0s 11ms/step - loss: 5.1424 - mae: 5.1424\n",
            "Epoch 8/100\n",
            "1/1 [==============================] - 0s 9ms/step - loss: 3.8512 - mae: 3.8512\n",
            "Epoch 9/100\n",
            "1/1 [==============================] - 0s 8ms/step - loss: 4.7630 - mae: 4.7630\n",
            "Epoch 10/100\n",
            "1/1 [==============================] - 0s 9ms/step - loss: 5.3790 - mae: 5.3790\n",
            "Epoch 11/100\n",
            "1/1 [==============================] - 0s 14ms/step - loss: 5.0977 - mae: 5.0977\n",
            "Epoch 12/100\n",
            "1/1 [==============================] - 0s 9ms/step - loss: 4.0271 - mae: 4.0271\n",
            "Epoch 13/100\n",
            "1/1 [==============================] - 0s 8ms/step - loss: 3.5587 - mae: 3.5587\n",
            "Epoch 14/100\n",
            "1/1 [==============================] - 0s 10ms/step - loss: 4.1356 - mae: 4.1356\n",
            "Epoch 15/100\n",
            "1/1 [==============================] - 0s 11ms/step - loss: 4.4029 - mae: 4.4029\n",
            "Epoch 16/100\n",
            "1/1 [==============================] - 0s 9ms/step - loss: 4.1393 - mae: 4.1393\n",
            "Epoch 17/100\n",
            "1/1 [==============================] - 0s 10ms/step - loss: 3.4964 - mae: 3.4964\n",
            "Epoch 18/100\n",
            "1/1 [==============================] - 0s 7ms/step - loss: 3.0422 - mae: 3.0422\n",
            "Epoch 19/100\n",
            "1/1 [==============================] - 0s 8ms/step - loss: 3.2605 - mae: 3.2605\n",
            "Epoch 20/100\n",
            "1/1 [==============================] - 0s 7ms/step - loss: 3.3724 - mae: 3.3724\n",
            "Epoch 21/100\n",
            "1/1 [==============================] - 0s 9ms/step - loss: 2.8557 - mae: 2.8557\n",
            "Epoch 22/100\n",
            "1/1 [==============================] - 0s 7ms/step - loss: 2.3857 - mae: 2.3857\n",
            "Epoch 23/100\n",
            "1/1 [==============================] - 0s 11ms/step - loss: 2.3085 - mae: 2.3085\n",
            "Epoch 24/100\n",
            "1/1 [==============================] - 0s 8ms/step - loss: 2.4672 - mae: 2.4672\n",
            "Epoch 25/100\n",
            "1/1 [==============================] - 0s 8ms/step - loss: 1.9412 - mae: 1.9412\n",
            "Epoch 26/100\n",
            "1/1 [==============================] - 0s 8ms/step - loss: 1.4568 - mae: 1.4568\n",
            "Epoch 27/100\n",
            "1/1 [==============================] - 0s 9ms/step - loss: 1.3911 - mae: 1.3911\n",
            "Epoch 28/100\n",
            "1/1 [==============================] - 0s 8ms/step - loss: 1.2713 - mae: 1.2713\n",
            "Epoch 29/100\n",
            "1/1 [==============================] - 0s 9ms/step - loss: 1.0161 - mae: 1.0161\n",
            "Epoch 30/100\n",
            "1/1 [==============================] - 0s 9ms/step - loss: 1.4862 - mae: 1.4862\n",
            "Epoch 31/100\n",
            "1/1 [==============================] - 0s 11ms/step - loss: 1.5008 - mae: 1.5008\n",
            "Epoch 32/100\n",
            "1/1 [==============================] - 0s 15ms/step - loss: 0.8070 - mae: 0.8070\n",
            "Epoch 33/100\n",
            "1/1 [==============================] - 0s 9ms/step - loss: 1.4200 - mae: 1.4200\n",
            "Epoch 34/100\n",
            "1/1 [==============================] - 0s 8ms/step - loss: 1.0479 - mae: 1.0479\n",
            "Epoch 35/100\n",
            "1/1 [==============================] - 0s 11ms/step - loss: 1.2794 - mae: 1.2794\n",
            "Epoch 36/100\n",
            "1/1 [==============================] - 0s 9ms/step - loss: 1.1476 - mae: 1.1476\n",
            "Epoch 37/100\n",
            "1/1 [==============================] - 0s 8ms/step - loss: 0.7798 - mae: 0.7798\n",
            "Epoch 38/100\n",
            "1/1 [==============================] - 0s 8ms/step - loss: 0.8416 - mae: 0.8416\n",
            "Epoch 39/100\n",
            "1/1 [==============================] - 0s 11ms/step - loss: 0.6317 - mae: 0.6317\n",
            "Epoch 40/100\n",
            "1/1 [==============================] - 0s 9ms/step - loss: 0.6951 - mae: 0.6951\n",
            "Epoch 41/100\n",
            "1/1 [==============================] - 0s 9ms/step - loss: 0.4442 - mae: 0.4442\n",
            "Epoch 42/100\n",
            "1/1 [==============================] - 0s 10ms/step - loss: 0.7309 - mae: 0.7309\n",
            "Epoch 43/100\n",
            "1/1 [==============================] - 0s 7ms/step - loss: 0.3950 - mae: 0.3950\n",
            "Epoch 44/100\n",
            "1/1 [==============================] - 0s 10ms/step - loss: 0.5038 - mae: 0.5038\n",
            "Epoch 45/100\n",
            "1/1 [==============================] - 0s 10ms/step - loss: 0.3793 - mae: 0.3793\n",
            "Epoch 46/100\n",
            "1/1 [==============================] - 0s 13ms/step - loss: 0.3676 - mae: 0.3676\n",
            "Epoch 47/100\n",
            "1/1 [==============================] - 0s 11ms/step - loss: 0.5199 - mae: 0.5199\n",
            "Epoch 48/100\n",
            "1/1 [==============================] - 0s 9ms/step - loss: 0.2248 - mae: 0.2248\n",
            "Epoch 49/100\n",
            "1/1 [==============================] - 0s 11ms/step - loss: 0.4012 - mae: 0.4012\n",
            "Epoch 50/100\n",
            "1/1 [==============================] - 0s 9ms/step - loss: 0.4583 - mae: 0.4583\n",
            "Epoch 51/100\n",
            "1/1 [==============================] - 0s 9ms/step - loss: 0.3022 - mae: 0.3022\n",
            "Epoch 52/100\n",
            "1/1 [==============================] - 0s 9ms/step - loss: 0.6875 - mae: 0.6875\n",
            "Epoch 53/100\n",
            "1/1 [==============================] - 0s 12ms/step - loss: 0.4380 - mae: 0.4380\n",
            "Epoch 54/100\n",
            "1/1 [==============================] - 0s 16ms/step - loss: 0.7204 - mae: 0.7204\n",
            "Epoch 55/100\n",
            "1/1 [==============================] - 0s 7ms/step - loss: 0.8707 - mae: 0.8707\n",
            "Epoch 56/100\n",
            "1/1 [==============================] - 0s 7ms/step - loss: 0.2576 - mae: 0.2576\n",
            "Epoch 57/100\n",
            "1/1 [==============================] - 0s 11ms/step - loss: 1.2120 - mae: 1.2120\n",
            "Epoch 58/100\n",
            "1/1 [==============================] - 0s 11ms/step - loss: 1.3877 - mae: 1.3877\n",
            "Epoch 59/100\n",
            "1/1 [==============================] - 0s 8ms/step - loss: 0.8434 - mae: 0.8434\n",
            "Epoch 60/100\n",
            "1/1 [==============================] - 0s 9ms/step - loss: 0.9921 - mae: 0.9921\n",
            "Epoch 61/100\n",
            "1/1 [==============================] - 0s 12ms/step - loss: 1.2907 - mae: 1.2907\n",
            "Epoch 62/100\n",
            "1/1 [==============================] - 0s 9ms/step - loss: 0.8597 - mae: 0.8597\n",
            "Epoch 63/100\n",
            "1/1 [==============================] - 0s 13ms/step - loss: 0.5562 - mae: 0.5562\n",
            "Epoch 64/100\n",
            "1/1 [==============================] - 0s 10ms/step - loss: 0.9130 - mae: 0.9130\n",
            "Epoch 65/100\n",
            "1/1 [==============================] - 0s 7ms/step - loss: 0.3424 - mae: 0.3424\n",
            "Epoch 66/100\n",
            "1/1 [==============================] - 0s 8ms/step - loss: 0.7791 - mae: 0.7791\n",
            "Epoch 67/100\n",
            "1/1 [==============================] - 0s 9ms/step - loss: 0.6144 - mae: 0.6144\n",
            "Epoch 68/100\n",
            "1/1 [==============================] - 0s 9ms/step - loss: 0.3740 - mae: 0.3740\n",
            "Epoch 69/100\n",
            "1/1 [==============================] - 0s 12ms/step - loss: 0.4598 - mae: 0.4598\n",
            "Epoch 70/100\n",
            "1/1 [==============================] - 0s 11ms/step - loss: 0.3837 - mae: 0.3837\n",
            "Epoch 71/100\n",
            "1/1 [==============================] - 0s 9ms/step - loss: 0.1956 - mae: 0.1956\n",
            "Epoch 72/100\n",
            "1/1 [==============================] - 0s 11ms/step - loss: 0.7101 - mae: 0.7101\n",
            "Epoch 73/100\n",
            "1/1 [==============================] - 0s 11ms/step - loss: 0.5605 - mae: 0.5605\n",
            "Epoch 74/100\n",
            "1/1 [==============================] - 0s 11ms/step - loss: 0.4386 - mae: 0.4386\n",
            "Epoch 75/100\n",
            "1/1 [==============================] - 0s 10ms/step - loss: 0.4737 - mae: 0.4737\n",
            "Epoch 76/100\n",
            "1/1 [==============================] - 0s 8ms/step - loss: 0.3277 - mae: 0.3277\n",
            "Epoch 77/100\n",
            "1/1 [==============================] - 0s 9ms/step - loss: 0.2523 - mae: 0.2523\n",
            "Epoch 78/100\n",
            "1/1 [==============================] - 0s 10ms/step - loss: 0.6607 - mae: 0.6607\n",
            "Epoch 79/100\n",
            "1/1 [==============================] - 0s 9ms/step - loss: 0.7081 - mae: 0.7081\n",
            "Epoch 80/100\n",
            "1/1 [==============================] - 0s 9ms/step - loss: 0.1257 - mae: 0.1257\n",
            "Epoch 81/100\n",
            "1/1 [==============================] - 0s 7ms/step - loss: 1.0812 - mae: 1.0812\n",
            "Epoch 82/100\n",
            "1/1 [==============================] - 0s 10ms/step - loss: 1.3143 - mae: 1.3143\n",
            "Epoch 83/100\n",
            "1/1 [==============================] - 0s 10ms/step - loss: 0.7116 - mae: 0.7116\n",
            "Epoch 84/100\n",
            "1/1 [==============================] - 0s 13ms/step - loss: 0.5914 - mae: 0.5914\n",
            "Epoch 85/100\n",
            "1/1 [==============================] - 0s 9ms/step - loss: 1.0039 - mae: 1.0039\n",
            "Epoch 86/100\n",
            "1/1 [==============================] - 0s 8ms/step - loss: 0.8012 - mae: 0.8012\n",
            "Epoch 87/100\n",
            "1/1 [==============================] - 0s 7ms/step - loss: 0.3878 - mae: 0.3878\n",
            "Epoch 88/100\n",
            "1/1 [==============================] - 0s 9ms/step - loss: 0.5997 - mae: 0.5997\n",
            "Epoch 89/100\n",
            "1/1 [==============================] - 0s 9ms/step - loss: 0.2163 - mae: 0.2163\n",
            "Epoch 90/100\n",
            "1/1 [==============================] - 0s 9ms/step - loss: 0.5812 - mae: 0.5812\n",
            "Epoch 91/100\n",
            "1/1 [==============================] - 0s 9ms/step - loss: 0.3537 - mae: 0.3537\n",
            "Epoch 92/100\n",
            "1/1 [==============================] - 0s 9ms/step - loss: 0.4987 - mae: 0.4987\n",
            "Epoch 93/100\n",
            "1/1 [==============================] - 0s 9ms/step - loss: 0.3356 - mae: 0.3356\n",
            "Epoch 94/100\n",
            "1/1 [==============================] - 0s 9ms/step - loss: 0.5305 - mae: 0.5305\n",
            "Epoch 95/100\n",
            "1/1 [==============================] - 0s 7ms/step - loss: 0.6727 - mae: 0.6727\n",
            "Epoch 96/100\n",
            "1/1 [==============================] - 0s 9ms/step - loss: 0.2462 - mae: 0.2462\n",
            "Epoch 97/100\n",
            "1/1 [==============================] - 0s 12ms/step - loss: 0.8152 - mae: 0.8152\n",
            "Epoch 98/100\n",
            "1/1 [==============================] - 0s 10ms/step - loss: 1.0262 - mae: 1.0262\n",
            "Epoch 99/100\n",
            "1/1 [==============================] - 0s 8ms/step - loss: 0.5137 - mae: 0.5137\n",
            "Epoch 100/100\n",
            "1/1 [==============================] - 0s 6ms/step - loss: 0.8283 - mae: 0.8283\n"
          ]
        },
        {
          "output_type": "execute_result",
          "data": {
            "text/plain": [
              "<keras.callbacks.History at 0x7fc3961b6290>"
            ]
          },
          "metadata": {},
          "execution_count": 31
        }
      ]
    },
    {
      "cell_type": "code",
      "source": [
        "improvedModel.predict([17.0]) # Output should be 27"
      ],
      "metadata": {
        "colab": {
          "base_uri": "https://localhost:8080/"
        },
        "id": "X4S5mdRnF9Ps",
        "outputId": "075804ee-c271-4a98-e5b6-d65c1f17e53e"
      },
      "execution_count": 32,
      "outputs": [
        {
          "output_type": "execute_result",
          "data": {
            "text/plain": [
              "array([[24.910383]], dtype=float32)"
            ]
          },
          "metadata": {},
          "execution_count": 32
        }
      ]
    },
    {
      "cell_type": "markdown",
      "source": [
        "### Evaluating a model"
      ],
      "metadata": {
        "id": "7y4g3sPKGMck"
      }
    },
    {
      "cell_type": "code",
      "source": [
        ""
      ],
      "metadata": {
        "id": "LxfnIGG6L6oJ"
      },
      "execution_count": null,
      "outputs": []
    }
  ]
}