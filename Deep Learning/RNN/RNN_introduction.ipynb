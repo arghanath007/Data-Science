{
  "nbformat": 4,
  "nbformat_minor": 0,
  "metadata": {
    "colab": {
      "name": "RNN_beginner.ipynb",
      "provenance": [],
      "collapsed_sections": []
    },
    "kernelspec": {
      "name": "python3",
      "display_name": "Python 3"
    },
    "language_info": {
      "name": "python"
    },
    "accelerator": "GPU"
  },
  "cells": [
    {
      "cell_type": "markdown",
      "source": [
        "> Resource Link -> https://www.youtube.com/watch?v=BSpXCRTOLJA&t=8s\n",
        "\n",
        "> Written -> https://pythonprogramming.net/recurrent-neural-network-deep-learning-python-tensorflow-keras/"
      ],
      "metadata": {
        "id": "xT9B8U80-FzU"
      }
    },
    {
      "cell_type": "code",
      "execution_count": 29,
      "metadata": {
        "id": "fcXJIQVhyYVG"
      },
      "outputs": [],
      "source": [
        "import tensorflow as tf"
      ]
    },
    {
      "cell_type": "code",
      "source": [
        "print(tf.__version__)"
      ],
      "metadata": {
        "colab": {
          "base_uri": "https://localhost:8080/"
        },
        "id": "NyzjkymO8PLN",
        "outputId": "fb68f8ca-24a6-4dd8-b1af-c9a5a2ffd0c4"
      },
      "execution_count": 30,
      "outputs": [
        {
          "output_type": "stream",
          "name": "stdout",
          "text": [
            "2.8.2\n"
          ]
        }
      ]
    },
    {
      "cell_type": "code",
      "source": [
        "from tensorflow.keras.models import Sequential\n",
        "from tensorflow.keras.layers import Dense, Dropout, LSTM\n",
        "from tensorflow.compat.v1.keras.layers import CuDNNLSTM"
      ],
      "metadata": {
        "id": "wyvpEjdry48t"
      },
      "execution_count": 31,
      "outputs": []
    },
    {
      "cell_type": "code",
      "source": [
        "mnist= tf.keras.datasets.mnist\n",
        "(x_train,y_train),(x_test, y_test)= mnist.load_data()"
      ],
      "metadata": {
        "id": "z49_ggQ5zecj"
      },
      "execution_count": 32,
      "outputs": []
    },
    {
      "cell_type": "code",
      "source": [
        "print(x_train.shape)\n",
        "print(x_train[0].shape)"
      ],
      "metadata": {
        "colab": {
          "base_uri": "https://localhost:8080/"
        },
        "id": "2-KJ38coznYc",
        "outputId": "fca16697-b4cd-448e-e334-e568457895a8"
      },
      "execution_count": 33,
      "outputs": [
        {
          "output_type": "stream",
          "name": "stdout",
          "text": [
            "(60000, 28, 28)\n",
            "(28, 28)\n"
          ]
        }
      ]
    },
    {
      "cell_type": "code",
      "source": [
        "x_train=x_train/255.0\n",
        "x_test=x_test/255.0"
      ],
      "metadata": {
        "id": "O3NV6fII6xtf"
      },
      "execution_count": 34,
      "outputs": []
    },
    {
      "cell_type": "markdown",
      "source": [
        "**Do we want this layer to return sequences?**\n",
        "\n",
        "> Sequences like in the input or do we want this layer to return something flat. So if we are going to a dense layer, we wouldn't want to return sequences because the dense is not going to understand sequences. \n",
        "\n",
        ">If we are going to another recurrent layer then we definitely want to return those sequences."
      ],
      "metadata": {
        "id": "LoKLSmIs2INo"
      }
    },
    {
      "cell_type": "markdown",
      "source": [
        "# Decay\n",
        "\n",
        "> Over time every batch it's going to shrink/decay the learning rate a little bit. So it's going to shrink that learning rate and the model is going to take smaller steps."
      ],
      "metadata": {
        "id": "CGnUjom_4UJG"
      }
    },
    {
      "cell_type": "markdown",
      "source": [
        "# LSTM"
      ],
      "metadata": {
        "id": "kh-o8GD76_yu"
      }
    },
    {
      "cell_type": "code",
      "source": [
        "model= Sequential()\n",
        "model.add(LSTM(128,input_shape=(x_train.shape[1:]), activation='relu', return_sequences=True))\n",
        "model.add(Dropout(0.2))\n",
        "\n",
        "model.add(LSTM(128, activation='relu'))\n",
        "model.add(Dropout(0.2))\n",
        "\n",
        "model.add(Dense(32, activation='relu'))\n",
        "model.add(Dropout(0.2))\n",
        "\n",
        "model.add(Dense(10, activation='softmax'))\n",
        "\n",
        "opt= tf.keras.optimizers.Adam(learning_rate=1e-3, decay=1e-5)\n",
        "\n",
        "model.compile(loss='sparse_categorical_crossentropy', optimizer=opt, metrics=['accuracy'])\n",
        "\n",
        "model.fit(x_train,y_train, epochs=3, validation_data=(x_test,y_test))"
      ],
      "metadata": {
        "colab": {
          "base_uri": "https://localhost:8080/"
        },
        "id": "xgJLFt-rzsn7",
        "outputId": "fcac3845-22c7-4db9-d1b3-8c9901551237"
      },
      "execution_count": 35,
      "outputs": [
        {
          "output_type": "stream",
          "name": "stdout",
          "text": [
            "WARNING:tensorflow:Layer lstm_8 will not use cuDNN kernels since it doesn't meet the criteria. It will use a generic GPU kernel as fallback when running on GPU.\n",
            "WARNING:tensorflow:Layer lstm_9 will not use cuDNN kernels since it doesn't meet the criteria. It will use a generic GPU kernel as fallback when running on GPU.\n",
            "Epoch 1/3\n",
            "1875/1875 [==============================] - 90s 47ms/step - loss: 0.6850 - accuracy: 0.7733 - val_loss: 0.2281 - val_accuracy: 0.9337\n",
            "Epoch 2/3\n",
            "1875/1875 [==============================] - 87s 46ms/step - loss: 0.1650 - accuracy: 0.9541 - val_loss: 0.1086 - val_accuracy: 0.9698\n",
            "Epoch 3/3\n",
            "1875/1875 [==============================] - 86s 46ms/step - loss: 0.1620 - accuracy: 0.9562 - val_loss: 0.0756 - val_accuracy: 0.9774\n"
          ]
        },
        {
          "output_type": "execute_result",
          "data": {
            "text/plain": [
              "<keras.callbacks.History at 0x7f7cb2567d90>"
            ]
          },
          "metadata": {},
          "execution_count": 35
        }
      ]
    },
    {
      "cell_type": "markdown",
      "source": [
        "# cudNNLSTM"
      ],
      "metadata": {
        "id": "M0WADmnI7Chd"
      }
    },
    {
      "cell_type": "code",
      "source": [
        "model= Sequential()\n",
        "model.add(CuDNNLSTM(128,input_shape=(x_train.shape[1:]), return_sequences=True))\n",
        "model.add(Dropout(0.2))\n",
        "\n",
        "model.add(CuDNNLSTM(128,))\n",
        "model.add(Dropout(0.2))\n",
        "\n",
        "model.add(Dense(32, activation='relu'))\n",
        "model.add(Dropout(0.2))\n",
        "\n",
        "model.add(Dense(10, activation='softmax'))\n",
        "\n",
        "opt= tf.keras.optimizers.Adam(learning_rate=1e-3, decay=1e-5)\n",
        "\n",
        "model.compile(loss='sparse_categorical_crossentropy', optimizer=opt, metrics=['accuracy'])\n",
        "\n",
        "model.fit(x_train,y_train, epochs=3, validation_data=(x_test,y_test))"
      ],
      "metadata": {
        "colab": {
          "base_uri": "https://localhost:8080/"
        },
        "id": "KU-aW0UM6Qcv",
        "outputId": "fb62521e-e3e0-40fd-e1bd-3d4732aa0094"
      },
      "execution_count": 37,
      "outputs": [
        {
          "output_type": "stream",
          "name": "stdout",
          "text": [
            "Epoch 1/3\n",
            "1875/1875 [==============================] - 77s 7ms/step - loss: 0.4079 - accuracy: 0.8762 - val_loss: 0.1333 - val_accuracy: 0.9578\n",
            "Epoch 2/3\n",
            "1875/1875 [==============================] - 13s 7ms/step - loss: 0.1307 - accuracy: 0.9659 - val_loss: 0.0738 - val_accuracy: 0.9783\n",
            "Epoch 3/3\n",
            "1875/1875 [==============================] - 13s 7ms/step - loss: 0.0896 - accuracy: 0.9760 - val_loss: 0.0744 - val_accuracy: 0.9788\n"
          ]
        },
        {
          "output_type": "execute_result",
          "data": {
            "text/plain": [
              "<keras.callbacks.History at 0x7f7c7f70a7d0>"
            ]
          },
          "metadata": {},
          "execution_count": 37
        }
      ]
    },
    {
      "cell_type": "code",
      "source": [
        "model= Sequential()\n",
        "model.add(CuDNNLSTM(128,input_shape=(x_train.shape[1:]), return_sequences=True))\n",
        "model.add(Dropout(0.2))\n",
        "\n",
        "model.add(CuDNNLSTM(128,))\n",
        "model.add(Dropout(0.2))\n",
        "\n",
        "model.add(Dense(32, activation='relu'))\n",
        "model.add(Dropout(0.2))\n",
        "\n",
        "model.add(Dense(10, activation='softmax'))\n",
        "\n",
        "opt= tf.keras.optimizers.Adam(learning_rate=1e-3, decay=1e-5)\n",
        "\n",
        "model.compile(loss='sparse_categorical_crossentropy', optimizer=opt, metrics=['accuracy'])\n",
        "\n",
        "model.fit(x_train,y_train, epochs=10, validation_data=(x_test,y_test))"
      ],
      "metadata": {
        "colab": {
          "base_uri": "https://localhost:8080/"
        },
        "id": "9Tef9TVM-XYS",
        "outputId": "9989ea6c-edcb-46c3-c286-c64b54dd578a"
      },
      "execution_count": 38,
      "outputs": [
        {
          "output_type": "stream",
          "name": "stdout",
          "text": [
            "Epoch 1/10\n",
            "1875/1875 [==============================] - 15s 7ms/step - loss: 0.4283 - accuracy: 0.8684 - val_loss: 0.1117 - val_accuracy: 0.9663\n",
            "Epoch 2/10\n",
            "1875/1875 [==============================] - 13s 7ms/step - loss: 0.1260 - accuracy: 0.9664 - val_loss: 0.0768 - val_accuracy: 0.9762\n",
            "Epoch 3/10\n",
            "1875/1875 [==============================] - 13s 7ms/step - loss: 0.0861 - accuracy: 0.9772 - val_loss: 0.0849 - val_accuracy: 0.9764\n",
            "Epoch 4/10\n",
            "1875/1875 [==============================] - 13s 7ms/step - loss: 0.0681 - accuracy: 0.9817 - val_loss: 0.0452 - val_accuracy: 0.9867\n",
            "Epoch 5/10\n",
            "1875/1875 [==============================] - 13s 7ms/step - loss: 0.0539 - accuracy: 0.9857 - val_loss: 0.0651 - val_accuracy: 0.9810\n",
            "Epoch 6/10\n",
            "1875/1875 [==============================] - 13s 7ms/step - loss: 0.0485 - accuracy: 0.9871 - val_loss: 0.0871 - val_accuracy: 0.9779\n",
            "Epoch 7/10\n",
            "1875/1875 [==============================] - 13s 7ms/step - loss: 0.0415 - accuracy: 0.9895 - val_loss: 0.0456 - val_accuracy: 0.9867\n",
            "Epoch 8/10\n",
            "1875/1875 [==============================] - 14s 7ms/step - loss: 0.0369 - accuracy: 0.9900 - val_loss: 0.0535 - val_accuracy: 0.9859\n",
            "Epoch 9/10\n",
            "1875/1875 [==============================] - 13s 7ms/step - loss: 0.0350 - accuracy: 0.9903 - val_loss: 0.0412 - val_accuracy: 0.9887\n",
            "Epoch 10/10\n",
            "1875/1875 [==============================] - 13s 7ms/step - loss: 0.0274 - accuracy: 0.9927 - val_loss: 0.0444 - val_accuracy: 0.9887\n"
          ]
        },
        {
          "output_type": "execute_result",
          "data": {
            "text/plain": [
              "<keras.callbacks.History at 0x7f7ccc2accd0>"
            ]
          },
          "metadata": {},
          "execution_count": 38
        }
      ]
    },
    {
      "cell_type": "code",
      "source": [
        ""
      ],
      "metadata": {
        "id": "kp2g0lLE-YaS"
      },
      "execution_count": null,
      "outputs": []
    }
  ]
}