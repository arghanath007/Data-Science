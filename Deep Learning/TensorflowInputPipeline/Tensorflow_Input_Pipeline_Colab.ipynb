{
  "nbformat": 4,
  "nbformat_minor": 0,
  "metadata": {
    "colab": {
      "name": "Tensorflow_Input_Pipeline.ipynb",
      "provenance": [],
      "collapsed_sections": []
    },
    "kernelspec": {
      "name": "python3",
      "display_name": "Python 3"
    },
    "language_info": {
      "name": "python"
    },
    "accelerator": "GPU"
  },
  "cells": [
    {
      "cell_type": "markdown",
      "source": [
        "# Creating a Tensorflow Input Pipeline\n"
      ],
      "metadata": {
        "id": "8LGgFLnJGkPq"
      }
    },
    {
      "cell_type": "code",
      "source": [
        "import tensorflow as tf\n",
        "import numpy as np"
      ],
      "metadata": {
        "id": "qotq1p49HP_d"
      },
      "execution_count": 1,
      "outputs": []
    },
    {
      "cell_type": "code",
      "source": [
        "daily_sales_numbers=[21,22,-108,31,-1,32,34,31] # Python List"
      ],
      "metadata": {
        "id": "mzZwzD10HbUu"
      },
      "execution_count": 2,
      "outputs": []
    },
    {
      "cell_type": "markdown",
      "source": [
        "## Creating a Tensorflow Dataset or tensors\n",
        "\n",
        "> Individual element in the tensorflow dataset is called as a tensor."
      ],
      "metadata": {
        "id": "n7ny67xnIGnT"
      }
    },
    {
      "cell_type": "code",
      "source": [
        "tf_dataset=tf.data.Dataset.from_tensor_slices(daily_sales_numbers)\n",
        "tf_dataset"
      ],
      "metadata": {
        "colab": {
          "base_uri": "https://localhost:8080/"
        },
        "id": "Ta6rqlFEI1Ys",
        "outputId": "348ff9ee-ea45-4b42-e3c2-a4d5cc00e4f0"
      },
      "execution_count": 3,
      "outputs": [
        {
          "output_type": "execute_result",
          "data": {
            "text/plain": [
              "<TensorSliceDataset shapes: (), types: tf.int32>"
            ]
          },
          "metadata": {},
          "execution_count": 3
        }
      ]
    },
    {
      "cell_type": "code",
      "source": [
        "tensors=[]\n",
        "for tensor in tf_dataset:\n",
        "  tensors.append(tensor)\n",
        "  print(tensor)"
      ],
      "metadata": {
        "colab": {
          "base_uri": "https://localhost:8080/"
        },
        "id": "iLgwFMplJAhk",
        "outputId": "27b127c3-e9c0-40c9-9dce-7522684a95d8"
      },
      "execution_count": 4,
      "outputs": [
        {
          "output_type": "stream",
          "name": "stdout",
          "text": [
            "tf.Tensor(21, shape=(), dtype=int32)\n",
            "tf.Tensor(22, shape=(), dtype=int32)\n",
            "tf.Tensor(-108, shape=(), dtype=int32)\n",
            "tf.Tensor(31, shape=(), dtype=int32)\n",
            "tf.Tensor(-1, shape=(), dtype=int32)\n",
            "tf.Tensor(32, shape=(), dtype=int32)\n",
            "tf.Tensor(34, shape=(), dtype=int32)\n",
            "tf.Tensor(31, shape=(), dtype=int32)\n"
          ]
        }
      ]
    },
    {
      "cell_type": "markdown",
      "source": [
        "## Converting the individual tensor into numpy object."
      ],
      "metadata": {
        "id": "kXYmbMonJXaD"
      }
    },
    {
      "cell_type": "code",
      "source": [
        "for tensor in tf_dataset:\n",
        "  print(tensor.numpy())"
      ],
      "metadata": {
        "colab": {
          "base_uri": "https://localhost:8080/"
        },
        "id": "tFtY0O9OKp_V",
        "outputId": "a426c626-aee6-4fe6-86a1-53c5453b6b84"
      },
      "execution_count": 5,
      "outputs": [
        {
          "output_type": "stream",
          "name": "stdout",
          "text": [
            "21\n",
            "22\n",
            "-108\n",
            "31\n",
            "-1\n",
            "32\n",
            "34\n",
            "31\n"
          ]
        }
      ]
    },
    {
      "cell_type": "code",
      "source": [
        "for tensor in tf_dataset.as_numpy_iterator():\n",
        "  print(tensor)"
      ],
      "metadata": {
        "colab": {
          "base_uri": "https://localhost:8080/"
        },
        "id": "iNvsA_vVK3Xl",
        "outputId": "3137556c-9424-4041-8c83-b8f89087e3ad"
      },
      "execution_count": 6,
      "outputs": [
        {
          "output_type": "stream",
          "name": "stdout",
          "text": [
            "21\n",
            "22\n",
            "-108\n",
            "31\n",
            "-1\n",
            "32\n",
            "34\n",
            "31\n"
          ]
        }
      ]
    },
    {
      "cell_type": "code",
      "source": [
        "# tensors"
      ],
      "metadata": {
        "id": "IDPwdOF4JpYg"
      },
      "execution_count": 7,
      "outputs": []
    },
    {
      "cell_type": "code",
      "source": [
        "# np.array(tensors)"
      ],
      "metadata": {
        "id": "t8ZpXf_3JvBr"
      },
      "execution_count": 8,
      "outputs": []
    },
    {
      "cell_type": "code",
      "source": [
        " for sale in tf_dataset.take(3):\n",
        "   print(sale.numpy())"
      ],
      "metadata": {
        "colab": {
          "base_uri": "https://localhost:8080/"
        },
        "id": "GJqoqZPSKbMd",
        "outputId": "4158b81f-2001-4afa-ac5f-a49e69d8fdbd"
      },
      "execution_count": 9,
      "outputs": [
        {
          "output_type": "stream",
          "name": "stdout",
          "text": [
            "21\n",
            "22\n",
            "-108\n"
          ]
        }
      ]
    },
    {
      "cell_type": "markdown",
      "source": [
        "## Filtering the invalid data points\n",
        "\n",
        "> As we are building the Tensorflow pipeline, we need to get rid of the invalid data points and we can do so by 'filtering' them out. We can do so by using the `.filter()` and suppling the filter function that we have created to it."
      ],
      "metadata": {
        "id": "nC4nawD6LjhR"
      }
    },
    {
      "cell_type": "code",
      "source": [
        "tf_dataset_filtered=tf_dataset.filter(lambda x: x>0)\n",
        "for data in tf_dataset_filtered.as_numpy_iterator():\n",
        "  print(data)"
      ],
      "metadata": {
        "colab": {
          "base_uri": "https://localhost:8080/"
        },
        "id": "dvdSm2KgMEjQ",
        "outputId": "c68ea243-ce0d-4c44-9428-58b2d9d192a1"
      },
      "execution_count": 10,
      "outputs": [
        {
          "output_type": "stream",
          "name": "stdout",
          "text": [
            "21\n",
            "22\n",
            "31\n",
            "32\n",
            "34\n",
            "31\n"
          ]
        }
      ]
    },
    {
      "cell_type": "markdown",
      "source": [
        "## Applying transformation to filtered data\n",
        "\n",
        "> The data points are in `dollars(\\$)` and we want to convert them into `INR(Indian Rupees)` as we are analyzing the Indian market. `1$= 75INR`\n",
        "\n",
        "We are going to use the `.map()`"
      ],
      "metadata": {
        "id": "ifoFlcCcNGdK"
      }
    },
    {
      "cell_type": "code",
      "source": [
        "tf_dataset_transformed=tf_dataset_filtered.map(lambda x: x*75)\n",
        "for data in tf_dataset_transformed.as_numpy_iterator():\n",
        "  print(data)"
      ],
      "metadata": {
        "colab": {
          "base_uri": "https://localhost:8080/"
        },
        "id": "8XNYf1JjNuIC",
        "outputId": "c2347b85-7c1b-4d76-f89d-2c9a4b79dd40"
      },
      "execution_count": 11,
      "outputs": [
        {
          "output_type": "stream",
          "name": "stdout",
          "text": [
            "1575\n",
            "1650\n",
            "2325\n",
            "2400\n",
            "2550\n",
            "2325\n"
          ]
        }
      ]
    },
    {
      "cell_type": "markdown",
      "source": [
        "## Randomly Shuffle the elements\n",
        "\n",
        "> We want to randomly shuffle the elements when we are doing image classification especially because when we are training on the elements, we have to make sure that the model doesn't learn based on the numbering or arrangements of the elements(images here) in the dataset. That's we do shuffling on the dataset."
      ],
      "metadata": {
        "id": "3JeP5JKCOZwl"
      }
    },
    {
      "cell_type": "code",
      "source": [
        "tf_dataset_shuffled=tf_dataset_transformed.shuffle(3) # '3' is the buffer size of the shuffle().\n",
        "for data in tf_dataset_shuffled.as_numpy_iterator():\n",
        "  print(data)"
      ],
      "metadata": {
        "colab": {
          "base_uri": "https://localhost:8080/"
        },
        "id": "-Nb2ar4ePfua",
        "outputId": "73c084c8-57c3-4c8f-d104-63851b58bf13"
      },
      "execution_count": 12,
      "outputs": [
        {
          "output_type": "stream",
          "name": "stdout",
          "text": [
            "1575\n",
            "1650\n",
            "2400\n",
            "2325\n",
            "2550\n",
            "2325\n"
          ]
        }
      ]
    },
    {
      "cell_type": "code",
      "source": [
        "tf_dataset_shuffled=tf_dataset_transformed.shuffle(3)\n",
        "for data in tf_dataset_shuffled.as_numpy_iterator():\n",
        "  print(data)"
      ],
      "metadata": {
        "colab": {
          "base_uri": "https://localhost:8080/"
        },
        "id": "nu0eJAeMP3at",
        "outputId": "36665e7f-ae98-4876-b48d-32190279de25"
      },
      "execution_count": 13,
      "outputs": [
        {
          "output_type": "stream",
          "name": "stdout",
          "text": [
            "1650\n",
            "2400\n",
            "1575\n",
            "2325\n",
            "2550\n",
            "2325\n"
          ]
        }
      ]
    },
    {
      "cell_type": "code",
      "source": [
        "tf_dataset_shuffled=tf_dataset_transformed.shuffle(2)\n",
        "for data in tf_dataset_shuffled.as_numpy_iterator():\n",
        "  print(data)"
      ],
      "metadata": {
        "colab": {
          "base_uri": "https://localhost:8080/"
        },
        "id": "GisHdkPNP42Q",
        "outputId": "155465ce-f0a9-4a84-fac7-c784ae82ffbb"
      },
      "execution_count": 14,
      "outputs": [
        {
          "output_type": "stream",
          "name": "stdout",
          "text": [
            "1575\n",
            "2325\n",
            "1650\n",
            "2400\n",
            "2550\n",
            "2325\n"
          ]
        }
      ]
    },
    {
      "cell_type": "code",
      "source": [
        "for batch in tf_dataset_shuffled:\n",
        "  print(batch.numpy())"
      ],
      "metadata": {
        "colab": {
          "base_uri": "https://localhost:8080/"
        },
        "id": "0Y1HIBNpP6t6",
        "outputId": "dc4a3eb1-f569-43d3-c296-a4d90200bfc2"
      },
      "execution_count": 15,
      "outputs": [
        {
          "output_type": "stream",
          "name": "stdout",
          "text": [
            "1575\n",
            "1650\n",
            "2325\n",
            "2400\n",
            "2550\n",
            "2325\n"
          ]
        }
      ]
    },
    {
      "cell_type": "markdown",
      "source": [
        "## Creating batches of the dataset\n",
        "\n",
        "> We are creating batches of the dataset for easier computation and processing of the dataset, if the dataset is huge."
      ],
      "metadata": {
        "id": "RzcI9-1oZZPk"
      }
    },
    {
      "cell_type": "code",
      "source": [
        "for batch in tf_dataset_shuffled.batch(2): # '2' is the batch size\n",
        "  print(batch.numpy())"
      ],
      "metadata": {
        "colab": {
          "base_uri": "https://localhost:8080/"
        },
        "id": "VBmB_cnQZQ0P",
        "outputId": "7cd6de54-b7c9-4cb2-c481-291697ca6e73"
      },
      "execution_count": 16,
      "outputs": [
        {
          "output_type": "stream",
          "name": "stdout",
          "text": [
            "[1650 2325]\n",
            "[2400 2550]\n",
            "[2325 1575]\n"
          ]
        }
      ]
    },
    {
      "cell_type": "code",
      "source": [
        "for batch in tf_dataset_shuffled.batch(4):\n",
        "  print(batch.numpy())"
      ],
      "metadata": {
        "id": "Tk5rR_XvZqOn",
        "colab": {
          "base_uri": "https://localhost:8080/"
        },
        "outputId": "208ea8fa-3785-4dd4-ff1b-29b7679b8200"
      },
      "execution_count": 17,
      "outputs": [
        {
          "output_type": "stream",
          "name": "stdout",
          "text": [
            "[1650 1575 2325 2400]\n",
            "[2325 2550]\n"
          ]
        }
      ]
    },
    {
      "cell_type": "markdown",
      "source": [
        "## Tensorflow Input Pipeline Code\n",
        "\n",
        "> We are reading the data from the data source and then we are doing filtering, mapping, shuffling, and finally creating batches of the data."
      ],
      "metadata": {
        "id": "sXgoQx6zLr1Y"
      }
    },
    {
      "cell_type": "code",
      "source": [
        "tf_dataset=tf.data.Dataset.from_tensor_slices(daily_sales_numbers)\n",
        "\n",
        "tf_dataset_processed=tf_dataset.filter(lambda x:x >0).map(lambda y:y*75).shuffle(2).batch(2)\n",
        "\n",
        "for data in tf_dataset_processed.as_numpy_iterator():\n",
        "  print(data)"
      ],
      "metadata": {
        "colab": {
          "base_uri": "https://localhost:8080/"
        },
        "id": "1sfPnpU5MoRI",
        "outputId": "329144a3-0c1b-435f-c7f8-df0acb20dca7"
      },
      "execution_count": 18,
      "outputs": [
        {
          "output_type": "stream",
          "name": "stdout",
          "text": [
            "[1650 1575]\n",
            "[2325 2550]\n",
            "[2400 2325]\n"
          ]
        }
      ]
    },
    {
      "cell_type": "markdown",
      "source": [
        "## Importing dataset of images(Fish and Birds)"
      ],
      "metadata": {
        "id": "khZKdpzENA-W"
      }
    },
    {
      "cell_type": "code",
      "source": [
        "images__path_dataset=tf.data.Dataset.list_files('/content/drive/MyDrive/Colab Notebooks/Images/*/*',shuffle=True) # Stored the Image paths\n",
        "\n",
        "\n",
        "for image in images__path_dataset.take(3):\n",
        "  print(image.numpy())"
      ],
      "metadata": {
        "colab": {
          "base_uri": "https://localhost:8080/"
        },
        "id": "bL3iev0BRxSn",
        "outputId": "18828002-4940-4e9a-e1dc-7d0ae5986718"
      },
      "execution_count": 22,
      "outputs": [
        {
          "output_type": "stream",
          "name": "stdout",
          "text": [
            "b'/content/drive/MyDrive/Colab Notebooks/Images/Fishs/proxy-image (4).jpg'\n",
            "b'/content/drive/MyDrive/Colab Notebooks/Images/Fishs/proxy-image (17).jpg'\n",
            "b'/content/drive/MyDrive/Colab Notebooks/Images/Birds/proxy-image (2).jpg'\n"
          ]
        }
      ]
    },
    {
      "cell_type": "markdown",
      "source": [
        "## Shuffling the images paths"
      ],
      "metadata": {
        "id": "0yjJSKasSQYz"
      }
    },
    {
      "cell_type": "code",
      "source": [
        "images__path_dataset_shuffle=images__path_dataset.shuffle(10)\n",
        "\n",
        "for path in images__path_dataset.take(5):\n",
        "  print(path.numpy()) "
      ],
      "metadata": {
        "colab": {
          "base_uri": "https://localhost:8080/"
        },
        "id": "xtW-BY44SruX",
        "outputId": "06a09836-8bb6-4b75-d50b-8e3b085e782a"
      },
      "execution_count": 23,
      "outputs": [
        {
          "output_type": "stream",
          "name": "stdout",
          "text": [
            "b'/content/drive/MyDrive/Colab Notebooks/Images/Birds/proxy-image.jpg'\n",
            "b'/content/drive/MyDrive/Colab Notebooks/Images/Fishs/proxy-image (22).jpg'\n",
            "b'/content/drive/MyDrive/Colab Notebooks/Images/Fishs/proxy-image (7).jpg'\n",
            "b'/content/drive/MyDrive/Colab Notebooks/Images/Birds/proxy-image (5).jpg'\n",
            "b'/content/drive/MyDrive/Colab Notebooks/Images/Birds/proxy-image (2).jpg'\n"
          ]
        }
      ]
    },
    {
      "cell_type": "code",
      "source": [
        "class_names= ['Fish','Bird']"
      ],
      "metadata": {
        "id": "x74wxopbS6gl"
      },
      "execution_count": 24,
      "outputs": []
    },
    {
      "cell_type": "code",
      "source": [
        "image_count=len(images__path_dataset_shuffle)\n",
        "image_count"
      ],
      "metadata": {
        "colab": {
          "base_uri": "https://localhost:8080/"
        },
        "id": "WY9n8sOATDXt",
        "outputId": "8b7112a3-58fa-4c1c-fe8b-ae5e48980778"
      },
      "execution_count": 26,
      "outputs": [
        {
          "output_type": "execute_result",
          "data": {
            "text/plain": [
              "46"
            ]
          },
          "metadata": {},
          "execution_count": 26
        }
      ]
    },
    {
      "cell_type": "code",
      "source": [
        "train_size=int(image_count*0.8)\n",
        "\n",
        "train_ds=images__path_dataset_shuffle.take(train_size)\n",
        "test_ds=images__path_dataset_shuffle.skip(train_size)"
      ],
      "metadata": {
        "id": "upp_0guhTITL"
      },
      "execution_count": 28,
      "outputs": []
    },
    {
      "cell_type": "code",
      "source": [
        "len(train_ds)"
      ],
      "metadata": {
        "colab": {
          "base_uri": "https://localhost:8080/"
        },
        "id": "vhhDTJsdTkc6",
        "outputId": "29328683-effb-41c6-e23c-9b16f9f55470"
      },
      "execution_count": 29,
      "outputs": [
        {
          "output_type": "execute_result",
          "data": {
            "text/plain": [
              "36"
            ]
          },
          "metadata": {},
          "execution_count": 29
        }
      ]
    },
    {
      "cell_type": "code",
      "source": [
        "len(test_ds)"
      ],
      "metadata": {
        "colab": {
          "base_uri": "https://localhost:8080/"
        },
        "id": "2RHEheAlTr8Y",
        "outputId": "27e4edef-ea65-44ca-a138-6527e70ba1fc"
      },
      "execution_count": 30,
      "outputs": [
        {
          "output_type": "execute_result",
          "data": {
            "text/plain": [
              "10"
            ]
          },
          "metadata": {},
          "execution_count": 30
        }
      ]
    },
    {
      "cell_type": "code",
      "source": [
        "s='/content/drive/MyDrive/Colab Notebooks/Images/Birds/proxy-image.jpg'\n",
        "\n",
        "s.split('/')"
      ],
      "metadata": {
        "colab": {
          "base_uri": "https://localhost:8080/"
        },
        "id": "4FIKAUzVTtJ0",
        "outputId": "d66257d9-5e11-404f-85e3-aeeba006eadd"
      },
      "execution_count": 33,
      "outputs": [
        {
          "output_type": "execute_result",
          "data": {
            "text/plain": [
              "['',\n",
              " 'content',\n",
              " 'drive',\n",
              " 'MyDrive',\n",
              " 'Colab Notebooks',\n",
              " 'Images',\n",
              " 'Birds',\n",
              " 'proxy-image.jpg']"
            ]
          },
          "metadata": {},
          "execution_count": 33
        }
      ]
    },
    {
      "cell_type": "code",
      "source": [
        "s.split('/')[6]"
      ],
      "metadata": {
        "colab": {
          "base_uri": "https://localhost:8080/",
          "height": 37
        },
        "id": "Enx94xbRVGbc",
        "outputId": "900168a5-d51a-43b3-d7e8-7d0b69b5265c"
      },
      "execution_count": 39,
      "outputs": [
        {
          "output_type": "execute_result",
          "data": {
            "application/vnd.google.colaboratory.intrinsic+json": {
              "type": "string"
            },
            "text/plain": [
              "'Birds'"
            ]
          },
          "metadata": {},
          "execution_count": 39
        }
      ]
    },
    {
      "cell_type": "code",
      "source": [
        "s.split('/')[-2]"
      ],
      "metadata": {
        "colab": {
          "base_uri": "https://localhost:8080/",
          "height": 37
        },
        "id": "ZYFcX1ZaVPBW",
        "outputId": "1219bc76-37b4-427b-bfd2-2657e3d687e7"
      },
      "execution_count": 40,
      "outputs": [
        {
          "output_type": "execute_result",
          "data": {
            "application/vnd.google.colaboratory.intrinsic+json": {
              "type": "string"
            },
            "text/plain": [
              "'Birds'"
            ]
          },
          "metadata": {},
          "execution_count": 40
        }
      ]
    },
    {
      "cell_type": "markdown",
      "source": [
        "## Getting all the labels('y') of the images\n",
        "\n",
        "`y_train`"
      ],
      "metadata": {
        "id": "Tykd-4TDWkxw"
      }
    },
    {
      "cell_type": "code",
      "source": [
        "def get_label(file_path):\n",
        "    import os\n",
        "    parts = tf.strings.split(file_path, os.path.sep) # OS separator\n",
        "    return parts[-2]"
      ],
      "metadata": {
        "id": "t_dQL8_1VdHQ"
      },
      "execution_count": 41,
      "outputs": []
    },
    {
      "cell_type": "code",
      "source": [
        "for ele in train_ds.take(4):\n",
        "  print(ele.numpy())"
      ],
      "metadata": {
        "colab": {
          "base_uri": "https://localhost:8080/"
        },
        "id": "DF3kGuJ3VsSN",
        "outputId": "2a6c855d-7983-43dd-8e44-07278759aa01"
      },
      "execution_count": 42,
      "outputs": [
        {
          "output_type": "stream",
          "name": "stdout",
          "text": [
            "b'/content/drive/MyDrive/Colab Notebooks/Images/Fishs/proxy-image (3).jpg'\n",
            "b'/content/drive/MyDrive/Colab Notebooks/Images/Fishs/proxy-image (5).jpg'\n",
            "b'/content/drive/MyDrive/Colab Notebooks/Images/Fishs/proxy-image (27).jpg'\n",
            "b'/content/drive/MyDrive/Colab Notebooks/Images/Fishs/proxy-image (8).jpg'\n"
          ]
        }
      ]
    },
    {
      "cell_type": "code",
      "source": [
        "for label in train_ds.map(get_label):\n",
        "  print(label) # 'y' or labels of the images"
      ],
      "metadata": {
        "colab": {
          "base_uri": "https://localhost:8080/"
        },
        "id": "5QHmMvPwVi9n",
        "outputId": "6d2e5d70-587d-4215-9a39-4bee76559678"
      },
      "execution_count": 44,
      "outputs": [
        {
          "output_type": "stream",
          "name": "stdout",
          "text": [
            "tf.Tensor(b'Fishs', shape=(), dtype=string)\n",
            "tf.Tensor(b'Fishs', shape=(), dtype=string)\n",
            "tf.Tensor(b'Fishs', shape=(), dtype=string)\n",
            "tf.Tensor(b'Fishs', shape=(), dtype=string)\n",
            "tf.Tensor(b'Fishs', shape=(), dtype=string)\n",
            "tf.Tensor(b'Fishs', shape=(), dtype=string)\n",
            "tf.Tensor(b'Fishs', shape=(), dtype=string)\n",
            "tf.Tensor(b'Fishs', shape=(), dtype=string)\n",
            "tf.Tensor(b'Fishs', shape=(), dtype=string)\n",
            "tf.Tensor(b'Fishs', shape=(), dtype=string)\n",
            "tf.Tensor(b'Fishs', shape=(), dtype=string)\n",
            "tf.Tensor(b'Fishs', shape=(), dtype=string)\n",
            "tf.Tensor(b'Birds', shape=(), dtype=string)\n",
            "tf.Tensor(b'Fishs', shape=(), dtype=string)\n",
            "tf.Tensor(b'Fishs', shape=(), dtype=string)\n",
            "tf.Tensor(b'Birds', shape=(), dtype=string)\n",
            "tf.Tensor(b'Birds', shape=(), dtype=string)\n",
            "tf.Tensor(b'Fishs', shape=(), dtype=string)\n",
            "tf.Tensor(b'Birds', shape=(), dtype=string)\n",
            "tf.Tensor(b'Birds', shape=(), dtype=string)\n",
            "tf.Tensor(b'Birds', shape=(), dtype=string)\n",
            "tf.Tensor(b'Fishs', shape=(), dtype=string)\n",
            "tf.Tensor(b'Fishs', shape=(), dtype=string)\n",
            "tf.Tensor(b'Birds', shape=(), dtype=string)\n",
            "tf.Tensor(b'Birds', shape=(), dtype=string)\n",
            "tf.Tensor(b'Fishs', shape=(), dtype=string)\n",
            "tf.Tensor(b'Birds', shape=(), dtype=string)\n",
            "tf.Tensor(b'Fishs', shape=(), dtype=string)\n",
            "tf.Tensor(b'Fishs', shape=(), dtype=string)\n",
            "tf.Tensor(b'Birds', shape=(), dtype=string)\n",
            "tf.Tensor(b'Birds', shape=(), dtype=string)\n",
            "tf.Tensor(b'Fishs', shape=(), dtype=string)\n",
            "tf.Tensor(b'Birds', shape=(), dtype=string)\n",
            "tf.Tensor(b'Fishs', shape=(), dtype=string)\n",
            "tf.Tensor(b'Birds', shape=(), dtype=string)\n",
            "tf.Tensor(b'Fishs', shape=(), dtype=string)\n"
          ]
        }
      ]
    },
    {
      "cell_type": "markdown",
      "source": [
        "## Getting the images('X')\n",
        "\n",
        "`X_Train`"
      ],
      "metadata": {
        "id": "oEKQryXqWro1"
      }
    },
    {
      "cell_type": "code",
      "source": [
        "def process_image(file_path):\n",
        "    label = get_label(file_path)\n",
        "    img = tf.io.read_file(file_path) # load the raw data from the file as a string\n",
        "    img = tf.image.decode_jpeg(img) # To decode the jpeg image\n",
        "    img = tf.image.resize(img, [128, 128]) # Since images are of different sizes and make them of a particular size\n",
        "    return img, label"
      ],
      "metadata": {
        "id": "0u8I6DEQWHea"
      },
      "execution_count": 45,
      "outputs": []
    },
    {
      "cell_type": "code",
      "source": [
        "train_ds=train_ds.map(process_image)\n",
        "for img, label in train_ds.take(1):\n",
        "  print('Image: ', img)\n",
        "  print('Label:', label)"
      ],
      "metadata": {
        "colab": {
          "base_uri": "https://localhost:8080/"
        },
        "id": "P_9eNowZW8Et",
        "outputId": "554c8041-a320-4c4c-bfaf-bd36d87d2214"
      },
      "execution_count": 48,
      "outputs": [
        {
          "output_type": "stream",
          "name": "stdout",
          "text": [
            "Image:  tf.Tensor(\n",
            "[[[137.48956  141.48956  142.48956 ]\n",
            "  [135.31145  139.31145  140.31145 ]\n",
            "  [149.26935  153.26935  154.26935 ]\n",
            "  ...\n",
            "  [151.86183  151.86183  151.86183 ]\n",
            "  [146.57236  146.57236  146.57236 ]\n",
            "  [154.25023  154.25023  154.25023 ]]\n",
            "\n",
            " [[122.55214  126.55214  127.55214 ]\n",
            "  [136.10118  140.10118  141.10118 ]\n",
            "  [130.9139   134.9139   135.9139  ]\n",
            "  ...\n",
            "  [157.04028  157.04028  157.04028 ]\n",
            "  [159.89548  159.89548  159.89548 ]\n",
            "  [150.10751  150.10751  150.10751 ]]\n",
            "\n",
            " [[146.03787  150.03787  151.03787 ]\n",
            "  [135.00319  139.00319  140.00319 ]\n",
            "  [120.23625  124.23625  125.23625 ]\n",
            "  ...\n",
            "  [156.134    156.134    156.134   ]\n",
            "  [169.74219  169.74219  169.74219 ]\n",
            "  [165.50606  165.50606  165.50606 ]]\n",
            "\n",
            " ...\n",
            "\n",
            " [[137.59897  141.59897  142.59897 ]\n",
            "  [132.61583  136.61583  137.61583 ]\n",
            "  [133.05469  137.05469  138.05469 ]\n",
            "  ...\n",
            "  [ 94.110565  94.110565  94.110565]\n",
            "  [105.31386  105.31386  105.31386 ]\n",
            "  [ 92.24574   92.24574   92.24574 ]]\n",
            "\n",
            " [[147.51054  151.51054  152.51054 ]\n",
            "  [142.27975  146.27975  147.27975 ]\n",
            "  [124.62979  128.62979  129.62979 ]\n",
            "  ...\n",
            "  [ 83.192764  83.192764  83.192764]\n",
            "  [101.69142  101.69142  101.69142 ]\n",
            "  [ 92.98047   92.98047   92.98047 ]]\n",
            "\n",
            " [[138.73997  142.73997  143.73997 ]\n",
            "  [150.16034  154.16034  155.16034 ]\n",
            "  [117.62079  121.62079  122.62079 ]\n",
            "  ...\n",
            "  [ 99.80464   99.80464   99.80464 ]\n",
            "  [ 94.10504   94.10504   94.10504 ]\n",
            "  [109.29851  109.29851  109.29851 ]]], shape=(128, 128, 3), dtype=float32)\n",
            "Label: tf.Tensor(b'Fishs', shape=(), dtype=string)\n"
          ]
        }
      ]
    },
    {
      "cell_type": "markdown",
      "source": [
        "## Scaling the images between 0-1"
      ],
      "metadata": {
        "id": "-8yDr2o6Xd7W"
      }
    },
    {
      "cell_type": "code",
      "source": [
        "def scale(image, label):\n",
        "  return image/255, label"
      ],
      "metadata": {
        "id": "BFItW1YyXvem"
      },
      "execution_count": 49,
      "outputs": []
    },
    {
      "cell_type": "code",
      "source": [
        "train_ds=train_ds.map(scale)\n",
        "for image, label in train_ds.take(5):\n",
        "  print(\"Image: \", image.numpy()[0][0])\n",
        "  print(\"Label: \", image.numpy())"
      ],
      "metadata": {
        "colab": {
          "base_uri": "https://localhost:8080/"
        },
        "id": "C0INVlnRaIom",
        "outputId": "48091d01-6d6f-43d7-f80f-1054ef60f7c2"
      },
      "execution_count": 51,
      "outputs": [
        {
          "output_type": "stream",
          "name": "stdout",
          "text": [
            "Image:  [1.         0.99607843 1.        ]\n",
            "Label:  [[[1.         0.99607843 1.        ]\n",
            "  [1.         0.99607843 1.        ]\n",
            "  [1.         0.99897367 1.        ]\n",
            "  ...\n",
            "  [1.         1.         1.        ]\n",
            "  [1.         1.         1.        ]\n",
            "  [1.         1.         1.        ]]\n",
            "\n",
            " [[1.         0.99607843 1.        ]\n",
            "  [1.         0.99607843 1.        ]\n",
            "  [1.         0.99897367 1.        ]\n",
            "  ...\n",
            "  [1.         1.         1.        ]\n",
            "  [1.         1.         1.        ]\n",
            "  [1.         1.         1.        ]]\n",
            "\n",
            " [[1.         0.99607843 1.        ]\n",
            "  [1.         0.99607843 1.        ]\n",
            "  [1.         0.99897367 1.        ]\n",
            "  ...\n",
            "  [1.         1.         1.        ]\n",
            "  [1.         1.         1.        ]\n",
            "  [1.         1.         1.        ]]\n",
            "\n",
            " ...\n",
            "\n",
            " [[1.         1.         1.        ]\n",
            "  [1.         1.         1.        ]\n",
            "  [1.         1.         1.        ]\n",
            "  ...\n",
            "  [1.         1.         1.        ]\n",
            "  [1.         1.         1.        ]\n",
            "  [1.         1.         1.        ]]\n",
            "\n",
            " [[1.         1.         1.        ]\n",
            "  [1.         1.         1.        ]\n",
            "  [1.         1.         1.        ]\n",
            "  ...\n",
            "  [1.         1.         1.        ]\n",
            "  [1.         1.         1.        ]\n",
            "  [1.         1.         1.        ]]\n",
            "\n",
            " [[1.         1.         1.        ]\n",
            "  [1.         1.         1.        ]\n",
            "  [1.         1.         1.        ]\n",
            "  ...\n",
            "  [1.         1.         1.        ]\n",
            "  [1.         1.         1.        ]\n",
            "  [1.         1.         1.        ]]]\n",
            "Image:  [0.48106617 0.5516544  0.5045956 ]\n",
            "Label:  [[[0.48106617 0.5516544  0.5045956 ]\n",
            "  [0.48633578 0.55692405 0.5098652 ]\n",
            "  [0.49372512 0.56431335 0.51725453]\n",
            "  ...\n",
            "  [0.41960785 0.47843137 0.3254902 ]\n",
            "  [0.41574755 0.47457108 0.3216299 ]\n",
            "  [0.41568628 0.4745098  0.32156864]]\n",
            "\n",
            " [[0.4798311  0.55041933 0.5033605 ]\n",
            "  [0.48630705 0.5568953  0.5098365 ]\n",
            "  [0.4916054  0.56219363 0.5151348 ]\n",
            "  ...\n",
            "  [0.4177696  0.47659314 0.32365197]\n",
            "  [0.41390932 0.47273284 0.31979167]\n",
            "  [0.41384804 0.47267157 0.3197304 ]]\n",
            "\n",
            " [[0.47742608 0.54801434 0.5009555 ]\n",
            "  [0.48325866 0.5538469  0.5067881 ]\n",
            "  [0.49050435 0.5610926  0.5140338 ]\n",
            "  ...\n",
            "  [0.41568628 0.4745098  0.32156864]\n",
            "  [0.41182598 0.4706495  0.31770834]\n",
            "  [0.4117647  0.47058824 0.31764707]]\n",
            "\n",
            " ...\n",
            "\n",
            " [[0.47692633 0.62588465 0.21442823]\n",
            "  [0.4658548  0.5932387  0.29468825]\n",
            "  [0.55287606 0.6195427  0.4311064 ]\n",
            "  ...\n",
            "  [0.45545152 0.5848633  0.41452014]\n",
            "  [0.47288987 0.6023016  0.4302428 ]\n",
            "  [0.47708333 0.6073529  0.42659312]]\n",
            "\n",
            " [[0.45765358 0.6192536  0.26686388]\n",
            "  [0.56792855 0.67634803 0.4667241 ]\n",
            "  [0.6785214  0.6884076  0.5652133 ]\n",
            "  ...\n",
            "  [0.4581629  0.58757466 0.4084348 ]\n",
            "  [0.48813763 0.6196327  0.42701823]\n",
            "  [0.49112478 0.62654144 0.42212966]]\n",
            "\n",
            " [[0.57689184 0.74153644 0.45716146]\n",
            "  [0.6820427  0.76605964 0.63873124]\n",
            "  [0.76340765 0.73400736 0.66124964]\n",
            "  ...\n",
            "  [0.45882353 0.5882353  0.404362  ]\n",
            "  [0.4968233  0.63015664 0.4301662 ]\n",
            "  [0.5009363  0.6381913  0.4198089 ]]]\n",
            "Image:  [0.41524035 0.6348482  0.68582857]\n",
            "Label:  [[[0.41524035 0.6348482  0.68582857]\n",
            "  [0.40079656 0.6204044  0.6713848 ]\n",
            "  [0.38367033 0.60327816 0.65425855]\n",
            "  ...\n",
            "  [0.39095506 0.59646    0.6782851 ]\n",
            "  [0.3587821  0.5601606  0.64218676]\n",
            "  [0.45499054 0.6901961  0.76004905]]\n",
            "\n",
            " [[0.41242844 0.63203627 0.68301666]\n",
            "  [0.3986826  0.6182904  0.6692708 ]\n",
            "  [0.38225    0.6008174  0.6521446 ]\n",
            "  ...\n",
            "  [0.32082352 0.5226311  0.60498405]\n",
            "  [0.3031827  0.49766845 0.5819207 ]\n",
            "  [0.29172793 0.50467724 0.5827512 ]]\n",
            "\n",
            " [[0.40953514 0.629143   0.6801234 ]\n",
            "  [0.3933517  0.61295956 0.66393995]\n",
            "  [0.37751225 0.5951899  0.64681375]\n",
            "  ...\n",
            "  [0.26291457 0.44645423 0.5352757 ]\n",
            "  [0.251304   0.4326141  0.5223714 ]\n",
            "  [0.27277043 0.45177695 0.5411765 ]]\n",
            "\n",
            " ...\n",
            "\n",
            " [[0.17251718 0.247027   0.23918386]\n",
            "  [0.17049752 0.24500732 0.23716418]\n",
            "  [0.17189941 0.24640922 0.23856609]\n",
            "  ...\n",
            "  [0.24692814 0.37042692 0.38154823]\n",
            "  [0.08393986 0.19366288 0.19722661]\n",
            "  [0.08537909 0.15135498 0.16862746]]\n",
            "\n",
            " [[0.16091667 0.23542649 0.22758335]\n",
            "  [0.19028847 0.26479828 0.25695515]\n",
            "  [0.171223   0.2457328  0.23788966]\n",
            "  ...\n",
            "  [0.24609686 0.36959565 0.38071695]\n",
            "  [0.13670655 0.25276047 0.25315875]\n",
            "  [0.08600907 0.150725   0.16501226]]\n",
            "\n",
            " [[0.16134608 0.23585588 0.22801274]\n",
            "  [0.19119681 0.26570663 0.2578635 ]\n",
            "  [0.16996855 0.24447836 0.23663522]\n",
            "  ...\n",
            "  [0.24436562 0.36839217 0.3795135 ]\n",
            "  [0.19318919 0.3092431  0.3096414 ]\n",
            "  [0.08319714 0.15353693 0.16078432]]]\n",
            "Image:  [0.21568628 0.9372549  0.9843137 ]\n",
            "Label:  [[[0.21568628 0.9372549  0.9843137 ]\n",
            "  [0.21568628 0.9372549  0.9843137 ]\n",
            "  [0.21568628 0.9372549  0.9843137 ]\n",
            "  ...\n",
            "  [0.16829571 0.8702565  0.9957467 ]\n",
            "  [0.16470589 0.8666667  0.99215686]\n",
            "  [0.16374081 0.8657016  0.9911918 ]]\n",
            "\n",
            " [[0.21279106 0.93435967 0.9814185 ]\n",
            "  [0.21279106 0.93435967 0.9814185 ]\n",
            "  [0.21279106 0.93435967 0.9814185 ]\n",
            "  ...\n",
            "  [0.16537942 0.8673402  0.9928304 ]\n",
            "  [0.16181067 0.86377144 0.9892616 ]\n",
            "  [0.15942718 0.86138797 0.98687816]]\n",
            "\n",
            " [[0.20693934 0.9245864  0.98129594]\n",
            "  [0.20693934 0.9245864  0.98129594]\n",
            "  [0.20693934 0.9245864  0.98129594]\n",
            "  ...\n",
            "  [0.15988052 0.8618413  0.9873315 ]\n",
            "  [0.15595895 0.85791975 0.98340994]\n",
            "  [0.15595895 0.85791975 0.98340994]]\n",
            "\n",
            " ...\n",
            "\n",
            " [[0.01568628 0.4862745  0.5803922 ]\n",
            "  [0.01838188 0.4889701  0.58308774]\n",
            "  [0.02020096 0.4907892  0.5849068 ]\n",
            "  ...\n",
            "  [0.01568628 0.49411765 0.58431375]\n",
            "  [0.01568628 0.49411765 0.58431375]\n",
            "  [0.01568628 0.49411765 0.58431375]]\n",
            "\n",
            " [[0.01176471 0.48235294 0.5764706 ]\n",
            "  [0.01526932 0.48585755 0.5799752 ]\n",
            "  [0.01758626 0.4881745  0.58229214]\n",
            "  ...\n",
            "  [0.01176471 0.49019608 0.5803922 ]\n",
            "  [0.01176471 0.49019608 0.5803922 ]\n",
            "  [0.01176471 0.49019608 0.5803922 ]]\n",
            "\n",
            " [[0.01037885 0.48096707 0.57508475]\n",
            "  [0.01233772 0.48292595 0.5770436 ]\n",
            "  [0.01568628 0.4862745  0.5803922 ]\n",
            "  ...\n",
            "  [0.00880821 0.48723957 0.5774357 ]\n",
            "  [0.00880821 0.48723957 0.5774357 ]\n",
            "  [0.00880821 0.48723957 0.5774357 ]]]\n",
            "Image:  [1. 1. 1.]\n",
            "Label:  [[[1.         1.         1.        ]\n",
            "  [1.         1.         1.        ]\n",
            "  [1.         1.         1.        ]\n",
            "  ...\n",
            "  [0.9379136  0.9535999  0.9653646 ]\n",
            "  [0.93371576 0.94940203 0.96116674]\n",
            "  [0.92791075 0.943597   0.9553617 ]]\n",
            "\n",
            " [[1.         1.         1.        ]\n",
            "  [1.         1.         1.        ]\n",
            "  [1.         1.         1.        ]\n",
            "  ...\n",
            "  [0.94172794 0.9574142  0.9691789 ]\n",
            "  [0.9371799  0.9528662  0.9646309 ]\n",
            "  [0.9310656  0.9467519  0.9585166 ]]\n",
            "\n",
            " [[1.         1.         1.        ]\n",
            "  [1.         1.         1.        ]\n",
            "  [1.         1.         1.        ]\n",
            "  ...\n",
            "  [0.9481924  0.9638787  0.9756434 ]\n",
            "  [0.94361216 0.95929843 0.97106314]\n",
            "  [0.93746936 0.95315564 0.96492034]]\n",
            "\n",
            " ...\n",
            "\n",
            " [[0.9647059  0.93333334 0.8901961 ]\n",
            "  [0.9675885  0.93621594 0.8930787 ]\n",
            "  [0.96928614 0.9379136  0.89477634]\n",
            "  ...\n",
            "  [0.80907947 0.8222931  0.81837153]\n",
            "  [0.80281055 0.8153799  0.81798136]\n",
            "  [0.79692006 0.8100814  0.81484467]]\n",
            "\n",
            " [[0.95686275 0.9254902  0.88235295]\n",
            "  [0.95804226 0.9266697  0.88353246]\n",
            "  [0.9607843  0.92941177 0.8862745 ]\n",
            "  ...\n",
            "  [0.80786115 0.80914253 0.8006587 ]\n",
            "  [0.8039216  0.8062161  0.80270976]\n",
            "  [0.79828537 0.8015931  0.7999393 ]]\n",
            "\n",
            " [[0.95686275 0.9254902  0.88235295]\n",
            "  [0.95804226 0.9266697  0.88353246]\n",
            "  [0.9607843  0.92941177 0.8862745 ]\n",
            "  ...\n",
            "  [0.8080567  0.8080567  0.8002136 ]\n",
            "  [0.80206853 0.80206853 0.7997095 ]\n",
            "  [0.7977788  0.7977788  0.7977788 ]]]\n"
          ]
        }
      ]
    },
    {
      "cell_type": "code",
      "source": [
        ""
      ],
      "metadata": {
        "id": "IsWcLgsiaYGs"
      },
      "execution_count": null,
      "outputs": []
    }
  ]
}