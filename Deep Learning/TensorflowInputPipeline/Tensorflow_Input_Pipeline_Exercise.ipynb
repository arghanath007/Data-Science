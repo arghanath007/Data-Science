{
  "nbformat": 4,
  "nbformat_minor": 0,
  "metadata": {
    "colab": {
      "name": "Tensorflow_Input_Pipeline_Exercise.ipynb",
      "provenance": []
    },
    "kernelspec": {
      "name": "python3",
      "display_name": "Python 3"
    },
    "language_info": {
      "name": "python"
    }
  },
  "cells": [
    {
      "cell_type": "code",
      "execution_count": 1,
      "metadata": {
        "id": "rrfmNE6xbnCf"
      },
      "outputs": [],
      "source": [
        "import tensorflow as tf\n",
        "import numpy as np"
      ]
    },
    {
      "cell_type": "code",
      "source": [
        "reviews_dataset=tf.data.Dataset.list_files('/content/drive/MyDrive/Colab Notebooks/reviews/*/*',shuffle=False)\n",
        "\n",
        "for review in reviews_dataset.take(3):\n",
        "  print(review.numpy())"
      ],
      "metadata": {
        "colab": {
          "base_uri": "https://localhost:8080/"
        },
        "id": "_p9idDd4bx8w",
        "outputId": "c360cca1-1c27-4791-c509-f154f414dfc4"
      },
      "execution_count": 2,
      "outputs": [
        {
          "output_type": "stream",
          "name": "stdout",
          "text": [
            "b'/content/drive/MyDrive/Colab Notebooks/reviews/negative/neg_1.txt'\n",
            "b'/content/drive/MyDrive/Colab Notebooks/reviews/negative/neg_2.txt'\n",
            "b'/content/drive/MyDrive/Colab Notebooks/reviews/negative/neg_3.txt'\n"
          ]
        }
      ]
    },
    {
      "cell_type": "code",
      "source": [
        "reviews_dataset=reviews_dataset.shuffle(2)\n",
        "\n",
        "for review in reviews_dataset.take(6):\n",
        "  print(review.numpy())"
      ],
      "metadata": {
        "colab": {
          "base_uri": "https://localhost:8080/"
        },
        "id": "MZkBR7WId3nT",
        "outputId": "75ed9805-4839-432d-ddbd-68b9fe37dbfd"
      },
      "execution_count": 4,
      "outputs": [
        {
          "output_type": "stream",
          "name": "stdout",
          "text": [
            "b'/content/drive/MyDrive/Colab Notebooks/reviews/negative/neg_2.txt'\n",
            "b'/content/drive/MyDrive/Colab Notebooks/reviews/negative/neg_3.txt'\n",
            "b'/content/drive/MyDrive/Colab Notebooks/reviews/negative/neg_1.txt'\n",
            "b'/content/drive/MyDrive/Colab Notebooks/reviews/positive/pos_2.txt'\n",
            "b'/content/drive/MyDrive/Colab Notebooks/reviews/positive/pos_3.txt'\n",
            "b'/content/drive/MyDrive/Colab Notebooks/reviews/positive/pos_1.txt'\n"
          ]
        }
      ]
    },
    {
      "cell_type": "code",
      "source": [
        "class_names=['positive','negative']"
      ],
      "metadata": {
        "id": "qD-QAGrTeP0Z"
      },
      "execution_count": 5,
      "outputs": []
    },
    {
      "cell_type": "code",
      "source": [
        "reviews_count=len(reviews_dataset)\n",
        "reviews_count"
      ],
      "metadata": {
        "colab": {
          "base_uri": "https://localhost:8080/"
        },
        "id": "ipT3wdnseYHZ",
        "outputId": "44f31238-38b1-4141-9a63-1e97cc651397"
      },
      "execution_count": 7,
      "outputs": [
        {
          "output_type": "execute_result",
          "data": {
            "text/plain": [
              "6"
            ]
          },
          "metadata": {},
          "execution_count": 7
        }
      ]
    },
    {
      "cell_type": "code",
      "source": [
        "train_size=int(reviews_count*0.8)\n",
        "\n",
        "train_ds=reviews_dataset.take(train_size)\n",
        "test_ds=reviews_dataset.skip(train_size)"
      ],
      "metadata": {
        "id": "YmvUpECqebd0"
      },
      "execution_count": 8,
      "outputs": []
    },
    {
      "cell_type": "code",
      "source": [
        "len(train_ds)"
      ],
      "metadata": {
        "colab": {
          "base_uri": "https://localhost:8080/"
        },
        "id": "xxfuKgdKelg2",
        "outputId": "cec30340-bf78-4bad-e9ae-f4c171a5ec1d"
      },
      "execution_count": 9,
      "outputs": [
        {
          "output_type": "execute_result",
          "data": {
            "text/plain": [
              "4"
            ]
          },
          "metadata": {},
          "execution_count": 9
        }
      ]
    },
    {
      "cell_type": "code",
      "source": [
        "len(test_ds)"
      ],
      "metadata": {
        "colab": {
          "base_uri": "https://localhost:8080/"
        },
        "id": "0DHOET5tenfl",
        "outputId": "791a1569-d1e0-4223-88a0-d5b468c80ed5"
      },
      "execution_count": 10,
      "outputs": [
        {
          "output_type": "execute_result",
          "data": {
            "text/plain": [
              "2"
            ]
          },
          "metadata": {},
          "execution_count": 10
        }
      ]
    },
    {
      "cell_type": "code",
      "source": [
        "s='/content/drive/MyDrive/Colab Notebooks/reviews/negative/neg_2.txt'\n",
        "\n",
        "s.split('/')[-2]"
      ],
      "metadata": {
        "colab": {
          "base_uri": "https://localhost:8080/",
          "height": 37
        },
        "id": "h98cnxd_eotl",
        "outputId": "49776245-6846-4155-e076-4050bce10c90"
      },
      "execution_count": 11,
      "outputs": [
        {
          "output_type": "execute_result",
          "data": {
            "application/vnd.google.colaboratory.intrinsic+json": {
              "type": "string"
            },
            "text/plain": [
              "'negative'"
            ]
          },
          "metadata": {},
          "execution_count": 11
        }
      ]
    },
    {
      "cell_type": "code",
      "source": [
        "import os\n",
        "def extract_review_and_label(file_path):\n",
        "    return tf.io.read_file(file_path), tf.strings.split(file_path, os.path.sep)[-2]"
      ],
      "metadata": {
        "id": "dL9MKFROffg_"
      },
      "execution_count": 16,
      "outputs": []
    },
    {
      "cell_type": "code",
      "source": [
        "reviews_dataset= reviews_dataset.map(extract_review_and_label)\n",
        "for review, label in reviews_dataset:\n",
        "    print(\"Review: \",review.numpy()[:50])\n",
        "    print(\"Label: \",label.numpy())"
      ],
      "metadata": {
        "colab": {
          "base_uri": "https://localhost:8080/"
        },
        "id": "dgCy9PuXfmjl",
        "outputId": "41f7696c-c1c8-498a-e8d8-dc7ba4ba6a9a"
      },
      "execution_count": 17,
      "outputs": [
        {
          "output_type": "stream",
          "name": "stdout",
          "text": [
            "Review:  b'This show was an amazing, fresh & innovative idea '\n",
            "Label:  b'negative'\n",
            "Review:  b\"Basically there's a family where a little boy (Jak\"\n",
            "Label:  b'negative'\n",
            "Review:  b'A wonderful little production. <br /><br />The fil'\n",
            "Label:  b'positive'\n",
            "Review:  b''\n",
            "Label:  b'positive'\n",
            "Review:  b''\n",
            "Label:  b'negative'\n",
            "Review:  b'One of the other reviewers has mentioned that afte'\n",
            "Label:  b'positive'\n"
          ]
        }
      ]
    },
    {
      "cell_type": "markdown",
      "source": [
        "## Filtering Blank Review"
      ],
      "metadata": {
        "id": "T3aTnpwxfzqD"
      }
    },
    {
      "cell_type": "code",
      "source": [
        "reviews_dataset = reviews_dataset.filter(lambda review, label: review!=\"\")\n",
        "for review, label in reviews_dataset.as_numpy_iterator():\n",
        "    print(\"Review: \",review[:50])\n",
        "    print(\"Label: \",label)"
      ],
      "metadata": {
        "colab": {
          "base_uri": "https://localhost:8080/"
        },
        "id": "83INVzVVf6Ii",
        "outputId": "b1ea6884-1f90-479a-82e3-fc3df8e05de9"
      },
      "execution_count": 18,
      "outputs": [
        {
          "output_type": "stream",
          "name": "stdout",
          "text": [
            "Review:  b'This show was an amazing, fresh & innovative idea '\n",
            "Label:  b'negative'\n",
            "Review:  b'A wonderful little production. <br /><br />The fil'\n",
            "Label:  b'positive'\n",
            "Review:  b\"Basically there's a family where a little boy (Jak\"\n",
            "Label:  b'negative'\n",
            "Review:  b'One of the other reviewers has mentioned that afte'\n",
            "Label:  b'positive'\n"
          ]
        }
      ]
    },
    {
      "cell_type": "markdown",
      "source": [
        "## Writing the whole code in a single line"
      ],
      "metadata": {
        "id": "YZIZflavgtpV"
      }
    },
    {
      "cell_type": "code",
      "source": [
        "original_reviews_dataset=tf.data.Dataset.list_files('/content/drive/MyDrive/Colab Notebooks/reviews/*/*',shuffle=False)"
      ],
      "metadata": {
        "id": "nm8N5dU8gmcf"
      },
      "execution_count": 21,
      "outputs": []
    },
    {
      "cell_type": "code",
      "source": [
        "reviews = original_reviews_dataset.map(extract_review_and_label).filter(lambda review, label: review!=\"\").shuffle(3)\n",
        "for review, label in reviews.as_numpy_iterator():\n",
        "    print(\"Review:\",review[:50])\n",
        "    print(\"Label:\",label)"
      ],
      "metadata": {
        "colab": {
          "base_uri": "https://localhost:8080/"
        },
        "id": "2dckrP9EgEv0",
        "outputId": "8e18b9c6-5ea5-449d-9e63-88ab59feb771"
      },
      "execution_count": 22,
      "outputs": [
        {
          "output_type": "stream",
          "name": "stdout",
          "text": [
            "Review: b'One of the other reviewers has mentioned that afte'\n",
            "Label: b'positive'\n",
            "Review: b\"Basically there's a family where a little boy (Jak\"\n",
            "Label: b'negative'\n",
            "Review: b'This show was an amazing, fresh & innovative idea '\n",
            "Label: b'negative'\n",
            "Review: b'A wonderful little production. <br /><br />The fil'\n",
            "Label: b'positive'\n"
          ]
        }
      ]
    },
    {
      "cell_type": "code",
      "source": [
        ""
      ],
      "metadata": {
        "id": "6u0pdOefgM07"
      },
      "execution_count": null,
      "outputs": []
    }
  ]
}