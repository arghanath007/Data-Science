{
  "nbformat": 4,
  "nbformat_minor": 0,
  "metadata": {
    "colab": {
      "name": "FoodVision_Experiment_1.ipynb",
      "provenance": [],
      "collapsed_sections": []
    },
    "kernelspec": {
      "name": "python3",
      "display_name": "Python 3"
    },
    "language_info": {
      "name": "python"
    },
    "gpuClass": "standard",
    "accelerator": "GPU",
    "widgets": {
      "application/vnd.jupyter.widget-state+json": {
        "b5d88dbea0c144258a64f4caa9a1a22e": {
          "model_module": "@jupyter-widgets/controls",
          "model_name": "HBoxModel",
          "model_module_version": "1.5.0",
          "state": {
            "_dom_classes": [],
            "_model_module": "@jupyter-widgets/controls",
            "_model_module_version": "1.5.0",
            "_model_name": "HBoxModel",
            "_view_count": null,
            "_view_module": "@jupyter-widgets/controls",
            "_view_module_version": "1.5.0",
            "_view_name": "HBoxView",
            "box_style": "",
            "children": [
              "IPY_MODEL_7ef0174b0ed240c08f90ea06c2b38505",
              "IPY_MODEL_f37699b7d02a4b8bb20d1f934d60e855",
              "IPY_MODEL_93fd421eae224c678081fe719f4a4d24"
            ],
            "layout": "IPY_MODEL_b03e7b9024194f2cb09ef994eb12a627"
          }
        },
        "7ef0174b0ed240c08f90ea06c2b38505": {
          "model_module": "@jupyter-widgets/controls",
          "model_name": "HTMLModel",
          "model_module_version": "1.5.0",
          "state": {
            "_dom_classes": [],
            "_model_module": "@jupyter-widgets/controls",
            "_model_module_version": "1.5.0",
            "_model_name": "HTMLModel",
            "_view_count": null,
            "_view_module": "@jupyter-widgets/controls",
            "_view_module_version": "1.5.0",
            "_view_name": "HTMLView",
            "description": "",
            "description_tooltip": null,
            "layout": "IPY_MODEL_8e1193e6eb734d69b8ca88f5ef4cb2cd",
            "placeholder": "​",
            "style": "IPY_MODEL_357b7415bb4a43958c645bf1006d4eb9",
            "value": "Dl Completed...: "
          }
        },
        "f37699b7d02a4b8bb20d1f934d60e855": {
          "model_module": "@jupyter-widgets/controls",
          "model_name": "FloatProgressModel",
          "model_module_version": "1.5.0",
          "state": {
            "_dom_classes": [],
            "_model_module": "@jupyter-widgets/controls",
            "_model_module_version": "1.5.0",
            "_model_name": "FloatProgressModel",
            "_view_count": null,
            "_view_module": "@jupyter-widgets/controls",
            "_view_module_version": "1.5.0",
            "_view_name": "ProgressView",
            "bar_style": "success",
            "description": "",
            "description_tooltip": null,
            "layout": "IPY_MODEL_ce3984c76d7549558551ce0b3d95b955",
            "max": 1,
            "min": 0,
            "orientation": "horizontal",
            "style": "IPY_MODEL_eedcd7919584420e9c21de6eeabed208",
            "value": 1
          }
        },
        "93fd421eae224c678081fe719f4a4d24": {
          "model_module": "@jupyter-widgets/controls",
          "model_name": "HTMLModel",
          "model_module_version": "1.5.0",
          "state": {
            "_dom_classes": [],
            "_model_module": "@jupyter-widgets/controls",
            "_model_module_version": "1.5.0",
            "_model_name": "HTMLModel",
            "_view_count": null,
            "_view_module": "@jupyter-widgets/controls",
            "_view_module_version": "1.5.0",
            "_view_name": "HTMLView",
            "description": "",
            "description_tooltip": null,
            "layout": "IPY_MODEL_e226c81d1f554c89b3504d3f7a5b0ae2",
            "placeholder": "​",
            "style": "IPY_MODEL_bab5583c28cf4badb8344543fd2684b0",
            "value": " 2/? [04:29&lt;00:00, 149.32s/ url]"
          }
        },
        "b03e7b9024194f2cb09ef994eb12a627": {
          "model_module": "@jupyter-widgets/base",
          "model_name": "LayoutModel",
          "model_module_version": "1.2.0",
          "state": {
            "_model_module": "@jupyter-widgets/base",
            "_model_module_version": "1.2.0",
            "_model_name": "LayoutModel",
            "_view_count": null,
            "_view_module": "@jupyter-widgets/base",
            "_view_module_version": "1.2.0",
            "_view_name": "LayoutView",
            "align_content": null,
            "align_items": null,
            "align_self": null,
            "border": null,
            "bottom": null,
            "display": null,
            "flex": null,
            "flex_flow": null,
            "grid_area": null,
            "grid_auto_columns": null,
            "grid_auto_flow": null,
            "grid_auto_rows": null,
            "grid_column": null,
            "grid_gap": null,
            "grid_row": null,
            "grid_template_areas": null,
            "grid_template_columns": null,
            "grid_template_rows": null,
            "height": null,
            "justify_content": null,
            "justify_items": null,
            "left": null,
            "margin": null,
            "max_height": null,
            "max_width": null,
            "min_height": null,
            "min_width": null,
            "object_fit": null,
            "object_position": null,
            "order": null,
            "overflow": null,
            "overflow_x": null,
            "overflow_y": null,
            "padding": null,
            "right": null,
            "top": null,
            "visibility": null,
            "width": null
          }
        },
        "8e1193e6eb734d69b8ca88f5ef4cb2cd": {
          "model_module": "@jupyter-widgets/base",
          "model_name": "LayoutModel",
          "model_module_version": "1.2.0",
          "state": {
            "_model_module": "@jupyter-widgets/base",
            "_model_module_version": "1.2.0",
            "_model_name": "LayoutModel",
            "_view_count": null,
            "_view_module": "@jupyter-widgets/base",
            "_view_module_version": "1.2.0",
            "_view_name": "LayoutView",
            "align_content": null,
            "align_items": null,
            "align_self": null,
            "border": null,
            "bottom": null,
            "display": null,
            "flex": null,
            "flex_flow": null,
            "grid_area": null,
            "grid_auto_columns": null,
            "grid_auto_flow": null,
            "grid_auto_rows": null,
            "grid_column": null,
            "grid_gap": null,
            "grid_row": null,
            "grid_template_areas": null,
            "grid_template_columns": null,
            "grid_template_rows": null,
            "height": null,
            "justify_content": null,
            "justify_items": null,
            "left": null,
            "margin": null,
            "max_height": null,
            "max_width": null,
            "min_height": null,
            "min_width": null,
            "object_fit": null,
            "object_position": null,
            "order": null,
            "overflow": null,
            "overflow_x": null,
            "overflow_y": null,
            "padding": null,
            "right": null,
            "top": null,
            "visibility": null,
            "width": null
          }
        },
        "357b7415bb4a43958c645bf1006d4eb9": {
          "model_module": "@jupyter-widgets/controls",
          "model_name": "DescriptionStyleModel",
          "model_module_version": "1.5.0",
          "state": {
            "_model_module": "@jupyter-widgets/controls",
            "_model_module_version": "1.5.0",
            "_model_name": "DescriptionStyleModel",
            "_view_count": null,
            "_view_module": "@jupyter-widgets/base",
            "_view_module_version": "1.2.0",
            "_view_name": "StyleView",
            "description_width": ""
          }
        },
        "ce3984c76d7549558551ce0b3d95b955": {
          "model_module": "@jupyter-widgets/base",
          "model_name": "LayoutModel",
          "model_module_version": "1.2.0",
          "state": {
            "_model_module": "@jupyter-widgets/base",
            "_model_module_version": "1.2.0",
            "_model_name": "LayoutModel",
            "_view_count": null,
            "_view_module": "@jupyter-widgets/base",
            "_view_module_version": "1.2.0",
            "_view_name": "LayoutView",
            "align_content": null,
            "align_items": null,
            "align_self": null,
            "border": null,
            "bottom": null,
            "display": null,
            "flex": null,
            "flex_flow": null,
            "grid_area": null,
            "grid_auto_columns": null,
            "grid_auto_flow": null,
            "grid_auto_rows": null,
            "grid_column": null,
            "grid_gap": null,
            "grid_row": null,
            "grid_template_areas": null,
            "grid_template_columns": null,
            "grid_template_rows": null,
            "height": null,
            "justify_content": null,
            "justify_items": null,
            "left": null,
            "margin": null,
            "max_height": null,
            "max_width": null,
            "min_height": null,
            "min_width": null,
            "object_fit": null,
            "object_position": null,
            "order": null,
            "overflow": null,
            "overflow_x": null,
            "overflow_y": null,
            "padding": null,
            "right": null,
            "top": null,
            "visibility": null,
            "width": "20px"
          }
        },
        "eedcd7919584420e9c21de6eeabed208": {
          "model_module": "@jupyter-widgets/controls",
          "model_name": "ProgressStyleModel",
          "model_module_version": "1.5.0",
          "state": {
            "_model_module": "@jupyter-widgets/controls",
            "_model_module_version": "1.5.0",
            "_model_name": "ProgressStyleModel",
            "_view_count": null,
            "_view_module": "@jupyter-widgets/base",
            "_view_module_version": "1.2.0",
            "_view_name": "StyleView",
            "bar_color": null,
            "description_width": ""
          }
        },
        "e226c81d1f554c89b3504d3f7a5b0ae2": {
          "model_module": "@jupyter-widgets/base",
          "model_name": "LayoutModel",
          "model_module_version": "1.2.0",
          "state": {
            "_model_module": "@jupyter-widgets/base",
            "_model_module_version": "1.2.0",
            "_model_name": "LayoutModel",
            "_view_count": null,
            "_view_module": "@jupyter-widgets/base",
            "_view_module_version": "1.2.0",
            "_view_name": "LayoutView",
            "align_content": null,
            "align_items": null,
            "align_self": null,
            "border": null,
            "bottom": null,
            "display": null,
            "flex": null,
            "flex_flow": null,
            "grid_area": null,
            "grid_auto_columns": null,
            "grid_auto_flow": null,
            "grid_auto_rows": null,
            "grid_column": null,
            "grid_gap": null,
            "grid_row": null,
            "grid_template_areas": null,
            "grid_template_columns": null,
            "grid_template_rows": null,
            "height": null,
            "justify_content": null,
            "justify_items": null,
            "left": null,
            "margin": null,
            "max_height": null,
            "max_width": null,
            "min_height": null,
            "min_width": null,
            "object_fit": null,
            "object_position": null,
            "order": null,
            "overflow": null,
            "overflow_x": null,
            "overflow_y": null,
            "padding": null,
            "right": null,
            "top": null,
            "visibility": null,
            "width": null
          }
        },
        "bab5583c28cf4badb8344543fd2684b0": {
          "model_module": "@jupyter-widgets/controls",
          "model_name": "DescriptionStyleModel",
          "model_module_version": "1.5.0",
          "state": {
            "_model_module": "@jupyter-widgets/controls",
            "_model_module_version": "1.5.0",
            "_model_name": "DescriptionStyleModel",
            "_view_count": null,
            "_view_module": "@jupyter-widgets/base",
            "_view_module_version": "1.2.0",
            "_view_name": "StyleView",
            "description_width": ""
          }
        },
        "a0c216893fc44f4396058d1a971a0f1a": {
          "model_module": "@jupyter-widgets/controls",
          "model_name": "HBoxModel",
          "model_module_version": "1.5.0",
          "state": {
            "_dom_classes": [],
            "_model_module": "@jupyter-widgets/controls",
            "_model_module_version": "1.5.0",
            "_model_name": "HBoxModel",
            "_view_count": null,
            "_view_module": "@jupyter-widgets/controls",
            "_view_module_version": "1.5.0",
            "_view_name": "HBoxView",
            "box_style": "",
            "children": [
              "IPY_MODEL_5df04c849fa24fa99230908aabf8edef",
              "IPY_MODEL_2749c8751fc446148885c7cbfff96128",
              "IPY_MODEL_9f82503ba81c47f598ef6435f7a6b211"
            ],
            "layout": "IPY_MODEL_5d9dff8eddec4d4785dc8df2e4416576"
          }
        },
        "5df04c849fa24fa99230908aabf8edef": {
          "model_module": "@jupyter-widgets/controls",
          "model_name": "HTMLModel",
          "model_module_version": "1.5.0",
          "state": {
            "_dom_classes": [],
            "_model_module": "@jupyter-widgets/controls",
            "_model_module_version": "1.5.0",
            "_model_name": "HTMLModel",
            "_view_count": null,
            "_view_module": "@jupyter-widgets/controls",
            "_view_module_version": "1.5.0",
            "_view_name": "HTMLView",
            "description": "",
            "description_tooltip": null,
            "layout": "IPY_MODEL_a570a75e466a4c9291661df43388347e",
            "placeholder": "​",
            "style": "IPY_MODEL_2eb12dd2c7f942eab709e042e605a67d",
            "value": "Dl Size...: "
          }
        },
        "2749c8751fc446148885c7cbfff96128": {
          "model_module": "@jupyter-widgets/controls",
          "model_name": "FloatProgressModel",
          "model_module_version": "1.5.0",
          "state": {
            "_dom_classes": [],
            "_model_module": "@jupyter-widgets/controls",
            "_model_module_version": "1.5.0",
            "_model_name": "FloatProgressModel",
            "_view_count": null,
            "_view_module": "@jupyter-widgets/controls",
            "_view_module_version": "1.5.0",
            "_view_name": "ProgressView",
            "bar_style": "success",
            "description": "",
            "description_tooltip": null,
            "layout": "IPY_MODEL_dcca06cff167485686338e1cad19f326",
            "max": 1,
            "min": 0,
            "orientation": "horizontal",
            "style": "IPY_MODEL_44794b57541847ea91fdbffe738dedfa",
            "value": 1
          }
        },
        "9f82503ba81c47f598ef6435f7a6b211": {
          "model_module": "@jupyter-widgets/controls",
          "model_name": "HTMLModel",
          "model_module_version": "1.5.0",
          "state": {
            "_dom_classes": [],
            "_model_module": "@jupyter-widgets/controls",
            "_model_module_version": "1.5.0",
            "_model_name": "HTMLModel",
            "_view_count": null,
            "_view_module": "@jupyter-widgets/controls",
            "_view_module_version": "1.5.0",
            "_view_name": "HTMLView",
            "description": "",
            "description_tooltip": null,
            "layout": "IPY_MODEL_77c5f21cfee246038ef505e07934a599",
            "placeholder": "​",
            "style": "IPY_MODEL_c05252b69bb2465d9232deef34fe2c47",
            "value": " 5599/? [04:29&lt;00:00, 18.69 MiB/s]"
          }
        },
        "5d9dff8eddec4d4785dc8df2e4416576": {
          "model_module": "@jupyter-widgets/base",
          "model_name": "LayoutModel",
          "model_module_version": "1.2.0",
          "state": {
            "_model_module": "@jupyter-widgets/base",
            "_model_module_version": "1.2.0",
            "_model_name": "LayoutModel",
            "_view_count": null,
            "_view_module": "@jupyter-widgets/base",
            "_view_module_version": "1.2.0",
            "_view_name": "LayoutView",
            "align_content": null,
            "align_items": null,
            "align_self": null,
            "border": null,
            "bottom": null,
            "display": null,
            "flex": null,
            "flex_flow": null,
            "grid_area": null,
            "grid_auto_columns": null,
            "grid_auto_flow": null,
            "grid_auto_rows": null,
            "grid_column": null,
            "grid_gap": null,
            "grid_row": null,
            "grid_template_areas": null,
            "grid_template_columns": null,
            "grid_template_rows": null,
            "height": null,
            "justify_content": null,
            "justify_items": null,
            "left": null,
            "margin": null,
            "max_height": null,
            "max_width": null,
            "min_height": null,
            "min_width": null,
            "object_fit": null,
            "object_position": null,
            "order": null,
            "overflow": null,
            "overflow_x": null,
            "overflow_y": null,
            "padding": null,
            "right": null,
            "top": null,
            "visibility": null,
            "width": null
          }
        },
        "a570a75e466a4c9291661df43388347e": {
          "model_module": "@jupyter-widgets/base",
          "model_name": "LayoutModel",
          "model_module_version": "1.2.0",
          "state": {
            "_model_module": "@jupyter-widgets/base",
            "_model_module_version": "1.2.0",
            "_model_name": "LayoutModel",
            "_view_count": null,
            "_view_module": "@jupyter-widgets/base",
            "_view_module_version": "1.2.0",
            "_view_name": "LayoutView",
            "align_content": null,
            "align_items": null,
            "align_self": null,
            "border": null,
            "bottom": null,
            "display": null,
            "flex": null,
            "flex_flow": null,
            "grid_area": null,
            "grid_auto_columns": null,
            "grid_auto_flow": null,
            "grid_auto_rows": null,
            "grid_column": null,
            "grid_gap": null,
            "grid_row": null,
            "grid_template_areas": null,
            "grid_template_columns": null,
            "grid_template_rows": null,
            "height": null,
            "justify_content": null,
            "justify_items": null,
            "left": null,
            "margin": null,
            "max_height": null,
            "max_width": null,
            "min_height": null,
            "min_width": null,
            "object_fit": null,
            "object_position": null,
            "order": null,
            "overflow": null,
            "overflow_x": null,
            "overflow_y": null,
            "padding": null,
            "right": null,
            "top": null,
            "visibility": null,
            "width": null
          }
        },
        "2eb12dd2c7f942eab709e042e605a67d": {
          "model_module": "@jupyter-widgets/controls",
          "model_name": "DescriptionStyleModel",
          "model_module_version": "1.5.0",
          "state": {
            "_model_module": "@jupyter-widgets/controls",
            "_model_module_version": "1.5.0",
            "_model_name": "DescriptionStyleModel",
            "_view_count": null,
            "_view_module": "@jupyter-widgets/base",
            "_view_module_version": "1.2.0",
            "_view_name": "StyleView",
            "description_width": ""
          }
        },
        "dcca06cff167485686338e1cad19f326": {
          "model_module": "@jupyter-widgets/base",
          "model_name": "LayoutModel",
          "model_module_version": "1.2.0",
          "state": {
            "_model_module": "@jupyter-widgets/base",
            "_model_module_version": "1.2.0",
            "_model_name": "LayoutModel",
            "_view_count": null,
            "_view_module": "@jupyter-widgets/base",
            "_view_module_version": "1.2.0",
            "_view_name": "LayoutView",
            "align_content": null,
            "align_items": null,
            "align_self": null,
            "border": null,
            "bottom": null,
            "display": null,
            "flex": null,
            "flex_flow": null,
            "grid_area": null,
            "grid_auto_columns": null,
            "grid_auto_flow": null,
            "grid_auto_rows": null,
            "grid_column": null,
            "grid_gap": null,
            "grid_row": null,
            "grid_template_areas": null,
            "grid_template_columns": null,
            "grid_template_rows": null,
            "height": null,
            "justify_content": null,
            "justify_items": null,
            "left": null,
            "margin": null,
            "max_height": null,
            "max_width": null,
            "min_height": null,
            "min_width": null,
            "object_fit": null,
            "object_position": null,
            "order": null,
            "overflow": null,
            "overflow_x": null,
            "overflow_y": null,
            "padding": null,
            "right": null,
            "top": null,
            "visibility": null,
            "width": "20px"
          }
        },
        "44794b57541847ea91fdbffe738dedfa": {
          "model_module": "@jupyter-widgets/controls",
          "model_name": "ProgressStyleModel",
          "model_module_version": "1.5.0",
          "state": {
            "_model_module": "@jupyter-widgets/controls",
            "_model_module_version": "1.5.0",
            "_model_name": "ProgressStyleModel",
            "_view_count": null,
            "_view_module": "@jupyter-widgets/base",
            "_view_module_version": "1.2.0",
            "_view_name": "StyleView",
            "bar_color": null,
            "description_width": ""
          }
        },
        "77c5f21cfee246038ef505e07934a599": {
          "model_module": "@jupyter-widgets/base",
          "model_name": "LayoutModel",
          "model_module_version": "1.2.0",
          "state": {
            "_model_module": "@jupyter-widgets/base",
            "_model_module_version": "1.2.0",
            "_model_name": "LayoutModel",
            "_view_count": null,
            "_view_module": "@jupyter-widgets/base",
            "_view_module_version": "1.2.0",
            "_view_name": "LayoutView",
            "align_content": null,
            "align_items": null,
            "align_self": null,
            "border": null,
            "bottom": null,
            "display": null,
            "flex": null,
            "flex_flow": null,
            "grid_area": null,
            "grid_auto_columns": null,
            "grid_auto_flow": null,
            "grid_auto_rows": null,
            "grid_column": null,
            "grid_gap": null,
            "grid_row": null,
            "grid_template_areas": null,
            "grid_template_columns": null,
            "grid_template_rows": null,
            "height": null,
            "justify_content": null,
            "justify_items": null,
            "left": null,
            "margin": null,
            "max_height": null,
            "max_width": null,
            "min_height": null,
            "min_width": null,
            "object_fit": null,
            "object_position": null,
            "order": null,
            "overflow": null,
            "overflow_x": null,
            "overflow_y": null,
            "padding": null,
            "right": null,
            "top": null,
            "visibility": null,
            "width": null
          }
        },
        "c05252b69bb2465d9232deef34fe2c47": {
          "model_module": "@jupyter-widgets/controls",
          "model_name": "DescriptionStyleModel",
          "model_module_version": "1.5.0",
          "state": {
            "_model_module": "@jupyter-widgets/controls",
            "_model_module_version": "1.5.0",
            "_model_name": "DescriptionStyleModel",
            "_view_count": null,
            "_view_module": "@jupyter-widgets/base",
            "_view_module_version": "1.2.0",
            "_view_name": "StyleView",
            "description_width": ""
          }
        },
        "f38125e2fc5a4a2a9c75567c996ed91a": {
          "model_module": "@jupyter-widgets/controls",
          "model_name": "HBoxModel",
          "model_module_version": "1.5.0",
          "state": {
            "_dom_classes": [],
            "_model_module": "@jupyter-widgets/controls",
            "_model_module_version": "1.5.0",
            "_model_name": "HBoxModel",
            "_view_count": null,
            "_view_module": "@jupyter-widgets/controls",
            "_view_module_version": "1.5.0",
            "_view_name": "HBoxView",
            "box_style": "",
            "children": [
              "IPY_MODEL_1dbe4a58ee284878ab6eb9038ed2727c",
              "IPY_MODEL_7db2ab66a95048189a5874a6e6f3fac8",
              "IPY_MODEL_4a6e5b2f8a6f4f7a84e1251557906e88"
            ],
            "layout": "IPY_MODEL_2e3889cb5e6e4a29bfc9138e2959c2e3"
          }
        },
        "1dbe4a58ee284878ab6eb9038ed2727c": {
          "model_module": "@jupyter-widgets/controls",
          "model_name": "HTMLModel",
          "model_module_version": "1.5.0",
          "state": {
            "_dom_classes": [],
            "_model_module": "@jupyter-widgets/controls",
            "_model_module_version": "1.5.0",
            "_model_name": "HTMLModel",
            "_view_count": null,
            "_view_module": "@jupyter-widgets/controls",
            "_view_module_version": "1.5.0",
            "_view_name": "HTMLView",
            "description": "",
            "description_tooltip": null,
            "layout": "IPY_MODEL_03970879130844538d1a655c81d9c7d4",
            "placeholder": "​",
            "style": "IPY_MODEL_413602e936704044a1b0f566145604fb",
            "value": "Extraction completed...: 100%"
          }
        },
        "7db2ab66a95048189a5874a6e6f3fac8": {
          "model_module": "@jupyter-widgets/controls",
          "model_name": "FloatProgressModel",
          "model_module_version": "1.5.0",
          "state": {
            "_dom_classes": [],
            "_model_module": "@jupyter-widgets/controls",
            "_model_module_version": "1.5.0",
            "_model_name": "FloatProgressModel",
            "_view_count": null,
            "_view_module": "@jupyter-widgets/controls",
            "_view_module_version": "1.5.0",
            "_view_name": "ProgressView",
            "bar_style": "success",
            "description": "",
            "description_tooltip": null,
            "layout": "IPY_MODEL_52dfb7fbce1d4aed85769d8f8bc37a95",
            "max": 1,
            "min": 0,
            "orientation": "horizontal",
            "style": "IPY_MODEL_671d3928080e45a287dfc8bbc4507c71",
            "value": 1
          }
        },
        "4a6e5b2f8a6f4f7a84e1251557906e88": {
          "model_module": "@jupyter-widgets/controls",
          "model_name": "HTMLModel",
          "model_module_version": "1.5.0",
          "state": {
            "_dom_classes": [],
            "_model_module": "@jupyter-widgets/controls",
            "_model_module_version": "1.5.0",
            "_model_name": "HTMLModel",
            "_view_count": null,
            "_view_module": "@jupyter-widgets/controls",
            "_view_module_version": "1.5.0",
            "_view_name": "HTMLView",
            "description": "",
            "description_tooltip": null,
            "layout": "IPY_MODEL_b4106a1d7e914a448a7bb7f4040ba11e",
            "placeholder": "​",
            "style": "IPY_MODEL_962db280da46473aa093b492f670094c",
            "value": " 1/1 [04:29&lt;00:00, 188.98s/ file]"
          }
        },
        "2e3889cb5e6e4a29bfc9138e2959c2e3": {
          "model_module": "@jupyter-widgets/base",
          "model_name": "LayoutModel",
          "model_module_version": "1.2.0",
          "state": {
            "_model_module": "@jupyter-widgets/base",
            "_model_module_version": "1.2.0",
            "_model_name": "LayoutModel",
            "_view_count": null,
            "_view_module": "@jupyter-widgets/base",
            "_view_module_version": "1.2.0",
            "_view_name": "LayoutView",
            "align_content": null,
            "align_items": null,
            "align_self": null,
            "border": null,
            "bottom": null,
            "display": null,
            "flex": null,
            "flex_flow": null,
            "grid_area": null,
            "grid_auto_columns": null,
            "grid_auto_flow": null,
            "grid_auto_rows": null,
            "grid_column": null,
            "grid_gap": null,
            "grid_row": null,
            "grid_template_areas": null,
            "grid_template_columns": null,
            "grid_template_rows": null,
            "height": null,
            "justify_content": null,
            "justify_items": null,
            "left": null,
            "margin": null,
            "max_height": null,
            "max_width": null,
            "min_height": null,
            "min_width": null,
            "object_fit": null,
            "object_position": null,
            "order": null,
            "overflow": null,
            "overflow_x": null,
            "overflow_y": null,
            "padding": null,
            "right": null,
            "top": null,
            "visibility": null,
            "width": null
          }
        },
        "03970879130844538d1a655c81d9c7d4": {
          "model_module": "@jupyter-widgets/base",
          "model_name": "LayoutModel",
          "model_module_version": "1.2.0",
          "state": {
            "_model_module": "@jupyter-widgets/base",
            "_model_module_version": "1.2.0",
            "_model_name": "LayoutModel",
            "_view_count": null,
            "_view_module": "@jupyter-widgets/base",
            "_view_module_version": "1.2.0",
            "_view_name": "LayoutView",
            "align_content": null,
            "align_items": null,
            "align_self": null,
            "border": null,
            "bottom": null,
            "display": null,
            "flex": null,
            "flex_flow": null,
            "grid_area": null,
            "grid_auto_columns": null,
            "grid_auto_flow": null,
            "grid_auto_rows": null,
            "grid_column": null,
            "grid_gap": null,
            "grid_row": null,
            "grid_template_areas": null,
            "grid_template_columns": null,
            "grid_template_rows": null,
            "height": null,
            "justify_content": null,
            "justify_items": null,
            "left": null,
            "margin": null,
            "max_height": null,
            "max_width": null,
            "min_height": null,
            "min_width": null,
            "object_fit": null,
            "object_position": null,
            "order": null,
            "overflow": null,
            "overflow_x": null,
            "overflow_y": null,
            "padding": null,
            "right": null,
            "top": null,
            "visibility": null,
            "width": null
          }
        },
        "413602e936704044a1b0f566145604fb": {
          "model_module": "@jupyter-widgets/controls",
          "model_name": "DescriptionStyleModel",
          "model_module_version": "1.5.0",
          "state": {
            "_model_module": "@jupyter-widgets/controls",
            "_model_module_version": "1.5.0",
            "_model_name": "DescriptionStyleModel",
            "_view_count": null,
            "_view_module": "@jupyter-widgets/base",
            "_view_module_version": "1.2.0",
            "_view_name": "StyleView",
            "description_width": ""
          }
        },
        "52dfb7fbce1d4aed85769d8f8bc37a95": {
          "model_module": "@jupyter-widgets/base",
          "model_name": "LayoutModel",
          "model_module_version": "1.2.0",
          "state": {
            "_model_module": "@jupyter-widgets/base",
            "_model_module_version": "1.2.0",
            "_model_name": "LayoutModel",
            "_view_count": null,
            "_view_module": "@jupyter-widgets/base",
            "_view_module_version": "1.2.0",
            "_view_name": "LayoutView",
            "align_content": null,
            "align_items": null,
            "align_self": null,
            "border": null,
            "bottom": null,
            "display": null,
            "flex": null,
            "flex_flow": null,
            "grid_area": null,
            "grid_auto_columns": null,
            "grid_auto_flow": null,
            "grid_auto_rows": null,
            "grid_column": null,
            "grid_gap": null,
            "grid_row": null,
            "grid_template_areas": null,
            "grid_template_columns": null,
            "grid_template_rows": null,
            "height": null,
            "justify_content": null,
            "justify_items": null,
            "left": null,
            "margin": null,
            "max_height": null,
            "max_width": null,
            "min_height": null,
            "min_width": null,
            "object_fit": null,
            "object_position": null,
            "order": null,
            "overflow": null,
            "overflow_x": null,
            "overflow_y": null,
            "padding": null,
            "right": null,
            "top": null,
            "visibility": null,
            "width": "20px"
          }
        },
        "671d3928080e45a287dfc8bbc4507c71": {
          "model_module": "@jupyter-widgets/controls",
          "model_name": "ProgressStyleModel",
          "model_module_version": "1.5.0",
          "state": {
            "_model_module": "@jupyter-widgets/controls",
            "_model_module_version": "1.5.0",
            "_model_name": "ProgressStyleModel",
            "_view_count": null,
            "_view_module": "@jupyter-widgets/base",
            "_view_module_version": "1.2.0",
            "_view_name": "StyleView",
            "bar_color": null,
            "description_width": ""
          }
        },
        "b4106a1d7e914a448a7bb7f4040ba11e": {
          "model_module": "@jupyter-widgets/base",
          "model_name": "LayoutModel",
          "model_module_version": "1.2.0",
          "state": {
            "_model_module": "@jupyter-widgets/base",
            "_model_module_version": "1.2.0",
            "_model_name": "LayoutModel",
            "_view_count": null,
            "_view_module": "@jupyter-widgets/base",
            "_view_module_version": "1.2.0",
            "_view_name": "LayoutView",
            "align_content": null,
            "align_items": null,
            "align_self": null,
            "border": null,
            "bottom": null,
            "display": null,
            "flex": null,
            "flex_flow": null,
            "grid_area": null,
            "grid_auto_columns": null,
            "grid_auto_flow": null,
            "grid_auto_rows": null,
            "grid_column": null,
            "grid_gap": null,
            "grid_row": null,
            "grid_template_areas": null,
            "grid_template_columns": null,
            "grid_template_rows": null,
            "height": null,
            "justify_content": null,
            "justify_items": null,
            "left": null,
            "margin": null,
            "max_height": null,
            "max_width": null,
            "min_height": null,
            "min_width": null,
            "object_fit": null,
            "object_position": null,
            "order": null,
            "overflow": null,
            "overflow_x": null,
            "overflow_y": null,
            "padding": null,
            "right": null,
            "top": null,
            "visibility": null,
            "width": null
          }
        },
        "962db280da46473aa093b492f670094c": {
          "model_module": "@jupyter-widgets/controls",
          "model_name": "DescriptionStyleModel",
          "model_module_version": "1.5.0",
          "state": {
            "_model_module": "@jupyter-widgets/controls",
            "_model_module_version": "1.5.0",
            "_model_name": "DescriptionStyleModel",
            "_view_count": null,
            "_view_module": "@jupyter-widgets/base",
            "_view_module_version": "1.2.0",
            "_view_name": "StyleView",
            "description_width": ""
          }
        },
        "b745399f6d6046f3940cb3baa8c98a4d": {
          "model_module": "@jupyter-widgets/controls",
          "model_name": "HBoxModel",
          "model_module_version": "1.5.0",
          "state": {
            "_dom_classes": [],
            "_model_module": "@jupyter-widgets/controls",
            "_model_module_version": "1.5.0",
            "_model_name": "HBoxModel",
            "_view_count": null,
            "_view_module": "@jupyter-widgets/controls",
            "_view_module_version": "1.5.0",
            "_view_name": "HBoxView",
            "box_style": "",
            "children": [
              "IPY_MODEL_57ddfe10387143d89dd8a766845be343",
              "IPY_MODEL_9eb031ccadac4b6195e2917f330ee1fb",
              "IPY_MODEL_3e59f5ac13874590a9dea9bdb5b27c9c"
            ],
            "layout": "IPY_MODEL_1a5ef8b8e8cc4fc2b04c65d217a33ed8"
          }
        },
        "57ddfe10387143d89dd8a766845be343": {
          "model_module": "@jupyter-widgets/controls",
          "model_name": "HTMLModel",
          "model_module_version": "1.5.0",
          "state": {
            "_dom_classes": [],
            "_model_module": "@jupyter-widgets/controls",
            "_model_module_version": "1.5.0",
            "_model_name": "HTMLModel",
            "_view_count": null,
            "_view_module": "@jupyter-widgets/controls",
            "_view_module_version": "1.5.0",
            "_view_name": "HTMLView",
            "description": "",
            "description_tooltip": null,
            "layout": "IPY_MODEL_064871f1c9ac4d0484651abde6c17316",
            "placeholder": "​",
            "style": "IPY_MODEL_6268d23625d643e69206963c7c1b536e",
            "value": "Generating splits...: 100%"
          }
        },
        "9eb031ccadac4b6195e2917f330ee1fb": {
          "model_module": "@jupyter-widgets/controls",
          "model_name": "FloatProgressModel",
          "model_module_version": "1.5.0",
          "state": {
            "_dom_classes": [],
            "_model_module": "@jupyter-widgets/controls",
            "_model_module_version": "1.5.0",
            "_model_name": "FloatProgressModel",
            "_view_count": null,
            "_view_module": "@jupyter-widgets/controls",
            "_view_module_version": "1.5.0",
            "_view_name": "ProgressView",
            "bar_style": "",
            "description": "",
            "description_tooltip": null,
            "layout": "IPY_MODEL_f0c1d6a9320b4c85975078562c9d8d1b",
            "max": 2,
            "min": 0,
            "orientation": "horizontal",
            "style": "IPY_MODEL_9f2fa453a23c4b14a4db81a25df8a0a7",
            "value": 2
          }
        },
        "3e59f5ac13874590a9dea9bdb5b27c9c": {
          "model_module": "@jupyter-widgets/controls",
          "model_name": "HTMLModel",
          "model_module_version": "1.5.0",
          "state": {
            "_dom_classes": [],
            "_model_module": "@jupyter-widgets/controls",
            "_model_module_version": "1.5.0",
            "_model_name": "HTMLModel",
            "_view_count": null,
            "_view_module": "@jupyter-widgets/controls",
            "_view_module_version": "1.5.0",
            "_view_name": "HTMLView",
            "description": "",
            "description_tooltip": null,
            "layout": "IPY_MODEL_f7ba9cea437249528097748a006ede52",
            "placeholder": "​",
            "style": "IPY_MODEL_a42968aaf26e47c5b5a362d14fce27be",
            "value": " 2/2 [03:43&lt;00:00, 104.63s/ splits]"
          }
        },
        "1a5ef8b8e8cc4fc2b04c65d217a33ed8": {
          "model_module": "@jupyter-widgets/base",
          "model_name": "LayoutModel",
          "model_module_version": "1.2.0",
          "state": {
            "_model_module": "@jupyter-widgets/base",
            "_model_module_version": "1.2.0",
            "_model_name": "LayoutModel",
            "_view_count": null,
            "_view_module": "@jupyter-widgets/base",
            "_view_module_version": "1.2.0",
            "_view_name": "LayoutView",
            "align_content": null,
            "align_items": null,
            "align_self": null,
            "border": null,
            "bottom": null,
            "display": null,
            "flex": null,
            "flex_flow": null,
            "grid_area": null,
            "grid_auto_columns": null,
            "grid_auto_flow": null,
            "grid_auto_rows": null,
            "grid_column": null,
            "grid_gap": null,
            "grid_row": null,
            "grid_template_areas": null,
            "grid_template_columns": null,
            "grid_template_rows": null,
            "height": null,
            "justify_content": null,
            "justify_items": null,
            "left": null,
            "margin": null,
            "max_height": null,
            "max_width": null,
            "min_height": null,
            "min_width": null,
            "object_fit": null,
            "object_position": null,
            "order": null,
            "overflow": null,
            "overflow_x": null,
            "overflow_y": null,
            "padding": null,
            "right": null,
            "top": null,
            "visibility": null,
            "width": null
          }
        },
        "064871f1c9ac4d0484651abde6c17316": {
          "model_module": "@jupyter-widgets/base",
          "model_name": "LayoutModel",
          "model_module_version": "1.2.0",
          "state": {
            "_model_module": "@jupyter-widgets/base",
            "_model_module_version": "1.2.0",
            "_model_name": "LayoutModel",
            "_view_count": null,
            "_view_module": "@jupyter-widgets/base",
            "_view_module_version": "1.2.0",
            "_view_name": "LayoutView",
            "align_content": null,
            "align_items": null,
            "align_self": null,
            "border": null,
            "bottom": null,
            "display": null,
            "flex": null,
            "flex_flow": null,
            "grid_area": null,
            "grid_auto_columns": null,
            "grid_auto_flow": null,
            "grid_auto_rows": null,
            "grid_column": null,
            "grid_gap": null,
            "grid_row": null,
            "grid_template_areas": null,
            "grid_template_columns": null,
            "grid_template_rows": null,
            "height": null,
            "justify_content": null,
            "justify_items": null,
            "left": null,
            "margin": null,
            "max_height": null,
            "max_width": null,
            "min_height": null,
            "min_width": null,
            "object_fit": null,
            "object_position": null,
            "order": null,
            "overflow": null,
            "overflow_x": null,
            "overflow_y": null,
            "padding": null,
            "right": null,
            "top": null,
            "visibility": null,
            "width": null
          }
        },
        "6268d23625d643e69206963c7c1b536e": {
          "model_module": "@jupyter-widgets/controls",
          "model_name": "DescriptionStyleModel",
          "model_module_version": "1.5.0",
          "state": {
            "_model_module": "@jupyter-widgets/controls",
            "_model_module_version": "1.5.0",
            "_model_name": "DescriptionStyleModel",
            "_view_count": null,
            "_view_module": "@jupyter-widgets/base",
            "_view_module_version": "1.2.0",
            "_view_name": "StyleView",
            "description_width": ""
          }
        },
        "f0c1d6a9320b4c85975078562c9d8d1b": {
          "model_module": "@jupyter-widgets/base",
          "model_name": "LayoutModel",
          "model_module_version": "1.2.0",
          "state": {
            "_model_module": "@jupyter-widgets/base",
            "_model_module_version": "1.2.0",
            "_model_name": "LayoutModel",
            "_view_count": null,
            "_view_module": "@jupyter-widgets/base",
            "_view_module_version": "1.2.0",
            "_view_name": "LayoutView",
            "align_content": null,
            "align_items": null,
            "align_self": null,
            "border": null,
            "bottom": null,
            "display": null,
            "flex": null,
            "flex_flow": null,
            "grid_area": null,
            "grid_auto_columns": null,
            "grid_auto_flow": null,
            "grid_auto_rows": null,
            "grid_column": null,
            "grid_gap": null,
            "grid_row": null,
            "grid_template_areas": null,
            "grid_template_columns": null,
            "grid_template_rows": null,
            "height": null,
            "justify_content": null,
            "justify_items": null,
            "left": null,
            "margin": null,
            "max_height": null,
            "max_width": null,
            "min_height": null,
            "min_width": null,
            "object_fit": null,
            "object_position": null,
            "order": null,
            "overflow": null,
            "overflow_x": null,
            "overflow_y": null,
            "padding": null,
            "right": null,
            "top": null,
            "visibility": null,
            "width": null
          }
        },
        "9f2fa453a23c4b14a4db81a25df8a0a7": {
          "model_module": "@jupyter-widgets/controls",
          "model_name": "ProgressStyleModel",
          "model_module_version": "1.5.0",
          "state": {
            "_model_module": "@jupyter-widgets/controls",
            "_model_module_version": "1.5.0",
            "_model_name": "ProgressStyleModel",
            "_view_count": null,
            "_view_module": "@jupyter-widgets/base",
            "_view_module_version": "1.2.0",
            "_view_name": "StyleView",
            "bar_color": null,
            "description_width": ""
          }
        },
        "f7ba9cea437249528097748a006ede52": {
          "model_module": "@jupyter-widgets/base",
          "model_name": "LayoutModel",
          "model_module_version": "1.2.0",
          "state": {
            "_model_module": "@jupyter-widgets/base",
            "_model_module_version": "1.2.0",
            "_model_name": "LayoutModel",
            "_view_count": null,
            "_view_module": "@jupyter-widgets/base",
            "_view_module_version": "1.2.0",
            "_view_name": "LayoutView",
            "align_content": null,
            "align_items": null,
            "align_self": null,
            "border": null,
            "bottom": null,
            "display": null,
            "flex": null,
            "flex_flow": null,
            "grid_area": null,
            "grid_auto_columns": null,
            "grid_auto_flow": null,
            "grid_auto_rows": null,
            "grid_column": null,
            "grid_gap": null,
            "grid_row": null,
            "grid_template_areas": null,
            "grid_template_columns": null,
            "grid_template_rows": null,
            "height": null,
            "justify_content": null,
            "justify_items": null,
            "left": null,
            "margin": null,
            "max_height": null,
            "max_width": null,
            "min_height": null,
            "min_width": null,
            "object_fit": null,
            "object_position": null,
            "order": null,
            "overflow": null,
            "overflow_x": null,
            "overflow_y": null,
            "padding": null,
            "right": null,
            "top": null,
            "visibility": null,
            "width": null
          }
        },
        "a42968aaf26e47c5b5a362d14fce27be": {
          "model_module": "@jupyter-widgets/controls",
          "model_name": "DescriptionStyleModel",
          "model_module_version": "1.5.0",
          "state": {
            "_model_module": "@jupyter-widgets/controls",
            "_model_module_version": "1.5.0",
            "_model_name": "DescriptionStyleModel",
            "_view_count": null,
            "_view_module": "@jupyter-widgets/base",
            "_view_module_version": "1.2.0",
            "_view_name": "StyleView",
            "description_width": ""
          }
        },
        "532a7cc10f97440f9483be7d38d9a6a6": {
          "model_module": "@jupyter-widgets/controls",
          "model_name": "HBoxModel",
          "model_module_version": "1.5.0",
          "state": {
            "_dom_classes": [],
            "_model_module": "@jupyter-widgets/controls",
            "_model_module_version": "1.5.0",
            "_model_name": "HBoxModel",
            "_view_count": null,
            "_view_module": "@jupyter-widgets/controls",
            "_view_module_version": "1.5.0",
            "_view_name": "HBoxView",
            "box_style": "",
            "children": [
              "IPY_MODEL_348995345f1e49e38d7f73a043c4d368",
              "IPY_MODEL_5d4e07606d204f879d0af1a1050d6b5b",
              "IPY_MODEL_53a3871f63ed45d29ed5633fa9538bd5"
            ],
            "layout": "IPY_MODEL_bef3a38dcb744deda963b512b5a1d667"
          }
        },
        "348995345f1e49e38d7f73a043c4d368": {
          "model_module": "@jupyter-widgets/controls",
          "model_name": "HTMLModel",
          "model_module_version": "1.5.0",
          "state": {
            "_dom_classes": [],
            "_model_module": "@jupyter-widgets/controls",
            "_model_module_version": "1.5.0",
            "_model_name": "HTMLModel",
            "_view_count": null,
            "_view_module": "@jupyter-widgets/controls",
            "_view_module_version": "1.5.0",
            "_view_name": "HTMLView",
            "description": "",
            "description_tooltip": null,
            "layout": "IPY_MODEL_4172672cb7c94b8b8a6ff88c5870bdc1",
            "placeholder": "​",
            "style": "IPY_MODEL_3f0df3101c5b4aa6ab696e0d71ff06b0",
            "value": "Generating train examples...: 100%"
          }
        },
        "5d4e07606d204f879d0af1a1050d6b5b": {
          "model_module": "@jupyter-widgets/controls",
          "model_name": "FloatProgressModel",
          "model_module_version": "1.5.0",
          "state": {
            "_dom_classes": [],
            "_model_module": "@jupyter-widgets/controls",
            "_model_module_version": "1.5.0",
            "_model_name": "FloatProgressModel",
            "_view_count": null,
            "_view_module": "@jupyter-widgets/controls",
            "_view_module_version": "1.5.0",
            "_view_name": "ProgressView",
            "bar_style": "",
            "description": "",
            "description_tooltip": null,
            "layout": "IPY_MODEL_d9ab6d21b7ae4ba6b59d4d78c24e81f3",
            "max": 75750,
            "min": 0,
            "orientation": "horizontal",
            "style": "IPY_MODEL_186bfc3b78e74dbdb6abcd6dd859a4ee",
            "value": 75750
          }
        },
        "53a3871f63ed45d29ed5633fa9538bd5": {
          "model_module": "@jupyter-widgets/controls",
          "model_name": "HTMLModel",
          "model_module_version": "1.5.0",
          "state": {
            "_dom_classes": [],
            "_model_module": "@jupyter-widgets/controls",
            "_model_module_version": "1.5.0",
            "_model_name": "HTMLModel",
            "_view_count": null,
            "_view_module": "@jupyter-widgets/controls",
            "_view_module_version": "1.5.0",
            "_view_name": "HTMLView",
            "description": "",
            "description_tooltip": null,
            "layout": "IPY_MODEL_80b49ea986114dd38a9d027b597ab62e",
            "placeholder": "​",
            "style": "IPY_MODEL_682009bd13384a35bf24452e70553b3d",
            "value": " 75671/75750 [02:00&lt;00:00, 670.42 examples/s]"
          }
        },
        "bef3a38dcb744deda963b512b5a1d667": {
          "model_module": "@jupyter-widgets/base",
          "model_name": "LayoutModel",
          "model_module_version": "1.2.0",
          "state": {
            "_model_module": "@jupyter-widgets/base",
            "_model_module_version": "1.2.0",
            "_model_name": "LayoutModel",
            "_view_count": null,
            "_view_module": "@jupyter-widgets/base",
            "_view_module_version": "1.2.0",
            "_view_name": "LayoutView",
            "align_content": null,
            "align_items": null,
            "align_self": null,
            "border": null,
            "bottom": null,
            "display": null,
            "flex": null,
            "flex_flow": null,
            "grid_area": null,
            "grid_auto_columns": null,
            "grid_auto_flow": null,
            "grid_auto_rows": null,
            "grid_column": null,
            "grid_gap": null,
            "grid_row": null,
            "grid_template_areas": null,
            "grid_template_columns": null,
            "grid_template_rows": null,
            "height": null,
            "justify_content": null,
            "justify_items": null,
            "left": null,
            "margin": null,
            "max_height": null,
            "max_width": null,
            "min_height": null,
            "min_width": null,
            "object_fit": null,
            "object_position": null,
            "order": null,
            "overflow": null,
            "overflow_x": null,
            "overflow_y": null,
            "padding": null,
            "right": null,
            "top": null,
            "visibility": null,
            "width": null
          }
        },
        "4172672cb7c94b8b8a6ff88c5870bdc1": {
          "model_module": "@jupyter-widgets/base",
          "model_name": "LayoutModel",
          "model_module_version": "1.2.0",
          "state": {
            "_model_module": "@jupyter-widgets/base",
            "_model_module_version": "1.2.0",
            "_model_name": "LayoutModel",
            "_view_count": null,
            "_view_module": "@jupyter-widgets/base",
            "_view_module_version": "1.2.0",
            "_view_name": "LayoutView",
            "align_content": null,
            "align_items": null,
            "align_self": null,
            "border": null,
            "bottom": null,
            "display": null,
            "flex": null,
            "flex_flow": null,
            "grid_area": null,
            "grid_auto_columns": null,
            "grid_auto_flow": null,
            "grid_auto_rows": null,
            "grid_column": null,
            "grid_gap": null,
            "grid_row": null,
            "grid_template_areas": null,
            "grid_template_columns": null,
            "grid_template_rows": null,
            "height": null,
            "justify_content": null,
            "justify_items": null,
            "left": null,
            "margin": null,
            "max_height": null,
            "max_width": null,
            "min_height": null,
            "min_width": null,
            "object_fit": null,
            "object_position": null,
            "order": null,
            "overflow": null,
            "overflow_x": null,
            "overflow_y": null,
            "padding": null,
            "right": null,
            "top": null,
            "visibility": null,
            "width": null
          }
        },
        "3f0df3101c5b4aa6ab696e0d71ff06b0": {
          "model_module": "@jupyter-widgets/controls",
          "model_name": "DescriptionStyleModel",
          "model_module_version": "1.5.0",
          "state": {
            "_model_module": "@jupyter-widgets/controls",
            "_model_module_version": "1.5.0",
            "_model_name": "DescriptionStyleModel",
            "_view_count": null,
            "_view_module": "@jupyter-widgets/base",
            "_view_module_version": "1.2.0",
            "_view_name": "StyleView",
            "description_width": ""
          }
        },
        "d9ab6d21b7ae4ba6b59d4d78c24e81f3": {
          "model_module": "@jupyter-widgets/base",
          "model_name": "LayoutModel",
          "model_module_version": "1.2.0",
          "state": {
            "_model_module": "@jupyter-widgets/base",
            "_model_module_version": "1.2.0",
            "_model_name": "LayoutModel",
            "_view_count": null,
            "_view_module": "@jupyter-widgets/base",
            "_view_module_version": "1.2.0",
            "_view_name": "LayoutView",
            "align_content": null,
            "align_items": null,
            "align_self": null,
            "border": null,
            "bottom": null,
            "display": null,
            "flex": null,
            "flex_flow": null,
            "grid_area": null,
            "grid_auto_columns": null,
            "grid_auto_flow": null,
            "grid_auto_rows": null,
            "grid_column": null,
            "grid_gap": null,
            "grid_row": null,
            "grid_template_areas": null,
            "grid_template_columns": null,
            "grid_template_rows": null,
            "height": null,
            "justify_content": null,
            "justify_items": null,
            "left": null,
            "margin": null,
            "max_height": null,
            "max_width": null,
            "min_height": null,
            "min_width": null,
            "object_fit": null,
            "object_position": null,
            "order": null,
            "overflow": null,
            "overflow_x": null,
            "overflow_y": null,
            "padding": null,
            "right": null,
            "top": null,
            "visibility": null,
            "width": null
          }
        },
        "186bfc3b78e74dbdb6abcd6dd859a4ee": {
          "model_module": "@jupyter-widgets/controls",
          "model_name": "ProgressStyleModel",
          "model_module_version": "1.5.0",
          "state": {
            "_model_module": "@jupyter-widgets/controls",
            "_model_module_version": "1.5.0",
            "_model_name": "ProgressStyleModel",
            "_view_count": null,
            "_view_module": "@jupyter-widgets/base",
            "_view_module_version": "1.2.0",
            "_view_name": "StyleView",
            "bar_color": null,
            "description_width": ""
          }
        },
        "80b49ea986114dd38a9d027b597ab62e": {
          "model_module": "@jupyter-widgets/base",
          "model_name": "LayoutModel",
          "model_module_version": "1.2.0",
          "state": {
            "_model_module": "@jupyter-widgets/base",
            "_model_module_version": "1.2.0",
            "_model_name": "LayoutModel",
            "_view_count": null,
            "_view_module": "@jupyter-widgets/base",
            "_view_module_version": "1.2.0",
            "_view_name": "LayoutView",
            "align_content": null,
            "align_items": null,
            "align_self": null,
            "border": null,
            "bottom": null,
            "display": null,
            "flex": null,
            "flex_flow": null,
            "grid_area": null,
            "grid_auto_columns": null,
            "grid_auto_flow": null,
            "grid_auto_rows": null,
            "grid_column": null,
            "grid_gap": null,
            "grid_row": null,
            "grid_template_areas": null,
            "grid_template_columns": null,
            "grid_template_rows": null,
            "height": null,
            "justify_content": null,
            "justify_items": null,
            "left": null,
            "margin": null,
            "max_height": null,
            "max_width": null,
            "min_height": null,
            "min_width": null,
            "object_fit": null,
            "object_position": null,
            "order": null,
            "overflow": null,
            "overflow_x": null,
            "overflow_y": null,
            "padding": null,
            "right": null,
            "top": null,
            "visibility": null,
            "width": null
          }
        },
        "682009bd13384a35bf24452e70553b3d": {
          "model_module": "@jupyter-widgets/controls",
          "model_name": "DescriptionStyleModel",
          "model_module_version": "1.5.0",
          "state": {
            "_model_module": "@jupyter-widgets/controls",
            "_model_module_version": "1.5.0",
            "_model_name": "DescriptionStyleModel",
            "_view_count": null,
            "_view_module": "@jupyter-widgets/base",
            "_view_module_version": "1.2.0",
            "_view_name": "StyleView",
            "description_width": ""
          }
        },
        "58f0e695f43d44269e0b1f31b0907eb2": {
          "model_module": "@jupyter-widgets/controls",
          "model_name": "HBoxModel",
          "model_module_version": "1.5.0",
          "state": {
            "_dom_classes": [],
            "_model_module": "@jupyter-widgets/controls",
            "_model_module_version": "1.5.0",
            "_model_name": "HBoxModel",
            "_view_count": null,
            "_view_module": "@jupyter-widgets/controls",
            "_view_module_version": "1.5.0",
            "_view_name": "HBoxView",
            "box_style": "",
            "children": [
              "IPY_MODEL_805334eb743648f0b2490b4122ca8a05",
              "IPY_MODEL_28947311687e4123a35691778455af9c",
              "IPY_MODEL_384205d5fd694cbb840077bdcd8ece7f"
            ],
            "layout": "IPY_MODEL_aa9fa14a63ab4225a8d39139c16f6c58"
          }
        },
        "805334eb743648f0b2490b4122ca8a05": {
          "model_module": "@jupyter-widgets/controls",
          "model_name": "HTMLModel",
          "model_module_version": "1.5.0",
          "state": {
            "_dom_classes": [],
            "_model_module": "@jupyter-widgets/controls",
            "_model_module_version": "1.5.0",
            "_model_name": "HTMLModel",
            "_view_count": null,
            "_view_module": "@jupyter-widgets/controls",
            "_view_module_version": "1.5.0",
            "_view_name": "HTMLView",
            "description": "",
            "description_tooltip": null,
            "layout": "IPY_MODEL_1fc5ade640464cb884c161a352cd6f43",
            "placeholder": "​",
            "style": "IPY_MODEL_2eb3725156fb4351b51bc2bd4698105a",
            "value": "Shuffling ~/tensorflow_datasets/food101/2.0.0.incomplete820MS7/food101-train.tfrecord*...: 100%"
          }
        },
        "28947311687e4123a35691778455af9c": {
          "model_module": "@jupyter-widgets/controls",
          "model_name": "FloatProgressModel",
          "model_module_version": "1.5.0",
          "state": {
            "_dom_classes": [],
            "_model_module": "@jupyter-widgets/controls",
            "_model_module_version": "1.5.0",
            "_model_name": "FloatProgressModel",
            "_view_count": null,
            "_view_module": "@jupyter-widgets/controls",
            "_view_module_version": "1.5.0",
            "_view_name": "ProgressView",
            "bar_style": "",
            "description": "",
            "description_tooltip": null,
            "layout": "IPY_MODEL_406a66c5527d43929045480452b28529",
            "max": 75750,
            "min": 0,
            "orientation": "horizontal",
            "style": "IPY_MODEL_6008a940679249d4b4e2bc1c60bb69dd",
            "value": 75750
          }
        },
        "384205d5fd694cbb840077bdcd8ece7f": {
          "model_module": "@jupyter-widgets/controls",
          "model_name": "HTMLModel",
          "model_module_version": "1.5.0",
          "state": {
            "_dom_classes": [],
            "_model_module": "@jupyter-widgets/controls",
            "_model_module_version": "1.5.0",
            "_model_name": "HTMLModel",
            "_view_count": null,
            "_view_module": "@jupyter-widgets/controls",
            "_view_module_version": "1.5.0",
            "_view_name": "HTMLView",
            "description": "",
            "description_tooltip": null,
            "layout": "IPY_MODEL_60389cf9750f48c4843529027bcf19e9",
            "placeholder": "​",
            "style": "IPY_MODEL_c54fe9d716eb457a97d86a30cca688bc",
            "value": " 75516/75750 [00:29&lt;00:00, 2654.84 examples/s]"
          }
        },
        "aa9fa14a63ab4225a8d39139c16f6c58": {
          "model_module": "@jupyter-widgets/base",
          "model_name": "LayoutModel",
          "model_module_version": "1.2.0",
          "state": {
            "_model_module": "@jupyter-widgets/base",
            "_model_module_version": "1.2.0",
            "_model_name": "LayoutModel",
            "_view_count": null,
            "_view_module": "@jupyter-widgets/base",
            "_view_module_version": "1.2.0",
            "_view_name": "LayoutView",
            "align_content": null,
            "align_items": null,
            "align_self": null,
            "border": null,
            "bottom": null,
            "display": null,
            "flex": null,
            "flex_flow": null,
            "grid_area": null,
            "grid_auto_columns": null,
            "grid_auto_flow": null,
            "grid_auto_rows": null,
            "grid_column": null,
            "grid_gap": null,
            "grid_row": null,
            "grid_template_areas": null,
            "grid_template_columns": null,
            "grid_template_rows": null,
            "height": null,
            "justify_content": null,
            "justify_items": null,
            "left": null,
            "margin": null,
            "max_height": null,
            "max_width": null,
            "min_height": null,
            "min_width": null,
            "object_fit": null,
            "object_position": null,
            "order": null,
            "overflow": null,
            "overflow_x": null,
            "overflow_y": null,
            "padding": null,
            "right": null,
            "top": null,
            "visibility": null,
            "width": null
          }
        },
        "1fc5ade640464cb884c161a352cd6f43": {
          "model_module": "@jupyter-widgets/base",
          "model_name": "LayoutModel",
          "model_module_version": "1.2.0",
          "state": {
            "_model_module": "@jupyter-widgets/base",
            "_model_module_version": "1.2.0",
            "_model_name": "LayoutModel",
            "_view_count": null,
            "_view_module": "@jupyter-widgets/base",
            "_view_module_version": "1.2.0",
            "_view_name": "LayoutView",
            "align_content": null,
            "align_items": null,
            "align_self": null,
            "border": null,
            "bottom": null,
            "display": null,
            "flex": null,
            "flex_flow": null,
            "grid_area": null,
            "grid_auto_columns": null,
            "grid_auto_flow": null,
            "grid_auto_rows": null,
            "grid_column": null,
            "grid_gap": null,
            "grid_row": null,
            "grid_template_areas": null,
            "grid_template_columns": null,
            "grid_template_rows": null,
            "height": null,
            "justify_content": null,
            "justify_items": null,
            "left": null,
            "margin": null,
            "max_height": null,
            "max_width": null,
            "min_height": null,
            "min_width": null,
            "object_fit": null,
            "object_position": null,
            "order": null,
            "overflow": null,
            "overflow_x": null,
            "overflow_y": null,
            "padding": null,
            "right": null,
            "top": null,
            "visibility": null,
            "width": null
          }
        },
        "2eb3725156fb4351b51bc2bd4698105a": {
          "model_module": "@jupyter-widgets/controls",
          "model_name": "DescriptionStyleModel",
          "model_module_version": "1.5.0",
          "state": {
            "_model_module": "@jupyter-widgets/controls",
            "_model_module_version": "1.5.0",
            "_model_name": "DescriptionStyleModel",
            "_view_count": null,
            "_view_module": "@jupyter-widgets/base",
            "_view_module_version": "1.2.0",
            "_view_name": "StyleView",
            "description_width": ""
          }
        },
        "406a66c5527d43929045480452b28529": {
          "model_module": "@jupyter-widgets/base",
          "model_name": "LayoutModel",
          "model_module_version": "1.2.0",
          "state": {
            "_model_module": "@jupyter-widgets/base",
            "_model_module_version": "1.2.0",
            "_model_name": "LayoutModel",
            "_view_count": null,
            "_view_module": "@jupyter-widgets/base",
            "_view_module_version": "1.2.0",
            "_view_name": "LayoutView",
            "align_content": null,
            "align_items": null,
            "align_self": null,
            "border": null,
            "bottom": null,
            "display": null,
            "flex": null,
            "flex_flow": null,
            "grid_area": null,
            "grid_auto_columns": null,
            "grid_auto_flow": null,
            "grid_auto_rows": null,
            "grid_column": null,
            "grid_gap": null,
            "grid_row": null,
            "grid_template_areas": null,
            "grid_template_columns": null,
            "grid_template_rows": null,
            "height": null,
            "justify_content": null,
            "justify_items": null,
            "left": null,
            "margin": null,
            "max_height": null,
            "max_width": null,
            "min_height": null,
            "min_width": null,
            "object_fit": null,
            "object_position": null,
            "order": null,
            "overflow": null,
            "overflow_x": null,
            "overflow_y": null,
            "padding": null,
            "right": null,
            "top": null,
            "visibility": null,
            "width": null
          }
        },
        "6008a940679249d4b4e2bc1c60bb69dd": {
          "model_module": "@jupyter-widgets/controls",
          "model_name": "ProgressStyleModel",
          "model_module_version": "1.5.0",
          "state": {
            "_model_module": "@jupyter-widgets/controls",
            "_model_module_version": "1.5.0",
            "_model_name": "ProgressStyleModel",
            "_view_count": null,
            "_view_module": "@jupyter-widgets/base",
            "_view_module_version": "1.2.0",
            "_view_name": "StyleView",
            "bar_color": null,
            "description_width": ""
          }
        },
        "60389cf9750f48c4843529027bcf19e9": {
          "model_module": "@jupyter-widgets/base",
          "model_name": "LayoutModel",
          "model_module_version": "1.2.0",
          "state": {
            "_model_module": "@jupyter-widgets/base",
            "_model_module_version": "1.2.0",
            "_model_name": "LayoutModel",
            "_view_count": null,
            "_view_module": "@jupyter-widgets/base",
            "_view_module_version": "1.2.0",
            "_view_name": "LayoutView",
            "align_content": null,
            "align_items": null,
            "align_self": null,
            "border": null,
            "bottom": null,
            "display": null,
            "flex": null,
            "flex_flow": null,
            "grid_area": null,
            "grid_auto_columns": null,
            "grid_auto_flow": null,
            "grid_auto_rows": null,
            "grid_column": null,
            "grid_gap": null,
            "grid_row": null,
            "grid_template_areas": null,
            "grid_template_columns": null,
            "grid_template_rows": null,
            "height": null,
            "justify_content": null,
            "justify_items": null,
            "left": null,
            "margin": null,
            "max_height": null,
            "max_width": null,
            "min_height": null,
            "min_width": null,
            "object_fit": null,
            "object_position": null,
            "order": null,
            "overflow": null,
            "overflow_x": null,
            "overflow_y": null,
            "padding": null,
            "right": null,
            "top": null,
            "visibility": null,
            "width": null
          }
        },
        "c54fe9d716eb457a97d86a30cca688bc": {
          "model_module": "@jupyter-widgets/controls",
          "model_name": "DescriptionStyleModel",
          "model_module_version": "1.5.0",
          "state": {
            "_model_module": "@jupyter-widgets/controls",
            "_model_module_version": "1.5.0",
            "_model_name": "DescriptionStyleModel",
            "_view_count": null,
            "_view_module": "@jupyter-widgets/base",
            "_view_module_version": "1.2.0",
            "_view_name": "StyleView",
            "description_width": ""
          }
        },
        "78d2881557694df9a208303334bcc4ca": {
          "model_module": "@jupyter-widgets/controls",
          "model_name": "HBoxModel",
          "model_module_version": "1.5.0",
          "state": {
            "_dom_classes": [],
            "_model_module": "@jupyter-widgets/controls",
            "_model_module_version": "1.5.0",
            "_model_name": "HBoxModel",
            "_view_count": null,
            "_view_module": "@jupyter-widgets/controls",
            "_view_module_version": "1.5.0",
            "_view_name": "HBoxView",
            "box_style": "",
            "children": [
              "IPY_MODEL_3ce5022e1769401d9c6bde57f7fafed0",
              "IPY_MODEL_4a2587b0414145889a7a3163ab7fd164",
              "IPY_MODEL_931976d3dcc047768225f0de3fd49055"
            ],
            "layout": "IPY_MODEL_e41343b71a994c6796e5d601481023bc"
          }
        },
        "3ce5022e1769401d9c6bde57f7fafed0": {
          "model_module": "@jupyter-widgets/controls",
          "model_name": "HTMLModel",
          "model_module_version": "1.5.0",
          "state": {
            "_dom_classes": [],
            "_model_module": "@jupyter-widgets/controls",
            "_model_module_version": "1.5.0",
            "_model_name": "HTMLModel",
            "_view_count": null,
            "_view_module": "@jupyter-widgets/controls",
            "_view_module_version": "1.5.0",
            "_view_name": "HTMLView",
            "description": "",
            "description_tooltip": null,
            "layout": "IPY_MODEL_0c756f337b494dc492a8b77894b465f9",
            "placeholder": "​",
            "style": "IPY_MODEL_d64ec55d932c4f85af58625d9e122189",
            "value": "Generating validation examples...: 100%"
          }
        },
        "4a2587b0414145889a7a3163ab7fd164": {
          "model_module": "@jupyter-widgets/controls",
          "model_name": "FloatProgressModel",
          "model_module_version": "1.5.0",
          "state": {
            "_dom_classes": [],
            "_model_module": "@jupyter-widgets/controls",
            "_model_module_version": "1.5.0",
            "_model_name": "FloatProgressModel",
            "_view_count": null,
            "_view_module": "@jupyter-widgets/controls",
            "_view_module_version": "1.5.0",
            "_view_name": "ProgressView",
            "bar_style": "",
            "description": "",
            "description_tooltip": null,
            "layout": "IPY_MODEL_8c6ecc3ab0544fad9766000cac34dffa",
            "max": 25250,
            "min": 0,
            "orientation": "horizontal",
            "style": "IPY_MODEL_5dd64ab0e8684a4cbb178234fb41e029",
            "value": 25250
          }
        },
        "931976d3dcc047768225f0de3fd49055": {
          "model_module": "@jupyter-widgets/controls",
          "model_name": "HTMLModel",
          "model_module_version": "1.5.0",
          "state": {
            "_dom_classes": [],
            "_model_module": "@jupyter-widgets/controls",
            "_model_module_version": "1.5.0",
            "_model_name": "HTMLModel",
            "_view_count": null,
            "_view_module": "@jupyter-widgets/controls",
            "_view_module_version": "1.5.0",
            "_view_name": "HTMLView",
            "description": "",
            "description_tooltip": null,
            "layout": "IPY_MODEL_b6b68d4f449b4daeafde5c709d0ba9eb",
            "placeholder": "​",
            "style": "IPY_MODEL_a18fe2f072df4fd4a9be9a975b6bf6ff",
            "value": " 25236/25250 [01:07&lt;00:00, 418.49 examples/s]"
          }
        },
        "e41343b71a994c6796e5d601481023bc": {
          "model_module": "@jupyter-widgets/base",
          "model_name": "LayoutModel",
          "model_module_version": "1.2.0",
          "state": {
            "_model_module": "@jupyter-widgets/base",
            "_model_module_version": "1.2.0",
            "_model_name": "LayoutModel",
            "_view_count": null,
            "_view_module": "@jupyter-widgets/base",
            "_view_module_version": "1.2.0",
            "_view_name": "LayoutView",
            "align_content": null,
            "align_items": null,
            "align_self": null,
            "border": null,
            "bottom": null,
            "display": null,
            "flex": null,
            "flex_flow": null,
            "grid_area": null,
            "grid_auto_columns": null,
            "grid_auto_flow": null,
            "grid_auto_rows": null,
            "grid_column": null,
            "grid_gap": null,
            "grid_row": null,
            "grid_template_areas": null,
            "grid_template_columns": null,
            "grid_template_rows": null,
            "height": null,
            "justify_content": null,
            "justify_items": null,
            "left": null,
            "margin": null,
            "max_height": null,
            "max_width": null,
            "min_height": null,
            "min_width": null,
            "object_fit": null,
            "object_position": null,
            "order": null,
            "overflow": null,
            "overflow_x": null,
            "overflow_y": null,
            "padding": null,
            "right": null,
            "top": null,
            "visibility": null,
            "width": null
          }
        },
        "0c756f337b494dc492a8b77894b465f9": {
          "model_module": "@jupyter-widgets/base",
          "model_name": "LayoutModel",
          "model_module_version": "1.2.0",
          "state": {
            "_model_module": "@jupyter-widgets/base",
            "_model_module_version": "1.2.0",
            "_model_name": "LayoutModel",
            "_view_count": null,
            "_view_module": "@jupyter-widgets/base",
            "_view_module_version": "1.2.0",
            "_view_name": "LayoutView",
            "align_content": null,
            "align_items": null,
            "align_self": null,
            "border": null,
            "bottom": null,
            "display": null,
            "flex": null,
            "flex_flow": null,
            "grid_area": null,
            "grid_auto_columns": null,
            "grid_auto_flow": null,
            "grid_auto_rows": null,
            "grid_column": null,
            "grid_gap": null,
            "grid_row": null,
            "grid_template_areas": null,
            "grid_template_columns": null,
            "grid_template_rows": null,
            "height": null,
            "justify_content": null,
            "justify_items": null,
            "left": null,
            "margin": null,
            "max_height": null,
            "max_width": null,
            "min_height": null,
            "min_width": null,
            "object_fit": null,
            "object_position": null,
            "order": null,
            "overflow": null,
            "overflow_x": null,
            "overflow_y": null,
            "padding": null,
            "right": null,
            "top": null,
            "visibility": null,
            "width": null
          }
        },
        "d64ec55d932c4f85af58625d9e122189": {
          "model_module": "@jupyter-widgets/controls",
          "model_name": "DescriptionStyleModel",
          "model_module_version": "1.5.0",
          "state": {
            "_model_module": "@jupyter-widgets/controls",
            "_model_module_version": "1.5.0",
            "_model_name": "DescriptionStyleModel",
            "_view_count": null,
            "_view_module": "@jupyter-widgets/base",
            "_view_module_version": "1.2.0",
            "_view_name": "StyleView",
            "description_width": ""
          }
        },
        "8c6ecc3ab0544fad9766000cac34dffa": {
          "model_module": "@jupyter-widgets/base",
          "model_name": "LayoutModel",
          "model_module_version": "1.2.0",
          "state": {
            "_model_module": "@jupyter-widgets/base",
            "_model_module_version": "1.2.0",
            "_model_name": "LayoutModel",
            "_view_count": null,
            "_view_module": "@jupyter-widgets/base",
            "_view_module_version": "1.2.0",
            "_view_name": "LayoutView",
            "align_content": null,
            "align_items": null,
            "align_self": null,
            "border": null,
            "bottom": null,
            "display": null,
            "flex": null,
            "flex_flow": null,
            "grid_area": null,
            "grid_auto_columns": null,
            "grid_auto_flow": null,
            "grid_auto_rows": null,
            "grid_column": null,
            "grid_gap": null,
            "grid_row": null,
            "grid_template_areas": null,
            "grid_template_columns": null,
            "grid_template_rows": null,
            "height": null,
            "justify_content": null,
            "justify_items": null,
            "left": null,
            "margin": null,
            "max_height": null,
            "max_width": null,
            "min_height": null,
            "min_width": null,
            "object_fit": null,
            "object_position": null,
            "order": null,
            "overflow": null,
            "overflow_x": null,
            "overflow_y": null,
            "padding": null,
            "right": null,
            "top": null,
            "visibility": null,
            "width": null
          }
        },
        "5dd64ab0e8684a4cbb178234fb41e029": {
          "model_module": "@jupyter-widgets/controls",
          "model_name": "ProgressStyleModel",
          "model_module_version": "1.5.0",
          "state": {
            "_model_module": "@jupyter-widgets/controls",
            "_model_module_version": "1.5.0",
            "_model_name": "ProgressStyleModel",
            "_view_count": null,
            "_view_module": "@jupyter-widgets/base",
            "_view_module_version": "1.2.0",
            "_view_name": "StyleView",
            "bar_color": null,
            "description_width": ""
          }
        },
        "b6b68d4f449b4daeafde5c709d0ba9eb": {
          "model_module": "@jupyter-widgets/base",
          "model_name": "LayoutModel",
          "model_module_version": "1.2.0",
          "state": {
            "_model_module": "@jupyter-widgets/base",
            "_model_module_version": "1.2.0",
            "_model_name": "LayoutModel",
            "_view_count": null,
            "_view_module": "@jupyter-widgets/base",
            "_view_module_version": "1.2.0",
            "_view_name": "LayoutView",
            "align_content": null,
            "align_items": null,
            "align_self": null,
            "border": null,
            "bottom": null,
            "display": null,
            "flex": null,
            "flex_flow": null,
            "grid_area": null,
            "grid_auto_columns": null,
            "grid_auto_flow": null,
            "grid_auto_rows": null,
            "grid_column": null,
            "grid_gap": null,
            "grid_row": null,
            "grid_template_areas": null,
            "grid_template_columns": null,
            "grid_template_rows": null,
            "height": null,
            "justify_content": null,
            "justify_items": null,
            "left": null,
            "margin": null,
            "max_height": null,
            "max_width": null,
            "min_height": null,
            "min_width": null,
            "object_fit": null,
            "object_position": null,
            "order": null,
            "overflow": null,
            "overflow_x": null,
            "overflow_y": null,
            "padding": null,
            "right": null,
            "top": null,
            "visibility": null,
            "width": null
          }
        },
        "a18fe2f072df4fd4a9be9a975b6bf6ff": {
          "model_module": "@jupyter-widgets/controls",
          "model_name": "DescriptionStyleModel",
          "model_module_version": "1.5.0",
          "state": {
            "_model_module": "@jupyter-widgets/controls",
            "_model_module_version": "1.5.0",
            "_model_name": "DescriptionStyleModel",
            "_view_count": null,
            "_view_module": "@jupyter-widgets/base",
            "_view_module_version": "1.2.0",
            "_view_name": "StyleView",
            "description_width": ""
          }
        },
        "db6e366eae1a42f9b81589cb759f2919": {
          "model_module": "@jupyter-widgets/controls",
          "model_name": "HBoxModel",
          "model_module_version": "1.5.0",
          "state": {
            "_dom_classes": [],
            "_model_module": "@jupyter-widgets/controls",
            "_model_module_version": "1.5.0",
            "_model_name": "HBoxModel",
            "_view_count": null,
            "_view_module": "@jupyter-widgets/controls",
            "_view_module_version": "1.5.0",
            "_view_name": "HBoxView",
            "box_style": "",
            "children": [
              "IPY_MODEL_91b875aba05d4eb38a4a6314027f15b3",
              "IPY_MODEL_53b14e9614cc4e3981ef8ded0cc943a3",
              "IPY_MODEL_cd7835fda6c74f3e98934c387173bc86"
            ],
            "layout": "IPY_MODEL_c0798a4a5ea0489d987ef6e7bfe21b95"
          }
        },
        "91b875aba05d4eb38a4a6314027f15b3": {
          "model_module": "@jupyter-widgets/controls",
          "model_name": "HTMLModel",
          "model_module_version": "1.5.0",
          "state": {
            "_dom_classes": [],
            "_model_module": "@jupyter-widgets/controls",
            "_model_module_version": "1.5.0",
            "_model_name": "HTMLModel",
            "_view_count": null,
            "_view_module": "@jupyter-widgets/controls",
            "_view_module_version": "1.5.0",
            "_view_name": "HTMLView",
            "description": "",
            "description_tooltip": null,
            "layout": "IPY_MODEL_fca9b74eb1e748d48981f3a2d1b5781c",
            "placeholder": "​",
            "style": "IPY_MODEL_b03588965fbf461585ba2963d1beb287",
            "value": "Shuffling ~/tensorflow_datasets/food101/2.0.0.incomplete820MS7/food101-validation.tfrecord*...:  99%"
          }
        },
        "53b14e9614cc4e3981ef8ded0cc943a3": {
          "model_module": "@jupyter-widgets/controls",
          "model_name": "FloatProgressModel",
          "model_module_version": "1.5.0",
          "state": {
            "_dom_classes": [],
            "_model_module": "@jupyter-widgets/controls",
            "_model_module_version": "1.5.0",
            "_model_name": "FloatProgressModel",
            "_view_count": null,
            "_view_module": "@jupyter-widgets/controls",
            "_view_module_version": "1.5.0",
            "_view_name": "ProgressView",
            "bar_style": "",
            "description": "",
            "description_tooltip": null,
            "layout": "IPY_MODEL_8b4d571ef8764137adbac4c319439d4a",
            "max": 25250,
            "min": 0,
            "orientation": "horizontal",
            "style": "IPY_MODEL_86236d5cc23a43f58d950c3428a5fc85",
            "value": 25250
          }
        },
        "cd7835fda6c74f3e98934c387173bc86": {
          "model_module": "@jupyter-widgets/controls",
          "model_name": "HTMLModel",
          "model_module_version": "1.5.0",
          "state": {
            "_dom_classes": [],
            "_model_module": "@jupyter-widgets/controls",
            "_model_module_version": "1.5.0",
            "_model_name": "HTMLModel",
            "_view_count": null,
            "_view_module": "@jupyter-widgets/controls",
            "_view_module_version": "1.5.0",
            "_view_name": "HTMLView",
            "description": "",
            "description_tooltip": null,
            "layout": "IPY_MODEL_29d151d299f64b9cb2122b17882644ee",
            "placeholder": "​",
            "style": "IPY_MODEL_0aef3f8bb7ab4db5b9cf42254331e94b",
            "value": " 24973/25250 [00:04&lt;00:00, 4924.90 examples/s]"
          }
        },
        "c0798a4a5ea0489d987ef6e7bfe21b95": {
          "model_module": "@jupyter-widgets/base",
          "model_name": "LayoutModel",
          "model_module_version": "1.2.0",
          "state": {
            "_model_module": "@jupyter-widgets/base",
            "_model_module_version": "1.2.0",
            "_model_name": "LayoutModel",
            "_view_count": null,
            "_view_module": "@jupyter-widgets/base",
            "_view_module_version": "1.2.0",
            "_view_name": "LayoutView",
            "align_content": null,
            "align_items": null,
            "align_self": null,
            "border": null,
            "bottom": null,
            "display": null,
            "flex": null,
            "flex_flow": null,
            "grid_area": null,
            "grid_auto_columns": null,
            "grid_auto_flow": null,
            "grid_auto_rows": null,
            "grid_column": null,
            "grid_gap": null,
            "grid_row": null,
            "grid_template_areas": null,
            "grid_template_columns": null,
            "grid_template_rows": null,
            "height": null,
            "justify_content": null,
            "justify_items": null,
            "left": null,
            "margin": null,
            "max_height": null,
            "max_width": null,
            "min_height": null,
            "min_width": null,
            "object_fit": null,
            "object_position": null,
            "order": null,
            "overflow": null,
            "overflow_x": null,
            "overflow_y": null,
            "padding": null,
            "right": null,
            "top": null,
            "visibility": null,
            "width": null
          }
        },
        "fca9b74eb1e748d48981f3a2d1b5781c": {
          "model_module": "@jupyter-widgets/base",
          "model_name": "LayoutModel",
          "model_module_version": "1.2.0",
          "state": {
            "_model_module": "@jupyter-widgets/base",
            "_model_module_version": "1.2.0",
            "_model_name": "LayoutModel",
            "_view_count": null,
            "_view_module": "@jupyter-widgets/base",
            "_view_module_version": "1.2.0",
            "_view_name": "LayoutView",
            "align_content": null,
            "align_items": null,
            "align_self": null,
            "border": null,
            "bottom": null,
            "display": null,
            "flex": null,
            "flex_flow": null,
            "grid_area": null,
            "grid_auto_columns": null,
            "grid_auto_flow": null,
            "grid_auto_rows": null,
            "grid_column": null,
            "grid_gap": null,
            "grid_row": null,
            "grid_template_areas": null,
            "grid_template_columns": null,
            "grid_template_rows": null,
            "height": null,
            "justify_content": null,
            "justify_items": null,
            "left": null,
            "margin": null,
            "max_height": null,
            "max_width": null,
            "min_height": null,
            "min_width": null,
            "object_fit": null,
            "object_position": null,
            "order": null,
            "overflow": null,
            "overflow_x": null,
            "overflow_y": null,
            "padding": null,
            "right": null,
            "top": null,
            "visibility": null,
            "width": null
          }
        },
        "b03588965fbf461585ba2963d1beb287": {
          "model_module": "@jupyter-widgets/controls",
          "model_name": "DescriptionStyleModel",
          "model_module_version": "1.5.0",
          "state": {
            "_model_module": "@jupyter-widgets/controls",
            "_model_module_version": "1.5.0",
            "_model_name": "DescriptionStyleModel",
            "_view_count": null,
            "_view_module": "@jupyter-widgets/base",
            "_view_module_version": "1.2.0",
            "_view_name": "StyleView",
            "description_width": ""
          }
        },
        "8b4d571ef8764137adbac4c319439d4a": {
          "model_module": "@jupyter-widgets/base",
          "model_name": "LayoutModel",
          "model_module_version": "1.2.0",
          "state": {
            "_model_module": "@jupyter-widgets/base",
            "_model_module_version": "1.2.0",
            "_model_name": "LayoutModel",
            "_view_count": null,
            "_view_module": "@jupyter-widgets/base",
            "_view_module_version": "1.2.0",
            "_view_name": "LayoutView",
            "align_content": null,
            "align_items": null,
            "align_self": null,
            "border": null,
            "bottom": null,
            "display": null,
            "flex": null,
            "flex_flow": null,
            "grid_area": null,
            "grid_auto_columns": null,
            "grid_auto_flow": null,
            "grid_auto_rows": null,
            "grid_column": null,
            "grid_gap": null,
            "grid_row": null,
            "grid_template_areas": null,
            "grid_template_columns": null,
            "grid_template_rows": null,
            "height": null,
            "justify_content": null,
            "justify_items": null,
            "left": null,
            "margin": null,
            "max_height": null,
            "max_width": null,
            "min_height": null,
            "min_width": null,
            "object_fit": null,
            "object_position": null,
            "order": null,
            "overflow": null,
            "overflow_x": null,
            "overflow_y": null,
            "padding": null,
            "right": null,
            "top": null,
            "visibility": null,
            "width": null
          }
        },
        "86236d5cc23a43f58d950c3428a5fc85": {
          "model_module": "@jupyter-widgets/controls",
          "model_name": "ProgressStyleModel",
          "model_module_version": "1.5.0",
          "state": {
            "_model_module": "@jupyter-widgets/controls",
            "_model_module_version": "1.5.0",
            "_model_name": "ProgressStyleModel",
            "_view_count": null,
            "_view_module": "@jupyter-widgets/base",
            "_view_module_version": "1.2.0",
            "_view_name": "StyleView",
            "bar_color": null,
            "description_width": ""
          }
        },
        "29d151d299f64b9cb2122b17882644ee": {
          "model_module": "@jupyter-widgets/base",
          "model_name": "LayoutModel",
          "model_module_version": "1.2.0",
          "state": {
            "_model_module": "@jupyter-widgets/base",
            "_model_module_version": "1.2.0",
            "_model_name": "LayoutModel",
            "_view_count": null,
            "_view_module": "@jupyter-widgets/base",
            "_view_module_version": "1.2.0",
            "_view_name": "LayoutView",
            "align_content": null,
            "align_items": null,
            "align_self": null,
            "border": null,
            "bottom": null,
            "display": null,
            "flex": null,
            "flex_flow": null,
            "grid_area": null,
            "grid_auto_columns": null,
            "grid_auto_flow": null,
            "grid_auto_rows": null,
            "grid_column": null,
            "grid_gap": null,
            "grid_row": null,
            "grid_template_areas": null,
            "grid_template_columns": null,
            "grid_template_rows": null,
            "height": null,
            "justify_content": null,
            "justify_items": null,
            "left": null,
            "margin": null,
            "max_height": null,
            "max_width": null,
            "min_height": null,
            "min_width": null,
            "object_fit": null,
            "object_position": null,
            "order": null,
            "overflow": null,
            "overflow_x": null,
            "overflow_y": null,
            "padding": null,
            "right": null,
            "top": null,
            "visibility": null,
            "width": null
          }
        },
        "0aef3f8bb7ab4db5b9cf42254331e94b": {
          "model_module": "@jupyter-widgets/controls",
          "model_name": "DescriptionStyleModel",
          "model_module_version": "1.5.0",
          "state": {
            "_model_module": "@jupyter-widgets/controls",
            "_model_module_version": "1.5.0",
            "_model_name": "DescriptionStyleModel",
            "_view_count": null,
            "_view_module": "@jupyter-widgets/base",
            "_view_module_version": "1.2.0",
            "_view_name": "StyleView",
            "description_width": ""
          }
        }
      }
    }
  },
  "cells": [
    {
      "cell_type": "code",
      "source": [
        "import pandas as pd\n",
        "import numpy as np\n",
        "import tensorflow as tf\n",
        "import tensorflow_datasets as tfds\n",
        "from tensorflow.keras import layers\n",
        "from tensorflow.keras.layers.experimental import preprocessing\n",
        "from tensorflow.keras import mixed_precision"
      ],
      "metadata": {
        "id": "T8ujkU3P7sKV"
      },
      "execution_count": 1,
      "outputs": []
    },
    {
      "cell_type": "code",
      "execution_count": 2,
      "metadata": {
        "colab": {
          "base_uri": "https://localhost:8080/"
        },
        "id": "dDHeCaN-6l7a",
        "outputId": "f231f82b-3476-43d8-87cc-2a749a1cb048"
      },
      "outputs": [
        {
          "output_type": "stream",
          "name": "stdout",
          "text": [
            "GPU 0: Tesla T4 (UUID: GPU-1fcd1f2f-9ee2-2e6d-0a3d-fba50c76dd2b)\n"
          ]
        }
      ],
      "source": [
        "!nvidia-smi -L"
      ]
    },
    {
      "cell_type": "code",
      "source": [
        "!wget https://raw.githubusercontent.com/arghanath007/MachineLearning/main/Deep%20Learning/Transfer%20Learning/helper_functions.py"
      ],
      "metadata": {
        "colab": {
          "base_uri": "https://localhost:8080/"
        },
        "id": "rokq1j1S7K00",
        "outputId": "6eb96766-1014-4784-ee9e-ce4da1e6af1f"
      },
      "execution_count": 3,
      "outputs": [
        {
          "output_type": "stream",
          "name": "stdout",
          "text": [
            "--2022-08-10 13:11:11--  https://raw.githubusercontent.com/arghanath007/MachineLearning/main/Deep%20Learning/Transfer%20Learning/helper_functions.py\n",
            "Resolving raw.githubusercontent.com (raw.githubusercontent.com)... 185.199.108.133, 185.199.109.133, 185.199.110.133, ...\n",
            "Connecting to raw.githubusercontent.com (raw.githubusercontent.com)|185.199.108.133|:443... connected.\n",
            "HTTP request sent, awaiting response... 200 OK\n",
            "Length: 18407 (18K) [text/plain]\n",
            "Saving to: ‘helper_functions.py’\n",
            "\n",
            "helper_functions.py 100%[===================>]  17.98K  --.-KB/s    in 0s      \n",
            "\n",
            "2022-08-10 13:11:12 (35.2 MB/s) - ‘helper_functions.py’ saved [18407/18407]\n",
            "\n"
          ]
        }
      ]
    },
    {
      "cell_type": "code",
      "source": [
        "from helper_functions import plot_loss_curves, compare_historys, create_data_augmented_layer_for_model, load_and_prep_image, make_confusion_matrix, make_confusion_matrix_for_larger_dataset"
      ],
      "metadata": {
        "id": "8hNWFGrY7ced"
      },
      "execution_count": 4,
      "outputs": []
    },
    {
      "cell_type": "code",
      "source": [
        "(train_data, test_data), ds_info= tfds.load(name=\"food101\", split=[\"train\", \"validation\"], shuffle_files=True, as_supervised=True, with_info=True)"
      ],
      "metadata": {
        "colab": {
          "base_uri": "https://localhost:8080/",
          "height": 153,
          "referenced_widgets": [
            "b5d88dbea0c144258a64f4caa9a1a22e",
            "7ef0174b0ed240c08f90ea06c2b38505",
            "f37699b7d02a4b8bb20d1f934d60e855",
            "93fd421eae224c678081fe719f4a4d24",
            "b03e7b9024194f2cb09ef994eb12a627",
            "8e1193e6eb734d69b8ca88f5ef4cb2cd",
            "357b7415bb4a43958c645bf1006d4eb9",
            "ce3984c76d7549558551ce0b3d95b955",
            "eedcd7919584420e9c21de6eeabed208",
            "e226c81d1f554c89b3504d3f7a5b0ae2",
            "bab5583c28cf4badb8344543fd2684b0",
            "a0c216893fc44f4396058d1a971a0f1a",
            "5df04c849fa24fa99230908aabf8edef",
            "2749c8751fc446148885c7cbfff96128",
            "9f82503ba81c47f598ef6435f7a6b211",
            "5d9dff8eddec4d4785dc8df2e4416576",
            "a570a75e466a4c9291661df43388347e",
            "2eb12dd2c7f942eab709e042e605a67d",
            "dcca06cff167485686338e1cad19f326",
            "44794b57541847ea91fdbffe738dedfa",
            "77c5f21cfee246038ef505e07934a599",
            "c05252b69bb2465d9232deef34fe2c47",
            "f38125e2fc5a4a2a9c75567c996ed91a",
            "1dbe4a58ee284878ab6eb9038ed2727c",
            "7db2ab66a95048189a5874a6e6f3fac8",
            "4a6e5b2f8a6f4f7a84e1251557906e88",
            "2e3889cb5e6e4a29bfc9138e2959c2e3",
            "03970879130844538d1a655c81d9c7d4",
            "413602e936704044a1b0f566145604fb",
            "52dfb7fbce1d4aed85769d8f8bc37a95",
            "671d3928080e45a287dfc8bbc4507c71",
            "b4106a1d7e914a448a7bb7f4040ba11e",
            "962db280da46473aa093b492f670094c",
            "b745399f6d6046f3940cb3baa8c98a4d",
            "57ddfe10387143d89dd8a766845be343",
            "9eb031ccadac4b6195e2917f330ee1fb",
            "3e59f5ac13874590a9dea9bdb5b27c9c",
            "1a5ef8b8e8cc4fc2b04c65d217a33ed8",
            "064871f1c9ac4d0484651abde6c17316",
            "6268d23625d643e69206963c7c1b536e",
            "f0c1d6a9320b4c85975078562c9d8d1b",
            "9f2fa453a23c4b14a4db81a25df8a0a7",
            "f7ba9cea437249528097748a006ede52",
            "a42968aaf26e47c5b5a362d14fce27be",
            "532a7cc10f97440f9483be7d38d9a6a6",
            "348995345f1e49e38d7f73a043c4d368",
            "5d4e07606d204f879d0af1a1050d6b5b",
            "53a3871f63ed45d29ed5633fa9538bd5",
            "bef3a38dcb744deda963b512b5a1d667",
            "4172672cb7c94b8b8a6ff88c5870bdc1",
            "3f0df3101c5b4aa6ab696e0d71ff06b0",
            "d9ab6d21b7ae4ba6b59d4d78c24e81f3",
            "186bfc3b78e74dbdb6abcd6dd859a4ee",
            "80b49ea986114dd38a9d027b597ab62e",
            "682009bd13384a35bf24452e70553b3d",
            "58f0e695f43d44269e0b1f31b0907eb2",
            "805334eb743648f0b2490b4122ca8a05",
            "28947311687e4123a35691778455af9c",
            "384205d5fd694cbb840077bdcd8ece7f",
            "aa9fa14a63ab4225a8d39139c16f6c58",
            "1fc5ade640464cb884c161a352cd6f43",
            "2eb3725156fb4351b51bc2bd4698105a",
            "406a66c5527d43929045480452b28529",
            "6008a940679249d4b4e2bc1c60bb69dd",
            "60389cf9750f48c4843529027bcf19e9",
            "c54fe9d716eb457a97d86a30cca688bc",
            "78d2881557694df9a208303334bcc4ca",
            "3ce5022e1769401d9c6bde57f7fafed0",
            "4a2587b0414145889a7a3163ab7fd164",
            "931976d3dcc047768225f0de3fd49055",
            "e41343b71a994c6796e5d601481023bc",
            "0c756f337b494dc492a8b77894b465f9",
            "d64ec55d932c4f85af58625d9e122189",
            "8c6ecc3ab0544fad9766000cac34dffa",
            "5dd64ab0e8684a4cbb178234fb41e029",
            "b6b68d4f449b4daeafde5c709d0ba9eb",
            "a18fe2f072df4fd4a9be9a975b6bf6ff",
            "db6e366eae1a42f9b81589cb759f2919",
            "91b875aba05d4eb38a4a6314027f15b3",
            "53b14e9614cc4e3981ef8ded0cc943a3",
            "cd7835fda6c74f3e98934c387173bc86",
            "c0798a4a5ea0489d987ef6e7bfe21b95",
            "fca9b74eb1e748d48981f3a2d1b5781c",
            "b03588965fbf461585ba2963d1beb287",
            "8b4d571ef8764137adbac4c319439d4a",
            "86236d5cc23a43f58d950c3428a5fc85",
            "29d151d299f64b9cb2122b17882644ee",
            "0aef3f8bb7ab4db5b9cf42254331e94b"
          ]
        },
        "id": "ate_3MVu7pCD",
        "outputId": "f82568b1-e4b3-4013-f7cc-a20eb5f098d0"
      },
      "execution_count": 6,
      "outputs": [
        {
          "output_type": "stream",
          "name": "stdout",
          "text": [
            "\u001b[1mDownloading and preparing dataset 4.65 GiB (download: 4.65 GiB, generated: Unknown size, total: 4.65 GiB) to ~/tensorflow_datasets/food101/2.0.0...\u001b[0m\n"
          ]
        },
        {
          "output_type": "display_data",
          "data": {
            "text/plain": [
              "Dl Completed...: 0 url [00:00, ? url/s]"
            ],
            "application/vnd.jupyter.widget-view+json": {
              "version_major": 2,
              "version_minor": 0,
              "model_id": "b5d88dbea0c144258a64f4caa9a1a22e"
            }
          },
          "metadata": {}
        },
        {
          "output_type": "display_data",
          "data": {
            "text/plain": [
              "Dl Size...: 0 MiB [00:00, ? MiB/s]"
            ],
            "application/vnd.jupyter.widget-view+json": {
              "version_major": 2,
              "version_minor": 0,
              "model_id": "a0c216893fc44f4396058d1a971a0f1a"
            }
          },
          "metadata": {}
        },
        {
          "output_type": "display_data",
          "data": {
            "text/plain": [
              "Extraction completed...: 0 file [00:00, ? file/s]"
            ],
            "application/vnd.jupyter.widget-view+json": {
              "version_major": 2,
              "version_minor": 0,
              "model_id": "f38125e2fc5a4a2a9c75567c996ed91a"
            }
          },
          "metadata": {}
        },
        {
          "output_type": "display_data",
          "data": {
            "text/plain": [
              "Generating splits...:   0%|          | 0/2 [00:00<?, ? splits/s]"
            ],
            "application/vnd.jupyter.widget-view+json": {
              "version_major": 2,
              "version_minor": 0,
              "model_id": "b745399f6d6046f3940cb3baa8c98a4d"
            }
          },
          "metadata": {}
        },
        {
          "output_type": "display_data",
          "data": {
            "text/plain": [
              "Generating train examples...:   0%|          | 0/75750 [00:00<?, ? examples/s]"
            ],
            "application/vnd.jupyter.widget-view+json": {
              "version_major": 2,
              "version_minor": 0,
              "model_id": "532a7cc10f97440f9483be7d38d9a6a6"
            }
          },
          "metadata": {}
        },
        {
          "output_type": "display_data",
          "data": {
            "text/plain": [
              "Shuffling ~/tensorflow_datasets/food101/2.0.0.incomplete820MS7/food101-train.tfrecord*...:   0%|          | 0/…"
            ],
            "application/vnd.jupyter.widget-view+json": {
              "version_major": 2,
              "version_minor": 0,
              "model_id": "58f0e695f43d44269e0b1f31b0907eb2"
            }
          },
          "metadata": {}
        },
        {
          "output_type": "display_data",
          "data": {
            "text/plain": [
              "Generating validation examples...:   0%|          | 0/25250 [00:00<?, ? examples/s]"
            ],
            "application/vnd.jupyter.widget-view+json": {
              "version_major": 2,
              "version_minor": 0,
              "model_id": "78d2881557694df9a208303334bcc4ca"
            }
          },
          "metadata": {}
        },
        {
          "output_type": "display_data",
          "data": {
            "text/plain": [
              "Shuffling ~/tensorflow_datasets/food101/2.0.0.incomplete820MS7/food101-validation.tfrecord*...:   0%|         …"
            ],
            "application/vnd.jupyter.widget-view+json": {
              "version_major": 2,
              "version_minor": 0,
              "model_id": "db6e366eae1a42f9b81589cb759f2919"
            }
          },
          "metadata": {}
        },
        {
          "output_type": "stream",
          "name": "stdout",
          "text": [
            "\u001b[1mDataset food101 downloaded and prepared to ~/tensorflow_datasets/food101/2.0.0. Subsequent calls will reuse this data.\u001b[0m\n"
          ]
        }
      ]
    },
    {
      "cell_type": "code",
      "source": [
        "train_data, test_data"
      ],
      "metadata": {
        "colab": {
          "base_uri": "https://localhost:8080/"
        },
        "id": "Qwx5_mTYAftI",
        "outputId": "f6131b20-1b7d-4faa-f9f3-c5dad120da56"
      },
      "execution_count": 7,
      "outputs": [
        {
          "output_type": "execute_result",
          "data": {
            "text/plain": [
              "(<PrefetchDataset element_spec=(TensorSpec(shape=(None, None, 3), dtype=tf.uint8, name=None), TensorSpec(shape=(), dtype=tf.int64, name=None))>,\n",
              " <PrefetchDataset element_spec=(TensorSpec(shape=(None, None, 3), dtype=tf.uint8, name=None), TensorSpec(shape=(), dtype=tf.int64, name=None))>)"
            ]
          },
          "metadata": {},
          "execution_count": 7
        }
      ]
    },
    {
      "cell_type": "code",
      "source": [
        "ds_info.features"
      ],
      "metadata": {
        "colab": {
          "base_uri": "https://localhost:8080/"
        },
        "id": "tRk1R8MV8GHv",
        "outputId": "defe8673-929b-4c94-f784-3e9ed142dec2"
      },
      "execution_count": 8,
      "outputs": [
        {
          "output_type": "execute_result",
          "data": {
            "text/plain": [
              "FeaturesDict({\n",
              "    'image': Image(shape=(None, None, 3), dtype=tf.uint8),\n",
              "    'label': ClassLabel(shape=(), dtype=tf.int64, num_classes=101),\n",
              "})"
            ]
          },
          "metadata": {},
          "execution_count": 8
        }
      ]
    },
    {
      "cell_type": "code",
      "source": [
        "class_names= ds_info.features[\"label\"].names\n",
        "class_names"
      ],
      "metadata": {
        "colab": {
          "base_uri": "https://localhost:8080/"
        },
        "id": "puig0mTB8Jvg",
        "outputId": "fb31adf6-965f-4f46-f1d9-3a7f3e5fbbb7"
      },
      "execution_count": 9,
      "outputs": [
        {
          "output_type": "execute_result",
          "data": {
            "text/plain": [
              "['apple_pie',\n",
              " 'baby_back_ribs',\n",
              " 'baklava',\n",
              " 'beef_carpaccio',\n",
              " 'beef_tartare',\n",
              " 'beet_salad',\n",
              " 'beignets',\n",
              " 'bibimbap',\n",
              " 'bread_pudding',\n",
              " 'breakfast_burrito',\n",
              " 'bruschetta',\n",
              " 'caesar_salad',\n",
              " 'cannoli',\n",
              " 'caprese_salad',\n",
              " 'carrot_cake',\n",
              " 'ceviche',\n",
              " 'cheesecake',\n",
              " 'cheese_plate',\n",
              " 'chicken_curry',\n",
              " 'chicken_quesadilla',\n",
              " 'chicken_wings',\n",
              " 'chocolate_cake',\n",
              " 'chocolate_mousse',\n",
              " 'churros',\n",
              " 'clam_chowder',\n",
              " 'club_sandwich',\n",
              " 'crab_cakes',\n",
              " 'creme_brulee',\n",
              " 'croque_madame',\n",
              " 'cup_cakes',\n",
              " 'deviled_eggs',\n",
              " 'donuts',\n",
              " 'dumplings',\n",
              " 'edamame',\n",
              " 'eggs_benedict',\n",
              " 'escargots',\n",
              " 'falafel',\n",
              " 'filet_mignon',\n",
              " 'fish_and_chips',\n",
              " 'foie_gras',\n",
              " 'french_fries',\n",
              " 'french_onion_soup',\n",
              " 'french_toast',\n",
              " 'fried_calamari',\n",
              " 'fried_rice',\n",
              " 'frozen_yogurt',\n",
              " 'garlic_bread',\n",
              " 'gnocchi',\n",
              " 'greek_salad',\n",
              " 'grilled_cheese_sandwich',\n",
              " 'grilled_salmon',\n",
              " 'guacamole',\n",
              " 'gyoza',\n",
              " 'hamburger',\n",
              " 'hot_and_sour_soup',\n",
              " 'hot_dog',\n",
              " 'huevos_rancheros',\n",
              " 'hummus',\n",
              " 'ice_cream',\n",
              " 'lasagna',\n",
              " 'lobster_bisque',\n",
              " 'lobster_roll_sandwich',\n",
              " 'macaroni_and_cheese',\n",
              " 'macarons',\n",
              " 'miso_soup',\n",
              " 'mussels',\n",
              " 'nachos',\n",
              " 'omelette',\n",
              " 'onion_rings',\n",
              " 'oysters',\n",
              " 'pad_thai',\n",
              " 'paella',\n",
              " 'pancakes',\n",
              " 'panna_cotta',\n",
              " 'peking_duck',\n",
              " 'pho',\n",
              " 'pizza',\n",
              " 'pork_chop',\n",
              " 'poutine',\n",
              " 'prime_rib',\n",
              " 'pulled_pork_sandwich',\n",
              " 'ramen',\n",
              " 'ravioli',\n",
              " 'red_velvet_cake',\n",
              " 'risotto',\n",
              " 'samosa',\n",
              " 'sashimi',\n",
              " 'scallops',\n",
              " 'seaweed_salad',\n",
              " 'shrimp_and_grits',\n",
              " 'spaghetti_bolognese',\n",
              " 'spaghetti_carbonara',\n",
              " 'spring_rolls',\n",
              " 'steak',\n",
              " 'strawberry_shortcake',\n",
              " 'sushi',\n",
              " 'tacos',\n",
              " 'takoyaki',\n",
              " 'tiramisu',\n",
              " 'tuna_tartare',\n",
              " 'waffles']"
            ]
          },
          "metadata": {},
          "execution_count": 9
        }
      ]
    },
    {
      "cell_type": "code",
      "source": [
        "len(class_names)"
      ],
      "metadata": {
        "colab": {
          "base_uri": "https://localhost:8080/"
        },
        "id": "REe2MGlKAtAr",
        "outputId": "511a850a-6c60-4a3f-c117-8d8e94e65c6f"
      },
      "execution_count": 10,
      "outputs": [
        {
          "output_type": "execute_result",
          "data": {
            "text/plain": [
              "101"
            ]
          },
          "metadata": {},
          "execution_count": 10
        }
      ]
    },
    {
      "cell_type": "code",
      "source": [
        "CLASS_COUNT= len(class_names)"
      ],
      "metadata": {
        "id": "nhV-hjfR8Uj2"
      },
      "execution_count": 11,
      "outputs": []
    },
    {
      "cell_type": "code",
      "source": [
        "def preprocess_img(image, label, img_shape=224):\n",
        "  \"\"\"\n",
        "  Converts image datatype from 'uint8' -> 'float32' and reshapes image to\n",
        "  [img_shape, img_shape, color_channels]\n",
        "  \"\"\"\n",
        "  image = tf.image.resize(image, [img_shape, img_shape]) # reshape to img_shape\n",
        "  return tf.cast(image, tf.float32), label # return (float32_image, label) tuple, tf.cast() changes the dtype intor float32."
      ],
      "metadata": {
        "id": "XohE2qwl8cc3"
      },
      "execution_count": 12,
      "outputs": []
    },
    {
      "cell_type": "code",
      "source": [
        "train_data"
      ],
      "metadata": {
        "colab": {
          "base_uri": "https://localhost:8080/"
        },
        "id": "oA6RLWwU851j",
        "outputId": "d43527ff-818e-4b72-b5bf-6b33d21994e0"
      },
      "execution_count": 13,
      "outputs": [
        {
          "output_type": "execute_result",
          "data": {
            "text/plain": [
              "<PrefetchDataset element_spec=(TensorSpec(shape=(None, None, 3), dtype=tf.uint8, name=None), TensorSpec(shape=(), dtype=tf.int64, name=None))>"
            ]
          },
          "metadata": {},
          "execution_count": 13
        }
      ]
    },
    {
      "cell_type": "code",
      "source": [
        "test_data"
      ],
      "metadata": {
        "colab": {
          "base_uri": "https://localhost:8080/"
        },
        "id": "YwMbjTLX87Ff",
        "outputId": "7d19ba85-9988-4f5b-952b-dd6e27ed6d7f"
      },
      "execution_count": 14,
      "outputs": [
        {
          "output_type": "execute_result",
          "data": {
            "text/plain": [
              "<PrefetchDataset element_spec=(TensorSpec(shape=(None, None, 3), dtype=tf.uint8, name=None), TensorSpec(shape=(), dtype=tf.int64, name=None))>"
            ]
          },
          "metadata": {},
          "execution_count": 14
        }
      ]
    },
    {
      "cell_type": "code",
      "source": [
        "train_data= train_data.map(map_func= preprocess_img, num_parallel_calls= tf.data.AUTOTUNE)\n",
        "train_data= train_data.shuffle(buffer_size=1000).batch(batch_size=32).prefetch(buffer_size=tf.data.AUTOTUNE)\n",
        "test_data= test_data.map(preprocess_img, num_parallel_calls= tf.data.AUTOTUNE)\n",
        "test_data= test_data.batch(32).prefetch(tf.data.AUTOTUNE)"
      ],
      "metadata": {
        "id": "ZShKmoW68kIn"
      },
      "execution_count": 15,
      "outputs": []
    },
    {
      "cell_type": "code",
      "source": [
        "train_data, test_data"
      ],
      "metadata": {
        "colab": {
          "base_uri": "https://localhost:8080/"
        },
        "id": "hl0k2Gqy_R5z",
        "outputId": "89459b6c-db06-4607-c1cf-3221192d5fe0"
      },
      "execution_count": 16,
      "outputs": [
        {
          "output_type": "execute_result",
          "data": {
            "text/plain": [
              "(<PrefetchDataset element_spec=(TensorSpec(shape=(None, 224, 224, 3), dtype=tf.float32, name=None), TensorSpec(shape=(None,), dtype=tf.int64, name=None))>,\n",
              " <PrefetchDataset element_spec=(TensorSpec(shape=(None, 224, 224, 3), dtype=tf.float32, name=None), TensorSpec(shape=(None,), dtype=tf.int64, name=None))>)"
            ]
          },
          "metadata": {},
          "execution_count": 16
        }
      ]
    },
    {
      "cell_type": "code",
      "source": [
        "from helper_functions import  create_tensorboard_callback, model_check_point_callback, create_early_stopping_callback, reduce_learning_rate_callback"
      ],
      "metadata": {
        "id": "7vScpxzE_Ulx"
      },
      "execution_count": 17,
      "outputs": []
    },
    {
      "cell_type": "code",
      "source": [
        "checkpoint_path= 'checkpoints/feature_extraction'\n",
        "checkpoint_callback= model_check_point_callback(checkpoint_path, save_weights_only=True, save_best_only=True, monitor=\"val_accuracy\")\n",
        "tensorboard_callback= create_tensorboard_callback(\"transfer_learning\", \"Food101_full_dataset_feature_extraction\")"
      ],
      "metadata": {
        "colab": {
          "base_uri": "https://localhost:8080/"
        },
        "id": "rWhpnLJU_v2q",
        "outputId": "d0291136-d815-4070-b4dd-cdc95d609b6a"
      },
      "execution_count": 18,
      "outputs": [
        {
          "output_type": "stream",
          "name": "stdout",
          "text": [
            "Saving TensorBoard log files to: transfer_learning/Food101_full_dataset_feature_extraction/20220810-132312\n"
          ]
        }
      ]
    },
    {
      "cell_type": "code",
      "source": [
        "mixed_precision.set_global_policy(policy=\"mixed_float16\")"
      ],
      "metadata": {
        "id": "Otsx63aymBY8",
        "colab": {
          "base_uri": "https://localhost:8080/"
        },
        "outputId": "24c795a7-c64d-4ba7-a89a-87cc2f8656c5"
      },
      "execution_count": 19,
      "outputs": [
        {
          "output_type": "stream",
          "name": "stdout",
          "text": [
            "INFO:tensorflow:Mixed precision compatibility check (mixed_float16): OK\n",
            "Your GPU will likely run quickly with dtype policy mixed_float16 as it has compute capability of at least 7.0. Your GPU: Tesla T4, compute capability 7.5\n"
          ]
        },
        {
          "output_type": "stream",
          "name": "stderr",
          "text": [
            "INFO:tensorflow:Mixed precision compatibility check (mixed_float16): OK\n",
            "Your GPU will likely run quickly with dtype policy mixed_float16 as it has compute capability of at least 7.0. Your GPU: Tesla T4, compute capability 7.5\n"
          ]
        }
      ]
    },
    {
      "cell_type": "code",
      "source": [
        "mixed_precision.global_policy()"
      ],
      "metadata": {
        "colab": {
          "base_uri": "https://localhost:8080/"
        },
        "id": "m5xid2jImB_b",
        "outputId": "4a69a2df-0f70-49b6-9b11-48b09fcfe869"
      },
      "execution_count": 20,
      "outputs": [
        {
          "output_type": "execute_result",
          "data": {
            "text/plain": [
              "<Policy \"mixed_float16\">"
            ]
          },
          "metadata": {},
          "execution_count": 20
        }
      ]
    },
    {
      "cell_type": "code",
      "source": [
        "# Create base model\n",
        "input_shape = (224, 224, 3)\n",
        "base_model = tf.keras.applications.EfficientNetB0(include_top=False)\n",
        "base_model.trainable = False # freeze base model layers\n",
        "\n",
        "# Create Functional model \n",
        "inputs = layers.Input(shape=input_shape, name=\"input_layer\")\n",
        "# Note: EfficientNetBX models have rescaling built-in but if your model didn't you could have a layer like below\n",
        "# x = preprocessing.Rescaling(1./255)(x)\n",
        "x = base_model(inputs, training=False) # set base_model to inference mode only\n",
        "x = layers.GlobalAveragePooling2D(name=\"pooling_layer\")(x)\n",
        "x = layers.Dense(len(class_names))(x) # want one output neuron per class \n",
        "# Separate activation of output layer so we can output float32 activations\n",
        "outputs = layers.Activation(\"softmax\", dtype=tf.float32, name=\"softmax_float32\")(x) \n",
        "model = tf.keras.Model(inputs, outputs)\n",
        "\n",
        "# Compile the model\n",
        "model.compile(loss=\"sparse_categorical_crossentropy\", # Use sparse_categorical_crossentropy when labels are *not* one-hot\n",
        "              optimizer=tf.keras.optimizers.Adam(),\n",
        "              metrics=[\"accuracy\"])"
      ],
      "metadata": {
        "colab": {
          "base_uri": "https://localhost:8080/"
        },
        "id": "IDZho6r2mFSz",
        "outputId": "d5668059-608e-4a9a-94db-2beb2e209f60"
      },
      "execution_count": 21,
      "outputs": [
        {
          "output_type": "stream",
          "name": "stdout",
          "text": [
            "Downloading data from https://storage.googleapis.com/keras-applications/efficientnetb0_notop.h5\n",
            "16711680/16705208 [==============================] - 0s 0us/step\n",
            "16719872/16705208 [==============================] - 0s 0us/step\n"
          ]
        }
      ]
    },
    {
      "cell_type": "code",
      "source": [
        "model.summary()"
      ],
      "metadata": {
        "colab": {
          "base_uri": "https://localhost:8080/"
        },
        "id": "hTQZzmHtmPIA",
        "outputId": "c6b7886f-9b60-4e12-878b-5bbf553851cf"
      },
      "execution_count": 22,
      "outputs": [
        {
          "output_type": "stream",
          "name": "stdout",
          "text": [
            "Model: \"model\"\n",
            "_________________________________________________________________\n",
            " Layer (type)                Output Shape              Param #   \n",
            "=================================================================\n",
            " input_layer (InputLayer)    [(None, 224, 224, 3)]     0         \n",
            "                                                                 \n",
            " efficientnetb0 (Functional)  (None, None, None, 1280)  4049571  \n",
            "                                                                 \n",
            " pooling_layer (GlobalAverag  (None, 1280)             0         \n",
            " ePooling2D)                                                     \n",
            "                                                                 \n",
            " dense (Dense)               (None, 101)               129381    \n",
            "                                                                 \n",
            " softmax_float32 (Activation  (None, 101)              0         \n",
            " )                                                               \n",
            "                                                                 \n",
            "=================================================================\n",
            "Total params: 4,178,952\n",
            "Trainable params: 129,381\n",
            "Non-trainable params: 4,049,571\n",
            "_________________________________________________________________\n"
          ]
        }
      ]
    },
    {
      "cell_type": "code",
      "source": [
        "for layer in model.layers:\n",
        "  print(layer.name, layer.trainable, layer.dtype, layer.dtype_policy)"
      ],
      "metadata": {
        "colab": {
          "base_uri": "https://localhost:8080/"
        },
        "id": "AOW9bqgHmRFH",
        "outputId": "29c3c1a5-2558-48d4-f7d1-ad69adae6774"
      },
      "execution_count": 23,
      "outputs": [
        {
          "output_type": "stream",
          "name": "stdout",
          "text": [
            "input_layer True float32 <Policy \"float32\">\n",
            "efficientnetb0 False float32 <Policy \"mixed_float16\">\n",
            "pooling_layer True float32 <Policy \"mixed_float16\">\n",
            "dense True float32 <Policy \"mixed_float16\">\n",
            "softmax_float32 True float32 <Policy \"float32\">\n"
          ]
        }
      ]
    },
    {
      "cell_type": "code",
      "source": [
        "for layer in model.layers[1].layers[:20]: # only check the first 20 layers to save output space\n",
        "  print(layer.name, layer.trainable, layer.dtype, layer.dtype_policy)"
      ],
      "metadata": {
        "colab": {
          "base_uri": "https://localhost:8080/"
        },
        "id": "jh_Sk3bsmTnj",
        "outputId": "b528624e-0d2b-4d75-fb67-cae39cbc872f"
      },
      "execution_count": 24,
      "outputs": [
        {
          "output_type": "stream",
          "name": "stdout",
          "text": [
            "input_1 False float32 <Policy \"float32\">\n",
            "rescaling False float32 <Policy \"mixed_float16\">\n",
            "normalization False float32 <Policy \"mixed_float16\">\n",
            "stem_conv_pad False float32 <Policy \"mixed_float16\">\n",
            "stem_conv False float32 <Policy \"mixed_float16\">\n",
            "stem_bn False float32 <Policy \"mixed_float16\">\n",
            "stem_activation False float32 <Policy \"mixed_float16\">\n",
            "block1a_dwconv False float32 <Policy \"mixed_float16\">\n",
            "block1a_bn False float32 <Policy \"mixed_float16\">\n",
            "block1a_activation False float32 <Policy \"mixed_float16\">\n",
            "block1a_se_squeeze False float32 <Policy \"mixed_float16\">\n",
            "block1a_se_reshape False float32 <Policy \"mixed_float16\">\n",
            "block1a_se_reduce False float32 <Policy \"mixed_float16\">\n",
            "block1a_se_expand False float32 <Policy \"mixed_float16\">\n",
            "block1a_se_excite False float32 <Policy \"mixed_float16\">\n",
            "block1a_project_conv False float32 <Policy \"mixed_float16\">\n",
            "block1a_project_bn False float32 <Policy \"mixed_float16\">\n",
            "block2a_expand_conv False float32 <Policy \"mixed_float16\">\n",
            "block2a_expand_bn False float32 <Policy \"mixed_float16\">\n",
            "block2a_expand_activation False float32 <Policy \"mixed_float16\">\n"
          ]
        }
      ]
    },
    {
      "cell_type": "code",
      "source": [
        "history_101_food_classes_feature_extract = model.fit(train_data, epochs=3,steps_per_epoch=len(train_data), validation_data=test_data, validation_steps=int(0.15 * len(test_data)),callbacks=[tensorboard_callback, checkpoint_callback])"
      ],
      "metadata": {
        "colab": {
          "base_uri": "https://localhost:8080/"
        },
        "id": "1Cd0-yV3mXuK",
        "outputId": "8cbc676a-7616-4c00-cbff-4414caf8633f"
      },
      "execution_count": 25,
      "outputs": [
        {
          "output_type": "stream",
          "name": "stdout",
          "text": [
            "Epoch 1/3\n",
            "2368/2368 [==============================] - ETA: 0s - loss: 1.8230 - accuracy: 0.5577\n",
            "Epoch 1: val_accuracy improved from -inf to 0.67797, saving model to checkpoints/feature_extraction\n",
            "2368/2368 [==============================] - 217s 83ms/step - loss: 1.8230 - accuracy: 0.5577 - val_loss: 1.2255 - val_accuracy: 0.6780\n",
            "Epoch 2/3\n",
            "2368/2368 [==============================] - ETA: 0s - loss: 1.2928 - accuracy: 0.6667\n",
            "Epoch 2: val_accuracy improved from 0.67797 to 0.70869, saving model to checkpoints/feature_extraction\n",
            "2368/2368 [==============================] - 193s 80ms/step - loss: 1.2928 - accuracy: 0.6667 - val_loss: 1.1254 - val_accuracy: 0.7087\n",
            "Epoch 3/3\n",
            "2368/2368 [==============================] - ETA: 0s - loss: 1.1425 - accuracy: 0.7014\n",
            "Epoch 3: val_accuracy did not improve from 0.70869\n",
            "2368/2368 [==============================] - 174s 73ms/step - loss: 1.1425 - accuracy: 0.7014 - val_loss: 1.0864 - val_accuracy: 0.7071\n"
          ]
        }
      ]
    },
    {
      "cell_type": "code",
      "source": [
        "results_feature_extract_model = model.evaluate(test_data)\n",
        "results_feature_extract_model"
      ],
      "metadata": {
        "colab": {
          "base_uri": "https://localhost:8080/"
        },
        "id": "vvX_nHqqmqrn",
        "outputId": "104bffb1-214b-45af-d518-95000497d2ed"
      },
      "execution_count": 26,
      "outputs": [
        {
          "output_type": "stream",
          "name": "stdout",
          "text": [
            "790/790 [==============================] - 51s 64ms/step - loss: 1.0870 - accuracy: 0.7085\n"
          ]
        },
        {
          "output_type": "execute_result",
          "data": {
            "text/plain": [
              "[1.0869632959365845, 0.7084752321243286]"
            ]
          },
          "metadata": {},
          "execution_count": 26
        }
      ]
    },
    {
      "cell_type": "code",
      "source": [
        "cloned_model = tf.keras.models.clone_model(model)\n",
        "cloned_model.summary()"
      ],
      "metadata": {
        "colab": {
          "base_uri": "https://localhost:8080/"
        },
        "id": "xIYTA6kxmrJ9",
        "outputId": "01dd9fc7-0577-42e4-9206-eaad8e09daf8"
      },
      "execution_count": 27,
      "outputs": [
        {
          "output_type": "stream",
          "name": "stdout",
          "text": [
            "Model: \"model\"\n",
            "_________________________________________________________________\n",
            " Layer (type)                Output Shape              Param #   \n",
            "=================================================================\n",
            " input_layer (InputLayer)    [(None, 224, 224, 3)]     0         \n",
            "                                                                 \n",
            " efficientnetb0 (Functional)  (None, None, None, 1280)  4049571  \n",
            "                                                                 \n",
            " pooling_layer (GlobalAverag  (None, 1280)             0         \n",
            " ePooling2D)                                                     \n",
            "                                                                 \n",
            " dense (Dense)               (None, 101)               129381    \n",
            "                                                                 \n",
            " softmax_float32 (Activation  (None, 101)              0         \n",
            " )                                                               \n",
            "                                                                 \n",
            "=================================================================\n",
            "Total params: 4,178,952\n",
            "Trainable params: 129,381\n",
            "Non-trainable params: 4,049,571\n",
            "_________________________________________________________________\n"
          ]
        }
      ]
    },
    {
      "cell_type": "code",
      "source": [
        "model.summary()"
      ],
      "metadata": {
        "colab": {
          "base_uri": "https://localhost:8080/"
        },
        "id": "bLwsAgKom1Ql",
        "outputId": "65b3196b-3f4a-4a98-f2ca-5b3eaa41ed59"
      },
      "execution_count": 28,
      "outputs": [
        {
          "output_type": "stream",
          "name": "stdout",
          "text": [
            "Model: \"model\"\n",
            "_________________________________________________________________\n",
            " Layer (type)                Output Shape              Param #   \n",
            "=================================================================\n",
            " input_layer (InputLayer)    [(None, 224, 224, 3)]     0         \n",
            "                                                                 \n",
            " efficientnetb0 (Functional)  (None, None, None, 1280)  4049571  \n",
            "                                                                 \n",
            " pooling_layer (GlobalAverag  (None, 1280)             0         \n",
            " ePooling2D)                                                     \n",
            "                                                                 \n",
            " dense (Dense)               (None, 101)               129381    \n",
            "                                                                 \n",
            " softmax_float32 (Activation  (None, 101)              0         \n",
            " )                                                               \n",
            "                                                                 \n",
            "=================================================================\n",
            "Total params: 4,178,952\n",
            "Trainable params: 129,381\n",
            "Non-trainable params: 4,049,571\n",
            "_________________________________________________________________\n"
          ]
        }
      ]
    },
    {
      "cell_type": "code",
      "source": [
        "cloned_model.load_weights(checkpoint_path)"
      ],
      "metadata": {
        "colab": {
          "base_uri": "https://localhost:8080/"
        },
        "id": "HP-O-zMNm17J",
        "outputId": "22d65067-339a-4ffd-a953-1c7c67d106f9"
      },
      "execution_count": 29,
      "outputs": [
        {
          "output_type": "execute_result",
          "data": {
            "text/plain": [
              "<tensorflow.python.training.tracking.util.CheckpointLoadStatus at 0x7f2128091e90>"
            ]
          },
          "metadata": {},
          "execution_count": 29
        }
      ]
    },
    {
      "cell_type": "code",
      "source": [
        "cloned_model.compile(loss=\"sparse_categorical_crossentropy\",\n",
        "                     optimizer=tf.keras.optimizers.Adam(),\n",
        "                     metrics=[\"accuracy\"])"
      ],
      "metadata": {
        "id": "tS9oXW-Pm45r"
      },
      "execution_count": 30,
      "outputs": []
    },
    {
      "cell_type": "code",
      "source": [
        "results_cloned_model_with_loaded_weights = cloned_model.evaluate(test_data)"
      ],
      "metadata": {
        "colab": {
          "base_uri": "https://localhost:8080/"
        },
        "id": "qIiINByNm7gQ",
        "outputId": "6e43d813-a5fd-4728-dd0a-844c26fbab72"
      },
      "execution_count": 31,
      "outputs": [
        {
          "output_type": "stream",
          "name": "stdout",
          "text": [
            "790/790 [==============================] - 52s 63ms/step - loss: 1.7579 - accuracy: 0.5392\n"
          ]
        }
      ]
    },
    {
      "cell_type": "code",
      "source": [
        "results_feature_extract_model == results_cloned_model_with_loaded_weights"
      ],
      "metadata": {
        "colab": {
          "base_uri": "https://localhost:8080/"
        },
        "id": "FSAeuNGynACJ",
        "outputId": "d32d419d-1e40-4c6a-df75-3868c0724587"
      },
      "execution_count": 32,
      "outputs": [
        {
          "output_type": "execute_result",
          "data": {
            "text/plain": [
              "False"
            ]
          },
          "metadata": {},
          "execution_count": 32
        }
      ]
    },
    {
      "cell_type": "code",
      "source": [
        "np.allclose(results_feature_extract_model, results_cloned_model_with_loaded_weights)"
      ],
      "metadata": {
        "colab": {
          "base_uri": "https://localhost:8080/"
        },
        "id": "sRjj5QmPnFWW",
        "outputId": "5dd26f4d-0cd7-4dd0-e5bf-41f6c8cf5289"
      },
      "execution_count": 33,
      "outputs": [
        {
          "output_type": "execute_result",
          "data": {
            "text/plain": [
              "False"
            ]
          },
          "metadata": {},
          "execution_count": 33
        }
      ]
    },
    {
      "cell_type": "code",
      "source": [
        "for layer in cloned_model.layers[1].layers[:20]: # check only the first 20 layers to save space\n",
        "  print(layer.name, layer.trainable, layer.dtype, layer.dtype_policy)"
      ],
      "metadata": {
        "colab": {
          "base_uri": "https://localhost:8080/"
        },
        "id": "uSvHHusmnNvj",
        "outputId": "c129f6c1-f941-4228-c1c6-c9754700bc31"
      },
      "execution_count": 34,
      "outputs": [
        {
          "output_type": "stream",
          "name": "stdout",
          "text": [
            "input_1 True float32 <Policy \"float32\">\n",
            "rescaling False float32 <Policy \"mixed_float16\">\n",
            "normalization False float32 <Policy \"mixed_float16\">\n",
            "stem_conv_pad False float32 <Policy \"mixed_float16\">\n",
            "stem_conv False float32 <Policy \"mixed_float16\">\n",
            "stem_bn False float32 <Policy \"mixed_float16\">\n",
            "stem_activation False float32 <Policy \"mixed_float16\">\n",
            "block1a_dwconv False float32 <Policy \"mixed_float16\">\n",
            "block1a_bn False float32 <Policy \"mixed_float16\">\n",
            "block1a_activation False float32 <Policy \"mixed_float16\">\n",
            "block1a_se_squeeze False float32 <Policy \"mixed_float16\">\n",
            "block1a_se_reshape False float32 <Policy \"mixed_float16\">\n",
            "block1a_se_reduce False float32 <Policy \"mixed_float16\">\n",
            "block1a_se_expand False float32 <Policy \"mixed_float16\">\n",
            "block1a_se_excite False float32 <Policy \"mixed_float16\">\n",
            "block1a_project_conv False float32 <Policy \"mixed_float16\">\n",
            "block1a_project_bn False float32 <Policy \"mixed_float16\">\n",
            "block2a_expand_conv False float32 <Policy \"mixed_float16\">\n",
            "block2a_expand_bn False float32 <Policy \"mixed_float16\">\n",
            "block2a_expand_activation False float32 <Policy \"mixed_float16\">\n"
          ]
        }
      ]
    },
    {
      "cell_type": "code",
      "source": [
        "save_dir = \"07_efficientnetb0_feature_extract_model_mixed_precision\"\n",
        "model.save(save_dir)"
      ],
      "metadata": {
        "colab": {
          "base_uri": "https://localhost:8080/"
        },
        "id": "21Fspz0Tnavr",
        "outputId": "7e78c68d-7139-4308-cc03-27d23f3a50b1"
      },
      "execution_count": 35,
      "outputs": [
        {
          "output_type": "stream",
          "name": "stdout",
          "text": [
            "INFO:tensorflow:Assets written to: 07_efficientnetb0_feature_extract_model_mixed_precision/assets\n"
          ]
        },
        {
          "output_type": "stream",
          "name": "stderr",
          "text": [
            "INFO:tensorflow:Assets written to: 07_efficientnetb0_feature_extract_model_mixed_precision/assets\n"
          ]
        }
      ]
    },
    {
      "cell_type": "code",
      "source": [
        "loaded_saved_model = tf.keras.models.load_model(save_dir)"
      ],
      "metadata": {
        "id": "-9rYEFrxneyc"
      },
      "execution_count": 36,
      "outputs": []
    },
    {
      "cell_type": "code",
      "source": [
        "result_loaded_saved_model= loaded_saved_model.evaluate(test_data)\n",
        "result_loaded_saved_model"
      ],
      "metadata": {
        "colab": {
          "base_uri": "https://localhost:8080/"
        },
        "id": "JQDe_GiNnldD",
        "outputId": "b699b388-a4af-4b31-e187-a59ccf2a5437"
      },
      "execution_count": 37,
      "outputs": [
        {
          "output_type": "stream",
          "name": "stdout",
          "text": [
            "790/790 [==============================] - 53s 64ms/step - loss: 1.0870 - accuracy: 0.7085\n"
          ]
        },
        {
          "output_type": "execute_result",
          "data": {
            "text/plain": [
              "[1.0869643688201904, 0.7084752321243286]"
            ]
          },
          "metadata": {},
          "execution_count": 37
        }
      ]
    },
    {
      "cell_type": "code",
      "source": [
        "for layer in loaded_saved_model.layers[1].layers[:20]: # check only the first 20 layers to save output space\n",
        "  print(layer.name, layer.trainable, layer.dtype, layer.dtype_policy)"
      ],
      "metadata": {
        "colab": {
          "base_uri": "https://localhost:8080/"
        },
        "id": "VmrZJslmngcP",
        "outputId": "3ba26c97-aaee-44fb-9ee4-21b5466a6647"
      },
      "execution_count": 38,
      "outputs": [
        {
          "output_type": "stream",
          "name": "stdout",
          "text": [
            "input_1 True float32 <Policy \"float32\">\n",
            "rescaling False float32 <Policy \"mixed_float16\">\n",
            "normalization False float32 <Policy \"mixed_float16\">\n",
            "stem_conv_pad False float32 <Policy \"mixed_float16\">\n",
            "stem_conv False float32 <Policy \"mixed_float16\">\n",
            "stem_bn False float32 <Policy \"mixed_float16\">\n",
            "stem_activation False float32 <Policy \"mixed_float16\">\n",
            "block1a_dwconv False float32 <Policy \"mixed_float16\">\n",
            "block1a_bn False float32 <Policy \"mixed_float16\">\n",
            "block1a_activation False float32 <Policy \"mixed_float16\">\n",
            "block1a_se_squeeze False float32 <Policy \"mixed_float16\">\n",
            "block1a_se_reshape False float32 <Policy \"mixed_float16\">\n",
            "block1a_se_reduce False float32 <Policy \"mixed_float16\">\n",
            "block1a_se_expand False float32 <Policy \"mixed_float16\">\n",
            "block1a_se_excite False float32 <Policy \"mixed_float16\">\n",
            "block1a_project_conv False float32 <Policy \"mixed_float16\">\n",
            "block1a_project_bn False float32 <Policy \"mixed_float16\">\n",
            "block2a_expand_conv False float32 <Policy \"mixed_float16\">\n",
            "block2a_expand_bn False float32 <Policy \"mixed_float16\">\n",
            "block2a_expand_activation False float32 <Policy \"mixed_float16\">\n"
          ]
        }
      ]
    },
    {
      "cell_type": "code",
      "source": [
        "results_feature_extract_model == result_loaded_saved_model"
      ],
      "metadata": {
        "colab": {
          "base_uri": "https://localhost:8080/"
        },
        "id": "Uzc3WVgrnlBM",
        "outputId": "cab0e0e8-30d2-4594-c6cd-44d11a1bd535"
      },
      "execution_count": 39,
      "outputs": [
        {
          "output_type": "execute_result",
          "data": {
            "text/plain": [
              "False"
            ]
          },
          "metadata": {},
          "execution_count": 39
        }
      ]
    },
    {
      "cell_type": "code",
      "source": [
        "np.allclose(results_feature_extract_model, result_loaded_saved_model)"
      ],
      "metadata": {
        "colab": {
          "base_uri": "https://localhost:8080/"
        },
        "id": "W5IU9mFbnt5E",
        "outputId": "6eee2225-d82c-4a21-aefe-18a162a9f198"
      },
      "execution_count": 40,
      "outputs": [
        {
          "output_type": "execute_result",
          "data": {
            "text/plain": [
              "True"
            ]
          },
          "metadata": {},
          "execution_count": 40
        }
      ]
    },
    {
      "cell_type": "code",
      "source": [
        "for layer in loaded_saved_model.layers:\n",
        "  print(layer, layer.name, layer.trainable)"
      ],
      "metadata": {
        "colab": {
          "base_uri": "https://localhost:8080/"
        },
        "id": "kI6D-fE9tdTS",
        "outputId": "eec6645e-0a72-45c8-98d1-9b1d037398be"
      },
      "execution_count": 41,
      "outputs": [
        {
          "output_type": "stream",
          "name": "stdout",
          "text": [
            "<keras.engine.input_layer.InputLayer object at 0x7f2123bf6290> input_layer True\n",
            "<keras.engine.functional.Functional object at 0x7f212357c8d0> efficientnetb0 False\n",
            "<keras.layers.pooling.GlobalAveragePooling2D object at 0x7f21251c97d0> pooling_layer True\n",
            "<keras.layers.core.dense.Dense object at 0x7f2125258cd0> dense True\n",
            "<keras.layers.core.activation.Activation object at 0x7f2123cf4410> softmax_float32 True\n"
          ]
        }
      ]
    },
    {
      "cell_type": "code",
      "source": [
        "for layer in loaded_saved_model.layers:\n",
        "  layer.trainable = True # set all layers to trainable\n",
        "  print(layer.name, layer.dtype, layer.dtype_policy, layer.trainable)"
      ],
      "metadata": {
        "colab": {
          "base_uri": "https://localhost:8080/"
        },
        "id": "cOZDM23nwXs_",
        "outputId": "d585ff92-6342-4392-8420-3b91e2540cd2"
      },
      "execution_count": 42,
      "outputs": [
        {
          "output_type": "stream",
          "name": "stdout",
          "text": [
            "input_layer float32 <Policy \"float32\"> True\n",
            "efficientnetb0 float32 <Policy \"mixed_float16\"> True\n",
            "pooling_layer float32 <Policy \"mixed_float16\"> True\n",
            "dense float32 <Policy \"mixed_float16\"> True\n",
            "softmax_float32 float32 <Policy \"float32\"> True\n"
          ]
        }
      ]
    },
    {
      "cell_type": "code",
      "source": [
        "for layer in loaded_saved_model.layers[1].layers:\n",
        "  print(layer, layer.name, layer.trainable)"
      ],
      "metadata": {
        "colab": {
          "base_uri": "https://localhost:8080/"
        },
        "id": "WSRBa621tmXw",
        "outputId": "8693f0e7-5f05-4a66-d347-94844750cf85"
      },
      "execution_count": 43,
      "outputs": [
        {
          "output_type": "stream",
          "name": "stdout",
          "text": [
            "<keras.engine.input_layer.InputLayer object at 0x7f2123cfbb10> input_1 True\n",
            "<keras.layers.preprocessing.image_preprocessing.Rescaling object at 0x7f21232cbf50> rescaling True\n",
            "<keras.layers.preprocessing.normalization.Normalization object at 0x7f21232d8ed0> normalization True\n",
            "<keras.layers.convolutional.ZeroPadding2D object at 0x7f212524cf90> stem_conv_pad True\n",
            "<keras.layers.convolutional.Conv2D object at 0x7f212524c450> stem_conv True\n",
            "<keras.layers.normalization.batch_normalization.BatchNormalization object at 0x7f21251aa1d0> stem_bn True\n",
            "<keras.layers.core.activation.Activation object at 0x7f21233e4690> stem_activation True\n",
            "<keras.layers.convolutional.DepthwiseConv2D object at 0x7f21252b5110> block1a_dwconv True\n",
            "<keras.layers.normalization.batch_normalization.BatchNormalization object at 0x7f21252a68d0> block1a_bn True\n",
            "<keras.layers.core.activation.Activation object at 0x7f2123419990> block1a_activation True\n",
            "<keras.layers.pooling.GlobalAveragePooling2D object at 0x7f2123419650> block1a_se_squeeze True\n",
            "<keras.layers.core.reshape.Reshape object at 0x7f2123cd6e10> block1a_se_reshape True\n",
            "<keras.layers.convolutional.Conv2D object at 0x7f2123cd60d0> block1a_se_reduce True\n",
            "<keras.layers.convolutional.Conv2D object at 0x7f212529aa10> block1a_se_expand True\n",
            "<keras.layers.merge.Multiply object at 0x7f21252ae610> block1a_se_excite True\n",
            "<keras.layers.convolutional.Conv2D object at 0x7f21232dc710> block1a_project_conv True\n",
            "<keras.layers.normalization.batch_normalization.BatchNormalization object at 0x7f21232d3710> block1a_project_bn True\n",
            "<keras.layers.convolutional.Conv2D object at 0x7f2125317ad0> block2a_expand_conv True\n",
            "<keras.layers.normalization.batch_normalization.BatchNormalization object at 0x7f2123d3b8d0> block2a_expand_bn True\n",
            "<keras.layers.core.activation.Activation object at 0x7f212530c910> block2a_expand_activation True\n",
            "<keras.layers.convolutional.ZeroPadding2D object at 0x7f212530cb90> block2a_dwconv_pad True\n",
            "<keras.layers.convolutional.DepthwiseConv2D object at 0x7f21232e96d0> block2a_dwconv True\n",
            "<keras.layers.normalization.batch_normalization.BatchNormalization object at 0x7f21234439d0> block2a_bn True\n",
            "<keras.layers.core.activation.Activation object at 0x7f2125303990> block2a_activation True\n",
            "<keras.layers.pooling.GlobalAveragePooling2D object at 0x7f208bfab090> block2a_se_squeeze True\n",
            "<keras.layers.core.reshape.Reshape object at 0x7f212535b2d0> block2a_se_reshape True\n",
            "<keras.layers.convolutional.Conv2D object at 0x7f2125356d10> block2a_se_reduce True\n",
            "<keras.layers.convolutional.Conv2D object at 0x7f21253fe5d0> block2a_se_expand True\n",
            "<keras.layers.merge.Multiply object at 0x7f2125346110> block2a_se_excite True\n",
            "<keras.layers.convolutional.Conv2D object at 0x7f212536b990> block2a_project_conv True\n",
            "<keras.layers.normalization.batch_normalization.BatchNormalization object at 0x7f21253f4e10> block2a_project_bn True\n",
            "<keras.layers.convolutional.Conv2D object at 0x7f2125367310> block2b_expand_conv True\n",
            "<keras.layers.normalization.batch_normalization.BatchNormalization object at 0x7f212546e710> block2b_expand_bn True\n",
            "<keras.layers.core.activation.Activation object at 0x7f2123dc2c50> block2b_expand_activation True\n",
            "<keras.layers.convolutional.DepthwiseConv2D object at 0x7f2123dbe1d0> block2b_dwconv True\n",
            "<keras.layers.normalization.batch_normalization.BatchNormalization object at 0x7f2125464710> block2b_bn True\n",
            "<keras.layers.core.activation.Activation object at 0x7f2123db28d0> block2b_activation True\n",
            "<keras.layers.pooling.GlobalAveragePooling2D object at 0x7f2123db2450> block2b_se_squeeze True\n",
            "<keras.layers.core.reshape.Reshape object at 0x7f21232b3b10> block2b_se_reshape True\n",
            "<keras.layers.convolutional.Conv2D object at 0x7f2123dabed0> block2b_se_reduce True\n",
            "<keras.layers.convolutional.Conv2D object at 0x7f21232c0950> block2b_se_expand True\n",
            "<keras.layers.merge.Multiply object at 0x7f212547ee50> block2b_se_excite True\n",
            "<keras.layers.convolutional.Conv2D object at 0x7f21232bb190> block2b_project_conv True\n",
            "<keras.layers.normalization.batch_normalization.BatchNormalization object at 0x7f2123287510> block2b_project_bn True\n",
            "<keras.layers.core.dropout.Dropout object at 0x7f2123e7c110> block2b_drop True\n",
            "<keras.layers.merge.Add object at 0x7f212321af10> block2b_add True\n",
            "<keras.layers.convolutional.Conv2D object at 0x7f2123299a10> block3a_expand_conv True\n",
            "<keras.layers.normalization.batch_normalization.BatchNormalization object at 0x7f2123379110> block3a_expand_bn True\n",
            "<keras.layers.core.activation.Activation object at 0x7f2125494850> block3a_expand_activation True\n",
            "<keras.layers.convolutional.ZeroPadding2D object at 0x7f2125494ed0> block3a_dwconv_pad True\n",
            "<keras.layers.convolutional.DepthwiseConv2D object at 0x7f2123207f90> block3a_dwconv True\n",
            "<keras.layers.normalization.batch_normalization.BatchNormalization object at 0x7f212549d610> block3a_bn True\n",
            "<keras.layers.core.activation.Activation object at 0x7f21254dc390> block3a_activation True\n",
            "<keras.layers.pooling.GlobalAveragePooling2D object at 0x7f21254dc510> block3a_se_squeeze True\n",
            "<keras.layers.core.reshape.Reshape object at 0x7f21232ac890> block3a_se_reshape True\n",
            "<keras.layers.convolutional.Conv2D object at 0x7f208c0475d0> block3a_se_reduce True\n",
            "<keras.layers.convolutional.Conv2D object at 0x7f21254efe10> block3a_se_expand True\n",
            "<keras.layers.merge.Multiply object at 0x7f2123e54a10> block3a_se_excite True\n",
            "<keras.layers.convolutional.Conv2D object at 0x7f21254cd690> block3a_project_conv True\n",
            "<keras.layers.normalization.batch_normalization.BatchNormalization object at 0x7f212555e650> block3a_project_bn True\n",
            "<keras.layers.convolutional.Conv2D object at 0x7f212556d210> block3b_expand_conv True\n",
            "<keras.layers.normalization.batch_normalization.BatchNormalization object at 0x7f21233d78d0> block3b_expand_bn True\n",
            "<keras.layers.core.activation.Activation object at 0x7f21233d7a10> block3b_expand_activation True\n",
            "<keras.layers.convolutional.DepthwiseConv2D object at 0x7f21255686d0> block3b_dwconv True\n",
            "<keras.layers.normalization.batch_normalization.BatchNormalization object at 0x7f21254749d0> block3b_bn True\n",
            "<keras.layers.core.activation.Activation object at 0x7f212559b810> block3b_activation True\n",
            "<keras.layers.pooling.GlobalAveragePooling2D object at 0x7f20a64a64d0> block3b_se_squeeze True\n",
            "<keras.layers.core.reshape.Reshape object at 0x7f20a64445d0> block3b_se_reshape True\n",
            "<keras.layers.convolutional.Conv2D object at 0x7f212558e490> block3b_se_reduce True\n",
            "<keras.layers.convolutional.Conv2D object at 0x7f2123eeb090> block3b_se_expand True\n",
            "<keras.layers.merge.Multiply object at 0x7f21255b8a10> block3b_se_excite True\n",
            "<keras.layers.convolutional.Conv2D object at 0x7f2123349090> block3b_project_conv True\n",
            "<keras.layers.normalization.batch_normalization.BatchNormalization object at 0x7f2123293190> block3b_project_bn True\n",
            "<keras.layers.core.dropout.Dropout object at 0x7f2123ed8dd0> block3b_drop True\n",
            "<keras.layers.merge.Add object at 0x7f2123eccfd0> block3b_add True\n",
            "<keras.layers.convolutional.Conv2D object at 0x7f2123ed1090> block4a_expand_conv True\n",
            "<keras.layers.normalization.batch_normalization.BatchNormalization object at 0x7f21231cec10> block4a_expand_bn True\n",
            "<keras.layers.core.activation.Activation object at 0x7f2125604850> block4a_expand_activation True\n",
            "<keras.layers.convolutional.ZeroPadding2D object at 0x7f21256bcf10> block4a_dwconv_pad True\n",
            "<keras.layers.convolutional.DepthwiseConv2D object at 0x7f21256bca10> block4a_dwconv True\n",
            "<keras.layers.normalization.batch_normalization.BatchNormalization object at 0x7f21256b5c50> block4a_bn True\n",
            "<keras.layers.core.activation.Activation object at 0x7f2123f3fa10> block4a_activation True\n",
            "<keras.layers.pooling.GlobalAveragePooling2D object at 0x7f21231d3c90> block4a_se_squeeze True\n",
            "<keras.layers.core.reshape.Reshape object at 0x7f212318cc90> block4a_se_reshape True\n",
            "<keras.layers.convolutional.Conv2D object at 0x7f2123213a50> block4a_se_reduce True\n",
            "<keras.layers.convolutional.Conv2D object at 0x7f2123482650> block4a_se_expand True\n",
            "<keras.layers.merge.Multiply object at 0x7f2123f224d0> block4a_se_excite True\n",
            "<keras.layers.convolutional.Conv2D object at 0x7f21231a0690> block4a_project_conv True\n",
            "<keras.layers.normalization.batch_normalization.BatchNormalization object at 0x7f212319c2d0> block4a_project_bn True\n",
            "<keras.layers.convolutional.Conv2D object at 0x7f21231ae9d0> block4b_expand_conv True\n",
            "<keras.layers.normalization.batch_normalization.BatchNormalization object at 0x7f2123f05750> block4b_expand_bn True\n",
            "<keras.layers.core.activation.Activation object at 0x7f21231e7190> block4b_expand_activation True\n",
            "<keras.layers.convolutional.DepthwiseConv2D object at 0x7f21231e7a10> block4b_dwconv True\n",
            "<keras.layers.normalization.batch_normalization.BatchNormalization object at 0x7f21231b6a10> block4b_bn True\n",
            "<keras.layers.core.activation.Activation object at 0x7f21256d1550> block4b_activation True\n",
            "<keras.layers.pooling.GlobalAveragePooling2D object at 0x7f21256d1c50> block4b_se_squeeze True\n",
            "<keras.layers.core.reshape.Reshape object at 0x7f2123fb1710> block4b_se_reshape True\n",
            "<keras.layers.convolutional.Conv2D object at 0x7f2123fb1890> block4b_se_reduce True\n",
            "<keras.layers.convolutional.Conv2D object at 0x7f2123103450> block4b_se_expand True\n",
            "<keras.layers.merge.Multiply object at 0x7f2123225d50> block4b_se_excite True\n",
            "<keras.layers.convolutional.Conv2D object at 0x7f212570e950> block4b_project_conv True\n",
            "<keras.layers.normalization.batch_normalization.BatchNormalization object at 0x7f21257c2d90> block4b_project_bn True\n",
            "<keras.layers.core.dropout.Dropout object at 0x7f208c1f8850> block4b_drop True\n",
            "<keras.layers.merge.Add object at 0x7f2123f9f210> block4b_add True\n",
            "<keras.layers.convolutional.Conv2D object at 0x7f2123f924d0> block4c_expand_conv True\n",
            "<keras.layers.normalization.batch_normalization.BatchNormalization object at 0x7f212572ce10> block4c_expand_bn True\n",
            "<keras.layers.core.activation.Activation object at 0x7f2124001110> block4c_expand_activation True\n",
            "<keras.layers.convolutional.DepthwiseConv2D object at 0x7f212322e310> block4c_dwconv True\n",
            "<keras.layers.normalization.batch_normalization.BatchNormalization object at 0x7f2125842290> block4c_bn True\n",
            "<keras.layers.core.activation.Activation object at 0x7f212582a750> block4c_activation True\n",
            "<keras.layers.pooling.GlobalAveragePooling2D object at 0x7f212582add0> block4c_se_squeeze True\n",
            "<keras.layers.core.reshape.Reshape object at 0x7f212582a550> block4c_se_reshape True\n",
            "<keras.layers.convolutional.Conv2D object at 0x7f212579a2d0> block4c_se_reduce True\n",
            "<keras.layers.convolutional.Conv2D object at 0x7f2123125c50> block4c_se_expand True\n",
            "<keras.layers.merge.Multiply object at 0x7f2125821c90> block4c_se_excite True\n",
            "<keras.layers.convolutional.Conv2D object at 0x7f2123fe8850> block4c_project_conv True\n",
            "<keras.layers.normalization.batch_normalization.BatchNormalization object at 0x7f21258150d0> block4c_project_bn True\n",
            "<keras.layers.core.dropout.Dropout object at 0x7f2123fd4650> block4c_drop True\n",
            "<keras.layers.merge.Add object at 0x7f212313c050> block4c_add True\n",
            "<keras.layers.convolutional.Conv2D object at 0x7f212313c9d0> block5a_expand_conv True\n",
            "<keras.layers.normalization.batch_normalization.BatchNormalization object at 0x7f212580d590> block5a_expand_bn True\n",
            "<keras.layers.core.activation.Activation object at 0x7f212585eb90> block5a_expand_activation True\n",
            "<keras.layers.convolutional.DepthwiseConv2D object at 0x7f208c245b10> block5a_dwconv True\n",
            "<keras.layers.normalization.batch_normalization.BatchNormalization object at 0x7f2125877d90> block5a_bn True\n",
            "<keras.layers.core.activation.Activation object at 0x7f2125872350> block5a_activation True\n",
            "<keras.layers.pooling.GlobalAveragePooling2D object at 0x7f2125855fd0> block5a_se_squeeze True\n",
            "<keras.layers.core.reshape.Reshape object at 0x7f21258fde50> block5a_se_reshape True\n",
            "<keras.layers.convolutional.Conv2D object at 0x7f21258fdc90> block5a_se_reduce True\n",
            "<keras.layers.convolutional.Conv2D object at 0x7f21230ace10> block5a_se_expand True\n",
            "<keras.layers.merge.Multiply object at 0x7f21258f2390> block5a_se_excite True\n",
            "<keras.layers.convolutional.Conv2D object at 0x7f21258f2090> block5a_project_conv True\n",
            "<keras.layers.normalization.batch_normalization.BatchNormalization object at 0x7f212405e950> block5a_project_bn True\n",
            "<keras.layers.convolutional.Conv2D object at 0x7f21258e8e90> block5b_expand_conv True\n",
            "<keras.layers.normalization.batch_normalization.BatchNormalization object at 0x7f2124047b10> block5b_expand_bn True\n",
            "<keras.layers.core.activation.Activation object at 0x7f2123043150> block5b_expand_activation True\n",
            "<keras.layers.convolutional.DepthwiseConv2D object at 0x7f2123043f90> block5b_dwconv True\n",
            "<keras.layers.normalization.batch_normalization.BatchNormalization object at 0x7f21240bd4d0> block5b_bn True\n",
            "<keras.layers.core.activation.Activation object at 0x7f2123052dd0> block5b_activation True\n",
            "<keras.layers.pooling.GlobalAveragePooling2D object at 0x7f2123052e10> block5b_se_squeeze True\n",
            "<keras.layers.core.reshape.Reshape object at 0x7f212308e510> block5b_se_reshape True\n",
            "<keras.layers.convolutional.Conv2D object at 0x7f212308ec90> block5b_se_reduce True\n",
            "<keras.layers.convolutional.Conv2D object at 0x7f21258d3990> block5b_se_expand True\n",
            "<keras.layers.merge.Multiply object at 0x7f2125616a90> block5b_se_excite True\n",
            "<keras.layers.convolutional.Conv2D object at 0x7f212592d310> block5b_project_conv True\n",
            "<keras.layers.normalization.batch_normalization.BatchNormalization object at 0x7f21240a4ad0> block5b_project_bn True\n",
            "<keras.layers.core.dropout.Dropout object at 0x7f212309e450> block5b_drop True\n",
            "<keras.layers.merge.Add object at 0x7f2125924dd0> block5b_add True\n",
            "<keras.layers.convolutional.Conv2D object at 0x7f2125924750> block5c_expand_conv True\n",
            "<keras.layers.normalization.batch_normalization.BatchNormalization object at 0x7f21284f0910> block5c_expand_bn True\n",
            "<keras.layers.core.activation.Activation object at 0x7f212457f610> block5c_expand_activation True\n",
            "<keras.layers.convolutional.DepthwiseConv2D object at 0x7f21284cc150> block5c_dwconv True\n",
            "<keras.layers.normalization.batch_normalization.BatchNormalization object at 0x7f21285fc190> block5c_bn True\n",
            "<keras.layers.core.activation.Activation object at 0x7f212590e350> block5c_activation True\n",
            "<keras.layers.pooling.GlobalAveragePooling2D object at 0x7f21240a0dd0> block5c_se_squeeze True\n",
            "<keras.layers.core.reshape.Reshape object at 0x7f2124093750> block5c_se_reshape True\n",
            "<keras.layers.convolutional.Conv2D object at 0x7f21257f31d0> block5c_se_reduce True\n",
            "<keras.layers.convolutional.Conv2D object at 0x7f2123064190> block5c_se_expand True\n",
            "<keras.layers.merge.Multiply object at 0x7f21231ef7d0> block5c_se_excite True\n",
            "<keras.layers.convolutional.Conv2D object at 0x7f2123236550> block5c_project_conv True\n",
            "<keras.layers.normalization.batch_normalization.BatchNormalization object at 0x7f21284c8b50> block5c_project_bn True\n",
            "<keras.layers.core.dropout.Dropout object at 0x7f2125989350> block5c_drop True\n",
            "<keras.layers.merge.Add object at 0x7f21257f88d0> block5c_add True\n",
            "<keras.layers.convolutional.Conv2D object at 0x7f212306cf50> block6a_expand_conv True\n",
            "<keras.layers.normalization.batch_normalization.BatchNormalization object at 0x7f21259fbfd0> block6a_expand_bn True\n",
            "<keras.layers.core.activation.Activation object at 0x7f2124129450> block6a_expand_activation True\n",
            "<keras.layers.convolutional.ZeroPadding2D object at 0x7f2124130810> block6a_dwconv_pad True\n",
            "<keras.layers.convolutional.DepthwiseConv2D object at 0x7f2122fc50d0> block6a_dwconv True\n",
            "<keras.layers.normalization.batch_normalization.BatchNormalization object at 0x7f21259f1a10> block6a_bn True\n",
            "<keras.layers.core.activation.Activation object at 0x7f2125a822d0> block6a_activation True\n",
            "<keras.layers.pooling.GlobalAveragePooling2D object at 0x7f21259cb310> block6a_se_squeeze True\n",
            "<keras.layers.core.reshape.Reshape object at 0x7f2125a79d90> block6a_se_reshape True\n",
            "<keras.layers.convolutional.Conv2D object at 0x7f2125a79150> block6a_se_reduce True\n",
            "<keras.layers.convolutional.Conv2D object at 0x7f2125a70510> block6a_se_expand True\n",
            "<keras.layers.merge.Multiply object at 0x7f212411e050> block6a_se_excite True\n",
            "<keras.layers.convolutional.Conv2D object at 0x7f2123118b90> block6a_project_conv True\n",
            "<keras.layers.normalization.batch_normalization.BatchNormalization object at 0x7f2125a5e2d0> block6a_project_bn True\n",
            "<keras.layers.convolutional.Conv2D object at 0x7f21244b3110> block6b_expand_conv True\n",
            "<keras.layers.normalization.batch_normalization.BatchNormalization object at 0x7f2122fec590> block6b_expand_bn True\n",
            "<keras.layers.core.activation.Activation object at 0x7f2124176690> block6b_expand_activation True\n",
            "<keras.layers.convolutional.DepthwiseConv2D object at 0x7f21241766d0> block6b_dwconv True\n",
            "<keras.layers.normalization.batch_normalization.BatchNormalization object at 0x7f2122ffaad0> block6b_bn True\n",
            "<keras.layers.core.activation.Activation object at 0x7f2125a467d0> block6b_activation True\n",
            "<keras.layers.pooling.GlobalAveragePooling2D object at 0x7f2125a462d0> block6b_se_squeeze True\n",
            "<keras.layers.core.reshape.Reshape object at 0x7f2125a46050> block6b_se_reshape True\n",
            "<keras.layers.convolutional.Conv2D object at 0x7f21256d9e50> block6b_se_reduce True\n",
            "<keras.layers.convolutional.Conv2D object at 0x7f212584cd90> block6b_se_expand True\n",
            "<keras.layers.merge.Multiply object at 0x7f2122f05b50> block6b_se_excite True\n",
            "<keras.layers.convolutional.Conv2D object at 0x7f2122fd3a50> block6b_project_conv True\n",
            "<keras.layers.normalization.batch_normalization.BatchNormalization object at 0x7f2125ab85d0> block6b_project_bn True\n",
            "<keras.layers.core.dropout.Dropout object at 0x7f2125aa4290> block6b_drop True\n",
            "<keras.layers.merge.Add object at 0x7f2122f12e90> block6b_add True\n",
            "<keras.layers.convolutional.Conv2D object at 0x7f2125a92190> block6c_expand_conv True\n",
            "<keras.layers.normalization.batch_normalization.BatchNormalization object at 0x7f212414ff90> block6c_expand_bn True\n",
            "<keras.layers.core.activation.Activation object at 0x7f2124202c50> block6c_expand_activation True\n",
            "<keras.layers.convolutional.DepthwiseConv2D object at 0x7f2122ff3890> block6c_dwconv True\n",
            "<keras.layers.normalization.batch_normalization.BatchNormalization object at 0x7f21230022d0> block6c_bn True\n",
            "<keras.layers.core.activation.Activation object at 0x7f2125b30950> block6c_activation True\n",
            "<keras.layers.pooling.GlobalAveragePooling2D object at 0x7f2125b30910> block6c_se_squeeze True\n",
            "<keras.layers.core.reshape.Reshape object at 0x7f2125b12f10> block6c_se_reshape True\n",
            "<keras.layers.convolutional.Conv2D object at 0x7f2125b123d0> block6c_se_reduce True\n",
            "<keras.layers.convolutional.Conv2D object at 0x7f21231c7750> block6c_se_expand True\n",
            "<keras.layers.merge.Multiply object at 0x7f21241df510> block6c_se_excite True\n",
            "<keras.layers.convolutional.Conv2D object at 0x7f21241df550> block6c_project_conv True\n",
            "<keras.layers.normalization.batch_normalization.BatchNormalization object at 0x7f2125b4de10> block6c_project_bn True\n",
            "<keras.layers.core.dropout.Dropout object at 0x7f2125b0a210> block6c_drop True\n",
            "<keras.layers.merge.Add object at 0x7f2125b0a9d0> block6c_add True\n",
            "<keras.layers.convolutional.Conv2D object at 0x7f2125bee850> block6d_expand_conv True\n",
            "<keras.layers.normalization.batch_normalization.BatchNormalization object at 0x7f2122f1e950> block6d_expand_bn True\n",
            "<keras.layers.core.activation.Activation object at 0x7f2125bdf710> block6d_expand_activation True\n",
            "<keras.layers.convolutional.DepthwiseConv2D object at 0x7f2125bdfcd0> block6d_dwconv True\n",
            "<keras.layers.normalization.batch_normalization.BatchNormalization object at 0x7f2122f35f50> block6d_bn True\n",
            "<keras.layers.core.activation.Activation object at 0x7f2125be8150> block6d_activation True\n",
            "<keras.layers.pooling.GlobalAveragePooling2D object at 0x7f2125bd4dd0> block6d_se_squeeze True\n",
            "<keras.layers.core.reshape.Reshape object at 0x7f2125bd47d0> block6d_se_reshape True\n",
            "<keras.layers.convolutional.Conv2D object at 0x7f2125bd4050> block6d_se_reduce True\n",
            "<keras.layers.convolutional.Conv2D object at 0x7f2122fdbd90> block6d_se_expand True\n",
            "<keras.layers.merge.Multiply object at 0x7f212423ad90> block6d_se_excite True\n",
            "<keras.layers.convolutional.Conv2D object at 0x7f212422df90> block6d_project_conv True\n",
            "<keras.layers.normalization.batch_normalization.BatchNormalization object at 0x7f2122edbb50> block6d_project_bn True\n",
            "<keras.layers.core.dropout.Dropout object at 0x7f2125c3d5d0> block6d_drop True\n",
            "<keras.layers.merge.Add object at 0x7f2125c3da50> block6d_add True\n",
            "<keras.layers.convolutional.Conv2D object at 0x7f208c4f4f50> block7a_expand_conv True\n",
            "<keras.layers.normalization.batch_normalization.BatchNormalization object at 0x7f2125c2a350> block7a_expand_bn True\n",
            "<keras.layers.core.activation.Activation object at 0x7f2124220050> block7a_expand_activation True\n",
            "<keras.layers.convolutional.DepthwiseConv2D object at 0x7f2125c24c10> block7a_dwconv True\n",
            "<keras.layers.normalization.batch_normalization.BatchNormalization object at 0x7f2125cb6290> block7a_bn True\n",
            "<keras.layers.core.activation.Activation object at 0x7f21242138d0> block7a_activation True\n",
            "<keras.layers.pooling.GlobalAveragePooling2D object at 0x7f2125cab710> block7a_se_squeeze True\n",
            "<keras.layers.core.reshape.Reshape object at 0x7f2125cab150> block7a_se_reshape True\n",
            "<keras.layers.convolutional.Conv2D object at 0x7f212420d8d0> block7a_se_reduce True\n",
            "<keras.layers.convolutional.Conv2D object at 0x7f2125cc2d90> block7a_se_expand True\n",
            "<keras.layers.merge.Multiply object at 0x7f2125c9f5d0> block7a_se_excite True\n",
            "<keras.layers.convolutional.Conv2D object at 0x7f21242bd6d0> block7a_project_conv True\n",
            "<keras.layers.normalization.batch_normalization.BatchNormalization object at 0x7f2123612410> block7a_project_bn True\n",
            "<keras.layers.convolutional.Conv2D object at 0x7f2125c950d0> top_conv True\n",
            "<keras.layers.normalization.batch_normalization.BatchNormalization object at 0x7f2122ea1090> top_bn True\n",
            "<keras.layers.core.activation.Activation object at 0x7f2122ed5310> top_activation True\n"
          ]
        }
      ]
    },
    {
      "cell_type": "code",
      "source": [
        "for layer in loaded_saved_model.layers[1].layers:\n",
        "  if layer.trainable == False:\n",
        "    print(layer, layer.name, layer.trainable)"
      ],
      "metadata": {
        "id": "p8q6eFeFwkGE"
      },
      "execution_count": 44,
      "outputs": []
    },
    {
      "cell_type": "code",
      "source": [
        "for layer in loaded_saved_model.layers[1].layers:\n",
        "  if layer.trainable == True:\n",
        "    print(layer, layer.name, layer.trainable)"
      ],
      "metadata": {
        "colab": {
          "base_uri": "https://localhost:8080/"
        },
        "id": "pZ4g3vS_woaE",
        "outputId": "80a98902-072b-4537-ff99-89f3a3d96e23"
      },
      "execution_count": 45,
      "outputs": [
        {
          "output_type": "stream",
          "name": "stdout",
          "text": [
            "<keras.engine.input_layer.InputLayer object at 0x7f2123cfbb10> input_1 True\n",
            "<keras.layers.preprocessing.image_preprocessing.Rescaling object at 0x7f21232cbf50> rescaling True\n",
            "<keras.layers.preprocessing.normalization.Normalization object at 0x7f21232d8ed0> normalization True\n",
            "<keras.layers.convolutional.ZeroPadding2D object at 0x7f212524cf90> stem_conv_pad True\n",
            "<keras.layers.convolutional.Conv2D object at 0x7f212524c450> stem_conv True\n",
            "<keras.layers.normalization.batch_normalization.BatchNormalization object at 0x7f21251aa1d0> stem_bn True\n",
            "<keras.layers.core.activation.Activation object at 0x7f21233e4690> stem_activation True\n",
            "<keras.layers.convolutional.DepthwiseConv2D object at 0x7f21252b5110> block1a_dwconv True\n",
            "<keras.layers.normalization.batch_normalization.BatchNormalization object at 0x7f21252a68d0> block1a_bn True\n",
            "<keras.layers.core.activation.Activation object at 0x7f2123419990> block1a_activation True\n",
            "<keras.layers.pooling.GlobalAveragePooling2D object at 0x7f2123419650> block1a_se_squeeze True\n",
            "<keras.layers.core.reshape.Reshape object at 0x7f2123cd6e10> block1a_se_reshape True\n",
            "<keras.layers.convolutional.Conv2D object at 0x7f2123cd60d0> block1a_se_reduce True\n",
            "<keras.layers.convolutional.Conv2D object at 0x7f212529aa10> block1a_se_expand True\n",
            "<keras.layers.merge.Multiply object at 0x7f21252ae610> block1a_se_excite True\n",
            "<keras.layers.convolutional.Conv2D object at 0x7f21232dc710> block1a_project_conv True\n",
            "<keras.layers.normalization.batch_normalization.BatchNormalization object at 0x7f21232d3710> block1a_project_bn True\n",
            "<keras.layers.convolutional.Conv2D object at 0x7f2125317ad0> block2a_expand_conv True\n",
            "<keras.layers.normalization.batch_normalization.BatchNormalization object at 0x7f2123d3b8d0> block2a_expand_bn True\n",
            "<keras.layers.core.activation.Activation object at 0x7f212530c910> block2a_expand_activation True\n",
            "<keras.layers.convolutional.ZeroPadding2D object at 0x7f212530cb90> block2a_dwconv_pad True\n",
            "<keras.layers.convolutional.DepthwiseConv2D object at 0x7f21232e96d0> block2a_dwconv True\n",
            "<keras.layers.normalization.batch_normalization.BatchNormalization object at 0x7f21234439d0> block2a_bn True\n",
            "<keras.layers.core.activation.Activation object at 0x7f2125303990> block2a_activation True\n",
            "<keras.layers.pooling.GlobalAveragePooling2D object at 0x7f208bfab090> block2a_se_squeeze True\n",
            "<keras.layers.core.reshape.Reshape object at 0x7f212535b2d0> block2a_se_reshape True\n",
            "<keras.layers.convolutional.Conv2D object at 0x7f2125356d10> block2a_se_reduce True\n",
            "<keras.layers.convolutional.Conv2D object at 0x7f21253fe5d0> block2a_se_expand True\n",
            "<keras.layers.merge.Multiply object at 0x7f2125346110> block2a_se_excite True\n",
            "<keras.layers.convolutional.Conv2D object at 0x7f212536b990> block2a_project_conv True\n",
            "<keras.layers.normalization.batch_normalization.BatchNormalization object at 0x7f21253f4e10> block2a_project_bn True\n",
            "<keras.layers.convolutional.Conv2D object at 0x7f2125367310> block2b_expand_conv True\n",
            "<keras.layers.normalization.batch_normalization.BatchNormalization object at 0x7f212546e710> block2b_expand_bn True\n",
            "<keras.layers.core.activation.Activation object at 0x7f2123dc2c50> block2b_expand_activation True\n",
            "<keras.layers.convolutional.DepthwiseConv2D object at 0x7f2123dbe1d0> block2b_dwconv True\n",
            "<keras.layers.normalization.batch_normalization.BatchNormalization object at 0x7f2125464710> block2b_bn True\n",
            "<keras.layers.core.activation.Activation object at 0x7f2123db28d0> block2b_activation True\n",
            "<keras.layers.pooling.GlobalAveragePooling2D object at 0x7f2123db2450> block2b_se_squeeze True\n",
            "<keras.layers.core.reshape.Reshape object at 0x7f21232b3b10> block2b_se_reshape True\n",
            "<keras.layers.convolutional.Conv2D object at 0x7f2123dabed0> block2b_se_reduce True\n",
            "<keras.layers.convolutional.Conv2D object at 0x7f21232c0950> block2b_se_expand True\n",
            "<keras.layers.merge.Multiply object at 0x7f212547ee50> block2b_se_excite True\n",
            "<keras.layers.convolutional.Conv2D object at 0x7f21232bb190> block2b_project_conv True\n",
            "<keras.layers.normalization.batch_normalization.BatchNormalization object at 0x7f2123287510> block2b_project_bn True\n",
            "<keras.layers.core.dropout.Dropout object at 0x7f2123e7c110> block2b_drop True\n",
            "<keras.layers.merge.Add object at 0x7f212321af10> block2b_add True\n",
            "<keras.layers.convolutional.Conv2D object at 0x7f2123299a10> block3a_expand_conv True\n",
            "<keras.layers.normalization.batch_normalization.BatchNormalization object at 0x7f2123379110> block3a_expand_bn True\n",
            "<keras.layers.core.activation.Activation object at 0x7f2125494850> block3a_expand_activation True\n",
            "<keras.layers.convolutional.ZeroPadding2D object at 0x7f2125494ed0> block3a_dwconv_pad True\n",
            "<keras.layers.convolutional.DepthwiseConv2D object at 0x7f2123207f90> block3a_dwconv True\n",
            "<keras.layers.normalization.batch_normalization.BatchNormalization object at 0x7f212549d610> block3a_bn True\n",
            "<keras.layers.core.activation.Activation object at 0x7f21254dc390> block3a_activation True\n",
            "<keras.layers.pooling.GlobalAveragePooling2D object at 0x7f21254dc510> block3a_se_squeeze True\n",
            "<keras.layers.core.reshape.Reshape object at 0x7f21232ac890> block3a_se_reshape True\n",
            "<keras.layers.convolutional.Conv2D object at 0x7f208c0475d0> block3a_se_reduce True\n",
            "<keras.layers.convolutional.Conv2D object at 0x7f21254efe10> block3a_se_expand True\n",
            "<keras.layers.merge.Multiply object at 0x7f2123e54a10> block3a_se_excite True\n",
            "<keras.layers.convolutional.Conv2D object at 0x7f21254cd690> block3a_project_conv True\n",
            "<keras.layers.normalization.batch_normalization.BatchNormalization object at 0x7f212555e650> block3a_project_bn True\n",
            "<keras.layers.convolutional.Conv2D object at 0x7f212556d210> block3b_expand_conv True\n",
            "<keras.layers.normalization.batch_normalization.BatchNormalization object at 0x7f21233d78d0> block3b_expand_bn True\n",
            "<keras.layers.core.activation.Activation object at 0x7f21233d7a10> block3b_expand_activation True\n",
            "<keras.layers.convolutional.DepthwiseConv2D object at 0x7f21255686d0> block3b_dwconv True\n",
            "<keras.layers.normalization.batch_normalization.BatchNormalization object at 0x7f21254749d0> block3b_bn True\n",
            "<keras.layers.core.activation.Activation object at 0x7f212559b810> block3b_activation True\n",
            "<keras.layers.pooling.GlobalAveragePooling2D object at 0x7f20a64a64d0> block3b_se_squeeze True\n",
            "<keras.layers.core.reshape.Reshape object at 0x7f20a64445d0> block3b_se_reshape True\n",
            "<keras.layers.convolutional.Conv2D object at 0x7f212558e490> block3b_se_reduce True\n",
            "<keras.layers.convolutional.Conv2D object at 0x7f2123eeb090> block3b_se_expand True\n",
            "<keras.layers.merge.Multiply object at 0x7f21255b8a10> block3b_se_excite True\n",
            "<keras.layers.convolutional.Conv2D object at 0x7f2123349090> block3b_project_conv True\n",
            "<keras.layers.normalization.batch_normalization.BatchNormalization object at 0x7f2123293190> block3b_project_bn True\n",
            "<keras.layers.core.dropout.Dropout object at 0x7f2123ed8dd0> block3b_drop True\n",
            "<keras.layers.merge.Add object at 0x7f2123eccfd0> block3b_add True\n",
            "<keras.layers.convolutional.Conv2D object at 0x7f2123ed1090> block4a_expand_conv True\n",
            "<keras.layers.normalization.batch_normalization.BatchNormalization object at 0x7f21231cec10> block4a_expand_bn True\n",
            "<keras.layers.core.activation.Activation object at 0x7f2125604850> block4a_expand_activation True\n",
            "<keras.layers.convolutional.ZeroPadding2D object at 0x7f21256bcf10> block4a_dwconv_pad True\n",
            "<keras.layers.convolutional.DepthwiseConv2D object at 0x7f21256bca10> block4a_dwconv True\n",
            "<keras.layers.normalization.batch_normalization.BatchNormalization object at 0x7f21256b5c50> block4a_bn True\n",
            "<keras.layers.core.activation.Activation object at 0x7f2123f3fa10> block4a_activation True\n",
            "<keras.layers.pooling.GlobalAveragePooling2D object at 0x7f21231d3c90> block4a_se_squeeze True\n",
            "<keras.layers.core.reshape.Reshape object at 0x7f212318cc90> block4a_se_reshape True\n",
            "<keras.layers.convolutional.Conv2D object at 0x7f2123213a50> block4a_se_reduce True\n",
            "<keras.layers.convolutional.Conv2D object at 0x7f2123482650> block4a_se_expand True\n",
            "<keras.layers.merge.Multiply object at 0x7f2123f224d0> block4a_se_excite True\n",
            "<keras.layers.convolutional.Conv2D object at 0x7f21231a0690> block4a_project_conv True\n",
            "<keras.layers.normalization.batch_normalization.BatchNormalization object at 0x7f212319c2d0> block4a_project_bn True\n",
            "<keras.layers.convolutional.Conv2D object at 0x7f21231ae9d0> block4b_expand_conv True\n",
            "<keras.layers.normalization.batch_normalization.BatchNormalization object at 0x7f2123f05750> block4b_expand_bn True\n",
            "<keras.layers.core.activation.Activation object at 0x7f21231e7190> block4b_expand_activation True\n",
            "<keras.layers.convolutional.DepthwiseConv2D object at 0x7f21231e7a10> block4b_dwconv True\n",
            "<keras.layers.normalization.batch_normalization.BatchNormalization object at 0x7f21231b6a10> block4b_bn True\n",
            "<keras.layers.core.activation.Activation object at 0x7f21256d1550> block4b_activation True\n",
            "<keras.layers.pooling.GlobalAveragePooling2D object at 0x7f21256d1c50> block4b_se_squeeze True\n",
            "<keras.layers.core.reshape.Reshape object at 0x7f2123fb1710> block4b_se_reshape True\n",
            "<keras.layers.convolutional.Conv2D object at 0x7f2123fb1890> block4b_se_reduce True\n",
            "<keras.layers.convolutional.Conv2D object at 0x7f2123103450> block4b_se_expand True\n",
            "<keras.layers.merge.Multiply object at 0x7f2123225d50> block4b_se_excite True\n",
            "<keras.layers.convolutional.Conv2D object at 0x7f212570e950> block4b_project_conv True\n",
            "<keras.layers.normalization.batch_normalization.BatchNormalization object at 0x7f21257c2d90> block4b_project_bn True\n",
            "<keras.layers.core.dropout.Dropout object at 0x7f208c1f8850> block4b_drop True\n",
            "<keras.layers.merge.Add object at 0x7f2123f9f210> block4b_add True\n",
            "<keras.layers.convolutional.Conv2D object at 0x7f2123f924d0> block4c_expand_conv True\n",
            "<keras.layers.normalization.batch_normalization.BatchNormalization object at 0x7f212572ce10> block4c_expand_bn True\n",
            "<keras.layers.core.activation.Activation object at 0x7f2124001110> block4c_expand_activation True\n",
            "<keras.layers.convolutional.DepthwiseConv2D object at 0x7f212322e310> block4c_dwconv True\n",
            "<keras.layers.normalization.batch_normalization.BatchNormalization object at 0x7f2125842290> block4c_bn True\n",
            "<keras.layers.core.activation.Activation object at 0x7f212582a750> block4c_activation True\n",
            "<keras.layers.pooling.GlobalAveragePooling2D object at 0x7f212582add0> block4c_se_squeeze True\n",
            "<keras.layers.core.reshape.Reshape object at 0x7f212582a550> block4c_se_reshape True\n",
            "<keras.layers.convolutional.Conv2D object at 0x7f212579a2d0> block4c_se_reduce True\n",
            "<keras.layers.convolutional.Conv2D object at 0x7f2123125c50> block4c_se_expand True\n",
            "<keras.layers.merge.Multiply object at 0x7f2125821c90> block4c_se_excite True\n",
            "<keras.layers.convolutional.Conv2D object at 0x7f2123fe8850> block4c_project_conv True\n",
            "<keras.layers.normalization.batch_normalization.BatchNormalization object at 0x7f21258150d0> block4c_project_bn True\n",
            "<keras.layers.core.dropout.Dropout object at 0x7f2123fd4650> block4c_drop True\n",
            "<keras.layers.merge.Add object at 0x7f212313c050> block4c_add True\n",
            "<keras.layers.convolutional.Conv2D object at 0x7f212313c9d0> block5a_expand_conv True\n",
            "<keras.layers.normalization.batch_normalization.BatchNormalization object at 0x7f212580d590> block5a_expand_bn True\n",
            "<keras.layers.core.activation.Activation object at 0x7f212585eb90> block5a_expand_activation True\n",
            "<keras.layers.convolutional.DepthwiseConv2D object at 0x7f208c245b10> block5a_dwconv True\n",
            "<keras.layers.normalization.batch_normalization.BatchNormalization object at 0x7f2125877d90> block5a_bn True\n",
            "<keras.layers.core.activation.Activation object at 0x7f2125872350> block5a_activation True\n",
            "<keras.layers.pooling.GlobalAveragePooling2D object at 0x7f2125855fd0> block5a_se_squeeze True\n",
            "<keras.layers.core.reshape.Reshape object at 0x7f21258fde50> block5a_se_reshape True\n",
            "<keras.layers.convolutional.Conv2D object at 0x7f21258fdc90> block5a_se_reduce True\n",
            "<keras.layers.convolutional.Conv2D object at 0x7f21230ace10> block5a_se_expand True\n",
            "<keras.layers.merge.Multiply object at 0x7f21258f2390> block5a_se_excite True\n",
            "<keras.layers.convolutional.Conv2D object at 0x7f21258f2090> block5a_project_conv True\n",
            "<keras.layers.normalization.batch_normalization.BatchNormalization object at 0x7f212405e950> block5a_project_bn True\n",
            "<keras.layers.convolutional.Conv2D object at 0x7f21258e8e90> block5b_expand_conv True\n",
            "<keras.layers.normalization.batch_normalization.BatchNormalization object at 0x7f2124047b10> block5b_expand_bn True\n",
            "<keras.layers.core.activation.Activation object at 0x7f2123043150> block5b_expand_activation True\n",
            "<keras.layers.convolutional.DepthwiseConv2D object at 0x7f2123043f90> block5b_dwconv True\n",
            "<keras.layers.normalization.batch_normalization.BatchNormalization object at 0x7f21240bd4d0> block5b_bn True\n",
            "<keras.layers.core.activation.Activation object at 0x7f2123052dd0> block5b_activation True\n",
            "<keras.layers.pooling.GlobalAveragePooling2D object at 0x7f2123052e10> block5b_se_squeeze True\n",
            "<keras.layers.core.reshape.Reshape object at 0x7f212308e510> block5b_se_reshape True\n",
            "<keras.layers.convolutional.Conv2D object at 0x7f212308ec90> block5b_se_reduce True\n",
            "<keras.layers.convolutional.Conv2D object at 0x7f21258d3990> block5b_se_expand True\n",
            "<keras.layers.merge.Multiply object at 0x7f2125616a90> block5b_se_excite True\n",
            "<keras.layers.convolutional.Conv2D object at 0x7f212592d310> block5b_project_conv True\n",
            "<keras.layers.normalization.batch_normalization.BatchNormalization object at 0x7f21240a4ad0> block5b_project_bn True\n",
            "<keras.layers.core.dropout.Dropout object at 0x7f212309e450> block5b_drop True\n",
            "<keras.layers.merge.Add object at 0x7f2125924dd0> block5b_add True\n",
            "<keras.layers.convolutional.Conv2D object at 0x7f2125924750> block5c_expand_conv True\n",
            "<keras.layers.normalization.batch_normalization.BatchNormalization object at 0x7f21284f0910> block5c_expand_bn True\n",
            "<keras.layers.core.activation.Activation object at 0x7f212457f610> block5c_expand_activation True\n",
            "<keras.layers.convolutional.DepthwiseConv2D object at 0x7f21284cc150> block5c_dwconv True\n",
            "<keras.layers.normalization.batch_normalization.BatchNormalization object at 0x7f21285fc190> block5c_bn True\n",
            "<keras.layers.core.activation.Activation object at 0x7f212590e350> block5c_activation True\n",
            "<keras.layers.pooling.GlobalAveragePooling2D object at 0x7f21240a0dd0> block5c_se_squeeze True\n",
            "<keras.layers.core.reshape.Reshape object at 0x7f2124093750> block5c_se_reshape True\n",
            "<keras.layers.convolutional.Conv2D object at 0x7f21257f31d0> block5c_se_reduce True\n",
            "<keras.layers.convolutional.Conv2D object at 0x7f2123064190> block5c_se_expand True\n",
            "<keras.layers.merge.Multiply object at 0x7f21231ef7d0> block5c_se_excite True\n",
            "<keras.layers.convolutional.Conv2D object at 0x7f2123236550> block5c_project_conv True\n",
            "<keras.layers.normalization.batch_normalization.BatchNormalization object at 0x7f21284c8b50> block5c_project_bn True\n",
            "<keras.layers.core.dropout.Dropout object at 0x7f2125989350> block5c_drop True\n",
            "<keras.layers.merge.Add object at 0x7f21257f88d0> block5c_add True\n",
            "<keras.layers.convolutional.Conv2D object at 0x7f212306cf50> block6a_expand_conv True\n",
            "<keras.layers.normalization.batch_normalization.BatchNormalization object at 0x7f21259fbfd0> block6a_expand_bn True\n",
            "<keras.layers.core.activation.Activation object at 0x7f2124129450> block6a_expand_activation True\n",
            "<keras.layers.convolutional.ZeroPadding2D object at 0x7f2124130810> block6a_dwconv_pad True\n",
            "<keras.layers.convolutional.DepthwiseConv2D object at 0x7f2122fc50d0> block6a_dwconv True\n",
            "<keras.layers.normalization.batch_normalization.BatchNormalization object at 0x7f21259f1a10> block6a_bn True\n",
            "<keras.layers.core.activation.Activation object at 0x7f2125a822d0> block6a_activation True\n",
            "<keras.layers.pooling.GlobalAveragePooling2D object at 0x7f21259cb310> block6a_se_squeeze True\n",
            "<keras.layers.core.reshape.Reshape object at 0x7f2125a79d90> block6a_se_reshape True\n",
            "<keras.layers.convolutional.Conv2D object at 0x7f2125a79150> block6a_se_reduce True\n",
            "<keras.layers.convolutional.Conv2D object at 0x7f2125a70510> block6a_se_expand True\n",
            "<keras.layers.merge.Multiply object at 0x7f212411e050> block6a_se_excite True\n",
            "<keras.layers.convolutional.Conv2D object at 0x7f2123118b90> block6a_project_conv True\n",
            "<keras.layers.normalization.batch_normalization.BatchNormalization object at 0x7f2125a5e2d0> block6a_project_bn True\n",
            "<keras.layers.convolutional.Conv2D object at 0x7f21244b3110> block6b_expand_conv True\n",
            "<keras.layers.normalization.batch_normalization.BatchNormalization object at 0x7f2122fec590> block6b_expand_bn True\n",
            "<keras.layers.core.activation.Activation object at 0x7f2124176690> block6b_expand_activation True\n",
            "<keras.layers.convolutional.DepthwiseConv2D object at 0x7f21241766d0> block6b_dwconv True\n",
            "<keras.layers.normalization.batch_normalization.BatchNormalization object at 0x7f2122ffaad0> block6b_bn True\n",
            "<keras.layers.core.activation.Activation object at 0x7f2125a467d0> block6b_activation True\n",
            "<keras.layers.pooling.GlobalAveragePooling2D object at 0x7f2125a462d0> block6b_se_squeeze True\n",
            "<keras.layers.core.reshape.Reshape object at 0x7f2125a46050> block6b_se_reshape True\n",
            "<keras.layers.convolutional.Conv2D object at 0x7f21256d9e50> block6b_se_reduce True\n",
            "<keras.layers.convolutional.Conv2D object at 0x7f212584cd90> block6b_se_expand True\n",
            "<keras.layers.merge.Multiply object at 0x7f2122f05b50> block6b_se_excite True\n",
            "<keras.layers.convolutional.Conv2D object at 0x7f2122fd3a50> block6b_project_conv True\n",
            "<keras.layers.normalization.batch_normalization.BatchNormalization object at 0x7f2125ab85d0> block6b_project_bn True\n",
            "<keras.layers.core.dropout.Dropout object at 0x7f2125aa4290> block6b_drop True\n",
            "<keras.layers.merge.Add object at 0x7f2122f12e90> block6b_add True\n",
            "<keras.layers.convolutional.Conv2D object at 0x7f2125a92190> block6c_expand_conv True\n",
            "<keras.layers.normalization.batch_normalization.BatchNormalization object at 0x7f212414ff90> block6c_expand_bn True\n",
            "<keras.layers.core.activation.Activation object at 0x7f2124202c50> block6c_expand_activation True\n",
            "<keras.layers.convolutional.DepthwiseConv2D object at 0x7f2122ff3890> block6c_dwconv True\n",
            "<keras.layers.normalization.batch_normalization.BatchNormalization object at 0x7f21230022d0> block6c_bn True\n",
            "<keras.layers.core.activation.Activation object at 0x7f2125b30950> block6c_activation True\n",
            "<keras.layers.pooling.GlobalAveragePooling2D object at 0x7f2125b30910> block6c_se_squeeze True\n",
            "<keras.layers.core.reshape.Reshape object at 0x7f2125b12f10> block6c_se_reshape True\n",
            "<keras.layers.convolutional.Conv2D object at 0x7f2125b123d0> block6c_se_reduce True\n",
            "<keras.layers.convolutional.Conv2D object at 0x7f21231c7750> block6c_se_expand True\n",
            "<keras.layers.merge.Multiply object at 0x7f21241df510> block6c_se_excite True\n",
            "<keras.layers.convolutional.Conv2D object at 0x7f21241df550> block6c_project_conv True\n",
            "<keras.layers.normalization.batch_normalization.BatchNormalization object at 0x7f2125b4de10> block6c_project_bn True\n",
            "<keras.layers.core.dropout.Dropout object at 0x7f2125b0a210> block6c_drop True\n",
            "<keras.layers.merge.Add object at 0x7f2125b0a9d0> block6c_add True\n",
            "<keras.layers.convolutional.Conv2D object at 0x7f2125bee850> block6d_expand_conv True\n",
            "<keras.layers.normalization.batch_normalization.BatchNormalization object at 0x7f2122f1e950> block6d_expand_bn True\n",
            "<keras.layers.core.activation.Activation object at 0x7f2125bdf710> block6d_expand_activation True\n",
            "<keras.layers.convolutional.DepthwiseConv2D object at 0x7f2125bdfcd0> block6d_dwconv True\n",
            "<keras.layers.normalization.batch_normalization.BatchNormalization object at 0x7f2122f35f50> block6d_bn True\n",
            "<keras.layers.core.activation.Activation object at 0x7f2125be8150> block6d_activation True\n",
            "<keras.layers.pooling.GlobalAveragePooling2D object at 0x7f2125bd4dd0> block6d_se_squeeze True\n",
            "<keras.layers.core.reshape.Reshape object at 0x7f2125bd47d0> block6d_se_reshape True\n",
            "<keras.layers.convolutional.Conv2D object at 0x7f2125bd4050> block6d_se_reduce True\n",
            "<keras.layers.convolutional.Conv2D object at 0x7f2122fdbd90> block6d_se_expand True\n",
            "<keras.layers.merge.Multiply object at 0x7f212423ad90> block6d_se_excite True\n",
            "<keras.layers.convolutional.Conv2D object at 0x7f212422df90> block6d_project_conv True\n",
            "<keras.layers.normalization.batch_normalization.BatchNormalization object at 0x7f2122edbb50> block6d_project_bn True\n",
            "<keras.layers.core.dropout.Dropout object at 0x7f2125c3d5d0> block6d_drop True\n",
            "<keras.layers.merge.Add object at 0x7f2125c3da50> block6d_add True\n",
            "<keras.layers.convolutional.Conv2D object at 0x7f208c4f4f50> block7a_expand_conv True\n",
            "<keras.layers.normalization.batch_normalization.BatchNormalization object at 0x7f2125c2a350> block7a_expand_bn True\n",
            "<keras.layers.core.activation.Activation object at 0x7f2124220050> block7a_expand_activation True\n",
            "<keras.layers.convolutional.DepthwiseConv2D object at 0x7f2125c24c10> block7a_dwconv True\n",
            "<keras.layers.normalization.batch_normalization.BatchNormalization object at 0x7f2125cb6290> block7a_bn True\n",
            "<keras.layers.core.activation.Activation object at 0x7f21242138d0> block7a_activation True\n",
            "<keras.layers.pooling.GlobalAveragePooling2D object at 0x7f2125cab710> block7a_se_squeeze True\n",
            "<keras.layers.core.reshape.Reshape object at 0x7f2125cab150> block7a_se_reshape True\n",
            "<keras.layers.convolutional.Conv2D object at 0x7f212420d8d0> block7a_se_reduce True\n",
            "<keras.layers.convolutional.Conv2D object at 0x7f2125cc2d90> block7a_se_expand True\n",
            "<keras.layers.merge.Multiply object at 0x7f2125c9f5d0> block7a_se_excite True\n",
            "<keras.layers.convolutional.Conv2D object at 0x7f21242bd6d0> block7a_project_conv True\n",
            "<keras.layers.normalization.batch_normalization.BatchNormalization object at 0x7f2123612410> block7a_project_bn True\n",
            "<keras.layers.convolutional.Conv2D object at 0x7f2125c950d0> top_conv True\n",
            "<keras.layers.normalization.batch_normalization.BatchNormalization object at 0x7f2122ea1090> top_bn True\n",
            "<keras.layers.core.activation.Activation object at 0x7f2122ed5310> top_activation True\n"
          ]
        }
      ]
    },
    {
      "cell_type": "code",
      "source": [
        "create_tensorboard_callback_fine_tuning= create_tensorboard_callback(\"transfer_learning\", \"fine_tuning_all_data_with_all_layers_unfrozen\")\n",
        "checkpoint_path_fine_tuning= 'checkpoints_fine_tuning/fine_tuning'\n",
        "checkpoint_callback_fine_tuning= model_check_point_callback(checkpoint_path_fine_tuning, save_weights_only=True, save_best_only=True, monitor=\"val_accuracy\")\n",
        "early_stopping_callback= create_early_stopping_callback(monitor=\"val_loss\", patience=3)\n",
        "reduce_lr_callback= reduce_learning_rate_callback(monitor=\"val_loss\", factor=0.2, patience=2, minimum_lr=1e-7)"
      ],
      "metadata": {
        "colab": {
          "base_uri": "https://localhost:8080/"
        },
        "id": "ui1rzfKAtrQ5",
        "outputId": "3c2c82bd-51c8-49b2-a5fd-277785da3ea1"
      },
      "execution_count": 46,
      "outputs": [
        {
          "output_type": "stream",
          "name": "stdout",
          "text": [
            "Saving TensorBoard log files to: transfer_learning/fine_tuning_all_data_with_all_layers_unfrozen/20220810-133734\n"
          ]
        }
      ]
    },
    {
      "cell_type": "code",
      "source": [
        "loaded_saved_model.compile(loss=\"sparse_categorical_crossentropy\", optimizer=tf.keras.optimizers.Adam(learning_rate=0.0001), metrics=[\"accuracy\"])"
      ],
      "metadata": {
        "id": "6cEXDV8Nu0QS"
      },
      "execution_count": 47,
      "outputs": []
    },
    {
      "cell_type": "code",
      "source": [
        "history_fine_tuning= loaded_saved_model.fit(train_data, epochs=100, steps_per_epoch=len(train_data), validation_data=test_data, validation_steps= int(0.15 * len(test_data)), callbacks=[create_tensorboard_callback_fine_tuning, checkpoint_callback_fine_tuning, early_stopping_callback, reduce_lr_callback])"
      ],
      "metadata": {
        "colab": {
          "base_uri": "https://localhost:8080/"
        },
        "id": "GKujD_5ZvkYP",
        "outputId": "49bc1673-b484-4281-edc6-526edbd30b92"
      },
      "execution_count": 48,
      "outputs": [
        {
          "output_type": "stream",
          "name": "stdout",
          "text": [
            "Epoch 1/100\n",
            "2368/2368 [==============================] - ETA: 0s - loss: 0.9231 - accuracy: 0.7528\n",
            "Epoch 1: val_accuracy improved from -inf to 0.77357, saving model to checkpoints_fine_tuning/fine_tuning\n",
            "2368/2368 [==============================] - 357s 144ms/step - loss: 0.9231 - accuracy: 0.7528 - val_loss: 0.8007 - val_accuracy: 0.7736 - lr: 1.0000e-04\n",
            "Epoch 2/100\n",
            "2368/2368 [==============================] - ETA: 0s - loss: 0.5776 - accuracy: 0.8392\n",
            "Epoch 2: val_accuracy improved from 0.77357 to 0.78284, saving model to checkpoints_fine_tuning/fine_tuning\n",
            "2368/2368 [==============================] - 338s 142ms/step - loss: 0.5776 - accuracy: 0.8392 - val_loss: 0.7994 - val_accuracy: 0.7828 - lr: 1.0000e-04\n",
            "Epoch 3/100\n",
            "2368/2368 [==============================] - ETA: 0s - loss: 0.3286 - accuracy: 0.9072\n",
            "Epoch 3: val_accuracy improved from 0.78284 to 0.78310, saving model to checkpoints_fine_tuning/fine_tuning\n",
            "2368/2368 [==============================] - 338s 142ms/step - loss: 0.3286 - accuracy: 0.9072 - val_loss: 0.8566 - val_accuracy: 0.7831 - lr: 1.0000e-04\n",
            "Epoch 4/100\n",
            "2368/2368 [==============================] - ETA: 0s - loss: 0.1747 - accuracy: 0.9488\n",
            "Epoch 4: val_accuracy did not improve from 0.78310\n",
            "\n",
            "Epoch 4: ReduceLROnPlateau reducing learning rate to 1.9999999494757503e-05.\n",
            "2368/2368 [==============================] - 339s 143ms/step - loss: 0.1747 - accuracy: 0.9488 - val_loss: 0.9906 - val_accuracy: 0.7744 - lr: 1.0000e-04\n",
            "Epoch 5/100\n",
            "2368/2368 [==============================] - ETA: 0s - loss: 0.0346 - accuracy: 0.9920\n",
            "Epoch 5: val_accuracy improved from 0.78310 to 0.80244, saving model to checkpoints_fine_tuning/fine_tuning\n",
            "2368/2368 [==============================] - 338s 142ms/step - loss: 0.0346 - accuracy: 0.9920 - val_loss: 1.0526 - val_accuracy: 0.8024 - lr: 2.0000e-05\n",
            "Epoch 5: early stopping\n"
          ]
        }
      ]
    },
    {
      "cell_type": "code",
      "source": [
        "loaded_saved_model.summary()"
      ],
      "metadata": {
        "id": "8OGGLyapwwD4",
        "colab": {
          "base_uri": "https://localhost:8080/"
        },
        "outputId": "7e8f7595-61af-4ce0-cee1-ddeb21911275"
      },
      "execution_count": 49,
      "outputs": [
        {
          "output_type": "stream",
          "name": "stdout",
          "text": [
            "Model: \"model\"\n",
            "_________________________________________________________________\n",
            " Layer (type)                Output Shape              Param #   \n",
            "=================================================================\n",
            " input_layer (InputLayer)    [(None, 224, 224, 3)]     0         \n",
            "                                                                 \n",
            " efficientnetb0 (Functional)  (None, None, None, 1280)  4049571  \n",
            "                                                                 \n",
            " pooling_layer (GlobalAverag  (None, 1280)             0         \n",
            " ePooling2D)                                                     \n",
            "                                                                 \n",
            " dense (Dense)               (None, 101)               129381    \n",
            "                                                                 \n",
            " softmax_float32 (Activation  (None, 101)              0         \n",
            " )                                                               \n",
            "                                                                 \n",
            "=================================================================\n",
            "Total params: 4,178,952\n",
            "Trainable params: 4,136,929\n",
            "Non-trainable params: 42,023\n",
            "_________________________________________________________________\n"
          ]
        }
      ]
    },
    {
      "cell_type": "code",
      "source": [
        "result_fine_tuned=loaded_saved_model.evaluate(test_data)\n",
        "result_fine_tuned"
      ],
      "metadata": {
        "colab": {
          "base_uri": "https://localhost:8080/"
        },
        "id": "q__kapvo4dKz",
        "outputId": "e12bcd4e-42ad-421d-a1d8-bf61442df61a"
      },
      "execution_count": 50,
      "outputs": [
        {
          "output_type": "stream",
          "name": "stdout",
          "text": [
            "790/790 [==============================] - 50s 63ms/step - loss: 1.0546 - accuracy: 0.7989\n"
          ]
        },
        {
          "output_type": "execute_result",
          "data": {
            "text/plain": [
              "[1.0546395778656006, 0.798851490020752]"
            ]
          },
          "metadata": {},
          "execution_count": 50
        }
      ]
    },
    {
      "cell_type": "code",
      "source": [
        "plot_loss_curves(history_fine_tuning)"
      ],
      "metadata": {
        "colab": {
          "base_uri": "https://localhost:8080/",
          "height": 573
        },
        "id": "rxRU7MUr4icW",
        "outputId": "1bfb8578-db14-4cd2-d308-7fa9bb191ced"
      },
      "execution_count": 51,
      "outputs": [
        {
          "output_type": "display_data",
          "data": {
            "text/plain": [
              "<Figure size 432x288 with 1 Axes>"
            ],
            "image/png": "[encoded data removed]"
          },
          "metadata": {
            "needs_background": "light"
          }
        },
        {
          "output_type": "display_data",
          "data": {
            "text/plain": [
              "<Figure size 432x288 with 1 Axes>"
            ],
            "image/png": "[encoded data removed]"
          },
          "metadata": {
            "needs_background": "light"
          }
        }
      ]
    },
    {
      "cell_type": "code",
      "source": [
        "save_dir = \"07_efficientnetb0_fine_tuning_model_mixed_precision\"\n",
        "loaded_saved_model.save(save_dir)"
      ],
      "metadata": {
        "colab": {
          "base_uri": "https://localhost:8080/"
        },
        "id": "-8KXmH7m4k8s",
        "outputId": "4bf9c2ef-bafa-464b-ef17-7a778e9eaf21"
      },
      "execution_count": 52,
      "outputs": [
        {
          "output_type": "stream",
          "name": "stdout",
          "text": [
            "INFO:tensorflow:Assets written to: 07_efficientnetb0_fine_tuning_model_mixed_precision/assets\n"
          ]
        },
        {
          "output_type": "stream",
          "name": "stderr",
          "text": [
            "INFO:tensorflow:Assets written to: 07_efficientnetb0_fine_tuning_model_mixed_precision/assets\n"
          ]
        }
      ]
    },
    {
      "cell_type": "code",
      "source": [
        "loaded_saved_model_1= tf.keras.models.load_model(save_dir)"
      ],
      "metadata": {
        "id": "so4NOOWG49F2"
      },
      "execution_count": 53,
      "outputs": []
    },
    {
      "cell_type": "code",
      "source": [
        "result_loaded_saved_model_1= loaded_saved_model_1.evaluate(test_data)\n",
        "result_loaded_saved_model_1"
      ],
      "metadata": {
        "colab": {
          "base_uri": "https://localhost:8080/"
        },
        "id": "xSxneN6j5DJ6",
        "outputId": "2efc6723-6b58-432e-8fb0-9f32f75f112c"
      },
      "execution_count": 54,
      "outputs": [
        {
          "output_type": "stream",
          "name": "stdout",
          "text": [
            "790/790 [==============================] - 55s 67ms/step - loss: 1.0546 - accuracy: 0.7989\n"
          ]
        },
        {
          "output_type": "execute_result",
          "data": {
            "text/plain": [
              "[1.0546386241912842, 0.798851490020752]"
            ]
          },
          "metadata": {},
          "execution_count": 54
        }
      ]
    },
    {
      "cell_type": "code",
      "source": [
        "loaded_saved_model_1.summary()"
      ],
      "metadata": {
        "colab": {
          "base_uri": "https://localhost:8080/"
        },
        "id": "JitvVaUd5fOC",
        "outputId": "a931f71e-5c7c-4250-ecf1-e6662508a988"
      },
      "execution_count": 55,
      "outputs": [
        {
          "output_type": "stream",
          "name": "stdout",
          "text": [
            "Model: \"model\"\n",
            "_________________________________________________________________\n",
            " Layer (type)                Output Shape              Param #   \n",
            "=================================================================\n",
            " input_layer (InputLayer)    [(None, 224, 224, 3)]     0         \n",
            "                                                                 \n",
            " efficientnetb0 (Functional)  (None, None, None, 1280)  4049571  \n",
            "                                                                 \n",
            " pooling_layer (GlobalAverag  (None, 1280)             0         \n",
            " ePooling2D)                                                     \n",
            "                                                                 \n",
            " dense (Dense)               (None, 101)               129381    \n",
            "                                                                 \n",
            " softmax_float32 (Activation  (None, 101)              0         \n",
            " )                                                               \n",
            "                                                                 \n",
            "=================================================================\n",
            "Total params: 4,178,952\n",
            "Trainable params: 4,136,929\n",
            "Non-trainable params: 42,023\n",
            "_________________________________________________________________\n"
          ]
        }
      ]
    },
    {
      "cell_type": "code",
      "source": [
        "!tensorboard dev upload --logdir ./transfer_learning \\\n",
        "--name \"Fine-Tuning of all 101 classes of Food101 Dataset\" \\\n",
        "--description \"Transfer Learning on the Food101 dataset with Fine-Tuning the EfficientNetB0 model to beat the 77% accuracy score on DeepFood paper\" \\\n",
        "--one_shot"
      ],
      "metadata": {
        "id": "jlwx7Y6b5glZ"
      },
      "execution_count": null,
      "outputs": []
    },
    {
      "cell_type": "markdown",
      "source": [
        "## To-Do\n",
        "\n",
        "* Fix Overfitting\n",
        "* Evaluate the model"
      ],
      "metadata": {
        "id": "Q0p1noYaF-ym"
      }
    },
    {
      "cell_type": "code",
      "source": [
        ""
      ],
      "metadata": {
        "id": "eywPQoRAGDjz"
      },
      "execution_count": null,
      "outputs": []
    }
  ]
}