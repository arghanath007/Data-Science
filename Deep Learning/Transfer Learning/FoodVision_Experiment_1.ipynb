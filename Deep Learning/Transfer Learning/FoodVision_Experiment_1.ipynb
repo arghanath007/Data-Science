{
  "nbformat": 4,
  "nbformat_minor": 0,
  "metadata": {
    "colab": {
      "name": "FoodVision_Experiment_1.ipynb",
      "provenance": [],
      "collapsed_sections": []
    },
    "kernelspec": {
      "name": "python3",
      "display_name": "Python 3"
    },
    "language_info": {
      "name": "python"
    },
    "gpuClass": "standard",
    "accelerator": "GPU",
    "widgets": {
      "application/vnd.jupyter.widget-state+json": {
        "def84cb04ed74d10979bce805be57c8f": {
          "model_module": "@jupyter-widgets/controls",
          "model_name": "HBoxModel",
          "model_module_version": "1.5.0",
          "state": {
            "_dom_classes": [],
            "_model_module": "@jupyter-widgets/controls",
            "_model_module_version": "1.5.0",
            "_model_name": "HBoxModel",
            "_view_count": null,
            "_view_module": "@jupyter-widgets/controls",
            "_view_module_version": "1.5.0",
            "_view_name": "HBoxView",
            "box_style": "",
            "children": [
              "IPY_MODEL_5e634f07be0947aaa2a9ae611ed2ef1b",
              "IPY_MODEL_35eedf46cb484f77a83d05ac6b279090",
              "IPY_MODEL_4ac7f436402f403c9a0c628c130af7cb"
            ],
            "layout": "IPY_MODEL_a3d64f0e70cd40af99af91c0fd755597"
          }
        },
        "5e634f07be0947aaa2a9ae611ed2ef1b": {
          "model_module": "@jupyter-widgets/controls",
          "model_name": "HTMLModel",
          "model_module_version": "1.5.0",
          "state": {
            "_dom_classes": [],
            "_model_module": "@jupyter-widgets/controls",
            "_model_module_version": "1.5.0",
            "_model_name": "HTMLModel",
            "_view_count": null,
            "_view_module": "@jupyter-widgets/controls",
            "_view_module_version": "1.5.0",
            "_view_name": "HTMLView",
            "description": "",
            "description_tooltip": null,
            "layout": "IPY_MODEL_66a6cdf8311d4f23b9993ac2e8e65230",
            "placeholder": "​",
            "style": "IPY_MODEL_4528680087164843ab294e5461883bf9",
            "value": "Dl Completed...: 100%"
          }
        },
        "35eedf46cb484f77a83d05ac6b279090": {
          "model_module": "@jupyter-widgets/controls",
          "model_name": "FloatProgressModel",
          "model_module_version": "1.5.0",
          "state": {
            "_dom_classes": [],
            "_model_module": "@jupyter-widgets/controls",
            "_model_module_version": "1.5.0",
            "_model_name": "FloatProgressModel",
            "_view_count": null,
            "_view_module": "@jupyter-widgets/controls",
            "_view_module_version": "1.5.0",
            "_view_name": "ProgressView",
            "bar_style": "success",
            "description": "",
            "description_tooltip": null,
            "layout": "IPY_MODEL_705f4f86ddb04b64a74180ee9c3a5ba6",
            "max": 1,
            "min": 0,
            "orientation": "horizontal",
            "style": "IPY_MODEL_43d46ab8f4bd47119ed68b38371880de",
            "value": 1
          }
        },
        "4ac7f436402f403c9a0c628c130af7cb": {
          "model_module": "@jupyter-widgets/controls",
          "model_name": "HTMLModel",
          "model_module_version": "1.5.0",
          "state": {
            "_dom_classes": [],
            "_model_module": "@jupyter-widgets/controls",
            "_model_module_version": "1.5.0",
            "_model_name": "HTMLModel",
            "_view_count": null,
            "_view_module": "@jupyter-widgets/controls",
            "_view_module_version": "1.5.0",
            "_view_name": "HTMLView",
            "description": "",
            "description_tooltip": null,
            "layout": "IPY_MODEL_999a0a3119f24cdf82a7a1a9c047a059",
            "placeholder": "​",
            "style": "IPY_MODEL_0cc1a0c0790c442da3e02ef41ca65a89",
            "value": " 1/1 [06:51&lt;00:00, 330.88s/ url]"
          }
        },
        "a3d64f0e70cd40af99af91c0fd755597": {
          "model_module": "@jupyter-widgets/base",
          "model_name": "LayoutModel",
          "model_module_version": "1.2.0",
          "state": {
            "_model_module": "@jupyter-widgets/base",
            "_model_module_version": "1.2.0",
            "_model_name": "LayoutModel",
            "_view_count": null,
            "_view_module": "@jupyter-widgets/base",
            "_view_module_version": "1.2.0",
            "_view_name": "LayoutView",
            "align_content": null,
            "align_items": null,
            "align_self": null,
            "border": null,
            "bottom": null,
            "display": null,
            "flex": null,
            "flex_flow": null,
            "grid_area": null,
            "grid_auto_columns": null,
            "grid_auto_flow": null,
            "grid_auto_rows": null,
            "grid_column": null,
            "grid_gap": null,
            "grid_row": null,
            "grid_template_areas": null,
            "grid_template_columns": null,
            "grid_template_rows": null,
            "height": null,
            "justify_content": null,
            "justify_items": null,
            "left": null,
            "margin": null,
            "max_height": null,
            "max_width": null,
            "min_height": null,
            "min_width": null,
            "object_fit": null,
            "object_position": null,
            "order": null,
            "overflow": null,
            "overflow_x": null,
            "overflow_y": null,
            "padding": null,
            "right": null,
            "top": null,
            "visibility": null,
            "width": null
          }
        },
        "66a6cdf8311d4f23b9993ac2e8e65230": {
          "model_module": "@jupyter-widgets/base",
          "model_name": "LayoutModel",
          "model_module_version": "1.2.0",
          "state": {
            "_model_module": "@jupyter-widgets/base",
            "_model_module_version": "1.2.0",
            "_model_name": "LayoutModel",
            "_view_count": null,
            "_view_module": "@jupyter-widgets/base",
            "_view_module_version": "1.2.0",
            "_view_name": "LayoutView",
            "align_content": null,
            "align_items": null,
            "align_self": null,
            "border": null,
            "bottom": null,
            "display": null,
            "flex": null,
            "flex_flow": null,
            "grid_area": null,
            "grid_auto_columns": null,
            "grid_auto_flow": null,
            "grid_auto_rows": null,
            "grid_column": null,
            "grid_gap": null,
            "grid_row": null,
            "grid_template_areas": null,
            "grid_template_columns": null,
            "grid_template_rows": null,
            "height": null,
            "justify_content": null,
            "justify_items": null,
            "left": null,
            "margin": null,
            "max_height": null,
            "max_width": null,
            "min_height": null,
            "min_width": null,
            "object_fit": null,
            "object_position": null,
            "order": null,
            "overflow": null,
            "overflow_x": null,
            "overflow_y": null,
            "padding": null,
            "right": null,
            "top": null,
            "visibility": null,
            "width": null
          }
        },
        "4528680087164843ab294e5461883bf9": {
          "model_module": "@jupyter-widgets/controls",
          "model_name": "DescriptionStyleModel",
          "model_module_version": "1.5.0",
          "state": {
            "_model_module": "@jupyter-widgets/controls",
            "_model_module_version": "1.5.0",
            "_model_name": "DescriptionStyleModel",
            "_view_count": null,
            "_view_module": "@jupyter-widgets/base",
            "_view_module_version": "1.2.0",
            "_view_name": "StyleView",
            "description_width": ""
          }
        },
        "705f4f86ddb04b64a74180ee9c3a5ba6": {
          "model_module": "@jupyter-widgets/base",
          "model_name": "LayoutModel",
          "model_module_version": "1.2.0",
          "state": {
            "_model_module": "@jupyter-widgets/base",
            "_model_module_version": "1.2.0",
            "_model_name": "LayoutModel",
            "_view_count": null,
            "_view_module": "@jupyter-widgets/base",
            "_view_module_version": "1.2.0",
            "_view_name": "LayoutView",
            "align_content": null,
            "align_items": null,
            "align_self": null,
            "border": null,
            "bottom": null,
            "display": null,
            "flex": null,
            "flex_flow": null,
            "grid_area": null,
            "grid_auto_columns": null,
            "grid_auto_flow": null,
            "grid_auto_rows": null,
            "grid_column": null,
            "grid_gap": null,
            "grid_row": null,
            "grid_template_areas": null,
            "grid_template_columns": null,
            "grid_template_rows": null,
            "height": null,
            "justify_content": null,
            "justify_items": null,
            "left": null,
            "margin": null,
            "max_height": null,
            "max_width": null,
            "min_height": null,
            "min_width": null,
            "object_fit": null,
            "object_position": null,
            "order": null,
            "overflow": null,
            "overflow_x": null,
            "overflow_y": null,
            "padding": null,
            "right": null,
            "top": null,
            "visibility": null,
            "width": "20px"
          }
        },
        "43d46ab8f4bd47119ed68b38371880de": {
          "model_module": "@jupyter-widgets/controls",
          "model_name": "ProgressStyleModel",
          "model_module_version": "1.5.0",
          "state": {
            "_model_module": "@jupyter-widgets/controls",
            "_model_module_version": "1.5.0",
            "_model_name": "ProgressStyleModel",
            "_view_count": null,
            "_view_module": "@jupyter-widgets/base",
            "_view_module_version": "1.2.0",
            "_view_name": "StyleView",
            "bar_color": null,
            "description_width": ""
          }
        },
        "999a0a3119f24cdf82a7a1a9c047a059": {
          "model_module": "@jupyter-widgets/base",
          "model_name": "LayoutModel",
          "model_module_version": "1.2.0",
          "state": {
            "_model_module": "@jupyter-widgets/base",
            "_model_module_version": "1.2.0",
            "_model_name": "LayoutModel",
            "_view_count": null,
            "_view_module": "@jupyter-widgets/base",
            "_view_module_version": "1.2.0",
            "_view_name": "LayoutView",
            "align_content": null,
            "align_items": null,
            "align_self": null,
            "border": null,
            "bottom": null,
            "display": null,
            "flex": null,
            "flex_flow": null,
            "grid_area": null,
            "grid_auto_columns": null,
            "grid_auto_flow": null,
            "grid_auto_rows": null,
            "grid_column": null,
            "grid_gap": null,
            "grid_row": null,
            "grid_template_areas": null,
            "grid_template_columns": null,
            "grid_template_rows": null,
            "height": null,
            "justify_content": null,
            "justify_items": null,
            "left": null,
            "margin": null,
            "max_height": null,
            "max_width": null,
            "min_height": null,
            "min_width": null,
            "object_fit": null,
            "object_position": null,
            "order": null,
            "overflow": null,
            "overflow_x": null,
            "overflow_y": null,
            "padding": null,
            "right": null,
            "top": null,
            "visibility": null,
            "width": null
          }
        },
        "0cc1a0c0790c442da3e02ef41ca65a89": {
          "model_module": "@jupyter-widgets/controls",
          "model_name": "DescriptionStyleModel",
          "model_module_version": "1.5.0",
          "state": {
            "_model_module": "@jupyter-widgets/controls",
            "_model_module_version": "1.5.0",
            "_model_name": "DescriptionStyleModel",
            "_view_count": null,
            "_view_module": "@jupyter-widgets/base",
            "_view_module_version": "1.2.0",
            "_view_name": "StyleView",
            "description_width": ""
          }
        },
        "cdf2ef787ad64c899737ed5b3b585347": {
          "model_module": "@jupyter-widgets/controls",
          "model_name": "HBoxModel",
          "model_module_version": "1.5.0",
          "state": {
            "_dom_classes": [],
            "_model_module": "@jupyter-widgets/controls",
            "_model_module_version": "1.5.0",
            "_model_name": "HBoxModel",
            "_view_count": null,
            "_view_module": "@jupyter-widgets/controls",
            "_view_module_version": "1.5.0",
            "_view_name": "HBoxView",
            "box_style": "",
            "children": [
              "IPY_MODEL_ed68a1e371dd46a1ba4d60af381c4bf0",
              "IPY_MODEL_f4b3afa65e31434e8b89d1472c562d9b",
              "IPY_MODEL_efd80c9e7ec847c5868e01a1d7d0a4b9"
            ],
            "layout": "IPY_MODEL_ab2398dd22f444f0803e73074f1ebe5d"
          }
        },
        "ed68a1e371dd46a1ba4d60af381c4bf0": {
          "model_module": "@jupyter-widgets/controls",
          "model_name": "HTMLModel",
          "model_module_version": "1.5.0",
          "state": {
            "_dom_classes": [],
            "_model_module": "@jupyter-widgets/controls",
            "_model_module_version": "1.5.0",
            "_model_name": "HTMLModel",
            "_view_count": null,
            "_view_module": "@jupyter-widgets/controls",
            "_view_module_version": "1.5.0",
            "_view_name": "HTMLView",
            "description": "",
            "description_tooltip": null,
            "layout": "IPY_MODEL_f398c59a7bcb4a3ba596d122dd9aa9c3",
            "placeholder": "​",
            "style": "IPY_MODEL_ff3351591cbb425d99220fcdf6e51987",
            "value": "Dl Size...: 100%"
          }
        },
        "f4b3afa65e31434e8b89d1472c562d9b": {
          "model_module": "@jupyter-widgets/controls",
          "model_name": "FloatProgressModel",
          "model_module_version": "1.5.0",
          "state": {
            "_dom_classes": [],
            "_model_module": "@jupyter-widgets/controls",
            "_model_module_version": "1.5.0",
            "_model_name": "FloatProgressModel",
            "_view_count": null,
            "_view_module": "@jupyter-widgets/controls",
            "_view_module_version": "1.5.0",
            "_view_name": "ProgressView",
            "bar_style": "success",
            "description": "",
            "description_tooltip": null,
            "layout": "IPY_MODEL_be06fc900986476d9ac232ea5d5bfb39",
            "max": 1,
            "min": 0,
            "orientation": "horizontal",
            "style": "IPY_MODEL_5ffa94f2a79c41838c68b2d6af0aa4d0",
            "value": 1
          }
        },
        "efd80c9e7ec847c5868e01a1d7d0a4b9": {
          "model_module": "@jupyter-widgets/controls",
          "model_name": "HTMLModel",
          "model_module_version": "1.5.0",
          "state": {
            "_dom_classes": [],
            "_model_module": "@jupyter-widgets/controls",
            "_model_module_version": "1.5.0",
            "_model_name": "HTMLModel",
            "_view_count": null,
            "_view_module": "@jupyter-widgets/controls",
            "_view_module_version": "1.5.0",
            "_view_name": "HTMLView",
            "description": "",
            "description_tooltip": null,
            "layout": "IPY_MODEL_2edbf346e5954c5395f79f6ca94a106c",
            "placeholder": "​",
            "style": "IPY_MODEL_d598f2baa6cc46cdb0ca53d8be40cac3",
            "value": " 4764/4764 [06:51&lt;00:00, 14.73 MiB/s]"
          }
        },
        "ab2398dd22f444f0803e73074f1ebe5d": {
          "model_module": "@jupyter-widgets/base",
          "model_name": "LayoutModel",
          "model_module_version": "1.2.0",
          "state": {
            "_model_module": "@jupyter-widgets/base",
            "_model_module_version": "1.2.0",
            "_model_name": "LayoutModel",
            "_view_count": null,
            "_view_module": "@jupyter-widgets/base",
            "_view_module_version": "1.2.0",
            "_view_name": "LayoutView",
            "align_content": null,
            "align_items": null,
            "align_self": null,
            "border": null,
            "bottom": null,
            "display": null,
            "flex": null,
            "flex_flow": null,
            "grid_area": null,
            "grid_auto_columns": null,
            "grid_auto_flow": null,
            "grid_auto_rows": null,
            "grid_column": null,
            "grid_gap": null,
            "grid_row": null,
            "grid_template_areas": null,
            "grid_template_columns": null,
            "grid_template_rows": null,
            "height": null,
            "justify_content": null,
            "justify_items": null,
            "left": null,
            "margin": null,
            "max_height": null,
            "max_width": null,
            "min_height": null,
            "min_width": null,
            "object_fit": null,
            "object_position": null,
            "order": null,
            "overflow": null,
            "overflow_x": null,
            "overflow_y": null,
            "padding": null,
            "right": null,
            "top": null,
            "visibility": null,
            "width": null
          }
        },
        "f398c59a7bcb4a3ba596d122dd9aa9c3": {
          "model_module": "@jupyter-widgets/base",
          "model_name": "LayoutModel",
          "model_module_version": "1.2.0",
          "state": {
            "_model_module": "@jupyter-widgets/base",
            "_model_module_version": "1.2.0",
            "_model_name": "LayoutModel",
            "_view_count": null,
            "_view_module": "@jupyter-widgets/base",
            "_view_module_version": "1.2.0",
            "_view_name": "LayoutView",
            "align_content": null,
            "align_items": null,
            "align_self": null,
            "border": null,
            "bottom": null,
            "display": null,
            "flex": null,
            "flex_flow": null,
            "grid_area": null,
            "grid_auto_columns": null,
            "grid_auto_flow": null,
            "grid_auto_rows": null,
            "grid_column": null,
            "grid_gap": null,
            "grid_row": null,
            "grid_template_areas": null,
            "grid_template_columns": null,
            "grid_template_rows": null,
            "height": null,
            "justify_content": null,
            "justify_items": null,
            "left": null,
            "margin": null,
            "max_height": null,
            "max_width": null,
            "min_height": null,
            "min_width": null,
            "object_fit": null,
            "object_position": null,
            "order": null,
            "overflow": null,
            "overflow_x": null,
            "overflow_y": null,
            "padding": null,
            "right": null,
            "top": null,
            "visibility": null,
            "width": null
          }
        },
        "ff3351591cbb425d99220fcdf6e51987": {
          "model_module": "@jupyter-widgets/controls",
          "model_name": "DescriptionStyleModel",
          "model_module_version": "1.5.0",
          "state": {
            "_model_module": "@jupyter-widgets/controls",
            "_model_module_version": "1.5.0",
            "_model_name": "DescriptionStyleModel",
            "_view_count": null,
            "_view_module": "@jupyter-widgets/base",
            "_view_module_version": "1.2.0",
            "_view_name": "StyleView",
            "description_width": ""
          }
        },
        "be06fc900986476d9ac232ea5d5bfb39": {
          "model_module": "@jupyter-widgets/base",
          "model_name": "LayoutModel",
          "model_module_version": "1.2.0",
          "state": {
            "_model_module": "@jupyter-widgets/base",
            "_model_module_version": "1.2.0",
            "_model_name": "LayoutModel",
            "_view_count": null,
            "_view_module": "@jupyter-widgets/base",
            "_view_module_version": "1.2.0",
            "_view_name": "LayoutView",
            "align_content": null,
            "align_items": null,
            "align_self": null,
            "border": null,
            "bottom": null,
            "display": null,
            "flex": null,
            "flex_flow": null,
            "grid_area": null,
            "grid_auto_columns": null,
            "grid_auto_flow": null,
            "grid_auto_rows": null,
            "grid_column": null,
            "grid_gap": null,
            "grid_row": null,
            "grid_template_areas": null,
            "grid_template_columns": null,
            "grid_template_rows": null,
            "height": null,
            "justify_content": null,
            "justify_items": null,
            "left": null,
            "margin": null,
            "max_height": null,
            "max_width": null,
            "min_height": null,
            "min_width": null,
            "object_fit": null,
            "object_position": null,
            "order": null,
            "overflow": null,
            "overflow_x": null,
            "overflow_y": null,
            "padding": null,
            "right": null,
            "top": null,
            "visibility": null,
            "width": "20px"
          }
        },
        "5ffa94f2a79c41838c68b2d6af0aa4d0": {
          "model_module": "@jupyter-widgets/controls",
          "model_name": "ProgressStyleModel",
          "model_module_version": "1.5.0",
          "state": {
            "_model_module": "@jupyter-widgets/controls",
            "_model_module_version": "1.5.0",
            "_model_name": "ProgressStyleModel",
            "_view_count": null,
            "_view_module": "@jupyter-widgets/base",
            "_view_module_version": "1.2.0",
            "_view_name": "StyleView",
            "bar_color": null,
            "description_width": ""
          }
        },
        "2edbf346e5954c5395f79f6ca94a106c": {
          "model_module": "@jupyter-widgets/base",
          "model_name": "LayoutModel",
          "model_module_version": "1.2.0",
          "state": {
            "_model_module": "@jupyter-widgets/base",
            "_model_module_version": "1.2.0",
            "_model_name": "LayoutModel",
            "_view_count": null,
            "_view_module": "@jupyter-widgets/base",
            "_view_module_version": "1.2.0",
            "_view_name": "LayoutView",
            "align_content": null,
            "align_items": null,
            "align_self": null,
            "border": null,
            "bottom": null,
            "display": null,
            "flex": null,
            "flex_flow": null,
            "grid_area": null,
            "grid_auto_columns": null,
            "grid_auto_flow": null,
            "grid_auto_rows": null,
            "grid_column": null,
            "grid_gap": null,
            "grid_row": null,
            "grid_template_areas": null,
            "grid_template_columns": null,
            "grid_template_rows": null,
            "height": null,
            "justify_content": null,
            "justify_items": null,
            "left": null,
            "margin": null,
            "max_height": null,
            "max_width": null,
            "min_height": null,
            "min_width": null,
            "object_fit": null,
            "object_position": null,
            "order": null,
            "overflow": null,
            "overflow_x": null,
            "overflow_y": null,
            "padding": null,
            "right": null,
            "top": null,
            "visibility": null,
            "width": null
          }
        },
        "d598f2baa6cc46cdb0ca53d8be40cac3": {
          "model_module": "@jupyter-widgets/controls",
          "model_name": "DescriptionStyleModel",
          "model_module_version": "1.5.0",
          "state": {
            "_model_module": "@jupyter-widgets/controls",
            "_model_module_version": "1.5.0",
            "_model_name": "DescriptionStyleModel",
            "_view_count": null,
            "_view_module": "@jupyter-widgets/base",
            "_view_module_version": "1.2.0",
            "_view_name": "StyleView",
            "description_width": ""
          }
        },
        "48f812af41cc45ba9cb093d62883484e": {
          "model_module": "@jupyter-widgets/controls",
          "model_name": "HBoxModel",
          "model_module_version": "1.5.0",
          "state": {
            "_dom_classes": [],
            "_model_module": "@jupyter-widgets/controls",
            "_model_module_version": "1.5.0",
            "_model_name": "HBoxModel",
            "_view_count": null,
            "_view_module": "@jupyter-widgets/controls",
            "_view_module_version": "1.5.0",
            "_view_name": "HBoxView",
            "box_style": "",
            "children": [
              "IPY_MODEL_e9e89ce861e5413ca33837cce20e8cb0",
              "IPY_MODEL_fb315559fd2948a5b724fa27ad679a7a",
              "IPY_MODEL_a4114c367e434539b10b96ea355f5aca"
            ],
            "layout": "IPY_MODEL_93b3e17e03ee48a4a9c0ddb50e9bed79"
          }
        },
        "e9e89ce861e5413ca33837cce20e8cb0": {
          "model_module": "@jupyter-widgets/controls",
          "model_name": "HTMLModel",
          "model_module_version": "1.5.0",
          "state": {
            "_dom_classes": [],
            "_model_module": "@jupyter-widgets/controls",
            "_model_module_version": "1.5.0",
            "_model_name": "HTMLModel",
            "_view_count": null,
            "_view_module": "@jupyter-widgets/controls",
            "_view_module_version": "1.5.0",
            "_view_name": "HTMLView",
            "description": "",
            "description_tooltip": null,
            "layout": "IPY_MODEL_81aaf11ee6804a8fa7347a953493097b",
            "placeholder": "​",
            "style": "IPY_MODEL_7a9d67181f6f404b8ace1df21f7c2d1a",
            "value": "Extraction completed...: 100%"
          }
        },
        "fb315559fd2948a5b724fa27ad679a7a": {
          "model_module": "@jupyter-widgets/controls",
          "model_name": "FloatProgressModel",
          "model_module_version": "1.5.0",
          "state": {
            "_dom_classes": [],
            "_model_module": "@jupyter-widgets/controls",
            "_model_module_version": "1.5.0",
            "_model_name": "FloatProgressModel",
            "_view_count": null,
            "_view_module": "@jupyter-widgets/controls",
            "_view_module_version": "1.5.0",
            "_view_name": "ProgressView",
            "bar_style": "success",
            "description": "",
            "description_tooltip": null,
            "layout": "IPY_MODEL_f575c73f960d40bb81721b0153d3dd58",
            "max": 1,
            "min": 0,
            "orientation": "horizontal",
            "style": "IPY_MODEL_626ed77f4a6e4881ac8ad97b8345aeaa",
            "value": 1
          }
        },
        "a4114c367e434539b10b96ea355f5aca": {
          "model_module": "@jupyter-widgets/controls",
          "model_name": "HTMLModel",
          "model_module_version": "1.5.0",
          "state": {
            "_dom_classes": [],
            "_model_module": "@jupyter-widgets/controls",
            "_model_module_version": "1.5.0",
            "_model_name": "HTMLModel",
            "_view_count": null,
            "_view_module": "@jupyter-widgets/controls",
            "_view_module_version": "1.5.0",
            "_view_name": "HTMLView",
            "description": "",
            "description_tooltip": null,
            "layout": "IPY_MODEL_99b0477115674dc6a22aa34f150f5542",
            "placeholder": "​",
            "style": "IPY_MODEL_d593bd25c2b9462688a852a02a8f8e71",
            "value": " 1/1 [06:51&lt;00:00, 411.68s/ file]"
          }
        },
        "93b3e17e03ee48a4a9c0ddb50e9bed79": {
          "model_module": "@jupyter-widgets/base",
          "model_name": "LayoutModel",
          "model_module_version": "1.2.0",
          "state": {
            "_model_module": "@jupyter-widgets/base",
            "_model_module_version": "1.2.0",
            "_model_name": "LayoutModel",
            "_view_count": null,
            "_view_module": "@jupyter-widgets/base",
            "_view_module_version": "1.2.0",
            "_view_name": "LayoutView",
            "align_content": null,
            "align_items": null,
            "align_self": null,
            "border": null,
            "bottom": null,
            "display": null,
            "flex": null,
            "flex_flow": null,
            "grid_area": null,
            "grid_auto_columns": null,
            "grid_auto_flow": null,
            "grid_auto_rows": null,
            "grid_column": null,
            "grid_gap": null,
            "grid_row": null,
            "grid_template_areas": null,
            "grid_template_columns": null,
            "grid_template_rows": null,
            "height": null,
            "justify_content": null,
            "justify_items": null,
            "left": null,
            "margin": null,
            "max_height": null,
            "max_width": null,
            "min_height": null,
            "min_width": null,
            "object_fit": null,
            "object_position": null,
            "order": null,
            "overflow": null,
            "overflow_x": null,
            "overflow_y": null,
            "padding": null,
            "right": null,
            "top": null,
            "visibility": null,
            "width": null
          }
        },
        "81aaf11ee6804a8fa7347a953493097b": {
          "model_module": "@jupyter-widgets/base",
          "model_name": "LayoutModel",
          "model_module_version": "1.2.0",
          "state": {
            "_model_module": "@jupyter-widgets/base",
            "_model_module_version": "1.2.0",
            "_model_name": "LayoutModel",
            "_view_count": null,
            "_view_module": "@jupyter-widgets/base",
            "_view_module_version": "1.2.0",
            "_view_name": "LayoutView",
            "align_content": null,
            "align_items": null,
            "align_self": null,
            "border": null,
            "bottom": null,
            "display": null,
            "flex": null,
            "flex_flow": null,
            "grid_area": null,
            "grid_auto_columns": null,
            "grid_auto_flow": null,
            "grid_auto_rows": null,
            "grid_column": null,
            "grid_gap": null,
            "grid_row": null,
            "grid_template_areas": null,
            "grid_template_columns": null,
            "grid_template_rows": null,
            "height": null,
            "justify_content": null,
            "justify_items": null,
            "left": null,
            "margin": null,
            "max_height": null,
            "max_width": null,
            "min_height": null,
            "min_width": null,
            "object_fit": null,
            "object_position": null,
            "order": null,
            "overflow": null,
            "overflow_x": null,
            "overflow_y": null,
            "padding": null,
            "right": null,
            "top": null,
            "visibility": null,
            "width": null
          }
        },
        "7a9d67181f6f404b8ace1df21f7c2d1a": {
          "model_module": "@jupyter-widgets/controls",
          "model_name": "DescriptionStyleModel",
          "model_module_version": "1.5.0",
          "state": {
            "_model_module": "@jupyter-widgets/controls",
            "_model_module_version": "1.5.0",
            "_model_name": "DescriptionStyleModel",
            "_view_count": null,
            "_view_module": "@jupyter-widgets/base",
            "_view_module_version": "1.2.0",
            "_view_name": "StyleView",
            "description_width": ""
          }
        },
        "f575c73f960d40bb81721b0153d3dd58": {
          "model_module": "@jupyter-widgets/base",
          "model_name": "LayoutModel",
          "model_module_version": "1.2.0",
          "state": {
            "_model_module": "@jupyter-widgets/base",
            "_model_module_version": "1.2.0",
            "_model_name": "LayoutModel",
            "_view_count": null,
            "_view_module": "@jupyter-widgets/base",
            "_view_module_version": "1.2.0",
            "_view_name": "LayoutView",
            "align_content": null,
            "align_items": null,
            "align_self": null,
            "border": null,
            "bottom": null,
            "display": null,
            "flex": null,
            "flex_flow": null,
            "grid_area": null,
            "grid_auto_columns": null,
            "grid_auto_flow": null,
            "grid_auto_rows": null,
            "grid_column": null,
            "grid_gap": null,
            "grid_row": null,
            "grid_template_areas": null,
            "grid_template_columns": null,
            "grid_template_rows": null,
            "height": null,
            "justify_content": null,
            "justify_items": null,
            "left": null,
            "margin": null,
            "max_height": null,
            "max_width": null,
            "min_height": null,
            "min_width": null,
            "object_fit": null,
            "object_position": null,
            "order": null,
            "overflow": null,
            "overflow_x": null,
            "overflow_y": null,
            "padding": null,
            "right": null,
            "top": null,
            "visibility": null,
            "width": "20px"
          }
        },
        "626ed77f4a6e4881ac8ad97b8345aeaa": {
          "model_module": "@jupyter-widgets/controls",
          "model_name": "ProgressStyleModel",
          "model_module_version": "1.5.0",
          "state": {
            "_model_module": "@jupyter-widgets/controls",
            "_model_module_version": "1.5.0",
            "_model_name": "ProgressStyleModel",
            "_view_count": null,
            "_view_module": "@jupyter-widgets/base",
            "_view_module_version": "1.2.0",
            "_view_name": "StyleView",
            "bar_color": null,
            "description_width": ""
          }
        },
        "99b0477115674dc6a22aa34f150f5542": {
          "model_module": "@jupyter-widgets/base",
          "model_name": "LayoutModel",
          "model_module_version": "1.2.0",
          "state": {
            "_model_module": "@jupyter-widgets/base",
            "_model_module_version": "1.2.0",
            "_model_name": "LayoutModel",
            "_view_count": null,
            "_view_module": "@jupyter-widgets/base",
            "_view_module_version": "1.2.0",
            "_view_name": "LayoutView",
            "align_content": null,
            "align_items": null,
            "align_self": null,
            "border": null,
            "bottom": null,
            "display": null,
            "flex": null,
            "flex_flow": null,
            "grid_area": null,
            "grid_auto_columns": null,
            "grid_auto_flow": null,
            "grid_auto_rows": null,
            "grid_column": null,
            "grid_gap": null,
            "grid_row": null,
            "grid_template_areas": null,
            "grid_template_columns": null,
            "grid_template_rows": null,
            "height": null,
            "justify_content": null,
            "justify_items": null,
            "left": null,
            "margin": null,
            "max_height": null,
            "max_width": null,
            "min_height": null,
            "min_width": null,
            "object_fit": null,
            "object_position": null,
            "order": null,
            "overflow": null,
            "overflow_x": null,
            "overflow_y": null,
            "padding": null,
            "right": null,
            "top": null,
            "visibility": null,
            "width": null
          }
        },
        "d593bd25c2b9462688a852a02a8f8e71": {
          "model_module": "@jupyter-widgets/controls",
          "model_name": "DescriptionStyleModel",
          "model_module_version": "1.5.0",
          "state": {
            "_model_module": "@jupyter-widgets/controls",
            "_model_module_version": "1.5.0",
            "_model_name": "DescriptionStyleModel",
            "_view_count": null,
            "_view_module": "@jupyter-widgets/base",
            "_view_module_version": "1.2.0",
            "_view_name": "StyleView",
            "description_width": ""
          }
        },
        "e67b6b3e05ea450f8ed2a941f50d2907": {
          "model_module": "@jupyter-widgets/controls",
          "model_name": "HBoxModel",
          "model_module_version": "1.5.0",
          "state": {
            "_dom_classes": [],
            "_model_module": "@jupyter-widgets/controls",
            "_model_module_version": "1.5.0",
            "_model_name": "HBoxModel",
            "_view_count": null,
            "_view_module": "@jupyter-widgets/controls",
            "_view_module_version": "1.5.0",
            "_view_name": "HBoxView",
            "box_style": "",
            "children": [
              "IPY_MODEL_214a15a7854d40ccae174ea6f557eddb",
              "IPY_MODEL_0e3614641c4d48fb95f5ebe2ed78b2fd",
              "IPY_MODEL_bb4fc9a9b27a4008a95034c7b14484c7"
            ],
            "layout": "IPY_MODEL_5190f5ee7c0649538de5bbc25286e59b"
          }
        },
        "214a15a7854d40ccae174ea6f557eddb": {
          "model_module": "@jupyter-widgets/controls",
          "model_name": "HTMLModel",
          "model_module_version": "1.5.0",
          "state": {
            "_dom_classes": [],
            "_model_module": "@jupyter-widgets/controls",
            "_model_module_version": "1.5.0",
            "_model_name": "HTMLModel",
            "_view_count": null,
            "_view_module": "@jupyter-widgets/controls",
            "_view_module_version": "1.5.0",
            "_view_name": "HTMLView",
            "description": "",
            "description_tooltip": null,
            "layout": "IPY_MODEL_1afdca566fbf42469a34e089b4e48478",
            "placeholder": "​",
            "style": "IPY_MODEL_023c3cab038242059de797b98997f5e7",
            "value": "Generating splits...: 100%"
          }
        },
        "0e3614641c4d48fb95f5ebe2ed78b2fd": {
          "model_module": "@jupyter-widgets/controls",
          "model_name": "FloatProgressModel",
          "model_module_version": "1.5.0",
          "state": {
            "_dom_classes": [],
            "_model_module": "@jupyter-widgets/controls",
            "_model_module_version": "1.5.0",
            "_model_name": "FloatProgressModel",
            "_view_count": null,
            "_view_module": "@jupyter-widgets/controls",
            "_view_module_version": "1.5.0",
            "_view_name": "ProgressView",
            "bar_style": "",
            "description": "",
            "description_tooltip": null,
            "layout": "IPY_MODEL_608c88f02bb3460ab97ba87d336cf82a",
            "max": 2,
            "min": 0,
            "orientation": "horizontal",
            "style": "IPY_MODEL_e98c7b666b1e4a58add960d9faeda1e1",
            "value": 2
          }
        },
        "bb4fc9a9b27a4008a95034c7b14484c7": {
          "model_module": "@jupyter-widgets/controls",
          "model_name": "HTMLModel",
          "model_module_version": "1.5.0",
          "state": {
            "_dom_classes": [],
            "_model_module": "@jupyter-widgets/controls",
            "_model_module_version": "1.5.0",
            "_model_name": "HTMLModel",
            "_view_count": null,
            "_view_module": "@jupyter-widgets/controls",
            "_view_module_version": "1.5.0",
            "_view_name": "HTMLView",
            "description": "",
            "description_tooltip": null,
            "layout": "IPY_MODEL_fe5751921b9941b48a40e36bf7a78f3f",
            "placeholder": "​",
            "style": "IPY_MODEL_51f3be4d1bc54567bcb5a5d9840236b9",
            "value": " 2/2 [03:40&lt;00:00, 103.68s/ splits]"
          }
        },
        "5190f5ee7c0649538de5bbc25286e59b": {
          "model_module": "@jupyter-widgets/base",
          "model_name": "LayoutModel",
          "model_module_version": "1.2.0",
          "state": {
            "_model_module": "@jupyter-widgets/base",
            "_model_module_version": "1.2.0",
            "_model_name": "LayoutModel",
            "_view_count": null,
            "_view_module": "@jupyter-widgets/base",
            "_view_module_version": "1.2.0",
            "_view_name": "LayoutView",
            "align_content": null,
            "align_items": null,
            "align_self": null,
            "border": null,
            "bottom": null,
            "display": null,
            "flex": null,
            "flex_flow": null,
            "grid_area": null,
            "grid_auto_columns": null,
            "grid_auto_flow": null,
            "grid_auto_rows": null,
            "grid_column": null,
            "grid_gap": null,
            "grid_row": null,
            "grid_template_areas": null,
            "grid_template_columns": null,
            "grid_template_rows": null,
            "height": null,
            "justify_content": null,
            "justify_items": null,
            "left": null,
            "margin": null,
            "max_height": null,
            "max_width": null,
            "min_height": null,
            "min_width": null,
            "object_fit": null,
            "object_position": null,
            "order": null,
            "overflow": null,
            "overflow_x": null,
            "overflow_y": null,
            "padding": null,
            "right": null,
            "top": null,
            "visibility": null,
            "width": null
          }
        },
        "1afdca566fbf42469a34e089b4e48478": {
          "model_module": "@jupyter-widgets/base",
          "model_name": "LayoutModel",
          "model_module_version": "1.2.0",
          "state": {
            "_model_module": "@jupyter-widgets/base",
            "_model_module_version": "1.2.0",
            "_model_name": "LayoutModel",
            "_view_count": null,
            "_view_module": "@jupyter-widgets/base",
            "_view_module_version": "1.2.0",
            "_view_name": "LayoutView",
            "align_content": null,
            "align_items": null,
            "align_self": null,
            "border": null,
            "bottom": null,
            "display": null,
            "flex": null,
            "flex_flow": null,
            "grid_area": null,
            "grid_auto_columns": null,
            "grid_auto_flow": null,
            "grid_auto_rows": null,
            "grid_column": null,
            "grid_gap": null,
            "grid_row": null,
            "grid_template_areas": null,
            "grid_template_columns": null,
            "grid_template_rows": null,
            "height": null,
            "justify_content": null,
            "justify_items": null,
            "left": null,
            "margin": null,
            "max_height": null,
            "max_width": null,
            "min_height": null,
            "min_width": null,
            "object_fit": null,
            "object_position": null,
            "order": null,
            "overflow": null,
            "overflow_x": null,
            "overflow_y": null,
            "padding": null,
            "right": null,
            "top": null,
            "visibility": null,
            "width": null
          }
        },
        "023c3cab038242059de797b98997f5e7": {
          "model_module": "@jupyter-widgets/controls",
          "model_name": "DescriptionStyleModel",
          "model_module_version": "1.5.0",
          "state": {
            "_model_module": "@jupyter-widgets/controls",
            "_model_module_version": "1.5.0",
            "_model_name": "DescriptionStyleModel",
            "_view_count": null,
            "_view_module": "@jupyter-widgets/base",
            "_view_module_version": "1.2.0",
            "_view_name": "StyleView",
            "description_width": ""
          }
        },
        "608c88f02bb3460ab97ba87d336cf82a": {
          "model_module": "@jupyter-widgets/base",
          "model_name": "LayoutModel",
          "model_module_version": "1.2.0",
          "state": {
            "_model_module": "@jupyter-widgets/base",
            "_model_module_version": "1.2.0",
            "_model_name": "LayoutModel",
            "_view_count": null,
            "_view_module": "@jupyter-widgets/base",
            "_view_module_version": "1.2.0",
            "_view_name": "LayoutView",
            "align_content": null,
            "align_items": null,
            "align_self": null,
            "border": null,
            "bottom": null,
            "display": null,
            "flex": null,
            "flex_flow": null,
            "grid_area": null,
            "grid_auto_columns": null,
            "grid_auto_flow": null,
            "grid_auto_rows": null,
            "grid_column": null,
            "grid_gap": null,
            "grid_row": null,
            "grid_template_areas": null,
            "grid_template_columns": null,
            "grid_template_rows": null,
            "height": null,
            "justify_content": null,
            "justify_items": null,
            "left": null,
            "margin": null,
            "max_height": null,
            "max_width": null,
            "min_height": null,
            "min_width": null,
            "object_fit": null,
            "object_position": null,
            "order": null,
            "overflow": null,
            "overflow_x": null,
            "overflow_y": null,
            "padding": null,
            "right": null,
            "top": null,
            "visibility": null,
            "width": null
          }
        },
        "e98c7b666b1e4a58add960d9faeda1e1": {
          "model_module": "@jupyter-widgets/controls",
          "model_name": "ProgressStyleModel",
          "model_module_version": "1.5.0",
          "state": {
            "_model_module": "@jupyter-widgets/controls",
            "_model_module_version": "1.5.0",
            "_model_name": "ProgressStyleModel",
            "_view_count": null,
            "_view_module": "@jupyter-widgets/base",
            "_view_module_version": "1.2.0",
            "_view_name": "StyleView",
            "bar_color": null,
            "description_width": ""
          }
        },
        "fe5751921b9941b48a40e36bf7a78f3f": {
          "model_module": "@jupyter-widgets/base",
          "model_name": "LayoutModel",
          "model_module_version": "1.2.0",
          "state": {
            "_model_module": "@jupyter-widgets/base",
            "_model_module_version": "1.2.0",
            "_model_name": "LayoutModel",
            "_view_count": null,
            "_view_module": "@jupyter-widgets/base",
            "_view_module_version": "1.2.0",
            "_view_name": "LayoutView",
            "align_content": null,
            "align_items": null,
            "align_self": null,
            "border": null,
            "bottom": null,
            "display": null,
            "flex": null,
            "flex_flow": null,
            "grid_area": null,
            "grid_auto_columns": null,
            "grid_auto_flow": null,
            "grid_auto_rows": null,
            "grid_column": null,
            "grid_gap": null,
            "grid_row": null,
            "grid_template_areas": null,
            "grid_template_columns": null,
            "grid_template_rows": null,
            "height": null,
            "justify_content": null,
            "justify_items": null,
            "left": null,
            "margin": null,
            "max_height": null,
            "max_width": null,
            "min_height": null,
            "min_width": null,
            "object_fit": null,
            "object_position": null,
            "order": null,
            "overflow": null,
            "overflow_x": null,
            "overflow_y": null,
            "padding": null,
            "right": null,
            "top": null,
            "visibility": null,
            "width": null
          }
        },
        "51f3be4d1bc54567bcb5a5d9840236b9": {
          "model_module": "@jupyter-widgets/controls",
          "model_name": "DescriptionStyleModel",
          "model_module_version": "1.5.0",
          "state": {
            "_model_module": "@jupyter-widgets/controls",
            "_model_module_version": "1.5.0",
            "_model_name": "DescriptionStyleModel",
            "_view_count": null,
            "_view_module": "@jupyter-widgets/base",
            "_view_module_version": "1.2.0",
            "_view_name": "StyleView",
            "description_width": ""
          }
        },
        "7ab85f0d35d249cc89bdcaa539f429b2": {
          "model_module": "@jupyter-widgets/controls",
          "model_name": "HBoxModel",
          "model_module_version": "1.5.0",
          "state": {
            "_dom_classes": [],
            "_model_module": "@jupyter-widgets/controls",
            "_model_module_version": "1.5.0",
            "_model_name": "HBoxModel",
            "_view_count": null,
            "_view_module": "@jupyter-widgets/controls",
            "_view_module_version": "1.5.0",
            "_view_name": "HBoxView",
            "box_style": "",
            "children": [
              "IPY_MODEL_9dabbda8ed2746dd92cf848f275a5926",
              "IPY_MODEL_39c3d566163d4b1d923cb33fbbc788b5",
              "IPY_MODEL_daf88b6796bd477f9b5f94e90cb2d4ee"
            ],
            "layout": "IPY_MODEL_4c9047d9a4ce453ca508d16b58a7e5b9"
          }
        },
        "9dabbda8ed2746dd92cf848f275a5926": {
          "model_module": "@jupyter-widgets/controls",
          "model_name": "HTMLModel",
          "model_module_version": "1.5.0",
          "state": {
            "_dom_classes": [],
            "_model_module": "@jupyter-widgets/controls",
            "_model_module_version": "1.5.0",
            "_model_name": "HTMLModel",
            "_view_count": null,
            "_view_module": "@jupyter-widgets/controls",
            "_view_module_version": "1.5.0",
            "_view_name": "HTMLView",
            "description": "",
            "description_tooltip": null,
            "layout": "IPY_MODEL_caace698a60641e29fd28f2154fa47dc",
            "placeholder": "​",
            "style": "IPY_MODEL_ee90e43ec37e4905a9e574ef40316659",
            "value": "Generating train examples...: 100%"
          }
        },
        "39c3d566163d4b1d923cb33fbbc788b5": {
          "model_module": "@jupyter-widgets/controls",
          "model_name": "FloatProgressModel",
          "model_module_version": "1.5.0",
          "state": {
            "_dom_classes": [],
            "_model_module": "@jupyter-widgets/controls",
            "_model_module_version": "1.5.0",
            "_model_name": "FloatProgressModel",
            "_view_count": null,
            "_view_module": "@jupyter-widgets/controls",
            "_view_module_version": "1.5.0",
            "_view_name": "ProgressView",
            "bar_style": "",
            "description": "",
            "description_tooltip": null,
            "layout": "IPY_MODEL_9e44bed6c4f0459098ef8507131e2308",
            "max": 75750,
            "min": 0,
            "orientation": "horizontal",
            "style": "IPY_MODEL_96ebea96d7134343a8754a59743de5c3",
            "value": 75750
          }
        },
        "daf88b6796bd477f9b5f94e90cb2d4ee": {
          "model_module": "@jupyter-widgets/controls",
          "model_name": "HTMLModel",
          "model_module_version": "1.5.0",
          "state": {
            "_dom_classes": [],
            "_model_module": "@jupyter-widgets/controls",
            "_model_module_version": "1.5.0",
            "_model_name": "HTMLModel",
            "_view_count": null,
            "_view_module": "@jupyter-widgets/controls",
            "_view_module_version": "1.5.0",
            "_view_name": "HTMLView",
            "description": "",
            "description_tooltip": null,
            "layout": "IPY_MODEL_50f07e1f0e6a48d1a9bb3d0890ede07d",
            "placeholder": "​",
            "style": "IPY_MODEL_711cb1482a724610b9caf1ac32c706ee",
            "value": " 75646/75750 [02:00&lt;00:00, 727.76 examples/s]"
          }
        },
        "4c9047d9a4ce453ca508d16b58a7e5b9": {
          "model_module": "@jupyter-widgets/base",
          "model_name": "LayoutModel",
          "model_module_version": "1.2.0",
          "state": {
            "_model_module": "@jupyter-widgets/base",
            "_model_module_version": "1.2.0",
            "_model_name": "LayoutModel",
            "_view_count": null,
            "_view_module": "@jupyter-widgets/base",
            "_view_module_version": "1.2.0",
            "_view_name": "LayoutView",
            "align_content": null,
            "align_items": null,
            "align_self": null,
            "border": null,
            "bottom": null,
            "display": null,
            "flex": null,
            "flex_flow": null,
            "grid_area": null,
            "grid_auto_columns": null,
            "grid_auto_flow": null,
            "grid_auto_rows": null,
            "grid_column": null,
            "grid_gap": null,
            "grid_row": null,
            "grid_template_areas": null,
            "grid_template_columns": null,
            "grid_template_rows": null,
            "height": null,
            "justify_content": null,
            "justify_items": null,
            "left": null,
            "margin": null,
            "max_height": null,
            "max_width": null,
            "min_height": null,
            "min_width": null,
            "object_fit": null,
            "object_position": null,
            "order": null,
            "overflow": null,
            "overflow_x": null,
            "overflow_y": null,
            "padding": null,
            "right": null,
            "top": null,
            "visibility": null,
            "width": null
          }
        },
        "caace698a60641e29fd28f2154fa47dc": {
          "model_module": "@jupyter-widgets/base",
          "model_name": "LayoutModel",
          "model_module_version": "1.2.0",
          "state": {
            "_model_module": "@jupyter-widgets/base",
            "_model_module_version": "1.2.0",
            "_model_name": "LayoutModel",
            "_view_count": null,
            "_view_module": "@jupyter-widgets/base",
            "_view_module_version": "1.2.0",
            "_view_name": "LayoutView",
            "align_content": null,
            "align_items": null,
            "align_self": null,
            "border": null,
            "bottom": null,
            "display": null,
            "flex": null,
            "flex_flow": null,
            "grid_area": null,
            "grid_auto_columns": null,
            "grid_auto_flow": null,
            "grid_auto_rows": null,
            "grid_column": null,
            "grid_gap": null,
            "grid_row": null,
            "grid_template_areas": null,
            "grid_template_columns": null,
            "grid_template_rows": null,
            "height": null,
            "justify_content": null,
            "justify_items": null,
            "left": null,
            "margin": null,
            "max_height": null,
            "max_width": null,
            "min_height": null,
            "min_width": null,
            "object_fit": null,
            "object_position": null,
            "order": null,
            "overflow": null,
            "overflow_x": null,
            "overflow_y": null,
            "padding": null,
            "right": null,
            "top": null,
            "visibility": null,
            "width": null
          }
        },
        "ee90e43ec37e4905a9e574ef40316659": {
          "model_module": "@jupyter-widgets/controls",
          "model_name": "DescriptionStyleModel",
          "model_module_version": "1.5.0",
          "state": {
            "_model_module": "@jupyter-widgets/controls",
            "_model_module_version": "1.5.0",
            "_model_name": "DescriptionStyleModel",
            "_view_count": null,
            "_view_module": "@jupyter-widgets/base",
            "_view_module_version": "1.2.0",
            "_view_name": "StyleView",
            "description_width": ""
          }
        },
        "9e44bed6c4f0459098ef8507131e2308": {
          "model_module": "@jupyter-widgets/base",
          "model_name": "LayoutModel",
          "model_module_version": "1.2.0",
          "state": {
            "_model_module": "@jupyter-widgets/base",
            "_model_module_version": "1.2.0",
            "_model_name": "LayoutModel",
            "_view_count": null,
            "_view_module": "@jupyter-widgets/base",
            "_view_module_version": "1.2.0",
            "_view_name": "LayoutView",
            "align_content": null,
            "align_items": null,
            "align_self": null,
            "border": null,
            "bottom": null,
            "display": null,
            "flex": null,
            "flex_flow": null,
            "grid_area": null,
            "grid_auto_columns": null,
            "grid_auto_flow": null,
            "grid_auto_rows": null,
            "grid_column": null,
            "grid_gap": null,
            "grid_row": null,
            "grid_template_areas": null,
            "grid_template_columns": null,
            "grid_template_rows": null,
            "height": null,
            "justify_content": null,
            "justify_items": null,
            "left": null,
            "margin": null,
            "max_height": null,
            "max_width": null,
            "min_height": null,
            "min_width": null,
            "object_fit": null,
            "object_position": null,
            "order": null,
            "overflow": null,
            "overflow_x": null,
            "overflow_y": null,
            "padding": null,
            "right": null,
            "top": null,
            "visibility": null,
            "width": null
          }
        },
        "96ebea96d7134343a8754a59743de5c3": {
          "model_module": "@jupyter-widgets/controls",
          "model_name": "ProgressStyleModel",
          "model_module_version": "1.5.0",
          "state": {
            "_model_module": "@jupyter-widgets/controls",
            "_model_module_version": "1.5.0",
            "_model_name": "ProgressStyleModel",
            "_view_count": null,
            "_view_module": "@jupyter-widgets/base",
            "_view_module_version": "1.2.0",
            "_view_name": "StyleView",
            "bar_color": null,
            "description_width": ""
          }
        },
        "50f07e1f0e6a48d1a9bb3d0890ede07d": {
          "model_module": "@jupyter-widgets/base",
          "model_name": "LayoutModel",
          "model_module_version": "1.2.0",
          "state": {
            "_model_module": "@jupyter-widgets/base",
            "_model_module_version": "1.2.0",
            "_model_name": "LayoutModel",
            "_view_count": null,
            "_view_module": "@jupyter-widgets/base",
            "_view_module_version": "1.2.0",
            "_view_name": "LayoutView",
            "align_content": null,
            "align_items": null,
            "align_self": null,
            "border": null,
            "bottom": null,
            "display": null,
            "flex": null,
            "flex_flow": null,
            "grid_area": null,
            "grid_auto_columns": null,
            "grid_auto_flow": null,
            "grid_auto_rows": null,
            "grid_column": null,
            "grid_gap": null,
            "grid_row": null,
            "grid_template_areas": null,
            "grid_template_columns": null,
            "grid_template_rows": null,
            "height": null,
            "justify_content": null,
            "justify_items": null,
            "left": null,
            "margin": null,
            "max_height": null,
            "max_width": null,
            "min_height": null,
            "min_width": null,
            "object_fit": null,
            "object_position": null,
            "order": null,
            "overflow": null,
            "overflow_x": null,
            "overflow_y": null,
            "padding": null,
            "right": null,
            "top": null,
            "visibility": null,
            "width": null
          }
        },
        "711cb1482a724610b9caf1ac32c706ee": {
          "model_module": "@jupyter-widgets/controls",
          "model_name": "DescriptionStyleModel",
          "model_module_version": "1.5.0",
          "state": {
            "_model_module": "@jupyter-widgets/controls",
            "_model_module_version": "1.5.0",
            "_model_name": "DescriptionStyleModel",
            "_view_count": null,
            "_view_module": "@jupyter-widgets/base",
            "_view_module_version": "1.2.0",
            "_view_name": "StyleView",
            "description_width": ""
          }
        },
        "e0092c54b6c749429599ab9c199d70ca": {
          "model_module": "@jupyter-widgets/controls",
          "model_name": "HBoxModel",
          "model_module_version": "1.5.0",
          "state": {
            "_dom_classes": [],
            "_model_module": "@jupyter-widgets/controls",
            "_model_module_version": "1.5.0",
            "_model_name": "HBoxModel",
            "_view_count": null,
            "_view_module": "@jupyter-widgets/controls",
            "_view_module_version": "1.5.0",
            "_view_name": "HBoxView",
            "box_style": "",
            "children": [
              "IPY_MODEL_69f9418975bc41f7b3282e7851ae5721",
              "IPY_MODEL_c92a1bea39a9455fae3936192f83b360",
              "IPY_MODEL_766a9d3bff114472b639d7d0e1f717f8"
            ],
            "layout": "IPY_MODEL_4d28b2c82fd14620a22a4735f684aebf"
          }
        },
        "69f9418975bc41f7b3282e7851ae5721": {
          "model_module": "@jupyter-widgets/controls",
          "model_name": "HTMLModel",
          "model_module_version": "1.5.0",
          "state": {
            "_dom_classes": [],
            "_model_module": "@jupyter-widgets/controls",
            "_model_module_version": "1.5.0",
            "_model_name": "HTMLModel",
            "_view_count": null,
            "_view_module": "@jupyter-widgets/controls",
            "_view_module_version": "1.5.0",
            "_view_name": "HTMLView",
            "description": "",
            "description_tooltip": null,
            "layout": "IPY_MODEL_7747fa5b437d4b7ea1d06e379108ffb9",
            "placeholder": "​",
            "style": "IPY_MODEL_4ee91830e8a5463288b72a0d3f8a19b4",
            "value": "Shuffling ~/tensorflow_datasets/food101/2.0.0.incompleteUN3EJH/food101-train.tfrecord*...: 100%"
          }
        },
        "c92a1bea39a9455fae3936192f83b360": {
          "model_module": "@jupyter-widgets/controls",
          "model_name": "FloatProgressModel",
          "model_module_version": "1.5.0",
          "state": {
            "_dom_classes": [],
            "_model_module": "@jupyter-widgets/controls",
            "_model_module_version": "1.5.0",
            "_model_name": "FloatProgressModel",
            "_view_count": null,
            "_view_module": "@jupyter-widgets/controls",
            "_view_module_version": "1.5.0",
            "_view_name": "ProgressView",
            "bar_style": "",
            "description": "",
            "description_tooltip": null,
            "layout": "IPY_MODEL_0ba65d0fdcac4c2b92208d8ef7a68efb",
            "max": 75750,
            "min": 0,
            "orientation": "horizontal",
            "style": "IPY_MODEL_32e8121d2bdc4af3ad750420e5742894",
            "value": 75750
          }
        },
        "766a9d3bff114472b639d7d0e1f717f8": {
          "model_module": "@jupyter-widgets/controls",
          "model_name": "HTMLModel",
          "model_module_version": "1.5.0",
          "state": {
            "_dom_classes": [],
            "_model_module": "@jupyter-widgets/controls",
            "_model_module_version": "1.5.0",
            "_model_name": "HTMLModel",
            "_view_count": null,
            "_view_module": "@jupyter-widgets/controls",
            "_view_module_version": "1.5.0",
            "_view_name": "HTMLView",
            "description": "",
            "description_tooltip": null,
            "layout": "IPY_MODEL_5e5d3e98398d44acadb21b01c4007087",
            "placeholder": "​",
            "style": "IPY_MODEL_be61a54ecd1b4e7db44cd3cf6974122c",
            "value": " 75731/75750 [00:28&lt;00:00, 2588.72 examples/s]"
          }
        },
        "4d28b2c82fd14620a22a4735f684aebf": {
          "model_module": "@jupyter-widgets/base",
          "model_name": "LayoutModel",
          "model_module_version": "1.2.0",
          "state": {
            "_model_module": "@jupyter-widgets/base",
            "_model_module_version": "1.2.0",
            "_model_name": "LayoutModel",
            "_view_count": null,
            "_view_module": "@jupyter-widgets/base",
            "_view_module_version": "1.2.0",
            "_view_name": "LayoutView",
            "align_content": null,
            "align_items": null,
            "align_self": null,
            "border": null,
            "bottom": null,
            "display": null,
            "flex": null,
            "flex_flow": null,
            "grid_area": null,
            "grid_auto_columns": null,
            "grid_auto_flow": null,
            "grid_auto_rows": null,
            "grid_column": null,
            "grid_gap": null,
            "grid_row": null,
            "grid_template_areas": null,
            "grid_template_columns": null,
            "grid_template_rows": null,
            "height": null,
            "justify_content": null,
            "justify_items": null,
            "left": null,
            "margin": null,
            "max_height": null,
            "max_width": null,
            "min_height": null,
            "min_width": null,
            "object_fit": null,
            "object_position": null,
            "order": null,
            "overflow": null,
            "overflow_x": null,
            "overflow_y": null,
            "padding": null,
            "right": null,
            "top": null,
            "visibility": null,
            "width": null
          }
        },
        "7747fa5b437d4b7ea1d06e379108ffb9": {
          "model_module": "@jupyter-widgets/base",
          "model_name": "LayoutModel",
          "model_module_version": "1.2.0",
          "state": {
            "_model_module": "@jupyter-widgets/base",
            "_model_module_version": "1.2.0",
            "_model_name": "LayoutModel",
            "_view_count": null,
            "_view_module": "@jupyter-widgets/base",
            "_view_module_version": "1.2.0",
            "_view_name": "LayoutView",
            "align_content": null,
            "align_items": null,
            "align_self": null,
            "border": null,
            "bottom": null,
            "display": null,
            "flex": null,
            "flex_flow": null,
            "grid_area": null,
            "grid_auto_columns": null,
            "grid_auto_flow": null,
            "grid_auto_rows": null,
            "grid_column": null,
            "grid_gap": null,
            "grid_row": null,
            "grid_template_areas": null,
            "grid_template_columns": null,
            "grid_template_rows": null,
            "height": null,
            "justify_content": null,
            "justify_items": null,
            "left": null,
            "margin": null,
            "max_height": null,
            "max_width": null,
            "min_height": null,
            "min_width": null,
            "object_fit": null,
            "object_position": null,
            "order": null,
            "overflow": null,
            "overflow_x": null,
            "overflow_y": null,
            "padding": null,
            "right": null,
            "top": null,
            "visibility": null,
            "width": null
          }
        },
        "4ee91830e8a5463288b72a0d3f8a19b4": {
          "model_module": "@jupyter-widgets/controls",
          "model_name": "DescriptionStyleModel",
          "model_module_version": "1.5.0",
          "state": {
            "_model_module": "@jupyter-widgets/controls",
            "_model_module_version": "1.5.0",
            "_model_name": "DescriptionStyleModel",
            "_view_count": null,
            "_view_module": "@jupyter-widgets/base",
            "_view_module_version": "1.2.0",
            "_view_name": "StyleView",
            "description_width": ""
          }
        },
        "0ba65d0fdcac4c2b92208d8ef7a68efb": {
          "model_module": "@jupyter-widgets/base",
          "model_name": "LayoutModel",
          "model_module_version": "1.2.0",
          "state": {
            "_model_module": "@jupyter-widgets/base",
            "_model_module_version": "1.2.0",
            "_model_name": "LayoutModel",
            "_view_count": null,
            "_view_module": "@jupyter-widgets/base",
            "_view_module_version": "1.2.0",
            "_view_name": "LayoutView",
            "align_content": null,
            "align_items": null,
            "align_self": null,
            "border": null,
            "bottom": null,
            "display": null,
            "flex": null,
            "flex_flow": null,
            "grid_area": null,
            "grid_auto_columns": null,
            "grid_auto_flow": null,
            "grid_auto_rows": null,
            "grid_column": null,
            "grid_gap": null,
            "grid_row": null,
            "grid_template_areas": null,
            "grid_template_columns": null,
            "grid_template_rows": null,
            "height": null,
            "justify_content": null,
            "justify_items": null,
            "left": null,
            "margin": null,
            "max_height": null,
            "max_width": null,
            "min_height": null,
            "min_width": null,
            "object_fit": null,
            "object_position": null,
            "order": null,
            "overflow": null,
            "overflow_x": null,
            "overflow_y": null,
            "padding": null,
            "right": null,
            "top": null,
            "visibility": null,
            "width": null
          }
        },
        "32e8121d2bdc4af3ad750420e5742894": {
          "model_module": "@jupyter-widgets/controls",
          "model_name": "ProgressStyleModel",
          "model_module_version": "1.5.0",
          "state": {
            "_model_module": "@jupyter-widgets/controls",
            "_model_module_version": "1.5.0",
            "_model_name": "ProgressStyleModel",
            "_view_count": null,
            "_view_module": "@jupyter-widgets/base",
            "_view_module_version": "1.2.0",
            "_view_name": "StyleView",
            "bar_color": null,
            "description_width": ""
          }
        },
        "5e5d3e98398d44acadb21b01c4007087": {
          "model_module": "@jupyter-widgets/base",
          "model_name": "LayoutModel",
          "model_module_version": "1.2.0",
          "state": {
            "_model_module": "@jupyter-widgets/base",
            "_model_module_version": "1.2.0",
            "_model_name": "LayoutModel",
            "_view_count": null,
            "_view_module": "@jupyter-widgets/base",
            "_view_module_version": "1.2.0",
            "_view_name": "LayoutView",
            "align_content": null,
            "align_items": null,
            "align_self": null,
            "border": null,
            "bottom": null,
            "display": null,
            "flex": null,
            "flex_flow": null,
            "grid_area": null,
            "grid_auto_columns": null,
            "grid_auto_flow": null,
            "grid_auto_rows": null,
            "grid_column": null,
            "grid_gap": null,
            "grid_row": null,
            "grid_template_areas": null,
            "grid_template_columns": null,
            "grid_template_rows": null,
            "height": null,
            "justify_content": null,
            "justify_items": null,
            "left": null,
            "margin": null,
            "max_height": null,
            "max_width": null,
            "min_height": null,
            "min_width": null,
            "object_fit": null,
            "object_position": null,
            "order": null,
            "overflow": null,
            "overflow_x": null,
            "overflow_y": null,
            "padding": null,
            "right": null,
            "top": null,
            "visibility": null,
            "width": null
          }
        },
        "be61a54ecd1b4e7db44cd3cf6974122c": {
          "model_module": "@jupyter-widgets/controls",
          "model_name": "DescriptionStyleModel",
          "model_module_version": "1.5.0",
          "state": {
            "_model_module": "@jupyter-widgets/controls",
            "_model_module_version": "1.5.0",
            "_model_name": "DescriptionStyleModel",
            "_view_count": null,
            "_view_module": "@jupyter-widgets/base",
            "_view_module_version": "1.2.0",
            "_view_name": "StyleView",
            "description_width": ""
          }
        },
        "e07394df74634f1ab16d2e29b6023266": {
          "model_module": "@jupyter-widgets/controls",
          "model_name": "HBoxModel",
          "model_module_version": "1.5.0",
          "state": {
            "_dom_classes": [],
            "_model_module": "@jupyter-widgets/controls",
            "_model_module_version": "1.5.0",
            "_model_name": "HBoxModel",
            "_view_count": null,
            "_view_module": "@jupyter-widgets/controls",
            "_view_module_version": "1.5.0",
            "_view_name": "HBoxView",
            "box_style": "",
            "children": [
              "IPY_MODEL_819f12629daf49e1aa9708eb497f9e72",
              "IPY_MODEL_d5cf362b4f1f46869cc0b496265552a5",
              "IPY_MODEL_4b4a8f97491b42819c0d704fcb340c81"
            ],
            "layout": "IPY_MODEL_d97d8a51dd9e4d0780a8ec91695e591f"
          }
        },
        "819f12629daf49e1aa9708eb497f9e72": {
          "model_module": "@jupyter-widgets/controls",
          "model_name": "HTMLModel",
          "model_module_version": "1.5.0",
          "state": {
            "_dom_classes": [],
            "_model_module": "@jupyter-widgets/controls",
            "_model_module_version": "1.5.0",
            "_model_name": "HTMLModel",
            "_view_count": null,
            "_view_module": "@jupyter-widgets/controls",
            "_view_module_version": "1.5.0",
            "_view_name": "HTMLView",
            "description": "",
            "description_tooltip": null,
            "layout": "IPY_MODEL_21d111430178447db1720b5cc100d001",
            "placeholder": "​",
            "style": "IPY_MODEL_647e5f1a87734d9da14e0e446e9f8071",
            "value": "Generating validation examples...: 100%"
          }
        },
        "d5cf362b4f1f46869cc0b496265552a5": {
          "model_module": "@jupyter-widgets/controls",
          "model_name": "FloatProgressModel",
          "model_module_version": "1.5.0",
          "state": {
            "_dom_classes": [],
            "_model_module": "@jupyter-widgets/controls",
            "_model_module_version": "1.5.0",
            "_model_name": "FloatProgressModel",
            "_view_count": null,
            "_view_module": "@jupyter-widgets/controls",
            "_view_module_version": "1.5.0",
            "_view_name": "ProgressView",
            "bar_style": "",
            "description": "",
            "description_tooltip": null,
            "layout": "IPY_MODEL_81b5629750ea4a95ac95940f51d449b7",
            "max": 25250,
            "min": 0,
            "orientation": "horizontal",
            "style": "IPY_MODEL_88ba6a341e724fafb504f4fa9d397347",
            "value": 25250
          }
        },
        "4b4a8f97491b42819c0d704fcb340c81": {
          "model_module": "@jupyter-widgets/controls",
          "model_name": "HTMLModel",
          "model_module_version": "1.5.0",
          "state": {
            "_dom_classes": [],
            "_model_module": "@jupyter-widgets/controls",
            "_model_module_version": "1.5.0",
            "_model_name": "HTMLModel",
            "_view_count": null,
            "_view_module": "@jupyter-widgets/controls",
            "_view_module_version": "1.5.0",
            "_view_name": "HTMLView",
            "description": "",
            "description_tooltip": null,
            "layout": "IPY_MODEL_ced83bcb59494e8a9506a81813821d29",
            "placeholder": "​",
            "style": "IPY_MODEL_0e8eaff0818e493b8edfedad8175d97a",
            "value": " 25229/25250 [01:06&lt;00:00, 376.34 examples/s]"
          }
        },
        "d97d8a51dd9e4d0780a8ec91695e591f": {
          "model_module": "@jupyter-widgets/base",
          "model_name": "LayoutModel",
          "model_module_version": "1.2.0",
          "state": {
            "_model_module": "@jupyter-widgets/base",
            "_model_module_version": "1.2.0",
            "_model_name": "LayoutModel",
            "_view_count": null,
            "_view_module": "@jupyter-widgets/base",
            "_view_module_version": "1.2.0",
            "_view_name": "LayoutView",
            "align_content": null,
            "align_items": null,
            "align_self": null,
            "border": null,
            "bottom": null,
            "display": null,
            "flex": null,
            "flex_flow": null,
            "grid_area": null,
            "grid_auto_columns": null,
            "grid_auto_flow": null,
            "grid_auto_rows": null,
            "grid_column": null,
            "grid_gap": null,
            "grid_row": null,
            "grid_template_areas": null,
            "grid_template_columns": null,
            "grid_template_rows": null,
            "height": null,
            "justify_content": null,
            "justify_items": null,
            "left": null,
            "margin": null,
            "max_height": null,
            "max_width": null,
            "min_height": null,
            "min_width": null,
            "object_fit": null,
            "object_position": null,
            "order": null,
            "overflow": null,
            "overflow_x": null,
            "overflow_y": null,
            "padding": null,
            "right": null,
            "top": null,
            "visibility": null,
            "width": null
          }
        },
        "21d111430178447db1720b5cc100d001": {
          "model_module": "@jupyter-widgets/base",
          "model_name": "LayoutModel",
          "model_module_version": "1.2.0",
          "state": {
            "_model_module": "@jupyter-widgets/base",
            "_model_module_version": "1.2.0",
            "_model_name": "LayoutModel",
            "_view_count": null,
            "_view_module": "@jupyter-widgets/base",
            "_view_module_version": "1.2.0",
            "_view_name": "LayoutView",
            "align_content": null,
            "align_items": null,
            "align_self": null,
            "border": null,
            "bottom": null,
            "display": null,
            "flex": null,
            "flex_flow": null,
            "grid_area": null,
            "grid_auto_columns": null,
            "grid_auto_flow": null,
            "grid_auto_rows": null,
            "grid_column": null,
            "grid_gap": null,
            "grid_row": null,
            "grid_template_areas": null,
            "grid_template_columns": null,
            "grid_template_rows": null,
            "height": null,
            "justify_content": null,
            "justify_items": null,
            "left": null,
            "margin": null,
            "max_height": null,
            "max_width": null,
            "min_height": null,
            "min_width": null,
            "object_fit": null,
            "object_position": null,
            "order": null,
            "overflow": null,
            "overflow_x": null,
            "overflow_y": null,
            "padding": null,
            "right": null,
            "top": null,
            "visibility": null,
            "width": null
          }
        },
        "647e5f1a87734d9da14e0e446e9f8071": {
          "model_module": "@jupyter-widgets/controls",
          "model_name": "DescriptionStyleModel",
          "model_module_version": "1.5.0",
          "state": {
            "_model_module": "@jupyter-widgets/controls",
            "_model_module_version": "1.5.0",
            "_model_name": "DescriptionStyleModel",
            "_view_count": null,
            "_view_module": "@jupyter-widgets/base",
            "_view_module_version": "1.2.0",
            "_view_name": "StyleView",
            "description_width": ""
          }
        },
        "81b5629750ea4a95ac95940f51d449b7": {
          "model_module": "@jupyter-widgets/base",
          "model_name": "LayoutModel",
          "model_module_version": "1.2.0",
          "state": {
            "_model_module": "@jupyter-widgets/base",
            "_model_module_version": "1.2.0",
            "_model_name": "LayoutModel",
            "_view_count": null,
            "_view_module": "@jupyter-widgets/base",
            "_view_module_version": "1.2.0",
            "_view_name": "LayoutView",
            "align_content": null,
            "align_items": null,
            "align_self": null,
            "border": null,
            "bottom": null,
            "display": null,
            "flex": null,
            "flex_flow": null,
            "grid_area": null,
            "grid_auto_columns": null,
            "grid_auto_flow": null,
            "grid_auto_rows": null,
            "grid_column": null,
            "grid_gap": null,
            "grid_row": null,
            "grid_template_areas": null,
            "grid_template_columns": null,
            "grid_template_rows": null,
            "height": null,
            "justify_content": null,
            "justify_items": null,
            "left": null,
            "margin": null,
            "max_height": null,
            "max_width": null,
            "min_height": null,
            "min_width": null,
            "object_fit": null,
            "object_position": null,
            "order": null,
            "overflow": null,
            "overflow_x": null,
            "overflow_y": null,
            "padding": null,
            "right": null,
            "top": null,
            "visibility": null,
            "width": null
          }
        },
        "88ba6a341e724fafb504f4fa9d397347": {
          "model_module": "@jupyter-widgets/controls",
          "model_name": "ProgressStyleModel",
          "model_module_version": "1.5.0",
          "state": {
            "_model_module": "@jupyter-widgets/controls",
            "_model_module_version": "1.5.0",
            "_model_name": "ProgressStyleModel",
            "_view_count": null,
            "_view_module": "@jupyter-widgets/base",
            "_view_module_version": "1.2.0",
            "_view_name": "StyleView",
            "bar_color": null,
            "description_width": ""
          }
        },
        "ced83bcb59494e8a9506a81813821d29": {
          "model_module": "@jupyter-widgets/base",
          "model_name": "LayoutModel",
          "model_module_version": "1.2.0",
          "state": {
            "_model_module": "@jupyter-widgets/base",
            "_model_module_version": "1.2.0",
            "_model_name": "LayoutModel",
            "_view_count": null,
            "_view_module": "@jupyter-widgets/base",
            "_view_module_version": "1.2.0",
            "_view_name": "LayoutView",
            "align_content": null,
            "align_items": null,
            "align_self": null,
            "border": null,
            "bottom": null,
            "display": null,
            "flex": null,
            "flex_flow": null,
            "grid_area": null,
            "grid_auto_columns": null,
            "grid_auto_flow": null,
            "grid_auto_rows": null,
            "grid_column": null,
            "grid_gap": null,
            "grid_row": null,
            "grid_template_areas": null,
            "grid_template_columns": null,
            "grid_template_rows": null,
            "height": null,
            "justify_content": null,
            "justify_items": null,
            "left": null,
            "margin": null,
            "max_height": null,
            "max_width": null,
            "min_height": null,
            "min_width": null,
            "object_fit": null,
            "object_position": null,
            "order": null,
            "overflow": null,
            "overflow_x": null,
            "overflow_y": null,
            "padding": null,
            "right": null,
            "top": null,
            "visibility": null,
            "width": null
          }
        },
        "0e8eaff0818e493b8edfedad8175d97a": {
          "model_module": "@jupyter-widgets/controls",
          "model_name": "DescriptionStyleModel",
          "model_module_version": "1.5.0",
          "state": {
            "_model_module": "@jupyter-widgets/controls",
            "_model_module_version": "1.5.0",
            "_model_name": "DescriptionStyleModel",
            "_view_count": null,
            "_view_module": "@jupyter-widgets/base",
            "_view_module_version": "1.2.0",
            "_view_name": "StyleView",
            "description_width": ""
          }
        },
        "a4971442be5f4f1fbfa65332f8405476": {
          "model_module": "@jupyter-widgets/controls",
          "model_name": "HBoxModel",
          "model_module_version": "1.5.0",
          "state": {
            "_dom_classes": [],
            "_model_module": "@jupyter-widgets/controls",
            "_model_module_version": "1.5.0",
            "_model_name": "HBoxModel",
            "_view_count": null,
            "_view_module": "@jupyter-widgets/controls",
            "_view_module_version": "1.5.0",
            "_view_name": "HBoxView",
            "box_style": "",
            "children": [
              "IPY_MODEL_372dc729ad8641b991080eb2452153d3",
              "IPY_MODEL_c2f1c450b8704c4bbd44ee124ace2c35",
              "IPY_MODEL_3e3dd53381024164b30efeee315b4644"
            ],
            "layout": "IPY_MODEL_351e6e64a3604141894659b0982dd992"
          }
        },
        "372dc729ad8641b991080eb2452153d3": {
          "model_module": "@jupyter-widgets/controls",
          "model_name": "HTMLModel",
          "model_module_version": "1.5.0",
          "state": {
            "_dom_classes": [],
            "_model_module": "@jupyter-widgets/controls",
            "_model_module_version": "1.5.0",
            "_model_name": "HTMLModel",
            "_view_count": null,
            "_view_module": "@jupyter-widgets/controls",
            "_view_module_version": "1.5.0",
            "_view_name": "HTMLView",
            "description": "",
            "description_tooltip": null,
            "layout": "IPY_MODEL_19ef3fbc78fe4365b1eacfc9c4c73fae",
            "placeholder": "​",
            "style": "IPY_MODEL_09e3e234e77b431ba19aab93da4edd65",
            "value": "Shuffling ~/tensorflow_datasets/food101/2.0.0.incompleteUN3EJH/food101-validation.tfrecord*...:  99%"
          }
        },
        "c2f1c450b8704c4bbd44ee124ace2c35": {
          "model_module": "@jupyter-widgets/controls",
          "model_name": "FloatProgressModel",
          "model_module_version": "1.5.0",
          "state": {
            "_dom_classes": [],
            "_model_module": "@jupyter-widgets/controls",
            "_model_module_version": "1.5.0",
            "_model_name": "FloatProgressModel",
            "_view_count": null,
            "_view_module": "@jupyter-widgets/controls",
            "_view_module_version": "1.5.0",
            "_view_name": "ProgressView",
            "bar_style": "",
            "description": "",
            "description_tooltip": null,
            "layout": "IPY_MODEL_c685a9ea2afd4b8491e8d3a41245e7db",
            "max": 25250,
            "min": 0,
            "orientation": "horizontal",
            "style": "IPY_MODEL_18eae830daa2435994ce9ac75e828e48",
            "value": 25250
          }
        },
        "3e3dd53381024164b30efeee315b4644": {
          "model_module": "@jupyter-widgets/controls",
          "model_name": "HTMLModel",
          "model_module_version": "1.5.0",
          "state": {
            "_dom_classes": [],
            "_model_module": "@jupyter-widgets/controls",
            "_model_module_version": "1.5.0",
            "_model_name": "HTMLModel",
            "_view_count": null,
            "_view_module": "@jupyter-widgets/controls",
            "_view_module_version": "1.5.0",
            "_view_name": "HTMLView",
            "description": "",
            "description_tooltip": null,
            "layout": "IPY_MODEL_416aa0ac5e6644a79e835b9195cd71e5",
            "placeholder": "​",
            "style": "IPY_MODEL_490d476a63094b418439426adae88378",
            "value": " 25101/25250 [00:04&lt;00:00, 4863.96 examples/s]"
          }
        },
        "351e6e64a3604141894659b0982dd992": {
          "model_module": "@jupyter-widgets/base",
          "model_name": "LayoutModel",
          "model_module_version": "1.2.0",
          "state": {
            "_model_module": "@jupyter-widgets/base",
            "_model_module_version": "1.2.0",
            "_model_name": "LayoutModel",
            "_view_count": null,
            "_view_module": "@jupyter-widgets/base",
            "_view_module_version": "1.2.0",
            "_view_name": "LayoutView",
            "align_content": null,
            "align_items": null,
            "align_self": null,
            "border": null,
            "bottom": null,
            "display": null,
            "flex": null,
            "flex_flow": null,
            "grid_area": null,
            "grid_auto_columns": null,
            "grid_auto_flow": null,
            "grid_auto_rows": null,
            "grid_column": null,
            "grid_gap": null,
            "grid_row": null,
            "grid_template_areas": null,
            "grid_template_columns": null,
            "grid_template_rows": null,
            "height": null,
            "justify_content": null,
            "justify_items": null,
            "left": null,
            "margin": null,
            "max_height": null,
            "max_width": null,
            "min_height": null,
            "min_width": null,
            "object_fit": null,
            "object_position": null,
            "order": null,
            "overflow": null,
            "overflow_x": null,
            "overflow_y": null,
            "padding": null,
            "right": null,
            "top": null,
            "visibility": null,
            "width": null
          }
        },
        "19ef3fbc78fe4365b1eacfc9c4c73fae": {
          "model_module": "@jupyter-widgets/base",
          "model_name": "LayoutModel",
          "model_module_version": "1.2.0",
          "state": {
            "_model_module": "@jupyter-widgets/base",
            "_model_module_version": "1.2.0",
            "_model_name": "LayoutModel",
            "_view_count": null,
            "_view_module": "@jupyter-widgets/base",
            "_view_module_version": "1.2.0",
            "_view_name": "LayoutView",
            "align_content": null,
            "align_items": null,
            "align_self": null,
            "border": null,
            "bottom": null,
            "display": null,
            "flex": null,
            "flex_flow": null,
            "grid_area": null,
            "grid_auto_columns": null,
            "grid_auto_flow": null,
            "grid_auto_rows": null,
            "grid_column": null,
            "grid_gap": null,
            "grid_row": null,
            "grid_template_areas": null,
            "grid_template_columns": null,
            "grid_template_rows": null,
            "height": null,
            "justify_content": null,
            "justify_items": null,
            "left": null,
            "margin": null,
            "max_height": null,
            "max_width": null,
            "min_height": null,
            "min_width": null,
            "object_fit": null,
            "object_position": null,
            "order": null,
            "overflow": null,
            "overflow_x": null,
            "overflow_y": null,
            "padding": null,
            "right": null,
            "top": null,
            "visibility": null,
            "width": null
          }
        },
        "09e3e234e77b431ba19aab93da4edd65": {
          "model_module": "@jupyter-widgets/controls",
          "model_name": "DescriptionStyleModel",
          "model_module_version": "1.5.0",
          "state": {
            "_model_module": "@jupyter-widgets/controls",
            "_model_module_version": "1.5.0",
            "_model_name": "DescriptionStyleModel",
            "_view_count": null,
            "_view_module": "@jupyter-widgets/base",
            "_view_module_version": "1.2.0",
            "_view_name": "StyleView",
            "description_width": ""
          }
        },
        "c685a9ea2afd4b8491e8d3a41245e7db": {
          "model_module": "@jupyter-widgets/base",
          "model_name": "LayoutModel",
          "model_module_version": "1.2.0",
          "state": {
            "_model_module": "@jupyter-widgets/base",
            "_model_module_version": "1.2.0",
            "_model_name": "LayoutModel",
            "_view_count": null,
            "_view_module": "@jupyter-widgets/base",
            "_view_module_version": "1.2.0",
            "_view_name": "LayoutView",
            "align_content": null,
            "align_items": null,
            "align_self": null,
            "border": null,
            "bottom": null,
            "display": null,
            "flex": null,
            "flex_flow": null,
            "grid_area": null,
            "grid_auto_columns": null,
            "grid_auto_flow": null,
            "grid_auto_rows": null,
            "grid_column": null,
            "grid_gap": null,
            "grid_row": null,
            "grid_template_areas": null,
            "grid_template_columns": null,
            "grid_template_rows": null,
            "height": null,
            "justify_content": null,
            "justify_items": null,
            "left": null,
            "margin": null,
            "max_height": null,
            "max_width": null,
            "min_height": null,
            "min_width": null,
            "object_fit": null,
            "object_position": null,
            "order": null,
            "overflow": null,
            "overflow_x": null,
            "overflow_y": null,
            "padding": null,
            "right": null,
            "top": null,
            "visibility": null,
            "width": null
          }
        },
        "18eae830daa2435994ce9ac75e828e48": {
          "model_module": "@jupyter-widgets/controls",
          "model_name": "ProgressStyleModel",
          "model_module_version": "1.5.0",
          "state": {
            "_model_module": "@jupyter-widgets/controls",
            "_model_module_version": "1.5.0",
            "_model_name": "ProgressStyleModel",
            "_view_count": null,
            "_view_module": "@jupyter-widgets/base",
            "_view_module_version": "1.2.0",
            "_view_name": "StyleView",
            "bar_color": null,
            "description_width": ""
          }
        },
        "416aa0ac5e6644a79e835b9195cd71e5": {
          "model_module": "@jupyter-widgets/base",
          "model_name": "LayoutModel",
          "model_module_version": "1.2.0",
          "state": {
            "_model_module": "@jupyter-widgets/base",
            "_model_module_version": "1.2.0",
            "_model_name": "LayoutModel",
            "_view_count": null,
            "_view_module": "@jupyter-widgets/base",
            "_view_module_version": "1.2.0",
            "_view_name": "LayoutView",
            "align_content": null,
            "align_items": null,
            "align_self": null,
            "border": null,
            "bottom": null,
            "display": null,
            "flex": null,
            "flex_flow": null,
            "grid_area": null,
            "grid_auto_columns": null,
            "grid_auto_flow": null,
            "grid_auto_rows": null,
            "grid_column": null,
            "grid_gap": null,
            "grid_row": null,
            "grid_template_areas": null,
            "grid_template_columns": null,
            "grid_template_rows": null,
            "height": null,
            "justify_content": null,
            "justify_items": null,
            "left": null,
            "margin": null,
            "max_height": null,
            "max_width": null,
            "min_height": null,
            "min_width": null,
            "object_fit": null,
            "object_position": null,
            "order": null,
            "overflow": null,
            "overflow_x": null,
            "overflow_y": null,
            "padding": null,
            "right": null,
            "top": null,
            "visibility": null,
            "width": null
          }
        },
        "490d476a63094b418439426adae88378": {
          "model_module": "@jupyter-widgets/controls",
          "model_name": "DescriptionStyleModel",
          "model_module_version": "1.5.0",
          "state": {
            "_model_module": "@jupyter-widgets/controls",
            "_model_module_version": "1.5.0",
            "_model_name": "DescriptionStyleModel",
            "_view_count": null,
            "_view_module": "@jupyter-widgets/base",
            "_view_module_version": "1.2.0",
            "_view_name": "StyleView",
            "description_width": ""
          }
        }
      }
    }
  },
  "cells": [
    {
      "cell_type": "code",
      "source": [
        "import pandas as pd\n",
        "import numpy as np\n",
        "import tensorflow as tf\n",
        "import tensorflow_datasets as tfds\n",
        "from tensorflow.keras import layers\n",
        "from tensorflow.keras.layers.experimental import preprocessing\n",
        "from tensorflow.keras import regularizers\n",
        "from tensorflow.keras import mixed_precision"
      ],
      "metadata": {
        "id": "T8ujkU3P7sKV"
      },
      "execution_count": 1,
      "outputs": []
    },
    {
      "cell_type": "code",
      "execution_count": 2,
      "metadata": {
        "colab": {
          "base_uri": "https://localhost:8080/"
        },
        "id": "dDHeCaN-6l7a",
        "outputId": "0c3a65a3-db87-4c35-df7a-e1ec0056e515"
      },
      "outputs": [
        {
          "output_type": "stream",
          "name": "stdout",
          "text": [
            "GPU 0: Tesla T4 (UUID: GPU-3709cfc0-86e7-efe1-bb87-49bab2757f22)\n"
          ]
        }
      ],
      "source": [
        "!nvidia-smi -L"
      ]
    },
    {
      "cell_type": "code",
      "source": [
        "!wget https://raw.githubusercontent.com/arghanath007/MachineLearning/main/Deep%20Learning/Transfer%20Learning/helper_functions.py"
      ],
      "metadata": {
        "colab": {
          "base_uri": "https://localhost:8080/"
        },
        "id": "rokq1j1S7K00",
        "outputId": "17848f0c-272a-48b9-e4f1-2e927db29efa"
      },
      "execution_count": 3,
      "outputs": [
        {
          "output_type": "stream",
          "name": "stdout",
          "text": [
            "--2022-08-11 15:39:28--  https://raw.githubusercontent.com/arghanath007/MachineLearning/main/Deep%20Learning/Transfer%20Learning/helper_functions.py\n",
            "Resolving raw.githubusercontent.com (raw.githubusercontent.com)... 185.199.108.133, 185.199.109.133, 185.199.110.133, ...\n",
            "Connecting to raw.githubusercontent.com (raw.githubusercontent.com)|185.199.108.133|:443... connected.\n",
            "HTTP request sent, awaiting response... 200 OK\n",
            "Length: 18407 (18K) [text/plain]\n",
            "Saving to: ‘helper_functions.py’\n",
            "\n",
            "helper_functions.py 100%[===================>]  17.98K  --.-KB/s    in 0s      \n",
            "\n",
            "2022-08-11 15:39:29 (123 MB/s) - ‘helper_functions.py’ saved [18407/18407]\n",
            "\n"
          ]
        }
      ]
    },
    {
      "cell_type": "code",
      "source": [
        "from helper_functions import plot_loss_curves, compare_historys, create_data_augmented_layer_for_model, load_and_prep_image, make_confusion_matrix, make_confusion_matrix_for_larger_dataset"
      ],
      "metadata": {
        "id": "8hNWFGrY7ced"
      },
      "execution_count": 4,
      "outputs": []
    },
    {
      "cell_type": "code",
      "source": [
        "(train_data, test_data), ds_info= tfds.load(name=\"food101\", split=[\"train\", \"validation\"], shuffle_files=True, as_supervised=True, with_info=True)"
      ],
      "metadata": {
        "colab": {
          "base_uri": "https://localhost:8080/",
          "height": 153,
          "referenced_widgets": [
            "def84cb04ed74d10979bce805be57c8f",
            "5e634f07be0947aaa2a9ae611ed2ef1b",
            "35eedf46cb484f77a83d05ac6b279090",
            "4ac7f436402f403c9a0c628c130af7cb",
            "a3d64f0e70cd40af99af91c0fd755597",
            "66a6cdf8311d4f23b9993ac2e8e65230",
            "4528680087164843ab294e5461883bf9",
            "705f4f86ddb04b64a74180ee9c3a5ba6",
            "43d46ab8f4bd47119ed68b38371880de",
            "999a0a3119f24cdf82a7a1a9c047a059",
            "0cc1a0c0790c442da3e02ef41ca65a89",
            "cdf2ef787ad64c899737ed5b3b585347",
            "ed68a1e371dd46a1ba4d60af381c4bf0",
            "f4b3afa65e31434e8b89d1472c562d9b",
            "efd80c9e7ec847c5868e01a1d7d0a4b9",
            "ab2398dd22f444f0803e73074f1ebe5d",
            "f398c59a7bcb4a3ba596d122dd9aa9c3",
            "ff3351591cbb425d99220fcdf6e51987",
            "be06fc900986476d9ac232ea5d5bfb39",
            "5ffa94f2a79c41838c68b2d6af0aa4d0",
            "2edbf346e5954c5395f79f6ca94a106c",
            "d598f2baa6cc46cdb0ca53d8be40cac3",
            "48f812af41cc45ba9cb093d62883484e",
            "e9e89ce861e5413ca33837cce20e8cb0",
            "fb315559fd2948a5b724fa27ad679a7a",
            "a4114c367e434539b10b96ea355f5aca",
            "93b3e17e03ee48a4a9c0ddb50e9bed79",
            "81aaf11ee6804a8fa7347a953493097b",
            "7a9d67181f6f404b8ace1df21f7c2d1a",
            "f575c73f960d40bb81721b0153d3dd58",
            "626ed77f4a6e4881ac8ad97b8345aeaa",
            "99b0477115674dc6a22aa34f150f5542",
            "d593bd25c2b9462688a852a02a8f8e71",
            "e67b6b3e05ea450f8ed2a941f50d2907",
            "214a15a7854d40ccae174ea6f557eddb",
            "0e3614641c4d48fb95f5ebe2ed78b2fd",
            "bb4fc9a9b27a4008a95034c7b14484c7",
            "5190f5ee7c0649538de5bbc25286e59b",
            "1afdca566fbf42469a34e089b4e48478",
            "023c3cab038242059de797b98997f5e7",
            "608c88f02bb3460ab97ba87d336cf82a",
            "e98c7b666b1e4a58add960d9faeda1e1",
            "fe5751921b9941b48a40e36bf7a78f3f",
            "51f3be4d1bc54567bcb5a5d9840236b9",
            "7ab85f0d35d249cc89bdcaa539f429b2",
            "9dabbda8ed2746dd92cf848f275a5926",
            "39c3d566163d4b1d923cb33fbbc788b5",
            "daf88b6796bd477f9b5f94e90cb2d4ee",
            "4c9047d9a4ce453ca508d16b58a7e5b9",
            "caace698a60641e29fd28f2154fa47dc",
            "ee90e43ec37e4905a9e574ef40316659",
            "9e44bed6c4f0459098ef8507131e2308",
            "96ebea96d7134343a8754a59743de5c3",
            "50f07e1f0e6a48d1a9bb3d0890ede07d",
            "711cb1482a724610b9caf1ac32c706ee",
            "e0092c54b6c749429599ab9c199d70ca",
            "69f9418975bc41f7b3282e7851ae5721",
            "c92a1bea39a9455fae3936192f83b360",
            "766a9d3bff114472b639d7d0e1f717f8",
            "4d28b2c82fd14620a22a4735f684aebf",
            "7747fa5b437d4b7ea1d06e379108ffb9",
            "4ee91830e8a5463288b72a0d3f8a19b4",
            "0ba65d0fdcac4c2b92208d8ef7a68efb",
            "32e8121d2bdc4af3ad750420e5742894",
            "5e5d3e98398d44acadb21b01c4007087",
            "be61a54ecd1b4e7db44cd3cf6974122c",
            "e07394df74634f1ab16d2e29b6023266",
            "819f12629daf49e1aa9708eb497f9e72",
            "d5cf362b4f1f46869cc0b496265552a5",
            "4b4a8f97491b42819c0d704fcb340c81",
            "d97d8a51dd9e4d0780a8ec91695e591f",
            "21d111430178447db1720b5cc100d001",
            "647e5f1a87734d9da14e0e446e9f8071",
            "81b5629750ea4a95ac95940f51d449b7",
            "88ba6a341e724fafb504f4fa9d397347",
            "ced83bcb59494e8a9506a81813821d29",
            "0e8eaff0818e493b8edfedad8175d97a",
            "a4971442be5f4f1fbfa65332f8405476",
            "372dc729ad8641b991080eb2452153d3",
            "c2f1c450b8704c4bbd44ee124ace2c35",
            "3e3dd53381024164b30efeee315b4644",
            "351e6e64a3604141894659b0982dd992",
            "19ef3fbc78fe4365b1eacfc9c4c73fae",
            "09e3e234e77b431ba19aab93da4edd65",
            "c685a9ea2afd4b8491e8d3a41245e7db",
            "18eae830daa2435994ce9ac75e828e48",
            "416aa0ac5e6644a79e835b9195cd71e5",
            "490d476a63094b418439426adae88378"
          ]
        },
        "id": "ate_3MVu7pCD",
        "outputId": "64300351-2f98-4c67-f12f-49c479b85990"
      },
      "execution_count": 5,
      "outputs": [
        {
          "output_type": "stream",
          "name": "stdout",
          "text": [
            "\u001b[1mDownloading and preparing dataset 4.65 GiB (download: 4.65 GiB, generated: Unknown size, total: 4.65 GiB) to ~/tensorflow_datasets/food101/2.0.0...\u001b[0m\n"
          ]
        },
        {
          "output_type": "display_data",
          "data": {
            "text/plain": [
              "Dl Completed...: 0 url [00:00, ? url/s]"
            ],
            "application/vnd.jupyter.widget-view+json": {
              "version_major": 2,
              "version_minor": 0,
              "model_id": "def84cb04ed74d10979bce805be57c8f"
            }
          },
          "metadata": {}
        },
        {
          "output_type": "display_data",
          "data": {
            "text/plain": [
              "Dl Size...: 0 MiB [00:00, ? MiB/s]"
            ],
            "application/vnd.jupyter.widget-view+json": {
              "version_major": 2,
              "version_minor": 0,
              "model_id": "cdf2ef787ad64c899737ed5b3b585347"
            }
          },
          "metadata": {}
        },
        {
          "output_type": "display_data",
          "data": {
            "text/plain": [
              "Extraction completed...: 0 file [00:00, ? file/s]"
            ],
            "application/vnd.jupyter.widget-view+json": {
              "version_major": 2,
              "version_minor": 0,
              "model_id": "48f812af41cc45ba9cb093d62883484e"
            }
          },
          "metadata": {}
        },
        {
          "output_type": "display_data",
          "data": {
            "text/plain": [
              "Generating splits...:   0%|          | 0/2 [00:00<?, ? splits/s]"
            ],
            "application/vnd.jupyter.widget-view+json": {
              "version_major": 2,
              "version_minor": 0,
              "model_id": "e67b6b3e05ea450f8ed2a941f50d2907"
            }
          },
          "metadata": {}
        },
        {
          "output_type": "display_data",
          "data": {
            "text/plain": [
              "Generating train examples...:   0%|          | 0/75750 [00:00<?, ? examples/s]"
            ],
            "application/vnd.jupyter.widget-view+json": {
              "version_major": 2,
              "version_minor": 0,
              "model_id": "7ab85f0d35d249cc89bdcaa539f429b2"
            }
          },
          "metadata": {}
        },
        {
          "output_type": "display_data",
          "data": {
            "text/plain": [
              "Shuffling ~/tensorflow_datasets/food101/2.0.0.incompleteUN3EJH/food101-train.tfrecord*...:   0%|          | 0/…"
            ],
            "application/vnd.jupyter.widget-view+json": {
              "version_major": 2,
              "version_minor": 0,
              "model_id": "e0092c54b6c749429599ab9c199d70ca"
            }
          },
          "metadata": {}
        },
        {
          "output_type": "display_data",
          "data": {
            "text/plain": [
              "Generating validation examples...:   0%|          | 0/25250 [00:00<?, ? examples/s]"
            ],
            "application/vnd.jupyter.widget-view+json": {
              "version_major": 2,
              "version_minor": 0,
              "model_id": "e07394df74634f1ab16d2e29b6023266"
            }
          },
          "metadata": {}
        },
        {
          "output_type": "display_data",
          "data": {
            "text/plain": [
              "Shuffling ~/tensorflow_datasets/food101/2.0.0.incompleteUN3EJH/food101-validation.tfrecord*...:   0%|         …"
            ],
            "application/vnd.jupyter.widget-view+json": {
              "version_major": 2,
              "version_minor": 0,
              "model_id": "a4971442be5f4f1fbfa65332f8405476"
            }
          },
          "metadata": {}
        },
        {
          "output_type": "stream",
          "name": "stdout",
          "text": [
            "\u001b[1mDataset food101 downloaded and prepared to ~/tensorflow_datasets/food101/2.0.0. Subsequent calls will reuse this data.\u001b[0m\n"
          ]
        }
      ]
    },
    {
      "cell_type": "code",
      "source": [
        "train_data, test_data"
      ],
      "metadata": {
        "colab": {
          "base_uri": "https://localhost:8080/"
        },
        "id": "Qwx5_mTYAftI",
        "outputId": "d67009a6-8956-4dff-e1dd-acacd38d2a82"
      },
      "execution_count": 6,
      "outputs": [
        {
          "output_type": "execute_result",
          "data": {
            "text/plain": [
              "(<PrefetchDataset element_spec=(TensorSpec(shape=(None, None, 3), dtype=tf.uint8, name=None), TensorSpec(shape=(), dtype=tf.int64, name=None))>,\n",
              " <PrefetchDataset element_spec=(TensorSpec(shape=(None, None, 3), dtype=tf.uint8, name=None), TensorSpec(shape=(), dtype=tf.int64, name=None))>)"
            ]
          },
          "metadata": {},
          "execution_count": 6
        }
      ]
    },
    {
      "cell_type": "code",
      "source": [
        "ds_info.features"
      ],
      "metadata": {
        "colab": {
          "base_uri": "https://localhost:8080/"
        },
        "id": "tRk1R8MV8GHv",
        "outputId": "db3cfdc7-e24a-4571-d7c4-ba052b2add65"
      },
      "execution_count": 7,
      "outputs": [
        {
          "output_type": "execute_result",
          "data": {
            "text/plain": [
              "FeaturesDict({\n",
              "    'image': Image(shape=(None, None, 3), dtype=tf.uint8),\n",
              "    'label': ClassLabel(shape=(), dtype=tf.int64, num_classes=101),\n",
              "})"
            ]
          },
          "metadata": {},
          "execution_count": 7
        }
      ]
    },
    {
      "cell_type": "code",
      "source": [
        "class_names= ds_info.features[\"label\"].names\n",
        "class_names"
      ],
      "metadata": {
        "colab": {
          "base_uri": "https://localhost:8080/"
        },
        "id": "puig0mTB8Jvg",
        "outputId": "b295ccf3-71a0-413e-e8f4-379c5f2017bf"
      },
      "execution_count": 8,
      "outputs": [
        {
          "output_type": "execute_result",
          "data": {
            "text/plain": [
              "['apple_pie',\n",
              " 'baby_back_ribs',\n",
              " 'baklava',\n",
              " 'beef_carpaccio',\n",
              " 'beef_tartare',\n",
              " 'beet_salad',\n",
              " 'beignets',\n",
              " 'bibimbap',\n",
              " 'bread_pudding',\n",
              " 'breakfast_burrito',\n",
              " 'bruschetta',\n",
              " 'caesar_salad',\n",
              " 'cannoli',\n",
              " 'caprese_salad',\n",
              " 'carrot_cake',\n",
              " 'ceviche',\n",
              " 'cheesecake',\n",
              " 'cheese_plate',\n",
              " 'chicken_curry',\n",
              " 'chicken_quesadilla',\n",
              " 'chicken_wings',\n",
              " 'chocolate_cake',\n",
              " 'chocolate_mousse',\n",
              " 'churros',\n",
              " 'clam_chowder',\n",
              " 'club_sandwich',\n",
              " 'crab_cakes',\n",
              " 'creme_brulee',\n",
              " 'croque_madame',\n",
              " 'cup_cakes',\n",
              " 'deviled_eggs',\n",
              " 'donuts',\n",
              " 'dumplings',\n",
              " 'edamame',\n",
              " 'eggs_benedict',\n",
              " 'escargots',\n",
              " 'falafel',\n",
              " 'filet_mignon',\n",
              " 'fish_and_chips',\n",
              " 'foie_gras',\n",
              " 'french_fries',\n",
              " 'french_onion_soup',\n",
              " 'french_toast',\n",
              " 'fried_calamari',\n",
              " 'fried_rice',\n",
              " 'frozen_yogurt',\n",
              " 'garlic_bread',\n",
              " 'gnocchi',\n",
              " 'greek_salad',\n",
              " 'grilled_cheese_sandwich',\n",
              " 'grilled_salmon',\n",
              " 'guacamole',\n",
              " 'gyoza',\n",
              " 'hamburger',\n",
              " 'hot_and_sour_soup',\n",
              " 'hot_dog',\n",
              " 'huevos_rancheros',\n",
              " 'hummus',\n",
              " 'ice_cream',\n",
              " 'lasagna',\n",
              " 'lobster_bisque',\n",
              " 'lobster_roll_sandwich',\n",
              " 'macaroni_and_cheese',\n",
              " 'macarons',\n",
              " 'miso_soup',\n",
              " 'mussels',\n",
              " 'nachos',\n",
              " 'omelette',\n",
              " 'onion_rings',\n",
              " 'oysters',\n",
              " 'pad_thai',\n",
              " 'paella',\n",
              " 'pancakes',\n",
              " 'panna_cotta',\n",
              " 'peking_duck',\n",
              " 'pho',\n",
              " 'pizza',\n",
              " 'pork_chop',\n",
              " 'poutine',\n",
              " 'prime_rib',\n",
              " 'pulled_pork_sandwich',\n",
              " 'ramen',\n",
              " 'ravioli',\n",
              " 'red_velvet_cake',\n",
              " 'risotto',\n",
              " 'samosa',\n",
              " 'sashimi',\n",
              " 'scallops',\n",
              " 'seaweed_salad',\n",
              " 'shrimp_and_grits',\n",
              " 'spaghetti_bolognese',\n",
              " 'spaghetti_carbonara',\n",
              " 'spring_rolls',\n",
              " 'steak',\n",
              " 'strawberry_shortcake',\n",
              " 'sushi',\n",
              " 'tacos',\n",
              " 'takoyaki',\n",
              " 'tiramisu',\n",
              " 'tuna_tartare',\n",
              " 'waffles']"
            ]
          },
          "metadata": {},
          "execution_count": 8
        }
      ]
    },
    {
      "cell_type": "code",
      "source": [
        "len(class_names)"
      ],
      "metadata": {
        "colab": {
          "base_uri": "https://localhost:8080/"
        },
        "id": "REe2MGlKAtAr",
        "outputId": "aaf3143a-28ca-4a6f-aa4e-b3da8f7de07f"
      },
      "execution_count": 9,
      "outputs": [
        {
          "output_type": "execute_result",
          "data": {
            "text/plain": [
              "101"
            ]
          },
          "metadata": {},
          "execution_count": 9
        }
      ]
    },
    {
      "cell_type": "code",
      "source": [
        "CLASS_COUNT= len(class_names)"
      ],
      "metadata": {
        "id": "nhV-hjfR8Uj2"
      },
      "execution_count": 10,
      "outputs": []
    },
    {
      "cell_type": "code",
      "source": [
        "def preprocess_img(image, label, img_shape=224):\n",
        "  \"\"\"\n",
        "  Converts image datatype from 'uint8' -> 'float32' and reshapes image to\n",
        "  [img_shape, img_shape, color_channels]\n",
        "  \"\"\"\n",
        "  image = tf.image.resize(image, [img_shape, img_shape]) # reshape to img_shape\n",
        "  return tf.cast(image, tf.float32), label # return (float32_image, label) tuple, tf.cast() changes the dtype intor float32."
      ],
      "metadata": {
        "id": "XohE2qwl8cc3"
      },
      "execution_count": 11,
      "outputs": []
    },
    {
      "cell_type": "code",
      "source": [
        "train_data"
      ],
      "metadata": {
        "colab": {
          "base_uri": "https://localhost:8080/"
        },
        "id": "oA6RLWwU851j",
        "outputId": "03005b8f-eb47-46b1-cfe6-2c639326f434"
      },
      "execution_count": 12,
      "outputs": [
        {
          "output_type": "execute_result",
          "data": {
            "text/plain": [
              "<PrefetchDataset element_spec=(TensorSpec(shape=(None, None, 3), dtype=tf.uint8, name=None), TensorSpec(shape=(), dtype=tf.int64, name=None))>"
            ]
          },
          "metadata": {},
          "execution_count": 12
        }
      ]
    },
    {
      "cell_type": "code",
      "source": [
        "test_data"
      ],
      "metadata": {
        "colab": {
          "base_uri": "https://localhost:8080/"
        },
        "id": "YwMbjTLX87Ff",
        "outputId": "6f6b37e8-2b1c-4df4-f789-d3fec0f96be3"
      },
      "execution_count": 13,
      "outputs": [
        {
          "output_type": "execute_result",
          "data": {
            "text/plain": [
              "<PrefetchDataset element_spec=(TensorSpec(shape=(None, None, 3), dtype=tf.uint8, name=None), TensorSpec(shape=(), dtype=tf.int64, name=None))>"
            ]
          },
          "metadata": {},
          "execution_count": 13
        }
      ]
    },
    {
      "cell_type": "code",
      "source": [
        "train_data= train_data.map(map_func= preprocess_img, num_parallel_calls= tf.data.AUTOTUNE)\n",
        "train_data= train_data.shuffle(buffer_size=1000).batch(batch_size=32).prefetch(buffer_size=tf.data.AUTOTUNE)\n",
        "test_data= test_data.map(preprocess_img, num_parallel_calls= tf.data.AUTOTUNE)\n",
        "test_data= test_data.batch(32).prefetch(tf.data.AUTOTUNE)"
      ],
      "metadata": {
        "id": "ZShKmoW68kIn"
      },
      "execution_count": 14,
      "outputs": []
    },
    {
      "cell_type": "code",
      "source": [
        "train_data, test_data"
      ],
      "metadata": {
        "colab": {
          "base_uri": "https://localhost:8080/"
        },
        "id": "hl0k2Gqy_R5z",
        "outputId": "62f4c34f-51f5-44c8-8dae-e8f9c25b3c18"
      },
      "execution_count": 15,
      "outputs": [
        {
          "output_type": "execute_result",
          "data": {
            "text/plain": [
              "(<PrefetchDataset element_spec=(TensorSpec(shape=(None, 224, 224, 3), dtype=tf.float32, name=None), TensorSpec(shape=(None,), dtype=tf.int64, name=None))>,\n",
              " <PrefetchDataset element_spec=(TensorSpec(shape=(None, 224, 224, 3), dtype=tf.float32, name=None), TensorSpec(shape=(None,), dtype=tf.int64, name=None))>)"
            ]
          },
          "metadata": {},
          "execution_count": 15
        }
      ]
    },
    {
      "cell_type": "code",
      "source": [
        "from helper_functions import  create_tensorboard_callback, model_check_point_callback, create_early_stopping_callback, reduce_learning_rate_callback"
      ],
      "metadata": {
        "id": "7vScpxzE_Ulx"
      },
      "execution_count": 16,
      "outputs": []
    },
    {
      "cell_type": "code",
      "source": [
        "augmented_layer=create_data_augmented_layer_for_model(RandomFlip=\"horizontal\", RandomRotation=0.2, RandomZoom=0.2, RandomHeight=0.2, RandomWidth=0.2)\n",
        "augmented_layer"
      ],
      "metadata": {
        "colab": {
          "base_uri": "https://localhost:8080/"
        },
        "id": "86HZAvnG8-87",
        "outputId": "b2d82287-7254-4181-9e4f-f92244e2a57e"
      },
      "execution_count": 17,
      "outputs": [
        {
          "output_type": "execute_result",
          "data": {
            "text/plain": [
              "<keras.engine.sequential.Sequential at 0x7fb275036ed0>"
            ]
          },
          "metadata": {},
          "execution_count": 17
        }
      ]
    },
    {
      "cell_type": "code",
      "source": [
        "def scheduler(epoch, lr):\n",
        "  if epoch < 5:\n",
        "    return lr\n",
        "  else:\n",
        "    return lr * tf.math.exp(-0.1)"
      ],
      "metadata": {
        "id": "yjzgMja-jZ3f"
      },
      "execution_count": 18,
      "outputs": []
    },
    {
      "cell_type": "code",
      "source": [
        "checkpoint_path= 'checkpoints/feature_extraction'\n",
        "\n",
        "checkpoint_callback= model_check_point_callback(checkpoint_path, save_weights_only=True, save_best_only=True, monitor=\"val_accuracy\")\n",
        "tensorboard_callback= create_tensorboard_callback(\"transfer_learning\", \"Food101_full_dataset_feature_extraction\")\n",
        "lr_scheduler_callback = tf.keras.callbacks.LearningRateScheduler(scheduler)"
      ],
      "metadata": {
        "colab": {
          "base_uri": "https://localhost:8080/"
        },
        "id": "rWhpnLJU_v2q",
        "outputId": "8ecd0324-0ba4-498a-8dc6-b11258e4546e"
      },
      "execution_count": 19,
      "outputs": [
        {
          "output_type": "stream",
          "name": "stdout",
          "text": [
            "Saving TensorBoard log files to: transfer_learning/Food101_full_dataset_feature_extraction/20220811-155009\n"
          ]
        }
      ]
    },
    {
      "cell_type": "code",
      "source": [
        "mixed_precision.set_global_policy(policy=\"mixed_float16\")"
      ],
      "metadata": {
        "id": "Otsx63aymBY8"
      },
      "execution_count": 20,
      "outputs": []
    },
    {
      "cell_type": "code",
      "source": [
        "mixed_precision.global_policy()"
      ],
      "metadata": {
        "colab": {
          "base_uri": "https://localhost:8080/"
        },
        "id": "m5xid2jImB_b",
        "outputId": "18f4f763-08f6-47a4-a1f8-4ad23b9124dc"
      },
      "execution_count": 21,
      "outputs": [
        {
          "output_type": "execute_result",
          "data": {
            "text/plain": [
              "<Policy \"mixed_float16\">"
            ]
          },
          "metadata": {},
          "execution_count": 21
        }
      ]
    },
    {
      "cell_type": "markdown",
      "source": [
        "## Base Model"
      ],
      "metadata": {
        "id": "McD2-D6XWOQD"
      }
    },
    {
      "cell_type": "code",
      "source": [
        "# # Create base model\n",
        "# input_shape = (224, 224, 3)\n",
        "# base_model = tf.keras.applications.EfficientNetB0(include_top=False)\n",
        "# base_model.trainable = False # freeze base model layers\n",
        "\n",
        "# # Create Functional model \n",
        "# inputs = layers.Input(shape=input_shape, name=\"input_layer\")\n",
        "# # Note: EfficientNetBX models have rescaling built-in but if your model didn't you could have a layer like below\n",
        "# # x = preprocessing.Rescaling(1./255)(x)\n",
        "# x = base_model(inputs, training=False) # set base_model to inference mode only\n",
        "# x = layers.GlobalAveragePooling2D(name=\"pooling_layer\")(x)\n",
        "# x = layers.Dense(len(class_names))(x) # want one output neuron per class \n",
        "# # Separate activation of output layer so we can output float32 activations\n",
        "# outputs = layers.Activation(\"softmax\", dtype=tf.float32, name=\"softmax_float32\")(x) \n",
        "# model = tf.keras.Model(inputs, outputs)\n",
        "\n",
        "# # Compile the model\n",
        "# model.compile(loss=\"sparse_categorical_crossentropy\", # Use sparse_categorical_crossentropy when labels are *not* one-hot\n",
        "#               optimizer=tf.keras.optimizers.Adam(),\n",
        "#               metrics=[\"accuracy\"])"
      ],
      "metadata": {
        "colab": {
          "base_uri": "https://localhost:8080/"
        },
        "id": "IDZho6r2mFSz",
        "outputId": "d5668059-608e-4a9a-94db-2beb2e209f60"
      },
      "execution_count": null,
      "outputs": [
        {
          "output_type": "stream",
          "name": "stdout",
          "text": [
            "Downloading data from https://storage.googleapis.com/keras-applications/efficientnetb0_notop.h5\n",
            "16711680/16705208 [==============================] - 0s 0us/step\n",
            "16719872/16705208 [==============================] - 0s 0us/step\n"
          ]
        }
      ]
    },
    {
      "cell_type": "code",
      "source": [
        "# model.summary()"
      ],
      "metadata": {
        "colab": {
          "base_uri": "https://localhost:8080/"
        },
        "id": "hTQZzmHtmPIA",
        "outputId": "c6b7886f-9b60-4e12-878b-5bbf553851cf"
      },
      "execution_count": null,
      "outputs": [
        {
          "output_type": "stream",
          "name": "stdout",
          "text": [
            "Model: \"model\"\n",
            "_________________________________________________________________\n",
            " Layer (type)                Output Shape              Param #   \n",
            "=================================================================\n",
            " input_layer (InputLayer)    [(None, 224, 224, 3)]     0         \n",
            "                                                                 \n",
            " efficientnetb0 (Functional)  (None, None, None, 1280)  4049571  \n",
            "                                                                 \n",
            " pooling_layer (GlobalAverag  (None, 1280)             0         \n",
            " ePooling2D)                                                     \n",
            "                                                                 \n",
            " dense (Dense)               (None, 101)               129381    \n",
            "                                                                 \n",
            " softmax_float32 (Activation  (None, 101)              0         \n",
            " )                                                               \n",
            "                                                                 \n",
            "=================================================================\n",
            "Total params: 4,178,952\n",
            "Trainable params: 129,381\n",
            "Non-trainable params: 4,049,571\n",
            "_________________________________________________________________\n"
          ]
        }
      ]
    },
    {
      "cell_type": "code",
      "source": [
        "# for layer in model.layers:\n",
        "#   print(layer.name, layer.trainable, layer.dtype, layer.dtype_policy)"
      ],
      "metadata": {
        "colab": {
          "base_uri": "https://localhost:8080/"
        },
        "id": "AOW9bqgHmRFH",
        "outputId": "29c3c1a5-2558-48d4-f7d1-ad69adae6774"
      },
      "execution_count": null,
      "outputs": [
        {
          "output_type": "stream",
          "name": "stdout",
          "text": [
            "input_layer True float32 <Policy \"float32\">\n",
            "efficientnetb0 False float32 <Policy \"mixed_float16\">\n",
            "pooling_layer True float32 <Policy \"mixed_float16\">\n",
            "dense True float32 <Policy \"mixed_float16\">\n",
            "softmax_float32 True float32 <Policy \"float32\">\n"
          ]
        }
      ]
    },
    {
      "cell_type": "code",
      "source": [
        "# for layer in model.layers[1].layers[:20]: # only check the first 20 layers to save output space\n",
        "#   print(layer.name, layer.trainable, layer.dtype, layer.dtype_policy)"
      ],
      "metadata": {
        "colab": {
          "base_uri": "https://localhost:8080/"
        },
        "id": "jh_Sk3bsmTnj",
        "outputId": "b528624e-0d2b-4d75-fb67-cae39cbc872f"
      },
      "execution_count": null,
      "outputs": [
        {
          "output_type": "stream",
          "name": "stdout",
          "text": [
            "input_1 False float32 <Policy \"float32\">\n",
            "rescaling False float32 <Policy \"mixed_float16\">\n",
            "normalization False float32 <Policy \"mixed_float16\">\n",
            "stem_conv_pad False float32 <Policy \"mixed_float16\">\n",
            "stem_conv False float32 <Policy \"mixed_float16\">\n",
            "stem_bn False float32 <Policy \"mixed_float16\">\n",
            "stem_activation False float32 <Policy \"mixed_float16\">\n",
            "block1a_dwconv False float32 <Policy \"mixed_float16\">\n",
            "block1a_bn False float32 <Policy \"mixed_float16\">\n",
            "block1a_activation False float32 <Policy \"mixed_float16\">\n",
            "block1a_se_squeeze False float32 <Policy \"mixed_float16\">\n",
            "block1a_se_reshape False float32 <Policy \"mixed_float16\">\n",
            "block1a_se_reduce False float32 <Policy \"mixed_float16\">\n",
            "block1a_se_expand False float32 <Policy \"mixed_float16\">\n",
            "block1a_se_excite False float32 <Policy \"mixed_float16\">\n",
            "block1a_project_conv False float32 <Policy \"mixed_float16\">\n",
            "block1a_project_bn False float32 <Policy \"mixed_float16\">\n",
            "block2a_expand_conv False float32 <Policy \"mixed_float16\">\n",
            "block2a_expand_bn False float32 <Policy \"mixed_float16\">\n",
            "block2a_expand_activation False float32 <Policy \"mixed_float16\">\n"
          ]
        }
      ]
    },
    {
      "cell_type": "code",
      "source": [
        "# history_101_food_classes_feature_extract = model.fit(train_data, epochs=3,steps_per_epoch=len(train_data), validation_data=test_data, validation_steps=int(0.15 * len(test_data)),callbacks=[tensorboard_callback, checkpoint_callback])"
      ],
      "metadata": {
        "colab": {
          "base_uri": "https://localhost:8080/"
        },
        "id": "1Cd0-yV3mXuK",
        "outputId": "8cbc676a-7616-4c00-cbff-4414caf8633f"
      },
      "execution_count": null,
      "outputs": [
        {
          "output_type": "stream",
          "name": "stdout",
          "text": [
            "Epoch 1/3\n",
            "2368/2368 [==============================] - ETA: 0s - loss: 1.8230 - accuracy: 0.5577\n",
            "Epoch 1: val_accuracy improved from -inf to 0.67797, saving model to checkpoints/feature_extraction\n",
            "2368/2368 [==============================] - 217s 83ms/step - loss: 1.8230 - accuracy: 0.5577 - val_loss: 1.2255 - val_accuracy: 0.6780\n",
            "Epoch 2/3\n",
            "2368/2368 [==============================] - ETA: 0s - loss: 1.2928 - accuracy: 0.6667\n",
            "Epoch 2: val_accuracy improved from 0.67797 to 0.70869, saving model to checkpoints/feature_extraction\n",
            "2368/2368 [==============================] - 193s 80ms/step - loss: 1.2928 - accuracy: 0.6667 - val_loss: 1.1254 - val_accuracy: 0.7087\n",
            "Epoch 3/3\n",
            "2368/2368 [==============================] - ETA: 0s - loss: 1.1425 - accuracy: 0.7014\n",
            "Epoch 3: val_accuracy did not improve from 0.70869\n",
            "2368/2368 [==============================] - 174s 73ms/step - loss: 1.1425 - accuracy: 0.7014 - val_loss: 1.0864 - val_accuracy: 0.7071\n"
          ]
        }
      ]
    },
    {
      "cell_type": "markdown",
      "source": [
        "## Base Model with Dropout layer\n",
        "\n",
        "> After 10 Epochs\n",
        "\n",
        "* loss: 1.0400\n",
        "* accuracy: 0.7157 \n",
        "* val_loss: 1.0780 \n",
        "* val_accuracy: 0.7055\n",
        "\n",
        "![image.png](data:image/png;base64,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)"
      ],
      "metadata": {
        "id": "7TuXOIV_WQka"
      }
    },
    {
      "cell_type": "code",
      "source": [
        "# # Create base model\n",
        "# input_shape = (224, 224, 3)\n",
        "# base_model = tf.keras.applications.EfficientNetB0(include_top=False)\n",
        "# base_model.trainable = False # freeze base model layers\n",
        "\n",
        "# # Create Functional model \n",
        "# inputs = layers.Input(shape=input_shape, name=\"input_layer\")\n",
        "# # Note: EfficientNetBX models have rescaling built-in but if your model didn't you could have a layer like below\n",
        "# # x = preprocessing.Rescaling(1./255)(x)\n",
        "# x = base_model(inputs, training=False) # set base_model to inference mode only\n",
        "# x = layers.GlobalAveragePooling2D(name=\"pooling_layer\")(x)\n",
        "# x=  tf.keras.layers.Dropout(0.2)(x) # Dropout Layer\n",
        "# x = layers.Dense(len(class_names))(x) # want one output neuron per class \n",
        "# # Separate activation of output layer so we can output float32 activations\n",
        "# outputs = layers.Activation(\"softmax\", dtype=tf.float32, name=\"softmax_float32\")(x) \n",
        "# model = tf.keras.Model(inputs, outputs)\n",
        "\n",
        "# # Compile the model\n",
        "# model.compile(loss=\"sparse_categorical_crossentropy\", # Use sparse_categorical_crossentropy when labels are *not* one-hot\n",
        "#               optimizer=tf.keras.optimizers.Adam(),\n",
        "#               metrics=[\"accuracy\"])"
      ],
      "metadata": {
        "id": "Mdz7ep2VVuyP"
      },
      "execution_count": 23,
      "outputs": []
    },
    {
      "cell_type": "code",
      "source": [
        "# model.summary()"
      ],
      "metadata": {
        "colab": {
          "base_uri": "https://localhost:8080/"
        },
        "id": "JHPEkzG3VvhP",
        "outputId": "0bc504ae-8714-4071-8267-627aa0313bac"
      },
      "execution_count": 24,
      "outputs": [
        {
          "output_type": "stream",
          "name": "stdout",
          "text": [
            "Model: \"model_1\"\n",
            "_________________________________________________________________\n",
            " Layer (type)                Output Shape              Param #   \n",
            "=================================================================\n",
            " input_layer (InputLayer)    [(None, 224, 224, 3)]     0         \n",
            "                                                                 \n",
            " efficientnetb0 (Functional)  (None, None, None, 1280)  4049571  \n",
            "                                                                 \n",
            " pooling_layer (GlobalAverag  (None, 1280)             0         \n",
            " ePooling2D)                                                     \n",
            "                                                                 \n",
            " dropout_1 (Dropout)         (None, 1280)              0         \n",
            "                                                                 \n",
            " dense_1 (Dense)             (None, 101)               129381    \n",
            "                                                                 \n",
            " softmax_float32 (Activation  (None, 101)              0         \n",
            " )                                                               \n",
            "                                                                 \n",
            "=================================================================\n",
            "Total params: 4,178,952\n",
            "Trainable params: 129,381\n",
            "Non-trainable params: 4,049,571\n",
            "_________________________________________________________________\n"
          ]
        }
      ]
    },
    {
      "cell_type": "code",
      "source": [
        "# history_101_food_classes_feature_extract = model.fit(train_data, epochs=10,steps_per_epoch=len(train_data), validation_data=test_data, validation_steps=int(0.15 * len(test_data)),callbacks=[tensorboard_callback, checkpoint_callback])"
      ],
      "metadata": {
        "colab": {
          "base_uri": "https://localhost:8080/"
        },
        "id": "Xl9LqoVLV4RK",
        "outputId": "1bf80624-94a7-4ada-9133-53938d19f724"
      },
      "execution_count": 26,
      "outputs": [
        {
          "output_type": "stream",
          "name": "stdout",
          "text": [
            "Epoch 1/10\n",
            "2368/2368 [==============================] - ETA: 0s - loss: 1.3972 - accuracy: 0.6404\n",
            "Epoch 1: val_accuracy improved from 0.67320 to 0.69439, saving model to checkpoints/feature_extraction\n",
            "2368/2368 [==============================] - 167s 69ms/step - loss: 1.3972 - accuracy: 0.6404 - val_loss: 1.1462 - val_accuracy: 0.6944\n",
            "Epoch 2/10\n",
            "2368/2368 [==============================] - ETA: 0s - loss: 1.2783 - accuracy: 0.6675\n",
            "Epoch 2: val_accuracy improved from 0.69439 to 0.70763, saving model to checkpoints/feature_extraction\n",
            "2368/2368 [==============================] - 161s 67ms/step - loss: 1.2783 - accuracy: 0.6675 - val_loss: 1.1100 - val_accuracy: 0.7076\n",
            "Epoch 3/10\n",
            "2368/2368 [==============================] - ETA: 0s - loss: 1.2068 - accuracy: 0.6806\n",
            "Epoch 3: val_accuracy did not improve from 0.70763\n",
            "2368/2368 [==============================] - 162s 68ms/step - loss: 1.2068 - accuracy: 0.6806 - val_loss: 1.0839 - val_accuracy: 0.7055\n",
            "Epoch 4/10\n",
            "2368/2368 [==============================] - ETA: 0s - loss: 1.1610 - accuracy: 0.6915\n",
            "Epoch 4: val_accuracy improved from 0.70763 to 0.71504, saving model to checkpoints/feature_extraction\n",
            "2368/2368 [==============================] - 166s 70ms/step - loss: 1.1610 - accuracy: 0.6915 - val_loss: 1.0726 - val_accuracy: 0.7150\n",
            "Epoch 5/10\n",
            "2368/2368 [==============================] - ETA: 0s - loss: 1.1263 - accuracy: 0.6995\n",
            "Epoch 5: val_accuracy did not improve from 0.71504\n",
            "2368/2368 [==============================] - 166s 69ms/step - loss: 1.1263 - accuracy: 0.6995 - val_loss: 1.0647 - val_accuracy: 0.7103\n",
            "Epoch 6/10\n",
            "2367/2368 [============================>.] - ETA: 0s - loss: 1.0970 - accuracy: 0.7046\n",
            "Epoch 6: val_accuracy did not improve from 0.71504\n",
            "2368/2368 [==============================] - 163s 68ms/step - loss: 1.0970 - accuracy: 0.7046 - val_loss: 1.0733 - val_accuracy: 0.7097\n",
            "Epoch 7/10\n",
            "2368/2368 [==============================] - ETA: 0s - loss: 1.0795 - accuracy: 0.7087\n",
            "Epoch 7: val_accuracy did not improve from 0.71504\n",
            "2368/2368 [==============================] - 162s 68ms/step - loss: 1.0795 - accuracy: 0.7087 - val_loss: 1.0586 - val_accuracy: 0.7135\n",
            "Epoch 8/10\n",
            "2367/2368 [============================>.] - ETA: 0s - loss: 1.0640 - accuracy: 0.7112\n",
            "Epoch 8: val_accuracy did not improve from 0.71504\n",
            "2368/2368 [==============================] - 163s 68ms/step - loss: 1.0641 - accuracy: 0.7112 - val_loss: 1.0725 - val_accuracy: 0.7119\n",
            "Epoch 9/10\n",
            "2368/2368 [==============================] - ETA: 0s - loss: 1.0473 - accuracy: 0.7147\n",
            "Epoch 9: val_accuracy did not improve from 0.71504\n",
            "2368/2368 [==============================] - 175s 73ms/step - loss: 1.0473 - accuracy: 0.7147 - val_loss: 1.0661 - val_accuracy: 0.7108\n",
            "Epoch 10/10\n",
            "2368/2368 [==============================] - ETA: 0s - loss: 1.0400 - accuracy: 0.7157\n",
            "Epoch 10: val_accuracy did not improve from 0.71504\n",
            "2368/2368 [==============================] - 167s 70ms/step - loss: 1.0400 - accuracy: 0.7157 - val_loss: 1.0780 - val_accuracy: 0.7055\n"
          ]
        }
      ]
    },
    {
      "cell_type": "markdown",
      "source": [
        "## Base Model With Dropout and Regularization Layer\n",
        "\n",
        "### After 10 Epochs\n",
        "\n",
        "* loss: 1.4534\n",
        "* accuracy: 0.6627\n",
        "* val_loss: 1.3086\n",
        "* val_accuracy: 0.6947\n",
        "\n",
        "![image.png](data:image/png;base64,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)\n",
        "\n",
        "### Fine-Tuning Graph\n",
        "\n",
        "![image.png](data:image/png;base64,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)"
      ],
      "metadata": {
        "id": "Ml5otKmiHY7b"
      }
    },
    {
      "cell_type": "code",
      "source": [
        "# # Create base model\n",
        "# input_shape = (224, 224, 3)\n",
        "# base_model = tf.keras.applications.EfficientNetB0(include_top=False)\n",
        "# base_model.trainable = False # freeze base model layers\n",
        "\n",
        "# # Create Functional model \n",
        "# inputs = layers.Input(shape=input_shape, name=\"input_layer\")\n",
        "# # Note: EfficientNetBX models have rescaling built-in but if your model didn't you could have a layer like below\n",
        "# # x = preprocessing.Rescaling(1./255)(x)\n",
        "# x = base_model(inputs, training=False) # set base_model to inference mode only\n",
        "# x = layers.GlobalAveragePooling2D(name=\"pooling_layer\")(x)\n",
        "# x=  tf.keras.layers.Dropout(0.2)(x) # Dropout Layer\n",
        "# x= layers.Dense(units= CLASS_COUNT,kernel_regularizer=regularizers.L1L2(l1=1e-5, l2=1e-4),bias_regularizer=regularizers.L2(1e-4), activity_regularizer=regularizers.L2(1e-5))(x) # Regularization Layer\n",
        "# x = layers.Dense(CLASS_COUNT)(x) # want one output neuron per class \n",
        "# # Separate activation of output layer so we can output float32 activations\n",
        "# outputs = layers.Activation(\"softmax\", dtype=tf.float32, name=\"softmax_float32\")(x) \n",
        "# model = tf.keras.Model(inputs, outputs)\n",
        "\n",
        "# # Compile the model\n",
        "# model.compile(loss=\"sparse_categorical_crossentropy\", # Use sparse_categorical_crossentropy when labels are *not* one-hot\n",
        "#               optimizer=tf.keras.optimizers.Adam(),\n",
        "#               metrics=[\"accuracy\"])"
      ],
      "metadata": {
        "colab": {
          "base_uri": "https://localhost:8080/"
        },
        "id": "3_g4d2wRHOqP",
        "outputId": "7d450148-a264-4e1f-b567-e7d3a895d10f"
      },
      "execution_count": 20,
      "outputs": [
        {
          "output_type": "stream",
          "name": "stdout",
          "text": [
            "Downloading data from https://storage.googleapis.com/keras-applications/efficientnetb0_notop.h5\n",
            "16711680/16705208 [==============================] - 0s 0us/step\n",
            "16719872/16705208 [==============================] - 0s 0us/step\n"
          ]
        }
      ]
    },
    {
      "cell_type": "code",
      "source": [
        "# model.summary()"
      ],
      "metadata": {
        "colab": {
          "base_uri": "https://localhost:8080/"
        },
        "id": "_vAnvvKkHSVu",
        "outputId": "facef56b-b0d3-4c46-9b3a-1560d2f636d8"
      },
      "execution_count": 21,
      "outputs": [
        {
          "output_type": "stream",
          "name": "stdout",
          "text": [
            "Model: \"model\"\n",
            "_________________________________________________________________\n",
            " Layer (type)                Output Shape              Param #   \n",
            "=================================================================\n",
            " input_layer (InputLayer)    [(None, 224, 224, 3)]     0         \n",
            "                                                                 \n",
            " efficientnetb0 (Functional)  (None, None, None, 1280)  4049571  \n",
            "                                                                 \n",
            " pooling_layer (GlobalAverag  (None, 1280)             0         \n",
            " ePooling2D)                                                     \n",
            "                                                                 \n",
            " dropout (Dropout)           (None, 1280)              0         \n",
            "                                                                 \n",
            " dense (Dense)               (None, 101)               129381    \n",
            "                                                                 \n",
            " dense_1 (Dense)             (None, 101)               10302     \n",
            "                                                                 \n",
            " softmax_float32 (Activation  (None, 101)              0         \n",
            " )                                                               \n",
            "                                                                 \n",
            "=================================================================\n",
            "Total params: 4,189,254\n",
            "Trainable params: 139,683\n",
            "Non-trainable params: 4,049,571\n",
            "_________________________________________________________________\n"
          ]
        }
      ]
    },
    {
      "cell_type": "code",
      "source": [
        "# history_101_food_classes_feature_extract = model.fit(train_data, epochs=10,steps_per_epoch=len(train_data), validation_data=test_data, validation_steps=int(0.15 * len(test_data)),callbacks=[tensorboard_callback, checkpoint_callback])"
      ],
      "metadata": {
        "colab": {
          "base_uri": "https://localhost:8080/"
        },
        "id": "POde8aZ9HR6D",
        "outputId": "47ebf3de-72b6-470c-d522-520654b22924"
      },
      "execution_count": 22,
      "outputs": [
        {
          "output_type": "stream",
          "name": "stdout",
          "text": [
            "Epoch 1/10\n",
            "2368/2368 [==============================] - ETA: 0s - loss: 1.9965 - accuracy: 0.5216\n",
            "Epoch 1: val_accuracy improved from -inf to 0.65440, saving model to checkpoints/feature_extraction\n",
            "2368/2368 [==============================] - 195s 74ms/step - loss: 1.9965 - accuracy: 0.5216 - val_loss: 1.3911 - val_accuracy: 0.6544\n",
            "Epoch 2/10\n",
            "2368/2368 [==============================] - ETA: 0s - loss: 1.6093 - accuracy: 0.6129\n",
            "Epoch 2: val_accuracy improved from 0.65440 to 0.68326, saving model to checkpoints/feature_extraction\n",
            "2368/2368 [==============================] - 177s 74ms/step - loss: 1.6093 - accuracy: 0.6129 - val_loss: 1.3170 - val_accuracy: 0.6833\n",
            "Epoch 3/10\n",
            "2368/2368 [==============================] - ETA: 0s - loss: 1.5417 - accuracy: 0.6330\n",
            "Epoch 3: val_accuracy improved from 0.68326 to 0.69280, saving model to checkpoints/feature_extraction\n",
            "2368/2368 [==============================] - 167s 70ms/step - loss: 1.5417 - accuracy: 0.6330 - val_loss: 1.2966 - val_accuracy: 0.6928\n",
            "Epoch 4/10\n",
            "2368/2368 [==============================] - ETA: 0s - loss: 1.5118 - accuracy: 0.6427\n",
            "Epoch 4: val_accuracy did not improve from 0.69280\n",
            "2368/2368 [==============================] - 169s 71ms/step - loss: 1.5118 - accuracy: 0.6427 - val_loss: 1.3090 - val_accuracy: 0.6928\n",
            "Epoch 5/10\n",
            "2368/2368 [==============================] - ETA: 0s - loss: 1.4913 - accuracy: 0.6501\n",
            "Epoch 5: val_accuracy improved from 0.69280 to 0.69756, saving model to checkpoints/feature_extraction\n",
            "2368/2368 [==============================] - 167s 70ms/step - loss: 1.4913 - accuracy: 0.6501 - val_loss: 1.2885 - val_accuracy: 0.6976\n",
            "Epoch 6/10\n",
            "2367/2368 [============================>.] - ETA: 0s - loss: 1.4801 - accuracy: 0.6539\n",
            "Epoch 6: val_accuracy did not improve from 0.69756\n",
            "2368/2368 [==============================] - 168s 70ms/step - loss: 1.4801 - accuracy: 0.6539 - val_loss: 1.3150 - val_accuracy: 0.6936\n",
            "Epoch 7/10\n",
            "2368/2368 [==============================] - ETA: 0s - loss: 1.4669 - accuracy: 0.6595\n",
            "Epoch 7: val_accuracy improved from 0.69756 to 0.70074, saving model to checkpoints/feature_extraction\n",
            "2368/2368 [==============================] - 168s 70ms/step - loss: 1.4669 - accuracy: 0.6595 - val_loss: 1.3018 - val_accuracy: 0.7007\n",
            "Epoch 8/10\n",
            "2368/2368 [==============================] - ETA: 0s - loss: 1.4640 - accuracy: 0.6604\n",
            "Epoch 8: val_accuracy did not improve from 0.70074\n",
            "2368/2368 [==============================] - 162s 68ms/step - loss: 1.4640 - accuracy: 0.6604 - val_loss: 1.3204 - val_accuracy: 0.6976\n",
            "Epoch 9/10\n",
            "2368/2368 [==============================] - ETA: 0s - loss: 1.4569 - accuracy: 0.6633\n",
            "Epoch 9: val_accuracy improved from 0.70074 to 0.70524, saving model to checkpoints/feature_extraction\n",
            "2368/2368 [==============================] - 165s 69ms/step - loss: 1.4569 - accuracy: 0.6633 - val_loss: 1.3052 - val_accuracy: 0.7052\n",
            "Epoch 10/10\n",
            "2367/2368 [============================>.] - ETA: 0s - loss: 1.4534 - accuracy: 0.6627\n",
            "Epoch 10: val_accuracy did not improve from 0.70524\n",
            "2368/2368 [==============================] - 162s 68ms/step - loss: 1.4534 - accuracy: 0.6627 - val_loss: 1.3086 - val_accuracy: 0.6947\n"
          ]
        }
      ]
    },
    {
      "cell_type": "markdown",
      "source": [
        "## Base Model with Dropout, Regularization and Augmented Layer\n",
        "\n",
        "### After 10 Epochs\n",
        "\n",
        "\n",
        "* loss: 1.4529\n",
        "* accuracy: 0.6640\n",
        "* val_loss: 1.3060\n",
        "* val_accuracy: 0.6976\n",
        "\n",
        "\n",
        "![image.png](data:image/png;base64,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)\n",
        "\n",
        "### After Fine-Tuning Model\n",
        "\n",
        "![image.png](data:image/png;base64,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)"
      ],
      "metadata": {
        "id": "q6zWhmY_ATwC"
      }
    },
    {
      "cell_type": "code",
      "source": [
        "# # Create base model\n",
        "# input_shape = (224, 224, 3)\n",
        "# base_model = tf.keras.applications.EfficientNetB0(include_top=False)\n",
        "# base_model.trainable = False # freeze base model layers\n",
        "\n",
        "# # Create Functional model \n",
        "# inputs = layers.Input(shape=input_shape, name=\"input_layer\")\n",
        "# # Note: EfficientNetBX models have rescaling built-in but if your model didn't you could have a layer like below\n",
        "# # x = preprocessing.Rescaling(1./255)(x)\n",
        "# x= augmented_layer(inputs)\n",
        "# x = base_model(inputs, training=False) # set base_model to inference mode only\n",
        "# x = layers.GlobalAveragePooling2D(name=\"pooling_layer\")(x)\n",
        "# x=  tf.keras.layers.Dropout(0.2)(x) # Dropout Layer\n",
        "# x= layers.Dense(units= CLASS_COUNT,kernel_regularizer=regularizers.L1L2(l1=1e-5, l2=1e-4),bias_regularizer=regularizers.L2(1e-4), activity_regularizer=regularizers.L2(1e-5))(x) # Regularization Layer\n",
        "# x = layers.Dense(CLASS_COUNT)(x) # want one output neuron per class \n",
        "# # Separate activation of output layer so we can output float32 activations\n",
        "# outputs = layers.Activation(\"softmax\", dtype=tf.float32, name=\"softmax_float32\")(x) \n",
        "# model = tf.keras.Model(inputs, outputs)\n",
        "\n",
        "# # Compile the model\n",
        "# model.compile(loss=\"sparse_categorical_crossentropy\", # Use sparse_categorical_crossentropy when labels are *not* one-hot\n",
        "#               optimizer=tf.keras.optimizers.Adam(),\n",
        "#               metrics=[\"accuracy\"])"
      ],
      "metadata": {
        "colab": {
          "base_uri": "https://localhost:8080/"
        },
        "id": "ThcvxFCiATWz",
        "outputId": "0f459937-6cae-4427-f5f4-7cf735cd2540"
      },
      "execution_count": 21,
      "outputs": [
        {
          "output_type": "stream",
          "name": "stdout",
          "text": [
            "Downloading data from https://storage.googleapis.com/keras-applications/efficientnetb0_notop.h5\n",
            "16711680/16705208 [==============================] - 0s 0us/step\n",
            "16719872/16705208 [==============================] - 0s 0us/step\n"
          ]
        }
      ]
    },
    {
      "cell_type": "code",
      "source": [
        "# model.summary()"
      ],
      "metadata": {
        "colab": {
          "base_uri": "https://localhost:8080/"
        },
        "id": "f0_EO62qAeMw",
        "outputId": "702e0ffa-9705-4881-f062-f081c6e0e723"
      },
      "execution_count": 22,
      "outputs": [
        {
          "output_type": "stream",
          "name": "stdout",
          "text": [
            "Model: \"model\"\n",
            "_________________________________________________________________\n",
            " Layer (type)                Output Shape              Param #   \n",
            "=================================================================\n",
            " input_layer (InputLayer)    [(None, 224, 224, 3)]     0         \n",
            "                                                                 \n",
            " efficientnetb0 (Functional)  (None, None, None, 1280)  4049571  \n",
            "                                                                 \n",
            " pooling_layer (GlobalAverag  (None, 1280)             0         \n",
            " ePooling2D)                                                     \n",
            "                                                                 \n",
            " dropout (Dropout)           (None, 1280)              0         \n",
            "                                                                 \n",
            " dense (Dense)               (None, 101)               129381    \n",
            "                                                                 \n",
            " dense_1 (Dense)             (None, 101)               10302     \n",
            "                                                                 \n",
            " softmax_float32 (Activation  (None, 101)              0         \n",
            " )                                                               \n",
            "                                                                 \n",
            "=================================================================\n",
            "Total params: 4,189,254\n",
            "Trainable params: 139,683\n",
            "Non-trainable params: 4,049,571\n",
            "_________________________________________________________________\n"
          ]
        }
      ]
    },
    {
      "cell_type": "code",
      "source": [
        "# history_101_food_classes_feature_extract = model.fit(train_data, epochs=10,steps_per_epoch=len(train_data), validation_data=test_data, validation_steps=int(0.15 * len(test_data)),callbacks=[tensorboard_callback, checkpoint_callback])"
      ],
      "metadata": {
        "colab": {
          "base_uri": "https://localhost:8080/"
        },
        "id": "BYSjeoaIAeqc",
        "outputId": "cae25af5-a5d9-4bc7-dec0-c9c38b3bd5fb"
      },
      "execution_count": 23,
      "outputs": [
        {
          "output_type": "stream",
          "name": "stdout",
          "text": [
            "Epoch 1/10\n",
            "2368/2368 [==============================] - ETA: 0s - loss: 1.9951 - accuracy: 0.5243\n",
            "Epoch 1: val_accuracy improved from -inf to 0.66499, saving model to checkpoints/feature_extraction\n",
            "2368/2368 [==============================] - 189s 71ms/step - loss: 1.9951 - accuracy: 0.5243 - val_loss: 1.3651 - val_accuracy: 0.6650\n",
            "Epoch 2/10\n",
            "2368/2368 [==============================] - ETA: 0s - loss: 1.6112 - accuracy: 0.6118\n",
            "Epoch 2: val_accuracy improved from 0.66499 to 0.68035, saving model to checkpoints/feature_extraction\n",
            "2368/2368 [==============================] - 170s 71ms/step - loss: 1.6112 - accuracy: 0.6118 - val_loss: 1.3174 - val_accuracy: 0.6803\n",
            "Epoch 3/10\n",
            "2368/2368 [==============================] - ETA: 0s - loss: 1.5400 - accuracy: 0.6331\n",
            "Epoch 3: val_accuracy improved from 0.68035 to 0.69359, saving model to checkpoints/feature_extraction\n",
            "2368/2368 [==============================] - 167s 70ms/step - loss: 1.5400 - accuracy: 0.6331 - val_loss: 1.3026 - val_accuracy: 0.6936\n",
            "Epoch 4/10\n",
            "2368/2368 [==============================] - ETA: 0s - loss: 1.5064 - accuracy: 0.6460\n",
            "Epoch 4: val_accuracy did not improve from 0.69359\n",
            "2368/2368 [==============================] - 167s 70ms/step - loss: 1.5064 - accuracy: 0.6460 - val_loss: 1.2991 - val_accuracy: 0.6878\n",
            "Epoch 5/10\n",
            "2367/2368 [============================>.] - ETA: 0s - loss: 1.4854 - accuracy: 0.6502\n",
            "Epoch 5: val_accuracy did not improve from 0.69359\n",
            "2368/2368 [==============================] - 167s 70ms/step - loss: 1.4854 - accuracy: 0.6502 - val_loss: 1.2979 - val_accuracy: 0.6909\n",
            "Epoch 6/10\n",
            "2367/2368 [============================>.] - ETA: 0s - loss: 1.4772 - accuracy: 0.6541\n",
            "Epoch 6: val_accuracy improved from 0.69359 to 0.69650, saving model to checkpoints/feature_extraction\n",
            "2368/2368 [==============================] - 172s 72ms/step - loss: 1.4772 - accuracy: 0.6541 - val_loss: 1.2945 - val_accuracy: 0.6965\n",
            "Epoch 7/10\n",
            "2367/2368 [============================>.] - ETA: 0s - loss: 1.4677 - accuracy: 0.6585\n",
            "Epoch 7: val_accuracy did not improve from 0.69650\n",
            "2368/2368 [==============================] - 175s 73ms/step - loss: 1.4676 - accuracy: 0.6585 - val_loss: 1.3014 - val_accuracy: 0.6952\n",
            "Epoch 8/10\n",
            "2368/2368 [==============================] - ETA: 0s - loss: 1.4616 - accuracy: 0.6598\n",
            "Epoch 8: val_accuracy did not improve from 0.69650\n",
            "2368/2368 [==============================] - 169s 71ms/step - loss: 1.4616 - accuracy: 0.6598 - val_loss: 1.3005 - val_accuracy: 0.6931\n",
            "Epoch 9/10\n",
            "2368/2368 [==============================] - ETA: 0s - loss: 1.4572 - accuracy: 0.6624\n",
            "Epoch 9: val_accuracy did not improve from 0.69650\n",
            "2368/2368 [==============================] - 166s 70ms/step - loss: 1.4572 - accuracy: 0.6624 - val_loss: 1.3253 - val_accuracy: 0.6809\n",
            "Epoch 10/10\n",
            "2367/2368 [============================>.] - ETA: 0s - loss: 1.4528 - accuracy: 0.6640\n",
            "Epoch 10: val_accuracy improved from 0.69650 to 0.69756, saving model to checkpoints/feature_extraction\n",
            "2368/2368 [==============================] - 162s 68ms/step - loss: 1.4529 - accuracy: 0.6640 - val_loss: 1.3060 - val_accuracy: 0.6976\n"
          ]
        }
      ]
    },
    {
      "cell_type": "markdown",
      "source": [
        "## Base Model with Augmented, Dropout, Regularization layers. Adding `Learning Rate Scheduler`\n",
        "\n",
        "**Docs** -> https://www.tensorflow.org/api_docs/python/tf/keras/callbacks/LearningRateScheduler\n",
        "\n",
        "### After 10 Epochs\n",
        "\n",
        "\n",
        "* loss: 1.3465\n",
        "* accuracy: 0.6848\n",
        "* val_loss: 1.2475\n",
        "* val_accuracy: 0.7076\n",
        "* lr: 6.0653e-04\n",
        "\n",
        "\n",
        "![image.png](data:image/png;base64,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)\n",
        "\n",
        "\n",
        "### After Fine-Tuning\n",
        "\n",
        "![image.png](data:image/png;base64,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)\n",
        "\n"
      ],
      "metadata": {
        "id": "LSppfktiilKG"
      }
    },
    {
      "cell_type": "code",
      "source": [
        "# Create base model\n",
        "input_shape = (224, 224, 3)\n",
        "base_model = tf.keras.applications.EfficientNetB0(include_top=False)\n",
        "base_model.trainable = False # freeze base model layers\n",
        "\n",
        "# Create Functional model \n",
        "inputs = layers.Input(shape=input_shape, name=\"input_layer\")\n",
        "# Note: EfficientNetBX models have rescaling built-in but if your model didn't you could have a layer like below\n",
        "# x = preprocessing.Rescaling(1./255)(x)\n",
        "x= augmented_layer(inputs)\n",
        "x = base_model(inputs, training=False) # set base_model to inference mode only\n",
        "x = layers.GlobalAveragePooling2D(name=\"pooling_layer\")(x)\n",
        "x=  tf.keras.layers.Dropout(0.2)(x) # Dropout Layer\n",
        "x= layers.Dense(units= CLASS_COUNT,kernel_regularizer=regularizers.L1L2(l1=1e-5, l2=1e-4),bias_regularizer=regularizers.L2(1e-4), activity_regularizer=regularizers.L2(1e-5))(x) # Regularization Layer\n",
        "x = layers.Dense(CLASS_COUNT)(x) # want one output neuron per class \n",
        "# Separate activation of output layer so we can output float32 activations\n",
        "outputs = layers.Activation(\"softmax\", dtype=tf.float32, name=\"softmax_float32\")(x) \n",
        "model = tf.keras.Model(inputs, outputs)\n",
        "\n",
        "# Compile the model\n",
        "model.compile(loss=\"sparse_categorical_crossentropy\", # Use sparse_categorical_crossentropy when labels are *not* one-hot\n",
        "              optimizer=tf.keras.optimizers.Adam(),\n",
        "              metrics=[\"accuracy\"])"
      ],
      "metadata": {
        "colab": {
          "base_uri": "https://localhost:8080/"
        },
        "id": "Js4zAhQAi2fe",
        "outputId": "b15e9952-456d-4471-b005-0177fc69c085"
      },
      "execution_count": 22,
      "outputs": [
        {
          "output_type": "stream",
          "name": "stdout",
          "text": [
            "Downloading data from https://storage.googleapis.com/keras-applications/efficientnetb0_notop.h5\n",
            "16711680/16705208 [==============================] - 1s 0us/step\n",
            "16719872/16705208 [==============================] - 1s 0us/step\n"
          ]
        }
      ]
    },
    {
      "cell_type": "code",
      "source": [
        "model.summary()"
      ],
      "metadata": {
        "colab": {
          "base_uri": "https://localhost:8080/"
        },
        "id": "fqg9pMHLi5As",
        "outputId": "a5939e9c-095c-46d9-d0e0-58ee461313a1"
      },
      "execution_count": 23,
      "outputs": [
        {
          "output_type": "stream",
          "name": "stdout",
          "text": [
            "Model: \"model\"\n",
            "_________________________________________________________________\n",
            " Layer (type)                Output Shape              Param #   \n",
            "=================================================================\n",
            " input_layer (InputLayer)    [(None, 224, 224, 3)]     0         \n",
            "                                                                 \n",
            " efficientnetb0 (Functional)  (None, None, None, 1280)  4049571  \n",
            "                                                                 \n",
            " pooling_layer (GlobalAverag  (None, 1280)             0         \n",
            " ePooling2D)                                                     \n",
            "                                                                 \n",
            " dropout (Dropout)           (None, 1280)              0         \n",
            "                                                                 \n",
            " dense (Dense)               (None, 101)               129381    \n",
            "                                                                 \n",
            " dense_1 (Dense)             (None, 101)               10302     \n",
            "                                                                 \n",
            " softmax_float32 (Activation  (None, 101)              0         \n",
            " )                                                               \n",
            "                                                                 \n",
            "=================================================================\n",
            "Total params: 4,189,254\n",
            "Trainable params: 139,683\n",
            "Non-trainable params: 4,049,571\n",
            "_________________________________________________________________\n"
          ]
        }
      ]
    },
    {
      "cell_type": "code",
      "source": [
        "history_101_food_classes_feature_extract = model.fit(train_data, epochs=10,steps_per_epoch=len(train_data), validation_data=test_data, validation_steps=int(0.15 * len(test_data)),callbacks=[tensorboard_callback, checkpoint_callback, lr_scheduler_callback])"
      ],
      "metadata": {
        "colab": {
          "base_uri": "https://localhost:8080/"
        },
        "id": "XigQfQVGi-HH",
        "outputId": "9f0debc1-753d-4935-f53a-19fcf340f0c0"
      },
      "execution_count": 24,
      "outputs": [
        {
          "output_type": "stream",
          "name": "stdout",
          "text": [
            "Epoch 1/10\n",
            "2368/2368 [==============================] - ETA: 0s - loss: 1.9916 - accuracy: 0.5229\n",
            "Epoch 1: val_accuracy improved from -inf to 0.66472, saving model to checkpoints/feature_extraction\n",
            "2368/2368 [==============================] - 191s 72ms/step - loss: 1.9916 - accuracy: 0.5229 - val_loss: 1.3729 - val_accuracy: 0.6647 - lr: 0.0010\n",
            "Epoch 2/10\n",
            "2368/2368 [==============================] - ETA: 0s - loss: 1.6090 - accuracy: 0.6128\n",
            "Epoch 2: val_accuracy improved from 0.66472 to 0.68300, saving model to checkpoints/feature_extraction\n",
            "2368/2368 [==============================] - 173s 72ms/step - loss: 1.6090 - accuracy: 0.6128 - val_loss: 1.3147 - val_accuracy: 0.6830 - lr: 0.0010\n",
            "Epoch 3/10\n",
            "2367/2368 [============================>.] - ETA: 0s - loss: 1.5415 - accuracy: 0.6317\n",
            "Epoch 3: val_accuracy did not improve from 0.68300\n",
            "2368/2368 [==============================] - 165s 69ms/step - loss: 1.5415 - accuracy: 0.6316 - val_loss: 1.3023 - val_accuracy: 0.6814 - lr: 0.0010\n",
            "Epoch 4/10\n",
            "2367/2368 [============================>.] - ETA: 0s - loss: 1.5103 - accuracy: 0.6434\n",
            "Epoch 4: val_accuracy improved from 0.68300 to 0.69041, saving model to checkpoints/feature_extraction\n",
            "2368/2368 [==============================] - 165s 69ms/step - loss: 1.5104 - accuracy: 0.6434 - val_loss: 1.2949 - val_accuracy: 0.6904 - lr: 0.0010\n",
            "Epoch 5/10\n",
            "2367/2368 [============================>.] - ETA: 0s - loss: 1.4916 - accuracy: 0.6501\n",
            "Epoch 5: val_accuracy improved from 0.69041 to 0.69280, saving model to checkpoints/feature_extraction\n",
            "2368/2368 [==============================] - 165s 69ms/step - loss: 1.4915 - accuracy: 0.6501 - val_loss: 1.2988 - val_accuracy: 0.6928 - lr: 0.0010\n",
            "Epoch 6/10\n",
            "2368/2368 [==============================] - ETA: 0s - loss: 1.4563 - accuracy: 0.6623\n",
            "Epoch 6: val_accuracy did not improve from 0.69280\n",
            "2368/2368 [==============================] - 164s 69ms/step - loss: 1.4563 - accuracy: 0.6623 - val_loss: 1.2876 - val_accuracy: 0.6909 - lr: 9.0484e-04\n",
            "Epoch 7/10\n",
            "2367/2368 [============================>.] - ETA: 0s - loss: 1.4247 - accuracy: 0.6693\n",
            "Epoch 7: val_accuracy improved from 0.69280 to 0.69492, saving model to checkpoints/feature_extraction\n",
            "2368/2368 [==============================] - 161s 67ms/step - loss: 1.4248 - accuracy: 0.6693 - val_loss: 1.2893 - val_accuracy: 0.6949 - lr: 8.1873e-04\n",
            "Epoch 8/10\n",
            "2368/2368 [==============================] - ETA: 0s - loss: 1.3975 - accuracy: 0.6745\n",
            "Epoch 8: val_accuracy did not improve from 0.69492\n",
            "2368/2368 [==============================] - 162s 68ms/step - loss: 1.3975 - accuracy: 0.6745 - val_loss: 1.3011 - val_accuracy: 0.6928 - lr: 7.4082e-04\n",
            "Epoch 9/10\n",
            "2367/2368 [============================>.] - ETA: 0s - loss: 1.3695 - accuracy: 0.6806\n",
            "Epoch 9: val_accuracy improved from 0.69492 to 0.70630, saving model to checkpoints/feature_extraction\n",
            "2368/2368 [==============================] - 165s 69ms/step - loss: 1.3694 - accuracy: 0.6806 - val_loss: 1.2632 - val_accuracy: 0.7063 - lr: 6.7032e-04\n",
            "Epoch 10/10\n",
            "2368/2368 [==============================] - ETA: 0s - loss: 1.3465 - accuracy: 0.6848\n",
            "Epoch 10: val_accuracy improved from 0.70630 to 0.70763, saving model to checkpoints/feature_extraction\n",
            "2368/2368 [==============================] - 166s 69ms/step - loss: 1.3465 - accuracy: 0.6848 - val_loss: 1.2475 - val_accuracy: 0.7076 - lr: 6.0653e-04\n"
          ]
        }
      ]
    },
    {
      "cell_type": "code",
      "source": [
        "results_feature_extract_model = model.evaluate(test_data)\n",
        "results_feature_extract_model"
      ],
      "metadata": {
        "colab": {
          "base_uri": "https://localhost:8080/"
        },
        "id": "vvX_nHqqmqrn",
        "outputId": "6037958f-ebf8-4a93-fe21-8cfbbe55c082"
      },
      "execution_count": 25,
      "outputs": [
        {
          "output_type": "stream",
          "name": "stdout",
          "text": [
            "790/790 [==============================] - 48s 61ms/step - loss: 1.2540 - accuracy: 0.7038\n"
          ]
        },
        {
          "output_type": "execute_result",
          "data": {
            "text/plain": [
              "[1.2540360689163208, 0.7037623524665833]"
            ]
          },
          "metadata": {},
          "execution_count": 25
        }
      ]
    },
    {
      "cell_type": "code",
      "source": [
        "plot_loss_curves(history_101_food_classes_feature_extract)"
      ],
      "metadata": {
        "colab": {
          "base_uri": "https://localhost:8080/",
          "height": 573
        },
        "id": "bThjQkex6kJI",
        "outputId": "d134151c-5c5b-4a98-a811-34a10b490977"
      },
      "execution_count": 26,
      "outputs": [
        {
          "output_type": "display_data",
          "data": {
            "text/plain": [
              "<Figure size 432x288 with 1 Axes>"
            ],
            "image/png": "[encoded data removed]"
          },
          "metadata": {
            "needs_background": "light"
          }
        },
        {
          "output_type": "display_data",
          "data": {
            "text/plain": [
              "<Figure size 432x288 with 1 Axes>"
            ],
            "image/png": "[encoded data removed]"
          },
          "metadata": {
            "needs_background": "light"
          }
        }
      ]
    },
    {
      "cell_type": "code",
      "source": [
        "cloned_model = tf.keras.models.clone_model(model)\n",
        "cloned_model.summary()"
      ],
      "metadata": {
        "colab": {
          "base_uri": "https://localhost:8080/"
        },
        "id": "xIYTA6kxmrJ9",
        "outputId": "3a17f745-1683-4603-dc84-59001d8111fd"
      },
      "execution_count": 27,
      "outputs": [
        {
          "output_type": "stream",
          "name": "stdout",
          "text": [
            "Model: \"model\"\n",
            "_________________________________________________________________\n",
            " Layer (type)                Output Shape              Param #   \n",
            "=================================================================\n",
            " input_layer (InputLayer)    [(None, 224, 224, 3)]     0         \n",
            "                                                                 \n",
            " efficientnetb0 (Functional)  (None, None, None, 1280)  4049571  \n",
            "                                                                 \n",
            " pooling_layer (GlobalAverag  (None, 1280)             0         \n",
            " ePooling2D)                                                     \n",
            "                                                                 \n",
            " dropout (Dropout)           (None, 1280)              0         \n",
            "                                                                 \n",
            " dense (Dense)               (None, 101)               129381    \n",
            "                                                                 \n",
            " dense_1 (Dense)             (None, 101)               10302     \n",
            "                                                                 \n",
            " softmax_float32 (Activation  (None, 101)              0         \n",
            " )                                                               \n",
            "                                                                 \n",
            "=================================================================\n",
            "Total params: 4,189,254\n",
            "Trainable params: 139,683\n",
            "Non-trainable params: 4,049,571\n",
            "_________________________________________________________________\n"
          ]
        }
      ]
    },
    {
      "cell_type": "code",
      "source": [
        "model.summary()"
      ],
      "metadata": {
        "colab": {
          "base_uri": "https://localhost:8080/"
        },
        "id": "bLwsAgKom1Ql",
        "outputId": "8aa50055-fbc2-4e94-b0a2-9a81366776d7"
      },
      "execution_count": 28,
      "outputs": [
        {
          "output_type": "stream",
          "name": "stdout",
          "text": [
            "Model: \"model\"\n",
            "_________________________________________________________________\n",
            " Layer (type)                Output Shape              Param #   \n",
            "=================================================================\n",
            " input_layer (InputLayer)    [(None, 224, 224, 3)]     0         \n",
            "                                                                 \n",
            " efficientnetb0 (Functional)  (None, None, None, 1280)  4049571  \n",
            "                                                                 \n",
            " pooling_layer (GlobalAverag  (None, 1280)             0         \n",
            " ePooling2D)                                                     \n",
            "                                                                 \n",
            " dropout (Dropout)           (None, 1280)              0         \n",
            "                                                                 \n",
            " dense (Dense)               (None, 101)               129381    \n",
            "                                                                 \n",
            " dense_1 (Dense)             (None, 101)               10302     \n",
            "                                                                 \n",
            " softmax_float32 (Activation  (None, 101)              0         \n",
            " )                                                               \n",
            "                                                                 \n",
            "=================================================================\n",
            "Total params: 4,189,254\n",
            "Trainable params: 139,683\n",
            "Non-trainable params: 4,049,571\n",
            "_________________________________________________________________\n"
          ]
        }
      ]
    },
    {
      "cell_type": "code",
      "source": [
        "cloned_model.load_weights(checkpoint_path)"
      ],
      "metadata": {
        "colab": {
          "base_uri": "https://localhost:8080/"
        },
        "id": "HP-O-zMNm17J",
        "outputId": "3a529435-a9e5-4e6c-9dba-5d4674ce0122"
      },
      "execution_count": 29,
      "outputs": [
        {
          "output_type": "execute_result",
          "data": {
            "text/plain": [
              "<tensorflow.python.training.tracking.util.CheckpointLoadStatus at 0x7fb27b56abd0>"
            ]
          },
          "metadata": {},
          "execution_count": 29
        }
      ]
    },
    {
      "cell_type": "code",
      "source": [
        "cloned_model.compile(loss=\"sparse_categorical_crossentropy\",\n",
        "                     optimizer=tf.keras.optimizers.Adam(),\n",
        "                     metrics=[\"accuracy\"])"
      ],
      "metadata": {
        "id": "tS9oXW-Pm45r"
      },
      "execution_count": 30,
      "outputs": []
    },
    {
      "cell_type": "code",
      "source": [
        "results_cloned_model_with_loaded_weights = cloned_model.evaluate(test_data)"
      ],
      "metadata": {
        "colab": {
          "base_uri": "https://localhost:8080/"
        },
        "id": "qIiINByNm7gQ",
        "outputId": "f55b439e-9d58-4611-c726-515558f2d868"
      },
      "execution_count": 31,
      "outputs": [
        {
          "output_type": "stream",
          "name": "stdout",
          "text": [
            "790/790 [==============================] - 50s 60ms/step - loss: 1.9219 - accuracy: 0.5438\n"
          ]
        }
      ]
    },
    {
      "cell_type": "code",
      "source": [
        "results_feature_extract_model == results_cloned_model_with_loaded_weights"
      ],
      "metadata": {
        "colab": {
          "base_uri": "https://localhost:8080/"
        },
        "id": "FSAeuNGynACJ",
        "outputId": "c15c46c8-444d-48a1-a595-b2ab1f822577"
      },
      "execution_count": 32,
      "outputs": [
        {
          "output_type": "execute_result",
          "data": {
            "text/plain": [
              "False"
            ]
          },
          "metadata": {},
          "execution_count": 32
        }
      ]
    },
    {
      "cell_type": "code",
      "source": [
        "np.allclose(results_feature_extract_model, results_cloned_model_with_loaded_weights)"
      ],
      "metadata": {
        "colab": {
          "base_uri": "https://localhost:8080/"
        },
        "id": "sRjj5QmPnFWW",
        "outputId": "673869b1-9c8e-4822-a5a6-4e5b246fb0cc"
      },
      "execution_count": 33,
      "outputs": [
        {
          "output_type": "execute_result",
          "data": {
            "text/plain": [
              "False"
            ]
          },
          "metadata": {},
          "execution_count": 33
        }
      ]
    },
    {
      "cell_type": "code",
      "source": [
        "for layer in cloned_model.layers[1].layers[:20]: # check only the first 20 layers to save space\n",
        "  print(layer.name, layer.trainable, layer.dtype, layer.dtype_policy)"
      ],
      "metadata": {
        "colab": {
          "base_uri": "https://localhost:8080/"
        },
        "id": "uSvHHusmnNvj",
        "outputId": "9a7f7e36-c347-41f7-a906-887db87ce53f"
      },
      "execution_count": 34,
      "outputs": [
        {
          "output_type": "stream",
          "name": "stdout",
          "text": [
            "input_1 True float32 <Policy \"float32\">\n",
            "rescaling False float32 <Policy \"mixed_float16\">\n",
            "normalization False float32 <Policy \"mixed_float16\">\n",
            "stem_conv_pad False float32 <Policy \"mixed_float16\">\n",
            "stem_conv False float32 <Policy \"mixed_float16\">\n",
            "stem_bn False float32 <Policy \"mixed_float16\">\n",
            "stem_activation False float32 <Policy \"mixed_float16\">\n",
            "block1a_dwconv False float32 <Policy \"mixed_float16\">\n",
            "block1a_bn False float32 <Policy \"mixed_float16\">\n",
            "block1a_activation False float32 <Policy \"mixed_float16\">\n",
            "block1a_se_squeeze False float32 <Policy \"mixed_float16\">\n",
            "block1a_se_reshape False float32 <Policy \"mixed_float16\">\n",
            "block1a_se_reduce False float32 <Policy \"mixed_float16\">\n",
            "block1a_se_expand False float32 <Policy \"mixed_float16\">\n",
            "block1a_se_excite False float32 <Policy \"mixed_float16\">\n",
            "block1a_project_conv False float32 <Policy \"mixed_float16\">\n",
            "block1a_project_bn False float32 <Policy \"mixed_float16\">\n",
            "block2a_expand_conv False float32 <Policy \"mixed_float16\">\n",
            "block2a_expand_bn False float32 <Policy \"mixed_float16\">\n",
            "block2a_expand_activation False float32 <Policy \"mixed_float16\">\n"
          ]
        }
      ]
    },
    {
      "cell_type": "code",
      "source": [
        "save_dir = \"07_efficientnetb0_feature_extract_model_mixed_precision\"\n",
        "model.save(save_dir)"
      ],
      "metadata": {
        "id": "21Fspz0Tnavr"
      },
      "execution_count": 35,
      "outputs": []
    },
    {
      "cell_type": "code",
      "source": [
        "loaded_saved_model = tf.keras.models.load_model(save_dir)"
      ],
      "metadata": {
        "id": "-9rYEFrxneyc"
      },
      "execution_count": 36,
      "outputs": []
    },
    {
      "cell_type": "code",
      "source": [
        "result_loaded_saved_model= loaded_saved_model.evaluate(test_data)\n",
        "result_loaded_saved_model"
      ],
      "metadata": {
        "colab": {
          "base_uri": "https://localhost:8080/"
        },
        "id": "JQDe_GiNnldD",
        "outputId": "89c45d94-7186-4120-e671-0089a42bbe9f"
      },
      "execution_count": 37,
      "outputs": [
        {
          "output_type": "stream",
          "name": "stdout",
          "text": [
            "790/790 [==============================] - 50s 61ms/step - loss: 1.2540 - accuracy: 0.7038\n"
          ]
        },
        {
          "output_type": "execute_result",
          "data": {
            "text/plain": [
              "[1.2540361881256104, 0.7037623524665833]"
            ]
          },
          "metadata": {},
          "execution_count": 37
        }
      ]
    },
    {
      "cell_type": "code",
      "source": [
        "for layer in loaded_saved_model.layers[1].layers[:20]: # check only the first 20 layers to save output space\n",
        "  print(layer.name, layer.trainable, layer.dtype, layer.dtype_policy)"
      ],
      "metadata": {
        "colab": {
          "base_uri": "https://localhost:8080/"
        },
        "id": "VmrZJslmngcP",
        "outputId": "9b7b2dff-28ee-4b4e-f386-100fa2cd12b8"
      },
      "execution_count": 38,
      "outputs": [
        {
          "output_type": "stream",
          "name": "stdout",
          "text": [
            "input_1 True float32 <Policy \"float32\">\n",
            "rescaling False float32 <Policy \"mixed_float16\">\n",
            "normalization False float32 <Policy \"mixed_float16\">\n",
            "stem_conv_pad False float32 <Policy \"mixed_float16\">\n",
            "stem_conv False float32 <Policy \"mixed_float16\">\n",
            "stem_bn False float32 <Policy \"mixed_float16\">\n",
            "stem_activation False float32 <Policy \"mixed_float16\">\n",
            "block1a_dwconv False float32 <Policy \"mixed_float16\">\n",
            "block1a_bn False float32 <Policy \"mixed_float16\">\n",
            "block1a_activation False float32 <Policy \"mixed_float16\">\n",
            "block1a_se_squeeze False float32 <Policy \"mixed_float16\">\n",
            "block1a_se_reshape False float32 <Policy \"mixed_float16\">\n",
            "block1a_se_reduce False float32 <Policy \"mixed_float16\">\n",
            "block1a_se_expand False float32 <Policy \"mixed_float16\">\n",
            "block1a_se_excite False float32 <Policy \"mixed_float16\">\n",
            "block1a_project_conv False float32 <Policy \"mixed_float16\">\n",
            "block1a_project_bn False float32 <Policy \"mixed_float16\">\n",
            "block2a_expand_conv False float32 <Policy \"mixed_float16\">\n",
            "block2a_expand_bn False float32 <Policy \"mixed_float16\">\n",
            "block2a_expand_activation False float32 <Policy \"mixed_float16\">\n"
          ]
        }
      ]
    },
    {
      "cell_type": "code",
      "source": [
        "results_feature_extract_model == result_loaded_saved_model"
      ],
      "metadata": {
        "colab": {
          "base_uri": "https://localhost:8080/"
        },
        "id": "Uzc3WVgrnlBM",
        "outputId": "abf84e0b-6847-4814-f56e-0d3f993ef3b6"
      },
      "execution_count": 39,
      "outputs": [
        {
          "output_type": "execute_result",
          "data": {
            "text/plain": [
              "False"
            ]
          },
          "metadata": {},
          "execution_count": 39
        }
      ]
    },
    {
      "cell_type": "code",
      "source": [
        "np.allclose(results_feature_extract_model, result_loaded_saved_model)"
      ],
      "metadata": {
        "colab": {
          "base_uri": "https://localhost:8080/"
        },
        "id": "W5IU9mFbnt5E",
        "outputId": "41534108-136d-40b9-dd6d-672e0f8fd30f"
      },
      "execution_count": 40,
      "outputs": [
        {
          "output_type": "execute_result",
          "data": {
            "text/plain": [
              "True"
            ]
          },
          "metadata": {},
          "execution_count": 40
        }
      ]
    },
    {
      "cell_type": "code",
      "source": [
        "for layer in loaded_saved_model.layers:\n",
        "  print(layer, layer.name, layer.trainable)"
      ],
      "metadata": {
        "colab": {
          "base_uri": "https://localhost:8080/"
        },
        "id": "kI6D-fE9tdTS",
        "outputId": "5fa3ae73-0755-4d84-c9b9-88d31207f547"
      },
      "execution_count": 41,
      "outputs": [
        {
          "output_type": "stream",
          "name": "stdout",
          "text": [
            "<keras.engine.input_layer.InputLayer object at 0x7fb275557790> input_layer True\n",
            "<keras.engine.functional.Functional object at 0x7fb276d55a50> efficientnetb0 False\n",
            "<keras.layers.pooling.GlobalAveragePooling2D object at 0x7fb275427410> pooling_layer True\n",
            "<keras.layers.core.dropout.Dropout object at 0x7fb275427910> dropout True\n",
            "<keras.layers.core.dense.Dense object at 0x7fb275419bd0> dense True\n",
            "<keras.layers.core.dense.Dense object at 0x7fb276f87b50> dense_1 True\n",
            "<keras.layers.core.activation.Activation object at 0x7fb276e7bf10> softmax_float32 True\n"
          ]
        }
      ]
    },
    {
      "cell_type": "code",
      "source": [
        "for layer in loaded_saved_model.layers:\n",
        "  layer.trainable = True # set all layers to trainable\n",
        "  print(layer.name, layer.dtype, layer.dtype_policy, layer.trainable)"
      ],
      "metadata": {
        "colab": {
          "base_uri": "https://localhost:8080/"
        },
        "id": "cOZDM23nwXs_",
        "outputId": "3935a8c9-5cfa-4974-8bb8-39e78e35477d"
      },
      "execution_count": 42,
      "outputs": [
        {
          "output_type": "stream",
          "name": "stdout",
          "text": [
            "input_layer float32 <Policy \"float32\"> True\n",
            "efficientnetb0 float32 <Policy \"mixed_float16\"> True\n",
            "pooling_layer float32 <Policy \"mixed_float16\"> True\n",
            "dropout float32 <Policy \"mixed_float16\"> True\n",
            "dense float32 <Policy \"mixed_float16\"> True\n",
            "dense_1 float32 <Policy \"mixed_float16\"> True\n",
            "softmax_float32 float32 <Policy \"float32\"> True\n"
          ]
        }
      ]
    },
    {
      "cell_type": "code",
      "source": [
        "for layer in loaded_saved_model.layers[1].layers:\n",
        "  print(layer, layer.name, layer.trainable)"
      ],
      "metadata": {
        "colab": {
          "base_uri": "https://localhost:8080/"
        },
        "id": "WSRBa621tmXw",
        "outputId": "820cdce2-a5f8-4de8-c907-00503c905b7f"
      },
      "execution_count": 43,
      "outputs": [
        {
          "output_type": "stream",
          "name": "stdout",
          "text": [
            "<keras.engine.input_layer.InputLayer object at 0x7fb1ddc18f50> input_1 True\n",
            "<keras.layers.preprocessing.image_preprocessing.Rescaling object at 0x7fb1ddc0f550> rescaling True\n",
            "<keras.layers.preprocessing.normalization.Normalization object at 0x7fb276f7f8d0> normalization True\n",
            "<keras.layers.convolutional.ZeroPadding2D object at 0x7fb275a80510> stem_conv_pad True\n",
            "<keras.layers.convolutional.Conv2D object at 0x7fb2753d5c10> stem_conv True\n",
            "<keras.layers.normalization.batch_normalization.BatchNormalization object at 0x7fb2753e01d0> stem_bn True\n",
            "<keras.layers.core.activation.Activation object at 0x7fb275a62950> stem_activation True\n",
            "<keras.layers.convolutional.DepthwiseConv2D object at 0x7fb275a57790> block1a_dwconv True\n",
            "<keras.layers.normalization.batch_normalization.BatchNormalization object at 0x7fb2754d60d0> block1a_bn True\n",
            "<keras.layers.core.activation.Activation object at 0x7fb275ac9710> block1a_activation True\n",
            "<keras.layers.pooling.GlobalAveragePooling2D object at 0x7fb2753fbb50> block1a_se_squeeze True\n",
            "<keras.layers.core.reshape.Reshape object at 0x7fb275435190> block1a_se_reshape True\n",
            "<keras.layers.convolutional.Conv2D object at 0x7fb275435d10> block1a_se_reduce True\n",
            "<keras.layers.convolutional.Conv2D object at 0x7fb275407510> block1a_se_expand True\n",
            "<keras.layers.merge.Multiply object at 0x7fb276fdcb10> block1a_se_excite True\n",
            "<keras.layers.convolutional.Conv2D object at 0x7fb275ac7750> block1a_project_conv True\n",
            "<keras.layers.normalization.batch_normalization.BatchNormalization object at 0x7fb277045810> block1a_project_bn True\n",
            "<keras.layers.convolutional.Conv2D object at 0x7fb27707c4d0> block2a_expand_conv True\n",
            "<keras.layers.normalization.batch_normalization.BatchNormalization object at 0x7fb275ab3950> block2a_expand_bn True\n",
            "<keras.layers.core.activation.Activation object at 0x7fb275b10ed0> block2a_expand_activation True\n",
            "<keras.layers.convolutional.ZeroPadding2D object at 0x7fb275b102d0> block2a_dwconv_pad True\n",
            "<keras.layers.convolutional.DepthwiseConv2D object at 0x7fb275b04250> block2a_dwconv True\n",
            "<keras.layers.normalization.batch_normalization.BatchNormalization object at 0x7fb1ddd3d250> block2a_bn True\n",
            "<keras.layers.core.activation.Activation object at 0x7fb2770e9850> block2a_activation True\n",
            "<keras.layers.pooling.GlobalAveragePooling2D object at 0x7fb1ddd2dad0> block2a_se_squeeze True\n",
            "<keras.layers.core.reshape.Reshape object at 0x7fb275aed350> block2a_se_reshape True\n",
            "<keras.layers.convolutional.Conv2D object at 0x7fb275af32d0> block2a_se_reduce True\n",
            "<keras.layers.convolutional.Conv2D object at 0x7fb2770e26d0> block2a_se_expand True\n",
            "<keras.layers.merge.Multiply object at 0x7fb27712ce90> block2a_se_excite True\n",
            "<keras.layers.convolutional.Conv2D object at 0x7fb27547f690> block2a_project_conv True\n",
            "<keras.layers.normalization.batch_normalization.BatchNormalization object at 0x7fb275ad21d0> block2a_project_bn True\n",
            "<keras.layers.convolutional.Conv2D object at 0x7fb275b8d3d0> block2b_expand_conv True\n",
            "<keras.layers.normalization.batch_normalization.BatchNormalization object at 0x7fb275323190> block2b_expand_bn True\n",
            "<keras.layers.core.activation.Activation object at 0x7fb2754722d0> block2b_expand_activation True\n",
            "<keras.layers.convolutional.DepthwiseConv2D object at 0x7fb275472d10> block2b_dwconv True\n",
            "<keras.layers.normalization.batch_normalization.BatchNormalization object at 0x7fb27531edd0> block2b_bn True\n",
            "<keras.layers.core.activation.Activation object at 0x7fb275339050> block2b_activation True\n",
            "<keras.layers.pooling.GlobalAveragePooling2D object at 0x7fb277208dd0> block2b_se_squeeze True\n",
            "<keras.layers.core.reshape.Reshape object at 0x7fb277208110> block2b_se_reshape True\n",
            "<keras.layers.convolutional.Conv2D object at 0x7fb27539d990> block2b_se_reduce True\n",
            "<keras.layers.convolutional.Conv2D object at 0x7fb275b54b50> block2b_se_expand True\n",
            "<keras.layers.merge.Multiply object at 0x7fb27701dfd0> block2b_se_excite True\n",
            "<keras.layers.convolutional.Conv2D object at 0x7fb2771f9490> block2b_project_conv True\n",
            "<keras.layers.normalization.batch_normalization.BatchNormalization object at 0x7fb2753a3490> block2b_project_bn True\n",
            "<keras.layers.core.dropout.Dropout object at 0x7fb27723a7d0> block2b_drop True\n",
            "<keras.layers.merge.Add object at 0x7fb275332ad0> block2b_add True\n",
            "<keras.layers.convolutional.Conv2D object at 0x7fb2753cb990> block3a_expand_conv True\n",
            "<keras.layers.normalization.batch_normalization.BatchNormalization object at 0x7fb277201650> block3a_expand_bn True\n",
            "<keras.layers.core.activation.Activation object at 0x7fb277232510> block3a_expand_activation True\n",
            "<keras.layers.convolutional.ZeroPadding2D object at 0x7fb277232a50> block3a_dwconv_pad True\n",
            "<keras.layers.convolutional.DepthwiseConv2D object at 0x7fb27552f950> block3a_dwconv True\n",
            "<keras.layers.normalization.batch_normalization.BatchNormalization object at 0x7fb277286850> block3a_bn True\n",
            "<keras.layers.core.activation.Activation object at 0x7fb27533e410> block3a_activation True\n",
            "<keras.layers.pooling.GlobalAveragePooling2D object at 0x7fb275ba0a50> block3a_se_squeeze True\n",
            "<keras.layers.core.reshape.Reshape object at 0x7fb275ba0550> block3a_se_reshape True\n",
            "<keras.layers.convolutional.Conv2D object at 0x7fb2754760d0> block3a_se_reduce True\n",
            "<keras.layers.convolutional.Conv2D object at 0x7fb2772c0450> block3a_se_expand True\n",
            "<keras.layers.merge.Multiply object at 0x7fb2772b8dd0> block3a_se_excite True\n",
            "<keras.layers.convolutional.Conv2D object at 0x7fb275b969d0> block3a_project_conv True\n",
            "<keras.layers.normalization.batch_normalization.BatchNormalization object at 0x7fb277253bd0> block3a_project_bn True\n",
            "<keras.layers.convolutional.Conv2D object at 0x7fb1dde79e10> block3b_expand_conv True\n",
            "<keras.layers.normalization.batch_normalization.BatchNormalization object at 0x7fb275bf8c10> block3b_expand_bn True\n",
            "<keras.layers.core.activation.Activation object at 0x7fb2752bb790> block3b_expand_activation True\n",
            "<keras.layers.convolutional.DepthwiseConv2D object at 0x7fb2752bb910> block3b_dwconv True\n",
            "<keras.layers.normalization.batch_normalization.BatchNormalization object at 0x7fb2772db0d0> block3b_bn True\n",
            "<keras.layers.core.activation.Activation object at 0x7fb27738b550> block3b_activation True\n",
            "<keras.layers.pooling.GlobalAveragePooling2D object at 0x7fb27738ba10> block3b_se_squeeze True\n",
            "<keras.layers.core.reshape.Reshape object at 0x7fb27738b650> block3b_se_reshape True\n",
            "<keras.layers.convolutional.Conv2D object at 0x7fb2772f1f10> block3b_se_reduce True\n",
            "<keras.layers.convolutional.Conv2D object at 0x7fb27526cd90> block3b_se_expand True\n",
            "<keras.layers.merge.Multiply object at 0x7fb275c4d510> block3b_se_excite True\n",
            "<keras.layers.convolutional.Conv2D object at 0x7fb275276bd0> block3b_project_conv True\n",
            "<keras.layers.normalization.batch_normalization.BatchNormalization object at 0x7fb2752a2550> block3b_project_bn True\n",
            "<keras.layers.core.dropout.Dropout object at 0x7fb275284b50> block3b_drop True\n",
            "<keras.layers.merge.Add object at 0x7fb275c26850> block3b_add True\n",
            "<keras.layers.convolutional.Conv2D object at 0x7fb275c26ad0> block4a_expand_conv True\n",
            "<keras.layers.normalization.batch_normalization.BatchNormalization object at 0x7fb2752cae50> block4a_expand_bn True\n",
            "<keras.layers.core.activation.Activation object at 0x7fb2752118d0> block4a_expand_activation True\n",
            "<keras.layers.convolutional.ZeroPadding2D object at 0x7fb2773c1090> block4a_dwconv_pad True\n",
            "<keras.layers.convolutional.DepthwiseConv2D object at 0x7fb27521e490> block4a_dwconv True\n",
            "<keras.layers.normalization.batch_normalization.BatchNormalization object at 0x7fb276ed4f50> block4a_bn True\n",
            "<keras.layers.core.activation.Activation object at 0x7fb275c14510> block4a_activation True\n",
            "<keras.layers.pooling.GlobalAveragePooling2D object at 0x7fb275cc4c90> block4a_se_squeeze True\n",
            "<keras.layers.core.reshape.Reshape object at 0x7fb2773b1410> block4a_se_reshape True\n",
            "<keras.layers.convolutional.Conv2D object at 0x7fb2773b10d0> block4a_se_reduce True\n",
            "<keras.layers.convolutional.Conv2D object at 0x7fb1ddf09110> block4a_se_expand True\n",
            "<keras.layers.merge.Multiply object at 0x7fb2773f3ad0> block4a_se_excite True\n",
            "<keras.layers.convolutional.Conv2D object at 0x7fb1ddf752d0> block4a_project_conv True\n",
            "<keras.layers.normalization.batch_normalization.BatchNormalization object at 0x7fb27740b150> block4a_project_bn True\n",
            "<keras.layers.convolutional.Conv2D object at 0x7fb27740b290> block4b_expand_conv True\n",
            "<keras.layers.normalization.batch_normalization.BatchNormalization object at 0x7fb27745f0d0> block4b_expand_bn True\n",
            "<keras.layers.core.activation.Activation object at 0x7fb277458d50> block4b_expand_activation True\n",
            "<keras.layers.convolutional.DepthwiseConv2D object at 0x7fb277458990> block4b_dwconv True\n",
            "<keras.layers.normalization.batch_normalization.BatchNormalization object at 0x7fb275d0b8d0> block4b_bn True\n",
            "<keras.layers.core.activation.Activation object at 0x7fb1ddf885d0> block4b_activation True\n",
            "<keras.layers.pooling.GlobalAveragePooling2D object at 0x7fb275cff410> block4b_se_squeeze True\n",
            "<keras.layers.core.reshape.Reshape object at 0x7fb275ceb950> block4b_se_reshape True\n",
            "<keras.layers.convolutional.Conv2D object at 0x7fb275cf1d50> block4b_se_reduce True\n",
            "<keras.layers.convolutional.Conv2D object at 0x7fb1ddfe8810> block4b_se_expand True\n",
            "<keras.layers.merge.Multiply object at 0x7fb275ce1410> block4b_se_excite True\n",
            "<keras.layers.convolutional.Conv2D object at 0x7fb2774f6610> block4b_project_conv True\n",
            "<keras.layers.normalization.batch_normalization.BatchNormalization object at 0x7fb275ce11d0> block4b_project_bn True\n",
            "<keras.layers.core.dropout.Dropout object at 0x7fb2774eb650> block4b_drop True\n",
            "<keras.layers.merge.Add object at 0x7fb2774ebc50> block4b_add True\n",
            "<keras.layers.convolutional.Conv2D object at 0x7fb275441ed0> block4c_expand_conv True\n",
            "<keras.layers.normalization.batch_normalization.BatchNormalization object at 0x7fb277473f10> block4c_expand_bn True\n",
            "<keras.layers.core.activation.Activation object at 0x7fb27515b790> block4c_expand_activation True\n",
            "<keras.layers.convolutional.DepthwiseConv2D object at 0x7fb27515bb10> block4c_dwconv True\n",
            "<keras.layers.normalization.batch_normalization.BatchNormalization object at 0x7fb275168550> block4c_bn True\n",
            "<keras.layers.core.activation.Activation object at 0x7fb2751e8390> block4c_activation True\n",
            "<keras.layers.pooling.GlobalAveragePooling2D object at 0x7fb275239090> block4c_se_squeeze True\n",
            "<keras.layers.core.reshape.Reshape object at 0x7fb275239390> block4c_se_reshape True\n",
            "<keras.layers.convolutional.Conv2D object at 0x7fb2775600d0> block4c_se_reduce True\n",
            "<keras.layers.convolutional.Conv2D object at 0x7fb27522a950> block4c_se_expand True\n",
            "<keras.layers.merge.Multiply object at 0x7fb277281950> block4c_se_excite True\n",
            "<keras.layers.convolutional.Conv2D object at 0x7fb277553790> block4c_project_conv True\n",
            "<keras.layers.normalization.batch_normalization.BatchNormalization object at 0x7fb2775b1150> block4c_project_bn True\n",
            "<keras.layers.core.dropout.Dropout object at 0x7fb27759f2d0> block4c_drop True\n",
            "<keras.layers.merge.Add object at 0x7fb277593810> block4c_add True\n",
            "<keras.layers.convolutional.Conv2D object at 0x7fb275175110> block5a_expand_conv True\n",
            "<keras.layers.normalization.batch_normalization.BatchNormalization object at 0x7fb2775a5dd0> block5a_expand_bn True\n",
            "<keras.layers.core.activation.Activation object at 0x7fb275db2650> block5a_expand_activation True\n",
            "<keras.layers.convolutional.DepthwiseConv2D object at 0x7fb275dac6d0> block5a_dwconv True\n",
            "<keras.layers.normalization.batch_normalization.BatchNormalization object at 0x7fb275293a90> block5a_bn True\n",
            "<keras.layers.core.activation.Activation object at 0x7fb275210390> block5a_activation True\n",
            "<keras.layers.pooling.GlobalAveragePooling2D object at 0x7fb277638cd0> block5a_se_squeeze True\n",
            "<keras.layers.core.reshape.Reshape object at 0x7fb277638590> block5a_se_reshape True\n",
            "<keras.layers.convolutional.Conv2D object at 0x7fb277638450> block5a_se_reduce True\n",
            "<keras.layers.convolutional.Conv2D object at 0x7fb275e0c2d0> block5a_se_expand True\n",
            "<keras.layers.merge.Multiply object at 0x7fb277642890> block5a_se_excite True\n",
            "<keras.layers.convolutional.Conv2D object at 0x7fb2775d2310> block5a_project_conv True\n",
            "<keras.layers.normalization.batch_normalization.BatchNormalization object at 0x7fb2776694d0> block5a_project_bn True\n",
            "<keras.layers.convolutional.Conv2D object at 0x7fb27768bb10> block5b_expand_conv True\n",
            "<keras.layers.normalization.batch_normalization.BatchNormalization object at 0x7fb275dfa250> block5b_expand_bn True\n",
            "<keras.layers.core.activation.Activation object at 0x7fb275ddcc10> block5b_expand_activation True\n",
            "<keras.layers.convolutional.DepthwiseConv2D object at 0x7fb275ddc750> block5b_dwconv True\n",
            "<keras.layers.normalization.batch_normalization.BatchNormalization object at 0x7fb27513e1d0> block5b_bn True\n",
            "<keras.layers.core.activation.Activation object at 0x7fb275deca50> block5b_activation True\n",
            "<keras.layers.pooling.GlobalAveragePooling2D object at 0x7fb275188e90> block5b_se_squeeze True\n",
            "<keras.layers.core.reshape.Reshape object at 0x7fb2750d7f90> block5b_se_reshape True\n",
            "<keras.layers.convolutional.Conv2D object at 0x7fb2750d7710> block5b_se_reduce True\n",
            "<keras.layers.convolutional.Conv2D object at 0x7fb2751324d0> block5b_se_expand True\n",
            "<keras.layers.merge.Multiply object at 0x7fb275e32410> block5b_se_excite True\n",
            "<keras.layers.convolutional.Conv2D object at 0x7fb275e32890> block5b_project_conv True\n",
            "<keras.layers.normalization.batch_normalization.BatchNormalization object at 0x7fb2750f3910> block5b_project_bn True\n",
            "<keras.layers.core.dropout.Dropout object at 0x7fb275e24710> block5b_drop True\n",
            "<keras.layers.merge.Add object at 0x7fb277749b10> block5b_add True\n",
            "<keras.layers.convolutional.Conv2D object at 0x7fb2777493d0> block5c_expand_conv True\n",
            "<keras.layers.normalization.batch_normalization.BatchNormalization object at 0x7fb277786910> block5c_expand_bn True\n",
            "<keras.layers.core.activation.Activation object at 0x7fb27771e550> block5c_expand_activation True\n",
            "<keras.layers.convolutional.DepthwiseConv2D object at 0x7fb1de1ee450> block5c_dwconv True\n",
            "<keras.layers.normalization.batch_normalization.BatchNormalization object at 0x7fb2750f93d0> block5c_bn True\n",
            "<keras.layers.core.activation.Activation object at 0x7fb275e803d0> block5c_activation True\n",
            "<keras.layers.pooling.GlobalAveragePooling2D object at 0x7fb27511c190> block5c_se_squeeze True\n",
            "<keras.layers.core.reshape.Reshape object at 0x7fb2751e0550> block5c_se_reshape True\n",
            "<keras.layers.convolutional.Conv2D object at 0x7fb2751e0090> block5c_se_reduce True\n",
            "<keras.layers.convolutional.Conv2D object at 0x7fb275146350> block5c_se_expand True\n",
            "<keras.layers.merge.Multiply object at 0x7fb275e6d5d0> block5c_se_excite True\n",
            "<keras.layers.convolutional.Conv2D object at 0x7fb2751ee550> block5c_project_conv True\n",
            "<keras.layers.normalization.batch_normalization.BatchNormalization object at 0x7fb275e5f610> block5c_project_bn True\n",
            "<keras.layers.core.dropout.Dropout object at 0x7fb275138e50> block5c_drop True\n",
            "<keras.layers.merge.Add object at 0x7fb1de2041d0> block5c_add True\n",
            "<keras.layers.convolutional.Conv2D object at 0x7fb275e58d50> block6a_expand_conv True\n",
            "<keras.layers.normalization.batch_normalization.BatchNormalization object at 0x7fb1de25fc50> block6a_expand_bn True\n",
            "<keras.layers.core.activation.Activation object at 0x7fb277811fd0> block6a_expand_activation True\n",
            "<keras.layers.convolutional.ZeroPadding2D object at 0x7fb277888bd0> block6a_dwconv_pad True\n",
            "<keras.layers.convolutional.DepthwiseConv2D object at 0x7fb277888090> block6a_dwconv True\n",
            "<keras.layers.normalization.batch_normalization.BatchNormalization object at 0x7fb26006a9d0> block6a_bn True\n",
            "<keras.layers.core.activation.Activation object at 0x7fb275256410> block6a_activation True\n",
            "<keras.layers.pooling.GlobalAveragePooling2D object at 0x7fb260073550> block6a_se_squeeze True\n",
            "<keras.layers.core.reshape.Reshape object at 0x7fb260073c10> block6a_se_reshape True\n",
            "<keras.layers.convolutional.Conv2D object at 0x7fb275eef9d0> block6a_se_reduce True\n",
            "<keras.layers.convolutional.Conv2D object at 0x7fb27774f350> block6a_se_expand True\n",
            "<keras.layers.merge.Multiply object at 0x7fb2750fcb90> block6a_se_excite True\n",
            "<keras.layers.convolutional.Conv2D object at 0x7fb2750fc590> block6a_project_conv True\n",
            "<keras.layers.normalization.batch_normalization.BatchNormalization object at 0x7fb260086210> block6a_project_bn True\n",
            "<keras.layers.convolutional.Conv2D object at 0x7fb275190e50> block6b_expand_conv True\n",
            "<keras.layers.normalization.batch_normalization.BatchNormalization object at 0x7fb275f359d0> block6b_expand_bn True\n",
            "<keras.layers.core.activation.Activation object at 0x7fb275f248d0> block6b_expand_activation True\n",
            "<keras.layers.convolutional.DepthwiseConv2D object at 0x7fb2778077d0> block6b_dwconv True\n",
            "<keras.layers.normalization.batch_normalization.BatchNormalization object at 0x7fb2778ee6d0> block6b_bn True\n",
            "<keras.layers.core.activation.Activation object at 0x7fb2600934d0> block6b_activation True\n",
            "<keras.layers.pooling.GlobalAveragePooling2D object at 0x7fb27792d850> block6b_se_squeeze True\n",
            "<keras.layers.core.reshape.Reshape object at 0x7fb26007fb90> block6b_se_reshape True\n",
            "<keras.layers.convolutional.Conv2D object at 0x7fb26007fe90> block6b_se_reduce True\n",
            "<keras.layers.convolutional.Conv2D object at 0x7fb275f1f490> block6b_se_expand True\n",
            "<keras.layers.merge.Multiply object at 0x7fb27793aa90> block6b_se_excite True\n",
            "<keras.layers.convolutional.Conv2D object at 0x7fb260020250> block6b_project_conv True\n",
            "<keras.layers.normalization.batch_normalization.BatchNormalization object at 0x7fb2752321d0> block6b_project_bn True\n",
            "<keras.layers.core.dropout.Dropout object at 0x7fb26006de90> block6b_drop True\n",
            "<keras.layers.merge.Add object at 0x7fb2779732d0> block6b_add True\n",
            "<keras.layers.convolutional.Conv2D object at 0x7fb2779c82d0> block6c_expand_conv True\n",
            "<keras.layers.normalization.batch_normalization.BatchNormalization object at 0x7fb26005e4d0> block6c_expand_bn True\n",
            "<keras.layers.core.activation.Activation object at 0x7fb277967410> block6c_expand_activation True\n",
            "<keras.layers.convolutional.DepthwiseConv2D object at 0x7fb275f6c3d0> block6c_dwconv True\n",
            "<keras.layers.normalization.batch_normalization.BatchNormalization object at 0x7fb1de3ae750> block6c_bn True\n",
            "<keras.layers.core.activation.Activation object at 0x7fb275f53a90> block6c_activation True\n",
            "<keras.layers.pooling.GlobalAveragePooling2D object at 0x7fb260050c10> block6c_se_squeeze True\n",
            "<keras.layers.core.reshape.Reshape object at 0x7fb260050650> block6c_se_reshape True\n",
            "<keras.layers.convolutional.Conv2D object at 0x7fb1de38fbd0> block6c_se_reduce True\n",
            "<keras.layers.convolutional.Conv2D object at 0x7fb277a28e90> block6c_se_expand True\n",
            "<keras.layers.merge.Multiply object at 0x7fb275fbf090> block6c_se_excite True\n",
            "<keras.layers.convolutional.Conv2D object at 0x7fb277a228d0> block6c_project_conv True\n",
            "<keras.layers.normalization.batch_normalization.BatchNormalization object at 0x7fb275fb4190> block6c_project_bn True\n",
            "<keras.layers.core.dropout.Dropout object at 0x7fb275faee90> block6c_drop True\n",
            "<keras.layers.merge.Add object at 0x7fb275fa2650> block6c_add True\n",
            "<keras.layers.convolutional.Conv2D object at 0x7fb1f6390050> block6d_expand_conv True\n",
            "<keras.layers.normalization.batch_normalization.BatchNormalization object at 0x7fb27604e150> block6d_expand_bn True\n",
            "<keras.layers.core.activation.Activation object at 0x7fb1f6330050> block6d_expand_activation True\n",
            "<keras.layers.convolutional.DepthwiseConv2D object at 0x7fb277825e10> block6d_dwconv True\n",
            "<keras.layers.normalization.batch_normalization.BatchNormalization object at 0x7fb1f63268d0> block6d_bn True\n",
            "<keras.layers.core.activation.Activation object at 0x7fb1f636ca10> block6d_activation True\n",
            "<keras.layers.pooling.GlobalAveragePooling2D object at 0x7fb277acd3d0> block6d_se_squeeze True\n",
            "<keras.layers.core.reshape.Reshape object at 0x7fb277acd7d0> block6d_se_reshape True\n",
            "<keras.layers.convolutional.Conv2D object at 0x7fb277a54590> block6d_se_reduce True\n",
            "<keras.layers.convolutional.Conv2D object at 0x7fb1f63951d0> block6d_se_expand True\n",
            "<keras.layers.merge.Multiply object at 0x7fb277ac7110> block6d_se_excite True\n",
            "<keras.layers.convolutional.Conv2D object at 0x7fb277b461d0> block6d_project_conv True\n",
            "<keras.layers.normalization.batch_normalization.BatchNormalization object at 0x7fb27608b950> block6d_project_bn True\n",
            "<keras.layers.core.dropout.Dropout object at 0x7fb277b368d0> block6d_drop True\n",
            "<keras.layers.merge.Add object at 0x7fb1f6348f90> block6d_add True\n",
            "<keras.layers.convolutional.Conv2D object at 0x7fb27607f590> block7a_expand_conv True\n",
            "<keras.layers.normalization.batch_normalization.BatchNormalization object at 0x7fb2600ccdd0> block7a_expand_bn True\n",
            "<keras.layers.core.activation.Activation object at 0x7fb277a99ad0> block7a_expand_activation True\n",
            "<keras.layers.convolutional.DepthwiseConv2D object at 0x7fb277b79250> block7a_dwconv True\n",
            "<keras.layers.normalization.batch_normalization.BatchNormalization object at 0x7fb277b81950> block7a_bn True\n",
            "<keras.layers.core.activation.Activation object at 0x7fb277be61d0> block7a_activation True\n",
            "<keras.layers.pooling.GlobalAveragePooling2D object at 0x7fb277bd7090> block7a_se_squeeze True\n",
            "<keras.layers.core.reshape.Reshape object at 0x7fb277bd7610> block7a_se_reshape True\n",
            "<keras.layers.convolutional.Conv2D object at 0x7fb277c04610> block7a_se_reduce True\n",
            "<keras.layers.convolutional.Conv2D object at 0x7fb27601a810> block7a_se_expand True\n",
            "<keras.layers.merge.Multiply object at 0x7fb277be0b10> block7a_se_excite True\n",
            "<keras.layers.convolutional.Conv2D object at 0x7fb277bf8110> block7a_project_conv True\n",
            "<keras.layers.normalization.batch_normalization.BatchNormalization object at 0x7fb2760bcc10> block7a_project_bn True\n",
            "<keras.layers.convolutional.Conv2D object at 0x7fb2760aac90> top_conv True\n",
            "<keras.layers.normalization.batch_normalization.BatchNormalization object at 0x7fb2760a2f50> top_bn True\n",
            "<keras.layers.core.activation.Activation object at 0x7fb1f6317dd0> top_activation True\n"
          ]
        }
      ]
    },
    {
      "cell_type": "code",
      "source": [
        "for layer in loaded_saved_model.layers[1].layers:\n",
        "  if layer.trainable == False:\n",
        "    print(layer, layer.name, layer.trainable)"
      ],
      "metadata": {
        "id": "p8q6eFeFwkGE"
      },
      "execution_count": 44,
      "outputs": []
    },
    {
      "cell_type": "code",
      "source": [
        "for layer in loaded_saved_model.layers[1].layers:\n",
        "  if layer.trainable == True:\n",
        "    print(layer, layer.name, layer.trainable)"
      ],
      "metadata": {
        "colab": {
          "base_uri": "https://localhost:8080/"
        },
        "id": "pZ4g3vS_woaE",
        "outputId": "15281de0-7d42-4e03-a7bf-72d18d14edaf"
      },
      "execution_count": 45,
      "outputs": [
        {
          "output_type": "stream",
          "name": "stdout",
          "text": [
            "<keras.engine.input_layer.InputLayer object at 0x7fb1ddc18f50> input_1 True\n",
            "<keras.layers.preprocessing.image_preprocessing.Rescaling object at 0x7fb1ddc0f550> rescaling True\n",
            "<keras.layers.preprocessing.normalization.Normalization object at 0x7fb276f7f8d0> normalization True\n",
            "<keras.layers.convolutional.ZeroPadding2D object at 0x7fb275a80510> stem_conv_pad True\n",
            "<keras.layers.convolutional.Conv2D object at 0x7fb2753d5c10> stem_conv True\n",
            "<keras.layers.normalization.batch_normalization.BatchNormalization object at 0x7fb2753e01d0> stem_bn True\n",
            "<keras.layers.core.activation.Activation object at 0x7fb275a62950> stem_activation True\n",
            "<keras.layers.convolutional.DepthwiseConv2D object at 0x7fb275a57790> block1a_dwconv True\n",
            "<keras.layers.normalization.batch_normalization.BatchNormalization object at 0x7fb2754d60d0> block1a_bn True\n",
            "<keras.layers.core.activation.Activation object at 0x7fb275ac9710> block1a_activation True\n",
            "<keras.layers.pooling.GlobalAveragePooling2D object at 0x7fb2753fbb50> block1a_se_squeeze True\n",
            "<keras.layers.core.reshape.Reshape object at 0x7fb275435190> block1a_se_reshape True\n",
            "<keras.layers.convolutional.Conv2D object at 0x7fb275435d10> block1a_se_reduce True\n",
            "<keras.layers.convolutional.Conv2D object at 0x7fb275407510> block1a_se_expand True\n",
            "<keras.layers.merge.Multiply object at 0x7fb276fdcb10> block1a_se_excite True\n",
            "<keras.layers.convolutional.Conv2D object at 0x7fb275ac7750> block1a_project_conv True\n",
            "<keras.layers.normalization.batch_normalization.BatchNormalization object at 0x7fb277045810> block1a_project_bn True\n",
            "<keras.layers.convolutional.Conv2D object at 0x7fb27707c4d0> block2a_expand_conv True\n",
            "<keras.layers.normalization.batch_normalization.BatchNormalization object at 0x7fb275ab3950> block2a_expand_bn True\n",
            "<keras.layers.core.activation.Activation object at 0x7fb275b10ed0> block2a_expand_activation True\n",
            "<keras.layers.convolutional.ZeroPadding2D object at 0x7fb275b102d0> block2a_dwconv_pad True\n",
            "<keras.layers.convolutional.DepthwiseConv2D object at 0x7fb275b04250> block2a_dwconv True\n",
            "<keras.layers.normalization.batch_normalization.BatchNormalization object at 0x7fb1ddd3d250> block2a_bn True\n",
            "<keras.layers.core.activation.Activation object at 0x7fb2770e9850> block2a_activation True\n",
            "<keras.layers.pooling.GlobalAveragePooling2D object at 0x7fb1ddd2dad0> block2a_se_squeeze True\n",
            "<keras.layers.core.reshape.Reshape object at 0x7fb275aed350> block2a_se_reshape True\n",
            "<keras.layers.convolutional.Conv2D object at 0x7fb275af32d0> block2a_se_reduce True\n",
            "<keras.layers.convolutional.Conv2D object at 0x7fb2770e26d0> block2a_se_expand True\n",
            "<keras.layers.merge.Multiply object at 0x7fb27712ce90> block2a_se_excite True\n",
            "<keras.layers.convolutional.Conv2D object at 0x7fb27547f690> block2a_project_conv True\n",
            "<keras.layers.normalization.batch_normalization.BatchNormalization object at 0x7fb275ad21d0> block2a_project_bn True\n",
            "<keras.layers.convolutional.Conv2D object at 0x7fb275b8d3d0> block2b_expand_conv True\n",
            "<keras.layers.normalization.batch_normalization.BatchNormalization object at 0x7fb275323190> block2b_expand_bn True\n",
            "<keras.layers.core.activation.Activation object at 0x7fb2754722d0> block2b_expand_activation True\n",
            "<keras.layers.convolutional.DepthwiseConv2D object at 0x7fb275472d10> block2b_dwconv True\n",
            "<keras.layers.normalization.batch_normalization.BatchNormalization object at 0x7fb27531edd0> block2b_bn True\n",
            "<keras.layers.core.activation.Activation object at 0x7fb275339050> block2b_activation True\n",
            "<keras.layers.pooling.GlobalAveragePooling2D object at 0x7fb277208dd0> block2b_se_squeeze True\n",
            "<keras.layers.core.reshape.Reshape object at 0x7fb277208110> block2b_se_reshape True\n",
            "<keras.layers.convolutional.Conv2D object at 0x7fb27539d990> block2b_se_reduce True\n",
            "<keras.layers.convolutional.Conv2D object at 0x7fb275b54b50> block2b_se_expand True\n",
            "<keras.layers.merge.Multiply object at 0x7fb27701dfd0> block2b_se_excite True\n",
            "<keras.layers.convolutional.Conv2D object at 0x7fb2771f9490> block2b_project_conv True\n",
            "<keras.layers.normalization.batch_normalization.BatchNormalization object at 0x7fb2753a3490> block2b_project_bn True\n",
            "<keras.layers.core.dropout.Dropout object at 0x7fb27723a7d0> block2b_drop True\n",
            "<keras.layers.merge.Add object at 0x7fb275332ad0> block2b_add True\n",
            "<keras.layers.convolutional.Conv2D object at 0x7fb2753cb990> block3a_expand_conv True\n",
            "<keras.layers.normalization.batch_normalization.BatchNormalization object at 0x7fb277201650> block3a_expand_bn True\n",
            "<keras.layers.core.activation.Activation object at 0x7fb277232510> block3a_expand_activation True\n",
            "<keras.layers.convolutional.ZeroPadding2D object at 0x7fb277232a50> block3a_dwconv_pad True\n",
            "<keras.layers.convolutional.DepthwiseConv2D object at 0x7fb27552f950> block3a_dwconv True\n",
            "<keras.layers.normalization.batch_normalization.BatchNormalization object at 0x7fb277286850> block3a_bn True\n",
            "<keras.layers.core.activation.Activation object at 0x7fb27533e410> block3a_activation True\n",
            "<keras.layers.pooling.GlobalAveragePooling2D object at 0x7fb275ba0a50> block3a_se_squeeze True\n",
            "<keras.layers.core.reshape.Reshape object at 0x7fb275ba0550> block3a_se_reshape True\n",
            "<keras.layers.convolutional.Conv2D object at 0x7fb2754760d0> block3a_se_reduce True\n",
            "<keras.layers.convolutional.Conv2D object at 0x7fb2772c0450> block3a_se_expand True\n",
            "<keras.layers.merge.Multiply object at 0x7fb2772b8dd0> block3a_se_excite True\n",
            "<keras.layers.convolutional.Conv2D object at 0x7fb275b969d0> block3a_project_conv True\n",
            "<keras.layers.normalization.batch_normalization.BatchNormalization object at 0x7fb277253bd0> block3a_project_bn True\n",
            "<keras.layers.convolutional.Conv2D object at 0x7fb1dde79e10> block3b_expand_conv True\n",
            "<keras.layers.normalization.batch_normalization.BatchNormalization object at 0x7fb275bf8c10> block3b_expand_bn True\n",
            "<keras.layers.core.activation.Activation object at 0x7fb2752bb790> block3b_expand_activation True\n",
            "<keras.layers.convolutional.DepthwiseConv2D object at 0x7fb2752bb910> block3b_dwconv True\n",
            "<keras.layers.normalization.batch_normalization.BatchNormalization object at 0x7fb2772db0d0> block3b_bn True\n",
            "<keras.layers.core.activation.Activation object at 0x7fb27738b550> block3b_activation True\n",
            "<keras.layers.pooling.GlobalAveragePooling2D object at 0x7fb27738ba10> block3b_se_squeeze True\n",
            "<keras.layers.core.reshape.Reshape object at 0x7fb27738b650> block3b_se_reshape True\n",
            "<keras.layers.convolutional.Conv2D object at 0x7fb2772f1f10> block3b_se_reduce True\n",
            "<keras.layers.convolutional.Conv2D object at 0x7fb27526cd90> block3b_se_expand True\n",
            "<keras.layers.merge.Multiply object at 0x7fb275c4d510> block3b_se_excite True\n",
            "<keras.layers.convolutional.Conv2D object at 0x7fb275276bd0> block3b_project_conv True\n",
            "<keras.layers.normalization.batch_normalization.BatchNormalization object at 0x7fb2752a2550> block3b_project_bn True\n",
            "<keras.layers.core.dropout.Dropout object at 0x7fb275284b50> block3b_drop True\n",
            "<keras.layers.merge.Add object at 0x7fb275c26850> block3b_add True\n",
            "<keras.layers.convolutional.Conv2D object at 0x7fb275c26ad0> block4a_expand_conv True\n",
            "<keras.layers.normalization.batch_normalization.BatchNormalization object at 0x7fb2752cae50> block4a_expand_bn True\n",
            "<keras.layers.core.activation.Activation object at 0x7fb2752118d0> block4a_expand_activation True\n",
            "<keras.layers.convolutional.ZeroPadding2D object at 0x7fb2773c1090> block4a_dwconv_pad True\n",
            "<keras.layers.convolutional.DepthwiseConv2D object at 0x7fb27521e490> block4a_dwconv True\n",
            "<keras.layers.normalization.batch_normalization.BatchNormalization object at 0x7fb276ed4f50> block4a_bn True\n",
            "<keras.layers.core.activation.Activation object at 0x7fb275c14510> block4a_activation True\n",
            "<keras.layers.pooling.GlobalAveragePooling2D object at 0x7fb275cc4c90> block4a_se_squeeze True\n",
            "<keras.layers.core.reshape.Reshape object at 0x7fb2773b1410> block4a_se_reshape True\n",
            "<keras.layers.convolutional.Conv2D object at 0x7fb2773b10d0> block4a_se_reduce True\n",
            "<keras.layers.convolutional.Conv2D object at 0x7fb1ddf09110> block4a_se_expand True\n",
            "<keras.layers.merge.Multiply object at 0x7fb2773f3ad0> block4a_se_excite True\n",
            "<keras.layers.convolutional.Conv2D object at 0x7fb1ddf752d0> block4a_project_conv True\n",
            "<keras.layers.normalization.batch_normalization.BatchNormalization object at 0x7fb27740b150> block4a_project_bn True\n",
            "<keras.layers.convolutional.Conv2D object at 0x7fb27740b290> block4b_expand_conv True\n",
            "<keras.layers.normalization.batch_normalization.BatchNormalization object at 0x7fb27745f0d0> block4b_expand_bn True\n",
            "<keras.layers.core.activation.Activation object at 0x7fb277458d50> block4b_expand_activation True\n",
            "<keras.layers.convolutional.DepthwiseConv2D object at 0x7fb277458990> block4b_dwconv True\n",
            "<keras.layers.normalization.batch_normalization.BatchNormalization object at 0x7fb275d0b8d0> block4b_bn True\n",
            "<keras.layers.core.activation.Activation object at 0x7fb1ddf885d0> block4b_activation True\n",
            "<keras.layers.pooling.GlobalAveragePooling2D object at 0x7fb275cff410> block4b_se_squeeze True\n",
            "<keras.layers.core.reshape.Reshape object at 0x7fb275ceb950> block4b_se_reshape True\n",
            "<keras.layers.convolutional.Conv2D object at 0x7fb275cf1d50> block4b_se_reduce True\n",
            "<keras.layers.convolutional.Conv2D object at 0x7fb1ddfe8810> block4b_se_expand True\n",
            "<keras.layers.merge.Multiply object at 0x7fb275ce1410> block4b_se_excite True\n",
            "<keras.layers.convolutional.Conv2D object at 0x7fb2774f6610> block4b_project_conv True\n",
            "<keras.layers.normalization.batch_normalization.BatchNormalization object at 0x7fb275ce11d0> block4b_project_bn True\n",
            "<keras.layers.core.dropout.Dropout object at 0x7fb2774eb650> block4b_drop True\n",
            "<keras.layers.merge.Add object at 0x7fb2774ebc50> block4b_add True\n",
            "<keras.layers.convolutional.Conv2D object at 0x7fb275441ed0> block4c_expand_conv True\n",
            "<keras.layers.normalization.batch_normalization.BatchNormalization object at 0x7fb277473f10> block4c_expand_bn True\n",
            "<keras.layers.core.activation.Activation object at 0x7fb27515b790> block4c_expand_activation True\n",
            "<keras.layers.convolutional.DepthwiseConv2D object at 0x7fb27515bb10> block4c_dwconv True\n",
            "<keras.layers.normalization.batch_normalization.BatchNormalization object at 0x7fb275168550> block4c_bn True\n",
            "<keras.layers.core.activation.Activation object at 0x7fb2751e8390> block4c_activation True\n",
            "<keras.layers.pooling.GlobalAveragePooling2D object at 0x7fb275239090> block4c_se_squeeze True\n",
            "<keras.layers.core.reshape.Reshape object at 0x7fb275239390> block4c_se_reshape True\n",
            "<keras.layers.convolutional.Conv2D object at 0x7fb2775600d0> block4c_se_reduce True\n",
            "<keras.layers.convolutional.Conv2D object at 0x7fb27522a950> block4c_se_expand True\n",
            "<keras.layers.merge.Multiply object at 0x7fb277281950> block4c_se_excite True\n",
            "<keras.layers.convolutional.Conv2D object at 0x7fb277553790> block4c_project_conv True\n",
            "<keras.layers.normalization.batch_normalization.BatchNormalization object at 0x7fb2775b1150> block4c_project_bn True\n",
            "<keras.layers.core.dropout.Dropout object at 0x7fb27759f2d0> block4c_drop True\n",
            "<keras.layers.merge.Add object at 0x7fb277593810> block4c_add True\n",
            "<keras.layers.convolutional.Conv2D object at 0x7fb275175110> block5a_expand_conv True\n",
            "<keras.layers.normalization.batch_normalization.BatchNormalization object at 0x7fb2775a5dd0> block5a_expand_bn True\n",
            "<keras.layers.core.activation.Activation object at 0x7fb275db2650> block5a_expand_activation True\n",
            "<keras.layers.convolutional.DepthwiseConv2D object at 0x7fb275dac6d0> block5a_dwconv True\n",
            "<keras.layers.normalization.batch_normalization.BatchNormalization object at 0x7fb275293a90> block5a_bn True\n",
            "<keras.layers.core.activation.Activation object at 0x7fb275210390> block5a_activation True\n",
            "<keras.layers.pooling.GlobalAveragePooling2D object at 0x7fb277638cd0> block5a_se_squeeze True\n",
            "<keras.layers.core.reshape.Reshape object at 0x7fb277638590> block5a_se_reshape True\n",
            "<keras.layers.convolutional.Conv2D object at 0x7fb277638450> block5a_se_reduce True\n",
            "<keras.layers.convolutional.Conv2D object at 0x7fb275e0c2d0> block5a_se_expand True\n",
            "<keras.layers.merge.Multiply object at 0x7fb277642890> block5a_se_excite True\n",
            "<keras.layers.convolutional.Conv2D object at 0x7fb2775d2310> block5a_project_conv True\n",
            "<keras.layers.normalization.batch_normalization.BatchNormalization object at 0x7fb2776694d0> block5a_project_bn True\n",
            "<keras.layers.convolutional.Conv2D object at 0x7fb27768bb10> block5b_expand_conv True\n",
            "<keras.layers.normalization.batch_normalization.BatchNormalization object at 0x7fb275dfa250> block5b_expand_bn True\n",
            "<keras.layers.core.activation.Activation object at 0x7fb275ddcc10> block5b_expand_activation True\n",
            "<keras.layers.convolutional.DepthwiseConv2D object at 0x7fb275ddc750> block5b_dwconv True\n",
            "<keras.layers.normalization.batch_normalization.BatchNormalization object at 0x7fb27513e1d0> block5b_bn True\n",
            "<keras.layers.core.activation.Activation object at 0x7fb275deca50> block5b_activation True\n",
            "<keras.layers.pooling.GlobalAveragePooling2D object at 0x7fb275188e90> block5b_se_squeeze True\n",
            "<keras.layers.core.reshape.Reshape object at 0x7fb2750d7f90> block5b_se_reshape True\n",
            "<keras.layers.convolutional.Conv2D object at 0x7fb2750d7710> block5b_se_reduce True\n",
            "<keras.layers.convolutional.Conv2D object at 0x7fb2751324d0> block5b_se_expand True\n",
            "<keras.layers.merge.Multiply object at 0x7fb275e32410> block5b_se_excite True\n",
            "<keras.layers.convolutional.Conv2D object at 0x7fb275e32890> block5b_project_conv True\n",
            "<keras.layers.normalization.batch_normalization.BatchNormalization object at 0x7fb2750f3910> block5b_project_bn True\n",
            "<keras.layers.core.dropout.Dropout object at 0x7fb275e24710> block5b_drop True\n",
            "<keras.layers.merge.Add object at 0x7fb277749b10> block5b_add True\n",
            "<keras.layers.convolutional.Conv2D object at 0x7fb2777493d0> block5c_expand_conv True\n",
            "<keras.layers.normalization.batch_normalization.BatchNormalization object at 0x7fb277786910> block5c_expand_bn True\n",
            "<keras.layers.core.activation.Activation object at 0x7fb27771e550> block5c_expand_activation True\n",
            "<keras.layers.convolutional.DepthwiseConv2D object at 0x7fb1de1ee450> block5c_dwconv True\n",
            "<keras.layers.normalization.batch_normalization.BatchNormalization object at 0x7fb2750f93d0> block5c_bn True\n",
            "<keras.layers.core.activation.Activation object at 0x7fb275e803d0> block5c_activation True\n",
            "<keras.layers.pooling.GlobalAveragePooling2D object at 0x7fb27511c190> block5c_se_squeeze True\n",
            "<keras.layers.core.reshape.Reshape object at 0x7fb2751e0550> block5c_se_reshape True\n",
            "<keras.layers.convolutional.Conv2D object at 0x7fb2751e0090> block5c_se_reduce True\n",
            "<keras.layers.convolutional.Conv2D object at 0x7fb275146350> block5c_se_expand True\n",
            "<keras.layers.merge.Multiply object at 0x7fb275e6d5d0> block5c_se_excite True\n",
            "<keras.layers.convolutional.Conv2D object at 0x7fb2751ee550> block5c_project_conv True\n",
            "<keras.layers.normalization.batch_normalization.BatchNormalization object at 0x7fb275e5f610> block5c_project_bn True\n",
            "<keras.layers.core.dropout.Dropout object at 0x7fb275138e50> block5c_drop True\n",
            "<keras.layers.merge.Add object at 0x7fb1de2041d0> block5c_add True\n",
            "<keras.layers.convolutional.Conv2D object at 0x7fb275e58d50> block6a_expand_conv True\n",
            "<keras.layers.normalization.batch_normalization.BatchNormalization object at 0x7fb1de25fc50> block6a_expand_bn True\n",
            "<keras.layers.core.activation.Activation object at 0x7fb277811fd0> block6a_expand_activation True\n",
            "<keras.layers.convolutional.ZeroPadding2D object at 0x7fb277888bd0> block6a_dwconv_pad True\n",
            "<keras.layers.convolutional.DepthwiseConv2D object at 0x7fb277888090> block6a_dwconv True\n",
            "<keras.layers.normalization.batch_normalization.BatchNormalization object at 0x7fb26006a9d0> block6a_bn True\n",
            "<keras.layers.core.activation.Activation object at 0x7fb275256410> block6a_activation True\n",
            "<keras.layers.pooling.GlobalAveragePooling2D object at 0x7fb260073550> block6a_se_squeeze True\n",
            "<keras.layers.core.reshape.Reshape object at 0x7fb260073c10> block6a_se_reshape True\n",
            "<keras.layers.convolutional.Conv2D object at 0x7fb275eef9d0> block6a_se_reduce True\n",
            "<keras.layers.convolutional.Conv2D object at 0x7fb27774f350> block6a_se_expand True\n",
            "<keras.layers.merge.Multiply object at 0x7fb2750fcb90> block6a_se_excite True\n",
            "<keras.layers.convolutional.Conv2D object at 0x7fb2750fc590> block6a_project_conv True\n",
            "<keras.layers.normalization.batch_normalization.BatchNormalization object at 0x7fb260086210> block6a_project_bn True\n",
            "<keras.layers.convolutional.Conv2D object at 0x7fb275190e50> block6b_expand_conv True\n",
            "<keras.layers.normalization.batch_normalization.BatchNormalization object at 0x7fb275f359d0> block6b_expand_bn True\n",
            "<keras.layers.core.activation.Activation object at 0x7fb275f248d0> block6b_expand_activation True\n",
            "<keras.layers.convolutional.DepthwiseConv2D object at 0x7fb2778077d0> block6b_dwconv True\n",
            "<keras.layers.normalization.batch_normalization.BatchNormalization object at 0x7fb2778ee6d0> block6b_bn True\n",
            "<keras.layers.core.activation.Activation object at 0x7fb2600934d0> block6b_activation True\n",
            "<keras.layers.pooling.GlobalAveragePooling2D object at 0x7fb27792d850> block6b_se_squeeze True\n",
            "<keras.layers.core.reshape.Reshape object at 0x7fb26007fb90> block6b_se_reshape True\n",
            "<keras.layers.convolutional.Conv2D object at 0x7fb26007fe90> block6b_se_reduce True\n",
            "<keras.layers.convolutional.Conv2D object at 0x7fb275f1f490> block6b_se_expand True\n",
            "<keras.layers.merge.Multiply object at 0x7fb27793aa90> block6b_se_excite True\n",
            "<keras.layers.convolutional.Conv2D object at 0x7fb260020250> block6b_project_conv True\n",
            "<keras.layers.normalization.batch_normalization.BatchNormalization object at 0x7fb2752321d0> block6b_project_bn True\n",
            "<keras.layers.core.dropout.Dropout object at 0x7fb26006de90> block6b_drop True\n",
            "<keras.layers.merge.Add object at 0x7fb2779732d0> block6b_add True\n",
            "<keras.layers.convolutional.Conv2D object at 0x7fb2779c82d0> block6c_expand_conv True\n",
            "<keras.layers.normalization.batch_normalization.BatchNormalization object at 0x7fb26005e4d0> block6c_expand_bn True\n",
            "<keras.layers.core.activation.Activation object at 0x7fb277967410> block6c_expand_activation True\n",
            "<keras.layers.convolutional.DepthwiseConv2D object at 0x7fb275f6c3d0> block6c_dwconv True\n",
            "<keras.layers.normalization.batch_normalization.BatchNormalization object at 0x7fb1de3ae750> block6c_bn True\n",
            "<keras.layers.core.activation.Activation object at 0x7fb275f53a90> block6c_activation True\n",
            "<keras.layers.pooling.GlobalAveragePooling2D object at 0x7fb260050c10> block6c_se_squeeze True\n",
            "<keras.layers.core.reshape.Reshape object at 0x7fb260050650> block6c_se_reshape True\n",
            "<keras.layers.convolutional.Conv2D object at 0x7fb1de38fbd0> block6c_se_reduce True\n",
            "<keras.layers.convolutional.Conv2D object at 0x7fb277a28e90> block6c_se_expand True\n",
            "<keras.layers.merge.Multiply object at 0x7fb275fbf090> block6c_se_excite True\n",
            "<keras.layers.convolutional.Conv2D object at 0x7fb277a228d0> block6c_project_conv True\n",
            "<keras.layers.normalization.batch_normalization.BatchNormalization object at 0x7fb275fb4190> block6c_project_bn True\n",
            "<keras.layers.core.dropout.Dropout object at 0x7fb275faee90> block6c_drop True\n",
            "<keras.layers.merge.Add object at 0x7fb275fa2650> block6c_add True\n",
            "<keras.layers.convolutional.Conv2D object at 0x7fb1f6390050> block6d_expand_conv True\n",
            "<keras.layers.normalization.batch_normalization.BatchNormalization object at 0x7fb27604e150> block6d_expand_bn True\n",
            "<keras.layers.core.activation.Activation object at 0x7fb1f6330050> block6d_expand_activation True\n",
            "<keras.layers.convolutional.DepthwiseConv2D object at 0x7fb277825e10> block6d_dwconv True\n",
            "<keras.layers.normalization.batch_normalization.BatchNormalization object at 0x7fb1f63268d0> block6d_bn True\n",
            "<keras.layers.core.activation.Activation object at 0x7fb1f636ca10> block6d_activation True\n",
            "<keras.layers.pooling.GlobalAveragePooling2D object at 0x7fb277acd3d0> block6d_se_squeeze True\n",
            "<keras.layers.core.reshape.Reshape object at 0x7fb277acd7d0> block6d_se_reshape True\n",
            "<keras.layers.convolutional.Conv2D object at 0x7fb277a54590> block6d_se_reduce True\n",
            "<keras.layers.convolutional.Conv2D object at 0x7fb1f63951d0> block6d_se_expand True\n",
            "<keras.layers.merge.Multiply object at 0x7fb277ac7110> block6d_se_excite True\n",
            "<keras.layers.convolutional.Conv2D object at 0x7fb277b461d0> block6d_project_conv True\n",
            "<keras.layers.normalization.batch_normalization.BatchNormalization object at 0x7fb27608b950> block6d_project_bn True\n",
            "<keras.layers.core.dropout.Dropout object at 0x7fb277b368d0> block6d_drop True\n",
            "<keras.layers.merge.Add object at 0x7fb1f6348f90> block6d_add True\n",
            "<keras.layers.convolutional.Conv2D object at 0x7fb27607f590> block7a_expand_conv True\n",
            "<keras.layers.normalization.batch_normalization.BatchNormalization object at 0x7fb2600ccdd0> block7a_expand_bn True\n",
            "<keras.layers.core.activation.Activation object at 0x7fb277a99ad0> block7a_expand_activation True\n",
            "<keras.layers.convolutional.DepthwiseConv2D object at 0x7fb277b79250> block7a_dwconv True\n",
            "<keras.layers.normalization.batch_normalization.BatchNormalization object at 0x7fb277b81950> block7a_bn True\n",
            "<keras.layers.core.activation.Activation object at 0x7fb277be61d0> block7a_activation True\n",
            "<keras.layers.pooling.GlobalAveragePooling2D object at 0x7fb277bd7090> block7a_se_squeeze True\n",
            "<keras.layers.core.reshape.Reshape object at 0x7fb277bd7610> block7a_se_reshape True\n",
            "<keras.layers.convolutional.Conv2D object at 0x7fb277c04610> block7a_se_reduce True\n",
            "<keras.layers.convolutional.Conv2D object at 0x7fb27601a810> block7a_se_expand True\n",
            "<keras.layers.merge.Multiply object at 0x7fb277be0b10> block7a_se_excite True\n",
            "<keras.layers.convolutional.Conv2D object at 0x7fb277bf8110> block7a_project_conv True\n",
            "<keras.layers.normalization.batch_normalization.BatchNormalization object at 0x7fb2760bcc10> block7a_project_bn True\n",
            "<keras.layers.convolutional.Conv2D object at 0x7fb2760aac90> top_conv True\n",
            "<keras.layers.normalization.batch_normalization.BatchNormalization object at 0x7fb2760a2f50> top_bn True\n",
            "<keras.layers.core.activation.Activation object at 0x7fb1f6317dd0> top_activation True\n"
          ]
        }
      ]
    },
    {
      "cell_type": "code",
      "source": [
        "def scheduler_fine_tuning(epoch, lr):\n",
        "  if epoch < 5:\n",
        "    return lr\n",
        "  else:\n",
        "    return lr * tf.math.exp(-0.1)"
      ],
      "metadata": {
        "id": "1qC8-y3ekO5t"
      },
      "execution_count": 46,
      "outputs": []
    },
    {
      "cell_type": "code",
      "source": [
        "checkpoint_path_fine_tuning= 'checkpoints_fine_tuning/fine_tuning'\n",
        "\n",
        "\n",
        "create_tensorboard_callback_fine_tuning= create_tensorboard_callback(\"transfer_learning\", \"fine_tuning_all_data_with_all_layers_unfrozen\")\n",
        "checkpoint_callback_fine_tuning= model_check_point_callback(checkpoint_path_fine_tuning, save_weights_only=True, save_best_only=True, monitor=\"val_accuracy\")\n",
        "early_stopping_callback= create_early_stopping_callback(monitor=\"val_loss\", patience=7)\n",
        "reduce_lr_callback= reduce_learning_rate_callback(monitor=\"val_loss\", factor=0.2, patience=2, minimum_lr=1e-7)\n",
        "lr_scheduler_callback_fine_tuning = tf.keras.callbacks.LearningRateScheduler(scheduler_fine_tuning)"
      ],
      "metadata": {
        "colab": {
          "base_uri": "https://localhost:8080/"
        },
        "id": "ui1rzfKAtrQ5",
        "outputId": "33a9e4a0-01f4-4f35-ad45-1f387e9d2bdc"
      },
      "execution_count": 47,
      "outputs": [
        {
          "output_type": "stream",
          "name": "stdout",
          "text": [
            "Saving TensorBoard log files to: transfer_learning/fine_tuning_all_data_with_all_layers_unfrozen/20220811-162434\n"
          ]
        }
      ]
    },
    {
      "cell_type": "code",
      "source": [
        "loaded_saved_model.compile(loss=\"sparse_categorical_crossentropy\", optimizer=tf.keras.optimizers.Adam(learning_rate=0.0001), metrics=[\"accuracy\"])"
      ],
      "metadata": {
        "id": "6cEXDV8Nu0QS"
      },
      "execution_count": 48,
      "outputs": []
    },
    {
      "cell_type": "code",
      "source": [
        "history_fine_tuning= loaded_saved_model.fit(train_data, epochs=100, steps_per_epoch=len(train_data), validation_data=test_data, validation_steps= int(0.15 * len(test_data)), callbacks=[create_tensorboard_callback_fine_tuning, checkpoint_callback_fine_tuning, early_stopping_callback, reduce_lr_callback, lr_scheduler_callback_fine_tuning])"
      ],
      "metadata": {
        "colab": {
          "base_uri": "https://localhost:8080/"
        },
        "id": "GKujD_5ZvkYP",
        "outputId": "6a190ea8-6ae5-4a9a-8f62-e8175936bfbb"
      },
      "execution_count": 49,
      "outputs": [
        {
          "output_type": "stream",
          "name": "stdout",
          "text": [
            "Epoch 1/100\n",
            "2368/2368 [==============================] - ETA: 0s - loss: 1.1787 - accuracy: 0.7291\n",
            "Epoch 1: val_accuracy improved from -inf to 0.77278, saving model to checkpoints_fine_tuning/fine_tuning\n",
            "2368/2368 [==============================] - 355s 143ms/step - loss: 1.1787 - accuracy: 0.7291 - val_loss: 0.9940 - val_accuracy: 0.7728 - lr: 1.0000e-04\n",
            "Epoch 2/100\n",
            "2368/2368 [==============================] - ETA: 0s - loss: 0.8655 - accuracy: 0.8078\n",
            "Epoch 2: val_accuracy improved from 0.77278 to 0.80244, saving model to checkpoints_fine_tuning/fine_tuning\n",
            "2368/2368 [==============================] - 343s 144ms/step - loss: 0.8655 - accuracy: 0.8078 - val_loss: 0.8991 - val_accuracy: 0.8024 - lr: 1.0000e-04\n",
            "Epoch 3/100\n",
            "2368/2368 [==============================] - ETA: 0s - loss: 0.6496 - accuracy: 0.8627\n",
            "Epoch 3: val_accuracy did not improve from 0.80244\n",
            "2368/2368 [==============================] - 338s 142ms/step - loss: 0.6496 - accuracy: 0.8627 - val_loss: 0.9438 - val_accuracy: 0.7895 - lr: 1.0000e-04\n",
            "Epoch 4/100\n",
            "2368/2368 [==============================] - ETA: 0s - loss: 0.4874 - accuracy: 0.9069\n",
            "Epoch 4: val_accuracy did not improve from 0.80244\n",
            "\n",
            "Epoch 4: ReduceLROnPlateau reducing learning rate to 1.9999999494757503e-05.\n",
            "2368/2368 [==============================] - 338s 142ms/step - loss: 0.4874 - accuracy: 0.9069 - val_loss: 0.9188 - val_accuracy: 0.8016 - lr: 2.0000e-05\n",
            "Epoch 5/100\n",
            "2367/2368 [============================>.] - ETA: 0s - loss: 0.2951 - accuracy: 0.9658\n",
            "Epoch 5: val_accuracy improved from 0.80244 to 0.82124, saving model to checkpoints_fine_tuning/fine_tuning\n",
            "2368/2368 [==============================] - 339s 142ms/step - loss: 0.2951 - accuracy: 0.9658 - val_loss: 0.9133 - val_accuracy: 0.8212 - lr: 2.0000e-05\n",
            "Epoch 6/100\n",
            "2367/2368 [============================>.] - ETA: 0s - loss: 0.2541 - accuracy: 0.9783\n",
            "Epoch 6: val_accuracy did not improve from 0.82124\n",
            "\n",
            "Epoch 6: ReduceLROnPlateau reducing learning rate to 3.619349445216358e-06.\n",
            "2368/2368 [==============================] - 339s 142ms/step - loss: 0.2541 - accuracy: 0.9783 - val_loss: 0.9733 - val_accuracy: 0.8144 - lr: 3.6193e-06\n",
            "Epoch 7/100\n",
            "2368/2368 [==============================] - ETA: 0s - loss: 0.2262 - accuracy: 0.9870\n",
            "Epoch 7: val_accuracy improved from 0.82124 to 0.82336, saving model to checkpoints_fine_tuning/fine_tuning\n",
            "2368/2368 [==============================] - 335s 141ms/step - loss: 0.2262 - accuracy: 0.9870 - val_loss: 0.9619 - val_accuracy: 0.8234 - lr: 3.2749e-06\n",
            "Epoch 8/100\n",
            "2368/2368 [==============================] - ETA: 0s - loss: 0.2216 - accuracy: 0.9879\n",
            "Epoch 8: val_accuracy did not improve from 0.82336\n",
            "\n",
            "Epoch 8: ReduceLROnPlateau reducing learning rate to 5.926544872636441e-07.\n",
            "2368/2368 [==============================] - 338s 142ms/step - loss: 0.2216 - accuracy: 0.9879 - val_loss: 0.9828 - val_accuracy: 0.8183 - lr: 5.9265e-07\n",
            "Epoch 9/100\n",
            "2367/2368 [============================>.] - ETA: 0s - loss: 0.2170 - accuracy: 0.9897\n",
            "Epoch 9: val_accuracy did not improve from 0.82336\n",
            "2368/2368 [==============================] - 335s 141ms/step - loss: 0.2170 - accuracy: 0.9897 - val_loss: 0.9780 - val_accuracy: 0.8223 - lr: 5.3626e-07\n",
            "Epoch 9: early stopping\n"
          ]
        }
      ]
    },
    {
      "cell_type": "code",
      "source": [
        "loaded_saved_model.summary()"
      ],
      "metadata": {
        "id": "8OGGLyapwwD4",
        "colab": {
          "base_uri": "https://localhost:8080/"
        },
        "outputId": "da94f318-9765-428b-eca8-dd7b691d14fc"
      },
      "execution_count": 50,
      "outputs": [
        {
          "output_type": "stream",
          "name": "stdout",
          "text": [
            "Model: \"model\"\n",
            "_________________________________________________________________\n",
            " Layer (type)                Output Shape              Param #   \n",
            "=================================================================\n",
            " input_layer (InputLayer)    [(None, 224, 224, 3)]     0         \n",
            "                                                                 \n",
            " efficientnetb0 (Functional)  (None, None, None, 1280)  4049571  \n",
            "                                                                 \n",
            " pooling_layer (GlobalAverag  (None, 1280)             0         \n",
            " ePooling2D)                                                     \n",
            "                                                                 \n",
            " dropout (Dropout)           (None, 1280)              0         \n",
            "                                                                 \n",
            " dense (Dense)               (None, 101)               129381    \n",
            "                                                                 \n",
            " dense_1 (Dense)             (None, 101)               10302     \n",
            "                                                                 \n",
            " softmax_float32 (Activation  (None, 101)              0         \n",
            " )                                                               \n",
            "                                                                 \n",
            "=================================================================\n",
            "Total params: 4,189,254\n",
            "Trainable params: 4,147,231\n",
            "Non-trainable params: 42,023\n",
            "_________________________________________________________________\n"
          ]
        }
      ]
    },
    {
      "cell_type": "code",
      "source": [
        "result_fine_tuned=loaded_saved_model.evaluate(test_data)\n",
        "result_fine_tuned"
      ],
      "metadata": {
        "colab": {
          "base_uri": "https://localhost:8080/"
        },
        "id": "q__kapvo4dKz",
        "outputId": "ed75b32e-0e28-435d-c413-3bac4bf3895d"
      },
      "execution_count": 51,
      "outputs": [
        {
          "output_type": "stream",
          "name": "stdout",
          "text": [
            "790/790 [==============================] - 47s 60ms/step - loss: 0.9738 - accuracy: 0.8171\n"
          ]
        },
        {
          "output_type": "execute_result",
          "data": {
            "text/plain": [
              "[0.9738351702690125, 0.8171089291572571]"
            ]
          },
          "metadata": {},
          "execution_count": 51
        }
      ]
    },
    {
      "cell_type": "code",
      "source": [
        "plot_loss_curves(history_fine_tuning)"
      ],
      "metadata": {
        "colab": {
          "base_uri": "https://localhost:8080/",
          "height": 573
        },
        "id": "rxRU7MUr4icW",
        "outputId": "9e9aacba-9bde-4c6d-eae8-546a88986dc0"
      },
      "execution_count": 52,
      "outputs": [
        {
          "output_type": "display_data",
          "data": {
            "text/plain": [
              "<Figure size 432x288 with 1 Axes>"
            ],
            "image/png": "[encoded data removed]"
          },
          "metadata": {
            "needs_background": "light"
          }
        },
        {
          "output_type": "display_data",
          "data": {
            "text/plain": [
              "<Figure size 432x288 with 1 Axes>"
            ],
            "image/png": "[encoded data removed]"
          },
          "metadata": {
            "needs_background": "light"
          }
        }
      ]
    },
    {
      "cell_type": "code",
      "source": [
        "save_dir = \"07_efficientnetb0_fine_tuning_model_mixed_precision\"\n",
        "loaded_saved_model.save(save_dir)"
      ],
      "metadata": {
        "id": "-8KXmH7m4k8s"
      },
      "execution_count": 53,
      "outputs": []
    },
    {
      "cell_type": "code",
      "source": [
        "loaded_saved_model_1= tf.keras.models.load_model(save_dir)"
      ],
      "metadata": {
        "id": "so4NOOWG49F2"
      },
      "execution_count": 54,
      "outputs": []
    },
    {
      "cell_type": "code",
      "source": [
        "result_loaded_saved_model_1= loaded_saved_model_1.evaluate(test_data)\n",
        "result_loaded_saved_model_1"
      ],
      "metadata": {
        "colab": {
          "base_uri": "https://localhost:8080/"
        },
        "id": "xSxneN6j5DJ6",
        "outputId": "f1ce81d1-926f-4ea5-c690-5cb57c3d88fc"
      },
      "execution_count": 55,
      "outputs": [
        {
          "output_type": "stream",
          "name": "stdout",
          "text": [
            "790/790 [==============================] - 48s 59ms/step - loss: 0.9738 - accuracy: 0.8171\n"
          ]
        },
        {
          "output_type": "execute_result",
          "data": {
            "text/plain": [
              "[0.9738348722457886, 0.8171089291572571]"
            ]
          },
          "metadata": {},
          "execution_count": 55
        }
      ]
    },
    {
      "cell_type": "code",
      "source": [
        "loaded_saved_model_1.summary()"
      ],
      "metadata": {
        "colab": {
          "base_uri": "https://localhost:8080/"
        },
        "id": "JitvVaUd5fOC",
        "outputId": "a88dec75-3384-441e-ab0a-b87d00c0b594"
      },
      "execution_count": 56,
      "outputs": [
        {
          "output_type": "stream",
          "name": "stdout",
          "text": [
            "Model: \"model\"\n",
            "_________________________________________________________________\n",
            " Layer (type)                Output Shape              Param #   \n",
            "=================================================================\n",
            " input_layer (InputLayer)    [(None, 224, 224, 3)]     0         \n",
            "                                                                 \n",
            " efficientnetb0 (Functional)  (None, None, None, 1280)  4049571  \n",
            "                                                                 \n",
            " pooling_layer (GlobalAverag  (None, 1280)             0         \n",
            " ePooling2D)                                                     \n",
            "                                                                 \n",
            " dropout (Dropout)           (None, 1280)              0         \n",
            "                                                                 \n",
            " dense (Dense)               (None, 101)               129381    \n",
            "                                                                 \n",
            " dense_1 (Dense)             (None, 101)               10302     \n",
            "                                                                 \n",
            " softmax_float32 (Activation  (None, 101)              0         \n",
            " )                                                               \n",
            "                                                                 \n",
            "=================================================================\n",
            "Total params: 4,189,254\n",
            "Trainable params: 4,147,231\n",
            "Non-trainable params: 42,023\n",
            "_________________________________________________________________\n"
          ]
        }
      ]
    },
    {
      "cell_type": "code",
      "source": [
        "!tensorboard dev upload --logdir ./transfer_learning \\\n",
        "--name \"Fine-Tuning of all 101 classes of Food101 Dataset\" \\\n",
        "--description \"Transfer Learning on the Food101 dataset with Fine-Tuning the EfficientNetB0 model to beat the 77% accuracy score on DeepFood paper\" \\\n",
        "--one_shot"
      ],
      "metadata": {
        "id": "jlwx7Y6b5glZ"
      },
      "execution_count": null,
      "outputs": []
    },
    {
      "cell_type": "markdown",
      "source": [
        "## To-Do\n",
        "\n",
        "* Fix Overfitting\n",
        "* Evaluate the model"
      ],
      "metadata": {
        "id": "Q0p1noYaF-ym"
      }
    },
    {
      "cell_type": "code",
      "source": [
        ""
      ],
      "metadata": {
        "id": "eywPQoRAGDjz"
      },
      "execution_count": null,
      "outputs": []
    }
  ]
}