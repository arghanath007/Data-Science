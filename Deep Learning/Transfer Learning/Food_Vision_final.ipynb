{
  "cells": [
    {
      "cell_type": "markdown",
      "metadata": {
        "id": "8_4qBUMuPXr3"
      },
      "source": [
        "# Food Vision\n",
        "\n",
        "**Original Paper** -> https://arxiv.org/pdf/1606.05675.pdf\n",
        "\n",
        "> Trying to beat the `77.4%` in `Top-1 accuracy` column with this notebook."
      ]
    },
    {
      "cell_type": "code",
      "execution_count": null,
      "metadata": {
        "id": "rtXFNFE5P9t_",
        "colab": {
          "base_uri": "https://localhost:8080/"
        },
        "outputId": "45b80ded-dfa6-44b1-fdff-236d946f00f6"
      },
      "outputs": [
        {
          "output_type": "stream",
          "name": "stdout",
          "text": [
            "GPU 0: Tesla T4 (UUID: GPU-6195276c-e7cd-fa44-b14b-424b396634a7)\n"
          ]
        }
      ],
      "source": [
        "!nvidia-smi -L"
      ]
    },
    {
      "cell_type": "markdown",
      "metadata": {
        "id": "EGPajtOWA56s"
      },
      "source": [
        "## Imports"
      ]
    },
    {
      "cell_type": "code",
      "execution_count": null,
      "metadata": {
        "id": "bvveTwdjA8YL"
      },
      "outputs": [],
      "source": [
        "import pandas as pd\n",
        "import numpy as np\n",
        "import tensorflow as tf\n",
        "import seaborn as sns\n",
        "import tensorflow_datasets as tfds\n",
        "from tensorflow.keras import layers\n",
        "from tensorflow.keras.layers.experimental import preprocessing\n",
        "from tensorflow.keras import regularizers\n",
        "from tensorflow.keras import mixed_precision\n",
        "\n",
        "import os\n",
        "import random\n",
        "\n",
        "from sklearn.metrics import accuracy_score\n",
        "from sklearn.metrics import classification_report\n",
        "from sklearn.metrics import confusion_matrix\n",
        "\n",
        "import matplotlib.pyplot as plt\n",
        "%matplotlib inline"
      ]
    },
    {
      "cell_type": "markdown",
      "metadata": {
        "id": "GUGD-o4pQCBH"
      },
      "source": [
        "## Importing helper functions"
      ]
    },
    {
      "cell_type": "code",
      "execution_count": null,
      "metadata": {
        "id": "WjNNEe0lRcaK",
        "colab": {
          "base_uri": "https://localhost:8080/"
        },
        "outputId": "490b15a9-5d98-47c4-de56-a581a5ac1275"
      },
      "outputs": [
        {
          "output_type": "stream",
          "name": "stdout",
          "text": [
            "--2022-08-09 08:59:42--  https://raw.githubusercontent.com/arghanath007/MachineLearning/main/Deep%20Learning/Transfer%20Learning/helper_functions.py\n",
            "Resolving raw.githubusercontent.com (raw.githubusercontent.com)... 185.199.108.133, 185.199.109.133, 185.199.110.133, ...\n",
            "Connecting to raw.githubusercontent.com (raw.githubusercontent.com)|185.199.108.133|:443... connected.\n",
            "HTTP request sent, awaiting response... 200 OK\n",
            "Length: 18407 (18K) [text/plain]\n",
            "Saving to: ‘helper_functions.py’\n",
            "\n",
            "\rhelper_functions.py   0%[                    ]       0  --.-KB/s               \rhelper_functions.py 100%[===================>]  17.98K  --.-KB/s    in 0.001s  \n",
            "\n",
            "2022-08-09 08:59:43 (21.2 MB/s) - ‘helper_functions.py’ saved [18407/18407]\n",
            "\n"
          ]
        }
      ],
      "source": [
        "!wget https://raw.githubusercontent.com/arghanath007/MachineLearning/main/Deep%20Learning/Transfer%20Learning/helper_functions.py"
      ]
    },
    {
      "cell_type": "code",
      "execution_count": null,
      "metadata": {
        "id": "cDJPAc-iUn8F"
      },
      "outputs": [],
      "source": [
        "from helper_functions import plot_loss_curves, compare_historys, create_data_augmented_layer_for_model, load_and_prep_image, make_confusion_matrix, make_confusion_matrix_for_larger_dataset"
      ]
    },
    {
      "cell_type": "markdown",
      "metadata": {
        "id": "KPreQaxP5Y7e"
      },
      "source": [
        "## Tensorflow Datasets\n",
        "\n",
        "**Original Link** -> https://data.vision.ee.ethz.ch/cvl/datasets_extra/food-101/\n",
        "\n",
        "**Food101 Dataset** -> https://www.tensorflow.org/datasets/catalog/food101"
      ]
    },
    {
      "cell_type": "markdown",
      "metadata": {
        "id": "Umuqx3VR67cs"
      },
      "source": [
        "## Load the Data"
      ]
    },
    {
      "cell_type": "code",
      "execution_count": null,
      "metadata": {
        "colab": {
          "base_uri": "https://localhost:8080/",
          "height": 153,
          "referenced_widgets": [
            "3e991aaf04224df0aa5166aa24f9e42e",
            "eb884cfdda2149ab980e769696bc1721",
            "9e1b8158e433482598984d25e8c1eb59",
            "fe0586de91004814a750a72ef4fd0379",
            "ec2918948f274048b325a81fb54a1a0e",
            "19a2993ab23d4b539bfb0f0844e41d15",
            "9abf496f103543edae0219592f9ef4a2",
            "5c097f9b7a024254a2c4097115db8ab1",
            "5a023c1c46094e37be5a5992578b9d1a",
            "391c3d3ec758437bad2c589a1af9d634",
            "67389ca546f643ca8b6ddc1d20f18b43",
            "7103ac99139040c885fd97cc116bbb39",
            "bc4ad7798cab481398443319bed8954c",
            "6b6f7cd30f424d6590f0b5d4fa3b4c02",
            "7a84ba8010f9464d95d65c8b3f5380b4",
            "2dbdda6014014d56b2b25063d0c2df23",
            "5cf41c576ec94984809cee868e9a6f12",
            "deac88f7da874d819bfa10720933d156",
            "5007dfa4a2094bd6ad14623e8fcae9ca",
            "5a888917931e40daa7d10063992c9c74",
            "fc0411fdef3a4f0494d86d30fccaca4c",
            "f76ad64707cf436abcbc5384ea411b88",
            "7debcd2288d94b56a9f2c1415db570fd",
            "b372b665f07e486e9809f7499745fe61",
            "8187b34ba7f5464890eb9e1d59a513a4",
            "c6f25c2f7d6149679c3f8476a7243c3e",
            "06df4dfcee4c4db486a60d308cf66cb2",
            "e50d66d6bd5d4c389fdcdf34decb82f7",
            "75faba5408f74b87b65e0e05d5b783c2",
            "1d141153da384fa6b07336f5638686da",
            "7b5bed0bdbc6467c84d24d39ab939cae",
            "d71ce63326184ce4a1faef102d226ea7",
            "660b1e509f3441b29de7d24496490769",
            "9ba80611617948c1a9c78006cd250553",
            "34556a09eb6e447c9446c58a70e3279a",
            "b181ae0639b045da86c0dacb318fef70",
            "20a742873eb946c6924cfc123469bf52",
            "6ea2648e6b574815a70d68b499892504",
            "6af192ed8da04b7296309e2e73693bd5",
            "b3a64687133341bd80351c98a8c75035",
            "b8c75435dd154d4cbf976b3fd3d38b40",
            "49bcdafeb9a24fbc92a22e3d17575405",
            "0cbf1aee85714e56956dd48047e23ea4",
            "f8c4d59878204b4591814e3983ef98a4",
            "61436093df0d4fa18e2a4823390d2987",
            "fb8b7a7a04c84338b97e6a3cf7a89344",
            "7adaf2c65aa74b4c8c144ff0c1b32cc9",
            "3676594149974c088952b9127fbb3cc8",
            "1b42122be93f40b6b00d3d63becd835b",
            "b95092934caf4528aaa04c3f68ba2134",
            "106ca529461944e293934a043239668b",
            "2c23cfe2c87b46ea89f70a0b420cdc3e",
            "298f11a973304d5babbed4d10bcbe891",
            "8f0599aacf5647f8ad94609f94af0896",
            "a163d087b670436498a0808d1389f26d",
            "6117847b8b20465ca292ea3cdf7eae46",
            "ab95c0e256ed407bb14aeb66ca01d2d7",
            "3e6e576864bd4dbc89b38292049d08fe",
            "0d803c780e4e45718fbcc2f3cd021145",
            "1583503d246c4ffebb284780147008bb",
            "56b9885f882643f5a3b2fd446902afec",
            "93e9e0d97ba444738699b8959ff673e3",
            "cadec80c41b5431abd012cc4243d036a",
            "b5b95cd3aade45ca92837d8c4e97557c",
            "8d7140f203ba43b297fc98e809095a5c",
            "8bf876ec50f74defac1818e118cdda1d",
            "64f19f25a8394d06a105a2db79428ea7",
            "40895977f5c1423c826fcca4d3f20182",
            "04e951bfc0f849179a8fabafeff9823e",
            "3bb0e0bbb6aa4851a4af7fd22800018d",
            "76d9b291a4d142408b9d618a656d89ed",
            "376a3179d3c648f9837ef9cbac9e35bf",
            "4fe8337464c646fe94d8d3096dc50a0b",
            "90addf26d4e24d1981947cf7296778b8",
            "8b46c61a91594880acd179a9eff160e7",
            "b0d1dc45fe344ae0b0a3fca44f215e82",
            "8572a4b59b8643b18dbd00ab89e4d699",
            "cae5193b36b04dc4a24697bb09be4e66",
            "21d587ef7c5c478787288be7bac667dd",
            "3aeb84669f904faeb9b45d43d01047b1",
            "cefb4212d84740fb9f4baa2d4f5c2d50",
            "fc0fde329af44a80b4cd13d1de9368ba",
            "8fad5d1e36f14329a912f3bd2528f885",
            "0100ee510c4e4c3b98b4a12aff844b97",
            "44d7b931c75645eeae8e7a4900f1e81e",
            "6d0deff69a0c48d8b0188bed9a168173",
            "c6bad15cbffc4cacb9756ace4dd55c91",
            "b8e7b2ad0bef4fb483a0c9e90e8bb744"
          ]
        },
        "id": "mTY0kMrY7LO8",
        "outputId": "f2849763-896b-4650-91c8-1a1c07f45fe5"
      },
      "outputs": [
        {
          "output_type": "stream",
          "name": "stdout",
          "text": [
            "\u001b[1mDownloading and preparing dataset 4.65 GiB (download: 4.65 GiB, generated: Unknown size, total: 4.65 GiB) to ~/tensorflow_datasets/food101/2.0.0...\u001b[0m\n"
          ]
        },
        {
          "output_type": "display_data",
          "data": {
            "text/plain": [
              "Dl Completed...: 0 url [00:00, ? url/s]"
            ],
            "application/vnd.jupyter.widget-view+json": {
              "version_major": 2,
              "version_minor": 0,
              "model_id": "3e991aaf04224df0aa5166aa24f9e42e"
            }
          },
          "metadata": {}
        },
        {
          "output_type": "display_data",
          "data": {
            "text/plain": [
              "Dl Size...: 0 MiB [00:00, ? MiB/s]"
            ],
            "application/vnd.jupyter.widget-view+json": {
              "version_major": 2,
              "version_minor": 0,
              "model_id": "7103ac99139040c885fd97cc116bbb39"
            }
          },
          "metadata": {}
        },
        {
          "output_type": "display_data",
          "data": {
            "text/plain": [
              "Extraction completed...: 0 file [00:00, ? file/s]"
            ],
            "application/vnd.jupyter.widget-view+json": {
              "version_major": 2,
              "version_minor": 0,
              "model_id": "7debcd2288d94b56a9f2c1415db570fd"
            }
          },
          "metadata": {}
        },
        {
          "output_type": "display_data",
          "data": {
            "text/plain": [
              "Generating splits...:   0%|          | 0/2 [00:00<?, ? splits/s]"
            ],
            "application/vnd.jupyter.widget-view+json": {
              "version_major": 2,
              "version_minor": 0,
              "model_id": "9ba80611617948c1a9c78006cd250553"
            }
          },
          "metadata": {}
        },
        {
          "output_type": "display_data",
          "data": {
            "text/plain": [
              "Generating train examples...:   0%|          | 0/75750 [00:00<?, ? examples/s]"
            ],
            "application/vnd.jupyter.widget-view+json": {
              "version_major": 2,
              "version_minor": 0,
              "model_id": "61436093df0d4fa18e2a4823390d2987"
            }
          },
          "metadata": {}
        },
        {
          "output_type": "display_data",
          "data": {
            "text/plain": [
              "Shuffling ~/tensorflow_datasets/food101/2.0.0.incompleteBOYPUT/food101-train.tfrecord*...:   0%|          | 0/…"
            ],
            "application/vnd.jupyter.widget-view+json": {
              "version_major": 2,
              "version_minor": 0,
              "model_id": "6117847b8b20465ca292ea3cdf7eae46"
            }
          },
          "metadata": {}
        },
        {
          "output_type": "display_data",
          "data": {
            "text/plain": [
              "Generating validation examples...:   0%|          | 0/25250 [00:00<?, ? examples/s]"
            ],
            "application/vnd.jupyter.widget-view+json": {
              "version_major": 2,
              "version_minor": 0,
              "model_id": "64f19f25a8394d06a105a2db79428ea7"
            }
          },
          "metadata": {}
        },
        {
          "output_type": "display_data",
          "data": {
            "text/plain": [
              "Shuffling ~/tensorflow_datasets/food101/2.0.0.incompleteBOYPUT/food101-validation.tfrecord*...:   0%|         …"
            ],
            "application/vnd.jupyter.widget-view+json": {
              "version_major": 2,
              "version_minor": 0,
              "model_id": "cae5193b36b04dc4a24697bb09be4e66"
            }
          },
          "metadata": {}
        },
        {
          "output_type": "stream",
          "name": "stdout",
          "text": [
            "\u001b[1mDataset food101 downloaded and prepared to ~/tensorflow_datasets/food101/2.0.0. Subsequent calls will reuse this data.\u001b[0m\n"
          ]
        }
      ],
      "source": [
        "(train_data, test_data), ds_info= tfds.load(name=\"food101\", split=[\"train\", \"validation\"], shuffle_files=True, as_supervised=True, with_info=True)"
      ]
    },
    {
      "cell_type": "code",
      "execution_count": null,
      "metadata": {
        "colab": {
          "base_uri": "https://localhost:8080/"
        },
        "id": "MEZYsYNh8kBz",
        "outputId": "9173b120-d66d-478e-a77d-7b80bb420b14"
      },
      "outputs": [
        {
          "output_type": "execute_result",
          "data": {
            "text/plain": [
              "tfds.core.DatasetInfo(\n",
              "    name='food101',\n",
              "    full_name='food101/2.0.0',\n",
              "    description=\"\"\"\n",
              "    This dataset consists of 101 food categories, with 101'000 images. For each class, 250 manually reviewed test images are provided as well as 750 training images. On purpose, the training images were not cleaned, and thus still contain some amount of noise. This comes mostly in the form of intense colors and sometimes wrong labels. All images were rescaled to have a maximum side length of 512 pixels.\n",
              "    \"\"\",\n",
              "    homepage='https://data.vision.ee.ethz.ch/cvl/datasets_extra/food-101/',\n",
              "    data_path='~/tensorflow_datasets/food101/2.0.0',\n",
              "    file_format=tfrecord,\n",
              "    download_size=4.65 GiB,\n",
              "    dataset_size=4.77 GiB,\n",
              "    features=FeaturesDict({\n",
              "        'image': Image(shape=(None, None, 3), dtype=tf.uint8),\n",
              "        'label': ClassLabel(shape=(), dtype=tf.int64, num_classes=101),\n",
              "    }),\n",
              "    supervised_keys=('image', 'label'),\n",
              "    disable_shuffling=False,\n",
              "    splits={\n",
              "        'train': <SplitInfo num_examples=75750, num_shards=32>,\n",
              "        'validation': <SplitInfo num_examples=25250, num_shards=16>,\n",
              "    },\n",
              "    citation=\"\"\"@inproceedings{bossard14,\n",
              "      title = {Food-101 -- Mining Discriminative Components with Random Forests},\n",
              "      author = {Bossard, Lukas and Guillaumin, Matthieu and Van Gool, Luc},\n",
              "      booktitle = {European Conference on Computer Vision},\n",
              "      year = {2014}\n",
              "    }\"\"\",\n",
              ")"
            ]
          },
          "metadata": {},
          "execution_count": 6
        }
      ],
      "source": [
        "ds_info"
      ]
    },
    {
      "cell_type": "code",
      "execution_count": null,
      "metadata": {
        "colab": {
          "base_uri": "https://localhost:8080/"
        },
        "id": "TfiuNrNG-UsK",
        "outputId": "b36eab3a-f549-46c8-a162-984b1a30fb9b"
      },
      "outputs": [
        {
          "output_type": "execute_result",
          "data": {
            "text/plain": [
              "FeaturesDict({\n",
              "    'image': Image(shape=(None, None, 3), dtype=tf.uint8),\n",
              "    'label': ClassLabel(shape=(), dtype=tf.int64, num_classes=101),\n",
              "})"
            ]
          },
          "metadata": {},
          "execution_count": 7
        }
      ],
      "source": [
        "ds_info.features"
      ]
    },
    {
      "cell_type": "markdown",
      "metadata": {
        "id": "2fR6hDdx-myB"
      },
      "source": [
        "## Exploring the Food101 Dataset"
      ]
    },
    {
      "cell_type": "code",
      "execution_count": null,
      "metadata": {
        "colab": {
          "base_uri": "https://localhost:8080/"
        },
        "id": "tDCGiYUd-iOa",
        "outputId": "ee5f1d87-eb5a-4b36-cb0a-bb2a73bc39d9"
      },
      "outputs": [
        {
          "output_type": "execute_result",
          "data": {
            "text/plain": [
              "['apple_pie',\n",
              " 'baby_back_ribs',\n",
              " 'baklava',\n",
              " 'beef_carpaccio',\n",
              " 'beef_tartare',\n",
              " 'beet_salad',\n",
              " 'beignets',\n",
              " 'bibimbap',\n",
              " 'bread_pudding',\n",
              " 'breakfast_burrito']"
            ]
          },
          "metadata": {},
          "execution_count": 8
        }
      ],
      "source": [
        "class_names= ds_info.features['label'].names\n",
        "class_names[:10]"
      ]
    },
    {
      "cell_type": "code",
      "execution_count": null,
      "metadata": {
        "colab": {
          "base_uri": "https://localhost:8080/"
        },
        "id": "arLoQGZg-z7L",
        "outputId": "e55f5d67-1a22-412a-e068-1800f08e7bdf"
      },
      "outputs": [
        {
          "output_type": "execute_result",
          "data": {
            "text/plain": [
              "75750"
            ]
          },
          "metadata": {},
          "execution_count": 9
        }
      ],
      "source": [
        "len(train_data)"
      ]
    },
    {
      "cell_type": "code",
      "execution_count": null,
      "metadata": {
        "colab": {
          "base_uri": "https://localhost:8080/"
        },
        "id": "_FS-nVjL-7mR",
        "outputId": "38d3b649-2bdc-42b4-cb37-b166503df067"
      },
      "outputs": [
        {
          "output_type": "execute_result",
          "data": {
            "text/plain": [
              "<PrefetchDataset element_spec=(TensorSpec(shape=(None, None, 3), dtype=tf.uint8, name=None), TensorSpec(shape=(), dtype=tf.int64, name=None))>"
            ]
          },
          "metadata": {},
          "execution_count": 10
        }
      ],
      "source": [
        "train_data"
      ]
    },
    {
      "cell_type": "code",
      "execution_count": null,
      "metadata": {
        "colab": {
          "base_uri": "https://localhost:8080/"
        },
        "id": "Va5GAGuv_Sit",
        "outputId": "cd40e9ca-6fb0-4144-be7f-294df0d1a4f4"
      },
      "outputs": [
        {
          "output_type": "execute_result",
          "data": {
            "text/plain": [
              "<TakeDataset element_spec=(TensorSpec(shape=(None, None, 3), dtype=tf.uint8, name=None), TensorSpec(shape=(), dtype=tf.int64, name=None))>"
            ]
          },
          "metadata": {},
          "execution_count": 11
        }
      ],
      "source": [
        "train_one_sample= train_data.take(1)\n",
        "train_one_sample"
      ]
    },
    {
      "cell_type": "code",
      "execution_count": null,
      "metadata": {
        "colab": {
          "base_uri": "https://localhost:8080/"
        },
        "id": "ER9lunBa__lF",
        "outputId": "61d7fd76-8c89-4164-e02d-bb61b1dec848"
      },
      "outputs": [
        {
          "output_type": "stream",
          "name": "stdout",
          "text": [
            "\n",
            "  Image shape: (512, 384, 3)\n",
            "  Image dtype: <dtype: 'uint8'>\n",
            "  Target class or Label from Food101 (tensor form): 74\n",
            "  Class name (str form): peking_duck\n",
            "        \n"
          ]
        }
      ],
      "source": [
        "for image, label in train_one_sample:\n",
        "  print(f\"\"\"\n",
        "  Image shape: {image.shape}\n",
        "  Image dtype: {image.dtype}\n",
        "  Target class or Label from Food101 (tensor form): {label}\n",
        "  Class name (str form): {class_names[label.numpy()]}\n",
        "        \"\"\")"
      ]
    },
    {
      "cell_type": "code",
      "execution_count": null,
      "metadata": {
        "colab": {
          "base_uri": "https://localhost:8080/"
        },
        "id": "duGTsA1wAcqJ",
        "outputId": "a035b210-7064-4df4-ea2e-615406c38577"
      },
      "outputs": [
        {
          "output_type": "execute_result",
          "data": {
            "text/plain": [
              "<tf.Tensor: shape=(512, 384, 3), dtype=uint8, numpy=\n",
              "array([[[152, 129,  77],\n",
              "        [160, 137,  85],\n",
              "        [160, 137,  85],\n",
              "        ...,\n",
              "        [ 26,  21,  18],\n",
              "        [ 24,  19,  16],\n",
              "        [ 21,  16,  13]],\n",
              "\n",
              "       [[156, 133,  81],\n",
              "        [158, 135,  83],\n",
              "        [155, 132,  80],\n",
              "        ...,\n",
              "        [ 25,  20,  17],\n",
              "        [ 23,  18,  15],\n",
              "        [ 22,  17,  14]],\n",
              "\n",
              "       [[164, 141,  87],\n",
              "        [159, 136,  82],\n",
              "        [147, 124,  70],\n",
              "        ...,\n",
              "        [ 23,  18,  15],\n",
              "        [ 21,  17,  14],\n",
              "        [ 20,  16,  13]],\n",
              "\n",
              "       ...,\n",
              "\n",
              "       [[  1,  49, 121],\n",
              "        [  0,  47, 119],\n",
              "        [  0,  48, 120],\n",
              "        ...,\n",
              "        [ 26,  14,  16],\n",
              "        [ 26,  14,  16],\n",
              "        [ 32,  20,  22]],\n",
              "\n",
              "       [[  1,  49, 121],\n",
              "        [  0,  47, 119],\n",
              "        [  0,  48, 120],\n",
              "        ...,\n",
              "        [ 24,  14,  15],\n",
              "        [ 30,  18,  18],\n",
              "        [ 30,  18,  18]],\n",
              "\n",
              "       [[  2,  50, 122],\n",
              "        [  0,  48, 120],\n",
              "        [  0,  48, 120],\n",
              "        ...,\n",
              "        [ 22,  12,  13],\n",
              "        [ 31,  19,  19],\n",
              "        [ 25,  13,  13]]], dtype=uint8)>"
            ]
          },
          "metadata": {},
          "execution_count": 13
        }
      ],
      "source": [
        "image"
      ]
    },
    {
      "cell_type": "code",
      "execution_count": null,
      "metadata": {
        "colab": {
          "base_uri": "https://localhost:8080/"
        },
        "id": "rSaC1YyeAsAl",
        "outputId": "6579186a-9f3e-47fd-9ba1-6a69c753bc45"
      },
      "outputs": [
        {
          "output_type": "execute_result",
          "data": {
            "text/plain": [
              "TensorShape([512, 384, 3])"
            ]
          },
          "metadata": {},
          "execution_count": 14
        }
      ],
      "source": [
        "image.shape"
      ]
    },
    {
      "cell_type": "code",
      "execution_count": null,
      "metadata": {
        "colab": {
          "base_uri": "https://localhost:8080/"
        },
        "id": "qFdctANFAtTg",
        "outputId": "881fe4ea-0032-4f97-a9a8-48774f990300"
      },
      "outputs": [
        {
          "output_type": "execute_result",
          "data": {
            "text/plain": [
              "(<tf.Tensor: shape=(512, 384, 3), dtype=float32, numpy=\n",
              " array([[[0.59607846, 0.5058824 , 0.3019608 ],\n",
              "         [0.627451  , 0.5372549 , 0.33333334],\n",
              "         [0.627451  , 0.5372549 , 0.33333334],\n",
              "         ...,\n",
              "         [0.10196079, 0.08235294, 0.07058824],\n",
              "         [0.09411765, 0.07450981, 0.0627451 ],\n",
              "         [0.08235294, 0.0627451 , 0.05098039]],\n",
              " \n",
              "        [[0.6117647 , 0.52156866, 0.31764707],\n",
              "         [0.61960787, 0.5294118 , 0.3254902 ],\n",
              "         [0.60784316, 0.5176471 , 0.3137255 ],\n",
              "         ...,\n",
              "         [0.09803922, 0.07843138, 0.06666667],\n",
              "         [0.09019608, 0.07058824, 0.05882353],\n",
              "         [0.08627451, 0.06666667, 0.05490196]],\n",
              " \n",
              "        [[0.6431373 , 0.5529412 , 0.34117648],\n",
              "         [0.62352943, 0.53333336, 0.32156864],\n",
              "         [0.5764706 , 0.4862745 , 0.27450982],\n",
              "         ...,\n",
              "         [0.09019608, 0.07058824, 0.05882353],\n",
              "         [0.08235294, 0.06666667, 0.05490196],\n",
              "         [0.07843138, 0.0627451 , 0.05098039]],\n",
              " \n",
              "        ...,\n",
              " \n",
              "        [[0.00392157, 0.19215687, 0.4745098 ],\n",
              "         [0.        , 0.18431373, 0.46666667],\n",
              "         [0.        , 0.1882353 , 0.47058824],\n",
              "         ...,\n",
              "         [0.10196079, 0.05490196, 0.0627451 ],\n",
              "         [0.10196079, 0.05490196, 0.0627451 ],\n",
              "         [0.1254902 , 0.07843138, 0.08627451]],\n",
              " \n",
              "        [[0.00392157, 0.19215687, 0.4745098 ],\n",
              "         [0.        , 0.18431373, 0.46666667],\n",
              "         [0.        , 0.1882353 , 0.47058824],\n",
              "         ...,\n",
              "         [0.09411765, 0.05490196, 0.05882353],\n",
              "         [0.11764706, 0.07058824, 0.07058824],\n",
              "         [0.11764706, 0.07058824, 0.07058824]],\n",
              " \n",
              "        [[0.00784314, 0.19607843, 0.47843137],\n",
              "         [0.        , 0.1882353 , 0.47058824],\n",
              "         [0.        , 0.1882353 , 0.47058824],\n",
              "         ...,\n",
              "         [0.08627451, 0.04705882, 0.05098039],\n",
              "         [0.12156863, 0.07450981, 0.07450981],\n",
              "         [0.09803922, 0.05098039, 0.05098039]]], dtype=float32)>,)"
            ]
          },
          "metadata": {},
          "execution_count": 15
        }
      ],
      "source": [
        "image/255,"
      ]
    },
    {
      "cell_type": "code",
      "execution_count": null,
      "metadata": {
        "colab": {
          "base_uri": "https://localhost:8080/"
        },
        "id": "O-VhPQrrAwWl",
        "outputId": "811a2e2f-e761-49fe-acb9-3116b1943ee7"
      },
      "outputs": [
        {
          "output_type": "execute_result",
          "data": {
            "text/plain": [
              "(<tf.Tensor: shape=(), dtype=uint8, numpy=0>,\n",
              " <tf.Tensor: shape=(), dtype=uint8, numpy=255>)"
            ]
          },
          "metadata": {},
          "execution_count": 16
        }
      ],
      "source": [
        "tf.reduce_min(image), tf.reduce_max(image)"
      ]
    },
    {
      "cell_type": "markdown",
      "metadata": {
        "id": "qb2cKoIoBILN"
      },
      "source": [
        "## Plot an image from dataset"
      ]
    },
    {
      "cell_type": "code",
      "execution_count": null,
      "metadata": {
        "colab": {
          "base_uri": "https://localhost:8080/",
          "height": 264
        },
        "id": "TYO9-rbxBf27",
        "outputId": "c0f389cd-6913-4897-e75c-ebae67d49fc5"
      },
      "outputs": [
        {
          "output_type": "display_data",
          "data": {
            "text/plain": [
              "<Figure size 432x288 with 1 Axes>"
            ],
            "image/png": "[encoded data removed]"
          },
          "metadata": {
            "needs_background": "light"
          }
        }
      ],
      "source": [
        "plt.imshow(image/255)\n",
        "plt.title(class_names[label.numpy()])\n",
        "plt.axis(False);"
      ]
    },
    {
      "cell_type": "code",
      "execution_count": null,
      "metadata": {
        "colab": {
          "base_uri": "https://localhost:8080/",
          "height": 248
        },
        "id": "3Sb2CZluB1KX",
        "outputId": "e30ec678-1464-4ae6-975f-62e4c14fc487"
      },
      "outputs": [
        {
          "output_type": "display_data",
          "data": {
            "text/plain": [
              "<Figure size 432x288 with 1 Axes>"
            ],
            "image/png": "[encoded data removed]"
          },
          "metadata": {
            "needs_background": "light"
          }
        }
      ],
      "source": [
        "plt.imshow(image)\n",
        "plt.axis(False);"
      ]
    },
    {
      "cell_type": "code",
      "execution_count": null,
      "metadata": {
        "colab": {
          "base_uri": "https://localhost:8080/",
          "height": 661
        },
        "id": "qKsN9c1WB5fr",
        "outputId": "52984e5c-5b60-4edd-b4bb-b0f0296bf970"
      },
      "outputs": [
        {
          "output_type": "stream",
          "name": "stdout",
          "text": [
            "Image shape: (512, 512, 3) Image dtype: <dtype: 'uint8'> Target class or Label from Food101 (tensor form): 64\n",
            "    Class name (str form): miso_soup\n",
            "Image shape: (512, 384, 3) Image dtype: <dtype: 'uint8'> Target class or Label from Food101 (tensor form): 74\n",
            "    Class name (str form): peking_duck\n",
            "Image shape: (512, 512, 3) Image dtype: <dtype: 'uint8'> Target class or Label from Food101 (tensor form): 23\n",
            "    Class name (str form): churros\n",
            "Image shape: (384, 512, 3) Image dtype: <dtype: 'uint8'> Target class or Label from Food101 (tensor form): 97\n",
            "    Class name (str form): takoyaki\n",
            "Image shape: (384, 512, 3) Image dtype: <dtype: 'uint8'> Target class or Label from Food101 (tensor form): 56\n",
            "    Class name (str form): huevos_rancheros\n",
            "Image shape: (512, 512, 3) Image dtype: <dtype: 'uint8'> Target class or Label from Food101 (tensor form): 49\n",
            "    Class name (str form): grilled_cheese_sandwich\n",
            "Image shape: (512, 512, 3) Image dtype: <dtype: 'uint8'> Target class or Label from Food101 (tensor form): 64\n",
            "    Class name (str form): miso_soup\n",
            "Image shape: (384, 512, 3) Image dtype: <dtype: 'uint8'> Target class or Label from Food101 (tensor form): 56\n",
            "    Class name (str form): huevos_rancheros\n",
            "Image shape: (384, 512, 3) Image dtype: <dtype: 'uint8'> Target class or Label from Food101 (tensor form): 70\n",
            "    Class name (str form): pad_thai\n",
            "Image shape: (512, 512, 3) Image dtype: <dtype: 'uint8'> Target class or Label from Food101 (tensor form): 72\n",
            "    Class name (str form): pancakes\n"
          ]
        },
        {
          "output_type": "display_data",
          "data": {
            "text/plain": [
              "<Figure size 432x288 with 1 Axes>"
            ],
            "image/png": "[encoded data removed]"
          },
          "metadata": {
            "needs_background": "light"
          }
        }
      ],
      "source": [
        "train_one_sample=[]\n",
        "for i in range(10):\n",
        "  train_one_sample.append(train_data.take(1))\n",
        "  for image, label in train_one_sample[i]:\n",
        "    plt.imshow(image/255)\n",
        "    plt.title(class_names[label.numpy()])\n",
        "    plt.axis(False);\n",
        "    print(f\"\"\"Image shape: {image.shape} Image dtype: {image.dtype} Target class or Label from Food101 (tensor form): {label}\n",
        "    Class name (str form): {class_names[label.numpy()]}\"\"\")\n",
        "  "
      ]
    },
    {
      "cell_type": "code",
      "execution_count": null,
      "metadata": {
        "colab": {
          "base_uri": "https://localhost:8080/"
        },
        "id": "GeuGsLnqDWX6",
        "outputId": "9bb356ae-7c38-4914-ddcf-9cb3f8974aa9"
      },
      "outputs": [
        {
          "output_type": "execute_result",
          "data": {
            "text/plain": [
              "<TakeDataset element_spec=(TensorSpec(shape=(None, None, 3), dtype=tf.uint8, name=None), TensorSpec(shape=(), dtype=tf.int64, name=None))>"
            ]
          },
          "metadata": {},
          "execution_count": 20
        }
      ],
      "source": [
        "train_one_sample= train_data.take(10)\n",
        "train_one_sample"
      ]
    },
    {
      "cell_type": "markdown",
      "metadata": {
        "id": "oxqWUlwpDpVQ"
      },
      "source": [
        "## Preprocessing function to preprocess our data\n",
        "\n",
        "> Neural Network perform best when data is in a certain way(e.g. `batched, normalized, etc`)\n",
        "\n",
        "> Before we pass, the data to the model for training, we need to do a few thing to the data for it to be eligiable to be passed to the model for training\n",
        "\n",
        "### what are the problems with the data we have currently:-\n",
        "\n",
        "* Images are in `uint8` datatype\n",
        "\n",
        "* Images are of varying sizes\n",
        "\n",
        "* Images are not scaled(between 0-1)\n",
        "\n",
        "### What type of data, models like:\n",
        "\n",
        "* Data needs to be in `float32` dtype(or for `mixed precision` in `float16 and float32`)\n",
        "\n",
        "* For Batches, Tensorflow likes the images in a `constant/consistent/same size`.\n",
        "\n",
        "* Normalized/scaled data(values between 0-1) speeds up the traning process and helps the model learn the patterns of the dataset faster\n",
        "\n",
        "#### Working of the preprocessing function\n",
        "\n",
        "* Reshaping all of the images to the same size\n",
        "* Convert all of the dtypes of our image tensors from `uint8` to `float32` which models like."
      ]
    },
    {
      "cell_type": "code",
      "execution_count": null,
      "metadata": {
        "id": "hSaAkkhaIMcs"
      },
      "outputs": [],
      "source": [
        "def preprocess_image(image, label, img_shape=224, scaling=False):\n",
        "  \"\"\"\n",
        "    Converts any image datatype to 'float32', and reshapes the images to [img_shape, img_shape, color_channels]\n",
        "    Args:\n",
        "      image: The image to the preprocesses\n",
        "      label: string, The label of the image\n",
        "      img_shape: int, Default is '224'. The shape to which the image is preprocessed into.\n",
        "    Returns:\n",
        "      (newImage, label) respectively as a tupel\n",
        "\n",
        "  \"\"\"\n",
        "  image= tf.image.resize(image, [img_shape, img_shape]) # Resizing the image into a same size.\n",
        "  if scaling:\n",
        "    image= image/255. # Scaling/Normalizing values of the image. EfficientNetBx models have build-in rescaling layers\n",
        "  newdtypeImage= tf.cast(image, tf.float32) # Changing the dtype of the image into float32\n",
        "  return newdtypeImage, label"
      ]
    },
    {
      "cell_type": "markdown",
      "metadata": {
        "id": "n8WASIsoN4N2"
      },
      "source": [
        "### Trying the preprocessed function"
      ]
    },
    {
      "cell_type": "code",
      "execution_count": null,
      "metadata": {
        "id": "HfwuZrF7N8vO"
      },
      "outputs": [],
      "source": [
        "preprocessed_img, preprocessed_label= preprocess_image(image, label)"
      ]
    },
    {
      "cell_type": "code",
      "execution_count": null,
      "metadata": {
        "colab": {
          "base_uri": "https://localhost:8080/"
        },
        "id": "McYf1MgAOOlf",
        "outputId": "36de845e-e289-4ce7-e72c-16167e0bd718"
      },
      "outputs": [
        {
          "output_type": "execute_result",
          "data": {
            "text/plain": [
              "<tf.Tensor: shape=(224, 224, 3), dtype=float32, numpy=\n",
              "array([[[ 41.127552 ,  39.127552 ,  50.127552 ],\n",
              "        [ 40.642857 ,  38.642857 ,  49.642857 ],\n",
              "        [ 40.285713 ,  38.285713 ,  49.285713 ],\n",
              "        ...,\n",
              "        [ 48.92855  ,  21.928549 ,   4.500022 ],\n",
              "        [ 47.7398   ,  20.739801 ,   3.7398005],\n",
              "        [ 49.301044 ,  22.301043 ,   5.3010426]],\n",
              "\n",
              "       [[ 40.642857 ,  38.642857 ,  49.642857 ],\n",
              "        [ 42.9949   ,  40.9949   ,  51.9949   ],\n",
              "        [ 41.85714  ,  39.85714  ,  50.85714  ],\n",
              "        ...,\n",
              "        [ 49.127533 ,  22.127531 ,   4.699003 ],\n",
              "        [ 47.862247 ,  20.862246 ,   3.8622463],\n",
              "        [ 48.928574 ,  21.928572 ,   4.9285717]],\n",
              "\n",
              "       [[ 42.07653  ,  39.862244 ,  50.862244 ],\n",
              "        [ 41.071426 ,  38.85714  ,  49.85714  ],\n",
              "        [ 38.663265 ,  36.44898  ,  47.44898  ],\n",
              "        ...,\n",
              "        [ 48.785713 ,  21.785713 ,   4.785714 ],\n",
              "        [ 47.98469  ,  20.770405 ,   4.413263 ],\n",
              "        [ 47.785713 ,  20.571428 ,   4.214286 ]],\n",
              "\n",
              "       ...,\n",
              "\n",
              "       [[192.92348  , 184.92348  , 196.352    ],\n",
              "        [194.19896  , 186.19896  , 199.19896  ],\n",
              "        [194.7398   , 187.16837  , 199.95409  ],\n",
              "        ...,\n",
              "        [177.83165  , 177.83165  , 187.83165  ],\n",
              "        [178.7296   , 177.15813  , 187.94386  ],\n",
              "        [175.64282  , 174.85709  , 183.28561  ]],\n",
              "\n",
              "       [[187.66837  , 179.66837  , 190.66837  ],\n",
              "        [189.00002  , 181.00002  , 192.00002  ],\n",
              "        [193.05609  , 185.48466  , 198.27039  ],\n",
              "        ...,\n",
              "        [179.92856  , 178.35709  , 189.14282  ],\n",
              "        [179.86221  , 178.86221  , 186.86221  ],\n",
              "        [176.28564  , 175.28564  , 183.28564  ]],\n",
              "\n",
              "       [[183.7294   , 175.7294   , 186.7294   ],\n",
              "        [187.7601   , 179.7601   , 190.7601   ],\n",
              "        [189.42854  , 181.8571   , 193.0714   ],\n",
              "        ...,\n",
              "        [176.5663   , 175.78056  , 184.20909  ],\n",
              "        [177.64282  , 176.64282  , 184.64282  ],\n",
              "        [175.51524  , 174.51524  , 182.51524  ]]], dtype=float32)>"
            ]
          },
          "metadata": {},
          "execution_count": 23
        }
      ],
      "source": [
        "preprocessed_img"
      ]
    },
    {
      "cell_type": "code",
      "execution_count": null,
      "metadata": {
        "id": "sp4NGiqaP45k"
      },
      "outputs": [],
      "source": [
        "preprocessed_img_1, preprocessed_label_1= preprocess_image(image, label, scaling=False)"
      ]
    },
    {
      "cell_type": "code",
      "execution_count": null,
      "metadata": {
        "colab": {
          "base_uri": "https://localhost:8080/"
        },
        "id": "iYKWU3uLP42y",
        "outputId": "0d46b88c-54ed-440a-92ff-1c1b9cc110d3"
      },
      "outputs": [
        {
          "output_type": "execute_result",
          "data": {
            "text/plain": [
              "<tf.Tensor: shape=(224, 224, 3), dtype=float32, numpy=\n",
              "array([[[ 41.127552 ,  39.127552 ,  50.127552 ],\n",
              "        [ 40.642857 ,  38.642857 ,  49.642857 ],\n",
              "        [ 40.285713 ,  38.285713 ,  49.285713 ],\n",
              "        ...,\n",
              "        [ 48.92855  ,  21.928549 ,   4.500022 ],\n",
              "        [ 47.7398   ,  20.739801 ,   3.7398005],\n",
              "        [ 49.301044 ,  22.301043 ,   5.3010426]],\n",
              "\n",
              "       [[ 40.642857 ,  38.642857 ,  49.642857 ],\n",
              "        [ 42.9949   ,  40.9949   ,  51.9949   ],\n",
              "        [ 41.85714  ,  39.85714  ,  50.85714  ],\n",
              "        ...,\n",
              "        [ 49.127533 ,  22.127531 ,   4.699003 ],\n",
              "        [ 47.862247 ,  20.862246 ,   3.8622463],\n",
              "        [ 48.928574 ,  21.928572 ,   4.9285717]],\n",
              "\n",
              "       [[ 42.07653  ,  39.862244 ,  50.862244 ],\n",
              "        [ 41.071426 ,  38.85714  ,  49.85714  ],\n",
              "        [ 38.663265 ,  36.44898  ,  47.44898  ],\n",
              "        ...,\n",
              "        [ 48.785713 ,  21.785713 ,   4.785714 ],\n",
              "        [ 47.98469  ,  20.770405 ,   4.413263 ],\n",
              "        [ 47.785713 ,  20.571428 ,   4.214286 ]],\n",
              "\n",
              "       ...,\n",
              "\n",
              "       [[192.92348  , 184.92348  , 196.352    ],\n",
              "        [194.19896  , 186.19896  , 199.19896  ],\n",
              "        [194.7398   , 187.16837  , 199.95409  ],\n",
              "        ...,\n",
              "        [177.83165  , 177.83165  , 187.83165  ],\n",
              "        [178.7296   , 177.15813  , 187.94386  ],\n",
              "        [175.64282  , 174.85709  , 183.28561  ]],\n",
              "\n",
              "       [[187.66837  , 179.66837  , 190.66837  ],\n",
              "        [189.00002  , 181.00002  , 192.00002  ],\n",
              "        [193.05609  , 185.48466  , 198.27039  ],\n",
              "        ...,\n",
              "        [179.92856  , 178.35709  , 189.14282  ],\n",
              "        [179.86221  , 178.86221  , 186.86221  ],\n",
              "        [176.28564  , 175.28564  , 183.28564  ]],\n",
              "\n",
              "       [[183.7294   , 175.7294   , 186.7294   ],\n",
              "        [187.7601   , 179.7601   , 190.7601   ],\n",
              "        [189.42854  , 181.8571   , 193.0714   ],\n",
              "        ...,\n",
              "        [176.5663   , 175.78056  , 184.20909  ],\n",
              "        [177.64282  , 176.64282  , 184.64282  ],\n",
              "        [175.51524  , 174.51524  , 182.51524  ]]], dtype=float32)>"
            ]
          },
          "metadata": {},
          "execution_count": 25
        }
      ],
      "source": [
        "preprocessed_img_1"
      ]
    },
    {
      "cell_type": "code",
      "execution_count": null,
      "metadata": {
        "colab": {
          "base_uri": "https://localhost:8080/",
          "height": 324
        },
        "id": "F76zO8VlOsio",
        "outputId": "6a2f7ade-4331-4bdc-f6b5-3c25ae231e41"
      },
      "outputs": [
        {
          "output_type": "stream",
          "name": "stdout",
          "text": [
            "original Image\n",
            "Image shape: (512, 512, 3) Image dtype: <dtype: 'uint8'> Target class or Label from Food101 (tensor form): 72\n",
            "    Class name (str form): pancakes\n"
          ]
        },
        {
          "output_type": "display_data",
          "data": {
            "text/plain": [
              "<Figure size 432x288 with 1 Axes>"
            ],
            "image/png": "[encoded data removed]"
          },
          "metadata": {
            "needs_background": "light"
          }
        }
      ],
      "source": [
        "print(\"original Image\")\n",
        "plt.imshow(image)\n",
        "plt.title(class_names[label.numpy()])\n",
        "print(f\"\"\"Image shape: {image.shape} Image dtype: {image.dtype} Target class or Label from Food101 (tensor form): {label}\n",
        "    Class name (str form): {class_names[label.numpy()]}\"\"\")\n",
        "plt.axis(False);"
      ]
    },
    {
      "cell_type": "code",
      "execution_count": null,
      "metadata": {
        "colab": {
          "base_uri": "https://localhost:8080/",
          "height": 343
        },
        "id": "_YHMd33AOJBT",
        "outputId": "b7400f7f-12ec-4eb7-a73f-c8d02295a9d0"
      },
      "outputs": [
        {
          "output_type": "stream",
          "name": "stderr",
          "text": [
            "WARNING:matplotlib.image:Clipping input data to the valid range for imshow with RGB data ([0..1] for floats or [0..255] for integers).\n"
          ]
        },
        {
          "output_type": "stream",
          "name": "stdout",
          "text": [
            "Preprocessed Image\n",
            "Image shape: (224, 224, 3) Image dtype: <dtype: 'float32'> Target class or Label from Food101 (tensor form): 72\n",
            "    Class name (str form): pancakes\n"
          ]
        },
        {
          "output_type": "display_data",
          "data": {
            "text/plain": [
              "<Figure size 432x288 with 1 Axes>"
            ],
            "image/png": "[encoded data removed]"
          },
          "metadata": {
            "needs_background": "light"
          }
        }
      ],
      "source": [
        "print(\"Preprocessed Image\")\n",
        "plt.imshow(preprocessed_img)\n",
        "plt.title(class_names[label.numpy()])\n",
        "print(f\"\"\"Image shape: {preprocessed_img.shape} Image dtype: {preprocessed_img.dtype} Target class or Label from Food101 (tensor form): {preprocessed_label}\n",
        "    Class name (str form): {class_names[label.numpy()]}\"\"\")\n",
        "plt.axis(False);"
      ]
    },
    {
      "cell_type": "code",
      "execution_count": null,
      "metadata": {
        "colab": {
          "base_uri": "https://localhost:8080/",
          "height": 324
        },
        "id": "APKS7GVOPapd",
        "outputId": "73e5c8b0-9fb0-485d-c78d-95ac3f06fedc"
      },
      "outputs": [
        {
          "output_type": "stream",
          "name": "stdout",
          "text": [
            "Preprocessed Image\n",
            "Image shape: (224, 224, 3) Image dtype: <dtype: 'float32'> Target class or Label from Food101 (tensor form): 72\n",
            "    Class name (str form): pancakes\n"
          ]
        },
        {
          "output_type": "display_data",
          "data": {
            "text/plain": [
              "<Figure size 432x288 with 1 Axes>"
            ],
            "image/png": "[encoded data removed]"
          },
          "metadata": {
            "needs_background": "light"
          }
        }
      ],
      "source": [
        "print(\"Preprocessed Image\")\n",
        "plt.imshow(preprocessed_img_1/255)\n",
        "plt.title(class_names[label.numpy()])\n",
        "print(f\"\"\"Image shape: {preprocessed_img_1.shape} Image dtype: {preprocessed_img_1.dtype} Target class or Label from Food101 (tensor form): {preprocessed_label_1}\n",
        "    Class name (str form): {class_names[preprocessed_label_1.numpy()]}\"\"\")\n",
        "plt.axis(False);"
      ]
    },
    {
      "cell_type": "markdown",
      "metadata": {
        "id": "t6O0AMtaQixf"
      },
      "source": [
        "## Creating batches of the dataset and preparing the datasets\n",
        "\n",
        "**Resources** -> https://www.tensorflow.org/guide/data_performance"
      ]
    },
    {
      "cell_type": "code",
      "execution_count": null,
      "metadata": {
        "colab": {
          "base_uri": "https://localhost:8080/"
        },
        "id": "gMBr0B6_hicx",
        "outputId": "e938b6ae-9015-4cd5-87ab-827e12a360ff"
      },
      "outputs": [
        {
          "output_type": "execute_result",
          "data": {
            "text/plain": [
              "<PrefetchDataset element_spec=(TensorSpec(shape=(None, None, 3), dtype=tf.uint8, name=None), TensorSpec(shape=(), dtype=tf.int64, name=None))>"
            ]
          },
          "metadata": {},
          "execution_count": 29
        }
      ],
      "source": [
        "train_data"
      ]
    },
    {
      "cell_type": "code",
      "execution_count": null,
      "metadata": {
        "id": "kyVvsL6qiuyx"
      },
      "outputs": [],
      "source": [
        "# Mapped the preprocessing function to training data\n",
        "train_data= train_data.map(map_func= preprocess_image, num_parallel_calls=tf.data.AUTOTUNE) # Tensorflow is going to automatically, tune the number of process the function uses.\n",
        "\n",
        "# Shuffle train_data and turn it into batches and prefetch it(loading the data faster)\n",
        "train_data= train_data.shuffle(buffer_size=1000).batch(batch_size=32).prefetch(buffer_size=tf.data.AUTOTUNE) # It is going to shuffle 1000 sampples at a time\n",
        "\n",
        "# Mapped the preprocessing function to test data\n",
        "test_data= test_data.map(map_func= preprocess_image, num_parallel_calls=tf.data.AUTOTUNE).batch(32).prefetch(tf.data.AUTOTUNE)\n"
      ]
    },
    {
      "cell_type": "code",
      "source": [
        "train_data_processes"
      ],
      "metadata": {
        "colab": {
          "base_uri": "https://localhost:8080/"
        },
        "id": "ok2VmpMa4j5c",
        "outputId": "5376825b-9946-435c-943b-f59f83141308"
      },
      "execution_count": null,
      "outputs": [
        {
          "output_type": "execute_result",
          "data": {
            "text/plain": [
              "<PrefetchDataset element_spec=(TensorSpec(shape=(None, 224, 224, 3), dtype=tf.float32, name=None), TensorSpec(shape=(None,), dtype=tf.int64, name=None))>"
            ]
          },
          "metadata": {},
          "execution_count": 31
        }
      ]
    },
    {
      "cell_type": "markdown",
      "metadata": {
        "id": "tKuEy82K1IKk"
      },
      "source": [
        "## Explanation\n",
        "\n",
        "\"Hey, map this preprocessing function across our training dataset, then shuffle a number of elements before batching them together and make sure you prepare new batches (prefetch) whilst the model is looking through the current batc"
      ]
    },
    {
      "cell_type": "code",
      "execution_count": null,
      "metadata": {
        "colab": {
          "base_uri": "https://localhost:8080/"
        },
        "id": "z9gLTo6nkNOC",
        "outputId": "fddf55e8-152e-48d9-f963-0bc0933182c5"
      },
      "outputs": [
        {
          "output_type": "execute_result",
          "data": {
            "text/plain": [
              "<PrefetchDataset element_spec=(TensorSpec(shape=(None, 224, 224, 3), dtype=tf.float32, name=None), TensorSpec(shape=(None,), dtype=tf.int64, name=None))>"
            ]
          },
          "metadata": {},
          "execution_count": 32
        }
      ],
      "source": [
        "train_data"
      ]
    },
    {
      "cell_type": "code",
      "execution_count": null,
      "metadata": {
        "colab": {
          "base_uri": "https://localhost:8080/"
        },
        "id": "QlC0vHqTz0sR",
        "outputId": "ab7aa219-6bd9-4a31-86fb-9cede973d56a"
      },
      "outputs": [
        {
          "output_type": "execute_result",
          "data": {
            "text/plain": [
              "<PrefetchDataset element_spec=(TensorSpec(shape=(None, 224, 224, 3), dtype=tf.float32, name=None), TensorSpec(shape=(None,), dtype=tf.int64, name=None))>"
            ]
          },
          "metadata": {},
          "execution_count": 33
        }
      ],
      "source": [
        "train_data"
      ]
    },
    {
      "cell_type": "markdown",
      "metadata": {
        "id": "IlCAiEpZz3BM"
      },
      "source": [
        "## Create Modelling callbacks"
      ]
    },
    {
      "cell_type": "code",
      "execution_count": null,
      "metadata": {
        "id": "9_byJsQu_i4a"
      },
      "outputs": [],
      "source": [
        "from helper_functions import  create_tensorboard_callback, model_check_point_callback, create_early_stopping_callback, reduce_learning_rate_callback"
      ]
    },
    {
      "cell_type": "code",
      "execution_count": null,
      "metadata": {
        "colab": {
          "base_uri": "https://localhost:8080/"
        },
        "id": "kgAvcmUkYYt3",
        "outputId": "c47b0b37-2a16-4d8a-9f4c-0d3b83f61a06"
      },
      "outputs": [
        {
          "output_type": "stream",
          "name": "stdout",
          "text": [
            "Saving TensorBoard log files to: transfer_learning/101_classes_feature_extraction_all_data/20220809-090710\n"
          ]
        }
      ],
      "source": [
        "# Model Checkpoint Callback\n",
        "checkpoint_feature_extraction= 'checkpoints/feature_extraction_model'\n",
        "checkpoint_callback=model_check_point_callback(checkpoint_feature_extraction, save_weights_only=True, save_best_only=True, monitor=\"val_loss\")\n",
        "\n",
        "# Tensorboard Callback\n",
        "tensorboard_callback= create_tensorboard_callback(\"transfer_learning\", \"101_classes_feature_extraction_all_data\")\n",
        "\n",
        "# Early Stopping Callback\n",
        "early_stopping_callback= create_early_stopping_callback(monitor=\"val_accuracy\", patience=5)\n",
        "\n",
        "# Learning Rate Scheduler\n",
        "\n",
        "def scheduler(epoch, lr):\n",
        "  if epoch < 5:\n",
        "    return lr\n",
        "  else:\n",
        "    return lr * tf.math.exp(-0.1)\n",
        "\n",
        "lr_scheduler_callback = tf.keras.callbacks.LearningRateScheduler(scheduler)\n",
        "\n",
        "## Reduce Learing Rate Callback\n",
        "\n",
        "learning_rate_reduce_callback= reduce_learning_rate_callback(monitor=\"val_loss\", factor=0.2, patience=2, minimum_lr=1e-7)"
      ]
    },
    {
      "cell_type": "markdown",
      "metadata": {
        "id": "tnyRSrxsBRd4"
      },
      "source": [
        "## Mixed Precision Training\n",
        "\n",
        "> Mixed precision utilizes a combination of float32 and float16 data types to speed up model performance.\n",
        "\n",
        "**Guide** -> https://www.tensorflow.org/guide/mixed_precision"
      ]
    },
    {
      "cell_type": "markdown",
      "metadata": {
        "id": "ukm6r45Pkn1P"
      },
      "source": [
        "## Adding Augmented Layer"
      ]
    },
    {
      "cell_type": "code",
      "execution_count": null,
      "metadata": {
        "colab": {
          "base_uri": "https://localhost:8080/"
        },
        "id": "2EjDQUIDkpvx",
        "outputId": "a15a23f6-84cf-4f9e-cf47-ecc891808a9b"
      },
      "outputs": [
        {
          "output_type": "execute_result",
          "data": {
            "text/plain": [
              "<keras.engine.sequential.Sequential at 0x7f15303b84d0>"
            ]
          },
          "metadata": {},
          "execution_count": 36
        }
      ],
      "source": [
        "augmented_layer=create_data_augmented_layer_for_model(RandomFlip=\"horizontal\", RandomRotation=0.2, RandomZoom=0.2, RandomHeight=0.2, RandomWidth=0.2)\n",
        "augmented_layer"
      ]
    },
    {
      "cell_type": "markdown",
      "metadata": {
        "id": "QCY7V1rVBx3N"
      },
      "source": [
        "## Turnining on Mixed Precision Training\n"
      ]
    },
    {
      "cell_type": "code",
      "execution_count": null,
      "metadata": {
        "colab": {
          "base_uri": "https://localhost:8080/"
        },
        "id": "sRmAfrVyD5in",
        "outputId": "69ce7068-9d9e-4914-8309-54c83e085204"
      },
      "outputs": [
        {
          "output_type": "stream",
          "name": "stdout",
          "text": [
            "INFO:tensorflow:Mixed precision compatibility check (mixed_float16): OK\n",
            "Your GPU will likely run quickly with dtype policy mixed_float16 as it has compute capability of at least 7.0. Your GPU: Tesla T4, compute capability 7.5\n"
          ]
        },
        {
          "output_type": "stream",
          "name": "stderr",
          "text": [
            "INFO:tensorflow:Mixed precision compatibility check (mixed_float16): OK\n",
            "Your GPU will likely run quickly with dtype policy mixed_float16 as it has compute capability of at least 7.0. Your GPU: Tesla T4, compute capability 7.5\n"
          ]
        }
      ],
      "source": [
        "mixed_precision.set_global_policy(\"mixed_float16\")"
      ]
    },
    {
      "cell_type": "code",
      "execution_count": null,
      "metadata": {
        "colab": {
          "base_uri": "https://localhost:8080/"
        },
        "id": "P1YozKu8EKgg",
        "outputId": "a2815faf-07b9-440c-f466-00129b928096"
      },
      "outputs": [
        {
          "output_type": "execute_result",
          "data": {
            "text/plain": [
              "<Policy \"mixed_float16\">"
            ]
          },
          "metadata": {},
          "execution_count": 38
        }
      ],
      "source": [
        "mixed_precision.global_policy()"
      ]
    },
    {
      "cell_type": "code",
      "execution_count": null,
      "metadata": {
        "colab": {
          "base_uri": "https://localhost:8080/"
        },
        "id": "7Vj40XDFsko6",
        "outputId": "d06dbe52-4932-4291-9420-84f8ad6abd3c"
      },
      "outputs": [
        {
          "output_type": "execute_result",
          "data": {
            "text/plain": [
              "101"
            ]
          },
          "metadata": {},
          "execution_count": 39
        }
      ],
      "source": [
        "len(class_names)"
      ]
    },
    {
      "cell_type": "code",
      "execution_count": null,
      "metadata": {
        "id": "nM-fmztvRoP4"
      },
      "outputs": [],
      "source": [
        "CLASS_COUNT=len(class_names)"
      ]
    },
    {
      "cell_type": "markdown",
      "metadata": {
        "id": "itHI68esEfR4"
      },
      "source": [
        "## Build Feature extraction model\n",
        "\n",
        "> We will be using `Augmented, Dropout, Regularization` layers to reduce `overfitting` of the model. We will be using `Learning rate Scheduler` as well.\n",
        "\n",
        "> Try once with `Learning Rate Scheduler` and use `learning rate callback` instead"
      ]
    },
    {
      "cell_type": "code",
      "execution_count": null,
      "metadata": {
        "id": "fMwxLlIRVsy3"
      },
      "outputs": [],
      "source": [
        "# Create base model\n",
        "input_shape = (224, 224, 3)\n",
        "base_model = tf.keras.applications.EfficientNetB0(include_top=False)\n",
        "base_model.trainable = False # freeze base model layers\n",
        "\n",
        "# Create Functional model \n",
        "inputs = layers.Input(shape=input_shape, name=\"input_layer\")\n",
        "# Note: EfficientNetBX models have rescaling built-in but if your model didn't you could have a layer like below\n",
        "# x = preprocessing.Rescaling(1./255)(x)\n",
        "x= augmented_layer(inputs)\n",
        "x = base_model(inputs, training=False) # set base_model to inference mode only\n",
        "x = layers.GlobalAveragePooling2D(name=\"pooling_layer\")(x)\n",
        "x=  tf.keras.layers.Dropout(0.2)(x, name=\"dropout_layer\") # Dropout Layer\n",
        "x= layers.Dense(units= CLASS_COUNT,kernel_regularizer=regularizers.L1L2(l1=1e-5, l2=1e-4),bias_regularizer=regularizers.L2(1e-4), activity_regularizer=regularizers.L2(1e-5), name='regularization_layer')(x) # Regularization Layer\n",
        "x = layers.Dense(CLASS_COUNT)(x) # want one output neuron per class \n",
        "# Separate activation of output layer so we can output float32 activations\n",
        "outputs = layers.Activation(\"softmax\", dtype=tf.float32, name=\"softmax_float32\")(x) \n",
        "model = tf.keras.Model(inputs, outputs)\n",
        "\n",
        "# Compile the model\n",
        "model.compile(loss=\"sparse_categorical_crossentropy\", # Use sparse_categorical_crossentropy when labels are *not* one-hot\n",
        "              optimizer=tf.keras.optimizers.Adam(),\n",
        "              metrics=[\"accuracy\"])"
      ]
    },
    {
      "cell_type": "code",
      "execution_count": null,
      "metadata": {
        "id": "oVmIZ3rLSbwO"
      },
      "outputs": [],
      "source": [
        "model.summary()"
      ]
    },
    {
      "cell_type": "markdown",
      "metadata": {
        "id": "mZpWjI6lUkGF"
      },
      "source": [
        "## Checking the layers of the model\n",
        "\n",
        "* `layer.name` -> Human readable name of the layer\n",
        "* `layer.trainable` -> Boolean, layer is trainable or not, if the layers are frozen or unfrozen\n",
        "* `layer.dtype` -> The dtype format in which the layer stores the variables in\n",
        "\n",
        "* `layer.dtype_policy` -> The dype_policy in which the layer computes the variables in"
      ]
    },
    {
      "cell_type": "markdown",
      "metadata": {
        "id": "YDihpnldhmnK"
      },
      "source": [
        "## Checking the dtype_policy of the layer of the base_model"
      ]
    },
    {
      "cell_type": "code",
      "execution_count": null,
      "metadata": {
        "id": "nV7E7FjChYL0",
        "colab": {
          "base_uri": "https://localhost:8080/"
        },
        "outputId": "08c2df4a-fdb3-402a-e6e5-79589caf6b8c"
      },
      "outputs": [
        {
          "output_type": "stream",
          "name": "stdout",
          "text": [
            "<keras.engine.input_layer.InputLayer object at 0x7f15303d4190> input_1 float32 <Policy \"float32\">\n",
            "<keras.layers.preprocessing.image_preprocessing.Rescaling object at 0x7f152b1c4e50> rescaling float32 <Policy \"mixed_float16\">\n",
            "<keras.layers.preprocessing.normalization.Normalization object at 0x7f152b1c4690> normalization float32 <Policy \"mixed_float16\">\n",
            "<keras.layers.convolutional.ZeroPadding2D object at 0x7f152b3a54d0> stem_conv_pad float32 <Policy \"mixed_float16\">\n",
            "<keras.layers.convolutional.Conv2D object at 0x7f15303d7a10> stem_conv float32 <Policy \"mixed_float16\">\n",
            "<keras.layers.normalization.batch_normalization.BatchNormalization object at 0x7f152b3acf50> stem_bn float32 <Policy \"mixed_float16\">\n",
            "<keras.layers.core.activation.Activation object at 0x7f152a9e0750> stem_activation float32 <Policy \"mixed_float16\">\n",
            "<keras.layers.convolutional.DepthwiseConv2D object at 0x7f152b1e1810> block1a_dwconv float32 <Policy \"mixed_float16\">\n",
            "<keras.layers.normalization.batch_normalization.BatchNormalization object at 0x7f152a9cfd10> block1a_bn float32 <Policy \"mixed_float16\">\n",
            "<keras.layers.core.activation.Activation object at 0x7f15303d7990> block1a_activation float32 <Policy \"mixed_float16\">\n",
            "<keras.layers.pooling.GlobalAveragePooling2D object at 0x7f152b3912d0> block1a_se_squeeze float32 <Policy \"mixed_float16\">\n",
            "<keras.layers.core.reshape.Reshape object at 0x7f152b1cd0d0> block1a_se_reshape float32 <Policy \"mixed_float16\">\n",
            "<keras.layers.convolutional.Conv2D object at 0x7f152b64f790> block1a_se_reduce float32 <Policy \"mixed_float16\">\n",
            "<keras.layers.convolutional.Conv2D object at 0x7f152b63d890> block1a_se_expand float32 <Policy \"mixed_float16\">\n",
            "<keras.layers.merge.Multiply object at 0x7f152b641050> block1a_se_excite float32 <Policy \"mixed_float16\">\n",
            "<keras.layers.convolutional.Conv2D object at 0x7f152b6475d0> block1a_project_conv float32 <Policy \"mixed_float16\">\n",
            "<keras.layers.normalization.batch_normalization.BatchNormalization object at 0x7f152baef310> block1a_project_bn float32 <Policy \"mixed_float16\">\n",
            "<keras.layers.convolutional.Conv2D object at 0x7f15303c6390> block2a_expand_conv float32 <Policy \"mixed_float16\">\n",
            "<keras.layers.normalization.batch_normalization.BatchNormalization object at 0x7f152bb1bfd0> block2a_expand_bn float32 <Policy \"mixed_float16\">\n",
            "<keras.layers.core.activation.Activation object at 0x7f15303d4250> block2a_expand_activation float32 <Policy \"mixed_float16\">\n",
            "<keras.layers.convolutional.ZeroPadding2D object at 0x7f15303e5d50> block2a_dwconv_pad float32 <Policy \"mixed_float16\">\n",
            "<keras.layers.convolutional.DepthwiseConv2D object at 0x7f152bb10950> block2a_dwconv float32 <Policy \"mixed_float16\">\n",
            "<keras.layers.normalization.batch_normalization.BatchNormalization object at 0x7f152bb199d0> block2a_bn float32 <Policy \"mixed_float16\">\n",
            "<keras.layers.core.activation.Activation object at 0x7f152bb19e10> block2a_activation float32 <Policy \"mixed_float16\">\n",
            "<keras.layers.pooling.GlobalAveragePooling2D object at 0x7f152bb19190> block2a_se_squeeze float32 <Policy \"mixed_float16\">\n",
            "<keras.layers.core.reshape.Reshape object at 0x7f152bb05810> block2a_se_reshape float32 <Policy \"mixed_float16\">\n",
            "<keras.layers.convolutional.Conv2D object at 0x7f152baf7050> block2a_se_reduce float32 <Policy \"mixed_float16\">\n",
            "<keras.layers.convolutional.Conv2D object at 0x7f152bafd910> block2a_se_expand float32 <Policy \"mixed_float16\">\n",
            "<keras.layers.merge.Multiply object at 0x7f152be655d0> block2a_se_excite float32 <Policy \"mixed_float16\">\n",
            "<keras.layers.convolutional.Conv2D object at 0x7f152be65c90> block2a_project_conv float32 <Policy \"mixed_float16\">\n",
            "<keras.layers.normalization.batch_normalization.BatchNormalization object at 0x7f152be5d3d0> block2a_project_bn float32 <Policy \"mixed_float16\">\n",
            "<keras.layers.convolutional.Conv2D object at 0x7f152be45290> block2b_expand_conv float32 <Policy \"mixed_float16\">\n",
            "<keras.layers.normalization.batch_normalization.BatchNormalization object at 0x7f152b1e1890> block2b_expand_bn float32 <Policy \"mixed_float16\">\n",
            "<keras.layers.core.activation.Activation object at 0x7f152be4b950> block2b_expand_activation float32 <Policy \"mixed_float16\">\n",
            "<keras.layers.convolutional.DepthwiseConv2D object at 0x7f152be35990> block2b_dwconv float32 <Policy \"mixed_float16\">\n",
            "<keras.layers.normalization.batch_normalization.BatchNormalization object at 0x7f152be31110> block2b_bn float32 <Policy \"mixed_float16\">\n",
            "<keras.layers.core.activation.Activation object at 0x7f152c0696d0> block2b_activation float32 <Policy \"mixed_float16\">\n",
            "<keras.layers.pooling.GlobalAveragePooling2D object at 0x7f152b3ac050> block2b_se_squeeze float32 <Policy \"mixed_float16\">\n",
            "<keras.layers.core.reshape.Reshape object at 0x7f152c06cc50> block2b_se_reshape float32 <Policy \"mixed_float16\">\n",
            "<keras.layers.convolutional.Conv2D object at 0x7f152c06c150> block2b_se_reduce float32 <Policy \"mixed_float16\">\n",
            "<keras.layers.convolutional.Conv2D object at 0x7f152c064390> block2b_se_expand float32 <Policy \"mixed_float16\">\n",
            "<keras.layers.merge.Multiply object at 0x7f152c05bc90> block2b_se_excite float32 <Policy \"mixed_float16\">\n",
            "<keras.layers.convolutional.Conv2D object at 0x7f15303d7250> block2b_project_conv float32 <Policy \"mixed_float16\">\n",
            "<keras.layers.normalization.batch_normalization.BatchNormalization object at 0x7f152c039110> block2b_project_bn float32 <Policy \"mixed_float16\">\n",
            "<keras.layers.core.dropout.Dropout object at 0x7f152c03f110> block2b_drop float32 <Policy \"mixed_float16\">\n",
            "<keras.layers.merge.Add object at 0x7f152c04c310> block2b_add float32 <Policy \"mixed_float16\">\n",
            "<keras.layers.convolutional.Conv2D object at 0x7f152b1e1410> block3a_expand_conv float32 <Policy \"mixed_float16\">\n",
            "<keras.layers.normalization.batch_normalization.BatchNormalization object at 0x7f152be68810> block3a_expand_bn float32 <Policy \"mixed_float16\">\n",
            "<keras.layers.core.activation.Activation object at 0x7f152bb0d110> block3a_expand_activation float32 <Policy \"mixed_float16\">\n",
            "<keras.layers.convolutional.ZeroPadding2D object at 0x7f152baf7fd0> block3a_dwconv_pad float32 <Policy \"mixed_float16\">\n",
            "<keras.layers.convolutional.DepthwiseConv2D object at 0x7f152bb29590> block3a_dwconv float32 <Policy \"mixed_float16\">\n",
            "<keras.layers.normalization.batch_normalization.BatchNormalization object at 0x7f152b65cfd0> block3a_bn float32 <Policy \"mixed_float16\">\n",
            "<keras.layers.core.activation.Activation object at 0x7f152b3ac390> block3a_activation float32 <Policy \"mixed_float16\">\n",
            "<keras.layers.pooling.GlobalAveragePooling2D object at 0x7f152c032790> block3a_se_squeeze float32 <Policy \"mixed_float16\">\n",
            "<keras.layers.core.reshape.Reshape object at 0x7f152bce8b90> block3a_se_reshape float32 <Policy \"mixed_float16\">\n",
            "<keras.layers.convolutional.Conv2D object at 0x7f152bce8d50> block3a_se_reduce float32 <Policy \"mixed_float16\">\n",
            "<keras.layers.convolutional.Conv2D object at 0x7f152bceded0> block3a_se_expand float32 <Policy \"mixed_float16\">\n",
            "<keras.layers.merge.Multiply object at 0x7f152bcde150> block3a_se_excite float32 <Policy \"mixed_float16\">\n",
            "<keras.layers.convolutional.Conv2D object at 0x7f152bcdefd0> block3a_project_conv float32 <Policy \"mixed_float16\">\n",
            "<keras.layers.normalization.batch_normalization.BatchNormalization object at 0x7f152bccf050> block3a_project_bn float32 <Policy \"mixed_float16\">\n",
            "<keras.layers.convolutional.Conv2D object at 0x7f152bcbc510> block3b_expand_conv float32 <Policy \"mixed_float16\">\n",
            "<keras.layers.normalization.batch_normalization.BatchNormalization object at 0x7f152bccf610> block3b_expand_bn float32 <Policy \"mixed_float16\">\n",
            "<keras.layers.core.activation.Activation object at 0x7f152b1cd190> block3b_expand_activation float32 <Policy \"mixed_float16\">\n",
            "<keras.layers.convolutional.DepthwiseConv2D object at 0x7f152af24350> block3b_dwconv float32 <Policy \"mixed_float16\">\n",
            "<keras.layers.normalization.batch_normalization.BatchNormalization object at 0x7f152af25910> block3b_bn float32 <Policy \"mixed_float16\">\n",
            "<keras.layers.core.activation.Activation object at 0x7f152af21990> block3b_activation float32 <Policy \"mixed_float16\">\n",
            "<keras.layers.pooling.GlobalAveragePooling2D object at 0x7f15303c2bd0> block3b_se_squeeze float32 <Policy \"mixed_float16\">\n",
            "<keras.layers.core.reshape.Reshape object at 0x7f152af21cd0> block3b_se_reshape float32 <Policy \"mixed_float16\">\n",
            "<keras.layers.convolutional.Conv2D object at 0x7f152af254d0> block3b_se_reduce float32 <Policy \"mixed_float16\">\n",
            "<keras.layers.convolutional.Conv2D object at 0x7f152af042d0> block3b_se_expand float32 <Policy \"mixed_float16\">\n",
            "<keras.layers.merge.Multiply object at 0x7f15341e0750> block3b_se_excite float32 <Policy \"mixed_float16\">\n",
            "<keras.layers.convolutional.Conv2D object at 0x7f152b3918d0> block3b_project_conv float32 <Policy \"mixed_float16\">\n",
            "<keras.layers.normalization.batch_normalization.BatchNormalization object at 0x7f152aeff6d0> block3b_project_bn float32 <Policy \"mixed_float16\">\n",
            "<keras.layers.core.dropout.Dropout object at 0x7f152bd23b90> block3b_drop float32 <Policy \"mixed_float16\">\n",
            "<keras.layers.merge.Add object at 0x7f152af1a350> block3b_add float32 <Policy \"mixed_float16\">\n",
            "<keras.layers.convolutional.Conv2D object at 0x7f152bd2c190> block4a_expand_conv float32 <Policy \"mixed_float16\">\n",
            "<keras.layers.normalization.batch_normalization.BatchNormalization object at 0x7f152bd1b6d0> block4a_expand_bn float32 <Policy \"mixed_float16\">\n",
            "<keras.layers.core.activation.Activation object at 0x7f152bd2add0> block4a_expand_activation float32 <Policy \"mixed_float16\">\n",
            "<keras.layers.convolutional.ZeroPadding2D object at 0x7f152bd225d0> block4a_dwconv_pad float32 <Policy \"mixed_float16\">\n",
            "<keras.layers.convolutional.DepthwiseConv2D object at 0x7f152bd02b10> block4a_dwconv float32 <Policy \"mixed_float16\">\n",
            "<keras.layers.normalization.batch_normalization.BatchNormalization object at 0x7f152bd10fd0> block4a_bn float32 <Policy \"mixed_float16\">\n",
            "<keras.layers.core.activation.Activation object at 0x7f152bcf3450> block4a_activation float32 <Policy \"mixed_float16\">\n",
            "<keras.layers.pooling.GlobalAveragePooling2D object at 0x7f152b1e1950> block4a_se_squeeze float32 <Policy \"mixed_float16\">\n",
            "<keras.layers.core.reshape.Reshape object at 0x7f152bd9dc50> block4a_se_reshape float32 <Policy \"mixed_float16\">\n",
            "<keras.layers.convolutional.Conv2D object at 0x7f152bd9d110> block4a_se_reduce float32 <Policy \"mixed_float16\">\n",
            "<keras.layers.convolutional.Conv2D object at 0x7f152bd223d0> block4a_se_expand float32 <Policy \"mixed_float16\">\n",
            "<keras.layers.merge.Multiply object at 0x7f152b1e1a50> block4a_se_excite float32 <Policy \"mixed_float16\">\n",
            "<keras.layers.convolutional.Conv2D object at 0x7f152bcbce10> block4a_project_conv float32 <Policy \"mixed_float16\">\n",
            "<keras.layers.normalization.batch_normalization.BatchNormalization object at 0x7f152aca0cd0> block4a_project_bn float32 <Policy \"mixed_float16\">\n",
            "<keras.layers.convolutional.Conv2D object at 0x7f152b65ccd0> block4b_expand_conv float32 <Policy \"mixed_float16\">\n",
            "<keras.layers.normalization.batch_normalization.BatchNormalization object at 0x7f152baff4d0> block4b_expand_bn float32 <Policy \"mixed_float16\">\n",
            "<keras.layers.core.activation.Activation object at 0x7f152bda4750> block4b_expand_activation float32 <Policy \"mixed_float16\">\n",
            "<keras.layers.convolutional.DepthwiseConv2D object at 0x7f152baff250> block4b_dwconv float32 <Policy \"mixed_float16\">\n",
            "<keras.layers.normalization.batch_normalization.BatchNormalization object at 0x7f152bda8e10> block4b_bn float32 <Policy \"mixed_float16\">\n",
            "<keras.layers.core.activation.Activation object at 0x7f152bd986d0> block4b_activation float32 <Policy \"mixed_float16\">\n",
            "<keras.layers.pooling.GlobalAveragePooling2D object at 0x7f152bd9bc90> block4b_se_squeeze float32 <Policy \"mixed_float16\">\n",
            "<keras.layers.core.reshape.Reshape object at 0x7f152bd98350> block4b_se_reshape float32 <Policy \"mixed_float16\">\n",
            "<keras.layers.convolutional.Conv2D object at 0x7f152bda86d0> block4b_se_reduce float32 <Policy \"mixed_float16\">\n",
            "<keras.layers.convolutional.Conv2D object at 0x7f152bd7b0d0> block4b_se_expand float32 <Policy \"mixed_float16\">\n",
            "<keras.layers.merge.Multiply object at 0x7f152bd8c2d0> block4b_se_excite float32 <Policy \"mixed_float16\">\n",
            "<keras.layers.convolutional.Conv2D object at 0x7f152bd9a490> block4b_project_conv float32 <Policy \"mixed_float16\">\n",
            "<keras.layers.normalization.batch_normalization.BatchNormalization object at 0x7f152bfe45d0> block4b_project_bn float32 <Policy \"mixed_float16\">\n",
            "<keras.layers.core.dropout.Dropout object at 0x7f152bfe4910> block4b_drop float32 <Policy \"mixed_float16\">\n",
            "<keras.layers.merge.Add object at 0x7f152bfe2050> block4b_add float32 <Policy \"mixed_float16\">\n",
            "<keras.layers.convolutional.Conv2D object at 0x7f152bfe0650> block4c_expand_conv float32 <Policy \"mixed_float16\">\n",
            "<keras.layers.normalization.batch_normalization.BatchNormalization object at 0x7f152bfd9190> block4c_expand_bn float32 <Policy \"mixed_float16\">\n",
            "<keras.layers.core.activation.Activation object at 0x7f152bfd46d0> block4c_expand_activation float32 <Policy \"mixed_float16\">\n",
            "<keras.layers.convolutional.DepthwiseConv2D object at 0x7f152bfd1d50> block4c_dwconv float32 <Policy \"mixed_float16\">\n",
            "<keras.layers.normalization.batch_normalization.BatchNormalization object at 0x7f152bfcdf10> block4c_bn float32 <Policy \"mixed_float16\">\n",
            "<keras.layers.core.activation.Activation object at 0x7f152bfc5690> block4c_activation float32 <Policy \"mixed_float16\">\n",
            "<keras.layers.pooling.GlobalAveragePooling2D object at 0x7f152bfd1b10> block4c_se_squeeze float32 <Policy \"mixed_float16\">\n",
            "<keras.layers.core.reshape.Reshape object at 0x7f152c1abc10> block4c_se_reshape float32 <Policy \"mixed_float16\">\n",
            "<keras.layers.convolutional.Conv2D object at 0x7f152c1abfd0> block4c_se_reduce float32 <Policy \"mixed_float16\">\n",
            "<keras.layers.convolutional.Conv2D object at 0x7f152c177d50> block4c_se_expand float32 <Policy \"mixed_float16\">\n",
            "<keras.layers.merge.Multiply object at 0x7f152c18b210> block4c_se_excite float32 <Policy \"mixed_float16\">\n",
            "<keras.layers.convolutional.Conv2D object at 0x7f152bfc5ed0> block4c_project_conv float32 <Policy \"mixed_float16\">\n",
            "<keras.layers.normalization.batch_normalization.BatchNormalization object at 0x7f152c197150> block4c_project_bn float32 <Policy \"mixed_float16\">\n",
            "<keras.layers.core.dropout.Dropout object at 0x7f152c180910> block4c_drop float32 <Policy \"mixed_float16\">\n",
            "<keras.layers.merge.Add object at 0x7f152c180e90> block4c_add float32 <Policy \"mixed_float16\">\n",
            "<keras.layers.convolutional.Conv2D object at 0x7f152c197e10> block5a_expand_conv float32 <Policy \"mixed_float16\">\n",
            "<keras.layers.normalization.batch_normalization.BatchNormalization object at 0x7f152c36b090> block5a_expand_bn float32 <Policy \"mixed_float16\">\n",
            "<keras.layers.core.activation.Activation object at 0x7f152b3a34d0> block5a_expand_activation float32 <Policy \"mixed_float16\">\n",
            "<keras.layers.convolutional.DepthwiseConv2D object at 0x7f152c36bdd0> block5a_dwconv float32 <Policy \"mixed_float16\">\n",
            "<keras.layers.normalization.batch_normalization.BatchNormalization object at 0x7f152c18ed10> block5a_bn float32 <Policy \"mixed_float16\">\n",
            "<keras.layers.core.activation.Activation object at 0x7f152bfb44d0> block5a_activation float32 <Policy \"mixed_float16\">\n",
            "<keras.layers.pooling.GlobalAveragePooling2D object at 0x7f152bfc5c50> block5a_se_squeeze float32 <Policy \"mixed_float16\">\n",
            "<keras.layers.core.reshape.Reshape object at 0x7f152bfd94d0> block5a_se_reshape float32 <Policy \"mixed_float16\">\n",
            "<keras.layers.convolutional.Conv2D object at 0x7f152b39f310> block5a_se_reduce float32 <Policy \"mixed_float16\">\n",
            "<keras.layers.convolutional.Conv2D object at 0x7f152bd9d290> block5a_se_expand float32 <Policy \"mixed_float16\">\n",
            "<keras.layers.merge.Multiply object at 0x7f152c369090> block5a_se_excite float32 <Policy \"mixed_float16\">\n",
            "<keras.layers.convolutional.Conv2D object at 0x7f152c351510> block5a_project_conv float32 <Policy \"mixed_float16\">\n",
            "<keras.layers.normalization.batch_normalization.BatchNormalization object at 0x7f152c3672d0> block5a_project_bn float32 <Policy \"mixed_float16\">\n",
            "<keras.layers.convolutional.Conv2D object at 0x7f152c35a410> block5b_expand_conv float32 <Policy \"mixed_float16\">\n",
            "<keras.layers.normalization.batch_normalization.BatchNormalization object at 0x7f152c34a150> block5b_expand_bn float32 <Policy \"mixed_float16\">\n",
            "<keras.layers.core.activation.Activation object at 0x7f152c35a610> block5b_expand_activation float32 <Policy \"mixed_float16\">\n",
            "<keras.layers.convolutional.DepthwiseConv2D object at 0x7f152c34c9d0> block5b_dwconv float32 <Policy \"mixed_float16\">\n",
            "<keras.layers.normalization.batch_normalization.BatchNormalization object at 0x7f152c4a5c10> block5b_bn float32 <Policy \"mixed_float16\">\n",
            "<keras.layers.core.activation.Activation object at 0x7f152c4a81d0> block5b_activation float32 <Policy \"mixed_float16\">\n",
            "<keras.layers.pooling.GlobalAveragePooling2D object at 0x7f152c4a8e10> block5b_se_squeeze float32 <Policy \"mixed_float16\">\n",
            "<keras.layers.core.reshape.Reshape object at 0x7f152c499550> block5b_se_reshape float32 <Policy \"mixed_float16\">\n",
            "<keras.layers.convolutional.Conv2D object at 0x7f152c495e10> block5b_se_reduce float32 <Policy \"mixed_float16\">\n",
            "<keras.layers.convolutional.Conv2D object at 0x7f152c487ad0> block5b_se_expand float32 <Policy \"mixed_float16\">\n",
            "<keras.layers.merge.Multiply object at 0x7f152c474050> block5b_se_excite float32 <Policy \"mixed_float16\">\n",
            "<keras.layers.convolutional.Conv2D object at 0x7f152c474e10> block5b_project_conv float32 <Policy \"mixed_float16\">\n",
            "<keras.layers.normalization.batch_normalization.BatchNormalization object at 0x7f152c4800d0> block5b_project_bn float32 <Policy \"mixed_float16\">\n",
            "<keras.layers.core.dropout.Dropout object at 0x7f1530291410> block5b_drop float32 <Policy \"mixed_float16\">\n",
            "<keras.layers.merge.Add object at 0x7f152c47ad90> block5b_add float32 <Policy \"mixed_float16\">\n",
            "<keras.layers.convolutional.Conv2D object at 0x7f152c480910> block5c_expand_conv float32 <Policy \"mixed_float16\">\n",
            "<keras.layers.normalization.batch_normalization.BatchNormalization object at 0x7f15302a7e50> block5c_expand_bn float32 <Policy \"mixed_float16\">\n",
            "<keras.layers.core.activation.Activation object at 0x7f15302972d0> block5c_expand_activation float32 <Policy \"mixed_float16\">\n",
            "<keras.layers.convolutional.DepthwiseConv2D object at 0x7f1530297a10> block5c_dwconv float32 <Policy \"mixed_float16\">\n",
            "<keras.layers.normalization.batch_normalization.BatchNormalization object at 0x7f153028a150> block5c_bn float32 <Policy \"mixed_float16\">\n",
            "<keras.layers.core.activation.Activation object at 0x7f153028abd0> block5c_activation float32 <Policy \"mixed_float16\">\n",
            "<keras.layers.pooling.GlobalAveragePooling2D object at 0x7f153028f750> block5c_se_squeeze float32 <Policy \"mixed_float16\">\n",
            "<keras.layers.core.reshape.Reshape object at 0x7f1530271510> block5c_se_reshape float32 <Policy \"mixed_float16\">\n",
            "<keras.layers.convolutional.Conv2D object at 0x7f153027b310> block5c_se_reduce float32 <Policy \"mixed_float16\">\n",
            "<keras.layers.convolutional.Conv2D object at 0x7f152ab8a250> block5c_se_expand float32 <Policy \"mixed_float16\">\n",
            "<keras.layers.merge.Multiply object at 0x7f152ab9df50> block5c_se_excite float32 <Policy \"mixed_float16\">\n",
            "<keras.layers.convolutional.Conv2D object at 0x7f152aba1290> block5c_project_conv float32 <Policy \"mixed_float16\">\n",
            "<keras.layers.normalization.batch_normalization.BatchNormalization object at 0x7f1530271a50> block5c_project_bn float32 <Policy \"mixed_float16\">\n",
            "<keras.layers.core.dropout.Dropout object at 0x7f1530281fd0> block5c_drop float32 <Policy \"mixed_float16\">\n",
            "<keras.layers.merge.Add object at 0x7f1530297910> block5c_add float32 <Policy \"mixed_float16\">\n",
            "<keras.layers.convolutional.Conv2D object at 0x7f15302a0350> block6a_expand_conv float32 <Policy \"mixed_float16\">\n",
            "<keras.layers.normalization.batch_normalization.BatchNormalization object at 0x7f152c332d90> block6a_expand_bn float32 <Policy \"mixed_float16\">\n",
            "<keras.layers.core.activation.Activation object at 0x7f152c357110> block6a_expand_activation float32 <Policy \"mixed_float16\">\n",
            "<keras.layers.convolutional.ZeroPadding2D object at 0x7f152bd10d50> block6a_dwconv_pad float32 <Policy \"mixed_float16\">\n",
            "<keras.layers.convolutional.DepthwiseConv2D object at 0x7f152bfc7090> block6a_dwconv float32 <Policy \"mixed_float16\">\n",
            "<keras.layers.normalization.batch_normalization.BatchNormalization object at 0x7f152ab912d0> block6a_bn float32 <Policy \"mixed_float16\">\n",
            "<keras.layers.core.activation.Activation object at 0x7f152ab91c10> block6a_activation float32 <Policy \"mixed_float16\">\n",
            "<keras.layers.pooling.GlobalAveragePooling2D object at 0x7f152ab90050> block6a_se_squeeze float32 <Policy \"mixed_float16\">\n",
            "<keras.layers.core.reshape.Reshape object at 0x7f152ab90b90> block6a_se_reshape float32 <Policy \"mixed_float16\">\n",
            "<keras.layers.convolutional.Conv2D object at 0x7f152ab7b550> block6a_se_reduce float32 <Policy \"mixed_float16\">\n",
            "<keras.layers.convolutional.Conv2D object at 0x7f152ab86d10> block6a_se_expand float32 <Policy \"mixed_float16\">\n",
            "<keras.layers.merge.Multiply object at 0x7f152a773150> block6a_se_excite float32 <Policy \"mixed_float16\">\n",
            "<keras.layers.convolutional.Conv2D object at 0x7f152a773e50> block6a_project_conv float32 <Policy \"mixed_float16\">\n",
            "<keras.layers.normalization.batch_normalization.BatchNormalization object at 0x7f152a77c3d0> block6a_project_bn float32 <Policy \"mixed_float16\">\n",
            "<keras.layers.convolutional.Conv2D object at 0x7f152a7856d0> block6b_expand_conv float32 <Policy \"mixed_float16\">\n",
            "<keras.layers.normalization.batch_normalization.BatchNormalization object at 0x7f152a78af50> block6b_expand_bn float32 <Policy \"mixed_float16\">\n",
            "<keras.layers.core.activation.Activation object at 0x7f152a77f290> block6b_expand_activation float32 <Policy \"mixed_float16\">\n",
            "<keras.layers.convolutional.DepthwiseConv2D object at 0x7f152a794250> block6b_dwconv float32 <Policy \"mixed_float16\">\n",
            "<keras.layers.normalization.batch_normalization.BatchNormalization object at 0x7f152a7a5b50> block6b_bn float32 <Policy \"mixed_float16\">\n",
            "<keras.layers.core.activation.Activation object at 0x7f152a7a6250> block6b_activation float32 <Policy \"mixed_float16\">\n",
            "<keras.layers.pooling.GlobalAveragePooling2D object at 0x7f152a7a6e90> block6b_se_squeeze float32 <Policy \"mixed_float16\">\n",
            "<keras.layers.core.reshape.Reshape object at 0x7f1530376410> block6b_se_reshape float32 <Policy \"mixed_float16\">\n",
            "<keras.layers.convolutional.Conv2D object at 0x7f1530372e50> block6b_se_reduce float32 <Policy \"mixed_float16\">\n",
            "<keras.layers.convolutional.Conv2D object at 0x7f1530384a10> block6b_se_expand float32 <Policy \"mixed_float16\">\n",
            "<keras.layers.merge.Multiply object at 0x7f153038ff50> block6b_se_excite float32 <Policy \"mixed_float16\">\n",
            "<keras.layers.convolutional.Conv2D object at 0x7f152a7a6f50> block6b_project_conv float32 <Policy \"mixed_float16\">\n",
            "<keras.layers.normalization.batch_normalization.BatchNormalization object at 0x7f15303a6690> block6b_project_bn float32 <Policy \"mixed_float16\">\n",
            "<keras.layers.core.dropout.Dropout object at 0x7f15303acc90> block6b_drop float32 <Policy \"mixed_float16\">\n",
            "<keras.layers.merge.Add object at 0x7f15303340d0> block6b_add float32 <Policy \"mixed_float16\">\n",
            "<keras.layers.convolutional.Conv2D object at 0x7f153038f2d0> block6c_expand_conv float32 <Policy \"mixed_float16\">\n",
            "<keras.layers.normalization.batch_normalization.BatchNormalization object at 0x7f152bd2afd0> block6c_expand_bn float32 <Policy \"mixed_float16\">\n",
            "<keras.layers.core.activation.Activation object at 0x7f1530340d90> block6c_expand_activation float32 <Policy \"mixed_float16\">\n",
            "<keras.layers.convolutional.DepthwiseConv2D object at 0x7f153033b2d0> block6c_dwconv float32 <Policy \"mixed_float16\">\n",
            "<keras.layers.normalization.batch_normalization.BatchNormalization object at 0x7f15303531d0> block6c_bn float32 <Policy \"mixed_float16\">\n",
            "<keras.layers.core.activation.Activation object at 0x7f153033b7d0> block6c_activation float32 <Policy \"mixed_float16\">\n",
            "<keras.layers.pooling.GlobalAveragePooling2D object at 0x7f1530344dd0> block6c_se_squeeze float32 <Policy \"mixed_float16\">\n",
            "<keras.layers.core.reshape.Reshape object at 0x7f1530353b50> block6c_se_reshape float32 <Policy \"mixed_float16\">\n",
            "<keras.layers.convolutional.Conv2D object at 0x7f152a77f310> block6c_se_reduce float32 <Policy \"mixed_float16\">\n",
            "<keras.layers.convolutional.Conv2D object at 0x7f153033b510> block6c_se_expand float32 <Policy \"mixed_float16\">\n",
            "<keras.layers.merge.Multiply object at 0x7f152a7a5e90> block6c_se_excite float32 <Policy \"mixed_float16\">\n",
            "<keras.layers.convolutional.Conv2D object at 0x7f152ab82410> block6c_project_conv float32 <Policy \"mixed_float16\">\n",
            "<keras.layers.normalization.batch_normalization.BatchNormalization object at 0x7f1530340750> block6c_project_bn float32 <Policy \"mixed_float16\">\n",
            "<keras.layers.core.dropout.Dropout object at 0x7f152c47a2d0> block6c_drop float32 <Policy \"mixed_float16\">\n",
            "<keras.layers.merge.Add object at 0x7f152c351c90> block6c_add float32 <Policy \"mixed_float16\">\n",
            "<keras.layers.convolutional.Conv2D object at 0x7f153039c290> block6d_expand_conv float32 <Policy \"mixed_float16\">\n",
            "<keras.layers.normalization.batch_normalization.BatchNormalization object at 0x7f152ab93a90> block6d_expand_bn float32 <Policy \"mixed_float16\">\n",
            "<keras.layers.core.activation.Activation object at 0x7f152c47a850> block6d_expand_activation float32 <Policy \"mixed_float16\">\n",
            "<keras.layers.convolutional.DepthwiseConv2D object at 0x7f1530355690> block6d_dwconv float32 <Policy \"mixed_float16\">\n",
            "<keras.layers.normalization.batch_normalization.BatchNormalization object at 0x7f1530355e90> block6d_bn float32 <Policy \"mixed_float16\">\n",
            "<keras.layers.core.activation.Activation object at 0x7f153035ee50> block6d_activation float32 <Policy \"mixed_float16\">\n",
            "<keras.layers.pooling.GlobalAveragePooling2D object at 0x7f1530367f10> block6d_se_squeeze float32 <Policy \"mixed_float16\">\n",
            "<keras.layers.core.reshape.Reshape object at 0x7f1530c3d490> block6d_se_reshape float32 <Policy \"mixed_float16\">\n",
            "<keras.layers.convolutional.Conv2D object at 0x7f15302f2590> block6d_se_reduce float32 <Policy \"mixed_float16\">\n",
            "<keras.layers.convolutional.Conv2D object at 0x7f1530355590> block6d_se_expand float32 <Policy \"mixed_float16\">\n",
            "<keras.layers.merge.Multiply object at 0x7f1530312c10> block6d_se_excite float32 <Policy \"mixed_float16\">\n",
            "<keras.layers.convolutional.Conv2D object at 0x7f1530312f50> block6d_project_conv float32 <Policy \"mixed_float16\">\n",
            "<keras.layers.normalization.batch_normalization.BatchNormalization object at 0x7f15302fff10> block6d_project_bn float32 <Policy \"mixed_float16\">\n",
            "<keras.layers.core.dropout.Dropout object at 0x7f1530318e50> block6d_drop float32 <Policy \"mixed_float16\">\n",
            "<keras.layers.merge.Add object at 0x7f152c495510> block6d_add float32 <Policy \"mixed_float16\">\n",
            "<keras.layers.convolutional.Conv2D object at 0x7f1530324a90> block7a_expand_conv float32 <Policy \"mixed_float16\">\n",
            "<keras.layers.normalization.batch_normalization.BatchNormalization object at 0x7f15302f2bd0> block7a_expand_bn float32 <Policy \"mixed_float16\">\n",
            "<keras.layers.core.activation.Activation object at 0x7f1530304c90> block7a_expand_activation float32 <Policy \"mixed_float16\">\n",
            "<keras.layers.convolutional.DepthwiseConv2D object at 0x7f15302b0990> block7a_dwconv float32 <Policy \"mixed_float16\">\n",
            "<keras.layers.normalization.batch_normalization.BatchNormalization object at 0x7f15302b9c50> block7a_bn float32 <Policy \"mixed_float16\">\n",
            "<keras.layers.core.activation.Activation object at 0x7f15302b4950> block7a_activation float32 <Policy \"mixed_float16\">\n",
            "<keras.layers.pooling.GlobalAveragePooling2D object at 0x7f15302b4090> block7a_se_squeeze float32 <Policy \"mixed_float16\">\n",
            "<keras.layers.core.reshape.Reshape object at 0x7f15302cbb90> block7a_se_reshape float32 <Policy \"mixed_float16\">\n",
            "<keras.layers.convolutional.Conv2D object at 0x7f15302cb610> block7a_se_reduce float32 <Policy \"mixed_float16\">\n",
            "<keras.layers.convolutional.Conv2D object at 0x7f153031ef90> block7a_se_expand float32 <Policy \"mixed_float16\">\n",
            "<keras.layers.merge.Multiply object at 0x7f15302e1a90> block7a_se_excite float32 <Policy \"mixed_float16\">\n",
            "<keras.layers.convolutional.Conv2D object at 0x7f15302ed350> block7a_project_conv float32 <Policy \"mixed_float16\">\n",
            "<keras.layers.normalization.batch_normalization.BatchNormalization object at 0x7f15302d7a10> block7a_project_bn float32 <Policy \"mixed_float16\">\n",
            "<keras.layers.convolutional.Conv2D object at 0x7f15303c6790> top_conv float32 <Policy \"mixed_float16\">\n",
            "<keras.layers.normalization.batch_normalization.BatchNormalization object at 0x7f15302ed850> top_bn float32 <Policy \"mixed_float16\">\n",
            "<keras.layers.core.activation.Activation object at 0x7f152f1db210> top_activation float32 <Policy \"mixed_float16\">\n"
          ]
        }
      ],
      "source": [
        "for layer in base_model.layers:\n",
        "  print(layer, layer.name, layer.dtype, layer.dtype_policy)"
      ]
    },
    {
      "cell_type": "code",
      "execution_count": null,
      "metadata": {
        "id": "Za4iV4VESdJ-"
      },
      "outputs": [],
      "source": [
        "for layer in model.layers:\n",
        "  print(layer.name, layer.trainable, layer.dtype, layer.dtype_policy)"
      ]
    },
    {
      "cell_type": "markdown",
      "metadata": {
        "id": "gUe-jqoaWkB7"
      },
      "source": [
        "## Training the feature_extraction layer"
      ]
    },
    {
      "cell_type": "code",
      "execution_count": null,
      "metadata": {
        "id": "LvaC4ObBXmud"
      },
      "outputs": [],
      "source": [
        "history_101_food_classes_feature_extract = model.fit(train_data, epochs=10,steps_per_epoch=len(train_data), validation_data=test_data, validation_steps=int(0.15 * len(test_data)),callbacks=[tensorboard_callback, checkpoint_callback, lr_scheduler_callback, learning_rate_reduce_callback])"
      ]
    },
    {
      "cell_type": "code",
      "execution_count": null,
      "metadata": {
        "id": "2QssYqwtZTc5"
      },
      "outputs": [],
      "source": [
        "model.evaluate(test_data)"
      ]
    },
    {
      "cell_type": "code",
      "execution_count": null,
      "metadata": {
        "id": "BaUuiGPYbw7k"
      },
      "outputs": [],
      "source": [
        "plot_loss_curves(history_101_food_classes_feature_extract)"
      ]
    },
    {
      "cell_type": "code",
      "execution_count": null,
      "metadata": {
        "id": "3QQdadUJbs36"
      },
      "outputs": [],
      "source": [
        "result_feature_extraction= model.evaluate(test_data)\n",
        "result_feature_extraction"
      ]
    },
    {
      "cell_type": "markdown",
      "metadata": {
        "id": "BzS8veRDUtKQ"
      },
      "source": [
        "## Saving the model"
      ]
    },
    {
      "cell_type": "code",
      "source": [
        "saved_model_dir='saved_models/model_feature_extraction_model'"
      ],
      "metadata": {
        "id": "YYgLxXhLK05x"
      },
      "execution_count": null,
      "outputs": []
    },
    {
      "cell_type": "code",
      "source": [
        "model.save(saved_model_dir)"
      ],
      "metadata": {
        "colab": {
          "base_uri": "https://localhost:8080/"
        },
        "id": "XPHZJk_Vu6DL",
        "outputId": "d24e9f66-9ccc-4a3c-8efe-d75a76a2f798"
      },
      "execution_count": null,
      "outputs": [
        {
          "output_type": "stream",
          "name": "stdout",
          "text": [
            "INFO:tensorflow:Assets written to: saved_models/model_feature_extraction_2/assets\n"
          ]
        },
        {
          "output_type": "stream",
          "name": "stderr",
          "text": [
            "INFO:tensorflow:Assets written to: saved_models/model_feature_extraction_2/assets\n"
          ]
        }
      ]
    },
    {
      "cell_type": "markdown",
      "metadata": {
        "id": "aCDrcYKqfyqy"
      },
      "source": [
        "## Downloading the saved models"
      ]
    },
    {
      "cell_type": "code",
      "execution_count": null,
      "metadata": {
        "id": "iart75ymfaot",
        "colab": {
          "base_uri": "https://localhost:8080/"
        },
        "outputId": "f8e91663-50dc-42a9-e3ef-c0c00fbd9b44"
      },
      "outputs": [
        {
          "output_type": "stream",
          "name": "stdout",
          "text": [
            "  adding: content/saved_models/ (stored 0%)\n",
            "  adding: content/saved_models/model_feature_extraction_2/ (stored 0%)\n",
            "  adding: content/saved_models/model_feature_extraction_2/saved_model.pb (deflated 91%)\n",
            "  adding: content/saved_models/model_feature_extraction_2/variables/ (stored 0%)\n",
            "  adding: content/saved_models/model_feature_extraction_2/variables/variables.data-00000-of-00001 (deflated 8%)\n",
            "  adding: content/saved_models/model_feature_extraction_2/variables/variables.index (deflated 73%)\n",
            "  adding: content/saved_models/model_feature_extraction_2/keras_metadata.pb (deflated 96%)\n",
            "  adding: content/saved_models/model_feature_extraction_2/assets/ (stored 0%)\n"
          ]
        }
      ],
      "source": [
        "!zip -r saved_model_dir"
      ]
    },
    {
      "cell_type": "markdown",
      "source": [
        "## Downloading the saved model from Colab"
      ],
      "metadata": {
        "id": "L6BVYAHUIs2l"
      }
    },
    {
      "cell_type": "code",
      "execution_count": null,
      "metadata": {
        "id": "luw9DCyAf4ZF",
        "colab": {
          "base_uri": "https://localhost:8080/",
          "height": 37
        },
        "outputId": "6dc7af8f-6729-44e7-fc0f-bfa82e6d5f8c"
      },
      "outputs": [
        {
          "output_type": "display_data",
          "data": {
            "text/plain": [
              "<IPython.core.display.Javascript object>"
            ],
            "application/javascript": [
              "\n",
              "    async function download(id, filename, size) {\n",
              "      if (!google.colab.kernel.accessAllowed) {\n",
              "        return;\n",
              "      }\n",
              "      const div = document.createElement('div');\n",
              "      const label = document.createElement('label');\n",
              "      label.textContent = `Downloading \"${filename}\": `;\n",
              "      div.appendChild(label);\n",
              "      const progress = document.createElement('progress');\n",
              "      progress.max = size;\n",
              "      div.appendChild(progress);\n",
              "      document.body.appendChild(div);\n",
              "\n",
              "      const buffers = [];\n",
              "      let downloaded = 0;\n",
              "\n",
              "      const channel = await google.colab.kernel.comms.open(id);\n",
              "      // Send a message to notify the kernel that we're ready.\n",
              "      channel.send({})\n",
              "\n",
              "      for await (const message of channel.messages) {\n",
              "        // Send a message to notify the kernel that we're ready.\n",
              "        channel.send({})\n",
              "        if (message.buffers) {\n",
              "          for (const buffer of message.buffers) {\n",
              "            buffers.push(buffer);\n",
              "            downloaded += buffer.byteLength;\n",
              "            progress.value = downloaded;\n",
              "          }\n",
              "        }\n",
              "      }\n",
              "      const blob = new Blob(buffers, {type: 'application/binary'});\n",
              "      const a = document.createElement('a');\n",
              "      a.href = window.URL.createObjectURL(blob);\n",
              "      a.download = filename;\n",
              "      div.appendChild(a);\n",
              "      a.click();\n",
              "      div.remove();\n",
              "    }\n",
              "  "
            ]
          },
          "metadata": {}
        },
        {
          "output_type": "display_data",
          "data": {
            "text/plain": [
              "<IPython.core.display.Javascript object>"
            ],
            "application/javascript": [
              "download(\"download_f144e282-944e-4128-a62e-ea1ec2d033df\", \"saved_models.zip\", 16956315)"
            ]
          },
          "metadata": {}
        }
      ],
      "source": [
        "from google.colab import files\n",
        "files.download('/content/saved_models.zip')"
      ]
    },
    {
      "cell_type": "markdown",
      "source": [
        "## Loading and Evaluating the Checkpoint Weights\n",
        "\n",
        "* tf.keras.models.clone_model()\n",
        "* load_weights()\n",
        "* evaluate()"
      ],
      "metadata": {
        "id": "Za-0xY_sJ1xH"
      }
    },
    {
      "cell_type": "markdown",
      "source": [
        "### Trying to Clone the Feature Extracted Model with `clone_model()`"
      ],
      "metadata": {
        "id": "94fTQx4iI12m"
      }
    },
    {
      "cell_type": "code",
      "source": [
        "cloned_model = tf.keras.models.clone_model(model)\n",
        "cloned_model.summary()"
      ],
      "metadata": {
        "id": "dQk4syspI8RT"
      },
      "execution_count": null,
      "outputs": []
    },
    {
      "cell_type": "code",
      "source": [
        "model.summary()"
      ],
      "metadata": {
        "id": "ll4837OvI8Na"
      },
      "execution_count": null,
      "outputs": []
    },
    {
      "cell_type": "code",
      "source": [
        "checkpoint_feature_extraction"
      ],
      "metadata": {
        "id": "OfOdMQIWI8In"
      },
      "execution_count": null,
      "outputs": []
    },
    {
      "cell_type": "code",
      "source": [
        "cloned_model.load_weights(checkpoint_feature_extraction)"
      ],
      "metadata": {
        "id": "mnarI56sJBbq"
      },
      "execution_count": null,
      "outputs": []
    },
    {
      "cell_type": "markdown",
      "source": [
        "## We have to recompile the model each time we make some changes to the original model"
      ],
      "metadata": {
        "id": "kv2dUwJhJLiu"
      }
    },
    {
      "cell_type": "code",
      "source": [
        "cloned_model.compile(loss=\"sparse_categorical_crossentropy\",\n",
        "                     optimizer=tf.keras.optimizers.Adam(),\n",
        "                     metrics=[\"accuracy\"])"
      ],
      "metadata": {
        "id": "5zh_3zT7JIrb"
      },
      "execution_count": null,
      "outputs": []
    },
    {
      "cell_type": "code",
      "source": [
        "results_cloned_model_with_loaded_weights = cloned_model.evaluate(test_data)\n",
        "results_cloned_model_with_loaded_weights"
      ],
      "metadata": {
        "id": "7WMJWSqdJInr"
      },
      "execution_count": null,
      "outputs": []
    },
    {
      "cell_type": "code",
      "source": [
        "results_cloned_model_with_loaded_weights == result_feature_extraction"
      ],
      "metadata": {
        "id": "-XBczEGhKj8s"
      },
      "execution_count": null,
      "outputs": []
    },
    {
      "cell_type": "code",
      "source": [
        "np.allclose(results_cloned_model_with_loaded_weights, result_feature_extraction)"
      ],
      "metadata": {
        "id": "aXx3KOimKoEe"
      },
      "execution_count": null,
      "outputs": []
    },
    {
      "cell_type": "markdown",
      "source": [
        "## Load the saved Feature Extraction Model"
      ],
      "metadata": {
        "id": "qAGbSZuHLGsZ"
      }
    },
    {
      "cell_type": "code",
      "execution_count": null,
      "metadata": {
        "id": "O7B8LIhAgOO8"
      },
      "outputs": [],
      "source": [
        "loaded_model= tf.keras.models.load_model(saved_model_dir)"
      ]
    },
    {
      "cell_type": "code",
      "execution_count": null,
      "metadata": {
        "id": "-J-cRhWAhSZm",
        "colab": {
          "base_uri": "https://localhost:8080/"
        },
        "outputId": "200f7f44-e797-4728-89fb-902376b41893"
      },
      "outputs": [
        {
          "output_type": "stream",
          "name": "stdout",
          "text": [
            "790/790 [==============================] - 50s 61ms/step - loss: 1.0397 - accuracy: 0.7194\n"
          ]
        },
        {
          "output_type": "execute_result",
          "data": {
            "text/plain": [
              "[1.0396966934204102, 0.7193663120269775]"
            ]
          },
          "metadata": {},
          "execution_count": 68
        }
      ],
      "source": [
        "loaded_model_result=loaded_model.evaluate(test_data_processes)\n",
        "loaded_model_result"
      ]
    },
    {
      "cell_type": "code",
      "execution_count": null,
      "metadata": {
        "id": "xCf8h9TwhVWH",
        "colab": {
          "base_uri": "https://localhost:8080/"
        },
        "outputId": "a3b59d84-b706-443f-fe74-1c88be1bb9cf"
      },
      "outputs": [
        {
          "output_type": "execute_result",
          "data": {
            "text/plain": [
              "[1.0396970510482788, 0.7193663120269775]"
            ]
          },
          "metadata": {},
          "execution_count": 69
        }
      ],
      "source": [
        "result_feature_extraction"
      ]
    },
    {
      "cell_type": "markdown",
      "metadata": {
        "id": "MdbBszJYh49N"
      },
      "source": [
        "## Checking if the model saved/loaded correctly"
      ]
    },
    {
      "cell_type": "code",
      "execution_count": null,
      "metadata": {
        "id": "V58Zzj_IhyZx",
        "colab": {
          "base_uri": "https://localhost:8080/"
        },
        "outputId": "29821317-87e6-419a-c45d-b0a3ad23ee94"
      },
      "outputs": [
        {
          "output_type": "execute_result",
          "data": {
            "text/plain": [
              "False"
            ]
          },
          "metadata": {},
          "execution_count": 70
        }
      ],
      "source": [
        "loaded_model_result == result_feature_extraction"
      ]
    },
    {
      "cell_type": "code",
      "execution_count": null,
      "metadata": {
        "id": "x0yy33_ch9_R",
        "colab": {
          "base_uri": "https://localhost:8080/"
        },
        "outputId": "c194fe4f-7840-4ebc-ac50-f60b7dc41997"
      },
      "outputs": [
        {
          "output_type": "execute_result",
          "data": {
            "text/plain": [
              "True"
            ]
          },
          "metadata": {},
          "execution_count": 71
        }
      ],
      "source": [
        "np.allclose(result_feature_extraction,loaded_model_result)"
      ]
    },
    {
      "cell_type": "markdown",
      "source": [
        "## Checking the layers of the loaded model"
      ],
      "metadata": {
        "id": "iEpZ5qx0L4C5"
      }
    },
    {
      "cell_type": "code",
      "source": [
        "for layer in loaded_model.layers:\n",
        "  print(layer, layer.name, layer.trainable)"
      ],
      "metadata": {
        "id": "UbUYMmvzLgaM"
      },
      "execution_count": null,
      "outputs": []
    },
    {
      "cell_type": "markdown",
      "source": [
        "## Checking the dtype_policy of the loaded model"
      ],
      "metadata": {
        "id": "_pHuQKCCLkVX"
      }
    },
    {
      "cell_type": "code",
      "source": [
        "for layer in loaded_model.layers[1].layers:\n",
        "  print(layer.name, layer.trainable, layer.dtype, layer.dtype_policy)"
      ],
      "metadata": {
        "id": "6CX_wHoULf-q"
      },
      "execution_count": null,
      "outputs": []
    },
    {
      "cell_type": "markdown",
      "source": [
        "## Unfreezing all the layers of the base_model i.e EfficientNetB0 for Fine-Tuning"
      ],
      "metadata": {
        "id": "k5Sg3X74K3cw"
      }
    },
    {
      "cell_type": "code",
      "source": [
        "for layer in loaded_model.layers:\n",
        "  layer.trainable = True # set all layers to trainable\n",
        "  print(layer.name, layer.dtype, layer.dtype_policy, layer.trainable)"
      ],
      "metadata": {
        "id": "uysVKpz1LAFP"
      },
      "execution_count": null,
      "outputs": []
    },
    {
      "cell_type": "code",
      "source": [
        "for layer in loaded_model.layers[1].layers:\n",
        "  print(layer, layer.name, layer.trainable)"
      ],
      "metadata": {
        "id": "YAQz2dbhN0Au"
      },
      "execution_count": null,
      "outputs": []
    },
    {
      "cell_type": "code",
      "source": [
        "for layer in loaded_model.layers[1].layers:\n",
        "  if layer.trainable == False:\n",
        "    print(layer, layer.name, layer.trainable)"
      ],
      "metadata": {
        "id": "s5uIDroaOAiq"
      },
      "execution_count": null,
      "outputs": []
    },
    {
      "cell_type": "code",
      "source": [
        "for layer in base_model.layers:\n",
        "  if layer.trainable == True:\n",
        "    print(layer, layer.name)"
      ],
      "metadata": {
        "id": "czOF3DVqK__o",
        "colab": {
          "base_uri": "https://localhost:8080/"
        },
        "outputId": "69239e40-db81-4c02-9408-6a06e03edb40"
      },
      "execution_count": null,
      "outputs": [
        {
          "output_type": "stream",
          "name": "stdout",
          "text": [
            "<keras.engine.input_layer.InputLayer object at 0x7f15303d4190> input_1\n",
            "<keras.layers.preprocessing.image_preprocessing.Rescaling object at 0x7f152b1c4e50> rescaling\n",
            "<keras.layers.preprocessing.normalization.Normalization object at 0x7f152b1c4690> normalization\n",
            "<keras.layers.convolutional.ZeroPadding2D object at 0x7f152b3a54d0> stem_conv_pad\n",
            "<keras.layers.convolutional.Conv2D object at 0x7f15303d7a10> stem_conv\n",
            "<keras.layers.normalization.batch_normalization.BatchNormalization object at 0x7f152b3acf50> stem_bn\n",
            "<keras.layers.core.activation.Activation object at 0x7f152a9e0750> stem_activation\n",
            "<keras.layers.convolutional.DepthwiseConv2D object at 0x7f152b1e1810> block1a_dwconv\n",
            "<keras.layers.normalization.batch_normalization.BatchNormalization object at 0x7f152a9cfd10> block1a_bn\n",
            "<keras.layers.core.activation.Activation object at 0x7f15303d7990> block1a_activation\n",
            "<keras.layers.pooling.GlobalAveragePooling2D object at 0x7f152b3912d0> block1a_se_squeeze\n",
            "<keras.layers.core.reshape.Reshape object at 0x7f152b1cd0d0> block1a_se_reshape\n",
            "<keras.layers.convolutional.Conv2D object at 0x7f152b64f790> block1a_se_reduce\n",
            "<keras.layers.convolutional.Conv2D object at 0x7f152b63d890> block1a_se_expand\n",
            "<keras.layers.merge.Multiply object at 0x7f152b641050> block1a_se_excite\n",
            "<keras.layers.convolutional.Conv2D object at 0x7f152b6475d0> block1a_project_conv\n",
            "<keras.layers.normalization.batch_normalization.BatchNormalization object at 0x7f152baef310> block1a_project_bn\n",
            "<keras.layers.convolutional.Conv2D object at 0x7f15303c6390> block2a_expand_conv\n",
            "<keras.layers.normalization.batch_normalization.BatchNormalization object at 0x7f152bb1bfd0> block2a_expand_bn\n",
            "<keras.layers.core.activation.Activation object at 0x7f15303d4250> block2a_expand_activation\n",
            "<keras.layers.convolutional.ZeroPadding2D object at 0x7f15303e5d50> block2a_dwconv_pad\n",
            "<keras.layers.convolutional.DepthwiseConv2D object at 0x7f152bb10950> block2a_dwconv\n",
            "<keras.layers.normalization.batch_normalization.BatchNormalization object at 0x7f152bb199d0> block2a_bn\n",
            "<keras.layers.core.activation.Activation object at 0x7f152bb19e10> block2a_activation\n",
            "<keras.layers.pooling.GlobalAveragePooling2D object at 0x7f152bb19190> block2a_se_squeeze\n",
            "<keras.layers.core.reshape.Reshape object at 0x7f152bb05810> block2a_se_reshape\n",
            "<keras.layers.convolutional.Conv2D object at 0x7f152baf7050> block2a_se_reduce\n",
            "<keras.layers.convolutional.Conv2D object at 0x7f152bafd910> block2a_se_expand\n",
            "<keras.layers.merge.Multiply object at 0x7f152be655d0> block2a_se_excite\n",
            "<keras.layers.convolutional.Conv2D object at 0x7f152be65c90> block2a_project_conv\n",
            "<keras.layers.normalization.batch_normalization.BatchNormalization object at 0x7f152be5d3d0> block2a_project_bn\n",
            "<keras.layers.convolutional.Conv2D object at 0x7f152be45290> block2b_expand_conv\n",
            "<keras.layers.normalization.batch_normalization.BatchNormalization object at 0x7f152b1e1890> block2b_expand_bn\n",
            "<keras.layers.core.activation.Activation object at 0x7f152be4b950> block2b_expand_activation\n",
            "<keras.layers.convolutional.DepthwiseConv2D object at 0x7f152be35990> block2b_dwconv\n",
            "<keras.layers.normalization.batch_normalization.BatchNormalization object at 0x7f152be31110> block2b_bn\n",
            "<keras.layers.core.activation.Activation object at 0x7f152c0696d0> block2b_activation\n",
            "<keras.layers.pooling.GlobalAveragePooling2D object at 0x7f152b3ac050> block2b_se_squeeze\n",
            "<keras.layers.core.reshape.Reshape object at 0x7f152c06cc50> block2b_se_reshape\n",
            "<keras.layers.convolutional.Conv2D object at 0x7f152c06c150> block2b_se_reduce\n",
            "<keras.layers.convolutional.Conv2D object at 0x7f152c064390> block2b_se_expand\n",
            "<keras.layers.merge.Multiply object at 0x7f152c05bc90> block2b_se_excite\n",
            "<keras.layers.convolutional.Conv2D object at 0x7f15303d7250> block2b_project_conv\n",
            "<keras.layers.normalization.batch_normalization.BatchNormalization object at 0x7f152c039110> block2b_project_bn\n",
            "<keras.layers.core.dropout.Dropout object at 0x7f152c03f110> block2b_drop\n",
            "<keras.layers.merge.Add object at 0x7f152c04c310> block2b_add\n",
            "<keras.layers.convolutional.Conv2D object at 0x7f152b1e1410> block3a_expand_conv\n",
            "<keras.layers.normalization.batch_normalization.BatchNormalization object at 0x7f152be68810> block3a_expand_bn\n",
            "<keras.layers.core.activation.Activation object at 0x7f152bb0d110> block3a_expand_activation\n",
            "<keras.layers.convolutional.ZeroPadding2D object at 0x7f152baf7fd0> block3a_dwconv_pad\n",
            "<keras.layers.convolutional.DepthwiseConv2D object at 0x7f152bb29590> block3a_dwconv\n",
            "<keras.layers.normalization.batch_normalization.BatchNormalization object at 0x7f152b65cfd0> block3a_bn\n",
            "<keras.layers.core.activation.Activation object at 0x7f152b3ac390> block3a_activation\n",
            "<keras.layers.pooling.GlobalAveragePooling2D object at 0x7f152c032790> block3a_se_squeeze\n",
            "<keras.layers.core.reshape.Reshape object at 0x7f152bce8b90> block3a_se_reshape\n",
            "<keras.layers.convolutional.Conv2D object at 0x7f152bce8d50> block3a_se_reduce\n",
            "<keras.layers.convolutional.Conv2D object at 0x7f152bceded0> block3a_se_expand\n",
            "<keras.layers.merge.Multiply object at 0x7f152bcde150> block3a_se_excite\n",
            "<keras.layers.convolutional.Conv2D object at 0x7f152bcdefd0> block3a_project_conv\n",
            "<keras.layers.normalization.batch_normalization.BatchNormalization object at 0x7f152bccf050> block3a_project_bn\n",
            "<keras.layers.convolutional.Conv2D object at 0x7f152bcbc510> block3b_expand_conv\n",
            "<keras.layers.normalization.batch_normalization.BatchNormalization object at 0x7f152bccf610> block3b_expand_bn\n",
            "<keras.layers.core.activation.Activation object at 0x7f152b1cd190> block3b_expand_activation\n",
            "<keras.layers.convolutional.DepthwiseConv2D object at 0x7f152af24350> block3b_dwconv\n",
            "<keras.layers.normalization.batch_normalization.BatchNormalization object at 0x7f152af25910> block3b_bn\n",
            "<keras.layers.core.activation.Activation object at 0x7f152af21990> block3b_activation\n",
            "<keras.layers.pooling.GlobalAveragePooling2D object at 0x7f15303c2bd0> block3b_se_squeeze\n",
            "<keras.layers.core.reshape.Reshape object at 0x7f152af21cd0> block3b_se_reshape\n",
            "<keras.layers.convolutional.Conv2D object at 0x7f152af254d0> block3b_se_reduce\n",
            "<keras.layers.convolutional.Conv2D object at 0x7f152af042d0> block3b_se_expand\n",
            "<keras.layers.merge.Multiply object at 0x7f15341e0750> block3b_se_excite\n",
            "<keras.layers.convolutional.Conv2D object at 0x7f152b3918d0> block3b_project_conv\n",
            "<keras.layers.normalization.batch_normalization.BatchNormalization object at 0x7f152aeff6d0> block3b_project_bn\n",
            "<keras.layers.core.dropout.Dropout object at 0x7f152bd23b90> block3b_drop\n",
            "<keras.layers.merge.Add object at 0x7f152af1a350> block3b_add\n",
            "<keras.layers.convolutional.Conv2D object at 0x7f152bd2c190> block4a_expand_conv\n",
            "<keras.layers.normalization.batch_normalization.BatchNormalization object at 0x7f152bd1b6d0> block4a_expand_bn\n",
            "<keras.layers.core.activation.Activation object at 0x7f152bd2add0> block4a_expand_activation\n",
            "<keras.layers.convolutional.ZeroPadding2D object at 0x7f152bd225d0> block4a_dwconv_pad\n",
            "<keras.layers.convolutional.DepthwiseConv2D object at 0x7f152bd02b10> block4a_dwconv\n",
            "<keras.layers.normalization.batch_normalization.BatchNormalization object at 0x7f152bd10fd0> block4a_bn\n",
            "<keras.layers.core.activation.Activation object at 0x7f152bcf3450> block4a_activation\n",
            "<keras.layers.pooling.GlobalAveragePooling2D object at 0x7f152b1e1950> block4a_se_squeeze\n",
            "<keras.layers.core.reshape.Reshape object at 0x7f152bd9dc50> block4a_se_reshape\n",
            "<keras.layers.convolutional.Conv2D object at 0x7f152bd9d110> block4a_se_reduce\n",
            "<keras.layers.convolutional.Conv2D object at 0x7f152bd223d0> block4a_se_expand\n",
            "<keras.layers.merge.Multiply object at 0x7f152b1e1a50> block4a_se_excite\n",
            "<keras.layers.convolutional.Conv2D object at 0x7f152bcbce10> block4a_project_conv\n",
            "<keras.layers.normalization.batch_normalization.BatchNormalization object at 0x7f152aca0cd0> block4a_project_bn\n",
            "<keras.layers.convolutional.Conv2D object at 0x7f152b65ccd0> block4b_expand_conv\n",
            "<keras.layers.normalization.batch_normalization.BatchNormalization object at 0x7f152baff4d0> block4b_expand_bn\n",
            "<keras.layers.core.activation.Activation object at 0x7f152bda4750> block4b_expand_activation\n",
            "<keras.layers.convolutional.DepthwiseConv2D object at 0x7f152baff250> block4b_dwconv\n",
            "<keras.layers.normalization.batch_normalization.BatchNormalization object at 0x7f152bda8e10> block4b_bn\n",
            "<keras.layers.core.activation.Activation object at 0x7f152bd986d0> block4b_activation\n",
            "<keras.layers.pooling.GlobalAveragePooling2D object at 0x7f152bd9bc90> block4b_se_squeeze\n",
            "<keras.layers.core.reshape.Reshape object at 0x7f152bd98350> block4b_se_reshape\n",
            "<keras.layers.convolutional.Conv2D object at 0x7f152bda86d0> block4b_se_reduce\n",
            "<keras.layers.convolutional.Conv2D object at 0x7f152bd7b0d0> block4b_se_expand\n",
            "<keras.layers.merge.Multiply object at 0x7f152bd8c2d0> block4b_se_excite\n",
            "<keras.layers.convolutional.Conv2D object at 0x7f152bd9a490> block4b_project_conv\n",
            "<keras.layers.normalization.batch_normalization.BatchNormalization object at 0x7f152bfe45d0> block4b_project_bn\n",
            "<keras.layers.core.dropout.Dropout object at 0x7f152bfe4910> block4b_drop\n",
            "<keras.layers.merge.Add object at 0x7f152bfe2050> block4b_add\n",
            "<keras.layers.convolutional.Conv2D object at 0x7f152bfe0650> block4c_expand_conv\n",
            "<keras.layers.normalization.batch_normalization.BatchNormalization object at 0x7f152bfd9190> block4c_expand_bn\n",
            "<keras.layers.core.activation.Activation object at 0x7f152bfd46d0> block4c_expand_activation\n",
            "<keras.layers.convolutional.DepthwiseConv2D object at 0x7f152bfd1d50> block4c_dwconv\n",
            "<keras.layers.normalization.batch_normalization.BatchNormalization object at 0x7f152bfcdf10> block4c_bn\n",
            "<keras.layers.core.activation.Activation object at 0x7f152bfc5690> block4c_activation\n",
            "<keras.layers.pooling.GlobalAveragePooling2D object at 0x7f152bfd1b10> block4c_se_squeeze\n",
            "<keras.layers.core.reshape.Reshape object at 0x7f152c1abc10> block4c_se_reshape\n",
            "<keras.layers.convolutional.Conv2D object at 0x7f152c1abfd0> block4c_se_reduce\n",
            "<keras.layers.convolutional.Conv2D object at 0x7f152c177d50> block4c_se_expand\n",
            "<keras.layers.merge.Multiply object at 0x7f152c18b210> block4c_se_excite\n",
            "<keras.layers.convolutional.Conv2D object at 0x7f152bfc5ed0> block4c_project_conv\n",
            "<keras.layers.normalization.batch_normalization.BatchNormalization object at 0x7f152c197150> block4c_project_bn\n",
            "<keras.layers.core.dropout.Dropout object at 0x7f152c180910> block4c_drop\n",
            "<keras.layers.merge.Add object at 0x7f152c180e90> block4c_add\n",
            "<keras.layers.convolutional.Conv2D object at 0x7f152c197e10> block5a_expand_conv\n",
            "<keras.layers.normalization.batch_normalization.BatchNormalization object at 0x7f152c36b090> block5a_expand_bn\n",
            "<keras.layers.core.activation.Activation object at 0x7f152b3a34d0> block5a_expand_activation\n",
            "<keras.layers.convolutional.DepthwiseConv2D object at 0x7f152c36bdd0> block5a_dwconv\n",
            "<keras.layers.normalization.batch_normalization.BatchNormalization object at 0x7f152c18ed10> block5a_bn\n",
            "<keras.layers.core.activation.Activation object at 0x7f152bfb44d0> block5a_activation\n",
            "<keras.layers.pooling.GlobalAveragePooling2D object at 0x7f152bfc5c50> block5a_se_squeeze\n",
            "<keras.layers.core.reshape.Reshape object at 0x7f152bfd94d0> block5a_se_reshape\n",
            "<keras.layers.convolutional.Conv2D object at 0x7f152b39f310> block5a_se_reduce\n",
            "<keras.layers.convolutional.Conv2D object at 0x7f152bd9d290> block5a_se_expand\n",
            "<keras.layers.merge.Multiply object at 0x7f152c369090> block5a_se_excite\n",
            "<keras.layers.convolutional.Conv2D object at 0x7f152c351510> block5a_project_conv\n",
            "<keras.layers.normalization.batch_normalization.BatchNormalization object at 0x7f152c3672d0> block5a_project_bn\n",
            "<keras.layers.convolutional.Conv2D object at 0x7f152c35a410> block5b_expand_conv\n",
            "<keras.layers.normalization.batch_normalization.BatchNormalization object at 0x7f152c34a150> block5b_expand_bn\n",
            "<keras.layers.core.activation.Activation object at 0x7f152c35a610> block5b_expand_activation\n",
            "<keras.layers.convolutional.DepthwiseConv2D object at 0x7f152c34c9d0> block5b_dwconv\n",
            "<keras.layers.normalization.batch_normalization.BatchNormalization object at 0x7f152c4a5c10> block5b_bn\n",
            "<keras.layers.core.activation.Activation object at 0x7f152c4a81d0> block5b_activation\n",
            "<keras.layers.pooling.GlobalAveragePooling2D object at 0x7f152c4a8e10> block5b_se_squeeze\n",
            "<keras.layers.core.reshape.Reshape object at 0x7f152c499550> block5b_se_reshape\n",
            "<keras.layers.convolutional.Conv2D object at 0x7f152c495e10> block5b_se_reduce\n",
            "<keras.layers.convolutional.Conv2D object at 0x7f152c487ad0> block5b_se_expand\n",
            "<keras.layers.merge.Multiply object at 0x7f152c474050> block5b_se_excite\n",
            "<keras.layers.convolutional.Conv2D object at 0x7f152c474e10> block5b_project_conv\n",
            "<keras.layers.normalization.batch_normalization.BatchNormalization object at 0x7f152c4800d0> block5b_project_bn\n",
            "<keras.layers.core.dropout.Dropout object at 0x7f1530291410> block5b_drop\n",
            "<keras.layers.merge.Add object at 0x7f152c47ad90> block5b_add\n",
            "<keras.layers.convolutional.Conv2D object at 0x7f152c480910> block5c_expand_conv\n",
            "<keras.layers.normalization.batch_normalization.BatchNormalization object at 0x7f15302a7e50> block5c_expand_bn\n",
            "<keras.layers.core.activation.Activation object at 0x7f15302972d0> block5c_expand_activation\n",
            "<keras.layers.convolutional.DepthwiseConv2D object at 0x7f1530297a10> block5c_dwconv\n",
            "<keras.layers.normalization.batch_normalization.BatchNormalization object at 0x7f153028a150> block5c_bn\n",
            "<keras.layers.core.activation.Activation object at 0x7f153028abd0> block5c_activation\n",
            "<keras.layers.pooling.GlobalAveragePooling2D object at 0x7f153028f750> block5c_se_squeeze\n",
            "<keras.layers.core.reshape.Reshape object at 0x7f1530271510> block5c_se_reshape\n",
            "<keras.layers.convolutional.Conv2D object at 0x7f153027b310> block5c_se_reduce\n",
            "<keras.layers.convolutional.Conv2D object at 0x7f152ab8a250> block5c_se_expand\n",
            "<keras.layers.merge.Multiply object at 0x7f152ab9df50> block5c_se_excite\n",
            "<keras.layers.convolutional.Conv2D object at 0x7f152aba1290> block5c_project_conv\n",
            "<keras.layers.normalization.batch_normalization.BatchNormalization object at 0x7f1530271a50> block5c_project_bn\n",
            "<keras.layers.core.dropout.Dropout object at 0x7f1530281fd0> block5c_drop\n",
            "<keras.layers.merge.Add object at 0x7f1530297910> block5c_add\n",
            "<keras.layers.convolutional.Conv2D object at 0x7f15302a0350> block6a_expand_conv\n",
            "<keras.layers.normalization.batch_normalization.BatchNormalization object at 0x7f152c332d90> block6a_expand_bn\n",
            "<keras.layers.core.activation.Activation object at 0x7f152c357110> block6a_expand_activation\n",
            "<keras.layers.convolutional.ZeroPadding2D object at 0x7f152bd10d50> block6a_dwconv_pad\n",
            "<keras.layers.convolutional.DepthwiseConv2D object at 0x7f152bfc7090> block6a_dwconv\n",
            "<keras.layers.normalization.batch_normalization.BatchNormalization object at 0x7f152ab912d0> block6a_bn\n",
            "<keras.layers.core.activation.Activation object at 0x7f152ab91c10> block6a_activation\n",
            "<keras.layers.pooling.GlobalAveragePooling2D object at 0x7f152ab90050> block6a_se_squeeze\n",
            "<keras.layers.core.reshape.Reshape object at 0x7f152ab90b90> block6a_se_reshape\n",
            "<keras.layers.convolutional.Conv2D object at 0x7f152ab7b550> block6a_se_reduce\n",
            "<keras.layers.convolutional.Conv2D object at 0x7f152ab86d10> block6a_se_expand\n",
            "<keras.layers.merge.Multiply object at 0x7f152a773150> block6a_se_excite\n",
            "<keras.layers.convolutional.Conv2D object at 0x7f152a773e50> block6a_project_conv\n",
            "<keras.layers.normalization.batch_normalization.BatchNormalization object at 0x7f152a77c3d0> block6a_project_bn\n",
            "<keras.layers.convolutional.Conv2D object at 0x7f152a7856d0> block6b_expand_conv\n",
            "<keras.layers.normalization.batch_normalization.BatchNormalization object at 0x7f152a78af50> block6b_expand_bn\n",
            "<keras.layers.core.activation.Activation object at 0x7f152a77f290> block6b_expand_activation\n",
            "<keras.layers.convolutional.DepthwiseConv2D object at 0x7f152a794250> block6b_dwconv\n",
            "<keras.layers.normalization.batch_normalization.BatchNormalization object at 0x7f152a7a5b50> block6b_bn\n",
            "<keras.layers.core.activation.Activation object at 0x7f152a7a6250> block6b_activation\n",
            "<keras.layers.pooling.GlobalAveragePooling2D object at 0x7f152a7a6e90> block6b_se_squeeze\n",
            "<keras.layers.core.reshape.Reshape object at 0x7f1530376410> block6b_se_reshape\n",
            "<keras.layers.convolutional.Conv2D object at 0x7f1530372e50> block6b_se_reduce\n",
            "<keras.layers.convolutional.Conv2D object at 0x7f1530384a10> block6b_se_expand\n",
            "<keras.layers.merge.Multiply object at 0x7f153038ff50> block6b_se_excite\n",
            "<keras.layers.convolutional.Conv2D object at 0x7f152a7a6f50> block6b_project_conv\n",
            "<keras.layers.normalization.batch_normalization.BatchNormalization object at 0x7f15303a6690> block6b_project_bn\n",
            "<keras.layers.core.dropout.Dropout object at 0x7f15303acc90> block6b_drop\n",
            "<keras.layers.merge.Add object at 0x7f15303340d0> block6b_add\n",
            "<keras.layers.convolutional.Conv2D object at 0x7f153038f2d0> block6c_expand_conv\n",
            "<keras.layers.normalization.batch_normalization.BatchNormalization object at 0x7f152bd2afd0> block6c_expand_bn\n",
            "<keras.layers.core.activation.Activation object at 0x7f1530340d90> block6c_expand_activation\n",
            "<keras.layers.convolutional.DepthwiseConv2D object at 0x7f153033b2d0> block6c_dwconv\n",
            "<keras.layers.normalization.batch_normalization.BatchNormalization object at 0x7f15303531d0> block6c_bn\n",
            "<keras.layers.core.activation.Activation object at 0x7f153033b7d0> block6c_activation\n",
            "<keras.layers.pooling.GlobalAveragePooling2D object at 0x7f1530344dd0> block6c_se_squeeze\n",
            "<keras.layers.core.reshape.Reshape object at 0x7f1530353b50> block6c_se_reshape\n",
            "<keras.layers.convolutional.Conv2D object at 0x7f152a77f310> block6c_se_reduce\n",
            "<keras.layers.convolutional.Conv2D object at 0x7f153033b510> block6c_se_expand\n",
            "<keras.layers.merge.Multiply object at 0x7f152a7a5e90> block6c_se_excite\n",
            "<keras.layers.convolutional.Conv2D object at 0x7f152ab82410> block6c_project_conv\n",
            "<keras.layers.normalization.batch_normalization.BatchNormalization object at 0x7f1530340750> block6c_project_bn\n",
            "<keras.layers.core.dropout.Dropout object at 0x7f152c47a2d0> block6c_drop\n",
            "<keras.layers.merge.Add object at 0x7f152c351c90> block6c_add\n",
            "<keras.layers.convolutional.Conv2D object at 0x7f153039c290> block6d_expand_conv\n",
            "<keras.layers.normalization.batch_normalization.BatchNormalization object at 0x7f152ab93a90> block6d_expand_bn\n",
            "<keras.layers.core.activation.Activation object at 0x7f152c47a850> block6d_expand_activation\n",
            "<keras.layers.convolutional.DepthwiseConv2D object at 0x7f1530355690> block6d_dwconv\n",
            "<keras.layers.normalization.batch_normalization.BatchNormalization object at 0x7f1530355e90> block6d_bn\n",
            "<keras.layers.core.activation.Activation object at 0x7f153035ee50> block6d_activation\n",
            "<keras.layers.pooling.GlobalAveragePooling2D object at 0x7f1530367f10> block6d_se_squeeze\n",
            "<keras.layers.core.reshape.Reshape object at 0x7f1530c3d490> block6d_se_reshape\n",
            "<keras.layers.convolutional.Conv2D object at 0x7f15302f2590> block6d_se_reduce\n",
            "<keras.layers.convolutional.Conv2D object at 0x7f1530355590> block6d_se_expand\n",
            "<keras.layers.merge.Multiply object at 0x7f1530312c10> block6d_se_excite\n",
            "<keras.layers.convolutional.Conv2D object at 0x7f1530312f50> block6d_project_conv\n",
            "<keras.layers.normalization.batch_normalization.BatchNormalization object at 0x7f15302fff10> block6d_project_bn\n",
            "<keras.layers.core.dropout.Dropout object at 0x7f1530318e50> block6d_drop\n",
            "<keras.layers.merge.Add object at 0x7f152c495510> block6d_add\n",
            "<keras.layers.convolutional.Conv2D object at 0x7f1530324a90> block7a_expand_conv\n",
            "<keras.layers.normalization.batch_normalization.BatchNormalization object at 0x7f15302f2bd0> block7a_expand_bn\n",
            "<keras.layers.core.activation.Activation object at 0x7f1530304c90> block7a_expand_activation\n",
            "<keras.layers.convolutional.DepthwiseConv2D object at 0x7f15302b0990> block7a_dwconv\n",
            "<keras.layers.normalization.batch_normalization.BatchNormalization object at 0x7f15302b9c50> block7a_bn\n",
            "<keras.layers.core.activation.Activation object at 0x7f15302b4950> block7a_activation\n",
            "<keras.layers.pooling.GlobalAveragePooling2D object at 0x7f15302b4090> block7a_se_squeeze\n",
            "<keras.layers.core.reshape.Reshape object at 0x7f15302cbb90> block7a_se_reshape\n",
            "<keras.layers.convolutional.Conv2D object at 0x7f15302cb610> block7a_se_reduce\n",
            "<keras.layers.convolutional.Conv2D object at 0x7f153031ef90> block7a_se_expand\n",
            "<keras.layers.merge.Multiply object at 0x7f15302e1a90> block7a_se_excite\n",
            "<keras.layers.convolutional.Conv2D object at 0x7f15302ed350> block7a_project_conv\n",
            "<keras.layers.normalization.batch_normalization.BatchNormalization object at 0x7f15302d7a10> block7a_project_bn\n",
            "<keras.layers.convolutional.Conv2D object at 0x7f15303c6790> top_conv\n",
            "<keras.layers.normalization.batch_normalization.BatchNormalization object at 0x7f15302ed850> top_bn\n",
            "<keras.layers.core.activation.Activation object at 0x7f152f1db210> top_activation\n"
          ]
        }
      ]
    },
    {
      "cell_type": "code",
      "source": [
        "len(loaded_model.layers)"
      ],
      "metadata": {
        "id": "vL766S20NPRS",
        "colab": {
          "base_uri": "https://localhost:8080/"
        },
        "outputId": "ba7fb877-5485-418b-ee46-c6e47a45b15e"
      },
      "execution_count": null,
      "outputs": [
        {
          "output_type": "execute_result",
          "data": {
            "text/plain": [
              "5"
            ]
          },
          "metadata": {},
          "execution_count": 89
        }
      ]
    },
    {
      "cell_type": "code",
      "source": [
        "len(loaded_model.trainable_variables)"
      ],
      "metadata": {
        "id": "a3DkyARjNIRo",
        "colab": {
          "base_uri": "https://localhost:8080/"
        },
        "outputId": "52071fb8-6631-4e12-9f1d-5c747cd77639"
      },
      "execution_count": null,
      "outputs": [
        {
          "output_type": "execute_result",
          "data": {
            "text/plain": [
              "2"
            ]
          },
          "metadata": {},
          "execution_count": 90
        }
      ]
    },
    {
      "cell_type": "code",
      "source": [
        "len(base_model.trainable_variables)"
      ],
      "metadata": {
        "colab": {
          "base_uri": "https://localhost:8080/"
        },
        "id": "WC2zUX4utTKH",
        "outputId": "40b1613a-6ced-478e-82e0-12b18220e7bb"
      },
      "execution_count": null,
      "outputs": [
        {
          "output_type": "execute_result",
          "data": {
            "text/plain": [
              "211"
            ]
          },
          "metadata": {},
          "execution_count": 91
        }
      ]
    },
    {
      "cell_type": "code",
      "source": [
        "len(base_model.layers)"
      ],
      "metadata": {
        "colab": {
          "base_uri": "https://localhost:8080/"
        },
        "id": "nub4e51dtXgw",
        "outputId": "abcba53e-80d3-4ab5-f87a-36765bca3c6b"
      },
      "execution_count": null,
      "outputs": [
        {
          "output_type": "execute_result",
          "data": {
            "text/plain": [
              "237"
            ]
          },
          "metadata": {},
          "execution_count": 92
        }
      ]
    },
    {
      "cell_type": "markdown",
      "metadata": {
        "id": "VsWNGb5GN4_I"
      },
      "source": [
        "## Callback for Fine-Tuning All unfrozen layers"
      ]
    },
    {
      "cell_type": "code",
      "execution_count": null,
      "metadata": {
        "id": "Y6VyyuqwOBKb",
        "colab": {
          "base_uri": "https://localhost:8080/"
        },
        "outputId": "253ac352-ab6e-4cb1-e5f3-72fec049574d"
      },
      "outputs": [
        {
          "output_type": "stream",
          "name": "stdout",
          "text": [
            "Saving TensorBoard log files to: transfer_learning/101_classes_fine_tuning_all_data_all_unfrozen_layers/20220809-101226\n"
          ]
        }
      ],
      "source": [
        "checpoint_fine_tuning= \"checkpoints_fine_tuning_all\"\n",
        "\n",
        "checkpoint_callback_fine_tuning_all_unfrozen=model_check_point_callback(checpoint_fine_tuning, save_weights_only=True, save_best_only=True, monitor=\"val_accuracy\")\n",
        "tensorboard_callback_fine_tuning_all_unfrozen= create_tensorboard_callback(\"transfer_learning\", \"101_classes_fine_tuning_all_data_all_unfrozen_layers\")\n",
        "early_stopping_callback_fine_tuning_all_unfrozen= create_early_stopping_callback(monitor=\"val_loss\", patience=5)\n",
        "learning_rate_reduce_callback_all_unfrozen= reduce_learning_rate_callback(monitor=\"val_loss\", factor=0.2, patience=2, minimum_lr=1e-7)"
      ]
    },
    {
      "cell_type": "markdown",
      "source": [
        "## Recompiling the model before Fine-Tuning"
      ],
      "metadata": {
        "id": "hszg1LgJQic7"
      }
    },
    {
      "cell_type": "code",
      "source": [
        "loaded_model.compile(loss=\"sparse_categorical_crossentropy\", optimizer=tf.keras.optimizers.Adam(learning_rate=0.0001), metrics=[\"accuracy\"])"
      ],
      "metadata": {
        "id": "jRCAzOXCQiMs"
      },
      "execution_count": null,
      "outputs": []
    },
    {
      "cell_type": "markdown",
      "source": [
        "## Fine-Tuning for all unfrozen layers"
      ],
      "metadata": {
        "id": "erA_CGcfNcFH"
      }
    },
    {
      "cell_type": "code",
      "source": [
        "history_fine_tuned_all= loaded_model.fit(train_data, epochs=100, steps_per_epoch=len(train_data) ,validation_data= test_data, validation_steps=int(0.15 * len(test_data)), callbacks=[checkpoint_callback_fine_tuning_all_unfrozen, tensorboard_callback_fine_tuning_all_unfrozen, early_stopping_callback_fine_tuning_all_unfrozen, learning_rate_reduce_callback_all_unfrozen])"
      ],
      "metadata": {
        "id": "jUZZ6L7_NbhZ",
        "colab": {
          "base_uri": "https://localhost:8080/"
        },
        "outputId": "60af3d40-10ce-4ef3-b584-a040fe28b0b7"
      },
      "execution_count": null,
      "outputs": [
        {
          "output_type": "stream",
          "name": "stdout",
          "text": [
            "Epoch 1/100\n",
            "2367/2368 [============================>.] - ETA: 0s - loss: 0.6910 - accuracy: 0.8282\n",
            "Epoch 1: val_accuracy improved from -inf to 0.71663, saving model to checkpoints_fine_tuning_all\n",
            "2368/2368 [==============================] - 175s 70ms/step - loss: 0.6909 - accuracy: 0.8282 - val_loss: 1.0425 - val_accuracy: 0.7166 - lr: 1.0000e-04\n",
            "Epoch 2/100\n",
            "2367/2368 [============================>.] - ETA: 0s - loss: 0.6875 - accuracy: 0.8288\n",
            "Epoch 2: val_accuracy improved from 0.71663 to 0.71928, saving model to checkpoints_fine_tuning_all\n",
            "2368/2368 [==============================] - 167s 70ms/step - loss: 0.6876 - accuracy: 0.8288 - val_loss: 1.0358 - val_accuracy: 0.7193 - lr: 1.0000e-04\n",
            "Epoch 3/100\n",
            "2367/2368 [============================>.] - ETA: 0s - loss: 0.6845 - accuracy: 0.8300\n",
            "Epoch 3: val_accuracy did not improve from 0.71928\n",
            "2368/2368 [==============================] - 167s 70ms/step - loss: 0.6845 - accuracy: 0.8300 - val_loss: 1.0381 - val_accuracy: 0.7190 - lr: 1.0000e-04\n",
            "Epoch 4/100\n",
            "2368/2368 [==============================] - ETA: 0s - loss: 0.6813 - accuracy: 0.8304\n",
            "Epoch 4: val_accuracy did not improve from 0.71928\n",
            "\n",
            "Epoch 4: ReduceLROnPlateau reducing learning rate to 1.9999999494757503e-05.\n",
            "2368/2368 [==============================] - 163s 68ms/step - loss: 0.6813 - accuracy: 0.8304 - val_loss: 1.0373 - val_accuracy: 0.7190 - lr: 1.0000e-04\n",
            "Epoch 5/100\n",
            "2367/2368 [============================>.] - ETA: 0s - loss: 0.6693 - accuracy: 0.8359\n",
            "Epoch 5: val_accuracy improved from 0.71928 to 0.72034, saving model to checkpoints_fine_tuning_all\n",
            "2368/2368 [==============================] - 165s 69ms/step - loss: 0.6692 - accuracy: 0.8359 - val_loss: 1.0375 - val_accuracy: 0.7203 - lr: 2.0000e-05\n",
            "Epoch 6/100\n",
            "2367/2368 [============================>.] - ETA: 0s - loss: 0.6682 - accuracy: 0.8361\n",
            "Epoch 6: val_accuracy improved from 0.72034 to 0.72166, saving model to checkpoints_fine_tuning_all\n",
            "2368/2368 [==============================] - 168s 70ms/step - loss: 0.6683 - accuracy: 0.8361 - val_loss: 1.0357 - val_accuracy: 0.7217 - lr: 2.0000e-05\n",
            "Epoch 7/100\n",
            "2368/2368 [==============================] - ETA: 0s - loss: 0.6676 - accuracy: 0.8356\n",
            "Epoch 7: val_accuracy did not improve from 0.72166\n",
            "2368/2368 [==============================] - 165s 69ms/step - loss: 0.6676 - accuracy: 0.8356 - val_loss: 1.0413 - val_accuracy: 0.7203 - lr: 2.0000e-05\n",
            "Epoch 8/100\n",
            "2368/2368 [==============================] - ETA: 0s - loss: 0.6670 - accuracy: 0.8359\n",
            "Epoch 8: val_accuracy did not improve from 0.72166\n",
            "\n",
            "Epoch 8: ReduceLROnPlateau reducing learning rate to 3.999999898951501e-06.\n",
            "2368/2368 [==============================] - 166s 70ms/step - loss: 0.6670 - accuracy: 0.8359 - val_loss: 1.0396 - val_accuracy: 0.7198 - lr: 2.0000e-05\n",
            "Epoch 9/100\n",
            "2367/2368 [============================>.] - ETA: 0s - loss: 0.6644 - accuracy: 0.8370\n",
            "Epoch 9: val_accuracy improved from 0.72166 to 0.72193, saving model to checkpoints_fine_tuning_all\n",
            "2368/2368 [==============================] - 163s 68ms/step - loss: 0.6643 - accuracy: 0.8370 - val_loss: 1.0372 - val_accuracy: 0.7219 - lr: 4.0000e-06\n",
            "Epoch 10/100\n",
            "2368/2368 [==============================] - ETA: 0s - loss: 0.6642 - accuracy: 0.8370\n",
            "Epoch 10: val_accuracy improved from 0.72193 to 0.72219, saving model to checkpoints_fine_tuning_all\n",
            "\n",
            "Epoch 10: ReduceLROnPlateau reducing learning rate to 7.999999979801942e-07.\n",
            "2368/2368 [==============================] - 163s 68ms/step - loss: 0.6642 - accuracy: 0.8370 - val_loss: 1.0369 - val_accuracy: 0.7222 - lr: 4.0000e-06\n",
            "Epoch 11/100\n",
            "2368/2368 [==============================] - ETA: 0s - loss: 0.6636 - accuracy: 0.8372\n",
            "Epoch 11: val_accuracy did not improve from 0.72219\n",
            "2368/2368 [==============================] - 166s 69ms/step - loss: 0.6636 - accuracy: 0.8372 - val_loss: 1.0387 - val_accuracy: 0.7222 - lr: 8.0000e-07\n",
            "Epoch 11: early stopping\n"
          ]
        }
      ]
    },
    {
      "cell_type": "code",
      "source": [
        "loaded_model.summary()"
      ],
      "metadata": {
        "id": "peg0UM91RIJM"
      },
      "execution_count": null,
      "outputs": []
    },
    {
      "cell_type": "code",
      "source": [
        "result_loaded_model_2=loaded_model.evaluate(test_data)\n",
        "result_loaded_model_2"
      ],
      "metadata": {
        "id": "7cCEJnrxPweE",
        "colab": {
          "base_uri": "https://localhost:8080/"
        },
        "outputId": "868f2956-760c-49d6-d07f-516ed0c817d1"
      },
      "execution_count": null,
      "outputs": [
        {
          "output_type": "stream",
          "name": "stdout",
          "text": [
            "790/790 [==============================] - 48s 60ms/step - loss: 1.0435 - accuracy: 0.7190\n"
          ]
        },
        {
          "output_type": "execute_result",
          "data": {
            "text/plain": [
              "[1.0434802770614624, 0.7189702987670898]"
            ]
          },
          "metadata": {},
          "execution_count": 96
        }
      ]
    },
    {
      "cell_type": "code",
      "source": [
        "plot_loss_curves(history_fine_tuned_all)"
      ],
      "metadata": {
        "colab": {
          "base_uri": "https://localhost:8080/",
          "height": 573
        },
        "id": "Njg4IlD-zOLr",
        "outputId": "2305fe24-7a99-4ea1-fc75-db849e91c643"
      },
      "execution_count": null,
      "outputs": [
        {
          "output_type": "display_data",
          "data": {
            "text/plain": [
              "<Figure size 432x288 with 1 Axes>"
            ],
            "image/png": "[encoded data removed]"
          },
          "metadata": {
            "needs_background": "light"
          }
        },
        {
          "output_type": "display_data",
          "data": {
            "text/plain": [
              "<Figure size 432x288 with 1 Axes>"
            ],
            "image/png": "[encoded data removed]"
          },
          "metadata": {
            "needs_background": "light"
          }
        }
      ]
    },
    {
      "cell_type": "markdown",
      "metadata": {
        "id": "Haw_gXjh3sQj"
      },
      "source": [
        "## Viewing/Comparing results on tensorboard\n",
        "\n",
        "\n",
        "Link -> https://tensorboard.dev/experiment/8RDC0W82QkCB22MQyuYhag/#scalars"
      ]
    },
    {
      "cell_type": "code",
      "execution_count": null,
      "metadata": {
        "id": "pXXdb4B03sKw",
        "colab": {
          "base_uri": "https://localhost:8080/"
        },
        "outputId": "b9f6cb79-f9a9-453b-aeb8-f5dab5fe90d7"
      },
      "outputs": [
        {
          "output_type": "stream",
          "name": "stdout",
          "text": [
            "\n",
            "***** TensorBoard Uploader *****\n",
            "\n",
            "This will upload your TensorBoard logs to https://tensorboard.dev/ from\n",
            "the following directory:\n",
            "\n",
            "./transfer_learning\n",
            "\n",
            "This TensorBoard will be visible to everyone. Do not upload sensitive\n",
            "data.\n",
            "\n",
            "Your use of this service is subject to Google's Terms of Service\n",
            "<https://policies.google.com/terms> and Privacy Policy\n",
            "<https://policies.google.com/privacy>, and TensorBoard.dev's Terms of Service\n",
            "<https://tensorboard.dev/policy/terms/>.\n",
            "\n",
            "This notice will not be shown again while you are logged into the uploader.\n",
            "To log out, run `tensorboard dev auth revoke`.\n",
            "\n",
            "Continue? (yes/NO) "
          ]
        }
      ],
      "source": [
        "!tensorboard dev upload --logdir ./transfer_learning \\\n",
        "--name \"Transfer Learning on the Food101 dataset\" \\\n",
        "--description \"Training a Transfer Learning model with EfficientNetB0 to beat the DeepFood paper which is based on the Food101 dataset.\" \\\n",
        "--one_shot"
      ]
    },
    {
      "cell_type": "code",
      "source": [
        "!tensorboard dev list"
      ],
      "metadata": {
        "id": "_obihSmAyY6B"
      },
      "execution_count": null,
      "outputs": []
    },
    {
      "cell_type": "markdown",
      "source": [
        "## Evaluating `loaded_model_2`"
      ],
      "metadata": {
        "id": "fKFJBFKVymJT"
      }
    },
    {
      "cell_type": "code",
      "execution_count": null,
      "metadata": {
        "id": "khXjU4FE3sEY"
      },
      "outputs": [],
      "source": [
        "pred_probs=loaded_model_2.predict(test_data_processes, verbose=1)"
      ]
    },
    {
      "cell_type": "code",
      "source": [
        "len(pred_probs)"
      ],
      "metadata": {
        "id": "usKeGt7c06zA"
      },
      "execution_count": null,
      "outputs": []
    },
    {
      "cell_type": "code",
      "source": [
        "pred_probs.shape"
      ],
      "metadata": {
        "id": "kmrocpnn0-VB"
      },
      "execution_count": null,
      "outputs": []
    },
    {
      "cell_type": "code",
      "source": [
        "pred_probs[1]"
      ],
      "metadata": {
        "id": "s4EyibS536HE"
      },
      "execution_count": null,
      "outputs": []
    },
    {
      "cell_type": "code",
      "execution_count": null,
      "metadata": {
        "id": "RM_dzCBw3r9n"
      },
      "outputs": [],
      "source": [
        "pred_classes= pred_probs.argmax(axis=1)\n",
        "\n",
        "pred_classes[:5]"
      ]
    },
    {
      "cell_type": "code",
      "source": [
        "len(pred_classes)"
      ],
      "metadata": {
        "id": "zzpgSkU71MVd"
      },
      "execution_count": null,
      "outputs": []
    },
    {
      "cell_type": "code",
      "execution_count": null,
      "metadata": {
        "id": "J2DxsUy13r52"
      },
      "outputs": [],
      "source": [
        "y_labels= []\n",
        "\n",
        "for images, labels in test_data_processes.unbatch():\n",
        "  y_labels.append(labels.numpy().argmax())\n",
        "\n",
        "y_labels"
      ]
    },
    {
      "cell_type": "code",
      "source": [
        "len(y_labels)"
      ],
      "metadata": {
        "id": "WerXTHiL1Wbz"
      },
      "execution_count": null,
      "outputs": []
    },
    {
      "cell_type": "markdown",
      "source": [
        "## Accuracy Score"
      ],
      "metadata": {
        "id": "eYzrDMw13rxV"
      }
    },
    {
      "cell_type": "code",
      "execution_count": null,
      "metadata": {
        "id": "Ztv44UaG3rqf"
      },
      "outputs": [],
      "source": [
        "sklearn_accuracy= accuracy_score(y_true= y_labels, y_pred= pred_classes)\n",
        "sklearn_accuracy"
      ]
    },
    {
      "cell_type": "markdown",
      "source": [
        "## Confusion Matrix"
      ],
      "metadata": {
        "id": "Dcx9_h8hQwWx"
      }
    },
    {
      "cell_type": "code",
      "source": [
        "cm = confusion_matrix(y_labels, pred_classes)\n",
        "# Normalise\n",
        "cmn = cm.astype('float') / cm.sum(axis=1)[:, np.newaxis]==0\n",
        "fig, ax = plt.subplots(figsize=(100,100))\n",
        "sns.heatmap(cmn, annot=True, fmt='.2f', xticklabels=class_names, yticklabels=class_names)\n",
        "plt.ylabel('Actual')\n",
        "plt.xlabel('Predicted')\n",
        "plt.show(block=False)"
      ],
      "metadata": {
        "id": "7xwM7Jaa2JUP"
      },
      "execution_count": null,
      "outputs": []
    },
    {
      "cell_type": "code",
      "source": [
        ""
      ],
      "metadata": {
        "id": "d6BMymOQ2JMR"
      },
      "execution_count": null,
      "outputs": []
    },
    {
      "cell_type": "code",
      "source": [
        ""
      ],
      "metadata": {
        "id": "XNLtp1IF2JF-"
      },
      "execution_count": null,
      "outputs": []
    },
    {
      "cell_type": "markdown",
      "source": [
        "## Classification Report "
      ],
      "metadata": {
        "id": "kBqbbzcQQwIO"
      }
    },
    {
      "cell_type": "code",
      "source": [
        "print(classification_report(y_true= y_labels, y_pred= pred_classes))"
      ],
      "metadata": {
        "id": "nYu8KH6kQwCW"
      },
      "execution_count": null,
      "outputs": []
    },
    {
      "cell_type": "code",
      "source": [
        "classification_report_dict= classification_report(y_labels, pred_classes, output_dict=True)\n",
        "classification_report_dict"
      ],
      "metadata": {
        "id": "GrD7ODmrQv_g"
      },
      "execution_count": null,
      "outputs": []
    },
    {
      "cell_type": "markdown",
      "source": [
        "## Visualizing the F1-score"
      ],
      "metadata": {
        "id": "0wevx-cfSkKJ"
      }
    },
    {
      "cell_type": "code",
      "source": [
        "class_f1_scores= {}\n",
        "\n",
        "# Looping through the classification report dictionary items\n",
        "for k, v in classification_report_dict.items():\n",
        "  if k == \"accuracy\":\n",
        "    break\n",
        "\n",
        "  else:\n",
        "    class_f1_scores[class_names[int(k)]] = v[\"f1-score\"]\n",
        "\n",
        "\n",
        "class_f1_scores"
      ],
      "metadata": {
        "id": "5VotsRxlQv5U"
      },
      "execution_count": null,
      "outputs": []
    },
    {
      "cell_type": "code",
      "source": [
        "f1_scores= pd.DataFrame({\"class_names\": list(class_f1_scores.keys()), \"f1-score\": list(class_f1_scores.values())}).sort_values(\"f1-score\", ascending=False)"
      ],
      "metadata": {
        "id": "AsQ4UWt9Qv1t"
      },
      "execution_count": null,
      "outputs": []
    },
    {
      "cell_type": "code",
      "source": [
        "import matplotlib.pyplot as plt\n",
        "\n",
        "fig, ax = plt.subplots(figsize=(12, 25))\n",
        "scores = ax.barh(range(len(f1_scores)), f1_scores[\"f1-score\"].values)\n",
        "ax.set_yticks(range(len(f1_scores)))\n",
        "ax.set_yticklabels(list(f1_scores[\"class_names\"]))\n",
        "ax.set_xlabel(\"f1-score\")\n",
        "ax.set_title(\"F1-Scores for 10 Different Classes\")\n",
        "ax.invert_yaxis(); # reverse the order\n",
        "\n",
        "def autolabel(rects): # Modified version of: https://matplotlib.org/examples/api/barchart_demo.html\n",
        "  \"\"\"\n",
        "  Attach a text label above each bar displaying its height (it's value).\n",
        "  \"\"\"\n",
        "  for rect in rects:\n",
        "    width = rect.get_width()\n",
        "    ax.text(1.03*width, rect.get_y() + rect.get_height()/1.5,\n",
        "            f\"{width:.2f}\",\n",
        "            ha='center', va='bottom')\n",
        "\n",
        "autolabel(scores)"
      ],
      "metadata": {
        "id": "6Z2zgvv1Qvv0"
      },
      "execution_count": null,
      "outputs": []
    },
    {
      "cell_type": "markdown",
      "source": [
        "## Making Predictions on a series of random images"
      ],
      "metadata": {
        "id": "a9-E8b7fT9GS"
      }
    },
    {
      "cell_type": "code",
      "source": [
        "train_dir='101_food_classes_10_percent/train'\n",
        "test_dir='101_food_classes_10_percent/test'"
      ],
      "metadata": {
        "id": "tjE-Z1oYovH8"
      },
      "execution_count": null,
      "outputs": []
    },
    {
      "cell_type": "code",
      "source": [
        "plt.figure(figsize=(40,10))\n",
        "for i in range(15):\n",
        "  # Choose a random image from a random class \n",
        "  class_name = random.choice(class_names)\n",
        "  filename = random.choice(os.listdir(test_dir + \"/\" + class_name))\n",
        "  filepath = test_dir + \"/\" + class_name + \"/\" + filename\n",
        "\n",
        "  # Load the image and make predictions\n",
        "  img = load_and_prep_image(filepath, scale=False) # don't scale images for EfficientNet predictions\n",
        "  img_expanded=tf.expand_dims(img, axis=0)\n",
        "  pred_prob = model_final.predict(img_expanded) # model accepts tensors of shape [None, 224, 224, 3]\n",
        "  pred_class = class_names[pred_prob.argmax()] # find the predicted class \n",
        "\n",
        "  # Plot the image(s)\n",
        "  plt.subplot(3, 5, i+1)\n",
        "  plt.imshow(img/255.)\n",
        "  if class_name == pred_class: # Change the color of text based on whether prediction is right or wrong\n",
        "    title_color = \"g\"\n",
        "  else:\n",
        "    title_color = \"r\"\n",
        "  plt.title(f\"actual: {class_name}, pred: {pred_class}, prob: {pred_prob.max():.2f}\", c=title_color)\n",
        "  plt.axis(False);"
      ],
      "metadata": {
        "id": "Nbg4D-cpTxE2"
      },
      "execution_count": null,
      "outputs": []
    },
    {
      "cell_type": "markdown",
      "source": [
        "## Finding the most wrong predictions"
      ],
      "metadata": {
        "id": "OR5PKpVvTxB8"
      }
    },
    {
      "cell_type": "code",
      "source": [
        "filepaths= []\n",
        "\n",
        "for path in test_data.list_files('/content/101_food_classes_10_percent/test/*/*.jpg', shuffle= False):\n",
        "\n",
        "  filepaths.append(path.numpy())"
      ],
      "metadata": {
        "id": "A9maxt9GTw7y"
      },
      "execution_count": null,
      "outputs": []
    },
    {
      "cell_type": "code",
      "source": [
        "pred_df = pd.DataFrame({\"img_path\": filepaths,\n",
        "                        \"y_true\": y_labels,\n",
        "                        \"y_pred\": pred_classes,\n",
        "                        \"pred_conf\": preds_probs.max(axis=1), # get the maximum prediction probability value\n",
        "                        \"y_true_classname\": [class_names[i] for i in y_labels],\n",
        "                        \"y_pred_classname\": [class_names[i] for i in pred_classes]}) \n",
        "pred_df.head()"
      ],
      "metadata": {
        "id": "jDXR1UQhTw2D"
      },
      "execution_count": null,
      "outputs": []
    },
    {
      "cell_type": "code",
      "source": [
        "wrong_pred_df= pred_df[pred_df['pred_correct'] == False].sort_values(\"pred_conf\", ascending=False)\n",
        "wrong_pred_df"
      ],
      "metadata": {
        "id": "1DM7fxlxTwvm"
      },
      "execution_count": null,
      "outputs": []
    },
    {
      "cell_type": "code",
      "source": [
        "images_to_view = 15\n",
        "start_index = 32 # change the start index to view more\n",
        "plt.figure(figsize=(30, 20))\n",
        "for i, row in enumerate(wrong_pred_df[start_index:start_index+images_to_view].itertuples()): \n",
        "  plt.subplot(3, 5, i+1)\n",
        "  img = load_and_prep_image(row[1], scale=True) # 'row[1]' gives you the img path\n",
        "  _, _, _, _, pred_conf, y_true, y_pred, _ = row # only interested in a few parameters of each row\n",
        "  plt.imshow(img)\n",
        "  plt.title(f\"actual: {y_true}, pred: {y_pred} \\n prob: {pred_conf:.2f}\")\n",
        "  plt.axis(False)"
      ],
      "metadata": {
        "id": "d_ptuqo6Two7"
      },
      "execution_count": null,
      "outputs": []
    },
    {
      "cell_type": "markdown",
      "source": [
        "## Evaluating on custom dataset"
      ],
      "metadata": {
        "id": "b_Y-GBCEWPUL"
      }
    },
    {
      "cell_type": "code",
      "source": [
        "!wget https://storage.googleapis.com/ztm_tf_course/food_vision/custom_food_images.zip"
      ],
      "metadata": {
        "id": "GW8nyUzQWTVH"
      },
      "execution_count": null,
      "outputs": []
    },
    {
      "cell_type": "code",
      "source": [
        "unzip_data('custom_food_images.zip')"
      ],
      "metadata": {
        "id": "c6JSg5-JWTRU"
      },
      "execution_count": null,
      "outputs": []
    },
    {
      "cell_type": "code",
      "source": [
        "custom_food_images = [\"custom_food_images/\" + img_path for img_path in os.listdir(\"custom_food_images\")]\n",
        "custom_food_images"
      ],
      "metadata": {
        "id": "zKdpXN1TWTKj"
      },
      "execution_count": null,
      "outputs": []
    },
    {
      "cell_type": "code",
      "source": [
        "for img in custom_food_images:\n",
        "  img = load_and_prep_image(img, scale=False) # load in target image and turn it into tensor\n",
        "  pred_prob = model_final.predict(tf.expand_dims(img, axis=0)) # make prediction on image with shape [None, 224, 224, 3]\n",
        "  pred_class = class_names[pred_prob.argmax()] # find the predicted class label\n",
        "  # Plot the image with appropriate annotations\n",
        "  plt.figure()\n",
        "  plt.imshow(img/255.) # imshow() requires float inputs to be normalized\n",
        "  plt.title(f\"pred: {pred_class}, prob: {pred_prob.max():.2f}\")\n",
        "  plt.axis(False)"
      ],
      "metadata": {
        "id": "ecIoefFYWTEC"
      },
      "execution_count": null,
      "outputs": []
    },
    {
      "cell_type": "code",
      "source": [
        ""
      ],
      "metadata": {
        "id": "8uf0vwXjWdHj"
      },
      "execution_count": null,
      "outputs": []
    },
    {
      "cell_type": "code",
      "source": [
        ""
      ],
      "metadata": {
        "id": "0L7WLLTNWdAO"
      },
      "execution_count": null,
      "outputs": []
    },
    {
      "cell_type": "code",
      "source": [
        ""
      ],
      "metadata": {
        "id": "q1bkIY0qWc4j"
      },
      "execution_count": null,
      "outputs": []
    },
    {
      "cell_type": "code",
      "source": [
        ""
      ],
      "metadata": {
        "id": "0VxVtK0DWcxH"
      },
      "execution_count": null,
      "outputs": []
    },
    {
      "cell_type": "code",
      "source": [
        ""
      ],
      "metadata": {
        "id": "WCv_Pm-PWcqi"
      },
      "execution_count": null,
      "outputs": []
    },
    {
      "cell_type": "code",
      "source": [
        ""
      ],
      "metadata": {
        "id": "2OjXjEHIWcio"
      },
      "execution_count": null,
      "outputs": []
    },
    {
      "cell_type": "code",
      "source": [
        ""
      ],
      "metadata": {
        "id": "e82ckMWxWcbm"
      },
      "execution_count": null,
      "outputs": []
    },
    {
      "cell_type": "code",
      "source": [
        ""
      ],
      "metadata": {
        "id": "8aChtwstWcU0"
      },
      "execution_count": null,
      "outputs": []
    },
    {
      "cell_type": "code",
      "source": [
        ""
      ],
      "metadata": {
        "id": "8Odr_hhIWcN0"
      },
      "execution_count": null,
      "outputs": []
    }
  ],
  "metadata": {
    "accelerator": "GPU",
    "colab": {
      "collapsed_sections": [
        "KPreQaxP5Y7e",
        "tnyRSrxsBRd4"
      ],
      "name": "Food_Vision_final.ipynb",
      "provenance": []
    },
    "gpuClass": "standard",
    "kernelspec": {
      "display_name": "Python 3",
      "name": "python3"
    },
    "language_info": {
      "name": "python"
    },
    "widgets": {
      "application/vnd.jupyter.widget-state+json": {
        "3e991aaf04224df0aa5166aa24f9e42e": {
          "model_module": "@jupyter-widgets/controls",
          "model_name": "HBoxModel",
          "model_module_version": "1.5.0",
          "state": {
            "_dom_classes": [],
            "_model_module": "@jupyter-widgets/controls",
            "_model_module_version": "1.5.0",
            "_model_name": "HBoxModel",
            "_view_count": null,
            "_view_module": "@jupyter-widgets/controls",
            "_view_module_version": "1.5.0",
            "_view_name": "HBoxView",
            "box_style": "",
            "children": [
              "IPY_MODEL_eb884cfdda2149ab980e769696bc1721",
              "IPY_MODEL_9e1b8158e433482598984d25e8c1eb59",
              "IPY_MODEL_fe0586de91004814a750a72ef4fd0379"
            ],
            "layout": "IPY_MODEL_ec2918948f274048b325a81fb54a1a0e"
          }
        },
        "eb884cfdda2149ab980e769696bc1721": {
          "model_module": "@jupyter-widgets/controls",
          "model_name": "HTMLModel",
          "model_module_version": "1.5.0",
          "state": {
            "_dom_classes": [],
            "_model_module": "@jupyter-widgets/controls",
            "_model_module_version": "1.5.0",
            "_model_name": "HTMLModel",
            "_view_count": null,
            "_view_module": "@jupyter-widgets/controls",
            "_view_module_version": "1.5.0",
            "_view_name": "HTMLView",
            "description": "",
            "description_tooltip": null,
            "layout": "IPY_MODEL_19a2993ab23d4b539bfb0f0844e41d15",
            "placeholder": "​",
            "style": "IPY_MODEL_9abf496f103543edae0219592f9ef4a2",
            "value": "Dl Completed...: 100%"
          }
        },
        "9e1b8158e433482598984d25e8c1eb59": {
          "model_module": "@jupyter-widgets/controls",
          "model_name": "FloatProgressModel",
          "model_module_version": "1.5.0",
          "state": {
            "_dom_classes": [],
            "_model_module": "@jupyter-widgets/controls",
            "_model_module_version": "1.5.0",
            "_model_name": "FloatProgressModel",
            "_view_count": null,
            "_view_module": "@jupyter-widgets/controls",
            "_view_module_version": "1.5.0",
            "_view_name": "ProgressView",
            "bar_style": "success",
            "description": "",
            "description_tooltip": null,
            "layout": "IPY_MODEL_5c097f9b7a024254a2c4097115db8ab1",
            "max": 1,
            "min": 0,
            "orientation": "horizontal",
            "style": "IPY_MODEL_5a023c1c46094e37be5a5992578b9d1a",
            "value": 1
          }
        },
        "fe0586de91004814a750a72ef4fd0379": {
          "model_module": "@jupyter-widgets/controls",
          "model_name": "HTMLModel",
          "model_module_version": "1.5.0",
          "state": {
            "_dom_classes": [],
            "_model_module": "@jupyter-widgets/controls",
            "_model_module_version": "1.5.0",
            "_model_name": "HTMLModel",
            "_view_count": null,
            "_view_module": "@jupyter-widgets/controls",
            "_view_module_version": "1.5.0",
            "_view_name": "HTMLView",
            "description": "",
            "description_tooltip": null,
            "layout": "IPY_MODEL_391c3d3ec758437bad2c589a1af9d634",
            "placeholder": "​",
            "style": "IPY_MODEL_67389ca546f643ca8b6ddc1d20f18b43",
            "value": " 1/1 [04:30&lt;00:00, 206.59s/ url]"
          }
        },
        "ec2918948f274048b325a81fb54a1a0e": {
          "model_module": "@jupyter-widgets/base",
          "model_name": "LayoutModel",
          "model_module_version": "1.2.0",
          "state": {
            "_model_module": "@jupyter-widgets/base",
            "_model_module_version": "1.2.0",
            "_model_name": "LayoutModel",
            "_view_count": null,
            "_view_module": "@jupyter-widgets/base",
            "_view_module_version": "1.2.0",
            "_view_name": "LayoutView",
            "align_content": null,
            "align_items": null,
            "align_self": null,
            "border": null,
            "bottom": null,
            "display": null,
            "flex": null,
            "flex_flow": null,
            "grid_area": null,
            "grid_auto_columns": null,
            "grid_auto_flow": null,
            "grid_auto_rows": null,
            "grid_column": null,
            "grid_gap": null,
            "grid_row": null,
            "grid_template_areas": null,
            "grid_template_columns": null,
            "grid_template_rows": null,
            "height": null,
            "justify_content": null,
            "justify_items": null,
            "left": null,
            "margin": null,
            "max_height": null,
            "max_width": null,
            "min_height": null,
            "min_width": null,
            "object_fit": null,
            "object_position": null,
            "order": null,
            "overflow": null,
            "overflow_x": null,
            "overflow_y": null,
            "padding": null,
            "right": null,
            "top": null,
            "visibility": null,
            "width": null
          }
        },
        "19a2993ab23d4b539bfb0f0844e41d15": {
          "model_module": "@jupyter-widgets/base",
          "model_name": "LayoutModel",
          "model_module_version": "1.2.0",
          "state": {
            "_model_module": "@jupyter-widgets/base",
            "_model_module_version": "1.2.0",
            "_model_name": "LayoutModel",
            "_view_count": null,
            "_view_module": "@jupyter-widgets/base",
            "_view_module_version": "1.2.0",
            "_view_name": "LayoutView",
            "align_content": null,
            "align_items": null,
            "align_self": null,
            "border": null,
            "bottom": null,
            "display": null,
            "flex": null,
            "flex_flow": null,
            "grid_area": null,
            "grid_auto_columns": null,
            "grid_auto_flow": null,
            "grid_auto_rows": null,
            "grid_column": null,
            "grid_gap": null,
            "grid_row": null,
            "grid_template_areas": null,
            "grid_template_columns": null,
            "grid_template_rows": null,
            "height": null,
            "justify_content": null,
            "justify_items": null,
            "left": null,
            "margin": null,
            "max_height": null,
            "max_width": null,
            "min_height": null,
            "min_width": null,
            "object_fit": null,
            "object_position": null,
            "order": null,
            "overflow": null,
            "overflow_x": null,
            "overflow_y": null,
            "padding": null,
            "right": null,
            "top": null,
            "visibility": null,
            "width": null
          }
        },
        "9abf496f103543edae0219592f9ef4a2": {
          "model_module": "@jupyter-widgets/controls",
          "model_name": "DescriptionStyleModel",
          "model_module_version": "1.5.0",
          "state": {
            "_model_module": "@jupyter-widgets/controls",
            "_model_module_version": "1.5.0",
            "_model_name": "DescriptionStyleModel",
            "_view_count": null,
            "_view_module": "@jupyter-widgets/base",
            "_view_module_version": "1.2.0",
            "_view_name": "StyleView",
            "description_width": ""
          }
        },
        "5c097f9b7a024254a2c4097115db8ab1": {
          "model_module": "@jupyter-widgets/base",
          "model_name": "LayoutModel",
          "model_module_version": "1.2.0",
          "state": {
            "_model_module": "@jupyter-widgets/base",
            "_model_module_version": "1.2.0",
            "_model_name": "LayoutModel",
            "_view_count": null,
            "_view_module": "@jupyter-widgets/base",
            "_view_module_version": "1.2.0",
            "_view_name": "LayoutView",
            "align_content": null,
            "align_items": null,
            "align_self": null,
            "border": null,
            "bottom": null,
            "display": null,
            "flex": null,
            "flex_flow": null,
            "grid_area": null,
            "grid_auto_columns": null,
            "grid_auto_flow": null,
            "grid_auto_rows": null,
            "grid_column": null,
            "grid_gap": null,
            "grid_row": null,
            "grid_template_areas": null,
            "grid_template_columns": null,
            "grid_template_rows": null,
            "height": null,
            "justify_content": null,
            "justify_items": null,
            "left": null,
            "margin": null,
            "max_height": null,
            "max_width": null,
            "min_height": null,
            "min_width": null,
            "object_fit": null,
            "object_position": null,
            "order": null,
            "overflow": null,
            "overflow_x": null,
            "overflow_y": null,
            "padding": null,
            "right": null,
            "top": null,
            "visibility": null,
            "width": "20px"
          }
        },
        "5a023c1c46094e37be5a5992578b9d1a": {
          "model_module": "@jupyter-widgets/controls",
          "model_name": "ProgressStyleModel",
          "model_module_version": "1.5.0",
          "state": {
            "_model_module": "@jupyter-widgets/controls",
            "_model_module_version": "1.5.0",
            "_model_name": "ProgressStyleModel",
            "_view_count": null,
            "_view_module": "@jupyter-widgets/base",
            "_view_module_version": "1.2.0",
            "_view_name": "StyleView",
            "bar_color": null,
            "description_width": ""
          }
        },
        "391c3d3ec758437bad2c589a1af9d634": {
          "model_module": "@jupyter-widgets/base",
          "model_name": "LayoutModel",
          "model_module_version": "1.2.0",
          "state": {
            "_model_module": "@jupyter-widgets/base",
            "_model_module_version": "1.2.0",
            "_model_name": "LayoutModel",
            "_view_count": null,
            "_view_module": "@jupyter-widgets/base",
            "_view_module_version": "1.2.0",
            "_view_name": "LayoutView",
            "align_content": null,
            "align_items": null,
            "align_self": null,
            "border": null,
            "bottom": null,
            "display": null,
            "flex": null,
            "flex_flow": null,
            "grid_area": null,
            "grid_auto_columns": null,
            "grid_auto_flow": null,
            "grid_auto_rows": null,
            "grid_column": null,
            "grid_gap": null,
            "grid_row": null,
            "grid_template_areas": null,
            "grid_template_columns": null,
            "grid_template_rows": null,
            "height": null,
            "justify_content": null,
            "justify_items": null,
            "left": null,
            "margin": null,
            "max_height": null,
            "max_width": null,
            "min_height": null,
            "min_width": null,
            "object_fit": null,
            "object_position": null,
            "order": null,
            "overflow": null,
            "overflow_x": null,
            "overflow_y": null,
            "padding": null,
            "right": null,
            "top": null,
            "visibility": null,
            "width": null
          }
        },
        "67389ca546f643ca8b6ddc1d20f18b43": {
          "model_module": "@jupyter-widgets/controls",
          "model_name": "DescriptionStyleModel",
          "model_module_version": "1.5.0",
          "state": {
            "_model_module": "@jupyter-widgets/controls",
            "_model_module_version": "1.5.0",
            "_model_name": "DescriptionStyleModel",
            "_view_count": null,
            "_view_module": "@jupyter-widgets/base",
            "_view_module_version": "1.2.0",
            "_view_name": "StyleView",
            "description_width": ""
          }
        },
        "7103ac99139040c885fd97cc116bbb39": {
          "model_module": "@jupyter-widgets/controls",
          "model_name": "HBoxModel",
          "model_module_version": "1.5.0",
          "state": {
            "_dom_classes": [],
            "_model_module": "@jupyter-widgets/controls",
            "_model_module_version": "1.5.0",
            "_model_name": "HBoxModel",
            "_view_count": null,
            "_view_module": "@jupyter-widgets/controls",
            "_view_module_version": "1.5.0",
            "_view_name": "HBoxView",
            "box_style": "",
            "children": [
              "IPY_MODEL_bc4ad7798cab481398443319bed8954c",
              "IPY_MODEL_6b6f7cd30f424d6590f0b5d4fa3b4c02",
              "IPY_MODEL_7a84ba8010f9464d95d65c8b3f5380b4"
            ],
            "layout": "IPY_MODEL_2dbdda6014014d56b2b25063d0c2df23"
          }
        },
        "bc4ad7798cab481398443319bed8954c": {
          "model_module": "@jupyter-widgets/controls",
          "model_name": "HTMLModel",
          "model_module_version": "1.5.0",
          "state": {
            "_dom_classes": [],
            "_model_module": "@jupyter-widgets/controls",
            "_model_module_version": "1.5.0",
            "_model_name": "HTMLModel",
            "_view_count": null,
            "_view_module": "@jupyter-widgets/controls",
            "_view_module_version": "1.5.0",
            "_view_name": "HTMLView",
            "description": "",
            "description_tooltip": null,
            "layout": "IPY_MODEL_5cf41c576ec94984809cee868e9a6f12",
            "placeholder": "​",
            "style": "IPY_MODEL_deac88f7da874d819bfa10720933d156",
            "value": "Dl Size...: 100%"
          }
        },
        "6b6f7cd30f424d6590f0b5d4fa3b4c02": {
          "model_module": "@jupyter-widgets/controls",
          "model_name": "FloatProgressModel",
          "model_module_version": "1.5.0",
          "state": {
            "_dom_classes": [],
            "_model_module": "@jupyter-widgets/controls",
            "_model_module_version": "1.5.0",
            "_model_name": "FloatProgressModel",
            "_view_count": null,
            "_view_module": "@jupyter-widgets/controls",
            "_view_module_version": "1.5.0",
            "_view_name": "ProgressView",
            "bar_style": "success",
            "description": "",
            "description_tooltip": null,
            "layout": "IPY_MODEL_5007dfa4a2094bd6ad14623e8fcae9ca",
            "max": 1,
            "min": 0,
            "orientation": "horizontal",
            "style": "IPY_MODEL_5a888917931e40daa7d10063992c9c74",
            "value": 1
          }
        },
        "7a84ba8010f9464d95d65c8b3f5380b4": {
          "model_module": "@jupyter-widgets/controls",
          "model_name": "HTMLModel",
          "model_module_version": "1.5.0",
          "state": {
            "_dom_classes": [],
            "_model_module": "@jupyter-widgets/controls",
            "_model_module_version": "1.5.0",
            "_model_name": "HTMLModel",
            "_view_count": null,
            "_view_module": "@jupyter-widgets/controls",
            "_view_module_version": "1.5.0",
            "_view_name": "HTMLView",
            "description": "",
            "description_tooltip": null,
            "layout": "IPY_MODEL_fc0411fdef3a4f0494d86d30fccaca4c",
            "placeholder": "​",
            "style": "IPY_MODEL_f76ad64707cf436abcbc5384ea411b88",
            "value": " 4764/4764 [04:30&lt;00:00, 23.50 MiB/s]"
          }
        },
        "2dbdda6014014d56b2b25063d0c2df23": {
          "model_module": "@jupyter-widgets/base",
          "model_name": "LayoutModel",
          "model_module_version": "1.2.0",
          "state": {
            "_model_module": "@jupyter-widgets/base",
            "_model_module_version": "1.2.0",
            "_model_name": "LayoutModel",
            "_view_count": null,
            "_view_module": "@jupyter-widgets/base",
            "_view_module_version": "1.2.0",
            "_view_name": "LayoutView",
            "align_content": null,
            "align_items": null,
            "align_self": null,
            "border": null,
            "bottom": null,
            "display": null,
            "flex": null,
            "flex_flow": null,
            "grid_area": null,
            "grid_auto_columns": null,
            "grid_auto_flow": null,
            "grid_auto_rows": null,
            "grid_column": null,
            "grid_gap": null,
            "grid_row": null,
            "grid_template_areas": null,
            "grid_template_columns": null,
            "grid_template_rows": null,
            "height": null,
            "justify_content": null,
            "justify_items": null,
            "left": null,
            "margin": null,
            "max_height": null,
            "max_width": null,
            "min_height": null,
            "min_width": null,
            "object_fit": null,
            "object_position": null,
            "order": null,
            "overflow": null,
            "overflow_x": null,
            "overflow_y": null,
            "padding": null,
            "right": null,
            "top": null,
            "visibility": null,
            "width": null
          }
        },
        "5cf41c576ec94984809cee868e9a6f12": {
          "model_module": "@jupyter-widgets/base",
          "model_name": "LayoutModel",
          "model_module_version": "1.2.0",
          "state": {
            "_model_module": "@jupyter-widgets/base",
            "_model_module_version": "1.2.0",
            "_model_name": "LayoutModel",
            "_view_count": null,
            "_view_module": "@jupyter-widgets/base",
            "_view_module_version": "1.2.0",
            "_view_name": "LayoutView",
            "align_content": null,
            "align_items": null,
            "align_self": null,
            "border": null,
            "bottom": null,
            "display": null,
            "flex": null,
            "flex_flow": null,
            "grid_area": null,
            "grid_auto_columns": null,
            "grid_auto_flow": null,
            "grid_auto_rows": null,
            "grid_column": null,
            "grid_gap": null,
            "grid_row": null,
            "grid_template_areas": null,
            "grid_template_columns": null,
            "grid_template_rows": null,
            "height": null,
            "justify_content": null,
            "justify_items": null,
            "left": null,
            "margin": null,
            "max_height": null,
            "max_width": null,
            "min_height": null,
            "min_width": null,
            "object_fit": null,
            "object_position": null,
            "order": null,
            "overflow": null,
            "overflow_x": null,
            "overflow_y": null,
            "padding": null,
            "right": null,
            "top": null,
            "visibility": null,
            "width": null
          }
        },
        "deac88f7da874d819bfa10720933d156": {
          "model_module": "@jupyter-widgets/controls",
          "model_name": "DescriptionStyleModel",
          "model_module_version": "1.5.0",
          "state": {
            "_model_module": "@jupyter-widgets/controls",
            "_model_module_version": "1.5.0",
            "_model_name": "DescriptionStyleModel",
            "_view_count": null,
            "_view_module": "@jupyter-widgets/base",
            "_view_module_version": "1.2.0",
            "_view_name": "StyleView",
            "description_width": ""
          }
        },
        "5007dfa4a2094bd6ad14623e8fcae9ca": {
          "model_module": "@jupyter-widgets/base",
          "model_name": "LayoutModel",
          "model_module_version": "1.2.0",
          "state": {
            "_model_module": "@jupyter-widgets/base",
            "_model_module_version": "1.2.0",
            "_model_name": "LayoutModel",
            "_view_count": null,
            "_view_module": "@jupyter-widgets/base",
            "_view_module_version": "1.2.0",
            "_view_name": "LayoutView",
            "align_content": null,
            "align_items": null,
            "align_self": null,
            "border": null,
            "bottom": null,
            "display": null,
            "flex": null,
            "flex_flow": null,
            "grid_area": null,
            "grid_auto_columns": null,
            "grid_auto_flow": null,
            "grid_auto_rows": null,
            "grid_column": null,
            "grid_gap": null,
            "grid_row": null,
            "grid_template_areas": null,
            "grid_template_columns": null,
            "grid_template_rows": null,
            "height": null,
            "justify_content": null,
            "justify_items": null,
            "left": null,
            "margin": null,
            "max_height": null,
            "max_width": null,
            "min_height": null,
            "min_width": null,
            "object_fit": null,
            "object_position": null,
            "order": null,
            "overflow": null,
            "overflow_x": null,
            "overflow_y": null,
            "padding": null,
            "right": null,
            "top": null,
            "visibility": null,
            "width": "20px"
          }
        },
        "5a888917931e40daa7d10063992c9c74": {
          "model_module": "@jupyter-widgets/controls",
          "model_name": "ProgressStyleModel",
          "model_module_version": "1.5.0",
          "state": {
            "_model_module": "@jupyter-widgets/controls",
            "_model_module_version": "1.5.0",
            "_model_name": "ProgressStyleModel",
            "_view_count": null,
            "_view_module": "@jupyter-widgets/base",
            "_view_module_version": "1.2.0",
            "_view_name": "StyleView",
            "bar_color": null,
            "description_width": ""
          }
        },
        "fc0411fdef3a4f0494d86d30fccaca4c": {
          "model_module": "@jupyter-widgets/base",
          "model_name": "LayoutModel",
          "model_module_version": "1.2.0",
          "state": {
            "_model_module": "@jupyter-widgets/base",
            "_model_module_version": "1.2.0",
            "_model_name": "LayoutModel",
            "_view_count": null,
            "_view_module": "@jupyter-widgets/base",
            "_view_module_version": "1.2.0",
            "_view_name": "LayoutView",
            "align_content": null,
            "align_items": null,
            "align_self": null,
            "border": null,
            "bottom": null,
            "display": null,
            "flex": null,
            "flex_flow": null,
            "grid_area": null,
            "grid_auto_columns": null,
            "grid_auto_flow": null,
            "grid_auto_rows": null,
            "grid_column": null,
            "grid_gap": null,
            "grid_row": null,
            "grid_template_areas": null,
            "grid_template_columns": null,
            "grid_template_rows": null,
            "height": null,
            "justify_content": null,
            "justify_items": null,
            "left": null,
            "margin": null,
            "max_height": null,
            "max_width": null,
            "min_height": null,
            "min_width": null,
            "object_fit": null,
            "object_position": null,
            "order": null,
            "overflow": null,
            "overflow_x": null,
            "overflow_y": null,
            "padding": null,
            "right": null,
            "top": null,
            "visibility": null,
            "width": null
          }
        },
        "f76ad64707cf436abcbc5384ea411b88": {
          "model_module": "@jupyter-widgets/controls",
          "model_name": "DescriptionStyleModel",
          "model_module_version": "1.5.0",
          "state": {
            "_model_module": "@jupyter-widgets/controls",
            "_model_module_version": "1.5.0",
            "_model_name": "DescriptionStyleModel",
            "_view_count": null,
            "_view_module": "@jupyter-widgets/base",
            "_view_module_version": "1.2.0",
            "_view_name": "StyleView",
            "description_width": ""
          }
        },
        "7debcd2288d94b56a9f2c1415db570fd": {
          "model_module": "@jupyter-widgets/controls",
          "model_name": "HBoxModel",
          "model_module_version": "1.5.0",
          "state": {
            "_dom_classes": [],
            "_model_module": "@jupyter-widgets/controls",
            "_model_module_version": "1.5.0",
            "_model_name": "HBoxModel",
            "_view_count": null,
            "_view_module": "@jupyter-widgets/controls",
            "_view_module_version": "1.5.0",
            "_view_name": "HBoxView",
            "box_style": "",
            "children": [
              "IPY_MODEL_b372b665f07e486e9809f7499745fe61",
              "IPY_MODEL_8187b34ba7f5464890eb9e1d59a513a4",
              "IPY_MODEL_c6f25c2f7d6149679c3f8476a7243c3e"
            ],
            "layout": "IPY_MODEL_06df4dfcee4c4db486a60d308cf66cb2"
          }
        },
        "b372b665f07e486e9809f7499745fe61": {
          "model_module": "@jupyter-widgets/controls",
          "model_name": "HTMLModel",
          "model_module_version": "1.5.0",
          "state": {
            "_dom_classes": [],
            "_model_module": "@jupyter-widgets/controls",
            "_model_module_version": "1.5.0",
            "_model_name": "HTMLModel",
            "_view_count": null,
            "_view_module": "@jupyter-widgets/controls",
            "_view_module_version": "1.5.0",
            "_view_name": "HTMLView",
            "description": "",
            "description_tooltip": null,
            "layout": "IPY_MODEL_e50d66d6bd5d4c389fdcdf34decb82f7",
            "placeholder": "​",
            "style": "IPY_MODEL_75faba5408f74b87b65e0e05d5b783c2",
            "value": "Extraction completed...: 100%"
          }
        },
        "8187b34ba7f5464890eb9e1d59a513a4": {
          "model_module": "@jupyter-widgets/controls",
          "model_name": "FloatProgressModel",
          "model_module_version": "1.5.0",
          "state": {
            "_dom_classes": [],
            "_model_module": "@jupyter-widgets/controls",
            "_model_module_version": "1.5.0",
            "_model_name": "FloatProgressModel",
            "_view_count": null,
            "_view_module": "@jupyter-widgets/controls",
            "_view_module_version": "1.5.0",
            "_view_name": "ProgressView",
            "bar_style": "success",
            "description": "",
            "description_tooltip": null,
            "layout": "IPY_MODEL_1d141153da384fa6b07336f5638686da",
            "max": 1,
            "min": 0,
            "orientation": "horizontal",
            "style": "IPY_MODEL_7b5bed0bdbc6467c84d24d39ab939cae",
            "value": 1
          }
        },
        "c6f25c2f7d6149679c3f8476a7243c3e": {
          "model_module": "@jupyter-widgets/controls",
          "model_name": "HTMLModel",
          "model_module_version": "1.5.0",
          "state": {
            "_dom_classes": [],
            "_model_module": "@jupyter-widgets/controls",
            "_model_module_version": "1.5.0",
            "_model_name": "HTMLModel",
            "_view_count": null,
            "_view_module": "@jupyter-widgets/controls",
            "_view_module_version": "1.5.0",
            "_view_name": "HTMLView",
            "description": "",
            "description_tooltip": null,
            "layout": "IPY_MODEL_d71ce63326184ce4a1faef102d226ea7",
            "placeholder": "​",
            "style": "IPY_MODEL_660b1e509f3441b29de7d24496490769",
            "value": " 1/1 [04:30&lt;00:00, 270.60s/ file]"
          }
        },
        "06df4dfcee4c4db486a60d308cf66cb2": {
          "model_module": "@jupyter-widgets/base",
          "model_name": "LayoutModel",
          "model_module_version": "1.2.0",
          "state": {
            "_model_module": "@jupyter-widgets/base",
            "_model_module_version": "1.2.0",
            "_model_name": "LayoutModel",
            "_view_count": null,
            "_view_module": "@jupyter-widgets/base",
            "_view_module_version": "1.2.0",
            "_view_name": "LayoutView",
            "align_content": null,
            "align_items": null,
            "align_self": null,
            "border": null,
            "bottom": null,
            "display": null,
            "flex": null,
            "flex_flow": null,
            "grid_area": null,
            "grid_auto_columns": null,
            "grid_auto_flow": null,
            "grid_auto_rows": null,
            "grid_column": null,
            "grid_gap": null,
            "grid_row": null,
            "grid_template_areas": null,
            "grid_template_columns": null,
            "grid_template_rows": null,
            "height": null,
            "justify_content": null,
            "justify_items": null,
            "left": null,
            "margin": null,
            "max_height": null,
            "max_width": null,
            "min_height": null,
            "min_width": null,
            "object_fit": null,
            "object_position": null,
            "order": null,
            "overflow": null,
            "overflow_x": null,
            "overflow_y": null,
            "padding": null,
            "right": null,
            "top": null,
            "visibility": null,
            "width": null
          }
        },
        "e50d66d6bd5d4c389fdcdf34decb82f7": {
          "model_module": "@jupyter-widgets/base",
          "model_name": "LayoutModel",
          "model_module_version": "1.2.0",
          "state": {
            "_model_module": "@jupyter-widgets/base",
            "_model_module_version": "1.2.0",
            "_model_name": "LayoutModel",
            "_view_count": null,
            "_view_module": "@jupyter-widgets/base",
            "_view_module_version": "1.2.0",
            "_view_name": "LayoutView",
            "align_content": null,
            "align_items": null,
            "align_self": null,
            "border": null,
            "bottom": null,
            "display": null,
            "flex": null,
            "flex_flow": null,
            "grid_area": null,
            "grid_auto_columns": null,
            "grid_auto_flow": null,
            "grid_auto_rows": null,
            "grid_column": null,
            "grid_gap": null,
            "grid_row": null,
            "grid_template_areas": null,
            "grid_template_columns": null,
            "grid_template_rows": null,
            "height": null,
            "justify_content": null,
            "justify_items": null,
            "left": null,
            "margin": null,
            "max_height": null,
            "max_width": null,
            "min_height": null,
            "min_width": null,
            "object_fit": null,
            "object_position": null,
            "order": null,
            "overflow": null,
            "overflow_x": null,
            "overflow_y": null,
            "padding": null,
            "right": null,
            "top": null,
            "visibility": null,
            "width": null
          }
        },
        "75faba5408f74b87b65e0e05d5b783c2": {
          "model_module": "@jupyter-widgets/controls",
          "model_name": "DescriptionStyleModel",
          "model_module_version": "1.5.0",
          "state": {
            "_model_module": "@jupyter-widgets/controls",
            "_model_module_version": "1.5.0",
            "_model_name": "DescriptionStyleModel",
            "_view_count": null,
            "_view_module": "@jupyter-widgets/base",
            "_view_module_version": "1.2.0",
            "_view_name": "StyleView",
            "description_width": ""
          }
        },
        "1d141153da384fa6b07336f5638686da": {
          "model_module": "@jupyter-widgets/base",
          "model_name": "LayoutModel",
          "model_module_version": "1.2.0",
          "state": {
            "_model_module": "@jupyter-widgets/base",
            "_model_module_version": "1.2.0",
            "_model_name": "LayoutModel",
            "_view_count": null,
            "_view_module": "@jupyter-widgets/base",
            "_view_module_version": "1.2.0",
            "_view_name": "LayoutView",
            "align_content": null,
            "align_items": null,
            "align_self": null,
            "border": null,
            "bottom": null,
            "display": null,
            "flex": null,
            "flex_flow": null,
            "grid_area": null,
            "grid_auto_columns": null,
            "grid_auto_flow": null,
            "grid_auto_rows": null,
            "grid_column": null,
            "grid_gap": null,
            "grid_row": null,
            "grid_template_areas": null,
            "grid_template_columns": null,
            "grid_template_rows": null,
            "height": null,
            "justify_content": null,
            "justify_items": null,
            "left": null,
            "margin": null,
            "max_height": null,
            "max_width": null,
            "min_height": null,
            "min_width": null,
            "object_fit": null,
            "object_position": null,
            "order": null,
            "overflow": null,
            "overflow_x": null,
            "overflow_y": null,
            "padding": null,
            "right": null,
            "top": null,
            "visibility": null,
            "width": "20px"
          }
        },
        "7b5bed0bdbc6467c84d24d39ab939cae": {
          "model_module": "@jupyter-widgets/controls",
          "model_name": "ProgressStyleModel",
          "model_module_version": "1.5.0",
          "state": {
            "_model_module": "@jupyter-widgets/controls",
            "_model_module_version": "1.5.0",
            "_model_name": "ProgressStyleModel",
            "_view_count": null,
            "_view_module": "@jupyter-widgets/base",
            "_view_module_version": "1.2.0",
            "_view_name": "StyleView",
            "bar_color": null,
            "description_width": ""
          }
        },
        "d71ce63326184ce4a1faef102d226ea7": {
          "model_module": "@jupyter-widgets/base",
          "model_name": "LayoutModel",
          "model_module_version": "1.2.0",
          "state": {
            "_model_module": "@jupyter-widgets/base",
            "_model_module_version": "1.2.0",
            "_model_name": "LayoutModel",
            "_view_count": null,
            "_view_module": "@jupyter-widgets/base",
            "_view_module_version": "1.2.0",
            "_view_name": "LayoutView",
            "align_content": null,
            "align_items": null,
            "align_self": null,
            "border": null,
            "bottom": null,
            "display": null,
            "flex": null,
            "flex_flow": null,
            "grid_area": null,
            "grid_auto_columns": null,
            "grid_auto_flow": null,
            "grid_auto_rows": null,
            "grid_column": null,
            "grid_gap": null,
            "grid_row": null,
            "grid_template_areas": null,
            "grid_template_columns": null,
            "grid_template_rows": null,
            "height": null,
            "justify_content": null,
            "justify_items": null,
            "left": null,
            "margin": null,
            "max_height": null,
            "max_width": null,
            "min_height": null,
            "min_width": null,
            "object_fit": null,
            "object_position": null,
            "order": null,
            "overflow": null,
            "overflow_x": null,
            "overflow_y": null,
            "padding": null,
            "right": null,
            "top": null,
            "visibility": null,
            "width": null
          }
        },
        "660b1e509f3441b29de7d24496490769": {
          "model_module": "@jupyter-widgets/controls",
          "model_name": "DescriptionStyleModel",
          "model_module_version": "1.5.0",
          "state": {
            "_model_module": "@jupyter-widgets/controls",
            "_model_module_version": "1.5.0",
            "_model_name": "DescriptionStyleModel",
            "_view_count": null,
            "_view_module": "@jupyter-widgets/base",
            "_view_module_version": "1.2.0",
            "_view_name": "StyleView",
            "description_width": ""
          }
        },
        "9ba80611617948c1a9c78006cd250553": {
          "model_module": "@jupyter-widgets/controls",
          "model_name": "HBoxModel",
          "model_module_version": "1.5.0",
          "state": {
            "_dom_classes": [],
            "_model_module": "@jupyter-widgets/controls",
            "_model_module_version": "1.5.0",
            "_model_name": "HBoxModel",
            "_view_count": null,
            "_view_module": "@jupyter-widgets/controls",
            "_view_module_version": "1.5.0",
            "_view_name": "HBoxView",
            "box_style": "",
            "children": [
              "IPY_MODEL_34556a09eb6e447c9446c58a70e3279a",
              "IPY_MODEL_b181ae0639b045da86c0dacb318fef70",
              "IPY_MODEL_20a742873eb946c6924cfc123469bf52"
            ],
            "layout": "IPY_MODEL_6ea2648e6b574815a70d68b499892504"
          }
        },
        "34556a09eb6e447c9446c58a70e3279a": {
          "model_module": "@jupyter-widgets/controls",
          "model_name": "HTMLModel",
          "model_module_version": "1.5.0",
          "state": {
            "_dom_classes": [],
            "_model_module": "@jupyter-widgets/controls",
            "_model_module_version": "1.5.0",
            "_model_name": "HTMLModel",
            "_view_count": null,
            "_view_module": "@jupyter-widgets/controls",
            "_view_module_version": "1.5.0",
            "_view_name": "HTMLView",
            "description": "",
            "description_tooltip": null,
            "layout": "IPY_MODEL_6af192ed8da04b7296309e2e73693bd5",
            "placeholder": "​",
            "style": "IPY_MODEL_b3a64687133341bd80351c98a8c75035",
            "value": "Generating splits...: 100%"
          }
        },
        "b181ae0639b045da86c0dacb318fef70": {
          "model_module": "@jupyter-widgets/controls",
          "model_name": "FloatProgressModel",
          "model_module_version": "1.5.0",
          "state": {
            "_dom_classes": [],
            "_model_module": "@jupyter-widgets/controls",
            "_model_module_version": "1.5.0",
            "_model_name": "FloatProgressModel",
            "_view_count": null,
            "_view_module": "@jupyter-widgets/controls",
            "_view_module_version": "1.5.0",
            "_view_name": "ProgressView",
            "bar_style": "",
            "description": "",
            "description_tooltip": null,
            "layout": "IPY_MODEL_b8c75435dd154d4cbf976b3fd3d38b40",
            "max": 2,
            "min": 0,
            "orientation": "horizontal",
            "style": "IPY_MODEL_49bcdafeb9a24fbc92a22e3d17575405",
            "value": 2
          }
        },
        "20a742873eb946c6924cfc123469bf52": {
          "model_module": "@jupyter-widgets/controls",
          "model_name": "HTMLModel",
          "model_module_version": "1.5.0",
          "state": {
            "_dom_classes": [],
            "_model_module": "@jupyter-widgets/controls",
            "_model_module_version": "1.5.0",
            "_model_name": "HTMLModel",
            "_view_count": null,
            "_view_module": "@jupyter-widgets/controls",
            "_view_module_version": "1.5.0",
            "_view_name": "HTMLView",
            "description": "",
            "description_tooltip": null,
            "layout": "IPY_MODEL_0cbf1aee85714e56956dd48047e23ea4",
            "placeholder": "​",
            "style": "IPY_MODEL_f8c4d59878204b4591814e3983ef98a4",
            "value": " 2/2 [02:47&lt;00:00, 80.33s/ splits]"
          }
        },
        "6ea2648e6b574815a70d68b499892504": {
          "model_module": "@jupyter-widgets/base",
          "model_name": "LayoutModel",
          "model_module_version": "1.2.0",
          "state": {
            "_model_module": "@jupyter-widgets/base",
            "_model_module_version": "1.2.0",
            "_model_name": "LayoutModel",
            "_view_count": null,
            "_view_module": "@jupyter-widgets/base",
            "_view_module_version": "1.2.0",
            "_view_name": "LayoutView",
            "align_content": null,
            "align_items": null,
            "align_self": null,
            "border": null,
            "bottom": null,
            "display": null,
            "flex": null,
            "flex_flow": null,
            "grid_area": null,
            "grid_auto_columns": null,
            "grid_auto_flow": null,
            "grid_auto_rows": null,
            "grid_column": null,
            "grid_gap": null,
            "grid_row": null,
            "grid_template_areas": null,
            "grid_template_columns": null,
            "grid_template_rows": null,
            "height": null,
            "justify_content": null,
            "justify_items": null,
            "left": null,
            "margin": null,
            "max_height": null,
            "max_width": null,
            "min_height": null,
            "min_width": null,
            "object_fit": null,
            "object_position": null,
            "order": null,
            "overflow": null,
            "overflow_x": null,
            "overflow_y": null,
            "padding": null,
            "right": null,
            "top": null,
            "visibility": null,
            "width": null
          }
        },
        "6af192ed8da04b7296309e2e73693bd5": {
          "model_module": "@jupyter-widgets/base",
          "model_name": "LayoutModel",
          "model_module_version": "1.2.0",
          "state": {
            "_model_module": "@jupyter-widgets/base",
            "_model_module_version": "1.2.0",
            "_model_name": "LayoutModel",
            "_view_count": null,
            "_view_module": "@jupyter-widgets/base",
            "_view_module_version": "1.2.0",
            "_view_name": "LayoutView",
            "align_content": null,
            "align_items": null,
            "align_self": null,
            "border": null,
            "bottom": null,
            "display": null,
            "flex": null,
            "flex_flow": null,
            "grid_area": null,
            "grid_auto_columns": null,
            "grid_auto_flow": null,
            "grid_auto_rows": null,
            "grid_column": null,
            "grid_gap": null,
            "grid_row": null,
            "grid_template_areas": null,
            "grid_template_columns": null,
            "grid_template_rows": null,
            "height": null,
            "justify_content": null,
            "justify_items": null,
            "left": null,
            "margin": null,
            "max_height": null,
            "max_width": null,
            "min_height": null,
            "min_width": null,
            "object_fit": null,
            "object_position": null,
            "order": null,
            "overflow": null,
            "overflow_x": null,
            "overflow_y": null,
            "padding": null,
            "right": null,
            "top": null,
            "visibility": null,
            "width": null
          }
        },
        "b3a64687133341bd80351c98a8c75035": {
          "model_module": "@jupyter-widgets/controls",
          "model_name": "DescriptionStyleModel",
          "model_module_version": "1.5.0",
          "state": {
            "_model_module": "@jupyter-widgets/controls",
            "_model_module_version": "1.5.0",
            "_model_name": "DescriptionStyleModel",
            "_view_count": null,
            "_view_module": "@jupyter-widgets/base",
            "_view_module_version": "1.2.0",
            "_view_name": "StyleView",
            "description_width": ""
          }
        },
        "b8c75435dd154d4cbf976b3fd3d38b40": {
          "model_module": "@jupyter-widgets/base",
          "model_name": "LayoutModel",
          "model_module_version": "1.2.0",
          "state": {
            "_model_module": "@jupyter-widgets/base",
            "_model_module_version": "1.2.0",
            "_model_name": "LayoutModel",
            "_view_count": null,
            "_view_module": "@jupyter-widgets/base",
            "_view_module_version": "1.2.0",
            "_view_name": "LayoutView",
            "align_content": null,
            "align_items": null,
            "align_self": null,
            "border": null,
            "bottom": null,
            "display": null,
            "flex": null,
            "flex_flow": null,
            "grid_area": null,
            "grid_auto_columns": null,
            "grid_auto_flow": null,
            "grid_auto_rows": null,
            "grid_column": null,
            "grid_gap": null,
            "grid_row": null,
            "grid_template_areas": null,
            "grid_template_columns": null,
            "grid_template_rows": null,
            "height": null,
            "justify_content": null,
            "justify_items": null,
            "left": null,
            "margin": null,
            "max_height": null,
            "max_width": null,
            "min_height": null,
            "min_width": null,
            "object_fit": null,
            "object_position": null,
            "order": null,
            "overflow": null,
            "overflow_x": null,
            "overflow_y": null,
            "padding": null,
            "right": null,
            "top": null,
            "visibility": null,
            "width": null
          }
        },
        "49bcdafeb9a24fbc92a22e3d17575405": {
          "model_module": "@jupyter-widgets/controls",
          "model_name": "ProgressStyleModel",
          "model_module_version": "1.5.0",
          "state": {
            "_model_module": "@jupyter-widgets/controls",
            "_model_module_version": "1.5.0",
            "_model_name": "ProgressStyleModel",
            "_view_count": null,
            "_view_module": "@jupyter-widgets/base",
            "_view_module_version": "1.2.0",
            "_view_name": "StyleView",
            "bar_color": null,
            "description_width": ""
          }
        },
        "0cbf1aee85714e56956dd48047e23ea4": {
          "model_module": "@jupyter-widgets/base",
          "model_name": "LayoutModel",
          "model_module_version": "1.2.0",
          "state": {
            "_model_module": "@jupyter-widgets/base",
            "_model_module_version": "1.2.0",
            "_model_name": "LayoutModel",
            "_view_count": null,
            "_view_module": "@jupyter-widgets/base",
            "_view_module_version": "1.2.0",
            "_view_name": "LayoutView",
            "align_content": null,
            "align_items": null,
            "align_self": null,
            "border": null,
            "bottom": null,
            "display": null,
            "flex": null,
            "flex_flow": null,
            "grid_area": null,
            "grid_auto_columns": null,
            "grid_auto_flow": null,
            "grid_auto_rows": null,
            "grid_column": null,
            "grid_gap": null,
            "grid_row": null,
            "grid_template_areas": null,
            "grid_template_columns": null,
            "grid_template_rows": null,
            "height": null,
            "justify_content": null,
            "justify_items": null,
            "left": null,
            "margin": null,
            "max_height": null,
            "max_width": null,
            "min_height": null,
            "min_width": null,
            "object_fit": null,
            "object_position": null,
            "order": null,
            "overflow": null,
            "overflow_x": null,
            "overflow_y": null,
            "padding": null,
            "right": null,
            "top": null,
            "visibility": null,
            "width": null
          }
        },
        "f8c4d59878204b4591814e3983ef98a4": {
          "model_module": "@jupyter-widgets/controls",
          "model_name": "DescriptionStyleModel",
          "model_module_version": "1.5.0",
          "state": {
            "_model_module": "@jupyter-widgets/controls",
            "_model_module_version": "1.5.0",
            "_model_name": "DescriptionStyleModel",
            "_view_count": null,
            "_view_module": "@jupyter-widgets/base",
            "_view_module_version": "1.2.0",
            "_view_name": "StyleView",
            "description_width": ""
          }
        },
        "61436093df0d4fa18e2a4823390d2987": {
          "model_module": "@jupyter-widgets/controls",
          "model_name": "HBoxModel",
          "model_module_version": "1.5.0",
          "state": {
            "_dom_classes": [],
            "_model_module": "@jupyter-widgets/controls",
            "_model_module_version": "1.5.0",
            "_model_name": "HBoxModel",
            "_view_count": null,
            "_view_module": "@jupyter-widgets/controls",
            "_view_module_version": "1.5.0",
            "_view_name": "HBoxView",
            "box_style": "",
            "children": [
              "IPY_MODEL_fb8b7a7a04c84338b97e6a3cf7a89344",
              "IPY_MODEL_7adaf2c65aa74b4c8c144ff0c1b32cc9",
              "IPY_MODEL_3676594149974c088952b9127fbb3cc8"
            ],
            "layout": "IPY_MODEL_1b42122be93f40b6b00d3d63becd835b"
          }
        },
        "fb8b7a7a04c84338b97e6a3cf7a89344": {
          "model_module": "@jupyter-widgets/controls",
          "model_name": "HTMLModel",
          "model_module_version": "1.5.0",
          "state": {
            "_dom_classes": [],
            "_model_module": "@jupyter-widgets/controls",
            "_model_module_version": "1.5.0",
            "_model_name": "HTMLModel",
            "_view_count": null,
            "_view_module": "@jupyter-widgets/controls",
            "_view_module_version": "1.5.0",
            "_view_name": "HTMLView",
            "description": "",
            "description_tooltip": null,
            "layout": "IPY_MODEL_b95092934caf4528aaa04c3f68ba2134",
            "placeholder": "​",
            "style": "IPY_MODEL_106ca529461944e293934a043239668b",
            "value": "Generating train examples...: 100%"
          }
        },
        "7adaf2c65aa74b4c8c144ff0c1b32cc9": {
          "model_module": "@jupyter-widgets/controls",
          "model_name": "FloatProgressModel",
          "model_module_version": "1.5.0",
          "state": {
            "_dom_classes": [],
            "_model_module": "@jupyter-widgets/controls",
            "_model_module_version": "1.5.0",
            "_model_name": "FloatProgressModel",
            "_view_count": null,
            "_view_module": "@jupyter-widgets/controls",
            "_view_module_version": "1.5.0",
            "_view_name": "ProgressView",
            "bar_style": "",
            "description": "",
            "description_tooltip": null,
            "layout": "IPY_MODEL_2c23cfe2c87b46ea89f70a0b420cdc3e",
            "max": 75750,
            "min": 0,
            "orientation": "horizontal",
            "style": "IPY_MODEL_298f11a973304d5babbed4d10bcbe891",
            "value": 75750
          }
        },
        "3676594149974c088952b9127fbb3cc8": {
          "model_module": "@jupyter-widgets/controls",
          "model_name": "HTMLModel",
          "model_module_version": "1.5.0",
          "state": {
            "_dom_classes": [],
            "_model_module": "@jupyter-widgets/controls",
            "_model_module_version": "1.5.0",
            "_model_name": "HTMLModel",
            "_view_count": null,
            "_view_module": "@jupyter-widgets/controls",
            "_view_module_version": "1.5.0",
            "_view_name": "HTMLView",
            "description": "",
            "description_tooltip": null,
            "layout": "IPY_MODEL_8f0599aacf5647f8ad94609f94af0896",
            "placeholder": "​",
            "style": "IPY_MODEL_a163d087b670436498a0808d1389f26d",
            "value": " 75712/75750 [01:14&lt;00:00, 810.98 examples/s]"
          }
        },
        "1b42122be93f40b6b00d3d63becd835b": {
          "model_module": "@jupyter-widgets/base",
          "model_name": "LayoutModel",
          "model_module_version": "1.2.0",
          "state": {
            "_model_module": "@jupyter-widgets/base",
            "_model_module_version": "1.2.0",
            "_model_name": "LayoutModel",
            "_view_count": null,
            "_view_module": "@jupyter-widgets/base",
            "_view_module_version": "1.2.0",
            "_view_name": "LayoutView",
            "align_content": null,
            "align_items": null,
            "align_self": null,
            "border": null,
            "bottom": null,
            "display": null,
            "flex": null,
            "flex_flow": null,
            "grid_area": null,
            "grid_auto_columns": null,
            "grid_auto_flow": null,
            "grid_auto_rows": null,
            "grid_column": null,
            "grid_gap": null,
            "grid_row": null,
            "grid_template_areas": null,
            "grid_template_columns": null,
            "grid_template_rows": null,
            "height": null,
            "justify_content": null,
            "justify_items": null,
            "left": null,
            "margin": null,
            "max_height": null,
            "max_width": null,
            "min_height": null,
            "min_width": null,
            "object_fit": null,
            "object_position": null,
            "order": null,
            "overflow": null,
            "overflow_x": null,
            "overflow_y": null,
            "padding": null,
            "right": null,
            "top": null,
            "visibility": null,
            "width": null
          }
        },
        "b95092934caf4528aaa04c3f68ba2134": {
          "model_module": "@jupyter-widgets/base",
          "model_name": "LayoutModel",
          "model_module_version": "1.2.0",
          "state": {
            "_model_module": "@jupyter-widgets/base",
            "_model_module_version": "1.2.0",
            "_model_name": "LayoutModel",
            "_view_count": null,
            "_view_module": "@jupyter-widgets/base",
            "_view_module_version": "1.2.0",
            "_view_name": "LayoutView",
            "align_content": null,
            "align_items": null,
            "align_self": null,
            "border": null,
            "bottom": null,
            "display": null,
            "flex": null,
            "flex_flow": null,
            "grid_area": null,
            "grid_auto_columns": null,
            "grid_auto_flow": null,
            "grid_auto_rows": null,
            "grid_column": null,
            "grid_gap": null,
            "grid_row": null,
            "grid_template_areas": null,
            "grid_template_columns": null,
            "grid_template_rows": null,
            "height": null,
            "justify_content": null,
            "justify_items": null,
            "left": null,
            "margin": null,
            "max_height": null,
            "max_width": null,
            "min_height": null,
            "min_width": null,
            "object_fit": null,
            "object_position": null,
            "order": null,
            "overflow": null,
            "overflow_x": null,
            "overflow_y": null,
            "padding": null,
            "right": null,
            "top": null,
            "visibility": null,
            "width": null
          }
        },
        "106ca529461944e293934a043239668b": {
          "model_module": "@jupyter-widgets/controls",
          "model_name": "DescriptionStyleModel",
          "model_module_version": "1.5.0",
          "state": {
            "_model_module": "@jupyter-widgets/controls",
            "_model_module_version": "1.5.0",
            "_model_name": "DescriptionStyleModel",
            "_view_count": null,
            "_view_module": "@jupyter-widgets/base",
            "_view_module_version": "1.2.0",
            "_view_name": "StyleView",
            "description_width": ""
          }
        },
        "2c23cfe2c87b46ea89f70a0b420cdc3e": {
          "model_module": "@jupyter-widgets/base",
          "model_name": "LayoutModel",
          "model_module_version": "1.2.0",
          "state": {
            "_model_module": "@jupyter-widgets/base",
            "_model_module_version": "1.2.0",
            "_model_name": "LayoutModel",
            "_view_count": null,
            "_view_module": "@jupyter-widgets/base",
            "_view_module_version": "1.2.0",
            "_view_name": "LayoutView",
            "align_content": null,
            "align_items": null,
            "align_self": null,
            "border": null,
            "bottom": null,
            "display": null,
            "flex": null,
            "flex_flow": null,
            "grid_area": null,
            "grid_auto_columns": null,
            "grid_auto_flow": null,
            "grid_auto_rows": null,
            "grid_column": null,
            "grid_gap": null,
            "grid_row": null,
            "grid_template_areas": null,
            "grid_template_columns": null,
            "grid_template_rows": null,
            "height": null,
            "justify_content": null,
            "justify_items": null,
            "left": null,
            "margin": null,
            "max_height": null,
            "max_width": null,
            "min_height": null,
            "min_width": null,
            "object_fit": null,
            "object_position": null,
            "order": null,
            "overflow": null,
            "overflow_x": null,
            "overflow_y": null,
            "padding": null,
            "right": null,
            "top": null,
            "visibility": null,
            "width": null
          }
        },
        "298f11a973304d5babbed4d10bcbe891": {
          "model_module": "@jupyter-widgets/controls",
          "model_name": "ProgressStyleModel",
          "model_module_version": "1.5.0",
          "state": {
            "_model_module": "@jupyter-widgets/controls",
            "_model_module_version": "1.5.0",
            "_model_name": "ProgressStyleModel",
            "_view_count": null,
            "_view_module": "@jupyter-widgets/base",
            "_view_module_version": "1.2.0",
            "_view_name": "StyleView",
            "bar_color": null,
            "description_width": ""
          }
        },
        "8f0599aacf5647f8ad94609f94af0896": {
          "model_module": "@jupyter-widgets/base",
          "model_name": "LayoutModel",
          "model_module_version": "1.2.0",
          "state": {
            "_model_module": "@jupyter-widgets/base",
            "_model_module_version": "1.2.0",
            "_model_name": "LayoutModel",
            "_view_count": null,
            "_view_module": "@jupyter-widgets/base",
            "_view_module_version": "1.2.0",
            "_view_name": "LayoutView",
            "align_content": null,
            "align_items": null,
            "align_self": null,
            "border": null,
            "bottom": null,
            "display": null,
            "flex": null,
            "flex_flow": null,
            "grid_area": null,
            "grid_auto_columns": null,
            "grid_auto_flow": null,
            "grid_auto_rows": null,
            "grid_column": null,
            "grid_gap": null,
            "grid_row": null,
            "grid_template_areas": null,
            "grid_template_columns": null,
            "grid_template_rows": null,
            "height": null,
            "justify_content": null,
            "justify_items": null,
            "left": null,
            "margin": null,
            "max_height": null,
            "max_width": null,
            "min_height": null,
            "min_width": null,
            "object_fit": null,
            "object_position": null,
            "order": null,
            "overflow": null,
            "overflow_x": null,
            "overflow_y": null,
            "padding": null,
            "right": null,
            "top": null,
            "visibility": null,
            "width": null
          }
        },
        "a163d087b670436498a0808d1389f26d": {
          "model_module": "@jupyter-widgets/controls",
          "model_name": "DescriptionStyleModel",
          "model_module_version": "1.5.0",
          "state": {
            "_model_module": "@jupyter-widgets/controls",
            "_model_module_version": "1.5.0",
            "_model_name": "DescriptionStyleModel",
            "_view_count": null,
            "_view_module": "@jupyter-widgets/base",
            "_view_module_version": "1.2.0",
            "_view_name": "StyleView",
            "description_width": ""
          }
        },
        "6117847b8b20465ca292ea3cdf7eae46": {
          "model_module": "@jupyter-widgets/controls",
          "model_name": "HBoxModel",
          "model_module_version": "1.5.0",
          "state": {
            "_dom_classes": [],
            "_model_module": "@jupyter-widgets/controls",
            "_model_module_version": "1.5.0",
            "_model_name": "HBoxModel",
            "_view_count": null,
            "_view_module": "@jupyter-widgets/controls",
            "_view_module_version": "1.5.0",
            "_view_name": "HBoxView",
            "box_style": "",
            "children": [
              "IPY_MODEL_ab95c0e256ed407bb14aeb66ca01d2d7",
              "IPY_MODEL_3e6e576864bd4dbc89b38292049d08fe",
              "IPY_MODEL_0d803c780e4e45718fbcc2f3cd021145"
            ],
            "layout": "IPY_MODEL_1583503d246c4ffebb284780147008bb"
          }
        },
        "ab95c0e256ed407bb14aeb66ca01d2d7": {
          "model_module": "@jupyter-widgets/controls",
          "model_name": "HTMLModel",
          "model_module_version": "1.5.0",
          "state": {
            "_dom_classes": [],
            "_model_module": "@jupyter-widgets/controls",
            "_model_module_version": "1.5.0",
            "_model_name": "HTMLModel",
            "_view_count": null,
            "_view_module": "@jupyter-widgets/controls",
            "_view_module_version": "1.5.0",
            "_view_name": "HTMLView",
            "description": "",
            "description_tooltip": null,
            "layout": "IPY_MODEL_56b9885f882643f5a3b2fd446902afec",
            "placeholder": "​",
            "style": "IPY_MODEL_93e9e0d97ba444738699b8959ff673e3",
            "value": "Shuffling ~/tensorflow_datasets/food101/2.0.0.incompleteBOYPUT/food101-train.tfrecord*...: 100%"
          }
        },
        "3e6e576864bd4dbc89b38292049d08fe": {
          "model_module": "@jupyter-widgets/controls",
          "model_name": "FloatProgressModel",
          "model_module_version": "1.5.0",
          "state": {
            "_dom_classes": [],
            "_model_module": "@jupyter-widgets/controls",
            "_model_module_version": "1.5.0",
            "_model_name": "FloatProgressModel",
            "_view_count": null,
            "_view_module": "@jupyter-widgets/controls",
            "_view_module_version": "1.5.0",
            "_view_name": "ProgressView",
            "bar_style": "",
            "description": "",
            "description_tooltip": null,
            "layout": "IPY_MODEL_cadec80c41b5431abd012cc4243d036a",
            "max": 75750,
            "min": 0,
            "orientation": "horizontal",
            "style": "IPY_MODEL_b5b95cd3aade45ca92837d8c4e97557c",
            "value": 75750
          }
        },
        "0d803c780e4e45718fbcc2f3cd021145": {
          "model_module": "@jupyter-widgets/controls",
          "model_name": "HTMLModel",
          "model_module_version": "1.5.0",
          "state": {
            "_dom_classes": [],
            "_model_module": "@jupyter-widgets/controls",
            "_model_module_version": "1.5.0",
            "_model_name": "HTMLModel",
            "_view_count": null,
            "_view_module": "@jupyter-widgets/controls",
            "_view_module_version": "1.5.0",
            "_view_name": "HTMLView",
            "description": "",
            "description_tooltip": null,
            "layout": "IPY_MODEL_8d7140f203ba43b297fc98e809095a5c",
            "placeholder": "​",
            "style": "IPY_MODEL_8bf876ec50f74defac1818e118cdda1d",
            "value": " 75680/75750 [00:28&lt;00:00, 2513.72 examples/s]"
          }
        },
        "1583503d246c4ffebb284780147008bb": {
          "model_module": "@jupyter-widgets/base",
          "model_name": "LayoutModel",
          "model_module_version": "1.2.0",
          "state": {
            "_model_module": "@jupyter-widgets/base",
            "_model_module_version": "1.2.0",
            "_model_name": "LayoutModel",
            "_view_count": null,
            "_view_module": "@jupyter-widgets/base",
            "_view_module_version": "1.2.0",
            "_view_name": "LayoutView",
            "align_content": null,
            "align_items": null,
            "align_self": null,
            "border": null,
            "bottom": null,
            "display": null,
            "flex": null,
            "flex_flow": null,
            "grid_area": null,
            "grid_auto_columns": null,
            "grid_auto_flow": null,
            "grid_auto_rows": null,
            "grid_column": null,
            "grid_gap": null,
            "grid_row": null,
            "grid_template_areas": null,
            "grid_template_columns": null,
            "grid_template_rows": null,
            "height": null,
            "justify_content": null,
            "justify_items": null,
            "left": null,
            "margin": null,
            "max_height": null,
            "max_width": null,
            "min_height": null,
            "min_width": null,
            "object_fit": null,
            "object_position": null,
            "order": null,
            "overflow": null,
            "overflow_x": null,
            "overflow_y": null,
            "padding": null,
            "right": null,
            "top": null,
            "visibility": null,
            "width": null
          }
        },
        "56b9885f882643f5a3b2fd446902afec": {
          "model_module": "@jupyter-widgets/base",
          "model_name": "LayoutModel",
          "model_module_version": "1.2.0",
          "state": {
            "_model_module": "@jupyter-widgets/base",
            "_model_module_version": "1.2.0",
            "_model_name": "LayoutModel",
            "_view_count": null,
            "_view_module": "@jupyter-widgets/base",
            "_view_module_version": "1.2.0",
            "_view_name": "LayoutView",
            "align_content": null,
            "align_items": null,
            "align_self": null,
            "border": null,
            "bottom": null,
            "display": null,
            "flex": null,
            "flex_flow": null,
            "grid_area": null,
            "grid_auto_columns": null,
            "grid_auto_flow": null,
            "grid_auto_rows": null,
            "grid_column": null,
            "grid_gap": null,
            "grid_row": null,
            "grid_template_areas": null,
            "grid_template_columns": null,
            "grid_template_rows": null,
            "height": null,
            "justify_content": null,
            "justify_items": null,
            "left": null,
            "margin": null,
            "max_height": null,
            "max_width": null,
            "min_height": null,
            "min_width": null,
            "object_fit": null,
            "object_position": null,
            "order": null,
            "overflow": null,
            "overflow_x": null,
            "overflow_y": null,
            "padding": null,
            "right": null,
            "top": null,
            "visibility": null,
            "width": null
          }
        },
        "93e9e0d97ba444738699b8959ff673e3": {
          "model_module": "@jupyter-widgets/controls",
          "model_name": "DescriptionStyleModel",
          "model_module_version": "1.5.0",
          "state": {
            "_model_module": "@jupyter-widgets/controls",
            "_model_module_version": "1.5.0",
            "_model_name": "DescriptionStyleModel",
            "_view_count": null,
            "_view_module": "@jupyter-widgets/base",
            "_view_module_version": "1.2.0",
            "_view_name": "StyleView",
            "description_width": ""
          }
        },
        "cadec80c41b5431abd012cc4243d036a": {
          "model_module": "@jupyter-widgets/base",
          "model_name": "LayoutModel",
          "model_module_version": "1.2.0",
          "state": {
            "_model_module": "@jupyter-widgets/base",
            "_model_module_version": "1.2.0",
            "_model_name": "LayoutModel",
            "_view_count": null,
            "_view_module": "@jupyter-widgets/base",
            "_view_module_version": "1.2.0",
            "_view_name": "LayoutView",
            "align_content": null,
            "align_items": null,
            "align_self": null,
            "border": null,
            "bottom": null,
            "display": null,
            "flex": null,
            "flex_flow": null,
            "grid_area": null,
            "grid_auto_columns": null,
            "grid_auto_flow": null,
            "grid_auto_rows": null,
            "grid_column": null,
            "grid_gap": null,
            "grid_row": null,
            "grid_template_areas": null,
            "grid_template_columns": null,
            "grid_template_rows": null,
            "height": null,
            "justify_content": null,
            "justify_items": null,
            "left": null,
            "margin": null,
            "max_height": null,
            "max_width": null,
            "min_height": null,
            "min_width": null,
            "object_fit": null,
            "object_position": null,
            "order": null,
            "overflow": null,
            "overflow_x": null,
            "overflow_y": null,
            "padding": null,
            "right": null,
            "top": null,
            "visibility": null,
            "width": null
          }
        },
        "b5b95cd3aade45ca92837d8c4e97557c": {
          "model_module": "@jupyter-widgets/controls",
          "model_name": "ProgressStyleModel",
          "model_module_version": "1.5.0",
          "state": {
            "_model_module": "@jupyter-widgets/controls",
            "_model_module_version": "1.5.0",
            "_model_name": "ProgressStyleModel",
            "_view_count": null,
            "_view_module": "@jupyter-widgets/base",
            "_view_module_version": "1.2.0",
            "_view_name": "StyleView",
            "bar_color": null,
            "description_width": ""
          }
        },
        "8d7140f203ba43b297fc98e809095a5c": {
          "model_module": "@jupyter-widgets/base",
          "model_name": "LayoutModel",
          "model_module_version": "1.2.0",
          "state": {
            "_model_module": "@jupyter-widgets/base",
            "_model_module_version": "1.2.0",
            "_model_name": "LayoutModel",
            "_view_count": null,
            "_view_module": "@jupyter-widgets/base",
            "_view_module_version": "1.2.0",
            "_view_name": "LayoutView",
            "align_content": null,
            "align_items": null,
            "align_self": null,
            "border": null,
            "bottom": null,
            "display": null,
            "flex": null,
            "flex_flow": null,
            "grid_area": null,
            "grid_auto_columns": null,
            "grid_auto_flow": null,
            "grid_auto_rows": null,
            "grid_column": null,
            "grid_gap": null,
            "grid_row": null,
            "grid_template_areas": null,
            "grid_template_columns": null,
            "grid_template_rows": null,
            "height": null,
            "justify_content": null,
            "justify_items": null,
            "left": null,
            "margin": null,
            "max_height": null,
            "max_width": null,
            "min_height": null,
            "min_width": null,
            "object_fit": null,
            "object_position": null,
            "order": null,
            "overflow": null,
            "overflow_x": null,
            "overflow_y": null,
            "padding": null,
            "right": null,
            "top": null,
            "visibility": null,
            "width": null
          }
        },
        "8bf876ec50f74defac1818e118cdda1d": {
          "model_module": "@jupyter-widgets/controls",
          "model_name": "DescriptionStyleModel",
          "model_module_version": "1.5.0",
          "state": {
            "_model_module": "@jupyter-widgets/controls",
            "_model_module_version": "1.5.0",
            "_model_name": "DescriptionStyleModel",
            "_view_count": null,
            "_view_module": "@jupyter-widgets/base",
            "_view_module_version": "1.2.0",
            "_view_name": "StyleView",
            "description_width": ""
          }
        },
        "64f19f25a8394d06a105a2db79428ea7": {
          "model_module": "@jupyter-widgets/controls",
          "model_name": "HBoxModel",
          "model_module_version": "1.5.0",
          "state": {
            "_dom_classes": [],
            "_model_module": "@jupyter-widgets/controls",
            "_model_module_version": "1.5.0",
            "_model_name": "HBoxModel",
            "_view_count": null,
            "_view_module": "@jupyter-widgets/controls",
            "_view_module_version": "1.5.0",
            "_view_name": "HBoxView",
            "box_style": "",
            "children": [
              "IPY_MODEL_40895977f5c1423c826fcca4d3f20182",
              "IPY_MODEL_04e951bfc0f849179a8fabafeff9823e",
              "IPY_MODEL_3bb0e0bbb6aa4851a4af7fd22800018d"
            ],
            "layout": "IPY_MODEL_76d9b291a4d142408b9d618a656d89ed"
          }
        },
        "40895977f5c1423c826fcca4d3f20182": {
          "model_module": "@jupyter-widgets/controls",
          "model_name": "HTMLModel",
          "model_module_version": "1.5.0",
          "state": {
            "_dom_classes": [],
            "_model_module": "@jupyter-widgets/controls",
            "_model_module_version": "1.5.0",
            "_model_name": "HTMLModel",
            "_view_count": null,
            "_view_module": "@jupyter-widgets/controls",
            "_view_module_version": "1.5.0",
            "_view_name": "HTMLView",
            "description": "",
            "description_tooltip": null,
            "layout": "IPY_MODEL_376a3179d3c648f9837ef9cbac9e35bf",
            "placeholder": "​",
            "style": "IPY_MODEL_4fe8337464c646fe94d8d3096dc50a0b",
            "value": "Generating validation examples...: 100%"
          }
        },
        "04e951bfc0f849179a8fabafeff9823e": {
          "model_module": "@jupyter-widgets/controls",
          "model_name": "FloatProgressModel",
          "model_module_version": "1.5.0",
          "state": {
            "_dom_classes": [],
            "_model_module": "@jupyter-widgets/controls",
            "_model_module_version": "1.5.0",
            "_model_name": "FloatProgressModel",
            "_view_count": null,
            "_view_module": "@jupyter-widgets/controls",
            "_view_module_version": "1.5.0",
            "_view_name": "ProgressView",
            "bar_style": "",
            "description": "",
            "description_tooltip": null,
            "layout": "IPY_MODEL_90addf26d4e24d1981947cf7296778b8",
            "max": 25250,
            "min": 0,
            "orientation": "horizontal",
            "style": "IPY_MODEL_8b46c61a91594880acd179a9eff160e7",
            "value": 25250
          }
        },
        "3bb0e0bbb6aa4851a4af7fd22800018d": {
          "model_module": "@jupyter-widgets/controls",
          "model_name": "HTMLModel",
          "model_module_version": "1.5.0",
          "state": {
            "_dom_classes": [],
            "_model_module": "@jupyter-widgets/controls",
            "_model_module_version": "1.5.0",
            "_model_name": "HTMLModel",
            "_view_count": null,
            "_view_module": "@jupyter-widgets/controls",
            "_view_module_version": "1.5.0",
            "_view_name": "HTMLView",
            "description": "",
            "description_tooltip": null,
            "layout": "IPY_MODEL_b0d1dc45fe344ae0b0a3fca44f215e82",
            "placeholder": "​",
            "style": "IPY_MODEL_8572a4b59b8643b18dbd00ab89e4d699",
            "value": " 25198/25250 [00:59&lt;00:00, 464.77 examples/s]"
          }
        },
        "76d9b291a4d142408b9d618a656d89ed": {
          "model_module": "@jupyter-widgets/base",
          "model_name": "LayoutModel",
          "model_module_version": "1.2.0",
          "state": {
            "_model_module": "@jupyter-widgets/base",
            "_model_module_version": "1.2.0",
            "_model_name": "LayoutModel",
            "_view_count": null,
            "_view_module": "@jupyter-widgets/base",
            "_view_module_version": "1.2.0",
            "_view_name": "LayoutView",
            "align_content": null,
            "align_items": null,
            "align_self": null,
            "border": null,
            "bottom": null,
            "display": null,
            "flex": null,
            "flex_flow": null,
            "grid_area": null,
            "grid_auto_columns": null,
            "grid_auto_flow": null,
            "grid_auto_rows": null,
            "grid_column": null,
            "grid_gap": null,
            "grid_row": null,
            "grid_template_areas": null,
            "grid_template_columns": null,
            "grid_template_rows": null,
            "height": null,
            "justify_content": null,
            "justify_items": null,
            "left": null,
            "margin": null,
            "max_height": null,
            "max_width": null,
            "min_height": null,
            "min_width": null,
            "object_fit": null,
            "object_position": null,
            "order": null,
            "overflow": null,
            "overflow_x": null,
            "overflow_y": null,
            "padding": null,
            "right": null,
            "top": null,
            "visibility": null,
            "width": null
          }
        },
        "376a3179d3c648f9837ef9cbac9e35bf": {
          "model_module": "@jupyter-widgets/base",
          "model_name": "LayoutModel",
          "model_module_version": "1.2.0",
          "state": {
            "_model_module": "@jupyter-widgets/base",
            "_model_module_version": "1.2.0",
            "_model_name": "LayoutModel",
            "_view_count": null,
            "_view_module": "@jupyter-widgets/base",
            "_view_module_version": "1.2.0",
            "_view_name": "LayoutView",
            "align_content": null,
            "align_items": null,
            "align_self": null,
            "border": null,
            "bottom": null,
            "display": null,
            "flex": null,
            "flex_flow": null,
            "grid_area": null,
            "grid_auto_columns": null,
            "grid_auto_flow": null,
            "grid_auto_rows": null,
            "grid_column": null,
            "grid_gap": null,
            "grid_row": null,
            "grid_template_areas": null,
            "grid_template_columns": null,
            "grid_template_rows": null,
            "height": null,
            "justify_content": null,
            "justify_items": null,
            "left": null,
            "margin": null,
            "max_height": null,
            "max_width": null,
            "min_height": null,
            "min_width": null,
            "object_fit": null,
            "object_position": null,
            "order": null,
            "overflow": null,
            "overflow_x": null,
            "overflow_y": null,
            "padding": null,
            "right": null,
            "top": null,
            "visibility": null,
            "width": null
          }
        },
        "4fe8337464c646fe94d8d3096dc50a0b": {
          "model_module": "@jupyter-widgets/controls",
          "model_name": "DescriptionStyleModel",
          "model_module_version": "1.5.0",
          "state": {
            "_model_module": "@jupyter-widgets/controls",
            "_model_module_version": "1.5.0",
            "_model_name": "DescriptionStyleModel",
            "_view_count": null,
            "_view_module": "@jupyter-widgets/base",
            "_view_module_version": "1.2.0",
            "_view_name": "StyleView",
            "description_width": ""
          }
        },
        "90addf26d4e24d1981947cf7296778b8": {
          "model_module": "@jupyter-widgets/base",
          "model_name": "LayoutModel",
          "model_module_version": "1.2.0",
          "state": {
            "_model_module": "@jupyter-widgets/base",
            "_model_module_version": "1.2.0",
            "_model_name": "LayoutModel",
            "_view_count": null,
            "_view_module": "@jupyter-widgets/base",
            "_view_module_version": "1.2.0",
            "_view_name": "LayoutView",
            "align_content": null,
            "align_items": null,
            "align_self": null,
            "border": null,
            "bottom": null,
            "display": null,
            "flex": null,
            "flex_flow": null,
            "grid_area": null,
            "grid_auto_columns": null,
            "grid_auto_flow": null,
            "grid_auto_rows": null,
            "grid_column": null,
            "grid_gap": null,
            "grid_row": null,
            "grid_template_areas": null,
            "grid_template_columns": null,
            "grid_template_rows": null,
            "height": null,
            "justify_content": null,
            "justify_items": null,
            "left": null,
            "margin": null,
            "max_height": null,
            "max_width": null,
            "min_height": null,
            "min_width": null,
            "object_fit": null,
            "object_position": null,
            "order": null,
            "overflow": null,
            "overflow_x": null,
            "overflow_y": null,
            "padding": null,
            "right": null,
            "top": null,
            "visibility": null,
            "width": null
          }
        },
        "8b46c61a91594880acd179a9eff160e7": {
          "model_module": "@jupyter-widgets/controls",
          "model_name": "ProgressStyleModel",
          "model_module_version": "1.5.0",
          "state": {
            "_model_module": "@jupyter-widgets/controls",
            "_model_module_version": "1.5.0",
            "_model_name": "ProgressStyleModel",
            "_view_count": null,
            "_view_module": "@jupyter-widgets/base",
            "_view_module_version": "1.2.0",
            "_view_name": "StyleView",
            "bar_color": null,
            "description_width": ""
          }
        },
        "b0d1dc45fe344ae0b0a3fca44f215e82": {
          "model_module": "@jupyter-widgets/base",
          "model_name": "LayoutModel",
          "model_module_version": "1.2.0",
          "state": {
            "_model_module": "@jupyter-widgets/base",
            "_model_module_version": "1.2.0",
            "_model_name": "LayoutModel",
            "_view_count": null,
            "_view_module": "@jupyter-widgets/base",
            "_view_module_version": "1.2.0",
            "_view_name": "LayoutView",
            "align_content": null,
            "align_items": null,
            "align_self": null,
            "border": null,
            "bottom": null,
            "display": null,
            "flex": null,
            "flex_flow": null,
            "grid_area": null,
            "grid_auto_columns": null,
            "grid_auto_flow": null,
            "grid_auto_rows": null,
            "grid_column": null,
            "grid_gap": null,
            "grid_row": null,
            "grid_template_areas": null,
            "grid_template_columns": null,
            "grid_template_rows": null,
            "height": null,
            "justify_content": null,
            "justify_items": null,
            "left": null,
            "margin": null,
            "max_height": null,
            "max_width": null,
            "min_height": null,
            "min_width": null,
            "object_fit": null,
            "object_position": null,
            "order": null,
            "overflow": null,
            "overflow_x": null,
            "overflow_y": null,
            "padding": null,
            "right": null,
            "top": null,
            "visibility": null,
            "width": null
          }
        },
        "8572a4b59b8643b18dbd00ab89e4d699": {
          "model_module": "@jupyter-widgets/controls",
          "model_name": "DescriptionStyleModel",
          "model_module_version": "1.5.0",
          "state": {
            "_model_module": "@jupyter-widgets/controls",
            "_model_module_version": "1.5.0",
            "_model_name": "DescriptionStyleModel",
            "_view_count": null,
            "_view_module": "@jupyter-widgets/base",
            "_view_module_version": "1.2.0",
            "_view_name": "StyleView",
            "description_width": ""
          }
        },
        "cae5193b36b04dc4a24697bb09be4e66": {
          "model_module": "@jupyter-widgets/controls",
          "model_name": "HBoxModel",
          "model_module_version": "1.5.0",
          "state": {
            "_dom_classes": [],
            "_model_module": "@jupyter-widgets/controls",
            "_model_module_version": "1.5.0",
            "_model_name": "HBoxModel",
            "_view_count": null,
            "_view_module": "@jupyter-widgets/controls",
            "_view_module_version": "1.5.0",
            "_view_name": "HBoxView",
            "box_style": "",
            "children": [
              "IPY_MODEL_21d587ef7c5c478787288be7bac667dd",
              "IPY_MODEL_3aeb84669f904faeb9b45d43d01047b1",
              "IPY_MODEL_cefb4212d84740fb9f4baa2d4f5c2d50"
            ],
            "layout": "IPY_MODEL_fc0fde329af44a80b4cd13d1de9368ba"
          }
        },
        "21d587ef7c5c478787288be7bac667dd": {
          "model_module": "@jupyter-widgets/controls",
          "model_name": "HTMLModel",
          "model_module_version": "1.5.0",
          "state": {
            "_dom_classes": [],
            "_model_module": "@jupyter-widgets/controls",
            "_model_module_version": "1.5.0",
            "_model_name": "HTMLModel",
            "_view_count": null,
            "_view_module": "@jupyter-widgets/controls",
            "_view_module_version": "1.5.0",
            "_view_name": "HTMLView",
            "description": "",
            "description_tooltip": null,
            "layout": "IPY_MODEL_8fad5d1e36f14329a912f3bd2528f885",
            "placeholder": "​",
            "style": "IPY_MODEL_0100ee510c4e4c3b98b4a12aff844b97",
            "value": "Shuffling ~/tensorflow_datasets/food101/2.0.0.incompleteBOYPUT/food101-validation.tfrecord*...:  98%"
          }
        },
        "3aeb84669f904faeb9b45d43d01047b1": {
          "model_module": "@jupyter-widgets/controls",
          "model_name": "FloatProgressModel",
          "model_module_version": "1.5.0",
          "state": {
            "_dom_classes": [],
            "_model_module": "@jupyter-widgets/controls",
            "_model_module_version": "1.5.0",
            "_model_name": "FloatProgressModel",
            "_view_count": null,
            "_view_module": "@jupyter-widgets/controls",
            "_view_module_version": "1.5.0",
            "_view_name": "ProgressView",
            "bar_style": "",
            "description": "",
            "description_tooltip": null,
            "layout": "IPY_MODEL_44d7b931c75645eeae8e7a4900f1e81e",
            "max": 25250,
            "min": 0,
            "orientation": "horizontal",
            "style": "IPY_MODEL_6d0deff69a0c48d8b0188bed9a168173",
            "value": 25250
          }
        },
        "cefb4212d84740fb9f4baa2d4f5c2d50": {
          "model_module": "@jupyter-widgets/controls",
          "model_name": "HTMLModel",
          "model_module_version": "1.5.0",
          "state": {
            "_dom_classes": [],
            "_model_module": "@jupyter-widgets/controls",
            "_model_module_version": "1.5.0",
            "_model_name": "HTMLModel",
            "_view_count": null,
            "_view_module": "@jupyter-widgets/controls",
            "_view_module_version": "1.5.0",
            "_view_name": "HTMLView",
            "description": "",
            "description_tooltip": null,
            "layout": "IPY_MODEL_c6bad15cbffc4cacb9756ace4dd55c91",
            "placeholder": "​",
            "style": "IPY_MODEL_b8e7b2ad0bef4fb483a0c9e90e8bb744",
            "value": " 24658/25250 [00:04&lt;00:00, 4941.71 examples/s]"
          }
        },
        "fc0fde329af44a80b4cd13d1de9368ba": {
          "model_module": "@jupyter-widgets/base",
          "model_name": "LayoutModel",
          "model_module_version": "1.2.0",
          "state": {
            "_model_module": "@jupyter-widgets/base",
            "_model_module_version": "1.2.0",
            "_model_name": "LayoutModel",
            "_view_count": null,
            "_view_module": "@jupyter-widgets/base",
            "_view_module_version": "1.2.0",
            "_view_name": "LayoutView",
            "align_content": null,
            "align_items": null,
            "align_self": null,
            "border": null,
            "bottom": null,
            "display": null,
            "flex": null,
            "flex_flow": null,
            "grid_area": null,
            "grid_auto_columns": null,
            "grid_auto_flow": null,
            "grid_auto_rows": null,
            "grid_column": null,
            "grid_gap": null,
            "grid_row": null,
            "grid_template_areas": null,
            "grid_template_columns": null,
            "grid_template_rows": null,
            "height": null,
            "justify_content": null,
            "justify_items": null,
            "left": null,
            "margin": null,
            "max_height": null,
            "max_width": null,
            "min_height": null,
            "min_width": null,
            "object_fit": null,
            "object_position": null,
            "order": null,
            "overflow": null,
            "overflow_x": null,
            "overflow_y": null,
            "padding": null,
            "right": null,
            "top": null,
            "visibility": null,
            "width": null
          }
        },
        "8fad5d1e36f14329a912f3bd2528f885": {
          "model_module": "@jupyter-widgets/base",
          "model_name": "LayoutModel",
          "model_module_version": "1.2.0",
          "state": {
            "_model_module": "@jupyter-widgets/base",
            "_model_module_version": "1.2.0",
            "_model_name": "LayoutModel",
            "_view_count": null,
            "_view_module": "@jupyter-widgets/base",
            "_view_module_version": "1.2.0",
            "_view_name": "LayoutView",
            "align_content": null,
            "align_items": null,
            "align_self": null,
            "border": null,
            "bottom": null,
            "display": null,
            "flex": null,
            "flex_flow": null,
            "grid_area": null,
            "grid_auto_columns": null,
            "grid_auto_flow": null,
            "grid_auto_rows": null,
            "grid_column": null,
            "grid_gap": null,
            "grid_row": null,
            "grid_template_areas": null,
            "grid_template_columns": null,
            "grid_template_rows": null,
            "height": null,
            "justify_content": null,
            "justify_items": null,
            "left": null,
            "margin": null,
            "max_height": null,
            "max_width": null,
            "min_height": null,
            "min_width": null,
            "object_fit": null,
            "object_position": null,
            "order": null,
            "overflow": null,
            "overflow_x": null,
            "overflow_y": null,
            "padding": null,
            "right": null,
            "top": null,
            "visibility": null,
            "width": null
          }
        },
        "0100ee510c4e4c3b98b4a12aff844b97": {
          "model_module": "@jupyter-widgets/controls",
          "model_name": "DescriptionStyleModel",
          "model_module_version": "1.5.0",
          "state": {
            "_model_module": "@jupyter-widgets/controls",
            "_model_module_version": "1.5.0",
            "_model_name": "DescriptionStyleModel",
            "_view_count": null,
            "_view_module": "@jupyter-widgets/base",
            "_view_module_version": "1.2.0",
            "_view_name": "StyleView",
            "description_width": ""
          }
        },
        "44d7b931c75645eeae8e7a4900f1e81e": {
          "model_module": "@jupyter-widgets/base",
          "model_name": "LayoutModel",
          "model_module_version": "1.2.0",
          "state": {
            "_model_module": "@jupyter-widgets/base",
            "_model_module_version": "1.2.0",
            "_model_name": "LayoutModel",
            "_view_count": null,
            "_view_module": "@jupyter-widgets/base",
            "_view_module_version": "1.2.0",
            "_view_name": "LayoutView",
            "align_content": null,
            "align_items": null,
            "align_self": null,
            "border": null,
            "bottom": null,
            "display": null,
            "flex": null,
            "flex_flow": null,
            "grid_area": null,
            "grid_auto_columns": null,
            "grid_auto_flow": null,
            "grid_auto_rows": null,
            "grid_column": null,
            "grid_gap": null,
            "grid_row": null,
            "grid_template_areas": null,
            "grid_template_columns": null,
            "grid_template_rows": null,
            "height": null,
            "justify_content": null,
            "justify_items": null,
            "left": null,
            "margin": null,
            "max_height": null,
            "max_width": null,
            "min_height": null,
            "min_width": null,
            "object_fit": null,
            "object_position": null,
            "order": null,
            "overflow": null,
            "overflow_x": null,
            "overflow_y": null,
            "padding": null,
            "right": null,
            "top": null,
            "visibility": null,
            "width": null
          }
        },
        "6d0deff69a0c48d8b0188bed9a168173": {
          "model_module": "@jupyter-widgets/controls",
          "model_name": "ProgressStyleModel",
          "model_module_version": "1.5.0",
          "state": {
            "_model_module": "@jupyter-widgets/controls",
            "_model_module_version": "1.5.0",
            "_model_name": "ProgressStyleModel",
            "_view_count": null,
            "_view_module": "@jupyter-widgets/base",
            "_view_module_version": "1.2.0",
            "_view_name": "StyleView",
            "bar_color": null,
            "description_width": ""
          }
        },
        "c6bad15cbffc4cacb9756ace4dd55c91": {
          "model_module": "@jupyter-widgets/base",
          "model_name": "LayoutModel",
          "model_module_version": "1.2.0",
          "state": {
            "_model_module": "@jupyter-widgets/base",
            "_model_module_version": "1.2.0",
            "_model_name": "LayoutModel",
            "_view_count": null,
            "_view_module": "@jupyter-widgets/base",
            "_view_module_version": "1.2.0",
            "_view_name": "LayoutView",
            "align_content": null,
            "align_items": null,
            "align_self": null,
            "border": null,
            "bottom": null,
            "display": null,
            "flex": null,
            "flex_flow": null,
            "grid_area": null,
            "grid_auto_columns": null,
            "grid_auto_flow": null,
            "grid_auto_rows": null,
            "grid_column": null,
            "grid_gap": null,
            "grid_row": null,
            "grid_template_areas": null,
            "grid_template_columns": null,
            "grid_template_rows": null,
            "height": null,
            "justify_content": null,
            "justify_items": null,
            "left": null,
            "margin": null,
            "max_height": null,
            "max_width": null,
            "min_height": null,
            "min_width": null,
            "object_fit": null,
            "object_position": null,
            "order": null,
            "overflow": null,
            "overflow_x": null,
            "overflow_y": null,
            "padding": null,
            "right": null,
            "top": null,
            "visibility": null,
            "width": null
          }
        },
        "b8e7b2ad0bef4fb483a0c9e90e8bb744": {
          "model_module": "@jupyter-widgets/controls",
          "model_name": "DescriptionStyleModel",
          "model_module_version": "1.5.0",
          "state": {
            "_model_module": "@jupyter-widgets/controls",
            "_model_module_version": "1.5.0",
            "_model_name": "DescriptionStyleModel",
            "_view_count": null,
            "_view_module": "@jupyter-widgets/base",
            "_view_module_version": "1.2.0",
            "_view_name": "StyleView",
            "description_width": ""
          }
        }
      }
    }
  },
  "nbformat": 4,
  "nbformat_minor": 0
}