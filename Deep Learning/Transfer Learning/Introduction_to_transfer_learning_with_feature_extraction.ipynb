{
  "cells": [
    {
      "cell_type": "markdown",
      "metadata": {
        "id": "TS75dpI4aY-X"
      },
      "source": [
        "# Transfer Leaning\n",
        "\n",
        "> We will be using the food-101 dataset from kaggle. It has 101 food labels.\n",
        "\n",
        "\n",
        "**Dataset(Link)** -> https://www.kaggle.com/datasets/dansbecker/food-101\n"
      ]
    },
    {
      "cell_type": "code",
      "execution_count": null,
      "metadata": {
        "colab": {
          "base_uri": "https://localhost:8080/"
        },
        "id": "0RP0qBrEZW7c",
        "outputId": "5ebc72a5-3b17-4ac2-e4cd-9a5429fb11ef"
      },
      "outputs": [
        {
          "name": "stdout",
          "output_type": "stream",
          "text": [
            "Tue Jul 26 05:54:16 2022       \n",
            "+-----------------------------------------------------------------------------+\n",
            "| NVIDIA-SMI 460.32.03    Driver Version: 460.32.03    CUDA Version: 11.2     |\n",
            "|-------------------------------+----------------------+----------------------+\n",
            "| GPU  Name        Persistence-M| Bus-Id        Disp.A | Volatile Uncorr. ECC |\n",
            "| Fan  Temp  Perf  Pwr:Usage/Cap|         Memory-Usage | GPU-Util  Compute M. |\n",
            "|                               |                      |               MIG M. |\n",
            "|===============================+======================+======================|\n",
            "|   0  Tesla T4            Off  | 00000000:00:04.0 Off |                    0 |\n",
            "| N/A   36C    P8     9W /  70W |      0MiB / 15109MiB |      0%      Default |\n",
            "|                               |                      |                  N/A |\n",
            "+-------------------------------+----------------------+----------------------+\n",
            "                                                                               \n",
            "+-----------------------------------------------------------------------------+\n",
            "| Processes:                                                                  |\n",
            "|  GPU   GI   CI        PID   Type   Process name                  GPU Memory |\n",
            "|        ID   ID                                                   Usage      |\n",
            "|=============================================================================|\n",
            "|  No running processes found                                                 |\n",
            "+-----------------------------------------------------------------------------+\n"
          ]
        }
      ],
      "source": [
        "!nvidia-smi"
      ]
    },
    {
      "cell_type": "code",
      "execution_count": null,
      "metadata": {
        "colab": {
          "base_uri": "https://localhost:8080/"
        },
        "id": "LGQVSxwKaU8L",
        "outputId": "73e99381-23e2-446f-ce6b-8e9ca409506f"
      },
      "outputs": [
        {
          "name": "stdout",
          "output_type": "stream",
          "text": [
            "--2022-07-26 05:54:17--  https://storage.googleapis.com/ztm_tf_course/food_vision/10_food_classes_10_percent.zip\n",
            "Resolving storage.googleapis.com (storage.googleapis.com)... 172.253.62.128, 172.253.115.128, 172.253.122.128, ...\n",
            "Connecting to storage.googleapis.com (storage.googleapis.com)|172.253.62.128|:443... connected.\n",
            "HTTP request sent, awaiting response... 200 OK\n",
            "Length: 168546183 (161M) [application/zip]\n",
            "Saving to: ‘10_food_classes_10_percent.zip’\n",
            "\n",
            "10_food_classes_10_ 100%[===================>] 160.74M   270MB/s    in 0.6s    \n",
            "\n",
            "2022-07-26 05:54:18 (270 MB/s) - ‘10_food_classes_10_percent.zip’ saved [168546183/168546183]\n",
            "\n"
          ]
        }
      ],
      "source": [
        "import zipfile\n",
        "\n",
        "!wget https://storage.googleapis.com/ztm_tf_course/food_vision/10_food_classes_10_percent.zip\n",
        "\n",
        "zip_ref=zipfile.ZipFile('10_food_classes_10_percent.zip')\n",
        "zip_ref.extractall()\n",
        "zip_ref.close()"
      ]
    },
    {
      "cell_type": "code",
      "execution_count": null,
      "metadata": {
        "colab": {
          "base_uri": "https://localhost:8080/"
        },
        "id": "tUz__xHLbosu",
        "outputId": "02e0c212-39a0-43c8-bc75-056c483ae3a4"
      },
      "outputs": [
        {
          "name": "stdout",
          "output_type": "stream",
          "text": [
            "There are 2 directories, 0 images in '10_food_classes_10_percent'. \n",
            "There are 10 directories, 0 images in '10_food_classes_10_percent/train'. \n",
            "There are 0 directories, 75 images in '10_food_classes_10_percent/train/chicken_curry'. \n",
            "There are 0 directories, 75 images in '10_food_classes_10_percent/train/grilled_salmon'. \n",
            "There are 0 directories, 75 images in '10_food_classes_10_percent/train/sushi'. \n",
            "There are 0 directories, 75 images in '10_food_classes_10_percent/train/pizza'. \n",
            "There are 0 directories, 75 images in '10_food_classes_10_percent/train/steak'. \n",
            "There are 0 directories, 75 images in '10_food_classes_10_percent/train/fried_rice'. \n",
            "There are 0 directories, 75 images in '10_food_classes_10_percent/train/chicken_wings'. \n",
            "There are 0 directories, 75 images in '10_food_classes_10_percent/train/ice_cream'. \n",
            "There are 0 directories, 75 images in '10_food_classes_10_percent/train/ramen'. \n",
            "There are 0 directories, 75 images in '10_food_classes_10_percent/train/hamburger'. \n",
            "There are 10 directories, 0 images in '10_food_classes_10_percent/test'. \n",
            "There are 0 directories, 250 images in '10_food_classes_10_percent/test/chicken_curry'. \n",
            "There are 0 directories, 250 images in '10_food_classes_10_percent/test/grilled_salmon'. \n",
            "There are 0 directories, 250 images in '10_food_classes_10_percent/test/sushi'. \n",
            "There are 0 directories, 250 images in '10_food_classes_10_percent/test/pizza'. \n",
            "There are 0 directories, 250 images in '10_food_classes_10_percent/test/steak'. \n",
            "There are 0 directories, 250 images in '10_food_classes_10_percent/test/fried_rice'. \n",
            "There are 0 directories, 250 images in '10_food_classes_10_percent/test/chicken_wings'. \n",
            "There are 0 directories, 250 images in '10_food_classes_10_percent/test/ice_cream'. \n",
            "There are 0 directories, 250 images in '10_food_classes_10_percent/test/ramen'. \n",
            "There are 0 directories, 250 images in '10_food_classes_10_percent/test/hamburger'. \n"
          ]
        }
      ],
      "source": [
        "import os\n",
        "\n",
        "# Find the number of files\n",
        "\n",
        "for dirpath, dirnames, filenames in os.walk(\"10_food_classes_10_percent\"):\n",
        "  print(f\"There are {len(dirnames)} directories, {len(filenames)} images in '{dirpath}'. \")"
      ]
    },
    {
      "cell_type": "markdown",
      "metadata": {
        "id": "9AjweMd9cyF0"
      },
      "source": [
        "## Visualizing the images"
      ]
    },
    {
      "cell_type": "code",
      "execution_count": null,
      "metadata": {
        "id": "SR1m5mdbcTT6"
      },
      "outputs": [],
      "source": [
        "import matplotlib.pyplot as plt\n",
        "import matplotlib.image as mping\n",
        "%matplotlib inline\n",
        "import random\n",
        "\n",
        "def view_random_image(target_dir,target_class):\n",
        "\n",
        "  \"\"\"\n",
        "    target_dir and target_class are in string format.\n",
        "  \"\"\"\n",
        "\n",
        "  # Target directory to view images\n",
        "  target_folder= target_dir + target_class\n",
        "\n",
        "  # Random Image path\n",
        "  random_image= random.sample(os.listdir(target_folder),1)\n",
        "\n",
        "  # print(random_image)\n",
        "\n",
        "  # Plotting and reading the images\n",
        "  img= mping.imread(target_folder + \"/\"  + random_image[0])\n",
        "  plt.imshow(img)\n",
        "  plt.title(target_class)\n",
        "  plt.axis(\"off\");\n",
        "\n",
        "  # print(f\"Image shape: {img.shape}\") # Shape of the image\n",
        "\n",
        "  return img\n",
        "\n"
      ]
    },
    {
      "cell_type": "code",
      "execution_count": null,
      "metadata": {
        "colab": {
          "base_uri": "https://localhost:8080/",
          "height": 1000
        },
        "id": "FXWjxyKZc1Mj",
        "outputId": "b41fdf52-35e5-419a-c244-1cc063b7c0e8"
      },
      "outputs": [
        {
          "data": {
            "text/plain": [
              "array([[[  0,  11,   5],\n",
              "        [  1,  12,   6],\n",
              "        [  1,  12,   6],\n",
              "        ...,\n",
              "        [ 14,   8,   0],\n",
              "        [ 14,  11,   4],\n",
              "        [ 15,  12,   5]],\n",
              "\n",
              "       [[  1,  12,   6],\n",
              "        [  1,  12,   6],\n",
              "        [  2,  13,   7],\n",
              "        ...,\n",
              "        [ 17,  11,   0],\n",
              "        [ 12,   9,   2],\n",
              "        [ 12,   9,   2]],\n",
              "\n",
              "       [[  0,  13,   6],\n",
              "        [  1,  14,   7],\n",
              "        [  2,  15,   8],\n",
              "        ...,\n",
              "        [ 20,  14,   0],\n",
              "        [ 14,   9,   3],\n",
              "        [ 14,   9,   3]],\n",
              "\n",
              "       ...,\n",
              "\n",
              "       [[160, 128,  77],\n",
              "        [159, 127,  76],\n",
              "        [174, 142,  91],\n",
              "        ...,\n",
              "        [ 97,  70,  15],\n",
              "        [108,  79,  23],\n",
              "        [108,  79,  23]],\n",
              "\n",
              "       [[168, 136,  85],\n",
              "        [148, 116,  65],\n",
              "        [177, 145,  94],\n",
              "        ...,\n",
              "        [115,  88,  33],\n",
              "        [109,  85,  25],\n",
              "        [108,  84,  24]],\n",
              "\n",
              "       [[170, 138,  87],\n",
              "        [182, 150,  99],\n",
              "        [175, 143,  92],\n",
              "        ...,\n",
              "        [ 99,  74,  18],\n",
              "        [ 90,  68,   8],\n",
              "        [ 90,  68,   8]]], dtype=uint8)"
            ]
          },
          "execution_count": 14,
          "metadata": {},
          "output_type": "execute_result"
        },
        {
          "data": {
            "image/png": "[encoded data removed]",
            "text/plain": [
              "<Figure size 432x288 with 1 Axes>"
            ]
          },
          "metadata": {
            "needs_background": "light"
          },
          "output_type": "display_data"
        }
      ],
      "source": [
        "view_random_image('/content/10_food_classes_10_percent/train/', target_class='pizza')"
      ]
    },
    {
      "cell_type": "markdown",
      "metadata": {
        "id": "PJZAfo6LdOvN"
      },
      "source": [
        "## Creating the data"
      ]
    },
    {
      "cell_type": "code",
      "execution_count": null,
      "metadata": {
        "colab": {
          "base_uri": "https://localhost:8080/"
        },
        "id": "VwH4e_P6dqgG",
        "outputId": "6ab90f9c-a4d4-4020-f530-24b16ab3cf14"
      },
      "outputs": [
        {
          "name": "stdout",
          "output_type": "stream",
          "text": [
            "Found 750 images belonging to 10 classes.\n",
            "Found 2500 images belonging to 10 classes.\n"
          ]
        }
      ],
      "source": [
        "from tensorflow.keras.preprocessing.image import ImageDataGenerator\n",
        "\n",
        "IMG_SHAPE=(224,224)\n",
        "BATCH_SIZE=32\n",
        "\n",
        "train_dir='/content/10_food_classes_10_percent/train'\n",
        "test_dir='/content/10_food_classes_10_percent/test'\n",
        "\n",
        "\n",
        "train_datagen= ImageDataGenerator(rescale=1/255.)\n",
        "test_datagen= ImageDataGenerator(rescale=1/255.)\n",
        "\n",
        "\n",
        "train_data= train_datagen.flow_from_directory(train_dir, target_size=IMG_SHAPE, batch_size=BATCH_SIZE, class_mode=\"categorical\")\n",
        "\n",
        "test_data= test_datagen.flow_from_directory(test_dir, target_size=IMG_SHAPE, batch_size=BATCH_SIZE, class_mode=\"categorical\")"
      ]
    },
    {
      "cell_type": "markdown",
      "metadata": {
        "id": "XLx9Cd1_en7B"
      },
      "source": [
        "## Setting up callbacks\n",
        "\n",
        "> There are the things that are running while the model is training on the training datasets.\n",
        "\n",
        "> There are extra functionality that we can add to the models to be performed during or after training.\n",
        "\n",
        "Examples:\n",
        "\n",
        "* Tensorboard callback\n",
        "* ModelCheckpoint callback\n",
        "* EarlyStopping callback"
      ]
    },
    {
      "cell_type": "markdown",
      "metadata": {
        "id": "hF1XM5tFfRu1"
      },
      "source": [
        "### Tensorboard"
      ]
    },
    {
      "cell_type": "code",
      "execution_count": null,
      "metadata": {
        "id": "qBIPmorNlsTk"
      },
      "outputs": [],
      "source": [
        "import datetime\n",
        "\n",
        "def create_tensorboard_callback(dir_name, experiment_name):\n",
        "  log_dir= dir_name + \"/\" + experiment_name + \"/\" + datetime.datetime.utcnow().strftime(\"%Y%m%d\")\n",
        "  tensorboard_callback= tf.keras.callbacks.TensorBoard(log_dir=log_dir)\n",
        "  print(f\"Saving Tensorboard log files to: {log_dir}\")\n",
        "  return tensorboard_callback"
      ]
    },
    {
      "cell_type": "markdown",
      "metadata": {
        "id": "XNrQMzYVltcJ"
      },
      "source": [
        "## Tensorflow Hub\n",
        "\n",
        "**Link** -> https://tfhub.dev/\n",
        "\n",
        "> Found model from tensorflow hub which we can use in our use case.\n",
        "\n",
        "**Link For efficientnet/b0/feature-vector** -> https://tfhub.dev/tensorflow/efficientnet/b0/feature-vector/1\n",
        "\n",
        "**Link for imagenet/resnet_v2_50/feature_vector** -> https://tfhub.dev/google/imagenet/resnet_v2_50/feature_vector/5"
      ]
    },
    {
      "cell_type": "markdown",
      "metadata": {
        "id": "uSVr7o14-nfx"
      },
      "source": [
        "### Model URLS from tensorflow Hub"
      ]
    },
    {
      "cell_type": "code",
      "execution_count": null,
      "metadata": {
        "id": "Sq5YTuUGnW9o"
      },
      "outputs": [],
      "source": [
        "efficientnet_url='https://tfhub.dev/tensorflow/efficientnet/b0/feature-vector/1'\n",
        "resnet_url= 'https://tfhub.dev/google/imagenet/resnet_v2_50/feature_vector/5'"
      ]
    },
    {
      "cell_type": "markdown",
      "metadata": {
        "id": "3Kj_MM7Dtk6v"
      },
      "source": [
        "### Dependencies needed"
      ]
    },
    {
      "cell_type": "code",
      "execution_count": null,
      "metadata": {
        "id": "ddkWUwfat4EF"
      },
      "outputs": [],
      "source": [
        "import tensorflow as tf\n",
        "import tensorflow_hub as hub\n",
        "from tensorflow.keras import layers"
      ]
    },
    {
      "cell_type": "markdown",
      "metadata": {
        "id": "Ukfb6tq9uCns"
      },
      "source": [
        "### Creating a model"
      ]
    },
    {
      "cell_type": "code",
      "execution_count": null,
      "metadata": {
        "colab": {
          "base_uri": "https://localhost:8080/"
        },
        "id": "vhIlcA0KwJCg",
        "outputId": "2eb28a38-204a-4391-ed90-1a8b6c228188"
      },
      "outputs": [
        {
          "data": {
            "text/plain": [
              "(224, 224)"
            ]
          },
          "execution_count": 10,
          "metadata": {},
          "output_type": "execute_result"
        }
      ],
      "source": [
        "IMG_SHAPE"
      ]
    },
    {
      "cell_type": "code",
      "execution_count": null,
      "metadata": {
        "colab": {
          "base_uri": "https://localhost:8080/"
        },
        "id": "ON2jorvxwNHQ",
        "outputId": "5d4f40a6-cd5b-48ef-c8a3-ce8218b96cb8"
      },
      "outputs": [
        {
          "data": {
            "text/plain": [
              "(224, 224, 3)"
            ]
          },
          "execution_count": 11,
          "metadata": {},
          "output_type": "execute_result"
        }
      ],
      "source": [
        "IMG_SHAPE+(3,)"
      ]
    },
    {
      "cell_type": "code",
      "execution_count": null,
      "metadata": {
        "id": "M8_XQPzMuFPO"
      },
      "outputs": [],
      "source": [
        "def create_model(model_url, num_classes=10):\n",
        "  \"\"\"Takes a TensorFlow Hub URL and creates a Keras Sequential model with it.\n",
        "  \n",
        "  Args:\n",
        "    model_url (str): A TensorFlow Hub feature extraction URL.\n",
        "    num_classes (int): Number of output neurons in output layer,\n",
        "      should be equal to number of target classes, default 10.\n",
        "\n",
        "  Returns:\n",
        "    An uncompiled Keras Sequential model with model_url as feature\n",
        "    extractor layer and Dense output layer with num_classes outputs.\n",
        "  \"\"\"\n",
        "  # Download the pretrained model and save it as a Keras layer\n",
        "  feature_extractor_layer = hub.KerasLayer(model_url,\n",
        "                                           trainable=False, # freeze the underlying patterns\n",
        "                                           name='feature_extraction_layer',\n",
        "                                           input_shape=IMG_SHAPE+(3,)) # define the input image shape\n",
        "  \n",
        "  # Create our own model\n",
        "  model = tf.keras.Sequential([\n",
        "    feature_extractor_layer, # use the feature extraction layer as the base\n",
        "    layers.Dense(num_classes, activation='softmax', name='output_layer') # create our own output layer      \n",
        "  ])\n",
        "\n",
        "  return model"
      ]
    },
    {
      "cell_type": "markdown",
      "metadata": {
        "id": "mqTrygmtwnf3"
      },
      "source": [
        "## Trying the Imagenet/resnet model from Tensorflow Hub"
      ]
    },
    {
      "cell_type": "code",
      "execution_count": null,
      "metadata": {
        "colab": {
          "base_uri": "https://localhost:8080/"
        },
        "id": "twm_RMTMzBB0",
        "outputId": "fe3739a4-0323-498f-c50c-1bc9184c4c5a"
      },
      "outputs": [
        {
          "data": {
            "text/plain": [
              "10"
            ]
          },
          "execution_count": 17,
          "metadata": {},
          "output_type": "execute_result"
        }
      ],
      "source": [
        "train_data.num_classes"
      ]
    },
    {
      "cell_type": "code",
      "execution_count": null,
      "metadata": {
        "id": "GZesP9oCvfgE"
      },
      "outputs": [],
      "source": [
        "resnet_model=create_model(resnet_url, num_classes=train_data.num_classes)"
      ]
    },
    {
      "cell_type": "code",
      "execution_count": null,
      "metadata": {
        "colab": {
          "base_uri": "https://localhost:8080/"
        },
        "id": "-sLMf0ttw1I5",
        "outputId": "4338d959-9ec6-4794-c3d2-4f37ec422356"
      },
      "outputs": [
        {
          "name": "stdout",
          "output_type": "stream",
          "text": [
            "Model: \"sequential\"\n",
            "_________________________________________________________________\n",
            " Layer (type)                Output Shape              Param #   \n",
            "=================================================================\n",
            " feature_extraction_layer (K  (None, 2048)             23564800  \n",
            " erasLayer)                                                      \n",
            "                                                                 \n",
            " output_layer (Dense)        (None, 10)                20490     \n",
            "                                                                 \n",
            "=================================================================\n",
            "Total params: 23,585,290\n",
            "Trainable params: 20,490\n",
            "Non-trainable params: 23,564,800\n",
            "_________________________________________________________________\n"
          ]
        }
      ],
      "source": [
        "resnet_model.summary()"
      ]
    },
    {
      "cell_type": "markdown",
      "metadata": {
        "id": "mY0ZBcG40FhE"
      },
      "source": [
        "### Fitting the Resnet Model\n",
        "\n",
        "> We are only using 10% of the data with only 10 labels."
      ]
    },
    {
      "cell_type": "code",
      "execution_count": null,
      "metadata": {
        "colab": {
          "base_uri": "https://localhost:8080/"
        },
        "id": "f4HaNMs_zNcf",
        "outputId": "4764ddb7-668a-43b2-f0b1-3b0970469f87"
      },
      "outputs": [
        {
          "name": "stdout",
          "output_type": "stream",
          "text": [
            "Saving Tensorboard log files to: tensorflow_hub/resnet_50_v2/20220726\n",
            "Epoch 1/10\n",
            "24/24 [==============================] - 31s 734ms/step - loss: 2.0119 - accuracy: 0.3240 - val_loss: 1.2405 - val_accuracy: 0.6136\n",
            "Epoch 2/10\n",
            "24/24 [==============================] - 15s 663ms/step - loss: 0.9254 - accuracy: 0.7267 - val_loss: 0.8272 - val_accuracy: 0.7320\n",
            "Epoch 3/10\n",
            "24/24 [==============================] - 15s 657ms/step - loss: 0.6207 - accuracy: 0.8267 - val_loss: 0.7529 - val_accuracy: 0.7536\n",
            "Epoch 4/10\n",
            "24/24 [==============================] - 16s 677ms/step - loss: 0.4992 - accuracy: 0.8573 - val_loss: 0.7092 - val_accuracy: 0.7644\n",
            "Epoch 5/10\n",
            "24/24 [==============================] - 15s 655ms/step - loss: 0.4047 - accuracy: 0.8973 - val_loss: 0.6846 - val_accuracy: 0.7752\n",
            "Epoch 6/10\n",
            "24/24 [==============================] - 15s 655ms/step - loss: 0.3164 - accuracy: 0.9387 - val_loss: 0.6443 - val_accuracy: 0.7844\n",
            "Epoch 7/10\n",
            "24/24 [==============================] - 15s 654ms/step - loss: 0.2590 - accuracy: 0.9547 - val_loss: 0.6384 - val_accuracy: 0.7892\n",
            "Epoch 8/10\n",
            "24/24 [==============================] - 15s 652ms/step - loss: 0.2201 - accuracy: 0.9693 - val_loss: 0.6271 - val_accuracy: 0.7912\n",
            "Epoch 9/10\n",
            "24/24 [==============================] - 15s 660ms/step - loss: 0.1885 - accuracy: 0.9787 - val_loss: 0.6260 - val_accuracy: 0.7940\n",
            "Epoch 10/10\n",
            "24/24 [==============================] - 15s 662ms/step - loss: 0.1630 - accuracy: 0.9853 - val_loss: 0.6183 - val_accuracy: 0.7992\n"
          ]
        }
      ],
      "source": [
        "resnet_model.compile(metrics=['accuracy'], loss='categorical_crossentropy', optimizer=tf.keras.optimizers.Adam())\n",
        "\n",
        "tensorboardCallback= create_tensorboard_callback(dir_name=\"tensorflow_hub\", experiment_name=\"resnet_50_v2\")\n",
        "\n",
        "resnet_history=resnet_model.fit(train_data, epochs=10, steps_per_epoch=len(train_data), callbacks=[tensorboardCallback] ,validation_data=test_data, validation_steps=len(test_data))"
      ]
    },
    {
      "cell_type": "code",
      "execution_count": null,
      "metadata": {
        "colab": {
          "base_uri": "https://localhost:8080/"
        },
        "id": "DnXdvGmQzvDh",
        "outputId": "72374520-3f98-4814-96e2-fc1e4ebba209"
      },
      "outputs": [
        {
          "name": "stdout",
          "output_type": "stream",
          "text": [
            "79/79 [==============================] - 12s 152ms/step - loss: 0.6183 - accuracy: 0.7992\n"
          ]
        },
        {
          "data": {
            "text/plain": [
              "[0.6183200478553772, 0.7991999983787537]"
            ]
          },
          "execution_count": 21,
          "metadata": {},
          "output_type": "execute_result"
        }
      ],
      "source": [
        "resnet_model.evaluate(test_data)"
      ]
    },
    {
      "cell_type": "markdown",
      "metadata": {
        "id": "3Bfz2H8g2DiO"
      },
      "source": [
        "### Conclusion\n",
        "\n",
        "> The resnet model we choose from tensorflow hub has an accuracy of ~ 79% which is almost double the accuracy score we had when we build a CNN model(~42%) from scratch. This is the power of transfer learning. We only used 10% of the dataset from the dataset we had when we build a CNN model from scratch."
      ]
    },
    {
      "cell_type": "code",
      "execution_count": null,
      "metadata": {
        "colab": {
          "base_uri": "https://localhost:8080/",
          "height": 285
        },
        "id": "u6Nzyux51fgm",
        "outputId": "0d1c99f5-f8f6-47b5-9b79-a869837046dc"
      },
      "outputs": [
        {
          "data": {
            "text/plain": [
              "<matplotlib.axes._subplots.AxesSubplot at 0x7fbbf47844d0>"
            ]
          },
          "execution_count": 22,
          "metadata": {},
          "output_type": "execute_result"
        },
        {
          "data": {
            "image/png": "[encoded data removed]",
            "text/plain": [
              "<Figure size 432x288 with 1 Axes>"
            ]
          },
          "metadata": {
            "needs_background": "light"
          },
          "output_type": "display_data"
        }
      ],
      "source": [
        "import pandas as pd\n",
        "\n",
        "pd.DataFrame(resnet_history.history).plot()"
      ]
    },
    {
      "cell_type": "markdown",
      "metadata": {
        "id": "ENumWVV51pnc"
      },
      "source": [
        "### Plot and Lost Curve"
      ]
    },
    {
      "cell_type": "code",
      "execution_count": null,
      "metadata": {
        "id": "Igy6jhJL3AX-"
      },
      "outputs": [],
      "source": [
        "# If you wanted to, you could really turn this into a helper function to load in with a helper.py script...\n",
        "import matplotlib.pyplot as plt\n",
        "\n",
        "# Plot the validation and training data separately\n",
        "def plot_loss_curves(history):\n",
        "  \"\"\"\n",
        "  Returns separate loss curves for training and validation metrics.\n",
        "  \"\"\" \n",
        "  loss = history.history['loss']\n",
        "  val_loss = history.history['val_loss']\n",
        "\n",
        "  accuracy = history.history['accuracy']\n",
        "  val_accuracy = history.history['val_accuracy']\n",
        "\n",
        "  epochs = range(len(history.history['loss']))\n",
        "\n",
        "  # Plot loss\n",
        "  plt.plot(epochs, loss, label='training_loss')\n",
        "  plt.plot(epochs, val_loss, label='val_loss')\n",
        "  plt.title('Loss')\n",
        "  plt.xlabel('Epochs')\n",
        "  plt.legend()\n",
        "\n",
        "  # Plot accuracy\n",
        "  plt.figure()\n",
        "  plt.plot(epochs, accuracy, label='training_accuracy')\n",
        "  plt.plot(epochs, val_accuracy, label='val_accuracy')\n",
        "  plt.title('Accuracy')\n",
        "  plt.xlabel('Epochs')\n",
        "  plt.legend();"
      ]
    },
    {
      "cell_type": "code",
      "execution_count": null,
      "metadata": {
        "colab": {
          "base_uri": "https://localhost:8080/",
          "height": 573
        },
        "id": "J3GZJYZx3Atu",
        "outputId": "f2a3d1bb-1ee1-4fa2-e8ea-23bfb72d8532"
      },
      "outputs": [
        {
          "data": {
            "image/png": "[encoded data removed]",
            "text/plain": [
              "<Figure size 432x288 with 1 Axes>"
            ]
          },
          "metadata": {
            "needs_background": "light"
          },
          "output_type": "display_data"
        },
        {
          "data": {
            "image/png": "[encoded data removed]",
            "text/plain": [
              "<Figure size 432x288 with 1 Axes>"
            ]
          },
          "metadata": {
            "needs_background": "light"
          },
          "output_type": "display_data"
        }
      ],
      "source": [
        "plot_loss_curves(resnet_history)"
      ]
    },
    {
      "cell_type": "markdown",
      "metadata": {
        "id": "3J73bXu63X_X"
      },
      "source": [
        "## Trying the efficientnet_b0 model from Tensorflow Hub\n",
        "\n",
        "**Resource** -> https://ai.googleblog.com/2019/05/efficientnet-improving-accuracy-and.html"
      ]
    },
    {
      "cell_type": "code",
      "execution_count": null,
      "metadata": {
        "id": "TDOM1EpG7Qeo"
      },
      "outputs": [],
      "source": [
        "effecientnet_model= create_model(efficientnet_url, num_classes=train_data.num_classes)"
      ]
    },
    {
      "cell_type": "code",
      "execution_count": null,
      "metadata": {
        "colab": {
          "base_uri": "https://localhost:8080/"
        },
        "id": "DE2JFNov-zym",
        "outputId": "6e1502c8-1d4c-4b06-bc96-068d0421723e"
      },
      "outputs": [
        {
          "name": "stdout",
          "output_type": "stream",
          "text": [
            "Model: \"sequential_1\"\n",
            "_________________________________________________________________\n",
            " Layer (type)                Output Shape              Param #   \n",
            "=================================================================\n",
            " feature_extraction_layer (K  (None, 1280)             4049564   \n",
            " erasLayer)                                                      \n",
            "                                                                 \n",
            " output_layer (Dense)        (None, 10)                12810     \n",
            "                                                                 \n",
            "=================================================================\n",
            "Total params: 4,062,374\n",
            "Trainable params: 12,810\n",
            "Non-trainable params: 4,049,564\n",
            "_________________________________________________________________\n"
          ]
        }
      ],
      "source": [
        "effecientnet_model.summary()"
      ]
    },
    {
      "cell_type": "code",
      "execution_count": null,
      "metadata": {
        "colab": {
          "base_uri": "https://localhost:8080/"
        },
        "id": "K5xDZ44A-1oC",
        "outputId": "91f7c418-cdef-4129-d404-8256291b8a38"
      },
      "outputs": [
        {
          "name": "stdout",
          "output_type": "stream",
          "text": [
            "Model: \"sequential\"\n",
            "_________________________________________________________________\n",
            " Layer (type)                Output Shape              Param #   \n",
            "=================================================================\n",
            " feature_extraction_layer (K  (None, 2048)             23564800  \n",
            " erasLayer)                                                      \n",
            "                                                                 \n",
            " output_layer (Dense)        (None, 10)                20490     \n",
            "                                                                 \n",
            "=================================================================\n",
            "Total params: 23,585,290\n",
            "Trainable params: 20,490\n",
            "Non-trainable params: 23,564,800\n",
            "_________________________________________________________________\n"
          ]
        }
      ],
      "source": [
        "resnet_model.summary()"
      ]
    },
    {
      "cell_type": "code",
      "execution_count": null,
      "metadata": {
        "colab": {
          "base_uri": "https://localhost:8080/"
        },
        "id": "afzOVFmT_F9H",
        "outputId": "305c1779-684e-4e95-cf59-c766faec9a79"
      },
      "outputs": [
        {
          "name": "stdout",
          "output_type": "stream",
          "text": [
            "Saving Tensorboard log files to: tensorflow_hub/effecientnet_model_b0/20220726\n",
            "Epoch 1/10\n",
            "24/24 [==============================] - 25s 695ms/step - loss: 1.7866 - accuracy: 0.4773 - val_loss: 1.2291 - val_accuracy: 0.7516\n",
            "Epoch 2/10\n",
            "24/24 [==============================] - 15s 622ms/step - loss: 1.0231 - accuracy: 0.7827 - val_loss: 0.8332 - val_accuracy: 0.8340\n",
            "Epoch 3/10\n",
            "24/24 [==============================] - 15s 636ms/step - loss: 0.7380 - accuracy: 0.8413 - val_loss: 0.6768 - val_accuracy: 0.8528\n",
            "Epoch 4/10\n",
            "24/24 [==============================] - 15s 642ms/step - loss: 0.5918 - accuracy: 0.8787 - val_loss: 0.5952 - val_accuracy: 0.8616\n",
            "Epoch 5/10\n",
            "24/24 [==============================] - 15s 635ms/step - loss: 0.5003 - accuracy: 0.9093 - val_loss: 0.5453 - val_accuracy: 0.8668\n",
            "Epoch 6/10\n",
            "24/24 [==============================] - 15s 632ms/step - loss: 0.4341 - accuracy: 0.9133 - val_loss: 0.5082 - val_accuracy: 0.8724\n",
            "Epoch 7/10\n",
            "24/24 [==============================] - 15s 632ms/step - loss: 0.3832 - accuracy: 0.9307 - val_loss: 0.4857 - val_accuracy: 0.8740\n",
            "Epoch 8/10\n",
            "24/24 [==============================] - 15s 632ms/step - loss: 0.3410 - accuracy: 0.9440 - val_loss: 0.4647 - val_accuracy: 0.8752\n",
            "Epoch 9/10\n",
            "24/24 [==============================] - 15s 654ms/step - loss: 0.3068 - accuracy: 0.9493 - val_loss: 0.4492 - val_accuracy: 0.8796\n",
            "Epoch 10/10\n",
            "24/24 [==============================] - 15s 632ms/step - loss: 0.2774 - accuracy: 0.9587 - val_loss: 0.4407 - val_accuracy: 0.8744\n"
          ]
        }
      ],
      "source": [
        "effecientnet_model.compile(metrics=['accuracy'], optimizer=tf.keras.optimizers.Adam(), loss=\"categorical_crossentropy\")\n",
        "\n",
        "tensorboardCallback= create_tensorboard_callback(dir_name=\"tensorflow_hub\", experiment_name=\"effecientnet_model_b0\")\n",
        "\n",
        "effecientnet_history=effecientnet_model.fit(train_data, epochs=10, steps_per_epoch=len(train_data), callbacks=[tensorboardCallback] ,validation_data=test_data, validation_steps=len(test_data))"
      ]
    },
    {
      "cell_type": "code",
      "execution_count": null,
      "metadata": {
        "colab": {
          "base_uri": "https://localhost:8080/",
          "height": 573
        },
        "id": "y0LZZA8N_qno",
        "outputId": "4f91f880-c00f-4b49-8e28-81ecace928e8"
      },
      "outputs": [
        {
          "data": {
            "image/png": "[encoded data removed]",
            "text/plain": [
              "<Figure size 432x288 with 1 Axes>"
            ]
          },
          "metadata": {
            "needs_background": "light"
          },
          "output_type": "display_data"
        },
        {
          "data": {
            "image/png": "[encoded data removed]",
            "text/plain": [
              "<Figure size 432x288 with 1 Axes>"
            ]
          },
          "metadata": {
            "needs_background": "light"
          },
          "output_type": "display_data"
        }
      ],
      "source": [
        "plot_loss_curves(effecientnet_history)"
      ]
    },
    {
      "cell_type": "code",
      "execution_count": null,
      "metadata": {
        "colab": {
          "base_uri": "https://localhost:8080/"
        },
        "id": "piNw9bKqA1p1",
        "outputId": "33005bd1-8afd-4348-d8af-1f8c57ae6056"
      },
      "outputs": [
        {
          "name": "stdout",
          "output_type": "stream",
          "text": [
            "79/79 [==============================] - 12s 154ms/step - loss: 0.6183 - accuracy: 0.7992\n"
          ]
        },
        {
          "data": {
            "text/plain": [
              "[0.6183200478553772, 0.7991999983787537]"
            ]
          },
          "execution_count": 30,
          "metadata": {},
          "output_type": "execute_result"
        }
      ],
      "source": [
        "resnet_model.evaluate(test_data)"
      ]
    },
    {
      "cell_type": "code",
      "execution_count": null,
      "metadata": {
        "colab": {
          "base_uri": "https://localhost:8080/"
        },
        "id": "axAERUOoDou5",
        "outputId": "e6f693fd-e92f-43c0-bdfb-6b4ebcf0016b"
      },
      "outputs": [
        {
          "name": "stdout",
          "output_type": "stream",
          "text": [
            "79/79 [==============================] - 12s 146ms/step - loss: 0.4407 - accuracy: 0.8744\n"
          ]
        },
        {
          "data": {
            "text/plain": [
              "[0.44074058532714844, 0.8744000196456909]"
            ]
          },
          "execution_count": 31,
          "metadata": {},
          "output_type": "execute_result"
        }
      ],
      "source": [
        "effecientnet_model.evaluate(test_data)"
      ]
    },
    {
      "cell_type": "markdown",
      "metadata": {
        "id": "Uy9N_d7FDrc8"
      },
      "source": [
        "## Conclusion\n",
        "\n",
        "> The *effecientnet_model* has an higher accuracy of ~ 87.6% and the *resnet_model* had an accuracy of ~ 79.47% on the same training data, test data, and the number of epochs. "
      ]
    },
    {
      "cell_type": "markdown",
      "metadata": {
        "id": "LRP83FpWEo06"
      },
      "source": [
        "## Trying a better/updated verion of efficientnet/b0 which is efficientnet/b7\n",
        "\n",
        "> Above we tried the efficientnet/b0 and we got an insane accuracy score of **87.63%**. Let see that the updated model can beat that score or not as an experiment.\n",
        "\n",
        "**Link(By Tensorflow Team)** -> https://tfhub.dev/tensorflow/efficientnet/b7/feature-vector/1\n",
        "\n",
        "**Link(By Google Team)** - https://tfhub.dev/google/efficientnet/b7/feature-vector/1"
      ]
    },
    {
      "cell_type": "code",
      "execution_count": null,
      "metadata": {
        "id": "QA63HYINHRXP"
      },
      "outputs": [],
      "source": [
        "efficientnet_b7_by_tensorflow_url='https://tfhub.dev/tensorflow/efficientnet/b7/feature-vector/1'\n",
        "efficientnet_b7_by_google_url='https://tfhub.dev/google/efficientnet/b7/feature-vector/1'"
      ]
    },
    {
      "cell_type": "code",
      "execution_count": null,
      "metadata": {
        "id": "ydthniyxHqLn"
      },
      "outputs": [],
      "source": [
        "def updated_create_model(model_url, num_classes=10,):\n",
        "  \"\"\"Takes a TensorFlow Hub URL and creates a Keras Sequential model with it.\n",
        "  \n",
        "  Args:\n",
        "    model_url (str): A TensorFlow Hub feature extraction URL.\n",
        "    num_classes (int): Number of output neurons in output layer,\n",
        "      should be equal to number of target classes, default 10.\n",
        "\n",
        "  Returns:\n",
        "    An uncompiled Keras Sequential model with model_url as feature\n",
        "    extractor layer and Dense output layer with num_classes outputs.\n",
        "  \"\"\"\n",
        "  # Download the pretrained model and save it as a Keras layer\n",
        "  feature_extractor_layer = hub.KerasLayer(model_url,\n",
        "                                           trainable=False, # freeze the underlying patterns\n",
        "                                           name='feature_extraction_layer',\n",
        "                                           input_shape=IMG_SHAPE+(3,)) # define the input image shape\n",
        "  \n",
        "  # Create our own model\n",
        "  model = tf.keras.Sequential([\n",
        "    feature_extractor_layer, # use the feature extraction layer as the base\n",
        "    layers.Dense(num_classes, activation='softmax', name='output_layer') # create our own output layer      \n",
        "  ])\n",
        "\n",
        "  model.compile(metrics=['accuracy'], optimizer=tf.keras.optimizers.Adam(), loss=\"categorical_crossentropy\")\n",
        "\n",
        "  return model"
      ]
    },
    {
      "cell_type": "code",
      "execution_count": null,
      "metadata": {
        "id": "qcenzpiEIB63"
      },
      "outputs": [],
      "source": [
        "efficientnet_b7_by_tensorflow_model =updated_create_model(efficientnet_b7_by_tensorflow_url, num_classes=train_data.num_classes)"
      ]
    },
    {
      "cell_type": "code",
      "execution_count": null,
      "metadata": {
        "colab": {
          "base_uri": "https://localhost:8080/"
        },
        "id": "M2FFXstsIaoX",
        "outputId": "1130884b-88c4-44b8-8c32-73da3130f0d5"
      },
      "outputs": [
        {
          "name": "stdout",
          "output_type": "stream",
          "text": [
            "Saving Tensorboard log files to: tensorflow_hub/efficientnet_b7_by_tensorflow_team/20220726\n",
            "Epoch 1/10\n",
            "24/24 [==============================] - 39s 2s/step - loss: 0.2066 - accuracy: 0.9707 - val_loss: 0.4364 - val_accuracy: 0.8632\n",
            "Epoch 2/10\n",
            "24/24 [==============================] - 36s 2s/step - loss: 0.1851 - accuracy: 0.9813 - val_loss: 0.4274 - val_accuracy: 0.8684\n",
            "Epoch 3/10\n",
            "24/24 [==============================] - 35s 2s/step - loss: 0.1690 - accuracy: 0.9827 - val_loss: 0.4239 - val_accuracy: 0.8680\n",
            "Epoch 4/10\n",
            "24/24 [==============================] - 36s 2s/step - loss: 0.1547 - accuracy: 0.9867 - val_loss: 0.4218 - val_accuracy: 0.8668\n",
            "Epoch 5/10\n",
            "24/24 [==============================] - 35s 2s/step - loss: 0.1422 - accuracy: 0.9880 - val_loss: 0.4184 - val_accuracy: 0.8652\n",
            "Epoch 6/10\n",
            "24/24 [==============================] - 35s 2s/step - loss: 0.1305 - accuracy: 0.9880 - val_loss: 0.4197 - val_accuracy: 0.8648\n",
            "Epoch 7/10\n",
            "24/24 [==============================] - 36s 2s/step - loss: 0.1204 - accuracy: 0.9920 - val_loss: 0.4151 - val_accuracy: 0.8632\n",
            "Epoch 8/10\n",
            "24/24 [==============================] - 36s 2s/step - loss: 0.1112 - accuracy: 0.9920 - val_loss: 0.4145 - val_accuracy: 0.8624\n",
            "Epoch 9/10\n",
            "24/24 [==============================] - 36s 2s/step - loss: 0.1038 - accuracy: 0.9933 - val_loss: 0.4122 - val_accuracy: 0.8636\n",
            "Epoch 10/10\n",
            "24/24 [==============================] - 36s 2s/step - loss: 0.0958 - accuracy: 0.9947 - val_loss: 0.4126 - val_accuracy: 0.8636\n"
          ]
        }
      ],
      "source": [
        "tensorboardCallback= create_tensorboard_callback(dir_name=\"tensorflow_hub\", experiment_name=\"efficientnet_b7_by_tensorflow_team\")\n",
        "effecientnet_b7_by_tensorflow_history=efficientnet_b7_by_tensorflow_model.fit(train_data, epochs=10, steps_per_epoch=len(train_data), callbacks=[tensorboardCallback] ,validation_data=test_data, validation_steps=len(test_data))"
      ]
    },
    {
      "cell_type": "code",
      "execution_count": null,
      "metadata": {
        "colab": {
          "base_uri": "https://localhost:8080/"
        },
        "id": "hxY2z6B_Jk3z",
        "outputId": "918e3d5d-9a64-4242-b1fd-c5a66c2b7d8f"
      },
      "outputs": [
        {
          "name": "stdout",
          "output_type": "stream",
          "text": [
            "79/79 [==============================] - 27s 346ms/step - loss: 0.4126 - accuracy: 0.8636\n"
          ]
        },
        {
          "data": {
            "text/plain": [
              "[0.41255834698677063, 0.8636000156402588]"
            ]
          },
          "execution_count": 37,
          "metadata": {},
          "output_type": "execute_result"
        }
      ],
      "source": [
        "efficientnet_b7_by_tensorflow_model.evaluate(test_data)"
      ]
    },
    {
      "cell_type": "code",
      "execution_count": null,
      "metadata": {
        "colab": {
          "base_uri": "https://localhost:8080/",
          "height": 573
        },
        "id": "6gZqRC8IQfhc",
        "outputId": "aeadd997-e51c-42b7-c701-24166e2926c1"
      },
      "outputs": [
        {
          "data": {
            "image/png": "[encoded data removed]",
            "text/plain": [
              "<Figure size 432x288 with 1 Axes>"
            ]
          },
          "metadata": {
            "needs_background": "light"
          },
          "output_type": "display_data"
        },
        {
          "data": {
            "image/png": "[encoded data removed]",
            "text/plain": [
              "<Figure size 432x288 with 1 Axes>"
            ]
          },
          "metadata": {
            "needs_background": "light"
          },
          "output_type": "display_data"
        }
      ],
      "source": [
        "plot_loss_curves(effecientnet_b7_by_tensorflow_history)"
      ]
    },
    {
      "cell_type": "code",
      "execution_count": null,
      "metadata": {
        "id": "tJa2YvXoPhPv"
      },
      "outputs": [],
      "source": [
        "efficientnet_b7_by_google_model =updated_create_model(efficientnet_b7_by_google_url, num_classes=train_data.num_classes)"
      ]
    },
    {
      "cell_type": "code",
      "execution_count": null,
      "metadata": {
        "colab": {
          "base_uri": "https://localhost:8080/"
        },
        "id": "tXBw0XwKQEnJ",
        "outputId": "b5d9d59c-23ed-42ac-cca0-e4d8372ac0ec"
      },
      "outputs": [
        {
          "name": "stdout",
          "output_type": "stream",
          "text": [
            "Saving Tensorboard log files to: tensorflow_hub/efficientnet_b7_by_google_team/20220726\n",
            "Epoch 1/10\n",
            "24/24 [==============================] - 49s 2s/step - loss: 1.5950 - accuracy: 0.5707 - val_loss: 0.9708 - val_accuracy: 0.8092\n",
            "Epoch 2/10\n",
            "24/24 [==============================] - 36s 2s/step - loss: 0.7906 - accuracy: 0.8227 - val_loss: 0.6773 - val_accuracy: 0.8344\n",
            "Epoch 3/10\n",
            "24/24 [==============================] - 35s 2s/step - loss: 0.5798 - accuracy: 0.8613 - val_loss: 0.5804 - val_accuracy: 0.8476\n",
            "Epoch 4/10\n",
            "24/24 [==============================] - 36s 2s/step - loss: 0.4743 - accuracy: 0.8853 - val_loss: 0.5277 - val_accuracy: 0.8540\n",
            "Epoch 5/10\n",
            "24/24 [==============================] - 35s 2s/step - loss: 0.4136 - accuracy: 0.9027 - val_loss: 0.5011 - val_accuracy: 0.8540\n",
            "Epoch 6/10\n",
            "24/24 [==============================] - 35s 2s/step - loss: 0.3547 - accuracy: 0.9253 - val_loss: 0.4784 - val_accuracy: 0.8592\n",
            "Epoch 7/10\n",
            "24/24 [==============================] - 35s 2s/step - loss: 0.3121 - accuracy: 0.9413 - val_loss: 0.4629 - val_accuracy: 0.8588\n",
            "Epoch 8/10\n",
            "24/24 [==============================] - 36s 2s/step - loss: 0.2777 - accuracy: 0.9480 - val_loss: 0.4521 - val_accuracy: 0.8632\n",
            "Epoch 9/10\n",
            "24/24 [==============================] - 36s 2s/step - loss: 0.2483 - accuracy: 0.9587 - val_loss: 0.4418 - val_accuracy: 0.8644\n",
            "Epoch 10/10\n",
            "24/24 [==============================] - 35s 2s/step - loss: 0.2257 - accuracy: 0.9640 - val_loss: 0.4359 - val_accuracy: 0.8664\n"
          ]
        }
      ],
      "source": [
        "tensorboardCallback= create_tensorboard_callback(dir_name=\"tensorflow_hub\", experiment_name=\"efficientnet_b7_by_google_team\")\n",
        "effecientnet_b7_by_google_history=efficientnet_b7_by_google_model.fit(train_data, epochs=10, steps_per_epoch=len(train_data), callbacks=[tensorboardCallback] ,validation_data=test_data, validation_steps=len(test_data))"
      ]
    },
    {
      "cell_type": "code",
      "execution_count": null,
      "metadata": {
        "colab": {
          "base_uri": "https://localhost:8080/"
        },
        "id": "kLyXgdgzQcGA",
        "outputId": "8df72b06-776b-4d02-99a6-75dd05f669e7"
      },
      "outputs": [
        {
          "name": "stdout",
          "output_type": "stream",
          "text": [
            "79/79 [==============================] - 28s 346ms/step - loss: 0.4359 - accuracy: 0.8664\n"
          ]
        },
        {
          "data": {
            "text/plain": [
              "[0.4359002411365509, 0.8664000034332275]"
            ]
          },
          "execution_count": 41,
          "metadata": {},
          "output_type": "execute_result"
        }
      ],
      "source": [
        "efficientnet_b7_by_google_model.evaluate(test_data)"
      ]
    },
    {
      "cell_type": "code",
      "execution_count": null,
      "metadata": {
        "colab": {
          "base_uri": "https://localhost:8080/",
          "height": 573
        },
        "id": "EDFbvL73QnZk",
        "outputId": "b8e4b154-d87f-4fb0-d2ca-14c81aa78cc9"
      },
      "outputs": [
        {
          "data": {
            "image/png": "[encoded data removed]",
            "text/plain": [
              "<Figure size 432x288 with 1 Axes>"
            ]
          },
          "metadata": {
            "needs_background": "light"
          },
          "output_type": "display_data"
        },
        {
          "data": {
            "image/png": "[encoded data removed]",
            "text/plain": [
              "<Figure size 432x288 with 1 Axes>"
            ]
          },
          "metadata": {
            "needs_background": "light"
          },
          "output_type": "display_data"
        }
      ],
      "source": [
        "plot_loss_curves(effecientnet_b7_by_google_history)"
      ]
    },
    {
      "cell_type": "markdown",
      "metadata": {
        "id": "egT7P0LfLj3r"
      },
      "source": [
        "## Conclusion\n",
        "\n",
        "> Even though **efficientnet_b7_model** is the newest model made by Tensorflow and the Google Dev Team separately in terms of models, both did ~ 86.84% and ~ 86.60% respectively which is ever so slightly less than the **efficientnet_b0_model** which did around ~ 87.6%."
      ]
    },
    {
      "cell_type": "markdown",
      "metadata": {
        "id": "ZEHHb7vcbSNQ"
      },
      "source": [
        "## Types of Transfer Learning\n",
        "\n",
        "> \"As is\" transfer learning is when you take a pretrained model as it is and apply it to your task without any changes.\n",
        "\n",
        "    For example, many computer vision models are pretrained on the ImageNet dataset which contains 1000 different classes of images. This means passing a single image to this model will produce 1000 different prediction probability values (1 for each class).\n",
        "\n",
        "    This is helpful if you have 1000 classes of image you'd like to classify and they're all the same as the ImageNet classes, however, it's not helpful if you want to classify only a small subset of classes (such as 10 different kinds of food). Model's with \"/classification\" in their name on TensorFlow Hub provide this kind of functionality.\n",
        "\n",
        "> **Feature extraction transfer learning** is when you take the underlying patterns (also called weights) a pretrained model has learned and adjust its outputs to be more suited to your problem.\n",
        "\n",
        "    For example, say the pretrained model you were using had 236 different layers (EfficientNetB0 has 236 layers), but the top layer outputs 1000 classes because it was pretrained on ImageNet. To adjust this to your own problem, you might remove the original activation layer and replace it with your own but with the right number of output classes. The important part here is that only the top few layers become trainable, the rest remain frozen.\n",
        "    This way all the underlying patterns remain in the rest of the layers and you can utilise them for your own problem. This kind of transfer learning is very helpful when your data is similar to the data a model has been pretrained on.\n",
        "\n",
        "> **Fine-tuning transfer learning** is when you take the underlying patterns (also called weights) of a pretrained model and adjust (fine-tune) them to your own problem."
      ]
    },
    {
      "cell_type": "markdown",
      "metadata": {
        "id": "1BHTHY5--LXT"
      },
      "source": [
        "## TensorBoard\n",
        "\n",
        "**Link** -> https://www.tensorflow.org/tensorboard\n",
        "\n",
        "> When we upload things to TensorBoard.dev, the experiments are public knowledge or visible to everyone. So if we're running some private experiments that we don't want others to see, then do not upload it to TensorBoard.dev\n",
        "\n",
        "**Link** -> https://tensorboard.dev/"
      ]
    },
    {
      "cell_type": "markdown",
      "metadata": {
        "id": "SLrKnkIaHPDK"
      },
      "source": [
        "### Upload records to [TensorBoard Website](https://tensorboard.dev/) "
      ]
    },
    {
      "cell_type": "code",
      "execution_count": null,
      "metadata": {
        "colab": {
          "base_uri": "https://localhost:8080/"
        },
        "id": "QSle-OXPIZsY",
        "outputId": "7551f955-75c3-4e57-ae52-db799c9ac58a"
      },
      "outputs": [
        {
          "name": "stdout",
          "output_type": "stream",
          "text": [
            "\n",
            "New experiment created. View your TensorBoard at: https://tensorboard.dev/experiment/sbVj1YdqTwWaO3yJQ64Djg/\n",
            "\n",
            "\u001b[1m[2022-07-26T06:26:36]\u001b[0m Started scanning logdir.\n",
            "W0726 06:26:38.424341 140592271026048 uploader.py:1095] Blob too large; skipping.  Size 13815848 exceeds limit of 10485760 bytes.\n",
            "W0726 06:26:40.899024 140592271026048 uploader.py:1095] Blob too large; skipping.  Size 13815848 exceeds limit of 10485760 bytes.\n",
            "\u001b[1m[2022-07-26T06:26:42]\u001b[0m Total uploaded: 294 scalars, 0 tensors, 3 binary objects (10.0 MB)\n",
            "\u001b[90mTotal skipped: 2 binary objects (26.4 MB)\n",
            "\u001b[0m\u001b[1m[2022-07-26T06:26:42]\u001b[0m Done scanning logdir.\n",
            "\n",
            "\n",
            "Done. View your TensorBoard at https://tensorboard.dev/experiment/sbVj1YdqTwWaO3yJQ64Djg/\n"
          ]
        }
      ],
      "source": [
        "!tensorboard dev upload --logdir ./tensorflow_hub/ \\\n",
        "--name \"Effecientnet_b0 VS Effecientnet_b7_by_tensorflow VS Effecientnet_b7_by_google VS Resnet_50_V2\" \\\n",
        "--description \"Comparing four different models taken from TF hub using feature extraion process of transfer learning\" \\\n",
        "--one_shot"
      ]
    },
    {
      "cell_type": "markdown",
      "metadata": {
        "id": "_MyphM92LIK0"
      },
      "source": [
        "> Public Tensorboard \n",
        "\n",
        "**Link** -> https://tensorboard.dev/experiment/sbVj1YdqTwWaO3yJQ64Djg/#scalars"
      ]
    },
    {
      "cell_type": "markdown",
      "metadata": {
        "id": "n6LuOLq6N6TX"
      },
      "source": [
        "### Check the list of experiments "
      ]
    },
    {
      "cell_type": "code",
      "execution_count": null,
      "metadata": {
        "colab": {
          "base_uri": "https://localhost:8080/"
        },
        "id": "o_MeZIOUN9yw",
        "outputId": "a229973e-7ce6-4f14-8377-1e5fc135c291"
      },
      "outputs": [
        {
          "name": "stdout",
          "output_type": "stream",
          "text": [
            "https://tensorboard.dev/experiment/sbVj1YdqTwWaO3yJQ64Djg/\n",
            "\tName                 Effecientnet_b0 VS Effecientnet_b7_by_tensorflow VS Effecientnet_b7_by_google VS Resnet_50_V2\n",
            "\tDescription          Comparing four different models taken from TF hub using feature extraion process of transfer learning\n",
            "\tId                   sbVj1YdqTwWaO3yJQ64Djg\n",
            "\tCreated              2022-07-26 06:26:36 (9 minutes ago)\n",
            "\tUpdated              2022-07-26 06:26:42 (9 minutes ago)\n",
            "\tRuns                 10\n",
            "\tTags                 5\n",
            "\tScalars              294\n",
            "\tTensor bytes         0\n",
            "\tBinary object bytes  10515518\n",
            "https://tensorboard.dev/experiment/nSjdQgFdTDq84w1GrYVy2Q/\n",
            "\tName                 Effecientnet_b0 VS Effecientnet_b7_by_tensorflow VS Effecientnet_b7_by_google VS Resnet_50_V2\n",
            "\tDescription          Comparing four different models taken from TF hub using feature extraion process of transfer learning\n",
            "\tId                   nSjdQgFdTDq84w1GrYVy2Q\n",
            "\tCreated              2022-07-26 06:24:45 (11 minutes ago)\n",
            "\tUpdated              2022-07-26 06:24:52 (11 minutes ago)\n",
            "\tRuns                 10\n",
            "\tTags                 5\n",
            "\tScalars              294\n",
            "\tTensor bytes         0\n",
            "\tBinary object bytes  10515518\n",
            "https://tensorboard.dev/experiment/la86QlWpSEC5AFmv0v4uOQ/\n",
            "\tName                 Effecientnet_b0 VS Effecientnet_b7_by_tensorflow VS Effecientnet_b7_by_google VS Resnet_50_V2\n",
            "\tDescription          Comparing four different models taken from TF hub using feature extraion process of transfer learning\n",
            "\tId                   la86QlWpSEC5AFmv0v4uOQ\n",
            "\tCreated              2022-07-26 06:24:14 (11 minutes ago)\n",
            "\tUpdated              2022-07-26 06:24:20 (11 minutes ago)\n",
            "\tRuns                 10\n",
            "\tTags                 5\n",
            "\tScalars              294\n",
            "\tTensor bytes         0\n",
            "\tBinary object bytes  10515518\n",
            "Total: 3 experiment(s)\n"
          ]
        }
      ],
      "source": [
        "!tensorboard dev list"
      ]
    },
    {
      "cell_type": "markdown",
      "metadata": {
        "id": "laL0GgsaL1J1"
      },
      "source": [
        "### To delete an experiment"
      ]
    },
    {
      "cell_type": "code",
      "execution_count": null,
      "metadata": {
        "colab": {
          "base_uri": "https://localhost:8080/"
        },
        "id": "ZZz5HbtrNzAM",
        "outputId": "056dc2f0-a7ba-4116-b05c-874aedb573bf"
      },
      "outputs": [
        {
          "name": "stdout",
          "output_type": "stream",
          "text": [
            "Deleted experiment sbVj1YdqTwWaO3yJQ64Djg.\n"
          ]
        }
      ],
      "source": [
        "!tensorboard dev delete --experiment_id sbVj1YdqTwWaO3yJQ64Djg"
      ]
    },
    {
      "cell_type": "markdown",
      "metadata": {
        "id": "ueEBWm_sObRt"
      },
      "source": [
        "### To confirm deleted experiment"
      ]
    },
    {
      "cell_type": "code",
      "execution_count": null,
      "metadata": {
        "colab": {
          "base_uri": "https://localhost:8080/"
        },
        "id": "d2vmZn8AOgU-",
        "outputId": "0fea8db5-3caa-4866-9e28-ec821b50ed05"
      },
      "outputs": [
        {
          "name": "stdout",
          "output_type": "stream",
          "text": [
            "https://tensorboard.dev/experiment/nSjdQgFdTDq84w1GrYVy2Q/\n",
            "\tName                 Effecientnet_b0 VS Effecientnet_b7_by_tensorflow VS Effecientnet_b7_by_google VS Resnet_50_V2\n",
            "\tDescription          Comparing four different models taken from TF hub using feature extraion process of transfer learning\n",
            "\tId                   nSjdQgFdTDq84w1GrYVy2Q\n",
            "\tCreated              2022-07-26 06:24:45 (13 minutes ago)\n",
            "\tUpdated              2022-07-26 06:24:52 (13 minutes ago)\n",
            "\tRuns                 10\n",
            "\tTags                 5\n",
            "\tScalars              294\n",
            "\tTensor bytes         0\n",
            "\tBinary object bytes  10515518\n",
            "https://tensorboard.dev/experiment/la86QlWpSEC5AFmv0v4uOQ/\n",
            "\tName                 Effecientnet_b0 VS Effecientnet_b7_by_tensorflow VS Effecientnet_b7_by_google VS Resnet_50_V2\n",
            "\tDescription          Comparing four different models taken from TF hub using feature extraion process of transfer learning\n",
            "\tId                   la86QlWpSEC5AFmv0v4uOQ\n",
            "\tCreated              2022-07-26 06:24:14 (14 minutes ago)\n",
            "\tUpdated              2022-07-26 06:24:20 (14 minutes ago)\n",
            "\tRuns                 10\n",
            "\tTags                 5\n",
            "\tScalars              294\n",
            "\tTensor bytes         0\n",
            "\tBinary object bytes  10515518\n",
            "Total: 2 experiment(s)\n"
          ]
        }
      ],
      "source": [
        "!tensorboard dev list"
      ]
    },
    {
      "cell_type": "markdown",
      "metadata": {
        "id": "bdPpk1a1Oh7W"
      },
      "source": [
        "## Download the Tensorboard files created in colab"
      ]
    },
    {
      "cell_type": "code",
      "execution_count": null,
      "metadata": {
        "colab": {
          "base_uri": "https://localhost:8080/"
        },
        "id": "9iyG5E0VP4BS",
        "outputId": "c9026d09-0ce0-43df-ace3-2edee71f8b6d"
      },
      "outputs": [
        {
          "name": "stdout",
          "output_type": "stream",
          "text": [
            "  adding: content/tensorflow_hub/ (stored 0%)\n",
            "  adding: content/tensorflow_hub/efficientnet_b7_by_tensorflow_team/ (stored 0%)\n",
            "  adding: content/tensorflow_hub/efficientnet_b7_by_tensorflow_team/20220726/ (stored 0%)\n",
            "  adding: content/tensorflow_hub/efficientnet_b7_by_tensorflow_team/20220726/train/ (stored 0%)\n",
            "  adding: content/tensorflow_hub/efficientnet_b7_by_tensorflow_team/20220726/train/events.out.tfevents.1658815724.647854429ddb.76.6.v2 (deflated 92%)\n",
            "  adding: content/tensorflow_hub/efficientnet_b7_by_tensorflow_team/20220726/validation/ (stored 0%)\n",
            "  adding: content/tensorflow_hub/efficientnet_b7_by_tensorflow_team/20220726/validation/events.out.tfevents.1658815736.647854429ddb.76.7.v2 (deflated 74%)\n",
            "  adding: content/tensorflow_hub/resnet_50_v2/ (stored 0%)\n",
            "  adding: content/tensorflow_hub/resnet_50_v2/20220726/ (stored 0%)\n",
            "  adding: content/tensorflow_hub/resnet_50_v2/20220726/train/ (stored 0%)\n",
            "  adding: content/tensorflow_hub/resnet_50_v2/20220726/train/events.out.tfevents.1658814919.647854429ddb.76.0.v2 (deflated 93%)\n",
            "  adding: content/tensorflow_hub/resnet_50_v2/20220726/validation/ (stored 0%)\n",
            "  adding: content/tensorflow_hub/resnet_50_v2/20220726/validation/events.out.tfevents.1658814938.647854429ddb.76.1.v2 (deflated 73%)\n",
            "  adding: content/tensorflow_hub/efficientnet_b7_by_google_team/ (stored 0%)\n",
            "  adding: content/tensorflow_hub/efficientnet_b7_by_google_team/20220726/ (stored 0%)\n",
            "  adding: content/tensorflow_hub/efficientnet_b7_by_google_team/20220726/train/ (stored 0%)\n",
            "  adding: content/tensorflow_hub/efficientnet_b7_by_google_team/20220726/train/events.out.tfevents.1658816143.647854429ddb.76.8.v2 (deflated 94%)\n",
            "  adding: content/tensorflow_hub/efficientnet_b7_by_google_team/20220726/validation/ (stored 0%)\n",
            "  adding: content/tensorflow_hub/efficientnet_b7_by_google_team/20220726/validation/events.out.tfevents.1658816162.647854429ddb.76.9.v2 (deflated 73%)\n",
            "  adding: content/tensorflow_hub/efficientnet_b7/ (stored 0%)\n",
            "  adding: content/tensorflow_hub/efficientnet_b7/20220726/ (stored 0%)\n",
            "  adding: content/tensorflow_hub/efficientnet_b7/20220726/train/ (stored 0%)\n",
            "  adding: content/tensorflow_hub/efficientnet_b7/20220726/train/events.out.tfevents.1658815332.647854429ddb.76.4.v2 (deflated 92%)\n",
            "  adding: content/tensorflow_hub/efficientnet_b7/20220726/validation/ (stored 0%)\n",
            "  adding: content/tensorflow_hub/efficientnet_b7/20220726/validation/events.out.tfevents.1658815369.647854429ddb.76.5.v2 (deflated 72%)\n",
            "  adding: content/tensorflow_hub/effecientnet_model_b0/ (stored 0%)\n",
            "  adding: content/tensorflow_hub/effecientnet_model_b0/20220726/ (stored 0%)\n",
            "  adding: content/tensorflow_hub/effecientnet_model_b0/20220726/train/ (stored 0%)\n",
            "  adding: content/tensorflow_hub/effecientnet_model_b0/20220726/train/events.out.tfevents.1658815112.647854429ddb.76.2.v2 (deflated 92%)\n",
            "  adding: content/tensorflow_hub/effecientnet_model_b0/20220726/validation/ (stored 0%)\n",
            "  adding: content/tensorflow_hub/effecientnet_model_b0/20220726/validation/events.out.tfevents.1658815125.647854429ddb.76.3.v2 (deflated 73%)\n"
          ]
        }
      ],
      "source": [
        "!zip -r /content/file.zip /content/tensorflow_hub/"
      ]
    },
    {
      "cell_type": "code",
      "execution_count": null,
      "metadata": {
        "colab": {
          "base_uri": "https://localhost:8080/",
          "height": 17
        },
        "id": "yXjwiUFaP7vr",
        "outputId": "f6550e9d-3c5c-4932-d56b-27250ae060c4"
      },
      "outputs": [
        {
          "data": {
            "application/javascript": "\n    async function download(id, filename, size) {\n      if (!google.colab.kernel.accessAllowed) {\n        return;\n      }\n      const div = document.createElement('div');\n      const label = document.createElement('label');\n      label.textContent = `Downloading \"${filename}\": `;\n      div.appendChild(label);\n      const progress = document.createElement('progress');\n      progress.max = size;\n      div.appendChild(progress);\n      document.body.appendChild(div);\n\n      const buffers = [];\n      let downloaded = 0;\n\n      const channel = await google.colab.kernel.comms.open(id);\n      // Send a message to notify the kernel that we're ready.\n      channel.send({})\n\n      for await (const message of channel.messages) {\n        // Send a message to notify the kernel that we're ready.\n        channel.send({})\n        if (message.buffers) {\n          for (const buffer of message.buffers) {\n            buffers.push(buffer);\n            downloaded += buffer.byteLength;\n            progress.value = downloaded;\n          }\n        }\n      }\n      const blob = new Blob(buffers, {type: 'application/binary'});\n      const a = document.createElement('a');\n      a.href = window.URL.createObjectURL(blob);\n      a.download = filename;\n      div.appendChild(a);\n      a.click();\n      div.remove();\n    }\n  ",
            "text/plain": [
              "<IPython.core.display.Javascript object>"
            ]
          },
          "metadata": {},
          "output_type": "display_data"
        },
        {
          "data": {
            "application/javascript": "download(\"download_1c252dd0-c1d6-4410-8822-79c9364bde39\", \"file.zip\", 2910210)",
            "text/plain": [
              "<IPython.core.display.Javascript object>"
            ]
          },
          "metadata": {},
          "output_type": "display_data"
        }
      ],
      "source": [
        "from google.colab import files\n",
        "files.download(\"/content/file.zip\")"
      ]
    },
    {
      "cell_type": "code",
      "execution_count": null,
      "metadata": {
        "id": "s2Mr-tCHQG0O"
      },
      "outputs": [],
      "source": []
    }
  ],
  "metadata": {
    "accelerator": "GPU",
    "colab": {
      "collapsed_sections": [],
      "name": "Introduction_to_transfer_learning_with_feature_extraction.ipynb",
      "provenance": []
    },
    "gpuClass": "standard",
    "kernelspec": {
      "display_name": "Python 3.8.12 ('bulldozer_price')",
      "language": "python",
      "name": "python3"
    },
    "language_info": {
      "name": "python",
      "version": "3.8.12"
    },
    "vscode": {
      "interpreter": {
        "hash": "4ddec75d6677614c245463d8740167bc169c0e076a027e265c5bab420f00a42a"
      }
    }
  },
  "nbformat": 4,
  "nbformat_minor": 0
}
