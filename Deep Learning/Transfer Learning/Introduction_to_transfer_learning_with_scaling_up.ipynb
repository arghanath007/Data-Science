{
  "cells": [
    {
      "cell_type": "markdown",
      "metadata": {
        "id": "IeynpoJjpvcZ"
      },
      "source": [
        "# Transfer Learning with Scaling-Up\n",
        "\n",
        "> We have seen the power of transfer learning with `Feature Extraction and Fine-Tuning` of models.\n",
        "\n",
        "> Now we would be using those models to train on the `Food101 dataset` with all the `101` food classes together.\n",
        "\n",
        "**Food101 Dataset** -> https://www.kaggle.com/datasets/dansbecker/food-101\n",
        "\n",
        "**Page With Code** -> https://paperswithcode.com/dataset/food-101\n",
        "\n",
        "**Original Page** -> https://data.vision.ee.ethz.ch/cvl/datasets_extra/food-101/static/bossard_eccv14_food-101.pdf\n",
        "\n",
        "> In the paper they used `Random Forest` and got an accuracy score of `50.76%`. \n",
        "\n",
        "\n",
        "> In this notebook, we will get a better score than the paper on only `10%` of the training data with all of the `101` classes in the dataset.  \n",
        "\n"
      ]
    },
    {
      "cell_type": "code",
      "execution_count": 1,
      "metadata": {
        "id": "TtXkIHnmHGMc"
      },
      "outputs": [],
      "source": [
        "import tensorflow as tf\n",
        "import numpy as np\n",
        "import pandas as pd\n",
        "import matplotlib.pyplot as plt\n",
        "\n",
        "%matplotlib inline\n",
        "\n",
        "from tensorflow import keras\n",
        "from tensorflow.keras import layers\n",
        "from tensorflow.keras.layers.experimental import preprocessing\n",
        "from tensorflow.keras.applications.efficientnet import EfficientNetB0\n",
        "\n"
      ]
    },
    {
      "cell_type": "markdown",
      "metadata": {
        "id": "7XZgBCL6AI99"
      },
      "source": [
        "## Importing helper functions"
      ]
    },
    {
      "cell_type": "code",
      "execution_count": 2,
      "metadata": {
        "colab": {
          "base_uri": "https://localhost:8080/"
        },
        "id": "gcEP4E2zAqkN",
        "outputId": "23c7d5a2-759b-4090-975f-d6a4fc791a26"
      },
      "outputs": [
        {
          "name": "stdout",
          "output_type": "stream",
          "text": [
            "--2022-08-02 06:29:46--  https://raw.githubusercontent.com/arghanath007/MachineLearning/main/Deep%20Learning/Transfer%20Learning/helper_functions.py\n",
            "Resolving raw.githubusercontent.com (raw.githubusercontent.com)... 185.199.108.133, 185.199.110.133, 185.199.109.133, ...\n",
            "Connecting to raw.githubusercontent.com (raw.githubusercontent.com)|185.199.108.133|:443... connected.\n",
            "HTTP request sent, awaiting response... 200 OK\n",
            "Length: 14050 (14K) [text/plain]\n",
            "Saving to: ‘helper_functions.py’\n",
            "\n",
            "\rhelper_functions.py   0%[                    ]       0  --.-KB/s               \rhelper_functions.py 100%[===================>]  13.72K  --.-KB/s    in 0s      \n",
            "\n",
            "2022-08-02 06:29:46 (73.7 MB/s) - ‘helper_functions.py’ saved [14050/14050]\n",
            "\n"
          ]
        }
      ],
      "source": [
        "!wget https://raw.githubusercontent.com/arghanath007/MachineLearning/main/Deep%20Learning/Transfer%20Learning/helper_functions.py"
      ]
    },
    {
      "cell_type": "code",
      "execution_count": 3,
      "metadata": {
        "id": "B_Gz0XMrBA9f"
      },
      "outputs": [],
      "source": [
        "from helper_functions import compare_historys, unzip_data, create_tensorboard_callback, plot_loss_curves, walk_through_dir, model_check_point_callback, create_data_augmented_layer_for_model, create_feature_extraction_model"
      ]
    },
    {
      "cell_type": "markdown",
      "metadata": {
        "id": "xNxh7X0TDLCQ"
      },
      "source": [
        "## Getting the data\n",
        "\n",
        "> Using only `10%` of the data with all of the `101` food classes in the dataset.\n",
        "\n",
        "> We are getting the datasets from the original Food101 dataset but it has been preprocessed using the `image_data_modification` notebook -> https://github.com/mrdbourke/tensorflow-deep-learning/blob/main/extras/image_data_modification.ipynb"
      ]
    },
    {
      "cell_type": "code",
      "execution_count": 4,
      "metadata": {
        "colab": {
          "base_uri": "https://localhost:8080/"
        },
        "id": "ivhbV8-bDN0t",
        "outputId": "63adce06-a283-49c2-d581-037de121c201"
      },
      "outputs": [
        {
          "name": "stdout",
          "output_type": "stream",
          "text": [
            "--2022-08-02 06:29:46--  https://storage.googleapis.com/ztm_tf_course/food_vision/101_food_classes_10_percent.zip\n",
            "Resolving storage.googleapis.com (storage.googleapis.com)... 74.125.20.128, 74.125.135.128, 74.125.142.128, ...\n",
            "Connecting to storage.googleapis.com (storage.googleapis.com)|74.125.20.128|:443... connected.\n",
            "HTTP request sent, awaiting response... 200 OK\n",
            "Length: 1625420029 (1.5G) [application/zip]\n",
            "Saving to: ‘101_food_classes_10_percent.zip’\n",
            "\n",
            "101_food_classes_10 100%[===================>]   1.51G   231MB/s    in 6.7s    \n",
            "\n",
            "2022-08-02 06:29:53 (231 MB/s) - ‘101_food_classes_10_percent.zip’ saved [1625420029/1625420029]\n",
            "\n"
          ]
        }
      ],
      "source": [
        "!wget https://storage.googleapis.com/ztm_tf_course/food_vision/101_food_classes_10_percent.zip"
      ]
    },
    {
      "cell_type": "code",
      "execution_count": 5,
      "metadata": {
        "id": "CFKn6QaZD-iK"
      },
      "outputs": [],
      "source": [
        "unzip_data('101_food_classes_10_percent.zip')"
      ]
    },
    {
      "cell_type": "code",
      "execution_count": 6,
      "metadata": {
        "colab": {
          "base_uri": "https://localhost:8080/"
        },
        "id": "DYPOZkPtEDpB",
        "outputId": "2386e365-65e6-489d-b29e-b22a9fb6ca6d"
      },
      "outputs": [
        {
          "name": "stdout",
          "output_type": "stream",
          "text": [
            "There are 2 directories and 0 images in '101_food_classes_10_percent'.\n",
            "There are 101 directories and 0 images in '101_food_classes_10_percent/train'.\n",
            "There are 0 directories and 75 images in '101_food_classes_10_percent/train/red_velvet_cake'.\n",
            "There are 0 directories and 75 images in '101_food_classes_10_percent/train/tacos'.\n",
            "There are 0 directories and 75 images in '101_food_classes_10_percent/train/hamburger'.\n",
            "There are 0 directories and 75 images in '101_food_classes_10_percent/train/chicken_quesadilla'.\n",
            "There are 0 directories and 75 images in '101_food_classes_10_percent/train/gnocchi'.\n",
            "There are 0 directories and 75 images in '101_food_classes_10_percent/train/french_toast'.\n",
            "There are 0 directories and 75 images in '101_food_classes_10_percent/train/peking_duck'.\n",
            "There are 0 directories and 75 images in '101_food_classes_10_percent/train/caesar_salad'.\n",
            "There are 0 directories and 75 images in '101_food_classes_10_percent/train/creme_brulee'.\n",
            "There are 0 directories and 75 images in '101_food_classes_10_percent/train/lasagna'.\n",
            "There are 0 directories and 75 images in '101_food_classes_10_percent/train/hot_dog'.\n",
            "There are 0 directories and 75 images in '101_food_classes_10_percent/train/filet_mignon'.\n",
            "There are 0 directories and 75 images in '101_food_classes_10_percent/train/beef_tartare'.\n",
            "There are 0 directories and 75 images in '101_food_classes_10_percent/train/prime_rib'.\n",
            "There are 0 directories and 75 images in '101_food_classes_10_percent/train/pork_chop'.\n",
            "There are 0 directories and 75 images in '101_food_classes_10_percent/train/bread_pudding'.\n",
            "There are 0 directories and 75 images in '101_food_classes_10_percent/train/poutine'.\n",
            "There are 0 directories and 75 images in '101_food_classes_10_percent/train/macaroni_and_cheese'.\n",
            "There are 0 directories and 75 images in '101_food_classes_10_percent/train/grilled_cheese_sandwich'.\n",
            "There are 0 directories and 75 images in '101_food_classes_10_percent/train/lobster_bisque'.\n",
            "There are 0 directories and 75 images in '101_food_classes_10_percent/train/garlic_bread'.\n",
            "There are 0 directories and 75 images in '101_food_classes_10_percent/train/chocolate_cake'.\n",
            "There are 0 directories and 75 images in '101_food_classes_10_percent/train/eggs_benedict'.\n",
            "There are 0 directories and 75 images in '101_food_classes_10_percent/train/omelette'.\n",
            "There are 0 directories and 75 images in '101_food_classes_10_percent/train/pad_thai'.\n",
            "There are 0 directories and 75 images in '101_food_classes_10_percent/train/churros'.\n",
            "There are 0 directories and 75 images in '101_food_classes_10_percent/train/huevos_rancheros'.\n",
            "There are 0 directories and 75 images in '101_food_classes_10_percent/train/chocolate_mousse'.\n",
            "There are 0 directories and 75 images in '101_food_classes_10_percent/train/french_onion_soup'.\n",
            "There are 0 directories and 75 images in '101_food_classes_10_percent/train/donuts'.\n",
            "There are 0 directories and 75 images in '101_food_classes_10_percent/train/bruschetta'.\n",
            "There are 0 directories and 75 images in '101_food_classes_10_percent/train/samosa'.\n",
            "There are 0 directories and 75 images in '101_food_classes_10_percent/train/edamame'.\n",
            "There are 0 directories and 75 images in '101_food_classes_10_percent/train/panna_cotta'.\n",
            "There are 0 directories and 75 images in '101_food_classes_10_percent/train/sushi'.\n",
            "There are 0 directories and 75 images in '101_food_classes_10_percent/train/beet_salad'.\n",
            "There are 0 directories and 75 images in '101_food_classes_10_percent/train/scallops'.\n",
            "There are 0 directories and 75 images in '101_food_classes_10_percent/train/deviled_eggs'.\n",
            "There are 0 directories and 75 images in '101_food_classes_10_percent/train/croque_madame'.\n",
            "There are 0 directories and 75 images in '101_food_classes_10_percent/train/steak'.\n",
            "There are 0 directories and 75 images in '101_food_classes_10_percent/train/apple_pie'.\n",
            "There are 0 directories and 75 images in '101_food_classes_10_percent/train/fried_calamari'.\n",
            "There are 0 directories and 75 images in '101_food_classes_10_percent/train/escargots'.\n",
            "There are 0 directories and 75 images in '101_food_classes_10_percent/train/chicken_wings'.\n",
            "There are 0 directories and 75 images in '101_food_classes_10_percent/train/macarons'.\n",
            "There are 0 directories and 75 images in '101_food_classes_10_percent/train/ice_cream'.\n",
            "There are 0 directories and 75 images in '101_food_classes_10_percent/train/ravioli'.\n",
            "There are 0 directories and 75 images in '101_food_classes_10_percent/train/spaghetti_bolognese'.\n",
            "There are 0 directories and 75 images in '101_food_classes_10_percent/train/sashimi'.\n",
            "There are 0 directories and 75 images in '101_food_classes_10_percent/train/frozen_yogurt'.\n",
            "There are 0 directories and 75 images in '101_food_classes_10_percent/train/spring_rolls'.\n",
            "There are 0 directories and 75 images in '101_food_classes_10_percent/train/pho'.\n",
            "There are 0 directories and 75 images in '101_food_classes_10_percent/train/french_fries'.\n",
            "There are 0 directories and 75 images in '101_food_classes_10_percent/train/falafel'.\n",
            "There are 0 directories and 75 images in '101_food_classes_10_percent/train/seaweed_salad'.\n",
            "There are 0 directories and 75 images in '101_food_classes_10_percent/train/pancakes'.\n",
            "There are 0 directories and 75 images in '101_food_classes_10_percent/train/cup_cakes'.\n",
            "There are 0 directories and 75 images in '101_food_classes_10_percent/train/nachos'.\n",
            "There are 0 directories and 75 images in '101_food_classes_10_percent/train/waffles'.\n",
            "There are 0 directories and 75 images in '101_food_classes_10_percent/train/bibimbap'.\n",
            "There are 0 directories and 75 images in '101_food_classes_10_percent/train/beef_carpaccio'.\n",
            "There are 0 directories and 75 images in '101_food_classes_10_percent/train/strawberry_shortcake'.\n",
            "There are 0 directories and 75 images in '101_food_classes_10_percent/train/chicken_curry'.\n",
            "There are 0 directories and 75 images in '101_food_classes_10_percent/train/breakfast_burrito'.\n",
            "There are 0 directories and 75 images in '101_food_classes_10_percent/train/tiramisu'.\n",
            "There are 0 directories and 75 images in '101_food_classes_10_percent/train/pulled_pork_sandwich'.\n",
            "There are 0 directories and 75 images in '101_food_classes_10_percent/train/cheesecake'.\n",
            "There are 0 directories and 75 images in '101_food_classes_10_percent/train/fish_and_chips'.\n",
            "There are 0 directories and 75 images in '101_food_classes_10_percent/train/gyoza'.\n",
            "There are 0 directories and 75 images in '101_food_classes_10_percent/train/onion_rings'.\n",
            "There are 0 directories and 75 images in '101_food_classes_10_percent/train/cheese_plate'.\n",
            "There are 0 directories and 75 images in '101_food_classes_10_percent/train/fried_rice'.\n",
            "There are 0 directories and 75 images in '101_food_classes_10_percent/train/paella'.\n",
            "There are 0 directories and 75 images in '101_food_classes_10_percent/train/baby_back_ribs'.\n",
            "There are 0 directories and 75 images in '101_food_classes_10_percent/train/pizza'.\n",
            "There are 0 directories and 75 images in '101_food_classes_10_percent/train/clam_chowder'.\n",
            "There are 0 directories and 75 images in '101_food_classes_10_percent/train/lobster_roll_sandwich'.\n",
            "There are 0 directories and 75 images in '101_food_classes_10_percent/train/ceviche'.\n",
            "There are 0 directories and 75 images in '101_food_classes_10_percent/train/tuna_tartare'.\n",
            "There are 0 directories and 75 images in '101_food_classes_10_percent/train/crab_cakes'.\n",
            "There are 0 directories and 75 images in '101_food_classes_10_percent/train/cannoli'.\n",
            "There are 0 directories and 75 images in '101_food_classes_10_percent/train/greek_salad'.\n",
            "There are 0 directories and 75 images in '101_food_classes_10_percent/train/caprese_salad'.\n",
            "There are 0 directories and 75 images in '101_food_classes_10_percent/train/grilled_salmon'.\n",
            "There are 0 directories and 75 images in '101_food_classes_10_percent/train/spaghetti_carbonara'.\n",
            "There are 0 directories and 75 images in '101_food_classes_10_percent/train/beignets'.\n",
            "There are 0 directories and 75 images in '101_food_classes_10_percent/train/guacamole'.\n",
            "There are 0 directories and 75 images in '101_food_classes_10_percent/train/club_sandwich'.\n",
            "There are 0 directories and 75 images in '101_food_classes_10_percent/train/dumplings'.\n",
            "There are 0 directories and 75 images in '101_food_classes_10_percent/train/shrimp_and_grits'.\n",
            "There are 0 directories and 75 images in '101_food_classes_10_percent/train/oysters'.\n",
            "There are 0 directories and 75 images in '101_food_classes_10_percent/train/ramen'.\n",
            "There are 0 directories and 75 images in '101_food_classes_10_percent/train/baklava'.\n",
            "There are 0 directories and 75 images in '101_food_classes_10_percent/train/hummus'.\n",
            "There are 0 directories and 75 images in '101_food_classes_10_percent/train/takoyaki'.\n",
            "There are 0 directories and 75 images in '101_food_classes_10_percent/train/foie_gras'.\n",
            "There are 0 directories and 75 images in '101_food_classes_10_percent/train/risotto'.\n",
            "There are 0 directories and 75 images in '101_food_classes_10_percent/train/carrot_cake'.\n",
            "There are 0 directories and 75 images in '101_food_classes_10_percent/train/miso_soup'.\n",
            "There are 0 directories and 75 images in '101_food_classes_10_percent/train/hot_and_sour_soup'.\n",
            "There are 0 directories and 75 images in '101_food_classes_10_percent/train/mussels'.\n",
            "There are 101 directories and 0 images in '101_food_classes_10_percent/test'.\n",
            "There are 0 directories and 250 images in '101_food_classes_10_percent/test/red_velvet_cake'.\n",
            "There are 0 directories and 250 images in '101_food_classes_10_percent/test/tacos'.\n",
            "There are 0 directories and 250 images in '101_food_classes_10_percent/test/hamburger'.\n",
            "There are 0 directories and 250 images in '101_food_classes_10_percent/test/chicken_quesadilla'.\n",
            "There are 0 directories and 250 images in '101_food_classes_10_percent/test/gnocchi'.\n",
            "There are 0 directories and 250 images in '101_food_classes_10_percent/test/french_toast'.\n",
            "There are 0 directories and 250 images in '101_food_classes_10_percent/test/peking_duck'.\n",
            "There are 0 directories and 250 images in '101_food_classes_10_percent/test/caesar_salad'.\n",
            "There are 0 directories and 250 images in '101_food_classes_10_percent/test/creme_brulee'.\n",
            "There are 0 directories and 250 images in '101_food_classes_10_percent/test/lasagna'.\n",
            "There are 0 directories and 250 images in '101_food_classes_10_percent/test/hot_dog'.\n",
            "There are 0 directories and 250 images in '101_food_classes_10_percent/test/filet_mignon'.\n",
            "There are 0 directories and 250 images in '101_food_classes_10_percent/test/beef_tartare'.\n",
            "There are 0 directories and 250 images in '101_food_classes_10_percent/test/prime_rib'.\n",
            "There are 0 directories and 250 images in '101_food_classes_10_percent/test/pork_chop'.\n",
            "There are 0 directories and 250 images in '101_food_classes_10_percent/test/bread_pudding'.\n",
            "There are 0 directories and 250 images in '101_food_classes_10_percent/test/poutine'.\n",
            "There are 0 directories and 250 images in '101_food_classes_10_percent/test/macaroni_and_cheese'.\n",
            "There are 0 directories and 250 images in '101_food_classes_10_percent/test/grilled_cheese_sandwich'.\n",
            "There are 0 directories and 250 images in '101_food_classes_10_percent/test/lobster_bisque'.\n",
            "There are 0 directories and 250 images in '101_food_classes_10_percent/test/garlic_bread'.\n",
            "There are 0 directories and 250 images in '101_food_classes_10_percent/test/chocolate_cake'.\n",
            "There are 0 directories and 250 images in '101_food_classes_10_percent/test/eggs_benedict'.\n",
            "There are 0 directories and 250 images in '101_food_classes_10_percent/test/omelette'.\n",
            "There are 0 directories and 250 images in '101_food_classes_10_percent/test/pad_thai'.\n",
            "There are 0 directories and 250 images in '101_food_classes_10_percent/test/churros'.\n",
            "There are 0 directories and 250 images in '101_food_classes_10_percent/test/huevos_rancheros'.\n",
            "There are 0 directories and 250 images in '101_food_classes_10_percent/test/chocolate_mousse'.\n",
            "There are 0 directories and 250 images in '101_food_classes_10_percent/test/french_onion_soup'.\n",
            "There are 0 directories and 250 images in '101_food_classes_10_percent/test/donuts'.\n",
            "There are 0 directories and 250 images in '101_food_classes_10_percent/test/bruschetta'.\n",
            "There are 0 directories and 250 images in '101_food_classes_10_percent/test/samosa'.\n",
            "There are 0 directories and 250 images in '101_food_classes_10_percent/test/edamame'.\n",
            "There are 0 directories and 250 images in '101_food_classes_10_percent/test/panna_cotta'.\n",
            "There are 0 directories and 250 images in '101_food_classes_10_percent/test/sushi'.\n",
            "There are 0 directories and 250 images in '101_food_classes_10_percent/test/beet_salad'.\n",
            "There are 0 directories and 250 images in '101_food_classes_10_percent/test/scallops'.\n",
            "There are 0 directories and 250 images in '101_food_classes_10_percent/test/deviled_eggs'.\n",
            "There are 0 directories and 250 images in '101_food_classes_10_percent/test/croque_madame'.\n",
            "There are 0 directories and 250 images in '101_food_classes_10_percent/test/steak'.\n",
            "There are 0 directories and 250 images in '101_food_classes_10_percent/test/apple_pie'.\n",
            "There are 0 directories and 250 images in '101_food_classes_10_percent/test/fried_calamari'.\n",
            "There are 0 directories and 250 images in '101_food_classes_10_percent/test/escargots'.\n",
            "There are 0 directories and 250 images in '101_food_classes_10_percent/test/chicken_wings'.\n",
            "There are 0 directories and 250 images in '101_food_classes_10_percent/test/macarons'.\n",
            "There are 0 directories and 250 images in '101_food_classes_10_percent/test/ice_cream'.\n",
            "There are 0 directories and 250 images in '101_food_classes_10_percent/test/ravioli'.\n",
            "There are 0 directories and 250 images in '101_food_classes_10_percent/test/spaghetti_bolognese'.\n",
            "There are 0 directories and 250 images in '101_food_classes_10_percent/test/sashimi'.\n",
            "There are 0 directories and 250 images in '101_food_classes_10_percent/test/frozen_yogurt'.\n",
            "There are 0 directories and 250 images in '101_food_classes_10_percent/test/spring_rolls'.\n",
            "There are 0 directories and 250 images in '101_food_classes_10_percent/test/pho'.\n",
            "There are 0 directories and 250 images in '101_food_classes_10_percent/test/french_fries'.\n",
            "There are 0 directories and 250 images in '101_food_classes_10_percent/test/falafel'.\n",
            "There are 0 directories and 250 images in '101_food_classes_10_percent/test/seaweed_salad'.\n",
            "There are 0 directories and 250 images in '101_food_classes_10_percent/test/pancakes'.\n",
            "There are 0 directories and 250 images in '101_food_classes_10_percent/test/cup_cakes'.\n",
            "There are 0 directories and 250 images in '101_food_classes_10_percent/test/nachos'.\n",
            "There are 0 directories and 250 images in '101_food_classes_10_percent/test/waffles'.\n",
            "There are 0 directories and 250 images in '101_food_classes_10_percent/test/bibimbap'.\n",
            "There are 0 directories and 250 images in '101_food_classes_10_percent/test/beef_carpaccio'.\n",
            "There are 0 directories and 250 images in '101_food_classes_10_percent/test/strawberry_shortcake'.\n",
            "There are 0 directories and 250 images in '101_food_classes_10_percent/test/chicken_curry'.\n",
            "There are 0 directories and 250 images in '101_food_classes_10_percent/test/breakfast_burrito'.\n",
            "There are 0 directories and 250 images in '101_food_classes_10_percent/test/tiramisu'.\n",
            "There are 0 directories and 250 images in '101_food_classes_10_percent/test/pulled_pork_sandwich'.\n",
            "There are 0 directories and 250 images in '101_food_classes_10_percent/test/cheesecake'.\n",
            "There are 0 directories and 250 images in '101_food_classes_10_percent/test/fish_and_chips'.\n",
            "There are 0 directories and 250 images in '101_food_classes_10_percent/test/gyoza'.\n",
            "There are 0 directories and 250 images in '101_food_classes_10_percent/test/onion_rings'.\n",
            "There are 0 directories and 250 images in '101_food_classes_10_percent/test/cheese_plate'.\n",
            "There are 0 directories and 250 images in '101_food_classes_10_percent/test/fried_rice'.\n",
            "There are 0 directories and 250 images in '101_food_classes_10_percent/test/paella'.\n",
            "There are 0 directories and 250 images in '101_food_classes_10_percent/test/baby_back_ribs'.\n",
            "There are 0 directories and 250 images in '101_food_classes_10_percent/test/pizza'.\n",
            "There are 0 directories and 250 images in '101_food_classes_10_percent/test/clam_chowder'.\n",
            "There are 0 directories and 250 images in '101_food_classes_10_percent/test/lobster_roll_sandwich'.\n",
            "There are 0 directories and 250 images in '101_food_classes_10_percent/test/ceviche'.\n",
            "There are 0 directories and 250 images in '101_food_classes_10_percent/test/tuna_tartare'.\n",
            "There are 0 directories and 250 images in '101_food_classes_10_percent/test/crab_cakes'.\n",
            "There are 0 directories and 250 images in '101_food_classes_10_percent/test/cannoli'.\n",
            "There are 0 directories and 250 images in '101_food_classes_10_percent/test/greek_salad'.\n",
            "There are 0 directories and 250 images in '101_food_classes_10_percent/test/caprese_salad'.\n",
            "There are 0 directories and 250 images in '101_food_classes_10_percent/test/grilled_salmon'.\n",
            "There are 0 directories and 250 images in '101_food_classes_10_percent/test/spaghetti_carbonara'.\n",
            "There are 0 directories and 250 images in '101_food_classes_10_percent/test/beignets'.\n",
            "There are 0 directories and 250 images in '101_food_classes_10_percent/test/guacamole'.\n",
            "There are 0 directories and 250 images in '101_food_classes_10_percent/test/club_sandwich'.\n",
            "There are 0 directories and 250 images in '101_food_classes_10_percent/test/dumplings'.\n",
            "There are 0 directories and 250 images in '101_food_classes_10_percent/test/shrimp_and_grits'.\n",
            "There are 0 directories and 250 images in '101_food_classes_10_percent/test/oysters'.\n",
            "There are 0 directories and 250 images in '101_food_classes_10_percent/test/ramen'.\n",
            "There are 0 directories and 250 images in '101_food_classes_10_percent/test/baklava'.\n",
            "There are 0 directories and 250 images in '101_food_classes_10_percent/test/hummus'.\n",
            "There are 0 directories and 250 images in '101_food_classes_10_percent/test/takoyaki'.\n",
            "There are 0 directories and 250 images in '101_food_classes_10_percent/test/foie_gras'.\n",
            "There are 0 directories and 250 images in '101_food_classes_10_percent/test/risotto'.\n",
            "There are 0 directories and 250 images in '101_food_classes_10_percent/test/carrot_cake'.\n",
            "There are 0 directories and 250 images in '101_food_classes_10_percent/test/miso_soup'.\n",
            "There are 0 directories and 250 images in '101_food_classes_10_percent/test/hot_and_sour_soup'.\n",
            "There are 0 directories and 250 images in '101_food_classes_10_percent/test/mussels'.\n"
          ]
        }
      ],
      "source": [
        "walk_through_dir('101_food_classes_10_percent')"
      ]
    },
    {
      "cell_type": "code",
      "execution_count": 7,
      "metadata": {
        "id": "VYJas7KpEHVG"
      },
      "outputs": [],
      "source": [
        "train_dir='101_food_classes_10_percent/train'\n",
        "test_dir='101_food_classes_10_percent/test'"
      ]
    },
    {
      "cell_type": "code",
      "execution_count": 8,
      "metadata": {
        "colab": {
          "base_uri": "https://localhost:8080/"
        },
        "id": "kkE3JtZwEWGK",
        "outputId": "381c7504-6a92-4317-df42-7168346ac7bc"
      },
      "outputs": [
        {
          "data": {
            "text/plain": [
              "33"
            ]
          },
          "execution_count": 8,
          "metadata": {},
          "output_type": "execute_result"
        }
      ],
      "source": [
        "len(train_dir)"
      ]
    },
    {
      "cell_type": "code",
      "execution_count": 9,
      "metadata": {
        "colab": {
          "base_uri": "https://localhost:8080/"
        },
        "id": "43XOFrd0EfDt",
        "outputId": "5e60606d-e8c9-46d7-b1c1-bebe7a49c760"
      },
      "outputs": [
        {
          "name": "stdout",
          "output_type": "stream",
          "text": [
            "Found 7575 files belonging to 101 classes.\n",
            "Found 25250 files belonging to 101 classes.\n"
          ]
        }
      ],
      "source": [
        "IMG_SIZE= (224,224)\n",
        "BATCH_SIZE=32\n",
        "\n",
        "train_data_10_percent = tf.keras.preprocessing.image_dataset_from_directory(train_dir, label_mode=\"categorical\", image_size=IMG_SIZE)\n",
        "\n",
        "test_data = tf.keras.preprocessing.image_dataset_from_directory(test_dir, label_mode=\"categorical\", image_size=IMG_SIZE,shuffle=False)"
      ]
    },
    {
      "cell_type": "markdown",
      "metadata": {
        "id": "uV2jFcYZHeyK"
      },
      "source": [
        "## Creating a model with transfer learning with 10% of the 101 food classes dataset\n",
        "\n",
        "* Create ModelCheckpoint callback\n",
        "* Create Data Augmentation layer for the model\n",
        "* Build a *feature extraction model* with `EfficientNet_B0` architecture and a custom output layer"
      ]
    },
    {
      "cell_type": "markdown",
      "metadata": {
        "id": "07qUhgTMImIh"
      },
      "source": [
        "### ModelCheckpoint callback"
      ]
    },
    {
      "cell_type": "code",
      "execution_count": 10,
      "metadata": {
        "colab": {
          "base_uri": "https://localhost:8080/"
        },
        "id": "oguwSTxLSGRH",
        "outputId": "460099a1-dc2d-4962-9c61-bc17759ec41e"
      },
      "outputs": [
        {
          "data": {
            "text/plain": [
              "<keras.callbacks.ModelCheckpoint at 0x7f0018880fd0>"
            ]
          },
          "execution_count": 10,
          "metadata": {},
          "output_type": "execute_result"
        }
      ],
      "source": [
        "file_path= '101_classes_10_percent_model_checkpoint'\n",
        "model_check_point_callback=model_check_point_callback(file_path, save_weights_only=True, save_best_only=True, monitor=\"val_accuracy\")\n",
        "model_check_point_callback"
      ]
    },
    {
      "cell_type": "markdown",
      "metadata": {
        "id": "huNctpHJTH3o"
      },
      "source": [
        "### Data Augmentation Layer"
      ]
    },
    {
      "cell_type": "code",
      "execution_count": 11,
      "metadata": {
        "colab": {
          "base_uri": "https://localhost:8080/"
        },
        "id": "JcbPNXOQT51-",
        "outputId": "e6eeffa6-ce90-4abf-fd08-76bb0dd0fe6f"
      },
      "outputs": [
        {
          "data": {
            "text/plain": [
              "<keras.engine.sequential.Sequential at 0x7f00005c1510>"
            ]
          },
          "execution_count": 11,
          "metadata": {},
          "output_type": "execute_result"
        }
      ],
      "source": [
        "augmented_layer=create_data_augmented_layer_for_model(RandomFlip=\"horizontal\", RandomRotation=0.2, RandomZoom=0.2, RandomHeight=0.2, RandomWidth=0.2)\n",
        "augmented_layer"
      ]
    },
    {
      "cell_type": "markdown",
      "metadata": {
        "id": "Ar6_jDt-ghEp"
      },
      "source": [
        "### Tensorflow Callback"
      ]
    },
    {
      "cell_type": "code",
      "execution_count": 12,
      "metadata": {
        "id": "oMTo0fkMgjn5"
      },
      "outputs": [],
      "source": [
        "tensorboard_dir_name=\"(transfer_learning)\", \n",
        "tensorboard_experiment_name=\"(10_percent_data_augmented_feature_extraction)\""
      ]
    },
    {
      "cell_type": "code",
      "execution_count": 13,
      "metadata": {
        "colab": {
          "base_uri": "https://localhost:8080/"
        },
        "id": "vnuYO560aX46",
        "outputId": "d79b0287-402a-4059-ba49-dd49fbddd20b"
      },
      "outputs": [
        {
          "data": {
            "text/plain": [
              "101"
            ]
          },
          "execution_count": 13,
          "metadata": {},
          "output_type": "execute_result"
        }
      ],
      "source": [
        "len(train_data_10_percent.class_names)"
      ]
    },
    {
      "cell_type": "markdown",
      "metadata": {
        "id": "L8hd3wdUUN3O"
      },
      "source": [
        "### Creating the feature-extraction model"
      ]
    },
    {
      "cell_type": "code",
      "execution_count": 14,
      "metadata": {
        "id": "4QpHsfA4Zp0b"
      },
      "outputs": [],
      "source": [
        "INPUT_SHAPE=(224,224,3)\n",
        "CLASS_COUNT= len(train_data_10_percent.class_names)\n",
        "EPOCHS=10\n",
        "\n",
        "# create_feature_extraction_model(data_augmented_layer=augmented_layer, model_checkpoint_callback=model_check_point_callback, input_shape=INPUT_SHAPE, base_model_name=EfficientNetB0, include_top=False, class_count=CLASS_COUNT,train_data=train_data_10_percent, test_data=test_data, epochs=EPOCHS, tensorboard_dir_name=tensorboard_dir_name,tensorboard_experiment_name= tensorboard_experiment_name)"
      ]
    },
    {
      "cell_type": "code",
      "execution_count": 15,
      "metadata": {
        "colab": {
          "base_uri": "https://localhost:8080/"
        },
        "id": "M75-HSKkfUq6",
        "outputId": "3ca91449-fc06-4043-8660-d0f44a842d02"
      },
      "outputs": [
        {
          "name": "stdout",
          "output_type": "stream",
          "text": [
            "Downloading data from https://storage.googleapis.com/keras-applications/efficientnetb0_notop.h5\n",
            "16711680/16705208 [==============================] - 0s 0us/step\n",
            "16719872/16705208 [==============================] - 0s 0us/step\n",
            "Saving TensorBoard log files to: transfer_learning/10_percent_data_augmented_feature_extraction/20220802-063016\n",
            "Epoch 1/10\n",
            "237/237 [==============================] - ETA: 0s - loss: 3.4760 - accuracy: 0.2477\n",
            "Epoch 1: val_accuracy improved from -inf to 0.45715, saving model to 101_classes_10_percent_model_checkpoint\n",
            "237/237 [==============================] - 142s 520ms/step - loss: 3.4760 - accuracy: 0.2477 - val_loss: 2.4414 - val_accuracy: 0.4571\n",
            "Epoch 2/10\n",
            "237/237 [==============================] - ETA: 0s - loss: 2.3620 - accuracy: 0.4570\n",
            "Epoch 2: val_accuracy improved from 0.45715 to 0.51671, saving model to 101_classes_10_percent_model_checkpoint\n",
            "237/237 [==============================] - 104s 438ms/step - loss: 2.3620 - accuracy: 0.4570 - val_loss: 2.0117 - val_accuracy: 0.5167\n",
            "Epoch 3/10\n",
            "237/237 [==============================] - ETA: 0s - loss: 1.9766 - accuracy: 0.5288\n",
            "Epoch 3: val_accuracy improved from 0.51671 to 0.53596, saving model to 101_classes_10_percent_model_checkpoint\n",
            "237/237 [==============================] - 99s 418ms/step - loss: 1.9766 - accuracy: 0.5288 - val_loss: 1.8455 - val_accuracy: 0.5360\n",
            "Epoch 4/10\n",
            "237/237 [==============================] - ETA: 0s - loss: 1.7576 - accuracy: 0.5725\n",
            "Epoch 4: val_accuracy improved from 0.53596 to 0.54816, saving model to 101_classes_10_percent_model_checkpoint\n",
            "237/237 [==============================] - 96s 402ms/step - loss: 1.7576 - accuracy: 0.5725 - val_loss: 1.7609 - val_accuracy: 0.5482\n",
            "Epoch 5/10\n",
            "237/237 [==============================] - ETA: 0s - loss: 1.5971 - accuracy: 0.6098\n",
            "Epoch 5: val_accuracy improved from 0.54816 to 0.55529, saving model to 101_classes_10_percent_model_checkpoint\n",
            "237/237 [==============================] - 95s 399ms/step - loss: 1.5971 - accuracy: 0.6098 - val_loss: 1.7105 - val_accuracy: 0.5553\n",
            "Epoch 6/10\n",
            "237/237 [==============================] - ETA: 0s - loss: 1.4786 - accuracy: 0.6325\n",
            "Epoch 6: val_accuracy improved from 0.55529 to 0.55873, saving model to 101_classes_10_percent_model_checkpoint\n",
            "237/237 [==============================] - 92s 385ms/step - loss: 1.4786 - accuracy: 0.6325 - val_loss: 1.6822 - val_accuracy: 0.5587\n",
            "Epoch 7/10\n",
            "237/237 [==============================] - ETA: 0s - loss: 1.3852 - accuracy: 0.6544\n",
            "Epoch 7: val_accuracy improved from 0.55873 to 0.56234, saving model to 101_classes_10_percent_model_checkpoint\n",
            "237/237 [==============================] - 88s 371ms/step - loss: 1.3852 - accuracy: 0.6544 - val_loss: 1.6615 - val_accuracy: 0.5623\n",
            "Epoch 8/10\n",
            "237/237 [==============================] - ETA: 0s - loss: 1.3044 - accuracy: 0.6776\n",
            "Epoch 8: val_accuracy improved from 0.56234 to 0.56352, saving model to 101_classes_10_percent_model_checkpoint\n",
            "237/237 [==============================] - 88s 371ms/step - loss: 1.3044 - accuracy: 0.6776 - val_loss: 1.6466 - val_accuracy: 0.5635\n",
            "Epoch 9/10\n",
            "237/237 [==============================] - ETA: 0s - loss: 1.2013 - accuracy: 0.7022\n",
            "Epoch 9: val_accuracy improved from 0.56352 to 0.56784, saving model to 101_classes_10_percent_model_checkpoint\n",
            "237/237 [==============================] - 86s 364ms/step - loss: 1.2013 - accuracy: 0.7022 - val_loss: 1.6318 - val_accuracy: 0.5678\n",
            "Epoch 10/10\n",
            "237/237 [==============================] - ETA: 0s - loss: 1.1597 - accuracy: 0.7143\n",
            "Epoch 10: val_accuracy did not improve from 0.56784\n",
            "237/237 [==============================] - 84s 356ms/step - loss: 1.1597 - accuracy: 0.7143 - val_loss: 1.6350 - val_accuracy: 0.5655\n"
          ]
        }
      ],
      "source": [
        "input_shape=(224,224,3)\n",
        "\n",
        "base_model= EfficientNetB0(include_top=False)\n",
        "base_model.trainable= False\n",
        "\n",
        "inputs= tf.keras.layers.Input(shape=input_shape, name=\"input_layer\")\n",
        "\n",
        "x= augmented_layer(inputs)\n",
        "\n",
        "x= base_model(x, training=False)\n",
        "\n",
        "x= layers.GlobalAveragePooling2D(name=\"global_average_pooling2D\")(x)\n",
        "\n",
        "outputs= layers.Dense(CLASS_COUNT, activation=\"softmax\", name=\"output_layer\")(x)\n",
        "\n",
        "model_0= keras.Model(inputs, outputs)\n",
        "\n",
        "model_0.compile(loss=\"categorical_crossentropy\", metrics=[\"accuracy\"], optimizer=tf.keras.optimizers.Adam())\n",
        "\n",
        "history_0_10_percent= model_0.fit(train_data_10_percent, \n",
        "                                  epochs=10, steps_per_epoch=len(train_data_10_percent), \n",
        "                                  validation_data=test_data, validation_steps=len(test_data), \n",
        "                                  callbacks=[create_tensorboard_callback(dir_name=\"transfer_learning\", experiment_name=\"10_percent_data_augmented_feature_extraction\"), model_check_point_callback])\n",
        "\n"
      ]
    },
    {
      "cell_type": "code",
      "execution_count": 16,
      "metadata": {
        "colab": {
          "base_uri": "https://localhost:8080/"
        },
        "id": "4qklE1pijrZJ",
        "outputId": "04d1c96c-68ca-4518-b010-af39006b1ec1"
      },
      "outputs": [
        {
          "name": "stdout",
          "output_type": "stream",
          "text": [
            "Model: \"model\"\n",
            "_________________________________________________________________\n",
            " Layer (type)                Output Shape              Param #   \n",
            "=================================================================\n",
            " input_layer (InputLayer)    [(None, 224, 224, 3)]     0         \n",
            "                                                                 \n",
            " data_augmentation_layer (Se  (None, 224, 224, 3)      0         \n",
            " quential)                                                       \n",
            "                                                                 \n",
            " efficientnetb0 (Functional)  (None, None, None, 1280)  4049571  \n",
            "                                                                 \n",
            " global_average_pooling2D (G  (None, 1280)             0         \n",
            " lobalAveragePooling2D)                                          \n",
            "                                                                 \n",
            " output_layer (Dense)        (None, 101)               129381    \n",
            "                                                                 \n",
            "=================================================================\n",
            "Total params: 4,178,952\n",
            "Trainable params: 129,381\n",
            "Non-trainable params: 4,049,571\n",
            "_________________________________________________________________\n"
          ]
        }
      ],
      "source": [
        "model_0.summary()"
      ]
    },
    {
      "cell_type": "code",
      "execution_count": 17,
      "metadata": {
        "colab": {
          "base_uri": "https://localhost:8080/"
        },
        "id": "TFXmbBylfJcV",
        "outputId": "bbc121ed-bda9-41d2-9436-c1a0c7f56671"
      },
      "outputs": [
        {
          "name": "stdout",
          "output_type": "stream",
          "text": [
            "790/790 [==============================] - 59s 74ms/step - loss: 1.6350 - accuracy: 0.5655\n"
          ]
        },
        {
          "data": {
            "text/plain": [
              "[1.6349503993988037, 0.5655049681663513]"
            ]
          },
          "execution_count": 17,
          "metadata": {},
          "output_type": "execute_result"
        }
      ],
      "source": [
        "model_0.evaluate(test_data)"
      ]
    },
    {
      "cell_type": "code",
      "execution_count": 18,
      "metadata": {
        "colab": {
          "base_uri": "https://localhost:8080/",
          "height": 573
        },
        "id": "vaQ_QFkEfMD4",
        "outputId": "92ef3223-d65d-4458-b504-d02b0bc3b2e3"
      },
      "outputs": [
        {
          "data": {
            "image/png": "[encoded data removed]",
            "text/plain": [
              "<Figure size 432x288 with 1 Axes>"
            ]
          },
          "metadata": {
            "needs_background": "light"
          },
          "output_type": "display_data"
        },
        {
          "data": {
            "image/png": "[encoded data removed]",
            "text/plain": [
              "<Figure size 432x288 with 1 Axes>"
            ]
          },
          "metadata": {
            "needs_background": "light"
          },
          "output_type": "display_data"
        }
      ],
      "source": [
        "plot_loss_curves(history_0_10_percent)"
      ]
    },
    {
      "cell_type": "markdown",
      "metadata": {
        "id": "p4Bbz8rgjuCX"
      },
      "source": [
        "> The graphs are suggesting that the `model_0` is `overfitting` on the training data. In other words, it is `not generalizing the patterns` it learns from the training data when coming across the `test/validation` data"
      ]
    },
    {
      "cell_type": "code",
      "execution_count": 19,
      "metadata": {
        "colab": {
          "base_uri": "https://localhost:8080/"
        },
        "id": "ESo--4vpicsv",
        "outputId": "a0a123d4-8905-4ee2-a482-d8b35bf9f4d7"
      },
      "outputs": [
        {
          "name": "stdout",
          "output_type": "stream",
          "text": [
            "790/790 [==============================] - 60s 76ms/step - loss: 1.6350 - accuracy: 0.5655\n"
          ]
        },
        {
          "data": {
            "text/plain": [
              "[1.6349503993988037, 0.5655049681663513]"
            ]
          },
          "execution_count": 19,
          "metadata": {},
          "output_type": "execute_result"
        }
      ],
      "source": [
        "result_model_0_feature_extraction= model_0.evaluate(test_data)\n",
        "result_model_0_feature_extraction"
      ]
    },
    {
      "cell_type": "markdown",
      "metadata": {
        "id": "sQFrjP1XFhuh"
      },
      "source": [
        "## Fix overfitting of the model\n",
        "\n",
        "> We could try `GlobalMaxPooling2D` instead of `GlobalAveragePooling2D` to see if it improves the overfitting issue or not.\n",
        "\n",
        "**Docs** -> https://www.tensorflow.org/api_docs/python/tf/keras/layers/GlobalMaxPool2D\n",
        "\n",
        "> Try `GlobalMaxPooling2D` but the accuracy(46.78%) was much worse compared to `GlobalAveragePooling2D` which was 56.21% and the overfitting issue was still.\n",
        "\n",
        "> The values from the model trained with `GlobalMaxPooling2D`:\n",
        "\n",
        "![image.png](data:image/png;base64,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)\n",
        "\n",
        "\n",
        "![image.png](data:image/png;base64,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)"
      ]
    },
    {
      "cell_type": "markdown",
      "metadata": {
        "id": "Du-pyipyHLOx"
      },
      "source": [
        "## Trying the Dropout layer to fix overfitting\n",
        "\n",
        "**Docs** -> https://www.tensorflow.org/api_docs/python/tf/keras/layers/Dropout\n"
      ]
    },
    {
      "cell_type": "code",
      "execution_count": 20,
      "metadata": {
        "colab": {
          "base_uri": "https://localhost:8080/"
        },
        "id": "FB3alFRZyoIH",
        "outputId": "9e151480-b696-46cd-d5e8-74f55ec87d58"
      },
      "outputs": [
        {
          "name": "stdout",
          "output_type": "stream",
          "text": [
            "Saving TensorBoard log files to: transfer_learning/10_percent_data_augmented_feature_extraction/20220802-065539\n",
            "Epoch 1/10\n",
            "237/237 [==============================] - ETA: 0s - loss: 3.8028 - accuracy: 0.1665\n",
            "Epoch 1: val_accuracy did not improve from 0.56784\n",
            "237/237 [==============================] - 48s 176ms/step - loss: 3.8028 - accuracy: 0.1665 - val_loss: 2.9469 - val_accuracy: 0.3769\n",
            "Epoch 2/10\n",
            "237/237 [==============================] - ETA: 0s - loss: 2.7350 - accuracy: 0.3638\n",
            "Epoch 2: val_accuracy did not improve from 0.56784\n",
            "237/237 [==============================] - 40s 169ms/step - loss: 2.7350 - accuracy: 0.3638 - val_loss: 2.4047 - val_accuracy: 0.4590\n",
            "Epoch 3/10\n",
            "237/237 [==============================] - ETA: 0s - loss: 2.3612 - accuracy: 0.4376\n",
            "Epoch 3: val_accuracy did not improve from 0.56784\n",
            "237/237 [==============================] - 36s 150ms/step - loss: 2.3612 - accuracy: 0.4376 - val_loss: 2.2187 - val_accuracy: 0.4711\n",
            "Epoch 4/10\n",
            "237/237 [==============================] - ETA: 0s - loss: 2.1746 - accuracy: 0.4705\n",
            "Epoch 4: val_accuracy did not improve from 0.56784\n",
            "237/237 [==============================] - 37s 155ms/step - loss: 2.1746 - accuracy: 0.4705 - val_loss: 2.1000 - val_accuracy: 0.4870\n",
            "Epoch 5/10\n",
            "237/237 [==============================] - ETA: 0s - loss: 2.0139 - accuracy: 0.4985\n",
            "Epoch 5: val_accuracy did not improve from 0.56784\n",
            "237/237 [==============================] - 37s 155ms/step - loss: 2.0139 - accuracy: 0.4985 - val_loss: 2.0556 - val_accuracy: 0.4820\n",
            "Epoch 6/10\n",
            "237/237 [==============================] - ETA: 0s - loss: 1.9124 - accuracy: 0.5237\n",
            "Epoch 6: val_accuracy did not improve from 0.56784\n",
            "237/237 [==============================] - 37s 154ms/step - loss: 1.9124 - accuracy: 0.5237 - val_loss: 1.9869 - val_accuracy: 0.4921\n",
            "Epoch 7/10\n",
            "237/237 [==============================] - ETA: 0s - loss: 1.8343 - accuracy: 0.5369\n",
            "Epoch 7: val_accuracy did not improve from 0.56784\n",
            "237/237 [==============================] - 34s 142ms/step - loss: 1.8343 - accuracy: 0.5369 - val_loss: 1.9530 - val_accuracy: 0.4971\n",
            "Epoch 8/10\n",
            "237/237 [==============================] - ETA: 0s - loss: 1.7597 - accuracy: 0.5526\n",
            "Epoch 8: val_accuracy did not improve from 0.56784\n",
            "237/237 [==============================] - 34s 142ms/step - loss: 1.7597 - accuracy: 0.5526 - val_loss: 1.9188 - val_accuracy: 0.4939\n",
            "Epoch 9/10\n",
            "237/237 [==============================] - ETA: 0s - loss: 1.7007 - accuracy: 0.5626\n",
            "Epoch 9: val_accuracy did not improve from 0.56784\n",
            "237/237 [==============================] - 34s 144ms/step - loss: 1.7007 - accuracy: 0.5626 - val_loss: 1.9247 - val_accuracy: 0.4907\n",
            "Epoch 10/10\n",
            "237/237 [==============================] - ETA: 0s - loss: 1.6623 - accuracy: 0.5728\n",
            "Epoch 10: val_accuracy did not improve from 0.56784\n",
            "237/237 [==============================] - 33s 138ms/step - loss: 1.6623 - accuracy: 0.5728 - val_loss: 1.9052 - val_accuracy: 0.4952\n"
          ]
        }
      ],
      "source": [
        "input_shape=(224,224,3)\n",
        "\n",
        "base_model= EfficientNetB0(include_top=False)\n",
        "base_model.trainable= False\n",
        "\n",
        "inputs= tf.keras.layers.Input(shape=input_shape, name=\"input_layer\")\n",
        "\n",
        "x= augmented_layer(inputs)\n",
        "\n",
        "x= base_model(x, training=False)\n",
        "\n",
        "x= layers.GlobalAveragePooling2D(name=\"global_average_pooling2D\")(x)\n",
        "\n",
        "# To minimize Overfitting of the model\n",
        "x = tf.keras.layers.Dropout(0.5)(x)\n",
        "\n",
        "outputs= layers.Dense(CLASS_COUNT, activation=\"softmax\", name=\"output_layer\")(x)\n",
        "\n",
        "model_1= keras.Model(inputs, outputs)\n",
        "\n",
        "model_1.compile(loss=\"categorical_crossentropy\", metrics=[\"accuracy\"], optimizer=tf.keras.optimizers.Adam())\n",
        "\n",
        "history_1_10_percent= model_1.fit(train_data_10_percent, \n",
        "                                  epochs=10, steps_per_epoch=len(train_data_10_percent), \n",
        "                                  validation_data=test_data, validation_steps=int(0.15 * len(test_data)), \n",
        "                                  callbacks=[create_tensorboard_callback(dir_name=\"transfer_learning\", experiment_name=\"10_percent_data_augmented_feature_extraction\")])\n",
        "\n"
      ]
    },
    {
      "cell_type": "code",
      "execution_count": 21,
      "metadata": {
        "colab": {
          "base_uri": "https://localhost:8080/"
        },
        "id": "EiDNFlZI4TN5",
        "outputId": "e4abc5cb-2127-4b80-acff-25d20aeeb6e4"
      },
      "outputs": [
        {
          "name": "stdout",
          "output_type": "stream",
          "text": [
            "790/790 [==============================] - 61s 77ms/step - loss: 1.6759 - accuracy: 0.5583\n"
          ]
        },
        {
          "data": {
            "text/plain": [
              "[1.6759328842163086, 0.5582574009895325]"
            ]
          },
          "execution_count": 21,
          "metadata": {},
          "output_type": "execute_result"
        }
      ],
      "source": [
        "model_1.evaluate(test_data)"
      ]
    },
    {
      "cell_type": "code",
      "execution_count": 22,
      "metadata": {
        "colab": {
          "base_uri": "https://localhost:8080/"
        },
        "id": "5F12SnyZ4Wfo",
        "outputId": "38ecde53-0236-48c7-b7dd-ee6c46fc30cc"
      },
      "outputs": [
        {
          "name": "stdout",
          "output_type": "stream",
          "text": [
            "Model: \"model_1\"\n",
            "_________________________________________________________________\n",
            " Layer (type)                Output Shape              Param #   \n",
            "=================================================================\n",
            " input_layer (InputLayer)    [(None, 224, 224, 3)]     0         \n",
            "                                                                 \n",
            " data_augmentation_layer (Se  (None, 224, 224, 3)      0         \n",
            " quential)                                                       \n",
            "                                                                 \n",
            " efficientnetb0 (Functional)  (None, None, None, 1280)  4049571  \n",
            "                                                                 \n",
            " global_average_pooling2D (G  (None, 1280)             0         \n",
            " lobalAveragePooling2D)                                          \n",
            "                                                                 \n",
            " dropout (Dropout)           (None, 1280)              0         \n",
            "                                                                 \n",
            " output_layer (Dense)        (None, 101)               129381    \n",
            "                                                                 \n",
            "=================================================================\n",
            "Total params: 4,178,952\n",
            "Trainable params: 129,381\n",
            "Non-trainable params: 4,049,571\n",
            "_________________________________________________________________\n"
          ]
        }
      ],
      "source": [
        "model_1.summary()"
      ]
    },
    {
      "cell_type": "code",
      "execution_count": 23,
      "metadata": {
        "colab": {
          "base_uri": "https://localhost:8080/",
          "height": 573
        },
        "id": "fCIcIcE14WTm",
        "outputId": "b8c00993-0785-491d-bd23-ae159a4ce062"
      },
      "outputs": [
        {
          "data": {
            "image/png": "[encoded data removed]",
            "text/plain": [
              "<Figure size 432x288 with 1 Axes>"
            ]
          },
          "metadata": {
            "needs_background": "light"
          },
          "output_type": "display_data"
        },
        {
          "data": {
            "image/png": "[encoded data removed]",
            "text/plain": [
              "<Figure size 432x288 with 1 Axes>"
            ]
          },
          "metadata": {
            "needs_background": "light"
          },
          "output_type": "display_data"
        }
      ],
      "source": [
        "plot_loss_curves(history_1_10_percent)"
      ]
    },
    {
      "cell_type": "code",
      "execution_count": 24,
      "metadata": {
        "colab": {
          "base_uri": "https://localhost:8080/",
          "height": 573
        },
        "id": "qKHtSdi97uB-",
        "outputId": "6c39f0ac-860d-4744-8267-dd1169739709"
      },
      "outputs": [
        {
          "data": {
            "image/png": "[encoded data removed]",
            "text/plain": [
              "<Figure size 432x288 with 1 Axes>"
            ]
          },
          "metadata": {
            "needs_background": "light"
          },
          "output_type": "display_data"
        },
        {
          "data": {
            "image/png": "[encoded data removed]",
            "text/plain": [
              "<Figure size 432x288 with 1 Axes>"
            ]
          },
          "metadata": {
            "needs_background": "light"
          },
          "output_type": "display_data"
        }
      ],
      "source": [
        "plot_loss_curves(history_0_10_percent)"
      ]
    },
    {
      "cell_type": "code",
      "execution_count": 25,
      "metadata": {
        "colab": {
          "base_uri": "https://localhost:8080/"
        },
        "id": "6oxf8Ire4rV_",
        "outputId": "4f183baf-fbad-4c88-b59e-7ca1bfccd187"
      },
      "outputs": [
        {
          "name": "stdout",
          "output_type": "stream",
          "text": [
            "790/790 [==============================] - 60s 75ms/step - loss: 1.6759 - accuracy: 0.5583\n"
          ]
        },
        {
          "data": {
            "text/plain": [
              "[1.6759328842163086, 0.5582574009895325]"
            ]
          },
          "execution_count": 25,
          "metadata": {},
          "output_type": "execute_result"
        }
      ],
      "source": [
        "result_model_1_feature_extraction= model_1.evaluate(test_data)\n",
        "result_model_1_feature_extraction"
      ]
    },
    {
      "cell_type": "code",
      "execution_count": 26,
      "metadata": {
        "colab": {
          "base_uri": "https://localhost:8080/"
        },
        "id": "K72DyOev7rvl",
        "outputId": "ec517d0e-dd97-46a9-fefc-0367e0ac616c"
      },
      "outputs": [
        {
          "data": {
            "text/plain": [
              "[1.6349503993988037, 0.5655049681663513]"
            ]
          },
          "execution_count": 26,
          "metadata": {},
          "output_type": "execute_result"
        }
      ],
      "source": [
        "result_model_0_feature_extraction"
      ]
    },
    {
      "cell_type": "markdown",
      "metadata": {
        "id": "VpLzRq2wJdQu"
      },
      "source": [
        "## Conclusion\n",
        "\n",
        "> The `Dropout` layer added to the feature extraction model has helped in reducing `overfitting` of the model. After seeing the graphs of both the models, it is clear `Dropout` layers helps in reducing `overfitting` of the model.\n",
        "\n",
        "* Model With `Dropout` layer\n",
        "\n",
        "> **Loss** -> 1.6728649139404297, **Accuracy** -> 0.5590494871139526\n",
        "\n",
        "* Model without `Dropout` layer\n",
        " \n",
        "> **Loss** -> 1.6465145349502563, **Accuracy** -> 0.5621781945228577\n",
        "\n",
        " \n",
        "\n"
      ]
    },
    {
      "cell_type": "markdown",
      "metadata": {
        "id": "OQcyVoW3LKhy"
      },
      "source": [
        "## Finding the ideal Learning rate"
      ]
    },
    {
      "cell_type": "markdown",
      "metadata": {
        "id": "TXgKmYP6P291"
      },
      "source": [
        "### Learning Rate Callback"
      ]
    },
    {
      "cell_type": "code",
      "execution_count": 27,
      "metadata": {
        "id": "SpYuWyE6LKPU"
      },
      "outputs": [],
      "source": [
        "lr_callback=tf.keras.callbacks.LearningRateScheduler(lambda epoch: 1e-3 * 10**(epoch/2))"
      ]
    },
    {
      "cell_type": "code",
      "execution_count": 28,
      "metadata": {
        "colab": {
          "base_uri": "https://localhost:8080/"
        },
        "id": "dLJeDMn6QvtD",
        "outputId": "3c5c9091-f9c6-416f-96b1-c049813b6f72"
      },
      "outputs": [
        {
          "name": "stdout",
          "output_type": "stream",
          "text": [
            "Saving TensorBoard log files to: transfer_learning/10_percent_data_augmented_feature_extraction/20220802-071228\n",
            "Epoch 1/10\n",
            "237/237 [==============================] - ETA: 0s - loss: 3.8045 - accuracy: 0.1646\n",
            "Epoch 1: val_accuracy did not improve from 0.56784\n",
            "237/237 [==============================] - 40s 142ms/step - loss: 3.8045 - accuracy: 0.1646 - val_loss: 2.9276 - val_accuracy: 0.3853 - lr: 0.0010\n",
            "Epoch 2/10\n",
            "237/237 [==============================] - ETA: 0s - loss: 2.7303 - accuracy: 0.3679\n",
            "Epoch 2: val_accuracy did not improve from 0.56784\n",
            "237/237 [==============================] - 34s 143ms/step - loss: 2.7303 - accuracy: 0.3679 - val_loss: 2.3759 - val_accuracy: 0.4574 - lr: 0.0011\n",
            "Epoch 3/10\n",
            "237/237 [==============================] - ETA: 0s - loss: 2.3370 - accuracy: 0.4362\n",
            "Epoch 3: val_accuracy did not improve from 0.56784\n",
            "237/237 [==============================] - 35s 145ms/step - loss: 2.3370 - accuracy: 0.4362 - val_loss: 2.1487 - val_accuracy: 0.4844 - lr: 0.0013\n",
            "Epoch 4/10\n",
            "237/237 [==============================] - ETA: 0s - loss: 2.1123 - accuracy: 0.4772\n",
            "Epoch 4: val_accuracy did not improve from 0.56784\n",
            "237/237 [==============================] - 33s 139ms/step - loss: 2.1123 - accuracy: 0.4772 - val_loss: 2.0401 - val_accuracy: 0.4918 - lr: 0.0014\n",
            "Epoch 5/10\n",
            "237/237 [==============================] - ETA: 0s - loss: 1.9639 - accuracy: 0.5031\n",
            "Epoch 5: val_accuracy did not improve from 0.56784\n",
            "237/237 [==============================] - 32s 131ms/step - loss: 1.9639 - accuracy: 0.5031 - val_loss: 1.9397 - val_accuracy: 0.5056 - lr: 0.0016\n",
            "Epoch 6/10\n",
            "237/237 [==============================] - ETA: 0s - loss: 1.8831 - accuracy: 0.5149\n",
            "Epoch 6: val_accuracy did not improve from 0.56784\n",
            "237/237 [==============================] - 32s 132ms/step - loss: 1.8831 - accuracy: 0.5149 - val_loss: 1.9713 - val_accuracy: 0.4897 - lr: 0.0018\n",
            "Epoch 7/10\n",
            "237/237 [==============================] - ETA: 0s - loss: 1.8078 - accuracy: 0.5344\n",
            "Epoch 7: val_accuracy did not improve from 0.56784\n",
            "237/237 [==============================] - 34s 141ms/step - loss: 1.8078 - accuracy: 0.5344 - val_loss: 1.9099 - val_accuracy: 0.5008 - lr: 0.0020\n",
            "Epoch 8/10\n",
            "237/237 [==============================] - ETA: 0s - loss: 1.7287 - accuracy: 0.5422\n",
            "Epoch 8: val_accuracy did not improve from 0.56784\n",
            "237/237 [==============================] - 33s 138ms/step - loss: 1.7287 - accuracy: 0.5422 - val_loss: 1.9447 - val_accuracy: 0.4968 - lr: 0.0022\n",
            "Epoch 9/10\n",
            "237/237 [==============================] - ETA: 0s - loss: 1.7163 - accuracy: 0.5486\n",
            "Epoch 9: val_accuracy did not improve from 0.56784\n",
            "237/237 [==============================] - 33s 137ms/step - loss: 1.7163 - accuracy: 0.5486 - val_loss: 1.8907 - val_accuracy: 0.5056 - lr: 0.0025\n",
            "Epoch 10/10\n",
            "237/237 [==============================] - ETA: 0s - loss: 1.6983 - accuracy: 0.5440\n",
            "Epoch 10: val_accuracy did not improve from 0.56784\n",
            "237/237 [==============================] - 32s 133ms/step - loss: 1.6983 - accuracy: 0.5440 - val_loss: 1.9358 - val_accuracy: 0.4928 - lr: 0.0028\n"
          ]
        }
      ],
      "source": [
        "input_shape=(224,224,3)\n",
        "\n",
        "base_model= EfficientNetB0(include_top=False)\n",
        "base_model.trainable= False\n",
        "\n",
        "inputs= tf.keras.layers.Input(shape=input_shape, name=\"input_layer\")\n",
        "\n",
        "x= augmented_layer(inputs)\n",
        "\n",
        "x= base_model(x, training=False)\n",
        "\n",
        "x= layers.GlobalAveragePooling2D(name=\"global_average_pooling2D\")(x)\n",
        "\n",
        "# To minimize Overfitting of the model\n",
        "x = tf.keras.layers.Dropout(0.5)(x)\n",
        "\n",
        "outputs= layers.Dense(CLASS_COUNT, activation=\"softmax\", name=\"output_layer\")(x)\n",
        "\n",
        "model_2= keras.Model(inputs, outputs)\n",
        "\n",
        "model_2.compile(loss=\"categorical_crossentropy\", metrics=[\"accuracy\"], optimizer=tf.keras.optimizers.Adam())\n",
        "\n",
        "history_2_10_percent= model_2.fit(train_data_10_percent, \n",
        "                                  epochs=10, steps_per_epoch=len(train_data_10_percent), \n",
        "                                  validation_data=test_data, validation_steps=int(0.15 * len(test_data)), \n",
        "                                  callbacks=[create_tensorboard_callback(dir_name=\"transfer_learning\", experiment_name=\"10_percent_data_augmented_feature_extraction\"), lr_callback])\n",
        "\n"
      ]
    },
    {
      "cell_type": "code",
      "execution_count": 31,
      "metadata": {
        "colab": {
          "base_uri": "https://localhost:8080/",
          "height": 319
        },
        "id": "eUvW-oy8Qm7Q",
        "outputId": "6abb7681-671e-4f6c-d038-5ed9b1ce626a"
      },
      "outputs": [
        {
          "data": {
            "text/plain": [
              "Text(0.5, 1.0, 'Finding the ideal learning rate')"
            ]
          },
          "execution_count": 31,
          "metadata": {},
          "output_type": "execute_result"
        },
        {
          "data": {
            "image/png": "[encoded data removed]",
            "text/plain": [
              "<Figure size 432x288 with 1 Axes>"
            ]
          },
          "metadata": {
            "needs_background": "light"
          },
          "output_type": "display_data"
        }
      ],
      "source": [
        "lrs=1e-3 *(10**(tf.range(10)/2))\n",
        "plt.semilogx(lrs, history_2_10_percent.history[\"loss\"])\n",
        "plt.xlabel(\"learning rate\")\n",
        "plt.ylabel(\"loss\")\n",
        "plt.title(\"Finding the ideal learning rate\")"
      ]
    },
    {
      "cell_type": "markdown",
      "metadata": {
        "id": "PfkG2UXDbzYd"
      },
      "source": [
        "> Let's try a learning_rate of `0.0001`"
      ]
    },
    {
      "cell_type": "code",
      "execution_count": 33,
      "metadata": {
        "colab": {
          "base_uri": "https://localhost:8080/"
        },
        "id": "oDfbeorLbySb",
        "outputId": "4c2e66e1-a724-445d-abd1-afe9d8645252"
      },
      "outputs": [
        {
          "name": "stdout",
          "output_type": "stream",
          "text": [
            "Saving TensorBoard log files to: transfer_learning/10_percent_data_augmented_feature_extraction/20220802-072605\n",
            "Epoch 1/10\n",
            "237/237 [==============================] - ETA: 0s - loss: 4.6707 - accuracy: 0.0181\n",
            "Epoch 1: val_accuracy did not improve from 0.56784\n",
            "237/237 [==============================] - 36s 126ms/step - loss: 4.6707 - accuracy: 0.0181 - val_loss: 4.4220 - val_accuracy: 0.0267\n",
            "Epoch 2/10\n",
            "237/237 [==============================] - ETA: 0s - loss: 4.3472 - accuracy: 0.0524\n",
            "Epoch 2: val_accuracy did not improve from 0.56784\n",
            "237/237 [==============================] - 32s 134ms/step - loss: 4.3472 - accuracy: 0.0524 - val_loss: 4.1638 - val_accuracy: 0.0861\n",
            "Epoch 3/10\n",
            "237/237 [==============================] - ETA: 0s - loss: 4.0766 - accuracy: 0.1088\n",
            "Epoch 3: val_accuracy did not improve from 0.56784\n",
            "237/237 [==============================] - 31s 129ms/step - loss: 4.0766 - accuracy: 0.1088 - val_loss: 3.9419 - val_accuracy: 0.1536\n",
            "Epoch 4/10\n",
            "237/237 [==============================] - ETA: 0s - loss: 3.8605 - accuracy: 0.1588\n",
            "Epoch 4: val_accuracy did not improve from 0.56784\n",
            "237/237 [==============================] - 29s 123ms/step - loss: 3.8605 - accuracy: 0.1588 - val_loss: 3.7579 - val_accuracy: 0.2090\n",
            "Epoch 5/10\n",
            "237/237 [==============================] - ETA: 0s - loss: 3.6692 - accuracy: 0.2067\n",
            "Epoch 5: val_accuracy did not improve from 0.56784\n",
            "237/237 [==============================] - 29s 121ms/step - loss: 3.6692 - accuracy: 0.2067 - val_loss: 3.5915 - val_accuracy: 0.2503\n",
            "Epoch 6/10\n",
            "237/237 [==============================] - ETA: 0s - loss: 3.4888 - accuracy: 0.2465\n",
            "Epoch 6: val_accuracy did not improve from 0.56784\n",
            "237/237 [==============================] - 31s 128ms/step - loss: 3.4888 - accuracy: 0.2465 - val_loss: 3.4417 - val_accuracy: 0.2905\n",
            "Epoch 7/10\n",
            "237/237 [==============================] - ETA: 0s - loss: 3.3416 - accuracy: 0.2734\n",
            "Epoch 7: val_accuracy did not improve from 0.56784\n",
            "237/237 [==============================] - 31s 131ms/step - loss: 3.3416 - accuracy: 0.2734 - val_loss: 3.3138 - val_accuracy: 0.3212\n",
            "Epoch 8/10\n",
            "237/237 [==============================] - ETA: 0s - loss: 3.2207 - accuracy: 0.2999\n",
            "Epoch 8: val_accuracy did not improve from 0.56784\n",
            "237/237 [==============================] - 31s 130ms/step - loss: 3.2207 - accuracy: 0.2999 - val_loss: 3.1915 - val_accuracy: 0.3451\n",
            "Epoch 9/10\n",
            "237/237 [==============================] - ETA: 0s - loss: 3.1153 - accuracy: 0.3184\n",
            "Epoch 9: val_accuracy did not improve from 0.56784\n",
            "237/237 [==============================] - 29s 121ms/step - loss: 3.1153 - accuracy: 0.3184 - val_loss: 3.0927 - val_accuracy: 0.3641\n",
            "Epoch 10/10\n",
            "237/237 [==============================] - ETA: 0s - loss: 3.0007 - accuracy: 0.3427\n",
            "Epoch 10: val_accuracy did not improve from 0.56784\n",
            "237/237 [==============================] - 30s 127ms/step - loss: 3.0007 - accuracy: 0.3427 - val_loss: 2.9985 - val_accuracy: 0.3829\n"
          ]
        }
      ],
      "source": [
        "input_shape=(224,224,3)\n",
        "\n",
        "base_model= EfficientNetB0(include_top=False)\n",
        "base_model.trainable= False\n",
        "\n",
        "inputs= tf.keras.layers.Input(shape=input_shape, name=\"input_layer\")\n",
        "\n",
        "x= augmented_layer(inputs)\n",
        "\n",
        "x= base_model(x, training=False)\n",
        "\n",
        "x= layers.GlobalAveragePooling2D(name=\"global_average_pooling2D\")(x)\n",
        "\n",
        "# To minimize Overfitting of the model\n",
        "x = tf.keras.layers.Dropout(0.5)(x)\n",
        "\n",
        "outputs= layers.Dense(CLASS_COUNT, activation=\"softmax\", name=\"output_layer\")(x)\n",
        "\n",
        "model_3= keras.Model(inputs, outputs)\n",
        "\n",
        "model_3.compile(loss=\"categorical_crossentropy\", metrics=[\"accuracy\"], optimizer=tf.keras.optimizers.Adam(learning_rate=0.0001))\n",
        "\n",
        "history_3_10_percent= model_3.fit(train_data_10_percent, \n",
        "                                  epochs=10, steps_per_epoch=len(train_data_10_percent), \n",
        "                                  validation_data=test_data, validation_steps=int(0.15 * len(test_data)), \n",
        "                                  callbacks=[create_tensorboard_callback(dir_name=\"transfer_learning\", experiment_name=\"10_percent_data_augmented_feature_extraction\")])\n",
        "\n"
      ]
    },
    {
      "cell_type": "code",
      "execution_count": 34,
      "metadata": {
        "colab": {
          "base_uri": "https://localhost:8080/"
        },
        "id": "Y1ull_q5d4F1",
        "outputId": "1d3a5a6c-991d-4617-8433-4d4c9494cdd6"
      },
      "outputs": [
        {
          "name": "stdout",
          "output_type": "stream",
          "text": [
            "790/790 [==============================] - 59s 74ms/step - loss: 2.7477 - accuracy: 0.4366\n"
          ]
        },
        {
          "data": {
            "text/plain": [
              "[2.7477200031280518, 0.43659406900405884]"
            ]
          },
          "execution_count": 34,
          "metadata": {},
          "output_type": "execute_result"
        }
      ],
      "source": [
        "model_3.evaluate(test_data)"
      ]
    },
    {
      "cell_type": "code",
      "execution_count": 35,
      "metadata": {
        "colab": {
          "base_uri": "https://localhost:8080/",
          "height": 573
        },
        "id": "nKaUq2End81E",
        "outputId": "25491b2a-3b83-4256-a7ad-28ac299b9745"
      },
      "outputs": [
        {
          "data": {
            "image/png": "[encoded data removed]",
            "text/plain": [
              "<Figure size 432x288 with 1 Axes>"
            ]
          },
          "metadata": {
            "needs_background": "light"
          },
          "output_type": "display_data"
        },
        {
          "data": {
            "image/png": "[encoded data removed]",
            "text/plain": [
              "<Figure size 432x288 with 1 Axes>"
            ]
          },
          "metadata": {
            "needs_background": "light"
          },
          "output_type": "display_data"
        }
      ],
      "source": [
        "plot_loss_curves(history_3_10_percent)"
      ]
    },
    {
      "cell_type": "markdown",
      "metadata": {
        "id": "W7c_U_Rvfxps"
      },
      "source": [
        "> Let's try a learning_rate of `0.01`"
      ]
    },
    {
      "cell_type": "code",
      "execution_count": 36,
      "metadata": {
        "colab": {
          "base_uri": "https://localhost:8080/"
        },
        "id": "syP3Mfwzf3GM",
        "outputId": "cfeee43b-6900-4fc1-b336-9d1fa486a89a"
      },
      "outputs": [
        {
          "name": "stdout",
          "output_type": "stream",
          "text": [
            "Saving TensorBoard log files to: transfer_learning/10_percent_data_augmented_feature_extraction/20220802-074154\n",
            "Epoch 1/10\n",
            "237/237 [==============================] - ETA: 0s - loss: 3.7423 - accuracy: 0.2478\n",
            "Epoch 1: val_accuracy did not improve from 0.56784\n",
            "237/237 [==============================] - 37s 130ms/step - loss: 3.7423 - accuracy: 0.2478 - val_loss: 2.3423 - val_accuracy: 0.4367\n",
            "Epoch 2/10\n",
            "237/237 [==============================] - ETA: 0s - loss: 3.1282 - accuracy: 0.3756\n",
            "Epoch 2: val_accuracy did not improve from 0.56784\n",
            "237/237 [==============================] - 30s 122ms/step - loss: 3.1282 - accuracy: 0.3756 - val_loss: 2.7185 - val_accuracy: 0.4195\n",
            "Epoch 3/10\n",
            "237/237 [==============================] - ETA: 0s - loss: 3.0153 - accuracy: 0.4124\n",
            "Epoch 3: val_accuracy did not improve from 0.56784\n",
            "237/237 [==============================] - 31s 129ms/step - loss: 3.0153 - accuracy: 0.4124 - val_loss: 2.7294 - val_accuracy: 0.4356\n",
            "Epoch 4/10\n",
            "237/237 [==============================] - ETA: 0s - loss: 2.9899 - accuracy: 0.4354\n",
            "Epoch 4: val_accuracy did not improve from 0.56784\n",
            "237/237 [==============================] - 31s 130ms/step - loss: 2.9899 - accuracy: 0.4354 - val_loss: 2.7056 - val_accuracy: 0.4632\n",
            "Epoch 5/10\n",
            "237/237 [==============================] - ETA: 0s - loss: 2.9868 - accuracy: 0.4500\n",
            "Epoch 5: val_accuracy did not improve from 0.56784\n",
            "237/237 [==============================] - 31s 128ms/step - loss: 2.9868 - accuracy: 0.4500 - val_loss: 3.1908 - val_accuracy: 0.4319\n",
            "Epoch 6/10\n",
            "237/237 [==============================] - ETA: 0s - loss: 3.0661 - accuracy: 0.4602\n",
            "Epoch 6: val_accuracy did not improve from 0.56784\n",
            "237/237 [==============================] - 31s 129ms/step - loss: 3.0661 - accuracy: 0.4602 - val_loss: 3.0667 - val_accuracy: 0.4441\n",
            "Epoch 7/10\n",
            "237/237 [==============================] - ETA: 0s - loss: 3.0256 - accuracy: 0.4723\n",
            "Epoch 7: val_accuracy did not improve from 0.56784\n",
            "237/237 [==============================] - 30s 126ms/step - loss: 3.0256 - accuracy: 0.4723 - val_loss: 3.0971 - val_accuracy: 0.4447\n",
            "Epoch 8/10\n",
            "237/237 [==============================] - ETA: 0s - loss: 3.0556 - accuracy: 0.4808\n",
            "Epoch 8: val_accuracy did not improve from 0.56784\n",
            "237/237 [==============================] - 31s 127ms/step - loss: 3.0556 - accuracy: 0.4808 - val_loss: 3.1958 - val_accuracy: 0.4521\n",
            "Epoch 9/10\n",
            "237/237 [==============================] - ETA: 0s - loss: 3.0377 - accuracy: 0.4867\n",
            "Epoch 9: val_accuracy did not improve from 0.56784\n",
            "237/237 [==============================] - 32s 134ms/step - loss: 3.0377 - accuracy: 0.4867 - val_loss: 3.4796 - val_accuracy: 0.4219\n",
            "Epoch 10/10\n",
            "237/237 [==============================] - ETA: 0s - loss: 2.9982 - accuracy: 0.4925\n",
            "Epoch 10: val_accuracy did not improve from 0.56784\n",
            "237/237 [==============================] - 31s 128ms/step - loss: 2.9982 - accuracy: 0.4925 - val_loss: 3.5010 - val_accuracy: 0.4481\n"
          ]
        }
      ],
      "source": [
        "input_shape=(224,224,3)\n",
        "\n",
        "base_model= EfficientNetB0(include_top=False)\n",
        "base_model.trainable= False\n",
        "\n",
        "inputs= tf.keras.layers.Input(shape=input_shape, name=\"input_layer\")\n",
        "\n",
        "x= augmented_layer(inputs)\n",
        "\n",
        "x= base_model(x, training=False)\n",
        "\n",
        "x= layers.GlobalAveragePooling2D(name=\"global_average_pooling2D\")(x)\n",
        "\n",
        "# To minimize Overfitting of the model\n",
        "x = tf.keras.layers.Dropout(0.5)(x)\n",
        "\n",
        "outputs= layers.Dense(CLASS_COUNT, activation=\"softmax\", name=\"output_layer\")(x)\n",
        "\n",
        "model_4= keras.Model(inputs, outputs)\n",
        "\n",
        "model_4.compile(loss=\"categorical_crossentropy\", metrics=[\"accuracy\"], optimizer=tf.keras.optimizers.Adam(learning_rate=0.01))\n",
        "\n",
        "history_4_10_percent= model_4.fit(train_data_10_percent, \n",
        "                                  epochs=10, steps_per_epoch=len(train_data_10_percent), \n",
        "                                  validation_data=test_data, validation_steps=int(0.15 * len(test_data)), \n",
        "                                  callbacks=[create_tensorboard_callback(dir_name=\"transfer_learning\", experiment_name=\"10_percent_data_augmented_feature_extraction\")])\n",
        "\n"
      ]
    },
    {
      "cell_type": "code",
      "execution_count": 37,
      "metadata": {
        "colab": {
          "base_uri": "https://localhost:8080/"
        },
        "id": "eUC0OoPJhJXR",
        "outputId": "77a60896-be6d-4183-8ea7-79f81f304e39"
      },
      "outputs": [
        {
          "name": "stdout",
          "output_type": "stream",
          "text": [
            "790/790 [==============================] - 59s 74ms/step - loss: 2.8869 - accuracy: 0.5105\n"
          ]
        },
        {
          "data": {
            "text/plain": [
              "[2.88688325881958, 0.5104950666427612]"
            ]
          },
          "execution_count": 37,
          "metadata": {},
          "output_type": "execute_result"
        }
      ],
      "source": [
        "model_4.evaluate(test_data)"
      ]
    },
    {
      "cell_type": "code",
      "execution_count": 38,
      "metadata": {
        "colab": {
          "base_uri": "https://localhost:8080/",
          "height": 573
        },
        "id": "T1BMwos0hOaJ",
        "outputId": "fcbde646-1859-43f7-ac1f-e76d8db5ed7c"
      },
      "outputs": [
        {
          "data": {
            "image/png": "[encoded data removed]",
            "text/plain": [
              "<Figure size 432x288 with 1 Axes>"
            ]
          },
          "metadata": {
            "needs_background": "light"
          },
          "output_type": "display_data"
        },
        {
          "data": {
            "image/png": "[encoded data removed]",
            "text/plain": [
              "<Figure size 432x288 with 1 Axes>"
            ]
          },
          "metadata": {
            "needs_background": "light"
          },
          "output_type": "display_data"
        }
      ],
      "source": [
        "plot_loss_curves(history_4_10_percent)"
      ]
    },
    {
      "cell_type": "markdown",
      "metadata": {
        "id": "1BEUu-kHiCYm"
      },
      "source": [
        "> `0.01`  learning_rate is not the one, as the `validation_loss` is all over the place and it is increasing at the later epochs"
      ]
    },
    {
      "cell_type": "markdown",
      "metadata": {
        "id": "h2zYMDCmjagI"
      },
      "source": [
        "Let's try learning rate of `0.0005` as this falls between `0.0001` and `0.001` learning rates"
      ]
    },
    {
      "cell_type": "code",
      "execution_count": 39,
      "metadata": {
        "colab": {
          "base_uri": "https://localhost:8080/"
        },
        "id": "ZSJhouaejo_4",
        "outputId": "b40853bf-aece-499a-8728-8bada8c777cf"
      },
      "outputs": [
        {
          "name": "stdout",
          "output_type": "stream",
          "text": [
            "Saving TensorBoard log files to: transfer_learning/10_percent_data_augmented_feature_extraction/20220802-075756\n",
            "Epoch 1/10\n",
            "237/237 [==============================] - ETA: 0s - loss: 4.1714 - accuracy: 0.1009\n",
            "Epoch 1: val_accuracy did not improve from 0.56784\n",
            "237/237 [==============================] - 37s 126ms/step - loss: 4.1714 - accuracy: 0.1009 - val_loss: 3.5183 - val_accuracy: 0.2926\n",
            "Epoch 2/10\n",
            "237/237 [==============================] - ETA: 0s - loss: 3.2505 - accuracy: 0.2824\n",
            "Epoch 2: val_accuracy did not improve from 0.56784\n",
            "237/237 [==============================] - 29s 120ms/step - loss: 3.2505 - accuracy: 0.2824 - val_loss: 2.9276 - val_accuracy: 0.3930\n",
            "Epoch 3/10\n",
            "237/237 [==============================] - ETA: 0s - loss: 2.7949 - accuracy: 0.3665\n",
            "Epoch 3: val_accuracy did not improve from 0.56784\n",
            "237/237 [==============================] - 31s 130ms/step - loss: 2.7949 - accuracy: 0.3665 - val_loss: 2.6073 - val_accuracy: 0.4486\n",
            "Epoch 4/10\n",
            "237/237 [==============================] - ETA: 0s - loss: 2.5387 - accuracy: 0.4087\n",
            "Epoch 4: val_accuracy did not improve from 0.56784\n",
            "237/237 [==============================] - 31s 130ms/step - loss: 2.5387 - accuracy: 0.4087 - val_loss: 2.4166 - val_accuracy: 0.4661\n",
            "Epoch 5/10\n",
            "237/237 [==============================] - ETA: 0s - loss: 2.3579 - accuracy: 0.4433\n",
            "Epoch 5: val_accuracy did not improve from 0.56784\n",
            "237/237 [==============================] - 29s 119ms/step - loss: 2.3579 - accuracy: 0.4433 - val_loss: 2.2944 - val_accuracy: 0.4751\n",
            "Epoch 6/10\n",
            "237/237 [==============================] - ETA: 0s - loss: 2.2255 - accuracy: 0.4671\n",
            "Epoch 6: val_accuracy did not improve from 0.56784\n",
            "237/237 [==============================] - 31s 128ms/step - loss: 2.2255 - accuracy: 0.4671 - val_loss: 2.1984 - val_accuracy: 0.4894\n",
            "Epoch 7/10\n",
            "237/237 [==============================] - ETA: 0s - loss: 2.1216 - accuracy: 0.4898\n",
            "Epoch 7: val_accuracy did not improve from 0.56784\n",
            "237/237 [==============================] - 31s 129ms/step - loss: 2.1216 - accuracy: 0.4898 - val_loss: 2.1355 - val_accuracy: 0.4958\n",
            "Epoch 8/10\n",
            "237/237 [==============================] - ETA: 0s - loss: 2.0346 - accuracy: 0.4958\n",
            "Epoch 8: val_accuracy did not improve from 0.56784\n",
            "237/237 [==============================] - 30s 123ms/step - loss: 2.0346 - accuracy: 0.4958 - val_loss: 2.0894 - val_accuracy: 0.4968\n",
            "Epoch 9/10\n",
            "237/237 [==============================] - ETA: 0s - loss: 1.9611 - accuracy: 0.5251\n",
            "Epoch 9: val_accuracy did not improve from 0.56784\n",
            "237/237 [==============================] - 30s 126ms/step - loss: 1.9611 - accuracy: 0.5251 - val_loss: 2.0469 - val_accuracy: 0.5005\n",
            "Epoch 10/10\n",
            "237/237 [==============================] - ETA: 0s - loss: 1.9157 - accuracy: 0.5317\n",
            "Epoch 10: val_accuracy did not improve from 0.56784\n",
            "237/237 [==============================] - 28s 118ms/step - loss: 1.9157 - accuracy: 0.5317 - val_loss: 2.0136 - val_accuracy: 0.5095\n"
          ]
        }
      ],
      "source": [
        "input_shape=(224,224,3)\n",
        "\n",
        "base_model= EfficientNetB0(include_top=False)\n",
        "base_model.trainable= False\n",
        "\n",
        "inputs= tf.keras.layers.Input(shape=input_shape, name=\"input_layer\")\n",
        "\n",
        "x= augmented_layer(inputs)\n",
        "\n",
        "x= base_model(x, training=False)\n",
        "\n",
        "x= layers.GlobalAveragePooling2D(name=\"global_average_pooling2D\")(x)\n",
        "\n",
        "# To minimize Overfitting of the model\n",
        "x = tf.keras.layers.Dropout(0.5)(x)\n",
        "\n",
        "outputs= layers.Dense(CLASS_COUNT, activation=\"softmax\", name=\"output_layer\")(x)\n",
        "\n",
        "model_5= keras.Model(inputs, outputs)\n",
        "\n",
        "model_5.compile(loss=\"categorical_crossentropy\", metrics=[\"accuracy\"], optimizer=tf.keras.optimizers.Adam(learning_rate=0.0005))\n",
        "\n",
        "history_5_10_percent= model_5.fit(train_data_10_percent, \n",
        "                                  epochs=10, steps_per_epoch=len(train_data_10_percent), \n",
        "                                  validation_data=test_data, validation_steps=int(0.15 * len(test_data)), \n",
        "                                  callbacks=[create_tensorboard_callback(dir_name=\"transfer_learning\", experiment_name=\"10_percent_data_augmented_feature_extraction\")])\n",
        "\n"
      ]
    },
    {
      "cell_type": "code",
      "execution_count": 40,
      "metadata": {
        "colab": {
          "base_uri": "https://localhost:8080/"
        },
        "id": "LR6GYKArpJHy",
        "outputId": "03b69823-4773-41fe-af8a-d9dd2c73a0df"
      },
      "outputs": [
        {
          "name": "stdout",
          "output_type": "stream",
          "text": [
            "790/790 [==============================] - 58s 74ms/step - loss: 1.7934 - accuracy: 0.5506\n"
          ]
        },
        {
          "data": {
            "text/plain": [
              "[1.7933847904205322, 0.5506138801574707]"
            ]
          },
          "execution_count": 40,
          "metadata": {},
          "output_type": "execute_result"
        }
      ],
      "source": [
        "model_5.evaluate(test_data)"
      ]
    },
    {
      "cell_type": "code",
      "execution_count": 41,
      "metadata": {
        "colab": {
          "base_uri": "https://localhost:8080/",
          "height": 573
        },
        "id": "3N6t1XNEpM7d",
        "outputId": "35a0d17a-6aff-4b5c-9b43-fb6f981f4cd1"
      },
      "outputs": [
        {
          "data": {
            "image/png": "[encoded data removed]",
            "text/plain": [
              "<Figure size 432x288 with 1 Axes>"
            ]
          },
          "metadata": {
            "needs_background": "light"
          },
          "output_type": "display_data"
        },
        {
          "data": {
            "image/png": "[encoded data removed]",
            "text/plain": [
              "<Figure size 432x288 with 1 Axes>"
            ]
          },
          "metadata": {
            "needs_background": "light"
          },
          "output_type": "display_data"
        }
      ],
      "source": [
        "plot_loss_curves(history_5_10_percent)"
      ]
    },
    {
      "cell_type": "markdown",
      "metadata": {
        "id": "_Tiw369vpr4Y"
      },
      "source": [
        "## Conclusion\n",
        "\n",
        "> From the above experiments, we can see that with the help of `Dropout` layer and changing/altering the learning rate of the optimizer has helped with lower the `overfitting` problem of the model.\n",
        "\n",
        "> We can use either `0.0005` or `0.0001` as the learning rate value.\n",
        "\n",
        "\n",
        "> `model_5` is the final feature_extraction model, we will `train it again` to `save the weights` of the model. This model will be used for `fine-tuning` later on"
      ]
    },
    {
      "cell_type": "markdown",
      "metadata": {
        "id": "g2MwfPJKu3bk"
      },
      "source": [
        "## Training `model_5` again to save the weights of the model"
      ]
    },
    {
      "cell_type": "code",
      "execution_count": 42,
      "metadata": {
        "colab": {
          "base_uri": "https://localhost:8080/"
        },
        "id": "fvQisva4vABr",
        "outputId": "03aef654-083b-4098-ac08-5abea47da685"
      },
      "outputs": [
        {
          "name": "stdout",
          "output_type": "stream",
          "text": [
            "Saving TensorBoard log files to: transfer_learning/10_percent_data_augmented_feature_extraction_final/20220802-084747\n",
            "Epoch 1/10\n",
            "237/237 [==============================] - ETA: 0s - loss: 4.1663 - accuracy: 0.0974\n",
            "Epoch 1: val_accuracy did not improve from 0.56784\n",
            "237/237 [==============================] - 35s 121ms/step - loss: 4.1663 - accuracy: 0.0974 - val_loss: 3.5370 - val_accuracy: 0.2677\n",
            "Epoch 2/10\n",
            "237/237 [==============================] - ETA: 0s - loss: 3.2514 - accuracy: 0.2768\n",
            "Epoch 2: val_accuracy did not improve from 0.56784\n",
            "237/237 [==============================] - 28s 116ms/step - loss: 3.2514 - accuracy: 0.2768 - val_loss: 2.9691 - val_accuracy: 0.3700\n",
            "Epoch 3/10\n",
            "237/237 [==============================] - ETA: 0s - loss: 2.8014 - accuracy: 0.3617\n",
            "Epoch 3: val_accuracy did not improve from 0.56784\n",
            "237/237 [==============================] - 31s 130ms/step - loss: 2.8014 - accuracy: 0.3617 - val_loss: 2.6234 - val_accuracy: 0.4303\n",
            "Epoch 4/10\n",
            "237/237 [==============================] - ETA: 0s - loss: 2.5459 - accuracy: 0.4125\n",
            "Epoch 4: val_accuracy did not improve from 0.56784\n",
            "237/237 [==============================] - 28s 117ms/step - loss: 2.5459 - accuracy: 0.4125 - val_loss: 2.4183 - val_accuracy: 0.4590\n",
            "Epoch 5/10\n",
            "237/237 [==============================] - ETA: 0s - loss: 2.3562 - accuracy: 0.4399\n",
            "Epoch 5: val_accuracy did not improve from 0.56784\n",
            "237/237 [==============================] - 30s 125ms/step - loss: 2.3562 - accuracy: 0.4399 - val_loss: 2.2900 - val_accuracy: 0.4703\n",
            "Epoch 6/10\n",
            "237/237 [==============================] - ETA: 0s - loss: 2.2329 - accuracy: 0.4713\n",
            "Epoch 6: val_accuracy did not improve from 0.56784\n",
            "237/237 [==============================] - 30s 123ms/step - loss: 2.2329 - accuracy: 0.4713 - val_loss: 2.2003 - val_accuracy: 0.4809\n",
            "Epoch 7/10\n",
            "237/237 [==============================] - ETA: 0s - loss: 2.1273 - accuracy: 0.4912\n",
            "Epoch 7: val_accuracy did not improve from 0.56784\n",
            "237/237 [==============================] - 28s 117ms/step - loss: 2.1273 - accuracy: 0.4912 - val_loss: 2.1369 - val_accuracy: 0.4862\n",
            "Epoch 8/10\n",
            "237/237 [==============================] - ETA: 0s - loss: 2.0262 - accuracy: 0.5024\n",
            "Epoch 8: val_accuracy did not improve from 0.56784\n",
            "237/237 [==============================] - 28s 117ms/step - loss: 2.0262 - accuracy: 0.5024 - val_loss: 2.0735 - val_accuracy: 0.4942\n",
            "Epoch 9/10\n",
            "237/237 [==============================] - ETA: 0s - loss: 1.9697 - accuracy: 0.5151\n",
            "Epoch 9: val_accuracy did not improve from 0.56784\n",
            "237/237 [==============================] - 28s 117ms/step - loss: 1.9697 - accuracy: 0.5151 - val_loss: 2.0339 - val_accuracy: 0.4955\n",
            "Epoch 10/10\n",
            "237/237 [==============================] - ETA: 0s - loss: 1.9180 - accuracy: 0.5283\n",
            "Epoch 10: val_accuracy did not improve from 0.56784\n",
            "237/237 [==============================] - 29s 122ms/step - loss: 1.9180 - accuracy: 0.5283 - val_loss: 1.9999 - val_accuracy: 0.5032\n"
          ]
        }
      ],
      "source": [
        "input_shape=(224,224,3)\n",
        "\n",
        "base_model= EfficientNetB0(include_top=False)\n",
        "base_model.trainable= False\n",
        "\n",
        "inputs= tf.keras.layers.Input(shape=input_shape, name=\"input_layer\")\n",
        "\n",
        "x= augmented_layer(inputs)\n",
        "\n",
        "x= base_model(x, training=False)\n",
        "\n",
        "x= layers.GlobalAveragePooling2D(name=\"global_average_pooling2D\")(x)\n",
        "\n",
        "# To minimize Overfitting of the model\n",
        "x = tf.keras.layers.Dropout(0.5)(x)\n",
        "\n",
        "outputs= layers.Dense(CLASS_COUNT, activation=\"softmax\", name=\"output_layer\")(x)\n",
        "\n",
        "model_final= keras.Model(inputs, outputs)\n",
        "\n",
        "model_final.compile(loss=\"categorical_crossentropy\", metrics=[\"accuracy\"], optimizer=tf.keras.optimizers.Adam(learning_rate=0.0005))\n",
        "\n",
        "history_final_10_percent= model_final.fit(train_data_10_percent, \n",
        "                                  epochs=10, steps_per_epoch=len(train_data_10_percent), \n",
        "                                  validation_data=test_data, validation_steps=int(0.15 * len(test_data)), \n",
        "                                  callbacks=[create_tensorboard_callback(dir_name=\"transfer_learning\", experiment_name=\"10_percent_data_augmented_feature_extraction_final\"), model_check_point_callback])\n",
        "\n"
      ]
    },
    {
      "cell_type": "code",
      "execution_count": 43,
      "metadata": {
        "colab": {
          "base_uri": "https://localhost:8080/"
        },
        "id": "Bw_B4AjkvZEp",
        "outputId": "1d2fd574-220a-4877-f46c-4cdbde2758a9"
      },
      "outputs": [
        {
          "name": "stdout",
          "output_type": "stream",
          "text": [
            "790/790 [==============================] - 58s 73ms/step - loss: 1.7924 - accuracy: 0.5472\n"
          ]
        },
        {
          "data": {
            "text/plain": [
              "[1.792427897453308, 0.5471683144569397]"
            ]
          },
          "execution_count": 43,
          "metadata": {},
          "output_type": "execute_result"
        }
      ],
      "source": [
        "model_final.evaluate(test_data)"
      ]
    },
    {
      "cell_type": "code",
      "execution_count": null,
      "metadata": {
        "id": "SdvIrhW_18jD"
      },
      "outputs": [],
      "source": [
        "result_final_feature_exctration= model_final.evaluate(test_data)\n",
        "result_final_feature_exctration"
      ]
    },
    {
      "cell_type": "code",
      "execution_count": 44,
      "metadata": {
        "colab": {
          "base_uri": "https://localhost:8080/",
          "height": 573
        },
        "id": "N-EUM5-2wlJF",
        "outputId": "e9b93e04-5d11-4b91-b85b-9b0fc22d85e0"
      },
      "outputs": [
        {
          "data": {
            "image/png": "[encoded data removed]",
            "text/plain": [
              "<Figure size 432x288 with 1 Axes>"
            ]
          },
          "metadata": {
            "needs_background": "light"
          },
          "output_type": "display_data"
        },
        {
          "data": {
            "image/png": "[encoded data removed]",
            "text/plain": [
              "<Figure size 432x288 with 1 Axes>"
            ]
          },
          "metadata": {
            "needs_background": "light"
          },
          "output_type": "display_data"
        }
      ],
      "source": [
        "plot_loss_curves(history_final_10_percent)"
      ]
    },
    {
      "cell_type": "markdown",
      "metadata": {
        "id": "_0rfCZ_NkzVx"
      },
      "source": [
        "## Unfreezing the last `20` layers for Fine-tuning `model_final`\n",
        "\n",
        "* Learning Rate is `0.0005`"
      ]
    },
    {
      "cell_type": "code",
      "execution_count": 45,
      "metadata": {
        "id": "n9k7wtHykSES"
      },
      "outputs": [],
      "source": [
        "base_model.trainable= True\n",
        "\n",
        "for layer in base_model.layers[:-20]:\n",
        "  layer.trainable= False\n",
        "\n",
        "\n",
        "model_final.compile(loss=\"categorical_crossentropy\", metrics=[\"accuracy\"], optimizer=tf.keras.optimizers.Adam(learning_rate=0.00005))"
      ]
    },
    {
      "cell_type": "code",
      "execution_count": 47,
      "metadata": {
        "colab": {
          "base_uri": "https://localhost:8080/"
        },
        "id": "OiUnXJekmKNp",
        "outputId": "dfbaf6c1-6bf6-48f3-c798-4c0db023eb05"
      },
      "outputs": [
        {
          "name": "stdout",
          "output_type": "stream",
          "text": [
            "<keras.layers.convolutional.Conv2D object at 0x7efe13312150> block6d_project_conv True\n",
            "<keras.layers.normalization.batch_normalization.BatchNormalization object at 0x7efe13319050> block6d_project_bn True\n",
            "<keras.layers.core.dropout.Dropout object at 0x7efe13324f50> block6d_drop True\n",
            "<keras.layers.merge.Add object at 0x7efe1331e910> block6d_add True\n",
            "<keras.layers.convolutional.Conv2D object at 0x7efe132a9590> block7a_expand_conv True\n",
            "<keras.layers.normalization.batch_normalization.BatchNormalization object at 0x7efe132b30d0> block7a_expand_bn True\n",
            "<keras.layers.core.activation.Activation object at 0x7efe132b92d0> block7a_expand_activation True\n",
            "<keras.layers.convolutional.DepthwiseConv2D object at 0x7efe132b3490> block7a_dwconv True\n",
            "<keras.layers.normalization.batch_normalization.BatchNormalization object at 0x7efe132ca910> block7a_bn True\n",
            "<keras.layers.core.activation.Activation object at 0x7efe132cfb10> block7a_activation True\n",
            "<keras.layers.pooling.GlobalAveragePooling2D object at 0x7efe132cfad0> block7a_se_squeeze True\n",
            "<keras.layers.core.reshape.Reshape object at 0x7efe132d9d10> block7a_se_reshape True\n",
            "<keras.layers.convolutional.Conv2D object at 0x7efe132e7d50> block7a_se_reduce True\n",
            "<keras.layers.convolutional.Conv2D object at 0x7efe132e21d0> block7a_se_expand True\n",
            "<keras.layers.merge.Multiply object at 0x7efe12132a10> block7a_se_excite True\n",
            "<keras.layers.convolutional.Conv2D object at 0x7efe1213b450> block7a_project_conv True\n",
            "<keras.layers.normalization.batch_normalization.BatchNormalization object at 0x7efe12129690> block7a_project_bn True\n",
            "<keras.layers.convolutional.Conv2D object at 0x7efe135f0a10> top_conv True\n",
            "<keras.layers.normalization.batch_normalization.BatchNormalization object at 0x7efe133031d0> top_bn True\n",
            "<keras.layers.core.activation.Activation object at 0x7efe1331e5d0> top_activation True\n"
          ]
        }
      ],
      "source": [
        "for layer in model_final.layers[2].layers:\n",
        "  if layer.trainable == True:\n",
        "    print(layer, layer.name, layer.trainable)"
      ]
    },
    {
      "cell_type": "code",
      "execution_count": 48,
      "metadata": {
        "colab": {
          "base_uri": "https://localhost:8080/"
        },
        "id": "r0aHUVxlmfSa",
        "outputId": "a4a78205-47c5-4121-a132-5e3bbd92bdc3"
      },
      "outputs": [
        {
          "data": {
            "text/plain": [
              "21"
            ]
          },
          "execution_count": 48,
          "metadata": {},
          "output_type": "execute_result"
        }
      ],
      "source": [
        "len(model_final.trainable_variables)"
      ]
    },
    {
      "cell_type": "markdown",
      "metadata": {
        "id": "-ig1NVKxn_Y8"
      },
      "source": [
        "## Fine-Tuning `model_final` with `20` unfrozen layers"
      ]
    },
    {
      "cell_type": "code",
      "execution_count": 49,
      "metadata": {
        "colab": {
          "base_uri": "https://localhost:8080/"
        },
        "id": "oibLjZ0Zkwnk",
        "outputId": "80362dd1-a60b-4e66-a098-d41478cc7933"
      },
      "outputs": [
        {
          "name": "stdout",
          "output_type": "stream",
          "text": [
            "Saving TensorBoard log files to: transfer_learning/10_percent_fine_tune_last_20_layers/20220802-090242\n",
            "Epoch 10/20\n",
            "237/237 [==============================] - 41s 139ms/step - loss: 1.7360 - accuracy: 0.5484 - val_loss: 1.9411 - val_accuracy: 0.4939\n",
            "Epoch 11/20\n",
            "237/237 [==============================] - 30s 125ms/step - loss: 1.6438 - accuracy: 0.5729 - val_loss: 1.8786 - val_accuracy: 0.5066\n",
            "Epoch 12/20\n",
            "237/237 [==============================] - 31s 129ms/step - loss: 1.5775 - accuracy: 0.5850 - val_loss: 1.8220 - val_accuracy: 0.5228\n",
            "Epoch 13/20\n",
            "237/237 [==============================] - 30s 125ms/step - loss: 1.5136 - accuracy: 0.6003 - val_loss: 1.8270 - val_accuracy: 0.5267\n",
            "Epoch 14/20\n",
            "237/237 [==============================] - 29s 122ms/step - loss: 1.4548 - accuracy: 0.6187 - val_loss: 1.7996 - val_accuracy: 0.5286\n",
            "Epoch 15/20\n",
            "237/237 [==============================] - 31s 129ms/step - loss: 1.4217 - accuracy: 0.6189 - val_loss: 1.7958 - val_accuracy: 0.5373\n",
            "Epoch 16/20\n",
            "237/237 [==============================] - 29s 121ms/step - loss: 1.3696 - accuracy: 0.6366 - val_loss: 1.7531 - val_accuracy: 0.5408\n",
            "Epoch 17/20\n",
            "237/237 [==============================] - 31s 127ms/step - loss: 1.3479 - accuracy: 0.6407 - val_loss: 1.7434 - val_accuracy: 0.5410\n",
            "Epoch 18/20\n",
            "237/237 [==============================] - 29s 121ms/step - loss: 1.2835 - accuracy: 0.6531 - val_loss: 1.7619 - val_accuracy: 0.5350\n",
            "Epoch 19/20\n",
            "237/237 [==============================] - 29s 121ms/step - loss: 1.2533 - accuracy: 0.6606 - val_loss: 1.7258 - val_accuracy: 0.5490\n",
            "Epoch 20/20\n",
            "237/237 [==============================] - 31s 130ms/step - loss: 1.2141 - accuracy: 0.6747 - val_loss: 1.7566 - val_accuracy: 0.5448\n"
          ]
        }
      ],
      "source": [
        "inital_epochs=10\n",
        "fine_tune_epochs= inital_epochs + 10\n",
        "\n",
        "history_10_percent_20_unfrozen=model_final.fit(train_data_10_percent, epochs=fine_tune_epochs, initial_epoch= history_final_10_percent.epoch[-1], steps_per_epoch=len(train_data_10_percent), validation_data=test_data, validation_steps=int(0.15 * len(test_data)), callbacks=[create_tensorboard_callback(dir_name=\"transfer_learning\", experiment_name=\"10_percent_fine_tune_last_20_layers\")] )"
      ]
    },
    {
      "cell_type": "code",
      "execution_count": 50,
      "metadata": {
        "colab": {
          "base_uri": "https://localhost:8080/"
        },
        "id": "_CJA0E1pm0ha",
        "outputId": "e7bdc4b6-af51-48ce-bc5d-74d5cd9f1c5e"
      },
      "outputs": [
        {
          "name": "stdout",
          "output_type": "stream",
          "text": [
            "790/790 [==============================] - 58s 73ms/step - loss: 1.5089 - accuracy: 0.5976\n"
          ]
        },
        {
          "data": {
            "text/plain": [
              "[1.5089058876037598, 0.5976237654685974]"
            ]
          },
          "execution_count": 50,
          "metadata": {},
          "output_type": "execute_result"
        }
      ],
      "source": [
        "model_final.evaluate(test_data)"
      ]
    },
    {
      "cell_type": "code",
      "execution_count": 53,
      "metadata": {
        "colab": {
          "base_uri": "https://localhost:8080/",
          "height": 513
        },
        "id": "8Oahf0uNoK_7",
        "outputId": "e577253b-f257-4c15-ac81-c9dfd1201aae"
      },
      "outputs": [
        {
          "data": {
            "image/png": "[encoded data removed]",
            "text/plain": [
              "<Figure size 576x576 with 2 Axes>"
            ]
          },
          "metadata": {
            "needs_background": "light"
          },
          "output_type": "display_data"
        }
      ],
      "source": [
        "compare_historys(history_final_10_percent, history_10_percent_20_unfrozen)"
      ]
    },
    {
      "cell_type": "markdown",
      "metadata": {
        "id": "JHf8w7bJpIJd"
      },
      "source": [
        "> Model is `overfitting`, need to fit it."
      ]
    },
    {
      "cell_type": "code",
      "execution_count": 51,
      "metadata": {
        "colab": {
          "base_uri": "https://localhost:8080/"
        },
        "id": "6AjDT9UBwJdz",
        "outputId": "f8464b5d-16be-43c4-aae7-a858b4302131"
      },
      "outputs": [
        {
          "name": "stdout",
          "output_type": "stream",
          "text": [
            "Model: \"model_7\"\n",
            "_________________________________________________________________\n",
            " Layer (type)                Output Shape              Param #   \n",
            "=================================================================\n",
            " input_layer (InputLayer)    [(None, 224, 224, 3)]     0         \n",
            "                                                                 \n",
            " data_augmentation_layer (Se  (None, 224, 224, 3)      0         \n",
            " quential)                                                       \n",
            "                                                                 \n",
            " efficientnetb0 (Functional)  (None, None, None, 1280)  4049571  \n",
            "                                                                 \n",
            " global_average_pooling2D (G  (None, 1280)             0         \n",
            " lobalAveragePooling2D)                                          \n",
            "                                                                 \n",
            " dropout_6 (Dropout)         (None, 1280)              0         \n",
            "                                                                 \n",
            " output_layer (Dense)        (None, 101)               129381    \n",
            "                                                                 \n",
            "=================================================================\n",
            "Total params: 4,178,952\n",
            "Trainable params: 1,480,341\n",
            "Non-trainable params: 2,698,611\n",
            "_________________________________________________________________\n"
          ]
        }
      ],
      "source": [
        "model_final.summary()"
      ]
    },
    {
      "cell_type": "code",
      "execution_count": 52,
      "metadata": {
        "colab": {
          "base_uri": "https://localhost:8080/"
        },
        "id": "812iK0rNtxht",
        "outputId": "cb0bdfd1-8a79-436c-b0c3-ab4e3f9980ed"
      },
      "outputs": [
        {
          "name": "stdout",
          "output_type": "stream",
          "text": [
            "790/790 [==============================] - 58s 73ms/step - loss: 1.5089 - accuracy: 0.5976\n"
          ]
        },
        {
          "data": {
            "text/plain": [
              "[1.5089058876037598, 0.5976237654685974]"
            ]
          },
          "execution_count": 52,
          "metadata": {},
          "output_type": "execute_result"
        }
      ],
      "source": [
        "result_1_fine_tuning=model_final.evaluate(test_data)\n",
        "result_1_fine_tuning"
      ]
    },
    {
      "cell_type": "code",
      "execution_count": null,
      "metadata": {
        "colab": {
          "base_uri": "https://localhost:8080/"
        },
        "id": "oT9aNkz6yZAM",
        "outputId": "9cef7140-5f2f-45ab-8901-665316f30f58"
      },
      "outputs": [
        {
          "data": {
            "text/plain": [
              "[1.6306202411651611, 0.566891074180603]"
            ]
          },
          "execution_count": 32,
          "metadata": {},
          "output_type": "execute_result"
        }
      ],
      "source": [
        "result_final_feature_exctration"
      ]
    },
    {
      "cell_type": "markdown",
      "metadata": {
        "id": "m0Ojui2wygtW"
      },
      "source": [
        "## Saving and Loading Model"
      ]
    },
    {
      "cell_type": "code",
      "execution_count": 55,
      "metadata": {
        "colab": {
          "base_uri": "https://localhost:8080/"
        },
        "id": "h2Zmxg-py5O5",
        "outputId": "7fdab862-7daa-47aa-f3e4-4dd4f077f5db"
      },
      "outputs": [
        {
          "name": "stderr",
          "output_type": "stream",
          "text": [
            "WARNING:absl:Found untraced functions such as random_flip_layer_call_fn, random_flip_layer_call_and_return_conditional_losses, random_rotation_layer_call_fn, random_rotation_layer_call_and_return_conditional_losses, random_zoom_layer_call_fn while saving (showing 5 of 340). These functions will not be directly callable after loading.\n"
          ]
        },
        {
          "name": "stdout",
          "output_type": "stream",
          "text": [
            "INFO:tensorflow:Assets written to: /content/drive/MyDrive/Colab Notebooks/101_food_classes_10_percent_final_saved_model/assets\n"
          ]
        },
        {
          "name": "stderr",
          "output_type": "stream",
          "text": [
            "INFO:tensorflow:Assets written to: /content/drive/MyDrive/Colab Notebooks/101_food_classes_10_percent_final_saved_model/assets\n"
          ]
        }
      ],
      "source": [
        "model_final.save('/content/drive/MyDrive/Colab Notebooks/101_food_classes_10_percent_final_saved_model')"
      ]
    },
    {
      "cell_type": "code",
      "execution_count": 56,
      "metadata": {
        "id": "FjJpeTi5zZaN"
      },
      "outputs": [],
      "source": [
        "loaded_model= tf.keras.models.load_model('/content/drive/MyDrive/Colab Notebooks/101_food_classes_10_percent_final_saved_model')"
      ]
    },
    {
      "cell_type": "markdown",
      "metadata": {
        "id": "KAzB8s7_zpdK"
      },
      "source": [
        "## Evaluate Loaded model"
      ]
    },
    {
      "cell_type": "code",
      "execution_count": null,
      "metadata": {
        "colab": {
          "base_uri": "https://localhost:8080/"
        },
        "id": "j4mlpKzLzkk9",
        "outputId": "a9b9246b-63d0-4fe8-bcf8-03e111113b78"
      },
      "outputs": [
        {
          "name": "stdout",
          "output_type": "stream",
          "text": [
            "790/790 [==============================] - 60s 74ms/step - loss: 1.9961 - accuracy: 0.5733\n"
          ]
        },
        {
          "data": {
            "text/plain": [
              "[1.9961079359054565, 0.5733069181442261]"
            ]
          },
          "execution_count": 36,
          "metadata": {},
          "output_type": "execute_result"
        }
      ],
      "source": [
        "loaded_model.evaluate(test_data)"
      ]
    },
    {
      "cell_type": "code",
      "execution_count": null,
      "metadata": {
        "colab": {
          "base_uri": "https://localhost:8080/"
        },
        "id": "3iUYnNYLzoYk",
        "outputId": "b01470fb-830c-4439-ea82-c0ba0acc79c9"
      },
      "outputs": [
        {
          "data": {
            "text/plain": [
              "[1.9961079359054565, 0.5733069181442261]"
            ]
          },
          "execution_count": 37,
          "metadata": {},
          "output_type": "execute_result"
        }
      ],
      "source": [
        "result_1_fine_tuning"
      ]
    },
    {
      "cell_type": "markdown",
      "metadata": {
        "id": "GW6LcamwztP1"
      },
      "source": [
        "## Evaluating the performance of the `model_0` across different classes\n",
        "\n",
        "> Making some predictions, vizualizing the predictions\n",
        "\n",
        "> In other words, every time the trained model see's an image it will compare it to all of the patterns it learned during training and return an output for every class (all 101 of them) of how likely the image is to be that class"
      ]
    },
    {
      "cell_type": "markdown",
      "metadata": {
        "id": "ciVvsU-s0rxO"
      },
      "source": [
        "## Downloading a pre-trained model\n",
        "\n",
        "Link -> https://storage.googleapis.com/ztm_tf_course/food_vision/06_101_food_class_10_percent_saved_big_dog_model.zip"
      ]
    },
    {
      "cell_type": "code",
      "execution_count": null,
      "metadata": {
        "colab": {
          "base_uri": "https://localhost:8080/"
        },
        "id": "aFxOoU_51eJ1",
        "outputId": "57206fdb-8148-4099-84d4-ab553a89fe08"
      },
      "outputs": [
        {
          "name": "stdout",
          "output_type": "stream",
          "text": [
            "--2022-08-01 14:39:18--  https://storage.googleapis.com/ztm_tf_course/food_vision/06_101_food_class_10_percent_saved_big_dog_model.zip\n",
            "Resolving storage.googleapis.com (storage.googleapis.com)... 74.125.24.128, 142.250.4.128, 172.217.194.128, ...\n",
            "Connecting to storage.googleapis.com (storage.googleapis.com)|74.125.24.128|:443... connected.\n",
            "HTTP request sent, awaiting response... 200 OK\n",
            "Length: 46760742 (45M) [application/zip]\n",
            "Saving to: ‘06_101_food_class_10_percent_saved_big_dog_model.zip’\n",
            "\n",
            "06_101_food_class_1 100%[===================>]  44.59M  42.3MB/s    in 1.1s    \n",
            "\n",
            "2022-08-01 14:39:20 (42.3 MB/s) - ‘06_101_food_class_10_percent_saved_big_dog_model.zip’ saved [46760742/46760742]\n",
            "\n"
          ]
        }
      ],
      "source": [
        "!wget https://storage.googleapis.com/ztm_tf_course/food_vision/06_101_food_class_10_percent_saved_big_dog_model.zip"
      ]
    },
    {
      "cell_type": "code",
      "execution_count": null,
      "metadata": {
        "id": "pJayYI0z1fdb"
      },
      "outputs": [],
      "source": [
        "unzip_data('06_101_food_class_10_percent_saved_big_dog_model.zip')"
      ]
    },
    {
      "cell_type": "code",
      "execution_count": null,
      "metadata": {
        "colab": {
          "base_uri": "https://localhost:8080/"
        },
        "id": "9XgUdyvs1ik0",
        "outputId": "47e5f787-cd72-4b51-ff1e-8ceeae4f5cbc"
      },
      "outputs": [
        {
          "name": "stdout",
          "output_type": "stream",
          "text": [
            "WARNING:tensorflow:SavedModel saved prior to TF 2.5 detected when loading Keras model. Please ensure that you are saving the model with model.save() or tf.keras.models.save_model(), *NOT* tf.saved_model.save(). To confirm, there should be a file named \"keras_metadata.pb\" in the SavedModel directory.\n"
          ]
        },
        {
          "name": "stderr",
          "output_type": "stream",
          "text": [
            "WARNING:tensorflow:SavedModel saved prior to TF 2.5 detected when loading Keras model. Please ensure that you are saving the model with model.save() or tf.keras.models.save_model(), *NOT* tf.saved_model.save(). To confirm, there should be a file named \"keras_metadata.pb\" in the SavedModel directory.\n",
            "WARNING:absl:Importing a function (__inference_block6c_expand_activation_layer_call_and_return_conditional_losses_419470) with ops with unsaved custom gradients. Will likely fail if a gradient is requested.\n",
            "WARNING:absl:Importing a function (__inference_efficientnetb0_layer_call_and_return_conditional_losses_446460) with ops with unsaved custom gradients. Will likely fail if a gradient is requested.\n",
            "WARNING:absl:Importing a function (__inference_block2a_activation_layer_call_and_return_conditional_losses_450449) with ops with unsaved custom gradients. Will likely fail if a gradient is requested.\n",
            "WARNING:absl:Importing a function (__inference_block2a_expand_activation_layer_call_and_return_conditional_losses_415747) with ops with unsaved custom gradients. Will likely fail if a gradient is requested.\n",
            "WARNING:absl:Importing a function (__inference_block2b_activation_layer_call_and_return_conditional_losses_416083) with ops with unsaved custom gradients. Will likely fail if a gradient is requested.\n",
            "WARNING:absl:Importing a function (__inference_block2b_activation_layer_call_and_return_conditional_losses_450775) with ops with unsaved custom gradients. Will likely fail if a gradient is requested.\n",
            "WARNING:absl:Importing a function (__inference_block4a_activation_layer_call_and_return_conditional_losses_451847) with ops with unsaved custom gradients. Will likely fail if a gradient is requested.\n",
            "WARNING:absl:Importing a function (__inference_block5a_expand_activation_layer_call_and_return_conditional_losses_417915) with ops with unsaved custom gradients. Will likely fail if a gradient is requested.\n",
            "WARNING:absl:Importing a function (__inference_block4a_se_reduce_layer_call_and_return_conditional_losses_451887) with ops with unsaved custom gradients. Will likely fail if a gradient is requested.\n",
            "WARNING:absl:Importing a function (__inference_block4c_expand_activation_layer_call_and_return_conditional_losses_452467) with ops with unsaved custom gradients. Will likely fail if a gradient is requested.\n",
            "WARNING:absl:Importing a function (__inference_functional_17_layer_call_and_return_conditional_losses_438312) with ops with unsaved custom gradients. Will likely fail if a gradient is requested.\n",
            "WARNING:absl:Importing a function (__inference_block4c_expand_activation_layer_call_and_return_conditional_losses_417583) with ops with unsaved custom gradients. Will likely fail if a gradient is requested.\n",
            "WARNING:absl:Importing a function (__inference_block5c_activation_layer_call_and_return_conditional_losses_418582) with ops with unsaved custom gradients. Will likely fail if a gradient is requested.\n",
            "WARNING:absl:Importing a function (__inference_block6a_se_reduce_layer_call_and_return_conditional_losses_454031) with ops with unsaved custom gradients. Will likely fail if a gradient is requested.\n",
            "WARNING:absl:Importing a function (__inference_block7a_activation_layer_call_and_return_conditional_losses_455436) with ops with unsaved custom gradients. Will likely fail if a gradient is requested.\n",
            "WARNING:absl:Importing a function (__inference_block1a_activation_layer_call_and_return_conditional_losses_415524) with ops with unsaved custom gradients. Will likely fail if a gradient is requested.\n",
            "WARNING:absl:Importing a function (__inference_block3b_activation_layer_call_and_return_conditional_losses_451474) with ops with unsaved custom gradients. Will likely fail if a gradient is requested.\n",
            "WARNING:absl:Importing a function (__inference_block4a_expand_activation_layer_call_and_return_conditional_losses_451768) with ops with unsaved custom gradients. Will likely fail if a gradient is requested.\n",
            "WARNING:absl:Importing a function (__inference_efficientnetb0_layer_call_and_return_conditional_losses_441729) with ops with unsaved custom gradients. Will likely fail if a gradient is requested.\n",
            "WARNING:absl:Importing a function (__inference_block6b_se_reduce_layer_call_and_return_conditional_losses_454357) with ops with unsaved custom gradients. Will likely fail if a gradient is requested.\n",
            "WARNING:absl:Importing a function (__inference_block3b_activation_layer_call_and_return_conditional_losses_416695) with ops with unsaved custom gradients. Will likely fail if a gradient is requested.\n",
            "WARNING:absl:Importing a function (__inference_block6b_expand_activation_layer_call_and_return_conditional_losses_454238) with ops with unsaved custom gradients. Will likely fail if a gradient is requested.\n",
            "WARNING:absl:Importing a function (__inference_functional_17_layer_call_and_return_conditional_losses_436681) with ops with unsaved custom gradients. Will likely fail if a gradient is requested.\n",
            "WARNING:absl:Importing a function (__inference_block2a_activation_layer_call_and_return_conditional_losses_415804) with ops with unsaved custom gradients. Will likely fail if a gradient is requested.\n",
            "WARNING:absl:Importing a function (__inference_block5a_activation_layer_call_and_return_conditional_losses_452919) with ops with unsaved custom gradients. Will likely fail if a gradient is requested.\n",
            "WARNING:absl:Importing a function (__inference_block5c_se_reduce_layer_call_and_return_conditional_losses_453658) with ops with unsaved custom gradients. Will likely fail if a gradient is requested.\n",
            "WARNING:absl:Importing a function (__inference_efficientnetb0_layer_call_and_return_conditional_losses_448082) with ops with unsaved custom gradients. Will likely fail if a gradient is requested.\n",
            "WARNING:absl:Importing a function (__inference_block6a_activation_layer_call_and_return_conditional_losses_418915) with ops with unsaved custom gradients. Will likely fail if a gradient is requested.\n",
            "WARNING:absl:Importing a function (__inference_block5c_expand_activation_layer_call_and_return_conditional_losses_453539) with ops with unsaved custom gradients. Will likely fail if a gradient is requested.\n",
            "WARNING:absl:Importing a function (__inference_block4c_se_reduce_layer_call_and_return_conditional_losses_452586) with ops with unsaved custom gradients. Will likely fail if a gradient is requested.\n",
            "WARNING:absl:Importing a function (__inference_block1a_se_reduce_layer_call_and_return_conditional_losses_450163) with ops with unsaved custom gradients. Will likely fail if a gradient is requested.\n",
            "WARNING:absl:Importing a function (__inference_block5a_se_reduce_layer_call_and_return_conditional_losses_418018) with ops with unsaved custom gradients. Will likely fail if a gradient is requested.\n",
            "WARNING:absl:Importing a function (__inference_block7a_expand_activation_layer_call_and_return_conditional_losses_455357) with ops with unsaved custom gradients. Will likely fail if a gradient is requested.\n",
            "WARNING:absl:Importing a function (__inference_block4c_activation_layer_call_and_return_conditional_losses_417639) with ops with unsaved custom gradients. Will likely fail if a gradient is requested.\n",
            "WARNING:absl:Importing a function (__inference_block3a_se_reduce_layer_call_and_return_conditional_losses_451188) with ops with unsaved custom gradients. Will likely fail if a gradient is requested.\n",
            "WARNING:absl:Importing a function (__inference_block7a_activation_layer_call_and_return_conditional_losses_420190) with ops with unsaved custom gradients. Will likely fail if a gradient is requested.\n",
            "WARNING:absl:Importing a function (__inference_stem_activation_layer_call_and_return_conditional_losses_415468) with ops with unsaved custom gradients. Will likely fail if a gradient is requested.\n",
            "WARNING:absl:Importing a function (__inference_block7a_se_reduce_layer_call_and_return_conditional_losses_455476) with ops with unsaved custom gradients. Will likely fail if a gradient is requested.\n",
            "WARNING:absl:Importing a function (__inference_block4b_se_reduce_layer_call_and_return_conditional_losses_417354) with ops with unsaved custom gradients. Will likely fail if a gradient is requested.\n",
            "WARNING:absl:Importing a function (__inference_block4b_se_reduce_layer_call_and_return_conditional_losses_452213) with ops with unsaved custom gradients. Will likely fail if a gradient is requested.\n",
            "WARNING:absl:Importing a function (__inference_block4b_activation_layer_call_and_return_conditional_losses_452173) with ops with unsaved custom gradients. Will likely fail if a gradient is requested.\n",
            "WARNING:absl:Importing a function (__inference_block1a_se_reduce_layer_call_and_return_conditional_losses_415571) with ops with unsaved custom gradients. Will likely fail if a gradient is requested.\n",
            "WARNING:absl:Importing a function (__inference_block3b_se_reduce_layer_call_and_return_conditional_losses_451514) with ops with unsaved custom gradients. Will likely fail if a gradient is requested.\n",
            "WARNING:absl:Importing a function (__inference_block5a_activation_layer_call_and_return_conditional_losses_417971) with ops with unsaved custom gradients. Will likely fail if a gradient is requested.\n",
            "WARNING:absl:Importing a function (__inference_block6c_se_reduce_layer_call_and_return_conditional_losses_454730) with ops with unsaved custom gradients. Will likely fail if a gradient is requested.\n",
            "WARNING:absl:Importing a function (__inference_block3b_se_reduce_layer_call_and_return_conditional_losses_416742) with ops with unsaved custom gradients. Will likely fail if a gradient is requested.\n",
            "WARNING:absl:Importing a function (__inference_block2a_se_reduce_layer_call_and_return_conditional_losses_450489) with ops with unsaved custom gradients. Will likely fail if a gradient is requested.\n",
            "WARNING:absl:Importing a function (__inference_block3a_activation_layer_call_and_return_conditional_losses_451148) with ops with unsaved custom gradients. Will likely fail if a gradient is requested.\n",
            "WARNING:absl:Importing a function (__inference_block5b_expand_activation_layer_call_and_return_conditional_losses_418194) with ops with unsaved custom gradients. Will likely fail if a gradient is requested.\n",
            "WARNING:absl:Importing a function (__inference_block3a_se_reduce_layer_call_and_return_conditional_losses_416463) with ops with unsaved custom gradients. Will likely fail if a gradient is requested.\n",
            "WARNING:absl:Importing a function (__inference_efficientnetb0_layer_call_and_return_conditional_losses_429711) with ops with unsaved custom gradients. Will likely fail if a gradient is requested.\n",
            "WARNING:absl:Importing a function (__inference_efficientnetb0_layer_call_and_return_conditional_losses_443351) with ops with unsaved custom gradients. Will likely fail if a gradient is requested.\n",
            "WARNING:absl:Importing a function (__inference_block5c_expand_activation_layer_call_and_return_conditional_losses_418526) with ops with unsaved custom gradients. Will likely fail if a gradient is requested.\n",
            "WARNING:absl:Importing a function (__inference_block5b_activation_layer_call_and_return_conditional_losses_453245) with ops with unsaved custom gradients. Will likely fail if a gradient is requested.\n",
            "WARNING:absl:Importing a function (__inference_block3a_activation_layer_call_and_return_conditional_losses_416416) with ops with unsaved custom gradients. Will likely fail if a gradient is requested.\n",
            "WARNING:absl:Importing a function (__inference_efficientnetb0_layer_call_and_return_conditional_losses_428089) with ops with unsaved custom gradients. Will likely fail if a gradient is requested.\n",
            "WARNING:absl:Importing a function (__inference_block2b_expand_activation_layer_call_and_return_conditional_losses_416027) with ops with unsaved custom gradients. Will likely fail if a gradient is requested.\n",
            "WARNING:absl:Importing a function (__inference_block6a_expand_activation_layer_call_and_return_conditional_losses_453912) with ops with unsaved custom gradients. Will likely fail if a gradient is requested.\n",
            "WARNING:absl:Importing a function (__inference_block4c_activation_layer_call_and_return_conditional_losses_452546) with ops with unsaved custom gradients. Will likely fail if a gradient is requested.\n",
            "WARNING:absl:Importing a function (__inference_block7a_se_reduce_layer_call_and_return_conditional_losses_420237) with ops with unsaved custom gradients. Will likely fail if a gradient is requested.\n",
            "WARNING:absl:Importing a function (__inference_block5c_se_reduce_layer_call_and_return_conditional_losses_418629) with ops with unsaved custom gradients. Will likely fail if a gradient is requested.\n",
            "WARNING:absl:Importing a function (__inference_block3a_expand_activation_layer_call_and_return_conditional_losses_416359) with ops with unsaved custom gradients. Will likely fail if a gradient is requested.\n",
            "WARNING:absl:Importing a function (__inference_block3b_expand_activation_layer_call_and_return_conditional_losses_451395) with ops with unsaved custom gradients. Will likely fail if a gradient is requested.\n",
            "WARNING:absl:Importing a function (__inference_block6c_activation_layer_call_and_return_conditional_losses_454690) with ops with unsaved custom gradients. Will likely fail if a gradient is requested.\n",
            "WARNING:absl:Importing a function (__inference_block6d_se_reduce_layer_call_and_return_conditional_losses_419905) with ops with unsaved custom gradients. Will likely fail if a gradient is requested.\n",
            "WARNING:absl:Importing a function (__inference_block6c_activation_layer_call_and_return_conditional_losses_419526) with ops with unsaved custom gradients. Will likely fail if a gradient is requested.\n",
            "WARNING:absl:Importing a function (__inference_block5b_se_reduce_layer_call_and_return_conditional_losses_418297) with ops with unsaved custom gradients. Will likely fail if a gradient is requested.\n",
            "WARNING:absl:Importing a function (__inference_block4b_expand_activation_layer_call_and_return_conditional_losses_452094) with ops with unsaved custom gradients. Will likely fail if a gradient is requested.\n",
            "WARNING:absl:Importing a function (__inference__wrapped_model_408990) with ops with unsaved custom gradients. Will likely fail if a gradient is requested.\n",
            "WARNING:absl:Importing a function (__inference_block5c_activation_layer_call_and_return_conditional_losses_453618) with ops with unsaved custom gradients. Will likely fail if a gradient is requested.\n",
            "WARNING:absl:Importing a function (__inference_block6d_expand_activation_layer_call_and_return_conditional_losses_454984) with ops with unsaved custom gradients. Will likely fail if a gradient is requested.\n",
            "WARNING:absl:Importing a function (__inference_block2b_expand_activation_layer_call_and_return_conditional_losses_450696) with ops with unsaved custom gradients. Will likely fail if a gradient is requested.\n",
            "WARNING:absl:Importing a function (__inference_block6a_expand_activation_layer_call_and_return_conditional_losses_418858) with ops with unsaved custom gradients. Will likely fail if a gradient is requested.\n",
            "WARNING:absl:Importing a function (__inference_stem_activation_layer_call_and_return_conditional_losses_450044) with ops with unsaved custom gradients. Will likely fail if a gradient is requested.\n",
            "WARNING:absl:Importing a function (__inference_block5b_activation_layer_call_and_return_conditional_losses_418250) with ops with unsaved custom gradients. Will likely fail if a gradient is requested.\n",
            "WARNING:absl:Importing a function (__inference_block6a_activation_layer_call_and_return_conditional_losses_453991) with ops with unsaved custom gradients. Will likely fail if a gradient is requested.\n",
            "WARNING:absl:Importing a function (__inference_block5b_se_reduce_layer_call_and_return_conditional_losses_453285) with ops with unsaved custom gradients. Will likely fail if a gradient is requested.\n",
            "WARNING:absl:Importing a function (__inference_block4a_expand_activation_layer_call_and_return_conditional_losses_416971) with ops with unsaved custom gradients. Will likely fail if a gradient is requested.\n",
            "WARNING:absl:Importing a function (__inference_top_activation_layer_call_and_return_conditional_losses_455683) with ops with unsaved custom gradients. Will likely fail if a gradient is requested.\n",
            "WARNING:absl:Importing a function (__inference_block2a_se_reduce_layer_call_and_return_conditional_losses_415851) with ops with unsaved custom gradients. Will likely fail if a gradient is requested.\n",
            "WARNING:absl:Importing a function (__inference_block5b_expand_activation_layer_call_and_return_conditional_losses_453166) with ops with unsaved custom gradients. Will likely fail if a gradient is requested.\n",
            "WARNING:absl:Importing a function (__inference_top_activation_layer_call_and_return_conditional_losses_420413) with ops with unsaved custom gradients. Will likely fail if a gradient is requested.\n",
            "WARNING:absl:Importing a function (__inference_block1a_activation_layer_call_and_return_conditional_losses_450123) with ops with unsaved custom gradients. Will likely fail if a gradient is requested.\n",
            "WARNING:absl:Importing a function (__inference_block4a_se_reduce_layer_call_and_return_conditional_losses_417075) with ops with unsaved custom gradients. Will likely fail if a gradient is requested.\n",
            "WARNING:absl:Importing a function (__inference_block5a_expand_activation_layer_call_and_return_conditional_losses_452840) with ops with unsaved custom gradients. Will likely fail if a gradient is requested.\n",
            "WARNING:absl:Importing a function (__inference_block4b_activation_layer_call_and_return_conditional_losses_417307) with ops with unsaved custom gradients. Will likely fail if a gradient is requested.\n",
            "WARNING:absl:Importing a function (__inference_block6d_activation_layer_call_and_return_conditional_losses_455063) with ops with unsaved custom gradients. Will likely fail if a gradient is requested.\n",
            "WARNING:absl:Importing a function (__inference_block6d_expand_activation_layer_call_and_return_conditional_losses_419802) with ops with unsaved custom gradients. Will likely fail if a gradient is requested.\n",
            "WARNING:absl:Importing a function (__inference_block6d_activation_layer_call_and_return_conditional_losses_419858) with ops with unsaved custom gradients. Will likely fail if a gradient is requested.\n",
            "WARNING:absl:Importing a function (__inference_block5a_se_reduce_layer_call_and_return_conditional_losses_452959) with ops with unsaved custom gradients. Will likely fail if a gradient is requested.\n",
            "WARNING:absl:Importing a function (__inference_block3a_expand_activation_layer_call_and_return_conditional_losses_451069) with ops with unsaved custom gradients. Will likely fail if a gradient is requested.\n",
            "WARNING:absl:Importing a function (__inference_block2a_expand_activation_layer_call_and_return_conditional_losses_450370) with ops with unsaved custom gradients. Will likely fail if a gradient is requested.\n",
            "WARNING:absl:Importing a function (__inference_block6b_expand_activation_layer_call_and_return_conditional_losses_419138) with ops with unsaved custom gradients. Will likely fail if a gradient is requested.\n",
            "WARNING:absl:Importing a function (__inference_block6b_activation_layer_call_and_return_conditional_losses_419194) with ops with unsaved custom gradients. Will likely fail if a gradient is requested.\n",
            "WARNING:absl:Importing a function (__inference_block6c_se_reduce_layer_call_and_return_conditional_losses_419573) with ops with unsaved custom gradients. Will likely fail if a gradient is requested.\n",
            "WARNING:absl:Importing a function (__inference_block7a_expand_activation_layer_call_and_return_conditional_losses_420134) with ops with unsaved custom gradients. Will likely fail if a gradient is requested.\n",
            "WARNING:absl:Importing a function (__inference_block4a_activation_layer_call_and_return_conditional_losses_417028) with ops with unsaved custom gradients. Will likely fail if a gradient is requested.\n",
            "WARNING:absl:Importing a function (__inference_block6c_expand_activation_layer_call_and_return_conditional_losses_454611) with ops with unsaved custom gradients. Will likely fail if a gradient is requested.\n",
            "WARNING:absl:Importing a function (__inference_block3b_expand_activation_layer_call_and_return_conditional_losses_416639) with ops with unsaved custom gradients. Will likely fail if a gradient is requested.\n",
            "WARNING:absl:Importing a function (__inference_block4c_se_reduce_layer_call_and_return_conditional_losses_417686) with ops with unsaved custom gradients. Will likely fail if a gradient is requested.\n",
            "WARNING:absl:Importing a function (__inference_block4b_expand_activation_layer_call_and_return_conditional_losses_417251) with ops with unsaved custom gradients. Will likely fail if a gradient is requested.\n",
            "WARNING:absl:Importing a function (__inference_block6d_se_reduce_layer_call_and_return_conditional_losses_455103) with ops with unsaved custom gradients. Will likely fail if a gradient is requested.\n",
            "WARNING:absl:Importing a function (__inference_block2b_se_reduce_layer_call_and_return_conditional_losses_450815) with ops with unsaved custom gradients. Will likely fail if a gradient is requested.\n",
            "WARNING:absl:Importing a function (__inference_block2b_se_reduce_layer_call_and_return_conditional_losses_416130) with ops with unsaved custom gradients. Will likely fail if a gradient is requested.\n",
            "WARNING:absl:Importing a function (__inference_block6b_activation_layer_call_and_return_conditional_losses_454317) with ops with unsaved custom gradients. Will likely fail if a gradient is requested.\n",
            "WARNING:absl:Importing a function (__inference_block6a_se_reduce_layer_call_and_return_conditional_losses_418962) with ops with unsaved custom gradients. Will likely fail if a gradient is requested.\n",
            "WARNING:absl:Importing a function (__inference_block6b_se_reduce_layer_call_and_return_conditional_losses_419241) with ops with unsaved custom gradients. Will likely fail if a gradient is requested.\n"
          ]
        }
      ],
      "source": [
        "model_1 = tf.keras.models.load_model('06_101_food_class_10_percent_saved_big_dog_model')"
      ]
    },
    {
      "cell_type": "code",
      "execution_count": null,
      "metadata": {
        "colab": {
          "base_uri": "https://localhost:8080/"
        },
        "id": "KnoCK2JR13Y8",
        "outputId": "9bb94bab-cc13-4c7e-bcd5-e163dea89d0d"
      },
      "outputs": [
        {
          "name": "stdout",
          "output_type": "stream",
          "text": [
            "790/790 [==============================] - 59s 73ms/step - loss: 1.8027 - accuracy: 0.6078\n"
          ]
        },
        {
          "data": {
            "text/plain": [
              "[1.8027206659317017, 0.6077623963356018]"
            ]
          },
          "execution_count": 46,
          "metadata": {},
          "output_type": "execute_result"
        }
      ],
      "source": [
        "result_loaded_model_1= model_1.evaluate(test_data)\n",
        "result_loaded_model_1"
      ]
    },
    {
      "cell_type": "code",
      "execution_count": null,
      "metadata": {
        "colab": {
          "base_uri": "https://localhost:8080/"
        },
        "id": "8Me_aBMV3L4o",
        "outputId": "a4688fe4-41e5-4051-c5fb-dc01a17eeb04"
      },
      "outputs": [
        {
          "data": {
            "text/plain": [
              "[1.9961079359054565, 0.5733069181442261]"
            ]
          },
          "execution_count": 47,
          "metadata": {},
          "output_type": "execute_result"
        }
      ],
      "source": [
        "result_1_fine_tuning"
      ]
    },
    {
      "cell_type": "markdown",
      "metadata": {
        "id": "L-v4n8P52BqC"
      },
      "source": [
        "## Making predictions with the trained model"
      ]
    },
    {
      "cell_type": "code",
      "execution_count": null,
      "metadata": {
        "colab": {
          "base_uri": "https://localhost:8080/"
        },
        "id": "yt5imlOP282a",
        "outputId": "0a0e8b09-c067-4e27-deea-719e7f018c76"
      },
      "outputs": [
        {
          "name": "stdout",
          "output_type": "stream",
          "text": [
            "790/790 [==============================] - 59s 74ms/step\n"
          ]
        }
      ],
      "source": [
        "preds_probs= model_0.predict(test_data, verbose=1)"
      ]
    },
    {
      "cell_type": "code",
      "execution_count": null,
      "metadata": {
        "colab": {
          "base_uri": "https://localhost:8080/"
        },
        "id": "P9eAHP_y3SzQ",
        "outputId": "e1a0f840-8c60-4536-a216-6396708776d5"
      },
      "outputs": [
        {
          "name": "stdout",
          "output_type": "stream",
          "text": [
            "790/790 [==============================] - 60s 76ms/step\n"
          ]
        }
      ],
      "source": [
        "preds_probs_1= model_1.predict(test_data, verbose=1)"
      ]
    },
    {
      "cell_type": "code",
      "execution_count": null,
      "metadata": {
        "colab": {
          "base_uri": "https://localhost:8080/"
        },
        "id": "WQMqF6XC3bv0",
        "outputId": "08630f2e-ed6e-4053-8ea3-1c3dfc7295c8"
      },
      "outputs": [
        {
          "data": {
            "text/plain": [
              "25250"
            ]
          },
          "execution_count": 53,
          "metadata": {},
          "output_type": "execute_result"
        }
      ],
      "source": [
        "len(preds_probs)"
      ]
    },
    {
      "cell_type": "code",
      "execution_count": null,
      "metadata": {
        "colab": {
          "base_uri": "https://localhost:8080/"
        },
        "id": "NtMyx_KX4BxA",
        "outputId": "919d41e0-9159-40ef-8924-bb38718cb6ac"
      },
      "outputs": [
        {
          "data": {
            "text/plain": [
              "(25250, 101)"
            ]
          },
          "execution_count": 54,
          "metadata": {},
          "output_type": "execute_result"
        }
      ],
      "source": [
        "preds_probs.shape"
      ]
    },
    {
      "cell_type": "code",
      "execution_count": null,
      "metadata": {
        "colab": {
          "base_uri": "https://localhost:8080/"
        },
        "id": "9tkxCl-P4Dmy",
        "outputId": "d0db2839-6abd-465b-9bc8-d6b4bdff837c"
      },
      "outputs": [
        {
          "data": {
            "text/plain": [
              "array([9.8935390e-01, 5.8344808e-11, 1.3320721e-05, 8.1959231e-11,\n",
              "       2.4935568e-12, 3.4711645e-12, 3.4073470e-11, 3.0959776e-10,\n",
              "       7.6818208e-07, 3.6786233e-08, 2.2281867e-08, 4.3025326e-09,\n",
              "       7.3555765e-07, 8.2188649e-07, 7.1961568e-07, 1.3769219e-10,\n",
              "       2.1370874e-06, 2.7933640e-07, 2.9679523e-08, 1.7635555e-06,\n",
              "       1.9957894e-10, 8.8594434e-06, 3.3291312e-07, 1.0181957e-09,\n",
              "       6.3367597e-06, 1.4661339e-10, 1.6826255e-07, 1.1839713e-10,\n",
              "       2.9521913e-10, 2.0132936e-07, 1.2192403e-11, 5.9258189e-11,\n",
              "       4.8115758e-06, 1.1961473e-13, 4.8551749e-14, 4.6004192e-10,\n",
              "       1.2227331e-04, 6.2042673e-09, 4.8845386e-09, 2.7793230e-09,\n",
              "       4.6690278e-09, 3.7581725e-07, 6.4953910e-11, 2.8579867e-13,\n",
              "       4.4924255e-11, 9.4641033e-15, 1.5071470e-05, 4.1881046e-07,\n",
              "       2.1025556e-11, 2.4423347e-08, 6.2640959e-07, 2.4463731e-11,\n",
              "       3.1633965e-06, 4.2984946e-10, 1.2999530e-11, 4.0823275e-10,\n",
              "       4.0694522e-07, 9.8901894e-03, 5.4298852e-08, 1.3964058e-05,\n",
              "       8.5853795e-09, 2.3125343e-14, 3.9967767e-06, 1.9010122e-11,\n",
              "       1.4728707e-08, 7.6662168e-13, 5.6940671e-11, 2.4400592e-07,\n",
              "       9.1726099e-11, 4.3149812e-10, 8.2741314e-10, 5.2651508e-13,\n",
              "       1.9030887e-06, 5.1113528e-07, 1.0823103e-05, 7.6946106e-12,\n",
              "       1.9274159e-04, 3.9297182e-05, 1.7577148e-09, 5.0438032e-09,\n",
              "       1.7465936e-08, 6.6849367e-07, 2.9591122e-04, 1.6934785e-06,\n",
              "       3.2481776e-07, 7.4157066e-07, 8.0548404e-09, 1.6569488e-06,\n",
              "       4.6178051e-15, 1.3156511e-10, 4.5732151e-12, 1.3668895e-10,\n",
              "       1.9973944e-12, 2.3380287e-09, 5.5678615e-08, 4.9645383e-08,\n",
              "       2.3528336e-11, 4.5552598e-10, 7.4828654e-06, 3.0583355e-12,\n",
              "       4.9359600e-11], dtype=float32)"
            ]
          },
          "execution_count": 59,
          "metadata": {},
          "output_type": "execute_result"
        }
      ],
      "source": [
        "preds_probs[1]"
      ]
    },
    {
      "cell_type": "markdown",
      "metadata": {
        "id": "_O40o6kv43vp"
      },
      "source": [
        "> The model ouputs a `prediction probability` array(with `N` number of variables, where `N` is the number of classes) for each sample passed on the predict method."
      ]
    },
    {
      "cell_type": "code",
      "execution_count": null,
      "metadata": {
        "colab": {
          "base_uri": "https://localhost:8080/"
        },
        "id": "kzNSE7gP4OQp",
        "outputId": "1e67200c-1d46-4e76-dc81-04f04388575f"
      },
      "outputs": [
        {
          "data": {
            "text/plain": [
              "(101,)"
            ]
          },
          "execution_count": 60,
          "metadata": {},
          "output_type": "execute_result"
        }
      ],
      "source": [
        "preds_probs[1].shape"
      ]
    },
    {
      "cell_type": "code",
      "execution_count": null,
      "metadata": {
        "colab": {
          "base_uri": "https://localhost:8080/"
        },
        "id": "nQTyQ32L4SrF",
        "outputId": "6503eb36-492f-4a79-e712-eaa50412912e"
      },
      "outputs": [
        {
          "data": {
            "text/plain": [
              "101"
            ]
          },
          "execution_count": 61,
          "metadata": {},
          "output_type": "execute_result"
        }
      ],
      "source": [
        "len(preds_probs[1])"
      ]
    },
    {
      "cell_type": "code",
      "execution_count": null,
      "metadata": {
        "colab": {
          "base_uri": "https://localhost:8080/"
        },
        "id": "HFSDKmCM4VUt",
        "outputId": "a3b553ce-568c-45ef-bac6-3611b6531cdb"
      },
      "outputs": [
        {
          "data": {
            "text/plain": [
              "0.9999999970913811"
            ]
          },
          "execution_count": 63,
          "metadata": {},
          "output_type": "execute_result"
        }
      ],
      "source": [
        "sum(preds_probs[1])"
      ]
    },
    {
      "cell_type": "code",
      "execution_count": null,
      "metadata": {
        "colab": {
          "base_uri": "https://localhost:8080/"
        },
        "id": "FMPZMDx04gdp",
        "outputId": "1acb172d-1cb8-43c8-b4b7-5822e232f111"
      },
      "outputs": [
        {
          "data": {
            "text/plain": [
              "88"
            ]
          },
          "execution_count": 65,
          "metadata": {},
          "output_type": "execute_result"
        }
      ],
      "source": [
        "np.argmin(preds_probs[1])"
      ]
    },
    {
      "cell_type": "code",
      "execution_count": null,
      "metadata": {
        "colab": {
          "base_uri": "https://localhost:8080/"
        },
        "id": "uinvaE_B5KLO",
        "outputId": "7cb5ef55-1777-4cff-80f9-f11581f87f80"
      },
      "outputs": [
        {
          "data": {
            "text/plain": [
              "4.617805e-15"
            ]
          },
          "execution_count": 68,
          "metadata": {},
          "output_type": "execute_result"
        }
      ],
      "source": [
        "preds_probs[1].min()"
      ]
    },
    {
      "cell_type": "code",
      "execution_count": null,
      "metadata": {
        "colab": {
          "base_uri": "https://localhost:8080/"
        },
        "id": "rUQlcnC64var",
        "outputId": "5bf02b09-3c55-4e20-8cf7-9ae4cc0cf737"
      },
      "outputs": [
        {
          "data": {
            "text/plain": [
              "0"
            ]
          },
          "execution_count": 66,
          "metadata": {},
          "output_type": "execute_result"
        }
      ],
      "source": [
        "np.argmax(preds_probs[1])"
      ]
    },
    {
      "cell_type": "code",
      "execution_count": null,
      "metadata": {
        "colab": {
          "base_uri": "https://localhost:8080/"
        },
        "id": "daOFf52-40E1",
        "outputId": "fc045b34-5db0-4b1b-f554-c5dffeefa986"
      },
      "outputs": [
        {
          "data": {
            "text/plain": [
              "0.9893539"
            ]
          },
          "execution_count": 67,
          "metadata": {},
          "output_type": "execute_result"
        }
      ],
      "source": [
        "preds_probs[1].max()"
      ]
    },
    {
      "cell_type": "code",
      "execution_count": null,
      "metadata": {
        "colab": {
          "base_uri": "https://localhost:8080/",
          "height": 37
        },
        "id": "Smv8Q7UI5NQ2",
        "outputId": "a2a99e4b-2e26-4cc3-94f0-a662d4895ad5"
      },
      "outputs": [
        {
          "data": {
            "application/vnd.google.colaboratory.intrinsic+json": {
              "type": "string"
            },
            "text/plain": [
              "'apple_pie'"
            ]
          },
          "execution_count": 69,
          "metadata": {},
          "output_type": "execute_result"
        }
      ],
      "source": [
        "test_data.class_names[np.argmax(preds_probs[1])]"
      ]
    },
    {
      "cell_type": "code",
      "execution_count": null,
      "metadata": {
        "colab": {
          "base_uri": "https://localhost:8080/"
        },
        "id": "m5X5OuL95dzG",
        "outputId": "63da4345-0d72-4c5c-e548-0d2dac730839"
      },
      "outputs": [
        {
          "name": "stdout",
          "output_type": "stream",
          "text": [
            "Number of prediction probabilities for sample 1: 101\n",
            "What prediction probability sample 1 looks like:\n",
            " [9.8935390e-01 5.8344808e-11 1.3320721e-05 8.1959231e-11 2.4935568e-12\n",
            " 3.4711645e-12 3.4073470e-11 3.0959776e-10 7.6818208e-07 3.6786233e-08\n",
            " 2.2281867e-08 4.3025326e-09 7.3555765e-07 8.2188649e-07 7.1961568e-07\n",
            " 1.3769219e-10 2.1370874e-06 2.7933640e-07 2.9679523e-08 1.7635555e-06\n",
            " 1.9957894e-10 8.8594434e-06 3.3291312e-07 1.0181957e-09 6.3367597e-06\n",
            " 1.4661339e-10 1.6826255e-07 1.1839713e-10 2.9521913e-10 2.0132936e-07\n",
            " 1.2192403e-11 5.9258189e-11 4.8115758e-06 1.1961473e-13 4.8551749e-14\n",
            " 4.6004192e-10 1.2227331e-04 6.2042673e-09 4.8845386e-09 2.7793230e-09\n",
            " 4.6690278e-09 3.7581725e-07 6.4953910e-11 2.8579867e-13 4.4924255e-11\n",
            " 9.4641033e-15 1.5071470e-05 4.1881046e-07 2.1025556e-11 2.4423347e-08\n",
            " 6.2640959e-07 2.4463731e-11 3.1633965e-06 4.2984946e-10 1.2999530e-11\n",
            " 4.0823275e-10 4.0694522e-07 9.8901894e-03 5.4298852e-08 1.3964058e-05\n",
            " 8.5853795e-09 2.3125343e-14 3.9967767e-06 1.9010122e-11 1.4728707e-08\n",
            " 7.6662168e-13 5.6940671e-11 2.4400592e-07 9.1726099e-11 4.3149812e-10\n",
            " 8.2741314e-10 5.2651508e-13 1.9030887e-06 5.1113528e-07 1.0823103e-05\n",
            " 7.6946106e-12 1.9274159e-04 3.9297182e-05 1.7577148e-09 5.0438032e-09\n",
            " 1.7465936e-08 6.6849367e-07 2.9591122e-04 1.6934785e-06 3.2481776e-07\n",
            " 7.4157066e-07 8.0548404e-09 1.6569488e-06 4.6178051e-15 1.3156511e-10\n",
            " 4.5732151e-12 1.3668895e-10 1.9973944e-12 2.3380287e-09 5.5678615e-08\n",
            " 4.9645383e-08 2.3528336e-11 4.5552598e-10 7.4828654e-06 3.0583355e-12\n",
            " 4.9359600e-11]\n",
            "The class with the highest predicted probability by the model for sample 1: 0\n"
          ]
        }
      ],
      "source": [
        "# We get one prediction probability per class\n",
        "print(f\"Number of prediction probabilities for sample 1: {len(preds_probs[1])}\")\n",
        "print(f\"What prediction probability sample 1 looks like:\\n {preds_probs[1]}\")\n",
        "print(f\"The class with the highest predicted probability by the model for sample 1: {preds_probs[1].argmax()}\")"
      ]
    },
    {
      "cell_type": "code",
      "execution_count": null,
      "metadata": {
        "colab": {
          "base_uri": "https://localhost:8080/",
          "height": 37
        },
        "id": "LrGxW9q4521G",
        "outputId": "72c81ae9-7bb8-4952-c251-ac8ab9d72892"
      },
      "outputs": [
        {
          "data": {
            "application/vnd.google.colaboratory.intrinsic+json": {
              "type": "string"
            },
            "text/plain": [
              "'apple_pie'"
            ]
          },
          "execution_count": 73,
          "metadata": {},
          "output_type": "execute_result"
        }
      ],
      "source": [
        "test_data.class_names[0]"
      ]
    },
    {
      "cell_type": "code",
      "execution_count": null,
      "metadata": {
        "id": "mKWOJ5YZ6Fd4"
      },
      "outputs": [],
      "source": []
    }
  ],
  "metadata": {
    "accelerator": "GPU",
    "colab": {
      "collapsed_sections": [
        "GW6LcamwztP1"
      ],
      "name": "Introduction_to_transfer_learning_with_scaling_up.ipynb",
      "provenance": []
    },
    "gpuClass": "standard",
    "kernelspec": {
      "display_name": "Python 3.8.12 ('bulldozer_price')",
      "language": "python",
      "name": "python3"
    },
    "language_info": {
      "name": "python",
      "version": "3.8.12"
    },
    "vscode": {
      "interpreter": {
        "hash": "4ddec75d6677614c245463d8740167bc169c0e076a027e265c5bab420f00a42a"
      }
    }
  },
  "nbformat": 4,
  "nbformat_minor": 0
}
