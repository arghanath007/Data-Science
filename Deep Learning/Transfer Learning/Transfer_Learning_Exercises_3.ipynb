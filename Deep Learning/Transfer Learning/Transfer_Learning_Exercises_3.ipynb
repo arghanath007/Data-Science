{
  "nbformat": 4,
  "nbformat_minor": 0,
  "metadata": {
    "colab": {
      "name": "Transfer_Learning_Exercises_3.ipynb",
      "provenance": [],
      "collapsed_sections": []
    },
    "kernelspec": {
      "name": "python3",
      "display_name": "Python 3"
    },
    "language_info": {
      "name": "python"
    },
    "accelerator": "GPU",
    "gpuClass": "standard",
    "widgets": {
      "application/vnd.jupyter.widget-state+json": {
        "b8dcaa128d9f4197912fd98447086169": {
          "model_module": "@jupyter-widgets/controls",
          "model_name": "HBoxModel",
          "model_module_version": "1.5.0",
          "state": {
            "_dom_classes": [],
            "_model_module": "@jupyter-widgets/controls",
            "_model_module_version": "1.5.0",
            "_model_name": "HBoxModel",
            "_view_count": null,
            "_view_module": "@jupyter-widgets/controls",
            "_view_module_version": "1.5.0",
            "_view_name": "HBoxView",
            "box_style": "",
            "children": [
              "IPY_MODEL_8362e6b0f31d452baadbdb30989cfbec",
              "IPY_MODEL_861656b4d97843a098e2c6f5d11e9100",
              "IPY_MODEL_0043aa6b01074861b81f2db79b16e21b"
            ],
            "layout": "IPY_MODEL_699dd49c01ca4488be7bfa004e8cce96"
          }
        },
        "8362e6b0f31d452baadbdb30989cfbec": {
          "model_module": "@jupyter-widgets/controls",
          "model_name": "HTMLModel",
          "model_module_version": "1.5.0",
          "state": {
            "_dom_classes": [],
            "_model_module": "@jupyter-widgets/controls",
            "_model_module_version": "1.5.0",
            "_model_name": "HTMLModel",
            "_view_count": null,
            "_view_module": "@jupyter-widgets/controls",
            "_view_module_version": "1.5.0",
            "_view_name": "HTMLView",
            "description": "",
            "description_tooltip": null,
            "layout": "IPY_MODEL_5cd65d0bab274d0ab53eddd81ebc06a5",
            "placeholder": "​",
            "style": "IPY_MODEL_2a94bd76e8144a86a873c57a0f3a30da",
            "value": "Dl Completed...: 100%"
          }
        },
        "861656b4d97843a098e2c6f5d11e9100": {
          "model_module": "@jupyter-widgets/controls",
          "model_name": "FloatProgressModel",
          "model_module_version": "1.5.0",
          "state": {
            "_dom_classes": [],
            "_model_module": "@jupyter-widgets/controls",
            "_model_module_version": "1.5.0",
            "_model_name": "FloatProgressModel",
            "_view_count": null,
            "_view_module": "@jupyter-widgets/controls",
            "_view_module_version": "1.5.0",
            "_view_name": "ProgressView",
            "bar_style": "success",
            "description": "",
            "description_tooltip": null,
            "layout": "IPY_MODEL_cee2418939d242f29d4c6751e9b9a237",
            "max": 1,
            "min": 0,
            "orientation": "horizontal",
            "style": "IPY_MODEL_3fdc4092a0154994b057f6f5bf71cee3",
            "value": 1
          }
        },
        "0043aa6b01074861b81f2db79b16e21b": {
          "model_module": "@jupyter-widgets/controls",
          "model_name": "HTMLModel",
          "model_module_version": "1.5.0",
          "state": {
            "_dom_classes": [],
            "_model_module": "@jupyter-widgets/controls",
            "_model_module_version": "1.5.0",
            "_model_name": "HTMLModel",
            "_view_count": null,
            "_view_module": "@jupyter-widgets/controls",
            "_view_module_version": "1.5.0",
            "_view_name": "HTMLView",
            "description": "",
            "description_tooltip": null,
            "layout": "IPY_MODEL_dc1db2e7e05a4b3c8f8b2b746d5c31d4",
            "placeholder": "​",
            "style": "IPY_MODEL_6668f52146de475a927b9f286a66162a",
            "value": " 1/1 [07:13&lt;00:00, 348.89s/ url]"
          }
        },
        "699dd49c01ca4488be7bfa004e8cce96": {
          "model_module": "@jupyter-widgets/base",
          "model_name": "LayoutModel",
          "model_module_version": "1.2.0",
          "state": {
            "_model_module": "@jupyter-widgets/base",
            "_model_module_version": "1.2.0",
            "_model_name": "LayoutModel",
            "_view_count": null,
            "_view_module": "@jupyter-widgets/base",
            "_view_module_version": "1.2.0",
            "_view_name": "LayoutView",
            "align_content": null,
            "align_items": null,
            "align_self": null,
            "border": null,
            "bottom": null,
            "display": null,
            "flex": null,
            "flex_flow": null,
            "grid_area": null,
            "grid_auto_columns": null,
            "grid_auto_flow": null,
            "grid_auto_rows": null,
            "grid_column": null,
            "grid_gap": null,
            "grid_row": null,
            "grid_template_areas": null,
            "grid_template_columns": null,
            "grid_template_rows": null,
            "height": null,
            "justify_content": null,
            "justify_items": null,
            "left": null,
            "margin": null,
            "max_height": null,
            "max_width": null,
            "min_height": null,
            "min_width": null,
            "object_fit": null,
            "object_position": null,
            "order": null,
            "overflow": null,
            "overflow_x": null,
            "overflow_y": null,
            "padding": null,
            "right": null,
            "top": null,
            "visibility": null,
            "width": null
          }
        },
        "5cd65d0bab274d0ab53eddd81ebc06a5": {
          "model_module": "@jupyter-widgets/base",
          "model_name": "LayoutModel",
          "model_module_version": "1.2.0",
          "state": {
            "_model_module": "@jupyter-widgets/base",
            "_model_module_version": "1.2.0",
            "_model_name": "LayoutModel",
            "_view_count": null,
            "_view_module": "@jupyter-widgets/base",
            "_view_module_version": "1.2.0",
            "_view_name": "LayoutView",
            "align_content": null,
            "align_items": null,
            "align_self": null,
            "border": null,
            "bottom": null,
            "display": null,
            "flex": null,
            "flex_flow": null,
            "grid_area": null,
            "grid_auto_columns": null,
            "grid_auto_flow": null,
            "grid_auto_rows": null,
            "grid_column": null,
            "grid_gap": null,
            "grid_row": null,
            "grid_template_areas": null,
            "grid_template_columns": null,
            "grid_template_rows": null,
            "height": null,
            "justify_content": null,
            "justify_items": null,
            "left": null,
            "margin": null,
            "max_height": null,
            "max_width": null,
            "min_height": null,
            "min_width": null,
            "object_fit": null,
            "object_position": null,
            "order": null,
            "overflow": null,
            "overflow_x": null,
            "overflow_y": null,
            "padding": null,
            "right": null,
            "top": null,
            "visibility": null,
            "width": null
          }
        },
        "2a94bd76e8144a86a873c57a0f3a30da": {
          "model_module": "@jupyter-widgets/controls",
          "model_name": "DescriptionStyleModel",
          "model_module_version": "1.5.0",
          "state": {
            "_model_module": "@jupyter-widgets/controls",
            "_model_module_version": "1.5.0",
            "_model_name": "DescriptionStyleModel",
            "_view_count": null,
            "_view_module": "@jupyter-widgets/base",
            "_view_module_version": "1.2.0",
            "_view_name": "StyleView",
            "description_width": ""
          }
        },
        "cee2418939d242f29d4c6751e9b9a237": {
          "model_module": "@jupyter-widgets/base",
          "model_name": "LayoutModel",
          "model_module_version": "1.2.0",
          "state": {
            "_model_module": "@jupyter-widgets/base",
            "_model_module_version": "1.2.0",
            "_model_name": "LayoutModel",
            "_view_count": null,
            "_view_module": "@jupyter-widgets/base",
            "_view_module_version": "1.2.0",
            "_view_name": "LayoutView",
            "align_content": null,
            "align_items": null,
            "align_self": null,
            "border": null,
            "bottom": null,
            "display": null,
            "flex": null,
            "flex_flow": null,
            "grid_area": null,
            "grid_auto_columns": null,
            "grid_auto_flow": null,
            "grid_auto_rows": null,
            "grid_column": null,
            "grid_gap": null,
            "grid_row": null,
            "grid_template_areas": null,
            "grid_template_columns": null,
            "grid_template_rows": null,
            "height": null,
            "justify_content": null,
            "justify_items": null,
            "left": null,
            "margin": null,
            "max_height": null,
            "max_width": null,
            "min_height": null,
            "min_width": null,
            "object_fit": null,
            "object_position": null,
            "order": null,
            "overflow": null,
            "overflow_x": null,
            "overflow_y": null,
            "padding": null,
            "right": null,
            "top": null,
            "visibility": null,
            "width": "20px"
          }
        },
        "3fdc4092a0154994b057f6f5bf71cee3": {
          "model_module": "@jupyter-widgets/controls",
          "model_name": "ProgressStyleModel",
          "model_module_version": "1.5.0",
          "state": {
            "_model_module": "@jupyter-widgets/controls",
            "_model_module_version": "1.5.0",
            "_model_name": "ProgressStyleModel",
            "_view_count": null,
            "_view_module": "@jupyter-widgets/base",
            "_view_module_version": "1.2.0",
            "_view_name": "StyleView",
            "bar_color": null,
            "description_width": ""
          }
        },
        "dc1db2e7e05a4b3c8f8b2b746d5c31d4": {
          "model_module": "@jupyter-widgets/base",
          "model_name": "LayoutModel",
          "model_module_version": "1.2.0",
          "state": {
            "_model_module": "@jupyter-widgets/base",
            "_model_module_version": "1.2.0",
            "_model_name": "LayoutModel",
            "_view_count": null,
            "_view_module": "@jupyter-widgets/base",
            "_view_module_version": "1.2.0",
            "_view_name": "LayoutView",
            "align_content": null,
            "align_items": null,
            "align_self": null,
            "border": null,
            "bottom": null,
            "display": null,
            "flex": null,
            "flex_flow": null,
            "grid_area": null,
            "grid_auto_columns": null,
            "grid_auto_flow": null,
            "grid_auto_rows": null,
            "grid_column": null,
            "grid_gap": null,
            "grid_row": null,
            "grid_template_areas": null,
            "grid_template_columns": null,
            "grid_template_rows": null,
            "height": null,
            "justify_content": null,
            "justify_items": null,
            "left": null,
            "margin": null,
            "max_height": null,
            "max_width": null,
            "min_height": null,
            "min_width": null,
            "object_fit": null,
            "object_position": null,
            "order": null,
            "overflow": null,
            "overflow_x": null,
            "overflow_y": null,
            "padding": null,
            "right": null,
            "top": null,
            "visibility": null,
            "width": null
          }
        },
        "6668f52146de475a927b9f286a66162a": {
          "model_module": "@jupyter-widgets/controls",
          "model_name": "DescriptionStyleModel",
          "model_module_version": "1.5.0",
          "state": {
            "_model_module": "@jupyter-widgets/controls",
            "_model_module_version": "1.5.0",
            "_model_name": "DescriptionStyleModel",
            "_view_count": null,
            "_view_module": "@jupyter-widgets/base",
            "_view_module_version": "1.2.0",
            "_view_name": "StyleView",
            "description_width": ""
          }
        },
        "acfb37717a2d4d949e61db26fbaee0a3": {
          "model_module": "@jupyter-widgets/controls",
          "model_name": "HBoxModel",
          "model_module_version": "1.5.0",
          "state": {
            "_dom_classes": [],
            "_model_module": "@jupyter-widgets/controls",
            "_model_module_version": "1.5.0",
            "_model_name": "HBoxModel",
            "_view_count": null,
            "_view_module": "@jupyter-widgets/controls",
            "_view_module_version": "1.5.0",
            "_view_name": "HBoxView",
            "box_style": "",
            "children": [
              "IPY_MODEL_64ed3b27317d498f8f431bfa7deb1e30",
              "IPY_MODEL_2b76d72ccf3242de813185fc4313aed5",
              "IPY_MODEL_556b7759894241bf9ad61f80a17d8eb5"
            ],
            "layout": "IPY_MODEL_d4281022aeed4996974fc7e21865e4f0"
          }
        },
        "64ed3b27317d498f8f431bfa7deb1e30": {
          "model_module": "@jupyter-widgets/controls",
          "model_name": "HTMLModel",
          "model_module_version": "1.5.0",
          "state": {
            "_dom_classes": [],
            "_model_module": "@jupyter-widgets/controls",
            "_model_module_version": "1.5.0",
            "_model_name": "HTMLModel",
            "_view_count": null,
            "_view_module": "@jupyter-widgets/controls",
            "_view_module_version": "1.5.0",
            "_view_name": "HTMLView",
            "description": "",
            "description_tooltip": null,
            "layout": "IPY_MODEL_d87f8721b41c4f05bc487c3ea39bb312",
            "placeholder": "​",
            "style": "IPY_MODEL_902f16a2f75044e0b9a8b0835e1a081b",
            "value": "Dl Size...: 100%"
          }
        },
        "2b76d72ccf3242de813185fc4313aed5": {
          "model_module": "@jupyter-widgets/controls",
          "model_name": "FloatProgressModel",
          "model_module_version": "1.5.0",
          "state": {
            "_dom_classes": [],
            "_model_module": "@jupyter-widgets/controls",
            "_model_module_version": "1.5.0",
            "_model_name": "FloatProgressModel",
            "_view_count": null,
            "_view_module": "@jupyter-widgets/controls",
            "_view_module_version": "1.5.0",
            "_view_name": "ProgressView",
            "bar_style": "success",
            "description": "",
            "description_tooltip": null,
            "layout": "IPY_MODEL_ecdcb6bb382c48baa65a65237818fc45",
            "max": 1,
            "min": 0,
            "orientation": "horizontal",
            "style": "IPY_MODEL_ee796364b0944a67a407c8d23495c58e",
            "value": 1
          }
        },
        "556b7759894241bf9ad61f80a17d8eb5": {
          "model_module": "@jupyter-widgets/controls",
          "model_name": "HTMLModel",
          "model_module_version": "1.5.0",
          "state": {
            "_dom_classes": [],
            "_model_module": "@jupyter-widgets/controls",
            "_model_module_version": "1.5.0",
            "_model_name": "HTMLModel",
            "_view_count": null,
            "_view_module": "@jupyter-widgets/controls",
            "_view_module_version": "1.5.0",
            "_view_name": "HTMLView",
            "description": "",
            "description_tooltip": null,
            "layout": "IPY_MODEL_7789c3431aac47d5896c312a89572440",
            "placeholder": "​",
            "style": "IPY_MODEL_05bcbfd8f6484855940dbb417f0112fd",
            "value": " 4764/4764 [07:13&lt;00:00, 12.85 MiB/s]"
          }
        },
        "d4281022aeed4996974fc7e21865e4f0": {
          "model_module": "@jupyter-widgets/base",
          "model_name": "LayoutModel",
          "model_module_version": "1.2.0",
          "state": {
            "_model_module": "@jupyter-widgets/base",
            "_model_module_version": "1.2.0",
            "_model_name": "LayoutModel",
            "_view_count": null,
            "_view_module": "@jupyter-widgets/base",
            "_view_module_version": "1.2.0",
            "_view_name": "LayoutView",
            "align_content": null,
            "align_items": null,
            "align_self": null,
            "border": null,
            "bottom": null,
            "display": null,
            "flex": null,
            "flex_flow": null,
            "grid_area": null,
            "grid_auto_columns": null,
            "grid_auto_flow": null,
            "grid_auto_rows": null,
            "grid_column": null,
            "grid_gap": null,
            "grid_row": null,
            "grid_template_areas": null,
            "grid_template_columns": null,
            "grid_template_rows": null,
            "height": null,
            "justify_content": null,
            "justify_items": null,
            "left": null,
            "margin": null,
            "max_height": null,
            "max_width": null,
            "min_height": null,
            "min_width": null,
            "object_fit": null,
            "object_position": null,
            "order": null,
            "overflow": null,
            "overflow_x": null,
            "overflow_y": null,
            "padding": null,
            "right": null,
            "top": null,
            "visibility": null,
            "width": null
          }
        },
        "d87f8721b41c4f05bc487c3ea39bb312": {
          "model_module": "@jupyter-widgets/base",
          "model_name": "LayoutModel",
          "model_module_version": "1.2.0",
          "state": {
            "_model_module": "@jupyter-widgets/base",
            "_model_module_version": "1.2.0",
            "_model_name": "LayoutModel",
            "_view_count": null,
            "_view_module": "@jupyter-widgets/base",
            "_view_module_version": "1.2.0",
            "_view_name": "LayoutView",
            "align_content": null,
            "align_items": null,
            "align_self": null,
            "border": null,
            "bottom": null,
            "display": null,
            "flex": null,
            "flex_flow": null,
            "grid_area": null,
            "grid_auto_columns": null,
            "grid_auto_flow": null,
            "grid_auto_rows": null,
            "grid_column": null,
            "grid_gap": null,
            "grid_row": null,
            "grid_template_areas": null,
            "grid_template_columns": null,
            "grid_template_rows": null,
            "height": null,
            "justify_content": null,
            "justify_items": null,
            "left": null,
            "margin": null,
            "max_height": null,
            "max_width": null,
            "min_height": null,
            "min_width": null,
            "object_fit": null,
            "object_position": null,
            "order": null,
            "overflow": null,
            "overflow_x": null,
            "overflow_y": null,
            "padding": null,
            "right": null,
            "top": null,
            "visibility": null,
            "width": null
          }
        },
        "902f16a2f75044e0b9a8b0835e1a081b": {
          "model_module": "@jupyter-widgets/controls",
          "model_name": "DescriptionStyleModel",
          "model_module_version": "1.5.0",
          "state": {
            "_model_module": "@jupyter-widgets/controls",
            "_model_module_version": "1.5.0",
            "_model_name": "DescriptionStyleModel",
            "_view_count": null,
            "_view_module": "@jupyter-widgets/base",
            "_view_module_version": "1.2.0",
            "_view_name": "StyleView",
            "description_width": ""
          }
        },
        "ecdcb6bb382c48baa65a65237818fc45": {
          "model_module": "@jupyter-widgets/base",
          "model_name": "LayoutModel",
          "model_module_version": "1.2.0",
          "state": {
            "_model_module": "@jupyter-widgets/base",
            "_model_module_version": "1.2.0",
            "_model_name": "LayoutModel",
            "_view_count": null,
            "_view_module": "@jupyter-widgets/base",
            "_view_module_version": "1.2.0",
            "_view_name": "LayoutView",
            "align_content": null,
            "align_items": null,
            "align_self": null,
            "border": null,
            "bottom": null,
            "display": null,
            "flex": null,
            "flex_flow": null,
            "grid_area": null,
            "grid_auto_columns": null,
            "grid_auto_flow": null,
            "grid_auto_rows": null,
            "grid_column": null,
            "grid_gap": null,
            "grid_row": null,
            "grid_template_areas": null,
            "grid_template_columns": null,
            "grid_template_rows": null,
            "height": null,
            "justify_content": null,
            "justify_items": null,
            "left": null,
            "margin": null,
            "max_height": null,
            "max_width": null,
            "min_height": null,
            "min_width": null,
            "object_fit": null,
            "object_position": null,
            "order": null,
            "overflow": null,
            "overflow_x": null,
            "overflow_y": null,
            "padding": null,
            "right": null,
            "top": null,
            "visibility": null,
            "width": "20px"
          }
        },
        "ee796364b0944a67a407c8d23495c58e": {
          "model_module": "@jupyter-widgets/controls",
          "model_name": "ProgressStyleModel",
          "model_module_version": "1.5.0",
          "state": {
            "_model_module": "@jupyter-widgets/controls",
            "_model_module_version": "1.5.0",
            "_model_name": "ProgressStyleModel",
            "_view_count": null,
            "_view_module": "@jupyter-widgets/base",
            "_view_module_version": "1.2.0",
            "_view_name": "StyleView",
            "bar_color": null,
            "description_width": ""
          }
        },
        "7789c3431aac47d5896c312a89572440": {
          "model_module": "@jupyter-widgets/base",
          "model_name": "LayoutModel",
          "model_module_version": "1.2.0",
          "state": {
            "_model_module": "@jupyter-widgets/base",
            "_model_module_version": "1.2.0",
            "_model_name": "LayoutModel",
            "_view_count": null,
            "_view_module": "@jupyter-widgets/base",
            "_view_module_version": "1.2.0",
            "_view_name": "LayoutView",
            "align_content": null,
            "align_items": null,
            "align_self": null,
            "border": null,
            "bottom": null,
            "display": null,
            "flex": null,
            "flex_flow": null,
            "grid_area": null,
            "grid_auto_columns": null,
            "grid_auto_flow": null,
            "grid_auto_rows": null,
            "grid_column": null,
            "grid_gap": null,
            "grid_row": null,
            "grid_template_areas": null,
            "grid_template_columns": null,
            "grid_template_rows": null,
            "height": null,
            "justify_content": null,
            "justify_items": null,
            "left": null,
            "margin": null,
            "max_height": null,
            "max_width": null,
            "min_height": null,
            "min_width": null,
            "object_fit": null,
            "object_position": null,
            "order": null,
            "overflow": null,
            "overflow_x": null,
            "overflow_y": null,
            "padding": null,
            "right": null,
            "top": null,
            "visibility": null,
            "width": null
          }
        },
        "05bcbfd8f6484855940dbb417f0112fd": {
          "model_module": "@jupyter-widgets/controls",
          "model_name": "DescriptionStyleModel",
          "model_module_version": "1.5.0",
          "state": {
            "_model_module": "@jupyter-widgets/controls",
            "_model_module_version": "1.5.0",
            "_model_name": "DescriptionStyleModel",
            "_view_count": null,
            "_view_module": "@jupyter-widgets/base",
            "_view_module_version": "1.2.0",
            "_view_name": "StyleView",
            "description_width": ""
          }
        },
        "c38ae396e9314d97b18a32fde4e1d67f": {
          "model_module": "@jupyter-widgets/controls",
          "model_name": "HBoxModel",
          "model_module_version": "1.5.0",
          "state": {
            "_dom_classes": [],
            "_model_module": "@jupyter-widgets/controls",
            "_model_module_version": "1.5.0",
            "_model_name": "HBoxModel",
            "_view_count": null,
            "_view_module": "@jupyter-widgets/controls",
            "_view_module_version": "1.5.0",
            "_view_name": "HBoxView",
            "box_style": "",
            "children": [
              "IPY_MODEL_9c66a3f29d2d40c79b0e46c094011674",
              "IPY_MODEL_98892ebf890342b2a43f418c98940554",
              "IPY_MODEL_c20c0f8cd31e4e59b7d8448a41c8f1c3"
            ],
            "layout": "IPY_MODEL_7b8fdbce01974e8d8bd4eda05b8e0f6d"
          }
        },
        "9c66a3f29d2d40c79b0e46c094011674": {
          "model_module": "@jupyter-widgets/controls",
          "model_name": "HTMLModel",
          "model_module_version": "1.5.0",
          "state": {
            "_dom_classes": [],
            "_model_module": "@jupyter-widgets/controls",
            "_model_module_version": "1.5.0",
            "_model_name": "HTMLModel",
            "_view_count": null,
            "_view_module": "@jupyter-widgets/controls",
            "_view_module_version": "1.5.0",
            "_view_name": "HTMLView",
            "description": "",
            "description_tooltip": null,
            "layout": "IPY_MODEL_7614a8be33c84d3da0e1edbc74a4f92b",
            "placeholder": "​",
            "style": "IPY_MODEL_3831f492f9a541b3a22cca7ccc29788c",
            "value": "Extraction completed...: 100%"
          }
        },
        "98892ebf890342b2a43f418c98940554": {
          "model_module": "@jupyter-widgets/controls",
          "model_name": "FloatProgressModel",
          "model_module_version": "1.5.0",
          "state": {
            "_dom_classes": [],
            "_model_module": "@jupyter-widgets/controls",
            "_model_module_version": "1.5.0",
            "_model_name": "FloatProgressModel",
            "_view_count": null,
            "_view_module": "@jupyter-widgets/controls",
            "_view_module_version": "1.5.0",
            "_view_name": "ProgressView",
            "bar_style": "success",
            "description": "",
            "description_tooltip": null,
            "layout": "IPY_MODEL_d25f20ba36d24cc8a679e575113d0ef9",
            "max": 1,
            "min": 0,
            "orientation": "horizontal",
            "style": "IPY_MODEL_3d8cd1f612224bd7ad035e85b7365f49",
            "value": 1
          }
        },
        "c20c0f8cd31e4e59b7d8448a41c8f1c3": {
          "model_module": "@jupyter-widgets/controls",
          "model_name": "HTMLModel",
          "model_module_version": "1.5.0",
          "state": {
            "_dom_classes": [],
            "_model_module": "@jupyter-widgets/controls",
            "_model_module_version": "1.5.0",
            "_model_name": "HTMLModel",
            "_view_count": null,
            "_view_module": "@jupyter-widgets/controls",
            "_view_module_version": "1.5.0",
            "_view_name": "HTMLView",
            "description": "",
            "description_tooltip": null,
            "layout": "IPY_MODEL_ed89f706b41743498b3b18e051c26813",
            "placeholder": "​",
            "style": "IPY_MODEL_890644fb03a842e78f11d301f7aa1c92",
            "value": " 1/1 [07:13&lt;00:00, 433.42s/ file]"
          }
        },
        "7b8fdbce01974e8d8bd4eda05b8e0f6d": {
          "model_module": "@jupyter-widgets/base",
          "model_name": "LayoutModel",
          "model_module_version": "1.2.0",
          "state": {
            "_model_module": "@jupyter-widgets/base",
            "_model_module_version": "1.2.0",
            "_model_name": "LayoutModel",
            "_view_count": null,
            "_view_module": "@jupyter-widgets/base",
            "_view_module_version": "1.2.0",
            "_view_name": "LayoutView",
            "align_content": null,
            "align_items": null,
            "align_self": null,
            "border": null,
            "bottom": null,
            "display": null,
            "flex": null,
            "flex_flow": null,
            "grid_area": null,
            "grid_auto_columns": null,
            "grid_auto_flow": null,
            "grid_auto_rows": null,
            "grid_column": null,
            "grid_gap": null,
            "grid_row": null,
            "grid_template_areas": null,
            "grid_template_columns": null,
            "grid_template_rows": null,
            "height": null,
            "justify_content": null,
            "justify_items": null,
            "left": null,
            "margin": null,
            "max_height": null,
            "max_width": null,
            "min_height": null,
            "min_width": null,
            "object_fit": null,
            "object_position": null,
            "order": null,
            "overflow": null,
            "overflow_x": null,
            "overflow_y": null,
            "padding": null,
            "right": null,
            "top": null,
            "visibility": null,
            "width": null
          }
        },
        "7614a8be33c84d3da0e1edbc74a4f92b": {
          "model_module": "@jupyter-widgets/base",
          "model_name": "LayoutModel",
          "model_module_version": "1.2.0",
          "state": {
            "_model_module": "@jupyter-widgets/base",
            "_model_module_version": "1.2.0",
            "_model_name": "LayoutModel",
            "_view_count": null,
            "_view_module": "@jupyter-widgets/base",
            "_view_module_version": "1.2.0",
            "_view_name": "LayoutView",
            "align_content": null,
            "align_items": null,
            "align_self": null,
            "border": null,
            "bottom": null,
            "display": null,
            "flex": null,
            "flex_flow": null,
            "grid_area": null,
            "grid_auto_columns": null,
            "grid_auto_flow": null,
            "grid_auto_rows": null,
            "grid_column": null,
            "grid_gap": null,
            "grid_row": null,
            "grid_template_areas": null,
            "grid_template_columns": null,
            "grid_template_rows": null,
            "height": null,
            "justify_content": null,
            "justify_items": null,
            "left": null,
            "margin": null,
            "max_height": null,
            "max_width": null,
            "min_height": null,
            "min_width": null,
            "object_fit": null,
            "object_position": null,
            "order": null,
            "overflow": null,
            "overflow_x": null,
            "overflow_y": null,
            "padding": null,
            "right": null,
            "top": null,
            "visibility": null,
            "width": null
          }
        },
        "3831f492f9a541b3a22cca7ccc29788c": {
          "model_module": "@jupyter-widgets/controls",
          "model_name": "DescriptionStyleModel",
          "model_module_version": "1.5.0",
          "state": {
            "_model_module": "@jupyter-widgets/controls",
            "_model_module_version": "1.5.0",
            "_model_name": "DescriptionStyleModel",
            "_view_count": null,
            "_view_module": "@jupyter-widgets/base",
            "_view_module_version": "1.2.0",
            "_view_name": "StyleView",
            "description_width": ""
          }
        },
        "d25f20ba36d24cc8a679e575113d0ef9": {
          "model_module": "@jupyter-widgets/base",
          "model_name": "LayoutModel",
          "model_module_version": "1.2.0",
          "state": {
            "_model_module": "@jupyter-widgets/base",
            "_model_module_version": "1.2.0",
            "_model_name": "LayoutModel",
            "_view_count": null,
            "_view_module": "@jupyter-widgets/base",
            "_view_module_version": "1.2.0",
            "_view_name": "LayoutView",
            "align_content": null,
            "align_items": null,
            "align_self": null,
            "border": null,
            "bottom": null,
            "display": null,
            "flex": null,
            "flex_flow": null,
            "grid_area": null,
            "grid_auto_columns": null,
            "grid_auto_flow": null,
            "grid_auto_rows": null,
            "grid_column": null,
            "grid_gap": null,
            "grid_row": null,
            "grid_template_areas": null,
            "grid_template_columns": null,
            "grid_template_rows": null,
            "height": null,
            "justify_content": null,
            "justify_items": null,
            "left": null,
            "margin": null,
            "max_height": null,
            "max_width": null,
            "min_height": null,
            "min_width": null,
            "object_fit": null,
            "object_position": null,
            "order": null,
            "overflow": null,
            "overflow_x": null,
            "overflow_y": null,
            "padding": null,
            "right": null,
            "top": null,
            "visibility": null,
            "width": "20px"
          }
        },
        "3d8cd1f612224bd7ad035e85b7365f49": {
          "model_module": "@jupyter-widgets/controls",
          "model_name": "ProgressStyleModel",
          "model_module_version": "1.5.0",
          "state": {
            "_model_module": "@jupyter-widgets/controls",
            "_model_module_version": "1.5.0",
            "_model_name": "ProgressStyleModel",
            "_view_count": null,
            "_view_module": "@jupyter-widgets/base",
            "_view_module_version": "1.2.0",
            "_view_name": "StyleView",
            "bar_color": null,
            "description_width": ""
          }
        },
        "ed89f706b41743498b3b18e051c26813": {
          "model_module": "@jupyter-widgets/base",
          "model_name": "LayoutModel",
          "model_module_version": "1.2.0",
          "state": {
            "_model_module": "@jupyter-widgets/base",
            "_model_module_version": "1.2.0",
            "_model_name": "LayoutModel",
            "_view_count": null,
            "_view_module": "@jupyter-widgets/base",
            "_view_module_version": "1.2.0",
            "_view_name": "LayoutView",
            "align_content": null,
            "align_items": null,
            "align_self": null,
            "border": null,
            "bottom": null,
            "display": null,
            "flex": null,
            "flex_flow": null,
            "grid_area": null,
            "grid_auto_columns": null,
            "grid_auto_flow": null,
            "grid_auto_rows": null,
            "grid_column": null,
            "grid_gap": null,
            "grid_row": null,
            "grid_template_areas": null,
            "grid_template_columns": null,
            "grid_template_rows": null,
            "height": null,
            "justify_content": null,
            "justify_items": null,
            "left": null,
            "margin": null,
            "max_height": null,
            "max_width": null,
            "min_height": null,
            "min_width": null,
            "object_fit": null,
            "object_position": null,
            "order": null,
            "overflow": null,
            "overflow_x": null,
            "overflow_y": null,
            "padding": null,
            "right": null,
            "top": null,
            "visibility": null,
            "width": null
          }
        },
        "890644fb03a842e78f11d301f7aa1c92": {
          "model_module": "@jupyter-widgets/controls",
          "model_name": "DescriptionStyleModel",
          "model_module_version": "1.5.0",
          "state": {
            "_model_module": "@jupyter-widgets/controls",
            "_model_module_version": "1.5.0",
            "_model_name": "DescriptionStyleModel",
            "_view_count": null,
            "_view_module": "@jupyter-widgets/base",
            "_view_module_version": "1.2.0",
            "_view_name": "StyleView",
            "description_width": ""
          }
        },
        "27880df385fd4333ab8c08bb53dc827a": {
          "model_module": "@jupyter-widgets/controls",
          "model_name": "HBoxModel",
          "model_module_version": "1.5.0",
          "state": {
            "_dom_classes": [],
            "_model_module": "@jupyter-widgets/controls",
            "_model_module_version": "1.5.0",
            "_model_name": "HBoxModel",
            "_view_count": null,
            "_view_module": "@jupyter-widgets/controls",
            "_view_module_version": "1.5.0",
            "_view_name": "HBoxView",
            "box_style": "",
            "children": [
              "IPY_MODEL_8fa69b910c1e49f18d2be7652ea22401",
              "IPY_MODEL_a9d2acad665848ca95f544504d339db5",
              "IPY_MODEL_e0a730fda01f40adbe40b03822468a09"
            ],
            "layout": "IPY_MODEL_759301fa48bc41cea417394d44154ea1"
          }
        },
        "8fa69b910c1e49f18d2be7652ea22401": {
          "model_module": "@jupyter-widgets/controls",
          "model_name": "HTMLModel",
          "model_module_version": "1.5.0",
          "state": {
            "_dom_classes": [],
            "_model_module": "@jupyter-widgets/controls",
            "_model_module_version": "1.5.0",
            "_model_name": "HTMLModel",
            "_view_count": null,
            "_view_module": "@jupyter-widgets/controls",
            "_view_module_version": "1.5.0",
            "_view_name": "HTMLView",
            "description": "",
            "description_tooltip": null,
            "layout": "IPY_MODEL_daa1bc2e26234714884d29b7cfb95f33",
            "placeholder": "​",
            "style": "IPY_MODEL_663ef5ea92ce421bb1562adbaf1ab87d",
            "value": "Generating splits...: 100%"
          }
        },
        "a9d2acad665848ca95f544504d339db5": {
          "model_module": "@jupyter-widgets/controls",
          "model_name": "FloatProgressModel",
          "model_module_version": "1.5.0",
          "state": {
            "_dom_classes": [],
            "_model_module": "@jupyter-widgets/controls",
            "_model_module_version": "1.5.0",
            "_model_name": "FloatProgressModel",
            "_view_count": null,
            "_view_module": "@jupyter-widgets/controls",
            "_view_module_version": "1.5.0",
            "_view_name": "ProgressView",
            "bar_style": "",
            "description": "",
            "description_tooltip": null,
            "layout": "IPY_MODEL_46f7f41a28e34dbe87640875e6065bb4",
            "max": 2,
            "min": 0,
            "orientation": "horizontal",
            "style": "IPY_MODEL_af192ed220eb4865bf680ab27526f0ab",
            "value": 2
          }
        },
        "e0a730fda01f40adbe40b03822468a09": {
          "model_module": "@jupyter-widgets/controls",
          "model_name": "HTMLModel",
          "model_module_version": "1.5.0",
          "state": {
            "_dom_classes": [],
            "_model_module": "@jupyter-widgets/controls",
            "_model_module_version": "1.5.0",
            "_model_name": "HTMLModel",
            "_view_count": null,
            "_view_module": "@jupyter-widgets/controls",
            "_view_module_version": "1.5.0",
            "_view_name": "HTMLView",
            "description": "",
            "description_tooltip": null,
            "layout": "IPY_MODEL_74786ad6e60e43b6b94a19ebd1d40b9e",
            "placeholder": "​",
            "style": "IPY_MODEL_3e03448ed758411aae5ee993c8870312",
            "value": " 2/2 [03:37&lt;00:00, 101.83s/ splits]"
          }
        },
        "759301fa48bc41cea417394d44154ea1": {
          "model_module": "@jupyter-widgets/base",
          "model_name": "LayoutModel",
          "model_module_version": "1.2.0",
          "state": {
            "_model_module": "@jupyter-widgets/base",
            "_model_module_version": "1.2.0",
            "_model_name": "LayoutModel",
            "_view_count": null,
            "_view_module": "@jupyter-widgets/base",
            "_view_module_version": "1.2.0",
            "_view_name": "LayoutView",
            "align_content": null,
            "align_items": null,
            "align_self": null,
            "border": null,
            "bottom": null,
            "display": null,
            "flex": null,
            "flex_flow": null,
            "grid_area": null,
            "grid_auto_columns": null,
            "grid_auto_flow": null,
            "grid_auto_rows": null,
            "grid_column": null,
            "grid_gap": null,
            "grid_row": null,
            "grid_template_areas": null,
            "grid_template_columns": null,
            "grid_template_rows": null,
            "height": null,
            "justify_content": null,
            "justify_items": null,
            "left": null,
            "margin": null,
            "max_height": null,
            "max_width": null,
            "min_height": null,
            "min_width": null,
            "object_fit": null,
            "object_position": null,
            "order": null,
            "overflow": null,
            "overflow_x": null,
            "overflow_y": null,
            "padding": null,
            "right": null,
            "top": null,
            "visibility": null,
            "width": null
          }
        },
        "daa1bc2e26234714884d29b7cfb95f33": {
          "model_module": "@jupyter-widgets/base",
          "model_name": "LayoutModel",
          "model_module_version": "1.2.0",
          "state": {
            "_model_module": "@jupyter-widgets/base",
            "_model_module_version": "1.2.0",
            "_model_name": "LayoutModel",
            "_view_count": null,
            "_view_module": "@jupyter-widgets/base",
            "_view_module_version": "1.2.0",
            "_view_name": "LayoutView",
            "align_content": null,
            "align_items": null,
            "align_self": null,
            "border": null,
            "bottom": null,
            "display": null,
            "flex": null,
            "flex_flow": null,
            "grid_area": null,
            "grid_auto_columns": null,
            "grid_auto_flow": null,
            "grid_auto_rows": null,
            "grid_column": null,
            "grid_gap": null,
            "grid_row": null,
            "grid_template_areas": null,
            "grid_template_columns": null,
            "grid_template_rows": null,
            "height": null,
            "justify_content": null,
            "justify_items": null,
            "left": null,
            "margin": null,
            "max_height": null,
            "max_width": null,
            "min_height": null,
            "min_width": null,
            "object_fit": null,
            "object_position": null,
            "order": null,
            "overflow": null,
            "overflow_x": null,
            "overflow_y": null,
            "padding": null,
            "right": null,
            "top": null,
            "visibility": null,
            "width": null
          }
        },
        "663ef5ea92ce421bb1562adbaf1ab87d": {
          "model_module": "@jupyter-widgets/controls",
          "model_name": "DescriptionStyleModel",
          "model_module_version": "1.5.0",
          "state": {
            "_model_module": "@jupyter-widgets/controls",
            "_model_module_version": "1.5.0",
            "_model_name": "DescriptionStyleModel",
            "_view_count": null,
            "_view_module": "@jupyter-widgets/base",
            "_view_module_version": "1.2.0",
            "_view_name": "StyleView",
            "description_width": ""
          }
        },
        "46f7f41a28e34dbe87640875e6065bb4": {
          "model_module": "@jupyter-widgets/base",
          "model_name": "LayoutModel",
          "model_module_version": "1.2.0",
          "state": {
            "_model_module": "@jupyter-widgets/base",
            "_model_module_version": "1.2.0",
            "_model_name": "LayoutModel",
            "_view_count": null,
            "_view_module": "@jupyter-widgets/base",
            "_view_module_version": "1.2.0",
            "_view_name": "LayoutView",
            "align_content": null,
            "align_items": null,
            "align_self": null,
            "border": null,
            "bottom": null,
            "display": null,
            "flex": null,
            "flex_flow": null,
            "grid_area": null,
            "grid_auto_columns": null,
            "grid_auto_flow": null,
            "grid_auto_rows": null,
            "grid_column": null,
            "grid_gap": null,
            "grid_row": null,
            "grid_template_areas": null,
            "grid_template_columns": null,
            "grid_template_rows": null,
            "height": null,
            "justify_content": null,
            "justify_items": null,
            "left": null,
            "margin": null,
            "max_height": null,
            "max_width": null,
            "min_height": null,
            "min_width": null,
            "object_fit": null,
            "object_position": null,
            "order": null,
            "overflow": null,
            "overflow_x": null,
            "overflow_y": null,
            "padding": null,
            "right": null,
            "top": null,
            "visibility": null,
            "width": null
          }
        },
        "af192ed220eb4865bf680ab27526f0ab": {
          "model_module": "@jupyter-widgets/controls",
          "model_name": "ProgressStyleModel",
          "model_module_version": "1.5.0",
          "state": {
            "_model_module": "@jupyter-widgets/controls",
            "_model_module_version": "1.5.0",
            "_model_name": "ProgressStyleModel",
            "_view_count": null,
            "_view_module": "@jupyter-widgets/base",
            "_view_module_version": "1.2.0",
            "_view_name": "StyleView",
            "bar_color": null,
            "description_width": ""
          }
        },
        "74786ad6e60e43b6b94a19ebd1d40b9e": {
          "model_module": "@jupyter-widgets/base",
          "model_name": "LayoutModel",
          "model_module_version": "1.2.0",
          "state": {
            "_model_module": "@jupyter-widgets/base",
            "_model_module_version": "1.2.0",
            "_model_name": "LayoutModel",
            "_view_count": null,
            "_view_module": "@jupyter-widgets/base",
            "_view_module_version": "1.2.0",
            "_view_name": "LayoutView",
            "align_content": null,
            "align_items": null,
            "align_self": null,
            "border": null,
            "bottom": null,
            "display": null,
            "flex": null,
            "flex_flow": null,
            "grid_area": null,
            "grid_auto_columns": null,
            "grid_auto_flow": null,
            "grid_auto_rows": null,
            "grid_column": null,
            "grid_gap": null,
            "grid_row": null,
            "grid_template_areas": null,
            "grid_template_columns": null,
            "grid_template_rows": null,
            "height": null,
            "justify_content": null,
            "justify_items": null,
            "left": null,
            "margin": null,
            "max_height": null,
            "max_width": null,
            "min_height": null,
            "min_width": null,
            "object_fit": null,
            "object_position": null,
            "order": null,
            "overflow": null,
            "overflow_x": null,
            "overflow_y": null,
            "padding": null,
            "right": null,
            "top": null,
            "visibility": null,
            "width": null
          }
        },
        "3e03448ed758411aae5ee993c8870312": {
          "model_module": "@jupyter-widgets/controls",
          "model_name": "DescriptionStyleModel",
          "model_module_version": "1.5.0",
          "state": {
            "_model_module": "@jupyter-widgets/controls",
            "_model_module_version": "1.5.0",
            "_model_name": "DescriptionStyleModel",
            "_view_count": null,
            "_view_module": "@jupyter-widgets/base",
            "_view_module_version": "1.2.0",
            "_view_name": "StyleView",
            "description_width": ""
          }
        },
        "fa06624ae7694318a1d8d5efc680d505": {
          "model_module": "@jupyter-widgets/controls",
          "model_name": "HBoxModel",
          "model_module_version": "1.5.0",
          "state": {
            "_dom_classes": [],
            "_model_module": "@jupyter-widgets/controls",
            "_model_module_version": "1.5.0",
            "_model_name": "HBoxModel",
            "_view_count": null,
            "_view_module": "@jupyter-widgets/controls",
            "_view_module_version": "1.5.0",
            "_view_name": "HBoxView",
            "box_style": "",
            "children": [
              "IPY_MODEL_d2a59b4b707b409cb57795083ee4c8e0",
              "IPY_MODEL_4828e174d2a74445a34edcdec44efe10",
              "IPY_MODEL_5b535d552fe14caabcb3e4698c505c61"
            ],
            "layout": "IPY_MODEL_aa402a171fba46479621273b72634478"
          }
        },
        "d2a59b4b707b409cb57795083ee4c8e0": {
          "model_module": "@jupyter-widgets/controls",
          "model_name": "HTMLModel",
          "model_module_version": "1.5.0",
          "state": {
            "_dom_classes": [],
            "_model_module": "@jupyter-widgets/controls",
            "_model_module_version": "1.5.0",
            "_model_name": "HTMLModel",
            "_view_count": null,
            "_view_module": "@jupyter-widgets/controls",
            "_view_module_version": "1.5.0",
            "_view_name": "HTMLView",
            "description": "",
            "description_tooltip": null,
            "layout": "IPY_MODEL_7256a23e6d384e2db1472655f79d58c2",
            "placeholder": "​",
            "style": "IPY_MODEL_2f156f9595c54f178b2c04bfe36b5605",
            "value": "Generating train examples...: 100%"
          }
        },
        "4828e174d2a74445a34edcdec44efe10": {
          "model_module": "@jupyter-widgets/controls",
          "model_name": "FloatProgressModel",
          "model_module_version": "1.5.0",
          "state": {
            "_dom_classes": [],
            "_model_module": "@jupyter-widgets/controls",
            "_model_module_version": "1.5.0",
            "_model_name": "FloatProgressModel",
            "_view_count": null,
            "_view_module": "@jupyter-widgets/controls",
            "_view_module_version": "1.5.0",
            "_view_name": "ProgressView",
            "bar_style": "",
            "description": "",
            "description_tooltip": null,
            "layout": "IPY_MODEL_209eb11232f84a5da41ef40e4b08cf82",
            "max": 75750,
            "min": 0,
            "orientation": "horizontal",
            "style": "IPY_MODEL_1e564c9cbed341318a461c2a80e987f6",
            "value": 75750
          }
        },
        "5b535d552fe14caabcb3e4698c505c61": {
          "model_module": "@jupyter-widgets/controls",
          "model_name": "HTMLModel",
          "model_module_version": "1.5.0",
          "state": {
            "_dom_classes": [],
            "_model_module": "@jupyter-widgets/controls",
            "_model_module_version": "1.5.0",
            "_model_name": "HTMLModel",
            "_view_count": null,
            "_view_module": "@jupyter-widgets/controls",
            "_view_module_version": "1.5.0",
            "_view_name": "HTMLView",
            "description": "",
            "description_tooltip": null,
            "layout": "IPY_MODEL_fc32ce70f40141368022d0347b989efd",
            "placeholder": "​",
            "style": "IPY_MODEL_7a17d50d6ccf4ce986aeb04f088e3d0e",
            "value": " 75706/75750 [01:55&lt;00:00, 843.53 examples/s]"
          }
        },
        "aa402a171fba46479621273b72634478": {
          "model_module": "@jupyter-widgets/base",
          "model_name": "LayoutModel",
          "model_module_version": "1.2.0",
          "state": {
            "_model_module": "@jupyter-widgets/base",
            "_model_module_version": "1.2.0",
            "_model_name": "LayoutModel",
            "_view_count": null,
            "_view_module": "@jupyter-widgets/base",
            "_view_module_version": "1.2.0",
            "_view_name": "LayoutView",
            "align_content": null,
            "align_items": null,
            "align_self": null,
            "border": null,
            "bottom": null,
            "display": null,
            "flex": null,
            "flex_flow": null,
            "grid_area": null,
            "grid_auto_columns": null,
            "grid_auto_flow": null,
            "grid_auto_rows": null,
            "grid_column": null,
            "grid_gap": null,
            "grid_row": null,
            "grid_template_areas": null,
            "grid_template_columns": null,
            "grid_template_rows": null,
            "height": null,
            "justify_content": null,
            "justify_items": null,
            "left": null,
            "margin": null,
            "max_height": null,
            "max_width": null,
            "min_height": null,
            "min_width": null,
            "object_fit": null,
            "object_position": null,
            "order": null,
            "overflow": null,
            "overflow_x": null,
            "overflow_y": null,
            "padding": null,
            "right": null,
            "top": null,
            "visibility": null,
            "width": null
          }
        },
        "7256a23e6d384e2db1472655f79d58c2": {
          "model_module": "@jupyter-widgets/base",
          "model_name": "LayoutModel",
          "model_module_version": "1.2.0",
          "state": {
            "_model_module": "@jupyter-widgets/base",
            "_model_module_version": "1.2.0",
            "_model_name": "LayoutModel",
            "_view_count": null,
            "_view_module": "@jupyter-widgets/base",
            "_view_module_version": "1.2.0",
            "_view_name": "LayoutView",
            "align_content": null,
            "align_items": null,
            "align_self": null,
            "border": null,
            "bottom": null,
            "display": null,
            "flex": null,
            "flex_flow": null,
            "grid_area": null,
            "grid_auto_columns": null,
            "grid_auto_flow": null,
            "grid_auto_rows": null,
            "grid_column": null,
            "grid_gap": null,
            "grid_row": null,
            "grid_template_areas": null,
            "grid_template_columns": null,
            "grid_template_rows": null,
            "height": null,
            "justify_content": null,
            "justify_items": null,
            "left": null,
            "margin": null,
            "max_height": null,
            "max_width": null,
            "min_height": null,
            "min_width": null,
            "object_fit": null,
            "object_position": null,
            "order": null,
            "overflow": null,
            "overflow_x": null,
            "overflow_y": null,
            "padding": null,
            "right": null,
            "top": null,
            "visibility": null,
            "width": null
          }
        },
        "2f156f9595c54f178b2c04bfe36b5605": {
          "model_module": "@jupyter-widgets/controls",
          "model_name": "DescriptionStyleModel",
          "model_module_version": "1.5.0",
          "state": {
            "_model_module": "@jupyter-widgets/controls",
            "_model_module_version": "1.5.0",
            "_model_name": "DescriptionStyleModel",
            "_view_count": null,
            "_view_module": "@jupyter-widgets/base",
            "_view_module_version": "1.2.0",
            "_view_name": "StyleView",
            "description_width": ""
          }
        },
        "209eb11232f84a5da41ef40e4b08cf82": {
          "model_module": "@jupyter-widgets/base",
          "model_name": "LayoutModel",
          "model_module_version": "1.2.0",
          "state": {
            "_model_module": "@jupyter-widgets/base",
            "_model_module_version": "1.2.0",
            "_model_name": "LayoutModel",
            "_view_count": null,
            "_view_module": "@jupyter-widgets/base",
            "_view_module_version": "1.2.0",
            "_view_name": "LayoutView",
            "align_content": null,
            "align_items": null,
            "align_self": null,
            "border": null,
            "bottom": null,
            "display": null,
            "flex": null,
            "flex_flow": null,
            "grid_area": null,
            "grid_auto_columns": null,
            "grid_auto_flow": null,
            "grid_auto_rows": null,
            "grid_column": null,
            "grid_gap": null,
            "grid_row": null,
            "grid_template_areas": null,
            "grid_template_columns": null,
            "grid_template_rows": null,
            "height": null,
            "justify_content": null,
            "justify_items": null,
            "left": null,
            "margin": null,
            "max_height": null,
            "max_width": null,
            "min_height": null,
            "min_width": null,
            "object_fit": null,
            "object_position": null,
            "order": null,
            "overflow": null,
            "overflow_x": null,
            "overflow_y": null,
            "padding": null,
            "right": null,
            "top": null,
            "visibility": null,
            "width": null
          }
        },
        "1e564c9cbed341318a461c2a80e987f6": {
          "model_module": "@jupyter-widgets/controls",
          "model_name": "ProgressStyleModel",
          "model_module_version": "1.5.0",
          "state": {
            "_model_module": "@jupyter-widgets/controls",
            "_model_module_version": "1.5.0",
            "_model_name": "ProgressStyleModel",
            "_view_count": null,
            "_view_module": "@jupyter-widgets/base",
            "_view_module_version": "1.2.0",
            "_view_name": "StyleView",
            "bar_color": null,
            "description_width": ""
          }
        },
        "fc32ce70f40141368022d0347b989efd": {
          "model_module": "@jupyter-widgets/base",
          "model_name": "LayoutModel",
          "model_module_version": "1.2.0",
          "state": {
            "_model_module": "@jupyter-widgets/base",
            "_model_module_version": "1.2.0",
            "_model_name": "LayoutModel",
            "_view_count": null,
            "_view_module": "@jupyter-widgets/base",
            "_view_module_version": "1.2.0",
            "_view_name": "LayoutView",
            "align_content": null,
            "align_items": null,
            "align_self": null,
            "border": null,
            "bottom": null,
            "display": null,
            "flex": null,
            "flex_flow": null,
            "grid_area": null,
            "grid_auto_columns": null,
            "grid_auto_flow": null,
            "grid_auto_rows": null,
            "grid_column": null,
            "grid_gap": null,
            "grid_row": null,
            "grid_template_areas": null,
            "grid_template_columns": null,
            "grid_template_rows": null,
            "height": null,
            "justify_content": null,
            "justify_items": null,
            "left": null,
            "margin": null,
            "max_height": null,
            "max_width": null,
            "min_height": null,
            "min_width": null,
            "object_fit": null,
            "object_position": null,
            "order": null,
            "overflow": null,
            "overflow_x": null,
            "overflow_y": null,
            "padding": null,
            "right": null,
            "top": null,
            "visibility": null,
            "width": null
          }
        },
        "7a17d50d6ccf4ce986aeb04f088e3d0e": {
          "model_module": "@jupyter-widgets/controls",
          "model_name": "DescriptionStyleModel",
          "model_module_version": "1.5.0",
          "state": {
            "_model_module": "@jupyter-widgets/controls",
            "_model_module_version": "1.5.0",
            "_model_name": "DescriptionStyleModel",
            "_view_count": null,
            "_view_module": "@jupyter-widgets/base",
            "_view_module_version": "1.2.0",
            "_view_name": "StyleView",
            "description_width": ""
          }
        },
        "941a8e1962434b06867e62dfca66c452": {
          "model_module": "@jupyter-widgets/controls",
          "model_name": "HBoxModel",
          "model_module_version": "1.5.0",
          "state": {
            "_dom_classes": [],
            "_model_module": "@jupyter-widgets/controls",
            "_model_module_version": "1.5.0",
            "_model_name": "HBoxModel",
            "_view_count": null,
            "_view_module": "@jupyter-widgets/controls",
            "_view_module_version": "1.5.0",
            "_view_name": "HBoxView",
            "box_style": "",
            "children": [
              "IPY_MODEL_633611eebb004f6aa51147951a5fb588",
              "IPY_MODEL_7889fac98ff24fa792148d2676cae842",
              "IPY_MODEL_dfc22b33774b401e9be3a79dd289fc03"
            ],
            "layout": "IPY_MODEL_ab44620d44a847e188b40c1b5a38c8d7"
          }
        },
        "633611eebb004f6aa51147951a5fb588": {
          "model_module": "@jupyter-widgets/controls",
          "model_name": "HTMLModel",
          "model_module_version": "1.5.0",
          "state": {
            "_dom_classes": [],
            "_model_module": "@jupyter-widgets/controls",
            "_model_module_version": "1.5.0",
            "_model_name": "HTMLModel",
            "_view_count": null,
            "_view_module": "@jupyter-widgets/controls",
            "_view_module_version": "1.5.0",
            "_view_name": "HTMLView",
            "description": "",
            "description_tooltip": null,
            "layout": "IPY_MODEL_c9e6b494f2964eb78e44c637f6d95709",
            "placeholder": "​",
            "style": "IPY_MODEL_be45e6812ba243acb7af0affe0514877",
            "value": "Shuffling ~/tensorflow_datasets/food101/2.0.0.incompleteVWPY2Q/food101-train.tfrecord*...: 100%"
          }
        },
        "7889fac98ff24fa792148d2676cae842": {
          "model_module": "@jupyter-widgets/controls",
          "model_name": "FloatProgressModel",
          "model_module_version": "1.5.0",
          "state": {
            "_dom_classes": [],
            "_model_module": "@jupyter-widgets/controls",
            "_model_module_version": "1.5.0",
            "_model_name": "FloatProgressModel",
            "_view_count": null,
            "_view_module": "@jupyter-widgets/controls",
            "_view_module_version": "1.5.0",
            "_view_name": "ProgressView",
            "bar_style": "",
            "description": "",
            "description_tooltip": null,
            "layout": "IPY_MODEL_66b737e479744711a2644ec603081ab3",
            "max": 75750,
            "min": 0,
            "orientation": "horizontal",
            "style": "IPY_MODEL_56bfbda129404241ac965fec67f2dfaa",
            "value": 75750
          }
        },
        "dfc22b33774b401e9be3a79dd289fc03": {
          "model_module": "@jupyter-widgets/controls",
          "model_name": "HTMLModel",
          "model_module_version": "1.5.0",
          "state": {
            "_dom_classes": [],
            "_model_module": "@jupyter-widgets/controls",
            "_model_module_version": "1.5.0",
            "_model_name": "HTMLModel",
            "_view_count": null,
            "_view_module": "@jupyter-widgets/controls",
            "_view_module_version": "1.5.0",
            "_view_name": "HTMLView",
            "description": "",
            "description_tooltip": null,
            "layout": "IPY_MODEL_c7a34ea236114bafaa38c2802a8bec84",
            "placeholder": "​",
            "style": "IPY_MODEL_3589f5de5c54478a9533e42cf8377ac9",
            "value": " 75680/75750 [00:31&lt;00:00, 2422.79 examples/s]"
          }
        },
        "ab44620d44a847e188b40c1b5a38c8d7": {
          "model_module": "@jupyter-widgets/base",
          "model_name": "LayoutModel",
          "model_module_version": "1.2.0",
          "state": {
            "_model_module": "@jupyter-widgets/base",
            "_model_module_version": "1.2.0",
            "_model_name": "LayoutModel",
            "_view_count": null,
            "_view_module": "@jupyter-widgets/base",
            "_view_module_version": "1.2.0",
            "_view_name": "LayoutView",
            "align_content": null,
            "align_items": null,
            "align_self": null,
            "border": null,
            "bottom": null,
            "display": null,
            "flex": null,
            "flex_flow": null,
            "grid_area": null,
            "grid_auto_columns": null,
            "grid_auto_flow": null,
            "grid_auto_rows": null,
            "grid_column": null,
            "grid_gap": null,
            "grid_row": null,
            "grid_template_areas": null,
            "grid_template_columns": null,
            "grid_template_rows": null,
            "height": null,
            "justify_content": null,
            "justify_items": null,
            "left": null,
            "margin": null,
            "max_height": null,
            "max_width": null,
            "min_height": null,
            "min_width": null,
            "object_fit": null,
            "object_position": null,
            "order": null,
            "overflow": null,
            "overflow_x": null,
            "overflow_y": null,
            "padding": null,
            "right": null,
            "top": null,
            "visibility": null,
            "width": null
          }
        },
        "c9e6b494f2964eb78e44c637f6d95709": {
          "model_module": "@jupyter-widgets/base",
          "model_name": "LayoutModel",
          "model_module_version": "1.2.0",
          "state": {
            "_model_module": "@jupyter-widgets/base",
            "_model_module_version": "1.2.0",
            "_model_name": "LayoutModel",
            "_view_count": null,
            "_view_module": "@jupyter-widgets/base",
            "_view_module_version": "1.2.0",
            "_view_name": "LayoutView",
            "align_content": null,
            "align_items": null,
            "align_self": null,
            "border": null,
            "bottom": null,
            "display": null,
            "flex": null,
            "flex_flow": null,
            "grid_area": null,
            "grid_auto_columns": null,
            "grid_auto_flow": null,
            "grid_auto_rows": null,
            "grid_column": null,
            "grid_gap": null,
            "grid_row": null,
            "grid_template_areas": null,
            "grid_template_columns": null,
            "grid_template_rows": null,
            "height": null,
            "justify_content": null,
            "justify_items": null,
            "left": null,
            "margin": null,
            "max_height": null,
            "max_width": null,
            "min_height": null,
            "min_width": null,
            "object_fit": null,
            "object_position": null,
            "order": null,
            "overflow": null,
            "overflow_x": null,
            "overflow_y": null,
            "padding": null,
            "right": null,
            "top": null,
            "visibility": null,
            "width": null
          }
        },
        "be45e6812ba243acb7af0affe0514877": {
          "model_module": "@jupyter-widgets/controls",
          "model_name": "DescriptionStyleModel",
          "model_module_version": "1.5.0",
          "state": {
            "_model_module": "@jupyter-widgets/controls",
            "_model_module_version": "1.5.0",
            "_model_name": "DescriptionStyleModel",
            "_view_count": null,
            "_view_module": "@jupyter-widgets/base",
            "_view_module_version": "1.2.0",
            "_view_name": "StyleView",
            "description_width": ""
          }
        },
        "66b737e479744711a2644ec603081ab3": {
          "model_module": "@jupyter-widgets/base",
          "model_name": "LayoutModel",
          "model_module_version": "1.2.0",
          "state": {
            "_model_module": "@jupyter-widgets/base",
            "_model_module_version": "1.2.0",
            "_model_name": "LayoutModel",
            "_view_count": null,
            "_view_module": "@jupyter-widgets/base",
            "_view_module_version": "1.2.0",
            "_view_name": "LayoutView",
            "align_content": null,
            "align_items": null,
            "align_self": null,
            "border": null,
            "bottom": null,
            "display": null,
            "flex": null,
            "flex_flow": null,
            "grid_area": null,
            "grid_auto_columns": null,
            "grid_auto_flow": null,
            "grid_auto_rows": null,
            "grid_column": null,
            "grid_gap": null,
            "grid_row": null,
            "grid_template_areas": null,
            "grid_template_columns": null,
            "grid_template_rows": null,
            "height": null,
            "justify_content": null,
            "justify_items": null,
            "left": null,
            "margin": null,
            "max_height": null,
            "max_width": null,
            "min_height": null,
            "min_width": null,
            "object_fit": null,
            "object_position": null,
            "order": null,
            "overflow": null,
            "overflow_x": null,
            "overflow_y": null,
            "padding": null,
            "right": null,
            "top": null,
            "visibility": null,
            "width": null
          }
        },
        "56bfbda129404241ac965fec67f2dfaa": {
          "model_module": "@jupyter-widgets/controls",
          "model_name": "ProgressStyleModel",
          "model_module_version": "1.5.0",
          "state": {
            "_model_module": "@jupyter-widgets/controls",
            "_model_module_version": "1.5.0",
            "_model_name": "ProgressStyleModel",
            "_view_count": null,
            "_view_module": "@jupyter-widgets/base",
            "_view_module_version": "1.2.0",
            "_view_name": "StyleView",
            "bar_color": null,
            "description_width": ""
          }
        },
        "c7a34ea236114bafaa38c2802a8bec84": {
          "model_module": "@jupyter-widgets/base",
          "model_name": "LayoutModel",
          "model_module_version": "1.2.0",
          "state": {
            "_model_module": "@jupyter-widgets/base",
            "_model_module_version": "1.2.0",
            "_model_name": "LayoutModel",
            "_view_count": null,
            "_view_module": "@jupyter-widgets/base",
            "_view_module_version": "1.2.0",
            "_view_name": "LayoutView",
            "align_content": null,
            "align_items": null,
            "align_self": null,
            "border": null,
            "bottom": null,
            "display": null,
            "flex": null,
            "flex_flow": null,
            "grid_area": null,
            "grid_auto_columns": null,
            "grid_auto_flow": null,
            "grid_auto_rows": null,
            "grid_column": null,
            "grid_gap": null,
            "grid_row": null,
            "grid_template_areas": null,
            "grid_template_columns": null,
            "grid_template_rows": null,
            "height": null,
            "justify_content": null,
            "justify_items": null,
            "left": null,
            "margin": null,
            "max_height": null,
            "max_width": null,
            "min_height": null,
            "min_width": null,
            "object_fit": null,
            "object_position": null,
            "order": null,
            "overflow": null,
            "overflow_x": null,
            "overflow_y": null,
            "padding": null,
            "right": null,
            "top": null,
            "visibility": null,
            "width": null
          }
        },
        "3589f5de5c54478a9533e42cf8377ac9": {
          "model_module": "@jupyter-widgets/controls",
          "model_name": "DescriptionStyleModel",
          "model_module_version": "1.5.0",
          "state": {
            "_model_module": "@jupyter-widgets/controls",
            "_model_module_version": "1.5.0",
            "_model_name": "DescriptionStyleModel",
            "_view_count": null,
            "_view_module": "@jupyter-widgets/base",
            "_view_module_version": "1.2.0",
            "_view_name": "StyleView",
            "description_width": ""
          }
        },
        "3989a6451de947b6b73bb773282f8fe2": {
          "model_module": "@jupyter-widgets/controls",
          "model_name": "HBoxModel",
          "model_module_version": "1.5.0",
          "state": {
            "_dom_classes": [],
            "_model_module": "@jupyter-widgets/controls",
            "_model_module_version": "1.5.0",
            "_model_name": "HBoxModel",
            "_view_count": null,
            "_view_module": "@jupyter-widgets/controls",
            "_view_module_version": "1.5.0",
            "_view_name": "HBoxView",
            "box_style": "",
            "children": [
              "IPY_MODEL_b9bc087fad624ac5aabdbdae86750e05",
              "IPY_MODEL_5d51e3f8e8a24004b5048f92507a1a0a",
              "IPY_MODEL_baeb7fcc8d654625b91d03b93bd3969b"
            ],
            "layout": "IPY_MODEL_0efa5d2c71c14d00bca02c00336befc4"
          }
        },
        "b9bc087fad624ac5aabdbdae86750e05": {
          "model_module": "@jupyter-widgets/controls",
          "model_name": "HTMLModel",
          "model_module_version": "1.5.0",
          "state": {
            "_dom_classes": [],
            "_model_module": "@jupyter-widgets/controls",
            "_model_module_version": "1.5.0",
            "_model_name": "HTMLModel",
            "_view_count": null,
            "_view_module": "@jupyter-widgets/controls",
            "_view_module_version": "1.5.0",
            "_view_name": "HTMLView",
            "description": "",
            "description_tooltip": null,
            "layout": "IPY_MODEL_293fd3bc622443a7852642f6678557ca",
            "placeholder": "​",
            "style": "IPY_MODEL_6af288b7999943e795ec6d7f0d4c086c",
            "value": "Generating validation examples...: 100%"
          }
        },
        "5d51e3f8e8a24004b5048f92507a1a0a": {
          "model_module": "@jupyter-widgets/controls",
          "model_name": "FloatProgressModel",
          "model_module_version": "1.5.0",
          "state": {
            "_dom_classes": [],
            "_model_module": "@jupyter-widgets/controls",
            "_model_module_version": "1.5.0",
            "_model_name": "FloatProgressModel",
            "_view_count": null,
            "_view_module": "@jupyter-widgets/controls",
            "_view_module_version": "1.5.0",
            "_view_name": "ProgressView",
            "bar_style": "",
            "description": "",
            "description_tooltip": null,
            "layout": "IPY_MODEL_10a6d072770b47d88d7da41f62ef3477",
            "max": 25250,
            "min": 0,
            "orientation": "horizontal",
            "style": "IPY_MODEL_a43b141ed4934814bc9c22b831073500",
            "value": 25250
          }
        },
        "baeb7fcc8d654625b91d03b93bd3969b": {
          "model_module": "@jupyter-widgets/controls",
          "model_name": "HTMLModel",
          "model_module_version": "1.5.0",
          "state": {
            "_dom_classes": [],
            "_model_module": "@jupyter-widgets/controls",
            "_model_module_version": "1.5.0",
            "_model_name": "HTMLModel",
            "_view_count": null,
            "_view_module": "@jupyter-widgets/controls",
            "_view_module_version": "1.5.0",
            "_view_name": "HTMLView",
            "description": "",
            "description_tooltip": null,
            "layout": "IPY_MODEL_a86ec651f65d451c9243867d4b211d74",
            "placeholder": "​",
            "style": "IPY_MODEL_9deb3c68e1e74e38bf35f434196684fe",
            "value": " 25199/25250 [01:05&lt;00:00, 392.74 examples/s]"
          }
        },
        "0efa5d2c71c14d00bca02c00336befc4": {
          "model_module": "@jupyter-widgets/base",
          "model_name": "LayoutModel",
          "model_module_version": "1.2.0",
          "state": {
            "_model_module": "@jupyter-widgets/base",
            "_model_module_version": "1.2.0",
            "_model_name": "LayoutModel",
            "_view_count": null,
            "_view_module": "@jupyter-widgets/base",
            "_view_module_version": "1.2.0",
            "_view_name": "LayoutView",
            "align_content": null,
            "align_items": null,
            "align_self": null,
            "border": null,
            "bottom": null,
            "display": null,
            "flex": null,
            "flex_flow": null,
            "grid_area": null,
            "grid_auto_columns": null,
            "grid_auto_flow": null,
            "grid_auto_rows": null,
            "grid_column": null,
            "grid_gap": null,
            "grid_row": null,
            "grid_template_areas": null,
            "grid_template_columns": null,
            "grid_template_rows": null,
            "height": null,
            "justify_content": null,
            "justify_items": null,
            "left": null,
            "margin": null,
            "max_height": null,
            "max_width": null,
            "min_height": null,
            "min_width": null,
            "object_fit": null,
            "object_position": null,
            "order": null,
            "overflow": null,
            "overflow_x": null,
            "overflow_y": null,
            "padding": null,
            "right": null,
            "top": null,
            "visibility": null,
            "width": null
          }
        },
        "293fd3bc622443a7852642f6678557ca": {
          "model_module": "@jupyter-widgets/base",
          "model_name": "LayoutModel",
          "model_module_version": "1.2.0",
          "state": {
            "_model_module": "@jupyter-widgets/base",
            "_model_module_version": "1.2.0",
            "_model_name": "LayoutModel",
            "_view_count": null,
            "_view_module": "@jupyter-widgets/base",
            "_view_module_version": "1.2.0",
            "_view_name": "LayoutView",
            "align_content": null,
            "align_items": null,
            "align_self": null,
            "border": null,
            "bottom": null,
            "display": null,
            "flex": null,
            "flex_flow": null,
            "grid_area": null,
            "grid_auto_columns": null,
            "grid_auto_flow": null,
            "grid_auto_rows": null,
            "grid_column": null,
            "grid_gap": null,
            "grid_row": null,
            "grid_template_areas": null,
            "grid_template_columns": null,
            "grid_template_rows": null,
            "height": null,
            "justify_content": null,
            "justify_items": null,
            "left": null,
            "margin": null,
            "max_height": null,
            "max_width": null,
            "min_height": null,
            "min_width": null,
            "object_fit": null,
            "object_position": null,
            "order": null,
            "overflow": null,
            "overflow_x": null,
            "overflow_y": null,
            "padding": null,
            "right": null,
            "top": null,
            "visibility": null,
            "width": null
          }
        },
        "6af288b7999943e795ec6d7f0d4c086c": {
          "model_module": "@jupyter-widgets/controls",
          "model_name": "DescriptionStyleModel",
          "model_module_version": "1.5.0",
          "state": {
            "_model_module": "@jupyter-widgets/controls",
            "_model_module_version": "1.5.0",
            "_model_name": "DescriptionStyleModel",
            "_view_count": null,
            "_view_module": "@jupyter-widgets/base",
            "_view_module_version": "1.2.0",
            "_view_name": "StyleView",
            "description_width": ""
          }
        },
        "10a6d072770b47d88d7da41f62ef3477": {
          "model_module": "@jupyter-widgets/base",
          "model_name": "LayoutModel",
          "model_module_version": "1.2.0",
          "state": {
            "_model_module": "@jupyter-widgets/base",
            "_model_module_version": "1.2.0",
            "_model_name": "LayoutModel",
            "_view_count": null,
            "_view_module": "@jupyter-widgets/base",
            "_view_module_version": "1.2.0",
            "_view_name": "LayoutView",
            "align_content": null,
            "align_items": null,
            "align_self": null,
            "border": null,
            "bottom": null,
            "display": null,
            "flex": null,
            "flex_flow": null,
            "grid_area": null,
            "grid_auto_columns": null,
            "grid_auto_flow": null,
            "grid_auto_rows": null,
            "grid_column": null,
            "grid_gap": null,
            "grid_row": null,
            "grid_template_areas": null,
            "grid_template_columns": null,
            "grid_template_rows": null,
            "height": null,
            "justify_content": null,
            "justify_items": null,
            "left": null,
            "margin": null,
            "max_height": null,
            "max_width": null,
            "min_height": null,
            "min_width": null,
            "object_fit": null,
            "object_position": null,
            "order": null,
            "overflow": null,
            "overflow_x": null,
            "overflow_y": null,
            "padding": null,
            "right": null,
            "top": null,
            "visibility": null,
            "width": null
          }
        },
        "a43b141ed4934814bc9c22b831073500": {
          "model_module": "@jupyter-widgets/controls",
          "model_name": "ProgressStyleModel",
          "model_module_version": "1.5.0",
          "state": {
            "_model_module": "@jupyter-widgets/controls",
            "_model_module_version": "1.5.0",
            "_model_name": "ProgressStyleModel",
            "_view_count": null,
            "_view_module": "@jupyter-widgets/base",
            "_view_module_version": "1.2.0",
            "_view_name": "StyleView",
            "bar_color": null,
            "description_width": ""
          }
        },
        "a86ec651f65d451c9243867d4b211d74": {
          "model_module": "@jupyter-widgets/base",
          "model_name": "LayoutModel",
          "model_module_version": "1.2.0",
          "state": {
            "_model_module": "@jupyter-widgets/base",
            "_model_module_version": "1.2.0",
            "_model_name": "LayoutModel",
            "_view_count": null,
            "_view_module": "@jupyter-widgets/base",
            "_view_module_version": "1.2.0",
            "_view_name": "LayoutView",
            "align_content": null,
            "align_items": null,
            "align_self": null,
            "border": null,
            "bottom": null,
            "display": null,
            "flex": null,
            "flex_flow": null,
            "grid_area": null,
            "grid_auto_columns": null,
            "grid_auto_flow": null,
            "grid_auto_rows": null,
            "grid_column": null,
            "grid_gap": null,
            "grid_row": null,
            "grid_template_areas": null,
            "grid_template_columns": null,
            "grid_template_rows": null,
            "height": null,
            "justify_content": null,
            "justify_items": null,
            "left": null,
            "margin": null,
            "max_height": null,
            "max_width": null,
            "min_height": null,
            "min_width": null,
            "object_fit": null,
            "object_position": null,
            "order": null,
            "overflow": null,
            "overflow_x": null,
            "overflow_y": null,
            "padding": null,
            "right": null,
            "top": null,
            "visibility": null,
            "width": null
          }
        },
        "9deb3c68e1e74e38bf35f434196684fe": {
          "model_module": "@jupyter-widgets/controls",
          "model_name": "DescriptionStyleModel",
          "model_module_version": "1.5.0",
          "state": {
            "_model_module": "@jupyter-widgets/controls",
            "_model_module_version": "1.5.0",
            "_model_name": "DescriptionStyleModel",
            "_view_count": null,
            "_view_module": "@jupyter-widgets/base",
            "_view_module_version": "1.2.0",
            "_view_name": "StyleView",
            "description_width": ""
          }
        },
        "aee383aa4f7745f1b74a4a8b73a81518": {
          "model_module": "@jupyter-widgets/controls",
          "model_name": "HBoxModel",
          "model_module_version": "1.5.0",
          "state": {
            "_dom_classes": [],
            "_model_module": "@jupyter-widgets/controls",
            "_model_module_version": "1.5.0",
            "_model_name": "HBoxModel",
            "_view_count": null,
            "_view_module": "@jupyter-widgets/controls",
            "_view_module_version": "1.5.0",
            "_view_name": "HBoxView",
            "box_style": "",
            "children": [
              "IPY_MODEL_48b08a26c29b4384aecc6cd0dd039f63",
              "IPY_MODEL_90c3ac0779be4cca8e04331cb0c00966",
              "IPY_MODEL_4ae1290c2c7f46bb89c0ec408e919055"
            ],
            "layout": "IPY_MODEL_a2f2af099fa94af4b90a2168cdd93d3e"
          }
        },
        "48b08a26c29b4384aecc6cd0dd039f63": {
          "model_module": "@jupyter-widgets/controls",
          "model_name": "HTMLModel",
          "model_module_version": "1.5.0",
          "state": {
            "_dom_classes": [],
            "_model_module": "@jupyter-widgets/controls",
            "_model_module_version": "1.5.0",
            "_model_name": "HTMLModel",
            "_view_count": null,
            "_view_module": "@jupyter-widgets/controls",
            "_view_module_version": "1.5.0",
            "_view_name": "HTMLView",
            "description": "",
            "description_tooltip": null,
            "layout": "IPY_MODEL_1b095509c3cf4e49963a97f48b2b3e6c",
            "placeholder": "​",
            "style": "IPY_MODEL_da773b3eeb4f40fab28464bcff117cab",
            "value": "Shuffling ~/tensorflow_datasets/food101/2.0.0.incompleteVWPY2Q/food101-validation.tfrecord*...: 100%"
          }
        },
        "90c3ac0779be4cca8e04331cb0c00966": {
          "model_module": "@jupyter-widgets/controls",
          "model_name": "FloatProgressModel",
          "model_module_version": "1.5.0",
          "state": {
            "_dom_classes": [],
            "_model_module": "@jupyter-widgets/controls",
            "_model_module_version": "1.5.0",
            "_model_name": "FloatProgressModel",
            "_view_count": null,
            "_view_module": "@jupyter-widgets/controls",
            "_view_module_version": "1.5.0",
            "_view_name": "ProgressView",
            "bar_style": "",
            "description": "",
            "description_tooltip": null,
            "layout": "IPY_MODEL_3f4474cf7198492c9047315c66a0a685",
            "max": 25250,
            "min": 0,
            "orientation": "horizontal",
            "style": "IPY_MODEL_078091865e8b47e5b7d64b90b7f2ada2",
            "value": 25250
          }
        },
        "4ae1290c2c7f46bb89c0ec408e919055": {
          "model_module": "@jupyter-widgets/controls",
          "model_name": "HTMLModel",
          "model_module_version": "1.5.0",
          "state": {
            "_dom_classes": [],
            "_model_module": "@jupyter-widgets/controls",
            "_model_module_version": "1.5.0",
            "_model_name": "HTMLModel",
            "_view_count": null,
            "_view_module": "@jupyter-widgets/controls",
            "_view_module_version": "1.5.0",
            "_view_name": "HTMLView",
            "description": "",
            "description_tooltip": null,
            "layout": "IPY_MODEL_428b7cb7ea94453484ebe85bf29b04c4",
            "placeholder": "​",
            "style": "IPY_MODEL_d82ace577b504b35ab73ed558f5deac0",
            "value": " 25194/25250 [00:04&lt;00:00, 5301.06 examples/s]"
          }
        },
        "a2f2af099fa94af4b90a2168cdd93d3e": {
          "model_module": "@jupyter-widgets/base",
          "model_name": "LayoutModel",
          "model_module_version": "1.2.0",
          "state": {
            "_model_module": "@jupyter-widgets/base",
            "_model_module_version": "1.2.0",
            "_model_name": "LayoutModel",
            "_view_count": null,
            "_view_module": "@jupyter-widgets/base",
            "_view_module_version": "1.2.0",
            "_view_name": "LayoutView",
            "align_content": null,
            "align_items": null,
            "align_self": null,
            "border": null,
            "bottom": null,
            "display": null,
            "flex": null,
            "flex_flow": null,
            "grid_area": null,
            "grid_auto_columns": null,
            "grid_auto_flow": null,
            "grid_auto_rows": null,
            "grid_column": null,
            "grid_gap": null,
            "grid_row": null,
            "grid_template_areas": null,
            "grid_template_columns": null,
            "grid_template_rows": null,
            "height": null,
            "justify_content": null,
            "justify_items": null,
            "left": null,
            "margin": null,
            "max_height": null,
            "max_width": null,
            "min_height": null,
            "min_width": null,
            "object_fit": null,
            "object_position": null,
            "order": null,
            "overflow": null,
            "overflow_x": null,
            "overflow_y": null,
            "padding": null,
            "right": null,
            "top": null,
            "visibility": null,
            "width": null
          }
        },
        "1b095509c3cf4e49963a97f48b2b3e6c": {
          "model_module": "@jupyter-widgets/base",
          "model_name": "LayoutModel",
          "model_module_version": "1.2.0",
          "state": {
            "_model_module": "@jupyter-widgets/base",
            "_model_module_version": "1.2.0",
            "_model_name": "LayoutModel",
            "_view_count": null,
            "_view_module": "@jupyter-widgets/base",
            "_view_module_version": "1.2.0",
            "_view_name": "LayoutView",
            "align_content": null,
            "align_items": null,
            "align_self": null,
            "border": null,
            "bottom": null,
            "display": null,
            "flex": null,
            "flex_flow": null,
            "grid_area": null,
            "grid_auto_columns": null,
            "grid_auto_flow": null,
            "grid_auto_rows": null,
            "grid_column": null,
            "grid_gap": null,
            "grid_row": null,
            "grid_template_areas": null,
            "grid_template_columns": null,
            "grid_template_rows": null,
            "height": null,
            "justify_content": null,
            "justify_items": null,
            "left": null,
            "margin": null,
            "max_height": null,
            "max_width": null,
            "min_height": null,
            "min_width": null,
            "object_fit": null,
            "object_position": null,
            "order": null,
            "overflow": null,
            "overflow_x": null,
            "overflow_y": null,
            "padding": null,
            "right": null,
            "top": null,
            "visibility": null,
            "width": null
          }
        },
        "da773b3eeb4f40fab28464bcff117cab": {
          "model_module": "@jupyter-widgets/controls",
          "model_name": "DescriptionStyleModel",
          "model_module_version": "1.5.0",
          "state": {
            "_model_module": "@jupyter-widgets/controls",
            "_model_module_version": "1.5.0",
            "_model_name": "DescriptionStyleModel",
            "_view_count": null,
            "_view_module": "@jupyter-widgets/base",
            "_view_module_version": "1.2.0",
            "_view_name": "StyleView",
            "description_width": ""
          }
        },
        "3f4474cf7198492c9047315c66a0a685": {
          "model_module": "@jupyter-widgets/base",
          "model_name": "LayoutModel",
          "model_module_version": "1.2.0",
          "state": {
            "_model_module": "@jupyter-widgets/base",
            "_model_module_version": "1.2.0",
            "_model_name": "LayoutModel",
            "_view_count": null,
            "_view_module": "@jupyter-widgets/base",
            "_view_module_version": "1.2.0",
            "_view_name": "LayoutView",
            "align_content": null,
            "align_items": null,
            "align_self": null,
            "border": null,
            "bottom": null,
            "display": null,
            "flex": null,
            "flex_flow": null,
            "grid_area": null,
            "grid_auto_columns": null,
            "grid_auto_flow": null,
            "grid_auto_rows": null,
            "grid_column": null,
            "grid_gap": null,
            "grid_row": null,
            "grid_template_areas": null,
            "grid_template_columns": null,
            "grid_template_rows": null,
            "height": null,
            "justify_content": null,
            "justify_items": null,
            "left": null,
            "margin": null,
            "max_height": null,
            "max_width": null,
            "min_height": null,
            "min_width": null,
            "object_fit": null,
            "object_position": null,
            "order": null,
            "overflow": null,
            "overflow_x": null,
            "overflow_y": null,
            "padding": null,
            "right": null,
            "top": null,
            "visibility": null,
            "width": null
          }
        },
        "078091865e8b47e5b7d64b90b7f2ada2": {
          "model_module": "@jupyter-widgets/controls",
          "model_name": "ProgressStyleModel",
          "model_module_version": "1.5.0",
          "state": {
            "_model_module": "@jupyter-widgets/controls",
            "_model_module_version": "1.5.0",
            "_model_name": "ProgressStyleModel",
            "_view_count": null,
            "_view_module": "@jupyter-widgets/base",
            "_view_module_version": "1.2.0",
            "_view_name": "StyleView",
            "bar_color": null,
            "description_width": ""
          }
        },
        "428b7cb7ea94453484ebe85bf29b04c4": {
          "model_module": "@jupyter-widgets/base",
          "model_name": "LayoutModel",
          "model_module_version": "1.2.0",
          "state": {
            "_model_module": "@jupyter-widgets/base",
            "_model_module_version": "1.2.0",
            "_model_name": "LayoutModel",
            "_view_count": null,
            "_view_module": "@jupyter-widgets/base",
            "_view_module_version": "1.2.0",
            "_view_name": "LayoutView",
            "align_content": null,
            "align_items": null,
            "align_self": null,
            "border": null,
            "bottom": null,
            "display": null,
            "flex": null,
            "flex_flow": null,
            "grid_area": null,
            "grid_auto_columns": null,
            "grid_auto_flow": null,
            "grid_auto_rows": null,
            "grid_column": null,
            "grid_gap": null,
            "grid_row": null,
            "grid_template_areas": null,
            "grid_template_columns": null,
            "grid_template_rows": null,
            "height": null,
            "justify_content": null,
            "justify_items": null,
            "left": null,
            "margin": null,
            "max_height": null,
            "max_width": null,
            "min_height": null,
            "min_width": null,
            "object_fit": null,
            "object_position": null,
            "order": null,
            "overflow": null,
            "overflow_x": null,
            "overflow_y": null,
            "padding": null,
            "right": null,
            "top": null,
            "visibility": null,
            "width": null
          }
        },
        "d82ace577b504b35ab73ed558f5deac0": {
          "model_module": "@jupyter-widgets/controls",
          "model_name": "DescriptionStyleModel",
          "model_module_version": "1.5.0",
          "state": {
            "_model_module": "@jupyter-widgets/controls",
            "_model_module_version": "1.5.0",
            "_model_name": "DescriptionStyleModel",
            "_view_count": null,
            "_view_module": "@jupyter-widgets/base",
            "_view_module_version": "1.2.0",
            "_view_name": "StyleView",
            "description_width": ""
          }
        }
      }
    }
  },
  "cells": [
    {
      "cell_type": "markdown",
      "source": [
        "# Exercise-3\n",
        "\n",
        "> I will be using a different model `tf.keras.applications.resnet_v2.ResNet50V2` as the base model for training.\n",
        "\n",
        "![image.png](data:image/png;base64,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)"
      ],
      "metadata": {
        "id": "o_p--rkilVaj"
      }
    },
    {
      "cell_type": "markdown",
      "source": [
        "## Imports"
      ],
      "metadata": {
        "id": "QnMPBIzdnXj7"
      }
    },
    {
      "cell_type": "code",
      "source": [
        "import pandas as pd\n",
        "import numpy as np\n",
        "import tensorflow as tf\n",
        "import seaborn as sns\n",
        "import tensorflow_datasets as tfds\n",
        "from tensorflow.keras import layers\n",
        "from tensorflow.keras.layers.experimental import preprocessing\n",
        "from tensorflow.keras import regularizers\n",
        "from tensorflow.keras import mixed_precision\n",
        "\n",
        "import os\n",
        "import random\n",
        "import itertools\n",
        "\n",
        "from sklearn.metrics import accuracy_score\n",
        "from sklearn.metrics import classification_report\n",
        "from sklearn.metrics import confusion_matrix\n",
        "\n",
        "import matplotlib.pyplot as plt\n",
        "%matplotlib inline"
      ],
      "metadata": {
        "id": "y6JJpq4yFuJN"
      },
      "execution_count": 1,
      "outputs": []
    },
    {
      "cell_type": "markdown",
      "source": [
        "## Helper Function"
      ],
      "metadata": {
        "id": "ZVLDOCieI33i"
      }
    },
    {
      "cell_type": "code",
      "source": [
        "!wget https://raw.githubusercontent.com/arghanath007/MachineLearning/main/Deep%20Learning/Transfer%20Learning/helper_functions.py"
      ],
      "metadata": {
        "colab": {
          "base_uri": "https://localhost:8080/"
        },
        "id": "chdZnWgtFvyD",
        "outputId": "a460c29e-54d0-4f0e-8784-804a9cbb7fca"
      },
      "execution_count": 2,
      "outputs": [
        {
          "output_type": "stream",
          "name": "stdout",
          "text": [
            "--2022-08-17 11:50:30--  https://raw.githubusercontent.com/arghanath007/MachineLearning/main/Deep%20Learning/Transfer%20Learning/helper_functions.py\n",
            "Resolving raw.githubusercontent.com (raw.githubusercontent.com)... 185.199.108.133, 185.199.109.133, 185.199.110.133, ...\n",
            "Connecting to raw.githubusercontent.com (raw.githubusercontent.com)|185.199.108.133|:443... connected.\n",
            "HTTP request sent, awaiting response... 200 OK\n",
            "Length: 19296 (19K) [text/plain]\n",
            "Saving to: ‘helper_functions.py’\n",
            "\n",
            "helper_functions.py 100%[===================>]  18.84K  --.-KB/s    in 0s      \n",
            "\n",
            "2022-08-17 11:50:30 (89.5 MB/s) - ‘helper_functions.py’ saved [19296/19296]\n",
            "\n"
          ]
        }
      ]
    },
    {
      "cell_type": "code",
      "source": [
        "from helper_functions import unzip_data, plot_loss_curves, compare_historys, create_data_augmented_layer_for_model, load_and_prep_image, make_confusion_matrix_for_larger_dataset"
      ],
      "metadata": {
        "id": "QbV0sEnDFvkI"
      },
      "execution_count": 3,
      "outputs": []
    },
    {
      "cell_type": "markdown",
      "source": [
        "## Loading the dataset"
      ],
      "metadata": {
        "id": "m5qPj2QGJTEt"
      }
    },
    {
      "cell_type": "code",
      "source": [
        "(train_data, test_data), ds_info= tfds.load(name=\"food101\", split=[\"train\", \"validation\"], shuffle_files=False, as_supervised=True, with_info=True)"
      ],
      "metadata": {
        "colab": {
          "base_uri": "https://localhost:8080/",
          "height": 153,
          "referenced_widgets": [
            "b8dcaa128d9f4197912fd98447086169",
            "8362e6b0f31d452baadbdb30989cfbec",
            "861656b4d97843a098e2c6f5d11e9100",
            "0043aa6b01074861b81f2db79b16e21b",
            "699dd49c01ca4488be7bfa004e8cce96",
            "5cd65d0bab274d0ab53eddd81ebc06a5",
            "2a94bd76e8144a86a873c57a0f3a30da",
            "cee2418939d242f29d4c6751e9b9a237",
            "3fdc4092a0154994b057f6f5bf71cee3",
            "dc1db2e7e05a4b3c8f8b2b746d5c31d4",
            "6668f52146de475a927b9f286a66162a",
            "acfb37717a2d4d949e61db26fbaee0a3",
            "64ed3b27317d498f8f431bfa7deb1e30",
            "2b76d72ccf3242de813185fc4313aed5",
            "556b7759894241bf9ad61f80a17d8eb5",
            "d4281022aeed4996974fc7e21865e4f0",
            "d87f8721b41c4f05bc487c3ea39bb312",
            "902f16a2f75044e0b9a8b0835e1a081b",
            "ecdcb6bb382c48baa65a65237818fc45",
            "ee796364b0944a67a407c8d23495c58e",
            "7789c3431aac47d5896c312a89572440",
            "05bcbfd8f6484855940dbb417f0112fd",
            "c38ae396e9314d97b18a32fde4e1d67f",
            "9c66a3f29d2d40c79b0e46c094011674",
            "98892ebf890342b2a43f418c98940554",
            "c20c0f8cd31e4e59b7d8448a41c8f1c3",
            "7b8fdbce01974e8d8bd4eda05b8e0f6d",
            "7614a8be33c84d3da0e1edbc74a4f92b",
            "3831f492f9a541b3a22cca7ccc29788c",
            "d25f20ba36d24cc8a679e575113d0ef9",
            "3d8cd1f612224bd7ad035e85b7365f49",
            "ed89f706b41743498b3b18e051c26813",
            "890644fb03a842e78f11d301f7aa1c92",
            "27880df385fd4333ab8c08bb53dc827a",
            "8fa69b910c1e49f18d2be7652ea22401",
            "a9d2acad665848ca95f544504d339db5",
            "e0a730fda01f40adbe40b03822468a09",
            "759301fa48bc41cea417394d44154ea1",
            "daa1bc2e26234714884d29b7cfb95f33",
            "663ef5ea92ce421bb1562adbaf1ab87d",
            "46f7f41a28e34dbe87640875e6065bb4",
            "af192ed220eb4865bf680ab27526f0ab",
            "74786ad6e60e43b6b94a19ebd1d40b9e",
            "3e03448ed758411aae5ee993c8870312",
            "fa06624ae7694318a1d8d5efc680d505",
            "d2a59b4b707b409cb57795083ee4c8e0",
            "4828e174d2a74445a34edcdec44efe10",
            "5b535d552fe14caabcb3e4698c505c61",
            "aa402a171fba46479621273b72634478",
            "7256a23e6d384e2db1472655f79d58c2",
            "2f156f9595c54f178b2c04bfe36b5605",
            "209eb11232f84a5da41ef40e4b08cf82",
            "1e564c9cbed341318a461c2a80e987f6",
            "fc32ce70f40141368022d0347b989efd",
            "7a17d50d6ccf4ce986aeb04f088e3d0e",
            "941a8e1962434b06867e62dfca66c452",
            "633611eebb004f6aa51147951a5fb588",
            "7889fac98ff24fa792148d2676cae842",
            "dfc22b33774b401e9be3a79dd289fc03",
            "ab44620d44a847e188b40c1b5a38c8d7",
            "c9e6b494f2964eb78e44c637f6d95709",
            "be45e6812ba243acb7af0affe0514877",
            "66b737e479744711a2644ec603081ab3",
            "56bfbda129404241ac965fec67f2dfaa",
            "c7a34ea236114bafaa38c2802a8bec84",
            "3589f5de5c54478a9533e42cf8377ac9",
            "3989a6451de947b6b73bb773282f8fe2",
            "b9bc087fad624ac5aabdbdae86750e05",
            "5d51e3f8e8a24004b5048f92507a1a0a",
            "baeb7fcc8d654625b91d03b93bd3969b",
            "0efa5d2c71c14d00bca02c00336befc4",
            "293fd3bc622443a7852642f6678557ca",
            "6af288b7999943e795ec6d7f0d4c086c",
            "10a6d072770b47d88d7da41f62ef3477",
            "a43b141ed4934814bc9c22b831073500",
            "a86ec651f65d451c9243867d4b211d74",
            "9deb3c68e1e74e38bf35f434196684fe",
            "aee383aa4f7745f1b74a4a8b73a81518",
            "48b08a26c29b4384aecc6cd0dd039f63",
            "90c3ac0779be4cca8e04331cb0c00966",
            "4ae1290c2c7f46bb89c0ec408e919055",
            "a2f2af099fa94af4b90a2168cdd93d3e",
            "1b095509c3cf4e49963a97f48b2b3e6c",
            "da773b3eeb4f40fab28464bcff117cab",
            "3f4474cf7198492c9047315c66a0a685",
            "078091865e8b47e5b7d64b90b7f2ada2",
            "428b7cb7ea94453484ebe85bf29b04c4",
            "d82ace577b504b35ab73ed558f5deac0"
          ]
        },
        "id": "6ZZ8yb_XJQMF",
        "outputId": "1b348239-5a8e-4374-9a95-7f48349f3367"
      },
      "execution_count": 4,
      "outputs": [
        {
          "output_type": "stream",
          "name": "stdout",
          "text": [
            "\u001b[1mDownloading and preparing dataset 4.65 GiB (download: 4.65 GiB, generated: Unknown size, total: 4.65 GiB) to ~/tensorflow_datasets/food101/2.0.0...\u001b[0m\n"
          ]
        },
        {
          "output_type": "display_data",
          "data": {
            "text/plain": [
              "Dl Completed...: 0 url [00:00, ? url/s]"
            ],
            "application/vnd.jupyter.widget-view+json": {
              "version_major": 2,
              "version_minor": 0,
              "model_id": "b8dcaa128d9f4197912fd98447086169"
            }
          },
          "metadata": {}
        },
        {
          "output_type": "display_data",
          "data": {
            "text/plain": [
              "Dl Size...: 0 MiB [00:00, ? MiB/s]"
            ],
            "application/vnd.jupyter.widget-view+json": {
              "version_major": 2,
              "version_minor": 0,
              "model_id": "acfb37717a2d4d949e61db26fbaee0a3"
            }
          },
          "metadata": {}
        },
        {
          "output_type": "display_data",
          "data": {
            "text/plain": [
              "Extraction completed...: 0 file [00:00, ? file/s]"
            ],
            "application/vnd.jupyter.widget-view+json": {
              "version_major": 2,
              "version_minor": 0,
              "model_id": "c38ae396e9314d97b18a32fde4e1d67f"
            }
          },
          "metadata": {}
        },
        {
          "output_type": "display_data",
          "data": {
            "text/plain": [
              "Generating splits...:   0%|          | 0/2 [00:00<?, ? splits/s]"
            ],
            "application/vnd.jupyter.widget-view+json": {
              "version_major": 2,
              "version_minor": 0,
              "model_id": "27880df385fd4333ab8c08bb53dc827a"
            }
          },
          "metadata": {}
        },
        {
          "output_type": "display_data",
          "data": {
            "text/plain": [
              "Generating train examples...:   0%|          | 0/75750 [00:00<?, ? examples/s]"
            ],
            "application/vnd.jupyter.widget-view+json": {
              "version_major": 2,
              "version_minor": 0,
              "model_id": "fa06624ae7694318a1d8d5efc680d505"
            }
          },
          "metadata": {}
        },
        {
          "output_type": "display_data",
          "data": {
            "text/plain": [
              "Shuffling ~/tensorflow_datasets/food101/2.0.0.incompleteVWPY2Q/food101-train.tfrecord*...:   0%|          | 0/…"
            ],
            "application/vnd.jupyter.widget-view+json": {
              "version_major": 2,
              "version_minor": 0,
              "model_id": "941a8e1962434b06867e62dfca66c452"
            }
          },
          "metadata": {}
        },
        {
          "output_type": "display_data",
          "data": {
            "text/plain": [
              "Generating validation examples...:   0%|          | 0/25250 [00:00<?, ? examples/s]"
            ],
            "application/vnd.jupyter.widget-view+json": {
              "version_major": 2,
              "version_minor": 0,
              "model_id": "3989a6451de947b6b73bb773282f8fe2"
            }
          },
          "metadata": {}
        },
        {
          "output_type": "display_data",
          "data": {
            "text/plain": [
              "Shuffling ~/tensorflow_datasets/food101/2.0.0.incompleteVWPY2Q/food101-validation.tfrecord*...:   0%|         …"
            ],
            "application/vnd.jupyter.widget-view+json": {
              "version_major": 2,
              "version_minor": 0,
              "model_id": "aee383aa4f7745f1b74a4a8b73a81518"
            }
          },
          "metadata": {}
        },
        {
          "output_type": "stream",
          "name": "stdout",
          "text": [
            "\u001b[1mDataset food101 downloaded and prepared to ~/tensorflow_datasets/food101/2.0.0. Subsequent calls will reuse this data.\u001b[0m\n"
          ]
        }
      ]
    },
    {
      "cell_type": "code",
      "source": [
        "ds_info"
      ],
      "metadata": {
        "colab": {
          "base_uri": "https://localhost:8080/"
        },
        "id": "V2gTkc-WJfZy",
        "outputId": "02babe06-a32c-44f6-c004-9db46097d35e"
      },
      "execution_count": 5,
      "outputs": [
        {
          "output_type": "execute_result",
          "data": {
            "text/plain": [
              "tfds.core.DatasetInfo(\n",
              "    name='food101',\n",
              "    full_name='food101/2.0.0',\n",
              "    description=\"\"\"\n",
              "    This dataset consists of 101 food categories, with 101'000 images. For each class, 250 manually reviewed test images are provided as well as 750 training images. On purpose, the training images were not cleaned, and thus still contain some amount of noise. This comes mostly in the form of intense colors and sometimes wrong labels. All images were rescaled to have a maximum side length of 512 pixels.\n",
              "    \"\"\",\n",
              "    homepage='https://data.vision.ee.ethz.ch/cvl/datasets_extra/food-101/',\n",
              "    data_path='~/tensorflow_datasets/food101/2.0.0',\n",
              "    file_format=tfrecord,\n",
              "    download_size=4.65 GiB,\n",
              "    dataset_size=4.77 GiB,\n",
              "    features=FeaturesDict({\n",
              "        'image': Image(shape=(None, None, 3), dtype=tf.uint8),\n",
              "        'label': ClassLabel(shape=(), dtype=tf.int64, num_classes=101),\n",
              "    }),\n",
              "    supervised_keys=('image', 'label'),\n",
              "    disable_shuffling=False,\n",
              "    splits={\n",
              "        'train': <SplitInfo num_examples=75750, num_shards=32>,\n",
              "        'validation': <SplitInfo num_examples=25250, num_shards=16>,\n",
              "    },\n",
              "    citation=\"\"\"@inproceedings{bossard14,\n",
              "      title = {Food-101 -- Mining Discriminative Components with Random Forests},\n",
              "      author = {Bossard, Lukas and Guillaumin, Matthieu and Van Gool, Luc},\n",
              "      booktitle = {European Conference on Computer Vision},\n",
              "      year = {2014}\n",
              "    }\"\"\",\n",
              ")"
            ]
          },
          "metadata": {},
          "execution_count": 5
        }
      ]
    },
    {
      "cell_type": "code",
      "source": [
        "class_names= ds_info.features['label'].names\n",
        "len(class_names)"
      ],
      "metadata": {
        "colab": {
          "base_uri": "https://localhost:8080/"
        },
        "id": "1nNXT0WtJ6Rj",
        "outputId": "2662e1ef-c16b-4ae9-8cf4-4e18f8005ea1"
      },
      "execution_count": 6,
      "outputs": [
        {
          "output_type": "execute_result",
          "data": {
            "text/plain": [
              "101"
            ]
          },
          "metadata": {},
          "execution_count": 6
        }
      ]
    },
    {
      "cell_type": "code",
      "source": [
        "sample_1= train_data.take(5)\n",
        "sample_1"
      ],
      "metadata": {
        "colab": {
          "base_uri": "https://localhost:8080/"
        },
        "id": "sGgBvqb7KBBG",
        "outputId": "186317fd-dea6-495d-ea65-686ae2e6c63b"
      },
      "execution_count": 7,
      "outputs": [
        {
          "output_type": "execute_result",
          "data": {
            "text/plain": [
              "<TakeDataset element_spec=(TensorSpec(shape=(None, None, 3), dtype=tf.uint8, name=None), TensorSpec(shape=(), dtype=tf.int64, name=None))>"
            ]
          },
          "metadata": {},
          "execution_count": 7
        }
      ]
    },
    {
      "cell_type": "code",
      "source": [
        "for image, label in sample_1:\n",
        "  print(f\"\"\"\n",
        "  Image shape: {image.shape}\n",
        "  Image dtype: {image.dtype}\n",
        "  Target class or Label from Food101 (tensor form): {label}\n",
        "  Class name (str form): {class_names[label.numpy()]}\n",
        "        \"\"\")"
      ],
      "metadata": {
        "colab": {
          "base_uri": "https://localhost:8080/"
        },
        "id": "QA2p68_VLBfg",
        "outputId": "9e8d50b9-1299-40ce-edb5-f76da267abeb"
      },
      "execution_count": 8,
      "outputs": [
        {
          "output_type": "stream",
          "name": "stdout",
          "text": [
            "\n",
            "  Image shape: (512, 512, 3)\n",
            "  Image dtype: <dtype: 'uint8'>\n",
            "  Target class or Label from Food101 (tensor form): 56\n",
            "  Class name (str form): huevos_rancheros\n",
            "        \n",
            "\n",
            "  Image shape: (384, 512, 3)\n",
            "  Image dtype: <dtype: 'uint8'>\n",
            "  Target class or Label from Food101 (tensor form): 76\n",
            "  Class name (str form): pizza\n",
            "        \n",
            "\n",
            "  Image shape: (512, 512, 3)\n",
            "  Image dtype: <dtype: 'uint8'>\n",
            "  Target class or Label from Food101 (tensor form): 21\n",
            "  Class name (str form): chocolate_cake\n",
            "        \n",
            "\n",
            "  Image shape: (512, 512, 3)\n",
            "  Image dtype: <dtype: 'uint8'>\n",
            "  Target class or Label from Food101 (tensor form): 64\n",
            "  Class name (str form): miso_soup\n",
            "        \n",
            "\n",
            "  Image shape: (512, 512, 3)\n",
            "  Image dtype: <dtype: 'uint8'>\n",
            "  Target class or Label from Food101 (tensor form): 10\n",
            "  Class name (str form): bruschetta\n",
            "        \n"
          ]
        }
      ]
    },
    {
      "cell_type": "code",
      "source": [
        "image.shape"
      ],
      "metadata": {
        "colab": {
          "base_uri": "https://localhost:8080/"
        },
        "id": "HnhESxayLvWy",
        "outputId": "b9755641-de9a-42ff-c640-9df7efe78c30"
      },
      "execution_count": 9,
      "outputs": [
        {
          "output_type": "execute_result",
          "data": {
            "text/plain": [
              "TensorShape([512, 512, 3])"
            ]
          },
          "metadata": {},
          "execution_count": 9
        }
      ]
    },
    {
      "cell_type": "markdown",
      "source": [
        "## Plotting image from the dataset"
      ],
      "metadata": {
        "id": "0w49G5p-L4d3"
      }
    },
    {
      "cell_type": "code",
      "source": [
        "plt.imshow(image/255)\n",
        "plt.title(class_names[label.numpy()])\n",
        "plt.axis(False);"
      ],
      "metadata": {
        "colab": {
          "base_uri": "https://localhost:8080/",
          "height": 264
        },
        "id": "9_sk_Aq1L0P_",
        "outputId": "0c17bd4c-5914-4dea-959d-2578cf973a27"
      },
      "execution_count": 10,
      "outputs": [
        {
          "output_type": "display_data",
          "data": {
            "text/plain": [
              "<Figure size 432x288 with 1 Axes>"
            ],
            "image/png": "[encoded data removed]"
          },
          "metadata": {
            "needs_background": "light"
          }
        }
      ]
    },
    {
      "cell_type": "markdown",
      "source": [
        "## Preprocessing Image Function"
      ],
      "metadata": {
        "id": "i9yQ4xS8MZqY"
      }
    },
    {
      "cell_type": "code",
      "source": [
        "from helper_functions import preprocess_image"
      ],
      "metadata": {
        "id": "q8H3y608ia0r"
      },
      "execution_count": 11,
      "outputs": []
    },
    {
      "cell_type": "code",
      "source": [
        "processed_image, processed_label= preprocess_image(image, label)"
      ],
      "metadata": {
        "id": "B8ClcZV7j8bb"
      },
      "execution_count": 12,
      "outputs": []
    },
    {
      "cell_type": "code",
      "source": [
        "processed_image"
      ],
      "metadata": {
        "colab": {
          "base_uri": "https://localhost:8080/"
        },
        "id": "AploexzOkYbZ",
        "outputId": "8071dc46-adc2-41a0-b2a5-610e8af06f40"
      },
      "execution_count": 13,
      "outputs": [
        {
          "output_type": "execute_result",
          "data": {
            "text/plain": [
              "<tf.Tensor: shape=(224, 224, 3), dtype=float32, numpy=\n",
              "array([[[ 12.943877  ,  12.943877  ,  12.943877  ],\n",
              "        [ 12.357142  ,  12.357142  ,  12.357142  ],\n",
              "        [ 11.280612  ,  11.280612  ,  11.280612  ],\n",
              "        ...,\n",
              "        [  1.        ,   5.        ,   4.        ],\n",
              "        [  0.92855835,   4.9285583 ,   3.9285583 ],\n",
              "        [  0.        ,   4.        ,   3.        ]],\n",
              "\n",
              "       [[ 11.        ,  11.        ,  11.        ],\n",
              "        [ 11.        ,  11.        ,  11.        ],\n",
              "        [ 11.928572  ,  11.928572  ,  11.928572  ],\n",
              "        ...,\n",
              "        [  1.9285717 ,   5.9285717 ,   4.9285717 ],\n",
              "        [  1.        ,   5.        ,   4.        ],\n",
              "        [  0.9744874 ,   4.9744873 ,   3.9744873 ]],\n",
              "\n",
              "       [[ 13.        ,  13.        ,  13.        ],\n",
              "        [ 12.801021  ,  12.801021  ,  12.801021  ],\n",
              "        [ 11.954082  ,  11.954082  ,  11.954082  ],\n",
              "        ...,\n",
              "        [  2.        ,   6.        ,   5.        ],\n",
              "        [  1.9438673 ,   5.943867  ,   4.943867  ],\n",
              "        [  1.1377478 ,   5.137748  ,   4.137748  ]],\n",
              "\n",
              "       ...,\n",
              "\n",
              "       [[158.57141   , 161.57141   , 176.57141   ],\n",
              "        [157.62749   , 160.62749   , 175.62749   ],\n",
              "        [161.23973   , 164.23973   , 179.6683    ],\n",
              "        ...,\n",
              "        [206.76033   , 216.40312   , 233.18886   ],\n",
              "        [211.5307    , 221.1735    , 237.95923   ],\n",
              "        [206.22444   , 215.86723   , 232.65297   ]],\n",
              "\n",
              "       [[155.64285   , 158.64285   , 173.64285   ],\n",
              "        [159.06636   , 162.06636   , 177.06636   ],\n",
              "        [158.82654   , 161.82654   , 177.2551    ],\n",
              "        ...,\n",
              "        [202.18881   , 211.18881   , 228.18881   ],\n",
              "        [207.57645   , 216.57645   , 233.57645   ],\n",
              "        [205.21931   , 214.21931   , 231.21931   ]],\n",
              "\n",
              "       [[158.48477   , 161.48477   , 176.48477   ],\n",
              "        [161.551     , 164.551     , 179.551     ],\n",
              "        [160.00514   , 163.00514   , 178.43372   ],\n",
              "        ...,\n",
              "        [198.92348   , 207.92348   , 224.92348   ],\n",
              "        [196.68875   , 205.68875   , 222.68875   ],\n",
              "        [201.35718   , 210.35718   , 227.35718   ]]], dtype=float32)>"
            ]
          },
          "metadata": {},
          "execution_count": 13
        }
      ]
    },
    {
      "cell_type": "code",
      "source": [
        "processed_image_1, processed_label_1= preprocess_image(image, label, scaling=True)"
      ],
      "metadata": {
        "id": "pEvEhXzWkb_1"
      },
      "execution_count": 14,
      "outputs": []
    },
    {
      "cell_type": "code",
      "source": [
        "processed_image_1"
      ],
      "metadata": {
        "colab": {
          "base_uri": "https://localhost:8080/"
        },
        "id": "XxRojEqcknkV",
        "outputId": "1a6acd1f-0cf8-4108-ef36-3d6ad0fbe3d3"
      },
      "execution_count": 15,
      "outputs": [
        {
          "output_type": "execute_result",
          "data": {
            "text/plain": [
              "<tf.Tensor: shape=(224, 224, 3), dtype=float32, numpy=\n",
              "array([[[0.0507603 , 0.0507603 , 0.0507603 ],\n",
              "        [0.04845938, 0.04845938, 0.04845938],\n",
              "        [0.0442377 , 0.0442377 , 0.0442377 ],\n",
              "        ...,\n",
              "        [0.00392157, 0.01960784, 0.01568628],\n",
              "        [0.00364141, 0.01932768, 0.01540611],\n",
              "        [0.        , 0.01568628, 0.01176471]],\n",
              "\n",
              "       [[0.04313726, 0.04313726, 0.04313726],\n",
              "        [0.04313726, 0.04313726, 0.04313726],\n",
              "        [0.04677871, 0.04677871, 0.04677871],\n",
              "        ...,\n",
              "        [0.00756303, 0.0232493 , 0.01932773],\n",
              "        [0.00392157, 0.01960784, 0.01568628],\n",
              "        [0.00382152, 0.01950779, 0.01558622]],\n",
              "\n",
              "       [[0.05098039, 0.05098039, 0.05098039],\n",
              "        [0.05020008, 0.05020008, 0.05020008],\n",
              "        [0.04687875, 0.04687875, 0.04687875],\n",
              "        ...,\n",
              "        [0.00784314, 0.02352941, 0.01960784],\n",
              "        [0.00762301, 0.02330928, 0.01938771],\n",
              "        [0.00446176, 0.02014803, 0.01622646]],\n",
              "\n",
              "       ...,\n",
              "\n",
              "       [[0.62184864, 0.63361335, 0.69243693],\n",
              "        [0.618147  , 0.6299117 , 0.68873525],\n",
              "        [0.63231266, 0.64407736, 0.70458156],\n",
              "        ...,\n",
              "        [0.8108248 , 0.84863967, 0.9144661 ],\n",
              "        [0.82953215, 0.867347  , 0.9331734 ],\n",
              "        [0.8087233 , 0.8465382 , 0.9123646 ]],\n",
              "\n",
              "       [[0.61036414, 0.62212884, 0.68095237],\n",
              "        [0.62378967, 0.6355544 , 0.6943779 ],\n",
              "        [0.62284917, 0.6346139 , 0.695118  ],\n",
              "        ...,\n",
              "        [0.7928973 , 0.8281914 , 0.89485806],\n",
              "        [0.8140253 , 0.8493194 , 0.91598606],\n",
              "        [0.8047816 , 0.84007573, 0.9067424 ]],\n",
              "\n",
              "       [[0.6215089 , 0.6332736 , 0.6920971 ],\n",
              "        [0.6335333 , 0.645298  , 0.70412153],\n",
              "        [0.62747115, 0.63923585, 0.69974005],\n",
              "        ...,\n",
              "        [0.78009206, 0.8153862 , 0.88205284],\n",
              "        [0.77132845, 0.80662256, 0.8732892 ],\n",
              "        [0.789636  , 0.82493013, 0.8915968 ]]], dtype=float32)>"
            ]
          },
          "metadata": {},
          "execution_count": 15
        }
      ]
    },
    {
      "cell_type": "code",
      "source": [
        "print(\"original Image\")\n",
        "plt.imshow(image)\n",
        "plt.title(class_names[label.numpy()])\n",
        "print(f\"\"\"Image shape: {image.shape} Image dtype: {image.dtype} Target class or Label from Food101 (tensor form): {label}\n",
        "    Class name (str form): {class_names[label.numpy()]}\"\"\")\n",
        "plt.axis(False);"
      ],
      "metadata": {
        "colab": {
          "base_uri": "https://localhost:8080/",
          "height": 324
        },
        "id": "VVECvkkCkoRM",
        "outputId": "a6fc3493-17f3-4600-b93c-6e6d0590f17b"
      },
      "execution_count": 16,
      "outputs": [
        {
          "output_type": "stream",
          "name": "stdout",
          "text": [
            "original Image\n",
            "Image shape: (512, 512, 3) Image dtype: <dtype: 'uint8'> Target class or Label from Food101 (tensor form): 10\n",
            "    Class name (str form): bruschetta\n"
          ]
        },
        {
          "output_type": "display_data",
          "data": {
            "text/plain": [
              "<Figure size 432x288 with 1 Axes>"
            ],
            "image/png": "[encoded data removed]"
          },
          "metadata": {
            "needs_background": "light"
          }
        }
      ]
    },
    {
      "cell_type": "code",
      "source": [
        "print(\"original Image\")\n",
        "plt.imshow(processed_image)\n",
        "plt.title(class_names[processed_label.numpy()])\n",
        "print(f\"\"\"Image shape: {processed_image.shape} Image dtype: {processed_image.dtype} Target class or Label from Food101 (tensor form): {processed_label}\n",
        "    Class name (str form): {class_names[processed_label.numpy()]}\"\"\")\n",
        "plt.axis(False);"
      ],
      "metadata": {
        "colab": {
          "base_uri": "https://localhost:8080/",
          "height": 343
        },
        "id": "4kbLg5bQmoUj",
        "outputId": "47db94ae-adf1-42a7-a96e-0376143d821f"
      },
      "execution_count": 17,
      "outputs": [
        {
          "output_type": "stream",
          "name": "stderr",
          "text": [
            "WARNING:matplotlib.image:Clipping input data to the valid range for imshow with RGB data ([0..1] for floats or [0..255] for integers).\n"
          ]
        },
        {
          "output_type": "stream",
          "name": "stdout",
          "text": [
            "original Image\n",
            "Image shape: (224, 224, 3) Image dtype: <dtype: 'float32'> Target class or Label from Food101 (tensor form): 10\n",
            "    Class name (str form): bruschetta\n"
          ]
        },
        {
          "output_type": "display_data",
          "data": {
            "text/plain": [
              "<Figure size 432x288 with 1 Axes>"
            ],
            "image/png": "[encoded data removed]"
          },
          "metadata": {
            "needs_background": "light"
          }
        }
      ]
    },
    {
      "cell_type": "code",
      "source": [
        "print(\"original Image\")\n",
        "plt.imshow(processed_image_1)\n",
        "plt.title(class_names[processed_label_1.numpy()])\n",
        "print(f\"\"\"Image shape: {processed_image_1.shape} Image dtype: {processed_image_1.dtype} Target class or Label from Food101 (tensor form): {processed_label_1}\n",
        "    Class name (str form): {class_names[processed_label_1.numpy()]}\"\"\")\n",
        "plt.axis(False);"
      ],
      "metadata": {
        "colab": {
          "base_uri": "https://localhost:8080/",
          "height": 324
        },
        "id": "iwm6WpvYpVVb",
        "outputId": "efe84702-b7b1-4ea0-81f9-e221c2baa095"
      },
      "execution_count": 18,
      "outputs": [
        {
          "output_type": "stream",
          "name": "stdout",
          "text": [
            "original Image\n",
            "Image shape: (224, 224, 3) Image dtype: <dtype: 'float32'> Target class or Label from Food101 (tensor form): 10\n",
            "    Class name (str form): bruschetta\n"
          ]
        },
        {
          "output_type": "display_data",
          "data": {
            "text/plain": [
              "<Figure size 432x288 with 1 Axes>"
            ],
            "image/png": "[encoded data removed]"
          },
          "metadata": {
            "needs_background": "light"
          }
        }
      ]
    },
    {
      "cell_type": "markdown",
      "source": [
        "## Creating the `train and test` dataset batches"
      ],
      "metadata": {
        "id": "yX572Lj_pe6Q"
      }
    },
    {
      "cell_type": "code",
      "source": [
        "train_data= train_data.map(map_func= preprocess_image, num_parallel_calls=tf.data.AUTOTUNE)\n",
        "train_data= train_data.shuffle(buffer_size=1000).batch(32).prefetch(buffer_size=tf.data.AUTOTUNE) # Shuffeling the training dataset\n",
        "test_data= test_data.map(map_func=preprocess_image, num_parallel_calls=tf.data.AUTOTUNE).batch(32).prefetch(tf.data.AUTOTUNE)"
      ],
      "metadata": {
        "id": "D1pqYld_qkI2"
      },
      "execution_count": 19,
      "outputs": []
    },
    {
      "cell_type": "code",
      "source": [
        "train_data, test_data"
      ],
      "metadata": {
        "colab": {
          "base_uri": "https://localhost:8080/"
        },
        "id": "kgItBigbridM",
        "outputId": "b7cb874d-0bca-4a9e-933c-87583d2fb09b"
      },
      "execution_count": 20,
      "outputs": [
        {
          "output_type": "execute_result",
          "data": {
            "text/plain": [
              "(<PrefetchDataset element_spec=(TensorSpec(shape=(None, 224, 224, 3), dtype=tf.float32, name=None), TensorSpec(shape=(None,), dtype=tf.int64, name=None))>,\n",
              " <PrefetchDataset element_spec=(TensorSpec(shape=(None, 224, 224, 3), dtype=tf.float32, name=None), TensorSpec(shape=(None,), dtype=tf.int64, name=None))>)"
            ]
          },
          "metadata": {},
          "execution_count": 20
        }
      ]
    },
    {
      "cell_type": "markdown",
      "source": [
        "## Feature Extraction Model Callbacks"
      ],
      "metadata": {
        "id": "fWf7Yyjbrj_8"
      }
    },
    {
      "cell_type": "code",
      "source": [
        "from helper_functions import  create_tensorboard_callback, model_check_point_callback, create_early_stopping_callback, reduce_learning_rate_callback"
      ],
      "metadata": {
        "id": "fH0rWA9hrrM6"
      },
      "execution_count": 21,
      "outputs": []
    },
    {
      "cell_type": "code",
      "source": [
        "# Model Checkpoint Callback\n",
        "checkpoint_feature_extraction= 'checkpoints/feature_extraction_model'\n",
        "checkpoint_callback=model_check_point_callback(checkpoint_feature_extraction, save_weights_only=True, save_best_only=True, monitor=\"val_loss\")\n",
        "\n",
        "# Tensorboard Callback\n",
        "tensorboard_callback= create_tensorboard_callback(\"transfer_learning\", \"101_classes_feature_extraction_all_data\")\n",
        "\n",
        "# Early Stopping Callback\n",
        "early_stopping_callback= create_early_stopping_callback(monitor=\"val_accuracy\", patience=5)\n",
        "\n",
        "# Learning Rate Scheduler\n",
        "\n",
        "def scheduler(epoch, lr):\n",
        "  if epoch < 5:\n",
        "    return lr\n",
        "  else:\n",
        "    return lr * tf.math.exp(-0.1)\n",
        "\n",
        "lr_scheduler_callback = tf.keras.callbacks.LearningRateScheduler(scheduler)\n",
        "\n",
        "## Reduce Learing Rate Callback\n",
        "\n",
        "learning_rate_reduce_callback= reduce_learning_rate_callback(monitor=\"val_loss\", factor=0.2, patience=2, minimum_lr=1e-7)"
      ],
      "metadata": {
        "colab": {
          "base_uri": "https://localhost:8080/"
        },
        "id": "Ot8FNmX1ruE8",
        "outputId": "68edf854-6c2a-440a-9d15-9491b751ab6b"
      },
      "execution_count": 22,
      "outputs": [
        {
          "output_type": "stream",
          "name": "stdout",
          "text": [
            "Saving TensorBoard log files to: transfer_learning/101_classes_feature_extraction_all_data/20220817-120132\n"
          ]
        }
      ]
    },
    {
      "cell_type": "markdown",
      "source": [
        "## Augmented Layer"
      ],
      "metadata": {
        "id": "M-qZ8RvHsuoI"
      }
    },
    {
      "cell_type": "code",
      "source": [
        "augmented_layer=create_data_augmented_layer_for_model(RandomFlip=\"horizontal\", RandomRotation=0.2, RandomZoom=0.2, RandomHeight=0.2, RandomWidth=0.2)\n",
        "augmented_layer"
      ],
      "metadata": {
        "colab": {
          "base_uri": "https://localhost:8080/"
        },
        "id": "5P0RuL-is0qq",
        "outputId": "8ff6f36d-a7b0-4d85-a9af-f7dbfefcb74c"
      },
      "execution_count": 23,
      "outputs": [
        {
          "output_type": "execute_result",
          "data": {
            "text/plain": [
              "<keras.engine.sequential.Sequential at 0x7f5ab8117b50>"
            ]
          },
          "metadata": {},
          "execution_count": 23
        }
      ]
    },
    {
      "cell_type": "markdown",
      "source": [
        "## Turning on Mixed Precision Training"
      ],
      "metadata": {
        "id": "6CJYr7dKs2E4"
      }
    },
    {
      "cell_type": "code",
      "source": [
        "mixed_precision.set_global_policy(\"mixed_float16\")"
      ],
      "metadata": {
        "id": "sRvfm7Lms8UW"
      },
      "execution_count": 24,
      "outputs": []
    },
    {
      "cell_type": "code",
      "source": [
        "mixed_precision.global_policy()"
      ],
      "metadata": {
        "colab": {
          "base_uri": "https://localhost:8080/"
        },
        "id": "kj_bN_YKtL3Y",
        "outputId": "3ef09679-2c67-48d5-8c33-98162f4e2f51"
      },
      "execution_count": 25,
      "outputs": [
        {
          "output_type": "execute_result",
          "data": {
            "text/plain": [
              "<Policy \"mixed_float16\">"
            ]
          },
          "metadata": {},
          "execution_count": 25
        }
      ]
    },
    {
      "cell_type": "markdown",
      "source": [
        "## Feature Extraction Model"
      ],
      "metadata": {
        "id": "6vPP8scntRa6"
      }
    },
    {
      "cell_type": "code",
      "source": [
        "# Create base model\n",
        "input_shape = (224, 224, 3)\n",
        "CLASS_COUNT= len(class_names)\n",
        "base_model = tf.keras.applications.resnet_v2.ResNet50V2(include_top=False)\n",
        "base_model.trainable = False # freeze base model layers\n",
        "\n",
        "# Create Functional model \n",
        "inputs = layers.Input(shape=input_shape, name=\"input_layer\")\n",
        "# This is needed as we are using \"ResNet50V2\" as the base_model and this does not have a Rescaling layer build-in \n",
        "x = preprocessing.Rescaling(1./255)(inputs)\n",
        "x= augmented_layer(x)\n",
        "x = base_model(x, training=False) # set base_model to inference mode only\n",
        "x = layers.GlobalAveragePooling2D(name=\"pooling_layer\")(x)\n",
        "x=  tf.keras.layers.Dropout(0.2, name=\"dropout_layer\")(x) # Dropout Layer\n",
        "x= layers.Dense(units= CLASS_COUNT,kernel_regularizer=regularizers.L1L2(l1=1e-5, l2=1e-4),bias_regularizer=regularizers.L2(1e-4), activity_regularizer=regularizers.L2(1e-5), name='regularization_layer')(x) # Regularization Layer\n",
        "x = layers.Dense(CLASS_COUNT)(x) # want one output neuron per class \n",
        "# Separate activation of output layer so we can output float32 activations\n",
        "outputs = layers.Activation(\"softmax\", dtype=tf.float32, name=\"softmax_float32\")(x) \n",
        "model = tf.keras.Model(inputs, outputs)\n",
        "\n",
        "# Compile the model\n",
        "model.compile(loss=\"sparse_categorical_crossentropy\", # Use sparse_categorical_crossentropy when labels are *not* one-hot\n",
        "              optimizer=tf.keras.optimizers.Adam(),\n",
        "              metrics=[\"accuracy\"])"
      ],
      "metadata": {
        "colab": {
          "base_uri": "https://localhost:8080/"
        },
        "id": "bjz128gatXVY",
        "outputId": "cc1cc586-ad01-4244-f090-6eda5eec6f1b"
      },
      "execution_count": 26,
      "outputs": [
        {
          "output_type": "stream",
          "name": "stdout",
          "text": [
            "Downloading data from https://storage.googleapis.com/tensorflow/keras-applications/resnet/resnet50v2_weights_tf_dim_ordering_tf_kernels_notop.h5\n",
            "94674944/94668760 [==============================] - 1s 0us/step\n",
            "94683136/94668760 [==============================] - 1s 0us/step\n"
          ]
        }
      ]
    },
    {
      "cell_type": "code",
      "source": [
        "model.summary()"
      ],
      "metadata": {
        "colab": {
          "base_uri": "https://localhost:8080/"
        },
        "id": "lrbkMybRt6wn",
        "outputId": "683ae527-9596-45ac-d0b5-2138a28a7393"
      },
      "execution_count": 27,
      "outputs": [
        {
          "output_type": "stream",
          "name": "stdout",
          "text": [
            "Model: \"model\"\n",
            "_________________________________________________________________\n",
            " Layer (type)                Output Shape              Param #   \n",
            "=================================================================\n",
            " input_layer (InputLayer)    [(None, 224, 224, 3)]     0         \n",
            "                                                                 \n",
            " rescaling (Rescaling)       (None, 224, 224, 3)       0         \n",
            "                                                                 \n",
            " data_augmentation_layer (Se  (None, 224, 224, 3)      0         \n",
            " quential)                                                       \n",
            "                                                                 \n",
            " resnet50v2 (Functional)     (None, None, None, 2048)  23564800  \n",
            "                                                                 \n",
            " pooling_layer (GlobalAverag  (None, 2048)             0         \n",
            " ePooling2D)                                                     \n",
            "                                                                 \n",
            " dropout_layer (Dropout)     (None, 2048)              0         \n",
            "                                                                 \n",
            " regularization_layer (Dense  (None, 101)              206949    \n",
            " )                                                               \n",
            "                                                                 \n",
            " dense (Dense)               (None, 101)               10302     \n",
            "                                                                 \n",
            " softmax_float32 (Activation  (None, 101)              0         \n",
            " )                                                               \n",
            "                                                                 \n",
            "=================================================================\n",
            "Total params: 23,782,051\n",
            "Trainable params: 217,251\n",
            "Non-trainable params: 23,564,800\n",
            "_________________________________________________________________\n"
          ]
        }
      ]
    },
    {
      "cell_type": "code",
      "source": [
        "for layer in base_model.layers:\n",
        "  print(layer, layer.name, layer.dtype, layer.dtype_policy)"
      ],
      "metadata": {
        "colab": {
          "base_uri": "https://localhost:8080/"
        },
        "id": "jj5UPJnSuWh9",
        "outputId": "01160bb2-7968-43b9-ce5e-3a1cbe66a727"
      },
      "execution_count": 28,
      "outputs": [
        {
          "output_type": "stream",
          "name": "stdout",
          "text": [
            "<keras.engine.input_layer.InputLayer object at 0x7f5ab7f10610> input_1 float32 <Policy \"float32\">\n",
            "<keras.layers.convolutional.ZeroPadding2D object at 0x7f5ab3c08750> conv1_pad float32 <Policy \"mixed_float16\">\n",
            "<keras.layers.convolutional.Conv2D object at 0x7f5ab3435e90> conv1_conv float32 <Policy \"mixed_float16\">\n",
            "<keras.layers.convolutional.ZeroPadding2D object at 0x7f5ab7ee4b10> pool1_pad float32 <Policy \"mixed_float16\">\n",
            "<keras.layers.pooling.MaxPooling2D object at 0x7f5ab3c08a10> pool1_pool float32 <Policy \"mixed_float16\">\n",
            "<keras.layers.normalization.batch_normalization.BatchNormalization object at 0x7f5ab7edf0d0> conv2_block1_preact_bn float32 <Policy \"mixed_float16\">\n",
            "<keras.layers.core.activation.Activation object at 0x7f5ab343f950> conv2_block1_preact_relu float32 <Policy \"mixed_float16\">\n",
            "<keras.layers.convolutional.Conv2D object at 0x7f5ab7eda090> conv2_block1_1_conv float32 <Policy \"mixed_float16\">\n",
            "<keras.layers.normalization.batch_normalization.BatchNormalization object at 0x7f5ab7f01110> conv2_block1_1_bn float32 <Policy \"mixed_float16\">\n",
            "<keras.layers.core.activation.Activation object at 0x7f5ab3b89d50> conv2_block1_1_relu float32 <Policy \"mixed_float16\">\n",
            "<keras.layers.convolutional.ZeroPadding2D object at 0x7f5ab3b80b10> conv2_block1_2_pad float32 <Policy \"mixed_float16\">\n",
            "<keras.layers.convolutional.Conv2D object at 0x7f5ab3b8bed0> conv2_block1_2_conv float32 <Policy \"mixed_float16\">\n",
            "<keras.layers.normalization.batch_normalization.BatchNormalization object at 0x7f5ab3bee490> conv2_block1_2_bn float32 <Policy \"mixed_float16\">\n",
            "<keras.layers.core.activation.Activation object at 0x7f5ab3b74950> conv2_block1_2_relu float32 <Policy \"mixed_float16\">\n",
            "<keras.layers.convolutional.Conv2D object at 0x7f5ab3449bd0> conv2_block1_0_conv float32 <Policy \"mixed_float16\">\n",
            "<keras.layers.convolutional.Conv2D object at 0x7f5ab3b74210> conv2_block1_3_conv float32 <Policy \"mixed_float16\">\n",
            "<keras.layers.merge.Add object at 0x7f5ab3b68290> conv2_block1_out float32 <Policy \"mixed_float16\">\n",
            "<keras.layers.normalization.batch_normalization.BatchNormalization object at 0x7f5ab342d6d0> conv2_block2_preact_bn float32 <Policy \"mixed_float16\">\n",
            "<keras.layers.core.activation.Activation object at 0x7f5ab3b718d0> conv2_block2_preact_relu float32 <Policy \"mixed_float16\">\n",
            "<keras.layers.convolutional.Conv2D object at 0x7f5ab7ef0bd0> conv2_block2_1_conv float32 <Policy \"mixed_float16\">\n",
            "<keras.layers.normalization.batch_normalization.BatchNormalization object at 0x7f5ab3b57e50> conv2_block2_1_bn float32 <Policy \"mixed_float16\">\n",
            "<keras.layers.core.activation.Activation object at 0x7f5ab3b82890> conv2_block2_1_relu float32 <Policy \"mixed_float16\">\n",
            "<keras.layers.convolutional.ZeroPadding2D object at 0x7f5ab3b5aa90> conv2_block2_2_pad float32 <Policy \"mixed_float16\">\n",
            "<keras.layers.convolutional.Conv2D object at 0x7f5ab3c08c50> conv2_block2_2_conv float32 <Policy \"mixed_float16\">\n",
            "<keras.layers.normalization.batch_normalization.BatchNormalization object at 0x7f5ab8125a90> conv2_block2_2_bn float32 <Policy \"mixed_float16\">\n",
            "<keras.layers.core.activation.Activation object at 0x7f5ab3b80550> conv2_block2_2_relu float32 <Policy \"mixed_float16\">\n",
            "<keras.layers.convolutional.Conv2D object at 0x7f5ab3b74510> conv2_block2_3_conv float32 <Policy \"mixed_float16\">\n",
            "<keras.layers.merge.Add object at 0x7f5ab7ee43d0> conv2_block2_out float32 <Policy \"mixed_float16\">\n",
            "<keras.layers.normalization.batch_normalization.BatchNormalization object at 0x7f5ab343f1d0> conv2_block3_preact_bn float32 <Policy \"mixed_float16\">\n",
            "<keras.layers.core.activation.Activation object at 0x7f5ab800c3d0> conv2_block3_preact_relu float32 <Policy \"mixed_float16\">\n",
            "<keras.layers.convolutional.Conv2D object at 0x7f5ab8006e50> conv2_block3_1_conv float32 <Policy \"mixed_float16\">\n",
            "<keras.layers.normalization.batch_normalization.BatchNormalization object at 0x7f5ab800eb90> conv2_block3_1_bn float32 <Policy \"mixed_float16\">\n",
            "<keras.layers.core.activation.Activation object at 0x7f5ab3449e10> conv2_block3_1_relu float32 <Policy \"mixed_float16\">\n",
            "<keras.layers.convolutional.ZeroPadding2D object at 0x7f5ab3b58850> conv2_block3_2_pad float32 <Policy \"mixed_float16\">\n",
            "<keras.layers.convolutional.Conv2D object at 0x7f5ab3bee7d0> conv2_block3_2_conv float32 <Policy \"mixed_float16\">\n",
            "<keras.layers.normalization.batch_normalization.BatchNormalization object at 0x7f5ab3b78dd0> conv2_block3_2_bn float32 <Policy \"mixed_float16\">\n",
            "<keras.layers.core.activation.Activation object at 0x7f5ab7fed250> conv2_block3_2_relu float32 <Policy \"mixed_float16\">\n",
            "<keras.layers.pooling.MaxPooling2D object at 0x7f5ab7eda5d0> max_pooling2d float32 <Policy \"mixed_float16\">\n",
            "<keras.layers.convolutional.Conv2D object at 0x7f5ab7fedbd0> conv2_block3_3_conv float32 <Policy \"mixed_float16\">\n",
            "<keras.layers.merge.Add object at 0x7f5ab7fdfe90> conv2_block3_out float32 <Policy \"mixed_float16\">\n",
            "<keras.layers.normalization.batch_normalization.BatchNormalization object at 0x7f5ab3435b50> conv3_block1_preact_bn float32 <Policy \"mixed_float16\">\n",
            "<keras.layers.core.activation.Activation object at 0x7f5ab7fdaa10> conv3_block1_preact_relu float32 <Policy \"mixed_float16\">\n",
            "<keras.layers.convolutional.Conv2D object at 0x7f5ab3956890> conv3_block1_1_conv float32 <Policy \"mixed_float16\">\n",
            "<keras.layers.normalization.batch_normalization.BatchNormalization object at 0x7f5ab398f910> conv3_block1_1_bn float32 <Policy \"mixed_float16\">\n",
            "<keras.layers.core.activation.Activation object at 0x7f5ab39936d0> conv3_block1_1_relu float32 <Policy \"mixed_float16\">\n",
            "<keras.layers.convolutional.ZeroPadding2D object at 0x7f5ab3993ed0> conv3_block1_2_pad float32 <Policy \"mixed_float16\">\n",
            "<keras.layers.convolutional.Conv2D object at 0x7f5ab3995e10> conv3_block1_2_conv float32 <Policy \"mixed_float16\">\n",
            "<keras.layers.normalization.batch_normalization.BatchNormalization object at 0x7f5ab398ab10> conv3_block1_2_bn float32 <Policy \"mixed_float16\">\n",
            "<keras.layers.core.activation.Activation object at 0x7f5ab3975890> conv3_block1_2_relu float32 <Policy \"mixed_float16\">\n",
            "<keras.layers.convolutional.Conv2D object at 0x7f5ab3956650> conv3_block1_0_conv float32 <Policy \"mixed_float16\">\n",
            "<keras.layers.convolutional.Conv2D object at 0x7f5ab34498d0> conv3_block1_3_conv float32 <Policy \"mixed_float16\">\n",
            "<keras.layers.merge.Add object at 0x7f5ab3962cd0> conv3_block1_out float32 <Policy \"mixed_float16\">\n",
            "<keras.layers.normalization.batch_normalization.BatchNormalization object at 0x7f5ab3966150> conv3_block2_preact_bn float32 <Policy \"mixed_float16\">\n",
            "<keras.layers.core.activation.Activation object at 0x7f5ab3957950> conv3_block2_preact_relu float32 <Policy \"mixed_float16\">\n",
            "<keras.layers.convolutional.Conv2D object at 0x7f5ab7f01210> conv3_block2_1_conv float32 <Policy \"mixed_float16\">\n",
            "<keras.layers.normalization.batch_normalization.BatchNormalization object at 0x7f5ab3a917d0> conv3_block2_1_bn float32 <Policy \"mixed_float16\">\n",
            "<keras.layers.core.activation.Activation object at 0x7f5ab3a93550> conv3_block2_1_relu float32 <Policy \"mixed_float16\">\n",
            "<keras.layers.convolutional.ZeroPadding2D object at 0x7f5ab3a93a90> conv3_block2_2_pad float32 <Policy \"mixed_float16\">\n",
            "<keras.layers.convolutional.Conv2D object at 0x7f5ab7f04bd0> conv3_block2_2_conv float32 <Policy \"mixed_float16\">\n",
            "<keras.layers.normalization.batch_normalization.BatchNormalization object at 0x7f5ab7f10050> conv3_block2_2_bn float32 <Policy \"mixed_float16\">\n",
            "<keras.layers.core.activation.Activation object at 0x7f5ab3a8d310> conv3_block2_2_relu float32 <Policy \"mixed_float16\">\n",
            "<keras.layers.convolutional.Conv2D object at 0x7f5ab3a7aed0> conv3_block2_3_conv float32 <Policy \"mixed_float16\">\n",
            "<keras.layers.merge.Add object at 0x7f5ab3a7d950> conv3_block2_out float32 <Policy \"mixed_float16\">\n",
            "<keras.layers.normalization.batch_normalization.BatchNormalization object at 0x7f5ab3a7db50> conv3_block3_preact_bn float32 <Policy \"mixed_float16\">\n",
            "<keras.layers.core.activation.Activation object at 0x7f5ab3a64e90> conv3_block3_preact_relu float32 <Policy \"mixed_float16\">\n",
            "<keras.layers.convolutional.Conv2D object at 0x7f5ab342de10> conv3_block3_1_conv float32 <Policy \"mixed_float16\">\n",
            "<keras.layers.normalization.batch_normalization.BatchNormalization object at 0x7f5ab3a89c50> conv3_block3_1_bn float32 <Policy \"mixed_float16\">\n",
            "<keras.layers.core.activation.Activation object at 0x7f5ab398ae10> conv3_block3_1_relu float32 <Policy \"mixed_float16\">\n",
            "<keras.layers.convolutional.ZeroPadding2D object at 0x7f5ab3a83ed0> conv3_block3_2_pad float32 <Policy \"mixed_float16\">\n",
            "<keras.layers.convolutional.Conv2D object at 0x7f5ab3a89c90> conv3_block3_2_conv float32 <Policy \"mixed_float16\">\n",
            "<keras.layers.normalization.batch_normalization.BatchNormalization object at 0x7f5ab3995050> conv3_block3_2_bn float32 <Policy \"mixed_float16\">\n",
            "<keras.layers.core.activation.Activation object at 0x7f5ab8014750> conv3_block3_2_relu float32 <Policy \"mixed_float16\">\n",
            "<keras.layers.convolutional.Conv2D object at 0x7f5ab7fe3e50> conv3_block3_3_conv float32 <Policy \"mixed_float16\">\n",
            "<keras.layers.merge.Add object at 0x7f5ab7fed810> conv3_block3_out float32 <Policy \"mixed_float16\">\n",
            "<keras.layers.normalization.batch_normalization.BatchNormalization object at 0x7f5ab3b71890> conv3_block4_preact_bn float32 <Policy \"mixed_float16\">\n",
            "<keras.layers.core.activation.Activation object at 0x7f5ab7ee9190> conv3_block4_preact_relu float32 <Policy \"mixed_float16\">\n",
            "<keras.layers.convolutional.Conv2D object at 0x7f5ab3a61390> conv3_block4_1_conv float32 <Policy \"mixed_float16\">\n",
            "<keras.layers.normalization.batch_normalization.BatchNormalization object at 0x7f5ab7eee910> conv3_block4_1_bn float32 <Policy \"mixed_float16\">\n",
            "<keras.layers.core.activation.Activation object at 0x7f5ab3a61dd0> conv3_block4_1_relu float32 <Policy \"mixed_float16\">\n",
            "<keras.layers.convolutional.ZeroPadding2D object at 0x7f5ab3b85b50> conv3_block4_2_pad float32 <Policy \"mixed_float16\">\n",
            "<keras.layers.convolutional.Conv2D object at 0x7f5ab3a5f910> conv3_block4_2_conv float32 <Policy \"mixed_float16\">\n",
            "<keras.layers.normalization.batch_normalization.BatchNormalization object at 0x7f5ab3cd50d0> conv3_block4_2_bn float32 <Policy \"mixed_float16\">\n",
            "<keras.layers.core.activation.Activation object at 0x7f5ab3cc4d90> conv3_block4_2_relu float32 <Policy \"mixed_float16\">\n",
            "<keras.layers.pooling.MaxPooling2D object at 0x7f5ab8006950> max_pooling2d_1 float32 <Policy \"mixed_float16\">\n",
            "<keras.layers.convolutional.Conv2D object at 0x7f5ab3cc4b50> conv3_block4_3_conv float32 <Policy \"mixed_float16\">\n",
            "<keras.layers.merge.Add object at 0x7f5ab3a59310> conv3_block4_out float32 <Policy \"mixed_float16\">\n",
            "<keras.layers.normalization.batch_normalization.BatchNormalization object at 0x7f5ab3ccd750> conv4_block1_preact_bn float32 <Policy \"mixed_float16\">\n",
            "<keras.layers.core.activation.Activation object at 0x7f5ab3ca4590> conv4_block1_preact_relu float32 <Policy \"mixed_float16\">\n",
            "<keras.layers.convolutional.Conv2D object at 0x7f5ab3c96110> conv4_block1_1_conv float32 <Policy \"mixed_float16\">\n",
            "<keras.layers.normalization.batch_normalization.BatchNormalization object at 0x7f5ab3cb1810> conv4_block1_1_bn float32 <Policy \"mixed_float16\">\n",
            "<keras.layers.core.activation.Activation object at 0x7f5ab3da03d0> conv4_block1_1_relu float32 <Policy \"mixed_float16\">\n",
            "<keras.layers.convolutional.ZeroPadding2D object at 0x7f5ab3da0d50> conv4_block1_2_pad float32 <Policy \"mixed_float16\">\n",
            "<keras.layers.convolutional.Conv2D object at 0x7f5ab3c9ea50> conv4_block1_2_conv float32 <Policy \"mixed_float16\">\n",
            "<keras.layers.normalization.batch_normalization.BatchNormalization object at 0x7f5ab3449c90> conv4_block1_2_bn float32 <Policy \"mixed_float16\">\n",
            "<keras.layers.core.activation.Activation object at 0x7f5ab3dc3050> conv4_block1_2_relu float32 <Policy \"mixed_float16\">\n",
            "<keras.layers.convolutional.Conv2D object at 0x7f5ab7ef9810> conv4_block1_0_conv float32 <Policy \"mixed_float16\">\n",
            "<keras.layers.convolutional.Conv2D object at 0x7f5ab3dc3590> conv4_block1_3_conv float32 <Policy \"mixed_float16\">\n",
            "<keras.layers.merge.Add object at 0x7f5ab3dc74d0> conv4_block1_out float32 <Policy \"mixed_float16\">\n",
            "<keras.layers.normalization.batch_normalization.BatchNormalization object at 0x7f5ab3dc7a90> conv4_block2_preact_bn float32 <Policy \"mixed_float16\">\n",
            "<keras.layers.core.activation.Activation object at 0x7f5ab7f04550> conv4_block2_preact_relu float32 <Policy \"mixed_float16\">\n",
            "<keras.layers.convolutional.Conv2D object at 0x7f5ab34492d0> conv4_block2_1_conv float32 <Policy \"mixed_float16\">\n",
            "<keras.layers.normalization.batch_normalization.BatchNormalization object at 0x7f5ab3dad0d0> conv4_block2_1_bn float32 <Policy \"mixed_float16\">\n",
            "<keras.layers.core.activation.Activation object at 0x7f5ab3d97610> conv4_block2_1_relu float32 <Policy \"mixed_float16\">\n",
            "<keras.layers.convolutional.ZeroPadding2D object at 0x7f5ab3dad490> conv4_block2_2_pad float32 <Policy \"mixed_float16\">\n",
            "<keras.layers.convolutional.Conv2D object at 0x7f5ab3d97f90> conv4_block2_2_conv float32 <Policy \"mixed_float16\">\n",
            "<keras.layers.normalization.batch_normalization.BatchNormalization object at 0x7f5ab4387e10> conv4_block2_2_bn float32 <Policy \"mixed_float16\">\n",
            "<keras.layers.core.activation.Activation object at 0x7f5ab438a190> conv4_block2_2_relu float32 <Policy \"mixed_float16\">\n",
            "<keras.layers.convolutional.Conv2D object at 0x7f5ab4387350> conv4_block2_3_conv float32 <Policy \"mixed_float16\">\n",
            "<keras.layers.merge.Add object at 0x7f5ab3db3ed0> conv4_block2_out float32 <Policy \"mixed_float16\">\n",
            "<keras.layers.normalization.batch_normalization.BatchNormalization object at 0x7f5ab3dc7e10> conv4_block3_preact_bn float32 <Policy \"mixed_float16\">\n",
            "<keras.layers.core.activation.Activation object at 0x7f5ab3da05d0> conv4_block3_preact_relu float32 <Policy \"mixed_float16\">\n",
            "<keras.layers.convolutional.Conv2D object at 0x7f5ab3dce910> conv4_block3_1_conv float32 <Policy \"mixed_float16\">\n",
            "<keras.layers.normalization.batch_normalization.BatchNormalization object at 0x7f5ab3cbac90> conv4_block3_1_bn float32 <Policy \"mixed_float16\">\n",
            "<keras.layers.core.activation.Activation object at 0x7f5ab3cd52d0> conv4_block3_1_relu float32 <Policy \"mixed_float16\">\n",
            "<keras.layers.convolutional.ZeroPadding2D object at 0x7f5ab341c9d0> conv4_block3_2_pad float32 <Policy \"mixed_float16\">\n",
            "<keras.layers.convolutional.Conv2D object at 0x7f5ab396e190> conv4_block3_2_conv float32 <Policy \"mixed_float16\">\n",
            "<keras.layers.normalization.batch_normalization.BatchNormalization object at 0x7f5ab7fdf150> conv4_block3_2_bn float32 <Policy \"mixed_float16\">\n",
            "<keras.layers.core.activation.Activation object at 0x7f5ab3a80450> conv4_block3_2_relu float32 <Policy \"mixed_float16\">\n",
            "<keras.layers.convolutional.Conv2D object at 0x7f5ab3a80790> conv4_block3_3_conv float32 <Policy \"mixed_float16\">\n",
            "<keras.layers.merge.Add object at 0x7f5ab437a490> conv4_block3_out float32 <Policy \"mixed_float16\">\n",
            "<keras.layers.normalization.batch_normalization.BatchNormalization object at 0x7f5ab437ead0> conv4_block4_preact_bn float32 <Policy \"mixed_float16\">\n",
            "<keras.layers.core.activation.Activation object at 0x7f5ab437e650> conv4_block4_preact_relu float32 <Policy \"mixed_float16\">\n",
            "<keras.layers.convolutional.Conv2D object at 0x7f5ab437e350> conv4_block4_1_conv float32 <Policy \"mixed_float16\">\n",
            "<keras.layers.normalization.batch_normalization.BatchNormalization object at 0x7f5ab43595d0> conv4_block4_1_bn float32 <Policy \"mixed_float16\">\n",
            "<keras.layers.core.activation.Activation object at 0x7f5ab4359dd0> conv4_block4_1_relu float32 <Policy \"mixed_float16\">\n",
            "<keras.layers.convolutional.ZeroPadding2D object at 0x7f5ab437e3d0> conv4_block4_2_pad float32 <Policy \"mixed_float16\">\n",
            "<keras.layers.convolutional.Conv2D object at 0x7f5ab43826d0> conv4_block4_2_conv float32 <Policy \"mixed_float16\">\n",
            "<keras.layers.normalization.batch_normalization.BatchNormalization object at 0x7f5ab435e250> conv4_block4_2_bn float32 <Policy \"mixed_float16\">\n",
            "<keras.layers.core.activation.Activation object at 0x7f5ab435ef50> conv4_block4_2_relu float32 <Policy \"mixed_float16\">\n",
            "<keras.layers.convolutional.Conv2D object at 0x7f5ab4361410> conv4_block4_3_conv float32 <Policy \"mixed_float16\">\n",
            "<keras.layers.merge.Add object at 0x7f5ab3ed32d0> conv4_block4_out float32 <Policy \"mixed_float16\">\n",
            "<keras.layers.normalization.batch_normalization.BatchNormalization object at 0x7f5ab3435bd0> conv4_block5_preact_bn float32 <Policy \"mixed_float16\">\n",
            "<keras.layers.core.activation.Activation object at 0x7f5ab3ec4a10> conv4_block5_preact_relu float32 <Policy \"mixed_float16\">\n",
            "<keras.layers.convolutional.Conv2D object at 0x7f5ab4375710> conv4_block5_1_conv float32 <Policy \"mixed_float16\">\n",
            "<keras.layers.normalization.batch_normalization.BatchNormalization object at 0x7f5ab3ebb690> conv4_block5_1_bn float32 <Policy \"mixed_float16\">\n",
            "<keras.layers.core.activation.Activation object at 0x7f5ab3eb5a90> conv4_block5_1_relu float32 <Policy \"mixed_float16\">\n",
            "<keras.layers.convolutional.ZeroPadding2D object at 0x7f5ab3ecfa90> conv4_block5_2_pad float32 <Policy \"mixed_float16\">\n",
            "<keras.layers.convolutional.Conv2D object at 0x7f5ab3ea1390> conv4_block5_2_conv float32 <Policy \"mixed_float16\">\n",
            "<keras.layers.normalization.batch_normalization.BatchNormalization object at 0x7f5ab3cbb310> conv4_block5_2_bn float32 <Policy \"mixed_float16\">\n",
            "<keras.layers.core.activation.Activation object at 0x7f5ab3eabf90> conv4_block5_2_relu float32 <Policy \"mixed_float16\">\n",
            "<keras.layers.convolutional.Conv2D object at 0x7f5ab3eabb50> conv4_block5_3_conv float32 <Policy \"mixed_float16\">\n",
            "<keras.layers.merge.Add object at 0x7f5ab3ea1850> conv4_block5_out float32 <Policy \"mixed_float16\">\n",
            "<keras.layers.normalization.batch_normalization.BatchNormalization object at 0x7f5ab3e988d0> conv4_block6_preact_bn float32 <Policy \"mixed_float16\">\n",
            "<keras.layers.core.activation.Activation object at 0x7f5ab3ea5350> conv4_block6_preact_relu float32 <Policy \"mixed_float16\">\n",
            "<keras.layers.convolutional.Conv2D object at 0x7f5ab8c3e510> conv4_block6_1_conv float32 <Policy \"mixed_float16\">\n",
            "<keras.layers.normalization.batch_normalization.BatchNormalization object at 0x7f5ab8c4b910> conv4_block6_1_bn float32 <Policy \"mixed_float16\">\n",
            "<keras.layers.core.activation.Activation object at 0x7f5ab8c3dcd0> conv4_block6_1_relu float32 <Policy \"mixed_float16\">\n",
            "<keras.layers.convolutional.ZeroPadding2D object at 0x7f5ab3e97550> conv4_block6_2_pad float32 <Policy \"mixed_float16\">\n",
            "<keras.layers.convolutional.Conv2D object at 0x7f5ab8c28fd0> conv4_block6_2_conv float32 <Policy \"mixed_float16\">\n",
            "<keras.layers.normalization.batch_normalization.BatchNormalization object at 0x7f5ab8c44250> conv4_block6_2_bn float32 <Policy \"mixed_float16\">\n",
            "<keras.layers.core.activation.Activation object at 0x7f5ab8c4b9d0> conv4_block6_2_relu float32 <Policy \"mixed_float16\">\n",
            "<keras.layers.pooling.MaxPooling2D object at 0x7f5ab3ea5050> max_pooling2d_2 float32 <Policy \"mixed_float16\">\n",
            "<keras.layers.convolutional.Conv2D object at 0x7f5ab3e98f10> conv4_block6_3_conv float32 <Policy \"mixed_float16\">\n",
            "<keras.layers.merge.Add object at 0x7f5ab3ed30d0> conv4_block6_out float32 <Policy \"mixed_float16\">\n",
            "<keras.layers.normalization.batch_normalization.BatchNormalization object at 0x7f5ab3eb5490> conv5_block1_preact_bn float32 <Policy \"mixed_float16\">\n",
            "<keras.layers.core.activation.Activation object at 0x7f5ab435e690> conv5_block1_preact_relu float32 <Policy \"mixed_float16\">\n",
            "<keras.layers.convolutional.Conv2D object at 0x7f5ab437d050> conv5_block1_1_conv float32 <Policy \"mixed_float16\">\n",
            "<keras.layers.normalization.batch_normalization.BatchNormalization object at 0x7f5ab4378690> conv5_block1_1_bn float32 <Policy \"mixed_float16\">\n",
            "<keras.layers.core.activation.Activation object at 0x7f5ab3caf250> conv5_block1_1_relu float32 <Policy \"mixed_float16\">\n",
            "<keras.layers.convolutional.ZeroPadding2D object at 0x7f5ab3a64c50> conv5_block1_2_pad float32 <Policy \"mixed_float16\">\n",
            "<keras.layers.convolutional.Conv2D object at 0x7f5ab396c550> conv5_block1_2_conv float32 <Policy \"mixed_float16\">\n",
            "<keras.layers.normalization.batch_normalization.BatchNormalization object at 0x7f5ab8c3c4d0> conv5_block1_2_bn float32 <Policy \"mixed_float16\">\n",
            "<keras.layers.core.activation.Activation object at 0x7f5ab8c25310> conv5_block1_2_relu float32 <Policy \"mixed_float16\">\n",
            "<keras.layers.convolutional.Conv2D object at 0x7f5ab4382410> conv5_block1_0_conv float32 <Policy \"mixed_float16\">\n",
            "<keras.layers.convolutional.Conv2D object at 0x7f5ab8c3a090> conv5_block1_3_conv float32 <Policy \"mixed_float16\">\n",
            "<keras.layers.merge.Add object at 0x7f5ab8c2c750> conv5_block1_out float32 <Policy \"mixed_float16\">\n",
            "<keras.layers.normalization.batch_normalization.BatchNormalization object at 0x7f5ab8c2cd10> conv5_block2_preact_bn float32 <Policy \"mixed_float16\">\n",
            "<keras.layers.core.activation.Activation object at 0x7f5ab33c25d0> conv5_block2_preact_relu float32 <Policy \"mixed_float16\">\n",
            "<keras.layers.convolutional.Conv2D object at 0x7f5ab33c2350> conv5_block2_1_conv float32 <Policy \"mixed_float16\">\n",
            "<keras.layers.normalization.batch_normalization.BatchNormalization object at 0x7f5ab33c4090> conv5_block2_1_bn float32 <Policy \"mixed_float16\">\n",
            "<keras.layers.core.activation.Activation object at 0x7f5ab33ce1d0> conv5_block2_1_relu float32 <Policy \"mixed_float16\">\n",
            "<keras.layers.convolutional.ZeroPadding2D object at 0x7f5ab8c3c1d0> conv5_block2_2_pad float32 <Policy \"mixed_float16\">\n",
            "<keras.layers.convolutional.Conv2D object at 0x7f5ab33c49d0> conv5_block2_2_conv float32 <Policy \"mixed_float16\">\n",
            "<keras.layers.normalization.batch_normalization.BatchNormalization object at 0x7f5ab33bd1d0> conv5_block2_2_bn float32 <Policy \"mixed_float16\">\n",
            "<keras.layers.core.activation.Activation object at 0x7f5ab33bdf50> conv5_block2_2_relu float32 <Policy \"mixed_float16\">\n",
            "<keras.layers.convolutional.Conv2D object at 0x7f5ab33c1050> conv5_block2_3_conv float32 <Policy \"mixed_float16\">\n",
            "<keras.layers.merge.Add object at 0x7f5ab33a9410> conv5_block2_out float32 <Policy \"mixed_float16\">\n",
            "<keras.layers.normalization.batch_normalization.BatchNormalization object at 0x7f5ab33a99d0> conv5_block3_preact_bn float32 <Policy \"mixed_float16\">\n",
            "<keras.layers.core.activation.Activation object at 0x7f5ab3bfdd50> conv5_block3_preact_relu float32 <Policy \"mixed_float16\">\n",
            "<keras.layers.convolutional.Conv2D object at 0x7f5ab33a9350> conv5_block3_1_conv float32 <Policy \"mixed_float16\">\n",
            "<keras.layers.normalization.batch_normalization.BatchNormalization object at 0x7f5ab33a1b50> conv5_block3_1_bn float32 <Policy \"mixed_float16\">\n",
            "<keras.layers.core.activation.Activation object at 0x7f5ab8e0fdd0> conv5_block3_1_relu float32 <Policy \"mixed_float16\">\n",
            "<keras.layers.convolutional.ZeroPadding2D object at 0x7f5ab8e15e90> conv5_block3_2_pad float32 <Policy \"mixed_float16\">\n",
            "<keras.layers.convolutional.Conv2D object at 0x7f5ab33a1810> conv5_block3_2_conv float32 <Policy \"mixed_float16\">\n",
            "<keras.layers.normalization.batch_normalization.BatchNormalization object at 0x7f5ab8e09950> conv5_block3_2_bn float32 <Policy \"mixed_float16\">\n",
            "<keras.layers.core.activation.Activation object at 0x7f5ab8e09c10> conv5_block3_2_relu float32 <Policy \"mixed_float16\">\n",
            "<keras.layers.convolutional.Conv2D object at 0x7f5ab8e12ed0> conv5_block3_3_conv float32 <Policy \"mixed_float16\">\n",
            "<keras.layers.merge.Add object at 0x7f5ab8df4f10> conv5_block3_out float32 <Policy \"mixed_float16\">\n",
            "<keras.layers.normalization.batch_normalization.BatchNormalization object at 0x7f5ab8c510d0> post_bn float32 <Policy \"mixed_float16\">\n",
            "<keras.layers.core.activation.Activation object at 0x7f5ab8de0d90> post_relu float32 <Policy \"mixed_float16\">\n"
          ]
        }
      ]
    },
    {
      "cell_type": "code",
      "source": [
        "for layer in model.layers:\n",
        "  print(layer, layer.name, layer.dtype, layer.dtype_policy)"
      ],
      "metadata": {
        "colab": {
          "base_uri": "https://localhost:8080/"
        },
        "id": "BAP5INblubZD",
        "outputId": "9f3c3296-70c8-4047-837c-34e2adaa4921"
      },
      "execution_count": 29,
      "outputs": [
        {
          "output_type": "stream",
          "name": "stdout",
          "text": [
            "<keras.engine.input_layer.InputLayer object at 0x7f5ab8de4210> input_layer float32 <Policy \"float32\">\n",
            "<keras.layers.preprocessing.image_preprocessing.Rescaling object at 0x7f5ab3c08f10> rescaling float32 <Policy \"mixed_float16\">\n",
            "<keras.engine.sequential.Sequential object at 0x7f5ab8117b50> data_augmentation_layer float32 <Policy \"float32\">\n",
            "<keras.engine.functional.Functional object at 0x7f5ab8de0d10> resnet50v2 float32 <Policy \"mixed_float16\">\n",
            "<keras.layers.pooling.GlobalAveragePooling2D object at 0x7f5ab3a60f10> pooling_layer float32 <Policy \"mixed_float16\">\n",
            "<keras.layers.core.dropout.Dropout object at 0x7f5ab3caf790> dropout_layer float32 <Policy \"mixed_float16\">\n",
            "<keras.layers.core.dense.Dense object at 0x7f5ab82f7f50> regularization_layer float32 <Policy \"mixed_float16\">\n",
            "<keras.layers.core.dense.Dense object at 0x7f5ab3b1acd0> dense float32 <Policy \"mixed_float16\">\n",
            "<keras.layers.core.activation.Activation object at 0x7f5abda62110> softmax_float32 float32 <Policy \"float32\">\n"
          ]
        }
      ]
    },
    {
      "cell_type": "code",
      "source": [
        "history_101_food_classes_feature_extract = model.fit(train_data, epochs=10,steps_per_epoch=len(train_data), validation_data=test_data, validation_steps=int(0.15 * len(test_data)),callbacks=[tensorboard_callback, checkpoint_callback, lr_scheduler_callback, learning_rate_reduce_callback])"
      ],
      "metadata": {
        "colab": {
          "base_uri": "https://localhost:8080/"
        },
        "id": "EgVQpcpBugSk",
        "outputId": "e94f3dfd-7a5c-4eb6-f53b-d083dfef1974"
      },
      "execution_count": 30,
      "outputs": [
        {
          "output_type": "stream",
          "name": "stdout",
          "text": [
            "Epoch 1/10\n",
            "2368/2368 [==============================] - ETA: 0s - loss: 2.9696 - accuracy: 0.3210\n",
            "Epoch 1: val_loss improved from inf to 2.03567, saving model to checkpoints/feature_extraction_model\n",
            "2368/2368 [==============================] - 236s 92ms/step - loss: 2.9696 - accuracy: 0.3210 - val_loss: 2.0357 - val_accuracy: 0.4981 - lr: 0.0010\n",
            "Epoch 2/10\n",
            "2368/2368 [==============================] - ETA: 0s - loss: 2.6323 - accuracy: 0.3873\n",
            "Epoch 2: val_loss did not improve from 2.03567\n",
            "2368/2368 [==============================] - 193s 81ms/step - loss: 2.6323 - accuracy: 0.3873 - val_loss: 2.0499 - val_accuracy: 0.4968 - lr: 0.0010\n",
            "Epoch 3/10\n",
            "2368/2368 [==============================] - ETA: 0s - loss: 2.5995 - accuracy: 0.3973\n",
            "Epoch 3: val_loss improved from 2.03567 to 1.98743, saving model to checkpoints/feature_extraction_model\n",
            "2368/2368 [==============================] - 187s 78ms/step - loss: 2.5995 - accuracy: 0.3973 - val_loss: 1.9874 - val_accuracy: 0.5177 - lr: 0.0010\n",
            "Epoch 4/10\n",
            "2368/2368 [==============================] - ETA: 0s - loss: 2.5879 - accuracy: 0.4009\n",
            "Epoch 4: val_loss did not improve from 1.98743\n",
            "2368/2368 [==============================] - 180s 75ms/step - loss: 2.5879 - accuracy: 0.4009 - val_loss: 2.0193 - val_accuracy: 0.5037 - lr: 0.0010\n",
            "Epoch 5/10\n",
            "2368/2368 [==============================] - ETA: 0s - loss: 2.5802 - accuracy: 0.4054\n",
            "Epoch 5: val_loss did not improve from 1.98743\n",
            "\n",
            "Epoch 5: ReduceLROnPlateau reducing learning rate to 0.00020000000949949026.\n",
            "2368/2368 [==============================] - 184s 77ms/step - loss: 2.5802 - accuracy: 0.4054 - val_loss: 1.9970 - val_accuracy: 0.5167 - lr: 0.0010\n",
            "Epoch 6/10\n",
            "2368/2368 [==============================] - ETA: 0s - loss: 2.3844 - accuracy: 0.4487\n",
            "Epoch 6: val_loss improved from 1.98743 to 1.80596, saving model to checkpoints/feature_extraction_model\n",
            "2368/2368 [==============================] - 184s 77ms/step - loss: 2.3844 - accuracy: 0.4487 - val_loss: 1.8060 - val_accuracy: 0.5612 - lr: 1.8097e-04\n",
            "Epoch 7/10\n",
            "2367/2368 [============================>.] - ETA: 0s - loss: 2.3258 - accuracy: 0.4589\n",
            "Epoch 7: val_loss improved from 1.80596 to 1.78656, saving model to checkpoints/feature_extraction_model\n",
            "2368/2368 [==============================] - 174s 73ms/step - loss: 2.3259 - accuracy: 0.4589 - val_loss: 1.7866 - val_accuracy: 0.5638 - lr: 1.6375e-04\n",
            "Epoch 8/10\n",
            "2368/2368 [==============================] - ETA: 0s - loss: 2.3004 - accuracy: 0.4658\n",
            "Epoch 8: val_loss improved from 1.78656 to 1.76895, saving model to checkpoints/feature_extraction_model\n",
            "2368/2368 [==============================] - 173s 73ms/step - loss: 2.3004 - accuracy: 0.4658 - val_loss: 1.7690 - val_accuracy: 0.5694 - lr: 1.4816e-04\n",
            "Epoch 9/10\n",
            "2368/2368 [==============================] - ETA: 0s - loss: 2.2831 - accuracy: 0.4683\n",
            "Epoch 9: val_loss improved from 1.76895 to 1.76721, saving model to checkpoints/feature_extraction_model\n",
            "2368/2368 [==============================] - 179s 75ms/step - loss: 2.2831 - accuracy: 0.4683 - val_loss: 1.7672 - val_accuracy: 0.5702 - lr: 1.3406e-04\n",
            "Epoch 10/10\n",
            "2368/2368 [==============================] - ETA: 0s - loss: 2.2720 - accuracy: 0.4709\n",
            "Epoch 10: val_loss improved from 1.76721 to 1.75644, saving model to checkpoints/feature_extraction_model\n",
            "2368/2368 [==============================] - 173s 73ms/step - loss: 2.2720 - accuracy: 0.4709 - val_loss: 1.7564 - val_accuracy: 0.5736 - lr: 1.2131e-04\n"
          ]
        }
      ]
    },
    {
      "cell_type": "code",
      "source": [
        "model.evaluate(test_data)"
      ],
      "metadata": {
        "colab": {
          "base_uri": "https://localhost:8080/"
        },
        "id": "hKt1aZrWvFpp",
        "outputId": "45e0e52c-9fe1-49a7-c1de-a8f76b01db34"
      },
      "execution_count": 31,
      "outputs": [
        {
          "output_type": "stream",
          "name": "stdout",
          "text": [
            "790/790 [==============================] - 49s 62ms/step - loss: 1.7880 - accuracy: 0.5694\n"
          ]
        },
        {
          "output_type": "execute_result",
          "data": {
            "text/plain": [
              "[1.787976622581482, 0.5694257616996765]"
            ]
          },
          "metadata": {},
          "execution_count": 31
        }
      ]
    },
    {
      "cell_type": "code",
      "source": [
        "plot_loss_curves(history_101_food_classes_feature_extract)"
      ],
      "metadata": {
        "colab": {
          "base_uri": "https://localhost:8080/",
          "height": 573
        },
        "id": "Lq6e9K3Ix7lG",
        "outputId": "f5fa4a6c-89c6-4c58-902a-2be0ddd67b03"
      },
      "execution_count": 32,
      "outputs": [
        {
          "output_type": "display_data",
          "data": {
            "text/plain": [
              "<Figure size 432x288 with 1 Axes>"
            ],
            "image/png": "[encoded data removed]"
          },
          "metadata": {
            "needs_background": "light"
          }
        },
        {
          "output_type": "display_data",
          "data": {
            "text/plain": [
              "<Figure size 432x288 with 1 Axes>"
            ],
            "image/png": "[encoded data removed]"
          },
          "metadata": {
            "needs_background": "light"
          }
        }
      ]
    },
    {
      "cell_type": "code",
      "source": [
        "result_feature_extraction= model.evaluate(test_data)\n",
        "result_feature_extraction"
      ],
      "metadata": {
        "colab": {
          "base_uri": "https://localhost:8080/"
        },
        "id": "LVaoiCtEx8nG",
        "outputId": "3633218f-e502-43ec-8c5e-3aef58cf6db3"
      },
      "execution_count": 33,
      "outputs": [
        {
          "output_type": "stream",
          "name": "stdout",
          "text": [
            "790/790 [==============================] - 48s 61ms/step - loss: 1.7880 - accuracy: 0.5694\n"
          ]
        },
        {
          "output_type": "execute_result",
          "data": {
            "text/plain": [
              "[1.787976622581482, 0.5694257616996765]"
            ]
          },
          "metadata": {},
          "execution_count": 33
        }
      ]
    },
    {
      "cell_type": "code",
      "source": [
        "saved_model_dir='saved_models/model_feature_extraction_model'"
      ],
      "metadata": {
        "id": "v1nGPpYsx-ZC"
      },
      "execution_count": 34,
      "outputs": []
    },
    {
      "cell_type": "code",
      "source": [
        "model.save(saved_model_dir)"
      ],
      "metadata": {
        "id": "wl9Jg-FRyAAE"
      },
      "execution_count": 35,
      "outputs": []
    },
    {
      "cell_type": "markdown",
      "source": [
        "## Load the saved Feature Extraction Model"
      ],
      "metadata": {
        "id": "qAGbSZuHLGsZ"
      }
    },
    {
      "cell_type": "code",
      "source": [
        "loaded_model= tf.keras.models.load_model(saved_model_dir)"
      ],
      "metadata": {
        "id": "-qghWSkeyBC_"
      },
      "execution_count": 36,
      "outputs": []
    },
    {
      "cell_type": "code",
      "source": [
        "loaded_model_result=loaded_model.evaluate(test_data)\n",
        "loaded_model_result"
      ],
      "metadata": {
        "id": "7u5lCIx3yREk",
        "colab": {
          "base_uri": "https://localhost:8080/"
        },
        "outputId": "d6d8440d-2499-4325-8fb3-a824fd9cd97a"
      },
      "execution_count": 37,
      "outputs": [
        {
          "output_type": "stream",
          "name": "stdout",
          "text": [
            "790/790 [==============================] - 50s 61ms/step - loss: 1.7880 - accuracy: 0.5694\n"
          ]
        },
        {
          "output_type": "execute_result",
          "data": {
            "text/plain": [
              "[1.787976622581482, 0.5694257616996765]"
            ]
          },
          "metadata": {},
          "execution_count": 37
        }
      ]
    },
    {
      "cell_type": "markdown",
      "metadata": {
        "id": "MdbBszJYh49N"
      },
      "source": [
        "## Checking if the model saved/loaded correctly"
      ]
    },
    {
      "cell_type": "code",
      "source": [
        "loaded_model_result == result_feature_extraction"
      ],
      "metadata": {
        "id": "19G9--jJySUf",
        "colab": {
          "base_uri": "https://localhost:8080/"
        },
        "outputId": "f0cfc716-3606-4309-a317-0479c525ca30"
      },
      "execution_count": 38,
      "outputs": [
        {
          "output_type": "execute_result",
          "data": {
            "text/plain": [
              "True"
            ]
          },
          "metadata": {},
          "execution_count": 38
        }
      ]
    },
    {
      "cell_type": "code",
      "source": [
        "np.allclose(result_feature_extraction, loaded_model_result)"
      ],
      "metadata": {
        "id": "cz2YoniPyanN",
        "colab": {
          "base_uri": "https://localhost:8080/"
        },
        "outputId": "4ed5b82f-e630-4f9a-a6a8-22f7b58fb4b1"
      },
      "execution_count": 39,
      "outputs": [
        {
          "output_type": "execute_result",
          "data": {
            "text/plain": [
              "True"
            ]
          },
          "metadata": {},
          "execution_count": 39
        }
      ]
    },
    {
      "cell_type": "markdown",
      "source": [
        "## Checking the layers of the loaded model"
      ],
      "metadata": {
        "id": "iEpZ5qx0L4C5"
      }
    },
    {
      "cell_type": "code",
      "source": [
        "for layer in loaded_model.layers:\n",
        "  print(layer, layer.name, layer.trainable)"
      ],
      "metadata": {
        "id": "4iXUxBIVyc6D",
        "colab": {
          "base_uri": "https://localhost:8080/"
        },
        "outputId": "9917d0f5-92fb-4726-a740-eb2bdee5bbd7"
      },
      "execution_count": 40,
      "outputs": [
        {
          "output_type": "stream",
          "name": "stdout",
          "text": [
            "<keras.engine.input_layer.InputLayer object at 0x7f5ab455ead0> input_layer True\n",
            "<keras.layers.preprocessing.image_preprocessing.Rescaling object at 0x7f5ab6845a10> rescaling True\n",
            "<keras.engine.sequential.Sequential object at 0x7f5ab666fd10> data_augmentation_layer True\n",
            "<keras.engine.functional.Functional object at 0x7f5ab74a3b90> resnet50v2 False\n",
            "<keras.layers.pooling.GlobalAveragePooling2D object at 0x7f5a2068b1d0> pooling_layer True\n",
            "<keras.layers.core.dropout.Dropout object at 0x7f5a2068b110> dropout_layer True\n",
            "<keras.layers.core.dense.Dense object at 0x7f5ab76c9f10> regularization_layer True\n",
            "<keras.layers.core.dense.Dense object at 0x7f5ab6995290> dense True\n",
            "<keras.layers.core.activation.Activation object at 0x7f5ab757a550> softmax_float32 True\n"
          ]
        }
      ]
    },
    {
      "cell_type": "code",
      "source": [
        "for layer in loaded_model.layers[3].layers:\n",
        "  print(layer, layer.name, layer.trainable)"
      ],
      "metadata": {
        "id": "YFmHS9e3y9GR",
        "colab": {
          "base_uri": "https://localhost:8080/"
        },
        "outputId": "f35b4ccb-2083-4e17-f4af-9360f2784fca"
      },
      "execution_count": 42,
      "outputs": [
        {
          "output_type": "stream",
          "name": "stdout",
          "text": [
            "<keras.engine.input_layer.InputLayer object at 0x7f5ab7714a50> input_1 True\n",
            "<keras.layers.convolutional.ZeroPadding2D object at 0x7f5ab76a4350> conv1_pad False\n",
            "<keras.layers.convolutional.Conv2D object at 0x7f5ab74ac190> conv1_conv False\n",
            "<keras.layers.convolutional.ZeroPadding2D object at 0x7f5ab7669450> pool1_pad False\n",
            "<keras.layers.pooling.MaxPooling2D object at 0x7f5ab69840d0> pool1_pool False\n",
            "<keras.layers.normalization.batch_normalization.BatchNormalization object at 0x7f5ab770d850> conv2_block1_preact_bn False\n",
            "<keras.layers.core.activation.Activation object at 0x7f5ab778bc10> conv2_block1_preact_relu False\n",
            "<keras.layers.convolutional.Conv2D object at 0x7f5ab778b450> conv2_block1_1_conv False\n",
            "<keras.layers.normalization.batch_normalization.BatchNormalization object at 0x7f5ab777e810> conv2_block1_1_bn False\n",
            "<keras.layers.core.activation.Activation object at 0x7f5ab6972410> conv2_block1_1_relu False\n",
            "<keras.layers.convolutional.ZeroPadding2D object at 0x7f5ab657b890> conv2_block1_2_pad False\n",
            "<keras.layers.convolutional.Conv2D object at 0x7f5ab7774810> conv2_block1_2_conv False\n",
            "<keras.layers.normalization.batch_normalization.BatchNormalization object at 0x7f5ab6598890> conv2_block1_2_bn False\n",
            "<keras.layers.core.activation.Activation object at 0x7f5ab77cd310> conv2_block1_2_relu False\n",
            "<keras.layers.convolutional.Conv2D object at 0x7f5ab77cda50> conv2_block1_0_conv False\n",
            "<keras.layers.convolutional.Conv2D object at 0x7f5ab696ca10> conv2_block1_3_conv False\n",
            "<keras.layers.merge.Add object at 0x7f5ab6594fd0> conv2_block1_out False\n",
            "<keras.layers.normalization.batch_normalization.BatchNormalization object at 0x7f5a20685490> conv2_block2_preact_bn False\n",
            "<keras.layers.core.activation.Activation object at 0x7f5ab77d4d10> conv2_block2_preact_relu False\n",
            "<keras.layers.convolutional.Conv2D object at 0x7f5ab654c2d0> conv2_block2_1_conv False\n",
            "<keras.layers.normalization.batch_normalization.BatchNormalization object at 0x7f5ab77fde50> conv2_block2_1_bn False\n",
            "<keras.layers.core.activation.Activation object at 0x7f5ab77fd1d0> conv2_block2_1_relu False\n",
            "<keras.layers.convolutional.ZeroPadding2D object at 0x7f5ab77a7a10> conv2_block2_2_pad False\n",
            "<keras.layers.convolutional.Conv2D object at 0x7f5ab69ce7d0> conv2_block2_2_conv False\n",
            "<keras.layers.normalization.batch_normalization.BatchNormalization object at 0x7f5ab6554950> conv2_block2_2_bn False\n",
            "<keras.layers.core.activation.Activation object at 0x7f5ab77ea790> conv2_block2_2_relu False\n",
            "<keras.layers.convolutional.Conv2D object at 0x7f5ab78043d0> conv2_block2_3_conv False\n",
            "<keras.layers.merge.Add object at 0x7f5ab7786f10> conv2_block2_out False\n",
            "<keras.layers.normalization.batch_normalization.BatchNormalization object at 0x7f5ab783b590> conv2_block3_preact_bn False\n",
            "<keras.layers.core.activation.Activation object at 0x7f5ab782c3d0> conv2_block3_preact_relu False\n",
            "<keras.layers.convolutional.Conv2D object at 0x7f5ab782cbd0> conv2_block3_1_conv False\n",
            "<keras.layers.normalization.batch_normalization.BatchNormalization object at 0x7f5ab6547fd0> conv2_block3_1_bn False\n",
            "<keras.layers.core.activation.Activation object at 0x7f5ab69a81d0> conv2_block3_1_relu False\n",
            "<keras.layers.convolutional.ZeroPadding2D object at 0x7f5ab64a7590> conv2_block3_2_pad False\n",
            "<keras.layers.convolutional.Conv2D object at 0x7f5ab6540110> conv2_block3_2_conv False\n",
            "<keras.layers.normalization.batch_normalization.BatchNormalization object at 0x7f5ab6a15d50> conv2_block3_2_bn False\n",
            "<keras.layers.core.activation.Activation object at 0x7f5ab663ccd0> conv2_block3_2_relu False\n",
            "<keras.layers.pooling.MaxPooling2D object at 0x7f5ab6456d90> max_pooling2d False\n",
            "<keras.layers.convolutional.Conv2D object at 0x7f5ab78c8690> conv2_block3_3_conv False\n",
            "<keras.layers.merge.Add object at 0x7f5ab7896bd0> conv2_block3_out False\n",
            "<keras.layers.normalization.batch_normalization.BatchNormalization object at 0x7f5ab64c9a50> conv3_block1_preact_bn False\n",
            "<keras.layers.core.activation.Activation object at 0x7f5ab7907e90> conv3_block1_preact_relu False\n",
            "<keras.layers.convolutional.Conv2D object at 0x7f5ab790f590> conv3_block1_1_conv False\n",
            "<keras.layers.normalization.batch_normalization.BatchNormalization object at 0x7f5a2067f450> conv3_block1_1_bn False\n",
            "<keras.layers.core.activation.Activation object at 0x7f5ab780db50> conv3_block1_1_relu False\n",
            "<keras.layers.convolutional.ZeroPadding2D object at 0x7f5ab780d390> conv3_block1_2_pad False\n",
            "<keras.layers.convolutional.Conv2D object at 0x7f5ab64ad990> conv3_block1_2_conv False\n",
            "<keras.layers.normalization.batch_normalization.BatchNormalization object at 0x7f5ab78fc3d0> conv3_block1_2_bn False\n",
            "<keras.layers.core.activation.Activation object at 0x7f5ab78d7990> conv3_block1_2_relu False\n",
            "<keras.layers.convolutional.Conv2D object at 0x7f5ab78e74d0> conv3_block1_0_conv False\n",
            "<keras.layers.convolutional.Conv2D object at 0x7f5ab78f2a10> conv3_block1_3_conv False\n",
            "<keras.layers.merge.Add object at 0x7f5ab651c110> conv3_block1_out False\n",
            "<keras.layers.normalization.batch_normalization.BatchNormalization object at 0x7f5ab651ca90> conv3_block2_preact_bn False\n",
            "<keras.layers.core.activation.Activation object at 0x7f5ab794ce90> conv3_block2_preact_relu False\n",
            "<keras.layers.convolutional.Conv2D object at 0x7f5ab794c4d0> conv3_block2_1_conv False\n",
            "<keras.layers.normalization.batch_normalization.BatchNormalization object at 0x7f5ab791a690> conv3_block2_1_bn False\n",
            "<keras.layers.core.activation.Activation object at 0x7f5ab7834190> conv3_block2_1_relu False\n",
            "<keras.layers.convolutional.ZeroPadding2D object at 0x7f5ab7834710> conv3_block2_2_pad False\n",
            "<keras.layers.convolutional.Conv2D object at 0x7f5ab69e1150> conv3_block2_2_conv False\n",
            "<keras.layers.normalization.batch_normalization.BatchNormalization object at 0x7f5ab69d9a90> conv3_block2_2_bn False\n",
            "<keras.layers.core.activation.Activation object at 0x7f5ab6a94050> conv3_block2_2_relu False\n",
            "<keras.layers.convolutional.Conv2D object at 0x7f5ab78e08d0> conv3_block2_3_conv False\n",
            "<keras.layers.merge.Add object at 0x7f5ab79c0850> conv3_block2_out False\n",
            "<keras.layers.normalization.batch_normalization.BatchNormalization object at 0x7f5ab79c0090> conv3_block3_preact_bn False\n",
            "<keras.layers.core.activation.Activation object at 0x7f5ab6471e90> conv3_block3_preact_relu False\n",
            "<keras.layers.convolutional.Conv2D object at 0x7f5ab7996210> conv3_block3_1_conv False\n",
            "<keras.layers.normalization.batch_normalization.BatchNormalization object at 0x7f5ab7a07bd0> conv3_block3_1_bn False\n",
            "<keras.layers.core.activation.Activation object at 0x7f5a20679550> conv3_block3_1_relu False\n",
            "<keras.layers.convolutional.ZeroPadding2D object at 0x7f5a206791d0> conv3_block3_2_pad False\n",
            "<keras.layers.convolutional.Conv2D object at 0x7f5ab6a837d0> conv3_block3_2_conv False\n",
            "<keras.layers.normalization.batch_normalization.BatchNormalization object at 0x7f5ab79fd0d0> conv3_block3_2_bn False\n",
            "<keras.layers.core.activation.Activation object at 0x7f5ab648b510> conv3_block3_2_relu False\n",
            "<keras.layers.convolutional.Conv2D object at 0x7f5ab6a7df50> conv3_block3_3_conv False\n",
            "<keras.layers.merge.Add object at 0x7f5ab649bd50> conv3_block3_out False\n",
            "<keras.layers.normalization.batch_normalization.BatchNormalization object at 0x7f5ab6a5cb90> conv3_block4_preact_bn False\n",
            "<keras.layers.core.activation.Activation object at 0x7f5ab641da50> conv3_block4_preact_relu False\n",
            "<keras.layers.convolutional.Conv2D object at 0x7f5ab64bdd10> conv3_block4_1_conv False\n",
            "<keras.layers.normalization.batch_normalization.BatchNormalization object at 0x7f5ab7a2ab10> conv3_block4_1_bn False\n",
            "<keras.layers.core.activation.Activation object at 0x7f5ab7a20d50> conv3_block4_1_relu False\n",
            "<keras.layers.convolutional.ZeroPadding2D object at 0x7f5ab7a3d490> conv3_block4_2_pad False\n",
            "<keras.layers.convolutional.Conv2D object at 0x7f5ab7a8f690> conv3_block4_2_conv False\n",
            "<keras.layers.normalization.batch_normalization.BatchNormalization object at 0x7f5a20674610> conv3_block4_2_bn False\n",
            "<keras.layers.core.activation.Activation object at 0x7f5a206748d0> conv3_block4_2_relu False\n",
            "<keras.layers.pooling.MaxPooling2D object at 0x7f5ab64857d0> max_pooling2d_1 False\n",
            "<keras.layers.convolutional.Conv2D object at 0x7f5ab6432b50> conv3_block4_3_conv False\n",
            "<keras.layers.merge.Add object at 0x7f5ab7a18810> conv3_block4_out False\n",
            "<keras.layers.normalization.batch_normalization.BatchNormalization object at 0x7f5ab7a70d50> conv4_block1_preact_bn False\n",
            "<keras.layers.core.activation.Activation object at 0x7f5ab6abc7d0> conv4_block1_preact_relu False\n",
            "<keras.layers.convolutional.Conv2D object at 0x7f5ab6ac3610> conv4_block1_1_conv False\n",
            "<keras.layers.normalization.batch_normalization.BatchNormalization object at 0x7f5ab645d690> conv4_block1_1_bn False\n",
            "<keras.layers.core.activation.Activation object at 0x7f5ab6425390> conv4_block1_1_relu False\n",
            "<keras.layers.convolutional.ZeroPadding2D object at 0x7f5ab7b06110> conv4_block1_2_pad False\n",
            "<keras.layers.convolutional.Conv2D object at 0x7f5ab6440510> conv4_block1_2_conv False\n",
            "<keras.layers.normalization.batch_normalization.BatchNormalization object at 0x7f5ab7ae84d0> conv4_block1_2_bn False\n",
            "<keras.layers.core.activation.Activation object at 0x7f5ab7a6b950> conv4_block1_2_relu False\n",
            "<keras.layers.convolutional.Conv2D object at 0x7f5ab7a6b690> conv4_block1_0_conv False\n",
            "<keras.layers.convolutional.Conv2D object at 0x7f5ab6aa7d90> conv4_block1_3_conv False\n",
            "<keras.layers.merge.Add object at 0x7f5ab63d8150> conv4_block1_out False\n",
            "<keras.layers.normalization.batch_normalization.BatchNormalization object at 0x7f5ab7b90410> conv4_block2_preact_bn False\n",
            "<keras.layers.core.activation.Activation object at 0x7f5ab64479d0> conv4_block2_preact_relu False\n",
            "<keras.layers.convolutional.Conv2D object at 0x7f5ab7b80750> conv4_block2_1_conv False\n",
            "<keras.layers.normalization.batch_normalization.BatchNormalization object at 0x7f5ab6b10710> conv4_block2_1_bn False\n",
            "<keras.layers.core.activation.Activation object at 0x7f5ab7b86490> conv4_block2_1_relu False\n",
            "<keras.layers.convolutional.ZeroPadding2D object at 0x7f5ab7b868d0> conv4_block2_2_pad False\n",
            "<keras.layers.convolutional.Conv2D object at 0x7f5a2066e390> conv4_block2_2_conv False\n",
            "<keras.layers.normalization.batch_normalization.BatchNormalization object at 0x7f5ab6afc790> conv4_block2_2_bn False\n",
            "<keras.layers.core.activation.Activation object at 0x7f5ab647e350> conv4_block2_2_relu False\n",
            "<keras.layers.convolutional.Conv2D object at 0x7f5ab79d16d0> conv4_block2_3_conv False\n",
            "<keras.layers.merge.Add object at 0x7f5ab64098d0> conv4_block2_out False\n",
            "<keras.layers.normalization.batch_normalization.BatchNormalization object at 0x7f5ab7bb5750> conv4_block3_preact_bn False\n",
            "<keras.layers.core.activation.Activation object at 0x7f5ab7ba85d0> conv4_block3_preact_relu False\n",
            "<keras.layers.convolutional.Conv2D object at 0x7f5ab7ba8fd0> conv4_block3_1_conv False\n",
            "<keras.layers.normalization.batch_normalization.BatchNormalization object at 0x7f5ab7b98250> conv4_block3_1_bn False\n",
            "<keras.layers.core.activation.Activation object at 0x7f5a2066d450> conv4_block3_1_relu False\n",
            "<keras.layers.convolutional.ZeroPadding2D object at 0x7f5a2066d8d0> conv4_block3_2_pad False\n",
            "<keras.layers.convolutional.Conv2D object at 0x7f5ab6401e90> conv4_block3_2_conv False\n",
            "<keras.layers.normalization.batch_normalization.BatchNormalization object at 0x7f5ab7c31350> conv4_block3_2_bn False\n",
            "<keras.layers.core.activation.Activation object at 0x7f5ab7c49310> conv4_block3_2_relu False\n",
            "<keras.layers.convolutional.Conv2D object at 0x7f5ab6b54990> conv4_block3_3_conv False\n",
            "<keras.layers.merge.Add object at 0x7f5ab658d950> conv4_block3_out False\n",
            "<keras.layers.normalization.batch_normalization.BatchNormalization object at 0x7f5ab7c3dd10> conv4_block4_preact_bn False\n",
            "<keras.layers.core.activation.Activation object at 0x7f5ab7c7cbd0> conv4_block4_preact_relu False\n",
            "<keras.layers.convolutional.Conv2D object at 0x7f5ab7c74690> conv4_block4_1_conv False\n",
            "<keras.layers.normalization.batch_normalization.BatchNormalization object at 0x7f5ab7c630d0> conv4_block4_1_bn False\n",
            "<keras.layers.core.activation.Activation object at 0x7f5ab644c910> conv4_block4_1_relu False\n",
            "<keras.layers.convolutional.ZeroPadding2D object at 0x7f5ab644c650> conv4_block4_2_pad False\n",
            "<keras.layers.convolutional.Conv2D object at 0x7f5ab7c6cdd0> conv4_block4_2_conv False\n",
            "<keras.layers.normalization.batch_normalization.BatchNormalization object at 0x7f5ab7ba1dd0> conv4_block4_2_bn False\n",
            "<keras.layers.core.activation.Activation object at 0x7f5ab63e7450> conv4_block4_2_relu False\n",
            "<keras.layers.convolutional.Conv2D object at 0x7f5ab635c510> conv4_block4_3_conv False\n",
            "<keras.layers.merge.Add object at 0x7f5ab7ca9990> conv4_block4_out False\n",
            "<keras.layers.normalization.batch_normalization.BatchNormalization object at 0x7f5ab7d06fd0> conv4_block5_preact_bn False\n",
            "<keras.layers.core.activation.Activation object at 0x7f5ab7c99f90> conv4_block5_preact_relu False\n",
            "<keras.layers.convolutional.Conv2D object at 0x7f5ab7c99a50> conv4_block5_1_conv False\n",
            "<keras.layers.normalization.batch_normalization.BatchNormalization object at 0x7f5ab7cafa50> conv4_block5_1_bn False\n",
            "<keras.layers.core.activation.Activation object at 0x7f5ab6b1cb90> conv4_block5_1_relu False\n",
            "<keras.layers.convolutional.ZeroPadding2D object at 0x7f5ab6b1cc90> conv4_block5_2_pad False\n",
            "<keras.layers.convolutional.Conv2D object at 0x7f5ab6451a90> conv4_block5_2_conv False\n",
            "<keras.layers.normalization.batch_normalization.BatchNormalization object at 0x7f5ab6b89d90> conv4_block5_2_bn False\n",
            "<keras.layers.core.activation.Activation object at 0x7f5ab638aa90> conv4_block5_2_relu False\n",
            "<keras.layers.convolutional.Conv2D object at 0x7f5ab638ae10> conv4_block5_3_conv False\n",
            "<keras.layers.merge.Add object at 0x7f5ab63ede10> conv4_block5_out False\n",
            "<keras.layers.normalization.batch_normalization.BatchNormalization object at 0x7f5ab63165d0> conv4_block6_preact_bn False\n",
            "<keras.layers.core.activation.Activation object at 0x7f5ab7d3b3d0> conv4_block6_preact_relu False\n",
            "<keras.layers.convolutional.Conv2D object at 0x7f5ab7d2c1d0> conv4_block6_1_conv False\n",
            "<keras.layers.normalization.batch_normalization.BatchNormalization object at 0x7f5ab7d50f10> conv4_block6_1_bn False\n",
            "<keras.layers.core.activation.Activation object at 0x7f5a206e4790> conv4_block6_1_relu False\n",
            "<keras.layers.convolutional.ZeroPadding2D object at 0x7f5ab631efd0> conv4_block6_2_pad False\n",
            "<keras.layers.convolutional.Conv2D object at 0x7f5ab7d7d550> conv4_block6_2_conv False\n",
            "<keras.layers.normalization.batch_normalization.BatchNormalization object at 0x7f5ab6b68410> conv4_block6_2_bn False\n",
            "<keras.layers.core.activation.Activation object at 0x7f5ab6363750> conv4_block6_2_relu False\n",
            "<keras.layers.pooling.MaxPooling2D object at 0x7f5ab6363a90> max_pooling2d_2 False\n",
            "<keras.layers.convolutional.Conv2D object at 0x7f5ab7d85590> conv4_block6_3_conv False\n",
            "<keras.layers.merge.Add object at 0x7f5ab6356f50> conv4_block6_out False\n",
            "<keras.layers.normalization.batch_normalization.BatchNormalization object at 0x7f5ab6324150> conv5_block1_preact_bn False\n",
            "<keras.layers.core.activation.Activation object at 0x7f5ab6356850> conv5_block1_preact_relu False\n",
            "<keras.layers.convolutional.Conv2D object at 0x7f5ab6332650> conv5_block1_1_conv False\n",
            "<keras.layers.normalization.batch_normalization.BatchNormalization object at 0x7f5ab7dfcfd0> conv5_block1_1_bn False\n",
            "<keras.layers.core.activation.Activation object at 0x7f5ab6c0fe90> conv5_block1_1_relu False\n",
            "<keras.layers.convolutional.ZeroPadding2D object at 0x7f5ab636ad50> conv5_block1_2_pad False\n",
            "<keras.layers.convolutional.Conv2D object at 0x7f5ab7df35d0> conv5_block1_2_conv False\n",
            "<keras.layers.normalization.batch_normalization.BatchNormalization object at 0x7f5ab6c08790> conv5_block1_2_bn False\n",
            "<keras.layers.core.activation.Activation object at 0x7f5ab6c08250> conv5_block1_2_relu False\n",
            "<keras.layers.convolutional.Conv2D object at 0x7f5ab7d58f10> conv5_block1_0_conv False\n",
            "<keras.layers.convolutional.Conv2D object at 0x7f5ab6bf6cd0> conv5_block1_3_conv False\n",
            "<keras.layers.merge.Add object at 0x7f5ab7e1cc50> conv5_block1_out False\n",
            "<keras.layers.normalization.batch_normalization.BatchNormalization object at 0x7f5ab6be9ed0> conv5_block2_preact_bn False\n",
            "<keras.layers.core.activation.Activation object at 0x7f5ab6371610> conv5_block2_preact_relu False\n",
            "<keras.layers.convolutional.Conv2D object at 0x7f5ab7e7fc50> conv5_block2_1_conv False\n",
            "<keras.layers.normalization.batch_normalization.BatchNormalization object at 0x7f5ab6bd9210> conv5_block2_1_bn False\n",
            "<keras.layers.core.activation.Activation object at 0x7f5ab62e7310> conv5_block2_1_relu False\n",
            "<keras.layers.convolutional.ZeroPadding2D object at 0x7f5ab62e7910> conv5_block2_2_pad False\n",
            "<keras.layers.convolutional.Conv2D object at 0x7f5ab62fb110> conv5_block2_2_conv False\n",
            "<keras.layers.normalization.batch_normalization.BatchNormalization object at 0x7f5ab6c3f650> conv5_block2_2_bn False\n",
            "<keras.layers.core.activation.Activation object at 0x7f5ab6307a50> conv5_block2_2_relu False\n",
            "<keras.layers.convolutional.Conv2D object at 0x7f5ab6307ed0> conv5_block2_3_conv False\n",
            "<keras.layers.merge.Add object at 0x7f5ab7ebb8d0> conv5_block2_out False\n",
            "<keras.layers.normalization.batch_normalization.BatchNormalization object at 0x7f5ab6337f90> conv5_block3_preact_bn False\n",
            "<keras.layers.core.activation.Activation object at 0x7f5ab7eadbd0> conv5_block3_preact_relu False\n",
            "<keras.layers.convolutional.Conv2D object at 0x7f5a206da850> conv5_block3_1_conv False\n",
            "<keras.layers.normalization.batch_normalization.BatchNormalization object at 0x7f5ab6c2a110> conv5_block3_1_bn False\n",
            "<keras.layers.core.activation.Activation object at 0x7f5ab7f3d550> conv5_block3_1_relu False\n",
            "<keras.layers.convolutional.ZeroPadding2D object at 0x7f5ab7f3df50> conv5_block3_2_pad False\n",
            "<keras.layers.convolutional.Conv2D object at 0x7f5ab7f548d0> conv5_block3_2_conv False\n",
            "<keras.layers.normalization.batch_normalization.BatchNormalization object at 0x7f5ab6cd2b10> conv5_block3_2_bn False\n",
            "<keras.layers.core.activation.Activation object at 0x7f5ab7f35990> conv5_block3_2_relu False\n",
            "<keras.layers.convolutional.Conv2D object at 0x7f5ab7f35a10> conv5_block3_3_conv False\n",
            "<keras.layers.merge.Add object at 0x7f5ab7f84b10> conv5_block3_out False\n",
            "<keras.layers.normalization.batch_normalization.BatchNormalization object at 0x7f5ab7f8cd10> post_bn False\n",
            "<keras.layers.core.activation.Activation object at 0x7f5ab7f1da50> post_relu False\n"
          ]
        }
      ]
    },
    {
      "cell_type": "markdown",
      "source": [
        "## Unfreezing all the layers of the base_model i.e ResNet50V2 for Fine-Tuning"
      ],
      "metadata": {
        "id": "k5Sg3X74K3cw"
      }
    },
    {
      "cell_type": "code",
      "source": [
        "for layer in loaded_model.layers:\n",
        "  layer.trainable= True\n",
        "  print(layer, layer.name, layer.trainable)"
      ],
      "metadata": {
        "id": "2OUoQYbP0ET7",
        "colab": {
          "base_uri": "https://localhost:8080/"
        },
        "outputId": "37b40bda-f17a-4a4c-aef6-f797f71803e7"
      },
      "execution_count": 43,
      "outputs": [
        {
          "output_type": "stream",
          "name": "stdout",
          "text": [
            "<keras.engine.input_layer.InputLayer object at 0x7f5ab455ead0> input_layer True\n",
            "<keras.layers.preprocessing.image_preprocessing.Rescaling object at 0x7f5ab6845a10> rescaling True\n",
            "<keras.engine.sequential.Sequential object at 0x7f5ab666fd10> data_augmentation_layer True\n",
            "<keras.engine.functional.Functional object at 0x7f5ab74a3b90> resnet50v2 True\n",
            "<keras.layers.pooling.GlobalAveragePooling2D object at 0x7f5a2068b1d0> pooling_layer True\n",
            "<keras.layers.core.dropout.Dropout object at 0x7f5a2068b110> dropout_layer True\n",
            "<keras.layers.core.dense.Dense object at 0x7f5ab76c9f10> regularization_layer True\n",
            "<keras.layers.core.dense.Dense object at 0x7f5ab6995290> dense True\n",
            "<keras.layers.core.activation.Activation object at 0x7f5ab757a550> softmax_float32 True\n"
          ]
        }
      ]
    },
    {
      "cell_type": "code",
      "source": [
        "for layer in loaded_model.layers[3].layers:\n",
        "  print(layer, layer.name, layer.trainable)"
      ],
      "metadata": {
        "id": "93EYhU5U0z6i",
        "colab": {
          "base_uri": "https://localhost:8080/"
        },
        "outputId": "53c4e19c-21be-4fed-d21a-e38d76c18299"
      },
      "execution_count": 46,
      "outputs": [
        {
          "output_type": "stream",
          "name": "stdout",
          "text": [
            "<keras.engine.input_layer.InputLayer object at 0x7f5ab7714a50> input_1 True\n",
            "<keras.layers.convolutional.ZeroPadding2D object at 0x7f5ab76a4350> conv1_pad True\n",
            "<keras.layers.convolutional.Conv2D object at 0x7f5ab74ac190> conv1_conv True\n",
            "<keras.layers.convolutional.ZeroPadding2D object at 0x7f5ab7669450> pool1_pad True\n",
            "<keras.layers.pooling.MaxPooling2D object at 0x7f5ab69840d0> pool1_pool True\n",
            "<keras.layers.normalization.batch_normalization.BatchNormalization object at 0x7f5ab770d850> conv2_block1_preact_bn True\n",
            "<keras.layers.core.activation.Activation object at 0x7f5ab778bc10> conv2_block1_preact_relu True\n",
            "<keras.layers.convolutional.Conv2D object at 0x7f5ab778b450> conv2_block1_1_conv True\n",
            "<keras.layers.normalization.batch_normalization.BatchNormalization object at 0x7f5ab777e810> conv2_block1_1_bn True\n",
            "<keras.layers.core.activation.Activation object at 0x7f5ab6972410> conv2_block1_1_relu True\n",
            "<keras.layers.convolutional.ZeroPadding2D object at 0x7f5ab657b890> conv2_block1_2_pad True\n",
            "<keras.layers.convolutional.Conv2D object at 0x7f5ab7774810> conv2_block1_2_conv True\n",
            "<keras.layers.normalization.batch_normalization.BatchNormalization object at 0x7f5ab6598890> conv2_block1_2_bn True\n",
            "<keras.layers.core.activation.Activation object at 0x7f5ab77cd310> conv2_block1_2_relu True\n",
            "<keras.layers.convolutional.Conv2D object at 0x7f5ab77cda50> conv2_block1_0_conv True\n",
            "<keras.layers.convolutional.Conv2D object at 0x7f5ab696ca10> conv2_block1_3_conv True\n",
            "<keras.layers.merge.Add object at 0x7f5ab6594fd0> conv2_block1_out True\n",
            "<keras.layers.normalization.batch_normalization.BatchNormalization object at 0x7f5a20685490> conv2_block2_preact_bn True\n",
            "<keras.layers.core.activation.Activation object at 0x7f5ab77d4d10> conv2_block2_preact_relu True\n",
            "<keras.layers.convolutional.Conv2D object at 0x7f5ab654c2d0> conv2_block2_1_conv True\n",
            "<keras.layers.normalization.batch_normalization.BatchNormalization object at 0x7f5ab77fde50> conv2_block2_1_bn True\n",
            "<keras.layers.core.activation.Activation object at 0x7f5ab77fd1d0> conv2_block2_1_relu True\n",
            "<keras.layers.convolutional.ZeroPadding2D object at 0x7f5ab77a7a10> conv2_block2_2_pad True\n",
            "<keras.layers.convolutional.Conv2D object at 0x7f5ab69ce7d0> conv2_block2_2_conv True\n",
            "<keras.layers.normalization.batch_normalization.BatchNormalization object at 0x7f5ab6554950> conv2_block2_2_bn True\n",
            "<keras.layers.core.activation.Activation object at 0x7f5ab77ea790> conv2_block2_2_relu True\n",
            "<keras.layers.convolutional.Conv2D object at 0x7f5ab78043d0> conv2_block2_3_conv True\n",
            "<keras.layers.merge.Add object at 0x7f5ab7786f10> conv2_block2_out True\n",
            "<keras.layers.normalization.batch_normalization.BatchNormalization object at 0x7f5ab783b590> conv2_block3_preact_bn True\n",
            "<keras.layers.core.activation.Activation object at 0x7f5ab782c3d0> conv2_block3_preact_relu True\n",
            "<keras.layers.convolutional.Conv2D object at 0x7f5ab782cbd0> conv2_block3_1_conv True\n",
            "<keras.layers.normalization.batch_normalization.BatchNormalization object at 0x7f5ab6547fd0> conv2_block3_1_bn True\n",
            "<keras.layers.core.activation.Activation object at 0x7f5ab69a81d0> conv2_block3_1_relu True\n",
            "<keras.layers.convolutional.ZeroPadding2D object at 0x7f5ab64a7590> conv2_block3_2_pad True\n",
            "<keras.layers.convolutional.Conv2D object at 0x7f5ab6540110> conv2_block3_2_conv True\n",
            "<keras.layers.normalization.batch_normalization.BatchNormalization object at 0x7f5ab6a15d50> conv2_block3_2_bn True\n",
            "<keras.layers.core.activation.Activation object at 0x7f5ab663ccd0> conv2_block3_2_relu True\n",
            "<keras.layers.pooling.MaxPooling2D object at 0x7f5ab6456d90> max_pooling2d True\n",
            "<keras.layers.convolutional.Conv2D object at 0x7f5ab78c8690> conv2_block3_3_conv True\n",
            "<keras.layers.merge.Add object at 0x7f5ab7896bd0> conv2_block3_out True\n",
            "<keras.layers.normalization.batch_normalization.BatchNormalization object at 0x7f5ab64c9a50> conv3_block1_preact_bn True\n",
            "<keras.layers.core.activation.Activation object at 0x7f5ab7907e90> conv3_block1_preact_relu True\n",
            "<keras.layers.convolutional.Conv2D object at 0x7f5ab790f590> conv3_block1_1_conv True\n",
            "<keras.layers.normalization.batch_normalization.BatchNormalization object at 0x7f5a2067f450> conv3_block1_1_bn True\n",
            "<keras.layers.core.activation.Activation object at 0x7f5ab780db50> conv3_block1_1_relu True\n",
            "<keras.layers.convolutional.ZeroPadding2D object at 0x7f5ab780d390> conv3_block1_2_pad True\n",
            "<keras.layers.convolutional.Conv2D object at 0x7f5ab64ad990> conv3_block1_2_conv True\n",
            "<keras.layers.normalization.batch_normalization.BatchNormalization object at 0x7f5ab78fc3d0> conv3_block1_2_bn True\n",
            "<keras.layers.core.activation.Activation object at 0x7f5ab78d7990> conv3_block1_2_relu True\n",
            "<keras.layers.convolutional.Conv2D object at 0x7f5ab78e74d0> conv3_block1_0_conv True\n",
            "<keras.layers.convolutional.Conv2D object at 0x7f5ab78f2a10> conv3_block1_3_conv True\n",
            "<keras.layers.merge.Add object at 0x7f5ab651c110> conv3_block1_out True\n",
            "<keras.layers.normalization.batch_normalization.BatchNormalization object at 0x7f5ab651ca90> conv3_block2_preact_bn True\n",
            "<keras.layers.core.activation.Activation object at 0x7f5ab794ce90> conv3_block2_preact_relu True\n",
            "<keras.layers.convolutional.Conv2D object at 0x7f5ab794c4d0> conv3_block2_1_conv True\n",
            "<keras.layers.normalization.batch_normalization.BatchNormalization object at 0x7f5ab791a690> conv3_block2_1_bn True\n",
            "<keras.layers.core.activation.Activation object at 0x7f5ab7834190> conv3_block2_1_relu True\n",
            "<keras.layers.convolutional.ZeroPadding2D object at 0x7f5ab7834710> conv3_block2_2_pad True\n",
            "<keras.layers.convolutional.Conv2D object at 0x7f5ab69e1150> conv3_block2_2_conv True\n",
            "<keras.layers.normalization.batch_normalization.BatchNormalization object at 0x7f5ab69d9a90> conv3_block2_2_bn True\n",
            "<keras.layers.core.activation.Activation object at 0x7f5ab6a94050> conv3_block2_2_relu True\n",
            "<keras.layers.convolutional.Conv2D object at 0x7f5ab78e08d0> conv3_block2_3_conv True\n",
            "<keras.layers.merge.Add object at 0x7f5ab79c0850> conv3_block2_out True\n",
            "<keras.layers.normalization.batch_normalization.BatchNormalization object at 0x7f5ab79c0090> conv3_block3_preact_bn True\n",
            "<keras.layers.core.activation.Activation object at 0x7f5ab6471e90> conv3_block3_preact_relu True\n",
            "<keras.layers.convolutional.Conv2D object at 0x7f5ab7996210> conv3_block3_1_conv True\n",
            "<keras.layers.normalization.batch_normalization.BatchNormalization object at 0x7f5ab7a07bd0> conv3_block3_1_bn True\n",
            "<keras.layers.core.activation.Activation object at 0x7f5a20679550> conv3_block3_1_relu True\n",
            "<keras.layers.convolutional.ZeroPadding2D object at 0x7f5a206791d0> conv3_block3_2_pad True\n",
            "<keras.layers.convolutional.Conv2D object at 0x7f5ab6a837d0> conv3_block3_2_conv True\n",
            "<keras.layers.normalization.batch_normalization.BatchNormalization object at 0x7f5ab79fd0d0> conv3_block3_2_bn True\n",
            "<keras.layers.core.activation.Activation object at 0x7f5ab648b510> conv3_block3_2_relu True\n",
            "<keras.layers.convolutional.Conv2D object at 0x7f5ab6a7df50> conv3_block3_3_conv True\n",
            "<keras.layers.merge.Add object at 0x7f5ab649bd50> conv3_block3_out True\n",
            "<keras.layers.normalization.batch_normalization.BatchNormalization object at 0x7f5ab6a5cb90> conv3_block4_preact_bn True\n",
            "<keras.layers.core.activation.Activation object at 0x7f5ab641da50> conv3_block4_preact_relu True\n",
            "<keras.layers.convolutional.Conv2D object at 0x7f5ab64bdd10> conv3_block4_1_conv True\n",
            "<keras.layers.normalization.batch_normalization.BatchNormalization object at 0x7f5ab7a2ab10> conv3_block4_1_bn True\n",
            "<keras.layers.core.activation.Activation object at 0x7f5ab7a20d50> conv3_block4_1_relu True\n",
            "<keras.layers.convolutional.ZeroPadding2D object at 0x7f5ab7a3d490> conv3_block4_2_pad True\n",
            "<keras.layers.convolutional.Conv2D object at 0x7f5ab7a8f690> conv3_block4_2_conv True\n",
            "<keras.layers.normalization.batch_normalization.BatchNormalization object at 0x7f5a20674610> conv3_block4_2_bn True\n",
            "<keras.layers.core.activation.Activation object at 0x7f5a206748d0> conv3_block4_2_relu True\n",
            "<keras.layers.pooling.MaxPooling2D object at 0x7f5ab64857d0> max_pooling2d_1 True\n",
            "<keras.layers.convolutional.Conv2D object at 0x7f5ab6432b50> conv3_block4_3_conv True\n",
            "<keras.layers.merge.Add object at 0x7f5ab7a18810> conv3_block4_out True\n",
            "<keras.layers.normalization.batch_normalization.BatchNormalization object at 0x7f5ab7a70d50> conv4_block1_preact_bn True\n",
            "<keras.layers.core.activation.Activation object at 0x7f5ab6abc7d0> conv4_block1_preact_relu True\n",
            "<keras.layers.convolutional.Conv2D object at 0x7f5ab6ac3610> conv4_block1_1_conv True\n",
            "<keras.layers.normalization.batch_normalization.BatchNormalization object at 0x7f5ab645d690> conv4_block1_1_bn True\n",
            "<keras.layers.core.activation.Activation object at 0x7f5ab6425390> conv4_block1_1_relu True\n",
            "<keras.layers.convolutional.ZeroPadding2D object at 0x7f5ab7b06110> conv4_block1_2_pad True\n",
            "<keras.layers.convolutional.Conv2D object at 0x7f5ab6440510> conv4_block1_2_conv True\n",
            "<keras.layers.normalization.batch_normalization.BatchNormalization object at 0x7f5ab7ae84d0> conv4_block1_2_bn True\n",
            "<keras.layers.core.activation.Activation object at 0x7f5ab7a6b950> conv4_block1_2_relu True\n",
            "<keras.layers.convolutional.Conv2D object at 0x7f5ab7a6b690> conv4_block1_0_conv True\n",
            "<keras.layers.convolutional.Conv2D object at 0x7f5ab6aa7d90> conv4_block1_3_conv True\n",
            "<keras.layers.merge.Add object at 0x7f5ab63d8150> conv4_block1_out True\n",
            "<keras.layers.normalization.batch_normalization.BatchNormalization object at 0x7f5ab7b90410> conv4_block2_preact_bn True\n",
            "<keras.layers.core.activation.Activation object at 0x7f5ab64479d0> conv4_block2_preact_relu True\n",
            "<keras.layers.convolutional.Conv2D object at 0x7f5ab7b80750> conv4_block2_1_conv True\n",
            "<keras.layers.normalization.batch_normalization.BatchNormalization object at 0x7f5ab6b10710> conv4_block2_1_bn True\n",
            "<keras.layers.core.activation.Activation object at 0x7f5ab7b86490> conv4_block2_1_relu True\n",
            "<keras.layers.convolutional.ZeroPadding2D object at 0x7f5ab7b868d0> conv4_block2_2_pad True\n",
            "<keras.layers.convolutional.Conv2D object at 0x7f5a2066e390> conv4_block2_2_conv True\n",
            "<keras.layers.normalization.batch_normalization.BatchNormalization object at 0x7f5ab6afc790> conv4_block2_2_bn True\n",
            "<keras.layers.core.activation.Activation object at 0x7f5ab647e350> conv4_block2_2_relu True\n",
            "<keras.layers.convolutional.Conv2D object at 0x7f5ab79d16d0> conv4_block2_3_conv True\n",
            "<keras.layers.merge.Add object at 0x7f5ab64098d0> conv4_block2_out True\n",
            "<keras.layers.normalization.batch_normalization.BatchNormalization object at 0x7f5ab7bb5750> conv4_block3_preact_bn True\n",
            "<keras.layers.core.activation.Activation object at 0x7f5ab7ba85d0> conv4_block3_preact_relu True\n",
            "<keras.layers.convolutional.Conv2D object at 0x7f5ab7ba8fd0> conv4_block3_1_conv True\n",
            "<keras.layers.normalization.batch_normalization.BatchNormalization object at 0x7f5ab7b98250> conv4_block3_1_bn True\n",
            "<keras.layers.core.activation.Activation object at 0x7f5a2066d450> conv4_block3_1_relu True\n",
            "<keras.layers.convolutional.ZeroPadding2D object at 0x7f5a2066d8d0> conv4_block3_2_pad True\n",
            "<keras.layers.convolutional.Conv2D object at 0x7f5ab6401e90> conv4_block3_2_conv True\n",
            "<keras.layers.normalization.batch_normalization.BatchNormalization object at 0x7f5ab7c31350> conv4_block3_2_bn True\n",
            "<keras.layers.core.activation.Activation object at 0x7f5ab7c49310> conv4_block3_2_relu True\n",
            "<keras.layers.convolutional.Conv2D object at 0x7f5ab6b54990> conv4_block3_3_conv True\n",
            "<keras.layers.merge.Add object at 0x7f5ab658d950> conv4_block3_out True\n",
            "<keras.layers.normalization.batch_normalization.BatchNormalization object at 0x7f5ab7c3dd10> conv4_block4_preact_bn True\n",
            "<keras.layers.core.activation.Activation object at 0x7f5ab7c7cbd0> conv4_block4_preact_relu True\n",
            "<keras.layers.convolutional.Conv2D object at 0x7f5ab7c74690> conv4_block4_1_conv True\n",
            "<keras.layers.normalization.batch_normalization.BatchNormalization object at 0x7f5ab7c630d0> conv4_block4_1_bn True\n",
            "<keras.layers.core.activation.Activation object at 0x7f5ab644c910> conv4_block4_1_relu True\n",
            "<keras.layers.convolutional.ZeroPadding2D object at 0x7f5ab644c650> conv4_block4_2_pad True\n",
            "<keras.layers.convolutional.Conv2D object at 0x7f5ab7c6cdd0> conv4_block4_2_conv True\n",
            "<keras.layers.normalization.batch_normalization.BatchNormalization object at 0x7f5ab7ba1dd0> conv4_block4_2_bn True\n",
            "<keras.layers.core.activation.Activation object at 0x7f5ab63e7450> conv4_block4_2_relu True\n",
            "<keras.layers.convolutional.Conv2D object at 0x7f5ab635c510> conv4_block4_3_conv True\n",
            "<keras.layers.merge.Add object at 0x7f5ab7ca9990> conv4_block4_out True\n",
            "<keras.layers.normalization.batch_normalization.BatchNormalization object at 0x7f5ab7d06fd0> conv4_block5_preact_bn True\n",
            "<keras.layers.core.activation.Activation object at 0x7f5ab7c99f90> conv4_block5_preact_relu True\n",
            "<keras.layers.convolutional.Conv2D object at 0x7f5ab7c99a50> conv4_block5_1_conv True\n",
            "<keras.layers.normalization.batch_normalization.BatchNormalization object at 0x7f5ab7cafa50> conv4_block5_1_bn True\n",
            "<keras.layers.core.activation.Activation object at 0x7f5ab6b1cb90> conv4_block5_1_relu True\n",
            "<keras.layers.convolutional.ZeroPadding2D object at 0x7f5ab6b1cc90> conv4_block5_2_pad True\n",
            "<keras.layers.convolutional.Conv2D object at 0x7f5ab6451a90> conv4_block5_2_conv True\n",
            "<keras.layers.normalization.batch_normalization.BatchNormalization object at 0x7f5ab6b89d90> conv4_block5_2_bn True\n",
            "<keras.layers.core.activation.Activation object at 0x7f5ab638aa90> conv4_block5_2_relu True\n",
            "<keras.layers.convolutional.Conv2D object at 0x7f5ab638ae10> conv4_block5_3_conv True\n",
            "<keras.layers.merge.Add object at 0x7f5ab63ede10> conv4_block5_out True\n",
            "<keras.layers.normalization.batch_normalization.BatchNormalization object at 0x7f5ab63165d0> conv4_block6_preact_bn True\n",
            "<keras.layers.core.activation.Activation object at 0x7f5ab7d3b3d0> conv4_block6_preact_relu True\n",
            "<keras.layers.convolutional.Conv2D object at 0x7f5ab7d2c1d0> conv4_block6_1_conv True\n",
            "<keras.layers.normalization.batch_normalization.BatchNormalization object at 0x7f5ab7d50f10> conv4_block6_1_bn True\n",
            "<keras.layers.core.activation.Activation object at 0x7f5a206e4790> conv4_block6_1_relu True\n",
            "<keras.layers.convolutional.ZeroPadding2D object at 0x7f5ab631efd0> conv4_block6_2_pad True\n",
            "<keras.layers.convolutional.Conv2D object at 0x7f5ab7d7d550> conv4_block6_2_conv True\n",
            "<keras.layers.normalization.batch_normalization.BatchNormalization object at 0x7f5ab6b68410> conv4_block6_2_bn True\n",
            "<keras.layers.core.activation.Activation object at 0x7f5ab6363750> conv4_block6_2_relu True\n",
            "<keras.layers.pooling.MaxPooling2D object at 0x7f5ab6363a90> max_pooling2d_2 True\n",
            "<keras.layers.convolutional.Conv2D object at 0x7f5ab7d85590> conv4_block6_3_conv True\n",
            "<keras.layers.merge.Add object at 0x7f5ab6356f50> conv4_block6_out True\n",
            "<keras.layers.normalization.batch_normalization.BatchNormalization object at 0x7f5ab6324150> conv5_block1_preact_bn True\n",
            "<keras.layers.core.activation.Activation object at 0x7f5ab6356850> conv5_block1_preact_relu True\n",
            "<keras.layers.convolutional.Conv2D object at 0x7f5ab6332650> conv5_block1_1_conv True\n",
            "<keras.layers.normalization.batch_normalization.BatchNormalization object at 0x7f5ab7dfcfd0> conv5_block1_1_bn True\n",
            "<keras.layers.core.activation.Activation object at 0x7f5ab6c0fe90> conv5_block1_1_relu True\n",
            "<keras.layers.convolutional.ZeroPadding2D object at 0x7f5ab636ad50> conv5_block1_2_pad True\n",
            "<keras.layers.convolutional.Conv2D object at 0x7f5ab7df35d0> conv5_block1_2_conv True\n",
            "<keras.layers.normalization.batch_normalization.BatchNormalization object at 0x7f5ab6c08790> conv5_block1_2_bn True\n",
            "<keras.layers.core.activation.Activation object at 0x7f5ab6c08250> conv5_block1_2_relu True\n",
            "<keras.layers.convolutional.Conv2D object at 0x7f5ab7d58f10> conv5_block1_0_conv True\n",
            "<keras.layers.convolutional.Conv2D object at 0x7f5ab6bf6cd0> conv5_block1_3_conv True\n",
            "<keras.layers.merge.Add object at 0x7f5ab7e1cc50> conv5_block1_out True\n",
            "<keras.layers.normalization.batch_normalization.BatchNormalization object at 0x7f5ab6be9ed0> conv5_block2_preact_bn True\n",
            "<keras.layers.core.activation.Activation object at 0x7f5ab6371610> conv5_block2_preact_relu True\n",
            "<keras.layers.convolutional.Conv2D object at 0x7f5ab7e7fc50> conv5_block2_1_conv True\n",
            "<keras.layers.normalization.batch_normalization.BatchNormalization object at 0x7f5ab6bd9210> conv5_block2_1_bn True\n",
            "<keras.layers.core.activation.Activation object at 0x7f5ab62e7310> conv5_block2_1_relu True\n",
            "<keras.layers.convolutional.ZeroPadding2D object at 0x7f5ab62e7910> conv5_block2_2_pad True\n",
            "<keras.layers.convolutional.Conv2D object at 0x7f5ab62fb110> conv5_block2_2_conv True\n",
            "<keras.layers.normalization.batch_normalization.BatchNormalization object at 0x7f5ab6c3f650> conv5_block2_2_bn True\n",
            "<keras.layers.core.activation.Activation object at 0x7f5ab6307a50> conv5_block2_2_relu True\n",
            "<keras.layers.convolutional.Conv2D object at 0x7f5ab6307ed0> conv5_block2_3_conv True\n",
            "<keras.layers.merge.Add object at 0x7f5ab7ebb8d0> conv5_block2_out True\n",
            "<keras.layers.normalization.batch_normalization.BatchNormalization object at 0x7f5ab6337f90> conv5_block3_preact_bn True\n",
            "<keras.layers.core.activation.Activation object at 0x7f5ab7eadbd0> conv5_block3_preact_relu True\n",
            "<keras.layers.convolutional.Conv2D object at 0x7f5a206da850> conv5_block3_1_conv True\n",
            "<keras.layers.normalization.batch_normalization.BatchNormalization object at 0x7f5ab6c2a110> conv5_block3_1_bn True\n",
            "<keras.layers.core.activation.Activation object at 0x7f5ab7f3d550> conv5_block3_1_relu True\n",
            "<keras.layers.convolutional.ZeroPadding2D object at 0x7f5ab7f3df50> conv5_block3_2_pad True\n",
            "<keras.layers.convolutional.Conv2D object at 0x7f5ab7f548d0> conv5_block3_2_conv True\n",
            "<keras.layers.normalization.batch_normalization.BatchNormalization object at 0x7f5ab6cd2b10> conv5_block3_2_bn True\n",
            "<keras.layers.core.activation.Activation object at 0x7f5ab7f35990> conv5_block3_2_relu True\n",
            "<keras.layers.convolutional.Conv2D object at 0x7f5ab7f35a10> conv5_block3_3_conv True\n",
            "<keras.layers.merge.Add object at 0x7f5ab7f84b10> conv5_block3_out True\n",
            "<keras.layers.normalization.batch_normalization.BatchNormalization object at 0x7f5ab7f8cd10> post_bn True\n",
            "<keras.layers.core.activation.Activation object at 0x7f5ab7f1da50> post_relu True\n"
          ]
        }
      ]
    },
    {
      "cell_type": "code",
      "source": [
        "for layer in loaded_model.layers[3].layers:\n",
        "  if layer.trainable == False:\n",
        "    print(layer, layer.name, layer.trainable)"
      ],
      "metadata": {
        "id": "caEnfGPs04Fd"
      },
      "execution_count": 49,
      "outputs": []
    },
    {
      "cell_type": "code",
      "source": [
        "for layer in base_model.layers:\n",
        "  if layer.trainable == True:\n",
        "    print(layer, layer.name)"
      ],
      "metadata": {
        "id": "Yh0HYdjV06wu"
      },
      "execution_count": 50,
      "outputs": []
    },
    {
      "cell_type": "code",
      "source": [
        "len(loaded_model.layers)"
      ],
      "metadata": {
        "id": "yjgBALZ-08Ao",
        "colab": {
          "base_uri": "https://localhost:8080/"
        },
        "outputId": "79493d2c-ab6f-4755-a9b5-5c13747b6222"
      },
      "execution_count": 51,
      "outputs": [
        {
          "output_type": "execute_result",
          "data": {
            "text/plain": [
              "9"
            ]
          },
          "metadata": {},
          "execution_count": 51
        }
      ]
    },
    {
      "cell_type": "code",
      "source": [
        "len(loaded_model.trainable_variables)"
      ],
      "metadata": {
        "id": "_2YOVbld0__G",
        "colab": {
          "base_uri": "https://localhost:8080/"
        },
        "outputId": "d14d07ad-dfbf-4a44-876b-ca53213c635f"
      },
      "execution_count": 52,
      "outputs": [
        {
          "output_type": "execute_result",
          "data": {
            "text/plain": [
              "176"
            ]
          },
          "metadata": {},
          "execution_count": 52
        }
      ]
    },
    {
      "cell_type": "code",
      "source": [
        "len(base_model.trainable_variables)"
      ],
      "metadata": {
        "id": "jaap0TfA1BFH",
        "colab": {
          "base_uri": "https://localhost:8080/"
        },
        "outputId": "d49e13fc-c612-43e6-8f8f-7f8f39c3f075"
      },
      "execution_count": 53,
      "outputs": [
        {
          "output_type": "execute_result",
          "data": {
            "text/plain": [
              "0"
            ]
          },
          "metadata": {},
          "execution_count": 53
        }
      ]
    },
    {
      "cell_type": "code",
      "source": [
        "len(base_model.layers)"
      ],
      "metadata": {
        "id": "AlW4WbNo1CGf",
        "colab": {
          "base_uri": "https://localhost:8080/"
        },
        "outputId": "ad153e07-39e8-479c-f920-cb78c7bebb66"
      },
      "execution_count": 54,
      "outputs": [
        {
          "output_type": "execute_result",
          "data": {
            "text/plain": [
              "190"
            ]
          },
          "metadata": {},
          "execution_count": 54
        }
      ]
    },
    {
      "cell_type": "markdown",
      "metadata": {
        "id": "VsWNGb5GN4_I"
      },
      "source": [
        "## Callback for Fine-Tuning All unfrozen layers"
      ]
    },
    {
      "cell_type": "code",
      "source": [
        "checpoint_fine_tuning= \"checkpoints_fine_tuning_all\"\n",
        "\n",
        "checkpoint_callback_fine_tuning_all_unfrozen=model_check_point_callback(checpoint_fine_tuning, save_weights_only=True, save_best_only=True, monitor=\"val_accuracy\")\n",
        "tensorboard_callback_fine_tuning_all_unfrozen= create_tensorboard_callback(\"transfer_learning\", \"101_classes_fine_tuning_all_data_all_unfrozen_layers\")\n",
        "early_stopping_callback_fine_tuning_all_unfrozen= create_early_stopping_callback(monitor=\"val_loss\", patience=5)\n",
        "learning_rate_reduce_callback_all_unfrozen= reduce_learning_rate_callback(monitor=\"val_loss\", factor=0.2, patience=2, minimum_lr=1e-7)"
      ],
      "metadata": {
        "id": "x2GZtYK81D2F",
        "colab": {
          "base_uri": "https://localhost:8080/"
        },
        "outputId": "4fb8e600-0004-45a4-9bd4-9da8d4b1bfdf"
      },
      "execution_count": 55,
      "outputs": [
        {
          "output_type": "stream",
          "name": "stdout",
          "text": [
            "Saving TensorBoard log files to: transfer_learning/101_classes_fine_tuning_all_data_all_unfrozen_layers/20220817-130102\n"
          ]
        }
      ]
    },
    {
      "cell_type": "code",
      "source": [
        "loaded_model.compile(loss=\"sparse_categorical_crossentropy\", optimizer=tf.keras.optimizers.Adam(learning_rate=0.0001), metrics=[\"accuracy\"])"
      ],
      "metadata": {
        "id": "XorrtLXm1dH9"
      },
      "execution_count": 56,
      "outputs": []
    },
    {
      "cell_type": "code",
      "source": [
        "history_fine_tuned_all= loaded_model.fit(train_data, epochs=100, steps_per_epoch=len(train_data) ,validation_data= test_data, validation_steps=int(0.15 * len(test_data)), callbacks=[checkpoint_callback_fine_tuning_all_unfrozen, tensorboard_callback_fine_tuning_all_unfrozen, early_stopping_callback_fine_tuning_all_unfrozen, learning_rate_reduce_callback_all_unfrozen])"
      ],
      "metadata": {
        "id": "FD3Efj751fL8",
        "colab": {
          "base_uri": "https://localhost:8080/"
        },
        "outputId": "6a5e9911-e9f8-4ac6-9863-1fb59ccd8ee8"
      },
      "execution_count": null,
      "outputs": [
        {
          "output_type": "stream",
          "name": "stdout",
          "text": [
            "Epoch 1/100\n",
            "2368/2368 [==============================] - ETA: 0s - loss: 2.3807 - accuracy: 0.4431\n",
            "Epoch 1: val_accuracy improved from -inf to 0.60355, saving model to checkpoints_fine_tuning_all\n",
            "2368/2368 [==============================] - 783s 324ms/step - loss: 2.3807 - accuracy: 0.4431 - val_loss: 1.6376 - val_accuracy: 0.6035 - lr: 1.0000e-04\n",
            "Epoch 2/100\n",
            "2368/2368 [==============================] - ETA: 0s - loss: 1.9560 - accuracy: 0.5341\n",
            "Epoch 2: val_accuracy improved from 0.60355 to 0.61600, saving model to checkpoints_fine_tuning_all\n",
            "2368/2368 [==============================] - 383s 161ms/step - loss: 1.9560 - accuracy: 0.5341 - val_loss: 1.5774 - val_accuracy: 0.6160 - lr: 1.0000e-04\n",
            "Epoch 3/100\n",
            "2368/2368 [==============================] - ETA: 0s - loss: 1.7683 - accuracy: 0.5769\n",
            "Epoch 3: val_accuracy improved from 0.61600 to 0.64274, saving model to checkpoints_fine_tuning_all\n",
            "2368/2368 [==============================] - 373s 157ms/step - loss: 1.7683 - accuracy: 0.5769 - val_loss: 1.4623 - val_accuracy: 0.6427 - lr: 1.0000e-04\n",
            "Epoch 4/100\n",
            "2368/2368 [==============================] - ETA: 0s - loss: 1.6429 - accuracy: 0.6025\n",
            "Epoch 4: val_accuracy did not improve from 0.64274\n",
            "2368/2368 [==============================] - 364s 153ms/step - loss: 1.6429 - accuracy: 0.6025 - val_loss: 1.5593 - val_accuracy: 0.6181 - lr: 1.0000e-04\n",
            "Epoch 5/100\n",
            "2368/2368 [==============================] - ETA: 0s - loss: 1.5447 - accuracy: 0.6250\n",
            "Epoch 5: val_accuracy improved from 0.64274 to 0.65996, saving model to checkpoints_fine_tuning_all\n",
            "2368/2368 [==============================] - 356s 150ms/step - loss: 1.5447 - accuracy: 0.6250 - val_loss: 1.4093 - val_accuracy: 0.6600 - lr: 1.0000e-04\n",
            "Epoch 6/100\n",
            "2368/2368 [==============================] - ETA: 0s - loss: 1.4616 - accuracy: 0.6459\n",
            "Epoch 6: val_accuracy did not improve from 0.65996\n",
            "2368/2368 [==============================] - 354s 149ms/step - loss: 1.4616 - accuracy: 0.6459 - val_loss: 1.5661 - val_accuracy: 0.6160 - lr: 1.0000e-04\n",
            "Epoch 7/100\n",
            "2368/2368 [==============================] - ETA: 0s - loss: 1.4020 - accuracy: 0.6576\n",
            "Epoch 7: val_accuracy did not improve from 0.65996\n",
            "\n",
            "Epoch 7: ReduceLROnPlateau reducing learning rate to 1.9999999494757503e-05.\n",
            "2368/2368 [==============================] - 350s 147ms/step - loss: 1.4020 - accuracy: 0.6576 - val_loss: 1.6598 - val_accuracy: 0.5858 - lr: 1.0000e-04\n",
            "Epoch 8/100\n",
            "2368/2368 [==============================] - ETA: 0s - loss: 1.0333 - accuracy: 0.7502\n",
            "Epoch 8: val_accuracy improved from 0.65996 to 0.72219, saving model to checkpoints_fine_tuning_all\n",
            "2368/2368 [==============================] - 348s 146ms/step - loss: 1.0333 - accuracy: 0.7502 - val_loss: 1.1399 - val_accuracy: 0.7222 - lr: 2.0000e-05\n",
            "Epoch 9/100\n",
            "2368/2368 [==============================] - ETA: 0s - loss: inf - accuracy: 0.7710\n",
            "Epoch 9: val_accuracy improved from 0.72219 to 0.73358, saving model to checkpoints_fine_tuning_all\n",
            "2368/2368 [==============================] - 348s 146ms/step - loss: inf - accuracy: 0.7710 - val_loss: 1.1103 - val_accuracy: 0.7336 - lr: 2.0000e-05\n",
            "Epoch 10/100\n",
            "2368/2368 [==============================] - ETA: 0s - loss: inf - accuracy: 0.7834\n",
            "Epoch 10: val_accuracy did not improve from 0.73358\n",
            "2368/2368 [==============================] - 344s 145ms/step - loss: inf - accuracy: 0.7834 - val_loss: inf - val_accuracy: 0.7264 - lr: 2.0000e-05\n",
            "Epoch 11/100\n",
            "2368/2368 [==============================] - ETA: 0s - loss: inf - accuracy: 0.7947\n",
            "Epoch 11: val_accuracy did not improve from 0.73358\n",
            "\n",
            "Epoch 11: ReduceLROnPlateau reducing learning rate to 3.999999898951501e-06.\n",
            "2368/2368 [==============================] - 347s 146ms/step - loss: inf - accuracy: 0.7947 - val_loss: inf - val_accuracy: 0.7333 - lr: 2.0000e-05\n",
            "Epoch 12/100\n",
            "2368/2368 [==============================] - ETA: 0s - loss: inf - accuracy: 0.8143\n",
            "Epoch 12: val_accuracy improved from 0.73358 to 0.73888, saving model to checkpoints_fine_tuning_all\n",
            "2368/2368 [==============================] - 338s 142ms/step - loss: inf - accuracy: 0.8143 - val_loss: inf - val_accuracy: 0.7389 - lr: 4.0000e-06\n",
            "Epoch 13/100\n",
            "2368/2368 [==============================] - ETA: 0s - loss: inf - accuracy: 0.8223\n",
            "Epoch 13: val_accuracy did not improve from 0.73888\n",
            "\n",
            "Epoch 13: ReduceLROnPlateau reducing learning rate to 7.999999979801942e-07.\n",
            "2368/2368 [==============================] - 340s 143ms/step - loss: inf - accuracy: 0.8223 - val_loss: inf - val_accuracy: 0.7344 - lr: 4.0000e-06\n",
            "Epoch 14/100\n",
            "1440/2368 [=================>............] - ETA: 2:09 - loss: inf - accuracy: 0.8212"
          ]
        }
      ]
    },
    {
      "cell_type": "code",
      "source": [
        "loaded_model.summary()"
      ],
      "metadata": {
        "id": "hUddd29M1gZO"
      },
      "execution_count": null,
      "outputs": []
    },
    {
      "cell_type": "code",
      "source": [
        "result_loaded_model_2=loaded_model.evaluate(test_data)\n",
        "result_loaded_model_2"
      ],
      "metadata": {
        "id": "5GATyz1d1kos"
      },
      "execution_count": null,
      "outputs": []
    },
    {
      "cell_type": "code",
      "source": [
        "plot_loss_curves(history_fine_tuned_all)"
      ],
      "metadata": {
        "id": "zjO1iqUk1k-_"
      },
      "execution_count": null,
      "outputs": []
    },
    {
      "cell_type": "markdown",
      "source": [
        "## Evaluating `loaded_model`"
      ],
      "metadata": {
        "id": "fKFJBFKVymJT"
      }
    },
    {
      "cell_type": "code",
      "source": [
        "pred_probs=loaded_model.predict(test_data, verbose=1)"
      ],
      "metadata": {
        "id": "yePF3rBz9Wi8"
      },
      "execution_count": null,
      "outputs": []
    },
    {
      "cell_type": "code",
      "source": [
        "pred_classes= pred_probs.argmax(axis=1)\n",
        "\n",
        "pred_classes[:5]"
      ],
      "metadata": {
        "id": "1xIM4vIg9nnj"
      },
      "execution_count": null,
      "outputs": []
    },
    {
      "cell_type": "code",
      "source": [
        "y_labels = []\n",
        "test_images = []\n",
        "for images, labels in test_data.unbatch():\n",
        "  y_labels.append(labels.numpy())\n",
        "y_labels[:10]"
      ],
      "metadata": {
        "id": "m_5wYpHX9njw"
      },
      "execution_count": null,
      "outputs": []
    },
    {
      "cell_type": "markdown",
      "source": [
        "## Accuracy Score"
      ],
      "metadata": {
        "id": "eYzrDMw13rxV"
      }
    },
    {
      "cell_type": "code",
      "source": [
        "sklearn_accuracy= accuracy_score(y_true= y_labels, y_pred= pred_classes)\n",
        "sklearn_accuracy"
      ],
      "metadata": {
        "id": "6WcuAaIQ9ngA"
      },
      "execution_count": null,
      "outputs": []
    },
    {
      "cell_type": "markdown",
      "source": [
        "## Confusion Matrix"
      ],
      "metadata": {
        "id": "Dcx9_h8hQwWx"
      }
    },
    {
      "cell_type": "code",
      "source": [
        "cm = confusion_matrix(y_labels, pred_classes)\n",
        "# Normalise\n",
        "cmn = cm.astype('float') / cm.sum(axis=1)[:, np.newaxis]==0\n",
        "fig, ax = plt.subplots(figsize=(50,50))\n",
        "sns.heatmap(cmn, annot=True, fmt='.2f', xticklabels=class_names, yticklabels=class_names)\n",
        "plt.ylabel('Actual')\n",
        "plt.xlabel('Predicted')\n",
        "plt.show(block=False)"
      ],
      "metadata": {
        "id": "0BExoyQl9nc2"
      },
      "execution_count": null,
      "outputs": []
    },
    {
      "cell_type": "markdown",
      "source": [
        "## Classification Report "
      ],
      "metadata": {
        "id": "kBqbbzcQQwIO"
      }
    },
    {
      "cell_type": "code",
      "source": [
        "print(classification_report(y_true= y_labels, y_pred= pred_classes))"
      ],
      "metadata": {
        "id": "jTp1Hm2Z98v7"
      },
      "execution_count": null,
      "outputs": []
    },
    {
      "cell_type": "code",
      "source": [
        "classification_report_dict= classification_report(y_labels, pred_classes, output_dict=True)\n",
        "classification_report_dict"
      ],
      "metadata": {
        "id": "75fpDtxJ98rp"
      },
      "execution_count": null,
      "outputs": []
    },
    {
      "cell_type": "markdown",
      "source": [
        "## Visualizing the F1-score"
      ],
      "metadata": {
        "id": "0wevx-cfSkKJ"
      }
    },
    {
      "cell_type": "code",
      "source": [
        "class_f1_scores= {}\n",
        "\n",
        "# Looping through the classification report dictionary items\n",
        "for k, v in classification_report_dict.items():\n",
        "  if k == \"accuracy\":\n",
        "    break\n",
        "\n",
        "  else:\n",
        "    class_f1_scores[class_names[int(k)]] = v[\"f1-score\"]\n",
        "\n",
        "\n",
        "class_f1_scores"
      ],
      "metadata": {
        "id": "gMc1OVGh98nX"
      },
      "execution_count": null,
      "outputs": []
    },
    {
      "cell_type": "code",
      "source": [
        "f1_scores= pd.DataFrame({\"class_names\": list(class_f1_scores.keys()), \"f1-score\": list(class_f1_scores.values())}).sort_values(\"f1-score\", ascending=False)"
      ],
      "metadata": {
        "id": "lI9AcBlw-C1x"
      },
      "execution_count": null,
      "outputs": []
    },
    {
      "cell_type": "code",
      "source": [
        "import matplotlib.pyplot as plt\n",
        "\n",
        "fig, ax = plt.subplots(figsize=(12, 25))\n",
        "scores = ax.barh(range(len(f1_scores)), f1_scores[\"f1-score\"].values)\n",
        "ax.set_yticks(range(len(f1_scores)))\n",
        "ax.set_yticklabels(list(f1_scores[\"class_names\"]))\n",
        "ax.set_xlabel(\"f1-score\")\n",
        "ax.set_title(\"F1-Scores for 10 Different Classes\")\n",
        "ax.invert_yaxis(); # reverse the order\n",
        "\n",
        "def autolabel(rects): # Modified version of: https://matplotlib.org/examples/api/barchart_demo.html\n",
        "  \"\"\"\n",
        "  Attach a text label above each bar displaying its height (it's value).\n",
        "  \"\"\"\n",
        "  for rect in rects:\n",
        "    width = rect.get_width()\n",
        "    ax.text(1.03*width, rect.get_y() + rect.get_height()/1.5,\n",
        "            f\"{width:.2f}\",\n",
        "            ha='center', va='bottom')\n",
        "\n",
        "autolabel(scores)"
      ],
      "metadata": {
        "id": "_lV_G_w8-FDz"
      },
      "execution_count": null,
      "outputs": []
    },
    {
      "cell_type": "markdown",
      "source": [
        "## Tensorboard"
      ],
      "metadata": {
        "id": "j3TSQnIPGhZ-"
      }
    },
    {
      "cell_type": "code",
      "source": [
        "!tensorboard dev upload --logdir ./transfer_learning \\\n",
        "--name \"Transfer Learning on the Food101 dataset with ResNet50V2\" \\\n",
        "--description \"Training a Transfer Learning model with ResNet50V2 to beat the DeepFood paper which is based on the Food101 dataset.\" \\\n",
        "--one_shot"
      ],
      "metadata": {
        "id": "0OqcVEHFGjjC"
      },
      "execution_count": null,
      "outputs": []
    },
    {
      "cell_type": "markdown",
      "source": [
        "### Tensorboard Link \n",
        "\n",
        "Link -> https://tensorboard.dev/experiment/btYndH3jQrmKFWuvJnQ3RA/"
      ],
      "metadata": {
        "id": "dVXZBZMyrHnO"
      }
    },
    {
      "cell_type": "code",
      "source": [
        "!tensorboard dev list"
      ],
      "metadata": {
        "id": "WJVyiOgPGjZg"
      },
      "execution_count": null,
      "outputs": []
    },
    {
      "cell_type": "markdown",
      "source": [
        "## Evaluating on custom dataset"
      ],
      "metadata": {
        "id": "b_Y-GBCEWPUL"
      }
    },
    {
      "cell_type": "code",
      "source": [
        "!wget https://storage.googleapis.com/ztm_tf_course/food_vision/custom_food_images.zip"
      ],
      "metadata": {
        "id": "r7IDrPoR-FHk"
      },
      "execution_count": null,
      "outputs": []
    },
    {
      "cell_type": "code",
      "source": [
        "unzip_data('custom_food_images.zip')"
      ],
      "metadata": {
        "id": "JRK-OS50-TUd"
      },
      "execution_count": null,
      "outputs": []
    },
    {
      "cell_type": "code",
      "source": [
        "custom_food_images = [\"custom_food_images/\" + img_path for img_path in os.listdir(\"custom_food_images\")]\n",
        "custom_food_images"
      ],
      "metadata": {
        "id": "ezXjBJLY-TQP"
      },
      "execution_count": null,
      "outputs": []
    },
    {
      "cell_type": "code",
      "source": [
        "for img in custom_food_images:\n",
        "  img = load_and_prep_image(img, scale=False) # load in target image and turn it into tensor\n",
        "  pred_prob = loaded_model.predict(tf.expand_dims(img, axis=0)) # make prediction on image with shape [None, 224, 224, 3]\n",
        "  pred_class = class_names[pred_prob.argmax()] # find the predicted class label\n",
        "  # Plot the image with appropriate annotations\n",
        "  plt.figure()\n",
        "  plt.imshow(img/255.) # imshow() requires float inputs to be normalized\n",
        "  plt.title(f\"pred: {pred_class}, prob: {pred_prob.max():.2f}\")\n",
        "  plt.axis(False)"
      ],
      "metadata": {
        "id": "9HT3p83LrSI6"
      },
      "execution_count": null,
      "outputs": []
    },
    {
      "cell_type": "code",
      "source": [
        ""
      ],
      "metadata": {
        "id": "gYeO7IAPrSfr"
      },
      "execution_count": null,
      "outputs": []
    }
  ]
}