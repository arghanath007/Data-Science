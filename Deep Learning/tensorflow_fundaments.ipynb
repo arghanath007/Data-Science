{
  "nbformat": 4,
  "nbformat_minor": 0,
  "metadata": {
    "colab": {
      "name": "tensorflow_fundaments.ipynb",
      "provenance": [],
      "collapsed_sections": [
        "kvuq5yor6w3j",
        "b-HLbg6mC8b6",
        "i82pL9FxEcpW",
        "4uSOtUFuHjj8",
        "ry8-xWEdNowC",
        "LqCmeOemP-zs",
        "cLH2VYJRSXOs",
        "30bn08zWS7EB",
        "CIkyDUWZXMyf",
        "VmRMbvpOY8z_",
        "MAmk4f-saBnb"
      ]
    },
    "kernelspec": {
      "name": "python3",
      "display_name": "Python 3"
    },
    "language_info": {
      "name": "python"
    },
    "accelerator": "GPU",
    "gpuClass": "standard"
  },
  "cells": [
    {
      "cell_type": "markdown",
      "source": [
        "# Fundamental Concepts of tensors using Tensorflow\n",
        "\n",
        "* Introduction to tensors\n",
        "* Getting information from tensors\n",
        "* Manipulation tensors\n",
        "* Tensors and Numpy\n",
        "* Using @tf.function(Way to speed up regular Python functions)\n",
        "* Using GPUs with tensorflow\n",
        "* Exercise"
      ],
      "metadata": {
        "id": "XCOWurIN3Ln3"
      }
    },
    {
      "cell_type": "markdown",
      "source": [
        "## Introduction to tensors"
      ],
      "metadata": {
        "id": "xWqMI9xV36xP"
      }
    },
    {
      "cell_type": "code",
      "source": [
        "import tensorflow as tf\n",
        "print(tf.__version__)"
      ],
      "metadata": {
        "colab": {
          "base_uri": "https://localhost:8080/"
        },
        "id": "IFHHQQdd3_Id",
        "outputId": "9bb9d459-2e2d-4ba8-95cc-34f443ff02ed"
      },
      "execution_count": 109,
      "outputs": [
        {
          "output_type": "stream",
          "name": "stdout",
          "text": [
            "2.8.2\n"
          ]
        }
      ]
    },
    {
      "cell_type": "markdown",
      "source": [
        "### Creating Tensors with `tf.constant()`\n",
        "\n",
        "As mentioned before, in general, you usually won't create tensors yourself. This is because TensorFlow has modules built-in (such as [`tf.io`](https://www.tensorflow.org/api_docs/python/tf/io) and [`tf.data`](https://www.tensorflow.org/guide/data)) which are able to read your data sources and automatically convert them to tensors and then later on, neural network models will process these for us.\n",
        "\n",
        "But for now, because we're getting familar with tensors themselves and how to manipulate them, we'll see how we can create them ourselves.\n",
        "\n",
        "We'll begin by using [`tf.constant()`](https://www.tensorflow.org/api_docs/python/tf/constant)."
      ],
      "metadata": {
        "id": "q55VLJT64Nsp"
      }
    },
    {
      "cell_type": "code",
      "source": [
        "scalar= tf.constant(7)\n",
        "scalar"
      ],
      "metadata": {
        "colab": {
          "base_uri": "https://localhost:8080/"
        },
        "id": "nyTclAn54gQl",
        "outputId": "a3d1a3c9-a6d5-4f7b-8e28-251dfb52a492"
      },
      "execution_count": 110,
      "outputs": [
        {
          "output_type": "execute_result",
          "data": {
            "text/plain": [
              "<tf.Tensor: shape=(), dtype=int32, numpy=7>"
            ]
          },
          "metadata": {},
          "execution_count": 110
        }
      ]
    },
    {
      "cell_type": "markdown",
      "source": [
        "### Dimensions of a tensor\n",
        "\n",
        "> ndim stands for number of dimensions"
      ],
      "metadata": {
        "id": "eTHFl24I4np0"
      }
    },
    {
      "cell_type": "code",
      "source": [
        "scalar.ndim"
      ],
      "metadata": {
        "colab": {
          "base_uri": "https://localhost:8080/"
        },
        "id": "3Kh_uSMQ49ak",
        "outputId": "c03974d7-ecda-4cf8-ae30-05dfd62f8378"
      },
      "execution_count": 111,
      "outputs": [
        {
          "output_type": "execute_result",
          "data": {
            "text/plain": [
              "0"
            ]
          },
          "metadata": {},
          "execution_count": 111
        }
      ]
    },
    {
      "cell_type": "markdown",
      "source": [
        "### Create a vector"
      ],
      "metadata": {
        "id": "G-dnOb8a5GcX"
      }
    },
    {
      "cell_type": "code",
      "source": [
        "vector=tf.constant([10,10])\n",
        "vector"
      ],
      "metadata": {
        "colab": {
          "base_uri": "https://localhost:8080/"
        },
        "id": "rs40bv7M5M1M",
        "outputId": "edd786f0-2ae9-4f33-f5cf-20af6ccd0972"
      },
      "execution_count": 112,
      "outputs": [
        {
          "output_type": "execute_result",
          "data": {
            "text/plain": [
              "<tf.Tensor: shape=(2,), dtype=int32, numpy=array([10, 10], dtype=int32)>"
            ]
          },
          "metadata": {},
          "execution_count": 112
        }
      ]
    },
    {
      "cell_type": "code",
      "source": [
        "vector.ndim"
      ],
      "metadata": {
        "colab": {
          "base_uri": "https://localhost:8080/"
        },
        "id": "I0bJkP8p5Qv1",
        "outputId": "f97e40bd-a301-4401-974e-c889f95343a8"
      },
      "execution_count": 113,
      "outputs": [
        {
          "output_type": "execute_result",
          "data": {
            "text/plain": [
              "1"
            ]
          },
          "metadata": {},
          "execution_count": 113
        }
      ]
    },
    {
      "cell_type": "markdown",
      "source": [
        "### Creating matrix"
      ],
      "metadata": {
        "id": "c2oW4gaW5WvU"
      }
    },
    {
      "cell_type": "code",
      "source": [
        "matrix=tf.constant([[10,10],[7,10]])\n",
        "matrix"
      ],
      "metadata": {
        "colab": {
          "base_uri": "https://localhost:8080/"
        },
        "id": "dDPUjoL55hnb",
        "outputId": "f3380c9a-6e38-482d-8d1e-b2c99f5445fe"
      },
      "execution_count": 114,
      "outputs": [
        {
          "output_type": "execute_result",
          "data": {
            "text/plain": [
              "<tf.Tensor: shape=(2, 2), dtype=int32, numpy=\n",
              "array([[10, 10],\n",
              "       [ 7, 10]], dtype=int32)>"
            ]
          },
          "metadata": {},
          "execution_count": 114
        }
      ]
    },
    {
      "cell_type": "code",
      "source": [
        "matrix.ndim"
      ],
      "metadata": {
        "colab": {
          "base_uri": "https://localhost:8080/"
        },
        "id": "XNFFIsny5nGo",
        "outputId": "89b37fe7-bcc4-4377-8c22-150ae2a47b3a"
      },
      "execution_count": 115,
      "outputs": [
        {
          "output_type": "execute_result",
          "data": {
            "text/plain": [
              "2"
            ]
          },
          "metadata": {},
          "execution_count": 115
        }
      ]
    },
    {
      "cell_type": "code",
      "source": [
        "anotherMatrix=tf.constant([[10.,7.],[3.,5.],[6.,9.]], dtype=tf.float16)\n",
        "anotherMatrix"
      ],
      "metadata": {
        "colab": {
          "base_uri": "https://localhost:8080/"
        },
        "id": "ntXTYkJ-5p1T",
        "outputId": "8c47dfed-4611-49cf-fa27-d2abd0bf4dbd"
      },
      "execution_count": 116,
      "outputs": [
        {
          "output_type": "execute_result",
          "data": {
            "text/plain": [
              "<tf.Tensor: shape=(3, 2), dtype=float16, numpy=\n",
              "array([[10.,  7.],\n",
              "       [ 3.,  5.],\n",
              "       [ 6.,  9.]], dtype=float16)>"
            ]
          },
          "metadata": {},
          "execution_count": 116
        }
      ]
    },
    {
      "cell_type": "code",
      "source": [
        "anotherMatrix.ndim"
      ],
      "metadata": {
        "colab": {
          "base_uri": "https://localhost:8080/"
        },
        "id": "zV5FskDz6sxi",
        "outputId": "a80c7daa-cc55-4fa6-a94a-49550a012f5f"
      },
      "execution_count": 117,
      "outputs": [
        {
          "output_type": "execute_result",
          "data": {
            "text/plain": [
              "2"
            ]
          },
          "metadata": {},
          "execution_count": 117
        }
      ]
    },
    {
      "cell_type": "markdown",
      "source": [
        "### Creating Tensor"
      ],
      "metadata": {
        "id": "kvuq5yor6w3j"
      }
    },
    {
      "cell_type": "markdown",
      "source": [
        "By default, TensorFlow creates tensors with either an `int32` or `float32` datatype.\n",
        "\n",
        "This is known as [32-bit precision](https://en.wikipedia.org/wiki/Precision_(computer_science) (the higher the number, the more precise the number, the more space it takes up on your computer)."
      ],
      "metadata": {
        "id": "TqPn3kUuDYFs"
      }
    },
    {
      "cell_type": "code",
      "source": [
        "tensor=tf.constant([[[10.,7.],[3.,5.],[6.,9.]]], dtype=tf.float16)\n",
        "tensor"
      ],
      "metadata": {
        "colab": {
          "base_uri": "https://localhost:8080/"
        },
        "id": "Vm-Hvvxj734z",
        "outputId": "cbe87209-0c58-470c-cdeb-8ab2d9b0399d"
      },
      "execution_count": 118,
      "outputs": [
        {
          "output_type": "execute_result",
          "data": {
            "text/plain": [
              "<tf.Tensor: shape=(1, 3, 2), dtype=float16, numpy=\n",
              "array([[[10.,  7.],\n",
              "        [ 3.,  5.],\n",
              "        [ 6.,  9.]]], dtype=float16)>"
            ]
          },
          "metadata": {},
          "execution_count": 118
        }
      ]
    },
    {
      "cell_type": "code",
      "source": [
        "tensor.ndim"
      ],
      "metadata": {
        "colab": {
          "base_uri": "https://localhost:8080/"
        },
        "id": "TCgsfzO88B9m",
        "outputId": "05595bba-1bde-438e-c105-490794bf35ec"
      },
      "execution_count": 119,
      "outputs": [
        {
          "output_type": "execute_result",
          "data": {
            "text/plain": [
              "3"
            ]
          },
          "metadata": {},
          "execution_count": 119
        }
      ]
    },
    {
      "cell_type": "markdown",
      "source": [
        "This is known as a rank 3 tensor (3-dimensions), however a tensor can have an arbitrary (unlimited) amount of dimensions.\n",
        "\n",
        "For example, you might turn a series of images into tensors with shape (224, 224, 3, 32), where:\n",
        "* 224, 224 (the first 2 dimensions) are the height and width of the images in pixels.\n",
        "* 3 is the number of colour channels of the image (red, green blue).\n",
        "* 32 is the batch size (the number of images a neural network sees at any one time).\n",
        "\n",
        "All of the above variables we've created are actually tensors. But you may also hear them referred to as their different names (the ones we gave them):\n",
        "* **scalar**: a single number. A scalar is known as a rank 0 tensor. Because it has no dimensions (it's just a number).\n",
        "* **vector**: a number with direction (e.g. wind speed with direction).\n",
        "* **matrix**: a 2-dimensional array of numbers.\n",
        "* **tensor**: an n-dimensional array of numbers (where n can be any number, a 0-dimension tensor is a scalar, a 1-dimension tensor is a vector). \n",
        "\n",
        "To add to the confusion, the terms matrix and tensor are often used interchangeably.\n",
        "\n",
        "Going forward since we're using TensorFlow, everything we refer to and use will be tensors.\n",
        "\n",
        "For more on the mathematical difference between scalars, vectors and matrices see the [visual algebra post by Math is Fun](https://www.mathsisfun.com/algebra/scalar-vector-matrix.html).\n",
        "\n",
        "![difference between scalar, vector, matrix, tensor](https://raw.githubusercontent.com/mrdbourke/tensorflow-deep-learning/main/images/00-scalar-vector-matrix-tensor.png)"
      ],
      "metadata": {
        "id": "31YLnx4KDTk-"
      }
    },
    {
      "cell_type": "markdown",
      "source": [
        "### Creating tensors with `tf.Variable`"
      ],
      "metadata": {
        "id": "b-HLbg6mC8b6"
      }
    },
    {
      "cell_type": "code",
      "source": [
        "tf.Variable"
      ],
      "metadata": {
        "colab": {
          "base_uri": "https://localhost:8080/"
        },
        "id": "N1AGUqAt_6wf",
        "outputId": "2e5e22b1-7b10-4014-8439-8bc1e515ea2a"
      },
      "execution_count": 120,
      "outputs": [
        {
          "output_type": "execute_result",
          "data": {
            "text/plain": [
              "tensorflow.python.ops.variables.Variable"
            ]
          },
          "metadata": {},
          "execution_count": 120
        }
      ]
    },
    {
      "cell_type": "code",
      "source": [
        "# Create the same tensor with tf.Variable() as above\n",
        "\n",
        "changeable_tensor= tf.Variable([10,7])\n",
        "unchangeable_tensor= tf.constant([10,7])\n",
        "\n",
        "changeable_tensor, unchangeable_tensor"
      ],
      "metadata": {
        "colab": {
          "base_uri": "https://localhost:8080/"
        },
        "id": "mZ4AVVLzAFb7",
        "outputId": "4298c6ec-d5b4-4562-cea3-37b5443adac2"
      },
      "execution_count": 121,
      "outputs": [
        {
          "output_type": "execute_result",
          "data": {
            "text/plain": [
              "(<tf.Variable 'Variable:0' shape=(2,) dtype=int32, numpy=array([10,  7], dtype=int32)>,\n",
              " <tf.Tensor: shape=(2,), dtype=int32, numpy=array([10,  7], dtype=int32)>)"
            ]
          },
          "metadata": {},
          "execution_count": 121
        }
      ]
    },
    {
      "cell_type": "code",
      "source": [
        "changeable_tensor[0].assign(5)\n",
        "changeable_tensor"
      ],
      "metadata": {
        "colab": {
          "base_uri": "https://localhost:8080/"
        },
        "id": "WMXKw4DLA-KP",
        "outputId": "dba379d5-39fb-444b-8d1c-535d548e7547"
      },
      "execution_count": 122,
      "outputs": [
        {
          "output_type": "execute_result",
          "data": {
            "text/plain": [
              "<tf.Variable 'Variable:0' shape=(2,) dtype=int32, numpy=array([5, 7], dtype=int32)>"
            ]
          },
          "metadata": {},
          "execution_count": 122
        }
      ]
    },
    {
      "cell_type": "code",
      "source": [
        "# unchangeable_tensor[0].assgin(5)\n",
        "# unchangeable_tensor"
      ],
      "metadata": {
        "id": "frVvR70OETFC"
      },
      "execution_count": 123,
      "outputs": []
    },
    {
      "cell_type": "markdown",
      "source": [
        "### Creating Random Tensors\n",
        "\n",
        "> Random tensors are tensors of some arbitary size which contains random numbers"
      ],
      "metadata": {
        "id": "i82pL9FxEcpW"
      }
    },
    {
      "cell_type": "code",
      "source": [
        "random_1 = tf.random.Generator.from_seed(42)\n",
        "random_1 = random_1.normal(shape=(3,2))\n",
        "random_2 = tf.random.Generator.from_seed(42)\n",
        "random_2 = random_2.normal(shape=(3,2))\n",
        "\n",
        "random_1, random_2, random_1 == random_2"
      ],
      "metadata": {
        "colab": {
          "base_uri": "https://localhost:8080/"
        },
        "id": "438iR-5vFVYO",
        "outputId": "473bb667-0247-4d66-d480-86a78bac4dba"
      },
      "execution_count": 124,
      "outputs": [
        {
          "output_type": "execute_result",
          "data": {
            "text/plain": [
              "(<tf.Tensor: shape=(3, 2), dtype=float32, numpy=\n",
              " array([[-0.7565803 , -0.06854702],\n",
              "        [ 0.07595026, -1.2573844 ],\n",
              "        [-0.23193765, -1.8107855 ]], dtype=float32)>,\n",
              " <tf.Tensor: shape=(3, 2), dtype=float32, numpy=\n",
              " array([[-0.7565803 , -0.06854702],\n",
              "        [ 0.07595026, -1.2573844 ],\n",
              "        [-0.23193765, -1.8107855 ]], dtype=float32)>,\n",
              " <tf.Tensor: shape=(3, 2), dtype=bool, numpy=\n",
              " array([[ True,  True],\n",
              "        [ True,  True],\n",
              "        [ True,  True]])>)"
            ]
          },
          "metadata": {},
          "execution_count": 124
        }
      ]
    },
    {
      "cell_type": "markdown",
      "source": [
        "### Shuffeling order of elements"
      ],
      "metadata": {
        "id": "4uSOtUFuHjj8"
      }
    },
    {
      "cell_type": "code",
      "source": [
        "not_shiffled= tf.constant([[10,7], [3,4],[2,5]])\n",
        "not_shiffled, not_shiffled.ndim"
      ],
      "metadata": {
        "colab": {
          "base_uri": "https://localhost:8080/"
        },
        "id": "w16MT87qI-tB",
        "outputId": "a0205dca-b699-4125-9a5a-d4bc4464e192"
      },
      "execution_count": 125,
      "outputs": [
        {
          "output_type": "execute_result",
          "data": {
            "text/plain": [
              "(<tf.Tensor: shape=(3, 2), dtype=int32, numpy=\n",
              " array([[10,  7],\n",
              "        [ 3,  4],\n",
              "        [ 2,  5]], dtype=int32)>, 2)"
            ]
          },
          "metadata": {},
          "execution_count": 125
        }
      ]
    },
    {
      "cell_type": "code",
      "source": [
        "tf.random.shuffle(not_shiffled)"
      ],
      "metadata": {
        "colab": {
          "base_uri": "https://localhost:8080/"
        },
        "id": "BY5zykV1Ji8t",
        "outputId": "ec328d1c-cbe2-4390-865b-d22f5148a0e1"
      },
      "execution_count": 126,
      "outputs": [
        {
          "output_type": "execute_result",
          "data": {
            "text/plain": [
              "<tf.Tensor: shape=(3, 2), dtype=int32, numpy=\n",
              "array([[ 3,  4],\n",
              "       [ 2,  5],\n",
              "       [10,  7]], dtype=int32)>"
            ]
          },
          "metadata": {},
          "execution_count": 126
        }
      ]
    },
    {
      "cell_type": "code",
      "source": [
        "tf.random.shuffle(not_shiffled, seed=42)"
      ],
      "metadata": {
        "colab": {
          "base_uri": "https://localhost:8080/"
        },
        "id": "WkW9EHEqJrfR",
        "outputId": "648dff60-c67c-4442-d385-369b966c9d24"
      },
      "execution_count": 127,
      "outputs": [
        {
          "output_type": "execute_result",
          "data": {
            "text/plain": [
              "<tf.Tensor: shape=(3, 2), dtype=int32, numpy=\n",
              "array([[10,  7],\n",
              "       [ 3,  4],\n",
              "       [ 2,  5]], dtype=int32)>"
            ]
          },
          "metadata": {},
          "execution_count": 127
        }
      ]
    },
    {
      "cell_type": "code",
      "source": [
        "tf.random.set_seed(42)  # Global level random Seed\n",
        "tf.random.shuffle(not_shiffled, seed=42) # Operational level random Seed"
      ],
      "metadata": {
        "colab": {
          "base_uri": "https://localhost:8080/"
        },
        "id": "dJKr-7agLWWe",
        "outputId": "fb911bab-4802-4687-fc72-547b72198035"
      },
      "execution_count": 128,
      "outputs": [
        {
          "output_type": "execute_result",
          "data": {
            "text/plain": [
              "<tf.Tensor: shape=(3, 2), dtype=int32, numpy=\n",
              "array([[10,  7],\n",
              "       [ 3,  4],\n",
              "       [ 2,  5]], dtype=int32)>"
            ]
          },
          "metadata": {},
          "execution_count": 128
        }
      ]
    },
    {
      "cell_type": "code",
      "source": [
        "tf_ones=tf.ones([5,5])\n",
        "tf_ones"
      ],
      "metadata": {
        "colab": {
          "base_uri": "https://localhost:8080/"
        },
        "id": "hJjfhXDsLlIk",
        "outputId": "2a76265e-9bf9-4889-e116-2294cdf924c9"
      },
      "execution_count": 129,
      "outputs": [
        {
          "output_type": "execute_result",
          "data": {
            "text/plain": [
              "<tf.Tensor: shape=(5, 5), dtype=float32, numpy=\n",
              "array([[1., 1., 1., 1., 1.],\n",
              "       [1., 1., 1., 1., 1.],\n",
              "       [1., 1., 1., 1., 1.],\n",
              "       [1., 1., 1., 1., 1.],\n",
              "       [1., 1., 1., 1., 1.]], dtype=float32)>"
            ]
          },
          "metadata": {},
          "execution_count": 129
        }
      ]
    },
    {
      "cell_type": "code",
      "source": [
        "tf_zeroes=tf.zeros([2,2])\n",
        "tf_zeroes"
      ],
      "metadata": {
        "colab": {
          "base_uri": "https://localhost:8080/"
        },
        "id": "EJf9MGNyNjIx",
        "outputId": "e14bab72-e512-460c-8574-7046f8261b70"
      },
      "execution_count": 130,
      "outputs": [
        {
          "output_type": "execute_result",
          "data": {
            "text/plain": [
              "<tf.Tensor: shape=(2, 2), dtype=float32, numpy=\n",
              "array([[0., 0.],\n",
              "       [0., 0.]], dtype=float32)>"
            ]
          },
          "metadata": {},
          "execution_count": 130
        }
      ]
    },
    {
      "cell_type": "markdown",
      "source": [
        "### Convert NumPy arrays into tensors\n",
        "\n",
        "> The main difference between Numpy arrays and tensorflow tensors is that tensors can be run on a GPU(much faster)\n",
        "\n",
        "\n",
        "X= tf.constants(some_matrix) , **Capital for maxtrix or tensor**\n",
        "\n",
        "y= tf.constant(vector) **non-capital for vector**"
      ],
      "metadata": {
        "id": "ry8-xWEdNowC"
      }
    },
    {
      "cell_type": "code",
      "source": [
        "import numpy as np\n",
        "\n",
        "numpy_A= np.arange(1, 25, dtype=np.int32)\n",
        "numpy_A"
      ],
      "metadata": {
        "colab": {
          "base_uri": "https://localhost:8080/"
        },
        "id": "jwyHg5bDOI7H",
        "outputId": "7f7bebf6-b28b-4192-c8fb-2710531c067f"
      },
      "execution_count": 131,
      "outputs": [
        {
          "output_type": "execute_result",
          "data": {
            "text/plain": [
              "array([ 1,  2,  3,  4,  5,  6,  7,  8,  9, 10, 11, 12, 13, 14, 15, 16, 17,\n",
              "       18, 19, 20, 21, 22, 23, 24], dtype=int32)"
            ]
          },
          "metadata": {},
          "execution_count": 131
        }
      ]
    },
    {
      "cell_type": "code",
      "source": [
        "A= tf.constant(numpy_A)\n",
        "A"
      ],
      "metadata": {
        "colab": {
          "base_uri": "https://localhost:8080/"
        },
        "id": "K_5qOLE8OZWo",
        "outputId": "48423527-0610-4117-c945-446ccacfdab9"
      },
      "execution_count": 132,
      "outputs": [
        {
          "output_type": "execute_result",
          "data": {
            "text/plain": [
              "<tf.Tensor: shape=(24,), dtype=int32, numpy=\n",
              "array([ 1,  2,  3,  4,  5,  6,  7,  8,  9, 10, 11, 12, 13, 14, 15, 16, 17,\n",
              "       18, 19, 20, 21, 22, 23, 24], dtype=int32)>"
            ]
          },
          "metadata": {},
          "execution_count": 132
        }
      ]
    },
    {
      "cell_type": "code",
      "source": [
        "A= tf.Variable(numpy_A)\n",
        "A"
      ],
      "metadata": {
        "colab": {
          "base_uri": "https://localhost:8080/"
        },
        "id": "tDA3T6BAO-Di",
        "outputId": "4892694f-3205-493e-8b6b-08e2c74eb5c8"
      },
      "execution_count": 133,
      "outputs": [
        {
          "output_type": "execute_result",
          "data": {
            "text/plain": [
              "<tf.Variable 'Variable:0' shape=(24,) dtype=int32, numpy=\n",
              "array([ 1,  2,  3,  4,  5,  6,  7,  8,  9, 10, 11, 12, 13, 14, 15, 16, 17,\n",
              "       18, 19, 20, 21, 22, 23, 24], dtype=int32)>"
            ]
          },
          "metadata": {},
          "execution_count": 133
        }
      ]
    },
    {
      "cell_type": "code",
      "source": [
        "B= tf.constant(numpy_A, shape=(2,3,4))\n",
        "B"
      ],
      "metadata": {
        "colab": {
          "base_uri": "https://localhost:8080/"
        },
        "id": "8GaUefQyPBfj",
        "outputId": "3e8ee751-45ed-46ff-aca2-433c2f60a42f"
      },
      "execution_count": 134,
      "outputs": [
        {
          "output_type": "execute_result",
          "data": {
            "text/plain": [
              "<tf.Tensor: shape=(2, 3, 4), dtype=int32, numpy=\n",
              "array([[[ 1,  2,  3,  4],\n",
              "        [ 5,  6,  7,  8],\n",
              "        [ 9, 10, 11, 12]],\n",
              "\n",
              "       [[13, 14, 15, 16],\n",
              "        [17, 18, 19, 20],\n",
              "        [21, 22, 23, 24]]], dtype=int32)>"
            ]
          },
          "metadata": {},
          "execution_count": 134
        }
      ]
    },
    {
      "cell_type": "code",
      "source": [
        "A, B"
      ],
      "metadata": {
        "colab": {
          "base_uri": "https://localhost:8080/"
        },
        "id": "fxlI6L0DPHpE",
        "outputId": "a4a47292-ad2a-486a-cb0f-2b4f7345fd26"
      },
      "execution_count": 135,
      "outputs": [
        {
          "output_type": "execute_result",
          "data": {
            "text/plain": [
              "(<tf.Variable 'Variable:0' shape=(24,) dtype=int32, numpy=\n",
              " array([ 1,  2,  3,  4,  5,  6,  7,  8,  9, 10, 11, 12, 13, 14, 15, 16, 17,\n",
              "        18, 19, 20, 21, 22, 23, 24], dtype=int32)>,\n",
              " <tf.Tensor: shape=(2, 3, 4), dtype=int32, numpy=\n",
              " array([[[ 1,  2,  3,  4],\n",
              "         [ 5,  6,  7,  8],\n",
              "         [ 9, 10, 11, 12]],\n",
              " \n",
              "        [[13, 14, 15, 16],\n",
              "         [17, 18, 19, 20],\n",
              "         [21, 22, 23, 24]]], dtype=int32)>)"
            ]
          },
          "metadata": {},
          "execution_count": 135
        }
      ]
    },
    {
      "cell_type": "code",
      "source": [
        "2*3*4"
      ],
      "metadata": {
        "colab": {
          "base_uri": "https://localhost:8080/"
        },
        "id": "5ilsXNqCPT_a",
        "outputId": "426393ab-0a9e-4284-fbcf-aec737f69996"
      },
      "execution_count": 136,
      "outputs": [
        {
          "output_type": "execute_result",
          "data": {
            "text/plain": [
              "24"
            ]
          },
          "metadata": {},
          "execution_count": 136
        }
      ]
    },
    {
      "cell_type": "code",
      "source": [
        "B= tf.constant(numpy_A, shape=(2,12))\n",
        "B"
      ],
      "metadata": {
        "colab": {
          "base_uri": "https://localhost:8080/"
        },
        "id": "dduuQbQiP79t",
        "outputId": "63fa4ec3-852b-4990-9821-e74d9e8b1298"
      },
      "execution_count": 137,
      "outputs": [
        {
          "output_type": "execute_result",
          "data": {
            "text/plain": [
              "<tf.Tensor: shape=(2, 12), dtype=int32, numpy=\n",
              "array([[ 1,  2,  3,  4,  5,  6,  7,  8,  9, 10, 11, 12],\n",
              "       [13, 14, 15, 16, 17, 18, 19, 20, 21, 22, 23, 24]], dtype=int32)>"
            ]
          },
          "metadata": {},
          "execution_count": 137
        }
      ]
    },
    {
      "cell_type": "code",
      "source": [
        "A.shape, B.shape"
      ],
      "metadata": {
        "colab": {
          "base_uri": "https://localhost:8080/"
        },
        "id": "_9sbiTcEQHg4",
        "outputId": "e31e85d7-74ba-481c-d47b-6216674d4fd8"
      },
      "execution_count": 138,
      "outputs": [
        {
          "output_type": "execute_result",
          "data": {
            "text/plain": [
              "(TensorShape([24]), TensorShape([2, 12]))"
            ]
          },
          "metadata": {},
          "execution_count": 138
        }
      ]
    },
    {
      "cell_type": "markdown",
      "source": [
        "### Getting more information from tensors\n",
        "\n",
        "* Shape\n",
        "* Rank\n",
        "* Axis or dimensions\n",
        "* Size"
      ],
      "metadata": {
        "id": "LqCmeOemP-zs"
      }
    },
    {
      "cell_type": "code",
      "source": [
        "rank_4_tensor=tf.zeros(shape=[2,3,4,5])\n",
        "rank_4_tensor"
      ],
      "metadata": {
        "id": "tx5rtomDQExg",
        "colab": {
          "base_uri": "https://localhost:8080/"
        },
        "outputId": "e03176bc-3f42-4798-b55b-9e831d9ffca4"
      },
      "execution_count": 139,
      "outputs": [
        {
          "output_type": "execute_result",
          "data": {
            "text/plain": [
              "<tf.Tensor: shape=(2, 3, 4, 5), dtype=float32, numpy=\n",
              "array([[[[0., 0., 0., 0., 0.],\n",
              "         [0., 0., 0., 0., 0.],\n",
              "         [0., 0., 0., 0., 0.],\n",
              "         [0., 0., 0., 0., 0.]],\n",
              "\n",
              "        [[0., 0., 0., 0., 0.],\n",
              "         [0., 0., 0., 0., 0.],\n",
              "         [0., 0., 0., 0., 0.],\n",
              "         [0., 0., 0., 0., 0.]],\n",
              "\n",
              "        [[0., 0., 0., 0., 0.],\n",
              "         [0., 0., 0., 0., 0.],\n",
              "         [0., 0., 0., 0., 0.],\n",
              "         [0., 0., 0., 0., 0.]]],\n",
              "\n",
              "\n",
              "       [[[0., 0., 0., 0., 0.],\n",
              "         [0., 0., 0., 0., 0.],\n",
              "         [0., 0., 0., 0., 0.],\n",
              "         [0., 0., 0., 0., 0.]],\n",
              "\n",
              "        [[0., 0., 0., 0., 0.],\n",
              "         [0., 0., 0., 0., 0.],\n",
              "         [0., 0., 0., 0., 0.],\n",
              "         [0., 0., 0., 0., 0.]],\n",
              "\n",
              "        [[0., 0., 0., 0., 0.],\n",
              "         [0., 0., 0., 0., 0.],\n",
              "         [0., 0., 0., 0., 0.],\n",
              "         [0., 0., 0., 0., 0.]]]], dtype=float32)>"
            ]
          },
          "metadata": {},
          "execution_count": 139
        }
      ]
    },
    {
      "cell_type": "code",
      "source": [
        "rank_4_tensor[0]"
      ],
      "metadata": {
        "colab": {
          "base_uri": "https://localhost:8080/"
        },
        "id": "2mTdLecQRjLs",
        "outputId": "27058c5c-cfb3-453e-f337-da737f4df364"
      },
      "execution_count": 140,
      "outputs": [
        {
          "output_type": "execute_result",
          "data": {
            "text/plain": [
              "<tf.Tensor: shape=(3, 4, 5), dtype=float32, numpy=\n",
              "array([[[0., 0., 0., 0., 0.],\n",
              "        [0., 0., 0., 0., 0.],\n",
              "        [0., 0., 0., 0., 0.],\n",
              "        [0., 0., 0., 0., 0.]],\n",
              "\n",
              "       [[0., 0., 0., 0., 0.],\n",
              "        [0., 0., 0., 0., 0.],\n",
              "        [0., 0., 0., 0., 0.],\n",
              "        [0., 0., 0., 0., 0.]],\n",
              "\n",
              "       [[0., 0., 0., 0., 0.],\n",
              "        [0., 0., 0., 0., 0.],\n",
              "        [0., 0., 0., 0., 0.],\n",
              "        [0., 0., 0., 0., 0.]]], dtype=float32)>"
            ]
          },
          "metadata": {},
          "execution_count": 140
        }
      ]
    },
    {
      "cell_type": "code",
      "source": [
        "rank_4_tensor[0][1]"
      ],
      "metadata": {
        "colab": {
          "base_uri": "https://localhost:8080/"
        },
        "id": "GEjWiX4SRxvV",
        "outputId": "2caaffbe-5c6d-435f-fef2-232904347b3f"
      },
      "execution_count": 141,
      "outputs": [
        {
          "output_type": "execute_result",
          "data": {
            "text/plain": [
              "<tf.Tensor: shape=(4, 5), dtype=float32, numpy=\n",
              "array([[0., 0., 0., 0., 0.],\n",
              "       [0., 0., 0., 0., 0.],\n",
              "       [0., 0., 0., 0., 0.],\n",
              "       [0., 0., 0., 0., 0.]], dtype=float32)>"
            ]
          },
          "metadata": {},
          "execution_count": 141
        }
      ]
    },
    {
      "cell_type": "code",
      "source": [
        "rank_4_tensor.shape, tf.shape(rank_4_tensor), rank_4_tensor.ndim, tf.size(rank_4_tensor)"
      ],
      "metadata": {
        "colab": {
          "base_uri": "https://localhost:8080/"
        },
        "id": "0SjfTQmeR2tL",
        "outputId": "51033471-7ef1-4f62-ae87-85760e73505a"
      },
      "execution_count": 142,
      "outputs": [
        {
          "output_type": "execute_result",
          "data": {
            "text/plain": [
              "(TensorShape([2, 3, 4, 5]),\n",
              " <tf.Tensor: shape=(4,), dtype=int32, numpy=array([2, 3, 4, 5], dtype=int32)>,\n",
              " 4,\n",
              " <tf.Tensor: shape=(), dtype=int32, numpy=120>)"
            ]
          },
          "metadata": {},
          "execution_count": 142
        }
      ]
    },
    {
      "cell_type": "code",
      "source": [
        "2*3*4*5"
      ],
      "metadata": {
        "colab": {
          "base_uri": "https://localhost:8080/"
        },
        "id": "gCLynkvlR-RF",
        "outputId": "826de064-344f-4ac5-f325-5ac77a606392"
      },
      "execution_count": 143,
      "outputs": [
        {
          "output_type": "execute_result",
          "data": {
            "text/plain": [
              "120"
            ]
          },
          "metadata": {},
          "execution_count": 143
        }
      ]
    },
    {
      "cell_type": "markdown",
      "source": [
        "### Various attributes of tensors"
      ],
      "metadata": {
        "id": "cLH2VYJRSXOs"
      }
    },
    {
      "cell_type": "code",
      "source": [
        "print(rank_4_tensor.dtype)\n",
        "print(\"\\n\")\n",
        "print(rank_4_tensor.ndim)\n",
        "print(\"\\n\")\n",
        "print(rank_4_tensor.shape)\n",
        "print(\"\\n\")\n",
        "print(rank_4_tensor[0])\n",
        "print(\"\\n\")\n",
        "print(rank_4_tensor.shape[0])\n",
        "print(\"\\n\")\n",
        "print(rank_4_tensor[-1])\n",
        "print(\"\\n\")\n",
        "print(rank_4_tensor.shape[-1])\n",
        "print(\"\\n\")\n",
        "print(tf.size(rank_4_tensor))\n",
        "print(\"\\n\")\n",
        "print(tf.size(rank_4_tensor).numpy())\n",
        "print(\"\\n\")"
      ],
      "metadata": {
        "colab": {
          "base_uri": "https://localhost:8080/"
        },
        "id": "EoqqxWeoSkFM",
        "outputId": "090f4e5d-e585-4b51-d058-051816c0352d"
      },
      "execution_count": 144,
      "outputs": [
        {
          "output_type": "stream",
          "name": "stdout",
          "text": [
            "<dtype: 'float32'>\n",
            "\n",
            "\n",
            "4\n",
            "\n",
            "\n",
            "(2, 3, 4, 5)\n",
            "\n",
            "\n",
            "tf.Tensor(\n",
            "[[[0. 0. 0. 0. 0.]\n",
            "  [0. 0. 0. 0. 0.]\n",
            "  [0. 0. 0. 0. 0.]\n",
            "  [0. 0. 0. 0. 0.]]\n",
            "\n",
            " [[0. 0. 0. 0. 0.]\n",
            "  [0. 0. 0. 0. 0.]\n",
            "  [0. 0. 0. 0. 0.]\n",
            "  [0. 0. 0. 0. 0.]]\n",
            "\n",
            " [[0. 0. 0. 0. 0.]\n",
            "  [0. 0. 0. 0. 0.]\n",
            "  [0. 0. 0. 0. 0.]\n",
            "  [0. 0. 0. 0. 0.]]], shape=(3, 4, 5), dtype=float32)\n",
            "\n",
            "\n",
            "2\n",
            "\n",
            "\n",
            "tf.Tensor(\n",
            "[[[0. 0. 0. 0. 0.]\n",
            "  [0. 0. 0. 0. 0.]\n",
            "  [0. 0. 0. 0. 0.]\n",
            "  [0. 0. 0. 0. 0.]]\n",
            "\n",
            " [[0. 0. 0. 0. 0.]\n",
            "  [0. 0. 0. 0. 0.]\n",
            "  [0. 0. 0. 0. 0.]\n",
            "  [0. 0. 0. 0. 0.]]\n",
            "\n",
            " [[0. 0. 0. 0. 0.]\n",
            "  [0. 0. 0. 0. 0.]\n",
            "  [0. 0. 0. 0. 0.]\n",
            "  [0. 0. 0. 0. 0.]]], shape=(3, 4, 5), dtype=float32)\n",
            "\n",
            "\n",
            "5\n",
            "\n",
            "\n",
            "tf.Tensor(120, shape=(), dtype=int32)\n",
            "\n",
            "\n",
            "120\n",
            "\n",
            "\n"
          ]
        }
      ]
    },
    {
      "cell_type": "markdown",
      "source": [
        "### Indexing Tensors"
      ],
      "metadata": {
        "id": "30bn08zWS7EB"
      }
    },
    {
      "cell_type": "code",
      "source": [
        "rank_4_tensor"
      ],
      "metadata": {
        "colab": {
          "base_uri": "https://localhost:8080/"
        },
        "id": "XN_ZdThvULxx",
        "outputId": "92336c4b-6714-4161-ddee-80901656a30e"
      },
      "execution_count": 145,
      "outputs": [
        {
          "output_type": "execute_result",
          "data": {
            "text/plain": [
              "<tf.Tensor: shape=(2, 3, 4, 5), dtype=float32, numpy=\n",
              "array([[[[0., 0., 0., 0., 0.],\n",
              "         [0., 0., 0., 0., 0.],\n",
              "         [0., 0., 0., 0., 0.],\n",
              "         [0., 0., 0., 0., 0.]],\n",
              "\n",
              "        [[0., 0., 0., 0., 0.],\n",
              "         [0., 0., 0., 0., 0.],\n",
              "         [0., 0., 0., 0., 0.],\n",
              "         [0., 0., 0., 0., 0.]],\n",
              "\n",
              "        [[0., 0., 0., 0., 0.],\n",
              "         [0., 0., 0., 0., 0.],\n",
              "         [0., 0., 0., 0., 0.],\n",
              "         [0., 0., 0., 0., 0.]]],\n",
              "\n",
              "\n",
              "       [[[0., 0., 0., 0., 0.],\n",
              "         [0., 0., 0., 0., 0.],\n",
              "         [0., 0., 0., 0., 0.],\n",
              "         [0., 0., 0., 0., 0.]],\n",
              "\n",
              "        [[0., 0., 0., 0., 0.],\n",
              "         [0., 0., 0., 0., 0.],\n",
              "         [0., 0., 0., 0., 0.],\n",
              "         [0., 0., 0., 0., 0.]],\n",
              "\n",
              "        [[0., 0., 0., 0., 0.],\n",
              "         [0., 0., 0., 0., 0.],\n",
              "         [0., 0., 0., 0., 0.],\n",
              "         [0., 0., 0., 0., 0.]]]], dtype=float32)>"
            ]
          },
          "metadata": {},
          "execution_count": 145
        }
      ]
    },
    {
      "cell_type": "code",
      "source": [
        "# Get the first 2 elements of each dimension\n",
        "rank_4_tensor[:2, :2, :2,:2]"
      ],
      "metadata": {
        "colab": {
          "base_uri": "https://localhost:8080/"
        },
        "id": "NQl7LiJeUP8-",
        "outputId": "6dc702f2-e429-4e7d-f1b9-72facd379077"
      },
      "execution_count": 146,
      "outputs": [
        {
          "output_type": "execute_result",
          "data": {
            "text/plain": [
              "<tf.Tensor: shape=(2, 2, 2, 2), dtype=float32, numpy=\n",
              "array([[[[0., 0.],\n",
              "         [0., 0.]],\n",
              "\n",
              "        [[0., 0.],\n",
              "         [0., 0.]]],\n",
              "\n",
              "\n",
              "       [[[0., 0.],\n",
              "         [0., 0.]],\n",
              "\n",
              "        [[0., 0.],\n",
              "         [0., 0.]]]], dtype=float32)>"
            ]
          },
          "metadata": {},
          "execution_count": 146
        }
      ]
    },
    {
      "cell_type": "code",
      "source": [
        "# Get the first element from each dimension from each index except for the final one\n",
        "rank_4_tensor[:1,:1,:,:1]"
      ],
      "metadata": {
        "colab": {
          "base_uri": "https://localhost:8080/"
        },
        "id": "2FjBJ_TjUV7x",
        "outputId": "ea0878bc-b05b-4a37-b2c3-a81be5b66883"
      },
      "execution_count": 147,
      "outputs": [
        {
          "output_type": "execute_result",
          "data": {
            "text/plain": [
              "<tf.Tensor: shape=(1, 1, 4, 1), dtype=float32, numpy=\n",
              "array([[[[0.],\n",
              "         [0.],\n",
              "         [0.],\n",
              "         [0.]]]], dtype=float32)>"
            ]
          },
          "metadata": {},
          "execution_count": 147
        }
      ]
    },
    {
      "cell_type": "code",
      "source": [
        " rank_2_tensor= tf.constant([[1,2],[3,4]])\n",
        " rank_2_tensor,rank_2_tensor.ndim"
      ],
      "metadata": {
        "colab": {
          "base_uri": "https://localhost:8080/"
        },
        "id": "fWMbaSvAVfHj",
        "outputId": "31715ea3-cffc-4bad-e281-f2d3adee2525"
      },
      "execution_count": 148,
      "outputs": [
        {
          "output_type": "execute_result",
          "data": {
            "text/plain": [
              "(<tf.Tensor: shape=(2, 2), dtype=int32, numpy=\n",
              " array([[1, 2],\n",
              "        [3, 4]], dtype=int32)>, 2)"
            ]
          },
          "metadata": {},
          "execution_count": 148
        }
      ]
    },
    {
      "cell_type": "code",
      "source": [
        "# Get the last item of each row \n",
        "rank_2_tensor[:,-1]"
      ],
      "metadata": {
        "colab": {
          "base_uri": "https://localhost:8080/"
        },
        "id": "tEjuoeiDW2J2",
        "outputId": "e7bb862a-60e8-412e-b2f7-86b0f4b4b607"
      },
      "execution_count": 149,
      "outputs": [
        {
          "output_type": "execute_result",
          "data": {
            "text/plain": [
              "<tf.Tensor: shape=(2,), dtype=int32, numpy=array([2, 4], dtype=int32)>"
            ]
          },
          "metadata": {},
          "execution_count": 149
        }
      ]
    },
    {
      "cell_type": "markdown",
      "source": [
        "### Adding an extra dimension to a tensor"
      ],
      "metadata": {
        "id": "CIkyDUWZXMyf"
      }
    },
    {
      "cell_type": "code",
      "source": [
        "rank_2_tensor= rank_2_tensor[..., tf.newaxis]\n",
        "rank_2_tensor"
      ],
      "metadata": {
        "colab": {
          "base_uri": "https://localhost:8080/"
        },
        "id": "ln8u8jzLY3oX",
        "outputId": "a807a408-5b01-487a-8ab9-07c614e14ede"
      },
      "execution_count": 150,
      "outputs": [
        {
          "output_type": "execute_result",
          "data": {
            "text/plain": [
              "<tf.Tensor: shape=(2, 2, 1), dtype=int32, numpy=\n",
              "array([[[1],\n",
              "        [2]],\n",
              "\n",
              "       [[3],\n",
              "        [4]]], dtype=int32)>"
            ]
          },
          "metadata": {},
          "execution_count": 150
        }
      ]
    },
    {
      "cell_type": "markdown",
      "source": [
        "#### Alternative to **tf.newaxis**"
      ],
      "metadata": {
        "id": "VmRMbvpOY8z_"
      }
    },
    {
      "cell_type": "code",
      "source": [
        "tf.expand_dims(rank_2_tensor, axis=-1) # \"-1\" means expand the final axis"
      ],
      "metadata": {
        "colab": {
          "base_uri": "https://localhost:8080/"
        },
        "id": "SLv8oXScZXcW",
        "outputId": "ee684916-b2ca-4510-ec51-78e8d2d02d50"
      },
      "execution_count": 151,
      "outputs": [
        {
          "output_type": "execute_result",
          "data": {
            "text/plain": [
              "<tf.Tensor: shape=(2, 2, 1, 1), dtype=int32, numpy=\n",
              "array([[[[1]],\n",
              "\n",
              "        [[2]]],\n",
              "\n",
              "\n",
              "       [[[3]],\n",
              "\n",
              "        [[4]]]], dtype=int32)>"
            ]
          },
          "metadata": {},
          "execution_count": 151
        }
      ]
    },
    {
      "cell_type": "code",
      "source": [
        "tf.expand_dims(rank_2_tensor, axis=0)"
      ],
      "metadata": {
        "colab": {
          "base_uri": "https://localhost:8080/"
        },
        "id": "LcFQPCUmZk0W",
        "outputId": "6777ecd8-0a69-453a-a953-d3a02c24f4c7"
      },
      "execution_count": 152,
      "outputs": [
        {
          "output_type": "execute_result",
          "data": {
            "text/plain": [
              "<tf.Tensor: shape=(1, 2, 2, 1), dtype=int32, numpy=\n",
              "array([[[[1],\n",
              "         [2]],\n",
              "\n",
              "        [[3],\n",
              "         [4]]]], dtype=int32)>"
            ]
          },
          "metadata": {},
          "execution_count": 152
        }
      ]
    },
    {
      "cell_type": "code",
      "source": [
        "rank_2_tensor.shape"
      ],
      "metadata": {
        "colab": {
          "base_uri": "https://localhost:8080/"
        },
        "id": "QsXw3nG1Z5l_",
        "outputId": "e01fae7b-aa5e-478e-e515-001bedc440a3"
      },
      "execution_count": 153,
      "outputs": [
        {
          "output_type": "execute_result",
          "data": {
            "text/plain": [
              "TensorShape([2, 2, 1])"
            ]
          },
          "metadata": {},
          "execution_count": 153
        }
      ]
    },
    {
      "cell_type": "markdown",
      "source": [
        "### Tensor operations and manipulating them"
      ],
      "metadata": {
        "id": "MAmk4f-saBnb"
      }
    },
    {
      "cell_type": "code",
      "source": [
        "rank_2_tensor"
      ],
      "metadata": {
        "colab": {
          "base_uri": "https://localhost:8080/"
        },
        "id": "2obgjZv6ayK5",
        "outputId": "f19a85ad-6786-471a-cb25-7ae8c380f3ff"
      },
      "execution_count": 154,
      "outputs": [
        {
          "output_type": "execute_result",
          "data": {
            "text/plain": [
              "<tf.Tensor: shape=(2, 2, 1), dtype=int32, numpy=\n",
              "array([[[1],\n",
              "        [2]],\n",
              "\n",
              "       [[3],\n",
              "        [4]]], dtype=int32)>"
            ]
          },
          "metadata": {},
          "execution_count": 154
        }
      ]
    },
    {
      "cell_type": "code",
      "source": [
        "rank_2_tensor + 10, rank_2_tensor - 10, rank_2_tensor * 10, rank_2_tensor / 10, rank_2_tensor % 10"
      ],
      "metadata": {
        "colab": {
          "base_uri": "https://localhost:8080/"
        },
        "id": "pDR2ZbSjaJsG",
        "outputId": "27df2a02-6088-437b-a490-1318614d122d"
      },
      "execution_count": 155,
      "outputs": [
        {
          "output_type": "execute_result",
          "data": {
            "text/plain": [
              "(<tf.Tensor: shape=(2, 2, 1), dtype=int32, numpy=\n",
              " array([[[11],\n",
              "         [12]],\n",
              " \n",
              "        [[13],\n",
              "         [14]]], dtype=int32)>,\n",
              " <tf.Tensor: shape=(2, 2, 1), dtype=int32, numpy=\n",
              " array([[[-9],\n",
              "         [-8]],\n",
              " \n",
              "        [[-7],\n",
              "         [-6]]], dtype=int32)>,\n",
              " <tf.Tensor: shape=(2, 2, 1), dtype=int32, numpy=\n",
              " array([[[10],\n",
              "         [20]],\n",
              " \n",
              "        [[30],\n",
              "         [40]]], dtype=int32)>,\n",
              " <tf.Tensor: shape=(2, 2, 1), dtype=float64, numpy=\n",
              " array([[[0.1],\n",
              "         [0.2]],\n",
              " \n",
              "        [[0.3],\n",
              "         [0.4]]])>,\n",
              " <tf.Tensor: shape=(2, 2, 1), dtype=int32, numpy=\n",
              " array([[[1],\n",
              "         [2]],\n",
              " \n",
              "        [[3],\n",
              "         [4]]], dtype=int32)>)"
            ]
          },
          "metadata": {},
          "execution_count": 155
        }
      ]
    },
    {
      "cell_type": "code",
      "source": [
        "tf.multiply(rank_2_tensor,10)"
      ],
      "metadata": {
        "colab": {
          "base_uri": "https://localhost:8080/"
        },
        "id": "suPDVJEiav3O",
        "outputId": "f8ca63e2-2d8e-4bcd-ffa4-51731cf036ac"
      },
      "execution_count": 156,
      "outputs": [
        {
          "output_type": "execute_result",
          "data": {
            "text/plain": [
              "<tf.Tensor: shape=(2, 2, 1), dtype=int32, numpy=\n",
              "array([[[10],\n",
              "        [20]],\n",
              "\n",
              "       [[30],\n",
              "        [40]]], dtype=int32)>"
            ]
          },
          "metadata": {},
          "execution_count": 156
        }
      ]
    },
    {
      "cell_type": "markdown",
      "source": [
        "## Matrix Multiplication\n",
        "\n",
        "> One of the most used operation in ML as well as in DL.\n",
        "\n",
        "\n",
        "* tf.matmul()\n",
        "* tf.tensordot()"
      ],
      "metadata": {
        "id": "A2dRWPTtbTf-"
      }
    },
    {
      "cell_type": "code",
      "source": [
        "matrix_1= tf.constant([[1,2,5], [7,2,1], [3,3,3,]])\n",
        "matrix_1"
      ],
      "metadata": {
        "colab": {
          "base_uri": "https://localhost:8080/"
        },
        "id": "S9bNUmHKcUVi",
        "outputId": "adb81b7b-ee62-4363-ae8a-8f3413f0ab76"
      },
      "execution_count": 157,
      "outputs": [
        {
          "output_type": "execute_result",
          "data": {
            "text/plain": [
              "<tf.Tensor: shape=(3, 3), dtype=int32, numpy=\n",
              "array([[1, 2, 5],\n",
              "       [7, 2, 1],\n",
              "       [3, 3, 3]], dtype=int32)>"
            ]
          },
          "metadata": {},
          "execution_count": 157
        }
      ]
    },
    {
      "cell_type": "code",
      "source": [
        "matrix_2=tf.constant([[3,5],[6,7],[1,8]])\n",
        "matrix_2"
      ],
      "metadata": {
        "colab": {
          "base_uri": "https://localhost:8080/"
        },
        "id": "EXYvFgoSCi5A",
        "outputId": "5fb1bfb4-8b78-4988-82ec-1511ded0dc02"
      },
      "execution_count": 158,
      "outputs": [
        {
          "output_type": "execute_result",
          "data": {
            "text/plain": [
              "<tf.Tensor: shape=(3, 2), dtype=int32, numpy=\n",
              "array([[3, 5],\n",
              "       [6, 7],\n",
              "       [1, 8]], dtype=int32)>"
            ]
          },
          "metadata": {},
          "execution_count": 158
        }
      ]
    },
    {
      "cell_type": "code",
      "source": [
        "tf.matmul(matrix_1, matrix_2)"
      ],
      "metadata": {
        "colab": {
          "base_uri": "https://localhost:8080/"
        },
        "id": "ulRfc7iOCo-F",
        "outputId": "6d5f0c2d-af85-4644-bc30-2a711e84c648"
      },
      "execution_count": 159,
      "outputs": [
        {
          "output_type": "execute_result",
          "data": {
            "text/plain": [
              "<tf.Tensor: shape=(3, 2), dtype=int32, numpy=\n",
              "array([[20, 59],\n",
              "       [34, 57],\n",
              "       [30, 60]], dtype=int32)>"
            ]
          },
          "metadata": {},
          "execution_count": 159
        }
      ]
    },
    {
      "cell_type": "code",
      "source": [
        "# matrix_1 * matrix_2"
      ],
      "metadata": {
        "id": "IdiJlKepCsxw"
      },
      "execution_count": 160,
      "outputs": []
    },
    {
      "cell_type": "code",
      "source": [
        "matrix_1 @ matrix_2"
      ],
      "metadata": {
        "colab": {
          "base_uri": "https://localhost:8080/"
        },
        "id": "Lcp3fDU3Cytt",
        "outputId": "b924b84f-5f90-41b5-9784-7931cb72d5a0"
      },
      "execution_count": 161,
      "outputs": [
        {
          "output_type": "execute_result",
          "data": {
            "text/plain": [
              "<tf.Tensor: shape=(3, 2), dtype=int32, numpy=\n",
              "array([[20, 59],\n",
              "       [34, 57],\n",
              "       [30, 60]], dtype=int32)>"
            ]
          },
          "metadata": {},
          "execution_count": 161
        }
      ]
    },
    {
      "cell_type": "code",
      "source": [
        "matrix_3=tf.constant([[2,2], [3,3],[3,2],[4,2],[5,1],[5,2]])\n",
        "matrix_3"
      ],
      "metadata": {
        "colab": {
          "base_uri": "https://localhost:8080/"
        },
        "id": "wkIIhLhMC4Vl",
        "outputId": "1deca693-2588-4a60-d4f9-f3d9a02cd132"
      },
      "execution_count": 162,
      "outputs": [
        {
          "output_type": "execute_result",
          "data": {
            "text/plain": [
              "<tf.Tensor: shape=(6, 2), dtype=int32, numpy=\n",
              "array([[2, 2],\n",
              "       [3, 3],\n",
              "       [3, 2],\n",
              "       [4, 2],\n",
              "       [5, 1],\n",
              "       [5, 2]], dtype=int32)>"
            ]
          },
          "metadata": {},
          "execution_count": 162
        }
      ]
    },
    {
      "cell_type": "code",
      "source": [
        "# matrix_1 @ matrix_3"
      ],
      "metadata": {
        "id": "_GNwXzu0ECj8"
      },
      "execution_count": 163,
      "outputs": []
    },
    {
      "cell_type": "code",
      "source": [
        "# matrix_3=matrix_3[..., tf.newaxis]\n",
        "# matrix_3"
      ],
      "metadata": {
        "id": "87BVzAF0EF3c"
      },
      "execution_count": 164,
      "outputs": []
    },
    {
      "cell_type": "code",
      "source": [
        "matrix_3=tf.reshape(matrix_3, shape=(3,4))\n",
        "matrix_3"
      ],
      "metadata": {
        "colab": {
          "base_uri": "https://localhost:8080/"
        },
        "id": "XaWErL-aEXy1",
        "outputId": "1960fa24-c7d2-4ed3-f124-ff50222b5c09"
      },
      "execution_count": 165,
      "outputs": [
        {
          "output_type": "execute_result",
          "data": {
            "text/plain": [
              "<tf.Tensor: shape=(3, 4), dtype=int32, numpy=\n",
              "array([[2, 2, 3, 3],\n",
              "       [3, 2, 4, 2],\n",
              "       [5, 1, 5, 2]], dtype=int32)>"
            ]
          },
          "metadata": {},
          "execution_count": 165
        }
      ]
    },
    {
      "cell_type": "code",
      "source": [
        "matrix_1 @ matrix_3"
      ],
      "metadata": {
        "colab": {
          "base_uri": "https://localhost:8080/"
        },
        "id": "zux8ymn3FAO4",
        "outputId": "1f86624e-3632-433c-b6e8-aab52097485a"
      },
      "execution_count": 166,
      "outputs": [
        {
          "output_type": "execute_result",
          "data": {
            "text/plain": [
              "<tf.Tensor: shape=(3, 4), dtype=int32, numpy=\n",
              "array([[33, 11, 36, 17],\n",
              "       [25, 19, 34, 27],\n",
              "       [30, 15, 36, 21]], dtype=int32)>"
            ]
          },
          "metadata": {},
          "execution_count": 166
        }
      ]
    },
    {
      "cell_type": "code",
      "source": [
        "matrix_1, matrix_3"
      ],
      "metadata": {
        "colab": {
          "base_uri": "https://localhost:8080/"
        },
        "id": "kCMgMR_DFnhB",
        "outputId": "e0833cdf-4e25-46fe-84dc-2e2a79eea395"
      },
      "execution_count": 167,
      "outputs": [
        {
          "output_type": "execute_result",
          "data": {
            "text/plain": [
              "(<tf.Tensor: shape=(3, 3), dtype=int32, numpy=\n",
              " array([[1, 2, 5],\n",
              "        [7, 2, 1],\n",
              "        [3, 3, 3]], dtype=int32)>,\n",
              " <tf.Tensor: shape=(3, 4), dtype=int32, numpy=\n",
              " array([[2, 2, 3, 3],\n",
              "        [3, 2, 4, 2],\n",
              "        [5, 1, 5, 2]], dtype=int32)>)"
            ]
          },
          "metadata": {},
          "execution_count": 167
        }
      ]
    },
    {
      "cell_type": "code",
      "source": [
        "tf.tensordot(tf.transpose(matrix_1), matrix_2, axes=1)"
      ],
      "metadata": {
        "colab": {
          "base_uri": "https://localhost:8080/"
        },
        "id": "iFtHqHxFJjkD",
        "outputId": "7432b336-dfb3-4e29-ad38-94f8c3d1cd3a"
      },
      "execution_count": 168,
      "outputs": [
        {
          "output_type": "execute_result",
          "data": {
            "text/plain": [
              "<tf.Tensor: shape=(3, 2), dtype=int32, numpy=\n",
              "array([[48, 78],\n",
              "       [21, 48],\n",
              "       [24, 56]], dtype=int32)>"
            ]
          },
          "metadata": {},
          "execution_count": 168
        }
      ]
    },
    {
      "cell_type": "markdown",
      "source": [
        "### Changing the datatype of a tensor"
      ],
      "metadata": {
        "id": "pkzhUfeZJqx1"
      }
    },
    {
      "cell_type": "code",
      "source": [
        "tf.__version__"
      ],
      "metadata": {
        "colab": {
          "base_uri": "https://localhost:8080/",
          "height": 37
        },
        "id": "K5vPhKsDNno6",
        "outputId": "3b45be78-26b1-42a2-ce0a-073bd537da29"
      },
      "execution_count": 169,
      "outputs": [
        {
          "output_type": "execute_result",
          "data": {
            "text/plain": [
              "'2.8.2'"
            ],
            "application/vnd.google.colaboratory.intrinsic+json": {
              "type": "string"
            }
          },
          "metadata": {},
          "execution_count": 169
        }
      ]
    },
    {
      "cell_type": "code",
      "source": [
        "B= tf.constant([7.,2.,3.,5.])\n",
        "B.dtype"
      ],
      "metadata": {
        "colab": {
          "base_uri": "https://localhost:8080/"
        },
        "id": "PThzSxl7NfeP",
        "outputId": "816823e1-2b50-42ac-e753-adc6ba241928"
      },
      "execution_count": 170,
      "outputs": [
        {
          "output_type": "execute_result",
          "data": {
            "text/plain": [
              "tf.float32"
            ]
          },
          "metadata": {},
          "execution_count": 170
        }
      ]
    },
    {
      "cell_type": "code",
      "source": [
        "C= tf.constant([7,2,3,5])\n",
        "C.dtype"
      ],
      "metadata": {
        "colab": {
          "base_uri": "https://localhost:8080/"
        },
        "id": "_CXdU5UUNjmt",
        "outputId": "9a6244ff-145c-4067-901d-b343daf5efed"
      },
      "execution_count": 171,
      "outputs": [
        {
          "output_type": "execute_result",
          "data": {
            "text/plain": [
              "tf.int32"
            ]
          },
          "metadata": {},
          "execution_count": 171
        }
      ]
    },
    {
      "cell_type": "markdown",
      "source": [
        "#### Change from float32 to float16(reduced precision)"
      ],
      "metadata": {
        "id": "EPxiJ-Y7NuXS"
      }
    },
    {
      "cell_type": "code",
      "source": [
        "D= tf.cast(B, dtype=tf.float16)\n",
        "B, D"
      ],
      "metadata": {
        "colab": {
          "base_uri": "https://localhost:8080/"
        },
        "id": "QRsH_GG1OZP_",
        "outputId": "caa8bfa9-58f7-4fa4-c7d1-62d9ecc62d1c"
      },
      "execution_count": 172,
      "outputs": [
        {
          "output_type": "execute_result",
          "data": {
            "text/plain": [
              "(<tf.Tensor: shape=(4,), dtype=float32, numpy=array([7., 2., 3., 5.], dtype=float32)>,\n",
              " <tf.Tensor: shape=(4,), dtype=float16, numpy=array([7., 2., 3., 5.], dtype=float16)>)"
            ]
          },
          "metadata": {},
          "execution_count": 172
        }
      ]
    },
    {
      "cell_type": "markdown",
      "source": [
        "#### Change from int32 to float32"
      ],
      "metadata": {
        "id": "w3xvfG-oOiUV"
      }
    },
    {
      "cell_type": "code",
      "source": [
        "E= tf.cast(C, dtype=tf.float32)\n",
        "C, E"
      ],
      "metadata": {
        "colab": {
          "base_uri": "https://localhost:8080/"
        },
        "id": "j9-Fn1xjO--u",
        "outputId": "ff56d3df-12bb-4c76-ce1f-21e373bd4bee"
      },
      "execution_count": 173,
      "outputs": [
        {
          "output_type": "execute_result",
          "data": {
            "text/plain": [
              "(<tf.Tensor: shape=(4,), dtype=int32, numpy=array([7, 2, 3, 5], dtype=int32)>,\n",
              " <tf.Tensor: shape=(4,), dtype=float32, numpy=array([7., 2., 3., 5.], dtype=float32)>)"
            ]
          },
          "metadata": {},
          "execution_count": 173
        }
      ]
    },
    {
      "cell_type": "markdown",
      "source": [
        "### Aggregrating Tensors\n",
        "\n",
        "> Condensing tensors from multiple values down to a smaller amount of values."
      ],
      "metadata": {
        "id": "rCwM4xnzPI2c"
      }
    },
    {
      "cell_type": "markdown",
      "source": [
        "#### Absolute Values"
      ],
      "metadata": {
        "id": "-a3DiQ0gQJnl"
      }
    },
    {
      "cell_type": "code",
      "source": [
        "F= tf.constant([-1,-5,2,6,-3])\n",
        "F"
      ],
      "metadata": {
        "colab": {
          "base_uri": "https://localhost:8080/"
        },
        "id": "JY--ayAzQVf8",
        "outputId": "82fe7a86-6213-4891-acec-4c27a67c02e9"
      },
      "execution_count": 174,
      "outputs": [
        {
          "output_type": "execute_result",
          "data": {
            "text/plain": [
              "<tf.Tensor: shape=(5,), dtype=int32, numpy=array([-1, -5,  2,  6, -3], dtype=int32)>"
            ]
          },
          "metadata": {},
          "execution_count": 174
        }
      ]
    },
    {
      "cell_type": "code",
      "source": [
        "tf.abs(F)"
      ],
      "metadata": {
        "colab": {
          "base_uri": "https://localhost:8080/"
        },
        "id": "DuiprZmOQblB",
        "outputId": "be3adc02-c2ee-4424-a3bd-87fa47b02b49"
      },
      "execution_count": 175,
      "outputs": [
        {
          "output_type": "execute_result",
          "data": {
            "text/plain": [
              "<tf.Tensor: shape=(5,), dtype=int32, numpy=array([1, 5, 2, 6, 3], dtype=int32)>"
            ]
          },
          "metadata": {},
          "execution_count": 175
        }
      ]
    },
    {
      "cell_type": "markdown",
      "source": [
        "### Forms of Aggregration\n",
        "\n",
        "* Minimum\n",
        "* Maximum\n",
        "* Mean of a tensor\n",
        "* Sum of a tensor"
      ],
      "metadata": {
        "id": "0T0kxrOlQeLW"
      }
    },
    {
      "cell_type": "code",
      "source": [
        "tf.reduce_min(F)"
      ],
      "metadata": {
        "colab": {
          "base_uri": "https://localhost:8080/"
        },
        "id": "VhZG4i1fQ1_b",
        "outputId": "e01c27a6-66cd-4fec-c962-fa80f2e99c9c"
      },
      "execution_count": 176,
      "outputs": [
        {
          "output_type": "execute_result",
          "data": {
            "text/plain": [
              "<tf.Tensor: shape=(), dtype=int32, numpy=-5>"
            ]
          },
          "metadata": {},
          "execution_count": 176
        }
      ]
    },
    {
      "cell_type": "code",
      "source": [
        "tf.reduce_max(F)"
      ],
      "metadata": {
        "colab": {
          "base_uri": "https://localhost:8080/"
        },
        "id": "nNWQh_3FRHbg",
        "outputId": "6153c14a-137b-4d7f-95fa-e21dbda03adb"
      },
      "execution_count": 177,
      "outputs": [
        {
          "output_type": "execute_result",
          "data": {
            "text/plain": [
              "<tf.Tensor: shape=(), dtype=int32, numpy=6>"
            ]
          },
          "metadata": {},
          "execution_count": 177
        }
      ]
    },
    {
      "cell_type": "code",
      "source": [
        "tf.reduce_mean(F)"
      ],
      "metadata": {
        "colab": {
          "base_uri": "https://localhost:8080/"
        },
        "id": "PbTVzXq-RR6h",
        "outputId": "d2e580e4-eca8-4011-8d51-93cf4844821e"
      },
      "execution_count": 178,
      "outputs": [
        {
          "output_type": "execute_result",
          "data": {
            "text/plain": [
              "<tf.Tensor: shape=(), dtype=int32, numpy=0>"
            ]
          },
          "metadata": {},
          "execution_count": 178
        }
      ]
    },
    {
      "cell_type": "code",
      "source": [
        "F"
      ],
      "metadata": {
        "colab": {
          "base_uri": "https://localhost:8080/"
        },
        "id": "k0lvoqemRxSs",
        "outputId": "6b1bc1eb-caf6-4463-e86b-0783407401b4"
      },
      "execution_count": 179,
      "outputs": [
        {
          "output_type": "execute_result",
          "data": {
            "text/plain": [
              "<tf.Tensor: shape=(5,), dtype=int32, numpy=array([-1, -5,  2,  6, -3], dtype=int32)>"
            ]
          },
          "metadata": {},
          "execution_count": 179
        }
      ]
    },
    {
      "cell_type": "code",
      "source": [
        "E"
      ],
      "metadata": {
        "colab": {
          "base_uri": "https://localhost:8080/"
        },
        "id": "dGUiDwJNTnWL",
        "outputId": "1a02b462-045d-4ce6-8e39-b0b5327dae04"
      },
      "execution_count": 180,
      "outputs": [
        {
          "output_type": "execute_result",
          "data": {
            "text/plain": [
              "<tf.Tensor: shape=(4,), dtype=float32, numpy=array([7., 2., 3., 5.], dtype=float32)>"
            ]
          },
          "metadata": {},
          "execution_count": 180
        }
      ]
    },
    {
      "cell_type": "code",
      "source": [
        "tf.reduce_sum(F)"
      ],
      "metadata": {
        "colab": {
          "base_uri": "https://localhost:8080/"
        },
        "id": "kRrFi5XgR3nJ",
        "outputId": "d69c998d-28ad-4c23-8477-4845dbc43e78"
      },
      "execution_count": 181,
      "outputs": [
        {
          "output_type": "execute_result",
          "data": {
            "text/plain": [
              "<tf.Tensor: shape=(), dtype=int32, numpy=-1>"
            ]
          },
          "metadata": {},
          "execution_count": 181
        }
      ]
    },
    {
      "cell_type": "code",
      "source": [
        "tf.math.reduce_variance(F)"
      ],
      "metadata": {
        "colab": {
          "base_uri": "https://localhost:8080/",
          "height": 350
        },
        "id": "gzr7MKsPSDgD",
        "outputId": "552cb24c-899f-491c-e512-52cd0f7de80a"
      },
      "execution_count": 182,
      "outputs": [
        {
          "output_type": "error",
          "ename": "TypeError",
          "evalue": "ignored",
          "traceback": [
            "\u001b[0;31m---------------------------------------------------------------------------\u001b[0m",
            "\u001b[0;31mTypeError\u001b[0m                                 Traceback (most recent call last)",
            "\u001b[0;32m<ipython-input-182-ea901b3ddbe8>\u001b[0m in \u001b[0;36m<module>\u001b[0;34m()\u001b[0m\n\u001b[0;32m----> 1\u001b[0;31m \u001b[0mtf\u001b[0m\u001b[0;34m.\u001b[0m\u001b[0mmath\u001b[0m\u001b[0;34m.\u001b[0m\u001b[0mreduce_variance\u001b[0m\u001b[0;34m(\u001b[0m\u001b[0mF\u001b[0m\u001b[0;34m)\u001b[0m\u001b[0;34m\u001b[0m\u001b[0;34m\u001b[0m\u001b[0m\n\u001b[0m",
            "\u001b[0;32m/usr/local/lib/python3.7/dist-packages/tensorflow/python/util/traceback_utils.py\u001b[0m in \u001b[0;36merror_handler\u001b[0;34m(*args, **kwargs)\u001b[0m\n\u001b[1;32m    151\u001b[0m     \u001b[0;32mexcept\u001b[0m \u001b[0mException\u001b[0m \u001b[0;32mas\u001b[0m \u001b[0me\u001b[0m\u001b[0;34m:\u001b[0m\u001b[0;34m\u001b[0m\u001b[0;34m\u001b[0m\u001b[0m\n\u001b[1;32m    152\u001b[0m       \u001b[0mfiltered_tb\u001b[0m \u001b[0;34m=\u001b[0m \u001b[0m_process_traceback_frames\u001b[0m\u001b[0;34m(\u001b[0m\u001b[0me\u001b[0m\u001b[0;34m.\u001b[0m\u001b[0m__traceback__\u001b[0m\u001b[0;34m)\u001b[0m\u001b[0;34m\u001b[0m\u001b[0;34m\u001b[0m\u001b[0m\n\u001b[0;32m--> 153\u001b[0;31m       \u001b[0;32mraise\u001b[0m \u001b[0me\u001b[0m\u001b[0;34m.\u001b[0m\u001b[0mwith_traceback\u001b[0m\u001b[0;34m(\u001b[0m\u001b[0mfiltered_tb\u001b[0m\u001b[0;34m)\u001b[0m \u001b[0;32mfrom\u001b[0m \u001b[0;32mNone\u001b[0m\u001b[0;34m\u001b[0m\u001b[0;34m\u001b[0m\u001b[0m\n\u001b[0m\u001b[1;32m    154\u001b[0m     \u001b[0;32mfinally\u001b[0m\u001b[0;34m:\u001b[0m\u001b[0;34m\u001b[0m\u001b[0;34m\u001b[0m\u001b[0m\n\u001b[1;32m    155\u001b[0m       \u001b[0;32mdel\u001b[0m \u001b[0mfiltered_tb\u001b[0m\u001b[0;34m\u001b[0m\u001b[0;34m\u001b[0m\u001b[0m\n",
            "\u001b[0;32m/usr/local/lib/python3.7/dist-packages/tensorflow/python/ops/math_ops.py\u001b[0m in \u001b[0;36mreduce_variance\u001b[0;34m(input_tensor, axis, keepdims, name)\u001b[0m\n\u001b[1;32m   2691\u001b[0m     \u001b[0mmeans\u001b[0m \u001b[0;34m=\u001b[0m \u001b[0mreduce_mean\u001b[0m\u001b[0;34m(\u001b[0m\u001b[0minput_tensor\u001b[0m\u001b[0;34m,\u001b[0m \u001b[0maxis\u001b[0m\u001b[0;34m=\u001b[0m\u001b[0maxis\u001b[0m\u001b[0;34m,\u001b[0m \u001b[0mkeepdims\u001b[0m\u001b[0;34m=\u001b[0m\u001b[0;32mTrue\u001b[0m\u001b[0;34m)\u001b[0m\u001b[0;34m\u001b[0m\u001b[0;34m\u001b[0m\u001b[0m\n\u001b[1;32m   2692\u001b[0m     \u001b[0;32mif\u001b[0m \u001b[0mmeans\u001b[0m\u001b[0;34m.\u001b[0m\u001b[0mdtype\u001b[0m\u001b[0;34m.\u001b[0m\u001b[0mis_integer\u001b[0m\u001b[0;34m:\u001b[0m\u001b[0;34m\u001b[0m\u001b[0;34m\u001b[0m\u001b[0m\n\u001b[0;32m-> 2693\u001b[0;31m       raise TypeError(f\"Input must be either real or complex. \"\n\u001b[0m\u001b[1;32m   2694\u001b[0m                       f\"Received integer type {means.dtype}.\")\n\u001b[1;32m   2695\u001b[0m     \u001b[0mdiff\u001b[0m \u001b[0;34m=\u001b[0m \u001b[0minput_tensor\u001b[0m \u001b[0;34m-\u001b[0m \u001b[0mmeans\u001b[0m\u001b[0;34m\u001b[0m\u001b[0;34m\u001b[0m\u001b[0m\n",
            "\u001b[0;31mTypeError\u001b[0m: Input must be either real or complex. Received integer type <dtype: 'int32'>."
          ]
        }
      ]
    },
    {
      "cell_type": "code",
      "source": [
        "tf.math.reduce_std(F)"
      ],
      "metadata": {
        "colab": {
          "base_uri": "https://localhost:8080/",
          "height": 350
        },
        "id": "3n0hWvuySWXV",
        "outputId": "de884bda-b8fb-44b1-9f8e-81a929d4ef0b"
      },
      "execution_count": 183,
      "outputs": [
        {
          "output_type": "error",
          "ename": "TypeError",
          "evalue": "ignored",
          "traceback": [
            "\u001b[0;31m---------------------------------------------------------------------------\u001b[0m",
            "\u001b[0;31mTypeError\u001b[0m                                 Traceback (most recent call last)",
            "\u001b[0;32m<ipython-input-183-9d3f0b57191f>\u001b[0m in \u001b[0;36m<module>\u001b[0;34m()\u001b[0m\n\u001b[0;32m----> 1\u001b[0;31m \u001b[0mtf\u001b[0m\u001b[0;34m.\u001b[0m\u001b[0mmath\u001b[0m\u001b[0;34m.\u001b[0m\u001b[0mreduce_std\u001b[0m\u001b[0;34m(\u001b[0m\u001b[0mF\u001b[0m\u001b[0;34m)\u001b[0m\u001b[0;34m\u001b[0m\u001b[0;34m\u001b[0m\u001b[0m\n\u001b[0m",
            "\u001b[0;32m/usr/local/lib/python3.7/dist-packages/tensorflow/python/util/traceback_utils.py\u001b[0m in \u001b[0;36merror_handler\u001b[0;34m(*args, **kwargs)\u001b[0m\n\u001b[1;32m    151\u001b[0m     \u001b[0;32mexcept\u001b[0m \u001b[0mException\u001b[0m \u001b[0;32mas\u001b[0m \u001b[0me\u001b[0m\u001b[0;34m:\u001b[0m\u001b[0;34m\u001b[0m\u001b[0;34m\u001b[0m\u001b[0m\n\u001b[1;32m    152\u001b[0m       \u001b[0mfiltered_tb\u001b[0m \u001b[0;34m=\u001b[0m \u001b[0m_process_traceback_frames\u001b[0m\u001b[0;34m(\u001b[0m\u001b[0me\u001b[0m\u001b[0;34m.\u001b[0m\u001b[0m__traceback__\u001b[0m\u001b[0;34m)\u001b[0m\u001b[0;34m\u001b[0m\u001b[0;34m\u001b[0m\u001b[0m\n\u001b[0;32m--> 153\u001b[0;31m       \u001b[0;32mraise\u001b[0m \u001b[0me\u001b[0m\u001b[0;34m.\u001b[0m\u001b[0mwith_traceback\u001b[0m\u001b[0;34m(\u001b[0m\u001b[0mfiltered_tb\u001b[0m\u001b[0;34m)\u001b[0m \u001b[0;32mfrom\u001b[0m \u001b[0;32mNone\u001b[0m\u001b[0;34m\u001b[0m\u001b[0;34m\u001b[0m\u001b[0m\n\u001b[0m\u001b[1;32m    154\u001b[0m     \u001b[0;32mfinally\u001b[0m\u001b[0;34m:\u001b[0m\u001b[0;34m\u001b[0m\u001b[0;34m\u001b[0m\u001b[0m\n\u001b[1;32m    155\u001b[0m       \u001b[0;32mdel\u001b[0m \u001b[0mfiltered_tb\u001b[0m\u001b[0;34m\u001b[0m\u001b[0;34m\u001b[0m\u001b[0m\n",
            "\u001b[0;32m/usr/local/lib/python3.7/dist-packages/tensorflow/python/ops/math_ops.py\u001b[0m in \u001b[0;36mreduce_variance\u001b[0;34m(input_tensor, axis, keepdims, name)\u001b[0m\n\u001b[1;32m   2691\u001b[0m     \u001b[0mmeans\u001b[0m \u001b[0;34m=\u001b[0m \u001b[0mreduce_mean\u001b[0m\u001b[0;34m(\u001b[0m\u001b[0minput_tensor\u001b[0m\u001b[0;34m,\u001b[0m \u001b[0maxis\u001b[0m\u001b[0;34m=\u001b[0m\u001b[0maxis\u001b[0m\u001b[0;34m,\u001b[0m \u001b[0mkeepdims\u001b[0m\u001b[0;34m=\u001b[0m\u001b[0;32mTrue\u001b[0m\u001b[0;34m)\u001b[0m\u001b[0;34m\u001b[0m\u001b[0;34m\u001b[0m\u001b[0m\n\u001b[1;32m   2692\u001b[0m     \u001b[0;32mif\u001b[0m \u001b[0mmeans\u001b[0m\u001b[0;34m.\u001b[0m\u001b[0mdtype\u001b[0m\u001b[0;34m.\u001b[0m\u001b[0mis_integer\u001b[0m\u001b[0;34m:\u001b[0m\u001b[0;34m\u001b[0m\u001b[0;34m\u001b[0m\u001b[0m\n\u001b[0;32m-> 2693\u001b[0;31m       raise TypeError(f\"Input must be either real or complex. \"\n\u001b[0m\u001b[1;32m   2694\u001b[0m                       f\"Received integer type {means.dtype}.\")\n\u001b[1;32m   2695\u001b[0m     \u001b[0mdiff\u001b[0m \u001b[0;34m=\u001b[0m \u001b[0minput_tensor\u001b[0m \u001b[0;34m-\u001b[0m \u001b[0mmeans\u001b[0m\u001b[0;34m\u001b[0m\u001b[0;34m\u001b[0m\u001b[0m\n",
            "\u001b[0;31mTypeError\u001b[0m: Input must be either real or complex. Received integer type <dtype: 'int32'>."
          ]
        }
      ]
    },
    {
      "cell_type": "code",
      "source": [
        "tf.math.reduce_variance(E)"
      ],
      "metadata": {
        "colab": {
          "base_uri": "https://localhost:8080/"
        },
        "id": "1_FfHHL7Sy4W",
        "outputId": "abb484ed-8328-4760-8890-15a7b025e1d8"
      },
      "execution_count": 184,
      "outputs": [
        {
          "output_type": "execute_result",
          "data": {
            "text/plain": [
              "<tf.Tensor: shape=(), dtype=float32, numpy=3.6875>"
            ]
          },
          "metadata": {},
          "execution_count": 184
        }
      ]
    },
    {
      "cell_type": "code",
      "source": [
        "tf.math.reduce_std(E)"
      ],
      "metadata": {
        "colab": {
          "base_uri": "https://localhost:8080/"
        },
        "id": "4Vks1FvbTvuf",
        "outputId": "aaad4337-dc42-4274-9f09-8489964622be"
      },
      "execution_count": 185,
      "outputs": [
        {
          "output_type": "execute_result",
          "data": {
            "text/plain": [
              "<tf.Tensor: shape=(), dtype=float32, numpy=1.9202864>"
            ]
          },
          "metadata": {},
          "execution_count": 185
        }
      ]
    },
    {
      "cell_type": "markdown",
      "source": [
        "### Tensorflow Probability"
      ],
      "metadata": {
        "id": "V3H1C4vuUcDG"
      }
    },
    {
      "cell_type": "code",
      "source": [
        "import tensorflow_probability as tfp"
      ],
      "metadata": {
        "id": "LAsaD2-lTy45"
      },
      "execution_count": 186,
      "outputs": []
    },
    {
      "cell_type": "code",
      "source": [
        "tfp.stats.variance(E)"
      ],
      "metadata": {
        "colab": {
          "base_uri": "https://localhost:8080/"
        },
        "id": "gILl4uLiUaW8",
        "outputId": "965e944d-6377-48a4-ab1f-e2326f766899"
      },
      "execution_count": 187,
      "outputs": [
        {
          "output_type": "execute_result",
          "data": {
            "text/plain": [
              "<tf.Tensor: shape=(), dtype=float32, numpy=3.6875>"
            ]
          },
          "metadata": {},
          "execution_count": 187
        }
      ]
    },
    {
      "cell_type": "code",
      "source": [
        "tfp.stats.stddev(E)"
      ],
      "metadata": {
        "colab": {
          "base_uri": "https://localhost:8080/"
        },
        "id": "3U1XmjjqUhSy",
        "outputId": "9084bcff-6cf0-4d40-b58b-5cedfbce940e"
      },
      "execution_count": 188,
      "outputs": [
        {
          "output_type": "execute_result",
          "data": {
            "text/plain": [
              "<tf.Tensor: shape=(), dtype=float32, numpy=1.9202864>"
            ]
          },
          "metadata": {},
          "execution_count": 188
        }
      ]
    },
    {
      "cell_type": "markdown",
      "source": [
        "### Find the positional maximum and minimum"
      ],
      "metadata": {
        "id": "jS2l-nU8UmEd"
      }
    },
    {
      "cell_type": "code",
      "source": [
        "E"
      ],
      "metadata": {
        "colab": {
          "base_uri": "https://localhost:8080/"
        },
        "id": "baGnG-RYWo3r",
        "outputId": "27c56276-3ec5-4919-e99d-dac915f32803"
      },
      "execution_count": 189,
      "outputs": [
        {
          "output_type": "execute_result",
          "data": {
            "text/plain": [
              "<tf.Tensor: shape=(4,), dtype=float32, numpy=array([7., 2., 3., 5.], dtype=float32)>"
            ]
          },
          "metadata": {},
          "execution_count": 189
        }
      ]
    },
    {
      "cell_type": "code",
      "source": [
        "tf.math.reduce_max(E) # Returns the maximum value"
      ],
      "metadata": {
        "colab": {
          "base_uri": "https://localhost:8080/"
        },
        "id": "e9vCxAU4VlPA",
        "outputId": "4c31ca81-a6cd-4485-b6dd-f571cb4b7a8d"
      },
      "execution_count": 190,
      "outputs": [
        {
          "output_type": "execute_result",
          "data": {
            "text/plain": [
              "<tf.Tensor: shape=(), dtype=float32, numpy=7.0>"
            ]
          },
          "metadata": {},
          "execution_count": 190
        }
      ]
    },
    {
      "cell_type": "code",
      "source": [
        "tf.math.argmax(E) # Returns the index of the maximum value"
      ],
      "metadata": {
        "colab": {
          "base_uri": "https://localhost:8080/"
        },
        "id": "94HPVNfmWHPa",
        "outputId": "e4c14533-fa8c-4bc4-85a5-fa63ab6d4777"
      },
      "execution_count": 191,
      "outputs": [
        {
          "output_type": "execute_result",
          "data": {
            "text/plain": [
              "<tf.Tensor: shape=(), dtype=int64, numpy=0>"
            ]
          },
          "metadata": {},
          "execution_count": 191
        }
      ]
    },
    {
      "cell_type": "code",
      "source": [
        "tf.math.reduce_min(E) # Returns the minimum value"
      ],
      "metadata": {
        "colab": {
          "base_uri": "https://localhost:8080/"
        },
        "id": "zexbifenWNQR",
        "outputId": "4b2bd042-ed0a-40df-91cd-deea748f7512"
      },
      "execution_count": 192,
      "outputs": [
        {
          "output_type": "execute_result",
          "data": {
            "text/plain": [
              "<tf.Tensor: shape=(), dtype=float32, numpy=2.0>"
            ]
          },
          "metadata": {},
          "execution_count": 192
        }
      ]
    },
    {
      "cell_type": "code",
      "source": [
        "tf.math.argmin(E) # Returns the index of the minimum value"
      ],
      "metadata": {
        "colab": {
          "base_uri": "https://localhost:8080/"
        },
        "id": "mgPWr50UW9F_",
        "outputId": "88c53280-39af-4864-86e5-316d66196b15"
      },
      "execution_count": 193,
      "outputs": [
        {
          "output_type": "execute_result",
          "data": {
            "text/plain": [
              "<tf.Tensor: shape=(), dtype=int64, numpy=1>"
            ]
          },
          "metadata": {},
          "execution_count": 193
        }
      ]
    },
    {
      "cell_type": "markdown",
      "source": [
        "### Squeezing the tensor\n",
        "\n",
        "> Removing all single dimensions"
      ],
      "metadata": {
        "id": "SeRFAfwtW_SH"
      }
    },
    {
      "cell_type": "code",
      "source": [
        "tf.random.set_seed(69)\n",
        "G= tf.constant(tf.random.uniform(shape=[50]), shape=(1,1,1,1,50))\n",
        "G"
      ],
      "metadata": {
        "colab": {
          "base_uri": "https://localhost:8080/"
        },
        "id": "WWSGHkqEZuCC",
        "outputId": "e87ab984-062d-443d-eb8f-3f322623eb70"
      },
      "execution_count": 194,
      "outputs": [
        {
          "output_type": "execute_result",
          "data": {
            "text/plain": [
              "<tf.Tensor: shape=(1, 1, 1, 1, 50), dtype=float32, numpy=\n",
              "array([[[[[5.3272355e-01, 7.6764774e-01, 7.6187789e-01, 2.5841391e-01,\n",
              "           5.6738329e-01, 1.3471830e-01, 4.7002292e-01, 3.5524964e-02,\n",
              "           3.8393617e-01, 1.6981947e-01, 4.4886672e-01, 5.6220615e-01,\n",
              "           5.1936674e-01, 7.7804303e-01, 3.4848118e-01, 5.6664705e-01,\n",
              "           6.1973441e-01, 3.1386054e-01, 5.0863159e-01, 1.2493873e-01,\n",
              "           6.2286139e-01, 3.9865887e-01, 8.9437950e-01, 8.0250156e-01,\n",
              "           6.0539913e-01, 6.2322211e-01, 6.9168448e-01, 3.2230341e-01,\n",
              "           5.5286503e-01, 6.8580091e-01, 9.3656206e-01, 7.2395742e-01,\n",
              "           9.7975111e-01, 6.0671389e-01, 9.5694554e-01, 8.5030973e-01,\n",
              "           2.1026397e-01, 6.1866856e-01, 7.4614286e-01, 9.3863714e-01,\n",
              "           7.7380419e-01, 9.8344505e-01, 8.8855958e-01, 5.8377409e-01,\n",
              "           2.5783134e-01, 4.4455886e-02, 1.0716915e-04, 4.2767525e-03,\n",
              "           4.6135592e-01, 3.7454653e-01]]]]], dtype=float32)>"
            ]
          },
          "metadata": {},
          "execution_count": 194
        }
      ]
    },
    {
      "cell_type": "code",
      "source": [
        "G.shape"
      ],
      "metadata": {
        "colab": {
          "base_uri": "https://localhost:8080/"
        },
        "id": "zVzlfky-Z5Nj",
        "outputId": "fdb9adff-745d-4511-f124-ddb2754e32dc"
      },
      "execution_count": 195,
      "outputs": [
        {
          "output_type": "execute_result",
          "data": {
            "text/plain": [
              "TensorShape([1, 1, 1, 1, 50])"
            ]
          },
          "metadata": {},
          "execution_count": 195
        }
      ]
    },
    {
      "cell_type": "code",
      "source": [
        "G_squeezed= tf.squeeze(G)\n",
        "G_squeezed, G_squeezed.shape"
      ],
      "metadata": {
        "colab": {
          "base_uri": "https://localhost:8080/"
        },
        "id": "WAyZn2CTZ_2R",
        "outputId": "cc6c3aa4-d883-4d72-b773-9c65c3879bb4"
      },
      "execution_count": 196,
      "outputs": [
        {
          "output_type": "execute_result",
          "data": {
            "text/plain": [
              "(<tf.Tensor: shape=(50,), dtype=float32, numpy=\n",
              " array([5.3272355e-01, 7.6764774e-01, 7.6187789e-01, 2.5841391e-01,\n",
              "        5.6738329e-01, 1.3471830e-01, 4.7002292e-01, 3.5524964e-02,\n",
              "        3.8393617e-01, 1.6981947e-01, 4.4886672e-01, 5.6220615e-01,\n",
              "        5.1936674e-01, 7.7804303e-01, 3.4848118e-01, 5.6664705e-01,\n",
              "        6.1973441e-01, 3.1386054e-01, 5.0863159e-01, 1.2493873e-01,\n",
              "        6.2286139e-01, 3.9865887e-01, 8.9437950e-01, 8.0250156e-01,\n",
              "        6.0539913e-01, 6.2322211e-01, 6.9168448e-01, 3.2230341e-01,\n",
              "        5.5286503e-01, 6.8580091e-01, 9.3656206e-01, 7.2395742e-01,\n",
              "        9.7975111e-01, 6.0671389e-01, 9.5694554e-01, 8.5030973e-01,\n",
              "        2.1026397e-01, 6.1866856e-01, 7.4614286e-01, 9.3863714e-01,\n",
              "        7.7380419e-01, 9.8344505e-01, 8.8855958e-01, 5.8377409e-01,\n",
              "        2.5783134e-01, 4.4455886e-02, 1.0716915e-04, 4.2767525e-03,\n",
              "        4.6135592e-01, 3.7454653e-01], dtype=float32)>, TensorShape([50]))"
            ]
          },
          "metadata": {},
          "execution_count": 196
        }
      ]
    },
    {
      "cell_type": "markdown",
      "source": [
        "### One Hot Encoding\n",
        "\n",
        "> It is a form of numerical encoding."
      ],
      "metadata": {
        "id": "bO4kwzDsaEMu"
      }
    },
    {
      "cell_type": "code",
      "source": [
        "someList=[0,1,2,3,4,5]\n",
        "\n",
        "tf.one_hot(someList, depth=6)"
      ],
      "metadata": {
        "colab": {
          "base_uri": "https://localhost:8080/"
        },
        "id": "RGc9foGaaUR_",
        "outputId": "1e02113b-c2f5-40e7-bcde-f38b3d43693b"
      },
      "execution_count": 197,
      "outputs": [
        {
          "output_type": "execute_result",
          "data": {
            "text/plain": [
              "<tf.Tensor: shape=(6, 6), dtype=float32, numpy=\n",
              "array([[1., 0., 0., 0., 0., 0.],\n",
              "       [0., 1., 0., 0., 0., 0.],\n",
              "       [0., 0., 1., 0., 0., 0.],\n",
              "       [0., 0., 0., 1., 0., 0.],\n",
              "       [0., 0., 0., 0., 1., 0.],\n",
              "       [0., 0., 0., 0., 0., 1.]], dtype=float32)>"
            ]
          },
          "metadata": {},
          "execution_count": 197
        }
      ]
    },
    {
      "cell_type": "code",
      "source": [
        "someList=[[0,1],[2,3],[4,5]]\n",
        "\n",
        "tf.one_hot(someList, depth=6)"
      ],
      "metadata": {
        "colab": {
          "base_uri": "https://localhost:8080/"
        },
        "id": "LgHoNruHbG8p",
        "outputId": "50b42581-3484-477d-86b4-45c7bd938fb7"
      },
      "execution_count": 198,
      "outputs": [
        {
          "output_type": "execute_result",
          "data": {
            "text/plain": [
              "<tf.Tensor: shape=(3, 2, 6), dtype=float32, numpy=\n",
              "array([[[1., 0., 0., 0., 0., 0.],\n",
              "        [0., 1., 0., 0., 0., 0.]],\n",
              "\n",
              "       [[0., 0., 1., 0., 0., 0.],\n",
              "        [0., 0., 0., 1., 0., 0.]],\n",
              "\n",
              "       [[0., 0., 0., 0., 1., 0.],\n",
              "        [0., 0., 0., 0., 0., 1.]]], dtype=float32)>"
            ]
          },
          "metadata": {},
          "execution_count": 198
        }
      ]
    },
    {
      "cell_type": "markdown",
      "source": [
        "### Tensors with Numpy Array\n",
        "\n",
        "> Tensorflow interacts with Numpy arrays directly"
      ],
      "metadata": {
        "id": "g2GOnjdSb_Ex"
      }
    },
    {
      "cell_type": "markdown",
      "source": [
        "#### Creating tensor from numpy array"
      ],
      "metadata": {
        "id": "2rxvAvetdTcM"
      }
    },
    {
      "cell_type": "code",
      "source": [
        "J=tf.constant(np.array([3.,7.]))\n",
        "J"
      ],
      "metadata": {
        "colab": {
          "base_uri": "https://localhost:8080/"
        },
        "id": "lxpjd8ahdEyA",
        "outputId": "a736dd2c-db60-4335-f840-278ba9c6cd8f"
      },
      "execution_count": 199,
      "outputs": [
        {
          "output_type": "execute_result",
          "data": {
            "text/plain": [
              "<tf.Tensor: shape=(2,), dtype=float64, numpy=array([3., 7.])>"
            ]
          },
          "metadata": {},
          "execution_count": 199
        }
      ]
    },
    {
      "cell_type": "markdown",
      "source": [
        "#### Converting tensor back to numpy array"
      ],
      "metadata": {
        "id": "KjzR6CGvdLcs"
      }
    },
    {
      "cell_type": "code",
      "source": [
        "np.array(J), type(np.array(J))"
      ],
      "metadata": {
        "colab": {
          "base_uri": "https://localhost:8080/"
        },
        "id": "x0I9npy-da71",
        "outputId": "e2eb21c8-dde0-48c4-c2d5-a6a632512a62"
      },
      "execution_count": 200,
      "outputs": [
        {
          "output_type": "execute_result",
          "data": {
            "text/plain": [
              "(array([3., 7.]), numpy.ndarray)"
            ]
          },
          "metadata": {},
          "execution_count": 200
        }
      ]
    },
    {
      "cell_type": "code",
      "source": [
        "J.numpy(), type(J.numpy())"
      ],
      "metadata": {
        "colab": {
          "base_uri": "https://localhost:8080/"
        },
        "id": "LQocdPDvdeGF",
        "outputId": "9a7beadd-0e18-4281-dc2f-e6d2082080c1"
      },
      "execution_count": 201,
      "outputs": [
        {
          "output_type": "execute_result",
          "data": {
            "text/plain": [
              "(array([3., 7.]), numpy.ndarray)"
            ]
          },
          "metadata": {},
          "execution_count": 201
        }
      ]
    },
    {
      "cell_type": "markdown",
      "source": [
        "#### Default Types"
      ],
      "metadata": {
        "id": "9Q8WygNddlrt"
      }
    },
    {
      "cell_type": "code",
      "source": [
        "numpy_J=tf.constant([np.array([3.,7.])])\n",
        "tensor_J=tf.constant([3.,7.])"
      ],
      "metadata": {
        "id": "_eKXBx7UdzhJ"
      },
      "execution_count": 202,
      "outputs": []
    },
    {
      "cell_type": "code",
      "source": [
        "numpy_J.dtype, tensor_J.dtype"
      ],
      "metadata": {
        "colab": {
          "base_uri": "https://localhost:8080/"
        },
        "id": "y05SxwuJd9De",
        "outputId": "a11049ca-eb0b-4cd3-88dd-b64cf34acbfe"
      },
      "execution_count": 203,
      "outputs": [
        {
          "output_type": "execute_result",
          "data": {
            "text/plain": [
              "(tf.float64, tf.float32)"
            ]
          },
          "metadata": {},
          "execution_count": 203
        }
      ]
    },
    {
      "cell_type": "code",
      "source": [
        "!nvidia-smi"
      ],
      "metadata": {
        "colab": {
          "base_uri": "https://localhost:8080/"
        },
        "id": "IMwf4MVynJ1Q",
        "outputId": "f5f1e7a1-f80c-47d5-e5fc-00efdd74404d"
      },
      "execution_count": 204,
      "outputs": [
        {
          "output_type": "stream",
          "name": "stdout",
          "text": [
            "Mon Jul  4 05:09:11 2022       \n",
            "+-----------------------------------------------------------------------------+\n",
            "| NVIDIA-SMI 460.32.03    Driver Version: 460.32.03    CUDA Version: 11.2     |\n",
            "|-------------------------------+----------------------+----------------------+\n",
            "| GPU  Name        Persistence-M| Bus-Id        Disp.A | Volatile Uncorr. ECC |\n",
            "| Fan  Temp  Perf  Pwr:Usage/Cap|         Memory-Usage | GPU-Util  Compute M. |\n",
            "|                               |                      |               MIG M. |\n",
            "|===============================+======================+======================|\n",
            "|   0  Tesla T4            Off  | 00000000:00:04.0 Off |                    0 |\n",
            "| N/A   77C    P0    34W /  70W |    266MiB / 15109MiB |      0%      Default |\n",
            "|                               |                      |                  N/A |\n",
            "+-------------------------------+----------------------+----------------------+\n",
            "                                                                               \n",
            "+-----------------------------------------------------------------------------+\n",
            "| Processes:                                                                  |\n",
            "|  GPU   GI   CI        PID   Type   Process name                  GPU Memory |\n",
            "|        ID   ID                                                   Usage      |\n",
            "|=============================================================================|\n",
            "+-----------------------------------------------------------------------------+\n"
          ]
        }
      ]
    },
    {
      "cell_type": "markdown",
      "source": [
        "## Exercise\n",
        "\n",
        "![image.png](data:image/png;base64,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)"
      ],
      "metadata": {
        "id": "IBCfVxTreBEe"
      }
    },
    {
      "cell_type": "code",
      "source": [
        "vector= tf.constant([1,2,3])\n",
        "scalar= tf.constant([1,2,3])\n",
        "matrix= tf.constant([[1,2,3],[4,5,6]])"
      ],
      "metadata": {
        "id": "c-PM7mLansnZ"
      },
      "execution_count": 205,
      "outputs": []
    },
    {
      "cell_type": "code",
      "source": [
        "vector.shape, scalar.shape, matrix.shape"
      ],
      "metadata": {
        "colab": {
          "base_uri": "https://localhost:8080/"
        },
        "id": "aTShjp6EoFaq",
        "outputId": "34a81440-9dce-4770-8c88-43f55aae22a0"
      },
      "execution_count": 206,
      "outputs": [
        {
          "output_type": "execute_result",
          "data": {
            "text/plain": [
              "(TensorShape([3]), TensorShape([3]), TensorShape([2, 3]))"
            ]
          },
          "metadata": {},
          "execution_count": 206
        }
      ]
    },
    {
      "cell_type": "code",
      "source": [
        "random= tf.random.uniform(shape=[5,300])\n",
        "random\n"
      ],
      "metadata": {
        "colab": {
          "base_uri": "https://localhost:8080/"
        },
        "id": "pMCcNVS2oFLJ",
        "outputId": "15f4565c-29cc-4a78-e25b-c7ec9d2fdc69"
      },
      "execution_count": 209,
      "outputs": [
        {
          "output_type": "execute_result",
          "data": {
            "text/plain": [
              "<tf.Tensor: shape=(5, 300), dtype=float32, numpy=\n",
              "array([[0.6216024 , 0.21715796, 0.82227314, ..., 0.4070983 , 0.6445987 ,\n",
              "        0.83410656],\n",
              "       [0.54126227, 0.5809537 , 0.54659   , ..., 0.9756745 , 0.15846753,\n",
              "        0.08773339],\n",
              "       [0.20031321, 0.7614219 , 0.39034605, ..., 0.43138278, 0.9360678 ,\n",
              "        0.6819711 ],\n",
              "       [0.5777608 , 0.04499626, 0.04300141, ..., 0.260615  , 0.9956461 ,\n",
              "        0.2125622 ],\n",
              "       [0.5419458 , 0.47968936, 0.12248731, ..., 0.3929026 , 0.24408484,\n",
              "        0.61974657]], dtype=float32)>"
            ]
          },
          "metadata": {},
          "execution_count": 209
        }
      ]
    },
    {
      "cell_type": "code",
      "source": [
        ""
      ],
      "metadata": {
        "id": "iJWXeZxeoE7z"
      },
      "execution_count": null,
      "outputs": []
    },
    {
      "cell_type": "code",
      "source": [
        ""
      ],
      "metadata": {
        "id": "Qe2MguhnoEsg"
      },
      "execution_count": null,
      "outputs": []
    },
    {
      "cell_type": "code",
      "source": [
        ""
      ],
      "metadata": {
        "id": "3wndKqaFoEdw"
      },
      "execution_count": null,
      "outputs": []
    },
    {
      "cell_type": "code",
      "source": [
        ""
      ],
      "metadata": {
        "id": "1PNkAKngoEOx"
      },
      "execution_count": null,
      "outputs": []
    },
    {
      "cell_type": "markdown",
      "source": [
        "## Extra\n",
        "\n",
        "![image.png](data:image/png;base64,iVBORw0KGgoAAAANSUhEUgAAA1UAAAFvCAIAAAAt43ZzAAAACXBIWXMAAA7EAAAOxAGVKw4bAAAgAElEQVR4nOydd1hUR9fAz9wtLCzLsvQivVcFQey99957FLtJjLHE3ltMTNTYY9cYjSX2XhAL0kR6E0R6317vfH/AAiogWJK8n/N7eHzWvXfmnjn3nJlz556ZRTyBORAIBAKBQCAQvhiof1sAAoFAIBAIBMI/Con/CAQCgUAgEL4sSPxHIBAIBAKB8GVB4j8CgUAgEAiELwsS/xEIBAKBQCB8WZD4j0AgEAgEAuHLgsR/BAKBQCAQCF8WJP4jEAgEAoFA+LIg8R+BQCAQCATClwWJ/wgEAoFAIBC+LEj8RyAQCAQCgfBlwWxsAYRQxQeM8buHEMYY4O0DBAKBQCAQCIT/DI2I/yoiv5phH0VRFf9FCNE0jbXH3j2TQCAQCAQCgfAfoaHxn3ZqD7hcPX19fZqmy0rLVGp1xVGMMYvJNBQY8uUKsUqdJ5fVLPJPgwS9N5+ZF8iq5xQsvLJkyMYw1T8m04fAbLHw1MY+/Dpe0WPx9eWDNqT2/fno135MUD3bMviHy+X/iLoZbsGHfx1ty6jjsOrpxhGLrgg/nyjMZrOPbxtoTtE5f347fkec+rNd6N+D4TRp195JjgwsvfnDkHWhH2Sn7A6rrizrwK7rsCbz2JzJe5M1Hy7k/zKU6aDP4ThanasT90+e/scr+tPUSiAQCJ+BhsZ/GGN/v6bTg78yNzfj8XiYpktKSqOfx5w4dQYARo8Y2qxZUyMjoyYLlihfZT1d+cOusxciwsLrro9lETR83Miega4WXE3564TQq8cP/R1TWrO/1LXtNGLisE7+TqYcZXHG85DzR05cTxaTKUXC/xaUw/AfNw2yYYDo9qZpv0X/tx85agWZ9Fr66xRPFqjCf52+6b7035aHQCAQCB9Pg+I/XR1WS/9m8xct9PLyVCqVAIAQsrOza9EisHWrIIyxt7e3Wq2mAVg01lUou3XsYNPcf+uatQ+ehMuV7454bPvBG7bODtTObJk5BQ2a5d/Kc8PsDXcKMAAA0vOetGnTeA9uxRm6lu7thy8MauH6w7ztz94/sYRlqbePHU+snJ+ibNoN6+DARKDJenDmXkbFbBGWJ+f878x8aLJDz95JU775JVamvP6Xm0AXR/59LU741rearFQFCdOrQEw9Q1NTUwbWMahzLu6zgtWZD/54+M5cFF0WXdzA20TpGpqamrJAyef8f1kvhiWJN04cfcEAzesUYq0EAuFLpEHxn5uN5YSBPfmGfGF5eUFhoUwmYzAYbDbbxMTE0NCQpumysrLi4mK5QmEnFrHVanlpmZ4hf1z/nvnZ2c/TXr1VG2U7+NvgAD6FVTkPjx+6nq3ffODEAV4GFp2+mRsWvexWCQa25+j5Y925FJal3zp0NLTErM3IiV2ddO0HLpjyZOJPYZL3yStPvnYwWfsfVhvLAR0cmACajHvHDtySNVJB/wXo1yEnf6/1jSpl+s9LUw1dGH768Iks8pbrv4365e2DBx/8D048fkawNOHykYR/WwoCgUD492jo+1+ZTKrRaCiKAgAWiwUAIpFIIBDQNE3TNKZpkUSiS9OqKROViOIA0BpaKqs11mI4du3lzkFA51/7ac2xcDlASJTY9PDitlxeyx7tTW6fL2T59Oxqy0SgeXl63dZTKWqAR/G05aGZ3iyzDr1a7Am7+94AsGGwTP0Hjh7RM8jDhs+QFmUnhV87ffpSeF7FPBur47LLqzuwQZ2we+b61x2nje/WzM6QKc1LeHThwO4LsVUJQyxT/wGjh/cI9LAz4VKK8ryXsY9u/Hnyelxp9dwc0rNpM2TEgE7+bk0EurSk8FVC2M3zf1yIqLwSMP2+Pbp1kClFZ5+aNfOq9eS5EzsaPVw+5bekD20Y08inx8jh3Vv5OJjzGIqy3LTo0Mt/nLmdIqIB8bquOLWsrR6qTv/S67j09KqOXISl99cNW3ZPAsAK/PbUlj5GFC48v2D0T1GNjxx0Oq85t7wDG1Rxu8Z/cyobAwBQduP27PnKjYmlt5f22xCqarCGgWHUtN+4YR0DfJ1N6PzY2yf2PHvnghTPtfuIUX3b+DqZ83VAISzMjH96/Y+TFytTClhtlv21tpseUiceXHqWP2pqbx8TprwkM+bOiZ2H7uRb9pg5d0xHVws9dUlaxOXfd594WqjNKUT6Tp1GjO3f0c/RTE9Tlvvyxf1Lf5y5m1oRilOOE/fvmujMwKKbSydeNJs0ZXBbVws9dcnL6FtH9x1+kK0Epu/cw9uGmlMAAMig9/qbPTKOBk87kKJ5n8C10QBLazTIoNWCXev6mFOAy+9vmLj8TilGgq7LDi1tz6eAzru2JPiM85bdX7lVdBPs1kvO35lxacGwbc/baO/drqkLo/1nzhneCv89e86pLBpYFgGDxw3pGuhmY8xlaKQlOanP7/197FTIq/qfvNgWgYNGDese4G5jpIsl+WnPH5w7fvxWugRDo83pDZH+Mvm6NufaXdDv3fw/pGfbbvCYwR39XSwNdTTlOSkRt/46+uej13IAQGaDfzz+TVMWKB+tG/7DdTEAQNX9pfPOzJ24I+bdTNSGlNII+m74c0EAC1Rhv/4Q4jJlchdXPpIWpUdeObj7+GOJ85BZc4a1dDJhywuSH587sPtMbBl54CIQCJ+ABsV/tIamNRoAhAEYDIZSqaQois/nM5nMihUeDCaTz+Mp5PIsX2+Onq6lQIDKhRjTNP3O2IQMXD2aMACwKvlFghwAAHB57PNMdVtPFsvFy5V1vtjCw92QAqCFCS8qX9fSeTFxebS3DUPXzcueefdTpPyz7Aet3zynhRFVsZ0Nx9q1lbVLUIe2+5YtO5EgqZ5qQ4J23/7s7m7CQAAAOjZ+fWZtsoRp886/pgEo065Lf13c0ZRRuScO09jWu4OtV+sOPmtnbb5fhAEAGQbO2rpsiIte5SlgaOXeaqBby84dDi1ecCJOWnNSD/Hbf7NlREdTCud8+Hs2lsOgFVvmBploZWKb2jfrZt+0Q8cWGxZsuJ0vjo5IULVpzqasPN0FVHIRzbT3cNFFAIA4Lu4OzHuxasrK3cWAAqDF0c8SP/+0Ub0aBmTc7ttfVvZowqpojl3g0IXOrfPffJPK8Zq8ees4F45WxUwja8+2gz1aNLeaP3tXdI24g7IbvmyhHpeBAEDP2Knl0B8cnDoUOLX15leYgblHh0lrrdDMOYdT1ABI0HLW1tUDHLX1mjv4mjv4tOvkv/H7n+/m1bBsluOojRu9tLfY3K3t6FVO3O+nbQtXqISFeUVcU2N9FsK0rKygpEisxo0QuFry91vah4CFT/buut1ieTdTyqDt2BGeD3cnOw4b19qAAqALb+/Y90Sob1GcXyA0NTVgI8DyssKSAmHN96WUZa9lY4YFGiB1IkIAlFmXpb8tbG9S6VXA4pk7+nV3bBbk8dP0xVdz6wpcdJxHbNo0zY+vLWbYxLvDaK+gIJel3+yKFjWycW+JpOV9zoX0m07dvH60K1d71MS+aY8pvq0DD3w3/49kReNk+CCY3l+tCtDToxAAcM3c2k1YY+f+ROXTxqlCJB1rn56z1pmqZnx/LodEgAQC4aNpWPyHabVGDQCAMU3TTCYTAEQiEZ/PrzhBrVaLRCIOh6OLMaVQVuwBqNGoMf1OR0WZWZhSAADScmFVRpuoXAQAgDim5nyKYWZhxgAALCwXaotjUbkIAwAyMjdlAnx0/EfZDp03rYURBdLkC7t2X0wS8z36T5/Wx8XQb+oPUxKCf4msGoMZFp6OueEXf3/6Wm3VcmA/PzMW4jbt293p4u8pGob7oIkdTBkIi+PO7zx0P0tp4NRlbHBfV65ll+DhF0N/i1cjfru53w920UOAxUnXT/wVlst06DRyeDtbHQOf8Ysnx3y140X1yILMugy1ZCjLs7MLskqUNUY9VtCis3cXvdEAVcyucXP/ynunYUzn4YtnBZkwEFblh53+43qC1Mi/75gB3gK2ddf53zyP/eFSYVR4qqa5J5Pp7OnG/rtIKXBzr5igAsrU1c0YxRZwXT1sGQBY8eLZc3l9WmS6Bx+/EfzGVxXTipmNuBX1ahgZtJ42r0cTFgJalHjj7PV4hW3HQf38LJk1B3ZBx3HDnDkI04URx3+/FFcMxv6Dpw73NWTb9u7rdzD6UXUbKF1dnHb7yK1EpU3Hob28DRHD3L+dSVnclcP30yn33kM6OelROo5dOzsfS0mkuUHTFgxw5ICm4OnBX489zqWatB49a2ILM7se8xcmJ333d06VABxHT/OUO8fvJZRxPboP6OSiTzEsug0I2hd+N+HQN+NCJ+7bO9aRAeK7W8ZtDFM1SuAqHb3X0urWL+J0XH2741tfYtGNHwZufqwCXBq6a+cD/+UdjRk2/Sb3DL0f1N+eiQAX39uzK6Qc4/JziyaGVk5iqSJ3BldMYmnX1jMcew9iMmRFr3KLXgvVwPQYOr6dCYWwLPXqoRMhWTJd+24TJ3ayZfMD+3Vucv147QtiGQ7D533lx6eALo2+cPxidB7Dqc/k0S0tOI5DZw+/Pf1A4+bB3xKpSgt1OVclOj7jFoxy4VJYlRd2+sTNuBKu75CJw/wEPN9xs/o9+PZMbqOE+CCQLkcRd+X0/XTKrdfgzs5cimXbsq0qP+L8icf5XP++Q1tbsxHXt1triwtnSABIIBA+mgbFf5imNWo1jWkaY41GI5PJKIrS1dWlKKpi2z+EkK6urlwu12g0urq6NE3TGKs1Gvrd+A9xdHURAGCFTK7thbFCJtNgYCHg6HKg4h8ALK9xRuVnxNDh6CCQf2TGNsOlZx83DgLNq79//vVqggoA0rcJzbx3j7FnWHTp7bcn8pF2egdLwnd98/2lfBoArmXoHVnb05CizK0tKUjRsCytTBEAYGFWQlxs/CsJHRtboJL1dGGBJgdYALRpx4HtBRQAXXBt7bc/PRFjgAf3n+atPTS/NY9h1bNv4IEXD6tCTcRQJRz9dsmx2PIKrTV6b24Alk+/vs5sBFgRu3fRD6eyNABw/2G87Lfto+wYXL/+3W2uHM2OCM/WeNoxuG5e9ozQly4eTgygC/OLjc1NHNxd2FDs4OHCRoBViRHR/8R663o0TBt16NfeCAHQOedXz9sWJQWAy89Kdvw22YNVFQEiAzo39N4dROffP3DwXgENQL007T7E15BCHCMjbk1rwdKwHYvXXSnBQD1VOxyc7sEEXHJz68LNjyUYWEl6nr8OsaQoQ2NDChC3be8Oxgiw7On+zccflGOAtNSNLJfjS9rrcZv26Njk0onX2mo12WeXfLfjuQwAqEcyq8NTPJhIx9LKlAJJbeN0IwTW8l5L+4gnIlxyb8+ezs0WtTfkNp+y0UuXi4AuDd2z837J+28+Ykgit89bdy5NigEAcS1E8fduJ2Nlwl8/nY1XAkCMutmgjramiDI0NqKg1viP4dq9pxMbAZY+27vyt6slGCA0SmR5bF03AdOmdWvbg0nZjWnOmyIB01z79RvO9XbirI5f766WDAR06e1f1u0NlQLAo1iN3cnvWuqyPds2Nzp7qTEyfBi45MZPCzc9lgAw43U8dg63pkCTdW71or1xSoCLOaZ/rezGQwyBkYACEv8RCISPpmHzfzRWq9S0WqNRqymK4nA4CCGZTKZQKCriP6VSKZVKORwOAFAUpVarNRqNWqWqZf6vClTz5Yx2n8CK77RHapyBq8+oUewDQXwXV0sGAFBmPZYdaaetWdcIAQDiOjpbU4+0q1Y02dExhZWtkGdnFdBgSCEGk4EAQJmekqlu48qirHr+cLjLnNcJ0RHhkRH3zuxPyKsY+FkuHm4sBKDJvnXlmTaWogvvXQwNbtmTT3FdPe0YDxOr2ih99OcpbfBXk1rW/2ryEiQY4C1dUBYeHgIKACuiLl+tWh2sSLx8I3n4VA8mw87TTQ9evYyIKhprZ05ZeHgYsWg3Vy7SZIdcfN5+cl+Bi4cd66WbmxEFoE4Liyyqf5ipZf1vI1aVVreuTg2z3HzddBCA5uWNizGV+46oMq5cjhnn3pytbTudeeOX1TeYBjZezfwHT7Szs3Pw9GvqWDFD9Zax0AXJKRWpXlgsrHjJr3mVkCKr+CQSSWgAqsLEGA7uzjoIALN8pvx6bEJlBayKNbwMOxdHFmjjPyxPikqojOLpvKxsJfZgIsRgMOqw1EYIrOW9llYPta7/xYoaq8fpwlvb93du9l1LAz2uHgAtfLr3t1uFDbmNdMHtP/5O0yYxYEnk0U2RiGPm6uPTe2RrOxs7Fx9/b5OK9EeEAHGbT1jQ37m6z1Enntly/JWzqwUDANRJYeFllTVJHv8ycegBFsK0TEg37kcq3xSpusF1ORcAAFCWri5cCgArXzyNqDQ0XHJrzchnukwEamkZDUaNEeKD0LxOTq0wI1osEtMAFFalJ1X6vVoslmHgoTpNhEAgEBpHw+b/MK1Wq5QqlUKplEqlcrmcoig2m63RaJRKJca4YmmISCSiaVpHR0dfn6tSqTRqNf3u/s9YIa+YyaucBwQAALaebkXqj0wqB5DL5AAcQLq6VQlSiKNXMSdI15gU/GCQnl5FrhbiCKysBW8f1dfn1hhxNOrqTC9Mv3Ft+uWZdRsMZk/q4d9En8Hi2fi2s/FtN3ASluU8Prx2y6k4MYfHYyMAwCVFNaMidXFhGQY+IH0DXs0guKy4uNZc/rrX/74d/+kb6FMAgKXFRbLq0+niwmIaABDF4+lTIE6IiBYN6MFnOnu5mardrCgsS4q5+cJ6XJ8W1u4u5mnu9kwATW5kxPtmGepc/6tTf7m3qFPDiGtkxEEAQJdUNKDiFGF2jgg3N64xAdh03OIfxgWY6yBMK8pepydFRDM7Bdgx3x0oNTT9lhaxWq2pzaCQLrciK5LJM7PmvX2Qoc+rtl6gNTVqbcCe540QWHuF91havTlyDVj/S+ff+fP2hBaDTCkAuuje6ZsFDZtgokuL3liwwrLp8s3K2b2ceRTCKnFBZkpKRAKnrZdRpT+xzb3atqmxMbuSesBEJfr6CACwpqy0Ojyj5eVFVa/BG2VOb4tUSZ3OBQA1HEdUWlo9laqWlBZr15r9E0GXRvOudWr+d7apIhAI/1s0MP7DKqVKLpfJ2CyNRlOR/ycWi3V0dBQKBcZYLBaLxWI2m81kMmmalkplMplMpVTBu2MhXZBfRIMdA3QN+ToAKgAAylDApwAAywryy2lNUV6hBgyZiG/IpwA0FWcY8hkAgItzCz9+8QeWiCUYALAydNOgxbdqXU5c36+HVKPIvLXr+1v7+PY+LVoGtWwVFOjdxICFdK1bTV00PGrigZdisRIDCyEjYwGCAm0pppGxIQIAkIo/7Wa6tEQsoQEopCcw4iBQVWqfEpgIKn6RTyKRYgBFbHiMrHs7PT13n660ExNpEuKSS5IdX9NBDs5eXX2ddRHQJVHhaR899LwxVYEaPYZipbIiUwsJjAQItJNDDH19To2qOM0nLZkcaEbRBQ92rNh6JaFUBdxu6zoE2H2U6FgikmDgIU3WiRlT9ibWpgrqA6eEPkjg91ha0sfdK4ZNn3HdTbRpoF3H9T/7/EzDdpes6eGUZf/v5/V20QF50p+r1h9+nC2hGe7T9rfxqldRUqmsIrWDx+chqHxOQkyOng4DMFYrpFUZsg00pw/40SEsk1QIoc83YFS9TUcsXV02hYBWymRVvQ6q+QaiwRb9YaUIBALh89GgVysYY6VSIRQKy8vLKYRYTCaLyeRyuTKZTCQSiUQiqVSqp6fHZrFYTCaFkFAoFImEcrm8lrkQXJ6ckK0BQEyPAH8DBABAGfs1t2cAYFVqQooK6JzERCENQOl7B3rqAgAAo0nzZhYIAEuTEjI/QfwnTE3O0QAgpr2LozbQQzyP3uPHT5w0bmwXx4Zt1Kvj0m3MxEnjJ47vaJ4XdfOP3Wu+njR46JILWRoAxLC0s9UBdWpCqhoDMKy79PbnVhajTDr0a2tAAWBpSkLGJ/31Mjo3IbGMBkA6/n16Wml/oE3HrW93NyYAaF4lJIsxABZHPUtSYWA06dQvkE/R+QkJxaqspBQxpvgBfTtYUoDFUeHxH770F6s1GAMAZWptWalLxHdysajrJ+PqQp6Vka8BAKZD977enIrvKLMufQJrTL4xrH29jSkALI+9cS2hVAUAup5eznXPpTUMTUZimgIDUKbOLobauhjWbYZNmDR+4oQB/iYfUD/6UIHfb2kfBWXV75sJTbkI6PLSchojvaaT5/SzrqVreM+rR7arrzsbAWhePbryOFtCA1CmXl5mVRXh0ivfd+nasX3VX+8frovp0vTUYhoAmB4tW2q1ym0978TlC5evnv1lpA31ycypbjQ5qelSDIB0fNsE6FcIgYx6rDl34fLV8+fX9RQg0GgqZhUpcysz7dbypi4ugvpV8mGlCAQC4fPTsDUGGMtksryCIrlcoVKraYwRAINCbBZLJpNhjBUKhVKl0tAYA1QEiOUisVQmre1RXJN281rysGkeOkad52/FLrdSaLceQwN0EWDhs5shRRhA+fzqrde9h9kyrAetXK9z4eFrTtN+Q1yYCOjCh9fDJADAavn14YVtOAhUj3+ZsCm03kWqtaFJvXktZViwO9uq73ff5+4+F53PsOs8aeaYAGMKlz9Ye1nVIMVodD16jR9qQWFFB1v+wcvx+XKWsVsbDyMKADTZLzMVQOffu/BwnE8nPmXRe9lWOHbmaS7LsfPoka0NEGBNzrW/n36irQy1qGIuXn3Ze6wTi+M7beNq/snrCVKTgP7jBtkxEWBJ9N/XMmgAAFwSGZGm8fNgGpkaAxYnxadrQJ2WmKbp6W9kYgyAZS/CYj9iywtNQW4BDTYMyqTHd0ul58LyWU0CevVqZdDYUU+T+jgsf5SNFcVoMmTFVs7pa/EKy7YDhwTp14hNaJlESgMwkG7gqCl9NOFCI5/+E3pWBR0fOtBi8ePrIaWtuxtxAr5a9JXs2L00iaDZoBnTuzvqgir9xOMTDZ5k0r5y1rVzc7NKzSwsabzA77e0+mDadxw/3vGdd6K0MP7qufBCGln0mT25uT4FWPhw9/x7LX9c2kGg7z/5655PFl3JowEAaFxRmGHp6mUTmVhQUEcanUYmVQBwgOHYc/Ko11deMuw7jBjnq/OeW6BOuHEjc8A4Bxa3xcz18/ROhr5mOved0llAAValP3jwigb0icypHmThV+8XdO5rTgm6LVgtOnguvJDbdPjkFnoIsDT63tNSjJl5eWIaBBTDftiiJejK8zI9h9a9evmy6xUCiz6kFIFAIPwDNCj+oyiklkvTE2J1WUxaKcc0TSOkZrAQW1ePqwcYpBIJVsmZahUFmKIoxNaRqWkdiYiqLQVek3l6677An2b6Gxi4dR3n1hUAALCmIGTn9tsVCw6Uccc2H2+2ZZyrrrFPv8k+FcWwMuvy1t/DKrL22VyBkZEuAiXvw35Ti844s+1Ai83T/Azse87e2FP7NZalndv88+0GLHwEAFDH/nk4pMP89qY6Dt1nrO5efQCrsq/tPZeiAYCye79s8bFbMtBR18Czz8zlfbRnYOGLI+v3v2h05Po+VMl/rN/lvnlWgDHbss34eW2qRFJm3/xx26U87RqU7MjIbI2HHQMA1KnxSUoAujQpMU/jX7E3Y+KzqMZuu1YTTcr1qwmDp3rrIh3rViNntwLAmsLk5AIXd7NG5fKDKvbcsSdd57fiUxTfq98Ur34AgIV5BRozM73KmnDew9svJnr6cxHPa9D3GwYBYMnL1GyFcxMdxLCys9GBog/SMhY/3rP1useKHjZGfmOX+43Vfq0pCtu15kSSqoFz50AXZL2WYSd9xPIav+N4+6PB0w42WuCGWFqdIKZ95wn2tQiWfTryQnixaY+5wYEGFGBlyunf76ZlJp8e2mqqJ9ugxVdze4YvvVJAAxZmvS6n/Uwohv3QdYc7X1owbNvzWq+kir15O7f7ICsG07L9tGXtAbCqOO1liaOTEYX4dnYCKqqwtsBRnXz8pyN+6yf58LhuvWat7KWVTxx7+NczL2kA+FTmVA+y8IM/nvVaM8SBI/AdOs93aMW3mC59um/H1QIaQBl99Wpm11EOLIrr0HnCrM4AWJWdmCp0czGoR4gPK0UgEAifnwbFf+UyRUF+UXlmtlAqV6nUCIGeDpvP1cUcPX2ODsYgVShALi0Xy6QKJQZgMZkGXI4Bh10mVdZWnyrjzMLZOSPHjege4GLBxaKchEdXjx+6EFVYtemKNPbA/JkZoyYO6djMyYSjKnv1IuTC4WNXEoQNS0tvAIrUUwvnZA0bM6xbgKuVPggLslOjbpz581JYbsOjBTrv5prg3N4jBnUJ8nSwNOSyQFFekBH35NrJk5diK7PV6JInv86aHTV0xMBOfi5WAg6WFGUmPL157uSFiPxalfPRDUs7s2xacq+Rw7u38rEz4zGVZbkp0Q8vn6z4/Q8tmpfhkSWj7EwpoPMTkoppANBkJKbKcRMuAk16RERjV/G+iSbjzLKFePqUfq3czHTVpZlRt47sDrFb9mujB2w678qyadm9B/dv38zT3U6gKUi4f3rvE8eV6wbqVZ2SfXH1QvaMqb2bO5ugwrTY0AsHjuV027V9nD2Dsug1tMPh6OsfFmbj4pCf5syNHzO2b1tfOxO2vCT3VVzI5T/O3E0ua0S2HRaF7NlygR/cxctCV1NeUq7ADRD47bTQhljah4BMu86d0pKPAOiC6wfPvlQDzrzw+80Bm/uYU/yW02Z1fbbyRiFWRh7bfMxsZv9mNjwkKS57Z21tFdLIXUvWKqeN6uDZhCvNSoy8deTgLbOvjy1ry0XspkMHuF7cX2siJcgSjn43O33YqCFdmrtaC3RoYW5S5O0zx089yKq4c5/MnOoBlz/b/u2s+GGjB7b3czI3YKvKshKeXD199GxEfkUihCL+4MJVypnjegU4GrHkxWnhlw4ciG+19UcXg/qq/bBSBAKB8NlBPP9vE0oAACAASURBVIF5Q86jEHprMS+DAnsTQz9bUwpRka/y0wvL3trs5d0iBAKBQCAQCIR/nYbGf5VnQ2UOeNXCDgohrP1v1dGG7IFBIBAIBAKBQPhXaNxvTGB4Y3cFBEBrIz/8zlECgUAgEAgEwn+Qj8qfwe98IBAIBAKBQCD8xyGL0AgEAoFAIBC+LEj8RyAQCAQCgfBlQeI/AoFAIBAIhC8LEv8RCAQCgUAgfFmQ+I9AIBAIBALhy4LEfwQCgUAgEAhfFiT+IxAIBAKBQPiyIPEfgUAgEAgEwpcFif8IBAKBQCAQvixI/EcgEAgEAoHwZUHiPwKBQCAQCIQvCxL/EQgEAoFAIHxZkPiPQCAQCAQC4cuCxH8EAoFAIBAIXxYk/iMQCAQCgUD4siDxH4FAIBAIBMKXBYn/CAQCgUAgEL4sSPxHIBAIBAKB8GVB4j8CgUAgEAiELwsS/xEIBAKBQCB8WZD4j0AgEAgEAuHLgsR/BAKBQCAQCF8WJP4jEAgEAoFA+LIg8R+BQCAQCATClwWJ/wgEAoFAIBC+LEj8RyAQCAQCgfBl8R+J/xjOXx2+fu/Braq/u/euXj67b/PXPZ256JNdBRn133r5zDw/1jsHONZeLZracBEAULZjdl4/MsmV8cku22Dx+H22XD73fcA74r1zIs/OL8jTQgcAAFitl1y9vKar7odfl+J0+KvXuo3GTABmZ9/NmS1aG9V3Otte4NmSy2nkbWF52E6+0+3n5OYB/LcvvTOvT21/vWaP1fl0974R8Ma0+KU2eb75SpfZ1ntdZssOlp9WLsr71+47alxr+6sea28GDBqgz35POZ0mnUxtLRAAAGK3PtFz44+mzE8q2buXdNvYeXtenx/3W73pl/U3AVl+2+7XzObNP8JI6xDHasRvV07M9qq71ch4wJbrf83x+8x6+Yf4eGf/OChTj/adAh15CIBp5hHY3JH/r3hoHdQU6d/rxht6jxge0w7e2DvSthFDcM1xCpg+M07c/Hmoxbt34ANq/gDeEKbusxo6qDUQymHs/pt7Jjr9RwKX/3X+Q90ilkf/sfmvJDUAACAm19Kv98hB323UF01eHyrEn/XSyKzjzDU9wudMOpis+awX+jQw7Ht/v9b17Lh5Z/I+sV7oQmHcdVmJqp5TkKCfZ/Cwoq2dk7LUDa+Ycg12a6p+vX9oRqqo5vVUcVui9h2sOIXXepOLXWTKqZMiGgAARDGqz3vb60EterQ4Ja70jeuLY5XQ5HNdEOfmnV+RXUQDANIx4XmMte+yswVH+OCPu+o6lcA07LLXT2fBrb3nGnEnPgqOkX8Pjkqs5rS39DTMeVb6xsG6m/DZnArLXz9/HJ4lpD/XBQhvwPAYtHi545ngyHQxN3DyyikFK4ZvCa+vt/gnQf89keoDizKjQhmvpY0o0sBx6gNq/gD+xwZNQm38h+I/UOfHhdx/XO26d56UCA4tatuhqU5oiPxflKtWGBwOJZf/L/QzjYF+kXE4+HNUjDg8hiatNCFG9maooil6kldU8ZGlcl0Jlhklzy8VN7w/QQwEGvypwkSkw2CqNAAAWPn6Vl507tsVMz9f/CcSJ13J04bUuWGXJeyQps1Hmp67m/vP2D7FAPp9eme3svIxkT1Znuu82s6/Czv8jLKmgupuQt4nkhFRFNB0jWviktA9a0I/Ue3vhaIo/Mbl///zdpOVShWtVHzW5zKEKITpfyaip3Q4TIVc+Y9c623o19d+XfX2l+9Y+CeruWH8fzdxxNZhqxWKz2Fd/6YtfTD/pfjvbbAoPb0It+RyWQjkGIBl1W7sjAnd/e146qK0Z1eO7j0RXqABAGCY+I2YPqFPCxdzfZDmp4VdPLDzj+elNAAgvs/g4EndA9ytuaK0h6dPvapl2pjZYuGpjX34FLjtvd3lzNzJfwMAUDzv4au+HRpkzZFkx1zZ/cvBJ4U0UPbjf9vtd2XWcd6E6f2ahK+aujuBYd12wsyx3f1t+Uj0OubeyV2Hbr6UATC9Z/6+1fPChLl/5dEAAAzP4MO/eF2c+M2pbAzAMGs5Zvr4Ls2d+NKU24dOlg9c4Xd7/Lwz+QAAgDiO/b7/dkI7B56yIP7ewZ9233lzno3bffW5pa3ZALP/vNptb/CMUwAAiGXV6etZU7u7GeHS1NCTv2y7nCIDAEAGHgOnTRnczs2MJcl+8eDPfQevp0jr8W5mR5+1h3T/9g97VAKMJmY9V7oEttDnczSl8YUPVsffj9R4/NRl5mg2AsNFmVZ3B9878/TNyhDbYZL7gK/M7WwYqhxh3LGk87uKy4Hb/VKHAX4IoPkvfQqO+jx7Ut5AC6BMerkM/raJmytLnSdMOJlyYWdhqRoAsVsf79wpIeaOidOgwQa6KmVheM7VJYnPUjQAiNfKYfBCG1dPXY5Skfc46+KStMQCDABI3yBokXvX/gJTPhYmFYdtTbh6XaoGALbF5HhPcXB4ZnfP3v3UV1qHxzdQOkCG7Z0GLrTx8uIwxdKXVzP+XpeZIeb3v9O65dNny78vUgPo9PFbt99SuPPR2rVlNABvVIs1mxkXWj+5m/WeLhaXlGe+Ai9zDpfN7367dfM7T1avKK0Iz3S6N121X//OmFyfEx6OLIBdPX4ZHrN0TD4AAGJYjW06cp6FFZ8uicy5vCghIo2ut+3mE154q5bHK8d6tQtg4zLZq2vpZ1ZkvhLWKhTDdYCZ/qvXYSdzJOMcO/c34/71Wlx3O6qb8JbT6eoHLPTo2tvQzARJX5W/+C3+3J+i+rpNVuslF77R/H4Eek3u6qyvEeUm3vtz564ryRIMlPnQX38fnLhg/I44NYCObYfJM8d29WvCVRUkhVzYt/tc7JuWxrDovPiX+c1St3+78mrWW89uyMBr0JSpQ9q4W3CUBalPLx3afTKqmAZA/D6bjw9N23paMHJ6N0euujw79t6RX/bdylQAADBMmo+c+lX/Fo4CKM98fvPY/iP3X7/ZFsTrtvLPRbz9Y777Kw8DZT9u3+7JNmEbhq64IcTA9Jp5bGvXiKUjt4SrGuyqdTl7rd2g1P+b45ub3/160s4XFd0IZTdux/6RuetHrr0rYtbeo9bdZE3GywwRlVbgEnz019G2DICNN7rcXtpvQ+ibykRc5z7BUwa29bBmFDw7s+eJ/ZIpinUjtoSrAJCeY48pU0d29rbW15S8jLpxaO+R0FwVANNnxpGt5qeXp7f+bkRzU0pamB52bs/2P2JK6Yqb8z7lMNyCD9cUaVMWQO3dODLq/+OR/rGLtgn7zBjZ7NXWcZueYJOA4dO/6hPkbMyS5sWHnNu392KCEL+nG6f4vsOCJ/cJdDXVvAr5Y39y0Nr+KXMnHUyu9x7VlNh1yt7tLW5Onf7HK0brJRe+VmzfKe83e4CXIS3KTw75c8eOS0mSmk18a5yauBsDAFDGLb76bnr/pmYMYeazv3Zt++NFOa5RMw1Mi5bjZo7p6mtnrCMvSAs//9uuc/GiN+2Ksh2zfW/Qw7UhrtMmt2miIy/JfH5l345Dj/IrR9dalMN4S5gdMRo9x66TZ4zo7GulK8tPfHThwJ4LseXa61BGzSesnDqwuQ1XmR977/jOA9fTpLgep6v/UBVs+0Frt8xo8nTt1z89KKw7pmO1XX5xVvnKpYmtZ0zoKD08Zvl1aS1uqzLovOrUAvPjU2ccy6qoi+U748i2dk/nT9wWqaq9de/a0lOOW78pwYNbuFjxcFl2/O1j2w88zFE3zIb/BT7za3QG3yGwa4/ubT3MdBpfGHFtbY1xXkamFAMgQbtvf17Z3yTx9Jbla3dcKXQZt2brHH8uAqAsByxbPcmr7Or2VQsWrNsTomo+ddm0VnoAwHQYtnbLtPb6SX/9tOHHk4kWYxeP9343D0EdtWPq3CNpyqyz84fO+j1eDQCUWc9F87xSD6/7bsG26yKPMUundzSoTHOgLHp+N90989yvP1/MxPxW3/y8dIht1vmf1qzYcjrJuNfinxd0M31PSoyO5/gNq4favvr751U/nkh0mL5ypHN1kgritpmzpFPp2Y2L5q87m23bb8H8vpZv3iPpvU2jF1/KVyYcCB79/ZnXNAAAyyd42RDq9rZFC1YejOd3nbNolDMDAFiOozZumt5ccnfX+hUbjkVyOs7/ecWAJg275Qxe1wP+ne1F936I3DM7KZ5hPmS/m5sunbziwU/bhKq0l9ubh16KfMt6kdWM5rNXm8Gt5MOTo8//rXZZGDhzviFLI7036u7JW7TySsxS/6iI2mOLWuD18vl6rx0/Ov34lMgzJ2U2XwfMXW2iW6ldZDzWq4914V9jH22b/bLQxW7Mj7YmFCBrm/GH3eyLXp+dFv77qhxZoOvk9Zb6CIDSDdoZNGYYK33Hi33BcaGZvC77g4Z1YmkrYzov8G3LKvh7dnKCpKHi6QS5zTrq4liSc3Z6xJEfi5i9vWb/7mAOoqRHSm6gkQUTAJBVAF8HIeMAgSEFAAy7ID5KLkrOeb/XIwHf1hY0xQqpUhhzQ2bY1dym0nKZ7v3NOFE5kU8ydwU9jxLTcYvuLp2eLcYAgDg9vCb2V9z7Jmz7nJeFznZjN9saU+9tO9tvpadDXPLegY/3/VimP8Rrwmx+7Saib+LfjZV/IeeVXBR9VcxqY+lj0rAmvNEzU86LA8aPYKVuj9k7OeZmNLvlVr/uPu/LIkMGXWbMaFZ48edlq7eeTOB1+3rLsh7mb0qJjNp///PiXvwXxzasXLnjjiwgeNPyN3yHEgTN3fxdYM7BRWveCf6A6TBi9ZY5reDxofVLN+y5K206ee2myR7aTouy6Ddnonn4zgXffLP2bI5d/wXf97WiAECv6bSN68c5Zf+9fdWKbWdSzQau2Lqok9GbjcGS6IhE7NzUSw8AEM/dy5aB2O4+bkwAoMy9vEwVz8PjlY1w1TqcvY5uUPHi4ZMy06DWTpV9DGXdpp2j9MmdMBHU2aPW3WS6IPz8oVuJstSjs4J3RinLbqwdPvLXsLeUSZl0Xbzh67b4yf5Na3bcVvdc/k0nPW2t5j2WbVnQ0yD2+NblK3ZeynEYvmbznCBe5VFms0kL2pedWfftrCW/PaFaBS+dEqAD0LB+TFOLSHV344jfZsbX7YQ3d2w+Fa/R9Z28eeN47/Lbv61aueFQBKv97B/XDLJ9T+Igw3bIig1TvMtv7l679uAzwxFrptdMMa3jHtUD4nWYNdMr5cjSOd+uOJhg2H32D2Nc3ixSyzgFDPuRKyaZh+1b9u2y3x6jlsE/TPJ7M2eYsh+5etkw68yzP69esvZQGNVq1urJ/pza2uMy/LvBjJubF8yet+262HPMspmdDREA1KGct4WhLHsu3/ZdJ1b4oXWr1u4LUQRM27JlnFulLEi/48zFnZS3d21a+8vFV1a9F2yd39kE1et09fsjAAAwLbr9sG6GY+xP32+rL/irFIHjO/m7fswn+9cdfiat3W1BFB4SoXRs1cKi0rKYbu1amRSE3H6hrL91NWyJ5rWbveGbIPrhofU/rNp2Psd2+OKFAy0p+Lix+DPyOef/WA4D1v08M9CIgQBLk08t/ubA83qmCwCYZu6t26KKp1SGjoFV057DWxRfXvtXkgaAchgwqRPz/vpFW0PKMcDjsHjZj/unjep6POpCmQlXGvPnth+PPxVjAIgWOnTY7GkjoEDjP3yop/T28u9+DhVhgNCnWayDW/u922KVpEwoU2ONTFhaLtVQAIA40vtb1x+NUQBA0m7nDr8G2ptTIMQAQFlwns9acyBeCUBZjxjZzTBu18QNZ3NoAHgSLTQ4Om9kX8c7BzPrbCQyaDd6gHXSocmbz+bQAI9jxKaHlrWtPszEUftWHggRYoDEnU1a/T7MzpIBuTXMGyslZUKFBqtlZaVCOQYWACBm2unVv1wuoAFiswRBbb9xaMKCNL22o0e6vD42bfXRdDUAPInIZR9cO3qYz+Wfn7/3vTUyMHTyQMnfJdy7pAKA5Fe0erQOcEFdpJRIaNBoJEVK+VtZZ3qmnacLpMfDdq0oUgDArYIcqt28yY4+uyMjy5QyOcYqlahI3dBUNYZBu/lWjItRuxbmiTHArcIMSdDipU4B24tD8gAA2IrCw1MSn5cBQNkZe7OlM3mmDCjzMnLQLb+6Jj0iEwMU50noTp40hwKpr133zvB87rOT55QYIPZWmep8u36zrK7fzywBAMQ0KshYM/91xfMqDwBYxsOjeg+vIY7iXMSCGTXeYyJ2s5l2ZmlpP05OzlIBQEHCa8aygw4dW2aef1CiHGXkZIpe53Ps/TmvQ0pMmwrsuS9LZPqOzZlld4ryanvNivS5rj3MBRoAQGwTfY/xjk158ienCuWAs67ml0419/VIyojBwDPx68LI2JJXrNLgIpUKY6pcKSqnoSIlHBdfCK7UyV8O5kuC9U0YUOpdf9sRFZ2y/4dXpTRAmJjX0Xykqz4byt996czpYOVtIL7zt4gGnHs1L3+uo19XnScnFfj9Tah5W3UdA3Vl1+LOHy1UAySGyWmhFbApgPrfPTNQ5sllyw6nqAAgNKKYe3jBiAGuN/cmV51AOQ4Y04Edun7h9rtCDPD0hcz65PJOrUwv36+Qjef71aYlXSWnFy47k1pL25oPG+kuurRk8Y4IGQA8fpqO9mwfNLT1qbV3xQCAdFTP1i/fHyLEAPHbrVoeGmVnzYA80y4TBprG7Aje8Hc+DQBPYkr19y8c18fh/tH0Gg5LFz+PfMka0NSVdTsK3DxdJC8iS908vW0Zz9L1PL0cNfFXouW8Rrhqrc6eqmHU0Q2GvnjwRNgjKMh+f1KaBiirVm2dhKG/R0goh2F19ahFdTY5R5V553wmAICwTKrEWCEuK5O8JSHDud+YVuqri1btfyYHePT0JXvPvnHGFYfc+o0JQiHrf9h6qxwDPH6coNyxZ/KozsefXSgGAEon99zajacyNADPUw/5dlxpayegwvK5DVKORvaGSHV34yIAoIwFL3/6evdjCQZk2GNUP5usUzOXHUpRAcDT8DzO4XXDBje9uO3t59sa6PgNG+lZcGrOmqMpaoBHEYX6Rzb1f+89qrM6AGBRiUdXVBR58cowsM08exsdSK6Zw/fmOAVMAKA4hRc3bjqdoQGISTnctNMKe3s+FVlSLYe+u48Titq8+6/7YgCIzlGp+gqQbsX7tDetSld4e+G6IzEKAEjc5dx+e0t7CwrKee3rVE5NYdh+I8c2F/89f/Hu5zIAeBqWinf/NnhkmzOr7gEAYlJJBxZt+DsPAzwMfSH95cDkEb1t7/5pUafTqer0xwp3Bsq49Tcb5vtl7fl247XsBgwpSN+i+ML4LdeLMVDm/ZbW7rbHwh5EKxe0bGF89nwhBqZL2zameffuJqjYTetrXQ1bAqa3tycv5/aBgzcSNQARqUJ6VKCYgwA1xsH/ST5jAKrXctzEACNGxepEPZfBk3uY1Xs1xPEbs2r96nXrV69bv3r1ivnTB3hooi9djCqlASgTXz87VfyzJMwzMDAwMDDQl7yIyKAc3ZwYoHpxdPGSfU8lDK6xjatv2/69/I0ohAAYNj6eBsUProVpZ7tlz++E5DcotQyXP3+aoKj4TItFYhpVPdNjSXx0SsUbHo6HjzMkhDzMq+zscXHovecaW283g3qmM5iuzbx1Xj4OqyyEhc8exdW0X1Xcs8jK1S5YLJTQCDXgFqnTnkYUVVYoE4rUgBAAw7W5r252ZHSpXoXKDBjpUS+kAhcX0wbUiEWinCzkMb/ZgPHm9nYslJh9fnl6YlF9RSgngb1AEXeppFJxQL+6lF+kZ+jo/iFrBJG5kasLnXG/HBuyuQI2V8CShRXlMgzsPCprU0cVJpdVCistVmEKEACdJszVGHb52bNjXyNzI1RyJeXMj3lFGmQYIDBWlUTd0OaraaTPLwlRUyObymc4nPe45I01RmrRo+8j902JqPo7tLfsDdNh8p38qYKredla95U/yI0X6tg311M/LXqp4TsHMJCeoaO7LHl/TgbL0MmbQmYCR1tVyn1hrSaIrCwHHwiYdihg2qHmEzc4uTNLb01/+ucNFQbQPM97kavn3Z1HAeh2sPTUKQ2/+k7/XSF1eLVOZGUqjBCC97c9515RWaXxaMSllaHkO7A8+pvqvMiJTMEAQCfmPU+lXPqZ1TT1eppQjUaRnajS6+cx/rsmnj66HEVZyPL4kIj3eqUm48GDtEpV4+J715/ILby8jKsNGQm8m9pqIh881t5FSciWEf2XXCrEAIDYjkPXrBzlxs4LD02q7RGUYevpySt/cu+59h2dKvn+oxyOm5dD5RSMKqHKK0FULqIphAB0vf09GGnhMXL9Cv/iaeIikrGtq7Pem7XT2ZFRBXxvH1sGw9bLjZNw82xUqbWPhyFiuvq6M1Mjo8qpxrhqrc4OdXaDoIh5ECayCwqypgCQRZs2zmWht6Pk9fWodTe5ASATX19refTjaLn2zoWF5WgqD3l5Waif3w/Vvheks0PupVBuXq4Vc9uavIhnWZWmoBGWi2n0cf1YPd24OuX5i4q3q0xnHw92VkhIutaRJeH3n4oFnl5W9VTPsPPxMcwPe/yysuuWxz6JqPlStY57VB+al2FVReTlQiVGDVC4JvdZmFZjtFgkod8qhCWZ6XlU4KRFwf1be1jpo5c392z/M7y0FhfAwpgwra6wsExUoasGKodh69/MuDw6OotVeYt0C55HFeg4u1bOoqpj74fka7ufrJvXY7Cdh6tB3U73Hn+kuL5frV3Wrwmd8eRxhgIahCYj+kVFu+t2WywMC4lWe7RqYYgAmC5t2phn372don5v66psCTQ56RmKJr2/nj+iq7+DEbs84o9du6+91HzcWPw5+Xzzf0jXyEi3RgfNMDIxRJBfdwEsvr5s0Drt+g+mnmWzEUvWTF81MWXib3G0wIhP6TVdfKLdGyWUhXoMAIZd1ylzJnVtaq0jL8rNTMvXVExJIK4+F5cWlVaPLXRR/nsniitOLC8rr+NEXFpaOVhSXB6P0pSV1DhTUVwkBjcD/friPwO+PpSXVmVGgKKsXAb6VVeWlpU3PoWUFpa+uwSSLRDosxxHbr8wsua3mpf6DdpRR112eWyEcr5j0NLm3TaBIqs0cnfC+YNlkrofiSk+SxeUwqLqM3CBXIhZXMMPiv9MdPQppssvnZvW/BbTZdqXRcpS1btPTnTaywPjoM9c29677IcyNOXP8x9sSLj5QKHLZ0K5qEaWGRbmKbAOS08PQAwAICp4YylDXes/qmEw9XggKqxRilaUFYCrgAWlxYmxVOdWfFaBwFZd/uxRiTzVwzdQj2MsaKIoqSvWoZNTt9S1pFpV/vyGon13M/NtMssBpszHCTG1r/vG8mLluzp5b9slpe/P50d80+YdWUy++4ps9+qK7C19zLMeamdF62tCNer45WFHil06jfWeMZ+BhZLk06nnNr7OFtdfii4tLqsWUl1SXA6OfB4CbTHEFxhAeXpp9cVplUyiAkAAgPjezdjnDl4LmjA0uM/Vhedz3vYVSt9AH8pKSqu/xyVFJcDjVxobVpS/m6GIeAJDJstnxpG/ZtT8WhWjr4fgjShTnRoRIx7k42XE13hZZkXFRr9OUHX3dteLd/biZYVG5tNsz0a4aq3ODgA6tXeDAPLokKeizq1amv/xGlq3cy65fyBGAai+HrWuJjcEim9oAMKE6qcpXF5W2dtR+jwuiNJLq20UlxSV0mx9XsVuUlhULnq3ZR/ej9XdjWNpSWll4EBxeVxcVlJWfSJdUlSC/Qz06xmaKb6AD8Ky6vtAl5fVfH6s6x7VJ6xQKG70soR6BqoKNAkHF6yWTx7eY8aKUXogzYu7d2rfnnMJ7+6ngUXCWnTfQOVQhgJDhknf1Wf7vlFlMU+PAgDAiuLSaofA4qJiOWXO1TOo0+koZt3+KAJAFs28ok4cDu09bsyUDvfW3C17b/cFQGtbUZ/b4sJnIdH03NbNeVfuWrZrbZ5x+26aBhjvaV21LQEuubF1gc648QOHLug9haUqTw+7cmjnsZBs5keNxZ+Rzxf/4dLIRwkyP5+KhC2szn30+GUj1omrpbnhf5x9NmSxp5sxFVcgk8rpovPzxm6Lent4YbhNWrW4a/kfm6acCs8UqoHhFny4qR8AYHG5CAyNDRnwSmtHHF3dBuq7nrR27eooWiIS0wxDgQEF2qiSxePpgkQiw8B/sxClx60wFlBLJQpka2iAoPJ5kW3Aqy0fo3HgWgRWyWQqVeTuUfP+Lvqg5U6ql/lXZuVfYbJMfI28hjn1Xh3AzL13+Gqd95AWqmTANjBGVdpDfJYuqHJEGOqYU6oPqVpJyx8MuXsq9B3pUeUQVVsxXBaSfjwk/SRX17qFif801z4HfEXtw5PK1cBn89gA2rFHV8BEKqVM+4CJG6sijVoqAnNTdvWrFMTi8kEuUmNalvxQ0r+bkXuOIS8+O1MikUeourUwcjMTMKJSUxuc/lgDOuNqvnC8uU8zmV17lLQ0X9SADq8K+fvaXo+xV6HX1dJdTxQyMy4it/IbZG01Ypu1Xw9O6OHaJyPrAouEz9ZGPFtLcZ0M3XrY9PzWN1gjXbOipN64kRIY8RFoJy4YhgIeSCU1s6elYinSNzRgAFTWwzJ28jBXvkyUAmDxk19/2HVdHWvfYsn4qe3ur77/1gwILRGJwdDIkALQ2oE+Tx+kL6uvUEsT5TI5lt9f2X/Nvfet0FbERb5Qz23WzFfhLE44nit9/SKFPcS3uY9jk5Ko8EwNoEa5am3ODgy30bV3gwAgjwkJky5vHWj6kNHOtej+rngVAFV3jwqIU1eTGwCWSaXAM6yeGEY8fuV/aIlIAjyBgFV1k5C+gT6lLhdXhqq1XvFj+rE6m1C9ZQAtEUmQjZEhBdptB5C+gT5IJdJawiFtN46lYikYGBpUGQyqelbQXrjx2vs8awGU2Y8Or3l0mKFv5eYb1GPExDmrWYUTONyk7QAAIABJREFU14e8k+Zc6yYKDVQOlslk6rTzs4IPpr89PCA+ANIxEuhXeS/SExjqqIVlIpFRXU5HS+v1R1x4bcPqA0+4BV575gaP9Xu6I7IBW93Q2gbW67blTx+8QLNa+fMyndqYp12/n0kDUPW0zuhtzdHl8Rd2LLqwU8fIziug7cCJo5etkAVPP/ORY/Fn4zNOP9JZZ9YuO3A3NjP3deKTM+uXH4xp7POkSiSSgy5XD4DOTUgoMfRr6arNAEUGbebsOjC/s4DiOrlY4xeXTjzJFKoBAHEtrQQMAADN67h4oUn7HoHa6TiWS6dODp8w4JUnxqaDR9u2ZtpMekGbrgHs7LjEUgwYMMXjabsElnNz78qIUJMSm6BybBlY+S4c8Zq3qmVNyqdAnRKbrHFtEViVj860H7Zx38/j3RqiAkaA63chQd28EahVRZH595enPC9lWbhw6rEXOrU0o0zHs6+RNgOZajLA0kJWnh7/IR0b/aoso5Dt2oVfpRxuD+/vb/k2r2/NATKfErjsqrurDtASWdbdrIvrXxdwuFa2uDSirIRl3KwLu1IXDK7/QAGOKc1q4NuDd1GXp0fTZj0srLTycdpa+ZoqM8IlNOC8kGKRi1nnnrySiDIRTWc9LqX9rTu2YWffL25U6FZ9tYj8uBKDFmsd3aEo4qayMXV8irYjtnd/E3ZybsiF4pTHlX/J5189T6ec+pkbNqoP4ZgOu9thyhhdBLQkrSTyt7ibD2lD1/duJ86wb99e67tI0L57S73C+Lgak/l0YVxcvo5fmwCts+sFTNr889yOJggAsKwgvwzjspD9h6N1Okwe1+ztvXk1mXEJIn5QBx/tkxjTpXMHO0VibFo9T6xYmBD/iuEV5F813a/j+9VPB9b2qyWrWxITnsD2HdDfm50cm6KmS+Jic0z8h3Ryk8WEJ6k/0lUrdFJnNwgAIIt68Ezu0bp373ZuefdvJ6qhvh71I2ck6LzY+CK9Zi19KyumbAMDrSof2ArjE/KZTdu11O4aTVl17OKJk+KS6xsZPl459aJOjU1U2rRpUzUy6Pl3bmNUHh+bTUOd3bg6Iy5eah4QZFepYrZnkF99WT//Fkyv8TuObh7lwgCNOCf+0bkdR0PKeXZ2xg112XqVU+O0zNhEeZPAAGutxVHm3Zcc2DEzsNKfmN7t22qXRVLWXXs0w8nPEyV1O917/JEWFuRLMJ13ddfpdNPe04c7NWYArd9tcdmThzHMZu0Gd2ljmXL7XjbdgNZVgwTdlh44+H1bHsKKkozIG8d/O5uEbOytGZ/Zhj+cz3p9ujj8yLrwIx9egVqtQny+AQWgevHXiZgus5etRScvPctSWbYePaW3wYOVEWW0NDMjn+rVb1yH3Dt5TOtmvccOCdJBZTaO5tz8qDN/xXeZsmiL8tCfT/J1PftN6KlfWvughzFNGTRxc7EtycxuePOyr568PXh58MYF7MN30ukm7cdMaK1+svFCqgYgP/O1cnjvaeNTDz4uFfgNnjakCYLECp3cOXZl6I+TVs3DRx/k8/wHDfdSKoHWNOqxgNZgysjOw8lGmZUlquskXHjr5NVh62ZvWmB0+n5Csa5H/wnjfYr370lryAoMOlVYLHDuttFLuTsvp5xp1d/Zny8NeSilATANSMC189YXpYjLaj5GSovu7CnzW9hsmiTpXoiC28Kuzyy9/N9iYsoa07QqlCX3dpQErPabBmmhDyRqW/PuC224VyKSiuspg0vipKyVdsN+VF47Wy5i6nnPsDErLDiXgGlxxs37TUZtDhxulBbzirIZ5tKrueLpxOySD34aw8qoHa+6/uk0dS++fLxMbmHSeaENJzzhbigNAOrnRakyuxb+qsfbxDSAPKIkm+flYiC+FlLLpEKDUJRG31S2Hc+Tnk+Nq9YnxjQSeBpaRwpzX9VZlI7+2LYjE3P/toy8Xfm5NcMhtfD5DWm3qZa+lq/uN9xplOLcAk777337Q0biy/9j77zjmlieAD53SYBAQlMsgKhIkWbBLjbsPnsBsYENFHtFEUFQFBtWbFjA3nvvBVFQei/Sew0JKZBy9/sD0ABJCLbn+3nfz/vjSS67M7Mzs3O7excRrVu70UMgezeDiyPqfecsHakaFnj0abYEyTC9qdu88MBHKULdgTPm9oeIQ3cSxB1ZlHz78ucxq9f5sFpc/VSgYDxx0TCl2OOvsjDo8vUavOCh/7Vxh2ctmfpwyYU08Z3yqvDr15MHL3DdzjtzM7xCtcu4eTPaZl/xDWbhMlauscyHl4LGbdrozb9wLziNrWk5ZYGdTuLu0EbbywA4IzI8c8WiLmrx/klcACw7Jo4ze4JZ1bt7cdXwg6Fa04GMNFjAEfIigj/z3ezsIPeiX21NKzWjynlzgYlwhKrdyVg/JzOjSHy7WxB3+2LY8JUbNjP878cL9UbMHKHGxjAMAwBR0r3Ln0etXeu9Uv1qcAHFcOQce7Pyp5teFGEg/fFY+Y0jLlKJ3JareHvpgd0+u61eeMCDRG7LnjYLRqvE+d+M5AMgUtM459OVq6l+9m6u3MCnmWST8Xb9yRyM3+xdhOYiNk/lyJNWRTkZhaqzZqxZUnXlQwab2tF65hB63r2IAnnllGUcVFyYj1duZx5y2O6lfOVpTCHSYYTD3IFwZ11sFYAiAIBSD+ed65UvvM2hGI52mGFa9sztaRFWVSo16EB6PLb4Jp3gy63jD0bsnu405unGewUK5tNXTe6YfG3PnWSZ+4yywxZnhAbFLl0xawIWf/xd7TEbtnTt6h/1xZlp2XxdB0eXYurD2GJcq+sk2868yEfJIrzsRwP8F/Fv158yEeVn5eMTB0wYeCnmdXnuHa91ggVO0+1dpypVFWdE3t6640IoEwdIuLjtoOoyu5V7JgqL08If+6180G3TttnrN2Y4r75+3d0Fc3aeNN9tNFqR9ibA7b7J9lUSOsIKw95FTbZfcbh9m5XOT+WWD6/4sG/NjnLnWTYbhqghlbnRT3f6BD4vwQGg9MnhHe1WOE7ccGguFeVlPj51k7HQrOZb3Cj/tRvZq5ztXEcqFH88v+ckY89GelVzXvIrygx9nTLcxn1/++OLV92WLh474shaT6az/YQVHg7Ayk/8cGRd4P0MuVwOryi8MT9xyuYOY/30FPnV5SmM1wuTnkZgAFD+riB1vqHNHZrmlKB79R6Rw/KPhh2p7jxxfucFTmRBATNu1+c7xyq+942YeHFg+GF+50mLjewXkvj5lSkBEWcPFbNlbiYLQpJPuCBTl3SaPYmMVVQVR+adn5ESzwIA3kfnUNy187C13fqr4ZVJpa8cEx+//KH32FaHJvnNFUxZr2d72oDE5mU+ivfbnlVYY10eI+kz1mswMz1aBAB4ISMtE9dXKU1K+u4ORenPSzmzWiXcKfn2HjEhM/oO28yp1+pOMZ4LpU942I/qrjqyrZEC+8WTBgeE8NzHRaWLO1iOUXp3Su61RIz3YVWE6jbjfh6WwxRFrGxWyp7Pd/3ZGCBK7SyHDG3JvHNcUv0nCD/m+cnE0cndjlqZm/DysO+Jh/lYve0LrPCp91pY6Dx9vsd4CqcoLeyM65F7eZj4fAEgSLt+9NGovTaL/3mx4W6hWDfC9MseLtWOjlOdttgo8Uu/hJzZfPxyYhNBiZW/2rkOn+c0227VGLqIkR330mfDuZfFkiZXLD8iskBkSE5IKMIAQJgck8Qf3zMpLKbmQO2PhGqtArLSYB7GjQj6XDVsSMGrV5l1kyMmNaPKs5CFc2LffCxZPm//Pp3NNvtCxYtprPDBlrWipStmrnC3qUp9cPjggznbx/CqcADACh9tdcEcHac7bBxLxxgZEdc9TpwLaWJNXF7j1BPpQIGkpiTCizm9fhPHef4/K7fNInMLEt8dWed/P0sEALj0NC5Iu7hpLX/Zsqmrt9FY0dcO+hWs9rTgVf+aPdw6xOepRQFyfAFnvT+82X/J4onzNo+lCpmFmXE3PU5eSGjGI6fSjVNPmJMJ5zeu5y5yHL/Iw5bMKUoNPe968mZcVY0vCVNvHHymPHLyGo8WWEla1M2tJ85/qsRlBp3Ujxq8DC3y7Jl3QzY5OA54ty28bdfBQy3RV75N1H9NhC3OCHkXt6yXecyL91/3F/hJMrSr13T6Ze/ttCVzJi7fZo9yy/JSQo9u8H9RigH8cID/GhC6Rut/W4b/ZxCKiqqSkFX5LTEotOs73EIY8SSsZvpBdewOBkxNXj/DL/pfdwaCPxek1ZJ+mxazT/aNif/Fv+v070Hq5LBpcOiOM0n18zelv9u9zSoHbDc9beIhEYI/AVTD1NqqRc679yk1TxlQ+2y47NHqzJx198r/7bfdfjeN0jjauvvoHkoJL2ufP0XURvtcWM7bPc0rqOFrngl+G6jWpC0z870PNnwhJYFU/vUXEP6fgws4zMp6d4UiRZOJq9yWTO6soUhW0DAavWCKQfGbN4lE8UcgBZSCUlq2HDpHrfJRfsr/bfEHCm17DO9UGptN/JjofxtcpDVg0UaXuX11VMhklba97WcOokS9CpH00pH/DI3TONJh5GK3tdO7tVIiU+gdhsyb3oP7/mXUH/czpX8RaEuLkV3YsV+ImbQZEOt/vx+lDiOdVzqNNW+hAHh1edKLs76HHqURt40EkkFaL+/v5qaOFBZdmhj+Meu/PI3KREnHRI+fmlLSKH8T63//MRBNyxmrVtpadaCRQMTOCbt5eN/Z0Ia/3fVfh9y2//y1iyf3bEtFQcBMf3/h0P5r8Y3fq0LwuyC1MjYmZSX8pp9L/z+BqP/+LVBFNXWqsJLJ+aU/pk7w34ekSdO3UGBGMYqZf6erKKq1UkNYJRXNe88Mwb8LQlFRp5O4Fazq/7PKTxxUga6mgnOYbP7/sZIE/7cQ9R8BAQEBAQEBwd8Fcf6PgICAgICAgODvgqj/CAgICAgICAj+Loj6j4CAgICAgIDg74Ko/wgICAgICAgI/i6I+o+AgICAgICA4O+CqP8ICAgICAgICP4uiPqPgICAgICAgODv4v+z/iOZLAp45m+n97u1E++X3MqkVw99Nam/pY6oWW302ziQLs+PrTcE1Z5+9NGlZWZkAEA1DHr3Mmr5G1SVoZHYR4ja2D0Pb6/vSfmJPVMGeDx76GWt8BOb/A0g9Pbd+5i2UWzOZbQRO17cc7P6mcb7IRDNCb4Pb6zp3iyBFPTHeQTcfPJ4yzDar5LrN0OxXHnjxd7JWggAICpmM3cF3Ht2dU0vxQ6zfffP7ED+lV2Tuy27+ry26/oodJrkfubew4deQ5QR5RE7Hj5w6/fH+I1MfiRlfWd6kZq7KH3X3XvhM1YNAUCUdMx6d22nIkdGlj4oBAT/If4/6z+8MisyOCr3t/9Wqli/iEqv+Z6bpxpKmxtULO0Xar+5GFz5Pb9pgFflRn8MS2dhAEAyme7lOadbU1XGjyNDo6aU/TshdfhnvbfjAI0mJol6lwmLE4JDksv/0z90QeluM2+g6PnWVSdC/w9/rRihDbCz71J2w9X1fDw/6/a1/NFLxuv8G3WAgqXNwv6CJ1tXHwurwkXF8SEfk8v/Gz9C8dtS1lekJyis/EtIcHyhEAdAWg1Zsm3tcJ3/zzmRgKAx/6EZG0FQBMfkynBY7pNDXo2+j6KAYT9zZiUrKUJVtdjvlYr1K3tGQLWGzRyY/9Axt/kJm6ykCFXlwSe2BTf7qwTSQEhkBBP+mHOgKIr/sH9VRV/YEv2b+/zZoCo0JWF23OfkQoG831BUIldX8X+pVDWQlJTQqip55ZIIVUUZqUyLik4vEQJA+INgJ7epFg8PxXyn+N89hCRlFUVBdnRESqEAAKIvbmuG38hs98dN9B9ClHJnx5Z/WwgCgn+HP6b+Q1RNJi1aOGWgcSsKJy/23bWTAU9TuTgA2cL5nG/r6x7p/ddO76GFckvSP90+cfhKDAMDAFKrvrMW2w/r0UmNm/oy8DJz0pbuL+3X3ChEjRb6H+793HHxlWxSf7e7K6sPH6kav2yimTpWWZQSdM3P70EyBwcAILXsYee4YEJvfQ1gZkU/v3Dq3Ntcvmx5ui27uEvjhOMrw2XzRyk/Xb7iWt63Go5U2+/SyNEBh2bqkQB2Phv2cvN4n+D66RRtP2q8YexlTxYOCr3WX9hh/njp/IAUESAtxu29trJL8gmHZTfyMUD17I4GzCrdOdOrxOGCeKer3vY7cGZKkovDrc77zzubUwA87j8fvc92/SMGKlWjBuY2m7zQcapV5zZK/OIvoQ8Cj1+OLMMAUN2Zx06MCl893z9FBACA6NgdPDMuZtX8oIFnpGhEMnY6K/bRhKMAAIiS/vj1qx0GdqTzixPeBOw7/iqnpk6maA+c7eww0rI9XVia9vnRef9LYcWixuIpd/pnvuPEPqYd1PjZn++ejhG7Jye17Gm7eMHYPgYtKNzChKDbJ/3vJ9b87jqq3sXGyWlSP0MtUmVW1LNzJwLf5vGBbL7kjK/pXYcVNwsxAACSqdPZg2b35666mq86dvfFaVmHH7aZ4zigNamqJOnZyZ2nsi2XrbUf3EGFlxdx8/DuCzFMHAAQZf3h852nD+2iTeUVJX24e/rE3TgmDoDqzTrs3+e9d5DRovlWuopV5VnRj076BX4oUhq59fbm/goAy649HuHv5Hwhh2Y23nHhJCuTtqrkqrKM6GcBx85+KFJscNlNA697q6o8p24PFkjVFFEbu/vitDTf6xp2i0foqwiZeXFvzh08+SKruvE4K+oNnr9k9vDuuiqC4uSguyeP345j4gCgoDPAYcnskZZ6akhlbsyby8cCn2fwakyvZjHFad7Inp11VCrT3l+/mi1memlBIebZujOPnXIyIQN4Ph8csnPS5idsKZ6GaE7Ye25C3MYDrLHOdt2yfefsCvl6J6XY2+X8doNbCxZfycYAABDN0T6Xl8BBB9dHrBaSR1/6KOchHeyPHu/+aOlFusPi8bphXo4ncgzGL3Sa0ttQm45X5CW8vHD49Pt8oTwKks2XnD5kp41C10MvRzzZaLPzozDlVVD1nnF9z8S+Yzcq4hDlTiMdHKcPstDTUBAws2PfXD5y5kVWtQy3EQGAgs7geY62gyz0W4oKI5+deyshR6PtZxwLWGBMBvB5PDh45+RNH/pvv76S4z15+0cBgILekAWLbQZ31VNmxD/wf6zgvL71aRv3F4JmmOh4ItbkWNeqqD9qoaPdUHMdmqg8I/JZoP+54AIBAKI6eufNhaVudns+1QwrffTOK0sqvKada7evQcqqaxRtM+XAxbkVPjM9XrAByF1XnNs/ReHJxpm7Q/gAilZuV7yM7y+ZfxNAenpR0B5g7zh7ZLeOLalYZUHS+1vHjz5IrjKql6DqZ2NKrzXXdmidmuZRsvjKzrFqKBj7vxx2Y8VcvxhhPT1lDIq0XAoy5hdEo5uN88Ixlp1aKfPLsqKenjp4Kfy/vepP8F/kD1nrpujP2LlrcQ/O62M7tvhciFAasm7/lom6dcKRu81zGVRxY/vqpW5HQ9B+TpsX9lQEAEVTe5+t0/Sy7+332nspqeNiTzsDkqTGEfrgpUvMUs9tXr56S0Ci+shlm2YZkgAAlLsu2rljTqe8e4e9thy48aXVpC2+G601kSblIXWw3TCzddyV3UfelEpcwBN9Ob/U6Ugkv+KZt63doU8N76WRNr17t8uIieXgAPyEsFi+roV5SwQAFIxNDUkIuZO5qTIAIDRT8w540ucoNi6lU7zwgeuMXW+5/NB9c2w9X1Tg0jWqB7nj9K17lveDj4E7NvuceM3tOt9713wTWfsxMjSS8BGiYrXczZpxa+fGddtv5emNd1k3ri0KAIjGwNX7PSe0TLq+x8Pb71GJ4ZxtvsstGx24QVqP3ui7fnSbvMdHvPcEhCiO9XDqp1B7EbXL/N077c2ZL496efoEhlMGLdu7bbIeCQAUjGZ773I0r3h61Gvz7svJWhM9fBZ3V5KhEwAAoHqTncewr3ssX7PtRkG7CeuPnPMcyri9fa2bXwjae/6KaYYkAEDbjvY4sNaaEha43cv7ZFB1z0V79swxrjuOSDK0XTuF9Hy3y7I1B56yTWe5LxmqjnDf7Jrp+qCIn3jaaeb6G7m4xpA1Pkv7YcEnt7ptcD/6uNTAzmPFyBYNLxP3JumaAgDaZvzyua3DjrisWuV9K7/9BJf147QbxTKiOWj9ftcxarEXfDw9/V7xejrt8hjXFgVErd+q/Zun6uXc2bdty57ryS3GuO53GaGFAAC5o433nkWDaMk39/nsvZzUZrarvXndUSvZQVEDln9r/Vzfj/yqd3ttp/m8Ysv2NETNynnlQNZzv91XE8RvAqpj3n1id+rfry1Sq0f/Id2wyJfBFUqybCJzmNuMXru4c9btQ/vvZ6sMXOazqg/2PnDHJq8Dd/L1bF03TGqLyqWgMClg+aKT8fySR27T5h4OEwKAKDM6XtStr7mEw6lUS8ftG0fSYy75bHR123szo804F9fJXw8lS3QbQFT7rd7lbmvAen3KZ/vJl7x+61aP0Gw0sljOrfWzD4byuW93zJju/U68LkPovZfv3jhaNeHSru2+d0p6btwwsbVcWV7MRFmYPGMNAGjrUe57XEarxl309dhy5EF+R9ttu5f3kXWmuVHKElOqJDoiW8G0qxEFANA2pqaaKEo3NW9PAgCSvoUZtTwyIkME0tMLyXC25xZbnczrBzav3+wTGE21XubhYEJuIhvXIIz0c1xxLo2fc2vdtKVnEuoXf7IGRYaHS83GaOsxrj5zTcqfHvV09zr6mm1hv2W1tfSj4gQEv4g/Yv0PoQ+YaWeYe2HR1vPpQgAICS9QCPCeaWPxcH80DgCoYsFt751XM0UA0V8Cuwzx1GuvgX7mDpw5USc5cP7uW/kYwMcYtlag+wCJ7VPQpPNbDj4sxgBis9V7Wa3p0E4RUqpaD3OYpBXj5+RzrwgDgJAYBu3UhjljO769UCJbHrK2MMjR+4qMzVsRj1XB5eN4NbuigtOo/FPt0r1DWXIKAwMA4MZEJGCLupop3yqq6mDemRQXmWDU2cKI/CICNe5iTEq/GVmGg079TtHWtU1h1ZUMDh/HUXYFg81HW4+SotH5dHFZlXrY2HWufODm6hfOA4CPoenIicOTp/W/6v2a8x0a1f8IUQNAyHjkSc/TQSwcIOmIbr8zNu3bkqAAOk6cZ01+u2OjbxATB/j4KYG399SiGcMvRt4tEZsHSEYTZ/WmfDq0ftujEgzg3cdk0ZHjc9sBACDqg2aMb5dzdYl7YKoAAELDCpXObreZ0vX+wdR+drYGeReXegamCQHgc66y0fHJw0yPRcZIHSUAAATPurVj7900IUDS+e5jdo/OuOJ94nkpBlG5N4eMWKqnQ4YUUle72T3Y99a5Ho/mAUDopy/48aNT7KxueL2uAgCEynq5Yfu5mGoASDpmMOhw3w5tUDyJU8GqFuFCXgWDVYWTdNVESQ+O7j3zqhgHgMj8lv1Oj9ZrQ8LL6l0G1K9ySdX0QCQAIIqCzzs8TgWxcICEw9p9A2e01yFBfj2PRPUnzhqsELxjw+HXLBwgNJanc9nDup/Wo9AhdiPU44/N9bmVjwFASBRL9fwau3H6rwJyLW2nmXJfeqzdH1yJAwSH5lACfMeTAWQHqZg/YFUsBoeP4wI2g8ERKPWR6mlsAEBbaGTsW3n8I6fhykdV1PtQtodVv9bXbxRiaAsra3PB570hlWpSbRLRxNoJ2kYpeum20wl8ALL5RFN6/svTAc+SRADhX1jYjF5sJUSmgl/bEfJYTI4QF1VVMpicmiJBmJaYpjyzmz4pJLH+Qjai3gLJenHm2KH7mRgARKVQLQctbqdNgtpFTUlug6qMnDVSM/WMs/vFLCEAvI/l7Du1wqKRPlg1i8Hh48CvrGBwBGJ5HGkzym4kPWTP4qMvKnCA0CRRm7OrzGQbp5GJELq1PGMNJOPxs/ogQTs2+b5g4gAfPyby/U7MnzH04ue7xdK6qZ+y6n0kyoqILJ1laaFHikhXNjZrXxAZqWRqYaqJppa1MjVrzY3+nCQARanpBVfRUiwJOXvJ93q8AADCY0Xm1lv0dKlIQqWMbFyHgFPB4glxEY/FYHLrDySqLX1QpOfSt8rS5pfzOQYWpgqp545ffZWPA0Rl80RTO/FVEGASK4AEv5U/Yv2PZNSjCzUvIoqhrFoDKT0ylqthaKhVI56oMPxzTm1IilhMNoYgCJCNupkrZnz8VLOXATjr84d4oeT2RRmfwmvXzPAqJouPIwgCQDW3NCGlhcVU0Wo6pYviw1NwPSMD5SblKYqNLvj+o9ZoGz1dEqOUUSsRIzoijWLa1ZCCapiYamV8uPUpi25qrouS9CzMaIXhUbX7y3J0Kl2jepeR9ExN6cyQN9G82j8IUt5+yFcyNusox0KKfAjiP0fU7MkCzmZxMARBAdCWXbq3FyR8TsbpNfLROLHhmai+cad6/aItTczaVoc+el1Sq60w/dWbtJrhJxtYmCjkBAWl12VxTtjbULaGqZk2xaCLBTX7fVBmrQ+IMi8tmzLHL6apc0w470tKds13MHYlW1iYlFwzMDiHVSlCUBIKJD3Lbi2YUVE5lFp3oBZHRxYrGhjVLjzhrJhPibV7rzirohJDGt/Ji77c2eZy+FUxStXQ7tSl75hJ/XVQmWdEpWta44OCxK8WhkpmJYY26hTRMO+qJ4p497HuMk7QnukT3B6UKJpYGEBi0PvayAG8LPhNtEjP3FiV3M7CVLXs3ZNPdU8l8aJfBRXVmL6poJBEk54mTI2ObVT8AQBUxQR95hkP6NMSBbRFvyEW/E8vPleSmrCJDHBOQlRqTbUhyk/PrNb9Z+W66cMtO2oqMMOvHDv+JEP0XQoCAODcsrJqLT3tRkvNeMGzAxu2388ERbU2Hc36DJ9qrU9Gvg2TRLdR6mxuAPGPn9S6JGBFr1/ESUlrElE262a/ZoSRAAAgAElEQVSExId8qi0l8JJPoV/k+76YieQ0BdLSzKyNMPptcF3dguUFvUlFjc2MvvM5ZGFKeCxX19xCEyEbmBlVx9+9H8s3MDdRRKim5p2EcWExteaSmF4AZ3045uZ+MV5Iobfq0LmH9eRRZkoIIiEYm4uMQZHh4TKysSgnIxMztt2wZOoQCz01UuG7c34B7/O/f0YhIPg+/oj1PwUNDRpF3+7wXTvxv4oyaLU7g3gls7JRcJBV1WjAZHy7ZaquYPJA4gsnMBaL3ej7CF1DnUyxcD5301n8z4IYmrIi1oQ8FWUVPxCsCJVKBQ6HV5c0CyIjC+f1Nm9HVTHrxEg8HRmlxZxhYaqhSTLXZkaGpYlqRqnpTmVohIDY4SSUpkqDinLGt9bw8tJyoKt917toJIFxK5iNDx0iGppqqHJX10sDxf+K80uUSQBic5QyTQUqU8u/VW5YSVFtLYiq0FXwinIxQ2DlpeV4d1UaWU1dFRhlYk9Aiqq4HIAmXbzBI0VCgbBhPYKqa6iTWo7bemtcve+V0ZVrZkO8ktXYPRtCbt1v7lLH8T060ETlBdkZOViV7Ht96ZqiUAGAVzMrm3jgAFHTUAVmOuObZTEBjyMAVItOR0UV5cxvTVeXlbLBWJWGqtBUcEYp49vyB1ZaZ/qmglSiEk14Gs4tZ0g4tAgAwI16F169uV8fzQefBgw25YVuC+PItEkT4AxG3dfw8me+Lopz7CdNc/lnIUXATP/0KPDIhaA8sgwFS2Q2zmVzkTbKVAQalLKoRle7FYum9DfQAGZRbmYap1rcTSS5DUKlqZAE5WWsrw3hnKJiNq7dlH5fu6Spq5Oq8yvqkgtgFRVyriqJmUjOsUZpdBWoTGd8i1S8vJSBKdDoSgh811JWdWx4nHBZFzOVKN3OtNT7MdHkFMp0C0NFVpfOpKSrUbVJTHJ6AUBoncc5L5s+xFSLxCnJy0yv4DeK5e9B1qBI93BURjbGsm95bcTnzv7HwX3SMlJ1WfKH2yf9r4SVNj4ITUDwK/kj6j8BjycQRByfseZe4+N0ZACQmEuEXE41oqeuikDtYoWCKl3qaS+JSwy8KrzqreeEbW+qGnxCsWpSnh/JK3gVjwdUZWrder8oLTyKNa1L1x7KnZGUU2nVX1omCoeZd+1GNqiOuZP4Nbk23al0jeqBcSrZoK6pjgLUqUej04CbIeF4N6pCU/5Za8Q4j1uFld5ZM/tApMwVCXZlJdA1NShfi0JESZmKALtGdA7STlMdhbLaXInQVGnA5XCFXA4XtNVVEag9Ro3QdDvrU0sSUysaqqSs0jyVcB6PJ0y7s9QpIL1RgkYBAPAmvQHRnrRhi63yk10r1walMfg4qj310NkJsr4hXdOvhz+b6pTL5iI0ddVvxTWlRSeT1vyMrEo2RlLXUEWhboWVQqdTgcPhYWxmJai3UK/bogQAJSq1Zs6XFaQylJDtaTIsx4kIDhOss+prpGhtwvlwLZwLQGnSJt9oOMq42CO2GDPhrt/Gu0cUNdub9Rwwae5M9y08p8U3ZCgoez2LqkKFqqqGBT2iNnSt57yOnw6u2fIisaQKA5WRW2+tFBepsfI4l8USUjRaqCJQVvspSZmqIP99Gc5jc3ElNTUqAoKaZ6LoaqoINIwBAJBlIjnHGuNUcoCuIR6pNFUaKmSyq3FocB4SpaqooJLlEBeBHROWTLHr1s28jW5+fFJFORKbq9G7Sw+2qWpWUGQJJvO9CkqWTt5L+3w54z77QXQ+VwTk3huumms20aMcyBoUGR4uMxsLS8Kv7wm/7kvVMujSc4it/bxtayrs3R6W/Ix6lYBAXv6I/V9halyKyKh3r68PKpA72Ow8ud/eWFZ1KkqNSxTo9+3VqkYFhN6jn3lzth1wVmJCNsmsjyWtrlfFLgv2nfYer4t+lzzygxXmFWAamupfU5kgISKGbzxsanetjPikKpwXH/tFyXziRHNyfHgMT1ZLcmtU7zpRVnxipVqfwRZ15TLZcOjg9tVJcWkiAMBxVIVet6CCtunWve3P8hGsIDGxXL17X6Ovx/9VrZYfO71uaP035GHlifF5ir3HDK57QSzaduhQsxrTC7/EJfHbWVl1rBsJZcuhVprMhLg8QWp8kqB9fyvdugcktMdu2rdjRmcyAA44SqfXLW5SDHqYqzVLbmFWXFKVbq+eOnXb1GjrkW6n/Zb0avLhkq+QOxjrk1KeX339hcHHAUChrW4Tu4rSNZW3+sJK4uOLFLtb9axzB+We83bvXzGkZXVSXDqYDBjQqvbviIbV8J4KefFJDGFufAKr5aBRveq+QjG0tq6V4HuCQranNQEn4n24qNvkZeNMWcEvo6uasom8o4xojNh8OmD9ADqCV5dnRjy7ePRWMtKugw7pu6NeSUNDqTwvv+EsT9I17KSU//bm4/iSKgwAyG11Wzd5wKI6KT4VNxs1qs6NEY2BI3pQZX9HHJydFJsJZr171hoCadG7l0GdAnIHgpymwEsSEovIXQf2rXt0AdUeMswUT45P4QMAjiOKdLpCnR5dLfXlOF6ClUZF5Kh3nzKqMy8xLhcT5cTEs/WtpvRtXxoZ3oTno1qGhhqc0Fu3IvK5IgBANXW0qT9lR0PGoEj3cKH0bIzqTfM+e8KxuwJgvJKU0Men/Z/nKuh1bPvTjt8QEMjHH7H+h5e8uPzYZvuyXS6a198mllFNJjjYW5SdOpEmlCEgVvbqwqNpe+d5rcHPvyuiW062NePzARPJvziR+fBS0LhNG735F+4Fp7E1LacssNNJ3B2aj+H4d8jTqHkRjlC1Oxnr52RmFNV7NQTOio3KXmZpoI4k1d5P8uLC48nr+urnXkoqxQAri48tdJ5jgcccjmY1fUOIYRipVSfTTglfMqVqVP8bVeHXrycPXuC6nXfmZniFapdx82a0zb7iG8zCAcqzstmaw+YtihE+z1cyGbvA3pQCeU1pJP5RpvS1R0HszUsxw5a5eyOXH3zOEbTtP3PhP6rvPMMr6ispSr1/+dO4DUt3b1K7+CoL0R8+Z1rbypoVI7zi7aUHdvvstnrhAQ8SuS172iwYrRLnfzOSj4veXb5rs9fByw05/ySJ22bgrNnGJc/PRPBAVJSVy7f9Z5H9l4CPDI3uUxZN1UUgqUmzisH+eOV25iGH7V7KV57GFCIdRjjMHQh31sVWNXH/hIlwVLO9Sad2/LycjBx88MgZI788yBBpmQ2bYTdMjSRo21FbNSWb++2ynJyv5b50TQHkrAdEybcvfx6zep0Pq8XVTwUKxhMXDVOKPf4qS5jPuPxyiofTTheFs6/SMd1Bsxz6C0N23v0iAjzyxs2EYQs37uEHXgspopqOdxhNq92hlRWkUpHhaU3OzDg77F2UyH2AXtGdA9HVTdkEkXeUcWZaNl/XwdGlmPowthjX6jrJtjMv8lGyCC+TrqCsG0uyvnGn6riHjewgKsjMFkwZMm1C5I04rrrRoKkzx+uiFHaHjuoRKSxpjWGFL648n7ptwXYvxQuPk6rbDpw+06S6Oe+Ix7IeXHo9cfPybU5KV8OZrfrbTdbl4jWHHOQPBHnHWpR07/LnUWvXeq9UvxpcQDEcOcferPzpphdFGODcnKwShUn2S8ZV3E+DDtbznPqoQN3rwMVSVj6z/q0AlhMeVTZvmjk/5GGKEABPiU7EJwwwLn94JrWJY4xYWVZWJa3PNJv+lZ8ZKh36TJo52QRFc9p1aqEUXSYjd4mpjWOoqq6xoV55Vk4pT2y9WMagSPdwjC0tG2PkLwUKSycsX8+88CKZQdLpO32MLiPkeJoISJ3Gr55ukf9g/6Xm3PgTEHwnf0T9Bzg74shaT6az/YQVHg7Ayk/8cGRd4P2MJgKeG+W/diN7lbOd60iF4o/n95xk7NlIr5K59VkPrPzVznX4PKfZdqvG0EWM7LiXPhvOvSzGAOC75KmvEif2zceS5fP279PZbLMvtN5jCFje57BC2y6myg+Cap63xSsiw9OEfdolxWeIAECUFRPHwnTLwyOKm65mRSnvX2X1tdl+sJ3vLPfnUjWqhzD9sodLtaPjVKctNkr80i8hZzYfv5xYBQDA/XhsR4Dyoolrdk9RJgkK3vufK3Yc1pRG4h/ZnpYuK5Z7x2udYIHTdHvXqUpVxRmRt7fuuBDa6HwSXvRk53qS45IZti7WSpzskMvuu1TXbdMDAABezOn1mzjO8/9ZuW0WmVuQ+O7IOv/7WSIA4MX4u7pxFy+cuNLbXlSenfho++4zYVwAKH1yeEe7FY4TNxyaS0V5mY9P3WQslOuJyK/wk85vXM9d5Dh+kYctmVOUGnre9eTNuKY8TZQZ+jpluI37/vbHF6+6uWdXy2UOi7eNQBmZUa/Or1nbZpX3ohUeNmmLzohfdv/b16VqKveaBlb41HstLHSePt9jPIVTlBZ2xvXIvTwMoOLDvjU7yp1n2WwYooZU5kY/3ekT+LwEBwBhxnV3F8zZedJ8t9FoRdqbALf7JttX1YzK9wSFDE9rErzyc0gsv7/e29fxdc4mffRxuUcZS7/svZ22ZM7E5dvsUW5ZXkro0Q3+L0qx74x6VNfCghp7LbbROUa8/Nn+Hdor58/a6qvAyo1/d93d+dnMXavn756XZnOwUKrSrA8HNnpXLrafuMJzZnVB5D0fN/bsg/3kMlhNA4z3e1ZsX7jaYaHHOCz79cndV4cdXMCrxppjIrnHGit8tNUFc3Sc7rBxLB1jZERc9zhxLqQSBwBh4jmvoxorbRbtGkWjiMrCLwa++Gdazbfqp6wG4S9MjYhiTm1VFJ/IxgGAGx/7RWjVMTo8ocn3a3NDTnieUVgy0fWgHS8vOeTO7iUPh3t7TN22KmOm+2vp2VhMmbB3UZPtVxxu32blopPiLySSNSjSPVz6/MKPDti8l7x0hq3LMBrGKslJfLFr/dkQDg4Ujc4Dra2Twv0ux/CIrWCCXw5C12jd9FV/JArt+g63EEY8Cat5jhHVsTsYMDV5/Qy/6ObUaf8OaNtpBw+a317g9eq7fv/td0Ciqqnglayq/5+n0hCKiqqSkFVZ/aeanKA+ZFPHgMP9g5Y5+ifKH9K/eZRJneYd9W5xct7eMPlvPH8liIqh1ZAOjNCX8TVH98imjgGHejxzXHI+42sk/14ToYqqdBKn4TtVCAgI/nX+iPN/34dI0WTiKrclkztrKJIVNIxGL5hiUPzmTTNmin8RrPDZlU/6Y63lezPrv4KIx/x/Kv4AABdwmETx99+ARKEotraePqJNzpuXKc0K6d87ykoWY4fw7t2I/DOKPwDARfTu9hs3OA3voEohK2mZT5s3UivtTVBWvSePf6uJsGoWUfwREPyJ/IfX/wCUOox0Xuk01ryFAuDV5UkvzvoeepT2Xzk3gWoO89ja9ZHLvk/cpi8mIPibIFs4nzs8ta0o79GWVXvfM/7Umh3VmeazUfX02jMpv+O3i+UEoZlMXrp6rrWhOhkwXlH0o+O7T73J+1t+z5eAgEBu/tP1Xw2oopo6VVjJ5Aj+1GlCGiRFKknA4/9fLbIREPwEFDQNzTtS8hMSC//kc1AIWUkJ4fMEf2AEI2RlNVWFalYF7z+xIUJAQPD7+T+o/wgICAgICAgICJrBn3v+jICAgICAgICA4FdA1H8EBAQEBAQEBH8XRP1HQEBAQEBAQPB3QdR/BAQEBAQEBAR/F0T9R0BAQEBAQEDwd0HUfwQEBAQEBAQEfxdE/UdAQEBAQEBA8HdB1H8EBAQEBAQEBH8XRP1HQEBAQEBAQPB3QdR/BAQEBAQEBAR/F0T9R0BAQEBAQEDwd0HUfwQEBAQEBAQEfxdE/UdAQEBAQEBA8HdB1H8EBAQEBAQEBH8Xf0L9pzDY68WLN+8k/ffq6JwO3yEioqRj1rtrOxXk5wv7fSD09t37mLZR/LflkAKl77p7L3zGqv1aeyEqZjN3Bdx7dnVNL3KDT/608QIABf1xHgE3nzzeMoz2cxuup+xvsvzvcT+FwV4vHnlZK3zXl0md5vk/C7DvRJJ5Faph0LuXUcs/IW39Xv5Axf9Akb4HVG/Wkafn5hlJcDySyaKAZ/52emg936ZYrrzxYu9kLSkxq2S2+NjWsa0QoI3Y8eKemxUF6gcgqmUyyLqXPv3HQ54yyPPhU69BlB9uqB6o9vSjjy4tMyMDAKBth64+dvPeo4OT2/5b44xoTvB9eGNN9+9Uk9K265DB3XUV4V+ahet1Sunv9vjhtuHU3yqBLP6E4BXGX/Hy8nD38nD38vR7U4gJ4i5vr/mnh+fJtyV481tEWg1Zsm3tcJ0/QTsAACB1+Ge9t+MAjT+pwBEDK/8SEhxfKPwOU8sPQhtgZ9+l7Iar6/l4UYOP/rTxAqB0t5k3UPR866oTodyf23I9ZX+L5f9092sGJJPpXp5zuv2pN1K/jj9Q8T9QpJ8MXpkVGRyV25wEQDaascQy8tKzYhyExQnBIcnlONQPQJLJZFePRdZt/qBkVw+8Kjf6Y1g6CwMAktH4+SNVPx9au/tVKfZvC/ZdILTus91d5/ZRQ/+lNPhn515y05f8crDSxKCgRAAAQDu2n431LY5//+6doMFViIKigrC6+l/1QrKSIlRVC/9NEX42qKISuboq5c6OLb+8K6qKMlKZFhWdXvLjFkRRFMewn1U11RiBX+9PKjQlYXbc5+TCho74UyUSNdPyP1dvgh9BVjZASWQQCX97svqFCQpBUATHfqJGEoLuJ0JSUkKrquSMXWlguU8OeTXnCwi9n+04wYsVyQIAqIq+sCVawkV8vgDjVwv+1CDGy4NPbAuu+X+USlPB8uPDk/KYf6q4jaifInGhQIDjwP9jzf3v8ifUfzKgDPC4v5TpuTmpv7PDEO5Z+wt6hw9ah66z94uvyXFUqw2Xtupem7vycs7XzETuveHqzrFqKBj7vxx2Y8Vcvxi8ZU/bxQvG9jFoQeEWJgTdPul/P5ElwR8U9QbPXzJ7eHddFUFxctDdk8dvxzFxcrdlF3dpnHB8Zbhs/ijlp8tXXMtDWvawc1wwobe+BjCzop9fOHXubS4fAABRNRvvuHCSlUlbVXJVWUb0s4BjZz8UKY7centzfwWAZdcej/B3cr6QjauaTFq0cMpA41YUTl7su2snA56mchsLRGrZffpih7G9DVvTgFuU9un+6SNXohmNU7CS3rAFi6YP6txOA60sSP1w+ejxJ5lVAACIsv7w+c7Th3bRpvKKkj7cPX3ibhwTB0Rzwt5zE+I2HmCNdbbrlu07Z59oxbUdWqembXrIxAEo2gNnOzuMtGxPF5amfX503v9SWLEIABCNbjbOC8dYdmqlzC/Linp66uCl8HJJUkuwNsl8yZlDdtoodD30csSTjTY7P36dpBqPl0iy2IDqzTrs3+e9d5DRovlWuopV5VnRj076BX4oEgGQ2/Sds2TW8C7tWyhWFaeF3Tl67HZCJV4zJpMXOk616txGiV/8JfRB4PHLkWUYNDbCrpA6kVDdmcdOOZmQATyfDw7ZOckzd84ZX9O7DituFmIAACRTp7MHze7PXXU1X3Xs7ovT0nyva9gtHqGvImTmxb05d/Dki6xqAABUvYuNk9OkfoZapMqsqGfnTgS+LepWX9kTimKWlyqqmvRemh4UlUbuR9YZ4LBk9khLPTWkMjfmzeVjgc8zeI3DAVEx+Mdp0XRr0zZK3PzYt1ePnXnyhYsDgIL2AHvH2SO7dWxJxSoLkt7fOn70QTKnoSdIjCaK1YbbnioHJ3o8r1lUofTZeNtD9fD0TU/rCSDR85ltph4672xOAfC4/3z0Ptv1jxiotEj8Bqo99eC5mQWec3a8r+mSbL7k9P4Bwavs/RMU9EctdLQbaq5DE5VnRD4L9D8XXCAAQFRH77y5sNTNbs+nGpegj955ZUmF19Sdn/DG2UAsHskWzud8297xKbBeO6kzTcjMDru2d/9z5Skuy8d10ULKU96e3uX3IkdYE5kSuwaEZjx+odOU3obadLwiL+HlhcOn3xe2aqS4mLGbk6AkD0qNxSV+hWzhfM639XWP9P5rp/fQQrkl6Z9unzh8JUbCWNQbf1KrvrMW2w/r0UmNm/oy8DJz0pbuL+3X3CjSaBR0MpIzuXXfmc7zx/TSV8XLMz49CDx2MaxEBFLTGqAd7I8e7/5o6UW6w+LxumFb16ZPv7BO4ajdpoc1EYG2m3nM3ybLa+aOkEbuTtEe5LRw/qgubRW5uZFPzhwPeJcnAJLRQv/DvZ87Lr6S3Tg8JIBoDR3fJ/e1fwEOAEAduu3eqirPqQdU3MUDcMmLjMxKNK0A+7GM2uAyRKPP0n3bhjLPbnS9mMJDlDuNdHCcPshCT0NBwMyOfXP5yJkXue0dA5ucPQHQ1tMOnZmS5OJwrp337XV9KADrrz//x99hqZirk4ykN4VIlhbVnXnsxKjw1fP9U0QAAIiO3cEz42JWOZxKbLAbBIiaxRSneSN7dtZRqUx7f/1q9relUmmmkD41cLMy8grJ6ZXKjdLgN51lyiZ1ZpE6UX6jYe69CgCAULStVy51HGmsiTO+BF8+eOBhKg8AAJGvKvip/OJFaJJax17DR40cYNLqu3cJEKUu89eOJ4ec2n72c2X6++BCrX79DWvLVuUe1r1VEt+8Fc/BIIz0c1xxLo2fc2vdtKVnEoTULvN377Q3Z7486uXpExhOGbRs77bJeo1OeyCag9bvdx2jFnvBx9PT7xWvp9Muj3G1hx5IHWw3zGwdd2X3kTelmHLXRTt3zOmUd++w15YDN760mrTFd6O1JgKAaAxZ47O0HxZ8cqvbBvejj0sN7DxWjGyBcN/smun6oIifeNpp5vobuRhFf8bOXYt7cF4f27HF50KE0pB1+7dM1G00Emjbie5b55lVPD7s5eKy/USQoIej+6J+yo0MpNDFcZvrGJWYi77ubr6XE9VHr98805AEAGjb0R4H1lpTwgK3e3mfDKruuWjPnjnGtaezEDUr55UDWc/9dl9NEPdZRGPg6v2eE1omXd/j4e33qMRwzjbf5ZYqCKCtx7j6zDUpf3rU093r6Gu2hf2W1daNz61JsbYwKWD5opPx/JJHbtPmHg4TX6FoOF4yxQaSoe3aKaTnu12WrTnwlG06y33JUHUE0A52W91tdLJu7d/q5h34Ce23dOt8SyUAIHecvnXP8n7wMXDHZp8Tr7ld53vvmm9S54xSjIDl31o/1/cjv+rdXttpPq/YjUxef5zajF8+t3XYEZdVq7xv5bef4LJ+nDYKAApGs713OZpXPD3qtXn35WStiR4+i7uTGygr1o5sUSX3Is+gNHA/XK3fqv2bp+rl3Nm3bcue68ktxrjudxnR+DATqj3ea/fqgXiw/w53r4DPikPW7V01SA0BIBnO9txiq5N5/cDm9Zt9AqOp1ss8HEwanuiUEU1NIsXzscIHrjN2veXyQ/fNsfV8UYFLjURxsMKQ96nKvQZYKNX8m9J58KBW+W/eJGGtR7nvcRmtGnfR12PLkQf5HW237V7eR45jWfWyQaNPKb0XLmn/eb/L8nXHPqF9Fu48ddS5zacjHuu8b+e3+2e10yBVBACV1jVCH7jMZ1Uf7H3gjk1eB+7k69m6bpjUFhoqLlsk6QlK6qDItCS52zyXQRU3tq9e6nY0BO3ntHlhT8VGY1FPHEVTe5+t0/Sy7+332nspqeNiTzuDb/m2XtBJT86IiuWiPdtt9LJu+7p77btTaDjHa/vsTuQm0hqgbUavXdw56/ah/fczmZ+CozEzq96qNYqg7QYMNqj88DKy8b0O2mbsulUWhff8vLefeM4wmu7ps6wXrdk7doiqZV/j4qi4svpe0SAARcVhdwJfJPF/MKPW65hm4bDdc2T1DU/3Syk8AKql4/aNI+kxl3w2urrtvZnRZpyL62Q9XJ7Z8xt45attdluflvOjjy60dblbIH6VSGpTcs62MiB3tPHes2gQLfnmPp+9l5PazHa1N6fIYwrJU4Mo6/2162/ThA1nYTmlkTqzSJ0oxZHUKcXCyX0q+vLARhfPgAS14cs3zjAgAYCcVcFP5leu/1E6Tty+f0kvTRICODflquuq09Hs5pezCK1N2V37PU/LcAAAVtDHYpu+Vp3OJCaLQMVySF+lhDPvC+sPpoBTweIJcRGPxWByMfVRM8a3y7m6xD0wVQAAoWGFSme320zpev9AhPjuAKo/cdZgheAdGw6/ZuEAobE8ncse1v20HtwDALK2MMjR+0ouBoC2Hu8wSSvGz8nnXhEGACExDNqpDXPGdnx7PquFmijpwdG9Z14V4wAQmd+y3+nRem1IeBmnglUtwoW8CgarCujWM+0Mcy8s2no+XQgAIeEFCgHeM20sHu6PrrddQWqpwo25dmDvxVA2DgBRrI6Dd5u200CBW09dtJW5eWtOkN+Je58FAGGxZRhnCChQAEhd7Wb3YN9b53o8mgcAoZ++4MePTrGzuuH1BgDQFhoZ+1Ye/8jBAeDb0Vq048R51uS3Ozb6BjFxgI+fEnh7Ty2aMfxi5CMDC1OF1HPHr77KxwGisnmiqZ34KgjU2xhA1AdJtTaLyRHioqpKBpNTf4Oq3niJFLpLE/t1FQAgVNbLDdvPxVQDQNIxg0GH+3ZogyJYZ4tOSOTu4zffsgEgKl8gGKeBUBGAHjZ2nSsfuLn6hfMA4GNoOnLi8ORp/a96v2Y3NIIYWBWLweHjuIDNYHAETQQJoij4vMPjVBALB0g4rN03cEZ7HRIUqPSzszXIu7jUMzBNCACfc5WNjk8eZnosMkpMWTHLK8kWVXIvJXIMCs4Xdz9EZ6LdCPX4Y3N9buVjABASxVI9v8ZunP6rgDTx+wCFrlNnWXLvr/M4EVEFAJ9T0I4XFw/rRX37kqylWBJy9pLv9XgBAITHisytt+jpUpGESjGnlBZN92WashZpnh+cV8ng8HEcZVcw2Hy09ShpkZguHiFYwYegLwun9bdQDP1cDRvisv4AACAASURBVBTTwQO1cp++SgPjebP6IEE7Nvm+YOIAHz8m8v1OzJ8x9OLnu8WyxRPLBpLgBh/bEfCKhUNM4c3B1itbvfX1vR5TDZAU2GXkvp7tWqHAMRovpeuHWuam9PyXpwOeJYkAwr+wsBm92EoIVi2uuGyRpCeoi4iUQbkDw6RZMhsAUMWC2947r2aKAKK/BHYZ4qnXXgP9VChVJER14MyJOsmB83ffyscAPsawtQLdB3z9WCzoEOnJOUp9+Jx/WsX6O/jcLcIAPkaVtTy9d+igjhdyaDLzA9pGKXrpttMJNfsxn4OikWUDetCfvmLhqN7gQfqM4BNR1Y3thygIQne47X/DwgHeB3/BTu+fPH3Q+bCnsh2hIZTO3cyEqfdzGqxn1Q9AHCDr1Z0sAKD8aEatvYJqOGXLdhvl51vXnIqp2fJQb4FkvThz7ND9TAwAolKoloMWt9MmCcPkmD3F5WZXVFbjOJ/DZFRW10+RwlSJTeHqI6QOqJxGVLS0nWbKfemxdn9wJQ4QHJpDCfAdT27CFCKQMjVARXXiw0cAANBgFOQCoUmZWfhSJ8q7Yk8sNBx6CgAg5LTrWw8+LMYA4nI0+gxY1VGXAmnKA+SrCn4yv7C+VO47Z25PTRICAIAoG06ZP6rVd/UmyoyK/bq5IEwJ/lCi3a9/exIArdeQ3gpxr4KKZdXyZAMLE4WcoKD0Oitywt6GsjVMzbTrCYNomHfVE0W8+1i3rs4J2jN9gtuDmrEUFcVG197/UM0tTUhpYTFVNFVVVVVVVbooPjwF1zMyUAbRlzvbXA6/KkapGtqduvQdM6m/DgqNbudIRj26UPMiohjKNQ2oktIjY7kahoZaDawjiD3v6nYylENSadHOqMuACWMsNVGk8T0pVpaezqJbL3KdO6q3kZYyP/Hu4WN346uApGfZrQUzKiqHUtsPtTg6sljRwKj2fkmYGh3baM8Obdmle3tBwudknF7zJRonNjwT1TfuRBLlZGRixrYblkwdYqGnRip8d84v4H1+A9PLaW0ZNCU2zor5lFibwXFWRSWGIAA4Jyu9EO01b6PThP4m2jQk4/mJw9fCGDhJz9SUzgx5E113xy9IefshX8nYrGPtPaNEIzQXQeLniDq3qWRWYiiCAJAMulhQs98HZdbWuqLMS8umzPGLkRbMTYoqsRe5BqUeSiYWBpAY9DXr42XBb6JFeubGqvVcC23XzVyT8Skotqrm31jJo02TbHe85QHO+nDMzf1ivJBCb9Whcw/ryaPMlBCkvmPKjqYmkc/zZURifbC89x/S1XpbmVEAKGbW/VtkvnmdjrU0M2sjjH4bXDfbYnlBb1JRYzOjJp8zFMsGkj7NS0mtuc3F2SwOLshISKlxV6ySxcZRFAVEetei/PTMat1/Vq6bPtyyo6YCM/zKseNPMhruj8kUSapZVKQOShOWFBWGf66raUQsJhtDJKQhMchG3cwVMz5+qnUxnPX5Q3y9Bf+vQScjXSiadjNBE98Gl9Qamh9zdOEk50vp0FR+4CREpdbVo3hFaFAcqbtVDxUAtP3gwR3K3r2OlVD+Ac6LeP3VLvzkp8/TSZ1NOzVzcQRtoatLZZWXNz1cNfyUjIpqj9i008lSlRH9Lra8LqYLnh3YsP1+Jiiqtelo1mf4VGt9MoIg3zF7SkdyUz8h/7ezMFUte/fkU2XtaPCiXwUVieQxhcSp4QeRNrPImCibalKYFhpeu2+A81iVQkCQZlQFP5lft/6HUDU1qd+ER0iaLdURKGp+Q1hFecU3HxUkv/9QNsmqX7tzJR2te1CiTrwvlTmpoCp0FbxeC1h5aTneXZWGAnz7I6KmoQrMdMa3PIUJeBwB1FgIryirbQCha6iTKRbO5246i/ciiKEpI1DVqt/cpY7je3SgicoLsjNyMEm3GQoaGjSKvt3hu3bifxVl0Bq9/USx/fCFy+cN76qjWFVakJVWJKqWqCkv1G+jT4X91PHLd85TxNi5kU8vHz/1PE2grqFOajlu661x4hfjZXRlFAAA55YzGmdCRENTDVXu6nppYL0v8UuUSVj2La+N+NzZ/zi4T1pGqi5L/nD7pP+VsNJ62U6mteUClS024JWsysYZS5QY4LK1ar7tKOctM5SBWxj/5urJE7cTeTRVGlSUix2ZxMtLy4GuVrvLJ9kIzQSvZlY2XpNB1dRVgVFW/q1rURWXAyDtlgttSlSJvcg1KPW6UaHTUVFFOfNbP9VlpWwwVqUhIHaEC1WtEf9bQxifW3N+DqF1Hue8bPoQUy0SpyQvM72C3+jpZenRJN9LHOTxfJmRWH+fAcv9+D7DfuyAzpQ48pABGl9uv8vG0I50FahMZ3yrx/HyUgamQKMrISC7TP2WDSSC1Xs+BxcKGw4GSpPaNZQ/83VRnGM/aZrLPwspAmb6p0eBRy4E5TX1lIQ8CUpFXVXyoCCaMiwJAHglU0LISYesqkYDJuPbMlZ1BZMHX9+iJBZ00tMFSUVVjSJklLG+foQLqzlCAEpT+YHBEGsOZ4QEx62Yb2Wp/C5/4KAOxW/3J0i8AcMryhjfhgkvL2GAoooyCRjNUBuAqkwFLlvuI1s/JaOSjSy1H5+9YzBr7OJpD5zPpQoAAFCNrnYrFk3pb6ABzKLczDRO3WOTzZ09ZSCxKQUZ0jLlahZRoangjFKx0cBKi2puApoyheSp4QeRMrNwpE+UALKfv8JYDFYjMeWvCn4uv67+wxkRHxJ53S2oNTlEWPDhoxw3spLAcHEfFSYEhZRP6Ne/c1HnXqSIgx8Zsh0Y41RykHaa6iiU1faO0FRpwOXU30UFLpuL0NRVv40epUUnk9b8jMQCAAD865RQxavCq956Ttj2pqpBT4j2tA1bbJWf7Fq5NiiNwcdR7amHzk5oJJCAxxMIIo7PWHNP9hP1JOOZXq7DmVd2LbwalsUSAsnY6WzX7pKuxDnpz094Pj9BVtUzsez/zxyHtduwfIfjPB5PmHZnqVNAeqPztZoAgEuyG87jVmGld9bMPhApwYlLwq/vCb/uS9Uy6NJziK39vG1rKuzdHoov6shrbeng0sWuqZwkyg3Az/twdtuHsySatnGXPqOmz12+lVIyd1dxJRvUNdXFSn0anQbcjLocLaWxJkCVVZTrVXESWsG5HC5oq6siUHugG6HpdtanliSmlktsE+M0IarEXgCETQ9Kw24wkrqGKgp1KysUOp0KHA6v3jdwDpsHqupqX8VBlFobGaqzvqQwTJ28l/b5csZ99oPofK4IyL03XDXXbNCN1GgqbHAhRVlZoWGGk9PzpUdiY62zg99n24/qb/GJOkAt5dqbXAyAU8kBuoYG5auICE2VhgqZ7GocGrzBEKWqqKBQ8c04TRSITUkjq2uMmXDXb+PdI4qa7c16Dpg0d6b7Fp7T4suZTbQpR4JC20yTPChJldItSW4NUhxPOkIupxrRU1dFoHYNR0GVriQu69f2pKcLEY/Lxch0dRUE+DWXo+rtzfSQ3KQm80O9p+Px8tCgeOd5AyzNigfpFQTtSZQ8NyPqmurf7IKoaaoBO5XV3OmquooHVGWq/DO2HMHbVEYVxgW67r1ebqHRy3fa4rHP1t8pxBC1oWs953X8dHDNlheJJVUYqIzcemtlbY/Nmz1lCi+hqWbkf1SFpizhVhhnMytBvYU6Cb4+n6FErTFpk41/XzaXQD3ZJM4sO7NkTZSykZQ+5K0Kfja/cHURy7nh7X76dVxWQW5SyI0dHgExP+dZf0F8cAiz08iV03ri4a8+SnqOVxzhl7gkfjsrq451la6y5VArTWZCXP1Tr1hJfHyRYnernnWnfpV7ztu9f8WQlg2CGWclJmSTzPpYfj0drNhlwb7T3uN1UXIHY31SyvOrr78w+DgAKLTVlbR4K0yNSxEZ9e719Zw6uYPNzpP77Y3rl+KISidDHTz2waWQLJYQABCVttoaktaWFXuvCDzjNa41CkJWduybK4cvRwi1OuipiLLikqp0e/XUqfsS2nqk22m/Jb2UJDTy1QwFiYnl6t37Gn19QkLVavmx0+uGapD0pnmfPeHYXQEwXklK6OPT/s9zFfQ6tq0vkpzWloHwe8Qmm9n7nd89w5AEInZ+wofbfueDmPT27VvgWfGJlWp9Bted/Qey4dDB7auT4tKal9pxwFE6ve7RAIpBD3O1JvVIjU8StO9vpVurB6o9dtO+HTM6S7vhEn2PqKhcg1KPqqS4dDAZMKBVrTKIhtXwngp58Un1ZwJRdlwCu2Wv/p3rHhdSH7Ty4E6nXsqolqGhBif01q2IfK4IAFBNHe1GM56MaMIBR2n0ur+rdLE0afi6aDk9X0YkNtYay3r/IafVwEULB9AS37wtwAHwkoTEInLXgX3rDtyj2kOGmeLJ8Sl8AMBxRJFOr9Ndo6ulfnNOsDeB9K4FGiM2nw5YP4CO4NXlmRHPLh69lYy066DTjM6lmwWkDQo0x5JyIEqNSxTo9+1Ve9wHoffoZy553VdGuuAlxX0B0wF9W9TKQDG289znPk4Pa2Z+wEpDgpKo/WYtHa6T+/pNqpRgQqiWQ/p8i+9RIw2q42JTmzmzY2V5BdVqmhryPuX0UzIqVlpYLMR5URdOvqnqNnfBIA0ESLqGnZTy3958HF9ShQEAua1u66+NNm/2lImEpmRKi+OoCr1uIwht0627pOfBRLnxCayWg0Z9ffyGYmhtXdPcj08u0pEmm7SZBaROlN+3XidnVfDT+aXNY2Vh57aHnfvZzfITgj4yx0/oxH55KVSKA+M4hqrqGhvqlWflvL30wG6f3VYvPOBBIrdlT5sFo1Xi/G9GNihGRcm3L38es3qdD6vF1U8FCsYTFw1Tij3+KguDLvV1ynx4KWjcpo3e/Av3gtPYmpZTFtjpJO4OzcdESEYOPnjkjJFfHmSItMyGzbAbpkYStO2orZqSzcVEOKrZ3qRTO35O7ovLj222L9vlonn9bWIZ1WSCg71F2akTafWzDc7NyixCx4yfM7jgVSFZ53/snWdYE0sXgM9uEjqhWECQIgoICCoWVLBgRQVREES94mfB7tVr74q9995QUbFxFQSlCBZEQKlSpUkRpEMSSIAku98PQCkJBEXF67yPP3zClHPOnJk5O2W3z4S/bE3EsTI1LSXp/M/1L1BwMzKKO1rPXTUfPMJzquR7jps1gPxwJZZJlofceZhxcvYeZ6k7vu/zMM0xs/83FB6tia0EaHqJ+Etpse63349atnU35ub1LpvbZciM+RPor3ZElPE5qZ/Flk5avpZx89mHUorqoGnju5aGnm8UnZBlwq3dXMeo317CxRY6sPKzP+bRZ05ftaTyzpuP5ZLdzGeMkM3xjPxMVObev/9h+LyNezhX3SPK6EaWc6Z3ybpzJJhJNitO4+LzMz9V209Y6JjqElKq0NdmoW1XDJKaz0OWvnLzsDs823kz5uqTxFYeOvMv3UL/q5Gchsp+3RSpjGi9qESeKI0CAPXd76lbgM22BfvXiV0PTCe6Dps5ewgvdL9HaqM8leHu95KGzd2+vfqKZ3Qp3dhhvkllyJ6gEn5VZiZLxmSq3RDWu1JpTZPJM6bo4Xi2WvcOEjHMrxYT1pv4RMYn0txuuU2uWxxH2WTGktEdgExpaLnmPL+aIAhK5+763RNSM4T2REFN+PFN8KcZs7R5EUdrj5Txkzzd3o1bvXr3Cvm7wZ9p2mNnORqU+G56lk8Ayc7OLBSb7LjEsuxxGmiaz1lgIg1t+BZwoVXzK6SyqrvOdlpXIOkdW0B26j3Zvicn6skHPgClnuK5jGaeCZoZoEBIoxAg1JLNxjJCRCKKA28+mXp4jvMq0vVVvqzxFHuD6mog+E3bpZnhgsj1uRU4ZeeivWskbz7PIDXGzLXpnOHml8Arx1o3PpCFb4KTli7uLZ1+NbDpkmEdmPyodbvLO9wPK6IbTZ5lr5LhdiCYSYJyc+o3oSoxOpFmraOKh2Y01rVeB8wuqT0PKlLnbW5ErRdUk4ygS67RV5c6OfYOO5mVkcW1GTF1UtSDOLa8zjDbGVZdcVq5Zjf5yOSyKhFmT1FpWlRzDVqSmVWuOGrOwvc8/1wJvYnzHPVpkCPAiFEP3BNGzd9wqPravdB8SX2r2RYyNecFmjOFaDG3gFao+V2obEJnFu4nIRNlE5PWr5TV+I91kIUiRQVtDkVcso0/b/VdYApGVta9GC/uvsysedOa+vCZQynB956n17cDvwS0Jo3sFHblTECW4OMcnCoZgxETrG36E6HeYXFRwUlkN9PxtlMtzY3kCoNu7Dvkkdpkp4MsTwsNL1Q0HmdjZzWqrxI76t6hQw9TOYArD7Qdq5jwr29CeW3ZH0PDsmUMR1tPnjLRtKdsXuC5g2ee5VQDyUyOz6X3trCztx1nrA6Jt/Ze+aA+wnrSYHjrHZnJVeg3cpKNpW5JoG9UcvibVKruMEubyVbmhp0Zb2/sP/EopfFLCYiipPgyJRNLO4cpI4yUOe8uHHAr1B9nM6EX44VfAuurl5EVKVGpmJbJWGtra4shBsrVcfePHbmXzCaBX/Q++H2Vuum4KbZWo/urVse6Hzng9p5JAiapO9amb/nz+29q50qK6mC7UdKR9wJSqkjmhzcRxZ36W0yynTLWRIua5n16/6XQIj7w8+OjCxWMzCdMnjJxZH8tqc8vLu2/9KqgsX/y8qOFWBuT1htr06vU3/1dfuPRsUF7vUuMESw2YHJGEyZp5/k8iqw5tYLRDSZO1s576hmRkxkTz+7Sb6TVlEkTRvRWw9OfnDh0I5JJAFEaHxJTrjxg/OSp1qP6damIuHN0341YFglNjdAQareR00yJ124vswgAdnpCprj2UEsbBzurUQYQfOVZZd/O2R4+8SxxnTFT+3Ne3Htd8wyKiWuPtB/AeX43JIfg5UeFJGHdR0yysZ04pId4zrOzBy8FF/MbKhstNqjO8s2IKiGslqzPIjUKyeZ9db+IhLDQLImewyfZTZ44TEci89m53Wf8c5r0I6Is4fV7dtdBE6faWJnryxWFuOw765dTDdyc+KRqzaGTpk23NOspXxx4+qA3r7+ltaXGp8eviCEzzSDozosMvrDeRDJS4vPlDc0tpzpMsRyuxXpyM0TKUDrOPSCNp9jX0lIjy9szprhAuOfH54Ny/7HWNhO6ZHkFxicJ7omCIJlVKqMstFNvH3uczKnt8KkhEQUKhqMn20wZP0iTTPI8tv/im2I+ABBFifFM5X6jJk+znzLBRPnT/TvxXfWI0Puvc6DRaNAQXGnAFIuOHx75xLMAAKhaI6abEa9uv8okAACT7z3RSivniUd0MSGsarI0ITpbUtdsgtUUq9GDesqXht06dMInqwoA2NgXxZ+n1z+0KvIAJXSIayZLI40A7zTAZmznJM+n8eWkcJG4eVFBCRTD8VPspwzTLPM+9JA/2ozy5lZganXjTid8uIDKrPCwTCmD0dZ2NmMGaBDJHqf2u75nEcKHtfoWrn8Ck81SGGzVp/TRiVuxgt5ijMkZTZiIPzn4jDLU1s5mjKFCWbT70UOuMSwS8A7GVhNU0x97xTFwTfM636Z0GTR1jFysu39S42eCqnK5ATP6l/v6p3AAgNZt5PRBvBf3grKJBh0wvnb0/u4RlaIxwmEYFnz7RSYBQJanp4sNtp/aj//m0aNXadSe5jbTbScM6i6Z5Xn4WKiMqeWU8XLx7qE5REuzJyajP95ar8j/4dtCgtJlsN1I2ah//ZMFnrEQUJRwabmf4lKJbgMtbO3sJo82lo2/8u/nPloM37rB/AtEWULIe47ygFHWkycM15NIvL73fuXQQeRr95C8KuGTi9CpoV7pAlsBoDnZCiuzhcwsQifKRjSoNEl+6PRh1JAv8QxFffi04dTQO4EZvOrPESJEBW0NJqug9IOraHvwrg7HrzpkbXM4HNri0R8Eos3AaNJ0CR6z8csQEK0HF5Ol0zhlFT/4+fYLmLzF3hvL4dRfm/xbceYJF6fLUioY7G87uPynIqY2aLQhL9InvOYGMK7qcMLF9sPa6adjfsmnkyRN1rttV3Nz+vtuG2wUNg8mP2qni0XkonUP89vtENGGs+e3FUWRlJMmWczK9vhBufYs24+gvX6EUBg4jSam0N/eWqf0VUAUCv4QPxWSW8FAwV+bQFSzflbwh1FpYtL6U2z689/5hwp4eXIzEFVMFPy1Gr64nvXKzUum9FQQp4op6FjMs+lR8OKFkKsXPxQqTUxS03LqUKmEgJfNvhapjSDLXt/1lx83vlv7/K5WG86e31EUn8NotwFWe5btR9A+/VQoeFf741cX6mBFIYfvxHz3mzsQCMR/HYw+bu+dtSZUZsylA0EsFLz/ePipbvsOy69YcPreMjEgq0qSnp3afjXuR33ptxloA9d5OI+Rqkq9vcnvJy3IVcVfP594dKa5525/AV9y+7W04eyJJuL/Br/b/i9VTsNAm17yIT677V/1g0Ag/ntgMl31e3aqSI3NKPsl+49/LLi4nLwkj8Wo4P6iSAiTVNLTU+VlxSUX/czokyImSeVzqtrfunEbzp5oIv5P8LvFfwgEAoFAIBCI7+N3O/+HQCAQCAQCgfg+UPyHQCAQCAQC8WeB4j8EAoFAIBCIPwsU/yEQCAQCgUD8WaD4D4FAIBAIBOLPAsV/CAQCgUAgEH8WKP5DIBAIBAKB+LNA8d/3IaZluc3F3efp9lEyjf5C7aw3oJ+WHAYAmNzEQ94P1/anfXs9FL2FLn4XHdTxhiX/Er5THVyhx8ABOh0FeB4mq9HXRF9ZHAAAaEM2P/XeNVryOwQVnfrmbT9F/Wxog9Z4Pts38ds8C+805cSTB6v6NvUKTNpgxgEXT7+7qwa0/eeGMLrZhgtrTOm/rDcgEAjE78lvOEu1J2h97eYM5fvvXHkhjN3wL5j0gLk7tthqt9GMR7Iyo4KjP7HbvuRvkIWbFxcallL6je99p+hNc94xq4+4gL9oTli728lM4efP5fXM246K+tkQJamhwfF5vLb9WgMmY+bgaFT8YONG1/i2/yQCyXxzK1Bl/rw+Um1eNAKBQPyXaW/f/8UwHCOJVkYWOIUKfN6v+AwNLi0jwcuKe/chj/tjKyI++Zx0rvlvq6MjjELFCB7RdrM6O+L6rog2K+0ngOE4EEIMgImJi/Gqvpr3eyEEFdWcAPXBcZwUJV3DwtuifSkSEnhl8qO927+rFIFISkthrLTomPRCUT+/RpGQwCsr67pUC92b+OT3NPfqtNG3oj0L2tsXVxEIBKLd0j7iP6rh4htHlO5vSx+yelq/Tji7MP3twwun7rwvJQAAoxtYOc2fbKrXhU6tLP4Y4+dy7vqbfB7g6jNPXRwUdjjScPFffRSg/HO096n998vH/LN62gAVMWZGiNuRQ57JHAAAoHTs5+A0b9JALQVgZMb437x84+WnagDAZHSt5i+wGaitIkuW5SQE3Dx15XVu01kKoxtMme9ka9pTWaK6IDXM69p5t6hi6Drj3OUFelSAHf7DQ/dP3uLDqktP0V1w/eQMdQrAfr9RAVsmnQUAwCS0rNb+M3toN9nqgoQXLkfPB2bX1ERTGfrX4tljjTVkeUVp7564XrwdXtB4oYSiM//iqYH+TkujLFzqlWy1L5grJDsmN/HgramZp7yVZzmZKVEqC5P8Lu2/nGW8bLXjcE1pTk6k+6mDN98zSAAJ9VHzFk4b1lNNAWd9Tnnjdva8T0ZlM62FyU08eHt+wXb7Q+Fguv7hDukT1tv8a9a7aCYbHm6jn5q2ybdcoG3zOtuedF3ciwaw7bG/xVH7tU9K66Zs6bE7H24ZIgaw7N7TMRcXLL4LAIDRVMxXLHUaq6tIlqYGu5047p3CqWkQvckL59sM1e1Mq8iJfXXvkotvCrvx5E8bstljJf/qDRg/d3QPGT7rc9KLe2fOPUmuIIFmtu3xUsaOLUlDFs8ewb4+0/njtIunBvo7LbqTRQAm3WPCgoXTzPWVJdi5sS/vnrvqk8omm/EigS216E4WZchmjxVVp85UWi2zNpAnWPnJQfdOn/b6UNFQ0pqWSjtyX8Fh0RgtaR4jJ+7FjROXnmVWAd51xrkL4yL+mXsxmQ8AgKk6nLhq+X7l7MuJhMjtC5iU1ui5i6eNNFKR5OQnvfG4csEjjkEC4JqOZ8/3fbL0luzsRVZdw50XR4y/s7fT5ambvBkk4PJGdgsWTB6s3YnCyoz2u3Hh2sucagDApLqPne00bZihuoIYl5EV+8LtzNVnmcI+AU/tteTqSQcVHHqfDBjjs8FufwjZsb/9onkTTXp0oLHzEoIeXrr4OJEpSJjgES5Hujza99l89eSeMjxGVvi9w8f8pWzWLbc06oSVJL+8cuD0s2weAJBloQFxixzGa3hdz0DfIkUgEAjRoIhLNj649gvAlQZMmWhm0q9T2v2Tp675fZDobzvDQiHe800OH1Mw33h6Vb9in8vnb3kExjPVRs5w6Fn49HkKB5MzmjB53LA+4qEXD15wjyL7WNtYTRxrjIdcPeX6LFvJ3M5avyzAL6GcBKnei4/st1eMu3/l2sOQT7ImDvMmd8sKfJVRKTts1ekN/Uq8r1285RNRqGw+y8G4/LlfQnnD+ZnazWHf8SX6xX7XL97yj2V3Gzdr+jBalG9ERtIr//xulsYfj83451Yik/s1ZiPLEgJeMvTG68Tuc1z3MI2Ndx8zdWjfPsZy8XfPufwbWqo5zt62FzPAL6mcxBSGrj69YzQW6nbxhndEsbL5rNkWiol+YZ8bLijiHYytJqimP378OuRZ/ZJ5ckKzS+iMsbMYadwp6dbhE3feMHtY2FlPHG+iEHf31CWvRCkTWzsT4o13VDHNaPGx3Rb8l9cuu3qEZsmaOMwajod4R5UIX0rBJHTG2BpXvLj/JhfUzRxGiIXdeZ5eIy6lq5nDcPG3DwLSuAJt6/su5tXTT6qWA/NP/W/F1fiy6q8242W/fZooCTotYAAAIABJREFUO3wY/+7i5afeFFSSXYdNH2Xc21g1y+vCxfsvszsMnWY/mAz1jiohaVozjhyZ3z3b67LL/cBUzMh67vTezFeBScyGMlPUhs0YO3JQP7mURxcuPnydJdXPZrq1TuHzwNQKXH34zGG6WoZaZUG3XH0iM8uk+lpNUE1/7BXHwFQm7T22sk+Jz+XLbj6J0GfKvKkaGU9fZ1YJ8yJOI1+ubSmvOAauNmzGGLP+RhLhrkfP3HmR1WGYg70ZHvY4oriBoJiEzhi7kWb99KteXThy6X5Iabdx06YasQJ8EllAN7S06vHZ16M2C0bvNd5aJ9/nUWQRKWL7kniX8TvP/NOPGXj94h3fOE73CY6zhuHhvjHFfEy+98RJfbv37C2d+PCW+6sPhbL97UZJR94LSKkS05l14MhctY8Pr1y+9zJDZtD0eeMVYp+G5fEk+y05uXMU/9WNc1cf+kfmdzCznzGo+uWTOAZI61lMMWIEuofk1QvCiJK4wNeVvSzUw7c5bvdM51B7zT9+yEH1o9flS/efp2CGk2dN61vx2j+RQTYRRrLPFMtRZgaVfqePXX6cLDPYZqqVxUh9lt+587dfM7pb2Fp1zfZ68bEKAIBboTDwf8PIgKcJLLQCiEAgECLRPtb/AABw8c8Pd++/m8EHiEm9ZjRih7qGAv42D+sgx0/yOnv4amABCQBRuR0HX7FQV6ZAMQEAGBF/w/m8Tz4JkH57yLhtfaIu7rkVxCIhluk52mSKRhcK5IHSqNmTO70/vWCfZz4BAKHvS2Uur581sdtLN6le+rK5AVdc/JL4ABGpTGL6gHKJxvurEv3sHHqyvDZvPB3BAYCQsHTswqkpU4fc3f2cWVpRTZLc8tLSiobhGp/DLGNXk2RVeVlZBReTA8CoZNSlHVeCmCRA0pmug6/aaXShwGfoZj3HnPpy74YjQQwSIORtAufw5YXTR9+K8igUOJU1LBnXEpq9CAAwMvPfvYc90ngASa59xx+0+Hhn9wX/IgKiP7mPGLNUXZUKqZ169VKqCDp9wfMdFyA8tpioGAFiNIDvPKpF0RBoW6KKVVpRTZJ4eVlpeYO1M7K6ooxZxSd5nLJSZiUJNADAqGn3d57wLiAA4rIVTMxWdutKgzQpsxkO2p9uLtzpms4DgNCIz2Iuu2fYGXofi2myC0/BMt22br2ewgWA4Ihi6evrplnr+F9MA8BklIs9HA/5Ftes7NVlEOttO9OY/XjNtguRlQDwLhnvdmvRqAGSQbHCvMg1vblFJxqe5Lq9RoXYLPkBpqs01cQhucnpQEyc+27vtstBTBIg4ZTKoGvTNVQpkNtCI4jQvsmU3g5/9Sv3XLPxfAwHAMLeppLnz9o4mD5wfl4JALiyRMzSXVcSqgGAplJXruxgB/seObeW7riWxgOAd5+kdM5PGaV/LipKvgOW+ezquZOPMwgAiE6WNB62SE2FAllCROVxmIwKHsmvZJUyKvjy46ZbqWXfXbL1WgoXAMLC8ySu77Gz6f34eCS/kTBURQBgB5/b6xLIJOF9nvtw8xWdXx45cv99FUDSNaOxR/urdcaByQcAsuRDcvGC3kYyD3KZKABEIBAIUWg/8R8/L+Jddu0kwmcyyomuGAYA/NRHu9YBAEVSQUlFTb2n+RBVHKLrMhGFycm1iyncchaHl5mYXLO5RlawWCQFpwCAZC9jPUratfeVMnR6TenxEcnkYJ0eUvzw9Iwq+wkr1rDc/d9GxmdE3DnX9FgbRV1fX5YR+iKmbp2Hm/zyTa79CINulOfvW6EfN/5dZO3kRJYzKwgMwwHwjkZ9NbgJ9z+QsrXCVcRGZOA2ut0pIMJpqeayFwEAyUlNzqophihnlfPykj7U3NogK5gsPkaj4EAUp6czZc0XbsxX9HkTGZea6HEqsRVaCYWfK4JtW4KXFhZRVBNdkRwmiwfiGABFp5+RZI5fdKlUrc6QHhXLHq+t3QmPyW0civEzXr1Kq40KyeIXvqF/bzYw6ICnAQA/Izq2tHG0gKv16aVY+jYotnYDnCh8smlyIM7lSA4T5kWQXt6cHT6+/aJCJYNZTcpiAg9wchO/uAewGCwCF5ysISK0L0XVuE8HRnR0No1Or7maWxATVWBvoqNOeZ4MAGRFQnRK401sSg8jQ8ks76CMWhfkZ9xeZvMvVHOB/Ox3fL0fAC4up6zSVaPHIHMtKlYi6pFUag9DPbFsz6D0uji9IvxlWPlofQMVPDJbgDD8nOSUmsV4spxZQXI/JiTXbDQTLGY5ieNfbq8RpcWlFBM1ldp4EIFAIBAt0X7iP5LFYAlaSKEqDf7fUierfpoy/JLPWR+zicr6cza/4Wl5Pr/J5UVMVkGeSjNcfMN9cf2fue9lpKDE78g68VmOk6eumzCfxmWkv31y7czNoJwG0yEuQ5eBspJ6t13JkqISkJWTbdVFDIJdxmhyVgwwBUU5XKr3xttD6/9KVhdKUQBajv+azQ4A0OgqDY/b9G4nJ+z0hn1ljrZWy/fPESfKP0X5up2/7J/W5DRdKyFFsW1LEMxSZhOfEFNQkKFpOZzycKj/K/+jjLSABiFKi8u+asIrKWaAVm3LEWUlZU0Kx+nydCgtLvkaRRDVbDYApizUizAob8ZWBJNZLsKhNLKKwWqVaWqztdi+uLyCPKWj5c5/LRvkK5aVqgmeyNJSAVaQq7HC1z/wK9kVNX9S6O3w90KbIT0UgJH/KSOtoqoVR+5waVlpsoHZiZKiErIvXUaIMESD7k3yeEKiO7KivAIkpSTRW2AQCARCRNpP/AcCJ1FMZfL67fZSPgdWrA5KK60mcRXbk9cntarcSk4lWflyx6RdLwRcamAkeJze4HFGXFHDoL/Z5P/N2Lqds2CRW/1j5EQFqxzkFeVxgLpfZWRlgP3xeyMkAACSw64kih6t+ut4lKh3I0XNjkmIWkhFuv+FHf4XqHR1PeMhE2bNXr2LyJ19Ou5bbjTTpKTE6uZgQohtW1MeKcAruBwOlxt5fvoqz6KWQw9cQVEOg7plPoq8giywK2pbjiCbFk5WlHOALi/3pbUxCSUdbXlmWkFzXtSCDm2XDpeWkWrdK5tIDofDS3u0dIFLepPYCQcAIAVcHCbZFWxQkadjUHsMFJPp2lNLsjAxlTt89Y453d6eWLX9WWJhJQHSY3f+u0JkYYgKVgWmpiiPQ3GtMJgMXQbYFezalhQkjChgktJSUMmpRJu/CAQCISLt/f1/VE1dLUqy/93nqaXVJACIdenaqZUTIDMxIYtiYGIsUxeYiBvNO3plt1VXisKYLVdc1prJYmRVSUak362z/37A1DRVKQ3y8zPjE1lyJsMN6+IpqvbI4RpVSXFpbbDTRHxOTCyR7ztIp+5teBjddPm5K2tGivYOvO/MDgAgPvDva1edLZVw4DGzYl/cOeUWyeukqS5oLU0QJJC4jGydaaWNjPXEagQRybbfBC8lLpmvM3CAYp2IVE27/ZeOOeoKepahaA4b1q32D5jCsLGDpAoT4guFx438rLiE8o4DhvQUq80jP2zFif0LBkgK9aIf3INIEpeWrV0eA1y5T98urauQlxmXVNl1QP8vlseVxm6+cnrJgOYeD3gp8UlcjSGmXWsz4SoTNx3dO70nldJVu7tE7kv3p/GFlQQAULt0VWpFk/JS45Kq1UxN61oEpIxHmioyEuJyvvPeLqagIE/k5eR9ZzEIBALx59CO1v8Ews/+mE0OHzt9bKrXR34ng1HTHUbJUbhduqnQkz+JWASR4X07yHLTht3VNz2D08oVjW3mOagmHgzL5TPEsqq7znZaVyDpHVtAduo92b4nJ+rJh0ZxXWXE/fsfhs/buIdz1T2ijG5kOWd6l6w7R4JbOGlO8ElMUqW7rlZ2RjNvU+HGut9+P2rZ1t2Ym9e7bG6XITPmT6C/2hFR1tyW4teSP35D9kYCZGQUd7Seu2o+eITnVMn3HDdrAPnhSiyTBFzFfOG8Qdznl66+FrrQxs/J+ESa2y23yXWL4yibzFgyugOQKQBAMtKE2ZZCEASlc3f97gmpGbmMBsYm+CSuqKHXXa06O5slpEogC5+5PbXbs+zAOsX7LxOLJfUmzXY0LL58IU3gCiqhbrvLmbz2JJnXdej0/w2ByJOPEnggPGapDHe/lzRs7vbt1Vc8o0vpxg7zTSpD9gSV8BlCvOiHhhxESWZWueKoOQvf8/xzJfQmznPUp0FOq4ooD7nzMOPk7D3OUnd83+dhmmNm/28oPFoTW9nMwx9Z+srNw+7wbOfNmKtPElt56My/dAv9r0Zy+BIZWVybEVMnRT2IY8vrDLOdYdUVp5VrdpOPTBVBFrLs5W0vh6MOO51JF69Edsf+dvMspOMuukdVf9+TKCavrd0xMyqWQQLU+K1JdeBFl+ASFA8iEAiEENp7/Edkux860HHZ7EW7xuClGdGBrqtWK6/cvfDvbXZpi/1FLaMkcP8acs6CvxxWjpfll2bFBexbfyOggABId9u9R2bJLOvluxxxdnFOctjZ9RefNQl2eOlu29ZVOTnZLthuJ1FdlBp6dct5t8QWtgHJitgXIYXL5xw7qrrF/kozwn165LyGO2/BNMeNthKVBR+jHu7cezOM0Uz8Vr9ku6NhwrKLuIBHFHjt36X495zxS7ba0ypLPn+Mctly8X42AUChaw0aObzy462rr4Xnznx44JDyytkzdpyliwMr6YHL4/6zOgEAEMJtm/w6MHOQ3Z4TakdmbvWvryk/I+x58mi7rcc0zi9a+VC4Acojz6zewVjsOOnvbbOBmZv45syaa48/Cgz/uBHndrzVc1qw1UGS9Skh4NSRC965BDQT/wH3492NG7lLnGyWbbPHmTlJwcfWXX5eSgII9aIfCTvk3F4XqYXWqw7aSFG4n19fvFHgNKp1RVQnuW5Yy17oZLVwmz21Ij8lzHXjJfe4FtyX8/7ixs3sRfOtV+x25JdkJT7Zc/BqOBuA7Xdsr8qKuTN3HhFjfop/dX/rYr8ZB/6Ze3BOmv1NUYThvL+ydlPF4rkTVuyaSWV/Tnx1Zs3Fx5nfu5Iuqd+ne/7byzWriBhda9DIEexUV5fg7ywWgUAg/sNgsgpKv1oGRHuFZrx0s5b7zgcN99Xqvf/5yxlBXEyWTuOUVXzLKcYfBW3IZs8t0sftN/k2d0H3N4EiKSdNspiVaEWrCRh9xPZrk+KWrX6Qi87/IRAIhIi09/N/iF8GJq0+dIRiRlzj9VBcSkNDiVJdXV1/siWqWe0r+PuvwecwUPAnEKzzSAutt/f9PqPgD4FAIESnve//In4dOOQ/OvkivUFUh3e1P3PDSaci/kZACgr3EL8e6X4zx5df3xSKXvyMQCAQrQHt/yJaBVVWSUmCXVDE4rb/+VZcrrMcxiwsQ68F+Q+Di0nS+Jwq9NpnBAKBaBUo/kMgEAgEAoH4s0Dn/xAIBAKBQCD+LFD8h0AgEAgEAvFngeI/BAKBQCAQiD8LFP8hEAgEAoFA/Fmg+A+BQCAQCATizwLFfwgEAoFAIBB/Fij+QyAQCAQCgfizQPEfAoFAIBAIxJ8Fiv8QCAQCgUAg/iz+kPhPbLjzM58Lf6k3VJeiM//KM+91g2m/SKpWgXeacuLJg1V9BQiLKU464i34T+0HseHOz544m4t9U2ZK9zkX/Vwcu1OaTYUr9Bg4QKfjH+LTPxJMbuIh74dr+wvyKIreQhe/iw7qeP02Fd5AmMLARUfuPPW6Ol+n+dZrThxZjb4m+sriAABAG7L5qfeu0ZLfWtiPBpNQNRjYW00aAwCgGi6+7X9sqjL2U2oWOg5g0gYzDrh4+t1dNeCbv/hO7aw3oJ+WHAYAgKvPPON7Y863t2j7hjZojeezfRPl2qbVGnhvewOT0Z208ujN+z7PvB65nd23dKSmxK8WCfHzQHMl4j8DRW+a845ZfdrnQPufgWRlRgVHf2KLlhpXGe1op5ZyeYPzv5nf/I1eiuaEtbudzBR+ShT1vWCdRyzZtXq0ajsaWjEZMwdHo+IHGze6xn9rI2DSA+bu2GKr/c3x428EUZIaGhyfx2ub74a3Y+/FFEas3L9yMARf27Nlz9mnuSrW6w+uGCTbDiVF/BD+hN6MQPx0qBLiUFnFa202XFyCWlVZ/SMkAgCKhAReWcn9vkKITz4nnUVOjUlJSxFFYREJmSWEiFm+0XTfAkahYgSP+K55Hsdxkvi+IkQEw3H4tpokpaUwVlp0THqhiGb9sX74A8HExMV4VVWi+ppg+MmP9m5v/OPPa+c2rkl4r8fog8YPFn93atd5n1ISIPRdlqTW6ckj+xwPDapqq9oR7Zl29JD6q8HoBjarjt9y9wnw9nQ7sXlm3w44AEVn/g0f9zX9arZUJIdt8nrp67pQlwIAgClM3Osb0HBzR9T0lI79p285d/Ox/1MfD5ejaybp0Wv2VbrOuOB9fcGXfRVM1eGk7835eo33WTA5Q9u1Ry/cfeLldffEBtueMgLaUXzgunv+Nft0NXkULfb7eu6foIABiKmaOe05f//pEz+fu1cPLh7TrXY3jWa63st/5xipujJoJhu8vPeOkxFgLekeE/85dMPT28/v/rUjy8b3kKqxAqVj3xlbjt/y9H4W6O3pdnLLjN4KAmSjKg1y3HHRzfuZt9e909sc+3eiAAC115IbvqdtlevSU/QX3PQ/MU218dOowCpwFdvTPjvHSIsP3fbY//AEBQyA0rHfzI1n7z708Xt499KO+cO7Ntl7xuhjnb399k1UrKsCV5tx4enDTYMkATApLYu/91179Nj/2aO7l7bPM+1Ca8lE1D7L7vpuHaluuvDglXuHrZUaK07pPMhx29nrHr6P3E4vH2fqeM7v2FRlDDDFSUe8Ls/p1ct2/Zm711YYU4W6h1DTAQAmpTVm2aHL//o+efrI5di6yb1qd69wTcfzPscmde8/c+flW2f/p60gXOXG4Ir9Zu+48vCxn5+769HlFt1rmpiiM/+Kbz2/agaa6XqPy39pievMu+Fzc7EeRbhVmzGd9NidT87YqogbLrv39MsRDoymYr7i6G1vbx+vm6c3TtSukx6j601Ze8TV08v36d2rB5daaEsJWMvA5CYe8nJZNm7qbtcnz3z9fW6fXmXeld590qazD3yfPH10ac8so7qtP2ENgavPPONzcrqZ3XZXb5+AAE93l13zhihRgDpw/f1rC3XFNWdeDLi5zKj28RrvMHDeIRcPP2+vB2e3TzcUuK8otOPQhmx+cnfN+GHLzt71fe7r6+V6ar2Vbs3uskjjALXXkut3VvYWV7Y5GfBww2Dh3iXAD78Ip7vA9d5aE3EFq/1+PhtNazeYcdle9s7X7vn4e7pf2z1vUKe6ymkqQ+fsuuzm7e/l4XZiy6z+nZtuE1N0nFyf3l5m8KUOSdP1DwNOTVfDm8ku3ERm23zcVgzqPm7V4VsPNo+QblBVc2MaJqM7aeWRa7c9/R573Du/b6GZChUAgDZg1UP/fRPlsFpXWWQ+YeOFR898n/k9uHF02WiNuh0GXM5o2trjN+49eep2fpN1/6l7fZrsiTf1XiEuKsyjAABAQn3U0j0X77o/9Xt47/rBlRZfNmmF+mfDXt+DIlBTTJZWkRr+NolRG2vymWVMkkKjoajgT+G3bmlc0XCsleVEi4mWlhMHq33fuQVqt2k7Dy0fDCHX9m7Zd+E5u/fc3Qfm6onzP0ZGldINDTUoAEDV6qUrhVGUDQ064gAgpmuoi2dGRRXUe1ITLb2k0dyD+x17MQLOOu/Ydy2CNmzZ4V1T1EU+TEPtZrf70MJhMh/cj+477Jak/NdGx15Nz/xUvX/1trz7kMFdaqcKxSEj+hBRAcFlIDd45bEtturZj47u2n7o/ocO4zceWzemU2sW/XEVK+eD/wwlgy/u3ers8k58xJrDK4fJYYB3sd66c45B2dNTzuvW7bkQxO3ntHXhYKmGmTFp44WH9tipZz48stX56KM87VnOe/7qLupKtJAqiDyvjdMPvGRXhx2dZb/jWRkp1Xvh/r2zuud4nnLefvxBaufJ249sMFdsqCTJehscQxiYDqwbNdXMhvdgvQmI4uBK47YeWmdBj7t1ZNv2M1653ex3HVxuIsLGCEXTfv0Mpbg7B8+8KGq4CCGu77hv51T1LM9jzodvJ3VbtMOhx9cWx+RMF68YyvQ/ffBuAl+4ewg1Hd7FYtvx1ea08Gt7nHdfCqrqv/DQoVm6dQEvrmyxelHPzIcnjz3OYAhTubEmmMyIJRvNqwPOHdh94nGWyoR1R9aM7Ni6nSHu21OzVz3Iqk6/vXz6kmvJ/OatKsR07BcHZmz0yq9OvLJgxtoHnwgAAJrhgq22eMDxDet2uCTIjV6+YXoPCgDQtKbvP7CoX8Xzc3u377sZKTFizbHt1l0FjnG4+pTF48vvb1u+ateDz2qT1p65sWNk6cM9qzefDsUHzv17qjYFAJrvpxRt+9U2FP+D65atOu5brj9z65KR8vyo005/30irzv53zdSlVxN4NXo5bJ+j9PbS1n+2ng3BBi3YNKdvkyeR5jsOJjt86RKDlBtblv+z3SVRfuyyTTO1KaKOA7wkl+ULL8VXFz7ZPPV/p8J5zSrVwA+/lsFPdV264ExUdZnfbnuHk2+5AAB4Z4sNqwxSr+9Zve64L0tv5pZFI+gYAKYw9J9jOyZ1TLp/aNvu008KtWftOrLcWLqR4/DTXwfndRo8pG47Waqf+UDpxBcvc0ih2VswkYTR3NVW1NDLe66/E/FoAmCyQ5ftW2lCvL62d5Pz8Ue56vYb10/u0sRdcGWr5f9TCj+zbuXK3f/makxat9ZSBQcAirrt9n3zezH8z+/e7fJOftquRX2bDmKNvbdZFxXkURiAmJHTro3jpd/fOrJ18xG3RHmLtVtmiOCf9Xp9lrRATYlPns4rtrlnELXm6GNrqct59yamUkQDIn53fuP9X1r3scMl33l4FRMAIKFtMX4Q61FomfBVc6rugquBCxr/SrI+AABI9LNz6Mny2rzxdAQHAELC0rELp6ZMHXJ3d2hEbOVEQ0NFLLW4o55+h5SI96o9DfQl/82v1DA0kC4Mi8hsMM1zE1tMT8qPmm6lln13ydZrKVwACAvPk7i+x86m9+Pj0aIoLm5sP1WfHbBt9bFgFgkQHJZNczli1bQlK6Nfh5VvMx2sdP9BHoF3MDXvxX13OJSJqdg7jJGPP/e/ff/mEgAQGs2ku65ysNQKdEkTpXoAEOttO9OY/XjNtguRlQDwLhnvdmvRqAGSL192lGa/v3f88K2wchIAopndhh/UV1PAgf3VSHjH0bMmdI69OHufRz4BEBJd3PHK4ZHDut10FaluipAqgnNYpRXVJImXl5WWV+NK42ZP7vT+9IJ9nvkEAIS+L5W5vH7WxG4vXdPrtRfJeBcUgy0z6yfrG8gkcfXhw7RKgy9EV1F0rWaaYEF7Nx15xiABQkISq09fmDt95K13HiXNi0dV4QU57b7zqfEGFEYfOsNa9cO1uQf/zSUAQt6Xd7q21eyrUToofDy64nxIBQmY/Dih7iEvxHTZMg5/9Sv3XLPxfAwHAMLeppLnz9o4mD5wfl4JALiyRMzSXVcSqgEAMMEqN9EEo+IfrmzY55lHArwOjmWfuDJ32gT15zc+idRMNXDZZcxKHsnjMEqZHIKiJ9SqxcJNR1ZXlDGr+CSPU1bKrCSBBgAYNe3+zhPeBQRAXLaCidnKbl1pkCZlNsNB+9PNhTtd03kAEBrxWcxl9ww7Q+9jMU12vzAy89+9hz3SeABJrn3HH7T4eGf3Bf8iAqI/uY8Ys1RdlQopssOENUQkHwAwSWbA+j033lcBQNK5HsNODdJUxrlJZUwOj+RzmKUMNh+oAIBLFD7ef+B+Bh/gfcr13ubbNTXl8MjCBmoK8+rajkPDk1y31+gbmyU/wHSVppo4ZPYSbRzgcZiMCh7Jr2SVMir4wr0rqqEfNoDPYZaxq0myqrysrIILOABgEuyXR/a6vq8CgA/neww/OUBTCYdyDes55tSXezccCWKQACFvEziHLy+cPvpWlEdh/TJ5KUEhBXaDTLtfTfzAB2njEYMkEq6+zoNujsKylzVrIkxGudjD8ZBvcSu2TSkavfRlcwOuuPgl8QEiUpnE9AHlEk0ecTBx7ru92y4HMUmAhFMqg65N11ClQC6tr52DfsHd5btcU3gAbyIKZW4cmNSkjobeC7Lmwlw0VphHAbNzr15KFUGnL3i+4wKExxYTFSNAjAZYC/5Zr9dTe1m3oClGN5q7f5sl5r/r2LPW2BDxW/P7rv9Re2hDVHhx7ShamfKqoEMf+eaWJ4jcZ2d3bHXe9vXfrvMva0dhirq+viwj9EVM3SoIN/nlm1wJXYNulMr3kfFED6NekpiErkG3wqgHLxIpeobaVLyDfq8urOjw1EYnalpOT+1hqCeWHRSUXjcpVYS/DCtX0DdQEak1KGqG+vTiVz5vWbXdlBMTGJQv6Fh35fugdxxdM5OOOOAdBo8wrH777B2LlNAz7AGJQa/zak1HFge/iOGr99Kli7q4g6v16aVY+jYotvY5kSh8smmy/d6XHODGum7cfCmsgiLdQU3HyGzSeGNFHGtUrLh+Hz088WVw3QRY/f7s/MmLb6eLeDBdlCoAJHsZ61HSwt9XytDpdDqdLsuPj0gm1XV6NFqLJMvCguIofU37SQPgGsOHaxa/eh5bhXU0MFDmxbwMrtsYIXKCXqTgugY6LV6x5ufHxnwWcPqIqtOnl/jHkLe1VieZ797E1/ccXkpMbM2k24x7CDMdqBv36cCIjs6m1WhLlyyIiSoQ76FTuxZAViREp9Qd5hKssgBVeHEvg/Lrdoay/X3fkxp6OtICEopIS1YVZjpBoqWFRdSuEZIcJosHGAZA0elnJJkTGV0qVWsFSnpULFtBW7uTgH5FclKTs2oagChnlfPykj6UEgAAZAWTxcdwCt5cQ9RNqt86AAAgAElEQVQUwXz/NrHWcCSzjEU0dcMavT6/e5td691EOauCwJombMGr+R/fftG3ksGsJjEME30cqE9LSn31w5YgGTFhdeoT5axyAsMA8I5GfTW4Ce8+kLI1bSBTERuRgWvpNrkZzksOflOoMniIBgVAZsCIgWJxgUEF0Ez2lkyUER1b2rrAhZ+bnlHVdcKKNdNGG3dTFGNE3Dl33udjUwtyE99FMmuLZjFYBI5hABQNQ0P5/LchH2t7cWVcaASrpfpbcFHBHkUUp6czZc0XbvzfuIE6naSqEz1OnfOIr2zZP7/2+pY0pajb7nJ2kA/es+rE6yIU/f05/MbrfzgGDTyVhObjF4KVHv7qZVa9CYaio+1IGgMA4DJ0GSgrKf36R7KkqARk5WQxkhkTkUKz660tXqyvy096Fv2enb3QtJeKlHyvHtxYj7jGM2fL6XFpWWmyrKTsa2VESVEJ2ZcugwOjZb0xaRlpsrSo9GvvJYryCwXOm+zoVxFVWwabKHq9NRuuzwnbFV4BeCdZWZxfVsL4mqOquKgcdOkyGJS3XD0A4HR5OpQWl9SToJpds+kirjF6/vI5o3urilcWfc5My+dXNR5NMGm6HI1XWsz8Uj/Jq6rggci+2HIVAJisgjyVZrj4hvvi+j9z38tIYVBePz1ZGhoc9/dcU2OpV7lDh2kWvDyWwAVcRlYaWOmlX1eNyJKiUkJMRrbp6kAjyLLiMkFtQaXLyQCjlPGl7qoyBge+HKwk2SWltZ4k3D0owkxHk1eQp3S03PmvZQNRimWlameC0tJ6xQlUWYAmVcWlX01FlhcVV+JK0pLf/sTYklWFmU4ABLOU2SSpmIKCDE3L4ZSHQ/1f+R9lGm8+1tRNNCiAx21y27O5fgoAQLKYLFHkJRhljBbTNe/VBJNZ3mRFWfRxoB7NKcVq4IctIVAtTEFRDpfqvfH20Pq/ktWFUhSAhk/K3A+v3xRPNh2sdqOwm3k/WvSF10UkptNMdkrzJmqglEiQJX5H1onPcpw8dd2E+TQuI/3tk2tnbgblNLr2QlYxWE1vwuByCnLALPvqhgSjjNlS6NSci1YJ9ShO2OkN+8ocba2W758jTpR/ivJ1O3/ZP43fkn9+7fUtaErRHmttSLzYdvZVwTff0Uf8jvy+8R8vJY0ysa98VkQZCQBiGqbKZRGh3/roQlSwykFeUR4HqOtNMrIywP7IJoEoiIrMcRrSu1+hnkKa/wfOJ3Ycc7qhobFiT0qCW0xF07JaSk+tYFVgaoryOBTX9jZMhi4D7Ap2k76PS8tINZ5wyXIGC+Q7yFPgSywrISkpOC6piAwO564xHaQjbq5X8eZeBBsAKljlBEVegY5D3WRBk5WVhIoKTlPr0aSkxJqWTFaUc4AuL/fFWpiEko62PDM1je7gvHE0486B+XfDM5k8oOguuN67b6PMHDaboMrKS2NQXVMhLq9hoI59imu8sYhLSTdRHii6M1qsAgAqOZVk5csdk3a9aOksC1kSFhS/eI6ZsUHBMPXPQYcSeQBYBasCZBUUaF/mLEyGLoPzGOVNY83GJiJBoBPy2BVVmLo8HYPaRQIxumz9E6vkl1yEUPfgCzNdEofD4aU9WrrApekqas3CQoPbhIJUbgomrqggg0HtmgompSAvzmOWlRMgLyi1CBAtWVWI6QQhKCmXw+FyI89PX+VZ1MpAQLi8zfZTss1WSlr26qZVtWYc+EpLSrVGJwFJSQ67kih6tOqv41Et3jTmJQSFlkwaPKRnfs8BlMgTIaUkYMKzU3TnNG8iQkTR63dYgpHgcXqDxxlxRQ2D/maT/zdj63bOgkVuOaJoyi5nA12e/nUQlJVr8XxwMy6Kq4NQ65MV6f4XdvhfoNLV9YyHTJg1e/UuInf2hRb9s16vF6Jp7dE/KM/9EJPwCZ37+9P4ffd/oTrZ7w05xNJyosX4iZYWGum+b0R+w0QT+JnxiSw5k+GGdVMyVXvkcI2qpLg0PgA/MyKmVH2gnZlmfnxSKcFLjkkk9MfYGiukh0cL2nFoKT0vNS6pWs3UtFtd8C1lPNJUkZEQl0MAkCQuLVt3jQ9X7tO3yXlk/qf4BGbHYeMGyNSONjRtc/NuQgL5isjXEfw+U5ZZ6jODA2rO9VYmxaWDnplZ59rsmILp6P5iOfFJpSQACSQuI1tXsrSRsZ6AFzbzs+ISyjsOGNKz9m+Y/LAVJ/YvGCAt3V1blYz1uh2ayeQBACbdRUWhya0WTlJcKuibDepQqxhN12HH0a2W6jiQQOKysnWDKK1Hv15yjTNjIlUBJDMxIYtiYGJcpwmIG807emW3lYDLAERRaFCS5OCZS0erfnr+IoUPAGRhQmI+tffQQXU3NXGVEaP0yQ/xydUimqipzVLiErlagwZ0rr2/KttvsICz+gDNuocw0xGZcUmVXQf0V/1y9Ftp7OYrp5cMEHInSoDKAqD2GmZWdysIVx09rg+ZHJP0HVNEs1ZtA3gpccl8nYEDvlzyoWra7b90zFH3Gx9ym+2nbYqIXt2QVo0DX/jBShGfExNL5PsO0qm7IovRTZefu7JmpKC333Hjg0MZ3ceumNqfjAgMYZLNZce/xUQ1COuwmMKYLVdc1prJYmRVSUak362z/37A1DRVRSuVlxGfwFbqb6JRm1xM36RviydovslFxQf+fe2qs6USDjxmVuyLO6fcInmdNNWl+SI3ZUua8pPurF+882FGW/s1or3z+67/AQA3P/LJ48g2Kaoy4v79D8PnbdzDueoeUUY3spwzvUvWnSPBTBIAuEmRMVXWY/WYT29k8QE4CbGpUkt7y2S6RuQJ7DEtpCfLXt72cjjqsNOZdPFKZHfsbzfPQjruontUNRAlmVnliqPmLHzP88+V0Js4z1GfBo2fRquiHrgnjJq/4VD1tXuh+ZL6VrMtZIRt2pDl4a+i+VvN1PMfHY+pSUPkPHULsNm2YP86seuB6UTXYTNnD+GF7vdI5QOQORmfSHO75Ta5bnEcZZMZS0Z3ADKlqbXC3e8lDZu7fXv1Fc/oUrqxw3yTypA9QcUVKhn5+HirWcM/B+ZRVftM+MvWRBwrU9NSks7//GXXj8j1uRU4ZeeivWskbz7PIDXGzLXpnOHml8Djy2V+qrafsNAx1SWkVKGvzULbrhgkNdKHnSm8imqCICidu+t3T0jNyPC+HWS5acPu6puewWnlisY28xxUEw+G5QpoMLLwTXDS0sW9pdOvBtaun/GTPN3ejVu9evcK+bvBn2naY2c5GpT4bnqWTwAmmokaQxQH3nwy9fAc51Wk66t8WeMp9gbV1UDwm8rTnHsIM105dudhxsnZe5yl7vi+z8M0x8z+31B4tCa2UsgTngCVBSDRb/H+tVI3X2bTtC1mT9cv9tvsm098xyNjM1ZtYc4l+CSuqKHXXa06O5slLBFZ+Mztqd2eZQfWKd5/mVgsqTdptqNh8eULad/4KsFmGqJZI5AkgdO76mqrl2Rml4lWU7NeLSxXa8YBkZRqHoJPYpIq3XW1sjM+FgpNxY11v/1+1LKtuzE3r3fZ3C5DZsyfQH+1I0LgxbzqhKAQhtWk7uUBt8Nq9k6FZie+yUQAAHxhHZZkpGVVd53ttK5A0ju2gOzUe7J9T07Ukw8iboFWvL1zN+W04+aN7Gu+GVQ9K4ch1AqimhQwwNTz3k/f4KLcjIzijtZzV80Hj/CcKvme42YNID9ciWUSIvtnS5pSuln8PVMz5urFQEHjI+K/y28d/7UlvHS3beuqnJxsF2y3k6guSg29uuW8W2LtakdVXERs1ZgBKXFJ1QBAFMbH5fINJaMiBJwVFik95/2VtZsqFs+dsGLXTCr7c+KrM2suPs7kAwA75NxeF6mF1qsO2khRuJ9fX7xR4DSqiawf729dRyxePHnuZgu8LO2Fy+bHentWChaFZL0Lja0eov7yeXxdBEaWvTm6am/J4pl260fIYaxPMb77913zLyQBgMh8eOCQ8srZM3acpYsDK+mBy+P+szo1LZX78e7GjdwlTjbLttnjzJyk4GPrLj8vJcmyW7tO0Jc5rDhkzStIi3h6eoVXn027/lq74ePifzy+ilT2+sSanWWLZztsHCtZWZjx3m3nGddkLkCRz6m9an87Wa8/+T9JnJPx9LJ76XyDxronCK/CPfl1YOYguz0n1I7M3OofuH8NOWfBXw4rx8vyS7PiAvatvxFQIHB4IwrehqYsMMCfv/hyl5vIe7JzHeHkNG32homyROnHyPvbLtwIZZEApIgmagI7+uLqDeUrFztsHCtWEOJ66FLpoQ2ylYLW04S7h1DTQZLrhrXshU5WC7fZUyvyU8JcN15yjxO+WCdA5cbwUh6c8JMaO2XVtg5EYVq0+84Lrm9bPODePMKt2jz8jLDnyaPtth7TOL9o5UOhycjyyDOrdzAWO076e9tsYOYmvjmz5trjj9/+JmnhDdEMRF74q+gpjn+f0lBesdBFtIqa8+pHwnO1YhwQQanmF6/IitgXIYXL5xw7qrrF7vhnoemIT4+c13DnLZjmuNFWorLgY9TDnXtvhjEEt3FV3JtIlqVJWEB4eYvZv8lE0NyYRqS77d4js2SW9fJdjji7OCc57Oz6i8+KCBDtQ5rctFubVlcvW2b7zy4ZZsy9E6c//7PDkNP0hEgD770nzEWFP1EQBV77dyn+PWf8kq32tMqSzx+jXLZcvJ9NtMI/hWpaA66ga2rep+LBpcBckTRH/FfAZBWUfrUMCAFQJOWkSRaz8rufx6j6Ti6nhgQtc7oo+JiXYHAxWTqNU1bxU77C0BiMJk2X4DFZAi52/BgkTda7bVdzc/r7bit2wVppIjG1QaMNeZE+4TVrxriqwwkX2w9rp5+O+SU2/iaVEYg2Be/qcPyqQ9Y2h8OhP/7sWRuPabhSX4t+EgkBIRlVAACYnMW+m8s5B6c6BzV5lSYC0T75jc///bfhcxjfHfxRaDRxJfNpY5SzXwQkt27UI6pZvyj4AwCSW8H4WcEflSYmqWk5dahUQsDL1m1+tNJEfHE965Wbl0zpqSBOFVPQsZhn06PgxYvWxORtxberjEC0FTiNJqbQ395ap/RVQNRPuXjQ1mMapjl20ebV0/p0lqDSZDVHzJnWj/06IBrdoUD8PqD93/8uVP3510/ZduHnPNnuKerb9f40aAPXeTiPkapKvb3JL/+HRpz8VLd9h+VXLDh9b5kYkFUlSc9Obb8a9wu+sPrzVEYghIF3tT9+daEOVhRy+E7Mb/mxWSLv8YH9nVYv2ndvliQOXEb668s7zwR/5wkJBOJngvZ//8OIKWr36kbLTUjME/BqFwQAACappKenysuKSy76SaEYLi4nL8ljMSq4v6hNfr7KCEQTqHIaBtr0kg/x2SK9RLH9govJykmTFYzy6t9bD8QfCIr/EAgEAoFAIP4s0Pk/BAKBQCAQiD8LFP8hEAgEAoFA/Fmg+A+BQCAQCATizwLFfwgEAoFAIBB/Fij+QyAQCAQCgfizQPEfAoFAIBAIxJ8Fiv8QCAQCgUAg/ixQ/IdAIBAIBALxZ4HiPwQCgUAgEIg/CxT/IRAIBAKBQPxZoPgPgUAgEAgE4s8CxX8IBAKBQCAQfxYo/kMgEAgEAoH4s0DxHwKBQCAQCMSfRbuK/yS6mjquOeLi9tjPx9/P3e3Snn/s+inRWl0MJqvR10RfWRwAAGhDNj/13jVasq1lbRmq4eLb/semKmMtJuysN6CflhwGAJjcxEPeD9f2b73SdWWZ9dqTO/FMnoB/p8L1e3xzud8FbnRm3OmmIn0aZmWIq64ZejxQR5XaxlVSunQad2aIc4LFicyxu7z6jDKVoLRxDc2DaW4Zcdynu5LwWvGe2hszhk7Qb9E9hFQgJ6NjrtBBok0zYuL6WwftTLbYvF7uGwcGTGzIbYv9hzu1WXvKqS7KHDd7XPsZpzAJVYOBvdWkW2q3BqOQ6MiM2fvMc7Np8x2V0n3ORT8Xx+5CvIvabdqxEw6aFNGHoHbBN1lM1Ob4RdQb20WGZrziwbPDUzphgHeacuLJg1V9WzVsY9IGMw64ePrdXTWgUS+sLwyuPvOM7405Oj93WGwMpjjpiHdrFWxXfG2s5izfbmk3cmJ0I6fDux26sWL8n169l8OmddDsO8Ji8b5hg86t3vgwvboVRVE0J6zdrfPvrFUP8sgfJm/bgUkPmLtjfsF2+0Ph3O8ujJ+YddupiIYBACY1XNvBgQxZn5rIJAEA2Ow83ndX8K2Qnz4/dM4trt8gBC8/i/whE7u4/MRb/UfJFr84GJOST+vu2GOSm4n8tGD3kJ+nPzu5KBavqPphDojrqs90kXthFvr8U+vqaCYjpqE63knmk/Nbz8flRNuJ+l1wKz/6FlQXtJ+OjHUesWTXuPDlc1yS+c2l+8ZRiFeQEBxaWfId+uIqVsvH5LityOC3n9FdJL7JYqI2x6+hTcd2EauUMXNwNCq+vXHX08SGFvkFwvxRCLd8+6WdjBCY3NCVW6apJF9evs0tiV3b+z0fPDRfd2Lb/JWT3668l/NDJySqhDhUVv266KjNIIuZ8d7Mmv/LdVAnSch+9jm6QOT8GIZjJNFmtsbEpLBqNgAAySxPepqX09jEmGpbVVUP8eEaptrsF1MiHobzASDuORPzGzJ0fuenobnsnxRIkAX34q78nKpEhiJJAU5zAxMmQ5UgKuODSvNEjbdq2vdHdk12se+C4ibVCvdSHMNJkmhtK+MUMRq/uuqbJGw7qBLiUBlzc3vM9xQibjTFtkPo7vCKtpLqe8DExMV4VVXt5WECAMNxIFrtHr8VktJSGCstOia98D8wn/08KBISeGXldwXGv9DyOI6T3+LX7SP+wzUmzhwuFXv2yJ2k+hM0UfDy8sVHchYdNWSxHAYJgNENpsx3sjXtqSxRXZAa5nXtvFtUccPBRXrszodbhogBLLv3dMzFBYvvAgBgNBXzFUudxuoqkqWpwW4njnuncIDaZ9mtAwoXnAK1l80dJ+W7/O97uRJa4+Y7OYzspSrDL/kY5Xft4o3gz1wAjG6x331+0WaHQ29rGlbWYv+dJWXOtvvfcgEw6R4TF8yfbKanSil49+BCqObm+VV7ph0Kr1EE7zBw3upFk3p3pjAz37mfO34nllG/lSi6C66fnKFOAdjvNypgy6SzAACYhJbV2n9mD+0mW12Q8MLl6PnA7Jp6aSpD/1o8e6yxhiyvKO3dE9eLt8MLWvWkQZXoubin5azOqp2gPKX43cmkp14VXADKQP1tdyQDnZiGB7v37IJVfmYmXE26f66YRQBgNPVZPa3ndFLToJHF7AyPlPsH8oq4AAC0bsrjt2mbmMpI49WFYZ/9dyW/TeIBYF3+MVs3JOvwKdqELRqdgyL27WKKKB0mQzfZ0HP0JIVOciTzQ/HbI4lPfdl8tW4rg3XKVwReesgFwHrsNl8xlxL2V8DNQAKAYnRq1PzemYdHfsj62uUwOR0ZCUZpUkydaSqZqdE8cx1JWRzY9cyFa2ku99Eh9r4+c41NAFB7aa/yVC9a8drlcaNlO4qyja7tSpXuqlhZYknczXx8iYH8If/Lj0mt7SP+Ns7YNeVjjRPixnpb/1V4PSIkIAPUNgxbPeLTvolp+XzA6PTBm/RGWykoSvKK3n4O2PUhNL7hCCEuO9zFZIpmwTXb2OjPDSuXlOm/Xm/0BPnOHTF2FiP2bMLDeyx8av/9p5VoAFPDxw/c++rQyXLJfhqTNmga9ZWSpvEZH4rfHkp44s/hA1AGG+y4Kf5obK7aLl0TqewztxTXnGqQ8UvvoY7ts/+6qiQGKq/Gm5x9s2tnGUXU9i1rPL9TxHuu6jdpdsfOdKLk3We/HUlhCTwSAADvOF7b5p+uujo0Xh4z0S3F40xhaY0lcLEeC/QsZ3RS60LmP031jFVaOItxdOSHbHGVBfGGVQv9r/sSwr0UU1o+ZMPI/GtP5SavVeokwWemFIfsi/f259QIJqHX1XKrVj8TaXE2O9Pv/+yddVwU69fAz8wGLLDAAkp3t6KIKCq2XvOa2HEVuxXBwMTubrCueu3uRJTukgbp2maXjZn3D0ByYa370/fO93P/8C4zz3Oec85znjNPzOTeD8jNqsQBUfC42rtHRPg1puGo+VrFPq8vvSLJcvUvSuqy+tqOIWooWJ962ffG4llvPE7ttbs7bfHNYgwAgGTnff6g/f3pSx/Yb2oUhS7lkfU9ps2fPMDFSA3h5se/uXI86Hm2AKBZFFpdPvfOUuHG0QEhYkCUzAdMmz2+p6MRgypm5yW8uXL03IvcVrNURKXrCM/qt77pDfxL0Wzg8rUTe9tooeyc8Htnj16OKpcCACCqtiPnzBrVw7o9hV+Q8O6f04FP01t4PiLrdJ0yf1I/J2NNBWFpZuSdY8dvJ3Nx1GDi8ZMDo5bNPFUz74boex08NzR+6bQzKaiH//0F7I3rUrvNm+ZZdX6S/1Nu24GradyWrTHZ5pgTPigwwOLWX3Ov5mEAAIjGoO1X5sPBaes/e53fq3t/d2n3BX/YqyP80oyPt04f+yeeiX2FHmSNPjJHh93sGQ1j+7DtIeImxQ2bPWtkd1tdVbKwIjvuWeDx8x9K5M0cWhaG7DD/3CEvPRScD73s/8R37I4vKx5NBpphOz8DAKB0h3Gblo1x01fkF8Q/OnEwMLQMA5B/oFEw6jVz/uR+HQ2UxaWfgu+ePnE7kY0DAFWm7RA1x1HeMwZ0ttFX5ma+v34tr8ECkByGUOjic7FFE/s9YlJarpTsMP9ci530WgFiMvXYiY6PFlymT5s7zCBy0+yTny2GzfIe1cVSj46zCpJfXjp89n2hRB7ZyA7zz7as+eaQtDp5zf5reBczBrBz455fOnPhbb5Ytc+maz7al2fPu/S5JmpRnOZdONAjbOX0A9F4y+ZA1Ibsujwmc+91htfc/mbKEnZB4psLB0+3ESIa8ZP31ZDUTF37DRzgYdu+tV0dSPvOrmZYwvNXxU0HEqz89UG/1cc+sHEAIJuO37x7kTt8DNq2bvvJ11XOM7funGnbpOCqNzsn+j0oEaWc9Z646kZ+jTc7eq8fjb484OuzMTBZrd8i3wkWtdseSCbjVk/UTry66+ibctAeuH63zyDVxMt7/TccfVBoOm7LrkVu9Da2bqBa/fy2L/HAQ8/s3HLkpWSQ/9LeSvW3kEy8NszQDj+9ftn6Yx+Rrt5rZnSkNrpdmnFxgffRGBHr2dZxXofCxQCAKHdftLY389YO35UBtwqMhvmsHKqLAgDC6LFs/8bhWqnXd/tvPfKozHLKlr2LXL5m4wvZYk2XuUtUyy8mnp2d8DqR1vN41ynDFWoLoGgO2avLOx1zYHjEzReIw5qOw3uRAEBpsP28gPb407QL06OvBfG153SYPE0JAUA0tMf/49LbgvfOL/rMyuzc9oZTrju76tYWhhgYTlinXhyUePUST96HEpTmdtRt0lhK1pGE095JIbn0vmfcxvamQFFFWgZq2lWNDAAkJVMXRRSlmHShowBAppt3InFCygsb9TW88lL0lgGp6V+iLUXFyI4szq1iNw5hWFbuPwd5pqvsuugiQFbuscWM8Srl5sOma7aqQ50WHTJiJOdcW5Tw7A047XTqZf41+3lISt1PunkNgvhtsafnpaUo6k286thBo8EFFKUuh1z/tGFenZTYNPkD1MKv89TxlIzD8admxj+PpXbd23GAI1J9P3bj1LzKatb9gS+PnObjWnpeF+wdseJ78yKO/ZX8sVit33GHLtp1ZZDpffeba4RnXN5UVHqv0Y0Nu5vkTeKWcVkl1ZxnI1/t2cvGv92+CG2o3ZRhWOSWuKC1uSXGhpOuOnXSQQCAPthxySljtdisy7Oib1wRGC7pvHizFg0BAER7lstcXwbvZnLQwk8pmube6zRb3pgkw0sBALU3mzATCV8RtndcQhiHMeCoXWdNAADUyHDGDUcXatnDRVFB24pFvWwXXrEwqosaKgNsxw0Wh2+IexmNyXL1hkqKOTJ78YVM0edbK8csOJcsM8Q3iUK4mvvS/etGG32+s2/Lht3XP2kO9tvv079dXdkNo1ADk9BcZgf4DqDH/73d12/tnpvZOkN9/P40aj1iU+27dpQkxObWezrZfMLa6QYp1/ds2hMYKu00c/P26dZUAKCYTdixc24n/uvj2zZsvxSt6Lly/4YRBs1KR028Nq8fq597a//mtVuDwlH3BZtnurS56xRRdJq5Yhg59EzA+YgquQLX12mslibm4Me/C+eZd3Ov9VJEo5tnByzmZQgLBwCK64xVPSUvj29avysoDNzmBmzxMiHLrwf5Rp9GtBDbG2iI4bl8+wJ3LOT05rWr1x97XG7h5b94gKacgUWWMJLUwEVzTieJyh6tHTP9cGQD/2xJGLT9IN/l9hnnA1b4HHjKtZ20bq6nKiL/QINo9Fy132+wWsKl7Rs3Hnkl6Oy903+oLgqIbNuRTcdu3T2np8qnm/u277mSqjPZb6pD3d4/uQxRLcvEIJfDtACqM2jFXJvc24f2389T7rFw+1I37H3QtjWbDtwpNBrnt3qkLiqXbLI13xQl5zk7tk0xL7h3eNOGAzcy2o/csNe3twZwI4OjRGbuXXRqSyVb93DXKg1+mSBu1RyozrBF07Ujj/osXbr1VqHxcJ9VQ/W+Iqn7mfN/FNMRAfvnu2qQEMCr0q75LT0b13IyQNLW10Yqg/O4dX9FVEw6Oukr1f0dq/gU+qmc2mmslw33wVq/I1ECAPgYloWcPPznmG7Xtr7m1heLi/gsTrUUlwhYTI4QBwoAIOTM65sPPizFABI/M9w8lpoaUCBDAgBkPUnw7K1X8zEAku2sSW5I8LY1e1+wcYCPH1NER07OnNDncsTdVpZPSRbDJrlLHvtuOhMhBPgQlk09eXqK5pc/o4pl93fsvJ4jBYhPP+/ce4OJiRoaXdYgyEsFHFaVCMereSwWX4yoASBkPBdAPzEAACAASURBVOb0xrPBHBwg9aiB+7mxxrokKALTETN6k99u890bzMYBPoYnC/acmTOh3+WYu2VypViIvv4f02kZG9+dvyDAAeBlJVe15+QlRroP00sAACVVBMZcOMHFADIS0yyGddK2pCKvhTquDKW8gvt78nMlAMHsKtzClkNCANEcb+6qWXm7d+ybXBwAkj6KlN859Z9Ej9rDBQDUkJQxPPp+dE1DUQBA7SzX5Fs2EAdLWfnq6KX6fZ2os/GAPhC3OOLKbREOkPiCJb7TY9gCvadv8z6FVA/w0NAmlxcqq5taVKV9QE1d1VVRNluPYWogSX/LatLbJCxBOavufyg0p43O/Sx579aUCpuqBC86nfRihPtwf93iDwaDrSpu9S9iN3kEIdG7L9VReJe4Z/5nJgbwqCS3upvvGlV5FF5bf1ezgR7S9xMi77yXAkByPOh9sOvcixyXUtNsRcdtrhO78+6MjQ3NbrZORqKZudIET5LuXCyTAKSGCzGOHlBRvFrCZUkxHKuuEPEFOGpGxeLybq5MiyrEASAtV9HxhYGOAQIlOAAAWUn65F3QsdpsT9rgxkZ1iSRcplSK49WV1Xw+tJsqv32bSY2yH0yJDc7HAYrjwyTLXlr39VKOPoz2WKlHuh9zfHUxDwd4UZbDd/NbZ975cEUwU6vPPAbzxIfAg2wpQMI7AS3YrUeLRcvwUgBAlEWRU2Ieh0kBIHezWoc77XUMEKhALOZZ2rBzj0xLSecDQGlyEvg8NO0/IPvsAwBA1Npxr4xJTuQAAGLWsqtDQzWJ+SyOQIJLBRwmu0oqM3o2jkKI/giv/upJx6dvv1WIAUBoLEf14nKvoWavAjMBGkUhqD+ohqhrIrkvzh0/dD8HA4DYNJpLz7mGeiTIk72cSrZwdlTKupTR4EEHUWQ/W7/mWJwQAELC8klnAv4c5XZ1R2yXiV6W+ZfmbL6YJQGA0KgiauDWiWMdH+6Pa5ioICo2juZIzK4TN9/yACC2UCweykBoCLS+IRtR0am4O3X30wocADWbLkfgkl9jDR/iGpsDIPZ9GM+/u7v29RvFGKrZvbeDOGJPaM3uZ4RU+WS73+EYAQC8D88nnwkYO8rl1v4Ud7n0AIoyR583MrXQOLY3/huqqSZNfXBsz7lXpTgAxBRquZ8dZKRDggo5ZgBlC/Oay2HzJbhUyGWy+Y1KaiIMCgCIYtXbvdsuxlcDwKcTFr0OuZpoo8Azlm+gQc1GTOpFDdm2+vBrDg4QliDQv+Lf273dozBPWbbLdxk3xq7qpf+K/SFcHCAk7DMlcO8wMgAAQveQyxDClk2M6I2TVWlu67pEdRTjFmw5mywCIDuMsKMXvjwb+CxVChCVwcEmuPIUkVZl+1KORCBL842r0+47bWS7+CPe2++VYAAQGs9UObN6yhDTt5fC38WKfLp20bx1pwwHsqVH93bFb16nSE0nyzJHOQAgCuKIbf5ngjk4QPJhva5BE4z1SVAo746Lnzj/p9R1yvTOGiQEAABRshw1c2B7WbVRKGTAG8RZVH/A8g0B2zbX/rfZy4kKJCM7Ozo79E1c3RqAOO3th0JFa3vTNo8wSTLDomofrHEBhysBpO6xQFqSEFdUM5GsZW+vI4l7G1K3PIsVBL9JR63trVo7m4RoOTnpC2M/xtamFtKc8PDCBgFKWhQR/rn2/zEel48hSNtPJOKkiOiamAU4j8PHEAQFQLWcOhqLkyM+4XRVVVVVVVUVfkJUDmpmLesQYDMUXLVMyOyUUKkSg6rMoCqr41nv2biFmoFKjXhVqW/rVgOlIh4bRxAEAC9P4YpNDMftMnf1oKsqiFKPJd/+h4sBycRVFWKL4z7XagsvKY4JxbQ7q9c8l+BcZnpCIx/E84tuzY46PevLfzGP34kbhBNEvTNDU1wZ80xU+6O0Ku4BB3HWMKTiecEVQjMN83YIyYFhVF0ZfIkpdtAwoYGii4a+mJkaJmsJHKF3MZn6pMfs8Uj0sqgH4S1dJmK/8MvhD3FavFEtZ3tSWGGzIxFaGpZWWPLfRcza1uDFD4o+f8X2DqS9O0O1vDSuTki86PMJxxfnH0gAAFCKxerOMyarYGmliS1uX5dWF6SKlYbZTl1hYOdIU6xmBfsnB0c1vRJLygmcmBhVCArtlPTd2nedrt2uYU/DBJkfv3aP3lfbt5HUEUWxBXXdKKsgLBR0XdRo2hpWlljOWzauTlVmUJUZFEF4eRFJ1dgWQS01zDUFyS84tQ0TMJOCxS0/07TspQAAOKsyObpOM6zqKgwQBICsYu2uwPtYUUKtqZSqUFSRlk/Sd1ap0ZAksTKzdnuCLFf/fhRtHS0gJfh93fIGXhHyJk5q5GCtWiN7fRRqCF707MDqgPs5oKCmY2rv1m90bzNyW+FDQd9AS1hZ2TCzl5Z+eJ1UG55wfuTj4DKala0R1aqTE60gOpapVBNNVElZMQlVDEvLdo1jNM7PzSpGXWf4eg/vZqungmQ/P3n4n0hmmw+c0pzYBGbtkv83BK62NCYLYXxwhMDaw00LBVTT3dNRFP4ionZyAKv4+DpB0FAPqnaOhvLq4TtGn5aRZtzZ4nP4VSlKY+iZO3UdPLKbPgpyzv79KGFwdlxYSu1aIcbj8jAEkd9eCMPB2Uga/e5j7VAF/ODd44evfVCmINN2ZENHO9WKd0/C6+ZrBHGvgktq+ixJTkPIMPG3OgwAzk+OTa95mpEWZuVUG/yxZOX4fi6mGlR21NXjJ55kS+WXTQ5oDi62pMzIeKFKTVF0aVJUGm5kZaGEc8KDYyW27l3UEQCyZffu2gWvX6ZjbZlDnPIlWwAum4uhcmQY9fy8+T+EpqFBq9cPQtLQUkegpKVLsfLSCtDQM1BCEmtaIv10avLAUwAAoNBr3Z11JABAVVRVgFXJrI+TeGV5JdDV2lqhBcA4TE7LcRxnVdRuXkJV6MrAzWLWP2vgleVMjKpCV0RAZrhD1dRVgZPC+XIBzmY13N+HsVlNJ5TaBKtisZs/XSMMDTVUydnv70bzIrioTIkEIE8+gii3o5KoGqPe9R/V8GdxhVLNkI6JeawWbuPciD9Ksxw8zXTSBBuySFT4Ou/hpvS4XLKSGoKVVzc4Joqxi8XgTFFCAQDw8mpuY6XJOv/x5V80NTKwuVxRgzuKq3EFipISiMPLs8T2Fp3I6WbqtITcjI9oHtXM3IHEd1MjxWWls1tqLoXmtKbjxNmq1a+zTs/OjM+SuU1SFJP3MdZ0lHVF2ANBczsjDKoyiArL6m/HS4RfZVJlTSqUCRv4Hy7mSaDmyQuhWXWqerav2H2JxfAhhYH3RM0EkCT7h1+osOw92WHeShLO4addz7i9I7+A17SxDivsR0zW0lHDuXm8wky80QYQrJrd7ARFG6Bfbd+GiEur61WJi1mlUsSAotheQQUlWx7s49zwUhxj0REUo6qAmMes/5VXLiv/a9lLAQBniVrYtIUo0LUQ9Umdt09qdC1blVwTmqpLq7/0+JZdvfmk7NeCKtPpqJRV2cBtqivKeWCtqoIAFxpGocb3MZy9Fs8Z1c2CAeyS/JxMfpvnKBCaEg2panzICWdVNIiZGLOCCUoqSlQGQ4Vi5nX4rlfD+6XZKk2X+aQpgT6bhTPHDZy3YYISVBUnvbl2+uTtlLa29GKsytomfUvgalVjrSafVbHvoqrXubtpPAj36GUnCNvy5RwMxmymB7qaqrx6+I7RRwZkbffpC2YP62SiIq0sysv+jAnl3r3/o4RpcXSS116IGkMV2FnM+p8wsYAvBrSdTNuhyirKOLOcWR9MsfKS2sUwuR2yRRO3Ummb+R+TWdf58Mpne30UpkwdOcbnj1kUMTsr/FHQ0UvBBeRWZCtro/gmIHSGOpniOO/CzXkNfxbHqygheFlEcCy2uFsn+qPXuj26aee8fJ0pRSxbMQcA4NVs7te8HKUJPy//w5nRH1IEHR1pNRMGkqIPH7NlDMJYflRsyYwhnj00nz0sb+yQZDMbcyqSAwAYn8sDdQ11FKDuEhW6ClRly3GkE5eZwX35C8bn8oHOYFC+ODmioqqCSti8ahwa79kDlKasjAILAHBBVRXQ1esfMhC6WptPHN8ELqgSYuV3lk8+EPNth4vwar4Uryo6ax8dLWj6N5KB7PswUfb5pGPnkyjt6WY9dXout5hxXLpzSE4VB0c1qcoo1HUeVEmdDFyJEAMlaE3jshCyJaBGpVMB6gZkGoOMiEUCAeDVlanxaL9ummaGyuVRLF4ZkpmlYOfWTtCJWvyovIWhE1V02e8+rb8oZEHwnbv81ruHyiCrPvYiplB78GJGwmZmk4txvkQIVNV29bEPUaMoo8BrXhAASicrNnsiFHIkoKGgjALUeD9C0nBUU2FxCgAAF4Quibr/kszs1HOsn6XVq6RPzcrFuZyIrVERW1Flc3XrgYaDljl5S6u2bGj4ghBEa3qHv7zJocs/HHrM4VYDYmy6/K1xo1K++hlE8j32pbSj0hCoTRARMl2LJK0UCXgkESZ8N/r1tZBmx0U6S4QIRUW9vkVKGpQf1Isk1Xy8IOj9jj3NngARBQDAG72QqEVXzyiS+4gVqqSs1HxKAONzeRhJnaGKQt3ODwqdTgP+lxX4lrSJqPVZsXGGafjB5RtepJQJMVAesPnWktbrx4VCIdCUaA11h6hrMlD4XGdFNYYacFkcsUAgFkefmLD8XnlbviEq+HB+y4fzJBU9aye3geOnL9pMKZu+LaRp05VVGjUdq9PstwSutjUmE350SKR4ZfeuVgq9bfkf/omq+iIgQ5OBQk5DPVTx+PLq4StGn/rRoRUQvZGrN4xTerJzyYrgTKYIR/VGHzo/vI22fYMwbdDC9XLbq4pXhaioq9ZHRoqmua22KDtXpu0wHpsL6prqDbYwKNJqnfUrHLIlE7fmMGqNb2/aSRu+LQBjJ9894nv3qIKGsX1nj5HTJ67fIPCee6MV2b72zYVCgRAXvt04fMubZruRANhh7xKQBe4u9Fzz7tqZT9/mYgCtmAOp2Yf7PafZf+L6L/b5xtb1Z18n5hblp4be2OYfGC9zIJak3PsnGnOdtXioccMNtYiyzfh5Iw1qEl1pblIKV82tl2Pd5mOyZZ9extWpiZlyh+fWwMuSU0rIzj261r2rE9Xz7GuHf0pKEwEAjiMKdHptGogwnF3MaoTCihOTy5U6dHWqFRs1cnXV+ymv1MSKUlIq1Tt2tapTEKLafdHxsyv7MOQdKKtimCVkhp3Hl5GVZOHTdc054/atyIsouB7ptXaPjhIC4lLupxsZtwJZiLlKO5I0N4ILHXWd9esOBLTTdu1FKotktTIt1Co4M4pVSdHs0JdaWyJJ2WUkA49nfq4GwITp7/n07iZuHSQ5kXxMwsuMFOsPMLG3EH4K5jcPF4qeVqNHYB+9w663lfwhjPYjNulwj0Ue8C9VmWHf37Fpf8CLWXlFJLvxuuq1f0Ha/6lvUvfUhOM4okapiyaoQQ+NZo+beHEEU6DdzqlD3f2auuNudRnhSQYAwMSVBRIcE3zcklWgZzRyjmrTxzHFdmNf95o1iYYAxs+sjD6W9Pw9pm6lrNioFkTXiY4m5L+4x+FWAwBQjJTVv9cHv8u+JFdd57qTIqipfld3PC+UKchj5ZRRrfqqfYmYygMdVr1w6qQF0k/MHC7Ntg+9VkcK6vbdf1D+J+ZlxUrb99L68kJqRN9g+ovuozybKUimq7dWPA44SqfXTbtQLDo5qLVwlTA1MQtsPTza1ymT0b1fZ2pBUmprU1kkA0tzxcK3Nx8nlQkxACDrGrTyNvG6mgoKK2kMRsMgSmrv7mlX94OSy+Ce7VmJ8XnV6YlpUqsurhp1aiabjN1xev9U66avDLafeuTirgmWJJDyCpM/3D5yMZhNNzbWRAFwHFWmq9T5vk6HjrotDibfFLi+SWM18KPfR0k7/LlwqB0n5GVc/SCLanbt5VA3dih1HNRDm5+alCuvHlodfWSNDq1ANrE2I6U9v/Y6gynCAYCqayD/YuJPHQrltRdWlpRUotCxe+e6kKfUecau/Ys9tapl2k6Sn5TM0eo50LXuFopl796mNZqWyGkIgBZN3JrDyNdJARBG/3VnA1d50BG8ujIn+tnlY7c+IYYm+qSvka0NcE5Kch7J3s3ly0Ch4PTXvrNbhxmgAICzQt/Hkzv0GNW3u276yzcF2I8Y91vlp77/BauIvBAQeUGeK4vu79xrvc936cmTHi/eRqd9rsDUDG3c+nVTjnoQojMCAACEUdevf+r1l1+A4NzNKJaq09AZE3Tzru4N4TQLCZgURzWMbc0NRZ8/c+UVVpp670rEwBUrti5RvxZSRLEcMGWqfeXTNS9KMMCrPueWUUdOnT+UdT8TTHrP8HZThpoHS3Hi7cuR/ZasXsc8dT9JYtR/Yn81HoZ93Qv0MCmO0PTMrc0+5+S08FBQizjh5t/xfReu34pceRDxWazbbeKsP1TfbYxiyZtwYZ/ynj02mnbAVXIoJz5ZrOphOmyecs6K0jKp7KcAXFSQKW2/zGZyIflDuADX1ezprV4d8jlXgnOuZUT+1WnEBWfK/oICTLnDIitHccnFCzLW2eURLzbn+VuDCbtcx2lkxuehhmMtB3eqDpteUIkBAF4SXM5eYWYmKv0QjwFAXigLn6pjXJr3ILF581Hjge1VmWyenrbbuAbll7FiX/NEZFWP7ebmOXlXj1ZUIxQbX3vXqpxDx9gVopSHYz3+3GYSPSqrqOF+YzEr+GSF+1a7BYeoT+9yETuDwXPpX6Y2KtP5kjlGI5dyHjyvVu1uOnKmMjR78Be9zX4Zqzv0RCfxztz0MqrVfBt7QUnQYyFef0oIJEnZdy7rL5hj6349PDivQYtEvKJSxZ6rnIZDTmq2VKWD4SBPyNvFrMIBwXCcpKDTkd5eVFWayseHGAwYw3mfijM66/Wfr6+CYlo2ysoJvBb8qf5GfqnMtwfhZd9jXyWtPy86KRwqKqWqdV1mblKSf/K6ABcJ3xyp7Ly54xzIDHnHlxhpD1htqPwo6lMFAF76/ARnxbKOU/lpYamIyRRzR4oEE+Lf82BbhzjxWHbRbau5p8jPr1dWonTXZVbOkHM4XNo09sl09WaqwTFU1cDa0qgyN78kN1807o85UzMCPzIZHUfNGW2AQGrtdQ2iUP7jKy9H+Xvv8KGef5WFGfScNK2bJHTH3YxmQjRAWpSTJx7lOWZ4zI3EKnWrnqMnDjNAKTwTU/XoNJlBTZIelyj0sLEgP4v9IjeiO3LN1uqgO/FV7d1GTR+inHDkZkw1jr248nhswMKdPhrX36ZU0GyHT5vqWHHmZGaT5ko/ZxerTpqwfL7w6odsHs2090RPesG96CIMo+Tm8TT6zpgTL3leqGg75K+pdhQoaNECcgcu+TQm2xyfywU44LzId7HS9R5GJXcOxDXYB4FLNf7wDRBeuB3H1eoyevpQtbRzN8IFuEQ+PbQy+uBkmaNDo9ieXdLg9KP0c/ZnvNeACQMyHmRL29n3neDVV40k1jXVU03La7Y804zWhsJW0oKGwshet5TXXtJPt69EDF62cjtH81p4EdV6xJy+igknXuVKCpmybIfH3LiZ3HeW725R0D+hJTS7YdMGqTBrbISXyWkIgJZMjBXIdpjWOmmjYtmZeSKDabN9SmkPE0rxds4jx9kIYh59kuIVsmWTMf+n4DB+6Z+mn/7ZfedTk5dO5Dz8O3joGt+tokv3QjJ5Gi6j/vLST9kVVnNiA2eGBScsWDxpOJZ04l3NW9C/e9xvlV/j/X8AgJUG755bEO3lNdxz8JRBdLSqLDvm9YnFfweX20zWsi2XAoAk64q/T/Xs2aO9N4xVFJVnhJ5bd+JKSvMRTpoT9jqt39j1+41PzF16W34Jih9t9sFmzx4/zXcIHWNmR1/3P3khlIsDgCTlwqZjjCVj5+wcqEKRVkRdDnrxx5i6ux5sWCFdsHji4vVjhekPDh98MCVgsED+vRwAOD/hzceyRTP279NfN66VdwZj+Xc2rRT/5T1+qt9oRWFpdsztzdsuhbHlrwmrjloahq+yGTTPsas6zk2vjFwa/vh26ysqeOHRmPN0u0FT7WcvQ4Ql/M8vk49ty2djABUlV8fFcNZb9N7XWQURl4blX1ySFl7UegBqXTzBx3lhuJ9N3xUduqnh3NTyV7NTHr+s3QcmTShPZ5oyCpg5HAAAYVRlvkRHL7Q8u/mrjhBKO2MK2r794P3tG/4s+ZCU/pYnQhSMB+u6xJbdOAZId6txXvBxSka2AACqPvhndHlsMWZScc3rAL9ooDQw5ihqO8rbfPIItCqt7N2CVP0ztjWNZF9PPG/hOHya8/IVZITPDd2ZzVnNaCqPmPtiWrhkg43nZpe+iKgsrvjqxNToMkA0G14kSdv3KXZox8G+2jELiuvHCUzwYWm06hZrd3+XvgpSTh4nbXfE3VM8DABJK42O0+9zzF1n6/uDZ+Mu6dr/sb6zK1pd9LHwybhQzYDOI7e69EkOftRczQ1vPNnC7Glts7/dvlj+6eQwFf1eO1zUMGHBx+xzW9OT2QCAlwZFHRbZjJxrNXUWSVTITQuMPn+olIcDAFZwOPxwtf3ovxy91UTpJxNv5Dn+1UXafDvkNyCOyzg2UTrS12jkcXMSR5D/Ov349uysqubtkO3qjVtXHPku9s+piw8b6yyZc/rJ4W2Gi2ePWH1oOg0V5Dw+c5M5y77mukZR6J8P+5Zvq5w3aexqTzWEmx/3dMf2oOetH9vHK5/t36a3ZOakzXupnPykd9fXz3s2ceeymbtmZI49JHM/Z3VSWLziOCd9NDa3VnBByMm9eY4Tpq8dQ+PmpQYf8j11+7MUAHjRR1dsZM+bOnyx/zTgFKZ8OLoy6H5209EW57w/vO7U/LkjZqwbQpOwi3MSb/qfvpQsBhB/PL4tUGnOiOW7RimRxEXvT10ond23RZnkDVzfpLHG5kiWAuDciNAEUTejt6+TGj7ISdMv+d/XnDzNb7SqoDA9/PS6E1cyxXLrobXRp5XRoWFsH7svrF4e7PPN3Tu1Fk6bu6U/ysyJfXVx+QqdpVvnLPYfmzlHjgkTeYfCRjQS5kCRzOvktRdW/HTrCpg1b/xM/2EUfklm5Dm/o/cKMACWTNtJsq+v98HmzRs5c+0glJX5JnDtfduApTXSyWsIaNHEuOxKy2V30iYNyrqyNUBl/pQRi7ZMRasqCtLCjq0+9aIck99JvkDSde7VxwV9tbdp/gdY5asdK/EZ3pO9lg6mS5l5iS+3r77wsrRuCyIz9F3iQleH+Bfv6xayZZvjB8wAInSGdttXEdSCKqjSSXx2/VuEUYZd7+6an9+9T6uZhqS5rb7i3/7clJX3vucTTgS/MFSdmakd0CXPztyvTw3IdCpVLKpqIwATyAClWY3TokYX1h6CRqhdL/Qew49bO7f4f/1JDjlBKMqqihIO9+d9709uFF2XBc2tWOt94cfsi2kbEk1NGedyhL/MRz7IdrMDD3cLXjj7VErtCE12nHdhv83daUuvFfxMAzUbHQh+Es1NLAf/bidF243cMLFw68HwX/pbe7/Od9V/C7BqTuPujUvbeczx9ZneVV+ZTFbW7TJ1Yk9K7KvQtrepEPx/QsIlkr/vQneM3fRdZpZ6JBKFojvUum8PSfydiu841/Yvg4v57F8h+QMAYfStu8KeQ5zafEfzj0IqYP8yyR+JQlHQ7j2+v87nNy/T/vWPcDUbHQh+PN9u4n+zk6JajgOceAkZv/on+H6Z9d/fFJzz7vAG/aVLVl8YrUICKe9z5I3N+x7/Qp+rJ/gJYJj4l36q+93ABO+Xx6rvtJsXYaVAAkklJ35n9M2nMl4BQ9A60tybh4P3zh5iEHcz/xdJy/4tyHazzh8erSsteLThnuw3PhH8xvwmJkZQYczpw8m//CIgsf77Y0Aoyup0UhWL8wt965zg54BSabiozRdREHw9iAJFRRWEFWIx0Yu+C4RCo+LCasl/zUmpGpYOppTC5JTixv2TQtfSoFSVVxKzc789skxM8C0Q+R8BAQEBAQEBwX8LYv8fAQEBAQEBAcF/CyL/IyAgICAgICD4b0HkfwQEBAQEBAQE/y2I/I+AgICAgICA4L8Fkf8REBAQEBAQEPy3IPI/AgICAgICAoL/FkT+R0BAQEBAQEDw3+LXyP8oXVfee7F9iBoCAIiy/cSdgfeeXVvu+r/6OAlqMvXE08Cp5qRvux1Rt+zq6WHFQAFQhkUXVyutn6Zliof/s4ebelN/TGk/XloZmkT1xh979PdCe3LjShFVD9+TK7ur/oDvWhMQEBAQEBDI5tfI/7DKjNCQpGIJDoCoeHhNdaq44ed3Mek3fVk7yWjwovUr/zAnAZBsx2/aOKWDwv9aJPn416TFhflxHyOzOFjjSnHOh8uv9Gb91UHpp0tAQEBAQEDwX+bX+P6vNO3Otg21/6YpKyHczNi4rLJf/dvJX0BQFDDsy9docLFIjIlEIhzgO2eyEARFcOwHfgsLVVAkVwtFP6q4Jg2XG7wy5OSWkBb+gOU/e1x4bny/y7H3iG8oExAQEBAQ/Cx+jfk/iuvy28+3D1GjOMw/f3Wps4LOqEMvb/u6N0xOEdUBmx4+2z5Eoy6lQg0nnnx8e01XGgBV32N2wInrjx89e3Lt3K55/U1ptcV2X/3g+eb+X2aTKG6+Dx5uG6jSXABSu85T/PcF3b735H7QvmUDzGj1iRuiZDZo8fagO/efv7hz7fSGv7rrUmpL67b20bWVg3suPHbt6eunTx9cPLx6mLUyAiD9nJkryM7K0x595Mnm/soKPfzvP9/zB6NxLtiKbGTHeX8/2/hn16m7/3nw4tXjB9eP+k90YqC10pgPWbjj1MV7z+7dOLN+SmfNBgZElMz6L9x95tbTR4/vBO73GemghgAAIBrD9z44M8PBYfTqo9eClriQAVGxHr50b9Df/AFyDwAAIABJREFU957dv/vPie1zPPTIgOo1lZak1XHiugOX7z188erhvSuH1k10rpVBZsPb0GQ9qPaYIw//XmhPaVYpzgp9mWg5dLDxr+GYBAQEBAQE/y/5tYZZSWrgojmnk0Rlj9aOmX44suEEIM4ND4nD7Lt3qd0dhhp69LLgfngZI1RzX7p/3Wijz3f2bdmw+/onzcF++336t/uamTdF+792b57ugkVe2Lv14P0i2zk+ow1rd6yh2gPX7/YZpJp4ea//hqMPCk3Hbdm1yI1eWzpC77Vgvn36hXWLlm0ITFEfsHDNJEsSQFXCk7P3YzlFD/wm7HxbJQrbN2Xcxhesr5rPIneY4dOTdSNg2YK1x0JRd+91szorACDag3z3rhqkU/D46NbdgaEKQ/y93am1sqC6g/wPrOhNiQwK2LT1dHB15zm7d0+xrt0ZiKh1n7ekB+f5kV3XkjF6j4Xbl7ph74O2rdl04E6h0Ti/1SN1obixtIjuiPWbZ9izHh/e5OMTcDJY3Gn2+jnudemqjIa3psmWwIubqQjnJcbkGLm56vxanklAQEBAQPD/iV9j/fcLEgGHzZfgUiGXyeY3Xv/F2RHBcchCj070p684OGrUq6cZM+RkrFhvpFd/9aTj07ffKsQAIDSWo3pxuddQs1eBmfLViaj3Gj/CuOTm4rXHEqoBICSyQvni2h4AAECyHjbJDQnetmbvCzYO8PFjiujIyZkT+lyOuFsCAEBBUy9uOPiwFANIyFN37b7cxFAB0qqKP94tBgDgMvkiHEd5LCbvK9dcUYWi21t3XMuRAsRlBDl5bjQyZqBRaiMmdaGEH1q15VEZBvDu4yfp0RPTDQEAgOrsNbkT795KvxNxAgAIC8/ATxwb5dX9xqY3AIBqMrL3LTnxkY8DkB0c7OiFL88GPkuVAkRlcLAJrjxFBKtuJC1FS7kq/p8Dey6H8XAAiOWY9tplZ8hAoQqT2fB0qmxNtkyTSgEA8MpPaRXezk4qNwo5xBIwAQEBAQHBz+A3mmXBWWHBiaSO3TspA6DGvXqZVLx7nVCtaOtoASnB74trd8nhFSFv4qRGDtZynyIlmTvaULNePk6qrqvn4/NwHg4AgGjZ2+tI4t6GsGszEawg+E06am1vVbsGLM0OjyqvqRkXsjkiHEF+zOFVaXFUxOfa8y9SDpuHIQiCaNna61aHPXpdVttWSdarN5k1F5GMXDposmNjP1NUa6CVxsWUKlhYGdVMv0nS4xL4NY2QFmblVBv8sWTl+H4uphpUdtTV4yeeZDc9ayNOuOi39nQYn6SsaWjl5DF8sIsG2qBtLTa8FU1+BRizgknSM9T7jVyTgICAgIDg9+IXm/9rFZwZGpK4eGZ3F6V3hT16mpS+3Z8sRhl0OiplVbLrD0lUV5TzwFpVBQGeXMWiyirKwKxssD4rKSuuxMwAAFWhKwM3iymul6GynIlRVeiKCFQBAMbh8H7g8Yx6cC6b27RgRElFGbjplfXSYGUltbkgqs5QJ2kN3XxraKNSKuhKKAAAXlXJrP7ShGd7fRSmTB05xuePWRQxOyv8UdDRS8EFTWYoFYz7zVo0o5+zvoKwvCg3s0Ra3TCRa7HhrWjya5rO5/GBptTixkECAgICAgKCH8DvlP8BXhkWnDRvhoeLfWlPo6Lg3SkSwPhcHkZSZ6iiUDcrRqHTacDnC5rPO1GUlKjNswqMx+GCoYY6AszaW5C67APjc/lAZzAoALWL0YiKqgoqYfO+JEM/aomyqWwtlIvzuFygazSURlGJVpPm4gKBQJJ5Z4F3YFbTmTxEAwDwRskbO/nuEd+7RxU0jO07e4ycPnH9BoH33Cs5DS4hWU/c5NePfXXnrGuRuRwJkKy9zzt3bCRNcwFb0eRXgNCUlUAoEBKLvwQEBAQEBD+J32uRDSsPDU6luU9a0E8///WbdCkACFMTs8DWw6N93ZEMRvd+nakFSalMHAAHHFWhq9T+SdnJxbaFNyVLMxJSRaZ9B9rWvfdOqUNfj5qXIONlySklZOceXdXqDlnoefa1wz8lpX3/K1Tkkq3xHZUpSQUKXQb3qntDM6rbp499TQYvyU1MFRq4dtavO22Bag9Ye/bIfFfFpqUgjP7rzgau8qAjeHVlTvSzy8dufUIMTfQbHdNAlM0t9fGEB3+H5nIkAIAo6+ox2nwddiua/AoQBkMdKy4o/inzqgQEBAQEBAS/2fwfAF72ISR1wTxn5axzr2omurCCx1dejvL33uFDPf8qCzPoOWlaN0nojrsZUgC8ICcf7z120ajCK4kCHbeJ8/tpAp7erExO8PV7k3eP27IFAu/Fshmdx0zqirBqsg9p6r0rEQNXrNi6RP1aSBHFcsCUqfaVT9e8KMEA5Po6CIZhpPbmdubJGTmF7IYzc1K5ZGuMNP3+lfChqxfsWqN2+VUuYtZvyhhdblXNPBnv49XbOYemBWxSuvo0vhgx6T9teg+4szJBCND4bco4OzNPZDBttk8p7WFCKd7OeeQ4G0HMo09SAFK9tPm5OSXo4GFTehW9Kibrd/hj8mg3BYRlaKatXFIkM/dtTZNyqwhRt7TUyo1JYOMAgOr1nvOXm+jVqcCQSiIfJCAgICAg+EH8XvN/AFhpeGi6VJLx+k1u3YEP1od9y7fdLjQbu3rztjUTHFhPdyzb+bwMBwAs9/bO3Y9LzCduPHbkgP9I1TeB93Na+qaIMOnMqo0Xk+h9F6zd7DvOMuOoz+nk2hVWrPjRZp/dL/gdpvluC1g20ijvur/PoVCuvGuT0rT3r3J1xgYcnN9FpfE6qLyyNQIvebJj1Z4XbNtxPlvWz++LPFi/80lprR5EqRd9VwUmqfee4791y/JhuhkX/VYHJQpbUGHWla0BN/P1RizasjtgzV/dyWHHVm9/UY41klYx5fKWgyFIryW7D25ZNtok68iS1ZfTlAau8v1DuzWXaUWT8qqIZtfBvCQ8qgADAEBUzbr28exsRGtLMwQEBAQEBATyg9AZ2v9rGb4KmtvqKxsMr8xefK1A/gkhlEpXpQhY/F/xiyK/smz/Poiq54ag4YkLV9woJPb/ERAQEBAQ/CR+p/k/MoVKMxk6podS8su3hV+1GoiJuL9sgvUry/avg7TvM8gs/PqzIiL5IyAgICAg+Hn8Rvv/KF187m7qr1Sd8feaZyVEfvD/EeVOkwbzzq8JJV78TEBAQEBA8DP5jdZ/EZq2ra2+JC8xrfz7T98S/IqgVBpFKqhucx8kAQEBAQEBwffwG+V/BAQEBAQEBAQEP4Dfaf8fAQEBAQEBAQHB90PkfwQEBAQEBAQE/y2I/I+AgICAgICA4L8Fkf8REBAQEBAQEPy3IPI/AgICAgICAoL/FkT+R0BAQEBAQEDw34LI/wgICAgICAgI/lsQ+R8BAQEBAQEBwX8LIv8jICAgICAgIPhv8R/L/9D2w/c9f/7m9ZmZlqQfUR65va1rJzM1BAAQtSG7H95e1ZnyI8r9X4Iwuszde/Xxg3OzrH6IjhrQQF2o3vhjj/5eaP8bfYD6J0Lx8H/2cFNvatPfVfpve3Fvbfev8Cmy47y/n+8fo4P8SPFk11ZvUECNJh19emHGVzpNwxJ+qngy+IHd9tuKQhkWXVyttFAAAIqus2evjgYK3y/LD+DH+WSjNv7sOImoWA9fuu/S9ScvHty5cmz7gj4mik2vUB24+cmbm77u9XomWUw9+/r544C+ql98BdEYvu/xq38WOFNkCyxHEPt3+2MjELpxRzc7nZpWUrqtffxwSz/avy/G94EwOoxbc/TCvWePHt0OOrZ5enfdpnZA9cYcefns0jzbeitQOi69+ezVneWu9c6Lmk478eLV8SkmZNlhimQ7J/DZKS+jVpKi31WNsvhv5X9I+56eDmShQGLQs5fZD0huEGXXmRvXjbb8/5TEoHr9po41TD/ju+lW7g/+EG9DdeHC/LiPkVkc7MdW8f8MSWlySOinSvx/LYcMvt//f2oP+i26J8l2/KaNUzooAACi0nHyer/pbmq/dFT+Bp9s0MafDMLwXLpjqTuEBAWsCzj2uFBvxOpdS7rSG2VfOC8hPkOqYmNvVDcEIFodOhihiIJTJ4cvMlKt7CxJVYlxaRLZtf3aQYxk8seqrbM9GP+D1PNHgeoPX799ugP7xbHNm7adecux8dq4c7pDYz/CShLii3BtOxvNum5DMu3QQQNF1Z07f+n6CN3azhCtSIrPb8VWODc3JiQ2v+qnNOXX5JcOjT8aVKeHpy0WHXiWP3GuZy/LwPTUFhIckqIiKhSK/33pEKoCVVJd/QNjCYqiOIZ9ZfKAKCkrYeVhUcm5lfKJgiAogmNfKzZeGXJyS8hXiPVNtfzuCOMubYhr+uM3mVVu/mf+LxuURMKl0l81Cf5x4BKxGMdBJP6lm/o/8MlGtBYnEdWug90VIg5vOfGEiQOERuTRzI6M7NPhQGhwdf1VWElCfBGMtbNRR9IrcACE3qGTpSgznWns3Mma/CFOAgAkY1sbFemnuBRhK6J8bRD7bn78GPEv8W1dGNX37O9Y/dp/64WPVQAQFlWhcXFbL0/rwMT4Blm5NDsugevlaWetcLtEAACIdscOesyMDMS4YycDNCkHAwCyhb0VpSo2Ll0CWjKrw/KfHNr0DY37jfkv5X+oXg9PW3H07ufPqq2ne3TvaRWUmlLjRqjJ1GMnOj5acJk+be4wg8hNs0+kKpj1mzlvfB8nPZqgJPXD3bMn7yayG7svydr7/KGJRiSAHc/6vlw3/BgAAKJoNmzVsmk9TOmi0uQ3gftOvPpcUwVFr8fkedMGuBjTJeWZEY8unvo7slQKQPHwv7+AvXFdard50zyrzk/yf8qVcWUTECXzAdNmj+/paMSgitl5CW+uHD33IrcaADWadPiU2/utwVZzZnY3UBBW5sY9On0k6AOrk8/FAItbf829mocBACAag7ZfmQ8Hp/k9Yn5pGKX76tvb+qsgYHbhycArS6ZfNg64Oat8rdfu8JpW0AftuDqftWn0jnDccd6FvdrX/bO6rRjfqR1aVZYVfvvk4avxTAwAQMGo18z5k/t1NFAWl34Kvnv6xO1EnlVjdZ3T3XduVKrP1CNJEgCqvse0+ZMHuBipIdz8+DdXjgc9zxYAALmVWhSN+v41Z3xPG0MGyi1K/3Dl2IknOY2CNclqVuChwfFrvfZEiQFoPddc39KL+ffi6Sc/SQFhDAm4upx2etLyG8Wg1KatazSzUfngCP/nNY+HFDff2/6qh8evecoDRMV62CzvUV0s9eg4qyD55aXDZ98XSgAAEFXbkXNmjeph3Z7CL0h498/pwKfpVXiN+f6YOXuEm52Jmigv4u7Z+JanfGh9ttxbKtw4OiBEKsOsJS3O0aKaXf5aMXe4c3sSJzfi5vEDVxNqGiRDnub+n4LJklyW/w/b+RkAAKU7jNu0bIybviK/IP7RiYOBoWUYAFD1PKbOnjygg6kWDeMWpb6/deLYg0/Cxi4xbHtIw7ST0m3t3aWSk+eQ0fMHGCuIKrOCg/YcjjKc4TtrgI26pCTp8dE9pz58TeFSdaex3t4j3S3bkbi5sc8unAx6WyCq7U2yum2dPnVGHbg8nbV9ov8LHgDZefGF/aOoT3wn7goVASh0X3t1k/X9+TNvtlIUSavj+LnThnSx1FaBqpLM8Ptnj16NY+uMPnRxngMFwP/+80H7xvlmZBcUk7O4OABZp+uU+ZP6ORlrKghLMyPvHDt+O5nbxCl/C59E9Rq30SekNYWTtDp5zf5reBczBrBz455fOnPhbb4I5I6TOJ3Cz4hMTK3rvlIOi4OTKJQmLanJGHrYWVPvf6gGULB3cUAST1/Km7CuU2djUlymFBB1Gxt9PO91AhMHukyBUe0xh+qDWAtBr04OWf2xES26MR//tjFCecDm2+u6UQEW/vO4/ynvedcAABCKXu8lC2YPsNbAmRkhVw4eeJguaNUlGiPTJ2VKLncXbnl8RJSB8+ljdEZdWBex2AKgUptuSRCnxCaLBlnbm5HfJUkAUevQyVwQte9vWODbqUO7SzklGKAGNtZq0rT6bL7FMEWymnXqcJfns+dezcMAUbb4w3vO+N52OopVhQlvrx0/9ySjViey1Pgb8kuvNLQFquE4YNjQIYOGDB06xN2w6TaPZlfr9+ppVR318gOLGxkcKdTr6dloYQjVGbRirk3u7UP77+eC7iD/Ayt6UyKDAjZtPR1c3XnO7t1TrJu4nTTj4gLvozEi1rOt47wOhYsBAFHuvmhtb+atHb4rA24VGA3zWTlUFwUAhNFj2f6Nw7VSr+/233rkUZnllC17F7ko10zMI4pOM1cMI4eeCTgfUdXqlQ2gucwO8B1Aj/97u6/f2j03s3WG+vj9+WXjAsly3IpRpOe7fBYuP/CUZzdp/fw+6qL4d+E8827uurW1anTz7IDFvAxhNezn4vDD05bfyBNl/b1owvygtDbWf8kdZvj0ZN0IWLZg7bFQ1N173azOCgCAaPRctd9vsFrCpe0bNx55JejsvdN/qC7eWF0NhldEzX3p/nWjjT7f2bdlw+7rnzQH++336d8OabUWqtPsLX6DleMv712/du+VFPVBq9ZNbLKnU5odHcNUdXQ0JgEA2czBWgkh6Tjaa6EAQLV2tEZzY2JKcVQeW7cGQu+xcPtSN+x90LY1mw7cKTQa57d6pC4KABSzCTt2zu3Ef31824btl6IVPVfu3zDCAAVAtAf57l01SKfg8dGtuwNDFYb4e7tT216macmsLd1FMvHaMEM7/PT6ZeuPfUS6eq+Z0ZEKrckD0Nj/sVavrFNvc/8HtP0g3+X2GecDVvgceMq1nbRurqcqAkCynLxxwzj9nOsH1q1atz0ojtZ7of80W3JLJTRWrVr/BRNoT3YsXbghKFW979Ld5/eNJT07sHrlvuc823GrJrlQQO7CqVaTt+6c7cB6emzTul1XPrUb4b99bseamCGr29aDlcVF51HtnK0oAIDq2NlpoCjdzsGYBAAkM0d7WmVMdLZUdlGo7oj1m2fYsx4f3uTjE3AyWNxp9vo57kpY8QO/CTvfVonC9k0Zt/EFS5L7/p/rbzMlgJp4bV4/Vj/31v7Na7cGhaPuCzbPdGkrwDVU3K/jk03biLeicCXnOTu2TTEvuHd404YDNzLaj9yw17e3Rm1x8sRJPP/epiX+N3OwWi10GD3UWhDxIa7pJJ44JTZZpGxtZ0ICALJVR2daVnRUVEQM17BTR20UAKiW9hYoMyn+Myanh7Qc9GqukdUfmyiyRTeWv+2NbVX1ZudEvwclopSz3hNX3ahZ9aQ4eq8fjb484OuzMTBZrd8i3wkWpNZcojEyfbJ1yeXpwrJaJE29vGbhzpc1GSKgmj3G9dWtDA1JabIkj/MS4jOw9rZ2WigAKDq42OFJUVFREUkSGxdnFQQAUbG2NYK8+ARmbUkth6mGjdUbtmnXsh54yKlt6zcFRih4rtyztGftRmIZavwt+Y3n/yjmA3rRIu4+qMAAQNFy0OCu3DuhLJlTzKihp6eFIPRaKAfHkah3kYIePXvanElJrBt1UB3FuAVbziaLAKgdl03uxLu30u9EnAAAwsIz8BPHRnl1v7HpdcO9AVIBh1UlwvFqHovFFyNqAAgZjzm98WwwBwdIPWrgfm6ssS4JisB0xIze5LfbfPcGs3GAj+HJgj1n5kzodznmLgsAUdGpuDt199MKHAA1my7ryrKGLUPUNZHcF+eOH7qfgwFAbBrNpedcQz0S1M7t0TgvVwdciK8GgNTjFj0PdzXRQZ/Hvg/j+Xd3175+oxhDNbv3dhBH7AnlNFaYuIrFEUpwiYDN5AgwpPVN2qhC0e2tO67lSAHiMoKcPDcaGTPQ8FLTEZN6UUO2rT78moMDhCUI9K/493Zv9+BWaQN1oSpfStEb5NVfPen49O23CjEACI3lqF5c7jXU7FVgpsxaIskODtr84CMn70WIASITKjC+J1ApAA1TVnFKVIJwiKOjBpJRoWVrp5keFa9vY29Hu1UiNHa0Vy4Li8rFqM5e8ti6FUjGDnb0wpdnA5+lSgGiMjjYBFeeIgII3WOil2X+pTmbL2ZJACA0qogauHXiWMeHh4QjJnWhhB9ateVRGQbw7uMn6dET0w3brKlFswKrWZaOKpbd37Hzeo4UID79vHPvDSYmamh0ubIsefYnQCP/R+i9ZV0Z1yBJa+z/gAIAolj1du+2i/HVAPDphEWvQ64m2ihwldsplIWe/3vv9SQxAEQlSB16bzAyoCHJ3EYltED54wPb/44RAiSdserfdaLk/q6D93KlABkXuwzcZGjIQCLL5CpcQu/lNc6i4PKCjUGZEgCIyFeyOvFnX7vjsZkyu23DVTZpbnRM+SQXRyNSdJaStb1xUUyMop2jnQaaXtHezl67Ki4iVQwKsiOAlnJV/D8H9lwO4+EAEMsx7bXLzpCBhhRwmXwRjqM8FpMnAoCUh48AAFG1cTRHYnaduPmWBwCxhWLxUAZCQ0Ao5wrar+STWHWjNiI0WVoqadd32sh28Ue8t98rwQAgNJ6pcmb1lCGmby9mwVfHSUTVaeYO/6HI8y37X1Q0VVtNxuBqZ8tAP1Uad3LWKAyLKRYWRCaK+rl0VLtZyDG0t1EWJsaliQEQkGnW+laiZjKC3j2Q1R/LGq3iIrLd+OvbDgC4iM/iVEtxiYDF5AhxoAAAQs68vvngw1IMIPEzw81jqakBBTKVZIaFhp0dEBUZPlndquTydOFy2ePjlxah7bov3bbanfnPmtPh/KZOiJUkxBchIxysFa8Xi206Oilm/BPL4WLRaaSpnR0VnoVILB2sKMyQ+DwptBKmOPUFUp1HT3Kpur/S/2S0EAAi0lDTy3P7utLevpWlxowfvFf+X+L3nf8jW1hCTGRFbScSpr8r1ezQ4mxIDahJz15mvA8vo/gAgPMi3kYLdDx6NTgzhPOTY9NFAAAkI5cOmuzY2M8U1RpopXExpQoWVkZtpvnipIjo2owK53H4GIKgAKiWU0djcXLEJ5xeU54KPyEqBzWzNq8pT5oTm1CzBNvWlfXCFj07sDrgfg4oqOmY2rv1G93bjIwgX1qPc+LDU6rr/s3iYggCAML44AiBtYebFgqoprunoyj8RUTTJaWvQlocFfG51u+lHDYPQxAEEIaDs5E0+t3HusySH7x7/PC1D8pk1aRo62gBKcHvi2tNiVeEvImTGjlY1z6StVgLVpGVxaH3nuM3fWAXq3ZKopS7h4/fTWr6mC+Mj07CLJwcaIiitb1pWcyNNykkW0dLMqpp56DLjY3MkHyHrb9ooTArp9rgjyUrx/dzMdWgsqOuHj/xJFsKJKtOTrSC6FimUm3RpKyYhCqGpWX79rb2utVhj17XjQCSrFdvMuWIHy2btQWJiiLC6zSG8bh8DEEQkC1POxSgof+3dWVrErLjwuokxHhcXo2EOOfD8bXrLydJKPT2Jjadev850F4RQWQI37glOakZNcXhPA5PyvmUUlDTLgmPV4WjJFTewkkWTo60vPfBOZK6gv9eOGrKkfiaEa7FbtsYSVpUQpWBg6MGQrawt6pOuns/QWThYKuA0OwczCWJkfG1rW65KHHCRb+1p8P4JGVNQysnj+GDXTTQVtqP83OzilHXGb7ew7vZ6qkg2c9PHv4nkil/X/31fLIxLWqJ5uBiS8qMjBeq1MhGlyZFpeFGVhZKtY36ijhJMhq9ZZOXekjA8oPvy1vQW03GYGFvRUXbdXAx5MTGZEuhKi4qGbHr5ExD1axt9PH0uOQvy3pteEjrQa/l/thUj6268TeMEc2RZIZFldfYFxdwuBKQIyzUCyjLJ9uUvK0uLEeLFGxnblk/UHJvrd/pmJaGLGl2XAJXwdrOjEwy7eSsnh8bU4Zj5TFR2TRnV2sKqm9noypMivtUl8+2HKbqQQ07OGgww4MTagcUrOzRmpHjtr0VyFbjb8pvPP+HItDIE3BoxQwkM8+ephR1i+33BtX/iHl42p6KT6jxCpzJZNXODqsz1ElaQzffGtqo+Aq6Etp4fqkZWBWLLWr2K8LQUEOVnP3+7tGoPFGZUo1/Y6zK2ppbvbLxhiSGs9fiOaO6WTCAXZKfk8lvtCcY53K4LewRrop9F1W9zt1N40G4Ry87QdiWyGZPUl8FzmU3rwZRY6gCO4tZLy4mFtRM7rRoH1SZTkelrEp2fUnVFeU8sFZVQYArqxYQhB3x3c6aOnrYoh0zFDBefszTKyfOPM9svGsF58RFpVPGOlsqVNhZS1NfxMZXfZ7T3UFPSd3BQpxwN7H6O2xdf3Hls70+ClOmjhzj88csipidFf4o6Oil4AIyg6FCMfM6fNer4dXSbBUVZYkycNMr65+usbKSshbs1aymls3aDIzNYje/jipLHmUExA39v9Urv6VmQFRshs5bON7Trh2JX1aQk8USSeTMZTAMb3ClVNqCSeQqHFVTVwVmRYMjTVJhFR9qfLLlbtuE6oSoRMlCJ3vlWAMblfT78XHkNMp4R0sFjpMNKfVaLK+mTllFKRj3m7VoRj9nfQVheVFuZom0ulUFSFMCfTYLZ44bOG/DBCWoKk56c+30ydspHHkzwF/PJxvRopYQOkOdTHGcd+HmvIY/i+NVlBCohq+KkyTLASMcsTf+x961sHUaAGoyBt44RztTNeX/Y++846I43gb+7N4d9e5oIh1BOggqXcGCvWIFsYG9t6ixJLGXqIkxdsXegr13BAvSe++914Pr3N3uvn8ASjuK0fyS1/1+8ke8nZ15ZuZ5nnl2Gram9Ql308UAwIqLzpKdbm+hILQwQYsfJ35Sl840RLrTo4JUq2iVRYdq/CVjRBtwNqvtUeUuG7tUnezEADs14c5rROs7cZJhzZMN52Pa2TYJAA0L+pJRZhYamkh/bVZcbAEGAMXRsRXeTraGSkUW+kTWi8/RfGcdgjIbvMVnUXERnw8AQAPviTEFAAAgAElEQVQpzfgf5b8b/0kysynj+ysXRNcSACDTy0WzNjpMmn+kGA0dqicIO7/rr5QmM5bpM3f7AtchVqcT4xoDwKbja4RAIJBkP1y55FLOV5nUJQR8IV71cP2cP2Pb2CcNAOCTgXSUsjmI0rANO+cbRhxdv+NNaqUQB8VRu++vbV5k+w3BiwmOEm90cTaVdbPghdyO7u5Jd1ReURGF2s/FtJeIz+UjdGXmZ29EUzOy0BDlphZy20uO8zhcnKKswkShabyhMRjywOMJmlqlXVkIXo7/2Z3+Z6lMfQvbgePm+mzYg5f4nEhqsYyIV8TGFC8e2Neu0kIl2z9dUMRPYs+0trZVNaek+MXzAChf2tc0BYVPu6PwupRHJ7Y8Oimr2svK3nXyvFnbdgiWLLsrEIjFMWdmrn9c1dJboOqTOMBQVaF9aiFETkEegXabp2Wd/85srViaPACoATTT/45Sdi5iO7/J2S7Zu9Ip6+K2OU/jS/gYUB033+qj2t2cpdC1zAk+jw/aykwEGi8uQei65r3lK1OzunrSmeAmRKXTvPr166OpW5KcVluDJBapONrYcS2Z+UGxlbiUzxsAAKCYzdq1dUTdzYOLbkXlsyVAMVtypW//DosTFYdc2RNyhULXNrNxGj1j3urdtMp5+4M6/GD77+lkC4QCISF8v9N9z7u2Z2677Se5JenxKUUdHN5tiBgs+g1Rs0LSzyUIAADwspiYkoVDHYaxzRTrkhPyuu4SpDq90i5m0Jkad3uMaA+iHfPshrG3r5OR5n/TurtQI0ltQXpsWpn0/iC4iQlZ4G3t5CRjUp9wM1MMACDJiornTOvvNFjFlFL8IrG6Wf06VlqCxxUAU1kJBWgMuuU0TE2U2VkZVQ0v/6sP6HeH/+76L4gyXocQAydMGD9m7PgJY3rlvAqRemEJ1XTwEF1B5IunkXEJ8Y3/RT95ESPsOXBInzZbcSX5SWlCXQd7nabpZ1Rj1M8XTqxw6MYG7ObgpampNcr9nU2b7i1CmC6rT1/YOKzNzUxdTUnRNTGSK3l/70VypRAHAKqWrkaX1it5MR+jsX5TVk2wZAcHtNkV3Q4EgcgyGI1NhKj0te302kS8Mjm5XLa/iz29UWYF+/mHjqwZ2kPa8ChMS8oBC1fXnk37vFVcRtjLFCendbTeJeu45vLFXRM0UJCwCxLf3TzuFyNRN9BvM0GF5UfHs/QdPVwNypPTWLgkIz4Vtxw5zVYlJyqORXSnrwkgUDqjqVKKNrYWMo3ijvzlwqUfXRkIUV+TF/P6xqn76YiegQ5FkpmUgZk6OjTtXweqgceBc0e8zdCa1ORiWcexQ3o0Hb3QGjbs21+ELVWeNiV3PWWXQNVNTFR44ffvx5TwMQBAVXW05b/WkkkXM5dkJqeJew100W3sZ1R7/E9/7J9p3o0a4VVxMYXK/aeONhekJhXhWGFCMre3y1TnXlWx0cUdDp2IopGJDpH49K+wfLYEABBFLW2VjuyIauV94tqhmSYUwLglKSEPTlwLqmP06qXW2lv/53WyRWXYqSkFFCsn26b6gKzNwj8u7J3Y9ihCp34SS7u5efnuB3kdXfbGTUzIAlP3GXYKObEJjfNKWG5UHEvTdcYIPUlyfHrX46tuO73WdN1Guj6adI2uGrs0naT+bevuvEbiGN+Va35701GAipcnJpTKWHtMtYGUmKZ1W1FydHy96Xgve2VOSkJu16N5rCAphdvDYaB508CnPHjt0QNLHBS6U63/BP/d+T8AEJfHPH8S03k6qpnbIG1hzMXI5l/PBCcyOE440NXN6nRsq+usuKE3H+Qd89m3S+Hmq4QyxGCkz7xB8HBjYtt4CccIRF7byKx3YV6e9GhKnHjvr4Thq7btRfyeRhaKtQbOWjSO+WFndC3Ruv07SNkcrDSvQDx16HT32LtJfGXTwdNmTdRFaVwDQ+WYDDZ0AMGN+hCHbXPVL3/4Z3x9RykbkvML8ytlJnuvmFD7JBsM3OYvcVKEziYNsfQHfpFjf9j4K1vtVkSpjNmkpcPlEs8E5uMtmiv/U3q8+IVfwNTtSw5skrkSmIPrDp7tM1ASduBRFtaBeorz8qp7TFqwfhE8iiquVzYfPdeBSL+Q2HaBTJwWE18/aZQF+8XVAgxAkJKYpbCyLz3/WnTDfsOu9jVWnFdEuHmsnlrilyTQdJq1YoQaEJkAQNRlF4h0fRZvqpB/llhBqPed7GkuiH2ejhHVb/xeeOxbdXCT6p33qdXyFu4+3tbV589mSzDsiV/EhM0rD/2kdCMwH+k9Yu50LU479y18XYhKafJ8ecpmHZpbKa1gvDo/n0N3mu4xkBPJUjRwmjxrigWKFuoZqcnFVzfPoZzb/TbocuYf/B55/O6z62fk2ss0vuag2XPMKv0vxgig63+HAi+MjqueP72PKOxZhgSAyIhPJdxdzWqeXczsOFIg+Pl55ejYiXOHlAaWUXX6jZszzUkWqdXrraFYXirCcZzS08jSKCUrr6SuYYzCCnPLmLNnrl8hvBmSy5U3dJs1lFH8OKa01fj339HJZnWUPiGG5z37K2jCT1v2iq4/Ds7mqtpOXeilk3oovAQHaBUtd+YnKYZj1sw2iL/oG1giNWZoiBhm6csUvov7lEqcFhMvcB+piSXeSeF1o/bSnZ5Vl97vSI3rulf3ZpliBKray8JIT1RYyJFWcleNXZpOSrouuTQ6rRHVYvqmSfTAM1c6ON+J5cYncr3Ga2JJD+M/DQP8hKhkbKiTujAoPq07s6XCqHu30wYv2LFDdOFxHItp67XISRi6L+hfexH/F/Ofjv+6CM3cbbCmIOpSVEuDJtiRH+NFA1yG2JyMr2r5hijt2pYf+UsXT1y63ZPKK88Mv7b13L2ktgEewUt8F1q5ev6RP3R+8bwgXQK86OGujeKFS2Z4b50mJ6zIjX2we//18Pb2MnQtJVHz+sh+7bULZu8+LMMuSv5wZ9vy17MO/rDg0Pxsj6NlHbUFwYkMSxQN1H//NrkrC1+S1Ku7Tqms9Vh6cDSdhlVH37j8Ztz0zl7Cy17t3QCLls9YsH0ijVeeHXVx68nHxTgANG+uG59lqg35Y/3+muWzPTYPVUI4RfGvDvx62V/qeZGGMiqeHtijumb+2BXbPGnCmtLc2Eu/+N4pbMfZ1ydFJ9aPdMhMShMBAF6ZnFSCWcvHRjd9Dnaxr/H8Bwd/01znM2vnKaYscNLuXnpiP1cdAADP8du7j75i7qTVe7xRfnVxRvipzb5vqnAAbszJDTvrlnu7r9nuA+yS1JCTGy8/yZUAQPnLAz9SFq+Y6bnJTY5XEOa37SBz4x79zhr2b0JIlafNvJJ0yVuma9ahHn9KHdn5YWd3XpRZMWnrUS9BcXrYw0Mrno3Yu33annW5s7a9bZbDH+FfcO101zP33fozf9miSWv3emM1BanP9x26GMUHRKnrRUkyY+LqpvUsT07lEgDAT07MkrgYxkendLZ5UJJyY89R5iqvtb9NklRkR784sfZpv5/2zPlxS+7yH+5lfAzMd/bYd1Tv8Oxt/g2WTrA/Hv/Fd8WySfN/GS8vqSvLS7q3/dz1lNat85/RSaxZHbdHSE2G1wQe2EjMXzLHa91YBsYqSAr4dfPVgIr2IrhO/CSqYubi1o9391xgSQdS5cYlsr10ibjoZlNDwqSoxPoRzpUJiV3Z/dhMIClOr6sDbAdqvLvVh3pXRxMsL/xtxgiPbUd6nVm27oHUkrto7NJ1sgPJu3gtXmc1QntaDxuqlnXlagfxX8OdPuOcymLiyz/1HFEbG5UtcTLNjk/uTjQPIM69tXWreMXiqau2e6Ls4rTgI5vOv2UR3fha/G+AMFQ0/tcykPyDUC0XXzo+MGjVYt/Wtyh1CCrLZFB4dfz/5in3rwkqw2DSBLW8bm++ISH5RpA6SUJC0n2+h/k/kgYoNBpVdeiMkZqFzwI6+quW7YHXs7s4mf//HVzEqe30sCgJyT8IqZMkJCTdh4z/vhuolouuHJ+mhRU/3/H46xxsJiEhISEhIflPQq7/fj/IqJr0MaSVpKSWCf7f7WMlISEhISEh6Tpk/EdCQkJCQkJC8n3xH77/j4SEhISEhISE5Asg4z8SEhISEhISku8LMv4jISEhISEhIfm+IOM/EhISEhISEpLvCzL+IyEhISEhISH5viDjPxISEhISEhKS7wsy/iMhISEhISEh+b74PuI/qvXyv/yPTNdE/kflI8omzkNdTVVQAFTF2NHBtMf/+3ZH9WeffHV1vimle68hilazDl56/PrWeoev86dpaJpO8/ecuvX8+esXfpePb/bqr/r/vulJSEhISEg6gxwM/wko+mNXb9s4zogCQLGYsWvn3H6y/2uR/p0gdFcvb5vqu1u3Xkv+Gn+ijmYye992D/2Ch3/s2X7ALwrslxzY4WFAKj0JCQkJyXcO+fd/vwUIgiIEjn/6NyEWiXGRSEQA/K+mIL8BKIoSOP51/5ScvKICwsmOi8+plHTxDYqcHCoUitt9RjUbNsqg8vGa3/2SJQAQHifQurVh+CC9O3n5eLsvkJCQkJCQfBd8T/Efqua4cMMy9749Kez8yHun/7yZWEcAAMK0mrh40WQXCy0mVVidG//60ukrIVWGi86enpS1w/NAsAAAABDVCb9dW0319V7/qBzpYee1eKG7Y28VqMuP979+/ur7IhEA1Xr51cMad7bnDNwww04d5VfmRDw4e/xmAgvHCrPzBYY5BRrTTlxd3ocGsP2J/5g/PH98zvoUPVFMF18+6ha+0ftEckPkI++y+a/durfnrfUroltNWbR4mou5ppyoIiv86eUzfrHVOACqO+v02dHRPyzwzcAAABAdr6MXJySs8zmf2mruTE5/+MKlMwab66mgnNLMEL9TZ17mCQEAEIXeIxYsnzHMRlteUJ4W8ujC2UdJdQ0ySXmEKI0/dGN69uE7Kl7LRvZWlNQVJ727evTcm/z69pqcpj14yaIFo220ZPlFsS8vnrn0oVgsNXNKnxUXj3lpo9D3WMDIl1s8DoRKZHRcfVbMGWWrr4RwihLe+Z2+7J8rAEANvE+d6f985Q2Gz7KJulG7Fp9JxZkWk5cumjrIrCeNV5z44fa5S68y+agcXpMeHpfTGEsSgrraetCWof4/CsJJSEhISEi+AIqsPP1/LcO3B9VwmDLOrp+jCdv/0tnr/ulydtNmjmQkPAkrxRAVt60n1ttVvzx/5sajwGS23rBZXuaVLwKiKtXcpgyWS3ocUowBAKI6dOFKh4qbxx6mI32XHz7gqZp058LlB6FFDCevhZMNCwI/5AlQDYcp412d7NSz7xw7fvl1upz9tFljVJIfhxRjEn49ryotMTXhw4sinQmO5cfnrb2YXCtqFqYRdQKNYdNdIOJxTBUOAArOPqtHCp8cvZ3RY8avf66wrH59xfeGfyLfcPTcmYNpsa9iqjCEaT1honHpq0fR1QQAAMLsM3aSafnLhzFVLSblZGyWH9k7Bnt/+fy1R2EFDCevuUPQ0GexNQSqNXb3yR/s2IFXfG++ShIYjfOeOxiNehVfjYHUR7ic6UiPYa52lvUfzh4+dyeUZTh6xnQbTsDLVE6LQhElm3GTXe2d7OUS71zxe5XI7eXm6TVUOcU/vEQkJfPYzPjAj8I+Y/SjtnvveJwjkDAGbDi5fTw98faZKw+CC+lO0+dN6V0S8CGHjyj3He/e38i8r2Lqgxv3PqSXC/VmHj68yKjw6flLdwKzEJtJC2b2ZX8ITE6Lfv4sqqgx/KPqTlyxYhAeePZ6VBU5/UdCQkJC8j3z/cz/oXKVTw4cvJOHASRkXunrtsPAQAmNqUTUlLC0p6d+vxhYQQBAbEmPARfG6GtSsLTg4NIZIwda0MLjxIAoO7nYYLFHP9YgGhN8JqsnnFjy6+NyHADCElj085vnjjd8f60AAFDZ0gd7D9zKwwDisy7bDN2p30sFjSjDy0IflQEAcFg8EUGg3FoWV9RSPklmUGiFh7OL0cXUdAwUbYc6y6Vc/FgmY7fRy5zz9OetJ6IFABAanoOcPT5l+sBbe9/yuljxnn36aPCCTpx9HCkGiEqsxnlDQYYGQOnrNceO+3jj1jPxAgAIj8gizpya6uVyd9dbidRH7wAAkRVH7t9+PohNAKQc13a+PLOXDgVK2sRUiIw4fP/PR96xCYCPwVn4hSNTZgy+FvVGT2q57DqehMCEHFYdT4LqjPEaqZx8et6v90twAAiLYzOvrfea0DvwUi4AoJpy8Sv3XEgRASAMt1leJkXXl+6+liMBgLDoUplLe2d5WD87Et+0MEzTG7Pp4CrTrHNbrqZ2dWmZhISEhITk/ynfz1Z4rDQyorBxwg3ncng4giAAgGU93LPpeGAFKq+ibWTjPHbyQB0UEADAcj4Glao4OptRARCm42AbSdTbkFpCvo+tBSU7KkFIZzKZTCaTgSVHZxD6psYKDaWURUc2lYKx67iNpXQFSUZwSKX2gIG9KAB0h6GOMkmBQRWIvqUloy7sXbygMZU4431IiZyZlWGXD9bi1Tk5bIbb0q3zRjuaqiuIUh8dP/0oWQgUfdt+anVxcYW0hpow5SviYytkjU31KR08ahAiNTKG3Tjdx6nj4Gj7lSQEMW9Dm9KJ0l/551DMLY1kO8m8CTkLa2NIDfpY1hhXEtXB7+Ix/T5mTAQAgOClxGU2xNAUUzsb+eKYOJZCY46UnNhEvoqJiXqjeiNMpxUHfrSruLT1l1uZwq42HAkJCQkJyf9Xvp/5P7yutq69VT+qxoB5KxdPtDOgYzWlBbmFuLAxYJFkBoWWeToPMD6XXOIwqJ844kA4m0A0VZSpNOvlV+8tb56JOIGu0BCVcOo4X7q2KE7/GFI92WWA3tVKQzc7WtzZj1UEqsekQ20Nq9lZkpqqGmAoMbq+h00QfmLLr7Xe0yauPjBfFucWxb7yO3PeP1usrKJM6TFh9/0JzRMT1QwFFEWlPgIAIOrrOK1mL9uFqK1mfV7iJmoqWSCrqECVXm7zH1BFBgPFamuadVp9dRUXzJj0hpZmsWobH8moqNBpvb2OP/JqngGWS1dsaCSE7jx5lEb2ta1+Gfyve1yFhISEhITkP8n3E/+1D6I9efMOT4WXB9duCMpmiQhUe9qxK+4NzyQZH0Mqpjg7G9wtcu1XH74/kgeACAVCQvh+p/ued23mkagaAPB34gtJSlBYjfuAgebl5g6UmKOhLAJQHocLyqrKKEBTHERn0IGf204ggyrSFdqdzyV4Of5nd/qfpTL1LWwHjpvrs2EPXuJzRiAQSLIfrlxyKaf1VStUK6mPEKWGLLtSH0RZVZkCIGl6U1UJuJlsTHq5zU9H4zwOF6coqzBRqGysOo3BkAceT0AAHQCIT0ePxQKBWBxzZub6x1L29VFEVdlpRTmV5K4/EhISEhISgO9p/bd9qAZmvSkZ/rfeZrFEBADIaOmqf2oTSUbQx0q9gcMmDe0rDA6M4QMAwU5NKaBYOdnSm0IVWZuFf1zYO1H3a7SkODk4rM5o1Nrp9kR0YCibAMDyk1M5Sk5DrOWaBDYZNqRXfVpSNgYABIEqMuiNJaOa/fprtSOFrOOayxd3TdBAQcIuSHx387hfjETdQF8Ry09KE+o62Os0LbuiGqN+vnBihYMcSKQ/6g6IvO1Qp6aJSprx6FHG9UmJmcIuZi5MS8oBC1fXno0ZICouI+xlipPTWK2DT0lmUgZm6uig2tQnVAOPA+eOeJs1ft0Qte8Or1l1MkIAJCQkJCQkJEDO/2GFuYXEkFEzR2U9zcXUrYbP9BquRBFrGWozMwrYYkl6UGj19CkzDVjPNyc0zPfhec/+Cprw05a9ouuPg7O5qrZTF3rppB4KL8G7GEvjOE7paWRplJKVV1LXegJMlBIUWjfR3Ygb8Fd4w8Y5YfSdO+lDFm7dJ7h4L7qWaTNh/kytgpuHg9kEQE1+AVd1+PylCRL/EjmL8Qu9LWlQ3KZAcV5edY9JC9YvgkdRxfXK5qPnOhDpFxLZBDf05oO8Yz77dincfJVQhhiM9Jk3CB5uTBQCgPRH3bm5GlEevmkvV+1OeBXTZvJcT+08v4PBbKJeeubNF7Xx4hd+AVO3LzmwSeZKYA6uO3i2z0BJ2IFHWVjrSxSJyjd+Lzz2rTq4SfXO+9RqeQt3H2/r6vNns5tmHhkOc1eOFD09fDOp3VtqSEhISEhIvjO+9/gPL7z328Eeq3yW7RmJsvLiAq+t36C5bu/SNds9spdeSMXEqcEhlVOmYB8Dkpo2vOE1gQc2EvOXzPFaN5aBsQqSAn7dfDWgAu/iXCqW8TEw39lj31G9w7O3+de1nsqqTwqJ4UxwCg+I4jb+Isnx276pfvHiaUt2eMiJqrLCLv5yxi9VCADADz29/5LC0knrD01VoIhLP/perVg8vG0VK54e2KO6Zv7YFds8acKa0tzYS7/43inEAURp17b8yF+6eOLS7Z5UXnlm+LWt5+4lCQE6eNSdq/MksdcOx+hOnblxHFNUmhFzaes5v5T6jjJvCVEb8sf6/TXLZ3tsHqqEcIriXx349bJ/ZTuXaBPcmJMbdtYt93Zfs90H2CWpISc3Xn6S23TOF5HTtRs6lB91lIz/SEhISEhIAAAQhorG/1oGks+gul5/XvQq2O71e1g3zqlS5JUUCQ5bSO5vIyEhISEhIemc733/378IlEaTUbH3nGTK+hAQ271LSjBBHRn8kZCQkJCQkHSR7339998Dquv558WlpkhV6O8348llShISEhISEpJvBrn++6+BqtTLyoRZk55c+MU3CJKQkJCQkJCQdA4Z/5GQkJCQkJCQfF+Q+/9ISEhISEhISL4vyPiPhISEhISEhOT7goz/SEhISEhISEi+L8j4j4SEhISEhITk+4KM/0hISEhISEhIvi/I+I+EhISEhISE5PuCjP9ISEhISEhISL4vyPiPhISEhISEhOT7goz/SEhISEhISEi+L8j4j4SEhISEhITk+4KM/0hISEhISEhIvi/I+I+EhISEhISE5PuCjP9ISEhISEhISL4vyPiPhISEhISEhOT74t8Q/1HMllx/9ea0p+5nYRTddj16+/biYnPKp5+o/Vbdevf8d3dVRGpG1J4WDna9laQnAECUxv/27MGP9rTOhEIYvfo7WWrKAgAAbeDPL57tGSHfhcp0E1R7xqnnf62yorYjgar74Wd31/fvVNSugPRQspnYU08VVXXUsh2kKGfQe0PhuB3blT+3r4zajNhxJxJsLGQ/v6S9ftCxQtcxpgjF0XJX3gA33Y6ati0yBiqWzopyCAAA3bqn7RglxtfWN0SJbuqmoib3lbPtNvJ0+50OP8eN/jN31J4Ap5k+ygoIAFDUXbT6OyvQlBlWEzUNNLrXev8OEDkdK8e+eopdl70Dlf5bUIzm+76+5G1Eaf27xdJLr3299DtRrS44h65Ac93++tkuN5kve7u5V6E5b3z85tfxf1uitjn/PwFRcVx2+OaLpxcXmbbs8xY6SbVe/pf/kema/0Xj6gKoirGjg2mPf2acRpRNnIe6mqr8G6KCbwm136pb/r9PUW+tM19gkl2ME76usX89/g09jeXGJ3LQ3pZmCk2/yJjb2iggFG1bW60mAVFNCzM1vCA+sZaQlg+i6LBg5y/TTL7KwEMxGPfj3sWuKt+4wwhhUXxoVA4b/7bFAMVcb8YpKycTqtGKfvM2azBKarIKQNVWWelT+5r1MFFHEDVVc+umKiM0fVtFpIKVnSu1yTsEUZloueSQrjoFABBNzz7zD+nrtB68/y6omf7sS+Y2Pf63dkU12+7g7SWTfSLh/JKkd/E02/0Ocz3lEJRmub7fvLVqCgbaU0/ZDLL+txl/V0B6Dl2xZ8MIna47in9KpT+Vx8mPDY4r4nec6qs6hy+muVfBa7LCgpPLJF9mXB3l/P8DVHuEt4de5vktu+7nYy2edF8n/7tQLGbs2jm33z8T11P0x67etnFcm0+s74UvMMku2t3XNfavx//WHTYiTo1LEY01tTKmBsRJAIBi1L8fszgjS7W3XT8Vv6JqAgDkzawM0JpXCUX/1LDyz0DUBJ/dE/wPlCPCMcDF9bikHidEuETCzgoXj5igoi+fV8MDAETVRa1HFbsIoZsNoqNRHBwAaExDa7Q+tLpQ/BUEkIhwvB6TfIWc/h4IgiIE/tWUCJFRQES4mtNkucJjEbfP83CApIBaMB4ycUpP+p0ycT0QYhwT4RLAxPVfq9AvgSonC8L6f6L9/ymVbgIvenlsV+sfERQFHO+Kt6XIyaFC4ddQ8W6CZTzcv6Mb6VEUJbpWpe6DUKgILvl7mX9t+RAFRQW8Kjw6Jb/m3+zzu65pXcoLwb+ec+o2hFgkxkUi0b8tSukUVFaOWi8U/d1s2jXJr6LX3TX2f4p/RfxHcBMTsjBHC0tNNK4IB1Tbtp9GRfjuh3q/LLftq/g0kAtANbI0kxEkJWSKAWS0Xb0XzxnVz7CHPM4pTft4/8ypp+lC0yVXjs3SpwAceD084JeJvwZjyjYeS5ZMHmCiTuHkx72+evby++JGDUHkek/88QefQYYMUUXKu0t/nAksbDEyKo7a/eCXgTIAq26/GOm7ZPktAACEpu22duXiUWaqBCsr2O/on88yBQAACNNi8tJFUweZ9aTxihM/3D536VUmv6W6UEwWnT09KWuH54FgQYMAqhN+u7aa6uu9MWzQnxenpm3yPpEsAUTJeuqS+aPszXUUOdkf79wqaPaBK70USg97z2ULxzsZq9H4ZSlBD875Pkllt1ZXPJNdypEvysbKUrm1VRw2jotCWRJP5d4WSFwUAQjNZBCzPijhNVjNHaSmfJRTgwNqqNxLlSgIq61vmiZGNdUnHrJ0HSBHYXFTz6fcOl3DJQAQqs50U/dlWkbGsjRRfXlkqf+O9MhMwvKP4StmySCgvCVf++3Ud89SOPVmnDIJAELTn7mehm8AACAASURBVGs+ab66Xi8aUc3Pe5R552BZVdvxV1ah7zqL0dPVtDUpeB0//2Xeg935BewWSeSm2x84oUEDmB411nH/h9+OcQkV5cE/mw8dq6xCE1dGlQXsTw9PkhAAFEfL7TflAxezrQ8ZmWshwlJ2ysW0O6erOTiAPN1+s8WIcco9eyD8grrEUykPbnNEAACI8mCjyZv1rKzkqFx+7ou8x/vy82oBANH6wXXTwILfj9PG/dKrZ1D0gdOoOKsmOZLf6LhxMYdFIAyUCuLSNH6FkMPPw0rruEUZ3XTsiILRKJ/FMwZb66vIiOsKEt/5nbz4Jr+dKFJGf+jCZR5D+uorsJKf+r6QWf6jxgWPbW8E1H6rbhxUObs40GTVgtEKr1avuV1Cl6JF7ZeFOW6+dWC8EgpmvgHD766ZdyLhk5l0TaURutnERUumOppoM4ja4pSA68cvfCyRAM1l84OdikcnbfdvmLWjOW15sJ15fMZPr7gACNNq4uJFk10stJhUYXVu/OtLp6+ElEuPXCmmi3yPO/ovXnazgDLw50dr64+fFE5cNclKGeeUZwTdPnGirXM4WDzz1Jn+z1feYPgsm6gbtWvxmQwVaUaEKBiNW7B4kpOlgZKoIPLRhYQmo6T2WXHxsOUjnzX3ynAAAIrlkitHrZ7MW3ermAC0HedDa+lVVqdPv7Vf/fz0n57VEYAwraYsWjzNxVxTTlSRFf708hm/2GocAFEaf+jG9OzDd1S8lo3srSipK056d/XouVZq0NpfXS+g6rj6rJgzylZfCeEUJbzzO33ZP1fQRsGUxh+6MT3/+DPNuYtdNSjCyrTX5w6cL7BdtcF7iIGioDjm3vFD1xPqiA5UEdWffdzX6ePeINOlC1x0ZYU1+fHPz524HFJrt+naPuP7C5fdLMAbtGPMr34r4KjP1uesVr6xXfdFc9n8YP9IOgK9r74c7bfW53Rq0xQgtZVOniEAAFA1x4Ublrn37Ulh50feO/3nzcS6BrXuPWLB8hnDbLTlBeVpIY8unH2UVNfOUI4oGo9bsnSGm6WmHL8k8f2t0xdfZvEJAESh9+hFi72G9dGhYzW5sa8v+14NLhUDAE2KpvEIAJDVH7JgxZwR/XUVxRXpQY/OnXnQWCilh53X4oXujr1VoC4/3v/6+avvi0QNbegc9We82XxPO3WqoCY35tm5U9fCKnDtaceuLe9DA9j+xH/MH54/voC+HssXjbU16qkgqs6Pe3X+6F/RNc2rgzBG7ry9hXF+9oZ7ZQSgBnPPnVmgF/Hr9B2v2QRQrVZcPzwi+hev36JE7UuCFWbnCwxzChSH7b65SePG4uXXCxt8Fs1m+dU/B4VvnPdnjPhbNKmEOWzXLWklEtqD5iz3GWXbiyGpyo58fs33r6gKDABRdf/9qnvSlj/Z45d79Ss4PPdgGCZVNhmdIfMXew627t0DK4t9ffV9+3EPzWH97QaTZDO/xO6kxwmfc64jqJrOc1fMHmHTS01WWJEd9fDU6QcpnP9RyE2Rlad/y+yVDO0HOfXRluGUV/EwqckIPqY7YtxAmfQHgbkiRGWIz4I+2TdPvOTZewxXSHocUoShWkN8ZvUrf3LueVq9sc/vv81gxl47d+H2q7BcWdtps0cpRD+OyEwKeF9nMdY08VfvTQ+y+Yjx3IOHF+jlPrhw/vb7PLrzzIVjVRJfhJdRTUdOH9S/n61S8q3Tl+6HsQxGe07rww54ncZt1gOSwogXqYwhg7Fby1cfD6kQErqDZw637WurU/D0rO+d94Vqg2Z4DiDCnsXWELTesw4fXmRU+PT8pTuBWYjNpAUz+7I/BKa1iMCIOq6a25TBckmPQ4oxAEBUhy5c6VBx89jDDNRy7CSLKv8HEZWooeeho0v6CsJvnr/pn0Gx914wXFdGlPXmXmgZLr0UeZtFf/7mpZP79Py5O28zEevJc2f05330T21tkmKJmC3MjeaxOLgot7qgGBfz5KwWaCplFoVHS0BRfcRODe6VlLd5SkPmKJReLSkWgsJwI/fReNTB3MxKQHXUh3ipmwxV4t1Pf3isOF+ux9CVOgoR+ckFhOwgyx/O6RDPMx/8nhcRJGCO7j1qOB57s6YouDgF7+GgXnJqeHxEDlZfiwvLanOyxPLjbDYcUWf7ZTw6XpRWKm+3zsi0tiQ8plUAiOitd165jJZxLO3J2aLkdIrZQmNHelXQe2HzamHZFWGxMv3HEW/GB9/1F4pQ5qibzu6WvOAD6QFP2IhTrwkr1XjPS/JZgOqoD5mpaTlIvtg36fbhonx5dbeVesyY/MQ8xHj7gCWeEHs47cW1inLlniPWaaFvCjIqQNbJfJ2fkXpawZNfc6ITEKN5JsNdJfH3ank4whig7zqA2cuZmn856+3zupoSdqJfcWZJo1Qy1kYzNquwrqa9jxTxebgwvbqwRFTPqS8K5/K6Y+XydiuO7R6Ofbh6+uID/5hyNVfPWc6i989bO1uE4bju+LbhWPBV31tvC9XGrJ7rrIwUBd1+myNBNR2njbEwMrcgYu9efRieU6vhKU2L2i8rITP2TSRuO0L13eYFB14XCsSfI9iuqHSV4uD1J7bY1Ty77HvjZXSlpttcL1vu29cpXFTf1WuoTPjNtzkN3U7RdfUaIhtxNyBbhKi4bT2x3q765fkzNx4FJrP1hs3yMq988TZTgKj2nzChV8Gzx/EtIwhUzXbiOJ2cJ0+T6lC9wbNGutrbyEVd++PkzXcFaoO9PF3R8CdR2cktnIOE2Xe8e38j876KqQ9u3PuQzjb0OdK+ESEaY7cd3zSImvDg4tUXCQKz6csnmMghRe9vvssjejpMGq2e/vBFaoPrQNXtpoztmfHwZTJHxrQ95xMcGdLcq4g1nD2GK8bcDsispxp6/frnCsvq11d8b/gn8g1Hz505mBb7KqYKQ+RMR3oMc7WzrP9w9vC5O6Esw9EzpttwAl6mcqT7q3pF5w0nt4+nJ94+c+VBcCHdafq8Kb1LAj7ktFojR+RMR3qMGWarnnbj96M3Q9jGYzwmjR/rpJJ06/i5p6kKTtM8nPCQZ7HV0tQjqY5AlGzGTXZztjesfHbs2IVH8aI+42dN6VX8LCCS18t9ep+6Ny+TOQCAqA1ftNKh6MaRl9ktv1+kuS9WSeyrONqAYXLP1i0/GFAs/LxwhlfEtdBJTN1hyji7fo4mbP9LZ6/7p8vZTZs5kpHwJKwUQ7XG7j75gx078IrvzVdJAqNx3nMHo1Gv4qtbjUSotvv+I+v61bw8f97vZSr0m7Jweq+8Fx/zxRpjdh3d5CoOvnr+6pPoqp6DZ84brZb2JqxYBBQpmhZdDaqDt5z8aSgWfPXMjacxHOMJ82b3q3v7JoNLKPRdfviAp2rSnQuXH4QWMZy8Fk42LAj8kCdUshk3eZTLABN+0CXfay8Seb2Ge80aJBf3OjInI+hFkc4Ex/Lj89ZeTK5TGb3rxBLD7Pvnzt31TxQYj5s9zaj4+bvc5i0q4TDtpo1QSX/8NleMMJ1nLnbRk6HXxjwMLcFRLTefOZY5N88E5tGkSCKQ8Ot5VWmJWfkU80kTTKreNKoZ1XL6qqk9gs+cCa/S+DZNmltKbb/ECLHLhhM7RyBhfr5Xn0VXa7rN9Rmjmvo6vFQM8majpjqamPTTKnx59VZAYilbdUz7suHMARv/3OmumvvkyqWHUTW6Y5d69qVTqiLv+qe1tAiKzoAmk5T9ArvrIE5APuUsNph1+KCXUtxfZ6/cf5eJ9p3kPUEl6XF46f9maexbzv/RDCftO7LCQZWCAMHPuLV13YV4rpQBEMuNT+TMcLQ0oQXEyljbWmBJL1KE5VXRhYtG2hlTw5JlzS0MkcJbiTU4oqguWxl25a/Dd5LFABCdiPVx26GvK4+kcNi1fBFB1HNra3kSxhAvT+PiGyt3Xs6WAEBkkYLpmSnDLU/HZQMgVCL23M4LQWwCIO2k7oCLHr20KFDabHaGEPFq2fUYIRHUsthCAmgAgFCz7+w++qwCB0gqVHFyXWeoS4NsBddZXiZF15fuvpYjAYCw6FKZS3tneVg/OxLfPKLBsoODS2eMHGhBC48TA6Ls5GKDxR79WENAz6Yksrae0y35Ads3HAnmEADB4YW0S4cnUgEAEIa0Uv7MHzxzol7hrRXbLmeKASA8qkzuyj6PqX2f/NkqosL48Vf5AABJxR8bfimuySpABtsry/oKJP16GMuzA0LFPKyqkGpi4UiJeEXo2StRq8qyM5u6DKXUXo+75svBAbISM0wm2WmZyiIfhXQNpOxB+oNt+aUYAFQVKPbot42uToFyjojHwwHDeFUioQSgqDyoCAAQTQcVhYLiJ78X5UsAgur4hLEFm4IAtNAMhKYsL0z+I8vPlyUBgKAa3F57gbGiLMJqPrNK1Es4tRhO4PXVIp6AUJhoNMKa93Js9MtUAgCSP/CpgQ6jFquGbK0mAAClVF+KvXqGgwNkJWUYT7TTMJFBPqC9HeQFL5MfXquUAKRFCHG2NsiggFD6rejVMzv79wUZhWIAqEgtomy7ZDjUOf/WRwIAUD1KlnvMk5jWU3qy1oaLrhsrvU06doGHA9RHFYYBANSnXi1rX/OlgiirIflvLp4+9iQPB4C4DHnbwcv0tClQ0KJMRHO01yhG2G/LTr2pJQDC0zDNK+usPj+nakuCFu+9WYQDwnBbIkVXE6SWxatlCyQEJmCz6vgtXXwXVJrSq48loyTgwqXXaRhAdBYbn+nAlet4pwyqpoSlPT31+8XACgIAYkt6DLgwRl+TAtVdjJ1paNq1HQ12mlig7OCy3kBPFjL4zZyDGFAAQDXl4lfuuZAiAkR59CopRhTfe9JsR1rEsR/3PK/EAT6EpmMnz8zT61gChDGgfecTG9Pcq3w+1yVn5+Flznn689YT0QIACA3PQc4enzJ94K29b7kAgMiKI/dvPx/EJgBSjms7X57ZS4cCJVL9FaIzyWukcvLpeb/eL8EBICyOzby23mtC78BL2W2+wREi//7+3x9lSwDSrvUfe2hM7s29Z/2rcIgrujd05Ep9HSpk4B2rIiLPDti872pCPQCknTYefNzZQBP1j/sYzt3uMkDjzt0yHFVzcesjjvw9rNW6BKIs3X3xa9lCCSER1LHYghYaL26pk1QAQOUqnxw4eCcPA0jIvNLXbYeBgRIaU9fXa44d9/HGrWfiBQAQHpFFnDk11cvl7q63LYZ9mb7TZtvyn2zcfjZGCACRGajhjWXDHeQ/Fk+c7YQE7f/p8Js6AiA0NFV04uyCmcNuRD4ql6ppWVqTZg+RCd6/+fhbNgEQnijQ8dvuNkD96UMY7jNZPeHEkl8fl+MAEJbAop/fPHe84fsbEgCEIgg+/NPhwDoC4GNwFnb+yCQv15s/v6ll8UQEgXJrWVwRra+1pUzm1TO3AksIgLgCATbNSKSIQPMPQrw6PiaXNqmvKS0gFswsTXiJMSwzyz76lMgcBUur3ljK8zgBqjFBiiTXcspCH5UBABLxIU60ydlR7f7DSgKoJq4u6mXv3qaKZb5Zkz5uv0TMcM58N+r7/VsOB9URAKERKYLfzy+dOeJG7KMqAEDVVHL/WHsmlEcAyPRf2L5sezJGzR6lmnlx+bYb+RIA+JjI++P8GuuOjfgL7K6DOCHrk90hdHNrIyT20Jl777kAEFciFk9QQeQREHZnbuCr8Q230Co4z51nr0pBAAAQBZOpC0b3lF6aODUuRaxsbqGF0iz6W9MyYxK4BJYfHVOtbttfD6UaW5nSapMT8jEg2CGnf952I1lCY/Q0MLdzmzLaSg5BkFaDCsXYxlq+4GNQXmNUjeX9tWrq3BMJDTGRODkyptETEVw2D0eQLjSDJDs8uqqh7wkBmyMBBAGgmNrZyBfHxLEUmA1QcmIT+SomJuqtcsRyPgaVqjg6m1EBEKbjYBtJ1NuQ5kdZKHrWlszqDy8jmr4vBPGBQeUNaiO9FBljawuZwqCgnKZgjxf1PpyrYmml3XmNJOyscDGtr4o2DdFyVaXnVGeUEkR5VVo61XiIMpWiYNBPRhRdU/ApjMT4qW+5TUucEj6bAAQAiOq7iadW55cCha7HMHTTcXNnUjoa4YmqVI7YQM/zkJGDK4MpK0o7lfLgNqd1GEWIEndH+p5gYTI0FVNlc3cDJ3sKgkCHoQOqP0hNNrcqs5KmqCKjqCKjSGVnRIgZfZSUG9oC56e9b5IfE3HrCARBAKsvThMrTLTw3qBraS0vV18btD0lKBoDqpKRLVrxoqy4qfrCD6UpbFkDO4WGzAgOKzOxtdSIts7c6xbaMUnHVxRW/N0dZUTp6z8373uSB7JKmoZWTiOmufWmttFzAAWrfqZIclhE4yBAVEaEZzX/lMTKE+MbPm060NUultWSTlUasJKcvHrdcWs3zhhha6gqUxd98/SZl7nSlwEAALCsh3s2HQ+sQOVVtI1snMdOHqiDdtzvrTPIjfhkp8I6toiQUhGClxKXKQIAoEo1IkoPCyut+vDnbysbu1qSE/iubQzVio6dTzvp9S0tGXVh7+KbFmjFGe9DSuTMrAwb9+GLUz/5K+DUcXC0466Rs7A2htSgj2WNQhPVwe/iMf0+Zsx2XiMEWRkFDYLiXA5XUpaWzsIBAAgem4MhKAXtVBUJdkJEan3T/9dycAQBAGFCUKTAzNWpBwqo2oCh1qKIN5GtV7mkt3z3xiWsNDKisLFbcC6HhyMIAhR9235qdXFxhbRGfZeviI+tkDU21W95vAHV69dHlRURlChszKDy+U+TPfe/F/awstKUxL8Pboqv8OKgd5momZVpY+TenqYhKn366mMxH0Kb+osX9NsM95+fVhLyfWwtKNlRCUJ6gzQMLDk6g9A3NVZoyCD2bUhTQaL0129yZCz7GLecncEKc/NwM8/NK6YNtdZXopR9uHri0seSVk4IL46JrVDqY61Poehbmcml+t+PZelYWygjVFMbc2pWTGxdJ5I01IcdERQnsRjgqIwAUE1cXDSK3wZkSr5hk7ZfIt7Dpn8vcUpkOsFoKJDOS4zOQ3ubNR1RkWTGJzasqkiXTdG8jzEkv3jZqOaAl799k9SV6bZu2l2jRO3FCZ8hePk5ZajD/C1L3AdaaNORXP+zx29Hsf4nwR98y/k/RF5VVf6zGSMU1R7KCJRLSU1wExOyYJ6VBTPWoC+zICCuigCQZEQl8NxtbTXfUS3URCkJGWIAQOjmE5avmjHUUp3CqyzOy6kVtXOoBlVSZgKrutnGYUzI5wEAAgA4v7au+1tFcTar7ZFGGRUVOq231/FHXs1/xXLpbe7LkGQGhZZ5Og8wPpdc4jConzjiQDibgM8jG6JIVyRYVazPgwteVd447EgvhaLIUCRqa2o/C4bXVNUQ/Zl0FKCz7WZ4XigL81A20FVAXBQ5odXlEgDgpX8UjB3eQ1uVZ2BCFN5iCT8nF3FY7eSCqKuN3GMxZCSTCaKaHG4xF+tYl9l3E07Km4z1MZw905wqEpW8LXi2KzM+t7Ww8n17Td3d29ZWHuUIKjM4nPpOd+CiDHUa1cJofZJRi0qmUeVRYAEALubWtn1LkrI94mq1iducPss3Ugg2L+NO1oMDRcUSqgIDOJXNdkLj9bUVYKpCa+gxoqq+zZYNRM29l7VS1a1NheVdOupBtd/41yF3VRQAsMK/li/yTWsRWaAqfb3WLJ060FgF6sqL8rJ59e10KEpXVqbUl9QKmoTBa2tbLBATtdW1nWkR0rWyWtOZSgNR8/rwJtm53pOnbxq3iCauy4l4fvnk9aDiDo2PqjFg3srFE+0M6FhNaUFuId7ND2OczeZ2QXggWKzGhkGlGhFFga4InMyaz5EbXtlklNKR6nykpacz6VBbw2q2uF5TVQMMJUajrtXXcbrhr1BFBgPFamvqPudXX13FBTMmHYG2A02rw1AScXvutEP1IDjsNh9wAMCP+xBd/8sAJ9WnEa5DLAXhe6LatIH0lkdbLQh0DF5XW9dGAlRZRZnSY8Lu+xOa/0pUMxRQgGaWhjIbuquZ5xXx+QAUHYYicHJYnzufqKli4TJ0hhwCfGhf0xAlFSbU5bA+hxe4WMATAyCqKspUmvXyq/eWN08vTqArIABAsGuavUPUVLKArsSktBAUL7i/awsxb844n22TV1Hqq9NDHpzzvRlV1fJ7RJIVncCdYm2lqoRZaRXGJsUVpYpH9TFXSDG2YhQGx5TjiHoHkjQt0BF1kUFx+JqBdoznb7UGDdTIC3ibjQHlGzZpuyUiJqpKqELfrX8NalGgqFKhIf4j+DWsRl8rtbsVFeiKFHFN9ee5Z4JXXsEltKETuml3TTVtL05oBpZ6adNu4QLP0ct3zFQAflnyu1vnzj5ou2P/n+HbxX8EKyYkVdDfWh4BACAkpSGhHX364+WJCaXUUdaD7I01quPiGnaB1idGJ0rW2Q+0FxsSmQEpfACQs12yd6VT1sVtc57Gl/AxoDpuvtVHtU3hfB4ftJWZCDRuj0Xouua95StTs758WoZoxyOJBQKxOObMzPWPqzobFSQZH0Mqpjg7G9wtcu1XH74/sqU3JLh1HFBWU262vicn39B2HZRCs+fwED1VZRSaNmAgdCYd+Dx+V4ZAfkRNEZgYufWk9cGyT9dJAACIoqBq/iI1y3Ey+lReaETLwbdtAyAy9gfsxptX3J4RFRkjFOEgN93+wL4OS8VFuVeST11JpvVk9B6sOXi98fzT2MHxWaXNlUOhx+RLVpbJab6uBZn5EhxQyz+GG/WUmmVDvvU8XPIxZYdnfm2byndwoQHBYUfujY7ciyoaKZuN1hvzg80SjL9nr4TPAQ11mc/z8ghNUQmEnKbRsT1tQHmCwghuWTtRZrtIki6s87lNAQAgxOzyVndcKA3bsHO+YcTR9TvepFYKcVActfv+2rbSC7h8Qk5JSR4BccMuNIYSE4FmInwSVLoWIUojulJW2wp0rNIAgNelPDqx5dFJWdVeVvauk+fN2rZDsGSZX3GrZDQFBZkGVUe0J2/e4anw8uDaDUHZLBGBak87dsW9c1Ga00VPSjR9UeA8aUaEcTkcYKiq0AAaB2dETkEeAW57+aEKig2Tw1KdT2ZVu6LhPA4XlFWVm32y0Rl04Od+3uvQncEB53G4OEVZhYlCU6hKYzDkgccTfNkY06kqEu3ny4sJjhJvdHE2lXWz4IXcjm57Q4/0lsehW5O+7UEIBAJJ9sOVSy7ldDhjS/C4AmAqK31qfkROw9REmZ3N5vCAodK88+lMOiqp49Y31bedevO5fISuzKR8eommZmShIcpN4wiEhPD9Tvc974StXkH1ARCmqjL1c0FKqkogyOO2lltSGX3nt+g7h+XVjW3sh3p6z9+zvtb752eVLeSoT45JlKzp18+m3pibeqOUX5SYKTPNxs66t25NbFQ+BiCUKknzVqkL/5CIrBxgy8g3ctHIfvU+HwdAv2WTtluigC/Eqx6un/NnbJsJO0QRmque9O6WdxsnoamoMZFPe0goCvIyXVKvLzGY9kaGFoiKQ67sCblCoWub2TiNnjFv9W5a5bz9QR18IX47vuH6L154d++2C2+T8kuL0sLu7t9+KaHDYBrLjU/kKjtNH28iiI/ObOhtghcflYb29ZhqTStJSKjCAVB1ExMVXvj9+zElfAwAUFUdbfm2XSnJTE4T9xroots48KPa43/6Y/9M868d7koykzIwU0eHT5dSUw08Dpw74m3WTkGSjKCPlXoDh00a2lcYHBjTyhtiRckp7B6DRzvQG7Oimbi5GVI7KUWSlZQm0nNxMWwqT8F2mItqXUpScZemQIprsgpQoyUGRsBKj2g0MHFUVZZAaeAydTqLlZXemQFQFfWsKFXPckOjhCIcANAehvId6RQi63BiyM+/ayogIK7gpN/Nun+pFjGiq7daP9BS0u0hTrmYl54vwQEAlVXv1WnXEYVRtbh1T4ueTa1EYwy7NnjtOuWObrOSU/d4O2TRbHkEcF52TcypZP+PuLKpohxWlxOH9xytqd20S0vOVdtGXZQXxZPesETFtdjfPTNzuvyJIWSVFBYUFhYUFhaWtZ6RpuiaGMmVvL/3IrlSiAMAVUtXo52KENy0xDywcrRvnCtC1BwdjNtvKula1MWy2smyQ5VGVEb+cuHSj64MhKivyYt5fePU/XREz0CHAkAAgdIZTaquaGNrIdMkk1lvSob/rbdZLBEBADJauq23Unx1pBsRVpOaXCzrOHZI0/27qNawYZ8utiaAQBkMRpO9Gtv1UWrIr5vOB8tPTuUoOQ2xbrrFnGoybEiv+rSkTlea20eYlpQDFq6uTYaAqLiMsJcpTk77wlWmL1YPXszHaKzflFUTLNnBAfHtBBt/z311giQ/KU2o62D/6c5RVGPUzxdOrHBodVk8VpCUwu3hMNC8UQUR5cFrjx5Y4iBfmZJaTu07yLnp0l5Ue+hwSyI9OaODcQyvTE4ul+3vYt+k2wr28w8dWTO0B7BTUwooVk62TQ9A1mbhHxf2Tmz4qweIXP+hA5Q+qdKokcaS1KQWGzkA1Z++98rZxf1lABdUZoS/uODrXySjb6jVpit4CVGpMjaT3PvIZCRlSvCa5KSSHrbT3MwECVHpEgCiY0maIGrDPiZQ+w2aOtxFKzPgXTH+zZu0nRLx0tTUGuX+zqZN9x8iTJfVpy9sHNb2vj3pstWnJWcSVqNHN9kjojJopN03+FsOXYJq5X3i2qGZJhTAuCUpIQ9OXAuqY/TqpfY/usvym97/gldHXd0XdbWLqcWpcSmScQM16kNikposDK+Ji8qXWWIqV/M8IQ8DALw6P59Dd5ruMZATyVI0cJo8a4oFihbqGanJxVfjGIHIaxuZ9S7My/3g98jjd59dPyPXXqbxNQfNnmNW6X8xRgBd/msaOEagqr0sjPREhYUcaYmIyjd+Lzz2rTq4SfXO+9RqeQt3H2/r6vNns9vbXiBJDwqtnj5l+pmHowAAETBJREFUpgHr+eaENt6wPvbuvZThi7b8Jrp8O6xc3nKizxh649y29FIIyfu/nnr94bV7F3HpaSq/h73HwjGKSb73Yrs2by1hZ4VLRs5SwCLzMz+t7XJrUqOJ/sPkRS9q8jsNZST80ix8yITeg0JycrgyeuN6j5qtiMiKtcxk0hPFBA6IimKvPnROJre24fOGEBVnYz1/MJ9TQg2JEBBaaoOXKNcHF+a3bC+8nFtWR7Na1Nu6toLDYFjNMx7cH9Acuo4GJbOs5foyThAUWc3+jJ4iXuWD7NDFDtOu2zB9S/MqqAZzTMc6Ch/vrcM6mP8TcUsr5Ab/aOMOeWm5GL2f3pihUHCIxcdFsScKRtw2WuxLPLtRK9TsMWyznlxU6tvgDiYmENUJZhOH8N9sLSj++4e5sNK8AvHUodPdY+8m8ZVNB0+bNVEXpXENDJVjMmqbLS/j+U//ejvpl9V7lsjdiq7rOdBrii6faL2oBwAdaRHGlF4WmyBwlKlrZqJfk19Y1XoGqUOVJuqyC0S6Pos3Vcg/S6wg1PtO9jQXxD5PxwArzisi3DxWTy3xSxJoOs1aMUINiEwAAKwwt5AYMmrmqKynuZi61fCZXsOVKGItQ21mRutJw27S3DlUtpSzVqoRYZlP/CImbF556CelG4H5SO8Rc6drcRqn5bDy/CKR57il3lmXQlkq/acunaaLQBoAECxpzgeozbzK5wNBwug7d9KHLNy6T3DxXnQt02bC/JlaBTcPBzduse1y/ZpyLnrhFzB1+5IDm2SuBObguoNn+wyUhB14lPVl4WSHqsju6EWCG/UhDtvmql/+8M/49rZEdNDyHdJcJ6XPtnNDbz7IO+azb5fCzVcJZYjBSJ95g+DhxsTWeiqMunc7bfCCHTtEFx7HsZi2XouchKH7gmokdY/9Ikdv2LB3rfKt4FKayai53lY1r356U4534FCw9Ad+kWN/2PgrW+1WRKmM2aSlw+USzwTm4zg8+ytowk9b9oquPw7O5qraTl3opZN6KLwEB10AApN3+WHPWuU7YZV060neM/RKHx79UEMAAI7jlJ5GlkYpWSVZpTIr3Vf/WHf9TTqLouM8Y6wuK+xM248EghUbnbdmqY1Ssm8aHwAvSEjizXG3En54nFQPAIDnSZWkZTbhQYkr18x2x5PPfCgjvnmTtluiOPHeXwnDV23bi/g9jSwUaw2ctWgc88PO6Hb+CoRU2fD6Nzf9p+1ZuG+X7PUXafVag2bMsmi7e+dL6VKc8BmsMLeMOXvm+hXCmyG5XHlDt1lDGcWPY0q/wgfPl/CvuP+vAYKbmJAlGWCWHtvsmDBeFB1bipmopySkN8Qi/LCzOy/KrJi09aiXoDg97OGhFc9G7N0+bc+63Fnb3ia+C61cPf/IHzq/ePwR7rv1Z/6yRZPW7vXGagpSn+87dDGKD4hSF6XB8sLfZozw2Hak15ll6x50IHTMyQ0765Z7u6/Z7gPsktSQkxsvP8ltf/wXpwaHVE6Zgn0MSGrHwUly72zbhC9fPnnBz2PQ2ux3l35+YrFvXWelCBIu/PgTb/mCcWv3zKbyS1M/nNzo+yS/q54ezwtliWf2rA5utluJEGUEsbFhSsVhrM4XjIj68C2xPfaZjfZ1ptbycp/n+E4oGnXdesINs2K7xIwPpZkLTDwe0lWnBj2OaTygUHIy9grDcoy31eIfEGE5rzAg5dT+ota7d7gVD5ek03b08r5nVJ9Xm3wl/ve/dJacMlyyj7NjUXHzW1TwjIqYeJ1hpwZo7v149GzVvRnR3O0mrnvsxoKoKq78rldGcMdTmLggZF0Mc4/ZgO22w2UxdgE747fIR75cHKA+PO3EPPHUH/U9LxhTuIK858kn9uWXdRjYyZur246vi/yp4G+GKgAARM3rI/u11y6YvfuwDLso+cOdbctfzzr4w4JD87M9jkQ0i8sJ1sff1uxb9IPPou0T8IK35w7dGn50oaC9/XvStaijsmKjPsRN8V5zvJfm2qXnUlorVocqjef47d1HXzF30uo93ii/ujgj/NRm3/9r774Dmrj7OI5/LyQQRsJQKtaCo46Ko1Xg0YpFa9Vq0ToAwTrQalCoXW4eLVWKgo+PPiq1Kg5EbXFR3IoTBRRcCDKCMlTEAjITkjCSu+cPqFufPtaW4H1efwG5XI4LHG9+t06WsES3o5ctt/nG+7NFP0mNSCnfG37QcYI1ERGbH7V8WfMZ3tN/GCQov3Xt9PaZs2y+CZr2VYBHjl/sn1qfqkc2DqueOAz5+b9EXNGxkDkGMr+xY+Z+KFbdSYz8bpl09g92RERcybHQpbZfyUbMWzPJWKC5dXRTVPnULg3ze+bG5/Gtyuy8B6+vzY0MmFsjk7n5fO8hri3JTtyycH1k5gv2zj3tse3V7vMrZy4t8x3nMa+/OaO8mxITErz1xP2X/Yv3oh/F1S88rZ1TXkq8XtvH7uyZ9Of8J/lSmy+28JGfyfDnT1cr3z5/jnqabPi0gDFCVdHNpO3+G6PSnl6tdXm7/P3r/GSjZwSMESgK5An/mbvpTDlHVHgkcC4rk3l6z3eVsOV5V/cEbNiW+D/KgS2MCZpFU309Pw8YLlIV5Vze4r/2QAFLRGWnQ2Zzk33Ge30zVKIrv5N2KnjetlPFLAmIiCs8uHRD3bBp3y62ZouzUyIDNm5LVhMR6W7En77d22PJatsV4wLCF/5b+MXYMXM/MmMV9/MzTy6bE5H4jGtKsfeuJv+m6yDMyChiiUiblSqvHe4ov5zaMC37vCV5HFeeeC5thlPX1JPxD455/WtX6TNekb27b/Hsuik+nhP93cTVxXnJ0YFLdyRVcs/4N/z5y6Y4v2p+kHL6xBFfLfqs5rfkA8ELqsavfv+Fb+Mf9Qc74QFOER+6MMxv+ojJC12NtZWFt9KiAjbuyGiE688TEREjsWzRSC8NAH8WY9rBuX+b8qRT6fVH9QntZeFrHI7L/LY/dUqNHhIYSqQiTYWq8e8L8ycwIlOpWKtQ1ryqIYXXh9BeFh7aJ26GLCyzSb/FfymB3bjQTUOTv/belPmSI7QAL4cPt1AEeG1xOkmPifPn+QxsIxUJxdZd3ScPts6JjbvdBOKPiNhaZROPPyLi6lSViL8nGYhERi0+9Bxkkx976kZTf4sBXkt6tP8XAP5v1cnhi9aafDtj/f6FQmI1RSlHQgKjbjWN/IPXltB+akSoW0tdwZHvD7z4ZFEAaCTY/wvwGmCEJuZSwxpFhQZjLaAHDK06dG0rupeRWfiSl53hDwNTq+bGtWUlVY11FBjwFfoPAAAAgF9w/B8AAAAAv6D/AAAAAPgF/QcAAADAL+g/AAAAAH5B/wEAAADwC/oPAAAAgF/QfwAAAAD80pT7j5G07tHL3sboxROZuy4/HD3HUfSqXlX47td7D68c2eyp208DAAAANAlNuf8M2nwyJ0jW1xIlBgAAAPDH6Vv/MYxA3xYJAAAA4LUibOwFICIiYTffbSta7AnI7TPL08FaoL6fezF6Q+jO1HKWiMiwVV9vv/GDe9qZM8q7qbGR67aeyNOYDg6MXtjHkGjG7qODwnx8d+SL2w383NdzQPc3jTVF8vP7N2/Yn1b5+50nBVYO3otkIx1sTWuL0mJ/Xrs5JkfNEREZNHccM32Ka6/2zUTqwoy46I1hBzMVHBERI+0yaqrMzfkdG3FtcXbSoa3rI5NL2ceXmzHpMil4mafh4X/OW39VgdtcAgAAQFNgYGRs1tjLQCRo4TTKtW8vB+ucPWtCtx7PEju6fTbEMv3A+QIdY/7+rLUBrmbXd6+PiE7IN+vlPmlUu3unzmVlXTyaKennotvl+2Xo+eJa6yGBa791UJyOCNsZk6Z5+5OJE1wEl2NSSllxx0HuLv/o2dv6zsHwXw5dKrHuO8rL1e7uyXN5ajLuPnXVcq9WeYc2bdxz5ibTbeQEzx6q+BOZlZywrVfwKj/70uMRYT+fuK5u+/GEsS6i5JirJTqBTW/3jyxSo4/L2Xbui5ZNbhYXOP/HixWIPwAAAGgi9GP8j4hIYPRbdFDIrls6opTsrd37L7JrbSm4WNxyiNcgi/R1k4J/vccSUeI1hXT7TK9h7U6H51QoanScVlNRrqgW9fAa71B1YLb/+hQNESVdzObW/zTay3nv4lgiYoSCrM3zgw8UckTxCdfVqzd/7vmJ3ZntlS5jh9vm7/L7buvNOiJKulwojljiMfrdg6syenp4vaM8tMD/xysaIrqQlMtsCB3l3mdX0BkNERExolZD5gVPt03+1+xVCU8OCwIAAADoMf052E5XeOVSvq7hY0VlFcswDJG4c7f2lBkXX9iQWFxpQmyKzq5rJ+mjZ30Y2PV8r1nltWv5Imk94+KU5GKj9h3tDIiISJt2Nq6oYYROl38iJpVr3bmjqbB9t86G+XFxuXUNs1FdPptUZWnf5U2Rnb29pDIxNkXT8EjdjbPn74k7dWlbPz+B1ftfhsz5wFqdlXCpUPuXrhYAAACAV0x/xv84ZaXyqXE0galEItBVlFU+fKSmtKSKOknNGFI+nMzC0sKg+bDAX4c9NsdSiYmAiIirKS2verCDlqsqKa0WtDA1FtZKTLmKsoqH82bLSsq4HlIzAzOpGVWUlT98hCsrKSOJuaS+Og1aO7WL37q72Mttivd7F1Ylq1/B9w8AAADw99Cf/qNnHUHHqpRVrIGFpVRA9xtiTCSRGJNKpXl0ck6j0Whz9n3hE56re2IOjDkRY2RlacZQef1TGBNLCyOtoqJKq1KqGFsrCwGVNjyLMZOakVql1qmUVWRhZSEg+j0BzSRmpM6rP2mE2Nu7ApdE3GxFPdZN8PE4/GXETQwCAgAAQFOhP/t/n61anpZLnfv2faNhdy9j6TzQ0bAgXV7+aP9pb6fJq99ycmxl0PAFQYvBCzb/6Ockrv9U2NWlr3XDHAStBn78HncjRV6tzU6T19o6O7f9PYJNeg5wtqrMSCuou52eqTTv1a9bw/NJ2GFAv9Y18rSc+lDUlRUW15A2Z3fYofttx/gObanvqxEAAADgAT0a/3smtuBo5KnRAT4hcw0jTueyb7mM8+6jTQzZn60jErI6TmDVuvPbtrX5F3ZG31rjvWSxyc6Y1EKmzSDvSR/QvtnXq4mMiIjEDr4hc0x2nM0XdRjiPda+9PiCmCKW487+cshrpVfgYi78UKa6uaPHlCGmaWFRybWku7JnT1a/Kf5LNFuirlRIuw+bPLblnZ0rEhTcY2tMk7I9LK5/wISpLueCYhXmvSd8Mdj04pYNJ+7ihBAAAADQW/pz/ZchzbP2HUuvP6ZPYO00evAb8gNH06u46vyLiXfE7/T71GOkq0tH8e2T64LWniioIyJOrbV0GPDp6GGdyk4fOZsQn1pj5/zxKLfhAx1b1V6PWrEsMlXBESPuOGik9YXVeyvfHenlNtTJpjrj2NrgzRdKdESkLbqWIOfaOg91cx/2YXfz+3Hbgpfvz64mIrY8/UJKlY3T0JHuIz5yaKm6snNl8LbrSo7o4fVfNERUfSe7pvuoMf1MU49cqnaaPNOzQ9Gpg5fvo/8AAABAbzESyxaNvQwAAAAA8PfBgWsAAAAA/IL+AwAAAOAX9B8AAAAAv6D/AAAAAPgF/QcAAADAL+g/AAAAAH5B/wEAAADwC/oPAAAAgF/QfwAAAAD8gv4DAAAA4Bf0HwAAAAC/oP8AAAAA+AX9BwAAAMAv6D8AAAAAfkH/AQAAAPAL+g8AAACAX9B/AAAAAPyC/gMAAADgF/QfAAAAAL+g/wAAAAD4Bf0HAAAAwC/oPwAAAAB+Qf8BAAAA8Av6DwAAAIBf0H8AAAAA/IL+AwAAAOAX9B8AAAAAv6D/AAAAAPgF/QcAAADAL+g/AAAAAH75L26s2qm2TkZ3AAAAAElFTkSuQmCC)"
      ],
      "metadata": {
        "id": "kgY12ZhanClv"
      }
    },
    {
      "cell_type": "code",
      "source": [
        ""
      ],
      "metadata": {
        "id": "2Pn1yWHtnnL4"
      },
      "execution_count": null,
      "outputs": []
    }
  ]
}