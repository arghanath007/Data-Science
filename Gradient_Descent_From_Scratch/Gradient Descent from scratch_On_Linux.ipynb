{
 "cells": [
  {
   "cell_type": "code",
   "execution_count": 1,
   "id": "c8e14f27",
   "metadata": {},
   "outputs": [],
   "source": [
    "%matplotlib inline\n",
    "import pandas as pd\n",
    "import numpy as np\n",
    "import matplotlib.pyplot as plt\n",
    "from IPython import display\n",
    "import time\n",
    "from sklearn.datasets import load_iris\n",
    "from celluloid import Camera\n",
    "import warnings\n",
    "warnings.filterwarnings('ignore')"
   ]
  },
  {
   "cell_type": "code",
   "execution_count": 2,
   "id": "1500375a",
   "metadata": {},
   "outputs": [],
   "source": [
    "data = pd.DataFrame(data=load_iris().data , columns = load_iris().feature_names) "
   ]
  },
  {
   "cell_type": "code",
   "execution_count": 3,
   "id": "3bf96688",
   "metadata": {},
   "outputs": [
    {
     "data": {
      "text/html": [
       "<div>\n",
       "<style scoped>\n",
       "    .dataframe tbody tr th:only-of-type {\n",
       "        vertical-align: middle;\n",
       "    }\n",
       "\n",
       "    .dataframe tbody tr th {\n",
       "        vertical-align: top;\n",
       "    }\n",
       "\n",
       "    .dataframe thead th {\n",
       "        text-align: right;\n",
       "    }\n",
       "</style>\n",
       "<table border=\"1\" class=\"dataframe\">\n",
       "  <thead>\n",
       "    <tr style=\"text-align: right;\">\n",
       "      <th></th>\n",
       "      <th>sepal length (cm)</th>\n",
       "      <th>sepal width (cm)</th>\n",
       "      <th>petal length (cm)</th>\n",
       "      <th>petal width (cm)</th>\n",
       "    </tr>\n",
       "  </thead>\n",
       "  <tbody>\n",
       "    <tr>\n",
       "      <th>0</th>\n",
       "      <td>5.1</td>\n",
       "      <td>3.5</td>\n",
       "      <td>1.4</td>\n",
       "      <td>0.2</td>\n",
       "    </tr>\n",
       "    <tr>\n",
       "      <th>1</th>\n",
       "      <td>4.9</td>\n",
       "      <td>3.0</td>\n",
       "      <td>1.4</td>\n",
       "      <td>0.2</td>\n",
       "    </tr>\n",
       "    <tr>\n",
       "      <th>2</th>\n",
       "      <td>4.7</td>\n",
       "      <td>3.2</td>\n",
       "      <td>1.3</td>\n",
       "      <td>0.2</td>\n",
       "    </tr>\n",
       "    <tr>\n",
       "      <th>3</th>\n",
       "      <td>4.6</td>\n",
       "      <td>3.1</td>\n",
       "      <td>1.5</td>\n",
       "      <td>0.2</td>\n",
       "    </tr>\n",
       "    <tr>\n",
       "      <th>4</th>\n",
       "      <td>5.0</td>\n",
       "      <td>3.6</td>\n",
       "      <td>1.4</td>\n",
       "      <td>0.2</td>\n",
       "    </tr>\n",
       "    <tr>\n",
       "      <th>...</th>\n",
       "      <td>...</td>\n",
       "      <td>...</td>\n",
       "      <td>...</td>\n",
       "      <td>...</td>\n",
       "    </tr>\n",
       "    <tr>\n",
       "      <th>145</th>\n",
       "      <td>6.7</td>\n",
       "      <td>3.0</td>\n",
       "      <td>5.2</td>\n",
       "      <td>2.3</td>\n",
       "    </tr>\n",
       "    <tr>\n",
       "      <th>146</th>\n",
       "      <td>6.3</td>\n",
       "      <td>2.5</td>\n",
       "      <td>5.0</td>\n",
       "      <td>1.9</td>\n",
       "    </tr>\n",
       "    <tr>\n",
       "      <th>147</th>\n",
       "      <td>6.5</td>\n",
       "      <td>3.0</td>\n",
       "      <td>5.2</td>\n",
       "      <td>2.0</td>\n",
       "    </tr>\n",
       "    <tr>\n",
       "      <th>148</th>\n",
       "      <td>6.2</td>\n",
       "      <td>3.4</td>\n",
       "      <td>5.4</td>\n",
       "      <td>2.3</td>\n",
       "    </tr>\n",
       "    <tr>\n",
       "      <th>149</th>\n",
       "      <td>5.9</td>\n",
       "      <td>3.0</td>\n",
       "      <td>5.1</td>\n",
       "      <td>1.8</td>\n",
       "    </tr>\n",
       "  </tbody>\n",
       "</table>\n",
       "<p>150 rows × 4 columns</p>\n",
       "</div>"
      ],
      "text/plain": [
       "     sepal length (cm)  sepal width (cm)  petal length (cm)  petal width (cm)\n",
       "0                  5.1               3.5                1.4               0.2\n",
       "1                  4.9               3.0                1.4               0.2\n",
       "2                  4.7               3.2                1.3               0.2\n",
       "3                  4.6               3.1                1.5               0.2\n",
       "4                  5.0               3.6                1.4               0.2\n",
       "..                 ...               ...                ...               ...\n",
       "145                6.7               3.0                5.2               2.3\n",
       "146                6.3               2.5                5.0               1.9\n",
       "147                6.5               3.0                5.2               2.0\n",
       "148                6.2               3.4                5.4               2.3\n",
       "149                5.9               3.0                5.1               1.8\n",
       "\n",
       "[150 rows x 4 columns]"
      ]
     },
     "execution_count": 3,
     "metadata": {},
     "output_type": "execute_result"
    }
   ],
   "source": [
    "data"
   ]
  },
  {
   "cell_type": "code",
   "execution_count": 4,
   "id": "22584dff",
   "metadata": {},
   "outputs": [],
   "source": [
    "X = data['petal length (cm)']\n",
    "Y = data['petal width (cm)']"
   ]
  },
  {
   "cell_type": "code",
   "execution_count": 5,
   "id": "b2f744ec",
   "metadata": {},
   "outputs": [
    {
     "data": {
      "text/plain": [
       "(150, 150)"
      ]
     },
     "execution_count": 5,
     "metadata": {},
     "output_type": "execute_result"
    }
   ],
   "source": [
    "len(X), len(Y)"
   ]
  },
  {
   "cell_type": "code",
   "execution_count": 6,
   "id": "e6f00d1a",
   "metadata": {},
   "outputs": [
    {
     "data": {
      "text/plain": [
       "<matplotlib.collections.PathCollection at 0x7fd9ce12d8b0>"
      ]
     },
     "execution_count": 6,
     "metadata": {},
     "output_type": "execute_result"
    },
    {
     "data": {
      "image/png": "[encoded data removed]",
      "text/plain": [
       "<Figure size 864x576 with 1 Axes>"
      ]
     },
     "metadata": {
      "needs_background": "light"
     },
     "output_type": "display_data"
    }
   ],
   "source": [
    "plt.figure(figsize=(12,8))\n",
    "plt.xlabel('Year')\n",
    "plt.ylabel('Income')\n",
    "plt.scatter(X,Y)\n"
   ]
  },
  {
   "cell_type": "code",
   "execution_count": 7,
   "id": "2b7002d4",
   "metadata": {},
   "outputs": [
    {
     "name": "stdout",
     "output_type": "stream",
     "text": [
      "Line is Convergerd after 600 Iteration\n"
     ]
    }
   ],
   "source": [
    "m = 0\n",
    "b = 0\n",
    "alpha = 0.0001\n",
    "n = len(X)\n",
    "theta = 0.1\n",
    "max_iter = 1000\n",
    "m_list = []\n",
    "b_list = []\n",
    "y_pred_list = []\n",
    "error_list = []\n",
    "for i in range(max_iter):\n",
    "    pred_y = m*X + b\n",
    "    \n",
    "    m_list.append(m)\n",
    "    b_list.append(b)\n",
    "    y_pred_list.append(pred_y)\n",
    "    \n",
    "    error = (1/n) * sum((Y - pred_y)**2)\n",
    "    error_list.append(error)\n",
    "    if error < theta:\n",
    "        print(f\"Line is Convergerd after {i} Iteration\")\n",
    "        break\n",
    "    \n",
    "    dm = (-2/n) * sum(X * (Y - pred_y))\n",
    "    db = (-2/n) * sum(Y- pred_y)\n",
    "    b = b - alpha * db\n",
    "    m = m - alpha * dm\n",
    "    \n",
    "m_list = np.array(m_list).flatten()\n",
    "b_list = np.array(b_list).flatten()\n",
    "error_list = np.array(error_list).flatten()\n"
   ]
  },
  {
   "cell_type": "code",
   "execution_count": 9,
   "id": "3df335cc",
   "metadata": {},
   "outputs": [
    {
     "name": "stdout",
     "output_type": "stream",
     "text": [
      "0\n",
      "20\n",
      "40\n",
      "60\n",
      "80\n",
      "100\n",
      "120\n",
      "140\n",
      "160\n",
      "180\n",
      "200\n",
      "220\n",
      "240\n",
      "260\n",
      "280\n",
      "300\n",
      "320\n",
      "340\n",
      "360\n",
      "380\n",
      "400\n",
      "420\n",
      "440\n",
      "460\n",
      "480\n",
      "500\n",
      "520\n",
      "540\n",
      "560\n",
      "580\n",
      "600\n",
      "Animation complete\n"
     ]
    },
    {
     "data": {
      "image/png": "[encoded data removed]",
      "text/plain": [
       "<Figure size 720x720 with 93 Axes>"
      ]
     },
     "metadata": {
      "needs_background": "light"
     },
     "output_type": "display_data"
    }
   ],
   "source": [
    "fig = plt.figure(figsize=(10,10))\n",
    "labelsize_ = 14\n",
    "camera = Camera(fig)\n",
    "\n",
    "for i in range(len(y_pred_list)):\n",
    "    if i % 20 == 0:\n",
    "        ax0=fig.add_subplot(2, 1, 1) \n",
    "        leg=ax0.plot(X,y_pred_list[i], color='r', label=str(i))\n",
    "        ax0.scatter(X, Y, color='b',marker='x', s=44)\n",
    "        ax0.vlines(X, ymin=Y.T, ymax=y_pred_list[i],\n",
    "                   linestyle=\"dashed\",color='r',alpha=0.3)    # plot connecting lines\n",
    "        ax0.legend(leg,[f'iteration: {i}'], loc='upper right', fontsize=15)\n",
    "        ax0.set_title(\"Linear fit\", fontsize=25)\n",
    "        ax0.tick_params(axis='both', which='major', labelsize=labelsize_)\n",
    "        ax0.set_xlabel(\"x\", fontsize=25, labelpad=10)\n",
    "        ax0.set_ylabel(\"y\", fontsize=25, labelpad=10)\n",
    "        ax0.tick_params(axis='both', which='major', labelsize=labelsize_) \n",
    "        #ax0.set_ylim([1.75, 4.5])\n",
    "        print(i)\n",
    "        \n",
    "        ax1=fig.add_subplot(2, 2, 3) \n",
    "        ax1.plot(m_list[i], error_list[i], marker='x', markersize=13, color=\"orangered\")\n",
    "        ax1.plot(m_list,error_list , linestyle='dashed', color=\"blue\")\n",
    "        ax1.set_xlabel(\"M\", fontsize=25)\n",
    "        ax1.set_ylabel(\"Cost\", fontsize=25, labelpad=10)\n",
    "        ax1.tick_params(axis='both', which='major', labelsize=labelsize_)\n",
    "\n",
    "        ax2=fig.add_subplot(2, 2, 4, sharey=ax1) \n",
    "        ax2.plot(b_list[i], error_list[i], marker='x', markersize=13, color=\"orangered\")\n",
    "        ax2.plot(b_list,error_list , linestyle='dashed', color=\"red\")\n",
    "        ax2.set_xlabel(\"b\", fontsize=25)\n",
    "        ax2.tick_params(axis='both', which='major', labelsize=labelsize_)\n",
    "    \n",
    "        plt.tight_layout()\n",
    "        camera.snap()\n",
    "\n",
    "print(\"Animation complete\")"
   ]
  },
  {
   "cell_type": "code",
   "execution_count": 10,
   "id": "d1cc9359",
   "metadata": {},
   "outputs": [
    {
     "name": "stdout",
     "output_type": "stream",
     "text": [
      "GIF Created\n"
     ]
    }
   ],
   "source": [
    "animation = camera.animate(interval = 1,\n",
    "                          repeat = False, repeat_delay = 500)\n",
    "animation.save('SimpleLinReg_2.gif', writer = 'imagemagick')   \n",
    "print('GIF Created')"
   ]
  },
  {
   "cell_type": "code",
   "execution_count": 12,
   "id": "a21737e2",
   "metadata": {},
   "outputs": [
    {
     "data": {
      "text/html": [
       "<img src=\"SimpleLinReg_2.gif\">"
      ],
      "text/plain": [
       "<IPython.core.display.HTML object>"
      ]
     },
     "execution_count": 12,
     "metadata": {},
     "output_type": "execute_result"
    }
   ],
   "source": [
    "display.HTML('<img src=\"SimpleLinReg_2.gif\">')"
   ]
  },
  {
   "cell_type": "code",
   "execution_count": null,
   "id": "c972a86c",
   "metadata": {},
   "outputs": [],
   "source": []
  }
 ],
 "metadata": {
  "kernelspec": {
   "display_name": "Python 3 (ipykernel)",
   "language": "python",
   "name": "python3"
  },
  "language_info": {
   "codemirror_mode": {
    "name": "ipython",
    "version": 3
   },
   "file_extension": ".py",
   "mimetype": "text/x-python",
   "name": "python",
   "nbconvert_exporter": "python",
   "pygments_lexer": "ipython3",
   "version": "3.8.12"
  }
 },
 "nbformat": 4,
 "nbformat_minor": 5
}
