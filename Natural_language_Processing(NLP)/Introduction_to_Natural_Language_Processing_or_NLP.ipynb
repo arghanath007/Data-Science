{
  "nbformat": 4,
  "nbformat_minor": 0,
  "metadata": {
    "colab": {
      "name": "Introduction_to_Natural_Language_Processing_or_NLP.ipynb",
      "provenance": [],
      "collapsed_sections": []
    },
    "kernelspec": {
      "name": "python3",
      "display_name": "Python 3"
    },
    "language_info": {
      "name": "python"
    }
  },
  "cells": [
    {
      "cell_type": "markdown",
      "source": [
        "# Fundamentals of NLP with Tensorflow\n",
        "\n",
        "> NLP has the goal of deriving information out of natural languages(could be sequences, texts or speech).\n",
        "\n",
        "> Another common term for NLP problems is sequences to sequence problems(seq2seq)"
      ],
      "metadata": {
        "id": "xbBCOSeIqBD7"
      }
    },
    {
      "cell_type": "markdown",
      "source": [
        "## Importing helper functions"
      ],
      "metadata": {
        "id": "ng8xT7uhqnA-"
      }
    },
    {
      "cell_type": "code",
      "source": [
        "!wget https://raw.githubusercontent.com/arghanath007/MachineLearning/main/Deep%20Learning/Transfer%20Learning/helper_functions.py"
      ],
      "metadata": {
        "colab": {
          "base_uri": "https://localhost:8080/"
        },
        "id": "fgRhrkVqrqCl",
        "outputId": "ac295a32-1039-402e-d813-370844e05a01"
      },
      "execution_count": 1,
      "outputs": [
        {
          "output_type": "stream",
          "name": "stdout",
          "text": [
            "--2022-08-19 11:26:35--  https://raw.githubusercontent.com/arghanath007/MachineLearning/main/Deep%20Learning/Transfer%20Learning/helper_functions.py\n",
            "Resolving raw.githubusercontent.com (raw.githubusercontent.com)... 185.199.108.133, 185.199.111.133, 185.199.110.133, ...\n",
            "Connecting to raw.githubusercontent.com (raw.githubusercontent.com)|185.199.108.133|:443... connected.\n",
            "HTTP request sent, awaiting response... 200 OK\n",
            "Length: 19296 (19K) [text/plain]\n",
            "Saving to: ‘helper_functions.py’\n",
            "\n",
            "helper_functions.py 100%[===================>]  18.84K  --.-KB/s    in 0.002s  \n",
            "\n",
            "2022-08-19 11:26:36 (10.3 MB/s) - ‘helper_functions.py’ saved [19296/19296]\n",
            "\n"
          ]
        }
      ]
    },
    {
      "cell_type": "code",
      "source": [
        "from helper_functions import unzip_data, plot_loss_curves, compare_historys, create_data_augmented_layer_for_model, load_and_prep_image, make_confusion_matrix, make_confusion_matrix_for_larger_dataset"
      ],
      "metadata": {
        "id": "26McDVHGrqp3"
      },
      "execution_count": 2,
      "outputs": []
    },
    {
      "cell_type": "markdown",
      "source": [
        "## Getting the dataset\n",
        "\n",
        "> The dataset we are using is the Kaggle's introductionn to NLP dataset(text samples of Tweet labelled as disaster or not disaster).\n",
        "\n",
        "This is the link of the dataset -> [Kaggle Dataset](https://www.kaggle.com/competitions/nlp-getting-started)"
      ],
      "metadata": {
        "id": "8logjrwIrvG3"
      }
    },
    {
      "cell_type": "code",
      "source": [
        "!wget https://storage.googleapis.com/ztm_tf_course/nlp_getting_started.zip"
      ],
      "metadata": {
        "colab": {
          "base_uri": "https://localhost:8080/"
        },
        "id": "5kx94YOBsP3T",
        "outputId": "d0832abe-243f-45b5-84fe-e1f3a255e7c4"
      },
      "execution_count": 3,
      "outputs": [
        {
          "output_type": "stream",
          "name": "stdout",
          "text": [
            "--2022-08-19 11:26:39--  https://storage.googleapis.com/ztm_tf_course/nlp_getting_started.zip\n",
            "Resolving storage.googleapis.com (storage.googleapis.com)... 142.251.8.128, 74.125.23.128, 74.125.203.128, ...\n",
            "Connecting to storage.googleapis.com (storage.googleapis.com)|142.251.8.128|:443... connected.\n",
            "HTTP request sent, awaiting response... 200 OK\n",
            "Length: 607343 (593K) [application/zip]\n",
            "Saving to: ‘nlp_getting_started.zip’\n",
            "\n",
            "nlp_getting_started 100%[===================>] 593.11K  --.-KB/s    in 0.005s  \n",
            "\n",
            "2022-08-19 11:26:40 (109 MB/s) - ‘nlp_getting_started.zip’ saved [607343/607343]\n",
            "\n"
          ]
        }
      ]
    },
    {
      "cell_type": "code",
      "source": [
        "unzip_data('nlp_getting_started.zip')"
      ],
      "metadata": {
        "id": "_Y-II_pJuKc1"
      },
      "execution_count": 4,
      "outputs": []
    },
    {
      "cell_type": "markdown",
      "source": [
        "## Visualizing the dataset"
      ],
      "metadata": {
        "id": "cFiBag5GuPwh"
      }
    },
    {
      "cell_type": "code",
      "source": [
        "import pandas as pd"
      ],
      "metadata": {
        "id": "KAI__L1Yu629"
      },
      "execution_count": 5,
      "outputs": []
    },
    {
      "cell_type": "code",
      "source": [
        "train= pd.read_csv('/content/train.csv')\n",
        "test= pd.read_csv('/content/test.csv')"
      ],
      "metadata": {
        "id": "Whc60vkQvC1v"
      },
      "execution_count": 6,
      "outputs": []
    },
    {
      "cell_type": "code",
      "source": [
        "train"
      ],
      "metadata": {
        "colab": {
          "base_uri": "https://localhost:8080/",
          "height": 456
        },
        "id": "oQO-ZDDWvM7e",
        "outputId": "9c3e0b1b-4149-4336-e012-efe9f97e8acc"
      },
      "execution_count": 7,
      "outputs": [
        {
          "output_type": "execute_result",
          "data": {
            "text/plain": [
              "         id keyword location  \\\n",
              "0         1     NaN      NaN   \n",
              "1         4     NaN      NaN   \n",
              "2         5     NaN      NaN   \n",
              "3         6     NaN      NaN   \n",
              "4         7     NaN      NaN   \n",
              "...     ...     ...      ...   \n",
              "7608  10869     NaN      NaN   \n",
              "7609  10870     NaN      NaN   \n",
              "7610  10871     NaN      NaN   \n",
              "7611  10872     NaN      NaN   \n",
              "7612  10873     NaN      NaN   \n",
              "\n",
              "                                                   text  target  \n",
              "0     Our Deeds are the Reason of this #earthquake M...       1  \n",
              "1                Forest fire near La Ronge Sask. Canada       1  \n",
              "2     All residents asked to 'shelter in place' are ...       1  \n",
              "3     13,000 people receive #wildfires evacuation or...       1  \n",
              "4     Just got sent this photo from Ruby #Alaska as ...       1  \n",
              "...                                                 ...     ...  \n",
              "7608  Two giant cranes holding a bridge collapse int...       1  \n",
              "7609  @aria_ahrary @TheTawniest The out of control w...       1  \n",
              "7610  M1.94 [01:04 UTC]?5km S of Volcano Hawaii. htt...       1  \n",
              "7611  Police investigating after an e-bike collided ...       1  \n",
              "7612  The Latest: More Homes Razed by Northern Calif...       1  \n",
              "\n",
              "[7613 rows x 5 columns]"
            ],
            "text/html": [
              "\n",
              "  <div id=\"df-62843276-c2b8-4822-89c2-9835a09abf24\">\n",
              "    <div class=\"colab-df-container\">\n",
              "      <div>\n",
              "<style scoped>\n",
              "    .dataframe tbody tr th:only-of-type {\n",
              "        vertical-align: middle;\n",
              "    }\n",
              "\n",
              "    .dataframe tbody tr th {\n",
              "        vertical-align: top;\n",
              "    }\n",
              "\n",
              "    .dataframe thead th {\n",
              "        text-align: right;\n",
              "    }\n",
              "</style>\n",
              "<table border=\"1\" class=\"dataframe\">\n",
              "  <thead>\n",
              "    <tr style=\"text-align: right;\">\n",
              "      <th></th>\n",
              "      <th>id</th>\n",
              "      <th>keyword</th>\n",
              "      <th>location</th>\n",
              "      <th>text</th>\n",
              "      <th>target</th>\n",
              "    </tr>\n",
              "  </thead>\n",
              "  <tbody>\n",
              "    <tr>\n",
              "      <th>0</th>\n",
              "      <td>1</td>\n",
              "      <td>NaN</td>\n",
              "      <td>NaN</td>\n",
              "      <td>Our Deeds are the Reason of this #earthquake M...</td>\n",
              "      <td>1</td>\n",
              "    </tr>\n",
              "    <tr>\n",
              "      <th>1</th>\n",
              "      <td>4</td>\n",
              "      <td>NaN</td>\n",
              "      <td>NaN</td>\n",
              "      <td>Forest fire near La Ronge Sask. Canada</td>\n",
              "      <td>1</td>\n",
              "    </tr>\n",
              "    <tr>\n",
              "      <th>2</th>\n",
              "      <td>5</td>\n",
              "      <td>NaN</td>\n",
              "      <td>NaN</td>\n",
              "      <td>All residents asked to 'shelter in place' are ...</td>\n",
              "      <td>1</td>\n",
              "    </tr>\n",
              "    <tr>\n",
              "      <th>3</th>\n",
              "      <td>6</td>\n",
              "      <td>NaN</td>\n",
              "      <td>NaN</td>\n",
              "      <td>13,000 people receive #wildfires evacuation or...</td>\n",
              "      <td>1</td>\n",
              "    </tr>\n",
              "    <tr>\n",
              "      <th>4</th>\n",
              "      <td>7</td>\n",
              "      <td>NaN</td>\n",
              "      <td>NaN</td>\n",
              "      <td>Just got sent this photo from Ruby #Alaska as ...</td>\n",
              "      <td>1</td>\n",
              "    </tr>\n",
              "    <tr>\n",
              "      <th>...</th>\n",
              "      <td>...</td>\n",
              "      <td>...</td>\n",
              "      <td>...</td>\n",
              "      <td>...</td>\n",
              "      <td>...</td>\n",
              "    </tr>\n",
              "    <tr>\n",
              "      <th>7608</th>\n",
              "      <td>10869</td>\n",
              "      <td>NaN</td>\n",
              "      <td>NaN</td>\n",
              "      <td>Two giant cranes holding a bridge collapse int...</td>\n",
              "      <td>1</td>\n",
              "    </tr>\n",
              "    <tr>\n",
              "      <th>7609</th>\n",
              "      <td>10870</td>\n",
              "      <td>NaN</td>\n",
              "      <td>NaN</td>\n",
              "      <td>@aria_ahrary @TheTawniest The out of control w...</td>\n",
              "      <td>1</td>\n",
              "    </tr>\n",
              "    <tr>\n",
              "      <th>7610</th>\n",
              "      <td>10871</td>\n",
              "      <td>NaN</td>\n",
              "      <td>NaN</td>\n",
              "      <td>M1.94 [01:04 UTC]?5km S of Volcano Hawaii. htt...</td>\n",
              "      <td>1</td>\n",
              "    </tr>\n",
              "    <tr>\n",
              "      <th>7611</th>\n",
              "      <td>10872</td>\n",
              "      <td>NaN</td>\n",
              "      <td>NaN</td>\n",
              "      <td>Police investigating after an e-bike collided ...</td>\n",
              "      <td>1</td>\n",
              "    </tr>\n",
              "    <tr>\n",
              "      <th>7612</th>\n",
              "      <td>10873</td>\n",
              "      <td>NaN</td>\n",
              "      <td>NaN</td>\n",
              "      <td>The Latest: More Homes Razed by Northern Calif...</td>\n",
              "      <td>1</td>\n",
              "    </tr>\n",
              "  </tbody>\n",
              "</table>\n",
              "<p>7613 rows × 5 columns</p>\n",
              "</div>\n",
              "      <button class=\"colab-df-convert\" onclick=\"convertToInteractive('df-62843276-c2b8-4822-89c2-9835a09abf24')\"\n",
              "              title=\"Convert this dataframe to an interactive table.\"\n",
              "              style=\"display:none;\">\n",
              "        \n",
              "  <svg xmlns=\"http://www.w3.org/2000/svg\" height=\"24px\"viewBox=\"0 0 24 24\"\n",
              "       width=\"24px\">\n",
              "    <path d=\"M0 0h24v24H0V0z\" fill=\"none\"/>\n",
              "    <path d=\"M18.56 5.44l.94 2.06.94-2.06 2.06-.94-2.06-.94-.94-2.06-.94 2.06-2.06.94zm-11 1L8.5 8.5l.94-2.06 2.06-.94-2.06-.94L8.5 2.5l-.94 2.06-2.06.94zm10 10l.94 2.06.94-2.06 2.06-.94-2.06-.94-.94-2.06-.94 2.06-2.06.94z\"/><path d=\"M17.41 7.96l-1.37-1.37c-.4-.4-.92-.59-1.43-.59-.52 0-1.04.2-1.43.59L10.3 9.45l-7.72 7.72c-.78.78-.78 2.05 0 2.83L4 21.41c.39.39.9.59 1.41.59.51 0 1.02-.2 1.41-.59l7.78-7.78 2.81-2.81c.8-.78.8-2.07 0-2.86zM5.41 20L4 18.59l7.72-7.72 1.47 1.35L5.41 20z\"/>\n",
              "  </svg>\n",
              "      </button>\n",
              "      \n",
              "  <style>\n",
              "    .colab-df-container {\n",
              "      display:flex;\n",
              "      flex-wrap:wrap;\n",
              "      gap: 12px;\n",
              "    }\n",
              "\n",
              "    .colab-df-convert {\n",
              "      background-color: #E8F0FE;\n",
              "      border: none;\n",
              "      border-radius: 50%;\n",
              "      cursor: pointer;\n",
              "      display: none;\n",
              "      fill: #1967D2;\n",
              "      height: 32px;\n",
              "      padding: 0 0 0 0;\n",
              "      width: 32px;\n",
              "    }\n",
              "\n",
              "    .colab-df-convert:hover {\n",
              "      background-color: #E2EBFA;\n",
              "      box-shadow: 0px 1px 2px rgba(60, 64, 67, 0.3), 0px 1px 3px 1px rgba(60, 64, 67, 0.15);\n",
              "      fill: #174EA6;\n",
              "    }\n",
              "\n",
              "    [theme=dark] .colab-df-convert {\n",
              "      background-color: #3B4455;\n",
              "      fill: #D2E3FC;\n",
              "    }\n",
              "\n",
              "    [theme=dark] .colab-df-convert:hover {\n",
              "      background-color: #434B5C;\n",
              "      box-shadow: 0px 1px 3px 1px rgba(0, 0, 0, 0.15);\n",
              "      filter: drop-shadow(0px 1px 2px rgba(0, 0, 0, 0.3));\n",
              "      fill: #FFFFFF;\n",
              "    }\n",
              "  </style>\n",
              "\n",
              "      <script>\n",
              "        const buttonEl =\n",
              "          document.querySelector('#df-62843276-c2b8-4822-89c2-9835a09abf24 button.colab-df-convert');\n",
              "        buttonEl.style.display =\n",
              "          google.colab.kernel.accessAllowed ? 'block' : 'none';\n",
              "\n",
              "        async function convertToInteractive(key) {\n",
              "          const element = document.querySelector('#df-62843276-c2b8-4822-89c2-9835a09abf24');\n",
              "          const dataTable =\n",
              "            await google.colab.kernel.invokeFunction('convertToInteractive',\n",
              "                                                     [key], {});\n",
              "          if (!dataTable) return;\n",
              "\n",
              "          const docLinkHtml = 'Like what you see? Visit the ' +\n",
              "            '<a target=\"_blank\" href=https://colab.research.google.com/notebooks/data_table.ipynb>data table notebook</a>'\n",
              "            + ' to learn more about interactive tables.';\n",
              "          element.innerHTML = '';\n",
              "          dataTable['output_type'] = 'display_data';\n",
              "          await google.colab.output.renderOutput(dataTable, element);\n",
              "          const docLink = document.createElement('div');\n",
              "          docLink.innerHTML = docLinkHtml;\n",
              "          element.appendChild(docLink);\n",
              "        }\n",
              "      </script>\n",
              "    </div>\n",
              "  </div>\n",
              "  "
            ]
          },
          "metadata": {},
          "execution_count": 7
        }
      ]
    },
    {
      "cell_type": "code",
      "source": [
        "train['text'][4]"
      ],
      "metadata": {
        "colab": {
          "base_uri": "https://localhost:8080/",
          "height": 37
        },
        "id": "xKX_k2-f1JAB",
        "outputId": "811444e0-2ead-4fb3-cbbe-6feeb0334f80"
      },
      "execution_count": 8,
      "outputs": [
        {
          "output_type": "execute_result",
          "data": {
            "text/plain": [
              "'Just got sent this photo from Ruby #Alaska as smoke from #wildfires pours into a school '"
            ],
            "application/vnd.google.colaboratory.intrinsic+json": {
              "type": "string"
            }
          },
          "metadata": {},
          "execution_count": 8
        }
      ]
    },
    {
      "cell_type": "markdown",
      "source": [
        "## Conclusion\n",
        "\n",
        "* `1` -> Means a disaster(Positive)\n",
        "* `0` -> Means not a disaster(negative)"
      ],
      "metadata": {
        "id": "4pqkpYWnvNZI"
      }
    },
    {
      "cell_type": "markdown",
      "source": [
        "## Shuffeling the data"
      ],
      "metadata": {
        "id": "C9WcxjGp0S3j"
      }
    },
    {
      "cell_type": "code",
      "source": [
        "train_shuffled= train.sample(frac= 1, random_state=22)\n",
        "train_shuffled"
      ],
      "metadata": {
        "colab": {
          "base_uri": "https://localhost:8080/",
          "height": 456
        },
        "id": "zAFKsrEV0t30",
        "outputId": "64e4f11f-38f9-4ade-a9ff-4549419b3f78"
      },
      "execution_count": 9,
      "outputs": [
        {
          "output_type": "execute_result",
          "data": {
            "text/plain": [
              "         id            keyword        location  \\\n",
              "1467   2115        catastrophe         Florida   \n",
              "6453   9232  suicide%20bombing             NaN   \n",
              "5698   8131            rescued         Ireland   \n",
              "5769   8236               riot         Seattle   \n",
              "6853   9822             trauma             NaN   \n",
              "...     ...                ...             ...   \n",
              "356     513               army          Studio   \n",
              "7104  10177    violent%20storm             NaN   \n",
              "4908   6985           massacre             NaN   \n",
              "6276   8967              storm  Wilmington, NC   \n",
              "2933   4214            drowned     Bayonne, NJ   \n",
              "\n",
              "                                                   text  target  \n",
              "1467  @deb117 7/30 that catastrophe man opens school...       0  \n",
              "6453  meek mill should join isis since he loves suic...       0  \n",
              "5698  Three beached whales rescued in Kerry - http:/...       1  \n",
              "5769  Southeast Dirt Riot Series Crowns Champions:  ...       0  \n",
              "6853  Hiroshima: They told me to paint my story: Eig...       1  \n",
              "...                                                 ...     ...  \n",
              "356   But if you build an army of 100 dogs and their...       1  \n",
              "7104  I don't understand 'taking' ANY life as a trop...       1  \n",
              "4908  @nataliealund \\nParents of Colorado theater sh...       1  \n",
              "6276  New item: Pillow Covers ANY SIZE Pillow Cover ...       0  \n",
              "2933  @God how come bugs haven't all drowned out of ...       0  \n",
              "\n",
              "[7613 rows x 5 columns]"
            ],
            "text/html": [
              "\n",
              "  <div id=\"df-f2f352c9-e99b-46b8-ab90-83a7bbe2cd36\">\n",
              "    <div class=\"colab-df-container\">\n",
              "      <div>\n",
              "<style scoped>\n",
              "    .dataframe tbody tr th:only-of-type {\n",
              "        vertical-align: middle;\n",
              "    }\n",
              "\n",
              "    .dataframe tbody tr th {\n",
              "        vertical-align: top;\n",
              "    }\n",
              "\n",
              "    .dataframe thead th {\n",
              "        text-align: right;\n",
              "    }\n",
              "</style>\n",
              "<table border=\"1\" class=\"dataframe\">\n",
              "  <thead>\n",
              "    <tr style=\"text-align: right;\">\n",
              "      <th></th>\n",
              "      <th>id</th>\n",
              "      <th>keyword</th>\n",
              "      <th>location</th>\n",
              "      <th>text</th>\n",
              "      <th>target</th>\n",
              "    </tr>\n",
              "  </thead>\n",
              "  <tbody>\n",
              "    <tr>\n",
              "      <th>1467</th>\n",
              "      <td>2115</td>\n",
              "      <td>catastrophe</td>\n",
              "      <td>Florida</td>\n",
              "      <td>@deb117 7/30 that catastrophe man opens school...</td>\n",
              "      <td>0</td>\n",
              "    </tr>\n",
              "    <tr>\n",
              "      <th>6453</th>\n",
              "      <td>9232</td>\n",
              "      <td>suicide%20bombing</td>\n",
              "      <td>NaN</td>\n",
              "      <td>meek mill should join isis since he loves suic...</td>\n",
              "      <td>0</td>\n",
              "    </tr>\n",
              "    <tr>\n",
              "      <th>5698</th>\n",
              "      <td>8131</td>\n",
              "      <td>rescued</td>\n",
              "      <td>Ireland</td>\n",
              "      <td>Three beached whales rescued in Kerry - http:/...</td>\n",
              "      <td>1</td>\n",
              "    </tr>\n",
              "    <tr>\n",
              "      <th>5769</th>\n",
              "      <td>8236</td>\n",
              "      <td>riot</td>\n",
              "      <td>Seattle</td>\n",
              "      <td>Southeast Dirt Riot Series Crowns Champions:  ...</td>\n",
              "      <td>0</td>\n",
              "    </tr>\n",
              "    <tr>\n",
              "      <th>6853</th>\n",
              "      <td>9822</td>\n",
              "      <td>trauma</td>\n",
              "      <td>NaN</td>\n",
              "      <td>Hiroshima: They told me to paint my story: Eig...</td>\n",
              "      <td>1</td>\n",
              "    </tr>\n",
              "    <tr>\n",
              "      <th>...</th>\n",
              "      <td>...</td>\n",
              "      <td>...</td>\n",
              "      <td>...</td>\n",
              "      <td>...</td>\n",
              "      <td>...</td>\n",
              "    </tr>\n",
              "    <tr>\n",
              "      <th>356</th>\n",
              "      <td>513</td>\n",
              "      <td>army</td>\n",
              "      <td>Studio</td>\n",
              "      <td>But if you build an army of 100 dogs and their...</td>\n",
              "      <td>1</td>\n",
              "    </tr>\n",
              "    <tr>\n",
              "      <th>7104</th>\n",
              "      <td>10177</td>\n",
              "      <td>violent%20storm</td>\n",
              "      <td>NaN</td>\n",
              "      <td>I don't understand 'taking' ANY life as a trop...</td>\n",
              "      <td>1</td>\n",
              "    </tr>\n",
              "    <tr>\n",
              "      <th>4908</th>\n",
              "      <td>6985</td>\n",
              "      <td>massacre</td>\n",
              "      <td>NaN</td>\n",
              "      <td>@nataliealund \\nParents of Colorado theater sh...</td>\n",
              "      <td>1</td>\n",
              "    </tr>\n",
              "    <tr>\n",
              "      <th>6276</th>\n",
              "      <td>8967</td>\n",
              "      <td>storm</td>\n",
              "      <td>Wilmington, NC</td>\n",
              "      <td>New item: Pillow Covers ANY SIZE Pillow Cover ...</td>\n",
              "      <td>0</td>\n",
              "    </tr>\n",
              "    <tr>\n",
              "      <th>2933</th>\n",
              "      <td>4214</td>\n",
              "      <td>drowned</td>\n",
              "      <td>Bayonne, NJ</td>\n",
              "      <td>@God how come bugs haven't all drowned out of ...</td>\n",
              "      <td>0</td>\n",
              "    </tr>\n",
              "  </tbody>\n",
              "</table>\n",
              "<p>7613 rows × 5 columns</p>\n",
              "</div>\n",
              "      <button class=\"colab-df-convert\" onclick=\"convertToInteractive('df-f2f352c9-e99b-46b8-ab90-83a7bbe2cd36')\"\n",
              "              title=\"Convert this dataframe to an interactive table.\"\n",
              "              style=\"display:none;\">\n",
              "        \n",
              "  <svg xmlns=\"http://www.w3.org/2000/svg\" height=\"24px\"viewBox=\"0 0 24 24\"\n",
              "       width=\"24px\">\n",
              "    <path d=\"M0 0h24v24H0V0z\" fill=\"none\"/>\n",
              "    <path d=\"M18.56 5.44l.94 2.06.94-2.06 2.06-.94-2.06-.94-.94-2.06-.94 2.06-2.06.94zm-11 1L8.5 8.5l.94-2.06 2.06-.94-2.06-.94L8.5 2.5l-.94 2.06-2.06.94zm10 10l.94 2.06.94-2.06 2.06-.94-2.06-.94-.94-2.06-.94 2.06-2.06.94z\"/><path d=\"M17.41 7.96l-1.37-1.37c-.4-.4-.92-.59-1.43-.59-.52 0-1.04.2-1.43.59L10.3 9.45l-7.72 7.72c-.78.78-.78 2.05 0 2.83L4 21.41c.39.39.9.59 1.41.59.51 0 1.02-.2 1.41-.59l7.78-7.78 2.81-2.81c.8-.78.8-2.07 0-2.86zM5.41 20L4 18.59l7.72-7.72 1.47 1.35L5.41 20z\"/>\n",
              "  </svg>\n",
              "      </button>\n",
              "      \n",
              "  <style>\n",
              "    .colab-df-container {\n",
              "      display:flex;\n",
              "      flex-wrap:wrap;\n",
              "      gap: 12px;\n",
              "    }\n",
              "\n",
              "    .colab-df-convert {\n",
              "      background-color: #E8F0FE;\n",
              "      border: none;\n",
              "      border-radius: 50%;\n",
              "      cursor: pointer;\n",
              "      display: none;\n",
              "      fill: #1967D2;\n",
              "      height: 32px;\n",
              "      padding: 0 0 0 0;\n",
              "      width: 32px;\n",
              "    }\n",
              "\n",
              "    .colab-df-convert:hover {\n",
              "      background-color: #E2EBFA;\n",
              "      box-shadow: 0px 1px 2px rgba(60, 64, 67, 0.3), 0px 1px 3px 1px rgba(60, 64, 67, 0.15);\n",
              "      fill: #174EA6;\n",
              "    }\n",
              "\n",
              "    [theme=dark] .colab-df-convert {\n",
              "      background-color: #3B4455;\n",
              "      fill: #D2E3FC;\n",
              "    }\n",
              "\n",
              "    [theme=dark] .colab-df-convert:hover {\n",
              "      background-color: #434B5C;\n",
              "      box-shadow: 0px 1px 3px 1px rgba(0, 0, 0, 0.15);\n",
              "      filter: drop-shadow(0px 1px 2px rgba(0, 0, 0, 0.3));\n",
              "      fill: #FFFFFF;\n",
              "    }\n",
              "  </style>\n",
              "\n",
              "      <script>\n",
              "        const buttonEl =\n",
              "          document.querySelector('#df-f2f352c9-e99b-46b8-ab90-83a7bbe2cd36 button.colab-df-convert');\n",
              "        buttonEl.style.display =\n",
              "          google.colab.kernel.accessAllowed ? 'block' : 'none';\n",
              "\n",
              "        async function convertToInteractive(key) {\n",
              "          const element = document.querySelector('#df-f2f352c9-e99b-46b8-ab90-83a7bbe2cd36');\n",
              "          const dataTable =\n",
              "            await google.colab.kernel.invokeFunction('convertToInteractive',\n",
              "                                                     [key], {});\n",
              "          if (!dataTable) return;\n",
              "\n",
              "          const docLinkHtml = 'Like what you see? Visit the ' +\n",
              "            '<a target=\"_blank\" href=https://colab.research.google.com/notebooks/data_table.ipynb>data table notebook</a>'\n",
              "            + ' to learn more about interactive tables.';\n",
              "          element.innerHTML = '';\n",
              "          dataTable['output_type'] = 'display_data';\n",
              "          await google.colab.output.renderOutput(dataTable, element);\n",
              "          const docLink = document.createElement('div');\n",
              "          docLink.innerHTML = docLinkHtml;\n",
              "          element.appendChild(docLink);\n",
              "        }\n",
              "      </script>\n",
              "    </div>\n",
              "  </div>\n",
              "  "
            ]
          },
          "metadata": {},
          "execution_count": 9
        }
      ]
    },
    {
      "cell_type": "code",
      "source": [
        "train_shuffled['text'][1467]"
      ],
      "metadata": {
        "colab": {
          "base_uri": "https://localhost:8080/",
          "height": 37
        },
        "id": "-mabZ1ei04WO",
        "outputId": "f238424a-911a-4ca6-c43d-42a081709735"
      },
      "execution_count": 10,
      "outputs": [
        {
          "output_type": "execute_result",
          "data": {
            "text/plain": [
              "\"@deb117 7/30 that catastrophe man opens school w/another he's an athlete not a teacher a principle not fulfilling any inside clerical duties\""
            ],
            "application/vnd.google.colaboratory.intrinsic+json": {
              "type": "string"
            }
          },
          "metadata": {},
          "execution_count": 10
        }
      ]
    },
    {
      "cell_type": "markdown",
      "source": [
        "### Test dataset"
      ],
      "metadata": {
        "id": "a0igrjTa09GW"
      }
    },
    {
      "cell_type": "code",
      "source": [
        "test"
      ],
      "metadata": {
        "colab": {
          "base_uri": "https://localhost:8080/",
          "height": 456
        },
        "id": "EsijQUY-1SCp",
        "outputId": "8192ba0b-2dc0-4665-8b3e-8918c6a47fc5"
      },
      "execution_count": 11,
      "outputs": [
        {
          "output_type": "execute_result",
          "data": {
            "text/plain": [
              "         id keyword location  \\\n",
              "0         0     NaN      NaN   \n",
              "1         2     NaN      NaN   \n",
              "2         3     NaN      NaN   \n",
              "3         9     NaN      NaN   \n",
              "4        11     NaN      NaN   \n",
              "...     ...     ...      ...   \n",
              "3258  10861     NaN      NaN   \n",
              "3259  10865     NaN      NaN   \n",
              "3260  10868     NaN      NaN   \n",
              "3261  10874     NaN      NaN   \n",
              "3262  10875     NaN      NaN   \n",
              "\n",
              "                                                   text  \n",
              "0                    Just happened a terrible car crash  \n",
              "1     Heard about #earthquake is different cities, s...  \n",
              "2     there is a forest fire at spot pond, geese are...  \n",
              "3              Apocalypse lighting. #Spokane #wildfires  \n",
              "4         Typhoon Soudelor kills 28 in China and Taiwan  \n",
              "...                                                 ...  \n",
              "3258  EARTHQUAKE SAFETY LOS ANGELES ÛÒ SAFETY FASTE...  \n",
              "3259  Storm in RI worse than last hurricane. My city...  \n",
              "3260  Green Line derailment in Chicago http://t.co/U...  \n",
              "3261  MEG issues Hazardous Weather Outlook (HWO) htt...  \n",
              "3262  #CityofCalgary has activated its Municipal Eme...  \n",
              "\n",
              "[3263 rows x 4 columns]"
            ],
            "text/html": [
              "\n",
              "  <div id=\"df-ae943043-5f1c-4ce9-91b6-91ed8363fc72\">\n",
              "    <div class=\"colab-df-container\">\n",
              "      <div>\n",
              "<style scoped>\n",
              "    .dataframe tbody tr th:only-of-type {\n",
              "        vertical-align: middle;\n",
              "    }\n",
              "\n",
              "    .dataframe tbody tr th {\n",
              "        vertical-align: top;\n",
              "    }\n",
              "\n",
              "    .dataframe thead th {\n",
              "        text-align: right;\n",
              "    }\n",
              "</style>\n",
              "<table border=\"1\" class=\"dataframe\">\n",
              "  <thead>\n",
              "    <tr style=\"text-align: right;\">\n",
              "      <th></th>\n",
              "      <th>id</th>\n",
              "      <th>keyword</th>\n",
              "      <th>location</th>\n",
              "      <th>text</th>\n",
              "    </tr>\n",
              "  </thead>\n",
              "  <tbody>\n",
              "    <tr>\n",
              "      <th>0</th>\n",
              "      <td>0</td>\n",
              "      <td>NaN</td>\n",
              "      <td>NaN</td>\n",
              "      <td>Just happened a terrible car crash</td>\n",
              "    </tr>\n",
              "    <tr>\n",
              "      <th>1</th>\n",
              "      <td>2</td>\n",
              "      <td>NaN</td>\n",
              "      <td>NaN</td>\n",
              "      <td>Heard about #earthquake is different cities, s...</td>\n",
              "    </tr>\n",
              "    <tr>\n",
              "      <th>2</th>\n",
              "      <td>3</td>\n",
              "      <td>NaN</td>\n",
              "      <td>NaN</td>\n",
              "      <td>there is a forest fire at spot pond, geese are...</td>\n",
              "    </tr>\n",
              "    <tr>\n",
              "      <th>3</th>\n",
              "      <td>9</td>\n",
              "      <td>NaN</td>\n",
              "      <td>NaN</td>\n",
              "      <td>Apocalypse lighting. #Spokane #wildfires</td>\n",
              "    </tr>\n",
              "    <tr>\n",
              "      <th>4</th>\n",
              "      <td>11</td>\n",
              "      <td>NaN</td>\n",
              "      <td>NaN</td>\n",
              "      <td>Typhoon Soudelor kills 28 in China and Taiwan</td>\n",
              "    </tr>\n",
              "    <tr>\n",
              "      <th>...</th>\n",
              "      <td>...</td>\n",
              "      <td>...</td>\n",
              "      <td>...</td>\n",
              "      <td>...</td>\n",
              "    </tr>\n",
              "    <tr>\n",
              "      <th>3258</th>\n",
              "      <td>10861</td>\n",
              "      <td>NaN</td>\n",
              "      <td>NaN</td>\n",
              "      <td>EARTHQUAKE SAFETY LOS ANGELES ÛÒ SAFETY FASTE...</td>\n",
              "    </tr>\n",
              "    <tr>\n",
              "      <th>3259</th>\n",
              "      <td>10865</td>\n",
              "      <td>NaN</td>\n",
              "      <td>NaN</td>\n",
              "      <td>Storm in RI worse than last hurricane. My city...</td>\n",
              "    </tr>\n",
              "    <tr>\n",
              "      <th>3260</th>\n",
              "      <td>10868</td>\n",
              "      <td>NaN</td>\n",
              "      <td>NaN</td>\n",
              "      <td>Green Line derailment in Chicago http://t.co/U...</td>\n",
              "    </tr>\n",
              "    <tr>\n",
              "      <th>3261</th>\n",
              "      <td>10874</td>\n",
              "      <td>NaN</td>\n",
              "      <td>NaN</td>\n",
              "      <td>MEG issues Hazardous Weather Outlook (HWO) htt...</td>\n",
              "    </tr>\n",
              "    <tr>\n",
              "      <th>3262</th>\n",
              "      <td>10875</td>\n",
              "      <td>NaN</td>\n",
              "      <td>NaN</td>\n",
              "      <td>#CityofCalgary has activated its Municipal Eme...</td>\n",
              "    </tr>\n",
              "  </tbody>\n",
              "</table>\n",
              "<p>3263 rows × 4 columns</p>\n",
              "</div>\n",
              "      <button class=\"colab-df-convert\" onclick=\"convertToInteractive('df-ae943043-5f1c-4ce9-91b6-91ed8363fc72')\"\n",
              "              title=\"Convert this dataframe to an interactive table.\"\n",
              "              style=\"display:none;\">\n",
              "        \n",
              "  <svg xmlns=\"http://www.w3.org/2000/svg\" height=\"24px\"viewBox=\"0 0 24 24\"\n",
              "       width=\"24px\">\n",
              "    <path d=\"M0 0h24v24H0V0z\" fill=\"none\"/>\n",
              "    <path d=\"M18.56 5.44l.94 2.06.94-2.06 2.06-.94-2.06-.94-.94-2.06-.94 2.06-2.06.94zm-11 1L8.5 8.5l.94-2.06 2.06-.94-2.06-.94L8.5 2.5l-.94 2.06-2.06.94zm10 10l.94 2.06.94-2.06 2.06-.94-2.06-.94-.94-2.06-.94 2.06-2.06.94z\"/><path d=\"M17.41 7.96l-1.37-1.37c-.4-.4-.92-.59-1.43-.59-.52 0-1.04.2-1.43.59L10.3 9.45l-7.72 7.72c-.78.78-.78 2.05 0 2.83L4 21.41c.39.39.9.59 1.41.59.51 0 1.02-.2 1.41-.59l7.78-7.78 2.81-2.81c.8-.78.8-2.07 0-2.86zM5.41 20L4 18.59l7.72-7.72 1.47 1.35L5.41 20z\"/>\n",
              "  </svg>\n",
              "      </button>\n",
              "      \n",
              "  <style>\n",
              "    .colab-df-container {\n",
              "      display:flex;\n",
              "      flex-wrap:wrap;\n",
              "      gap: 12px;\n",
              "    }\n",
              "\n",
              "    .colab-df-convert {\n",
              "      background-color: #E8F0FE;\n",
              "      border: none;\n",
              "      border-radius: 50%;\n",
              "      cursor: pointer;\n",
              "      display: none;\n",
              "      fill: #1967D2;\n",
              "      height: 32px;\n",
              "      padding: 0 0 0 0;\n",
              "      width: 32px;\n",
              "    }\n",
              "\n",
              "    .colab-df-convert:hover {\n",
              "      background-color: #E2EBFA;\n",
              "      box-shadow: 0px 1px 2px rgba(60, 64, 67, 0.3), 0px 1px 3px 1px rgba(60, 64, 67, 0.15);\n",
              "      fill: #174EA6;\n",
              "    }\n",
              "\n",
              "    [theme=dark] .colab-df-convert {\n",
              "      background-color: #3B4455;\n",
              "      fill: #D2E3FC;\n",
              "    }\n",
              "\n",
              "    [theme=dark] .colab-df-convert:hover {\n",
              "      background-color: #434B5C;\n",
              "      box-shadow: 0px 1px 3px 1px rgba(0, 0, 0, 0.15);\n",
              "      filter: drop-shadow(0px 1px 2px rgba(0, 0, 0, 0.3));\n",
              "      fill: #FFFFFF;\n",
              "    }\n",
              "  </style>\n",
              "\n",
              "      <script>\n",
              "        const buttonEl =\n",
              "          document.querySelector('#df-ae943043-5f1c-4ce9-91b6-91ed8363fc72 button.colab-df-convert');\n",
              "        buttonEl.style.display =\n",
              "          google.colab.kernel.accessAllowed ? 'block' : 'none';\n",
              "\n",
              "        async function convertToInteractive(key) {\n",
              "          const element = document.querySelector('#df-ae943043-5f1c-4ce9-91b6-91ed8363fc72');\n",
              "          const dataTable =\n",
              "            await google.colab.kernel.invokeFunction('convertToInteractive',\n",
              "                                                     [key], {});\n",
              "          if (!dataTable) return;\n",
              "\n",
              "          const docLinkHtml = 'Like what you see? Visit the ' +\n",
              "            '<a target=\"_blank\" href=https://colab.research.google.com/notebooks/data_table.ipynb>data table notebook</a>'\n",
              "            + ' to learn more about interactive tables.';\n",
              "          element.innerHTML = '';\n",
              "          dataTable['output_type'] = 'display_data';\n",
              "          await google.colab.output.renderOutput(dataTable, element);\n",
              "          const docLink = document.createElement('div');\n",
              "          docLink.innerHTML = docLinkHtml;\n",
              "          element.appendChild(docLink);\n",
              "        }\n",
              "      </script>\n",
              "    </div>\n",
              "  </div>\n",
              "  "
            ]
          },
          "metadata": {},
          "execution_count": 11
        }
      ]
    },
    {
      "cell_type": "markdown",
      "source": [
        "## Balance of the dataset"
      ],
      "metadata": {
        "id": "WwnOPn6D1_nd"
      }
    },
    {
      "cell_type": "code",
      "source": [
        "train['target'].value_counts()"
      ],
      "metadata": {
        "colab": {
          "base_uri": "https://localhost:8080/"
        },
        "id": "wAtklfli1SrZ",
        "outputId": "fec92a36-744f-49fb-a9c5-4e06b28ece5b"
      },
      "execution_count": 12,
      "outputs": [
        {
          "output_type": "execute_result",
          "data": {
            "text/plain": [
              "0    4342\n",
              "1    3271\n",
              "Name: target, dtype: int64"
            ]
          },
          "metadata": {},
          "execution_count": 12
        }
      ]
    },
    {
      "cell_type": "markdown",
      "source": [
        "## Visualizing the data"
      ],
      "metadata": {
        "id": "dBeqNFYH18pQ"
      }
    },
    {
      "cell_type": "code",
      "source": [
        "import random\n",
        "random_index= random.randint(0, len(train)-10)\n",
        "for row in train_shuffled[[\"text\", \"target\"]][random_index: random_index +10].itertuples():\n",
        "  _, text, target= row\n",
        "  print(f\"Target: {target}, (real disaster)\" if target > 0 else \"(not real disaster)\")\n",
        "  print(f\"Text: \\n{text}\\n\")\n",
        "  print(\"-----\\n\")"
      ],
      "metadata": {
        "colab": {
          "base_uri": "https://localhost:8080/"
        },
        "id": "tXrGGy793uTm",
        "outputId": "d1331ba1-67fb-4a34-d213-f8d0bd253e01"
      },
      "execution_count": 13,
      "outputs": [
        {
          "output_type": "stream",
          "name": "stdout",
          "text": [
            "Target: 1, (real disaster)\n",
            "Text: \n",
            "Radioactive Box Quarantined - IsraelÛªs Ashdod Port was evacuated when emergency teams discovered radiation emittin... http://t.co/swQ5lMyDka\n",
            "\n",
            "-----\n",
            "\n",
            "(not real disaster)\n",
            "Text: \n",
            "Maybe if the stars align maybe if our worlds collide\n",
            "\n",
            "-----\n",
            "\n",
            "Target: 1, (real disaster)\n",
            "Text: \n",
            "the mv should just be them strutting like they mean it while buildings are burning up in the bg and flames everywhere how cool would that be\n",
            "\n",
            "-----\n",
            "\n",
            "(not real disaster)\n",
            "Text: \n",
            "Fuck Sleeping With Sirens.\n",
            "\n",
            "-----\n",
            "\n",
            "Target: 1, (real disaster)\n",
            "Text: \n",
            "LA Times: Refugio oil spill may have been costlier bigger than projected http://t.co/1ct0pUGZ69\n",
            "\n",
            "-----\n",
            "\n",
            "(not real disaster)\n",
            "Text: \n",
            "Its like I never left. I just sunk to the background\n",
            "\n",
            "-----\n",
            "\n",
            "(not real disaster)\n",
            "Text: \n",
            "Gut Deutsch musik! The old and rotten the monarchy has collapsed. The new may live. Long live the German Republic! https://t.co/RJjU70rHyu\n",
            "\n",
            "-----\n",
            "\n",
            "(not real disaster)\n",
            "Text: \n",
            "sticks and stones may break my bones\n",
            "but words will never harm me\n",
            "\n",
            "-----\n",
            "\n",
            "Target: 1, (real disaster)\n",
            "Text: \n",
            "disinfo: Warfighting Robots Could Reduce Civilian Casualties So Calling for a Ban Now Is ... -... http://t.co/yUinMErQ2s #criticalmedia\n",
            "\n",
            "-----\n",
            "\n",
            "Target: 1, (real disaster)\n",
            "Text: \n",
            "Madhya Pradesh Train Derailment: Village Youth Saved Many Lives\n",
            "\n",
            "-----\n",
            "\n"
          ]
        }
      ]
    },
    {
      "cell_type": "markdown",
      "source": [
        "## Creating Validation dataset from test dataset"
      ],
      "metadata": {
        "id": "ISIjXiu-4nQt"
      }
    },
    {
      "cell_type": "code",
      "source": [
        "len(train_shuffled), len(test)"
      ],
      "metadata": {
        "colab": {
          "base_uri": "https://localhost:8080/"
        },
        "id": "mwS3xkPT7HfP",
        "outputId": "64464f03-af57-4720-a24c-ea0885b8020d"
      },
      "execution_count": 14,
      "outputs": [
        {
          "output_type": "execute_result",
          "data": {
            "text/plain": [
              "(7613, 3263)"
            ]
          },
          "metadata": {},
          "execution_count": 14
        }
      ]
    },
    {
      "cell_type": "code",
      "source": [
        "from sklearn.model_selection import train_test_split"
      ],
      "metadata": {
        "id": "2UiK7h0P7v7R"
      },
      "execution_count": 15,
      "outputs": []
    },
    {
      "cell_type": "code",
      "source": [
        "train_sentences, val_sentences, train_labels, val_labels= train_test_split(train_shuffled['text'].to_numpy(), train_shuffled['target'].to_numpy(), test_size=0.1, random_state=22)"
      ],
      "metadata": {
        "id": "OIGRthah77os"
      },
      "execution_count": 16,
      "outputs": []
    },
    {
      "cell_type": "code",
      "source": [
        "len(train_sentences), len(val_sentences), len(train_labels), len(val_labels)"
      ],
      "metadata": {
        "colab": {
          "base_uri": "https://localhost:8080/"
        },
        "id": "NVKgfiCt8OEO",
        "outputId": "8065560a-6251-4624-ee4d-a1ddca7c2d03"
      },
      "execution_count": 17,
      "outputs": [
        {
          "output_type": "execute_result",
          "data": {
            "text/plain": [
              "(6851, 762, 6851, 762)"
            ]
          },
          "metadata": {},
          "execution_count": 17
        }
      ]
    },
    {
      "cell_type": "code",
      "source": [
        "6851 + 762"
      ],
      "metadata": {
        "colab": {
          "base_uri": "https://localhost:8080/"
        },
        "id": "6Ggrcdn78TFw",
        "outputId": "a1d16f80-01e7-46ac-c234-5fcc2a9bb94d"
      },
      "execution_count": 18,
      "outputs": [
        {
          "output_type": "execute_result",
          "data": {
            "text/plain": [
              "7613"
            ]
          },
          "metadata": {},
          "execution_count": 18
        }
      ]
    },
    {
      "cell_type": "code",
      "source": [
        "train_sentences[:10], train_labels[:10]"
      ],
      "metadata": {
        "colab": {
          "base_uri": "https://localhost:8080/"
        },
        "id": "XhzPhSu-8XQO",
        "outputId": "1801f46a-41ac-4370-a9e6-12d295e4b37d"
      },
      "execution_count": 19,
      "outputs": [
        {
          "output_type": "execute_result",
          "data": {
            "text/plain": [
              "(array([\"RT @GreenHarvard: Documenting climate change's first major casualty http://t.co/4q4zd7oU34 via @GreenHarvard\",\n",
              "        '#Colorado #News Motorcyclist bicyclist injured in Denver collision on Broadway: At least two people were tak... http://t.co/2iAFPmqJeP',\n",
              "        \"Wreckage 'Conclusively Confirmed' as From MH370: Malaysia PM: Investigators and the families of those who were... http://t.co/VAZpG0ftmU\",\n",
              "        'HURRICANE GUILLERMO LIVE NOAA TRACKING / LOOPING WED.AUG.5TH ~ http://t.co/RjopJKbydR ~  http://t.co/NUFDgw9YEv http://t.co/2oKSCwYoHC',\n",
              "        '@morehouse64 It appears our #Govt has lost an #Ethical and or moral relevance. This means the whole #USA population is in danger from them.',\n",
              "        'Hijacking Electric Skateboards to Make Them SaferåÊ | @scoopit http://t.co/ihInj3eNQi',\n",
              "        '@bre_morrow neither of them even smoke so I dk what was going on lol',\n",
              "        'Ahrar Al Sham: In our negotiations with Iran over Al Zabadani they wanted all Sunnis evacuated out of Al Zabadani!',\n",
              "        'Tracy Blight Thank you for following me!!',\n",
              "        'Motorcyclist bicyclist injured in Denver collision on Broadway: At least two people were taken to a local\\x89Û_ http://t.co/2aCRGdqhJ0'],\n",
              "       dtype=object), array([1, 1, 1, 1, 0, 0, 0, 0, 0, 1]))"
            ]
          },
          "metadata": {},
          "execution_count": 19
        }
      ]
    },
    {
      "cell_type": "markdown",
      "source": [
        "\n",
        "## Converting text into numbers\n",
        "\n",
        "> When dealing with a text problem, one of the first things you'll have to do before you can build a model is to convert your text to numbers.\n",
        "\n",
        "* Tokenziation - direct mapping of token (a token could be a word or a character) to number\n",
        "* Embedding - create a matrix of feature vector for each token (the size of the feature vector can be defined and this embedding can be learned)\n",
        "\n"
      ],
      "metadata": {
        "id": "4dVZA5Ah8e_m"
      }
    },
    {
      "cell_type": "markdown",
      "source": [
        "### Text Vectorization(Tokenization)\n",
        "\n",
        "**Docs** -> https://www.tensorflow.org/api_docs/python/tf/keras/layers/TextVectorization"
      ],
      "metadata": {
        "id": "wsuoJXva_442"
      }
    },
    {
      "cell_type": "code",
      "source": [
        "import tensorflow as tf\n",
        "from tensorflow.keras.layers import TextVectorization"
      ],
      "metadata": {
        "id": "xgdiiLnCA6fE"
      },
      "execution_count": 20,
      "outputs": []
    },
    {
      "cell_type": "markdown",
      "source": [
        "## Error With `TextVectorization`\n",
        "\n",
        "![image.png](data:image/png;base64,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)"
      ],
      "metadata": {
        "id": "JJEuO8WBJgz0"
      }
    },
    {
      "cell_type": "code",
      "source": [
        "text_vectorizer= TextVectorization(\n",
        "    max_tokens= 10000, # Counts of words in the vocabulary\n",
        "    standardize=\"lower_and_strip_punctuation\",  \n",
        "    split=\"whitespace\", \n",
        "    ngrams=None, # Create groups of words?\n",
        "    output_mode=\"int\", # Mapping the tokens to numbers\n",
        "    output_sequence_length= None, # The lenght of the sequences we want?\n",
        "    pad_to_max_tokens= True,\n",
        ")"
      ],
      "metadata": {
        "id": "qS_CuaWOFqaf"
      },
      "execution_count": 21,
      "outputs": []
    },
    {
      "cell_type": "code",
      "source": [
        "text_vectorizer"
      ],
      "metadata": {
        "colab": {
          "base_uri": "https://localhost:8080/"
        },
        "id": "fPV8_6ZUH-Tm",
        "outputId": "c5b434a5-84aa-4d04-d710-2fa25a55973c"
      },
      "execution_count": 22,
      "outputs": [
        {
          "output_type": "execute_result",
          "data": {
            "text/plain": [
              "<keras.layers.preprocessing.text_vectorization.TextVectorization at 0x7fe319e64ed0>"
            ]
          },
          "metadata": {},
          "execution_count": 22
        }
      ]
    },
    {
      "cell_type": "markdown",
      "source": [
        "### Average number of tokens(words) in the training tweets"
      ],
      "metadata": {
        "id": "Ne1i71B6LC2d"
      }
    },
    {
      "cell_type": "code",
      "source": [
        "avg= round(sum([len(i.split()) for i in train_sentences])/len(train_sentences))\n",
        "avg"
      ],
      "metadata": {
        "colab": {
          "base_uri": "https://localhost:8080/"
        },
        "id": "nj64qQu_Lp4-",
        "outputId": "7e5e4f57-b982-4ffc-b7c4-a3357c3d2f27"
      },
      "execution_count": 23,
      "outputs": [
        {
          "output_type": "execute_result",
          "data": {
            "text/plain": [
              "15"
            ]
          },
          "metadata": {},
          "execution_count": 23
        }
      ]
    },
    {
      "cell_type": "code",
      "source": [
        "max_vocab_length= 10000 # Max. number of words to have in our vocabulary\n",
        "max_length= avg # Max. length our sequences will be.\n",
        "\n",
        "text_vectorizer= TextVectorization(\n",
        "    max_tokens= max_vocab_length,\n",
        "    output_mode= \"int\",\n",
        "    output_sequence_length= max_length,\n",
        ")"
      ],
      "metadata": {
        "id": "S_4CfhZyL0lY"
      },
      "execution_count": 24,
      "outputs": []
    },
    {
      "cell_type": "markdown",
      "source": [
        "## Mapping `TextVectorization` to text data and turning it into numbers"
      ],
      "metadata": {
        "id": "1N4jpfxvM6HU"
      }
    },
    {
      "cell_type": "code",
      "source": [
        "train_sentences"
      ],
      "metadata": {
        "colab": {
          "base_uri": "https://localhost:8080/"
        },
        "id": "h_yazJcd3lI2",
        "outputId": "e043a85b-1e30-4ef9-dc55-079f6463e5ec"
      },
      "execution_count": 25,
      "outputs": [
        {
          "output_type": "execute_result",
          "data": {
            "text/plain": [
              "array([\"RT @GreenHarvard: Documenting climate change's first major casualty http://t.co/4q4zd7oU34 via @GreenHarvard\",\n",
              "       '#Colorado #News Motorcyclist bicyclist injured in Denver collision on Broadway: At least two people were tak... http://t.co/2iAFPmqJeP',\n",
              "       \"Wreckage 'Conclusively Confirmed' as From MH370: Malaysia PM: Investigators and the families of those who were... http://t.co/VAZpG0ftmU\",\n",
              "       ...,\n",
              "       \"'the fallacy is it is up to the steam roller. It's up to the object whether it will be flattened or not.' #RobertCalifornia #thereisonlysex\",\n",
              "       'The Pak terrorist who has been caught alive must be tried fast not delayed as KasabWe must send very hard message to Pak instead of Biryani',\n",
              "       \"For those that were interested in the gun powder art discussed at the end of 'Introduction to Theological Aesthetic' http://t.co/BZ3iR4GMWj\"],\n",
              "      dtype=object)"
            ]
          },
          "metadata": {},
          "execution_count": 25
        }
      ]
    },
    {
      "cell_type": "code",
      "source": [
        "text_vectorizer.adapt(train_sentences)"
      ],
      "metadata": {
        "id": "sh7b3csx3P3D"
      },
      "execution_count": 26,
      "outputs": []
    },
    {
      "cell_type": "markdown",
      "source": [
        "## Sample Sentence and tokenize it"
      ],
      "metadata": {
        "id": "LhPlpe4Y4B8z"
      }
    },
    {
      "cell_type": "code",
      "source": [
        "sample_sentence= 'There is a hurrican coming towards my city'\n",
        "text_vectorizer([sample_sentence])"
      ],
      "metadata": {
        "colab": {
          "base_uri": "https://localhost:8080/"
        },
        "id": "BqsV1SXi3n3_",
        "outputId": "e9425aa3-90f6-4ff2-f085-78757b311809"
      },
      "execution_count": 28,
      "outputs": [
        {
          "output_type": "execute_result",
          "data": {
            "text/plain": [
              "<tf.Tensor: shape=(1, 15), dtype=int64, numpy=\n",
              "array([[  76,    9,    3,    1,  222, 2644,   13,  185,    0,    0,    0,\n",
              "           0,    0,    0,    0]])>"
            ]
          },
          "metadata": {},
          "execution_count": 28
        }
      ]
    },
    {
      "cell_type": "markdown",
      "source": [
        "## Choosing random sentences from training data"
      ],
      "metadata": {
        "id": "WuquURvb4GDf"
      }
    },
    {
      "cell_type": "code",
      "source": [
        "random_sentence= random.choice(train_sentences)\n",
        "print(f\"Original: {random_sentence}\\n\")\n",
        "vectorized_sentence= text_vectorizer([random_sentence])\n",
        "print(f\"Vectorized: {vectorized_sentence}\")"
      ],
      "metadata": {
        "colab": {
          "base_uri": "https://localhost:8080/"
        },
        "id": "AGaDTUjJ4Z-x",
        "outputId": "ff5c03f1-65de-47f6-9e63-779351cb5f28"
      },
      "execution_count": 32,
      "outputs": [
        {
          "output_type": "stream",
          "name": "stdout",
          "text": [
            "Original: @Bonn1eGreer The Angel of History propelled into the future by the winds of progress leaves in its wake piles of death and destruction. WB\n",
            "\n",
            "Vectorized: [[   1    2 1939    6  703 9568   66    2 1418   18    2 1086    6 2034\n",
            "  3686]]\n"
          ]
        }
      ]
    },
    {
      "cell_type": "markdown",
      "source": [
        "## Unique words in the vocabulary"
      ],
      "metadata": {
        "id": "Weixfw9J5Luv"
      }
    },
    {
      "cell_type": "code",
      "source": [
        "common_words= text_vectorizer.get_vocabulary()\n",
        "common_words"
      ],
      "metadata": {
        "colab": {
          "base_uri": "https://localhost:8080/"
        },
        "id": "lklcqV0A4sAS",
        "outputId": "18e5a363-68e5-4a93-c706-4939d3cf3a7c"
      },
      "execution_count": 37,
      "outputs": [
        {
          "output_type": "execute_result",
          "data": {
            "text/plain": [
              "['',\n",
              " '[UNK]',\n",
              " 'the',\n",
              " 'a',\n",
              " 'in',\n",
              " 'to',\n",
              " 'of',\n",
              " 'and',\n",
              " 'i',\n",
              " 'is',\n",
              " 'for',\n",
              " 'on',\n",
              " 'you',\n",
              " 'my',\n",
              " 'with',\n",
              " 'it',\n",
              " 'that',\n",
              " 'at',\n",
              " 'by',\n",
              " 'this',\n",
              " 'from',\n",
              " 'are',\n",
              " 'be',\n",
              " 'was',\n",
              " 'have',\n",
              " 'like',\n",
              " 'me',\n",
              " 'up',\n",
              " 'but',\n",
              " 'so',\n",
              " 'just',\n",
              " 'as',\n",
              " 'amp',\n",
              " 'im',\n",
              " 'not',\n",
              " 'your',\n",
              " 'out',\n",
              " 'its',\n",
              " 'after',\n",
              " 'an',\n",
              " 'will',\n",
              " 'all',\n",
              " 'no',\n",
              " 'fire',\n",
              " 'has',\n",
              " 'when',\n",
              " 'if',\n",
              " 'we',\n",
              " 'get',\n",
              " 'now',\n",
              " 'new',\n",
              " 'via',\n",
              " 'more',\n",
              " 'or',\n",
              " 'about',\n",
              " 'they',\n",
              " 'people',\n",
              " 'dont',\n",
              " 'what',\n",
              " 'news',\n",
              " 'he',\n",
              " 'over',\n",
              " 'one',\n",
              " 'how',\n",
              " 'been',\n",
              " 'who',\n",
              " 'into',\n",
              " 'were',\n",
              " 'can',\n",
              " 'video',\n",
              " 'do',\n",
              " 'us',\n",
              " 'emergency',\n",
              " '2',\n",
              " 'disaster',\n",
              " 'than',\n",
              " 'there',\n",
              " 'would',\n",
              " 'police',\n",
              " 'his',\n",
              " 'her',\n",
              " 'still',\n",
              " 'some',\n",
              " 'burning',\n",
              " 'body',\n",
              " 'back',\n",
              " 'off',\n",
              " 'california',\n",
              " 'crash',\n",
              " 'buildings',\n",
              " 'why',\n",
              " 'storm',\n",
              " 'day',\n",
              " 'time',\n",
              " 'know',\n",
              " 'man',\n",
              " 'them',\n",
              " 'suicide',\n",
              " 'rt',\n",
              " 'going',\n",
              " 'had',\n",
              " 'got',\n",
              " 'first',\n",
              " 'see',\n",
              " 'nuclear',\n",
              " 'world',\n",
              " 'two',\n",
              " 'our',\n",
              " 'cant',\n",
              " 'bomb',\n",
              " '3',\n",
              " 'fires',\n",
              " 'youtube',\n",
              " 'attack',\n",
              " 'love',\n",
              " 'go',\n",
              " 'dead',\n",
              " 'being',\n",
              " 'train',\n",
              " 'war',\n",
              " 'car',\n",
              " 'life',\n",
              " 'killed',\n",
              " 'down',\n",
              " 'accident',\n",
              " 'today',\n",
              " 'their',\n",
              " 'may',\n",
              " 'think',\n",
              " 'only',\n",
              " 'families',\n",
              " 'watch',\n",
              " 'hiroshima',\n",
              " 'say',\n",
              " 'full',\n",
              " 'many',\n",
              " 'did',\n",
              " 'could',\n",
              " 'u',\n",
              " 'here',\n",
              " 'good',\n",
              " 'last',\n",
              " 'home',\n",
              " 'years',\n",
              " 'collapse',\n",
              " 'then',\n",
              " 'want',\n",
              " 'too',\n",
              " 'really',\n",
              " 'because',\n",
              " 'work',\n",
              " 'wildfire',\n",
              " 'make',\n",
              " 'look',\n",
              " 'him',\n",
              " 'way',\n",
              " 'mass',\n",
              " 'lol',\n",
              " 'am',\n",
              " 'please',\n",
              " 'take',\n",
              " 'help',\n",
              " 'best',\n",
              " 'need',\n",
              " 'even',\n",
              " 'death',\n",
              " 'right',\n",
              " 'year',\n",
              " 'army',\n",
              " 'another',\n",
              " '4',\n",
              " 'those',\n",
              " 'pm',\n",
              " 'should',\n",
              " 'obama',\n",
              " 'never',\n",
              " 'let',\n",
              " 'legionnaires',\n",
              " 'youre',\n",
              " 'wreck',\n",
              " 'she',\n",
              " 'school',\n",
              " 'northern',\n",
              " 'mh370',\n",
              " 'hot',\n",
              " 'city',\n",
              " 'bombing',\n",
              " '2015',\n",
              " 'water',\n",
              " 'homes',\n",
              " 'fatal',\n",
              " 'black',\n",
              " '1',\n",
              " '\\x89Û',\n",
              " 'forest',\n",
              " 'latest',\n",
              " 'great',\n",
              " 'god',\n",
              " 'fear',\n",
              " 'any',\n",
              " 'thats',\n",
              " 'shit',\n",
              " 'much',\n",
              " 'come',\n",
              " 'under',\n",
              " 'old',\n",
              " '5',\n",
              " 'flood',\n",
              " 'flames',\n",
              " 'every',\n",
              " 'while',\n",
              " 'said',\n",
              " 'live',\n",
              " 'everyone',\n",
              " 'bomber',\n",
              " 'atomic',\n",
              " 'where',\n",
              " 'weather',\n",
              " 'near',\n",
              " 'getting',\n",
              " 'feel',\n",
              " 'ever',\n",
              " 'coming',\n",
              " 'read',\n",
              " 'next',\n",
              " 'floods',\n",
              " 'during',\n",
              " 'ass',\n",
              " 'these',\n",
              " 'severe',\n",
              " 'plan',\n",
              " 'night',\n",
              " 'most',\n",
              " 'hope',\n",
              " 'evacuation',\n",
              " 'earthquake',\n",
              " 'content',\n",
              " 'before',\n",
              " 'well',\n",
              " 'top',\n",
              " 'military',\n",
              " 'injured',\n",
              " 'damage',\n",
              " 'which',\n",
              " 'truck',\n",
              " 'theres',\n",
              " 'set',\n",
              " 'malaysia',\n",
              " 'little',\n",
              " 'japan',\n",
              " 'flooding',\n",
              " 'face',\n",
              " 'wounded',\n",
              " 'without',\n",
              " 'thunderstorm',\n",
              " 'through',\n",
              " 'stop',\n",
              " 's',\n",
              " 'hit',\n",
              " 'found',\n",
              " 'warning',\n",
              " 'since',\n",
              " 'oil',\n",
              " 'looks',\n",
              " 'cross',\n",
              " 'confirmed',\n",
              " 'cause',\n",
              " 'weapons',\n",
              " 'times',\n",
              " 'state',\n",
              " 'smoke',\n",
              " 'heat',\n",
              " 'fucking',\n",
              " 'fall',\n",
              " 'debris',\n",
              " 'check',\n",
              " 'bags',\n",
              " 'sinking',\n",
              " 'movie',\n",
              " 'loud',\n",
              " 'house',\n",
              " 'free',\n",
              " 'food',\n",
              " 'collided',\n",
              " 'bad',\n",
              " 'wild',\n",
              " 'weapon',\n",
              " 'w',\n",
              " 'until',\n",
              " 'thunder',\n",
              " 'says',\n",
              " 'injuries',\n",
              " 'high',\n",
              " 'boy',\n",
              " 'bloody',\n",
              " 'whole',\n",
              " 'save',\n",
              " 'rescue',\n",
              " 'reddit',\n",
              " 'made',\n",
              " 'liked',\n",
              " 'hes',\n",
              " 'failure',\n",
              " 'evacuate',\n",
              " 'blood',\n",
              " 'also',\n",
              " 'again',\n",
              " 'wind',\n",
              " 'terrorist',\n",
              " 'summer',\n",
              " 'sinkhole',\n",
              " 'services',\n",
              " 'screaming',\n",
              " 'run',\n",
              " 'outbreak',\n",
              " 'murder',\n",
              " 'does',\n",
              " 'destroy',\n",
              " 'derailment',\n",
              " 'always',\n",
              " 'air',\n",
              " 'twister',\n",
              " 'survive',\n",
              " 'rain',\n",
              " 'photo',\n",
              " 'natural',\n",
              " 'lightning',\n",
              " 'ive',\n",
              " 'head',\n",
              " 'girl',\n",
              " 'family',\n",
              " 'end',\n",
              " 'change',\n",
              " 'bridge',\n",
              " 'around',\n",
              " 'wrecked',\n",
              " 'trapped',\n",
              " 'structural',\n",
              " 'story',\n",
              " 'sandstorm',\n",
              " 'ruin',\n",
              " 'road',\n",
              " 'refugees',\n",
              " 'migrants',\n",
              " 'hurricane',\n",
              " 'gonna',\n",
              " 'explosion',\n",
              " 'explode',\n",
              " 'deaths',\n",
              " 'call',\n",
              " 'bag',\n",
              " '70',\n",
              " 'wreckage',\n",
              " 'white',\n",
              " 'whirlwind',\n",
              " 'survived',\n",
              " 'spill',\n",
              " 'saw',\n",
              " 'report',\n",
              " 'real',\n",
              " 'injury',\n",
              " 'ill',\n",
              " 'hail',\n",
              " 'fuck',\n",
              " 'dust',\n",
              " 'destruction',\n",
              " 'destroyed',\n",
              " 'cliff',\n",
              " 'bus',\n",
              " 'burned',\n",
              " 'breaking',\n",
              " 'big',\n",
              " 'away',\n",
              " 'attacked',\n",
              " 'armageddon',\n",
              " 'ambulance',\n",
              " '40',\n",
              " 'update',\n",
              " 'tonight',\n",
              " 'someone',\n",
              " 'show',\n",
              " 'riot',\n",
              " 'post',\n",
              " 'phone',\n",
              " 'panic',\n",
              " 'ok',\n",
              " 'missing',\n",
              " 'lives',\n",
              " 'landslide',\n",
              " 'keep',\n",
              " 'hostages',\n",
              " 'hazardous',\n",
              " 'game',\n",
              " 'fatalities',\n",
              " 'derail',\n",
              " 'curfew',\n",
              " 'crashed',\n",
              " 'charged',\n",
              " 'better',\n",
              " 'airplane',\n",
              " 'against',\n",
              " 'woman',\n",
              " 'trauma',\n",
              " 'things',\n",
              " 'thing',\n",
              " 'terrorism',\n",
              " 'rioting',\n",
              " 'rescuers',\n",
              " 'rescued',\n",
              " 'red',\n",
              " 'put',\n",
              " 'power',\n",
              " 'other',\n",
              " 'oh',\n",
              " 'mudslide',\n",
              " 'kills',\n",
              " 'island',\n",
              " 'investigators',\n",
              " 'heard',\n",
              " 'hazard',\n",
              " 'harm',\n",
              " 'electrocuted',\n",
              " 'devastation',\n",
              " 'deluge',\n",
              " 'danger',\n",
              " 'crush',\n",
              " 'came',\n",
              " 'bombed',\n",
              " 'area',\n",
              " 'apocalypse',\n",
              " 'women',\n",
              " 'windstorm',\n",
              " 'week',\n",
              " 'service',\n",
              " 'screamed',\n",
              " 'released',\n",
              " 'quarantine',\n",
              " 'past',\n",
              " 'lava',\n",
              " 'drowning',\n",
              " 'drought',\n",
              " 'displaced',\n",
              " 'catastrophic',\n",
              " 'catastrophe',\n",
              " 'boat',\n",
              " 'august',\n",
              " '15',\n",
              " 'went',\n",
              " 'wave',\n",
              " 'wanna',\n",
              " 'violent',\n",
              " 'very',\n",
              " 'traumatised',\n",
              " 'tragedy',\n",
              " 'traffic',\n",
              " 'suspect',\n",
              " 'survivors',\n",
              " 'sure',\n",
              " 'something',\n",
              " 'saudi',\n",
              " 'quarantined',\n",
              " 'possible',\n",
              " 'part',\n",
              " 'panicking',\n",
              " 'national',\n",
              " 'long',\n",
              " 'least',\n",
              " 'inundated',\n",
              " 'hundreds',\n",
              " 'hostage',\n",
              " 'hijacker',\n",
              " 'heart',\n",
              " 'famine',\n",
              " 'desolation',\n",
              " 'collapsed',\n",
              " 'blown',\n",
              " 'bang',\n",
              " 'affected',\n",
              " 'sunk',\n",
              " 'soon',\n",
              " 'screams',\n",
              " 'razed',\n",
              " 'pandemonium',\n",
              " 'minute',\n",
              " 'massacre',\n",
              " 'lot',\n",
              " 'left',\n",
              " 'horrible',\n",
              " 'group',\n",
              " 'engulfed',\n",
              " 'derailed',\n",
              " 'demolish',\n",
              " 'county',\n",
              " 'collide',\n",
              " 'casualties',\n",
              " 'blew',\n",
              " 'anniversary',\n",
              " 'airport',\n",
              " 'zone',\n",
              " 'yet',\n",
              " 'wounds',\n",
              " 'twitter',\n",
              " 'tsunami',\n",
              " 'trouble',\n",
              " 'stock',\n",
              " 'stay',\n",
              " 'sirens',\n",
              " 'must',\n",
              " 'meltdown',\n",
              " 'land',\n",
              " 'issues',\n",
              " 'isis',\n",
              " 'iran',\n",
              " 'hijacking',\n",
              " 'fedex',\n",
              " 'exploded',\n",
              " 'detonate',\n",
              " 'crushed',\n",
              " 'cool',\n",
              " 'chemical',\n",
              " 'bleeding',\n",
              " 'blast',\n",
              " 'baby',\n",
              " 'annihilated',\n",
              " 'use',\n",
              " 'typhoon',\n",
              " 'tornado',\n",
              " 'tomorrow',\n",
              " 'thought',\n",
              " 'thank',\n",
              " 'send',\n",
              " 'security',\n",
              " 'river',\n",
              " 'responders',\n",
              " 'officer',\n",
              " 'obliteration',\n",
              " 'obliterated',\n",
              " 'obliterate',\n",
              " 'murderer',\n",
              " 'lets',\n",
              " 'id',\n",
              " 'half',\n",
              " 'government',\n",
              " 'goes',\n",
              " 'flattened',\n",
              " 'evacuated',\n",
              " 'electrocute',\n",
              " 'ebay',\n",
              " 'drowned',\n",
              " 'done',\n",
              " 'detonation',\n",
              " 'care',\n",
              " 'bioterror',\n",
              " 'beautiful',\n",
              " '\\x89ÛÒ',\n",
              " 'three',\n",
              " 'thanks',\n",
              " 'shoulder',\n",
              " 'shooting',\n",
              " 'seismic',\n",
              " 'reunion',\n",
              " 'remember',\n",
              " 'plane',\n",
              " 'officials',\n",
              " 'nothing',\n",
              " 'mosque',\n",
              " 'light',\n",
              " 'kill',\n",
              " 'kids',\n",
              " 'india',\n",
              " 'guys',\n",
              " 'fatality',\n",
              " 'due',\n",
              " 'drown',\n",
              " 'didnt',\n",
              " 'demolition',\n",
              " 'demolished',\n",
              " 'collision',\n",
              " 'caused',\n",
              " 'calgary',\n",
              " 'building',\n",
              " 'battle',\n",
              " 'ablaze',\n",
              " '8',\n",
              " 'wait',\n",
              " 'volcano',\n",
              " 'used',\n",
              " 'swallowed',\n",
              " 'sue',\n",
              " 'start',\n",
              " 'st',\n",
              " 'song',\n",
              " 'site',\n",
              " 'prebreak',\n",
              " 'pkk',\n",
              " 'person',\n",
              " 'nearby',\n",
              " 'market',\n",
              " 'making',\n",
              " 'longer',\n",
              " 'leave',\n",
              " 'israeli',\n",
              " 'inside',\n",
              " 'hijack',\n",
              " 'having',\n",
              " 'gets',\n",
              " 'fun',\n",
              " 'far',\n",
              " 'eyewitness',\n",
              " 'doing',\n",
              " 'detonated',\n",
              " 'already',\n",
              " '9',\n",
              " '6',\n",
              " 'yes',\n",
              " 'whats',\n",
              " 'wake',\n",
              " 'ur',\n",
              " 'sound',\n",
              " 'same',\n",
              " 'rainstorm',\n",
              " 'policy',\n",
              " 'plans',\n",
              " 'outside',\n",
              " 'men',\n",
              " 'media',\n",
              " 'hell',\n",
              " 'fan',\n",
              " 'declares',\n",
              " 'days',\n",
              " 'cyclone',\n",
              " 'bush',\n",
              " 'blight',\n",
              " 'blazing',\n",
              " 'arson',\n",
              " 'almost',\n",
              " 'actually',\n",
              " '20',\n",
              " '\\x89ÛÓ',\n",
              " 'yourself',\n",
              " 'words',\n",
              " 'watching',\n",
              " 'turkey',\n",
              " 'support',\n",
              " 'south',\n",
              " 'snowstorm',\n",
              " 'siren',\n",
              " 'play',\n",
              " 'nowplaying',\n",
              " 'north',\n",
              " 'music',\n",
              " 'islam',\n",
              " 'hear',\n",
              " 'health',\n",
              " 'fight',\n",
              " 'few',\n",
              " 'brown',\n",
              " 'both',\n",
              " 'bagging',\n",
              " 'avalanche',\n",
              " 'abc',\n",
              " '7',\n",
              " 'typhoondevastated',\n",
              " 'trying',\n",
              " 'tell',\n",
              " 'stretcher',\n",
              " 'second',\n",
              " 'saipan',\n",
              " 'rubble',\n",
              " 're\\x89Û',\n",
              " 'photos',\n",
              " 'memories',\n",
              " 'lab',\n",
              " 'horror',\n",
              " 'hellfire',\n",
              " 'doesnt',\n",
              " 'died',\n",
              " 'bar',\n",
              " 'american',\n",
              " 'ago',\n",
              " '16yr',\n",
              " 'yeah',\n",
              " 'wont',\n",
              " 'west',\n",
              " 'upheaval',\n",
              " 'tv',\n",
              " 'trains',\n",
              " 'such',\n",
              " 'street',\n",
              " 'searching',\n",
              " 'saved',\n",
              " 'reactor',\n",
              " 'place',\n",
              " 'peace',\n",
              " 'own',\n",
              " 'order',\n",
              " 'n',\n",
              " 'mp',\n",
              " 'move',\n",
              " 'money',\n",
              " 'maybe',\n",
              " 'line',\n",
              " 'hours',\n",
              " 'history',\n",
              " 'helicopter',\n",
              " 'feeling',\n",
              " 'die',\n",
              " 'deluged',\n",
              " 'deal',\n",
              " 'd',\n",
              " 'crews',\n",
              " 'conclusively',\n",
              " 'book',\n",
              " 'bc',\n",
              " 'anything',\n",
              " '30',\n",
              " 'youth',\n",
              " 'waves',\n",
              " 'shot',\n",
              " 'seen',\n",
              " 'reuters',\n",
              " 'pretty',\n",
              " 'pick',\n",
              " 'others',\n",
              " 'online',\n",
              " 'okay',\n",
              " 'myself',\n",
              " 'manslaughter',\n",
              " 'major',\n",
              " 'low',\n",
              " 'literally',\n",
              " 'la',\n",
              " 'huge',\n",
              " 'giant',\n",
              " 'find',\n",
              " 'finally',\n",
              " 'everything',\n",
              " 'desolate',\n",
              " 'data',\n",
              " 'crisis',\n",
              " 'class',\n",
              " 'children',\n",
              " 'child',\n",
              " 'case',\n",
              " 'business',\n",
              " 'anyone',\n",
              " 'annihilation',\n",
              " 'amid',\n",
              " 'aircraft',\n",
              " 'wrong',\n",
              " 'united',\n",
              " 'transport',\n",
              " 'theyre',\n",
              " 't',\n",
              " 'stand',\n",
              " 'soudelor',\n",
              " 'signs',\n",
              " 'side',\n",
              " 'shes',\n",
              " 'rise',\n",
              " 'probably',\n",
              " 'poor',\n",
              " 'pic',\n",
              " 'pakistan',\n",
              " 'omg',\n",
              " 'nearly',\n",
              " 'makes',\n",
              " 'lost',\n",
              " 'lord',\n",
              " 'level',\n",
              " 'hate',\n",
              " 'hard',\n",
              " 'happy',\n",
              " 'eyes',\n",
              " 'east',\n",
              " 'damn',\n",
              " 'daily',\n",
              " 'center',\n",
              " 'caught',\n",
              " 'casualty',\n",
              " 'called',\n",
              " 'bodies',\n",
              " 'bioterrorism',\n",
              " 'bigger',\n",
              " 'bestnaijamade',\n",
              " 'believe',\n",
              " 'across',\n",
              " '50',\n",
              " '12',\n",
              " 'win',\n",
              " 'village',\n",
              " 'usa',\n",
              " 'truth',\n",
              " 'town',\n",
              " 'texas',\n",
              " 'team',\n",
              " 'taken',\n",
              " 'ship',\n",
              " 'russian',\n",
              " 'picking',\n",
              " 'official',\n",
              " 'needs',\n",
              " 'name',\n",
              " 'might',\n",
              " 'm',\n",
              " 'hollywood',\n",
              " 'hey',\n",
              " 'happened',\n",
              " 'hailstorm',\n",
              " 'gbbo',\n",
              " 'fukushima',\n",
              " 'friends',\n",
              " 'flash',\n",
              " 'flag',\n",
              " 'crazy',\n",
              " 'country',\n",
              " 'control',\n",
              " 'closed',\n",
              " 'china',\n",
              " 'cars',\n",
              " 'blaze',\n",
              " 'ball',\n",
              " 'b',\n",
              " 'aug',\n",
              " 'angry',\n",
              " 'america',\n",
              " '11yearold',\n",
              " 'worst',\n",
              " 'womens',\n",
              " 'view',\n",
              " 'trust',\n",
              " 'trench',\n",
              " 'totally',\n",
              " 'till',\n",
              " 'takes',\n",
              " 'spot',\n",
              " 'space',\n",
              " 'self',\n",
              " 'reason',\n",
              " 'rd',\n",
              " 'projected',\n",
              " 'pay',\n",
              " 'pain',\n",
              " 'once',\n",
              " 'offensive',\n",
              " 'mph',\n",
              " 'morning',\n",
              " 'mom',\n",
              " 'miners',\n",
              " 'mayhem',\n",
              " 'looking',\n",
              " 'listen',\n",
              " 'leather',\n",
              " 'learn',\n",
              " 'jobs',\n",
              " 'job',\n",
              " 'issued',\n",
              " 'houses',\n",
              " 'hat',\n",
              " 'global',\n",
              " 'friend',\n",
              " 'feared',\n",
              " 'effect',\n",
              " 'drive',\n",
              " 'disea',\n",
              " 'devastated',\n",
              " 'course',\n",
              " 'climate',\n",
              " 'centre',\n",
              " 'become',\n",
              " 'bbc',\n",
              " 'appears',\n",
              " 'alone',\n",
              " 'aint',\n",
              " 'aftershock',\n",
              " '60',\n",
              " '11',\n",
              " 'wow',\n",
              " 'wonder',\n",
              " 'vs',\n",
              " 'virgin',\n",
              " 'vehicle',\n",
              " 'turn',\n",
              " 'try',\n",
              " 'toddler',\n",
              " 'thursday',\n",
              " 'thousands',\n",
              " 'though',\n",
              " 'temple',\n",
              " 'sounds',\n",
              " 'sorry',\n",
              " 'refugio',\n",
              " 'radio',\n",
              " 'public',\n",
              " 'pradesh',\n",
              " 'moment',\n",
              " 'madhya',\n",
              " 'mad',\n",
              " 'link',\n",
              " 'knock',\n",
              " 'ignition',\n",
              " 'heavy',\n",
              " 'haha',\n",
              " 'guy',\n",
              " 'favorite',\n",
              " 'experts',\n",
              " 'else',\n",
              " 'downtown',\n",
              " 'download',\n",
              " 'declaration',\n",
              " 'couple',\n",
              " 'costlier',\n",
              " 'coaches',\n",
              " 'cnn',\n",
              " 'christian',\n",
              " 'chance',\n",
              " 'camp',\n",
              " 'cake',\n",
              " 'british',\n",
              " 'banned',\n",
              " 'anthrax',\n",
              " '25',\n",
              " '10',\n",
              " 'york',\n",
              " 'working',\n",
              " 'wanted',\n",
              " 'true',\n",
              " 'thinking',\n",
              " 'talk',\n",
              " 'sign',\n",
              " 'seeing',\n",
              " 'scared',\n",
              " 'russia',\n",
              " 'running',\n",
              " 'room',\n",
              " 'ready',\n",
              " 'r',\n",
              " 'property',\n",
              " 'patience',\n",
              " 'parole',\n",
              " 'park',\n",
              " 'outrage',\n",
              " 'nagasaki',\n",
              " 'myanmar',\n",
              " 'muslims',\n",
              " 'mount',\n",
              " 'mop',\n",
              " 'mishaps',\n",
              " 'middle',\n",
              " 'meek',\n",
              " 'large',\n",
              " 'isnt',\n",
              " 'instead',\n",
              " 'holding',\n",
              " 'gt',\n",
              " 'front',\n",
              " 'france',\n",
              " 'four',\n",
              " 'former',\n",
              " 'following',\n",
              " 'follow',\n",
              " 'film',\n",
              " 'fast',\n",
              " 'eye',\n",
              " 'entire',\n",
              " 'ebola',\n",
              " 'driver',\n",
              " 'computers',\n",
              " 'blue',\n",
              " 'blizzard',\n",
              " 'biggest',\n",
              " 'bed',\n",
              " 'beach',\n",
              " 'arsonist',\n",
              " 'ancient',\n",
              " 'action',\n",
              " 'yours',\n",
              " 'young',\n",
              " 'worse',\n",
              " 'upon',\n",
              " 'unconfirmed',\n",
              " 'tweet',\n",
              " 'taking',\n",
              " 'star',\n",
              " 'shots',\n",
              " 'sea',\n",
              " 'scene',\n",
              " 'rock',\n",
              " 'reports',\n",
              " 'reddits',\n",
              " 'quiz',\n",
              " 'pray',\n",
              " 'playing',\n",
              " 'nws',\n",
              " 'niggas',\n",
              " 'neighbours',\n",
              " 'miss',\n",
              " 'marks',\n",
              " 'libya',\n",
              " 'led',\n",
              " ...]"
            ]
          },
          "metadata": {},
          "execution_count": 37
        }
      ]
    },
    {
      "cell_type": "code",
      "source": [
        "len(common_words)"
      ],
      "metadata": {
        "colab": {
          "base_uri": "https://localhost:8080/"
        },
        "id": "PXyYk9ZG5ton",
        "outputId": "274e573e-627e-4eb6-e4d7-a6b69d35b03f"
      },
      "execution_count": 40,
      "outputs": [
        {
          "output_type": "execute_result",
          "data": {
            "text/plain": [
              "10000"
            ]
          },
          "metadata": {},
          "execution_count": 40
        }
      ]
    },
    {
      "cell_type": "markdown",
      "source": [
        "### Top 5 Words"
      ],
      "metadata": {
        "id": "l0zEieGo5G1o"
      }
    },
    {
      "cell_type": "code",
      "source": [
        "common_words[:5]"
      ],
      "metadata": {
        "colab": {
          "base_uri": "https://localhost:8080/"
        },
        "id": "IVf2tTRY5X3h",
        "outputId": "90f38419-bc8a-4f5f-ddfc-44aa3f0e2ebb"
      },
      "execution_count": 38,
      "outputs": [
        {
          "output_type": "execute_result",
          "data": {
            "text/plain": [
              "['', '[UNK]', 'the', 'a', 'in']"
            ]
          },
          "metadata": {},
          "execution_count": 38
        }
      ]
    },
    {
      "cell_type": "markdown",
      "source": [
        "### Least 5 Words"
      ],
      "metadata": {
        "id": "-pbgVY0f5aja"
      }
    },
    {
      "cell_type": "code",
      "source": [
        "common_words[-5:]"
      ],
      "metadata": {
        "colab": {
          "base_uri": "https://localhost:8080/"
        },
        "id": "CYdZ7OZZ5fsH",
        "outputId": "0aa368ac-f0f8-4595-b513-81db22f27605"
      },
      "execution_count": 39,
      "outputs": [
        {
          "output_type": "execute_result",
          "data": {
            "text/plain": [
              "['paramedics', 'paraguay', 'paradise', 'parade', 'paracord']"
            ]
          },
          "metadata": {},
          "execution_count": 39
        }
      ]
    },
    {
      "cell_type": "markdown",
      "source": [
        "## Creating embedding using an Embedding layer\n",
        "\n",
        "> Tensorflow Embedding Layer -> https://www.tensorflow.org/api_docs/python/tf/keras/layers/Embedding\n",
        "\n",
        "> Embedding layer parameters\n",
        "\n",
        "* `input_dim` -> Size of the vocabulary\n",
        "* `output_dim` -> Size of the output embedding vector, Eg: a value of `100`, means each token gets represented by a vector of `100` long.\n",
        "* `input_length` -> Length of the sequences being passed to the embedding layer."
      ],
      "metadata": {
        "id": "-n6YiMc35hKV"
      }
    },
    {
      "cell_type": "code",
      "source": [
        "from tensorflow.keras import layers\n",
        "\n",
        "embedding= layers.Embedding(input_dim= max_vocab_length, # Input Shape\n",
        "                            output_dim=128, # Output Shape\n",
        "                            input_length= max_length # How long is each input\n",
        "                            )"
      ],
      "metadata": {
        "id": "v4W582g59kQh"
      },
      "execution_count": 41,
      "outputs": []
    },
    {
      "cell_type": "code",
      "source": [
        "embedding"
      ],
      "metadata": {
        "colab": {
          "base_uri": "https://localhost:8080/"
        },
        "id": "tqkPlQj9-Gmm",
        "outputId": "a8ffc02f-9f1b-4e54-aed7-2d6577317de1"
      },
      "execution_count": 42,
      "outputs": [
        {
          "output_type": "execute_result",
          "data": {
            "text/plain": [
              "<keras.layers.embeddings.Embedding at 0x7fe314da4350>"
            ]
          },
          "metadata": {},
          "execution_count": 42
        }
      ]
    },
    {
      "cell_type": "code",
      "source": [
        "random_sentence= random.choice(train_sentences)\n",
        "print(f\"Original: {random_sentence}\\n\")\n",
        "\n",
        "embedded= embedding(text_vectorizer([random_sentence]))\n",
        "embedded"
      ],
      "metadata": {
        "colab": {
          "base_uri": "https://localhost:8080/"
        },
        "id": "qYL6LBvk-HYx",
        "outputId": "1efaaa5c-ea51-400b-bafb-491a49af96b8"
      },
      "execution_count": 44,
      "outputs": [
        {
          "output_type": "stream",
          "name": "stdout",
          "text": [
            "Original: Wreckage 'Conclusively Confirmed' as From MH370: Malaysia PM: Investigators and the families of those who were... http://t.co/EdEKrmqTpQ\n",
            "\n"
          ]
        },
        {
          "output_type": "execute_result",
          "data": {
            "text/plain": [
              "<tf.Tensor: shape=(1, 15, 128), dtype=float32, numpy=\n",
              "array([[[ 0.02350669,  0.00884739, -0.03249055, ...,  0.04522594,\n",
              "         -0.04019711,  0.04983225],\n",
              "        [ 0.03965782, -0.03588497, -0.01018245, ..., -0.00822866,\n",
              "         -0.04585283,  0.01165288],\n",
              "        [-0.01235497, -0.0321592 ,  0.03664665, ..., -0.03942619,\n",
              "         -0.00785625, -0.01590389],\n",
              "        ...,\n",
              "        [-0.00959309,  0.00267967, -0.03767848, ...,  0.04244604,\n",
              "         -0.00140735,  0.03762947],\n",
              "        [-0.04022698,  0.04069127,  0.03573433, ...,  0.00286172,\n",
              "         -0.01392185, -0.03520637],\n",
              "        [ 0.0161231 , -0.04355462,  0.0022895 , ...,  0.03389793,\n",
              "         -0.04161862,  0.0490695 ]]], dtype=float32)>"
            ]
          },
          "metadata": {},
          "execution_count": 44
        }
      ]
    },
    {
      "cell_type": "markdown",
      "source": [
        "### Single Token's embeddings"
      ],
      "metadata": {
        "id": "JeDW5QMk_Rr-"
      }
    },
    {
      "cell_type": "code",
      "source": [
        "embedded[0][0]"
      ],
      "metadata": {
        "colab": {
          "base_uri": "https://localhost:8080/"
        },
        "id": "GhjooUS3-3kD",
        "outputId": "70afc9a5-f364-4cdb-a727-4965a50d93f3"
      },
      "execution_count": 46,
      "outputs": [
        {
          "output_type": "execute_result",
          "data": {
            "text/plain": [
              "<tf.Tensor: shape=(128,), dtype=float32, numpy=\n",
              "array([ 0.02350669,  0.00884739, -0.03249055, -0.00484242,  0.02693403,\n",
              "       -0.00584713, -0.0117095 , -0.0156327 ,  0.03399577, -0.01247381,\n",
              "       -0.00131816, -0.01587787, -0.04058516, -0.02136149,  0.0079459 ,\n",
              "       -0.04098753,  0.01090102,  0.00066993,  0.03982634, -0.04134456,\n",
              "       -0.03673321,  0.00912421,  0.04138507, -0.00969311, -0.03838383,\n",
              "        0.0031046 , -0.0453478 , -0.0189119 ,  0.01120437,  0.00133965,\n",
              "       -0.02281597,  0.0092706 ,  0.04225754, -0.04449829,  0.01854632,\n",
              "       -0.01265658, -0.00026617,  0.04605723, -0.01138154, -0.01674452,\n",
              "       -0.01383339, -0.00762446,  0.01930643,  0.00985718, -0.02054976,\n",
              "        0.04335118, -0.03216865,  0.04014117, -0.04099343, -0.00763378,\n",
              "        0.04707465, -0.01747148,  0.03745438,  0.00086944,  0.01182308,\n",
              "        0.01538284, -0.02683595,  0.02419809, -0.04812625,  0.03351678,\n",
              "        0.04113184, -0.04538784,  0.03548265,  0.02057287,  0.04840181,\n",
              "       -0.0151507 , -0.01211276,  0.04338426,  0.03723744,  0.0356014 ,\n",
              "        0.04182852,  0.03034071, -0.03392109, -0.03270011,  0.0282873 ,\n",
              "        0.04116983, -0.03175489, -0.00311049,  0.04756229, -0.03691727,\n",
              "        0.00388417, -0.04974688,  0.00798376,  0.01905373, -0.02480475,\n",
              "       -0.03069803,  0.01184758,  0.01645799,  0.02713189, -0.02671267,\n",
              "       -0.0349326 ,  0.03856318,  0.04352851,  0.02110884, -0.00817263,\n",
              "        0.03833917,  0.00157724, -0.04001116,  0.03054357,  0.02265823,\n",
              "       -0.03819136, -0.03380951,  0.01481587, -0.02551408, -0.04006643,\n",
              "       -0.00574223, -0.03354812,  0.04303915,  0.00818263, -0.01711562,\n",
              "        0.03593016,  0.03896712, -0.02738068, -0.02970313, -0.02212216,\n",
              "        0.02830489,  0.01713848,  0.02830938, -0.02151607, -0.02213666,\n",
              "        0.01351741,  0.03210396,  0.02053836, -0.02628473, -0.01906486,\n",
              "        0.04522594, -0.04019711,  0.04983225], dtype=float32)>"
            ]
          },
          "metadata": {},
          "execution_count": 46
        }
      ]
    },
    {
      "cell_type": "code",
      "source": [
        "embedded[0][0].shape"
      ],
      "metadata": {
        "colab": {
          "base_uri": "https://localhost:8080/"
        },
        "id": "umdBlP0O_F5A",
        "outputId": "fbbf38a9-83a0-473e-eb14-2fd81f226a10"
      },
      "execution_count": 47,
      "outputs": [
        {
          "output_type": "execute_result",
          "data": {
            "text/plain": [
              "TensorShape([128])"
            ]
          },
          "metadata": {},
          "execution_count": 47
        }
      ]
    },
    {
      "cell_type": "code",
      "source": [
        "random_sentence[0]"
      ],
      "metadata": {
        "colab": {
          "base_uri": "https://localhost:8080/",
          "height": 37
        },
        "id": "x0it_NGY_P2m",
        "outputId": "9e553681-867a-438a-cc90-61b8880005bd"
      },
      "execution_count": 48,
      "outputs": [
        {
          "output_type": "execute_result",
          "data": {
            "text/plain": [
              "'W'"
            ],
            "application/vnd.google.colaboratory.intrinsic+json": {
              "type": "string"
            }
          },
          "metadata": {},
          "execution_count": 48
        }
      ]
    },
    {
      "cell_type": "markdown",
      "source": [
        "## Conclusion\n",
        "\n",
        "> Text vectorization or tokenization is converting words to some numerical format. `Creating an embedding` is just making a straight mapping in numerical format that is learnable by the model."
      ],
      "metadata": {
        "id": "z0Rh9BHU_W4S"
      }
    },
    {
      "cell_type": "markdown",
      "source": [
        "## Modelling on the text dataset\n",
        "\n",
        "### Experiments\n",
        "\n",
        "* Naive Bayes(Baseline), Normal ML model\n",
        "* Feed-Forward Neural Network(Dense model)\n",
        "* LSTM model(RNN)\n",
        "* GRU model(RNN)\n",
        "* Bidirectional-LSTM model(RNN)\n",
        "* 1D Convolutional Neural Network(CNN)\n",
        "* Tensorflow Hub pretrained Feature Extractor(Transfer learning in NLP)\n",
        "* Transfer Learning but with only 10% of the data\n",
        "\n",
        "### Modelling steps:\n",
        "\n",
        "* Create a model\n",
        "* Build a model\n",
        "* Fit a model\n",
        "* Evaluate the model"
      ],
      "metadata": {
        "id": "C_gRKC4oAkuS"
      }
    },
    {
      "cell_type": "markdown",
      "source": [
        "## Naive Bayes Model(Baseline)\n",
        "\n",
        "> It is a common practice to use non-DL algorithms as a baseline because of their speed and later use DL algorithms to improve upon them."
      ],
      "metadata": {
        "id": "bGc754uSCySD"
      }
    },
    {
      "cell_type": "code",
      "source": [
        "from sklearn.feature_extraction.text import TfidfVectorizer\n",
        "from sklearn.naive_bayes import MultinomialNB\n",
        "from sklearn.pipeline import Pipeline\n"
      ],
      "metadata": {
        "id": "4iwLRMNeG0lg"
      },
      "execution_count": 50,
      "outputs": []
    },
    {
      "cell_type": "code",
      "source": [
        "model_0= Pipeline([\n",
        "    (\"tfidf\", TfidfVectorizer()), # Converts words into numbers using tfidf\n",
        "    (\"clf\", MultinomialNB()) # Model the text\n",
        "])\n",
        "\n",
        "model_0.fit(train_sentences, train_labels)"
      ],
      "metadata": {
        "colab": {
          "base_uri": "https://localhost:8080/"
        },
        "id": "d6xg5VAoHXCO",
        "outputId": "625f8357-019d-494f-d8b2-f390ffd36fb9"
      },
      "execution_count": 51,
      "outputs": [
        {
          "output_type": "execute_result",
          "data": {
            "text/plain": [
              "Pipeline(steps=[('tfidf', TfidfVectorizer()), ('clf', MultinomialNB())])"
            ]
          },
          "metadata": {},
          "execution_count": 51
        }
      ]
    },
    {
      "cell_type": "markdown",
      "source": [
        "## Evaluate the model"
      ],
      "metadata": {
        "id": "vX3gbwq6HscZ"
      }
    },
    {
      "cell_type": "code",
      "source": [
        "baseline_score= model_0.score(val_sentences, val_labels)\n",
        "print(f\"The score of the naive bayes model: {baseline_score}\")"
      ],
      "metadata": {
        "colab": {
          "base_uri": "https://localhost:8080/"
        },
        "id": "2iKmCF1PILw7",
        "outputId": "0465c1f5-5458-4ee8-c27a-c93020953e61"
      },
      "execution_count": 53,
      "outputs": [
        {
          "output_type": "stream",
          "name": "stdout",
          "text": [
            "The score of the naive bayes model: 0.8333333333333334\n"
          ]
        }
      ]
    },
    {
      "cell_type": "markdown",
      "source": [
        "## Making predictions"
      ],
      "metadata": {
        "id": "9-sIRc2rIaY-"
      }
    },
    {
      "cell_type": "code",
      "source": [
        "baseline_preds= model_0.predict(val_sentences)\n",
        "baseline_preds"
      ],
      "metadata": {
        "colab": {
          "base_uri": "https://localhost:8080/"
        },
        "id": "rAH24aBZIt4O",
        "outputId": "36e891bf-2dc5-4de2-f2c3-db8754dfc004"
      },
      "execution_count": 54,
      "outputs": [
        {
          "output_type": "execute_result",
          "data": {
            "text/plain": [
              "array([1, 0, 0, 1, 0, 0, 1, 0, 0, 0, 1, 0, 0, 0, 1, 1, 0, 1, 0, 1, 0, 0,\n",
              "       1, 0, 0, 0, 1, 1, 0, 0, 0, 0, 0, 1, 0, 0, 1, 0, 0, 0, 0, 0, 0, 1,\n",
              "       1, 1, 1, 0, 0, 0, 0, 1, 0, 1, 0, 1, 1, 0, 0, 1, 0, 1, 1, 0, 1, 1,\n",
              "       0, 0, 0, 1, 1, 1, 0, 1, 0, 1, 1, 0, 1, 0, 1, 0, 1, 0, 0, 0, 1, 0,\n",
              "       0, 0, 0, 0, 1, 0, 0, 1, 1, 1, 0, 0, 0, 1, 1, 1, 0, 0, 1, 0, 0, 0,\n",
              "       0, 0, 0, 1, 1, 0, 0, 1, 1, 0, 0, 1, 1, 0, 1, 0, 1, 0, 0, 1, 1, 0,\n",
              "       0, 0, 0, 0, 1, 0, 0, 0, 0, 0, 0, 1, 0, 1, 0, 0, 1, 0, 0, 0, 0, 1,\n",
              "       1, 0, 0, 0, 0, 1, 0, 0, 0, 0, 0, 0, 0, 0, 0, 1, 0, 0, 0, 1, 0, 0,\n",
              "       0, 0, 0, 0, 1, 1, 0, 0, 1, 1, 0, 1, 0, 0, 1, 0, 0, 1, 1, 1, 1, 1,\n",
              "       0, 0, 0, 0, 0, 0, 0, 0, 0, 0, 0, 0, 0, 0, 1, 0, 0, 1, 0, 1, 0, 0,\n",
              "       0, 0, 1, 1, 0, 0, 0, 0, 1, 0, 0, 0, 1, 0, 0, 0, 1, 0, 1, 0, 0, 1,\n",
              "       0, 0, 0, 0, 1, 1, 1, 0, 0, 1, 0, 0, 0, 0, 0, 0, 0, 0, 0, 0, 0, 0,\n",
              "       0, 0, 0, 1, 0, 1, 0, 0, 0, 0, 0, 0, 0, 0, 0, 1, 1, 0, 1, 0, 1, 0,\n",
              "       1, 1, 0, 1, 0, 0, 0, 0, 1, 0, 1, 0, 0, 0, 0, 0, 1, 1, 0, 0, 0, 0,\n",
              "       1, 0, 0, 1, 0, 0, 0, 0, 0, 0, 0, 0, 1, 1, 0, 0, 0, 1, 0, 0, 0, 1,\n",
              "       0, 1, 0, 1, 1, 1, 0, 0, 0, 1, 0, 1, 0, 0, 0, 1, 1, 0, 0, 0, 0, 0,\n",
              "       0, 0, 1, 0, 0, 0, 0, 1, 0, 0, 0, 0, 0, 1, 0, 0, 0, 1, 1, 1, 0, 0,\n",
              "       1, 0, 1, 0, 1, 0, 0, 0, 0, 0, 0, 0, 1, 1, 0, 0, 0, 1, 0, 0, 1, 0,\n",
              "       1, 0, 1, 0, 1, 1, 0, 1, 1, 1, 0, 0, 1, 0, 1, 0, 0, 0, 0, 1, 1, 0,\n",
              "       1, 0, 0, 1, 1, 1, 0, 1, 0, 0, 0, 1, 1, 0, 1, 0, 0, 0, 0, 0, 0, 0,\n",
              "       1, 0, 1, 0, 0, 1, 0, 1, 1, 0, 0, 0, 0, 0, 1, 1, 1, 0, 0, 0, 0, 0,\n",
              "       0, 0, 0, 0, 0, 0, 0, 0, 0, 0, 0, 1, 0, 0, 0, 1, 0, 0, 1, 1, 1, 0,\n",
              "       0, 1, 1, 1, 0, 1, 0, 1, 1, 0, 0, 0, 0, 0, 0, 0, 0, 0, 0, 0, 0, 1,\n",
              "       0, 0, 0, 0, 0, 1, 0, 0, 1, 0, 0, 0, 1, 0, 1, 0, 0, 0, 0, 1, 0, 0,\n",
              "       1, 1, 0, 1, 0, 0, 0, 0, 1, 0, 0, 0, 0, 0, 0, 1, 1, 1, 1, 0, 1, 0,\n",
              "       0, 1, 0, 0, 1, 1, 0, 0, 1, 0, 0, 0, 0, 1, 0, 1, 0, 0, 1, 0, 0, 1,\n",
              "       0, 1, 0, 1, 0, 1, 0, 0, 1, 0, 0, 1, 1, 1, 1, 1, 0, 0, 0, 0, 1, 0,\n",
              "       0, 0, 0, 1, 0, 0, 0, 1, 0, 0, 0, 1, 0, 0, 0, 0, 0, 0, 0, 1, 0, 0,\n",
              "       1, 0, 1, 0, 1, 0, 0, 0, 0, 1, 0, 0, 1, 0, 0, 1, 1, 0, 1, 1, 0, 1,\n",
              "       0, 1, 0, 1, 0, 0, 0, 1, 1, 1, 1, 0, 0, 0, 1, 0, 0, 0, 0, 1, 1, 1,\n",
              "       1, 0, 0, 0, 1, 0, 1, 1, 1, 1, 0, 1, 0, 0, 0, 0, 1, 0, 0, 0, 1, 1,\n",
              "       1, 0, 0, 0, 1, 0, 0, 0, 0, 0, 1, 0, 0, 0, 0, 1, 1, 0, 0, 1, 1, 0,\n",
              "       0, 0, 0, 0, 0, 0, 0, 0, 0, 0, 0, 0, 0, 0, 0, 1, 0, 0, 0, 1, 0, 0,\n",
              "       0, 1, 1, 0, 1, 0, 0, 0, 1, 0, 0, 0, 0, 1, 0, 1, 0, 0, 1, 1, 0, 0,\n",
              "       0, 0, 0, 1, 0, 0, 1, 0, 1, 0, 0, 0, 0, 1])"
            ]
          },
          "metadata": {},
          "execution_count": 54
        }
      ]
    },
    {
      "cell_type": "code",
      "source": [
        "train_labels"
      ],
      "metadata": {
        "colab": {
          "base_uri": "https://localhost:8080/"
        },
        "id": "gIRQgj_MI0rT",
        "outputId": "2a99c88c-64ef-4aea-b535-37d52a41b1f7"
      },
      "execution_count": 55,
      "outputs": [
        {
          "output_type": "execute_result",
          "data": {
            "text/plain": [
              "array([1, 1, 1, ..., 0, 1, 0])"
            ]
          },
          "metadata": {},
          "execution_count": 55
        }
      ]
    },
    {
      "cell_type": "markdown",
      "source": [
        "## Predicting the model"
      ],
      "metadata": {
        "id": "aFu6Y22II4VV"
      }
    },
    {
      "cell_type": "code",
      "source": [
        "from helper_functions import calculate_results, make_confusion_matrix"
      ],
      "metadata": {
        "id": "ALo-AU1PMYYq"
      },
      "execution_count": 59,
      "outputs": []
    },
    {
      "cell_type": "code",
      "source": [
        "baseline_result= calculate_results(val_labels, baseline_preds)\n",
        "baseline_result"
      ],
      "metadata": {
        "colab": {
          "base_uri": "https://localhost:8080/"
        },
        "id": "4gex5BYLMbp0",
        "outputId": "793191c1-3988-4c35-95ef-e370ef5a9222"
      },
      "execution_count": 58,
      "outputs": [
        {
          "output_type": "execute_result",
          "data": {
            "text/plain": [
              "{'accuracy': 83.33333333333334,\n",
              " 'precision': 0.8412202657738648,\n",
              " 'recall': 0.8333333333333334,\n",
              " 'f1': 0.8293755882702342}"
            ]
          },
          "metadata": {},
          "execution_count": 58
        }
      ]
    },
    {
      "cell_type": "code",
      "source": [
        "make_confusion_matrix(val_labels, baseline_preds)"
      ],
      "metadata": {
        "colab": {
          "base_uri": "https://localhost:8080/",
          "height": 574
        },
        "id": "74v90gCAMnC9",
        "outputId": "b76fb95e-de4a-4931-960e-07c1322a0dd2"
      },
      "execution_count": 60,
      "outputs": [
        {
          "output_type": "display_data",
          "data": {
            "text/plain": [
              "<Figure size 720x720 with 2 Axes>"
            ],
            "image/png": "[encoded data removed]"
          },
          "metadata": {
            "needs_background": "light"
          }
        }
      ]
    },
    {
      "cell_type": "code",
      "source": [
        "409 + 28"
      ],
      "metadata": {
        "colab": {
          "base_uri": "https://localhost:8080/"
        },
        "id": "baMgQwBvNSZO",
        "outputId": "e93251a9-7dda-4c63-98e1-b8d9609cb410"
      },
      "execution_count": 63,
      "outputs": [
        {
          "output_type": "execute_result",
          "data": {
            "text/plain": [
              "437"
            ]
          },
          "metadata": {},
          "execution_count": 63
        }
      ]
    },
    {
      "cell_type": "code",
      "source": [
        "99 + 206"
      ],
      "metadata": {
        "colab": {
          "base_uri": "https://localhost:8080/"
        },
        "id": "fnpxi27nNUaZ",
        "outputId": "7cb5a613-a1e3-4347-da03-d0eb9ee6aca8"
      },
      "execution_count": 64,
      "outputs": [
        {
          "output_type": "execute_result",
          "data": {
            "text/plain": [
              "305"
            ]
          },
          "metadata": {},
          "execution_count": 64
        }
      ]
    },
    {
      "cell_type": "markdown",
      "source": [
        "## A simple Dense Model"
      ],
      "metadata": {
        "id": "4H-_rF_pNViQ"
      }
    },
    {
      "cell_type": "markdown",
      "source": [
        "### Tensorflow Callback"
      ],
      "metadata": {
        "id": "N3PyYSP_RUQ_"
      }
    },
    {
      "cell_type": "code",
      "source": [
        "from helper_functions import create_tensorboard_callback\n",
        "\n",
        "SAVE_DIR='model_logs'"
      ],
      "metadata": {
        "id": "PDng-Ly-T7x5"
      },
      "execution_count": 65,
      "outputs": []
    },
    {
      "cell_type": "markdown",
      "source": [
        "### Model Building"
      ],
      "metadata": {
        "id": "d_jDmWzYUDOM"
      }
    },
    {
      "cell_type": "code",
      "source": [
        "from tensorflow.keras import layers\n",
        "inputs= layers.Input(shape=(1,), dtype= tf.string) # Inputs are 1-dimensional string\n",
        "x= text_vectorizer(inputs) # Converting the string into numbers\n",
        "x= embedding(x) # Create an embedding of the numberized inputs\n",
        "x= layers.GlobalAveragePooling1D(name=\"global_avrage_pooling\")(x) # Condense the feature vector for each token to one vector\n",
        "outputs= layers.Dense(1, activation=\"sigmoid\")(x) # Create an output layer, and it is a binary classification model\n",
        "model_1= tf.keras.Model(inputs, outputs, name=\"model_1_dense\")"
      ],
      "metadata": {
        "id": "oPVaGIBYUGNL"
      },
      "execution_count": 69,
      "outputs": []
    },
    {
      "cell_type": "code",
      "source": [
        "model_1.summary()"
      ],
      "metadata": {
        "colab": {
          "base_uri": "https://localhost:8080/"
        },
        "id": "2W0V5MAcU8rl",
        "outputId": "8d112dd2-f671-4ad0-e1e8-702b5bceba54"
      },
      "execution_count": 70,
      "outputs": [
        {
          "output_type": "stream",
          "name": "stdout",
          "text": [
            "Model: \"model_1_dense\"\n",
            "_________________________________________________________________\n",
            " Layer (type)                Output Shape              Param #   \n",
            "=================================================================\n",
            " input_3 (InputLayer)        [(None, 1)]               0         \n",
            "                                                                 \n",
            " text_vectorization_1 (TextV  (None, 15)               0         \n",
            " ectorization)                                                   \n",
            "                                                                 \n",
            " embedding (Embedding)       (None, 15, 128)           1280000   \n",
            "                                                                 \n",
            " global_avrage_pooling (Glob  (None, 128)              0         \n",
            " alAveragePooling1D)                                             \n",
            "                                                                 \n",
            " dense_1 (Dense)             (None, 1)                 129       \n",
            "                                                                 \n",
            "=================================================================\n",
            "Total params: 1,280,129\n",
            "Trainable params: 1,280,129\n",
            "Non-trainable params: 0\n",
            "_________________________________________________________________\n"
          ]
        }
      ]
    },
    {
      "cell_type": "code",
      "source": [
        "model_1.compile(loss=\"binary_crossentropy\", metrics=[\"accuracy\"], optimizer= tf.keras.optimizers.Adam())"
      ],
      "metadata": {
        "id": "PVWxlobgVEQg"
      },
      "execution_count": 71,
      "outputs": []
    },
    {
      "cell_type": "code",
      "source": [
        "history_1 = model_1.fit(train_sentences,\n",
        "                        train_labels, \n",
        "                        epochs=10,\n",
        "                        validation_data=(val_sentences, val_labels),\n",
        "                        callbacks=[create_tensorboard_callback(dir_name=SAVE_DIR,\n",
        "                                                               experiment_name=\"model_1_dense\")])"
      ],
      "metadata": {
        "colab": {
          "base_uri": "https://localhost:8080/"
        },
        "id": "D4MvQaF8bGKW",
        "outputId": "4ee33716-110c-428a-f1f4-b10d79a2dec3"
      },
      "execution_count": 72,
      "outputs": [
        {
          "output_type": "stream",
          "name": "stdout",
          "text": [
            "Saving TensorBoard log files to: model_logs/model_1_dense/20220819-140652\n",
            "Epoch 1/10\n",
            "215/215 [==============================] - 5s 19ms/step - loss: 0.6167 - accuracy: 0.6906 - val_loss: 0.5125 - val_accuracy: 0.8031\n",
            "Epoch 2/10\n",
            "215/215 [==============================] - 4s 18ms/step - loss: 0.4476 - accuracy: 0.8133 - val_loss: 0.4331 - val_accuracy: 0.8241\n",
            "Epoch 3/10\n",
            "215/215 [==============================] - 4s 18ms/step - loss: 0.3505 - accuracy: 0.8602 - val_loss: 0.4183 - val_accuracy: 0.8320\n",
            "Epoch 4/10\n",
            "215/215 [==============================] - 4s 17ms/step - loss: 0.2873 - accuracy: 0.8889 - val_loss: 0.4320 - val_accuracy: 0.8320\n",
            "Epoch 5/10\n",
            "215/215 [==============================] - 5s 21ms/step - loss: 0.2392 - accuracy: 0.9113 - val_loss: 0.4402 - val_accuracy: 0.8255\n",
            "Epoch 6/10\n",
            "215/215 [==============================] - 5s 21ms/step - loss: 0.2023 - accuracy: 0.9264 - val_loss: 0.4688 - val_accuracy: 0.8228\n",
            "Epoch 7/10\n",
            "215/215 [==============================] - 6s 29ms/step - loss: 0.1723 - accuracy: 0.9406 - val_loss: 0.4964 - val_accuracy: 0.8176\n",
            "Epoch 8/10\n",
            "215/215 [==============================] - 6s 27ms/step - loss: 0.1489 - accuracy: 0.9498 - val_loss: 0.5278 - val_accuracy: 0.8150\n",
            "Epoch 9/10\n",
            "215/215 [==============================] - 6s 28ms/step - loss: 0.1307 - accuracy: 0.9562 - val_loss: 0.5592 - val_accuracy: 0.8045\n",
            "Epoch 10/10\n",
            "215/215 [==============================] - 5s 24ms/step - loss: 0.1161 - accuracy: 0.9606 - val_loss: 0.5979 - val_accuracy: 0.8005\n"
          ]
        }
      ]
    },
    {
      "cell_type": "code",
      "source": [
        "model_1_score=model_1.evaluate(val_sentences, val_labels)\n",
        "model_1_score"
      ],
      "metadata": {
        "colab": {
          "base_uri": "https://localhost:8080/"
        },
        "id": "TD9jbTdKbfiW",
        "outputId": "92ddee77-deee-4373-9af3-6b844e8e3db9"
      },
      "execution_count": 79,
      "outputs": [
        {
          "output_type": "stream",
          "name": "stdout",
          "text": [
            "24/24 [==============================] - 0s 3ms/step - loss: 0.5979 - accuracy: 0.8005\n"
          ]
        },
        {
          "output_type": "execute_result",
          "data": {
            "text/plain": [
              "[0.5979138612747192, 0.8005249500274658]"
            ]
          },
          "metadata": {},
          "execution_count": 79
        }
      ]
    },
    {
      "cell_type": "code",
      "source": [
        "baseline_score"
      ],
      "metadata": {
        "colab": {
          "base_uri": "https://localhost:8080/"
        },
        "id": "AfU-v9tCbZbY",
        "outputId": "6a1d0fe3-bb52-405f-c4f5-f6536f705024"
      },
      "execution_count": 78,
      "outputs": [
        {
          "output_type": "execute_result",
          "data": {
            "text/plain": [
              "0.8333333333333334"
            ]
          },
          "metadata": {},
          "execution_count": 78
        }
      ]
    },
    {
      "cell_type": "code",
      "source": [
        "model_1_pred_probs= model_1.predict(val_sentences)\n",
        "model_1_pred_probs.shape"
      ],
      "metadata": {
        "colab": {
          "base_uri": "https://localhost:8080/"
        },
        "id": "0IyC-Bcib9qH",
        "outputId": "8e1e8a23-1efc-43b7-a8d3-132cfc875f82"
      },
      "execution_count": 80,
      "outputs": [
        {
          "output_type": "execute_result",
          "data": {
            "text/plain": [
              "(762, 1)"
            ]
          },
          "metadata": {},
          "execution_count": 80
        }
      ]
    },
    {
      "cell_type": "code",
      "source": [
        "model_1_pred_probs[:5]"
      ],
      "metadata": {
        "colab": {
          "base_uri": "https://localhost:8080/"
        },
        "id": "tjm9JZf4cN_V",
        "outputId": "36beec7d-b7ae-43a7-bc54-8fb73d3b388f"
      },
      "execution_count": 81,
      "outputs": [
        {
          "output_type": "execute_result",
          "data": {
            "text/plain": [
              "array([[9.9996316e-01],\n",
              "       [1.0890636e-01],\n",
              "       [5.1888436e-02],\n",
              "       [9.2029279e-01],\n",
              "       [6.2360108e-05]], dtype=float32)"
            ]
          },
          "metadata": {},
          "execution_count": 81
        }
      ]
    },
    {
      "cell_type": "markdown",
      "source": [
        "### Converting model prediction probabilites to label format"
      ],
      "metadata": {
        "id": "rar69ufecypN"
      }
    },
    {
      "cell_type": "code",
      "source": [
        "model_1_preds= tf.squeeze(tf.round(model_1_pred_probs))\n",
        "model_1_preds[:10]"
      ],
      "metadata": {
        "colab": {
          "base_uri": "https://localhost:8080/"
        },
        "id": "VwUlKrEbcg4k",
        "outputId": "4de13481-4c64-4c93-df4f-7590f7a8d53a"
      },
      "execution_count": 83,
      "outputs": [
        {
          "output_type": "execute_result",
          "data": {
            "text/plain": [
              "<tf.Tensor: shape=(10,), dtype=float32, numpy=array([1., 0., 0., 1., 0., 0., 1., 0., 1., 0.], dtype=float32)>"
            ]
          },
          "metadata": {},
          "execution_count": 83
        }
      ]
    },
    {
      "cell_type": "code",
      "source": [
        "val_labels[:10]"
      ],
      "metadata": {
        "colab": {
          "base_uri": "https://localhost:8080/"
        },
        "id": "jyogNqmBdCle",
        "outputId": "957dd356-2a7a-4b00-980f-24a4b29592e7"
      },
      "execution_count": 85,
      "outputs": [
        {
          "output_type": "execute_result",
          "data": {
            "text/plain": [
              "array([1, 0, 0, 1, 0, 0, 0, 0, 1, 0])"
            ]
          },
          "metadata": {},
          "execution_count": 85
        }
      ]
    },
    {
      "cell_type": "markdown",
      "source": [
        "## Evaluating the model"
      ],
      "metadata": {
        "id": "tioNz4IOdFWM"
      }
    },
    {
      "cell_type": "code",
      "source": [
        "model_1_results= calculate_results(val_labels, model_1_preds)\n",
        "model_1_results"
      ],
      "metadata": {
        "colab": {
          "base_uri": "https://localhost:8080/"
        },
        "id": "NwBt-zBkdLD_",
        "outputId": "3bf4f91a-27dc-4739-ca8a-c5764db3d4b0"
      },
      "execution_count": 86,
      "outputs": [
        {
          "output_type": "execute_result",
          "data": {
            "text/plain": [
              "{'accuracy': 80.0524934383202,\n",
              " 'precision': 0.8001272134833142,\n",
              " 'recall': 0.800524934383202,\n",
              " 'f1': 0.8002757313438585}"
            ]
          },
          "metadata": {},
          "execution_count": 86
        }
      ]
    },
    {
      "cell_type": "code",
      "source": [
        "baseline_result"
      ],
      "metadata": {
        "colab": {
          "base_uri": "https://localhost:8080/"
        },
        "id": "hnY9krCIdSGS",
        "outputId": "c0808a34-0768-46f1-b3c3-8f1d8847161f"
      },
      "execution_count": 88,
      "outputs": [
        {
          "output_type": "execute_result",
          "data": {
            "text/plain": [
              "{'accuracy': 83.33333333333334,\n",
              " 'precision': 0.8412202657738648,\n",
              " 'recall': 0.8333333333333334,\n",
              " 'f1': 0.8293755882702342}"
            ]
          },
          "metadata": {},
          "execution_count": 88
        }
      ]
    },
    {
      "cell_type": "code",
      "source": [
        "make_confusion_matrix(val_labels, model_1_preds)"
      ],
      "metadata": {
        "colab": {
          "base_uri": "https://localhost:8080/",
          "height": 574
        },
        "id": "NxWtvdcQdT43",
        "outputId": "37982655-772c-4aa8-ae47-0e631c40a376"
      },
      "execution_count": 89,
      "outputs": [
        {
          "output_type": "display_data",
          "data": {
            "text/plain": [
              "<Figure size 720x720 with 2 Axes>"
            ],
            "image/png": "[encoded data removed]"
          },
          "metadata": {
            "needs_background": "light"
          }
        }
      ]
    },
    {
      "cell_type": "code",
      "source": [
        ""
      ],
      "metadata": {
        "id": "GceHEUH3dalf"
      },
      "execution_count": null,
      "outputs": []
    }
  ]
}