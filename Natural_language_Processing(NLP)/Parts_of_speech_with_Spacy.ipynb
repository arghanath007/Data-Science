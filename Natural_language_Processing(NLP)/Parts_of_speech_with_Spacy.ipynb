{
  "nbformat": 4,
  "nbformat_minor": 0,
  "metadata": {
    "colab": {
      "name": "Parts_of_speech_with_Spacy.ipynb",
      "provenance": []
    },
    "kernelspec": {
      "name": "python3",
      "display_name": "Python 3"
    },
    "language_info": {
      "name": "python"
    }
  },
  "cells": [
    {
      "cell_type": "code",
      "execution_count": 28,
      "metadata": {
        "id": "4S5kmaqERnoi"
      },
      "outputs": [],
      "source": [
        "import spacy"
      ]
    },
    {
      "cell_type": "code",
      "source": [
        "nlp=spacy.load('en_core_web_sm')\n",
        "doc = nlp(\"Elon flew to mars yesterday. He carried biryani masala with him\")\n",
        "\n",
        "for token in doc:\n",
        "    print(token,\" | \", token.pos_, \" | \", token.pos, \" | \", spacy.explain(token.pos_))"
      ],
      "metadata": {
        "colab": {
          "base_uri": "https://localhost:8080/"
        },
        "id": "f_dscIxRUTwS",
        "outputId": "0a73a526-bf83-426a-d47b-50ab8156d205"
      },
      "execution_count": 29,
      "outputs": [
        {
          "output_type": "stream",
          "name": "stdout",
          "text": [
            "Elon  |  PROPN  |  96  |  proper noun\n",
            "flew  |  VERB  |  100  |  verb\n",
            "to  |  ADP  |  85  |  adposition\n",
            "mars  |  NOUN  |  92  |  noun\n",
            "yesterday  |  NOUN  |  92  |  noun\n",
            ".  |  PUNCT  |  97  |  punctuation\n",
            "He  |  PRON  |  95  |  pronoun\n",
            "carried  |  VERB  |  100  |  verb\n",
            "biryani  |  ADJ  |  84  |  adjective\n",
            "masala  |  NOUN  |  92  |  noun\n",
            "with  |  ADP  |  85  |  adposition\n",
            "him  |  PRON  |  95  |  pronoun\n"
          ]
        }
      ]
    },
    {
      "cell_type": "code",
      "source": [
        "doc = nlp(\"Wow! Dr. Strange made, 265 million $ on the very first day\")\n",
        "\n",
        "for token in doc:\n",
        "    print(token,\" | \", token.pos_, \" | \", spacy.explain(token.pos_), \" | \", token.tag_, \" | \", spacy.explain(token.tag_))"
      ],
      "metadata": {
        "colab": {
          "base_uri": "https://localhost:8080/"
        },
        "id": "bdzONcjrUW24",
        "outputId": "5968dad0-81f3-4c7a-fc1f-291231df4b69"
      },
      "execution_count": 30,
      "outputs": [
        {
          "output_type": "stream",
          "name": "stdout",
          "text": [
            "Wow  |  INTJ  |  interjection  |  UH  |  interjection\n",
            "!  |  PUNCT  |  punctuation  |  .  |  punctuation mark, sentence closer\n",
            "Dr.  |  PROPN  |  proper noun  |  NNP  |  noun, proper singular\n",
            "Strange  |  PROPN  |  proper noun  |  NNP  |  noun, proper singular\n",
            "made  |  VERB  |  verb  |  VBD  |  verb, past tense\n",
            ",  |  PUNCT  |  punctuation  |  ,  |  punctuation mark, comma\n",
            "265  |  NUM  |  numeral  |  CD  |  cardinal number\n",
            "million  |  NUM  |  numeral  |  CD  |  cardinal number\n",
            "$  |  NUM  |  numeral  |  CD  |  cardinal number\n",
            "on  |  ADP  |  adposition  |  IN  |  conjunction, subordinating or preposition\n",
            "the  |  DET  |  determiner  |  DT  |  determiner\n",
            "very  |  ADV  |  adverb  |  RB  |  adverb\n",
            "first  |  ADJ  |  adjective  |  JJ  |  adjective (English), other noun-modifier (Chinese)\n",
            "day  |  NOUN  |  noun  |  NN  |  noun, singular or mass\n"
          ]
        }
      ]
    },
    {
      "cell_type": "markdown",
      "source": [
        "## Figuring out tenses"
      ],
      "metadata": {
        "id": "3xOoa3GSYrZQ"
      }
    },
    {
      "cell_type": "code",
      "source": [
        "doc = nlp(\"He quits the job\")\n",
        "\n",
        "print(doc[1], \" | \",doc[1].text, \"|\", doc[1].tag_, \"|\", spacy.explain(doc[1].tag_))"
      ],
      "metadata": {
        "colab": {
          "base_uri": "https://localhost:8080/"
        },
        "id": "hhg_JPEDXh8U",
        "outputId": "b8b57773-bed4-44bb-8689-c8396b8836ba"
      },
      "execution_count": 31,
      "outputs": [
        {
          "output_type": "stream",
          "name": "stdout",
          "text": [
            "quits  |  quits | VBZ | verb, 3rd person singular present\n"
          ]
        }
      ]
    },
    {
      "cell_type": "code",
      "source": [
        "doc = nlp(\"He quit the job\")\n",
        "\n",
        "print(doc[1], \" | \",doc[1].text, \"|\", doc[1].tag_, \"|\", spacy.explain(doc[1].tag_))"
      ],
      "metadata": {
        "colab": {
          "base_uri": "https://localhost:8080/"
        },
        "id": "rRV3GyU1YhEv",
        "outputId": "d81452aa-f217-4a86-84fd-1d47a34f6d09"
      },
      "execution_count": 32,
      "outputs": [
        {
          "output_type": "stream",
          "name": "stdout",
          "text": [
            "quit  |  quit | VBD | verb, past tense\n"
          ]
        }
      ]
    },
    {
      "cell_type": "markdown",
      "source": [
        "## Removing unnecessary things\n",
        "\n",
        "> Likes Spaces(\" \"), words like etc, '.', these types of things."
      ],
      "metadata": {
        "id": "ZJiYXDm7ZxT1"
      }
    },
    {
      "cell_type": "code",
      "source": [
        "earnings_text=\"\"\"Microsoft Corp. today announced the following results for the quarter ended December 31, 2021, as compared to the corresponding period of last fiscal year:\n",
        "\n",
        "·         Revenue was $51.7 billion and increased 20%\n",
        "·         Operating income was $22.2 billion and increased 24%\n",
        "·         Net income was $18.8 billion and increased 21%\n",
        "·         Diluted earnings per share was $2.48 and increased 22%\n",
        "“Digital technology etc. is the most malleable resource at the world’s disposal to overcome constraints and reimagine everyday work and life,” said Satya Nadella, chairman and chief executive officer of Microsoft. “As tech as a percentage of global GDP continues to increase, we are innovating and investing across diverse and growing markets, with a common underlying technology stack and an operating model that reinforces a common strategy, culture, and sense of purpose.”\n",
        "“Solid commercial execution, represented by strong bookings growth driven by long-term Azure commitments, increased Microsoft Cloud revenue to $22.1 billion, up 32% year over year” said Amy Hood, executive vice president and chief financial officer of Microsoft.\"\"\"\n"
      ],
      "metadata": {
        "id": "-Mee695HYmuG"
      },
      "execution_count": 33,
      "outputs": []
    },
    {
      "cell_type": "code",
      "source": [
        "doc= nlp(earnings_text)"
      ],
      "metadata": {
        "id": "EFhEOWGjZEg5"
      },
      "execution_count": 34,
      "outputs": []
    },
    {
      "cell_type": "code",
      "source": [
        "for token in doc:\n",
        "    if token.pos_ in [\"SPACE\", \"X\", \"PUNCT\"]:\n",
        "      print(token,\" | \", token.pos_, \" | \", spacy.explain(token.pos_), \" | \", token.tag_, \" | \", spacy.explain(token.tag_))"
      ],
      "metadata": {
        "colab": {
          "base_uri": "https://localhost:8080/"
        },
        "id": "TFD0azzOZHMe",
        "outputId": "ca1db765-9dd5-4630-d741-9183d66d1bb8"
      },
      "execution_count": 35,
      "outputs": [
        {
          "output_type": "stream",
          "name": "stdout",
          "text": [
            ",  |  PUNCT  |  punctuation  |  ,  |  punctuation mark, comma\n",
            ",  |  PUNCT  |  punctuation  |  ,  |  punctuation mark, comma\n",
            ":  |  PUNCT  |  punctuation  |  :  |  punctuation mark, colon or ellipsis\n",
            "\n",
            "\n",
            "  |  SPACE  |  space  |  _SP  |  whitespace\n",
            "·  |  PUNCT  |  punctuation  |  NFP  |  superfluous punctuation\n",
            "          |  SPACE  |  space  |  _SP  |  whitespace\n",
            "\n",
            "  |  SPACE  |  space  |  _SP  |  whitespace\n",
            "·  |  PUNCT  |  punctuation  |  NFP  |  superfluous punctuation\n",
            "          |  SPACE  |  space  |  _SP  |  whitespace\n",
            "\n",
            "  |  SPACE  |  space  |  _SP  |  whitespace\n",
            "·  |  PUNCT  |  punctuation  |  -RRB-  |  right round bracket\n",
            "          |  SPACE  |  space  |  _SP  |  whitespace\n",
            "\n",
            "  |  SPACE  |  space  |  _SP  |  whitespace\n",
            "·  |  PUNCT  |  punctuation  |  -RRB-  |  right round bracket\n",
            "          |  SPACE  |  space  |  _SP  |  whitespace\n",
            "\n",
            "  |  SPACE  |  space  |  _SP  |  whitespace\n",
            "“  |  PUNCT  |  punctuation  |  ``  |  opening quotation mark\n",
            "etc  |  X  |  other  |  FW  |  foreign word\n",
            ".  |  X  |  other  |  FW  |  foreign word\n",
            ",  |  PUNCT  |  punctuation  |  ,  |  punctuation mark, comma\n",
            "”  |  PUNCT  |  punctuation  |  ''  |  closing quotation mark\n",
            ",  |  PUNCT  |  punctuation  |  ,  |  punctuation mark, comma\n",
            ".  |  PUNCT  |  punctuation  |  .  |  punctuation mark, sentence closer\n",
            "“  |  PUNCT  |  punctuation  |  ``  |  opening quotation mark\n",
            ",  |  PUNCT  |  punctuation  |  ,  |  punctuation mark, comma\n",
            ",  |  PUNCT  |  punctuation  |  ,  |  punctuation mark, comma\n",
            ",  |  PUNCT  |  punctuation  |  ,  |  punctuation mark, comma\n",
            ",  |  PUNCT  |  punctuation  |  ,  |  punctuation mark, comma\n",
            ".  |  PUNCT  |  punctuation  |  .  |  punctuation mark, sentence closer\n",
            "”  |  PUNCT  |  punctuation  |  ''  |  closing quotation mark\n",
            "\n",
            "  |  SPACE  |  space  |  _SP  |  whitespace\n",
            "“  |  PUNCT  |  punctuation  |  ``  |  opening quotation mark\n",
            ",  |  PUNCT  |  punctuation  |  ,  |  punctuation mark, comma\n",
            "-  |  PUNCT  |  punctuation  |  HYPH  |  punctuation mark, hyphen\n",
            ",  |  PUNCT  |  punctuation  |  ,  |  punctuation mark, comma\n",
            ",  |  PUNCT  |  punctuation  |  ,  |  punctuation mark, comma\n",
            "”  |  PUNCT  |  punctuation  |  ''  |  closing quotation mark\n",
            ",  |  PUNCT  |  punctuation  |  ,  |  punctuation mark, comma\n",
            ".  |  PUNCT  |  punctuation  |  .  |  punctuation mark, sentence closer\n"
          ]
        }
      ]
    },
    {
      "cell_type": "code",
      "source": [
        "filtered_tokens= []\n",
        "for token in doc:\n",
        "    if token.pos_ not in [\"SPACE\", \"X\", \"PUNCT\"]:\n",
        "      filtered_tokens.append(token)\n",
        "      # print(token,\" | \", token.pos_, \" | \", spacy.explain(token.pos_), \" | \", token.tag_, \" | \", spacy.explain(token.tag_))"
      ],
      "metadata": {
        "id": "KC8fPUU_ZUXh"
      },
      "execution_count": 36,
      "outputs": []
    },
    {
      "cell_type": "code",
      "source": [
        "filtered_tokens"
      ],
      "metadata": {
        "colab": {
          "base_uri": "https://localhost:8080/"
        },
        "id": "BTBNNqQ1bPs6",
        "outputId": "51f802ce-a6c3-45df-c4fa-b71f418762aa"
      },
      "execution_count": 37,
      "outputs": [
        {
          "output_type": "execute_result",
          "data": {
            "text/plain": [
              "[Microsoft,\n",
              " Corp.,\n",
              " today,\n",
              " announced,\n",
              " the,\n",
              " following,\n",
              " results,\n",
              " for,\n",
              " the,\n",
              " quarter,\n",
              " ended,\n",
              " December,\n",
              " 31,\n",
              " 2021,\n",
              " as,\n",
              " compared,\n",
              " to,\n",
              " the,\n",
              " corresponding,\n",
              " period,\n",
              " of,\n",
              " last,\n",
              " fiscal,\n",
              " year,\n",
              " Revenue,\n",
              " was,\n",
              " $,\n",
              " 51.7,\n",
              " billion,\n",
              " and,\n",
              " increased,\n",
              " 20,\n",
              " %,\n",
              " Operating,\n",
              " income,\n",
              " was,\n",
              " $,\n",
              " 22.2,\n",
              " billion,\n",
              " and,\n",
              " increased,\n",
              " 24,\n",
              " %,\n",
              " Net,\n",
              " income,\n",
              " was,\n",
              " $,\n",
              " 18.8,\n",
              " billion,\n",
              " and,\n",
              " increased,\n",
              " 21,\n",
              " %,\n",
              " Diluted,\n",
              " earnings,\n",
              " per,\n",
              " share,\n",
              " was,\n",
              " $,\n",
              " 2.48,\n",
              " and,\n",
              " increased,\n",
              " 22,\n",
              " %,\n",
              " Digital,\n",
              " technology,\n",
              " is,\n",
              " the,\n",
              " most,\n",
              " malleable,\n",
              " resource,\n",
              " at,\n",
              " the,\n",
              " world,\n",
              " ’s,\n",
              " disposal,\n",
              " to,\n",
              " overcome,\n",
              " constraints,\n",
              " and,\n",
              " reimagine,\n",
              " everyday,\n",
              " work,\n",
              " and,\n",
              " life,\n",
              " said,\n",
              " Satya,\n",
              " Nadella,\n",
              " chairman,\n",
              " and,\n",
              " chief,\n",
              " executive,\n",
              " officer,\n",
              " of,\n",
              " Microsoft,\n",
              " As,\n",
              " tech,\n",
              " as,\n",
              " a,\n",
              " percentage,\n",
              " of,\n",
              " global,\n",
              " GDP,\n",
              " continues,\n",
              " to,\n",
              " increase,\n",
              " we,\n",
              " are,\n",
              " innovating,\n",
              " and,\n",
              " investing,\n",
              " across,\n",
              " diverse,\n",
              " and,\n",
              " growing,\n",
              " markets,\n",
              " with,\n",
              " a,\n",
              " common,\n",
              " underlying,\n",
              " technology,\n",
              " stack,\n",
              " and,\n",
              " an,\n",
              " operating,\n",
              " model,\n",
              " that,\n",
              " reinforces,\n",
              " a,\n",
              " common,\n",
              " strategy,\n",
              " culture,\n",
              " and,\n",
              " sense,\n",
              " of,\n",
              " purpose,\n",
              " Solid,\n",
              " commercial,\n",
              " execution,\n",
              " represented,\n",
              " by,\n",
              " strong,\n",
              " bookings,\n",
              " growth,\n",
              " driven,\n",
              " by,\n",
              " long,\n",
              " term,\n",
              " Azure,\n",
              " commitments,\n",
              " increased,\n",
              " Microsoft,\n",
              " Cloud,\n",
              " revenue,\n",
              " to,\n",
              " $,\n",
              " 22.1,\n",
              " billion,\n",
              " up,\n",
              " 32,\n",
              " %,\n",
              " year,\n",
              " over,\n",
              " year,\n",
              " said,\n",
              " Amy,\n",
              " Hood,\n",
              " executive,\n",
              " vice,\n",
              " president,\n",
              " and,\n",
              " chief,\n",
              " financial,\n",
              " officer,\n",
              " of,\n",
              " Microsoft]"
            ]
          },
          "metadata": {},
          "execution_count": 37
        }
      ]
    },
    {
      "cell_type": "markdown",
      "source": [
        "## Counting the nouns, verbs, etc\n",
        "\n",
        "> Counting the different parts of speech that are present in the text file which could be one of the very useful things that we can extract.\n",
        "\n"
      ],
      "metadata": {
        "id": "cEO0uFm-bmMY"
      }
    },
    {
      "cell_type": "code",
      "source": [
        "count= doc.count_by(spacy.attrs.POS)\n",
        "count"
      ],
      "metadata": {
        "colab": {
          "base_uri": "https://localhost:8080/"
        },
        "id": "axW9XE5-b7A8",
        "outputId": "b8aa718a-f7ee-48d0-b9cc-a2c3a89ae79d"
      },
      "execution_count": 38,
      "outputs": [
        {
          "output_type": "execute_result",
          "data": {
            "text/plain": [
              "{84: 20,\n",
              " 85: 17,\n",
              " 86: 2,\n",
              " 87: 6,\n",
              " 89: 12,\n",
              " 90: 9,\n",
              " 92: 45,\n",
              " 93: 16,\n",
              " 94: 3,\n",
              " 95: 2,\n",
              " 96: 14,\n",
              " 97: 27,\n",
              " 98: 1,\n",
              " 99: 5,\n",
              " 100: 24,\n",
              " 101: 2,\n",
              " 103: 10}"
            ]
          },
          "metadata": {},
          "execution_count": 38
        }
      ]
    },
    {
      "cell_type": "code",
      "source": [
        "doc.vocab[84].text"
      ],
      "metadata": {
        "colab": {
          "base_uri": "https://localhost:8080/",
          "height": 37
        },
        "id": "U4p5sZOqvwGO",
        "outputId": "22a47568-d5d9-4e85-8a87-cbcdf43f89c2"
      },
      "execution_count": 42,
      "outputs": [
        {
          "output_type": "execute_result",
          "data": {
            "text/plain": [
              "'ADJ'"
            ],
            "application/vnd.google.colaboratory.intrinsic+json": {
              "type": "string"
            }
          },
          "metadata": {},
          "execution_count": 42
        }
      ]
    },
    {
      "cell_type": "code",
      "source": [
        "for k,v in count.items():\n",
        "  print(doc.vocab[k].text, \" | \", v)"
      ],
      "metadata": {
        "colab": {
          "base_uri": "https://localhost:8080/"
        },
        "id": "vJCeFWAzv5dN",
        "outputId": "9b1494e6-28a1-4536-d1da-4a79c37d4638"
      },
      "execution_count": 43,
      "outputs": [
        {
          "output_type": "stream",
          "name": "stdout",
          "text": [
            "PROPN  |  14\n",
            "NOUN  |  45\n",
            "VERB  |  24\n",
            "DET  |  9\n",
            "ADP  |  17\n",
            "NUM  |  16\n",
            "PUNCT  |  27\n",
            "SCONJ  |  1\n",
            "ADJ  |  20\n",
            "SPACE  |  10\n",
            "AUX  |  6\n",
            "SYM  |  5\n",
            "CCONJ  |  12\n",
            "X  |  2\n",
            "ADV  |  2\n",
            "PART  |  3\n",
            "PRON  |  2\n"
          ]
        }
      ]
    },
    {
      "cell_type": "markdown",
      "source": [
        "# Exercise"
      ],
      "metadata": {
        "id": "nj1bmx8gwOfB"
      }
    },
    {
      "cell_type": "markdown",
      "source": [
        "\n",
        "Exercise for Spacy POS tutorial,\n",
        "\n",
        "    You are parsing a news story from cnbc.com. News story is stores in news_story.txt which is available in this same folder on github. You need to,\n",
        "        Extract all NOUN tokens from this story. You will have to read the file in python first to collect all the text and then extract NOUNs in a python list\n",
        "        Extract all numbers (NUM POS type) in a python list\n",
        "        Print a count of all POS tags in this story\n"
      ],
      "metadata": {
        "id": "2UsDopMDxsAE"
      }
    },
    {
      "cell_type": "code",
      "source": [
        "text= \"Inflation rose again in April, continuing a climb that has pushed consumers to the brink and is threatening the economic expansion, the Bureau of Labor Statistics reported Wednesday.The consumer price index, a broad-based measure of prices for goods and services, increased 8.3% from a year ago, higher than the Dow Jones estimate for an 8.1% gain. That represented a slight ease from March’s peak but was still close to the highest level since the summer of 1982. Removing volatile food and energy prices, so-called core CPI still rose 6.2%, against expectations for a 6% gain, clouding hopes that inflation had peaked in March.The month-over-month gains also were higher than expectations — 0.3% on headline CPI versus the 0.2% estimate and a 0.6% increase for core, against the outlook for a 0.4% gain. The price gains also meant that workers continued to lose ground. Real wages adjusted for inflation decreased 0.1% on the month despite a nominal increase of 0.3% in average hourly earnings. Over the past year, real earnings have dropped 2.6% even though average hourly earnings are up 5.5 \""
      ],
      "metadata": {
        "id": "484qteDu4Ay9"
      },
      "execution_count": 46,
      "outputs": []
    },
    {
      "cell_type": "code",
      "source": [
        "nlp= spacy.load('en_core_web_sm')\n",
        "\n",
        "doc= nlp(text)\n",
        "numerical=[]\n",
        "noun=[]\n",
        "\n",
        "for token in doc:\n",
        "  if token.pos_ == 'NOUN':\n",
        "    noun.append(token)\n",
        "  elif token.pos_ == 'NUM':\n",
        "    numerical.append(token)\n"
      ],
      "metadata": {
        "id": "iVOPDSOq4cHa"
      },
      "execution_count": 51,
      "outputs": []
    },
    {
      "cell_type": "code",
      "source": [
        "len(noun), len(numerical), len(text)"
      ],
      "metadata": {
        "colab": {
          "base_uri": "https://localhost:8080/"
        },
        "id": "p-UcOCU55YPe",
        "outputId": "6f64b18e-fd02-4437-86fa-3167d152487b"
      },
      "execution_count": 53,
      "outputs": [
        {
          "output_type": "execute_result",
          "data": {
            "text/plain": [
              "(60, 13, 1096)"
            ]
          },
          "metadata": {},
          "execution_count": 53
        }
      ]
    },
    {
      "cell_type": "code",
      "source": [
        "noun"
      ],
      "metadata": {
        "colab": {
          "base_uri": "https://localhost:8080/"
        },
        "id": "W4Tl6eEn6FYC",
        "outputId": "510a0ae8-939c-46c2-8d1c-30b92d88e8b7"
      },
      "execution_count": 54,
      "outputs": [
        {
          "output_type": "execute_result",
          "data": {
            "text/plain": [
              "[Inflation,\n",
              " climb,\n",
              " consumers,\n",
              " brink,\n",
              " expansion,\n",
              " consumer,\n",
              " price,\n",
              " index,\n",
              " measure,\n",
              " prices,\n",
              " goods,\n",
              " services,\n",
              " %,\n",
              " year,\n",
              " estimate,\n",
              " %,\n",
              " gain,\n",
              " ease,\n",
              " peak,\n",
              " level,\n",
              " summer,\n",
              " food,\n",
              " energy,\n",
              " prices,\n",
              " core,\n",
              " %,\n",
              " expectations,\n",
              " %,\n",
              " gain,\n",
              " hopes,\n",
              " inflation,\n",
              " month,\n",
              " month,\n",
              " gains,\n",
              " expectations,\n",
              " %,\n",
              " headline,\n",
              " %,\n",
              " estimate,\n",
              " %,\n",
              " increase,\n",
              " core,\n",
              " outlook,\n",
              " %,\n",
              " gain,\n",
              " price,\n",
              " gains,\n",
              " workers,\n",
              " ground,\n",
              " wages,\n",
              " inflation,\n",
              " %,\n",
              " month,\n",
              " increase,\n",
              " %,\n",
              " earnings,\n",
              " year,\n",
              " earnings,\n",
              " %,\n",
              " earnings]"
            ]
          },
          "metadata": {},
          "execution_count": 54
        }
      ]
    },
    {
      "cell_type": "code",
      "source": [
        "numerical"
      ],
      "metadata": {
        "colab": {
          "base_uri": "https://localhost:8080/"
        },
        "id": "kVOb5ywi6SVb",
        "outputId": "8130e1f5-7c33-4efc-cc3d-af3070b30606"
      },
      "execution_count": 55,
      "outputs": [
        {
          "output_type": "execute_result",
          "data": {
            "text/plain": [
              "[8.3, 8.1, 1982, 6.2, 6, 0.3, 0.2, 0.6, 0.4, 0.1, 0.3, 2.6, 5.5]"
            ]
          },
          "metadata": {},
          "execution_count": 55
        }
      ]
    },
    {
      "cell_type": "code",
      "source": [
        "count= doc.count_by(spacy.attrs.POS)\n",
        "count"
      ],
      "metadata": {
        "colab": {
          "base_uri": "https://localhost:8080/"
        },
        "id": "azGPMjdJ6UbL",
        "outputId": "89320dac-78b3-4170-a954-f94893685262"
      },
      "execution_count": 56,
      "outputs": [
        {
          "output_type": "execute_result",
          "data": {
            "text/plain": [
              "{84: 15,\n",
              " 85: 26,\n",
              " 86: 10,\n",
              " 87: 7,\n",
              " 89: 5,\n",
              " 90: 22,\n",
              " 92: 60,\n",
              " 93: 13,\n",
              " 94: 2,\n",
              " 95: 2,\n",
              " 96: 11,\n",
              " 97: 22,\n",
              " 98: 5,\n",
              " 100: 19}"
            ]
          },
          "metadata": {},
          "execution_count": 56
        }
      ]
    },
    {
      "cell_type": "code",
      "source": [
        "for k,v in count.items():\n",
        "    print(doc.vocab[k].text, \"|\",v)"
      ],
      "metadata": {
        "colab": {
          "base_uri": "https://localhost:8080/"
        },
        "id": "hJiXmZAT6dEi",
        "outputId": "664d3f55-23d4-486d-cad3-d0ea500d3b07"
      },
      "execution_count": 57,
      "outputs": [
        {
          "output_type": "stream",
          "name": "stdout",
          "text": [
            "NOUN | 60\n",
            "VERB | 19\n",
            "ADV | 10\n",
            "ADP | 26\n",
            "PROPN | 11\n",
            "PUNCT | 22\n",
            "DET | 22\n",
            "PRON | 2\n",
            "AUX | 7\n",
            "CCONJ | 5\n",
            "ADJ | 15\n",
            "NUM | 13\n",
            "PART | 2\n",
            "SCONJ | 5\n"
          ]
        }
      ]
    },
    {
      "cell_type": "code",
      "source": [
        ""
      ],
      "metadata": {
        "id": "Lr1ttFvc6f9r"
      },
      "execution_count": null,
      "outputs": []
    }
  ]
}