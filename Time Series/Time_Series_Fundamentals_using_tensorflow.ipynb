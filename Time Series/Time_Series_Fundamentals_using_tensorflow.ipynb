{
  "nbformat": 4,
  "nbformat_minor": 0,
  "metadata": {
    "colab": {
      "provenance": [],
      "collapsed_sections": []
    },
    "kernelspec": {
      "name": "python3",
      "display_name": "Python 3"
    },
    "language_info": {
      "name": "python"
    }
  },
  "cells": [
    {
      "cell_type": "markdown",
      "source": [
        "# Time Series Fundamentals with Tensorflow\n",
        "\n",
        "\n",
        "* Dataset Link -> https://raw.githubusercontent.com/mrdbourke/tensorflow-deep-learning/main/extras/BTC_USD_2013-10-01_2021-05-18-CoinDesk.csv\n",
        "\n",
        "## Explaination\n",
        "\n",
        "> The `BTC_USD_2013-10-01_2021-05-18-CoinDesk.csv` file has roughly ~8yrs of bitcoin prices, calculated on a daily basis which amounts to `2787` samples.\n",
        "\n",
        "> Typically a machine learning models requires `lots and lots of samples`.\n",
        "\n",
        "> In `time series problems`, we will be often coming across datasets which do not have `sufficient or smaller number of samples`.\n",
        "\n",
        "### Seasonality\n",
        "\n",
        "> The frequency at which a time series value is collected is often referred to as `seasonality`. This is usually mesaured in number of samples per year. For example, collecting the price of Bitcoin once per day would result in a time series with a `seasonality of 365`. Time series data collected with different seasonality values often exhibit seasonal patterns (`e.g.` electricity demand behing higher in Summer months for air conditioning than Winter months)"
      ],
      "metadata": {
        "id": "J-G20DhwXfF_"
      }
    },
    {
      "cell_type": "code",
      "source": [
        "!wget https://raw.githubusercontent.com/arghanath007/MachineLearning/main/helper_functions.py"
      ],
      "metadata": {
        "colab": {
          "base_uri": "https://localhost:8080/"
        },
        "id": "2Uznp5gVpYzu",
        "outputId": "c5d8cdc8-34e6-4726-e628-69f780591e02"
      },
      "execution_count": null,
      "outputs": [
        {
          "output_type": "stream",
          "name": "stdout",
          "text": [
            "--2022-09-06 12:03:23--  https://raw.githubusercontent.com/arghanath007/MachineLearning/main/helper_functions.py\n",
            "Resolving raw.githubusercontent.com (raw.githubusercontent.com)... 185.199.108.133, 185.199.109.133, 185.199.110.133, ...\n",
            "Connecting to raw.githubusercontent.com (raw.githubusercontent.com)|185.199.108.133|:443... connected.\n",
            "HTTP request sent, awaiting response... 200 OK\n",
            "Length: 23370 (23K) [text/plain]\n",
            "Saving to: ‘helper_functions.py’\n",
            "\n",
            "\rhelper_functions.py   0%[                    ]       0  --.-KB/s               \rhelper_functions.py 100%[===================>]  22.82K  --.-KB/s    in 0s      \n",
            "\n",
            "2022-09-06 12:03:23 (113 MB/s) - ‘helper_functions.py’ saved [23370/23370]\n",
            "\n"
          ]
        }
      ]
    },
    {
      "cell_type": "code",
      "source": [
        "from helper_functions import model_check_point_callback, plot_loss_curves"
      ],
      "metadata": {
        "id": "3GCDXtIZrwD7"
      },
      "execution_count": 99,
      "outputs": []
    },
    {
      "cell_type": "markdown",
      "source": [
        "## Getting the data"
      ],
      "metadata": {
        "id": "BVtEdbMilXBr"
      }
    },
    {
      "cell_type": "code",
      "source": [
        "!wget https://raw.githubusercontent.com/mrdbourke/tensorflow-deep-learning/main/extras/BTC_USD_2013-10-01_2021-05-18-CoinDesk.csv"
      ],
      "metadata": {
        "colab": {
          "base_uri": "https://localhost:8080/"
        },
        "id": "5Sq56VI4lN6S",
        "outputId": "1e10d8bf-3e35-413d-a52b-499ca455a923"
      },
      "execution_count": 1,
      "outputs": [
        {
          "output_type": "stream",
          "name": "stdout",
          "text": [
            "--2022-09-06 11:52:33--  https://raw.githubusercontent.com/mrdbourke/tensorflow-deep-learning/main/extras/BTC_USD_2013-10-01_2021-05-18-CoinDesk.csv\n",
            "Resolving raw.githubusercontent.com (raw.githubusercontent.com)... 185.199.108.133, 185.199.109.133, 185.199.111.133, ...\n",
            "Connecting to raw.githubusercontent.com (raw.githubusercontent.com)|185.199.108.133|:443... connected.\n",
            "HTTP request sent, awaiting response... 200 OK\n",
            "Length: 178509 (174K) [text/plain]\n",
            "Saving to: ‘BTC_USD_2013-10-01_2021-05-18-CoinDesk.csv’\n",
            "\n",
            "\r          BTC_USD_2   0%[                    ]       0  --.-KB/s               \rBTC_USD_2013-10-01_ 100%[===================>] 174.33K  --.-KB/s    in 0.003s  \n",
            "\n",
            "2022-09-06 11:52:33 (63.6 MB/s) - ‘BTC_USD_2013-10-01_2021-05-18-CoinDesk.csv’ saved [178509/178509]\n",
            "\n"
          ]
        }
      ]
    },
    {
      "cell_type": "code",
      "source": [
        "import pandas as pd"
      ],
      "metadata": {
        "id": "XIw4yah5l0oR"
      },
      "execution_count": 2,
      "outputs": []
    },
    {
      "cell_type": "code",
      "source": [
        "bitcoin_df= pd.read_csv('/content/BTC_USD_2013-10-01_2021-05-18-CoinDesk.csv', parse_dates=[\"Date\"], index_col=[\"Date\"])\n",
        "bitcoin_df"
      ],
      "metadata": {
        "colab": {
          "base_uri": "https://localhost:8080/",
          "height": 490
        },
        "id": "fgf80rLDlUJz",
        "outputId": "66b1a8b8-b123-4025-f3f5-cff6359edeac"
      },
      "execution_count": 3,
      "outputs": [
        {
          "output_type": "execute_result",
          "data": {
            "text/plain": [
              "           Currency  Closing Price (USD)  24h Open (USD)  24h High (USD)  \\\n",
              "Date                                                                       \n",
              "2013-10-01      BTC           123.654990      124.304660      124.751660   \n",
              "2013-10-02      BTC           125.455000      123.654990      125.758500   \n",
              "2013-10-03      BTC           108.584830      125.455000      125.665660   \n",
              "2013-10-04      BTC           118.674660      108.584830      118.675000   \n",
              "2013-10-05      BTC           121.338660      118.674660      121.936330   \n",
              "...             ...                  ...             ...             ...   \n",
              "2021-05-14      BTC         49764.132082    49596.778891    51448.798576   \n",
              "2021-05-15      BTC         50032.693137    49717.354353    51578.312545   \n",
              "2021-05-16      BTC         47885.625255    49926.035067    50690.802950   \n",
              "2021-05-17      BTC         45604.615754    46805.537852    49670.414174   \n",
              "2021-05-18      BTC         43144.471291    46439.336570    46622.853437   \n",
              "\n",
              "            24h Low (USD)  \n",
              "Date                       \n",
              "2013-10-01     122.563490  \n",
              "2013-10-02     123.633830  \n",
              "2013-10-03      83.328330  \n",
              "2013-10-04     107.058160  \n",
              "2013-10-05     118.005660  \n",
              "...                   ...  \n",
              "2021-05-14   46294.720180  \n",
              "2021-05-15   48944.346536  \n",
              "2021-05-16   47005.102292  \n",
              "2021-05-17   43868.638969  \n",
              "2021-05-18   42102.346430  \n",
              "\n",
              "[2787 rows x 5 columns]"
            ],
            "text/html": [
              "\n",
              "  <div id=\"df-0008d5bd-f419-4417-b4ef-7f850252dc1b\">\n",
              "    <div class=\"colab-df-container\">\n",
              "      <div>\n",
              "<style scoped>\n",
              "    .dataframe tbody tr th:only-of-type {\n",
              "        vertical-align: middle;\n",
              "    }\n",
              "\n",
              "    .dataframe tbody tr th {\n",
              "        vertical-align: top;\n",
              "    }\n",
              "\n",
              "    .dataframe thead th {\n",
              "        text-align: right;\n",
              "    }\n",
              "</style>\n",
              "<table border=\"1\" class=\"dataframe\">\n",
              "  <thead>\n",
              "    <tr style=\"text-align: right;\">\n",
              "      <th></th>\n",
              "      <th>Currency</th>\n",
              "      <th>Closing Price (USD)</th>\n",
              "      <th>24h Open (USD)</th>\n",
              "      <th>24h High (USD)</th>\n",
              "      <th>24h Low (USD)</th>\n",
              "    </tr>\n",
              "    <tr>\n",
              "      <th>Date</th>\n",
              "      <th></th>\n",
              "      <th></th>\n",
              "      <th></th>\n",
              "      <th></th>\n",
              "      <th></th>\n",
              "    </tr>\n",
              "  </thead>\n",
              "  <tbody>\n",
              "    <tr>\n",
              "      <th>2013-10-01</th>\n",
              "      <td>BTC</td>\n",
              "      <td>123.654990</td>\n",
              "      <td>124.304660</td>\n",
              "      <td>124.751660</td>\n",
              "      <td>122.563490</td>\n",
              "    </tr>\n",
              "    <tr>\n",
              "      <th>2013-10-02</th>\n",
              "      <td>BTC</td>\n",
              "      <td>125.455000</td>\n",
              "      <td>123.654990</td>\n",
              "      <td>125.758500</td>\n",
              "      <td>123.633830</td>\n",
              "    </tr>\n",
              "    <tr>\n",
              "      <th>2013-10-03</th>\n",
              "      <td>BTC</td>\n",
              "      <td>108.584830</td>\n",
              "      <td>125.455000</td>\n",
              "      <td>125.665660</td>\n",
              "      <td>83.328330</td>\n",
              "    </tr>\n",
              "    <tr>\n",
              "      <th>2013-10-04</th>\n",
              "      <td>BTC</td>\n",
              "      <td>118.674660</td>\n",
              "      <td>108.584830</td>\n",
              "      <td>118.675000</td>\n",
              "      <td>107.058160</td>\n",
              "    </tr>\n",
              "    <tr>\n",
              "      <th>2013-10-05</th>\n",
              "      <td>BTC</td>\n",
              "      <td>121.338660</td>\n",
              "      <td>118.674660</td>\n",
              "      <td>121.936330</td>\n",
              "      <td>118.005660</td>\n",
              "    </tr>\n",
              "    <tr>\n",
              "      <th>...</th>\n",
              "      <td>...</td>\n",
              "      <td>...</td>\n",
              "      <td>...</td>\n",
              "      <td>...</td>\n",
              "      <td>...</td>\n",
              "    </tr>\n",
              "    <tr>\n",
              "      <th>2021-05-14</th>\n",
              "      <td>BTC</td>\n",
              "      <td>49764.132082</td>\n",
              "      <td>49596.778891</td>\n",
              "      <td>51448.798576</td>\n",
              "      <td>46294.720180</td>\n",
              "    </tr>\n",
              "    <tr>\n",
              "      <th>2021-05-15</th>\n",
              "      <td>BTC</td>\n",
              "      <td>50032.693137</td>\n",
              "      <td>49717.354353</td>\n",
              "      <td>51578.312545</td>\n",
              "      <td>48944.346536</td>\n",
              "    </tr>\n",
              "    <tr>\n",
              "      <th>2021-05-16</th>\n",
              "      <td>BTC</td>\n",
              "      <td>47885.625255</td>\n",
              "      <td>49926.035067</td>\n",
              "      <td>50690.802950</td>\n",
              "      <td>47005.102292</td>\n",
              "    </tr>\n",
              "    <tr>\n",
              "      <th>2021-05-17</th>\n",
              "      <td>BTC</td>\n",
              "      <td>45604.615754</td>\n",
              "      <td>46805.537852</td>\n",
              "      <td>49670.414174</td>\n",
              "      <td>43868.638969</td>\n",
              "    </tr>\n",
              "    <tr>\n",
              "      <th>2021-05-18</th>\n",
              "      <td>BTC</td>\n",
              "      <td>43144.471291</td>\n",
              "      <td>46439.336570</td>\n",
              "      <td>46622.853437</td>\n",
              "      <td>42102.346430</td>\n",
              "    </tr>\n",
              "  </tbody>\n",
              "</table>\n",
              "<p>2787 rows × 5 columns</p>\n",
              "</div>\n",
              "      <button class=\"colab-df-convert\" onclick=\"convertToInteractive('df-0008d5bd-f419-4417-b4ef-7f850252dc1b')\"\n",
              "              title=\"Convert this dataframe to an interactive table.\"\n",
              "              style=\"display:none;\">\n",
              "        \n",
              "  <svg xmlns=\"http://www.w3.org/2000/svg\" height=\"24px\"viewBox=\"0 0 24 24\"\n",
              "       width=\"24px\">\n",
              "    <path d=\"M0 0h24v24H0V0z\" fill=\"none\"/>\n",
              "    <path d=\"M18.56 5.44l.94 2.06.94-2.06 2.06-.94-2.06-.94-.94-2.06-.94 2.06-2.06.94zm-11 1L8.5 8.5l.94-2.06 2.06-.94-2.06-.94L8.5 2.5l-.94 2.06-2.06.94zm10 10l.94 2.06.94-2.06 2.06-.94-2.06-.94-.94-2.06-.94 2.06-2.06.94z\"/><path d=\"M17.41 7.96l-1.37-1.37c-.4-.4-.92-.59-1.43-.59-.52 0-1.04.2-1.43.59L10.3 9.45l-7.72 7.72c-.78.78-.78 2.05 0 2.83L4 21.41c.39.39.9.59 1.41.59.51 0 1.02-.2 1.41-.59l7.78-7.78 2.81-2.81c.8-.78.8-2.07 0-2.86zM5.41 20L4 18.59l7.72-7.72 1.47 1.35L5.41 20z\"/>\n",
              "  </svg>\n",
              "      </button>\n",
              "      \n",
              "  <style>\n",
              "    .colab-df-container {\n",
              "      display:flex;\n",
              "      flex-wrap:wrap;\n",
              "      gap: 12px;\n",
              "    }\n",
              "\n",
              "    .colab-df-convert {\n",
              "      background-color: #E8F0FE;\n",
              "      border: none;\n",
              "      border-radius: 50%;\n",
              "      cursor: pointer;\n",
              "      display: none;\n",
              "      fill: #1967D2;\n",
              "      height: 32px;\n",
              "      padding: 0 0 0 0;\n",
              "      width: 32px;\n",
              "    }\n",
              "\n",
              "    .colab-df-convert:hover {\n",
              "      background-color: #E2EBFA;\n",
              "      box-shadow: 0px 1px 2px rgba(60, 64, 67, 0.3), 0px 1px 3px 1px rgba(60, 64, 67, 0.15);\n",
              "      fill: #174EA6;\n",
              "    }\n",
              "\n",
              "    [theme=dark] .colab-df-convert {\n",
              "      background-color: #3B4455;\n",
              "      fill: #D2E3FC;\n",
              "    }\n",
              "\n",
              "    [theme=dark] .colab-df-convert:hover {\n",
              "      background-color: #434B5C;\n",
              "      box-shadow: 0px 1px 3px 1px rgba(0, 0, 0, 0.15);\n",
              "      filter: drop-shadow(0px 1px 2px rgba(0, 0, 0, 0.3));\n",
              "      fill: #FFFFFF;\n",
              "    }\n",
              "  </style>\n",
              "\n",
              "      <script>\n",
              "        const buttonEl =\n",
              "          document.querySelector('#df-0008d5bd-f419-4417-b4ef-7f850252dc1b button.colab-df-convert');\n",
              "        buttonEl.style.display =\n",
              "          google.colab.kernel.accessAllowed ? 'block' : 'none';\n",
              "\n",
              "        async function convertToInteractive(key) {\n",
              "          const element = document.querySelector('#df-0008d5bd-f419-4417-b4ef-7f850252dc1b');\n",
              "          const dataTable =\n",
              "            await google.colab.kernel.invokeFunction('convertToInteractive',\n",
              "                                                     [key], {});\n",
              "          if (!dataTable) return;\n",
              "\n",
              "          const docLinkHtml = 'Like what you see? Visit the ' +\n",
              "            '<a target=\"_blank\" href=https://colab.research.google.com/notebooks/data_table.ipynb>data table notebook</a>'\n",
              "            + ' to learn more about interactive tables.';\n",
              "          element.innerHTML = '';\n",
              "          dataTable['output_type'] = 'display_data';\n",
              "          await google.colab.output.renderOutput(dataTable, element);\n",
              "          const docLink = document.createElement('div');\n",
              "          docLink.innerHTML = docLinkHtml;\n",
              "          element.appendChild(docLink);\n",
              "        }\n",
              "      </script>\n",
              "    </div>\n",
              "  </div>\n",
              "  "
            ]
          },
          "metadata": {},
          "execution_count": 3
        }
      ]
    },
    {
      "cell_type": "markdown",
      "source": [
        "## Getting the Data\n",
        "\n",
        "Link -> https://finance.yahoo.com/quote/BTC-USD/"
      ],
      "metadata": {
        "id": "lPTzUJLwqktz"
      }
    },
    {
      "cell_type": "code",
      "source": [
        "!wget https://media.githubusercontent.com/media/arghanath007/MachineLearning/main/Time%20Series/BTC-USD.csv"
      ],
      "metadata": {
        "colab": {
          "base_uri": "https://localhost:8080/"
        },
        "id": "uYNA5r0hl6MB",
        "outputId": "3b8dd9e0-a283-4066-90a7-4d37a47d7245"
      },
      "execution_count": 4,
      "outputs": [
        {
          "output_type": "stream",
          "name": "stdout",
          "text": [
            "--2022-09-06 11:52:34--  https://media.githubusercontent.com/media/arghanath007/MachineLearning/main/Time%20Series/BTC-USD.csv\n",
            "Resolving media.githubusercontent.com (media.githubusercontent.com)... 185.199.108.133, 185.199.109.133, 185.199.110.133, ...\n",
            "Connecting to media.githubusercontent.com (media.githubusercontent.com)|185.199.108.133|:443... connected.\n",
            "HTTP request sent, awaiting response... 200 OK\n",
            "Length: 236367 (231K) [text/plain]\n",
            "Saving to: ‘BTC-USD.csv’\n",
            "\n",
            "\rBTC-USD.csv           0%[                    ]       0  --.-KB/s               \rBTC-USD.csv         100%[===================>] 230.83K  --.-KB/s    in 0.003s  \n",
            "\n",
            "2022-09-06 11:52:34 (80.5 MB/s) - ‘BTC-USD.csv’ saved [236367/236367]\n",
            "\n"
          ]
        }
      ]
    },
    {
      "cell_type": "code",
      "source": [
        "bitcoin_df.head()"
      ],
      "metadata": {
        "colab": {
          "base_uri": "https://localhost:8080/",
          "height": 255
        },
        "id": "moG5ufP45urb",
        "outputId": "a8686b7a-0a0d-4077-b31d-3942d2836521"
      },
      "execution_count": 5,
      "outputs": [
        {
          "output_type": "execute_result",
          "data": {
            "text/plain": [
              "           Currency  Closing Price (USD)  24h Open (USD)  24h High (USD)  \\\n",
              "Date                                                                       \n",
              "2013-10-01      BTC            123.65499       124.30466       124.75166   \n",
              "2013-10-02      BTC            125.45500       123.65499       125.75850   \n",
              "2013-10-03      BTC            108.58483       125.45500       125.66566   \n",
              "2013-10-04      BTC            118.67466       108.58483       118.67500   \n",
              "2013-10-05      BTC            121.33866       118.67466       121.93633   \n",
              "\n",
              "            24h Low (USD)  \n",
              "Date                       \n",
              "2013-10-01      122.56349  \n",
              "2013-10-02      123.63383  \n",
              "2013-10-03       83.32833  \n",
              "2013-10-04      107.05816  \n",
              "2013-10-05      118.00566  "
            ],
            "text/html": [
              "\n",
              "  <div id=\"df-e0243bf6-5a8f-4085-a3d7-a918c578be93\">\n",
              "    <div class=\"colab-df-container\">\n",
              "      <div>\n",
              "<style scoped>\n",
              "    .dataframe tbody tr th:only-of-type {\n",
              "        vertical-align: middle;\n",
              "    }\n",
              "\n",
              "    .dataframe tbody tr th {\n",
              "        vertical-align: top;\n",
              "    }\n",
              "\n",
              "    .dataframe thead th {\n",
              "        text-align: right;\n",
              "    }\n",
              "</style>\n",
              "<table border=\"1\" class=\"dataframe\">\n",
              "  <thead>\n",
              "    <tr style=\"text-align: right;\">\n",
              "      <th></th>\n",
              "      <th>Currency</th>\n",
              "      <th>Closing Price (USD)</th>\n",
              "      <th>24h Open (USD)</th>\n",
              "      <th>24h High (USD)</th>\n",
              "      <th>24h Low (USD)</th>\n",
              "    </tr>\n",
              "    <tr>\n",
              "      <th>Date</th>\n",
              "      <th></th>\n",
              "      <th></th>\n",
              "      <th></th>\n",
              "      <th></th>\n",
              "      <th></th>\n",
              "    </tr>\n",
              "  </thead>\n",
              "  <tbody>\n",
              "    <tr>\n",
              "      <th>2013-10-01</th>\n",
              "      <td>BTC</td>\n",
              "      <td>123.65499</td>\n",
              "      <td>124.30466</td>\n",
              "      <td>124.75166</td>\n",
              "      <td>122.56349</td>\n",
              "    </tr>\n",
              "    <tr>\n",
              "      <th>2013-10-02</th>\n",
              "      <td>BTC</td>\n",
              "      <td>125.45500</td>\n",
              "      <td>123.65499</td>\n",
              "      <td>125.75850</td>\n",
              "      <td>123.63383</td>\n",
              "    </tr>\n",
              "    <tr>\n",
              "      <th>2013-10-03</th>\n",
              "      <td>BTC</td>\n",
              "      <td>108.58483</td>\n",
              "      <td>125.45500</td>\n",
              "      <td>125.66566</td>\n",
              "      <td>83.32833</td>\n",
              "    </tr>\n",
              "    <tr>\n",
              "      <th>2013-10-04</th>\n",
              "      <td>BTC</td>\n",
              "      <td>118.67466</td>\n",
              "      <td>108.58483</td>\n",
              "      <td>118.67500</td>\n",
              "      <td>107.05816</td>\n",
              "    </tr>\n",
              "    <tr>\n",
              "      <th>2013-10-05</th>\n",
              "      <td>BTC</td>\n",
              "      <td>121.33866</td>\n",
              "      <td>118.67466</td>\n",
              "      <td>121.93633</td>\n",
              "      <td>118.00566</td>\n",
              "    </tr>\n",
              "  </tbody>\n",
              "</table>\n",
              "</div>\n",
              "      <button class=\"colab-df-convert\" onclick=\"convertToInteractive('df-e0243bf6-5a8f-4085-a3d7-a918c578be93')\"\n",
              "              title=\"Convert this dataframe to an interactive table.\"\n",
              "              style=\"display:none;\">\n",
              "        \n",
              "  <svg xmlns=\"http://www.w3.org/2000/svg\" height=\"24px\"viewBox=\"0 0 24 24\"\n",
              "       width=\"24px\">\n",
              "    <path d=\"M0 0h24v24H0V0z\" fill=\"none\"/>\n",
              "    <path d=\"M18.56 5.44l.94 2.06.94-2.06 2.06-.94-2.06-.94-.94-2.06-.94 2.06-2.06.94zm-11 1L8.5 8.5l.94-2.06 2.06-.94-2.06-.94L8.5 2.5l-.94 2.06-2.06.94zm10 10l.94 2.06.94-2.06 2.06-.94-2.06-.94-.94-2.06-.94 2.06-2.06.94z\"/><path d=\"M17.41 7.96l-1.37-1.37c-.4-.4-.92-.59-1.43-.59-.52 0-1.04.2-1.43.59L10.3 9.45l-7.72 7.72c-.78.78-.78 2.05 0 2.83L4 21.41c.39.39.9.59 1.41.59.51 0 1.02-.2 1.41-.59l7.78-7.78 2.81-2.81c.8-.78.8-2.07 0-2.86zM5.41 20L4 18.59l7.72-7.72 1.47 1.35L5.41 20z\"/>\n",
              "  </svg>\n",
              "      </button>\n",
              "      \n",
              "  <style>\n",
              "    .colab-df-container {\n",
              "      display:flex;\n",
              "      flex-wrap:wrap;\n",
              "      gap: 12px;\n",
              "    }\n",
              "\n",
              "    .colab-df-convert {\n",
              "      background-color: #E8F0FE;\n",
              "      border: none;\n",
              "      border-radius: 50%;\n",
              "      cursor: pointer;\n",
              "      display: none;\n",
              "      fill: #1967D2;\n",
              "      height: 32px;\n",
              "      padding: 0 0 0 0;\n",
              "      width: 32px;\n",
              "    }\n",
              "\n",
              "    .colab-df-convert:hover {\n",
              "      background-color: #E2EBFA;\n",
              "      box-shadow: 0px 1px 2px rgba(60, 64, 67, 0.3), 0px 1px 3px 1px rgba(60, 64, 67, 0.15);\n",
              "      fill: #174EA6;\n",
              "    }\n",
              "\n",
              "    [theme=dark] .colab-df-convert {\n",
              "      background-color: #3B4455;\n",
              "      fill: #D2E3FC;\n",
              "    }\n",
              "\n",
              "    [theme=dark] .colab-df-convert:hover {\n",
              "      background-color: #434B5C;\n",
              "      box-shadow: 0px 1px 3px 1px rgba(0, 0, 0, 0.15);\n",
              "      filter: drop-shadow(0px 1px 2px rgba(0, 0, 0, 0.3));\n",
              "      fill: #FFFFFF;\n",
              "    }\n",
              "  </style>\n",
              "\n",
              "      <script>\n",
              "        const buttonEl =\n",
              "          document.querySelector('#df-e0243bf6-5a8f-4085-a3d7-a918c578be93 button.colab-df-convert');\n",
              "        buttonEl.style.display =\n",
              "          google.colab.kernel.accessAllowed ? 'block' : 'none';\n",
              "\n",
              "        async function convertToInteractive(key) {\n",
              "          const element = document.querySelector('#df-e0243bf6-5a8f-4085-a3d7-a918c578be93');\n",
              "          const dataTable =\n",
              "            await google.colab.kernel.invokeFunction('convertToInteractive',\n",
              "                                                     [key], {});\n",
              "          if (!dataTable) return;\n",
              "\n",
              "          const docLinkHtml = 'Like what you see? Visit the ' +\n",
              "            '<a target=\"_blank\" href=https://colab.research.google.com/notebooks/data_table.ipynb>data table notebook</a>'\n",
              "            + ' to learn more about interactive tables.';\n",
              "          element.innerHTML = '';\n",
              "          dataTable['output_type'] = 'display_data';\n",
              "          await google.colab.output.renderOutput(dataTable, element);\n",
              "          const docLink = document.createElement('div');\n",
              "          docLink.innerHTML = docLinkHtml;\n",
              "          element.appendChild(docLink);\n",
              "        }\n",
              "      </script>\n",
              "    </div>\n",
              "  </div>\n",
              "  "
            ]
          },
          "metadata": {},
          "execution_count": 5
        }
      ]
    },
    {
      "cell_type": "code",
      "source": [
        "bitcoin_updated_df= pd.read_csv('/content/BTC-USD.csv', parse_dates=[\"Date\"], index_col=[\"Date\"])\n",
        "bitcoin_updated_df"
      ],
      "metadata": {
        "colab": {
          "base_uri": "https://localhost:8080/",
          "height": 490
        },
        "id": "PFdEjKVSm6-a",
        "outputId": "660e5d0a-a37b-4658-b8b5-9e54b705ba5e"
      },
      "execution_count": 6,
      "outputs": [
        {
          "output_type": "execute_result",
          "data": {
            "text/plain": [
              "                    Open          High           Low         Close  \\\n",
              "Date                                                                 \n",
              "2014-10-17    382.756012    385.477997    375.389008    383.757996   \n",
              "2014-10-18    383.976013    395.157990    378.971008    391.441986   \n",
              "2014-10-19    391.253998    393.938995    386.457001    389.545990   \n",
              "2014-10-20    389.230988    390.084015    378.252014    382.845001   \n",
              "2014-10-21    382.420990    392.645996    380.834015    386.475006   \n",
              "...                  ...           ...           ...           ...   \n",
              "2022-09-01  20050.498047  20198.390625  19653.968750  20127.140625   \n",
              "2022-09-02  20126.072266  20401.568359  19814.765625  19969.771484   \n",
              "2022-09-03  19969.718750  20037.009766  19698.355469  19832.087891   \n",
              "2022-09-04  19832.470703  19999.689453  19636.816406  19986.712891   \n",
              "2022-09-05  20027.300781  20027.300781  19674.099609  19728.171875   \n",
              "\n",
              "               Adj Close       Volume  \n",
              "Date                                   \n",
              "2014-10-17    383.757996     13600700  \n",
              "2014-10-18    391.441986     11416800  \n",
              "2014-10-19    389.545990      5914570  \n",
              "2014-10-20    382.845001     16419000  \n",
              "2014-10-21    386.475006     14188900  \n",
              "...                  ...          ...  \n",
              "2022-09-01  20127.140625  30182031010  \n",
              "2022-09-02  19969.771484  29123998928  \n",
              "2022-09-03  19832.087891  23613051457  \n",
              "2022-09-04  19986.712891  25245861652  \n",
              "2022-09-05  19728.171875  27602620416  \n",
              "\n",
              "[2881 rows x 6 columns]"
            ],
            "text/html": [
              "\n",
              "  <div id=\"df-7f254b08-6269-4199-afe0-43505e2537b1\">\n",
              "    <div class=\"colab-df-container\">\n",
              "      <div>\n",
              "<style scoped>\n",
              "    .dataframe tbody tr th:only-of-type {\n",
              "        vertical-align: middle;\n",
              "    }\n",
              "\n",
              "    .dataframe tbody tr th {\n",
              "        vertical-align: top;\n",
              "    }\n",
              "\n",
              "    .dataframe thead th {\n",
              "        text-align: right;\n",
              "    }\n",
              "</style>\n",
              "<table border=\"1\" class=\"dataframe\">\n",
              "  <thead>\n",
              "    <tr style=\"text-align: right;\">\n",
              "      <th></th>\n",
              "      <th>Open</th>\n",
              "      <th>High</th>\n",
              "      <th>Low</th>\n",
              "      <th>Close</th>\n",
              "      <th>Adj Close</th>\n",
              "      <th>Volume</th>\n",
              "    </tr>\n",
              "    <tr>\n",
              "      <th>Date</th>\n",
              "      <th></th>\n",
              "      <th></th>\n",
              "      <th></th>\n",
              "      <th></th>\n",
              "      <th></th>\n",
              "      <th></th>\n",
              "    </tr>\n",
              "  </thead>\n",
              "  <tbody>\n",
              "    <tr>\n",
              "      <th>2014-10-17</th>\n",
              "      <td>382.756012</td>\n",
              "      <td>385.477997</td>\n",
              "      <td>375.389008</td>\n",
              "      <td>383.757996</td>\n",
              "      <td>383.757996</td>\n",
              "      <td>13600700</td>\n",
              "    </tr>\n",
              "    <tr>\n",
              "      <th>2014-10-18</th>\n",
              "      <td>383.976013</td>\n",
              "      <td>395.157990</td>\n",
              "      <td>378.971008</td>\n",
              "      <td>391.441986</td>\n",
              "      <td>391.441986</td>\n",
              "      <td>11416800</td>\n",
              "    </tr>\n",
              "    <tr>\n",
              "      <th>2014-10-19</th>\n",
              "      <td>391.253998</td>\n",
              "      <td>393.938995</td>\n",
              "      <td>386.457001</td>\n",
              "      <td>389.545990</td>\n",
              "      <td>389.545990</td>\n",
              "      <td>5914570</td>\n",
              "    </tr>\n",
              "    <tr>\n",
              "      <th>2014-10-20</th>\n",
              "      <td>389.230988</td>\n",
              "      <td>390.084015</td>\n",
              "      <td>378.252014</td>\n",
              "      <td>382.845001</td>\n",
              "      <td>382.845001</td>\n",
              "      <td>16419000</td>\n",
              "    </tr>\n",
              "    <tr>\n",
              "      <th>2014-10-21</th>\n",
              "      <td>382.420990</td>\n",
              "      <td>392.645996</td>\n",
              "      <td>380.834015</td>\n",
              "      <td>386.475006</td>\n",
              "      <td>386.475006</td>\n",
              "      <td>14188900</td>\n",
              "    </tr>\n",
              "    <tr>\n",
              "      <th>...</th>\n",
              "      <td>...</td>\n",
              "      <td>...</td>\n",
              "      <td>...</td>\n",
              "      <td>...</td>\n",
              "      <td>...</td>\n",
              "      <td>...</td>\n",
              "    </tr>\n",
              "    <tr>\n",
              "      <th>2022-09-01</th>\n",
              "      <td>20050.498047</td>\n",
              "      <td>20198.390625</td>\n",
              "      <td>19653.968750</td>\n",
              "      <td>20127.140625</td>\n",
              "      <td>20127.140625</td>\n",
              "      <td>30182031010</td>\n",
              "    </tr>\n",
              "    <tr>\n",
              "      <th>2022-09-02</th>\n",
              "      <td>20126.072266</td>\n",
              "      <td>20401.568359</td>\n",
              "      <td>19814.765625</td>\n",
              "      <td>19969.771484</td>\n",
              "      <td>19969.771484</td>\n",
              "      <td>29123998928</td>\n",
              "    </tr>\n",
              "    <tr>\n",
              "      <th>2022-09-03</th>\n",
              "      <td>19969.718750</td>\n",
              "      <td>20037.009766</td>\n",
              "      <td>19698.355469</td>\n",
              "      <td>19832.087891</td>\n",
              "      <td>19832.087891</td>\n",
              "      <td>23613051457</td>\n",
              "    </tr>\n",
              "    <tr>\n",
              "      <th>2022-09-04</th>\n",
              "      <td>19832.470703</td>\n",
              "      <td>19999.689453</td>\n",
              "      <td>19636.816406</td>\n",
              "      <td>19986.712891</td>\n",
              "      <td>19986.712891</td>\n",
              "      <td>25245861652</td>\n",
              "    </tr>\n",
              "    <tr>\n",
              "      <th>2022-09-05</th>\n",
              "      <td>20027.300781</td>\n",
              "      <td>20027.300781</td>\n",
              "      <td>19674.099609</td>\n",
              "      <td>19728.171875</td>\n",
              "      <td>19728.171875</td>\n",
              "      <td>27602620416</td>\n",
              "    </tr>\n",
              "  </tbody>\n",
              "</table>\n",
              "<p>2881 rows × 6 columns</p>\n",
              "</div>\n",
              "      <button class=\"colab-df-convert\" onclick=\"convertToInteractive('df-7f254b08-6269-4199-afe0-43505e2537b1')\"\n",
              "              title=\"Convert this dataframe to an interactive table.\"\n",
              "              style=\"display:none;\">\n",
              "        \n",
              "  <svg xmlns=\"http://www.w3.org/2000/svg\" height=\"24px\"viewBox=\"0 0 24 24\"\n",
              "       width=\"24px\">\n",
              "    <path d=\"M0 0h24v24H0V0z\" fill=\"none\"/>\n",
              "    <path d=\"M18.56 5.44l.94 2.06.94-2.06 2.06-.94-2.06-.94-.94-2.06-.94 2.06-2.06.94zm-11 1L8.5 8.5l.94-2.06 2.06-.94-2.06-.94L8.5 2.5l-.94 2.06-2.06.94zm10 10l.94 2.06.94-2.06 2.06-.94-2.06-.94-.94-2.06-.94 2.06-2.06.94z\"/><path d=\"M17.41 7.96l-1.37-1.37c-.4-.4-.92-.59-1.43-.59-.52 0-1.04.2-1.43.59L10.3 9.45l-7.72 7.72c-.78.78-.78 2.05 0 2.83L4 21.41c.39.39.9.59 1.41.59.51 0 1.02-.2 1.41-.59l7.78-7.78 2.81-2.81c.8-.78.8-2.07 0-2.86zM5.41 20L4 18.59l7.72-7.72 1.47 1.35L5.41 20z\"/>\n",
              "  </svg>\n",
              "      </button>\n",
              "      \n",
              "  <style>\n",
              "    .colab-df-container {\n",
              "      display:flex;\n",
              "      flex-wrap:wrap;\n",
              "      gap: 12px;\n",
              "    }\n",
              "\n",
              "    .colab-df-convert {\n",
              "      background-color: #E8F0FE;\n",
              "      border: none;\n",
              "      border-radius: 50%;\n",
              "      cursor: pointer;\n",
              "      display: none;\n",
              "      fill: #1967D2;\n",
              "      height: 32px;\n",
              "      padding: 0 0 0 0;\n",
              "      width: 32px;\n",
              "    }\n",
              "\n",
              "    .colab-df-convert:hover {\n",
              "      background-color: #E2EBFA;\n",
              "      box-shadow: 0px 1px 2px rgba(60, 64, 67, 0.3), 0px 1px 3px 1px rgba(60, 64, 67, 0.15);\n",
              "      fill: #174EA6;\n",
              "    }\n",
              "\n",
              "    [theme=dark] .colab-df-convert {\n",
              "      background-color: #3B4455;\n",
              "      fill: #D2E3FC;\n",
              "    }\n",
              "\n",
              "    [theme=dark] .colab-df-convert:hover {\n",
              "      background-color: #434B5C;\n",
              "      box-shadow: 0px 1px 3px 1px rgba(0, 0, 0, 0.15);\n",
              "      filter: drop-shadow(0px 1px 2px rgba(0, 0, 0, 0.3));\n",
              "      fill: #FFFFFF;\n",
              "    }\n",
              "  </style>\n",
              "\n",
              "      <script>\n",
              "        const buttonEl =\n",
              "          document.querySelector('#df-7f254b08-6269-4199-afe0-43505e2537b1 button.colab-df-convert');\n",
              "        buttonEl.style.display =\n",
              "          google.colab.kernel.accessAllowed ? 'block' : 'none';\n",
              "\n",
              "        async function convertToInteractive(key) {\n",
              "          const element = document.querySelector('#df-7f254b08-6269-4199-afe0-43505e2537b1');\n",
              "          const dataTable =\n",
              "            await google.colab.kernel.invokeFunction('convertToInteractive',\n",
              "                                                     [key], {});\n",
              "          if (!dataTable) return;\n",
              "\n",
              "          const docLinkHtml = 'Like what you see? Visit the ' +\n",
              "            '<a target=\"_blank\" href=https://colab.research.google.com/notebooks/data_table.ipynb>data table notebook</a>'\n",
              "            + ' to learn more about interactive tables.';\n",
              "          element.innerHTML = '';\n",
              "          dataTable['output_type'] = 'display_data';\n",
              "          await google.colab.output.renderOutput(dataTable, element);\n",
              "          const docLink = document.createElement('div');\n",
              "          docLink.innerHTML = docLinkHtml;\n",
              "          element.appendChild(docLink);\n",
              "        }\n",
              "      </script>\n",
              "    </div>\n",
              "  </div>\n",
              "  "
            ]
          },
          "metadata": {},
          "execution_count": 6
        }
      ]
    },
    {
      "cell_type": "code",
      "source": [
        "len(bitcoin_updated_df)"
      ],
      "metadata": {
        "colab": {
          "base_uri": "https://localhost:8080/"
        },
        "id": "N8qMjlgBnCsv",
        "outputId": "2481fe9f-b52b-4e71-e4e0-5d3ca9e215df"
      },
      "execution_count": 7,
      "outputs": [
        {
          "output_type": "execute_result",
          "data": {
            "text/plain": [
              "2881"
            ]
          },
          "metadata": {},
          "execution_count": 7
        }
      ]
    },
    {
      "cell_type": "code",
      "source": [
        "len(bitcoin_df)"
      ],
      "metadata": {
        "colab": {
          "base_uri": "https://localhost:8080/"
        },
        "id": "OOfdHYRmnEMh",
        "outputId": "5862c3fe-40c2-4023-aec0-02498be7930d"
      },
      "execution_count": 8,
      "outputs": [
        {
          "output_type": "execute_result",
          "data": {
            "text/plain": [
              "2787"
            ]
          },
          "metadata": {},
          "execution_count": 8
        }
      ]
    },
    {
      "cell_type": "code",
      "source": [
        "bitcoin_updated_df.tail()"
      ],
      "metadata": {
        "colab": {
          "base_uri": "https://localhost:8080/",
          "height": 255
        },
        "id": "PEk1NK33nGyr",
        "outputId": "3e875e38-db01-4738-91ed-394de3ceb12f"
      },
      "execution_count": 9,
      "outputs": [
        {
          "output_type": "execute_result",
          "data": {
            "text/plain": [
              "                    Open          High           Low         Close  \\\n",
              "Date                                                                 \n",
              "2022-09-01  20050.498047  20198.390625  19653.968750  20127.140625   \n",
              "2022-09-02  20126.072266  20401.568359  19814.765625  19969.771484   \n",
              "2022-09-03  19969.718750  20037.009766  19698.355469  19832.087891   \n",
              "2022-09-04  19832.470703  19999.689453  19636.816406  19986.712891   \n",
              "2022-09-05  20027.300781  20027.300781  19674.099609  19728.171875   \n",
              "\n",
              "               Adj Close       Volume  \n",
              "Date                                   \n",
              "2022-09-01  20127.140625  30182031010  \n",
              "2022-09-02  19969.771484  29123998928  \n",
              "2022-09-03  19832.087891  23613051457  \n",
              "2022-09-04  19986.712891  25245861652  \n",
              "2022-09-05  19728.171875  27602620416  "
            ],
            "text/html": [
              "\n",
              "  <div id=\"df-803a27ea-6c7f-438e-b06e-ec9a33591b9a\">\n",
              "    <div class=\"colab-df-container\">\n",
              "      <div>\n",
              "<style scoped>\n",
              "    .dataframe tbody tr th:only-of-type {\n",
              "        vertical-align: middle;\n",
              "    }\n",
              "\n",
              "    .dataframe tbody tr th {\n",
              "        vertical-align: top;\n",
              "    }\n",
              "\n",
              "    .dataframe thead th {\n",
              "        text-align: right;\n",
              "    }\n",
              "</style>\n",
              "<table border=\"1\" class=\"dataframe\">\n",
              "  <thead>\n",
              "    <tr style=\"text-align: right;\">\n",
              "      <th></th>\n",
              "      <th>Open</th>\n",
              "      <th>High</th>\n",
              "      <th>Low</th>\n",
              "      <th>Close</th>\n",
              "      <th>Adj Close</th>\n",
              "      <th>Volume</th>\n",
              "    </tr>\n",
              "    <tr>\n",
              "      <th>Date</th>\n",
              "      <th></th>\n",
              "      <th></th>\n",
              "      <th></th>\n",
              "      <th></th>\n",
              "      <th></th>\n",
              "      <th></th>\n",
              "    </tr>\n",
              "  </thead>\n",
              "  <tbody>\n",
              "    <tr>\n",
              "      <th>2022-09-01</th>\n",
              "      <td>20050.498047</td>\n",
              "      <td>20198.390625</td>\n",
              "      <td>19653.968750</td>\n",
              "      <td>20127.140625</td>\n",
              "      <td>20127.140625</td>\n",
              "      <td>30182031010</td>\n",
              "    </tr>\n",
              "    <tr>\n",
              "      <th>2022-09-02</th>\n",
              "      <td>20126.072266</td>\n",
              "      <td>20401.568359</td>\n",
              "      <td>19814.765625</td>\n",
              "      <td>19969.771484</td>\n",
              "      <td>19969.771484</td>\n",
              "      <td>29123998928</td>\n",
              "    </tr>\n",
              "    <tr>\n",
              "      <th>2022-09-03</th>\n",
              "      <td>19969.718750</td>\n",
              "      <td>20037.009766</td>\n",
              "      <td>19698.355469</td>\n",
              "      <td>19832.087891</td>\n",
              "      <td>19832.087891</td>\n",
              "      <td>23613051457</td>\n",
              "    </tr>\n",
              "    <tr>\n",
              "      <th>2022-09-04</th>\n",
              "      <td>19832.470703</td>\n",
              "      <td>19999.689453</td>\n",
              "      <td>19636.816406</td>\n",
              "      <td>19986.712891</td>\n",
              "      <td>19986.712891</td>\n",
              "      <td>25245861652</td>\n",
              "    </tr>\n",
              "    <tr>\n",
              "      <th>2022-09-05</th>\n",
              "      <td>20027.300781</td>\n",
              "      <td>20027.300781</td>\n",
              "      <td>19674.099609</td>\n",
              "      <td>19728.171875</td>\n",
              "      <td>19728.171875</td>\n",
              "      <td>27602620416</td>\n",
              "    </tr>\n",
              "  </tbody>\n",
              "</table>\n",
              "</div>\n",
              "      <button class=\"colab-df-convert\" onclick=\"convertToInteractive('df-803a27ea-6c7f-438e-b06e-ec9a33591b9a')\"\n",
              "              title=\"Convert this dataframe to an interactive table.\"\n",
              "              style=\"display:none;\">\n",
              "        \n",
              "  <svg xmlns=\"http://www.w3.org/2000/svg\" height=\"24px\"viewBox=\"0 0 24 24\"\n",
              "       width=\"24px\">\n",
              "    <path d=\"M0 0h24v24H0V0z\" fill=\"none\"/>\n",
              "    <path d=\"M18.56 5.44l.94 2.06.94-2.06 2.06-.94-2.06-.94-.94-2.06-.94 2.06-2.06.94zm-11 1L8.5 8.5l.94-2.06 2.06-.94-2.06-.94L8.5 2.5l-.94 2.06-2.06.94zm10 10l.94 2.06.94-2.06 2.06-.94-2.06-.94-.94-2.06-.94 2.06-2.06.94z\"/><path d=\"M17.41 7.96l-1.37-1.37c-.4-.4-.92-.59-1.43-.59-.52 0-1.04.2-1.43.59L10.3 9.45l-7.72 7.72c-.78.78-.78 2.05 0 2.83L4 21.41c.39.39.9.59 1.41.59.51 0 1.02-.2 1.41-.59l7.78-7.78 2.81-2.81c.8-.78.8-2.07 0-2.86zM5.41 20L4 18.59l7.72-7.72 1.47 1.35L5.41 20z\"/>\n",
              "  </svg>\n",
              "      </button>\n",
              "      \n",
              "  <style>\n",
              "    .colab-df-container {\n",
              "      display:flex;\n",
              "      flex-wrap:wrap;\n",
              "      gap: 12px;\n",
              "    }\n",
              "\n",
              "    .colab-df-convert {\n",
              "      background-color: #E8F0FE;\n",
              "      border: none;\n",
              "      border-radius: 50%;\n",
              "      cursor: pointer;\n",
              "      display: none;\n",
              "      fill: #1967D2;\n",
              "      height: 32px;\n",
              "      padding: 0 0 0 0;\n",
              "      width: 32px;\n",
              "    }\n",
              "\n",
              "    .colab-df-convert:hover {\n",
              "      background-color: #E2EBFA;\n",
              "      box-shadow: 0px 1px 2px rgba(60, 64, 67, 0.3), 0px 1px 3px 1px rgba(60, 64, 67, 0.15);\n",
              "      fill: #174EA6;\n",
              "    }\n",
              "\n",
              "    [theme=dark] .colab-df-convert {\n",
              "      background-color: #3B4455;\n",
              "      fill: #D2E3FC;\n",
              "    }\n",
              "\n",
              "    [theme=dark] .colab-df-convert:hover {\n",
              "      background-color: #434B5C;\n",
              "      box-shadow: 0px 1px 3px 1px rgba(0, 0, 0, 0.15);\n",
              "      filter: drop-shadow(0px 1px 2px rgba(0, 0, 0, 0.3));\n",
              "      fill: #FFFFFF;\n",
              "    }\n",
              "  </style>\n",
              "\n",
              "      <script>\n",
              "        const buttonEl =\n",
              "          document.querySelector('#df-803a27ea-6c7f-438e-b06e-ec9a33591b9a button.colab-df-convert');\n",
              "        buttonEl.style.display =\n",
              "          google.colab.kernel.accessAllowed ? 'block' : 'none';\n",
              "\n",
              "        async function convertToInteractive(key) {\n",
              "          const element = document.querySelector('#df-803a27ea-6c7f-438e-b06e-ec9a33591b9a');\n",
              "          const dataTable =\n",
              "            await google.colab.kernel.invokeFunction('convertToInteractive',\n",
              "                                                     [key], {});\n",
              "          if (!dataTable) return;\n",
              "\n",
              "          const docLinkHtml = 'Like what you see? Visit the ' +\n",
              "            '<a target=\"_blank\" href=https://colab.research.google.com/notebooks/data_table.ipynb>data table notebook</a>'\n",
              "            + ' to learn more about interactive tables.';\n",
              "          element.innerHTML = '';\n",
              "          dataTable['output_type'] = 'display_data';\n",
              "          await google.colab.output.renderOutput(dataTable, element);\n",
              "          const docLink = document.createElement('div');\n",
              "          docLink.innerHTML = docLinkHtml;\n",
              "          element.appendChild(docLink);\n",
              "        }\n",
              "      </script>\n",
              "    </div>\n",
              "  </div>\n",
              "  "
            ]
          },
          "metadata": {},
          "execution_count": 9
        }
      ]
    },
    {
      "cell_type": "code",
      "source": [
        "bitcoin_df.tail()"
      ],
      "metadata": {
        "colab": {
          "base_uri": "https://localhost:8080/",
          "height": 255
        },
        "id": "iv5gDfGbnRXF",
        "outputId": "df1dc008-0cd5-48d4-9eec-19712d7609fc"
      },
      "execution_count": 10,
      "outputs": [
        {
          "output_type": "execute_result",
          "data": {
            "text/plain": [
              "           Currency  Closing Price (USD)  24h Open (USD)  24h High (USD)  \\\n",
              "Date                                                                       \n",
              "2021-05-14      BTC         49764.132082    49596.778891    51448.798576   \n",
              "2021-05-15      BTC         50032.693137    49717.354353    51578.312545   \n",
              "2021-05-16      BTC         47885.625255    49926.035067    50690.802950   \n",
              "2021-05-17      BTC         45604.615754    46805.537852    49670.414174   \n",
              "2021-05-18      BTC         43144.471291    46439.336570    46622.853437   \n",
              "\n",
              "            24h Low (USD)  \n",
              "Date                       \n",
              "2021-05-14   46294.720180  \n",
              "2021-05-15   48944.346536  \n",
              "2021-05-16   47005.102292  \n",
              "2021-05-17   43868.638969  \n",
              "2021-05-18   42102.346430  "
            ],
            "text/html": [
              "\n",
              "  <div id=\"df-216c4452-f531-4a11-9070-6799687c9157\">\n",
              "    <div class=\"colab-df-container\">\n",
              "      <div>\n",
              "<style scoped>\n",
              "    .dataframe tbody tr th:only-of-type {\n",
              "        vertical-align: middle;\n",
              "    }\n",
              "\n",
              "    .dataframe tbody tr th {\n",
              "        vertical-align: top;\n",
              "    }\n",
              "\n",
              "    .dataframe thead th {\n",
              "        text-align: right;\n",
              "    }\n",
              "</style>\n",
              "<table border=\"1\" class=\"dataframe\">\n",
              "  <thead>\n",
              "    <tr style=\"text-align: right;\">\n",
              "      <th></th>\n",
              "      <th>Currency</th>\n",
              "      <th>Closing Price (USD)</th>\n",
              "      <th>24h Open (USD)</th>\n",
              "      <th>24h High (USD)</th>\n",
              "      <th>24h Low (USD)</th>\n",
              "    </tr>\n",
              "    <tr>\n",
              "      <th>Date</th>\n",
              "      <th></th>\n",
              "      <th></th>\n",
              "      <th></th>\n",
              "      <th></th>\n",
              "      <th></th>\n",
              "    </tr>\n",
              "  </thead>\n",
              "  <tbody>\n",
              "    <tr>\n",
              "      <th>2021-05-14</th>\n",
              "      <td>BTC</td>\n",
              "      <td>49764.132082</td>\n",
              "      <td>49596.778891</td>\n",
              "      <td>51448.798576</td>\n",
              "      <td>46294.720180</td>\n",
              "    </tr>\n",
              "    <tr>\n",
              "      <th>2021-05-15</th>\n",
              "      <td>BTC</td>\n",
              "      <td>50032.693137</td>\n",
              "      <td>49717.354353</td>\n",
              "      <td>51578.312545</td>\n",
              "      <td>48944.346536</td>\n",
              "    </tr>\n",
              "    <tr>\n",
              "      <th>2021-05-16</th>\n",
              "      <td>BTC</td>\n",
              "      <td>47885.625255</td>\n",
              "      <td>49926.035067</td>\n",
              "      <td>50690.802950</td>\n",
              "      <td>47005.102292</td>\n",
              "    </tr>\n",
              "    <tr>\n",
              "      <th>2021-05-17</th>\n",
              "      <td>BTC</td>\n",
              "      <td>45604.615754</td>\n",
              "      <td>46805.537852</td>\n",
              "      <td>49670.414174</td>\n",
              "      <td>43868.638969</td>\n",
              "    </tr>\n",
              "    <tr>\n",
              "      <th>2021-05-18</th>\n",
              "      <td>BTC</td>\n",
              "      <td>43144.471291</td>\n",
              "      <td>46439.336570</td>\n",
              "      <td>46622.853437</td>\n",
              "      <td>42102.346430</td>\n",
              "    </tr>\n",
              "  </tbody>\n",
              "</table>\n",
              "</div>\n",
              "      <button class=\"colab-df-convert\" onclick=\"convertToInteractive('df-216c4452-f531-4a11-9070-6799687c9157')\"\n",
              "              title=\"Convert this dataframe to an interactive table.\"\n",
              "              style=\"display:none;\">\n",
              "        \n",
              "  <svg xmlns=\"http://www.w3.org/2000/svg\" height=\"24px\"viewBox=\"0 0 24 24\"\n",
              "       width=\"24px\">\n",
              "    <path d=\"M0 0h24v24H0V0z\" fill=\"none\"/>\n",
              "    <path d=\"M18.56 5.44l.94 2.06.94-2.06 2.06-.94-2.06-.94-.94-2.06-.94 2.06-2.06.94zm-11 1L8.5 8.5l.94-2.06 2.06-.94-2.06-.94L8.5 2.5l-.94 2.06-2.06.94zm10 10l.94 2.06.94-2.06 2.06-.94-2.06-.94-.94-2.06-.94 2.06-2.06.94z\"/><path d=\"M17.41 7.96l-1.37-1.37c-.4-.4-.92-.59-1.43-.59-.52 0-1.04.2-1.43.59L10.3 9.45l-7.72 7.72c-.78.78-.78 2.05 0 2.83L4 21.41c.39.39.9.59 1.41.59.51 0 1.02-.2 1.41-.59l7.78-7.78 2.81-2.81c.8-.78.8-2.07 0-2.86zM5.41 20L4 18.59l7.72-7.72 1.47 1.35L5.41 20z\"/>\n",
              "  </svg>\n",
              "      </button>\n",
              "      \n",
              "  <style>\n",
              "    .colab-df-container {\n",
              "      display:flex;\n",
              "      flex-wrap:wrap;\n",
              "      gap: 12px;\n",
              "    }\n",
              "\n",
              "    .colab-df-convert {\n",
              "      background-color: #E8F0FE;\n",
              "      border: none;\n",
              "      border-radius: 50%;\n",
              "      cursor: pointer;\n",
              "      display: none;\n",
              "      fill: #1967D2;\n",
              "      height: 32px;\n",
              "      padding: 0 0 0 0;\n",
              "      width: 32px;\n",
              "    }\n",
              "\n",
              "    .colab-df-convert:hover {\n",
              "      background-color: #E2EBFA;\n",
              "      box-shadow: 0px 1px 2px rgba(60, 64, 67, 0.3), 0px 1px 3px 1px rgba(60, 64, 67, 0.15);\n",
              "      fill: #174EA6;\n",
              "    }\n",
              "\n",
              "    [theme=dark] .colab-df-convert {\n",
              "      background-color: #3B4455;\n",
              "      fill: #D2E3FC;\n",
              "    }\n",
              "\n",
              "    [theme=dark] .colab-df-convert:hover {\n",
              "      background-color: #434B5C;\n",
              "      box-shadow: 0px 1px 3px 1px rgba(0, 0, 0, 0.15);\n",
              "      filter: drop-shadow(0px 1px 2px rgba(0, 0, 0, 0.3));\n",
              "      fill: #FFFFFF;\n",
              "    }\n",
              "  </style>\n",
              "\n",
              "      <script>\n",
              "        const buttonEl =\n",
              "          document.querySelector('#df-216c4452-f531-4a11-9070-6799687c9157 button.colab-df-convert');\n",
              "        buttonEl.style.display =\n",
              "          google.colab.kernel.accessAllowed ? 'block' : 'none';\n",
              "\n",
              "        async function convertToInteractive(key) {\n",
              "          const element = document.querySelector('#df-216c4452-f531-4a11-9070-6799687c9157');\n",
              "          const dataTable =\n",
              "            await google.colab.kernel.invokeFunction('convertToInteractive',\n",
              "                                                     [key], {});\n",
              "          if (!dataTable) return;\n",
              "\n",
              "          const docLinkHtml = 'Like what you see? Visit the ' +\n",
              "            '<a target=\"_blank\" href=https://colab.research.google.com/notebooks/data_table.ipynb>data table notebook</a>'\n",
              "            + ' to learn more about interactive tables.';\n",
              "          element.innerHTML = '';\n",
              "          dataTable['output_type'] = 'display_data';\n",
              "          await google.colab.output.renderOutput(dataTable, element);\n",
              "          const docLink = document.createElement('div');\n",
              "          docLink.innerHTML = docLinkHtml;\n",
              "          element.appendChild(docLink);\n",
              "        }\n",
              "      </script>\n",
              "    </div>\n",
              "  </div>\n",
              "  "
            ]
          },
          "metadata": {},
          "execution_count": 10
        }
      ]
    },
    {
      "cell_type": "markdown",
      "source": [
        "## DataFrame `Info`"
      ],
      "metadata": {
        "id": "fSyKklISs5B4"
      }
    },
    {
      "cell_type": "code",
      "source": [
        "bitcoin_updated_df.info()"
      ],
      "metadata": {
        "colab": {
          "base_uri": "https://localhost:8080/"
        },
        "id": "91VSFOaKpGQ3",
        "outputId": "6857314b-fac7-44fa-957d-21f098ca1118"
      },
      "execution_count": 11,
      "outputs": [
        {
          "output_type": "stream",
          "name": "stdout",
          "text": [
            "<class 'pandas.core.frame.DataFrame'>\n",
            "DatetimeIndex: 2881 entries, 2014-10-17 to 2022-09-05\n",
            "Data columns (total 6 columns):\n",
            " #   Column     Non-Null Count  Dtype  \n",
            "---  ------     --------------  -----  \n",
            " 0   Open       2881 non-null   float64\n",
            " 1   High       2881 non-null   float64\n",
            " 2   Low        2881 non-null   float64\n",
            " 3   Close      2881 non-null   float64\n",
            " 4   Adj Close  2881 non-null   float64\n",
            " 5   Volume     2881 non-null   int64  \n",
            "dtypes: float64(5), int64(1)\n",
            "memory usage: 157.6 KB\n"
          ]
        }
      ]
    },
    {
      "cell_type": "code",
      "source": [
        "bitcoin_df.info()"
      ],
      "metadata": {
        "colab": {
          "base_uri": "https://localhost:8080/"
        },
        "id": "UTtRvsGV538I",
        "outputId": "359b6ef0-dcfc-4beb-f0b3-37dc7ad4693e"
      },
      "execution_count": 12,
      "outputs": [
        {
          "output_type": "stream",
          "name": "stdout",
          "text": [
            "<class 'pandas.core.frame.DataFrame'>\n",
            "DatetimeIndex: 2787 entries, 2013-10-01 to 2021-05-18\n",
            "Data columns (total 5 columns):\n",
            " #   Column               Non-Null Count  Dtype  \n",
            "---  ------               --------------  -----  \n",
            " 0   Currency             2787 non-null   object \n",
            " 1   Closing Price (USD)  2787 non-null   float64\n",
            " 2   24h Open (USD)       2787 non-null   float64\n",
            " 3   24h High (USD)       2787 non-null   float64\n",
            " 4   24h Low (USD)        2787 non-null   float64\n",
            "dtypes: float64(4), object(1)\n",
            "memory usage: 130.6+ KB\n"
          ]
        }
      ]
    },
    {
      "cell_type": "code",
      "source": [
        "bitcoin_updated_df.describe()"
      ],
      "metadata": {
        "colab": {
          "base_uri": "https://localhost:8080/",
          "height": 323
        },
        "id": "EUnXpkXxsyFk",
        "outputId": "7fb4b078-dadf-4ed5-8e14-7d2c5ef5f0ba"
      },
      "execution_count": 13,
      "outputs": [
        {
          "output_type": "execute_result",
          "data": {
            "text/plain": [
              "               Open          High           Low         Close     Adj Close  \\\n",
              "count   2881.000000   2881.000000   2881.000000   2881.000000   2881.000000   \n",
              "mean   12760.639947  13090.281559  12392.254797  12765.714959  12765.714959   \n",
              "std    16507.337512  16932.420444  16015.174849  16502.554117  16502.554117   \n",
              "min      176.897003    211.731003    171.509995    178.102997    178.102997   \n",
              "25%      665.914978    681.554993    654.786011    666.523010    666.523010   \n",
              "50%     6755.140137   6907.959961   6617.166992   6769.939941   6769.939941   \n",
              "75%    13031.201172  13651.516602  12747.700195  13075.248047  13075.248047   \n",
              "max    67549.734375  68789.625000  66382.062500  67566.828125  67566.828125   \n",
              "\n",
              "             Volume  \n",
              "count  2.881000e+03  \n",
              "mean   1.588919e+10  \n",
              "std    1.987690e+10  \n",
              "min    5.914570e+06  \n",
              "25%    9.913510e+07  \n",
              "50%    6.531940e+09  \n",
              "75%    2.724657e+10  \n",
              "max    3.509679e+11  "
            ],
            "text/html": [
              "\n",
              "  <div id=\"df-fa178942-e6be-4785-b050-a86431a15bdd\">\n",
              "    <div class=\"colab-df-container\">\n",
              "      <div>\n",
              "<style scoped>\n",
              "    .dataframe tbody tr th:only-of-type {\n",
              "        vertical-align: middle;\n",
              "    }\n",
              "\n",
              "    .dataframe tbody tr th {\n",
              "        vertical-align: top;\n",
              "    }\n",
              "\n",
              "    .dataframe thead th {\n",
              "        text-align: right;\n",
              "    }\n",
              "</style>\n",
              "<table border=\"1\" class=\"dataframe\">\n",
              "  <thead>\n",
              "    <tr style=\"text-align: right;\">\n",
              "      <th></th>\n",
              "      <th>Open</th>\n",
              "      <th>High</th>\n",
              "      <th>Low</th>\n",
              "      <th>Close</th>\n",
              "      <th>Adj Close</th>\n",
              "      <th>Volume</th>\n",
              "    </tr>\n",
              "  </thead>\n",
              "  <tbody>\n",
              "    <tr>\n",
              "      <th>count</th>\n",
              "      <td>2881.000000</td>\n",
              "      <td>2881.000000</td>\n",
              "      <td>2881.000000</td>\n",
              "      <td>2881.000000</td>\n",
              "      <td>2881.000000</td>\n",
              "      <td>2.881000e+03</td>\n",
              "    </tr>\n",
              "    <tr>\n",
              "      <th>mean</th>\n",
              "      <td>12760.639947</td>\n",
              "      <td>13090.281559</td>\n",
              "      <td>12392.254797</td>\n",
              "      <td>12765.714959</td>\n",
              "      <td>12765.714959</td>\n",
              "      <td>1.588919e+10</td>\n",
              "    </tr>\n",
              "    <tr>\n",
              "      <th>std</th>\n",
              "      <td>16507.337512</td>\n",
              "      <td>16932.420444</td>\n",
              "      <td>16015.174849</td>\n",
              "      <td>16502.554117</td>\n",
              "      <td>16502.554117</td>\n",
              "      <td>1.987690e+10</td>\n",
              "    </tr>\n",
              "    <tr>\n",
              "      <th>min</th>\n",
              "      <td>176.897003</td>\n",
              "      <td>211.731003</td>\n",
              "      <td>171.509995</td>\n",
              "      <td>178.102997</td>\n",
              "      <td>178.102997</td>\n",
              "      <td>5.914570e+06</td>\n",
              "    </tr>\n",
              "    <tr>\n",
              "      <th>25%</th>\n",
              "      <td>665.914978</td>\n",
              "      <td>681.554993</td>\n",
              "      <td>654.786011</td>\n",
              "      <td>666.523010</td>\n",
              "      <td>666.523010</td>\n",
              "      <td>9.913510e+07</td>\n",
              "    </tr>\n",
              "    <tr>\n",
              "      <th>50%</th>\n",
              "      <td>6755.140137</td>\n",
              "      <td>6907.959961</td>\n",
              "      <td>6617.166992</td>\n",
              "      <td>6769.939941</td>\n",
              "      <td>6769.939941</td>\n",
              "      <td>6.531940e+09</td>\n",
              "    </tr>\n",
              "    <tr>\n",
              "      <th>75%</th>\n",
              "      <td>13031.201172</td>\n",
              "      <td>13651.516602</td>\n",
              "      <td>12747.700195</td>\n",
              "      <td>13075.248047</td>\n",
              "      <td>13075.248047</td>\n",
              "      <td>2.724657e+10</td>\n",
              "    </tr>\n",
              "    <tr>\n",
              "      <th>max</th>\n",
              "      <td>67549.734375</td>\n",
              "      <td>68789.625000</td>\n",
              "      <td>66382.062500</td>\n",
              "      <td>67566.828125</td>\n",
              "      <td>67566.828125</td>\n",
              "      <td>3.509679e+11</td>\n",
              "    </tr>\n",
              "  </tbody>\n",
              "</table>\n",
              "</div>\n",
              "      <button class=\"colab-df-convert\" onclick=\"convertToInteractive('df-fa178942-e6be-4785-b050-a86431a15bdd')\"\n",
              "              title=\"Convert this dataframe to an interactive table.\"\n",
              "              style=\"display:none;\">\n",
              "        \n",
              "  <svg xmlns=\"http://www.w3.org/2000/svg\" height=\"24px\"viewBox=\"0 0 24 24\"\n",
              "       width=\"24px\">\n",
              "    <path d=\"M0 0h24v24H0V0z\" fill=\"none\"/>\n",
              "    <path d=\"M18.56 5.44l.94 2.06.94-2.06 2.06-.94-2.06-.94-.94-2.06-.94 2.06-2.06.94zm-11 1L8.5 8.5l.94-2.06 2.06-.94-2.06-.94L8.5 2.5l-.94 2.06-2.06.94zm10 10l.94 2.06.94-2.06 2.06-.94-2.06-.94-.94-2.06-.94 2.06-2.06.94z\"/><path d=\"M17.41 7.96l-1.37-1.37c-.4-.4-.92-.59-1.43-.59-.52 0-1.04.2-1.43.59L10.3 9.45l-7.72 7.72c-.78.78-.78 2.05 0 2.83L4 21.41c.39.39.9.59 1.41.59.51 0 1.02-.2 1.41-.59l7.78-7.78 2.81-2.81c.8-.78.8-2.07 0-2.86zM5.41 20L4 18.59l7.72-7.72 1.47 1.35L5.41 20z\"/>\n",
              "  </svg>\n",
              "      </button>\n",
              "      \n",
              "  <style>\n",
              "    .colab-df-container {\n",
              "      display:flex;\n",
              "      flex-wrap:wrap;\n",
              "      gap: 12px;\n",
              "    }\n",
              "\n",
              "    .colab-df-convert {\n",
              "      background-color: #E8F0FE;\n",
              "      border: none;\n",
              "      border-radius: 50%;\n",
              "      cursor: pointer;\n",
              "      display: none;\n",
              "      fill: #1967D2;\n",
              "      height: 32px;\n",
              "      padding: 0 0 0 0;\n",
              "      width: 32px;\n",
              "    }\n",
              "\n",
              "    .colab-df-convert:hover {\n",
              "      background-color: #E2EBFA;\n",
              "      box-shadow: 0px 1px 2px rgba(60, 64, 67, 0.3), 0px 1px 3px 1px rgba(60, 64, 67, 0.15);\n",
              "      fill: #174EA6;\n",
              "    }\n",
              "\n",
              "    [theme=dark] .colab-df-convert {\n",
              "      background-color: #3B4455;\n",
              "      fill: #D2E3FC;\n",
              "    }\n",
              "\n",
              "    [theme=dark] .colab-df-convert:hover {\n",
              "      background-color: #434B5C;\n",
              "      box-shadow: 0px 1px 3px 1px rgba(0, 0, 0, 0.15);\n",
              "      filter: drop-shadow(0px 1px 2px rgba(0, 0, 0, 0.3));\n",
              "      fill: #FFFFFF;\n",
              "    }\n",
              "  </style>\n",
              "\n",
              "      <script>\n",
              "        const buttonEl =\n",
              "          document.querySelector('#df-fa178942-e6be-4785-b050-a86431a15bdd button.colab-df-convert');\n",
              "        buttonEl.style.display =\n",
              "          google.colab.kernel.accessAllowed ? 'block' : 'none';\n",
              "\n",
              "        async function convertToInteractive(key) {\n",
              "          const element = document.querySelector('#df-fa178942-e6be-4785-b050-a86431a15bdd');\n",
              "          const dataTable =\n",
              "            await google.colab.kernel.invokeFunction('convertToInteractive',\n",
              "                                                     [key], {});\n",
              "          if (!dataTable) return;\n",
              "\n",
              "          const docLinkHtml = 'Like what you see? Visit the ' +\n",
              "            '<a target=\"_blank\" href=https://colab.research.google.com/notebooks/data_table.ipynb>data table notebook</a>'\n",
              "            + ' to learn more about interactive tables.';\n",
              "          element.innerHTML = '';\n",
              "          dataTable['output_type'] = 'display_data';\n",
              "          await google.colab.output.renderOutput(dataTable, element);\n",
              "          const docLink = document.createElement('div');\n",
              "          docLink.innerHTML = docLinkHtml;\n",
              "          element.appendChild(docLink);\n",
              "        }\n",
              "      </script>\n",
              "    </div>\n",
              "  </div>\n",
              "  "
            ]
          },
          "metadata": {},
          "execution_count": 13
        }
      ]
    },
    {
      "cell_type": "code",
      "source": [
        "len(bitcoin_df) / 365"
      ],
      "metadata": {
        "colab": {
          "base_uri": "https://localhost:8080/"
        },
        "id": "2t39yK6xszcj",
        "outputId": "5f0907a1-21ed-432b-e1f6-1131ced3d2de"
      },
      "execution_count": 14,
      "outputs": [
        {
          "output_type": "execute_result",
          "data": {
            "text/plain": [
              "7.635616438356164"
            ]
          },
          "metadata": {},
          "execution_count": 14
        }
      ]
    },
    {
      "cell_type": "markdown",
      "source": [
        "## Visualizing the dataset"
      ],
      "metadata": {
        "id": "zvSIOJXPtGpH"
      }
    },
    {
      "cell_type": "code",
      "source": [
        "bitcoin_prices= pd.DataFrame(bitcoin_updated_df['Close']).rename(columns={\"Close\": \"Price\"})\n",
        "bitcoin_prices"
      ],
      "metadata": {
        "colab": {
          "base_uri": "https://localhost:8080/",
          "height": 490
        },
        "id": "h2zhL4btxeYA",
        "outputId": "96ce0ae8-69d4-4c4a-ff3e-1c4154e4de75"
      },
      "execution_count": 15,
      "outputs": [
        {
          "output_type": "execute_result",
          "data": {
            "text/plain": [
              "                   Price\n",
              "Date                    \n",
              "2014-10-17    383.757996\n",
              "2014-10-18    391.441986\n",
              "2014-10-19    389.545990\n",
              "2014-10-20    382.845001\n",
              "2014-10-21    386.475006\n",
              "...                  ...\n",
              "2022-09-01  20127.140625\n",
              "2022-09-02  19969.771484\n",
              "2022-09-03  19832.087891\n",
              "2022-09-04  19986.712891\n",
              "2022-09-05  19728.171875\n",
              "\n",
              "[2881 rows x 1 columns]"
            ],
            "text/html": [
              "\n",
              "  <div id=\"df-4fc01fa9-d08e-49d1-9c02-e085f60cdd64\">\n",
              "    <div class=\"colab-df-container\">\n",
              "      <div>\n",
              "<style scoped>\n",
              "    .dataframe tbody tr th:only-of-type {\n",
              "        vertical-align: middle;\n",
              "    }\n",
              "\n",
              "    .dataframe tbody tr th {\n",
              "        vertical-align: top;\n",
              "    }\n",
              "\n",
              "    .dataframe thead th {\n",
              "        text-align: right;\n",
              "    }\n",
              "</style>\n",
              "<table border=\"1\" class=\"dataframe\">\n",
              "  <thead>\n",
              "    <tr style=\"text-align: right;\">\n",
              "      <th></th>\n",
              "      <th>Price</th>\n",
              "    </tr>\n",
              "    <tr>\n",
              "      <th>Date</th>\n",
              "      <th></th>\n",
              "    </tr>\n",
              "  </thead>\n",
              "  <tbody>\n",
              "    <tr>\n",
              "      <th>2014-10-17</th>\n",
              "      <td>383.757996</td>\n",
              "    </tr>\n",
              "    <tr>\n",
              "      <th>2014-10-18</th>\n",
              "      <td>391.441986</td>\n",
              "    </tr>\n",
              "    <tr>\n",
              "      <th>2014-10-19</th>\n",
              "      <td>389.545990</td>\n",
              "    </tr>\n",
              "    <tr>\n",
              "      <th>2014-10-20</th>\n",
              "      <td>382.845001</td>\n",
              "    </tr>\n",
              "    <tr>\n",
              "      <th>2014-10-21</th>\n",
              "      <td>386.475006</td>\n",
              "    </tr>\n",
              "    <tr>\n",
              "      <th>...</th>\n",
              "      <td>...</td>\n",
              "    </tr>\n",
              "    <tr>\n",
              "      <th>2022-09-01</th>\n",
              "      <td>20127.140625</td>\n",
              "    </tr>\n",
              "    <tr>\n",
              "      <th>2022-09-02</th>\n",
              "      <td>19969.771484</td>\n",
              "    </tr>\n",
              "    <tr>\n",
              "      <th>2022-09-03</th>\n",
              "      <td>19832.087891</td>\n",
              "    </tr>\n",
              "    <tr>\n",
              "      <th>2022-09-04</th>\n",
              "      <td>19986.712891</td>\n",
              "    </tr>\n",
              "    <tr>\n",
              "      <th>2022-09-05</th>\n",
              "      <td>19728.171875</td>\n",
              "    </tr>\n",
              "  </tbody>\n",
              "</table>\n",
              "<p>2881 rows × 1 columns</p>\n",
              "</div>\n",
              "      <button class=\"colab-df-convert\" onclick=\"convertToInteractive('df-4fc01fa9-d08e-49d1-9c02-e085f60cdd64')\"\n",
              "              title=\"Convert this dataframe to an interactive table.\"\n",
              "              style=\"display:none;\">\n",
              "        \n",
              "  <svg xmlns=\"http://www.w3.org/2000/svg\" height=\"24px\"viewBox=\"0 0 24 24\"\n",
              "       width=\"24px\">\n",
              "    <path d=\"M0 0h24v24H0V0z\" fill=\"none\"/>\n",
              "    <path d=\"M18.56 5.44l.94 2.06.94-2.06 2.06-.94-2.06-.94-.94-2.06-.94 2.06-2.06.94zm-11 1L8.5 8.5l.94-2.06 2.06-.94-2.06-.94L8.5 2.5l-.94 2.06-2.06.94zm10 10l.94 2.06.94-2.06 2.06-.94-2.06-.94-.94-2.06-.94 2.06-2.06.94z\"/><path d=\"M17.41 7.96l-1.37-1.37c-.4-.4-.92-.59-1.43-.59-.52 0-1.04.2-1.43.59L10.3 9.45l-7.72 7.72c-.78.78-.78 2.05 0 2.83L4 21.41c.39.39.9.59 1.41.59.51 0 1.02-.2 1.41-.59l7.78-7.78 2.81-2.81c.8-.78.8-2.07 0-2.86zM5.41 20L4 18.59l7.72-7.72 1.47 1.35L5.41 20z\"/>\n",
              "  </svg>\n",
              "      </button>\n",
              "      \n",
              "  <style>\n",
              "    .colab-df-container {\n",
              "      display:flex;\n",
              "      flex-wrap:wrap;\n",
              "      gap: 12px;\n",
              "    }\n",
              "\n",
              "    .colab-df-convert {\n",
              "      background-color: #E8F0FE;\n",
              "      border: none;\n",
              "      border-radius: 50%;\n",
              "      cursor: pointer;\n",
              "      display: none;\n",
              "      fill: #1967D2;\n",
              "      height: 32px;\n",
              "      padding: 0 0 0 0;\n",
              "      width: 32px;\n",
              "    }\n",
              "\n",
              "    .colab-df-convert:hover {\n",
              "      background-color: #E2EBFA;\n",
              "      box-shadow: 0px 1px 2px rgba(60, 64, 67, 0.3), 0px 1px 3px 1px rgba(60, 64, 67, 0.15);\n",
              "      fill: #174EA6;\n",
              "    }\n",
              "\n",
              "    [theme=dark] .colab-df-convert {\n",
              "      background-color: #3B4455;\n",
              "      fill: #D2E3FC;\n",
              "    }\n",
              "\n",
              "    [theme=dark] .colab-df-convert:hover {\n",
              "      background-color: #434B5C;\n",
              "      box-shadow: 0px 1px 3px 1px rgba(0, 0, 0, 0.15);\n",
              "      filter: drop-shadow(0px 1px 2px rgba(0, 0, 0, 0.3));\n",
              "      fill: #FFFFFF;\n",
              "    }\n",
              "  </style>\n",
              "\n",
              "      <script>\n",
              "        const buttonEl =\n",
              "          document.querySelector('#df-4fc01fa9-d08e-49d1-9c02-e085f60cdd64 button.colab-df-convert');\n",
              "        buttonEl.style.display =\n",
              "          google.colab.kernel.accessAllowed ? 'block' : 'none';\n",
              "\n",
              "        async function convertToInteractive(key) {\n",
              "          const element = document.querySelector('#df-4fc01fa9-d08e-49d1-9c02-e085f60cdd64');\n",
              "          const dataTable =\n",
              "            await google.colab.kernel.invokeFunction('convertToInteractive',\n",
              "                                                     [key], {});\n",
              "          if (!dataTable) return;\n",
              "\n",
              "          const docLinkHtml = 'Like what you see? Visit the ' +\n",
              "            '<a target=\"_blank\" href=https://colab.research.google.com/notebooks/data_table.ipynb>data table notebook</a>'\n",
              "            + ' to learn more about interactive tables.';\n",
              "          element.innerHTML = '';\n",
              "          dataTable['output_type'] = 'display_data';\n",
              "          await google.colab.output.renderOutput(dataTable, element);\n",
              "          const docLink = document.createElement('div');\n",
              "          docLink.innerHTML = docLinkHtml;\n",
              "          element.appendChild(docLink);\n",
              "        }\n",
              "      </script>\n",
              "    </div>\n",
              "  </div>\n",
              "  "
            ]
          },
          "metadata": {},
          "execution_count": 15
        }
      ]
    },
    {
      "cell_type": "code",
      "source": [
        "import matplotlib.pyplot as plt\n"
      ],
      "metadata": {
        "id": "xRGwzFMWxo_h"
      },
      "execution_count": 16,
      "outputs": []
    },
    {
      "cell_type": "code",
      "source": [
        "bitcoin_prices.plot(figsize=(10,10))\n",
        "plt.ylabel(\"BTC Price\")\n",
        "plt.title(\"Price of Bitcon\", fontsize=16)"
      ],
      "metadata": {
        "colab": {
          "base_uri": "https://localhost:8080/",
          "height": 643
        },
        "id": "2kkCzX4-xwMD",
        "outputId": "6f7b0e2f-e3db-45bd-beb9-98b5a08badc8"
      },
      "execution_count": 17,
      "outputs": [
        {
          "output_type": "execute_result",
          "data": {
            "text/plain": [
              "Text(0.5, 1.0, 'Price of Bitcon')"
            ]
          },
          "metadata": {},
          "execution_count": 17
        },
        {
          "output_type": "display_data",
          "data": {
            "text/plain": [
              "<Figure size 720x720 with 1 Axes>"
            ],
            "image/png": "[encoded data removed]"
          },
          "metadata": {
            "needs_background": "light"
          }
        }
      ]
    },
    {
      "cell_type": "code",
      "source": [
        "bitcoin_df.head()"
      ],
      "metadata": {
        "colab": {
          "base_uri": "https://localhost:8080/",
          "height": 255
        },
        "id": "Apj97xAm2EXO",
        "outputId": "8247c341-30c2-46e3-9c5a-838a131540e3"
      },
      "execution_count": 18,
      "outputs": [
        {
          "output_type": "execute_result",
          "data": {
            "text/plain": [
              "           Currency  Closing Price (USD)  24h Open (USD)  24h High (USD)  \\\n",
              "Date                                                                       \n",
              "2013-10-01      BTC            123.65499       124.30466       124.75166   \n",
              "2013-10-02      BTC            125.45500       123.65499       125.75850   \n",
              "2013-10-03      BTC            108.58483       125.45500       125.66566   \n",
              "2013-10-04      BTC            118.67466       108.58483       118.67500   \n",
              "2013-10-05      BTC            121.33866       118.67466       121.93633   \n",
              "\n",
              "            24h Low (USD)  \n",
              "Date                       \n",
              "2013-10-01      122.56349  \n",
              "2013-10-02      123.63383  \n",
              "2013-10-03       83.32833  \n",
              "2013-10-04      107.05816  \n",
              "2013-10-05      118.00566  "
            ],
            "text/html": [
              "\n",
              "  <div id=\"df-9ac15a1d-24ec-45f4-99c4-03e5135d39af\">\n",
              "    <div class=\"colab-df-container\">\n",
              "      <div>\n",
              "<style scoped>\n",
              "    .dataframe tbody tr th:only-of-type {\n",
              "        vertical-align: middle;\n",
              "    }\n",
              "\n",
              "    .dataframe tbody tr th {\n",
              "        vertical-align: top;\n",
              "    }\n",
              "\n",
              "    .dataframe thead th {\n",
              "        text-align: right;\n",
              "    }\n",
              "</style>\n",
              "<table border=\"1\" class=\"dataframe\">\n",
              "  <thead>\n",
              "    <tr style=\"text-align: right;\">\n",
              "      <th></th>\n",
              "      <th>Currency</th>\n",
              "      <th>Closing Price (USD)</th>\n",
              "      <th>24h Open (USD)</th>\n",
              "      <th>24h High (USD)</th>\n",
              "      <th>24h Low (USD)</th>\n",
              "    </tr>\n",
              "    <tr>\n",
              "      <th>Date</th>\n",
              "      <th></th>\n",
              "      <th></th>\n",
              "      <th></th>\n",
              "      <th></th>\n",
              "      <th></th>\n",
              "    </tr>\n",
              "  </thead>\n",
              "  <tbody>\n",
              "    <tr>\n",
              "      <th>2013-10-01</th>\n",
              "      <td>BTC</td>\n",
              "      <td>123.65499</td>\n",
              "      <td>124.30466</td>\n",
              "      <td>124.75166</td>\n",
              "      <td>122.56349</td>\n",
              "    </tr>\n",
              "    <tr>\n",
              "      <th>2013-10-02</th>\n",
              "      <td>BTC</td>\n",
              "      <td>125.45500</td>\n",
              "      <td>123.65499</td>\n",
              "      <td>125.75850</td>\n",
              "      <td>123.63383</td>\n",
              "    </tr>\n",
              "    <tr>\n",
              "      <th>2013-10-03</th>\n",
              "      <td>BTC</td>\n",
              "      <td>108.58483</td>\n",
              "      <td>125.45500</td>\n",
              "      <td>125.66566</td>\n",
              "      <td>83.32833</td>\n",
              "    </tr>\n",
              "    <tr>\n",
              "      <th>2013-10-04</th>\n",
              "      <td>BTC</td>\n",
              "      <td>118.67466</td>\n",
              "      <td>108.58483</td>\n",
              "      <td>118.67500</td>\n",
              "      <td>107.05816</td>\n",
              "    </tr>\n",
              "    <tr>\n",
              "      <th>2013-10-05</th>\n",
              "      <td>BTC</td>\n",
              "      <td>121.33866</td>\n",
              "      <td>118.67466</td>\n",
              "      <td>121.93633</td>\n",
              "      <td>118.00566</td>\n",
              "    </tr>\n",
              "  </tbody>\n",
              "</table>\n",
              "</div>\n",
              "      <button class=\"colab-df-convert\" onclick=\"convertToInteractive('df-9ac15a1d-24ec-45f4-99c4-03e5135d39af')\"\n",
              "              title=\"Convert this dataframe to an interactive table.\"\n",
              "              style=\"display:none;\">\n",
              "        \n",
              "  <svg xmlns=\"http://www.w3.org/2000/svg\" height=\"24px\"viewBox=\"0 0 24 24\"\n",
              "       width=\"24px\">\n",
              "    <path d=\"M0 0h24v24H0V0z\" fill=\"none\"/>\n",
              "    <path d=\"M18.56 5.44l.94 2.06.94-2.06 2.06-.94-2.06-.94-.94-2.06-.94 2.06-2.06.94zm-11 1L8.5 8.5l.94-2.06 2.06-.94-2.06-.94L8.5 2.5l-.94 2.06-2.06.94zm10 10l.94 2.06.94-2.06 2.06-.94-2.06-.94-.94-2.06-.94 2.06-2.06.94z\"/><path d=\"M17.41 7.96l-1.37-1.37c-.4-.4-.92-.59-1.43-.59-.52 0-1.04.2-1.43.59L10.3 9.45l-7.72 7.72c-.78.78-.78 2.05 0 2.83L4 21.41c.39.39.9.59 1.41.59.51 0 1.02-.2 1.41-.59l7.78-7.78 2.81-2.81c.8-.78.8-2.07 0-2.86zM5.41 20L4 18.59l7.72-7.72 1.47 1.35L5.41 20z\"/>\n",
              "  </svg>\n",
              "      </button>\n",
              "      \n",
              "  <style>\n",
              "    .colab-df-container {\n",
              "      display:flex;\n",
              "      flex-wrap:wrap;\n",
              "      gap: 12px;\n",
              "    }\n",
              "\n",
              "    .colab-df-convert {\n",
              "      background-color: #E8F0FE;\n",
              "      border: none;\n",
              "      border-radius: 50%;\n",
              "      cursor: pointer;\n",
              "      display: none;\n",
              "      fill: #1967D2;\n",
              "      height: 32px;\n",
              "      padding: 0 0 0 0;\n",
              "      width: 32px;\n",
              "    }\n",
              "\n",
              "    .colab-df-convert:hover {\n",
              "      background-color: #E2EBFA;\n",
              "      box-shadow: 0px 1px 2px rgba(60, 64, 67, 0.3), 0px 1px 3px 1px rgba(60, 64, 67, 0.15);\n",
              "      fill: #174EA6;\n",
              "    }\n",
              "\n",
              "    [theme=dark] .colab-df-convert {\n",
              "      background-color: #3B4455;\n",
              "      fill: #D2E3FC;\n",
              "    }\n",
              "\n",
              "    [theme=dark] .colab-df-convert:hover {\n",
              "      background-color: #434B5C;\n",
              "      box-shadow: 0px 1px 3px 1px rgba(0, 0, 0, 0.15);\n",
              "      filter: drop-shadow(0px 1px 2px rgba(0, 0, 0, 0.3));\n",
              "      fill: #FFFFFF;\n",
              "    }\n",
              "  </style>\n",
              "\n",
              "      <script>\n",
              "        const buttonEl =\n",
              "          document.querySelector('#df-9ac15a1d-24ec-45f4-99c4-03e5135d39af button.colab-df-convert');\n",
              "        buttonEl.style.display =\n",
              "          google.colab.kernel.accessAllowed ? 'block' : 'none';\n",
              "\n",
              "        async function convertToInteractive(key) {\n",
              "          const element = document.querySelector('#df-9ac15a1d-24ec-45f4-99c4-03e5135d39af');\n",
              "          const dataTable =\n",
              "            await google.colab.kernel.invokeFunction('convertToInteractive',\n",
              "                                                     [key], {});\n",
              "          if (!dataTable) return;\n",
              "\n",
              "          const docLinkHtml = 'Like what you see? Visit the ' +\n",
              "            '<a target=\"_blank\" href=https://colab.research.google.com/notebooks/data_table.ipynb>data table notebook</a>'\n",
              "            + ' to learn more about interactive tables.';\n",
              "          element.innerHTML = '';\n",
              "          dataTable['output_type'] = 'display_data';\n",
              "          await google.colab.output.renderOutput(dataTable, element);\n",
              "          const docLink = document.createElement('div');\n",
              "          docLink.innerHTML = docLinkHtml;\n",
              "          element.appendChild(docLink);\n",
              "        }\n",
              "      </script>\n",
              "    </div>\n",
              "  </div>\n",
              "  "
            ]
          },
          "metadata": {},
          "execution_count": 18
        }
      ]
    },
    {
      "cell_type": "code",
      "source": [
        "bitcoin_updated_df.head()"
      ],
      "metadata": {
        "colab": {
          "base_uri": "https://localhost:8080/",
          "height": 255
        },
        "id": "Bp1a0wRs2HXT",
        "outputId": "997bf9e5-14b5-4ebd-c51d-287300ddfab7"
      },
      "execution_count": 19,
      "outputs": [
        {
          "output_type": "execute_result",
          "data": {
            "text/plain": [
              "                  Open        High         Low       Close   Adj Close  \\\n",
              "Date                                                                     \n",
              "2014-10-17  382.756012  385.477997  375.389008  383.757996  383.757996   \n",
              "2014-10-18  383.976013  395.157990  378.971008  391.441986  391.441986   \n",
              "2014-10-19  391.253998  393.938995  386.457001  389.545990  389.545990   \n",
              "2014-10-20  389.230988  390.084015  378.252014  382.845001  382.845001   \n",
              "2014-10-21  382.420990  392.645996  380.834015  386.475006  386.475006   \n",
              "\n",
              "              Volume  \n",
              "Date                  \n",
              "2014-10-17  13600700  \n",
              "2014-10-18  11416800  \n",
              "2014-10-19   5914570  \n",
              "2014-10-20  16419000  \n",
              "2014-10-21  14188900  "
            ],
            "text/html": [
              "\n",
              "  <div id=\"df-d792a2a3-c3b0-4d8f-826c-cdae585a8e77\">\n",
              "    <div class=\"colab-df-container\">\n",
              "      <div>\n",
              "<style scoped>\n",
              "    .dataframe tbody tr th:only-of-type {\n",
              "        vertical-align: middle;\n",
              "    }\n",
              "\n",
              "    .dataframe tbody tr th {\n",
              "        vertical-align: top;\n",
              "    }\n",
              "\n",
              "    .dataframe thead th {\n",
              "        text-align: right;\n",
              "    }\n",
              "</style>\n",
              "<table border=\"1\" class=\"dataframe\">\n",
              "  <thead>\n",
              "    <tr style=\"text-align: right;\">\n",
              "      <th></th>\n",
              "      <th>Open</th>\n",
              "      <th>High</th>\n",
              "      <th>Low</th>\n",
              "      <th>Close</th>\n",
              "      <th>Adj Close</th>\n",
              "      <th>Volume</th>\n",
              "    </tr>\n",
              "    <tr>\n",
              "      <th>Date</th>\n",
              "      <th></th>\n",
              "      <th></th>\n",
              "      <th></th>\n",
              "      <th></th>\n",
              "      <th></th>\n",
              "      <th></th>\n",
              "    </tr>\n",
              "  </thead>\n",
              "  <tbody>\n",
              "    <tr>\n",
              "      <th>2014-10-17</th>\n",
              "      <td>382.756012</td>\n",
              "      <td>385.477997</td>\n",
              "      <td>375.389008</td>\n",
              "      <td>383.757996</td>\n",
              "      <td>383.757996</td>\n",
              "      <td>13600700</td>\n",
              "    </tr>\n",
              "    <tr>\n",
              "      <th>2014-10-18</th>\n",
              "      <td>383.976013</td>\n",
              "      <td>395.157990</td>\n",
              "      <td>378.971008</td>\n",
              "      <td>391.441986</td>\n",
              "      <td>391.441986</td>\n",
              "      <td>11416800</td>\n",
              "    </tr>\n",
              "    <tr>\n",
              "      <th>2014-10-19</th>\n",
              "      <td>391.253998</td>\n",
              "      <td>393.938995</td>\n",
              "      <td>386.457001</td>\n",
              "      <td>389.545990</td>\n",
              "      <td>389.545990</td>\n",
              "      <td>5914570</td>\n",
              "    </tr>\n",
              "    <tr>\n",
              "      <th>2014-10-20</th>\n",
              "      <td>389.230988</td>\n",
              "      <td>390.084015</td>\n",
              "      <td>378.252014</td>\n",
              "      <td>382.845001</td>\n",
              "      <td>382.845001</td>\n",
              "      <td>16419000</td>\n",
              "    </tr>\n",
              "    <tr>\n",
              "      <th>2014-10-21</th>\n",
              "      <td>382.420990</td>\n",
              "      <td>392.645996</td>\n",
              "      <td>380.834015</td>\n",
              "      <td>386.475006</td>\n",
              "      <td>386.475006</td>\n",
              "      <td>14188900</td>\n",
              "    </tr>\n",
              "  </tbody>\n",
              "</table>\n",
              "</div>\n",
              "      <button class=\"colab-df-convert\" onclick=\"convertToInteractive('df-d792a2a3-c3b0-4d8f-826c-cdae585a8e77')\"\n",
              "              title=\"Convert this dataframe to an interactive table.\"\n",
              "              style=\"display:none;\">\n",
              "        \n",
              "  <svg xmlns=\"http://www.w3.org/2000/svg\" height=\"24px\"viewBox=\"0 0 24 24\"\n",
              "       width=\"24px\">\n",
              "    <path d=\"M0 0h24v24H0V0z\" fill=\"none\"/>\n",
              "    <path d=\"M18.56 5.44l.94 2.06.94-2.06 2.06-.94-2.06-.94-.94-2.06-.94 2.06-2.06.94zm-11 1L8.5 8.5l.94-2.06 2.06-.94-2.06-.94L8.5 2.5l-.94 2.06-2.06.94zm10 10l.94 2.06.94-2.06 2.06-.94-2.06-.94-.94-2.06-.94 2.06-2.06.94z\"/><path d=\"M17.41 7.96l-1.37-1.37c-.4-.4-.92-.59-1.43-.59-.52 0-1.04.2-1.43.59L10.3 9.45l-7.72 7.72c-.78.78-.78 2.05 0 2.83L4 21.41c.39.39.9.59 1.41.59.51 0 1.02-.2 1.41-.59l7.78-7.78 2.81-2.81c.8-.78.8-2.07 0-2.86zM5.41 20L4 18.59l7.72-7.72 1.47 1.35L5.41 20z\"/>\n",
              "  </svg>\n",
              "      </button>\n",
              "      \n",
              "  <style>\n",
              "    .colab-df-container {\n",
              "      display:flex;\n",
              "      flex-wrap:wrap;\n",
              "      gap: 12px;\n",
              "    }\n",
              "\n",
              "    .colab-df-convert {\n",
              "      background-color: #E8F0FE;\n",
              "      border: none;\n",
              "      border-radius: 50%;\n",
              "      cursor: pointer;\n",
              "      display: none;\n",
              "      fill: #1967D2;\n",
              "      height: 32px;\n",
              "      padding: 0 0 0 0;\n",
              "      width: 32px;\n",
              "    }\n",
              "\n",
              "    .colab-df-convert:hover {\n",
              "      background-color: #E2EBFA;\n",
              "      box-shadow: 0px 1px 2px rgba(60, 64, 67, 0.3), 0px 1px 3px 1px rgba(60, 64, 67, 0.15);\n",
              "      fill: #174EA6;\n",
              "    }\n",
              "\n",
              "    [theme=dark] .colab-df-convert {\n",
              "      background-color: #3B4455;\n",
              "      fill: #D2E3FC;\n",
              "    }\n",
              "\n",
              "    [theme=dark] .colab-df-convert:hover {\n",
              "      background-color: #434B5C;\n",
              "      box-shadow: 0px 1px 3px 1px rgba(0, 0, 0, 0.15);\n",
              "      filter: drop-shadow(0px 1px 2px rgba(0, 0, 0, 0.3));\n",
              "      fill: #FFFFFF;\n",
              "    }\n",
              "  </style>\n",
              "\n",
              "      <script>\n",
              "        const buttonEl =\n",
              "          document.querySelector('#df-d792a2a3-c3b0-4d8f-826c-cdae585a8e77 button.colab-df-convert');\n",
              "        buttonEl.style.display =\n",
              "          google.colab.kernel.accessAllowed ? 'block' : 'none';\n",
              "\n",
              "        async function convertToInteractive(key) {\n",
              "          const element = document.querySelector('#df-d792a2a3-c3b0-4d8f-826c-cdae585a8e77');\n",
              "          const dataTable =\n",
              "            await google.colab.kernel.invokeFunction('convertToInteractive',\n",
              "                                                     [key], {});\n",
              "          if (!dataTable) return;\n",
              "\n",
              "          const docLinkHtml = 'Like what you see? Visit the ' +\n",
              "            '<a target=\"_blank\" href=https://colab.research.google.com/notebooks/data_table.ipynb>data table notebook</a>'\n",
              "            + ' to learn more about interactive tables.';\n",
              "          element.innerHTML = '';\n",
              "          dataTable['output_type'] = 'display_data';\n",
              "          await google.colab.output.renderOutput(dataTable, element);\n",
              "          const docLink = document.createElement('div');\n",
              "          docLink.innerHTML = docLinkHtml;\n",
              "          element.appendChild(docLink);\n",
              "        }\n",
              "      </script>\n",
              "    </div>\n",
              "  </div>\n",
              "  "
            ]
          },
          "metadata": {},
          "execution_count": 19
        }
      ]
    },
    {
      "cell_type": "markdown",
      "source": [
        "## Importing the `bitcon prices csv file using python`\n",
        "\n",
        "Link -> https://realpython.com/python-csv/"
      ],
      "metadata": {
        "id": "ZqAV_6vXxzCt"
      }
    },
    {
      "cell_type": "code",
      "source": [
        "import csv\n",
        "from datetime import datetime\n",
        "\n",
        "timesteps=[]\n",
        "btc_prices=[]\n",
        "\n",
        "with open('/content/BTC_USD_2013-10-01_2021-05-18-CoinDesk.csv', 'r') as f:\n",
        "  csv_reader = csv.reader(f, delimiter=\",\")\n",
        "  next(csv_reader)\n",
        "  for line in csv_reader:\n",
        "      timesteps.append(datetime.strptime(line[1], \"%Y-%m-%d\")) # get the dates as dates (not strings), strptime = string parse time\n",
        "      btc_prices.append(float(line[2])) # get the closing price as float\n",
        "\n",
        "# View first 10 of each\n",
        "timesteps[:10], btc_prices[:10]"
      ],
      "metadata": {
        "colab": {
          "base_uri": "https://localhost:8080/"
        },
        "id": "QbC01FIfzh0B",
        "outputId": "dbfbda26-6ba7-4047-edbf-e849e8b0c20d"
      },
      "execution_count": 20,
      "outputs": [
        {
          "output_type": "execute_result",
          "data": {
            "text/plain": [
              "([datetime.datetime(2013, 10, 1, 0, 0),\n",
              "  datetime.datetime(2013, 10, 2, 0, 0),\n",
              "  datetime.datetime(2013, 10, 3, 0, 0),\n",
              "  datetime.datetime(2013, 10, 4, 0, 0),\n",
              "  datetime.datetime(2013, 10, 5, 0, 0),\n",
              "  datetime.datetime(2013, 10, 6, 0, 0),\n",
              "  datetime.datetime(2013, 10, 7, 0, 0),\n",
              "  datetime.datetime(2013, 10, 8, 0, 0),\n",
              "  datetime.datetime(2013, 10, 9, 0, 0),\n",
              "  datetime.datetime(2013, 10, 10, 0, 0)],\n",
              " [123.65499,\n",
              "  125.455,\n",
              "  108.58483,\n",
              "  118.67466,\n",
              "  121.33866,\n",
              "  120.65533,\n",
              "  121.795,\n",
              "  123.033,\n",
              "  124.049,\n",
              "  125.96116])"
            ]
          },
          "metadata": {},
          "execution_count": 20
        }
      ]
    },
    {
      "cell_type": "code",
      "source": [
        "import csv\n",
        "from datetime import datetime\n",
        "\n",
        "timesteps=[]\n",
        "btc_prices=[]\n",
        "\n",
        "with open('/content/BTC-USD.csv', 'r') as f:\n",
        "  csv_reader = csv.reader(f, delimiter=\",\")\n",
        "  next(csv_reader)\n",
        "  for line in csv_reader:\n",
        "      timesteps.append(datetime.strptime(line[0], \"%Y-%m-%d\")) # get the dates as dates (not strings), strptime = string parse time\n",
        "      btc_prices.append(float(line[4])) # get the closing price as float\n",
        "\n",
        "# View first 10 of each\n",
        "timesteps[:10], btc_prices[:10]"
      ],
      "metadata": {
        "colab": {
          "base_uri": "https://localhost:8080/"
        },
        "id": "T96wjpg71Cnn",
        "outputId": "4ecfea69-cfcb-434e-91b8-fdd456545d07"
      },
      "execution_count": 21,
      "outputs": [
        {
          "output_type": "execute_result",
          "data": {
            "text/plain": [
              "([datetime.datetime(2014, 10, 17, 0, 0),\n",
              "  datetime.datetime(2014, 10, 18, 0, 0),\n",
              "  datetime.datetime(2014, 10, 19, 0, 0),\n",
              "  datetime.datetime(2014, 10, 20, 0, 0),\n",
              "  datetime.datetime(2014, 10, 21, 0, 0),\n",
              "  datetime.datetime(2014, 10, 22, 0, 0),\n",
              "  datetime.datetime(2014, 10, 23, 0, 0),\n",
              "  datetime.datetime(2014, 10, 24, 0, 0),\n",
              "  datetime.datetime(2014, 10, 25, 0, 0),\n",
              "  datetime.datetime(2014, 10, 26, 0, 0)],\n",
              " [383.757996,\n",
              "  391.441986,\n",
              "  389.54599,\n",
              "  382.845001,\n",
              "  386.475006,\n",
              "  383.15799,\n",
              "  358.416992,\n",
              "  358.345001,\n",
              "  347.270996,\n",
              "  354.70401])"
            ]
          },
          "metadata": {},
          "execution_count": 21
        }
      ]
    },
    {
      "cell_type": "markdown",
      "source": [
        "## Visualizing the dataset"
      ],
      "metadata": {
        "id": "y7H1U47m7XcQ"
      }
    },
    {
      "cell_type": "code",
      "source": [
        "plt.figure(figsize=(10, 7))\n",
        "plt.plot(timesteps, btc_prices)\n",
        "plt.title(\"Price of Bitcoin from 1 Oct 2013 to 18 May 2021\", fontsize=16)\n",
        "plt.xlabel(\"Date\")\n",
        "plt.ylabel(\"BTC Price\");"
      ],
      "metadata": {
        "colab": {
          "base_uri": "https://localhost:8080/",
          "height": 460
        },
        "id": "CkycTqYu6x2r",
        "outputId": "2bad14e2-7d13-43c2-f2a5-6fa28deb5d69"
      },
      "execution_count": 22,
      "outputs": [
        {
          "output_type": "display_data",
          "data": {
            "text/plain": [
              "<Figure size 720x504 with 1 Axes>"
            ],
            "image/png": "[encoded data removed]"
          },
          "metadata": {
            "needs_background": "light"
          }
        }
      ]
    },
    {
      "cell_type": "markdown",
      "source": [
        "## `Format Data Type 1`: Creating the train and test datasets from the time series dataset"
      ],
      "metadata": {
        "id": "o8rnb5Ik7Zyh"
      }
    },
    {
      "cell_type": "code",
      "source": [
        "bitcoin_prices[:5]"
      ],
      "metadata": {
        "colab": {
          "base_uri": "https://localhost:8080/",
          "height": 255
        },
        "id": "f1_FcJ7z8eme",
        "outputId": "dd880e53-dab7-44ab-9ee3-944be6c9fb8c"
      },
      "execution_count": 23,
      "outputs": [
        {
          "output_type": "execute_result",
          "data": {
            "text/plain": [
              "                 Price\n",
              "Date                  \n",
              "2014-10-17  383.757996\n",
              "2014-10-18  391.441986\n",
              "2014-10-19  389.545990\n",
              "2014-10-20  382.845001\n",
              "2014-10-21  386.475006"
            ],
            "text/html": [
              "\n",
              "  <div id=\"df-96886c50-5d65-43ec-844b-d43b90b45bfd\">\n",
              "    <div class=\"colab-df-container\">\n",
              "      <div>\n",
              "<style scoped>\n",
              "    .dataframe tbody tr th:only-of-type {\n",
              "        vertical-align: middle;\n",
              "    }\n",
              "\n",
              "    .dataframe tbody tr th {\n",
              "        vertical-align: top;\n",
              "    }\n",
              "\n",
              "    .dataframe thead th {\n",
              "        text-align: right;\n",
              "    }\n",
              "</style>\n",
              "<table border=\"1\" class=\"dataframe\">\n",
              "  <thead>\n",
              "    <tr style=\"text-align: right;\">\n",
              "      <th></th>\n",
              "      <th>Price</th>\n",
              "    </tr>\n",
              "    <tr>\n",
              "      <th>Date</th>\n",
              "      <th></th>\n",
              "    </tr>\n",
              "  </thead>\n",
              "  <tbody>\n",
              "    <tr>\n",
              "      <th>2014-10-17</th>\n",
              "      <td>383.757996</td>\n",
              "    </tr>\n",
              "    <tr>\n",
              "      <th>2014-10-18</th>\n",
              "      <td>391.441986</td>\n",
              "    </tr>\n",
              "    <tr>\n",
              "      <th>2014-10-19</th>\n",
              "      <td>389.545990</td>\n",
              "    </tr>\n",
              "    <tr>\n",
              "      <th>2014-10-20</th>\n",
              "      <td>382.845001</td>\n",
              "    </tr>\n",
              "    <tr>\n",
              "      <th>2014-10-21</th>\n",
              "      <td>386.475006</td>\n",
              "    </tr>\n",
              "  </tbody>\n",
              "</table>\n",
              "</div>\n",
              "      <button class=\"colab-df-convert\" onclick=\"convertToInteractive('df-96886c50-5d65-43ec-844b-d43b90b45bfd')\"\n",
              "              title=\"Convert this dataframe to an interactive table.\"\n",
              "              style=\"display:none;\">\n",
              "        \n",
              "  <svg xmlns=\"http://www.w3.org/2000/svg\" height=\"24px\"viewBox=\"0 0 24 24\"\n",
              "       width=\"24px\">\n",
              "    <path d=\"M0 0h24v24H0V0z\" fill=\"none\"/>\n",
              "    <path d=\"M18.56 5.44l.94 2.06.94-2.06 2.06-.94-2.06-.94-.94-2.06-.94 2.06-2.06.94zm-11 1L8.5 8.5l.94-2.06 2.06-.94-2.06-.94L8.5 2.5l-.94 2.06-2.06.94zm10 10l.94 2.06.94-2.06 2.06-.94-2.06-.94-.94-2.06-.94 2.06-2.06.94z\"/><path d=\"M17.41 7.96l-1.37-1.37c-.4-.4-.92-.59-1.43-.59-.52 0-1.04.2-1.43.59L10.3 9.45l-7.72 7.72c-.78.78-.78 2.05 0 2.83L4 21.41c.39.39.9.59 1.41.59.51 0 1.02-.2 1.41-.59l7.78-7.78 2.81-2.81c.8-.78.8-2.07 0-2.86zM5.41 20L4 18.59l7.72-7.72 1.47 1.35L5.41 20z\"/>\n",
              "  </svg>\n",
              "      </button>\n",
              "      \n",
              "  <style>\n",
              "    .colab-df-container {\n",
              "      display:flex;\n",
              "      flex-wrap:wrap;\n",
              "      gap: 12px;\n",
              "    }\n",
              "\n",
              "    .colab-df-convert {\n",
              "      background-color: #E8F0FE;\n",
              "      border: none;\n",
              "      border-radius: 50%;\n",
              "      cursor: pointer;\n",
              "      display: none;\n",
              "      fill: #1967D2;\n",
              "      height: 32px;\n",
              "      padding: 0 0 0 0;\n",
              "      width: 32px;\n",
              "    }\n",
              "\n",
              "    .colab-df-convert:hover {\n",
              "      background-color: #E2EBFA;\n",
              "      box-shadow: 0px 1px 2px rgba(60, 64, 67, 0.3), 0px 1px 3px 1px rgba(60, 64, 67, 0.15);\n",
              "      fill: #174EA6;\n",
              "    }\n",
              "\n",
              "    [theme=dark] .colab-df-convert {\n",
              "      background-color: #3B4455;\n",
              "      fill: #D2E3FC;\n",
              "    }\n",
              "\n",
              "    [theme=dark] .colab-df-convert:hover {\n",
              "      background-color: #434B5C;\n",
              "      box-shadow: 0px 1px 3px 1px rgba(0, 0, 0, 0.15);\n",
              "      filter: drop-shadow(0px 1px 2px rgba(0, 0, 0, 0.3));\n",
              "      fill: #FFFFFF;\n",
              "    }\n",
              "  </style>\n",
              "\n",
              "      <script>\n",
              "        const buttonEl =\n",
              "          document.querySelector('#df-96886c50-5d65-43ec-844b-d43b90b45bfd button.colab-df-convert');\n",
              "        buttonEl.style.display =\n",
              "          google.colab.kernel.accessAllowed ? 'block' : 'none';\n",
              "\n",
              "        async function convertToInteractive(key) {\n",
              "          const element = document.querySelector('#df-96886c50-5d65-43ec-844b-d43b90b45bfd');\n",
              "          const dataTable =\n",
              "            await google.colab.kernel.invokeFunction('convertToInteractive',\n",
              "                                                     [key], {});\n",
              "          if (!dataTable) return;\n",
              "\n",
              "          const docLinkHtml = 'Like what you see? Visit the ' +\n",
              "            '<a target=\"_blank\" href=https://colab.research.google.com/notebooks/data_table.ipynb>data table notebook</a>'\n",
              "            + ' to learn more about interactive tables.';\n",
              "          element.innerHTML = '';\n",
              "          dataTable['output_type'] = 'display_data';\n",
              "          await google.colab.output.renderOutput(dataTable, element);\n",
              "          const docLink = document.createElement('div');\n",
              "          docLink.innerHTML = docLinkHtml;\n",
              "          element.appendChild(docLink);\n",
              "        }\n",
              "      </script>\n",
              "    </div>\n",
              "  </div>\n",
              "  "
            ]
          },
          "metadata": {},
          "execution_count": 23
        }
      ]
    },
    {
      "cell_type": "markdown",
      "source": [
        "### Creating the datasets the `wrong way`"
      ],
      "metadata": {
        "id": "RNo_vGRP8DsC"
      }
    },
    {
      "cell_type": "code",
      "source": [
        "from sklearn.model_selection import train_test_split"
      ],
      "metadata": {
        "id": "WS9U9yQg8Lj-"
      },
      "execution_count": 24,
      "outputs": []
    },
    {
      "cell_type": "code",
      "source": [
        "timesteps= bitcoin_prices.index.to_numpy()\n",
        "prices= bitcoin_prices['Price'].to_numpy()\n",
        "\n",
        "timesteps[:5], prices[:5]"
      ],
      "metadata": {
        "colab": {
          "base_uri": "https://localhost:8080/"
        },
        "id": "E0D7K9358Xlr",
        "outputId": "908297ba-ffe6-4809-9b57-e8139a591d50"
      },
      "execution_count": 25,
      "outputs": [
        {
          "output_type": "execute_result",
          "data": {
            "text/plain": [
              "(array(['2014-10-17T00:00:00.000000000', '2014-10-18T00:00:00.000000000',\n",
              "        '2014-10-19T00:00:00.000000000', '2014-10-20T00:00:00.000000000',\n",
              "        '2014-10-21T00:00:00.000000000'], dtype='datetime64[ns]'),\n",
              " array([383.757996, 391.441986, 389.54599 , 382.845001, 386.475006]))"
            ]
          },
          "metadata": {},
          "execution_count": 25
        }
      ]
    },
    {
      "cell_type": "code",
      "source": [
        "X_train, X_test, y_train, y_test= train_test_split(timesteps, prices, test_size=0.2, random_state=22)\n",
        "\n",
        "len(X_train), len(X_test), X_train.shape, X_test.shape"
      ],
      "metadata": {
        "colab": {
          "base_uri": "https://localhost:8080/"
        },
        "id": "hD06gFWJ9Kox",
        "outputId": "c94e4e8c-c302-4fa0-fb7f-f94e025fab9e"
      },
      "execution_count": 26,
      "outputs": [
        {
          "output_type": "execute_result",
          "data": {
            "text/plain": [
              "(2304, 577, (2304,), (577,))"
            ]
          },
          "metadata": {},
          "execution_count": 26
        }
      ]
    },
    {
      "cell_type": "markdown",
      "source": [
        "## Let's plot wrong train and test splits"
      ],
      "metadata": {
        "id": "c-k_Zi79-9im"
      }
    },
    {
      "cell_type": "code",
      "source": [
        "plt.figure(figsize=(10, 7))\n",
        "plt.scatter(X_train, y_train, s=5, label=\"Train data\")\n",
        "plt.scatter(X_test, y_test, s=5, label=\"Test data\")\n",
        "plt.xlabel(\"Date\")\n",
        "plt.ylabel(\"BTC Price\")\n",
        "plt.legend(fontsize=14)\n",
        "plt.show();"
      ],
      "metadata": {
        "colab": {
          "base_uri": "https://localhost:8080/",
          "height": 442
        },
        "id": "yuwo3gy29uPi",
        "outputId": "584a0196-d76a-4dd6-ce7f-d2a85d7b71e0"
      },
      "execution_count": 27,
      "outputs": [
        {
          "output_type": "display_data",
          "data": {
            "text/plain": [
              "<Figure size 720x504 with 1 Axes>"
            ],
            "image/png": "[encoded data removed]"
          },
          "metadata": {
            "needs_background": "light"
          }
        }
      ]
    },
    {
      "cell_type": "markdown",
      "source": [
        "### Creating the datasets the `right way`"
      ],
      "metadata": {
        "id": "uoE4qq2oA5IJ"
      }
    },
    {
      "cell_type": "code",
      "source": [
        "split_sizes= int(0.8 * len(prices))\n",
        "\n",
        "X_train, y_train= timesteps[:split_sizes], prices[:split_sizes]\n",
        "\n",
        "X_test, y_test= timesteps[split_sizes: ], prices[split_sizes: ]\n",
        "\n",
        "len(X_train), len(X_test), len(X_train), len(X_test)"
      ],
      "metadata": {
        "colab": {
          "base_uri": "https://localhost:8080/"
        },
        "id": "3fnjtcdn--j3",
        "outputId": "0bf4b791-25e5-4033-f8d4-d9842d4b8e2a"
      },
      "execution_count": 28,
      "outputs": [
        {
          "output_type": "execute_result",
          "data": {
            "text/plain": [
              "(2304, 577, 2304, 577)"
            ]
          },
          "metadata": {},
          "execution_count": 28
        }
      ]
    },
    {
      "cell_type": "markdown",
      "source": [
        "### Let's plot `right` train and test splits"
      ],
      "metadata": {
        "id": "fTDi5ZueBe7P"
      }
    },
    {
      "cell_type": "code",
      "source": [
        "plt.figure(figsize=(10, 7))\n",
        "plt.scatter(X_train, y_train, s=5, label=\"Train data\")\n",
        "plt.scatter(X_test, y_test, s=5, label=\"Test data\")\n",
        "plt.xlabel(\"Date\")\n",
        "plt.ylabel(\"BTC Price\")\n",
        "plt.legend(fontsize=14)\n",
        "plt.show();"
      ],
      "metadata": {
        "colab": {
          "base_uri": "https://localhost:8080/",
          "height": 442
        },
        "id": "Yfz0RTMUBa88",
        "outputId": "29bd0d5a-785f-4634-f6ca-b7a6363541cb"
      },
      "execution_count": 29,
      "outputs": [
        {
          "output_type": "display_data",
          "data": {
            "text/plain": [
              "<Figure size 720x504 with 1 Axes>"
            ],
            "image/png": "[encoded data removed]"
          },
          "metadata": {
            "needs_background": "light"
          }
        }
      ]
    },
    {
      "cell_type": "markdown",
      "source": [
        "##Create a plotting function\n",
        "\n",
        "> Plotting function to plot the datasets \n"
      ],
      "metadata": {
        "id": "q0CUpX1-DMDO"
      }
    },
    {
      "cell_type": "code",
      "source": [
        "# Create a function to plot time series data\n",
        "def plot_time_series(timesteps, values, ylabel,format='.', start=0, end=None, label=None):\n",
        "  \"\"\"\n",
        "  Plots a timesteps (a series of points in time) against values (a series of values across timesteps).\n",
        "  \n",
        "  Parameters\n",
        "  ---------\n",
        "  timesteps : array of timesteps\n",
        "  values : array of values across time\n",
        "  format : style of plot, default \".\"\n",
        "  start : where to start the plot (setting a value will index from start of timesteps & values)\n",
        "  end : where to end the plot (setting a value will index from end of timesteps & values)\n",
        "  label : label to show on plot of values\n",
        "  ylabel: The ylabel of the plot, string type.\n",
        "  \"\"\"\n",
        "  # Plot the series\n",
        "  plt.plot(timesteps[start:end], values[start:end], format, label=label)\n",
        "  plt.xlabel(\"Time\")\n",
        "  plt.ylabel(ylabel)\n",
        "  if label:\n",
        "    plt.legend(fontsize=14) # make label bigger\n",
        "  plt.grid(True)"
      ],
      "metadata": {
        "id": "ZLVCYLYCBiGs"
      },
      "execution_count": 30,
      "outputs": []
    },
    {
      "cell_type": "code",
      "source": [
        "# Try out our plotting function\n",
        "plt.figure(figsize=(10, 7))\n",
        "plot_time_series(timesteps=X_train, values=y_train, label=\"Train data\", ylabel=\"Bitcoin prices\")\n",
        "plot_time_series(timesteps=X_test, values=y_test, label=\"Test data\", ylabel=\"Bitcoin prices\")"
      ],
      "metadata": {
        "colab": {
          "base_uri": "https://localhost:8080/",
          "height": 442
        },
        "id": "QtSuQTa0DljI",
        "outputId": "69eaf79e-d37c-40fc-c6c9-a507568bc890"
      },
      "execution_count": 31,
      "outputs": [
        {
          "output_type": "display_data",
          "data": {
            "text/plain": [
              "<Figure size 720x504 with 1 Axes>"
            ],
            "image/png": "[encoded data removed]"
          },
          "metadata": {
            "needs_background": "light"
          }
        }
      ]
    },
    {
      "cell_type": "markdown",
      "source": [
        "## Modelling Experiments\n",
        "\n",
        "> Before we discuss what modelling experiments we're going to run, there are two terms you should be familiar with, horizon and window.\n",
        "\n",
        "* **Horizon** = `number of timesteps to predict into future`\n",
        "* **Window size**= `number of timesteps from past used to predict horizon`\n",
        "\n",
        "> For example, if we wanted to predict the price of Bitcoin for tomorrow (1 day in the future) using the previous week's worth of Bitcoin prices (7 days in the past), the horizon would be 1 and the window would be 7.\n",
        "\n",
        "### Experiment List: \n",
        "\n",
        "| Model Number | Model Type | Horizon size | Window size | Extra data |\n",
        "| ----- | ----- | ----- | ----- | ----- |\n",
        "| 0 | Naïve model (baseline) | NA | NA | NA |\n",
        "| 1 | Dense model | 1 | 7 | NA |\n",
        "| 2 | Same as 1 | 1 | 30 | NA | \n",
        "| 3 | Same as 1 | 7 | 30 | NA |\n",
        "| 4 | Conv1D | 1 | 7 | NA |\n",
        "| 5 | LSTM | 1 | 7 | NA |\n",
        "| 6 | Same as 1 (but with multivariate data) | 1 | 7 | Block reward size |\n",
        "| 7 | [N-BEATs Algorithm](https://arxiv.org/pdf/1905.10437.pdf) | 1 | 7 | NA |\n",
        "| 8 | Ensemble (multiple models optimized on different loss functions) | 1 | 7 | NA | \n",
        "| 9 | Future prediction model (model to predict future values) | 1 | 7 | NA| \n",
        "| 10 | Same as 1 (but with turkey 🦃 data introduced) | 1 | 7 | NA |\n",
        "\n",
        "\n",
        ">To reiterate, as you can see, we can build many types of models for the data we're working with. But that doesn't mean that they'll perform well. Deep learning is a powerful technique but it doesn't always work. And as always, start with a simple model first and then add complexity as needed.\n",
        "\n"
      ],
      "metadata": {
        "id": "kG0C064nDoC1"
      }
    },
    {
      "cell_type": "markdown",
      "source": [
        "## `Model 0`: Naive Forecasting(baseline)\n",
        "\n",
        "* Docs -> https://otexts.com/fpp2/simple-methods.html"
      ],
      "metadata": {
        "id": "dRajFLvfIUu3"
      }
    },
    {
      "cell_type": "code",
      "source": [
        "y_test[:5]"
      ],
      "metadata": {
        "colab": {
          "base_uri": "https://localhost:8080/"
        },
        "id": "2xIo6gs8NFI0",
        "outputId": "71786ea3-3fd1-46c4-9800-9f909eebd45c"
      },
      "execution_count": 32,
      "outputs": [
        {
          "output_type": "execute_result",
          "data": {
            "text/plain": [
              "array([39266.011719, 38903.441406, 46196.464844, 46481.105469,\n",
              "       44918.183594])"
            ]
          },
          "metadata": {},
          "execution_count": 32
        }
      ]
    },
    {
      "cell_type": "markdown",
      "source": [
        "### Creating a Naive forecast"
      ],
      "metadata": {
        "id": "3OZvs6psMHND"
      }
    },
    {
      "cell_type": "code",
      "source": [
        "naive_forecast= y_test[:-1]\n",
        "\n",
        "naive_forecast[:10], naive_forecast[-10:]"
      ],
      "metadata": {
        "colab": {
          "base_uri": "https://localhost:8080/"
        },
        "id": "xicaFrpGNEnZ",
        "outputId": "e3e526a4-9cc8-4c45-e2e2-4a54fb352263"
      },
      "execution_count": 33,
      "outputs": [
        {
          "output_type": "execute_result",
          "data": {
            "text/plain": [
              "(array([39266.011719, 38903.441406, 46196.464844, 46481.105469,\n",
              "        44918.183594, 47909.332031, 47504.851563, 47105.515625,\n",
              "        48717.289063, 47945.058594]),\n",
              " array([20260.019531, 20041.738281, 19616.814453, 20297.994141,\n",
              "        19796.808594, 20049.763672, 20127.140625, 19969.771484,\n",
              "        19832.087891, 19986.712891]))"
            ]
          },
          "metadata": {},
          "execution_count": 33
        }
      ]
    },
    {
      "cell_type": "code",
      "source": [
        "y_test[-10:]"
      ],
      "metadata": {
        "colab": {
          "base_uri": "https://localhost:8080/"
        },
        "id": "vL_4mYTZNQB3",
        "outputId": "71379f04-c2fd-4df1-b382-5ddaf0b466db"
      },
      "execution_count": 34,
      "outputs": [
        {
          "output_type": "execute_result",
          "data": {
            "text/plain": [
              "array([20041.738281, 19616.814453, 20297.994141, 19796.808594,\n",
              "       20049.763672, 20127.140625, 19969.771484, 19832.087891,\n",
              "       19986.712891, 19728.171875])"
            ]
          },
          "metadata": {},
          "execution_count": 34
        }
      ]
    },
    {
      "cell_type": "markdown",
      "source": [
        "### Plotting the Naive forecast"
      ],
      "metadata": {
        "id": "maWQZoVgNZ2t"
      }
    },
    {
      "cell_type": "code",
      "source": [
        "plt.figure(figsize=(10,7))\n",
        "plot_time_series(timesteps=X_train, values=y_train, label=\"Train data\", ylabel=\"Bitcoin Prices\")\n",
        "plot_time_series(timesteps=X_test, values=y_test, label=\"Test data\", ylabel=\"Bitcoin Prices\")\n",
        "plot_time_series(timesteps=X_test[1:], values=naive_forecast, label=\"Naive Forecast\", ylabel=\"Bitcoin Prices\")"
      ],
      "metadata": {
        "colab": {
          "base_uri": "https://localhost:8080/",
          "height": 442
        },
        "id": "7v-NZAtQNjXd",
        "outputId": "f7441008-a10e-41f0-c17e-d75e608c5785"
      },
      "execution_count": 35,
      "outputs": [
        {
          "output_type": "display_data",
          "data": {
            "text/plain": [
              "<Figure size 720x504 with 1 Axes>"
            ],
            "image/png": "[encoded data removed]"
          },
          "metadata": {
            "needs_background": "light"
          }
        }
      ]
    },
    {
      "cell_type": "code",
      "source": [
        "plt.figure(figsize=(10,7))\n",
        "plot_time_series(timesteps=X_train, values=y_train, label=\"Train data\", ylabel=\"Bitcoin Prices\")\n",
        "# plot_time_series(timesteps=X_test, values=y_test, label=\"Test data\", ylabel=\"Bitcoin Prices\")\n",
        "plot_time_series(timesteps=X_test[1:], values=naive_forecast, label=\"Naive Forecast\", ylabel=\"Bitcoin Prices\")"
      ],
      "metadata": {
        "colab": {
          "base_uri": "https://localhost:8080/",
          "height": 442
        },
        "id": "jdwhTp1GOC0F",
        "outputId": "a6d0cd61-af7a-4d8b-da12-3a02d13a45f1"
      },
      "execution_count": 36,
      "outputs": [
        {
          "output_type": "display_data",
          "data": {
            "text/plain": [
              "<Figure size 720x504 with 1 Axes>"
            ],
            "image/png": "[encoded data removed]"
          },
          "metadata": {
            "needs_background": "light"
          }
        }
      ]
    },
    {
      "cell_type": "code",
      "source": [
        "plt.figure(figsize=(10,7))\n",
        "# plot_time_series(timesteps=X_train, values=y_train, label=\"Train data\", ylabel=\"Bitcoin Prices\")\n",
        "plot_time_series(timesteps=X_test, values=y_test, label=\"Test data\", start=500, ylabel=\"Bitcoin Prices\")\n",
        "plot_time_series(timesteps=X_test[1:], values=naive_forecast, label=\"Naive Forecast\", start=500, ylabel=\"Bitcoin Prices\")"
      ],
      "metadata": {
        "id": "gWIHPcIMOTBv",
        "colab": {
          "base_uri": "https://localhost:8080/",
          "height": 442
        },
        "outputId": "a92869b8-b4f8-4460-ff53-67ed7c086b4f"
      },
      "execution_count": 37,
      "outputs": [
        {
          "output_type": "display_data",
          "data": {
            "text/plain": [
              "<Figure size 720x504 with 1 Axes>"
            ],
            "image/png": "[encoded data removed]"
          },
          "metadata": {
            "needs_background": "light"
          }
        }
      ]
    },
    {
      "cell_type": "markdown",
      "source": [
        "## Evaluating a time series model\n",
        "\n",
        "> Time series forecasting often involves predicting a number (in our case, the price of Bitcoin). And what kind of problem is predicting a number?\n",
        "\n",
        "> **Regression**.\n",
        "\n",
        "With this known, we can use regression evaluation metrics to evaluate our time series forecasts.\n",
        "\n",
        "The main thing we will be evaluating is: **how do our model's predictions (`y_pred`) compare against the actual values (`y_true` or *ground truth values*)**? \n",
        "\n",
        "> 📖 **Resource:** We're going to be using several metrics to evaluate our different model's time series forecast accuracy. Many of them are sourced and explained mathematically and conceptually in [Forecasting: Principles and Practice chapter 5.8](https://otexts.com/fpp3/accuracy.html), I'd recommend reading through here for a more in-depth overview of what we're going to practice.\n",
        "\n",
        "For all of the following metrics, **lower is better** (for example an MAE of 0 is better than an MAE 100).\n",
        "\n",
        "### Scale-dependent errors\n",
        "\n",
        "These are metrics which can be used to compare time series values and forecasts that are on the same scale.\n",
        "\n",
        "For example, Bitcoin historical prices in USD veresus Bitcoin forecast values in USD.\n",
        "\n",
        "| Metric | Details | Code |\n",
        "| ----- | ----- | ----- |\n",
        "| **MAE** (mean absolute error) | Easy to interpret (a forecast is X amount different from actual amount). Forecast methods which minimises the MAE will lead to forecasts of the median. | [`tf.keras.metrics.mean_absolute_error()`](https://www.tensorflow.org/api_docs/python/tf/keras/metrics/MeanAbsoluteError) |\n",
        "| **RMSE** (root mean square error) | Forecasts which minimise the RMSE lead to forecasts of the mean. | `tf.sqrt(`[`tf.keras.metrics.mean_square_error()`](https://www.tensorflow.org/api_docs/python/tf/keras/metrics/RootMeanSquaredError)`)`|\n",
        "\n",
        "### Percentage errors\n",
        "\n",
        "Percentage errors do not have units, this means they can be used to compare forecasts across different datasets.\n",
        "\n",
        "| **Metric** | **Details** | **Code** |\n",
        "| ----- | ----- | ----- |\n",
        "| **MAPE** (mean absolute percentage error) | Most commonly used percentage error. May explode (not work) if `y=0`. | [`tf.keras.metrics.mean_absolute_percentage_error()`](https://www.tensorflow.org/api_docs/python/tf/keras/losses/MAPE) | \n",
        "| **sMAPE** (symmetric mean absolute percentage error) | Recommended not to be used by [Forecasting: Principles and Practice](https://otexts.com/fpp3/accuracy.html#percentage-errors), though it is used in forecasting competitions. | Custom implementation |\n",
        "\n",
        "### Scaled errors\n",
        "\n",
        "Scaled errors are an alternative to percentage errors when comparing forecast performance across different time series.\n",
        "\n",
        "| **Metric** | **Details** | **Code** |\n",
        "| ----- | ----- | ----- |\n",
        "| **MASE** (mean absolute scaled error). | MASE equals one for the naive forecast (or very close to one). A forecast which performs better than the naïve should get <1 MASE. | See sktime's [`mase_loss()`](https://github.com/alan-turing-institute/sktime/blob/ee7a06843a44f4aaec7582d847e36073a9ab0566/sktime/performance_metrics/forecasting/_functions.py#L16) |\n",
        "\n",
        "> 🤔 **Question:** There are so many metrics... which one should I pay most attention to? It's going to depend on your problem. However, since its ease of interpretation (you can explain it in a sentence to your grandma), MAE is often a very good place to start.\n",
        "\n",
        "Since we're going to be evaluing a lot of models, let's write a function to help us calculate evaluation metrics on their forecasts."
      ],
      "metadata": {
        "id": "Hf-YBToJIDJr"
      }
    },
    {
      "cell_type": "code",
      "source": [
        "import tensorflow as tf\n",
        "import numpy as np"
      ],
      "metadata": {
        "id": "wsIbGFwtROKJ"
      },
      "execution_count": 38,
      "outputs": []
    },
    {
      "cell_type": "code",
      "source": [
        "# MASE implemented courtesy of sktime - https://github.com/alan-turing-institute/sktime/blob/ee7a06843a44f4aaec7582d847e36073a9ab0566/sktime/performance_metrics/forecasting/_functions.py#L16\n",
        "def mean_absolute_scaled_error(y_true, y_pred):\n",
        "  \"\"\"\n",
        "  Implement MASE (assuming no seasonality of data).\n",
        "  \"\"\"\n",
        "  mae = tf.reduce_mean(tf.abs(y_true - y_pred))\n",
        "\n",
        "  # Find MAE of naive forecast (no seasonality)\n",
        "  mae_naive_no_season = tf.reduce_mean(tf.abs(y_true[1:] - y_true[:-1])) # our seasonality is 1 day (hence the shifting of 1 day)\n",
        "\n",
        "  return mae / mae_naive_no_season"
      ],
      "metadata": {
        "id": "1a06pUShRf7N"
      },
      "execution_count": 39,
      "outputs": []
    },
    {
      "cell_type": "code",
      "source": [
        "mean_absolute_scaled_error(y_test[1:], naive_forecast).numpy()"
      ],
      "metadata": {
        "colab": {
          "base_uri": "https://localhost:8080/"
        },
        "id": "06DCTH8SR_9h",
        "outputId": "fb38d7ce-ba6e-472a-a65f-7723da35206c"
      },
      "execution_count": 40,
      "outputs": [
        {
          "output_type": "execute_result",
          "data": {
            "text/plain": [
              "0.9988074616716925"
            ]
          },
          "metadata": {},
          "execution_count": 40
        }
      ]
    },
    {
      "cell_type": "markdown",
      "source": [
        "## Function to evaluate a time series model"
      ],
      "metadata": {
        "id": "6619b3KrSFJQ"
      }
    },
    {
      "cell_type": "code",
      "source": [
        "def evaluate_preds(y_true, y_pred):\n",
        "  \"\"\"\n",
        "    Description:\n",
        "      Function to get the different evaluation metrics of a time series model.\n",
        "    Parameters:\n",
        "      y_true: The truth/actual values.(y_test)\n",
        "      y_pred: The predicted values of the model(y_preds)\n",
        "  \"\"\"\n",
        "  mae = tf.keras.metrics.mean_absolute_error(y_true, y_pred)\n",
        "  mse = tf.keras.metrics.mean_squared_error(y_true, y_pred) # puts and emphasis on outliers (all errors get squared)\n",
        "  rmse = tf.sqrt(mse)\n",
        "  mape = tf.keras.metrics.mean_absolute_percentage_error(y_true, y_pred)\n",
        "  mase = mean_absolute_scaled_error(y_true, y_pred)\n",
        "  \n",
        "  return {\"mae\": mae.numpy(),\n",
        "          \"mse\": mse.numpy(),\n",
        "          \"rmse\": rmse.numpy(),\n",
        "          \"mape\": mape.numpy(),\n",
        "          \"mase\": mase.numpy()}\n"
      ],
      "metadata": {
        "id": "YQW774rOX0RX"
      },
      "execution_count": 41,
      "outputs": []
    },
    {
      "cell_type": "code",
      "source": [
        "naive_results= evaluate_preds(y_test[1:], naive_forecast)\n",
        "naive_results"
      ],
      "metadata": {
        "colab": {
          "base_uri": "https://localhost:8080/"
        },
        "id": "voJZhAtvYXxK",
        "outputId": "a5863c63-af24-4792-ad75-27bea1a9fe59"
      },
      "execution_count": 96,
      "outputs": [
        {
          "output_type": "execute_result",
          "data": {
            "text/plain": [
              "{'mae': 1156.6283501875,\n",
              " 'mse': 2681841.620560925,\n",
              " 'rmse': 1637.6329321801406,\n",
              " 'mape': 2.7766003833746318,\n",
              " 'mase': 0.9988074616716925}"
            ]
          },
          "metadata": {},
          "execution_count": 96
        }
      ]
    },
    {
      "cell_type": "code",
      "source": [
        "y_test.dtype"
      ],
      "metadata": {
        "colab": {
          "base_uri": "https://localhost:8080/"
        },
        "id": "4YPWfdcNYbcq",
        "outputId": "0cfa9ede-b894-4eb6-d56b-36ec20385ff9"
      },
      "execution_count": 43,
      "outputs": [
        {
          "output_type": "execute_result",
          "data": {
            "text/plain": [
              "dtype('float64')"
            ]
          },
          "metadata": {},
          "execution_count": 43
        }
      ]
    },
    {
      "cell_type": "code",
      "source": [
        "naive_forecast[-10:]"
      ],
      "metadata": {
        "colab": {
          "base_uri": "https://localhost:8080/"
        },
        "id": "5Z6xahWBY291",
        "outputId": "c8b5b580-1244-494c-9a2c-10ea0235cfc9"
      },
      "execution_count": 44,
      "outputs": [
        {
          "output_type": "execute_result",
          "data": {
            "text/plain": [
              "array([20260.019531, 20041.738281, 19616.814453, 20297.994141,\n",
              "       19796.808594, 20049.763672, 20127.140625, 19969.771484,\n",
              "       19832.087891, 19986.712891])"
            ]
          },
          "metadata": {},
          "execution_count": 44
        }
      ]
    },
    {
      "cell_type": "code",
      "source": [
        "tf.reduce_mean(y_test).numpy()"
      ],
      "metadata": {
        "colab": {
          "base_uri": "https://localhost:8080/"
        },
        "id": "6RjBqvYobvd6",
        "outputId": "5cf81f85-049c-41d7-ef6e-1c4bb1ef42f6"
      },
      "execution_count": 45,
      "outputs": [
        {
          "output_type": "execute_result",
          "data": {
            "text/plain": [
              "41924.317618164634"
            ]
          },
          "metadata": {},
          "execution_count": 45
        }
      ]
    },
    {
      "cell_type": "code",
      "source": [
        "tf.reduce_max(y_test).numpy(), tf.reduce_min(y_test).numpy()"
      ],
      "metadata": {
        "colab": {
          "base_uri": "https://localhost:8080/"
        },
        "id": "nnS5vn7pby9I",
        "outputId": "2aff4220-94e1-4032-e55d-38488f3acba6"
      },
      "execution_count": 46,
      "outputs": [
        {
          "output_type": "execute_result",
          "data": {
            "text/plain": [
              "(67566.828125, 19017.642578)"
            ]
          },
          "metadata": {},
          "execution_count": 46
        }
      ]
    },
    {
      "cell_type": "markdown",
      "source": [
        "## `Format Data Type 2`: Windowing dataset\n",
        "\n",
        "> For example for a univariate time series, windowing for one week (`window=7`) to predict the next single value (`horizon=1`) might look like:\n",
        "\n",
        "```\n",
        "Window for one week (univariate time series)\n",
        "\n",
        "[0, 1, 2, 3, 4, 5, 6] -> [7]\n",
        "[1, 2, 3, 4, 5, 6, 7] -> [8]\n",
        "[2, 3, 4, 5, 6, 7, 8] -> [9]\n",
        "```\n",
        "\n",
        "> Or for the price of Bitcoin, it'd look like:\n",
        "\n",
        "```\n",
        "Window for one week with the target of predicting the next day (Bitcoin prices)\n",
        "\n",
        "[123.654, 125.455, 108.584, 118.674, 121.338, 120.655, 121.795] -> [123.033]\n",
        "[125.455, 108.584, 118.674, 121.338, 120.655, 121.795, 123.033] -> [124.049]\n",
        "[108.584, 118.674, 121.338, 120.655, 121.795, 123.033, 124.049] -> [125.961]\n",
        "```\n"
      ],
      "metadata": {
        "id": "9YGdUmvkb3u7"
      }
    },
    {
      "cell_type": "code",
      "source": [
        "bitcoin_prices[:5]"
      ],
      "metadata": {
        "colab": {
          "base_uri": "https://localhost:8080/",
          "height": 255
        },
        "id": "AgCDMJdGfe7w",
        "outputId": "a3ec37fa-2e9f-4f65-eaed-6cac7300a676"
      },
      "execution_count": 47,
      "outputs": [
        {
          "output_type": "execute_result",
          "data": {
            "text/plain": [
              "                 Price\n",
              "Date                  \n",
              "2014-10-17  383.757996\n",
              "2014-10-18  391.441986\n",
              "2014-10-19  389.545990\n",
              "2014-10-20  382.845001\n",
              "2014-10-21  386.475006"
            ],
            "text/html": [
              "\n",
              "  <div id=\"df-49ee62f9-b319-43c0-8ddd-0415404573c4\">\n",
              "    <div class=\"colab-df-container\">\n",
              "      <div>\n",
              "<style scoped>\n",
              "    .dataframe tbody tr th:only-of-type {\n",
              "        vertical-align: middle;\n",
              "    }\n",
              "\n",
              "    .dataframe tbody tr th {\n",
              "        vertical-align: top;\n",
              "    }\n",
              "\n",
              "    .dataframe thead th {\n",
              "        text-align: right;\n",
              "    }\n",
              "</style>\n",
              "<table border=\"1\" class=\"dataframe\">\n",
              "  <thead>\n",
              "    <tr style=\"text-align: right;\">\n",
              "      <th></th>\n",
              "      <th>Price</th>\n",
              "    </tr>\n",
              "    <tr>\n",
              "      <th>Date</th>\n",
              "      <th></th>\n",
              "    </tr>\n",
              "  </thead>\n",
              "  <tbody>\n",
              "    <tr>\n",
              "      <th>2014-10-17</th>\n",
              "      <td>383.757996</td>\n",
              "    </tr>\n",
              "    <tr>\n",
              "      <th>2014-10-18</th>\n",
              "      <td>391.441986</td>\n",
              "    </tr>\n",
              "    <tr>\n",
              "      <th>2014-10-19</th>\n",
              "      <td>389.545990</td>\n",
              "    </tr>\n",
              "    <tr>\n",
              "      <th>2014-10-20</th>\n",
              "      <td>382.845001</td>\n",
              "    </tr>\n",
              "    <tr>\n",
              "      <th>2014-10-21</th>\n",
              "      <td>386.475006</td>\n",
              "    </tr>\n",
              "  </tbody>\n",
              "</table>\n",
              "</div>\n",
              "      <button class=\"colab-df-convert\" onclick=\"convertToInteractive('df-49ee62f9-b319-43c0-8ddd-0415404573c4')\"\n",
              "              title=\"Convert this dataframe to an interactive table.\"\n",
              "              style=\"display:none;\">\n",
              "        \n",
              "  <svg xmlns=\"http://www.w3.org/2000/svg\" height=\"24px\"viewBox=\"0 0 24 24\"\n",
              "       width=\"24px\">\n",
              "    <path d=\"M0 0h24v24H0V0z\" fill=\"none\"/>\n",
              "    <path d=\"M18.56 5.44l.94 2.06.94-2.06 2.06-.94-2.06-.94-.94-2.06-.94 2.06-2.06.94zm-11 1L8.5 8.5l.94-2.06 2.06-.94-2.06-.94L8.5 2.5l-.94 2.06-2.06.94zm10 10l.94 2.06.94-2.06 2.06-.94-2.06-.94-.94-2.06-.94 2.06-2.06.94z\"/><path d=\"M17.41 7.96l-1.37-1.37c-.4-.4-.92-.59-1.43-.59-.52 0-1.04.2-1.43.59L10.3 9.45l-7.72 7.72c-.78.78-.78 2.05 0 2.83L4 21.41c.39.39.9.59 1.41.59.51 0 1.02-.2 1.41-.59l7.78-7.78 2.81-2.81c.8-.78.8-2.07 0-2.86zM5.41 20L4 18.59l7.72-7.72 1.47 1.35L5.41 20z\"/>\n",
              "  </svg>\n",
              "      </button>\n",
              "      \n",
              "  <style>\n",
              "    .colab-df-container {\n",
              "      display:flex;\n",
              "      flex-wrap:wrap;\n",
              "      gap: 12px;\n",
              "    }\n",
              "\n",
              "    .colab-df-convert {\n",
              "      background-color: #E8F0FE;\n",
              "      border: none;\n",
              "      border-radius: 50%;\n",
              "      cursor: pointer;\n",
              "      display: none;\n",
              "      fill: #1967D2;\n",
              "      height: 32px;\n",
              "      padding: 0 0 0 0;\n",
              "      width: 32px;\n",
              "    }\n",
              "\n",
              "    .colab-df-convert:hover {\n",
              "      background-color: #E2EBFA;\n",
              "      box-shadow: 0px 1px 2px rgba(60, 64, 67, 0.3), 0px 1px 3px 1px rgba(60, 64, 67, 0.15);\n",
              "      fill: #174EA6;\n",
              "    }\n",
              "\n",
              "    [theme=dark] .colab-df-convert {\n",
              "      background-color: #3B4455;\n",
              "      fill: #D2E3FC;\n",
              "    }\n",
              "\n",
              "    [theme=dark] .colab-df-convert:hover {\n",
              "      background-color: #434B5C;\n",
              "      box-shadow: 0px 1px 3px 1px rgba(0, 0, 0, 0.15);\n",
              "      filter: drop-shadow(0px 1px 2px rgba(0, 0, 0, 0.3));\n",
              "      fill: #FFFFFF;\n",
              "    }\n",
              "  </style>\n",
              "\n",
              "      <script>\n",
              "        const buttonEl =\n",
              "          document.querySelector('#df-49ee62f9-b319-43c0-8ddd-0415404573c4 button.colab-df-convert');\n",
              "        buttonEl.style.display =\n",
              "          google.colab.kernel.accessAllowed ? 'block' : 'none';\n",
              "\n",
              "        async function convertToInteractive(key) {\n",
              "          const element = document.querySelector('#df-49ee62f9-b319-43c0-8ddd-0415404573c4');\n",
              "          const dataTable =\n",
              "            await google.colab.kernel.invokeFunction('convertToInteractive',\n",
              "                                                     [key], {});\n",
              "          if (!dataTable) return;\n",
              "\n",
              "          const docLinkHtml = 'Like what you see? Visit the ' +\n",
              "            '<a target=\"_blank\" href=https://colab.research.google.com/notebooks/data_table.ipynb>data table notebook</a>'\n",
              "            + ' to learn more about interactive tables.';\n",
              "          element.innerHTML = '';\n",
              "          dataTable['output_type'] = 'display_data';\n",
              "          await google.colab.output.renderOutput(dataTable, element);\n",
              "          const docLink = document.createElement('div');\n",
              "          docLink.innerHTML = docLinkHtml;\n",
              "          element.appendChild(docLink);\n",
              "        }\n",
              "      </script>\n",
              "    </div>\n",
              "  </div>\n",
              "  "
            ]
          },
          "metadata": {},
          "execution_count": 47
        }
      ]
    },
    {
      "cell_type": "code",
      "source": [
        "len(bitcoin_prices)"
      ],
      "metadata": {
        "colab": {
          "base_uri": "https://localhost:8080/"
        },
        "id": "kV-4O0UsfuZa",
        "outputId": "cd34bfe1-3b93-4ca4-cd96-b78790030a4a"
      },
      "execution_count": 48,
      "outputs": [
        {
          "output_type": "execute_result",
          "data": {
            "text/plain": [
              "2881"
            ]
          },
          "metadata": {},
          "execution_count": 48
        }
      ]
    },
    {
      "cell_type": "code",
      "source": [
        "len(btc_prices)"
      ],
      "metadata": {
        "colab": {
          "base_uri": "https://localhost:8080/"
        },
        "id": "yArHpyMWfwZW",
        "outputId": "30bd724c-b0c6-4069-afc1-06573e5ece45"
      },
      "execution_count": 49,
      "outputs": [
        {
          "output_type": "execute_result",
          "data": {
            "text/plain": [
              "2881"
            ]
          },
          "metadata": {},
          "execution_count": 49
        }
      ]
    },
    {
      "cell_type": "code",
      "source": [
        "btc_prices[:5]"
      ],
      "metadata": {
        "colab": {
          "base_uri": "https://localhost:8080/"
        },
        "id": "vjfPsXx_gMWO",
        "outputId": "423ad201-2613-4e4d-e74f-478c49e7b14f"
      },
      "execution_count": 50,
      "outputs": [
        {
          "output_type": "execute_result",
          "data": {
            "text/plain": [
              "[383.757996, 391.441986, 389.54599, 382.845001, 386.475006]"
            ]
          },
          "metadata": {},
          "execution_count": 50
        }
      ]
    },
    {
      "cell_type": "markdown",
      "source": [
        "## Global Values for `Horizon` and `Window_Size`"
      ],
      "metadata": {
        "id": "C61SiIvRevQl"
      }
    },
    {
      "cell_type": "code",
      "source": [
        "HORIZON = 1 # predict 1 step at a time\n",
        "WINDOW_SIZE = 7 # use a week worth of timesteps to predict the horizon"
      ],
      "metadata": {
        "id": "7kX4xi4ofcEo"
      },
      "execution_count": 51,
      "outputs": []
    },
    {
      "cell_type": "markdown",
      "source": [
        "## Functuon to `label windowed data`"
      ],
      "metadata": {
        "id": "BuxF92FafcwI"
      }
    },
    {
      "cell_type": "code",
      "source": [
        "def get_labelled_windows(x, horizon=HORIZON):\n",
        "  \"\"\"\n",
        "    Description:\n",
        "      Creates labels for windowed dataset.\n",
        "      E.g, \n",
        "        if horizon=1\n",
        "        Input: [0,1,2,3,4,5,6,7] -> Output: ([0,1,2,3,4,5,6], [7])\n",
        "  \"\"\"\n",
        "\n",
        "  return x[:, :-horizon], x[:, -horizon:]"
      ],
      "metadata": {
        "id": "I9Ha6ETnhmVF"
      },
      "execution_count": 52,
      "outputs": []
    },
    {
      "cell_type": "code",
      "source": [
        "test_window, test_label= get_labelled_windows(tf.expand_dims(tf.range(8), axis=0))\n",
        "test_window.numpy(), test_label.numpy()"
      ],
      "metadata": {
        "colab": {
          "base_uri": "https://localhost:8080/"
        },
        "id": "b-ZcZPC2iGeC",
        "outputId": "d4a1aed1-06f9-45ed-9f44-746eb060abf8"
      },
      "execution_count": 53,
      "outputs": [
        {
          "output_type": "execute_result",
          "data": {
            "text/plain": [
              "(array([[0, 1, 2, 3, 4, 5, 6]], dtype=int32), array([[7]], dtype=int32))"
            ]
          },
          "metadata": {},
          "execution_count": 53
        }
      ]
    },
    {
      "cell_type": "markdown",
      "source": [
        "## Numpy indexing\n",
        "\n",
        "* Docs -> https://numpy.org/doc/stable/user/basics.indexing.html#basics-indexing\n",
        "\n",
        "### Steps for the function\n",
        "\n",
        "1. Creates a window step of specific window size, for example: [[0, 1, 2, 3, 4, 5, 6, 7]]\n",
        "2. Uses NumPy indexing to create a 2D of multiple window steps, for example:\n",
        "\n",
        "```\n",
        "[[0, 1, 2, 3, 4, 5, 6, 7],\n",
        " [1, 2, 3, 4, 5, 6, 7, 8],\n",
        " [2, 3, 4, 5, 6, 7, 8, 9]]\n",
        "```\n",
        "\n",
        "3. Uses the 2D array of multi-tuple window steps to index on a target series\n",
        "4. Uses the `get_labelled_windows()` function we created above to turn the window steps into windows with a specified horizon"
      ],
      "metadata": {
        "id": "XHzHLib5iQzv"
      }
    },
    {
      "cell_type": "code",
      "source": [
        "np.expand_dims(np.arange(10), axis=0)"
      ],
      "metadata": {
        "colab": {
          "base_uri": "https://localhost:8080/"
        },
        "id": "Yz1cwvyeshiX",
        "outputId": "9d74d39b-283e-43da-da32-ea1725224513"
      },
      "execution_count": 54,
      "outputs": [
        {
          "output_type": "execute_result",
          "data": {
            "text/plain": [
              "array([[0, 1, 2, 3, 4, 5, 6, 7, 8, 9]])"
            ]
          },
          "metadata": {},
          "execution_count": 54
        }
      ]
    },
    {
      "cell_type": "code",
      "source": [
        "np.expand_dims(np.arange(10) + 1, axis=0)"
      ],
      "metadata": {
        "colab": {
          "base_uri": "https://localhost:8080/"
        },
        "id": "csDw2WKAso_J",
        "outputId": "1add9aec-c123-4ddf-e949-d0cf2ab77146"
      },
      "execution_count": 55,
      "outputs": [
        {
          "output_type": "execute_result",
          "data": {
            "text/plain": [
              "array([[ 1,  2,  3,  4,  5,  6,  7,  8,  9, 10]])"
            ]
          },
          "metadata": {},
          "execution_count": 55
        }
      ]
    },
    {
      "cell_type": "code",
      "source": [
        "prices[:5]"
      ],
      "metadata": {
        "colab": {
          "base_uri": "https://localhost:8080/"
        },
        "id": "q51EuwecuGZh",
        "outputId": "1cd09b56-d4e3-4ad1-a765-a4cbee5edd74"
      },
      "execution_count": 56,
      "outputs": [
        {
          "output_type": "execute_result",
          "data": {
            "text/plain": [
              "array([383.757996, 391.441986, 389.54599 , 382.845001, 386.475006])"
            ]
          },
          "metadata": {},
          "execution_count": 56
        }
      ]
    },
    {
      "cell_type": "code",
      "source": [
        "len(prices)"
      ],
      "metadata": {
        "colab": {
          "base_uri": "https://localhost:8080/"
        },
        "id": "LbkVrE8buJHx",
        "outputId": "a9116893-2910-4a3c-b53f-2d446a76da9f"
      },
      "execution_count": 57,
      "outputs": [
        {
          "output_type": "execute_result",
          "data": {
            "text/plain": [
              "2881"
            ]
          },
          "metadata": {},
          "execution_count": 57
        }
      ]
    },
    {
      "cell_type": "markdown",
      "source": [
        "### Function to view numpy arrays as windows"
      ],
      "metadata": {
        "id": "t8Y0p_MWnk9w"
      }
    },
    {
      "cell_type": "code",
      "source": [
        "def make_windows(x, window_size=WINDOW_SIZE, horizon= HORIZON):\n",
        "  \"\"\"\n",
        "    Description:\n",
        "      Turns a 1D array into a 2D array of sequential labelled windows of \"window_size\" with \"horizon_size\" labels. \n",
        "\n",
        "    Returns:\n",
        "      It returns a tuple (windows, labels).\n",
        "  \"\"\"\n",
        "\n",
        "  # 1 Creates a window step of specific window size\n",
        "  window_step= np.expand_dims(np.arange(window_size + horizon), axis=0)\n",
        "\n",
        "  # 2 Uses NumPy indexing to create a 2D of multiple window steps\n",
        "  window_indexes= window_step + np.expand_dims(np.arange(len(x) - (window_size + horizon-1)), axis=0).T # create 2D array of windows of size window_size\n",
        "\n",
        "  # 3 Uses the 2D array of multuple window steps to index on a target series\n",
        "  windowed_array= x[window_indexes]\n",
        "\n",
        "  # 4 Uses the get_labelled_windows() function we created above to turn the window steps into windows with a specified horizon\n",
        "  windows, labels= get_labelled_windows(windowed_array, horizon=horizon)\n",
        "  return windows, labels"
      ],
      "metadata": {
        "id": "9r5BTnBZr0go"
      },
      "execution_count": 137,
      "outputs": []
    },
    {
      "cell_type": "code",
      "source": [
        "full_windows, full_labels= make_windows(prices)\n",
        "\n",
        "len(full_windows), len(full_labels)"
      ],
      "metadata": {
        "colab": {
          "base_uri": "https://localhost:8080/"
        },
        "id": "l5NwjbostjpS",
        "outputId": "5ef0da28-d78b-4815-8610-5758397d6a86"
      },
      "execution_count": 59,
      "outputs": [
        {
          "output_type": "execute_result",
          "data": {
            "text/plain": [
              "(2874, 2874)"
            ]
          },
          "metadata": {},
          "execution_count": 59
        }
      ]
    },
    {
      "cell_type": "code",
      "source": [
        "# View the first 3 windows/labels\n",
        "for i in range(3):\n",
        "  print(f\"Window: {full_windows[i]} -> Label: {full_labels[i]}\")"
      ],
      "metadata": {
        "colab": {
          "base_uri": "https://localhost:8080/"
        },
        "id": "RxxkBP0K2llt",
        "outputId": "59841bcb-28ac-459f-80e4-3e2f0fe9ef96"
      },
      "execution_count": 60,
      "outputs": [
        {
          "output_type": "stream",
          "name": "stdout",
          "text": [
            "Window: [383.757996 391.441986 389.54599  382.845001 386.475006 383.15799\n",
            " 358.416992] -> Label: [358.345001]\n",
            "Window: [391.441986 389.54599  382.845001 386.475006 383.15799  358.416992\n",
            " 358.345001] -> Label: [347.270996]\n",
            "Window: [389.54599  382.845001 386.475006 383.15799  358.416992 358.345001\n",
            " 347.270996] -> Label: [354.70401]\n"
          ]
        }
      ]
    },
    {
      "cell_type": "code",
      "source": [
        "# View the last 3 windows/labels\n",
        "for i in range(3):\n",
        "  print(f\"Window: {full_windows[i-3:]} -> Label: {full_labels[i-3]}\")"
      ],
      "metadata": {
        "colab": {
          "base_uri": "https://localhost:8080/"
        },
        "id": "fFNGLTyx2osf",
        "outputId": "d145bd94-a5c0-4d1b-bda1-5704c2b66ded"
      },
      "execution_count": 61,
      "outputs": [
        {
          "output_type": "stream",
          "name": "stdout",
          "text": [
            "Window: [[20041.738281 19616.814453 20297.994141 19796.808594 20049.763672\n",
            "  20127.140625 19969.771484]\n",
            " [19616.814453 20297.994141 19796.808594 20049.763672 20127.140625\n",
            "  19969.771484 19832.087891]\n",
            " [20297.994141 19796.808594 20049.763672 20127.140625 19969.771484\n",
            "  19832.087891 19986.712891]] -> Label: [19832.087891]\n",
            "Window: [[19616.814453 20297.994141 19796.808594 20049.763672 20127.140625\n",
            "  19969.771484 19832.087891]\n",
            " [20297.994141 19796.808594 20049.763672 20127.140625 19969.771484\n",
            "  19832.087891 19986.712891]] -> Label: [19986.712891]\n",
            "Window: [[20297.994141 19796.808594 20049.763672 20127.140625 19969.771484\n",
            "  19832.087891 19986.712891]] -> Label: [19728.171875]\n"
          ]
        }
      ]
    },
    {
      "cell_type": "markdown",
      "source": [
        "## Tensorflow build-in function which does the same as the above function `make_windows`\n",
        "\n",
        "* Link -> https://www.tensorflow.org/api_docs/python/tf/keras/utils/timeseries_dataset_from_array"
      ],
      "metadata": {
        "id": "c6jYOHRWuEhy"
      }
    },
    {
      "cell_type": "code",
      "source": [
        "# full_dataset= tf.keras.preprocessing.timeseries_dataset_from_array(prices[:-10], prices[10:], sequence_length=10)\n",
        "# full_dataset"
      ],
      "metadata": {
        "id": "TqF2IrAow1Wq"
      },
      "execution_count": 62,
      "outputs": []
    },
    {
      "cell_type": "code",
      "source": [
        "# len(full_dataset)"
      ],
      "metadata": {
        "id": "JWzoAc5H1dvL"
      },
      "execution_count": 63,
      "outputs": []
    },
    {
      "cell_type": "code",
      "source": [
        "# 23 *7"
      ],
      "metadata": {
        "id": "nC1ZjZGJ1inC"
      },
      "execution_count": 64,
      "outputs": []
    },
    {
      "cell_type": "code",
      "source": [
        "# for batch in full_dataset:\n",
        "#   inputs, targets = batch\n",
        "#   assert np.array_equal(inputs[0], prices[:10])  # First sequence: steps [0-9]\n",
        "#   assert np.array_equal(targets[0], prices[10])  # Corresponding target: step 10\n",
        "#   break\n"
      ],
      "metadata": {
        "id": "C5xSb1PGyFVW"
      },
      "execution_count": 65,
      "outputs": []
    },
    {
      "cell_type": "code",
      "source": [
        "# len(inputs)"
      ],
      "metadata": {
        "id": "yFC-kf952Ul6"
      },
      "execution_count": 66,
      "outputs": []
    },
    {
      "cell_type": "code",
      "source": [
        "# len(targets)"
      ],
      "metadata": {
        "id": "gAwhZe9i2WBr"
      },
      "execution_count": 67,
      "outputs": []
    },
    {
      "cell_type": "code",
      "source": [
        "# batch[1]"
      ],
      "metadata": {
        "id": "xCNgNCzr0dZ_"
      },
      "execution_count": 68,
      "outputs": []
    },
    {
      "cell_type": "code",
      "source": [
        "# inputs[:-1]"
      ],
      "metadata": {
        "id": "qXeMd32Jy5pM"
      },
      "execution_count": 69,
      "outputs": []
    },
    {
      "cell_type": "code",
      "source": [
        "# targets[1:]"
      ],
      "metadata": {
        "id": "Mi938Vxkzm9Y"
      },
      "execution_count": 70,
      "outputs": []
    },
    {
      "cell_type": "markdown",
      "source": [
        "## Turning windows into training and test sets"
      ],
      "metadata": {
        "id": "HaGWAbRSzqM6"
      }
    },
    {
      "cell_type": "code",
      "source": [
        "full_windows[:5], full_labels[:5]"
      ],
      "metadata": {
        "colab": {
          "base_uri": "https://localhost:8080/"
        },
        "id": "JZht1Yeg3W1q",
        "outputId": "bec24e0c-8f99-4ea6-e001-9e2683f4c175"
      },
      "execution_count": 71,
      "outputs": [
        {
          "output_type": "execute_result",
          "data": {
            "text/plain": [
              "(array([[383.757996, 391.441986, 389.54599 , 382.845001, 386.475006,\n",
              "         383.15799 , 358.416992],\n",
              "        [391.441986, 389.54599 , 382.845001, 386.475006, 383.15799 ,\n",
              "         358.416992, 358.345001],\n",
              "        [389.54599 , 382.845001, 386.475006, 383.15799 , 358.416992,\n",
              "         358.345001, 347.270996],\n",
              "        [382.845001, 386.475006, 383.15799 , 358.416992, 358.345001,\n",
              "         347.270996, 354.70401 ],\n",
              "        [386.475006, 383.15799 , 358.416992, 358.345001, 347.270996,\n",
              "         354.70401 , 352.989014]]), array([[358.345001],\n",
              "        [347.270996],\n",
              "        [354.70401 ],\n",
              "        [352.989014],\n",
              "        [357.618011]]))"
            ]
          },
          "metadata": {},
          "execution_count": 71
        }
      ]
    },
    {
      "cell_type": "markdown",
      "source": [
        "## Funtion to make train/test splits for time series problems"
      ],
      "metadata": {
        "id": "Jlba6eDP3loG"
      }
    },
    {
      "cell_type": "code",
      "source": [
        "def make_train_test_split(windows, labels, test_split=0.2):\n",
        "  \"\"\"\n",
        "    Description: \n",
        "      Splits matching pairs of windows and labels into train and test split.\n",
        "\n",
        "    Parameters: \n",
        "      windows -> The dataset(X)\n",
        "      labels -> The labels of the dataset(y)\n",
        "      test_split -> The ratio in which the dataset is to be split. Default is \"0.2\"\n",
        "\n",
        "    Returns: \n",
        "      It is returned in this format -> train_windows, test_windows, train_labels, test_labels\n",
        "  \"\"\"\n",
        "\n",
        "  split_size= int((1- test_split) * len(windows))\n",
        "  train_windows= windows[:split_size]\n",
        "  train_labels= labels[:split_size]\n",
        "\n",
        "  test_windows= windows[split_size:]\n",
        "  test_labels= labels[split_size:]\n",
        "\n",
        "  return train_windows, test_windows, train_labels, test_labels"
      ],
      "metadata": {
        "id": "qQCy10uR4Yrk"
      },
      "execution_count": 141,
      "outputs": []
    },
    {
      "cell_type": "code",
      "source": [
        "train_windows, test_windows, train_labels, test_labels= make_train_test_split(full_windows, full_labels)\n",
        "len(train_windows), len(test_windows), len(train_labels), len(test_labels)"
      ],
      "metadata": {
        "colab": {
          "base_uri": "https://localhost:8080/"
        },
        "id": "_f50KhCi5ekW",
        "outputId": "1089d91e-e878-465c-d643-c09dd7c4ac4d"
      },
      "execution_count": 73,
      "outputs": [
        {
          "output_type": "execute_result",
          "data": {
            "text/plain": [
              "(2299, 575, 2299, 575)"
            ]
          },
          "metadata": {},
          "execution_count": 73
        }
      ]
    },
    {
      "cell_type": "code",
      "source": [
        "len(full_windows) * 0.8"
      ],
      "metadata": {
        "colab": {
          "base_uri": "https://localhost:8080/"
        },
        "id": "eQUvo0oi5pTt",
        "outputId": "321f989b-f55b-45bf-f63f-f40dfad10291"
      },
      "execution_count": 74,
      "outputs": [
        {
          "output_type": "execute_result",
          "data": {
            "text/plain": [
              "2299.2000000000003"
            ]
          },
          "metadata": {},
          "execution_count": 74
        }
      ]
    },
    {
      "cell_type": "code",
      "source": [
        "train_windows[:5]"
      ],
      "metadata": {
        "colab": {
          "base_uri": "https://localhost:8080/"
        },
        "id": "1yPAJAG251Bn",
        "outputId": "8dcd9118-0a49-4bc1-f48d-0401e893e6b9"
      },
      "execution_count": 75,
      "outputs": [
        {
          "output_type": "execute_result",
          "data": {
            "text/plain": [
              "array([[383.757996, 391.441986, 389.54599 , 382.845001, 386.475006,\n",
              "        383.15799 , 358.416992],\n",
              "       [391.441986, 389.54599 , 382.845001, 386.475006, 383.15799 ,\n",
              "        358.416992, 358.345001],\n",
              "       [389.54599 , 382.845001, 386.475006, 383.15799 , 358.416992,\n",
              "        358.345001, 347.270996],\n",
              "       [382.845001, 386.475006, 383.15799 , 358.416992, 358.345001,\n",
              "        347.270996, 354.70401 ],\n",
              "       [386.475006, 383.15799 , 358.416992, 358.345001, 347.270996,\n",
              "        354.70401 , 352.989014]])"
            ]
          },
          "metadata": {},
          "execution_count": 75
        }
      ]
    },
    {
      "cell_type": "code",
      "source": [
        "train_labels[:5]"
      ],
      "metadata": {
        "colab": {
          "base_uri": "https://localhost:8080/"
        },
        "id": "qYuMWGAN6HYn",
        "outputId": "96d880c2-ce06-4148-8c95-c2f766b3c65d"
      },
      "execution_count": 76,
      "outputs": [
        {
          "output_type": "execute_result",
          "data": {
            "text/plain": [
              "array([[358.345001],\n",
              "       [347.270996],\n",
              "       [354.70401 ],\n",
              "       [352.989014],\n",
              "       [357.618011]])"
            ]
          },
          "metadata": {},
          "execution_count": 76
        }
      ]
    },
    {
      "cell_type": "code",
      "source": [
        "test_windows[:5]"
      ],
      "metadata": {
        "colab": {
          "base_uri": "https://localhost:8080/"
        },
        "id": "ALev7joq6Ffg",
        "outputId": "e8f0ccbf-548a-40cd-924f-53a30ab2006e"
      },
      "execution_count": 77,
      "outputs": [
        {
          "output_type": "execute_result",
          "data": {
            "text/plain": [
              "array([[33537.175781, 35510.289063, 37472.089844, 36926.066406,\n",
              "        38144.308594, 39266.011719, 38903.441406],\n",
              "       [35510.289063, 37472.089844, 36926.066406, 38144.308594,\n",
              "        39266.011719, 38903.441406, 46196.464844],\n",
              "       [37472.089844, 36926.066406, 38144.308594, 39266.011719,\n",
              "        38903.441406, 46196.464844, 46481.105469],\n",
              "       [36926.066406, 38144.308594, 39266.011719, 38903.441406,\n",
              "        46196.464844, 46481.105469, 44918.183594],\n",
              "       [38144.308594, 39266.011719, 38903.441406, 46196.464844,\n",
              "        46481.105469, 44918.183594, 47909.332031]])"
            ]
          },
          "metadata": {},
          "execution_count": 77
        }
      ]
    },
    {
      "cell_type": "code",
      "source": [
        "test_labels[:5]"
      ],
      "metadata": {
        "colab": {
          "base_uri": "https://localhost:8080/"
        },
        "id": "C4sizNBH6IwH",
        "outputId": "7acd0bc5-8e71-45d7-878f-9fd21e875eed"
      },
      "execution_count": 78,
      "outputs": [
        {
          "output_type": "execute_result",
          "data": {
            "text/plain": [
              "array([[46196.464844],\n",
              "       [46481.105469],\n",
              "       [44918.183594],\n",
              "       [47909.332031],\n",
              "       [47504.851563]])"
            ]
          },
          "metadata": {},
          "execution_count": 78
        }
      ]
    },
    {
      "cell_type": "code",
      "source": [
        "train_windows.shape"
      ],
      "metadata": {
        "colab": {
          "base_uri": "https://localhost:8080/"
        },
        "id": "8cmdY3LHvU7h",
        "outputId": "ade62208-9e93-4436-95cf-9883cfbcf134"
      },
      "execution_count": 86,
      "outputs": [
        {
          "output_type": "execute_result",
          "data": {
            "text/plain": [
              "(2299, 7)"
            ]
          },
          "metadata": {},
          "execution_count": 86
        }
      ]
    },
    {
      "cell_type": "markdown",
      "source": [
        "### Check to see if same (accounting for horizon and window size)"
      ],
      "metadata": {
        "id": "StlWUK7J6jfu"
      }
    },
    {
      "cell_type": "code",
      "source": [
        "np.array_equal(np.squeeze(train_labels[:-HORIZON-1]), y_train[WINDOW_SIZE:])"
      ],
      "metadata": {
        "colab": {
          "base_uri": "https://localhost:8080/"
        },
        "id": "rW7P8GdR6KUS",
        "outputId": "f50a6d00-b386-489d-e530-ee9066c06834"
      },
      "execution_count": 79,
      "outputs": [
        {
          "output_type": "execute_result",
          "data": {
            "text/plain": [
              "True"
            ]
          },
          "metadata": {},
          "execution_count": 79
        }
      ]
    },
    {
      "cell_type": "markdown",
      "source": [
        "## Make a modelling checkpoint callback"
      ],
      "metadata": {
        "id": "NzI05B6B6lA3"
      }
    },
    {
      "cell_type": "code",
      "source": [
        "import os\n",
        "\n",
        "# Create a function to implement a ModelCheckpoint callback with a specific filename \n",
        "def create_model_checkpoint(model_name, save_path=\"model_experiments\"):\n",
        "  return tf.keras.callbacks.ModelCheckpoint(filepath=os.path.join(save_path, model_name), # create filepath to save model\n",
        "                                            monitor='val_loss',\n",
        "                                            verbose=0, # only output a limited amount of text\n",
        "                                            save_best_only=True) # save only the best model to file"
      ],
      "metadata": {
        "id": "l0eJ3ga3rzeR"
      },
      "execution_count": 101,
      "outputs": []
    },
    {
      "cell_type": "code",
      "source": [
        "train_windows.dtype"
      ],
      "metadata": {
        "colab": {
          "base_uri": "https://localhost:8080/"
        },
        "id": "74_82UqxwZNG",
        "outputId": "c67c0a01-005c-4f94-a61c-401a5f8d4abd"
      },
      "execution_count": 91,
      "outputs": [
        {
          "output_type": "execute_result",
          "data": {
            "text/plain": [
              "dtype('float64')"
            ]
          },
          "metadata": {},
          "execution_count": 91
        }
      ]
    },
    {
      "cell_type": "markdown",
      "source": [
        "## `Model 1`: Dense model(window=7, horizon=1)\n",
        "\n",
        "### Steps:\n",
        "\n",
        "\n",
        "* A single dense layer with 128 hidden units and ReLU (rectified linear unit) activation\n",
        "* An output layer with linear activation (or no activation)\n",
        "* Adam optimizer and MAE loss function\n",
        "* Batch size of 128\n",
        "* 100 epochs\n"
      ],
      "metadata": {
        "id": "bBmEIZA3sFt-"
      }
    },
    {
      "cell_type": "code",
      "source": [
        "import tensorflow as tf\n",
        "from tensorflow.keras import layers"
      ],
      "metadata": {
        "id": "lZ3NYpkVsqrl"
      },
      "execution_count": 85,
      "outputs": []
    },
    {
      "cell_type": "code",
      "source": [
        "inputs= layers.Input(shape=(WINDOW_SIZE,), dtype=\"float64\", name=\"model_1_inputs\")\n",
        "x= layers.Dense(128, activation='relu')(inputs)\n",
        "outputs= layers.Dense(HORIZON, activation='linear')(x)\n",
        "model_1= tf.keras.Model(inputs, outputs, name=\"model_1_dense\")\n",
        "\n",
        "model_1.compile(loss='mae', optimizer=tf.keras.optimizers.Adam(), metrics=['mae', 'mse'])"
      ],
      "metadata": {
        "id": "Rv7dmOGfuopA"
      },
      "execution_count": 92,
      "outputs": []
    },
    {
      "cell_type": "code",
      "source": [
        "model_1.summary()"
      ],
      "metadata": {
        "colab": {
          "base_uri": "https://localhost:8080/"
        },
        "id": "NHeLWhqY6nBk",
        "outputId": "eb05a388-67e3-4080-9610-a6ce2240d66c"
      },
      "execution_count": 130,
      "outputs": [
        {
          "output_type": "stream",
          "name": "stdout",
          "text": [
            "Model: \"model_1_dense\"\n",
            "_________________________________________________________________\n",
            " Layer (type)                Output Shape              Param #   \n",
            "=================================================================\n",
            " model_1_inputs (InputLayer)  [(None, 7)]              0         \n",
            "                                                                 \n",
            " dense_2 (Dense)             (None, 128)               1024      \n",
            "                                                                 \n",
            " dense_3 (Dense)             (None, 1)                 129       \n",
            "                                                                 \n",
            "=================================================================\n",
            "Total params: 1,153\n",
            "Trainable params: 1,153\n",
            "Non-trainable params: 0\n",
            "_________________________________________________________________\n"
          ]
        }
      ]
    },
    {
      "cell_type": "code",
      "source": [
        "history_model_1= model_1.fit(train_windows, train_labels, epochs=100, batch_size=128, validation_data=(test_windows, test_labels), callbacks=[create_model_checkpoint(model_name='model_1_dense', save_path='model_experiments')])"
      ],
      "metadata": {
        "colab": {
          "base_uri": "https://localhost:8080/"
        },
        "id": "fLc7E20Av-JA",
        "outputId": "2b322297-85be-482a-a036-606251350e1d"
      },
      "execution_count": 94,
      "outputs": [
        {
          "output_type": "stream",
          "name": "stdout",
          "text": [
            "Epoch 1/100\n",
            "18/18 [==============================] - 1s 47ms/step - loss: 244.5530 - mae: 244.5530 - mse: 272231.4375 - val_loss: 1666.6718 - val_mae: 1666.6718 - val_mse: 4781947.5000\n",
            "Epoch 2/100\n",
            "18/18 [==============================] - 1s 33ms/step - loss: 229.2390 - mae: 229.2390 - mse: 258433.8438 - val_loss: 1605.8754 - val_mae: 1605.8754 - val_mse: 4580334.5000\n",
            "Epoch 3/100\n",
            "18/18 [==============================] - 0s 3ms/step - loss: 226.5308 - mae: 226.5308 - mse: 252772.0469 - val_loss: 1687.2498 - val_mae: 1687.2498 - val_mse: 4825759.5000\n",
            "Epoch 4/100\n",
            "18/18 [==============================] - 0s 4ms/step - loss: 226.2482 - mae: 226.2482 - mse: 249680.8750 - val_loss: 1619.5649 - val_mae: 1619.5649 - val_mse: 4725416.5000\n",
            "Epoch 5/100\n",
            "18/18 [==============================] - 1s 33ms/step - loss: 226.3559 - mae: 226.3559 - mse: 251732.6562 - val_loss: 1522.0623 - val_mae: 1522.0623 - val_mse: 4126243.5000\n",
            "Epoch 6/100\n",
            "18/18 [==============================] - 0s 5ms/step - loss: 215.5332 - mae: 215.5332 - mse: 232748.1094 - val_loss: 1576.2772 - val_mae: 1576.2772 - val_mse: 4495062.5000\n",
            "Epoch 7/100\n",
            "18/18 [==============================] - 0s 4ms/step - loss: 215.9909 - mae: 215.9909 - mse: 233424.5469 - val_loss: 1624.2322 - val_mae: 1624.2322 - val_mse: 4766906.0000\n",
            "Epoch 8/100\n",
            "18/18 [==============================] - 0s 3ms/step - loss: 214.4828 - mae: 214.4828 - mse: 228128.3438 - val_loss: 1632.2667 - val_mae: 1632.2667 - val_mse: 4809348.0000\n",
            "Epoch 9/100\n",
            "18/18 [==============================] - 0s 5ms/step - loss: 207.5756 - mae: 207.5756 - mse: 221812.7812 - val_loss: 1530.3036 - val_mae: 1530.3036 - val_mse: 4260769.0000\n",
            "Epoch 10/100\n",
            "18/18 [==============================] - 0s 3ms/step - loss: 204.6318 - mae: 204.6318 - mse: 216662.4062 - val_loss: 1640.3431 - val_mae: 1640.3431 - val_mse: 4831124.0000\n",
            "Epoch 11/100\n",
            "18/18 [==============================] - 0s 5ms/step - loss: 209.5534 - mae: 209.5534 - mse: 226986.5938 - val_loss: 1525.5757 - val_mae: 1525.5757 - val_mse: 4242653.5000\n",
            "Epoch 12/100\n",
            "18/18 [==============================] - 1s 33ms/step - loss: 201.7480 - mae: 201.7480 - mse: 205494.6250 - val_loss: 1425.1074 - val_mae: 1425.1074 - val_mse: 3686189.0000\n",
            "Epoch 13/100\n",
            "18/18 [==============================] - 1s 31ms/step - loss: 195.6672 - mae: 195.6672 - mse: 201356.6406 - val_loss: 1403.1798 - val_mae: 1403.1798 - val_mse: 3541163.5000\n",
            "Epoch 14/100\n",
            "18/18 [==============================] - 1s 31ms/step - loss: 195.2563 - mae: 195.2563 - mse: 193024.9375 - val_loss: 1395.0565 - val_mae: 1395.0565 - val_mse: 3510817.5000\n",
            "Epoch 15/100\n",
            "18/18 [==============================] - 0s 3ms/step - loss: 192.2146 - mae: 192.2146 - mse: 194989.9531 - val_loss: 1458.9005 - val_mae: 1458.9005 - val_mse: 3892939.0000\n",
            "Epoch 16/100\n",
            "18/18 [==============================] - 1s 32ms/step - loss: 194.1069 - mae: 194.1069 - mse: 199205.7188 - val_loss: 1385.9457 - val_mae: 1385.9457 - val_mse: 3494942.7500\n",
            "Epoch 17/100\n",
            "18/18 [==============================] - 1s 32ms/step - loss: 192.5721 - mae: 192.5721 - mse: 193954.6250 - val_loss: 1374.1615 - val_mae: 1374.1615 - val_mse: 3360400.5000\n",
            "Epoch 18/100\n",
            "18/18 [==============================] - 1s 47ms/step - loss: 195.4780 - mae: 195.4780 - mse: 200192.7031 - val_loss: 1367.7797 - val_mae: 1367.7797 - val_mse: 3333101.7500\n",
            "Epoch 19/100\n",
            "18/18 [==============================] - 0s 3ms/step - loss: 190.6838 - mae: 190.6838 - mse: 189621.0469 - val_loss: 1466.7847 - val_mae: 1466.7847 - val_mse: 3727341.0000\n",
            "Epoch 20/100\n",
            "18/18 [==============================] - 1s 32ms/step - loss: 190.2132 - mae: 190.2132 - mse: 187989.7031 - val_loss: 1360.2222 - val_mae: 1360.2222 - val_mse: 3298207.0000\n",
            "Epoch 21/100\n",
            "18/18 [==============================] - 1s 33ms/step - loss: 188.9876 - mae: 188.9876 - mse: 183159.4844 - val_loss: 1339.3453 - val_mae: 1339.3453 - val_mse: 3245506.0000\n",
            "Epoch 22/100\n",
            "18/18 [==============================] - 0s 5ms/step - loss: 191.9903 - mae: 191.9903 - mse: 192209.4844 - val_loss: 1357.5012 - val_mae: 1357.5012 - val_mse: 3384157.7500\n",
            "Epoch 23/100\n",
            "18/18 [==============================] - 1s 33ms/step - loss: 186.1019 - mae: 186.1019 - mse: 183249.5938 - val_loss: 1338.0604 - val_mae: 1338.0604 - val_mse: 3217740.0000\n",
            "Epoch 24/100\n",
            "18/18 [==============================] - 1s 31ms/step - loss: 190.2305 - mae: 190.2305 - mse: 187488.9688 - val_loss: 1323.6932 - val_mae: 1323.6932 - val_mse: 3195862.2500\n",
            "Epoch 25/100\n",
            "18/18 [==============================] - 0s 4ms/step - loss: 188.6558 - mae: 188.6558 - mse: 189086.8125 - val_loss: 1354.5082 - val_mae: 1354.5082 - val_mse: 3376477.5000\n",
            "Epoch 26/100\n",
            "18/18 [==============================] - 0s 4ms/step - loss: 179.6727 - mae: 179.6727 - mse: 177807.1094 - val_loss: 1356.0176 - val_mae: 1356.0176 - val_mse: 3403061.0000\n",
            "Epoch 27/100\n",
            "18/18 [==============================] - 1s 33ms/step - loss: 179.4600 - mae: 179.4600 - mse: 174491.1719 - val_loss: 1292.8733 - val_mae: 1292.8733 - val_mse: 3089248.7500\n",
            "Epoch 28/100\n",
            "18/18 [==============================] - 0s 3ms/step - loss: 179.6273 - mae: 179.6273 - mse: 174769.0312 - val_loss: 1303.4884 - val_mae: 1303.4884 - val_mse: 3161787.5000\n",
            "Epoch 29/100\n",
            "18/18 [==============================] - 0s 4ms/step - loss: 183.9334 - mae: 183.9334 - mse: 178922.7031 - val_loss: 1305.3843 - val_mae: 1305.3843 - val_mse: 3174423.2500\n",
            "Epoch 30/100\n",
            "18/18 [==============================] - 1s 32ms/step - loss: 175.4928 - mae: 175.4928 - mse: 169725.7344 - val_loss: 1281.6118 - val_mae: 1281.6118 - val_mse: 3030943.5000\n",
            "Epoch 31/100\n",
            "18/18 [==============================] - 1s 31ms/step - loss: 177.2926 - mae: 177.2926 - mse: 171504.1562 - val_loss: 1273.6741 - val_mae: 1273.6741 - val_mse: 3028499.5000\n",
            "Epoch 32/100\n",
            "18/18 [==============================] - 0s 3ms/step - loss: 183.7676 - mae: 183.7676 - mse: 177214.8906 - val_loss: 1287.3839 - val_mae: 1287.3839 - val_mse: 3102491.0000\n",
            "Epoch 33/100\n",
            "18/18 [==============================] - 0s 3ms/step - loss: 178.0231 - mae: 178.0231 - mse: 166920.4531 - val_loss: 1277.7404 - val_mae: 1277.7404 - val_mse: 3063360.5000\n",
            "Epoch 34/100\n",
            "18/18 [==============================] - 0s 3ms/step - loss: 176.1902 - mae: 176.1902 - mse: 170779.1562 - val_loss: 1273.7217 - val_mae: 1273.7217 - val_mse: 2997513.7500\n",
            "Epoch 35/100\n",
            "18/18 [==============================] - 1s 32ms/step - loss: 185.0627 - mae: 185.0627 - mse: 181400.6250 - val_loss: 1264.3391 - val_mae: 1264.3391 - val_mse: 2971405.2500\n",
            "Epoch 36/100\n",
            "18/18 [==============================] - 1s 58ms/step - loss: 174.5571 - mae: 174.5571 - mse: 168233.5000 - val_loss: 1263.7805 - val_mae: 1263.7805 - val_mse: 3016528.5000\n",
            "Epoch 37/100\n",
            "18/18 [==============================] - 0s 11ms/step - loss: 174.4570 - mae: 174.4570 - mse: 165797.8906 - val_loss: 1271.0791 - val_mae: 1271.0791 - val_mse: 3049559.7500\n",
            "Epoch 38/100\n",
            "18/18 [==============================] - 1s 64ms/step - loss: 175.4258 - mae: 175.4258 - mse: 167367.7344 - val_loss: 1256.8630 - val_mae: 1256.8630 - val_mse: 2945034.0000\n",
            "Epoch 39/100\n",
            "18/18 [==============================] - 1s 32ms/step - loss: 173.0819 - mae: 173.0819 - mse: 163711.2969 - val_loss: 1246.7683 - val_mae: 1246.7683 - val_mse: 2943029.0000\n",
            "Epoch 40/100\n",
            "18/18 [==============================] - 0s 3ms/step - loss: 172.9599 - mae: 172.9599 - mse: 162569.9844 - val_loss: 1310.5890 - val_mae: 1310.5890 - val_mse: 3119493.2500\n",
            "Epoch 41/100\n",
            "18/18 [==============================] - 1s 32ms/step - loss: 174.2993 - mae: 174.2993 - mse: 164737.8906 - val_loss: 1244.4087 - val_mae: 1244.4087 - val_mse: 2946850.5000\n",
            "Epoch 42/100\n",
            "18/18 [==============================] - 1s 33ms/step - loss: 172.2782 - mae: 172.2782 - mse: 161845.0625 - val_loss: 1238.3596 - val_mae: 1238.3596 - val_mse: 2915522.0000\n",
            "Epoch 43/100\n",
            "18/18 [==============================] - 0s 4ms/step - loss: 172.5566 - mae: 172.5566 - mse: 161373.8906 - val_loss: 1320.2151 - val_mae: 1320.2151 - val_mse: 3248378.5000\n",
            "Epoch 44/100\n",
            "18/18 [==============================] - 0s 3ms/step - loss: 174.2756 - mae: 174.2756 - mse: 163747.7031 - val_loss: 1265.3943 - val_mae: 1265.3943 - val_mse: 2968700.2500\n",
            "Epoch 45/100\n",
            "18/18 [==============================] - 0s 4ms/step - loss: 179.8589 - mae: 179.8589 - mse: 166350.8125 - val_loss: 1497.8624 - val_mae: 1497.8624 - val_mse: 3949218.5000\n",
            "Epoch 46/100\n",
            "18/18 [==============================] - 0s 4ms/step - loss: 176.3618 - mae: 176.3618 - mse: 153566.9062 - val_loss: 1318.4191 - val_mae: 1318.4191 - val_mse: 3146302.7500\n",
            "Epoch 47/100\n",
            "18/18 [==============================] - 0s 4ms/step - loss: 173.8322 - mae: 173.8322 - mse: 162798.5469 - val_loss: 1286.3022 - val_mae: 1286.3022 - val_mse: 3037931.0000\n",
            "Epoch 48/100\n",
            "18/18 [==============================] - 1s 33ms/step - loss: 177.0836 - mae: 177.0836 - mse: 172706.2188 - val_loss: 1224.8944 - val_mae: 1224.8944 - val_mse: 2856435.5000\n",
            "Epoch 49/100\n",
            "18/18 [==============================] - 0s 4ms/step - loss: 170.2588 - mae: 170.2588 - mse: 161374.3906 - val_loss: 1309.0437 - val_mae: 1309.0437 - val_mse: 3201195.5000\n",
            "Epoch 50/100\n",
            "18/18 [==============================] - 1s 31ms/step - loss: 170.9518 - mae: 170.9518 - mse: 159842.5625 - val_loss: 1223.1562 - val_mae: 1223.1562 - val_mse: 2874448.2500\n",
            "Epoch 51/100\n",
            "18/18 [==============================] - 0s 4ms/step - loss: 172.7786 - mae: 172.7786 - mse: 165380.9531 - val_loss: 1241.2495 - val_mae: 1241.2495 - val_mse: 2893774.7500\n",
            "Epoch 52/100\n",
            "18/18 [==============================] - 1s 47ms/step - loss: 179.4402 - mae: 179.4402 - mse: 172951.5781 - val_loss: 1222.8894 - val_mae: 1222.8894 - val_mse: 2843446.5000\n",
            "Epoch 53/100\n",
            "18/18 [==============================] - 0s 4ms/step - loss: 170.2119 - mae: 170.2119 - mse: 160882.7969 - val_loss: 1316.8894 - val_mae: 1316.8894 - val_mse: 3226361.2500\n",
            "Epoch 54/100\n",
            "18/18 [==============================] - 1s 35ms/step - loss: 170.2406 - mae: 170.2406 - mse: 155977.1094 - val_loss: 1216.3649 - val_mae: 1216.3649 - val_mse: 2857361.2500\n",
            "Epoch 55/100\n",
            "18/18 [==============================] - 1s 31ms/step - loss: 168.5804 - mae: 168.5804 - mse: 157611.6875 - val_loss: 1213.9235 - val_mae: 1213.9235 - val_mse: 2819701.2500\n",
            "Epoch 56/100\n",
            "18/18 [==============================] - 0s 5ms/step - loss: 171.1493 - mae: 171.1493 - mse: 156728.5000 - val_loss: 1215.8752 - val_mae: 1215.8752 - val_mse: 2865399.0000\n",
            "Epoch 57/100\n",
            "18/18 [==============================] - 1s 33ms/step - loss: 168.6470 - mae: 168.6470 - mse: 156004.3906 - val_loss: 1209.6871 - val_mae: 1209.6871 - val_mse: 2831527.0000\n",
            "Epoch 58/100\n",
            "18/18 [==============================] - 0s 3ms/step - loss: 169.2039 - mae: 169.2039 - mse: 156388.3750 - val_loss: 1251.8636 - val_mae: 1251.8636 - val_mse: 2929684.0000\n",
            "Epoch 59/100\n",
            "18/18 [==============================] - 1s 33ms/step - loss: 171.4467 - mae: 171.4467 - mse: 156490.6094 - val_loss: 1206.3521 - val_mae: 1206.3521 - val_mse: 2803327.2500\n",
            "Epoch 60/100\n",
            "18/18 [==============================] - 0s 4ms/step - loss: 166.2948 - mae: 166.2948 - mse: 154114.5000 - val_loss: 1216.6348 - val_mae: 1216.6348 - val_mse: 2875210.5000\n",
            "Epoch 61/100\n",
            "18/18 [==============================] - 0s 3ms/step - loss: 169.9527 - mae: 169.9527 - mse: 160295.7344 - val_loss: 1210.5399 - val_mae: 1210.5399 - val_mse: 2853482.2500\n",
            "Epoch 62/100\n",
            "18/18 [==============================] - 0s 4ms/step - loss: 167.4279 - mae: 167.4279 - mse: 155031.6562 - val_loss: 1206.8668 - val_mae: 1206.8668 - val_mse: 2796912.7500\n",
            "Epoch 63/100\n",
            "18/18 [==============================] - 0s 4ms/step - loss: 174.8126 - mae: 174.8126 - mse: 166385.0156 - val_loss: 1310.3507 - val_mae: 1310.3507 - val_mse: 3118106.7500\n",
            "Epoch 64/100\n",
            "18/18 [==============================] - 0s 4ms/step - loss: 182.4762 - mae: 182.4762 - mse: 171680.7031 - val_loss: 1283.5039 - val_mae: 1283.5039 - val_mse: 3101322.5000\n",
            "Epoch 65/100\n",
            "18/18 [==============================] - 0s 4ms/step - loss: 173.8438 - mae: 173.8438 - mse: 162757.2656 - val_loss: 1278.0461 - val_mae: 1278.0461 - val_mse: 3082538.2500\n",
            "Epoch 66/100\n",
            "18/18 [==============================] - 1s 32ms/step - loss: 170.0834 - mae: 170.0834 - mse: 160310.4844 - val_loss: 1202.9554 - val_mae: 1202.9554 - val_mse: 2822840.7500\n",
            "Epoch 67/100\n",
            "18/18 [==============================] - 0s 4ms/step - loss: 169.1775 - mae: 169.1775 - mse: 155626.4219 - val_loss: 1228.5441 - val_mae: 1228.5441 - val_mse: 2859742.0000\n",
            "Epoch 68/100\n",
            "18/18 [==============================] - 0s 5ms/step - loss: 175.0406 - mae: 175.0406 - mse: 161246.8594 - val_loss: 1342.4094 - val_mae: 1342.4094 - val_mse: 3309123.2500\n",
            "Epoch 69/100\n",
            "18/18 [==============================] - 0s 4ms/step - loss: 172.4406 - mae: 172.4406 - mse: 162001.1875 - val_loss: 1321.7323 - val_mae: 1321.7323 - val_mse: 3233484.7500\n",
            "Epoch 70/100\n",
            "18/18 [==============================] - 1s 34ms/step - loss: 170.1218 - mae: 170.1218 - mse: 162549.2656 - val_loss: 1196.4696 - val_mae: 1196.4696 - val_mse: 2770607.0000\n",
            "Epoch 71/100\n",
            "18/18 [==============================] - 0s 4ms/step - loss: 167.8692 - mae: 167.8692 - mse: 153952.8906 - val_loss: 1220.2839 - val_mae: 1220.2839 - val_mse: 2889954.7500\n",
            "Epoch 72/100\n",
            "18/18 [==============================] - 1s 31ms/step - loss: 165.3257 - mae: 165.3257 - mse: 152593.3438 - val_loss: 1192.7179 - val_mae: 1192.7179 - val_mse: 2774575.5000\n",
            "Epoch 73/100\n",
            "18/18 [==============================] - 0s 3ms/step - loss: 170.4585 - mae: 170.4585 - mse: 157541.1875 - val_loss: 1247.5740 - val_mae: 1247.5740 - val_mse: 2916917.7500\n",
            "Epoch 74/100\n",
            "18/18 [==============================] - 0s 4ms/step - loss: 172.0120 - mae: 172.0120 - mse: 154796.8750 - val_loss: 1230.6600 - val_mae: 1230.6600 - val_mse: 2925430.7500\n",
            "Epoch 75/100\n",
            "18/18 [==============================] - 0s 4ms/step - loss: 166.9599 - mae: 166.9599 - mse: 151086.2188 - val_loss: 1212.9874 - val_mae: 1212.9874 - val_mse: 2864646.2500\n",
            "Epoch 76/100\n",
            "18/18 [==============================] - 0s 4ms/step - loss: 168.6479 - mae: 168.6479 - mse: 150113.3594 - val_loss: 1205.3447 - val_mae: 1205.3447 - val_mse: 2792792.5000\n",
            "Epoch 77/100\n",
            "18/18 [==============================] - 1s 33ms/step - loss: 169.1008 - mae: 169.1008 - mse: 153300.4688 - val_loss: 1190.3762 - val_mae: 1190.3762 - val_mse: 2754296.7500\n",
            "Epoch 78/100\n",
            "18/18 [==============================] - 0s 4ms/step - loss: 167.9442 - mae: 167.9442 - mse: 151129.2500 - val_loss: 1191.8617 - val_mae: 1191.8617 - val_mse: 2757552.5000\n",
            "Epoch 79/100\n",
            "18/18 [==============================] - 0s 3ms/step - loss: 168.8773 - mae: 168.8773 - mse: 158906.6719 - val_loss: 1193.0737 - val_mae: 1193.0737 - val_mse: 2759895.0000\n",
            "Epoch 80/100\n",
            "18/18 [==============================] - 0s 5ms/step - loss: 166.6613 - mae: 166.6613 - mse: 152267.7969 - val_loss: 1196.6718 - val_mae: 1196.6718 - val_mse: 2804267.5000\n",
            "Epoch 81/100\n",
            "18/18 [==============================] - 0s 4ms/step - loss: 167.6941 - mae: 167.6941 - mse: 148933.3906 - val_loss: 1246.2783 - val_mae: 1246.2783 - val_mse: 2976103.2500\n",
            "Epoch 82/100\n",
            "18/18 [==============================] - 0s 4ms/step - loss: 169.4483 - mae: 169.4483 - mse: 153978.6719 - val_loss: 1204.7119 - val_mae: 1204.7119 - val_mse: 2791029.2500\n",
            "Epoch 83/100\n",
            "18/18 [==============================] - 0s 4ms/step - loss: 166.7020 - mae: 166.7020 - mse: 152899.0000 - val_loss: 1265.8284 - val_mae: 1265.8284 - val_mse: 3040263.0000\n",
            "Epoch 84/100\n",
            "18/18 [==============================] - 0s 5ms/step - loss: 170.9908 - mae: 170.9908 - mse: 156662.4219 - val_loss: 1382.9480 - val_mae: 1382.9480 - val_mse: 3454560.5000\n",
            "Epoch 85/100\n",
            "18/18 [==============================] - 1s 33ms/step - loss: 180.1130 - mae: 180.1130 - mse: 164861.5469 - val_loss: 1188.9850 - val_mae: 1188.9850 - val_mse: 2749288.7500\n",
            "Epoch 86/100\n",
            "18/18 [==============================] - 0s 4ms/step - loss: 169.2682 - mae: 169.2682 - mse: 149386.7969 - val_loss: 1237.0509 - val_mae: 1237.0509 - val_mse: 2945511.0000\n",
            "Epoch 87/100\n",
            "18/18 [==============================] - 1s 31ms/step - loss: 166.9511 - mae: 166.9511 - mse: 152550.6406 - val_loss: 1187.2327 - val_mae: 1187.2327 - val_mse: 2766523.5000\n",
            "Epoch 88/100\n",
            "18/18 [==============================] - 0s 4ms/step - loss: 164.5694 - mae: 164.5694 - mse: 151276.5469 - val_loss: 1230.8263 - val_mae: 1230.8263 - val_mse: 2924589.7500\n",
            "Epoch 89/100\n",
            "18/18 [==============================] - 0s 3ms/step - loss: 166.7658 - mae: 166.7658 - mse: 149145.0781 - val_loss: 1224.3267 - val_mae: 1224.3267 - val_mse: 2848021.7500\n",
            "Epoch 90/100\n",
            "18/18 [==============================] - 0s 3ms/step - loss: 168.0685 - mae: 168.0685 - mse: 147527.8750 - val_loss: 1216.8463 - val_mae: 1216.8463 - val_mse: 2878602.5000\n",
            "Epoch 91/100\n",
            "18/18 [==============================] - 0s 3ms/step - loss: 167.7077 - mae: 167.7077 - mse: 152428.6250 - val_loss: 1261.3605 - val_mae: 1261.3605 - val_mse: 2961986.7500\n",
            "Epoch 92/100\n",
            "18/18 [==============================] - 0s 4ms/step - loss: 171.4971 - mae: 171.4971 - mse: 153976.0156 - val_loss: 1225.2228 - val_mae: 1225.2228 - val_mse: 2905610.7500\n",
            "Epoch 93/100\n",
            "18/18 [==============================] - 0s 4ms/step - loss: 173.4080 - mae: 173.4080 - mse: 152733.5469 - val_loss: 1237.2106 - val_mae: 1237.2106 - val_mse: 2886985.5000\n",
            "Epoch 94/100\n",
            "18/18 [==============================] - 0s 3ms/step - loss: 170.0309 - mae: 170.0309 - mse: 155414.0781 - val_loss: 1306.0319 - val_mae: 1306.0319 - val_mse: 3177353.0000\n",
            "Epoch 95/100\n",
            "18/18 [==============================] - 0s 3ms/step - loss: 167.6815 - mae: 167.6815 - mse: 150540.6094 - val_loss: 1191.9196 - val_mae: 1191.9196 - val_mse: 2789184.5000\n",
            "Epoch 96/100\n",
            "18/18 [==============================] - 0s 3ms/step - loss: 165.1936 - mae: 165.1936 - mse: 151144.1406 - val_loss: 1203.8478 - val_mae: 1203.8478 - val_mse: 2831876.7500\n",
            "Epoch 97/100\n",
            "18/18 [==============================] - 1s 31ms/step - loss: 165.5770 - mae: 165.5770 - mse: 148806.3438 - val_loss: 1183.3540 - val_mae: 1183.3540 - val_mse: 2734868.7500\n",
            "Epoch 98/100\n",
            "18/18 [==============================] - 0s 4ms/step - loss: 166.1500 - mae: 166.1500 - mse: 148043.3906 - val_loss: 1196.7847 - val_mae: 1196.7847 - val_mse: 2806525.0000\n",
            "Epoch 99/100\n",
            "18/18 [==============================] - 0s 3ms/step - loss: 169.0204 - mae: 169.0204 - mse: 154527.6406 - val_loss: 1293.3640 - val_mae: 1293.3640 - val_mse: 3134166.2500\n",
            "Epoch 100/100\n",
            "18/18 [==============================] - 0s 4ms/step - loss: 171.7940 - mae: 171.7940 - mse: 157891.6250 - val_loss: 1250.7870 - val_mae: 1250.7870 - val_mse: 2992875.0000\n"
          ]
        }
      ]
    },
    {
      "cell_type": "code",
      "source": [
        "naive_results"
      ],
      "metadata": {
        "colab": {
          "base_uri": "https://localhost:8080/"
        },
        "id": "QQhfVbRrwWLi",
        "outputId": "c0208973-de88-4e56-ccbf-881cc5d3abdf"
      },
      "execution_count": 97,
      "outputs": [
        {
          "output_type": "execute_result",
          "data": {
            "text/plain": [
              "{'mae': 1156.6283501875,\n",
              " 'mse': 2681841.620560925,\n",
              " 'rmse': 1637.6329321801406,\n",
              " 'mape': 2.7766003833746318,\n",
              " 'mase': 0.9988074616716925}"
            ]
          },
          "metadata": {},
          "execution_count": 97
        }
      ]
    },
    {
      "cell_type": "markdown",
      "source": [
        "### Evaluating the model"
      ],
      "metadata": {
        "id": "JD0H1_fb3V8x"
      }
    },
    {
      "cell_type": "code",
      "source": [
        "model_1.evaluate(test_windows, test_labels)"
      ],
      "metadata": {
        "colab": {
          "base_uri": "https://localhost:8080/"
        },
        "id": "hWZG7Hqzw-e3",
        "outputId": "390166e6-7d1d-414c-fb6c-4c56870d9a49"
      },
      "execution_count": 103,
      "outputs": [
        {
          "output_type": "stream",
          "name": "stdout",
          "text": [
            "18/18 [==============================] - 0s 2ms/step - loss: 1250.7869 - mae: 1250.7869 - mse: 2992875.0000\n"
          ]
        },
        {
          "output_type": "execute_result",
          "data": {
            "text/plain": [
              "[1250.786865234375, 1250.786865234375, 2992875.0]"
            ]
          },
          "metadata": {},
          "execution_count": 103
        }
      ]
    },
    {
      "cell_type": "code",
      "source": [
        "model_1_checkpoint= tf.keras.models.load_model('/content/model_experiments/model_1_dense/')"
      ],
      "metadata": {
        "id": "nkzdn3xoyTVG"
      },
      "execution_count": 104,
      "outputs": []
    },
    {
      "cell_type": "code",
      "source": [
        "model_1_checkpoint.evaluate(test_windows, test_labels)"
      ],
      "metadata": {
        "colab": {
          "base_uri": "https://localhost:8080/"
        },
        "id": "6pqgrBzt2AXB",
        "outputId": "f3fec4fa-9c05-47b4-945b-a2bd2060e977"
      },
      "execution_count": 105,
      "outputs": [
        {
          "output_type": "stream",
          "name": "stdout",
          "text": [
            "18/18 [==============================] - 0s 1ms/step - loss: 1183.3540 - mae: 1183.3540 - mse: 2734868.5000\n"
          ]
        },
        {
          "output_type": "execute_result",
          "data": {
            "text/plain": [
              "[1183.35400390625, 1183.35400390625, 2734868.5]"
            ]
          },
          "metadata": {},
          "execution_count": 105
        }
      ]
    },
    {
      "cell_type": "code",
      "source": [
        "# model_1_pred_preds= model_1_checkpoint.predict(test_windows)\n",
        "# model_1_preds= tf.argmax(model_1_pred_preds, axis=0)\n",
        "# model_1_preds[:5]"
      ],
      "metadata": {
        "colab": {
          "base_uri": "https://localhost:8080/"
        },
        "id": "7s_nGJC62Tnn",
        "outputId": "975b4fb8-9d5e-4c99-86d5-d913a12f8313"
      },
      "execution_count": 112,
      "outputs": [
        {
          "output_type": "execute_result",
          "data": {
            "text/plain": [
              "<tf.Tensor: shape=(1,), dtype=int64, numpy=array([275])>"
            ]
          },
          "metadata": {},
          "execution_count": 112
        }
      ]
    },
    {
      "cell_type": "code",
      "source": [
        "# model_1_results= evaluate_preds(test_labels, model_1_preds)\n",
        "# model_1_results"
      ],
      "metadata": {
        "colab": {
          "base_uri": "https://localhost:8080/",
          "height": 390
        },
        "id": "vUlFnK692DQY",
        "outputId": "6778c427-781e-430e-a7f6-ec121e3873ff"
      },
      "execution_count": 114,
      "outputs": [
        {
          "output_type": "error",
          "ename": "InvalidArgumentError",
          "evalue": "ignored",
          "traceback": [
            "\u001b[0;31m---------------------------------------------------------------------------\u001b[0m",
            "\u001b[0;31mInvalidArgumentError\u001b[0m                      Traceback (most recent call last)",
            "\u001b[0;32m<ipython-input-114-bcd2843b41f5>\u001b[0m in \u001b[0;36m<module>\u001b[0;34m\u001b[0m\n\u001b[0;32m----> 1\u001b[0;31m \u001b[0mmodel_1_results\u001b[0m\u001b[0;34m=\u001b[0m \u001b[0mevaluate_preds\u001b[0m\u001b[0;34m(\u001b[0m\u001b[0mtest_labels\u001b[0m\u001b[0;34m,\u001b[0m \u001b[0mmodel_1_preds\u001b[0m\u001b[0;34m)\u001b[0m\u001b[0;34m\u001b[0m\u001b[0;34m\u001b[0m\u001b[0m\n\u001b[0m\u001b[1;32m      2\u001b[0m \u001b[0mmodel_1_results\u001b[0m\u001b[0;34m\u001b[0m\u001b[0;34m\u001b[0m\u001b[0m\n",
            "\u001b[0;32m<ipython-input-41-0dc7ae1fbbe7>\u001b[0m in \u001b[0;36mevaluate_preds\u001b[0;34m(y_true, y_pred)\u001b[0m\n\u001b[1;32m      9\u001b[0m   \u001b[0mmae\u001b[0m \u001b[0;34m=\u001b[0m \u001b[0mtf\u001b[0m\u001b[0;34m.\u001b[0m\u001b[0mkeras\u001b[0m\u001b[0;34m.\u001b[0m\u001b[0mmetrics\u001b[0m\u001b[0;34m.\u001b[0m\u001b[0mmean_absolute_error\u001b[0m\u001b[0;34m(\u001b[0m\u001b[0my_true\u001b[0m\u001b[0;34m,\u001b[0m \u001b[0my_pred\u001b[0m\u001b[0;34m)\u001b[0m\u001b[0;34m\u001b[0m\u001b[0;34m\u001b[0m\u001b[0m\n\u001b[1;32m     10\u001b[0m   \u001b[0mmse\u001b[0m \u001b[0;34m=\u001b[0m \u001b[0mtf\u001b[0m\u001b[0;34m.\u001b[0m\u001b[0mkeras\u001b[0m\u001b[0;34m.\u001b[0m\u001b[0mmetrics\u001b[0m\u001b[0;34m.\u001b[0m\u001b[0mmean_squared_error\u001b[0m\u001b[0;34m(\u001b[0m\u001b[0my_true\u001b[0m\u001b[0;34m,\u001b[0m \u001b[0my_pred\u001b[0m\u001b[0;34m)\u001b[0m \u001b[0;31m# puts and emphasis on outliers (all errors get squared)\u001b[0m\u001b[0;34m\u001b[0m\u001b[0;34m\u001b[0m\u001b[0m\n\u001b[0;32m---> 11\u001b[0;31m   \u001b[0mrmse\u001b[0m \u001b[0;34m=\u001b[0m \u001b[0mtf\u001b[0m\u001b[0;34m.\u001b[0m\u001b[0msqrt\u001b[0m\u001b[0;34m(\u001b[0m\u001b[0mmse\u001b[0m\u001b[0;34m)\u001b[0m\u001b[0;34m\u001b[0m\u001b[0;34m\u001b[0m\u001b[0m\n\u001b[0m\u001b[1;32m     12\u001b[0m   \u001b[0mmape\u001b[0m \u001b[0;34m=\u001b[0m \u001b[0mtf\u001b[0m\u001b[0;34m.\u001b[0m\u001b[0mkeras\u001b[0m\u001b[0;34m.\u001b[0m\u001b[0mmetrics\u001b[0m\u001b[0;34m.\u001b[0m\u001b[0mmean_absolute_percentage_error\u001b[0m\u001b[0;34m(\u001b[0m\u001b[0my_true\u001b[0m\u001b[0;34m,\u001b[0m \u001b[0my_pred\u001b[0m\u001b[0;34m)\u001b[0m\u001b[0;34m\u001b[0m\u001b[0;34m\u001b[0m\u001b[0m\n\u001b[1;32m     13\u001b[0m   \u001b[0mmase\u001b[0m \u001b[0;34m=\u001b[0m \u001b[0mmean_absolute_scaled_error\u001b[0m\u001b[0;34m(\u001b[0m\u001b[0my_true\u001b[0m\u001b[0;34m,\u001b[0m \u001b[0my_pred\u001b[0m\u001b[0;34m)\u001b[0m\u001b[0;34m\u001b[0m\u001b[0;34m\u001b[0m\u001b[0m\n",
            "\u001b[0;32m/usr/local/lib/python3.7/dist-packages/tensorflow/python/util/traceback_utils.py\u001b[0m in \u001b[0;36merror_handler\u001b[0;34m(*args, **kwargs)\u001b[0m\n\u001b[1;32m    151\u001b[0m     \u001b[0;32mexcept\u001b[0m \u001b[0mException\u001b[0m \u001b[0;32mas\u001b[0m \u001b[0me\u001b[0m\u001b[0;34m:\u001b[0m\u001b[0;34m\u001b[0m\u001b[0;34m\u001b[0m\u001b[0m\n\u001b[1;32m    152\u001b[0m       \u001b[0mfiltered_tb\u001b[0m \u001b[0;34m=\u001b[0m \u001b[0m_process_traceback_frames\u001b[0m\u001b[0;34m(\u001b[0m\u001b[0me\u001b[0m\u001b[0;34m.\u001b[0m\u001b[0m__traceback__\u001b[0m\u001b[0;34m)\u001b[0m\u001b[0;34m\u001b[0m\u001b[0;34m\u001b[0m\u001b[0m\n\u001b[0;32m--> 153\u001b[0;31m       \u001b[0;32mraise\u001b[0m \u001b[0me\u001b[0m\u001b[0;34m.\u001b[0m\u001b[0mwith_traceback\u001b[0m\u001b[0;34m(\u001b[0m\u001b[0mfiltered_tb\u001b[0m\u001b[0;34m)\u001b[0m \u001b[0;32mfrom\u001b[0m \u001b[0;32mNone\u001b[0m\u001b[0;34m\u001b[0m\u001b[0;34m\u001b[0m\u001b[0m\n\u001b[0m\u001b[1;32m    154\u001b[0m     \u001b[0;32mfinally\u001b[0m\u001b[0;34m:\u001b[0m\u001b[0;34m\u001b[0m\u001b[0;34m\u001b[0m\u001b[0m\n\u001b[1;32m    155\u001b[0m       \u001b[0;32mdel\u001b[0m \u001b[0mfiltered_tb\u001b[0m\u001b[0;34m\u001b[0m\u001b[0;34m\u001b[0m\u001b[0m\n",
            "\u001b[0;32m/usr/local/lib/python3.7/dist-packages/tensorflow/python/framework/ops.py\u001b[0m in \u001b[0;36mraise_from_not_ok_status\u001b[0;34m(e, name)\u001b[0m\n\u001b[1;32m   7184\u001b[0m \u001b[0;32mdef\u001b[0m \u001b[0mraise_from_not_ok_status\u001b[0m\u001b[0;34m(\u001b[0m\u001b[0me\u001b[0m\u001b[0;34m,\u001b[0m \u001b[0mname\u001b[0m\u001b[0;34m)\u001b[0m\u001b[0;34m:\u001b[0m\u001b[0;34m\u001b[0m\u001b[0;34m\u001b[0m\u001b[0m\n\u001b[1;32m   7185\u001b[0m   \u001b[0me\u001b[0m\u001b[0;34m.\u001b[0m\u001b[0mmessage\u001b[0m \u001b[0;34m+=\u001b[0m \u001b[0;34m(\u001b[0m\u001b[0;34m\" name: \"\u001b[0m \u001b[0;34m+\u001b[0m \u001b[0mname\u001b[0m \u001b[0;32mif\u001b[0m \u001b[0mname\u001b[0m \u001b[0;32mis\u001b[0m \u001b[0;32mnot\u001b[0m \u001b[0;32mNone\u001b[0m \u001b[0;32melse\u001b[0m \u001b[0;34m\"\"\u001b[0m\u001b[0;34m)\u001b[0m\u001b[0;34m\u001b[0m\u001b[0;34m\u001b[0m\u001b[0m\n\u001b[0;32m-> 7186\u001b[0;31m   \u001b[0;32mraise\u001b[0m \u001b[0mcore\u001b[0m\u001b[0;34m.\u001b[0m\u001b[0m_status_to_exception\u001b[0m\u001b[0;34m(\u001b[0m\u001b[0me\u001b[0m\u001b[0;34m)\u001b[0m \u001b[0;32mfrom\u001b[0m \u001b[0;32mNone\u001b[0m  \u001b[0;31m# pylint: disable=protected-access\u001b[0m\u001b[0;34m\u001b[0m\u001b[0;34m\u001b[0m\u001b[0m\n\u001b[0m\u001b[1;32m   7187\u001b[0m \u001b[0;34m\u001b[0m\u001b[0m\n\u001b[1;32m   7188\u001b[0m \u001b[0;34m\u001b[0m\u001b[0m\n",
            "\u001b[0;31mInvalidArgumentError\u001b[0m: Value for attr 'T' of int64 is not in the list of allowed values: bfloat16, half, float, double, complex64, complex128\n\t; NodeDef: {{node Sqrt}}; Op<name=Sqrt; signature=x:T -> y:T; attr=T:type,allowed=[DT_BFLOAT16, DT_HALF, DT_FLOAT, DT_DOUBLE, DT_COMPLEX64, DT_COMPLEX128]> [Op:Sqrt]"
          ]
        }
      ]
    },
    {
      "cell_type": "markdown",
      "source": [
        "## Making a function to return the predictions of a model"
      ],
      "metadata": {
        "id": "1ZnMaqxn2mcz"
      }
    },
    {
      "cell_type": "code",
      "source": [
        "def make_preds(model, input_data):\n",
        "  \"\"\"\n",
        "  Description:\n",
        "    Uses model to make predictions on input_data.\n",
        "\n",
        "  Parameters:\n",
        "    model: trained model \n",
        "    input_data: windowed input data (same kind of data model was trained on)\n",
        "\n",
        "  Returns model predictions on input_data.\n",
        "  \"\"\"\n",
        "  forecast = model.predict(input_data)\n",
        "  return tf.cast(tf.squeeze(forecast), dtype=\"float64\") # return 1D array of predictions"
      ],
      "metadata": {
        "id": "EgcwIv-Q3Qjw"
      },
      "execution_count": 122,
      "outputs": []
    },
    {
      "cell_type": "code",
      "source": [
        "model_1_preds= make_preds(model_1_checkpoint, test_windows)\n",
        "model_1_preds[:5]"
      ],
      "metadata": {
        "colab": {
          "base_uri": "https://localhost:8080/"
        },
        "id": "f1y2pDnH3iz1",
        "outputId": "8f094dfc-6a7f-4284-88a5-8ddb85f2968f"
      },
      "execution_count": 123,
      "outputs": [
        {
          "output_type": "execute_result",
          "data": {
            "text/plain": [
              "<tf.Tensor: shape=(5,), dtype=float64, numpy=\n",
              "array([39018.30859375, 44831.0546875 , 46790.60546875, 44867.51953125,\n",
              "       47313.69921875])>"
            ]
          },
          "metadata": {},
          "execution_count": 123
        }
      ]
    },
    {
      "cell_type": "code",
      "source": [
        "model_1_results= evaluate_preds(tf.squeeze(test_labels), model_1_preds)\n",
        "model_1_results"
      ],
      "metadata": {
        "colab": {
          "base_uri": "https://localhost:8080/"
        },
        "id": "NHEriFKx3xxH",
        "outputId": "4a7b3d88-3418-4074-ce0e-026bfacef3aa"
      },
      "execution_count": 125,
      "outputs": [
        {
          "output_type": "execute_result",
          "data": {
            "text/plain": [
              "{'mae': 1183.3538926726085,\n",
              " 'mse': 2734868.528680281,\n",
              " 'rmse': 1653.7437917284167,\n",
              " 'mape': 2.839415515895834,\n",
              " 'mase': 1.0314059843811472}"
            ]
          },
          "metadata": {},
          "execution_count": 125
        }
      ]
    },
    {
      "cell_type": "code",
      "source": [
        "naive_results"
      ],
      "metadata": {
        "colab": {
          "base_uri": "https://localhost:8080/"
        },
        "id": "NlGfrKvm35RV",
        "outputId": "8df30fa5-517c-4e89-fcf5-54cb43796658"
      },
      "execution_count": 126,
      "outputs": [
        {
          "output_type": "execute_result",
          "data": {
            "text/plain": [
              "{'mae': 1156.6283501875,\n",
              " 'mse': 2681841.620560925,\n",
              " 'rmse': 1637.6329321801406,\n",
              " 'mape': 2.7766003833746318,\n",
              " 'mase': 0.9988074616716925}"
            ]
          },
          "metadata": {},
          "execution_count": 126
        }
      ]
    },
    {
      "cell_type": "markdown",
      "source": [
        "## Autocorrelation time series\n",
        "\n",
        "* Link -> https://otexts.com/fpp2/autocorrelation.html#"
      ],
      "metadata": {
        "id": "HZciJP4WAJHC"
      }
    },
    {
      "cell_type": "code",
      "source": [
        "offset = 300\n",
        "plt.figure(figsize=(10, 7))\n",
        "# Account for the test_window offset and index into test_labels to ensure correct plotting\n",
        "plot_time_series(timesteps=X_test[-len(test_windows):], values=test_labels[:, 0], start=offset, label=\"Test_data\", ylabel=\"Bitcoin prices\")\n",
        "plot_time_series(timesteps=X_test[-len(test_windows):], values=model_1_preds, start=offset, format=\"-\", label=\"model_1_preds\", ylabel=\"Bitcoin prices\")"
      ],
      "metadata": {
        "colab": {
          "base_uri": "https://localhost:8080/",
          "height": 442
        },
        "id": "87H6mdne4smq",
        "outputId": "d9ecb74e-29a3-4b95-f6c4-594883156ff0"
      },
      "execution_count": 129,
      "outputs": [
        {
          "output_type": "display_data",
          "data": {
            "text/plain": [
              "<Figure size 720x504 with 1 Axes>"
            ],
            "image/png": "[encoded data removed]"
          },
          "metadata": {
            "needs_background": "light"
          }
        }
      ]
    },
    {
      "cell_type": "markdown",
      "source": [
        "## `Model 2`: Dense model(window=30, horizon=1)\n",
        "\n",
        "### Steps:\n",
        "\n",
        "\n",
        "* A single dense layer with 128 hidden units and ReLU (rectified linear unit) activation\n",
        "* An output layer with linear activation (or no activation)\n",
        "* Adam optimizer and MAE loss function\n",
        "* Batch size of 128\n",
        "* 100 epochs\n"
      ],
      "metadata": {
        "id": "cSujt3be5xSS"
      }
    },
    {
      "cell_type": "code",
      "source": [
        "WINDOW_SIZE, HORIZON"
      ],
      "metadata": {
        "colab": {
          "base_uri": "https://localhost:8080/"
        },
        "id": "DA-LGyG_61l8",
        "outputId": "7428f4c8-67b5-41d4-f507-10709959197b"
      },
      "execution_count": 132,
      "outputs": [
        {
          "output_type": "execute_result",
          "data": {
            "text/plain": [
              "(7, 1)"
            ]
          },
          "metadata": {},
          "execution_count": 132
        }
      ]
    },
    {
      "cell_type": "code",
      "source": [
        "WINDOW_SIZE= 30\n",
        "\n",
        "inputs= layers.Input(shape=(WINDOW_SIZE,), dtype=\"float32\", name=\"model_2_inputs\")\n",
        "x= layers.Dense(128, activation=\"relu\")(inputs)\n",
        "outputs= layers.Dense(HORIZON, activation='linear')(x)\n",
        "model_2= tf.keras.Model(inputs, outputs, name=\"model_2_dense\")"
      ],
      "metadata": {
        "id": "sD0TP_7n5ees"
      },
      "execution_count": 133,
      "outputs": []
    },
    {
      "cell_type": "code",
      "source": [
        "model_2.summary()"
      ],
      "metadata": {
        "colab": {
          "base_uri": "https://localhost:8080/"
        },
        "id": "vR8kt6Nh7I3K",
        "outputId": "504c511c-7335-4143-e88e-52a8683a42ab"
      },
      "execution_count": 134,
      "outputs": [
        {
          "output_type": "stream",
          "name": "stdout",
          "text": [
            "Model: \"model_2_dense\"\n",
            "_________________________________________________________________\n",
            " Layer (type)                Output Shape              Param #   \n",
            "=================================================================\n",
            " model_2_inputs (InputLayer)  [(None, 30)]             0         \n",
            "                                                                 \n",
            " dense_4 (Dense)             (None, 128)               3968      \n",
            "                                                                 \n",
            " dense_5 (Dense)             (None, 1)                 129       \n",
            "                                                                 \n",
            "=================================================================\n",
            "Total params: 4,097\n",
            "Trainable params: 4,097\n",
            "Non-trainable params: 0\n",
            "_________________________________________________________________\n"
          ]
        }
      ]
    },
    {
      "cell_type": "code",
      "source": [
        "WINDOW_SIZE, HORIZON"
      ],
      "metadata": {
        "colab": {
          "base_uri": "https://localhost:8080/"
        },
        "id": "g7CtaDLOATt2",
        "outputId": "71fadd0c-2cfe-4f7e-ccee-563ea9e1169c"
      },
      "execution_count": 144,
      "outputs": [
        {
          "output_type": "execute_result",
          "data": {
            "text/plain": [
              "(30, 1)"
            ]
          },
          "metadata": {},
          "execution_count": 144
        }
      ]
    },
    {
      "cell_type": "markdown",
      "source": [
        "## Creating the new windows datasets"
      ],
      "metadata": {
        "id": "6e65OR9o75cl"
      }
    },
    {
      "cell_type": "code",
      "source": [
        "new_30_windows, new_30_labels= make_windows(prices,WINDOW_SIZE, HORIZON)"
      ],
      "metadata": {
        "id": "AFhOOstY79NV"
      },
      "execution_count": 138,
      "outputs": []
    },
    {
      "cell_type": "code",
      "source": [
        "len(new_30_windows), len(new_30_labels)"
      ],
      "metadata": {
        "colab": {
          "base_uri": "https://localhost:8080/"
        },
        "id": "6atnhKL379Bc",
        "outputId": "8eb876c4-70ea-4efa-90b9-2f5349b149a2"
      },
      "execution_count": 140,
      "outputs": [
        {
          "output_type": "execute_result",
          "data": {
            "text/plain": [
              "(2851, 2851)"
            ]
          },
          "metadata": {},
          "execution_count": 140
        }
      ]
    },
    {
      "cell_type": "markdown",
      "source": [
        "## Splitting the new windows datasets"
      ],
      "metadata": {
        "id": "tMR57FfP8rPo"
      }
    },
    {
      "cell_type": "code",
      "source": [
        "train_windows, test_windows, train_labels, test_labels= make_train_test_split(new_30_windows, new_30_labels)\n",
        "len(train_windows), len(test_windows), len(train_labels), len(test_labels)"
      ],
      "metadata": {
        "colab": {
          "base_uri": "https://localhost:8080/"
        },
        "id": "xysJ0ifY8q1G",
        "outputId": "fcab879c-57d8-41d4-d0ef-8b6d9138519d"
      },
      "execution_count": 142,
      "outputs": [
        {
          "output_type": "execute_result",
          "data": {
            "text/plain": [
              "(2280, 571, 2280, 571)"
            ]
          },
          "metadata": {},
          "execution_count": 142
        }
      ]
    },
    {
      "cell_type": "code",
      "source": [
        "train_windows[:3], train_labels[:3], train_windows.shape"
      ],
      "metadata": {
        "colab": {
          "base_uri": "https://localhost:8080/"
        },
        "id": "rRuxOw9PBav4",
        "outputId": "ae685269-e155-4490-af62-67d4d97c05e8"
      },
      "execution_count": 150,
      "outputs": [
        {
          "output_type": "execute_result",
          "data": {
            "text/plain": [
              "(array([[383.757996, 391.441986, 389.54599 , 382.845001, 386.475006,\n",
              "         383.15799 , 358.416992, 358.345001, 347.270996, 354.70401 ,\n",
              "         352.989014, 357.618011, 335.591003, 345.304993, 338.321014,\n",
              "         325.748993, 325.891998, 327.553986, 330.492004, 339.485992,\n",
              "         349.290009, 342.415009, 345.488007, 363.264008, 366.924011,\n",
              "         367.695007, 423.561005, 420.734985, 397.817993, 376.132996],\n",
              "        [391.441986, 389.54599 , 382.845001, 386.475006, 383.15799 ,\n",
              "         358.416992, 358.345001, 347.270996, 354.70401 , 352.989014,\n",
              "         357.618011, 335.591003, 345.304993, 338.321014, 325.748993,\n",
              "         325.891998, 327.553986, 330.492004, 339.485992, 349.290009,\n",
              "         342.415009, 345.488007, 363.264008, 366.924011, 367.695007,\n",
              "         423.561005, 420.734985, 397.817993, 376.132996, 387.881989],\n",
              "        [389.54599 , 382.845001, 386.475006, 383.15799 , 358.416992,\n",
              "         358.345001, 347.270996, 354.70401 , 352.989014, 357.618011,\n",
              "         335.591003, 345.304993, 338.321014, 325.748993, 325.891998,\n",
              "         327.553986, 330.492004, 339.485992, 349.290009, 342.415009,\n",
              "         345.488007, 363.264008, 366.924011, 367.695007, 423.561005,\n",
              "         420.734985, 397.817993, 376.132996, 387.881989, 387.40799 ]]),\n",
              " array([[387.881989],\n",
              "        [387.40799 ],\n",
              "        [375.197998]]),\n",
              " (2280, 30))"
            ]
          },
          "metadata": {},
          "execution_count": 150
        }
      ]
    },
    {
      "cell_type": "code",
      "source": [
        "model_2.compile(loss=\"mse\", optimizer= tf.keras.optimizers.Adam(), metrics=['mse','mae'])\n",
        "\n",
        "history_2= model_2.fit(train_windows, train_labels, epochs=100, batch_size=128,validation_data=(test_windows, test_labels), callbacks=[create_model_checkpoint('model_2_dense')])"
      ],
      "metadata": {
        "colab": {
          "base_uri": "https://localhost:8080/"
        },
        "id": "zVrbKg6J7J-9",
        "outputId": "4095ab7e-4abd-4be7-d0eb-7a64b9a60154"
      },
      "execution_count": 143,
      "outputs": [
        {
          "output_type": "stream",
          "name": "stdout",
          "text": [
            "Epoch 1/100\n",
            "18/18 [==============================] - 1s 43ms/step - loss: 16487243.0000 - mse: 16487243.0000 - mae: 2304.9426 - val_loss: 53796828.0000 - val_mse: 53796828.0000 - val_mae: 6295.7256\n",
            "Epoch 2/100\n",
            "18/18 [==============================] - 1s 34ms/step - loss: 1687669.7500 - mse: 1687669.7500 - mae: 634.4973 - val_loss: 23539384.0000 - val_mse: 23539384.0000 - val_mae: 3915.4961\n",
            "Epoch 3/100\n",
            "18/18 [==============================] - 1s 35ms/step - loss: 1065708.2500 - mse: 1065708.2500 - mae: 533.6258 - val_loss: 12953024.0000 - val_mse: 12953024.0000 - val_mae: 2750.9587\n",
            "Epoch 4/100\n",
            "18/18 [==============================] - 0s 4ms/step - loss: 889011.0625 - mse: 889011.0625 - mae: 456.1227 - val_loss: 23058572.0000 - val_mse: 23058572.0000 - val_mae: 3912.8892\n",
            "Epoch 5/100\n",
            "18/18 [==============================] - 1s 35ms/step - loss: 820833.0625 - mse: 820833.0625 - mae: 433.0018 - val_loss: 12426066.0000 - val_mse: 12426066.0000 - val_mae: 2767.3762\n",
            "Epoch 6/100\n",
            "18/18 [==============================] - 1s 33ms/step - loss: 751439.7500 - mse: 751439.7500 - mae: 411.5599 - val_loss: 10114605.0000 - val_mse: 10114605.0000 - val_mae: 2451.6138\n",
            "Epoch 7/100\n",
            "18/18 [==============================] - 1s 33ms/step - loss: 719598.1875 - mse: 719598.1875 - mae: 407.2467 - val_loss: 10101979.0000 - val_mse: 10101979.0000 - val_mae: 2460.6353\n",
            "Epoch 8/100\n",
            "18/18 [==============================] - 0s 4ms/step - loss: 708143.2500 - mse: 708143.2500 - mae: 396.6837 - val_loss: 11409488.0000 - val_mse: 11409488.0000 - val_mae: 2634.2019\n",
            "Epoch 9/100\n",
            "18/18 [==============================] - 1s 33ms/step - loss: 649678.6250 - mse: 649678.6250 - mae: 371.9916 - val_loss: 10069727.0000 - val_mse: 10069727.0000 - val_mae: 2456.3557\n",
            "Epoch 10/100\n",
            "18/18 [==============================] - 1s 34ms/step - loss: 616500.1250 - mse: 616500.1250 - mae: 363.0249 - val_loss: 9716201.0000 - val_mse: 9716201.0000 - val_mae: 2405.6831\n",
            "Epoch 11/100\n",
            "18/18 [==============================] - 0s 3ms/step - loss: 590903.0625 - mse: 590903.0625 - mae: 356.6067 - val_loss: 10615875.0000 - val_mse: 10615875.0000 - val_mae: 2525.1980\n",
            "Epoch 12/100\n",
            "18/18 [==============================] - 0s 4ms/step - loss: 612570.4375 - mse: 612570.4375 - mae: 365.0893 - val_loss: 14561031.0000 - val_mse: 14561031.0000 - val_mae: 3027.9985\n",
            "Epoch 13/100\n",
            "18/18 [==============================] - 0s 4ms/step - loss: 613687.3750 - mse: 613687.3750 - mae: 369.6774 - val_loss: 13836810.0000 - val_mse: 13836810.0000 - val_mae: 2943.3835\n",
            "Epoch 14/100\n",
            "18/18 [==============================] - 1s 34ms/step - loss: 549819.6875 - mse: 549819.6875 - mae: 350.2307 - val_loss: 9550726.0000 - val_mse: 9550726.0000 - val_mae: 2385.0808\n",
            "Epoch 15/100\n",
            "18/18 [==============================] - 1s 33ms/step - loss: 560018.8750 - mse: 560018.8750 - mae: 360.2913 - val_loss: 8365429.0000 - val_mse: 8365429.0000 - val_mae: 2210.5293\n",
            "Epoch 16/100\n",
            "18/18 [==============================] - 1s 33ms/step - loss: 539032.2500 - mse: 539032.2500 - mae: 344.8252 - val_loss: 7730764.0000 - val_mse: 7730764.0000 - val_mae: 2116.2766\n",
            "Epoch 17/100\n",
            "18/18 [==============================] - 1s 31ms/step - loss: 479451.2188 - mse: 479451.2188 - mae: 324.7140 - val_loss: 7520172.0000 - val_mse: 7520172.0000 - val_mae: 2082.4480\n",
            "Epoch 18/100\n",
            "18/18 [==============================] - 0s 5ms/step - loss: 483312.3438 - mse: 483312.3438 - mae: 325.4869 - val_loss: 9767687.0000 - val_mse: 9767687.0000 - val_mae: 2430.8623\n",
            "Epoch 19/100\n",
            "18/18 [==============================] - 0s 3ms/step - loss: 509894.5000 - mse: 509894.5000 - mae: 345.9954 - val_loss: 8355176.5000 - val_mse: 8355176.5000 - val_mae: 2231.4990\n",
            "Epoch 20/100\n",
            "18/18 [==============================] - 0s 3ms/step - loss: 433372.8750 - mse: 433372.8750 - mae: 311.7371 - val_loss: 8378849.5000 - val_mse: 8378849.5000 - val_mae: 2241.3684\n",
            "Epoch 21/100\n",
            "18/18 [==============================] - 1s 32ms/step - loss: 431752.5000 - mse: 431752.5000 - mae: 321.7296 - val_loss: 7361737.5000 - val_mse: 7361737.5000 - val_mae: 2091.3601\n",
            "Epoch 22/100\n",
            "18/18 [==============================] - 0s 4ms/step - loss: 427141.8125 - mse: 427141.8125 - mae: 305.5705 - val_loss: 7495534.5000 - val_mse: 7495534.5000 - val_mae: 2117.3059\n",
            "Epoch 23/100\n",
            "18/18 [==============================] - 1s 47ms/step - loss: 390695.5000 - mse: 390695.5000 - mae: 299.2730 - val_loss: 6938713.5000 - val_mse: 6938713.5000 - val_mae: 2029.2125\n",
            "Epoch 24/100\n",
            "18/18 [==============================] - 1s 32ms/step - loss: 380551.5938 - mse: 380551.5938 - mae: 298.3174 - val_loss: 6396622.0000 - val_mse: 6396622.0000 - val_mae: 1933.7611\n",
            "Epoch 25/100\n",
            "18/18 [==============================] - 0s 5ms/step - loss: 373775.7812 - mse: 373775.7812 - mae: 291.2503 - val_loss: 7925459.5000 - val_mse: 7925459.5000 - val_mae: 2193.1343\n",
            "Epoch 26/100\n",
            "18/18 [==============================] - 1s 32ms/step - loss: 376287.2812 - mse: 376287.2812 - mae: 292.9907 - val_loss: 6189300.0000 - val_mse: 6189300.0000 - val_mae: 1917.3962\n",
            "Epoch 27/100\n",
            "18/18 [==============================] - 0s 4ms/step - loss: 375392.0000 - mse: 375392.0000 - mae: 292.3254 - val_loss: 9731529.0000 - val_mse: 9731529.0000 - val_mae: 2456.5293\n",
            "Epoch 28/100\n",
            "18/18 [==============================] - 1s 35ms/step - loss: 349064.6875 - mse: 349064.6875 - mae: 285.9092 - val_loss: 6005605.0000 - val_mse: 6005605.0000 - val_mae: 1883.3367\n",
            "Epoch 29/100\n",
            "18/18 [==============================] - 0s 3ms/step - loss: 349536.0938 - mse: 349536.0938 - mae: 288.9182 - val_loss: 6213202.0000 - val_mse: 6213202.0000 - val_mae: 1937.3599\n",
            "Epoch 30/100\n",
            "18/18 [==============================] - 0s 4ms/step - loss: 365224.7500 - mse: 365224.7500 - mae: 288.6867 - val_loss: 6487263.5000 - val_mse: 6487263.5000 - val_mae: 1972.3934\n",
            "Epoch 31/100\n",
            "18/18 [==============================] - 1s 32ms/step - loss: 347314.9375 - mse: 347314.9375 - mae: 283.8193 - val_loss: 5912903.0000 - val_mse: 5912903.0000 - val_mae: 1871.3458\n",
            "Epoch 32/100\n",
            "18/18 [==============================] - 1s 33ms/step - loss: 330256.3750 - mse: 330256.3750 - mae: 276.4052 - val_loss: 5856284.0000 - val_mse: 5856284.0000 - val_mae: 1873.7760\n",
            "Epoch 33/100\n",
            "18/18 [==============================] - 0s 3ms/step - loss: 365779.0000 - mse: 365779.0000 - mae: 302.9389 - val_loss: 8468472.0000 - val_mse: 8468472.0000 - val_mae: 2288.3657\n",
            "Epoch 34/100\n",
            "18/18 [==============================] - 0s 4ms/step - loss: 330248.8125 - mse: 330248.8125 - mae: 274.3881 - val_loss: 5955964.0000 - val_mse: 5955964.0000 - val_mae: 1884.9266\n",
            "Epoch 35/100\n",
            "18/18 [==============================] - 1s 33ms/step - loss: 306456.1250 - mse: 306456.1250 - mae: 262.8749 - val_loss: 5682846.0000 - val_mse: 5682846.0000 - val_mae: 1835.5570\n",
            "Epoch 36/100\n",
            "18/18 [==============================] - 0s 5ms/step - loss: 310547.3125 - mse: 310547.3125 - mae: 263.9496 - val_loss: 7592615.5000 - val_mse: 7592615.5000 - val_mae: 2158.1895\n",
            "Epoch 37/100\n",
            "18/18 [==============================] - 0s 4ms/step - loss: 305200.5625 - mse: 305200.5625 - mae: 271.0000 - val_loss: 5845383.0000 - val_mse: 5845383.0000 - val_mae: 1871.1552\n",
            "Epoch 38/100\n",
            "18/18 [==============================] - 0s 4ms/step - loss: 300473.0312 - mse: 300473.0312 - mae: 270.5817 - val_loss: 5941719.0000 - val_mse: 5941719.0000 - val_mae: 1896.9867\n",
            "Epoch 39/100\n",
            "18/18 [==============================] - 1s 32ms/step - loss: 298515.8750 - mse: 298515.8750 - mae: 262.1087 - val_loss: 5604740.0000 - val_mse: 5604740.0000 - val_mae: 1829.2750\n",
            "Epoch 40/100\n",
            "18/18 [==============================] - 0s 4ms/step - loss: 288348.2188 - mse: 288348.2188 - mae: 255.8477 - val_loss: 5968217.0000 - val_mse: 5968217.0000 - val_mae: 1899.2213\n",
            "Epoch 41/100\n",
            "18/18 [==============================] - 1s 32ms/step - loss: 287263.0625 - mse: 287263.0625 - mae: 256.3425 - val_loss: 5364048.0000 - val_mse: 5364048.0000 - val_mae: 1789.6912\n",
            "Epoch 42/100\n",
            "18/18 [==============================] - 0s 4ms/step - loss: 294587.5625 - mse: 294587.5625 - mae: 265.3391 - val_loss: 7105244.0000 - val_mse: 7105244.0000 - val_mae: 2084.9968\n",
            "Epoch 43/100\n",
            "18/18 [==============================] - 1s 34ms/step - loss: 293006.4062 - mse: 293006.4062 - mae: 262.5674 - val_loss: 5262833.0000 - val_mse: 5262833.0000 - val_mae: 1771.6826\n",
            "Epoch 44/100\n",
            "18/18 [==============================] - 0s 4ms/step - loss: 302907.7188 - mse: 302907.7188 - mae: 265.3582 - val_loss: 5419487.5000 - val_mse: 5419487.5000 - val_mae: 1801.5641\n",
            "Epoch 45/100\n",
            "18/18 [==============================] - 1s 32ms/step - loss: 280754.3125 - mse: 280754.3125 - mae: 255.3676 - val_loss: 5186887.0000 - val_mse: 5186887.0000 - val_mae: 1754.9772\n",
            "Epoch 46/100\n",
            "18/18 [==============================] - 0s 3ms/step - loss: 276258.8750 - mse: 276258.8750 - mae: 252.2878 - val_loss: 5660096.5000 - val_mse: 5660096.5000 - val_mae: 1852.6266\n",
            "Epoch 47/100\n",
            "18/18 [==============================] - 0s 4ms/step - loss: 268726.2188 - mse: 268726.2188 - mae: 246.3306 - val_loss: 6451850.0000 - val_mse: 6451850.0000 - val_mae: 1983.9503\n",
            "Epoch 48/100\n",
            "18/18 [==============================] - 1s 32ms/step - loss: 270368.0938 - mse: 270368.0938 - mae: 255.5734 - val_loss: 5126667.0000 - val_mse: 5126667.0000 - val_mae: 1748.6249\n",
            "Epoch 49/100\n",
            "18/18 [==============================] - 0s 4ms/step - loss: 267395.9062 - mse: 267395.9062 - mae: 246.9832 - val_loss: 6003392.0000 - val_mse: 6003392.0000 - val_mae: 1908.5190\n",
            "Epoch 50/100\n",
            "18/18 [==============================] - 1s 33ms/step - loss: 271676.2500 - mse: 271676.2500 - mae: 251.9361 - val_loss: 4932367.0000 - val_mse: 4932367.0000 - val_mae: 1706.8842\n",
            "Epoch 51/100\n",
            "18/18 [==============================] - 0s 4ms/step - loss: 292244.4375 - mse: 292244.4375 - mae: 265.7262 - val_loss: 6537894.5000 - val_mse: 6537894.5000 - val_mae: 1997.6573\n",
            "Epoch 52/100\n",
            "18/18 [==============================] - 1s 32ms/step - loss: 274283.1875 - mse: 274283.1875 - mae: 247.0690 - val_loss: 4846564.5000 - val_mse: 4846564.5000 - val_mae: 1691.5394\n",
            "Epoch 53/100\n",
            "18/18 [==============================] - 1s 33ms/step - loss: 274382.5312 - mse: 274382.5312 - mae: 261.0182 - val_loss: 4807286.0000 - val_mse: 4807286.0000 - val_mae: 1683.8867\n",
            "Epoch 54/100\n",
            "18/18 [==============================] - 0s 4ms/step - loss: 278822.6875 - mse: 278822.6875 - mae: 249.4109 - val_loss: 4838464.0000 - val_mse: 4838464.0000 - val_mae: 1693.4789\n",
            "Epoch 55/100\n",
            "18/18 [==============================] - 1s 33ms/step - loss: 262084.0625 - mse: 262084.0625 - mae: 241.6626 - val_loss: 4681857.0000 - val_mse: 4681857.0000 - val_mae: 1659.4858\n",
            "Epoch 56/100\n",
            "18/18 [==============================] - 0s 3ms/step - loss: 260763.0000 - mse: 260763.0000 - mae: 243.8428 - val_loss: 5260720.0000 - val_mse: 5260720.0000 - val_mae: 1780.4755\n",
            "Epoch 57/100\n",
            "18/18 [==============================] - 0s 5ms/step - loss: 278072.0625 - mse: 278072.0625 - mae: 254.5399 - val_loss: 7221084.5000 - val_mse: 7221084.5000 - val_mae: 2115.4492\n",
            "Epoch 58/100\n",
            "18/18 [==============================] - 1s 49ms/step - loss: 245672.7031 - mse: 245672.7031 - mae: 235.7400 - val_loss: 4593190.0000 - val_mse: 4593190.0000 - val_mae: 1640.9426\n",
            "Epoch 59/100\n",
            "18/18 [==============================] - 1s 32ms/step - loss: 260697.9688 - mse: 260697.9688 - mae: 249.9776 - val_loss: 4369679.0000 - val_mse: 4369679.0000 - val_mae: 1595.2408\n",
            "Epoch 60/100\n",
            "18/18 [==============================] - 0s 4ms/step - loss: 251807.1250 - mse: 251807.1250 - mae: 244.7256 - val_loss: 4899827.0000 - val_mse: 4899827.0000 - val_mae: 1709.0992\n",
            "Epoch 61/100\n",
            "18/18 [==============================] - 0s 4ms/step - loss: 272764.6250 - mse: 272764.6250 - mae: 259.9179 - val_loss: 7577816.0000 - val_mse: 7577816.0000 - val_mae: 2175.8379\n",
            "Epoch 62/100\n",
            "18/18 [==============================] - 0s 5ms/step - loss: 239544.5000 - mse: 239544.5000 - mae: 244.5720 - val_loss: 5284756.5000 - val_mse: 5284756.5000 - val_mae: 1789.0002\n",
            "Epoch 63/100\n",
            "18/18 [==============================] - 1s 33ms/step - loss: 255612.6094 - mse: 255612.6094 - mae: 235.2658 - val_loss: 4123640.0000 - val_mse: 4123640.0000 - val_mae: 1547.5886\n",
            "Epoch 64/100\n",
            "18/18 [==============================] - 0s 4ms/step - loss: 241224.7812 - mse: 241224.7812 - mae: 230.9409 - val_loss: 6070533.5000 - val_mse: 6070533.5000 - val_mae: 1923.3430\n",
            "Epoch 65/100\n",
            "18/18 [==============================] - 0s 3ms/step - loss: 249358.9062 - mse: 249358.9062 - mae: 244.1371 - val_loss: 4135867.7500 - val_mse: 4135867.7500 - val_mae: 1551.0197\n",
            "Epoch 66/100\n",
            "18/18 [==============================] - 0s 4ms/step - loss: 229351.9531 - mse: 229351.9531 - mae: 221.8331 - val_loss: 6271020.0000 - val_mse: 6271020.0000 - val_mae: 1959.2784\n",
            "Epoch 67/100\n",
            "18/18 [==============================] - 0s 5ms/step - loss: 246849.2344 - mse: 246849.2344 - mae: 238.6318 - val_loss: 4226137.0000 - val_mse: 4226137.0000 - val_mae: 1572.7124\n",
            "Epoch 68/100\n",
            "18/18 [==============================] - 0s 4ms/step - loss: 249773.0469 - mse: 249773.0469 - mae: 234.6671 - val_loss: 4534174.5000 - val_mse: 4534174.5000 - val_mae: 1634.8506\n",
            "Epoch 69/100\n",
            "18/18 [==============================] - 1s 32ms/step - loss: 250644.5469 - mse: 250644.5469 - mae: 236.9489 - val_loss: 4016158.5000 - val_mse: 4016158.5000 - val_mae: 1529.3285\n",
            "Epoch 70/100\n",
            "18/18 [==============================] - 0s 4ms/step - loss: 232086.3750 - mse: 232086.3750 - mae: 223.1606 - val_loss: 4706397.5000 - val_mse: 4706397.5000 - val_mae: 1666.5382\n",
            "Epoch 71/100\n",
            "18/18 [==============================] - 0s 4ms/step - loss: 236122.5000 - mse: 236122.5000 - mae: 236.4629 - val_loss: 6304774.5000 - val_mse: 6304774.5000 - val_mae: 1963.6721\n",
            "Epoch 72/100\n",
            "18/18 [==============================] - 0s 4ms/step - loss: 242691.0938 - mse: 242691.0938 - mae: 238.3068 - val_loss: 4884036.0000 - val_mse: 4884036.0000 - val_mae: 1697.9967\n",
            "Epoch 73/100\n",
            "18/18 [==============================] - 0s 4ms/step - loss: 231476.1719 - mse: 231476.1719 - mae: 225.6085 - val_loss: 6348813.5000 - val_mse: 6348813.5000 - val_mae: 1974.2469\n",
            "Epoch 74/100\n",
            "18/18 [==============================] - 0s 5ms/step - loss: 293727.2500 - mse: 293727.2500 - mae: 270.5442 - val_loss: 5294741.5000 - val_mse: 5294741.5000 - val_mae: 1777.7100\n",
            "Epoch 75/100\n",
            "18/18 [==============================] - 0s 4ms/step - loss: 217843.8125 - mse: 217843.8125 - mae: 219.9272 - val_loss: 4266926.5000 - val_mse: 4266926.5000 - val_mae: 1579.7728\n",
            "Epoch 76/100\n",
            "18/18 [==============================] - 0s 4ms/step - loss: 256148.7188 - mse: 256148.7188 - mae: 240.6745 - val_loss: 4089431.0000 - val_mse: 4089431.0000 - val_mae: 1545.8502\n",
            "Epoch 77/100\n",
            "18/18 [==============================] - 0s 5ms/step - loss: 231041.7969 - mse: 231041.7969 - mae: 229.6277 - val_loss: 5811684.0000 - val_mse: 5811684.0000 - val_mae: 1875.8789\n",
            "Epoch 78/100\n",
            "18/18 [==============================] - 0s 4ms/step - loss: 218374.9062 - mse: 218374.9062 - mae: 218.3589 - val_loss: 4050126.2500 - val_mse: 4050126.2500 - val_mae: 1535.2404\n",
            "Epoch 79/100\n",
            "18/18 [==============================] - 0s 4ms/step - loss: 215369.8125 - mse: 215369.8125 - mae: 212.9328 - val_loss: 4290854.0000 - val_mse: 4290854.0000 - val_mae: 1581.0808\n",
            "Epoch 80/100\n",
            "18/18 [==============================] - 1s 33ms/step - loss: 226715.1719 - mse: 226715.1719 - mae: 226.1665 - val_loss: 3810658.7500 - val_mse: 3810658.7500 - val_mae: 1483.4751\n",
            "Epoch 81/100\n",
            "18/18 [==============================] - 0s 4ms/step - loss: 214000.8906 - mse: 214000.8906 - mae: 213.7852 - val_loss: 3899796.7500 - val_mse: 3899796.7500 - val_mae: 1502.3639\n",
            "Epoch 82/100\n",
            "18/18 [==============================] - 0s 4ms/step - loss: 218150.7344 - mse: 218150.7344 - mae: 223.3344 - val_loss: 5283593.0000 - val_mse: 5283593.0000 - val_mae: 1776.3193\n",
            "Epoch 83/100\n",
            "18/18 [==============================] - 1s 32ms/step - loss: 197920.3281 - mse: 197920.3281 - mae: 206.5090 - val_loss: 3719510.5000 - val_mse: 3719510.5000 - val_mae: 1461.5986\n",
            "Epoch 84/100\n",
            "18/18 [==============================] - 0s 4ms/step - loss: 211928.7344 - mse: 211928.7344 - mae: 216.6960 - val_loss: 4266100.0000 - val_mse: 4266100.0000 - val_mae: 1586.2690\n",
            "Epoch 85/100\n",
            "18/18 [==============================] - 0s 4ms/step - loss: 211530.6250 - mse: 211530.6250 - mae: 218.1792 - val_loss: 5273785.0000 - val_mse: 5273785.0000 - val_mae: 1773.4333\n",
            "Epoch 86/100\n",
            "18/18 [==============================] - 1s 34ms/step - loss: 215730.8438 - mse: 215730.8438 - mae: 213.4006 - val_loss: 3575932.7500 - val_mse: 3575932.7500 - val_mae: 1427.8861\n",
            "Epoch 87/100\n",
            "18/18 [==============================] - 0s 3ms/step - loss: 200608.7344 - mse: 200608.7344 - mae: 207.1779 - val_loss: 3715089.0000 - val_mse: 3715089.0000 - val_mae: 1458.6041\n",
            "Epoch 88/100\n",
            "18/18 [==============================] - 0s 4ms/step - loss: 207978.3906 - mse: 207978.3906 - mae: 221.1467 - val_loss: 3683841.0000 - val_mse: 3683841.0000 - val_mae: 1450.9742\n",
            "Epoch 89/100\n",
            "18/18 [==============================] - 0s 4ms/step - loss: 261079.6875 - mse: 261079.6875 - mae: 246.0892 - val_loss: 3914208.2500 - val_mse: 3914208.2500 - val_mae: 1507.6565\n",
            "Epoch 90/100\n",
            "18/18 [==============================] - 0s 4ms/step - loss: 210318.2031 - mse: 210318.2031 - mae: 216.8855 - val_loss: 4171915.0000 - val_mse: 4171915.0000 - val_mae: 1565.1281\n",
            "Epoch 91/100\n",
            "18/18 [==============================] - 0s 4ms/step - loss: 210072.0625 - mse: 210072.0625 - mae: 216.3330 - val_loss: 4001276.5000 - val_mse: 4001276.5000 - val_mae: 1517.9255\n",
            "Epoch 92/100\n",
            "18/18 [==============================] - 1s 34ms/step - loss: 219057.0156 - mse: 219057.0156 - mae: 222.0573 - val_loss: 3569116.7500 - val_mse: 3569116.7500 - val_mae: 1426.3746\n",
            "Epoch 93/100\n",
            "18/18 [==============================] - 0s 4ms/step - loss: 201212.3438 - mse: 201212.3438 - mae: 206.0281 - val_loss: 4054181.0000 - val_mse: 4054181.0000 - val_mae: 1527.6594\n",
            "Epoch 94/100\n",
            "18/18 [==============================] - 0s 4ms/step - loss: 207656.9062 - mse: 207656.9062 - mae: 214.8875 - val_loss: 8671312.0000 - val_mse: 8671312.0000 - val_mae: 2391.0776\n",
            "Epoch 95/100\n",
            "18/18 [==============================] - 0s 3ms/step - loss: 222129.4219 - mse: 222129.4219 - mae: 228.4520 - val_loss: 4004858.2500 - val_mse: 4004858.2500 - val_mae: 1516.6075\n",
            "Epoch 96/100\n",
            "18/18 [==============================] - 0s 4ms/step - loss: 216673.3594 - mse: 216673.3594 - mae: 224.6059 - val_loss: 5495914.5000 - val_mse: 5495914.5000 - val_mae: 1817.5149\n",
            "Epoch 97/100\n",
            "18/18 [==============================] - 1s 33ms/step - loss: 230285.8906 - mse: 230285.8906 - mae: 230.9521 - val_loss: 3430077.7500 - val_mse: 3430077.7500 - val_mae: 1392.1250\n",
            "Epoch 98/100\n",
            "18/18 [==============================] - 0s 4ms/step - loss: 200137.4688 - mse: 200137.4688 - mae: 205.3905 - val_loss: 3995341.7500 - val_mse: 3995341.7500 - val_mae: 1525.1082\n",
            "Epoch 99/100\n",
            "18/18 [==============================] - 0s 4ms/step - loss: 232656.6875 - mse: 232656.6875 - mae: 226.5708 - val_loss: 3586162.0000 - val_mse: 3586162.0000 - val_mae: 1429.1339\n",
            "Epoch 100/100\n",
            "18/18 [==============================] - 0s 4ms/step - loss: 257054.4219 - mse: 257054.4219 - mae: 241.7366 - val_loss: 11352329.0000 - val_mse: 11352329.0000 - val_mae: 2823.3721\n"
          ]
        }
      ]
    },
    {
      "cell_type": "markdown",
      "source": [
        "### Evaluating the model"
      ],
      "metadata": {
        "id": "ulGmUYKaCIui"
      }
    },
    {
      "cell_type": "code",
      "source": [
        "model_2.evaluate(test_windows, test_labels)"
      ],
      "metadata": {
        "colab": {
          "base_uri": "https://localhost:8080/"
        },
        "id": "dmwp09207qf3",
        "outputId": "f944aa60-339c-42a8-c500-dcd3d57d66d9"
      },
      "execution_count": 146,
      "outputs": [
        {
          "output_type": "stream",
          "name": "stdout",
          "text": [
            "18/18 [==============================] - 0s 4ms/step - loss: 11352328.0000 - mse: 11352328.0000 - mae: 2823.3721\n"
          ]
        },
        {
          "output_type": "execute_result",
          "data": {
            "text/plain": [
              "[11352328.0, 11352328.0, 2823.3720703125]"
            ]
          },
          "metadata": {},
          "execution_count": 146
        }
      ]
    },
    {
      "cell_type": "code",
      "source": [
        "model_2_checkpoint= tf.keras.models.load_model('/content/model_experiments/model_2_dense/')\n",
        "model_2_checkpoint"
      ],
      "metadata": {
        "colab": {
          "base_uri": "https://localhost:8080/"
        },
        "id": "aU-2oHg2AY99",
        "outputId": "ad24dabb-71b2-488e-9093-b271921d1928"
      },
      "execution_count": 147,
      "outputs": [
        {
          "output_type": "execute_result",
          "data": {
            "text/plain": [
              "<keras.engine.functional.Functional at 0x7f5e8d6bf3d0>"
            ]
          },
          "metadata": {},
          "execution_count": 147
        }
      ]
    },
    {
      "cell_type": "code",
      "source": [
        "model_2_checkpoint.evaluate(test_windows, test_labels)"
      ],
      "metadata": {
        "colab": {
          "base_uri": "https://localhost:8080/"
        },
        "id": "Cs5aH6fCAjVZ",
        "outputId": "29deb5aa-89b4-4905-adb8-845f6c3e92ab"
      },
      "execution_count": 148,
      "outputs": [
        {
          "output_type": "stream",
          "name": "stdout",
          "text": [
            "18/18 [==============================] - 0s 2ms/step - loss: 3430077.7500 - mse: 3430077.7500 - mae: 1392.1251\n"
          ]
        },
        {
          "output_type": "execute_result",
          "data": {
            "text/plain": [
              "[3430077.75, 3430077.75, 1392.1251220703125]"
            ]
          },
          "metadata": {},
          "execution_count": 148
        }
      ]
    },
    {
      "cell_type": "markdown",
      "source": [
        "### Making prediction on the model"
      ],
      "metadata": {
        "id": "UfaCv7Z0Akuu"
      }
    },
    {
      "cell_type": "code",
      "source": [
        "model_2_preds= make_preds(model_2_checkpoint, test_windows)\n",
        "model_2_preds[:5]"
      ],
      "metadata": {
        "colab": {
          "base_uri": "https://localhost:8080/"
        },
        "id": "cIzHrqXcBnvo",
        "outputId": "77c52a37-b8d7-4293-dd89-56238f8c766a"
      },
      "execution_count": 151,
      "outputs": [
        {
          "output_type": "execute_result",
          "data": {
            "text/plain": [
              "<tf.Tensor: shape=(5,), dtype=float64, numpy=\n",
              "array([47538.734375 , 48471.125    , 48913.171875 , 48385.46875  ,\n",
              "       49351.2578125])>"
            ]
          },
          "metadata": {},
          "execution_count": 151
        }
      ]
    },
    {
      "cell_type": "code",
      "source": [
        "model_2_results= evaluate_preds(tf.squeeze(test_labels), model_2_preds)\n",
        "model_2_results"
      ],
      "metadata": {
        "colab": {
          "base_uri": "https://localhost:8080/"
        },
        "id": "f_eieISJBqHV",
        "outputId": "fffc10b5-0d78-4418-8eec-dffa2b3c6418"
      },
      "execution_count": 152,
      "outputs": [
        {
          "output_type": "execute_result",
          "data": {
            "text/plain": [
              "{'mae': 1392.125215500219,\n",
              " 'mse': 3430078.10778425,\n",
              " 'rmse': 1852.0470047448175,\n",
              " 'mape': 3.3824104062040226,\n",
              " 'mase': 1.214584601495581}"
            ]
          },
          "metadata": {},
          "execution_count": 152
        }
      ]
    },
    {
      "cell_type": "code",
      "source": [
        "model_1_results"
      ],
      "metadata": {
        "colab": {
          "base_uri": "https://localhost:8080/"
        },
        "id": "1T771zqDBz8-",
        "outputId": "980dc2ed-2d34-46c3-eeb4-6d8f1785b9df"
      },
      "execution_count": 153,
      "outputs": [
        {
          "output_type": "execute_result",
          "data": {
            "text/plain": [
              "{'mae': 1183.3538926726085,\n",
              " 'mse': 2734868.528680281,\n",
              " 'rmse': 1653.7437917284167,\n",
              " 'mape': 2.839415515895834,\n",
              " 'mase': 1.0314059843811472}"
            ]
          },
          "metadata": {},
          "execution_count": 153
        }
      ]
    },
    {
      "cell_type": "code",
      "source": [
        "offset = 300\n",
        "plt.figure(figsize=(10, 7))\n",
        "# Account for the test_window offset and index into test_labels to ensure correct plotting\n",
        "plot_time_series(timesteps=X_test[-len(test_windows):], values=test_labels[:, 0], start=offset, label=\"Test_data\", ylabel=\"Bitcoin prices\")\n",
        "plot_time_series(timesteps=X_test[-len(test_windows):], values=model_2_preds, start=offset, format=\"-\", label=\"model_2_preds\", ylabel=\"Bitcoin prices\")"
      ],
      "metadata": {
        "colab": {
          "base_uri": "https://localhost:8080/",
          "height": 442
        },
        "id": "b-GJggfOB2Kd",
        "outputId": "d6337a00-a4d3-45d2-c418-e410c292d6b3"
      },
      "execution_count": 154,
      "outputs": [
        {
          "output_type": "display_data",
          "data": {
            "text/plain": [
              "<Figure size 720x504 with 1 Axes>"
            ],
            "image/png": "[encoded data removed]"
          },
          "metadata": {
            "needs_background": "light"
          }
        }
      ]
    },
    {
      "cell_type": "code",
      "source": [
        "WINDOW_SIZE, HORIZON"
      ],
      "metadata": {
        "colab": {
          "base_uri": "https://localhost:8080/"
        },
        "id": "DvkCl8S3DJMj",
        "outputId": "527ef8b0-413c-49c7-d5b8-576f3f85a0a0"
      },
      "execution_count": 156,
      "outputs": [
        {
          "output_type": "execute_result",
          "data": {
            "text/plain": [
              "(30, 1)"
            ]
          },
          "metadata": {},
          "execution_count": 156
        }
      ]
    },
    {
      "cell_type": "markdown",
      "source": [
        "## `Model 3`: Dense model(window=30, horizon=7)\n",
        "\n",
        "### Steps:\n",
        "\n",
        "\n",
        "* A single dense layer with 128 hidden units and ReLU (rectified linear unit) activation\n",
        "* An output layer with linear activation (or no activation)\n",
        "* Adam optimizer and MAE loss function\n",
        "* Batch size of 128\n",
        "* 100 epochs\n"
      ],
      "metadata": {
        "id": "DcYlZx1TDUn3"
      }
    },
    {
      "cell_type": "markdown",
      "source": [
        "## Creating the new windows datasets"
      ],
      "metadata": {
        "id": "kiwyezYADmQG"
      }
    },
    {
      "cell_type": "code",
      "source": [
        "WINDOW_SIZE= 30\n",
        "HORIZON= 7\n",
        "new_30_7_windows, new_30_7_labels= make_windows(prices,WINDOW_SIZE, HORIZON)"
      ],
      "metadata": {
        "id": "atXk6ZM-DZMP"
      },
      "execution_count": 157,
      "outputs": []
    },
    {
      "cell_type": "code",
      "source": [
        "len(new_30_7_windows), len(new_30_7_labels)"
      ],
      "metadata": {
        "colab": {
          "base_uri": "https://localhost:8080/"
        },
        "id": "SFIiCws2DzQ7",
        "outputId": "1e5b2db5-b4a6-428c-860a-765e566cce15"
      },
      "execution_count": 158,
      "outputs": [
        {
          "output_type": "execute_result",
          "data": {
            "text/plain": [
              "(2845, 2845)"
            ]
          },
          "metadata": {},
          "execution_count": 158
        }
      ]
    },
    {
      "cell_type": "markdown",
      "source": [
        "## Splitting the new windows datasets"
      ],
      "metadata": {
        "id": "sBPy5X0SD6vG"
      }
    },
    {
      "cell_type": "code",
      "source": [
        "train_windows, test_windows, train_labels, test_labels=make_train_test_split(new_30_7_windows, new_30_7_labels)"
      ],
      "metadata": {
        "id": "mi95FBX4D2YF"
      },
      "execution_count": 159,
      "outputs": []
    },
    {
      "cell_type": "code",
      "source": [
        "len(train_windows), len(test_windows), len(train_labels), len(test_labels)"
      ],
      "metadata": {
        "colab": {
          "base_uri": "https://localhost:8080/"
        },
        "id": "QkHPuFCyEL6F",
        "outputId": "a57fd861-aa04-4d55-bc1c-393af0c3e82b"
      },
      "execution_count": 160,
      "outputs": [
        {
          "output_type": "execute_result",
          "data": {
            "text/plain": [
              "(2276, 569, 2276, 569)"
            ]
          },
          "metadata": {},
          "execution_count": 160
        }
      ]
    },
    {
      "cell_type": "code",
      "source": [
        "train_windows[:3], train_labels[:3], train_windows.shape"
      ],
      "metadata": {
        "colab": {
          "base_uri": "https://localhost:8080/"
        },
        "id": "XWbTxSuNI4wX",
        "outputId": "0a5110c0-07e8-4b1e-ba0c-a68383be9535"
      },
      "execution_count": 176,
      "outputs": [
        {
          "output_type": "execute_result",
          "data": {
            "text/plain": [
              "(array([[383.757996, 391.441986, 389.54599 , 382.845001, 386.475006,\n",
              "         383.15799 , 358.416992, 358.345001, 347.270996, 354.70401 ,\n",
              "         352.989014, 357.618011, 335.591003, 345.304993, 338.321014,\n",
              "         325.748993, 325.891998, 327.553986, 330.492004, 339.485992,\n",
              "         349.290009, 342.415009, 345.488007, 363.264008, 366.924011,\n",
              "         367.695007, 423.561005, 420.734985, 397.817993, 376.132996],\n",
              "        [391.441986, 389.54599 , 382.845001, 386.475006, 383.15799 ,\n",
              "         358.416992, 358.345001, 347.270996, 354.70401 , 352.989014,\n",
              "         357.618011, 335.591003, 345.304993, 338.321014, 325.748993,\n",
              "         325.891998, 327.553986, 330.492004, 339.485992, 349.290009,\n",
              "         342.415009, 345.488007, 363.264008, 366.924011, 367.695007,\n",
              "         423.561005, 420.734985, 397.817993, 376.132996, 387.881989],\n",
              "        [389.54599 , 382.845001, 386.475006, 383.15799 , 358.416992,\n",
              "         358.345001, 347.270996, 354.70401 , 352.989014, 357.618011,\n",
              "         335.591003, 345.304993, 338.321014, 325.748993, 325.891998,\n",
              "         327.553986, 330.492004, 339.485992, 349.290009, 342.415009,\n",
              "         345.488007, 363.264008, 366.924011, 367.695007, 423.561005,\n",
              "         420.734985, 397.817993, 376.132996, 387.881989, 387.40799 ]]),\n",
              " array([[387.881989, 387.40799 , 375.197998, 380.554993, 357.839996,\n",
              "         350.847992, 352.920013],\n",
              "        [387.40799 , 375.197998, 380.554993, 357.839996, 350.847992,\n",
              "         352.920013, 367.572998],\n",
              "        [375.197998, 380.554993, 357.839996, 350.847992, 352.920013,\n",
              "         367.572998, 376.901001]]),\n",
              " (2276, 30))"
            ]
          },
          "metadata": {},
          "execution_count": 176
        }
      ]
    },
    {
      "cell_type": "code",
      "source": [
        "2276 + 569"
      ],
      "metadata": {
        "colab": {
          "base_uri": "https://localhost:8080/"
        },
        "id": "V-w8W8JsImx2",
        "outputId": "c737aced-e1bf-47e5-cffc-ac54d68272ba"
      },
      "execution_count": 175,
      "outputs": [
        {
          "output_type": "execute_result",
          "data": {
            "text/plain": [
              "2845"
            ]
          },
          "metadata": {},
          "execution_count": 175
        }
      ]
    },
    {
      "cell_type": "markdown",
      "source": [
        "### Creating the model"
      ],
      "metadata": {
        "id": "os54_2n1ETYJ"
      }
    },
    {
      "cell_type": "code",
      "source": [
        "WINDOW_SIZE, HORIZON"
      ],
      "metadata": {
        "colab": {
          "base_uri": "https://localhost:8080/"
        },
        "id": "VWxkwkYKIRLH",
        "outputId": "a1362233-6ddc-4006-a25d-aa57b45c794c"
      },
      "execution_count": 173,
      "outputs": [
        {
          "output_type": "execute_result",
          "data": {
            "text/plain": [
              "(30, 7)"
            ]
          },
          "metadata": {},
          "execution_count": 173
        }
      ]
    },
    {
      "cell_type": "code",
      "source": [
        "inputs= layers.Input(shape=(30, ), dtype=\"float32\", name=\"model_3_inputs\")\n",
        "x= layers.Dense(128, activation=\"relu\")(inputs)\n",
        "outputs= layers.Dense(HORIZON, activation=\"linear\")(x)\n",
        "\n",
        "model_3= tf.keras.Model(inputs, outputs, name=\"model_3_dense\")"
      ],
      "metadata": {
        "id": "Yl1rnd-7EYkS"
      },
      "execution_count": 161,
      "outputs": []
    },
    {
      "cell_type": "code",
      "source": [
        "model_3.summary()"
      ],
      "metadata": {
        "colab": {
          "base_uri": "https://localhost:8080/"
        },
        "id": "amAcJFwDGe36",
        "outputId": "33ef629c-845e-4575-fd04-080a24d83b9b"
      },
      "execution_count": 162,
      "outputs": [
        {
          "output_type": "stream",
          "name": "stdout",
          "text": [
            "Model: \"model_3_dense\"\n",
            "_________________________________________________________________\n",
            " Layer (type)                Output Shape              Param #   \n",
            "=================================================================\n",
            " model_3_inputs (InputLayer)  [(None, 30)]             0         \n",
            "                                                                 \n",
            " dense_6 (Dense)             (None, 128)               3968      \n",
            "                                                                 \n",
            " dense_7 (Dense)             (None, 7)                 903       \n",
            "                                                                 \n",
            "=================================================================\n",
            "Total params: 4,871\n",
            "Trainable params: 4,871\n",
            "Non-trainable params: 0\n",
            "_________________________________________________________________\n"
          ]
        }
      ]
    },
    {
      "cell_type": "code",
      "source": [
        "model_3.compile(loss=\"mae\", optimizer=tf.keras.optimizers.Adam(), metrics=[\"mae\", \"mse\"])\n",
        "\n",
        "history_3= model_3.fit(train_windows, train_labels, epochs=100, batch_size=128, validation_data=(test_windows, test_labels), callbacks=[create_model_checkpoint('model_3_dense')])"
      ],
      "metadata": {
        "colab": {
          "base_uri": "https://localhost:8080/"
        },
        "id": "H4mclRUOGf34",
        "outputId": "bdf5fb0e-692f-404d-9786-2dbfdd4b1d20"
      },
      "execution_count": 163,
      "outputs": [
        {
          "output_type": "stream",
          "name": "stdout",
          "text": [
            "Epoch 1/100\n",
            "18/18 [==============================] - 3s 140ms/step - loss: 2961.3469 - mae: 2961.3469 - mse: 36657816.0000 - val_loss: 7993.2783 - val_mae: 7993.2783 - val_mse: 102171360.0000\n",
            "Epoch 2/100\n",
            "18/18 [==============================] - 1s 41ms/step - loss: 921.1393 - mae: 921.1393 - mse: 3341416.0000 - val_loss: 4789.9053 - val_mae: 4789.9053 - val_mse: 37125868.0000\n",
            "Epoch 3/100\n",
            "18/18 [==============================] - 1s 43ms/step - loss: 703.9774 - mae: 703.9774 - mse: 2155704.5000 - val_loss: 4266.3154 - val_mae: 4266.3154 - val_mse: 29973674.0000\n",
            "Epoch 4/100\n",
            "18/18 [==============================] - 1s 42ms/step - loss: 618.7608 - mae: 618.7608 - mse: 1834047.8750 - val_loss: 3864.9011 - val_mae: 3864.9011 - val_mse: 25532066.0000\n",
            "Epoch 5/100\n",
            "18/18 [==============================] - 2s 106ms/step - loss: 576.5028 - mae: 576.5028 - mse: 1608190.0000 - val_loss: 3529.6814 - val_mae: 3529.6814 - val_mse: 21461016.0000\n",
            "Epoch 6/100\n",
            "18/18 [==============================] - 1s 64ms/step - loss: 541.8340 - mae: 541.8340 - mse: 1470127.6250 - val_loss: 3358.0793 - val_mae: 3358.0793 - val_mse: 19609908.0000\n",
            "Epoch 7/100\n",
            "18/18 [==============================] - 1s 42ms/step - loss: 524.4415 - mae: 524.4415 - mse: 1376714.7500 - val_loss: 3276.4443 - val_mae: 3276.4443 - val_mse: 18806216.0000\n",
            "Epoch 8/100\n",
            "18/18 [==============================] - 1s 44ms/step - loss: 511.6109 - mae: 511.6109 - mse: 1302832.6250 - val_loss: 3163.7100 - val_mae: 3163.7100 - val_mse: 17770358.0000\n",
            "Epoch 9/100\n",
            "18/18 [==============================] - 1s 43ms/step - loss: 493.3670 - mae: 493.3670 - mse: 1217103.7500 - val_loss: 3109.4207 - val_mae: 3109.4207 - val_mse: 17463180.0000\n",
            "Epoch 10/100\n",
            "18/18 [==============================] - 0s 7ms/step - loss: 476.8621 - mae: 476.8621 - mse: 1179622.5000 - val_loss: 3172.1201 - val_mae: 3172.1201 - val_mse: 17854538.0000\n",
            "Epoch 11/100\n",
            "18/18 [==============================] - 0s 6ms/step - loss: 472.0708 - mae: 472.0708 - mse: 1130521.1250 - val_loss: 3119.4927 - val_mae: 3119.4927 - val_mse: 17586700.0000\n",
            "Epoch 12/100\n",
            "18/18 [==============================] - 1s 49ms/step - loss: 468.7151 - mae: 468.7151 - mse: 1110618.3750 - val_loss: 2962.2747 - val_mae: 2962.2747 - val_mse: 15698568.0000\n",
            "Epoch 13/100\n",
            "18/18 [==============================] - 0s 7ms/step - loss: 466.5736 - mae: 466.5736 - mse: 1109945.3750 - val_loss: 3140.4353 - val_mae: 3140.4353 - val_mse: 17544902.0000\n",
            "Epoch 14/100\n",
            "18/18 [==============================] - 0s 7ms/step - loss: 452.7205 - mae: 452.7205 - mse: 1048193.0000 - val_loss: 3002.0046 - val_mae: 3002.0046 - val_mse: 16337188.0000\n",
            "Epoch 15/100\n",
            "18/18 [==============================] - 1s 45ms/step - loss: 443.4390 - mae: 443.4390 - mse: 1024549.5625 - val_loss: 2931.7083 - val_mae: 2931.7083 - val_mse: 15735923.0000\n",
            "Epoch 16/100\n",
            "18/18 [==============================] - 1s 41ms/step - loss: 438.3694 - mae: 438.3694 - mse: 999803.6250 - val_loss: 2814.7383 - val_mae: 2814.7383 - val_mse: 14449237.0000\n",
            "Epoch 17/100\n",
            "18/18 [==============================] - 0s 6ms/step - loss: 434.7627 - mae: 434.7627 - mse: 986387.5625 - val_loss: 2823.2759 - val_mae: 2823.2759 - val_mse: 14649512.0000\n",
            "Epoch 18/100\n",
            "18/18 [==============================] - 0s 5ms/step - loss: 431.4122 - mae: 431.4122 - mse: 969977.2500 - val_loss: 2960.6440 - val_mae: 2960.6440 - val_mse: 16058836.0000\n",
            "Epoch 19/100\n",
            "18/18 [==============================] - 1s 45ms/step - loss: 429.1509 - mae: 429.1509 - mse: 945260.5625 - val_loss: 2773.7705 - val_mae: 2773.7705 - val_mse: 14165341.0000\n",
            "Epoch 20/100\n",
            "18/18 [==============================] - 0s 5ms/step - loss: 425.8672 - mae: 425.8672 - mse: 948079.9375 - val_loss: 2796.6428 - val_mae: 2796.6428 - val_mse: 14330660.0000\n",
            "Epoch 21/100\n",
            "18/18 [==============================] - 0s 6ms/step - loss: 427.4964 - mae: 427.4964 - mse: 932189.8750 - val_loss: 3107.3093 - val_mae: 3107.3093 - val_mse: 17434572.0000\n",
            "Epoch 22/100\n",
            "18/18 [==============================] - 0s 5ms/step - loss: 438.1385 - mae: 438.1385 - mse: 965836.6875 - val_loss: 2844.9480 - val_mae: 2844.9480 - val_mse: 14895109.0000\n",
            "Epoch 23/100\n",
            "18/18 [==============================] - 1s 41ms/step - loss: 421.1073 - mae: 421.1073 - mse: 914961.1250 - val_loss: 2738.0537 - val_mae: 2738.0537 - val_mse: 13631626.0000\n",
            "Epoch 24/100\n",
            "18/18 [==============================] - 0s 4ms/step - loss: 419.9872 - mae: 419.9872 - mse: 921184.3125 - val_loss: 2909.6038 - val_mae: 2909.6038 - val_mse: 15673412.0000\n",
            "Epoch 25/100\n",
            "18/18 [==============================] - 0s 5ms/step - loss: 419.3285 - mae: 419.3285 - mse: 903948.6250 - val_loss: 2753.9749 - val_mae: 2753.9749 - val_mse: 13937651.0000\n",
            "Epoch 26/100\n",
            "18/18 [==============================] - 0s 5ms/step - loss: 411.2197 - mae: 411.2197 - mse: 886612.5000 - val_loss: 2746.0156 - val_mae: 2746.0154 - val_mse: 13736904.0000\n",
            "Epoch 27/100\n",
            "18/18 [==============================] - 0s 5ms/step - loss: 416.9332 - mae: 416.9332 - mse: 867013.8750 - val_loss: 2794.4902 - val_mae: 2794.4902 - val_mse: 13890350.0000\n",
            "Epoch 28/100\n",
            "18/18 [==============================] - 0s 4ms/step - loss: 419.5586 - mae: 419.5586 - mse: 882679.8750 - val_loss: 2747.2163 - val_mae: 2747.2163 - val_mse: 13836667.0000\n",
            "Epoch 29/100\n",
            "18/18 [==============================] - 1s 41ms/step - loss: 406.4896 - mae: 406.4896 - mse: 863666.6875 - val_loss: 2711.6272 - val_mae: 2711.6272 - val_mse: 13483990.0000\n",
            "Epoch 30/100\n",
            "18/18 [==============================] - 1s 39ms/step - loss: 408.4589 - mae: 408.4589 - mse: 871270.2500 - val_loss: 2676.3428 - val_mae: 2676.3428 - val_mse: 12916024.0000\n",
            "Epoch 31/100\n",
            "18/18 [==============================] - 0s 5ms/step - loss: 414.3072 - mae: 414.3072 - mse: 845317.3125 - val_loss: 3076.1887 - val_mae: 3076.1887 - val_mse: 16971268.0000\n",
            "Epoch 32/100\n",
            "18/18 [==============================] - 0s 5ms/step - loss: 410.0929 - mae: 410.0929 - mse: 868223.1250 - val_loss: 2687.6636 - val_mae: 2687.6636 - val_mse: 12927609.0000\n",
            "Epoch 33/100\n",
            "18/18 [==============================] - 1s 59ms/step - loss: 406.7194 - mae: 406.7194 - mse: 850818.7500 - val_loss: 2653.9570 - val_mae: 2653.9570 - val_mse: 12740777.0000\n",
            "Epoch 34/100\n",
            "18/18 [==============================] - 0s 5ms/step - loss: 416.0569 - mae: 416.0569 - mse: 863464.3125 - val_loss: 2797.6101 - val_mae: 2797.6101 - val_mse: 14496871.0000\n",
            "Epoch 35/100\n",
            "18/18 [==============================] - 0s 6ms/step - loss: 404.4102 - mae: 404.4102 - mse: 833221.1875 - val_loss: 2702.9714 - val_mae: 2702.9714 - val_mse: 13484872.0000\n",
            "Epoch 36/100\n",
            "18/18 [==============================] - 0s 5ms/step - loss: 393.7183 - mae: 393.7183 - mse: 813183.8750 - val_loss: 2670.5691 - val_mae: 2670.5691 - val_mse: 13267374.0000\n",
            "Epoch 37/100\n",
            "18/18 [==============================] - 0s 5ms/step - loss: 394.8597 - mae: 394.8597 - mse: 809410.5625 - val_loss: 2688.8037 - val_mae: 2688.8037 - val_mse: 13451514.0000\n",
            "Epoch 38/100\n",
            "18/18 [==============================] - 0s 5ms/step - loss: 394.3913 - mae: 394.3913 - mse: 807725.9375 - val_loss: 2717.9087 - val_mae: 2717.9087 - val_mse: 13584380.0000\n",
            "Epoch 39/100\n",
            "18/18 [==============================] - 0s 6ms/step - loss: 395.9766 - mae: 395.9766 - mse: 814972.0000 - val_loss: 2789.0847 - val_mae: 2789.0847 - val_mse: 14467520.0000\n",
            "Epoch 40/100\n",
            "18/18 [==============================] - 1s 41ms/step - loss: 402.0437 - mae: 402.0437 - mse: 811993.0000 - val_loss: 2649.1501 - val_mae: 2649.1501 - val_mse: 13028449.0000\n",
            "Epoch 41/100\n",
            "18/18 [==============================] - 0s 5ms/step - loss: 397.6583 - mae: 397.6583 - mse: 806631.0625 - val_loss: 2757.0022 - val_mae: 2757.0022 - val_mse: 13920460.0000\n",
            "Epoch 42/100\n",
            "18/18 [==============================] - 1s 46ms/step - loss: 386.4991 - mae: 386.4991 - mse: 777673.5625 - val_loss: 2607.9636 - val_mae: 2607.9636 - val_mse: 12520147.0000\n",
            "Epoch 43/100\n",
            "18/18 [==============================] - 0s 7ms/step - loss: 390.1303 - mae: 390.1303 - mse: 775954.3125 - val_loss: 2667.6467 - val_mae: 2667.6467 - val_mse: 13219869.0000\n",
            "Epoch 44/100\n",
            "18/18 [==============================] - 1s 46ms/step - loss: 394.6549 - mae: 394.6549 - mse: 800853.3125 - val_loss: 2589.7737 - val_mae: 2589.7737 - val_mse: 12330736.0000\n",
            "Epoch 45/100\n",
            "18/18 [==============================] - 0s 7ms/step - loss: 387.9268 - mae: 387.9268 - mse: 770841.3125 - val_loss: 2597.2932 - val_mae: 2597.2932 - val_mse: 12534352.0000\n",
            "Epoch 46/100\n",
            "18/18 [==============================] - 0s 6ms/step - loss: 383.1067 - mae: 383.1067 - mse: 761111.0000 - val_loss: 2772.9229 - val_mae: 2772.9229 - val_mse: 14151810.0000\n",
            "Epoch 47/100\n",
            "18/18 [==============================] - 0s 6ms/step - loss: 391.0794 - mae: 391.0794 - mse: 769445.5000 - val_loss: 2603.6292 - val_mae: 2603.6292 - val_mse: 12617205.0000\n",
            "Epoch 48/100\n",
            "18/18 [==============================] - 1s 45ms/step - loss: 382.4382 - mae: 382.4382 - mse: 767965.5000 - val_loss: 2567.2454 - val_mae: 2567.2454 - val_mse: 12113070.0000\n",
            "Epoch 49/100\n",
            "18/18 [==============================] - 1s 44ms/step - loss: 387.2859 - mae: 387.2859 - mse: 764724.6875 - val_loss: 2552.9199 - val_mae: 2552.9199 - val_mse: 12040855.0000\n",
            "Epoch 50/100\n",
            "18/18 [==============================] - 0s 7ms/step - loss: 383.7791 - mae: 383.7791 - mse: 770790.0625 - val_loss: 2579.8853 - val_mae: 2579.8853 - val_mse: 12169257.0000\n",
            "Epoch 51/100\n",
            "18/18 [==============================] - 0s 5ms/step - loss: 395.9416 - mae: 395.9416 - mse: 772783.3125 - val_loss: 2721.6301 - val_mae: 2721.6301 - val_mse: 13333870.0000\n",
            "Epoch 52/100\n",
            "18/18 [==============================] - 0s 5ms/step - loss: 384.2301 - mae: 384.2301 - mse: 755858.6875 - val_loss: 2605.2598 - val_mae: 2605.2598 - val_mse: 12399838.0000\n",
            "Epoch 53/100\n",
            "18/18 [==============================] - 1s 46ms/step - loss: 381.8256 - mae: 381.8256 - mse: 745889.5000 - val_loss: 2548.1379 - val_mae: 2548.1379 - val_mse: 11891109.0000\n",
            "Epoch 54/100\n",
            "18/18 [==============================] - 0s 6ms/step - loss: 378.5622 - mae: 378.5622 - mse: 747696.5625 - val_loss: 2706.0071 - val_mae: 2706.0071 - val_mse: 13165092.0000\n",
            "Epoch 55/100\n",
            "18/18 [==============================] - 1s 48ms/step - loss: 383.9926 - mae: 383.9926 - mse: 754434.1250 - val_loss: 2524.4314 - val_mae: 2524.4314 - val_mse: 11728403.0000\n",
            "Epoch 56/100\n",
            "18/18 [==============================] - 0s 6ms/step - loss: 386.0373 - mae: 386.0373 - mse: 754505.2500 - val_loss: 2671.2065 - val_mae: 2671.2065 - val_mse: 12983939.0000\n",
            "Epoch 57/100\n",
            "18/18 [==============================] - 0s 7ms/step - loss: 383.2181 - mae: 383.2181 - mse: 751664.8125 - val_loss: 2816.3760 - val_mae: 2816.3760 - val_mse: 14470537.0000\n",
            "Epoch 58/100\n",
            "18/18 [==============================] - 0s 6ms/step - loss: 383.3667 - mae: 383.3667 - mse: 742495.7500 - val_loss: 2664.2004 - val_mae: 2664.2004 - val_mse: 12855366.0000\n",
            "Epoch 59/100\n",
            "18/18 [==============================] - 0s 5ms/step - loss: 378.8428 - mae: 378.8428 - mse: 735171.5625 - val_loss: 2543.2793 - val_mae: 2543.2793 - val_mse: 11891067.0000\n",
            "Epoch 60/100\n",
            "18/18 [==============================] - 0s 6ms/step - loss: 379.0701 - mae: 379.0701 - mse: 740357.3125 - val_loss: 2604.7461 - val_mae: 2604.7461 - val_mse: 12592934.0000\n",
            "Epoch 61/100\n",
            "18/18 [==============================] - 0s 5ms/step - loss: 374.5856 - mae: 374.5856 - mse: 723572.9375 - val_loss: 2550.9165 - val_mae: 2550.9165 - val_mse: 11765729.0000\n",
            "Epoch 62/100\n",
            "18/18 [==============================] - 0s 5ms/step - loss: 377.8751 - mae: 377.8751 - mse: 706359.2500 - val_loss: 2538.4924 - val_mae: 2538.4924 - val_mse: 11680583.0000\n",
            "Epoch 63/100\n",
            "18/18 [==============================] - 0s 6ms/step - loss: 386.9424 - mae: 386.9424 - mse: 754016.9375 - val_loss: 2616.8252 - val_mae: 2616.8252 - val_mse: 12526801.0000\n",
            "Epoch 64/100\n",
            "18/18 [==============================] - 0s 7ms/step - loss: 377.3057 - mae: 377.3057 - mse: 720621.3125 - val_loss: 2538.6582 - val_mae: 2538.6582 - val_mse: 11870597.0000\n",
            "Epoch 65/100\n",
            "18/18 [==============================] - 0s 6ms/step - loss: 378.1445 - mae: 378.1445 - mse: 731196.3750 - val_loss: 2594.4375 - val_mae: 2594.4375 - val_mse: 12301130.0000\n",
            "Epoch 66/100\n",
            "18/18 [==============================] - 0s 5ms/step - loss: 381.3164 - mae: 381.3164 - mse: 724467.6250 - val_loss: 2594.4075 - val_mae: 2594.4075 - val_mse: 12146674.0000\n",
            "Epoch 67/100\n",
            "18/18 [==============================] - 0s 7ms/step - loss: 376.8871 - mae: 376.8871 - mse: 719282.8750 - val_loss: 2556.1768 - val_mae: 2556.1768 - val_mse: 12136582.0000\n",
            "Epoch 68/100\n",
            "18/18 [==============================] - 1s 44ms/step - loss: 371.8752 - mae: 371.8752 - mse: 706382.3750 - val_loss: 2514.4290 - val_mae: 2514.4290 - val_mse: 11534312.0000\n",
            "Epoch 69/100\n",
            "18/18 [==============================] - 0s 5ms/step - loss: 379.6299 - mae: 379.6299 - mse: 732388.5625 - val_loss: 2751.3831 - val_mae: 2751.3831 - val_mse: 13859741.0000\n",
            "Epoch 70/100\n",
            "18/18 [==============================] - 0s 5ms/step - loss: 382.0551 - mae: 382.0551 - mse: 737210.8125 - val_loss: 2815.9341 - val_mae: 2815.9341 - val_mse: 14014402.0000\n",
            "Epoch 71/100\n",
            "18/18 [==============================] - 0s 5ms/step - loss: 380.3035 - mae: 380.3035 - mse: 735877.9375 - val_loss: 2762.9331 - val_mae: 2762.9331 - val_mse: 14079336.0000\n",
            "Epoch 72/100\n",
            "18/18 [==============================] - 0s 5ms/step - loss: 376.9487 - mae: 376.9487 - mse: 715687.5000 - val_loss: 2811.4351 - val_mae: 2811.4351 - val_mse: 14447301.0000\n",
            "Epoch 73/100\n",
            "18/18 [==============================] - 1s 41ms/step - loss: 369.0461 - mae: 369.0461 - mse: 697212.1250 - val_loss: 2504.6455 - val_mae: 2504.6455 - val_mse: 11541580.0000\n",
            "Epoch 74/100\n",
            "18/18 [==============================] - 0s 7ms/step - loss: 374.0121 - mae: 374.0121 - mse: 710385.8750 - val_loss: 2732.8928 - val_mae: 2732.8928 - val_mse: 13432530.0000\n",
            "Epoch 75/100\n",
            "18/18 [==============================] - 0s 6ms/step - loss: 379.7962 - mae: 379.7962 - mse: 708301.6250 - val_loss: 2553.3652 - val_mae: 2553.3652 - val_mse: 11793419.0000\n",
            "Epoch 76/100\n",
            "18/18 [==============================] - 0s 5ms/step - loss: 374.8018 - mae: 374.8018 - mse: 709240.3125 - val_loss: 2507.8123 - val_mae: 2507.8123 - val_mse: 11464282.0000\n",
            "Epoch 77/100\n",
            "18/18 [==============================] - 1s 42ms/step - loss: 371.2938 - mae: 371.2938 - mse: 708624.8750 - val_loss: 2502.2883 - val_mae: 2502.2883 - val_mse: 11575646.0000\n",
            "Epoch 78/100\n",
            "18/18 [==============================] - 0s 7ms/step - loss: 371.0590 - mae: 371.0590 - mse: 705275.8125 - val_loss: 2622.9375 - val_mae: 2622.9375 - val_mse: 12436033.0000\n",
            "Epoch 79/100\n",
            "18/18 [==============================] - 0s 6ms/step - loss: 371.9386 - mae: 371.9386 - mse: 708489.8125 - val_loss: 2792.9136 - val_mae: 2792.9136 - val_mse: 14433150.0000\n",
            "Epoch 80/100\n",
            "18/18 [==============================] - 0s 7ms/step - loss: 369.3760 - mae: 369.3760 - mse: 696220.1250 - val_loss: 2511.1301 - val_mae: 2511.1301 - val_mse: 11461450.0000\n",
            "Epoch 81/100\n",
            "18/18 [==============================] - 0s 6ms/step - loss: 374.5069 - mae: 374.5069 - mse: 717705.1250 - val_loss: 2767.1096 - val_mae: 2767.1096 - val_mse: 13763236.0000\n",
            "Epoch 82/100\n",
            "18/18 [==============================] - 0s 4ms/step - loss: 367.9659 - mae: 367.9659 - mse: 681020.0000 - val_loss: 2631.0806 - val_mae: 2631.0806 - val_mse: 12876689.0000\n",
            "Epoch 83/100\n",
            "18/18 [==============================] - 0s 5ms/step - loss: 376.7571 - mae: 376.7571 - mse: 698289.0625 - val_loss: 2531.7070 - val_mae: 2531.7070 - val_mse: 11595017.0000\n",
            "Epoch 84/100\n",
            "18/18 [==============================] - 0s 6ms/step - loss: 387.1236 - mae: 387.1236 - mse: 731288.3750 - val_loss: 2712.4019 - val_mae: 2712.4019 - val_mse: 13096911.0000\n",
            "Epoch 85/100\n",
            "18/18 [==============================] - 1s 42ms/step - loss: 369.2806 - mae: 369.2806 - mse: 680534.7500 - val_loss: 2483.0513 - val_mae: 2483.0513 - val_mse: 11275552.0000\n",
            "Epoch 86/100\n",
            "18/18 [==============================] - 0s 5ms/step - loss: 367.7156 - mae: 367.7156 - mse: 692919.8750 - val_loss: 2589.8562 - val_mae: 2589.8562 - val_mse: 12340041.0000\n",
            "Epoch 87/100\n",
            "18/18 [==============================] - 0s 6ms/step - loss: 373.8727 - mae: 373.8727 - mse: 708250.0000 - val_loss: 2541.6550 - val_mae: 2541.6550 - val_mse: 11535611.0000\n",
            "Epoch 88/100\n",
            "18/18 [==============================] - 0s 5ms/step - loss: 372.6265 - mae: 372.6265 - mse: 712027.5000 - val_loss: 2743.5696 - val_mae: 2743.5696 - val_mse: 13677874.0000\n",
            "Epoch 89/100\n",
            "18/18 [==============================] - 0s 7ms/step - loss: 371.8912 - mae: 371.8912 - mse: 692191.1250 - val_loss: 2562.6956 - val_mae: 2562.6956 - val_mse: 11667653.0000\n",
            "Epoch 90/100\n",
            "18/18 [==============================] - 0s 5ms/step - loss: 370.3082 - mae: 370.3082 - mse: 681937.0000 - val_loss: 2590.9067 - val_mae: 2590.9067 - val_mse: 12383576.0000\n",
            "Epoch 91/100\n",
            "18/18 [==============================] - 0s 6ms/step - loss: 365.8905 - mae: 365.8905 - mse: 685956.2500 - val_loss: 2535.8420 - val_mae: 2535.8420 - val_mse: 11771216.0000\n",
            "Epoch 92/100\n",
            "18/18 [==============================] - 0s 6ms/step - loss: 364.1819 - mae: 364.1819 - mse: 692581.6875 - val_loss: 2521.2246 - val_mae: 2521.2246 - val_mse: 11639575.0000\n",
            "Epoch 93/100\n",
            "18/18 [==============================] - 0s 5ms/step - loss: 363.8029 - mae: 363.8029 - mse: 685910.7500 - val_loss: 2599.6860 - val_mae: 2599.6860 - val_mse: 12340874.0000\n",
            "Epoch 94/100\n",
            "18/18 [==============================] - 0s 5ms/step - loss: 368.1844 - mae: 368.1844 - mse: 691065.4375 - val_loss: 2593.7417 - val_mae: 2593.7417 - val_mse: 11824785.0000\n",
            "Epoch 95/100\n",
            "18/18 [==============================] - 0s 5ms/step - loss: 366.2000 - mae: 366.2000 - mse: 691628.6875 - val_loss: 2573.4905 - val_mae: 2573.4905 - val_mse: 12035904.0000\n",
            "Epoch 96/100\n",
            "18/18 [==============================] - 1s 44ms/step - loss: 361.5845 - mae: 361.5845 - mse: 676948.3125 - val_loss: 2470.5376 - val_mae: 2470.5376 - val_mse: 11261931.0000\n",
            "Epoch 97/100\n",
            "18/18 [==============================] - 0s 5ms/step - loss: 366.9054 - mae: 366.9054 - mse: 686708.0625 - val_loss: 2569.6379 - val_mae: 2569.6379 - val_mse: 12015157.0000\n",
            "Epoch 98/100\n",
            "18/18 [==============================] - 0s 5ms/step - loss: 364.6415 - mae: 364.6415 - mse: 690996.7500 - val_loss: 2802.3821 - val_mae: 2802.3821 - val_mse: 14247675.0000\n",
            "Epoch 99/100\n",
            "18/18 [==============================] - 0s 7ms/step - loss: 377.2587 - mae: 377.2587 - mse: 706933.3125 - val_loss: 2484.3235 - val_mae: 2484.3235 - val_mse: 11350710.0000\n",
            "Epoch 100/100\n",
            "18/18 [==============================] - 0s 7ms/step - loss: 361.5438 - mae: 361.5438 - mse: 668682.7500 - val_loss: 2565.8938 - val_mae: 2565.8938 - val_mse: 11962635.0000\n"
          ]
        }
      ]
    },
    {
      "cell_type": "code",
      "source": [
        "model_3.evaluate(test_windows, test_labels)"
      ],
      "metadata": {
        "colab": {
          "base_uri": "https://localhost:8080/"
        },
        "id": "RikGoW1cHB8m",
        "outputId": "ceaa2f06-e4ec-4e1b-9b06-f9b1bff726c0"
      },
      "execution_count": 164,
      "outputs": [
        {
          "output_type": "stream",
          "name": "stdout",
          "text": [
            "18/18 [==============================] - 0s 4ms/step - loss: 2565.8938 - mae: 2565.8938 - mse: 11962637.0000\n"
          ]
        },
        {
          "output_type": "execute_result",
          "data": {
            "text/plain": [
              "[2565.893798828125, 2565.893798828125, 11962637.0]"
            ]
          },
          "metadata": {},
          "execution_count": 164
        }
      ]
    },
    {
      "cell_type": "code",
      "source": [
        "model_3_checkpoint= tf.keras.models.load_model('/content/model_experiments/model_3_dense/')\n",
        "model_3_checkpoint"
      ],
      "metadata": {
        "colab": {
          "base_uri": "https://localhost:8080/"
        },
        "id": "H6622VFtHiA4",
        "outputId": "47d760ff-3123-4cee-d8a5-f5132e6f00a2"
      },
      "execution_count": 167,
      "outputs": [
        {
          "output_type": "execute_result",
          "data": {
            "text/plain": [
              "<keras.engine.functional.Functional at 0x7f5e8e80d450>"
            ]
          },
          "metadata": {},
          "execution_count": 167
        }
      ]
    },
    {
      "cell_type": "code",
      "source": [
        "model_3_checkpoint.evaluate(test_windows, test_labels)"
      ],
      "metadata": {
        "colab": {
          "base_uri": "https://localhost:8080/"
        },
        "id": "TLjrQNwGHqG6",
        "outputId": "9a422f08-8444-47a6-d111-4e60b035d388"
      },
      "execution_count": 168,
      "outputs": [
        {
          "output_type": "stream",
          "name": "stdout",
          "text": [
            "18/18 [==============================] - 0s 2ms/step - loss: 2470.5374 - mae: 2470.5374 - mse: 11261932.0000\n"
          ]
        },
        {
          "output_type": "execute_result",
          "data": {
            "text/plain": [
              "[2470.537353515625, 2470.537353515625, 11261932.0]"
            ]
          },
          "metadata": {},
          "execution_count": 168
        }
      ]
    },
    {
      "cell_type": "code",
      "source": [
        "model_3_preds= make_preds(model_3_checkpoint, test_windows)\n",
        "model_3_preds[:5]"
      ],
      "metadata": {
        "colab": {
          "base_uri": "https://localhost:8080/"
        },
        "id": "teIOfaI4Huyp",
        "outputId": "efe040eb-1f14-4927-aca9-a5177754b925"
      },
      "execution_count": 174,
      "outputs": [
        {
          "output_type": "execute_result",
          "data": {
            "text/plain": [
              "<tf.Tensor: shape=(5, 7), dtype=float64, numpy=\n",
              "array([[39391.3359375 , 38905.453125  , 38643.375     , 39459.97265625,\n",
              "        39245.21875   , 39422.51171875, 40453.09765625],\n",
              "       [43306.88671875, 44539.47265625, 44152.9375    , 43784.484375  ,\n",
              "        44863.99609375, 44530.0078125 , 46048.55859375],\n",
              "       [46254.8203125 , 46800.98828125, 47459.359375  , 47115.82421875,\n",
              "        48074.0546875 , 47815.16015625, 47357.79296875],\n",
              "       [45553.03515625, 47131.28125   , 47272.1796875 , 46980.6640625 ,\n",
              "        48514.99609375, 47631.65234375, 48072.16015625],\n",
              "       [47523.60546875, 47858.64453125, 48472.76953125, 49109.3671875 ,\n",
              "        49184.95703125, 49823.3125    , 50444.80859375]])>"
            ]
          },
          "metadata": {},
          "execution_count": 174
        }
      ]
    },
    {
      "cell_type": "code",
      "source": [
        "test_labels.shape"
      ],
      "metadata": {
        "colab": {
          "base_uri": "https://localhost:8080/"
        },
        "id": "X6rWTndRJNI8",
        "outputId": "3efc134f-d674-4574-fc0d-568703490f61"
      },
      "execution_count": 177,
      "outputs": [
        {
          "output_type": "execute_result",
          "data": {
            "text/plain": [
              "(569, 7)"
            ]
          },
          "metadata": {},
          "execution_count": 177
        }
      ]
    },
    {
      "cell_type": "code",
      "source": [
        "tf.squeeze(test_labels).shape"
      ],
      "metadata": {
        "colab": {
          "base_uri": "https://localhost:8080/"
        },
        "id": "rubYCeidJS7g",
        "outputId": "e0a55084-8d66-4423-b33f-9428b14af90e"
      },
      "execution_count": 179,
      "outputs": [
        {
          "output_type": "execute_result",
          "data": {
            "text/plain": [
              "TensorShape([569, 7])"
            ]
          },
          "metadata": {},
          "execution_count": 179
        }
      ]
    },
    {
      "cell_type": "code",
      "source": [
        "model_3_preds.shape"
      ],
      "metadata": {
        "colab": {
          "base_uri": "https://localhost:8080/"
        },
        "id": "HyeGMqQ1JPEO",
        "outputId": "d0df3dee-16e4-4f04-999c-5a0af025acc1"
      },
      "execution_count": 178,
      "outputs": [
        {
          "output_type": "execute_result",
          "data": {
            "text/plain": [
              "TensorShape([569, 7])"
            ]
          },
          "metadata": {},
          "execution_count": 178
        }
      ]
    },
    {
      "cell_type": "code",
      "source": [
        "# model_3_results_old= evaluate_preds(tf.squeeze(test_labels), model_3_preds)\n",
        "# model_3_results_old"
      ],
      "metadata": {
        "colab": {
          "base_uri": "https://localhost:8080/"
        },
        "id": "GYK2x67UHzSW",
        "outputId": "3ba3dd59-4697-4844-b733-35551dd3f69e"
      },
      "execution_count": 181,
      "outputs": [
        {
          "output_type": "execute_result",
          "data": {
            "text/plain": [
              "{'mae': 2470.537574733712,\n",
              " 'mse': 11261931.26554206,\n",
              " 'rmse': 2827.401369810651,\n",
              " 'mape': 6.019812457775641,\n",
              " 'mase': 2.1442275130274777}"
            ]
          },
          "metadata": {},
          "execution_count": 181
        }
      ]
    },
    {
      "cell_type": "markdown",
      "source": [
        "## Updated `evaluate_preds` function to calculate/work with multiple shapes of data."
      ],
      "metadata": {
        "id": "Ej4t4hUkJ4bn"
      }
    },
    {
      "cell_type": "code",
      "source": [
        "def evaluate_preds(y_true, y_pred):\n",
        "  # Make sure float32 (for metric calculations)\n",
        "  # y_true = tf.cast(y_true, dtype=tf.float32)\n",
        "  # y_pred = tf.cast(y_pred, dtype=tf.float32)\n",
        "\n",
        "  # Calculate various metrics\n",
        "  mae = tf.keras.metrics.mean_absolute_error(y_true, y_pred)\n",
        "  mse = tf.keras.metrics.mean_squared_error(y_true, y_pred)\n",
        "  rmse = tf.sqrt(mse)\n",
        "  mape = tf.keras.metrics.mean_absolute_percentage_error(y_true, y_pred)\n",
        "  mase = mean_absolute_scaled_error(y_true, y_pred)\n",
        "\n",
        "  # Account for different sized metrics (for longer horizons, reduce to single number)\n",
        "  if mae.ndim > 0: # if mae isn't already a scalar, reduce it to one by aggregating tensors to mean\n",
        "    mae = tf.reduce_mean(mae)\n",
        "    mse = tf.reduce_mean(mse)\n",
        "    rmse = tf.reduce_mean(rmse)\n",
        "    mape = tf.reduce_mean(mape)\n",
        "    mase = tf.reduce_mean(mase)\n",
        "\n",
        "  return {\"mae\": mae.numpy(),\n",
        "          \"mse\": mse.numpy(),\n",
        "          \"rmse\": rmse.numpy(),\n",
        "          \"mape\": mape.numpy(),\n",
        "          \"mase\": mase.numpy()}"
      ],
      "metadata": {
        "id": "nc8_maAzH5w8"
      },
      "execution_count": 180,
      "outputs": []
    },
    {
      "cell_type": "code",
      "source": [
        "model_3_results= evaluate_preds(test_labels, model_3_preds)\n",
        "model_3_results"
      ],
      "metadata": {
        "colab": {
          "base_uri": "https://localhost:8080/"
        },
        "id": "ABm2-4fBKQkW",
        "outputId": "a1254443-994f-4cca-f15e-ecb0212cc8e3"
      },
      "execution_count": 182,
      "outputs": [
        {
          "output_type": "execute_result",
          "data": {
            "text/plain": [
              "{'mae': 2470.537574733712,\n",
              " 'mse': 11261931.26554206,\n",
              " 'rmse': 2827.401369810651,\n",
              " 'mape': 6.019812457775641,\n",
              " 'mase': 2.1442275130274777}"
            ]
          },
          "metadata": {},
          "execution_count": 182
        }
      ]
    },
    {
      "cell_type": "code",
      "source": [
        "model_2_results"
      ],
      "metadata": {
        "colab": {
          "base_uri": "https://localhost:8080/"
        },
        "id": "0HZ18mIGKcAx",
        "outputId": "bfb3ef3e-30c6-4341-f861-a317c445268a"
      },
      "execution_count": 183,
      "outputs": [
        {
          "output_type": "execute_result",
          "data": {
            "text/plain": [
              "{'mae': 1392.125215500219,\n",
              " 'mse': 3430078.10778425,\n",
              " 'rmse': 1852.0470047448175,\n",
              " 'mape': 3.3824104062040226,\n",
              " 'mase': 1.214584601495581}"
            ]
          },
          "metadata": {},
          "execution_count": 183
        }
      ]
    },
    {
      "cell_type": "code",
      "source": [],
      "metadata": {
        "id": "1GXyf0mwKe4O"
      },
      "execution_count": null,
      "outputs": []
    }
  ]
}